{
 "cells": [
  {
   "cell_type": "code",
   "execution_count": 3,
   "metadata": {},
   "outputs": [],
   "source": [
    "using TypedPolynomials"
   ]
  },
  {
   "cell_type": "code",
   "execution_count": 8,
   "metadata": {},
   "outputs": [
    {
     "data": {
      "text/plain": [
       "quote\n",
       "    x = TypedPolynomials.Variable{:x}()\n",
       "    y = TypedPolynomials.Variable{:y}()\n",
       "    z = TypedPolynomials.Variable{:z}()\n",
       "    (x, y, z)\n",
       "end"
      ]
     },
     "execution_count": 8,
     "metadata": {},
     "output_type": "execute_result"
    }
   ],
   "source": [
    "@macroexpand(@polyvar x y z)"
   ]
  },
  {
   "cell_type": "code",
   "execution_count": 21,
   "metadata": {},
   "outputs": [
    {
     "data": {
      "text/plain": [
       "quote\n",
       "    x = (TypedPolynomials.Variable{Symbol(\"x[1]\")}(), TypedPolynomials.Variable{Symbol(\"x[2]\")}(), TypedPolynomials.Variable{Symbol(\"x[3]\")}())\n",
       "    x\n",
       "end"
      ]
     },
     "execution_count": 21,
     "metadata": {},
     "output_type": "execute_result"
    }
   ],
   "source": [
    "@macroexpand(@polyvar x[1:3] )"
   ]
  },
  {
   "cell_type": "code",
   "execution_count": 4,
   "metadata": {},
   "outputs": [
    {
     "data": {
      "text/latex": [
       "$$ x $$"
      ],
      "text/plain": [
       "x"
      ]
     },
     "execution_count": 4,
     "metadata": {},
     "output_type": "execute_result"
    }
   ],
   "source": [
    "x = TypedPolynomials.Variable{:x}()"
   ]
  },
  {
   "cell_type": "code",
   "execution_count": 27,
   "metadata": {},
   "outputs": [
    {
     "ename": "StackOverflowError",
     "evalue": "StackOverflowError:",
     "output_type": "error",
     "traceback": [
      "StackOverflowError:",
      "",
      "Stacktrace:",
      " [1] promote_rule(::Type{Monomial{V,3} where V}, ::Type{Monomial{(a₁, x, y),3}}) at /home/philip/.julia/packages/MultivariatePolynomials/H6NUw/src/promote.jl:1",
      " [2] promote_type(::Type{Monomial{V,3} where V}, ::Type{Monomial{(a₁, x, y),3}}) at ./promotion.jl:223",
      " [3] promote_rule(::Type{Term{Int64,Monomial{V,3} where V}}, ::Type{Term{Int64,Monomial{(a₁, x, y),3}}}) at /home/philip/.julia/packages/TypedPolynomials/MgblR/src/promotion.jl:66",
      " [4] promote_type(::Type{Term{Int64,Monomial{V,3} where V}}, ::Type{Term{Int64,Monomial{(a₁, x, y),3}}}) at ./promotion.jl:223",
      " [5] promote_rule(::Type{Polynomial{Int64,Term{Int64,Monomial{V,3} where V},Array{Term{Int64,Monomial{V,3} where V},1}}}, ::Type{Polynomial{Int64,Term{Int64,Monomial{(a₁, x, y),3}},Array{Term{Int64,Monomial{(a₁, x, y),3}},1}}}) at /home/philip/.julia/packages/TypedPolynomials/MgblR/src/promotion.jl:77",
      " [6] promote_type(::Type{Polynomial{Int64,Term{Int64,Monomial{V,3} where V},Array{Term{Int64,Monomial{V,3} where V},1}}}, ::Type{Polynomial{Int64,Term{Int64,Monomial{(a₁, x, y),3}},Array{Term{Int64,Monomial{(a₁, x, y),3}},1}}}) at ./promotion.jl:223",
      " ... (the last 6 lines are repeated 13329 more times)",
      " [79981] promote_rule(::Type{Monomial{V,3} where V}, ::Type{Monomial{(a₁, x, y),3}}) at /home/philip/.julia/packages/MultivariatePolynomials/H6NUw/src/promote.jl:1",
      " [79982] promote_type(::Type{Monomial{V,3} where V}, ::Type{Monomial{(a₁, x, y),3}}) at ./promotion.jl:223",
      " [79983] promote_rule(::Type{Term{Int64,Monomial{V,3} where V}}, ::Type{Term{Int64,Monomial{(a₁, x, y),3}}}) at /home/philip/.julia/packages/TypedPolynomials/MgblR/src/promotion.jl:66"
     ]
    }
   ],
   "source": [
    "@polyvar x y\n",
    "\n",
    "@polyvar a[1:16]\n",
    "ms = [ x ^ n * y ^ m for n=0:3, m=0:3 ]\n",
    "\n",
    "bs =  ms .* reshape(collect(a), (4,4))\n",
    "\n",
    "\n",
    "sum(vec(bs))\n"
   ]
  },
  {
   "cell_type": "code",
   "execution_count": 19,
   "metadata": {},
   "outputs": [
    {
     "ename": "MethodError",
     "evalue": "MethodError: no method matching Array(::Tuple{Int64,Int64,Int64})\nClosest candidates are:\n  Array(!Matched::LinearAlgebra.SymTridiagonal) at /buildworker/worker/package_linux64/build/usr/share/julia/stdlib/v1.4/LinearAlgebra/src/tridiag.jl:111\n  Array(!Matched::LinearAlgebra.Tridiagonal) at /buildworker/worker/package_linux64/build/usr/share/julia/stdlib/v1.4/LinearAlgebra/src/tridiag.jl:528\n  Array(!Matched::LinearAlgebra.AbstractTriangular) at /buildworker/worker/package_linux64/build/usr/share/julia/stdlib/v1.4/LinearAlgebra/src/triangular.jl:162\n  ...",
     "output_type": "error",
     "traceback": [
      "MethodError: no method matching Array(::Tuple{Int64,Int64,Int64})\nClosest candidates are:\n  Array(!Matched::LinearAlgebra.SymTridiagonal) at /buildworker/worker/package_linux64/build/usr/share/julia/stdlib/v1.4/LinearAlgebra/src/tridiag.jl:111\n  Array(!Matched::LinearAlgebra.Tridiagonal) at /buildworker/worker/package_linux64/build/usr/share/julia/stdlib/v1.4/LinearAlgebra/src/tridiag.jl:528\n  Array(!Matched::LinearAlgebra.AbstractTriangular) at /buildworker/worker/package_linux64/build/usr/share/julia/stdlib/v1.4/LinearAlgebra/src/triangular.jl:162\n  ...",
      "",
      "Stacktrace:",
      " [1] top-level scope at In[19]:1"
     ]
    }
   ],
   "source": [
    "Array( (1,2,3) )"
   ]
  },
  {
   "cell_type": "code",
   "execution_count": 20,
   "metadata": {},
   "outputs": [
    {
     "name": "stdout",
     "output_type": "stream",
     "text": [
      "search: \u001b[0m\u001b[1mc\u001b[22m\u001b[0m\u001b[1mo\u001b[22m\u001b[0m\u001b[1ml\u001b[22m\u001b[0m\u001b[1ml\u001b[22m\u001b[0m\u001b[1me\u001b[22m\u001b[0m\u001b[1mc\u001b[22m\u001b[0m\u001b[1mt\u001b[22m\n",
      "\n"
     ]
    },
    {
     "data": {
      "text/latex": [
       "\\begin{verbatim}\n",
       "collect(element_type, collection)\n",
       "\\end{verbatim}\n",
       "Return an \\texttt{Array} with the given element type of all items in a collection or iterable. The result has the same shape and number of dimensions as \\texttt{collection}.\n",
       "\n",
       "\\section{Examples}\n",
       "\\begin{verbatim}\n",
       "julia> collect(Float64, 1:2:5)\n",
       "3-element Array{Float64,1}:\n",
       " 1.0\n",
       " 3.0\n",
       " 5.0\n",
       "\\end{verbatim}\n",
       "\\rule{\\textwidth}{1pt}\n",
       "\\begin{verbatim}\n",
       "collect(collection)\n",
       "\\end{verbatim}\n",
       "Return an \\texttt{Array} of all items in a collection or iterator. For dictionaries, returns \\texttt{Pair\\{KeyType, ValType\\}}. If the argument is array-like or is an iterator with the \\href{@ref IteratorSize}{\\texttt{HasShape}} trait, the result will have the same shape and number of dimensions as the argument.\n",
       "\n",
       "\\section{Examples}\n",
       "\\begin{verbatim}\n",
       "julia> collect(1:2:13)\n",
       "7-element Array{Int64,1}:\n",
       "  1\n",
       "  3\n",
       "  5\n",
       "  7\n",
       "  9\n",
       " 11\n",
       " 13\n",
       "\\end{verbatim}\n"
      ],
      "text/markdown": [
       "```\n",
       "collect(element_type, collection)\n",
       "```\n",
       "\n",
       "Return an `Array` with the given element type of all items in a collection or iterable. The result has the same shape and number of dimensions as `collection`.\n",
       "\n",
       "# Examples\n",
       "\n",
       "```jldoctest\n",
       "julia> collect(Float64, 1:2:5)\n",
       "3-element Array{Float64,1}:\n",
       " 1.0\n",
       " 3.0\n",
       " 5.0\n",
       "```\n",
       "\n",
       "---\n",
       "\n",
       "```\n",
       "collect(collection)\n",
       "```\n",
       "\n",
       "Return an `Array` of all items in a collection or iterator. For dictionaries, returns `Pair{KeyType, ValType}`. If the argument is array-like or is an iterator with the [`HasShape`](@ref IteratorSize) trait, the result will have the same shape and number of dimensions as the argument.\n",
       "\n",
       "# Examples\n",
       "\n",
       "```jldoctest\n",
       "julia> collect(1:2:13)\n",
       "7-element Array{Int64,1}:\n",
       "  1\n",
       "  3\n",
       "  5\n",
       "  7\n",
       "  9\n",
       " 11\n",
       " 13\n",
       "```\n"
      ],
      "text/plain": [
       "\u001b[36m  collect(element_type, collection)\u001b[39m\n",
       "\n",
       "  Return an \u001b[36mArray\u001b[39m with the given element type of all items in a collection or\n",
       "  iterable. The result has the same shape and number of dimensions as\n",
       "  \u001b[36mcollection\u001b[39m.\n",
       "\n",
       "\u001b[1m  Examples\u001b[22m\n",
       "\u001b[1m  ≡≡≡≡≡≡≡≡≡≡\u001b[22m\n",
       "\n",
       "\u001b[36m  julia> collect(Float64, 1:2:5)\u001b[39m\n",
       "\u001b[36m  3-element Array{Float64,1}:\u001b[39m\n",
       "\u001b[36m   1.0\u001b[39m\n",
       "\u001b[36m   3.0\u001b[39m\n",
       "\u001b[36m   5.0\u001b[39m\n",
       "\n",
       "  ────────────────────────────────────────────────────────────────────────────\n",
       "\n",
       "\u001b[36m  collect(collection)\u001b[39m\n",
       "\n",
       "  Return an \u001b[36mArray\u001b[39m of all items in a collection or iterator. For dictionaries,\n",
       "  returns \u001b[36mPair{KeyType, ValType}\u001b[39m. If the argument is array-like or is an\n",
       "  iterator with the \u001b[36mHasShape\u001b[39m trait, the result will have the same shape and\n",
       "  number of dimensions as the argument.\n",
       "\n",
       "\u001b[1m  Examples\u001b[22m\n",
       "\u001b[1m  ≡≡≡≡≡≡≡≡≡≡\u001b[22m\n",
       "\n",
       "\u001b[36m  julia> collect(1:2:13)\u001b[39m\n",
       "\u001b[36m  7-element Array{Int64,1}:\u001b[39m\n",
       "\u001b[36m    1\u001b[39m\n",
       "\u001b[36m    3\u001b[39m\n",
       "\u001b[36m    5\u001b[39m\n",
       "\u001b[36m    7\u001b[39m\n",
       "\u001b[36m    9\u001b[39m\n",
       "\u001b[36m   11\u001b[39m\n",
       "\u001b[36m   13\u001b[39m"
      ]
     },
     "execution_count": 20,
     "metadata": {},
     "output_type": "execute_result"
    }
   ],
   "source": [
    "? collect"
   ]
  },
  {
   "cell_type": "code",
   "execution_count": 15,
   "metadata": {},
   "outputs": [
    {
     "data": {
      "text/latex": [
       "$$ x^{2}yz $$"
      ],
      "text/plain": [
       "x²yz"
      ]
     },
     "execution_count": 15,
     "metadata": {},
     "output_type": "execute_result"
    }
   ],
   "source": [
    "p = x * y * z * x"
   ]
  },
  {
   "cell_type": "code",
   "execution_count": 16,
   "metadata": {},
   "outputs": [
    {
     "data": {
      "text/latex": [
       "$$ y^{3}z $$"
      ],
      "text/plain": [
       "y³z"
      ]
     },
     "execution_count": 16,
     "metadata": {},
     "output_type": "execute_result"
    }
   ],
   "source": [
    "p(x => y)"
   ]
  },
  {
   "cell_type": "code",
   "execution_count": 22,
   "metadata": {},
   "outputs": [
    {
     "data": {
      "text/latex": [
       "$$ x $$"
      ],
      "text/plain": [
       "x"
      ]
     },
     "execution_count": 22,
     "metadata": {},
     "output_type": "execute_result"
    }
   ],
   "source": [
    "gcd(p,x)"
   ]
  },
  {
   "cell_type": "code",
   "execution_count": 27,
   "metadata": {},
   "outputs": [
    {
     "data": {
      "text/plain": [
       "(yz, 0.0)"
      ]
     },
     "execution_count": 27,
     "metadata": {},
     "output_type": "execute_result"
    }
   ],
   "source": [
    "divrem(p,x*x)"
   ]
  },
  {
   "cell_type": "code",
   "execution_count": 28,
   "metadata": {},
   "outputs": [
    {
     "data": {
      "text/latex": [
       "$$ x^{2}z $$"
      ],
      "text/plain": [
       "x²z"
      ]
     },
     "execution_count": 28,
     "metadata": {},
     "output_type": "execute_result"
    }
   ],
   "source": [
    "div(p, y)"
   ]
  },
  {
   "cell_type": "code",
   "execution_count": 33,
   "metadata": {},
   "outputs": [
    {
     "data": {
      "text/plain": [
       "Polynomial{Float64,Term{Float64,Monomial{(x, y, z),3}},Array{Term{Float64,Monomial{(x, y, z),3}},1}}"
      ]
     },
     "execution_count": 33,
     "metadata": {},
     "output_type": "execute_result"
    }
   ],
   "source": [
    "typeof(x + y + 7.0*z*x)"
   ]
  },
  {
   "cell_type": "code",
   "execution_count": 34,
   "metadata": {},
   "outputs": [
    {
     "data": {
      "text/latex": [
       "$$ 2xyz $$"
      ],
      "text/plain": [
       "2xyz"
      ]
     },
     "execution_count": 34,
     "metadata": {},
     "output_type": "execute_result"
    }
   ],
   "source": [
    "differentiate(p, x)"
   ]
  },
  {
   "cell_type": "code",
   "execution_count": 35,
   "metadata": {},
   "outputs": [
    {
     "data": {
      "text/latex": [
       "$$ x^{2} + y^{2} - 1 $$"
      ],
      "text/plain": [
       "x² + y² - 1"
      ]
     },
     "execution_count": 35,
     "metadata": {},
     "output_type": "execute_result"
    }
   ],
   "source": [
    "x^2 + y^2 - 1"
   ]
  },
  {
   "cell_type": "code",
   "execution_count": 12,
   "metadata": {},
   "outputs": [
    {
     "ename": "ArgumentError",
     "evalue": "ArgumentError: Package DynamicPolynomials not found in current path:\n- Run `import Pkg; Pkg.add(\"DynamicPolynomials\")` to install the DynamicPolynomials package.\n",
     "output_type": "error",
     "traceback": [
      "ArgumentError: Package DynamicPolynomials not found in current path:\n- Run `import Pkg; Pkg.add(\"DynamicPolynomials\")` to install the DynamicPolynomials package.\n",
      "",
      "Stacktrace:",
      " [1] require(::Module, ::Symbol) at ./loading.jl:892",
      " [2] top-level scope at In[12]:1"
     ]
    }
   ],
   "source": [
    "using DynamicPolynomials"
   ]
  },
  {
   "cell_type": "code",
   "execution_count": null,
   "metadata": {},
   "outputs": [],
   "source": []
  },
  {
   "cell_type": "code",
   "execution_count": null,
   "metadata": {},
   "outputs": [],
   "source": []
  }
 ],
 "metadata": {
  "kernelspec": {
   "display_name": "Julia 1.4.1",
   "language": "julia",
   "name": "julia-1.4"
  },
  "language_info": {
   "file_extension": ".jl",
   "mimetype": "application/julia",
   "name": "julia",
   "version": "1.4.1"
  }
 },
 "nbformat": 4,
 "nbformat_minor": 4
}
