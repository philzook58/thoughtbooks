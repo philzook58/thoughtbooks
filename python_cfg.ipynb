{
 "cells": [
  {
   "cell_type": "code",
   "execution_count": 2,
   "metadata": {},
   "outputs": [],
   "source": []
  },
  {
   "cell_type": "code",
   "execution_count": 5,
   "metadata": {},
   "outputs": [
    {
     "name": "stdout",
     "output_type": "stream",
     "text": [
      "Defaulting to user installation because normal site-packages is not writeable\n",
      "Collecting pycfg\n",
      "  Downloading pycfg-0.1.tar.gz (6.6 kB)\n",
      "Building wheels for collected packages: pycfg\n",
      "  Building wheel for pycfg (setup.py) ... \u001b[?25ldone\n",
      "\u001b[?25h  Created wheel for pycfg: filename=pycfg-0.1-py3-none-any.whl size=8381 sha256=38419656e53ad2f7e137d3c8200dabe8a43f1baf00ba902ad1e51e908130d155\n",
      "  Stored in directory: /home/philip/.cache/pip/wheels/1a/75/27/13c3bee05ad189f1fc439e3d908e30ec0cdacf5aa1b7b3da07\n",
      "Successfully built pycfg\n",
      "Installing collected packages: pycfg\n",
      "Successfully installed pycfg-0.1\n",
      "\u001b[33mWARNING: You are using pip version 20.1.1; however, version 20.2 is available.\n",
      "You should consider upgrading via the '/usr/bin/python3 -m pip install --upgrade pip' command.\u001b[0m\n"
     ]
    }
   ],
   "source": [
    "import sys\n",
    "!{sys.executable} -m pip install pycfg"
   ]
  },
  {
   "cell_type": "code",
   "execution_count": null,
   "metadata": {},
   "outputs": [],
   "source": []
  }
 ],
 "metadata": {
  "kernelspec": {
   "display_name": "Python 3",
   "language": "python",
   "name": "python3"
  },
  "language_info": {
   "codemirror_mode": {
    "name": "ipython",
    "version": 3
   },
   "file_extension": ".py",
   "mimetype": "text/x-python",
   "name": "python",
   "nbconvert_exporter": "python",
   "pygments_lexer": "ipython3",
   "version": "3.6.9"
  }
 },
 "nbformat": 4,
 "nbformat_minor": 4
}
