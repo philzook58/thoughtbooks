{
 "cells": [
  {
   "cell_type": "markdown",
   "metadata": {},
   "source": [
    "I'm a clever lad, right?\n",
    "\n",
    "How hard would it be to make an HOL core\n",
    "\n",
    "\n",
    "why not have a theorem prover based around categorial ir rather than a pointful ir?\n",
    "\n",
    "\n",
    "\n",
    "https://www.cl.cam.ac.uk/~jrh13/hol-light/tutorial_220.pdf\n",
    "\n",
    "\n",
    "\n",
    "Y'know, the thing about julia is that it has a different focus than other languages\n",
    "The thing we're most interested in is numerics.\n",
    "Kind of makes something like keymaera x make sense. Whatever it is.\n",
    "\n",
    "\n",
    "Lambda calculus wiht pointers and mutation\n",
    "conor mcbride had that thing where at each bidning site, there was a map to all \n",
    "\n",
    "\n",
    "Lam [pointers] body - why not have pointers to all locations in body that variables is used.\n",
    "I guess with hash consing this becomes\n",
    "Nope this is a suytpid idead. What if lambda terms get copied? We need to copy the references.\n",
    "\n",
    "Turns lambda into graph. Maybe this is what graph rewriting is about\n",
    "\n",
    "app (Lam (Val) body) e = Let e body and all variable usage is a backpointer to the lambda site.\n",
    "\n",
    "ap (Lam (x) body) e = begin x := e; body end\n",
    "\n",
    "\n",
    "Lam Ref body = yada yada\n",
    "\n",
    "Lam Int body\n",
    "\n",
    "Int -> \n",
    "\n",
    "\n",
    "\n",
    "Foreign keys ~ pointers.\n",
    "Equaivalence relation\n",
    "\n",
    "\n",
    "\n"
   ]
  },
  {
   "cell_type": "markdown",
   "metadata": {},
   "source": [
    " a category of terms\n",
    " \n",
    " objects are variable sets.\n",
    " morphisms are subsititions, which can be stored in \"monadic\" form\n",
    " X -> Terms(Y)\n",
    " [ f(g(2)) , ... , ...   ] an array of X entries is a representiation\n",
    "  \n",
    "  \n",
    "  I've heard told the idea of terms as functors. That seems to be the gist of free algerbas.\n",
    "\n",
    "  Pointfree cartesian category expression of function symbols. \n",
    "  \"Variables\"\n",
    "  And then an outer layer of point free propositional logic\n",
    "  quantifiers somehow transfer between layers.\n",
    "  ~ 2 categoy?\n",
    "  \n",
    "  \n",
    "  "
   ]
  },
  {
   "cell_type": "code",
   "execution_count": null,
   "metadata": {},
   "outputs": [],
   "source": [
    "\n",
    "\n",
    "struct TVar\n",
    "end\n",
    "\n",
    "struct Term\n",
    "   head\n",
    "   args\n",
    "end\n",
    "\n",
    "\n",
    "s\n"
   ]
  }
 ],
 "metadata": {
  "kernelspec": {
   "display_name": "Julia 1.5.0",
   "language": "julia",
   "name": "julia-1.5"
  },
  "language_info": {
   "file_extension": ".jl",
   "mimetype": "application/julia",
   "name": "julia",
   "version": "1.5.0"
  }
 },
 "nbformat": 4,
 "nbformat_minor": 4
}
