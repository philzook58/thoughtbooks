{
 "cells": [
  {
   "cell_type": "code",
   "execution_count": null,
   "metadata": {},
   "outputs": [],
   "source": [
    "\n",
    "struct Lens\n",
    "  f :: Function\n",
    "end\n",
    "\n",
    "struct Lens\n",
    "    state # e\n",
    "    to  # s -> (e,a)\n",
    "    from # (e,a...) -> t\n",
    "end\n",
    "\n",
    "\n",
    "\n",
    "\n"
   ]
  },
  {
   "cell_type": "markdown",
   "metadata": {},
   "source": [
    "Dual numbers\n",
    "\n",
    "\n"
   ]
  },
  {
   "cell_type": "code",
   "execution_count": 3,
   "metadata": {},
   "outputs": [
    {
     "data": {
      "text/plain": [
       "pow (generic function with 1 method)"
      ]
     },
     "execution_count": 3,
     "metadata": {},
     "output_type": "execute_result"
    }
   ],
   "source": [
    "struct LensDomain\n",
    "     m::Int64\n",
    "end\n",
    "\n",
    "struct Lens \n",
    "    it\n",
    "    dom::LensDomain\n",
    "    cod::LensDomain\n",
    "end\n",
    "\n",
    "(f::Lens)(x) = f.it(x)\n",
    "\n",
    "\n",
    "\n",
    "id(A::LensDomain) = Lens(x -> (x, dx -> dx), A, A)\n",
    "fst(A::LensDomain,B::LensDomain) = Lens(x -> (x[1:A.m] , dx -> vcat( dx , zeros(B.m)  )), oplus(A,B), A)\n",
    "snd(A::LensDomain,B::LensDomain) = Lens(x -> (x[end-B.m:end] , dx -> vcat( zeros(B.m) , dx )), oplus(A,B), B)\n",
    "function pair(f::Lens,g::Lens)\n",
    "    @assert f.dom == g.dom\n",
    "    x -> begin\n",
    "    (y, df) = f(x)\n",
    "    (z, dg) = g(x)\n",
    "    (vcat(y,z), dq -> df(dq[1:f.cod]) + dg(dq[end-g.cod:end])   )\n",
    "\n",
    "                        ( x[1:f.dom]  )\n",
    "    end\n",
    "end\n",
    "compose(f::Lens, g::Lens) = Lens(\n",
    "    x -> begin\n",
    "         (y, df) = f.it(x)\n",
    "         (z, fg) = g.it(y)\n",
    "         (z, df ∘ dg)\n",
    "         end\n",
    "    ) \n",
    "dup(A::LensDomain) = x -> (vcat(x,x), dxx -> dxx[1:A.m] + dxx[A.m+1:end] )\n",
    "oplus(f,g) = xy -> begin\n",
    "                (c, df) = f(xy[1:f.dom.m])\n",
    "                (d, dg) = g(xy[end-g.dom.m:end  ])\n",
    "                dfg = dcd -> begin \n",
    "                             dx = df(dxd[]) \n",
    "                             dy = dg(dcd[])\n",
    "                             vcat(dx,dy)\n",
    "                             end\n",
    "                (vcat(c,d) , dfg )\n",
    "end\n",
    "\n",
    "# the lens domain isn't really necessary. I guess it might changed the stage? Dimension is now known before x values rather than at the same time. That's nice\n",
    "mul(A::LensDomain) = x -> (x[1:A.m] .* x[A.m+1:end] , dx -> vcat( dx .* x[A.m+1:end], dx .* x[1:A.m]  ) )\n",
    "add(A::LensDomain) = x -> (x[1:A.m] .+ x[A.m+1:end] , dx -> vcat( dx , dx ) ) # sum and dup are dual.\n",
    "\n",
    "\n",
    "#sum(  )\n",
    "#fold\n",
    "\n",
    "\n",
    "\n",
    "sin(A::LensDomain) = x -> (sin.(x) , dx -> cos.(x) .* dx)\n",
    "cos(A::LensDomain) = x -> (cos.(x) , dx -> -sin.(x) .* dx)\n",
    "pow(A::LensDomain, n) = x -> (x ^ n, dx -> n * dx .* x ^ (n-1) )\n",
    "\n"
   ]
  },
  {
   "cell_type": "code",
   "execution_count": 8,
   "metadata": {},
   "outputs": [
    {
     "data": {
      "text/plain": [
       "10"
      ]
     },
     "execution_count": 8,
     "metadata": {},
     "output_type": "execute_result"
    }
   ],
   "source": [
    "pow(LensDomain(1), 2)(5)[2](1)"
   ]
  },
  {
   "cell_type": "code",
   "execution_count": 40,
   "metadata": {},
   "outputs": [
    {
     "data": {
      "text/plain": [
       "6-element Array{Int64,1}:\n",
       " 1\n",
       " 2\n",
       " 3\n",
       " 4\n",
       " 5\n",
       " 6"
      ]
     },
     "execution_count": 40,
     "metadata": {},
     "output_type": "execute_result"
    }
   ],
   "source": [
    "vcat([1, 2, 3], [4, 5, 6])"
   ]
  },
  {
   "cell_type": "code",
   "execution_count": 38,
   "metadata": {},
   "outputs": [
    {
     "data": {
      "text/plain": [
       "1×3 Array{Int64,2}:\n",
       " 4  5  6"
      ]
     },
     "execution_count": 38,
     "metadata": {},
     "output_type": "execute_result"
    }
   ],
   "source": [
    "[4 5 6]"
   ]
  },
  {
   "cell_type": "markdown",
   "metadata": {},
   "source": [
    "Question: \n",
    "  Where does allocation happen? presumably earlier in the chain. It would be nice to allocate and mutatitively add in stuff\n",
    "\n",
    "id might involve copying info then\n",
    "\n",
    "(x, accrefdx) -> accredx == nothing ? (x, dx -> dx) : (x, dx -> accrefdx += dx)\n",
    "\n",
    "\n"
   ]
  },
  {
   "cell_type": "code",
   "execution_count": 1,
   "metadata": {},
   "outputs": [
    {
     "name": "stderr",
     "output_type": "stream",
     "text": [
      "\u001b[32m\u001b[1m   Updating\u001b[22m\u001b[39m registry at `~/.julia/registries/General`\n"
     ]
    },
    {
     "name": "stdout",
     "output_type": "stream",
     "text": [
      "\u001b[?25l    "
     ]
    },
    {
     "name": "stderr",
     "output_type": "stream",
     "text": [
      "\u001b[32m\u001b[1m   Updating\u001b[22m\u001b[39m git-repo `https://github.com/JuliaRegistries/General.git`\n"
     ]
    },
    {
     "name": "stdout",
     "output_type": "stream",
     "text": [
      "\u001b[2K\u001b[?25h[1mFetching:\u001b[22m\u001b[39m [========================================>]  100.0 %                                 ]  16.0 %>                         ]  35.4 %\u001b[36m\u001b[1mFetching:\u001b[22m\u001b[39m [=====================>                   ]  51.5 %             ]  67.3 %==================================>      ]  83.3 %\u001b[36m\u001b[1mFetching:\u001b[22m\u001b[39m [==================================>      ]  84.0 %\u001b[36m\u001b[1mFetching:\u001b[22m\u001b[39m [==================================>      ]  84.8 %"
     ]
    },
    {
     "name": "stderr",
     "output_type": "stream",
     "text": [
      "\u001b[32m\u001b[1m  Resolving\u001b[22m\u001b[39m package versions...\n",
      "\u001b[32m\u001b[1m  Installed\u001b[22m\u001b[39m LinearMaps ─ v2.7.0\n",
      "\u001b[32m\u001b[1mUpdating\u001b[22m\u001b[39m `~/.julia/environments/v1.5/Project.toml`\n",
      " \u001b[90m [7a12625a] \u001b[39m\u001b[92m+ LinearMaps v2.7.0\u001b[39m\n",
      "\u001b[32m\u001b[1mUpdating\u001b[22m\u001b[39m `~/.julia/environments/v1.5/Manifest.toml`\n",
      " \u001b[90m [7a12625a] \u001b[39m\u001b[92m+ LinearMaps v2.7.0\u001b[39m\n"
     ]
    }
   ],
   "source": [
    "import Pkg; Pkg.add(\"LinearMaps\")"
   ]
  },
  {
   "cell_type": "code",
   "execution_count": null,
   "metadata": {},
   "outputs": [],
   "source": [
    "using LinearMaps"
   ]
  },
  {
   "cell_type": "code",
   "execution_count": null,
   "metadata": {},
   "outputs": [],
   "source": [
    "id(A) = x -> (x, UniformScalingMap(I))\n",
    "f ̊⊕ g = ((x,y) -> ( , ) = f(x); ( , ) = g(y); (   ,   cat(df, dg))\n",
    "fst(A) = ( (x,y) ->    )\n",
    "snd(A) = \n",
    "\n",
    "    \n",
    "    \n",
    "    "
   ]
  },
  {
   "cell_type": "code",
   "execution_count": 14,
   "metadata": {},
   "outputs": [],
   "source": [
    "using Catlab\n",
    "using Catlab.Programs\n",
    "using Catlab.Theories"
   ]
  },
  {
   "cell_type": "code",
   "execution_count": 15,
   "metadata": {},
   "outputs": [
    {
     "data": {
      "text/plain": [
       "Presentation{BiproductCategory,Symbol}(Catlab.Theories.FreeBiproductCategory, (Ob = Catlab.Theories.FreeBiproductCategory.Ob{:generator}[W, X, Y, Z], Hom = Catlab.Theories.FreeBiproductCategory.Hom{:generator}[f, g, h, l, m, n]), Dict(:Z => (:Ob => 4),:f => (:Hom => 1),:l => (:Hom => 4),:m => (:Hom => 5),:n => (:Hom => 6),:W => (:Ob => 1),:h => (:Hom => 3),:X => (:Ob => 2),:Y => (:Ob => 3),:g => (:Hom => 2)…), Pair[])"
      ]
     },
     "execution_count": 15,
     "metadata": {},
     "output_type": "execute_result"
    }
   ],
   "source": [
    "@present C(FreeBiproductCategory) begin\n",
    "  W::Ob\n",
    "  X::Ob\n",
    "  Y::Ob\n",
    "  Z::Ob\n",
    "  f::Hom(X,Y)\n",
    "  g::Hom(Y,Z)\n",
    "  h::Hom(Z,W)\n",
    "  l::Hom(otimes(Z,W),otimes(Y,X))\n",
    "  m::Hom(otimes(X,Y),otimes(W,Z))\n",
    "  n::Hom(otimes(W,Z),otimes(X,Y))\n",
    "end"
   ]
  },
  {
   "cell_type": "code",
   "execution_count": 17,
   "metadata": {},
   "outputs": [
    {
     "ename": "LoadError",
     "evalue": "MethodError: no method matching iterate(::Catlab.WiringDiagrams.DirectedWiringDiagrams.Port)\nClosest candidates are:\n  iterate(!Matched::Base.RegexMatchIterator) at regex.jl:552\n  iterate(!Matched::Base.RegexMatchIterator, !Matched::Any) at regex.jl:552\n  iterate(!Matched::LibGit2.GitBranchIter) at /buildworker/worker/package_linux64/build/usr/share/julia/stdlib/v1.5/LibGit2/src/reference.jl:343\n  ...",
     "output_type": "error",
     "traceback": [
      "MethodError: no method matching iterate(::Catlab.WiringDiagrams.DirectedWiringDiagrams.Port)\nClosest candidates are:\n  iterate(!Matched::Base.RegexMatchIterator) at regex.jl:552\n  iterate(!Matched::Base.RegexMatchIterator, !Matched::Any) at regex.jl:552\n  iterate(!Matched::LibGit2.GitBranchIter) at /buildworker/worker/package_linux64/build/usr/share/julia/stdlib/v1.5/LibGit2/src/reference.jl:343\n  ...",
      "",
      "Stacktrace:",
      " [1] indexed_iterate(::Catlab.WiringDiagrams.DirectedWiringDiagrams.Port, ::Int64) at ./tuple.jl:84",
      " [2] macro expansion at ./In[17]:2 [inlined]",
      " [3] macro expansion at /home/philip/.julia/packages/GeneralizedGenerated/wp5nX/src/ngg/runtime_fns.jl:110 [inlined]",
      " [4] (::ggfunc)(::Catlab.Programs.ParseJuliaPrograms.var\"#4#12\"{Catlab.WiringDiagrams.DirectedWiringDiagrams.WiringDiagram{BiproductCategory}}, ::Tuple{Catlab.WiringDiagrams.DirectedWiringDiagrams.Port}; pkwargs::Base.Iterators.Pairs{Symbol,Catlab.Theories.FreeBiproductCategory.Hom{:generator},Tuple{Symbol,Symbol},NamedTuple{(:f, :g),Tuple{Catlab.Theories.FreeBiproductCategory.Hom{:generator},Catlab.Theories.FreeBiproductCategory.Hom{:generator}}}}) at /home/philip/.julia/packages/GeneralizedGenerated/wp5nX/src/ngg/runtime_fns.jl:77",
      " [5] parse_wiring_diagram(::Presentation{BiproductCategory,Symbol}, ::Expr, ::Expr) at /home/philip/.julia/dev/Catlab/src/programs/ParseJuliaPrograms.jl:96",
      " [6] top-level scope at In[17]:1",
      " [7] include_string(::Function, ::Module, ::String, ::String) at ./loading.jl:1091"
     ]
    }
   ],
   "source": [
    "@program C (w :: X) begin\n",
    "   x, y = f(w)\n",
    "   g(x,y)\n",
    "end"
   ]
  },
  {
   "cell_type": "code",
   "execution_count": null,
   "metadata": {},
   "outputs": [],
   "source": [
    "lift(f) = g -> compose(g,f)\n",
    "lift2(f) = (g,h) -> compose(pair(g,h), f)\n",
    "\n",
    "\n",
    "iterate(f::MyFunc{otimes(A, B)}) = iterate((compose(f,fst), compose(f,snd)))\n",
    "\n",
    "\n",
    "struct Yoneda\n",
    "    it\n",
    "end\n",
    "\n",
    "(f::Yoneda)(g) = Yoneda(compose(f.it, g.it)) \n",
    "(f::Yoneda)(x,y) = compose(pair(x.it,y.it),f)\n",
    "(f::Yoneda)(x,args...) compose\n",
    "multipair(x,args...) = pair(x,multipair(args))\n",
    "multipair(x) = x\n",
    "\n",
    "\n",
    "# Yes, the morphisms may already have a notion of application. And we want a different one.\n",
    "\n",
    "\n",
    "iterate(f::Yoneda) = Yoneda(compose(f.it, fst), iterate( Yoneda(compose(f.it, snd))))\n",
    "\n",
    "\n",
    "iterate\n",
    "\n"
   ]
  },
  {
   "cell_type": "code",
   "execution_count": 30,
   "metadata": {},
   "outputs": [],
   "source": [
    "struct Fred\n",
    "end\n",
    "Base.iterate(x::Fred, state=true) = begin \n",
    "     print(\"hey\")\n",
    "     state ? (1,false) : nothing\n",
    "end"
   ]
  },
  {
   "cell_type": "code",
   "execution_count": 33,
   "metadata": {},
   "outputs": [
    {
     "name": "stdout",
     "output_type": "stream",
     "text": [
      "heyhey"
     ]
    },
    {
     "ename": "LoadError",
     "evalue": "BoundsError: attempt to access Fred\n  at index [2]",
     "output_type": "error",
     "traceback": [
      "BoundsError: attempt to access Fred\n  at index [2]",
      "",
      "Stacktrace:",
      " [1] indexed_iterate(::Fred, ::Int64, ::Bool) at ./tuple.jl:90",
      " [2] top-level scope at In[33]:1",
      " [3] include_string(::Function, ::Module, ::String, ::String) at ./loading.jl:1091"
     ]
    }
   ],
   "source": [
    "(x,y) = Fred()\n",
    "x\n"
   ]
  },
  {
   "cell_type": "code",
   "execution_count": 22,
   "metadata": {},
   "outputs": [
    {
     "data": {
      "text/plain": [
       "3"
      ]
     },
     "execution_count": 22,
     "metadata": {},
     "output_type": "execute_result"
    }
   ],
   "source": [
    "\n"
   ]
  },
  {
   "cell_type": "code",
   "execution_count": 6,
   "metadata": {},
   "outputs": [
    {
     "name": "stdout",
     "output_type": "stream",
     "text": [
      "Expr\n",
      "  head: Symbol block\n",
      "  args: Array{Any}((4,))\n",
      "    1: LineNumberNode\n",
      "      line: Int64 3\n",
      "      file: Symbol In[6]\n",
      "    2: Expr\n",
      "      head: Symbol =\n",
      "      args: Array{Any}((2,))\n",
      "        1: Expr\n",
      "          head: Symbol tuple\n",
      "          args: Array{Any}((2,))\n",
      "            1: Symbol x\n",
      "            2: Symbol y\n",
      "        2: Expr\n",
      "          head: Symbol call\n",
      "          args: Array{Any}((2,))\n",
      "            1: Symbol f\n",
      "            2: Symbol w\n",
      "    3: LineNumberNode\n",
      "      line: Int64 4\n",
      "      file: Symbol In[6]\n",
      "    4: Expr\n",
      "      head: Symbol call\n",
      "      args: Array{Any}((3,))\n",
      "        1: Symbol g\n",
      "        2: Symbol x\n",
      "        3: Symbol y\n"
     ]
    }
   ],
   "source": [
    "dump(:(\n",
    "begin\n",
    "    x,y = f(w)\n",
    "        g(x,y)\n",
    "    end\n",
    "    ))"
   ]
  },
  {
   "cell_type": "code",
   "execution_count": 1,
   "metadata": {},
   "outputs": [
    {
     "data": {
      "text/plain": [
       "2"
      ]
     },
     "execution_count": 1,
     "metadata": {},
     "output_type": "execute_result"
    }
   ],
   "source": [
    "1 + 1"
   ]
  },
  {
   "cell_type": "code",
   "execution_count": null,
   "metadata": {},
   "outputs": [],
   "source": []
  }
 ],
 "metadata": {
  "kernelspec": {
   "display_name": "Julia 1.5.0",
   "language": "julia",
   "name": "julia-1.5"
  },
  "language_info": {
   "file_extension": ".jl",
   "mimetype": "application/julia",
   "name": "julia",
   "version": "1.5.0"
  }
 },
 "nbformat": 4,
 "nbformat_minor": 4
}
