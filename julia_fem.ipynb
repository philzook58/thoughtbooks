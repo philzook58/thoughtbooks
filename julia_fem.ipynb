{
 "cells": [
  {
   "cell_type": "code",
   "execution_count": 2,
   "metadata": {},
   "outputs": [
    {
     "name": "stderr",
     "output_type": "stream",
     "text": [
      "┌ Info: Precompiling Meshing [e6723b4c-ebff-59f1-b4b7-d97aa5274f73]\n",
      "└ @ Base loading.jl:1260\n"
     ]
    }
   ],
   "source": [
    "using Meshing"
   ]
  },
  {
   "cell_type": "code",
   "execution_count": 5,
   "metadata": {},
   "outputs": [
    {
     "name": "stderr",
     "output_type": "stream",
     "text": [
      "┌ Info: Precompiling Makie [ee78f7c6-11fb-53f2-987a-cfe4a2b5a57a]\n",
      "└ @ Base loading.jl:1260\n",
      "WARNING: Method definition (::Type{GeometryTypes.HyperRectangle{3, Float32}})(Tuple{Tuple{#s15, #s14} where #s14<:Number where #s15<:Number, Tuple{#s13, #s12} where #s12<:Number where #s13<:Number}) in module GeometryTypes at /home/philip/.julia/packages/GeometryTypes/gpBFp/src/hyperrectangles.jl:164 overwritten in module AbstractPlotting at /home/philip/.julia/packages/AbstractPlotting/B5nOF/src/types.jl:141.\n",
      "  ** incremental compilation may be fatally broken for this module **\n",
      "\n",
      "WARNING: Method definition (::Type{GeometryTypes.HyperRectangle{3, Float32}})(Tuple{Tuple{#s15, #s14, #s13} where #s13<:Number where #s14<:Number where #s15<:Number, Tuple{#s12, #s26, #s27} where #s27<:Number where #s26<:Number where #s12<:Number}) in module GeometryTypes at /home/philip/.julia/packages/GeometryTypes/gpBFp/src/hyperrectangles.jl:167 overwritten in module AbstractPlotting at /home/philip/.julia/packages/AbstractPlotting/B5nOF/src/types.jl:144.\n",
      "  ** incremental compilation may be fatally broken for this module **\n",
      "\n",
      "WARNING: Method definition (::Type{GeometryTypes.HyperRectangle{3, Float32}})(GeometryTypes.HyperRectangle{2, T} where T) in module GeometryTypes at /home/philip/.julia/packages/GeometryTypes/gpBFp/src/hyperrectangles.jl:129 overwritten in module AbstractPlotting at /home/philip/.julia/packages/AbstractPlotting/B5nOF/src/types.jl:148.\n",
      "  ** incremental compilation may be fatally broken for this module **\n",
      "\n",
      "WARNING: Method definition convert(Type{#s59} where #s59<:(Observables.Observable{T} where T), Any) in module Observables at /home/philip/.julia/packages/Observables/0wrF6/src/Observables.jl:52 overwritten in module AbstractPlotting at /home/philip/.julia/packages/AbstractPlotting/B5nOF/src/types.jl:288.\n",
      "  ** incremental compilation may be fatally broken for this module **\n",
      "\n",
      "WARNING: Method definition copy(Observables.Observable{T}) where {T} in module Observables at /home/philip/.julia/packages/Observables/0wrF6/src/Observables.jl:30 overwritten in module AbstractPlotting at /home/philip/.julia/packages/AbstractPlotting/B5nOF/src/interaction/nodes.jl:15.\n",
      "  ** incremental compilation may be fatally broken for this module **\n",
      "\n",
      "ERROR: LoadError: LoadError: MethodError: convert(::Type{Observables.Observable}, ::Observables.Observable{Any}) is ambiguous. Candidates:\n",
      "  convert(::Type{Observables.Observable}, x::Observables.AbstractObservable) in Observables at /home/philip/.julia/packages/Observables/0wrF6/src/Observables.jl:41\n",
      "  convert(::Type{T}, x::T) where T<:Observables.Observable in AbstractPlotting at /home/philip/.julia/packages/AbstractPlotting/B5nOF/src/types.jl:289\n",
      "Possible fix, define\n",
      "  convert(::Type{Observables.Observable}, ::Observables.Observable)\n",
      "Stacktrace:\n",
      " [1] setindex!(::Dict{Symbol,Observables.Observable}, ::Observables.Observable{Any}, ::Symbol) at ./dict.jl:380\n",
      " [2] Dict{Symbol,Observables.Observable}(::Base.Generator{Base.Iterators.Pairs{Symbol,Array{T,1} where T,NTuple{4,Symbol},NamedTuple{(:color, :marker, :linestyle, :side),Tuple{Array{ColorTypes.RGB{Float64},1},Array{Symbol,1},Array{Union{Nothing, Symbol},1},Array{Symbol,1}}}},typeof(AbstractPlotting.node_pairs)}) at ./dict.jl:103\n",
      " [3] #Attributes#4 at /home/philip/.julia/packages/AbstractPlotting/B5nOF/src/types.jl:292 [inlined]\n",
      " [4] top-level scope at /home/philip/.julia/packages/AbstractPlotting/B5nOF/src/theming.jl:16\n",
      " [5] include(::Module, ::String) at ./Base.jl:377\n",
      " [6] include(::String) at /home/philip/.julia/packages/AbstractPlotting/B5nOF/src/AbstractPlotting.jl:1\n",
      " [7] top-level scope at /home/philip/.julia/packages/AbstractPlotting/B5nOF/src/AbstractPlotting.jl:37\n",
      " [8] include(::Module, ::String) at ./Base.jl:377\n",
      " [9] top-level scope at none:2\n",
      " [10] eval at ./boot.jl:331 [inlined]\n",
      " [11] eval(::Expr) at ./client.jl:449\n",
      " [12] top-level scope at ./none:3\n",
      "in expression starting at /home/philip/.julia/packages/AbstractPlotting/B5nOF/src/theming.jl:16\n",
      "in expression starting at /home/philip/.julia/packages/AbstractPlotting/B5nOF/src/AbstractPlotting.jl:37\n",
      "ERROR: LoadError: Failed to precompile AbstractPlotting [537997a7-5e4e-5d89-9595-2241ea00577e] to /home/philip/.julia/compiled/v1.4/AbstractPlotting/6fydZ_KYBci.ji.\n",
      "Stacktrace:\n",
      " [1] error(::String) at ./error.jl:33\n",
      " [2] compilecache(::Base.PkgId, ::String) at ./loading.jl:1272\n",
      " [3] _require(::Base.PkgId) at ./loading.jl:1029\n",
      " [4] require(::Base.PkgId) at ./loading.jl:927\n",
      " [5] require(::Module, ::Symbol) at ./loading.jl:922\n",
      " [6] include(::Module, ::String) at ./Base.jl:377\n",
      " [7] top-level scope at none:2\n",
      " [8] eval at ./boot.jl:331 [inlined]\n",
      " [9] eval(::Expr) at ./client.jl:449\n",
      " [10] top-level scope at ./none:3\n",
      "in expression starting at /home/philip/.julia/packages/Makie/3CKlT/src/Makie.jl:3\n"
     ]
    },
    {
     "ename": "ErrorException",
     "evalue": "Failed to precompile Makie [ee78f7c6-11fb-53f2-987a-cfe4a2b5a57a] to /home/philip/.julia/compiled/v1.4/Makie/iZ1Bl_KYBci.ji.",
     "output_type": "error",
     "traceback": [
      "Failed to precompile Makie [ee78f7c6-11fb-53f2-987a-cfe4a2b5a57a] to /home/philip/.julia/compiled/v1.4/Makie/iZ1Bl_KYBci.ji.",
      "",
      "Stacktrace:",
      " [1] error(::String) at ./error.jl:33",
      " [2] compilecache(::Base.PkgId, ::String) at ./loading.jl:1272",
      " [3] _require(::Base.PkgId) at ./loading.jl:1029",
      " [4] require(::Base.PkgId) at ./loading.jl:927",
      " [5] require(::Module, ::Symbol) at ./loading.jl:922",
      " [6] top-level scope at In[5]:9"
     ]
    }
   ],
   "source": [
    "using GeometryBasics\n",
    "gyroid(v) = cos(v[1])*sin(v[2])+cos(v[2])*sin(v[3])+cos(v[3])*sin(v[1])\n",
    "gyroid_shell(v) = max(gyroid(v)-0.4,-gyroid(v)-0.4)\n",
    "\n",
    "# generate directly using GeometryBasics API\n",
    "# Rect specifies the sampling intervals\n",
    "gy_mesh = Mesh(gyroid_shell, Rect(Vec(0,0,0),Vec(pi*4,pi*4,pi*4)),\n",
    "                       MarchingCubes(), samples=(50,50,50))\n",
    "\n",
    "#save(\"gyroid.ply\", gy_mesh)\n",
    "\n",
    "# view with Makie\n",
    "import Makie\n",
    "using LinearAlgebra\n",
    "Makie.mesh(gy_mesh, color=[norm(v) for v in coordinates(gy_mesh)])"
   ]
  },
  {
   "cell_type": "code",
   "execution_count": null,
   "metadata": {},
   "outputs": [],
   "source": []
  }
 ],
 "metadata": {
  "kernelspec": {
   "display_name": "Julia 1.4.1",
   "language": "julia",
   "name": "julia-1.4"
  },
  "language_info": {
   "file_extension": ".jl",
   "mimetype": "application/julia",
   "name": "julia",
   "version": "1.4.1"
  }
 },
 "nbformat": 4,
 "nbformat_minor": 4
}
