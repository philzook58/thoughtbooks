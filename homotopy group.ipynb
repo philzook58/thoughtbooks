{
 "cells": [
  {
   "cell_type": "markdown",
   "metadata": {},
   "source": [
    "GAP seems cool\n",
    "\n",
    "There's a book \n",
    "\n",
    "https://www.math.colostate.edu/~hulpke/CGT/howtogap.pdf\n",
    "And a computational homotopy book\n",
    "adventures in group theory\n",
    "https://www.sagemath.org/library-publications.html#books\n",
    "\n",
    "\n",
    "\n",
    "using HAP\n",
    "\n",
    "something about maximal tree, which \n",
    "\n",
    "\n",
    "Sage vs magma vs GAP\n",
    "\n",
    "\n",
    "\n",
    "polymake\n",
    "\n",
    "macaulay 2\n",
    "singular\n",
    "has narrower focus\n",
    "\n",
    "\n",
    "\n",
    "permutation"
   ]
  }
 ],
 "metadata": {
  "kernelspec": {
   "display_name": "Julia 1.3.1",
   "language": "julia",
   "name": "julia-1.3"
  },
  "language_info": {
   "file_extension": ".jl",
   "mimetype": "application/julia",
   "name": "julia",
   "version": "1.3.1"
  }
 },
 "nbformat": 4,
 "nbformat_minor": 2
}
