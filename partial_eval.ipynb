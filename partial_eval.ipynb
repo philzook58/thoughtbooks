{
 "cells": [
  {
   "cell_type": "markdown",
   "metadata": {},
   "source": [
    "1 + 3\n",
    "\n",
    "https://mikeinnes.github.io/2020/07/29/mjolnir.html\n",
    "Mjolnir\n",
    "\n",
    "https://scala-lms.github.io/\n",
    "\n",
    "MetaOcaml book\n",
    "Strymonas\n",
    "ASP\n",
    "\n",
    "http://okmij.org/ftp/meta-programming/\n",
    "\n",
    "http://okmij.org/ftp/meta-programming/implementations.html#meta-scheme metascheme. Thedifference between bracketing and quasiquotation\n",
    "Is Spiral an example? Maybe not. FFTW ATLAS\n",
    "\n",
    "The trick is a way of sending data from runtime to compile time\n",
    "\n",
    "\n",
    "How to partially evaluate mini kanren?\n",
    "\n",
    "\n",
    "\n",
    "macro hygiene video:\n",
    "https://www.youtube.com/watch?v=JePBb9-ychE&ab_channel=TheJuliaProgrammingLanguage"
   ]
  },
  {
   "cell_type": "code",
   "execution_count": 5,
   "metadata": {},
   "outputs": [
    {
     "data": {
      "text/plain": [
       "quote\n",
       "    #= In[5]:3 =#\n",
       "    var\"#7#x\" = var\"#7#x\"\n",
       "    #= In[5]:4 =#\n",
       "    var\"#8#y\" = Main.sin(var\"#7#x\")\n",
       "    #= In[5]:5 =#\n",
       "    var\"#9#z\" = Main.sin(var\"#8#y\")\n",
       "    #= In[5]:6 =#\n",
       "    (var\"#7#x\", var\"#8#y\", var\"#9#z\")\n",
       "end"
      ]
     },
     "execution_count": 5,
     "metadata": {},
     "output_type": "execute_result"
    }
   ],
   "source": [
    "macro inception(f,ex)\n",
    "    return quote\n",
    "        x = $ex\n",
    "        y = $f(x)\n",
    "        z = $f(y)\n",
    "        x,y,z\n",
    "        end\n",
    "end\n",
    "\n",
    "x = 100\n",
    "@macroexpand @inception sin x"
   ]
  },
  {
   "cell_type": "code",
   "execution_count": 9,
   "metadata": {},
   "outputs": [
    {
     "data": {
      "text/plain": [
       "quote\n",
       "    #= In[9]:3 =#\n",
       "    var\"#11#x\" = x\n",
       "    #= In[9]:4 =#\n",
       "    var\"#12#y\" = sin(var\"#11#x\")\n",
       "    #= In[9]:5 =#\n",
       "    var\"#13#z\" = sin(var\"#12#y\")\n",
       "    #= In[9]:6 =#\n",
       "    (var\"#11#x\", var\"#12#y\", var\"#13#z\")\n",
       "end"
      ]
     },
     "execution_count": 9,
     "metadata": {},
     "output_type": "execute_result"
    }
   ],
   "source": [
    "macro inception(f,ex)\n",
    "    return quote\n",
    "        x = $(esc(ex))\n",
    "        y = $(esc(f))(x)\n",
    "        z = $(esc(f))(y)\n",
    "        x,y,z\n",
    "        end\n",
    "end\n",
    "\n",
    "x = 100\n",
    "@macroexpand @inception sin x"
   ]
  },
  {
   "cell_type": "code",
   "execution_count": 8,
   "metadata": {},
   "outputs": [
    {
     "data": {
      "text/plain": [
       "quote\n",
       "    #= In[8]:2 =#\n",
       "    var\"#10#x\"->begin\n",
       "            #= In[8]:2 =#\n",
       "            var\"#10#x\"\n",
       "        end\n",
       "end"
      ]
     },
     "execution_count": 8,
     "metadata": {},
     "output_type": "execute_result"
    }
   ],
   "source": [
    "\n",
    "# Huh. So julia macros are hygieneic. It's a pass that happens upon macro return. And esc let's you take in stuff from the outside.\n",
    "#\n",
    "macro foo()\n",
    "    quote x -> x end\n",
    "end\n",
    "\n",
    "@macroexpand @foo()"
   ]
  },
  {
   "cell_type": "code",
   "execution_count": 10,
   "metadata": {},
   "outputs": [
    {
     "data": {
      "text/plain": [
       "CodeInfo(\n",
       "\u001b[90m1 ─\u001b[39m %1 = Base.promote(x, y)\n",
       "\u001b[90m│  \u001b[39m %2 = Core._apply_iterate(Base.iterate, Base.:+, %1)\n",
       "\u001b[90m└──\u001b[39m      return %2\n",
       ")"
      ]
     },
     "execution_count": 10,
     "metadata": {},
     "output_type": "execute_result"
    }
   ],
   "source": [
    "@code_lowered 1 + sin(2)"
   ]
  },
  {
   "cell_type": "code",
   "execution_count": 1,
   "metadata": {},
   "outputs": [
    {
     "data": {
      "text/plain": [
       "4"
      ]
     },
     "execution_count": 1,
     "metadata": {},
     "output_type": "execute_result"
    }
   ],
   "source": [
    "1 + 3"
   ]
  },
  {
   "cell_type": "code",
   "execution_count": 39,
   "metadata": {},
   "outputs": [
    {
     "data": {
      "text/plain": [
       ":($(Expr(:quote, :(1 + $(Expr(:$, 4))))))"
      ]
     },
     "execution_count": 39,
     "metadata": {},
     "output_type": "execute_result"
    }
   ],
   "source": [
    "x = 3\n",
    ":( :( 1 + $x ) )\n",
    ":( :( 1 + $( $(x)) ) )\n",
    "\n"
   ]
  },
  {
   "cell_type": "code",
   "execution_count": 5,
   "metadata": {},
   "outputs": [
    {
     "data": {
      "text/plain": [
       ":(1 + 3)"
      ]
     },
     "execution_count": 5,
     "metadata": {},
     "output_type": "execute_result"
    }
   ],
   "source": [
    "c = :(1 + 3)"
   ]
  },
  {
   "cell_type": "code",
   "execution_count": 3,
   "metadata": {},
   "outputs": [
    {
     "data": {
      "text/plain": [
       ":(3 * 10)"
      ]
     },
     "execution_count": 3,
     "metadata": {},
     "output_type": "execute_result"
    }
   ],
   "source": [
    ":($(1 + 2) * 10)"
   ]
  },
  {
   "cell_type": "code",
   "execution_count": 6,
   "metadata": {},
   "outputs": [
    {
     "data": {
      "text/plain": [
       ":((1 + 3) + 10)"
      ]
     },
     "execution_count": 6,
     "metadata": {},
     "output_type": "execute_result"
    }
   ],
   "source": [
    ":($c + 10)"
   ]
  },
  {
   "cell_type": "code",
   "execution_count": 7,
   "metadata": {},
   "outputs": [
    {
     "data": {
      "text/plain": [
       "pow (generic function with 1 method)"
      ]
     },
     "execution_count": 7,
     "metadata": {},
     "output_type": "execute_result"
    }
   ],
   "source": [
    "pow(x,n) = n == 0 ? 1 : x * pow(x,n-1)"
   ]
  },
  {
   "cell_type": "code",
   "execution_count": 12,
   "metadata": {},
   "outputs": [
    {
     "data": {
      "text/plain": [
       "(2, 0)"
      ]
     },
     "execution_count": 12,
     "metadata": {},
     "output_type": "execute_result"
    }
   ],
   "source": [
    "divrem(4, 2)"
   ]
  },
  {
   "cell_type": "code",
   "execution_count": 17,
   "metadata": {},
   "outputs": [
    {
     "data": {
      "text/plain": [
       "pow (generic function with 1 method)"
      ]
     },
     "execution_count": 17,
     "metadata": {},
     "output_type": "execute_result"
    }
   ],
   "source": [
    "square(x) = x * x\n",
    "function pow(x,n)\n",
    "  if n == 0 \n",
    "        return 1\n",
    "  end\n",
    "  (d,r) = divrem(n,2)\n",
    "  if r == 0\n",
    "        return square(pow(x,d))\n",
    "  else\n",
    "        return x * pow(x,n - 1)\n",
    "  end\n",
    "end"
   ]
  },
  {
   "cell_type": "code",
   "execution_count": 22,
   "metadata": {},
   "outputs": [
    {
     "data": {
      "text/plain": [
       "64"
      ]
     },
     "execution_count": 22,
     "metadata": {},
     "output_type": "execute_result"
    }
   ],
   "source": [
    "pow(4,3)"
   ]
  },
  {
   "cell_type": "code",
   "execution_count": 12,
   "metadata": {},
   "outputs": [
    {
     "data": {
      "text/plain": [
       "spow (generic function with 2 methods)"
      ]
     },
     "execution_count": 12,
     "metadata": {},
     "output_type": "execute_result"
    }
   ],
   "source": [
    "function spow(x,n)\n",
    "  if n == 0 \n",
    "        return 1\n",
    "    elseif n == 1\n",
    "        return x\n",
    "    end\n",
    "  (d,r) = divrem(n,2)\n",
    "  if r == 0\n",
    "        return :( square( $(spow(x,d)) ))\n",
    "  else\n",
    "        return :( $x * $(spow(x,n - 1) ))\n",
    "  end\n",
    "end"
   ]
  },
  {
   "cell_type": "code",
   "execution_count": 13,
   "metadata": {},
   "outputs": [
    {
     "data": {
      "text/plain": [
       "spow (generic function with 2 methods)"
      ]
     },
     "execution_count": 13,
     "metadata": {},
     "output_type": "execute_result"
    }
   ],
   "source": [
    "spow(n) = :(x -> $( spow(:x, n) ))"
   ]
  },
  {
   "cell_type": "code",
   "execution_count": 18,
   "metadata": {},
   "outputs": [
    {
     "data": {
      "text/plain": [
       "81"
      ]
     },
     "execution_count": 18,
     "metadata": {},
     "output_type": "execute_result"
    }
   ],
   "source": [
    "eval(spow(4))(3)"
   ]
  },
  {
   "cell_type": "markdown",
   "metadata": {},
   "source": [
    "Julia is not hygienic :(\n",
    "We could recover this via gensym\n",
    "\n",
    "\n"
   ]
  },
  {
   "cell_type": "code",
   "execution_count": 19,
   "metadata": {},
   "outputs": [
    {
     "data": {
      "text/plain": [
       "1"
      ]
     },
     "execution_count": 19,
     "metadata": {},
     "output_type": "execute_result"
    }
   ],
   "source": [
    "let x = 1\n",
    "    x\n",
    "end"
   ]
  },
  {
   "cell_type": "code",
   "execution_count": null,
   "metadata": {},
   "outputs": [],
   "source": [
    ":(let x = 1\n",
    "    $(let body = $x\n",
    "                :()\n",
    "                end)\n",
    "    end)"
   ]
  },
  {
   "cell_type": "code",
   "execution_count": 22,
   "metadata": {},
   "outputs": [
    {
     "data": {
      "text/plain": [
       "myfilter (generic function with 1 method)"
      ]
     },
     "execution_count": 22,
     "metadata": {},
     "output_type": "execute_result"
    }
   ],
   "source": [
    "function myfilter(b, x)\n",
    "    m = length(b)\n",
    "    o = Array{Float64}(undef, length(x))\n",
    "    for i in 1:length(x)\n",
    "        if i < m \n",
    "            o[i] = x[i]\n",
    "        else\n",
    "            sum = 0\n",
    "            for k in 1:m\n",
    "                sum = sum + b[k] * x[i-k+1] \n",
    "            end\n",
    "            o[i] = sum\n",
    "        end\n",
    "    end\n",
    "    return o\n",
    "end"
   ]
  },
  {
   "cell_type": "code",
   "execution_count": 23,
   "metadata": {},
   "outputs": [
    {
     "data": {
      "text/plain": [
       "7-element Array{Float64,1}:\n",
       "  1.0\n",
       "  2.0\n",
       "  6.0\n",
       "  9.0\n",
       " 12.0\n",
       " 15.0\n",
       " 18.0"
      ]
     },
     "execution_count": 23,
     "metadata": {},
     "output_type": "execute_result"
    }
   ],
   "source": [
    "myfilter([1 1 1], 1:7)"
   ]
  },
  {
   "cell_type": "code",
   "execution_count": 29,
   "metadata": {},
   "outputs": [
    {
     "data": {
      "text/plain": [
       "smyfilter (generic function with 1 method)"
      ]
     },
     "execution_count": 29,
     "metadata": {},
     "output_type": "execute_result"
    }
   ],
   "source": [
    "function smyfilter(b, x)\n",
    "    m = length(b)\n",
    "    quote\n",
    "        o = Array{Float64}(undef, length(x))\n",
    "        for i in 1:length(x)\n",
    "            if i < $m \n",
    "                o[i] = x[i]\n",
    "            else\n",
    "                $(begin\n",
    "                sum = 0\n",
    "                for k in 1:m\n",
    "                    sum = :( $sum + $(b[k]) * x[i-$k+1]) \n",
    "                end\n",
    "                 :(o[i] = $sum)\n",
    "                end\n",
    "                  )\n",
    "\n",
    "            end\n",
    "        end\n",
    "        return o\n",
    "    end\n",
    "end"
   ]
  },
  {
   "cell_type": "code",
   "execution_count": 30,
   "metadata": {},
   "outputs": [
    {
     "data": {
      "text/plain": [
       "quote\n",
       "    #= In[29]:4 =#\n",
       "    o = Array{Float64}(undef, length(x))\n",
       "    #= In[29]:5 =#\n",
       "    for i = 1:length(x)\n",
       "        #= In[29]:6 =#\n",
       "        if i < 3\n",
       "            #= In[29]:7 =#\n",
       "            o[i] = x[i]\n",
       "        else\n",
       "            #= In[29]:9 =#\n",
       "            o[i] = ((0 + 1 * x[(i - 1) + 1]) + 2 * x[(i - 2) + 1]) + 3 * x[(i - 3) + 1]\n",
       "        end\n",
       "    end\n",
       "    #= In[29]:20 =#\n",
       "    return o\n",
       "end"
      ]
     },
     "execution_count": 30,
     "metadata": {},
     "output_type": "execute_result"
    }
   ],
   "source": [
    "smyfilter([1 2 3], :x)"
   ]
  },
  {
   "cell_type": "code",
   "execution_count": null,
   "metadata": {},
   "outputs": [],
   "source": [
    "struct Alt\n",
    "    l\n",
    "    r\n",
    "end\n",
    "\n",
    "struct Star\n",
    "    it\n",
    "end\n",
    "\n",
    "struct \n",
    "\n"
   ]
  },
  {
   "cell_type": "code",
   "execution_count": null,
   "metadata": {},
   "outputs": [],
   "source": [
    "function match_string(p,s)\n",
    "    for i in 1:length(s)\n",
    "        for j in 1:length(p)\n",
    "            if p[j] != s[i+j-1]\n",
    "                break\n",
    "            end\n",
    "            if j == length(p)\n",
    "                return i\n",
    "            end\n",
    "        end\n",
    "    end\n",
    "end\n",
    "\n",
    "function match_string(p,s)\n",
    "    for i in 1:(length(s) - length(p))\n",
    "        all(  [ a==b  for (a,b) in zip(p,s[i:end])]) && return i\n",
    "    end\n",
    "    return 0\n",
    "end\n",
    "\n",
    "function match_string(p,s)\n",
    "    while i < (length(s) - length(p))\n",
    "        i += 1\n",
    "    end\n",
    "end\n",
    "\n",
    "function match_string(p,s,i)\n",
    "    all(  [ a==b  for (a,b) in zip(p,s[i:end])])\n",
    "end\n",
    "\n",
    "function match_string(p,s, knownhead, i)\n",
    "\n",
    "\n",
    "    \n",
    "function selfmatch(p, i) # determine where to jump to\n",
    "    p = p[1:i]\n",
    "    for j in 1:i\n",
    "        p\n",
    "        end\n",
    "    \n",
    "end\n",
    "    "
   ]
  },
  {
   "cell_type": "code",
   "execution_count": null,
   "metadata": {},
   "outputs": [],
   "source": [
    "\n",
    "struct Init\n",
    "    head::PatTerm1 # f(~x1, ~x2, ~x3) We want to explode out a pattern with fresh variables.\n",
    "    next::Int64\n",
    "end\n",
    "\n",
    "struct Compare\n",
    "    v1::Symbol # compare two variables heads?\n",
    "    v2::Symbol\n",
    "end\n",
    "\n",
    "struct Bind\n",
    "    v::Symbol\n",
    "    f::PatTerm\n",
    "    next::Int64\n",
    "end\n",
    "\n",
    "\n",
    "\n",
    "Prog = Array{Union{Check,Bind}}\n",
    "\n",
    "struct PatTerm1\n",
    "    head::Symbol\n",
    "    args::Array{Symbol} # variables\n",
    "end\n",
    "\n",
    "while true\n",
    "    \n",
    "end\n",
    "\n",
    "\n",
    "function interp(prog, e::Bind)\n",
    "    t = e.v\n",
    "    e.f.head != t.head && return false\n",
    "    length(e.f.args) != length(t.args) && return false\n",
    "    for (n,a) in enumerate(e.f.args)\n",
    "        a = t.args[n]\n",
    "    end\n",
    "    interp( prog[e.next], e)\n",
    "end\n",
    "\n",
    "function sequence(es)\n",
    "    acc = :()\n",
    "    for e in es\n",
    "        acc = quote\n",
    "                $acc\n",
    "                $e\n",
    "                end\n",
    "    end\n",
    "end\n",
    "\n",
    "function interp(prog, e::Bind)\n",
    "    t = e.v\n",
    "    quote\n",
    "        $(e.f.head) != $t.head && return false\n",
    "        $(length(e.f.args)) != length($t.args) && return false\n",
    "        $(   \n",
    "             sequence( [:( $a = $t.args[$n])  for (n,a) in enumerate(e.f.args)]\n",
    "         )\n",
    "        $(interp( prog, prog[e.next]))\n",
    "    end\n",
    "end\n",
    "\n"
   ]
  },
  {
   "cell_type": "code",
   "execution_count": 54,
   "metadata": {},
   "outputs": [
    {
     "data": {
      "text/plain": [
       "quote\n",
       "    #= In[54]:32 =#\n",
       "    f != x.head && return false\n",
       "    #= In[54]:33 =#\n",
       "    2 != length(x.args) && return false\n",
       "    #= In[54]:34 =#\n",
       "    begin\n",
       "        #= In[54]:22 =#\n",
       "        begin\n",
       "            #= In[54]:22 =#\n",
       "            ()\n",
       "            #= In[54]:23 =#\n",
       "            y = x.args[1]\n",
       "        end\n",
       "        #= In[54]:23 =#\n",
       "        z = x.args[2]\n",
       "    end\n",
       "end"
      ]
     },
     "metadata": {},
     "output_type": "display_data"
    },
    {
     "name": "stderr",
     "output_type": "stream",
     "text": [
      "WARNING: replacing module Machine.\n"
     ]
    },
    {
     "data": {
      "text/plain": [
       "Main.Machine"
      ]
     },
     "execution_count": 54,
     "metadata": {},
     "output_type": "execute_result"
    }
   ],
   "source": [
    "module Machine\n",
    "\n",
    "struct PatTerm1\n",
    "    head::Symbol\n",
    "    args::Array{Symbol} # variables\n",
    "end\n",
    "\n",
    "struct Bind\n",
    "    v::Symbol\n",
    "    f::PatTerm1\n",
    "end\n",
    "\n",
    "struct Compare\n",
    "    v1::Symbol # compare two variables heads?\n",
    "    v2::Symbol\n",
    "end\n",
    "\n",
    "function sequence(es)\n",
    "    acc = :()\n",
    "    for e in es\n",
    "        acc = quote\n",
    "                $acc\n",
    "                $e\n",
    "                end\n",
    "    end\n",
    "    return acc\n",
    "end\n",
    "\n",
    "function interp(prog, e::Bind)\n",
    "    t = e.v\n",
    "    quote\n",
    "        $(e.f.head) != $t.head && return false\n",
    "        $(length(e.f.args)) != length($t.args) && return false\n",
    "        $(   \n",
    "             sequence( [:( $a = $t.args[$n])  for (n,a) in enumerate(e.f.args)])\n",
    "         )\n",
    "        # $(interp( prog[2:end], prog[1]))\n",
    "    end\n",
    "end\n",
    "\n",
    "function interp(prog, e::Compare)\n",
    "    quote\n",
    "        $(e.v1).head != $(e.v2).head && return false\n",
    "        # $(interp( prog[2:end], prog[1]))\n",
    "    end\n",
    "end\n",
    "\n",
    "f = Bind(:x, PatTerm1(:f, [:y,:z]))\n",
    "\n",
    "display(interp([] ,f ))\n",
    "\n",
    "end"
   ]
  },
  {
   "cell_type": "code",
   "execution_count": null,
   "metadata": {},
   "outputs": [],
   "source": [
    "function compile(v, x::PatVar, env)\n",
    "    if haskey(env, x)\n",
    "        [Check(v, env[x])]\n",
    "    else\n",
    "        env[x] = v\n",
    "    end\n",
    "end\n",
    "\n",
    "function compile(v, x::PatTerm, env)\n",
    "    # v = gensym(x.head)\n",
    "    f = PatTerm1(x.head, [gensym() for i in x.])\n",
    "    Bind(v, f)\n",
    "    # or here we can do some optimizations. Such as try to do early stoppage / pruning\n",
    "    for y, v in zip(x.args, f.args)\n",
    "        prog = vcat(prog, compile(v, y, env))\n",
    "    end\n",
    "    return prog\n",
    "end\n",
    "\n",
    "function compile(x::PatTerm)\n",
    "    f = PatTerm1(x.head, [gensym() for i in x.args])\n",
    "    prog = [Init(f)]\n",
    "    for y, v in zip(x.args, f.args)\n",
    "        prog = vcat(prog, compile(v, y, env))\n",
    "    end\n",
    "    prog = vcat(prog, Yield(env))\n",
    "    return prog # implicilty we're also returning env?\n",
    "end\n",
    "\n",
    "# yeah, so obviously we're bvasically doing some kind of traversal of the pattern. Linearizing it.\n",
    "# \n",
    "    \n",
    "\n",
    "    "
   ]
  },
  {
   "cell_type": "code",
   "execution_count": 46,
   "metadata": {},
   "outputs": [
    {
     "name": "stdout",
     "output_type": "stream",
     "text": [
      "Expr\n",
      "  head: Symbol block\n",
      "  args: Array{Any}((4,))\n",
      "    1: LineNumberNode\n",
      "      line: Int64 3\n",
      "      file: Symbol In[46]\n",
      "    2: Expr\n",
      "      head: Symbol =\n",
      "      args: Array{Any}((2,))\n",
      "        1: Symbol a\n",
      "        2: Int64 1\n",
      "    3: LineNumberNode\n",
      "      line: Int64 4\n",
      "      file: Symbol In[46]\n",
      "    4: Expr\n",
      "      head: Symbol =\n",
      "      args: Array{Any}((2,))\n",
      "        1: Symbol b\n",
      "        2: Int64 2\n"
     ]
    }
   ],
   "source": [
    "dump(:(\n",
    "        begin\n",
    "    a = 1\n",
    "    b = 2\n",
    "        end\n",
    "    ))"
   ]
  },
  {
   "cell_type": "code",
   "execution_count": null,
   "metadata": {},
   "outputs": [],
   "source": []
  }
 ],
 "metadata": {
  "kernelspec": {
   "display_name": "Julia 1.5.0",
   "language": "julia",
   "name": "julia-1.5"
  },
  "language_info": {
   "file_extension": ".jl",
   "mimetype": "application/julia",
   "name": "julia",
   "version": "1.5.0"
  }
 },
 "nbformat": 4,
 "nbformat_minor": 4
}
