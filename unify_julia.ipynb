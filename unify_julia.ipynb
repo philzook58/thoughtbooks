{
 "cells": [
  {
   "cell_type": "code",
   "execution_count": 1,
   "metadata": {},
   "outputs": [
    {
     "data": {
      "text/plain": [
       "Set{Int64} with 3 elements:\n",
       "  2\n",
       "  3\n",
       "  1"
      ]
     },
     "execution_count": 1,
     "metadata": {},
     "output_type": "execute_result"
    }
   ],
   "source": [
    "Set([1, 2,3])"
   ]
  },
  {
   "cell_type": "markdown",
   "metadata": {},
   "source": [
    "PyRes\n",
    "\n",
    "unification\n",
    "\n",
    "Norvig unify\n",
    "https://github.com/aimacode/aima-python/blob/9ea91c1d3a644fdb007e8dd0870202dcd9d078b6/logic4e.py#L1307\n",
    "\n",
    "norvig - widespread error\n",
    "http://norvig.com/unify-bug.pdf\n",
    "\n",
    "Efficient unification\n",
    "ftp://ftp.cs.indiana.edu/pub/techreports/TR242.pdf\n",
    "\n",
    "blog post\n",
    "https://eli.thegreenplace.net/2018/unification/\n",
    "\n",
    "Efficient representations for triangular substitituions\n",
    "https://users.soe.ucsc.edu/~lkuper/papers/walk.pdf\n",
    "\n",
    "conor mcbride - first order substitition structurly recursive dependent types\n",
    "http://citeseerx.ist.psu.edu/viewdoc/download;jsessionid=880725E316FA5E3540EFAD83C0C2FD88?doi=10.1.1.25.1516&rep=rep1&type=pdf\n",
    "\n",
    "z3 unifier\n",
    "https://github.com/Z3Prover/z3/blob/520ce9a5ee6079651580b6d83bc2db0f342b8a20/src/ast/substitution/unifier.cpp\n",
    "\n",
    "\n",
    "\n",
    "Schulz 2009 tutorial\n",
    "https://resources.mpi-inf.mpg.de/departments/rg1/conferences/vtsa09/slides/schulz.pdf\n",
    "\n",
    "\n",
    "\n",
    "A disjoint set data struture in julia. Doesn't look crzy\n",
    "https://github.com/JuliaCollections/DataStructures.jl/blob/master/src/disjoint_set.jl\n",
    "\n"
   ]
  },
  {
   "cell_type": "code",
   "execution_count": 8,
   "metadata": {},
   "outputs": [],
   "source": [
    "#--------------------\n",
    "abstract type Symbolic{T} end\n",
    "\n",
    "#variables\n",
    "struct Sym{T} <: Symbolic{T}\n",
    "    name::Symbol\n",
    "end\n",
    "\n",
    "struct Term{T} <: Symbolic{T}\n",
    "    f::Any\n",
    "    arguments::Ar\n",
    "end\n",
    "\n"
   ]
  },
  {
   "cell_type": "code",
   "execution_count": 11,
   "metadata": {},
   "outputs": [],
   "source": [
    "#variables\n",
    "struct Sym\n",
    "    name::Symbol\n",
    "end\n",
    "\n",
    "struct Term\n",
    "    f::Symbol\n",
    "    arguments::Array{Any} # Array{Union{Term,Sym}}\n",
    "end"
   ]
  },
  {
   "cell_type": "code",
   "execution_count": 10,
   "metadata": {},
   "outputs": [
    {
     "data": {
      "text/plain": [
       "Sym{Int64}(:x)"
      ]
     },
     "execution_count": 10,
     "metadata": {},
     "output_type": "execute_result"
    }
   ],
   "source": [
    "Sym{Int64}(:x)"
   ]
  },
  {
   "cell_type": "code",
   "execution_count": 11,
   "metadata": {},
   "outputs": [
    {
     "data": {
      "text/plain": [
       "true"
      ]
     },
     "execution_count": 11,
     "metadata": {},
     "output_type": "execute_result"
    }
   ],
   "source": [
    "any( [true true false]  )"
   ]
  },
  {
   "cell_type": "code",
   "execution_count": 21,
   "metadata": {},
   "outputs": [
    {
     "data": {
      "text/plain": [
       "(1, 3)"
      ]
     },
     "execution_count": 21,
     "metadata": {},
     "output_type": "execute_result"
    }
   ],
   "source": [
    "size([1 2 3])"
   ]
  },
  {
   "cell_type": "code",
   "execution_count": 12,
   "metadata": {},
   "outputs": [
    {
     "data": {
      "text/plain": [
       "unify (generic function with 4 methods)"
      ]
     },
     "execution_count": 12,
     "metadata": {},
     "output_type": "execute_result"
    }
   ],
   "source": [
    "occur_check(x::Sym,y::Term,s) = any(occur_check(x, a, s) for a in y.arguments)\n",
    "\n",
    "function occur_check(x::Sym,y::Sym,s)\n",
    "    if x == y\n",
    "        return s\n",
    "    elseif haskey(s,y)\n",
    "        return occur_check(x, s[y], s)\n",
    "    else\n",
    "        return nothing\n",
    "    end  \n",
    "end\n",
    "\n",
    "\n",
    "function unify(x::Sym, y::Union{Sym,Term}, s) \n",
    "   if x == y\n",
    "        return s\n",
    "   elseif haskey(s,x)\n",
    "        return unify(s[x], y, s)\n",
    "   elseif haskey(s,y) # This is the norvig twist\n",
    "        return unify(x, s[y], s)\n",
    "   elseif occur_check(x,y,s)\n",
    "        return nothing\n",
    "   else\n",
    "        s[x] = y\n",
    "        return s\n",
    "   end\n",
    "end\n",
    "\n",
    "unify(x::Term, y::Sym, s) = unify(y,x,s)\n",
    "\n",
    "function unify(x :: Term, y :: Term, s)\n",
    "    if x.f == y.f && length(x.arguments) == length(y.arguments)\n",
    "        for (x1, y1) in zip(x.arguments, y.arguments)\n",
    "            if unify(x1,y1,s) == nothing\n",
    "                return nothing\n",
    "            end\n",
    "        end\n",
    "        return s\n",
    "    else\n",
    "        return nothing\n",
    "    end\n",
    "end\n",
    "\n",
    "unify(x,y) = unify(x,y,Dict())"
   ]
  },
  {
   "cell_type": "code",
   "execution_count": 16,
   "metadata": {},
   "outputs": [
    {
     "data": {
      "text/plain": [
       "Dict{Any,Any} with 2 entries:\n",
       "  4 => 4\n",
       "  3 => 2"
      ]
     },
     "execution_count": 16,
     "metadata": {},
     "output_type": "execute_result"
    }
   ],
   "source": [
    "s = Dict()\n",
    "s[3] = 2\n",
    "s[4] = 4\n",
    "s"
   ]
  },
  {
   "cell_type": "code",
   "execution_count": 13,
   "metadata": {},
   "outputs": [
    {
     "data": {
      "text/plain": [
       "@string2term (macro with 1 method)"
      ]
     },
     "execution_count": 13,
     "metadata": {},
     "output_type": "execute_result"
    }
   ],
   "source": [
    "#==\n",
    "string2term(x)\n",
    "    if x isa Symbol\n",
    "        name = String(x)\n",
    "        if isuppercase(name[1])\n",
    "           return :( Sym( Symbol($(name)) ) )\n",
    "        else\n",
    "           return :( Term( Symbol($(name)), []  ))\n",
    "        end\n",
    "    elseif x isa Expr\n",
    "        @assert(x.head == :call)\n",
    "        arguments = [string2term(y) for y in x.args[2:end] ]\n",
    "        return :( Term(  Symbol($(String(x.args[1]))), $(arguments)  ))\n",
    "    end\n",
    "end\n",
    "==#\n",
    "function string2term(x)\n",
    "    if x isa Symbol\n",
    "        name = String(x)\n",
    "        if isuppercase(name[1])\n",
    "           return Sym( x)\n",
    "        else\n",
    "           return Term( x, []  )\n",
    "        end\n",
    "    elseif x isa Expr\n",
    "        @assert(x.head == :call)\n",
    "        arguments = [string2term(y) for y in x.args[2:end] ]\n",
    "        return Term( x.args[1], arguments )\n",
    "    end\n",
    "end\n",
    "macro string2term(x)\n",
    "    return :( $(string2term(x)) )\n",
    "end\n"
   ]
  },
  {
   "cell_type": "code",
   "execution_count": 3,
   "metadata": {},
   "outputs": [
    {
     "name": "stdout",
     "output_type": "stream",
     "text": [
      "f(x)\n",
      "x\n"
     ]
    },
    {
     "data": {
      "text/plain": [
       "Term(:f, Any[Term(:x, Any[])])"
      ]
     },
     "execution_count": 3,
     "metadata": {},
     "output_type": "execute_result"
    }
   ],
   "source": [
    "string2term(:(f(x)))"
   ]
  },
  {
   "cell_type": "code",
   "execution_count": 6,
   "metadata": {},
   "outputs": [
    {
     "name": "stdout",
     "output_type": "stream",
     "text": [
      "f(y, Yy, Z)\n",
      "y\n",
      "Yy\n",
      "Z\n"
     ]
    },
    {
     "data": {
      "text/plain": [
       "Term(:f, Any[Term(:y, Any[]), Sym(:Yy), Sym(:Z)])"
      ]
     },
     "execution_count": 6,
     "metadata": {},
     "output_type": "execute_result"
    }
   ],
   "source": [
    "@string2term(f(y,Yy,Z))"
   ]
  },
  {
   "cell_type": "code",
   "execution_count": 9,
   "metadata": {},
   "outputs": [
    {
     "name": "stdout",
     "output_type": "stream",
     "text": [
      "X\n",
      "a\n"
     ]
    },
    {
     "data": {
      "text/plain": [
       "Dict{Any,Any} with 1 entry:\n",
       "  Sym(:X) => Term(:a, Any[])"
      ]
     },
     "execution_count": 9,
     "metadata": {},
     "output_type": "execute_result"
    }
   ],
   "source": [
    "s = Dict()\n",
    "unify( @string2term(X) , @string2term(a) , s)\n",
    "s"
   ]
  },
  {
   "cell_type": "code",
   "execution_count": 15,
   "metadata": {},
   "outputs": [
    {
     "name": "stdout",
     "output_type": "stream",
     "text": [
      "X\n",
      "f(X)\n",
      "X\n"
     ]
    },
    {
     "data": {
      "text/plain": [
       "false"
      ]
     },
     "execution_count": 15,
     "metadata": {},
     "output_type": "execute_result"
    }
   ],
   "source": [
    "s = Dict()\n",
    "unify( @string2term(X) , @string2term(f(X)) , s)\n"
   ]
  },
  {
   "cell_type": "code",
   "execution_count": 17,
   "metadata": {},
   "outputs": [
    {
     "name": "stdout",
     "output_type": "stream",
     "text": [
      "X\n",
      "f(Y)\n",
      "Y\n"
     ]
    },
    {
     "data": {
      "text/plain": [
       "Dict{Any,Any} with 1 entry:\n",
       "  Sym(:X) => Term(:f, Any[Sym(:Y)])"
      ]
     },
     "execution_count": 17,
     "metadata": {},
     "output_type": "execute_result"
    }
   ],
   "source": [
    "s = Dict()\n",
    "unify( @string2term(X) , @string2term(f(Y)) , s)\n",
    "s"
   ]
  },
  {
   "cell_type": "code",
   "execution_count": 23,
   "metadata": {},
   "outputs": [
    {
     "name": "stdout",
     "output_type": "stream",
     "text": [
      "f(X, a)\n",
      "X\n",
      "a\n",
      "f(b, Y)\n",
      "b\n",
      "Y\n"
     ]
    },
    {
     "data": {
      "text/plain": [
       "Dict{Any,Any} with 2 entries:\n",
       "  Sym(:X) => Term(:b, Any[])\n",
       "  Sym(:Y) => Term(:a, Any[])"
      ]
     },
     "execution_count": 23,
     "metadata": {},
     "output_type": "execute_result"
    }
   ],
   "source": [
    "s = Dict()\n",
    "unify( @string2term(f(X,a)) , @string2term(f(b,Y)) , s)\n",
    "s"
   ]
  },
  {
   "cell_type": "code",
   "execution_count": 14,
   "metadata": {},
   "outputs": [
    {
     "name": "stdout",
     "output_type": "stream",
     "text": [
      "Dict{Any,Any}(Sym(:X) => Term(:f, Any[Term(:a, Any[])]),Sym(:Y) => Term(:a, Any[]),Sym(:Z) => Term(:f, Any[Term(:a, Any[])]))"
     ]
    }
   ],
   "source": [
    "\n",
    "print(unify( @string2term(p(X,g(a), f(a, f(a)))) , @string2term(p(f(a), g(Y), f(Y, Z)))))\n"
   ]
  },
  {
   "cell_type": "code",
   "execution_count": 35,
   "metadata": {},
   "outputs": [
    {
     "name": "stdout",
     "output_type": "stream",
     "text": [
      "f(f(g(X), a), g(X))\n",
      "f(g(X), a)\n",
      "g(X)\n",
      "X\n",
      "a\n",
      "g(X)\n",
      "X\n",
      "f(f(g(X), a), g(X))\n",
      "f(g(X), a)\n",
      "g(X)\n",
      "X\n",
      "a\n",
      "g(X)\n",
      "X\n",
      "true"
     ]
    },
    {
     "data": {
      "text/plain": [
       "Dict{Any,Any} with 0 entries"
      ]
     },
     "execution_count": 35,
     "metadata": {},
     "output_type": "execute_result"
    }
   ],
   "source": [
    "s = Dict()\n",
    "print(unify( @string2term(f(f(g(X),a),g(X))) , @string2term(f(f(g(X),a),g(X))) , s))\n",
    "s"
   ]
  },
  {
   "cell_type": "code",
   "execution_count": 40,
   "metadata": {},
   "outputs": [
    {
     "data": {
      "text/plain": [
       "Dict{Any,Any} with 1 entry:\n",
       "  Sym(:X) => Sym(:Y)"
      ]
     },
     "execution_count": 40,
     "metadata": {},
     "output_type": "execute_result"
    }
   ],
   "source": [
    "unify( @string2term(p(X,Y)) , @string2term(p(Y,X)) , s)\n"
   ]
  },
  {
   "cell_type": "code",
   "execution_count": null,
   "metadata": {},
   "outputs": [],
   "source": [
    "        self.s9 = terms.string2Term(\"f(f(g(X),a),X)\")\n",
    "        self.t9 = terms.string2Term(\"f(Y,g(Y))\")\n",
    "\n",
    "        self.s10 = terms.string2Term(\"f(f(g(X),a),g(X))\")\n",
    "        self.t10 = terms.string2Term(\"f(Y,g(Z))\")\n",
    "\n",
    "        self.s11 = terms.string2Term(\"p(X,g(a), f(a, f(a)))\")\n",
    "        self.t11 = terms.string2Term(\"p(f(a), g(Y), f(Y, Z))\")"
   ]
  },
  {
   "cell_type": "code",
   "execution_count": null,
   "metadata": {},
   "outputs": [],
   "source": []
  },
  {
   "cell_type": "code",
   "execution_count": 52,
   "metadata": {},
   "outputs": [
    {
     "data": {
      "text/plain": [
       ":x"
      ]
     },
     "execution_count": 52,
     "metadata": {},
     "output_type": "execute_result"
    }
   ],
   "source": [
    "Symbol(\"x\")"
   ]
  },
  {
   "cell_type": "code",
   "execution_count": 27,
   "metadata": {},
   "outputs": [
    {
     "data": {
      "text/plain": [
       "false"
      ]
     },
     "execution_count": 27,
     "metadata": {},
     "output_type": "execute_result"
    }
   ],
   "source": [
    "isuppercase(String(:x)[1])"
   ]
  },
  {
   "cell_type": "code",
   "execution_count": 5,
   "metadata": {},
   "outputs": [
    {
     "data": {
      "text/plain": [
       "Dict{Sym,Union{Sym, Term}} with 1 entry:\n",
       "  Sym(:x) => Sym(:y)"
      ]
     },
     "execution_count": 5,
     "metadata": {},
     "output_type": "execute_result"
    }
   ],
   "source": [
    "s = Dict{Sym, Union{Sym , Term}}()\n",
    "s[Sym(:x)] = Sym(:y)\n",
    "s"
   ]
  },
  {
   "cell_type": "code",
   "execution_count": 13,
   "metadata": {},
   "outputs": [
    {
     "ename": "ErrorException",
     "evalue": "AbstractDict collections only contain Pairs;\nEither look for e.g. A=>B instead, or use the `keys` or `values`\nfunction if you are looking for a key or value respectively.",
     "output_type": "error",
     "traceback": [
      "AbstractDict collections only contain Pairs;\nEither look for e.g. A=>B instead, or use the `keys` or `values`\nfunction if you are looking for a key or value respectively.",
      "",
      "Stacktrace:",
      " [1] error(::String) at ./error.jl:33",
      " [2] in(::Term, ::Dict{Sym,Union{Sym, Term}}) at ./abstractdict.jl:28",
      " [3] top-level scope at In[13]:1"
     ]
    }
   ],
   "source": [
    "Term(:f, []) in s"
   ]
  },
  {
   "cell_type": "code",
   "execution_count": 15,
   "metadata": {},
   "outputs": [
    {
     "data": {
      "text/plain": [
       "false"
      ]
     },
     "execution_count": 15,
     "metadata": {},
     "output_type": "execute_result"
    }
   ],
   "source": [
    "haskey(s, Term(:f, []))"
   ]
  },
  {
   "cell_type": "code",
   "execution_count": 17,
   "metadata": {},
   "outputs": [
    {
     "data": {
      "text/plain": [
       "true"
      ]
     },
     "execution_count": 17,
     "metadata": {},
     "output_type": "execute_result"
    }
   ],
   "source": [
    "haskey(s, Sym(:x))"
   ]
  },
  {
   "cell_type": "code",
   "execution_count": 8,
   "metadata": {},
   "outputs": [
    {
     "data": {
      "text/plain": [
       "Expr"
      ]
     },
     "execution_count": 8,
     "metadata": {},
     "output_type": "execute_result"
    }
   ],
   "source": [
    "typeof(:( 1 + 2 ))"
   ]
  },
  {
   "cell_type": "code",
   "execution_count": 9,
   "metadata": {},
   "outputs": [
    {
     "data": {
      "text/plain": [
       "Symbol"
      ]
     },
     "execution_count": 9,
     "metadata": {},
     "output_type": "execute_result"
    }
   ],
   "source": [
    "typeof(:x)"
   ]
  },
  {
   "cell_type": "code",
   "execution_count": 12,
   "metadata": {},
   "outputs": [
    {
     "data": {
      "text/plain": [
       ":call"
      ]
     },
     "execution_count": 12,
     "metadata": {},
     "output_type": "execute_result"
    }
   ],
   "source": [
    ":(1 + 2).head"
   ]
  },
  {
   "cell_type": "code",
   "execution_count": null,
   "metadata": {},
   "outputs": [],
   "source": [
    "struct ProofState\n",
    " processed\n",
    " unprocessed\n",
    "end\n",
    "\n",
    "\n",
    "struct Clause\n",
    "    \n",
    "end"
   ]
  },
  {
   "cell_type": "code",
   "execution_count": null,
   "metadata": {},
   "outputs": [],
   "source": [
    "computeAllFactors\n",
    "\n",
    "function computeAllResolvents(clauses , processed ) \n",
    "end\n",
    "\n",
    "function computeAllFactors"
   ]
  },
  {
   "cell_type": "markdown",
   "metadata": {},
   "source": [
    "SAT solving\n",
    "\n",
    "\n",
    "https://github.com/niklasso/minisat/blob/master/minisat/core/Solver.cc\n",
    "\n",
    "\n",
    "nelson oppen\n",
    "\n",
    "\n",
    "\n",
    "\n",
    "One should always consider brute force first\n",
    "\n",
    "\n",
    "Davis Putnam solver via reslutions\n",
    "\n",
    "\n",
    "First order axioms of categroy theory\n",
    "https://math.stackexchange.com/questions/2383503/category-theory-from-the-first-order-logic-point-of-view#:~:text=Any%20model%20of%20this%20theory%20is%20a%20category.&text=First%2Dorder%20logic%20is%20typically,%22%20or%20%22internal%22%20categories.\n",
    "\n",
    "https://www.cs.le.ac.uk/people/rlc3/research/papers/mgs2015-categoryTheory-exercises.pdf\n",
    "\n",
    "Category theory questions\n",
    "pullbacks of monics are monic\n",
    "\n",
    "verify x is a category\n",
    "verify x is a functor\n",
    "\n"
   ]
  },
  {
   "cell_type": "code",
   "execution_count": null,
   "metadata": {},
   "outputs": [],
   "source": [
    "struct Solver1\n",
    "    clauses::Array{Array{Int64}}\n",
    "    \n",
    "end\n",
    "\n",
    "nvars(s::Solver) = maximum(abs.(s.clauses))\n",
    "\n",
    "function is_sat( state, clauses )\n",
    "    all( any( state[lit] for lit in clause)   for clause in clauses )\n",
    "end\n",
    "    \n",
    "\n",
    "\n",
    "\n",
    "function search1(s, state, n)\n",
    "    if n >= nvars\n",
    "        return is_sat(state, s.clauses)\n",
    "    end\n",
    "    \n",
    "    state[n] = true\n",
    "    if search(s, state, n+1 )\n",
    "      return true\n",
    "    end\n",
    "    \n",
    "    state[n] = false\n",
    "    if search(s, state, n+1 )\n",
    "      return true\n",
    "    end\n",
    "    \n",
    "    return false\n",
    "end\n",
    "\n",
    "\n",
    "# iterative version\n",
    "function search2(s)\n",
    "    state = [true for i in 0:nvars(s)]\n",
    "    i = n\n",
    "    fw = false\n",
    "    while i >= 1\n",
    "        if i == n && is_sat(state)\n",
    "             break\n",
    "        end\n",
    "        if fw\n",
    "            state[i] = true\n",
    "            i += 1\n",
    "        elseif !fw && state[i]\n",
    "            state[i] = false\n",
    "            fw = true\n",
    "            i += 1\n",
    "        elseif !fw && !state[i]\n",
    "            state[i] = true\n",
    "            i -= 1\n",
    "        end\n",
    "        \n",
    "    end\n",
    "end\n",
    "\n",
    "\n",
    "\n",
    "function search3()\n",
    "    stack = [picklit]\n",
    "    state = []\n",
    "    while length(stack) >= 0 \n",
    "        if alldone\n",
    "            is_sat(s,state)\n",
    "        end\n",
    "        n = picklit\n",
    "        if state[stack[end]] # push onto stack\n",
    "            stack.push(picklit(s))\n",
    "        else\n",
    "            state[]\n",
    "        end\n",
    "        state[i] = true\n",
    "        stack.push(n)\n",
    "    end\n",
    "\n",
    "\n",
    "end\n",
    "\n"
   ]
  },
  {
   "cell_type": "code",
   "execution_count": 47,
   "metadata": {},
   "outputs": [
    {
     "data": {
      "text/plain": [
       "4"
      ]
     },
     "execution_count": 47,
     "metadata": {},
     "output_type": "execute_result"
    }
   ],
   "source": [
    "maximum(abs.([[1 2] [-3] [4]]))"
   ]
  },
  {
   "cell_type": "code",
   "execution_count": 55,
   "metadata": {},
   "outputs": [
    {
     "data": {
      "text/plain": [
       "3"
      ]
     },
     "execution_count": 55,
     "metadata": {},
     "output_type": "execute_result"
    }
   ],
   "source": [
    "maximum(map(x -> maximum(abs.(x)) ,  [[1,2], [-3]]))"
   ]
  },
  {
   "cell_type": "code",
   "execution_count": 9,
   "metadata": {},
   "outputs": [
    {
     "name": "stdout",
     "output_type": "stream",
     "text": [
      "\n",
      ";  @ In[9]:2 within `foo'\n",
      "define i64 @julia_foo_17600(i64) {\n",
      "top:\n",
      ";  @ In[9]:3 within `foo'\n",
      "; ┌ @ range.jl:5 within `Colon'\n",
      "; │┌ @ range.jl:277 within `UnitRange'\n",
      "; ││┌ @ range.jl:282 within `unitrange_last'\n",
      "; │││┌ @ operators.jl:341 within `>='\n",
      "; ││││┌ @ int.jl:410 within `<='\n",
      "       %1 = icmp sgt i64 %0, 0\n",
      "; │││└└\n",
      "     %2 = select i1 %1, i64 %0, i64 0\n",
      "; └└└\n",
      "  br i1 %1, label %L12, label %L28\n",
      "\n",
      "L12:                                              ; preds = %top, %L12\n",
      "  %value_phi3 = phi i64 [ %4, %L12 ], [ %0, %top ]\n",
      "  %value_phi4 = phi i64 [ %6, %L12 ], [ 1, %top ]\n",
      ";  @ In[9]:4 within `foo'\n",
      "; ┌ @ int.jl:54 within `*'\n",
      "   %3 = mul i64 %value_phi4, %value_phi3\n",
      "; └\n",
      "; ┌ @ int.jl:53 within `+'\n",
      "   %4 = add i64 %3, %value_phi3\n",
      "; └\n",
      "; ┌ @ range.jl:597 within `iterate'\n",
      "; │┌ @ promotion.jl:398 within `=='\n",
      "    %5 = icmp eq i64 %value_phi4, %2\n",
      "; │└\n",
      "   %6 = add nuw i64 %value_phi4, 1\n",
      "; └\n",
      "  br i1 %5, label %L28, label %L12\n",
      "\n",
      "L28:                                              ; preds = %L12, %top\n",
      "  %value_phi9 = phi i64 [ %0, %top ], [ %4, %L12 ]\n",
      ";  @ In[9]:6 within `foo'\n",
      "  ret i64 %value_phi9\n",
      "}\n"
     ]
    }
   ],
   "source": [
    "function foo(n)\n",
    "    acc = n\n",
    "    for i in 1:n\n",
    "        acc += i*acc\n",
    "    end\n",
    "    return acc\n",
    "end\n",
    "\n",
    "@code_llvm(foo(7))"
   ]
  },
  {
   "cell_type": "code",
   "execution_count": null,
   "metadata": {},
   "outputs": [],
   "source": []
  }
 ],
 "metadata": {
  "kernelspec": {
   "display_name": "Julia 1.4.1",
   "language": "julia",
   "name": "julia-1.4"
  },
  "language_info": {
   "file_extension": ".jl",
   "mimetype": "application/julia",
   "name": "julia",
   "version": "1.4.1"
  }
 },
 "nbformat": 4,
 "nbformat_minor": 4
}
