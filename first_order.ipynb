{
 "cells": [
  {
   "cell_type": "code",
   "execution_count": null,
   "metadata": {},
   "outputs": [],
   "source": [
    "abstract type Term end\n",
    "abstract type Formula end\n",
    "\n",
    "@auto_hash_equals struct PredicateSymbol\n",
    "    symbol::String\n",
    "end\n",
    "\n",
    "@auto_hash_equals struct FunctionSymbol\n",
    "    symbol::String\n",
    "end\n",
    "\n",
    "@auto_hash_equals struct Variable <: Term\n",
    "    variable::String\n",
    "end\n",
    "\n",
    "@auto_hash_equals struct Function <: Term\n",
    "    name::FunctionSymbol\n",
    "    arguments::Vector{Term}\n",
    "end\n",
    "\n",
    "@auto_hash_equals struct AtomicFormula <: Formula\n",
    "    name::PredicateSymbol\n",
    "    arguments::Vector{Term}\n",
    "end\n",
    "\n",
    "@auto_hash_equals struct Negation <: Formula\n",
    "    formula::Formula\n",
    "end\n",
    "\n",
    "@auto_hash_equals struct EFormula <: Formula\n",
    "    variable::Variable\n",
    "    formula::Formula\n",
    "end\n",
    "\n",
    "@auto_hash_equals struct AFormula <: Formula\n",
    "    variable::Variable\n",
    "    formula::Formula\n",
    "end\n",
    "\n",
    "@auto_hash_equals struct Conjunction <: Formula\n",
    "    formula1::Formula\n",
    "    formula2::Formula\n",
    "end\n",
    "\n",
    "@auto_hash_equals struct Disjunction <: Formula \n",
    "    formula1::Formula\n",
    "    formula2::Formula\n",
    "end\n",
    "\n",
    "@auto_hash_equals struct Literal\n",
    "    negative::Bool\n",
    "    formula::AtomicFormula\n",
    "end"
   ]
  },
  {
   "cell_type": "code",
   "execution_count": null,
   "metadata": {},
   "outputs": [],
   "source": [
    "#variables\n",
    "struct Sym\n",
    "    name::Symbol\n",
    "end\n",
    "\n",
    "struct Term\n",
    "    f::Symbol\n",
    "    arguments::Array{Any} # Array{Union{Term,Sym}}\n",
    "end\n",
    "\n",
    "\n",
    "struct ForAll\n",
    "    vars::Vec{Sym}\n",
    "    body\n",
    "end\n",
    "\n",
    "struct Exists\n",
    "    vars::Vec{Sym}\n",
    "    body\n",
    "end\n",
    "\n",
    "struct And\n",
    "    arguments::Vec{Any}\n",
    "end\n",
    "\n",
    "struct Or\n",
    "    arguments::Vec{Any}\n",
    "end\n",
    "\n",
    "struct Not\n",
    "    body\n",
    "end\n",
    "\n",
    "struct Eq\n",
    "    left\n",
    "    right\n",
    "end\n",
    "\n",
    "struct Implies\n",
    "    hyp\n",
    "    conc\n",
    "end\n",
    "\n",
    "struct Equiv\n",
    "    left\n",
    "    right\n",
    "end\n",
    "\n",
    "\n",
    "tptp( x::Not  ) = \"( ~ $(tptp(x.body)) )\"\n",
    "tptp( x::Eq  ) = \"( $(tptp(x.left)) = $(tptp(x.right)) )\"\n",
    "tptp( x ::ForAll ) = \"( ! [  $(join(map(tptp,x.vars),\" , \"))  ] :  $(tptp(x.body)) )\"\n",
    "tptp( x ::Exists ) = \"( ? [  $(join(map(tptp,x.vars),\" , \"))  ] :  $(tptp(x.body)) )\"\n",
    "tptp( x ::And ) = \"( $(join(map(tptp,x.vars),\" & \")) )\"\n",
    "tptp( x ::Or ) = \"( $(join(map(tptp,x.vars),\" | \")) )\"\n",
    "\n",
    "\n",
    "\n",
    "\\neg\n",
    "¬\n",
    "∧ \\wedge \\v \\vee\n",
    "\n",
    "∀\n",
    "∃\n",
    "\n",
    "\n",
    "\n"
   ]
  },
  {
   "cell_type": "code",
   "execution_count": 19,
   "metadata": {},
   "outputs": [
    {
     "data": {
      "text/plain": [
       "\" 3 7\""
      ]
     },
     "execution_count": 19,
     "metadata": {},
     "output_type": "execute_result"
    }
   ],
   "source": [
    "\" $(1 + 2) $(3 + 4)\""
   ]
  },
  {
   "cell_type": "code",
   "execution_count": 20,
   "metadata": {},
   "outputs": [
    {
     "data": {
      "text/plain": [
       "\"( 1&2&3 )\""
      ]
     },
     "execution_count": 20,
     "metadata": {},
     "output_type": "execute_result"
    }
   ],
   "source": [
    "\"( $(join(map(string,[1 2 3]),\"&\")) )\""
   ]
  },
  {
   "cell_type": "code",
   "execution_count": 18,
   "metadata": {},
   "outputs": [
    {
     "data": {
      "text/plain": [
       "\"x  y\""
      ]
     },
     "execution_count": 18,
     "metadata": {},
     "output_type": "execute_result"
    }
   ],
   "source": [
    "string(\"x \" ,\" y\")"
   ]
  },
  {
   "cell_type": "code",
   "execution_count": 16,
   "metadata": {},
   "outputs": [
    {
     "name": "stdout",
     "output_type": "stream",
     "text": [
      "Expr\n",
      "  head: Symbol call\n",
      "  args: Array{Any}((3,))\n",
      "    1: Symbol ∧\n",
      "    2: Expr\n",
      "      head: Symbol call\n",
      "      args: Array{Any}((3,))\n",
      "        1: Symbol ∧\n",
      "        2: Symbol a\n",
      "        3: Symbol b\n",
      "    3: Symbol c\n"
     ]
    },
    {
     "ename": "LoadError",
     "evalue": "syntax: invalid identifier name \"?\"",
     "output_type": "error",
     "traceback": [
      "syntax: invalid identifier name \"?\"",
      ""
     ]
    }
   ],
   "source": [
    "dump(:(a ∧ b ∧ c))\n",
    "dump(:( ? [x]  ))"
   ]
  },
  {
   "cell_type": "markdown",
   "metadata": {},
   "source": [
    "http://www.tptp.org/cgi-bin/SeeTPTP?Category=Problems&Domain=PUZ&File=PUZ131_1.p\n",
    "\n",
    "\n",
    "\n",
    "tff(student_type,type,(\n",
    "    student: $tType )).\n",
    "\n",
    "tff(professor_type,type,(\n",
    "    professor: $tType )).\n",
    "\n",
    "tff(course_type,type,(\n",
    "    course: $tType )).\n",
    "\n",
    "tff(michael_type,type,(\n",
    "    michael: student )).\n",
    "\n",
    "tff(victor_type,type,(\n",
    "    victor: professor )).\n",
    "\n",
    "tff(csc410_type,type,(\n",
    "    csc410: course )).\n",
    "\n",
    "tff(enrolled_type,type,(\n",
    "    enrolled: ( student * course ) > $o )).\n",
    "\n",
    "tff(teaches_type,type,(\n",
    "    teaches: ( professor * course ) > $o )).\n",
    "\n",
    "tff(taught_by_type,type,(\n",
    "    taughtby: ( student * professor ) > $o )).\n",
    "\n",
    "tff(coordinator_of_type,type,(\n",
    "    coordinatorof: course > professor )).\n",
    "\n",
    "tff(student_enrolled_axiom,axiom,(\n",
    "    ! [X: student] :\n",
    "    ? [Y: course] : enrolled(X,Y) )).\n",
    "\n",
    "tff(professor_teaches,axiom,(\n",
    "    ! [X: professor] :\n",
    "    ? [Y: course] : teaches(X,Y) )).\n",
    "\n",
    "tff(course_enrolled,axiom,(\n",
    "    ! [X: course] :\n",
    "    ? [Y: student] : enrolled(Y,X) )).\n",
    "\n",
    "tff(course_teaches,axiom,(\n",
    "    ! [X: course] :\n",
    "    ? [Y: professor] : teaches(Y,X) )).\n",
    "\n",
    "tff(coordinator_teaches,axiom,(\n",
    "    ! [X: course] : teaches(coordinatorof(X),X) )).\n",
    "\n",
    "tff(student_enrolled_taught,axiom,(\n",
    "    ! [X: student,Y: course] :\n",
    "      ( enrolled(X,Y)\n",
    "     => ! [Z: professor] :\n",
    "          ( teaches(Z,Y)\n",
    "         => taughtby(X,Z) ) ) )).\n",
    "\n",
    "tff(michael_enrolled_csc410_axiom,axiom,(\n",
    "    enrolled(michael,csc410) )).\n",
    "\n",
    "tff(victor_coordinator_csc410_axiom,axiom,(\n",
    "    coordinatorof(csc410) = victor )).\n",
    "\n",
    "tff(teaching_conjecture,conjecture,(\n",
    "    taughtby(michael,victor) )).\n"
   ]
  }
 ],
 "metadata": {
  "kernelspec": {
   "display_name": "Julia 1.4.1",
   "language": "julia",
   "name": "julia-1.4"
  },
  "language_info": {
   "file_extension": ".jl",
   "mimetype": "application/julia",
   "name": "julia",
   "version": "1.4.1"
  }
 },
 "nbformat": 4,
 "nbformat_minor": 4
}
