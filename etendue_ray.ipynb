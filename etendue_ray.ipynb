{
 "cells": [
  {
   "cell_type": "markdown",
   "metadata": {},
   "source": [
    "The 2d ray tracing is fun\n",
    "\n",
    "\n",
    "\n",
    "Julia probably has a differentiable ray tracing thing.\n",
    "\n",
    "Can wwe numerically compute etendue simply?\n",
    "\n",
    "\n",
    "2 surfaces is a boundary value problem\n",
    "\n",
    "We can monte carlo it to get a sampling. This is a shooting method.\n",
    "\n",
    "\n",
    "\n",
    "Ray tracing special relativity would be fun\n",
    "Reference frame matters\n",
    "But also finite propagation time of \n",
    "Consider an acoustic camera, we have no notion of length contraction there.\n",
    "\n",
    "sphere = (x - vt)^2 + y^2 = R^2\n",
    "Do we pick ray starting from camera or from sphere.\n",
    "ray = x + c(-t) + y + c(-t)\n",
    "\n",
    "\n",
    "2d ray tracing is kind of helpful.\n",
    "Maybe SR would be a cool special boy time thing.\n",
    "\n",
    "\n",
    "\n"
   ]
  }
 ],
 "metadata": {
  "kernelspec": {
   "display_name": "Julia 1.6.0",
   "language": "julia",
   "name": "julia-1.6"
  },
  "language_info": {
   "file_extension": ".jl",
   "mimetype": "application/julia",
   "name": "julia",
   "version": "1.6.0"
  }
 },
 "nbformat": 4,
 "nbformat_minor": 4
}
