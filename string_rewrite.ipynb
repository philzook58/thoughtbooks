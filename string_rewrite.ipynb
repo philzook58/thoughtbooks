{
 "cells": [
  {
   "cell_type": "code",
   "execution_count": 12,
   "metadata": {},
   "outputs": [
    {
     "data": {
      "text/plain": [
       "\"aa\""
      ]
     },
     "execution_count": 12,
     "metadata": {},
     "output_type": "execute_result"
    }
   ],
   "source": [
    "ex1 = [\n",
    "    r\"aaa\" => s\"c\",  r\"c\" => s\"aa\"\n",
    "]\n",
    "\n",
    "function runsys(string, system) \n",
    "    old_string = \"\"\n",
    "    while string != old_string\n",
    "        old_string = string\n",
    "        for rule in system\n",
    "            string = replace(string, rule)\n",
    "        end\n",
    "    end\n",
    "    return string\n",
    "end\n",
    "\n",
    "\n",
    "#replace(\"aaaaaaaaaaaa\",  r\"aaa\" => s\"c\")\n",
    "\n",
    "runsys(\"aaaaaaaaaaaa\", ex1)\n",
    "#replace(\"aaaaaaaaaaaa\",  r\"c\" => s\"aa\")"
   ]
  },
  {
   "cell_type": "code",
   "execution_count": null,
   "metadata": {},
   "outputs": [],
   "source": [
    "\"plus s1 ?a e1\" => "
   ]
  },
  {
   "cell_type": "code",
   "execution_count": 7,
   "metadata": {},
   "outputs": [
    {
     "data": {
      "text/plain": [
       "missing"
      ]
     },
     "execution_count": 7,
     "metadata": {},
     "output_type": "execute_result"
    }
   ],
   "source": [
    "missing | false"
   ]
  },
  {
   "cell_type": "markdown",
   "metadata": {},
   "source": [
    "What about using the string rewriting Z3 example with an increasing number of morphisms.\n",
    "\n",
    "objects =\n",
    "[ A,B,C  ]\n",
    "\n",
    "all_tup(objects, N)\n",
    "\n",
    "\n",
    "\n"
   ]
  },
  {
   "cell_type": "code",
   "execution_count": 3,
   "metadata": {},
   "outputs": [
    {
     "data": {
      "text/html": [
       "<b>unsat</b>"
      ],
      "text/plain": [
       "PyObject unsat"
      ]
     },
     "execution_count": 3,
     "metadata": {},
     "output_type": "execute_result"
    }
   ],
   "source": [
    "using PyCall\n",
    "z3 = pyimport(\"z3\")\n",
    "\n",
    "ob = [z3.DeclareSort(\"Hom(-,A)\") , z3.DeclareSort(\"Hom(-,B)\")]\n",
    "f = z3.Function(\"f\", ob[1], ob[2])\n",
    "g = z3.Function(\"g\", ob[2], ob[1])\n",
    "x = z3.Const(\"x\", ob[2])\n",
    "axiom = z3.ForAll([x], f(g(f(g(x)))) == x)\n",
    "\n",
    "s = z3.Solver()\n",
    "s.add(axiom)\n",
    "s.add(z3.Not( g(f(g(f(g(x))))) == g(x) )) # example simple theorem\n",
    "s.check()"
   ]
  },
  {
   "cell_type": "code",
   "execution_count": null,
   "metadata": {},
   "outputs": [],
   "source": []
  },
  {
   "cell_type": "code",
   "execution_count": null,
   "metadata": {},
   "outputs": [],
   "source": [
    "py\"\"\"\n",
    "import numpy as np\n",
    "\n",
    "def sinpi(x):\n",
    "    return np.sin(np.pi * x)\n",
    "\"\"\"\n",
    "py\"sinpi\"(1)"
   ]
  }
 ],
 "metadata": {
  "kernelspec": {
   "display_name": "Julia 1.5.0",
   "language": "julia",
   "name": "julia-1.5"
  },
  "language_info": {
   "file_extension": ".jl",
   "mimetype": "application/julia",
   "name": "julia",
   "version": "1.5.0"
  }
 },
 "nbformat": 4,
 "nbformat_minor": 4
}
