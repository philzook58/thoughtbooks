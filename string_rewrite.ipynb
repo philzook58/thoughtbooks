{
 "cells": [
  {
   "cell_type": "code",
   "execution_count": 12,
   "metadata": {},
   "outputs": [
    {
     "data": {
      "text/plain": [
       "\"aa\""
      ]
     },
     "execution_count": 12,
     "metadata": {},
     "output_type": "execute_result"
    }
   ],
   "source": [
    "ex1 = [\n",
    "    r\"aaa\" => s\"c\",  r\"c\" => s\"aa\"\n",
    "]\n",
    "\n",
    "function runsys(string, system) \n",
    "    old_string = \"\"\n",
    "    while string != old_string\n",
    "        old_string = string\n",
    "        for rule in system\n",
    "            string = replace(string, rule)\n",
    "        end\n",
    "    end\n",
    "    return string\n",
    "end\n",
    "\n",
    "\n",
    "#replace(\"aaaaaaaaaaaa\",  r\"aaa\" => s\"c\")\n",
    "\n",
    "runsys(\"aaaaaaaaaaaa\", ex1)\n",
    "#replace(\"aaaaaaaaaaaa\",  r\"c\" => s\"aa\")"
   ]
  },
  {
   "cell_type": "code",
   "execution_count": null,
   "metadata": {},
   "outputs": [],
   "source": [
    "\"plus s1 ?a e1\" => "
   ]
  },
  {
   "cell_type": "code",
   "execution_count": 7,
   "metadata": {},
   "outputs": [
    {
     "data": {
      "text/plain": [
       "missing"
      ]
     },
     "execution_count": 7,
     "metadata": {},
     "output_type": "execute_result"
    }
   ],
   "source": [
    "missing | false"
   ]
  },
  {
   "cell_type": "code",
   "execution_count": null,
   "metadata": {},
   "outputs": [],
   "source": []
  }
 ],
 "metadata": {
  "kernelspec": {
   "display_name": "Julia 1.5.0",
   "language": "julia",
   "name": "julia-1.5"
  },
  "language_info": {
   "file_extension": ".jl",
   "mimetype": "application/julia",
   "name": "julia",
   "version": "1.5.0"
  }
 },
 "nbformat": 4,
 "nbformat_minor": 4
}
