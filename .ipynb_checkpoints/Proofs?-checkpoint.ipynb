{
 "cells": [
  {
   "cell_type": "code",
   "execution_count": 79,
   "metadata": {},
   "outputs": [],
   "source": [
    "from z3 import *\n",
    "BoolRef.__and__ = lambda self, rhs: And(self,rhs)\n",
    "BoolRef.__or__ = lambda self, rhs: Or(self,rhs)\n",
    "BoolRef.__xor__ = lambda self, rhs: Xor(self,rhs)\n",
    "BoolRef.__invert__ = lambda self: Not(self)\n",
    "#BoolRef.__rshift__ = lambda self, rhs: Implies(self,rhs)\n",
    "BoolRef.__gt__ = lambda self, rhs: Implies(self,rhs) # better precednece. Bad gecause greater than is actually oppositive meaning\n",
    "# implies is that conclusion is a <= b if a is 0, no conclusion. if a is 1 then b has to be 1 \n",
    "# so there is a reasonalbe sense in wich a <= b is a implies b. ugh\n",
    "# maybe > is better in the sense that it makes not so much sense to use strict comparison of booleans\n",
    "\n",
    "\n"
   ]
  },
  {
   "cell_type": "code",
   "execution_count": 251,
   "metadata": {},
   "outputs": [
    {
     "data": {
      "text/plain": [
       "True"
      ]
     },
     "execution_count": 251,
     "metadata": {},
     "output_type": "execute_result"
    }
   ],
   "source": [
    "# https://pypi.org/project/pyrsistent/\n",
    "# python ADTs\n",
    "x, y,a,b,c,z =Reals('x y a b c z')\n",
    "(x + y).num_args()\n",
    "\n",
    "(x + y).decl()\n",
    "(x + y).children()\n",
    "(x + y).children()[0]\n",
    "(x + y).decl() == (x + y).decl() "
   ]
  },
  {
   "cell_type": "code",
   "execution_count": 231,
   "metadata": {},
   "outputs": [],
   "source": [
    "'''\n",
    "It isn't clear that we want to use pure syntactic unifica\n",
    "\n",
    "After we get it, make sure it is SAT (non contradictory)\n",
    "\n",
    "for example if x == (y + 1) in one location and 1 + y in another, I think it'll still work\n",
    "That's kind of nice\n",
    "What about (x + 1) == (y + 1 + 2) ? Ok. I guess that is kind of hard.\n",
    "I guess we could be querying z3 as we go down. No, just do what you can.\n",
    "    (all learned eqaualitys)  => (t1 => t2) comes back unsat, we're good\n",
    "    We don't need equivlance, we need implication which could be weaker.\n",
    "If they are structurally identical, we good. But if they aren't perhaps you learn enough elsewhere\n",
    "\n",
    "what about.\n",
    "(x + 1) == (1 + y)\n",
    "it would perhaps be nice if this could learn x == y\n",
    "\n",
    "\n",
    "We're trying to synthesize the necessary equality constraints. From that perspective\n",
    "\n",
    "We could use the countermodel to avoid having to ask quite so often.\n",
    "\n",
    "if the operation is commutative, we may want to try it that way.\n",
    "We may also want to flip into sympy for some things. I think sympy has matching/unification capabilities that work modulo commutativity.\n",
    "\n",
    "\n",
    "a timeout stopped search\n",
    "'''\n",
    "import itertools\n",
    "def unify(e1,e2):\n",
    "    if is_const(e1):\n",
    "        return [e1 == e2]\n",
    "    else:\n",
    "        if len(e1.children()) != len(e2.children()) or e1.decl() != e2.decl():\n",
    "            return [e1 == e2] #[BoolVal(False)] # I guess we don't need to return False, since we have to check anyhow\n",
    "        else:\n",
    "            return itertools.chain.from_iterable([ unify(c1,c2) for c1,c2 in zip( e1.children() , e2.children()) ] )"
   ]
  },
  {
   "cell_type": "code",
   "execution_count": null,
   "metadata": {},
   "outputs": [],
   "source": [
    "def apply(goal, th):\n",
    "    new_goals = []\n",
    "    if is_quantifier(th):\n",
    "        th = th.body()\n",
    "    while is_impl(th):\n",
    "        new_goals.append(th.children[0])\n",
    "        th = th.children[1]\n",
    "    pred = unify(th,goal) \n",
    "    prove( Implies( pred , Implies(th.body(), goal)))\n",
    "    return pred, new_goals\n",
    "    "
   ]
  },
  {
   "cell_type": "code",
   "execution_count": 246,
   "metadata": {},
   "outputs": [
    {
     "data": {
      "text/plain": [
       "[x == y, False]"
      ]
     },
     "execution_count": 246,
     "metadata": {},
     "output_type": "execute_result"
    }
   ],
   "source": [
    "list(unify( x + (x + x), y+(y+y) ))"
   ]
  },
  {
   "cell_type": "code",
   "execution_count": 255,
   "metadata": {},
   "outputs": [
    {
     "data": {
      "text/html": [
       "[[]]"
      ],
      "text/plain": [
       "[[]]"
      ]
     },
     "execution_count": 255,
     "metadata": {},
     "output_type": "execute_result"
    }
   ],
   "source": [
    "t = Tactic(\"solve-eqs\")\n",
    "t(And(*unify( (x + y) + z ,  (a + b) + c  )))"
   ]
  },
  {
   "cell_type": "code",
   "execution_count": null,
   "metadata": {},
   "outputs": [],
   "source": [
    "def prove2(claim):\n",
    "        s = Solver()\n",
    "        s.add(Not(claim))\n",
    "        r = s.check()\n",
    "        if r == unsat:\n",
    "            return True\n",
    "        if r  == sat:\n",
    "            print(\"Countermodel : \" + str(s.model()))\n",
    "            return False\n",
    "        return False\n",
    "    \n",
    "class CoreGoal():\n",
    "    def __init__(self, th, ctx=[]): # context may include necessary theorems and definitions\n",
    "        goal = th\n",
    "        self.th = th # store original statement of theorem\n",
    "        self.goals = [(ctx,goal)] #proof state\n",
    "        self.proven = False\n",
    "    def set_state(self, goals2):\n",
    "        cond = Or([Implies(And(*ctx), goal) for ctx,goal in goals2])\n",
    "        ctx, goal = self.goals[-1]\n",
    "        if prove2(Implies(cond, Implies(ctx, goal)):\n",
    "            self.goals.pop()\n",
    "            self.goals.append(goals2)\n",
    "            return True\n",
    "        else:\n",
    "            return False\n",
    "    def smt(self):\n",
    "        ctx, goal = self.goals[-1]\n",
    "        if prove2( Implies(And(*ctx), goal)):\n",
    "           self.goals.pop()\n",
    "           return True\n",
    "        else:\n",
    "           return False\n",
    "    def get_state(self):\n",
    "        return self.goals[-1] #deepcopy(self.goals[-1])\n",
    "    def qed(self):\n",
    "        if len(self.goals) == 0:\n",
    "            self.proven == True\n",
    "            return True\n",
    "        else:\n",
    "            return False\n",
    "    '''def axiom(self, ax):\n",
    "       ctx, goal = self.goals[-1] \n",
    "       ctx.append(p.ax)\n",
    "       return True\n",
    "    '''\n",
    "    def append_context(self, p):\n",
    "       if p.proven:\n",
    "          ctx, goal = self.goals[-1] \n",
    "          ctx.append(p.th)\n",
    "          return True\n",
    "       else:\n",
    "          return False\n",
    "        \n",
    "class Axiom(CoreGoal):\n",
    "      def __init__(self, th)\n",
    "             self.th = th\n",
    "             self.proven = True\n",
    "             self.goals = []\n",
    "     \n",
    "def induction(t, p): #givne data type, return simplex induction principle for that data type\n",
    "    return Axiom(induction(t, p)) # p is proposition to instantiate axiom with\n",
    "        "
   ]
  },
  {
   "cell_type": "code",
   "execution_count": 4,
   "metadata": {},
   "outputs": [],
   "source": [
    "#schema/templates for polymorphic tuples and sums. \n",
    "def Tuple(a,b):\n",
    "    Type = Datatype('Tuple(f{(a.name(),b.name())})')\n",
    "    # Constructor cons: (Int, List) -> List\n",
    "    Type.declare('pair', ('fst', a), ('snd', b))\n",
    "    # Create the datatype\n",
    "    Type = Type.create()\n",
    "    #print is_sort(List)\n",
    "    return Type #, (Type.pair, Type.fst, Type.snd) #{t: Type, pair:Type.pair, fst:Type.fst, }\n",
    "def Either(a,b):\n",
    "    Type = Datatype('Either')\n",
    "    # Constructor cons: (Int, List) -> List\n",
    "    Type.declare('left', ('getLeft', a))\n",
    "    Type.declare('right', ('getRight', b))\n",
    "    # Create the datatype\n",
    "    Type = Type.create()\n",
    "    #print is_sort(List)\n",
    "    return Type #, (Type.left, Type.getLeft), (Type.right, Type.getRight)\n",
    "#Oh TupleSort and DisjointSum are already things\n",
    "#p, _, _ = TupleSort(\"pair\",[IntSort(),BoolSort()])\n",
    "#dir(p)\n",
    "# hmm not in love with their conventions\n",
    "# Unit\n",
    "# SeqSort is built in list? \n",
    "# MaybeSort(a)\n",
    "# Void?\n",
    "# "
   ]
  },
  {
   "cell_type": "code",
   "execution_count": null,
   "metadata": {},
   "outputs": [],
   "source": [
    "# The complex numbers as a data type\n",
    "# complex_thy should be a python module. \n",
    "complex_theory = []\n",
    "axioms = []\n",
    "p, _, _ = TupleSort(\"complex\",[IntSort(),BoolSort()])\n",
    "# Should they just be macro-ized functions or should they\n",
    "# I think probably they should be made similar to bit vectors. There is a high level description and properties\n",
    "# and then once you've simplified signifcatnly you can \"bit-blast\" by going to coordinates.\n",
    "# BitVector and RealVector.\n",
    "#cmul = Function(\"cmul\", Sort(\"complex\"), Sort(\"complex\"))\n",
    "class Z3Complex(DataTypeRef):\n",
    "    def __mul__(self,rhs): \n",
    "    def __add__(self,rhs):\n",
    "    def __sub__(self,rhs):\n",
    "    def __div__(self,rhs):\n",
    "    def real(): #actually these are probably already part of the Ref\n",
    "    def imag():\n",
    "\n",
    "\n",
    "        \n",
    "        "
   ]
  },
  {
   "cell_type": "code",
   "execution_count": 179,
   "metadata": {},
   "outputs": [
    {
     "data": {
      "text/plain": [
       "['__bool__',\n",
       " '__class__',\n",
       " '__copy__',\n",
       " '__deepcopy__',\n",
       " '__del__',\n",
       " '__delattr__',\n",
       " '__dict__',\n",
       " '__dir__',\n",
       " '__doc__',\n",
       " '__eq__',\n",
       " '__format__',\n",
       " '__ge__',\n",
       " '__getattribute__',\n",
       " '__gt__',\n",
       " '__hash__',\n",
       " '__init__',\n",
       " '__init_subclass__',\n",
       " '__le__',\n",
       " '__lt__',\n",
       " '__module__',\n",
       " '__ne__',\n",
       " '__new__',\n",
       " '__nonzero__',\n",
       " '__reduce__',\n",
       " '__reduce_ex__',\n",
       " '__repr__',\n",
       " '__setattr__',\n",
       " '__sizeof__',\n",
       " '__str__',\n",
       " '__subclasshook__',\n",
       " '__weakref__',\n",
       " '_repr_html_',\n",
       " 'arg',\n",
       " 'as_ast',\n",
       " 'ast',\n",
       " 'children',\n",
       " 'ctx',\n",
       " 'ctx_ref',\n",
       " 'decl',\n",
       " 'eq',\n",
       " 'get_id',\n",
       " 'hash',\n",
       " 'num_args',\n",
       " 'params',\n",
       " 'sexpr',\n",
       " 'sort',\n",
       " 'sort_kind',\n",
       " 'translate',\n",
       " 'use_pp']"
      ]
     },
     "execution_count": 179,
     "metadata": {},
     "output_type": "execute_result"
    }
   ],
   "source": [
    "def V2(a):\n",
    "    #print(f\"V2<{a.name()}>\")\n",
    "    Type = Datatype(f\"V2({a.name()})\")\n",
    "    # Constructor cons: (Int, List) -> List\n",
    "    Type.declare('mk_v2', ('x2', a), ('y2', a))\n",
    "    # Create the datatype\n",
    "    Type = Type.create()\n",
    "    #print is_sort(List)\n",
    "    return Type  #, (Type.left, Type.getLeft), (Type.right, Type.getRight)\n",
    "# Hmm This is fairly untenable. It would be really nice to get the right mk_v2 automatically.\n",
    "dir(V2(V2(RealSort())).mk_v2(V2(RealSort()).mk_v2(1,2),V2(RealSort()).mk_v2(3,4))"
   ]
  },
  {
   "cell_type": "code",
   "execution_count": 182,
   "metadata": {},
   "outputs": [
    {
     "ename": "Z3Exception",
     "evalue": "unknown tactic 'unit-propagate'",
     "output_type": "error",
     "traceback": [
      "\u001b[0;31m---------------------------------------------------------------------------\u001b[0m",
      "\u001b[0;31mZ3Exception\u001b[0m                               Traceback (most recent call last)",
      "\u001b[0;32m/usr/local/lib/python3.7/site-packages/z3/z3.py\u001b[0m in \u001b[0;36m__init__\u001b[0;34m(self, tactic, ctx)\u001b[0m\n\u001b[1;32m   7654\u001b[0m             \u001b[0;32mtry\u001b[0m\u001b[0;34m:\u001b[0m\u001b[0;34m\u001b[0m\u001b[0m\n\u001b[0;32m-> 7655\u001b[0;31m                 \u001b[0mself\u001b[0m\u001b[0;34m.\u001b[0m\u001b[0mtactic\u001b[0m \u001b[0;34m=\u001b[0m \u001b[0mZ3_mk_tactic\u001b[0m\u001b[0;34m(\u001b[0m\u001b[0mself\u001b[0m\u001b[0;34m.\u001b[0m\u001b[0mctx\u001b[0m\u001b[0;34m.\u001b[0m\u001b[0mref\u001b[0m\u001b[0;34m(\u001b[0m\u001b[0;34m)\u001b[0m\u001b[0;34m,\u001b[0m \u001b[0mstr\u001b[0m\u001b[0;34m(\u001b[0m\u001b[0mtactic\u001b[0m\u001b[0;34m)\u001b[0m\u001b[0;34m)\u001b[0m\u001b[0;34m\u001b[0m\u001b[0m\n\u001b[0m\u001b[1;32m   7656\u001b[0m             \u001b[0;32mexcept\u001b[0m \u001b[0mZ3Exception\u001b[0m\u001b[0;34m:\u001b[0m\u001b[0;34m\u001b[0m\u001b[0m\n",
      "\u001b[0;32m/usr/local/lib/python3.7/site-packages/z3/z3core.py\u001b[0m in \u001b[0;36mZ3_mk_tactic\u001b[0;34m(a0, a1, _elems)\u001b[0m\n\u001b[1;32m   3373\u001b[0m   \u001b[0mr\u001b[0m \u001b[0;34m=\u001b[0m \u001b[0m_elems\u001b[0m\u001b[0;34m.\u001b[0m\u001b[0mf\u001b[0m\u001b[0;34m(\u001b[0m\u001b[0ma0\u001b[0m\u001b[0;34m,\u001b[0m \u001b[0m_to_ascii\u001b[0m\u001b[0;34m(\u001b[0m\u001b[0ma1\u001b[0m\u001b[0;34m)\u001b[0m\u001b[0;34m)\u001b[0m\u001b[0;34m\u001b[0m\u001b[0m\n\u001b[0;32m-> 3374\u001b[0;31m   \u001b[0m_elems\u001b[0m\u001b[0;34m.\u001b[0m\u001b[0mCheck\u001b[0m\u001b[0;34m(\u001b[0m\u001b[0ma0\u001b[0m\u001b[0;34m)\u001b[0m\u001b[0;34m\u001b[0m\u001b[0m\n\u001b[0m\u001b[1;32m   3375\u001b[0m   \u001b[0;32mreturn\u001b[0m \u001b[0mr\u001b[0m\u001b[0;34m\u001b[0m\u001b[0m\n",
      "\u001b[0;32m/usr/local/lib/python3.7/site-packages/z3/z3core.py\u001b[0m in \u001b[0;36mCheck\u001b[0;34m(self, ctx)\u001b[0m\n\u001b[1;32m   1380\u001b[0m     \u001b[0;32mif\u001b[0m \u001b[0merr\u001b[0m \u001b[0;34m!=\u001b[0m \u001b[0mself\u001b[0m\u001b[0;34m.\u001b[0m\u001b[0mOK\u001b[0m\u001b[0;34m:\u001b[0m\u001b[0;34m\u001b[0m\u001b[0m\n\u001b[0;32m-> 1381\u001b[0;31m         \u001b[0;32mraise\u001b[0m \u001b[0mself\u001b[0m\u001b[0;34m.\u001b[0m\u001b[0mException\u001b[0m\u001b[0;34m(\u001b[0m\u001b[0mself\u001b[0m\u001b[0;34m.\u001b[0m\u001b[0mget_error_message\u001b[0m\u001b[0;34m(\u001b[0m\u001b[0mctx\u001b[0m\u001b[0;34m,\u001b[0m \u001b[0merr\u001b[0m\u001b[0;34m)\u001b[0m\u001b[0;34m)\u001b[0m\u001b[0;34m\u001b[0m\u001b[0m\n\u001b[0m\u001b[1;32m   1382\u001b[0m \u001b[0;34m\u001b[0m\u001b[0m\n",
      "\u001b[0;31mZ3Exception\u001b[0m: b'unknown tactic unit-propagate'",
      "\nDuring handling of the above exception, another exception occurred:\n",
      "\u001b[0;31mZ3Exception\u001b[0m                               Traceback (most recent call last)",
      "\u001b[0;32m<ipython-input-182-d83a9c7988d3>\u001b[0m in \u001b[0;36m<module>\u001b[0;34m\u001b[0m\n\u001b[1;32m      1\u001b[0m \u001b[0ma\u001b[0m\u001b[0;34m,\u001b[0m \u001b[0mb\u001b[0m \u001b[0;34m=\u001b[0m \u001b[0mBools\u001b[0m\u001b[0;34m(\u001b[0m\u001b[0;34m\"a b\"\u001b[0m\u001b[0;34m)\u001b[0m\u001b[0;34m\u001b[0m\u001b[0m\n\u001b[1;32m      2\u001b[0m \u001b[0mp\u001b[0m \u001b[0;34m=\u001b[0m \u001b[0mImplies\u001b[0m\u001b[0;34m(\u001b[0m\u001b[0ma\u001b[0m\u001b[0;34m,\u001b[0m\u001b[0mb\u001b[0m\u001b[0;34m)\u001b[0m \u001b[0;34m&\u001b[0m \u001b[0ma\u001b[0m\u001b[0;34m\u001b[0m\u001b[0m\n\u001b[0;32m----> 3\u001b[0;31m \u001b[0mt\u001b[0m \u001b[0;34m=\u001b[0m \u001b[0mTactic\u001b[0m\u001b[0;34m(\u001b[0m\u001b[0;34m\"unit-propagate\"\u001b[0m\u001b[0;34m)\u001b[0m\u001b[0;34m\u001b[0m\u001b[0m\n\u001b[0m\u001b[1;32m      4\u001b[0m \u001b[0mt\u001b[0m\u001b[0;34m(\u001b[0m\u001b[0mp\u001b[0m\u001b[0;34m)\u001b[0m\u001b[0;34m\u001b[0m\u001b[0m\n",
      "\u001b[0;32m/usr/local/lib/python3.7/site-packages/z3/z3.py\u001b[0m in \u001b[0;36m__init__\u001b[0;34m(self, tactic, ctx)\u001b[0m\n\u001b[1;32m   7655\u001b[0m                 \u001b[0mself\u001b[0m\u001b[0;34m.\u001b[0m\u001b[0mtactic\u001b[0m \u001b[0;34m=\u001b[0m \u001b[0mZ3_mk_tactic\u001b[0m\u001b[0;34m(\u001b[0m\u001b[0mself\u001b[0m\u001b[0;34m.\u001b[0m\u001b[0mctx\u001b[0m\u001b[0;34m.\u001b[0m\u001b[0mref\u001b[0m\u001b[0;34m(\u001b[0m\u001b[0;34m)\u001b[0m\u001b[0;34m,\u001b[0m \u001b[0mstr\u001b[0m\u001b[0;34m(\u001b[0m\u001b[0mtactic\u001b[0m\u001b[0;34m)\u001b[0m\u001b[0;34m)\u001b[0m\u001b[0;34m\u001b[0m\u001b[0m\n\u001b[1;32m   7656\u001b[0m             \u001b[0;32mexcept\u001b[0m \u001b[0mZ3Exception\u001b[0m\u001b[0;34m:\u001b[0m\u001b[0;34m\u001b[0m\u001b[0m\n\u001b[0;32m-> 7657\u001b[0;31m                 \u001b[0;32mraise\u001b[0m \u001b[0mZ3Exception\u001b[0m\u001b[0;34m(\u001b[0m\u001b[0;34m\"unknown tactic '%s'\"\u001b[0m \u001b[0;34m%\u001b[0m \u001b[0mtactic\u001b[0m\u001b[0;34m)\u001b[0m\u001b[0;34m\u001b[0m\u001b[0m\n\u001b[0m\u001b[1;32m   7658\u001b[0m         \u001b[0mZ3_tactic_inc_ref\u001b[0m\u001b[0;34m(\u001b[0m\u001b[0mself\u001b[0m\u001b[0;34m.\u001b[0m\u001b[0mctx\u001b[0m\u001b[0;34m.\u001b[0m\u001b[0mref\u001b[0m\u001b[0;34m(\u001b[0m\u001b[0;34m)\u001b[0m\u001b[0;34m,\u001b[0m \u001b[0mself\u001b[0m\u001b[0;34m.\u001b[0m\u001b[0mtactic\u001b[0m\u001b[0;34m)\u001b[0m\u001b[0;34m\u001b[0m\u001b[0m\n\u001b[1;32m   7659\u001b[0m \u001b[0;34m\u001b[0m\u001b[0m\n",
      "\u001b[0;31mZ3Exception\u001b[0m: unknown tactic 'unit-propagate'"
     ]
    }
   ],
   "source": [
    "a, b = Bools(\"a b\")\n",
    "p = Implies(a,b) & a\n",
    "t = Tactic(\"unit-propagate\")\n",
    "t(p)"
   ]
  },
  {
   "cell_type": "code",
   "execution_count": 121,
   "metadata": {},
   "outputs": [
    {
     "data": {
      "text/plain": [
       "['__bool__',\n",
       " '__class__',\n",
       " '__copy__',\n",
       " '__deepcopy__',\n",
       " '__del__',\n",
       " '__delattr__',\n",
       " '__dict__',\n",
       " '__dir__',\n",
       " '__doc__',\n",
       " '__eq__',\n",
       " '__format__',\n",
       " '__ge__',\n",
       " '__getattribute__',\n",
       " '__gt__',\n",
       " '__hash__',\n",
       " '__init__',\n",
       " '__init_subclass__',\n",
       " '__le__',\n",
       " '__lt__',\n",
       " '__module__',\n",
       " '__ne__',\n",
       " '__new__',\n",
       " '__nonzero__',\n",
       " '__reduce__',\n",
       " '__reduce_ex__',\n",
       " '__repr__',\n",
       " '__setattr__',\n",
       " '__sizeof__',\n",
       " '__str__',\n",
       " '__subclasshook__',\n",
       " '__weakref__',\n",
       " '_repr_html_',\n",
       " 'as_ast',\n",
       " 'ast',\n",
       " 'basis',\n",
       " 'cast',\n",
       " 'ctx',\n",
       " 'ctx_ref',\n",
       " 'eq',\n",
       " 'get_id',\n",
       " 'hash',\n",
       " 'is_string',\n",
       " 'kind',\n",
       " 'name',\n",
       " 'sexpr',\n",
       " 'subsort',\n",
       " 'translate',\n",
       " 'use_pp']"
      ]
     },
     "execution_count": 121,
     "metadata": {},
     "output_type": "execute_result"
    }
   ],
   "source": [
    "\n",
    "#def gctx is_implies()\n",
    "dir(SeqSort(IntSort()))"
   ]
  },
  {
   "cell_type": "code",
   "execution_count": 205,
   "metadata": {},
   "outputs": [],
   "source": [
    "def lift1(f,x):\n",
    "    return lambda *args: f(x(*args))\n",
    "\n",
    "def lift2(op,l,r):\n",
    "    return lambda *args: op(l(*args), r(*args))\n",
    "\n",
    "# interp is useful for transferring expressions into numpy, sympy\n",
    "# but also for program extraction\n",
    "\n",
    "from functools import reduce\n",
    "import operator as op\n",
    "def interp(a, *args):\n",
    "    if is_true(a):\n",
    "        return lambda *args: True\n",
    "    elif is_false(a):\n",
    "        return lambda *args: False\n",
    "    elif is_int_value(a):\n",
    "        return lambda *args: a.as_long()\n",
    "    elif is_rational_value(a):\n",
    "        n = a.numerator_as_long()\n",
    "        d = a.denominator_as_long()\n",
    "        return lambda *args: n / d\n",
    "    #elif is_algebraic_value(a):\n",
    "    #    pass\n",
    "    elif is_const(a): # is free variable\n",
    "        loc = [ind for ind, b in enumerate(args) if eq(a,b)]\n",
    "        if len(loc) == 0:\n",
    "            return a\n",
    "        else:\n",
    "            ind = loc[0]\n",
    "            return lambda *args2: args2[ind]   \n",
    "    b = [interp(c, *args) for c in a.children()]\n",
    "    if is_and(a):\n",
    "        return lambda *args: reduce(op.and_, [f(*args) for f in b])\n",
    "    elif is_or(a):\n",
    "        return lambda *args: reduce(op.or_, [f(*args) for f in b])\n",
    "    elif is_app_of(a, Z3_OP_XOR):\n",
    "        return lambda *args: reduce(op.xor, [f(*args) for f in b])\n",
    "    elif is_add(a):\n",
    "        return lambda *args: reduce(op.add, [f(*args) for f in b])\n",
    "    elif is_mul(a):\n",
    "        return lambda *args: reduce(op.mul, [f(*args) for f in b])\n",
    "    elif len(b) == 1:\n",
    "        n = b[0]    \n",
    "        if is_not(a):\n",
    "            return lift1(op.invert , n)# lambda *args: ~n\n",
    "    elif len(b) == 2:\n",
    "        l,r = b\n",
    "        if is_eq(a):\n",
    "            return lift2(op.eq, l,r) #lambda *args: l == r\n",
    "        elif is_distinct(a): # This can be multi_argument\n",
    "            return lift2(op.ne, l,r) # lambda *args: l != r\n",
    "        elif is_sub(a):\n",
    "            return lift2(op.sub, l,r) # lambda *args: l - r\n",
    "        elif is_app_of(a, Z3_OP_POWER):\n",
    "            return lift2(op.pow, l,r) #lambda *args: l ** r\n",
    "        elif is_div(a):\n",
    "            return  lift2(op.truediv, l,r)# lambda *args: l / r\n",
    "        elif is_idiv(a):\n",
    "            return lift2(op.floordiv, l,r) # lambda *args: l // r\n",
    "        elif is_mod(a):\n",
    "            return lift2(op.mod, l,r) # lambda *args: l % r\n",
    "        elif is_le(a):\n",
    "            return lift2(op.le, l,r) # lambda *args: l <= r\n",
    "        elif is_lt(a):\n",
    "            return lift2(op.lt, l,r) # lambda *args: l < r\n",
    "        elif is_ge(a):\n",
    "            return lift2(op.ge, l,r) #lambda *args: l > r\n",
    "        elif is_gt(a):\n",
    "            return lift2(op.gt, l,r) # lambda *args: l >= r\n",
    "        elif is_implies(a):\n",
    "            return lambda *args: (~ l(*args) ) & r(*args) \n",
    "    print(\"unrecognized constructor: \", type(a))\n",
    "    assert(False)\n"
   ]
  },
  {
   "cell_type": "code",
   "execution_count": 200,
   "metadata": {},
   "outputs": [
    {
     "data": {
      "text/plain": [
       "3"
      ]
     },
     "execution_count": 200,
     "metadata": {},
     "output_type": "execute_result"
    }
   ],
   "source": [
    "a = Bool('a')\n",
    "interp(a)\n",
    "\n",
    "x, y = Reals('x y')\n",
    "interp(x + y + y + y * x) # Z3_OP_POWER\n",
    "is_distinct(a != a)\n",
    "#True & True\n",
    "interp(1 + x + x ** 2)\n",
    "eq(x,x)\n",
    "interp(BoolVal(False))()\n",
    "interp(x+y,x,y)(2,1)\n"
   ]
  },
  {
   "cell_type": "code",
   "execution_count": 267,
   "metadata": {},
   "outputs": [
    {
     "data": {
      "text/html": [
       "[f = [7 &rarr; 7, else &rarr; 1]]"
      ],
      "text/plain": [
       "[f = [7 -> 7, else -> 1]]"
      ]
     },
     "execution_count": 267,
     "metadata": {},
     "output_type": "execute_result"
    }
   ],
   "source": [
    "y = Real(\"y\")\n",
    "f = Function(\"f\", RealSort(), RealSort())\n",
    "g = Function(\"g\", RealSort(),BoolSort())\n",
    "h = Function(\"h\", IntSort(),BoolSort())\n",
    "s = Solver()\n",
    "s.add(ForAll([y], (f(y) == 7) == (y == 7)))\n",
    "s.check()\n",
    "s.model()"
   ]
  },
  {
   "cell_type": "code",
   "execution_count": 212,
   "metadata": {},
   "outputs": [
    {
     "name": "stdout",
     "output_type": "stream",
     "text": [
      "[0]\n",
      "[0]\n",
      "[0]\n",
      "[0]\n"
     ]
    },
    {
     "data": {
      "text/plain": [
       "False"
      ]
     },
     "execution_count": 212,
     "metadata": {},
     "output_type": "execute_result"
    }
   ],
   "source": [
    "a = Bool('a')\n",
    "interp(Xor(a & a | a, a), a)(True)"
   ]
  },
  {
   "cell_type": "code",
   "execution_count": 213,
   "metadata": {},
   "outputs": [
    {
     "name": "stdout",
     "output_type": "stream",
     "text": [
      "[0]\n",
      "[1]\n",
      "[1]\n",
      "[1]\n",
      "[0]\n"
     ]
    },
    {
     "data": {
      "text/plain": [
       "13"
      ]
     },
     "execution_count": 213,
     "metadata": {},
     "output_type": "execute_result"
    }
   ],
   "source": [
    "x, y = Reals('x y')\n",
    "interp(x + y + y + y * x, x ,y)(3,2)"
   ]
  },
  {
   "cell_type": "code",
   "execution_count": 210,
   "metadata": {},
   "outputs": [
    {
     "data": {
      "text/plain": [
       "True"
      ]
     },
     "execution_count": 210,
     "metadata": {},
     "output_type": "execute_result"
    }
   ],
   "source": [
    "eq(a,a)"
   ]
  },
  {
   "cell_type": "code",
   "execution_count": 144,
   "metadata": {},
   "outputs": [
    {
     "name": "stdout",
     "output_type": "stream",
     "text": [
      "proved\n"
     ]
    },
    {
     "data": {
      "text/html": [
       "(&forall;x : (f(g(y)) &rArr; f(x)) &rArr; f(x)) &rArr; f(g(y))"
      ],
      "text/plain": [
       "Implies(ForAll(x, Implies(Implies(f(g(y)), f(x)), f(x))),\n",
       "        f(g(y)))"
      ]
     },
     "execution_count": 144,
     "metadata": {},
     "output_type": "execute_result"
    }
   ],
   "source": [
    "x,y = Ints(\"x y\")\n",
    "f = Function(\"f\", IntSort(), BoolSort())\n",
    "g = Function(\"g\", IntSort(), IntSort())\n",
    "prove( Implies(  ForAll([x], Implies( Implies(f(g(y)), f(x)) , f(x) ))  , f(g(y)) ))\n",
    "Implies(  ForAll([x], Implies( Implies(f(g(y)), f(x)) , f(x) ))  , f(g(y)) )"
   ]
  },
  {
   "cell_type": "code",
   "execution_count": null,
   "metadata": {},
   "outputs": [],
   "source": [
    "x,y = Ints(\"x y\")\n",
    "f = Function(\"f\", IntSort(), BoolSort())\n",
    "prove( Implies(  ForAll([x], Implies( Implies(f(y), f(x)) , f(x) ))  , f(y) ))"
   ]
  },
  {
   "cell_type": "code",
   "execution_count": 146,
   "metadata": {},
   "outputs": [
    {
     "name": "stdout",
     "output_type": "stream",
     "text": [
      "counterexample\n",
      "[y = 1, f = [else -> True], g = [else -> False]]\n"
     ]
    },
    {
     "data": {
      "text/html": [
       "(&forall;x : (g(y) &rArr; f(x)) &rArr; f(x)) &rArr; g(y)"
      ],
      "text/plain": [
       "Implies(ForAll(x, Implies(Implies(g(y), f(x)), f(x))), g(y))"
      ]
     },
     "execution_count": 146,
     "metadata": {},
     "output_type": "execute_result"
    }
   ],
   "source": [
    "x,y = Ints(\"x y\") #shouldn't prove\n",
    "f = Function(\"f\", IntSort(), BoolSort())\n",
    "g = Function(\"g\", IntSort(), BoolSort())\n",
    "prove( Implies(  ForAll([x], Implies( Implies(g(y), f(x)) , f(x) ))  , g(y) ))\n",
    "Implies(  ForAll([x], Implies( Implies(g(y), f(x)) , f(x) ))  , g(y) )"
   ]
  },
  {
   "cell_type": "code",
   "execution_count": 199,
   "metadata": {},
   "outputs": [
    {
     "data": {
      "text/plain": [
       "['ApplyResultObj',\n",
       " 'Ast',\n",
       " 'AstMapObj',\n",
       " 'AstVectorObj',\n",
       " 'Config',\n",
       " 'Constructor',\n",
       " 'ConstructorList',\n",
       " 'ContextObj',\n",
       " 'Elementaries',\n",
       " 'FixedpointObj',\n",
       " 'FuncDecl',\n",
       " 'FuncEntryObj',\n",
       " 'FuncInterpObj',\n",
       " 'GoalObj',\n",
       " 'Literals',\n",
       " 'Model',\n",
       " 'ModelObj',\n",
       " 'OptimizeObj',\n",
       " 'ParamDescrs',\n",
       " 'Params',\n",
       " 'Pattern',\n",
       " 'ProbeObj',\n",
       " 'RCFNumObj',\n",
       " 'SolverObj',\n",
       " 'Sort',\n",
       " 'StatsObj',\n",
       " 'Symbol',\n",
       " 'TacticObj',\n",
       " 'Z3Exception',\n",
       " 'Z3_APP_AST',\n",
       " 'Z3_ARRAY_SORT',\n",
       " 'Z3_BOOL_SORT',\n",
       " 'Z3_BV_SORT',\n",
       " 'Z3_DATATYPE_SORT',\n",
       " 'Z3_DEC_REF_ERROR',\n",
       " 'Z3_EXCEPTION',\n",
       " 'Z3_FILE_ACCESS_ERROR',\n",
       " 'Z3_FINITE_DOMAIN_SORT',\n",
       " 'Z3_FLOATING_POINT_SORT',\n",
       " 'Z3_FUNC_DECL_AST',\n",
       " 'Z3_GOAL_OVER',\n",
       " 'Z3_GOAL_PRECISE',\n",
       " 'Z3_GOAL_UNDER',\n",
       " 'Z3_GOAL_UNDER_OVER',\n",
       " 'Z3_INTERNAL_FATAL',\n",
       " 'Z3_INT_SORT',\n",
       " 'Z3_INT_SYMBOL',\n",
       " 'Z3_INVALID_ARG',\n",
       " 'Z3_INVALID_PATTERN',\n",
       " 'Z3_INVALID_USAGE',\n",
       " 'Z3_IOB',\n",
       " 'Z3_L_FALSE',\n",
       " 'Z3_L_TRUE',\n",
       " 'Z3_L_UNDEF',\n",
       " 'Z3_MEMOUT_FAIL',\n",
       " 'Z3_NO_PARSER',\n",
       " 'Z3_NUMERAL_AST',\n",
       " 'Z3_OK',\n",
       " 'Z3_OP_ADD',\n",
       " 'Z3_OP_AGNUM',\n",
       " 'Z3_OP_AND',\n",
       " 'Z3_OP_ANUM',\n",
       " 'Z3_OP_ARRAY_DEFAULT',\n",
       " 'Z3_OP_ARRAY_EXT',\n",
       " 'Z3_OP_ARRAY_MAP',\n",
       " 'Z3_OP_AS_ARRAY',\n",
       " 'Z3_OP_BADD',\n",
       " 'Z3_OP_BAND',\n",
       " 'Z3_OP_BASHR',\n",
       " 'Z3_OP_BCOMP',\n",
       " 'Z3_OP_BIT0',\n",
       " 'Z3_OP_BIT1',\n",
       " 'Z3_OP_BIT2BOOL',\n",
       " 'Z3_OP_BLSHR',\n",
       " 'Z3_OP_BMUL',\n",
       " 'Z3_OP_BNAND',\n",
       " 'Z3_OP_BNEG',\n",
       " 'Z3_OP_BNOR',\n",
       " 'Z3_OP_BNOT',\n",
       " 'Z3_OP_BNUM',\n",
       " 'Z3_OP_BOR',\n",
       " 'Z3_OP_BREDAND',\n",
       " 'Z3_OP_BREDOR',\n",
       " 'Z3_OP_BSDIV',\n",
       " 'Z3_OP_BSDIV0',\n",
       " 'Z3_OP_BSDIV_I',\n",
       " 'Z3_OP_BSHL',\n",
       " 'Z3_OP_BSMOD',\n",
       " 'Z3_OP_BSMOD0',\n",
       " 'Z3_OP_BSMOD_I',\n",
       " 'Z3_OP_BSMUL_NO_OVFL',\n",
       " 'Z3_OP_BSMUL_NO_UDFL',\n",
       " 'Z3_OP_BSREM',\n",
       " 'Z3_OP_BSREM0',\n",
       " 'Z3_OP_BSREM_I',\n",
       " 'Z3_OP_BSUB',\n",
       " 'Z3_OP_BUDIV',\n",
       " 'Z3_OP_BUDIV0',\n",
       " 'Z3_OP_BUDIV_I',\n",
       " 'Z3_OP_BUMUL_NO_OVFL',\n",
       " 'Z3_OP_BUREM',\n",
       " 'Z3_OP_BUREM0',\n",
       " 'Z3_OP_BUREM_I',\n",
       " 'Z3_OP_BV2INT',\n",
       " 'Z3_OP_BXNOR',\n",
       " 'Z3_OP_BXOR',\n",
       " 'Z3_OP_CARRY',\n",
       " 'Z3_OP_CONCAT',\n",
       " 'Z3_OP_CONST_ARRAY',\n",
       " 'Z3_OP_DISTINCT',\n",
       " 'Z3_OP_DIV',\n",
       " 'Z3_OP_DT_ACCESSOR',\n",
       " 'Z3_OP_DT_CONSTRUCTOR',\n",
       " 'Z3_OP_DT_IS',\n",
       " 'Z3_OP_DT_RECOGNISER',\n",
       " 'Z3_OP_DT_UPDATE_FIELD',\n",
       " 'Z3_OP_EQ',\n",
       " 'Z3_OP_EXTRACT',\n",
       " 'Z3_OP_EXT_ROTATE_LEFT',\n",
       " 'Z3_OP_EXT_ROTATE_RIGHT',\n",
       " 'Z3_OP_FALSE',\n",
       " 'Z3_OP_FD_CONSTANT',\n",
       " 'Z3_OP_FD_LT',\n",
       " 'Z3_OP_FPA_ABS',\n",
       " 'Z3_OP_FPA_ADD',\n",
       " 'Z3_OP_FPA_BV2RM',\n",
       " 'Z3_OP_FPA_BVWRAP',\n",
       " 'Z3_OP_FPA_DIV',\n",
       " 'Z3_OP_FPA_EQ',\n",
       " 'Z3_OP_FPA_FMA',\n",
       " 'Z3_OP_FPA_FP',\n",
       " 'Z3_OP_FPA_GE',\n",
       " 'Z3_OP_FPA_GT',\n",
       " 'Z3_OP_FPA_IS_INF',\n",
       " 'Z3_OP_FPA_IS_NAN',\n",
       " 'Z3_OP_FPA_IS_NEGATIVE',\n",
       " 'Z3_OP_FPA_IS_NORMAL',\n",
       " 'Z3_OP_FPA_IS_POSITIVE',\n",
       " 'Z3_OP_FPA_IS_SUBNORMAL',\n",
       " 'Z3_OP_FPA_IS_ZERO',\n",
       " 'Z3_OP_FPA_LE',\n",
       " 'Z3_OP_FPA_LT',\n",
       " 'Z3_OP_FPA_MAX',\n",
       " 'Z3_OP_FPA_MIN',\n",
       " 'Z3_OP_FPA_MINUS_INF',\n",
       " 'Z3_OP_FPA_MINUS_ZERO',\n",
       " 'Z3_OP_FPA_MUL',\n",
       " 'Z3_OP_FPA_NAN',\n",
       " 'Z3_OP_FPA_NEG',\n",
       " 'Z3_OP_FPA_NUM',\n",
       " 'Z3_OP_FPA_PLUS_INF',\n",
       " 'Z3_OP_FPA_PLUS_ZERO',\n",
       " 'Z3_OP_FPA_REM',\n",
       " 'Z3_OP_FPA_RM_NEAREST_TIES_TO_AWAY',\n",
       " 'Z3_OP_FPA_RM_NEAREST_TIES_TO_EVEN',\n",
       " 'Z3_OP_FPA_RM_TOWARD_NEGATIVE',\n",
       " 'Z3_OP_FPA_RM_TOWARD_POSITIVE',\n",
       " 'Z3_OP_FPA_RM_TOWARD_ZERO',\n",
       " 'Z3_OP_FPA_ROUND_TO_INTEGRAL',\n",
       " 'Z3_OP_FPA_SQRT',\n",
       " 'Z3_OP_FPA_SUB',\n",
       " 'Z3_OP_FPA_TO_FP',\n",
       " 'Z3_OP_FPA_TO_FP_UNSIGNED',\n",
       " 'Z3_OP_FPA_TO_IEEE_BV',\n",
       " 'Z3_OP_FPA_TO_REAL',\n",
       " 'Z3_OP_FPA_TO_SBV',\n",
       " 'Z3_OP_FPA_TO_UBV',\n",
       " 'Z3_OP_GE',\n",
       " 'Z3_OP_GT',\n",
       " 'Z3_OP_IDIV',\n",
       " 'Z3_OP_IFF',\n",
       " 'Z3_OP_IMPLIES',\n",
       " 'Z3_OP_INT2BV',\n",
       " 'Z3_OP_INTERNAL',\n",
       " 'Z3_OP_INT_TO_STR',\n",
       " 'Z3_OP_IS_INT',\n",
       " 'Z3_OP_ITE',\n",
       " 'Z3_OP_LABEL',\n",
       " 'Z3_OP_LABEL_LIT',\n",
       " 'Z3_OP_LE',\n",
       " 'Z3_OP_LT',\n",
       " 'Z3_OP_MOD',\n",
       " 'Z3_OP_MUL',\n",
       " 'Z3_OP_NOT',\n",
       " 'Z3_OP_OEQ',\n",
       " 'Z3_OP_OR',\n",
       " 'Z3_OP_PB_AT_LEAST',\n",
       " 'Z3_OP_PB_AT_MOST',\n",
       " 'Z3_OP_PB_EQ',\n",
       " 'Z3_OP_PB_GE',\n",
       " 'Z3_OP_PB_LE',\n",
       " 'Z3_OP_POWER',\n",
       " 'Z3_OP_PR_AND_ELIM',\n",
       " 'Z3_OP_PR_APPLY_DEF',\n",
       " 'Z3_OP_PR_ASSERTED',\n",
       " 'Z3_OP_PR_ASSUMPTION_ADD',\n",
       " 'Z3_OP_PR_BIND',\n",
       " 'Z3_OP_PR_CLAUSE_TRAIL',\n",
       " 'Z3_OP_PR_COMMUTATIVITY',\n",
       " 'Z3_OP_PR_DEF_AXIOM',\n",
       " 'Z3_OP_PR_DEF_INTRO',\n",
       " 'Z3_OP_PR_DER',\n",
       " 'Z3_OP_PR_DISTRIBUTIVITY',\n",
       " 'Z3_OP_PR_ELIM_UNUSED_VARS',\n",
       " 'Z3_OP_PR_GOAL',\n",
       " 'Z3_OP_PR_HYPER_RESOLVE',\n",
       " 'Z3_OP_PR_HYPOTHESIS',\n",
       " 'Z3_OP_PR_IFF_FALSE',\n",
       " 'Z3_OP_PR_IFF_OEQ',\n",
       " 'Z3_OP_PR_IFF_TRUE',\n",
       " 'Z3_OP_PR_LEMMA',\n",
       " 'Z3_OP_PR_LEMMA_ADD',\n",
       " 'Z3_OP_PR_MODUS_PONENS',\n",
       " 'Z3_OP_PR_MODUS_PONENS_OEQ',\n",
       " 'Z3_OP_PR_MONOTONICITY',\n",
       " 'Z3_OP_PR_NNF_NEG',\n",
       " 'Z3_OP_PR_NNF_POS',\n",
       " 'Z3_OP_PR_NOT_OR_ELIM',\n",
       " 'Z3_OP_PR_PULL_QUANT',\n",
       " 'Z3_OP_PR_PUSH_QUANT',\n",
       " 'Z3_OP_PR_QUANT_INST',\n",
       " 'Z3_OP_PR_QUANT_INTRO',\n",
       " 'Z3_OP_PR_REDUNDANT_DEL',\n",
       " 'Z3_OP_PR_REFLEXIVITY',\n",
       " 'Z3_OP_PR_REWRITE',\n",
       " 'Z3_OP_PR_REWRITE_STAR',\n",
       " 'Z3_OP_PR_SKOLEMIZE',\n",
       " 'Z3_OP_PR_SYMMETRY',\n",
       " 'Z3_OP_PR_TH_LEMMA',\n",
       " 'Z3_OP_PR_TRANSITIVITY',\n",
       " 'Z3_OP_PR_TRANSITIVITY_STAR',\n",
       " 'Z3_OP_PR_TRUE',\n",
       " 'Z3_OP_PR_UNDEF',\n",
       " 'Z3_OP_PR_UNIT_RESOLUTION',\n",
       " 'Z3_OP_RA_CLONE',\n",
       " 'Z3_OP_RA_COMPLEMENT',\n",
       " 'Z3_OP_RA_EMPTY',\n",
       " 'Z3_OP_RA_FILTER',\n",
       " 'Z3_OP_RA_IS_EMPTY',\n",
       " 'Z3_OP_RA_JOIN',\n",
       " 'Z3_OP_RA_NEGATION_FILTER',\n",
       " 'Z3_OP_RA_PROJECT',\n",
       " 'Z3_OP_RA_RENAME',\n",
       " 'Z3_OP_RA_SELECT',\n",
       " 'Z3_OP_RA_STORE',\n",
       " 'Z3_OP_RA_UNION',\n",
       " 'Z3_OP_RA_WIDEN',\n",
       " 'Z3_OP_REM',\n",
       " 'Z3_OP_REPEAT',\n",
       " 'Z3_OP_RE_COMPLEMENT',\n",
       " 'Z3_OP_RE_CONCAT',\n",
       " 'Z3_OP_RE_EMPTY_SET',\n",
       " 'Z3_OP_RE_FULL_SET',\n",
       " 'Z3_OP_RE_INTERSECT',\n",
       " 'Z3_OP_RE_LOOP',\n",
       " 'Z3_OP_RE_OPTION',\n",
       " 'Z3_OP_RE_PLUS',\n",
       " 'Z3_OP_RE_RANGE',\n",
       " 'Z3_OP_RE_STAR',\n",
       " 'Z3_OP_RE_UNION',\n",
       " 'Z3_OP_ROTATE_LEFT',\n",
       " 'Z3_OP_ROTATE_RIGHT',\n",
       " 'Z3_OP_SELECT',\n",
       " 'Z3_OP_SEQ_AT',\n",
       " 'Z3_OP_SEQ_CONCAT',\n",
       " 'Z3_OP_SEQ_CONTAINS',\n",
       " 'Z3_OP_SEQ_EMPTY',\n",
       " 'Z3_OP_SEQ_EXTRACT',\n",
       " 'Z3_OP_SEQ_INDEX',\n",
       " 'Z3_OP_SEQ_IN_RE',\n",
       " 'Z3_OP_SEQ_LAST_INDEX',\n",
       " 'Z3_OP_SEQ_LENGTH',\n",
       " 'Z3_OP_SEQ_NTH',\n",
       " 'Z3_OP_SEQ_PREFIX',\n",
       " 'Z3_OP_SEQ_REPLACE',\n",
       " 'Z3_OP_SEQ_SUFFIX',\n",
       " 'Z3_OP_SEQ_TO_RE',\n",
       " 'Z3_OP_SEQ_UNIT',\n",
       " 'Z3_OP_SET_CARD',\n",
       " 'Z3_OP_SET_COMPLEMENT',\n",
       " 'Z3_OP_SET_DIFFERENCE',\n",
       " 'Z3_OP_SET_HAS_SIZE',\n",
       " 'Z3_OP_SET_INTERSECT',\n",
       " 'Z3_OP_SET_SUBSET',\n",
       " 'Z3_OP_SET_UNION',\n",
       " 'Z3_OP_SGEQ',\n",
       " 'Z3_OP_SGT',\n",
       " 'Z3_OP_SIGN_EXT',\n",
       " 'Z3_OP_SLEQ',\n",
       " 'Z3_OP_SLT',\n",
       " 'Z3_OP_SPECIAL_RELATION_LO',\n",
       " 'Z3_OP_SPECIAL_RELATION_PLO',\n",
       " 'Z3_OP_SPECIAL_RELATION_PO',\n",
       " 'Z3_OP_SPECIAL_RELATION_TC',\n",
       " 'Z3_OP_SPECIAL_RELATION_TO',\n",
       " 'Z3_OP_SPECIAL_RELATION_TRC',\n",
       " 'Z3_OP_STORE',\n",
       " 'Z3_OP_STR_TO_INT',\n",
       " 'Z3_OP_SUB',\n",
       " 'Z3_OP_TO_INT',\n",
       " 'Z3_OP_TO_REAL',\n",
       " 'Z3_OP_TRUE',\n",
       " 'Z3_OP_UGEQ',\n",
       " 'Z3_OP_UGT',\n",
       " 'Z3_OP_ULEQ',\n",
       " 'Z3_OP_ULT',\n",
       " 'Z3_OP_UMINUS',\n",
       " 'Z3_OP_UNINTERPRETED',\n",
       " 'Z3_OP_XOR',\n",
       " 'Z3_OP_XOR3',\n",
       " 'Z3_OP_ZERO_EXT',\n",
       " 'Z3_PARAMETER_AST',\n",
       " 'Z3_PARAMETER_DOUBLE',\n",
       " 'Z3_PARAMETER_FUNC_DECL',\n",
       " 'Z3_PARAMETER_INT',\n",
       " 'Z3_PARAMETER_RATIONAL',\n",
       " 'Z3_PARAMETER_SORT',\n",
       " 'Z3_PARAMETER_SYMBOL',\n",
       " 'Z3_PARSER_ERROR',\n",
       " 'Z3_PK_BOOL',\n",
       " 'Z3_PK_DOUBLE',\n",
       " 'Z3_PK_INVALID',\n",
       " 'Z3_PK_OTHER',\n",
       " 'Z3_PK_STRING',\n",
       " 'Z3_PK_SYMBOL',\n",
       " 'Z3_PK_UINT',\n",
       " 'Z3_PRINT_LOW_LEVEL',\n",
       " 'Z3_PRINT_SMTLIB2_COMPLIANT',\n",
       " 'Z3_PRINT_SMTLIB_FULL',\n",
       " 'Z3_QUANTIFIER_AST',\n",
       " 'Z3_REAL_SORT',\n",
       " 'Z3_RELATION_SORT',\n",
       " 'Z3_RE_SORT',\n",
       " 'Z3_ROUNDING_MODE_SORT',\n",
       " 'Z3_SEQ_SORT',\n",
       " 'Z3_SORT_AST',\n",
       " 'Z3_SORT_ERROR',\n",
       " 'Z3_STRING_SYMBOL',\n",
       " 'Z3_UNINTERPRETED_SORT',\n",
       " 'Z3_UNKNOWN_AST',\n",
       " 'Z3_UNKNOWN_SORT',\n",
       " 'Z3_VAR_AST',\n",
       " 'Z3_add_const_interp',\n",
       " 'Z3_add_func_interp',\n",
       " 'Z3_add_rec_def',\n",
       " 'Z3_algebraic_add',\n",
       " 'Z3_algebraic_div',\n",
       " 'Z3_algebraic_eq',\n",
       " 'Z3_algebraic_eval',\n",
       " 'Z3_algebraic_ge',\n",
       " 'Z3_algebraic_gt',\n",
       " 'Z3_algebraic_is_neg',\n",
       " 'Z3_algebraic_is_pos',\n",
       " 'Z3_algebraic_is_value',\n",
       " 'Z3_algebraic_is_zero',\n",
       " 'Z3_algebraic_le',\n",
       " 'Z3_algebraic_lt',\n",
       " 'Z3_algebraic_mul',\n",
       " 'Z3_algebraic_neq',\n",
       " 'Z3_algebraic_power',\n",
       " 'Z3_algebraic_root',\n",
       " 'Z3_algebraic_roots',\n",
       " 'Z3_algebraic_sign',\n",
       " 'Z3_algebraic_sub',\n",
       " 'Z3_app_to_ast',\n",
       " 'Z3_append_log',\n",
       " 'Z3_apply_result_dec_ref',\n",
       " 'Z3_apply_result_get_num_subgoals',\n",
       " 'Z3_apply_result_get_subgoal',\n",
       " 'Z3_apply_result_inc_ref',\n",
       " 'Z3_apply_result_to_string',\n",
       " 'Z3_apply_result_to_string_bytes',\n",
       " 'Z3_ast_map_contains',\n",
       " 'Z3_ast_map_dec_ref',\n",
       " 'Z3_ast_map_erase',\n",
       " 'Z3_ast_map_find',\n",
       " 'Z3_ast_map_inc_ref',\n",
       " 'Z3_ast_map_insert',\n",
       " 'Z3_ast_map_keys',\n",
       " 'Z3_ast_map_reset',\n",
       " 'Z3_ast_map_size',\n",
       " 'Z3_ast_map_to_string',\n",
       " 'Z3_ast_map_to_string_bytes',\n",
       " 'Z3_ast_to_string',\n",
       " 'Z3_ast_to_string_bytes',\n",
       " 'Z3_ast_vector_dec_ref',\n",
       " 'Z3_ast_vector_get',\n",
       " 'Z3_ast_vector_inc_ref',\n",
       " 'Z3_ast_vector_push',\n",
       " 'Z3_ast_vector_resize',\n",
       " 'Z3_ast_vector_set',\n",
       " 'Z3_ast_vector_size',\n",
       " 'Z3_ast_vector_to_string',\n",
       " 'Z3_ast_vector_to_string_bytes',\n",
       " 'Z3_ast_vector_translate',\n",
       " 'Z3_benchmark_to_smtlib_string',\n",
       " 'Z3_benchmark_to_smtlib_string_bytes',\n",
       " 'Z3_close_log',\n",
       " 'Z3_datatype_update_field',\n",
       " 'Z3_dec_ref',\n",
       " 'Z3_del_config',\n",
       " 'Z3_del_constructor',\n",
       " 'Z3_del_constructor_list',\n",
       " 'Z3_del_context',\n",
       " 'Z3_disable_trace',\n",
       " 'Z3_enable_trace',\n",
       " 'Z3_eval_smtlib2_string',\n",
       " 'Z3_eval_smtlib2_string_bytes',\n",
       " 'Z3_finalize_memory',\n",
       " 'Z3_fixedpoint_add_cover',\n",
       " 'Z3_fixedpoint_add_fact',\n",
       " 'Z3_fixedpoint_add_invariant',\n",
       " 'Z3_fixedpoint_add_rule',\n",
       " 'Z3_fixedpoint_assert',\n",
       " 'Z3_fixedpoint_dec_ref',\n",
       " 'Z3_fixedpoint_from_file',\n",
       " 'Z3_fixedpoint_from_string',\n",
       " 'Z3_fixedpoint_get_answer',\n",
       " 'Z3_fixedpoint_get_assertions',\n",
       " 'Z3_fixedpoint_get_cover_delta',\n",
       " 'Z3_fixedpoint_get_ground_sat_answer',\n",
       " 'Z3_fixedpoint_get_help',\n",
       " 'Z3_fixedpoint_get_help_bytes',\n",
       " 'Z3_fixedpoint_get_num_levels',\n",
       " 'Z3_fixedpoint_get_param_descrs',\n",
       " 'Z3_fixedpoint_get_reachable',\n",
       " 'Z3_fixedpoint_get_reason_unknown',\n",
       " 'Z3_fixedpoint_get_reason_unknown_bytes',\n",
       " 'Z3_fixedpoint_get_rule_names_along_trace',\n",
       " 'Z3_fixedpoint_get_rules',\n",
       " 'Z3_fixedpoint_get_rules_along_trace',\n",
       " 'Z3_fixedpoint_get_statistics',\n",
       " 'Z3_fixedpoint_inc_ref',\n",
       " 'Z3_fixedpoint_query',\n",
       " 'Z3_fixedpoint_query_from_lvl',\n",
       " 'Z3_fixedpoint_query_relations',\n",
       " 'Z3_fixedpoint_register_relation',\n",
       " 'Z3_fixedpoint_set_params',\n",
       " 'Z3_fixedpoint_set_predicate_representation',\n",
       " 'Z3_fixedpoint_to_string',\n",
       " 'Z3_fixedpoint_to_string_bytes',\n",
       " 'Z3_fixedpoint_update_rule',\n",
       " 'Z3_fpa_get_ebits',\n",
       " 'Z3_fpa_get_numeral_exponent_bv',\n",
       " 'Z3_fpa_get_numeral_exponent_int64',\n",
       " 'Z3_fpa_get_numeral_exponent_string',\n",
       " 'Z3_fpa_get_numeral_exponent_string_bytes',\n",
       " 'Z3_fpa_get_numeral_sign',\n",
       " 'Z3_fpa_get_numeral_sign_bv',\n",
       " 'Z3_fpa_get_numeral_significand_bv',\n",
       " 'Z3_fpa_get_numeral_significand_string',\n",
       " 'Z3_fpa_get_numeral_significand_string_bytes',\n",
       " 'Z3_fpa_get_numeral_significand_uint64',\n",
       " 'Z3_fpa_get_sbits',\n",
       " 'Z3_fpa_is_numeral_inf',\n",
       " 'Z3_fpa_is_numeral_nan',\n",
       " 'Z3_fpa_is_numeral_negative',\n",
       " 'Z3_fpa_is_numeral_normal',\n",
       " 'Z3_fpa_is_numeral_positive',\n",
       " 'Z3_fpa_is_numeral_subnormal',\n",
       " 'Z3_fpa_is_numeral_zero',\n",
       " 'Z3_func_decl_to_ast',\n",
       " 'Z3_func_decl_to_string',\n",
       " 'Z3_func_decl_to_string_bytes',\n",
       " 'Z3_func_entry_dec_ref',\n",
       " 'Z3_func_entry_get_arg',\n",
       " 'Z3_func_entry_get_num_args',\n",
       " 'Z3_func_entry_get_value',\n",
       " 'Z3_func_entry_inc_ref',\n",
       " 'Z3_func_interp_add_entry',\n",
       " 'Z3_func_interp_dec_ref',\n",
       " 'Z3_func_interp_get_arity',\n",
       " 'Z3_func_interp_get_else',\n",
       " 'Z3_func_interp_get_entry',\n",
       " 'Z3_func_interp_get_num_entries',\n",
       " 'Z3_func_interp_inc_ref',\n",
       " 'Z3_func_interp_set_else',\n",
       " 'Z3_get_algebraic_number_lower',\n",
       " 'Z3_get_algebraic_number_upper',\n",
       " 'Z3_get_app_arg',\n",
       " 'Z3_get_app_decl',\n",
       " 'Z3_get_app_num_args',\n",
       " 'Z3_get_arity',\n",
       " 'Z3_get_array_sort_domain',\n",
       " 'Z3_get_array_sort_range',\n",
       " 'Z3_get_as_array_func_decl',\n",
       " 'Z3_get_ast_hash',\n",
       " 'Z3_get_ast_id',\n",
       " 'Z3_get_ast_kind',\n",
       " 'Z3_get_bool_value',\n",
       " 'Z3_get_bv_sort_size',\n",
       " 'Z3_get_datatype_sort_constructor',\n",
       " 'Z3_get_datatype_sort_constructor_accessor',\n",
       " 'Z3_get_datatype_sort_num_constructors',\n",
       " 'Z3_get_datatype_sort_recognizer',\n",
       " 'Z3_get_decl_ast_parameter',\n",
       " 'Z3_get_decl_double_parameter',\n",
       " 'Z3_get_decl_func_decl_parameter',\n",
       " 'Z3_get_decl_int_parameter',\n",
       " 'Z3_get_decl_kind',\n",
       " 'Z3_get_decl_name',\n",
       " 'Z3_get_decl_num_parameters',\n",
       " 'Z3_get_decl_parameter_kind',\n",
       " 'Z3_get_decl_rational_parameter',\n",
       " 'Z3_get_decl_rational_parameter_bytes',\n",
       " 'Z3_get_decl_sort_parameter',\n",
       " 'Z3_get_decl_symbol_parameter',\n",
       " 'Z3_get_denominator',\n",
       " 'Z3_get_domain',\n",
       " 'Z3_get_domain_size',\n",
       " 'Z3_get_error_code',\n",
       " 'Z3_get_error_msg',\n",
       " 'Z3_get_error_msg_bytes',\n",
       " 'Z3_get_estimated_alloc_size',\n",
       " 'Z3_get_finite_domain_sort_size',\n",
       " 'Z3_get_full_version',\n",
       " 'Z3_get_full_version_bytes',\n",
       " 'Z3_get_func_decl_id',\n",
       " 'Z3_get_implied_equalities',\n",
       " 'Z3_get_index_value',\n",
       " 'Z3_get_lstring',\n",
       " 'Z3_get_lstring_bytes',\n",
       " 'Z3_get_num_probes',\n",
       " 'Z3_get_num_tactics',\n",
       " 'Z3_get_numeral_decimal_string',\n",
       " 'Z3_get_numeral_decimal_string_bytes',\n",
       " 'Z3_get_numeral_double',\n",
       " 'Z3_get_numeral_int',\n",
       " 'Z3_get_numeral_int64',\n",
       " 'Z3_get_numeral_rational_int64',\n",
       " 'Z3_get_numeral_small',\n",
       " 'Z3_get_numeral_string',\n",
       " 'Z3_get_numeral_string_bytes',\n",
       " 'Z3_get_numeral_uint',\n",
       " 'Z3_get_numeral_uint64',\n",
       " 'Z3_get_numerator',\n",
       " 'Z3_get_pattern',\n",
       " 'Z3_get_pattern_num_terms',\n",
       " 'Z3_get_probe_name',\n",
       " 'Z3_get_probe_name_bytes',\n",
       " 'Z3_get_quantifier_body',\n",
       " 'Z3_get_quantifier_bound_name',\n",
       " 'Z3_get_quantifier_bound_sort',\n",
       " 'Z3_get_quantifier_no_pattern_ast',\n",
       " 'Z3_get_quantifier_num_bound',\n",
       " 'Z3_get_quantifier_num_no_patterns',\n",
       " 'Z3_get_quantifier_num_patterns',\n",
       " 'Z3_get_quantifier_pattern_ast',\n",
       " 'Z3_get_quantifier_weight',\n",
       " 'Z3_get_range',\n",
       " 'Z3_get_re_sort_basis',\n",
       " 'Z3_get_relation_arity',\n",
       " 'Z3_get_relation_column',\n",
       " 'Z3_get_seq_sort_basis',\n",
       " 'Z3_get_sort',\n",
       " 'Z3_get_sort_id',\n",
       " 'Z3_get_sort_kind',\n",
       " 'Z3_get_sort_name',\n",
       " 'Z3_get_string',\n",
       " 'Z3_get_string_bytes',\n",
       " 'Z3_get_symbol_int',\n",
       " 'Z3_get_symbol_kind',\n",
       " 'Z3_get_symbol_string',\n",
       " 'Z3_get_symbol_string_bytes',\n",
       " 'Z3_get_tactic_name',\n",
       " 'Z3_get_tactic_name_bytes',\n",
       " 'Z3_get_tuple_sort_field_decl',\n",
       " 'Z3_get_tuple_sort_mk_decl',\n",
       " 'Z3_get_tuple_sort_num_fields',\n",
       " 'Z3_get_version',\n",
       " 'Z3_global_param_get',\n",
       " 'Z3_global_param_reset_all',\n",
       " 'Z3_global_param_set',\n",
       " 'Z3_goal_assert',\n",
       " 'Z3_goal_convert_model',\n",
       " 'Z3_goal_dec_ref',\n",
       " 'Z3_goal_depth',\n",
       " 'Z3_goal_formula',\n",
       " 'Z3_goal_inc_ref',\n",
       " 'Z3_goal_inconsistent',\n",
       " 'Z3_goal_is_decided_sat',\n",
       " 'Z3_goal_is_decided_unsat',\n",
       " 'Z3_goal_num_exprs',\n",
       " 'Z3_goal_precision',\n",
       " 'Z3_goal_reset',\n",
       " 'Z3_goal_size',\n",
       " 'Z3_goal_to_dimacs_string',\n",
       " 'Z3_goal_to_dimacs_string_bytes',\n",
       " 'Z3_goal_to_string',\n",
       " 'Z3_goal_to_string_bytes',\n",
       " 'Z3_goal_translate',\n",
       " 'Z3_inc_ref',\n",
       " 'Z3_interrupt',\n",
       " 'Z3_is_algebraic_number',\n",
       " 'Z3_is_app',\n",
       " 'Z3_is_as_array',\n",
       " 'Z3_is_eq_ast',\n",
       " 'Z3_is_eq_func_decl',\n",
       " 'Z3_is_eq_sort',\n",
       " 'Z3_is_lambda',\n",
       " 'Z3_is_numeral_ast',\n",
       " 'Z3_is_quantifier_exists',\n",
       " 'Z3_is_quantifier_forall',\n",
       " 'Z3_is_re_sort',\n",
       " 'Z3_is_seq_sort',\n",
       " 'Z3_is_string',\n",
       " 'Z3_is_string_sort',\n",
       " 'Z3_is_well_sorted',\n",
       " 'Z3_mk_add',\n",
       " 'Z3_mk_and',\n",
       " 'Z3_mk_app',\n",
       " 'Z3_mk_array_default',\n",
       " 'Z3_mk_array_ext',\n",
       " 'Z3_mk_array_sort',\n",
       " 'Z3_mk_array_sort_n',\n",
       " 'Z3_mk_as_array',\n",
       " 'Z3_mk_ast_map',\n",
       " 'Z3_mk_ast_vector',\n",
       " 'Z3_mk_atleast',\n",
       " 'Z3_mk_atmost',\n",
       " 'Z3_mk_bool_sort',\n",
       " 'Z3_mk_bound',\n",
       " 'Z3_mk_bv2int',\n",
       " 'Z3_mk_bv_numeral',\n",
       " 'Z3_mk_bv_sort',\n",
       " 'Z3_mk_bvadd',\n",
       " 'Z3_mk_bvadd_no_overflow',\n",
       " 'Z3_mk_bvadd_no_underflow',\n",
       " 'Z3_mk_bvand',\n",
       " 'Z3_mk_bvashr',\n",
       " 'Z3_mk_bvlshr',\n",
       " 'Z3_mk_bvmul',\n",
       " 'Z3_mk_bvmul_no_overflow',\n",
       " 'Z3_mk_bvmul_no_underflow',\n",
       " 'Z3_mk_bvnand',\n",
       " 'Z3_mk_bvneg',\n",
       " 'Z3_mk_bvneg_no_overflow',\n",
       " 'Z3_mk_bvnor',\n",
       " 'Z3_mk_bvnot',\n",
       " 'Z3_mk_bvor',\n",
       " 'Z3_mk_bvredand',\n",
       " 'Z3_mk_bvredor',\n",
       " 'Z3_mk_bvsdiv',\n",
       " 'Z3_mk_bvsdiv_no_overflow',\n",
       " 'Z3_mk_bvsge',\n",
       " 'Z3_mk_bvsgt',\n",
       " 'Z3_mk_bvshl',\n",
       " 'Z3_mk_bvsle',\n",
       " 'Z3_mk_bvslt',\n",
       " 'Z3_mk_bvsmod',\n",
       " 'Z3_mk_bvsrem',\n",
       " 'Z3_mk_bvsub',\n",
       " 'Z3_mk_bvsub_no_overflow',\n",
       " 'Z3_mk_bvsub_no_underflow',\n",
       " 'Z3_mk_bvudiv',\n",
       " 'Z3_mk_bvuge',\n",
       " 'Z3_mk_bvugt',\n",
       " 'Z3_mk_bvule',\n",
       " 'Z3_mk_bvult',\n",
       " 'Z3_mk_bvurem',\n",
       " 'Z3_mk_bvxnor',\n",
       " 'Z3_mk_bvxor',\n",
       " 'Z3_mk_concat',\n",
       " 'Z3_mk_config',\n",
       " 'Z3_mk_const',\n",
       " 'Z3_mk_const_array',\n",
       " 'Z3_mk_constructor',\n",
       " 'Z3_mk_constructor_list',\n",
       " 'Z3_mk_context',\n",
       " 'Z3_mk_context_rc',\n",
       " 'Z3_mk_datatype',\n",
       " 'Z3_mk_datatypes',\n",
       " 'Z3_mk_distinct',\n",
       " 'Z3_mk_div',\n",
       " 'Z3_mk_divides',\n",
       " 'Z3_mk_empty_set',\n",
       " 'Z3_mk_enumeration_sort',\n",
       " 'Z3_mk_eq',\n",
       " 'Z3_mk_exists',\n",
       " 'Z3_mk_exists_const',\n",
       " 'Z3_mk_ext_rotate_left',\n",
       " 'Z3_mk_ext_rotate_right',\n",
       " 'Z3_mk_extract',\n",
       " 'Z3_mk_false',\n",
       " 'Z3_mk_finite_domain_sort',\n",
       " 'Z3_mk_fixedpoint',\n",
       " 'Z3_mk_forall',\n",
       " 'Z3_mk_forall_const',\n",
       " 'Z3_mk_fpa_abs',\n",
       " 'Z3_mk_fpa_add',\n",
       " 'Z3_mk_fpa_div',\n",
       " 'Z3_mk_fpa_eq',\n",
       " 'Z3_mk_fpa_fma',\n",
       " 'Z3_mk_fpa_fp',\n",
       " 'Z3_mk_fpa_geq',\n",
       " 'Z3_mk_fpa_gt',\n",
       " 'Z3_mk_fpa_inf',\n",
       " 'Z3_mk_fpa_is_infinite',\n",
       " 'Z3_mk_fpa_is_nan',\n",
       " 'Z3_mk_fpa_is_negative',\n",
       " 'Z3_mk_fpa_is_normal',\n",
       " 'Z3_mk_fpa_is_positive',\n",
       " 'Z3_mk_fpa_is_subnormal',\n",
       " 'Z3_mk_fpa_is_zero',\n",
       " 'Z3_mk_fpa_leq',\n",
       " 'Z3_mk_fpa_lt',\n",
       " 'Z3_mk_fpa_max',\n",
       " 'Z3_mk_fpa_min',\n",
       " 'Z3_mk_fpa_mul',\n",
       " 'Z3_mk_fpa_nan',\n",
       " 'Z3_mk_fpa_neg',\n",
       " 'Z3_mk_fpa_numeral_double',\n",
       " 'Z3_mk_fpa_numeral_float',\n",
       " 'Z3_mk_fpa_numeral_int',\n",
       " 'Z3_mk_fpa_numeral_int64_uint64',\n",
       " 'Z3_mk_fpa_numeral_int_uint',\n",
       " 'Z3_mk_fpa_rem',\n",
       " 'Z3_mk_fpa_rna',\n",
       " 'Z3_mk_fpa_rne',\n",
       " 'Z3_mk_fpa_round_nearest_ties_to_away',\n",
       " 'Z3_mk_fpa_round_nearest_ties_to_even',\n",
       " 'Z3_mk_fpa_round_to_integral',\n",
       " 'Z3_mk_fpa_round_toward_negative',\n",
       " 'Z3_mk_fpa_round_toward_positive',\n",
       " 'Z3_mk_fpa_round_toward_zero',\n",
       " 'Z3_mk_fpa_rounding_mode_sort',\n",
       " 'Z3_mk_fpa_rtn',\n",
       " 'Z3_mk_fpa_rtp',\n",
       " 'Z3_mk_fpa_rtz',\n",
       " 'Z3_mk_fpa_sort',\n",
       " 'Z3_mk_fpa_sort_128',\n",
       " 'Z3_mk_fpa_sort_16',\n",
       " 'Z3_mk_fpa_sort_32',\n",
       " 'Z3_mk_fpa_sort_64',\n",
       " 'Z3_mk_fpa_sort_double',\n",
       " 'Z3_mk_fpa_sort_half',\n",
       " 'Z3_mk_fpa_sort_quadruple',\n",
       " 'Z3_mk_fpa_sort_single',\n",
       " 'Z3_mk_fpa_sqrt',\n",
       " 'Z3_mk_fpa_sub',\n",
       " 'Z3_mk_fpa_to_fp_bv',\n",
       " 'Z3_mk_fpa_to_fp_float',\n",
       " 'Z3_mk_fpa_to_fp_int_real',\n",
       " 'Z3_mk_fpa_to_fp_real',\n",
       " 'Z3_mk_fpa_to_fp_signed',\n",
       " 'Z3_mk_fpa_to_fp_unsigned',\n",
       " 'Z3_mk_fpa_to_ieee_bv',\n",
       " 'Z3_mk_fpa_to_real',\n",
       " 'Z3_mk_fpa_to_sbv',\n",
       " 'Z3_mk_fpa_to_ubv',\n",
       " 'Z3_mk_fpa_zero',\n",
       " 'Z3_mk_fresh_const',\n",
       " 'Z3_mk_fresh_func_decl',\n",
       " 'Z3_mk_full_set',\n",
       " 'Z3_mk_func_decl',\n",
       " 'Z3_mk_ge',\n",
       " 'Z3_mk_goal',\n",
       " 'Z3_mk_gt',\n",
       " 'Z3_mk_iff',\n",
       " 'Z3_mk_implies',\n",
       " 'Z3_mk_int',\n",
       " 'Z3_mk_int2bv',\n",
       " 'Z3_mk_int2real',\n",
       " 'Z3_mk_int64',\n",
       " 'Z3_mk_int_sort',\n",
       " 'Z3_mk_int_symbol',\n",
       " 'Z3_mk_int_to_str',\n",
       " 'Z3_mk_is_int',\n",
       " 'Z3_mk_ite',\n",
       " 'Z3_mk_lambda',\n",
       " 'Z3_mk_lambda_const',\n",
       " 'Z3_mk_le',\n",
       " 'Z3_mk_linear_order',\n",
       " 'Z3_mk_list_sort',\n",
       " 'Z3_mk_lstring',\n",
       " 'Z3_mk_lt',\n",
       " 'Z3_mk_map',\n",
       " 'Z3_mk_mod',\n",
       " 'Z3_mk_model',\n",
       " 'Z3_mk_mul',\n",
       " 'Z3_mk_not',\n",
       " 'Z3_mk_numeral',\n",
       " 'Z3_mk_optimize',\n",
       " 'Z3_mk_or',\n",
       " 'Z3_mk_params',\n",
       " 'Z3_mk_partial_order',\n",
       " 'Z3_mk_pattern',\n",
       " 'Z3_mk_pbeq',\n",
       " 'Z3_mk_pbge',\n",
       " 'Z3_mk_pble',\n",
       " 'Z3_mk_piecewise_linear_order',\n",
       " 'Z3_mk_power',\n",
       " 'Z3_mk_probe',\n",
       " 'Z3_mk_quantifier',\n",
       " 'Z3_mk_quantifier_const',\n",
       " 'Z3_mk_quantifier_const_ex',\n",
       " 'Z3_mk_quantifier_ex',\n",
       " 'Z3_mk_re_complement',\n",
       " 'Z3_mk_re_concat',\n",
       " 'Z3_mk_re_empty',\n",
       " 'Z3_mk_re_full',\n",
       " 'Z3_mk_re_intersect',\n",
       " 'Z3_mk_re_loop',\n",
       " 'Z3_mk_re_option',\n",
       " 'Z3_mk_re_plus',\n",
       " 'Z3_mk_re_range',\n",
       " 'Z3_mk_re_sort',\n",
       " 'Z3_mk_re_star',\n",
       " 'Z3_mk_re_union',\n",
       " 'Z3_mk_real',\n",
       " 'Z3_mk_real2int',\n",
       " 'Z3_mk_real_sort',\n",
       " 'Z3_mk_rec_func_decl',\n",
       " 'Z3_mk_rem',\n",
       " 'Z3_mk_repeat',\n",
       " 'Z3_mk_rotate_left',\n",
       " 'Z3_mk_rotate_right',\n",
       " 'Z3_mk_select',\n",
       " 'Z3_mk_select_n',\n",
       " 'Z3_mk_seq_at',\n",
       " 'Z3_mk_seq_concat',\n",
       " 'Z3_mk_seq_contains',\n",
       " 'Z3_mk_seq_empty',\n",
       " 'Z3_mk_seq_extract',\n",
       " 'Z3_mk_seq_in_re',\n",
       " 'Z3_mk_seq_index',\n",
       " 'Z3_mk_seq_last_index',\n",
       " 'Z3_mk_seq_length',\n",
       " 'Z3_mk_seq_nth',\n",
       " 'Z3_mk_seq_prefix',\n",
       " 'Z3_mk_seq_replace',\n",
       " 'Z3_mk_seq_sort',\n",
       " 'Z3_mk_seq_suffix',\n",
       " 'Z3_mk_seq_to_re',\n",
       " 'Z3_mk_seq_unit',\n",
       " 'Z3_mk_set_add',\n",
       " 'Z3_mk_set_complement',\n",
       " 'Z3_mk_set_del',\n",
       " 'Z3_mk_set_difference',\n",
       " 'Z3_mk_set_has_size',\n",
       " 'Z3_mk_set_intersect',\n",
       " 'Z3_mk_set_member',\n",
       " 'Z3_mk_set_sort',\n",
       " 'Z3_mk_set_subset',\n",
       " 'Z3_mk_set_union',\n",
       " 'Z3_mk_sign_ext',\n",
       " 'Z3_mk_simple_solver',\n",
       " 'Z3_mk_solver',\n",
       " 'Z3_mk_solver_for_logic',\n",
       " 'Z3_mk_solver_from_tactic',\n",
       " 'Z3_mk_store',\n",
       " 'Z3_mk_store_n',\n",
       " 'Z3_mk_str_le',\n",
       " 'Z3_mk_str_lt',\n",
       " 'Z3_mk_str_to_int',\n",
       " 'Z3_mk_string',\n",
       " 'Z3_mk_string_sort',\n",
       " 'Z3_mk_string_symbol',\n",
       " 'Z3_mk_sub',\n",
       " 'Z3_mk_tactic',\n",
       " 'Z3_mk_transitive_closure',\n",
       " 'Z3_mk_tree_order',\n",
       " 'Z3_mk_true',\n",
       " 'Z3_mk_tuple_sort',\n",
       " 'Z3_mk_unary_minus',\n",
       " 'Z3_mk_uninterpreted_sort',\n",
       " 'Z3_mk_unsigned_int',\n",
       " 'Z3_mk_unsigned_int64',\n",
       " 'Z3_mk_xor',\n",
       " 'Z3_mk_zero_ext',\n",
       " 'Z3_model_dec_ref',\n",
       " 'Z3_model_eval',\n",
       " 'Z3_model_extrapolate',\n",
       " 'Z3_model_get_const_decl',\n",
       " 'Z3_model_get_const_interp',\n",
       " 'Z3_model_get_func_decl',\n",
       " 'Z3_model_get_func_interp',\n",
       " 'Z3_model_get_num_consts',\n",
       " 'Z3_model_get_num_funcs',\n",
       " 'Z3_model_get_num_sorts',\n",
       " 'Z3_model_get_sort',\n",
       " 'Z3_model_get_sort_universe',\n",
       " 'Z3_model_has_interp',\n",
       " 'Z3_model_inc_ref',\n",
       " 'Z3_model_to_string',\n",
       " 'Z3_model_to_string_bytes',\n",
       " 'Z3_model_translate',\n",
       " 'Z3_open_log',\n",
       " 'Z3_optimize_assert',\n",
       " 'Z3_optimize_assert_and_track',\n",
       " 'Z3_optimize_assert_soft',\n",
       " 'Z3_optimize_check',\n",
       " 'Z3_optimize_dec_ref',\n",
       " 'Z3_optimize_from_file',\n",
       " 'Z3_optimize_from_string',\n",
       " 'Z3_optimize_get_assertions',\n",
       " 'Z3_optimize_get_help',\n",
       " 'Z3_optimize_get_help_bytes',\n",
       " 'Z3_optimize_get_lower',\n",
       " 'Z3_optimize_get_lower_as_vector',\n",
       " 'Z3_optimize_get_model',\n",
       " 'Z3_optimize_get_objectives',\n",
       " 'Z3_optimize_get_param_descrs',\n",
       " 'Z3_optimize_get_reason_unknown',\n",
       " 'Z3_optimize_get_reason_unknown_bytes',\n",
       " 'Z3_optimize_get_statistics',\n",
       " 'Z3_optimize_get_unsat_core',\n",
       " 'Z3_optimize_get_upper',\n",
       " 'Z3_optimize_get_upper_as_vector',\n",
       " 'Z3_optimize_inc_ref',\n",
       " 'Z3_optimize_maximize',\n",
       " 'Z3_optimize_minimize',\n",
       " 'Z3_optimize_pop',\n",
       " 'Z3_optimize_push',\n",
       " 'Z3_optimize_set_params',\n",
       " 'Z3_optimize_to_string',\n",
       " 'Z3_optimize_to_string_bytes',\n",
       " 'Z3_param_descrs_dec_ref',\n",
       " 'Z3_param_descrs_get_documentation',\n",
       " 'Z3_param_descrs_get_documentation_bytes',\n",
       " 'Z3_param_descrs_get_kind',\n",
       " 'Z3_param_descrs_get_name',\n",
       " 'Z3_param_descrs_inc_ref',\n",
       " 'Z3_param_descrs_size',\n",
       " 'Z3_param_descrs_to_string',\n",
       " 'Z3_param_descrs_to_string_bytes',\n",
       " 'Z3_params_dec_ref',\n",
       " 'Z3_params_inc_ref',\n",
       " 'Z3_params_set_bool',\n",
       " 'Z3_params_set_double',\n",
       " 'Z3_params_set_symbol',\n",
       " 'Z3_params_set_uint',\n",
       " 'Z3_params_to_string',\n",
       " 'Z3_params_to_string_bytes',\n",
       " 'Z3_params_validate',\n",
       " 'Z3_parse_smtlib2_file',\n",
       " 'Z3_parse_smtlib2_string',\n",
       " 'Z3_pattern_to_ast',\n",
       " 'Z3_pattern_to_string',\n",
       " 'Z3_pattern_to_string_bytes',\n",
       " 'Z3_polynomial_subresultants',\n",
       " 'Z3_probe_and',\n",
       " 'Z3_probe_apply',\n",
       " 'Z3_probe_const',\n",
       " 'Z3_probe_dec_ref',\n",
       " 'Z3_probe_eq',\n",
       " 'Z3_probe_ge',\n",
       " 'Z3_probe_get_descr',\n",
       " 'Z3_probe_get_descr_bytes',\n",
       " 'Z3_probe_gt',\n",
       " 'Z3_probe_inc_ref',\n",
       " 'Z3_probe_le',\n",
       " 'Z3_probe_lt',\n",
       " 'Z3_probe_not',\n",
       " 'Z3_probe_or',\n",
       " 'Z3_qe_lite',\n",
       " 'Z3_qe_model_project',\n",
       " 'Z3_qe_model_project_skolem',\n",
       " 'Z3_query_constructor',\n",
       " 'Z3_rcf_add',\n",
       " 'Z3_rcf_del',\n",
       " 'Z3_rcf_div',\n",
       " 'Z3_rcf_eq',\n",
       " 'Z3_rcf_ge',\n",
       " 'Z3_rcf_get_numerator_denominator',\n",
       " 'Z3_rcf_gt',\n",
       " 'Z3_rcf_inv',\n",
       " 'Z3_rcf_le',\n",
       " 'Z3_rcf_lt',\n",
       " 'Z3_rcf_mk_e',\n",
       " 'Z3_rcf_mk_infinitesimal',\n",
       " 'Z3_rcf_mk_pi',\n",
       " 'Z3_rcf_mk_rational',\n",
       " 'Z3_rcf_mk_roots',\n",
       " 'Z3_rcf_mk_small_int',\n",
       " 'Z3_rcf_mul',\n",
       " 'Z3_rcf_neg',\n",
       " 'Z3_rcf_neq',\n",
       " 'Z3_rcf_num_to_decimal_string',\n",
       " 'Z3_rcf_num_to_decimal_string_bytes',\n",
       " 'Z3_rcf_num_to_string',\n",
       " 'Z3_rcf_num_to_string_bytes',\n",
       " 'Z3_rcf_power',\n",
       " 'Z3_rcf_sub',\n",
       " 'Z3_reset_memory',\n",
       " 'Z3_set_ast_print_mode',\n",
       " 'Z3_set_error',\n",
       " 'Z3_set_error_handler',\n",
       " 'Z3_set_param_value',\n",
       " 'Z3_simplify',\n",
       " 'Z3_simplify_ex',\n",
       " 'Z3_simplify_get_help',\n",
       " 'Z3_simplify_get_help_bytes',\n",
       " 'Z3_simplify_get_param_descrs',\n",
       " 'Z3_solver_assert',\n",
       " 'Z3_solver_assert_and_track',\n",
       " 'Z3_solver_check',\n",
       " 'Z3_solver_check_assumptions',\n",
       " 'Z3_solver_cube',\n",
       " 'Z3_solver_dec_ref',\n",
       " ...]"
      ]
     },
     "execution_count": 199,
     "metadata": {},
     "output_type": "execute_result"
    }
   ],
   "source": [
    "dir(z3core)"
   ]
  },
  {
   "cell_type": "code",
   "execution_count": 233,
   "metadata": {},
   "outputs": [
    {
     "name": "stdout",
     "output_type": "stream",
     "text": [
      "sat\n",
      "[]\n"
     ]
    },
    {
     "ename": "Z3Exception",
     "evalue": "b'there is no current proof'",
     "output_type": "error",
     "traceback": [
      "\u001b[0;31m---------------------------------------------------------------------------\u001b[0m",
      "\u001b[0;31mZ3Exception\u001b[0m                               Traceback (most recent call last)",
      "\u001b[0;32m<ipython-input-233-75d179b925e4>\u001b[0m in \u001b[0;36m<module>\u001b[0;34m\u001b[0m\n\u001b[1;32m      9\u001b[0m \u001b[0mprint\u001b[0m\u001b[0;34m(\u001b[0m\u001b[0ms\u001b[0m\u001b[0;34m.\u001b[0m\u001b[0mcheck\u001b[0m\u001b[0;34m(\u001b[0m\u001b[0;34m)\u001b[0m\u001b[0;34m)\u001b[0m\u001b[0;34m\u001b[0m\u001b[0m\n\u001b[1;32m     10\u001b[0m \u001b[0mprint\u001b[0m\u001b[0;34m(\u001b[0m\u001b[0ms\u001b[0m\u001b[0;34m.\u001b[0m\u001b[0munsat_core\u001b[0m\u001b[0;34m(\u001b[0m\u001b[0;34m)\u001b[0m\u001b[0;34m)\u001b[0m\u001b[0;34m\u001b[0m\u001b[0m\n\u001b[0;32m---> 11\u001b[0;31m \u001b[0mprint\u001b[0m\u001b[0;34m(\u001b[0m\u001b[0ms\u001b[0m\u001b[0;34m.\u001b[0m\u001b[0mproof\u001b[0m\u001b[0;34m(\u001b[0m\u001b[0;34m)\u001b[0m\u001b[0;34m)\u001b[0m\u001b[0;34m\u001b[0m\u001b[0m\n\u001b[0m\u001b[1;32m     12\u001b[0m \u001b[0mdir\u001b[0m\u001b[0;34m(\u001b[0m\u001b[0ms\u001b[0m\u001b[0;34m)\u001b[0m\u001b[0;34m\u001b[0m\u001b[0m\n\u001b[1;32m     13\u001b[0m \u001b[0;34m\u001b[0m\u001b[0m\n",
      "\u001b[0;32m/usr/local/lib/python3.7/site-packages/z3/z3.py\u001b[0m in \u001b[0;36mproof\u001b[0;34m(self)\u001b[0m\n\u001b[1;32m   6777\u001b[0m     \u001b[0;32mdef\u001b[0m \u001b[0mproof\u001b[0m\u001b[0;34m(\u001b[0m\u001b[0mself\u001b[0m\u001b[0;34m)\u001b[0m\u001b[0;34m:\u001b[0m\u001b[0;34m\u001b[0m\u001b[0m\n\u001b[1;32m   6778\u001b[0m         \u001b[0;34m\"\"\"Return a proof for the last `check()`. Proof construction must be enabled.\"\"\"\u001b[0m\u001b[0;34m\u001b[0m\u001b[0m\n\u001b[0;32m-> 6779\u001b[0;31m         \u001b[0;32mreturn\u001b[0m \u001b[0m_to_expr_ref\u001b[0m\u001b[0;34m(\u001b[0m\u001b[0mZ3_solver_get_proof\u001b[0m\u001b[0;34m(\u001b[0m\u001b[0mself\u001b[0m\u001b[0;34m.\u001b[0m\u001b[0mctx\u001b[0m\u001b[0;34m.\u001b[0m\u001b[0mref\u001b[0m\u001b[0;34m(\u001b[0m\u001b[0;34m)\u001b[0m\u001b[0;34m,\u001b[0m \u001b[0mself\u001b[0m\u001b[0;34m.\u001b[0m\u001b[0msolver\u001b[0m\u001b[0;34m)\u001b[0m\u001b[0;34m,\u001b[0m \u001b[0mself\u001b[0m\u001b[0;34m.\u001b[0m\u001b[0mctx\u001b[0m\u001b[0;34m)\u001b[0m\u001b[0;34m\u001b[0m\u001b[0m\n\u001b[0m\u001b[1;32m   6780\u001b[0m \u001b[0;34m\u001b[0m\u001b[0m\n\u001b[1;32m   6781\u001b[0m     \u001b[0;32mdef\u001b[0m \u001b[0massertions\u001b[0m\u001b[0;34m(\u001b[0m\u001b[0mself\u001b[0m\u001b[0;34m)\u001b[0m\u001b[0;34m:\u001b[0m\u001b[0;34m\u001b[0m\u001b[0m\n",
      "\u001b[0;32m/usr/local/lib/python3.7/site-packages/z3/z3core.py\u001b[0m in \u001b[0;36mZ3_solver_get_proof\u001b[0;34m(a0, a1, _elems)\u001b[0m\n\u001b[1;32m   3763\u001b[0m \u001b[0;32mdef\u001b[0m \u001b[0mZ3_solver_get_proof\u001b[0m\u001b[0;34m(\u001b[0m\u001b[0ma0\u001b[0m\u001b[0;34m,\u001b[0m \u001b[0ma1\u001b[0m\u001b[0;34m,\u001b[0m \u001b[0m_elems\u001b[0m\u001b[0;34m=\u001b[0m\u001b[0mElementaries\u001b[0m\u001b[0;34m(\u001b[0m\u001b[0m_lib\u001b[0m\u001b[0;34m.\u001b[0m\u001b[0mZ3_solver_get_proof\u001b[0m\u001b[0;34m)\u001b[0m\u001b[0;34m)\u001b[0m\u001b[0;34m:\u001b[0m\u001b[0;34m\u001b[0m\u001b[0m\n\u001b[1;32m   3764\u001b[0m   \u001b[0mr\u001b[0m \u001b[0;34m=\u001b[0m \u001b[0m_elems\u001b[0m\u001b[0;34m.\u001b[0m\u001b[0mf\u001b[0m\u001b[0;34m(\u001b[0m\u001b[0ma0\u001b[0m\u001b[0;34m,\u001b[0m \u001b[0ma1\u001b[0m\u001b[0;34m)\u001b[0m\u001b[0;34m\u001b[0m\u001b[0m\n\u001b[0;32m-> 3765\u001b[0;31m   \u001b[0m_elems\u001b[0m\u001b[0;34m.\u001b[0m\u001b[0mCheck\u001b[0m\u001b[0;34m(\u001b[0m\u001b[0ma0\u001b[0m\u001b[0;34m)\u001b[0m\u001b[0;34m\u001b[0m\u001b[0m\n\u001b[0m\u001b[1;32m   3766\u001b[0m   \u001b[0;32mreturn\u001b[0m \u001b[0mr\u001b[0m\u001b[0;34m\u001b[0m\u001b[0m\n\u001b[1;32m   3767\u001b[0m \u001b[0;34m\u001b[0m\u001b[0m\n",
      "\u001b[0;32m/usr/local/lib/python3.7/site-packages/z3/z3core.py\u001b[0m in \u001b[0;36mCheck\u001b[0;34m(self, ctx)\u001b[0m\n\u001b[1;32m   1379\u001b[0m     \u001b[0merr\u001b[0m \u001b[0;34m=\u001b[0m \u001b[0mself\u001b[0m\u001b[0;34m.\u001b[0m\u001b[0mget_error_code\u001b[0m\u001b[0;34m(\u001b[0m\u001b[0mctx\u001b[0m\u001b[0;34m)\u001b[0m\u001b[0;34m\u001b[0m\u001b[0m\n\u001b[1;32m   1380\u001b[0m     \u001b[0;32mif\u001b[0m \u001b[0merr\u001b[0m \u001b[0;34m!=\u001b[0m \u001b[0mself\u001b[0m\u001b[0;34m.\u001b[0m\u001b[0mOK\u001b[0m\u001b[0;34m:\u001b[0m\u001b[0;34m\u001b[0m\u001b[0m\n\u001b[0;32m-> 1381\u001b[0;31m         \u001b[0;32mraise\u001b[0m \u001b[0mself\u001b[0m\u001b[0;34m.\u001b[0m\u001b[0mException\u001b[0m\u001b[0;34m(\u001b[0m\u001b[0mself\u001b[0m\u001b[0;34m.\u001b[0m\u001b[0mget_error_message\u001b[0m\u001b[0;34m(\u001b[0m\u001b[0mctx\u001b[0m\u001b[0;34m,\u001b[0m \u001b[0merr\u001b[0m\u001b[0;34m)\u001b[0m\u001b[0;34m)\u001b[0m\u001b[0;34m\u001b[0m\u001b[0m\n\u001b[0m\u001b[1;32m   1382\u001b[0m \u001b[0;34m\u001b[0m\u001b[0m\n\u001b[1;32m   1383\u001b[0m \u001b[0;32mdef\u001b[0m \u001b[0mZ3_set_error_handler\u001b[0m\u001b[0;34m(\u001b[0m\u001b[0mctx\u001b[0m\u001b[0;34m,\u001b[0m \u001b[0mhndlr\u001b[0m\u001b[0;34m,\u001b[0m \u001b[0m_elems\u001b[0m\u001b[0;34m=\u001b[0m\u001b[0mElementaries\u001b[0m\u001b[0;34m(\u001b[0m\u001b[0m_lib\u001b[0m\u001b[0;34m.\u001b[0m\u001b[0mZ3_set_error_handler\u001b[0m\u001b[0;34m)\u001b[0m\u001b[0;34m)\u001b[0m\u001b[0;34m:\u001b[0m\u001b[0;34m\u001b[0m\u001b[0m\n",
      "\u001b[0;31mZ3Exception\u001b[0m: b'there is no current proof'"
     ]
    }
   ],
   "source": [
    "s = Solver()\n",
    "a = Bool('a')\n",
    "#s.add(ForAll([a], a == True))\n",
    "#print(help(s.set))\n",
    "#help(s)\n",
    "set_param(proof=True)\n",
    "s.add(a)\n",
    "s.set(auto_config=False, mbqi = False, proof=True)\n",
    "print(s.check())\n",
    "print(s.unsat_core())\n",
    "print(s.proof())\n",
    "dir(s)\n",
    "\n"
   ]
  },
  {
   "cell_type": "code",
   "execution_count": 240,
   "metadata": {},
   "outputs": [
    {
     "data": {
      "text/html": [
       "mp(mp(asserted(x &gt; 0),\n",
       "      rewrite((x &gt; 0) = &not;(x &le; 0)),\n",
       "      &not;(x &le; 0)),\n",
       "   trans(monotonicity(trans(monotonicity(asserted(x = 0),\n",
       "                                        (x &le; 0) = (0 &le; 0)),\n",
       "                            rewrite((0 &le; 0) = True),\n",
       "                            (x &le; 0) = True),\n",
       "                      &not;(x &le; 0) = &not;True),\n",
       "         rewrite(&not;True = False),\n",
       "         &not;(x &le; 0) = False),\n",
       "   False)"
      ],
      "text/plain": [
       "mp(mp(asserted(x > 0),\n",
       "      rewrite((x > 0) == Not(x <= 0)),\n",
       "      Not(x <= 0)),\n",
       "   trans(monotonicity(trans(monotonicity(asserted(x == 0),\n",
       "                                        (x <= 0) == (0 <= 0)),\n",
       "                            rewrite((0 <= 0) == True),\n",
       "                            (x <= 0) == True),\n",
       "                      Not(x <= 0) == Not(True)),\n",
       "         rewrite(Not(True) == False),\n",
       "         Not(x <= 0) == False),\n",
       "   False)"
      ]
     },
     "execution_count": 240,
     "metadata": {},
     "output_type": "execute_result"
    }
   ],
   "source": [
    "#https://stackoverflow.com/questions/29577754/getting-proof-from-z3py\n",
    "set_param(proof=True)\n",
    "ctx = Context()\n",
    "s = Solver(ctx=ctx)\n",
    "x = Int('x', ctx=ctx)\n",
    "s.add(x > 0)\n",
    "s.add(x == 0)\n",
    "s.check()\n",
    "s.proof()"
   ]
  },
  {
   "cell_type": "code",
   "execution_count": null,
   "metadata": {},
   "outputs": [],
   "source": [
    "set_param(proof=True)\n",
    "ctx = Context()\n",
    "s = Solver(ctx=ctx)\n",
    "x = Int('x', ctx=ctx)\n",
    "s.add(x > 0)\n",
    "s.add(x == 0)\n",
    "s.check()\n",
    "s.proof()"
   ]
  },
  {
   "cell_type": "code",
   "execution_count": 248,
   "metadata": {},
   "outputs": [],
   "source": [
    " def Function2(name, *sig, ctx=ctx):\n",
    "     \"\"\"Create a new Z3 uninterpreted function with the given sorts.\n",
    " \n",
    "     >>> f = Function('f', IntSort(), IntSort())\n",
    "     >>> f(f(0))\n",
    "     f(f(0))\n",
    "     \"\"\"\n",
    "     sig = _get_args(sig)\n",
    "     if z3_debug():\n",
    "         _z3_assert(len(sig) > 0, \"At least two arguments expected\")\n",
    "     arity = len(sig) - 1\n",
    "     rng   = sig[arity]\n",
    "     if z3_debug():\n",
    "         _z3_assert(is_sort(rng), \"Z3 sort expected\")\n",
    "     dom   = (Sort * arity)()\n",
    "     for i in range(arity):\n",
    "         if z3_debug():\n",
    "             _z3_assert(is_sort(sig[i]), \"Z3 sort expected\")\n",
    "         dom[i] = sig[i].ast\n",
    "     #ctx = rng.ctx\n",
    "     return FuncDeclRef(Z3_mk_func_decl(ctx.ref(), to_symbol(name, ctx), arity, dom, rng.ast), ctx)"
   ]
  },
  {
   "cell_type": "code",
   "execution_count": 273,
   "metadata": {},
   "outputs": [
    {
     "data": {
      "text/html": [
       "unit-resolution(quant-inst(&not;(&forall;x : f(x)) &or; f(y)),\n",
       "                mp~(mp(mp(asserted(&forall;x : f(x) = True),\n",
       "                          quant-intro(proof-bind(&exist;x :\n",
       "                                        rewrite((f(x) = True) =\n",
       "                                        f(x))),\n",
       "                                      (&forall;x : f(x) = True) =\n",
       "                                      (&forall;x : f(x))),\n",
       "                          &forall;x : f(x)),\n",
       "                       rewrite((&forall;x : f(x)) = (&forall;x : f(x))),\n",
       "                       &forall;x : f(x)),\n",
       "                    nnf-pos(proof-bind(&exist;x :\n",
       "                                        refl(~(f(x), f(x)))),\n",
       "                            ~(&forall;x : f(x), &forall;x : f(x))),\n",
       "                    &forall;x : f(x)),\n",
       "                mp(mp(asserted(&not;(f(y) = True)),\n",
       "                      monotonicity(rewrite((f(y) = True) =\n",
       "                                        f(y)),\n",
       "                                   &not;(f(y) = True) = &not;f(y)),\n",
       "                      &not;f(y)),\n",
       "                   rewrite(&not;f(y) = &not;f(y)),\n",
       "                   &not;f(y)),\n",
       "                False)"
      ],
      "text/plain": [
       "unit-resolution(quant-inst(Or(Not(ForAll(x, f(x))), f(y))),\n",
       "                mp~(mp(mp(asserted(ForAll(x, f(x) == True)),\n",
       "                          quant-intro(proof-bind(Lambda(x,\n",
       "                                        rewrite((f(x) ==\n",
       "                                        True) ==\n",
       "                                        f(x)))),\n",
       "                                      (ForAll(x,\n",
       "                                        f(x) == True)) ==\n",
       "                                      (ForAll(x, f(x)))),\n",
       "                          ForAll(x, f(x))),\n",
       "                       rewrite((ForAll(x, f(x))) ==\n",
       "                               (ForAll(x, f(x)))),\n",
       "                       ForAll(x, f(x))),\n",
       "                    nnf-pos(proof-bind(Lambda(x,\n",
       "                                        refl(~(f(x), f(x))))),\n",
       "                            ~(ForAll(x, f(x)),\n",
       "                              ForAll(x, f(x)))),\n",
       "                    ForAll(x, f(x))),\n",
       "                mp(mp(asserted(Not(f(y) == True)),\n",
       "                      monotonicity(rewrite((f(y) == True) ==\n",
       "                                        f(y)),\n",
       "                                   Not(f(y) == True) ==\n",
       "                                   Not(f(y))),\n",
       "                      Not(f(y))),\n",
       "                   rewrite(Not(f(y)) == Not(f(y))),\n",
       "                   Not(f(y))),\n",
       "                False)"
      ]
     },
     "execution_count": 273,
     "metadata": {},
     "output_type": "execute_result"
    }
   ],
   "source": [
    "set_param(proof=True)\n",
    "ctx = Context()\n",
    "s = Solver(ctx=ctx)\n",
    "s.set(auto_config=False, mbqi = False)\n",
    "x = Int('x', ctx=ctx)\n",
    "y = Int('y', ctx=ctx)\n",
    "f = Function(\"f\", IntSort(ctx=ctx), BoolSort(ctx=ctx))\n",
    "s.add(ForAll([x],f(x) == True, patterns=[f(x)], weight=0))\n",
    "s.add(Not(f(y) == True))\n",
    "s.check()\n",
    "s.proof()\n"
   ]
  },
  {
   "cell_type": "code",
   "execution_count": 8,
   "metadata": {},
   "outputs": [
    {
     "ename": "Z3Exception",
     "evalue": "b'recursive predicate (P!!3 (:var 0)) occurs nested in the body of a rule'",
     "output_type": "error",
     "traceback": [
      "\u001b[0;31m---------------------------------------------------------------------------\u001b[0m",
      "\u001b[0;31mZ3Exception\u001b[0m                               Traceback (most recent call last)",
      "\u001b[0;32m<ipython-input-8-b7cecd3cb0b1>\u001b[0m in \u001b[0;36m<module>\u001b[0;34m\u001b[0m\n\u001b[1;32m      4\u001b[0m \u001b[0mp\u001b[0m \u001b[0;34m=\u001b[0m \u001b[0mImplies\u001b[0m\u001b[0;34m(\u001b[0m\u001b[0mForAll\u001b[0m\u001b[0;34m(\u001b[0m\u001b[0;34m[\u001b[0m\u001b[0mx\u001b[0m\u001b[0;34m]\u001b[0m\u001b[0;34m,\u001b[0m\u001b[0mf\u001b[0m\u001b[0;34m(\u001b[0m\u001b[0mx\u001b[0m\u001b[0;34m)\u001b[0m \u001b[0;34m==\u001b[0m \u001b[0;32mTrue\u001b[0m\u001b[0;34m,\u001b[0m \u001b[0mpatterns\u001b[0m\u001b[0;34m=\u001b[0m\u001b[0;34m[\u001b[0m\u001b[0mf\u001b[0m\u001b[0;34m(\u001b[0m\u001b[0mx\u001b[0m\u001b[0;34m)\u001b[0m\u001b[0;34m]\u001b[0m\u001b[0;34m)\u001b[0m\u001b[0;34m,\u001b[0m \u001b[0mf\u001b[0m\u001b[0;34m(\u001b[0m\u001b[0my\u001b[0m\u001b[0;34m)\u001b[0m \u001b[0;34m==\u001b[0m \u001b[0;32mTrue\u001b[0m\u001b[0;34m)\u001b[0m\u001b[0;34m\u001b[0m\u001b[0m\n\u001b[1;32m      5\u001b[0m \u001b[0mt\u001b[0m \u001b[0;34m=\u001b[0m \u001b[0mTactic\u001b[0m\u001b[0;34m(\u001b[0m\u001b[0;34m\"horn\"\u001b[0m\u001b[0;34m)\u001b[0m\u001b[0;34m\u001b[0m\u001b[0m\n\u001b[0;32m----> 6\u001b[0;31m \u001b[0mt\u001b[0m\u001b[0;34m(\u001b[0m\u001b[0mp\u001b[0m\u001b[0;34m)\u001b[0m\u001b[0;34m\u001b[0m\u001b[0m\n\u001b[0m",
      "\u001b[0;32m/usr/local/lib/python3.7/site-packages/z3/z3.py\u001b[0m in \u001b[0;36m__call__\u001b[0;34m(self, goal, *arguments, **keywords)\u001b[0m\n\u001b[1;32m   7707\u001b[0m         \u001b[0;34m[\u001b[0m\u001b[0;34m[\u001b[0m\u001b[0my\u001b[0m \u001b[0;34m>=\u001b[0m \u001b[0;36m1\u001b[0m\u001b[0;34m]\u001b[0m\u001b[0;34m]\u001b[0m\u001b[0;34m\u001b[0m\u001b[0m\n\u001b[1;32m   7708\u001b[0m         \"\"\"\n\u001b[0;32m-> 7709\u001b[0;31m         \u001b[0;32mreturn\u001b[0m \u001b[0mself\u001b[0m\u001b[0;34m.\u001b[0m\u001b[0mapply\u001b[0m\u001b[0;34m(\u001b[0m\u001b[0mgoal\u001b[0m\u001b[0;34m,\u001b[0m \u001b[0;34m*\u001b[0m\u001b[0marguments\u001b[0m\u001b[0;34m,\u001b[0m \u001b[0;34m**\u001b[0m\u001b[0mkeywords\u001b[0m\u001b[0;34m)\u001b[0m\u001b[0;34m\u001b[0m\u001b[0m\n\u001b[0m\u001b[1;32m   7710\u001b[0m \u001b[0;34m\u001b[0m\u001b[0m\n\u001b[1;32m   7711\u001b[0m     \u001b[0;32mdef\u001b[0m \u001b[0mhelp\u001b[0m\u001b[0;34m(\u001b[0m\u001b[0mself\u001b[0m\u001b[0;34m)\u001b[0m\u001b[0;34m:\u001b[0m\u001b[0;34m\u001b[0m\u001b[0m\n",
      "\u001b[0;32m/usr/local/lib/python3.7/site-packages/z3/z3.py\u001b[0m in \u001b[0;36mapply\u001b[0;34m(self, goal, *arguments, **keywords)\u001b[0m\n\u001b[1;32m   7697\u001b[0m             \u001b[0;32mreturn\u001b[0m \u001b[0mApplyResult\u001b[0m\u001b[0;34m(\u001b[0m\u001b[0mZ3_tactic_apply_ex\u001b[0m\u001b[0;34m(\u001b[0m\u001b[0mself\u001b[0m\u001b[0;34m.\u001b[0m\u001b[0mctx\u001b[0m\u001b[0;34m.\u001b[0m\u001b[0mref\u001b[0m\u001b[0;34m(\u001b[0m\u001b[0;34m)\u001b[0m\u001b[0;34m,\u001b[0m \u001b[0mself\u001b[0m\u001b[0;34m.\u001b[0m\u001b[0mtactic\u001b[0m\u001b[0;34m,\u001b[0m \u001b[0mgoal\u001b[0m\u001b[0;34m.\u001b[0m\u001b[0mgoal\u001b[0m\u001b[0;34m,\u001b[0m \u001b[0mp\u001b[0m\u001b[0;34m.\u001b[0m\u001b[0mparams\u001b[0m\u001b[0;34m)\u001b[0m\u001b[0;34m,\u001b[0m \u001b[0mself\u001b[0m\u001b[0;34m.\u001b[0m\u001b[0mctx\u001b[0m\u001b[0;34m)\u001b[0m\u001b[0;34m\u001b[0m\u001b[0m\n\u001b[1;32m   7698\u001b[0m         \u001b[0;32melse\u001b[0m\u001b[0;34m:\u001b[0m\u001b[0;34m\u001b[0m\u001b[0m\n\u001b[0;32m-> 7699\u001b[0;31m             \u001b[0;32mreturn\u001b[0m \u001b[0mApplyResult\u001b[0m\u001b[0;34m(\u001b[0m\u001b[0mZ3_tactic_apply\u001b[0m\u001b[0;34m(\u001b[0m\u001b[0mself\u001b[0m\u001b[0;34m.\u001b[0m\u001b[0mctx\u001b[0m\u001b[0;34m.\u001b[0m\u001b[0mref\u001b[0m\u001b[0;34m(\u001b[0m\u001b[0;34m)\u001b[0m\u001b[0;34m,\u001b[0m \u001b[0mself\u001b[0m\u001b[0;34m.\u001b[0m\u001b[0mtactic\u001b[0m\u001b[0;34m,\u001b[0m \u001b[0mgoal\u001b[0m\u001b[0;34m.\u001b[0m\u001b[0mgoal\u001b[0m\u001b[0;34m)\u001b[0m\u001b[0;34m,\u001b[0m \u001b[0mself\u001b[0m\u001b[0;34m.\u001b[0m\u001b[0mctx\u001b[0m\u001b[0;34m)\u001b[0m\u001b[0;34m\u001b[0m\u001b[0m\n\u001b[0m\u001b[1;32m   7700\u001b[0m \u001b[0;34m\u001b[0m\u001b[0m\n\u001b[1;32m   7701\u001b[0m     \u001b[0;32mdef\u001b[0m \u001b[0m__call__\u001b[0m\u001b[0;34m(\u001b[0m\u001b[0mself\u001b[0m\u001b[0;34m,\u001b[0m \u001b[0mgoal\u001b[0m\u001b[0;34m,\u001b[0m \u001b[0;34m*\u001b[0m\u001b[0marguments\u001b[0m\u001b[0;34m,\u001b[0m \u001b[0;34m**\u001b[0m\u001b[0mkeywords\u001b[0m\u001b[0;34m)\u001b[0m\u001b[0;34m:\u001b[0m\u001b[0;34m\u001b[0m\u001b[0m\n",
      "\u001b[0;32m/usr/local/lib/python3.7/site-packages/z3/z3core.py\u001b[0m in \u001b[0;36mZ3_tactic_apply\u001b[0;34m(a0, a1, a2, _elems)\u001b[0m\n\u001b[1;32m   3578\u001b[0m \u001b[0;32mdef\u001b[0m \u001b[0mZ3_tactic_apply\u001b[0m\u001b[0;34m(\u001b[0m\u001b[0ma0\u001b[0m\u001b[0;34m,\u001b[0m \u001b[0ma1\u001b[0m\u001b[0;34m,\u001b[0m \u001b[0ma2\u001b[0m\u001b[0;34m,\u001b[0m \u001b[0m_elems\u001b[0m\u001b[0;34m=\u001b[0m\u001b[0mElementaries\u001b[0m\u001b[0;34m(\u001b[0m\u001b[0m_lib\u001b[0m\u001b[0;34m.\u001b[0m\u001b[0mZ3_tactic_apply\u001b[0m\u001b[0;34m)\u001b[0m\u001b[0;34m)\u001b[0m\u001b[0;34m:\u001b[0m\u001b[0;34m\u001b[0m\u001b[0m\n\u001b[1;32m   3579\u001b[0m   \u001b[0mr\u001b[0m \u001b[0;34m=\u001b[0m \u001b[0m_elems\u001b[0m\u001b[0;34m.\u001b[0m\u001b[0mf\u001b[0m\u001b[0;34m(\u001b[0m\u001b[0ma0\u001b[0m\u001b[0;34m,\u001b[0m \u001b[0ma1\u001b[0m\u001b[0;34m,\u001b[0m \u001b[0ma2\u001b[0m\u001b[0;34m)\u001b[0m\u001b[0;34m\u001b[0m\u001b[0m\n\u001b[0;32m-> 3580\u001b[0;31m   \u001b[0m_elems\u001b[0m\u001b[0;34m.\u001b[0m\u001b[0mCheck\u001b[0m\u001b[0;34m(\u001b[0m\u001b[0ma0\u001b[0m\u001b[0;34m)\u001b[0m\u001b[0;34m\u001b[0m\u001b[0m\n\u001b[0m\u001b[1;32m   3581\u001b[0m   \u001b[0;32mreturn\u001b[0m \u001b[0mr\u001b[0m\u001b[0;34m\u001b[0m\u001b[0m\n\u001b[1;32m   3582\u001b[0m \u001b[0;34m\u001b[0m\u001b[0m\n",
      "\u001b[0;32m/usr/local/lib/python3.7/site-packages/z3/z3core.py\u001b[0m in \u001b[0;36mCheck\u001b[0;34m(self, ctx)\u001b[0m\n\u001b[1;32m   1379\u001b[0m     \u001b[0merr\u001b[0m \u001b[0;34m=\u001b[0m \u001b[0mself\u001b[0m\u001b[0;34m.\u001b[0m\u001b[0mget_error_code\u001b[0m\u001b[0;34m(\u001b[0m\u001b[0mctx\u001b[0m\u001b[0;34m)\u001b[0m\u001b[0;34m\u001b[0m\u001b[0m\n\u001b[1;32m   1380\u001b[0m     \u001b[0;32mif\u001b[0m \u001b[0merr\u001b[0m \u001b[0;34m!=\u001b[0m \u001b[0mself\u001b[0m\u001b[0;34m.\u001b[0m\u001b[0mOK\u001b[0m\u001b[0;34m:\u001b[0m\u001b[0;34m\u001b[0m\u001b[0m\n\u001b[0;32m-> 1381\u001b[0;31m         \u001b[0;32mraise\u001b[0m \u001b[0mself\u001b[0m\u001b[0;34m.\u001b[0m\u001b[0mException\u001b[0m\u001b[0;34m(\u001b[0m\u001b[0mself\u001b[0m\u001b[0;34m.\u001b[0m\u001b[0mget_error_message\u001b[0m\u001b[0;34m(\u001b[0m\u001b[0mctx\u001b[0m\u001b[0;34m,\u001b[0m \u001b[0merr\u001b[0m\u001b[0;34m)\u001b[0m\u001b[0;34m)\u001b[0m\u001b[0;34m\u001b[0m\u001b[0m\n\u001b[0m\u001b[1;32m   1382\u001b[0m \u001b[0;34m\u001b[0m\u001b[0m\n\u001b[1;32m   1383\u001b[0m \u001b[0;32mdef\u001b[0m \u001b[0mZ3_set_error_handler\u001b[0m\u001b[0;34m(\u001b[0m\u001b[0mctx\u001b[0m\u001b[0;34m,\u001b[0m \u001b[0mhndlr\u001b[0m\u001b[0;34m,\u001b[0m \u001b[0m_elems\u001b[0m\u001b[0;34m=\u001b[0m\u001b[0mElementaries\u001b[0m\u001b[0;34m(\u001b[0m\u001b[0m_lib\u001b[0m\u001b[0;34m.\u001b[0m\u001b[0mZ3_set_error_handler\u001b[0m\u001b[0;34m)\u001b[0m\u001b[0;34m)\u001b[0m\u001b[0;34m:\u001b[0m\u001b[0;34m\u001b[0m\u001b[0m\n",
      "\u001b[0;31mZ3Exception\u001b[0m: b'recursive predicate (P!!3 (:var 0)) occurs nested in the body of a rule'"
     ]
    }
   ],
   "source": [
    "x = Int('x')\n",
    "y = Int('y')\n",
    "f = Function(\"f\", IntSort(), BoolSort())\n",
    "p = Implies(ForAll([x],f(x) == True, patterns=[f(x)]), f(y) == True)\n",
    "t = Tactic(\"horn\")\n",
    "t(p)"
   ]
  },
  {
   "cell_type": "markdown",
   "metadata": {},
   "source": [
    "Ok. What if I just did a LITTLE bit of the unification.\n",
    "Instantiate with fresh variables,\n",
    "traverse down through b(x) and c in lock step. and add a constraint everytime we hit a variable"
   ]
  },
  {
   "cell_type": "markdown",
   "metadata": {},
   "source": [
    "Reflect the z3 ast into itself as an ADT. That would be funny.\n",
    "enum(Op_type)\n",
    "ModelEval( z3_expr , m)"
   ]
  },
  {
   "cell_type": "code",
   "execution_count": null,
   "metadata": {},
   "outputs": [],
   "source": [
    "unit-resolution(quant-inst(¬(∀x : f(x)) ∨ f(y)), mp~(mp(mp(asserted(∀x : f(x) = True), quant-intro(proof-bind(∃x : rewrite((f(x) = True) = f(x))), (∀x : f(x) = True) = (∀x : f(x))), ∀x : f(x)), rewrite((∀x : f(x)) = (∀x : f(x))), ∀x : f(x)), nnf-pos(proof-bind(∃x : refl(~(f(x), f(x)))), ~(∀x : f(x), ∀x : f(x))), ∀x : f(x)), mp(mp(asserted(¬(f(y) = True)), monotonicity(rewrite((f(y) = True) = f(y)), ¬(f(y) = True) = ¬f(y)), ¬f(y)), rewrite(¬f(y) = ¬f(y)), ¬f(y)), False)"
   ]
  },
  {
   "cell_type": "code",
   "execution_count": 260,
   "metadata": {},
   "outputs": [
    {
     "data": {
      "text/plain": [
       "['__bool__',\n",
       " '__class__',\n",
       " '__ctypes_from_outparam__',\n",
       " '__delattr__',\n",
       " '__dict__',\n",
       " '__dir__',\n",
       " '__doc__',\n",
       " '__eq__',\n",
       " '__format__',\n",
       " '__ge__',\n",
       " '__getattribute__',\n",
       " '__gt__',\n",
       " '__hash__',\n",
       " '__init__',\n",
       " '__init_subclass__',\n",
       " '__le__',\n",
       " '__lt__',\n",
       " '__module__',\n",
       " '__ne__',\n",
       " '__new__',\n",
       " '__reduce__',\n",
       " '__reduce_ex__',\n",
       " '__repr__',\n",
       " '__setattr__',\n",
       " '__setstate__',\n",
       " '__sizeof__',\n",
       " '__str__',\n",
       " '__subclasshook__',\n",
       " '__weakref__',\n",
       " '_as_parameter_',\n",
       " '_b_base_',\n",
       " '_b_needsfree_',\n",
       " '_objects',\n",
       " '_type_',\n",
       " 'from_param',\n",
       " 'value']"
      ]
     },
     "execution_count": 260,
     "metadata": {},
     "output_type": "execute_result"
    }
   ],
   "source": [
    "dir(Pattern(f(x)))"
   ]
  },
  {
   "cell_type": "raw",
   "metadata": {},
   "source": [
    "dir(z3core)"
   ]
  },
  {
   "cell_type": "code",
   "execution_count": 9,
   "metadata": {},
   "outputs": [
    {
     "data": {
      "text/plain": [
       "['Z3_get_implied_equalities']"
      ]
     },
     "execution_count": 9,
     "metadata": {},
     "output_type": "execute_result"
    }
   ],
   "source": [
    "[ meth for meth in dir(z3core) if \"implied\" in meth ]"
   ]
  },
  {
   "cell_type": "code",
   "execution_count": 11,
   "metadata": {},
   "outputs": [
    {
     "name": "stdout",
     "output_type": "stream",
     "text": [
      "Help on function Z3_get_implied_equalities in module z3.z3core:\n",
      "\n",
      "Z3_get_implied_equalities(a0, a1, a2, a3, a4, _elems=<z3.z3core.Elementaries object at 0x104585b38>)\n",
      "\n"
     ]
    }
   ],
   "source": [
    "help(Z3_get_implied_equalities)"
   ]
  },
  {
   "cell_type": "code",
   "execution_count": 24,
   "metadata": {},
   "outputs": [
    {
     "name": "stdout",
     "output_type": "stream",
     "text": [
      "Help on method consequences in module z3.z3:\n",
      "\n",
      "consequences(assumptions, variables) method of z3.z3.Solver instance\n",
      "    Determine fixed values for the variables based on the solver state and assumptions.\n",
      "    >>> s = Solver()\n",
      "    >>> a, b, c, d = Bools('a b c d')\n",
      "    >>> s.add(Implies(a,b), Implies(b, c))\n",
      "    >>> s.consequences([a],[b,c,d])\n",
      "    (sat, [Implies(a, b), Implies(a, c)])\n",
      "    >>> s.consequences([Not(c),d],[a,b,c,d])\n",
      "    (sat, [Implies(d, d), Implies(Not(c), Not(c)), Implies(Not(c), Not(b)), Implies(Not(c), Not(a))])\n",
      "\n"
     ]
    },
    {
     "data": {
      "text/plain": [
       "(unknown, [])"
      ]
     },
     "execution_count": 24,
     "metadata": {},
     "output_type": "execute_result"
    }
   ],
   "source": [
    "s = Solver()\n",
    "x,y = Reals(\"x y\")\n",
    "s.add(Implies(x + 1 == 2, y + 1 == 2))\n",
    "help(s.consequences)\n",
    "#s.check()\n",
    "s.consequences([x], [y,x])"
   ]
  },
  {
   "cell_type": "code",
   "execution_count": null,
   "metadata": {},
   "outputs": [],
   "source": [
    " def trail_levels(self):\n",
    "     \"\"\"Return trail and decision levels of the solver state after a check() call.\n",
    "     \"\"\"\n",
    "     trail = self.trail()\n",
    "     levels = (ctypes.c_uint * len(trail))()\n",
    "     Z3_solver_get_levels(self.ctx.ref(), self.solver, trail.vector, len(trail), levels)\n",
    "     return trail, levels\n",
    " def consequences(self, assumptions, variables):\n",
    "     \"\"\"Determine fixed values for the variables based on the solver state and assumptions.\n",
    "     >>> s = Solver()\n",
    "     >>> a, b, c, d = Bools('a b c d')\n",
    "     >>> s.add(Implies(a,b), Implies(b, c))\n",
    "     >>> s.consequences([a],[b,c,d])\n",
    "     (sat, [Implies(a, b), Implies(a, c)])\n",
    "     >>> s.consequences([Not(c),d],[a,b,c,d])\n",
    "     (sat, [Implies(d, d), Implies(Not(c), Not(c)), Implies(Not(c), Not(b)), Implies(Not(c), Not(a))])\n",
    "     \"\"\"\n",
    "     if isinstance(assumptions, list):\n",
    "         _asms = AstVector(None, self.ctx)\n",
    "         for a in assumptions:\n",
    "             _asms.push(a)\n",
    "         assumptions = _asms\n",
    "     if isinstance(variables, list):\n",
    "         _vars = AstVector(None, self.ctx)\n",
    "         for a in variables:\n",
    "             _vars.push(a)\n",
    "         variables = _vars\n",
    "     _z3_assert(isinstance(assumptions, AstVector), \"ast vector expected\")\n",
    "     _z3_assert(isinstance(variables, AstVector), \"ast vector expected\")\n",
    "     consequences = AstVector(None, self.ctx)\n",
    "     r = Z3_solver_get_consequences(self.ctx.ref(), self.solver, assumptions.vector, variables.vector, consequences.vector)\n",
    "     sz = len(consequences)\n",
    "     consequences = [ consequences[i] for i in range(sz) ]\n",
    "     return CheckSatResult(r), consequences\n",
    "        \n",
    "    assumptions = _get_args(assumptions)\n",
    "         num = len(assumptions)\n",
    "         _assumptions = (Ast * num)()\n",
    "         for i in range(num):\n",
    "             _assumptions[i] = assumptions[i].as_ast()\n",
    "         r = Z3_solver_check_assumptions(self.ctx.ref(), self.solver, num, _assumptions)\n",
    "         return CheckSatResult(r)\n",
    "\n",
    "    \n",
    "Z3_get_implied_equalities (Z3_context c, Z3_solver s, unsigned num_terms, Z3_ast const terms[], unsigned class_ids[])\n",
    "\n",
    "Z3_lbool Z3_API \tZ3_solver_get_consequences (Z3_context c, Z3_solver s, Z3_ast_vector assumptions, Z3_ast_vector variables, Z3_ast_vector consequences)"
   ]
  },
  {
   "cell_type": "code",
   "execution_count": 27,
   "metadata": {},
   "outputs": [],
   "source": [
    "def implied_equalities(self,terms):\n",
    "    num = len(terms)\n",
    "    _terms = (Ast * num)()\n",
    "    classes = (ctypes.c_uint * num)()\n",
    "    for i in range(num):\n",
    "        _terms[i] = terms[i].as_ast()\n",
    "    r = Z3_get_implied_equalities(self.ctx.ref(), self.solver, num, _terms, classes)\n",
    "    print(r)\n",
    "    return classes\n",
    "Solver.implied_equalities = implied_equalities"
   ]
  },
  {
   "cell_type": "code",
   "execution_count": 44,
   "metadata": {},
   "outputs": [
    {
     "name": "stdout",
     "output_type": "stream",
     "text": [
      "Help on method consequences in module z3.z3:\n",
      "\n",
      "consequences(assumptions, variables) method of z3.z3.Solver instance\n",
      "    Determine fixed values for the variables based on the solver state and assumptions.\n",
      "    >>> s = Solver()\n",
      "    >>> a, b, c, d = Bools('a b c d')\n",
      "    >>> s.add(Implies(a,b), Implies(b, c))\n",
      "    >>> s.consequences([a],[b,c,d])\n",
      "    (sat, [Implies(a, b), Implies(a, c)])\n",
      "    >>> s.consequences([Not(c),d],[a,b,c,d])\n",
      "    (sat, [Implies(d, d), Implies(Not(c), Not(c)), Implies(Not(c), Not(b)), Implies(Not(c), Not(a))])\n",
      "\n",
      "1\n",
      "0\n",
      "1\n"
     ]
    }
   ],
   "source": [
    "s = Solver()\n",
    "x,y,z = Reals(\"x y z\")\n",
    "f = Function(\"f\", RealSort(), BoolSort())\n",
    "s.add( ForAll([z], Implies(f(z) == f(y), z == y) )) # a kind of injectivity.\n",
    "s.add( f(x+1) == f(y+1) )\n",
    "#s.add(x == y, y == z)\n",
    "help(s.consequences)\n",
    "#s.check()\n",
    "terms = [x,y]\n",
    "res = s.implied_equalities(terms)\n",
    "for i in range(len(terms)):\n",
    "    print(res[i])"
   ]
  },
  {
   "cell_type": "code",
   "execution_count": 45,
   "metadata": {},
   "outputs": [
    {
     "name": "stdout",
     "output_type": "stream",
     "text": [
      "1\n",
      "0\n",
      "1\n"
     ]
    }
   ],
   "source": [
    "s = Solver()\n",
    "x,y,z = Reals(\"x y z\")\n",
    "f = Function(\"f\", RealSort(), BoolSort())\n",
    "#s.add( ForAll([z], Implies(f(z) == f(y), z == y) )) # a kind of injectivity.\n",
    "s.add( f(x) )\n",
    "s.add( f(y) )\n",
    "#s.add(x == y,' 'y == z)\n",
    "#s.check()\n",
    "terms = [x,y]\n",
    "res = s.implied_equalities(terms)\n",
    "for i in range(len(terms)):\n",
    "    print(res[i])"
   ]
  },
  {
   "cell_type": "code",
   "execution_count": 41,
   "metadata": {},
   "outputs": [
    {
     "name": "stdout",
     "output_type": "stream",
     "text": [
      "Help on method consequences in module z3.z3:\n",
      "\n",
      "consequences(assumptions, variables) method of z3.z3.Solver instance\n",
      "    Determine fixed values for the variables based on the solver state and assumptions.\n",
      "    >>> s = Solver()\n",
      "    >>> a, b, c, d = Bools('a b c d')\n",
      "    >>> s.add(Implies(a,b), Implies(b, c))\n",
      "    >>> s.consequences([a],[b,c,d])\n",
      "    (sat, [Implies(a, b), Implies(a, c)])\n",
      "    >>> s.consequences([Not(c),d],[a,b,c,d])\n",
      "    (sat, [Implies(d, d), Implies(Not(c), Not(c)), Implies(Not(c), Not(b)), Implies(Not(c), Not(a))])\n",
      "\n",
      "-1\n",
      "0\n",
      "0\n"
     ]
    }
   ],
   "source": [
    "s = Solver()\n",
    "x,y,z = Reals(\"x y z\")\n",
    "f = Function(\"f\", RealSort(), BoolSort())\n",
    "s.add( ForAll([z], Implies(  (0 <= z) == (0 <= y), z == y) )) # a kind of injectivity.\n",
    "s.add( (0 <= x) == (1 <= y) )\n",
    "#s.add(x == y, y == z)\n",
    "help(s.consequences)\n",
    "#s.check()\n",
    "terms = [x,y]\n",
    "res = s.implied_equalities(terms)\n",
    "for i in range(len(terms)):\n",
    "    print(res[i])"
   ]
  },
  {
   "cell_type": "code",
   "execution_count": 251,
   "metadata": {},
   "outputs": [
    {
     "name": "stdout",
     "output_type": "stream",
     "text": [
      "Help on function BoolSort in module z3.z3:\n",
      "\n",
      "BoolSort(ctx=None)\n",
      "    Return the Boolean Z3 sort. If `ctx=None`, then the global context is used.\n",
      "    \n",
      "    >>> BoolSort()\n",
      "    Bool\n",
      "    >>> p = Const('p', BoolSort())\n",
      "    >>> is_bool(p)\n",
      "    True\n",
      "    >>> r = Function('r', IntSort(), IntSort(), BoolSort())\n",
      "    >>> r(0, 1)\n",
      "    r(0, 1)\n",
      "    >>> is_bool(r(0, 1))\n",
      "    True\n",
      "\n"
     ]
    }
   ],
   "source": [
    "help(BoolSort)"
   ]
  },
  {
   "cell_type": "code",
   "execution_count": 247,
   "metadata": {},
   "outputs": [
    {
     "name": "stdout",
     "output_type": "stream",
     "text": [
      "Help on function Int in module z3.z3:\n",
      "\n",
      "Int(name, ctx=None)\n",
      "    Return an integer constant named `name`. If `ctx=None`, then the global context is used.\n",
      "    \n",
      "    >>> x = Int('x')\n",
      "    >>> is_int(x)\n",
      "    True\n",
      "    >>> is_int(x + 1)\n",
      "    True\n",
      "\n"
     ]
    }
   ],
   "source": [
    "help(Int)"
   ]
  },
  {
   "cell_type": "code",
   "execution_count": 221,
   "metadata": {},
   "outputs": [
    {
     "name": "stdout",
     "output_type": "stream",
     "text": [
      "Help on function set_param in module z3.z3:\n",
      "\n",
      "set_param(*args, **kws)\n",
      "    Set Z3 global (or module) parameters.\n",
      "    \n",
      "    >>> set_param(precision=10)\n",
      "\n"
     ]
    }
   ],
   "source": [
    "help(set_param)"
   ]
  },
  {
   "cell_type": "code",
   "execution_count": 231,
   "metadata": {},
   "outputs": [],
   "source": [
    "set_option(\"produce-proofs\",True)"
   ]
  },
  {
   "cell_type": "code",
   "execution_count": 29,
   "metadata": {},
   "outputs": [
    {
     "data": {
      "text/plain": [
       "['__bool__',\n",
       " '__class__',\n",
       " '__copy__',\n",
       " '__deepcopy__',\n",
       " '__del__',\n",
       " '__delattr__',\n",
       " '__dict__',\n",
       " '__dir__',\n",
       " '__doc__',\n",
       " '__eq__',\n",
       " '__format__',\n",
       " '__ge__',\n",
       " '__getattribute__',\n",
       " '__gt__',\n",
       " '__hash__',\n",
       " '__init__',\n",
       " '__init_subclass__',\n",
       " '__le__',\n",
       " '__lt__',\n",
       " '__module__',\n",
       " '__ne__',\n",
       " '__new__',\n",
       " '__nonzero__',\n",
       " '__reduce__',\n",
       " '__reduce_ex__',\n",
       " '__repr__',\n",
       " '__setattr__',\n",
       " '__sizeof__',\n",
       " '__str__',\n",
       " '__subclasshook__',\n",
       " '__weakref__',\n",
       " '_repr_html_',\n",
       " 'accessor',\n",
       " 'as_ast',\n",
       " 'ast',\n",
       " 'cast',\n",
       " 'constructor',\n",
       " 'ctx',\n",
       " 'ctx_ref',\n",
       " 'eq',\n",
       " 'fst',\n",
       " 'get_id',\n",
       " 'hash',\n",
       " 'is_pair',\n",
       " 'kind',\n",
       " 'name',\n",
       " 'num_constructors',\n",
       " 'pair',\n",
       " 'recognizer',\n",
       " 'sexpr',\n",
       " 'snd',\n",
       " 'subsort',\n",
       " 'translate',\n",
       " 'use_pp']"
      ]
     },
     "execution_count": 29,
     "metadata": {},
     "output_type": "execute_result"
    }
   ],
   "source": [
    "def instantiate(f, *args):\n",
    "    if is_quantifier(f):\n",
    "        if f.is_forall() or f.is_lambda():  \n",
    "            return substitute_vars(f.body(), *args)\n",
    "x = Real(\"x\") \n",
    "y = Real(\"y\") \n",
    "#print(ForAll([x], x == 8).body())\n",
    "#instantiate(ForAll([x,y ], x == 8 + y), x, y) \n",
    "#dir(ForAll([x,y ], x == 8 + y))\n",
    "dir(Tuple(IntSort(),IntSort()))"
   ]
  },
  {
   "cell_type": "code",
   "execution_count": 19,
   "metadata": {},
   "outputs": [],
   "source": [
    "def inductionNat(self):\n",
    "    assert(self.num_vars() == 1 and self.var_sort(0) == IntSort() and self.is_forall())\n",
    "    n = FreshInt()\n",
    "    return instantiate(self, IntVal(0)) & ForAll([n],instantiate(self, n) & (n > 0) > instantiate(self, n+1))\n",
    "# This is another style. Just attach the thing to     \n",
    "QuantifierRef.inductionNat = inductionNat\n",
    "# We are not doing termination metrics?\n",
    "# General purpose inductive data type induction"
   ]
  },
  {
   "cell_type": "code",
   "execution_count": null,
   "metadata": {},
   "outputs": [],
   "source": [
    "def goalctx(p):\n",
    "    if is_implies(p):\n",
    "        hyp, goal = p.children()\n",
    "        return hyp, goal\n",
    "# do I really need a goal stack?\n",
    "\n",
    "def and_list(p):\n",
    "    if is_and(p):\n",
    "        return concatmap( and_list, p.children()\n",
    "        #return and_list() + and_list()\n",
    "    else:\n",
    "        return [p]\n",
    "                         "
   ]
  },
  {
   "cell_type": "code",
   "execution_count": 60,
   "metadata": {},
   "outputs": [
    {
     "data": {
      "text/plain": [
       "[a, a, a]"
      ]
     },
     "execution_count": 60,
     "metadata": {},
     "output_type": "execute_result"
    }
   ],
   "source": [
    "And(a,a,a).children()"
   ]
  },
  {
   "cell_type": "code",
   "execution_count": null,
   "metadata": {},
   "outputs": [],
   "source": [
    "def induction(self):\n",
    "    assert(is_quantifier(self) and self.is_forall() and self.num_vars() == 1) #we can eventually relax vars = 1\n",
    "    datatype = self.var_sort()\n",
    "    nc = datatype.num_constructors()\n",
    "    cs = [datatype.constructor(i) for i in range(nc)]\n",
    "    reduce(And, [   ])\n",
    "    cts = [c.sort() for c in cs]\n",
    "    acc = True\n",
    "    for c in cs:\n",
    "        Fresh\n",
    "    terms = [ freshies = ForAll(freshies, instantiate(self, c( *freshies) ))  for c in cs]\n",
    "    return reduce(bv_and, terms)\n",
    "    #recognizer(0) good for match\n",
    "#QuantifierRef.induction = induction    \n",
    "#destruct"
   ]
  },
  {
   "cell_type": "code",
   "execution_count": null,
   "metadata": {},
   "outputs": [],
   "source": []
  },
  {
   "cell_type": "code",
   "execution_count": 25,
   "metadata": {},
   "outputs": [],
   "source": [
    "def intros(self): #name = hint maybe later\n",
    "    assert(self.is_forall())\n",
    "    vs = [FreshConst(self.var_sort(i) , prefix=self.var_name(i)) for i in range(self.num_vars())]\n",
    "    return vs ,instantiate(self,*vs) # possibly return vs also? Then python context is kind of proof context\n",
    "    '''if_implies(self):\n",
    "        \n",
    "    '''\n",
    "    \n",
    "#QuantifierRef.intros = intros"
   ]
  },
  {
   "cell_type": "code",
   "execution_count": 193,
   "metadata": {},
   "outputs": [
    {
     "ename": "AttributeError",
     "evalue": "'BoolRef' object has no attribute 'is_real'",
     "output_type": "error",
     "traceback": [
      "\u001b[0;31m---------------------------------------------------------------------------\u001b[0m",
      "\u001b[0;31mAttributeError\u001b[0m                            Traceback (most recent call last)",
      "\u001b[0;32m<ipython-input-193-5fe368a6c221>\u001b[0m in \u001b[0;36m<module>\u001b[0;34m\u001b[0m\n\u001b[1;32m      1\u001b[0m \u001b[0ma\u001b[0m \u001b[0;34m=\u001b[0m \u001b[0mBool\u001b[0m\u001b[0;34m(\u001b[0m\u001b[0;34m\"a\"\u001b[0m\u001b[0;34m)\u001b[0m\u001b[0;34m\u001b[0m\u001b[0m\n\u001b[1;32m      2\u001b[0m \u001b[0;31m#3*a + 4*a <= 7\u001b[0m\u001b[0;34m\u001b[0m\u001b[0;34m\u001b[0m\u001b[0m\n\u001b[0;32m----> 3\u001b[0;31m \u001b[0mToInt\u001b[0m\u001b[0;34m(\u001b[0m\u001b[0ma\u001b[0m\u001b[0;34m)\u001b[0m\u001b[0;34m\u001b[0m\u001b[0m\n\u001b[0m",
      "\u001b[0;32m/usr/local/lib/python3.7/site-packages/z3/z3.py\u001b[0m in \u001b[0;36mToInt\u001b[0;34m(a)\u001b[0m\n\u001b[1;32m   3138\u001b[0m     \"\"\"\n\u001b[1;32m   3139\u001b[0m     \u001b[0;32mif\u001b[0m \u001b[0mz3_debug\u001b[0m\u001b[0;34m(\u001b[0m\u001b[0;34m)\u001b[0m\u001b[0;34m:\u001b[0m\u001b[0;34m\u001b[0m\u001b[0m\n\u001b[0;32m-> 3140\u001b[0;31m         \u001b[0m_z3_assert\u001b[0m\u001b[0;34m(\u001b[0m\u001b[0ma\u001b[0m\u001b[0;34m.\u001b[0m\u001b[0mis_real\u001b[0m\u001b[0;34m(\u001b[0m\u001b[0;34m)\u001b[0m\u001b[0;34m,\u001b[0m \u001b[0;34m\"Z3 real expression expected.\"\u001b[0m\u001b[0;34m)\u001b[0m\u001b[0;34m\u001b[0m\u001b[0m\n\u001b[0m\u001b[1;32m   3141\u001b[0m     \u001b[0mctx\u001b[0m \u001b[0;34m=\u001b[0m \u001b[0ma\u001b[0m\u001b[0;34m.\u001b[0m\u001b[0mctx\u001b[0m\u001b[0;34m\u001b[0m\u001b[0m\n\u001b[1;32m   3142\u001b[0m     \u001b[0;32mreturn\u001b[0m \u001b[0mArithRef\u001b[0m\u001b[0;34m(\u001b[0m\u001b[0mZ3_mk_real2int\u001b[0m\u001b[0;34m(\u001b[0m\u001b[0mctx\u001b[0m\u001b[0;34m.\u001b[0m\u001b[0mref\u001b[0m\u001b[0;34m(\u001b[0m\u001b[0;34m)\u001b[0m\u001b[0;34m,\u001b[0m \u001b[0ma\u001b[0m\u001b[0;34m.\u001b[0m\u001b[0mas_ast\u001b[0m\u001b[0;34m(\u001b[0m\u001b[0;34m)\u001b[0m\u001b[0;34m)\u001b[0m\u001b[0;34m,\u001b[0m \u001b[0mctx\u001b[0m\u001b[0;34m)\u001b[0m\u001b[0;34m\u001b[0m\u001b[0m\n",
      "\u001b[0;31mAttributeError\u001b[0m: 'BoolRef' object has no attribute 'is_real'"
     ]
    }
   ],
   "source": [
    "a = Bool(\"a\")\n",
    "#3*a + 4*a <= 7\n",
    "Int(a)"
   ]
  },
  {
   "cell_type": "code",
   "execution_count": null,
   "metadata": {},
   "outputs": [],
   "source": [
    "#put valid step at the end of every proof change?\n",
    "def valid_step(ctx1, g1, ctx2, g2):\n",
    "    claim1 = Implies(And(*ctx1),g1)\n",
    "    claim2 = Implies(And(*ctx2),g2)\n",
    "    prove(Implies(claim1, claim1)\n",
    "    "
   ]
  },
  {
   "cell_type": "code",
   "execution_count": 126,
   "metadata": {},
   "outputs": [],
   "source": [
    "def prove2(claim):\n",
    "        s = Solver()\n",
    "        s.add(Not(claim))\n",
    "        r = s.check()\n",
    "        if r == unsat:\n",
    "            return True\n",
    "        if r  == sat:\n",
    "            print(\"Countermodel : \" + str(s.model()))\n",
    "            return False\n",
    "        return False"
   ]
  },
  {
   "cell_type": "code",
   "execution_count": 137,
   "metadata": {},
   "outputs": [],
   "source": [
    "class Proof():\n",
    "    def __init__(self, goal, name=None): # Taken a name for the theorem?\n",
    "        self.goals = [([],goal)]\n",
    "        self.proven = False\n",
    "        self.name = name\n",
    "    #def intros(self): #intro_all        \n",
    "    #    self.goals.append( (ctx, goal.intros())  )\n",
    "    #    return self\n",
    "    def equiv(self, goal2):\n",
    "        ctx, goal1 = self.goals.pop()\n",
    "        if prove2(Implies(And(*ctx), goal1 == goal2)):\n",
    "            g = goal2\n",
    "        else:\n",
    "            g = goal1\n",
    "        self.goals.append( (ctx, g))\n",
    "        return self\n",
    "    def __eq__(self,rhs):\n",
    "        return self.equiv(rhs)\n",
    "    #def assert(): #put new goal in stack with current context. Put into context of 1 below top\n",
    "    #def assume(): #just put crap in the context.\n",
    "    def intro_all(self): #name = hint maybe later\n",
    "        ctx, goal = self.goals.pop()\n",
    "        assert(goal.is_forall())\n",
    "        vs = [FreshConst(goal.var_sort(i) , prefix=goal.var_name(i)) for i in range(goal.num_vars())]\n",
    "        g = instantiate(goal,*vs) \n",
    "        self.goals.append( (ctx + vs, g)) # wait. I should keep propositions and variables seperate\n",
    "        return self\n",
    "    def intro_imp(self): #intro_impl\n",
    "        ctx, goal = self.goals.pop()\n",
    "        if is_implies(goal):\n",
    "            a, b = goal.children()\n",
    "            ctx.append(a)\n",
    "            self.goals.append((ctx,b))\n",
    "        else:\n",
    "            self.goals.append((ctx,goal))\n",
    "        return self\n",
    "    def split(self): #z3 tactic split-clauses?\n",
    "        ctx, goal = self.goals.pop()\n",
    "        if is_and(goal):\n",
    "            for c in goal.children():\n",
    "                self.goals.append((ctx,c))\n",
    "        else:\n",
    "            self.goals.append((ctx,goal))\n",
    "        return self\n",
    "    def z3_tactic(self,t):\n",
    "        t = Tactic(t)\n",
    "        ctx, goal = self.goals.pop()\n",
    "        #g = t(Implies(And(*ctx), goal)).as_expr()\n",
    "        g = t(goal).as_expr()\n",
    "        self.goals.append(([],g))\n",
    "        return self\n",
    "    def simpl(self):\n",
    "        return self.z3_tactic(\"simplify\")\n",
    "    def congruence(self):\n",
    "        #maybe search for equalities. And put them in the goal\n",
    "        return self.z3_tactic(\"solve-eqs\")\n",
    "    def smt(self):\n",
    "        ctx, goal = self.goals.pop()\n",
    "        s = Solver()\n",
    "        #s.set(**keywords)\n",
    "        claim = Implies(And(*ctx), goal)\n",
    "        s.add(Not(claim))\n",
    "        r = s.check()\n",
    "        if r  == sat:\n",
    "            print(\"Countermodel : \" + str(s.model()))\n",
    "        assert(r == unsat)\n",
    "        return self\n",
    "    def destruct(self):\n",
    "        ctx, goal = self.goals.pop()\n",
    "        if is_bool(goal):\n",
    "            ctx1 = ctx.copy()\n",
    "            ctx2 = ctx.copy()\n",
    "            ctx1.append(goal == True)\n",
    "            ctx2.append(goal == False)\n",
    "            self.goals.append((ctx2, BoolVal(False) ))\n",
    "            self.goals.append((ctx1, BoolVal(True) ))\n",
    "        else:\n",
    "            self.goals.append((ctx, goal))    \n",
    "        return self\n",
    "    def forget(self,n):\n",
    "        ctx, goal = self.goals.pop()\n",
    "        ctx.pop(n)\n",
    "        self.goals.append((ctx, goal))  \n",
    "        return self\n",
    "    def qed(self):\n",
    "        if len(self.goals) == 0:\n",
    "            self.proven = True\n",
    "            # add self to global proof context if self.name is not None\n",
    "    def get_ctx(self,n):\n",
    "        return self.goals[-1][0][n]\n",
    "    def __str__(self):\n",
    "        if len(self.goals) >= 1:\n",
    "            ctx, goal = self.goals[-1]\n",
    "            return \"\".join([f\"[{i}] {str(c)} : {str(c.sort())}\\n\" for i, c in enumerate(ctx)]) + \"----------------\\n\" + f\"{str(goal)} : {str(goal.sort())}\"\n",
    "        else:\n",
    "            return \"No Goals Left\"\n",
    "    def __repr__(self):\n",
    "        return str(self)"
   ]
  },
  {
   "cell_type": "code",
   "execution_count": 214,
   "metadata": {},
   "outputs": [
    {
     "data": {
      "text/plain": [
       "----------------\n",
       "Or(x == 1, x == -1) : Bool"
      ]
     },
     "execution_count": 214,
     "metadata": {},
     "output_type": "execute_result"
    }
   ],
   "source": [
    "x = Real(\"x\")\n",
    "Proof(x**2 - 1 == 0).equiv((x+1)*(x-1) == 0).equiv((x == 1) | (x == -1))"
   ]
  },
  {
   "cell_type": "code",
   "execution_count": 141,
   "metadata": {},
   "outputs": [
    {
     "data": {
      "text/plain": [
       "----------------\n",
       "Or(x == 1, x == -1) : Bool"
      ]
     },
     "execution_count": 141,
     "metadata": {},
     "output_type": "execute_result"
    }
   ],
   "source": [
    "x = Real(\"x\")\n",
    "Proof(x**2 - 1 == 0) == ((x-1)*(x+1) == 0) == ((x == 1) | (x == -1))\n",
    "# I don't love this"
   ]
  },
  {
   "cell_type": "code",
   "execution_count": 171,
   "metadata": {},
   "outputs": [
    {
     "data": {
      "text/plain": [
       "[0] And(a, b) : Bool\n",
       "[1] b == True : Bool\n",
       "----------------\n",
       "True : Bool"
      ]
     },
     "execution_count": 171,
     "metadata": {},
     "output_type": "execute_result"
    }
   ],
   "source": [
    "a, b = Bools('a b')\n",
    "p = Proof((a & b) > b)\n",
    "p.intro_imp().destruct() \n",
    "   .smt() \\\n",
    "   .smt() \\\n",
    ".qed()\n"
   ]
  },
  {
   "cell_type": "code",
   "execution_count": 198,
   "metadata": {},
   "outputs": [
    {
     "name": "stdout",
     "output_type": "stream",
     "text": [
      "proved\n"
     ]
    }
   ],
   "source": [
    "x = Real(\"x\")\n",
    "prove((x >= 1) > (x**6 >= 1))"
   ]
  },
  {
   "cell_type": "code",
   "execution_count": 179,
   "metadata": {},
   "outputs": [
    {
     "data": {
      "text/plain": [
       "[0] x!12 : Real\n",
       "----------------\n",
       "x!12 >= 1 : Bool"
      ]
     },
     "execution_count": 179,
     "metadata": {},
     "output_type": "execute_result"
    }
   ],
   "source": [
    "x = Real('x')\n",
    "p = Proof(ForAll([x], x + 3 >= 4))\n",
    "p.simpl().intro_all()\n",
    "#Proof(a & b > a).z3_tactic(\"split-clause\")\n",
    "#dir(p.simpl().goals[0][1].result)\n",
    "#type(p.simpl().goals[0][1]"
   ]
  },
  {
   "cell_type": "code",
   "execution_count": 101,
   "metadata": {},
   "outputs": [
    {
     "name": "stdout",
     "output_type": "stream",
     "text": [
      "proved\n"
     ]
    }
   ],
   "source": [
    "prove(BoolVal(True))"
   ]
  },
  {
   "cell_type": "code",
   "execution_count": null,
   "metadata": {},
   "outputs": [],
   "source": [
    "# Yea. A visitor?\n",
    "# inrpret should be a indetity if context holds itself.\n",
    "# lambdify gives sympy an intepretation.\n",
    "# Hm. Maybe we should give a lambdify?\n",
    "# Give a list of variables instead of ctx\n",
    "def lambdify_z3(z3_expr, vs):\n",
    "    if is_symbol\n",
    "        ind = find z3_expr in vs\n",
    "        return lambda *vs: vs[ind]\n",
    "    if is_plus(z3_expr):\n",
    "        lambda *xs:  lambdify_z3(z3_expr.child(0), vs)(*xs) + lambdify_z3(z3_expr.child(1), vs)(*xs)\n",
    "    if is_and():\n",
    "        lambda *xs: &\n",
    "    if is_mul()\n",
    "# maybe I want to cps this.\n",
    "\n",
    "def interpret(z3_expr, ctx):\n",
    "    if is_symbol(z3_expr):\n",
    "        lalookup(z3_expr, ctx)\n",
    "    if is_lambda(z3_expr):\n",
    "        tz3 = FreshConst()\n",
    "        return lambda t: intepret(substitute_vars(z3_expr.body(),   , ctx ++ {tz3: t} )\n",
    "        \n",
    "    if is_le():\n",
    "    if is_impl():\n",
    "    if is_and():\n",
    "                &\n",
    "    if is_mul():\n",
    "    if is_\n",
    "                                \n",
    "                                  \n",
    "        "
   ]
  },
  {
   "cell_type": "code",
   "execution_count": null,
   "metadata": {},
   "outputs": [],
   "source": [
    "\n",
    "class Proof2():\n",
    "    def __init__(self):\n",
    "        self.goal = "
   ]
  },
  {
   "cell_type": "code",
   "execution_count": 76,
   "metadata": {},
   "outputs": [],
   "source": [
    "def forall(sort, expr):\n",
    "    t  = FreshConst(sort)\n",
    "    return ForAll([t], expr(t))\n"
   ]
  },
  {
   "cell_type": "code",
   "execution_count": 70,
   "metadata": {},
   "outputs": [
    {
     "data": {
      "text/plain": [
       "['__and__',\n",
       " '__bool__',\n",
       " '__class__',\n",
       " '__copy__',\n",
       " '__deepcopy__',\n",
       " '__del__',\n",
       " '__delattr__',\n",
       " '__dict__',\n",
       " '__dir__',\n",
       " '__doc__',\n",
       " '__eq__',\n",
       " '__format__',\n",
       " '__ge__',\n",
       " '__getattribute__',\n",
       " '__gt__',\n",
       " '__hash__',\n",
       " '__init__',\n",
       " '__init_subclass__',\n",
       " '__invert__',\n",
       " '__le__',\n",
       " '__lt__',\n",
       " '__module__',\n",
       " '__mul__',\n",
       " '__ne__',\n",
       " '__new__',\n",
       " '__nonzero__',\n",
       " '__or__',\n",
       " '__reduce__',\n",
       " '__reduce_ex__',\n",
       " '__repr__',\n",
       " '__rmul__',\n",
       " '__setattr__',\n",
       " '__sizeof__',\n",
       " '__str__',\n",
       " '__subclasshook__',\n",
       " '__weakref__',\n",
       " '_repr_html_',\n",
       " 'arg',\n",
       " 'as_ast',\n",
       " 'ast',\n",
       " 'children',\n",
       " 'ctx',\n",
       " 'ctx_ref',\n",
       " 'decl',\n",
       " 'eq',\n",
       " 'get_id',\n",
       " 'hash',\n",
       " 'num_args',\n",
       " 'params',\n",
       " 'sexpr',\n",
       " 'sort',\n",
       " 'sort_kind',\n",
       " 'translate',\n",
       " 'use_pp']"
      ]
     },
     "execution_count": 70,
     "metadata": {},
     "output_type": "execute_result"
    }
   ],
   "source": [
    "dir(b)"
   ]
  },
  {
   "cell_type": "code",
   "execution_count": 74,
   "metadata": {},
   "outputs": [
    {
     "data": {
      "text/plain": [
       "'b'"
      ]
     },
     "execution_count": 74,
     "metadata": {},
     "output_type": "execute_result"
    }
   ],
   "source": [
    "b._repr_html_()\n",
    "str(b)\n",
    "repr(b)"
   ]
  },
  {
   "cell_type": "code",
   "execution_count": 77,
   "metadata": {},
   "outputs": [
    {
     "ename": "TypeError",
     "evalue": "unsupported operand type(s) for +: 'int' and 'str'",
     "output_type": "error",
     "traceback": [
      "\u001b[0;31m---------------------------------------------------------------------------\u001b[0m",
      "\u001b[0;31mTypeError\u001b[0m                                 Traceback (most recent call last)",
      "\u001b[0;32m/usr/local/Cellar/ipython/7.7.0/libexec/lib/python3.7/site-packages/IPython/core/formatters.py\u001b[0m in \u001b[0;36m__call__\u001b[0;34m(self, obj)\u001b[0m\n\u001b[1;32m    700\u001b[0m                 \u001b[0mtype_pprinters\u001b[0m\u001b[0;34m=\u001b[0m\u001b[0mself\u001b[0m\u001b[0;34m.\u001b[0m\u001b[0mtype_printers\u001b[0m\u001b[0;34m,\u001b[0m\u001b[0;34m\u001b[0m\u001b[0m\n\u001b[1;32m    701\u001b[0m                 deferred_pprinters=self.deferred_printers)\n\u001b[0;32m--> 702\u001b[0;31m             \u001b[0mprinter\u001b[0m\u001b[0;34m.\u001b[0m\u001b[0mpretty\u001b[0m\u001b[0;34m(\u001b[0m\u001b[0mobj\u001b[0m\u001b[0;34m)\u001b[0m\u001b[0;34m\u001b[0m\u001b[0m\n\u001b[0m\u001b[1;32m    703\u001b[0m             \u001b[0mprinter\u001b[0m\u001b[0;34m.\u001b[0m\u001b[0mflush\u001b[0m\u001b[0;34m(\u001b[0m\u001b[0;34m)\u001b[0m\u001b[0;34m\u001b[0m\u001b[0m\n\u001b[1;32m    704\u001b[0m             \u001b[0;32mreturn\u001b[0m \u001b[0mstream\u001b[0m\u001b[0;34m.\u001b[0m\u001b[0mgetvalue\u001b[0m\u001b[0;34m(\u001b[0m\u001b[0;34m)\u001b[0m\u001b[0;34m\u001b[0m\u001b[0m\n",
      "\u001b[0;32m/usr/local/Cellar/ipython/7.7.0/libexec/lib/python3.7/site-packages/IPython/lib/pretty.py\u001b[0m in \u001b[0;36mpretty\u001b[0;34m(self, obj)\u001b[0m\n\u001b[1;32m    400\u001b[0m                         \u001b[0;32mif\u001b[0m \u001b[0mcls\u001b[0m \u001b[0;32mis\u001b[0m \u001b[0;32mnot\u001b[0m \u001b[0mobject\u001b[0m\u001b[0;31m \u001b[0m\u001b[0;31m\\\u001b[0m\u001b[0;34m\u001b[0m\u001b[0m\n\u001b[1;32m    401\u001b[0m                                 \u001b[0;32mand\u001b[0m \u001b[0mcallable\u001b[0m\u001b[0;34m(\u001b[0m\u001b[0mcls\u001b[0m\u001b[0;34m.\u001b[0m\u001b[0m__dict__\u001b[0m\u001b[0;34m.\u001b[0m\u001b[0mget\u001b[0m\u001b[0;34m(\u001b[0m\u001b[0;34m'__repr__'\u001b[0m\u001b[0;34m)\u001b[0m\u001b[0;34m)\u001b[0m\u001b[0;34m:\u001b[0m\u001b[0;34m\u001b[0m\u001b[0m\n\u001b[0;32m--> 402\u001b[0;31m                             \u001b[0;32mreturn\u001b[0m \u001b[0m_repr_pprint\u001b[0m\u001b[0;34m(\u001b[0m\u001b[0mobj\u001b[0m\u001b[0;34m,\u001b[0m \u001b[0mself\u001b[0m\u001b[0;34m,\u001b[0m \u001b[0mcycle\u001b[0m\u001b[0;34m)\u001b[0m\u001b[0;34m\u001b[0m\u001b[0m\n\u001b[0m\u001b[1;32m    403\u001b[0m \u001b[0;34m\u001b[0m\u001b[0m\n\u001b[1;32m    404\u001b[0m             \u001b[0;32mreturn\u001b[0m \u001b[0m_default_pprint\u001b[0m\u001b[0;34m(\u001b[0m\u001b[0mobj\u001b[0m\u001b[0;34m,\u001b[0m \u001b[0mself\u001b[0m\u001b[0;34m,\u001b[0m \u001b[0mcycle\u001b[0m\u001b[0;34m)\u001b[0m\u001b[0;34m\u001b[0m\u001b[0m\n",
      "\u001b[0;32m/usr/local/Cellar/ipython/7.7.0/libexec/lib/python3.7/site-packages/IPython/lib/pretty.py\u001b[0m in \u001b[0;36m_repr_pprint\u001b[0;34m(obj, p, cycle)\u001b[0m\n\u001b[1;32m    695\u001b[0m     \u001b[0;34m\"\"\"A pprint that just redirects to the normal repr function.\"\"\"\u001b[0m\u001b[0;34m\u001b[0m\u001b[0m\n\u001b[1;32m    696\u001b[0m     \u001b[0;31m# Find newlines and replace them with p.break_()\u001b[0m\u001b[0;34m\u001b[0m\u001b[0;34m\u001b[0m\u001b[0m\n\u001b[0;32m--> 697\u001b[0;31m     \u001b[0moutput\u001b[0m \u001b[0;34m=\u001b[0m \u001b[0mrepr\u001b[0m\u001b[0;34m(\u001b[0m\u001b[0mobj\u001b[0m\u001b[0;34m)\u001b[0m\u001b[0;34m\u001b[0m\u001b[0m\n\u001b[0m\u001b[1;32m    698\u001b[0m     \u001b[0;32mfor\u001b[0m \u001b[0midx\u001b[0m\u001b[0;34m,\u001b[0m\u001b[0moutput_line\u001b[0m \u001b[0;32min\u001b[0m \u001b[0menumerate\u001b[0m\u001b[0;34m(\u001b[0m\u001b[0moutput\u001b[0m\u001b[0;34m.\u001b[0m\u001b[0msplitlines\u001b[0m\u001b[0;34m(\u001b[0m\u001b[0;34m)\u001b[0m\u001b[0;34m)\u001b[0m\u001b[0;34m:\u001b[0m\u001b[0;34m\u001b[0m\u001b[0m\n\u001b[1;32m    699\u001b[0m         \u001b[0;32mif\u001b[0m \u001b[0midx\u001b[0m\u001b[0;34m:\u001b[0m\u001b[0;34m\u001b[0m\u001b[0m\n",
      "\u001b[0;32m<ipython-input-75-7351c83f8f26>\u001b[0m in \u001b[0;36m__repr__\u001b[0;34m(self)\u001b[0m\n\u001b[1;32m     29\u001b[0m             \u001b[0;32mreturn\u001b[0m \u001b[0;34m\"No Goals Left\"\u001b[0m\u001b[0;34m\u001b[0m\u001b[0m\n\u001b[1;32m     30\u001b[0m     \u001b[0;32mdef\u001b[0m \u001b[0m__repr__\u001b[0m\u001b[0;34m(\u001b[0m\u001b[0mself\u001b[0m\u001b[0;34m)\u001b[0m\u001b[0;34m:\u001b[0m\u001b[0;34m\u001b[0m\u001b[0m\n\u001b[0;32m---> 31\u001b[0;31m         \u001b[0;32mreturn\u001b[0m \u001b[0mstr\u001b[0m\u001b[0;34m(\u001b[0m\u001b[0mself\u001b[0m\u001b[0;34m)\u001b[0m\u001b[0;34m\u001b[0m\u001b[0m\n\u001b[0m",
      "\u001b[0;32m<ipython-input-75-7351c83f8f26>\u001b[0m in \u001b[0;36m__str__\u001b[0;34m(self)\u001b[0m\n\u001b[1;32m     25\u001b[0m         \u001b[0;32mif\u001b[0m \u001b[0mlen\u001b[0m\u001b[0;34m(\u001b[0m\u001b[0mself\u001b[0m\u001b[0;34m.\u001b[0m\u001b[0mgoals\u001b[0m\u001b[0;34m)\u001b[0m \u001b[0;34m>=\u001b[0m \u001b[0;36m1\u001b[0m\u001b[0;34m:\u001b[0m\u001b[0;34m\u001b[0m\u001b[0m\n\u001b[1;32m     26\u001b[0m             \u001b[0mctx\u001b[0m\u001b[0;34m,\u001b[0m \u001b[0mgoal\u001b[0m \u001b[0;34m=\u001b[0m \u001b[0mself\u001b[0m\u001b[0;34m.\u001b[0m\u001b[0mgoals\u001b[0m\u001b[0;34m[\u001b[0m\u001b[0;34m-\u001b[0m\u001b[0;36m1\u001b[0m\u001b[0;34m]\u001b[0m\u001b[0;34m\u001b[0m\u001b[0m\n\u001b[0;32m---> 27\u001b[0;31m             \u001b[0;32mreturn\u001b[0m \u001b[0msum\u001b[0m\u001b[0;34m(\u001b[0m\u001b[0;34m[\u001b[0m\u001b[0;34mf\"{str(c)} : {str(sort(c))}\\n\"\u001b[0m \u001b[0;32mfor\u001b[0m \u001b[0mc\u001b[0m \u001b[0;32min\u001b[0m \u001b[0mctx\u001b[0m\u001b[0;34m]\u001b[0m\u001b[0;34m)\u001b[0m \u001b[0;34m+\u001b[0m \u001b[0;34m\"----------------\\n\"\u001b[0m \u001b[0;34m+\u001b[0m \u001b[0;34mf\"{str(goal)} : {str(sort(goal))}\"\u001b[0m\u001b[0;34m\u001b[0m\u001b[0m\n\u001b[0m\u001b[1;32m     28\u001b[0m         \u001b[0;32melse\u001b[0m\u001b[0;34m:\u001b[0m\u001b[0;34m\u001b[0m\u001b[0m\n\u001b[1;32m     29\u001b[0m             \u001b[0;32mreturn\u001b[0m \u001b[0;34m\"No Goals Left\"\u001b[0m\u001b[0;34m\u001b[0m\u001b[0m\n",
      "\u001b[0;31mTypeError\u001b[0m: unsupported operand type(s) for +: 'int' and 'str'"
     ]
    }
   ],
   "source": [
    "p"
   ]
  },
  {
   "cell_type": "code",
   "execution_count": 51,
   "metadata": {},
   "outputs": [
    {
     "data": {
      "text/plain": [
       "False"
      ]
     },
     "execution_count": 51,
     "metadata": {},
     "output_type": "execute_result"
    }
   ],
   "source": [
    "n = Int('n')\n",
    "p = ForAll([n], n == n + 1)\n",
    "g = Goal()\n",
    "g.add(p)\n",
    "g.add(n == n)\n",
    "\n",
    "g[0]\n",
    "g[1]\n",
    "dir(g)\n",
    "g.size()\n",
    "g.get(0)\n",
    "len(g)\n",
    "g.inconsistent\n",
    "del g"
   ]
  },
  {
   "cell_type": "code",
   "execution_count": 28,
   "metadata": {},
   "outputs": [
    {
     "data": {
      "text/html": [
       "n!9 &lt; n!9 + 1"
      ],
      "text/plain": [
       "n!9 < n!9 + 1"
      ]
     },
     "execution_count": 28,
     "metadata": {},
     "output_type": "execute_result"
    }
   ],
   "source": [
    "n = Int('n')\n",
    "p = ForAll([n], n < n + 1)\n",
    "p.inductionNat()\n",
    "p.intros()"
   ]
  },
  {
   "cell_type": "code",
   "execution_count": 56,
   "metadata": {
    "collapsed": true
   },
   "outputs": [
    {
     "data": {
      "text/plain": [
       "['__bool__',\n",
       " '__call__',\n",
       " '__class__',\n",
       " '__copy__',\n",
       " '__deepcopy__',\n",
       " '__del__',\n",
       " '__delattr__',\n",
       " '__dict__',\n",
       " '__dir__',\n",
       " '__doc__',\n",
       " '__eq__',\n",
       " '__format__',\n",
       " '__ge__',\n",
       " '__getattribute__',\n",
       " '__gt__',\n",
       " '__hash__',\n",
       " '__init__',\n",
       " '__init_subclass__',\n",
       " '__le__',\n",
       " '__lt__',\n",
       " '__module__',\n",
       " '__ne__',\n",
       " '__new__',\n",
       " '__nonzero__',\n",
       " '__reduce__',\n",
       " '__reduce_ex__',\n",
       " '__repr__',\n",
       " '__setattr__',\n",
       " '__sizeof__',\n",
       " '__str__',\n",
       " '__subclasshook__',\n",
       " '__weakref__',\n",
       " '_repr_html_',\n",
       " 'arity',\n",
       " 'as_ast',\n",
       " 'as_func_decl',\n",
       " 'ast',\n",
       " 'ctx',\n",
       " 'ctx_ref',\n",
       " 'domain',\n",
       " 'eq',\n",
       " 'get_id',\n",
       " 'hash',\n",
       " 'kind',\n",
       " 'name',\n",
       " 'params',\n",
       " 'range',\n",
       " 'sexpr',\n",
       " 'translate',\n",
       " 'use_pp']"
      ]
     },
     "execution_count": 56,
     "metadata": {},
     "output_type": "execute_result"
    }
   ],
   "source": [
    "tib = Tuple(IntSort(),BoolSort())\n",
    "simplify(tib.fst( tib.pair(3,True) ))\n",
    "\n",
    "def dup(t):\n",
    "    x = FreshConst(t)\n",
    "    return Lambda([x], Tuple(t,t).pair(x,x))\n",
    "\n",
    "def iden(t):\n",
    "    x = FreshConst(t)\n",
    "    return Lambda([x],x)\n",
    "\n",
    "def match(x, **kwargs):\n",
    "    dt = x.sort()\n",
    "    nc = dt.num_construcotrs()\n",
    "    nc \n",
    "    \n",
    "    x.\n",
    "    \n",
    "'''def comp(a,b,c):\n",
    "    f = FreshConst(FunctionSort(a,b))\n",
    "    a = FreshConst(a)\n",
    "    g = FreshConst(FunctionSort(b,c))\n",
    "    return Lambda([f,g], Lambda([a], g(f(a))))\n",
    "def comp(f,g):\n",
    "    a = FreshConst(f.domain)\n",
    "    return Lambda([a], g(f(a)))\n",
    "    \n",
    "'''\n",
    "#Function\n",
    "\n",
    "\n",
    "dup(IntSort())\n",
    "dir(Function(\"f\",IntSort(),IntSort()))\n",
    "#comp(IntSort(),BoolSort(),RealSort())\n",
    "#def par(f,g):\n",
    "#    x = FreshConst(t)\n",
    "#    return Lambda([x], Tuple(t,t).pair(x,x))\n",
    "\n"
   ]
  },
  {
   "cell_type": "code",
   "execution_count": null,
   "metadata": {},
   "outputs": [],
   "source": [
    "'''\n",
    "# Implementing \"Haskell\" in Z3Py\n",
    "def match(x, *args):\n",
    "    sort = x.sort()\n",
    "\n",
    "a desguaring match\n",
    "def is_empty(l): match(l, cons = lambda x,xs: True, nil=False)\n",
    "def fix((\"name\", types), body): \n",
    "\n",
    "\n",
    "\n",
    "Unit = CreateSort(\"Unit\")?\n",
    "Void = ?\n",
    "\n",
    "par = lambda f,g: \n",
    "dup = lambda x: pair(x,x)\n",
    "\n",
    "dup = lambda t x: Tuple(t,t).pair(x,x) \n",
    "dup = lambda t : Lambda([x], Tuple(t,t).pair(x,x)) # huh\n",
    "\n",
    "id = lambda t x: x\n",
    "id2 = lambda t : x = FreshConst(t); Lambda([x], x)\n",
    "id3 = \n",
    "\n",
    "Interconverting between the different forms. Possible?\n",
    "Lambda => lambda  is substititue_vars.\n",
    "lambda => Lambda  is  \n",
    "\n",
    "\n",
    "\n",
    "Z = CreateSort(\"Z\") ? Typelevel naturals?\n",
    "'''"
   ]
  },
  {
   "cell_type": "code",
   "execution_count": 32,
   "metadata": {},
   "outputs": [
    {
     "name": "stdout",
     "output_type": "stream",
     "text": [
      "proved\n"
     ]
    }
   ],
   "source": [
    "p, q = Bools(\"p q\")\n",
    "#prove( ((p > q) > q) > p)\n",
    "prove( ((p > q) > p) > p) # peirce's law"
   ]
  },
  {
   "cell_type": "code",
   "execution_count": 2,
   "metadata": {},
   "outputs": [
    {
     "name": "stdout",
     "output_type": "stream",
     "text": [
      "counterexample\n",
      "[]\n"
     ]
    }
   ],
   "source": [
    "x = Int('x')\n",
    "prove(ForAll([x],x >= 3))\n"
   ]
  },
  {
   "cell_type": "code",
   "execution_count": 32,
   "metadata": {},
   "outputs": [
    {
     "data": {
      "text/html": [
       "&#957;<sub>0</sub> &ge; 3"
      ],
      "text/plain": [
       "Var(0) >= 3"
      ]
     },
     "execution_count": 32,
     "metadata": {},
     "output_type": "execute_result"
    }
   ],
   "source": [
    "p = ForAll([x],x >= 3)\n",
    "is_quantifier(p)\n",
    "dir(p)\n",
    "p.is_forall()\n",
    "p.is_exists()\n",
    "dir(p)\n",
    "p.sexpr()\n",
    "p.body()\n",
    "dir(p)\n",
    "p.as_ast()\n",
    "dir(p)\n",
    "p.var_name(0)\n",
    "p.num_vars()\n",
    "dir(p)\n",
    "dir(p)\n",
    "p.children()"
   ]
  },
  {
   "cell_type": "code",
   "execution_count": 33,
   "metadata": {},
   "outputs": [
    {
     "name": "stdout",
     "output_type": "stream",
     "text": [
      "ackermannize_bv : A tactic for performing full Ackermannization on bv instances.\n",
      "subpaving : tactic for testing subpaving module.\n",
      "horn : apply tactic for horn clauses.\n",
      "horn-simplify : simplify horn clauses.\n",
      "nlsat : (try to) solve goal using a nonlinear arithmetic solver.\n",
      "qfnra-nlsat : builtin strategy for solving QF_NRA problems using only nlsat.\n",
      "nlqsat : apply a NL-QSAT solver.\n",
      "qe-light : apply light-weight quantifier elimination.\n",
      "qe-sat : check satisfiability of quantified formulas using quantifier elimination.\n",
      "qe : apply quantifier elimination.\n",
      "qsat : apply a QSAT solver.\n",
      "qe2 : apply a QSAT based quantifier elimination.\n",
      "qe_rec : apply a QSAT based quantifier elimination recursively.\n",
      "psat : (try to) solve goal using a parallel SAT solver.\n",
      "sat : (try to) solve goal using a SAT solver.\n",
      "sat-preprocess : Apply SAT solver preprocessing procedures (bounded resolution, Boolean constant propagation, 2-SAT, subsumption, subsumption resolution).\n",
      "ctx-solver-simplify : apply solver-based contextual simplification rules.\n",
      "smt : apply a SAT based SMT solver.\n",
      "psmt : builtin strategy for SMT tactic in parallel.\n",
      "unit-subsume-simplify : unit subsumption simplification.\n",
      "aig : simplify Boolean structure using AIGs.\n",
      "add-bounds : add bounds to unbounded variables (under approximation).\n",
      "card2bv : convert pseudo-boolean constraints to bit-vectors.\n",
      "degree-shift : try to reduce degree of polynomials (remark: :mul2power simplification is automatically applied).\n",
      "diff-neq : specialized solver for integer arithmetic problems that contain only atoms of the form (<= k x) (<= x k) and (not (= (- x y) k)), where x and y are constants and k is a numeral, and all constants are bounded.\n",
      "eq2bv : convert integer variables used as finite domain elements to bit-vectors.\n",
      "factor : polynomial factorization.\n",
      "fix-dl-var : if goal is in the difference logic fragment, then fix the variable with the most number of occurrences at 0.\n",
      "fm : eliminate variables using fourier-motzkin elimination.\n",
      "lia2card : introduce cardinality constraints from 0-1 integer.\n",
      "lia2pb : convert bounded integer variables into a sequence of 0-1 variables.\n",
      "nla2bv : convert a nonlinear arithmetic problem into a bit-vector problem, in most cases the resultant goal is an under approximation and is useul for finding models.\n",
      "normalize-bounds : replace a variable x with lower bound k <= x with x' = x - k.\n",
      "pb2bv : convert pseudo-boolean constraints to bit-vectors.\n",
      "propagate-ineqs : propagate ineqs/bounds, remove subsumed inequalities.\n",
      "purify-arith : eliminate unnecessary operators: -, /, div, mod, rem, is-int, to-int, ^, root-objects.\n",
      "recover-01 : recover 0-1 variables hidden as Boolean variables.\n",
      "bit-blast : reduce bit-vector expressions into SAT.\n",
      "bv1-blast : reduce bit-vector expressions into bit-vectors of size 1 (notes: only equality, extract and concat are supported).\n",
      "bv_bound_chk : attempts to detect inconsistencies of bounds on bv expressions.\n",
      "propagate-bv-bounds : propagate bit-vector bounds by simplifying implied or contradictory bounds.\n",
      "propagate-bv-bounds-new : propagate bit-vector bounds by simplifying implied or contradictory bounds.\n",
      "reduce-bv-size : try to reduce bit-vector sizes using inequalities.\n",
      "bvarray2uf : Rewrite bit-vector arrays into bit-vector (uninterpreted) functions.\n",
      "dt2bv : eliminate finite domain data-types. Replace by bit-vectors.\n",
      "elim-small-bv : eliminate small, quantified bit-vectors by expansion.\n",
      "max-bv-sharing : use heuristics to maximize the sharing of bit-vector expressions such as adders and multipliers.\n",
      "blast-term-ite : blast term if-then-else by hoisting them.\n",
      "cofactor-term-ite : eliminate term if-the-else using cofactors.\n",
      "collect-statistics : Collects various statistics.\n",
      "ctx-simplify : apply contextual simplification rules.\n",
      "der : destructive equality resolution.\n",
      "distribute-forall : distribute forall over conjunctions.\n",
      "dom-simplify : apply dominator simplification rules.\n",
      "elim-term-ite : eliminate term if-then-else by adding fresh auxiliary declarations.\n",
      "elim-uncnstr : eliminate application containing unconstrained variables.\n",
      "injectivity : Identifies and applies injectivity axioms.\n",
      "snf : put goal in skolem normal form.\n",
      "nnf : put goal in negation normal form.\n",
      "occf : put goal in one constraint per clause normal form (notes: fails if proof generation is enabled; only clauses are considered).\n",
      "pb-preprocess : pre-process pseudo-Boolean constraints a la Davis Putnam.\n",
      "propagate-values : propagate constants.\n",
      "reduce-args : reduce the number of arguments of function applications, when for all occurrences of a function f the i-th is a value.\n",
      "reduce-invertible : reduce invertible variable occurrences.\n",
      "simplify : apply simplification rules.\n",
      "elim-and : convert (and a b) into (not (or (not a) (not b))).\n",
      "solve-eqs : eliminate variables by solving equations.\n",
      "special-relations : detect and replace by special relations.\n",
      "split-clause : split a clause in many subgoals.\n",
      "symmetry-reduce : apply symmetry reduction.\n",
      "tseitin-cnf : convert goal into CNF using tseitin-like encoding (note: quantifiers are ignored).\n",
      "tseitin-cnf-core : convert goal into CNF using tseitin-like encoding (note: quantifiers are ignored). This tactic does not apply required simplifications to the input goal like the tseitin-cnf tactic.\n",
      "qffd : builtin strategy for solving QF_FD problems.\n",
      "pqffd : builtin strategy for solving QF_FD problems in parallel.\n",
      "smtfd : builtin strategy for solving SMT problems by reduction to FD.\n",
      "fpa2bv : convert floating point numbers to bit-vectors.\n",
      "qffp : (try to) solve goal using the tactic for QF_FP.\n",
      "qffpbv : (try to) solve goal using the tactic for QF_FPBV (floats+bit-vectors).\n",
      "qffplra : (try to) solve goal using the tactic for QF_FPLRA.\n",
      "default : default strategy used when no logic is specified.\n",
      "sine-filter : eliminate premises using Sine Qua Non\n",
      "qfbv-sls : (try to) solve using stochastic local search for QF_BV.\n",
      "nra : builtin strategy for solving NRA problems.\n",
      "qfaufbv : builtin strategy for solving QF_AUFBV problems.\n",
      "qfauflia : builtin strategy for solving QF_AUFLIA problems.\n",
      "qfbv : builtin strategy for solving QF_BV problems.\n",
      "qfidl : builtin strategy for solving QF_IDL problems.\n",
      "qflia : builtin strategy for solving QF_LIA problems.\n",
      "qflra : builtin strategy for solving QF_LRA problems.\n",
      "qfnia : builtin strategy for solving QF_NIA problems.\n",
      "qfnra : builtin strategy for solving QF_NRA problems.\n",
      "qfuf : builtin strategy for solving QF_UF problems.\n",
      "qfufbv : builtin strategy for solving QF_UFBV problems.\n",
      "qfufbv_ackr : A tactic for solving QF_UFBV based on Ackermannization.\n",
      "ufnia : builtin strategy for solving UFNIA problems.\n",
      "uflra : builtin strategy for solving UFLRA problems.\n",
      "auflia : builtin strategy for solving AUFLIA problems.\n",
      "auflira : builtin strategy for solving AUFLIRA problems.\n",
      "aufnira : builtin strategy for solving AUFNIRA problems.\n",
      "lra : builtin strategy for solving LRA problems.\n",
      "lia : builtin strategy for solving LIA problems.\n",
      "lira : builtin strategy for solving LIRA problems.\n",
      "skip : do nothing tactic.\n",
      "fail : always fail tactic.\n",
      "fail-if-undecided : fail if goal is undecided.\n",
      "macro-finder : Identifies and applies macros.\n",
      "quasi-macros : Identifies and applies quasi-macros.\n",
      "ufbv-rewriter : Applies UFBV-specific rewriting rules, mainly demodulation.\n",
      "bv : builtin strategy for solving BV problems (with quantifiers).\n",
      "ufbv : builtin strategy for solving UFBV problems (with quantifiers).\n"
     ]
    }
   ],
   "source": [
    "describe_tactics()"
   ]
  },
  {
   "cell_type": "code",
   "execution_count": null,
   "metadata": {},
   "outputs": [],
   "source": [
    " ParThen(Tactic('split-clause'), Tactic('propagate-values'))\n",
    "    'nnf' 'simplify' 'skip' 'snf' 'qe-light' 'qe2' 'smt' \n",
    "    'elim-and' 'injectivity' 'fail' 'fail-if-undecided'\n",
    "    'ctx-solver-simplify'"
   ]
  },
  {
   "cell_type": "code",
   "execution_count": 196,
   "metadata": {},
   "outputs": [
    {
     "data": {
      "text/html": [
       "[[]]"
      ],
      "text/plain": [
       "[[]]"
      ]
     },
     "execution_count": 196,
     "metadata": {},
     "output_type": "execute_result"
    }
   ],
   "source": [
    "a, b = Bools(\"a b\")\n",
    "p = Implies(a,b) & a\n",
    "\n",
    "#t = Tactic(\"propagate-values\")\n",
    "\n",
    "#t = Tactic(\"simplify\")\n",
    "#p = t(p).as_expr()\n",
    "#t = Tactic(\"sat-preprocess\")\n",
    "t = Tactic(\"horn-simplify\")\n",
    "t(p)\n",
    "#t = Tactic(\"unit-subsume-simplify\") #didnt do anything\n"
   ]
  },
  {
   "cell_type": "markdown",
   "metadata": {},
   "source": [
    "Tactics.\n",
    "Z3 has some "
   ]
  },
  {
   "cell_type": "code",
   "execution_count": 37,
   "metadata": {},
   "outputs": [
    {
     "data": {
      "text/html": [
       "[[&forall;x : x &ge; 3]]"
      ],
      "text/plain": [
       "[[ForAll(x, x >= 3)]]"
      ]
     },
     "execution_count": 37,
     "metadata": {},
     "output_type": "execute_result"
    }
   ],
   "source": [
    "t = Tactic(\"snf\")\n",
    "p = ForAll([x],x >= 3)\n",
    "t(p)"
   ]
  },
  {
   "cell_type": "code",
   "execution_count": 45,
   "metadata": {},
   "outputs": [
    {
     "data": {
      "text/html": [
       "[[False]]"
      ],
      "text/plain": [
       "[[False]]"
      ]
     },
     "execution_count": 45,
     "metadata": {},
     "output_type": "execute_result"
    }
   ],
   "source": [
    "t = Tactic(\"qe-light\")\n",
    "t(p)"
   ]
  },
  {
   "cell_type": "code",
   "execution_count": 46,
   "metadata": {},
   "outputs": [
    {
     "data": {
      "text/html": [
       "[[True]]"
      ],
      "text/plain": [
       "[[True]]"
      ]
     },
     "execution_count": 46,
     "metadata": {},
     "output_type": "execute_result"
    }
   ],
   "source": [
    "t = Tactic(\"qe-light\")\n",
    "t(Exists([x], x >=3))"
   ]
  },
  {
   "cell_type": "code",
   "execution_count": 47,
   "metadata": {},
   "outputs": [
    {
     "data": {
      "text/html": [
       "[[x!5 &ge; 3]]"
      ],
      "text/plain": [
       "[[x!5 >= 3]]"
      ]
     },
     "execution_count": 47,
     "metadata": {},
     "output_type": "execute_result"
    }
   ],
   "source": [
    "t = Tactic(\"snf\")\n",
    "t(Exists([x], x >=3))"
   ]
  },
  {
   "cell_type": "code",
   "execution_count": 50,
   "metadata": {},
   "outputs": [
    {
     "data": {
      "text/html": [
       "[[&not;(x!8 &ge; 3)]]"
      ],
      "text/plain": [
       "[[Not(x!8 >= 3)]]"
      ]
     },
     "execution_count": 50,
     "metadata": {},
     "output_type": "execute_result"
    }
   ],
   "source": [
    "t = Tactic(\"snf\")\n",
    "p = Not(ForAll([x],x >= 3))\n",
    "t(p) "
   ]
  },
  {
   "cell_type": "code",
   "execution_count": 41,
   "metadata": {},
   "outputs": [
    {
     "data": {
      "text/html": [
       "[[x + 1 = 0 &or; x + -1 = 0]]"
      ],
      "text/plain": [
       "[[Or(x + 1 == 0, x + -1 == 0)]]"
      ]
     },
     "execution_count": 41,
     "metadata": {},
     "output_type": "execute_result"
    }
   ],
   "source": [
    "t = Tactic(\"factor\")\n",
    "t(x**2 - 1 == 0)"
   ]
  },
  {
   "cell_type": "code",
   "execution_count": 71,
   "metadata": {},
   "outputs": [
    {
     "data": {
      "text/html": [
       "[]"
      ],
      "text/plain": [
       "[]"
      ]
     },
     "execution_count": 71,
     "metadata": {},
     "output_type": "execute_result"
    }
   ],
   "source": [
    "x = Real('x')\n",
    "\n",
    "#help(Goal)\n",
    "g = Goal([Or(x == 7, x == 3)])\n",
    "g"
   ]
  },
  {
   "cell_type": "code",
   "execution_count": 3,
   "metadata": {},
   "outputs": [],
   "source": [
    "fac = RecFunction('fac', IntSort(), IntSort())\n",
    "n = Int('n')\n",
    "RecAddDefinition(fac, n, If(n == 0, 1, n*fac(n-1)))"
   ]
  },
  {
   "cell_type": "code",
   "execution_count": 107,
   "metadata": {},
   "outputs": [
    {
     "ename": "NameError",
     "evalue": "name 'nil' is not defined",
     "output_type": "error",
     "traceback": [
      "\u001b[0;31m---------------------------------------------------------------------------\u001b[0m",
      "\u001b[0;31mNameError\u001b[0m                                 Traceback (most recent call last)",
      "\u001b[0;32m<ipython-input-107-ff5620e25af8>\u001b[0m in \u001b[0;36m<module>\u001b[0;34m\u001b[0m\n\u001b[1;32m      1\u001b[0m \u001b[0;31m#l = List(\"l\")\u001b[0m\u001b[0;34m\u001b[0m\u001b[0;34m\u001b[0m\u001b[0m\n\u001b[0;32m----> 2\u001b[0;31m \u001b[0mnil\u001b[0m\u001b[0;34m\u001b[0m\u001b[0m\n\u001b[0m\u001b[1;32m      3\u001b[0m \u001b[0mcons\u001b[0m\u001b[0;34m\u001b[0m\u001b[0m\n",
      "\u001b[0;31mNameError\u001b[0m: name 'nil' is not defined"
     ]
    }
   ],
   "source": [
    "#l = List(\"l\")\n",
    "nil\n",
    "cons"
   ]
  },
  {
   "cell_type": "code",
   "execution_count": 4,
   "metadata": {},
   "outputs": [
    {
     "data": {
      "text/html": [
       "[n = 3, fac = [0 &rarr; 1, else &rarr; fac(-1 + &#957;<sub>0</sub>)&middot;&#957;<sub>0</sub>]]"
      ],
      "text/plain": [
       "[n = 3, fac = [0 -> 1, else -> fac(-1 + Var(0))*Var(0)]]"
      ]
     },
     "execution_count": 4,
     "metadata": {},
     "output_type": "execute_result"
    }
   ],
   "source": [
    "s = Solver()\n",
    "s.add(fac(n) == 6)\n",
    "s.check()\n",
    "s.model() #z3 can backwards solve functions."
   ]
  },
  {
   "cell_type": "code",
   "execution_count": 5,
   "metadata": {},
   "outputs": [
    {
     "ename": "NameError",
     "evalue": "name 'Forall' is not defined",
     "output_type": "error",
     "traceback": [
      "\u001b[0;31m---------------------------------------------------------------------------\u001b[0m",
      "\u001b[0;31mNameError\u001b[0m                                 Traceback (most recent call last)",
      "\u001b[0;32m<ipython-input-5-671c1226702f>\u001b[0m in \u001b[0;36m<module>\u001b[0;34m\u001b[0m\n\u001b[0;32m----> 1\u001b[0;31m \u001b[0mhelp\u001b[0m\u001b[0;34m(\u001b[0m\u001b[0mForall\u001b[0m\u001b[0;34m)\u001b[0m\u001b[0;34m\u001b[0m\u001b[0m\n\u001b[0m",
      "\u001b[0;31mNameError\u001b[0m: name 'Forall' is not defined"
     ]
    }
   ],
   "source": [
    "help(Forall)"
   ]
  },
  {
   "cell_type": "code",
   "execution_count": null,
   "metadata": {},
   "outputs": [],
   "source": [
    "help(z3)"
   ]
  },
  {
   "cell_type": "code",
   "execution_count": null,
   "metadata": {},
   "outputs": [],
   "source": [
    "help(z3)"
   ]
  },
  {
   "cell_type": "code",
   "execution_count": null,
   "metadata": {},
   "outputs": [],
   "source": [
    "help(Forall)"
   ]
  },
  {
   "cell_type": "code",
   "execution_count": 54,
   "metadata": {},
   "outputs": [
    {
     "ename": "TypeError",
     "evalue": "unsupported operand type(s) for |: 'BoolRef' and 'BoolRef'",
     "output_type": "error",
     "traceback": [
      "\u001b[0;31m---------------------------------------------------------------------------\u001b[0m",
      "\u001b[0;31mTypeError\u001b[0m                                 Traceback (most recent call last)",
      "\u001b[0;32m<ipython-input-54-38b95421ea58>\u001b[0m in \u001b[0;36m<module>\u001b[0;34m\u001b[0m\n\u001b[1;32m      1\u001b[0m \u001b[0ma\u001b[0m \u001b[0;34m=\u001b[0m \u001b[0mBool\u001b[0m\u001b[0;34m(\u001b[0m\u001b[0;34m\"a\"\u001b[0m\u001b[0;34m)\u001b[0m\u001b[0;34m\u001b[0m\u001b[0m\n\u001b[1;32m      2\u001b[0m \u001b[0mb\u001b[0m \u001b[0;34m=\u001b[0m \u001b[0mBool\u001b[0m\u001b[0;34m(\u001b[0m\u001b[0;34m\"b\"\u001b[0m\u001b[0;34m)\u001b[0m\u001b[0;34m\u001b[0m\u001b[0m\n\u001b[0;32m----> 3\u001b[0;31m \u001b[0ma\u001b[0m \u001b[0;34m|\u001b[0m \u001b[0mb\u001b[0m\u001b[0;34m\u001b[0m\u001b[0m\n\u001b[0m",
      "\u001b[0;31mTypeError\u001b[0m: unsupported operand type(s) for |: 'BoolRef' and 'BoolRef'"
     ]
    }
   ],
   "source": [
    "a = Bool(\"a\")\n",
    "b = Bool(\"b\")\n",
    "a | b"
   ]
  },
  {
   "cell_type": "code",
   "execution_count": 25,
   "metadata": {},
   "outputs": [
    {
     "name": "stdout",
     "output_type": "stream",
     "text": [
      "proved\n"
     ]
    }
   ],
   "source": [
    "a = Bool(\"a\")\n",
    "~a\n",
    "a >> a\n",
    "(a & a & a) >> a # precdnence is bad.\n",
    "(a | a) >> a\n",
    "~a & a > a"
   ]
  },
  {
   "cell_type": "code",
   "execution_count": 102,
   "metadata": {},
   "outputs": [
    {
     "data": {
      "text/plain": [
       "True"
      ]
     },
     "execution_count": 102,
     "metadata": {},
     "output_type": "execute_result"
    }
   ],
   "source": [
    "1 <= 2  #Ugh. Idunno, Sympy uses >> as implies. That's not bad.It is scary to mistake with a bitvector"
   ]
  },
  {
   "cell_type": "code",
   "execution_count": 58,
   "metadata": {},
   "outputs": [
    {
     "data": {
      "text/html": [
       "a &and; b"
      ],
      "text/plain": [
       "And(a, b)"
      ]
     },
     "execution_count": 58,
     "metadata": {},
     "output_type": "execute_result"
    }
   ],
   "source": [
    "a & b #These seem like sensible operators to be in z3 for bools"
   ]
  },
  {
   "cell_type": "code",
   "execution_count": 103,
   "metadata": {},
   "outputs": [
    {
     "data": {
      "text/html": [
       "a &le; b"
      ],
      "text/plain": [
       "a <= b"
      ]
     },
     "execution_count": 103,
     "metadata": {},
     "output_type": "execute_result"
    }
   ],
   "source": [
    "a <= b"
   ]
  },
  {
   "cell_type": "code",
   "execution_count": 59,
   "metadata": {},
   "outputs": [
    {
     "data": {
      "text/html": [
       "a &or; b"
      ],
      "text/plain": [
       "Or(a, b)"
      ]
     },
     "execution_count": 59,
     "metadata": {},
     "output_type": "execute_result"
    }
   ],
   "source": [
    "a | b"
   ]
  },
  {
   "cell_type": "code",
   "execution_count": 60,
   "metadata": {},
   "outputs": [
    {
     "data": {
      "text/html": [
       "a &and; b &and; a &and; b"
      ],
      "text/plain": [
       "And(And(And(a, b), a), b)"
      ]
     },
     "execution_count": 60,
     "metadata": {},
     "output_type": "execute_result"
    }
   ],
   "source": [
    "a & b & a & b"
   ]
  },
  {
   "cell_type": "code",
   "execution_count": 65,
   "metadata": {},
   "outputs": [
    {
     "data": {
      "text/html": [
       "If(b, 7, 0)"
      ],
      "text/plain": [
       "If(b, 7, 0)"
      ]
     },
     "execution_count": 65,
     "metadata": {},
     "output_type": "execute_result"
    }
   ],
   "source": [
    "7*b"
   ]
  },
  {
   "cell_type": "code",
   "execution_count": 78,
   "metadata": {},
   "outputs": [],
   "source": [
    "b = BitVec(\"b\", 32)\n",
    "a = BitVec(\"a\", 32)"
   ]
  },
  {
   "cell_type": "code",
   "execution_count": 75,
   "metadata": {},
   "outputs": [
    {
     "name": "stdout",
     "output_type": "stream",
     "text": [
      "proved\n"
     ]
    }
   ],
   "source": [
    "prove(b == b | b)"
   ]
  },
  {
   "cell_type": "code",
   "execution_count": 76,
   "metadata": {},
   "outputs": [
    {
     "name": "stdout",
     "output_type": "stream",
     "text": [
      "proved\n"
     ]
    }
   ],
   "source": [
    "prove(0 == b ^ b)"
   ]
  },
  {
   "cell_type": "code",
   "execution_count": 79,
   "metadata": {},
   "outputs": [
    {
     "name": "stdout",
     "output_type": "stream",
     "text": [
      "proved\n"
     ]
    }
   ],
   "source": [
    "prove(a == (a ^ b) ^ b)"
   ]
  },
  {
   "cell_type": "markdown",
   "metadata": {},
   "source": [
    "Proof by induction\n",
    "It is questionable the degree to which z3 can handle proof by induction\n",
    "Self note: A bounded size proof might be possible though? Use z3 as search procedure. Short circuit \n",
    "An application of a proof rule usually requires some unification and subsitution. z3 can do that.\n",
    "Or what about just defining a GADT, which we kind of can because we can define ADT plus bizarro z3 conditions.\n",
    "\n",
    "ADT(\"Vec n\")\n",
    "\n",
    "\n",
    "\n",
    "If we take z3 as a trusted base, could we build a python tactic system around it.\n",
    ".auto() just calls z3\n",
    ".intros() examine goal expression\n",
    ".exists()\n",
    ".\n",
    "for each constructor\n",
    "These are possibly gadts, or possibly considered as measures a la liquid haskell\n",
    "c += [ForAll([n,a,v], (length v == n), patterns=[VCons(n,a,v)])]\n",
    "c += [length VNil = 0]\n",
    "\n",
    "alternatively\n",
    "is_valid(d) = (Vec.n(d) == length(Vec.cdr(d))) & is_valid(Vec.cdr(d))\n",
    "\n",
    "is_valid / smart_constructor pair\n",
    "\n",
    "proof search by reflection of proof trees into z3.\n",
    "\n",
    "traverse and map etc\n",
    "\n",
    "def map(f): # over finite structures we can use templated map\n",
    "\n",
    "\n",
    "\n",
    "\n",
    "\n",
    "Also agda style equality reasoning\n",
    "\n",
    "\n",
    "Proof by induction can follow from using axiom scheme.\n",
    "\n",
    "Imperative proofs. This may already be provided by Z3's Goal class?\n",
    "\n",
    "contexts?\n",
    "\n",
    "class Proof():\n",
    "    __init__(self,goal, ctx=[]):\n",
    "    self.context = ctx\n",
    "    self.goal = goal\n",
    "    def auto(self, hint_db = []):\n",
    "        # do we want to give the context?\n",
    "        prove(Implies(**ctx,goal))\n",
    "        #or maybe we want to do an actual search\n",
    "    def apply(self,proof):\n",
    "        #proof.check() or\n",
    "        if proof.is_proven:\n",
    "            model = solve(proof.goal == self.goal)\n",
    "        return self\n",
    "    def simp():\n",
    "        self.goal = simplify(self.goal)\n",
    "    def intros(names?):\n",
    "        if is_quantifier(goal) and is_forall(goal):\n",
    "    def destruct(self):\n",
    "    \n",
    "    def induction(self):\n",
    "        \n",
    "    def reflexivity():\n",
    "        prove(goal) \n",
    "        # or maybe auto\n",
    "        \n",
    "    def __next__(self) # use generator for proof stack?\n",
    "    \n",
    "I really need to start consolidating and writing"
   ]
  },
  {
   "cell_type": "markdown",
   "metadata": {},
   "source": [
    "### The apply tactic. \n",
    "\n",
    "The apply tactic takes a theorem that contains as it's final implication something that is easily shown to imply the goal. You can then use this theorem and have new goals the correspond to the hypothesis of the theorem.\n",
    "Easily shown usually works by unification. The syntax of the goals and the syntax of the result of the theorem have to match.\n"
   ]
  },
  {
   "cell_type": "code",
   "execution_count": 99,
   "metadata": {},
   "outputs": [
    {
     "name": "stdout",
     "output_type": "stream",
     "text": [
      "[q = Point!val!0, p = Point!val!0]\n"
     ]
    }
   ],
   "source": [
    "#Projective geometry\n",
    "\n",
    "Point = DeclareSort('Point')\n",
    "p, q = Consts('p q',Point)\n",
    "collinear = Function(\"collinear\", Point, Point, Point , BoolSort())\n",
    "x = Consts('x', BoolSort())\n",
    "solve(p == q)\n",
    "Line = DeclareSort('Line')\n",
    "p, q = Consts('p q',Line)\n",
    "\n",
    "ForAll([p,q], collinear(p,q,p) == True)\n",
    "ForAll([p,q], collinear(p,q,p) == True)\n",
    "\n",
    "Exists([a,b,c], And(collinear(a,b,c), b != c , a != c))\n",
    "ForAll([a,b,c,d], Implies( And(collinear(a,b,c) ,collinear(a,b,d)), collinear(b,d,c) ))\n",
    "\n",
    "online(a,b,l), (c,d,l)=> oneline(a,c) online(d)\n",
    "meetpoints\n",
    "\n"
   ]
  },
  {
   "cell_type": "code",
   "execution_count": 109,
   "metadata": {},
   "outputs": [],
   "source": [
    "# Declare a List of integers\n",
    "List = Datatype('List')\n",
    "# Constructor cons: (Int, List) -> List\n",
    "List.declare('cons', ('car', IntSort()), ('cdr', List))\n",
    "# Constructor nil: List\n",
    "List.declare('nil')\n",
    "# Create the datatype\n",
    "List = List.create()\n",
    "#print is_sort(List)\n",
    "cons = List.cons\n",
    "car  = List.car\n",
    "cdr  = List.cdr\n",
    "nil  = List.nil\n"
   ]
  },
  {
   "cell_type": "code",
   "execution_count": 1,
   "metadata": {},
   "outputs": [
    {
     "ename": "NameError",
     "evalue": "name 'Tuple' is not defined",
     "output_type": "error",
     "traceback": [
      "\u001b[0;31m---------------------------------------------------------------------------\u001b[0m",
      "\u001b[0;31mNameError\u001b[0m                                 Traceback (most recent call last)",
      "\u001b[0;32m<ipython-input-1-c014a241ed3c>\u001b[0m in \u001b[0;36m<module>\u001b[0;34m\u001b[0m\n\u001b[0;32m----> 1\u001b[0;31m \u001b[0mTuple\u001b[0m\u001b[0;34m\u001b[0m\u001b[0m\n\u001b[0m",
      "\u001b[0;31mNameError\u001b[0m: name 'Tuple' is not defined"
     ]
    }
   ],
   "source": []
  },
  {
   "cell_type": "code",
   "execution_count": null,
   "metadata": {},
   "outputs": [],
   "source": [
    "app = RecFunction('append', List, List, List)\n",
    "l1 = Int('l1')\n",
    "l2 = Int('l2')\n",
    "RecAddDefinition(fac, n, If(l1 == nil, 1, n*fac(n-1)))"
   ]
  },
  {
   "cell_type": "code",
   "execution_count": 113,
   "metadata": {},
   "outputs": [],
   "source": [
    "llen = RecFunction('length', List, IntSort())\n",
    "l1 = Const('l1', List)\n",
    "l2 = Int('l2')\n",
    "RecAddDefinition(llen, l1, If(l1 == nil, 0, 1 + llen(cdr(l1))))"
   ]
  },
  {
   "cell_type": "code",
   "execution_count": 114,
   "metadata": {},
   "outputs": [
    {
     "name": "stdout",
     "output_type": "stream",
     "text": [
      "[l1 = cons(8, cons(7, cons(11, cons(10, nil)))),\n",
      " length = [nil -> 0, else -> 1 + length(cdr(Var(0)))]]\n"
     ]
    }
   ],
   "source": [
    "solve(llen(l1) == 4)"
   ]
  },
  {
   "cell_type": "code",
   "execution_count": 116,
   "metadata": {},
   "outputs": [
    {
     "name": "stdout",
     "output_type": "stream",
     "text": [
      "proved\n"
     ]
    }
   ],
   "source": [
    "prove(Implies(l1 == nil, llen(l1) >= 0))"
   ]
  },
  {
   "cell_type": "code",
   "execution_count": 119,
   "metadata": {},
   "outputs": [
    {
     "name": "stdout",
     "output_type": "stream",
     "text": [
      "proved\n"
     ]
    }
   ],
   "source": [
    "l2 = Const('l2', List)\n",
    "n = Int('n')\n",
    "prove(Implies(And(l1 == cons(n,l2), llen(l2) >= 0), llen(l1) >= 0))"
   ]
  },
  {
   "cell_type": "code",
   "execution_count": null,
   "metadata": {},
   "outputs": [],
   "source": [
    "# This induction principle doesn't really make much sense.\n",
    "Forall([p], Implies( [p(nil) , Implies(p(l1) , p(cons(n,l1))   ] , Forall([l], p(x))   )\n",
    "                      "
   ]
  },
  {
   "cell_type": "code",
   "execution_count": null,
   "metadata": {},
   "outputs": [],
   "source": [
    "induction( e  ):\n",
    "    is_quantifier(e)\n",
    "    if_forall(e)\n",
    "    eval(body,nil)\n",
    "    eval(body, l1)\n",
    "    eval(body, cons(n,l1))"
   ]
  },
  {
   "cell_type": "code",
   "execution_count": 121,
   "metadata": {},
   "outputs": [
    {
     "ename": "Z3Exception",
     "evalue": "True, False or Z3 Boolean expression expected. Received [b, b]",
     "output_type": "error",
     "traceback": [
      "\u001b[0;31m---------------------------------------------------------------------------\u001b[0m",
      "\u001b[0;31mZ3Exception\u001b[0m                               Traceback (most recent call last)",
      "\u001b[0;32m<ipython-input-121-610162a9556b>\u001b[0m in \u001b[0;36m<module>\u001b[0;34m\u001b[0m\n\u001b[1;32m      1\u001b[0m \u001b[0mb\u001b[0m \u001b[0;34m=\u001b[0m \u001b[0mBool\u001b[0m\u001b[0;34m(\u001b[0m\u001b[0;34m'b'\u001b[0m\u001b[0;34m)\u001b[0m\u001b[0;34m\u001b[0m\u001b[0m\n\u001b[0;32m----> 2\u001b[0;31m \u001b[0mImplies\u001b[0m\u001b[0;34m(\u001b[0m\u001b[0;34m[\u001b[0m\u001b[0mb\u001b[0m\u001b[0;34m,\u001b[0m\u001b[0mb\u001b[0m\u001b[0;34m]\u001b[0m\u001b[0;34m,\u001b[0m\u001b[0mb\u001b[0m\u001b[0;34m)\u001b[0m\u001b[0;34m\u001b[0m\u001b[0m\n\u001b[0m",
      "\u001b[0;32m/usr/local/lib/python3.7/site-packages/z3/z3.py\u001b[0m in \u001b[0;36mImplies\u001b[0;34m(a, b, ctx)\u001b[0m\n\u001b[1;32m   1628\u001b[0m     \u001b[0mctx\u001b[0m \u001b[0;34m=\u001b[0m \u001b[0m_get_ctx\u001b[0m\u001b[0;34m(\u001b[0m\u001b[0m_ctx_from_ast_arg_list\u001b[0m\u001b[0;34m(\u001b[0m\u001b[0;34m[\u001b[0m\u001b[0ma\u001b[0m\u001b[0;34m,\u001b[0m \u001b[0mb\u001b[0m\u001b[0;34m]\u001b[0m\u001b[0;34m,\u001b[0m \u001b[0mctx\u001b[0m\u001b[0;34m)\u001b[0m\u001b[0;34m)\u001b[0m\u001b[0;34m\u001b[0m\u001b[0m\n\u001b[1;32m   1629\u001b[0m     \u001b[0ms\u001b[0m \u001b[0;34m=\u001b[0m \u001b[0mBoolSort\u001b[0m\u001b[0;34m(\u001b[0m\u001b[0mctx\u001b[0m\u001b[0;34m)\u001b[0m\u001b[0;34m\u001b[0m\u001b[0m\n\u001b[0;32m-> 1630\u001b[0;31m     \u001b[0ma\u001b[0m \u001b[0;34m=\u001b[0m \u001b[0ms\u001b[0m\u001b[0;34m.\u001b[0m\u001b[0mcast\u001b[0m\u001b[0;34m(\u001b[0m\u001b[0ma\u001b[0m\u001b[0;34m)\u001b[0m\u001b[0;34m\u001b[0m\u001b[0m\n\u001b[0m\u001b[1;32m   1631\u001b[0m     \u001b[0mb\u001b[0m \u001b[0;34m=\u001b[0m \u001b[0ms\u001b[0m\u001b[0;34m.\u001b[0m\u001b[0mcast\u001b[0m\u001b[0;34m(\u001b[0m\u001b[0mb\u001b[0m\u001b[0;34m)\u001b[0m\u001b[0;34m\u001b[0m\u001b[0m\n\u001b[1;32m   1632\u001b[0m     \u001b[0;32mreturn\u001b[0m \u001b[0mBoolRef\u001b[0m\u001b[0;34m(\u001b[0m\u001b[0mZ3_mk_implies\u001b[0m\u001b[0;34m(\u001b[0m\u001b[0mctx\u001b[0m\u001b[0;34m.\u001b[0m\u001b[0mref\u001b[0m\u001b[0;34m(\u001b[0m\u001b[0;34m)\u001b[0m\u001b[0;34m,\u001b[0m \u001b[0ma\u001b[0m\u001b[0;34m.\u001b[0m\u001b[0mas_ast\u001b[0m\u001b[0;34m(\u001b[0m\u001b[0;34m)\u001b[0m\u001b[0;34m,\u001b[0m \u001b[0mb\u001b[0m\u001b[0;34m.\u001b[0m\u001b[0mas_ast\u001b[0m\u001b[0;34m(\u001b[0m\u001b[0;34m)\u001b[0m\u001b[0;34m)\u001b[0m\u001b[0;34m,\u001b[0m \u001b[0mctx\u001b[0m\u001b[0;34m)\u001b[0m\u001b[0;34m\u001b[0m\u001b[0m\n",
      "\u001b[0;32m/usr/local/lib/python3.7/site-packages/z3/z3.py\u001b[0m in \u001b[0;36mcast\u001b[0;34m(self, val)\u001b[0m\n\u001b[1;32m   1387\u001b[0m         \u001b[0;32mif\u001b[0m \u001b[0mz3_debug\u001b[0m\u001b[0;34m(\u001b[0m\u001b[0;34m)\u001b[0m\u001b[0;34m:\u001b[0m\u001b[0;34m\u001b[0m\u001b[0m\n\u001b[1;32m   1388\u001b[0m             \u001b[0;32mif\u001b[0m \u001b[0;32mnot\u001b[0m \u001b[0mis_expr\u001b[0m\u001b[0;34m(\u001b[0m\u001b[0mval\u001b[0m\u001b[0;34m)\u001b[0m\u001b[0;34m:\u001b[0m\u001b[0;34m\u001b[0m\u001b[0m\n\u001b[0;32m-> 1389\u001b[0;31m                \u001b[0m_z3_assert\u001b[0m\u001b[0;34m(\u001b[0m\u001b[0mis_expr\u001b[0m\u001b[0;34m(\u001b[0m\u001b[0mval\u001b[0m\u001b[0;34m)\u001b[0m\u001b[0;34m,\u001b[0m \u001b[0;34m\"True, False or Z3 Boolean expression expected. Received %s\"\u001b[0m \u001b[0;34m%\u001b[0m \u001b[0mval\u001b[0m\u001b[0;34m)\u001b[0m\u001b[0;34m\u001b[0m\u001b[0m\n\u001b[0m\u001b[1;32m   1390\u001b[0m             \u001b[0;32mif\u001b[0m \u001b[0;32mnot\u001b[0m \u001b[0mself\u001b[0m\u001b[0;34m.\u001b[0m\u001b[0meq\u001b[0m\u001b[0;34m(\u001b[0m\u001b[0mval\u001b[0m\u001b[0;34m.\u001b[0m\u001b[0msort\u001b[0m\u001b[0;34m(\u001b[0m\u001b[0;34m)\u001b[0m\u001b[0;34m)\u001b[0m\u001b[0;34m:\u001b[0m\u001b[0;34m\u001b[0m\u001b[0m\n\u001b[1;32m   1391\u001b[0m                \u001b[0m_z3_assert\u001b[0m\u001b[0;34m(\u001b[0m\u001b[0mself\u001b[0m\u001b[0;34m.\u001b[0m\u001b[0meq\u001b[0m\u001b[0;34m(\u001b[0m\u001b[0mval\u001b[0m\u001b[0;34m.\u001b[0m\u001b[0msort\u001b[0m\u001b[0;34m(\u001b[0m\u001b[0;34m)\u001b[0m\u001b[0;34m)\u001b[0m\u001b[0;34m,\u001b[0m \u001b[0;34m\"Value cannot be converted into a Z3 Boolean value\"\u001b[0m\u001b[0;34m)\u001b[0m\u001b[0;34m\u001b[0m\u001b[0m\n",
      "\u001b[0;32m/usr/local/lib/python3.7/site-packages/z3/z3.py\u001b[0m in \u001b[0;36m_z3_assert\u001b[0;34m(cond, msg)\u001b[0m\n\u001b[1;32m     94\u001b[0m \u001b[0;32mdef\u001b[0m \u001b[0m_z3_assert\u001b[0m\u001b[0;34m(\u001b[0m\u001b[0mcond\u001b[0m\u001b[0;34m,\u001b[0m \u001b[0mmsg\u001b[0m\u001b[0;34m)\u001b[0m\u001b[0;34m:\u001b[0m\u001b[0;34m\u001b[0m\u001b[0m\n\u001b[1;32m     95\u001b[0m     \u001b[0;32mif\u001b[0m \u001b[0;32mnot\u001b[0m \u001b[0mcond\u001b[0m\u001b[0;34m:\u001b[0m\u001b[0;34m\u001b[0m\u001b[0m\n\u001b[0;32m---> 96\u001b[0;31m         \u001b[0;32mraise\u001b[0m \u001b[0mZ3Exception\u001b[0m\u001b[0;34m(\u001b[0m\u001b[0mmsg\u001b[0m\u001b[0;34m)\u001b[0m\u001b[0;34m\u001b[0m\u001b[0m\n\u001b[0m\u001b[1;32m     97\u001b[0m \u001b[0;34m\u001b[0m\u001b[0m\n\u001b[1;32m     98\u001b[0m \u001b[0;32mdef\u001b[0m \u001b[0m_z3_check_cint_overflow\u001b[0m\u001b[0;34m(\u001b[0m\u001b[0mn\u001b[0m\u001b[0;34m,\u001b[0m \u001b[0mname\u001b[0m\u001b[0;34m)\u001b[0m\u001b[0;34m:\u001b[0m\u001b[0;34m\u001b[0m\u001b[0m\n",
      "\u001b[0;31mZ3Exception\u001b[0m: True, False or Z3 Boolean expression expected. Received [b, b]"
     ]
    }
   ],
   "source": [
    "b = Bool('b')\n",
    "Implies([b,b],b)"
   ]
  },
  {
   "cell_type": "code",
   "execution_count": 175,
   "metadata": {},
   "outputs": [
    {
     "data": {
      "text/html": [
       "x + 8"
      ],
      "text/plain": [
       "x + 8"
      ]
     },
     "execution_count": 175,
     "metadata": {},
     "output_type": "execute_result"
    }
   ],
   "source": [
    "x = Real('x')\n",
    "f = Lambda([x], x)\n",
    "'''dir(f)\n",
    "f.var_name(0)\n",
    "dir(f)\n",
    "f.num_vars()\n",
    "f.var_sort(0)\n",
    "if f.is_lambda:\n",
    "    ss = [Var(i, f.var_sort(i)) for i in range(f.num_vars())]\n",
    "    '''\n",
    "substitute_vars(f.body(), x+8)\n",
    "#f.body()\n",
    "#f.sort()"
   ]
  },
  {
   "cell_type": "code",
   "execution_count": 178,
   "metadata": {},
   "outputs": [
    {
     "data": {
      "text/html": [
       "&#957;<sub>0</sub>"
      ],
      "text/plain": [
       "Var(0)"
      ]
     },
     "execution_count": 178,
     "metadata": {},
     "output_type": "execute_result"
    }
   ],
   "source": [
    "#v0 = Var(0, IntSort())\n",
    "#v1 = Var(1, IntSort())\n",
    "x  = Real('x')\n",
    "#f  = Function('f', IntSort(), IntSort())\n",
    "f = Lambda([x], Lambda([x], x))\n",
    "# replace v0 with x+1 and v1 with x\n",
    "\n",
    "substitute_vars(f.body(), x + 1)\n"
   ]
  },
  {
   "cell_type": "code",
   "execution_count": null,
   "metadata": {},
   "outputs": [],
   "source": [
    "substitute\n",
    "m.eval # in a model\n"
   ]
  },
  {
   "cell_type": "code",
   "execution_count": 184,
   "metadata": {},
   "outputs": [
    {
     "data": {
      "text/plain": [
       "['__bool__',\n",
       " '__class__',\n",
       " '__copy__',\n",
       " '__deepcopy__',\n",
       " '__del__',\n",
       " '__delattr__',\n",
       " '__dict__',\n",
       " '__dir__',\n",
       " '__doc__',\n",
       " '__eq__',\n",
       " '__format__',\n",
       " '__ge__',\n",
       " '__getattribute__',\n",
       " '__gt__',\n",
       " '__hash__',\n",
       " '__init__',\n",
       " '__init_subclass__',\n",
       " '__le__',\n",
       " '__lt__',\n",
       " '__module__',\n",
       " '__ne__',\n",
       " '__new__',\n",
       " '__nonzero__',\n",
       " '__reduce__',\n",
       " '__reduce_ex__',\n",
       " '__repr__',\n",
       " '__setattr__',\n",
       " '__sizeof__',\n",
       " '__str__',\n",
       " '__subclasshook__',\n",
       " '__weakref__',\n",
       " '_repr_html_',\n",
       " 'accessor',\n",
       " 'as_ast',\n",
       " 'ast',\n",
       " 'car',\n",
       " 'cast',\n",
       " 'cdr',\n",
       " 'cons',\n",
       " 'constructor',\n",
       " 'ctx',\n",
       " 'ctx_ref',\n",
       " 'eq',\n",
       " 'get_id',\n",
       " 'hash',\n",
       " 'is_cons',\n",
       " 'is_nil',\n",
       " 'kind',\n",
       " 'name',\n",
       " 'nil',\n",
       " 'num_constructors',\n",
       " 'recognizer',\n",
       " 'sexpr',\n",
       " 'subsort',\n",
       " 'translate',\n",
       " 'use_pp']"
      ]
     },
     "execution_count": 184,
     "metadata": {},
     "output_type": "execute_result"
    }
   ],
   "source": [
    "dir(List)"
   ]
  },
  {
   "cell_type": "code",
   "execution_count": 201,
   "metadata": {},
   "outputs": [
    {
     "data": {
      "text/html": [
       "is(nil)"
      ],
      "text/plain": [
       "is(nil)"
      ]
     },
     "execution_count": 201,
     "metadata": {},
     "output_type": "execute_result"
    }
   ],
   "source": [
    "\n",
    "List.num_constructors()\n",
    "List.accessor(0,0)\n",
    "List.constructor(0)\n",
    "List.constructor(1)\n",
    "List.recognizer(0)\n",
    "List.recognizer(1)\n"
   ]
  },
  {
   "cell_type": "code",
   "execution_count": null,
   "metadata": {},
   "outputs": [],
   "source": [
    "[List.constructor(i) for i in range(d.num_constructors())\n",
    " # look for recusrive calls. Mutually recursive calls? Eeeh."
   ]
  },
  {
   "cell_type": "code",
   "execution_count": 180,
   "metadata": {},
   "outputs": [
    {
     "data": {
      "text/plain": [
       "True"
      ]
     },
     "execution_count": 180,
     "metadata": {},
     "output_type": "execute_result"
    }
   ],
   "source": [
    "f = ForAll([x], x == 7)\n",
    "f.is_forall()\n",
    "def intros(f):\n",
    "    if is_quantifier(f):\n",
    "        if f.forall():            \n",
    "            n = f.num_vars()\n",
    "            da_vars = [Const(f.var_name(), f.var_sort(i)) for i in range(n)]\n",
    "            substitute_vars(f.body(), *da_vars)\n"
   ]
  },
  {
   "cell_type": "code",
   "execution_count": 202,
   "metadata": {},
   "outputs": [],
   "source": [
    "def Impland(hyps, res):\n",
    "    return Implies(And(*hyps), res)"
   ]
  },
  {
   "cell_type": "code",
   "execution_count": 203,
   "metadata": {},
   "outputs": [
    {
     "name": "stdout",
     "output_type": "stream",
     "text": [
      "proved\n"
     ]
    }
   ],
   "source": [
    "prove(Impland([x >= 3, x <= 4], x <= 10))"
   ]
  },
  {
   "cell_type": "code",
   "execution_count": null,
   "metadata": {},
   "outputs": [],
   "source": [
    "\n",
    "    "
   ]
  },
  {
   "cell_type": "code",
   "execution_count": null,
   "metadata": {},
   "outputs": [],
   "source": [
    "def ind_schema(p):\n",
    "    n = FreshInt()\n",
    "    Implies(And(p(0), Forall([n], Implies(p(n), p(n+1)) ), Forall([n]) p(n)) #Plus positivty of n\n",
    "def ind_list(p):\n",
    "    n = Fresh(List)\n",
    "    Implies(And(p(List.nil), Forall([n], Implies(p(n), p(n+1))), Forall([n]) p(n)) #Plus positivty of n"
   ]
  },
  {
   "cell_type": "markdown",
   "metadata": {},
   "source": [
    "https://arxiv.org/pdf/1905.05970.pdf - holpy\n",
    "\n",
    "Instantiate.\n",
    "Any proven theorem can be instantiated to particlaur values\n",
    "\n",
    "Put z3 proofs in any inference rules?\n",
    "assert(prove(a /\\ b => b) == proved)\n",
    "modus ponens (a,b,c |- d) (d' |- r) can be composed if d |- d' \n",
    "forward reonding\n",
    "def sym:\n",
    "   if is_eq:\n",
    "      a,b = get left, get right\n",
    "      if(prove(g >> b == a)\n",
    "def forward(n):\n",
    "   if prove(goal & ctx >> n):\n",
    "       ctx += goal\n",
    "       goal = n\n",
    "tactic( in = None): # in makes the forward mode version\n",
    "    \n",
    "my_theorem = Proof(\"(forall x (x >= 7))\").auto().\n",
    "  \n",
    "\n",
    "\n",
    "my_theroem\n",
    "\n",
    "Tuple \n",
    "\n",
    "fst = \n",
    "snd = \n",
    "\n",
    "\n",
    "could add induction principle in as a triggered expression. Triggered on the particular theorem w are trying to prove it on.\n",
    "\n",
    "\n",
    "\n",
    "Huh. Cody tells me he already did all this.\n",
    "Do I believe him? Does it matter?\n",
    "https://github.com/avigad/boole\n",
    "\n",
    "Reflection of proof terms into z3 itself.\n",
    "check = RecFunction(, Pf => Bool)\n",
    "check = If(is_cons(), , )\n",
    "\n",
    "cody is converned about apply tactic. 1. do we need it? 2. instantiate tactic\n",
    "\n",
    "def instantiate(t, *args):\n",
    "    subs(t,args)\n",
    "    c = concl(t)\n",
    "    hyps = hyps(t)\n",
    "    if prove(goal == c):\n",
    "        self.   \n",
    "        self.goals += hyps\n",
    "    \n",
    "    \n",
    "    subsitutie_vars(   )\n",
    "\n",
    "\n",
    "def apply(t):\n",
    "    # t.proven()\n",
    "    if is_forall(t): #figure out how to instantiate quantified variables\n",
    "        t2 = instantaitefresh(t)\n",
    "        hyps, concs = impland(t2) # or maybe we don't have to instantiate to do this\n",
    "        if prove( (forall concs) >> goal )): #Just prove the small step of the proof, which should be easier\n",
    "            ctx += (self.goal == t2) #This is the unification predicate. Hmm. Do I need a forall here?\n",
    "            goal.pop()\n",
    "            goals += hyps\n",
    "    else: # literally equal/ impoied\n",
    "        hyp, conc = t\n",
    "        if prove(conc >> goal) == proved:\n",
    "            goal.pop()\n",
    "            goal += hyp\n",
    "def intros(): # suggested names? also could use [,,,] case patterns if we're being fancy\n",
    "    is_forall:\n",
    "        instantiatefresh(self.goal):\n",
    "\n",
    "\n",
    "intros().auto() instatiates forall, then calls prove which has an implicit forall.\n",
    "\n",
    "\n",
    "def induction(n):\n",
    "    get_sort(n)\n",
    "    goal = goals.pop()\n",
    "    for constructor in\n",
    "        ind_hyp = find recursive calls of type\n",
    "        ctx = ctx.copy()\n",
    "        goal += [(ctx, goal)]\n",
    "    \n",
    "\n",
    "Should we store the context and the goal seperately or just keep the z3 expression of the form Implies(yada,yada)\n",
    "\n",
    "\n",
    "def qed():\n",
    "    if prove(ctx >> goal):\n",
    "        self.proven = True\n",
    "    \n",
    "\n",
    "(ctx >> goal)\n",
    "\n",
    "\n",
    "__str__(self):\n",
    "    if len(self.goals) >= 1:\n",
    "        (ctx,goal) = self.goals[0]\n",
    "        return concat([f\"{str(c)} : {str(sort(c))}\\n\" for c in ctx]) + \"----------------\\n\" + f\"{str(goal)} : {str(sort(goal))\"\n",
    "    else:\n",
    "        return \"No Goals Left\"\n",
    "    \n",
    "      \n",
    "    \n"
   ]
  }
 ],
 "metadata": {
  "@webio": {
   "lastCommId": null,
   "lastKernelId": null
  },
  "kernelspec": {
   "display_name": "Python 3",
   "language": "python",
   "name": "python3"
  },
  "language_info": {
   "codemirror_mode": {
    "name": "ipython",
    "version": 3
   },
   "file_extension": ".py",
   "mimetype": "text/x-python",
   "name": "python",
   "nbconvert_exporter": "python",
   "pygments_lexer": "ipython3",
   "version": "3.7.0"
  }
 },
 "nbformat": 4,
 "nbformat_minor": 2
}
