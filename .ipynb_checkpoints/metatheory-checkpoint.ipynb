{
 "cells": [
  {
   "cell_type": "code",
   "execution_count": 1,
   "metadata": {},
   "outputs": [
    {
     "name": "stderr",
     "output_type": "stream",
     "text": [
      "\u001b[32m\u001b[1m  Activating\u001b[22m\u001b[39m environment at `~/Documents/python/thoughtbooks/metatheory/Project.toml`\n",
      "\u001b[32m\u001b[1m    Updating\u001b[22m\u001b[39m git-repo `https://github.com/0x0f0f0f/Metatheory.jl.git`\n",
      "\u001b[32m\u001b[1m    Updating\u001b[22m\u001b[39m registry at `~/.julia/registries/General`\n",
      "\u001b[32m\u001b[1m    Updating\u001b[22m\u001b[39m git-repo `https://github.com/JuliaRegistries/General.git`\n",
      "\u001b[32m\u001b[1m   Resolving\u001b[22m\u001b[39m package versions...\n",
      "\u001b[32m\u001b[1m   Installed\u001b[22m\u001b[39m Debugger ───────── v0.6.7\n",
      "\u001b[32m\u001b[1m   Installed\u001b[22m\u001b[39m JuliaInterpreter ─ v0.8.11\n",
      "\u001b[32m\u001b[1m   Installed\u001b[22m\u001b[39m Highlights ─────── v0.4.5\n",
      "\u001b[32m\u001b[1m    Updating\u001b[22m\u001b[39m `~/Documents/python/thoughtbooks/metatheory/Project.toml`\n",
      " \u001b[90m [e9d8d322] \u001b[39m\u001b[93m~ Metatheory v0.2.1 `https://github.com/0x0f0f0f/Metatheory.jl.git#master` ⇒ v0.3.2 `https://github.com/0x0f0f0f/Metatheory.jl.git#master`\u001b[39m\n",
      "\u001b[32m\u001b[1m    Updating\u001b[22m\u001b[39m `~/Documents/python/thoughtbooks/metatheory/Manifest.toml`\n",
      " \u001b[90m [15f4f7f2] \u001b[39m\u001b[91m- AutoHashEquals v0.2.0\u001b[39m\n",
      " \u001b[90m [da1fd8a2] \u001b[39m\u001b[92m+ CodeTracking v1.0.5\u001b[39m\n",
      " \u001b[90m [a8cc5b0e] \u001b[39m\u001b[92m+ Crayons v4.0.4\u001b[39m\n",
      " \u001b[90m [31a5f54b] \u001b[39m\u001b[92m+ Debugger v0.6.7\u001b[39m\n",
      " \u001b[90m [eafb193a] \u001b[39m\u001b[92m+ Highlights v0.4.5\u001b[39m\n",
      " \u001b[90m [aa1ae85d] \u001b[39m\u001b[92m+ JuliaInterpreter v0.8.11\u001b[39m\n",
      " \u001b[90m [e9d8d322] \u001b[39m\u001b[93m~ Metatheory v0.2.1 `https://github.com/0x0f0f0f/Metatheory.jl.git#master` ⇒ v0.3.2 `https://github.com/0x0f0f0f/Metatheory.jl.git#master`\u001b[39m\n",
      " \u001b[90m [0dad84c5] \u001b[39m\u001b[92m+ ArgTools\u001b[39m\n",
      " \u001b[90m [56f22d72] \u001b[39m\u001b[92m+ Artifacts\u001b[39m\n",
      " \u001b[90m [f43a241f] \u001b[39m\u001b[92m+ Downloads\u001b[39m\n",
      " \u001b[90m [b27032c2] \u001b[39m\u001b[92m+ LibCURL\u001b[39m\n",
      " \u001b[90m [ca575930] \u001b[39m\u001b[92m+ NetworkOptions\u001b[39m\n",
      " \u001b[90m [fa267f1f] \u001b[39m\u001b[92m+ TOML\u001b[39m\n",
      " \u001b[90m [a4e569a6] \u001b[39m\u001b[92m+ Tar\u001b[39m\n",
      " \u001b[90m [deac9b47] \u001b[39m\u001b[92m+ LibCURL_jll\u001b[39m\n",
      " \u001b[90m [29816b5a] \u001b[39m\u001b[92m+ LibSSH2_jll\u001b[39m\n",
      " \u001b[90m [c8ffd9c3] \u001b[39m\u001b[92m+ MbedTLS_jll\u001b[39m\n",
      " \u001b[90m [14a3606d] \u001b[39m\u001b[92m+ MozillaCACerts_jll\u001b[39m\n",
      " \u001b[90m [83775a58] \u001b[39m\u001b[92m+ Zlib_jll\u001b[39m\n",
      " \u001b[90m [8e850ede] \u001b[39m\u001b[92m+ nghttp2_jll\u001b[39m\n",
      " \u001b[90m [3f19e933] \u001b[39m\u001b[92m+ p7zip_jll\u001b[39m\n",
      "\u001b[32m\u001b[1mPrecompiling\u001b[22m\u001b[39m project...\n",
      "\u001b[32m  ✓ \u001b[39m\u001b[90mDocStringExtensions\u001b[39m\n",
      "\u001b[32m  ✓ \u001b[39m\u001b[90mCodeTracking\u001b[39m\n",
      "\u001b[32m  ✓ \u001b[39m\u001b[90mJuliaInterpreter\u001b[39m\n",
      "\u001b[32m  ✓ \u001b[39m\u001b[90mHighlights\u001b[39m\n",
      "\u001b[32m  ✓ \u001b[39m\u001b[90mDebugger\u001b[39m\n",
      "\u001b[32m  ✓ \u001b[39mMetatheory\n",
      "6 dependencies successfully precompiled in 11 seconds (12 already precompiled)\n"
     ]
    }
   ],
   "source": [
    "using Pkg\n",
    "Pkg.activate(\"metatheory\")\n",
    "Pkg.add(url=\"https://github.com/0x0f0f0f/Metatheory.jl.git\")\n",
    "using Metatheory\n",
    "using Metatheory.EGraphs"
   ]
  },
  {
   "cell_type": "code",
   "execution_count": null,
   "metadata": {},
   "outputs": [],
   "source": [
    "cat_rules = @theory begin\n",
    "    f ⋅ id(b) => f\n",
    "    id(a) ⋅ f => f\n",
    "    f => f ⋅ id(cod(type(f)))\n",
    "    f => id(dom(type(f))) ⋅ f\n",
    "\n",
    "    a ⊗ₒ munit() => a\n",
    "    munit() ⊗ₒ a => a\n",
    "\n",
    "    a => a ⊗ₒ munit()\n",
    "    a => munit() ⊗ₒ a\n",
    "    f ⋅ (g ⋅ h) == (f ⋅ g) ⋅ h\n",
    "end\n",
    "\n",
    "monoidal_rules = @theory begin\n",
    "    id(munit()) ⊗ₘ f => f\n",
    "    f ⊗ₘ id(munit()) => f\n",
    "    a ⊗ₒ (b ⊗ₒ c) == (a ⊗ₒ b) ⊗ₒ c\n",
    "    f ⊗ₘ (h ⊗ₘ j) == (f ⊗ₘ h) ⊗ₘ j\n",
    "    id(a ⊗ₒ b) == id(a) ⊗ₘ id(b)\n",
    "\n",
    "    $( MultiPatRewriteRule(@pat((f ⊗ₘ p) ⋅ (g ⊗ₘ q)), @pat((f ⋅ g) ⊗ₘ (p ⋅ q)),\n",
    "        [PatEquiv(@pat(cod(type(f))), @pat(dom(type(g)))), PatEquiv(@pat(cod(type(p))), @pat(dom(type(q))))]) )\n",
    "\n",
    "    (f ⋅ g) ⊗ₘ (p ⋅ q) => (f ⊗ₘ p) ⋅ (g ⊗ₘ q)\n",
    "end\n",
    "\n",
    "\n",
    "\n",
    "sym_rules = @theory begin\n",
    "    σ(a, b) ⋅ σ(b, a) == id(a ⊗ₒ b)\n",
    "    (σ(a, b) ⊗ₘ id(c)) ⋅ (id(b) ⊗ₘ σ(a, c)) == σ(a, b ⊗ₒ c)\n",
    "    (id(a) ⊗ₘ σ(b, c)) ⋅ (σ(a, c) ⊗ₘ id(b)) == σ(a ⊗ₒ b, c)\n",
    "\n",
    "    $( MultiPatRewriteRule(@pat((f ⊗ₘ h) ⋅ σ(a, b)), @pat(σ(dom(type(f)), dom(type(h))) ⋅ (h ⊗ₘ f)),\n",
    "        [PatEquiv(@pat(cod(type(f))), @pat(a)), PatEquiv(@pat(cod(type(h))), @pat(b))]) )\n",
    "\n",
    "\n",
    "    $( MultiPatRewriteRule(@pat(σ(c, d) ⋅ (h ⊗ₘ f)), @pat((f ⊗ₘ h) ⋅ σ(cod(type(f)), cod(type(h)))),\n",
    "        [PatEquiv(@pat(dom(type(f))), PatVar(:c)), PatEquiv(@pat(dom(type(f))), PatVar(:d))]))\n",
    "\n",
    "    # these rules arer not catlab\n",
    "    σ(a, munit()) == id(a)\n",
    "    σ(munit(), a) == id(a)\n",
    "    σ(munit(), munit()) => id(munit() ⊗ₒ munit())\n",
    "\n",
    "end\n",
    "\n",
    "\n",
    "\n",
    "diag_rules = @theory begin\n",
    "    Δ(a) ⋅ (⋄(a) ⊗ₘ id(a)) == id(a)\n",
    "    Δ(a) ⋅ (id(a) ⊗ₘ ⋄(a)) == id(a)\n",
    "    Δ(a) ⋅ σ(a, a) == Δ(a)\n",
    "\n",
    "    (Δ(a) ⊗ₘ Δ(b)) ⋅ (id(a) ⊗ₘ σ(a, b) ⊗ₘ id(b)) == Δ(a ⊗ₒ b)\n",
    "\n",
    "    Δ(a) ⋅ (Δ(a) ⊗ₘ id(a)) == Δ(a) ⋅ (id(a) ⊗ₘ Δ(a))\n",
    "    ⋄(a ⊗ₒ b) == ⋄(a) ⊗ₘ ⋄(b)\n",
    "\n",
    "    Δ(munit()) == id(munit())\n",
    "    ⋄(munit()) == id(munit())\n",
    "end\n",
    "\n",
    "\n",
    "cart_rules = @theory begin\n",
    "    $( MultiPatRewriteRule(@pat(Δ(a) ⋅ (f ⊗ₘ k)), @pat(pair(f,k)),\n",
    "        [PatEquiv(@pat(dom(type(f))), @pat(dom(type(k))))]))\n",
    "\n",
    "    pair(f, k) == Δ(dom(type(f))) ⋅ (f ⊗ₘ k)\n",
    "    proj1(a, b) == id(a) ⊗ₘ ⋄(b)\n",
    "    proj2(a, b) == ⋄(a) ⊗ₘ id(b)\n",
    "    f ⋅ ⋄(b) => ⋄(dom(type(f)))\n",
    "    # Has to invent f. Hard to fix.\n",
    "    # ⋄(b) => f ⋅ ⋄(b)\n",
    "\n",
    "    f ⋅ Δ(b) => Δ(dom(type(f))) ⋅ (f ⊗ₘ f)\n",
    "    Δ(a) ⋅ (f ⊗ₘ f) => f ⋅ Δ(cod(type(f)))\n",
    "end\n",
    "\n",
    "\n",
    "typing_rules = @theory begin\n",
    "    dom(hom(a, b)) => a\n",
    "    cod(hom(a, b)) => b\n",
    "    type(id(a)) => hom(a, a)\n",
    "    type(f ⋅ g) => hom(dom(type(f)), cod(type(g)))\n",
    "    type(f ⊗ₘ g) => hom(dom(type(f)) ⊗ₒ dom(type(g)), cod(type(f)) ⊗ₒ cod(type(g)))\n",
    "    type(a ⊗ₒ b) => :ob\n",
    "    type(munit()) => :ob\n",
    "    type(σ(a, b)) => hom(a ⊗ₒ b, b ⊗ₒ a)\n",
    "    type(⋄(a)) => hom(a, munit())\n",
    "    type(Δ(a)) => hom(a, a ⊗ₒ a)\n",
    "    type(pair(f, g)) => hom(dom(type(f)), cod(type(f)) ⊗ₒ cod(type(g)))\n",
    "    type(proj1(a, b)) => hom(a ⊗ₒ b, a)\n",
    "    type(proj2(a, b)) => hom(a ⊗ₒ b, b)\n",
    "end\n",
    "\n",
    "\n",
    "rules = typing_rules ∪ cat_rules ∪ monoidal_rules ∪ sym_rules ∪ diag_rules ∪ cart_rules ∪ typing_rules\n",
    "\n",
    "# @areequal rules id(a ⊗ₒ b) pair(proj1(a, b), proj2(a, b))\n",
    "\n",
    "G = EGraph( :(pair(proj1(a, b), proj2(a, b))))\n",
    "params = SaturationParams(timeout=1)\n",
    "saturate!(G, params )\n",
    "extractor = addanalysis!(G, astsize)\n",
    "ex = extract!(G, extractor)                                     "
   ]
  },
  {
   "cell_type": "markdown",
   "metadata": {},
   "source": [
    "pair(proj1(a,a), proj1(a,a)) == id(a \\otimes_0 a)\n",
    "This is a good query to check that false things aren't being derived. It does type check.\n",
    "\n",
    "\n",
    "What about doing the SKI calculus and or Other combinators\n",
    "Bracket abstraction. Do it then use MT to optimize resulting combinator expression?\n",
    "Bracket abstract to shitty form, use MT to eliminate certain undesired combinators. Kind of a solution process?\n",
    "Use julia syntax\n",
    "\n",
    "\n",
    "\n",
    "obvious point free form:\n",
    "\n",
    "\n",
    "\n",
    "bracket( expr , ctx::Int64)\n",
    "\n",
    "sum(A) = one . A\n",
    "sum(B) = one . B\n",
    "delta_ij = \n",
    "A_i   = otimes I otime A otimes I, I in all indices in scope A does not depend on\n",
    "x * y = Perhaps hadamard product. Or a dup, then a mul. then anti dup? Does ahadmard have good algerbaic properties\n",
    "\n",
    "sum(sum(ai bj) -> one . ( I \\otime one . ( A oitmes I  had B otimes I))\n",
    "is this equal to swapping ther sum \n",
    "one . ( one \\otimes I . (\n",
    "\n",
    "How did spore deal with equational mismatch of dimensions?\n",
    "\n",
    "algerbaic properties of one. It's similar to delete. Frobnenius category?\n",
    "\n",
    "Oh yeah, It's kind of a cup with I ? Not I really.\n",
    "\n",
    "A has a single index?\n",
    "So we're encoding vectors as sclaing operations?\n",
    "\n",
    "\n",
    "\n",
    " i -> (j -> k -> ( a(i) * b(j) c(k))\n",
    "\n",
    "a = struced\n",
    "\n",
    "sum( (i,j,k) -> :( a($i) * b($j) * c($k) ) )  ( [nargs+1 : 1 : -1] ) # de bruijn\n",
    "\n",
    "\n",
    "It is a slightly different thing than (sum(i -> i * i)) where indices show up in the expressiosn\n",
    "\n",
    "\n",
    "\n"
   ]
  },
  {
   "cell_type": "code",
   "execution_count": 17,
   "metadata": {},
   "outputs": [
    {
     "data": {
      "text/plain": [
       "1"
      ]
     },
     "execution_count": 17,
     "metadata": {},
     "output_type": "execute_result"
    }
   ],
   "source": [
    "( (i,j) -> i )([1,2]...) # Yeah they need to match"
   ]
  },
  {
   "cell_type": "code",
   "execution_count": 9,
   "metadata": {},
   "outputs": [
    {
     "data": {
      "text/plain": [
       "true"
      ]
     },
     "execution_count": 9,
     "metadata": {},
     "output_type": "execute_result"
    }
   ],
   "source": [
    "G = EGraph()\n",
    "fcod = addexpr!(G, :(cod(f)))\n",
    "gcod = addexpr!(G, :(cod(g)))\n",
    "fdom = addexpr!(G, :(dom(f)))\n",
    "gdom = addexpr!(G, :(cod(g)))\n",
    "B = addexpr!(G, :B)\n",
    "A = addexpr!(G, :A)\n",
    "B1 = addexpr!(G, :B1)\n",
    "C = addexpr!(G, :C)\n",
    "merge!(G, B1.id,B.id)\n",
    "merge!(G,fcod.id, B.id)\n",
    "merge!(G,gdom.id, B1.id)\n",
    "merge!(G,gcod.id, C.id)\n",
    "merge!(G,fdom.id, A.id)\n",
    "find(G,fcod) == find(G,gdom)\n"
   ]
  },
  {
   "cell_type": "code",
   "execution_count": 10,
   "metadata": {},
   "outputs": [
    {
     "data": {
      "text/plain": [
       "true"
      ]
     },
     "execution_count": 10,
     "metadata": {},
     "output_type": "execute_result"
    }
   ],
   "source": [
    "ex_query = @theory begin\n",
    "   cod(:f) == :B\n",
    "   dom(:f) == :A\n",
    "   cod(:g) == :C\n",
    "   dom(:g) == :B1\n",
    "   :B      == :B1\n",
    "end\n",
    "\n",
    "@areequal ex_query cod(f) dom(g) "
   ]
  },
  {
   "cell_type": "code",
   "execution_count": 15,
   "metadata": {},
   "outputs": [
    {
     "data": {
      "text/plain": [
       "Equality Saturation Report\n",
       "=================\n",
       "\tStop Reason: nothing\n",
       "\tEGraph Saturated: true\n",
       "\tIterations: 5\n",
       "\tEGraph Size: 7 eclasses, 19 nodes\n",
       "\tTotal Time: (time = 0.006212901, bytes = 1402104, gctime = 0.0)\n",
       "\tSearch Time: (time = 0.000834653, bytes = 502784, gctime = 0.0)\n",
       "\tApply Time: (time = 0.005207359999999999, bytes = 854776, gctime = 0.0)\n",
       "\tRebuild Time: (time = 0.00017088799999999998, bytes = 44544, gctime = 0.0)\n"
      ]
     },
     "execution_count": 15,
     "metadata": {},
     "output_type": "execute_result"
    }
   ],
   "source": [
    "testt = @theory begin\n",
    "    a + b       ==  b + a\n",
    "    a + (b + c) ==  (a + b) + c\n",
    "    d - d       => 0\n",
    "    a + neg(b)      => a - b\n",
    "    a - b       => a + neg(b)\n",
    "end\n",
    "\n",
    "ex = :((a + d) + neg(d))\n",
    "g = EGraph(ex)\n",
    "saturate!(g, testt)"
   ]
  },
  {
   "cell_type": "code",
   "execution_count": 11,
   "metadata": {},
   "outputs": [
    {
     "name": "stdout",
     "output_type": "stream",
     "text": [
      "Expr\n",
      "  head: Symbol call\n",
      "  args: Array{Any}((3,))\n",
      "    1: Symbol =>\n",
      "    2: Expr\n",
      "      head: Symbol call\n",
      "      args: Array{Any}((3,))\n",
      "        1: Symbol +\n",
      "        2: Symbol a\n",
      "        3: Expr\n",
      "          head: Symbol call\n",
      "          args: Array{Any}((2,))\n",
      "            1: Symbol -\n",
      "            2: Symbol b\n",
      "    3: Expr\n",
      "      head: Symbol call\n",
      "      args: Array{Any}((3,))\n",
      "        1: Symbol -\n",
      "        2: Symbol a\n",
      "        3: Symbol b\n"
     ]
    }
   ],
   "source": [
    "dump(:(a + -b => a - b))"
   ]
  },
  {
   "cell_type": "markdown",
   "metadata": {},
   "source": [
    "Binding forms\n",
    "\n",
    "\n",
    "var(n)\n",
    "sum()\n",
    "\n",
    "zL :: [a] -> a\n",
    "\n",
    "\n",
    "sum :: ([R] -> R) -> ([R] -> R)\n",
    ": (R -> R) -> R\n",
    "(R^n -> R) -> (R^{n-1} -> R)\n",
    "sum :: exists n, (R^n -> R) -> (R^{n-1} -> R) -- an infinite (type) sum of sorts.\n",
    "sum :: forall n, (R^n -> R) -> (R^{n-1} -> R)\n",
    "proj(n,m)\n",
    "\n",
    "sum(sum(a(j) * b(k)))\n",
    "\n",
    "We need that \"lazy de bruin\" to collect up \n",
    "lift :: (R^n -> R) -> (R^{n+1} -> R)\n",
    "lift + id\n",
    "id :: (R -> R)\n",
    "const(x) :: R -> R\n",
    "sum(lift(x)) --> x * sum(const(1))\n",
    "sum(const(n)) = N * n\n",
    "sum(id) = n * (n + 1) / 2\n",
    "\n",
    "lift(id)\n",
    "\n",
    "projhead : R^n -> R\n",
    "id = projhead(1)\n",
    "lift(n, projhead )\n",
    "\n",
    "\n",
    "dsitrib sum(c*a) = c * sum(a)\n",
    "assoc sum(a + b) = sum(a) + sum(b)\n",
    "commutative - permute order of sum. a little more complicated than I was looking to deal with\n",
    "splitting a piece off sum(a) = a_0 + sum(a)\n",
    "interchange order of summation\n",
    "\n",
    "\n",
    "https://en.wikipedia.org/wiki/Summation\n",
    "\n",
    "sum_i sum_j a_(i,j) What about this?\n",
    "I guess This could be    a := lift(lift(a)) all the pieces it doesn't use.\n",
    "But what if a uses two indices that are far apart. The notion of ordering of indices is weird here, since Sigma is strictly assocaitvie but lambda is not. Hmm. This is very different from the lambda calculus. Egg approahc seems to recoeve these things via axioms though\n",
    "sum(sum(x)) = sum(sum(swap(x)))\n",
    "\n",
    "\n",
    "Maybe just a conversion to a point free combinator format is smart.\n",
    "But then what are Sigma? some kind of functor?\n",
    "\n",
    "swap(f,g)\n",
    "\n",
    "sum(weak(x) * y) = x * sum(y)\n",
    "\n",
    "sum sum(weak(x) * y) = sum(sum(swap(weak(x), y)))\n",
    "swap(weak(x)) = \n",
    "\n",
    "sum(sum(sum(weak(weak(id)) * weak(weak(id)) * id)))) = sum_ijk i * j * k\n",
    "\n",
    "unknown coeficient functions\n",
    "a(weak(weak(id)), weak(id))\n",
    "sum(comp(a,  otimes (weak weak) , weak)) )\n",
    "\n",
    "These basic things are functions.\n",
    "I mean I could insist on the full monty. \n",
    "\n",
    "diamond \\otimes diamond \\otimes id \\otimes diamond. = proj(4,3)\n",
    "\n",
    "sum(f) =? some kinda thing.\n",
    "Implicilty everyhitng summed?\n",
    "Summed via monoidal product?\n",
    "\n",
    "\n",
    "Hmm. Are there easier problems?\n",
    "Single sum symbol\n",
    "1 and 2 sum symbol?\n",
    "Lambda calc maybe?\n"
   ]
  },
  {
   "cell_type": "code",
   "execution_count": null,
   "metadata": {},
   "outputs": [],
   "source": []
  },
  {
   "cell_type": "code",
   "execution_count": 2,
   "metadata": {},
   "outputs": [
    {
     "name": "stdout",
     "output_type": "stream",
     "text": [
      "  0.040449 seconds (25.83 k allocations: 1.360 MiB)\n"
     ]
    },
    {
     "name": "stderr",
     "output_type": "stream",
     "text": [
      "┌ Info: E-GRAPH SATURATED\n",
      "└ @ Metatheory.EGraphs /home/philip/.julia/packages/Metatheory/R4YWe/src/EGraphs/saturation.jl:102\n"
     ]
    },
    {
     "name": "stdout",
     "output_type": "stream",
     "text": [
      "  3.099705 seconds (10.14 M allocations: 517.671 MiB, 3.37% gc time)\n"
     ]
    },
    {
     "name": "stderr",
     "output_type": "stream",
     "text": [
      "┌ Info: E-GRAPH TIMEOUT\n",
      "└ @ Metatheory.EGraphs /home/philip/.julia/packages/Metatheory/R4YWe/src/EGraphs/saturation.jl:103\n"
     ]
    },
    {
     "data": {
      "text/plain": [
       "354224848179261915075"
      ]
     },
     "execution_count": 2,
     "metadata": {},
     "output_type": "execute_result"
    }
   ],
   "source": [
    "\n",
    "fibo = @theory begin\n",
    "    x::$BigInt + y::$BigInt |> x+y\n",
    "    fib(n::$BigInt) |> (n < 2 ? n : :(fib($(n-1)) + fib($(n-2))))\n",
    "end\n",
    "\n",
    "g = EGraph(:(fib(10)))\n",
    "@time saturate!(g, fibo; timeout=60)\n",
    "\n",
    "z = EGraph(:(fib($(BigInt(100)))))\n",
    "@time saturate!(z, fibo; timeout=7000)\n",
    "extractor = addanalysis!(z, ExtractionAnalysis, astsize)\n",
    "ex = extract!(z, extractor)\n",
    "\n",
    "#display(z.M); println()\n",
    "ex"
   ]
  },
  {
   "cell_type": "code",
   "execution_count": null,
   "metadata": {},
   "outputs": [],
   "source": [
    "sum_examp = @theory begin\n",
    "   A ⊗ (B ⊗ C) ==  (A ⊗ B) ⊗ C)  # kron rearragement\n",
    "   (A * B) * C ==  A * (B * C)   # Matric assoc better directions\n",
    "   A * C + B * C ==  (A + B) * C # save a loop\n",
    "   (A ⊗ B) * (C ⊗ D) == (A * C) ⊗ (B ⊗ D) # very very good factorization    \n",
    "end\n",
    "\n",
    "G = EGraph(:(fib($(BigInt(100)))))\n",
    "@time saturate!(G, fibo; timeout=7000)\n",
    "extractor = addanalysis!(G, ExtractionAnalysis, astsize)\n",
    "ex = extract!(G, extractor)\n"
   ]
  },
  {
   "cell_type": "code",
   "execution_count": 55,
   "metadata": {
    "collapsed": true,
    "jupyter": {
     "outputs_hidden": true
    }
   },
   "outputs": [
    {
     "name": "stdout",
     "output_type": "stream",
     "text": [
      "Array{Rule}((2,))\n",
      "  1: Rule\n",
      "    left: Expr\n",
      "      head: Symbol call\n",
      "      args: Array{Any}((3,))\n",
      "        1: Symbol ⋅\n",
      "        2: Expr\n",
      "          head: Symbol call\n",
      "          args: Array{Any}((3,))\n",
      "            1: Symbol typ\n",
      "            2: Expr\n",
      "              head: Symbol call\n",
      "              args: Array{Any}((2,))\n",
      "                1: Symbol id\n",
      "                2: Symbol a\n",
      "            3: Expr\n",
      "              head: Symbol call\n",
      "              args: Array{Any}((3,))\n",
      "                1: Symbol hom\n",
      "                2: Symbol a\n",
      "                3: Symbol a\n",
      "        3: Expr\n",
      "          head: Symbol call\n",
      "          args: Array{Any}((3,))\n",
      "            1: Symbol typ\n",
      "            2: Symbol f\n",
      "            3: Expr\n",
      "              head: Symbol call\n",
      "              args: Array{Any}((3,))\n",
      "                1: Symbol hom\n",
      "                2: Symbol a\n",
      "                3: Symbol b\n",
      "    right: Expr\n",
      "      head: Symbol call\n",
      "      args: Array{Any}((3,))\n",
      "        1: Symbol typ\n",
      "        2: Symbol f\n",
      "        3: Expr\n",
      "          head: Symbol call\n",
      "          args: Array{Any}((3,))\n",
      "            1: Symbol hom\n",
      "            2: Symbol a\n",
      "            3: Symbol b\n",
      "    expr: Expr\n",
      "      head: Symbol call\n",
      "      args: Array{Any}((3,))\n",
      "        1: Symbol =>\n",
      "        2: Expr\n",
      "          head: Symbol call\n",
      "          args: Array{Any}((3,))\n",
      "            1: Symbol ⋅\n",
      "            2: Expr\n",
      "              head: Symbol call\n",
      "              args: Array{Any}((3,))\n",
      "                1: Symbol typ\n",
      "                2: Expr\n",
      "                3: Expr\n",
      "            3: Expr\n",
      "              head: Symbol call\n",
      "              args: Array{Any}((3,))\n",
      "                1: Symbol typ\n",
      "                2: Symbol f\n",
      "                3: Expr\n",
      "        3: Expr\n",
      "          head: Symbol call\n",
      "          args: Array{Any}((3,))\n",
      "            1: Symbol typ\n",
      "            2: Symbol f\n",
      "            3: Expr\n",
      "              head: Symbol call\n",
      "              args: Array{Any}((3,))\n",
      "                1: Symbol hom\n",
      "                2: Symbol a\n",
      "                3: Symbol b\n",
      "    mode: Symbol rewrite\n",
      "  2: Rule\n",
      "    left: Expr\n",
      "      head: Symbol call\n",
      "      args: Array{Any}((3,))\n",
      "        1: Symbol typ\n",
      "        2: Expr\n",
      "          head: Symbol call\n",
      "          args: Array{Any}((3,))\n",
      "            1: Symbol ⋅\n",
      "            2: Symbol f\n",
      "            3: Expr\n",
      "              head: Symbol call\n",
      "              args: Array{Any}((3,))\n",
      "                1: Symbol typ\n",
      "                2: Expr\n",
      "                3: Expr\n",
      "        3: Expr\n",
      "          head: Symbol call\n",
      "          args: Array{Any}((3,))\n",
      "            1: Symbol hom\n",
      "            2: Symbol a\n",
      "            3: Symbol c\n",
      "    right: Expr\n",
      "      head: Symbol call\n",
      "      args: Array{Any}((3,))\n",
      "        1: Symbol typ\n",
      "        2: Expr\n",
      "          head: Symbol call\n",
      "          args: Array{Any}((3,))\n",
      "            1: Symbol ⋅\n",
      "            2: Expr\n",
      "              head: Symbol call\n",
      "              args: Array{Any}((3,))\n",
      "                1: Symbol typ\n",
      "                2: Expr\n",
      "                3: Expr\n",
      "            3: Symbol h\n",
      "        3: Expr\n",
      "          head: Symbol call\n",
      "          args: Array{Any}((3,))\n",
      "            1: Symbol hom\n",
      "            2: Symbol a\n",
      "            3: Symbol c\n",
      "    expr: Expr\n",
      "      head: Symbol call\n",
      "      args: Array{Any}((3,))\n",
      "        1: Symbol =>\n",
      "        2: Expr\n",
      "          head: Symbol call\n",
      "          args: Array{Any}((3,))\n",
      "            1: Symbol typ\n",
      "            2: Expr\n",
      "              head: Symbol call\n",
      "              args: Array{Any}((3,))\n",
      "                1: Symbol ⋅\n",
      "                2: Symbol f\n",
      "                3: Expr\n",
      "            3: Expr\n",
      "              head: Symbol call\n",
      "              args: Array{Any}((3,))\n",
      "                1: Symbol hom\n",
      "                2: Symbol a\n",
      "                3: Symbol c\n",
      "        3: Expr\n",
      "          head: Symbol call\n",
      "          args: Array{Any}((3,))\n",
      "            1: Symbol typ\n",
      "            2: Expr\n",
      "              head: Symbol call\n",
      "              args: Array{Any}((3,))\n",
      "                1: Symbol ⋅\n",
      "                2: Expr\n",
      "                3: Symbol h\n",
      "            3: Expr\n",
      "              head: Symbol call\n",
      "              args: Array{Any}((3,))\n",
      "                1: Symbol hom\n",
      "                2: Symbol a\n",
      "                3: Symbol c\n",
      "    mode: Symbol rewrite\n"
     ]
    }
   ],
   "source": [
    "using Metatheory\n",
    "simple_cat = @theory begin\n",
    "    typ(id(a), hom(a,a)) ⋅ typ(f, hom(a,b))  => typ(f, hom(a,b))\n",
    "    typ( f ⋅ typ( (g ⋅ h) , hom(b,c) ) , hom(a,c) ) => typ( typ( f ⋅ g, hom(a,b)) ⋅ h, hom(a,c))\n",
    "end\n",
    "# dump(simple_cat)"
   ]
  },
  {
   "cell_type": "code",
   "execution_count": null,
   "metadata": {},
   "outputs": [],
   "source": [
    "\n",
    "fib(n) = n < 2 ? n : fib(n-1) + fib(n-2)"
   ]
  },
  {
   "cell_type": "code",
   "execution_count": 8,
   "metadata": {},
   "outputs": [
    {
     "data": {
      "text/plain": [
       "3-element Array{Rule,1}:\n",
       " Rule(:(a * b => b * a))\n",
       "\n",
       " Rule(:(a * 1 => a))\n",
       "\n",
       " Rule(:(a * (b * c) => (a * b) * c))\n"
      ]
     },
     "execution_count": 8,
     "metadata": {},
     "output_type": "execute_result"
    }
   ],
   "source": [
    "comm_monoid = @theory begin\n",
    "    a * b => b * a\n",
    "    a * 1 => a\n",
    "    a * (b * c) => (a * b) * c\n",
    "end\n",
    "comm_monoid"
   ]
  },
  {
   "cell_type": "code",
   "execution_count": 11,
   "metadata": {},
   "outputs": [
    {
     "data": {
      "text/plain": [
       ":(:a * (:b * (:a * (:b * :a))))"
      ]
     },
     "execution_count": 11,
     "metadata": {},
     "output_type": "execute_result"
    }
   ],
   "source": [
    "moveright = @theory begin\n",
    "    (a * b) * c     => a * (b * c)\n",
    "\t :b * :a         => :a * :b\n",
    "    (:b * (:a * c)) => (:a * (:b * c))\n",
    "end\n",
    "\n",
    "rewrite(rewrite( :( :a * (:b * (:a * (:b * :a)))) , moveright), moveright)"
   ]
  },
  {
   "cell_type": "code",
   "execution_count": 12,
   "metadata": {},
   "outputs": [
    {
     "data": {
      "text/plain": [
       ":(((((((cdag * cdag) * c) * c + cdag * c) + (2cdag) * c) + 1) + cdag * c) + 1)"
      ]
     },
     "execution_count": 12,
     "metadata": {},
     "output_type": "execute_result"
    }
   ],
   "source": [
    "@metatheory_init\n",
    "boson = @theory begin\n",
    "    (:c * :cdag) => :cdag * :c + 1 \n",
    "    (:c * (:cdag * x)) => (:cdag * :c + 1) * x #awkward\n",
    "    a * (b + c) => (a * b) + (a * c)\n",
    "    (b + c) * a => (b * a) + (c * a)\n",
    "    1 * x => x\n",
    "    x * 1 => x\n",
    "    (x + (x + y)) => 2x + y\n",
    "    (a * b) * c => a * (b * c)\n",
    "    (a + b) + c => a + (b + c)\n",
    "end\n",
    "\n",
    "reassoc = @theory begin \n",
    "    (a * b) * c => a * b * c\n",
    "    a * (b * c) => a * b * c\n",
    "    a * (b * c) * d => a*b*c*d\n",
    "    (a + b) + c => a + b + c\n",
    "    a + (b + c) => a + b + c\n",
    "    a + (b + c) + d => a+b+c+d\n",
    "end\n",
    "\n",
    "#rewrite(  :( c * (c * cdag ))  , boson) \n",
    "rewrite(rewrite(  :(c * c * cdag * cdag)  , boson) , reassoc)\n",
    "\n",
    "#rewrite(  :( c * (cdag * c ))  , boson)"
   ]
  },
  {
   "cell_type": "code",
   "execution_count": 13,
   "metadata": {},
   "outputs": [
    {
     "data": {
      "text/plain": [
       ":(cdag * (cdag * (c * c)) + (cdag * c + (2 * (cdag * c) + (1 + (cdag * c + 1)))))"
      ]
     },
     "execution_count": 13,
     "metadata": {},
     "output_type": "execute_result"
    }
   ],
   "source": [
    "rewrite(  :(c * c * cdag * cdag)  , boson) "
   ]
  },
  {
   "cell_type": "code",
   "execution_count": 14,
   "metadata": {},
   "outputs": [
    {
     "name": "stdout",
     "output_type": "stream",
     "text": [
      "Expr\n",
      "  head: Symbol call\n",
      "  args: Array{Any}((6,))\n",
      "    1: Symbol *\n",
      "    2: Symbol a\n",
      "    3: Symbol b\n",
      "    4: Symbol a\n",
      "    5: Symbol b\n",
      "    6: Symbol a\n",
      "Expr\n",
      "  head: Symbol call\n",
      "  args: Array{Any}((3,))\n",
      "    1: Symbol *\n",
      "    2: Expr\n",
      "      head: Symbol call\n",
      "      args: Array{Any}((3,))\n",
      "        1: Symbol *\n",
      "        2: Expr\n",
      "          head: Symbol call\n",
      "          args: Array{Any}((3,))\n",
      "            1: Symbol *\n",
      "            2: Expr\n",
      "              head: Symbol call\n",
      "              args: Array{Any}((3,))\n",
      "                1: Symbol *\n",
      "                2: Symbol a\n",
      "                3: Symbol b\n",
      "            3: Symbol a\n",
      "        3: Symbol b\n",
      "    3: Symbol a\n"
     ]
    }
   ],
   "source": [
    "dump(:( a * b * a * b * a) )\n",
    "blank = @theory begin \n",
    "end\n",
    "dump(rewrite( :( a * b * a * b * a) ,  blank))"
   ]
  },
  {
   "cell_type": "code",
   "execution_count": 16,
   "metadata": {},
   "outputs": [
    {
     "data": {
      "text/plain": [
       ":(a * (b * b))"
      ]
     },
     "execution_count": 16,
     "metadata": {},
     "output_type": "execute_result"
    }
   ],
   "source": [
    "moveright = @theory begin\n",
    "    (:b * (:a * c)) => (:a * (:b * c))\n",
    "end\n",
    "\n",
    "rewrite( :((b * (a * b)) ), moveright)"
   ]
  },
  {
   "cell_type": "code",
   "execution_count": 11,
   "metadata": {},
   "outputs": [],
   "source": [
    "\n",
    "#rewrite( :(b * (a * b)) , moveright)"
   ]
  },
  {
   "cell_type": "code",
   "execution_count": 10,
   "metadata": {},
   "outputs": [],
   "source": [
    "\n"
   ]
  },
  {
   "cell_type": "code",
   "execution_count": 8,
   "metadata": {},
   "outputs": [
    {
     "data": {
      "text/plain": [
       ":(a ++ a ++ a)"
      ]
     },
     "execution_count": 8,
     "metadata": {},
     "output_type": "execute_result"
    }
   ],
   "source": [
    ":( a ⋅ a ⋅ a)\n",
    ":( a ++ a ++ a)"
   ]
  },
  {
   "cell_type": "code",
   "execution_count": 17,
   "metadata": {},
   "outputs": [
    {
     "name": "stderr",
     "output_type": "stream",
     "text": [
      "┌ Info: E-GRAPH TIMEOUT\n",
      "└ @ Metatheory.EGraphs /home/philip/.julia/packages/Metatheory/NHA4z/src/EGraphs/saturation.jl:117\n"
     ]
    },
    {
     "data": {
      "text/plain": [
       ":(((cdag * c) * (cdag * c + 1) + 1 * (cdag * c + 1)) + c * (1cdag))"
      ]
     },
     "execution_count": 17,
     "metadata": {},
     "output_type": "execute_result"
    }
   ],
   "source": [
    "using Metatheory.EGraphs\n",
    "boson = @theory begin\n",
    "    (:c * :cdag) => :cdag * :c + 1 \n",
    "    a * (b + c) => (a * b) + (a * c)\n",
    "    (b + c) * a => (b * a) + (c * a)\n",
    "    #1 * x => x\n",
    "    #x * 1 => x\n",
    "    #x + x => 2x\n",
    "    (a * b) * c => a * (b * c)\n",
    "    a * (b * c) => (a * b) * c\n",
    "    #(a + b) + c => a + (b + c)\n",
    "    #a + (b + c) => (a + b) + c\n",
    "    #(a + b) => (b + a)\n",
    "end\n",
    "\n",
    "G = EGraph(Util.cleanast( :(c * c * cdag * cdag) ))\n",
    "saturate!(G,boson)\n",
    "extractor = addanalysis!(G, ExtractionAnalysis, astsize_inv)\n",
    "ex = extract!(G, extractor)"
   ]
  },
  {
   "cell_type": "code",
   "execution_count": 18,
   "metadata": {},
   "outputs": [
    {
     "name": "stderr",
     "output_type": "stream",
     "text": [
      "┌ Info: E-GRAPH TIMEOUT\n",
      "└ @ Metatheory.EGraphs /home/philip/.julia/packages/Metatheory/NHA4z/src/EGraphs/saturation.jl:117\n"
     ]
    },
    {
     "data": {
      "text/plain": [
       ":(c * ((cdag * c + 1) * cdag))"
      ]
     },
     "execution_count": 18,
     "metadata": {},
     "output_type": "execute_result"
    }
   ],
   "source": [
    "using Metatheory.EGraphs\n",
    "boson = @theory begin\n",
    "    (:c * :cdag) => :cdag * :c + 1 \n",
    "    (a * b) * c => a * (b * c)\n",
    "    a * (b * c) => (a * b) * c\n",
    "end\n",
    "\n",
    "G = EGraph(Util.cleanast(:(c * c * cdag * cdag) ))\n",
    "saturate!(G,boson)\n",
    "extractor = addanalysis!(G, ExtractionAnalysis, astsize_inv)\n",
    "ex = extract!(G, extractor)"
   ]
  },
  {
   "cell_type": "code",
   "execution_count": null,
   "metadata": {},
   "outputs": [],
   "source": [
    "using Metatheory.EGraphs\n",
    "boson = @theory begin\n",
    "    :c * :cdag => :cdag * :c + 1 \n",
    "    a * (b + c) => (a * b) + (a * c)\n",
    "    (b + c) * a => (b * a) + (c * a)\n",
    "    1 * x => x\n",
    "    (a * b) * c => a * (b * c)\n",
    "    a * (b * c) => (a * b) * c\n",
    "\n",
    "end\n",
    "\n",
    "G = EGraph(Util.cleanast( :(c * c * cdag * cdag) ))\n",
    "saturate!(G,boson, timeout=4)\n",
    "extractor = addanalysis!(G, ExtractionAnalysis, astsize_inv)\n",
    "ex = extract!(G, extractor)\n"
   ]
  },
  {
   "cell_type": "code",
   "execution_count": 37,
   "metadata": {},
   "outputs": [
    {
     "name": "stderr",
     "output_type": "stream",
     "text": [
      "┌ Info: E-GRAPH SATURATED\n",
      "└ @ Metatheory.EGraphs /home/philip/.julia/packages/Metatheory/NHA4z/src/EGraphs/saturation.jl:116\n"
     ]
    },
    {
     "data": {
      "text/plain": [
       ":x"
      ]
     },
     "execution_count": 37,
     "metadata": {},
     "output_type": "execute_result"
    }
   ],
   "source": [
    "using Metatheory.EGraphs\n",
    "boson = @theory begin\n",
    "    1 * x => x\n",
    "end\n",
    "\n",
    "G = EGraph(Util.cleanast( :(1 * x) ))\n",
    "saturate!(G,boson, timeout=100)\n",
    "\n",
    "extractor = addanalysis!(G, ExtractionAnalysis, astsize)\n",
    "#extractor\n",
    "#println(G)\n",
    "ex = extract!(G, extractor)"
   ]
  },
  {
   "cell_type": "markdown",
   "metadata": {},
   "source": [
    "What if you put equations in the egraph.\n",
    "\n",
    "= is a node in the egraph. Reflection.\n",
    "Very compelling in terms of it's ouroboros nature\n",
    "Reminds me of that dijrksta stuff. Leino had links and the scholten textbook\n",
    "Eindhoven reasoning.\n",
    "\n",
    "\n",
    "And then higher reflection. That's kind of funny.\n",
    "\n",
    "\n",
    "\n",
    "Equation matching\n",
    "Find an equation in the egraph\n",
    "a * b = d  ==>   a = d / b\n",
    "\n",
    "I guess you could also have multi equation matching?\n",
    "x = y = z or something\n",
    "or\n",
    "x = y and z = w   =>\n",
    "\n",
    "Is tis again horn clauses?\n",
    "x = y, b = x => q = r\n",
    "\n",
    "or equation guards.\n",
    "if x = y then z => w\n",
    "\n",
    "\n",
    "\n",
    "\n",
    "Using meta theory to factor polynomials\n",
    "\n",
    "\n",
    "egg has lambda calc,. integral, differntiation exmaples.\n",
    "Symbolic utils has similar\n",
    "\n"
   ]
  },
  {
   "cell_type": "code",
   "execution_count": 63,
   "metadata": {},
   "outputs": [
    {
     "data": {
      "text/plain": [
       "3-element Array{Rule,1}:\n",
       " Rule(:(sum(sum(a(0) * b(1))) => sum(a(0)) * sum(b(0))))\n",
       "\n",
       " Rule(:(sum(sum(a(0) * b(1))) => sum(sum(a(1) * b(0)))))\n",
       "\n",
       " Rule(:(sum(c::Number * x) => c * sum(x)))\n"
      ]
     },
     "execution_count": 63,
     "metadata": {},
     "output_type": "execute_result"
    }
   ],
   "source": [
    "sum_examp = @theory begin\n",
    "   sum( sum(a(0) * b(1))) =>  sum(a(0)) * sum(b(0)) # factoring\n",
    "   sum( sum(a(0) * b(1))) => sum( sum(a(1) * b(0))) # permute sum symbol\n",
    "   sum(c::Number *  x) => c * sum(x)\n",
    "end\n",
    "\n",
    "z = EGraph(:(fib($(BigInt(100)))))\n",
    "@time saturate!(z, fibo; timeout=7000)\n",
    "extractor = addanalysis!(z, ExtractionAnalysis, astsize)\n",
    "ex = extract!(z, extractor)\n"
   ]
  },
  {
   "cell_type": "markdown",
   "metadata": {},
   "source": [
    "sum_examp = @theory begin\n",
    "   sum( sum(x * y)) =guard : x and y indices split>    sum(x) * sum(lower(y)) # factoring\n",
    "   sum( sum(a(0) * b(1))) => sum( sum(a(1) * b(0))) # permute sum symbol\n",
    "   sum(c::Number *  x) => c * sum(x)\n",
    "end\n",
    "\n",
    "But a categorical prsentation \n",
    "\n",
    "Not vene categorical. Just the usual kron algebra\n",
    "sum_examp = @theory begin\n",
    "   A ⊗ (B ⊗ C) <=>  (A ⊗ B) ⊗ C)  # kron rearragement\n",
    "   (A * B) * C <=>  A * (B * C)   # Matric assoc better directions\n",
    "   A * C + B * C <=>  (A + B) * C # save a loop\n",
    "   (A ⊗ B) * (C ⊗ D) => (A * C) ⊗ (B ⊗ D) # very very good factorization    \n",
    "end"
   ]
  },
  {
   "cell_type": "code",
   "execution_count": null,
   "metadata": {},
   "outputs": [],
   "source": [
    "\n",
    "sum_examp = @theory begin\n",
    "   A ⊗ (B ⊗ C) <=>  (A ⊗ B) ⊗ C)  # kron rearragement\n",
    "   (A * B) * C <=>  A * (B * C)   # Matric assoc better directions\n",
    "   A * C + B * C <=>  (A + B) * C # save a loop\n",
    "   (A ⊗ B) * (C ⊗ D) => (A * C) ⊗ (B ⊗ D) # very very good factorization    \n",
    "end"
   ]
  },
  {
   "cell_type": "markdown",
   "metadata": {},
   "source": [
    "Point free co-end calculus\n",
    "\n",
    "\n"
   ]
  },
  {
   "cell_type": "code",
   "execution_count": 64,
   "metadata": {},
   "outputs": [
    {
     "ename": "LoadError",
     "evalue": "syntax: \">\" is not a unary operator",
     "output_type": "error",
     "traceback": [
      "syntax: \">\" is not a unary operator",
      "",
      "Stacktrace:",
      " [1] top-level scope at In[64]:1",
      " [2] include_string(::Function, ::Module, ::String, ::String) at ./loading.jl:1091"
     ]
    }
   ],
   "source": [
    ":(x \\= y)"
   ]
  },
  {
   "cell_type": "code",
   "execution_count": 65,
   "metadata": {},
   "outputs": [
    {
     "data": {
      "text/plain": [
       ":(id(A))"
      ]
     },
     "execution_count": 65,
     "metadata": {},
     "output_type": "execute_result"
    }
   ],
   "source": [
    ":(id(A))"
   ]
  },
  {
   "cell_type": "code",
   "execution_count": 67,
   "metadata": {},
   "outputs": [
    {
     "data": {
      "text/plain": [
       ":(f(a, a))"
      ]
     },
     "execution_count": 67,
     "metadata": {},
     "output_type": "execute_result"
    }
   ],
   "source": [
    "Expr(:call, :f, :a, :a)"
   ]
  },
  {
   "cell_type": "code",
   "execution_count": 75,
   "metadata": {},
   "outputs": [
    {
     "data": {
      "text/plain": [
       "@type_stuff (macro with 1 method)"
      ]
     },
     "execution_count": 75,
     "metadata": {},
     "output_type": "execute_result"
    }
   ],
   "source": [
    "type_stuff(e::Symbol) = :(typ($e, sym_dummy))\n",
    "type_stuff(e::Expr) = :( typ(  $( Expr(:call, e.args[1] , [type_stuff(a) for a in e.args[2:end]]... ))  , typedummy) )  \n",
    "\n",
    "macro type_stuff(e)\n",
    "    type_stuff(e)\n",
    "end\n"
   ]
  },
  {
   "cell_type": "code",
   "execution_count": 76,
   "metadata": {},
   "outputs": [
    {
     "data": {
      "text/plain": [
       ":(typ(f(typ(a, sym_dummy), typ(b, sym_dummy)), typedummy))"
      ]
     },
     "execution_count": 76,
     "metadata": {},
     "output_type": "execute_result"
    }
   ],
   "source": [
    "type_stuff( :(f(a,b)) )"
   ]
  },
  {
   "cell_type": "code",
   "execution_count": null,
   "metadata": {},
   "outputs": [],
   "source": [
    "#https://github.com/AlgebraicJulia/Catlab.jl/blob/master/src/theories/Monoidal.jl\n",
    "\n",
    "@theory MonoidalCategory{Ob,Hom} <: Category{Ob,Hom} begin\n",
    "  otimes(A::Ob, B::Ob)::Ob\n",
    "  otimes(f::(A → B), g::(C → D))::((A ⊗ C) → (B ⊗ D)) ⊣\n",
    "    (A::Ob, B::Ob, C::Ob, D::Ob)\n",
    "  @op (⊗) := otimes\n",
    "  munit()::Ob\n",
    "\n",
    "  # Monoid axioms.\n",
    "  (A ⊗ B) ⊗ C == A ⊗ (B ⊗ C) ⊣ (A::Ob, B::Ob, C::Ob)\n",
    "  A ⊗ munit() == A ⊣ (A::Ob)\n",
    "  munit() ⊗ A == A ⊣ (A::Ob)\n",
    "  (f ⊗ g) ⊗ h == f ⊗ (g ⊗ h) ⊣ (A::Ob, B::Ob, C::Ob, X::Ob, Y::Ob, Z::Ob,\n",
    "                                f::(A → X), g::(B → Y), h::(C → Z))\n",
    "\n",
    "  # Functorality axioms.\n",
    "  ((f ⊗ g) ⋅ (h ⊗ k) == (f ⋅ h) ⊗ (g ⋅ k)\n",
    "    ⊣ (A::Ob, B::Ob, C::Ob, X::Ob, Y::Ob, Z::Ob,\n",
    "       f::(A → B), h::(B → C), g::(X → Y), k::(Y → Z)))\n",
    "  id(A ⊗ B) == id(A) ⊗ id(B) ⊣ (A::Ob, B::Ob)\n",
    "end"
   ]
  },
  {
   "cell_type": "code",
   "execution_count": 124,
   "metadata": {},
   "outputs": [
    {
     "data": {
      "text/plain": [
       "6-element Array{Clause,1}:\n",
       " typ(ob, typ)\n",
       " typ(hom(A, B), typ) <<= typ(A, ob) & typ(B, ob)\n",
       " typ(id(A), hom(A, A))\n",
       " typ(comp(F, G), hom(A, C)) <<= typ(F, hom(A, B)) & typ(G, hom(B, C))\n",
       " typ(otimes(A, B), ob) <<= typ(A, ob) & typ(B, ob)\n",
       " typ(otimes(F, G), hom(otimes(A, B), otimes(C, D))) <<= typ(F, hom(A, C)) & typ(G, hom(B, D))"
      ]
     },
     "execution_count": 124,
     "metadata": {},
     "output_type": "execute_result"
    }
   ],
   "source": [
    "using Julog\n",
    "clauses = @julog [\n",
    "  typ(ob, typ) <<= true,\n",
    "  typ(hom(A,B), typ) <<= typ(A, ob) & typ(B, ob), \n",
    "  typ(id(A), hom(A,A)) <<= true,\n",
    "  typ(comp(F,G), hom(A,C)) <<= typ(F, hom(A,B)) & typ(G, hom(B,C)),\n",
    "  typ(otimes(A,B), ob) <<= typ(A,ob) & typ(B, ob),\n",
    "  typ(otimes(F,G), hom(otimes(A,B), otimes(C,D))) <<= typ(F, hom(A,C)) & typ(G,hom(B,D)) \n",
    "]\n",
    "# hmm, I'm supressing all the typ(a,ob).\n",
    "goals = @julog [typ(id(a), T) , typ(comp(id(A), id(B)), T2), typ(otimes(id(C),id(D)), T3 )];\n",
    "sat, subst = resolve(goals, clauses);\n",
    "subst[1][Var(:T)]\n",
    "subst\n",
    "#subst[Var(:T2)]\n",
    "#dump(Var(:T))\n",
    "clauses"
   ]
  },
  {
   "cell_type": "code",
   "execution_count": 72,
   "metadata": {},
   "outputs": [
    {
     "name": "stdout",
     "output_type": "stream",
     "text": [
      "Compound\n",
      "  name: Symbol typ\n",
      "  args: Array{Term}((2,))\n",
      "    1: Compound\n",
      "      name: Symbol id\n",
      "      args: Array{Term}((1,))\n",
      "        1: Const\n",
      "          name: Symbol a\n",
      "    2: Const\n",
      "      name: Symbol a\n"
     ]
    }
   ],
   "source": [
    "t = @julog typ(id(a),a)\n",
    "dump(t)"
   ]
  },
  {
   "cell_type": "markdown",
   "metadata": {},
   "source": [
    "## Type Inference"
   ]
  },
  {
   "cell_type": "code",
   "execution_count": 2,
   "metadata": {
    "collapsed": true,
    "jupyter": {
     "outputs_hidden": true
    }
   },
   "outputs": [
    {
     "name": "stdout",
     "output_type": "stream",
     "text": [
      "hom(a, a)\n",
      "hom(a, a)\n",
      "hom(a ⊗ b, b ⊗ a)\n",
      "hom(a ⊗ b, b ⊗ a)\n",
      "ob\n",
      "hom(a, munit())\n",
      "hom(a, munit() ⊗ munit())\n",
      "hom(a, b)\n",
      "hom((a ⊗ b) ⊗ c, b ⊗ (c ⊗ a))\n",
      "hom(a, b ⊗ c)\n",
      "hom(c ⊗ d, c)\n",
      "hom(c ⊗ d, d)\n",
      "hom(a, c)\n",
      "hom(a, b)\n",
      "hom(a, b ⊗ b)\n",
      "hom(a ⊗ x, c ⊗ z)\n",
      "hom(a ⊗ (c ⊗ m), b ⊗ (d ⊗ n))\n"
     ]
    }
   ],
   "source": [
    "#Version 1\n",
    "using Julog\n",
    "\n",
    "unjulog(e::Compound) = Expr(:call, e.name, map(unjulog, e.args)...)\n",
    "unjulog(e::Const) = e.name\n",
    "\n",
    "julog(e) = eval(:(@julog $e))\n",
    "julog_fact(e) = julog( :($e <<= true) )\n",
    "\n",
    "function infer_type( e, hyps )\n",
    "   # println(e)\n",
    "\n",
    "  hyps = [julog_fact(  :(typ($v, $t  ))) for (v,t) in hyps]\n",
    "  # https://github.com/AlgebraicJulia/Catlab.jl/blob/ce2fde9c63a8aab65cf2a7697f43cd24e5e00b3a/src/theories/Monoidal.jl#L27\n",
    "    \n",
    "  clauses = @julog [\n",
    "      typ(typ,typ) <<= true, #hmmmm \n",
    "      typ(ob, typ) <<= true,\n",
    "      typ(hom(A,B), typ) <<= typ(A, ob) & typ(B, ob), \n",
    "      typ(id(A), hom(A,A)) <<= typ(A,ob),\n",
    "      typ(F ⋅ G, hom(A,C)) <<= typ(F, hom(A,B)) & typ(G, hom(B1,C)) & typ(A,ob) & typ(B, ob) & typ(B1, ob) & typ(C,ob), # some rules do not naively type check\n",
    "      typ(A ⊗ B, ob) <<= typ(A,ob) & typ(B, ob),\n",
    "      typ(F ⊗ G, hom(A ⊗ B, C ⊗ D) ) <<= typ(F, hom(A,C)) & typ(G,hom(B,D)) & typ(A,ob) & typ(B, ob) & typ(C,ob) & typ(D, ob),\n",
    "      typ(munit(), ob) <<= true,\n",
    "      typ(σ(A,B), hom(A ⊗ B, B ⊗ A)) <<= typ(A,ob) & typ(B,ob),\n",
    "      typ(⋄(A), hom(A, munit())) <<= typ(A,ob), # delete\n",
    "      typ(Δ(A), hom(A, A ⊗ A)) <<= typ(A,ob), # mcopy\n",
    "      typ(pair(F,G), hom(A, B ⊗ C)) <<= typ(F, hom(A,B)) & typ(G, hom(A,C)) & typ(A,ob) & typ(B,ob) & typ(C,ob),\n",
    "      typ(proj1(A,B), hom(A ⊗ B, A)) <<= typ(A, ob) & typ(B, ob), \n",
    "      typ(proj2(A,B), hom(A ⊗ B, B)) <<= typ(A, ob) & typ(B, ob)\n",
    "    ]\n",
    "    #println(\"foo\")\n",
    "    goals  = [  Compound(:typ, [ julog(e) , Var(:T) ])  ]\n",
    "    clauses = [hyps ; clauses]\n",
    "\n",
    "    sat, subst = resolve( goals, clauses);\n",
    "    #println(\"bar\")\n",
    "    if sat \n",
    "        return unjulog(subst[1][Var(:T)]) \n",
    "    else\n",
    "        println(\"Type Inferrence Failure $e, ctx: $hyps\")\n",
    "    end\n",
    "end\n",
    "\n",
    "ctx = Dict(\n",
    "    :a => :ob,   \n",
    "    :b => :ob, \n",
    "    :c => :ob,\n",
    "    :d => :ob,\n",
    "    :m => :ob,\n",
    "    :n => :ob,\n",
    "    :x => :ob,\n",
    "    :y => :ob,\n",
    "    :z => :ob,\n",
    "    \n",
    "           \n",
    "    :g => :(hom(b,c)), \n",
    "    :f => :(hom(a,b)),\n",
    "    :h => :(hom(c,d)),\n",
    "    :k => :(hom(a,c)),\n",
    "    :j => :(hom(m,n)),\n",
    "    :p => :(hom(x,y)),\n",
    "    :q => :(hom(y,z))\n",
    "    ) \n",
    "\n",
    "examples = [\n",
    "    :(id(a))\n",
    "    :(id(a) ⋅ id(a))\n",
    "    :(σ(a,b))\n",
    "    :(σ(a,b) ⋅ (id(b) ⊗ id(a)))\n",
    "    :(munit() ⊗ a)\n",
    "    :( ⋄(a) ⋅ id(munit()) )\n",
    "    :( ⋄(a) ⋅ id(munit()) ⋅ Δ(munit()))\n",
    "    :(f ⋅ id(b))\n",
    "    :( (σ(a,b) ⊗ id(c)) ⋅ ( id(b) ⊗ σ(a,c) ))\n",
    "    :(pair(f,k))\n",
    "    :(proj1(c,d))\n",
    "    :(proj2(c,d))\n",
    "    :k\n",
    "    :f\n",
    "    :(pair(f,f))\n",
    "    :( (f ⊗ p) ⋅ (g ⊗ q) )\n",
    "    :(f ⊗ (h ⊗ j))\n",
    "]\n",
    "\n",
    "for e in examples\n",
    "    println(infer_type(e, ctx ))\n",
    "end\n"
   ]
  },
  {
   "cell_type": "markdown",
   "metadata": {},
   "source": [
    "## Tagging and Untagging"
   ]
  },
  {
   "cell_type": "code",
   "execution_count": 3,
   "metadata": {},
   "outputs": [
    {
     "name": "stdout",
     "output_type": "stream",
     "text": [
      "hom(hom(f, ob(a), ob(b)) ⋅ hom(id(ob(b)), ob(b), ob(b)), ob(a), ob(b))\n",
      "hom(hom(hom(g, ob(b), ob(c)) ⋅ hom(id(ob(c)), ob(c), ob(c)), ob(b), ob(c)) ⋅ hom(id(ob(c)), ob(c), ob(c)), ob(b), ob(c))\n",
      "hom(hom(hom(id(ob(a)), ob(a), ob(a)) ⋅ hom(id(ob(a)), ob(a), ob(a)), ob(a), ob(a)) ⋅ hom(f, ob(a), ob(b)), ob(a), ob(b))\n",
      "hom(Δ(ob(a)), ob(a), ob(ob(a) ⊗ ob(a)))\n"
     ]
    },
    {
     "data": {
      "text/plain": [
       "julify (generic function with 1 method)"
      ]
     },
     "execution_count": 3,
     "metadata": {},
     "output_type": "execute_result"
    }
   ],
   "source": [
    "\n",
    "\n",
    "function type_tag(e::Symbol, hyps) \n",
    "    typ = infer_type(e, hyps)\n",
    "    if typ == :ob\n",
    "        return :( ob(  $e )) \n",
    "    elseif typ.args[1] == :hom\n",
    "        a = type_tag(typ.args[2], hyps)\n",
    "        b = type_tag(typ.args[3], hyps)\n",
    "        return :( hom(  $e , $a, $b )) \n",
    "    else\n",
    "        println(\"Unexpected type $tagged_type in type_tag\")\n",
    "    end\n",
    "end\n",
    "function type_tag(e::Expr, hyps)\n",
    "    tagged_args = [type_tag(a, hyps) for a in e.args[2:end]]\n",
    "    e1 = Expr(:call, e.args[1] , tagged_args... )\n",
    "    typ = infer_type(e, hyps)\n",
    "    if typ == :ob\n",
    "        return :( ob(  $e1 )) \n",
    "    elseif typ.args[1] == :hom\n",
    "        a = type_tag(typ.args[2], hyps)\n",
    "        b = type_tag(typ.args[3], hyps)\n",
    "        return :( hom(  $e1 , $a, $b )) \n",
    "    else\n",
    "        println(\"Unexpected type $tagged_type in type_tag\")\n",
    "    end\n",
    "end\n",
    "\n",
    "function untag( e::Expr )\n",
    "    if e.args[1] == :hom\n",
    "        untag(e.args[2])\n",
    "    elseif(e.args[1] == :ob)\n",
    "        untag(e.args[2])\n",
    "    else\n",
    "        Expr(e.head, [untag(e) for e in e.args]...)\n",
    "    end\n",
    "end\n",
    "\n",
    "untag(e::Symbol) = e\n",
    "\n",
    "\n",
    "examples = [\n",
    "    :(f ⋅ id(b)) \n",
    "    :(g ⋅ id(c) ⋅ id(c))\n",
    "    :(id(a) ⋅ id(a) ⋅ f)\n",
    "    :(Δ(a))\n",
    "]\n",
    "\n",
    "#quote_lits(e::Expr) = Expr(e.head, e.args[1], [quote_lits(a) for a in e.args[2:end]]...)\n",
    "#quote_lits(e::Symbol) = QuoteNode(e)\n",
    "for e in examples\n",
    "    @assert untag(type_tag(e, ctx)) == e\n",
    "    println(type_tag(e, ctx))\n",
    "end\n",
    "\n",
    "# export the a set of rules into julia code that will produce it.\n",
    "function julify(rules)\n",
    "    rules = join([\"\\t$(r.left) == $(r.right)\" for r in rules], '\\n')\n",
    "    \"\"\"cat_theory = @theory begin\n",
    "    $rules\n",
    "    end\n",
    "    \"\"\"\n",
    "end\n"
   ]
  },
  {
   "cell_type": "markdown",
   "metadata": {},
   "source": [
    "## Rule"
   ]
  },
  {
   "cell_type": "code",
   "execution_count": 23,
   "metadata": {},
   "outputs": [
    {
     "name": "stdout",
     "output_type": "stream",
     "text": [
      "RULE\n",
      "hom(hom(f, ob(a), ob(b)) ⋅ hom(id(ob(b)), ob(b), ob(b)), ob(a), ob(b))\n",
      "f ⋅ id(b)\n",
      "hom(f, ob(a), ob(b))\n",
      "f\n",
      "RULE\n",
      "hom(hom(id(ob(a)), ob(a), ob(a)) ⋅ hom(f, ob(a), ob(b)), ob(a), ob(b))\n",
      "id(a) ⋅ f\n",
      "hom(f, ob(a), ob(b))\n",
      "f\n",
      "RULE\n",
      "ob(ob(a) ⊗ ob(munit()))\n",
      "a ⊗ munit()\n",
      "ob(a)\n",
      "a\n",
      "RULE\n",
      "ob(ob(munit()) ⊗ ob(a))\n",
      "munit() ⊗ a\n",
      "ob(a)\n",
      "a\n",
      "RULE\n",
      "hom(hom(f, ob(a), ob(b)) ⋅ hom(hom(g, ob(b), ob(c)) ⋅ hom(h, ob(c), ob(d)), ob(b), ob(d)), ob(a), ob(d))\n",
      "f ⋅ (g ⋅ h)\n",
      "hom(hom(hom(f, ob(a), ob(b)) ⋅ hom(g, ob(b), ob(c)), ob(a), ob(c)) ⋅ hom(h, ob(c), ob(d)), ob(a), ob(d))\n",
      "(f ⋅ g) ⋅ h\n",
      "RULE\n",
      "ob(ob(a) ⊗ ob(ob(b) ⊗ ob(c)))\n",
      "a ⊗ (b ⊗ c)\n",
      "ob(ob(ob(a) ⊗ ob(b)) ⊗ ob(c))\n",
      "(a ⊗ b) ⊗ c\n",
      "RULE\n",
      "hom(hom(f, ob(a), ob(b)) ⊗ hom(hom(h, ob(c), ob(d)) ⊗ hom(j, ob(m), ob(n)), ob(ob(c) ⊗ ob(m)), ob(ob(d) ⊗ ob(n))), ob(ob(a) ⊗ ob(ob(c) ⊗ ob(m))), ob(ob(b) ⊗ ob(ob(d) ⊗ ob(n))))\n",
      "f ⊗ (h ⊗ j)\n",
      "hom(hom(hom(f, ob(a), ob(b)) ⊗ hom(h, ob(c), ob(d)), ob(ob(a) ⊗ ob(c)), ob(ob(b) ⊗ ob(d))) ⊗ hom(j, ob(m), ob(n)), ob(ob(ob(a) ⊗ ob(c)) ⊗ ob(m)), ob(ob(ob(b) ⊗ ob(d)) ⊗ ob(n)))\n",
      "(f ⊗ h) ⊗ j\n",
      "RULE\n",
      "hom(id(ob(ob(a) ⊗ ob(b))), ob(ob(a) ⊗ ob(b)), ob(ob(a) ⊗ ob(b)))\n",
      "id(a ⊗ b)\n",
      "hom(hom(id(ob(a)), ob(a), ob(a)) ⊗ hom(id(ob(b)), ob(b), ob(b)), ob(ob(a) ⊗ ob(b)), ob(ob(a) ⊗ ob(b)))\n",
      "id(a) ⊗ id(b)\n",
      "RULE\n",
      "hom(hom(hom(f, ob(a), ob(b)) ⊗ hom(p, ob(x), ob(y)), ob(ob(a) ⊗ ob(x)), ob(ob(b) ⊗ ob(y))) ⋅ hom(hom(g, ob(b), ob(c)) ⊗ hom(q, ob(y), ob(z)), ob(ob(b) ⊗ ob(y)), ob(ob(c) ⊗ ob(z))), ob(ob(a) ⊗ ob(x)), ob(ob(c) ⊗ ob(z)))\n",
      "(f ⊗ p) ⋅ (g ⊗ q)\n",
      "hom(hom(hom(f, ob(a), ob(b)) ⋅ hom(g, ob(b), ob(c)), ob(a), ob(c)) ⊗ hom(hom(p, ob(x), ob(y)) ⋅ hom(q, ob(y), ob(z)), ob(x), ob(z)), ob(ob(a) ⊗ ob(x)), ob(ob(c) ⊗ ob(z)))\n",
      "(f ⋅ g) ⊗ (p ⋅ q)\n",
      "RULE\n",
      "hom(hom(σ(ob(a), ob(b)), ob(ob(a) ⊗ ob(b)), ob(ob(b) ⊗ ob(a))) ⋅ hom(σ(ob(b), ob(a)), ob(ob(b) ⊗ ob(a)), ob(ob(a) ⊗ ob(b))), ob(ob(a) ⊗ ob(b)), ob(ob(a) ⊗ ob(b)))\n",
      "σ(a, b) ⋅ σ(b, a)\n",
      "hom(id(ob(ob(a) ⊗ ob(b))), ob(ob(a) ⊗ ob(b)), ob(ob(a) ⊗ ob(b)))\n",
      "id(a ⊗ b)\n",
      "RULE\n",
      "hom(hom(hom(σ(ob(a), ob(b)), ob(ob(a) ⊗ ob(b)), ob(ob(b) ⊗ ob(a))) ⊗ hom(id(ob(c)), ob(c), ob(c)), ob(ob(ob(a) ⊗ ob(b)) ⊗ ob(c)), ob(ob(ob(b) ⊗ ob(a)) ⊗ ob(c))) ⋅ hom(hom(id(ob(b)), ob(b), ob(b)) ⊗ hom(σ(ob(a), ob(c)), ob(ob(a) ⊗ ob(c)), ob(ob(c) ⊗ ob(a))), ob(ob(b) ⊗ ob(ob(a) ⊗ ob(c))), ob(ob(b) ⊗ ob(ob(c) ⊗ ob(a)))), ob(ob(ob(a) ⊗ ob(b)) ⊗ ob(c)), ob(ob(b) ⊗ ob(ob(c) ⊗ ob(a))))\n",
      "(σ(a, b) ⊗ id(c)) ⋅ (id(b) ⊗ σ(a, c))\n",
      "hom(σ(ob(a), ob(ob(b) ⊗ ob(c))), ob(ob(a) ⊗ ob(ob(b) ⊗ ob(c))), ob(ob(ob(b) ⊗ ob(c)) ⊗ ob(a)))\n",
      "σ(a, b ⊗ c)\n",
      "RULE\n",
      "hom(hom(hom(id(ob(a)), ob(a), ob(a)) ⊗ hom(σ(ob(b), ob(c)), ob(ob(b) ⊗ ob(c)), ob(ob(c) ⊗ ob(b))), ob(ob(a) ⊗ ob(ob(b) ⊗ ob(c))), ob(ob(a) ⊗ ob(ob(c) ⊗ ob(b)))) ⋅ hom(hom(σ(ob(a), ob(c)), ob(ob(a) ⊗ ob(c)), ob(ob(c) ⊗ ob(a))) ⊗ hom(id(ob(b)), ob(b), ob(b)), ob(ob(ob(a) ⊗ ob(c)) ⊗ ob(b)), ob(ob(ob(c) ⊗ ob(a)) ⊗ ob(b))), ob(ob(a) ⊗ ob(ob(b) ⊗ ob(c))), ob(ob(ob(c) ⊗ ob(a)) ⊗ ob(b)))\n",
      "(id(a) ⊗ σ(b, c)) ⋅ (σ(a, c) ⊗ id(b))\n",
      "hom(σ(ob(ob(a) ⊗ ob(b)), ob(c)), ob(ob(ob(a) ⊗ ob(b)) ⊗ ob(c)), ob(ob(c) ⊗ ob(ob(a) ⊗ ob(b))))\n",
      "σ(a ⊗ b, c)\n",
      "RULE\n",
      "hom(hom(hom(f, ob(a), ob(b)) ⊗ hom(h, ob(c), ob(d)), ob(ob(a) ⊗ ob(c)), ob(ob(b) ⊗ ob(d))) ⋅ hom(σ(ob(b), ob(d)), ob(ob(b) ⊗ ob(d)), ob(ob(d) ⊗ ob(b))), ob(ob(a) ⊗ ob(c)), ob(ob(d) ⊗ ob(b)))\n",
      "(f ⊗ h) ⋅ σ(b, d)\n",
      "hom(hom(σ(ob(a), ob(c)), ob(ob(a) ⊗ ob(c)), ob(ob(c) ⊗ ob(a))) ⋅ hom(hom(h, ob(c), ob(d)) ⊗ hom(f, ob(a), ob(b)), ob(ob(c) ⊗ ob(a)), ob(ob(d) ⊗ ob(b))), ob(ob(a) ⊗ ob(c)), ob(ob(d) ⊗ ob(b)))\n",
      "σ(a, c) ⋅ (h ⊗ f)\n",
      "RULE\n",
      "hom(hom(Δ(ob(a)), ob(a), ob(ob(a) ⊗ ob(a))) ⋅ hom(hom((⋄)(ob(a)), ob(a), ob(munit())) ⊗ hom(id(ob(a)), ob(a), ob(a)), ob(ob(a) ⊗ ob(a)), ob(ob(munit()) ⊗ ob(a))), ob(a), ob(ob(munit()) ⊗ ob(a)))\n",
      "Δ(a) ⋅ ((⋄)(a) ⊗ id(a))\n",
      "hom(id(ob(a)), ob(a), ob(a))\n",
      "id(a)\n",
      "RULE\n",
      "hom(hom(Δ(ob(a)), ob(a), ob(ob(a) ⊗ ob(a))) ⋅ hom(hom(id(ob(a)), ob(a), ob(a)) ⊗ hom((⋄)(ob(a)), ob(a), ob(munit())), ob(ob(a) ⊗ ob(a)), ob(ob(a) ⊗ ob(munit()))), ob(a), ob(ob(a) ⊗ ob(munit())))\n",
      "Δ(a) ⋅ (id(a) ⊗ (⋄)(a))\n",
      "hom(id(ob(a)), ob(a), ob(a))\n",
      "id(a)\n",
      "RULE\n",
      "hom(hom(Δ(ob(a)), ob(a), ob(ob(a) ⊗ ob(a))) ⋅ hom(σ(ob(a), ob(a)), ob(ob(a) ⊗ ob(a)), ob(ob(a) ⊗ ob(a))), ob(a), ob(ob(a) ⊗ ob(a)))\n",
      "Δ(a) ⋅ σ(a, a)\n",
      "hom(Δ(ob(a)), ob(a), ob(ob(a) ⊗ ob(a)))\n",
      "Δ(a)\n",
      "RULE\n",
      "hom(hom(hom(Δ(ob(a)), ob(a), ob(ob(a) ⊗ ob(a))) ⊗ hom(Δ(ob(b)), ob(b), ob(ob(b) ⊗ ob(b))), ob(ob(a) ⊗ ob(b)), ob(ob(ob(a) ⊗ ob(a)) ⊗ ob(ob(b) ⊗ ob(b)))) ⋅ hom(hom(hom(id(ob(a)), ob(a), ob(a)) ⊗ hom(σ(ob(a), ob(b)), ob(ob(a) ⊗ ob(b)), ob(ob(b) ⊗ ob(a))), ob(ob(a) ⊗ ob(ob(a) ⊗ ob(b))), ob(ob(a) ⊗ ob(ob(b) ⊗ ob(a)))) ⊗ hom(id(ob(b)), ob(b), ob(b)), ob(ob(ob(a) ⊗ ob(ob(a) ⊗ ob(b))) ⊗ ob(b)), ob(ob(ob(a) ⊗ ob(ob(b) ⊗ ob(a))) ⊗ ob(b))), ob(ob(a) ⊗ ob(b)), ob(ob(ob(a) ⊗ ob(ob(b) ⊗ ob(a))) ⊗ ob(b)))\n",
      "(Δ(a) ⊗ Δ(b)) ⋅ ((id(a) ⊗ σ(a, b)) ⊗ id(b))\n",
      "hom(Δ(ob(ob(a) ⊗ ob(b))), ob(ob(a) ⊗ ob(b)), ob(ob(ob(a) ⊗ ob(b)) ⊗ ob(ob(a) ⊗ ob(b))))\n",
      "Δ(a ⊗ b)\n",
      "RULE\n",
      "hom(hom(Δ(ob(a)), ob(a), ob(ob(a) ⊗ ob(a))) ⋅ hom(hom(Δ(ob(a)), ob(a), ob(ob(a) ⊗ ob(a))) ⊗ hom(id(ob(a)), ob(a), ob(a)), ob(ob(a) ⊗ ob(a)), ob(ob(ob(a) ⊗ ob(a)) ⊗ ob(a))), ob(a), ob(ob(ob(a) ⊗ ob(a)) ⊗ ob(a)))\n",
      "Δ(a) ⋅ (Δ(a) ⊗ id(a))\n",
      "hom(hom(Δ(ob(a)), ob(a), ob(ob(a) ⊗ ob(a))) ⋅ hom(hom(id(ob(a)), ob(a), ob(a)) ⊗ hom(Δ(ob(a)), ob(a), ob(ob(a) ⊗ ob(a))), ob(ob(a) ⊗ ob(a)), ob(ob(a) ⊗ ob(ob(a) ⊗ ob(a)))), ob(a), ob(ob(a) ⊗ ob(ob(a) ⊗ ob(a))))\n",
      "Δ(a) ⋅ (id(a) ⊗ Δ(a))\n",
      "RULE\n",
      "hom((⋄)(ob(ob(a) ⊗ ob(b))), ob(ob(a) ⊗ ob(b)), ob(munit()))\n",
      "(⋄)(a ⊗ b)\n",
      "hom(hom((⋄)(ob(a)), ob(a), ob(munit())) ⊗ hom((⋄)(ob(b)), ob(b), ob(munit())), ob(ob(a) ⊗ ob(b)), ob(ob(munit()) ⊗ ob(munit())))\n",
      "(⋄)(a) ⊗ (⋄)(b)\n",
      "RULE\n",
      "hom(Δ(ob(munit())), ob(munit()), ob(ob(munit()) ⊗ ob(munit())))\n",
      "Δ(munit())\n",
      "hom(id(ob(munit())), ob(munit()), ob(munit()))\n",
      "id(munit())\n",
      "RULE\n",
      "hom((⋄)(ob(munit())), ob(munit()), ob(munit()))\n",
      "(⋄)(munit())\n",
      "hom(id(ob(munit())), ob(munit()), ob(munit()))\n",
      "id(munit())\n",
      "RULE\n",
      "hom(pair(hom(f, ob(a), ob(b)), hom(k, ob(a), ob(c))), ob(a), ob(ob(b) ⊗ ob(c)))\n",
      "pair(f, k)\n",
      "hom(hom(Δ(ob(a)), ob(a), ob(ob(a) ⊗ ob(a))) ⋅ hom(hom(f, ob(a), ob(b)) ⊗ hom(k, ob(a), ob(c)), ob(ob(a) ⊗ ob(a)), ob(ob(b) ⊗ ob(c))), ob(a), ob(ob(b) ⊗ ob(c)))\n",
      "Δ(a) ⋅ (f ⊗ k)\n",
      "RULE\n",
      "hom(proj1(ob(a), ob(b)), ob(ob(a) ⊗ ob(b)), ob(a))\n",
      "proj1(a, b)\n",
      "hom(hom(id(ob(a)), ob(a), ob(a)) ⊗ hom((⋄)(ob(b)), ob(b), ob(munit())), ob(ob(a) ⊗ ob(b)), ob(ob(a) ⊗ ob(munit())))\n",
      "id(a) ⊗ (⋄)(b)\n",
      "RULE\n",
      "hom(proj2(ob(a), ob(b)), ob(ob(a) ⊗ ob(b)), ob(b))\n",
      "proj2(a, b)\n",
      "hom(hom((⋄)(ob(a)), ob(a), ob(munit())) ⊗ hom(id(ob(b)), ob(b), ob(b)), ob(ob(a) ⊗ ob(b)), ob(ob(munit()) ⊗ ob(b)))\n",
      "(⋄)(a) ⊗ id(b)\n",
      "RULE\n",
      "hom(hom(f, ob(a), ob(b)) ⋅ hom(Δ(ob(b)), ob(b), ob(ob(b) ⊗ ob(b))), ob(a), ob(ob(b) ⊗ ob(b)))\n",
      "f ⋅ Δ(b)\n",
      "hom(hom(Δ(ob(a)), ob(a), ob(ob(a) ⊗ ob(a))) ⋅ hom(hom(f, ob(a), ob(b)) ⊗ hom(f, ob(a), ob(b)), ob(ob(a) ⊗ ob(a)), ob(ob(b) ⊗ ob(b))), ob(a), ob(ob(b) ⊗ ob(b)))\n",
      "Δ(a) ⋅ (f ⊗ f)\n",
      "RULE\n",
      "hom(hom(f, ob(a), ob(b)) ⋅ hom((⋄)(ob(b)), ob(b), ob(munit())), ob(a), ob(munit()))\n",
      "f ⋅ (⋄)(b)\n",
      "hom((⋄)(ob(b)), ob(b), ob(munit()))\n",
      "(⋄)(b)\n"
     ]
    }
   ],
   "source": [
    "\n",
    "build_metatheory_rules(rules; mode=:equational) = map(lr-> \n",
    "    begin\n",
    "        l = lr[1]\n",
    "        r = lr[2]\n",
    "        tleft = type_tag(l, ctx)\n",
    "        tright = type_tag(r, ctx)\n",
    "        Rule(tleft, tright, :($l == $r) , mode, nothing)\n",
    "    end, \n",
    "    rules)\n",
    "# interesting. James put tagging into the rewrite rules.\n",
    "# https://github.com/AlgebraicJulia/Catlab.jl/blob/ce2fde9c63a8aab65cf2a7697f43cd24e5e00b3a/src/theories/Monoidal.jl#L83\n",
    "cat_rules_simp = [\n",
    "  :(f ⋅ id(b))    => :f\n",
    "  :(id(a) ⋅ f)    => :f\n",
    "\n",
    "  :(a ⊗ munit())    => :a\n",
    "  :(munit() ⊗ a)    => :a\n",
    "\n",
    "]\n",
    "\n",
    "cat_rules_shuffle = [\n",
    "  :(f ⋅ (g ⋅ h) ) => :((f ⋅ g) ⋅ h)\n",
    "  :(a ⊗ (b ⊗ c))  => :((a ⊗ b) ⊗ c)\n",
    "  :(f ⊗ (h ⊗ j))  => :((f ⊗ h) ⊗ j)\n",
    "  :(id(a ⊗ b)) =>    :(id(a) ⊗ id(b)) # arguably a simp\n",
    "  :( (f ⊗ p) ⋅ (g ⊗ q) ) => :( (f ⋅ g) ⊗ (p ⋅ q)  )\n",
    "]\n",
    "\n",
    "cat_rules = cat_rules_simp ∪ cat_rules_shuffle\n",
    " # :(p ⊗ (q ⊗ r))  => :((p ⊗ q) ⊗ r) #morphisms\n",
    "sym_rules_simp = [\n",
    "  :(σ(a,b) ⋅ σ(b,a)) => :(id(a ⊗ b))\n",
    "  :( (σ(a,b) ⊗ id(c)) ⋅ ( id(b) ⊗ σ(a,c) )) => :(σ(a, b ⊗ c))  # This rule does not naively type check\n",
    "  :(  ( id(a) ⊗ σ(b,c) ) ⋅ (σ(a,c) ⊗ id(b))) => :(σ(a ⊗ b , c)) \n",
    "\n",
    "]\n",
    "\n",
    "sym_rules_shuffle = [\n",
    "  :( (f ⊗ h) ⋅ σ(b,d)) => :(  σ(a,c) ⋅ (h ⊗ f )) \n",
    "]\n",
    "\n",
    "sym_rules = sym_rules_simp ∪ sym_rules_shuffle\n",
    "\n",
    "# https://github.com/AlgebraicJulia/Catlab.jl/blob/ce2fde9c63a8aab65cf2a7697f43cd24e5e00b3a/src/theories/Monoidal.jl#L127\n",
    "\n",
    "diag_rules_simp = [\n",
    "\n",
    "    :( Δ(a) ⋅ (⋄(a) ⊗ id(a))  ) => :( id(a) )\n",
    "    :( Δ(a) ⋅ (id(a) ⊗ ⋄(a))  ) => :( id(a) )\n",
    "    :( Δ(a) ⋅ σ(a,a)  ) => :( Δ(a) )\n",
    "    \n",
    "    # artguably a bizarre choice, but I know i need this\n",
    "      :( (Δ(a) ⊗ Δ(b))  ⋅ ( id(a) ⊗ σ(a,b) ⊗ id(b) ) )  => :( Δ(a ⊗ b)  ) \n",
    "\n",
    "\n",
    "\n",
    "]\n",
    "\n",
    "diag_rules_shuffle = [\n",
    "\n",
    "    :( Δ(a) ⋅ (Δ(a) ⊗ id(a))  ) => :( Δ(a) ⋅ (id(a) ⊗ Δ(a)) )\n",
    "    :( ⋄(a ⊗ b)  ) => :( ⋄(a) ⊗ ⋄(b) )\n",
    "    :( Δ(munit())  ) => :( id(munit()) )\n",
    "    :( ⋄(munit())  ) => :( id(munit()) )  \n",
    "]\n",
    "\n",
    "diag_rules = diag_rules_simp ∪ diag_rules_shuffle\n",
    "\n",
    "cart_rules_simp = [\n",
    "    :( pair(f,k)  ) => :( Δ(a) ⋅ (f ⊗ k) )\n",
    "    :( proj1(a,b)  ) => :( id(a) ⊗ ⋄(b) )\n",
    "    :( proj2(a,b) ) =>  :(  ⋄(a) ⊗ id(b) )\n",
    "\n",
    "  #  :( f ⋅ ⋄(b) ) =>    :(  ⋄(b)  ) # right to left has to invent f?\n",
    "    ]\n",
    "\n",
    "irrev_rule = [ :( f ⋅ ⋄(b) ) =>    :(  ⋄(b)  ) ]\n",
    "\n",
    "cart_rules_shuffle = [\n",
    "    :( f ⋅ Δ(b)  ) =>   :(  Δ(a) ⋅ (f ⊗ f)  )\n",
    "]\n",
    "\n",
    "cart_rules = cart_rules_simp ∪ cart_rules_shuffle ∪ irrev_rule\n",
    "\n",
    "raw_simp_rules = cat_rules_simp ∪ sym_rules_simp  ∪ diag_rules_simp ∪ cart_rules_simp\n",
    "raw_shuffle_rules =  cat_rules_shuffle ∪ sym_rules_shuffle  ∪ diag_rules_shuffle ∪ cart_rules_shuffle\n",
    "\n",
    "\n",
    "\n",
    "# split into:\n",
    "\n",
    "#cat_rules\n",
    "#monoidal_rules\n",
    "#symettric_rules\n",
    "\n",
    "\n",
    "# biredireciotnalize\n",
    "#rules = [rules ; invert(rules)]\n",
    "#rules =  cat_rules \n",
    "raw_rules = cat_rules ∪ sym_rules  ∪ diag_rules ∪ cart_rules\n",
    "#rules = rules ∪ [ r[2] => r[1] for r in rules]\n",
    "for rule in raw_rules\n",
    "    @assert untag(type_tag(rule[1], ctx)) == rule[1]\n",
    "    @assert untag(type_tag(rule[2], ctx)) == rule[2]\n",
    "end\n",
    "\n",
    "rules = build_metatheory_rules(raw_rules )\n",
    "shuffle_rules = build_metatheory_rules(raw_shuffle_rules)\n",
    "simp_rules = build_metatheory_rules(raw_simp_rules; mode=:rewrite)\n",
    "for rule in rules\n",
    "    println(\"RULE\")\n",
    "    println(rule.left)\n",
    "    println(untag(rule.left))\n",
    "    println(rule.right)\n",
    "    println(untag(rule.right))\n",
    "end\n"
   ]
  },
  {
   "cell_type": "code",
   "execution_count": 6,
   "metadata": {},
   "outputs": [
    {
     "data": {
      "text/plain": [
       "12-element Array{Expr,1}:\n",
       " :(id(a))\n",
       " :(id(a) ⋅ id(a))\n",
       " :(σ(a, b) ⋅ σ(b, a))\n",
       " :((σ(a, b) ⋅ σ(b, a)) ⋅ σ(a, b))\n",
       " :(pair(id(a), id(a)))\n",
       " :(id(a) ⊗ (⋄)(b))\n",
       " :(pair(proj1(a, b), proj2(a, b)))\n",
       " :((Δ(a) ⊗ Δ(b)) ⋅ ((id(a) ⊗ (⋄)(a)) ⊗ ((⋄)(b) ⊗ id(b))))\n",
       " :((Δ(a) ⋅ (id(a) ⊗ (⋄)(a))) ⊗ (Δ(b) ⋅ ((⋄)(b) ⊗ id(b))))\n",
       " :(Δ(a) ⋅ (id(a) ⊗ (⋄)(a)))\n",
       " :((Δ(a) ⊗ Δ(b)) ⋅ (((id(a) ⊗ (⋄)(a)) ⊗ (⋄)(b)) ⊗ id(b)))\n",
       " :((Δ(a) ⊗ Δ(b)) ⋅ (((id(a) ⊗ (⋄)(a)) ⊗ (⋄)(b)) ⊗ id(b)))"
      ]
     },
     "execution_count": 6,
     "metadata": {},
     "output_type": "execute_result"
    }
   ],
   "source": [
    "examples = [\n",
    "    # :f\n",
    "    :(id(a))\n",
    "    :(id(a) ⋅ id(a))\n",
    "    #:(f ⋅ id(b) ⋅ id(b))\n",
    "    :( σ(a,b) ⋅ σ(b,a) )\n",
    "    :( σ(a,b) ⋅ σ(b,a) ⋅ σ(a,b))\n",
    "    :(pair(id(a), id(a)))\n",
    "    :(id(a) ⊗ ⋄(b))  \n",
    "    :( pair(proj1(a,b), proj2(a,b)) )\n",
    "    :( (Δ(a) ⊗ Δ(b))  ⋅ (  (id(a) ⊗ ⋄(a)) ⊗ (⋄(b) ⊗ id(b) )  ))\n",
    "    :(  (Δ(a) ⋅ (id(a) ⊗ ⋄(a))) ⊗ (Δ(b) ⋅ (⋄(b) ⊗ id(b)))  )\n",
    "    :(  (Δ(a) ⋅ (id(a) ⊗ ⋄(a)))  )\n",
    "        :( (Δ(a) ⊗ Δ(b))  ⋅ (  (id(a) ⊗ ⋄(a)) ⊗ ⋄(b) ⊗ id(b)  ))\n",
    "         :( (Δ(a) ⊗ Δ(b))  ⋅ (  id(a) ⊗ ⋄(a) ⊗ ⋄(b) ⊗ id(b)  ))\n",
    "    #:( id(a ⊗ b) )\n",
    "    # :( id(a) ⊗ ⋄(b) )\n",
    "\n",
    "]\n",
    "#egg_examples = [ \"\\\"$( to_sexpr(type_tag(ex, ctx))  )\\\".parse().unwrap()\"   for ex in examples  ]\n",
    "#println(join(egg_examples, \",\\n\"))"
   ]
  },
  {
   "cell_type": "code",
   "execution_count": 49,
   "metadata": {},
   "outputs": [
    {
     "name": "stdout",
     "output_type": "stream",
     "text": [
      "  0.001269 seconds (11.92 k allocations: 705.891 KiB)\n",
      "  0.017693 seconds (150.91 k allocations: 5.841 MiB)\n",
      "  0.006471 seconds (61.12 k allocations: 2.811 MiB)\n",
      "Δ(a ⊗ b) ⋅ (id(a) ⊗ ((⋄)(b ⊗ a) ⊗ id(b)))\n",
      "  1.759853 seconds (20.26 M allocations: 724.735 MiB, 10.92% gc time)\n",
      "  0.003733 seconds (35.29 k allocations: 1.952 MiB)\n",
      "Δ(a ⊗ b) ⋅ (id(a) ⊗ ((⋄)(b ⊗ a) ⊗ id(b)))\n",
      " 35.304106 seconds (414.75 M allocations: 14.734 GiB, 10.46% gc time)\n",
      "  0.004324 seconds (41.95 k allocations: 2.501 MiB)\n",
      "Δ(a ⊗ b) ⋅ (id(a) ⊗ ((⋄)(b ⊗ a) ⊗ id(b)))\n",
      "143.148899 seconds (2.08 G allocations: 68.793 GiB, 12.38% gc time)\n",
      "  0.004698 seconds (49.23 k allocations: 3.079 MiB)\n",
      "Δ(a ⊗ b) ⋅ (id(a) ⊗ ((⋄)(b ⊗ a) ⊗ id(b)))\n",
      "304.488379 seconds (4.97 G allocations: 157.996 GiB, 14.22% gc time)\n",
      "  0.005049 seconds (52.62 k allocations: 3.358 MiB)\n",
      "Δ(a ⊗ b) ⋅ (id(a) ⊗ ((⋄)(b ⊗ a) ⊗ id(b)))\n",
      "431.867431 seconds (7.94 G allocations: 242.861 GiB, 17.09% gc time)\n",
      "  0.005056 seconds (52.62 k allocations: 3.358 MiB)\n",
      "Δ(a ⊗ b) ⋅ (id(a) ⊗ ((⋄)(b ⊗ a) ⊗ id(b)))\n",
      "435.463224 seconds (7.94 G allocations: 242.861 GiB, 17.66% gc time)\n",
      "  0.005072 seconds (52.62 k allocations: 3.358 MiB)\n",
      "Δ(a ⊗ b) ⋅ (id(a) ⊗ ((⋄)(b ⊗ a) ⊗ id(b)))\n",
      "430.575764 seconds (7.94 G allocations: 242.861 GiB, 17.05% gc time)\n",
      "  0.005147 seconds (52.62 k allocations: 3.358 MiB)\n",
      "Δ(a ⊗ b) ⋅ (id(a) ⊗ ((⋄)(b ⊗ a) ⊗ id(b)))\n",
      "218\n",
      "Δ(a ⊗ b) ⋅ (id(a) ⊗ ((⋄)(b ⊗ a) ⊗ id(b)))\n"
     ]
    }
   ],
   "source": [
    "\n",
    "# https://julialang.zulipchat.com/#narrow/stream/230248-catlab.2Ejl/topic/Automatic.20Theorem.20Proving/near/211396362\n",
    "raw_derivation = [\n",
    "    #:( pair(proj1(a,b), proj2(a,b)) )\n",
    "    #:(   )\n",
    "    :( Δ(a ⊗ b) ⋅ (id(a) ⊗ ((⋄)(b ⊗ a) ⊗ id(b))) )\n",
    "    :( (Δ(a) ⊗ Δ(b))  ⋅ ( (id(a) ⊗ σ(a,b) ⊗ id(b)) ⋅ (  id(a) ⊗ (⋄(b) ⊗ ⋄(a)) ⊗ id(b) )  ))\n",
    "    :( (Δ(a) ⊗ Δ(b))  ⋅ (  (id(a) ⊗ ⋄(a)) ⊗ (⋄(b) ⊗ id(b) )  ))\n",
    "    :(  (Δ(a) ⋅ (id(a) ⊗ ⋄(a))) ⊗ (Δ(b) ⋅ (⋄(b) ⊗ id(b)))  )\n",
    "    :(id(a ⊗ b))\n",
    "]\n",
    "derivation = [ type_tag(step,ctx) for step in raw_derivation]\n",
    "\n",
    "#=\n",
    "for i in 1:(length(derivation)-1)\n",
    "    x = derivation[i]\n",
    "    y = derivation[i+1]\n",
    "    areequal(rules, x , y)\n",
    "end\n",
    "=#\n",
    "reverse_rules(rules) = [ Rule(r.right, r.left, r.expr, r.mode, r.right_fun) for r in rules ]\n",
    "rev_simp = reverse_rules(simp_rules)\n",
    "\n",
    "# The painful rule\n",
    "pain_rule  = build_metatheory_rules([   :( Δ(a ⊗ b)  ) =>  :( (Δ(a) ⊗ Δ(b))  ⋅ ( id(a) ⊗ σ(a,b) ⊗ id(b) ) )  ])\n",
    "\n",
    "for d in derivation[1:1]\n",
    "    G = EGraph(d)\n",
    "    @time saturate!(G, simp_rules)\n",
    "    for i in 1:8\n",
    "        @time saturate!(G, shuffle_rules, timeout=1)\n",
    "        @time saturate!(G, simp_rules)\n",
    "        extractor = addanalysis!(G, ExtractionAnalysis, astsize)\n",
    "        ex = extract!(G, extractor)\n",
    "        println( untag(ex) )\n",
    "    end\n",
    "\n",
    "\n",
    "    #=G = EGraph(ex)\n",
    "    @time saturate!(G, simp_rules)\n",
    "    for i in 1:4\n",
    "        @time saturate!(G, shuffle_rules, timeout=1)\n",
    "        @time saturate!(G, simp_rules)\n",
    "    end\n",
    "    extractor = addanalysis!(G, ExtractionAnalysis, astsize)\n",
    "    ex = extract!(G, extractor)\n",
    "    println( untag(ex) ) =#\n",
    "    #@time saturate!(G, shuffle_rules, timeout=1)\n",
    "    #println(length(G.H))\n",
    "    #@time saturate!(G, simp_rules)\n",
    "    #@time saturate!(G, rev_simp, timeout=1)\n",
    "    #@time saturate!(G, shuffle_rules, timeout=1)\n",
    "    #@time saturate!(G, simp_rules)\n",
    "    #@time saturate!(G, shuffle_rules, timeout=1)\n",
    "    #@time saturate!(G, simp_rules)\n",
    "    #@time saturate!(G, simp_rules)\n",
    "   # @time saturate!(G, shuffle_rules, timeout=1)\n",
    "   # @time saturate!(G, simp_rules)\n",
    "    println(length(G.H))\n",
    "    extractor = addanalysis!(G, ExtractionAnalysis, astsize)\n",
    "    ex = extract!(G, extractor)\n",
    "    println( untag(ex) )\n",
    "end\n",
    "\n",
    "# again, I could reduce the unneeded rules\n",
    "# I could \n"
   ]
  },
  {
   "cell_type": "code",
   "execution_count": 50,
   "metadata": {
    "collapsed": true,
    "jupyter": {
     "outputs_hidden": true
    }
   },
   "outputs": [
    {
     "name": "stdout",
     "output_type": "stream",
     "text": [
      "hom(pair(hom(proj1(ob(a), ob(b)), ob(ob(a) ⊗ ob(b)), ob(a)), hom(proj2(ob(a), ob(b)), ob(ob(a) ⊗ ob(b)), ob(b))), ob(ob(a) ⊗ ob(b)), ob(ob(a) ⊗ ob(b)))\n"
     ]
    },
    {
     "ename": "LoadError",
     "evalue": "InterruptException:",
     "output_type": "error",
     "traceback": [
      "InterruptException:",
      "",
      "Stacktrace:",
      " [1] Expr at ./boot.jl:224 [inlined]",
      " [2] copy(::Expr) at ./expr.jl:36",
      " [3] copy_exprs(::Expr) at ./expr.jl:43",
      " [4] copy_exprargs(::Array{Any,1}) at ./expr.jl:60",
      " [5] copy(::Expr) at ./expr.jl:37",
      " [6] copy_exprs(::Expr) at ./expr.jl:43",
      " [7] copy_exprargs(::Array{Any,1}) at ./expr.jl:60",
      " [8] copy(::Expr) at ./expr.jl:37",
      " [9] copy_exprs(::Expr) at ./expr.jl:43",
      " [10] copy_exprargs(::Array{Any,1}) at ./expr.jl:60",
      " [11] copy(::Expr) at ./expr.jl:37",
      " [12] copy_exprs(::Expr) at ./expr.jl:43",
      " [13] copy_exprargs(::Array{Any,1}) at ./expr.jl:60",
      " [14] copy(::Expr) at ./expr.jl:37",
      " [15] df_walk(::Function, ::Expr, ::EGraph, ::Vararg{Any,N} where N; skip::Array{Symbol,1}, skip_call::Bool) at /home/philip/.julia/packages/Metatheory/ttTlQ/src/Util/walks.jl:32",
      " [16] #14 at /home/philip/.julia/packages/Metatheory/ttTlQ/src/Util/walks.jl:33 [inlined]",
      " [17] |>(::Expr, ::Metatheory.Util.var\"#14#15\"{Array{Symbol,1},Bool,typeof(Metatheory.EGraphs.inst),Tuple{EGraph,Base.ImmutableDict{Any,Tuple{EClass,Any}}}}) at ./operators.jl:834",
      " [18] _broadcast_getindex_evalf at ./broadcast.jl:648 [inlined]",
      " [19] _broadcast_getindex at ./broadcast.jl:621 [inlined]",
      " [20] getindex at ./broadcast.jl:575 [inlined]",
      " [21] macro expansion at ./broadcast.jl:932 [inlined]",
      " [22] macro expansion at ./simdloop.jl:77 [inlined]",
      " [23] copyto! at ./broadcast.jl:931 [inlined]",
      " [24] copyto! at ./broadcast.jl:886 [inlined]",
      " [25] copy at ./broadcast.jl:862 [inlined]",
      " [26] materialize(::Base.Broadcast.Broadcasted{Base.Broadcast.DefaultArrayStyle{1},Nothing,typeof(|>),Tuple{Array{Any,1},Base.RefValue{Metatheory.Util.var\"#14#15\"{Array{Symbol,1},Bool,typeof(Metatheory.EGraphs.inst),Tuple{EGraph,Base.ImmutableDict{Any,Tuple{EClass,Any}}}}}}}) at ./broadcast.jl:837",
      " [27] df_walk(::Function, ::Expr, ::EGraph, ::Vararg{Any,N} where N; skip::Array{Symbol,1}, skip_call::Bool) at /home/philip/.julia/packages/Metatheory/ttTlQ/src/Util/walks.jl:33",
      " [28] instantiate(::EGraph, ::Expr, ::Base.ImmutableDict{Any,Tuple{EClass,Any}}; skip_assert::Bool) at /home/philip/.julia/packages/Metatheory/ttTlQ/src/EGraphs/saturation.jl:19",
      " [29] eqsat_step!(::EGraph, ::Array{Rule,1}; scheduler::Metatheory.EGraphs.Schedulers.BackoffScheduler, mod::Module) at /home/philip/.julia/packages/Metatheory/ttTlQ/src/EGraphs/saturation.jl:57",
      " [30] saturate!(::EGraph, ::Array{Rule,1}; mod::Module, timeout::Int64, stopwhen::Metatheory.EGraphs.var\"#32#34\", sizeout::Int64, scheduler::Type{Metatheory.EGraphs.Schedulers.BackoffScheduler}) at /home/philip/.julia/packages/Metatheory/ttTlQ/src/EGraphs/saturation.jl:115",
      " [31] macro expansion at ./timing.jl:174 [inlined]",
      " [32] top-level scope at ./In[50]:25",
      " [33] include_string(::Function, ::Module, ::String, ::String) at ./loading.jl:1091"
     ]
    }
   ],
   "source": [
    "\n",
    "#build example expression\n",
    "\n",
    "using Metatheory\n",
    "\n",
    "examples = [\n",
    "    #= :f\n",
    "    :(id(a))\n",
    "    :(id(a) ⋅ id(a))\n",
    "    :(f ⋅ id(b) ⋅ id(b))\n",
    "    :( σ(a,b) ⋅ σ(b,a) )\n",
    "    :( σ(a,b) ⋅ σ(b,a) ⋅ σ(a,b))\n",
    "    :(pair(id(a), id(a)))\n",
    "    :(id(a) ⊗ ⋄(b))  =#\n",
    "    :( pair(proj1(a,b), proj2(a,b)) )\n",
    "    #:( id(a ⊗ b) )\n",
    "    # :( id(a) ⊗ ⋄(b) )\n",
    "\n",
    "]\n",
    "\n",
    "for e in examples\n",
    "    println(type_tag(e, ctx) )\n",
    "    G = EGraph( type_tag(e, ctx) )\n",
    "\n",
    "    @time saturate!(G, rules, timeout=4)\n",
    "    println(length(G.H))\n",
    "    extractor = addanalysis!(G, ExtractionAnalysis, astsize)\n",
    "    ex = extract!(G, extractor)\n",
    "    println( untag(ex) )\n",
    "end\n",
    "\n",
    "\n",
    "#id_expr\n",
    "#println(r.left)\n",
    "#println(r.right)\n",
    "# 1 0.008484 seconds (80.21 k allocations: 2.400 MiB)\n",
    "# 2 0.488928 seconds (4.47 M allocations: 162.393 MiB, 11.20% gc time)\n",
    "# 3 1.619528 seconds (19.64 M allocations: 772.348 MiB, 13.05% gc time)\n",
    "# 4 657.724842 seconds (8.04 G allocations: 266.355 GiB, 8.65% gc time)\n",
    "\n",
    "#=\n",
    "\n",
    "hom(pair(hom(proj1(ob(a), ob(b)), ob(ob(a) ⊗ ob(b)), ob(a)), hom(proj2(ob(a), ob(b)), ob(ob(a) ⊗ ob(b)), ob(b))), ob(ob(a) ⊗ ob(b)), ob(ob(a) ⊗ ob(b)))\n",
    "530.694897 seconds (6.40 G allocations: 211.471 GiB, 11.25% gc time)\n",
    "1615\n",
    "pair(proj1(a, b), proj2(a, b))\n",
    "\n",
    "\n",
    "#timeout 5\n",
    "hom(pair(hom(proj1(ob(a), ob(b)), ob(ob(a) ⊗ ob(b)), ob(a)), hom(proj2(ob(a), ob(b)), ob(ob(a) ⊗ ob(b)), ob(b))), ob(ob(a) ⊗ ob(b)), ob(ob(a) ⊗ ob(b)))\n",
    "1006.373516 seconds (14.57 G allocations: 576.952 GiB, 11.75% gc time)\n",
    "3410\n",
    "pair(proj1(a, b), proj2(a, b))\n",
    "\n",
    "=#\n",
    "\n",
    "# 11 : 22 started"
   ]
  },
  {
   "cell_type": "markdown",
   "metadata": {},
   "source": [
    "Ok\n",
    "Well\n",
    "1. Try easier problems. Make sure they are working\n",
    "2. Try removing type tags\n",
    "3. Export to egg\n",
    "4. tune the rules\n",
    "5. try the rewriter\n",
    "\n",
    "\n",
    "We kind of want associativity of morphisms and objects to be highly synchronized.\n",
    "When you assocaite morphisms, I immediately want the object fact. because it has sort of lost it's well typing.\n",
    "This is true everywhere. The types of the lhs and rhs of an equation do not match, but we do not learn that fact when we should.\n",
    "Another possibility would be to run the equational theory on the types seperately first.\n",
    "This almost guides the equation level anyhow.\n",
    "Associativity of theo objects guides the morhisms.\n",
    "Hmmm.\n",
    "\n",
    "\n",
    "Is the way we're attaching types highly inefficient. Should types be an analysis? Does that help?\n",
    "Multi equations? Multi equation production?\n",
    "\n",
    "Removing type tags\n",
    "It's weird this is stumping it. I must have a bug\n",
    "\n",
    "Despite scheduling, the id rules are really hurting.\n",
    "\n",
    "\n",
    "What if i seperate my rules into \n",
    "simp. f => f . id is a terrible terrible fucking rule.\n",
    "and shuffle. -assocviativy\n",
    "\n",
    "simp should very rarely be applied backwards.\n",
    "We want to essentially satruate on simp,\n",
    "\n",
    "apply a bit of shuffle\n",
    "\n",
    "and very occiassionally apply a bit of backward simp\n",
    "\n",
    "I shoulfd build the calc macro to help troubleshoot which steps are tough.\n",
    "\n",
    "\n",
    "\n",
    "\n",
    "Gaussian elimination\n",
    "Groboner bases for symbolic.jl\n",
    "division free version of gaussian elimination.\n",
    "They might do this?\n",
    "\n",
    "The coding of pair and stuff is actually kind of bizarre\n",
    "I wonder if we'd be better off stroing a bunch of redundant lemmas.\n"
   ]
  },
  {
   "cell_type": "code",
   "execution_count": 37,
   "metadata": {},
   "outputs": [
    {
     "data": {
      "text/plain": [
       "EClass(14)"
      ]
     },
     "execution_count": 37,
     "metadata": {},
     "output_type": "execute_result"
    }
   ],
   "source": [
    "G = EGraph( type_tag( :( pair(proj1(a,b), proj2(a,b)) ), ctx) )\n",
    "addexpr!(G, type_tag( :( id(a ⊗ b) ), ctx) )"
   ]
  },
  {
   "cell_type": "code",
   "execution_count": null,
   "metadata": {},
   "outputs": [],
   "source": [
    "function my_equal(x,y)\n",
    "    a = type_tag(x , ctx)\n",
    "    b = type_tag(y , ctx)\n",
    "    println(a)\n",
    "    println(b)\n",
    "    #r = build_metatheory_rule([:( proj1(a,b)  ) => :( id(a) ⊗ ⋄(b) )])\n",
    "    return areequal(rules, a , b)\n",
    "end\n",
    "\n",
    "\n",
    "#my_equal( :( proj1(a,b)  ),   :( id(a) ⊗ ⋄(b) ) )\n",
    "my_equal(  :( pair(proj1(a,b), proj2(a,b)) ) , :( id(a ⊗ b) ))"
   ]
  },
  {
   "cell_type": "code",
   "execution_count": 41,
   "metadata": {},
   "outputs": [
    {
     "ename": "LoadError",
     "evalue": "InterruptException:",
     "output_type": "error",
     "traceback": [
      "InterruptException:",
      "",
      "Stacktrace:",
      " [1] hash(::Base.ImmutableDict{Any,Tuple{EClass,Any}}, ::UInt64) at ./abstractdict.jl:484",
      " [2] hash at ./hashing.jl:18 [inlined]",
      " [3] hashindex(::Base.ImmutableDict{Any,Tuple{EClass,Any}}, ::Int64) at ./dict.jl:168",
      " [4] ht_keyindex2!(::Dict{Base.ImmutableDict{Any,Tuple{EClass,Any}},Nothing}, ::Base.ImmutableDict{Any,Tuple{EClass,Any}}) at ./dict.jl:308",
      " [5] setindex!(::Dict{Base.ImmutableDict{Any,Tuple{EClass,Any}},Nothing}, ::Nothing, ::Base.ImmutableDict{Any,Tuple{EClass,Any}}) at ./dict.jl:381",
      " [6] push! at ./set.jl:57 [inlined]",
      " [7] #89 at ./array.jl:2524 [inlined]",
      " [8] filter!(::Base.var\"#89#90\"{typeof(∉),typeof(push!),Set{Base.ImmutableDict{Any,Tuple{EClass,Any}}}}, ::Array{Base.ImmutableDict{Any,Tuple{EClass,Any}},1}) at ./array.jl:2507",
      " [9] _grow! at ./array.jl:2535 [inlined]",
      " [10] union!(::Array{Base.ImmutableDict{Any,Tuple{EClass,Any}},1}, ::Array{Base.ImmutableDict{Any,Tuple{EClass,Any}},1}) at ./array.jl:2542",
      " [11] ematch(::EGraph, ::Expr, ::Int64, ::Base.ImmutableDict{Any,Tuple{EClass,Any}}; lit::Nothing) at /home/philip/.julia/packages/Metatheory/ttTlQ/src/EGraphs/ematch.jl:105",
      " [12] ematch(::EGraph, ::Expr, ::Int64, ::Base.ImmutableDict{Any,Tuple{EClass,Any}}) at /home/philip/.julia/packages/Metatheory/ttTlQ/src/EGraphs/ematch.jl:67",
      " [13] ematchlist(::EGraph, ::Array{Any,1}, ::Array{Int64,1}, ::Base.ImmutableDict{Any,Tuple{EClass,Any}}) at /home/philip/.julia/packages/Metatheory/ttTlQ/src/EGraphs/ematch.jl:31",
      " [14] ematchlist(::EGraph, ::Array{Any,1}, ::Array{Int64,1}, ::Base.ImmutableDict{Any,Tuple{EClass,Any}}) at /home/philip/.julia/packages/Metatheory/ttTlQ/src/EGraphs/ematch.jl:32",
      " [15] ematch(::EGraph, ::Expr, ::Int64, ::Base.ImmutableDict{Any,Tuple{EClass,Any}}; lit::Nothing) at /home/philip/.julia/packages/Metatheory/ttTlQ/src/EGraphs/ematch.jl:105",
      " [16] ematch(::EGraph, ::Expr, ::Int64, ::Base.ImmutableDict{Any,Tuple{EClass,Any}}) at /home/philip/.julia/packages/Metatheory/ttTlQ/src/EGraphs/ematch.jl:67",
      " [17] ematchlist(::EGraph, ::Array{Any,1}, ::Array{Int64,1}, ::Base.ImmutableDict{Any,Tuple{EClass,Any}}) at /home/philip/.julia/packages/Metatheory/ttTlQ/src/EGraphs/ematch.jl:31",
      " [18] ematch(::EGraph, ::Expr, ::Int64, ::Base.ImmutableDict{Any,Tuple{EClass,Any}}; lit::Nothing) at /home/philip/.julia/packages/Metatheory/ttTlQ/src/EGraphs/ematch.jl:105",
      " [19] ematch(::EGraph, ::Expr, ::Int64, ::Base.ImmutableDict{Any,Tuple{EClass,Any}}) at /home/philip/.julia/packages/Metatheory/ttTlQ/src/EGraphs/ematch.jl:67",
      " [20] ematchlist(::EGraph, ::Array{Any,1}, ::Array{Int64,1}, ::Base.ImmutableDict{Any,Tuple{EClass,Any}}) at /home/philip/.julia/packages/Metatheory/ttTlQ/src/EGraphs/ematch.jl:31",
      " [21] ematchlist(::EGraph, ::Array{Any,1}, ::Array{Int64,1}, ::Base.ImmutableDict{Any,Tuple{EClass,Any}}) at /home/philip/.julia/packages/Metatheory/ttTlQ/src/EGraphs/ematch.jl:32",
      " [22] ematch(::EGraph, ::Expr, ::Int64, ::Base.ImmutableDict{Any,Tuple{EClass,Any}}; lit::Nothing) at /home/philip/.julia/packages/Metatheory/ttTlQ/src/EGraphs/ematch.jl:105",
      " [23] ematch(::EGraph, ::Expr, ::Int64, ::Base.ImmutableDict{Any,Tuple{EClass,Any}}) at /home/philip/.julia/packages/Metatheory/ttTlQ/src/EGraphs/ematch.jl:67",
      " [24] ematchlist(::EGraph, ::Array{Any,1}, ::Array{Int64,1}, ::Base.ImmutableDict{Any,Tuple{EClass,Any}}) at /home/philip/.julia/packages/Metatheory/ttTlQ/src/EGraphs/ematch.jl:31",
      " [25] ematch(::EGraph, ::Expr, ::Int64, ::Base.ImmutableDict{Any,Tuple{EClass,Any}}; lit::Nothing) at /home/philip/.julia/packages/Metatheory/ttTlQ/src/EGraphs/ematch.jl:105",
      " [26] ematch at /home/philip/.julia/packages/Metatheory/ttTlQ/src/EGraphs/ematch.jl:67 [inlined]",
      " [27] eqsat_step!(::EGraph, ::Array{Rule,1}; scheduler::Metatheory.EGraphs.Schedulers.BackoffScheduler, mod::Module) at /home/philip/.julia/packages/Metatheory/ttTlQ/src/EGraphs/saturation.jl:39",
      " [28] saturate!(::EGraph, ::Array{Rule,1}; mod::Module, timeout::Int64, stopwhen::Metatheory.EGraphs.var\"#32#34\", sizeout::Int64, scheduler::Type{Metatheory.EGraphs.Schedulers.BackoffScheduler}) at /home/philip/.julia/packages/Metatheory/ttTlQ/src/EGraphs/saturation.jl:115",
      " [29] top-level scope at ./timing.jl:174 [inlined]",
      " [30] top-level scope at ./In[41]:0",
      " [31] include_string(::Function, ::Module, ::String, ::String) at ./loading.jl:1091"
     ]
    }
   ],
   "source": [
    "@time saturate!(G, rules, timeout=1)\n",
    "println(length(G.H))\n",
    "extractor = addanalysis!(G, ExtractionAnalysis, astsize)\n",
    "ex = extract!(G, extractor)\n",
    "println( untag(ex) )"
   ]
  },
  {
   "cell_type": "markdown",
   "metadata": {},
   "source": [
    "iteration 3 I believe\n",
    "770.286711 seconds (9.17 G allocations: 300.087 GiB, 11.13% gc time)\n",
    "1246\n",
    "pair(proj1(a, b), proj2(a, b))"
   ]
  },
  {
   "cell_type": "code",
   "execution_count": 38,
   "metadata": {},
   "outputs": [
    {
     "data": {
      "text/plain": [
       ":(hom(hom(id(ob(a)), ob(a), ob(a)) ⊗ hom((⋄)(ob(b)), ob(b), ob(munit())), ob(ob(a) ⊗ ob(b)), ob(ob(a) ⊗ ob(munit()))))"
      ]
     },
     "execution_count": 38,
     "metadata": {},
     "output_type": "execute_result"
    }
   ],
   "source": [
    "build_metatheory_rule([:(a ⊗ munit())    => :a])\n",
    "type_tag(:(id(a) ⊗ ⋄(b)), ctx)"
   ]
  },
  {
   "cell_type": "code",
   "execution_count": 305,
   "metadata": {},
   "outputs": [
    {
     "ename": "LoadError",
     "evalue": "MethodError: no method matching ematchlist(::EGraph, ::Array{Any,1}, ::Array{Any,1}, ::Base.ImmutableDict{Any,Tuple{EClass,Any}})\nClosest candidates are:\n  ematchlist(::EGraph, ::Array{Any,1}, !Matched::Array{Int64,1}, ::Base.ImmutableDict{Any,Tuple{EClass,Any}}) at /home/philip/.julia/packages/Metatheory/R4YWe/src/EGraphs/ematch.jl:25",
     "output_type": "error",
     "traceback": [
      "MethodError: no method matching ematchlist(::EGraph, ::Array{Any,1}, ::Array{Any,1}, ::Base.ImmutableDict{Any,Tuple{EClass,Any}})\nClosest candidates are:\n  ematchlist(::EGraph, ::Array{Any,1}, !Matched::Array{Int64,1}, ::Base.ImmutableDict{Any,Tuple{EClass,Any}}) at /home/philip/.julia/packages/Metatheory/R4YWe/src/EGraphs/ematch.jl:25",
      "",
      "Stacktrace:",
      " [1] ematch(::EGraph, ::Expr, ::Int64, ::Base.ImmutableDict{Any,Tuple{EClass,Any}}; lit::Nothing) at /home/philip/.julia/packages/Metatheory/R4YWe/src/EGraphs/ematch.jl:104",
      " [2] ematch(::EGraph, ::Expr, ::Int64, ::Base.ImmutableDict{Any,Tuple{EClass,Any}}) at /home/philip/.julia/packages/Metatheory/R4YWe/src/EGraphs/ematch.jl:67",
      " [3] ematchlist(::EGraph, ::Array{Any,1}, ::Array{Int64,1}, ::Base.ImmutableDict{Any,Tuple{EClass,Any}}) at /home/philip/.julia/packages/Metatheory/R4YWe/src/EGraphs/ematch.jl:31",
      " [4] ematch(::EGraph, ::Expr, ::Int64, ::Base.ImmutableDict{Any,Tuple{EClass,Any}}; lit::Nothing) at /home/philip/.julia/packages/Metatheory/R4YWe/src/EGraphs/ematch.jl:104",
      " [5] ematch(::EGraph, ::Expr, ::Int64, ::Base.ImmutableDict{Any,Tuple{EClass,Any}}) at /home/philip/.julia/packages/Metatheory/R4YWe/src/EGraphs/ematch.jl:67",
      " [6] ematchlist(::EGraph, ::Array{Any,1}, ::Array{Int64,1}, ::Base.ImmutableDict{Any,Tuple{EClass,Any}}) at /home/philip/.julia/packages/Metatheory/R4YWe/src/EGraphs/ematch.jl:31",
      " [7] ematchlist(::EGraph, ::Array{Any,1}, ::Array{Int64,1}, ::Base.ImmutableDict{Any,Tuple{EClass,Any}}) at /home/philip/.julia/packages/Metatheory/R4YWe/src/EGraphs/ematch.jl:32",
      " [8] ematch(::EGraph, ::Expr, ::Int64, ::Base.ImmutableDict{Any,Tuple{EClass,Any}}; lit::Nothing) at /home/philip/.julia/packages/Metatheory/R4YWe/src/EGraphs/ematch.jl:104",
      " [9] ematch(::EGraph, ::Expr, ::Int64, ::Base.ImmutableDict{Any,Tuple{EClass,Any}}) at /home/philip/.julia/packages/Metatheory/R4YWe/src/EGraphs/ematch.jl:67",
      " [10] ematchlist(::EGraph, ::Array{Any,1}, ::Array{Int64,1}, ::Base.ImmutableDict{Any,Tuple{EClass,Any}}) at /home/philip/.julia/packages/Metatheory/R4YWe/src/EGraphs/ematch.jl:31",
      " [11] ematch(::EGraph, ::Expr, ::Int64, ::Base.ImmutableDict{Any,Tuple{EClass,Any}}; lit::Nothing) at /home/philip/.julia/packages/Metatheory/R4YWe/src/EGraphs/ematch.jl:104",
      " [12] ematch at /home/philip/.julia/packages/Metatheory/R4YWe/src/EGraphs/ematch.jl:67 [inlined]",
      " [13] eqsat_step!(::EGraph, ::Array{Rule,1}; scheduler::Metatheory.EGraphs.Schedulers.BackoffScheduler) at /home/philip/.julia/packages/Metatheory/R4YWe/src/EGraphs/saturation.jl:33",
      " [14] saturate!(::EGraph, ::Array{Rule,1}; mod::Module, timeout::Int64, stopwhen::Metatheory.EGraphs.var\"#33#35\", sizeout::Int64, scheduler::Type{Metatheory.EGraphs.Schedulers.BackoffScheduler}) at /home/philip/.julia/packages/Metatheory/R4YWe/src/EGraphs/saturation.jl:100",
      " [15] top-level scope at In[305]:8",
      " [16] include_string(::Function, ::Module, ::String, ::String) at ./loading.jl:1091"
     ]
    }
   ],
   "source": [
    "\n",
    "simp_theory = build_metatheory_rule([:(a ⊗ munit())    => :a])\n",
    "#simp_theory = @theory begin\n",
    "#    #proj1(a,b) => id(a) ⊗ ⋄(b)\n",
    "#    a ⊗ munit()   => a\n",
    "#end\n",
    "G = EGraph( :(hom(hom(id(ob(a)), ob(a), ob(a)) ⊗ hom((⋄)(ob(b)), ob(b), ob(munit())), ob(ob(a) ⊗ ob(b)), ob(ob(a) ⊗ ob(munit())))) )\n",
    "saturate!(G, simp_theory, timeout=3)\n",
    "extractor = addanalysis!(G, ExtractionAnalysis, astsize_inv)\n",
    "ex = extract!(G, extractor)"
   ]
  },
  {
   "cell_type": "code",
   "execution_count": 2,
   "metadata": {},
   "outputs": [
    {
     "data": {
      "text/plain": [
       "(true, EGraph(DataStructures.IntDisjointSets{Int64}([1], [0], 1), Dict{Int64,Array{Any,1}}(1 => [:(munit())]), Dict{Any,Int64}(:(munit()) => 1), Dict{Int64,Array{Tuple{Any,Int64},1}}(1 => []), Int64[], 1, AbstractAnalysis[]))"
      ]
     },
     "execution_count": 2,
     "metadata": {},
     "output_type": "execute_result"
    }
   ],
   "source": [
    "simp_theory = @theory begin\n",
    "    munit() => :foo\n",
    "end\n",
    "G = EGraph( :(munit()) )\n",
    "saturate!(G, simp_theory, timeout=1)\n",
    "extractor = addanalysis!(G, ExtractionAnalysis, astsize)\n",
    "ex = extract!(G, extractor)"
   ]
  },
  {
   "cell_type": "code",
   "execution_count": 315,
   "metadata": {},
   "outputs": [
    {
     "data": {
      "text/plain": [
       "Array{Int64,1}"
      ]
     },
     "execution_count": 315,
     "metadata": {},
     "output_type": "execute_result"
    }
   ],
   "source": [
    "typeof([1,2,3])"
   ]
  },
  {
   "cell_type": "code",
   "execution_count": 120,
   "metadata": {},
   "outputs": [
    {
     "name": "stdout",
     "output_type": "stream",
     "text": [
      "Rule\n",
      "  left: Symbol a\n",
      "  right: Symbol a\n",
      "  expr: Expr\n",
      "    head: Symbol call\n",
      "    args: Array{Any}((3,))\n",
      "      1: Symbol |>\n",
      "      2: Symbol a\n",
      "      3: Symbol a\n",
      "  mode: Symbol dynamic\n",
      "  right_fun: Tuple{Array{Symbol,1},RuntimeGeneratedFunctions.RuntimeGeneratedFunction{(:_egraph, :a),var\"#_RGF_ModTag\",var\"#_RGF_ModTag\",(0xccb4b971, 0x9393b5cd, 0x3c5ba8a7, 0x3b3bef2f, 0xaf6a753e)}}\n",
      "    1: Array{Symbol}((1,))\n",
      "      1: Symbol a\n",
      "    2: RuntimeGeneratedFunctions.RuntimeGeneratedFunction{(:_egraph, :a),var\"#_RGF_ModTag\",var\"#_RGF_ModTag\",(0xccb4b971, 0x9393b5cd, 0x3c5ba8a7, 0x3b3bef2f, 0xaf6a753e)}(quote\n",
      "    #= /home/philip/.julia/packages/Metatheory/R4YWe/src/rule.jl:115 =#\n",
      "    a\n",
      "end) (function of type RuntimeGeneratedFunctions.RuntimeGeneratedFunction{(:_egraph, :a),var\"#_RGF_ModTag\",var\"#_RGF_ModTag\",(0xccb4b971, 0x9393b5cd, 0x3c5ba8a7, 0x3b3bef2f, 0xaf6a753e)})\n",
      "      body: Expr\n",
      "        head: Symbol block\n",
      "        args: Array{Any}((2,))\n",
      "          1: LineNumberNode\n",
      "            line: Int64 115\n",
      "            file: Symbol /home/philip/.julia/packages/Metatheory/R4YWe/src/rule.jl\n",
      "          2: Symbol a\n"
     ]
    }
   ],
   "source": [
    "x = @rule a |> a\n",
    "dump(x)"
   ]
  },
  {
   "cell_type": "code",
   "execution_count": 48,
   "metadata": {},
   "outputs": [
    {
     "name": "stdout",
     "output_type": "stream",
     "text": [
      "(:ob,)(:ob,)(:ob,)"
     ]
    },
    {
     "data": {
      "text/plain": [
       ":(hom(hom(hom(id(nothing), a, a) ⋅ hom(id(nothing), a, a), a, a) ⋅ hom(id(nothing), a, a), a, a))"
      ]
     },
     "execution_count": 48,
     "metadata": {},
     "output_type": "execute_result"
    }
   ],
   "source": [
    "#Version 1\n",
    "using Julog\n",
    "\n",
    "unjulog(e::Compound) = Expr(:call, e.name, map(unjulog, e.args)...)\n",
    "unjulog(e::Const) = e.name\n",
    "\n",
    "julog(e) = eval(:(@julog $e))\n",
    "julog_fact(e) = julog( :($e <<= true) )\n",
    "\n",
    "function infer_type( e, hyps )\n",
    "\n",
    "  hyps = [julog_fact(h) for  h in hyps]\n",
    "  clauses = @julog [\n",
    "      hom(id(A), A,A) <<= ob(A),\n",
    "      hom(F ⋅ G, A, C) <<= hom(F, A,B) & hom(G, B,C) & ob(A) & ob(B) & ob(C),\n",
    "      ob(A ⊗ B) <<= ob(A) & ob(B),\n",
    "      hom(F ⊗ G, A ⊗ B, C ⊗ D) <<= hom(F, A,C) & hom(G, B,D) & ob(A) & ob(B) & ob(C) & ob(D)\n",
    "    ]\n",
    "    \n",
    "    hom_goal  = [  Compound(:hom, [ julog(e) , Var(:A), Var(:B) ])  ]\n",
    "    ob_goal  = [  Compound(:ob, [ julog(e) ])  ]\n",
    "    \n",
    "    clauses = [hyps ; clauses]\n",
    "\n",
    "    sat, subst = resolve( hom_goal, clauses)\n",
    "    if sat\n",
    "        return unjulog(subst[1][Var(:A)]) , unjulog(subst[1][Var(:B)]) \n",
    "    end\n",
    "    sat, subst = resolve( ob_goal, clauses)\n",
    "    if sat\n",
    "        return (:ob,)\n",
    "    end\n",
    "end\n",
    "\n",
    "#infer_type( :(f ⋅ id(b))  , Dict(:a => :ob, :b => :ob, :f => :(hom(a,b)) ) )\n",
    "\n",
    "function type_tag(e::Symbol, hyps)\n",
    "    e1 = infer_type( e,  hyps)\n",
    "    print(e1)\n",
    "    if length(e1) == 2\n",
    "        a = e1[1]\n",
    "        b = e1[2]\n",
    "        :( hom(  $e , $a, $b    )   )\n",
    "    elseif e1 == :ob\n",
    "        :(ob( $e  ))\n",
    "    end\n",
    "end\n",
    "function type_tag(e::Expr, hyps) \n",
    "    #println(e)\n",
    "    e1 = infer_type( e,  hyps)\n",
    "    e2 = Expr( :call, e.args[1], [ type_tag(e, hyps) for e in e.args[2:end]]...) \n",
    "    if length(e1) == 2\n",
    "        a = e1[1]\n",
    "        b = e1[2]\n",
    "        :( hom(  $e2 , $a, $b    )   )\n",
    "    elseif e1 == :ob\n",
    "        :(ob( $e2  ))\n",
    "    end\n",
    "end\n",
    " \n",
    "\n",
    "id_expr = type_tag( :(id(a) ⋅ id(a) ⋅ id(a)), [ :(ob(a))  ] )"
   ]
  },
  {
   "cell_type": "code",
   "execution_count": null,
   "metadata": {},
   "outputs": [],
   "source": [
    "function untag( e::Expr )\n",
    "    if e.args[1] == :typ\n",
    "        untag(e.args[2])\n",
    "    else\n",
    "        Expr(e.head, [untag(e) for e in e.args]...)\n",
    "    end\n",
    "end\n",
    "\n",
    "untag(e::Symbol) = e\n",
    "\n",
    "module Testo \n",
    "using Main\n",
    "struct MyRule\n",
    "    left\n",
    "    right\n",
    "    ctx\n",
    "end\n",
    "end\n",
    "\n",
    "r = Testo.MyRule( :(f ⋅ id(a)) , :(id(a)) , Dict(:a => :ob, :f => :(hom(a,a))) )\n",
    "\n",
    "build_metatheory_rule(r::Testo.MyRule) = Rule(type_tag(r.left, r.ctx), type_tag(r.right, r.ctx), :( $(r.left) => $(r.right)) , :rewrite, nothing)\n",
    "#build my rules\n",
    "r = build_metatheory_rule(r)\n",
    "\n",
    "#build examplec expression\n",
    "id_expr = type_tag( :(id(a) ⋅ id(a) ⋅ id(a)), Dict(:a => :ob) )\n",
    "\n",
    "using Metatheory\n",
    "\n",
    "\n",
    "G = EGraph( id_expr )\n",
    "\n",
    "saturate!(G, [r], timeout=100)\n",
    "extractor = addanalysis!(G, ExtractionAnalysis, astsize)\n",
    "ex = extract!(G, extractor)\n",
    "untag(ex)\n",
    "id_expr"
   ]
  },
  {
   "cell_type": "code",
   "execution_count": 13,
   "metadata": {},
   "outputs": [
    {
     "data": {
      "text/plain": [
       ":(typ(id(typ(a, typ(ob, typ))), typ(hom(typ(a, typ(ob, typ)), typ(a, typ(ob, typ))), typ)))"
      ]
     },
     "execution_count": 13,
     "metadata": {},
     "output_type": "execute_result"
    }
   ],
   "source": [
    "\n",
    "\n",
    "macro type_stuff(e)\n",
    "    type_stuff(e)\n",
    "end\n",
    "\n",
    "simple_theory = @theory begin\n",
    "    id(a) ⋅ id(a) => id(a)\n",
    "end\n",
    "\n",
    "function elaborate_rule(r)\n",
    "    type_tag(r.left, Dict(:a => :ob))\n",
    "    type_tag(r.right, Dict(:a => :ob))\n",
    "end\n",
    "\n",
    "elab_rule = elaborate_rule(simple_theory[1])\n",
    "#dump(simple_theory[1].left)\n",
    "\n",
    "\n",
    "\n",
    "# untag"
   ]
  },
  {
   "cell_type": "code",
   "execution_count": 6,
   "metadata": {},
   "outputs": [
    {
     "name": "stdout",
     "output_type": "stream",
     "text": [
      "Array{Rule}((1,))\n",
      "  1: Rule\n",
      "    left: Expr\n",
      "      head: Symbol call\n",
      "      args: Array{Any}((3,))\n",
      "        1: Symbol ⋅\n",
      "        2: Expr\n",
      "          head: Symbol call\n",
      "          args: Array{Any}((2,))\n",
      "            1: Symbol id\n",
      "            2: Symbol a\n",
      "        3: Expr\n",
      "          head: Symbol call\n",
      "          args: Array{Any}((2,))\n",
      "            1: Symbol id\n",
      "            2: Symbol a\n",
      "    right: Expr\n",
      "      head: Symbol call\n",
      "      args: Array{Any}((2,))\n",
      "        1: Symbol id\n",
      "        2: Symbol a\n",
      "    expr: Expr\n",
      "      head: Symbol call\n",
      "      args: Array{Any}((3,))\n",
      "        1: Symbol =>\n",
      "        2: Expr\n",
      "          head: Symbol call\n",
      "          args: Array{Any}((3,))\n",
      "            1: Symbol ⋅\n",
      "            2: Expr\n",
      "              head: Symbol call\n",
      "              args: Array{Any}((2,))\n",
      "                1: Symbol id\n",
      "                2: Symbol a\n",
      "            3: Expr\n",
      "              head: Symbol call\n",
      "              args: Array{Any}((2,))\n",
      "                1: Symbol id\n",
      "                2: Symbol a\n",
      "        3: Expr\n",
      "          head: Symbol call\n",
      "          args: Array{Any}((2,))\n",
      "            1: Symbol id\n",
      "            2: Symbol a\n",
      "    mode: Symbol rewrite\n",
      "    right_fun: Nothing nothing\n"
     ]
    }
   ],
   "source": [
    "dump(simple_theory)"
   ]
  },
  {
   "cell_type": "code",
   "execution_count": 1,
   "metadata": {},
   "outputs": [
    {
     "name": "stderr",
     "output_type": "stream",
     "text": [
      "\u001b[32m\u001b[1m Activating\u001b[22m\u001b[39m environment at `~/Documents/python/thoughtbooks/metatheory/Project.toml`\n"
     ]
    },
    {
     "name": "stdout",
     "output_type": "stream",
     "text": [
      "\u001b[?25l\u001b[2K"
     ]
    },
    {
     "name": "stderr",
     "output_type": "stream",
     "text": [
      "\u001b[32m\u001b[1m   Updating\u001b[22m\u001b[39m git-repo `https://github.com/0x0f0f0f/Metatheory.jl.git`\n"
     ]
    },
    {
     "name": "stdout",
     "output_type": "stream",
     "text": [
      "\u001b[?25h"
     ]
    },
    {
     "name": "stderr",
     "output_type": "stream",
     "text": [
      "\u001b[32m\u001b[1m   Updating\u001b[22m\u001b[39m registry at `~/.julia/registries/General`\n"
     ]
    },
    {
     "name": "stdout",
     "output_type": "stream",
     "text": [
      "\u001b[?25l\u001b[2K"
     ]
    },
    {
     "name": "stderr",
     "output_type": "stream",
     "text": [
      "\u001b[32m\u001b[1m   Updating\u001b[22m\u001b[39m git-repo `https://github.com/JuliaRegistries/General.git`\n"
     ]
    },
    {
     "name": "stdout",
     "output_type": "stream",
     "text": [
      "\u001b[?25h"
     ]
    },
    {
     "name": "stderr",
     "output_type": "stream",
     "text": [
      "\u001b[32m\u001b[1m  Resolving\u001b[22m\u001b[39m package versions...\n",
      "\u001b[32m\u001b[1mUpdating\u001b[22m\u001b[39m `~/Documents/python/thoughtbooks/metatheory/Project.toml`\n",
      " \u001b[90m [e9d8d322] \u001b[39m\u001b[93m~ Metatheory v0.1.1 `https://github.com/0x0f0f0f/Metatheory.jl.git#master` ⇒ v0.1.1 `https://github.com/0x0f0f0f/Metatheory.jl.git#master`\u001b[39m\n",
      "\u001b[32m\u001b[1mUpdating\u001b[22m\u001b[39m `~/Documents/python/thoughtbooks/metatheory/Manifest.toml`\n",
      " \u001b[90m [15f4f7f2] \u001b[39m\u001b[92m+ AutoHashEquals v0.2.0\u001b[39m\n",
      " \u001b[90m [e9d8d322] \u001b[39m\u001b[93m~ Metatheory v0.1.1 `https://github.com/0x0f0f0f/Metatheory.jl.git#master` ⇒ v0.1.1 `https://github.com/0x0f0f0f/Metatheory.jl.git#master`\u001b[39m\n",
      " \u001b[90m [90137ffa] \u001b[39m\u001b[92m+ StaticArrays v1.0.1\u001b[39m\n"
     ]
    }
   ],
   "source": [
    "using Pkg\n",
    "Pkg.activate(\"metatheory\")\n",
    "Pkg.add(url=\"https://github.com/0x0f0f0f/Metatheory.jl.git\")\n",
    "using Metatheory\n",
    "using Metatheory.EGraphs"
   ]
  },
  {
   "cell_type": "code",
   "execution_count": 2,
   "metadata": {},
   "outputs": [],
   "source": [
    "#=\n",
    "I'm still missing the backwards version of \n",
    "id abosrtption,\n",
    "munit absorption\n",
    "id(munit) absortion\n",
    "and inventing f . diamond\n",
    "\n",
    "I should do it brutally long form and check each step.\n",
    "\n",
    "\n",
    "\n",
    "I could also try to make dynamic rules in egg.\n",
    "Ugh.\n",
    "\n",
    "=#\n",
    "\n",
    "\n",
    "\n",
    "\n",
    "# interesting. James put tagging into the rewrite rules.\n",
    "# https://github.com/AlgebraicJulia/Catlab.jl/blob/ce2fde9c63a8aab65cf2a7697f43cd24e5e00b3a/src/theories/Monoidal.jl#L83\n",
    "cat_rules_simp = @theory begin\n",
    "  f ⋅ id(b)  => f\n",
    "  id(a) ⋅ f  => f\n",
    "    \n",
    "  # but what if f wasn't an object. What if f was a type or something\n",
    "  # maybe I need to guard under possiblities\n",
    "  # or use julia types/analsysi\n",
    "    \n",
    "  #f => f ⋅ id(dom(type(f)))\n",
    "  #f => id(cod(type(f))) ⋅ f\n",
    "\n",
    "  a ⊗ₒ munit()    => a\n",
    "  munit() ⊗ₒ a    => a # How do we do this one? The other direction we need to guard a => type(a) = :ob\n",
    "    \n",
    "  #a => a ⊗ₒ munit() \n",
    "  #a => munit() ⊗ₒ a\n",
    "\n",
    "end\n",
    "\n",
    "\n",
    "cat_rules_shuffle = @theory begin\n",
    "   f ⋅ (g ⋅ h)  == (f ⋅ g) ⋅ h\n",
    "   a ⊗ₒ (b ⊗ₒ c)  == (a ⊗ₒ b) ⊗ₒ c\n",
    "   f ⊗ₘ (h ⊗ₘ j)  == (f ⊗ₘ h) ⊗ₘ j\n",
    "   id(a ⊗ₒ b)    ==  id(a) ⊗ₘ id(b) # arguably a simp\n",
    "  \n",
    "    # Is this necessary?\n",
    "    id(munit()) ⊗ₘ f   => f\n",
    "    f  ⊗ₘ id(munit()) => f\n",
    "    \n",
    "    \n",
    "   # Wow. This rule is not sound in the slightest.\n",
    "    # rgith to left is sound. It is always well typed. left to right is not\n",
    "    # it needs a guard.\n",
    "    # we can 1. rely on birectional search\n",
    "    # 2. use a type guard + possibly pumping the egraph with types annotations.\n",
    "    \n",
    "    # Ok. I just need to figure out this problem.\n",
    "    \n",
    "    # In principle we want thse type guards on everything\n",
    "    # But it turns out we can erase them most of the time because\n",
    "    # of the inductive well typed ness of the egraph\n",
    "   (f ⊗ₘ p) ⋅ (g ⊗ₘ q)  |> \n",
    "       begin\n",
    "            fcod = addexpr!(_egraph, :(cod(type($f))))\n",
    "            gdom = addexpr!(_egraph, :(dom(type($g))))\n",
    "            pcod = addexpr!(_egraph, :(cod(type($p))))\n",
    "            qdom = addexpr!(_egraph, :(dom(type($q))))\n",
    "        \n",
    "        if (fcod == gdom && pcod == qdom)\n",
    "            #println(\"fired\")\n",
    "            #println(\"Fired \" ,  addexpr!(_egraph, :(id(a))) ,  addexpr!(_egraph, :(id(b)))  ,\n",
    "             #    addexpr!(_egraph, :(σ(a,b)))   ,\n",
    "             #   :(($f ⋅ $g) ⊗ₘ ($p ⋅ $q))  )\n",
    "            :(($f ⋅ $g) ⊗ₘ ($p ⋅ $q)) \n",
    "        else \n",
    "\n",
    "            :(($f ⊗ₘ $p) ⋅ ($g ⊗ₘ $q) )\n",
    "        end\n",
    "    end \n",
    "    # so maybe the right\n",
    "    (f ⋅ g) ⊗ₘ (p ⋅ q)  => (f ⊗ₘ p) ⋅ (g ⊗ₘ q)  \n",
    "end\n",
    "\n",
    "cat_rules = cat_rules_simp ∪ cat_rules_shuffle\n",
    "\n",
    "sym_rules_simp = @theory begin\n",
    "   σ(a,b) ⋅ σ(b,a) == id(a ⊗ₒ b)\n",
    "   (σ(a,b) ⊗ₘ id(c)) ⋅ ( id(b) ⊗ₘ σ(a,c) ) == σ(a, b ⊗ₒ c)  # This rule does not naively type check\n",
    "   ( id(a) ⊗ₘ σ(b,c) ) ⋅ (σ(a,c) ⊗ₘ id(b)) == σ(a ⊗ₒ b , c) \n",
    "    \n",
    "    # these rules arer not catlab\n",
    "    σ(a, munit()) == id(a)\n",
    "    σ(munit(), a) == id(a)\n",
    "    σ(munit(), munit()) => id(munit() ⊗ₒ munit()) \n",
    "end\n",
    "\n",
    "sym_rules_shuffle = @theory begin\n",
    "  (f ⊗ₘ h) ⋅ σ(a,b) |> begin\n",
    "            fcod = addexpr!(_egraph, :(cod(type($f)))).id\n",
    "            hcod = addexpr!(_egraph, :(cod(type($h)))).id\n",
    "        if fcod == a && hcod == b\n",
    "            #println(\"other fired\")\n",
    "            :( σ(dom(type($f)),dom(type($h))) ⋅ ($h ⊗ₘ $f ) )\n",
    "        else\n",
    "           :( ($f ⊗ₘ $h) ⋅ σ($a,$b))\n",
    "        end\n",
    "    end\n",
    "    \n",
    "    \n",
    "   σ(c,d) ⋅ (h ⊗ₘ f )  |> begin\n",
    "            fdom = addexpr!(_egraph, :(dom(type($f)))).id\n",
    "            hdom = addexpr!(_egraph, :(dom(type($h)))).id\n",
    "            if fdom == c && hdom == d\n",
    "            :(($f ⊗ₘ $h) ⋅ σ(cod(type($f)),cod(type($h))))\n",
    "            else\n",
    "                :( σ($c,$d) ⋅ ($h ⊗ₘ $f ))\n",
    "            end\n",
    "        end\n",
    "end\n",
    "\n",
    "sym_rules = sym_rules_simp ∪ sym_rules_shuffle\n",
    "\n",
    "# https://github.com/AlgebraicJulia/Catlab.jl/blob/ce2fde9c63a8aab65cf2a7697f43cd24e5e00b3a/src/theories/Monoidal.jl#L127\n",
    "\n",
    "diag_rules_simp = @theory begin\n",
    "\n",
    "     Δ(a) ⋅ (⋄(a) ⊗ₘ id(a))   ==  id(a) \n",
    "     Δ(a) ⋅ (id(a) ⊗ₘ ⋄(a))   ==  id(a) \n",
    "     Δ(a) ⋅ σ(a,a)  ==  Δ(a) \n",
    "    \n",
    "     (Δ(a) ⊗ₘ Δ(b))  ⋅ ( id(a) ⊗ₘ σ(a,b) ⊗ₘ id(b) )  ==  Δ(a ⊗ₒ b) \n",
    "end\n",
    "\n",
    "diag_rules_shuffle = @theory begin\n",
    "\n",
    "     Δ(a) ⋅ (Δ(a) ⊗ₘ id(a))  ==  Δ(a) ⋅ (id(a) ⊗ₘ Δ(a)) \n",
    "     ⋄(a ⊗ₒ b) ==  ⋄(a) ⊗ₘ ⋄(b)\n",
    "    \n",
    "    # These two should not even be rules. They should be initilaizations of the egraph. Maybe.\n",
    "     Δ(munit())  ==  id(munit())\n",
    "     ⋄(munit())  ==  id(munit())  \n",
    "end\n",
    "\n",
    "diag_rules = diag_rules_simp ∪ diag_rules_shuffle\n",
    "\n",
    "cart_rules_simp = @theory begin\n",
    "    # This axiom is unsound. I have no idea why. Totally bizarre\n",
    "    # You can't have a siutaiton where Δ is being compose to that combo where it doesn't type check?\n",
    "    # can you?\n",
    "    # ok yes. This is very similar to the interchange law.\n",
    "    # The otimes does not have to be lined up right\n",
    "    # need to guard on dom(f) = dom(k)\n",
    "    #Δ(a) ⋅ (f ⊗ₘ k) => pair(f,k)\n",
    "    # idea (Δ(dom(type(f))) ⋅ f k => pair(f,k). Is this better?  no\n",
    "    Δ(a) ⋅ (f ⊗ₘ k) |> \n",
    "         begin\n",
    "         a_id = find(_egraph, a)\n",
    "         if  ( addexpr!(_egraph, :(dom(type($f)))).id == a_id &&\n",
    "               addexpr!(_egraph, :(dom(type($k)))).id == a_id)\n",
    "           # println(\"Pair rule fired\")\n",
    "            :(pair($f,$k))\n",
    "        else\n",
    "            :(Δ($a) ⋅ ($f ⊗ₘ $k))\n",
    "        end\n",
    "    end\n",
    "    \n",
    "    # This rule is unsound?!? No. I have no reason to think that now.\n",
    "    pair(f,k) => Δ(dom(type(f))) ⋅ (f ⊗ₘ k)  \n",
    "    proj1(a,b)  ==  id(a) ⊗ₘ ⋄(b) \n",
    "    proj2(a,b)  ==  ⋄(a) ⊗ₘ id(b) \n",
    "    f ⋅ ⋄(b)  =>   ⋄(dom(type(f))) # other direction invents f\n",
    "end\n",
    "  #  :( f ⋅ ⋄(b) ) =>    :(  ⋄(b)  ) # right to left has to invent f?\n",
    "\n",
    "\n",
    "\n",
    "cart_rules_shuffle = @theory begin\n",
    "    f ⋅ Δ(b)  =>  Δ(dom(type(f))) ⋅ (f ⊗ₘ f)\n",
    "    Δ(a) ⋅ (f ⊗ₘ f) => f ⋅ Δ(cod(type(f)))   \n",
    "end\n",
    "\n",
    "cart_rules = cart_rules_simp ∪ cart_rules_shuffle\n",
    "\n",
    "\n",
    "raw_simp_rules = cat_rules_simp ∪ sym_rules_simp  ∪ diag_rules_simp ∪ cart_rules_simp\n",
    "raw_shuffle_rules =  cat_rules_shuffle ∪ sym_rules_shuffle  ∪ diag_rules_shuffle ∪ cart_rules_shuffle\n",
    "\n",
    "# i could directyl code dom and cod without intermediate rules.\n",
    "\n",
    "typing_rules = @theory begin\n",
    "    dom(hom(a,b)) => a\n",
    "    cod(hom(a,b)) => b\n",
    "    type(id(a)) => hom(a,a)\n",
    "    type(f ⋅ g) => hom( dom(type(f)) , cod(type(g)) )\n",
    "    type(f ⊗ₘ g) => hom( dom(type(f)) ⊗ₒ dom(type(g)) , cod(type(f)) ⊗ₒ cod(type(g)))\n",
    "    type(a ⊗ₒ b) => :ob\n",
    "    type(munit()) => :ob\n",
    "    type(σ(a,b)) => hom(a ⊗ₒ b, b ⊗ₒ a)\n",
    "    type(⋄(a)) => hom(a, munit())\n",
    "    type(Δ(a)) => hom(a, a ⊗ₒ a)\n",
    "    type(pair(f,g)) => hom(dom(type(f)), cod(type(f)) ⊗ₒ cod(type(g)))\n",
    "    type(proj1(a,b)) => hom(a ⊗ₒ b, a)\n",
    "    type(proj2(a,b)) => hom(a ⊗ₒ b, b)\n",
    "end\n",
    "\n",
    "\n",
    "raw_rules = typing_rules ∪ cat_rules ∪ sym_rules  ∪ diag_rules ∪ cart_rules ∪ typing_rules\n",
    "nothing"
   ]
  },
  {
   "cell_type": "code",
   "execution_count": 3,
   "metadata": {},
   "outputs": [
    {
     "name": "stdout",
     "output_type": "stream",
     "text": [
      "id(a ⊗ₒ b) =? id(a) ⊗ₘ id(b)\n",
      "true\n",
      "  7.095304 seconds (10.33 M allocations: 530.295 MiB, 2.64% gc time)\n",
      "id(a) ⊗ₘ id(b) =? (Δ(a) ⋅ (id(a) ⊗ₘ (⋄)(a))) ⊗ₘ id(b)\n",
      "true\n",
      "  0.207836 seconds (246.37 k allocations: 12.924 MiB)\n",
      "(Δ(a) ⋅ (id(a) ⊗ₘ (⋄)(a))) ⊗ₘ id(b) =? (Δ(a) ⋅ (id(a) ⊗ₘ (⋄)(a))) ⊗ₘ (Δ(b) ⋅ ((⋄)(b) ⊗ₘ id(b)))\n",
      "true\n",
      "  0.005134 seconds (29.57 k allocations: 1.292 MiB)\n",
      "(Δ(a) ⋅ (id(a) ⊗ₘ (⋄)(a))) ⊗ₘ (Δ(b) ⋅ ((⋄)(b) ⊗ₘ id(b))) =? (Δ(a) ⊗ₘ Δ(b)) ⋅ ((id(a) ⊗ₘ (⋄)(a)) ⊗ₘ ((⋄)(b) ⊗ₘ id(b)))\n",
      "true\n",
      "  0.064793 seconds (83.02 k allocations: 4.167 MiB)\n",
      "(Δ(a) ⊗ₘ Δ(b)) ⋅ ((id(a) ⊗ₘ (⋄)(a)) ⊗ₘ ((⋄)(b) ⊗ₘ id(b))) =? (Δ(a) ⊗ₘ Δ(b)) ⋅ ((id(a) ⊗ₘ ((⋄)(a) ⊗ₘ (⋄)(b))) ⊗ₘ id(b))\n",
      "true\n",
      "  0.005700 seconds (34.10 k allocations: 1.493 MiB)\n",
      "(Δ(a) ⊗ₘ Δ(b)) ⋅ ((id(a) ⊗ₘ ((⋄)(a) ⊗ₘ (⋄)(b))) ⊗ₘ id(b)) =? (Δ(a) ⊗ₘ Δ(b)) ⋅ ((id(a) ⊗ₘ (((⋄)(a) ⊗ₘ (⋄)(b)) ⋅ σ(munit(), munit()))) ⊗ₘ id(b))\n",
      "true\n",
      "  0.757413 seconds (5.18 M allocations: 195.306 MiB, 7.87% gc time)\n",
      "(Δ(a) ⊗ₘ Δ(b)) ⋅ ((id(a) ⊗ₘ (((⋄)(a) ⊗ₘ (⋄)(b)) ⋅ σ(munit(), munit()))) ⊗ₘ id(b)) =? (Δ(a) ⊗ₘ Δ(b)) ⋅ ((id(a) ⊗ₘ (σ(a, b) ⋅ ((⋄)(b) ⊗ₘ (⋄)(a)))) ⊗ₘ id(b))\n",
      "true\n",
      "  1.214288 seconds (9.11 M allocations: 327.891 MiB, 6.23% gc time)\n",
      "(Δ(a) ⊗ₘ Δ(b)) ⋅ ((id(a) ⊗ₘ (σ(a, b) ⋅ ((⋄)(b) ⊗ₘ (⋄)(a)))) ⊗ₘ id(b)) =? (Δ(a) ⊗ₘ Δ(b)) ⋅ ((id(a) ⊗ₘ (σ(a, b) ⋅ ((⋄)(b) ⊗ₘ (⋄)(a)))) ⊗ₘ id(b))\n",
      "true\n",
      "  0.004567 seconds (26.04 k allocations: 1.161 MiB)\n",
      "(Δ(a) ⊗ₘ Δ(b)) ⋅ ((id(a) ⊗ₘ (σ(a, b) ⋅ ((⋄)(b) ⊗ₘ (⋄)(a)))) ⊗ₘ id(b)) =? (Δ(a) ⊗ₘ Δ(b)) ⋅ (((id(a) ⋅ id(a)) ⊗ₘ (σ(a, b) ⋅ ((⋄)(b) ⊗ₘ (⋄)(a)))) ⊗ₘ id(b))\n",
      "true\n",
      "  0.005401 seconds (33.33 k allocations: 1.482 MiB)\n",
      "(Δ(a) ⊗ₘ Δ(b)) ⋅ (((id(a) ⋅ id(a)) ⊗ₘ (σ(a, b) ⋅ ((⋄)(b) ⊗ₘ (⋄)(a)))) ⊗ₘ id(b)) =? (Δ(a) ⊗ₘ Δ(b)) ⋅ (((id(a) ⊗ₘ σ(a, b)) ⊗ₘ id(b)) ⋅ ((id(a) ⊗ₘ ((⋄)(b) ⊗ₘ (⋄)(a))) ⊗ₘ id(b)))\n",
      "true\n",
      "  0.719734 seconds (5.35 M allocations: 190.232 MiB, 7.60% gc time)\n",
      "(Δ(a) ⊗ₘ Δ(b)) ⋅ (((id(a) ⊗ₘ σ(a, b)) ⊗ₘ id(b)) ⋅ ((id(a) ⊗ₘ ((⋄)(b) ⊗ₘ (⋄)(a))) ⊗ₘ id(b))) =? Δ(a ⊗ₒ b) ⋅ ((id(a) ⊗ₘ ((⋄)(b) ⊗ₘ (⋄)(a))) ⊗ₘ id(b))\n",
      "true\n",
      "  0.006359 seconds (37.66 k allocations: 1.662 MiB)\n",
      "Δ(a ⊗ₒ b) ⋅ ((id(a) ⊗ₘ ((⋄)(b) ⊗ₘ (⋄)(a))) ⊗ₘ id(b)) =? Δ(a ⊗ₒ b) ⋅ ((id(a) ⊗ₘ ((⋄)(b) ⊗ₘ (⋄)(a))) ⊗ₘ id(b))\n",
      "true\n",
      "  0.004457 seconds (26.24 k allocations: 1.159 MiB)\n",
      "Δ(a ⊗ₒ b) ⋅ ((id(a) ⊗ₘ ((⋄)(b) ⊗ₘ (⋄)(a))) ⊗ₘ id(b)) =? Δ(a ⊗ₒ b) ⋅ (proj1(a, b) ⊗ₘ proj2(a, b))\n",
      "true\n",
      "  0.016581 seconds (108.83 k allocations: 4.800 MiB)\n",
      "Δ(a ⊗ₒ b) ⋅ (proj1(a, b) ⊗ₘ proj2(a, b)) =? pair(proj1(a, b), proj2(a, b))\n",
      "true\n",
      "  0.035233 seconds (242.38 k allocations: 10.373 MiB)\n"
     ]
    }
   ],
   "source": [
    "using MacroTools\n",
    "\n",
    "macro calc(e...)\n",
    "    #println(dump(unblock(rmlines(e))))\n",
    "    theory = eval(e[1])\n",
    "    e = rmlines(e[2])\n",
    "    @assert e.head == :block\n",
    "    for (a,b) in zip(e.args[1:end-1], e.args[2:end])\n",
    "            println(a, \" =? \", b)\n",
    "            @time println(areequal(theory, a,b; timeout=40 ))\n",
    "    end\n",
    "    \n",
    "end\n",
    "\n",
    "\n",
    "@calc raw_rules begin\n",
    "    id(a ⊗ₒ b) #4s to middle\n",
    "    id(a) ⊗ₘ id(b)\n",
    "    (Δ(a) ⋅ (id(a) ⊗ₘ ⋄(a))) ⊗ₘ id(b)\n",
    "    (Δ(a) ⋅ (id(a) ⊗ₘ ⋄(a))) ⊗ₘ (Δ(b) ⋅ (⋄(b) ⊗ₘ id(b)))\n",
    "    (Δ(a) ⊗ₘ Δ(b))  ⋅ ((id(a) ⊗ₘ ⋄(a)) ⊗ₘ (⋄(b) ⊗ₘ id(b))) \n",
    "    (Δ(a) ⊗ₘ Δ(b))  ⋅ (id(a) ⊗ₘ (⋄(a) ⊗ₘ ⋄(b)) ⊗ₘ id(b))\n",
    "    (Δ(a) ⊗ₘ Δ(b))  ⋅ (id(a) ⊗ₘ ((⋄(a) ⊗ₘ ⋄(b)) ⋅ σ(munit(),munit())) ⊗ₘ id(b)) #timeout 20\n",
    "    (Δ(a) ⊗ₘ Δ(b))  ⋅ ((id(a) ⊗ₘ (σ(a,b) ⋅ (⋄(b) ⊗ₘ ⋄(a))) ⊗ₘ id(b))) # timeout=10 4 to id /7.6s to pair\n",
    "    (Δ(a) ⊗ₘ Δ(b))  ⋅ ((id(a) ⊗ₘ (σ(a,b) ⋅ (⋄(b) ⊗ₘ ⋄(a))) ⊗ₘ id(b)))\n",
    "    (Δ(a) ⊗ₘ Δ(b))  ⋅ ((id(a) ⋅ id(a)) ⊗ₘ (σ(a,b) ⋅ (⋄(b) ⊗ₘ ⋄(a))) ⊗ₘ id(b))\n",
    "    (Δ(a) ⊗ₘ Δ(b))  ⋅ ( (id(a) ⊗ₘ σ(a,b) ⊗ₘ id(b)) ⋅ (  id(a) ⊗ₘ (⋄(b) ⊗ₘ ⋄(a)) ⊗ₘ id(b) )  )\n",
    "    Δ(a ⊗ₒ b) ⋅ (  id(a) ⊗ₘ (⋄(b) ⊗ₘ ⋄(a)) ⊗ₘ id(b) ) \n",
    "    Δ(a ⊗ₒ b) ⋅ (  id(a) ⊗ₘ (⋄(b) ⊗ₘ ⋄(a)) ⊗ₘ id(b) )\n",
    "    Δ(a ⊗ₒ b) ⋅ (  proj1(a,b) ⊗ₘ proj2(a,b) )\n",
    "    pair(proj1(a,b), proj2(a,b))\n",
    "    \n",
    "    \n",
    "end\n"
   ]
  },
  {
   "cell_type": "code",
   "execution_count": null,
   "metadata": {},
   "outputs": [],
   "source": [
    "\n",
    "function myequal(theory::Vector{Rule}, exprs...;\n",
    "    timeout=options[:timeout], sizeout=options[:sizeout],\n",
    "    matchlimit=options[:matchlimit], mod=@__MODULE__)\n",
    "    G = EGraph(exprs[1])\n",
    "    areequal(G, theory, exprs...;\n",
    "        timeout=timeout, matchlimit=matchlimit, sizeout=sizeout, mod=mod)\n",
    "end\n",
    "\n",
    "function myequal(G::EGraph, t::Vector{Rule}, exprs...;\n",
    "    timeout=options[:timeout], sizeout=options[:sizeout],\n",
    "    matchlimit=options[:matchlimit], mod=@__MODULE__)\n",
    "    #@log \"Checking equality for \" exprs\n",
    "    if length(exprs) == 1; return true end\n",
    "\n",
    "    ids = []\n",
    "    for i ∈ exprs\n",
    "        ec = addexpr!(G, i)\n",
    "        push!(ids, ec.id)\n",
    "    end\n",
    "\n",
    "    # rebuild!(G)\n",
    "\n",
    "    #@log \"starting saturation\"\n",
    "\n",
    "    alleq = () -> (all(x -> in_same_set(G.U, ids[1], x), ids[2:end]))\n",
    "\n",
    "    report = saturate!(G, t; timeout=timeout, matchlimit=matchlimit,\n",
    "        sizeout=sizeout, stopwhen=alleq, mod=mod)\n",
    "    report = saturate!(G, t; timeout=timeout, matchlimit=matchlimit,\n",
    "        sizeout=sizeout, stopwhen=alleq, mod=mod)\n",
    "\n",
    "    alleq()\n",
    "end"
   ]
  },
  {
   "cell_type": "code",
   "execution_count": 28,
   "metadata": {},
   "outputs": [
    {
     "name": "stdout",
     "output_type": "stream",
     "text": [
      "((⋄)(a) ⊗ₘ (⋄)(b)) ⋅ σ(munit(), munit()) =? σ(a, b) ⋅ ((⋄)(b) ⊗ₘ (⋄)(a))\n",
      "true\n",
      "  0.025644 seconds (156.41 k allocations: 6.058 MiB)\n"
     ]
    }
   ],
   "source": [
    "@calc begin\n",
    "    (⋄(a) ⊗ₘ ⋄(b)) ⋅ σ(munit(),munit())\n",
    "    (σ(a,b) ⋅ (⋄(b) ⊗ₘ ⋄(a)))\n",
    "end "
   ]
  },
  {
   "cell_type": "code",
   "execution_count": 11,
   "metadata": {},
   "outputs": [
    {
     "name": "stdout",
     "output_type": "stream",
     "text": [
      "Symbol rawrules\n",
      "nothing\n"
     ]
    }
   ],
   "source": [
    "\n",
    "macro calctest(e...)\n",
    "    println(dump(e[1]))\n",
    "end\n",
    "@calctest rawrules begin\n",
    "    (⋄(a) ⊗ₘ ⋄(b)) ⋅ σ(munit(),munit())\n",
    "    (σ(a,b) ⋅ (⋄(b) ⊗ₘ ⋄(a)))\n",
    "end \n"
   ]
  },
  {
   "cell_type": "code",
   "execution_count": 48,
   "metadata": {},
   "outputs": [
    {
     "ename": "LoadError",
     "evalue": "InterruptException:",
     "output_type": "error",
     "traceback": [
      "InterruptException:",
      "",
      "Stacktrace:",
      " [1] hash(::Base.ImmutableDict{Any,Tuple{EClass,Any}}, ::UInt64) at ./abstractdict.jl:486",
      " [2] hash at ./hashing.jl:18 [inlined]",
      " [3] hashindex(::Base.ImmutableDict{Any,Tuple{EClass,Any}}, ::Int64) at ./dict.jl:168",
      " [4] ht_keyindex(::Dict{Base.ImmutableDict{Any,Tuple{EClass,Any}},Nothing}, ::Base.ImmutableDict{Any,Tuple{EClass,Any}}) at ./dict.jl:282",
      " [5] haskey at ./dict.jl:535 [inlined]",
      " [6] in at ./set.jl:56 [inlined]",
      " [7] ∉ at ./operators.jl:1070 [inlined]",
      " [8] #89 at ./array.jl:2523 [inlined]",
      " [9] filter!(::Base.var\"#89#90\"{typeof(∉),typeof(push!),Set{Base.ImmutableDict{Any,Tuple{EClass,Any}}}}, ::Array{Base.ImmutableDict{Any,Tuple{EClass,Any}},1}) at ./array.jl:2507",
      " [10] _grow! at ./array.jl:2535 [inlined]",
      " [11] union!(::Array{Base.ImmutableDict{Any,Tuple{EClass,Any}},1}, ::Array{Base.ImmutableDict{Any,Tuple{EClass,Any}},1}) at ./array.jl:2542",
      " [12] ematch(::EGraph, ::Expr, ::Int64, ::Base.ImmutableDict{Any,Tuple{EClass,Any}}; lit::Nothing) at /home/philip/.julia/packages/Metatheory/w6uR8/src/EGraphs/ematch.jl:105",
      " [13] ematch(::EGraph, ::Expr, ::Int64, ::Base.ImmutableDict{Any,Tuple{EClass,Any}}) at /home/philip/.julia/packages/Metatheory/w6uR8/src/EGraphs/ematch.jl:67",
      " [14] ematchlist(::EGraph, ::Array{Any,1}, ::Array{Int64,1}, ::Base.ImmutableDict{Any,Tuple{EClass,Any}}) at /home/philip/.julia/packages/Metatheory/w6uR8/src/EGraphs/ematch.jl:31",
      " [15] ematch(::EGraph, ::Expr, ::Int64, ::Base.ImmutableDict{Any,Tuple{EClass,Any}}; lit::Nothing) at /home/philip/.julia/packages/Metatheory/w6uR8/src/EGraphs/ematch.jl:105",
      " [16] ematch at /home/philip/.julia/packages/Metatheory/w6uR8/src/EGraphs/ematch.jl:67 [inlined]",
      " [17] macro expansion at /home/philip/.julia/packages/Metatheory/w6uR8/src/EGraphs/saturation.jl:71 [inlined]",
      " [18] macro expansion at ./timing.jl:310 [inlined]",
      " [19] eqsat_step!(::EGraph, ::Array{Rule,1}; scheduler::Metatheory.EGraphs.Schedulers.BackoffScheduler, mod::Module, match_hist::Array{Tuple{Rule,Base.ImmutableDict{Any,Tuple{EClass,Any}},Int64},1}, sizeout::Int64, stopwhen::Metatheory.EGraphs.var\"#42#44\"{EGraph,Array{Any,1}}, matchlimit::Int64) at /home/philip/.julia/packages/Metatheory/w6uR8/src/EGraphs/saturation.jl:54",
      " [20] saturate!(::EGraph, ::Array{Rule,1}; mod::Module, timeout::Int64, stopwhen::Metatheory.EGraphs.var\"#42#44\"{EGraph,Array{Any,1}}, sizeout::Int64, matchlimit::Int64, scheduler::Type{Metatheory.EGraphs.Schedulers.BackoffScheduler}) at /home/philip/.julia/packages/Metatheory/w6uR8/src/EGraphs/saturation.jl:217",
      " [21] areequal(::EGraph, ::Array{Rule,1}, ::Expr, ::Vararg{Expr,N} where N; timeout::Int64, sizeout::Int64, matchlimit::Int64, mod::Module) at /home/philip/.julia/packages/Metatheory/w6uR8/src/EGraphs/equality.jl:27",
      " [22] areequal(::Array{Rule,1}, ::Expr, ::Vararg{Expr,N} where N; timeout::Int64, sizeout::Int64, matchlimit::Int64, mod::Module) at /home/philip/.julia/packages/Metatheory/w6uR8/src/EGraphs/equality.jl:5",
      " [23] top-level scope at In[48]:1",
      " [24] include_string(::Function, ::Module, ::String, ::String) at ./loading.jl:1091"
     ]
    }
   ],
   "source": [
    "areequal(raw_rules, :(pair(proj1(a,b), proj2(a,b))) ,     :(id(a ⊗ₒ b)), timeout= 10  )"
   ]
  },
  {
   "cell_type": "markdown",
   "metadata": {},
   "source": [
    "I am still of the opinion that to get type tagging to be in principle be complete in full totality, you need deeper tagging than shown. For example `     id(A.:Ob).(A.::Ob→A.:Ob) ⋅ f.(A.:Ob→B.:Ob) => f.(A.Ob→B.:Ob)`, you need need to tag deeper into the types. Although I think James might be showing a way for MT to do the tagging itself with the `1(A) => id(A).(A→A)` rule, so maybe that's a good way to go.\n",
    "\n",
    "And Alessandro had that nice thing showing tagging with MT itself. That was compelling.\n",
    "\n",
    "\n",
    "Does type tagging work just fine and I was just missing axioms?\n"
   ]
  },
  {
   "cell_type": "code",
   "execution_count": 5,
   "metadata": {},
   "outputs": [
    {
     "name": "stdout",
     "output_type": "stream",
     "text": [
      "Equality Saturation Report\n",
      "=================\n",
      "\tStop Reason: nothing\n",
      "\tEGraph Saturated: true\n",
      "\tIterations: 2\n",
      "\tEGraph Size: 2 eclasses, 3 nodes\n",
      "\tTotal Time: (time = 0.0013517999999999998, bytes = 147328, gctime = 0.0)\n",
      "\tSearch Time: (time = 0.000180999, bytes = 47824, gctime = 0.0)\n",
      "\tApply Time: (time = 0.001094949, bytes = 91312, gctime = 0.0)\n",
      "\tRebuild Time: (time = 7.5852e-5, bytes = 8192, gctime = 0.0)\n",
      "\n",
      "f  ===>  f\n",
      "Equality Saturation Report\n",
      "=================\n",
      "\tStop Reason: timeout\n",
      "\tEGraph Saturated: false\n",
      "\tIterations: 5\n",
      "\tEGraph Size: 176 eclasses, 346 nodes\n",
      "\tTotal Time: (time = 0.10420676000000001, bytes = 28798440, gctime = 0.0)\n",
      "\tSearch Time: (time = 0.006514121, bytes = 4787056, gctime = 0.0)\n",
      "\tApply Time: (time = 0.081871759, bytes = 20122104, gctime = 0.0)\n",
      "\tRebuild Time: (time = 0.01582088, bytes = 3889280, gctime = 0.0)\n",
      "\n",
      "id(a)  ===>  id(a)\n",
      "Equality Saturation Report\n",
      "=================\n",
      "\tStop Reason: timeout\n",
      "\tEGraph Saturated: false\n",
      "\tIterations: 5\n",
      "\tEGraph Size: 101 eclasses, 237 nodes\n",
      "\tTotal Time: (time = 0.102528901, bytes = 31271192, gctime = 0.0)\n",
      "\tSearch Time: (time = 0.009031662, bytes = 6689544, gctime = 0.0)\n",
      "\tApply Time: (time = 0.075409878, bytes = 19980696, gctime = 0.0)\n",
      "\tRebuild Time: (time = 0.018087361, bytes = 4600952, gctime = 0.0)\n",
      "\n",
      "id(a) ⋅ id(a)  ===>  id(a)\n",
      "Equality Saturation Report\n",
      "=================\n",
      "\tStop Reason: timeout\n",
      "\tEGraph Saturated: false\n",
      "\tIterations: 5\n",
      "\tEGraph Size: 117 eclasses, 305 nodes\n",
      "\tTotal Time: (time = 0.14337790099999997, bytes = 41517680, gctime = 0.010888698)\n",
      "\tSearch Time: (time = 0.011205231, bytes = 8739744, gctime = 0.0)\n",
      "\tApply Time: (time = 0.092889772, bytes = 25491784, gctime = 0.0)\n",
      "\tRebuild Time: (time = 0.039282898, bytes = 7286152, gctime = 0.010888698)\n",
      "\n",
      "(f ⋅ id(b)) ⋅ id(b)  ===>  f\n",
      "Equality Saturation Report\n",
      "=================\n",
      "\tStop Reason: timeout\n",
      "\tEGraph Saturated: false\n",
      "\tIterations: 5\n",
      "\tEGraph Size: 303 eclasses, 601 nodes\n",
      "\tTotal Time: (time = 0.266563717, bytes = 72266024, gctime = 0.021755776999999997)\n",
      "\tSearch Time: (time = 0.01343829, bytes = 9443344, gctime = 0.0)\n",
      "\tApply Time: (time = 0.202619217, bytes = 49686096, gctime = 0.021755776999999997)\n",
      "\tRebuild Time: (time = 0.05050621, bytes = 13136584, gctime = 0.0)\n",
      "\n",
      "σ(a, b) ⋅ σ(b, a)  ===>  id(a ⊗ₒ b)\n",
      "Equality Saturation Report\n",
      "=================\n",
      "\tStop Reason: timeout\n",
      "\tEGraph Saturated: false\n",
      "\tIterations: 5\n",
      "\tEGraph Size: 254 eclasses, 522 nodes\n",
      "\tTotal Time: (time = 0.203270102, bytes = 57896456, gctime = 0.011026055)\n",
      "\tSearch Time: (time = 0.012875806, bytes = 9913456, gctime = 0.0)\n",
      "\tApply Time: (time = 0.15182232, bytes = 37985176, gctime = 0.011026055)\n",
      "\tRebuild Time: (time = 0.038571976, bytes = 9997824, gctime = 0.0)\n",
      "\n",
      "(σ(a, b) ⋅ σ(b, a)) ⋅ σ(a, b)  ===>  σ(a, b)\n",
      "Equality Saturation Report\n",
      "=================\n",
      "\tStop Reason: timeout\n",
      "\tEGraph Saturated: false\n",
      "\tIterations: 5\n",
      "\tEGraph Size: 503 eclasses, 1224 nodes\n",
      "\tTotal Time: (time = 0.636918004, bytes = 159415912, gctime = 0.036013168)\n",
      "\tSearch Time: (time = 0.021707976000000004, bytes = 12892960, gctime = 0.0)\n",
      "\tApply Time: (time = 0.488219489, bytes = 114900432, gctime = 0.036013168)\n",
      "\tRebuild Time: (time = 0.12699053899999999, bytes = 31622520, gctime = 0.0)\n",
      "\n",
      "pair(id(a), id(a))  ===>  Δ(a)\n",
      "Equality Saturation Report\n",
      "=================\n",
      "\tStop Reason: timeout\n",
      "\tEGraph Saturated: false\n",
      "\tIterations: 5\n",
      "\tEGraph Size: 61 eclasses, 193 nodes\n",
      "\tTotal Time: (time = 0.125390455, bytes = 35243680, gctime = 0.011688715)\n",
      "\tSearch Time: (time = 0.009124336, bytes = 7140000, gctime = 0.0)\n",
      "\tApply Time: (time = 0.08431095499999999, bytes = 22917680, gctime = 0.0)\n",
      "\tRebuild Time: (time = 0.031955164, bytes = 5186000, gctime = 0.011688715)\n",
      "\n",
      "id(a) ⊗ₘ (⋄)(b)  ===>  proj1(a, b)\n",
      "Equality Saturation Report\n",
      "=================\n",
      "\tStop Reason: timeout\n",
      "\tEGraph Saturated: false\n",
      "\tIterations: 5\n",
      "\tEGraph Size: 222 eclasses, 451 nodes\n",
      "\tTotal Time: (time = 0.13855905, bytes = 42073496, gctime = 0.0)\n",
      "\tSearch Time: (time = 0.008582392, bytes = 7411944, gctime = 0.0)\n",
      "\tApply Time: (time = 0.10202291299999999, bytes = 27682304, gctime = 0.0)\n",
      "\tRebuild Time: (time = 0.027953745, bytes = 6979248, gctime = 0.0)\n",
      "\n",
      "pair(proj1(a, b), proj2(a, b))  ===>  pair(proj1(a, b), proj2(a, b))\n",
      "Equality Saturation Report\n",
      "=================\n",
      "\tStop Reason: timeout\n",
      "\tEGraph Saturated: false\n",
      "\tIterations: 5\n",
      "\tEGraph Size: 908 eclasses, 2151 nodes\n",
      "\tTotal Time: (time = 0.998732881, bytes = 260569944, gctime = 0.061368500000000006)\n",
      "\tSearch Time: (time = 0.070819737, bytes = 31071776, gctime = 0.013067676)\n",
      "\tApply Time: (time = 0.824850405, bytes = 203135488, gctime = 0.048300824000000006)\n",
      "\tRebuild Time: (time = 0.103062739, bytes = 26362680, gctime = 0.0)\n",
      "\n",
      "id(a ⊗ₒ b)  ===>  id(a ⊗ₒ b)\n",
      "Equality Saturation Report\n",
      "=================\n",
      "\tStop Reason: timeout\n",
      "\tEGraph Saturated: false\n",
      "\tIterations: 5\n",
      "\tEGraph Size: 61 eclasses, 193 nodes\n",
      "\tTotal Time: (time = 0.12981733, bytes = 35243680, gctime = 0.013384028)\n",
      "\tSearch Time: (time = 0.022959609, bytes = 7140000, gctime = 0.013384028)\n",
      "\tApply Time: (time = 0.085775055, bytes = 22917680, gctime = 0.0)\n",
      "\tRebuild Time: (time = 0.021082666, bytes = 5186000, gctime = 0.0)\n",
      "\n",
      "id(a) ⊗ₘ (⋄)(b)  ===>  proj1(a, b)\n"
     ]
    }
   ],
   "source": [
    "\n",
    "examples = [\n",
    "    :f\n",
    "    :(id(a))\n",
    "    :(id(a) ⋅ id(a))\n",
    "    :(f ⋅ id(b) ⋅ id(b))\n",
    "    :( σ(a,b) ⋅ σ(b,a) )\n",
    "    :( σ(a,b) ⋅ σ(b,a) ⋅ σ(a,b))\n",
    "    :(pair(id(a), id(a)))\n",
    "    :(id(a) ⊗ₘ ⋄(b))  \n",
    "    :( pair(proj1(a,b), proj2(a,b)) )\n",
    "    :( id(a ⊗ₒ b) )\n",
    "    :( id(a) ⊗ₘ ⋄(b) )\n",
    "\n",
    "]\n",
    "\n",
    "# https://julialang.zulipchat.com/#narrow/stream/230248-catlab.2Ejl/topic/Automatic.20Theorem.20Proving/near/211396362\n",
    "raw_derivation = [\n",
    "  #  :( pair(proj1(a,b), proj2(a,b)) )\n",
    "    #:(   )\n",
    "   # :( Δ(a ⊗ₘ b) ⋅ (id(a) ⊗ₘ ((⋄)(b ⊗ₒ a) ⊗ id(b))) )\n",
    "   # :( (σ(a, b) ⋅ (⋄)(b ⊗ₒ a))) \n",
    "   # :( id(a) ⊗ₘ (σ(a, b) ⋅ (⋄(b) ⊗ₘ ⋄(a) ))  ⊗ₘ id(b) )\n",
    "   #  :(  id(a) ⊗ₘ ⋄(a ⊗ₒ b) ⊗ₘ id(b)  )\n",
    "  #  :( (id(a) ⊗ₘ σ(a,b) ⊗ₘ id(b)) ⋅ (  id(a) ⊗ₘ ⋄(b ⊗ₒ a) ⊗ₘ id(b) )  )\n",
    "    # :( (id(a) ⊗ₘ σ(a,b) ⊗ₘ id(b)) ⋅ (  id(a) ⊗ₘ (⋄(b) ⊗ₘ ⋄(a)) ⊗ₘ id(b) )  )\n",
    "   # :( (Δ(a) ⊗ₘ Δ(b))  ⋅ ( (id(a) ⊗ₘ σ(a,b) ⊗ₘ id(b)) ⋅ (  id(a) ⊗ₘ (⋄(b) ⊗ₘ ⋄(a)) ⊗ₘ id(b) )  ))\n",
    "   # :( (Δ(a) ⊗ₘ Δ(b))  ⋅ (  (id(a) ⊗ₘ ⋄(a)) ⊗ₘ (⋄(b) ⊗ₘ id(b) )  ))\n",
    "   # :(  (Δ(a) ⋅ (id(a) ⊗ₘ ⋄(a))) ⊗ₘ (Δ(b) ⋅ (⋄(b) ⊗ₘ id(b)))  )\n",
    "   # :(id(a ⊗ₒ b))\n",
    "   # :(type(id(a ⊗ₒ b)))\n",
    "   # :(type(Δ(a ⊗ₒ b) ⋅ (⋄(a ⊗ₒ b) ⊗ₘ id(a ⊗ₒ b))))\n",
    "   # :(type(pair(⋄(a ⊗ₒ b) , id(a ⊗ₒ b))))\n",
    "   # :( a ⊗ₒ b )\n",
    "     :((Δ(a) ⊗ₘ Δ(b))  ⋅ (id(a) ⊗ₘ ((⋄(a) ⊗ₘ ⋄(b)) ⋅ σ(munit(),munit())) ⊗ₘ id(b)))\n",
    "]\n",
    "raw_rules = typing_rules ∪ cat_rules ∪ cart_rules  ∪ sym_rules  ∪ diag_rules  #∪ cart_rules #\n",
    "for e in   examples #raw_derivation #  ∪\n",
    "    G = EGraph( e )\n",
    "    addexpr!(G,     :( munit() ⊗ₒ munit() ))\n",
    "    #addexpr!(G,    :( type((Δ(a) ⊗ₘ Δ(b))  ⋅ ( (id(a) ⊗ₘ σ(a,b) ⊗ₘ id(b)) ⋅ (  id(a) ⊗ₘ (⋄(b) ⊗ₘ ⋄(a)) ⊗ₘ id(b) )  )) ))\n",
    "    #merge!(G, addexpr!(G, :(type(f))  ).id , addexpr!(G, :(hom(a,b))  ).id)\n",
    "    #@time saturate!(G, typing_rules)\n",
    "    #@time saturate!(G, typing_rules)\n",
    "    println(saturate!(G, raw_rules, timeout=5))\n",
    "    #@time saturate!(G, raw_rules, timeout=1)\n",
    "    # @time saturate!(G, raw_rules, timeout=10)\n",
    "    #@time saturate!(G, raw_rules, timeout=20)\n",
    "    #   @time saturate!(G, raw_rules, timeout=20)\n",
    "   #         @time saturate!(G, raw_rules, timeout=20)\n",
    "    # @time saturate!(G, raw_rules, timeout=5)\n",
    "    #@time saturate!(G, raw_rules, timeout=50)\n",
    "    #@time saturate!(G, raw_rules, timeout=50)\n",
    "    #@time saturate!(G, raw_rules, timeout=300)\n",
    "    #@time saturate!(G, raw_rules, timeout=300)\n",
    "    #@time saturate!(G, raw_rules, timeout=300)\n",
    "    #@time saturate!(G, typing_rules)\n",
    "    #@time saturate!(G, typing_rules)\n",
    "    extractor = addanalysis!(G, ExtractionAnalysis, astsize)\n",
    "    ex = extract!(G, extractor)\n",
    "    println(  e , \"  ===>  \" ,ex )\n",
    "end"
   ]
  },
  {
   "cell_type": "code",
   "execution_count": null,
   "metadata": {},
   "outputs": [],
   "source": [
    "G = EGraph(  :(Δ(a) ⋅ (f ⊗ₘ g)) )\n",
    "merge!(G, addexpr!(G, :(type(f))  ).id , addexpr!(G, :(hom(a,b))  ).id)\n",
    "merge!(G, addexpr!(G, :(type(g))  ).id , addexpr!(G, :(hom(a,c))  ).id)\n",
    "@time saturate!(G,  typing_rules ∪ cart_rules_simp, timeout=20)\n",
    "@time saturate!(G,  typing_rules ∪ cart_rules_simp, timeout=20)\n",
    "@time saturate!(G,  typing_rules ∪ cart_rules_simp, timeout=20)\n",
    "extractor = addanalysis!(G, ExtractionAnalysis, astsize)\n",
    "ex = extract!(G, extractor)\n",
    "\n",
    "simp_theory = @theory begin\n",
    "    f(a) |>  (println(a); println( dump(:(f($a)) )); a) #(find(_egraph, addexpr!()) == a ? a : :(f(a)))\n",
    "end\n",
    "\n",
    "G = EGraph(:(f(x)))\n",
    "@time saturate!(G, simp_theory)\n",
    "extractor = addanalysis!(G, ExtractionAnalysis, astsize)\n",
    "ex = extract!(G, extractor)\n",
    "#addexpr!(G, :(f(x)))"
   ]
  },
  {
   "cell_type": "code",
   "execution_count": 405,
   "metadata": {},
   "outputs": [
    {
     "name": "stdout",
     "output_type": "stream",
     "text": [
      "  0.000733 seconds (3.67 k allocations: 190.391 KiB)\n"
     ]
    },
    {
     "data": {
      "text/plain": [
       ":(munit())"
      ]
     },
     "execution_count": 405,
     "metadata": {},
     "output_type": "execute_result"
    }
   ],
   "source": [
    "\n",
    "G = EGraph(   :( munit() ⊗ₒ munit())  )\n",
    "#merge!(G, addexpr!(G, :(type(f))  ).id , addexpr!(G, :(hom(a,a))  ).id)\n",
    "#merge!(G, addexpr!(G, :(type(g))  ).id , addexpr!(G, :(hom(b,b))  ).id)  typing_rules ∪ sym_rules_shuffle ∪ sym_rules_simp\n",
    "@time saturate!(G,  raw_rules , timeout=5)\n",
    "#@time saturate!(G,  typing_rules ∪ cart_rules_simp, timeout=20)\n",
    "#time saturate!(G,  typing_rules ∪ cart_rules_simp, timeout=20)\n",
    "extractor = addanalysis!(G, ExtractionAnalysis, astsize)\n",
    "ex = extract!(G, extractor)"
   ]
  },
  {
   "cell_type": "code",
   "execution_count": 421,
   "metadata": {},
   "outputs": [
    {
     "name": "stdout",
     "output_type": "stream",
     "text": [
      "  0.002021 seconds (13.73 k allocations: 637.812 KiB)\n"
     ]
    },
    {
     "data": {
      "text/plain": [
       ":((⋄)(a ⊗ₒ b))"
      ]
     },
     "execution_count": 421,
     "metadata": {},
     "output_type": "execute_result"
    }
   ],
   "source": [
    "#=diag_rules_shuffle = @theory begin\n",
    "\n",
    "     Δ(a) ⋅ (Δ(a) ⊗ₘ id(a))  ==  Δ(a) ⋅ (id(a) ⊗ₘ Δ(a)) \n",
    "     ⋄(a ⊗ₒ b) ==  ⋄(a) ⊗ₘ ⋄(b)\n",
    "    \n",
    "    # These two should not even be rules. They should be initilaizations of the egraph. Maybe.\n",
    "     Δ(munit())  ==  id(munit())\n",
    "     ⋄(munit())  ==  id(munit())  \n",
    "end\n",
    "\n",
    "cart_rules_simp = @theory begin\n",
    "    # This axiom is unsound. I have no idea why. Totally bizarre\n",
    "    # You can't have a siutaiton where Δ is being compose to that combo where it doesn't type check?\n",
    "    # can you?\n",
    "    # ok yes. This is very similar to the interchange law.\n",
    "    # The otimes does not have to be lined up right\n",
    "    # need to guard on dom(f) = dom(k)\n",
    "    #Δ(a) ⋅ (f ⊗ₘ k) => pair(f,k)\n",
    "    # idea (Δ(dom(type(f))) ⋅ f k => pair(f,k). Is this better?  no\n",
    "    Δ(a) ⋅ (f ⊗ₘ k) |> \n",
    "         begin\n",
    "         a_id = find(_egraph, a)\n",
    "         if  ( addexpr!(_egraph, :(dom(type($f)))).id == a_id &&\n",
    "               addexpr!(_egraph, :(dom(type($k)))).id == a_id)\n",
    "           # println(\"Pair rule fired\")\n",
    "            :(pair($f,$k))\n",
    "        else\n",
    "            :(Δ($a) ⋅ ($f ⊗ₘ $k))\n",
    "        end\n",
    "    end\n",
    "    \n",
    "    # This rule is unsound?!? No. I have no reason to think that now.\n",
    "    pair(f,k) => Δ(dom(type(f))) ⋅ (f ⊗ₘ k)  \n",
    "    #proj1(a,b)  ==  id(a) ⊗ₘ ⋄(b) \n",
    "    #proj2(a,b)  ==  ⋄(a) ⊗ₘ id(b) \n",
    "    f ⋅ ⋄(b)  =>   ⋄(b) # other direction invents f\n",
    "end =#\n",
    "\n",
    "\n",
    "G = EGraph(   :( σ(a, b) ⋅ (⋄(b) ⊗ₘ ⋄(a) ))  )\n",
    "#merge!(G, addexpr!(G, :(type(f))  ).id , addexpr!(G, :(hom(a,a))  ).id)\n",
    "#merge!(G, addexpr!(G, :(type(g))  ).id , addexpr!(G, :(hom(b,b))  ).id)  typing_rules ∪ sym_rules_shuffle ∪ sym_rules_simp\n",
    "@time saturate!(G,  typing_rules ∪  diag_rules_shuffle ∪ cart_rules_simp  , timeout=5)\n",
    "#@time saturate!(G,  typing_rules ∪ cart_rules_simp, timeout=20)\n",
    "#time saturate!(G,  typing_rules ∪ cart_rules_simp, timeout=20)\n",
    "extractor = addanalysis!(G, ExtractionAnalysis, astsize)\n",
    "ex = extract!(G, extractor)"
   ]
  },
  {
   "cell_type": "code",
   "execution_count": 341,
   "metadata": {
    "collapsed": true,
    "jupyter": {
     "outputs_hidden": true
    }
   },
   "outputs": [
    {
     "name": "stdout",
     "output_type": "stream",
     "text": [
      "Fired EClass(26)EClass(22)EClass(649)(EClass(22) ⋅ EClass(22)) ⊗ₘ (EClass(22) ⋅ EClass(22))\n",
      "Fired EClass(26)EClass(22)EClass(649)(EClass(26) ⋅ EClass(26)) ⊗ₘ (EClass(26) ⋅ EClass(26))\n",
      "Fired EClass(26)EClass(22)EClass(649)(EClass(22) ⋅ EClass(124)) ⊗ₘ (EClass(22) ⋅ EClass(22))\n",
      "Fired EClass(26)EClass(22)EClass(649)(EClass(22) ⋅ EClass(22)) ⊗ₘ (EClass(22) ⋅ EClass(124))\n",
      "Fired EClass(26)EClass(22)EClass(649)(EClass(26) ⋅ EClass(128)) ⊗ₘ (EClass(26) ⋅ EClass(26))\n",
      "Fired EClass(26)EClass(22)EClass(649)(EClass(26) ⋅ EClass(26)) ⊗ₘ (EClass(26) ⋅ EClass(128))\n",
      "Pair rule fired\n",
      "Pair rule fired\n",
      "Pair rule fired\n",
      "Pair rule fired\n",
      "Pair rule fired\n",
      "Pair rule fired\n",
      "Pair rule fired\n",
      "Pair rule fired\n",
      "Pair rule fired\n",
      "Pair rule fired\n",
      "Pair rule fired\n",
      "Pair rule fired\n",
      "Pair rule fired\n",
      "Pair rule fired\n",
      "Pair rule fired\n",
      "Pair rule fired\n",
      "Pair rule fired\n",
      "Pair rule fired\n",
      "Fired EClass(26)EClass(22)EClass(649)(EClass(880) ⋅ EClass(859)) ⊗ₘ (EClass(880) ⋅ EClass(859))\n",
      "Fired EClass(26)EClass(22)EClass(649)(EClass(880) ⋅ EClass(859)) ⊗ₘ (EClass(859) ⋅ EClass(880))\n",
      "Fired EClass(26)EClass(22)EClass(649)(EClass(859) ⋅ EClass(880)) ⊗ₘ (EClass(880) ⋅ EClass(859))\n",
      "Fired EClass(26)EClass(22)EClass(649)(EClass(859) ⋅ EClass(880)) ⊗ₘ (EClass(859) ⋅ EClass(880))\n",
      "Fired EClass(26)EClass(22)EClass(649)(EClass(22) ⋅ EClass(22)) ⊗ₘ (EClass(22) ⋅ EClass(22))\n",
      "Fired EClass(26)EClass(22)EClass(649)(EClass(885) ⋅ EClass(866)) ⊗ₘ (EClass(885) ⋅ EClass(866))\n",
      "Fired EClass(26)EClass(22)EClass(649)(EClass(885) ⋅ EClass(866)) ⊗ₘ (EClass(866) ⋅ EClass(885))\n",
      "Fired EClass(26)EClass(22)EClass(649)(EClass(866) ⋅ EClass(885)) ⊗ₘ (EClass(885) ⋅ EClass(866))\n",
      "Fired EClass(26)EClass(22)EClass(649)(EClass(866) ⋅ EClass(885)) ⊗ₘ (EClass(866) ⋅ EClass(885))\n",
      "Fired EClass(26)EClass(22)EClass(649)(EClass(26) ⋅ EClass(26)) ⊗ₘ (EClass(26) ⋅ EClass(26))\n",
      "Fired EClass(26)EClass(22)EClass(649)(EClass(22) ⋅ EClass(22)) ⊗ₘ (EClass(22) ⋅ EClass(124))\n",
      "Fired EClass(26)EClass(22)EClass(649)(EClass(22) ⋅ EClass(124)) ⊗ₘ (EClass(22) ⋅ EClass(22))\n",
      "Fired EClass(26)EClass(22)EClass(649)(EClass(26) ⋅ EClass(26)) ⊗ₘ (EClass(26) ⋅ EClass(128))\n",
      "Fired EClass(26)EClass(22)EClass(649)(EClass(26) ⋅ EClass(128)) ⊗ₘ (EClass(26) ⋅ EClass(26))\n",
      "Fired EClass(26)EClass(22)EClass(649)(EClass(22) ⋅ EClass(22)) ⊗ₘ (EClass(22) ⋅ EClass(859))\n",
      "Fired EClass(26)EClass(22)EClass(649)(EClass(22) ⋅ EClass(22)) ⊗ₘ (EClass(22) ⋅ EClass(861))\n",
      "Fired EClass(26)EClass(22)EClass(649)(EClass(22) ⋅ EClass(880)) ⊗ₘ (EClass(22) ⋅ EClass(22))\n",
      "Fired EClass(26)EClass(22)EClass(649)(EClass(26) ⋅ EClass(26)) ⊗ₘ (EClass(26) ⋅ EClass(866))\n",
      "Fired EClass(26)EClass(22)EClass(649)(EClass(26) ⋅ EClass(26)) ⊗ₘ (EClass(26) ⋅ EClass(868))\n",
      "Fired EClass(26)EClass(22)EClass(649)(EClass(26) ⋅ EClass(885)) ⊗ₘ (EClass(26) ⋅ EClass(26))\n",
      "Fired EClass(26)EClass(22)EClass(649)(EClass(861) ⋅ EClass(22)) ⊗ₘ (EClass(22) ⋅ EClass(124))\n",
      "Fired EClass(26)EClass(22)EClass(649)(EClass(861) ⋅ EClass(124)) ⊗ₘ (EClass(22) ⋅ EClass(22))\n",
      "Fired EClass(26)EClass(22)EClass(649)(EClass(868) ⋅ EClass(26)) ⊗ₘ (EClass(26) ⋅ EClass(128))\n",
      "Fired EClass(26)EClass(22)EClass(649)(EClass(868) ⋅ EClass(128)) ⊗ₘ (EClass(26) ⋅ EClass(26))\n",
      "Fired EClass(26)EClass(22)EClass(649)(EClass(861) ⋅ EClass(22)) ⊗ₘ (EClass(22) ⋅ EClass(22))\n",
      "Fired EClass(26)EClass(22)EClass(649)(EClass(868) ⋅ EClass(26)) ⊗ₘ (EClass(26) ⋅ EClass(26))\n",
      "Fired EClass(26)EClass(22)EClass(649)(EClass(859) ⋅ EClass(124)) ⊗ₘ (EClass(22) ⋅ EClass(22))\n",
      "Fired EClass(26)EClass(22)EClass(649)(EClass(22) ⋅ EClass(124)) ⊗ₘ (EClass(880) ⋅ EClass(22))\n",
      "Fired EClass(26)EClass(22)EClass(649)(EClass(859) ⋅ EClass(22)) ⊗ₘ (EClass(22) ⋅ EClass(124))\n",
      "Fired EClass(26)EClass(22)EClass(649)(EClass(22) ⋅ EClass(22)) ⊗ₘ (EClass(880) ⋅ EClass(124))\n",
      "Fired EClass(26)EClass(22)EClass(649)(EClass(866) ⋅ EClass(128)) ⊗ₘ (EClass(26) ⋅ EClass(26))\n",
      "Fired EClass(26)EClass(22)EClass(649)(EClass(26) ⋅ EClass(128)) ⊗ₘ (EClass(885) ⋅ EClass(26))\n",
      "Fired EClass(26)EClass(22)EClass(649)(EClass(866) ⋅ EClass(26)) ⊗ₘ (EClass(26) ⋅ EClass(128))\n",
      "Fired EClass(26)EClass(22)EClass(649)(EClass(26) ⋅ EClass(26)) ⊗ₘ (EClass(885) ⋅ EClass(128))\n",
      "Fired EClass(26)EClass(22)EClass(649)(EClass(859) ⋅ EClass(22)) ⊗ₘ (EClass(22) ⋅ EClass(22))\n",
      "Fired EClass(26)EClass(22)EClass(649)(EClass(22) ⋅ EClass(22)) ⊗ₘ (EClass(880) ⋅ EClass(22))\n",
      "Fired EClass(26)EClass(22)EClass(649)(EClass(866) ⋅ EClass(26)) ⊗ₘ (EClass(26) ⋅ EClass(26))\n",
      "Fired EClass(26)EClass(22)EClass(649)(EClass(26) ⋅ EClass(26)) ⊗ₘ (EClass(885) ⋅ EClass(26))\n",
      "  3.468649 seconds (36.59 M allocations: 849.171 MiB, 8.44% gc time)\n"
     ]
    },
    {
     "data": {
      "text/plain": [
       ":((f ⊗ₘ id(b)) ⋅ (id(a) ⊗ₘ g))"
      ]
     },
     "execution_count": 341,
     "metadata": {},
     "output_type": "execute_result"
    }
   ],
   "source": [
    "# This one is owrking\n",
    "\n",
    "G = EGraph(  :((f ⊗ₘ id(b)) ⋅ (id(a) ⊗ₘ g)) )\n",
    "merge!(G, addexpr!(G, :(type(f))  ).id , addexpr!(G, :(hom(a,a))  ).id)\n",
    "#merge!(G, addexpr!(G, :(type(g))  ).id , addexpr!(G, :(hom(b,b))  ).id)\n",
    "@time saturate!(G,  raw_rules, timeout=20)\n",
    "#@time saturate!(G,  typing_rules ∪ cart_rules_simp, timeout=20)\n",
    "#time saturate!(G,  typing_rules ∪ cart_rules_simp, timeout=20)\n",
    "extractor = addanalysis!(G, ExtractionAnalysis, astsize)\n",
    "ex = extract!(G, extractor)"
   ]
  },
  {
   "cell_type": "code",
   "execution_count": 229,
   "metadata": {},
   "outputs": [
    {
     "name": "stdout",
     "output_type": "stream",
     "text": [
      " 12.419437 seconds (167.86 M allocations: 3.340 GiB, 4.78% gc time)\n",
      " 12.420255 seconds (167.87 M allocations: 3.340 GiB, 4.78% gc time)\n"
     ]
    },
    {
     "data": {
      "text/plain": [
       "false"
      ]
     },
     "execution_count": 229,
     "metadata": {},
     "output_type": "execute_result"
    }
   ],
   "source": [
    "@time areequal(raw_rules, :(pair(proj1(a,b), proj2(a,b))), :(id(a ⊗ₒ b)) , timeout=100)"
   ]
  },
  {
   "cell_type": "code",
   "execution_count": 389,
   "metadata": {},
   "outputs": [
    {
     "name": "stdout",
     "output_type": "stream",
     "text": [
      "  0.000473 seconds (2.19 k allocations: 128.961 KiB)\n",
      "  0.000043 seconds (94 allocations: 10.312 KiB)\n",
      "  0.000036 seconds (94 allocations: 10.312 KiB)\n",
      "  ===>  (⋄)(a ⊗ₒ b)\n"
     ]
    },
    {
     "data": {
      "text/plain": [
       "EGraph(DataStructures.IntDisjointSets{Int64}([1, 2, 3, 4, 7, 6, 7], [0, 0, 0, 0, 0, 0, 1], 6), Dict{Int64,Array{Any,1}}(7 => [:(EClass(2) ⊗ₘ EClass(4)), :((⋄)(EClass(6)))],4 => [:((⋄)(EClass(3)))],2 => [:((⋄)(EClass(1)))],3 => [:b],6 => [:(EClass(1) ⊗ₒ EClass(3))],1 => [:a]), Dict{Any,Int64}(:a => 1,:b => 3,:((⋄)(EClass(1))) => 2,:((⋄)(EClass(3))) => 4,:(EClass(1) ⊗ₒ EClass(3)) => 6,:((⋄)(EClass(6))) => 7,:(EClass(2) ⊗ₘ EClass(4)) => 7), Dict{Int64,Array{Tuple{Any,Int64},1}}(7 => [],4 => [(:(EClass(2) ⊗ₘ EClass(4)), 7)],2 => [(:(EClass(2) ⊗ₘ EClass(4)), 7)],3 => [(:((⋄)(EClass(3))), 4), (:(EClass(1) ⊗ₒ EClass(3)), 6)],6 => [(:((⋄)(EClass(6))), 7)],1 => [(:((⋄)(EClass(1))), 2), (:(EClass(1) ⊗ₒ EClass(3)), 6)]), Int64[], 7, AbstractAnalysis[ExtractionAnalysis(EGraph(#= circular reference @-3 =#), Metatheory.EGraphs.astsize, Dict{Int64,Tuple{Any,Number}}(7 => (:((⋄)(EClass(6))), 7),4 => (:((⋄)(EClass(3))), 3),2 => (:((⋄)(EClass(1))), 3),3 => (:b, 1),6 => (:(EClass(1) ⊗ₒ EClass(3)), 5),1 => (:a, 1)))], Dict{Any,Array{Int64,1}}(:a => [1],:b => [3],:⊗ₒ => [6],:⊗ₘ => [7],:⋄ => [2, 4, 7]))"
      ]
     },
     "execution_count": 389,
     "metadata": {},
     "output_type": "execute_result"
    }
   ],
   "source": [
    "\n",
    "#G = EGraph( :(id(a ⊗ₒ b))) \n",
    "G = EGraph( :(⋄(a) ⊗ₘ ⋄(b))) \n",
    "@time saturate!(G, raw_rules, timeout=2)\n",
    "@time saturate!(G, typing_rules)\n",
    "@time saturate!(G, typing_rules)\n",
    "extractor = addanalysis!(G, ExtractionAnalysis, astsize)\n",
    "ex = extract!(G, extractor)\n",
    "println( \"  ===>  \" ,ex )\n",
    "G"
   ]
  },
  {
   "cell_type": "markdown",
   "metadata": {},
   "source": [
    "Any bare symbol needs a type tag, but compound symbols don't????\n",
    "Every time I've thought I could cut corners I've been wrong\n",
    "\n"
   ]
  },
  {
   "cell_type": "markdown",
   "metadata": {},
   "source": [
    "Array{Compound}((1,))\n",
    "  1: Compound\n",
    "    name: Symbol typ\n",
    "    args: Array{Term}((2,))\n",
    "      1: Const\n",
    "        name: Compound\n",
    "          name: Symbol id\n",
    "          args: Array{Term}((1,))\n",
    "            1: Const\n",
    "              name: Symbol a\n",
    "      2: Var\n",
    "        name: Symbol T\n",
    "\n",
    "\n",
    "Array{Compound}((1,))\n",
    "  1: Compound\n",
    "    name: Symbol typ\n",
    "    args: Array{Term}((2,))\n",
    "      1: Compound\n",
    "        name: Symbol id\n",
    "        args: Array{Term}((1,))\n",
    "          1: Const\n",
    "            name: Symbol a\n",
    "      2: Var\n",
    "        name: Symbol T"
   ]
  },
  {
   "cell_type": "code",
   "execution_count": null,
   "metadata": {},
   "outputs": [],
   "source": [
    "\n",
    "\n",
    "\n",
    "# type_tag(e::QuoteNode, hyps) = e == :(:typ) ? :(:typ) : :(typ($e, $( type_tag( infer_type( e , hyps), hyps))))\n",
    "#=\n",
    "type_tag(e::Symbol, hyps) = e == :ob ? :ob : :(typ($e, $( type_tag( infer_type( e , hyps), hyps))))\n",
    "function type_tag(e::Expr, hyps)\n",
    "    tagged_args = [type_tag(a, hyps) for a in e.args[2:end]]\n",
    "    e1 = Expr(:call, e.args[1] , tagged_args... )\n",
    "    if e1.args[1] == :hom\n",
    "        return e1\n",
    "    else\n",
    "        tagged_type = type_tag( infer_type(e, hyps) , hyps)\n",
    "        return :( typ(  $e1 ,  $tagged_type)) \n",
    "    end\n",
    "end\n",
    "function untag( e::Expr )\n",
    "    if e.args[1] == :typ\n",
    "        untag(e.args[2])\n",
    "    else\n",
    "        Expr(e.head, [untag(e) for e in e.args]...)\n",
    "    end\n",
    "end\n",
    "\n",
    "untag(e::Symbol) = e\n",
    "\n",
    "=#\n",
    "\n",
    "to_sexpr(e::Symbol) = haskey(name_map, e) ? name_map[e] : \"?$e\" \n",
    "function to_sexpr(e::Expr)\n",
    "    \"($(join(to_sexpr.(e.args), ' ')))\"\n",
    "end\n",
    "# rw!(\"commute-add\"; \"(+ ?x ?y)\" => \"(+ ?y ?x)\")\n",
    "name_map = Dict(\n",
    "    :⋅ => :comp,\n",
    "    :⊗ => :otimes,\n",
    "    :Δ => :mcopy,\n",
    "    :⋄ => :delete,\n",
    "    :σ => :braid,\n",
    "    :id => :id,\n",
    "    :munit => :munit,\n",
    "    :proj1 => :proj1,\n",
    "    :proj2 => :proj2,\n",
    "    :pair => :pair,\n",
    "    :hom => :hom,\n",
    "    :ob => :ob\n",
    ")\n",
    "# actually I should be reusing the context, yeah?\n",
    "\n",
    "function eggify(rules)\n",
    "    egg_rules = []\n",
    "    i = 0\n",
    "    for e in rules\n",
    "        #println(to_sexpr(e[1]))\n",
    "        i += 1\n",
    "        l = to_sexpr(e.left)\n",
    "        r = to_sexpr(e.right)\n",
    "        push!(egg_rules,\"rw!( \\\"$(e.expr) \\\" ; \\\"$l\\\" <=> \\\"$r\\\" ),\")\n",
    "    end\n",
    "    return join(egg_rules, '\\n')\n",
    "end\n",
    "println(eggify(rules))"
   ]
  }
 ],
 "metadata": {
  "kernelspec": {
   "display_name": "Julia 1.6.0",
   "language": "julia",
   "name": "julia-1.6"
  },
  "language_info": {
   "file_extension": ".jl",
   "mimetype": "application/julia",
   "name": "julia",
   "version": "1.6.0"
  }
 },
 "nbformat": 4,
 "nbformat_minor": 4
}
