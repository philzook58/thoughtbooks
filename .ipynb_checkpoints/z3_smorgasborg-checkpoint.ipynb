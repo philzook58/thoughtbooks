{
 "cells": [
  {
   "cell_type": "code",
   "execution_count": 1,
   "metadata": {},
   "outputs": [],
   "source": [
    "from z3 import *\n"
   ]
  },
  {
   "cell_type": "markdown",
   "metadata": {},
   "source": [
    "https://arxiv.org/pdf/2003.05633.pdf - tried to compete with nlsat. didn't come out favorably\n",
    "\n",
    "NLSAT is a seperate solver inside z3 that may be automatically invoked.\n",
    "I guess it's actually pretty good\n",
    "https://theory.stanford.edu/~nikolaj/programmingz3.html#sec-nlsat\n",
    "\n",
    "Yea, I actually did try z3 for kissing number\n",
    "didn't work for unsat in 2d\n"
   ]
  },
  {
   "cell_type": "code",
   "execution_count": 2,
   "metadata": {},
   "outputs": [
    {
     "name": "stdout",
     "output_type": "stream",
     "text": [
      "unsat\n"
     ]
    }
   ],
   "source": [
    "s = SolverFor(\"QF_NRA\")\n",
    "x, y = Reals('x y')\n",
    "s.add(x**3 + x*y + 1 == 0, x*y > 1, x**2 < 1.1)\n",
    "print(s.check())"
   ]
  },
  {
   "cell_type": "code",
   "execution_count": 5,
   "metadata": {},
   "outputs": [
    {
     "name": "stdout",
     "output_type": "stream",
     "text": [
      "unsat\n"
     ]
    }
   ],
   "source": [
    "# 1d micro kissing\n",
    "s = SolverFor(\"QF_NRA\")\n",
    "x, y, z = Reals('x y z')\n",
    "s.add(x**2 == 1, y**2 == 1, z**2 == 1, (z - y)**2 >= 1, (x - z)**2 >= 1, (y - x)**2 >= 1)\n",
    "print(s.check())"
   ]
  },
  {
   "cell_type": "code",
   "execution_count": 7,
   "metadata": {},
   "outputs": [
    {
     "name": "stdout",
     "output_type": "stream",
     "text": [
      "sat\n"
     ]
    },
    {
     "data": {
      "text/html": [
       "[y = 1, x = -1]"
      ],
      "text/plain": [
       "[y = 1, x = -1]"
      ]
     },
     "execution_count": 7,
     "metadata": {},
     "output_type": "execute_result"
    }
   ],
   "source": [
    "# micro kissing\n",
    "s = SolverFor(\"QF_NRA\")\n",
    "x, y = Reals('x y')\n",
    "s.add(x**2 == 1, y**2 == 1, (y - x)**2 >= 1)\n",
    "print(s.check())\n",
    "s.model()"
   ]
  },
  {
   "cell_type": "code",
   "execution_count": null,
   "metadata": {},
   "outputs": [],
   "source": [
    "from z3 import *\n",
    "import numpy as np\n",
    "\n",
    "N = 5 \n",
    "T = N*N-1\n",
    "x = np.array([ [ [ Bool(f\"x_{i}_{j}_{t}\")  for t in range(T)]   for j in range(N) ] for i in range(N)])\n",
    "\n",
    "x[:,:,0] == True # initial conditin\n",
    "x[:,:,-1] == False # final condition\n",
    "\n",
    "a = np.array([ [[ [ Bool(f\"a_{i}_{j}_{t}_{d}\")  for t in range(T-1)] for d in [\"U\",\"D\",\"L\",\"R\"]]  for j in range(N) ] for i in range(N)])\n",
    "UP = 0\n",
    "DOWN = 1\n",
    "LEFT = 2\n",
    "RIGHT = 3\n",
    "a[0,:,:,LEFT] == False\n",
    "a[-1,:,:,RIGHT] == False\n",
    "a[:,0,:,DOWN] == False\n",
    "a[:,0,:,UP] == False\n",
    "\n",
    "\n"
   ]
  },
  {
   "cell_type": "code",
   "execution_count": null,
   "metadata": {},
   "outputs": [
    {
     "name": "stdout",
     "output_type": "stream",
     "text": [
      "[[x_0_0 x_0_1 x_0_2]\n",
      " [x_1_0 x_1_1 x_1_2]\n",
      " [x_2_0 x_2_1 x_2_2]\n",
      " [x_3_0 x_3_1 x_3_2]\n",
      " [x_4_0 x_4_1 x_4_2]\n",
      " [x_5_0 x_5_1 x_5_2]\n",
      " [x_6_0 x_6_1 x_6_2]]\n",
      "x_0_0**2 + x_0_1**2 + x_0_2**2 == 1\n",
      "x_1_0**2 + x_1_1**2 + x_1_2**2 == 1\n",
      "x_2_0**2 + x_2_1**2 + x_2_2**2 == 1\n",
      "x_3_0**2 + x_3_1**2 + x_3_2**2 == 1\n",
      "x_4_0**2 + x_4_1**2 + x_4_2**2 == 1\n",
      "x_5_0**2 + x_5_1**2 + x_5_2**2 == 1\n",
      "x_6_0**2 + x_6_1**2 + x_6_2**2 == 1\n",
      "(x_1_0 - x_0_0)**2 + (x_1_1 - x_0_1)**2 + (x_1_2 - x_0_2)**2 >=\n",
      "1\n",
      "(x_2_0 - x_0_0)**2 + (x_2_1 - x_0_1)**2 + (x_2_2 - x_0_2)**2 >=\n",
      "1\n",
      "(x_2_0 - x_1_0)**2 + (x_2_1 - x_1_1)**2 + (x_2_2 - x_1_2)**2 >=\n",
      "1\n",
      "(x_3_0 - x_0_0)**2 + (x_3_1 - x_0_1)**2 + (x_3_2 - x_0_2)**2 >=\n",
      "1\n",
      "(x_3_0 - x_1_0)**2 + (x_3_1 - x_1_1)**2 + (x_3_2 - x_1_2)**2 >=\n",
      "1\n",
      "(x_3_0 - x_2_0)**2 + (x_3_1 - x_2_1)**2 + (x_3_2 - x_2_2)**2 >=\n",
      "1\n",
      "(x_4_0 - x_0_0)**2 + (x_4_1 - x_0_1)**2 + (x_4_2 - x_0_2)**2 >=\n",
      "1\n",
      "(x_4_0 - x_1_0)**2 + (x_4_1 - x_1_1)**2 + (x_4_2 - x_1_2)**2 >=\n",
      "1\n",
      "(x_4_0 - x_2_0)**2 + (x_4_1 - x_2_1)**2 + (x_4_2 - x_2_2)**2 >=\n",
      "1\n",
      "(x_4_0 - x_3_0)**2 + (x_4_1 - x_3_1)**2 + (x_4_2 - x_3_2)**2 >=\n",
      "1\n",
      "(x_5_0 - x_0_0)**2 + (x_5_1 - x_0_1)**2 + (x_5_2 - x_0_2)**2 >=\n",
      "1\n",
      "(x_5_0 - x_1_0)**2 + (x_5_1 - x_1_1)**2 + (x_5_2 - x_1_2)**2 >=\n",
      "1\n",
      "(x_5_0 - x_2_0)**2 + (x_5_1 - x_2_1)**2 + (x_5_2 - x_2_2)**2 >=\n",
      "1\n",
      "(x_5_0 - x_3_0)**2 + (x_5_1 - x_3_1)**2 + (x_5_2 - x_3_2)**2 >=\n",
      "1\n",
      "(x_5_0 - x_4_0)**2 + (x_5_1 - x_4_1)**2 + (x_5_2 - x_4_2)**2 >=\n",
      "1\n",
      "(x_6_0 - x_0_0)**2 + (x_6_1 - x_0_1)**2 + (x_6_2 - x_0_2)**2 >=\n",
      "1\n",
      "(x_6_0 - x_1_0)**2 + (x_6_1 - x_1_1)**2 + (x_6_2 - x_1_2)**2 >=\n",
      "1\n",
      "(x_6_0 - x_2_0)**2 + (x_6_1 - x_2_1)**2 + (x_6_2 - x_2_2)**2 >=\n",
      "1\n",
      "(x_6_0 - x_3_0)**2 + (x_6_1 - x_3_1)**2 + (x_6_2 - x_3_2)**2 >=\n",
      "1\n",
      "(x_6_0 - x_4_0)**2 + (x_6_1 - x_4_1)**2 + (x_6_2 - x_4_2)**2 >=\n",
      "1\n",
      "(x_6_0 - x_5_0)**2 + (x_6_1 - x_5_1)**2 + (x_6_2 - x_5_2)**2 >=\n",
      "1\n",
      "x_6_0 == 1\n",
      "x_6_1 == 0\n",
      "x_6_2 == 0\n",
      "x_0_0 <= x_1_0\n",
      "x_1_0 <= x_2_0\n",
      "x_2_0 <= x_3_0\n",
      "x_3_0 <= x_4_0\n",
      "x_4_0 <= x_5_0\n",
      "x_5_0 <= x_6_0\n",
      "Implies(x_0_0 == x_1_0, x_0_1 <= x_1_1)\n",
      "Implies(x_1_0 == x_2_0, x_1_1 <= x_2_1)\n",
      "Implies(x_2_0 == x_3_0, x_2_1 <= x_3_1)\n",
      "Implies(x_3_0 == x_4_0, x_3_1 <= x_4_1)\n",
      "Implies(x_4_0 == x_5_0, x_4_1 <= x_5_1)\n",
      "Implies(x_5_0 == x_6_0, x_5_1 <= x_6_1)\n"
     ]
    }
   ],
   "source": [
    "from z3 import *\n",
    "import numpy as np\n",
    "\n",
    "d = 3 # dimensions\n",
    "n = 7 # number oif spheres\n",
    "\n",
    "x = np.array([ [ Real(\"x_%d_%d\" % (i,j))     for j in range(d) ] for i in range(n)])\n",
    "print(x)\n",
    "\n",
    "c = []\n",
    "ds = np.sum(x**2, axis=1)\n",
    "c += [ d2 == 1 for d2 in ds] # centers at distance 2 from origin\n",
    "\n",
    "\n",
    "ds = np.sum( (x.reshape((-1,1,d)) - x.reshape((1,-1,d)))**2, axis = 2)\n",
    "\n",
    "c += [ ds[i,j]  >= 1  for i in range(n) for j in range(i)] # spheres greater than dist 2 apart\n",
    "c += [x[-1,0] == 1] # symmettry breaking\n",
    "c += [x[-1,1] == 0]\n",
    "c += [x[-1,2] == 0]\n",
    "c += [x[i,0] <= x[i+1,0] for i in range(n-1)  ] # symmettry breaking\n",
    "c += [Implies(x[i,0] == x[i+1,0],  x[i,1] <= x[i+1,1] ) for i in range(n-1)  ] # symmettry breaking\n",
    "for x in c:\n",
    "   print(x)\n",
    "    \n",
    "\n",
    "#print(c)\n",
    "#print(solve(c))\n",
    "s = SolverFor(\"QF_NRA\")\n",
    "s.add(c)\n",
    "print(s.check())\n",
    "#print(s.model())"
   ]
  },
  {
   "cell_type": "markdown",
   "metadata": {},
   "source": [
    "https://github.com/egraphs-good/egg/blob/master/tests/math.rs\n",
    "\n",
    "This implies that I could use z3 to perform differentiation?\n",
    "\n",
    "Or any rewrite rule system? Maybe not.\n",
    "   \n",
    "Maybe I'm hurting myself by using realsa\n",
    "   "
   ]
  },
  {
   "cell_type": "code",
   "execution_count": 25,
   "metadata": {},
   "outputs": [
    {
     "name": "stdout",
     "output_type": "stream",
     "text": [
      "[ForAll([y, z], diff(y*z, x) == diff(y, x)*z + y*diff(z, x)),\n",
      " ForAll([y, z],\n",
      "        diff(y + z, x) == diff(y, x)*z + y*diff(z, x)),\n",
      " diff(x*x, x) == 2*x,\n",
      " diff(x, x) == 1,\n",
      " Not(diff(x*x*x, x) == 3*x*x)]\n",
      "unknown\n"
     ]
    },
    {
     "ename": "Z3Exception",
     "evalue": "model is not available",
     "output_type": "error",
     "traceback": [
      "\u001b[0;31m---------------------------------------------------------------------------\u001b[0m",
      "\u001b[0;31mZ3Exception\u001b[0m                               Traceback (most recent call last)",
      "\u001b[0;32m~/.local/lib/python3.6/site-packages/z3/z3.py\u001b[0m in \u001b[0;36mmodel\u001b[0;34m(self)\u001b[0m\n\u001b[1;32m   6695\u001b[0m         \u001b[0;32mtry\u001b[0m\u001b[0;34m:\u001b[0m\u001b[0;34m\u001b[0m\u001b[0;34m\u001b[0m\u001b[0m\n\u001b[0;32m-> 6696\u001b[0;31m             \u001b[0;32mreturn\u001b[0m \u001b[0mModelRef\u001b[0m\u001b[0;34m(\u001b[0m\u001b[0mZ3_solver_get_model\u001b[0m\u001b[0;34m(\u001b[0m\u001b[0mself\u001b[0m\u001b[0;34m.\u001b[0m\u001b[0mctx\u001b[0m\u001b[0;34m.\u001b[0m\u001b[0mref\u001b[0m\u001b[0;34m(\u001b[0m\u001b[0;34m)\u001b[0m\u001b[0;34m,\u001b[0m \u001b[0mself\u001b[0m\u001b[0;34m.\u001b[0m\u001b[0msolver\u001b[0m\u001b[0;34m)\u001b[0m\u001b[0;34m,\u001b[0m \u001b[0mself\u001b[0m\u001b[0;34m.\u001b[0m\u001b[0mctx\u001b[0m\u001b[0;34m)\u001b[0m\u001b[0;34m\u001b[0m\u001b[0;34m\u001b[0m\u001b[0m\n\u001b[0m\u001b[1;32m   6697\u001b[0m         \u001b[0;32mexcept\u001b[0m \u001b[0mZ3Exception\u001b[0m\u001b[0;34m:\u001b[0m\u001b[0;34m\u001b[0m\u001b[0;34m\u001b[0m\u001b[0m\n",
      "\u001b[0;32m~/.local/lib/python3.6/site-packages/z3/z3core.py\u001b[0m in \u001b[0;36mZ3_solver_get_model\u001b[0;34m(a0, a1, _elems)\u001b[0m\n\u001b[1;32m   3758\u001b[0m   \u001b[0mr\u001b[0m \u001b[0;34m=\u001b[0m \u001b[0m_elems\u001b[0m\u001b[0;34m.\u001b[0m\u001b[0mf\u001b[0m\u001b[0;34m(\u001b[0m\u001b[0ma0\u001b[0m\u001b[0;34m,\u001b[0m \u001b[0ma1\u001b[0m\u001b[0;34m)\u001b[0m\u001b[0;34m\u001b[0m\u001b[0;34m\u001b[0m\u001b[0m\n\u001b[0;32m-> 3759\u001b[0;31m   \u001b[0m_elems\u001b[0m\u001b[0;34m.\u001b[0m\u001b[0mCheck\u001b[0m\u001b[0;34m(\u001b[0m\u001b[0ma0\u001b[0m\u001b[0;34m)\u001b[0m\u001b[0;34m\u001b[0m\u001b[0;34m\u001b[0m\u001b[0m\n\u001b[0m\u001b[1;32m   3760\u001b[0m   \u001b[0;32mreturn\u001b[0m \u001b[0mr\u001b[0m\u001b[0;34m\u001b[0m\u001b[0;34m\u001b[0m\u001b[0m\n",
      "\u001b[0;32m~/.local/lib/python3.6/site-packages/z3/z3core.py\u001b[0m in \u001b[0;36mCheck\u001b[0;34m(self, ctx)\u001b[0m\n\u001b[1;32m   1384\u001b[0m     \u001b[0;32mif\u001b[0m \u001b[0merr\u001b[0m \u001b[0;34m!=\u001b[0m \u001b[0mself\u001b[0m\u001b[0;34m.\u001b[0m\u001b[0mOK\u001b[0m\u001b[0;34m:\u001b[0m\u001b[0;34m\u001b[0m\u001b[0;34m\u001b[0m\u001b[0m\n\u001b[0;32m-> 1385\u001b[0;31m         \u001b[0;32mraise\u001b[0m \u001b[0mself\u001b[0m\u001b[0;34m.\u001b[0m\u001b[0mException\u001b[0m\u001b[0;34m(\u001b[0m\u001b[0mself\u001b[0m\u001b[0;34m.\u001b[0m\u001b[0mget_error_message\u001b[0m\u001b[0;34m(\u001b[0m\u001b[0mctx\u001b[0m\u001b[0;34m,\u001b[0m \u001b[0merr\u001b[0m\u001b[0;34m)\u001b[0m\u001b[0;34m)\u001b[0m\u001b[0;34m\u001b[0m\u001b[0;34m\u001b[0m\u001b[0m\n\u001b[0m\u001b[1;32m   1386\u001b[0m \u001b[0;34m\u001b[0m\u001b[0m\n",
      "\u001b[0;31mZ3Exception\u001b[0m: b'there is no current model'",
      "\nDuring handling of the above exception, another exception occurred:\n",
      "\u001b[0;31mZ3Exception\u001b[0m                               Traceback (most recent call last)",
      "\u001b[0;32m<ipython-input-25-4d09ce235b99>\u001b[0m in \u001b[0;36m<module>\u001b[0;34m\u001b[0m\n\u001b[1;32m     25\u001b[0m \u001b[0mprint\u001b[0m\u001b[0;34m(\u001b[0m\u001b[0ms\u001b[0m\u001b[0;34m)\u001b[0m\u001b[0;34m\u001b[0m\u001b[0;34m\u001b[0m\u001b[0m\n\u001b[1;32m     26\u001b[0m \u001b[0mprint\u001b[0m\u001b[0;34m(\u001b[0m\u001b[0ms\u001b[0m\u001b[0;34m.\u001b[0m\u001b[0mcheck\u001b[0m\u001b[0;34m(\u001b[0m\u001b[0;34m)\u001b[0m\u001b[0;34m)\u001b[0m\u001b[0;34m\u001b[0m\u001b[0;34m\u001b[0m\u001b[0m\n\u001b[0;32m---> 27\u001b[0;31m \u001b[0mprint\u001b[0m\u001b[0;34m(\u001b[0m\u001b[0ms\u001b[0m\u001b[0;34m.\u001b[0m\u001b[0mmodel\u001b[0m\u001b[0;34m(\u001b[0m\u001b[0;34m)\u001b[0m\u001b[0;34m)\u001b[0m\u001b[0;34m\u001b[0m\u001b[0;34m\u001b[0m\u001b[0m\n\u001b[0m",
      "\u001b[0;32m~/.local/lib/python3.6/site-packages/z3/z3.py\u001b[0m in \u001b[0;36mmodel\u001b[0;34m(self)\u001b[0m\n\u001b[1;32m   6696\u001b[0m             \u001b[0;32mreturn\u001b[0m \u001b[0mModelRef\u001b[0m\u001b[0;34m(\u001b[0m\u001b[0mZ3_solver_get_model\u001b[0m\u001b[0;34m(\u001b[0m\u001b[0mself\u001b[0m\u001b[0;34m.\u001b[0m\u001b[0mctx\u001b[0m\u001b[0;34m.\u001b[0m\u001b[0mref\u001b[0m\u001b[0;34m(\u001b[0m\u001b[0;34m)\u001b[0m\u001b[0;34m,\u001b[0m \u001b[0mself\u001b[0m\u001b[0;34m.\u001b[0m\u001b[0msolver\u001b[0m\u001b[0;34m)\u001b[0m\u001b[0;34m,\u001b[0m \u001b[0mself\u001b[0m\u001b[0;34m.\u001b[0m\u001b[0mctx\u001b[0m\u001b[0;34m)\u001b[0m\u001b[0;34m\u001b[0m\u001b[0;34m\u001b[0m\u001b[0m\n\u001b[1;32m   6697\u001b[0m         \u001b[0;32mexcept\u001b[0m \u001b[0mZ3Exception\u001b[0m\u001b[0;34m:\u001b[0m\u001b[0;34m\u001b[0m\u001b[0;34m\u001b[0m\u001b[0m\n\u001b[0;32m-> 6698\u001b[0;31m             \u001b[0;32mraise\u001b[0m \u001b[0mZ3Exception\u001b[0m\u001b[0;34m(\u001b[0m\u001b[0;34m\"model is not available\"\u001b[0m\u001b[0;34m)\u001b[0m\u001b[0;34m\u001b[0m\u001b[0;34m\u001b[0m\u001b[0m\n\u001b[0m\u001b[1;32m   6699\u001b[0m \u001b[0;34m\u001b[0m\u001b[0m\n\u001b[1;32m   6700\u001b[0m     \u001b[0;32mdef\u001b[0m \u001b[0mimport_model_converter\u001b[0m\u001b[0;34m(\u001b[0m\u001b[0mself\u001b[0m\u001b[0;34m,\u001b[0m \u001b[0mother\u001b[0m\u001b[0;34m)\u001b[0m\u001b[0;34m:\u001b[0m\u001b[0;34m\u001b[0m\u001b[0;34m\u001b[0m\u001b[0m\n",
      "\u001b[0;31mZ3Exception\u001b[0m: model is not available"
     ]
    }
   ],
   "source": [
    "x = Real(\"x\")\n",
    "y = Real(\"y\")\n",
    "z = Real(\"z\")\n",
    "\n",
    "R = RealSort()\n",
    "\n",
    "sin = Function(\"sin\", R,R)\n",
    "cos = Function(\"cos\", R,R)\n",
    "diff = Function(\"diff\", R,R,R) # Wow this does not sit right.\n",
    "\n",
    "axioms = [\n",
    "    ForAll([y, z], diff( y * z , x) == diff(y,x) * z + y * diff(z,x) , patterns=[ diff( y * z , x)]),\n",
    "    ForAll([y, z], diff( y + z , x) == diff(y,x) * z + y * diff(z,x),  patterns=[ diff( y + z , x)]),\n",
    "    diff( x * x , x) == 2 * x,\n",
    "    diff( x , x  ) == 1,\n",
    "    \n",
    "]\n",
    "\n",
    "\n",
    "theorem = Not( diff(x*x*x, x) == 3 * x * x )\n",
    "\n",
    "s = Solver()\n",
    "s.add(axioms)\n",
    "s.add(theorem)\n",
    "print(s)\n",
    "print(s.check())\n",
    "print(s.model())"
   ]
  },
  {
   "cell_type": "code",
   "execution_count": null,
   "metadata": {},
   "outputs": [],
   "source": [
    "S = DeclareSort(\"Foo\")\n",
    "\n",
    "x,y,z,w = Consts(\"x y z w\", S)"
   ]
  },
  {
   "cell_type": "markdown",
   "metadata": {},
   "source": [
    "I suppose when z3 returns a model, the model is a serialization of the egraph? "
   ]
  },
  {
   "cell_type": "code",
   "execution_count": 17,
   "metadata": {},
   "outputs": [
    {
     "name": "stdout",
     "output_type": "stream",
     "text": [
      "[ForAll([x, y, z],\n",
      "        assoc(x, assoc(y, z)) == assoc(assoc(x, y), z)),\n",
      " assoc(w, assoc(x, assoc(y, z))) ==\n",
      " assoc(assoc(assoc(w, x), y), z)]\n",
      "unknown\n",
      "(declare-sort Foo 0)\n",
      "(declare-fun assoc (Foo Foo) Foo)\n",
      "(declare-fun z () Foo)\n",
      "(declare-fun y () Foo)\n",
      "(declare-fun x () Foo)\n",
      "(declare-fun w () Foo)\n",
      "(assert (forall ((x Foo) (y Foo) (z Foo))\n",
      "  (! (= (assoc x (assoc y z)) (assoc (assoc x y) z))\n",
      "     :pattern ((assoc x (assoc y z))))))\n",
      "(assert (= (assoc w (assoc x (assoc y z))) (assoc (assoc (assoc w x) y) z)))\n",
      "\n"
     ]
    }
   ],
   "source": [
    "S = DeclareSort(\"Foo\")\n",
    "\n",
    "x,y,z,w = Consts(\"x y z w\", S)\n",
    "\n",
    "assoc = Function(\"assoc\", S,S,S) # Wow this does not sit right.\n",
    "\n",
    "\n",
    "axioms = [\n",
    "   # ForAll([x, y, z] ,  assoc(x,assoc(y,z)) == assoc(assoc(x,y),z), patterns=[assoc(x,assoc(y,z))] )\n",
    "     ForAll([x, y, z] ,  assoc(x,assoc(y,z)) == assoc(assoc(x,y),z), patterns=[assoc(x,assoc(y,z))] )\n",
    "    \n",
    "]\n",
    "\n",
    "\n",
    "theorem = Not(assoc(w,assoc(x,assoc(y,z))) == assoc(assoc(assoc(w,x),y),z) )\n",
    "\n",
    "s = Solver()\n",
    "s.add(axioms)\n",
    "s.add(theorem)\n",
    "print(s)\n",
    "print(s.check())\n",
    "print(s.sexpr())\n"
   ]
  },
  {
   "cell_type": "code",
   "execution_count": 29,
   "metadata": {},
   "outputs": [
    {
     "name": "stdout",
     "output_type": "stream",
     "text": [
      "[ForAll([x, y, z],\n",
      "        assoc(x, assoc(y, z)) == assoc(assoc(x, y), z)),\n",
      " fred(assoc(w, assoc(x, assoc(y, z))))]\n",
      "unknown\n",
      "(declare-sort Foo 0)\n",
      "(declare-fun assoc (Foo Foo) Foo)\n",
      "(declare-fun fred (Foo) Bool)\n",
      "(declare-fun z () Foo)\n",
      "(declare-fun y () Foo)\n",
      "(declare-fun x () Foo)\n",
      "(declare-fun w () Foo)\n",
      "(assert (forall ((x Foo) (y Foo) (z Foo))\n",
      "  (! (= (assoc x (assoc y z)) (assoc (assoc x y) z))\n",
      "     :pattern ((assoc x (assoc y z))))))\n",
      "(assert (fred (assoc w (assoc x (assoc y z)))))\n",
      "\n"
     ]
    },
    {
     "ename": "Z3Exception",
     "evalue": "model is not available",
     "output_type": "error",
     "traceback": [
      "\u001b[0;31m---------------------------------------------------------------------------\u001b[0m",
      "\u001b[0;31mZ3Exception\u001b[0m                               Traceback (most recent call last)",
      "\u001b[0;32m~/.local/lib/python3.6/site-packages/z3/z3.py\u001b[0m in \u001b[0;36mmodel\u001b[0;34m(self)\u001b[0m\n\u001b[1;32m   6695\u001b[0m         \u001b[0;32mtry\u001b[0m\u001b[0;34m:\u001b[0m\u001b[0;34m\u001b[0m\u001b[0;34m\u001b[0m\u001b[0m\n\u001b[0;32m-> 6696\u001b[0;31m             \u001b[0;32mreturn\u001b[0m \u001b[0mModelRef\u001b[0m\u001b[0;34m(\u001b[0m\u001b[0mZ3_solver_get_model\u001b[0m\u001b[0;34m(\u001b[0m\u001b[0mself\u001b[0m\u001b[0;34m.\u001b[0m\u001b[0mctx\u001b[0m\u001b[0;34m.\u001b[0m\u001b[0mref\u001b[0m\u001b[0;34m(\u001b[0m\u001b[0;34m)\u001b[0m\u001b[0;34m,\u001b[0m \u001b[0mself\u001b[0m\u001b[0;34m.\u001b[0m\u001b[0msolver\u001b[0m\u001b[0;34m)\u001b[0m\u001b[0;34m,\u001b[0m \u001b[0mself\u001b[0m\u001b[0;34m.\u001b[0m\u001b[0mctx\u001b[0m\u001b[0;34m)\u001b[0m\u001b[0;34m\u001b[0m\u001b[0;34m\u001b[0m\u001b[0m\n\u001b[0m\u001b[1;32m   6697\u001b[0m         \u001b[0;32mexcept\u001b[0m \u001b[0mZ3Exception\u001b[0m\u001b[0;34m:\u001b[0m\u001b[0;34m\u001b[0m\u001b[0;34m\u001b[0m\u001b[0m\n",
      "\u001b[0;32m~/.local/lib/python3.6/site-packages/z3/z3core.py\u001b[0m in \u001b[0;36mZ3_solver_get_model\u001b[0;34m(a0, a1, _elems)\u001b[0m\n\u001b[1;32m   3758\u001b[0m   \u001b[0mr\u001b[0m \u001b[0;34m=\u001b[0m \u001b[0m_elems\u001b[0m\u001b[0;34m.\u001b[0m\u001b[0mf\u001b[0m\u001b[0;34m(\u001b[0m\u001b[0ma0\u001b[0m\u001b[0;34m,\u001b[0m \u001b[0ma1\u001b[0m\u001b[0;34m)\u001b[0m\u001b[0;34m\u001b[0m\u001b[0;34m\u001b[0m\u001b[0m\n\u001b[0;32m-> 3759\u001b[0;31m   \u001b[0m_elems\u001b[0m\u001b[0;34m.\u001b[0m\u001b[0mCheck\u001b[0m\u001b[0;34m(\u001b[0m\u001b[0ma0\u001b[0m\u001b[0;34m)\u001b[0m\u001b[0;34m\u001b[0m\u001b[0;34m\u001b[0m\u001b[0m\n\u001b[0m\u001b[1;32m   3760\u001b[0m   \u001b[0;32mreturn\u001b[0m \u001b[0mr\u001b[0m\u001b[0;34m\u001b[0m\u001b[0;34m\u001b[0m\u001b[0m\n",
      "\u001b[0;32m~/.local/lib/python3.6/site-packages/z3/z3core.py\u001b[0m in \u001b[0;36mCheck\u001b[0;34m(self, ctx)\u001b[0m\n\u001b[1;32m   1384\u001b[0m     \u001b[0;32mif\u001b[0m \u001b[0merr\u001b[0m \u001b[0;34m!=\u001b[0m \u001b[0mself\u001b[0m\u001b[0;34m.\u001b[0m\u001b[0mOK\u001b[0m\u001b[0;34m:\u001b[0m\u001b[0;34m\u001b[0m\u001b[0;34m\u001b[0m\u001b[0m\n\u001b[0;32m-> 1385\u001b[0;31m         \u001b[0;32mraise\u001b[0m \u001b[0mself\u001b[0m\u001b[0;34m.\u001b[0m\u001b[0mException\u001b[0m\u001b[0;34m(\u001b[0m\u001b[0mself\u001b[0m\u001b[0;34m.\u001b[0m\u001b[0mget_error_message\u001b[0m\u001b[0;34m(\u001b[0m\u001b[0mctx\u001b[0m\u001b[0;34m,\u001b[0m \u001b[0merr\u001b[0m\u001b[0;34m)\u001b[0m\u001b[0;34m)\u001b[0m\u001b[0;34m\u001b[0m\u001b[0;34m\u001b[0m\u001b[0m\n\u001b[0m\u001b[1;32m   1386\u001b[0m \u001b[0;34m\u001b[0m\u001b[0m\n",
      "\u001b[0;31mZ3Exception\u001b[0m: b'there is no current model'",
      "\nDuring handling of the above exception, another exception occurred:\n",
      "\u001b[0;31mZ3Exception\u001b[0m                               Traceback (most recent call last)",
      "\u001b[0;32m<ipython-input-29-1a561e7dd32d>\u001b[0m in \u001b[0;36m<module>\u001b[0;34m\u001b[0m\n\u001b[1;32m     22\u001b[0m \u001b[0mprint\u001b[0m\u001b[0;34m(\u001b[0m\u001b[0ms\u001b[0m\u001b[0;34m.\u001b[0m\u001b[0mcheck\u001b[0m\u001b[0;34m(\u001b[0m\u001b[0;34m)\u001b[0m\u001b[0;34m)\u001b[0m\u001b[0;34m\u001b[0m\u001b[0;34m\u001b[0m\u001b[0m\n\u001b[1;32m     23\u001b[0m \u001b[0mprint\u001b[0m\u001b[0;34m(\u001b[0m\u001b[0ms\u001b[0m\u001b[0;34m.\u001b[0m\u001b[0msexpr\u001b[0m\u001b[0;34m(\u001b[0m\u001b[0;34m)\u001b[0m\u001b[0;34m)\u001b[0m\u001b[0;34m\u001b[0m\u001b[0;34m\u001b[0m\u001b[0m\n\u001b[0;32m---> 24\u001b[0;31m \u001b[0mprint\u001b[0m\u001b[0;34m(\u001b[0m\u001b[0ms\u001b[0m\u001b[0;34m.\u001b[0m\u001b[0mmodel\u001b[0m\u001b[0;34m(\u001b[0m\u001b[0;34m)\u001b[0m\u001b[0;34m)\u001b[0m\u001b[0;34m\u001b[0m\u001b[0;34m\u001b[0m\u001b[0m\n\u001b[0m",
      "\u001b[0;32m~/.local/lib/python3.6/site-packages/z3/z3.py\u001b[0m in \u001b[0;36mmodel\u001b[0;34m(self)\u001b[0m\n\u001b[1;32m   6696\u001b[0m             \u001b[0;32mreturn\u001b[0m \u001b[0mModelRef\u001b[0m\u001b[0;34m(\u001b[0m\u001b[0mZ3_solver_get_model\u001b[0m\u001b[0;34m(\u001b[0m\u001b[0mself\u001b[0m\u001b[0;34m.\u001b[0m\u001b[0mctx\u001b[0m\u001b[0;34m.\u001b[0m\u001b[0mref\u001b[0m\u001b[0;34m(\u001b[0m\u001b[0;34m)\u001b[0m\u001b[0;34m,\u001b[0m \u001b[0mself\u001b[0m\u001b[0;34m.\u001b[0m\u001b[0msolver\u001b[0m\u001b[0;34m)\u001b[0m\u001b[0;34m,\u001b[0m \u001b[0mself\u001b[0m\u001b[0;34m.\u001b[0m\u001b[0mctx\u001b[0m\u001b[0;34m)\u001b[0m\u001b[0;34m\u001b[0m\u001b[0;34m\u001b[0m\u001b[0m\n\u001b[1;32m   6697\u001b[0m         \u001b[0;32mexcept\u001b[0m \u001b[0mZ3Exception\u001b[0m\u001b[0;34m:\u001b[0m\u001b[0;34m\u001b[0m\u001b[0;34m\u001b[0m\u001b[0m\n\u001b[0;32m-> 6698\u001b[0;31m             \u001b[0;32mraise\u001b[0m \u001b[0mZ3Exception\u001b[0m\u001b[0;34m(\u001b[0m\u001b[0;34m\"model is not available\"\u001b[0m\u001b[0;34m)\u001b[0m\u001b[0;34m\u001b[0m\u001b[0;34m\u001b[0m\u001b[0m\n\u001b[0m\u001b[1;32m   6699\u001b[0m \u001b[0;34m\u001b[0m\u001b[0m\n\u001b[1;32m   6700\u001b[0m     \u001b[0;32mdef\u001b[0m \u001b[0mimport_model_converter\u001b[0m\u001b[0;34m(\u001b[0m\u001b[0mself\u001b[0m\u001b[0;34m,\u001b[0m \u001b[0mother\u001b[0m\u001b[0;34m)\u001b[0m\u001b[0;34m:\u001b[0m\u001b[0;34m\u001b[0m\u001b[0;34m\u001b[0m\u001b[0m\n",
      "\u001b[0;31mZ3Exception\u001b[0m: model is not available"
     ]
    }
   ],
   "source": [
    "S = DeclareSort(\"Foo\")\n",
    "\n",
    "x,y,z,w = Consts(\"x y z w\", S)\n",
    "\n",
    "assoc = Function(\"assoc\", S,S,S) # Wow this does not sit right.\n",
    "\n",
    "fred = Function(\"fred\", S,BoolSort()) # Wow this does not sit right.\n",
    "\n",
    "axioms = [\n",
    "   # ForAll([x, y, z] ,  assoc(x,assoc(y,z)) == assoc(assoc(x,y),z), patterns=[assoc(x,assoc(y,z))] )\n",
    "     ForAll([x, y, z] ,  assoc(x,assoc(y,z)) == assoc(assoc(x,y),z), patterns=[assoc(x,assoc(y,z))] )\n",
    "    \n",
    "]\n",
    "\n",
    "\n",
    "theorem = fred(assoc(w,assoc(x,assoc(y,z))))\n",
    "\n",
    "s = Solver()\n",
    "s.add(axioms)\n",
    "s.add(theorem)\n",
    "print(s)\n",
    "print(s.check())\n",
    "print(s.sexpr())\n",
    "print(s.model())"
   ]
  },
  {
   "cell_type": "code",
   "execution_count": 19,
   "metadata": {},
   "outputs": [
    {
     "name": "stdout",
     "output_type": "stream",
     "text": [
      "sat\n",
      "[x = A!val!0,\n",
      " y = A!val!1,\n",
      " f = [A!val!1 -> A!val!0, else -> A!val!1]]\n",
      "interpretation assigned to A:\n",
      "[A!val!1, A!val!0]\n"
     ]
    }
   ],
   "source": [
    "A    = DeclareSort('A')\n",
    "x, y = Consts('x y', A)\n",
    "f    = Function('f', A, A)\n",
    "\n",
    "s    = Solver()\n",
    "s.add(f(f(x)) == x, f(x) == y, x != y)\n",
    "\n",
    "print(s.check())\n",
    "m = s.model()\n",
    "print(m)\n",
    "print(\"interpretation assigned to A:\")\n",
    "print(m[A])"
   ]
  },
  {
   "cell_type": "code",
   "execution_count": 7,
   "metadata": {},
   "outputs": [
    {
     "name": "stdout",
     "output_type": "stream",
     "text": [
      "unsat\n"
     ]
    },
    {
     "data": {
      "text/plain": [
       "['__bool__',\n",
       " '__class__',\n",
       " '__copy__',\n",
       " '__deepcopy__',\n",
       " '__del__',\n",
       " '__delattr__',\n",
       " '__dict__',\n",
       " '__dir__',\n",
       " '__doc__',\n",
       " '__eq__',\n",
       " '__format__',\n",
       " '__ge__',\n",
       " '__getattribute__',\n",
       " '__gt__',\n",
       " '__hash__',\n",
       " '__init__',\n",
       " '__init_subclass__',\n",
       " '__le__',\n",
       " '__lt__',\n",
       " '__module__',\n",
       " '__ne__',\n",
       " '__new__',\n",
       " '__nonzero__',\n",
       " '__reduce__',\n",
       " '__reduce_ex__',\n",
       " '__repr__',\n",
       " '__setattr__',\n",
       " '__sizeof__',\n",
       " '__str__',\n",
       " '__subclasshook__',\n",
       " '__weakref__',\n",
       " '_repr_html_',\n",
       " 'arg',\n",
       " 'as_ast',\n",
       " 'ast',\n",
       " 'children',\n",
       " 'ctx',\n",
       " 'ctx_ref',\n",
       " 'decl',\n",
       " 'eq',\n",
       " 'get_id',\n",
       " 'hash',\n",
       " 'num_args',\n",
       " 'params',\n",
       " 'sexpr',\n",
       " 'sort',\n",
       " 'sort_kind',\n",
       " 'translate',\n",
       " 'use_pp']"
      ]
     },
     "execution_count": 7,
     "metadata": {},
     "output_type": "execute_result"
    }
   ],
   "source": [
    "from z3 import *\n",
    "set_param(proof=True)\n",
    "A    = DeclareSort('A')\n",
    "x, y,z, q, r, w= Consts('x y z q r w', A)\n",
    "f    = Function('plus', A, A,  A)\n",
    "\n",
    "\n",
    "s    = Solver()\n",
    "s.set(unsat_core=True)\n",
    "#s.set(proof=True)\n",
    "#s.assert_and_track(ForAll([x,y,z], f(x,f(y,z)) == f(x,f(y,z))), \"foo\")\n",
    "s.add(ForAll([x,y,z], f(x,f(y,z)) == f(x,f(y,z))))\n",
    "s.add(ForAll([x,y], f(x,y) == f(y,z)))\n",
    "s.add( Not(f(q,f(r,w)) == f(w,(f(r,q)))  ))\n",
    "#s.assert_and_track( Not(f(x,f(y,z)) == f(z,(f(y,x)))  ), \"biz\")\n",
    "print(s.check())\n",
    "#s.unsat_core()\n",
    "dir(s.proof())"
   ]
  },
  {
   "cell_type": "code",
   "execution_count": 32,
   "metadata": {},
   "outputs": [
    {
     "data": {
      "text/plain": [
       "[mp~(asserted(ForAll([x, y], plus(x, y) == plus(y, z))),\n",
       "     nnf-pos(proof-bind(Lambda([x, y],\n",
       "                               refl(~(plus(x, y) ==\n",
       "                                      plus(y, z),\n",
       "                                      plus(x, y) ==\n",
       "                                      plus(y, z))))),\n",
       "             ~(ForAll([x, y], plus(x, y) == plus(y, z)),\n",
       "               ForAll([x, y], plus(x, y) == plus(y, z)))),\n",
       "     ForAll([x, y], plus(x, y) == plus(y, z))),\n",
       " quant-intro(proof-bind(Lambda([x, y],\n",
       "                               refl((plus(x, y) == plus(y, z)) ==\n",
       "                                    (plus(x, y) == plus(y, z))))),\n",
       "             (ForAll([x, y], plus(x, y) == plus(y, z))) ==\n",
       "             (ForAll([x, y], plus(x, y) == plus(y, z)))),\n",
       " ForAll([x, y], plus(x, y) == plus(y, z))]"
      ]
     },
     "execution_count": 32,
     "metadata": {},
     "output_type": "execute_result"
    }
   ],
   "source": [
    "s.proof().children()[1].children()[5].children()[0].children()[1].children()"
   ]
  },
  {
   "cell_type": "markdown",
   "metadata": {},
   "source": [
    "\n",
    "   \n",
    "   "
   ]
  },
  {
   "cell_type": "code",
   "execution_count": 20,
   "metadata": {},
   "outputs": [
    {
     "name": "stdout",
     "output_type": "stream",
     "text": [
      "sat\n",
      "[x = A!val!0, f = [else -> A!val!0]]\n",
      "interpretation assigned to A:\n",
      "[A!val!0]\n"
     ]
    }
   ],
   "source": [
    "A    = DeclareSort('A')\n",
    "x, y = Consts('x y', A)\n",
    "f    = Function('f', A, A)\n",
    "\n",
    "s    = Solver()\n",
    "s.add(f(f(f(x))) == x, f(f(f(f(f(x))))) == x)\n",
    "\n",
    "print(s.check())\n",
    "m = s.model()\n",
    "print(m)\n",
    "print(\"interpretation assigned to A:\")\n",
    "print(m[A])"
   ]
  },
  {
   "cell_type": "markdown",
   "metadata": {},
   "source": [
    "Encoding homotopy equiavlanece into z3. no go? I feel like I attempted this somewhere"
   ]
  },
  {
   "cell_type": "code",
   "execution_count": 39,
   "metadata": {},
   "outputs": [
    {
     "name": "stdout",
     "output_type": "stream",
     "text": [
      "sat\n",
      "[x = A!val!0,\n",
      " f = [A!val!1 -> A!val!2,\n",
      "      A!val!2 -> A!val!3,\n",
      "      A!val!3 -> A!val!4,\n",
      "      A!val!4 -> A!val!0,\n",
      "      else -> A!val!1]]\n",
      "interpretation assigned to A:\n",
      "[A!val!4, A!val!1, A!val!3, A!val!0, A!val!2]\n"
     ]
    }
   ],
   "source": [
    "# This is take the gcd of sorts\n",
    "# the gcd is the number of values in the model.\n",
    "\n",
    "def apply(f,n,x):\n",
    "    if n == 0:\n",
    "        return x\n",
    "    else:\n",
    "        return apply(f,n-1, f(x))\n",
    "\n",
    "A    = DeclareSort('A')\n",
    "x, y = Consts('x y', A)\n",
    "f    = Function('f', A, A)\n",
    "\n",
    "s    = Solver()\n",
    "s.add(apply(f,15,x) == x, apply(f,10,x) == x, apply(f,5,x) == x)\n",
    "\n",
    "print(s.check())\n",
    "m = s.model()\n",
    "print(m)\n",
    "print(\"interpretation assigned to A:\")\n",
    "print(m[A])"
   ]
  },
  {
   "cell_type": "code",
   "execution_count": 76,
   "metadata": {},
   "outputs": [
    {
     "data": {
      "text/plain": [
       "{A!val!4: {(f, (A!val!3,))},\n",
       " A!val!1: set(),\n",
       " A!val!3: {(f, (A!val!2,))},\n",
       " A!val!0: {(f, (A!val!4,)), x},\n",
       " A!val!2: {(f, (A!val!1,))}}"
      ]
     },
     "execution_count": 76,
     "metadata": {},
     "output_type": "execute_result"
    }
   ],
   "source": [
    "class_equiv = {}\n",
    "for v in m[A]:\n",
    "    class_equiv[v] = set()\n",
    "for d in m.decls():\n",
    "    e = m[d]\n",
    "    if isinstance(e,ExprRef): # simple value\n",
    "        class_equiv[e].add(d)\n",
    "    elif isinstance(e, FuncInterp): # function\n",
    "        l = e.as_list()\n",
    "        for z in l[:-1]:\n",
    "            class_equiv[z[-1]].add( (d, tuple(z[:-1])))\n",
    "        #for v in m[A]:\n",
    "        #    class_equiv[ m[e[v]] ].add(e[v])\n",
    "        \n",
    "\n",
    "class_equiv    \n",
    "    "
   ]
  },
  {
   "cell_type": "code",
   "execution_count": 108,
   "metadata": {},
   "outputs": [],
   "source": [
    "def merge_bindings(d1,d2):\n",
    "    freshd = copy(d1)\n",
    "    for (k,v) in d2.items():\n",
    "        if k in freshd:\n",
    "            if freshd[k] != v:\n",
    "                return None\n",
    "        else:\n",
    "            freshd[k] = v\n",
    "    return freshd\n",
    "def merge_product(d1s, d2s):\n",
    "    for d1 in d1s:\n",
    "        for d2 in d2s:\n",
    "            md = merge(d1,d2)\n",
    "            if md != None:\n",
    "                yield md\n",
    "from functools import reduce\n",
    "\n",
    "def match(m, class_id, patvars, pat): # matching against pattern against class_id in model m\n",
    "    if pat.num_args() > 0: #function\n",
    "        head = pat.decl()\n",
    "        children = pat.children()\n",
    "        \n",
    "        patinterp = m[head].as_list()\n",
    "        for l in patinterp[:-1]:\n",
    "            result_id = l[-1]\n",
    "            arg_ids = l[:-1]\n",
    "            if result_id == class_id: # result of function matches \n",
    "                yield from reduce( merge_product, [ match(m,class_id, patvars, pat) for class_id, pat in zip(l[:-1] ,  pat.children())])\n",
    "        if patinterp[-1] == class_id: # else case matches\n",
    "            pass                   \n",
    "    elif pat in patvars: # a pattern variable\n",
    "                patdict = {}\n",
    "                patdict[pat] = class_id\n",
    "                yield patdict # success\n",
    "    else: # a literal. Not a pattern variable\n",
    "        if m[pat] == class_id:\n",
    "            yield patdict # success\n",
    "        else:\n",
    "            return # failure\n",
    "                            \n",
    "def match_top(m,patvars, pat):\n",
    "    for class_id in m[pat.sort()]:\n",
    "        yield from match(m, class_id, patvars, pat)\n",
    "\n",
    "\n",
    "# i should write a stack overlofw asking if oner can ge thgis stuff\n",
    "# I should definitely define pattern macthing functionally, with recursion\n",
    "                            \n",
    "def complete_func_def(m, f):\n",
    "    # remove the shitty else case.\n",
    "def get_ground(m, eclass):\n",
    "    # get a ground term that is a member of eclass.\n",
    "    # We'll want this to assert to z3"
   ]
  },
  {
   "cell_type": "code",
   "execution_count": null,
   "metadata": {},
   "outputs": [],
   "source": [
    "def match(x,t,S):\n",
    "    "
   ]
  },
  {
   "cell_type": "code",
   "execution_count": 123,
   "metadata": {},
   "outputs": [
    {
     "data": {
      "image/png": "[encoded data removed]",
      "text/plain": [
       "<Figure size 432x288 with 1 Axes>"
      ]
     },
     "metadata": {},
     "output_type": "display_data"
    }
   ],
   "source": [
    "import networkx as nx\n",
    "import matplotlib.pyplot as plt\n",
    "G = nx.DiGraph()\n",
    "for d in m.decls():\n",
    "    if d.arity() > 0:\n",
    "        fmodel = m[d].as_list()\n",
    "        for entry in fmodel[:-1]:\n",
    "            G.add_edge(entry[-1], f)\n",
    "            for invar in entry[:-1]:\n",
    "                G.add_edge(f,invar)\n",
    "        for \n",
    "    else:\n",
    "        G.add_edge(m[d], d)\n",
    "nx.draw(G, with_labels=True)"
   ]
  },
  {
   "cell_type": "code",
   "execution_count": null,
   "metadata": {},
   "outputs": [],
   "source": []
  },
  {
   "cell_type": "code",
   "execution_count": 148,
   "metadata": {},
   "outputs": [
    {
     "data": {
      "text/html": [
       "[A!val!1 &rarr; A!val!2,\n",
       " A!val!2 &rarr; A!val!3,\n",
       " A!val!3 &rarr; A!val!4,\n",
       " A!val!4 &rarr; A!val!0,\n",
       " else &rarr; A!val!1]"
      ],
      "text/plain": [
       "[A!val!1 -> A!val!2,\n",
       " A!val!2 -> A!val!3,\n",
       " A!val!3 -> A!val!4,\n",
       " A!val!4 -> A!val!0,\n",
       " else -> A!val!1]"
      ]
     },
     "execution_count": 148,
     "metadata": {},
     "output_type": "execute_result"
    }
   ],
   "source": [
    "m[f]"
   ]
  },
  {
   "cell_type": "code",
   "execution_count": 147,
   "metadata": {},
   "outputs": [
    {
     "data": {
      "text/plain": [
       "[(A!val!4,), (A!val!1,), (A!val!3,), (A!val!0,), (A!val!2,)]"
      ]
     },
     "execution_count": 147,
     "metadata": {},
     "output_type": "execute_result"
    }
   ],
   "source": [
    "from itertools import product\n",
    "list(product(*[ m[f.domain(narg)] for narg in range(f.arity())  ]))"
   ]
  },
  {
   "cell_type": "code",
   "execution_count": 111,
   "metadata": {},
   "outputs": [
    {
     "data": {
      "text/plain": [
       "[{x: A!val!1}, {x: A!val!2}]"
      ]
     },
     "execution_count": 111,
     "metadata": {},
     "output_type": "execute_result"
    }
   ],
   "source": [
    "list(match_top(m, [x], f(f(f(x)))))"
   ]
  },
  {
   "cell_type": "code",
   "execution_count": 100,
   "metadata": {},
   "outputs": [
    {
     "name": "stdout",
     "output_type": "stream",
     "text": [
      "1\n"
     ]
    }
   ],
   "source": [
    "def myeg():\n",
    "    yield 1\n",
    "\n",
    "for i in myeg():\n",
    "    print(i)"
   ]
  },
  {
   "cell_type": "code",
   "execution_count": 97,
   "metadata": {},
   "outputs": [
    {
     "data": {
      "text/plain": [
       "[x]"
      ]
     },
     "execution_count": 97,
     "metadata": {},
     "output_type": "execute_result"
    }
   ],
   "source": [
    "A    = DeclareSort('A')\n",
    "x, y = Consts('x y', A)\n",
    "f    = Function('f', A, A)\n",
    "dir(f(x))\n",
    "f(x).children()"
   ]
  },
  {
   "cell_type": "markdown",
   "metadata": {},
   "source": [
    "unfortunately, if we have to do the matching ourselves, it feels like we aren't getting much out of z3.\n",
    "Well, we're getting an egraph.\n",
    "\n"
   ]
  },
  {
   "cell_type": "code",
   "execution_count": 98,
   "metadata": {},
   "outputs": [
    {
     "name": "stdout",
     "output_type": "stream",
     "text": [
      "<class 'z3.z3.FuncInterp'>\n",
      "A!val!0\n",
      "['__class__', '__copy__', '__deepcopy__', '__del__', '__delattr__', '__dict__', '__dir__', '__doc__', '__eq__', '__format__', '__ge__', '__getattribute__', '__gt__', '__hash__', '__init__', '__init_subclass__', '__le__', '__lt__', '__module__', '__ne__', '__new__', '__reduce__', '__reduce_ex__', '__repr__', '__setattr__', '__sizeof__', '__str__', '__subclasshook__', '__weakref__', '_repr_html_', 'arity', 'as_list', 'ctx', 'else_value', 'entry', 'f', 'num_entries', 'translate', 'use_pp']\n",
      "[[A!val!1, A!val!2], [A!val!2, A!val!3], [A!val!3, A!val!4], [A!val!4, A!val!0], A!val!1]\n"
     ]
    }
   ],
   "source": [
    "dir(m)\n",
    "m.decls()\n",
    "print(type(m[f]))\n",
    "print(m[x])\n",
    "type(m[x])\n",
    "print(dir(m[f]))\n",
    "print(m[f].as_list())\n"
   ]
  },
  {
   "cell_type": "markdown",
   "metadata": {},
   "source": [
    "I could reconstruct the graph, find patterns, instantiate them. That's a little ridiculous though\n",
    "\n",
    "The values in the model ~ equivalence classes of terms.\n",
    "We can build a reversal map\n",
    "\n",
    "\n",
    "\n",
    "unsat cores. Could i use this to find instantiations?\n",
    "\n",
    "refiy9ing into networkx\n",
    "\n",
    "\n",
    "\n"
   ]
  }
 ],
 "metadata": {
  "kernelspec": {
   "display_name": "Python 3",
   "language": "python",
   "name": "python3"
  },
  "language_info": {
   "codemirror_mode": {
    "name": "ipython",
    "version": 3
   },
   "file_extension": ".py",
   "mimetype": "text/x-python",
   "name": "python",
   "nbconvert_exporter": "python",
   "pygments_lexer": "ipython3",
   "version": "3.6.9"
  }
 },
 "nbformat": 4,
 "nbformat_minor": 4
}
