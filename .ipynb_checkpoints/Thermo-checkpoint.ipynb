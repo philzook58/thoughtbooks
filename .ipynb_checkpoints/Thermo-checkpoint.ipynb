{
 "cells": [
  {
   "cell_type": "markdown",
   "metadata": {},
   "source": [
    "PV = NkT\n",
    "\n",
    "dU = TdS - pdV\n",
    "\n",
    "U = 3/2 N K T\n",
    "\n",
    "differentiation keeping fixed\n",
    "\n",
    "Gibbs liked entropy energy volume?\n",
    "\n",
    "\n",
    "Is one coordinate system better than others? Probably.\n",
    "\n",
    "\n",
    "Schaum's seemed pretty good\n",
    "\n",
    "\n",
    "Could we plot the Maxwell surface?\n",
    "\n",
    "\n",
    "\n",
    "PH and activity.\n",
    "\n",
    "PV=nRT\n",
    "dU = TdS - pdV\n",
    "U = 3/2 N k T = 3/2 P V\n",
    "dU = V dp/ds ds - p dV\n",
    "\n",
    "dP/dS|v = 3/2 T\n",
    "\n",
    "\n",
    "\n",
    "du/ds|v = T\n",
    "\n",
    "\n",
    "\n",
    "Or van der waals\n",
    "\n",
    "\n",
    "The abstract notion of state.\n",
    "There is no meaning to state. These are arbitrary parameters.\n",
    "But in an ordinary fluid, there are two.\n",
    "all the others may be expressed as a function of these two.\n",
    "\n",
    "spans and cospans as thermodynamic relations\n",
    "\n",
    "There are 2 dimensional generators and many properties that are functions of them\n",
    "\n",
    "\n",
    "chemical potential\n",
    "how much energy does the system receive when we stick stuff into the fixed size chamber of entropy 0. (abolsute zero)\n",
    "\n",
    "\n",
    "\n",
    "\n",
    "\n"
   ]
  },
  {
   "cell_type": "code",
   "execution_count": 1,
   "metadata": {},
   "outputs": [],
   "source": [
    "from sympy import *"
   ]
  },
  {
   "cell_type": "code",
   "execution_count": 112,
   "metadata": {},
   "outputs": [
    {
     "name": "stdout",
     "output_type": "stream",
     "text": [
      "[-n*r*t + p*v, -3*n*r*t/2 + u, dp*v - dt*n*r + dv*p, -3*dt*n*r/2 + du, -ds*t + du + dv*p]\n",
      "-3*p*v/2 + u\n",
      "-3*dp*v/2 + du - 3*dv*p/2\n",
      "n*r*t - p*v\n",
      "-dp*v + dt*n*r - dv*p\n",
      "-3*dp*n*r*v/2 + ds*p*v - 5*dv*n*p*r/2\n"
     ]
    }
   ],
   "source": [
    "u,s,t,p,v,n,r = symbols(\"u s t p v n r\")\n",
    "\n",
    "du,ds,dt,dp,dv = symbols(\"du ds dt dp dv\")\n",
    "# taylor series in stuff?\n",
    "\n",
    "e1 = p * v - n * r * t\n",
    "e2 = u - Rational(3 , 2) * n * r * t\n",
    "\n",
    "state = [  (u,du), (s,ds), (t,dt) , (p,dp) , (v,dv) ]\n",
    "\n",
    "def differential(e):\n",
    "    return sum( [ diff(e,x) * dx  for x,dx in state]   )\n",
    "\n",
    "\n",
    "de1 = differential(e1 )\n",
    "de2 = differential(e2 )\n",
    "\n",
    "e3 = du - (t * ds - p * dv)\n",
    "\n",
    "eqs = [e1,e2,de1,de2,e3]\n",
    "print(eqs)\n",
    "G = groebner( eqs, u , du,  t, dt, p, dp, v, dv,  ds )\n",
    "for e in G:\n",
    "    print(e)\n",
    "    \n",
    "    \n",
    "'''\n",
    "What makes an equation ok to integrate?\n",
    "This order makes and equations with p,v,dp,ds,dv.  Because I know there are only two free variables, \n",
    "I can integratet this equation giving the S = lnV + ln P form.\n",
    "\n",
    "'''    \n",
    "\n",
    "# du - t ds - p * dv   ?? If I allow more variables this is no longer true. Or is it?\n",
    "\n",
    "# But.... Ok, I could isolate dS, fine.\n",
    "\n",
    "\n",
    "# going differential introduces 2 new variables. The differentials are connected by tangency conditions.\n",
    "# We indeed are literally describing the tangent bundle in coordinates.\n",
    "\n",
    "#(dv = 0, du - t * ds)\n",
    "#(ds = 0, du - p * dv)\n",
    "\n",
    "\n",
    "# This does seem more in the flavor of lie methods. This suggestion now is we should solve via symmettry generators?\n",
    "# du * partial f + dv * partial f = flow\n",
    "#  psi * partialu (e1) + psi partials e1 \n",
    "# e2, e3, e4, \n",
    "# \n",
    "\n",
    "\n"
   ]
  },
  {
   "cell_type": "code",
   "execution_count": 59,
   "metadata": {},
   "outputs": [
    {
     "data": {
      "text/plain": [
       "-N**3*k**3*exp(2*S/(N*k))/P**2 + 3*N*k*(-N**3*k**3*exp(2*S/(N*k))/P**3)**(2/3)*exp(2*S/(3*N*k))/2"
      ]
     },
     "execution_count": 59,
     "metadata": {},
     "output_type": "execute_result"
    }
   ],
   "source": [
    "R = Rational\n",
    "U,S,T,P,V,N, k = symbols(\"U S T P V N k\")\n",
    "\n",
    "cv = R(3,2) * N * k\n",
    "e1 = U - cv * T\n",
    "e2 = P * V - N * k * T\n",
    "e3 = S - cv * ln(T) + N * k * ln(V)\n",
    "\n",
    "elim = [P,T]\n",
    "Ps = solve([e1,e2,e3], P)\n",
    "Ps\n",
    "es = [ e.subs(Ps) for e in [e1,e2,e3] ]\n",
    "Ts = solve(e3, T)[0]\n",
    "es = [  e.subs(T,Ts) for e in es ]\n",
    "Usv = solve(es[0],U)[0]\n",
    "psv = diff(Usv,V)\n",
    "tsv = diff( Usv , S )\n",
    "\n",
    "#solve(es[0], V)\n",
    "\n",
    "Hsv = Usv + P * V  # enthalpy and legendre trnasformation\n",
    "Vps = solve(diff(Hsv, V) , V) \n",
    "H =  Hsv.subs(V, Vps[0]) \n",
    "simplify(H)"
   ]
  },
  {
   "cell_type": "code",
   "execution_count": 79,
   "metadata": {},
   "outputs": [
    {
     "name": "stdout",
     "output_type": "stream",
     "text": [
      "p/3\n",
      "-p + 3*v\n",
      "0\n",
      "-3*v\n",
      "-p/3 - v\n",
      "0\n",
      "6**(2/3)*p**(1/3)/6\n",
      "-p + 6*v**3\n",
      "0\n",
      "H -6**(2/3)*p**(4/3)/8\n",
      "-6*v**3\n",
      "-6**(2/3)*p**(1/3)/6 - v\n",
      "-v - (-v**3)**(1/3)\n"
     ]
    },
    {
     "ename": "AssertionError",
     "evalue": "",
     "output_type": "error",
     "traceback": [
      "\u001b[0;31m---------------------------------------------------------------------------\u001b[0m",
      "\u001b[0;31mAssertionError\u001b[0m                            Traceback (most recent call last)",
      "\u001b[0;32m<ipython-input-79-d0f400fb3898>\u001b[0m in \u001b[0;36m<module>\u001b[0;34m\u001b[0m\n\u001b[1;32m     19\u001b[0m \u001b[0mH\u001b[0m \u001b[0;34m=\u001b[0m \u001b[0mlegendre\u001b[0m\u001b[0;34m(\u001b[0m \u001b[0mL\u001b[0m \u001b[0;34m,\u001b[0m \u001b[0mv\u001b[0m\u001b[0;34m,\u001b[0m \u001b[0mp\u001b[0m \u001b[0;34m)\u001b[0m\u001b[0;34m\u001b[0m\u001b[0;34m\u001b[0m\u001b[0m\n\u001b[1;32m     20\u001b[0m \u001b[0mprint\u001b[0m\u001b[0;34m(\u001b[0m\u001b[0;34m\"H\"\u001b[0m\u001b[0;34m,\u001b[0m \u001b[0mH\u001b[0m\u001b[0;34m)\u001b[0m\u001b[0;34m\u001b[0m\u001b[0;34m\u001b[0m\u001b[0m\n\u001b[0;32m---> 21\u001b[0;31m \u001b[0mlegendre\u001b[0m\u001b[0;34m(\u001b[0m\u001b[0mH\u001b[0m\u001b[0;34m,\u001b[0m \u001b[0mp\u001b[0m\u001b[0;34m,\u001b[0m \u001b[0mv\u001b[0m\u001b[0;34m)\u001b[0m\u001b[0;34m\u001b[0m\u001b[0;34m\u001b[0m\u001b[0m\n\u001b[0m",
      "\u001b[0;32m<ipython-input-79-d0f400fb3898>\u001b[0m in \u001b[0;36mlegendre\u001b[0;34m(L, v, p)\u001b[0m\n\u001b[1;32m      7\u001b[0m     \u001b[0mprint\u001b[0m\u001b[0;34m(\u001b[0m\u001b[0mdiff\u001b[0m\u001b[0;34m(\u001b[0m\u001b[0mH1\u001b[0m\u001b[0;34m,\u001b[0m\u001b[0mv\u001b[0m\u001b[0;34m)\u001b[0m\u001b[0;34m)\u001b[0m\u001b[0;34m\u001b[0m\u001b[0;34m\u001b[0m\u001b[0m\n\u001b[1;32m      8\u001b[0m     \u001b[0mprint\u001b[0m\u001b[0;34m(\u001b[0m\u001b[0msimplify\u001b[0m\u001b[0;34m(\u001b[0m\u001b[0mdiff\u001b[0m\u001b[0;34m(\u001b[0m\u001b[0mH1\u001b[0m\u001b[0;34m,\u001b[0m\u001b[0mv\u001b[0m\u001b[0;34m)\u001b[0m\u001b[0;34m.\u001b[0m\u001b[0msubs\u001b[0m\u001b[0;34m(\u001b[0m\u001b[0mv\u001b[0m\u001b[0;34m,\u001b[0m \u001b[0mv1\u001b[0m\u001b[0;34m)\u001b[0m\u001b[0;34m)\u001b[0m\u001b[0;34m)\u001b[0m\u001b[0;34m\u001b[0m\u001b[0;34m\u001b[0m\u001b[0m\n\u001b[0;32m----> 9\u001b[0;31m     \u001b[0;32massert\u001b[0m\u001b[0;34m(\u001b[0m  \u001b[0msimplify\u001b[0m\u001b[0;34m(\u001b[0m\u001b[0mdiff\u001b[0m\u001b[0;34m(\u001b[0m\u001b[0mH1\u001b[0m\u001b[0;34m,\u001b[0m\u001b[0mv\u001b[0m\u001b[0;34m)\u001b[0m\u001b[0;34m.\u001b[0m\u001b[0msubs\u001b[0m\u001b[0;34m(\u001b[0m\u001b[0mv\u001b[0m\u001b[0;34m,\u001b[0m \u001b[0mv1\u001b[0m\u001b[0;34m)\u001b[0m\u001b[0;34m)\u001b[0m\u001b[0;34m.\u001b[0m\u001b[0mis_zero\u001b[0m  \u001b[0;34m)\u001b[0m \u001b[0;31m# sanity check\u001b[0m\u001b[0;34m\u001b[0m\u001b[0;34m\u001b[0m\u001b[0m\n\u001b[0m\u001b[1;32m     10\u001b[0m     \u001b[0;32mreturn\u001b[0m \u001b[0mH1\u001b[0m\u001b[0;34m.\u001b[0m\u001b[0msubs\u001b[0m\u001b[0;34m(\u001b[0m\u001b[0mv\u001b[0m\u001b[0;34m,\u001b[0m \u001b[0mv1\u001b[0m\u001b[0;34m)\u001b[0m\u001b[0;34m\u001b[0m\u001b[0;34m\u001b[0m\u001b[0m\n\u001b[1;32m     11\u001b[0m \u001b[0;34m\u001b[0m\u001b[0m\n",
      "\u001b[0;31mAssertionError\u001b[0m: "
     ]
    }
   ],
   "source": [
    "\n",
    "\n",
    "def legendre(L, v, p):\n",
    "    H1 = L - p * v\n",
    "    v1 = solve( diff(H1,v), v )\n",
    "    if type(v1) == list:\n",
    "        v1 = v1[0]\n",
    "    print(v1)\n",
    "    print(diff(H1,v))\n",
    "    print(simplify(diff(H1,v).subs(v, v1)))\n",
    "    assert(  simplify(diff(H1,v).subs(v, v1) ).is_zero  ) # sanity check\n",
    "    return H1.subs(v, v1)\n",
    "\n",
    "v, p =  symbols(\"v p\", real=True)\n",
    "L = Rational(3,2)*v*v\n",
    "H = legendre( L , v, p )\n",
    "legendre(H, p, v) # inverts back to original\n",
    "\n",
    "\n",
    "L = Rational(3,2)*v*v*v*v\n",
    "H = legendre( L , v, p )\n",
    "print(\"H\", H)\n",
    "legendre(H, p, v)\n"
   ]
  },
  {
   "cell_type": "code",
   "execution_count": 129,
   "metadata": {},
   "outputs": [
    {
     "data": {
      "text/plain": [
       "N/(2*beta**2)"
      ]
     },
     "execution_count": 129,
     "metadata": {},
     "output_type": "execute_result"
    }
   ],
   "source": [
    "beta, m = symbols(\"beta m\", real=True, positive=True)\n",
    "p = symbols(\"p\", real=True)\n",
    "Z = integrate( integrate( exp( - beta * R(1,2) * p ** 2 / m ), (p,-oo,oo)) , (v,0, V))**N #partition function\n",
    "diff(ln(Z), beta) # energy\n",
    "diff(ln(Z), beta, 2)\n"
   ]
  },
  {
   "cell_type": "code",
   "execution_count": 135,
   "metadata": {},
   "outputs": [
    {
     "data": {
      "text/plain": [
       "N/beta"
      ]
     },
     "execution_count": 135,
     "metadata": {},
     "output_type": "execute_result"
    }
   ],
   "source": [
    "beta, m, k = symbols(\"beta m k \", real=True, positive=True)\n",
    "p, x = symbols(\"p x\", real=True)\n",
    "E = R(1,2) * p ** 2 / m  + R(1,2) * k * x ** 2\n",
    "Z = integrate( integrate( exp( - beta * E ), (p,-oo,oo)) , (x,-oo, oo))**N \n",
    "diff(-ln(Z),beta)\n",
    "\n"
   ]
  },
  {
   "cell_type": "code",
   "execution_count": null,
   "metadata": {},
   "outputs": [],
   "source": [
    "# pertubration theory of anharmonic oscillator"
   ]
  },
  {
   "cell_type": "code",
   "execution_count": 137,
   "metadata": {},
   "outputs": [
    {
     "data": {
      "text/plain": [
       "(exp(beta) - exp(-beta))/(exp(beta) + exp(-beta))"
      ]
     },
     "execution_count": 137,
     "metadata": {},
     "output_type": "execute_result"
    }
   ],
   "source": [
    "Z = exp(beta) + exp(-beta)\n",
    "diff(ln(Z), beta)\n",
    "\n",
    "# what else was there?\n",
    "# \n"
   ]
  },
  {
   "cell_type": "code",
   "execution_count": 144,
   "metadata": {},
   "outputs": [
    {
     "ename": "SyntaxError",
     "evalue": "invalid syntax (<lambdifygenerated-2>, line 1)",
     "output_type": "error",
     "traceback": [
      "Traceback \u001b[0;36m(most recent call last)\u001b[0m:\n",
      "  File \u001b[1;32m\"/usr/local/Cellar/ipython/7.7.0/libexec/lib/python3.7/site-packages/IPython/core/interactiveshell.py\"\u001b[0m, line \u001b[1;32m3326\u001b[0m, in \u001b[1;35mrun_code\u001b[0m\n    exec(code_obj, self.user_global_ns, self.user_ns)\n",
      "  File \u001b[1;32m\"<ipython-input-144-a314fed5587c>\"\u001b[0m, line \u001b[1;32m3\u001b[0m, in \u001b[1;35m<module>\u001b[0m\n    lambdify(diff(ln(Z), beta)/B - B, [B , beta])\n",
      "\u001b[0;36m  File \u001b[0;32m\"/usr/local/lib/python3.7/site-packages/sympy/utilities/lambdify.py\"\u001b[0;36m, line \u001b[0;32m476\u001b[0;36m, in \u001b[0;35mlambdify\u001b[0;36m\u001b[0m\n\u001b[0;31m    c = compile(funcstr, filename, 'exec')\u001b[0m\n",
      "\u001b[0;36m  File \u001b[0;32m\"<lambdifygenerated-2>\"\u001b[0;36m, line \u001b[0;32m1\u001b[0m\n\u001b[0;31m    def _lambdifygenerated(-B + (B*exp(B*beta) - B*exp(-B*beta))/(B*(exp(B*beta) + exp(-B*beta)))):\u001b[0m\n\u001b[0m                           ^\u001b[0m\n\u001b[0;31mSyntaxError\u001b[0m\u001b[0;31m:\u001b[0m invalid syntax\n"
     ]
    }
   ],
   "source": [
    "B = symbols('B', real=True)\n",
    "Z = exp(beta * B ) + exp(-beta * B)\n",
    "lambdify(diff(ln(Z), beta)/B - B, [B , beta])\n",
    "# plot"
   ]
  },
  {
   "cell_type": "code",
   "execution_count": 108,
   "metadata": {},
   "outputs": [
    {
     "name": "stdout",
     "output_type": "stream",
     "text": [
      "-L + v**4 - v**2\n",
      "-H*v**3 + H*v - L*p + L*v**3 - L*v\n",
      "H**2*v**2 - H**2 - 2*H*L*v**2 + 2*H*L + L**2*v**2 - L**2 - L*p**2\n",
      "dv*(H + 3*L + 2*v**2)\n",
      "-H**3*v + 3*H**2*L*v - H**2*p - 3*H*L**2*v + 2*H*L*p + L**3*v - L**2*p - L*p**3\n",
      "dv*(H*p + 3*L*p + 8*L*v + p + 2*v)\n",
      "-dv*(3*H*p - 8*H*v + 9*L*p - p - 2*v)\n",
      "H - L + p*v\n",
      "H**4 - 4*H**3*L + 6*H**2*L**2 - H**2*p**2 - 4*H*L**3 + 2*H*L*p**2 + L**4 - L**2*p**2 - L*p**4\n",
      "dv*(-4*H**2 - 2*H + 36*L**2 + 10*L + 3*p**2)\n",
      "-dv*(-8*H**2 - 24*H*L - 10*H + 2*L + 3*p**2)\n",
      "dv*(32*H**2 + 9*H*p**2 + 16*H + 27*L*p**2 - 8*L - 6*p**2)\n",
      "dL - dv*p\n",
      "dv*(256*H**3 + 128*H**2 - 144*H*p**2 + 16*H + 27*p**4 - 4*p**2)\n"
     ]
    }
   ],
   "source": [
    "L, H , v, p, dv, dL = symbols('L H v p dv dL')\n",
    "\n",
    "e1 = L - v*v*v*v + v * v\n",
    "de1 = diff(e1,L)*dL + diff(e1,v)*dv\n",
    "e2 = dL - p*dv\n",
    "e3 =  (L - p * v) - H\n",
    "\n",
    "eqs = [e1,de1,e2,e3]\n",
    "\n",
    "for G in groebner(eqs,  v, L, dL, H , p, dv):\n",
    "    print(factor(G))\n",
    "\n"
   ]
  },
  {
   "cell_type": "code",
   "execution_count": 88,
   "metadata": {},
   "outputs": [
    {
     "data": {
      "text/plain": [
       "-v - Abs(v)"
      ]
     },
     "execution_count": 88,
     "metadata": {},
     "output_type": "execute_result"
    }
   ],
   "source": [
    "refine(-v - (v**3)**(R(1,3)))"
   ]
  },
  {
   "cell_type": "code",
   "execution_count": 87,
   "metadata": {},
   "outputs": [
    {
     "data": {
      "text/plain": [
       "-Abs(v)"
      ]
     },
     "execution_count": 87,
     "metadata": {},
     "output_type": "execute_result"
    }
   ],
   "source": [
    "refine(-(v**3)**(R(1,3)))"
   ]
  },
  {
   "cell_type": "markdown",
   "metadata": {},
   "source": [
    "https://stackoverflow.com/questions/48709140/is-it-possible-to-construct-symbols-in-sympy-that-anticommute\n",
    "\n",
    "If we were on a polynomial surface, we'd be working modulo those equations.\n",
    "`x**2 + y**2 + z**2 - 1`\n",
    "\n",
    "We could take exteriori derivatives of bases modulo \n",
    "\n",
    "\n",
    "The dx dy dz equations make the tangent bundle concept quite literal.\n",
    "setting dx = dy = dz = 0 make the projection to the base space.\n",
    "\n",
    "\n",
    "\n"
   ]
  },
  {
   "cell_type": "code",
   "execution_count": 13,
   "metadata": {},
   "outputs": [],
   "source": [
    "dx,dy,dz = symbols(\"dx dy dz\", commutative = False)\n",
    "anti = {\n",
    "    dx * dx : 0,\n",
    "    dy * dy : 0,\n",
    "    dz * dz : 0,\n",
    "    dy * dx : -dx * dy,\n",
    "    dz * dy : -dy * dz,\n",
    "    dz * dx : -dx * dz,\n",
    "    \n",
    "}\n"
   ]
  },
  {
   "cell_type": "code",
   "execution_count": 16,
   "metadata": {},
   "outputs": [
    {
     "data": {
      "text/plain": [
       "0"
      ]
     },
     "execution_count": 16,
     "metadata": {},
     "output_type": "execute_result"
    }
   ],
   "source": [
    "(dx * dy * dz * dy).subs(anti).subs(anti)"
   ]
  },
  {
   "cell_type": "code",
   "execution_count": 17,
   "metadata": {},
   "outputs": [
    {
     "data": {
      "text/plain": [
       "dx*dy*dz"
      ]
     },
     "execution_count": 17,
     "metadata": {},
     "output_type": "execute_result"
    }
   ],
   "source": [
    "(dy * dx * dz  + 2 * dy * dz * dx ).subs(anti).subs(anti)"
   ]
  },
  {
   "cell_type": "code",
   "execution_count": 21,
   "metadata": {},
   "outputs": [],
   "source": [
    "def exterior(e):\n",
    "    return (dx * diff(e, x) +  dy * diff(e, y) +  dz * diff(e, z)).subs(anti).subs(anti)"
   ]
  },
  {
   "cell_type": "code",
   "execution_count": 33,
   "metadata": {},
   "outputs": [
    {
     "data": {
      "text/plain": [
       "2*dx*dy"
      ]
     },
     "execution_count": 33,
     "metadata": {},
     "output_type": "execute_result"
    }
   ],
   "source": [
    "x,y,z = symbols(\"x y z\")\n",
    "exterior(x * dx + y * dy + z * dz)\n",
    "exterior(x * dy )\n",
    "exterior(x * dy - y * dx )"
   ]
  },
  {
   "cell_type": "code",
   "execution_count": null,
   "metadata": {},
   "outputs": [],
   "source": [
    "import numpy as np\n",
    "import matplotlib.pyplot as plt"
   ]
  },
  {
   "cell_type": "code",
   "execution_count": 51,
   "metadata": {},
   "outputs": [
    {
     "data": {
      "image/png": "[encoded data removed]",
      "text/plain": [
       "<Figure size 432x288 with 1 Axes>"
      ]
     },
     "metadata": {
      "needs_background": "light"
     },
     "output_type": "display_data"
    }
   ],
   "source": [
    "x,y = np.meshgrid(np.linspace(-5,5,10),np.linspace(-5,5,10))\n",
    "\n",
    "u = -y\n",
    "v = x\n",
    "\n",
    "plt.quiver(x,y,u,v)\n",
    "plt.show()"
   ]
  },
  {
   "cell_type": "code",
   "execution_count": 52,
   "metadata": {},
   "outputs": [
    {
     "data": {
      "image/png": "[encoded data removed]",
      "text/plain": [
       "<Figure size 432x288 with 1 Axes>"
      ]
     },
     "metadata": {
      "needs_background": "light"
     },
     "output_type": "display_data"
    }
   ],
   "source": [
    "x,y = np.meshgrid(np.linspace(-5,5,10),np.linspace(-5,5,10))\n",
    "\n",
    "u = y\n",
    "v = x\n",
    "\n",
    "plt.quiver(x,y,u,v)\n",
    "plt.show()"
   ]
  },
  {
   "cell_type": "markdown",
   "metadata": {},
   "source": [
    "What about the anti differentiation problem?\n",
    "Well, if we discretize it's kind of straight forward - discrete exterior claculus\n",
    "Becomes a linear problem\n",
    "Also if polynomial, not so bad.\n",
    "Otherwise, me dunno. The mysteries of the symbolic antidifferentiaion process.\n",
    "\n",
    "Given \n",
    "\n",
    "3 derivatives:\n",
    "metrical/covaraint\n",
    "exterior\n",
    "Lie\n",
    "\n",
    "\n",
    "\n",
    "Lie derivative of differential equations themselves. -> symmettries\n",
    "Using the differential equations as the flow field  -> invaraints of flow\n",
    "\n",
    "And these are related?\n",
    "\n",
    "https://docs.sympy.org/latest/modules/diffgeom.html\n",
    "\n"
   ]
  },
  {
   "cell_type": "code",
   "execution_count": null,
   "metadata": {},
   "outputs": [],
   "source": [
    "diff( f(x + t * vx, y + t * vy), t).subs(t,0) # this is the vector  "
   ]
  },
  {
   "cell_type": "code",
   "execution_count": 30,
   "metadata": {},
   "outputs": [
    {
     "data": {
      "text/plain": [
       "dx <= x"
      ]
     },
     "execution_count": 30,
     "metadata": {},
     "output_type": "execute_result"
    }
   ],
   "source": [
    "def lie(e,v): # directional derivative\n",
    "    return sum( v * diff(e,x)   for v, x in zip(v , variables)]) \n",
    "\n",
    "def prolongation(e):\n",
    "    # replace all derivatives with fresh variables\n",
    "    # But also note that this induces a constraint on the form of the lie derivative\n",
    "    # \n",
    "\n",
    "    \n",
    "    \n",
    "xreplace()    \n",
    "    "
   ]
  },
  {
   "cell_type": "code",
   "execution_count": null,
   "metadata": {},
   "outputs": [],
   "source": [
    "import numpy as np\n",
    "e = np.eye(3)\n",
    "def exterior(v,w):\n",
    "    len(v.shape)\n",
    "    # but outer doesn't work like I'd want. Manually reshape afterward?\n",
    "    return np.outer(v,w) +  (- 1 ** len(w.shape)) * np.outer(w,v) \n",
    "\n"
   ]
  },
  {
   "cell_type": "code",
   "execution_count": 39,
   "metadata": {},
   "outputs": [
    {
     "data": {
      "text/plain": [
       "Eq(x(t), C1 + C2*t + a*t**2/2)"
      ]
     },
     "execution_count": 39,
     "metadata": {},
     "output_type": "execute_result"
    }
   ],
   "source": [
    "x = Function(\"x\")\n",
    "t, a = symbols(\"t a\")\n",
    "dsolve(diff(x(t),t,2) - a)"
   ]
  },
  {
   "cell_type": "code",
   "execution_count": 41,
   "metadata": {},
   "outputs": [
    {
     "data": {
      "text/plain": [
       "Eq(x(t), C1*sin(t) + C2*cos(t))"
      ]
     },
     "execution_count": 41,
     "metadata": {},
     "output_type": "execute_result"
    }
   ],
   "source": [
    "dsolve(diff(x(t),t,2) + x(t))"
   ]
  },
  {
   "cell_type": "code",
   "execution_count": 42,
   "metadata": {},
   "outputs": [
    {
     "data": {
      "text/plain": [
       "Eq(x(t), C2*(t**4/12 + 1) + C1*t*(t**4/20 + 1) + O(t**6))"
      ]
     },
     "execution_count": 42,
     "metadata": {},
     "output_type": "execute_result"
    }
   ],
   "source": [
    "dsolve(diff(x(t),t,2) - t**2 * x(t))"
   ]
  },
  {
   "cell_type": "code",
   "execution_count": 43,
   "metadata": {},
   "outputs": [
    {
     "data": {
      "text/plain": [
       "Eq(x(t), C1*sin(t) + C2*cos(t))"
      ]
     },
     "execution_count": 43,
     "metadata": {},
     "output_type": "execute_result"
    }
   ],
   "source": [
    "dsolve(diff(x(t),t,2) + x(t))"
   ]
  },
  {
   "cell_type": "code",
   "execution_count": 44,
   "metadata": {},
   "outputs": [
    {
     "data": {
      "text/plain": [
       "t - t**3/6 + t**5/120 + O(t**6)"
      ]
     },
     "execution_count": 44,
     "metadata": {},
     "output_type": "execute_result"
    }
   ],
   "source": [
    "series(sin(t))"
   ]
  },
  {
   "cell_type": "code",
   "execution_count": 45,
   "metadata": {},
   "outputs": [
    {
     "data": {
      "text/plain": [
       "1 + t + t**2 + t**3 + t**4 + t**5 + O(t**6)"
      ]
     },
     "execution_count": 45,
     "metadata": {},
     "output_type": "execute_result"
    }
   ],
   "source": [
    "series(1/(1-t))"
   ]
  },
  {
   "cell_type": "markdown",
   "metadata": {},
   "source": [
    "Yeah formal power series brings in something else. I think they can be infinite stream backed."
   ]
  },
  {
   "cell_type": "code",
   "execution_count": 49,
   "metadata": {},
   "outputs": [
    {
     "data": {
      "text/plain": [
       "FormalPowerSeries(sin(t), t, 0, 1, (SeqFormula(Piecewise(((-1/4)**(_k/2 - 1/2)/(RisingFactorial(3/2, _k/2 - 1/2)*factorial(_k/2 - 1/2)), Eq(Mod(_k, 2), 1)), (0, True)), (_k, 2, oo)), SeqFormula(t**_k, (_k, 0, oo)), t))"
      ]
     },
     "execution_count": 49,
     "metadata": {},
     "output_type": "execute_result"
    }
   ],
   "source": [
    "fps(sin(t))"
   ]
  },
  {
   "cell_type": "code",
   "execution_count": 59,
   "metadata": {},
   "outputs": [
    {
     "data": {
      "text/plain": [
       "eta(x, y)*Subs(Derivative(f(_xi_1, y), _xi_1), (_xi_1,), (x,)) + psi(x, y)*Subs(Derivative(f(x, _xi_2), _xi_2), (_xi_2,), (y,))"
      ]
     },
     "execution_count": 59,
     "metadata": {},
     "output_type": "execute_result"
    }
   ],
   "source": [
    "eta = Function(\"eta\")\n",
    "psi = Function(\"psi\")\n",
    "phi = Function(\"phi\")\n",
    "f = Function(\"f\")\n",
    "x,y,t = symbols(\"x y t\")\n",
    "diff(  f(x + t * eta(x,y), y + t * psi(x,y)  )  ,  t).subs(t,0)\n"
   ]
  },
  {
   "cell_type": "markdown",
   "metadata": {},
   "source": [
    "f(x,y,p) \n",
    "\n",
    "\n",
    "d (dy/dx) * del_p\n",
    "\n",
    " psi del x + phi dely + (psi del_x f + phi del_y f) delp g(x,y,f(x,y))\n",
    " \n",
    "psi del x + phi dely + (psi del_x f + phi del_y f) delp g(x,f(x),f'(x))\n",
    "\n",
    "\n",
    "\n",
    "F(x,y,p) = 0\n",
    "==> derives (understand derivatives)\n",
    "dx delx F + dy dely F + dp delp F = 0 (introduces 3 new variables, 1 equation, linear in the ds, so there is an overall uninteresting scale)\n",
    "+\n",
    "dx * p = dy\n",
    "\n",
    "\n",
    "psi as functions seems odd.\n",
    "\n",
    "\n",
    "\n",
    "\n",
    "\n"
   ]
  },
  {
   "cell_type": "code",
   "execution_count": null,
   "metadata": {},
   "outputs": [],
   "source": []
  }
 ],
 "metadata": {
  "kernelspec": {
   "display_name": "Python 3",
   "language": "python",
   "name": "python3"
  },
  "language_info": {
   "codemirror_mode": {
    "name": "ipython",
    "version": 3
   },
   "file_extension": ".py",
   "mimetype": "text/x-python",
   "name": "python",
   "nbconvert_exporter": "python",
   "pygments_lexer": "ipython3",
   "version": "3.7.5"
  }
 },
 "nbformat": 4,
 "nbformat_minor": 2
}
