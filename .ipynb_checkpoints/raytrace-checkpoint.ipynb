{
 "cells": [
  {
   "cell_type": "code",
   "execution_count": 4,
   "metadata": {},
   "outputs": [
    {
     "data": {
      "text/plain": [
       "20"
      ]
     },
     "execution_count": 4,
     "metadata": {},
     "output_type": "execute_result"
    }
   ],
   "source": [
    "using LinearAlgebra\n",
    "dot([1 2 3] , [2 3 4])"
   ]
  },
  {
   "cell_type": "markdown",
   "metadata": {},
   "source": [
    "There are a couple different approaches to how one might deal with optics:\n",
    "\n",
    "- Closed simple forms\n",
    "- algebraic surfaces\n",
    "- signed distance function/ level set surfaces\n"
   ]
  },
  {
   "cell_type": "code",
   "execution_count": null,
   "metadata": {},
   "outputs": [],
   "source": [
    "function plane(p1,p2,p3)\n",
    "    v21 = p2 - p1\n",
    "    v31 = p3 - p1\n",
    "    n = cross(v21,v31)\n",
    "    return n, p1 # plane is dot(n, x - p1) == 0\n",
    "end\n",
    "\n",
    "\n",
    "struct Ray # ray = p + lam * r\n",
    "    p\n",
    "    r\n",
    "end    \n",
    "\n",
    "struct Plane # is dot(n, x - p1) == 0\n",
    "    n\n",
    "    p\n",
    "end\n",
    "\n",
    "function ray_plane(r, plane )\n",
    "    # n . (p + lam * r - p2)\n",
    "    # lam = n . (p - p2) / (n . r)\n",
    "    return dot(plane.n , r.p - plane.p) / dot(plane.n, ray.r )\n",
    "end\n",
    "\n"
   ]
  },
  {
   "cell_type": "code",
   "execution_count": null,
   "metadata": {},
   "outputs": [
    {
     "name": "stderr",
     "output_type": "stream",
     "text": [
      "┌ Info: Precompiling Images [916415d5-f1e6-5110-898d-aaa5f9f070e0]\n",
      "└ @ Base loading.jl:1278\n"
     ]
    }
   ],
   "source": [
    "using Images\n",
    "\n",
    "\n"
   ]
  },
  {
   "cell_type": "code",
   "execution_count": null,
   "metadata": {},
   "outputs": [],
   "source": [
    "rand(4,3)"
   ]
  },
  {
   "cell_type": "markdown",
   "metadata": {},
   "source": [
    "Homogenous coordinates\n",
    "\n",
    "Plucker coordinates for rays. https://en.wikipedia.org/wiki/Pl%C3%BCcker_coordinates\n",
    "\n",
    "a line is an affine combination of points.\n",
    "\n",
    "p = lam1 x1 + lam2 x2\n",
    "\n",
    "\n",
    "Projection via ray is very natural here. Just drop the last component.\n",
    "\n",
    "In homgenous coordianets it is a linear combination of points.\n",
    "Dually, we can take the plucker coordinates which are the antisymmetric product of the points.\n",
    "\n",
    "\n",
    "\n",
    "\n",
    "\n",
    "\n",
    "\n",
    "\n",
    "\n",
    "\n"
   ]
  },
  {
   "cell_type": "markdown",
   "metadata": {},
   "source": [
    "Ray tracing with JuMP\n",
    "\n",
    "We can find the closest point of an object to the camera with jump\n",
    "\n",
    "\n",
    "\n",
    "\n"
   ]
  },
  {
   "cell_type": "markdown",
   "metadata": {},
   "source": [
    "Matrix ray optics\n",
    "\n",
    "An approximate ray tracing can be achived by taking a linearization of angles.\n",
    "\n",
    "A ray is ~   (y , alpha) where alpha = \n",
    "\n",
    "\n"
   ]
  }
 ],
 "metadata": {
  "kernelspec": {
   "display_name": "Julia 1.5.0",
   "language": "julia",
   "name": "julia-1.5"
  },
  "language_info": {
   "file_extension": ".jl",
   "mimetype": "application/julia",
   "name": "julia",
   "version": "1.5.0"
  }
 },
 "nbformat": 4,
 "nbformat_minor": 4
}
