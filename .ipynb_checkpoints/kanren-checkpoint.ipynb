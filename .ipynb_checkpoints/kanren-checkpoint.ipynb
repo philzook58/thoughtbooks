{
 "cells": [
  {
   "cell_type": "code",
   "execution_count": 2,
   "metadata": {},
   "outputs": [
    {
     "name": "stderr",
     "output_type": "stream",
     "text": [
      "WARNING: using FunctionalCollections.disj in module Main conflicts with an existing identifier.\n"
     ]
    }
   ],
   "source": [
    "struct Var # so I don't need autohash equals?\n",
    "    x::Symbol # or should this be a gensym symbol?\n",
    "end\n",
    "\n",
    "\n",
    "function walk(s,u) # ImmutableDict is linked list? Pretty generic actually.\n",
    "    while isa(u,Var) && haskey(s,u)\n",
    "            u = get(s,u)\n",
    "    end\n",
    "    return u\n",
    "end\n",
    "\n",
    "eqwal(u,v) = s -> begin\n",
    "                     s = unify(u,v,s)\n",
    "                     (s == nothing) ? () : (s,)\n",
    "                  end\n",
    "\n",
    "\n",
    "function unify(u,v,s)\n",
    "    u = walk(s,u)\n",
    "    v = walk(s,v)\n",
    "    if isa(u,Var) && isa(v,Var) && u === v\n",
    "        return s\n",
    "    elseif isa(u,Var)\n",
    "        return assoc(s,u,v)\n",
    "    elseif isa(v,Var)\n",
    "        return assoc(s,v,u)\n",
    "    elseif isa(u, Expr) && isa(v,Expr)\n",
    "        @assert u.head === :call && v.head === :call  # not supporting arbitrary expressions. Only nested function calls basically.\n",
    "        if u.args[1] === v.args[1] && length(u.args) == length(v.args) #heads match\n",
    "            for (u,v) in zip( u.args[2:end] , v.args[2:end] ) \n",
    "                s = unify(u,v,s)\n",
    "                if s === nothing\n",
    "                    return nothing\n",
    "                end\n",
    "            end\n",
    "            return s\n",
    "            #[  unify(u,v,s)  for (u,v) in zip( u.args[2:end] , v.args[2:end] ) ]\n",
    "        else\n",
    "            return nothing # return nothing is\n",
    "        end\n",
    "    else\n",
    "        if u === v\n",
    "            return s\n",
    "        else\n",
    "            return nothing\n",
    "        end\n",
    "    end\n",
    "end\n",
    "#=\n",
    "function unify(u::Expr, v::Expr, s)\n",
    "    @assert u.head === :call && v.head === :call  # not supporting arbitrary expressions. Only nested function calls basically.\n",
    "    println(u,v)\n",
    "    if u.args[1] === v.args[1] && length(u.args) == length(v.args) #heads match\n",
    "        for (u,v) in zip( u.args[2:end] , v.args[2:end] ) \n",
    "            s = unify(u,v,s)\n",
    "            if s === nothing\n",
    "                return nothing\n",
    "            end\n",
    "        end\n",
    "        return s\n",
    "        #[  unify(u,v,s)  for (u,v) in zip( u.args[2:end] , v.args[2:end] ) ]\n",
    "    else\n",
    "        return nothing # return nothing is\n",
    "    end\n",
    "end\n",
    "\n",
    "unify(x::Var,y::Var,s) = begin x = walk(s,x); y = walk(s,y); (x === y) ? s : assoc(s, x, y) end\n",
    "unify(x::Var,y,s) = begin @assert(!isa(y,Var)); x = walk(s,x); y = walk(s,y); assoc(s, x, y) end\n",
    "unify(x,y::Var,s) =  begin @assert(!isa(x,Var)); x = walk(s,x); y = walk(s,y); assoc(s, y, x) end\n",
    "# default case. Symbol, integer, string. Is this a bad idea to leave this open?\n",
    "unify(x::Symbol,y::Symbol,s) = (x === y) ? s : nothing\n",
    "unify(x::Expr,y::Symbol,s) = nothing\n",
    "unify(x::Symbol,y::Expr,s) = nothing\n",
    "\n",
    "=#\n",
    "fresh(f) = f(Var(gensym()))\n",
    "fresh2(f) = f(Var(gensym()), Var(gensym()))\n",
    "fresh3(f) = f(Var(gensym()), Var(gensym()), Var(gensym()))\n",
    "freshn(n, f) = f([Var(gensym()) for i in 1:n ]...) # fishy lookin, but works. Not so obvious the evaluation order here.\n",
    "\n",
    "\n",
    "\n",
    "# simpler version\n",
    "#disj(g1,g2) = s -> Iterators.flatten(  (g1(s)  , g2(s)) ) # conctenate them\n",
    "# bind = \"flatmap\". flatten ~ join\n",
    "#conj(g1,g2) = s -> Iterators.flatten( map( g2 ,  g1(s) )) # eta expansion\n",
    "\n",
    "#=\n",
    "disj(g1,g2) = s -> begin\n",
    "     s1 = g1(s)\n",
    "     s2 = g2(s)\n",
    "     if isa(s1,Function)\n",
    "        () -> disj(s2, s1())\n",
    "     else\n",
    "        Iterators.flatten(  (s1  , s2) )\n",
    "     end\n",
    "end\n",
    "      # conctenate them\n",
    "#disj(g1::Function,g2) = () -> disj(g2, g1()) # is thunking even necessary? iterators are already lazy. I think it kind of might be?\n",
    "conj(g1,g2) = s ->  begin\n",
    "                        q = g1(s)\n",
    "                        if isa(g1(s),Function)\n",
    "                            () -> conj(q(), g2)\n",
    "                        else\n",
    "                            Iterators.flatten( map( g2 ,  q )) # eta expansion\n",
    "                        end\n",
    "                    end\n",
    "\n",
    "=#\n",
    "\n",
    "disj(g1,g2) = s -> begin\n",
    "     s1 = g1(s)\n",
    "     s2 = g2(s)\n",
    "     if isa(s1,Thunk)  && isa(s1.it, Function) #s1.forced == false  \n",
    "        Iterators.flatten(  (s2  , s1) )\n",
    "     else\n",
    "        Iterators.flatten(  (s1  , s2) )\n",
    "     end\n",
    "end\n",
    "      # conctenate them\n",
    "#disj(g1::Function,g2) = () -> disj(g2, g1()) # is thunking even necessary? iterators are already lazy. I think it kind of might be?\n",
    "conj(g1,g2) = s -> Iterators.flatten( map( g2 ,  g1(s) )) # eta expansion\n",
    "#=\n",
    "macro Zzz(g) # does this have to be a macro? Is there a benefit? Yes. For evaluation order. We don't want g evaluated before being passed\n",
    "    return :(s -> () -> $g(s))\n",
    "end\n",
    "=#\n",
    "\n",
    "macro Zzz(g) # does this have to be a macro? Is there a benefit? Yes. For evaluation order.\n",
    "    return :(s -> Thunk(() -> $(esc(g))(s)))\n",
    "end\n",
    "\n",
    "# hmm. Maybe these too?\n",
    "conjplus(g) = @Zzz(g)\n",
    "conjplus(g0,gs...) = conj(@Zzz(g0), conjplus(gs...))\n",
    "\n",
    "disjplus(g) = @Zzz(g)\n",
    "disjplus(g0,gs...) = disj(@Zzz(g0), disjplus(gs...))\n",
    "\n",
    "conde(clauses) = disjplus(map(conjplus, clauses))\n",
    "\n",
    "# nice operator forms\n",
    "∧ = conj # \\wedge\n",
    "∨ = disj # \\vee\n",
    "≅ = eqwal #\\cong\n",
    "\n",
    "\n",
    "\n",
    "\n",
    "using FunctionalCollections\n",
    "#run(c) = c( @Persistent Dict() )\n",
    "function call_empty(n::Int64, c)\n",
    "    collect(Iterators.take(c( @Persistent Dict() ), n))\n",
    "end\n",
    "\n",
    "\n",
    "\n",
    "function run(n, f)\n",
    "    q = Var(gensym())\n",
    "    res = call_empty(n, f(q))\n",
    "    return map(s -> walk_star(q,s), res)    \n",
    "end\n",
    "\n",
    "function walk_star(v,s)\n",
    "        v = walk(s,v)\n",
    "        if isa(v,Var)\n",
    "            return v\n",
    "        elseif isa(v,Expr)\n",
    "            @assert v.head == :call\n",
    "            return Expr(v.head ,vcat( v.args[1], map(v -> walk_star(v,s), v.args[2:end]))...)\n",
    "        else\n",
    "            return v\n",
    "        end\n",
    "end\n",
    "\n",
    "#=   s = pull(c( @Persistent Dict() ))\n",
    "   n, state = iterate(s)\n",
    "   println(n)\n",
    "   while n >= 0 && state !== nothing\n",
    "       s = pull(s)\n",
    "       iterate(,state)     \n",
    "       n = n - 1\n",
    "   end\n",
    "=#\n",
    "\n",
    "\n",
    "# Where do these get forced. Not obvious. Do they get forced when flattened? \n",
    "mutable struct Thunk #{I}\n",
    "   it # Union{I,Function}\n",
    "end\n",
    "\n",
    "function pull(x) # Runs the trampoline\n",
    "    while isa(x,Function)\n",
    "        x = x()\n",
    "    end\n",
    "    x\n",
    "end\n",
    "\n",
    "function Base.length(x::Thunk) \n",
    "    x.it = pull(x.it)\n",
    "    Base.length(x.it)\n",
    "end\n",
    "\n",
    "function Base.iterate(x::Thunk) \n",
    "    x.it = pull(x.it)\n",
    "    Base.iterate(x.it)\n",
    "end\n",
    "\n",
    "function Base.iterate(x::Thunk, state) \n",
    "    x.it = pull(x.it) # Should we assume forced?\n",
    "    Base.iterate(x.it, state)\n",
    "end\n",
    "\n"
   ]
  },
  {
   "cell_type": "code",
   "execution_count": 13,
   "metadata": {},
   "outputs": [
    {
     "data": {
      "text/plain": [
       "1-element Array{var\"#31#32\"{var\"#31#32\"{var\"#31#32\"{Expr,var\"#25#26\"{Expr,Expr}},var\"#115#123\"{Var,Var,Var}},var\"#117#125\"{Var,Var,Var}},1}:\n",
       " #31 (generic function with 1 method)"
      ]
     },
     "execution_count": 13,
     "metadata": {},
     "output_type": "execute_result"
    }
   ],
   "source": [
    "function typo(f,t)\n",
    "    fresh(a -> (f ≅ :(id($a))) ∧ (t  ≅ :(Hom($a,$a)))) ∨\n",
    "    fresh2( (a,b) -> (f ≅ :fst) ∧ (t  ≅ :(Hom(tup($a,$b),$a)))) ∨\n",
    "    fresh2( (a,b) -> (f ≅ :snd) ∧ (t  ≅ :(Hom(tup($a,$b),$b)))) ∨\n",
    "    freshn( 5, (g,h,a,b,c) -> (f ≅ :($g ⋅ $h)) ∧ (t  ≅ :(Hom($a,$c))) ∧ @Zzz(typo(g, :(Hom($a,$b))))  ∧ @Zzz(typo(h, :(Hom($b,$c))))  )) #∨\n",
    "end\n",
    "\n",
    "run(2,  f ->  typo( f  , :(Hom(b,b))))\n",
    "run(2,  f ->  typo( f  , :(Hom(tup(a,b),b))))\n",
    "run(2,  f ->  typo( f  , :(Hom(tup(a,tup(b,c)),c))))\n"
   ]
  },
  {
   "cell_type": "code",
   "execution_count": null,
   "metadata": {},
   "outputs": [],
   "source": [
    "struct Goal\n",
    "    it\n",
    "end\n",
    "\n",
    "(x::Goal)(zs...) = x.it(zs...)"
   ]
  },
  {
   "cell_type": "code",
   "execution_count": 48,
   "metadata": {},
   "outputs": [
    {
     "data": {
      "text/plain": [
       "(12, 11, 15)"
      ]
     },
     "execution_count": 48,
     "metadata": {},
     "output_type": "execute_result"
    }
   ],
   "source": [
    " Base.operator_precedence(:*),  Base.operator_precedence(:+), Base.operator_precedence(:^)"
   ]
  },
  {
   "cell_type": "code",
   "execution_count": 49,
   "metadata": {},
   "outputs": [
    {
     "data": {
      "text/plain": [
       "eqwal (generic function with 1 method)"
      ]
     },
     "execution_count": 49,
     "metadata": {},
     "output_type": "execute_result"
    }
   ],
   "source": [
    "#Base.:*(x::Goal, y::Goal) = x ∧ y\n",
    "#Base.:+(x::Goal, y::Goal) = x ∨ y\n",
    "#Base.:^(x::Goal, y::Goal) = x ≅ y\n",
    "^ = ≅"
   ]
  },
  {
   "cell_type": "code",
   "execution_count": 54,
   "metadata": {},
   "outputs": [
    {
     "data": {
      "text/plain": [
       "pluso (generic function with 1 method)"
      ]
     },
     "execution_count": 54,
     "metadata": {},
     "output_type": "execute_result"
    }
   ],
   "source": [
    "function pluso(x,y,z)\n",
    "       (x ^ :zero  ∧  y ^ z) ∨\n",
    "       (fresh2( (n,m) -> x ^ :(succ($n)) ∧ z ^ :(succ($m)) ∧ @Zzz(pluso( n, y, m) )))\n",
    "end"
   ]
  },
  {
   "cell_type": "code",
   "execution_count": 57,
   "metadata": {},
   "outputs": [
    {
     "data": {
      "text/plain": [
       "appendo (generic function with 1 method)"
      ]
     },
     "execution_count": 57,
     "metadata": {},
     "output_type": "execute_result"
    }
   ],
   "source": [
    "function appendo(x,y,z)\n",
    "    (x ≅ :nil) ∧ (y ≅ z) ∨\n",
    "    fresh3( (hd, xs ,zs) ->  (x ≅ :(cons($hd,$xs)) )  ∧ (z ≅ :(cons($hd, $zs)))  ∧ @Zzz( appendo( xs,y,zs )))\n",
    "end"
   ]
  },
  {
   "cell_type": "code",
   "execution_count": 79,
   "metadata": {},
   "outputs": [
    {
     "data": {
      "text/plain": [
       "1-element Array{Expr,1}:\n",
       " :(cons(3, cons(4, nil)))"
      ]
     },
     "execution_count": 79,
     "metadata": {},
     "output_type": "execute_result"
    }
   ],
   "source": [
    "run(3, q ->  appendo(   :(cons(3,nil)), :(cons(4,nil)), q )  )"
   ]
  },
  {
   "cell_type": "code",
   "execution_count": 62,
   "metadata": {},
   "outputs": [
    {
     "data": {
      "text/plain": [
       "1-element Array{Expr,1}:\n",
       " :(cons(3, nil))"
      ]
     },
     "execution_count": 62,
     "metadata": {},
     "output_type": "execute_result"
    }
   ],
   "source": [
    "run(3, q ->  appendo(   q, :(cons(4,nil)), :(cons(3, cons(4, nil))) )  )"
   ]
  },
  {
   "cell_type": "code",
   "execution_count": 75,
   "metadata": {},
   "outputs": [
    {
     "data": {
      "text/plain": [
       "3-element Array{Expr,1}:\n",
       " :(tup(nil, cons(3, cons(4, nil))))\n",
       " :(tup(cons(3, nil), cons(4, nil)))\n",
       " :(tup(cons(3, cons(4, nil)), nil))"
      ]
     },
     "execution_count": 75,
     "metadata": {},
     "output_type": "execute_result"
    }
   ],
   "source": [
    "run(10, q -> fresh2( (x,y) ->  (q ≅ :(tup($x,$y))) ∧ appendo( x, y, :(cons(3,cons(4,nil)))  )))"
   ]
  },
  {
   "cell_type": "code",
   "execution_count": 72,
   "metadata": {},
   "outputs": [
    {
     "data": {
      "text/plain": [
       "1-element Array{Any,1}:\n",
       " Persistent{Any, Any}[Var(Symbol(\"##418\")) => cons(3, Var(Symbol(\"##418\")))]"
      ]
     },
     "execution_count": 72,
     "metadata": {},
     "output_type": "execute_result"
    }
   ],
   "source": [
    "call_empty(1, fresh(q -> appendo( :nil, q, :(cons(3,$q)) ) ))"
   ]
  },
  {
   "cell_type": "code",
   "execution_count": 46,
   "metadata": {},
   "outputs": [
    {
     "data": {
      "text/plain": [
       "(12, 11, 15)"
      ]
     },
     "execution_count": 46,
     "metadata": {},
     "output_type": "execute_result"
    }
   ],
   "source": [
    "Base.operator_precedence(:&), Base.operator_precedence(:|) , Base.operator_precedence(:^)"
   ]
  },
  {
   "cell_type": "code",
   "execution_count": 45,
   "metadata": {},
   "outputs": [
    {
     "data": {
      "text/plain": [
       "(12, 11, 7)"
      ]
     },
     "execution_count": 45,
     "metadata": {},
     "output_type": "execute_result"
    }
   ],
   "source": [
    "Base.operator_precedence(:∧),Base.operator_precedence(:∨) ,Base.operator_precedence(:≅) # The operator precendce is the opposite I would've wanted..."
   ]
  },
  {
   "cell_type": "code",
   "execution_count": null,
   "metadata": {},
   "outputs": [],
   "source": [
    "Base.operator_precedence(∧),Base.operator_precedence(∨) ,Base.operator_precedence(≅)"
   ]
  },
  {
   "cell_type": "code",
   "execution_count": 80,
   "metadata": {},
   "outputs": [
    {
     "data": {
      "text/plain": [
       "pluso (generic function with 1 method)"
      ]
     },
     "execution_count": 80,
     "metadata": {},
     "output_type": "execute_result"
    }
   ],
   "source": [
    "function nat(n)\n",
    "    s = :zero\n",
    "    for i in 1:n\n",
    "        s = :(succ($s))\n",
    "    end\n",
    "    return s\n",
    "end\n",
    "\n",
    "function pluso(x,y,z)\n",
    "      (( x ≅ :zero ) ∧ (y ≅ z) ) ∨\n",
    "      fresh2( (n,m) -> (x ≅ :(succ($n))) ∧ (z ≅ :(succ($m))) ∧ @Zzz(pluso( n, y, m)))\n",
    "end"
   ]
  },
  {
   "cell_type": "code",
   "execution_count": 82,
   "metadata": {},
   "outputs": [
    {
     "data": {
      "text/plain": [
       "1-element Array{Expr,1}:\n",
       " :(succ(succ(succ(succ(zero)))))"
      ]
     },
     "execution_count": 82,
     "metadata": {},
     "output_type": "execute_result"
    }
   ],
   "source": [
    "run(5, z -> pluso(nat(2), nat(2), z))"
   ]
  },
  {
   "cell_type": "code",
   "execution_count": 3,
   "metadata": {},
   "outputs": [
    {
     "data": {
      "text/plain": [
       "false"
      ]
     },
     "execution_count": 3,
     "metadata": {},
     "output_type": "execute_result"
    }
   ],
   "source": [
    "isa(Var(gensym()), Symbol)"
   ]
  },
  {
   "cell_type": "code",
   "execution_count": 6,
   "metadata": {},
   "outputs": [
    {
     "data": {
      "text/plain": [
       "1-element Array{Any,1}:\n",
       " Persistent{Any, Any}[Var(Symbol(\"##257\")) => succ(zero), Var(Symbol(\"##256\")) => zero, Var(Symbol(\"##z#255\")) => succ(Var(Symbol(\"##257\")))]"
      ]
     },
     "execution_count": 6,
     "metadata": {},
     "output_type": "execute_result"
    }
   ],
   "source": [
    "run(5, (z -> pluso(:(succ(zero)), :(succ(zero)), z))(Var(gensym(\"z\")))   )"
   ]
  },
  {
   "cell_type": "code",
   "execution_count": 36,
   "metadata": {},
   "outputs": [
    {
     "data": {
      "text/plain": [
       "5-element Array{Expr,1}:\n",
       " :(tup(zero, succ(zero)))\n",
       " :(tup(succ(zero), succ(succ(zero))))\n",
       " :(tup(succ(succ(zero)), succ(succ(succ(zero)))))\n",
       " :(tup(succ(succ(succ(zero))), succ(succ(succ(succ(zero))))))\n",
       " :(tup(succ(succ(succ(succ(zero)))), succ(succ(succ(succ(succ(zero)))))))"
      ]
     },
     "execution_count": 36,
     "metadata": {},
     "output_type": "execute_result"
    }
   ],
   "source": [
    "run(5, z -> fresh2( (x,y) -> (z ≅ :( tup($x , $y))) ∧ pluso(x, :(succ(zero)), y)))"
   ]
  },
  {
   "cell_type": "code",
   "execution_count": null,
   "metadata": {},
   "outputs": [],
   "source": []
  },
  {
   "cell_type": "code",
   "execution_count": 8,
   "metadata": {},
   "outputs": [
    {
     "data": {
      "text/plain": [
       ":(var\"#35#s\"->begin\n",
       "          #= In[2]:130 =#\n",
       "          Main.Thunk((()->begin\n",
       "                      #= In[2]:130 =#\n",
       "                      (s ≅ :zero)(var\"#35#s\")\n",
       "                  end))\n",
       "      end)"
      ]
     },
     "execution_count": 8,
     "metadata": {},
     "output_type": "execute_result"
    }
   ],
   "source": [
    "@macroexpand @Zzz(s ≅ :zero)"
   ]
  },
  {
   "cell_type": "code",
   "execution_count": 3,
   "metadata": {},
   "outputs": [
    {
     "data": {
      "text/plain": [
       "pluso (generic function with 1 method)"
      ]
     },
     "execution_count": 3,
     "metadata": {},
     "output_type": "execute_result"
    }
   ],
   "source": []
  },
  {
   "cell_type": "markdown",
   "metadata": {},
   "source": [
    "Is s an iterator, a iterator state, or iterator value?\n",
    "No we're wo0rking mondaically. s is a value\n",
    "But then we produce an iterator.\n",
    "\n",
    "It's an iterator value.\n"
   ]
  },
  {
   "cell_type": "code",
   "execution_count": 5,
   "metadata": {},
   "outputs": [
    {
     "data": {
      "text/plain": [
       "(2, 3)"
      ]
     },
     "execution_count": 5,
     "metadata": {},
     "output_type": "execute_result"
    }
   ],
   "source": [
    "Base.tail((1,2,3))"
   ]
  },
  {
   "cell_type": "code",
   "execution_count": 2,
   "metadata": {},
   "outputs": [],
   "source": [
    "mutable struct Thunk\n",
    "   it\n",
    "end\n",
    "# First iterate evaluates the underlying iterator enough to know what it is.\n",
    "# Then subsequently it's carried in the state?\n",
    "#Thunk(x::Function) = Thunk(x,false)\n",
    "\n",
    "# Hmm. Rather maybe we should pull.\n",
    "# x.it = pull(x.it)\n",
    "#=\n",
    "    if !x.forced\n",
    "        x.it = x.it()\n",
    "        x.forced = true\n",
    "    end\n",
    "=#\n",
    "\n",
    "function pull(x) # Runs the trampoline\n",
    "    while isa(x,Function)\n",
    "        x = x()\n",
    "    end\n",
    "    x\n",
    "end\n",
    "\n",
    "function Base.length(x::Thunk) \n",
    "    x.it = pull(x.it)\n",
    "    Base.length(x.it)\n",
    "end\n",
    "\n",
    "function Base.iterate(x::Thunk) \n",
    "    x.it = pull(x.it)\n",
    "    Base.iterate(x.it)\n",
    "end\n",
    "\n",
    "function Base.iterate(x::Thunk, state) # assume forced?\n",
    "    x.it = pull(x.it)\n",
    "    Base.iterate(x.it, state)\n",
    "end"
   ]
  },
  {
   "cell_type": "code",
   "execution_count": 4,
   "metadata": {},
   "outputs": [
    {
     "name": "stdout",
     "output_type": "stream",
     "text": [
      "1\n",
      "2\n",
      "3\n",
      "1\n",
      "2\n",
      "3\n"
     ]
    }
   ],
   "source": [
    "q = Thunk([1,2,3])\n",
    "for x in q\n",
    "    println(x)\n",
    "end\n",
    "for x in q\n",
    "    println(x)\n",
    "end"
   ]
  },
  {
   "cell_type": "code",
   "execution_count": 52,
   "metadata": {},
   "outputs": [],
   "source": [
    "struct Thunk\n",
    "   it\n",
    "end\n",
    "# First iterate evaluates the underlying iterator enough to know what it is.\n",
    "# Then subsequently it's carried in the state?\n",
    "\n",
    "\n",
    "\n",
    "function Base.iterate(x::Thunk) \n",
    "    q = x.it()\n",
    "    s = Base.iterate(q)\n",
    "    s === nothing && return nothing\n",
    "    s[1], (q, s[2])\n",
    "end\n",
    "\n",
    "function Base.iterate(x::Thunk, state) \n",
    "    s = Base.iterate(state[1] , state[2])\n",
    "    s === nothing && return nothing\n",
    "    s[1], (state[1], s[2])\n",
    "end"
   ]
  },
  {
   "cell_type": "code",
   "execution_count": 4,
   "metadata": {},
   "outputs": [
    {
     "data": {
      "text/plain": [
       "@Zzz (macro with 1 method)"
      ]
     },
     "execution_count": 4,
     "metadata": {},
     "output_type": "execute_result"
    }
   ],
   "source": [
    "\n",
    "\n",
    "\n"
   ]
  },
  {
   "cell_type": "code",
   "execution_count": 53,
   "metadata": {},
   "outputs": [
    {
     "data": {
      "text/plain": [
       "(1, 2)"
      ]
     },
     "execution_count": 53,
     "metadata": {},
     "output_type": "execute_result"
    }
   ],
   "source": [
    "Base.iterate([1,2,3])"
   ]
  },
  {
   "cell_type": "code",
   "execution_count": 54,
   "metadata": {},
   "outputs": [
    {
     "data": {
      "text/plain": [
       "(2, 3)"
      ]
     },
     "execution_count": 54,
     "metadata": {},
     "output_type": "execute_result"
    }
   ],
   "source": [
    "Base.tail((1,2,3))"
   ]
  },
  {
   "cell_type": "code",
   "execution_count": 1,
   "metadata": {},
   "outputs": [
    {
     "data": {
      "text/plain": [
       "(1, 2)"
      ]
     },
     "execution_count": 1,
     "metadata": {},
     "output_type": "execute_result"
    }
   ],
   "source": [
    "Base.iterate([1,2,3])"
   ]
  },
  {
   "cell_type": "code",
   "execution_count": 18,
   "metadata": {},
   "outputs": [
    {
     "data": {
      "text/plain": [
       ":(var\"#30#s\"->begin\n",
       "          #= In[17]:94 =#\n",
       "          Main.Thunk((()->begin\n",
       "                      #= In[17]:94 =#\n",
       "                      (nato(:zero))(var\"#30#s\")\n",
       "                  end))\n",
       "      end)"
      ]
     },
     "execution_count": 18,
     "metadata": {},
     "output_type": "execute_result"
    }
   ],
   "source": [
    "@macroexpand( @Zzz(nato(:zero)) )"
   ]
  },
  {
   "cell_type": "code",
   "execution_count": 4,
   "metadata": {},
   "outputs": [
    {
     "data": {
      "text/plain": [
       "pluso (generic function with 1 method)"
      ]
     },
     "execution_count": 4,
     "metadata": {},
     "output_type": "execute_result"
    }
   ],
   "source": [
    "function pluso(x,y,z)\n",
    "      (( x ≅ :zero ) ∧ (y ≅ z) ) ∨ fresh2( (n,m) -> (x ≅ :(succ($n))) ∧ (z ≅ :(succ($m))) ∧ @Zzz(pluso( n, y, m)))\n",
    "end"
   ]
  },
  {
   "cell_type": "code",
   "execution_count": 18,
   "metadata": {},
   "outputs": [
    {
     "data": {
      "text/plain": [
       ":(var\"#16#s\"->begin\n",
       "          #= In[5]:94 =#\n",
       "          Main.Thunk((()->begin\n",
       "                      #= In[5]:94 =#\n",
       "                      (pluso(n, y, m))(var\"#16#s\")\n",
       "                  end))\n",
       "      end)"
      ]
     },
     "execution_count": 18,
     "metadata": {},
     "output_type": "execute_result"
    }
   ],
   "source": [
    "@macroexpand @Zzz(pluso( n, y, m))"
   ]
  },
  {
   "cell_type": "code",
   "execution_count": 11,
   "metadata": {},
   "outputs": [
    {
     "name": "stdout",
     "output_type": "stream",
     "text": [
      "Var(Symbol(\"##z#282\"))succ(Var(Symbol(\"##284\")))\n",
      "Var(Symbol(\"##283\"))zero\n",
      "Var(Symbol(\"##283\"))succ(Var(Symbol(\"##285\")))\n",
      "Var(Symbol(\"##284\"))succ(Var(Symbol(\"##286\")))\n",
      "Var(Symbol(\"##285\"))zero\n",
      "Var(Symbol(\"##285\"))succ(Var(Symbol(\"##287\")))\n",
      "Var(Symbol(\"##286\"))succ(Var(Symbol(\"##288\")))\n",
      "Var(Symbol(\"##287\"))zero\n",
      "Var(Symbol(\"##287\"))succ(Var(Symbol(\"##289\")))\n",
      "Var(Symbol(\"##288\"))succ(Var(Symbol(\"##290\")))\n",
      "Var(Symbol(\"##289\"))zero\n",
      "Var(Symbol(\"##289\"))succ(Var(Symbol(\"##291\")))\n",
      "Var(Symbol(\"##290\"))succ(Var(Symbol(\"##292\")))\n",
      "Var(Symbol(\"##291\"))zero\n",
      "Var(Symbol(\"##291\"))succ(Var(Symbol(\"##293\")))\n",
      "Var(Symbol(\"##292\"))succ(Var(Symbol(\"##294\")))\n"
     ]
    },
    {
     "data": {
      "text/plain": [
       "5-element Array{Any,1}:\n",
       " Persistent{Any, Any}[Var(Symbol(\"##z#282\")) => succ(Var(Symbol(\"##284\"))), Var(Symbol(\"##284\")) => zero, Var(Symbol(\"##283\")) => zero]\n",
       " Persistent{Any, Any}[Var(Symbol(\"##285\")) => zero, Var(Symbol(\"##z#282\")) => succ(Var(Symbol(\"##284\"))), Var(Symbol(\"##284\")) => succ(Var(Symbol(\"##286\"))), Var(Symbol(\"##283\")) => succ(Var(Symbol(\"##285\"))), Var(Symbol(\"##286\")) => zero]\n",
       " Persistent{Any, Any}[Var(Symbol(\"##285\")) => succ(Var(Symbol(\"##287\"))), Var(Symbol(\"##287\")) => zero, Var(Symbol(\"##z#282\")) => succ(Var(Symbol(\"##284\"))), Var(Symbol(\"##284\")) => succ(Var(Symbol(\"##286\"))), Var(Symbol(\"##283\")) => succ(Var(Symbol(\"##285\"))), Var(Symbol(\"##288\")) => zero, Var(Symbol(\"##286\")) => succ(Var(Symbol(\"##288\")))]\n",
       " Persistent{Any, Any}[Var(Symbol(\"##285\")) => succ(Var(Symbol(\"##287\"))), Var(Symbol(\"##287\")) => succ(Var(Symbol(\"##289\"))), Var(Symbol(\"##290\")) => zero, Var(Symbol(\"##289\")) => zero, Var(Symbol(\"##z#282\")) => succ(Var(Symbol(\"##284\"))), Var(Symbol(\"##284\")) => succ(Var(Symbol(\"##286\"))), Var(Symbol(\"##283\")) => succ(Var(Symbol(\"##285\"))), Var(Symbol(\"##288\")) => succ(Var(Symbol(\"##290\"))), Var(Symbol(\"##286\")) => succ(Var(Symbol(\"##288\")))]\n",
       " Persistent{Any, Any}[Var(Symbol(\"##285\")) => succ(Var(Symbol(\"##287\"))), Var(Symbol(\"##287\")) => succ(Var(Symbol(\"##289\"))), Var(Symbol(\"##291\")) => zero, Var(Symbol(\"##290\")) => succ(Var(Symbol(\"##292\"))), Var(Symbol(\"##289\")) => succ(Var(Symbol(\"##291\"))), Var(Symbol(\"##z#282\")) => succ(Var(Symbol(\"##284\"))), Var(Symbol(\"##284\")) => succ(Var(Symbol(\"##286\"))), Var(Symbol(\"##283\")) => succ(Var(Symbol(\"##285\"))), Var(Symbol(\"##288\")) => succ(Var(Symbol(\"##290\"))), Var(Symbol(\"##292\")) => zero, Var(Symbol(\"##286\")) => succ(Var(Symbol(\"##288\")))]"
      ]
     },
     "execution_count": 11,
     "metadata": {},
     "output_type": "execute_result"
    }
   ],
   "source": [
    "run(5, (z -> pluso(:(succ(zero)), :zero, z))(Var(gensym(\"z\")))   )"
   ]
  },
  {
   "cell_type": "code",
   "execution_count": 21,
   "metadata": {},
   "outputs": [
    {
     "data": {
      "text/plain": [
       "nato (generic function with 1 method)"
      ]
     },
     "execution_count": 21,
     "metadata": {},
     "output_type": "execute_result"
    }
   ],
   "source": [
    "function nato(z)\n",
    "    (z ≅ :zero) ∨ (fresh( n -> (z ≅ :(succ($n))) ∧ @Zzz(nato(n)) ))\n",
    "end"
   ]
  },
  {
   "cell_type": "code",
   "execution_count": 24,
   "metadata": {},
   "outputs": [
    {
     "data": {
      "text/plain": [
       "5-element Array{PersistentHashMap{Any,Any},1}:\n",
       " Persistent{Any, Any}[Var(Symbol(\"##267\")) => zero]\n",
       " Persistent{Any, Any}[Var(Symbol(\"##267\")) => succ(Var(Symbol(\"##268\"))), Var(Symbol(\"##268\")) => zero]\n",
       " Persistent{Any, Any}[Var(Symbol(\"##267\")) => succ(Var(Symbol(\"##268\"))), Var(Symbol(\"##269\")) => zero, Var(Symbol(\"##268\")) => succ(Var(Symbol(\"##269\")))]\n",
       " Persistent{Any, Any}[Var(Symbol(\"##267\")) => succ(Var(Symbol(\"##268\"))), Var(Symbol(\"##269\")) => succ(Var(Symbol(\"##270\"))), Var(Symbol(\"##270\")) => zero, Var(Symbol(\"##268\")) => succ(Var(Symbol(\"##269\")))]\n",
       " Persistent{Any, Any}[Var(Symbol(\"##271\")) => zero, Var(Symbol(\"##267\")) => succ(Var(Symbol(\"##268\"))), Var(Symbol(\"##269\")) => succ(Var(Symbol(\"##270\"))), Var(Symbol(\"##270\")) => succ(Var(Symbol(\"##271\"))), Var(Symbol(\"##268\")) => succ(Var(Symbol(\"##269\")))]"
      ]
     },
     "execution_count": 24,
     "metadata": {},
     "output_type": "execute_result"
    }
   ],
   "source": [
    "run(5, fresh(q -> nato(q)))"
   ]
  },
  {
   "cell_type": "code",
   "execution_count": 67,
   "metadata": {},
   "outputs": [
    {
     "ename": "LoadError",
     "evalue": "UndefVarError: T not defined",
     "output_type": "error",
     "traceback": [
      "UndefVarError: T not defined",
      "",
      "Stacktrace:",
      " [1] top-level scope at In[67]:1",
      " [2] include_string(::Function, ::Module, ::String, ::String) at ./loading.jl:1091"
     ]
    }
   ],
   "source": [
    "isa((3,), Tuple{T})"
   ]
  },
  {
   "cell_type": "code",
   "execution_count": 29,
   "metadata": {},
   "outputs": [
    {
     "data": {
      "text/plain": [
       "twoo (generic function with 1 method)"
      ]
     },
     "execution_count": 29,
     "metadata": {},
     "output_type": "execute_result"
    }
   ],
   "source": [
    "function twoo(r)\n",
    "    (r ≅ :zero) ∨ @Zzz(r ≅ :(succ(zero))) #∨ (z ≅ :(succ(succ(zero))))\n",
    "end"
   ]
  },
  {
   "cell_type": "code",
   "execution_count": 28,
   "metadata": {},
   "outputs": [
    {
     "data": {
      "text/plain": [
       ":(r->begin\n",
       "          #= In[28]:1 =#\n",
       "          var\"#44#s\"->begin\n",
       "                  #= In[26]:89 =#\n",
       "                  ()->begin\n",
       "                          #= In[26]:89 =#\n",
       "                          Main.r(var\"#44#s\")\n",
       "                      end\n",
       "              end\n",
       "      end)"
      ]
     },
     "execution_count": 28,
     "metadata": {},
     "output_type": "execute_result"
    }
   ],
   "source": [
    "@macroexpand r -> @Zzz(r)"
   ]
  },
  {
   "cell_type": "code",
   "execution_count": 28,
   "metadata": {},
   "outputs": [
    {
     "data": {
      "text/plain": [
       "#56 (generic function with 1 method)"
      ]
     },
     "execution_count": 28,
     "metadata": {},
     "output_type": "execute_result"
    }
   ],
   "source": [
    "nato(:zero)\n",
    "#@code_llvm (:zero ≅ :zero)"
   ]
  },
  {
   "cell_type": "code",
   "execution_count": 31,
   "metadata": {},
   "outputs": [
    {
     "name": "stdout",
     "output_type": "stream",
     "text": [
      "hi!\n"
     ]
    },
    {
     "data": {
      "text/plain": [
       "#90 (generic function with 1 method)"
      ]
     },
     "execution_count": 31,
     "metadata": {},
     "output_type": "execute_result"
    }
   ],
   "source": [
    "g = begin\n",
    "    println(\"hi!\")\n",
    "    x -> @show x\n",
    "    end"
   ]
  },
  {
   "cell_type": "code",
   "execution_count": 39,
   "metadata": {},
   "outputs": [
    {
     "data": {
      "text/plain": [
       "#123 (generic function with 1 method)"
      ]
     },
     "execution_count": 39,
     "metadata": {},
     "output_type": "execute_result"
    }
   ],
   "source": [
    "\n",
    "macro Zzz(g)\n",
    "    return :(s -> () -> $(esc(g))(s))\n",
    "end\n",
    "ff = @Zzz( begin println(\"hey\"); x -> @show x end )\n",
    "ff33 = ff(33)\n",
    "ff33()"
   ]
  },
  {
   "cell_type": "code",
   "execution_count": null,
   "metadata": {},
   "outputs": [],
   "source": []
  },
  {
   "cell_type": "code",
   "execution_count": 16,
   "metadata": {},
   "outputs": [],
   "source": [
    "struct TakePull{I}\n",
    "    xs::I\n",
    "    n::Int\n",
    "    function TakePull(xs::I, n::Integer) where {I}\n",
    "        n < 0 && throw(ArgumentError(\"Take length must be nonnegative\"))\n",
    "        return new{I}(xs, n)\n",
    "    end\n",
    "end\n",
    "\n",
    "takepull(xs, n::Integer) = TakePull(xs, Int(n))\n",
    "takepull(xs::TakePull, n::Integer) = TakePull(xs.xs, min(Int(n), xs.n))\n",
    "\n",
    "\n",
    "length(t::TakePull) = _min_length(t.xs, 1:t.n, IteratorSize(t.xs), HasLength())\n",
    "\n",
    "function Base.iterate(it::TakePull, state=(it.n,))\n",
    "    n, rest = state[1], pull(Base.tail(state))\n",
    "    n <= 0 && return nothing\n",
    "    y = iterate(it.xs, rest...)\n",
    "    y === nothing && return nothing\n",
    "    return y[1], (n - 1, y[2])\n",
    "end\n"
   ]
  },
  {
   "cell_type": "code",
   "execution_count": 32,
   "metadata": {},
   "outputs": [
    {
     "data": {
      "text/plain": [
       "Base.Iterators.Flatten{Tuple{Tuple{PersistentHashMap{Any,Any}},Base.Iterators.Flatten{Tuple{var\"#76#79\"{PersistentHashMap{Any,Any}}}}}}(((PersistentHashMap{Any,Any}(Var(Symbol(\"##84926\")) => :zero),), Base.Iterators.Flatten{Tuple{var\"#76#79\"{PersistentHashMap{Any,Any}}}}((var\"#76#79\"{PersistentHashMap{Any,Any}}(PersistentHashMap{Any,Any}(Var(Symbol(\"##84926\")) => :(succ(Var(Symbol(\"##84927\")))))),))))"
      ]
     },
     "execution_count": 32,
     "metadata": {},
     "output_type": "execute_result"
    }
   ],
   "source": [
    "#run(fresh(z -> nato(z)))"
   ]
  },
  {
   "cell_type": "code",
   "execution_count": 30,
   "metadata": {},
   "outputs": [
    {
     "data": {
      "text/plain": [
       "2-element Array{PersistentHashMap{Any,Any},1}:\n",
       " Persistent{Any, Any}[Var(Symbol(\"##298\")) => zero]\n",
       " Persistent{Any, Any}[Var(Symbol(\"##298\")) => succ(zero)]"
      ]
     },
     "execution_count": 30,
     "metadata": {},
     "output_type": "execute_result"
    }
   ],
   "source": [
    "run(5, fresh(q -> twoo(q)))"
   ]
  },
  {
   "cell_type": "code",
   "execution_count": 24,
   "metadata": {},
   "outputs": [
    {
     "data": {
      "text/plain": [
       "1-element Array{Any,1}:\n",
       " Persistent{Any, Any}[Var(Symbol(\"##294\")) => succ(zero)]"
      ]
     },
     "execution_count": 24,
     "metadata": {},
     "output_type": "execute_result"
    }
   ],
   "source": [
    "run(5, fresh(z -> @Zzz(:(succ(succ(zero))) ≅ :(succ($z)))))"
   ]
  },
  {
   "cell_type": "code",
   "execution_count": 13,
   "metadata": {},
   "outputs": [
    {
     "data": {
      "text/plain": [
       "1-element Array{Any,1}:\n",
       " Persistent{Any, Any}[]"
      ]
     },
     "execution_count": 13,
     "metadata": {},
     "output_type": "execute_result"
    }
   ],
   "source": [
    "collect(Iterators.take(@Zzz(:zero ≅ :zero)(@Persistent Dict()), 1))"
   ]
  },
  {
   "cell_type": "markdown",
   "metadata": {},
   "source": [
    "\n",
    "\n",
    "Iterator.product ~ bind?\n",
    "vcat ~ mplus\n",
    "\n",
    "\n",
    "http://webyrd.net/scheme-2013/papers/HemannMuKanren2013.pdf\n",
    "\n",
    "\n",
    "\n",
    "\n",
    "async might be a nice way to implement this stuff\n",
    "\n",
    "\n",
    "Interleave is the first way of being more fair\n",
    "\n"
   ]
  },
  {
   "cell_type": "markdown",
   "metadata": {},
   "source": []
  },
  {
   "cell_type": "code",
   "execution_count": null,
   "metadata": {},
   "outputs": [],
   "source": [
    "struct InterLeave{A,B}\n",
    "    m::A\n",
    "    n::B\n",
    "    which::Bool \n",
    "    \n",
    "end\n",
    "\n",
    "function iterate( x::Interleave{A,B}) = \n",
    "   x.which = !x.which\n",
    "   if x.which\n",
    "     return iterate(x.m) \n",
    "   else\n",
    "     return iterate(x.n)\n",
    "    \n",
    "function iterate(x::Chain) \n",
    "    if x.done\n",
    "       return iterate(n)\n",
    "            end\n",
    "            return iterate(n)\n",
    "end\n",
    "\n",
    "\n",
    "struct Thunk\n",
    "    m\n",
    "end\n",
    "        \n",
    "flatten is join\n",
    "        [x] is return\n",
    "        \n",
    "        \n",
    "        \n"
   ]
  },
  {
   "cell_type": "code",
   "execution_count": 24,
   "metadata": {},
   "outputs": [
    {
     "name": "stdout",
     "output_type": "stream",
     "text": [
      "hi"
     ]
    },
    {
     "data": {
      "text/plain": [
       "Task (done) @0x00007fd5ec290010"
      ]
     },
     "execution_count": 24,
     "metadata": {},
     "output_type": "execute_result"
    }
   ],
   "source": [
    "t = Task(() -> print(\"hi\"))\n",
    "schedule(t)"
   ]
  },
  {
   "cell_type": "code",
   "execution_count": 22,
   "metadata": {},
   "outputs": [
    {
     "name": "stdout",
     "output_type": "stream",
     "text": [
      "3"
     ]
    }
   ],
   "source": [
    "for x in [3]\n",
    "    print(x)\n",
    "end"
   ]
  },
  {
   "cell_type": "code",
   "execution_count": 21,
   "metadata": {},
   "outputs": [
    {
     "ename": "LoadError",
     "evalue": "MethodError: no method matching tail(::Array{Int64,1})\nClosest candidates are:\n  tail(!Matched::EmptyList) at /home/philip/.julia/packages/FunctionalCollections/1e7f3/src/PersistentList.jl:23\n  tail(!Matched::PersistentList) at /home/philip/.julia/packages/FunctionalCollections/1e7f3/src/PersistentList.jl:25",
     "output_type": "error",
     "traceback": [
      "MethodError: no method matching tail(::Array{Int64,1})\nClosest candidates are:\n  tail(!Matched::EmptyList) at /home/philip/.julia/packages/FunctionalCollections/1e7f3/src/PersistentList.jl:23\n  tail(!Matched::PersistentList) at /home/philip/.julia/packages/FunctionalCollections/1e7f3/src/PersistentList.jl:25",
      "",
      "Stacktrace:",
      " [1] top-level scope at In[21]:1",
      " [2] include_string(::Function, ::Module, ::String, ::String) at ./loading.jl:1091"
     ]
    }
   ],
   "source": [
    "tail([1,2,3,4])"
   ]
  },
  {
   "cell_type": "code",
   "execution_count": null,
   "metadata": {},
   "outputs": [],
   "source": [
    "function interleave(m,n)\n",
    "    \n",
    "end"
   ]
  },
  {
   "cell_type": "code",
   "execution_count": 3,
   "metadata": {},
   "outputs": [
    {
     "ename": "LoadError",
     "evalue": "syntax: incomplete: premature end of input",
     "output_type": "error",
     "traceback": [
      "syntax: incomplete: premature end of input",
      "",
      "Stacktrace:",
      " [1] top-level scope at In[3]:1",
      " [2] include_string(::Function, ::Module, ::String, ::String) at ./loading.jl:1091"
     ]
    }
   ],
   "source": [
    "for i in 1:3\n",
    "\n",
    "end"
   ]
  },
  {
   "cell_type": "code",
   "execution_count": 5,
   "metadata": {},
   "outputs": [
    {
     "name": "stdout",
     "output_type": "stream",
     "text": [
      "Expr\n",
      "  head: Symbol call\n",
      "  args: Array{Any}((3,))\n",
      "    1: Symbol f\n",
      "    2: Int64 3\n",
      "    3: Int64 4\n"
     ]
    }
   ],
   "source": [
    "dump(  :( f(3,4) ) )"
   ]
  },
  {
   "cell_type": "code",
   "execution_count": 7,
   "metadata": {},
   "outputs": [
    {
     "data": {
      "text/plain": [
       "walk (generic function with 1 method)"
      ]
     },
     "execution_count": 7,
     "metadata": {},
     "output_type": "execute_result"
    }
   ],
   "source": [
    "function walk(u,s) # ImmutableDict is linked list\n",
    "    if is_var(u)\n",
    "        if haskey(s,u)\n",
    "            pr = get(s,u)\n",
    "            return walk(pr,s)\n",
    "        end\n",
    "    end\n",
    "    return u\n",
    "end"
   ]
  },
  {
   "cell_type": "code",
   "execution_count": null,
   "metadata": {},
   "outputs": [],
   "source": []
  },
  {
   "cell_type": "code",
   "execution_count": null,
   "metadata": {},
   "outputs": [],
   "source": [
    "struct LogicState\n",
    "    subst::\n",
    "    counter::Int64\n",
    "end"
   ]
  },
  {
   "cell_type": "code",
   "execution_count": 25,
   "metadata": {},
   "outputs": [],
   "source": [
    "using FunctionalCollections\n",
    "name = @Persistent Dict(:first => \"Zach\", :last => \"Allaun\")\n",
    "fullname = assoc(name, :middle, \"Randall\") # assoc = ext-s\n",
    "dissoc(fullname, :middle)\n",
    "haskey(fullname,:last)"
   ]
  },
  {
   "cell_type": "code",
   "execution_count": null,
   "metadata": {},
   "outputs": [],
   "source": []
  },
  {
   "cell_type": "code",
   "execution_count": 28,
   "metadata": {},
   "outputs": [
    {
     "data": {
      "text/plain": [
       "Tuple{Int64}"
      ]
     },
     "execution_count": 28,
     "metadata": {},
     "output_type": "execute_result"
    }
   ],
   "source": [
    "typeof((3,))"
   ]
  },
  {
   "cell_type": "code",
   "execution_count": 31,
   "metadata": {},
   "outputs": [],
   "source": [
    "for x in () # you can iterate over unit which is Tuple{}\n",
    "    print(\"hi\")\n",
    "end"
   ]
  },
  {
   "cell_type": "code",
   "execution_count": 35,
   "metadata": {},
   "outputs": [
    {
     "data": {
      "text/plain": [
       "Symbol"
      ]
     },
     "execution_count": 35,
     "metadata": {},
     "output_type": "execute_result"
    }
   ],
   "source": [
    "typeof(:call)"
   ]
  },
  {
   "cell_type": "code",
   "execution_count": 36,
   "metadata": {},
   "outputs": [
    {
     "ename": "LoadError",
     "evalue": "syntax: \"function\" at In[36]:2 expected \"end\", got \"else\"",
     "output_type": "error",
     "traceback": [
      "syntax: \"function\" at In[36]:2 expected \"end\", got \"else\"",
      "",
      "Stacktrace:",
      " [1] top-level scope at In[36]:13",
      " [2] include_string(::Function, ::Module, ::String, ::String) at ./loading.jl:1091"
     ]
    }
   ],
   "source": [
    "\n",
    "\n",
    "\n",
    "\n",
    "#=\n",
    "isa(x,Var)\n",
    "\n",
    "function unify(u,v,s)\n",
    "   u = walk(s,u)\n",
    "   v = walk(s,v)\n",
    "   if isvar(u) && isvar(v) && u == v\n",
    "      s\n",
    "   end\n",
    "  elseif isvar(u)\n",
    "      assoc(s,u,v)\n",
    "  end\n",
    "  elseif isvar(v)\n",
    "      assoc(s,v,u)\n",
    "  end\n",
    "  elseif \n",
    "      \n",
    "    \n",
    "elseif u == v\n",
    "   return s\n",
    "end\n",
    "else\n",
    "  return nothing\n",
    "end\n",
    "\n",
    "end\n",
    "=#\n"
   ]
  },
  {
   "cell_type": "code",
   "execution_count": 1,
   "metadata": {},
   "outputs": [],
   "source": [
    "struct Var # so I don't need autohash equals?\n",
    "    x::Symbol # or should this be a gensym symbol?\n",
    "end"
   ]
  },
  {
   "cell_type": "code",
   "execution_count": 5,
   "metadata": {},
   "outputs": [
    {
     "data": {
      "text/plain": [
       "walk (generic function with 1 method)"
      ]
     },
     "execution_count": 5,
     "metadata": {},
     "output_type": "execute_result"
    }
   ],
   "source": [
    "function walk(s,u) # ImmutableDict is linked list? Pretty generic actually.\n",
    "    while isa(u,Var) && haskey(s,u)\n",
    "            u = get(s,u)\n",
    "    end\n",
    "    return u\n",
    "end\n",
    "\n",
    "# ext-s = assoc(s,x,v)\n",
    "\n"
   ]
  },
  {
   "cell_type": "code",
   "execution_count": 19,
   "metadata": {},
   "outputs": [
    {
     "data": {
      "text/plain": [
       "eqwal (generic function with 1 method)"
      ]
     },
     "execution_count": 19,
     "metadata": {},
     "output_type": "execute_result"
    }
   ],
   "source": [
    "eqwal(u,v) = s -> begin\n",
    "     s = unify(u,v,s)\n",
    "     (s == nothing) ? () : (s,)\n",
    "end"
   ]
  },
  {
   "cell_type": "code",
   "execution_count": 45,
   "metadata": {},
   "outputs": [
    {
     "data": {
      "text/plain": [
       "unify (generic function with 5 methods)"
      ]
     },
     "execution_count": 45,
     "metadata": {},
     "output_type": "execute_result"
    }
   ],
   "source": [
    "function unify(u::Expr, v::Expr, s)\n",
    "    @assert u.head === :call && v.head === :call  # not supporting arbitrary expressions. Only nested function calls basically.\n",
    "    if u.args[1] === v.args[1] #heads match\n",
    "        for (u,v) in zip( u.args[2:end] , v.args[2:end] ) \n",
    "            s = unify(u,v,s)\n",
    "            if s === nothing # early break\n",
    "                return nothing\n",
    "            end\n",
    "        end\n",
    "        return s\n",
    "        #[  unify(u,v,s)  for (u,v) in zip( u.args[2:end] , v.args[2:end] ) ]\n",
    "    else\n",
    "        return nothing # return nothing is\n",
    "    end\n",
    "end\n",
    "\n",
    "\n",
    "\n",
    "unify(x::Var,y::Var,s) = (x === y) ? s : assoc(s, x, y)\n",
    "\n",
    "unify(x::Var,y,s) = assoc(s, x, y)\n",
    "unify(x,y::Var,s) = assoc(s, y, x)\n",
    "\n",
    "# default case. Symbol, integer, string. Is this a bad idea to leave this open?\n",
    "unify(x,y,s) = (x === y) ? s : nothing"
   ]
  },
  {
   "cell_type": "code",
   "execution_count": 64,
   "metadata": {},
   "outputs": [
    {
     "name": "stdout",
     "output_type": "stream",
     "text": [
      "  5.711 ns (0 allocations: 0 bytes)\n"
     ]
    },
    {
     "data": {
      "text/plain": [
       "false"
      ]
     },
     "execution_count": 64,
     "metadata": {},
     "output_type": "execute_result"
    }
   ],
   "source": [
    "using BenchmarkTools # === is faster?\n",
    "x = Var(gensym())\n",
    "y = Var(gensym())\n",
    "@btime x === y"
   ]
  },
  {
   "cell_type": "code",
   "execution_count": 70,
   "metadata": {},
   "outputs": [
    {
     "name": "stdout",
     "output_type": "stream",
     "text": [
      "  4.027 ns (0 allocations: 0 bytes)\n"
     ]
    },
    {
     "data": {
      "text/plain": [
       "true"
      ]
     },
     "execution_count": 70,
     "metadata": {},
     "output_type": "execute_result"
    }
   ],
   "source": [
    "\n",
    "x = :call\n",
    "y = :call\n",
    "@btime x === y"
   ]
  },
  {
   "cell_type": "code",
   "execution_count": 71,
   "metadata": {},
   "outputs": [
    {
     "name": "stdout",
     "output_type": "stream",
     "text": [
      "\n",
      ";  @ operators.jl:83 within `=='\n",
      "define i8 @\"julia_==_3534\"(%jl_value_t* nonnull, %jl_value_t* nonnull) {\n",
      "top:\n",
      "  %2 = icmp eq %jl_value_t* %0, %1\n",
      "  %3 = zext i1 %2 to i8\n",
      "  ret i8 %3\n",
      "}\n"
     ]
    }
   ],
   "source": [
    "@code_llvm x == y"
   ]
  },
  {
   "cell_type": "code",
   "execution_count": 76,
   "metadata": {},
   "outputs": [
    {
     "name": "stdout",
     "output_type": "stream",
     "text": [
      "\t.text\n",
      "; ┌ @ In[76]:1 within `#105'\n",
      "\tcmpq\t%rsi, %rdi\n",
      "\tsete\t%al\n",
      "\tretq\n",
      "\tnopw\t(%rax,%rax)\n",
      "; └\n"
     ]
    }
   ],
   "source": [
    "@code_native ((x,y) -> x === y)(x,y)"
   ]
  },
  {
   "cell_type": "code",
   "execution_count": 77,
   "metadata": {},
   "outputs": [
    {
     "name": "stdout",
     "output_type": "stream",
     "text": [
      "\t.text\n",
      "; ┌ @ In[77]:1 within `#107'\n",
      "; │┌ @ operators.jl:83 within `=='\n",
      "\tcmpq\t%rsi, %rdi\n",
      "\tsete\t%al\n",
      "; │└\n",
      "\tretq\n",
      "\tnopw\t(%rax,%rax)\n",
      "; └\n"
     ]
    }
   ],
   "source": [
    "@code_native ((x,y) -> x == y)(x,y)"
   ]
  },
  {
   "cell_type": "code",
   "execution_count": 50,
   "metadata": {},
   "outputs": [
    {
     "name": "stdout",
     "output_type": "stream",
     "text": [
      "Expr\n",
      "  head: Symbol vect\n",
      "  args: Array{Any}((3,))\n",
      "    1: Int64 1\n",
      "    2: Int64 3\n",
      "    3: Int64 4\n"
     ]
    },
    {
     "ename": "LoadError",
     "evalue": "MethodError: no method matching iterate(::Expr)\nClosest candidates are:\n  iterate(!Matched::Base.RegexMatchIterator) at regex.jl:552\n  iterate(!Matched::Base.RegexMatchIterator, !Matched::Any) at regex.jl:552\n  iterate(!Matched::LibGit2.GitBranchIter) at /buildworker/worker/package_linux64/build/usr/share/julia/stdlib/v1.5/LibGit2/src/reference.jl:343\n  ...",
     "output_type": "error",
     "traceback": [
      "MethodError: no method matching iterate(::Expr)\nClosest candidates are:\n  iterate(!Matched::Base.RegexMatchIterator) at regex.jl:552\n  iterate(!Matched::Base.RegexMatchIterator, !Matched::Any) at regex.jl:552\n  iterate(!Matched::LibGit2.GitBranchIter) at /buildworker/worker/package_linux64/build/usr/share/julia/stdlib/v1.5/LibGit2/src/reference.jl:343\n  ...",
      "",
      "Stacktrace:",
      " [1] top-level scope at In[50]:3",
      " [2] include_string(::Function, ::Module, ::String, ::String) at ./loading.jl:1091"
     ]
    }
   ],
   "source": [
    "dump(:([  1, 3,4])) # maybe we want to support this?\n",
    "# or maybe anything iterable? Ehhh, I dunno\n",
    "\n",
    "for i in :(f(1,2,3))\n",
    "    print(i)\n",
    "end"
   ]
  },
  {
   "cell_type": "markdown",
   "metadata": {},
   "source": [
    "note\n",
    "mzero = ()\n",
    "unit(x) = (x,)"
   ]
  },
  {
   "cell_type": "code",
   "execution_count": 4,
   "metadata": {},
   "outputs": [
    {
     "data": {
      "text/plain": [
       "callfresh (generic function with 1 method)"
      ]
     },
     "execution_count": 4,
     "metadata": {},
     "output_type": "execute_result"
    }
   ],
   "source": [
    "#callfresh(f) = s -> f(Var(gensym()))(s)\n",
    "callfresh(f) = f(Var(gensym())) # eta expansion. Is this just as good? we've changed valuation order. De thunked. Uh no we haven't. f returns a thunk function\n"
   ]
  },
  {
   "cell_type": "code",
   "execution_count": 16,
   "metadata": {},
   "outputs": [
    {
     "data": {
      "text/plain": [
       "conj (generic function with 1 method)"
      ]
     },
     "execution_count": 16,
     "metadata": {},
     "output_type": "execute_result"
    }
   ],
   "source": [
    "disj(g1,g2) = s -> Iterators.flatten(  (g1(s)  , g2(s)) ) # conctenate them\n",
    "#conj(g1,g2) = s -> Iterators.flatten( map( s1 -> g2(s1) ,  g1(s) )) # bind = \"flatmap\". flatten ~ join\n",
    "conj(g1,g2) = s -> Iterators.flatten( map( g2 ,  g1(s) )) # eta expansion"
   ]
  },
  {
   "cell_type": "code",
   "execution_count": null,
   "metadata": {},
   "outputs": [],
   "source": [
    "struct Interleave{I}\n",
    "    it::I\n",
    "end\n",
    "\n",
    "interleave(x,y) = Interleave \n",
    "\n",
    "@propagate_inbounds function iterate(f::Flatten, state=())\n",
    "    if state !== () #\n",
    "        y = iterate(tail(state)...)\n",
    "        y !== nothing && return (y[1], (state[1], state[2], y[2]))\n",
    "    end\n",
    "    x = (state === () ? iterate(f.it) : iterate(f.it, state[1]))\n",
    "    x === nothing && return nothing\n",
    "    y = iterate(x[1])\n",
    "    while y === nothing\n",
    "         x = iterate(f.it, x[2])\n",
    "         x === nothing && return nothing\n",
    "         y = iterate(x[1])\n",
    "    end\n",
    "    return y[1], (x[2], x[1], y[2])\n",
    "end\n"
   ]
  },
  {
   "cell_type": "code",
   "execution_count": null,
   "metadata": {},
   "outputs": [],
   "source": [
    "@enum InterleaveState = Arun, A, B, Adone, Bdone\n",
    "\n",
    "struct Interleave{I1,I2}\n",
    "    a::I1\n",
    "    b::I2\n",
    "end\n",
    "\n",
    "interleave(x,y) = Interleave(x,y)\n",
    "\n",
    "function iterate( f::Interleave, state=())\n",
    "    if state === ()\n",
    "        x = iterate(f.a)\n",
    "        if x === nothing\n",
    "            x = iterate(f.b)\n",
    "            if x === nothing\n",
    "                return nothing\n",
    "            else\n",
    "                return x[1], (Adone, x[2])\n",
    "        end\n",
    "        return x, (Arun, xstate) \n",
    "    elseif state[1] == Arun\n",
    "        x = iterate(f.b)\n",
    "        if x === nothing\n",
    "            x = iterate(f.a)\n",
    "            if x === nothing\n",
    "                return nothing\n",
    "            else\n",
    "                return x[1], (Bdone, x[2])   \n",
    "            \n",
    "        end\n",
    "        return x[1], (A, state[2], x[2])\n",
    "    elseif state[1] == A\n",
    "        \n",
    "    \n",
    "end\n",
    "\n"
   ]
  },
  {
   "cell_type": "code",
   "execution_count": 54,
   "metadata": {},
   "outputs": [
    {
     "data": {
      "text/html": [
       "# 2 methods for generic function <b>tail</b>:<ul><li> tail(::<b>EmptyList</b>) in FunctionalCollections at <a href=\"file:///home/philip/.julia/packages/FunctionalCollections/1e7f3/src/PersistentList.jl\" target=\"_blank\">/home/philip/.julia/packages/FunctionalCollections/1e7f3/src/PersistentList.jl:23</a></li> <li> tail(l::<b>PersistentList</b>) in FunctionalCollections at <a href=\"file:///home/philip/.julia/packages/FunctionalCollections/1e7f3/src/PersistentList.jl\" target=\"_blank\">/home/philip/.julia/packages/FunctionalCollections/1e7f3/src/PersistentList.jl:25</a></li> </ul>"
      ],
      "text/plain": [
       "# 2 methods for generic function \"tail\":\n",
       "[1] tail(::EmptyList) in FunctionalCollections at /home/philip/.julia/packages/FunctionalCollections/1e7f3/src/PersistentList.jl:23\n",
       "[2] tail(l::PersistentList) in FunctionalCollections at /home/philip/.julia/packages/FunctionalCollections/1e7f3/src/PersistentList.jl:25"
      ]
     },
     "execution_count": 54,
     "metadata": {},
     "output_type": "execute_result"
    }
   ],
   "source": [
    "methods(tail)"
   ]
  },
  {
   "cell_type": "code",
   "execution_count": 36,
   "metadata": {},
   "outputs": [
    {
     "data": {
      "text/plain": [
       "run (generic function with 2 methods)"
      ]
     },
     "execution_count": 36,
     "metadata": {},
     "output_type": "execute_result"
    }
   ],
   "source": [
    "using FunctionalCollections\n",
    "run(c) = c( @Persistent Dict() )\n",
    "run(n::Int64, c) = collect(Iterators.take(c( @Persistent Dict() ), n))"
   ]
  },
  {
   "cell_type": "code",
   "execution_count": 40,
   "metadata": {},
   "outputs": [
    {
     "data": {
      "text/plain": [
       "2-element Array{PersistentHashMap{Any,Any},1}:\n",
       " Persistent{Any, Any}[]\n",
       " Persistent{Any, Any}[Var(Symbol(\"##282\")) => Var(Symbol(\"##283\"))]"
      ]
     },
     "execution_count": 40,
     "metadata": {},
     "output_type": "execute_result"
    }
   ],
   "source": [
    "run(2,callfresh( x -> callfresh(y -> disj(eqwal(x,x), eqwal(x,y)) )))"
   ]
  },
  {
   "cell_type": "code",
   "execution_count": 43,
   "metadata": {},
   "outputs": [
    {
     "data": {
      "text/plain": [
       "1-element Array{PersistentHashMap{Any,Any},1}:\n",
       " Persistent{Any, Any}[Var(Symbol(\"##288\")) => Var(Symbol(\"##289\"))]"
      ]
     },
     "execution_count": 43,
     "metadata": {},
     "output_type": "execute_result"
    }
   ],
   "source": [
    "run(2,callfresh( x -> \n",
    "      callfresh( y ->     \n",
    "            eqwal( :(f($x, $x)) , :(f($y, $x)) ) \n",
    "            )))"
   ]
  },
  {
   "cell_type": "code",
   "execution_count": 141,
   "metadata": {},
   "outputs": [
    {
     "data": {
      "text/plain": [
       "conde (generic function with 1 method)"
      ]
     },
     "execution_count": 141,
     "metadata": {},
     "output_type": "execute_result"
    }
   ],
   "source": [
    "function Zzz(g) # does this have to be a macro? Is there a benefit?\n",
    "    s -> () -> g(s)\n",
    "end\n",
    "\n",
    "conjplus(g) = Zzz(g)\n",
    "conjplus(g0,gs...) = conj2(Zzz(g0), conjplus(gs...))\n",
    "\n",
    "disjplus(g) = Zzz(g)\n",
    "disjplus(g0,gs...) = disj2(Zzz(g0), disjplus(gs...))\n",
    "\n",
    "\n",
    "conde(clauses) = disjplus(map(conjplus, clauses))\n",
    "\n",
    "#ok fresh does need to be a macro?\n",
    "#fresh( ) = \n",
    "\n",
    "# fresh(x,y,z, eqwal(x,y)   )\n",
    "\n"
   ]
  },
  {
   "cell_type": "code",
   "execution_count": 129,
   "metadata": {},
   "outputs": [
    {
     "data": {
      "text/plain": [
       "freshn (generic function with 2 methods)"
      ]
     },
     "execution_count": 129,
     "metadata": {},
     "output_type": "execute_result"
    }
   ],
   "source": [
    "fresh(f) = f(Var(gensym()))\n",
    "fresh2(f) = f(Var(gensym()), Var(gensym()))\n",
    "fresh3(f) = f(Var(gensym()), Var(gensym()), Var(gensym()))\n",
    "freshn(n, f) = f([Var(gensym()) for i in 1:n ]...) # fishy lookin. Not so obvious the evaluation order here.\n",
    "# freshstar(f) = f([Var(gensym()) for i in  ]...) # I'm not sure this is possible or desirable. Splat might be eager"
   ]
  },
  {
   "cell_type": "code",
   "execution_count": 121,
   "metadata": {},
   "outputs": [
    {
     "ename": "LoadError",
     "evalue": "MethodError: no method matching (::var\"#137#138\")(::Var, ::Var, ::Var, ::Var, ::Var)\nClosest candidates are:\n  #137(::Any, ::Any, ::Any, ::Any) at In[121]:1",
     "output_type": "error",
     "traceback": [
      "MethodError: no method matching (::var\"#137#138\")(::Var, ::Var, ::Var, ::Var, ::Var)\nClosest candidates are:\n  #137(::Any, ::Any, ::Any, ::Any) at In[121]:1",
      "",
      "Stacktrace:",
      " [1] freshn(::Int64, ::Function) at ./In[117]:3",
      " [2] top-level scope at In[121]:1",
      " [3] include_string(::Function, ::Module, ::String, ::String) at ./loading.jl:1091"
     ]
    }
   ],
   "source": [
    "run(freshn(5, (x,y,z,w) -> x ≅ y))"
   ]
  },
  {
   "cell_type": "code",
   "execution_count": 126,
   "metadata": {},
   "outputs": [
    {
     "data": {
      "text/plain": [
       "10-element Array{Var,1}:\n",
       " Var(Symbol(\"##424\"))\n",
       " Var(Symbol(\"##424\"))\n",
       " Var(Symbol(\"##424\"))\n",
       " Var(Symbol(\"##424\"))\n",
       " Var(Symbol(\"##424\"))\n",
       " Var(Symbol(\"##424\"))\n",
       " Var(Symbol(\"##424\"))\n",
       " Var(Symbol(\"##424\"))\n",
       " Var(Symbol(\"##424\"))\n",
       " Var(Symbol(\"##424\"))"
      ]
     },
     "execution_count": 126,
     "metadata": {},
     "output_type": "execute_result"
    }
   ],
   "source": [
    "collect(Iterators.take(Iterators.repeated(Var(gensym())),10))"
   ]
  },
  {
   "cell_type": "code",
   "execution_count": 128,
   "metadata": {},
   "outputs": [
    {
     "data": {
      "text/plain": [
       "3-element Array{Var,1}:\n",
       " Var(Symbol(\"##425\"))\n",
       " Var(Symbol(\"##426\"))\n",
       " Var(Symbol(\"##427\"))"
      ]
     },
     "execution_count": 128,
     "metadata": {},
     "output_type": "execute_result"
    }
   ],
   "source": [
    "[Var(gensym()) for i in 1:3 ]"
   ]
  },
  {
   "cell_type": "code",
   "execution_count": 107,
   "metadata": {},
   "outputs": [
    {
     "data": {
      "text/plain": [
       "@fresh (macro with 1 method)"
      ]
     },
     "execution_count": 107,
     "metadata": {},
     "output_type": "execute_result"
    }
   ],
   "source": [
    "# macro is only marginally better\n",
    "\n",
    "macro fresh(x,e)\n",
    "    println(x)\n",
    "    println(e)\n",
    "    return Expr(:call, [:callfresh, Expr(:->, x, e )])\n",
    "end"
   ]
  },
  {
   "cell_type": "code",
   "execution_count": 108,
   "metadata": {},
   "outputs": [
    {
     "name": "stdout",
     "output_type": "stream",
     "text": [
      "x\n",
      "x ≅ x\n"
     ]
    },
    {
     "data": {
      "text/plain": [
       ":((Any[:callfresh, :(x->x ≅ x)])())"
      ]
     },
     "execution_count": 108,
     "metadata": {},
     "output_type": "execute_result"
    }
   ],
   "source": [
    "@macroexpand @fresh(x, x ≅ x)"
   ]
  },
  {
   "cell_type": "markdown",
   "metadata": {},
   "source": [
    "More sophisticatede search control\n",
    "\n",
    "We may want some kind of heuristic or beam strategy put in there.\n",
    "To do so we'd want to inspect the stream state.\n",
    "\n",
    "\n",
    "\n",
    "There is thunking of goals and streams. Goals are stream transformers.\n",
    "\n",
    "\n",
    "\n",
    "\n"
   ]
  },
  {
   "cell_type": "code",
   "execution_count": 98,
   "metadata": {},
   "outputs": [
    {
     "name": "stdout",
     "output_type": "stream",
     "text": [
      "Expr\n",
      "  head: Symbol block\n",
      "  args: Array{Any}((2,))\n",
      "    1: LineNumberNode\n",
      "      line: Int64 1\n",
      "      file: Symbol In[98]\n",
      "    2: Expr\n",
      "      head: Symbol ->\n",
      "      args: Array{Any}((2,))\n",
      "        1: Symbol x\n",
      "        2: Expr\n",
      "          head: Symbol block\n",
      "          args: Array{Any}((2,))\n",
      "            1: LineNumberNode\n",
      "              line: Int64 1\n",
      "              file: Symbol In[98]\n",
      "            2: Symbol z\n"
     ]
    }
   ],
   "source": [
    "dump(quote (x -> z) end)"
   ]
  },
  {
   "cell_type": "code",
   "execution_count": 79,
   "metadata": {},
   "outputs": [
    {
     "data": {
      "text/html": [
       "# built-in function; no methods<ul></ul>"
      ],
      "text/plain": [
       "# built-in function; no methods"
      ]
     },
     "execution_count": 79,
     "metadata": {},
     "output_type": "execute_result"
    }
   ],
   "source": [
    "methods(≡)"
   ]
  },
  {
   "cell_type": "code",
   "execution_count": 80,
   "metadata": {},
   "outputs": [
    {
     "data": {
      "text/plain": [
       "false"
      ]
     },
     "execution_count": 80,
     "metadata": {},
     "output_type": "execute_result"
    }
   ],
   "source": [
    "3 ≡ 4"
   ]
  },
  {
   "cell_type": "code",
   "execution_count": 88,
   "metadata": {},
   "outputs": [
    {
     "ename": "LoadError",
     "evalue": "UndefVarError: ≅ not defined",
     "output_type": "error",
     "traceback": [
      "UndefVarError: ≅ not defined",
      "",
      "Stacktrace:",
      " [1] top-level scope at In[88]:2",
      " [2] include_string(::Function, ::Module, ::String, ::String) at ./loading.jl:1091"
     ]
    }
   ],
   "source": [
    "#methods(Π) \n",
    "methods(≅) # \\cong"
   ]
  },
  {
   "cell_type": "code",
   "execution_count": 89,
   "metadata": {},
   "outputs": [
    {
     "data": {
      "text/plain": [
       "eqwal (generic function with 1 method)"
      ]
     },
     "execution_count": 89,
     "metadata": {},
     "output_type": "execute_result"
    }
   ],
   "source": [
    "∧ = conj # \\wedge\n",
    "∨ = disj # \\vee\n",
    "≅ = eqwal"
   ]
  },
  {
   "cell_type": "code",
   "execution_count": 143,
   "metadata": {},
   "outputs": [
    {
     "data": {
      "text/plain": [
       "typo (generic function with 1 method)"
      ]
     },
     "execution_count": 143,
     "metadata": {},
     "output_type": "execute_result"
    }
   ],
   "source": [
    "function typo(f,t)\n",
    "disjplus([ # fresh( a ->   (f ≅ :id) ∧ (t ≅ :(hom($a,$a)))),\n",
    "           (f ≅ :f) ∧ (t ≅ :(hom(a,c)))\n",
    "        ])\n",
    "end"
   ]
  },
  {
   "cell_type": "code",
   "execution_count": 144,
   "metadata": {},
   "outputs": [
    {
     "data": {
      "text/plain": [
       "#156 (generic function with 1 method)"
      ]
     },
     "execution_count": 144,
     "metadata": {},
     "output_type": "execute_result"
    }
   ],
   "source": [
    "run(fresh2(typo))"
   ]
  },
  {
   "cell_type": "code",
   "execution_count": 91,
   "metadata": {},
   "outputs": [
    {
     "data": {
      "text/plain": [
       "2-element Array{PersistentHashMap{Any,Any},1}:\n",
       " Persistent{Any, Any}[]\n",
       " Persistent{Any, Any}[Var(Symbol(\"##398\")) => Var(Symbol(\"##399\"))]"
      ]
     },
     "execution_count": 91,
     "metadata": {},
     "output_type": "execute_result"
    }
   ],
   "source": [
    "run(2,callfresh( x -> callfresh(y -> (x ≅ x) ∨ (x ≅ y) )))"
   ]
  },
  {
   "cell_type": "code",
   "execution_count": 94,
   "metadata": {},
   "outputs": [
    {
     "data": {
      "text/plain": [
       "(11, 12, 7)"
      ]
     },
     "execution_count": 94,
     "metadata": {},
     "output_type": "execute_result"
    }
   ],
   "source": [
    "Base.operator_precedence(:∨), Base.operator_precedence(:∧), Base.operator_precedence(:≅)"
   ]
  },
  {
   "cell_type": "code",
   "execution_count": 95,
   "metadata": {},
   "outputs": [
    {
     "data": {
      "text/plain": [
       "(:left, :left, :none)"
      ]
     },
     "execution_count": 95,
     "metadata": {},
     "output_type": "execute_result"
    }
   ],
   "source": [
    "Base.operator_associativity(:∨), Base.operator_associativity(:∧), Base.operator_associativity(:≅)"
   ]
  },
  {
   "cell_type": "code",
   "execution_count": 51,
   "metadata": {},
   "outputs": [
    {
     "data": {
      "text/plain": [
       "conj2 (generic function with 1 method)"
      ]
     },
     "execution_count": 51,
     "metadata": {},
     "output_type": "execute_result"
    }
   ],
   "source": [
    "disj2(g1,g2) = s -> Iterators.flatten(  (g1(s)  , g2(s)) ) # conctenate them\n",
    "disj2(g1::Function,g2) = () -> disj2(g2, g1()) # is thunking even necessary? iterators are already lazy. I think it kind of might be?\n",
    "#conj(g1,g2) = s -> Iterators.flatten( map( s1 -> g2(s1) ,  g1(s) )) # bind = \"flatmap\". flatten ~ join\n",
    "conj2(g1,g2) = s -> begin\n",
    "                    q = if isa(g1(s),Function)\n",
    "                    () -> conj2(q(), g2)\n",
    "                    else\n",
    "                    Iterators.flatten( map( g2 ,  q )) # eta expansion\n",
    "                    end"
   ]
  },
  {
   "cell_type": "code",
   "execution_count": 14,
   "metadata": {},
   "outputs": [
    {
     "data": {
      "text/plain": [
       "Base.Iterators.Flatten{Tuple{UnitRange{Int64},UnitRange{Int64}}}((1:4, 6:8))"
      ]
     },
     "execution_count": 14,
     "metadata": {},
     "output_type": "execute_result"
    }
   ],
   "source": [
    "Iterators.flatten((1:4, 6:8))"
   ]
  },
  {
   "cell_type": "code",
   "execution_count": 44,
   "metadata": {},
   "outputs": [
    {
     "name": "stdout",
     "output_type": "stream",
     "text": [
      "Expr\n",
      "  head: Symbol =\n",
      "  args: Array{Any}((2,))\n",
      "    1: Symbol x\n",
      "    2: Int64 3\n"
     ]
    }
   ],
   "source": [
    "dump(:(x = 3))"
   ]
  },
  {
   "cell_type": "code",
   "execution_count": 3,
   "metadata": {},
   "outputs": [
    {
     "data": {
      "text/plain": [
       "false"
      ]
     },
     "execution_count": 3,
     "metadata": {},
     "output_type": "execute_result"
    }
   ],
   "source": [
    "x = gensym()\n",
    "Var(x) == Var(gensym())"
   ]
  },
  {
   "cell_type": "code",
   "execution_count": null,
   "metadata": {},
   "outputs": [],
   "source": [
    "callfresh(f) = sc -> f(Var(sc.counter))(  LogicState(sc.subst, sc.counter + 1) )\n",
    "disj(g1,g2) = sc -> mplus(  g1(sc)  , g2(sc)  )\n",
    "conj(g1,g2) = sc -> bind( g1(sc) , g2 )"
   ]
  },
  {
   "cell_type": "code",
   "execution_count": null,
   "metadata": {},
   "outputs": [],
   "source": [
    "mplus(s1::Nothing, s2)\n",
    "mplus(s1::Task,s2) = @task mplus(schedule(s1), s2)\n",
    "mplus(s1::Function,s2) = mplus(s1(), s2)\n",
    "mplus(s1,s2) = chain(s1,s2)"
   ]
  },
  {
   "cell_type": "code",
   "execution_count": null,
   "metadata": {},
   "outputs": [],
   "source": [
    "struct Thunk # a tag on an iterator suggesting that we should hold off on calling next. Is this a defunctionalized thunk?\n",
    "    x\n",
    "end\n",
    "\n",
    "mplus(x::Thunk,y ) = mplus(x.x, y) \n"
   ]
  },
  {
   "cell_type": "code",
   "execution_count": 47,
   "metadata": {},
   "outputs": [
    {
     "data": {
      "text/plain": [
       "true"
      ]
     },
     "execution_count": 47,
     "metadata": {},
     "output_type": "execute_result"
    }
   ],
   "source": [
    "isa(x -> x, Function)"
   ]
  },
  {
   "cell_type": "code",
   "execution_count": null,
   "metadata": {},
   "outputs": [],
   "source": [
    "function eqwal(u,v)\n",
    "    ret = sc -> s = unify(u,v,sc)\n",
    "                if s != nothing\n",
    "                     return (( s, sc[2] ) , ) # single tuple as iterator? I think this should work better than []?\n",
    "        end \n",
    "    else\n",
    "        () # empty array as ampty iterator\n",
    "    end\n",
    "          \n",
    "\n",
    "end"
   ]
  },
  {
   "cell_type": "code",
   "execution_count": 51,
   "metadata": {},
   "outputs": [
    {
     "name": "stdout",
     "output_type": "stream",
     "text": [
      "Int64 3\n"
     ]
    }
   ],
   "source": [
    "dump(:(3))"
   ]
  },
  {
   "cell_type": "code",
   "execution_count": 41,
   "metadata": {},
   "outputs": [
    {
     "data": {
      "text/plain": [
       "Nothing"
      ]
     },
     "execution_count": 41,
     "metadata": {},
     "output_type": "execute_result"
    }
   ],
   "source": [
    "typeof(nothing)"
   ]
  },
  {
   "cell_type": "code",
   "execution_count": 53,
   "metadata": {},
   "outputs": [
    {
     "name": "stdout",
     "output_type": "stream",
     "text": [
      "Expr\n",
      "  head: Symbol call\n",
      "  args: Array{Any}((4,))\n",
      "    1: Symbol f\n",
      "    2: Int64 3\n",
      "    3: String \"340\"\n",
      "    4: Expr\n",
      "      head: Symbol call\n",
      "      args: Array{Any}((2,))\n",
      "        1: Symbol Var\n",
      "        2: Int64 3\n"
     ]
    }
   ],
   "source": [
    "dump(:(f(3,\"340\", Var(3))))"
   ]
  },
  {
   "cell_type": "code",
   "execution_count": 40,
   "metadata": {},
   "outputs": [
    {
     "name": "stdout",
     "output_type": "stream",
     "text": [
      "Expr\n",
      "  head: Symbol call\n",
      "  args: Array{Any}((2,))\n",
      "    1: Symbol f\n",
      "    2: Expr\n",
      "      head: Symbol call\n",
      "      args: Array{Any}((2,))\n",
      "        1: Symbol Var\n",
      "        2: Int64 3\n"
     ]
    }
   ],
   "source": [
    "dump(:(f(Var(3))))"
   ]
  },
  {
   "cell_type": "code",
   "execution_count": 33,
   "metadata": {},
   "outputs": [
    {
     "data": {
      "text/plain": [
       "7-element Array{Int64,1}:\n",
       "  1\n",
       "  4\n",
       "  9\n",
       " 16\n",
       " 25\n",
       " 36\n",
       " 49"
      ]
     },
     "execution_count": 33,
     "metadata": {},
     "output_type": "execute_result"
    }
   ],
   "source": [
    "map(x->x*x, 1:7)"
   ]
  },
  {
   "cell_type": "code",
   "execution_count": 32,
   "metadata": {},
   "outputs": [
    {
     "ename": "LoadError",
     "evalue": "UndefVarError: ispositive not defined",
     "output_type": "error",
     "traceback": [
      "UndefVarError: ispositive not defined",
      "",
      "Stacktrace:",
      " [1] top-level scope at In[32]:1",
      " [2] include_string(::Function, ::Module, ::String, ::String) at ./loading.jl:1091"
     ]
    }
   ],
   "source": []
  },
  {
   "cell_type": "code",
   "execution_count": 17,
   "metadata": {},
   "outputs": [
    {
     "ename": "LoadError",
     "evalue": "UndefVarError: hd not defined",
     "output_type": "error",
     "traceback": [
      "UndefVarError: hd not defined",
      "",
      "Stacktrace:",
      " [1] top-level scope at In[17]:1",
      " [2] include_string(::Function, ::Module, ::String, ::String) at ./loading.jl:1091"
     ]
    }
   ],
   "source": [
    "hd(1:3)"
   ]
  },
  {
   "cell_type": "code",
   "execution_count": 19,
   "metadata": {},
   "outputs": [
    {
     "ename": "LoadError",
     "evalue": "TypeError: non-boolean (Nothing) used in boolean context",
     "output_type": "error",
     "traceback": [
      "TypeError: non-boolean (Nothing) used in boolean context",
      "",
      "Stacktrace:",
      " [1] top-level scope at In[19]:1",
      " [2] include_string(::Function, ::Module, ::String, ::String) at ./loading.jl:1091"
     ]
    }
   ],
   "source": [
    "if nothing \n",
    "    print(\"foo\")\n",
    "end"
   ]
  },
  {
   "cell_type": "code",
   "execution_count": 20,
   "metadata": {},
   "outputs": [
    {
     "data": {
      "text/plain": [
       "(1, 2)"
      ]
     },
     "execution_count": 20,
     "metadata": {},
     "output_type": "execute_result"
    }
   ],
   "source": [
    "(1,2)"
   ]
  },
  {
   "cell_type": "code",
   "execution_count": null,
   "metadata": {},
   "outputs": [],
   "source": []
  }
 ],
 "metadata": {
  "kernelspec": {
   "display_name": "Julia 1.5.0",
   "language": "julia",
   "name": "julia-1.5"
  },
  "language_info": {
   "file_extension": ".jl",
   "mimetype": "application/julia",
   "name": "julia",
   "version": "1.5.0"
  }
 },
 "nbformat": 4,
 "nbformat_minor": 4
}
