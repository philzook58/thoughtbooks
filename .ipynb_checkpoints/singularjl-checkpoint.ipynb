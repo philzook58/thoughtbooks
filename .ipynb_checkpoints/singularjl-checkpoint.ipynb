{
 "cells": [
  {
   "cell_type": "code",
   "execution_count": 7,
   "metadata": {},
   "outputs": [],
   "source": [
    "using Singular\n",
    "#using Revise\n",
    "import Nemo"
   ]
  },
  {
   "cell_type": "code",
   "execution_count": 8,
   "metadata": {},
   "outputs": [
    {
     "data": {
      "text/plain": [
       "Complex Field with 64 bits of precision and error bounds"
      ]
     },
     "execution_count": 8,
     "metadata": {},
     "output_type": "execute_result"
    }
   ],
   "source": [
    "CC = Nemo.ComplexField(64)"
   ]
  },
  {
   "cell_type": "code",
   "execution_count": 15,
   "metadata": {},
   "outputs": [
    {
     "data": {
      "text/plain": [
       "0 + i*1.0000000000000000000"
      ]
     },
     "execution_count": 15,
     "metadata": {},
     "output_type": "execute_result"
    }
   ],
   "source": [
    "i = onei(CC)\n",
    "s*i"
   ]
  },
  {
   "cell_type": "code",
   "execution_count": 33,
   "metadata": {},
   "outputs": [
    {
     "data": {
      "text/plain": [
       "Singular Module over Singular Polynomial Ring (Coeffs(19)),(s),(dp(1),C), with Generators:\n",
       "0"
      ]
     },
     "execution_count": 33,
     "metadata": {},
     "output_type": "execute_result"
    }
   ],
   "source": [
    " P, (s,) = PolynomialRing(CC, [\"s\"])\n",
    "\n",
    "v1 = vector(P, s + 1, s*s + 1, s)\n",
    "v2 = vector(P, s^2 + 1, 2s + 3s, s)\n",
    "\n",
    "M = Singular.Module(P, v1, v2)\n",
    "G = std(M; complete_reduction=true)\n",
    "\n",
    "mysyz = syz(M)"
   ]
  },
  {
   "cell_type": "code",
   "execution_count": 37,
   "metadata": {},
   "outputs": [
    {
     "ename": "MethodError",
     "evalue": "MethodError: no method matching Singular.MatrixSpace(::Singular.PolyRing{Singular.n_unknown{acb}}, ::Int64, ::Int64)",
     "output_type": "error",
     "traceback": [
      "MethodError: no method matching Singular.MatrixSpace(::Singular.PolyRing{Singular.n_unknown{acb}}, ::Int64, ::Int64)",
      "",
      "Stacktrace:",
      " [1] top-level scope at In[37]:1"
     ]
    }
   ],
   "source": [
    "Singular.MatrixSpace(P,3,3)"
   ]
  },
  {
   "cell_type": "code",
   "execution_count": 29,
   "metadata": {},
   "outputs": [
    {
     "data": {
      "text/plain": [
       "s*gen(3)+s*gen(2)+s*gen(1)+gen(3)"
      ]
     },
     "execution_count": 29,
     "metadata": {},
     "output_type": "execute_result"
    }
   ],
   "source": [
    "vector(P, [s, s, 1 + s]...)"
   ]
  },
  {
   "cell_type": "code",
   "execution_count": 38,
   "metadata": {},
   "outputs": [
    {
     "ename": "MethodError",
     "evalue": "MethodError: no method matching vector(::Singular.PolyRing{Singular.n_unknown{acb}}, ::Int64, ::Int64, ::Int64, ::Int64)\nClosest candidates are:\n  vector(::Singular.PolyRing{T}, !Matched::spoly{T}...) where T<:RingElem at /home/philip/.julia/packages/Singular/GGfzi/src/module/vector.jl:229",
     "output_type": "error",
     "traceback": [
      "MethodError: no method matching vector(::Singular.PolyRing{Singular.n_unknown{acb}}, ::Int64, ::Int64, ::Int64, ::Int64)\nClosest candidates are:\n  vector(::Singular.PolyRing{T}, !Matched::spoly{T}...) where T<:RingElem at /home/philip/.julia/packages/Singular/GGfzi/src/module/vector.jl:229",
      "",
      "Stacktrace:",
      " [1] top-level scope at In[38]:1"
     ]
    }
   ],
   "source": [
    "v1 = vector(P, 1, 0, 0, 0)\n",
    "i1 = vector(P, 0, 1, 0 ,0)\n",
    "v2 = vector(P, 0, 0, 1, 0)\n",
    "i2 = vector(P, 0, 0, 0 ,1)\n",
    "\n",
    "\n"
   ]
  },
  {
   "cell_type": "code",
   "execution_count": 47,
   "metadata": {},
   "outputs": [
    {
     "data": {
      "text/plain": [
       "(0 + i*10.000000000000000000)*s*gen(3)+(-1.0000000000000000000 + i*0)*gen(4)+gen(2)"
      ]
     },
     "execution_count": 47,
     "metadata": {},
     "output_type": "execute_result"
    }
   ],
   "source": [
    "M = Singular.FreeModule(P, 4)\n",
    "v1 = M([P(1), P(0), P(0),P(0)])\n",
    "i1 = M([P(0), P(1), P(0),P(0)])\n",
    "v2 = M([P(0), P(0), P(1),P(0)])\n",
    "i2 = M([P(0), P(0), P(0),P(1)])\n",
    "\n",
    "e1 = (v1 - v2) + 10 * i1 # current through resistor\n",
    "e2 = 10i * s * v2 +  (i1 - i2)  # current conservation + capacitor.\n"
   ]
  },
  {
   "cell_type": "code",
   "execution_count": 53,
   "metadata": {},
   "outputs": [
    {
     "data": {
      "text/plain": [
       "(0 + i*10.000000000000000000)*s*gen(3)+(-1.0000000000000000000 + i*0)*gen(4)+gen(2)"
      ]
     },
     "execution_count": 53,
     "metadata": {},
     "output_type": "execute_result"
    }
   ],
   "source": [
    "v1,i1,v2,i2 = gens(M)\n",
    "e1 = (v1 - v2) + 10 * i1 # current through resistor\n",
    "e2 = 10i * s * v2 +  (i1 - i2)  # current conservation + capacitor."
   ]
  },
  {
   "cell_type": "code",
   "execution_count": 54,
   "metadata": {},
   "outputs": [
    {
     "data": {
      "text/plain": [
       "Singular Module over Singular Polynomial Ring (Coeffs(19)),(s),(dp(1),C), with Generators:\n",
       "(-1.0000000000000000000 + i*0)*gen(3)+(10.000000000000000000 + i*0)*gen(2)+gen(1)\n",
       "(0 + i*10.000000000000000000)*s*gen(3)+(-1.0000000000000000000 + i*0)*gen(4)+gen(2)"
      ]
     },
     "execution_count": 54,
     "metadata": {},
     "output_type": "execute_result"
    }
   ],
   "source": [
    "Singular.Module(P,e1,e2)"
   ]
  },
  {
   "cell_type": "code",
   "execution_count": 46,
   "metadata": {},
   "outputs": [
    {
     "data": {
      "text/plain": [
       "s"
      ]
     },
     "execution_count": 46,
     "metadata": {},
     "output_type": "execute_result"
    }
   ],
   "source": [
    "P(s) # so i should just map P over everything to be safe"
   ]
  },
  {
   "cell_type": "code",
   "execution_count": null,
   "metadata": {},
   "outputs": [],
   "source": []
  },
  {
   "cell_type": "code",
   "execution_count": 31,
   "metadata": {},
   "outputs": [
    {
     "data": {
      "text/plain": [
       "Singular Module over Singular Polynomial Ring (Coeffs(19)),(s),(dp(1),C), with Generators:\n",
       "s^2*gen(2)+s*gen(3)+s*gen(1)+gen(2)+gen(1)\n",
       "s^2*gen(1)+s*gen(3)+(5.0000000000000000000 + i*0)*s*gen(2)+gen(1)"
      ]
     },
     "execution_count": 31,
     "metadata": {},
     "output_type": "execute_result"
    }
   ],
   "source": [
    "M\n",
    "M = FreeModule(R, 3)\n",
    "v2 = M([x + 1, x*y + 1, y])\n",
    "V = Array(v1)"
   ]
  },
  {
   "cell_type": "code",
   "execution_count": 23,
   "metadata": {},
   "outputs": [
    {
     "data": {
      "text/plain": [
       "s^2*gen(1)+s*gen(3)+(5.0000000000000000000 + i*0)*s*gen(2)+gen(1)"
      ]
     },
     "execution_count": 23,
     "metadata": {},
     "output_type": "execute_result"
    }
   ],
   "source": [
    "M[2] # ok I have access to the inidivudal boys"
   ]
  },
  {
   "cell_type": "code",
   "execution_count": 19,
   "metadata": {},
   "outputs": [
    {
     "data": {
      "text/plain": [
       "Singular Module over Singular Polynomial Ring (QQ),(s),(dp(1),C), with Generators:\n",
       "0"
      ]
     },
     "execution_count": 19,
     "metadata": {},
     "output_type": "execute_result"
    }
   ],
   "source": [
    "R, (s,) = PolynomialRing(QQ, [\"s\"])\n",
    "\n",
    "v1 = vector(R, s + 1, s*s + 1, s)\n",
    "v2 = vector(R, s^2 + 1, 2s + 3s, s)\n",
    "\n",
    "M = Singular.Module(R, v1, v2)\n",
    "\n",
    "G = std(M; complete_reduction=true)\n",
    "\n",
    "mysyz = syz(M)"
   ]
  },
  {
   "cell_type": "code",
   "execution_count": null,
   "metadata": {},
   "outputs": [],
   "source": []
  },
  {
   "cell_type": "code",
   "execution_count": 5,
   "metadata": {},
   "outputs": [],
   "source": [
    "struct BIzboy\n",
    "   ins\n",
    "   outs\n",
    "end\n",
    "\n",
    "\n",
    "\n",
    "\n"
   ]
  },
  {
   "cell_type": "markdown",
   "metadata": {},
   "source": [
    "\n",
    "i0 * R = v2 - v1\n",
    "\n",
    "jC  \n",
    "\n",
    "ok here's an immediate glitch. I don't see ocmplex numbers in singular\n",
    "\n",
    "maybe I can access it via nemo, but nemo already has smith normnal form?\n",
    "\n",
    "v1    v2     v3"
   ]
  },
  {
   "cell_type": "code",
   "execution_count": 6,
   "metadata": {},
   "outputs": [
    {
     "name": "stderr",
     "output_type": "stream",
     "text": [
      "WARNING: replacing module Experiment.\n"
     ]
    },
    {
     "data": {
      "text/plain": [
       "Main.Experiment"
      ]
     },
     "execution_count": 6,
     "metadata": {},
     "output_type": "execute_result"
    }
   ],
   "source": [
    "module Experiment\n",
    "    struct Foo\n",
    "            bar :: Int\n",
    "    end\n",
    "end"
   ]
  },
  {
   "cell_type": "code",
   "execution_count": 8,
   "metadata": {},
   "outputs": [
    {
     "data": {
      "text/plain": [
       "Main.Experiment.Foo(3)"
      ]
     },
     "execution_count": 8,
     "metadata": {},
     "output_type": "execute_result"
    }
   ],
   "source": [
    "Experiment.Foo(3)"
   ]
  },
  {
   "cell_type": "code",
   "execution_count": 7,
   "metadata": {},
   "outputs": [
    {
     "data": {
      "text/plain": [
       "(Singular Polynomial Ring (QQ),(x,y),(dp(2),C), spoly{n_Q}[x, y])"
      ]
     },
     "execution_count": 7,
     "metadata": {},
     "output_type": "execute_result"
    }
   ],
   "source": [
    "R, (x, y) = PolynomialRing(QQ, [\"x\", \"y\"])"
   ]
  },
  {
   "cell_type": "code",
   "execution_count": 11,
   "metadata": {},
   "outputs": [
    {
     "data": {
      "text/plain": [
       "x^2+1"
      ]
     },
     "execution_count": 11,
     "metadata": {},
     "output_type": "execute_result"
    }
   ],
   "source": [
    "x^2 + 1"
   ]
  },
  {
   "cell_type": "code",
   "execution_count": 14,
   "metadata": {},
   "outputs": [
    {
     "data": {
      "text/plain": [
       "Singular Ideal over Singular Polynomial Ring (QQ),(x,y),(dp(2),C) with generators (x^2+1, x*y+1)"
      ]
     },
     "execution_count": 14,
     "metadata": {},
     "output_type": "execute_result"
    }
   ],
   "source": [
    "I = Ideal(R, x^2 +1, x*y + 1)"
   ]
  },
  {
   "cell_type": "code",
   "execution_count": 22,
   "metadata": {},
   "outputs": [
    {
     "data": {
      "text/plain": [
       "Singular Module over Singular Polynomial Ring (QQ),(x,y),(dp(2),C), with Generators:\n",
       "-y^2*gen(1)+x*gen(2)-y*gen(2)-gen(1)"
      ]
     },
     "execution_count": 22,
     "metadata": {},
     "output_type": "execute_result"
    }
   ],
   "source": [
    "G = std(I)\n",
    "Z = syz(G)\n",
    "F = fres(G,0)\n",
    "F[1]\n",
    "F[2]\n"
   ]
  },
  {
   "cell_type": "code",
   "execution_count": 23,
   "metadata": {},
   "outputs": [
    {
     "data": {
      "text/plain": [
       "Singular Polynomial Ring (ZZ),(x1,x2,x3,x4,x5),(Dp(5),C)"
      ]
     },
     "execution_count": 23,
     "metadata": {},
     "output_type": "execute_result"
    }
   ],
   "source": [
    "S = @PolynomialRing(ZZ, \"x\", 5, :deglex) # make a 5 variable polynomial"
   ]
  },
  {
   "cell_type": "code",
   "execution_count": 37,
   "metadata": {},
   "outputs": [
    {
     "name": "stdout",
     "output_type": "stream",
     "text": [
      "Singular Module over Singular Polynomial Ring (QQ),(x,y),(dp(2),C), with Generators:\n",
      "x^2*y*gen(2)-y^2*gen(1)+2*y*gen(2)+gen(2)-gen(1)\n",
      "[0]\n",
      "[-y^2-1\n",
      "x^2*y+2*y+1]\n"
     ]
    }
   ],
   "source": [
    "R, (x, y) = PolynomialRing(QQ, [\"x\", \"y\"])\n",
    "\n",
    "I = Ideal(R, x^2*y + 2y + 1, y^2 + 1)\n",
    "\n",
    "F = syz(I)\n",
    "\n",
    "M = Singular.Matrix(I)\n",
    "N = Singular.Matrix(F)\n",
    "println(F)\n",
    "println(M * N)\n",
    "println(N)"
   ]
  },
  {
   "cell_type": "code",
   "execution_count": 4,
   "metadata": {},
   "outputs": [
    {
     "data": {
      "text/plain": [
       "(Singular Polynomial Ring (QQ),(s),(dp(1),C), spoly{n_Q}[s])"
      ]
     },
     "execution_count": 4,
     "metadata": {},
     "output_type": "execute_result"
    }
   ],
   "source": [
    "R, (s,) = PolynomialRing(QQ, [\"s\"])"
   ]
  },
  {
   "cell_type": "code",
   "execution_count": 6,
   "metadata": {},
   "outputs": [
    {
     "ename": "MethodError",
     "evalue": "MethodError: no method matching +(::Array{spoly{n_Q},1}, ::Int64)\nClosest candidates are:\n  +(::Any, ::Any, !Matched::Any, !Matched::Any...) at operators.jl:529\n  +(!Matched::Complex{Bool}, ::Real) at complex.jl:297\n  +(!Matched::Missing, ::Number) at missing.jl:115\n  ...",
     "output_type": "error",
     "traceback": [
      "MethodError: no method matching +(::Array{spoly{n_Q},1}, ::Int64)\nClosest candidates are:\n  +(::Any, ::Any, !Matched::Any, !Matched::Any...) at operators.jl:529\n  +(!Matched::Complex{Bool}, ::Real) at complex.jl:297\n  +(!Matched::Missing, ::Number) at missing.jl:115\n  ...",
      "",
      "Stacktrace:",
      " [1] top-level scope at In[6]:1"
     ]
    }
   ],
   "source": [
    "x + 1"
   ]
  },
  {
   "cell_type": "code",
   "execution_count": 9,
   "metadata": {},
   "outputs": [
    {
     "data": {
      "text/plain": [
       "3"
      ]
     },
     "execution_count": 9,
     "metadata": {},
     "output_type": "execute_result"
    }
   ],
   "source": [
    "R, (x, y) = PolynomialRing(QQ, [\"x\", \"y\"])\n",
    "\n",
    "v1 = vector(R, x + 1, x*y + 1, y)\n",
    "v2 = vector(R, x^2 + 1, 2x + 3y, x)\n",
    "\n",
    "M = Singular.Module(R, v1, v2)\n",
    "rank(M)"
   ]
  },
  {
   "cell_type": "code",
   "execution_count": 10,
   "metadata": {},
   "outputs": [
    {
     "data": {
      "text/plain": [
       "Singular Module over Singular Polynomial Ring (QQ),(x,y),(dp(2),C), with Generators:\n",
       "x*y*gen(2)+x*gen(1)+y*gen(3)+gen(2)+gen(1)\n",
       "x^2*gen(1)+x*gen(3)+2*x*gen(2)+3*y*gen(2)+gen(1)"
      ]
     },
     "execution_count": 10,
     "metadata": {},
     "output_type": "execute_result"
    }
   ],
   "source": [
    "M"
   ]
  },
  {
   "cell_type": "code",
   "execution_count": 12,
   "metadata": {},
   "outputs": [
    {
     "ename": "MethodError",
     "evalue": "MethodError: no method matching fieldnames(::smodule{spoly{n_Q}})\nClosest candidates are:\n  fieldnames(!Matched::Core.TypeofBottom) at reflection.jl:175\n  fieldnames(!Matched::Type{#s8} where #s8<:Tuple) at reflection.jl:177\n  fieldnames(!Matched::DataType) at reflection.jl:172\n  ...",
     "output_type": "error",
     "traceback": [
      "MethodError: no method matching fieldnames(::smodule{spoly{n_Q}})\nClosest candidates are:\n  fieldnames(!Matched::Core.TypeofBottom) at reflection.jl:175\n  fieldnames(!Matched::Type{#s8} where #s8<:Tuple) at reflection.jl:177\n  fieldnames(!Matched::DataType) at reflection.jl:172\n  ...",
      "",
      "Stacktrace:",
      " [1] top-level scope at In[12]:1"
     ]
    }
   ],
   "source": [
    "fieldnames(M)"
   ]
  },
  {
   "cell_type": "code",
   "execution_count": null,
   "metadata": {},
   "outputs": [],
   "source": []
  }
 ],
 "metadata": {
  "kernelspec": {
   "display_name": "Julia 1.4.1",
   "language": "julia",
   "name": "julia-1.4"
  },
  "language_info": {
   "file_extension": ".jl",
   "mimetype": "application/julia",
   "name": "julia",
   "version": "1.4.1"
  }
 },
 "nbformat": 4,
 "nbformat_minor": 4
}
