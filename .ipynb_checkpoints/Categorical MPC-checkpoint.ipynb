{
 "cells": [
  {
   "cell_type": "code",
   "execution_count": 4,
   "metadata": {},
   "outputs": [],
   "source": [
    "import cvxpy as cvx\n",
    "import matplotlib.pyplot as plt\n",
    "# See Rockefeller cahpter what have you\n",
    "# in haskell these would be effectful lens a -> m (b, b -> m a)\n",
    "class ConvexCat():\n",
    "    def __init__(self,res):\n",
    "        self.res = res\n",
    "    def idd(n):\n",
    "        def res():\n",
    "            x = cvx.Variable(n)\n",
    "            return x, x, 0, []\n",
    "        return ConvexCat(res)\n",
    "    def par(f,g):\n",
    "        def res():\n",
    "            x,y,o1, c1 = f()\n",
    "            z,w,o2, c2 = g()\n",
    "            return cvx.hstack((x,z)) , cvx.hstack((y,w)), o1 + o2, c1 + c2\n",
    "        return ConvexCat(res)\n",
    "    def compose(f,g):\n",
    "        def res():\n",
    "            x,y,o1, c1 = f()\n",
    "            y1,z,o2, c2 = g()\n",
    "            return x , z, o1 + o2, c1 + c2 + [y == y1]\n",
    "        return ConvexCat(res)\n",
    "    def dup(n):\n",
    "        def res():\n",
    "           x = cvx.Variable(n)\n",
    "           return x, cvx.vstack(x,x) , 0, []\n",
    "        return ConvexCat(res)\n",
    "    def __call__(self):\n",
    "        return self.res()\n",
    "    def run(self):\n",
    "        x, y, o, c = self.res()\n",
    "        prob = cvx.Problem(cvx.Minimize(o),c)\n",
    "        sol = prob.solve()\n",
    "        return sol, x, y, o\n",
    "    def __matmul__(self,g):\n",
    "        return self.compose(g)\n",
    "    def __mul__(self,g):\n",
    "        return self.par(g)\n",
    "    def const(v):\n",
    "        def res():\n",
    "            x = cvx.Variable(1) # hmm. cvxpy doesn't like 0d variables. That's too bad\n",
    "            return x, v, 0 , []\n",
    "        return ConvexCat(res)\n",
    "    def converse(f):\n",
    "        def res():\n",
    "            a,b,o,c = f()\n",
    "            return b, a, o, c\n",
    "        return ConvexCat(res)\n",
    "    def add(n):\n",
    "        def res():\n",
    "            x = cvx.Variable(n)\n",
    "            return x, cvx.sum(x), 0, []\n",
    "        return ConvexCat(res)\n",
    "    def smul(s,n):\n",
    "        def res():\n",
    "            x = cvx.Variable(n)\n",
    "            return x, s * x, 0, []\n",
    "        return ConvexCat(res)\n",
    "    def pos(n):\n",
    "        def res():\n",
    "            x = cvx.Variable(n, positive=True)\n",
    "            return x, x, 0 , []\n",
    "        return ConvexCat(res)\n",
    "        \n",
    "\n",
    "         \n",
    "    \n",
    "    "
   ]
  },
  {
   "cell_type": "code",
   "execution_count": 9,
   "metadata": {},
   "outputs": [
    {
     "data": {
      "text/plain": [
       "[<matplotlib.lines.Line2D at 0x119288910>]"
      ]
     },
     "execution_count": 9,
     "metadata": {},
     "output_type": "execute_result"
    },
    {
     "data": {
      "image/png": "[encoded data removed]",
      "text/plain": [
       "<Figure size 432x288 with 1 Axes>"
      ]
     },
     "metadata": {
      "needs_background": "light"
     },
     "output_type": "display_data"
    }
   ],
   "source": [
    "CC = ConvexCat\n",
    "idd = CC.idd\n",
    "f = CC.const(1) @ (idd(5) * idd(6))\n",
    "sol, x, y, o = f.run()\n",
    "\n",
    "\n",
    "def pend_step_res():\n",
    "    dt = 0.1\n",
    "    x = cvx.Variable(3)\n",
    "    xnext = cvx.Variable(3)\n",
    "    \n",
    "    pos = x[0]\n",
    "    vel = x[1]\n",
    "    f = x[2]\n",
    "    posnext = xnext[0]\n",
    "    velnext = xnext[1]\n",
    "    fnext = xnext[2]\n",
    "    c = []\n",
    "    c += [posnext == pos + vel*dt] # position update\n",
    "    c += [velnext == vel + (-pos + f )* dt] # velocity update\n",
    "    c += [-1 <= f, f <= 1] # force constraint\n",
    "    c += [-1 <= fnext, fnext <= 1]\n",
    "    c += [-1 <= posnext,   posnext <= 1] # safety constraint\n",
    "    c += [-1 <= pos, pos <= 1]\n",
    "    obj = pos**2 + posnext**2 + 0.1 * f**2\n",
    "    return x, xnext, obj,  c\n",
    "\n",
    "pend_step = ConvexCat(pend_step_res)\n",
    "\n",
    "pos = 0.5\n",
    "vel = 0\n",
    "poss = []\n",
    "vels = []\n",
    "dt = 0.1\n",
    "for j in range(30):\n",
    "   acc = CC.idd(3)\n",
    "   for i in range(2):\n",
    "      acc = acc @ pend_step\n",
    "   init = CC.const(pos) * CC.const(vel) * CC.idd(1) \n",
    "   prob = acc @ init\n",
    "   _, x ,_ ,_ = prob.run()\n",
    "   f = x.value[2]\n",
    "   print(f)\n",
    "   \n",
    "   # actually update the state \n",
    "   pos = pos + vel * dt\n",
    "   vel = vel + (-pos + f )* dt\n",
    "   poss.append(pos)\n",
    "   vels.append(vel)\n",
    "plt.plot(poss)\n",
    "plt.plot(vels)\n",
    "   \n",
    "   \n",
    "   "
   ]
  },
  {
   "cell_type": "code",
   "execution_count": 3,
   "metadata": {},
   "outputs": [
    {
     "ename": "IndentationError",
     "evalue": "unindent does not match any outer indentation level (<tokenize>, line 23)",
     "output_type": "error",
     "traceback": [
      "\u001b[0;36m  File \u001b[0;32m\"<tokenize>\"\u001b[0;36m, line \u001b[0;32m23\u001b[0m\n\u001b[0;31m    def update_costate():\u001b[0m\n\u001b[0m    ^\u001b[0m\n\u001b[0;31mIndentationError\u001b[0m\u001b[0;31m:\u001b[0m unindent does not match any outer indentation level\n"
     ]
    }
   ],
   "source": [
    "class ADMMCat():\n",
    "    def par(f,g):\n",
    "        actually_parallel(f,g):\n",
    "    def \n",
    "# Categorical Composition for \"Games\" via the Benders Decomposition\n",
    "# This is also convex-concave programming? Pretty sure what we're getting here is a heurisitc.\n",
    "class GameCat():\n",
    "    \n",
    "    a = cvx.Param(n) # previous move wil change during search process\n",
    "    aint = cvx.Varaible()\n",
    "    costate_constraint = aint == a\n",
    "    output_state = cvx.Variable()\n",
    "    output_costate = cvx.Param()\n",
    "        \n",
    "    #move = cvx.Variable()\n",
    "    costate = \n",
    "     def update(aval):\n",
    "         \n",
    "         a.value = aval\n",
    "         subproblem_different = True\n",
    "         while subproblem_different: # we could do this loop at the top.\n",
    "            prob.solve()\n",
    "        def update_costate():\n",
    "            subproblem_different , output_costate.value = next.update(output_state.value)\n",
    "        return next_state.value, update_costate\n",
    "         return constate_constraint.dual != old_costate_constraint.dual, constate_constraint.dual\n",
    "     costate.value = constraint.dual\n",
    "    return update\n",
    "    def compose(f,g):\n",
    "        def update(ain):\n",
    "            state, upcof = update(ain)\n",
    "            state2 , upcog = g(state)\n",
    "            def upcofg(dual):\n",
    "                dualg = upcog(dual)\n",
    "                dualf = upcof(dualf)\n",
    "                return dualf\n",
    "            return state2, upcofg\n",
    "         return update   "
   ]
  },
  {
   "cell_type": "code",
   "execution_count": null,
   "metadata": {},
   "outputs": [],
   "source": []
  }
 ],
 "metadata": {
  "@webio": {
   "lastCommId": null,
   "lastKernelId": null
  },
  "kernelspec": {
   "display_name": "Python 3",
   "language": "python",
   "name": "python3"
  },
  "language_info": {
   "codemirror_mode": {
    "name": "ipython",
    "version": 3
   },
   "file_extension": ".py",
   "mimetype": "text/x-python",
   "name": "python",
   "nbconvert_exporter": "python",
   "pygments_lexer": "ipython3",
   "version": "3.7.5"
  }
 },
 "nbformat": 4,
 "nbformat_minor": 2
}
