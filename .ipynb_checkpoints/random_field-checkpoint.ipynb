{
 "cells": [
  {
   "cell_type": "markdown",
   "metadata": {},
   "source": [
    "\n",
    "\n",
    "Statistiical ~ Quantum\n",
    "\n",
    "\n",
    "The wave propagating through a random media.\n",
    "Fogged glass.\n",
    "\n",
    "\n",
    "2d is nice and visualizable\n",
    "\n",
    "time domain vs frequency domain.\n",
    "\n",
    "What is the input: pure plane wave vs statistical\n",
    "\n",
    "\n",
    "What are we physically replicating:\n",
    "Electron waves vs \n",
    "\n",
    "Anyway. Q1: How to do PDEs in Julia\n",
    "\n",
    "https://discourse.julialang.org/t/how-to-start-partial-differential-equation-pde-solving-in-julia-for-modified-wave-equation/46555/6\n",
    "https://www.youtube.com/watch?v=okGybBmihOE&ab_channel=TheJuliaProgrammingLanguage\n",
    "Linear in time -> \\omega \n",
    "\n",
    "\n",
    "It might be fun to do the iterative thing\n",
    "Take a grid, schur out the end iteratively until converges.\n",
    "Or take self consistent equation\n",
    "Supriyo Datta\n",
    "\n",
    "https://physics.stackexchange.com/questions/287152/understanding-the-sommerfeld-radiation-condition\n",
    "somerfeld radiation condition\n",
    "\n",
    "Other possibility: only use the forward waves.\n",
    "BEM - This is a good point. I'd bet that the 2d strip prpbolem is solvable, probably even without discretization\n",
    "\n"
   ]
  },
  {
   "cell_type": "code",
   "execution_count": 4,
   "metadata": {},
   "outputs": [
    {
     "data": {
      "image/svg+xml": [
       "<?xml version=\"1.0\" encoding=\"utf-8\"?>\n",
       "<svg xmlns=\"http://www.w3.org/2000/svg\" xmlns:xlink=\"http://www.w3.org/1999/xlink\" width=\"600\" height=\"400\" viewBox=\"0 0 2400 1600\">\n",
       "<defs>\n",
       "  <clipPath id=\"clip2800\">\n",
       "    <rect x=\"0\" y=\"0\" width=\"2400\" height=\"1600\"/>\n",
       "  </clipPath>\n",
       "</defs>\n",
       "<path clip-path=\"url(#clip2800)\" d=\"\n",
       "M0 1600 L2400 1600 L2400 0 L0 0  Z\n",
       "  \" fill=\"#ffffff\" fill-rule=\"evenodd\" fill-opacity=\"1\"/>\n",
       "<defs>\n",
       "  <clipPath id=\"clip2801\">\n",
       "    <rect x=\"480\" y=\"0\" width=\"1681\" height=\"1600\"/>\n",
       "  </clipPath>\n",
       "</defs>\n",
       "<path clip-path=\"url(#clip2800)\" d=\"\n",
       "M162.455 1486.45 L2352.76 1486.45 L2352.76 47.2441 L162.455 47.2441  Z\n",
       "  \" fill=\"#ffffff\" fill-rule=\"evenodd\" fill-opacity=\"1\"/>\n",
       "<defs>\n",
       "  <clipPath id=\"clip2802\">\n",
       "    <rect x=\"162\" y=\"47\" width=\"2191\" height=\"1440\"/>\n",
       "  </clipPath>\n",
       "</defs>\n",
       "<polyline clip-path=\"url(#clip2802)\" style=\"stroke:#000000; stroke-width:2; stroke-opacity:0.1; fill:none\" points=\"\n",
       "  224.444,1486.45 224.444,47.2441 \n",
       "  \"/>\n",
       "<polyline clip-path=\"url(#clip2802)\" style=\"stroke:#000000; stroke-width:2; stroke-opacity:0.1; fill:none\" points=\"\n",
       "  741.025,1486.45 741.025,47.2441 \n",
       "  \"/>\n",
       "<polyline clip-path=\"url(#clip2802)\" style=\"stroke:#000000; stroke-width:2; stroke-opacity:0.1; fill:none\" points=\"\n",
       "  1257.61,1486.45 1257.61,47.2441 \n",
       "  \"/>\n",
       "<polyline clip-path=\"url(#clip2802)\" style=\"stroke:#000000; stroke-width:2; stroke-opacity:0.1; fill:none\" points=\"\n",
       "  1774.19,1486.45 1774.19,47.2441 \n",
       "  \"/>\n",
       "<polyline clip-path=\"url(#clip2802)\" style=\"stroke:#000000; stroke-width:2; stroke-opacity:0.1; fill:none\" points=\"\n",
       "  2290.77,1486.45 2290.77,47.2441 \n",
       "  \"/>\n",
       "<polyline clip-path=\"url(#clip2802)\" style=\"stroke:#000000; stroke-width:2; stroke-opacity:0.1; fill:none\" points=\"\n",
       "  162.455,1445.87 2352.76,1445.87 \n",
       "  \"/>\n",
       "<polyline clip-path=\"url(#clip2802)\" style=\"stroke:#000000; stroke-width:2; stroke-opacity:0.1; fill:none\" points=\"\n",
       "  162.455,1106.4 2352.76,1106.4 \n",
       "  \"/>\n",
       "<polyline clip-path=\"url(#clip2802)\" style=\"stroke:#000000; stroke-width:2; stroke-opacity:0.1; fill:none\" points=\"\n",
       "  162.455,766.924 2352.76,766.924 \n",
       "  \"/>\n",
       "<polyline clip-path=\"url(#clip2802)\" style=\"stroke:#000000; stroke-width:2; stroke-opacity:0.1; fill:none\" points=\"\n",
       "  162.455,427.45 2352.76,427.45 \n",
       "  \"/>\n",
       "<polyline clip-path=\"url(#clip2802)\" style=\"stroke:#000000; stroke-width:2; stroke-opacity:0.1; fill:none\" points=\"\n",
       "  162.455,87.9762 2352.76,87.9762 \n",
       "  \"/>\n",
       "<polyline clip-path=\"url(#clip2800)\" style=\"stroke:#000000; stroke-width:4; stroke-opacity:1; fill:none\" points=\"\n",
       "  162.455,1486.45 2352.76,1486.45 \n",
       "  \"/>\n",
       "<polyline clip-path=\"url(#clip2800)\" style=\"stroke:#000000; stroke-width:4; stroke-opacity:1; fill:none\" points=\"\n",
       "  162.455,1486.45 162.455,47.2441 \n",
       "  \"/>\n",
       "<polyline clip-path=\"url(#clip2800)\" style=\"stroke:#000000; stroke-width:4; stroke-opacity:1; fill:none\" points=\"\n",
       "  224.444,1486.45 224.444,1469.18 \n",
       "  \"/>\n",
       "<polyline clip-path=\"url(#clip2800)\" style=\"stroke:#000000; stroke-width:4; stroke-opacity:1; fill:none\" points=\"\n",
       "  741.025,1486.45 741.025,1469.18 \n",
       "  \"/>\n",
       "<polyline clip-path=\"url(#clip2800)\" style=\"stroke:#000000; stroke-width:4; stroke-opacity:1; fill:none\" points=\"\n",
       "  1257.61,1486.45 1257.61,1469.18 \n",
       "  \"/>\n",
       "<polyline clip-path=\"url(#clip2800)\" style=\"stroke:#000000; stroke-width:4; stroke-opacity:1; fill:none\" points=\"\n",
       "  1774.19,1486.45 1774.19,1469.18 \n",
       "  \"/>\n",
       "<polyline clip-path=\"url(#clip2800)\" style=\"stroke:#000000; stroke-width:4; stroke-opacity:1; fill:none\" points=\"\n",
       "  2290.77,1486.45 2290.77,1469.18 \n",
       "  \"/>\n",
       "<polyline clip-path=\"url(#clip2800)\" style=\"stroke:#000000; stroke-width:4; stroke-opacity:1; fill:none\" points=\"\n",
       "  162.455,1445.87 188.738,1445.87 \n",
       "  \"/>\n",
       "<polyline clip-path=\"url(#clip2800)\" style=\"stroke:#000000; stroke-width:4; stroke-opacity:1; fill:none\" points=\"\n",
       "  162.455,1106.4 188.738,1106.4 \n",
       "  \"/>\n",
       "<polyline clip-path=\"url(#clip2800)\" style=\"stroke:#000000; stroke-width:4; stroke-opacity:1; fill:none\" points=\"\n",
       "  162.455,766.924 188.738,766.924 \n",
       "  \"/>\n",
       "<polyline clip-path=\"url(#clip2800)\" style=\"stroke:#000000; stroke-width:4; stroke-opacity:1; fill:none\" points=\"\n",
       "  162.455,427.45 188.738,427.45 \n",
       "  \"/>\n",
       "<polyline clip-path=\"url(#clip2800)\" style=\"stroke:#000000; stroke-width:4; stroke-opacity:1; fill:none\" points=\"\n",
       "  162.455,87.9762 188.738,87.9762 \n",
       "  \"/>\n",
       "<path clip-path=\"url(#clip2800)\" d=\"M 0 0 M192.454 1508.44 Q188.843 1508.44 187.014 1512 Q185.208 1515.55 185.208 1522.67 Q185.208 1529.78 187.014 1533.35 Q188.843 1536.89 192.454 1536.89 Q196.088 1536.89 197.894 1533.35 Q199.722 1529.78 199.722 1522.67 Q199.722 1515.55 197.894 1512 Q196.088 1508.44 192.454 1508.44 M192.454 1504.73 Q198.264 1504.73 201.319 1509.34 Q204.398 1513.92 204.398 1522.67 Q204.398 1531.4 201.319 1536.01 Q198.264 1540.59 192.454 1540.59 Q186.644 1540.59 183.565 1536.01 Q180.509 1531.4 180.509 1522.67 Q180.509 1513.92 183.565 1509.34 Q186.644 1504.73 192.454 1504.73 Z\" fill=\"#000000\" fill-rule=\"evenodd\" fill-opacity=\"1\" /><path clip-path=\"url(#clip2800)\" d=\"M 0 0 M209.468 1534.04 L214.352 1534.04 L214.352 1539.92 L209.468 1539.92 L209.468 1534.04 Z\" fill=\"#000000\" fill-rule=\"evenodd\" fill-opacity=\"1\" /><path clip-path=\"url(#clip2800)\" d=\"M 0 0 M229.421 1508.44 Q225.81 1508.44 223.981 1512 Q222.176 1515.55 222.176 1522.67 Q222.176 1529.78 223.981 1533.35 Q225.81 1536.89 229.421 1536.89 Q233.055 1536.89 234.861 1533.35 Q236.69 1529.78 236.69 1522.67 Q236.69 1515.55 234.861 1512 Q233.055 1508.44 229.421 1508.44 M229.421 1504.73 Q235.231 1504.73 238.287 1509.34 Q241.366 1513.92 241.366 1522.67 Q241.366 1531.4 238.287 1536.01 Q235.231 1540.59 229.421 1540.59 Q223.611 1540.59 220.532 1536.01 Q217.477 1531.4 217.477 1522.67 Q217.477 1513.92 220.532 1509.34 Q223.611 1504.73 229.421 1504.73 Z\" fill=\"#000000\" fill-rule=\"evenodd\" fill-opacity=\"1\" /><path clip-path=\"url(#clip2800)\" d=\"M 0 0 M256.435 1508.44 Q252.824 1508.44 250.995 1512 Q249.19 1515.55 249.19 1522.67 Q249.19 1529.78 250.995 1533.35 Q252.824 1536.89 256.435 1536.89 Q260.069 1536.89 261.875 1533.35 Q263.703 1529.78 263.703 1522.67 Q263.703 1515.55 261.875 1512 Q260.069 1508.44 256.435 1508.44 M256.435 1504.73 Q262.245 1504.73 265.301 1509.34 Q268.379 1513.92 268.379 1522.67 Q268.379 1531.4 265.301 1536.01 Q262.245 1540.59 256.435 1540.59 Q250.625 1540.59 247.546 1536.01 Q244.491 1531.4 244.491 1522.67 Q244.491 1513.92 247.546 1509.34 Q250.625 1504.73 256.435 1504.73 Z\" fill=\"#000000\" fill-rule=\"evenodd\" fill-opacity=\"1\" /><path clip-path=\"url(#clip2800)\" d=\"M 0 0 M710.331 1508.44 Q706.719 1508.44 704.891 1512 Q703.085 1515.55 703.085 1522.67 Q703.085 1529.78 704.891 1533.35 Q706.719 1536.89 710.331 1536.89 Q713.965 1536.89 715.77 1533.35 Q717.599 1529.78 717.599 1522.67 Q717.599 1515.55 715.77 1512 Q713.965 1508.44 710.331 1508.44 M710.331 1504.73 Q716.141 1504.73 719.196 1509.34 Q722.275 1513.92 722.275 1522.67 Q722.275 1531.4 719.196 1536.01 Q716.141 1540.59 710.331 1540.59 Q704.52 1540.59 701.442 1536.01 Q698.386 1531.4 698.386 1522.67 Q698.386 1513.92 701.442 1509.34 Q704.52 1504.73 710.331 1504.73 Z\" fill=\"#000000\" fill-rule=\"evenodd\" fill-opacity=\"1\" /><path clip-path=\"url(#clip2800)\" d=\"M 0 0 M727.344 1534.04 L732.229 1534.04 L732.229 1539.92 L727.344 1539.92 L727.344 1534.04 Z\" fill=\"#000000\" fill-rule=\"evenodd\" fill-opacity=\"1\" /><path clip-path=\"url(#clip2800)\" d=\"M 0 0 M741.326 1535.98 L757.645 1535.98 L757.645 1539.92 L735.701 1539.92 L735.701 1535.98 Q738.363 1533.23 742.946 1528.6 Q747.553 1523.95 748.733 1522.61 Q750.978 1520.08 751.858 1518.35 Q752.761 1516.59 752.761 1514.9 Q752.761 1512.14 750.816 1510.41 Q748.895 1508.67 745.793 1508.67 Q743.594 1508.67 741.141 1509.43 Q738.71 1510.2 735.932 1511.75 L735.932 1507.03 Q738.756 1505.89 741.21 1505.31 Q743.664 1504.73 745.701 1504.73 Q751.071 1504.73 754.265 1507.42 Q757.46 1510.11 757.46 1514.6 Q757.46 1516.73 756.65 1518.65 Q755.863 1520.54 753.756 1523.14 Q753.178 1523.81 750.076 1527.03 Q746.974 1530.22 741.326 1535.98 Z\" fill=\"#000000\" fill-rule=\"evenodd\" fill-opacity=\"1\" /><path clip-path=\"url(#clip2800)\" d=\"M 0 0 M762.761 1505.36 L781.117 1505.36 L781.117 1509.3 L767.043 1509.3 L767.043 1517.77 Q768.062 1517.42 769.08 1517.26 Q770.099 1517.07 771.117 1517.07 Q776.904 1517.07 780.284 1520.24 Q783.663 1523.42 783.663 1528.83 Q783.663 1534.41 780.191 1537.51 Q776.719 1540.59 770.4 1540.59 Q768.224 1540.59 765.955 1540.22 Q763.71 1539.85 761.302 1539.11 L761.302 1534.41 Q763.386 1535.54 765.608 1536.1 Q767.83 1536.66 770.307 1536.66 Q774.312 1536.66 776.65 1534.55 Q778.988 1532.44 778.988 1528.83 Q778.988 1525.22 776.65 1523.11 Q774.312 1521.01 770.307 1521.01 Q768.432 1521.01 766.557 1521.42 Q764.705 1521.84 762.761 1522.72 L762.761 1505.36 Z\" fill=\"#000000\" fill-rule=\"evenodd\" fill-opacity=\"1\" /><path clip-path=\"url(#clip2800)\" d=\"M 0 0 M1226.11 1508.44 Q1222.5 1508.44 1220.67 1512 Q1218.87 1515.55 1218.87 1522.67 Q1218.87 1529.78 1220.67 1533.35 Q1222.5 1536.89 1226.11 1536.89 Q1229.75 1536.89 1231.55 1533.35 Q1233.38 1529.78 1233.38 1522.67 Q1233.38 1515.55 1231.55 1512 Q1229.75 1508.44 1226.11 1508.44 M1226.11 1504.73 Q1231.92 1504.73 1234.98 1509.34 Q1238.06 1513.92 1238.06 1522.67 Q1238.06 1531.4 1234.98 1536.01 Q1231.92 1540.59 1226.11 1540.59 Q1220.3 1540.59 1217.22 1536.01 Q1214.17 1531.4 1214.17 1522.67 Q1214.17 1513.92 1217.22 1509.34 Q1220.3 1504.73 1226.11 1504.73 Z\" fill=\"#000000\" fill-rule=\"evenodd\" fill-opacity=\"1\" /><path clip-path=\"url(#clip2800)\" d=\"M 0 0 M1243.13 1534.04 L1248.01 1534.04 L1248.01 1539.92 L1243.13 1539.92 L1243.13 1534.04 Z\" fill=\"#000000\" fill-rule=\"evenodd\" fill-opacity=\"1\" /><path clip-path=\"url(#clip2800)\" d=\"M 0 0 M1253.13 1505.36 L1271.48 1505.36 L1271.48 1509.3 L1257.41 1509.3 L1257.41 1517.77 Q1258.43 1517.42 1259.45 1517.26 Q1260.46 1517.07 1261.48 1517.07 Q1267.27 1517.07 1270.65 1520.24 Q1274.03 1523.42 1274.03 1528.83 Q1274.03 1534.41 1270.56 1537.51 Q1267.08 1540.59 1260.77 1540.59 Q1258.59 1540.59 1256.32 1540.22 Q1254.08 1539.85 1251.67 1539.11 L1251.67 1534.41 Q1253.75 1535.54 1255.97 1536.1 Q1258.2 1536.66 1260.67 1536.66 Q1264.68 1536.66 1267.01 1534.55 Q1269.35 1532.44 1269.35 1528.83 Q1269.35 1525.22 1267.01 1523.11 Q1264.68 1521.01 1260.67 1521.01 Q1258.8 1521.01 1256.92 1521.42 Q1255.07 1521.84 1253.13 1522.72 L1253.13 1505.36 Z\" fill=\"#000000\" fill-rule=\"evenodd\" fill-opacity=\"1\" /><path clip-path=\"url(#clip2800)\" d=\"M 0 0 M1289.1 1508.44 Q1285.49 1508.44 1283.66 1512 Q1281.85 1515.55 1281.85 1522.67 Q1281.85 1529.78 1283.66 1533.35 Q1285.49 1536.89 1289.1 1536.89 Q1292.73 1536.89 1294.54 1533.35 Q1296.37 1529.78 1296.37 1522.67 Q1296.37 1515.55 1294.54 1512 Q1292.73 1508.44 1289.1 1508.44 M1289.1 1504.73 Q1294.91 1504.73 1297.96 1509.34 Q1301.04 1513.92 1301.04 1522.67 Q1301.04 1531.4 1297.96 1536.01 Q1294.91 1540.59 1289.1 1540.59 Q1283.29 1540.59 1280.21 1536.01 Q1277.15 1531.4 1277.15 1522.67 Q1277.15 1513.92 1280.21 1509.34 Q1283.29 1504.73 1289.1 1504.73 Z\" fill=\"#000000\" fill-rule=\"evenodd\" fill-opacity=\"1\" /><path clip-path=\"url(#clip2800)\" d=\"M 0 0 M1743.14 1508.44 Q1739.53 1508.44 1737.7 1512 Q1735.9 1515.55 1735.9 1522.67 Q1735.9 1529.78 1737.7 1533.35 Q1739.53 1536.89 1743.14 1536.89 Q1746.78 1536.89 1748.58 1533.35 Q1750.41 1529.78 1750.41 1522.67 Q1750.41 1515.55 1748.58 1512 Q1746.78 1508.44 1743.14 1508.44 M1743.14 1504.73 Q1748.95 1504.73 1752.01 1509.34 Q1755.09 1513.92 1755.09 1522.67 Q1755.09 1531.4 1752.01 1536.01 Q1748.95 1540.59 1743.14 1540.59 Q1737.33 1540.59 1734.26 1536.01 Q1731.2 1531.4 1731.2 1522.67 Q1731.2 1513.92 1734.26 1509.34 Q1737.33 1504.73 1743.14 1504.73 Z\" fill=\"#000000\" fill-rule=\"evenodd\" fill-opacity=\"1\" /><path clip-path=\"url(#clip2800)\" d=\"M 0 0 M1760.16 1534.04 L1765.04 1534.04 L1765.04 1539.92 L1760.16 1539.92 L1760.16 1534.04 Z\" fill=\"#000000\" fill-rule=\"evenodd\" fill-opacity=\"1\" /><path clip-path=\"url(#clip2800)\" d=\"M 0 0 M1768.93 1505.36 L1791.15 1505.36 L1791.15 1507.35 L1778.61 1539.92 L1773.72 1539.92 L1785.53 1509.3 L1768.93 1509.3 L1768.93 1505.36 Z\" fill=\"#000000\" fill-rule=\"evenodd\" fill-opacity=\"1\" /><path clip-path=\"url(#clip2800)\" d=\"M 0 0 M1796.27 1505.36 L1814.63 1505.36 L1814.63 1509.3 L1800.55 1509.3 L1800.55 1517.77 Q1801.57 1517.42 1802.59 1517.26 Q1803.61 1517.07 1804.63 1517.07 Q1810.41 1517.07 1813.79 1520.24 Q1817.17 1523.42 1817.17 1528.83 Q1817.17 1534.41 1813.7 1537.51 Q1810.23 1540.59 1803.91 1540.59 Q1801.73 1540.59 1799.46 1540.22 Q1797.22 1539.85 1794.81 1539.11 L1794.81 1534.41 Q1796.89 1535.54 1799.12 1536.1 Q1801.34 1536.66 1803.82 1536.66 Q1807.82 1536.66 1810.16 1534.55 Q1812.5 1532.44 1812.5 1528.83 Q1812.5 1525.22 1810.16 1523.11 Q1807.82 1521.01 1803.82 1521.01 Q1801.94 1521.01 1800.07 1521.42 Q1798.21 1521.84 1796.27 1522.72 L1796.27 1505.36 Z\" fill=\"#000000\" fill-rule=\"evenodd\" fill-opacity=\"1\" /><path clip-path=\"url(#clip2800)\" d=\"M 0 0 M2249.16 1535.98 L2256.8 1535.98 L2256.8 1509.62 L2248.49 1511.29 L2248.49 1507.03 L2256.75 1505.36 L2261.43 1505.36 L2261.43 1535.98 L2269.06 1535.98 L2269.06 1539.92 L2249.16 1539.92 L2249.16 1535.98 Z\" fill=\"#000000\" fill-rule=\"evenodd\" fill-opacity=\"1\" /><path clip-path=\"url(#clip2800)\" d=\"M 0 0 M2274.13 1534.04 L2279.02 1534.04 L2279.02 1539.92 L2274.13 1539.92 L2274.13 1534.04 Z\" fill=\"#000000\" fill-rule=\"evenodd\" fill-opacity=\"1\" /><path clip-path=\"url(#clip2800)\" d=\"M 0 0 M2294.09 1508.44 Q2290.48 1508.44 2288.65 1512 Q2286.84 1515.55 2286.84 1522.67 Q2286.84 1529.78 2288.65 1533.35 Q2290.48 1536.89 2294.09 1536.89 Q2297.72 1536.89 2299.53 1533.35 Q2301.36 1529.78 2301.36 1522.67 Q2301.36 1515.55 2299.53 1512 Q2297.72 1508.44 2294.09 1508.44 M2294.09 1504.73 Q2299.9 1504.73 2302.95 1509.34 Q2306.03 1513.92 2306.03 1522.67 Q2306.03 1531.4 2302.95 1536.01 Q2299.9 1540.59 2294.09 1540.59 Q2288.28 1540.59 2285.2 1536.01 Q2282.14 1531.4 2282.14 1522.67 Q2282.14 1513.92 2285.2 1509.34 Q2288.28 1504.73 2294.09 1504.73 Z\" fill=\"#000000\" fill-rule=\"evenodd\" fill-opacity=\"1\" /><path clip-path=\"url(#clip2800)\" d=\"M 0 0 M2321.1 1508.44 Q2317.49 1508.44 2315.66 1512 Q2313.86 1515.55 2313.86 1522.67 Q2313.86 1529.78 2315.66 1533.35 Q2317.49 1536.89 2321.1 1536.89 Q2324.74 1536.89 2326.54 1533.35 Q2328.37 1529.78 2328.37 1522.67 Q2328.37 1515.55 2326.54 1512 Q2324.74 1508.44 2321.1 1508.44 M2321.1 1504.73 Q2326.91 1504.73 2329.97 1509.34 Q2333.05 1513.92 2333.05 1522.67 Q2333.05 1531.4 2329.97 1536.01 Q2326.91 1540.59 2321.1 1540.59 Q2315.29 1540.59 2312.21 1536.01 Q2309.16 1531.4 2309.16 1522.67 Q2309.16 1513.92 2312.21 1509.34 Q2315.29 1504.73 2321.1 1504.73 Z\" fill=\"#000000\" fill-rule=\"evenodd\" fill-opacity=\"1\" /><path clip-path=\"url(#clip2800)\" d=\"M 0 0 M63.2236 1448.27 L75.7004 1448.27 L75.7004 1452.06 L63.2236 1452.06 L63.2236 1448.27 Z\" fill=\"#000000\" fill-rule=\"evenodd\" fill-opacity=\"1\" /><path clip-path=\"url(#clip2800)\" d=\"M 0 0 M81.58 1459.22 L89.2188 1459.22 L89.2188 1432.85 L80.9087 1434.52 L80.9087 1430.26 L89.1725 1428.59 L93.8484 1428.59 L93.8484 1459.22 L101.487 1459.22 L101.487 1463.15 L81.58 1463.15 L81.58 1459.22 Z\" fill=\"#000000\" fill-rule=\"evenodd\" fill-opacity=\"1\" /><path clip-path=\"url(#clip2800)\" d=\"M 0 0 M106.557 1457.27 L111.441 1457.27 L111.441 1463.15 L106.557 1463.15 L106.557 1457.27 Z\" fill=\"#000000\" fill-rule=\"evenodd\" fill-opacity=\"1\" /><path clip-path=\"url(#clip2800)\" d=\"M 0 0 M126.51 1431.67 Q122.899 1431.67 121.071 1435.24 Q119.265 1438.78 119.265 1445.91 Q119.265 1453.01 121.071 1456.58 Q122.899 1460.12 126.51 1460.12 Q130.145 1460.12 131.95 1456.58 Q133.779 1453.01 133.779 1445.91 Q133.779 1438.78 131.95 1435.24 Q130.145 1431.67 126.51 1431.67 M126.51 1427.97 Q132.32 1427.97 135.376 1432.57 Q138.455 1437.16 138.455 1445.91 Q138.455 1454.63 135.376 1459.24 Q132.32 1463.82 126.51 1463.82 Q120.7 1463.82 117.621 1459.24 Q114.566 1454.63 114.566 1445.91 Q114.566 1437.16 117.621 1432.57 Q120.7 1427.97 126.51 1427.97 Z\" fill=\"#000000\" fill-rule=\"evenodd\" fill-opacity=\"1\" /><path clip-path=\"url(#clip2800)\" d=\"M 0 0 M62.9921 1108.79 L75.4689 1108.79 L75.4689 1112.59 L62.9921 1112.59 L62.9921 1108.79 Z\" fill=\"#000000\" fill-rule=\"evenodd\" fill-opacity=\"1\" /><path clip-path=\"url(#clip2800)\" d=\"M 0 0 M90.5383 1092.2 Q86.9272 1092.2 85.0985 1095.76 Q83.2929 1099.3 83.2929 1106.43 Q83.2929 1113.54 85.0985 1117.1 Q86.9272 1120.65 90.5383 1120.65 Q94.1725 1120.65 95.9781 1117.1 Q97.8068 1113.54 97.8068 1106.43 Q97.8068 1099.3 95.9781 1095.76 Q94.1725 1092.2 90.5383 1092.2 M90.5383 1088.49 Q96.3484 1088.49 99.404 1093.1 Q102.483 1097.68 102.483 1106.43 Q102.483 1115.16 99.404 1119.77 Q96.3484 1124.35 90.5383 1124.35 Q84.7281 1124.35 81.6494 1119.77 Q78.5939 1115.16 78.5939 1106.43 Q78.5939 1097.68 81.6494 1093.1 Q84.7281 1088.49 90.5383 1088.49 Z\" fill=\"#000000\" fill-rule=\"evenodd\" fill-opacity=\"1\" /><path clip-path=\"url(#clip2800)\" d=\"M 0 0 M107.552 1117.8 L112.436 1117.8 L112.436 1123.68 L107.552 1123.68 L107.552 1117.8 Z\" fill=\"#000000\" fill-rule=\"evenodd\" fill-opacity=\"1\" /><path clip-path=\"url(#clip2800)\" d=\"M 0 0 M117.552 1089.12 L135.908 1089.12 L135.908 1093.05 L121.834 1093.05 L121.834 1101.53 Q122.853 1101.18 123.871 1101.02 Q124.89 1100.83 125.908 1100.83 Q131.695 1100.83 135.075 1104 Q138.455 1107.17 138.455 1112.59 Q138.455 1118.17 134.982 1121.27 Q131.51 1124.35 125.191 1124.35 Q123.015 1124.35 120.746 1123.98 Q118.501 1123.61 116.094 1122.87 L116.094 1118.17 Q118.177 1119.3 120.399 1119.86 Q122.621 1120.41 125.098 1120.41 Q129.103 1120.41 131.441 1118.31 Q133.779 1116.2 133.779 1112.59 Q133.779 1108.98 131.441 1106.87 Q129.103 1104.77 125.098 1104.77 Q123.223 1104.77 121.348 1105.18 Q119.496 1105.6 117.552 1106.48 L117.552 1089.12 Z\" fill=\"#000000\" fill-rule=\"evenodd\" fill-opacity=\"1\" /><path clip-path=\"url(#clip2800)\" d=\"M 0 0 M89.5429 752.723 Q85.9318 752.723 84.1031 756.287 Q82.2976 759.829 82.2976 766.959 Q82.2976 774.065 84.1031 777.63 Q85.9318 781.171 89.5429 781.171 Q93.1771 781.171 94.9827 777.63 Q96.8114 774.065 96.8114 766.959 Q96.8114 759.829 94.9827 756.287 Q93.1771 752.723 89.5429 752.723 M89.5429 749.019 Q95.3531 749.019 98.4086 753.625 Q101.487 758.209 101.487 766.959 Q101.487 775.685 98.4086 780.292 Q95.3531 784.875 89.5429 784.875 Q83.7328 784.875 80.6541 780.292 Q77.5985 775.685 77.5985 766.959 Q77.5985 758.209 80.6541 753.625 Q83.7328 749.019 89.5429 749.019 Z\" fill=\"#000000\" fill-rule=\"evenodd\" fill-opacity=\"1\" /><path clip-path=\"url(#clip2800)\" d=\"M 0 0 M106.557 778.324 L111.441 778.324 L111.441 784.204 L106.557 784.204 L106.557 778.324 Z\" fill=\"#000000\" fill-rule=\"evenodd\" fill-opacity=\"1\" /><path clip-path=\"url(#clip2800)\" d=\"M 0 0 M126.51 752.723 Q122.899 752.723 121.071 756.287 Q119.265 759.829 119.265 766.959 Q119.265 774.065 121.071 777.63 Q122.899 781.171 126.51 781.171 Q130.145 781.171 131.95 777.63 Q133.779 774.065 133.779 766.959 Q133.779 759.829 131.95 756.287 Q130.145 752.723 126.51 752.723 M126.51 749.019 Q132.32 749.019 135.376 753.625 Q138.455 758.209 138.455 766.959 Q138.455 775.685 135.376 780.292 Q132.32 784.875 126.51 784.875 Q120.7 784.875 117.621 780.292 Q114.566 775.685 114.566 766.959 Q114.566 758.209 117.621 753.625 Q120.7 749.019 126.51 749.019 Z\" fill=\"#000000\" fill-rule=\"evenodd\" fill-opacity=\"1\" /><path clip-path=\"url(#clip2800)\" d=\"M 0 0 M90.5383 413.249 Q86.9272 413.249 85.0985 416.814 Q83.2929 420.355 83.2929 427.485 Q83.2929 434.591 85.0985 438.156 Q86.9272 441.698 90.5383 441.698 Q94.1725 441.698 95.9781 438.156 Q97.8068 434.591 97.8068 427.485 Q97.8068 420.355 95.9781 416.814 Q94.1725 413.249 90.5383 413.249 M90.5383 409.545 Q96.3484 409.545 99.404 414.152 Q102.483 418.735 102.483 427.485 Q102.483 436.212 99.404 440.818 Q96.3484 445.401 90.5383 445.401 Q84.7281 445.401 81.6494 440.818 Q78.5939 436.212 78.5939 427.485 Q78.5939 418.735 81.6494 414.152 Q84.7281 409.545 90.5383 409.545 Z\" fill=\"#000000\" fill-rule=\"evenodd\" fill-opacity=\"1\" /><path clip-path=\"url(#clip2800)\" d=\"M 0 0 M107.552 438.85 L112.436 438.85 L112.436 444.73 L107.552 444.73 L107.552 438.85 Z\" fill=\"#000000\" fill-rule=\"evenodd\" fill-opacity=\"1\" /><path clip-path=\"url(#clip2800)\" d=\"M 0 0 M117.552 410.17 L135.908 410.17 L135.908 414.105 L121.834 414.105 L121.834 422.577 Q122.853 422.23 123.871 422.068 Q124.89 421.883 125.908 421.883 Q131.695 421.883 135.075 425.054 Q138.455 428.226 138.455 433.642 Q138.455 439.221 134.982 442.323 Q131.51 445.401 125.191 445.401 Q123.015 445.401 120.746 445.031 Q118.501 444.661 116.094 443.92 L116.094 439.221 Q118.177 440.355 120.399 440.911 Q122.621 441.466 125.098 441.466 Q129.103 441.466 131.441 439.36 Q133.779 437.253 133.779 433.642 Q133.779 430.031 131.441 427.925 Q129.103 425.818 125.098 425.818 Q123.223 425.818 121.348 426.235 Q119.496 426.651 117.552 427.531 L117.552 410.17 Z\" fill=\"#000000\" fill-rule=\"evenodd\" fill-opacity=\"1\" /><path clip-path=\"url(#clip2800)\" d=\"M 0 0 M81.58 101.321 L89.2188 101.321 L89.2188 74.9555 L80.9087 76.6221 L80.9087 72.3629 L89.1725 70.6962 L93.8484 70.6962 L93.8484 101.321 L101.487 101.321 L101.487 105.256 L81.58 105.256 L81.58 101.321 Z\" fill=\"#000000\" fill-rule=\"evenodd\" fill-opacity=\"1\" /><path clip-path=\"url(#clip2800)\" d=\"M 0 0 M106.557 99.3766 L111.441 99.3766 L111.441 105.256 L106.557 105.256 L106.557 99.3766 Z\" fill=\"#000000\" fill-rule=\"evenodd\" fill-opacity=\"1\" /><path clip-path=\"url(#clip2800)\" d=\"M 0 0 M126.51 73.7749 Q122.899 73.7749 121.071 77.3397 Q119.265 80.8814 119.265 88.011 Q119.265 95.1174 121.071 98.6822 Q122.899 102.224 126.51 102.224 Q130.145 102.224 131.95 98.6822 Q133.779 95.1174 133.779 88.011 Q133.779 80.8814 131.95 77.3397 Q130.145 73.7749 126.51 73.7749 M126.51 70.0712 Q132.32 70.0712 135.376 74.6777 Q138.455 79.261 138.455 88.011 Q138.455 96.7378 135.376 101.344 Q132.32 105.928 126.51 105.928 Q120.7 105.928 117.621 101.344 Q114.566 96.7378 114.566 88.011 Q114.566 79.261 117.621 74.6777 Q120.7 70.0712 126.51 70.0712 Z\" fill=\"#000000\" fill-rule=\"evenodd\" fill-opacity=\"1\" /><polyline clip-path=\"url(#clip2802)\" style=\"stroke:#009af9; stroke-width:12; stroke-opacity:1; fill:none\" points=\"\n",
       "  224.444,766.924 234.534,746.097 244.624,725.289 337.917,537.278 431.211,367.624 487.276,280.251 543.342,206.989 567.043,180.793 590.744,157.64 614.446,137.65 \n",
       "  638.147,120.927 689.64,96.2473 741.132,87.9763 788.604,95.0695 836.075,116.138 886.97,153.744 937.865,206.006 996.831,283.223 1055.8,375.949 1108.2,468.975 \n",
       "  1160.6,569.55 1206.55,661.951 1252.51,756.397 1302.61,859.54 1352.71,960.537 1403.1,1057.61 1453.5,1147.86 1509.22,1237.17 1564.95,1313.02 1617.96,1370.7 \n",
       "  1670.98,1412.71 1698.54,1427.99 1726.11,1438.63 1753.67,1444.55 1781.23,1445.72 1827.64,1436.92 1874.04,1414.81 1930.69,1370.43 1987.35,1308.17 2040.61,1235 \n",
       "  2093.86,1149.58 2179.18,992.893 2264.51,821.083 2277.64,794.025 2290.77,766.924 \n",
       "  \"/>\n",
       "<circle clip-path=\"url(#clip2802)\" cx=\"224.444\" cy=\"766.924\" r=\"14\" fill=\"#e26f46\" fill-rule=\"evenodd\" fill-opacity=\"1\" stroke=\"#000000\" stroke-opacity=\"1\" stroke-width=\"3.2\"/>\n",
       "<circle clip-path=\"url(#clip2802)\" cx=\"431.077\" cy=\"367.848\" r=\"14\" fill=\"#e26f46\" fill-rule=\"evenodd\" fill-opacity=\"1\" stroke=\"#000000\" stroke-opacity=\"1\" stroke-width=\"3.2\"/>\n",
       "<circle clip-path=\"url(#clip2802)\" cx=\"637.709\" cy=\"121.206\" r=\"14\" fill=\"#e26f46\" fill-rule=\"evenodd\" fill-opacity=\"1\" stroke=\"#000000\" stroke-opacity=\"1\" stroke-width=\"3.2\"/>\n",
       "<circle clip-path=\"url(#clip2802)\" cx=\"844.341\" cy=\"121.206\" r=\"14\" fill=\"#e26f46\" fill-rule=\"evenodd\" fill-opacity=\"1\" stroke=\"#000000\" stroke-opacity=\"1\" stroke-width=\"3.2\"/>\n",
       "<circle clip-path=\"url(#clip2802)\" cx=\"1050.97\" cy=\"367.848\" r=\"14\" fill=\"#e26f46\" fill-rule=\"evenodd\" fill-opacity=\"1\" stroke=\"#000000\" stroke-opacity=\"1\" stroke-width=\"3.2\"/>\n",
       "<circle clip-path=\"url(#clip2802)\" cx=\"1257.61\" cy=\"766.924\" r=\"14\" fill=\"#e26f46\" fill-rule=\"evenodd\" fill-opacity=\"1\" stroke=\"#000000\" stroke-opacity=\"1\" stroke-width=\"3.2\"/>\n",
       "<circle clip-path=\"url(#clip2802)\" cx=\"1464.24\" cy=\"1166\" r=\"14\" fill=\"#e26f46\" fill-rule=\"evenodd\" fill-opacity=\"1\" stroke=\"#000000\" stroke-opacity=\"1\" stroke-width=\"3.2\"/>\n",
       "<circle clip-path=\"url(#clip2802)\" cx=\"1670.87\" cy=\"1412.64\" r=\"14\" fill=\"#e26f46\" fill-rule=\"evenodd\" fill-opacity=\"1\" stroke=\"#000000\" stroke-opacity=\"1\" stroke-width=\"3.2\"/>\n",
       "<circle clip-path=\"url(#clip2802)\" cx=\"1877.5\" cy=\"1412.64\" r=\"14\" fill=\"#e26f46\" fill-rule=\"evenodd\" fill-opacity=\"1\" stroke=\"#000000\" stroke-opacity=\"1\" stroke-width=\"3.2\"/>\n",
       "<circle clip-path=\"url(#clip2802)\" cx=\"2084.13\" cy=\"1166\" r=\"14\" fill=\"#e26f46\" fill-rule=\"evenodd\" fill-opacity=\"1\" stroke=\"#000000\" stroke-opacity=\"1\" stroke-width=\"3.2\"/>\n",
       "<circle clip-path=\"url(#clip2802)\" cx=\"2290.77\" cy=\"766.924\" r=\"14\" fill=\"#e26f46\" fill-rule=\"evenodd\" fill-opacity=\"1\" stroke=\"#000000\" stroke-opacity=\"1\" stroke-width=\"3.2\"/>\n",
       "<polyline clip-path=\"url(#clip2802)\" style=\"stroke:#3da44d; stroke-width:12; stroke-opacity:1; fill:none\" points=\"\n",
       "  224.444,766.924 431.077,367.848 637.709,121.206 844.341,121.206 1050.97,367.848 1257.61,766.924 1464.24,1166 1670.87,1412.64 1877.5,1412.64 2084.13,1166 \n",
       "  2290.77,766.924 \n",
       "  \"/>\n",
       "<path clip-path=\"url(#clip2800)\" d=\"\n",
       "M1989.16 372.684 L2280.76 372.684 L2280.76 130.764 L1989.16 130.764  Z\n",
       "  \" fill=\"#ffffff\" fill-rule=\"evenodd\" fill-opacity=\"1\"/>\n",
       "<polyline clip-path=\"url(#clip2800)\" style=\"stroke:#000000; stroke-width:4; stroke-opacity:1; fill:none\" points=\"\n",
       "  1989.16,372.684 2280.76,372.684 2280.76,130.764 1989.16,130.764 1989.16,372.684 \n",
       "  \"/>\n",
       "<polyline clip-path=\"url(#clip2800)\" style=\"stroke:#009af9; stroke-width:12; stroke-opacity:1; fill:none\" points=\"\n",
       "  2013.16,191.244 2157.16,191.244 \n",
       "  \"/>\n",
       "<path clip-path=\"url(#clip2800)\" d=\"M 0 0 M2195 210.931 Q2193.2 215.561 2191.48 216.973 Q2189.77 218.385 2186.9 218.385 L2183.5 218.385 L2183.5 214.82 L2186 214.82 Q2187.76 214.82 2188.73 213.987 Q2189.7 213.154 2190.88 210.052 L2191.65 208.107 L2181.16 182.598 L2185.67 182.598 L2193.77 202.876 L2201.88 182.598 L2206.39 182.598 L2195 210.931 Z\" fill=\"#000000\" fill-rule=\"evenodd\" fill-opacity=\"1\" /><path clip-path=\"url(#clip2800)\" d=\"M 0 0 M2212.27 204.589 L2219.91 204.589 L2219.91 178.223 L2211.6 179.89 L2211.6 175.631 L2219.86 173.964 L2224.54 173.964 L2224.54 204.589 L2232.18 204.589 L2232.18 208.524 L2212.27 208.524 L2212.27 204.589 Z\" fill=\"#000000\" fill-rule=\"evenodd\" fill-opacity=\"1\" /><circle clip-path=\"url(#clip2800)\" cx=\"2097.16\" cy=\"251.724\" r=\"21\" fill=\"#e26f46\" fill-rule=\"evenodd\" fill-opacity=\"1\" stroke=\"#000000\" stroke-opacity=\"1\" stroke-width=\"3.2\"/>\n",
       "<path clip-path=\"url(#clip2800)\" d=\"M 0 0 M2195 271.411 Q2193.2 276.041 2191.48 277.453 Q2189.77 278.865 2186.9 278.865 L2183.5 278.865 L2183.5 275.3 L2186 275.3 Q2187.76 275.3 2188.73 274.467 Q2189.7 273.634 2190.88 270.532 L2191.65 268.587 L2181.16 243.078 L2185.67 243.078 L2193.77 263.356 L2201.88 243.078 L2206.39 243.078 L2195 271.411 Z\" fill=\"#000000\" fill-rule=\"evenodd\" fill-opacity=\"1\" /><path clip-path=\"url(#clip2800)\" d=\"M 0 0 M2215.49 265.069 L2231.81 265.069 L2231.81 269.004 L2209.86 269.004 L2209.86 265.069 Q2212.52 262.314 2217.11 257.685 Q2221.71 253.032 2222.89 251.689 Q2225.14 249.166 2226.02 247.43 Q2226.92 245.671 2226.92 243.981 Q2226.92 241.226 2224.98 239.49 Q2223.06 237.754 2219.96 237.754 Q2217.76 237.754 2215.3 238.518 Q2212.87 239.282 2210.09 240.833 L2210.09 236.111 Q2212.92 234.976 2215.37 234.398 Q2217.83 233.819 2219.86 233.819 Q2225.23 233.819 2228.43 236.504 Q2231.62 239.189 2231.62 243.68 Q2231.62 245.81 2230.81 247.731 Q2230.02 249.629 2227.92 252.222 Q2227.34 252.893 2224.24 256.111 Q2221.14 259.305 2215.49 265.069 Z\" fill=\"#000000\" fill-rule=\"evenodd\" fill-opacity=\"1\" /><polyline clip-path=\"url(#clip2800)\" style=\"stroke:#3da44d; stroke-width:12; stroke-opacity:1; fill:none\" points=\"\n",
       "  2013.16,312.204 2157.16,312.204 \n",
       "  \"/>\n",
       "<path clip-path=\"url(#clip2800)\" d=\"M 0 0 M2195 331.891 Q2193.2 336.521 2191.48 337.933 Q2189.77 339.345 2186.9 339.345 L2183.5 339.345 L2183.5 335.78 L2186 335.78 Q2187.76 335.78 2188.73 334.947 Q2189.7 334.114 2190.88 331.012 L2191.65 329.067 L2181.16 303.558 L2185.67 303.558 L2193.77 323.836 L2201.88 303.558 L2206.39 303.558 L2195 331.891 Z\" fill=\"#000000\" fill-rule=\"evenodd\" fill-opacity=\"1\" /><path clip-path=\"url(#clip2800)\" d=\"M 0 0 M2225.63 310.85 Q2228.98 311.568 2230.86 313.836 Q2232.76 316.105 2232.76 319.438 Q2232.76 324.554 2229.24 327.354 Q2225.72 330.155 2219.24 330.155 Q2217.06 330.155 2214.75 329.716 Q2212.46 329.299 2210 328.442 L2210 323.929 Q2211.95 325.063 2214.26 325.642 Q2216.58 326.22 2219.1 326.22 Q2223.5 326.22 2225.79 324.484 Q2228.1 322.748 2228.1 319.438 Q2228.1 316.382 2225.95 314.669 Q2223.82 312.933 2220 312.933 L2215.97 312.933 L2215.97 309.091 L2220.19 309.091 Q2223.64 309.091 2225.46 307.725 Q2227.29 306.336 2227.29 303.743 Q2227.29 301.081 2225.39 299.669 Q2223.52 298.234 2220 298.234 Q2218.08 298.234 2215.88 298.651 Q2213.68 299.068 2211.04 299.947 L2211.04 295.781 Q2213.71 295.04 2216.02 294.669 Q2218.36 294.299 2220.42 294.299 Q2225.74 294.299 2228.84 296.73 Q2231.95 299.137 2231.95 303.257 Q2231.95 306.128 2230.3 308.118 Q2228.66 310.086 2225.63 310.85 Z\" fill=\"#000000\" fill-rule=\"evenodd\" fill-opacity=\"1\" /></svg>\n"
      ]
     },
     "execution_count": 4,
     "metadata": {},
     "output_type": "execute_result"
    }
   ],
   "source": [
    "Δx = 0.1\n",
    "x = 0:Δx:1\n",
    "u(x) = sin(2π * x)\n",
    "using Plots\n",
    "plot(u, 0,1,lw=3)\n",
    "scatter!(x,u.(x))\n",
    "plot!(x, u.(x), lw=3)"
   ]
  },
  {
   "cell_type": "code",
   "execution_count": 4,
   "metadata": {},
   "outputs": [
    {
     "name": "stderr",
     "output_type": "stream",
     "text": [
      "┌ Info: Precompiling ApproxFun [28f2ccd6-bb30-5033-b560-165f7b14dc2f]\n",
      "└ @ Base loading.jl:1278\n"
     ]
    }
   ],
   "source": [
    "using ApproxFun"
   ]
  },
  {
   "cell_type": "code",
   "execution_count": 14,
   "metadata": {},
   "outputs": [
    {
     "name": "stdout",
     "output_type": "stream",
     "text": [
      "ApproxFunBase.SumSpace{Tuple{CosSpace{PeriodicSegment{Float64},Float64},SinSpace{PeriodicSegment{Float64},Float64}},PeriodicSegment{Float64},Float64}\n",
      "  spaces: Tuple{CosSpace{PeriodicSegment{Float64},Float64},SinSpace{PeriodicSegment{Float64},Float64}}\n",
      "    1: CosSpace{PeriodicSegment{Float64},Float64}\n",
      "      domain: PeriodicSegment{Float64}\n",
      "        a: Float64 0.0\n",
      "        b: Float64 6.283185307179586\n",
      "    2: SinSpace{PeriodicSegment{Float64},Float64}\n",
      "      domain: PeriodicSegment{Float64}\n",
      "        a: Float64 0.0\n",
      "        b: Float64 6.283185307179586\n"
     ]
    },
    {
     "data": {
      "text/plain": [
       "the union of 2 domains:\n",
       "\t1.\t: -1.0 - 0.0im..1.0 + 0.0im (Chebyshev)\n",
       "\t2.\t: 0.5🕒+3\n"
      ]
     },
     "execution_count": 14,
     "metadata": {},
     "output_type": "execute_result"
    }
   ],
   "source": [
    "f = Fun(Taylor(), [1,2,3])\n",
    "Fun(exp)\n",
    "a = Fun(cos, Chebyshev())\n",
    "Fun(identity, -1..1)\n",
    "space(a)\n",
    "f = Fun(CosSpace()^2, [1,2,3])\n",
    "dump(Fourier(PeriodicSegment()))\n",
    "ChebyshevInterval() ∪ Circle(3,0.5) "
   ]
  },
  {
   "cell_type": "code",
   "execution_count": 19,
   "metadata": {},
   "outputs": [
    {
     "name": "stdout",
     "output_type": "stream",
     "text": [
      "Chebyshev{ChebyshevInterval{Float64},Float64}\n",
      "  domain: ChebyshevInterval{Float64} -1.0..1.0 (Chebyshev)\n"
     ]
    }
   ],
   "source": [
    "dump(Fun(exp).space)"
   ]
  },
  {
   "cell_type": "code",
   "execution_count": 20,
   "metadata": {},
   "outputs": [
    {
     "data": {
      "text/plain": [
       "ConcreteDerivative : CosSpace(【0.0,6.283185307179586❫) → SinSpace(【0.0,6.283185307179586❫)\n",
       " 0.0  -1.0    ⋅     ⋅     ⋅     ⋅     ⋅     ⋅     ⋅     ⋅   ⋅\n",
       "  ⋅    0.0  -2.0    ⋅     ⋅     ⋅     ⋅     ⋅     ⋅     ⋅   ⋅\n",
       "  ⋅     ⋅    0.0  -3.0    ⋅     ⋅     ⋅     ⋅     ⋅     ⋅   ⋅\n",
       "  ⋅     ⋅     ⋅    0.0  -4.0    ⋅     ⋅     ⋅     ⋅     ⋅   ⋅\n",
       "  ⋅     ⋅     ⋅     ⋅    0.0  -5.0    ⋅     ⋅     ⋅     ⋅   ⋅\n",
       "  ⋅     ⋅     ⋅     ⋅     ⋅    0.0  -6.0    ⋅     ⋅     ⋅   ⋅\n",
       "  ⋅     ⋅     ⋅     ⋅     ⋅     ⋅    0.0  -7.0    ⋅     ⋅   ⋅\n",
       "  ⋅     ⋅     ⋅     ⋅     ⋅     ⋅     ⋅    0.0  -8.0    ⋅   ⋅\n",
       "  ⋅     ⋅     ⋅     ⋅     ⋅     ⋅     ⋅     ⋅    0.0  -9.0  ⋅\n",
       "  ⋅     ⋅     ⋅     ⋅     ⋅     ⋅     ⋅     ⋅     ⋅    0.0  ⋱\n",
       "  ⋅     ⋅     ⋅     ⋅     ⋅     ⋅     ⋅     ⋅     ⋅     ⋅   ⋱"
      ]
     },
     "execution_count": 20,
     "metadata": {},
     "output_type": "execute_result"
    }
   ],
   "source": [
    "Derivative(CosSpace())"
   ]
  },
  {
   "cell_type": "code",
   "execution_count": 24,
   "metadata": {},
   "outputs": [
    {
     "name": "stdout",
     "output_type": "stream",
     "text": [
      "ApproxFunBase.SumSpace{Tuple{CosSpace{PeriodicSegment{Float64},Float64},SinSpace{PeriodicSegment{Float64},Float64}},PeriodicSegment{Float64},Float64}\n",
      "  spaces: Tuple{CosSpace{PeriodicSegment{Float64},Float64},SinSpace{PeriodicSegment{Float64},Float64}}\n",
      "    1: CosSpace{PeriodicSegment{Float64},Float64}\n",
      "      domain: PeriodicSegment{Float64}\n",
      "        a: Float64 0.0\n",
      "        b: Float64 6.283185307179586\n",
      "    2: SinSpace{PeriodicSegment{Float64},Float64}\n",
      "      domain: PeriodicSegment{Float64}\n",
      "        a: Float64 0.0\n",
      "        b: Float64 6.283185307179586\n"
     ]
    }
   ],
   "source": [
    "dump(Fourier())"
   ]
  },
  {
   "cell_type": "code",
   "execution_count": 27,
   "metadata": {},
   "outputs": [
    {
     "data": {
      "text/plain": [
       "Fun(2-element ArraySpace:\n",
       "TensorSpace{Tuple{Chebyshev{Interval{:closed,:closed,Int64},Float64},Chebyshev{Interval{:closed,:closed,Int64},Float64}},DomainSets.VcatDomain{2,Int64,(1, 1),Tuple{Interval{:closed,:closed,Int64},Interval{:closed,:closed,Int64}}},Float64}[Chebyshev(-1..1)⊗Chebyshev(-1..1), Chebyshev(-1..1)⊗Chebyshev(-1..1)],[0.0, -1.850371707708594e-17, 0.0, 1.0, 1.0])"
      ]
     },
     "execution_count": 27,
     "metadata": {},
     "output_type": "execute_result"
    }
   ],
   "source": [
    "d = Domain(-1..1)^2\n",
    "x,y = Fun(d)\n",
    "\\"
   ]
  },
  {
   "cell_type": "code",
   "execution_count": 22,
   "metadata": {},
   "outputs": [
    {
     "data": {
      "text/plain": [
       "ConcreteEvaluation : CosSpace(【0.0,6.283185307179586❫) → ConstantSpace(Point(0))\n",
       " 1.0  1.0  1.0  1.0  1.0  1.0  1.0  1.0  1.0  1.0  ⋯"
      ]
     },
     "execution_count": 22,
     "metadata": {},
     "output_type": "execute_result"
    }
   ],
   "source": [
    "Evaluation(CosSpace(),0)"
   ]
  },
  {
   "cell_type": "code",
   "execution_count": 9,
   "metadata": {},
   "outputs": [
    {
     "name": "stdout",
     "output_type": "stream",
     "text": [
      "\n",
      ";  @ In[9]:1 within `foo'\n",
      "define i64 @julia_foo_1127(i64) {\n",
      "top:\n",
      ";  @ In[9]:5 within `foo'\n",
      "  ret i64 2\n",
      "}\n"
     ]
    }
   ],
   "source": [
    "function foo(x::Union{Char,Int64})\n",
    "    if x isa Char\n",
    "        return 1\n",
    "    elseif x isa Int64\n",
    "        return 2\n",
    "    end\n",
    "end\n",
    "\n",
    "function foo2()\n",
    "    x = rand() > 0.5 ? 3 : 'c'\n",
    "    return foo(x)\n",
    "end\n",
    "\n",
    "\n",
    "@code_llvm foo(3)\n",
    "\n"
   ]
  },
  {
   "cell_type": "code",
   "execution_count": 22,
   "metadata": {},
   "outputs": [
    {
     "name": "stdout",
     "output_type": "stream",
     "text": [
      "\t.text\n",
      "; ┌ @ In[22]:10 within `addem'\n",
      "\tpushq\t%r15\n",
      "\tpushq\t%r14\n",
      "\tpushq\t%r13\n",
      "\tpushq\t%r12\n",
      "\tpushq\t%rbx\n",
      "\tmovq\t%rdi, %rbx\n",
      "; │ @ In[22]:12 within `addem'\n",
      "; │┌ @ Base.jl:33 within `getproperty'\n",
      "\tmovq\t(%rdi), %rdi\n",
      "\tmovabsq\t$139634891107120, %r13  # imm = 0x7EFF48152B30\n",
      "\tmovabsq\t$139634891145520, %r12  # imm = 0x7EFF4815C130\n",
      "; │└\n",
      "\tmovabsq\t$.text, %r15\n",
      "\tmovq\t-8(%rdi), %rax\n",
      "\tandq\t$-16, %rax\n",
      "\tcmpq\t%r13, %rax\n",
      "\tje\tL71\n",
      "\tcmpq\t%r12, %rax\n",
      "\tjne\tL117\n",
      "\tcallq\t*%r15\n",
      "\tmovq\t%rax, %r14\n",
      "\tjmp\tL74\n",
      "L71:\n",
      "\tmovq\t(%rdi), %r14\n",
      "; │ @ In[22]:12 within `addem'\n",
      "; │┌ @ Base.jl:33 within `getproperty'\n",
      "L74:\n",
      "\tmovq\t8(%rbx), %rdi\n",
      "; │└\n",
      "\tmovq\t-8(%rdi), %rax\n",
      "\tandq\t$-16, %rax\n",
      "\tcmpq\t%r13, %rax\n",
      "\tje\tL101\n",
      "\tcmpq\t%r12, %rax\n",
      "\tjne\tL139\n",
      "\tcallq\t*%r15\n",
      "\tjmp\tL104\n",
      "L101:\n",
      "\tmovq\t(%rdi), %rax\n",
      "; │ @ In[22]:12 within `addem'\n",
      "; │┌ @ int.jl:86 within `+'\n",
      "L104:\n",
      "\taddq\t%r14, %rax\n",
      "; │└\n",
      "\tpopq\t%rbx\n",
      "\tpopq\t%r12\n",
      "\tpopq\t%r13\n",
      "\tpopq\t%r14\n",
      "\tpopq\t%r15\n",
      "\tretq\n",
      "L117:\n",
      "\tmovabsq\t$jl_throw, %rax\n",
      "\tmovabsq\t$jl_system_image_data, %rdi\n",
      "\tcallq\t*%rax\n",
      "L139:\n",
      "\tmovabsq\t$jl_throw, %rax\n",
      "\tmovabsq\t$jl_system_image_data, %rdi\n",
      "\tcallq\t*%rax\n",
      "\tnopw\t%cs:(%rax,%rax)\n",
      "; └\n"
     ]
    }
   ],
   "source": [
    "\n",
    "struct Leaf\n",
    "    n::Int64\n",
    "end\n",
    "struct Node\n",
    "    l::Union{Leaf,Node}\n",
    "    r::Union{Leaf,Node}\n",
    "end\n",
    "\n",
    "function addem(x::Union{Leaf,Node})\n",
    "    if x isa Node\n",
    "        return addem(x.l) + addem(x.r)\n",
    "    elseif x isa Leaf\n",
    "        return x.n\n",
    "    end\n",
    "end\n",
    "\n",
    "x = Node(Leaf(3),Leaf(5))\n",
    "\n",
    "@code_native addem(x)\n"
   ]
  },
  {
   "cell_type": "code",
   "execution_count": null,
   "metadata": {},
   "outputs": [],
   "source": []
  }
 ],
 "metadata": {
  "kernelspec": {
   "display_name": "Julia 1.5.0",
   "language": "julia",
   "name": "julia-1.5"
  },
  "language_info": {
   "file_extension": ".jl",
   "mimetype": "application/julia",
   "name": "julia",
   "version": "1.5.0"
  }
 },
 "nbformat": 4,
 "nbformat_minor": 4
}
