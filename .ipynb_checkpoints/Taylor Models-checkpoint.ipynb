{
 "cells": [
  {
   "cell_type": "code",
   "execution_count": 1,
   "metadata": {},
   "outputs": [
    {
     "data": {
      "text/plain": [
       "Interval(0, 1)"
      ]
     },
     "execution_count": 1,
     "metadata": {},
     "output_type": "execute_result"
    }
   ],
   "source": [
    "import sympy as sy\n",
    "sy.Interval(0,1)"
   ]
  },
  {
   "cell_type": "code",
   "execution_count": 6,
   "metadata": {},
   "outputs": [
    {
     "data": {
      "text/plain": [
       "SetExpr(Interval(0, 1))"
      ]
     },
     "execution_count": 6,
     "metadata": {},
     "output_type": "execute_result"
    }
   ],
   "source": [
    "from sympy.sets.setexpr import SetExpr\n",
    "u = SetExpr(sy.Interval(0,1))\n",
    "u + u\n",
    "u * u"
   ]
  },
  {
   "cell_type": "code",
   "execution_count": 24,
   "metadata": {},
   "outputs": [],
   "source": [
    "x = sy.symbols('x')\n",
    "y  = x**5 +3*x + 1"
   ]
  },
  {
   "cell_type": "code",
   "execution_count": 22,
   "metadata": {},
   "outputs": [
    {
     "data": {
      "text/plain": [
       "x**2 + 3*x + 1"
      ]
     },
     "execution_count": 22,
     "metadata": {},
     "output_type": "execute_result"
    }
   ],
   "source": [
    "list(enumerate(sy.poly(y).all_coeffs()))\n",
    "sum([ c*x**p[0] for p, c in  sy.poly(y).terms()]) # goo for multivariate too"
   ]
  },
  {
   "cell_type": "code",
   "execution_count": 70,
   "metadata": {},
   "outputs": [
    {
     "data": {
      "text/plain": [
       "1 + 3*SetExpr(Interval(0, 1))/2"
      ]
     },
     "execution_count": 70,
     "metadata": {},
     "output_type": "execute_result"
    }
   ],
   "source": [
    "def split(y , N): # split a polynomial into lower an upper parts.\n",
    "    yp = sy.poly(y)\n",
    "    lower = sum([ c*x**p for (p,), c in  yp.terms() if p <= N]) \n",
    "    #upper = sum([ c*x**p for (p,), c in  yp.terms() if p > N])\n",
    "    upper = y - lower\n",
    "    return lower,upper\n",
    "l, u = split(y,2)\n",
    "l.subs(x, SetExpr(sy.Interval(0,1)) )"
   ]
  },
  {
   "cell_type": "code",
   "execution_count": 36,
   "metadata": {},
   "outputs": [],
   "source": [
    "import intervals as I #python-intervals. No arithemtic! WHAT"
   ]
  },
  {
   "cell_type": "code",
   "execution_count": 41,
   "metadata": {},
   "outputs": [],
   "source": [
    "from interval import interval, inf, imath"
   ]
  },
  {
   "cell_type": "code",
   "execution_count": 57,
   "metadata": {},
   "outputs": [],
   "source": [
    "unit = interval[0,1] # very strange choice, this"
   ]
  },
  {
   "cell_type": "code",
   "execution_count": 46,
   "metadata": {},
   "outputs": [
    {
     "data": {
      "text/plain": [
       "interval([1.0, 4.0])"
      ]
     },
     "execution_count": 46,
     "metadata": {},
     "output_type": "execute_result"
    }
   ],
   "source": [
    "sy.lambdify(x,l)(i)"
   ]
  },
  {
   "cell_type": "code",
   "execution_count": 107,
   "metadata": {},
   "outputs": [
    {
     "name": "stdout",
     "output_type": "stream",
     "text": [
      "x**3/6 + x**2/2 + x + 1\n",
      "interval([0.0, 0.2416666666666667])\n",
      "x**3/6 + x**2/2 + x + 1\n",
      "interval([0.0, 0.09000000000000001])\n",
      "x**3/6 + x**2/2 + x + 1\n",
      "interval([0.0, 0.05966666666666667])\n",
      "x**3/6 + x**2/2 + x + 1\n",
      "interval([0.0, 0.0536])\n",
      "x**3/6 + x**2/2 + x + 1\n",
      "interval([0.0, 0.05238666666666667])\n",
      "x**3/6 + x**2/2 + x + 1\n",
      "interval([0.0, 0.052144])\n",
      "x**3/6 + x**2/2 + x + 1\n",
      "interval([0.0, 0.052095466666666666])\n",
      "x**3/6 + x**2/2 + x + 1\n",
      "interval([0.0, 0.05208576])\n"
     ]
    }
   ],
   "source": [
    "y = 1 + x + x**2/2 + x**3/6\n",
    "rem = interval[0,1]\n",
    "for i in range(8):\n",
    "    y = 1 + sy.integrate(y , (x,0,x)) # definite integral\n",
    "    l, u = split(y, 3)\n",
    "    rem = rem * unit / 5 # rem * x**4 -> rem * x * x ** 4 / 5 \n",
    "    rem += sy.lambdify(x,u / x**3)(unit)\n",
    "    y = l\n",
    "    print(y)\n",
    "    print(rem)\n"
   ]
  },
  {
   "cell_type": "code",
   "execution_count": 76,
   "metadata": {},
   "outputs": [
    {
     "data": {
      "text/plain": [
       "interval([0.0, 0.052082666666666666])"
      ]
     },
     "execution_count": 76,
     "metadata": {},
     "output_type": "execute_result"
    }
   ],
   "source": [
    "rem"
   ]
  },
  {
   "cell_type": "code",
   "execution_count": 58,
   "metadata": {},
   "outputs": [
    {
     "data": {
      "text/plain": [
       "interval([0.0, 0.16666666666666669])"
      ]
     },
     "execution_count": 58,
     "metadata": {},
     "output_type": "execute_result"
    }
   ],
   "source": [
    "unit / 6"
   ]
  },
  {
   "cell_type": "markdown",
   "metadata": {},
   "source": [
    "Determining if one taylor model was in anoter seems like it would take "
   ]
  },
  {
   "cell_type": "code",
   "execution_count": 113,
   "metadata": {},
   "outputs": [
    {
     "name": "stdout",
     "output_type": "stream",
     "text": [
      "x**3/6 + x**2/2 + x + 1\n",
      "interval([-0.25, 0.2501627604166667])\n",
      "x**3/6 + x**2/2 + x + 1\n",
      "interval([-0.0625, 0.06270345052083334])\n",
      "x**3/6 + x**2/2 + x + 1\n",
      "interval([-0.015625, 0.015838623046875003])\n",
      "x**3/6 + x**2/2 + x + 1\n",
      "interval([-0.00390625, 0.004122416178385418])\n",
      "x**3/6 + x**2/2 + x + 1\n",
      "interval([-0.0009765625, 0.0011933644612630212])\n",
      "x**3/6 + x**2/2 + x + 1\n",
      "interval([-0.000244140625, 0.000461101531982422])\n",
      "x**3/6 + x**2/2 + x + 1\n",
      "interval([-6.103515625e-05, 0.00027803579966227215])\n",
      "x**3/6 + x**2/2 + x + 1\n",
      "interval([-1.52587890625e-05, 0.0002322693665822347])\n"
     ]
    }
   ],
   "source": [
    "y = 1 + x + x**2/2 + x**3/6\n",
    "rem = interval[-1,1]\n",
    "\n",
    "dom = interval[0,0.25]\n",
    "for i in range(8):\n",
    "    y = 1 + sy.integrate(y , (x,0,x)) # definite integral\n",
    "    l, u = split(y, 3)\n",
    "    rem = rem * dom # / 5 # rem * x**4 -> rem * x * x ** 4 / 5 \n",
    "    rem += sy.lambdify(x,u)(dom)\n",
    "    y = l\n",
    "    print(y)\n",
    "    print(rem)"
   ]
  },
  {
   "cell_type": "code",
   "execution_count": 111,
   "metadata": {},
   "outputs": [
    {
     "data": {
      "text/plain": [
       "0.0001712500210746537"
      ]
     },
     "execution_count": 111,
     "metadata": {},
     "output_type": "execute_result"
    }
   ],
   "source": [
    "import numpy as np\n",
    "np.exp(0.25) - sy.lambdify(x,y)(0.25)"
   ]
  },
  {
   "cell_type": "markdown",
   "metadata": {},
   "source": [
    "Programs and physics\n",
    "Abstract intereptation  and function sets.\n",
    "vs\n",
    "invariants and formal reasoning\n",
    "\n",
    "\n",
    "Galois connection between function spaces\n",
    "degree p and p+1 taylor model spaces.\n",
    "\n",
    "\n",
    "How do we talk about function spaces?\n",
    "Definition of differential eqautions = Given refined galois connection, \n",
    "\n",
    "\n",
    "\n",
    "Positive function optimization\n",
    "rasied chebysehv functions are intrisnically positive. \n",
    "p(x) = sum a rc(x) \n",
    "a >= 0 \n",
    "\n",
    "makes p instrinically positive.\n",
    "Turns it into an LP\n",
    "The sos thing, unless there is truly a tight thing\n",
    "But then DSOS won't work\n",
    "DSOS works better I assume if you have a good basis\n",
    "But then how much does it work better than just assuming the matrix is diagonal.\n",
    "I kind of feel like a clever overcomplete basis is better than some diagonally domainant matrix.\n",
    "another way of looking at it, if each individual functions is SOS, then we are using that the sum of PSD matrices is also psd.\n",
    "if we already have\n",
    "forall x. p(x) >= 0\n",
    "they can be linearly combined \n",
    "to forall x sum a p(x) >= 0\n",
    "no problema\n",
    "\n",
    "1 + x^2 + x^4 + x^6\n",
    "symmettric around zero?\n",
    "\n",
    "\n",
    "if x >= 0 all monomials \n",
    "1 + x + x^2 + x\n",
    "\n",
    "if x >= b\n",
    "1 + (x - b) + (x - b)^2 + (x - b)**3\n",
    "\n",
    "if  -1 <= x <= 1, then I kind of feel like raised cheby is the right / natural choice?\n",
    "\n",
    "forall x, then the highest power always has to be even.\n",
    "\n",
    "Polynomial V\n",
    "dotV >= 0 = xdot * delV >= 0. Hmm. Will this be ok?\n",
    "\n",
    "L^n / n!\n",
    "\n",
    "2\n",
    "3\n",
    "\n",
    "\n",
    "2 \n",
    "1 + 1\n",
    "2\n",
    "\n",
    "3\n",
    "2 + 1\n",
    "1 + 2\n",
    "3\n",
    "\n",
    "\n",
    "\n",
    "\n",
    "bounding kissing numbers\n",
    "find certificate such that\n",
    "l * pos + l * zero  == -1\n",
    "\n",
    "2 ^ 16\n",
    "\n",
    "\n",
    "\n",
    "\n",
    "neural lyapunov functions\n",
    "If we cap with a relu, neural net is intrinsically positive\n",
    "Or with abs kind of worried that \n",
    "\n",
    "relu based neural functions are analyzable.\n",
    "\n",
    "z3 for pruning dead neurons. \n",
    "\n",
    "\n",
    "\n",
    "\n",
    "    \n",
    "\n"
   ]
  },
  {
   "cell_type": "code",
   "execution_count": null,
   "metadata": {},
   "outputs": [],
   "source": [
    "class IntervalVar():\n",
    "    def __init__(self, l, r, c=[]):\n",
    "        self.l = cvx.Variable()\n",
    "        self.u = cvx.Variable()\n",
    "        self.c = [self.l >= self.u]\n",
    "    def __add__(self,rhs):\n",
    "        return IntervalVar( , constr = self.c + rhs.c + )\n",
    "    def __mul__(self, rhs):\n",
    "        opt = [self.l * rhs.l, ...]\n",
    "        newu = cvx.Variable()\n",
    "        c = [ newu >= o  for opt] + [ newl <= o for o in opt ]\n",
    "        return Interval(newu, newl, c = c + self.c + rhs.c)\n",
    "    def width(self):\n",
    "        return self.u - self.l\n",
    "    def __le__(self,rhs):\n",
    "        return self.c + rhs.c + [ self.u <= rhs.u  , rhs.l <= self.l ]\n",
    "\n",
    "# If we can intermix this with "
   ]
  },
  {
   "cell_type": "code",
   "execution_count": null,
   "metadata": {},
   "outputs": [],
   "source": [
    "chebyshev(n,x) + 1\n",
    "\n",
    "\n",
    "l,d = sos.poly(terms)\n",
    "u,d = sos.poly(terms)\n",
    "\n",
    "l - u == sos.pos_poly\n",
    "\n",
    "l = sos.poly\n",
    "w = pos_poly\n",
    "u = l + w # pos_poly\n",
    "\n",
    "def picard(f):\n",
    "    return integrate(f,[x,0,x]) + 1\n",
    "\n",
    "li = integrate(l, [x,0,x]) + 1\n",
    "ui = integrate(u, [x,0,x]) + 1\n",
    "\n",
    "#forall x \n",
    "ui <= u  ----->   ui + pospoly == u\n",
    "li <= l ------>   l + pospoly == li\n",
    "\n",
    "#sample on grid = \n",
    "obj = cvx.Min(cvx.sum(   w.sample( np.linspace(0,1,10) ))) # minimize the width of the interval at some points.\n",
    "cvx.Problem()\n",
    "\n",
    "\n",
    "\n",
    "\n"
   ]
  },
  {
   "cell_type": "code",
   "execution_count": 114,
   "metadata": {},
   "outputs": [
    {
     "ename": "SyntaxError",
     "evalue": "invalid syntax (<ipython-input-114-d5f81a0fda5a>, line 15)",
     "output_type": "error",
     "traceback": [
      "\u001b[0;36m  File \u001b[0;32m\"<ipython-input-114-d5f81a0fda5a>\"\u001b[0;36m, line \u001b[0;32m15\u001b[0m\n\u001b[0;31m    def res(inport, outport): def res((inport1, inport2), (outport1, outport2)):\u001b[0m\n\u001b[0m                                ^\u001b[0m\n\u001b[0;31mSyntaxError\u001b[0m\u001b[0;31m:\u001b[0m invalid syntax\n"
     ]
    }
   ],
   "source": [
    "# bounded reachability of petri nets with mixed integer programming\n",
    "import cvxpy as cvx\n",
    "\n",
    "\n",
    "def id(inport, outport): #how dare you python. HOW DARE YOU\n",
    "    return [inport == outport], inport[:0], output[:0]  \n",
    "def par(f , g ):\n",
    "    \n",
    "    \n",
    "    # take in vars and build lists of ocnstraints.\n",
    "    # It's hard to know how big stuff is at the outset\n",
    "    # manually input: eh ok. \n",
    "    # or return chunk we don't need? This is absoultely the wrong thing to do. debugging will be a nightmare.\n",
    "    # Or we could assume inport and output are tuples.\n",
    "    def res(inport, outport): def res((inport1, inport2), (outport1, outport2)):\n",
    "        c1, in1, out1 = f(inport, output)\n",
    "        c2, in2, out2 = g(in1,out1)\n",
    "        return c1 + c2, in2, out2\n",
    "    return res\n",
    "\n",
    "# what this let's us do is assume the size of the output is determined by the size of the input.\n",
    "\n",
    "def slice(n, inport, outport):\n",
    "def cup(v):\n",
    "def cap()\n",
    "def converse\n",
    "\n",
    "\n",
    "def relu(x):\n",
    "    n = x.shape\n",
    "    y = \n",
    "\n",
    "\n",
    "# petri net generator needs time unrolling.\n",
    "# ok, I guess we could assume that every variable has a first index of T\n",
    "# and a second index of \n",
    "\n",
    "def par(f,g):\n",
    "    def res((x,y)):\n",
    "        cf , x1 = f(x)\n",
    "        cg, y1 = g(y)\n",
    "        return cf + cg, (x1,y1)\n",
    "    return res\n",
    "\n",
    "def ident(x): #kliesli cateogry, writer monad\n",
    "    return [], x\n",
    "\n",
    "def comp(f, g): #compose needs to invent the middle now.\n",
    "    def res(in1):\n",
    "         c1, out1 = f(in1)\n",
    "         c2, out2 = g(out1)\n",
    "         return c1 + c2, out2\n",
    "    return res\n",
    "\n",
    "def fst((x,y)):\n",
    "    return [], x\n",
    "    \n",
    "def snd((x,y)):\n",
    "    return [], y\n",
    "\n",
    "def fan(f,g):\n",
    "    def res(x):\n",
    "        cf, y = f(x)\n",
    "        cg, z = g(x)\n",
    "        return cg + cf, (y,z)\n",
    "def delay(x, init_tokens=0):\n",
    "    T, n = x.shape\n",
    "    y = Variable((T,n), integer=True, positive=True)\n",
    "    #fire = Variable( , integer=True)\n",
    "    c = []\n",
    "    c += [y[0,:] == init_tokens] # initial condition empty tokens\n",
    "    c += [y[1:,:] == x[:-1, :]] # delay\n",
    "    return c, y\n",
    "\n",
    "def threshold(x):\n",
    "    T, n = x.shape\n",
    "    y = Variable((T,n), integer=True, positive=True)\n",
    "    fire = Variable((T-1,n), integer=True, positive=True)\n",
    "    c = []\n",
    "    c += [y[0,:] == init_tokens] # initial condition empty tokens\n",
    "    c += [ 2 * fire <= x[:-1, :] ]  #threshold on 2 tokens\n",
    "    c += [ 2 * fire  + 1 >= x[:-1,:]  ] \n",
    "    c += [y[0,:] == ???? 2*fire ] # initial condition empty tokens\n",
    "    return c, y\n",
    "# petri-coq \n",
    "# what? what was i talking about\n"
   ]
  },
  {
   "cell_type": "code",
   "execution_count": null,
   "metadata": {},
   "outputs": [],
   "source": [
    "def ident(x): #kliesli cateogry, writer monad\n",
    "    return x, []\n",
    "\n",
    "def comp(f, g): #compose needs to invent the middle now.\n",
    "    def res(in1):\n",
    "         out1, c1 = f(in1)\n",
    "         out2, c2 = g(out1)\n",
    "         return out2, c1 + c2\n",
    "    return res\n",
    "\n",
    "def fst((x,y)):\n",
    "    return x, []\n",
    "    \n",
    "def snd((x,y)):\n",
    "    return y, []\n",
    "\n"
   ]
  },
  {
   "cell_type": "markdown",
   "metadata": {},
   "source": [
    "Grobner models\n",
    "Can I approximate zero sets of poly / arbitrary functions with zero set of a polynomial? For 1-D it's a little  nonsesincal because algerbaic numbers need intervals anyway.\n",
    "\n",
    "Ising model:\n",
    "\n",
    "ApproxMC \n",
    "BDD - high temperature expansion (we largely don't care about what everyone does)\n",
    "ZDD - low tempurature expansion ( very sparse)\n",
    "\n",
    "\n",
    "Morton / Quadrtree ordering.\n",
    "\n",
    "\n"
   ]
  }
 ],
 "metadata": {
  "kernelspec": {
   "display_name": "Python 3",
   "language": "python",
   "name": "python3"
  },
  "language_info": {
   "codemirror_mode": {
    "name": "ipython",
    "version": 3
   },
   "file_extension": ".py",
   "mimetype": "text/x-python",
   "name": "python",
   "nbconvert_exporter": "python",
   "pygments_lexer": "ipython3",
   "version": "3.7.5"
  }
 },
 "nbformat": 4,
 "nbformat_minor": 2
}
