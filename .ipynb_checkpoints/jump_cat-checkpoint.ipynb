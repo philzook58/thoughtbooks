{
 "cells": [
  {
   "cell_type": "markdown",
   "metadata": {},
   "source": [
    "\n",
    "Relations and categories, while not being synonymous, are linked together in my mind. Many of the interesting concrete examples of categories are relations and the canonical examples of categroical axiom sets.\n",
    "\n",
    "Examples of categories:\n",
    "- Groups\n",
    "- Monoids\n",
    "- Sets\n",
    "- Preorders\n",
    "- Lattices\n",
    "- Relations\n",
    "\n",
    "\n",
    "A relation is a set where some pieces of each element are dstinguished as \"input\" and \"output\".\n",
    "Functions are an important example of a relation where for every possible input there is exactly one output. Functions really do have an input/output character as the two ends of a function are not interchangable.\n",
    "Relations enrich the possibilites given by functions and give an algebraic closure to many of the questions one might ask.\n",
    "Not all functions are invertible back into functions. Like the square root, sometimes there might be mutiple values that map to the same spot.\n",
    "However, a relation always has a converse. In the case the particular relation is also an inverttible function, the converse is the inverse.\n",
    "Unlike functions, Relations can be partially defined on their domain.\n",
    "\n",
    "\n",
    "Very informally, in some areas, partially defined functions and multi valued functions might still be called functions, but here we're going to call these things relations.\n",
    "\n",
    "\n",
    "\n",
    "\n",
    "\n",
    "A finding a point in a composition of many relations can be thought of as a feasibility problem.\n",
    "\n",
    "\n",
    "\n",
    "The standard optimization framework has a little more to it though. \n",
    "\n",
    "\n",
    "\n",
    "\n",
    "\n",
    "\n"
   ]
  }
 ],
 "metadata": {
  "kernelspec": {
   "display_name": "Julia 1.5.0",
   "language": "julia",
   "name": "julia-1.5"
  },
  "language_info": {
   "file_extension": ".jl",
   "mimetype": "application/julia",
   "name": "julia",
   "version": "1.5.0"
  }
 },
 "nbformat": 4,
 "nbformat_minor": 4
}
