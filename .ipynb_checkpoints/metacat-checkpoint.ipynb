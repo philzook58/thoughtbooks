{
 "cells": [
  {
   "cell_type": "code",
   "execution_count": 1,
   "metadata": {
    "collapsed": true,
    "jupyter": {
     "outputs_hidden": true
    }
   },
   "outputs": [
    {
     "name": "stderr",
     "output_type": "stream",
     "text": [
      "\u001b[32m\u001b[1m Activating\u001b[22m\u001b[39m new environment at `~/Documents/python/thoughtbooks/metacat/Project.toml`\n"
     ]
    },
    {
     "name": "stdout",
     "output_type": "stream",
     "text": [
      "\u001b[?25l    "
     ]
    },
    {
     "name": "stderr",
     "output_type": "stream",
     "text": [
      "\u001b[32m\u001b[1m    Cloning\u001b[22m\u001b[39m git-repo `git@github.com:AlgebraicJulia/Catlab.jl.git`\n"
     ]
    },
    {
     "name": "stdout",
     "output_type": "stream",
     "text": [
      "\u001b[2K\u001b[?25h\u001b[?25l    g:\u001b[22m\u001b[39m [========================================>]  100.0 %[36m\u001b[1mFetching:\u001b[22m\u001b[39m [=====>                                   ]  12.1 %\u001b[36m\u001b[1mFetching:\u001b[22m\u001b[39m [========>                                ]  17.9 %\u001b[36m\u001b[1mFetching:\u001b[22m\u001b[39m [=============>                           ]  32.3 %                 ]  56.3 %\u001b[36m\u001b[1mFetching:\u001b[22m\u001b[39m [=======================>                 ]  57.2 %>            ]  69.4 %\u001b[36m\u001b[1mFetching:\u001b[22m\u001b[39m [=============================>           ]  71.7 %>      ]  83.9 %=======================================> ]  96.1 %"
     ]
    },
    {
     "name": "stderr",
     "output_type": "stream",
     "text": [
      "\u001b[32m\u001b[1m   Updating\u001b[22m\u001b[39m git-repo `git@github.com:AlgebraicJulia/Catlab.jl.git`\n"
     ]
    },
    {
     "name": "stdout",
     "output_type": "stream",
     "text": [
      "\u001b[2K\u001b[?25h[1mFetching:\u001b[22m\u001b[39m [========================================>]  100.0 %                                ]  15.1 %>                     ]  45.3 % [=========================>               ]  60.4 %         ]  77.3 %=====================================>   ]  92.4 %"
     ]
    },
    {
     "name": "stderr",
     "output_type": "stream",
     "text": [
      "\u001b[32m\u001b[1m   Updating\u001b[22m\u001b[39m registry at `~/.julia/registries/General`\n"
     ]
    },
    {
     "name": "stdout",
     "output_type": "stream",
     "text": [
      "\u001b[?25l    "
     ]
    },
    {
     "name": "stderr",
     "output_type": "stream",
     "text": [
      "\u001b[32m\u001b[1m   Updating\u001b[22m\u001b[39m git-repo `https://github.com/JuliaRegistries/General.git`\n"
     ]
    },
    {
     "name": "stdout",
     "output_type": "stream",
     "text": [
      "\u001b[2K\u001b[?25h[1mFetching:\u001b[22m\u001b[39m [========================================>]  100.0 %2.2 %\u001b[36m\u001b[1mFetching:\u001b[22m\u001b[39m [=======>                                 ]  15.1 %>                             ]  27.2 %\u001b[36m\u001b[1mFetching:\u001b[22m\u001b[39m [================>                        ]  39.4 %>                   ]  51.5 %==========================>              ]  63.6 %]  75.7 %====================================>    ]  87.9 %"
     ]
    },
    {
     "name": "stderr",
     "output_type": "stream",
     "text": [
      "\u001b[32m\u001b[1m  Resolving\u001b[22m\u001b[39m package versions...\n",
      "\u001b[32m\u001b[1m  Installed\u001b[22m\u001b[39m Adapt ───────────── v3.2.0\n",
      "\u001b[32m\u001b[1m  Installed\u001b[22m\u001b[39m SplitApplyCombine ─ v1.1.4\n",
      "\u001b[32m\u001b[1m  Installed\u001b[22m\u001b[39m Parsers ─────────── v1.1.0\n",
      "\u001b[32m\u001b[1m  Installed\u001b[22m\u001b[39m Dictionaries ────── v0.3.8\n",
      "\u001b[32m\u001b[1m  Installed\u001b[22m\u001b[39m JuliaVariables ──── v0.2.4\n",
      "\u001b[32m\u001b[1m  Installed\u001b[22m\u001b[39m Requires ────────── v1.1.3\n",
      "\u001b[32m\u001b[1m  Installed\u001b[22m\u001b[39m TypedTables ─────── v1.2.4\n",
      "\u001b[32m\u001b[1m  Installed\u001b[22m\u001b[39m MLStyle ─────────── v0.4.9\n",
      "\u001b[32m\u001b[1m  Installed\u001b[22m\u001b[39m Indexing ────────── v1.1.1\n",
      "\u001b[32m\u001b[1m  Installed\u001b[22m\u001b[39m CanonicalTraits ─── v0.2.4\n",
      "\u001b[32m\u001b[1m  Installed\u001b[22m\u001b[39m Tables ──────────── v1.4.1\n",
      "\u001b[32m\u001b[1m  Installed\u001b[22m\u001b[39m ColorTypes ──────── v0.10.12\n",
      "\u001b[32m\u001b[1m  Installed\u001b[22m\u001b[39m Colors ──────────── v0.12.6\n",
      "\u001b[32m\u001b[1m  Installed\u001b[22m\u001b[39m Compose ─────────── v0.9.2\n",
      "\u001b[32m\u001b[1m  Installed\u001b[22m\u001b[39m PrettyTables ────── v0.11.1\n",
      "\u001b[32m\u001b[1mUpdating\u001b[22m\u001b[39m `~/Documents/python/thoughtbooks/metacat/Project.toml`\n",
      " \u001b[90m [134e5e36] \u001b[39m\u001b[92m+ Catlab v0.11.1 `git@github.com:AlgebraicJulia/Catlab.jl.git#master`\u001b[39m\n",
      "\u001b[32m\u001b[1mUpdating\u001b[22m\u001b[39m `~/Documents/python/thoughtbooks/metacat/Manifest.toml`\n",
      " \u001b[90m [79e6a3ab] \u001b[39m\u001b[92m+ Adapt v3.2.0\u001b[39m\n",
      " \u001b[90m [56f22d72] \u001b[39m\u001b[92m+ Artifacts v1.3.0\u001b[39m\n",
      " \u001b[90m [15f4f7f2] \u001b[39m\u001b[92m+ AutoHashEquals v0.2.0\u001b[39m\n",
      " \u001b[90m [a603d957] \u001b[39m\u001b[92m+ CanonicalTraits v0.2.4\u001b[39m\n",
      " \u001b[90m [134e5e36] \u001b[39m\u001b[92m+ Catlab v0.11.1 `git@github.com:AlgebraicJulia/Catlab.jl.git#master`\u001b[39m\n",
      " \u001b[90m [3da002f7] \u001b[39m\u001b[92m+ ColorTypes v0.10.12\u001b[39m\n",
      " \u001b[90m [5ae59095] \u001b[39m\u001b[92m+ Colors v0.12.6\u001b[39m\n",
      " \u001b[90m [34da2185] \u001b[39m\u001b[92m+ Compat v3.25.0\u001b[39m\n",
      " \u001b[90m [a81c6b42] \u001b[39m\u001b[92m+ Compose v0.9.2\u001b[39m\n",
      " \u001b[90m [a8cc5b0e] \u001b[39m\u001b[92m+ Crayons v4.0.4\u001b[39m\n",
      " \u001b[90m [9a962f9c] \u001b[39m\u001b[92m+ DataAPI v1.6.0\u001b[39m\n",
      " \u001b[90m [864edb3b] \u001b[39m\u001b[92m+ DataStructures v0.18.9\u001b[39m\n",
      " \u001b[90m [e2d170a0] \u001b[39m\u001b[92m+ DataValueInterfaces v1.0.0\u001b[39m\n",
      " \u001b[90m [85a47980] \u001b[39m\u001b[92m+ Dictionaries v0.3.8\u001b[39m\n",
      " \u001b[90m [53c48c17] \u001b[39m\u001b[92m+ FixedPointNumbers v0.8.4\u001b[39m\n",
      " \u001b[90m [59287772] \u001b[39m\u001b[92m+ Formatting v0.4.2\u001b[39m\n",
      " \u001b[90m [069b7b12] \u001b[39m\u001b[92m+ FunctionWrappers v1.1.1\u001b[39m\n",
      " \u001b[90m [6b9d7cbe] \u001b[39m\u001b[92m+ GeneralizedGenerated v0.2.8\u001b[39m\n",
      " \u001b[90m [313cdc1a] \u001b[39m\u001b[92m+ Indexing v1.1.1\u001b[39m\n",
      " \u001b[90m [c8e1da08] \u001b[39m\u001b[92m+ IterTools v1.3.0\u001b[39m\n",
      " \u001b[90m [82899510] \u001b[39m\u001b[92m+ IteratorInterfaceExtensions v1.0.0\u001b[39m\n",
      " \u001b[90m [692b3bcd] \u001b[39m\u001b[92m+ JLLWrappers v1.2.0\u001b[39m\n",
      " \u001b[90m [682c06a0] \u001b[39m\u001b[92m+ JSON v0.21.1\u001b[39m\n",
      " \u001b[90m [b14d175d] \u001b[39m\u001b[92m+ JuliaVariables v0.2.4\u001b[39m\n"
     ]
    },
    {
     "name": "stdout",
     "output_type": "stream",
     "text": [
      "\u001b[?25l    "
     ]
    },
    {
     "name": "stderr",
     "output_type": "stream",
     "text": [
      " \u001b[90m [94ce4f54] \u001b[39m\u001b[92m+ Libiconv_jll v1.16.0+7\u001b[39m\n",
      " \u001b[90m [9c8b4983] \u001b[39m\u001b[92m+ LightXML v0.9.0\u001b[39m\n",
      " \u001b[90m [d8e11817] \u001b[39m\u001b[92m+ MLStyle v0.4.9\u001b[39m\n",
      " \u001b[90m [442fdcdd] \u001b[39m\u001b[92m+ Measures v0.3.1\u001b[39m\n",
      " \u001b[90m [71a1bf82] \u001b[39m\u001b[92m+ NameResolution v0.1.5\u001b[39m\n",
      " \u001b[90m [bac558e1] \u001b[39m\u001b[92m+ OrderedCollections v1.4.0\u001b[39m\n",
      " \u001b[90m [d96e819e] \u001b[39m\u001b[92m+ Parameters v0.12.2\u001b[39m\n",
      " \u001b[90m [69de0a69] \u001b[39m\u001b[92m+ Parsers v1.1.0\u001b[39m\n",
      " \u001b[90m [8162dcfd] \u001b[39m\u001b[92m+ PrettyPrint v0.2.0\u001b[39m\n",
      " \u001b[90m [08abe8d2] \u001b[39m\u001b[92m+ PrettyTables v0.11.1\u001b[39m\n",
      " \u001b[90m [189a3867] \u001b[39m\u001b[92m+ Reexport v1.0.0\u001b[39m\n",
      " \u001b[90m [ae029012] \u001b[39m\u001b[92m+ Requires v1.1.3\u001b[39m\n",
      " \u001b[90m [03a91e81] \u001b[39m\u001b[92m+ SplitApplyCombine v1.1.4\u001b[39m\n",
      " \u001b[90m [90137ffa] \u001b[39m\u001b[92m+ StaticArrays v1.0.1\u001b[39m\n",
      " \u001b[90m [3783bdb8] \u001b[39m\u001b[92m+ TableTraits v1.0.0\u001b[39m\n",
      " \u001b[90m [bd369af6] \u001b[39m\u001b[92m+ Tables v1.4.1\u001b[39m\n",
      " \u001b[90m [9d95f2ec] \u001b[39m\u001b[92m+ TypedTables v1.2.4\u001b[39m\n",
      " \u001b[90m [3a884ed6] \u001b[39m\u001b[92m+ UnPack v1.0.2\u001b[39m\n",
      " \u001b[90m [02c8fc9c] \u001b[39m\u001b[92m+ XML2_jll v2.9.10+3\u001b[39m\n",
      " \u001b[90m [83775a58] \u001b[39m\u001b[92m+ Zlib_jll v1.2.11+18\u001b[39m\n",
      " \u001b[90m [2a0f44e3] \u001b[39m\u001b[92m+ Base64\u001b[39m\n",
      " \u001b[90m [ade2ca70] \u001b[39m\u001b[92m+ Dates\u001b[39m\n",
      " \u001b[90m [8bb1440f] \u001b[39m\u001b[92m+ DelimitedFiles\u001b[39m\n",
      " \u001b[90m [8ba89e20] \u001b[39m\u001b[92m+ Distributed\u001b[39m\n",
      " \u001b[90m [b77e0a4c] \u001b[39m\u001b[92m+ InteractiveUtils\u001b[39m\n",
      " \u001b[90m [76f85450] \u001b[39m\u001b[92m+ LibGit2\u001b[39m\n",
      " \u001b[90m [8f399da3] \u001b[39m\u001b[92m+ Libdl\u001b[39m\n",
      " \u001b[90m [37e2e46d] \u001b[39m\u001b[92m+ LinearAlgebra\u001b[39m\n",
      " \u001b[90m [56ddb016] \u001b[39m\u001b[92m+ Logging\u001b[39m\n",
      " \u001b[90m [d6f4376e] \u001b[39m\u001b[92m+ Markdown\u001b[39m\n",
      " \u001b[90m [a63ad114] \u001b[39m\u001b[92m+ Mmap\u001b[39m\n",
      " \u001b[90m [44cfe95a] \u001b[39m\u001b[92m+ Pkg\u001b[39m\n",
      " \u001b[90m [de0858da] \u001b[39m\u001b[92m+ Printf\u001b[39m\n",
      " \u001b[90m [3fa0cd96] \u001b[39m\u001b[92m+ REPL\u001b[39m\n",
      " \u001b[90m [9a3f8284] \u001b[39m\u001b[92m+ Random\u001b[39m\n",
      " \u001b[90m [ea8e919c] \u001b[39m\u001b[92m+ SHA\u001b[39m\n",
      " \u001b[90m [9e88b42a] \u001b[39m\u001b[92m+ Serialization\u001b[39m\n",
      " \u001b[90m [1a1011a3] \u001b[39m\u001b[92m+ SharedArrays\u001b[39m\n",
      " \u001b[90m [6462fe0b] \u001b[39m\u001b[92m+ Sockets\u001b[39m\n",
      " \u001b[90m [2f01184e] \u001b[39m\u001b[92m+ SparseArrays\u001b[39m\n",
      " \u001b[90m [10745b16] \u001b[39m\u001b[92m+ Statistics\u001b[39m\n",
      " \u001b[90m [8dfed614] \u001b[39m\u001b[92m+ Test\u001b[39m\n",
      " \u001b[90m [cf7118a7] \u001b[39m\u001b[92m+ UUIDs\u001b[39m\n",
      " \u001b[90m [4ec0a83e] \u001b[39m\u001b[92m+ Unicode\u001b[39m\n",
      "\u001b[32m\u001b[1m   Updating\u001b[22m\u001b[39m git-repo `https://github.com/0x0f0f0f/Metatheory.jl.git`\n"
     ]
    },
    {
     "name": "stdout",
     "output_type": "stream",
     "text": [
      "\u001b[2K\u001b[?25h[1mFetching:\u001b[22m\u001b[39m [========================================>]  100.0 %          ]  74.5 %"
     ]
    },
    {
     "name": "stderr",
     "output_type": "stream",
     "text": [
      "\u001b[32m\u001b[1m  Resolving\u001b[22m\u001b[39m package versions...\n",
      "\u001b[32m\u001b[1mUpdating\u001b[22m\u001b[39m `~/Documents/python/thoughtbooks/metacat/Project.toml`\n",
      " \u001b[90m [e9d8d322] \u001b[39m\u001b[92m+ Metatheory v0.2.1 `https://github.com/0x0f0f0f/Metatheory.jl.git#master`\u001b[39m\n",
      "\u001b[32m\u001b[1mUpdating\u001b[22m\u001b[39m `~/Documents/python/thoughtbooks/metacat/Manifest.toml`\n",
      " \u001b[90m [ffbed154] \u001b[39m\u001b[92m+ DocStringExtensions v0.8.3\u001b[39m\n",
      " \u001b[90m [e2ba6199] \u001b[39m\u001b[92m+ ExprTools v0.1.3\u001b[39m\n",
      " \u001b[90m [5dd3f0b1] \u001b[39m\u001b[92m+ MatchCore v0.1.0\u001b[39m\n",
      " \u001b[90m [e9d8d322] \u001b[39m\u001b[92m+ Metatheory v0.2.1 `https://github.com/0x0f0f0f/Metatheory.jl.git#master`\u001b[39m\n",
      " \u001b[90m [7e49a35a] \u001b[39m\u001b[92m+ RuntimeGeneratedFunctions v0.5.1\u001b[39m\n",
      "┌ Info: Precompiling Metatheory [e9d8d322-4543-424a-9be4-0cc815abe26c]\n",
      "└ @ Base loading.jl:1278\n",
      "┌ Info: NOTE: The current implementation of the Metatheory library currently works\n",
      "└ correctly only with the EGraphs backend.\n",
      "┌ Info: Precompiling Catlab [134e5e36-593f-5add-ad60-77f754baafbe]\n",
      "└ @ Base loading.jl:1278\n"
     ]
    }
   ],
   "source": [
    "using Pkg\n",
    "Pkg.activate(\"metacat\")\n",
    "Pkg.add(url=\"git@github.com:AlgebraicJulia/Catlab.jl.git\")\n",
    "Pkg.add(url=\"https://github.com/0x0f0f0f/Metatheory.jl.git\")\n",
    "using Metatheory\n",
    "using Metatheory.EGraphs\n",
    "\n",
    "using Catlab\n",
    "using Catlab.Theories"
   ]
  },
  {
   "cell_type": "markdown",
   "metadata": {},
   "source": [
    "https://github.com/AlgebraicJulia/Catlab.jl/blob/master/src/core/GAT.jl\n"
   ]
  },
  {
   "cell_type": "code",
   "execution_count": 17,
   "metadata": {},
   "outputs": [
    {
     "data": {
      "text/plain": [
       "2-element Array{Catlab.GAT.TermConstructor,1}:\n",
       " Catlab.GAT.TermConstructor(:id, [:A], :(Hom(A, A)), OrderedCollections.OrderedDict{Symbol,Union{Expr, Symbol}}(:A => :Ob), nothing)\n",
       " Catlab.GAT.TermConstructor(:compose, [:f, :g], :(Hom(A, C)), OrderedCollections.OrderedDict{Symbol,Union{Expr, Symbol}}(:A => :Ob,:B => :Ob,:C => :Ob,:f => :(Hom(A, B)),:g => :(Hom(B, C))), nothing)"
      ]
     },
     "execution_count": 17,
     "metadata": {},
     "output_type": "execute_result"
    }
   ],
   "source": [
    "theory(Category).axioms\n",
    "theory(Category).types\n",
    "theory(Category).terms"
   ]
  },
  {
   "cell_type": "code",
   "execution_count": 16,
   "metadata": {},
   "outputs": [
    {
     "data": {
      "text/plain": [
       "2-element Array{Any,1}:\n",
       " :(dom(type(Hom(dom, codom))) => dom)\n",
       " :(codom(type(Hom(dom, codom))) => codom)"
      ]
     },
     "execution_count": 16,
     "metadata": {},
     "output_type": "execute_result"
    }
   ],
   "source": [
    "function convert_types(types)\n",
    "    ret = []\n",
    "    for typ in types\n",
    "        for accessor in typ.params\n",
    "            lhs = Expr(:call, accessor, Expr(:call , :type, Expr(:call,  typ.name, hom.params... )))\n",
    "            push!(ret, :( $lhs => $accessor ))\n",
    "        end\n",
    "    end\n",
    "    return ret\n",
    "end\n",
    "convert_types( theory(Category).types)"
   ]
  },
  {
   "cell_type": "code",
   "execution_count": 124,
   "metadata": {},
   "outputs": [
    {
     "data": {
      "text/plain": [
       "Int64[]"
      ]
     },
     "execution_count": 124,
     "metadata": {},
     "output_type": "execute_result"
    }
   ],
   "source": [
    "[1][2:end]"
   ]
  },
  {
   "cell_type": "code",
   "execution_count": 129,
   "metadata": {},
   "outputs": [
    {
     "data": {
      "text/plain": [
       "false"
      ]
     },
     "execution_count": 129,
     "metadata": {},
     "output_type": "execute_result"
    }
   ],
   "source": [
    "#symbols(e) = Set()\n",
    "symbols(e::Expr) = length(e.args) > 1 ? reduce(union, symbols.(e.args[2:end]) ) : Set([])\n",
    "symbols(s::Symbol) = Set([s])\n",
    "\n",
    "setdiff(symbols(:(f(a,b,g(a,c))))  ,Set([:a]))\n",
    "isempty([3])"
   ]
  },
  {
   "cell_type": "code",
   "execution_count": 100,
   "metadata": {},
   "outputs": [
    {
     "data": {
      "text/plain": [
       "type_finder_dict (generic function with 1 method)"
      ]
     },
     "execution_count": 100,
     "metadata": {},
     "output_type": "execute_result"
    }
   ],
   "source": [
    "find_field(typ::Expr, a) = findfirst(x -> x == a, typ.args[2:end])\n",
    "find_field(typ::Symbol, a) = nothing\n",
    "function find_context(context, a)\n",
    "    for (f,typ) in context\n",
    "        i = find_field(typ,a)\n",
    "        if i != nothing\n",
    "            return (f,typ,i)\n",
    "        end\n",
    "    end\n",
    "end\n",
    "\n",
    "find_field(:(Hom(A,B)), :C)\n",
    "find_context(Dict(:f => :(Hom(A,B))), :A)\n",
    "\n",
    "function build_type_finder(ctx, u) # builds functional form of extractor from context.\n",
    "    ident, typ, pos = find_context(ctx, u) \n",
    "    u => :(proj($pos, type($ident )))\n",
    "end\n",
    "\n",
    "type_finder_dict(ctx, unknowns) = Dict([ build_type_finder(ctx, u) for u in unknowns])\n"
   ]
  },
  {
   "cell_type": "code",
   "execution_count": 98,
   "metadata": {},
   "outputs": [
    {
     "data": {
      "text/plain": [
       "replace (generic function with 2 methods)"
      ]
     },
     "execution_count": 98,
     "metadata": {},
     "output_type": "execute_result"
    }
   ],
   "source": [
    "replace(e::Symbol, ud) = begin\n",
    "    #println(e)\n",
    "    haskey(ud,e) ?  ( ud[e])  : e\n",
    "end\n",
    "replace(e::Expr, unknown_replace_dict) = begin\n",
    "    Expr(e.head, e.args[1], [ replace(a, unknown_replace_dict) for a in e.args[2:end] ]... ) end"
   ]
  },
  {
   "cell_type": "code",
   "execution_count": 101,
   "metadata": {},
   "outputs": [
    {
     "data": {
      "text/plain": [
       "2-element Array{Any,1}:\n",
       " :(type(id(A)) => Hom(A, A))\n",
       " :(type(compose(f, g)) => Hom(proj(1, type(f)), proj(2, type(g))))"
      ]
     },
     "execution_count": 101,
     "metadata": {},
     "output_type": "execute_result"
    }
   ],
   "source": [
    "function type_terms(terms)\n",
    "    ret = []\n",
    "    for term in terms\n",
    "        lhs = Expr(:call , :type, Expr(:call,  term.name, term.params... ))\n",
    "        \n",
    "        \n",
    "        known = Set(term.params)\n",
    "        unknowns = setdiff(symbols(term.typ) , known)\n",
    "\n",
    "        \n",
    "        unknown_replace_dict = type_finder_dict(term.context, unknowns)\n",
    "        builtterm = replace(term.typ, unknown_replace_dict)\n",
    "        #println(unknown_replace_dict)\n",
    "        #println(builtterm)\n",
    "        #=\n",
    "        typ_map = Dict()\n",
    "        \n",
    "        while !isempty(unknowns)\n",
    "            u = pop!(unknowns)\n",
    "            push!(known, u)\n",
    "            type_u = term.context[u]\n",
    "            typ_map[u] = type_u\n",
    "            unknowns = unknowns ∪ (setdiff(symbols(type_u) , known ))\n",
    "        end\n",
    "        println(typ_map)\n",
    "        =#\n",
    "        push!(ret, :( $lhs => $(builtterm)))\n",
    "    end\n",
    "    return ret\n",
    "end\n",
    "type_terms( theory(Category).terms )\n",
    "\n",
    "# If we want to go with the accessor encoding, We need to lookup parameters on the right hand side\n",
    "\n",
    "\n",
    "# I should possible use metatheory to do replacement\n"
   ]
  },
  {
   "cell_type": "code",
   "execution_count": 131,
   "metadata": {},
   "outputs": [
    {
     "data": {
      "text/plain": [
       "22-element Array{Any,1}:\n",
       " :(compose(compose(f, g), h) => compose(f, compose(g, h)))\n",
       " :(compose(f, compose(g, h)) => compose(compose(f, g), h))\n",
       " :(compose(f, id(B)) => f)\n",
       " :(f => compose(f, id(proj(2, type(f)))))\n",
       " :(compose(id(A), f) => f)\n",
       " :(f => compose(id(proj(1, type(f))), f))\n",
       " :(otimes(otimes(A, B), C) => otimes(A, otimes(B, C)))\n",
       " :(otimes(A, otimes(B, C)) => otimes(otimes(A, B), C))\n",
       " :(otimes(munit(), A) => A)\n",
       " :(A => otimes(munit(), A))\n",
       " :(otimes(A, munit()) => A)\n",
       " :(A => otimes(A, munit()))\n",
       " :(otimes(otimes(f, g), h) => otimes(f, otimes(g, h)))\n",
       " :(otimes(f, otimes(g, h)) => otimes(otimes(f, g), h))\n",
       " :(otimes(id(munit()), f) => f)\n",
       " :(f => otimes(id(munit()), f))\n",
       " :(otimes(f, id(munit())) => f)\n",
       " :(f => otimes(f, id(munit())))\n",
       " :(compose(otimes(f, g), otimes(h, k)) => otimes(compose(f, h), compose(g, k)))\n",
       " :(otimes(compose(f, h), compose(g, k)) => compose(otimes(f, g), otimes(h, k)))\n",
       " :(id(otimes(A, B)) => otimes(id(A), id(B)))\n",
       " :(otimes(id(A), id(B)) => id(otimes(A, B)))"
      ]
     },
     "execution_count": 131,
     "metadata": {},
     "output_type": "execute_result"
    }
   ],
   "source": [
    "# should I make these function singular and just map them?\n",
    "function convert_axioms(axioms)\n",
    "    ret = []\n",
    "    for axiom in axioms\n",
    "        #lhs = Expr(:call , :type, Expr(:call,  term.name, term.params... ))\n",
    "        #println(axiom)\n",
    "\n",
    "        leftsyms = symbols(axiom.left)\n",
    "        rightsyms = symbols(axiom.right)\n",
    "        # left to right\n",
    "        unknowns = setdiff(rightsyms, leftsyms)\n",
    "        #println(unknowns)\n",
    "        #println([ find_context(axiom.context, u) for u in unknowns])\n",
    "        d = type_finder_dict(axiom.context, unknowns)\n",
    "        newright = replace(axiom.right, d)\n",
    "        push!(ret, :( $(axiom.left) => $(newright)))\n",
    "        \n",
    "        \n",
    "        unknowns = setdiff(leftsyms, rightsyms)\n",
    "        d = type_finder_dict(axiom.context, unknowns)\n",
    "        newleft = replace(axiom.left, d)\n",
    "        push!(ret, :( $(axiom.right) => $(newleft)))\n",
    "    end\n",
    "    return ret\n",
    "end\n",
    "#convert_axioms( theory(Category).axioms)\n",
    "convert_axioms( theory(MonoidalCategory).axioms)\n",
    "#theory(MonoidalCategory).axioms"
   ]
  },
  {
   "cell_type": "markdown",
   "metadata": {},
   "source": [
    "Right, so now I need to collect up the necessary typing equations from the right hand side.\n",
    "I can delete those already implied by the typing equations of the left hand side as an optimization.\n",
    "\n",
    "\n"
   ]
  },
  {
   "cell_type": "code",
   "execution_count": 150,
   "metadata": {},
   "outputs": [
    {
     "name": "stdout",
     "output_type": "stream",
     "text": [
      "otimes(f, id(a))\n",
      "id(a)\n"
     ]
    },
    {
     "data": {
      "text/plain": [
       "4-element Array{Any,1}:\n",
       "       :f => :Ob\n",
       " :(id(a)) => :Ob\n",
       "           nothing\n",
       "           Union{Nothing, Pair{Symbol,Symbol}}[:a => :Ob, nothing]"
      ]
     },
     "execution_count": 150,
     "metadata": {},
     "output_type": "execute_result"
    }
   ],
   "source": [
    "function find_term(termcons, n)\n",
    "    for termcon in termcons\n",
    "        if termcon.name == n\n",
    "            return termcon\n",
    "        end\n",
    "    end\n",
    "end\n",
    "\n",
    "function typing_equuations(theory,s::Symbol)\n",
    "    return []\n",
    "end\n",
    "function typing_equations(theory, e::Expr)\n",
    "    @assert e.head == :call\n",
    "    name = e.args[1]\n",
    "    term_con = find_term(theory.terms, name)\n",
    "    println(e)\n",
    "    #freshparams = [p => gensym(p)  for p in term_con.params ]    \n",
    "    #rec_equations = [ kv[2] => a  for (kv,a)  in   zip(freshparams, e.args[2:end]) ]\n",
    "    rec_equations = [k => v for (k,v) in zip(term_con.params, e.args[2:end])]\n",
    "    r2 = [  replace( k, Dict(rec_equations)) => replace( v, Dict(rec_equations))  for (k,v) in term_con.context]\n",
    "    r3 = [ typing_equations(theory, a) for a in e.args[2:end] ]\n",
    "    return vcat(r2,r3)\n",
    "    \n",
    "end\n",
    "typing_equations( theory(MonoidalCategory), :(otimes(f,id(a))) )\n"
   ]
  },
  {
   "cell_type": "code",
   "execution_count": 103,
   "metadata": {},
   "outputs": [
    {
     "ename": "LoadError",
     "evalue": "syntax: missing comma or ) in argument list",
     "output_type": "error",
     "traceback": [
      "syntax: missing comma or ) in argument list",
      "",
      "Stacktrace:",
      " [1] top-level scope at In[103]:6",
      " [2] include_string(::Function, ::Module, ::String, ::String) at ./loading.jl:1091"
     ]
    }
   ],
   "source": [
    "dump(Metatheory.@theory begin\n",
    "  foo |>\n",
    "        # reconstruct the sub\n",
    "        sub = ImmutableDict(:a => a, :b => b )\n",
    "        for id in _egrpha.clases\n",
    "            ematchstep( _egraph,   :( hom(a,b)) , id  buf=SubBuf(sub))\n",
    "        end\n",
    "        # Hmm. We also want to assert EClass constraints. Uh. no we can do that via the sub.\n",
    "        # Yeah, this pattern match is a disaster.\n",
    "        \n",
    "    end)\n",
    "# i could explicility reconstruct the sub, as wacky as that is.\n",
    "\n",
    "# This approach is a disaster. Nice! Ok, so the thing i settled on seems pretty good\n"
   ]
  },
  {
   "cell_type": "code",
   "execution_count": null,
   "metadata": {},
   "outputs": [],
   "source": []
  }
 ],
 "metadata": {
  "kernelspec": {
   "display_name": "Julia 1.6.0",
   "language": "julia",
   "name": "julia-1.6"
  },
  "language_info": {
   "file_extension": ".jl",
   "mimetype": "application/julia",
   "name": "julia",
   "version": "1.6.0"
  }
 },
 "nbformat": 4,
 "nbformat_minor": 4
}
