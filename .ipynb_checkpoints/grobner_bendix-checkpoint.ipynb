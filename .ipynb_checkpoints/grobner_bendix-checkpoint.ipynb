{
 "cells": [
  {
   "cell_type": "markdown",
   "metadata": {},
   "source": [
    "maybe I should do a shitty grobner basis algo, Just cause it might be useful to have access to guts.\n",
    "\n",
    "\n",
    "Operads grobner https://www.maths.tcd.ie/~vdots/AlgebraicOperadsAnAlgorithmicCompanion.pdf What the heck. From Evan's site\n",
    "\n",
    "Archived:\n",
    "https://github.com/tkluck/FGb.jl\n",
    "\n",
    "\n",
    "\n",
    "Also, could finally try to understand knuth bendix\n",
    "\n",
    "What is the general procedure:\n",
    "\n",
    "determine a monomial ordering\n",
    "\n",
    "\n"
   ]
  },
  {
   "cell_type": "code",
   "execution_count": null,
   "metadata": {},
   "outputs": [],
   "source": [
    "Set{Array{T}} # represent a linear subspace as a set of vectors\n",
    "# term ordering\n",
    "\n",
    "\n",
    "l\n",
    "lt\n",
    "lc\n",
    "reduce( a , Set )\n",
    "reduce( a , b )\n"
   ]
  }
 ],
 "metadata": {
  "kernelspec": {
   "display_name": "Julia 1.4.1",
   "language": "julia",
   "name": "julia-1.4"
  },
  "language_info": {
   "file_extension": ".jl",
   "mimetype": "application/julia",
   "name": "julia",
   "version": "1.4.1"
  }
 },
 "nbformat": 4,
 "nbformat_minor": 4
}
