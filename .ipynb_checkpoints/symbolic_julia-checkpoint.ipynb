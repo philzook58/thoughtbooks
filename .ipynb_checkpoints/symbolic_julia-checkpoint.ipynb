{
 "cells": [
  {
   "cell_type": "code",
   "execution_count": null,
   "metadata": {},
   "outputs": [],
   "source": [
    "using SymbolicUtils\n",
    "using Revise"
   ]
  },
  {
   "cell_type": "code",
   "execution_count": 76,
   "metadata": {},
   "outputs": [
    {
     "data": {
      "text/plain": [
       "(x, y, c, z, f(::Number)::Real, diff2(::Real)::Real, int2(::Real)::Real)"
      ]
     },
     "execution_count": 76,
     "metadata": {},
     "output_type": "execute_result"
    }
   ],
   "source": [
    "@syms x::Real y::Real c::Real z::Complex f(::Number)::Real diff2(::Real)::Real int2(::Real)::Real"
   ]
  },
  {
   "cell_type": "code",
   "execution_count": 5,
   "metadata": {},
   "outputs": [
    {
     "data": {
      "text/plain": [
       "\u001b[33m\u001b[33m\u001b[33m(\u001b[39m\u001b[33m3\u001b[39m\u001b[33m * \u001b[39m\u001b[33m\u001b[33m(\u001b[39m\u001b[33mx\u001b[39m\u001b[33m ^ \u001b[39m\u001b[33m2\u001b[39m\u001b[33m)\u001b[39m\u001b[39m\u001b[33m)\u001b[39m\u001b[39m\u001b[33m + \u001b[39m\u001b[33m\u001b[33m(\u001b[39m\u001b[33m-1\u001b[39m\u001b[33m * \u001b[39m\u001b[33my\u001b[39m\u001b[33m)\u001b[39m\u001b[39m\u001b[39m"
      ]
     },
     "execution_count": 5,
     "metadata": {},
     "output_type": "execute_result"
    }
   ],
   "source": [
    " 2x^2 - y + x^2"
   ]
  },
  {
   "cell_type": "code",
   "execution_count": 40,
   "metadata": {},
   "outputs": [
    {
     "data": {
      "text/plain": [
       "false"
      ]
     },
     "execution_count": 40,
     "metadata": {},
     "output_type": "execute_result"
    }
   ],
   "source": [
    "x isa Number"
   ]
  },
  {
   "cell_type": "code",
   "execution_count": 88,
   "metadata": {},
   "outputs": [
    {
     "data": {
      "text/plain": [
       "\u001b[33m\u001b[33m1\u001b[39m\u001b[33m + \u001b[39m\u001b[33m\u001b[33m(\u001b[39m\u001b[33m2\u001b[39m\u001b[33m * \u001b[39m\u001b[33mx\u001b[39m\u001b[33m)\u001b[39m\u001b[39m\u001b[39m"
      ]
     },
     "execution_count": 88,
     "metadata": {},
     "output_type": "execute_result"
    }
   ],
   "source": [
    "#dplus = @rule +(~~xs) => map(fun )\n",
    "dx = @rule diff2(x) => 1\n",
    "#dexp = @rule diff(~x ^ ~n) => ~n * diff(~x) * ~x ^ (~n - 1) \n",
    "dmult = @rule diff2( ~x * ~y) => diff2(~x) * ~y + ~x * diff2(~y) \n",
    "dplus = @rule diff2( ~x + ~y ) => diff2(~x) + diff2(~y)\n",
    "rset = RuleSet([dx,dmult,dplus])\n",
    "rset(rset( diff2(x + x * x ) ))\n",
    "\n",
    "\n",
    "\n",
    "#fixpoint(rset, 2 * (x + 1))"
   ]
  },
  {
   "cell_type": "code",
   "execution_count": 104,
   "metadata": {},
   "outputs": [
    {
     "data": {
      "text/plain": [
       "\u001b[33m\u001b[33m0.3333333333333333\u001b[39m\u001b[33m * \u001b[39m\u001b[33m\u001b[33m(\u001b[39m\u001b[33mx\u001b[39m\u001b[33m ^ \u001b[39m\u001b[33m3\u001b[39m\u001b[33m)\u001b[39m\u001b[39m\u001b[39m"
      ]
     },
     "execution_count": 104,
     "metadata": {},
     "output_type": "execute_result"
    }
   ],
   "source": [
    "ipow = @rule int2(x ^ ~n) => x ^ (~n + 1) / (~n + 1) \n",
    "\n",
    "iconst = @rule int2( ~n::(n -> n isa Number) ) => ~n * x + c\n",
    "ix = @rule int2(x) => x^2 / 2\n",
    "iplus = @rule int2(+(~~y)) => sum(map(y -> int2(y) ,~~y))\n",
    "imulconst = @rule int2( ~n::(n -> n isa Number) * ~x ) => ~n * int2(~x)\n",
    "imulconst2 = @rule int2( ~x * ~n::(n -> n isa Number) ) => ~n * int2(~x)\n",
    "imul = @rule int2(~u * ~dv) => ~u * int2(~dv) - int2(diff2(~u) * int2(~dv))\n",
    "ifund = @rule int2(diff2(~x)) => ~x + c\n",
    "idiffint = @rule diff2(int2(~x)) => ~x\n",
    "icos = @rule int2(cos(x)) => sin(x) + c\n",
    "isin = @rule int2(sin(x)) => -cos(x) + c\n",
    "diffc = @rule diff2(c) => 0\n",
    "\n",
    "# subs(x, ~a) => a\n",
    "# subs(~f(~y) , ~a ) => f(subs(~y , ~a)\n",
    "\n",
    "rset = RuleSet([iconst,ipow, ix, dx, imulconst, dmult, dplus, iplus, ifund, idiffint, isin, icos])\n",
    "rset(rset( int2(3 + x + 7 + x ^ 3) ))\n",
    "rset( int2(diff2( 3  )))\n",
    "rset(imul(int2(x * x  )))\n",
    "rset(simplify(int2(x * x)))\n",
    "\n"
   ]
  },
  {
   "cell_type": "markdown",
   "metadata": {},
   "source": [
    "integratin and differentiation are adjoint in the sense of linear algebra. a quadratcic form, you can integrate by parts. or cnsidering the finite difference matrix and it's transpose.  Are they adjoint in the sense of catgeoyr theory? From a symbolic perspective, they are both binding forms  (? integration this seems more straightforward. For derivative this is not obvious. This is what sicm says though. If we consider the function to be lambda bound. Then differentiation creates a variable, which you apply your original function to, but then it also outputs  a function.  ). There feels like a simlairty to the case of forall, exists, and weakening."
   ]
  },
  {
   "cell_type": "code",
   "execution_count": 6,
   "metadata": {},
   "outputs": [
    {
     "data": {
      "text/plain": [
       "\u001b[33m\u001b[33m\u001b[33mf(\u001b[39m\u001b[33m1\u001b[39m\u001b[33m)\u001b[39m\u001b[39m\u001b[33m + \u001b[39m\u001b[33mz\u001b[39m\u001b[39m"
      ]
     },
     "execution_count": 6,
     "metadata": {},
     "output_type": "execute_result"
    }
   ],
   "source": [
    "f(sin(x)^2 + cos(x)^2) + z"
   ]
  },
  {
   "cell_type": "code",
   "execution_count": 7,
   "metadata": {},
   "outputs": [
    {
     "data": {
      "text/plain": [
       "sinh(im * ~x) => sin(~x)"
      ]
     },
     "execution_count": 7,
     "metadata": {},
     "output_type": "execute_result"
    }
   ],
   "source": [
    "r = @rule sinh(im * ~x) => sin(~x)"
   ]
  },
  {
   "cell_type": "code",
   "execution_count": 8,
   "metadata": {},
   "outputs": [
    {
     "data": {
      "text/plain": [
       "\u001b[37m\u001b[37msin(\u001b[39m\u001b[37my\u001b[39m\u001b[37m)\u001b[39m\u001b[39m"
      ]
     },
     "execution_count": 8,
     "metadata": {},
     "output_type": "execute_result"
    }
   ],
   "source": [
    "r(sinh(im * y))"
   ]
  },
  {
   "cell_type": "code",
   "execution_count": 2,
   "metadata": {},
   "outputs": [
    {
     "data": {
      "text/plain": [
       ":x"
      ]
     },
     "execution_count": 2,
     "metadata": {},
     "output_type": "execute_result"
    }
   ],
   "source": [
    ":x"
   ]
  },
  {
   "cell_type": "code",
   "execution_count": 4,
   "metadata": {},
   "outputs": [
    {
     "data": {
      "text/plain": [
       "quote\n",
       "    #= In[4]:1 =#\n",
       "    a\n",
       "    #= In[4]:2 =#\n",
       "    b\n",
       "    #= In[4]:3 =#\n",
       "    c\n",
       "    #= In[4]:4 =#\n",
       "    d\n",
       "end"
      ]
     },
     "execution_count": 4,
     "metadata": {},
     "output_type": "execute_result"
    }
   ],
   "source": [
    "quote a \n",
    "    b\n",
    "    c\n",
    "    d\n",
    "end"
   ]
  },
  {
   "cell_type": "code",
   "execution_count": 9,
   "metadata": {},
   "outputs": [
    {
     "data": {
      "text/plain": [
       "Expr"
      ]
     },
     "execution_count": 9,
     "metadata": {},
     "output_type": "execute_result"
    }
   ],
   "source": [
    "typeof(:(1 + x))"
   ]
  },
  {
   "cell_type": "code",
   "execution_count": 10,
   "metadata": {},
   "outputs": [
    {
     "data": {
      "text/plain": [
       "Symbol"
      ]
     },
     "execution_count": 10,
     "metadata": {},
     "output_type": "execute_result"
    }
   ],
   "source": [
    "typeof(:x)"
   ]
  },
  {
   "cell_type": "code",
   "execution_count": 13,
   "metadata": {},
   "outputs": [
    {
     "data": {
      "text/plain": [
       "true"
      ]
     },
     "execution_count": 13,
     "metadata": {},
     "output_type": "execute_result"
    }
   ],
   "source": [
    "1 == :1"
   ]
  },
  {
   "cell_type": "code",
   "execution_count": 16,
   "metadata": {},
   "outputs": [
    {
     "data": {
      "text/plain": [
       ":([1 2 3])"
      ]
     },
     "execution_count": 16,
     "metadata": {},
     "output_type": "execute_result"
    }
   ],
   "source": [
    ":([1  2 3 ])"
   ]
  },
  {
   "cell_type": "code",
   "execution_count": 21,
   "metadata": {},
   "outputs": [
    {
     "data": {
      "text/plain": [
       "(:head, :args)"
      ]
     },
     "execution_count": 21,
     "metadata": {},
     "output_type": "execute_result"
    }
   ],
   "source": [
    "fieldnames(typeof(:[1 2 3]))"
   ]
  },
  {
   "cell_type": "code",
   "execution_count": 25,
   "metadata": {},
   "outputs": [
    {
     "data": {
      "text/plain": [
       "3-element Array{Any,1}:\n",
       " 1\n",
       " 2\n",
       " 3"
      ]
     },
     "execution_count": 25,
     "metadata": {},
     "output_type": "execute_result"
    }
   ],
   "source": [
    ":[1 2 3].args"
   ]
  },
  {
   "cell_type": "code",
   "execution_count": 27,
   "metadata": {},
   "outputs": [
    {
     "data": {
      "text/plain": [
       "3-element Array{Any,1}:\n",
       "  :+\n",
       " 1  \n",
       " 2  "
      ]
     },
     "execution_count": 27,
     "metadata": {},
     "output_type": "execute_result"
    }
   ],
   "source": [
    ":(1 + 2).args"
   ]
  },
  {
   "cell_type": "code",
   "execution_count": 28,
   "metadata": {},
   "outputs": [
    {
     "data": {
      "text/plain": [
       "3"
      ]
     },
     "execution_count": 28,
     "metadata": {},
     "output_type": "execute_result"
    }
   ],
   "source": [
    "eval(:(1 + 2))"
   ]
  },
  {
   "cell_type": "code",
   "execution_count": 119,
   "metadata": {},
   "outputs": [
    {
     "data": {
      "text/plain": [
       "@myvar (macro with 1 method)"
      ]
     },
     "execution_count": 119,
     "metadata": {},
     "output_type": "execute_result"
    }
   ],
   "source": [
    "macro myvar(v)\n",
    "    show(v)\n",
    "    show(:($v = 3).head)\n",
    "    return (v = 3)\n",
    "end"
   ]
  },
  {
   "cell_type": "code",
   "execution_count": 120,
   "metadata": {},
   "outputs": [
    {
     "name": "stdout",
     "output_type": "stream",
     "text": [
      ":z:(=)"
     ]
    },
    {
     "ename": "UndefVarError",
     "evalue": "UndefVarError: z not defined",
     "output_type": "error",
     "traceback": [
      "UndefVarError: z not defined",
      "",
      "Stacktrace:",
      " [1] top-level scope at In[120]:2"
     ]
    }
   ],
   "source": [
    "@myvar z\n",
    "z\n"
   ]
  },
  {
   "cell_type": "code",
   "execution_count": 107,
   "metadata": {},
   "outputs": [
    {
     "data": {
      "text/plain": [
       "3"
      ]
     },
     "execution_count": 107,
     "metadata": {},
     "output_type": "execute_result"
    }
   ],
   "source": [
    "x"
   ]
  },
  {
   "cell_type": "code",
   "execution_count": 105,
   "metadata": {},
   "outputs": [
    {
     "data": {
      "text/plain": [
       ":(3 = 3)"
      ]
     },
     "execution_count": 105,
     "metadata": {},
     "output_type": "execute_result"
    }
   ],
   "source": [
    ":($(y) = 3)"
   ]
  },
  {
   "cell_type": "code",
   "execution_count": 106,
   "metadata": {},
   "outputs": [
    {
     "data": {
      "text/plain": [
       "3"
      ]
     },
     "execution_count": 106,
     "metadata": {},
     "output_type": "execute_result"
    }
   ],
   "source": [
    "eval( :(x = 3)  )"
   ]
  },
  {
   "cell_type": "code",
   "execution_count": 88,
   "metadata": {},
   "outputs": [
    {
     "data": {
      "text/plain": [
       "@diff (macro with 1 method)"
      ]
     },
     "execution_count": 88,
     "metadata": {},
     "output_type": "execute_result"
    }
   ],
   "source": [
    "macro diff(expr)\n",
    "    show(expr)\n",
    "    if typeof(expr) == Symbol\n",
    "        if expr == :x\n",
    "            return :1\n",
    "        end\n",
    "    elseif expr.head == :call\n",
    "        \n",
    "        if expr.args[1] == :+\n",
    "            show(expr.args[2])\n",
    "            show(expr.args[3])\n",
    "            return :( @diff( $(expr.args[2])) + @diff($(expr.args[3]) )) #  :( sum(   [ diff(e) for e in expr.args[2:end] ]   ))\n",
    "        end\n",
    "    else\n",
    "        return :foo\n",
    "    end\n",
    "end\n",
    "    "
   ]
  },
  {
   "cell_type": "code",
   "execution_count": 143,
   "metadata": {},
   "outputs": [
    {
     "name": "stdout",
     "output_type": "stream",
     "text": [
      ":(x + x):x:x:x:x"
     ]
    },
    {
     "data": {
      "text/plain": [
       ":(1 + 1)"
      ]
     },
     "execution_count": 143,
     "metadata": {},
     "output_type": "execute_result"
    }
   ],
   "source": [
    "macroexpand(Main, :(@diff(x + x)))"
   ]
  },
  {
   "cell_type": "code",
   "execution_count": 58,
   "metadata": {},
   "outputs": [
    {
     "data": {
      "text/plain": [
       ":call"
      ]
     },
     "execution_count": 58,
     "metadata": {},
     "output_type": "execute_result"
    }
   ],
   "source": [
    "\n",
    ":(x + x).head "
   ]
  },
  {
   "cell_type": "code",
   "execution_count": 135,
   "metadata": {},
   "outputs": [],
   "source": [
    "struct PlusIntCat \n",
    "   n :: Int64\n",
    "end\n",
    "\n",
    "struct PlusIntObj end\n"
   ]
  },
  {
   "cell_type": "code",
   "execution_count": 134,
   "metadata": {},
   "outputs": [],
   "source": [
    "dom(::PlusIntCat) = ()\n",
    "cod(::PlusIntCat) = ()\n",
    "id( ::PlusIntCat ) = PlusIntCat(0)\n",
    "\n",
    "Base.:∘(a::PlusIntCat, b::PlusIntCat) = PlusIntCat(a.n + b.n)"
   ]
  },
  {
   "cell_type": "code",
   "execution_count": 199,
   "metadata": {},
   "outputs": [
    {
     "data": {
      "text/plain": [
       "id (generic function with 2 methods)"
      ]
     },
     "execution_count": 199,
     "metadata": {},
     "output_type": "execute_result"
    }
   ],
   "source": [
    "dom(::PlusIntCat) = PlusIntObj()\n",
    "cod(::PlusIntCat) = PlusIntObj()\n",
    "id( ::PlusIntObj ) = PlusIntCat(0)"
   ]
  },
  {
   "cell_type": "code",
   "execution_count": 201,
   "metadata": {},
   "outputs": [
    {
     "data": {
      "text/plain": [
       "PlusIntCat(0)"
      ]
     },
     "execution_count": 201,
     "metadata": {},
     "output_type": "execute_result"
    }
   ],
   "source": [
    "id(PlusIntObj())"
   ]
  },
  {
   "cell_type": "code",
   "execution_count": 140,
   "metadata": {},
   "outputs": [
    {
     "name": "stderr",
     "output_type": "stream",
     "text": [
      "┌ Info: Precompiling Match [7eb4fadd-790c-5f42-8a69-bfa0b872bfbf]\n",
      "└ @ Base loading.jl:1273\n"
     ]
    }
   ],
   "source": [
    "using Match"
   ]
  },
  {
   "cell_type": "code",
   "execution_count": 147,
   "metadata": {},
   "outputs": [
    {
     "data": {
      "text/plain": [
       "quote\n",
       "    #= In[147]:1 =#\n",
       "    function fact(n)\n",
       "        #= In[147]:2 =#\n",
       "        begin\n",
       "            #= In[147]:3 =#\n",
       "            if Match.ismatch(0, n)\n",
       "                #= /Users/philip/.julia/packages/Match/qiTCM/src/matchmacro.jl:408 =#\n",
       "                1\n",
       "            else\n",
       "                #= /Users/philip/.julia/packages/Match/qiTCM/src/matchmacro.jl:410 =#\n",
       "                begin\n",
       "                    #= In[147]:4 =#\n",
       "                    let n = n\n",
       "                        n * fact(n - 1)\n",
       "                    end\n",
       "                end\n",
       "            end\n",
       "        end\n",
       "    end\n",
       "end"
      ]
     },
     "execution_count": 147,
     "metadata": {},
     "output_type": "execute_result"
    }
   ],
   "source": [
    "macroexpand( Main, quote function fact(n)\n",
    "    @match n begin\n",
    "    0 => 1\n",
    "    n => n * fact(n-1)\n",
    "    end\n",
    "            end end)"
   ]
  },
  {
   "cell_type": "code",
   "execution_count": 146,
   "metadata": {},
   "outputs": [
    {
     "data": {
      "text/plain": [
       "6"
      ]
     },
     "execution_count": 146,
     "metadata": {},
     "output_type": "execute_result"
    }
   ],
   "source": [
    "fact(3)"
   ]
  },
  {
   "cell_type": "code",
   "execution_count": 149,
   "metadata": {},
   "outputs": [
    {
     "data": {
      "text/html": [
       "# 25 methods for generic function <b>first</b>:<ul><li> first(::<b>Tuple{}</b>) in Base at <a href=\"https://github.com/JuliaLang/julia/tree/2d5741174ce3e6a394010d2e470e4269ca54607f/base/tuple.jl#L77\" target=\"_blank\">tuple.jl:77</a></li> <li> first(s::<b>BitSet</b>) in Base at <a href=\"https://github.com/JuliaLang/julia/tree/2d5741174ce3e6a394010d2e470e4269ca54607f/base/bitset.jl#L353\" target=\"_blank\">bitset.jl:353</a></li> <li> first(r::<b>Core.Compiler.StmtRange</b>) in Base.IRShow at <a href=\"https://github.com/JuliaLang/julia/tree/2d5741174ce3e6a394010d2e470e4269ca54607f/base/show.jl#L1599\" target=\"_blank\">show.jl:1599</a></li> <li> first(cmd::<b>Cmd</b>) in Base at <a href=\"https://github.com/JuliaLang/julia/tree/2d5741174ce3e6a394010d2e470e4269ca54607f/base/process.jl#L639\" target=\"_blank\">process.jl:639</a></li> <li> first(x::<b>Intervals.Inclusivity</b>) in Intervals at <a href=\"file:///Users/philip/.julia/packages/Intervals/wasuB/src/inclusivity.jl\" target=\"_blank\">/Users/philip/.julia/packages/Intervals/wasuB/src/inclusivity.jl:37</a></li> <li> first(t::<b>Tuple</b>) in Base at <a href=\"https://github.com/JuliaLang/julia/tree/2d5741174ce3e6a394010d2e470e4269ca54607f/base/tuple.jl#L78\" target=\"_blank\">tuple.jl:78</a></li> <li> first(p::<b>Pair</b>) in Base at <a href=\"https://github.com/JuliaLang/julia/tree/2d5741174ce3e6a394010d2e470e4269ca54607f/base/pair.jl#L66\" target=\"_blank\">pair.jl:66</a></li> <li> first(r::<b>Base.OneTo{T}</b>)<i> where T</i> in Base at <a href=\"https://github.com/JuliaLang/julia/tree/2d5741174ce3e6a394010d2e470e4269ca54607f/base/range.jl#L566\" target=\"_blank\">range.jl:566</a></li> <li> first(S::<b>Base.Slice</b>) in Base at <a href=\"https://github.com/JuliaLang/julia/tree/2d5741174ce3e6a394010d2e470e4269ca54607f/base/indices.jl#L329\" target=\"_blank\">indices.jl:329</a></li> <li> first(S::<b>Base.IdentityUnitRange</b>) in Base at <a href=\"https://github.com/JuliaLang/julia/tree/2d5741174ce3e6a394010d2e470e4269ca54607f/base/indices.jl#L361\" target=\"_blank\">indices.jl:361</a></li> <li> first(r::<b>OrdinalRange{T,S} where S</b>)<i> where T</i> in Base at <a href=\"https://github.com/JuliaLang/julia/tree/2d5741174ce3e6a394010d2e470e4269ca54607f/base/range.jl#L565\" target=\"_blank\">range.jl:565</a></li> <li> first(r::<b>StepRangeLen</b>) in Base at <a href=\"https://github.com/JuliaLang/julia/tree/2d5741174ce3e6a394010d2e470e4269ca54607f/base/range.jl#L567\" target=\"_blank\">range.jl:567</a></li> <li> first(r::<b>LinRange</b>) in Base at <a href=\"https://github.com/JuliaLang/julia/tree/2d5741174ce3e6a394010d2e470e4269ca54607f/base/range.jl#L568\" target=\"_blank\">range.jl:568</a></li> <li> first(x::<b>Number</b>) in Base at <a href=\"https://github.com/JuliaLang/julia/tree/2d5741174ce3e6a394010d2e470e4269ca54607f/base/number.jl#L86\" target=\"_blank\">number.jl:86</a></li> <li> first(iter::<b>LinearIndices{1,R} where R<:Tuple{AbstractUnitRange{Int64}}</b>) in Base at <a href=\"https://github.com/JuliaLang/julia/tree/2d5741174ce3e6a394010d2e470e4269ca54607f/base/indices.jl#L463\" target=\"_blank\">indices.jl:463</a></li> <li> first(iter::<b>LinearIndices</b>) in Base at <a href=\"https://github.com/JuliaLang/julia/tree/2d5741174ce3e6a394010d2e470e4269ca54607f/base/indices.jl#L462\" target=\"_blank\">indices.jl:462</a></li> <li> first(iter::<b>CartesianIndices</b>) in Base.IteratorsMD at <a href=\"https://github.com/JuliaLang/julia/tree/2d5741174ce3e6a394010d2e470e4269ca54607f/base/multidimensional.jl#L378\" target=\"_blank\">multidimensional.jl:378</a></li> <li> first(a::<b>AbstractArray</b>) in Base at <a href=\"https://github.com/JuliaLang/julia/tree/2d5741174ce3e6a394010d2e470e4269ca54607f/base/abstractarray.jl#L324\" target=\"_blank\">abstractarray.jl:324</a></li> <li> first(r::<b>Base.Iterators.Reverse</b>) in Base.Iterators at <a href=\"https://github.com/JuliaLang/julia/tree/2d5741174ce3e6a394010d2e470e4269ca54607f/base/iterators.jl#L86\" target=\"_blank\">iterators.jl:86</a></li> <li> first(c::<b>AbstractChar</b>) in Base at <a href=\"https://github.com/JuliaLang/julia/tree/2d5741174ce3e6a394010d2e470e4269ca54607f/base/char.jl#L200\" target=\"_blank\">char.jl:200</a></li> <li> first(::<b>Base.EachStringIndex</b>) in Base at <a href=\"https://github.com/JuliaLang/julia/tree/2d5741174ce3e6a394010d2e470e4269ca54607f/base/strings/basic.jl#L537\" target=\"_blank\">strings/basic.jl:537</a></li> <li> first(s::<b>AbstractString</b>, n::<b>Integer</b>) in Base at <a href=\"https://github.com/JuliaLang/julia/tree/2d5741174ce3e6a394010d2e470e4269ca54607f/base/strings/basic.jl#L606\" target=\"_blank\">strings/basic.jl:606</a></li> <li> first(interval::<b>Intervals.Interval</b>) in Intervals at <a href=\"file:///Users/philip/.julia/packages/Intervals/wasuB/src/interval.jl\" target=\"_blank\">/Users/philip/.julia/packages/Intervals/wasuB/src/interval.jl:112</a></li> <li> first(interval::<b>Intervals.AnchoredInterval{P,T} where T</b>)<i> where P</i> in Intervals at <a href=\"file:///Users/philip/.julia/packages/Intervals/wasuB/src/anchoredinterval.jl\" target=\"_blank\">/Users/philip/.julia/packages/Intervals/wasuB/src/anchoredinterval.jl:129</a></li> <li> first(itr) in Base at <a href=\"https://github.com/JuliaLang/julia/tree/2d5741174ce3e6a394010d2e470e4269ca54607f/base/abstractarray.jl#L342\" target=\"_blank\">abstractarray.jl:342</a></li> </ul>"
      ],
      "text/plain": [
       "# 25 methods for generic function \"first\":\n",
       "[1] first(::Tuple{}) in Base at tuple.jl:77\n",
       "[2] first(s::BitSet) in Base at bitset.jl:353\n",
       "[3] first(r::Core.Compiler.StmtRange) in Base.IRShow at show.jl:1599\n",
       "[4] first(cmd::Cmd) in Base at process.jl:639\n",
       "[5] first(x::Intervals.Inclusivity) in Intervals at /Users/philip/.julia/packages/Intervals/wasuB/src/inclusivity.jl:37\n",
       "[6] first(t::Tuple) in Base at tuple.jl:78\n",
       "[7] first(p::Pair) in Base at pair.jl:66\n",
       "[8] first(r::Base.OneTo{T}) where T in Base at range.jl:566\n",
       "[9] first(S::Base.Slice) in Base at indices.jl:329\n",
       "[10] first(S::Base.IdentityUnitRange) in Base at indices.jl:361\n",
       "[11] first(r::OrdinalRange{T,S} where S) where T in Base at range.jl:565\n",
       "[12] first(r::StepRangeLen) in Base at range.jl:567\n",
       "[13] first(r::LinRange) in Base at range.jl:568\n",
       "[14] first(x::Number) in Base at number.jl:86\n",
       "[15] first(iter::LinearIndices{1,R} where R<:Tuple{AbstractUnitRange{Int64}}) in Base at indices.jl:463\n",
       "[16] first(iter::LinearIndices) in Base at indices.jl:462\n",
       "[17] first(iter::CartesianIndices) in Base.IteratorsMD at multidimensional.jl:378\n",
       "[18] first(a::AbstractArray) in Base at abstractarray.jl:324\n",
       "[19] first(r::Base.Iterators.Reverse) in Base.Iterators at iterators.jl:86\n",
       "[20] first(c::AbstractChar) in Base at char.jl:200\n",
       "[21] first(::Base.EachStringIndex) in Base at strings/basic.jl:537\n",
       "[22] first(s::AbstractString, n::Integer) in Base at strings/basic.jl:606\n",
       "[23] first(interval::Intervals.Interval) in Intervals at /Users/philip/.julia/packages/Intervals/wasuB/src/interval.jl:112\n",
       "[24] first(interval::Intervals.AnchoredInterval{P,T} where T) where P in Intervals at /Users/philip/.julia/packages/Intervals/wasuB/src/anchoredinterval.jl:129\n",
       "[25] first(itr) in Base at abstractarray.jl:342"
      ]
     },
     "execution_count": 149,
     "metadata": {},
     "output_type": "execute_result"
    }
   ],
   "source": [
    "methods(first)"
   ]
  },
  {
   "cell_type": "code",
   "execution_count": 151,
   "metadata": {},
   "outputs": [
    {
     "data": {
      "text/plain": [
       "1"
      ]
     },
     "execution_count": 151,
     "metadata": {},
     "output_type": "execute_result"
    }
   ],
   "source": [
    "first((1,2))"
   ]
  },
  {
   "cell_type": "code",
   "execution_count": 152,
   "metadata": {},
   "outputs": [
    {
     "data": {
      "text/plain": [
       "3"
      ]
     },
     "execution_count": 152,
     "metadata": {},
     "output_type": "execute_result"
    }
   ],
   "source": [
    "last([1,2,3])"
   ]
  },
  {
   "cell_type": "code",
   "execution_count": 159,
   "metadata": {},
   "outputs": [],
   "source": [
    "using JuMP"
   ]
  },
  {
   "cell_type": "code",
   "execution_count": 162,
   "metadata": {},
   "outputs": [
    {
     "name": "stderr",
     "output_type": "stream",
     "text": [
      "┌ Info: Precompiling GLPK [60bf3e95-4087-53dc-ae20-288a0d20c6a6]\n",
      "└ @ Base loading.jl:1273\n"
     ]
    }
   ],
   "source": [
    "using GLPK"
   ]
  },
  {
   "cell_type": "code",
   "execution_count": 160,
   "metadata": {},
   "outputs": [
    {
     "ename": "UndefVarError",
     "evalue": "UndefVarError: GLPK not defined",
     "output_type": "error",
     "traceback": [
      "UndefVarError: GLPK not defined",
      "",
      "Stacktrace:",
      " [1] top-level scope at In[160]:1"
     ]
    }
   ],
   "source": [
    "model = Model(GLPK.Optimizer)\n"
   ]
  },
  {
   "cell_type": "code",
   "execution_count": 163,
   "metadata": {},
   "outputs": [
    {
     "data": {
      "text/plain": [
       "quote\n",
       "    #= /Users/philip/.julia/packages/JuMP/MsUSY/src/macros.jl:258 =#\n",
       "    JuMP._valid_model(model, :model)\n",
       "    #= /Users/philip/.julia/packages/JuMP/MsUSY/src/macros.jl:259 =#\n",
       "    begin\n",
       "        #= /Users/philip/.julia/packages/JuMP/MsUSY/src/macros.jl:316 =#\n",
       "        JuMP._error_if_cannot_register(model, :y)\n",
       "        #= /Users/philip/.julia/packages/JuMP/MsUSY/src/macros.jl:320 =#\n",
       "        var\"#19###422\" = begin\n",
       "                #= /Users/philip/.julia/packages/JuMP/MsUSY/src/macros.jl:274 =#\n",
       "                let\n",
       "                    #= /Users/philip/.julia/packages/JuMP/MsUSY/src/macros.jl:280 =#\n",
       "                    var\"#19###422\" = JuMP.add_variable(model, JuMP.build_variable(JuMP.var\"#_error#67\"{Tuple{Symbol,Expr}}((:model, :(0 <= y <= 30))), JuMP.VariableInfo(true, 0, true, 30, false, NaN, false, NaN, false, false)), \"y\")\n",
       "                    #= /Users/philip/.julia/packages/JuMP/MsUSY/src/macros.jl:281 =#\n",
       "                    var\"#19###422\"\n",
       "                end\n",
       "            end\n",
       "        #= /Users/philip/.julia/packages/JuMP/MsUSY/src/macros.jl:321 =#\n",
       "        (JuMP.object_dictionary(model))[:y] = var\"#19###422\"\n",
       "        #= /Users/philip/.julia/packages/JuMP/MsUSY/src/macros.jl:326 =#\n",
       "        y = var\"#19###422\"\n",
       "    end\n",
       "end"
      ]
     },
     "execution_count": 163,
     "metadata": {},
     "output_type": "execute_result"
    }
   ],
   "source": [
    "macroexpand(Main, :(@variable(model, 0 <= y <= 30)))"
   ]
  },
  {
   "cell_type": "code",
   "execution_count": 164,
   "metadata": {},
   "outputs": [
    {
     "data": {
      "text/plain": [
       "1×3 Array{Int64,2}:\n",
       " 1  2  3"
      ]
     },
     "execution_count": 164,
     "metadata": {},
     "output_type": "execute_result"
    }
   ],
   "source": [
    "\n",
    "\n",
    "[1 2 3]"
   ]
  },
  {
   "cell_type": "code",
   "execution_count": 165,
   "metadata": {},
   "outputs": [
    {
     "data": {
      "text/plain": [
       "3-element Array{Int64,1}:\n",
       " 1\n",
       " 2\n",
       " 3"
      ]
     },
     "execution_count": 165,
     "metadata": {},
     "output_type": "execute_result"
    }
   ],
   "source": [
    "[1, 2, 3]"
   ]
  },
  {
   "cell_type": "code",
   "execution_count": 166,
   "metadata": {},
   "outputs": [
    {
     "data": {
      "text/plain": [
       "2×3 Array{Int64,2}:\n",
       " 1  2  3\n",
       " 3  4  5"
      ]
     },
     "execution_count": 166,
     "metadata": {},
     "output_type": "execute_result"
    }
   ],
   "source": [
    "[ 1 2 3 ; 3 4 5]"
   ]
  },
  {
   "cell_type": "code",
   "execution_count": 167,
   "metadata": {},
   "outputs": [
    {
     "data": {
      "text/plain": [
       "2-element Array{Array{Int64,1},1}:\n",
       " [1, 2]\n",
       " [3, 4]"
      ]
     },
     "execution_count": 167,
     "metadata": {},
     "output_type": "execute_result"
    }
   ],
   "source": [
    "[ [1,2 ] ,[3,4]]"
   ]
  },
  {
   "cell_type": "code",
   "execution_count": 168,
   "metadata": {},
   "outputs": [
    {
     "data": {
      "text/plain": [
       "2×2 Array{Int64,2}:\n",
       " 1   0\n",
       " 0  -1"
      ]
     },
     "execution_count": 168,
     "metadata": {},
     "output_type": "execute_result"
    }
   ],
   "source": [
    "sigz = [ 1 0 ; \n",
    "         0 -1]"
   ]
  },
  {
   "cell_type": "code",
   "execution_count": 178,
   "metadata": {},
   "outputs": [
    {
     "data": {
      "text/plain": [
       "2×2 Array{Int64,2}:\n",
       " 0  1\n",
       " 1  0"
      ]
     },
     "execution_count": 178,
     "metadata": {},
     "output_type": "execute_result"
    }
   ],
   "source": [
    "sigx = [ 0 1 \n",
    "         1 0 ]"
   ]
  },
  {
   "cell_type": "code",
   "execution_count": 179,
   "metadata": {},
   "outputs": [
    {
     "data": {
      "text/plain": [
       "2×2 Array{Complex{Int64},2}:\n",
       " 0+0im  0+1im\n",
       " 0-1im  0+0im"
      ]
     },
     "execution_count": 179,
     "metadata": {},
     "output_type": "execute_result"
    }
   ],
   "source": [
    "sigy = [0   1im\n",
    "       -1im  0 ]"
   ]
  },
  {
   "cell_type": "code",
   "execution_count": 182,
   "metadata": {},
   "outputs": [
    {
     "data": {
      "text/plain": [
       "6×2 Array{Complex{Int64},2}:\n",
       " 0+0im   1+0im\n",
       " 1+0im   0+0im\n",
       " 0+0im   0+1im\n",
       " 0-1im   0+0im\n",
       " 1+0im   0+0im\n",
       " 0+0im  -1+0im"
      ]
     },
     "execution_count": 182,
     "metadata": {},
     "output_type": "execute_result"
    }
   ],
   "source": [
    "[ sigx  ; sigy ;  sigz ]"
   ]
  },
  {
   "cell_type": "code",
   "execution_count": 183,
   "metadata": {},
   "outputs": [],
   "source": [
    "using LinearAlgebra"
   ]
  },
  {
   "cell_type": "code",
   "execution_count": 185,
   "metadata": {},
   "outputs": [
    {
     "data": {
      "text/plain": [
       "SVD{Complex{Float64},Float64,Array{Complex{Float64},2}}\n",
       "U factor:\n",
       "6×2 Array{Complex{Float64},2}:\n",
       "      0.0+0.0im          0.57735+0.0im        \n",
       " -0.57735+0.0im      1.66533e-16+0.0im        \n",
       "      0.0+0.0im              0.0+0.57735im    \n",
       "      0.0+0.57735im          0.0-5.55112e-17im\n",
       " -0.57735+0.0im      5.55112e-17+0.0im        \n",
       "      0.0+0.0im         -0.57735+0.0im        \n",
       "singular values:\n",
       "2-element Array{Float64,1}:\n",
       " 1.7320508075688772\n",
       " 1.7320508075688772\n",
       "Vt factor:\n",
       "2×2 Array{Complex{Float64},2}:\n",
       " -1.0+0.0im  -0.0+0.0im\n",
       "  0.0+0.0im   1.0+0.0im"
      ]
     },
     "execution_count": 185,
     "metadata": {},
     "output_type": "execute_result"
    }
   ],
   "source": [
    "U, s, Vt = svd([ sigx  ; sigy ;  sigz ])"
   ]
  },
  {
   "cell_type": "code",
   "execution_count": 188,
   "metadata": {},
   "outputs": [
    {
     "data": {
      "text/plain": [
       "4×4 Array{Int64,2}:\n",
       " 0  0  0  1\n",
       " 0  0  1  0\n",
       " 0  1  0  0\n",
       " 1  0  0  0"
      ]
     },
     "execution_count": 188,
     "metadata": {},
     "output_type": "execute_result"
    }
   ],
   "source": [
    " kron(sigx, sigx)"
   ]
  },
  {
   "cell_type": "code",
   "execution_count": 189,
   "metadata": {},
   "outputs": [
    {
     "data": {
      "text/plain": [
       "kron (generic function with 30 methods)"
      ]
     },
     "execution_count": 189,
     "metadata": {},
     "output_type": "execute_result"
    }
   ],
   "source": [
    "⊗ = kron"
   ]
  },
  {
   "cell_type": "code",
   "execution_count": 192,
   "metadata": {},
   "outputs": [
    {
     "data": {
      "text/plain": [
       "SVD{Complex{Float64},Float64,Array{Complex{Float64},2}}\n",
       "U factor:\n",
       "12×4 Array{Complex{Float64},2}:\n",
       "      0.0+0.0im       0.0+0.0im           0.0+0.0im       0.57735+0.0im\n",
       "      0.0+0.0im       0.0+0.0im       0.57735+0.0im           0.0+0.0im\n",
       "      0.0+0.0im  -0.57735+0.0im   1.66533e-16+0.0im           0.0+0.0im\n",
       " -0.57735+0.0im       0.0+0.0im           0.0+0.0im   1.66533e-16+0.0im\n",
       "      0.0+0.0im       0.0+0.0im           0.0+0.0im      -0.57735+0.0im\n",
       "      0.0+0.0im       0.0+0.0im       0.57735+0.0im           0.0+0.0im\n",
       "      0.0+0.0im  -0.57735+0.0im   5.55112e-17+0.0im           0.0+0.0im\n",
       "  0.57735+0.0im       0.0+0.0im           0.0+0.0im  -5.55112e-17+0.0im\n",
       " -0.57735+0.0im       0.0+0.0im           0.0+0.0im   5.55112e-17+0.0im\n",
       "      0.0+0.0im   0.57735+0.0im  -5.55112e-17+0.0im           0.0+0.0im\n",
       "      0.0+0.0im       0.0+0.0im      -0.57735+0.0im           0.0+0.0im\n",
       "      0.0+0.0im       0.0+0.0im           0.0+0.0im       0.57735+0.0im\n",
       "singular values:\n",
       "4-element Array{Float64,1}:\n",
       " 1.7320508075688772\n",
       " 1.7320508075688772\n",
       " 1.7320508075688772\n",
       " 1.7320508075688772\n",
       "Vt factor:\n",
       "4×4 Array{Complex{Float64},2}:\n",
       " -1.0+0.0im  -0.0+0.0im  -0.0+0.0im  -0.0+0.0im\n",
       " -0.0+0.0im  -1.0+0.0im  -0.0+0.0im  -0.0+0.0im\n",
       "  0.0+0.0im   0.0+0.0im   1.0+0.0im   0.0+0.0im\n",
       "  0.0+0.0im   0.0+0.0im   0.0+0.0im   1.0+0.0im"
      ]
     },
     "execution_count": 192,
     "metadata": {},
     "output_type": "execute_result"
    }
   ],
   "source": [
    "svd([ sigx ⊗ sigx ; sigy ⊗ sigy ; sigz ⊗ sigz ] )"
   ]
  },
  {
   "cell_type": "code",
   "execution_count": 194,
   "metadata": {},
   "outputs": [
    {
     "data": {
      "text/html": [
       "# 2 methods for generic function <b>∘</b>:<ul><li> ∘(a::<b>PlusIntCat</b>, b::<b>PlusIntCat</b>) in Main at In[134]:5</li> <li> ∘(f, g) in Base at <a href=\"https://github.com/JuliaLang/julia/tree/2d5741174ce3e6a394010d2e470e4269ca54607f/base/operators.jl#L873\" target=\"_blank\">operators.jl:873</a></li> </ul>"
      ],
      "text/plain": [
       "# 2 methods for generic function \"∘\":\n",
       "[1] ∘(a::PlusIntCat, b::PlusIntCat) in Main at In[134]:5\n",
       "[2] ∘(f, g) in Base at operators.jl:873"
      ]
     },
     "execution_count": 194,
     "metadata": {},
     "output_type": "execute_result"
    }
   ],
   "source": [
    "methods(∘)"
   ]
  },
  {
   "cell_type": "code",
   "execution_count": 206,
   "metadata": {},
   "outputs": [
    {
     "data": {
      "text/plain": [
       "Dict{Int64,Int64} with 1 entry:\n",
       "  3 => 4"
      ]
     },
     "execution_count": 206,
     "metadata": {},
     "output_type": "execute_result"
    }
   ],
   "source": [
    "\n",
    "\n",
    "\n",
    "\n"
   ]
  },
  {
   "cell_type": "code",
   "execution_count": null,
   "metadata": {},
   "outputs": [],
   "source": []
  }
 ],
 "metadata": {
  "kernelspec": {
   "display_name": "Julia 1.4.1",
   "language": "julia",
   "name": "julia-1.4"
  },
  "language_info": {
   "file_extension": ".jl",
   "mimetype": "application/julia",
   "name": "julia",
   "version": "1.4.1"
  }
 },
 "nbformat": 4,
 "nbformat_minor": 4
}
