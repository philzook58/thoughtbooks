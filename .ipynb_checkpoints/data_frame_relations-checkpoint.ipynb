{
 "cells": [
  {
   "cell_type": "code",
   "execution_count": 3,
   "metadata": {},
   "outputs": [
    {
     "name": "stderr",
     "output_type": "stream",
     "text": [
      "┌ Info: Precompiling DataFrames [a93c6f00-e57d-5684-b7b6-d8193f3e46c0]\n",
      "└ @ Base loading.jl:1278\n"
     ]
    }
   ],
   "source": [
    "using DataFrames\n",
    "\n",
    "\n"
   ]
  },
  {
   "cell_type": "markdown",
   "metadata": {},
   "source": [
    "# DataFrame Style Linear Relations\n",
    "\n",
    "Conceptually for me every column has a set of possible values that column can take. Maybe it's integers or strings or an finite enum lik :red :green :blue.\n",
    "The DataFrame is storing a relation. A relation with column sets A,B,C,D is a subset of A\\timesB\\timesC\\timesD. In other words { (a,b,c,d) | a \\in A, b\\in B, c \\in C,   } Each row stores a tuple (a,b,c,d,...).\n",
    "\n",
    "Similarly a linear relation is describing a subset of \n",
    "Each column has is a vector space which may be 0,1,2,3... dimensional.\n",
    "What makes it a linear relation is that rather than describing an arbitrary subset of this space, it only describes subsets closed under vector addition, i.e linear subspaces.\n",
    "\n",
    "If we only had to store finite number of discrte points in this space, we could use data frames as is.\n",
    "\n",
    "DataFrame( A = [1,0] , B = [ 0  1; 0  1] ) describes the two points (1,0,1) (0,0,1) as elements of R^1 \\times R^2.\n",
    "\n",
    "When we print out this dataframe, we can see a matrix.\n",
    "\n",
    "This is important, because it's impossible to enumeratively store every element of an arbitrary continuous blob, but we can store generators or equations that somehwhat implicitly describe a linear subsapce more more succintly.\n",
    "\n",
    "\n",
    " DataFrameG( A = [1,0] , B = [0 1 ; 0 1] ) describes now any linear combinator of the points  v = \\lambda_1 (1,0,1) + \\lambda_2 (0,0,1), which is equivalent to the xz plane. So we could equaivlaent have written this data frame as DataFrameG( A = [1, 0], B = [0 0 ; 0 1]) no harm done.\n",
    " \n",
    " \n",
    " It is ubiquitous in mathemtatics that we can describe things in a way that builds them up or cuts them away.\n",
    " Parametrzied vs implciit surfaces (sin(\\theta), cos(\\theta) , 0   ) is a paremtrzied circle in the xy plane. Alternaitvely it can be described by the two equations z = 0, x^2 + y^2 + z^2 == 1 as the intersection of the xy plane and a sphere.\n",
    " \n",
    " Or a sphere can be parametrzied by ( ),  alternaitvely\n",
    " \n",
    " A 2 dimensional surface needs 2 parameters to build up from 0, or 1 constraint to cut down from 3. A 1 dimensional surface needs 1 parameter to build up or 2 constraints to cut down from 1.\n",
    " \n",
    " \n",
    " \n",
    " \n",
    " LinFrame\n",
    "span( {    |   } )\n",
    "\n",
    "\n",
    "\n",
    "## Joins\n",
    "\n",
    "## Groupings\n",
    "\n",
    "## Applying Linear Maps\n",
    "\n"
   ]
  },
  {
   "cell_type": "code",
   "execution_count": 2,
   "metadata": {},
   "outputs": [
    {
     "name": "stderr",
     "output_type": "stream",
     "text": [
      "\u001b[32m\u001b[1m   Updating\u001b[22m\u001b[39m registry at `~/.julia/registries/General`\n"
     ]
    },
    {
     "name": "stdout",
     "output_type": "stream",
     "text": [
      "\u001b[?25l    "
     ]
    },
    {
     "name": "stderr",
     "output_type": "stream",
     "text": [
      "\u001b[32m\u001b[1m   Updating\u001b[22m\u001b[39m git-repo `https://github.com/JuliaRegistries/General.git`\n"
     ]
    },
    {
     "name": "stdout",
     "output_type": "stream",
     "text": [
      "\u001b[2K\u001b[?25h[1mFetching:\u001b[22m\u001b[39m [========================================>]  99.9 %13.3 %>                             ]  27.5 %                  ]  54.0 % [===========================>             ]  67.3 %]  80.5 %======================================>  ]  93.8 %"
     ]
    },
    {
     "name": "stderr",
     "output_type": "stream",
     "text": [
      "\u001b[32m\u001b[1m  Resolving\u001b[22m\u001b[39m package versions...\n",
      "\u001b[32m\u001b[1m  Installed\u001b[22m\u001b[39m PooledArrays ────── v0.5.3\n",
      "\u001b[32m\u001b[1m  Installed\u001b[22m\u001b[39m MbedTLS_jll ─────── v2.16.8+1\n",
      "\u001b[32m\u001b[1m  Installed\u001b[22m\u001b[39m StructTypes ─────── v1.1.0\n",
      "\u001b[32m\u001b[1m  Installed\u001b[22m\u001b[39m CategoricalArrays ─ v0.8.3\n",
      "\u001b[32m\u001b[1m  Installed\u001b[22m\u001b[39m DataFrames ──────── v0.21.8\n",
      "\u001b[32m\u001b[1mUpdating\u001b[22m\u001b[39m `~/.julia/environments/v1.5/Project.toml`\n",
      " \u001b[90m [a93c6f00] \u001b[39m\u001b[92m+ DataFrames v0.21.8\u001b[39m\n",
      "\u001b[32m\u001b[1mUpdating\u001b[22m\u001b[39m `~/.julia/environments/v1.5/Manifest.toml`\n",
      " \u001b[90m [324d7699] \u001b[39m\u001b[92m+ CategoricalArrays v0.8.3\u001b[39m\n",
      " \u001b[90m [a93c6f00] \u001b[39m\u001b[92m+ DataFrames v0.21.8\u001b[39m\n",
      " \u001b[90m [41ab1584] \u001b[39m\u001b[92m+ InvertedIndices v1.0.0\u001b[39m\n",
      " \u001b[90m [c8ffd9c3] \u001b[39m\u001b[93m↑ MbedTLS_jll v2.16.8+0 ⇒ v2.16.8+1\u001b[39m\n",
      " \u001b[90m [2dfb63ee] \u001b[39m\u001b[92m+ PooledArrays v0.5.3\u001b[39m\n",
      " \u001b[90m [856f2bd8] \u001b[39m\u001b[92m+ StructTypes v1.1.0\u001b[39m\n"
     ]
    }
   ],
   "source": [
    "import Pkg; Pkg.add(\"DataFrames\")"
   ]
  },
  {
   "cell_type": "code",
   "execution_count": null,
   "metadata": {},
   "outputs": [],
   "source": [
    "# if we gave every variable a name. We could store the \n",
    "# adding to the \n",
    "\n",
    "\n",
    "# conceptually, the generator framework is closer to standard Dataframes\n",
    "# If you wanted to represent a nearly full database, you would store the elements not in the relation.\n",
    "\n",
    "\n",
    "# Equations cut down vector spaces\n",
    "# Generators build it up\n",
    "\n",
    "# Dataframes also typically live in an implied inifinite univcerse, which makes things trickier\n",
    "# They do not store the realsm of possibility. Although they could\n",
    "\n",
    "df = DataFrame( A = [1 0], B = [1],    )"
   ]
  },
  {
   "cell_type": "code",
   "execution_count": 5,
   "metadata": {},
   "outputs": [
    {
     "data": {
      "text/html": [
       "<table class=\"data-frame\"><thead><tr><th></th><th>A</th><th>B</th></tr><tr><th></th><th>Float64</th><th>Array…</th></tr></thead><tbody><p>2 rows × 2 columns</p><tr><th>1</th><td>1.0</td><td>[0.0 3.14]</td></tr><tr><th>2</th><td>0.0</td><td>[0.0 2.0]</td></tr></tbody></table>"
      ],
      "text/latex": [
       "\\begin{tabular}{r|cc}\n",
       "\t& A & B\\\\\n",
       "\t\\hline\n",
       "\t& Float64 & Array…\\\\\n",
       "\t\\hline\n",
       "\t1 & 1.0 & [0.0 3.14] \\\\\n",
       "\t2 & 0.0 & [0.0 2.0] \\\\\n",
       "\\end{tabular}\n"
      ],
      "text/plain": [
       "2×2 DataFrame\n",
       "│ Row │ A       │ B          │\n",
       "│     │ \u001b[90mFloat64\u001b[39m │ \u001b[90mArray…\u001b[39m     │\n",
       "├─────┼─────────┼────────────┤\n",
       "│ 1   │ 1.0     │ [0.0 3.14] │\n",
       "│ 2   │ 0.0     │ [0.0 2.0]  │"
      ]
     },
     "execution_count": 5,
     "metadata": {},
     "output_type": "execute_result"
    }
   ],
   "source": [
    "DataFrame( A = [1.0, 0.0] , B = [[ 0  3.14], [0  2.0]] )"
   ]
  },
  {
   "cell_type": "code",
   "execution_count": null,
   "metadata": {},
   "outputs": [],
   "source": []
  }
 ],
 "metadata": {
  "kernelspec": {
   "display_name": "Julia 1.5.0",
   "language": "julia",
   "name": "julia-1.5"
  },
  "language_info": {
   "file_extension": ".jl",
   "mimetype": "application/julia",
   "name": "julia",
   "version": "1.5.0"
  }
 },
 "nbformat": 4,
 "nbformat_minor": 4
}
