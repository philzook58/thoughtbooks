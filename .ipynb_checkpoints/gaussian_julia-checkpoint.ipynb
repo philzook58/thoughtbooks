{
 "cells": [
  {
   "cell_type": "code",
   "execution_count": 4,
   "metadata": {},
   "outputs": [],
   "source": [
    "using LinearAlgebra\n",
    "using SymPy\n",
    "using BlockArrays\n",
    "using Plots\n",
    "using SparseArrays"
   ]
  },
  {
   "cell_type": "markdown",
   "metadata": {},
   "source": [
    "Composable Gaussian Integration\n",
    "\n",
    "I must have more notes on this somewhere\n",
    "\n",
    "Linearly constrained quadratic programs and Gaussian integration solve roughly the same problem.\n",
    "\n",
    "\n",
    "\n",
    "Dirac delta functions are very very useful. They can be conceived as a the limit of very sharply peaked Gaussians. If we want to have something compositional and categorically flavored, we need to include them, as they are the idnetity morphisms of integration\n",
    "\n",
    "\n",
    "There is a smorgabrog of notions of composition where inner variables are somehow integrated or projected out. Examples include matrix multiplication $\\sum$, integratin $\\int$, relational composition $\\exists$, and shortest path/compositional optimization $\\min$ .\n",
    "Interestingly, function composition, the canonical example of composition, using lambda binders doesn't obviously take this form.\n",
    "\n",
    "\n",
    "\n",
    "\n",
    "The pullback is one way of categorically describing solving a set of affine equations\n",
    "\n",
    "\n",
    "f.A * x + f.b = g.A * y + g.b\n",
    "\n",
    "[f.A ; -g.A] [x ; y] = g.b - f.b\n",
    "\n",
    "We need to build generators. \n",
    "\n",
    "nullspace(Q) + solution\n",
    "\n",
    "[f.A  -g.A  (f.b - g.b)] [x ; y ; 1] = 0\n",
    "\n",
    "maybe this doesn't get us any extra info.\n",
    "\n",
    "\n",
    "Hmm. As it is set up, even if I have no solutions (0 dimensional space) there still is an offset vector. No solutions ought to be expressible.\n",
    "Maybe affine maps don't have a pullback generally?\n",
    "\n"
   ]
  },
  {
   "cell_type": "code",
   "execution_count": 39,
   "metadata": {},
   "outputs": [
    {
     "name": "stderr",
     "output_type": "stream",
     "text": [
      "WARNING: replacing module Testy.\n"
     ]
    },
    {
     "data": {
      "text/plain": [
       "Main.Testy"
      ]
     },
     "execution_count": 39,
     "metadata": {},
     "output_type": "execute_result"
    }
   ],
   "source": [
    "module Testy\n",
    "\n",
    "struct AffCat\n",
    "    A\n",
    "    b\n",
    "end\n",
    "\n",
    "struct QuadFun\n",
    "    Q # symmettric matrix\n",
    "    c # vector \n",
    "    r # constant. Not super relevant often\n",
    "end\n",
    "\n",
    "end"
   ]
  },
  {
   "cell_type": "code",
   "execution_count": 40,
   "metadata": {},
   "outputs": [
    {
     "name": "stderr",
     "output_type": "stream",
     "text": [
      "WARNING: ignoring conflicting import of Testy.AffCat into Main\n"
     ]
    }
   ],
   "source": [
    "using Main.Testy: AffCat, QuadFun"
   ]
  },
  {
   "cell_type": "code",
   "execution_count": 26,
   "metadata": {},
   "outputs": [
    {
     "data": {
      "text/plain": [
       "AffCat([1 2; 3 4], [1, 2])"
      ]
     },
     "execution_count": 26,
     "metadata": {},
     "output_type": "execute_result"
    }
   ],
   "source": [
    "e = AffCat([1 2; 3 4], [1 ; 2])"
   ]
  },
  {
   "cell_type": "code",
   "execution_count": 18,
   "metadata": {},
   "outputs": [],
   "source": [
    "Base.:∘(f::AffCat, g::AffCat) = AffCat( f.A * g.A , f.b + f.A*g.b )"
   ]
  },
  {
   "cell_type": "code",
   "execution_count": 31,
   "metadata": {},
   "outputs": [
    {
     "data": {
      "text/plain": [
       "cod (generic function with 1 method)"
      ]
     },
     "execution_count": 31,
     "metadata": {},
     "output_type": "execute_result"
    }
   ],
   "source": [
    "dom(f::AffCat) = size(f.A)[2]\n",
    "cod(f::AffCat) = size(f.A)[1]"
   ]
  },
  {
   "cell_type": "code",
   "execution_count": 33,
   "metadata": {},
   "outputs": [
    {
     "data": {
      "text/plain": [
       "id (generic function with 1 method)"
      ]
     },
     "execution_count": 33,
     "metadata": {},
     "output_type": "execute_result"
    }
   ],
   "source": [
    "id(n) = AffCat(I, zeros(n))"
   ]
  },
  {
   "cell_type": "code",
   "execution_count": 37,
   "metadata": {},
   "outputs": [
    {
     "data": {
      "text/plain": [
       "AffCat([1 2; 3 4], [1.0, 2.0])"
      ]
     },
     "execution_count": 37,
     "metadata": {},
     "output_type": "execute_result"
    }
   ],
   "source": [
    "id(2) ∘ id(2) ∘ e"
   ]
  },
  {
   "cell_type": "code",
   "execution_count": 41,
   "metadata": {},
   "outputs": [],
   "source": [
    "Base.:+(x::QuadFun, y::QuadFun ) = QuadFun(x.Q + y.Q, x.c + y.c, x.r + y.r)"
   ]
  },
  {
   "cell_type": "markdown",
   "metadata": {},
   "source": [
    "Let's just talk about Schur complemnts. They're fun and must surely be a cornerstone of all this\n",
    "\n",
    "The Schur complement is an interesting intermediate calculation that occurs when you solve a block matrix.\n",
    "\n",
    "\n",
    "Consider a 2x2 matrix\n"
   ]
  },
  {
   "cell_type": "code",
   "execution_count": 2,
   "metadata": {},
   "outputs": [
    {
     "data": {
      "text/plain": [
       "(a, b, c, d)"
      ]
     },
     "execution_count": 2,
     "metadata": {},
     "output_type": "execute_result"
    }
   ],
   "source": [
    "@vars a b c d"
   ]
  },
  {
   "cell_type": "code",
   "execution_count": 6,
   "metadata": {},
   "outputs": [
    {
     "data": {
      "text/latex": [
       "\\[\\left[ \\begin{array}{rr}a&b\\\\c&d\\end{array}\\right]\\]"
      ],
      "text/plain": [
       "2×2 Array{Sym,2}:\n",
       " a  b\n",
       " c  d"
      ]
     },
     "execution_count": 6,
     "metadata": {},
     "output_type": "execute_result"
    }
   ],
   "source": [
    "A = Matrix([a b ; \n",
    "            c d])"
   ]
  },
  {
   "cell_type": "code",
   "execution_count": 16,
   "metadata": {},
   "outputs": [
    {
     "data": {
      "text/latex": [
       "\\[\\left[ \\begin{array}{rr}1&0\\\\\\frac{c}{a}&1\\end{array}\\right]\\]"
      ],
      "text/plain": [
       "2×2 Array{Sym,2}:\n",
       "   1  0\n",
       " c/a  1"
      ]
     },
     "execution_count": 16,
     "metadata": {},
     "output_type": "execute_result"
    }
   ],
   "source": [
    "R = Matrix( [ 1    0 ;\n",
    "             -c/a  1 ]  ) \n",
    "U = R * A\n",
    "L = inv(R)"
   ]
  },
  {
   "cell_type": "code",
   "execution_count": 18,
   "metadata": {},
   "outputs": [
    {
     "data": {
      "text/latex": [
       "\\begin{equation*}\\left[\\begin{matrix}1 & 0\\\\\\frac{c}{a} & 1\\end{matrix}\\right] \\left[\\begin{matrix}a & b\\\\0 & d - \\frac{b c}{a}\\end{matrix}\\right] = \\left[\\begin{matrix}a & b\\\\c & d\\end{matrix}\\right]\\end{equation*}"
      ],
      "text/plain": [
       "⎡1  0⎤ ⎡a     b   ⎤         \n",
       "⎢    ⎥ ⎢          ⎥   ⎡a  b⎤\n",
       "⎢c   ⎥⋅⎢       b⋅c⎥ = ⎢    ⎥\n",
       "⎢─  1⎥ ⎢0  d - ───⎥   ⎣c  d⎦\n",
       "⎣a   ⎦ ⎣        a ⎦         "
      ]
     },
     "execution_count": 18,
     "metadata": {},
     "output_type": "execute_result"
    }
   ],
   "source": [
    "A2 = sympy.MatMul(L , U)\n",
    "Eq(A2 , A2.doit())"
   ]
  },
  {
   "cell_type": "code",
   "execution_count": 14,
   "metadata": {},
   "outputs": [
    {
     "data": {
      "text/latex": [
       "\\begin{equation*}\\left[\\begin{matrix}a & b\\\\c & d\\end{matrix}\\right]\\end{equation*}"
      ],
      "text/plain": [
       "⎡a  b⎤\n",
       "⎢    ⎥\n",
       "⎣c  d⎦"
      ]
     },
     "execution_count": 14,
     "metadata": {},
     "output_type": "execute_result"
    }
   ],
   "source": [
    "sympy.MatMul(inv(R) , A2).doit()"
   ]
  },
  {
   "cell_type": "code",
   "execution_count": 20,
   "metadata": {},
   "outputs": [
    {
     "data": {
      "text/plain": [
       "(a, b, c, d)"
      ]
     },
     "execution_count": 20,
     "metadata": {},
     "output_type": "execute_result"
    }
   ],
   "source": [
    "@vars a b c d commutative=false"
   ]
  },
  {
   "cell_type": "code",
   "execution_count": 22,
   "metadata": {},
   "outputs": [
    {
     "data": {
      "text/latex": [
       "\\begin{equation*}a b - b a\\end{equation*}"
      ],
      "text/plain": [
       "a⋅b - b⋅a"
      ]
     },
     "execution_count": 22,
     "metadata": {},
     "output_type": "execute_result"
    }
   ],
   "source": [
    "simplify(a * b - b * a) # can't do it"
   ]
  },
  {
   "cell_type": "code",
   "execution_count": 29,
   "metadata": {},
   "outputs": [
    {
     "data": {
      "text/latex": [
       "\\[\\left[ \\begin{array}{rr}a&b\\\\c&d\\end{array}\\right]\\]"
      ],
      "text/plain": [
       "2×2 Array{Sym,2}:\n",
       " a  b\n",
       " c  d"
      ]
     },
     "execution_count": 29,
     "metadata": {},
     "output_type": "execute_result"
    }
   ],
   "source": [
    "L = Matrix([ 1          0 ;\n",
    "              c * inv(a) 1 ])\n",
    "schur = d - c * inv(a) * b\n",
    "U =  Matrix([ a         b ;\n",
    "              0         schur ])\n",
    "\n",
    "L * U"
   ]
  },
  {
   "cell_type": "code",
   "execution_count": 36,
   "metadata": {},
   "outputs": [
    {
     "data": {
      "text/plain": [
       "10×10 SymTridiagonal{Int64,Array{Int64,1}}:\n",
       "  2  -1   ⋅   ⋅   ⋅   ⋅   ⋅   ⋅   ⋅   ⋅\n",
       " -1   2  -1   ⋅   ⋅   ⋅   ⋅   ⋅   ⋅   ⋅\n",
       "  ⋅  -1   2  -1   ⋅   ⋅   ⋅   ⋅   ⋅   ⋅\n",
       "  ⋅   ⋅  -1   2  -1   ⋅   ⋅   ⋅   ⋅   ⋅\n",
       "  ⋅   ⋅   ⋅  -1   2  -1   ⋅   ⋅   ⋅   ⋅\n",
       "  ⋅   ⋅   ⋅   ⋅  -1   2  -1   ⋅   ⋅   ⋅\n",
       "  ⋅   ⋅   ⋅   ⋅   ⋅  -1   2  -1   ⋅   ⋅\n",
       "  ⋅   ⋅   ⋅   ⋅   ⋅   ⋅  -1   2  -1   ⋅\n",
       "  ⋅   ⋅   ⋅   ⋅   ⋅   ⋅   ⋅  -1   2  -1\n",
       "  ⋅   ⋅   ⋅   ⋅   ⋅   ⋅   ⋅   ⋅  -1   2"
      ]
     },
     "execution_count": 36,
     "metadata": {},
     "output_type": "execute_result"
    }
   ],
   "source": [
    "K = SymTridiagonal( fill(2, 10), fill(-1, 9) )"
   ]
  },
  {
   "cell_type": "code",
   "execution_count": 39,
   "metadata": {},
   "outputs": [
    {
     "data": {
      "image/svg+xml": [
       "<?xml version=\"1.0\" encoding=\"utf-8\"?>\n",
       "<svg xmlns=\"http://www.w3.org/2000/svg\" xmlns:xlink=\"http://www.w3.org/1999/xlink\" width=\"600\" height=\"400\" viewBox=\"0 0 2400 1600\">\n",
       "<defs>\n",
       "  <clipPath id=\"clip970\">\n",
       "    <rect x=\"0\" y=\"0\" width=\"2400\" height=\"1600\"/>\n",
       "  </clipPath>\n",
       "</defs>\n",
       "<path clip-path=\"url(#clip970)\" d=\"\n",
       "M0 1600 L2400 1600 L2400 0 L0 0  Z\n",
       "  \" fill=\"#ffffff\" fill-rule=\"evenodd\" fill-opacity=\"1\"/>\n",
       "<defs>\n",
       "  <clipPath id=\"clip971\">\n",
       "    <rect x=\"480\" y=\"0\" width=\"1681\" height=\"1600\"/>\n",
       "  </clipPath>\n",
       "</defs>\n",
       "<path clip-path=\"url(#clip970)\" d=\"\n",
       "M146.853 1486.45 L2352.76 1486.45 L2352.76 47.2441 L146.853 47.2441  Z\n",
       "  \" fill=\"#ffffff\" fill-rule=\"evenodd\" fill-opacity=\"1\"/>\n",
       "<defs>\n",
       "  <clipPath id=\"clip972\">\n",
       "    <rect x=\"146\" y=\"47\" width=\"2207\" height=\"1440\"/>\n",
       "  </clipPath>\n",
       "</defs>\n",
       "<polyline clip-path=\"url(#clip972)\" style=\"stroke:#000000; stroke-width:2; stroke-opacity:0.1; fill:none\" points=\"\n",
       "  440.511,1486.45 440.511,47.2441 \n",
       "  \"/>\n",
       "<polyline clip-path=\"url(#clip972)\" style=\"stroke:#000000; stroke-width:2; stroke-opacity:0.1; fill:none\" points=\"\n",
       "  902.964,1486.45 902.964,47.2441 \n",
       "  \"/>\n",
       "<polyline clip-path=\"url(#clip972)\" style=\"stroke:#000000; stroke-width:2; stroke-opacity:0.1; fill:none\" points=\"\n",
       "  1365.42,1486.45 1365.42,47.2441 \n",
       "  \"/>\n",
       "<polyline clip-path=\"url(#clip972)\" style=\"stroke:#000000; stroke-width:2; stroke-opacity:0.1; fill:none\" points=\"\n",
       "  1827.87,1486.45 1827.87,47.2441 \n",
       "  \"/>\n",
       "<polyline clip-path=\"url(#clip972)\" style=\"stroke:#000000; stroke-width:2; stroke-opacity:0.1; fill:none\" points=\"\n",
       "  2290.32,1486.45 2290.32,47.2441 \n",
       "  \"/>\n",
       "<polyline clip-path=\"url(#clip972)\" style=\"stroke:#000000; stroke-width:2; stroke-opacity:0.1; fill:none\" points=\"\n",
       "  146.853,1235.03 2352.76,1235.03 \n",
       "  \"/>\n",
       "<polyline clip-path=\"url(#clip972)\" style=\"stroke:#000000; stroke-width:2; stroke-opacity:0.1; fill:none\" points=\"\n",
       "  146.853,977.53 2352.76,977.53 \n",
       "  \"/>\n",
       "<polyline clip-path=\"url(#clip972)\" style=\"stroke:#000000; stroke-width:2; stroke-opacity:0.1; fill:none\" points=\"\n",
       "  146.853,720.027 2352.76,720.027 \n",
       "  \"/>\n",
       "<polyline clip-path=\"url(#clip972)\" style=\"stroke:#000000; stroke-width:2; stroke-opacity:0.1; fill:none\" points=\"\n",
       "  146.853,462.525 2352.76,462.525 \n",
       "  \"/>\n",
       "<polyline clip-path=\"url(#clip972)\" style=\"stroke:#000000; stroke-width:2; stroke-opacity:0.1; fill:none\" points=\"\n",
       "  146.853,205.023 2352.76,205.023 \n",
       "  \"/>\n",
       "<polyline clip-path=\"url(#clip970)\" style=\"stroke:#000000; stroke-width:4; stroke-opacity:1; fill:none\" points=\"\n",
       "  146.853,1486.45 2352.76,1486.45 \n",
       "  \"/>\n",
       "<polyline clip-path=\"url(#clip970)\" style=\"stroke:#000000; stroke-width:4; stroke-opacity:1; fill:none\" points=\"\n",
       "  146.853,1486.45 146.853,47.2441 \n",
       "  \"/>\n",
       "<polyline clip-path=\"url(#clip970)\" style=\"stroke:#000000; stroke-width:4; stroke-opacity:1; fill:none\" points=\"\n",
       "  440.511,1486.45 440.511,1469.18 \n",
       "  \"/>\n",
       "<polyline clip-path=\"url(#clip970)\" style=\"stroke:#000000; stroke-width:4; stroke-opacity:1; fill:none\" points=\"\n",
       "  902.964,1486.45 902.964,1469.18 \n",
       "  \"/>\n",
       "<polyline clip-path=\"url(#clip970)\" style=\"stroke:#000000; stroke-width:4; stroke-opacity:1; fill:none\" points=\"\n",
       "  1365.42,1486.45 1365.42,1469.18 \n",
       "  \"/>\n",
       "<polyline clip-path=\"url(#clip970)\" style=\"stroke:#000000; stroke-width:4; stroke-opacity:1; fill:none\" points=\"\n",
       "  1827.87,1486.45 1827.87,1469.18 \n",
       "  \"/>\n",
       "<polyline clip-path=\"url(#clip970)\" style=\"stroke:#000000; stroke-width:4; stroke-opacity:1; fill:none\" points=\"\n",
       "  2290.32,1486.45 2290.32,1469.18 \n",
       "  \"/>\n",
       "<polyline clip-path=\"url(#clip970)\" style=\"stroke:#000000; stroke-width:4; stroke-opacity:1; fill:none\" points=\"\n",
       "  146.853,1235.03 173.324,1235.03 \n",
       "  \"/>\n",
       "<polyline clip-path=\"url(#clip970)\" style=\"stroke:#000000; stroke-width:4; stroke-opacity:1; fill:none\" points=\"\n",
       "  146.853,977.53 173.324,977.53 \n",
       "  \"/>\n",
       "<polyline clip-path=\"url(#clip970)\" style=\"stroke:#000000; stroke-width:4; stroke-opacity:1; fill:none\" points=\"\n",
       "  146.853,720.027 173.324,720.027 \n",
       "  \"/>\n",
       "<polyline clip-path=\"url(#clip970)\" style=\"stroke:#000000; stroke-width:4; stroke-opacity:1; fill:none\" points=\"\n",
       "  146.853,462.525 173.324,462.525 \n",
       "  \"/>\n",
       "<polyline clip-path=\"url(#clip970)\" style=\"stroke:#000000; stroke-width:4; stroke-opacity:1; fill:none\" points=\"\n",
       "  146.853,205.023 173.324,205.023 \n",
       "  \"/>\n",
       "<path clip-path=\"url(#clip970)\" d=\"M 0 0 M435.164 1535.98 L451.483 1535.98 L451.483 1539.92 L429.539 1539.92 L429.539 1535.98 Q432.201 1533.23 436.784 1528.6 Q441.39 1523.95 442.571 1522.61 Q444.816 1520.08 445.696 1518.35 Q446.599 1516.59 446.599 1514.9 Q446.599 1512.14 444.654 1510.41 Q442.733 1508.67 439.631 1508.67 Q437.432 1508.67 434.978 1509.43 Q432.548 1510.2 429.77 1511.75 L429.77 1507.03 Q432.594 1505.89 435.048 1505.31 Q437.502 1504.73 439.539 1504.73 Q444.909 1504.73 448.103 1507.42 Q451.298 1510.11 451.298 1514.6 Q451.298 1516.73 450.488 1518.65 Q449.701 1520.54 447.594 1523.14 Q447.015 1523.81 443.914 1527.03 Q440.812 1530.22 435.164 1535.98 Z\" fill=\"#000000\" fill-rule=\"evenodd\" fill-opacity=\"1\" /><path clip-path=\"url(#clip970)\" d=\"M 0 0 M905.974 1509.43 L894.168 1527.88 L905.974 1527.88 L905.974 1509.43 M904.747 1505.36 L910.626 1505.36 L910.626 1527.88 L915.557 1527.88 L915.557 1531.77 L910.626 1531.77 L910.626 1539.92 L905.974 1539.92 L905.974 1531.77 L890.372 1531.77 L890.372 1527.26 L904.747 1505.36 Z\" fill=\"#000000\" fill-rule=\"evenodd\" fill-opacity=\"1\" /><path clip-path=\"url(#clip970)\" d=\"M 0 0 M1365.82 1520.78 Q1362.67 1520.78 1360.82 1522.93 Q1358.99 1525.08 1358.99 1528.83 Q1358.99 1532.56 1360.82 1534.73 Q1362.67 1536.89 1365.82 1536.89 Q1368.97 1536.89 1370.8 1534.73 Q1372.65 1532.56 1372.65 1528.83 Q1372.65 1525.08 1370.8 1522.93 Q1368.97 1520.78 1365.82 1520.78 M1375.11 1506.12 L1375.11 1510.38 Q1373.35 1509.55 1371.54 1509.11 Q1369.76 1508.67 1368 1508.67 Q1363.37 1508.67 1360.92 1511.8 Q1358.48 1514.92 1358.14 1521.24 Q1359.5 1519.23 1361.56 1518.16 Q1363.62 1517.07 1366.1 1517.07 Q1371.31 1517.07 1374.32 1520.24 Q1377.35 1523.39 1377.35 1528.83 Q1377.35 1534.16 1374.2 1537.37 Q1371.05 1540.59 1365.82 1540.59 Q1359.83 1540.59 1356.66 1536.01 Q1353.48 1531.4 1353.48 1522.67 Q1353.48 1514.48 1357.37 1509.62 Q1361.26 1504.73 1367.81 1504.73 Q1369.57 1504.73 1371.36 1505.08 Q1373.16 1505.43 1375.11 1506.12 Z\" fill=\"#000000\" fill-rule=\"evenodd\" fill-opacity=\"1\" /><path clip-path=\"url(#clip970)\" d=\"M 0 0 M1827.87 1523.51 Q1824.54 1523.51 1822.62 1525.29 Q1820.72 1527.07 1820.72 1530.2 Q1820.72 1533.32 1822.62 1535.11 Q1824.54 1536.89 1827.87 1536.89 Q1831.2 1536.89 1833.13 1535.11 Q1835.05 1533.3 1835.05 1530.2 Q1835.05 1527.07 1833.13 1525.29 Q1831.23 1523.51 1827.87 1523.51 M1823.2 1521.52 Q1820.19 1520.78 1818.5 1518.72 Q1816.83 1516.66 1816.83 1513.69 Q1816.83 1509.55 1819.77 1507.14 Q1822.73 1504.73 1827.87 1504.73 Q1833.03 1504.73 1835.97 1507.14 Q1838.91 1509.55 1838.91 1513.69 Q1838.91 1516.66 1837.22 1518.72 Q1835.56 1520.78 1832.57 1521.52 Q1835.95 1522.3 1837.82 1524.6 Q1839.72 1526.89 1839.72 1530.2 Q1839.72 1535.22 1836.64 1537.91 Q1833.59 1540.59 1827.87 1540.59 Q1822.15 1540.59 1819.07 1537.91 Q1816.02 1535.22 1816.02 1530.2 Q1816.02 1526.89 1817.92 1524.6 Q1819.82 1522.3 1823.2 1521.52 M1821.48 1514.13 Q1821.48 1516.82 1823.15 1518.32 Q1824.84 1519.83 1827.87 1519.83 Q1830.88 1519.83 1832.57 1518.32 Q1834.28 1516.82 1834.28 1514.13 Q1834.28 1511.45 1832.57 1509.94 Q1830.88 1508.44 1827.87 1508.44 Q1824.84 1508.44 1823.15 1509.94 Q1821.48 1511.45 1821.48 1514.13 Z\" fill=\"#000000\" fill-rule=\"evenodd\" fill-opacity=\"1\" /><path clip-path=\"url(#clip970)\" d=\"M 0 0 M2267.2 1535.98 L2274.84 1535.98 L2274.84 1509.62 L2266.53 1511.29 L2266.53 1507.03 L2274.79 1505.36 L2279.47 1505.36 L2279.47 1535.98 L2287.11 1535.98 L2287.11 1539.92 L2267.2 1539.92 L2267.2 1535.98 Z\" fill=\"#000000\" fill-rule=\"evenodd\" fill-opacity=\"1\" /><path clip-path=\"url(#clip970)\" d=\"M 0 0 M2302.18 1508.44 Q2298.57 1508.44 2296.74 1512 Q2294.93 1515.55 2294.93 1522.67 Q2294.93 1529.78 2296.74 1533.35 Q2298.57 1536.89 2302.18 1536.89 Q2305.81 1536.89 2307.62 1533.35 Q2309.44 1529.78 2309.44 1522.67 Q2309.44 1515.55 2307.62 1512 Q2305.81 1508.44 2302.18 1508.44 M2302.18 1504.73 Q2307.99 1504.73 2311.04 1509.34 Q2314.12 1513.92 2314.12 1522.67 Q2314.12 1531.4 2311.04 1536.01 Q2307.99 1540.59 2302.18 1540.59 Q2296.37 1540.59 2293.29 1536.01 Q2290.23 1531.4 2290.23 1522.67 Q2290.23 1513.92 2293.29 1509.34 Q2296.37 1504.73 2302.18 1504.73 Z\" fill=\"#000000\" fill-rule=\"evenodd\" fill-opacity=\"1\" /><path clip-path=\"url(#clip970)\" d=\"M 0 0 M74.9365 1220.83 Q71.3254 1220.83 69.4967 1224.4 Q67.6912 1227.94 67.6912 1235.07 Q67.6912 1242.17 69.4967 1245.74 Q71.3254 1249.28 74.9365 1249.28 Q78.5707 1249.28 80.3763 1245.74 Q82.205 1242.17 82.205 1235.07 Q82.205 1227.94 80.3763 1224.4 Q78.5707 1220.83 74.9365 1220.83 M74.9365 1217.13 Q80.7467 1217.13 83.8022 1221.73 Q86.8809 1226.32 86.8809 1235.07 Q86.8809 1243.79 83.8022 1248.4 Q80.7467 1252.98 74.9365 1252.98 Q69.1264 1252.98 66.0477 1248.4 Q62.9921 1243.79 62.9921 1235.07 Q62.9921 1226.32 66.0477 1221.73 Q69.1264 1217.13 74.9365 1217.13 Z\" fill=\"#000000\" fill-rule=\"evenodd\" fill-opacity=\"1\" /><path clip-path=\"url(#clip970)\" d=\"M 0 0 M91.9503 1246.43 L96.8345 1246.43 L96.8345 1252.31 L91.9503 1252.31 L91.9503 1246.43 Z\" fill=\"#000000\" fill-rule=\"evenodd\" fill-opacity=\"1\" /><path clip-path=\"url(#clip970)\" d=\"M 0 0 M101.95 1217.75 L120.307 1217.75 L120.307 1221.69 L106.233 1221.69 L106.233 1230.16 Q107.251 1229.81 108.27 1229.65 Q109.288 1229.46 110.307 1229.46 Q116.094 1229.46 119.473 1232.64 Q122.853 1235.81 122.853 1241.22 Q122.853 1246.8 119.381 1249.9 Q115.909 1252.98 109.589 1252.98 Q107.413 1252.98 105.145 1252.61 Q102.899 1252.24 100.492 1251.5 L100.492 1246.8 Q102.575 1247.94 104.797 1248.49 Q107.02 1249.05 109.497 1249.05 Q113.501 1249.05 115.839 1246.94 Q118.177 1244.84 118.177 1241.22 Q118.177 1237.61 115.839 1235.51 Q113.501 1233.4 109.497 1233.4 Q107.622 1233.4 105.747 1233.82 Q103.895 1234.23 101.95 1235.11 L101.95 1217.75 Z\" fill=\"#000000\" fill-rule=\"evenodd\" fill-opacity=\"1\" /><path clip-path=\"url(#clip970)\" d=\"M 0 0 M65.9782 990.875 L73.6171 990.875 L73.6171 964.509 L65.3069 966.176 L65.3069 961.916 L73.5708 960.25 L78.2467 960.25 L78.2467 990.875 L85.8855 990.875 L85.8855 994.81 L65.9782 994.81 L65.9782 990.875 Z\" fill=\"#000000\" fill-rule=\"evenodd\" fill-opacity=\"1\" /><path clip-path=\"url(#clip970)\" d=\"M 0 0 M90.9549 988.93 L95.8392 988.93 L95.8392 994.81 L90.9549 994.81 L90.9549 988.93 Z\" fill=\"#000000\" fill-rule=\"evenodd\" fill-opacity=\"1\" /><path clip-path=\"url(#clip970)\" d=\"M 0 0 M110.909 963.328 Q107.297 963.328 105.469 966.893 Q103.663 970.435 103.663 977.564 Q103.663 984.671 105.469 988.236 Q107.297 991.777 110.909 991.777 Q114.543 991.777 116.348 988.236 Q118.177 984.671 118.177 977.564 Q118.177 970.435 116.348 966.893 Q114.543 963.328 110.909 963.328 M110.909 959.625 Q116.719 959.625 119.774 964.231 Q122.853 968.814 122.853 977.564 Q122.853 986.291 119.774 990.898 Q116.719 995.481 110.909 995.481 Q105.098 995.481 102.02 990.898 Q98.9642 986.291 98.9642 977.564 Q98.9642 968.814 102.02 964.231 Q105.098 959.625 110.909 959.625 Z\" fill=\"#000000\" fill-rule=\"evenodd\" fill-opacity=\"1\" /><path clip-path=\"url(#clip970)\" d=\"M 0 0 M66.9736 733.372 L74.6124 733.372 L74.6124 707.007 L66.3023 708.673 L66.3023 704.414 L74.5661 702.747 L79.242 702.747 L79.242 733.372 L86.8809 733.372 L86.8809 737.307 L66.9736 737.307 L66.9736 733.372 Z\" fill=\"#000000\" fill-rule=\"evenodd\" fill-opacity=\"1\" /><path clip-path=\"url(#clip970)\" d=\"M 0 0 M91.9503 731.428 L96.8345 731.428 L96.8345 737.307 L91.9503 737.307 L91.9503 731.428 Z\" fill=\"#000000\" fill-rule=\"evenodd\" fill-opacity=\"1\" /><path clip-path=\"url(#clip970)\" d=\"M 0 0 M101.95 702.747 L120.307 702.747 L120.307 706.683 L106.233 706.683 L106.233 715.155 Q107.251 714.808 108.27 714.645 Q109.288 714.46 110.307 714.46 Q116.094 714.46 119.473 717.632 Q122.853 720.803 122.853 726.219 Q122.853 731.798 119.381 734.9 Q115.909 737.979 109.589 737.979 Q107.413 737.979 105.145 737.608 Q102.899 737.238 100.492 736.497 L100.492 731.798 Q102.575 732.932 104.797 733.488 Q107.02 734.044 109.497 734.044 Q113.501 734.044 115.839 731.937 Q118.177 729.831 118.177 726.219 Q118.177 722.608 115.839 720.502 Q113.501 718.395 109.497 718.395 Q107.622 718.395 105.747 718.812 Q103.895 719.229 101.95 720.108 L101.95 702.747 Z\" fill=\"#000000\" fill-rule=\"evenodd\" fill-opacity=\"1\" /><path clip-path=\"url(#clip970)\" d=\"M 0 0 M69.5662 475.87 L85.8855 475.87 L85.8855 479.805 L63.9412 479.805 L63.9412 475.87 Q66.6032 473.115 71.1865 468.486 Q75.793 463.833 76.9735 462.49 Q79.2189 459.967 80.0985 458.231 Q81.0013 456.472 81.0013 454.782 Q81.0013 452.027 79.0569 450.291 Q77.1356 448.555 74.0337 448.555 Q71.8347 448.555 69.381 449.319 Q66.9504 450.083 64.1727 451.634 L64.1727 446.912 Q66.9967 445.777 69.4504 445.199 Q71.9041 444.62 73.9411 444.62 Q79.3115 444.62 82.5059 447.305 Q85.7003 449.99 85.7003 454.481 Q85.7003 456.611 84.8902 458.532 Q84.1031 460.43 81.9967 463.023 Q81.418 463.694 78.3161 466.912 Q75.2143 470.106 69.5662 475.87 Z\" fill=\"#000000\" fill-rule=\"evenodd\" fill-opacity=\"1\" /><path clip-path=\"url(#clip970)\" d=\"M 0 0 M90.9549 473.925 L95.8392 473.925 L95.8392 479.805 L90.9549 479.805 L90.9549 473.925 Z\" fill=\"#000000\" fill-rule=\"evenodd\" fill-opacity=\"1\" /><path clip-path=\"url(#clip970)\" d=\"M 0 0 M110.909 448.324 Q107.297 448.324 105.469 451.889 Q103.663 455.43 103.663 462.56 Q103.663 469.666 105.469 473.231 Q107.297 476.773 110.909 476.773 Q114.543 476.773 116.348 473.231 Q118.177 469.666 118.177 462.56 Q118.177 455.43 116.348 451.889 Q114.543 448.324 110.909 448.324 M110.909 444.62 Q116.719 444.62 119.774 449.227 Q122.853 453.81 122.853 462.56 Q122.853 471.287 119.774 475.893 Q116.719 480.476 110.909 480.476 Q105.098 480.476 102.02 475.893 Q98.9642 471.287 98.9642 462.56 Q98.9642 453.81 102.02 449.227 Q105.098 444.62 110.909 444.62 Z\" fill=\"#000000\" fill-rule=\"evenodd\" fill-opacity=\"1\" /><path clip-path=\"url(#clip970)\" d=\"M 0 0 M70.5615 218.368 L86.8809 218.368 L86.8809 222.303 L64.9366 222.303 L64.9366 218.368 Q67.5986 215.613 72.1819 210.983 Q76.7883 206.331 77.9689 204.988 Q80.2143 202.465 81.0939 200.729 Q81.9967 198.97 81.9967 197.28 Q81.9967 194.525 80.0522 192.789 Q78.1309 191.053 75.0291 191.053 Q72.83 191.053 70.3763 191.817 Q67.9458 192.581 65.168 194.132 L65.168 189.409 Q67.9921 188.275 70.4458 187.696 Q72.8995 187.118 74.9365 187.118 Q80.3068 187.118 83.5013 189.803 Q86.6957 192.488 86.6957 196.979 Q86.6957 199.108 85.8855 201.03 Q85.0985 202.928 82.992 205.52 Q82.4133 206.192 79.3115 209.409 Q76.2096 212.604 70.5615 218.368 Z\" fill=\"#000000\" fill-rule=\"evenodd\" fill-opacity=\"1\" /><path clip-path=\"url(#clip970)\" d=\"M 0 0 M91.9503 216.423 L96.8345 216.423 L96.8345 222.303 L91.9503 222.303 L91.9503 216.423 Z\" fill=\"#000000\" fill-rule=\"evenodd\" fill-opacity=\"1\" /><path clip-path=\"url(#clip970)\" d=\"M 0 0 M101.95 187.743 L120.307 187.743 L120.307 191.678 L106.233 191.678 L106.233 200.15 Q107.251 199.803 108.27 199.641 Q109.288 199.456 110.307 199.456 Q116.094 199.456 119.473 202.627 Q122.853 205.798 122.853 211.215 Q122.853 216.794 119.381 219.895 Q115.909 222.974 109.589 222.974 Q107.413 222.974 105.145 222.604 Q102.899 222.233 100.492 221.493 L100.492 216.794 Q102.575 217.928 104.797 218.483 Q107.02 219.039 109.497 219.039 Q113.501 219.039 115.839 216.932 Q118.177 214.826 118.177 211.215 Q118.177 207.604 115.839 205.497 Q113.501 203.391 109.497 203.391 Q107.622 203.391 105.747 203.808 Q103.895 204.224 101.95 205.104 L101.95 187.743 Z\" fill=\"#000000\" fill-rule=\"evenodd\" fill-opacity=\"1\" /><polyline clip-path=\"url(#clip972)\" style=\"stroke:#009af9; stroke-width:4; stroke-opacity:1; fill:none\" points=\"\n",
       "  209.284,1024.35 440.511,1071.17 671.738,1117.99 902.964,1164.8 1134.19,1211.62 1365.42,1258.44 1596.64,1305.26 1827.87,1352.08 2059.1,1398.9 2290.32,1445.72 \n",
       "  \n",
       "  \"/>\n",
       "<polyline clip-path=\"url(#clip972)\" style=\"stroke:#e26f46; stroke-width:4; stroke-opacity:1; fill:none\" points=\"\n",
       "  209.284,1071.17 440.511,649.799 671.738,743.437 902.964,837.074 1134.19,930.711 1365.42,1024.35 1596.64,1117.99 1827.87,1211.62 2059.1,1305.26 2290.32,1398.9 \n",
       "  \n",
       "  \"/>\n",
       "<polyline clip-path=\"url(#clip972)\" style=\"stroke:#3da44d; stroke-width:4; stroke-opacity:1; fill:none\" points=\"\n",
       "  209.284,1117.99 440.511,743.437 671.738,368.888 902.964,509.344 1134.19,649.799 1365.42,790.255 1596.64,930.711 1827.87,1071.17 2059.1,1211.62 2290.32,1352.08 \n",
       "  \n",
       "  \"/>\n",
       "<polyline clip-path=\"url(#clip972)\" style=\"stroke:#c271d2; stroke-width:4; stroke-opacity:1; fill:none\" points=\"\n",
       "  209.284,1164.8 440.511,837.074 671.738,509.344 902.964,181.613 1134.19,368.888 1365.42,556.162 1596.64,743.437 1827.87,930.711 2059.1,1117.99 2290.32,1305.26 \n",
       "  \n",
       "  \"/>\n",
       "<polyline clip-path=\"url(#clip972)\" style=\"stroke:#ac8d18; stroke-width:4; stroke-opacity:1; fill:none\" points=\"\n",
       "  209.284,1211.62 440.511,930.711 671.738,649.799 902.964,368.888 1134.19,87.9763 1365.42,322.069 1596.64,556.162 1827.87,790.255 2059.1,1024.35 2290.32,1258.44 \n",
       "  \n",
       "  \"/>\n",
       "<polyline clip-path=\"url(#clip972)\" style=\"stroke:#00a9ad; stroke-width:4; stroke-opacity:1; fill:none\" points=\"\n",
       "  209.284,1258.44 440.511,1024.35 671.738,790.255 902.964,556.162 1134.19,322.069 1365.42,87.9763 1596.64,368.888 1827.87,649.799 2059.1,930.711 2290.32,1211.62 \n",
       "  \n",
       "  \"/>\n",
       "<polyline clip-path=\"url(#clip972)\" style=\"stroke:#ed5d92; stroke-width:4; stroke-opacity:1; fill:none\" points=\"\n",
       "  209.284,1305.26 440.511,1117.99 671.738,930.711 902.964,743.437 1134.19,556.162 1365.42,368.888 1596.64,181.613 1827.87,509.344 2059.1,837.074 2290.32,1164.8 \n",
       "  \n",
       "  \"/>\n",
       "<polyline clip-path=\"url(#clip972)\" style=\"stroke:#c68125; stroke-width:4; stroke-opacity:1; fill:none\" points=\"\n",
       "  209.284,1352.08 440.511,1211.62 671.738,1071.17 902.964,930.711 1134.19,790.255 1365.42,649.799 1596.64,509.344 1827.87,368.888 2059.1,743.437 2290.32,1117.99 \n",
       "  \n",
       "  \"/>\n",
       "<polyline clip-path=\"url(#clip972)\" style=\"stroke:#00a98d; stroke-width:4; stroke-opacity:1; fill:none\" points=\"\n",
       "  209.284,1398.9 440.511,1305.26 671.738,1211.62 902.964,1117.99 1134.19,1024.35 1365.42,930.711 1596.64,837.074 1827.87,743.437 2059.1,649.799 2290.32,1071.17 \n",
       "  \n",
       "  \"/>\n",
       "<polyline clip-path=\"url(#clip972)\" style=\"stroke:#8e971d; stroke-width:4; stroke-opacity:1; fill:none\" points=\"\n",
       "  209.284,1445.72 440.511,1398.9 671.738,1352.08 902.964,1305.26 1134.19,1258.44 1365.42,1211.62 1596.64,1164.8 1827.87,1117.99 2059.1,1071.17 2290.32,1024.35 \n",
       "  \n",
       "  \"/>\n",
       "<path clip-path=\"url(#clip970)\" d=\"\n",
       "M1962.72 796.044 L2280.76 796.044 L2280.76 130.764 L1962.72 130.764  Z\n",
       "  \" fill=\"#ffffff\" fill-rule=\"evenodd\" fill-opacity=\"1\"/>\n",
       "<polyline clip-path=\"url(#clip970)\" style=\"stroke:#000000; stroke-width:4; stroke-opacity:1; fill:none\" points=\"\n",
       "  1962.72,796.044 2280.76,796.044 2280.76,130.764 1962.72,130.764 1962.72,796.044 \n",
       "  \"/>\n",
       "<polyline clip-path=\"url(#clip970)\" style=\"stroke:#009af9; stroke-width:4; stroke-opacity:1; fill:none\" points=\"\n",
       "  1986.72,191.244 2130.72,191.244 \n",
       "  \"/>\n",
       "<path clip-path=\"url(#clip970)\" d=\"M 0 0 M2168.57 210.931 Q2166.76 215.561 2165.05 216.973 Q2163.33 218.385 2160.46 218.385 L2157.06 218.385 L2157.06 214.82 L2159.56 214.82 Q2161.32 214.82 2162.29 213.987 Q2163.27 213.154 2164.45 210.052 L2165.21 208.107 L2154.72 182.598 L2159.24 182.598 L2167.34 202.876 L2175.44 182.598 L2179.96 182.598 L2168.57 210.931 Z\" fill=\"#000000\" fill-rule=\"evenodd\" fill-opacity=\"1\" /><path clip-path=\"url(#clip970)\" d=\"M 0 0 M2185.83 204.589 L2193.47 204.589 L2193.47 178.223 L2185.16 179.89 L2185.16 175.631 L2193.43 173.964 L2198.1 173.964 L2198.1 204.589 L2205.74 204.589 L2205.74 208.524 L2185.83 208.524 L2185.83 204.589 Z\" fill=\"#000000\" fill-rule=\"evenodd\" fill-opacity=\"1\" /><polyline clip-path=\"url(#clip970)\" style=\"stroke:#e26f46; stroke-width:4; stroke-opacity:1; fill:none\" points=\"\n",
       "  1986.72,251.724 2130.72,251.724 \n",
       "  \"/>\n",
       "<path clip-path=\"url(#clip970)\" d=\"M 0 0 M2168.57 271.411 Q2166.76 276.041 2165.05 277.453 Q2163.33 278.865 2160.46 278.865 L2157.06 278.865 L2157.06 275.3 L2159.56 275.3 Q2161.32 275.3 2162.29 274.467 Q2163.27 273.634 2164.45 270.532 L2165.21 268.587 L2154.72 243.078 L2159.24 243.078 L2167.34 263.356 L2175.44 243.078 L2179.96 243.078 L2168.57 271.411 Z\" fill=\"#000000\" fill-rule=\"evenodd\" fill-opacity=\"1\" /><path clip-path=\"url(#clip970)\" d=\"M 0 0 M2189.05 265.069 L2205.37 265.069 L2205.37 269.004 L2183.43 269.004 L2183.43 265.069 Q2186.09 262.314 2190.67 257.685 Q2195.28 253.032 2196.46 251.689 Q2198.71 249.166 2199.58 247.43 Q2200.49 245.671 2200.49 243.981 Q2200.49 241.226 2198.54 239.49 Q2196.62 237.754 2193.52 237.754 Q2191.32 237.754 2188.87 238.518 Q2186.44 239.282 2183.66 240.833 L2183.66 236.111 Q2186.48 234.976 2188.94 234.398 Q2191.39 233.819 2193.43 233.819 Q2198.8 233.819 2201.99 236.504 Q2205.19 239.189 2205.19 243.68 Q2205.19 245.81 2204.38 247.731 Q2203.59 249.629 2201.48 252.222 Q2200.9 252.893 2197.8 256.111 Q2194.7 259.305 2189.05 265.069 Z\" fill=\"#000000\" fill-rule=\"evenodd\" fill-opacity=\"1\" /><polyline clip-path=\"url(#clip970)\" style=\"stroke:#3da44d; stroke-width:4; stroke-opacity:1; fill:none\" points=\"\n",
       "  1986.72,312.204 2130.72,312.204 \n",
       "  \"/>\n",
       "<path clip-path=\"url(#clip970)\" d=\"M 0 0 M2168.57 331.891 Q2166.76 336.521 2165.05 337.933 Q2163.33 339.345 2160.46 339.345 L2157.06 339.345 L2157.06 335.78 L2159.56 335.78 Q2161.32 335.78 2162.29 334.947 Q2163.27 334.114 2164.45 331.012 L2165.21 329.067 L2154.72 303.558 L2159.24 303.558 L2167.34 323.836 L2175.44 303.558 L2179.96 303.558 L2168.57 331.891 Z\" fill=\"#000000\" fill-rule=\"evenodd\" fill-opacity=\"1\" /><path clip-path=\"url(#clip970)\" d=\"M 0 0 M2199.19 310.85 Q2202.55 311.568 2204.42 313.836 Q2206.32 316.105 2206.32 319.438 Q2206.32 324.554 2202.8 327.354 Q2199.28 330.155 2192.8 330.155 Q2190.63 330.155 2188.31 329.716 Q2186.02 329.299 2183.57 328.442 L2183.57 323.929 Q2185.51 325.063 2187.83 325.642 Q2190.14 326.22 2192.66 326.22 Q2197.06 326.22 2199.35 324.484 Q2201.67 322.748 2201.67 319.438 Q2201.67 316.382 2199.52 314.669 Q2197.39 312.933 2193.57 312.933 L2189.54 312.933 L2189.54 309.091 L2193.75 309.091 Q2197.2 309.091 2199.03 307.725 Q2200.86 306.336 2200.86 303.743 Q2200.86 301.081 2198.96 299.669 Q2197.08 298.234 2193.57 298.234 Q2191.65 298.234 2189.45 298.651 Q2187.25 299.068 2184.61 299.947 L2184.61 295.781 Q2187.27 295.04 2189.58 294.669 Q2191.92 294.299 2193.98 294.299 Q2199.31 294.299 2202.41 296.73 Q2205.51 299.137 2205.51 303.257 Q2205.51 306.128 2203.87 308.118 Q2202.22 310.086 2199.19 310.85 Z\" fill=\"#000000\" fill-rule=\"evenodd\" fill-opacity=\"1\" /><polyline clip-path=\"url(#clip970)\" style=\"stroke:#c271d2; stroke-width:4; stroke-opacity:1; fill:none\" points=\"\n",
       "  1986.72,372.684 2130.72,372.684 \n",
       "  \"/>\n",
       "<path clip-path=\"url(#clip970)\" d=\"M 0 0 M2168.57 392.371 Q2166.76 397.001 2165.05 398.413 Q2163.33 399.825 2160.46 399.825 L2157.06 399.825 L2157.06 396.26 L2159.56 396.26 Q2161.32 396.26 2162.29 395.427 Q2163.27 394.594 2164.45 391.492 L2165.21 389.547 L2154.72 364.038 L2159.24 364.038 L2167.34 384.316 L2175.44 364.038 L2179.96 364.038 L2168.57 392.371 Z\" fill=\"#000000\" fill-rule=\"evenodd\" fill-opacity=\"1\" /><path clip-path=\"url(#clip970)\" d=\"M 0 0 M2197.87 359.478 L2186.07 377.927 L2197.87 377.927 L2197.87 359.478 M2196.64 355.404 L2202.52 355.404 L2202.52 377.927 L2207.46 377.927 L2207.46 381.816 L2202.52 381.816 L2202.52 389.964 L2197.87 389.964 L2197.87 381.816 L2182.27 381.816 L2182.27 377.302 L2196.64 355.404 Z\" fill=\"#000000\" fill-rule=\"evenodd\" fill-opacity=\"1\" /><polyline clip-path=\"url(#clip970)\" style=\"stroke:#ac8d18; stroke-width:4; stroke-opacity:1; fill:none\" points=\"\n",
       "  1986.72,433.164 2130.72,433.164 \n",
       "  \"/>\n",
       "<path clip-path=\"url(#clip970)\" d=\"M 0 0 M2168.57 452.851 Q2166.76 457.481 2165.05 458.893 Q2163.33 460.305 2160.46 460.305 L2157.06 460.305 L2157.06 456.74 L2159.56 456.74 Q2161.32 456.74 2162.29 455.907 Q2163.27 455.074 2164.45 451.972 L2165.21 450.027 L2154.72 424.518 L2159.24 424.518 L2167.34 444.796 L2175.44 424.518 L2179.96 424.518 L2168.57 452.851 Z\" fill=\"#000000\" fill-rule=\"evenodd\" fill-opacity=\"1\" /><path clip-path=\"url(#clip970)\" d=\"M 0 0 M2185.07 415.884 L2203.43 415.884 L2203.43 419.819 L2189.35 419.819 L2189.35 428.291 Q2190.37 427.944 2191.39 427.782 Q2192.41 427.597 2193.43 427.597 Q2199.21 427.597 2202.59 430.768 Q2205.97 433.94 2205.97 439.356 Q2205.97 444.935 2202.5 448.037 Q2199.03 451.115 2192.71 451.115 Q2190.53 451.115 2188.27 450.745 Q2186.02 450.375 2183.61 449.634 L2183.61 444.935 Q2185.7 446.069 2187.92 446.625 Q2190.14 447.18 2192.62 447.18 Q2196.62 447.18 2198.96 445.074 Q2201.3 442.967 2201.3 439.356 Q2201.3 435.745 2198.96 433.639 Q2196.62 431.532 2192.62 431.532 Q2190.74 431.532 2188.87 431.949 Q2187.02 432.365 2185.07 433.245 L2185.07 415.884 Z\" fill=\"#000000\" fill-rule=\"evenodd\" fill-opacity=\"1\" /><polyline clip-path=\"url(#clip970)\" style=\"stroke:#00a9ad; stroke-width:4; stroke-opacity:1; fill:none\" points=\"\n",
       "  1986.72,493.644 2130.72,493.644 \n",
       "  \"/>\n",
       "<path clip-path=\"url(#clip970)\" d=\"M 0 0 M2168.57 513.331 Q2166.76 517.961 2165.05 519.373 Q2163.33 520.785 2160.46 520.785 L2157.06 520.785 L2157.06 517.22 L2159.56 517.22 Q2161.32 517.22 2162.29 516.387 Q2163.27 515.554 2164.45 512.452 L2165.21 510.507 L2154.72 484.998 L2159.24 484.998 L2167.34 505.276 L2175.44 484.998 L2179.96 484.998 L2168.57 513.331 Z\" fill=\"#000000\" fill-rule=\"evenodd\" fill-opacity=\"1\" /><path clip-path=\"url(#clip970)\" d=\"M 0 0 M2195.6 491.781 Q2192.46 491.781 2190.6 493.933 Q2188.77 496.086 2188.77 499.836 Q2188.77 503.563 2190.6 505.739 Q2192.46 507.892 2195.6 507.892 Q2198.75 507.892 2200.58 505.739 Q2202.43 503.563 2202.43 499.836 Q2202.43 496.086 2200.58 493.933 Q2198.75 491.781 2195.6 491.781 M2204.89 477.128 L2204.89 481.387 Q2203.13 480.554 2201.32 480.114 Q2199.54 479.674 2197.78 479.674 Q2193.15 479.674 2190.7 482.799 Q2188.27 485.924 2187.92 492.244 Q2189.28 490.23 2191.34 489.165 Q2193.4 488.077 2195.88 488.077 Q2201.09 488.077 2204.1 491.248 Q2207.13 494.396 2207.13 499.836 Q2207.13 505.16 2203.98 508.378 Q2200.83 511.595 2195.6 511.595 Q2189.61 511.595 2186.44 507.012 Q2183.27 502.406 2183.27 493.679 Q2183.27 485.484 2187.15 480.623 Q2191.04 475.739 2197.59 475.739 Q2199.35 475.739 2201.14 476.086 Q2202.94 476.434 2204.89 477.128 Z\" fill=\"#000000\" fill-rule=\"evenodd\" fill-opacity=\"1\" /><polyline clip-path=\"url(#clip970)\" style=\"stroke:#ed5d92; stroke-width:4; stroke-opacity:1; fill:none\" points=\"\n",
       "  1986.72,554.124 2130.72,554.124 \n",
       "  \"/>\n",
       "<path clip-path=\"url(#clip970)\" d=\"M 0 0 M2168.57 573.811 Q2166.76 578.441 2165.05 579.853 Q2163.33 581.265 2160.46 581.265 L2157.06 581.265 L2157.06 577.7 L2159.56 577.7 Q2161.32 577.7 2162.29 576.867 Q2163.27 576.034 2164.45 572.932 L2165.21 570.987 L2154.72 545.478 L2159.24 545.478 L2167.34 565.756 L2175.44 545.478 L2179.96 545.478 L2168.57 573.811 Z\" fill=\"#000000\" fill-rule=\"evenodd\" fill-opacity=\"1\" /><path clip-path=\"url(#clip970)\" d=\"M 0 0 M2183.84 536.844 L2206.07 536.844 L2206.07 538.835 L2193.52 571.404 L2188.64 571.404 L2200.44 540.779 L2183.84 540.779 L2183.84 536.844 Z\" fill=\"#000000\" fill-rule=\"evenodd\" fill-opacity=\"1\" /><polyline clip-path=\"url(#clip970)\" style=\"stroke:#c68125; stroke-width:4; stroke-opacity:1; fill:none\" points=\"\n",
       "  1986.72,614.604 2130.72,614.604 \n",
       "  \"/>\n",
       "<path clip-path=\"url(#clip970)\" d=\"M 0 0 M2168.57 634.291 Q2166.76 638.921 2165.05 640.333 Q2163.33 641.745 2160.46 641.745 L2157.06 641.745 L2157.06 638.18 L2159.56 638.18 Q2161.32 638.18 2162.29 637.347 Q2163.27 636.514 2164.45 633.412 L2165.21 631.467 L2154.72 605.958 L2159.24 605.958 L2167.34 626.236 L2175.44 605.958 L2179.96 605.958 L2168.57 634.291 Z\" fill=\"#000000\" fill-rule=\"evenodd\" fill-opacity=\"1\" /><path clip-path=\"url(#clip970)\" d=\"M 0 0 M2195.02 615.472 Q2191.69 615.472 2189.77 617.255 Q2187.87 619.037 2187.87 622.162 Q2187.87 625.287 2189.77 627.069 Q2191.69 628.852 2195.02 628.852 Q2198.36 628.852 2200.28 627.069 Q2202.2 625.264 2202.2 622.162 Q2202.2 619.037 2200.28 617.255 Q2198.38 615.472 2195.02 615.472 M2190.35 613.481 Q2187.34 612.741 2185.65 610.681 Q2183.98 608.62 2183.98 605.657 Q2183.98 601.514 2186.92 599.106 Q2189.89 596.699 2195.02 596.699 Q2200.19 596.699 2203.13 599.106 Q2206.07 601.514 2206.07 605.657 Q2206.07 608.62 2204.38 610.681 Q2202.71 612.741 2199.72 613.481 Q2203.1 614.268 2204.98 616.56 Q2206.88 618.852 2206.88 622.162 Q2206.88 627.185 2203.8 629.87 Q2200.74 632.555 2195.02 632.555 Q2189.31 632.555 2186.23 629.87 Q2183.17 627.185 2183.17 622.162 Q2183.17 618.852 2185.07 616.56 Q2186.97 614.268 2190.35 613.481 M2188.64 606.097 Q2188.64 608.782 2190.3 610.287 Q2191.99 611.792 2195.02 611.792 Q2198.03 611.792 2199.72 610.287 Q2201.44 608.782 2201.44 606.097 Q2201.44 603.412 2199.72 601.907 Q2198.03 600.403 2195.02 600.403 Q2191.99 600.403 2190.3 601.907 Q2188.64 603.412 2188.64 606.097 Z\" fill=\"#000000\" fill-rule=\"evenodd\" fill-opacity=\"1\" /><polyline clip-path=\"url(#clip970)\" style=\"stroke:#00a98d; stroke-width:4; stroke-opacity:1; fill:none\" points=\"\n",
       "  1986.72,675.084 2130.72,675.084 \n",
       "  \"/>\n",
       "<path clip-path=\"url(#clip970)\" d=\"M 0 0 M2168.57 694.771 Q2166.76 699.401 2165.05 700.813 Q2163.33 702.225 2160.46 702.225 L2157.06 702.225 L2157.06 698.66 L2159.56 698.66 Q2161.32 698.66 2162.29 697.827 Q2163.27 696.994 2164.45 693.892 L2165.21 691.947 L2154.72 666.438 L2159.24 666.438 L2167.34 686.716 L2175.44 666.438 L2179.96 666.438 L2168.57 694.771 Z\" fill=\"#000000\" fill-rule=\"evenodd\" fill-opacity=\"1\" /><path clip-path=\"url(#clip970)\" d=\"M 0 0 M2185.16 691.647 L2185.16 687.387 Q2186.92 688.221 2188.73 688.66 Q2190.53 689.1 2192.27 689.1 Q2196.9 689.1 2199.33 685.998 Q2201.78 682.873 2202.13 676.531 Q2200.79 678.522 2198.73 679.586 Q2196.67 680.651 2194.17 680.651 Q2188.98 680.651 2185.95 677.526 Q2182.94 674.378 2182.94 668.938 Q2182.94 663.614 2186.09 660.397 Q2189.24 657.179 2194.47 657.179 Q2200.46 657.179 2203.61 661.786 Q2206.78 666.369 2206.78 675.119 Q2206.78 683.29 2202.89 688.174 Q2199.03 693.035 2192.48 693.035 Q2190.72 693.035 2188.91 692.688 Q2187.11 692.341 2185.16 691.647 M2194.47 676.994 Q2197.62 676.994 2199.45 674.841 Q2201.3 672.688 2201.3 668.938 Q2201.3 665.211 2199.45 663.059 Q2197.62 660.883 2194.47 660.883 Q2191.32 660.883 2189.47 663.059 Q2187.64 665.211 2187.64 668.938 Q2187.64 672.688 2189.47 674.841 Q2191.32 676.994 2194.47 676.994 Z\" fill=\"#000000\" fill-rule=\"evenodd\" fill-opacity=\"1\" /><polyline clip-path=\"url(#clip970)\" style=\"stroke:#8e971d; stroke-width:4; stroke-opacity:1; fill:none\" points=\"\n",
       "  1986.72,735.564 2130.72,735.564 \n",
       "  \"/>\n",
       "<path clip-path=\"url(#clip970)\" d=\"M 0 0 M2168.57 755.251 Q2166.76 759.881 2165.05 761.293 Q2163.33 762.705 2160.46 762.705 L2157.06 762.705 L2157.06 759.14 L2159.56 759.14 Q2161.32 759.14 2162.29 758.307 Q2163.27 757.474 2164.45 754.372 L2165.21 752.427 L2154.72 726.918 L2159.24 726.918 L2167.34 747.196 L2175.44 726.918 L2179.96 726.918 L2168.57 755.251 Z\" fill=\"#000000\" fill-rule=\"evenodd\" fill-opacity=\"1\" /><path clip-path=\"url(#clip970)\" d=\"M 0 0 M2185.83 748.909 L2193.47 748.909 L2193.47 722.543 L2185.16 724.21 L2185.16 719.951 L2193.43 718.284 L2198.1 718.284 L2198.1 748.909 L2205.74 748.909 L2205.74 752.844 L2185.83 752.844 L2185.83 748.909 Z\" fill=\"#000000\" fill-rule=\"evenodd\" fill-opacity=\"1\" /><path clip-path=\"url(#clip970)\" d=\"M 0 0 M2220.81 721.363 Q2217.2 721.363 2215.37 724.928 Q2213.57 728.469 2213.57 735.599 Q2213.57 742.705 2215.37 746.27 Q2217.2 749.812 2220.81 749.812 Q2224.45 749.812 2226.25 746.27 Q2228.08 742.705 2228.08 735.599 Q2228.08 728.469 2226.25 724.928 Q2224.45 721.363 2220.81 721.363 M2220.81 717.659 Q2226.62 717.659 2229.68 722.266 Q2232.76 726.849 2232.76 735.599 Q2232.76 744.326 2229.68 748.932 Q2226.62 753.515 2220.81 753.515 Q2215 753.515 2211.92 748.932 Q2208.87 744.326 2208.87 735.599 Q2208.87 726.849 2211.92 722.266 Q2215 717.659 2220.81 717.659 Z\" fill=\"#000000\" fill-rule=\"evenodd\" fill-opacity=\"1\" /></svg>\n"
      ]
     },
     "execution_count": 39,
     "metadata": {},
     "output_type": "execute_result"
    }
   ],
   "source": [
    "plot(inv(K))"
   ]
  },
  {
   "cell_type": "code",
   "execution_count": 41,
   "metadata": {},
   "outputs": [
    {
     "data": {
      "text/plain": [
       "1"
      ]
     },
     "execution_count": 41,
     "metadata": {},
     "output_type": "execute_result"
    }
   ],
   "source": [
    "j = zeros(10)\n",
    "j[3] = 1"
   ]
  },
  {
   "cell_type": "code",
   "execution_count": 43,
   "metadata": {},
   "outputs": [
    {
     "data": {
      "image/svg+xml": [
       "<?xml version=\"1.0\" encoding=\"utf-8\"?>\n",
       "<svg xmlns=\"http://www.w3.org/2000/svg\" xmlns:xlink=\"http://www.w3.org/1999/xlink\" width=\"600\" height=\"400\" viewBox=\"0 0 2400 1600\">\n",
       "<defs>\n",
       "  <clipPath id=\"clip010\">\n",
       "    <rect x=\"0\" y=\"0\" width=\"2400\" height=\"1600\"/>\n",
       "  </clipPath>\n",
       "</defs>\n",
       "<path clip-path=\"url(#clip010)\" d=\"\n",
       "M0 1600 L2400 1600 L2400 0 L0 0  Z\n",
       "  \" fill=\"#ffffff\" fill-rule=\"evenodd\" fill-opacity=\"1\"/>\n",
       "<defs>\n",
       "  <clipPath id=\"clip011\">\n",
       "    <rect x=\"480\" y=\"0\" width=\"1681\" height=\"1600\"/>\n",
       "  </clipPath>\n",
       "</defs>\n",
       "<path clip-path=\"url(#clip010)\" d=\"\n",
       "M146.853 1486.45 L2352.76 1486.45 L2352.76 47.2441 L146.853 47.2441  Z\n",
       "  \" fill=\"#ffffff\" fill-rule=\"evenodd\" fill-opacity=\"1\"/>\n",
       "<defs>\n",
       "  <clipPath id=\"clip012\">\n",
       "    <rect x=\"146\" y=\"47\" width=\"2207\" height=\"1440\"/>\n",
       "  </clipPath>\n",
       "</defs>\n",
       "<polyline clip-path=\"url(#clip012)\" style=\"stroke:#000000; stroke-width:2; stroke-opacity:0.1; fill:none\" points=\"\n",
       "  440.511,1486.45 440.511,47.2441 \n",
       "  \"/>\n",
       "<polyline clip-path=\"url(#clip012)\" style=\"stroke:#000000; stroke-width:2; stroke-opacity:0.1; fill:none\" points=\"\n",
       "  902.964,1486.45 902.964,47.2441 \n",
       "  \"/>\n",
       "<polyline clip-path=\"url(#clip012)\" style=\"stroke:#000000; stroke-width:2; stroke-opacity:0.1; fill:none\" points=\"\n",
       "  1365.42,1486.45 1365.42,47.2441 \n",
       "  \"/>\n",
       "<polyline clip-path=\"url(#clip012)\" style=\"stroke:#000000; stroke-width:2; stroke-opacity:0.1; fill:none\" points=\"\n",
       "  1827.87,1486.45 1827.87,47.2441 \n",
       "  \"/>\n",
       "<polyline clip-path=\"url(#clip012)\" style=\"stroke:#000000; stroke-width:2; stroke-opacity:0.1; fill:none\" points=\"\n",
       "  2290.32,1486.45 2290.32,47.2441 \n",
       "  \"/>\n",
       "<polyline clip-path=\"url(#clip012)\" style=\"stroke:#000000; stroke-width:2; stroke-opacity:0.1; fill:none\" points=\"\n",
       "  146.853,1284.08 2352.76,1284.08 \n",
       "  \"/>\n",
       "<polyline clip-path=\"url(#clip012)\" style=\"stroke:#000000; stroke-width:2; stroke-opacity:0.1; fill:none\" points=\"\n",
       "  146.853,928.482 2352.76,928.482 \n",
       "  \"/>\n",
       "<polyline clip-path=\"url(#clip012)\" style=\"stroke:#000000; stroke-width:2; stroke-opacity:0.1; fill:none\" points=\"\n",
       "  146.853,572.883 2352.76,572.883 \n",
       "  \"/>\n",
       "<polyline clip-path=\"url(#clip012)\" style=\"stroke:#000000; stroke-width:2; stroke-opacity:0.1; fill:none\" points=\"\n",
       "  146.853,217.285 2352.76,217.285 \n",
       "  \"/>\n",
       "<polyline clip-path=\"url(#clip010)\" style=\"stroke:#000000; stroke-width:4; stroke-opacity:1; fill:none\" points=\"\n",
       "  146.853,1486.45 2352.76,1486.45 \n",
       "  \"/>\n",
       "<polyline clip-path=\"url(#clip010)\" style=\"stroke:#000000; stroke-width:4; stroke-opacity:1; fill:none\" points=\"\n",
       "  146.853,1486.45 146.853,47.2441 \n",
       "  \"/>\n",
       "<polyline clip-path=\"url(#clip010)\" style=\"stroke:#000000; stroke-width:4; stroke-opacity:1; fill:none\" points=\"\n",
       "  440.511,1486.45 440.511,1469.18 \n",
       "  \"/>\n",
       "<polyline clip-path=\"url(#clip010)\" style=\"stroke:#000000; stroke-width:4; stroke-opacity:1; fill:none\" points=\"\n",
       "  902.964,1486.45 902.964,1469.18 \n",
       "  \"/>\n",
       "<polyline clip-path=\"url(#clip010)\" style=\"stroke:#000000; stroke-width:4; stroke-opacity:1; fill:none\" points=\"\n",
       "  1365.42,1486.45 1365.42,1469.18 \n",
       "  \"/>\n",
       "<polyline clip-path=\"url(#clip010)\" style=\"stroke:#000000; stroke-width:4; stroke-opacity:1; fill:none\" points=\"\n",
       "  1827.87,1486.45 1827.87,1469.18 \n",
       "  \"/>\n",
       "<polyline clip-path=\"url(#clip010)\" style=\"stroke:#000000; stroke-width:4; stroke-opacity:1; fill:none\" points=\"\n",
       "  2290.32,1486.45 2290.32,1469.18 \n",
       "  \"/>\n",
       "<polyline clip-path=\"url(#clip010)\" style=\"stroke:#000000; stroke-width:4; stroke-opacity:1; fill:none\" points=\"\n",
       "  146.853,1284.08 173.324,1284.08 \n",
       "  \"/>\n",
       "<polyline clip-path=\"url(#clip010)\" style=\"stroke:#000000; stroke-width:4; stroke-opacity:1; fill:none\" points=\"\n",
       "  146.853,928.482 173.324,928.482 \n",
       "  \"/>\n",
       "<polyline clip-path=\"url(#clip010)\" style=\"stroke:#000000; stroke-width:4; stroke-opacity:1; fill:none\" points=\"\n",
       "  146.853,572.883 173.324,572.883 \n",
       "  \"/>\n",
       "<polyline clip-path=\"url(#clip010)\" style=\"stroke:#000000; stroke-width:4; stroke-opacity:1; fill:none\" points=\"\n",
       "  146.853,217.285 173.324,217.285 \n",
       "  \"/>\n",
       "<path clip-path=\"url(#clip010)\" d=\"M 0 0 M435.164 1535.98 L451.483 1535.98 L451.483 1539.92 L429.539 1539.92 L429.539 1535.98 Q432.201 1533.23 436.784 1528.6 Q441.39 1523.95 442.571 1522.61 Q444.816 1520.08 445.696 1518.35 Q446.599 1516.59 446.599 1514.9 Q446.599 1512.14 444.654 1510.41 Q442.733 1508.67 439.631 1508.67 Q437.432 1508.67 434.978 1509.43 Q432.548 1510.2 429.77 1511.75 L429.77 1507.03 Q432.594 1505.89 435.048 1505.31 Q437.502 1504.73 439.539 1504.73 Q444.909 1504.73 448.103 1507.42 Q451.298 1510.11 451.298 1514.6 Q451.298 1516.73 450.488 1518.65 Q449.701 1520.54 447.594 1523.14 Q447.015 1523.81 443.914 1527.03 Q440.812 1530.22 435.164 1535.98 Z\" fill=\"#000000\" fill-rule=\"evenodd\" fill-opacity=\"1\" /><path clip-path=\"url(#clip010)\" d=\"M 0 0 M905.974 1509.43 L894.168 1527.88 L905.974 1527.88 L905.974 1509.43 M904.747 1505.36 L910.626 1505.36 L910.626 1527.88 L915.557 1527.88 L915.557 1531.77 L910.626 1531.77 L910.626 1539.92 L905.974 1539.92 L905.974 1531.77 L890.372 1531.77 L890.372 1527.26 L904.747 1505.36 Z\" fill=\"#000000\" fill-rule=\"evenodd\" fill-opacity=\"1\" /><path clip-path=\"url(#clip010)\" d=\"M 0 0 M1365.82 1520.78 Q1362.67 1520.78 1360.82 1522.93 Q1358.99 1525.08 1358.99 1528.83 Q1358.99 1532.56 1360.82 1534.73 Q1362.67 1536.89 1365.82 1536.89 Q1368.97 1536.89 1370.8 1534.73 Q1372.65 1532.56 1372.65 1528.83 Q1372.65 1525.08 1370.8 1522.93 Q1368.97 1520.78 1365.82 1520.78 M1375.11 1506.12 L1375.11 1510.38 Q1373.35 1509.55 1371.54 1509.11 Q1369.76 1508.67 1368 1508.67 Q1363.37 1508.67 1360.92 1511.8 Q1358.48 1514.92 1358.14 1521.24 Q1359.5 1519.23 1361.56 1518.16 Q1363.62 1517.07 1366.1 1517.07 Q1371.31 1517.07 1374.32 1520.24 Q1377.35 1523.39 1377.35 1528.83 Q1377.35 1534.16 1374.2 1537.37 Q1371.05 1540.59 1365.82 1540.59 Q1359.83 1540.59 1356.66 1536.01 Q1353.48 1531.4 1353.48 1522.67 Q1353.48 1514.48 1357.37 1509.62 Q1361.26 1504.73 1367.81 1504.73 Q1369.57 1504.73 1371.36 1505.08 Q1373.16 1505.43 1375.11 1506.12 Z\" fill=\"#000000\" fill-rule=\"evenodd\" fill-opacity=\"1\" /><path clip-path=\"url(#clip010)\" d=\"M 0 0 M1827.87 1523.51 Q1824.54 1523.51 1822.62 1525.29 Q1820.72 1527.07 1820.72 1530.2 Q1820.72 1533.32 1822.62 1535.11 Q1824.54 1536.89 1827.87 1536.89 Q1831.2 1536.89 1833.13 1535.11 Q1835.05 1533.3 1835.05 1530.2 Q1835.05 1527.07 1833.13 1525.29 Q1831.23 1523.51 1827.87 1523.51 M1823.2 1521.52 Q1820.19 1520.78 1818.5 1518.72 Q1816.83 1516.66 1816.83 1513.69 Q1816.83 1509.55 1819.77 1507.14 Q1822.73 1504.73 1827.87 1504.73 Q1833.03 1504.73 1835.97 1507.14 Q1838.91 1509.55 1838.91 1513.69 Q1838.91 1516.66 1837.22 1518.72 Q1835.56 1520.78 1832.57 1521.52 Q1835.95 1522.3 1837.82 1524.6 Q1839.72 1526.89 1839.72 1530.2 Q1839.72 1535.22 1836.64 1537.91 Q1833.59 1540.59 1827.87 1540.59 Q1822.15 1540.59 1819.07 1537.91 Q1816.02 1535.22 1816.02 1530.2 Q1816.02 1526.89 1817.92 1524.6 Q1819.82 1522.3 1823.2 1521.52 M1821.48 1514.13 Q1821.48 1516.82 1823.15 1518.32 Q1824.84 1519.83 1827.87 1519.83 Q1830.88 1519.83 1832.57 1518.32 Q1834.28 1516.82 1834.28 1514.13 Q1834.28 1511.45 1832.57 1509.94 Q1830.88 1508.44 1827.87 1508.44 Q1824.84 1508.44 1823.15 1509.94 Q1821.48 1511.45 1821.48 1514.13 Z\" fill=\"#000000\" fill-rule=\"evenodd\" fill-opacity=\"1\" /><path clip-path=\"url(#clip010)\" d=\"M 0 0 M2267.2 1535.98 L2274.84 1535.98 L2274.84 1509.62 L2266.53 1511.29 L2266.53 1507.03 L2274.79 1505.36 L2279.47 1505.36 L2279.47 1535.98 L2287.11 1535.98 L2287.11 1539.92 L2267.2 1539.92 L2267.2 1535.98 Z\" fill=\"#000000\" fill-rule=\"evenodd\" fill-opacity=\"1\" /><path clip-path=\"url(#clip010)\" d=\"M 0 0 M2302.18 1508.44 Q2298.57 1508.44 2296.74 1512 Q2294.93 1515.55 2294.93 1522.67 Q2294.93 1529.78 2296.74 1533.35 Q2298.57 1536.89 2302.18 1536.89 Q2305.81 1536.89 2307.62 1533.35 Q2309.44 1529.78 2309.44 1522.67 Q2309.44 1515.55 2307.62 1512 Q2305.81 1508.44 2302.18 1508.44 M2302.18 1504.73 Q2307.99 1504.73 2311.04 1509.34 Q2314.12 1513.92 2314.12 1522.67 Q2314.12 1531.4 2311.04 1536.01 Q2307.99 1540.59 2302.18 1540.59 Q2296.37 1540.59 2293.29 1536.01 Q2290.23 1531.4 2290.23 1522.67 Q2290.23 1513.92 2293.29 1509.34 Q2296.37 1504.73 2302.18 1504.73 Z\" fill=\"#000000\" fill-rule=\"evenodd\" fill-opacity=\"1\" /><path clip-path=\"url(#clip010)\" d=\"M 0 0 M74.9365 1269.88 Q71.3254 1269.88 69.4967 1273.44 Q67.6912 1276.99 67.6912 1284.11 Q67.6912 1291.22 69.4967 1294.79 Q71.3254 1298.33 74.9365 1298.33 Q78.5707 1298.33 80.3763 1294.79 Q82.205 1291.22 82.205 1284.11 Q82.205 1276.99 80.3763 1273.44 Q78.5707 1269.88 74.9365 1269.88 M74.9365 1266.18 Q80.7467 1266.18 83.8022 1270.78 Q86.8809 1275.36 86.8809 1284.11 Q86.8809 1292.84 83.8022 1297.45 Q80.7467 1302.03 74.9365 1302.03 Q69.1264 1302.03 66.0477 1297.45 Q62.9921 1292.84 62.9921 1284.11 Q62.9921 1275.36 66.0477 1270.78 Q69.1264 1266.18 74.9365 1266.18 Z\" fill=\"#000000\" fill-rule=\"evenodd\" fill-opacity=\"1\" /><path clip-path=\"url(#clip010)\" d=\"M 0 0 M91.9503 1295.48 L96.8345 1295.48 L96.8345 1301.36 L91.9503 1301.36 L91.9503 1295.48 Z\" fill=\"#000000\" fill-rule=\"evenodd\" fill-opacity=\"1\" /><path clip-path=\"url(#clip010)\" d=\"M 0 0 M101.95 1266.8 L120.307 1266.8 L120.307 1270.74 L106.233 1270.74 L106.233 1279.21 Q107.251 1278.86 108.27 1278.7 Q109.288 1278.51 110.307 1278.51 Q116.094 1278.51 119.473 1281.68 Q122.853 1284.86 122.853 1290.27 Q122.853 1295.85 119.381 1298.95 Q115.909 1302.03 109.589 1302.03 Q107.413 1302.03 105.145 1301.66 Q102.899 1301.29 100.492 1300.55 L100.492 1295.85 Q102.575 1296.99 104.797 1297.54 Q107.02 1298.1 109.497 1298.1 Q113.501 1298.1 115.839 1295.99 Q118.177 1293.88 118.177 1290.27 Q118.177 1286.66 115.839 1284.55 Q113.501 1282.45 109.497 1282.45 Q107.622 1282.45 105.747 1282.86 Q103.895 1283.28 101.95 1284.16 L101.95 1266.8 Z\" fill=\"#000000\" fill-rule=\"evenodd\" fill-opacity=\"1\" /><path clip-path=\"url(#clip010)\" d=\"M 0 0 M65.9782 941.826 L73.6171 941.826 L73.6171 915.461 L65.3069 917.128 L65.3069 912.868 L73.5708 911.202 L78.2467 911.202 L78.2467 941.826 L85.8855 941.826 L85.8855 945.762 L65.9782 945.762 L65.9782 941.826 Z\" fill=\"#000000\" fill-rule=\"evenodd\" fill-opacity=\"1\" /><path clip-path=\"url(#clip010)\" d=\"M 0 0 M90.9549 939.882 L95.8392 939.882 L95.8392 945.762 L90.9549 945.762 L90.9549 939.882 Z\" fill=\"#000000\" fill-rule=\"evenodd\" fill-opacity=\"1\" /><path clip-path=\"url(#clip010)\" d=\"M 0 0 M110.909 914.28 Q107.297 914.28 105.469 917.845 Q103.663 921.387 103.663 928.516 Q103.663 935.623 105.469 939.188 Q107.297 942.729 110.909 942.729 Q114.543 942.729 116.348 939.188 Q118.177 935.623 118.177 928.516 Q118.177 921.387 116.348 917.845 Q114.543 914.28 110.909 914.28 M110.909 910.577 Q116.719 910.577 119.774 915.183 Q122.853 919.766 122.853 928.516 Q122.853 937.243 119.774 941.85 Q116.719 946.433 110.909 946.433 Q105.098 946.433 102.02 941.85 Q98.9642 937.243 98.9642 928.516 Q98.9642 919.766 102.02 915.183 Q105.098 910.577 110.909 910.577 Z\" fill=\"#000000\" fill-rule=\"evenodd\" fill-opacity=\"1\" /><path clip-path=\"url(#clip010)\" d=\"M 0 0 M66.9736 586.228 L74.6124 586.228 L74.6124 559.862 L66.3023 561.529 L66.3023 557.27 L74.5661 555.603 L79.242 555.603 L79.242 586.228 L86.8809 586.228 L86.8809 590.163 L66.9736 590.163 L66.9736 586.228 Z\" fill=\"#000000\" fill-rule=\"evenodd\" fill-opacity=\"1\" /><path clip-path=\"url(#clip010)\" d=\"M 0 0 M91.9503 584.284 L96.8345 584.284 L96.8345 590.163 L91.9503 590.163 L91.9503 584.284 Z\" fill=\"#000000\" fill-rule=\"evenodd\" fill-opacity=\"1\" /><path clip-path=\"url(#clip010)\" d=\"M 0 0 M101.95 555.603 L120.307 555.603 L120.307 559.538 L106.233 559.538 L106.233 568.011 Q107.251 567.663 108.27 567.501 Q109.288 567.316 110.307 567.316 Q116.094 567.316 119.473 570.487 Q122.853 573.659 122.853 579.075 Q122.853 584.654 119.381 587.756 Q115.909 590.835 109.589 590.835 Q107.413 590.835 105.145 590.464 Q102.899 590.094 100.492 589.353 L100.492 584.654 Q102.575 585.788 104.797 586.344 Q107.02 586.899 109.497 586.899 Q113.501 586.899 115.839 584.793 Q118.177 582.686 118.177 579.075 Q118.177 575.464 115.839 573.358 Q113.501 571.251 109.497 571.251 Q107.622 571.251 105.747 571.668 Q103.895 572.085 101.95 572.964 L101.95 555.603 Z\" fill=\"#000000\" fill-rule=\"evenodd\" fill-opacity=\"1\" /><path clip-path=\"url(#clip010)\" d=\"M 0 0 M69.5662 230.63 L85.8855 230.63 L85.8855 234.565 L63.9412 234.565 L63.9412 230.63 Q66.6032 227.875 71.1865 223.245 Q75.793 218.593 76.9735 217.25 Q79.2189 214.727 80.0985 212.991 Q81.0013 211.232 81.0013 209.542 Q81.0013 206.787 79.0569 205.051 Q77.1356 203.315 74.0337 203.315 Q71.8347 203.315 69.381 204.079 Q66.9504 204.843 64.1727 206.394 L64.1727 201.671 Q66.9967 200.537 69.4504 199.958 Q71.9041 199.38 73.9411 199.38 Q79.3115 199.38 82.5059 202.065 Q85.7003 204.75 85.7003 209.241 Q85.7003 211.37 84.8902 213.292 Q84.1031 215.19 81.9967 217.782 Q81.418 218.454 78.3161 221.671 Q75.2143 224.866 69.5662 230.63 Z\" fill=\"#000000\" fill-rule=\"evenodd\" fill-opacity=\"1\" /><path clip-path=\"url(#clip010)\" d=\"M 0 0 M90.9549 228.685 L95.8392 228.685 L95.8392 234.565 L90.9549 234.565 L90.9549 228.685 Z\" fill=\"#000000\" fill-rule=\"evenodd\" fill-opacity=\"1\" /><path clip-path=\"url(#clip010)\" d=\"M 0 0 M110.909 203.083 Q107.297 203.083 105.469 206.648 Q103.663 210.19 103.663 217.32 Q103.663 224.426 105.469 227.991 Q107.297 231.532 110.909 231.532 Q114.543 231.532 116.348 227.991 Q118.177 224.426 118.177 217.32 Q118.177 210.19 116.348 206.648 Q114.543 203.083 110.909 203.083 M110.909 199.38 Q116.719 199.38 119.774 203.986 Q122.853 208.57 122.853 217.32 Q122.853 226.046 119.774 230.653 Q116.719 235.236 110.909 235.236 Q105.098 235.236 102.02 230.653 Q98.9642 226.046 98.9642 217.32 Q98.9642 208.57 102.02 203.986 Q105.098 199.38 110.909 199.38 Z\" fill=\"#000000\" fill-rule=\"evenodd\" fill-opacity=\"1\" /><polyline clip-path=\"url(#clip012)\" style=\"stroke:#009af9; stroke-width:4; stroke-opacity:1; fill:none\" points=\"\n",
       "  209.284,1122.44 440.511,605.21 671.738,87.9763 902.964,281.939 1134.19,475.902 1365.42,669.865 1596.64,863.827 1827.87,1057.79 2059.1,1251.75 2290.32,1445.72 \n",
       "  \n",
       "  \"/>\n",
       "<path clip-path=\"url(#clip010)\" d=\"\n",
       "M1989.74 251.724 L2280.76 251.724 L2280.76 130.764 L1989.74 130.764  Z\n",
       "  \" fill=\"#ffffff\" fill-rule=\"evenodd\" fill-opacity=\"1\"/>\n",
       "<polyline clip-path=\"url(#clip010)\" style=\"stroke:#000000; stroke-width:4; stroke-opacity:1; fill:none\" points=\"\n",
       "  1989.74,251.724 2280.76,251.724 2280.76,130.764 1989.74,130.764 1989.74,251.724 \n",
       "  \"/>\n",
       "<polyline clip-path=\"url(#clip010)\" style=\"stroke:#009af9; stroke-width:4; stroke-opacity:1; fill:none\" points=\"\n",
       "  2013.74,191.244 2157.74,191.244 \n",
       "  \"/>\n",
       "<path clip-path=\"url(#clip010)\" d=\"M 0 0 M2195.58 210.931 Q2193.77 215.561 2192.06 216.973 Q2190.35 218.385 2187.48 218.385 L2184.08 218.385 L2184.08 214.82 L2186.58 214.82 Q2188.33 214.82 2189.31 213.987 Q2190.28 213.154 2191.46 210.052 L2192.22 208.107 L2181.74 182.598 L2186.25 182.598 L2194.35 202.876 L2202.46 182.598 L2206.97 182.598 L2195.58 210.931 Z\" fill=\"#000000\" fill-rule=\"evenodd\" fill-opacity=\"1\" /><path clip-path=\"url(#clip010)\" d=\"M 0 0 M2212.85 204.589 L2220.49 204.589 L2220.49 178.223 L2212.18 179.89 L2212.18 175.631 L2220.44 173.964 L2225.12 173.964 L2225.12 204.589 L2232.76 204.589 L2232.76 208.524 L2212.85 208.524 L2212.85 204.589 Z\" fill=\"#000000\" fill-rule=\"evenodd\" fill-opacity=\"1\" /></svg>\n"
      ]
     },
     "execution_count": 43,
     "metadata": {},
     "output_type": "execute_result"
    }
   ],
   "source": [
    "plot(K \\ j)"
   ]
  },
  {
   "cell_type": "code",
   "execution_count": 57,
   "metadata": {},
   "outputs": [],
   "source": []
  },
  {
   "cell_type": "code",
   "execution_count": 88,
   "metadata": {},
   "outputs": [
    {
     "data": {
      "text/plain": [
       "2×8 Array{Float64,2}:\n",
       " 0.0  0.0  0.0  0.0  0.0  0.0  0.0  -0.666667\n",
       " 0.0  0.0  0.0  0.0  0.0  0.0  0.0  -0.333333"
      ]
     },
     "execution_count": 88,
     "metadata": {},
     "output_type": "execute_result"
    }
   ],
   "source": [
    "\n",
    "\n",
    "K = SymTridiagonal( fill(2.0, 10), fill(-1.0, 9) )\n",
    "Kb = BlockArray(sparse(K), [8,2], [8,2])\n",
    "Kb[Block(2,2)] \\ Array(Kb[Block(2,1)])"
   ]
  },
  {
   "cell_type": "code",
   "execution_count": 89,
   "metadata": {},
   "outputs": [
    {
     "data": {
      "text/plain": [
       "schurC (generic function with 1 method)"
      ]
     },
     "execution_count": 89,
     "metadata": {},
     "output_type": "execute_result"
    }
   ],
   "source": [
    "schurC(A) = A[Block(1,1)] - A[Block(1,2)] * (A[Block(2,2)] \\ Array(A[Block(2,1)])  )"
   ]
  },
  {
   "cell_type": "code",
   "execution_count": 94,
   "metadata": {},
   "outputs": [
    {
     "data": {
      "image/svg+xml": [
       "<?xml version=\"1.0\" encoding=\"utf-8\"?>\n",
       "<svg xmlns=\"http://www.w3.org/2000/svg\" xmlns:xlink=\"http://www.w3.org/1999/xlink\" width=\"600\" height=\"400\" viewBox=\"0 0 2400 1600\">\n",
       "<defs>\n",
       "  <clipPath id=\"clip130\">\n",
       "    <rect x=\"0\" y=\"0\" width=\"2400\" height=\"1600\"/>\n",
       "  </clipPath>\n",
       "</defs>\n",
       "<path clip-path=\"url(#clip130)\" d=\"\n",
       "M0 1600 L2400 1600 L2400 0 L0 0  Z\n",
       "  \" fill=\"#ffffff\" fill-rule=\"evenodd\" fill-opacity=\"1\"/>\n",
       "<defs>\n",
       "  <clipPath id=\"clip131\">\n",
       "    <rect x=\"480\" y=\"0\" width=\"1681\" height=\"1600\"/>\n",
       "  </clipPath>\n",
       "</defs>\n",
       "<path clip-path=\"url(#clip130)\" d=\"\n",
       "M146.853 1486.45 L2352.76 1486.45 L2352.76 47.2441 L146.853 47.2441  Z\n",
       "  \" fill=\"#ffffff\" fill-rule=\"evenodd\" fill-opacity=\"1\"/>\n",
       "<defs>\n",
       "  <clipPath id=\"clip132\">\n",
       "    <rect x=\"146\" y=\"47\" width=\"2207\" height=\"1440\"/>\n",
       "  </clipPath>\n",
       "</defs>\n",
       "<polyline clip-path=\"url(#clip132)\" style=\"stroke:#000000; stroke-width:2; stroke-opacity:0.1; fill:none\" points=\"\n",
       "  440.511,1486.45 440.511,47.2441 \n",
       "  \"/>\n",
       "<polyline clip-path=\"url(#clip132)\" style=\"stroke:#000000; stroke-width:2; stroke-opacity:0.1; fill:none\" points=\"\n",
       "  902.964,1486.45 902.964,47.2441 \n",
       "  \"/>\n",
       "<polyline clip-path=\"url(#clip132)\" style=\"stroke:#000000; stroke-width:2; stroke-opacity:0.1; fill:none\" points=\"\n",
       "  1365.42,1486.45 1365.42,47.2441 \n",
       "  \"/>\n",
       "<polyline clip-path=\"url(#clip132)\" style=\"stroke:#000000; stroke-width:2; stroke-opacity:0.1; fill:none\" points=\"\n",
       "  1827.87,1486.45 1827.87,47.2441 \n",
       "  \"/>\n",
       "<polyline clip-path=\"url(#clip132)\" style=\"stroke:#000000; stroke-width:2; stroke-opacity:0.1; fill:none\" points=\"\n",
       "  2290.32,1486.45 2290.32,47.2441 \n",
       "  \"/>\n",
       "<polyline clip-path=\"url(#clip132)\" style=\"stroke:#000000; stroke-width:2; stroke-opacity:0.1; fill:none\" points=\"\n",
       "  146.853,1284.08 2352.76,1284.08 \n",
       "  \"/>\n",
       "<polyline clip-path=\"url(#clip132)\" style=\"stroke:#000000; stroke-width:2; stroke-opacity:0.1; fill:none\" points=\"\n",
       "  146.853,928.482 2352.76,928.482 \n",
       "  \"/>\n",
       "<polyline clip-path=\"url(#clip132)\" style=\"stroke:#000000; stroke-width:2; stroke-opacity:0.1; fill:none\" points=\"\n",
       "  146.853,572.883 2352.76,572.883 \n",
       "  \"/>\n",
       "<polyline clip-path=\"url(#clip132)\" style=\"stroke:#000000; stroke-width:2; stroke-opacity:0.1; fill:none\" points=\"\n",
       "  146.853,217.285 2352.76,217.285 \n",
       "  \"/>\n",
       "<polyline clip-path=\"url(#clip130)\" style=\"stroke:#000000; stroke-width:4; stroke-opacity:1; fill:none\" points=\"\n",
       "  146.853,1486.45 2352.76,1486.45 \n",
       "  \"/>\n",
       "<polyline clip-path=\"url(#clip130)\" style=\"stroke:#000000; stroke-width:4; stroke-opacity:1; fill:none\" points=\"\n",
       "  146.853,1486.45 146.853,47.2441 \n",
       "  \"/>\n",
       "<polyline clip-path=\"url(#clip130)\" style=\"stroke:#000000; stroke-width:4; stroke-opacity:1; fill:none\" points=\"\n",
       "  440.511,1486.45 440.511,1469.18 \n",
       "  \"/>\n",
       "<polyline clip-path=\"url(#clip130)\" style=\"stroke:#000000; stroke-width:4; stroke-opacity:1; fill:none\" points=\"\n",
       "  902.964,1486.45 902.964,1469.18 \n",
       "  \"/>\n",
       "<polyline clip-path=\"url(#clip130)\" style=\"stroke:#000000; stroke-width:4; stroke-opacity:1; fill:none\" points=\"\n",
       "  1365.42,1486.45 1365.42,1469.18 \n",
       "  \"/>\n",
       "<polyline clip-path=\"url(#clip130)\" style=\"stroke:#000000; stroke-width:4; stroke-opacity:1; fill:none\" points=\"\n",
       "  1827.87,1486.45 1827.87,1469.18 \n",
       "  \"/>\n",
       "<polyline clip-path=\"url(#clip130)\" style=\"stroke:#000000; stroke-width:4; stroke-opacity:1; fill:none\" points=\"\n",
       "  2290.32,1486.45 2290.32,1469.18 \n",
       "  \"/>\n",
       "<polyline clip-path=\"url(#clip130)\" style=\"stroke:#000000; stroke-width:4; stroke-opacity:1; fill:none\" points=\"\n",
       "  146.853,1284.08 173.324,1284.08 \n",
       "  \"/>\n",
       "<polyline clip-path=\"url(#clip130)\" style=\"stroke:#000000; stroke-width:4; stroke-opacity:1; fill:none\" points=\"\n",
       "  146.853,928.482 173.324,928.482 \n",
       "  \"/>\n",
       "<polyline clip-path=\"url(#clip130)\" style=\"stroke:#000000; stroke-width:4; stroke-opacity:1; fill:none\" points=\"\n",
       "  146.853,572.883 173.324,572.883 \n",
       "  \"/>\n",
       "<polyline clip-path=\"url(#clip130)\" style=\"stroke:#000000; stroke-width:4; stroke-opacity:1; fill:none\" points=\"\n",
       "  146.853,217.285 173.324,217.285 \n",
       "  \"/>\n",
       "<path clip-path=\"url(#clip130)\" d=\"M 0 0 M435.164 1535.98 L451.483 1535.98 L451.483 1539.92 L429.539 1539.92 L429.539 1535.98 Q432.201 1533.23 436.784 1528.6 Q441.39 1523.95 442.571 1522.61 Q444.816 1520.08 445.696 1518.35 Q446.599 1516.59 446.599 1514.9 Q446.599 1512.14 444.654 1510.41 Q442.733 1508.67 439.631 1508.67 Q437.432 1508.67 434.978 1509.43 Q432.548 1510.2 429.77 1511.75 L429.77 1507.03 Q432.594 1505.89 435.048 1505.31 Q437.502 1504.73 439.539 1504.73 Q444.909 1504.73 448.103 1507.42 Q451.298 1510.11 451.298 1514.6 Q451.298 1516.73 450.488 1518.65 Q449.701 1520.54 447.594 1523.14 Q447.015 1523.81 443.914 1527.03 Q440.812 1530.22 435.164 1535.98 Z\" fill=\"#000000\" fill-rule=\"evenodd\" fill-opacity=\"1\" /><path clip-path=\"url(#clip130)\" d=\"M 0 0 M905.974 1509.43 L894.168 1527.88 L905.974 1527.88 L905.974 1509.43 M904.747 1505.36 L910.626 1505.36 L910.626 1527.88 L915.557 1527.88 L915.557 1531.77 L910.626 1531.77 L910.626 1539.92 L905.974 1539.92 L905.974 1531.77 L890.372 1531.77 L890.372 1527.26 L904.747 1505.36 Z\" fill=\"#000000\" fill-rule=\"evenodd\" fill-opacity=\"1\" /><path clip-path=\"url(#clip130)\" d=\"M 0 0 M1365.82 1520.78 Q1362.67 1520.78 1360.82 1522.93 Q1358.99 1525.08 1358.99 1528.83 Q1358.99 1532.56 1360.82 1534.73 Q1362.67 1536.89 1365.82 1536.89 Q1368.97 1536.89 1370.8 1534.73 Q1372.65 1532.56 1372.65 1528.83 Q1372.65 1525.08 1370.8 1522.93 Q1368.97 1520.78 1365.82 1520.78 M1375.11 1506.12 L1375.11 1510.38 Q1373.35 1509.55 1371.54 1509.11 Q1369.76 1508.67 1368 1508.67 Q1363.37 1508.67 1360.92 1511.8 Q1358.48 1514.92 1358.14 1521.24 Q1359.5 1519.23 1361.56 1518.16 Q1363.62 1517.07 1366.1 1517.07 Q1371.31 1517.07 1374.32 1520.24 Q1377.35 1523.39 1377.35 1528.83 Q1377.35 1534.16 1374.2 1537.37 Q1371.05 1540.59 1365.82 1540.59 Q1359.83 1540.59 1356.66 1536.01 Q1353.48 1531.4 1353.48 1522.67 Q1353.48 1514.48 1357.37 1509.62 Q1361.26 1504.73 1367.81 1504.73 Q1369.57 1504.73 1371.36 1505.08 Q1373.16 1505.43 1375.11 1506.12 Z\" fill=\"#000000\" fill-rule=\"evenodd\" fill-opacity=\"1\" /><path clip-path=\"url(#clip130)\" d=\"M 0 0 M1827.87 1523.51 Q1824.54 1523.51 1822.62 1525.29 Q1820.72 1527.07 1820.72 1530.2 Q1820.72 1533.32 1822.62 1535.11 Q1824.54 1536.89 1827.87 1536.89 Q1831.2 1536.89 1833.13 1535.11 Q1835.05 1533.3 1835.05 1530.2 Q1835.05 1527.07 1833.13 1525.29 Q1831.23 1523.51 1827.87 1523.51 M1823.2 1521.52 Q1820.19 1520.78 1818.5 1518.72 Q1816.83 1516.66 1816.83 1513.69 Q1816.83 1509.55 1819.77 1507.14 Q1822.73 1504.73 1827.87 1504.73 Q1833.03 1504.73 1835.97 1507.14 Q1838.91 1509.55 1838.91 1513.69 Q1838.91 1516.66 1837.22 1518.72 Q1835.56 1520.78 1832.57 1521.52 Q1835.95 1522.3 1837.82 1524.6 Q1839.72 1526.89 1839.72 1530.2 Q1839.72 1535.22 1836.64 1537.91 Q1833.59 1540.59 1827.87 1540.59 Q1822.15 1540.59 1819.07 1537.91 Q1816.02 1535.22 1816.02 1530.2 Q1816.02 1526.89 1817.92 1524.6 Q1819.82 1522.3 1823.2 1521.52 M1821.48 1514.13 Q1821.48 1516.82 1823.15 1518.32 Q1824.84 1519.83 1827.87 1519.83 Q1830.88 1519.83 1832.57 1518.32 Q1834.28 1516.82 1834.28 1514.13 Q1834.28 1511.45 1832.57 1509.94 Q1830.88 1508.44 1827.87 1508.44 Q1824.84 1508.44 1823.15 1509.94 Q1821.48 1511.45 1821.48 1514.13 Z\" fill=\"#000000\" fill-rule=\"evenodd\" fill-opacity=\"1\" /><path clip-path=\"url(#clip130)\" d=\"M 0 0 M2267.2 1535.98 L2274.84 1535.98 L2274.84 1509.62 L2266.53 1511.29 L2266.53 1507.03 L2274.79 1505.36 L2279.47 1505.36 L2279.47 1535.98 L2287.11 1535.98 L2287.11 1539.92 L2267.2 1539.92 L2267.2 1535.98 Z\" fill=\"#000000\" fill-rule=\"evenodd\" fill-opacity=\"1\" /><path clip-path=\"url(#clip130)\" d=\"M 0 0 M2302.18 1508.44 Q2298.57 1508.44 2296.74 1512 Q2294.93 1515.55 2294.93 1522.67 Q2294.93 1529.78 2296.74 1533.35 Q2298.57 1536.89 2302.18 1536.89 Q2305.81 1536.89 2307.62 1533.35 Q2309.44 1529.78 2309.44 1522.67 Q2309.44 1515.55 2307.62 1512 Q2305.81 1508.44 2302.18 1508.44 M2302.18 1504.73 Q2307.99 1504.73 2311.04 1509.34 Q2314.12 1513.92 2314.12 1522.67 Q2314.12 1531.4 2311.04 1536.01 Q2307.99 1540.59 2302.18 1540.59 Q2296.37 1540.59 2293.29 1536.01 Q2290.23 1531.4 2290.23 1522.67 Q2290.23 1513.92 2293.29 1509.34 Q2296.37 1504.73 2302.18 1504.73 Z\" fill=\"#000000\" fill-rule=\"evenodd\" fill-opacity=\"1\" /><path clip-path=\"url(#clip130)\" d=\"M 0 0 M74.9365 1269.88 Q71.3254 1269.88 69.4967 1273.44 Q67.6912 1276.99 67.6912 1284.11 Q67.6912 1291.22 69.4967 1294.79 Q71.3254 1298.33 74.9365 1298.33 Q78.5707 1298.33 80.3763 1294.79 Q82.205 1291.22 82.205 1284.11 Q82.205 1276.99 80.3763 1273.44 Q78.5707 1269.88 74.9365 1269.88 M74.9365 1266.18 Q80.7467 1266.18 83.8022 1270.78 Q86.8809 1275.36 86.8809 1284.11 Q86.8809 1292.84 83.8022 1297.45 Q80.7467 1302.03 74.9365 1302.03 Q69.1264 1302.03 66.0477 1297.45 Q62.9921 1292.84 62.9921 1284.11 Q62.9921 1275.36 66.0477 1270.78 Q69.1264 1266.18 74.9365 1266.18 Z\" fill=\"#000000\" fill-rule=\"evenodd\" fill-opacity=\"1\" /><path clip-path=\"url(#clip130)\" d=\"M 0 0 M91.9503 1295.48 L96.8345 1295.48 L96.8345 1301.36 L91.9503 1301.36 L91.9503 1295.48 Z\" fill=\"#000000\" fill-rule=\"evenodd\" fill-opacity=\"1\" /><path clip-path=\"url(#clip130)\" d=\"M 0 0 M101.95 1266.8 L120.307 1266.8 L120.307 1270.74 L106.233 1270.74 L106.233 1279.21 Q107.251 1278.86 108.27 1278.7 Q109.288 1278.51 110.307 1278.51 Q116.094 1278.51 119.473 1281.68 Q122.853 1284.86 122.853 1290.27 Q122.853 1295.85 119.381 1298.95 Q115.909 1302.03 109.589 1302.03 Q107.413 1302.03 105.145 1301.66 Q102.899 1301.29 100.492 1300.55 L100.492 1295.85 Q102.575 1296.99 104.797 1297.54 Q107.02 1298.1 109.497 1298.1 Q113.501 1298.1 115.839 1295.99 Q118.177 1293.88 118.177 1290.27 Q118.177 1286.66 115.839 1284.55 Q113.501 1282.45 109.497 1282.45 Q107.622 1282.45 105.747 1282.86 Q103.895 1283.28 101.95 1284.16 L101.95 1266.8 Z\" fill=\"#000000\" fill-rule=\"evenodd\" fill-opacity=\"1\" /><path clip-path=\"url(#clip130)\" d=\"M 0 0 M65.9782 941.826 L73.6171 941.826 L73.6171 915.461 L65.3069 917.128 L65.3069 912.868 L73.5708 911.202 L78.2467 911.202 L78.2467 941.826 L85.8855 941.826 L85.8855 945.762 L65.9782 945.762 L65.9782 941.826 Z\" fill=\"#000000\" fill-rule=\"evenodd\" fill-opacity=\"1\" /><path clip-path=\"url(#clip130)\" d=\"M 0 0 M90.9549 939.882 L95.8392 939.882 L95.8392 945.762 L90.9549 945.762 L90.9549 939.882 Z\" fill=\"#000000\" fill-rule=\"evenodd\" fill-opacity=\"1\" /><path clip-path=\"url(#clip130)\" d=\"M 0 0 M110.909 914.28 Q107.297 914.28 105.469 917.845 Q103.663 921.387 103.663 928.516 Q103.663 935.623 105.469 939.188 Q107.297 942.729 110.909 942.729 Q114.543 942.729 116.348 939.188 Q118.177 935.623 118.177 928.516 Q118.177 921.387 116.348 917.845 Q114.543 914.28 110.909 914.28 M110.909 910.577 Q116.719 910.577 119.774 915.183 Q122.853 919.766 122.853 928.516 Q122.853 937.243 119.774 941.85 Q116.719 946.433 110.909 946.433 Q105.098 946.433 102.02 941.85 Q98.9642 937.243 98.9642 928.516 Q98.9642 919.766 102.02 915.183 Q105.098 910.577 110.909 910.577 Z\" fill=\"#000000\" fill-rule=\"evenodd\" fill-opacity=\"1\" /><path clip-path=\"url(#clip130)\" d=\"M 0 0 M66.9736 586.228 L74.6124 586.228 L74.6124 559.862 L66.3023 561.529 L66.3023 557.27 L74.5661 555.603 L79.242 555.603 L79.242 586.228 L86.8809 586.228 L86.8809 590.163 L66.9736 590.163 L66.9736 586.228 Z\" fill=\"#000000\" fill-rule=\"evenodd\" fill-opacity=\"1\" /><path clip-path=\"url(#clip130)\" d=\"M 0 0 M91.9503 584.284 L96.8345 584.284 L96.8345 590.163 L91.9503 590.163 L91.9503 584.284 Z\" fill=\"#000000\" fill-rule=\"evenodd\" fill-opacity=\"1\" /><path clip-path=\"url(#clip130)\" d=\"M 0 0 M101.95 555.603 L120.307 555.603 L120.307 559.538 L106.233 559.538 L106.233 568.011 Q107.251 567.663 108.27 567.501 Q109.288 567.316 110.307 567.316 Q116.094 567.316 119.473 570.487 Q122.853 573.659 122.853 579.075 Q122.853 584.654 119.381 587.756 Q115.909 590.835 109.589 590.835 Q107.413 590.835 105.145 590.464 Q102.899 590.094 100.492 589.353 L100.492 584.654 Q102.575 585.788 104.797 586.344 Q107.02 586.899 109.497 586.899 Q113.501 586.899 115.839 584.793 Q118.177 582.686 118.177 579.075 Q118.177 575.464 115.839 573.358 Q113.501 571.251 109.497 571.251 Q107.622 571.251 105.747 571.668 Q103.895 572.085 101.95 572.964 L101.95 555.603 Z\" fill=\"#000000\" fill-rule=\"evenodd\" fill-opacity=\"1\" /><path clip-path=\"url(#clip130)\" d=\"M 0 0 M69.5662 230.63 L85.8855 230.63 L85.8855 234.565 L63.9412 234.565 L63.9412 230.63 Q66.6032 227.875 71.1865 223.245 Q75.793 218.593 76.9735 217.25 Q79.2189 214.727 80.0985 212.991 Q81.0013 211.232 81.0013 209.542 Q81.0013 206.787 79.0569 205.051 Q77.1356 203.315 74.0337 203.315 Q71.8347 203.315 69.381 204.079 Q66.9504 204.843 64.1727 206.394 L64.1727 201.671 Q66.9967 200.537 69.4504 199.958 Q71.9041 199.38 73.9411 199.38 Q79.3115 199.38 82.5059 202.065 Q85.7003 204.75 85.7003 209.241 Q85.7003 211.37 84.8902 213.292 Q84.1031 215.19 81.9967 217.782 Q81.418 218.454 78.3161 221.671 Q75.2143 224.866 69.5662 230.63 Z\" fill=\"#000000\" fill-rule=\"evenodd\" fill-opacity=\"1\" /><path clip-path=\"url(#clip130)\" d=\"M 0 0 M90.9549 228.685 L95.8392 228.685 L95.8392 234.565 L90.9549 234.565 L90.9549 228.685 Z\" fill=\"#000000\" fill-rule=\"evenodd\" fill-opacity=\"1\" /><path clip-path=\"url(#clip130)\" d=\"M 0 0 M110.909 203.083 Q107.297 203.083 105.469 206.648 Q103.663 210.19 103.663 217.32 Q103.663 224.426 105.469 227.991 Q107.297 231.532 110.909 231.532 Q114.543 231.532 116.348 227.991 Q118.177 224.426 118.177 217.32 Q118.177 210.19 116.348 206.648 Q114.543 203.083 110.909 203.083 M110.909 199.38 Q116.719 199.38 119.774 203.986 Q122.853 208.57 122.853 217.32 Q122.853 226.046 119.774 230.653 Q116.719 235.236 110.909 235.236 Q105.098 235.236 102.02 230.653 Q98.9642 226.046 98.9642 217.32 Q98.9642 208.57 102.02 203.986 Q105.098 199.38 110.909 199.38 Z\" fill=\"#000000\" fill-rule=\"evenodd\" fill-opacity=\"1\" /><polyline clip-path=\"url(#clip132)\" style=\"stroke:#009af9; stroke-width:4; stroke-opacity:1; fill:none\" points=\"\n",
       "  209.284,1122.44 440.511,605.21 671.738,87.9763 902.964,281.939 1134.19,475.902 1365.42,669.865 1596.64,863.827 1827.87,1057.79 2059.1,1251.75 2290.32,1445.72 \n",
       "  \n",
       "  \"/>\n",
       "<polyline clip-path=\"url(#clip132)\" style=\"stroke:#e26f46; stroke-width:4; stroke-opacity:1; fill:none\" points=\"\n",
       "  209.284,1122.44 440.511,605.21 671.738,87.9763 902.964,281.939 1134.19,475.902 1365.42,669.865 1596.64,863.827 1827.87,1057.79 \n",
       "  \"/>\n",
       "<path clip-path=\"url(#clip130)\" d=\"\n",
       "M1989.74 312.204 L2280.76 312.204 L2280.76 130.764 L1989.74 130.764  Z\n",
       "  \" fill=\"#ffffff\" fill-rule=\"evenodd\" fill-opacity=\"1\"/>\n",
       "<polyline clip-path=\"url(#clip130)\" style=\"stroke:#000000; stroke-width:4; stroke-opacity:1; fill:none\" points=\"\n",
       "  1989.74,312.204 2280.76,312.204 2280.76,130.764 1989.74,130.764 1989.74,312.204 \n",
       "  \"/>\n",
       "<polyline clip-path=\"url(#clip130)\" style=\"stroke:#009af9; stroke-width:4; stroke-opacity:1; fill:none\" points=\"\n",
       "  2013.74,191.244 2157.74,191.244 \n",
       "  \"/>\n",
       "<path clip-path=\"url(#clip130)\" d=\"M 0 0 M2195.58 210.931 Q2193.77 215.561 2192.06 216.973 Q2190.35 218.385 2187.48 218.385 L2184.08 218.385 L2184.08 214.82 L2186.58 214.82 Q2188.33 214.82 2189.31 213.987 Q2190.28 213.154 2191.46 210.052 L2192.22 208.107 L2181.74 182.598 L2186.25 182.598 L2194.35 202.876 L2202.46 182.598 L2206.97 182.598 L2195.58 210.931 Z\" fill=\"#000000\" fill-rule=\"evenodd\" fill-opacity=\"1\" /><path clip-path=\"url(#clip130)\" d=\"M 0 0 M2212.85 204.589 L2220.49 204.589 L2220.49 178.223 L2212.18 179.89 L2212.18 175.631 L2220.44 173.964 L2225.12 173.964 L2225.12 204.589 L2232.76 204.589 L2232.76 208.524 L2212.85 208.524 L2212.85 204.589 Z\" fill=\"#000000\" fill-rule=\"evenodd\" fill-opacity=\"1\" /><polyline clip-path=\"url(#clip130)\" style=\"stroke:#e26f46; stroke-width:4; stroke-opacity:1; fill:none\" points=\"\n",
       "  2013.74,251.724 2157.74,251.724 \n",
       "  \"/>\n",
       "<path clip-path=\"url(#clip130)\" d=\"M 0 0 M2195.58 271.411 Q2193.77 276.041 2192.06 277.453 Q2190.35 278.865 2187.48 278.865 L2184.08 278.865 L2184.08 275.3 L2186.58 275.3 Q2188.33 275.3 2189.31 274.467 Q2190.28 273.634 2191.46 270.532 L2192.22 268.587 L2181.74 243.078 L2186.25 243.078 L2194.35 263.356 L2202.46 243.078 L2206.97 243.078 L2195.58 271.411 Z\" fill=\"#000000\" fill-rule=\"evenodd\" fill-opacity=\"1\" /><path clip-path=\"url(#clip130)\" d=\"M 0 0 M2216.07 265.069 L2232.39 265.069 L2232.39 269.004 L2210.44 269.004 L2210.44 265.069 Q2213.1 262.314 2217.69 257.685 Q2222.29 253.032 2223.47 251.689 Q2225.72 249.166 2226.6 247.43 Q2227.5 245.671 2227.5 243.981 Q2227.5 241.226 2225.56 239.49 Q2223.64 237.754 2220.53 237.754 Q2218.33 237.754 2215.88 238.518 Q2213.45 239.282 2210.67 240.833 L2210.67 236.111 Q2213.5 234.976 2215.95 234.398 Q2218.4 233.819 2220.44 233.819 Q2225.81 233.819 2229.01 236.504 Q2232.2 239.189 2232.2 243.68 Q2232.2 245.81 2231.39 247.731 Q2230.6 249.629 2228.5 252.222 Q2227.92 252.893 2224.82 256.111 Q2221.71 259.305 2216.07 265.069 Z\" fill=\"#000000\" fill-rule=\"evenodd\" fill-opacity=\"1\" /></svg>\n"
      ]
     },
     "execution_count": 94,
     "metadata": {},
     "output_type": "execute_result"
    }
   ],
   "source": [
    "plot(K \\ j)\n",
    "plot!(schurC(Kb) \\  j[1:8])\n"
   ]
  },
  {
   "cell_type": "code",
   "execution_count": 66,
   "metadata": {},
   "outputs": [
    {
     "data": {
      "text/plain": [
       "2×8 Transpose{Int64,SparseMatrixCSC{Int64,Int64}}:\n",
       " 0  0  0  0  0  0  0  -1\n",
       " 0  0  0  0  0  0  0   0"
      ]
     },
     "execution_count": 66,
     "metadata": {},
     "output_type": "execute_result"
    }
   ],
   "source": [
    "transpose(Kb[Block(1,2)])"
   ]
  },
  {
   "cell_type": "markdown",
   "metadata": {},
   "source": [
    "Gausian elimination encapsulates the process of completintg the square\n",
    "\n",
    "\n",
    "Completing the square is a method by which to perform gaussian integrals. You complete the square on each variable in turn and then do u substitution to make the new integration variable the quantity in the square.\n",
    "\n",
    "\n",
    "\n",
    "\n",
    "\n"
   ]
  },
  {
   "cell_type": "code",
   "execution_count": 35,
   "metadata": {},
   "outputs": [
    {
     "data": {
      "text/latex": [
       "\\begin{equation*}\\frac{y^{2}}{a} \\left(a d - b^{2}\\right)\\end{equation*}"
      ],
      "text/plain": [
       " 2 ⎛       2⎞\n",
       "y ⋅⎝a⋅d - b ⎠\n",
       "─────────────\n",
       "      a      "
      ]
     },
     "execution_count": 35,
     "metadata": {},
     "output_type": "execute_result"
    }
   ],
   "source": [
    "simplify( a * x ^2 + 2b * x * y + d * y^2  - a * ( x + y * b / a )^2) # the \"leftover\" from completing the square on x"
   ]
  },
  {
   "cell_type": "code",
   "execution_count": 39,
   "metadata": {},
   "outputs": [
    {
     "data": {
      "text/latex": [
       "\\begin{equation*}0\\end{equation*}"
      ],
      "text/plain": [
       "0"
      ]
     },
     "execution_count": 39,
     "metadata": {},
     "output_type": "execute_result"
    }
   ],
   "source": [
    "orig = a * x ^2 + 2b * x * y + d * y^2 \n",
    "comp_sq =  a * ( x + y * b / a )^2   +   y^2 * (d - b^2 / a)\n",
    "simplify(orig - comp_sq)"
   ]
  },
  {
   "cell_type": "code",
   "execution_count": 27,
   "metadata": {},
   "outputs": [
    {
     "data": {
      "text/latex": [
       "\\begin{equation*}e^{- a x^{2} - 2 b x y - d y^{2}}\\end{equation*}"
      ],
      "text/plain": [
       "      2                2\n",
       " - a⋅x  - 2⋅b⋅x⋅y - d⋅y \n",
       "ℯ                       "
      ]
     },
     "execution_count": 27,
     "metadata": {},
     "output_type": "execute_result"
    }
   ],
   "source": [
    "@vars x y a b c d real=true\n",
    "i = exp( - ( a * x^2 + b * x * y + b * y * x + d * y * y )   )"
   ]
  },
  {
   "cell_type": "code",
   "execution_count": 28,
   "metadata": {},
   "outputs": [
    {
     "data": {
      "text/latex": [
       "\\begin{equation*}\\left ( \\frac{\\sqrt{\\pi}}{\\sqrt{a}} e^{y^{2} \\left(- d + \\frac{b^{2}}{a}\\right)}, \\quad \\left(\\left|{\\operatorname{periodic_{argument}}{\\left (a,\\infty \\right )}}\\right| \\leq \\frac{\\pi}{2} \\wedge \\left|{\\operatorname{periodic_{argument}}{\\left (\\operatorname{polar\\_lift}^{2}{\\left (b \\right )} \\operatorname{polar\\_lift}^{2}{\\left (y \\right )},\\infty \\right )}}\\right| < \\pi \\wedge \\left|{\\operatorname{periodic_{argument}}{\\left (e^{2 i \\pi} \\operatorname{polar\\_lift}^{2}{\\left (b \\right )} \\operatorname{polar\\_lift}^{2}{\\left (y \\right )},\\infty \\right )}}\\right| < \\pi\\right) \\vee \\left|{\\operatorname{periodic_{argument}}{\\left (a,\\infty \\right )}}\\right| < \\frac{\\pi}{2}\\right )\\end{equation*}"
      ],
      "text/plain": [
       "⎛       ⎛      2⎞                                                             \n",
       "⎜     2 ⎜     b ⎟                                                             \n",
       "⎜    y ⋅⎜-d + ──⎟                                                             \n",
       "⎜       ⎝     a ⎠                                                             \n",
       "⎜√π⋅ℯ              ⎛                            π   │                 ⎛       \n",
       "⎜────────────────, ⎜│periodic_argument(a, ∞)│ ≤ ─ ∧ │periodic_argument⎝polar_l\n",
       "⎝       √a         ⎝                            2                             \n",
       "\n",
       "                                                                              \n",
       "                                                                              \n",
       "                                                                              \n",
       "                                                                              \n",
       "   2              2      ⎞│       │                 ⎛ 2⋅ⅈ⋅π           2       \n",
       "ift (b)⋅polar_lift (y), ∞⎠│ < π ∧ │periodic_argument⎝ℯ     ⋅polar_lift (b)⋅pol\n",
       "                                                                              \n",
       "\n",
       "                                                     ⎞\n",
       "                                                     ⎟\n",
       "                                                     ⎟\n",
       "                                                     ⎟\n",
       "       2      ⎞│    ⎞                               π⎟\n",
       "ar_lift (y), ∞⎠│ < π⎟ ∨ │periodic_argument(a, ∞)│ < ─⎟\n",
       "                    ⎠                               2⎠"
      ]
     },
     "execution_count": 28,
     "metadata": {},
     "output_type": "execute_result"
    }
   ],
   "source": [
    "r = simplify(integrate(i, (x,-oo,oo)))\n",
    "r.args[1]"
   ]
  },
  {
   "cell_type": "code",
   "execution_count": 30,
   "metadata": {},
   "outputs": [
    {
     "data": {
      "text/latex": [
       "\\begin{equation*}y^{2} \\left(- d + \\frac{b^{2}}{a}\\right)\\end{equation*}"
      ],
      "text/plain": [
       "   ⎛      2⎞\n",
       " 2 ⎜     b ⎟\n",
       "y ⋅⎜-d + ──⎟\n",
       "   ⎝     a ⎠"
      ]
     },
     "execution_count": 30,
     "metadata": {},
     "output_type": "execute_result"
    }
   ],
   "source": [
    "top = r.args[1].args[1].args[3].args[1]\n",
    "top # loook familiar?"
   ]
  },
  {
   "cell_type": "code",
   "execution_count": null,
   "metadata": {},
   "outputs": [],
   "source": [
    "struct Quad \n",
    "    A\n",
    "    b\n",
    "    c\n",
    "end\n",
    "\n",
    "\n",
    "A = BlockArray(rand(4, 5), [1,3], [2,3])\n",
    "#A[Block(1,2)]\n",
    "#blockaxes(A)\n",
    "#BlockArrays.blocklengths(A)\n",
    "blocksize(A)\n",
    "A[Block(1,1)]\n",
    "blockaxes(A)\n",
    "\n",
    "\n",
    "function compose( f :: Quad, g :: Quad)\n",
    "    A = f[Block(2,2)] + g[Block(1,1)]\n",
    "    Q = BlockArray(  [f[Block(1,1 )]    0          ; \n",
    "                       0              g[Block(2,2)]    ) \n",
    "    return  Q -  [ f[] ;  g[]   ]  * inv(A)\n",
    "    \n",
    "    \n",
    "end\n",
    "        \n",
    "        \n",
    "        @vars n m\n",
    "A = sympy.MatrixSymbol(\"A\", n,n)\n",
    "B = sympy.MatrixSymbol(\"B\", n,m)\n",
    "C = sympy.MatrixSymbol(\"C\", m,n)\n",
    "D = sympy.MatrixSymbol(\"D\", m,m)\n",
    "x = sympy.MatrixSymbol(\"x\", n,1)\n",
    "y = sympy.MatrixSymbol(\"y\", m,1)\n",
    "\n",
    "t = sympy.MatrixSymbol(\"t\", n,1)\n",
    "s = sympy.MatrixSymbol(\"s\", m,1)\n",
    "        \n",
    "        Q = sympy.BlockMatrix( [A B ; C D] ) \n",
    "v = sympy.BlockMatrix(  [x ; y] )\n",
    "        \n",
    "        (v.T * Q  * v) + t.T * x + s.T * y"
   ]
  }
 ],
 "metadata": {
  "kernelspec": {
   "display_name": "Julia 1.4.1",
   "language": "julia",
   "name": "julia-1.4"
  },
  "language_info": {
   "file_extension": ".jl",
   "mimetype": "application/julia",
   "name": "julia",
   "version": "1.4.1"
  }
 },
 "nbformat": 4,
 "nbformat_minor": 4
}
