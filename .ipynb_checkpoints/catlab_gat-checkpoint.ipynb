{
 "cells": [
  {
   "cell_type": "code",
   "execution_count": 4,
   "metadata": {},
   "outputs": [
    {
     "name": "stderr",
     "output_type": "stream",
     "text": [
      "┌ Info: Precompiling Catlab [134e5e36-593f-5add-ad60-77f754baafbe]\n",
      "└ @ Base loading.jl:1278\n"
     ]
    }
   ],
   "source": [
    "using Catlab"
   ]
  },
  {
   "cell_type": "code",
   "execution_count": 2,
   "metadata": {},
   "outputs": [
    {
     "name": "stderr",
     "output_type": "stream",
     "text": [
      "\u001b[32m\u001b[1m   Updating\u001b[22m\u001b[39m registry at `~/.julia/registries/General`\n"
     ]
    },
    {
     "name": "stdout",
     "output_type": "stream",
     "text": [
      "\u001b[?25l    "
     ]
    },
    {
     "name": "stderr",
     "output_type": "stream",
     "text": [
      "\u001b[32m\u001b[1m   Updating\u001b[22m\u001b[39m git-repo `https://github.com/JuliaRegistries/General.git`\n"
     ]
    },
    {
     "name": "stdout",
     "output_type": "stream",
     "text": [
      "\u001b[2K\u001b[?25h[1mFetching:\u001b[22m\u001b[39m [========================================>]  100.0 %"
     ]
    },
    {
     "name": "stderr",
     "output_type": "stream",
     "text": [
      "\u001b[32m\u001b[1m  Resolving\u001b[22m\u001b[39m package versions...\n",
      "\u001b[32m\u001b[1m  Installed\u001b[22m\u001b[39m Compat ─ v3.14.0\n",
      "\u001b[32m\u001b[1mUpdating\u001b[22m\u001b[39m `~/.julia/environments/v1.5/Project.toml`\n",
      " \u001b[90m [134e5e36] \u001b[39m\u001b[92m+ Catlab v0.7.3\u001b[39m\n",
      "\u001b[32m\u001b[1mUpdating\u001b[22m\u001b[39m `~/.julia/environments/v1.5/Manifest.toml`\n",
      " \u001b[90m [ec485272] \u001b[39m\u001b[92m+ ArnoldiMethod v0.0.4\u001b[39m\n",
      " \u001b[90m [15f4f7f2] \u001b[39m\u001b[92m+ AutoHashEquals v0.2.0\u001b[39m\n",
      " \u001b[90m [a603d957] \u001b[39m\u001b[92m+ CanonicalTraits v0.2.2\u001b[39m\n",
      " \u001b[90m [134e5e36] \u001b[39m\u001b[92m+ Catlab v0.7.3\u001b[39m\n",
      " \u001b[90m [944b1d66] \u001b[39m\u001b[92m+ CodecZlib v0.7.0\u001b[39m\n",
      " \u001b[90m [34da2185] \u001b[39m\u001b[92m+ Compat v3.14.0\u001b[39m\n",
      " \u001b[90m [a81c6b42] \u001b[39m\u001b[92m+ Compose v0.9.0\u001b[39m\n",
      " \u001b[90m [6b9d7cbe] \u001b[39m\u001b[92m+ GeneralizedGenerated v0.2.7\u001b[39m\n",
      " \u001b[90m [d25df0c9] \u001b[39m\u001b[92m+ Inflate v0.1.2\u001b[39m\n",
      " \u001b[90m [033835bb] \u001b[39m\u001b[92m+ JLD2 v0.1.14\u001b[39m\n",
      " \u001b[90m [b14d175d] \u001b[39m\u001b[92m+ JuliaVariables v0.2.3\u001b[39m\n",
      " \u001b[90m [2ee39098] \u001b[39m\u001b[92m+ LabelledArrays v1.3.0\u001b[39m\n",
      " \u001b[90m [093fc24a] \u001b[39m\u001b[92m+ LightGraphs v1.3.3\u001b[39m\n",
      " \u001b[90m [9c8b4983] \u001b[39m\u001b[92m+ LightXML v0.9.0\u001b[39m\n",
      " \u001b[90m [d8e11817] \u001b[39m\u001b[92m+ MLStyle v0.4.6\u001b[39m\n",
      " \u001b[90m [442fdcdd] \u001b[39m\u001b[92m+ Measures v0.3.1\u001b[39m\n",
      " \u001b[90m [626554b9] \u001b[39m\u001b[92m+ MetaGraphs v0.6.5\u001b[39m\n",
      " \u001b[90m [71a1bf82] \u001b[39m\u001b[92m+ NameResolution v0.1.4\u001b[39m\n",
      " \u001b[90m [8162dcfd] \u001b[39m\u001b[92m+ PrettyPrint v0.2.0\u001b[39m\n",
      " \u001b[90m [3bb67fe8] \u001b[39m\u001b[92m+ TranscodingStreams v0.9.5\u001b[39m\n"
     ]
    }
   ],
   "source": [
    "import Pkg; Pkg.add(\"Catlab\")"
   ]
  },
  {
   "cell_type": "code",
   "execution_count": 24,
   "metadata": {},
   "outputs": [
    {
     "data": {
      "text/plain": [
       "Categoro"
      ]
     },
     "execution_count": 24,
     "metadata": {},
     "output_type": "execute_result"
    }
   ],
   "source": [
    "@theory Categoro(Ob,Hom) begin\n",
    "\n",
    "  Ob::TYPE\n",
    "  Hom(dom::Ob, codom::Ob)::TYPE\n",
    "\n",
    "  id(A::Ob)::(A → A)\n",
    "  compose(f::(A → B), g::(B → C))::(A → C) ⊣ (A::Ob, B::Ob, C::Ob)\n",
    "\n",
    "  (f ⋅ g) ⋅ h == f ⋅ (g ⋅ h) ⊣ (A::Ob, B::Ob, C::Ob, D::Ob,\n",
    "                                f::(A → B), g::(B → C), h::(C → D))\n",
    "  f ⋅ id(B) == f ⊣ (A::Ob, B::Ob, f::(A → B))\n",
    "  id(A) ⋅ f == f ⊣ (A::Ob, B::Ob, f::(A → B))\n",
    "end"
   ]
  },
  {
   "cell_type": "code",
   "execution_count": 39,
   "metadata": {},
   "outputs": [
    {
     "data": {
      "text/plain": [
       "Group"
      ]
     },
     "execution_count": 39,
     "metadata": {},
     "output_type": "execute_result"
    }
   ],
   "source": [
    "@theory Group(G) begin\n",
    "\n",
    "  G::TYPE\n",
    "\n",
    "  id()::G\n",
    "  mul(f::G, g::G)::G\n",
    "  inv(x::G)::G\n",
    "\n",
    "  mul(mul(f, g), h) == mul(f,  mul(g , h)) ⊣ ( f::G, g::G, h::G)\n",
    "   # and so on\n",
    "end"
   ]
  },
  {
   "cell_type": "markdown",
   "metadata": {},
   "source": [
    "GATs are an extension of multi sorted formula with lightly dependent sorts. I hesiate to say first order logic, because they have a restriced use of quantifiers."
   ]
  },
  {
   "cell_type": "code",
   "execution_count": 40,
   "metadata": {},
   "outputs": [
    {
     "data": {
      "text/plain": [
       "Catlab.GAT.Theory(Catlab.GAT.TypeConstructor[Catlab.GAT.TypeConstructor(:G, Symbol[], OrderedCollections.OrderedDict{Symbol,Union{Expr, Symbol}}(), nothing)], Catlab.GAT.TermConstructor[Catlab.GAT.TermConstructor(:id, Symbol[], :G, OrderedCollections.OrderedDict{Symbol,Union{Expr, Symbol}}(), nothing), Catlab.GAT.TermConstructor(:mul, [:f, :g], :G, OrderedCollections.OrderedDict{Symbol,Union{Expr, Symbol}}(:f => :G,:g => :G), nothing), Catlab.GAT.TermConstructor(:inv, [:x], :G, OrderedCollections.OrderedDict{Symbol,Union{Expr, Symbol}}(:x => :G), nothing)], Catlab.GAT.AxiomConstructor[Catlab.GAT.AxiomConstructor(:(==), :(mul(mul(f, g), h)), :(mul(f, mul(g, h))), OrderedCollections.OrderedDict{Symbol,Union{Expr, Symbol}}(:f => :G,:g => :G,:h => :G), nothing)], Dict{Symbol,Symbol}())"
      ]
     },
     "execution_count": 40,
     "metadata": {},
     "output_type": "execute_result"
    }
   ],
   "source": [
    "theory(Group)"
   ]
  },
  {
   "cell_type": "code",
   "execution_count": 9,
   "metadata": {},
   "outputs": [
    {
     "ename": "LoadError",
     "evalue": "LoadError: Base.Meta.ParseError(\"Ill-formed theory binding Catego{}\")\nin expression starting at In[9]:1",
     "output_type": "error",
     "traceback": [
      "LoadError: Base.Meta.ParseError(\"Ill-formed theory binding Catego{}\")\nin expression starting at In[9]:1",
      "",
      "Stacktrace:",
      " [1] parse_theory_binding(::Expr) at /home/philip/.julia/packages/Catlab/xMKQD/src/core/GAT.jl:202",
      " [2] parse_theory_head(::Expr) at /home/philip/.julia/packages/Catlab/xMKQD/src/core/GAT.jl:195",
      " [3] theory_builder(::Expr, ::Expr; signature::Bool) at /home/philip/.julia/packages/Catlab/xMKQD/src/core/GAT.jl:135",
      " [4] theory_builder(::Expr, ::Expr) at /home/philip/.julia/packages/Catlab/xMKQD/src/core/GAT.jl:135",
      " [5] @theory(::LineNumberNode, ::Module, ::Any, ::Any) at /home/philip/.julia/packages/Catlab/xMKQD/src/core/GAT.jl:101",
      " [6] include_string(::Function, ::Module, ::String, ::String) at ./loading.jl:1091"
     ]
    }
   ],
   "source": [
    "@theory Catego{} begin\n",
    "end"
   ]
  },
  {
   "cell_type": "code",
   "execution_count": 11,
   "metadata": {},
   "outputs": [],
   "source": [
    "using Catlab.Theories"
   ]
  },
  {
   "cell_type": "code",
   "execution_count": 15,
   "metadata": {},
   "outputs": [
    {
     "name": "stdout",
     "output_type": "stream",
     "text": [
      "Category <: Any\n"
     ]
    }
   ],
   "source": [
    "dump(Catlab.Theories.Category)"
   ]
  },
  {
   "cell_type": "code",
   "execution_count": 18,
   "metadata": {},
   "outputs": [
    {
     "data": {
      "text/plain": [
       "131-element Array{Symbol,1}:\n",
       " :+\n",
       " :AbelianBicategoryRelations\n",
       " :BicategoryRelations\n",
       " :BiproductCategory\n",
       " :CartesianCategory\n",
       " :CartesianClosedCategory\n",
       " :Category\n",
       " :Category2\n",
       " :CategoryExpr\n",
       " :CategoryWithCoproducts\n",
       " :CategoryWithProducts\n",
       " :ClosedMonoidalCategory\n",
       " :CocartesianCategory\n",
       " ⋮\n",
       " :trace\n",
       " :transitive\n",
       " :zero\n",
       " :Δ\n",
       " :σ\n",
       " :∇\n",
       " :≤\n",
       " :⊕\n",
       " :⊗\n",
       " :⋅\n",
       " :□\n",
       " :◊"
      ]
     },
     "execution_count": 18,
     "metadata": {},
     "output_type": "execute_result"
    }
   ],
   "source": [
    "names(Catlab.Theories)"
   ]
  },
  {
   "cell_type": "code",
   "execution_count": 20,
   "metadata": {},
   "outputs": [
    {
     "name": "stdout",
     "output_type": "stream",
     "text": [
      "Catlab.GAT.Theory\n",
      "  types: Array{Catlab.GAT.TypeConstructor}((2,))\n",
      "    1: Catlab.GAT.TypeConstructor\n",
      "      name: Symbol Ob\n",
      "      params: Array{Symbol}((0,))\n",
      "      context: OrderedCollections.OrderedDict{Symbol,Union{Expr, Symbol}}\n",
      "        slots: Array{Int32}((16,)) Int32[0, 0, 0, 0, 0, 0, 0, 0, 0, 0, 0, 0, 0, 0, 0, 0]\n",
      "        keys: Array{Symbol}((0,))\n",
      "        vals: Array{Union{Expr, Symbol}}((0,))\n",
      "        ndel: Int64 0\n",
      "        dirty: Bool false\n",
      "      doc: String \" Object in a category \"\n",
      "    2: Catlab.GAT.TypeConstructor\n",
      "      name: Symbol Hom\n",
      "      params: Array{Symbol}((2,))\n",
      "        1: Symbol dom\n",
      "        2: Symbol codom\n",
      "      context: OrderedCollections.OrderedDict{Symbol,Union{Expr, Symbol}}\n",
      "        slots: Array{Int32}((16,)) Int32[0, 1, 0, 0, 0, 0, 0, 0, 0, 0, 0, 0, 0, 2, 0, 0]\n",
      "        keys: Array{Symbol}((2,))\n",
      "          1: Symbol dom\n",
      "          2: Symbol codom\n",
      "        vals: Array{Union{Expr, Symbol}}((2,))\n",
      "          1: Symbol Ob\n",
      "          2: Symbol Ob\n",
      "        ndel: Int64 0\n",
      "        dirty: Bool true\n",
      "      doc: String \" Morphism in a category \"\n",
      "  terms: Array{Catlab.GAT.TermConstructor}((2,))\n",
      "    1: Catlab.GAT.TermConstructor\n",
      "      name: Symbol id\n",
      "      params: Array{Symbol}((1,))\n",
      "        1: Symbol A\n",
      "      typ: Expr\n",
      "        head: Symbol call\n",
      "        args: Array{Any}((3,))\n",
      "          1: Symbol Hom\n",
      "          2: Symbol A\n",
      "          3: Symbol A\n",
      "      context: OrderedCollections.OrderedDict{Symbol,Union{Expr, Symbol}}\n",
      "        slots: Array{Int32}((16,)) Int32[0, 0, 0, 0, 1, 0, 0, 0, 0, 0, 0, 0, 0, 0, 0, 0]\n",
      "        keys: Array{Symbol}((1,))\n",
      "          1: Symbol A\n",
      "        vals: Array{Union{Expr, Symbol}}((1,))\n",
      "          1: Symbol Ob\n",
      "        ndel: Int64 0\n",
      "        dirty: Bool true\n",
      "      doc: Nothing nothing\n",
      "    2: Catlab.GAT.TermConstructor\n",
      "      name: Symbol compose\n",
      "      params: Array{Symbol}((2,))\n",
      "        1: Symbol f\n",
      "        2: Symbol g\n",
      "      typ: Expr\n",
      "        head: Symbol call\n",
      "        args: Array{Any}((3,))\n",
      "          1: Symbol Hom\n",
      "          2: Symbol A\n",
      "          3: Symbol C\n",
      "      context: OrderedCollections.OrderedDict{Symbol,Union{Expr, Symbol}}\n",
      "        slots: Array{Int32}((16,)) Int32[4, 0, 0, 0, 1, 0, 0, 0, 2, 0, 0, 5, 0, 0, 0, 3]\n",
      "        keys: Array{Symbol}((5,))\n",
      "          1: Symbol A\n",
      "          2: Symbol B\n",
      "          3: Symbol C\n",
      "          4: Symbol f\n",
      "          5: Symbol g\n",
      "        vals: Array{Union{Expr, Symbol}}((5,))\n",
      "          1: Symbol Ob\n",
      "          2: Symbol Ob\n",
      "          3: Symbol Ob\n",
      "          4: Expr\n",
      "            head: Symbol call\n",
      "            args: Array{Any}((3,))\n",
      "              1: Symbol Hom\n",
      "              2: Symbol A\n",
      "              3: Symbol B\n",
      "          5: Expr\n",
      "            head: Symbol call\n",
      "            args: Array{Any}((3,))\n",
      "              1: Symbol Hom\n",
      "              2: Symbol B\n",
      "              3: Symbol C\n",
      "        ndel: Int64 0\n",
      "        dirty: Bool true\n",
      "      doc: Nothing nothing\n",
      "  axioms: Array{Catlab.GAT.AxiomConstructor}((3,))\n",
      "    1: Catlab.GAT.AxiomConstructor\n",
      "      name: Symbol ==\n",
      "      left: Expr\n",
      "        head: Symbol call\n",
      "        args: Array{Any}((3,))\n",
      "          1: Symbol compose\n",
      "          2: Expr\n",
      "            head: Symbol call\n",
      "            args: Array{Any}((3,))\n",
      "              1: Symbol compose\n",
      "              2: Symbol f\n",
      "              3: Symbol g\n",
      "          3: Symbol h\n",
      "      right: Expr\n",
      "        head: Symbol call\n",
      "        args: Array{Any}((3,))\n",
      "          1: Symbol compose\n",
      "          2: Symbol f\n",
      "          3: Expr\n",
      "            head: Symbol call\n",
      "            args: Array{Any}((3,))\n",
      "              1: Symbol compose\n",
      "              2: Symbol g\n",
      "              3: Symbol h\n",
      "      context: OrderedCollections.OrderedDict{Symbol,Union{Expr, Symbol}}\n",
      "        slots: Array{Int32}((16,)) Int32[5, 0, 0, 0, 1, 0, 4, 0, 2, 7, 0, 6, 0, 0, 0, 3]\n",
      "        keys: Array{Symbol}((7,))\n",
      "          1: Symbol A\n",
      "          2: Symbol B\n",
      "          3: Symbol C\n",
      "          4: Symbol D\n",
      "          5: Symbol f\n",
      "          6: Symbol g\n",
      "          7: Symbol h\n",
      "        vals: Array{Union{Expr, Symbol}}((7,))\n",
      "          1: Symbol Ob\n",
      "          2: Symbol Ob\n",
      "          3: Symbol Ob\n",
      "          4: Symbol Ob\n",
      "          5: Expr\n",
      "            head: Symbol call\n",
      "            args: Array{Any}((3,))\n",
      "              1: Symbol Hom\n",
      "              2: Symbol A\n",
      "              3: Symbol B\n",
      "          6: Expr\n",
      "            head: Symbol call\n",
      "            args: Array{Any}((3,))\n",
      "              1: Symbol Hom\n",
      "              2: Symbol B\n",
      "              3: Symbol C\n",
      "          7: Expr\n",
      "            head: Symbol call\n",
      "            args: Array{Any}((3,))\n",
      "              1: Symbol Hom\n",
      "              2: Symbol C\n",
      "              3: Symbol D\n",
      "        ndel: Int64 0\n",
      "        dirty: Bool true\n",
      "      doc: Nothing nothing\n",
      "    2: Catlab.GAT.AxiomConstructor\n",
      "      name: Symbol ==\n",
      "      left: Expr\n",
      "        head: Symbol call\n",
      "        args: Array{Any}((3,))\n",
      "          1: Symbol compose\n",
      "          2: Symbol f\n",
      "          3: Expr\n",
      "            head: Symbol call\n",
      "            args: Array{Any}((2,))\n",
      "              1: Symbol id\n",
      "              2: Symbol B\n",
      "      right: Symbol f\n",
      "      context: OrderedCollections.OrderedDict{Symbol,Union{Expr, Symbol}}\n",
      "        slots: Array{Int32}((16,)) Int32[3, 0, 0, 0, 1, 0, 0, 0, 2, 0, 0, 0, 0, 0, 0, 0]\n",
      "        keys: Array{Symbol}((3,))\n",
      "          1: Symbol A\n",
      "          2: Symbol B\n",
      "          3: Symbol f\n",
      "        vals: Array{Union{Expr, Symbol}}((3,))\n",
      "          1: Symbol Ob\n",
      "          2: Symbol Ob\n",
      "          3: Expr\n",
      "            head: Symbol call\n",
      "            args: Array{Any}((3,))\n",
      "              1: Symbol Hom\n",
      "              2: Symbol A\n",
      "              3: Symbol B\n",
      "        ndel: Int64 0\n",
      "        dirty: Bool true\n",
      "      doc: Nothing nothing\n",
      "    3: Catlab.GAT.AxiomConstructor\n",
      "      name: Symbol ==\n",
      "      left: Expr\n",
      "        head: Symbol call\n",
      "        args: Array{Any}((3,))\n",
      "          1: Symbol compose\n",
      "          2: Expr\n",
      "            head: Symbol call\n",
      "            args: Array{Any}((2,))\n",
      "              1: Symbol id\n",
      "              2: Symbol A\n",
      "          3: Symbol f\n",
      "      right: Symbol f\n",
      "      context: OrderedCollections.OrderedDict{Symbol,Union{Expr, Symbol}}\n",
      "        slots: Array{Int32}((16,)) Int32[3, 0, 0, 0, 1, 0, 0, 0, 2, 0, 0, 0, 0, 0, 0, 0]\n",
      "        keys: Array{Symbol}((3,))\n",
      "          1: Symbol A\n",
      "          2: Symbol B\n",
      "          3: Symbol f\n",
      "        vals: Array{Union{Expr, Symbol}}((3,))\n",
      "          1: Symbol Ob\n",
      "          2: Symbol Ob\n",
      "          3: Expr\n",
      "            head: Symbol call\n",
      "            args: Array{Any}((3,))\n",
      "              1: Symbol Hom\n",
      "              2: Symbol A\n",
      "              3: Symbol B\n",
      "        ndel: Int64 0\n",
      "        dirty: Bool true\n",
      "      doc: Nothing nothing\n",
      "  aliases: Dict{Symbol,Symbol}\n",
      "    slots: Array{UInt8}((16,)) UInt8[0x01, 0x00, 0x00, 0x00, 0x00, 0x01, 0x00, 0x00, 0x00, 0x00, 0x00, 0x00, 0x00, 0x00, 0x00, 0x00]\n",
      "    keys: Array{Symbol}((16,))\n",
      "      1: Symbol ⋅\n",
      "      2: #undef\n",
      "      3: #undef\n",
      "      4: #undef\n",
      "      5: #undef\n",
      "      ...\n",
      "      12: #undef\n",
      "      13: #undef\n",
      "      14: #undef\n",
      "      15: #undef\n",
      "      16: #undef\n",
      "    vals: Array{Symbol}((16,))\n",
      "      1: Symbol compose\n",
      "      2: #undef\n",
      "      3: #undef\n",
      "      4: #undef\n",
      "      5: #undef\n",
      "      ...\n",
      "      12: #undef\n",
      "      13: #undef\n",
      "      14: #undef\n",
      "      15: #undef\n",
      "      16: #undef\n",
      "    ndel: Int64 0\n",
      "    count: Int64 2\n",
      "    age: UInt64 0x0000000000000002\n",
      "    idxfloor: Int64 1\n",
      "    maxprobe: Int64 0\n"
     ]
    }
   ],
   "source": [
    "dump(theory(Category))"
   ]
  },
  {
   "cell_type": "code",
   "execution_count": 22,
   "metadata": {},
   "outputs": [
    {
     "name": "stdout",
     "output_type": "stream",
     "text": [
      "Array{Catlab.GAT.TypeConstructor}((2,))\n",
      "  1: Catlab.GAT.TypeConstructor\n",
      "    name: Symbol Ob\n",
      "    params: Array{Symbol}((0,))\n",
      "    context: OrderedCollections.OrderedDict{Symbol,Union{Expr, Symbol}}\n",
      "      slots: Array{Int32}((16,)) Int32[0, 0, 0, 0, 0, 0, 0, 0, 0, 0, 0, 0, 0, 0, 0, 0]\n",
      "      keys: Array{Symbol}((0,))\n",
      "      vals: Array{Union{Expr, Symbol}}((0,))\n",
      "      ndel: Int64 0\n",
      "      dirty: Bool false\n",
      "    doc: String \" Object in a category \"\n",
      "  2: Catlab.GAT.TypeConstructor\n",
      "    name: Symbol Hom\n",
      "    params: Array{Symbol}((2,))\n",
      "      1: Symbol dom\n",
      "      2: Symbol codom\n",
      "    context: OrderedCollections.OrderedDict{Symbol,Union{Expr, Symbol}}\n",
      "      slots: Array{Int32}((16,)) Int32[0, 1, 0, 0, 0, 0, 0, 0, 0, 0, 0, 0, 0, 2, 0, 0]\n",
      "      keys: Array{Symbol}((2,))\n",
      "        1: Symbol dom\n",
      "        2: Symbol codom\n",
      "      vals: Array{Union{Expr, Symbol}}((2,))\n",
      "        1: Symbol Ob\n",
      "        2: Symbol Ob\n",
      "      ndel: Int64 0\n",
      "      dirty: Bool true\n",
      "    doc: String \" Morphism in a category \"\n"
     ]
    }
   ],
   "source": [
    "dump(theory(Category).types)"
   ]
  },
  {
   "cell_type": "code",
   "execution_count": 26,
   "metadata": {},
   "outputs": [
    {
     "data": {
      "text/plain": [
       "OrderedCollections.OrderedDict{Symbol,Union{Expr, Symbol}}()"
      ]
     },
     "execution_count": 26,
     "metadata": {},
     "output_type": "execute_result"
    }
   ],
   "source": [
    "theory(Category).types[1].context"
   ]
  },
  {
   "cell_type": "code",
   "execution_count": null,
   "metadata": {},
   "outputs": [],
   "source": [
    "ty(  ) == "
   ]
  },
  {
   "cell_type": "code",
   "execution_count": null,
   "metadata": {},
   "outputs": [],
   "source": [
    "ty(Q) = hom(X,Y) =>  (ty(X) = ob & ty(Y) = ob ) # wait doesn'y this go the other way? no.\n",
    "ty(X) = ob  => true\n",
    "# showing that type of X is ob and ty(Y) is ob by finding a morphism that goes between them feels pretty weird.\n",
    "# I don't think we'd want to do it.\n",
    "# Maybe just to show our context is well formed.\n",
    "\n",
    "\n",
    "# Hmmm. This _is_ basically a prolog program....\n",
    "ty(comp(F,G)) = hom(A,C) <= ty(A) = ob & ty(C) = ob & exists B, ty(B) = ob & cod(G) = dom(F) & ty(F) = Hom(B,C) & ty(G) = hom(A,B)\n",
    "\n",
    "\n",
    "#failure to type check does not enforce the equation\n",
    "comp(comp(F,G),H) == comp(F,comp(G,H)) <= ty(F) = Hom(A,B), ty(g) = Hom(B,C), ty(h) = hom(A,C), ty(A) = ob, ty(B) = ob, ty(C) = ob\n",
    "\n",
    "\n",
    "# tt is a special value for TYPE\n",
    "ty(Hom(A,B)) = tt <= (ty(A) = ob & ty(B) = ob)\n",
    "ty(ob) = tt <= true\n",
    "\n",
    "ty(id(A)) = hom(A,A) <=  (ty(A) = ob)\n",
    "ty(comp( F,G ) = Hom(A,C)) <= (ty(A) = ob &  ty(B) = ob  &  ty(C) = ob  &  ty(F) = hom(A,B)  &  ty(G) = hom(B,C)) \n",
    "\n",
    "\n",
    "comp(comp(F,G),H) == comp(F,comp(G,H)) <= (ty(A) = ob, ty(B) = ob, ty(C) = ob, ty(F) = Hom(A,B), ty(g) = Hom(B,C), ty(h) = hom(A,C))\n",
    "comp(id(A),F) = F <= (ty(A) = ob & ty(B) = ob & ty(F) = hom(A,B))\n",
    "comp(F,id(B)) = F <= (ty(A) = ob & ty(B) = ob & ty(F) = hom(A,B))\n",
    "\n",
    "\n",
    "#query, synthesize a morphism\n",
    "ty(F) = hom(tup(A,B), A)  <=  ty(A) = ob, ty(B) = ob\n",
    "hom(tup(A,A),A)\n",
    "\n",
    "# type inference\n",
    "ty(comp(id(A),id(A))) = B <= ?\n",
    " \n",
    "\n",
    "# query, verify equation\n",
    "comp(id(A),id(A)) = id(A) <=   ty(id(A)) = A & ty(id(A)) = A & dom(), ty(A) = ob, ty(A) = ob  #all side condition\n",
    "comp(id(A), id(B)) = id(A) <= ... # produce a countermodel since B may not equal A. conceivablt possible to graphically represent this\n",
    "\n",
    "\n",
    "# There is a problem of how much should be macroized in julia and how much should be in the query\n",
    "#\n",
    "\n",
    "# Is there a function that will extract the typing requirements from an expression? For example `extract(:(compose(id(A),id(A)))) ===>    [A::Ob,   id(A)::Hom(A,A),   compose(id(A),id(A)) :: Hom(A,A) ] ` \n",
    "\n"
   ]
  },
  {
   "cell_type": "code",
   "execution_count": 27,
   "metadata": {},
   "outputs": [
    {
     "name": "stdout",
     "output_type": "stream",
     "text": [
      "Array{Catlab.GAT.AxiomConstructor}((3,))\n",
      "  1: Catlab.GAT.AxiomConstructor\n",
      "    name: Symbol ==\n",
      "    left: Expr\n",
      "      head: Symbol call\n",
      "      args: Array{Any}((3,))\n",
      "        1: Symbol compose\n",
      "        2: Expr\n",
      "          head: Symbol call\n",
      "          args: Array{Any}((3,))\n",
      "            1: Symbol compose\n",
      "            2: Symbol f\n",
      "            3: Symbol g\n",
      "        3: Symbol h\n",
      "    right: Expr\n",
      "      head: Symbol call\n",
      "      args: Array{Any}((3,))\n",
      "        1: Symbol compose\n",
      "        2: Symbol f\n",
      "        3: Expr\n",
      "          head: Symbol call\n",
      "          args: Array{Any}((3,))\n",
      "            1: Symbol compose\n",
      "            2: Symbol g\n",
      "            3: Symbol h\n",
      "    context: OrderedCollections.OrderedDict{Symbol,Union{Expr, Symbol}}\n",
      "      slots: Array{Int32}((16,)) Int32[5, 0, 0, 0, 1, 0, 4, 0, 2, 7, 0, 6, 0, 0, 0, 3]\n",
      "      keys: Array{Symbol}((7,))\n",
      "        1: Symbol A\n",
      "        2: Symbol B\n",
      "        3: Symbol C\n",
      "        4: Symbol D\n",
      "        5: Symbol f\n",
      "        6: Symbol g\n",
      "        7: Symbol h\n",
      "      vals: Array{Union{Expr, Symbol}}((7,))\n",
      "        1: Symbol Ob\n",
      "        2: Symbol Ob\n",
      "        3: Symbol Ob\n",
      "        4: Symbol Ob\n",
      "        5: Expr\n",
      "          head: Symbol call\n",
      "          args: Array{Any}((3,))\n",
      "            1: Symbol Hom\n",
      "            2: Symbol A\n",
      "            3: Symbol B\n",
      "        6: Expr\n",
      "          head: Symbol call\n",
      "          args: Array{Any}((3,))\n",
      "            1: Symbol Hom\n",
      "            2: Symbol B\n",
      "            3: Symbol C\n",
      "        7: Expr\n",
      "          head: Symbol call\n",
      "          args: Array{Any}((3,))\n",
      "            1: Symbol Hom\n",
      "            2: Symbol C\n",
      "            3: Symbol D\n",
      "      ndel: Int64 0\n",
      "      dirty: Bool true\n",
      "    doc: Nothing nothing\n",
      "  2: Catlab.GAT.AxiomConstructor\n",
      "    name: Symbol ==\n",
      "    left: Expr\n",
      "      head: Symbol call\n",
      "      args: Array{Any}((3,))\n",
      "        1: Symbol compose\n",
      "        2: Symbol f\n",
      "        3: Expr\n",
      "          head: Symbol call\n",
      "          args: Array{Any}((2,))\n",
      "            1: Symbol id\n",
      "            2: Symbol B\n",
      "    right: Symbol f\n",
      "    context: OrderedCollections.OrderedDict{Symbol,Union{Expr, Symbol}}\n",
      "      slots: Array{Int32}((16,)) Int32[3, 0, 0, 0, 1, 0, 0, 0, 2, 0, 0, 0, 0, 0, 0, 0]\n",
      "      keys: Array{Symbol}((3,))\n",
      "        1: Symbol A\n",
      "        2: Symbol B\n",
      "        3: Symbol f\n",
      "      vals: Array{Union{Expr, Symbol}}((3,))\n",
      "        1: Symbol Ob\n",
      "        2: Symbol Ob\n",
      "        3: Expr\n",
      "          head: Symbol call\n",
      "          args: Array{Any}((3,))\n",
      "            1: Symbol Hom\n",
      "            2: Symbol A\n",
      "            3: Symbol B\n",
      "      ndel: Int64 0\n",
      "      dirty: Bool true\n",
      "    doc: Nothing nothing\n",
      "  3: Catlab.GAT.AxiomConstructor\n",
      "    name: Symbol ==\n",
      "    left: Expr\n",
      "      head: Symbol call\n",
      "      args: Array{Any}((3,))\n",
      "        1: Symbol compose\n",
      "        2: Expr\n",
      "          head: Symbol call\n",
      "          args: Array{Any}((2,))\n",
      "            1: Symbol id\n",
      "            2: Symbol A\n",
      "        3: Symbol f\n",
      "    right: Symbol f\n",
      "    context: OrderedCollections.OrderedDict{Symbol,Union{Expr, Symbol}}\n",
      "      slots: Array{Int32}((16,)) Int32[3, 0, 0, 0, 1, 0, 0, 0, 2, 0, 0, 0, 0, 0, 0, 0]\n",
      "      keys: Array{Symbol}((3,))\n",
      "        1: Symbol A\n",
      "        2: Symbol B\n",
      "        3: Symbol f\n",
      "      vals: Array{Union{Expr, Symbol}}((3,))\n",
      "        1: Symbol Ob\n",
      "        2: Symbol Ob\n",
      "        3: Expr\n",
      "          head: Symbol call\n",
      "          args: Array{Any}((3,))\n",
      "            1: Symbol Hom\n",
      "            2: Symbol A\n",
      "            3: Symbol B\n",
      "      ndel: Int64 0\n",
      "      dirty: Bool true\n",
      "    doc: Nothing nothing\n"
     ]
    }
   ],
   "source": [
    "dump(theory(Category).axioms)"
   ]
  },
  {
   "cell_type": "code",
   "execution_count": 35,
   "metadata": {},
   "outputs": [
    {
     "data": {
      "text/plain": [
       "get_dem_axioms (generic function with 1 method)"
      ]
     },
     "execution_count": 35,
     "metadata": {},
     "output_type": "execute_result"
    }
   ],
   "source": [
    "function get_dem_axioms(gat)\n",
    "    axioms = gat.axioms\n",
    "    #return map(   ax ->\n",
    "    for ax in axioms\n",
    "        @assert ax.name == :(==)\n",
    "        \"$(tptp(ax.left)) = $(tptp(ax.right))\" \n",
    "    end\n",
    "     #   , axioms)\n",
    "\n",
    "end\n",
    "\n",
    "# given an expression, and the terms, definition, build the appropriate context for that\n",
    "function build_context(e, terms)\n",
    "    if e.head == :call\n",
    "        term = find_term(e.args[1], terms)\n",
    "        \n",
    "    end\n",
    "\n",
    "end"
   ]
  },
  {
   "cell_type": "code",
   "execution_count": 36,
   "metadata": {},
   "outputs": [],
   "source": [
    "get_dem_axioms( theory(Category) )"
   ]
  },
  {
   "cell_type": "code",
   "execution_count": 41,
   "metadata": {},
   "outputs": [
    {
     "data": {
      "text/plain": [
       "2-element Array{Catlab.GAT.TermConstructor,1}:\n",
       " Catlab.GAT.TermConstructor(:id, [:A], :(Hom(A, A)), OrderedCollections.OrderedDict{Symbol,Union{Expr, Symbol}}(:A => :Ob), nothing)\n",
       " Catlab.GAT.TermConstructor(:compose, [:f, :g], :(Hom(A, C)), OrderedCollections.OrderedDict{Symbol,Union{Expr, Symbol}}(:A => :Ob,:B => :Ob,:C => :Ob,:f => :(Hom(A, B)),:g => :(Hom(B, C))), nothing)"
      ]
     },
     "execution_count": 41,
     "metadata": {},
     "output_type": "execute_result"
    }
   ],
   "source": [
    "theory(Category).terms"
   ]
  },
  {
   "cell_type": "code",
   "execution_count": 42,
   "metadata": {},
   "outputs": [
    {
     "data": {
      "text/plain": [
       ":(compose(id(A), id(A)))"
      ]
     },
     "execution_count": 42,
     "metadata": {},
     "output_type": "execute_result"
    }
   ],
   "source": [
    ":(compose(id(A),id(A)))"
   ]
  },
  {
   "cell_type": "code",
   "execution_count": 47,
   "metadata": {},
   "outputs": [
    {
     "ename": "LoadError",
     "evalue": "UndefVarError: OrderedDict not defined",
     "output_type": "error",
     "traceback": [
      "UndefVarError: OrderedDict not defined",
      "",
      "Stacktrace:",
      " [1] top-level scope at In[47]:1",
      " [2] include_string(::Function, ::Module, ::String, ::String) at ./loading.jl:1091"
     ]
    }
   ],
   "source": [
    "OrderedDict(:A => :Ob)"
   ]
  },
  {
   "cell_type": "code",
   "execution_count": null,
   "metadata": {},
   "outputs": [],
   "source": []
  }
 ],
 "metadata": {
  "kernelspec": {
   "display_name": "Julia 1.5.0",
   "language": "julia",
   "name": "julia-1.5"
  },
  "language_info": {
   "file_extension": ".jl",
   "mimetype": "application/julia",
   "name": "julia",
   "version": "1.5.0"
  }
 },
 "nbformat": 4,
 "nbformat_minor": 4
}
