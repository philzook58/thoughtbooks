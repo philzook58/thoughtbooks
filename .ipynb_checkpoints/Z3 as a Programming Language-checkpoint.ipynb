{
 "cells": [
  {
   "cell_type": "code",
   "execution_count": 1,
   "metadata": {},
   "outputs": [],
   "source": [
    "from z3 import *\n",
    "# useful non default operator definitions for z3 bools\n",
    "BoolRef.__and__ = lambda self, rhs: And(self,rhs)\n",
    "BoolRef.__or__ = lambda self, rhs: Or(self,rhs)\n",
    "BoolRef.__xor__ = lambda self, rhs: Xor(self,rhs)\n",
    "BoolRef.__invert__ = lambda self: Not(self)\n",
    "BoolRef.__rshift__ = lambda self, rhs: Implies(self,rhs)\n",
    "#BoolRef.__gt__ = lambda self, rhs: Implies(self,rhs) # better precednece. Bad gecause greater than is actually oppositive meaning\n",
    "# implies is that conclusion is a <= b if a is 0, no conclusion. if a is 1 then b has to be 1 \n",
    "# so there is a reasonalbe sense in wich a <= b is a implies b. ugh\n",
    "# maybe > is better in the sense that it makes not so much sense to use strict comparison of booleans\n"
   ]
  },
  {
   "cell_type": "code",
   "execution_count": 2,
   "metadata": {},
   "outputs": [
    {
     "ename": "TypeError",
     "evalue": "unsupported operand type(s) for &: 'BoolRef' and 'BoolRef'",
     "output_type": "error",
     "traceback": [
      "\u001b[0;31m---------------------------------------------------------------------------\u001b[0m",
      "\u001b[0;31mTypeError\u001b[0m                                 Traceback (most recent call last)",
      "\u001b[0;32m<ipython-input-2-475dc8a85c01>\u001b[0m in \u001b[0;36m<module>\u001b[0;34m\u001b[0m\n\u001b[0;32m----> 1\u001b[0;31m \u001b[0mBool\u001b[0m\u001b[0;34m(\u001b[0m\u001b[0;34m\"a\"\u001b[0m\u001b[0;34m)\u001b[0m \u001b[0;34m&\u001b[0m \u001b[0mBool\u001b[0m\u001b[0;34m(\u001b[0m\u001b[0;34m\"b\"\u001b[0m\u001b[0;34m)\u001b[0m\u001b[0;34m\u001b[0m\u001b[0;34m\u001b[0m\u001b[0m\n\u001b[0m",
      "\u001b[0;31mTypeError\u001b[0m: unsupported operand type(s) for &: 'BoolRef' and 'BoolRef'"
     ]
    }
   ],
   "source": []
  },
  {
   "cell_type": "markdown",
   "metadata": {},
   "source": [
    "Z3py is a very cool thing. It has a lot of features that you'd want from your own functional programming DSL. First off, substitution is already implemented for you"
   ]
  },
  {
   "cell_type": "markdown",
   "metadata": {},
   "source": [
    "It also has a simple type system and the ability to define algebraic datatypes. There is no polymorphism in z3, but our ability to work in python makes it not so hard to make type schema to generate new types as needed."
   ]
  },
  {
   "cell_type": "code",
   "execution_count": 211,
   "metadata": {},
   "outputs": [],
   "source": [
    "def Tuple(a,b):\n",
    "    Type = Datatype(f'Tuple({(a.name(),b.name())})')\n",
    "    Type.declare('pair', ('fst', a), ('snd', b))\n",
    "    Type = Type.create()\n",
    "    return Type\n",
    "def Either(a,b):\n",
    "    Type = Datatype(f'Either({(a.name(),b.name())})')\n",
    "    Type.declare('left', ('getLeft', a))\n",
    "    Type.declare('right', ('getRight', b))\n",
    "    Type = Type.create()\n",
    "    return Type \n",
    "def Maybe(a):\n",
    "    Type = Datatype(f'Maybe({a.name()})')\n",
    "    Type.declare('Just', ('fromJust', a))\n",
    "    Type.declare(\"Nothing\")\n",
    "    Type = Type.create()\n",
    "    return Type\n",
    "def List(a):\n",
    "    Type = Datatype(f'List({a.name()})')\n",
    "    Type.declare('Cons', ('car', a), ('cdr', Type))\n",
    "    Type.declare(\"Nil\")\n",
    "    Type = Type.create()\n",
    "    return Type\n"
   ]
  },
  {
   "cell_type": "code",
   "execution_count": 2,
   "metadata": {},
   "outputs": [],
   "source": [
    "def V2(a):\n",
    "    Type = Datatype(f'V2({a.name()})')\n",
    "    Type.declare('mk_V2', ('x2', a), ('y2', a))\n",
    "    Type = Type.create()\n",
    "    return Type\n",
    "\n",
    "V2R  = V2(RealSort())\n"
   ]
  },
  {
   "cell_type": "code",
   "execution_count": 33,
   "metadata": {},
   "outputs": [
    {
     "name": "stdout",
     "output_type": "stream",
     "text": [
      "<class 'z3.z3.DatatypeRef'>\n",
      "proved\n",
      "proved\n",
      "proved\n",
      "proved\n",
      "proved\n"
     ]
    },
    {
     "data": {
      "text/plain": [
       "['__bool__',\n",
       " '__class__',\n",
       " '__copy__',\n",
       " '__deepcopy__',\n",
       " '__del__',\n",
       " '__delattr__',\n",
       " '__dict__',\n",
       " '__dir__',\n",
       " '__doc__',\n",
       " '__eq__',\n",
       " '__format__',\n",
       " '__ge__',\n",
       " '__getattribute__',\n",
       " '__gt__',\n",
       " '__hash__',\n",
       " '__init__',\n",
       " '__init_subclass__',\n",
       " '__le__',\n",
       " '__lt__',\n",
       " '__module__',\n",
       " '__ne__',\n",
       " '__new__',\n",
       " '__nonzero__',\n",
       " '__reduce__',\n",
       " '__reduce_ex__',\n",
       " '__repr__',\n",
       " '__setattr__',\n",
       " '__sizeof__',\n",
       " '__str__',\n",
       " '__subclasshook__',\n",
       " '__weakref__',\n",
       " '_repr_html_',\n",
       " 'accessor',\n",
       " 'as_ast',\n",
       " 'ast',\n",
       " 'cast',\n",
       " 'constructor',\n",
       " 'ctx',\n",
       " 'ctx_ref',\n",
       " 'eq',\n",
       " 'get_id',\n",
       " 'hash',\n",
       " 'kind',\n",
       " 'name',\n",
       " 'num_constructors',\n",
       " 'recognizer',\n",
       " 'sexpr',\n",
       " 'subsort',\n",
       " 'translate',\n",
       " 'use_pp']"
      ]
     },
     "execution_count": 33,
     "metadata": {},
     "output_type": "execute_result"
    }
   ],
   "source": [
    "x, y = Reals('x y')\n",
    "one = RealVal(1)\n",
    "v1 = V2R.mk_V2(one,one)\n",
    "\n",
    "v = Const(\"v\", V2R)\n",
    "w = Const(\"w\", V2R)\n",
    "r = Const(\"r\", V2R)\n",
    "print(type(r))\n",
    "s = Solver()\n",
    "norm = Function(\"norm2\", V2R, RealSort())\n",
    "\n",
    "'''\n",
    "So I can macroized\n",
    "But it would be nice to axiomatize and allow higher level reasoning\n",
    "\n",
    "'''\n",
    "def norm(v):\n",
    "    return  V2R.x2(v) * V2R.x2(v) + V2R.y2(v) * V2R.y2(v)\n",
    "def dot(v,w):\n",
    "    return  V2R.x2(v) * V2R.x2(w) + V2R.y2(v) * V2R.y2(w)\n",
    "def vadd(v,w):\n",
    "    return V2R.mk_V2(V2R.x2(v) + V2R.x2(w), V2R.y2(v) + V2R.y2(w))\n",
    "def smul(s,v):\n",
    "    return V2R.mk_V2(s * V2R.x2(v),s * V2R.y2(v))\n",
    "#s.add(ForAll([v], norm(v) == V2R.x2(v) ** 2 + V2R.y2(v) ** 2, patterns=[norm(v)]))\n",
    "#s.add(norm == Lambda([v], V2R.x2(v) ** 2 + V2R.y2(v) ** 2))\n",
    "#s.add(norm(v) == V2R.x2(v) * V2R.x2(v)  + V2R.y2(v) * V2R.y2(v))\n",
    "#dot = Function(\"dot2\", V2R, V2R, RealSort())\n",
    "#s.add(ForAll([v,w], dot(v,w) == V2R.x2(v) * V2R.x2(w) + V2R.y2(v) * V2R.y2(w), patterns=[dot(v,w)]))\n",
    "\n",
    "#s.add(norm(v) > 0)\n",
    "#s.add(Not(norm(v) >= 0))\n",
    "prove(norm(v) == dot(v,v)) # definition\n",
    "prove(dot(v,w) ** 2 <= norm(v) * norm(w)) #cauchy schwartz\n",
    "prove(vadd(v,w) == vadd(w,v)) #commutativty\n",
    "prove(vadd(r,vadd(v,w)) == vadd(vadd(r,w),v)) # associativity\n",
    "prove( smul(x, vadd(v,w)) == vadd(smul(x,w),  smul(x,v)))\n",
    "\n",
    "#print(s)\n",
    "#s.check()\n",
    "#s.model()\n",
    "#dir(r.sort())"
   ]
  },
  {
   "cell_type": "code",
   "execution_count": null,
   "metadata": {},
   "outputs": [],
   "source": [
    "class V2(DataTypeRef):\n",
    "    def __add__():\n",
    "    def __sub__():\n",
    "    def __mul__():\n",
    "    def __matmul__()\n",
    "    def x2(self):\n",
    "        return self.sort().accessor(0,0)(self)\n",
    "    def y2(self):\n",
    "        return self.sort().accessor(0,1)(self)"
   ]
  },
  {
   "cell_type": "code",
   "execution_count": 34,
   "metadata": {},
   "outputs": [],
   "source": [
    "import numpy as np"
   ]
  },
  {
   "cell_type": "code",
   "execution_count": 52,
   "metadata": {},
   "outputs": [
    {
     "name": "stdout",
     "output_type": "stream",
     "text": [
      "proved\n"
     ]
    }
   ],
   "source": [
    "q = np.array([x,y])\n",
    "def NPArray(n, prefix=None, dtype=RealSort()):\n",
    "    return np.array( [FreshConst(dtype, prefix=prefix) for i in range(n)] )\n",
    "c = NPArray(2)    \n",
    "np.dot(q, q)\n",
    "np.array([x]) * q # need to wrap x if is lhs\n",
    "q * x\n",
    "np.RealVal = np.vectorize(RealVal)\n",
    "z = np.RealVal( np.arange(10) )\n",
    "z == z\n",
    "prove(np.dot(q, c)**2 <= np.dot(q,q) * np.dot(c,c))\n",
    "\n",
    "# Prove the Gershgorin Circle Theorem\n",
    "# Reflecting into sympy to get decompositions.\n",
    "# kramer's rule and dumb determinants\n",
    "def dumb_det(a):\n",
    "    n, m = a.shape\n",
    "def eig(a):\n",
    "    s = Solver()\n",
    "    v = \n",
    "    s.add(0 == ( - l*np.eye() @ v  )\n"
   ]
  },
  {
   "cell_type": "code",
   "execution_count": 172,
   "metadata": {},
   "outputs": [
    {
     "name": "stdout",
     "output_type": "stream",
     "text": [
      "[!271 !272]\n",
      "[!271 + !273 !272 + !274]\n",
      "[!271 !272]\n",
      "[!273 !274]\n",
      "And(0*(!271 + !273) + 1*(!272 + !274) ==\n",
      "    0*!271 + 1*!272 + 0*!273 + 1*!274,\n",
      "    2*(!271 + !273) + 3*(!272 + !274) ==\n",
      "    2*!271 + 3*!272 + 2*!273 + 3*!274)\n",
      "proved\n"
     ]
    }
   ],
   "source": [
    "\n",
    "import operator as op\n",
    "def Z(x):\n",
    "    print(x)\n",
    "    z = np.RealVal( np.arange(4).reshape(2,2) )\n",
    "    return z @ x\n",
    "def vec_eq(x,y):\n",
    "    return And(np.vectorize(op.eq)(x,y).tolist())\n",
    "def linear(Z):\n",
    "    x = NPArray(2)\n",
    "    y = NPArray(2)\n",
    "    print(x)\n",
    "    return vec_eq(Z(x + y), Z(x) + Z(y))\n",
    "p = linear(Z)\n",
    "print(p)\n",
    "prove(p)\n",
    "#dir(z)"
   ]
  },
  {
   "cell_type": "code",
   "execution_count": null,
   "metadata": {},
   "outputs": [],
   "source": []
  },
  {
   "cell_type": "code",
   "execution_count": null,
   "metadata": {},
   "outputs": [],
   "source": []
  },
  {
   "cell_type": "code",
   "execution_count": 391,
   "metadata": {},
   "outputs": [
    {
     "name": "stdout",
     "output_type": "stream",
     "text": [
      "proved\n"
     ]
    },
    {
     "data": {
      "text/plain": [
       "-0.0078125"
      ]
     },
     "execution_count": 391,
     "metadata": {},
     "output_type": "execute_result"
    }
   ],
   "source": []
  },
  {
   "cell_type": "code",
   "execution_count": 77,
   "metadata": {},
   "outputs": [
    {
     "data": {
      "image/png": "[encoded data removed]",
      "text/plain": [
       "<Figure size 432x288 with 1 Axes>"
      ]
     },
     "metadata": {
      "needs_background": "light"
     },
     "output_type": "display_data"
    }
   ],
   "source": [
    "import matplotlib.pyplot as plt\n",
    "xs = np.linspace(0,10)\n",
    "plt.plot( xs, babylonian(xs)- np.sqrt(xs))\n",
    "\n",
    "plt.show()\n",
    "# This is also pretty convincing"
   ]
  },
  {
   "cell_type": "code",
   "execution_count": 195,
   "metadata": {},
   "outputs": [
    {
     "data": {
      "text/html": [
       "<b>unsat</b>"
      ],
      "text/plain": [
       "unsat"
      ]
     },
     "execution_count": 195,
     "metadata": {},
     "output_type": "execute_result"
    }
   ],
   "source": [
    "\n",
    "\n",
    "sin = Function(\"sin\", RealSort(), RealSort())\n",
    "cos = Function(\"cos\", RealSort(), RealSort())\n",
    "x = Real('x')\n",
    "trig =  [sin(0) == 0,\n",
    "         cos(0) == 1,\n",
    "         sin(1) == 0,\n",
    "         cos(1) == -1, #could probably fill out tons of clalues\n",
    "         ForAll([x], sin(2*x) == 2*sin(x)*cos(x), no_patterns=[cos(1), cos(0), sin(1), sin(0)]),\n",
    "         ForAll([x], sin(x)*sin(x) + cos(x) * cos(x) == 1),\n",
    "         ForAll([x], cos(2*x) == cos(x)*cos(x) - sin(x) * sin(x), no_patterns=[cos(1), cos(0), sin(1), sin(0)])]\n",
    "s = Solver()\n",
    "s.set(auto_config=False, mbqi=False)\n",
    "s.add(trig)\n",
    "s.add( RealVal(1 / np.sqrt(2) + 0.0000000000000001) <= cos(1/4))\n",
    "s.check()\n",
    "#s.model()\n",
    "#s.statistics()"
   ]
  },
  {
   "cell_type": "code",
   "execution_count": 139,
   "metadata": {},
   "outputs": [
    {
     "data": {
      "text/html": [
       "[x = 1, sin = [else &rarr; 0]]"
      ],
      "text/plain": [
       "[x = 1, sin = [else -> 0]]"
      ]
     },
     "execution_count": 139,
     "metadata": {},
     "output_type": "execute_result"
    }
   ],
   "source": [
    "sin = Function(\"sin\", RealSort(), RealSort())\n",
    "cos = Function(\"cos\", RealSort(), RealSort())\n",
    "x = Real('x')\n",
    "trig = [ ForAll([x], Implies(x<  sin(x) <= x - x**3 )]\n",
    "s = Solver()\n",
    "s.set(auto_config=False, mbqi=False)\n",
    "s.add(Implies(trig[0], sin(2) == x))\n",
    "\n",
    "s.check()\n",
    "s.model()"
   ]
  },
  {
   "cell_type": "code",
   "execution_count": 136,
   "metadata": {},
   "outputs": [
    {
     "ename": "IndentationError",
     "evalue": "expected an indented block (<ipython-input-136-7749f80f2970>, line 5)",
     "output_type": "error",
     "traceback": [
      "\u001b[0;36m  File \u001b[0;32m\"<ipython-input-136-7749f80f2970>\"\u001b[0;36m, line \u001b[0;32m5\u001b[0m\n\u001b[0;31m    def linear(f):\u001b[0m\n\u001b[0m      ^\u001b[0m\n\u001b[0;31mIndentationError\u001b[0m\u001b[0;31m:\u001b[0m expected an indented block\n"
     ]
    }
   ],
   "source": [
    "def convex(f):\n",
    "    ForAll([x, l, y], Implies( And(l <= 1, 0 <= l) , f(l*x + (1-l)*y) <= l * f(x) + (1-l)*f(y)))\n",
    "def affine(f):\n",
    "    \n",
    "def linear(f):\n",
    "\n",
    "def cone(f): #f is indicator function.\n",
    "    ForAll( [x],  Implies( And(f(x), l >= 0) ,  f(l*x) )\n",
    "           \n",
    "# reflect polynomials. x**2 + x can be reflected into an array.\n",
    "           \n",
    "def contraction(f):\n",
    "           Forall([I], f(I) in I )\n",
    "def is_a_real(I,f): # constructively gives us a family of intervals such that they are all intersecting each \n",
    "           ForAll([I2], Implies( I2 in I, f(I2) < I2 Or f(I2) == I2 )) #strictly decreasing or converged\n",
    "           # what about identity function\n",
    "def metric(d):\n",
    "\n",
    "occurscheck - seems like my unification trick doesn't work\n"
   ]
  },
  {
   "cell_type": "code",
   "execution_count": null,
   "metadata": {},
   "outputs": [],
   "source": [
    "def diff(e,x): # differentiate z3 expression. Convert to sympy and convert back"
   ]
  },
  {
   "cell_type": "code",
   "execution_count": 144,
   "metadata": {},
   "outputs": [],
   "source": [
    "Type = Datatype(\"Nat\")\n",
    "Type.declare('Succ', ('pred', Type))\n",
    "Type.declare(\"Zero\")\n",
    "Nat = Type.create()\n"
   ]
  },
  {
   "cell_type": "code",
   "execution_count": 145,
   "metadata": {},
   "outputs": [],
   "source": [
    "S = Nat.Succ\n",
    "Z = Nat.Zero"
   ]
  },
  {
   "cell_type": "code",
   "execution_count": 146,
   "metadata": {},
   "outputs": [
    {
     "data": {
      "text/html": [
       "Succ(Succ(Zero))"
      ],
      "text/plain": [
       "Succ(Succ(Zero))"
      ]
     },
     "execution_count": 146,
     "metadata": {},
     "output_type": "execute_result"
    }
   ],
   "source": [
    "S(S(Z))"
   ]
  },
  {
   "cell_type": "code",
   "execution_count": 149,
   "metadata": {},
   "outputs": [],
   "source": [
    "nat_to_int = RecFunction('nat_to_int', Nat, IntSort())\n",
    "n = Const('n',Nat)\n",
    "RecAddDefinition(nat_to_int, n, If(Nat.is_Zero(n), 0, 1 + nat_to_int(Nat.pred(n))))"
   ]
  },
  {
   "cell_type": "code",
   "execution_count": 155,
   "metadata": {},
   "outputs": [
    {
     "data": {
      "text/plain": [
       "['__bool__',\n",
       " '__class__',\n",
       " '__copy__',\n",
       " '__deepcopy__',\n",
       " '__del__',\n",
       " '__delattr__',\n",
       " '__dict__',\n",
       " '__dir__',\n",
       " '__doc__',\n",
       " '__eq__',\n",
       " '__format__',\n",
       " '__ge__',\n",
       " '__getattribute__',\n",
       " '__gt__',\n",
       " '__hash__',\n",
       " '__init__',\n",
       " '__init_subclass__',\n",
       " '__le__',\n",
       " '__lt__',\n",
       " '__module__',\n",
       " '__ne__',\n",
       " '__new__',\n",
       " '__nonzero__',\n",
       " '__reduce__',\n",
       " '__reduce_ex__',\n",
       " '__repr__',\n",
       " '__setattr__',\n",
       " '__sizeof__',\n",
       " '__str__',\n",
       " '__subclasshook__',\n",
       " '__weakref__',\n",
       " '_repr_html_',\n",
       " 'arg',\n",
       " 'as_ast',\n",
       " 'ast',\n",
       " 'children',\n",
       " 'ctx',\n",
       " 'ctx_ref',\n",
       " 'decl',\n",
       " 'eq',\n",
       " 'get_id',\n",
       " 'hash',\n",
       " 'num_args',\n",
       " 'params',\n",
       " 'sexpr',\n",
       " 'sort',\n",
       " 'sort_kind',\n",
       " 'translate',\n",
       " 'use_pp']"
      ]
     },
     "execution_count": 155,
     "metadata": {},
     "output_type": "execute_result"
    }
   ],
   "source": [
    "f = Function('f', IntSort(), IntSort(), IntSort())\n",
    "dir(f)\n",
    "dir(n)"
   ]
  },
  {
   "cell_type": "code",
   "execution_count": 151,
   "metadata": {},
   "outputs": [
    {
     "name": "stdout",
     "output_type": "stream",
     "text": [
      "[n = Succ(Succ(Succ(Succ(Succ(Succ(Succ(Succ(Succ(Succ(Succ(Succ(Succ(Succ(Succ(Succ(Succ(Zero))))))))))))))))),\n",
      " sumn = [0 -> 0, else -> Var(0) + sumn(-1 + Var(0))],\n",
      " nat_to_int = [else ->\n",
      "               If(is(Zero, Var(0)),\n",
      "                  0,\n",
      "                  1 + nat_to_int(pred(Var(0))))]]\n"
     ]
    }
   ],
   "source": [
    "solve(nat_to_int(n) == 17)"
   ]
  },
  {
   "cell_type": "code",
   "execution_count": null,
   "metadata": {},
   "outputs": [],
   "source": [
    "rec_nat = RecFunction('nat_to_int', Nat, IntSort())\n",
    "n = Const('n',Nat)\n",
    "RecAddDefinition(nat_to_int, n, If(Nat.is_Zero(n), 0, 1 + nat_to_int(Nat.pred(n))))"
   ]
  },
  {
   "cell_type": "code",
   "execution_count": 18,
   "metadata": {},
   "outputs": [
    {
     "data": {
      "text/plain": [
       "'Just'"
      ]
     },
     "execution_count": 18,
     "metadata": {},
     "output_type": "execute_result"
    }
   ],
   "source": [
    "Maybe(IntSort()).constructor(0).name()"
   ]
  },
  {
   "cell_type": "code",
   "execution_count": 23,
   "metadata": {},
   "outputs": [],
   "source": [
    "def match(x, **kwargs):\n",
    "    t = x.sort()\n",
    "    nc = t.num_constructors()\n",
    "    acc = kwargs[\"_\"]    \n",
    "    for c in range(nc):\n",
    "        con = t.constructor(c)\n",
    "        rec = t.recognizer(c)\n",
    "        nfields = con.arity()\n",
    "        if nfields == 0:\n",
    "            res = kwargs[con.name()]\n",
    "        else:\n",
    "            res = kwargs[con.name()](  *[t.accessor(c,a)(x) for a in range(nfields)] )\n",
    "        acc = If(rec(x), res, acc)\n",
    "    return acc\n"
   ]
  },
  {
   "cell_type": "code",
   "execution_count": 25,
   "metadata": {},
   "outputs": [
    {
     "data": {
      "text/html": [
       "If(is(Nothing, x), 3, If(is(Just, x), fromJust(x) + 1, 10))"
      ],
      "text/plain": [
       "If(is(Nothing, x), 3, If(is(Just, x), fromJust(x) + 1, 10))"
      ]
     },
     "execution_count": 25,
     "metadata": {},
     "output_type": "execute_result"
    }
   ],
   "source": [
    "match(Const(\"x\", Maybe(IntSort())), Just=lambda y : y + 1, Nothing = IntVal(3), _=IntVal(10))"
   ]
  },
  {
   "cell_type": "markdown",
   "metadata": {},
   "source": [
    "There are different ways to define recursive functions. We could use a ForAll quantifier"
   ]
  },
  {
   "cell_type": "code",
   "execution_count": null,
   "metadata": {},
   "outputs": [],
   "source": [
    "fac = Function('fac', IntSort(), IntSort())\n",
    "n = Int('n')\n",
    "facdef = ForAll([n], (n > 0) >> (fac(n) == n * fac(n-1))) & (fac(0) == 1)\n"
   ]
  },
  {
   "cell_type": "code",
   "execution_count": null,
   "metadata": {},
   "outputs": [],
   "source": [
    "fac = RecFunction('fac', IntSort(), IntSort())\n",
    "n = Int('n')\n",
    "RecAddDefinition(fac, n, If(n == 0, 1, n*fac(n-1)))"
   ]
  },
  {
   "cell_type": "code",
   "execution_count": 83,
   "metadata": {},
   "outputs": [],
   "source": [
    "def induction(self):\n",
    "    assert(is_quantifier(self) and self.is_forall() and self.num_vars() == 1) #we can eventually relax vars = 1\n",
    "    t = self.var_sort(0)\n",
    "    nc = t.num_constructors()\n",
    "    th = []\n",
    "    for i in range(nc):\n",
    "        con = t.constructor(i)\n",
    "        nfields = con.arity()\n",
    "        if nfields == 0:\n",
    "            th += [substitute_vars(self.body(), con())]\n",
    "        else:\n",
    "            hyp = []\n",
    "            args = []\n",
    "            for d in range(nfields):\n",
    "                td = con.domain(d)\n",
    "                x = FreshConst(td)\n",
    "                print(x)\n",
    "                if td == t:\n",
    "                    hyp += [substitute_vars(self.body(), x)]\n",
    "                args += [x]\n",
    "            th += [ForAll(args, Implies(And(*hyp), substitute_vars(self.body(), con(*args))))]\n",
    "        print(th)\n",
    "    return And(*th)\n"
   ]
  },
  {
   "cell_type": "code",
   "execution_count": 84,
   "metadata": {},
   "outputs": [
    {
     "name": "stdout",
     "output_type": "stream",
     "text": [
      "c!22\n",
      "c!23\n",
      "[ForAll([c!22, c!23],\n",
      "       Implies(And(c!23 == Cons(3, Nil)),\n",
      "               Cons(c!22, c!23) == Cons(3, Nil)))]\n",
      "[ForAll([c!22, c!23],\n",
      "       Implies(And(c!23 == Cons(3, Nil)),\n",
      "               Cons(c!22, c!23) == Cons(3, Nil))), Nil == Cons(3, Nil)]\n"
     ]
    },
    {
     "data": {
      "text/html": [
       "(&forall;c!22, c!23 :\n",
       "  c!23 = Cons(3, Nil) &rArr; Cons(c!22, c!23) = Cons(3, Nil)) &and;\n",
       "Nil = Cons(3, Nil)"
      ],
      "text/plain": [
       "And(ForAll([c!22, c!23],\n",
       "           Implies(And(c!23 == Cons(3, Nil)),\n",
       "                   Cons(c!22, c!23) == Cons(3, Nil))),\n",
       "    Nil == Cons(3, Nil))"
      ]
     },
     "execution_count": 84,
     "metadata": {},
     "output_type": "execute_result"
    }
   ],
   "source": [
    "ln = List(IntSort())\n",
    "x = Const(\"x\", ln )\n",
    "p = ForAll([x],  x == ln.Nil)\n",
    "dir(p)\n",
    "#p.var_sort(0).constructor(1).domain(0)\n",
    "\n",
    "induction(ForAll([x],  x == ln.Cons(3,ln.Nil)))\n",
    "\n",
    "#substitute_vars(p.body(), ln.constructor(1)())\n",
    "#substitute_vars(ForAll([x],  x == ln.Nil).body(), x)"
   ]
  },
  {
   "cell_type": "code",
   "execution_count": 85,
   "metadata": {},
   "outputs": [],
   "source": [
    "sumn = RecFunction('sumn', IntSort(), IntSort())\n",
    "n = Int('n')\n",
    "RecAddDefinition(sumn, n, If(n == 0, 0, n + sumn(n-1)))"
   ]
  },
  {
   "cell_type": "code",
   "execution_count": null,
   "metadata": {},
   "outputs": [],
   "source": [
    "extract_adt(z3_adt):\n",
    "    # build a data type algorithmically?\n",
    "    t.match = \n",
    "    t.Nothing =\n",
    "    self[z3.adt.con(0).name()] = lambda: \n",
    "    t.Just = \n",
    "    \n",
    "# Add type annotations to interp. Add mypy pass and a JIT pass\n",
    "# \n",
    "# add if statements. maybe we want to pass in an explicit object with the appropriate overloaded functions\n",
    "# That is interpretting it finally tagless style.\n",
    "\n",
    "# extracting somewhat verified sorts to python\n",
    "#\n",
    "\n",
    "# \n",
    "# Internalize a categorical DSL in Z3?\n",
    "# \n",
    "    "
   ]
  },
  {
   "cell_type": "code",
   "execution_count": 123,
   "metadata": {},
   "outputs": [
    {
     "name": "stdout",
     "output_type": "stream",
     "text": [
      "Help on BinOp in module _ast object:\n",
      "\n",
      "class BinOp(expr)\n",
      " |  Method resolution order:\n",
      " |      BinOp\n",
      " |      expr\n",
      " |      AST\n",
      " |      builtins.object\n",
      " |  \n",
      " |  Data and other attributes defined here:\n",
      " |  \n",
      " |  _fields = ('left', 'op', 'right')\n",
      " |  \n",
      " |  ----------------------------------------------------------------------\n",
      " |  Data descriptors inherited from expr:\n",
      " |  \n",
      " |  __weakref__\n",
      " |      list of weak references to the object (if defined)\n",
      " |  \n",
      " |  ----------------------------------------------------------------------\n",
      " |  Data and other attributes inherited from expr:\n",
      " |  \n",
      " |  _attributes = ('lineno', 'col_offset')\n",
      " |  \n",
      " |  ----------------------------------------------------------------------\n",
      " |  Methods inherited from AST:\n",
      " |  \n",
      " |  __delattr__(self, name, /)\n",
      " |      Implement delattr(self, name).\n",
      " |  \n",
      " |  __getattribute__(self, name, /)\n",
      " |      Return getattr(self, name).\n",
      " |  \n",
      " |  __init__(self, /, *args, **kwargs)\n",
      " |      Initialize self.  See help(type(self)) for accurate signature.\n",
      " |  \n",
      " |  __reduce__(...)\n",
      " |      Helper for pickle.\n",
      " |  \n",
      " |  __setattr__(self, name, value, /)\n",
      " |      Implement setattr(self, name, value).\n",
      " |  \n",
      " |  ----------------------------------------------------------------------\n",
      " |  Static methods inherited from AST:\n",
      " |  \n",
      " |  __new__(*args, **kwargs) from builtins.type\n",
      " |      Create and return a new object.  See help(type) for accurate signature.\n",
      " |  \n",
      " |  ----------------------------------------------------------------------\n",
      " |  Data descriptors inherited from AST:\n",
      " |  \n",
      " |  __dict__\n",
      "\n",
      "Help on Load in module _ast object:\n",
      "\n",
      "class Load(expr_context)\n",
      " |  Method resolution order:\n",
      " |      Load\n",
      " |      expr_context\n",
      " |      AST\n",
      " |      builtins.object\n",
      " |  \n",
      " |  Data and other attributes defined here:\n",
      " |  \n",
      " |  _fields = ()\n",
      " |  \n",
      " |  ----------------------------------------------------------------------\n",
      " |  Data descriptors inherited from expr_context:\n",
      " |  \n",
      " |  __weakref__\n",
      " |      list of weak references to the object (if defined)\n",
      " |  \n",
      " |  ----------------------------------------------------------------------\n",
      " |  Data and other attributes inherited from expr_context:\n",
      " |  \n",
      " |  _attributes = ()\n",
      " |  \n",
      " |  ----------------------------------------------------------------------\n",
      " |  Methods inherited from AST:\n",
      " |  \n",
      " |  __delattr__(self, name, /)\n",
      " |      Implement delattr(self, name).\n",
      " |  \n",
      " |  __getattribute__(self, name, /)\n",
      " |      Return getattr(self, name).\n",
      " |  \n",
      " |  __init__(self, /, *args, **kwargs)\n",
      " |      Initialize self.  See help(type(self)) for accurate signature.\n",
      " |  \n",
      " |  __reduce__(...)\n",
      " |      Helper for pickle.\n",
      " |  \n",
      " |  __setattr__(self, name, value, /)\n",
      " |      Implement setattr(self, name, value).\n",
      " |  \n",
      " |  ----------------------------------------------------------------------\n",
      " |  Static methods inherited from AST:\n",
      " |  \n",
      " |  __new__(*args, **kwargs) from builtins.type\n",
      " |      Create and return a new object.  See help(type) for accurate signature.\n",
      " |  \n",
      " |  ----------------------------------------------------------------------\n",
      " |  Data descriptors inherited from AST:\n",
      " |  \n",
      " |  __dict__\n",
      "\n"
     ]
    }
   ],
   "source": [
    "def simple_fun(x):\n",
    "    print(1 + 1)\n",
    "    return x + 1\n",
    "import ast\n",
    "import inspect\n",
    "\n",
    "body = ast.parse(inspect.getsource(simple_fun)).body[0]\n",
    "body.name\n",
    "#help(body)\n",
    "body.args\n",
    "#help(body.body[1])\n",
    "ret = body.body[1]\n",
    "help(ret.value)\n",
    "help(ret.value.left.ctx)\n",
    "#def get_ast(f):\n",
    "#dir(simple_fun) "
   ]
  },
  {
   "cell_type": "code",
   "execution_count": 142,
   "metadata": {},
   "outputs": [],
   "source": [
    "class IfReplacer(ast.NodeTransformer):\n",
    "    def visit_If(self,node):\n",
    "        return ast.Call(func=Name(id='If', ctx=Load()),\n",
    "         args=[\n",
    "                node.test, node.body, bode.orelse\n",
    "             ],\n",
    "         keywords=[\n",
    "             ])\n",
    "        "
   ]
  },
  {
   "cell_type": "code",
   "execution_count": 141,
   "metadata": {},
   "outputs": [
    {
     "ename": "NameError",
     "evalue": "name 'Call' is not defined",
     "output_type": "error",
     "traceback": [
      "\u001b[0;31m---------------------------------------------------------------------------\u001b[0m",
      "\u001b[0;31mNameError\u001b[0m                                 Traceback (most recent call last)",
      "\u001b[0;32m<ipython-input-141-495c166750c1>\u001b[0m in \u001b[0;36m<module>\u001b[0;34m\u001b[0m\n\u001b[1;32m      6\u001b[0m         \u001b[0;36m2\u001b[0m\u001b[0;34m\u001b[0m\u001b[0;34m\u001b[0m\u001b[0m\n\u001b[1;32m      7\u001b[0m \u001b[0mf\u001b[0m \u001b[0;34m=\u001b[0m \u001b[0mast\u001b[0m\u001b[0;34m.\u001b[0m\u001b[0mparse\u001b[0m\u001b[0;34m(\u001b[0m\u001b[0minspect\u001b[0m\u001b[0;34m.\u001b[0m\u001b[0mgetsource\u001b[0m\u001b[0;34m(\u001b[0m\u001b[0msimple_fun\u001b[0m\u001b[0;34m)\u001b[0m\u001b[0;34m)\u001b[0m\u001b[0;34m\u001b[0m\u001b[0;34m\u001b[0m\u001b[0m\n\u001b[0;32m----> 8\u001b[0;31m \u001b[0mast\u001b[0m\u001b[0;34m.\u001b[0m\u001b[0mdump\u001b[0m\u001b[0;34m(\u001b[0m\u001b[0mIfReplacer\u001b[0m\u001b[0;34m(\u001b[0m\u001b[0;34m)\u001b[0m\u001b[0;34m.\u001b[0m\u001b[0mvisit\u001b[0m\u001b[0;34m(\u001b[0m\u001b[0mf\u001b[0m\u001b[0;34m)\u001b[0m\u001b[0;34m)\u001b[0m\u001b[0;34m\u001b[0m\u001b[0;34m\u001b[0m\u001b[0m\n\u001b[0m\u001b[1;32m      9\u001b[0m \u001b[0mf2\u001b[0m \u001b[0;34m=\u001b[0m \u001b[0mIfReplacer\u001b[0m\u001b[0;34m(\u001b[0m\u001b[0;34m)\u001b[0m\u001b[0;34m.\u001b[0m\u001b[0mvisit\u001b[0m\u001b[0;34m(\u001b[0m\u001b[0mf\u001b[0m\u001b[0;34m)\u001b[0m\u001b[0;34m\u001b[0m\u001b[0;34m\u001b[0m\u001b[0m\n\u001b[1;32m     10\u001b[0m \u001b[0mexec\u001b[0m\u001b[0;34m(\u001b[0m\u001b[0mcompile\u001b[0m\u001b[0;34m(\u001b[0m\u001b[0mf2\u001b[0m\u001b[0;34m,\u001b[0m \u001b[0;34m\"<ast>\"\u001b[0m\u001b[0;34m,\u001b[0m \u001b[0;34m\"exec\"\u001b[0m\u001b[0;34m)\u001b[0m\u001b[0;34m)\u001b[0m\u001b[0;34m\u001b[0m\u001b[0;34m\u001b[0m\u001b[0m\n",
      "\u001b[0;32m/usr/local/Cellar/python/3.7.5/Frameworks/Python.framework/Versions/3.7/lib/python3.7/ast.py\u001b[0m in \u001b[0;36mvisit\u001b[0;34m(self, node)\u001b[0m\n\u001b[1;32m    269\u001b[0m         \u001b[0mmethod\u001b[0m \u001b[0;34m=\u001b[0m \u001b[0;34m'visit_'\u001b[0m \u001b[0;34m+\u001b[0m \u001b[0mnode\u001b[0m\u001b[0;34m.\u001b[0m\u001b[0m__class__\u001b[0m\u001b[0;34m.\u001b[0m\u001b[0m__name__\u001b[0m\u001b[0;34m\u001b[0m\u001b[0;34m\u001b[0m\u001b[0m\n\u001b[1;32m    270\u001b[0m         \u001b[0mvisitor\u001b[0m \u001b[0;34m=\u001b[0m \u001b[0mgetattr\u001b[0m\u001b[0;34m(\u001b[0m\u001b[0mself\u001b[0m\u001b[0;34m,\u001b[0m \u001b[0mmethod\u001b[0m\u001b[0;34m,\u001b[0m \u001b[0mself\u001b[0m\u001b[0;34m.\u001b[0m\u001b[0mgeneric_visit\u001b[0m\u001b[0;34m)\u001b[0m\u001b[0;34m\u001b[0m\u001b[0;34m\u001b[0m\u001b[0m\n\u001b[0;32m--> 271\u001b[0;31m         \u001b[0;32mreturn\u001b[0m \u001b[0mvisitor\u001b[0m\u001b[0;34m(\u001b[0m\u001b[0mnode\u001b[0m\u001b[0;34m)\u001b[0m\u001b[0;34m\u001b[0m\u001b[0;34m\u001b[0m\u001b[0m\n\u001b[0m\u001b[1;32m    272\u001b[0m \u001b[0;34m\u001b[0m\u001b[0m\n\u001b[1;32m    273\u001b[0m     \u001b[0;32mdef\u001b[0m \u001b[0mgeneric_visit\u001b[0m\u001b[0;34m(\u001b[0m\u001b[0mself\u001b[0m\u001b[0;34m,\u001b[0m \u001b[0mnode\u001b[0m\u001b[0;34m)\u001b[0m\u001b[0;34m:\u001b[0m\u001b[0;34m\u001b[0m\u001b[0;34m\u001b[0m\u001b[0m\n",
      "\u001b[0;32m/usr/local/Cellar/python/3.7.5/Frameworks/Python.framework/Versions/3.7/lib/python3.7/ast.py\u001b[0m in \u001b[0;36mgeneric_visit\u001b[0;34m(self, node)\u001b[0m\n\u001b[1;32m    324\u001b[0m                 \u001b[0;32mfor\u001b[0m \u001b[0mvalue\u001b[0m \u001b[0;32min\u001b[0m \u001b[0mold_value\u001b[0m\u001b[0;34m:\u001b[0m\u001b[0;34m\u001b[0m\u001b[0;34m\u001b[0m\u001b[0m\n\u001b[1;32m    325\u001b[0m                     \u001b[0;32mif\u001b[0m \u001b[0misinstance\u001b[0m\u001b[0;34m(\u001b[0m\u001b[0mvalue\u001b[0m\u001b[0;34m,\u001b[0m \u001b[0mAST\u001b[0m\u001b[0;34m)\u001b[0m\u001b[0;34m:\u001b[0m\u001b[0;34m\u001b[0m\u001b[0;34m\u001b[0m\u001b[0m\n\u001b[0;32m--> 326\u001b[0;31m                         \u001b[0mvalue\u001b[0m \u001b[0;34m=\u001b[0m \u001b[0mself\u001b[0m\u001b[0;34m.\u001b[0m\u001b[0mvisit\u001b[0m\u001b[0;34m(\u001b[0m\u001b[0mvalue\u001b[0m\u001b[0;34m)\u001b[0m\u001b[0;34m\u001b[0m\u001b[0;34m\u001b[0m\u001b[0m\n\u001b[0m\u001b[1;32m    327\u001b[0m                         \u001b[0;32mif\u001b[0m \u001b[0mvalue\u001b[0m \u001b[0;32mis\u001b[0m \u001b[0;32mNone\u001b[0m\u001b[0;34m:\u001b[0m\u001b[0;34m\u001b[0m\u001b[0;34m\u001b[0m\u001b[0m\n\u001b[1;32m    328\u001b[0m                             \u001b[0;32mcontinue\u001b[0m\u001b[0;34m\u001b[0m\u001b[0;34m\u001b[0m\u001b[0m\n",
      "\u001b[0;32m/usr/local/Cellar/python/3.7.5/Frameworks/Python.framework/Versions/3.7/lib/python3.7/ast.py\u001b[0m in \u001b[0;36mvisit\u001b[0;34m(self, node)\u001b[0m\n\u001b[1;32m    269\u001b[0m         \u001b[0mmethod\u001b[0m \u001b[0;34m=\u001b[0m \u001b[0;34m'visit_'\u001b[0m \u001b[0;34m+\u001b[0m \u001b[0mnode\u001b[0m\u001b[0;34m.\u001b[0m\u001b[0m__class__\u001b[0m\u001b[0;34m.\u001b[0m\u001b[0m__name__\u001b[0m\u001b[0;34m\u001b[0m\u001b[0;34m\u001b[0m\u001b[0m\n\u001b[1;32m    270\u001b[0m         \u001b[0mvisitor\u001b[0m \u001b[0;34m=\u001b[0m \u001b[0mgetattr\u001b[0m\u001b[0;34m(\u001b[0m\u001b[0mself\u001b[0m\u001b[0;34m,\u001b[0m \u001b[0mmethod\u001b[0m\u001b[0;34m,\u001b[0m \u001b[0mself\u001b[0m\u001b[0;34m.\u001b[0m\u001b[0mgeneric_visit\u001b[0m\u001b[0;34m)\u001b[0m\u001b[0;34m\u001b[0m\u001b[0;34m\u001b[0m\u001b[0m\n\u001b[0;32m--> 271\u001b[0;31m         \u001b[0;32mreturn\u001b[0m \u001b[0mvisitor\u001b[0m\u001b[0;34m(\u001b[0m\u001b[0mnode\u001b[0m\u001b[0;34m)\u001b[0m\u001b[0;34m\u001b[0m\u001b[0;34m\u001b[0m\u001b[0m\n\u001b[0m\u001b[1;32m    272\u001b[0m \u001b[0;34m\u001b[0m\u001b[0m\n\u001b[1;32m    273\u001b[0m     \u001b[0;32mdef\u001b[0m \u001b[0mgeneric_visit\u001b[0m\u001b[0;34m(\u001b[0m\u001b[0mself\u001b[0m\u001b[0;34m,\u001b[0m \u001b[0mnode\u001b[0m\u001b[0;34m)\u001b[0m\u001b[0;34m:\u001b[0m\u001b[0;34m\u001b[0m\u001b[0;34m\u001b[0m\u001b[0m\n",
      "\u001b[0;32m/usr/local/Cellar/python/3.7.5/Frameworks/Python.framework/Versions/3.7/lib/python3.7/ast.py\u001b[0m in \u001b[0;36mgeneric_visit\u001b[0;34m(self, node)\u001b[0m\n\u001b[1;32m    324\u001b[0m                 \u001b[0;32mfor\u001b[0m \u001b[0mvalue\u001b[0m \u001b[0;32min\u001b[0m \u001b[0mold_value\u001b[0m\u001b[0;34m:\u001b[0m\u001b[0;34m\u001b[0m\u001b[0;34m\u001b[0m\u001b[0m\n\u001b[1;32m    325\u001b[0m                     \u001b[0;32mif\u001b[0m \u001b[0misinstance\u001b[0m\u001b[0;34m(\u001b[0m\u001b[0mvalue\u001b[0m\u001b[0;34m,\u001b[0m \u001b[0mAST\u001b[0m\u001b[0;34m)\u001b[0m\u001b[0;34m:\u001b[0m\u001b[0;34m\u001b[0m\u001b[0;34m\u001b[0m\u001b[0m\n\u001b[0;32m--> 326\u001b[0;31m                         \u001b[0mvalue\u001b[0m \u001b[0;34m=\u001b[0m \u001b[0mself\u001b[0m\u001b[0;34m.\u001b[0m\u001b[0mvisit\u001b[0m\u001b[0;34m(\u001b[0m\u001b[0mvalue\u001b[0m\u001b[0;34m)\u001b[0m\u001b[0;34m\u001b[0m\u001b[0;34m\u001b[0m\u001b[0m\n\u001b[0m\u001b[1;32m    327\u001b[0m                         \u001b[0;32mif\u001b[0m \u001b[0mvalue\u001b[0m \u001b[0;32mis\u001b[0m \u001b[0;32mNone\u001b[0m\u001b[0;34m:\u001b[0m\u001b[0;34m\u001b[0m\u001b[0;34m\u001b[0m\u001b[0m\n\u001b[1;32m    328\u001b[0m                             \u001b[0;32mcontinue\u001b[0m\u001b[0;34m\u001b[0m\u001b[0;34m\u001b[0m\u001b[0m\n",
      "\u001b[0;32m/usr/local/Cellar/python/3.7.5/Frameworks/Python.framework/Versions/3.7/lib/python3.7/ast.py\u001b[0m in \u001b[0;36mvisit\u001b[0;34m(self, node)\u001b[0m\n\u001b[1;32m    269\u001b[0m         \u001b[0mmethod\u001b[0m \u001b[0;34m=\u001b[0m \u001b[0;34m'visit_'\u001b[0m \u001b[0;34m+\u001b[0m \u001b[0mnode\u001b[0m\u001b[0;34m.\u001b[0m\u001b[0m__class__\u001b[0m\u001b[0;34m.\u001b[0m\u001b[0m__name__\u001b[0m\u001b[0;34m\u001b[0m\u001b[0;34m\u001b[0m\u001b[0m\n\u001b[1;32m    270\u001b[0m         \u001b[0mvisitor\u001b[0m \u001b[0;34m=\u001b[0m \u001b[0mgetattr\u001b[0m\u001b[0;34m(\u001b[0m\u001b[0mself\u001b[0m\u001b[0;34m,\u001b[0m \u001b[0mmethod\u001b[0m\u001b[0;34m,\u001b[0m \u001b[0mself\u001b[0m\u001b[0;34m.\u001b[0m\u001b[0mgeneric_visit\u001b[0m\u001b[0;34m)\u001b[0m\u001b[0;34m\u001b[0m\u001b[0;34m\u001b[0m\u001b[0m\n\u001b[0;32m--> 271\u001b[0;31m         \u001b[0;32mreturn\u001b[0m \u001b[0mvisitor\u001b[0m\u001b[0;34m(\u001b[0m\u001b[0mnode\u001b[0m\u001b[0;34m)\u001b[0m\u001b[0;34m\u001b[0m\u001b[0;34m\u001b[0m\u001b[0m\n\u001b[0m\u001b[1;32m    272\u001b[0m \u001b[0;34m\u001b[0m\u001b[0m\n\u001b[1;32m    273\u001b[0m     \u001b[0;32mdef\u001b[0m \u001b[0mgeneric_visit\u001b[0m\u001b[0;34m(\u001b[0m\u001b[0mself\u001b[0m\u001b[0;34m,\u001b[0m \u001b[0mnode\u001b[0m\u001b[0;34m)\u001b[0m\u001b[0;34m:\u001b[0m\u001b[0;34m\u001b[0m\u001b[0;34m\u001b[0m\u001b[0m\n",
      "\u001b[0;32m<ipython-input-132-30a2cc13dd8e>\u001b[0m in \u001b[0;36mvisit_If\u001b[0;34m(self, node)\u001b[0m\n\u001b[1;32m      1\u001b[0m \u001b[0;32mclass\u001b[0m \u001b[0mIfReplacer\u001b[0m\u001b[0;34m(\u001b[0m\u001b[0mast\u001b[0m\u001b[0;34m.\u001b[0m\u001b[0mNodeTransformer\u001b[0m\u001b[0;34m)\u001b[0m\u001b[0;34m:\u001b[0m\u001b[0;34m\u001b[0m\u001b[0;34m\u001b[0m\u001b[0m\n\u001b[1;32m      2\u001b[0m     \u001b[0;32mdef\u001b[0m \u001b[0mvisit_If\u001b[0m\u001b[0;34m(\u001b[0m\u001b[0mself\u001b[0m\u001b[0;34m,\u001b[0m\u001b[0mnode\u001b[0m\u001b[0;34m)\u001b[0m\u001b[0;34m:\u001b[0m\u001b[0;34m\u001b[0m\u001b[0;34m\u001b[0m\u001b[0m\n\u001b[0;32m----> 3\u001b[0;31m         return Call(func=Name(id='If', ctx=Load()),\n\u001b[0m\u001b[1;32m      4\u001b[0m          args=[\n\u001b[1;32m      5\u001b[0m                 \u001b[0mnode\u001b[0m\u001b[0;34m.\u001b[0m\u001b[0mtest\u001b[0m\u001b[0;34m,\u001b[0m \u001b[0mnode\u001b[0m\u001b[0;34m.\u001b[0m\u001b[0mbody\u001b[0m\u001b[0;34m,\u001b[0m \u001b[0mbode\u001b[0m\u001b[0;34m.\u001b[0m\u001b[0morelse\u001b[0m\u001b[0;34m\u001b[0m\u001b[0;34m\u001b[0m\u001b[0m\n",
      "\u001b[0;31mNameError\u001b[0m: name 'Call' is not defined"
     ]
    }
   ],
   "source": [
    "def simple_fun(x):\n",
    "    #print(1 + 1)\n",
    "    if True:\n",
    "        3\n",
    "    else:\n",
    "        2\n",
    "f = ast.parse(inspect.getsource(simple_fun))\n",
    "ast.dump(IfReplacer().visit(f))\n",
    "f2 = IfReplacer().visit(f)\n",
    "exec(compile(f2, \"<ast>\", \"exec\"))\n",
    "simple_fun(2)"
   ]
  },
  {
   "cell_type": "code",
   "execution_count": null,
   "metadata": {},
   "outputs": [],
   "source": [
    "compiling to categories python"
   ]
  },
  {
   "cell_type": "code",
   "execution_count": 124,
   "metadata": {},
   "outputs": [
    {
     "data": {
      "text/plain": [
       "'fred'"
      ]
     },
     "execution_count": 124,
     "metadata": {},
     "output_type": "execute_result"
    }
   ],
   "source": [
    "\"fred\" if True else 3"
   ]
  },
  {
   "cell_type": "code",
   "execution_count": 128,
   "metadata": {},
   "outputs": [
    {
     "ename": "SyntaxError",
     "evalue": "invalid syntax (<ipython-input-128-81b6ef420415>, line 1)",
     "output_type": "error",
     "traceback": [
      "\u001b[0;36m  File \u001b[0;32m\"<ipython-input-128-81b6ef420415>\"\u001b[0;36m, line \u001b[0;32m1\u001b[0m\n\u001b[0;31m    if True: \"fred\"; else: \"larry\"\u001b[0m\n\u001b[0m                        ^\u001b[0m\n\u001b[0;31mSyntaxError\u001b[0m\u001b[0;31m:\u001b[0m invalid syntax\n"
     ]
    }
   ],
   "source": [
    "Car = Datatype('Cat')\n",
    "Cat.declare('Id')\n",
    "Cat.declare('Comp', ('a', Cat), ('b', Cat))\n",
    "Cat.declare('Fan', ('f', Cat), ('g', Cat))\n",
    "Cat.declare('Fst')\n",
    "Cat.declare('Snd')\n",
    "Cat.declare('Dump')\n",
    "Cat.declare('Split')\n",
    "Cat.declare('')\n",
    "\n",
    "Cat.create()"
   ]
  },
  {
   "cell_type": "code",
   "execution_count": null,
   "metadata": {},
   "outputs": [],
   "source": [
    "# We have horn clause resolution\n",
    "\n",
    "Type.declare('List', ('a'))\n",
    "Type.declare('')\n",
    "Type.declare()\n",
    "\n",
    "\n",
    "Generic.declare('Prod'  , ('a', Generic), ('b', Generic))\n",
    "Generic.declare('Sum', ('a', Generic), ('b', Generic))\n",
    "Generic.declare('Unit')\n",
    "Generic.declare('Void')\n",
    "\n",
    "'''\n",
    "It is easier to take a more module like solution.\n",
    "\n",
    "Reflection of z3 AST.\n",
    "interp ast into z3 data structure.\n",
    "\n",
    "then interp back into z3 terms.\n",
    "\n",
    "'''\n",
    "class TypeClass():\n",
    "    instances = {}\n",
    "    \n",
    "    "
   ]
  },
  {
   "cell_type": "code",
   "execution_count": 196,
   "metadata": {},
   "outputs": [
    {
     "ename": "Z3Exception",
     "evalue": "b'datatype is not well-founded'",
     "output_type": "error",
     "traceback": [
      "\u001b[0;31m---------------------------------------------------------------------------\u001b[0m",
      "\u001b[0;31mZ3Exception\u001b[0m                               Traceback (most recent call last)",
      "\u001b[0;32m<ipython-input-196-845498631ca9>\u001b[0m in \u001b[0;36m<module>\u001b[0;34m\u001b[0m\n\u001b[1;32m      1\u001b[0m \u001b[0mStream\u001b[0m \u001b[0;34m=\u001b[0m \u001b[0mDatatype\u001b[0m\u001b[0;34m(\u001b[0m\u001b[0;34m'Stream'\u001b[0m\u001b[0;34m)\u001b[0m\u001b[0;34m\u001b[0m\u001b[0;34m\u001b[0m\u001b[0m\n\u001b[1;32m      2\u001b[0m \u001b[0mStream\u001b[0m\u001b[0;34m.\u001b[0m\u001b[0mdeclare\u001b[0m\u001b[0;34m(\u001b[0m\u001b[0;34m'Stream'\u001b[0m\u001b[0;34m,\u001b[0m \u001b[0;34m(\u001b[0m\u001b[0;34m'car'\u001b[0m\u001b[0;34m,\u001b[0m \u001b[0mRealSort\u001b[0m\u001b[0;34m(\u001b[0m\u001b[0;34m)\u001b[0m\u001b[0;34m)\u001b[0m\u001b[0;34m,\u001b[0m \u001b[0;34m(\u001b[0m\u001b[0;34m'cdr'\u001b[0m\u001b[0;34m,\u001b[0m \u001b[0mStream\u001b[0m\u001b[0;34m)\u001b[0m\u001b[0;34m)\u001b[0m\u001b[0;34m\u001b[0m\u001b[0;34m\u001b[0m\u001b[0m\n\u001b[0;32m----> 3\u001b[0;31m \u001b[0mStream\u001b[0m \u001b[0;34m=\u001b[0m \u001b[0mStream\u001b[0m\u001b[0;34m.\u001b[0m\u001b[0mcreate\u001b[0m\u001b[0;34m(\u001b[0m\u001b[0;34m)\u001b[0m\u001b[0;34m\u001b[0m\u001b[0;34m\u001b[0m\u001b[0m\n\u001b[0m",
      "\u001b[0;32m/usr/local/lib/python3.7/site-packages/z3/z3.py\u001b[0m in \u001b[0;36mcreate\u001b[0;34m(self)\u001b[0m\n\u001b[1;32m   4760\u001b[0m         \u001b[0mcons\u001b[0m\u001b[0;34m(\u001b[0m\u001b[0;36m10\u001b[0m\u001b[0;34m,\u001b[0m \u001b[0mnil\u001b[0m\u001b[0;34m)\u001b[0m\u001b[0;34m\u001b[0m\u001b[0;34m\u001b[0m\u001b[0m\n\u001b[1;32m   4761\u001b[0m         \"\"\"\n\u001b[0;32m-> 4762\u001b[0;31m         \u001b[0;32mreturn\u001b[0m \u001b[0mCreateDatatypes\u001b[0m\u001b[0;34m(\u001b[0m\u001b[0;34m[\u001b[0m\u001b[0mself\u001b[0m\u001b[0;34m]\u001b[0m\u001b[0;34m)\u001b[0m\u001b[0;34m[\u001b[0m\u001b[0;36m0\u001b[0m\u001b[0;34m]\u001b[0m\u001b[0;34m\u001b[0m\u001b[0;34m\u001b[0m\u001b[0m\n\u001b[0m\u001b[1;32m   4763\u001b[0m \u001b[0;34m\u001b[0m\u001b[0m\n\u001b[1;32m   4764\u001b[0m \u001b[0;32mclass\u001b[0m \u001b[0mScopedConstructor\u001b[0m\u001b[0;34m:\u001b[0m\u001b[0;34m\u001b[0m\u001b[0;34m\u001b[0m\u001b[0m\n",
      "\u001b[0;32m/usr/local/lib/python3.7/site-packages/z3/z3.py\u001b[0m in \u001b[0;36mCreateDatatypes\u001b[0;34m(*ds)\u001b[0m\n\u001b[1;32m   4851\u001b[0m         \u001b[0mclists\u001b[0m\u001b[0;34m[\u001b[0m\u001b[0mi\u001b[0m\u001b[0;34m]\u001b[0m \u001b[0;34m=\u001b[0m \u001b[0mZ3_mk_constructor_list\u001b[0m\u001b[0;34m(\u001b[0m\u001b[0mctx\u001b[0m\u001b[0;34m.\u001b[0m\u001b[0mref\u001b[0m\u001b[0;34m(\u001b[0m\u001b[0;34m)\u001b[0m\u001b[0;34m,\u001b[0m \u001b[0mnum_cs\u001b[0m\u001b[0;34m,\u001b[0m \u001b[0mcs\u001b[0m\u001b[0;34m)\u001b[0m\u001b[0;34m\u001b[0m\u001b[0;34m\u001b[0m\u001b[0m\n\u001b[1;32m   4852\u001b[0m         \u001b[0mto_delete\u001b[0m\u001b[0;34m.\u001b[0m\u001b[0mappend\u001b[0m\u001b[0;34m(\u001b[0m\u001b[0mScopedConstructorList\u001b[0m\u001b[0;34m(\u001b[0m\u001b[0mclists\u001b[0m\u001b[0;34m[\u001b[0m\u001b[0mi\u001b[0m\u001b[0;34m]\u001b[0m\u001b[0;34m,\u001b[0m \u001b[0mctx\u001b[0m\u001b[0;34m)\u001b[0m\u001b[0;34m)\u001b[0m\u001b[0;34m\u001b[0m\u001b[0;34m\u001b[0m\u001b[0m\n\u001b[0;32m-> 4853\u001b[0;31m     \u001b[0mZ3_mk_datatypes\u001b[0m\u001b[0;34m(\u001b[0m\u001b[0mctx\u001b[0m\u001b[0;34m.\u001b[0m\u001b[0mref\u001b[0m\u001b[0;34m(\u001b[0m\u001b[0;34m)\u001b[0m\u001b[0;34m,\u001b[0m \u001b[0mnum\u001b[0m\u001b[0;34m,\u001b[0m \u001b[0mnames\u001b[0m\u001b[0;34m,\u001b[0m \u001b[0mout\u001b[0m\u001b[0;34m,\u001b[0m \u001b[0mclists\u001b[0m\u001b[0;34m)\u001b[0m\u001b[0;34m\u001b[0m\u001b[0;34m\u001b[0m\u001b[0m\n\u001b[0m\u001b[1;32m   4854\u001b[0m     \u001b[0mresult\u001b[0m \u001b[0;34m=\u001b[0m \u001b[0;34m[\u001b[0m\u001b[0;34m]\u001b[0m\u001b[0;34m\u001b[0m\u001b[0;34m\u001b[0m\u001b[0m\n\u001b[1;32m   4855\u001b[0m     \u001b[0;31m## Create a field for every constructor, recognizer and accessor\u001b[0m\u001b[0;34m\u001b[0m\u001b[0;34m\u001b[0m\u001b[0;34m\u001b[0m\u001b[0m\n",
      "\u001b[0;32m/usr/local/lib/python3.7/site-packages/z3/z3core.py\u001b[0m in \u001b[0;36mZ3_mk_datatypes\u001b[0;34m(a0, a1, a2, a3, a4, _elems)\u001b[0m\n\u001b[1;32m   1610\u001b[0m \u001b[0;32mdef\u001b[0m \u001b[0mZ3_mk_datatypes\u001b[0m\u001b[0;34m(\u001b[0m\u001b[0ma0\u001b[0m\u001b[0;34m,\u001b[0m \u001b[0ma1\u001b[0m\u001b[0;34m,\u001b[0m \u001b[0ma2\u001b[0m\u001b[0;34m,\u001b[0m \u001b[0ma3\u001b[0m\u001b[0;34m,\u001b[0m \u001b[0ma4\u001b[0m\u001b[0;34m,\u001b[0m \u001b[0m_elems\u001b[0m\u001b[0;34m=\u001b[0m\u001b[0mElementaries\u001b[0m\u001b[0;34m(\u001b[0m\u001b[0m_lib\u001b[0m\u001b[0;34m.\u001b[0m\u001b[0mZ3_mk_datatypes\u001b[0m\u001b[0;34m)\u001b[0m\u001b[0;34m)\u001b[0m\u001b[0;34m:\u001b[0m\u001b[0;34m\u001b[0m\u001b[0;34m\u001b[0m\u001b[0m\n\u001b[1;32m   1611\u001b[0m   \u001b[0m_elems\u001b[0m\u001b[0;34m.\u001b[0m\u001b[0mf\u001b[0m\u001b[0;34m(\u001b[0m\u001b[0ma0\u001b[0m\u001b[0;34m,\u001b[0m \u001b[0ma1\u001b[0m\u001b[0;34m,\u001b[0m \u001b[0ma2\u001b[0m\u001b[0;34m,\u001b[0m \u001b[0ma3\u001b[0m\u001b[0;34m,\u001b[0m \u001b[0ma4\u001b[0m\u001b[0;34m)\u001b[0m\u001b[0;34m\u001b[0m\u001b[0;34m\u001b[0m\u001b[0m\n\u001b[0;32m-> 1612\u001b[0;31m   \u001b[0m_elems\u001b[0m\u001b[0;34m.\u001b[0m\u001b[0mCheck\u001b[0m\u001b[0;34m(\u001b[0m\u001b[0ma0\u001b[0m\u001b[0;34m)\u001b[0m\u001b[0;34m\u001b[0m\u001b[0;34m\u001b[0m\u001b[0m\n\u001b[0m\u001b[1;32m   1613\u001b[0m \u001b[0;34m\u001b[0m\u001b[0m\n\u001b[1;32m   1614\u001b[0m \u001b[0;32mdef\u001b[0m \u001b[0mZ3_query_constructor\u001b[0m\u001b[0;34m(\u001b[0m\u001b[0ma0\u001b[0m\u001b[0;34m,\u001b[0m \u001b[0ma1\u001b[0m\u001b[0;34m,\u001b[0m \u001b[0ma2\u001b[0m\u001b[0;34m,\u001b[0m \u001b[0ma3\u001b[0m\u001b[0;34m,\u001b[0m \u001b[0ma4\u001b[0m\u001b[0;34m,\u001b[0m \u001b[0ma5\u001b[0m\u001b[0;34m,\u001b[0m \u001b[0m_elems\u001b[0m\u001b[0;34m=\u001b[0m\u001b[0mElementaries\u001b[0m\u001b[0;34m(\u001b[0m\u001b[0m_lib\u001b[0m\u001b[0;34m.\u001b[0m\u001b[0mZ3_query_constructor\u001b[0m\u001b[0;34m)\u001b[0m\u001b[0;34m)\u001b[0m\u001b[0;34m:\u001b[0m\u001b[0;34m\u001b[0m\u001b[0;34m\u001b[0m\u001b[0m\n",
      "\u001b[0;32m/usr/local/lib/python3.7/site-packages/z3/z3core.py\u001b[0m in \u001b[0;36mCheck\u001b[0;34m(self, ctx)\u001b[0m\n\u001b[1;32m   1379\u001b[0m     \u001b[0merr\u001b[0m \u001b[0;34m=\u001b[0m \u001b[0mself\u001b[0m\u001b[0;34m.\u001b[0m\u001b[0mget_error_code\u001b[0m\u001b[0;34m(\u001b[0m\u001b[0mctx\u001b[0m\u001b[0;34m)\u001b[0m\u001b[0;34m\u001b[0m\u001b[0;34m\u001b[0m\u001b[0m\n\u001b[1;32m   1380\u001b[0m     \u001b[0;32mif\u001b[0m \u001b[0merr\u001b[0m \u001b[0;34m!=\u001b[0m \u001b[0mself\u001b[0m\u001b[0;34m.\u001b[0m\u001b[0mOK\u001b[0m\u001b[0;34m:\u001b[0m\u001b[0;34m\u001b[0m\u001b[0;34m\u001b[0m\u001b[0m\n\u001b[0;32m-> 1381\u001b[0;31m         \u001b[0;32mraise\u001b[0m \u001b[0mself\u001b[0m\u001b[0;34m.\u001b[0m\u001b[0mException\u001b[0m\u001b[0;34m(\u001b[0m\u001b[0mself\u001b[0m\u001b[0;34m.\u001b[0m\u001b[0mget_error_message\u001b[0m\u001b[0;34m(\u001b[0m\u001b[0mctx\u001b[0m\u001b[0;34m,\u001b[0m \u001b[0merr\u001b[0m\u001b[0;34m)\u001b[0m\u001b[0;34m)\u001b[0m\u001b[0;34m\u001b[0m\u001b[0;34m\u001b[0m\u001b[0m\n\u001b[0m\u001b[1;32m   1382\u001b[0m \u001b[0;34m\u001b[0m\u001b[0m\n\u001b[1;32m   1383\u001b[0m \u001b[0;32mdef\u001b[0m \u001b[0mZ3_set_error_handler\u001b[0m\u001b[0;34m(\u001b[0m\u001b[0mctx\u001b[0m\u001b[0;34m,\u001b[0m \u001b[0mhndlr\u001b[0m\u001b[0;34m,\u001b[0m \u001b[0m_elems\u001b[0m\u001b[0;34m=\u001b[0m\u001b[0mElementaries\u001b[0m\u001b[0;34m(\u001b[0m\u001b[0m_lib\u001b[0m\u001b[0;34m.\u001b[0m\u001b[0mZ3_set_error_handler\u001b[0m\u001b[0;34m)\u001b[0m\u001b[0;34m)\u001b[0m\u001b[0;34m:\u001b[0m\u001b[0;34m\u001b[0m\u001b[0;34m\u001b[0m\u001b[0m\n",
      "\u001b[0;31mZ3Exception\u001b[0m: b'datatype is not well-founded'"
     ]
    }
   ],
   "source": [
    "Stream = Datatype('Stream')\n",
    "Stream.declare('Stream', ('car', RealSort()), ('cdr', Stream))\n",
    "Stream = Stream.create()"
   ]
  },
  {
   "cell_type": "code",
   "execution_count": 209,
   "metadata": {},
   "outputs": [
    {
     "data": {
      "text/html": [
       "<b>unsat</b>"
      ],
      "text/plain": [
       "unsat"
      ]
     },
     "execution_count": 209,
     "metadata": {},
     "output_type": "execute_result"
    }
   ],
   "source": [
    "\n",
    "a, n = Reals('a n')\n",
    "powe = Function('pow', RealSort(), RealSort(), RealSort())\n",
    "poweth = [ForAll([a,n], powe(a, n) == a*powe(a,n-1)),\n",
    "ForAll([a,n], powe(a,n/2) * powe(a, n/2) == powe(a,n)),\n",
    "ForAll([a],powe(a,0) == 1),\n",
    "         ForAll([a],powe(a,1) == a)]\n",
    "\n",
    "\n",
    "s = Solver()\n",
    "s.add(poweth)\n",
    "s.add(powe(2, 2) != 4)\n",
    "s.check()\n"
   ]
  },
  {
   "cell_type": "code",
   "execution_count": 214,
   "metadata": {},
   "outputs": [],
   "source": [
    "ListR = List(RealSort())\n",
    "eval_poly = RecFunction('eval_poly', List(RealSort()), RealSort(), RealSort())\n",
    "\n",
    "p = Const('p',List(RealSort()))\n",
    "x = Real('x')\n",
    "RecAddDefinition(eval_poly, [p, x], If(ListR.is_Nil(p), 0, ListR.car(p) + x*eval_poly(ListR.cdr(p),x)  ))"
   ]
  },
  {
   "cell_type": "code",
   "execution_count": 240,
   "metadata": {},
   "outputs": [
    {
     "data": {
      "text/html": [
       "10"
      ],
      "text/plain": [
       "10"
      ]
     },
     "execution_count": 240,
     "metadata": {},
     "output_type": "execute_result"
    }
   ],
   "source": [
    "s = Solver()\n",
    "s.add(eval_poly(ListR.Cons(0, ListR.Cons(1, ListR.Nil)), 10) == x)\n",
    "s.add(x >= 0)\n",
    "s.check()\n",
    "m = s.model()\n",
    "m[x]\n",
    "#t = Tactic(\"simplify\")\n",
    "#t(m[x] >= 0)\n",
    "#s.model()"
   ]
  },
  {
   "cell_type": "code",
   "execution_count": null,
   "metadata": {},
   "outputs": [],
   "source": [
    "ListR = List(RealSort())\n",
    "padd = RecFunction('eval_poly', ListR, ListR, ListR)\n",
    "\n",
    "p = Const('p',List(RealSort()))\n",
    "x = Real('x')\n",
    "RecAddDefinition(eval_poly, [p, x], If(ListR.is_Nil(p), 0, ListR.car(p) + x*eval_poly(ListR.cdr(p),x)  ))"
   ]
  },
  {
   "cell_type": "code",
   "execution_count": 279,
   "metadata": {},
   "outputs": [
    {
     "data": {
      "text/html": [
       "<b>unknown</b>"
      ],
      "text/plain": [
       "unknown"
      ]
     },
     "execution_count": 279,
     "metadata": {},
     "output_type": "execute_result"
    }
   ],
   "source": [
    "#Maybe arrays? f(0) + f(1) x + \n",
    "n = Int('n')\n",
    "sumn = Function(\"sumn\", IntSort(), RealSort())\n",
    "s = Solver()\n",
    "s.add(ForAll([n], Implies(n >= 1, sumn(n) == 1 / ToReal(n * n) + sumn(n+1)), patterns=[sumn(n)]))\n",
    "s.add(ForAll([n], sumn(n) >= 0))\n",
    "s.add( sumn(1) < 1.6 )\n",
    "s.check()\n",
    "#s.model()\n"
   ]
  },
  {
   "cell_type": "code",
   "execution_count": 263,
   "metadata": {},
   "outputs": [
    {
     "data": {
      "text/plain": [
       "1.6449340668482264"
      ]
     },
     "execution_count": 263,
     "metadata": {},
     "output_type": "execute_result"
    }
   ],
   "source": [
    "np.pi**2 / 6"
   ]
  },
  {
   "cell_type": "code",
   "execution_count": 290,
   "metadata": {},
   "outputs": [
    {
     "data": {
      "text/html": [
       "[p = Cons(1, Cons(1, Cons(-1, Nil))),\n",
       " eval_poly = [else &rarr;\n",
       "              If(is(Nil, &#957;<sub>0</sub>),\n",
       "                 0,\n",
       "                 car(&#957;<sub>0</sub>) + eval_poly(cdr(&#957;<sub>0</sub>), &#957;<sub>1</sub>)&middot;&#957;<sub>1</sub>)]]"
      ],
      "text/plain": [
       "[p = Cons(1, Cons(1, Cons(-1, Nil))),\n",
       " eval_poly = [else ->\n",
       "              If(is(Nil, Var(0)),\n",
       "                 0,\n",
       "                 car(Var(0)) +\n",
       "                 eval_poly(cdr(Var(0)), Var(1))*Var(1))]]"
      ]
     },
     "execution_count": 290,
     "metadata": {},
     "output_type": "execute_result"
    }
   ],
   "source": [
    "s = Solver()\n",
    "#s.add(ForAll([x], eval_poly(p,x) == 1 + x*x))\n",
    "s.add(eval_poly(p,0) == 1)\n",
    "s.add(eval_poly(p,1) == 1)\n",
    "s.add(eval_poly(p,2) == -1)\n",
    "s.check()\n",
    "s.model()"
   ]
  },
  {
   "cell_type": "code",
   "execution_count": 321,
   "metadata": {},
   "outputs": [
    {
     "ename": "Z3Exception",
     "evalue": "model is not available",
     "output_type": "error",
     "traceback": [
      "\u001b[0;31m---------------------------------------------------------------------------\u001b[0m",
      "\u001b[0;31mZ3Exception\u001b[0m                               Traceback (most recent call last)",
      "\u001b[0;32m/usr/local/lib/python3.7/site-packages/z3/z3.py\u001b[0m in \u001b[0;36mmodel\u001b[0;34m(self)\u001b[0m\n\u001b[1;32m   6672\u001b[0m         \u001b[0;32mtry\u001b[0m\u001b[0;34m:\u001b[0m\u001b[0;34m\u001b[0m\u001b[0;34m\u001b[0m\u001b[0m\n\u001b[0;32m-> 6673\u001b[0;31m             \u001b[0;32mreturn\u001b[0m \u001b[0mModelRef\u001b[0m\u001b[0;34m(\u001b[0m\u001b[0mZ3_solver_get_model\u001b[0m\u001b[0;34m(\u001b[0m\u001b[0mself\u001b[0m\u001b[0;34m.\u001b[0m\u001b[0mctx\u001b[0m\u001b[0;34m.\u001b[0m\u001b[0mref\u001b[0m\u001b[0;34m(\u001b[0m\u001b[0;34m)\u001b[0m\u001b[0;34m,\u001b[0m \u001b[0mself\u001b[0m\u001b[0;34m.\u001b[0m\u001b[0msolver\u001b[0m\u001b[0;34m)\u001b[0m\u001b[0;34m,\u001b[0m \u001b[0mself\u001b[0m\u001b[0;34m.\u001b[0m\u001b[0mctx\u001b[0m\u001b[0;34m)\u001b[0m\u001b[0;34m\u001b[0m\u001b[0;34m\u001b[0m\u001b[0m\n\u001b[0m\u001b[1;32m   6674\u001b[0m         \u001b[0;32mexcept\u001b[0m \u001b[0mZ3Exception\u001b[0m\u001b[0;34m:\u001b[0m\u001b[0;34m\u001b[0m\u001b[0;34m\u001b[0m\u001b[0m\n",
      "\u001b[0;32m/usr/local/lib/python3.7/site-packages/z3/z3core.py\u001b[0m in \u001b[0;36mZ3_solver_get_model\u001b[0;34m(a0, a1, _elems)\u001b[0m\n\u001b[1;32m   3759\u001b[0m   \u001b[0mr\u001b[0m \u001b[0;34m=\u001b[0m \u001b[0m_elems\u001b[0m\u001b[0;34m.\u001b[0m\u001b[0mf\u001b[0m\u001b[0;34m(\u001b[0m\u001b[0ma0\u001b[0m\u001b[0;34m,\u001b[0m \u001b[0ma1\u001b[0m\u001b[0;34m)\u001b[0m\u001b[0;34m\u001b[0m\u001b[0;34m\u001b[0m\u001b[0m\n\u001b[0;32m-> 3760\u001b[0;31m   \u001b[0m_elems\u001b[0m\u001b[0;34m.\u001b[0m\u001b[0mCheck\u001b[0m\u001b[0;34m(\u001b[0m\u001b[0ma0\u001b[0m\u001b[0;34m)\u001b[0m\u001b[0;34m\u001b[0m\u001b[0;34m\u001b[0m\u001b[0m\n\u001b[0m\u001b[1;32m   3761\u001b[0m   \u001b[0;32mreturn\u001b[0m \u001b[0mr\u001b[0m\u001b[0;34m\u001b[0m\u001b[0;34m\u001b[0m\u001b[0m\n",
      "\u001b[0;32m/usr/local/lib/python3.7/site-packages/z3/z3core.py\u001b[0m in \u001b[0;36mCheck\u001b[0;34m(self, ctx)\u001b[0m\n\u001b[1;32m   1380\u001b[0m     \u001b[0;32mif\u001b[0m \u001b[0merr\u001b[0m \u001b[0;34m!=\u001b[0m \u001b[0mself\u001b[0m\u001b[0;34m.\u001b[0m\u001b[0mOK\u001b[0m\u001b[0;34m:\u001b[0m\u001b[0;34m\u001b[0m\u001b[0;34m\u001b[0m\u001b[0m\n\u001b[0;32m-> 1381\u001b[0;31m         \u001b[0;32mraise\u001b[0m \u001b[0mself\u001b[0m\u001b[0;34m.\u001b[0m\u001b[0mException\u001b[0m\u001b[0;34m(\u001b[0m\u001b[0mself\u001b[0m\u001b[0;34m.\u001b[0m\u001b[0mget_error_message\u001b[0m\u001b[0;34m(\u001b[0m\u001b[0mctx\u001b[0m\u001b[0;34m,\u001b[0m \u001b[0merr\u001b[0m\u001b[0;34m)\u001b[0m\u001b[0;34m)\u001b[0m\u001b[0;34m\u001b[0m\u001b[0;34m\u001b[0m\u001b[0m\n\u001b[0m\u001b[1;32m   1382\u001b[0m \u001b[0;34m\u001b[0m\u001b[0m\n",
      "\u001b[0;31mZ3Exception\u001b[0m: b'there is no current model'",
      "\nDuring handling of the above exception, another exception occurred:\n",
      "\u001b[0;31mZ3Exception\u001b[0m                               Traceback (most recent call last)",
      "\u001b[0;32m<ipython-input-321-0de53c6c3de1>\u001b[0m in \u001b[0;36m<module>\u001b[0;34m\u001b[0m\n\u001b[1;32m     23\u001b[0m \u001b[0ms\u001b[0m\u001b[0;34m.\u001b[0m\u001b[0madd\u001b[0m\u001b[0;34m(\u001b[0m\u001b[0meval_poly\u001b[0m\u001b[0;34m(\u001b[0m\u001b[0mp\u001b[0m\u001b[0;34m,\u001b[0m \u001b[0;36m1\u001b[0m\u001b[0;34m)\u001b[0m \u001b[0;34m<=\u001b[0m \u001b[0;36m2\u001b[0m\u001b[0;34m)\u001b[0m\u001b[0;34m\u001b[0m\u001b[0;34m\u001b[0m\u001b[0m\n\u001b[1;32m     24\u001b[0m \u001b[0ms\u001b[0m\u001b[0;34m.\u001b[0m\u001b[0mcheck\u001b[0m\u001b[0;34m(\u001b[0m\u001b[0;34m)\u001b[0m\u001b[0;34m\u001b[0m\u001b[0;34m\u001b[0m\u001b[0m\n\u001b[0;32m---> 25\u001b[0;31m \u001b[0ms\u001b[0m\u001b[0;34m.\u001b[0m\u001b[0mmodel\u001b[0m\u001b[0;34m(\u001b[0m\u001b[0;34m)\u001b[0m\u001b[0;34m\u001b[0m\u001b[0;34m\u001b[0m\u001b[0m\n\u001b[0m",
      "\u001b[0;32m/usr/local/lib/python3.7/site-packages/z3/z3.py\u001b[0m in \u001b[0;36mmodel\u001b[0;34m(self)\u001b[0m\n\u001b[1;32m   6673\u001b[0m             \u001b[0;32mreturn\u001b[0m \u001b[0mModelRef\u001b[0m\u001b[0;34m(\u001b[0m\u001b[0mZ3_solver_get_model\u001b[0m\u001b[0;34m(\u001b[0m\u001b[0mself\u001b[0m\u001b[0;34m.\u001b[0m\u001b[0mctx\u001b[0m\u001b[0;34m.\u001b[0m\u001b[0mref\u001b[0m\u001b[0;34m(\u001b[0m\u001b[0;34m)\u001b[0m\u001b[0;34m,\u001b[0m \u001b[0mself\u001b[0m\u001b[0;34m.\u001b[0m\u001b[0msolver\u001b[0m\u001b[0;34m)\u001b[0m\u001b[0;34m,\u001b[0m \u001b[0mself\u001b[0m\u001b[0;34m.\u001b[0m\u001b[0mctx\u001b[0m\u001b[0;34m)\u001b[0m\u001b[0;34m\u001b[0m\u001b[0;34m\u001b[0m\u001b[0m\n\u001b[1;32m   6674\u001b[0m         \u001b[0;32mexcept\u001b[0m \u001b[0mZ3Exception\u001b[0m\u001b[0;34m:\u001b[0m\u001b[0;34m\u001b[0m\u001b[0;34m\u001b[0m\u001b[0m\n\u001b[0;32m-> 6675\u001b[0;31m             \u001b[0;32mraise\u001b[0m \u001b[0mZ3Exception\u001b[0m\u001b[0;34m(\u001b[0m\u001b[0;34m\"model is not available\"\u001b[0m\u001b[0;34m)\u001b[0m\u001b[0;34m\u001b[0m\u001b[0;34m\u001b[0m\u001b[0m\n\u001b[0m\u001b[1;32m   6676\u001b[0m \u001b[0;34m\u001b[0m\u001b[0m\n\u001b[1;32m   6677\u001b[0m     \u001b[0;32mdef\u001b[0m \u001b[0mimport_model_converter\u001b[0m\u001b[0;34m(\u001b[0m\u001b[0mself\u001b[0m\u001b[0;34m,\u001b[0m \u001b[0mother\u001b[0m\u001b[0;34m)\u001b[0m\u001b[0;34m:\u001b[0m\u001b[0;34m\u001b[0m\u001b[0;34m\u001b[0m\u001b[0m\n",
      "\u001b[0;31mZ3Exception\u001b[0m: model is not available"
     ]
    }
   ],
   "source": [
    "#diff = Function('diff',  ListR, ListR)\n",
    "#diff2 = Function('diff2', IntSort(), ListR, ListR)\n",
    "n = Int('n')\n",
    "p = Const('p',List(RealSort()))\n",
    "\n",
    "\n",
    "diff2 = RecFunction('diff2', IntSort(), ListR, ListR)\n",
    "def diff(p):\n",
    "    return diff2(1,ListR.cdr(p))\n",
    "RecAddDefinition(diff2, [n,p], If(ListR.is_Nil(p), ListR.Nil, ListR.Cons( n * ListR.car(p),  diff2(n+1, ListR.cdr(p))))  )\n",
    "\n",
    "#d = [ForAll([p,n], diff2(n,p) == If( ListR.is_Nil(p), p,  ListR.Cons( n * ListR.car(p),  diff2(n+1, ListR.cdr(p)))), patterns =[diff2(n,p)]),\n",
    "#d =  #ForAll([p], diff(p) == If(ListR.is_Nil(p), p, diff2(1, ListR.cdr(p))  ), patterns = [diff(p)])\n",
    "#d = Lambda([p], If(ListR.is_Nil(p), p, diff2(1, ListR.cdr(p)) )) \n",
    "s = Solver()\n",
    "s.set(auto_config=False, mbqi=False)\n",
    "#s.add(d)\n",
    "#s.add(diff(p) == ListR.Cons( 3, ListR.Cons(2, ListR.Nil)))\n",
    "s.add(diff(p) == p)\n",
    "s.add(ListR.is_Nil(p) == False)\n",
    "s.add(ListR.car(p) == 1)\n",
    "#s.add(ListR.car(p) == 1)\n",
    "s.add(eval_poly(p, 1) <= 2)\n",
    "s.check()\n",
    "s.model()\n"
   ]
  },
  {
   "cell_type": "code",
   "execution_count": 409,
   "metadata": {},
   "outputs": [
    {
     "name": "stdout",
     "output_type": "stream",
     "text": [
      "proved\n",
      "proved\n",
      "proved\n"
     ]
    }
   ],
   "source": [
    "class Interval():\n",
    "    def __init__(self,l,r):\n",
    "        self.l = l\n",
    "        self.r = r\n",
    "    def __add__(self,rhs):\n",
    "        if type(rhs) == Interval:\n",
    "            return Interval(self.l + rhs.l, self.r + rhs.r)\n",
    "    def __sub__(self, rhs):\n",
    "        return Interval(self.l)\n",
    "    def __mul__(self,rhs):\n",
    "        combos = [self.l * rhs.l, self.l * rhs.r, self.r * rhs.l, self.r*rhs.r]\n",
    "        return Interval( Min(*combos), Max(*combos))\n",
    "    def fresh():\n",
    "        l = FreshReal()\n",
    "        r = FreshReal()\n",
    "        return Interval(l,r)\n",
    "            \n",
    "    def valid(self): # nonempty?\n",
    "        return self.l <= self.r\n",
    "    def __le__(self,rhs): # Or( self.r < self.l ) (ie is bottom)\n",
    "        return And(rhs.l <= self.l, self.r <= rhs.r )\n",
    "    def __lt__(self,rhs):\n",
    "        return And(rhs.l < self.l, self.r < rhs.r )\n",
    "    def forall( eq ):\n",
    "        i = Interval.fresh()\n",
    "        return ForAll([i.l,i.r] , Implies(i.valid(), eq(i) ))\n",
    "    def elem(self,item):\n",
    "        return And(self.l <= item, item <= self.r) \n",
    "    def join(self,rhs):\n",
    "        return Interval(Min(self.l, rhs.l), Max(self.r, rhs.r))\n",
    "    def meet(self,rhs):\n",
    "        return Interval(Max(self.l, rhs.l), Min(self.r, rhs.r))\n",
    "    def width(self):\n",
    "        return self.r - self.l\n",
    "    def mid(self):\n",
    "        return (self.r + self.l)/2\n",
    "    def bisect(self):\n",
    "        return Interval(self.l, self.mid()), Interval(self.mid(), self.r)\n",
    "    def point(x):\n",
    "        return Interval(x,x)\n",
    "    def recip(self): #assume 0 is not in \n",
    "        return Interval(1/self.r, 1/self.l)\n",
    "    def __truediv__(self,rhs):\n",
    "        return self * rhs.recip()\n",
    "    def __repr__(self):\n",
    "        return f\"[{self.l} , {self.r}]\"\n",
    "    def pos(self):\n",
    "        return And(self.l > 0, self.r > 0)\n",
    "    def neg(self):\n",
    "        return And(self.l < 0, self.r < 0)\n",
    "    def non_zero(self):\n",
    "        return Or(self.pos(), self.neg())\n",
    "        \n",
    "'''\n",
    "turn equalities into iteration\n",
    "turn equalities into inequations of intervals\n",
    "\n",
    "'''\n",
    "\n",
    "x, y = Reals(\"x y\")\n",
    "i1 = Interval.fresh()\n",
    "i2 = Interval.fresh()\n",
    "#x in i\n",
    "th = Interval.forall(lambda i1: Interval.forall( lambda i2: ForAll([x,y], Implies(And(i1.elem(x), i2.elem(y)), (i1 + i2).elem(x + y)  )   )))\n",
    "prove(th)\n",
    "th = Interval.forall(lambda i1: Interval.forall( lambda i2: Implies(And(i1.elem(x), i2.elem(y)), (i1 * i2).elem(x * y)  )   ))\n",
    "#print(th)\n",
    "#prove(th)\n",
    "#print(i2 * i2)\n",
    "th = Implies(And(i1.elem(x), i2.elem(y)), (i1 * i2).elem(x * y)  )\n",
    "#print(th)\n",
    "prove(th)\n",
    "#s = Solver()\n",
    "#s.add(Not(th))\n",
    "#s.check()\n",
    "#m = s.model()\n",
    "#transitive\n",
    "i3 = Interval.fresh()\n",
    "prove(Implies( And(i1 <= i2, i2 <= i3), i1 <= i3  ))"
   ]
  },
  {
   "cell_type": "code",
   "execution_count": 395,
   "metadata": {},
   "outputs": [
    {
     "ename": "Z3Exception",
     "evalue": "b'parser error'",
     "output_type": "error",
     "traceback": [
      "\u001b[0;31m---------------------------------------------------------------------------\u001b[0m",
      "\u001b[0;31mZ3Exception\u001b[0m                               Traceback (most recent call last)",
      "\u001b[0;32m<ipython-input-395-4eb2a4faf561>\u001b[0m in \u001b[0;36m<module>\u001b[0;34m\u001b[0m\n\u001b[1;32m      1\u001b[0m \u001b[0;32mdef\u001b[0m \u001b[0mbab_iter\u001b[0m\u001b[0;34m(\u001b[0m\u001b[0mx\u001b[0m\u001b[0;34m,\u001b[0m \u001b[0my\u001b[0m\u001b[0;34m)\u001b[0m\u001b[0;34m:\u001b[0m \u001b[0;31m#curry?\u001b[0m\u001b[0;34m\u001b[0m\u001b[0;34m\u001b[0m\u001b[0m\n\u001b[1;32m      2\u001b[0m     \u001b[0;32mreturn\u001b[0m \u001b[0;34m(\u001b[0m\u001b[0mx\u001b[0m \u001b[0;34m/\u001b[0m \u001b[0my\u001b[0m \u001b[0;34m+\u001b[0m \u001b[0my\u001b[0m\u001b[0;34m)\u001b[0m \u001b[0;34m/\u001b[0m \u001b[0;36m2\u001b[0m\u001b[0;34m\u001b[0m\u001b[0;34m\u001b[0m\u001b[0m\n\u001b[0;32m----> 3\u001b[0;31m \u001b[0mprove\u001b[0m\u001b[0;34m(\u001b[0m  \u001b[0mImplies\u001b[0m\u001b[0;34m(\u001b[0m\u001b[0mAnd\u001b[0m\u001b[0;34m(\u001b[0m\u001b[0mi2\u001b[0m\u001b[0;34m.\u001b[0m\u001b[0mpos\u001b[0m\u001b[0;34m(\u001b[0m\u001b[0;34m)\u001b[0m\u001b[0;34m,\u001b[0m \u001b[0mi2\u001b[0m\u001b[0;34m.\u001b[0m\u001b[0mvalid\u001b[0m\u001b[0;34m(\u001b[0m\u001b[0;34m)\u001b[0m\u001b[0;34m,\u001b[0m \u001b[0mi2\u001b[0m\u001b[0;34m.\u001b[0m\u001b[0mwidth\u001b[0m\u001b[0;34m(\u001b[0m\u001b[0;34m)\u001b[0m \u001b[0;34m!=\u001b[0m \u001b[0;36m0\u001b[0m\u001b[0;34m,\u001b[0m \u001b[0mx\u001b[0m \u001b[0;34m>\u001b[0m \u001b[0;36m0\u001b[0m\u001b[0;34m)\u001b[0m \u001b[0;34m,\u001b[0m \u001b[0mbab_iter\u001b[0m\u001b[0;34m(\u001b[0m\u001b[0mx\u001b[0m\u001b[0;34m,\u001b[0m \u001b[0mi2\u001b[0m\u001b[0;34m)\u001b[0m \u001b[0;34m<=\u001b[0m \u001b[0mi2\u001b[0m  \u001b[0;34m)\u001b[0m\u001b[0;34m)\u001b[0m\u001b[0;34m\u001b[0m\u001b[0;34m\u001b[0m\u001b[0m\n\u001b[0m",
      "\u001b[0;32m<ipython-input-395-4eb2a4faf561>\u001b[0m in \u001b[0;36mbab_iter\u001b[0;34m(x, y)\u001b[0m\n\u001b[1;32m      1\u001b[0m \u001b[0;32mdef\u001b[0m \u001b[0mbab_iter\u001b[0m\u001b[0;34m(\u001b[0m\u001b[0mx\u001b[0m\u001b[0;34m,\u001b[0m \u001b[0my\u001b[0m\u001b[0;34m)\u001b[0m\u001b[0;34m:\u001b[0m \u001b[0;31m#curry?\u001b[0m\u001b[0;34m\u001b[0m\u001b[0;34m\u001b[0m\u001b[0m\n\u001b[0;32m----> 2\u001b[0;31m     \u001b[0;32mreturn\u001b[0m \u001b[0;34m(\u001b[0m\u001b[0mx\u001b[0m \u001b[0;34m/\u001b[0m \u001b[0my\u001b[0m \u001b[0;34m+\u001b[0m \u001b[0my\u001b[0m\u001b[0;34m)\u001b[0m \u001b[0;34m/\u001b[0m \u001b[0;36m2\u001b[0m\u001b[0;34m\u001b[0m\u001b[0;34m\u001b[0m\u001b[0m\n\u001b[0m\u001b[1;32m      3\u001b[0m \u001b[0mprove\u001b[0m\u001b[0;34m(\u001b[0m  \u001b[0mImplies\u001b[0m\u001b[0;34m(\u001b[0m\u001b[0mAnd\u001b[0m\u001b[0;34m(\u001b[0m\u001b[0mi2\u001b[0m\u001b[0;34m.\u001b[0m\u001b[0mpos\u001b[0m\u001b[0;34m(\u001b[0m\u001b[0;34m)\u001b[0m\u001b[0;34m,\u001b[0m \u001b[0mi2\u001b[0m\u001b[0;34m.\u001b[0m\u001b[0mvalid\u001b[0m\u001b[0;34m(\u001b[0m\u001b[0;34m)\u001b[0m\u001b[0;34m,\u001b[0m \u001b[0mi2\u001b[0m\u001b[0;34m.\u001b[0m\u001b[0mwidth\u001b[0m\u001b[0;34m(\u001b[0m\u001b[0;34m)\u001b[0m \u001b[0;34m!=\u001b[0m \u001b[0;36m0\u001b[0m\u001b[0;34m,\u001b[0m \u001b[0mx\u001b[0m \u001b[0;34m>\u001b[0m \u001b[0;36m0\u001b[0m\u001b[0;34m)\u001b[0m \u001b[0;34m,\u001b[0m \u001b[0mbab_iter\u001b[0m\u001b[0;34m(\u001b[0m\u001b[0mx\u001b[0m\u001b[0;34m,\u001b[0m \u001b[0mi2\u001b[0m\u001b[0;34m)\u001b[0m \u001b[0;34m<=\u001b[0m \u001b[0mi2\u001b[0m  \u001b[0;34m)\u001b[0m\u001b[0;34m)\u001b[0m\u001b[0;34m\u001b[0m\u001b[0;34m\u001b[0m\u001b[0m\n",
      "\u001b[0;32m/usr/local/lib/python3.7/site-packages/z3/z3.py\u001b[0m in \u001b[0;36m__truediv__\u001b[0;34m(self, other)\u001b[0m\n\u001b[1;32m   2353\u001b[0m     \u001b[0;32mdef\u001b[0m \u001b[0m__truediv__\u001b[0m\u001b[0;34m(\u001b[0m\u001b[0mself\u001b[0m\u001b[0;34m,\u001b[0m \u001b[0mother\u001b[0m\u001b[0;34m)\u001b[0m\u001b[0;34m:\u001b[0m\u001b[0;34m\u001b[0m\u001b[0;34m\u001b[0m\u001b[0m\n\u001b[1;32m   2354\u001b[0m         \u001b[0;34m\"\"\"Create the Z3 expression `other/self`.\"\"\"\u001b[0m\u001b[0;34m\u001b[0m\u001b[0;34m\u001b[0m\u001b[0m\n\u001b[0;32m-> 2355\u001b[0;31m         \u001b[0;32mreturn\u001b[0m \u001b[0mself\u001b[0m\u001b[0;34m.\u001b[0m\u001b[0m__div__\u001b[0m\u001b[0;34m(\u001b[0m\u001b[0mother\u001b[0m\u001b[0;34m)\u001b[0m\u001b[0;34m\u001b[0m\u001b[0;34m\u001b[0m\u001b[0m\n\u001b[0m\u001b[1;32m   2356\u001b[0m \u001b[0;34m\u001b[0m\u001b[0m\n\u001b[1;32m   2357\u001b[0m     \u001b[0;32mdef\u001b[0m \u001b[0m__rdiv__\u001b[0m\u001b[0;34m(\u001b[0m\u001b[0mself\u001b[0m\u001b[0;34m,\u001b[0m \u001b[0mother\u001b[0m\u001b[0;34m)\u001b[0m\u001b[0;34m:\u001b[0m\u001b[0;34m\u001b[0m\u001b[0;34m\u001b[0m\u001b[0m\n",
      "\u001b[0;32m/usr/local/lib/python3.7/site-packages/z3/z3.py\u001b[0m in \u001b[0;36m__div__\u001b[0;34m(self, other)\u001b[0m\n\u001b[1;32m   2348\u001b[0m         \u001b[0;34m'(/ x y)'\u001b[0m\u001b[0;34m\u001b[0m\u001b[0;34m\u001b[0m\u001b[0m\n\u001b[1;32m   2349\u001b[0m         \"\"\"\n\u001b[0;32m-> 2350\u001b[0;31m         \u001b[0ma\u001b[0m\u001b[0;34m,\u001b[0m \u001b[0mb\u001b[0m \u001b[0;34m=\u001b[0m \u001b[0m_coerce_exprs\u001b[0m\u001b[0;34m(\u001b[0m\u001b[0mself\u001b[0m\u001b[0;34m,\u001b[0m \u001b[0mother\u001b[0m\u001b[0;34m)\u001b[0m\u001b[0;34m\u001b[0m\u001b[0;34m\u001b[0m\u001b[0m\n\u001b[0m\u001b[1;32m   2351\u001b[0m         \u001b[0;32mreturn\u001b[0m \u001b[0mArithRef\u001b[0m\u001b[0;34m(\u001b[0m\u001b[0mZ3_mk_div\u001b[0m\u001b[0;34m(\u001b[0m\u001b[0mself\u001b[0m\u001b[0;34m.\u001b[0m\u001b[0mctx_ref\u001b[0m\u001b[0;34m(\u001b[0m\u001b[0;34m)\u001b[0m\u001b[0;34m,\u001b[0m \u001b[0ma\u001b[0m\u001b[0;34m.\u001b[0m\u001b[0mas_ast\u001b[0m\u001b[0;34m(\u001b[0m\u001b[0;34m)\u001b[0m\u001b[0;34m,\u001b[0m \u001b[0mb\u001b[0m\u001b[0;34m.\u001b[0m\u001b[0mas_ast\u001b[0m\u001b[0;34m(\u001b[0m\u001b[0;34m)\u001b[0m\u001b[0;34m)\u001b[0m\u001b[0;34m,\u001b[0m \u001b[0mself\u001b[0m\u001b[0;34m.\u001b[0m\u001b[0mctx\u001b[0m\u001b[0;34m)\u001b[0m\u001b[0;34m\u001b[0m\u001b[0;34m\u001b[0m\u001b[0m\n\u001b[1;32m   2352\u001b[0m \u001b[0;34m\u001b[0m\u001b[0m\n",
      "\u001b[0;32m/usr/local/lib/python3.7/site-packages/z3/z3.py\u001b[0m in \u001b[0;36m_coerce_exprs\u001b[0;34m(a, b, ctx)\u001b[0m\n\u001b[1;32m   1092\u001b[0m     \u001b[0ms\u001b[0m \u001b[0;34m=\u001b[0m \u001b[0m_coerce_expr_merge\u001b[0m\u001b[0;34m(\u001b[0m\u001b[0ms\u001b[0m\u001b[0;34m,\u001b[0m \u001b[0mb\u001b[0m\u001b[0;34m)\u001b[0m\u001b[0;34m\u001b[0m\u001b[0;34m\u001b[0m\u001b[0m\n\u001b[1;32m   1093\u001b[0m     \u001b[0ma\u001b[0m \u001b[0;34m=\u001b[0m \u001b[0ms\u001b[0m\u001b[0;34m.\u001b[0m\u001b[0mcast\u001b[0m\u001b[0;34m(\u001b[0m\u001b[0ma\u001b[0m\u001b[0;34m)\u001b[0m\u001b[0;34m\u001b[0m\u001b[0;34m\u001b[0m\u001b[0m\n\u001b[0;32m-> 1094\u001b[0;31m     \u001b[0mb\u001b[0m \u001b[0;34m=\u001b[0m \u001b[0ms\u001b[0m\u001b[0;34m.\u001b[0m\u001b[0mcast\u001b[0m\u001b[0;34m(\u001b[0m\u001b[0mb\u001b[0m\u001b[0;34m)\u001b[0m\u001b[0;34m\u001b[0m\u001b[0;34m\u001b[0m\u001b[0m\n\u001b[0m\u001b[1;32m   1095\u001b[0m     \u001b[0;32mreturn\u001b[0m \u001b[0;34m(\u001b[0m\u001b[0ma\u001b[0m\u001b[0;34m,\u001b[0m \u001b[0mb\u001b[0m\u001b[0;34m)\u001b[0m\u001b[0;34m\u001b[0m\u001b[0;34m\u001b[0m\u001b[0m\n\u001b[1;32m   1096\u001b[0m \u001b[0;34m\u001b[0m\u001b[0m\n",
      "\u001b[0;32m/usr/local/lib/python3.7/site-packages/z3/z3.py\u001b[0m in \u001b[0;36mcast\u001b[0;34m(self, val)\u001b[0m\n\u001b[1;32m   2172\u001b[0m                 \u001b[0;32mreturn\u001b[0m \u001b[0mIntVal\u001b[0m\u001b[0;34m(\u001b[0m\u001b[0mval\u001b[0m\u001b[0;34m,\u001b[0m \u001b[0mself\u001b[0m\u001b[0;34m.\u001b[0m\u001b[0mctx\u001b[0m\u001b[0;34m)\u001b[0m\u001b[0;34m\u001b[0m\u001b[0;34m\u001b[0m\u001b[0m\n\u001b[1;32m   2173\u001b[0m             \u001b[0;32mif\u001b[0m \u001b[0mself\u001b[0m\u001b[0;34m.\u001b[0m\u001b[0mis_real\u001b[0m\u001b[0;34m(\u001b[0m\u001b[0;34m)\u001b[0m\u001b[0;34m:\u001b[0m\u001b[0;34m\u001b[0m\u001b[0;34m\u001b[0m\u001b[0m\n\u001b[0;32m-> 2174\u001b[0;31m                 \u001b[0;32mreturn\u001b[0m \u001b[0mRealVal\u001b[0m\u001b[0;34m(\u001b[0m\u001b[0mval\u001b[0m\u001b[0;34m,\u001b[0m \u001b[0mself\u001b[0m\u001b[0;34m.\u001b[0m\u001b[0mctx\u001b[0m\u001b[0;34m)\u001b[0m\u001b[0;34m\u001b[0m\u001b[0;34m\u001b[0m\u001b[0m\n\u001b[0m\u001b[1;32m   2175\u001b[0m             \u001b[0;32mif\u001b[0m \u001b[0mz3_debug\u001b[0m\u001b[0;34m(\u001b[0m\u001b[0;34m)\u001b[0m\u001b[0;34m:\u001b[0m\u001b[0;34m\u001b[0m\u001b[0;34m\u001b[0m\u001b[0m\n\u001b[1;32m   2176\u001b[0m                 \u001b[0m_z3_assert\u001b[0m\u001b[0;34m(\u001b[0m\u001b[0;32mFalse\u001b[0m\u001b[0;34m,\u001b[0m \u001b[0;34m\"int, long, float, string (numeral), or Z3 Integer/Real expression expected. Got %s\"\u001b[0m \u001b[0;34m%\u001b[0m \u001b[0mself\u001b[0m\u001b[0;34m)\u001b[0m\u001b[0;34m\u001b[0m\u001b[0;34m\u001b[0m\u001b[0m\n",
      "\u001b[0;32m/usr/local/lib/python3.7/site-packages/z3/z3.py\u001b[0m in \u001b[0;36mRealVal\u001b[0;34m(val, ctx)\u001b[0m\n\u001b[1;32m   2979\u001b[0m     \"\"\"\n\u001b[1;32m   2980\u001b[0m     \u001b[0mctx\u001b[0m \u001b[0;34m=\u001b[0m \u001b[0m_get_ctx\u001b[0m\u001b[0;34m(\u001b[0m\u001b[0mctx\u001b[0m\u001b[0;34m)\u001b[0m\u001b[0;34m\u001b[0m\u001b[0;34m\u001b[0m\u001b[0m\n\u001b[0;32m-> 2981\u001b[0;31m     \u001b[0;32mreturn\u001b[0m \u001b[0mRatNumRef\u001b[0m\u001b[0;34m(\u001b[0m\u001b[0mZ3_mk_numeral\u001b[0m\u001b[0;34m(\u001b[0m\u001b[0mctx\u001b[0m\u001b[0;34m.\u001b[0m\u001b[0mref\u001b[0m\u001b[0;34m(\u001b[0m\u001b[0;34m)\u001b[0m\u001b[0;34m,\u001b[0m \u001b[0mstr\u001b[0m\u001b[0;34m(\u001b[0m\u001b[0mval\u001b[0m\u001b[0;34m)\u001b[0m\u001b[0;34m,\u001b[0m \u001b[0mRealSort\u001b[0m\u001b[0;34m(\u001b[0m\u001b[0mctx\u001b[0m\u001b[0;34m)\u001b[0m\u001b[0;34m.\u001b[0m\u001b[0mast\u001b[0m\u001b[0;34m)\u001b[0m\u001b[0;34m,\u001b[0m \u001b[0mctx\u001b[0m\u001b[0;34m)\u001b[0m\u001b[0;34m\u001b[0m\u001b[0;34m\u001b[0m\u001b[0m\n\u001b[0m\u001b[1;32m   2982\u001b[0m \u001b[0;34m\u001b[0m\u001b[0m\n\u001b[1;32m   2983\u001b[0m \u001b[0;32mdef\u001b[0m \u001b[0mRatVal\u001b[0m\u001b[0;34m(\u001b[0m\u001b[0ma\u001b[0m\u001b[0;34m,\u001b[0m \u001b[0mb\u001b[0m\u001b[0;34m,\u001b[0m \u001b[0mctx\u001b[0m\u001b[0;34m=\u001b[0m\u001b[0;32mNone\u001b[0m\u001b[0;34m)\u001b[0m\u001b[0;34m:\u001b[0m\u001b[0;34m\u001b[0m\u001b[0;34m\u001b[0m\u001b[0m\n",
      "\u001b[0;32m/usr/local/lib/python3.7/site-packages/z3/z3core.py\u001b[0m in \u001b[0;36mZ3_mk_numeral\u001b[0;34m(a0, a1, a2, _elems)\u001b[0m\n\u001b[1;32m   2132\u001b[0m \u001b[0;32mdef\u001b[0m \u001b[0mZ3_mk_numeral\u001b[0m\u001b[0;34m(\u001b[0m\u001b[0ma0\u001b[0m\u001b[0;34m,\u001b[0m \u001b[0ma1\u001b[0m\u001b[0;34m,\u001b[0m \u001b[0ma2\u001b[0m\u001b[0;34m,\u001b[0m \u001b[0m_elems\u001b[0m\u001b[0;34m=\u001b[0m\u001b[0mElementaries\u001b[0m\u001b[0;34m(\u001b[0m\u001b[0m_lib\u001b[0m\u001b[0;34m.\u001b[0m\u001b[0mZ3_mk_numeral\u001b[0m\u001b[0;34m)\u001b[0m\u001b[0;34m)\u001b[0m\u001b[0;34m:\u001b[0m\u001b[0;34m\u001b[0m\u001b[0;34m\u001b[0m\u001b[0m\n\u001b[1;32m   2133\u001b[0m   \u001b[0mr\u001b[0m \u001b[0;34m=\u001b[0m \u001b[0m_elems\u001b[0m\u001b[0;34m.\u001b[0m\u001b[0mf\u001b[0m\u001b[0;34m(\u001b[0m\u001b[0ma0\u001b[0m\u001b[0;34m,\u001b[0m \u001b[0m_to_ascii\u001b[0m\u001b[0;34m(\u001b[0m\u001b[0ma1\u001b[0m\u001b[0;34m)\u001b[0m\u001b[0;34m,\u001b[0m \u001b[0ma2\u001b[0m\u001b[0;34m)\u001b[0m\u001b[0;34m\u001b[0m\u001b[0;34m\u001b[0m\u001b[0m\n\u001b[0;32m-> 2134\u001b[0;31m   \u001b[0m_elems\u001b[0m\u001b[0;34m.\u001b[0m\u001b[0mCheck\u001b[0m\u001b[0;34m(\u001b[0m\u001b[0ma0\u001b[0m\u001b[0;34m)\u001b[0m\u001b[0;34m\u001b[0m\u001b[0;34m\u001b[0m\u001b[0m\n\u001b[0m\u001b[1;32m   2135\u001b[0m   \u001b[0;32mreturn\u001b[0m \u001b[0mr\u001b[0m\u001b[0;34m\u001b[0m\u001b[0;34m\u001b[0m\u001b[0m\n\u001b[1;32m   2136\u001b[0m \u001b[0;34m\u001b[0m\u001b[0m\n",
      "\u001b[0;32m/usr/local/lib/python3.7/site-packages/z3/z3core.py\u001b[0m in \u001b[0;36mCheck\u001b[0;34m(self, ctx)\u001b[0m\n\u001b[1;32m   1379\u001b[0m     \u001b[0merr\u001b[0m \u001b[0;34m=\u001b[0m \u001b[0mself\u001b[0m\u001b[0;34m.\u001b[0m\u001b[0mget_error_code\u001b[0m\u001b[0;34m(\u001b[0m\u001b[0mctx\u001b[0m\u001b[0;34m)\u001b[0m\u001b[0;34m\u001b[0m\u001b[0;34m\u001b[0m\u001b[0m\n\u001b[1;32m   1380\u001b[0m     \u001b[0;32mif\u001b[0m \u001b[0merr\u001b[0m \u001b[0;34m!=\u001b[0m \u001b[0mself\u001b[0m\u001b[0;34m.\u001b[0m\u001b[0mOK\u001b[0m\u001b[0;34m:\u001b[0m\u001b[0;34m\u001b[0m\u001b[0;34m\u001b[0m\u001b[0m\n\u001b[0;32m-> 1381\u001b[0;31m         \u001b[0;32mraise\u001b[0m \u001b[0mself\u001b[0m\u001b[0;34m.\u001b[0m\u001b[0mException\u001b[0m\u001b[0;34m(\u001b[0m\u001b[0mself\u001b[0m\u001b[0;34m.\u001b[0m\u001b[0mget_error_message\u001b[0m\u001b[0;34m(\u001b[0m\u001b[0mctx\u001b[0m\u001b[0;34m,\u001b[0m \u001b[0merr\u001b[0m\u001b[0;34m)\u001b[0m\u001b[0;34m)\u001b[0m\u001b[0;34m\u001b[0m\u001b[0;34m\u001b[0m\u001b[0m\n\u001b[0m\u001b[1;32m   1382\u001b[0m \u001b[0;34m\u001b[0m\u001b[0m\n\u001b[1;32m   1383\u001b[0m \u001b[0;32mdef\u001b[0m \u001b[0mZ3_set_error_handler\u001b[0m\u001b[0;34m(\u001b[0m\u001b[0mctx\u001b[0m\u001b[0;34m,\u001b[0m \u001b[0mhndlr\u001b[0m\u001b[0;34m,\u001b[0m \u001b[0m_elems\u001b[0m\u001b[0;34m=\u001b[0m\u001b[0mElementaries\u001b[0m\u001b[0;34m(\u001b[0m\u001b[0m_lib\u001b[0m\u001b[0;34m.\u001b[0m\u001b[0mZ3_set_error_handler\u001b[0m\u001b[0;34m)\u001b[0m\u001b[0;34m)\u001b[0m\u001b[0;34m:\u001b[0m\u001b[0;34m\u001b[0m\u001b[0;34m\u001b[0m\u001b[0m\n",
      "\u001b[0;31mZ3Exception\u001b[0m: b'parser error'"
     ]
    }
   ],
   "source": [
    "def bab_iter(x, y): #curry?\n",
    "    return (x / y + y) / 2\n",
    "prove(  Implies(And(i2.pos(), i2.valid(), i2.width() != 0, x > 0) , bab_iter(x, i2) <= i2  ))\n"
   ]
  },
  {
   "cell_type": "code",
   "execution_count": 396,
   "metadata": {
    "scrolled": true
   },
   "outputs": [
    {
     "name": "stdout",
     "output_type": "stream",
     "text": [
      "failed to prove\n"
     ]
    },
    {
     "ename": "Z3Exception",
     "evalue": "model is not available",
     "output_type": "error",
     "traceback": [
      "\u001b[0;31m---------------------------------------------------------------------------\u001b[0m",
      "\u001b[0;31mZ3Exception\u001b[0m                               Traceback (most recent call last)",
      "\u001b[0;32m/usr/local/lib/python3.7/site-packages/z3/z3.py\u001b[0m in \u001b[0;36mmodel\u001b[0;34m(self)\u001b[0m\n\u001b[1;32m   6672\u001b[0m         \u001b[0;32mtry\u001b[0m\u001b[0;34m:\u001b[0m\u001b[0;34m\u001b[0m\u001b[0;34m\u001b[0m\u001b[0m\n\u001b[0;32m-> 6673\u001b[0;31m             \u001b[0;32mreturn\u001b[0m \u001b[0mModelRef\u001b[0m\u001b[0;34m(\u001b[0m\u001b[0mZ3_solver_get_model\u001b[0m\u001b[0;34m(\u001b[0m\u001b[0mself\u001b[0m\u001b[0;34m.\u001b[0m\u001b[0mctx\u001b[0m\u001b[0;34m.\u001b[0m\u001b[0mref\u001b[0m\u001b[0;34m(\u001b[0m\u001b[0;34m)\u001b[0m\u001b[0;34m,\u001b[0m \u001b[0mself\u001b[0m\u001b[0;34m.\u001b[0m\u001b[0msolver\u001b[0m\u001b[0;34m)\u001b[0m\u001b[0;34m,\u001b[0m \u001b[0mself\u001b[0m\u001b[0;34m.\u001b[0m\u001b[0mctx\u001b[0m\u001b[0;34m)\u001b[0m\u001b[0;34m\u001b[0m\u001b[0;34m\u001b[0m\u001b[0m\n\u001b[0m\u001b[1;32m   6674\u001b[0m         \u001b[0;32mexcept\u001b[0m \u001b[0mZ3Exception\u001b[0m\u001b[0;34m:\u001b[0m\u001b[0;34m\u001b[0m\u001b[0;34m\u001b[0m\u001b[0m\n",
      "\u001b[0;32m/usr/local/lib/python3.7/site-packages/z3/z3core.py\u001b[0m in \u001b[0;36mZ3_solver_get_model\u001b[0;34m(a0, a1, _elems)\u001b[0m\n\u001b[1;32m   3759\u001b[0m   \u001b[0mr\u001b[0m \u001b[0;34m=\u001b[0m \u001b[0m_elems\u001b[0m\u001b[0;34m.\u001b[0m\u001b[0mf\u001b[0m\u001b[0;34m(\u001b[0m\u001b[0ma0\u001b[0m\u001b[0;34m,\u001b[0m \u001b[0ma1\u001b[0m\u001b[0;34m)\u001b[0m\u001b[0;34m\u001b[0m\u001b[0;34m\u001b[0m\u001b[0m\n\u001b[0;32m-> 3760\u001b[0;31m   \u001b[0m_elems\u001b[0m\u001b[0;34m.\u001b[0m\u001b[0mCheck\u001b[0m\u001b[0;34m(\u001b[0m\u001b[0ma0\u001b[0m\u001b[0;34m)\u001b[0m\u001b[0;34m\u001b[0m\u001b[0;34m\u001b[0m\u001b[0m\n\u001b[0m\u001b[1;32m   3761\u001b[0m   \u001b[0;32mreturn\u001b[0m \u001b[0mr\u001b[0m\u001b[0;34m\u001b[0m\u001b[0;34m\u001b[0m\u001b[0m\n",
      "\u001b[0;32m/usr/local/lib/python3.7/site-packages/z3/z3core.py\u001b[0m in \u001b[0;36mCheck\u001b[0;34m(self, ctx)\u001b[0m\n\u001b[1;32m   1380\u001b[0m     \u001b[0;32mif\u001b[0m \u001b[0merr\u001b[0m \u001b[0;34m!=\u001b[0m \u001b[0mself\u001b[0m\u001b[0;34m.\u001b[0m\u001b[0mOK\u001b[0m\u001b[0;34m:\u001b[0m\u001b[0;34m\u001b[0m\u001b[0;34m\u001b[0m\u001b[0m\n\u001b[0;32m-> 1381\u001b[0;31m         \u001b[0;32mraise\u001b[0m \u001b[0mself\u001b[0m\u001b[0;34m.\u001b[0m\u001b[0mException\u001b[0m\u001b[0;34m(\u001b[0m\u001b[0mself\u001b[0m\u001b[0;34m.\u001b[0m\u001b[0mget_error_message\u001b[0m\u001b[0;34m(\u001b[0m\u001b[0mctx\u001b[0m\u001b[0;34m,\u001b[0m \u001b[0merr\u001b[0m\u001b[0;34m)\u001b[0m\u001b[0;34m)\u001b[0m\u001b[0;34m\u001b[0m\u001b[0;34m\u001b[0m\u001b[0m\n\u001b[0m\u001b[1;32m   1382\u001b[0m \u001b[0;34m\u001b[0m\u001b[0m\n",
      "\u001b[0;31mZ3Exception\u001b[0m: b'there is no current model'",
      "\nDuring handling of the above exception, another exception occurred:\n",
      "\u001b[0;31mZ3Exception\u001b[0m                               Traceback (most recent call last)",
      "\u001b[0;32m<ipython-input-396-f0a4508e22a7>\u001b[0m in \u001b[0;36m<module>\u001b[0;34m\u001b[0m\n\u001b[1;32m      1\u001b[0m \u001b[0;31m#subdistributivty\u001b[0m\u001b[0;34m\u001b[0m\u001b[0;34m\u001b[0m\u001b[0;34m\u001b[0m\u001b[0m\n\u001b[0;32m----> 2\u001b[0;31m \u001b[0mprove\u001b[0m\u001b[0;34m(\u001b[0m\u001b[0mi1\u001b[0m \u001b[0;34m*\u001b[0m \u001b[0;34m(\u001b[0m\u001b[0mi2\u001b[0m \u001b[0;34m+\u001b[0m \u001b[0mi3\u001b[0m\u001b[0;34m)\u001b[0m \u001b[0;34m<=\u001b[0m \u001b[0mi1\u001b[0m \u001b[0;34m*\u001b[0m \u001b[0mi2\u001b[0m \u001b[0;34m+\u001b[0m \u001b[0mi1\u001b[0m \u001b[0;34m*\u001b[0m \u001b[0mi3\u001b[0m\u001b[0;34m)\u001b[0m\u001b[0;34m\u001b[0m\u001b[0;34m\u001b[0m\u001b[0m\n\u001b[0m",
      "\u001b[0;32m/usr/local/lib/python3.7/site-packages/z3/z3.py\u001b[0m in \u001b[0;36mprove\u001b[0;34m(claim, **keywords)\u001b[0m\n\u001b[1;32m   8478\u001b[0m     \u001b[0;32melif\u001b[0m \u001b[0mr\u001b[0m \u001b[0;34m==\u001b[0m \u001b[0munknown\u001b[0m\u001b[0;34m:\u001b[0m\u001b[0;34m\u001b[0m\u001b[0;34m\u001b[0m\u001b[0m\n\u001b[1;32m   8479\u001b[0m         \u001b[0mprint\u001b[0m\u001b[0;34m(\u001b[0m\u001b[0;34m\"failed to prove\"\u001b[0m\u001b[0;34m)\u001b[0m\u001b[0;34m\u001b[0m\u001b[0;34m\u001b[0m\u001b[0m\n\u001b[0;32m-> 8480\u001b[0;31m         \u001b[0mprint\u001b[0m\u001b[0;34m(\u001b[0m\u001b[0ms\u001b[0m\u001b[0;34m.\u001b[0m\u001b[0mmodel\u001b[0m\u001b[0;34m(\u001b[0m\u001b[0;34m)\u001b[0m\u001b[0;34m)\u001b[0m\u001b[0;34m\u001b[0m\u001b[0;34m\u001b[0m\u001b[0m\n\u001b[0m\u001b[1;32m   8481\u001b[0m     \u001b[0;32melse\u001b[0m\u001b[0;34m:\u001b[0m\u001b[0;34m\u001b[0m\u001b[0;34m\u001b[0m\u001b[0m\n\u001b[1;32m   8482\u001b[0m         \u001b[0mprint\u001b[0m\u001b[0;34m(\u001b[0m\u001b[0;34m\"counterexample\"\u001b[0m\u001b[0;34m)\u001b[0m\u001b[0;34m\u001b[0m\u001b[0;34m\u001b[0m\u001b[0m\n",
      "\u001b[0;32m/usr/local/lib/python3.7/site-packages/z3/z3.py\u001b[0m in \u001b[0;36mmodel\u001b[0;34m(self)\u001b[0m\n\u001b[1;32m   6673\u001b[0m             \u001b[0;32mreturn\u001b[0m \u001b[0mModelRef\u001b[0m\u001b[0;34m(\u001b[0m\u001b[0mZ3_solver_get_model\u001b[0m\u001b[0;34m(\u001b[0m\u001b[0mself\u001b[0m\u001b[0;34m.\u001b[0m\u001b[0mctx\u001b[0m\u001b[0;34m.\u001b[0m\u001b[0mref\u001b[0m\u001b[0;34m(\u001b[0m\u001b[0;34m)\u001b[0m\u001b[0;34m,\u001b[0m \u001b[0mself\u001b[0m\u001b[0;34m.\u001b[0m\u001b[0msolver\u001b[0m\u001b[0;34m)\u001b[0m\u001b[0;34m,\u001b[0m \u001b[0mself\u001b[0m\u001b[0;34m.\u001b[0m\u001b[0mctx\u001b[0m\u001b[0;34m)\u001b[0m\u001b[0;34m\u001b[0m\u001b[0;34m\u001b[0m\u001b[0m\n\u001b[1;32m   6674\u001b[0m         \u001b[0;32mexcept\u001b[0m \u001b[0mZ3Exception\u001b[0m\u001b[0;34m:\u001b[0m\u001b[0;34m\u001b[0m\u001b[0;34m\u001b[0m\u001b[0m\n\u001b[0;32m-> 6675\u001b[0;31m             \u001b[0;32mraise\u001b[0m \u001b[0mZ3Exception\u001b[0m\u001b[0;34m(\u001b[0m\u001b[0;34m\"model is not available\"\u001b[0m\u001b[0;34m)\u001b[0m\u001b[0;34m\u001b[0m\u001b[0;34m\u001b[0m\u001b[0m\n\u001b[0m\u001b[1;32m   6676\u001b[0m \u001b[0;34m\u001b[0m\u001b[0m\n\u001b[1;32m   6677\u001b[0m     \u001b[0;32mdef\u001b[0m \u001b[0mimport_model_converter\u001b[0m\u001b[0;34m(\u001b[0m\u001b[0mself\u001b[0m\u001b[0;34m,\u001b[0m \u001b[0mother\u001b[0m\u001b[0;34m)\u001b[0m\u001b[0;34m:\u001b[0m\u001b[0;34m\u001b[0m\u001b[0;34m\u001b[0m\u001b[0m\n",
      "\u001b[0;31mZ3Exception\u001b[0m: model is not available"
     ]
    }
   ],
   "source": [
    "#subdistributivty\n",
    "prove(i1 * (i2 + i3) <= i1 * i2 + i1 * i3)"
   ]
  },
  {
   "cell_type": "code",
   "execution_count": 402,
   "metadata": {},
   "outputs": [
    {
     "name": "stdout",
     "output_type": "stream",
     "text": [
      "proved\n",
      "proved\n"
     ]
    }
   ],
   "source": [
    "#isotonic\n",
    "i4 = Interval.fresh()\n",
    "prove(Implies( And( i1 <= i2, i3 <= i4  ),  (i1 + i3) <= i2 + i4 ))\n",
    "prove(Implies( And(i1.valid(), i2.valid(), i3.valid(), i4.valid(), i1 <= i2, i3 <= i4  ),  (i1 * i3) <= i2 * i4 ))"
   ]
  },
  {
   "cell_type": "code",
   "execution_count": 405,
   "metadata": {},
   "outputs": [
    {
     "name": "stdout",
     "output_type": "stream",
     "text": [
      "proved\n"
     ]
    }
   ],
   "source": [
    "prove(Implies( i1.valid(), (Interval.point(0.1) * i1).width() <=  i1.width()  ))"
   ]
  },
  {
   "cell_type": "code",
   "execution_count": 415,
   "metadata": {},
   "outputs": [
    {
     "name": "stdout",
     "output_type": "stream",
     "text": [
      "counterexample\n",
      "[b!19845 = 1/2,\n",
      " b!19846 = 1,\n",
      " x = 1,\n",
      " /0 = [(1, 1/2) -> 2, (1, 1) -> 1, else -> 0]]\n"
     ]
    }
   ],
   "source": [
    "def bab_iter(x, y): #curry?\n",
    "    return (x / y + y) / Interval.point(2)\n",
    "prove(  Implies(And(i2.pos(), i2.valid(), x > 0) , bab_iter(Interval.point(x), i2).width() <= i2.width()  ))"
   ]
  },
  {
   "cell_type": "code",
   "execution_count": 431,
   "metadata": {},
   "outputs": [
    {
     "name": "stdout",
     "output_type": "stream",
     "text": [
      "proved\n"
     ]
    }
   ],
   "source": [
    "def bab_iter(x, y): #curry?\n",
    "    return (x / y + y) / 2\n",
    "prove(  Implies(And( x > z, y > z, z > 1) ,    Abs(bab_iter(z,x) - bab_iter(z,y)) <= Abs(x - y)))"
   ]
  },
  {
   "cell_type": "code",
   "execution_count": 436,
   "metadata": {},
   "outputs": [
    {
     "name": "stdout",
     "output_type": "stream",
     "text": [
      "proved\n"
     ]
    }
   ],
   "source": [
    "def bab_iter(x, y): #curry?\n",
    "    return (x / y + y) / 2\n",
    "prove(  Implies(And( x > 0, y > 0, z > 0) ,    Abs(bab_iter(z,bab_iter(z,x)) - bab_iter(z,bab_iter(z,x))) <= Abs(bab_iter(z,x) - bab_iter(z,y))))"
   ]
  },
  {
   "cell_type": "code",
   "execution_count": null,
   "metadata": {},
   "outputs": [],
   "source": [
    "isol = Interval(RealVal(1), InterVal(  ) )\n",
    "bab_iter(  )"
   ]
  },
  {
   "cell_type": "code",
   "execution_count": null,
   "metadata": {},
   "outputs": [],
   "source": [
    "equality of contractions. \n",
    "if iter1(i) <=i  & iter2(i) < i\n",
    "i2 <= i2 iter1(i2) <= i2, iter2(i2) <= i2,  > i <=   # indirect equality?"
   ]
  },
  {
   "cell_type": "code",
   "execution_count": 465,
   "metadata": {},
   "outputs": [
    {
     "data": {
      "text/html": [
       "[f = [else &rarr; If(&#957;<sub>0</sub> &ge; 1, 1/&#957;<sub>0</sub>, 3 + &#957;<sub>0</sub>)],\n",
       " diff2 = [else &rarr;\n",
       "          If(is(Nil, &#957;<sub>1</sub>),\n",
       "             Nil,\n",
       "             Cons(car(&#957;<sub>1</sub>)&middot;ToReal(&#957;<sub>0</sub>), diff2(1 + &#957;<sub>0</sub>, cdr(&#957;<sub>1</sub>))))],\n",
       " eval_poly = [else &rarr;\n",
       "              If(is(Nil, &#957;<sub>0</sub>),\n",
       "                 0,\n",
       "                 car(&#957;<sub>0</sub>) + eval_poly(cdr(&#957;<sub>0</sub>), &#957;<sub>1</sub>)&middot;&#957;<sub>1</sub>)]]"
      ],
      "text/plain": [
       "[f = [else -> If(Var(0) >= 1, 1/Var(0), 3 + Var(0))],\n",
       " diff2 = [else ->\n",
       "          If(is(Nil, Var(1)),\n",
       "             Nil,\n",
       "             Cons(car(Var(1))*ToReal(Var(0)),\n",
       "                  diff2(1 + Var(0), cdr(Var(1)))))],\n",
       " eval_poly = [else ->\n",
       "              If(is(Nil, Var(0)),\n",
       "                 0,\n",
       "                 car(Var(0)) +\n",
       "                 eval_poly(cdr(Var(0)), Var(1))*Var(1))]]"
      ]
     },
     "execution_count": 465,
     "metadata": {},
     "output_type": "execute_result"
    }
   ],
   "source": [
    "f= Function(\"f\", RealSort(),RealSort())\n",
    "s = Solver()\n",
    "s.add(ForAll([x], Implies(x <= 0, f(x) == 3+x)))\n",
    "s.add(ForAll([x], Implies(x >= 1, f(x) == 1/x)))\n",
    "#s.add(ForAll([x], f(x) == 1/ x))\n",
    "s.check()\n",
    "s.model()"
   ]
  },
  {
   "cell_type": "code",
   "execution_count": null,
   "metadata": {},
   "outputs": [],
   "source": []
  },
  {
   "cell_type": "markdown",
   "metadata": {},
   "source": [
    "Real = (i, iter1 ) # an interval on which iter1 is contractive and self inlcusive.\n",
    " if i construct my iterations as rational functions, the fixed points are algebraic numbers, solutions of polynomaisl\n",
    "For ODEs, I need to inject functions spaces\n",
    "\n",
    "strict_contractive(f): # arbitrary fineness.\n",
    "     Implies( i2 <= i, i.valid(), i2.valid(),  i2.width() != 0 , f(i2).width() < i2.width()) \n",
    "\n",
    "def isotonic(f):\n",
    "    Implies(i1 <= i2, f(i1) <= f(i2))\n"
   ]
  },
  {
   "cell_type": "code",
   "execution_count": 421,
   "metadata": {},
   "outputs": [
    {
     "data": {
      "text/plain": [
       "3.25"
      ]
     },
     "execution_count": 421,
     "metadata": {},
     "output_type": "execute_result"
    }
   ],
   "source": [
    "bab_iter(3,0.5)"
   ]
  },
  {
   "cell_type": "code",
   "execution_count": 423,
   "metadata": {},
   "outputs": [
    {
     "data": {
      "text/plain": [
       "[<matplotlib.lines.Line2D at 0x1142b8510>]"
      ]
     },
     "execution_count": 423,
     "metadata": {},
     "output_type": "execute_result"
    },
    {
     "data": {
      "image/png": "[encoded data removed]",
      "text/plain": [
       "<Figure size 432x288 with 1 Axes>"
      ]
     },
     "metadata": {
      "needs_background": "light"
     },
     "output_type": "display_data"
    }
   ],
   "source": [
    "xs = np.linspace(0.01, 6)\n",
    "plt.plot(xs, bab_iter(3,xs))"
   ]
  },
  {
   "cell_type": "code",
   "execution_count": 433,
   "metadata": {},
   "outputs": [
    {
     "name": "stdout",
     "output_type": "stream",
     "text": [
      "5.05\n",
      "2.624009900990099\n",
      "1.5025530119986812\n",
      "1.0840434673026924\n",
      "1.0032578510960606\n",
      "1.0000052895642693\n",
      "1.0000000000139897\n",
      "1.0\n",
      "1.0\n",
      "1.0\n"
     ]
    }
   ],
   "source": [
    "a = 0.1\n",
    "for i in range(10):\n",
    "    a=bab_iter(1,a)\n",
    "    print(a)"
   ]
  },
  {
   "cell_type": "code",
   "execution_count": 416,
   "metadata": {},
   "outputs": [
    {
     "name": "stdout",
     "output_type": "stream",
     "text": [
      "proved\n",
      "proved\n",
      "proved\n",
      "proved\n"
     ]
    },
    {
     "data": {
      "text/html": [
       "If(If(x &le; y, y, x) &le; z, z, If(x &le; y, y, x))"
      ],
      "text/plain": [
       "If(If(x <= y, y, x) <= z, z, If(x <= y, y, x))"
      ]
     },
     "execution_count": 416,
     "metadata": {},
     "output_type": "execute_result"
    }
   ],
   "source": [
    "from functools import reduce\n",
    "def Max1(x,y):\n",
    "    return If(x <= y, y, x)\n",
    "def Min1(x,y):\n",
    "    return If(x <= y, x, y)\n",
    "def Abs(x):\n",
    "    return If(x <= 0, -x, x)\n",
    "\n",
    "def Min(*args):\n",
    "    return reduce(Min1, args)\n",
    "def Max(*args):\n",
    "    return reduce(Max1, args)\n",
    "    \n",
    "z = Real('z')\n",
    "\n",
    "prove(z <= Max(x,y,z))\n",
    "prove(x <= Max(x,y))\n",
    "prove(Min(x,y) <= x)\n",
    "prove(Min(x,y) <= y)\n",
    "Max(x,y,z)"
   ]
  },
  {
   "cell_type": "code",
   "execution_count": 353,
   "metadata": {},
   "outputs": [
    {
     "data": {
      "text/plain": [
       "[If(If(If(1*1 <= 1*2, 1*1, 1*2) <= 1*1,\n",
       "      If(1*1 <= 1*2, 1*1, 1*2),\n",
       "      1*1) <=\n",
       "   2*2,\n",
       "   If(If(1*1 <= 1*2, 1*1, 1*2) <= 1*1,\n",
       "      If(1*1 <= 1*2, 1*1, 1*2),\n",
       "      1*1),\n",
       "   2*2) , If(If(If(1*1 <= 1*2, 1*2, 1*1) <= 1*1,\n",
       "      1*1,\n",
       "      If(1*1 <= 1*2, 1*2, 1*1)) <=\n",
       "   2*2,\n",
       "   2*2,\n",
       "   If(If(1*1 <= 1*2, 1*2, 1*1) <= 1*1,\n",
       "      1*1,\n",
       "      If(1*1 <= 1*2, 1*2, 1*1)))]"
      ]
     },
     "execution_count": 353,
     "metadata": {},
     "output_type": "execute_result"
    }
   ],
   "source": [
    "i = Interval(RealVal(1),RealVal(2))\n",
    "i * i"
   ]
  },
  {
   "cell_type": "code",
   "execution_count": 344,
   "metadata": {},
   "outputs": [
    {
     "name": "stdout",
     "output_type": "stream",
     "text": [
      "Help on built-in function reduce in module _functools:\n",
      "\n",
      "reduce(...)\n",
      "    reduce(function, sequence[, initial]) -> value\n",
      "    \n",
      "    Apply a function of two arguments cumulatively to the items of a sequence,\n",
      "    from left to right, so as to reduce the sequence to a single value.\n",
      "    For example, reduce(lambda x, y: x+y, [1, 2, 3, 4, 5]) calculates\n",
      "    ((((1+2)+3)+4)+5).  If initial is present, it is placed before the items\n",
      "    of the sequence in the calculation, and serves as a default when the\n",
      "    sequence is empty.\n",
      "\n"
     ]
    }
   ],
   "source": [
    "help(reduce)"
   ]
  },
  {
   "cell_type": "code",
   "execution_count": 348,
   "metadata": {},
   "outputs": [],
   "source": [
    "R = RealSort()\n",
    "R.fresh = FreshReal\n",
    "R.forall = lambda eq:   ForAll([])\n",
    "R.\n",
    "I = IntSort()\n",
    "B = BoolSort()\n"
   ]
  },
  {
   "cell_type": "markdown",
   "metadata": {},
   "source": [
    "automatic differentiation\n",
    "Is there a point? Why not just use symbolic?\n",
    "differentiation of the contraction map\n",
    "\n",
    "x, y = sy.symbols('x y')\n",
    "bab_diff = lamdbify(x,y,diff(bab_iter(x,y),x))\n",
    "\n",
    "The easiest thing is to use generic python functions.\n",
    "and then interpret them into sympy and stuff. If I've not doing an extended proof process, there probably is less need to interpet a z3 thing back into python.\n",
    "\n",
    "def lattice(r):\n",
    "\n",
    "\n",
    "The interval \n",
    "\n",
    "a relation between Intervals is not the same as a relational domain of boxes.\n",
    "\n",
    "if a function is contractive and contains it's iteration, then it contains it's fixed point\n",
    "\n"
   ]
  },
  {
   "cell_type": "code",
   "execution_count": null,
   "metadata": {},
   "outputs": [],
   "source": [
    "def continuity(f, g ): #g(expislon) = delta. Or g(epsilon, delta) is relation required? Can I do relational skolemaziation?\n",
    "       epsilon = Real('e')\n",
    "       delta = Real('d')\n",
    "       return Implies(g(epsilon,delta) , x1 - x2 <= epsilon,  Abs(f(x1) - f(x2)) <= delta)\n",
    "    # you pretty much only get one quantifier\n",
    "    # continuity takes us down a bad road.\n",
    "    # it's constructive in the sense that z3 should often be able to compute epsilon give delta as a model.\n",
    "def findeps(g, delta):\n",
    "    epsilon = Real('e')\n",
    "    delta = Real('d')\n",
    "    c.check()\n",
    "    "
   ]
  },
  {
   "cell_type": "code",
   "execution_count": null,
   "metadata": {},
   "outputs": [],
   "source": [
    "# relational properties\n",
    "def is_function(r):\n",
    "    d = r.domain(0)\n",
    "    r = r.domain(1)\n",
    "    FreshConst()\n",
    "def is_\n",
    "\n",
    "def converse(r):\n",
    "    return lambda x,y: r(y,x)\n",
    "def meet(p,q):\n",
    "    return lambda x,y : p(x,y) & q(x,y)\n",
    "def join(p,q):\n",
    "    return lambda x,y : p(x,y) | q(x,y)\n",
    "\n",
    "def compose(y, p, q): \n",
    "    return lambda x,z: Exists([y], And(p(x,y), q(y,z)))\n",
    "def compose(s, p, q):\n",
    "    y = FreshConst(s)\n",
    "    return lambda x,z: Exists([y], And(p(x,y), q(y,z)))\n",
    "def compose(s): # curried on the sort.\n",
    "    def c(p, q):\n",
    "        y = FreshConst(s)\n",
    "        return lambda x,z: Exists([y], And(p(x,y), q(y,z)))\n",
    "    return c\n",
    "def compose(p,q):\n",
    "    return lambda x,z: Exists([z], And(p(x,y), q(y,z)))\n",
    "def compose(p,q,pf): # a relational proof. somewhat less strong than the below?\n",
    "    pf(x,y,z) & p(x,y) & q(y,z)\n",
    "def compose(p,q,pf): # need to give a function that computes intermediate for all values of x,z\n",
    "    prove( p(x,y) & q(y,z) >>  p(x,pf(x,z)) & q(pf(x,z),z)) # given that there is a y, pf finds one.\n",
    "    return lambda x,z : p(x,pf(x,z)) & q(pf(x,z),z)\n",
    "def rid(x,y):\n",
    "    return x == y\n",
    "def rid_int(l,r): # Highly internalized relation vs macroized relationship.\n",
    "    z = Function(\"rid\", l,r)\n",
    "    x = FreshConst(l)\n",
    "    y = FreshConst(r)\n",
    "    return z, [ForAll([x,y], z(x,y) == (x == y))]\n",
    "\n",
    "There are different ways of expressing things. At the python meta level or at z3 level. Can we convert between the two. staged metprogramming\n",
    "Generic statements like p & q <= p can be proven with arbitrary Function p. \n",
    "Man. Maybe we are just reproducing shitty alloy.\n",
    "Also use uninterpeted sorts for the domains\n",
    "\n",
    "def is_compose(p,q,pq):\n",
    "    prove( Exists([y], p(x,y) & q(y,z)) == pq(x,z) ) # this is obviously correct.\n",
    "    prove(  p(x,y) & q(y,z) >> pq(x,z) ) # Is this sufficient? No. if there is no y, pq can do anything # \n",
    "    prove( Not(pq(x,z)) >> Not( p(x,y) & q(y, z)  )    ) # when pq is false, then forall y, p(x,y) & q(y,z)\n",
    "    #prove(  p(x,y) & q(y,z) >> pq(x,z) ) \n",
    "\n",
    "\n",
    "    \n",
    "def transitive(sx,sy,sz, r):\n",
    "    x = FreshConst(sx)\n",
    "    y = FreshConst(sy)\n",
    "    prove( r(x,y) & r(y,z) > r(x,z)  )\n",
    "def symmettric(r):\n",
    "    prove( r(x,y) == r(y,x) )\n",
    "def reflexive(x,y):\n",
    "    prove( r(x,x) )\n",
    "def strict(r):\n",
    "    prove(Not(r(x,x)))\n",
    "def rsub(p,q):\n",
    "    prove( p(x,y) >> q(x,y) )\n",
    "def fst(x,y): # proj(0)\n",
    "    return y == x.sort().accessor(0,0)(x)\n",
    "def snd(x,y): # proj(1)\n",
    "    return y == x.sort().accessor(0,1)(x)\n",
    "def left(x,y):\n",
    "    return y == y.sort().constructor(0)(x)\n",
    "def right(x,y):\n",
    "    return y == y.sort().constructor(1)(x)\n",
    "def inj(n):\n",
    "    return lambda x, y: return y == y.sort().constructor(n)(x)\n",
    "def proj(n):\n",
    "    return lambda x, y: return y == x.sort().accessor(0,n)(x)\n",
    "def fan(p,q):\n",
    "    a = FreshConst(y.sort().accessor(0,0).range() )\n",
    "    b = FreshConst(y.sort().accessor(0,1).range() )\n",
    "    return lambda x, y: (y == y.sort().constructor(0)(a , b )) & p(x,a)  & q(x,b)\n",
    "def split():\n",
    "\n",
    "def fmap(p):    \n",
    "def cata(p):\n",
    "    # find self recursive calls using sort.\n",
    "    ForAll([self], )\n",
    "    \n"
   ]
  },
  {
   "cell_type": "markdown",
   "metadata": {},
   "source": [
    "There is a choice of whether you want relations to be productive or receptive."
   ]
  },
  {
   "cell_type": "code",
   "execution_count": 468,
   "metadata": {},
   "outputs": [
    {
     "ename": "TypeError",
     "evalue": "can't set attributes of built-in/extension type 'bool'",
     "output_type": "error",
     "traceback": [
      "\u001b[0;31m---------------------------------------------------------------------------\u001b[0m",
      "\u001b[0;31mTypeError\u001b[0m                                 Traceback (most recent call last)",
      "\u001b[0;32m<ipython-input-468-93e6c606b2b6>\u001b[0m in \u001b[0;36m<module>\u001b[0;34m\u001b[0m\n\u001b[0;32m----> 1\u001b[0;31m \u001b[0mtype\u001b[0m\u001b[0;34m(\u001b[0m\u001b[0;32mTrue\u001b[0m\u001b[0;34m)\u001b[0m\u001b[0;34m.\u001b[0m\u001b[0mite\u001b[0m \u001b[0;34m=\u001b[0m \u001b[0;32mlambda\u001b[0m \u001b[0mc\u001b[0m\u001b[0;34m,\u001b[0m \u001b[0mt\u001b[0m\u001b[0;34m,\u001b[0m \u001b[0me\u001b[0m \u001b[0;34m:\u001b[0m \u001b[0mt\u001b[0m \u001b[0;32mif\u001b[0m \u001b[0mc\u001b[0m \u001b[0;32melse\u001b[0m \u001b[0me\u001b[0m\u001b[0;34m\u001b[0m\u001b[0;34m\u001b[0m\u001b[0m\n\u001b[0m",
      "\u001b[0;31mTypeError\u001b[0m: can't set attributes of built-in/extension type 'bool'"
     ]
    }
   ],
   "source": [
    "type(True).ite = lambda c, t, e : t if c else e"
   ]
  },
  {
   "cell_type": "code",
   "execution_count": 471,
   "metadata": {},
   "outputs": [],
   "source": [
    "class Bool(object): pass\n",
    "Bool.ite = lambda c, t, e : t if c else e"
   ]
  },
  {
   "cell_type": "code",
   "execution_count": 1,
   "metadata": {
    "scrolled": false
   },
   "outputs": [
    {
     "ename": "NameError",
     "evalue": "name 'pyFix' is not defined",
     "output_type": "error",
     "traceback": [
      "\u001b[0;31m---------------------------------------------------------------------------\u001b[0m",
      "\u001b[0;31mNameError\u001b[0m                                 Traceback (most recent call last)",
      "\u001b[0;32m<ipython-input-1-3232858b5bf6>\u001b[0m in \u001b[0;36m<module>\u001b[0;34m\u001b[0m\n\u001b[1;32m     20\u001b[0m \u001b[0;31m# wait. This isn't going to work. If2 gets called with an evaluated self\u001b[0m\u001b[0;34m\u001b[0m\u001b[0;34m\u001b[0m\u001b[0;34m\u001b[0m\u001b[0m\n\u001b[1;32m     21\u001b[0m \u001b[0;34m\u001b[0m\u001b[0m\n\u001b[0;32m---> 22\u001b[0;31m \u001b[0mfact1\u001b[0m \u001b[0;34m=\u001b[0m \u001b[0mpyFix\u001b[0m\u001b[0;34m(\u001b[0m\u001b[0mfact\u001b[0m\u001b[0;34m)\u001b[0m\u001b[0;34m\u001b[0m\u001b[0;34m\u001b[0m\u001b[0m\n\u001b[0m\u001b[1;32m     23\u001b[0m \u001b[0mfact1\u001b[0m\u001b[0;34m(\u001b[0m\u001b[0;36m2\u001b[0m\u001b[0;34m)\u001b[0m\u001b[0;34m\u001b[0m\u001b[0;34m\u001b[0m\u001b[0m\n",
      "\u001b[0;31mNameError\u001b[0m: name 'pyFix' is not defined"
     ]
    }
   ],
   "source": [
    "evalFlag = True\n",
    "def If2(c,t,e):\n",
    "    global evalFlag # or use type introspection. type(c) == bool. You can't have auto BoolReffing\n",
    "    if evalFlag:\n",
    "        if c:\n",
    "            return t\n",
    "        else: \n",
    "            return e\n",
    "        return t if c else e\n",
    "    else:\n",
    "        return If(c,t,e)\n",
    "# And factored recursion\n",
    "# If2 might have to take thunks. that super sucks.\n",
    "\n",
    "def fact(self):\n",
    "    return lambda n : If2(n == 0, 1, n * self(n - 1)) # huh. No this doesn't work\n",
    "def z3Fix(name, f):\n",
    "    pass\n",
    "#pyFix = lambda f: (lambda x: x(x))(lambda y: f(lambda *args: y(y)(*args)))\n",
    "# wait. This isn't going to work. If2 gets called with an evaluated self\n",
    "\n",
    "fact1 = pyFix(fact)\n",
    "fact1(2)"
   ]
  },
  {
   "cell_type": "code",
   "execution_count": 567,
   "metadata": {},
   "outputs": [
    {
     "name": "stdout",
     "output_type": "stream",
     "text": [
      "proved\n",
      "proved\n",
      "proved\n",
      "proved\n",
      "proved\n",
      "counterexample\n",
      "[diff2 = [else ->\n",
      "          If(is(Nil, Var(1)),\n",
      "             Nil,\n",
      "             Cons(car(Var(1))*ToReal(Var(0)),\n",
      "                  diff2(1 + Var(0), cdr(Var(1)))))],\n",
      " eval_poly = [else ->\n",
      "              If(is(Nil, Var(0)),\n",
      "                 0,\n",
      "                 car(Var(0)) +\n",
      "                 eval_poly(cdr(Var(0)), Var(1))*Var(1))]]\n"
     ]
    }
   ],
   "source": [
    "def continuous(f):\n",
    "    delta = FreshReal(prefix=\"del\")\n",
    "    eps = FreshReal(prefix=\"eps\")\n",
    "    x = FreshReal(prefix=\"x\")\n",
    "    y = FreshReal(prefix=\"y\")\n",
    "    def abseps(x,y,e):\n",
    "        return And(x - y < e, y - x < e)\n",
    "    return ForAll([delta,x], Implies(delta > 0, Exists([eps], And(eps > 0, ForAll([y], Implies(abseps(x,y,eps), abseps(f(x), f(y), delta )))))))\n",
    "\n",
    "prove(continuous(lambda x: x) )  \n",
    "prove(continuous(lambda x: x*x))   # can't do it. \n",
    "prove(continuous(lambda x: x**3))  \n",
    "prove(continuous(lambda _ : 1))\n",
    "prove(continuous(lambda x : Abs(x)))\n",
    "prove(continuous(lambda x : If(x <= RealVal(0), RealVal(0),  RealVal(1) )))\n"
   ]
  },
  {
   "cell_type": "code",
   "execution_count": null,
   "metadata": {},
   "outputs": [],
   "source": [
    "# Fix = Type.declare( \"Fix\", fix() )\n",
    "# No way. doesn't work.\n",
    "# Fixf = Type.declare(  \"Fix\", Fixf)\n",
    "# just like stream. Use positibity technology from coq?\n"
   ]
  },
  {
   "cell_type": "code",
   "execution_count": 563,
   "metadata": {},
   "outputs": [
    {
     "data": {
      "text/html": [
       "[x!23873 = 10,\n",
       " del!23871 = 3,\n",
       " diff2 = [else &rarr;\n",
       "          If(is(Nil, &#957;<sub>1</sub>),\n",
       "             Nil,\n",
       "             Cons(car(&#957;<sub>1</sub>)&middot;ToReal(&#957;<sub>0</sub>), diff2(1 + &#957;<sub>0</sub>, cdr(&#957;<sub>1</sub>))))],\n",
       " eval_poly = [else &rarr;\n",
       "              If(is(Nil, &#957;<sub>0</sub>),\n",
       "                 0,\n",
       "                 car(&#957;<sub>0</sub>) + eval_poly(cdr(&#957;<sub>0</sub>), &#957;<sub>1</sub>)&middot;&#957;<sub>1</sub>)]]"
      ],
      "text/plain": [
       "[x!23873 = 10,\n",
       " del!23871 = 3,\n",
       " diff2 = [else ->\n",
       "          If(is(Nil, Var(1)),\n",
       "             Nil,\n",
       "             Cons(car(Var(1))*ToReal(Var(0)),\n",
       "                  diff2(1 + Var(0), cdr(Var(1)))))],\n",
       " eval_poly = [else ->\n",
       "              If(is(Nil, Var(0)),\n",
       "                 0,\n",
       "                 car(Var(0)) +\n",
       "                 eval_poly(cdr(Var(0)), Var(1))*Var(1))]]"
      ]
     },
     "execution_count": 563,
     "metadata": {},
     "output_type": "execute_result"
    }
   ],
   "source": [
    "delta = FreshReal(prefix=\"del\")\n",
    "eps = FreshReal(prefix=\"eps\")\n",
    "x = FreshReal(prefix=\"x\")\n",
    "y = FreshReal(prefix=\"y\")\n",
    "f = lambda x : If(x < 10, RealVal(-1), RealVal(2))\n",
    "s = Solver()\n",
    "\n",
    "s.add(Not(Implies(delta > 0, Exists([eps], And(eps > 0, ForAll([y], Implies(Abs(x - y) < eps, Abs(f(x) - f(y)) < delta )))))))\n",
    "s.check()\n",
    "s.model()\n",
    "#Abs(f(0.1) - f(0.1 + eps)) < RealVal(0.1)"
   ]
  },
  {
   "cell_type": "code",
   "execution_count": 515,
   "metadata": {},
   "outputs": [
    {
     "data": {
      "text/html": [
       "[del!22538 = 1/2,\n",
       " x!22540 = 19/2,\n",
       " y!22541 = 10,\n",
       " diff2 = [else &rarr;\n",
       "          If(is(Nil, &#957;<sub>1</sub>),\n",
       "             Nil,\n",
       "             Cons(car(&#957;<sub>1</sub>)&middot;ToReal(&#957;<sub>0</sub>), diff2(1 + &#957;<sub>0</sub>, cdr(&#957;<sub>1</sub>))))],\n",
       " eval_poly = [else &rarr;\n",
       "              If(is(Nil, &#957;<sub>0</sub>),\n",
       "                 0,\n",
       "                 car(&#957;<sub>0</sub>) + eval_poly(cdr(&#957;<sub>0</sub>), &#957;<sub>1</sub>)&middot;&#957;<sub>1</sub>)]]"
      ],
      "text/plain": [
       "[del!22538 = 1/2,\n",
       " x!22540 = 19/2,\n",
       " y!22541 = 10,\n",
       " diff2 = [else ->\n",
       "          If(is(Nil, Var(1)),\n",
       "             Nil,\n",
       "             Cons(car(Var(1))*ToReal(Var(0)),\n",
       "                  diff2(1 + Var(0), cdr(Var(1)))))],\n",
       " eval_poly = [else ->\n",
       "              If(is(Nil, Var(0)),\n",
       "                 0,\n",
       "                 car(Var(0)) +\n",
       "                 eval_poly(cdr(Var(0)), Var(1))*Var(1))]]"
      ]
     },
     "execution_count": 515,
     "metadata": {},
     "output_type": "execute_result"
    }
   ],
   "source": [
    "delta = FreshReal(prefix=\"del\")\n",
    "eps = FreshReal(prefix=\"eps\")\n",
    "x = FreshReal(prefix=\"x\")\n",
    "y = FreshReal(prefix=\"y\")\n",
    "f = lambda x : If(x < 10, 0, 1 )\n",
    "s = Solver()\n",
    "s.add(And(Abs(x - y) < 1, delta > 0))\n",
    "s.add(Not(Abs(f(x) - f(y)) <= delta  ))\n",
    "s.check()\n",
    "s.model()"
   ]
  },
  {
   "cell_type": "code",
   "execution_count": 499,
   "metadata": {},
   "outputs": [
    {
     "data": {
      "text/html": [
       "If(x!22371 &le; 0, -x!22371, x!22371)"
      ],
      "text/plain": [
       "If(x!22371 <= 0, -x!22371, x!22371)"
      ]
     },
     "execution_count": 499,
     "metadata": {},
     "output_type": "execute_result"
    }
   ],
   "source": []
  },
  {
   "cell_type": "code",
   "execution_count": null,
   "metadata": {},
   "outputs": [],
   "source": [
    "class Proof():\n",
    "    def __init__(self, goal, ctx = []):\n",
    "        for c in ctx:\n",
    "            assert c.proven == True # or maybe hash the goal and ctx?\n",
    "        self.goal = goal\n",
    "        self.ctx = ctx\n",
    "        self.proven = False\n",
    "    def prove(self):\n",
    "        s = Solver()\n",
    "        s.add(self.ctx)\n",
    "        s.add(Not(self.goal))\n",
    "        res = s.check()\n",
    "        if res == unsat:\n",
    "            print(\"proved \", self.goal)\n",
    "            self.proven = True\n",
    "            return True\n",
    "        if res == sat:\n",
    "            self.counterexample = s.model()\n",
    "            print(\"counterexample: \", self.counterexample)\n",
    "            return False\n",
    "        else:\n",
    "            print(\"result: \", res)\n",
    "            return False\n",
    "    def axiom(self):\n",
    "        self.proven == True\n",
    "\n",
    "P = Proof            # much shorter.\n",
    "\n",
    "    "
   ]
  }
 ],
 "metadata": {
  "@webio": {
   "lastCommId": null,
   "lastKernelId": null
  },
  "kernelspec": {
   "display_name": "Python 3",
   "language": "python",
   "name": "python3"
  },
  "language_info": {
   "codemirror_mode": {
    "name": "ipython",
    "version": 3
   },
   "file_extension": ".py",
   "mimetype": "text/x-python",
   "name": "python",
   "nbconvert_exporter": "python",
   "pygments_lexer": "ipython3",
   "version": "3.7.5"
  }
 },
 "nbformat": 4,
 "nbformat_minor": 2
}
