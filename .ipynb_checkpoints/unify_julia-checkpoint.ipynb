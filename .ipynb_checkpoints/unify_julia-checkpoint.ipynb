{
 "cells": [
  {
   "cell_type": "code",
   "execution_count": 1,
   "metadata": {},
   "outputs": [
    {
     "data": {
      "text/plain": [
       "Set{Int64} with 3 elements:\n",
       "  2\n",
       "  3\n",
       "  1"
      ]
     },
     "execution_count": 1,
     "metadata": {},
     "output_type": "execute_result"
    }
   ],
   "source": [
    "Set([1, 2,3])"
   ]
  },
  {
   "cell_type": "markdown",
   "metadata": {},
   "source": [
    "PyRes\n",
    "\n",
    "unification\n",
    "\n",
    "Norvig unify\n",
    "https://github.com/aimacode/aima-python/blob/9ea91c1d3a644fdb007e8dd0870202dcd9d078b6/logic4e.py#L1307\n",
    "\n",
    "\n",
    "\n"
   ]
  },
  {
   "cell_type": "code",
   "execution_count": 8,
   "metadata": {},
   "outputs": [],
   "source": [
    "#--------------------\n",
    "abstract type Symbolic{T} end\n",
    "\n",
    "#variables\n",
    "struct Sym{T} <: Symbolic{T}\n",
    "    name::Symbol\n",
    "end\n",
    "\n",
    "struct Term{T} <: Symbolic{T}\n",
    "    f::Any\n",
    "    arguments::Ar\n",
    "end\n",
    "\n"
   ]
  },
  {
   "cell_type": "code",
   "execution_count": 1,
   "metadata": {},
   "outputs": [],
   "source": [
    "#variables\n",
    "struct Sym\n",
    "    name::Symbol\n",
    "end\n",
    "\n",
    "struct Term\n",
    "    f::Symbol\n",
    "    arguments::Array{Any}\n",
    "end"
   ]
  },
  {
   "cell_type": "code",
   "execution_count": 10,
   "metadata": {},
   "outputs": [
    {
     "data": {
      "text/plain": [
       "Sym{Int64}(:x)"
      ]
     },
     "execution_count": 10,
     "metadata": {},
     "output_type": "execute_result"
    }
   ],
   "source": [
    "Sym{Int64}(:x)"
   ]
  },
  {
   "cell_type": "code",
   "execution_count": 11,
   "metadata": {},
   "outputs": [
    {
     "data": {
      "text/plain": [
       "true"
      ]
     },
     "execution_count": 11,
     "metadata": {},
     "output_type": "execute_result"
    }
   ],
   "source": [
    "any( [true true false]  )"
   ]
  },
  {
   "cell_type": "code",
   "execution_count": 21,
   "metadata": {},
   "outputs": [
    {
     "data": {
      "text/plain": [
       "(1, 3)"
      ]
     },
     "execution_count": 21,
     "metadata": {},
     "output_type": "execute_result"
    }
   ],
   "source": [
    "size([1 2 3])"
   ]
  },
  {
   "cell_type": "code",
   "execution_count": 36,
   "metadata": {},
   "outputs": [
    {
     "data": {
      "text/plain": [
       "unify (generic function with 4 methods)"
      ]
     },
     "execution_count": 36,
     "metadata": {},
     "output_type": "execute_result"
    }
   ],
   "source": [
    "occur_check(x::Sym,y::Term,s) = any(occur_check(x, a, s) for a in y.arguments)\n",
    "\n",
    "function occur_check(x::Sym,y::Sym,s)\n",
    "    if x == y\n",
    "        return true\n",
    "    elseif haskey(s,y)\n",
    "        return occur_check(x, s[y], s)\n",
    "    else\n",
    "        return false\n",
    "    end  \n",
    "end\n",
    "\n",
    "\n",
    "function unify(x::Sym, y::Union{Sym,Term}, s) \n",
    "   if x == y\n",
    "        return true\n",
    "   elseif haskey(s,x)\n",
    "        return unify(s[x], y, s)\n",
    "   elseif haskey(s,y)\n",
    "        return unify(x, s[y], s)\n",
    "   elseif occur_check(x,y,s)\n",
    "        return false\n",
    "   else\n",
    "        s[x] = y\n",
    "        return true\n",
    "   end\n",
    "end\n",
    "\n",
    "unify(x::Term, y::Sym, s) = unify(y,x,s)\n",
    "\n",
    "function unify(x :: Term, y :: Term, s)\n",
    "    if x.f == y.f && length(x.arguments) == length(y.arguments)\n",
    "        for (x1, y1) in zip(x.arguments, y.arguments)\n",
    "            if unify(x1,y1,s) == false\n",
    "                return false\n",
    "            end\n",
    "        end\n",
    "        return true\n",
    "    else\n",
    "        return false\n",
    "    end\n",
    "end\n"
   ]
  },
  {
   "cell_type": "code",
   "execution_count": 16,
   "metadata": {},
   "outputs": [
    {
     "data": {
      "text/plain": [
       "Dict{Any,Any} with 2 entries:\n",
       "  4 => 4\n",
       "  3 => 2"
      ]
     },
     "execution_count": 16,
     "metadata": {},
     "output_type": "execute_result"
    }
   ],
   "source": [
    "s = Dict()\n",
    "s[3] = 2\n",
    "s[4] = 4\n",
    "s"
   ]
  },
  {
   "cell_type": "code",
   "execution_count": 2,
   "metadata": {},
   "outputs": [
    {
     "data": {
      "text/plain": [
       "@string2term (macro with 1 method)"
      ]
     },
     "execution_count": 2,
     "metadata": {},
     "output_type": "execute_result"
    }
   ],
   "source": [
    "#==\n",
    "string2term(x)\n",
    "    if x isa Symbol\n",
    "        name = String(x)\n",
    "        if isuppercase(name[1])\n",
    "           return :( Sym( Symbol($(name)) ) )\n",
    "        else\n",
    "           return :( Term( Symbol($(name)), []  ))\n",
    "        end\n",
    "    elseif x isa Expr\n",
    "        @assert(x.head == :call)\n",
    "        arguments = [string2term(y) for y in x.args[2:end] ]\n",
    "        return :( Term(  Symbol($(String(x.args[1]))), $(arguments)  ))\n",
    "    end\n",
    "end\n",
    "==#\n",
    "function string2term(x)\n",
    "    println(x)\n",
    "    if x isa Symbol\n",
    "        name = String(x)\n",
    "        if isuppercase(name[1])\n",
    "           return Sym( x)\n",
    "        else\n",
    "           return Term( x, []  )\n",
    "        end\n",
    "    elseif x isa Expr\n",
    "        @assert(x.head == :call)\n",
    "        arguments = [string2term(y) for y in x.args[2:end] ]\n",
    "        return Term( x.args[1], arguments )\n",
    "    end\n",
    "end\n",
    "macro string2term(x)\n",
    "    return :( $(string2term(x)) )\n",
    "end\n"
   ]
  },
  {
   "cell_type": "code",
   "execution_count": 3,
   "metadata": {},
   "outputs": [
    {
     "name": "stdout",
     "output_type": "stream",
     "text": [
      "f(x)\n",
      "x\n"
     ]
    },
    {
     "data": {
      "text/plain": [
       "Term(:f, Any[Term(:x, Any[])])"
      ]
     },
     "execution_count": 3,
     "metadata": {},
     "output_type": "execute_result"
    }
   ],
   "source": [
    "string2term(:(f(x)))"
   ]
  },
  {
   "cell_type": "code",
   "execution_count": 6,
   "metadata": {},
   "outputs": [
    {
     "name": "stdout",
     "output_type": "stream",
     "text": [
      "f(y, Yy, Z)\n",
      "y\n",
      "Yy\n",
      "Z\n"
     ]
    },
    {
     "data": {
      "text/plain": [
       "Term(:f, Any[Term(:y, Any[]), Sym(:Yy), Sym(:Z)])"
      ]
     },
     "execution_count": 6,
     "metadata": {},
     "output_type": "execute_result"
    }
   ],
   "source": [
    "@string2term(f(y,Yy,Z))"
   ]
  },
  {
   "cell_type": "code",
   "execution_count": 9,
   "metadata": {},
   "outputs": [
    {
     "name": "stdout",
     "output_type": "stream",
     "text": [
      "X\n",
      "a\n"
     ]
    },
    {
     "data": {
      "text/plain": [
       "Dict{Any,Any} with 1 entry:\n",
       "  Sym(:X) => Term(:a, Any[])"
      ]
     },
     "execution_count": 9,
     "metadata": {},
     "output_type": "execute_result"
    }
   ],
   "source": [
    "s = Dict()\n",
    "unify( @string2term(X) , @string2term(a) , s)\n",
    "s"
   ]
  },
  {
   "cell_type": "code",
   "execution_count": 15,
   "metadata": {},
   "outputs": [
    {
     "name": "stdout",
     "output_type": "stream",
     "text": [
      "X\n",
      "f(X)\n",
      "X\n"
     ]
    },
    {
     "data": {
      "text/plain": [
       "false"
      ]
     },
     "execution_count": 15,
     "metadata": {},
     "output_type": "execute_result"
    }
   ],
   "source": [
    "s = Dict()\n",
    "unify( @string2term(X) , @string2term(f(X)) , s)\n"
   ]
  },
  {
   "cell_type": "code",
   "execution_count": 17,
   "metadata": {},
   "outputs": [
    {
     "name": "stdout",
     "output_type": "stream",
     "text": [
      "X\n",
      "f(Y)\n",
      "Y\n"
     ]
    },
    {
     "data": {
      "text/plain": [
       "Dict{Any,Any} with 1 entry:\n",
       "  Sym(:X) => Term(:f, Any[Sym(:Y)])"
      ]
     },
     "execution_count": 17,
     "metadata": {},
     "output_type": "execute_result"
    }
   ],
   "source": [
    "s = Dict()\n",
    "unify( @string2term(X) , @string2term(f(Y)) , s)\n",
    "s"
   ]
  },
  {
   "cell_type": "code",
   "execution_count": 23,
   "metadata": {},
   "outputs": [
    {
     "name": "stdout",
     "output_type": "stream",
     "text": [
      "f(X, a)\n",
      "X\n",
      "a\n",
      "f(b, Y)\n",
      "b\n",
      "Y\n"
     ]
    },
    {
     "data": {
      "text/plain": [
       "Dict{Any,Any} with 2 entries:\n",
       "  Sym(:X) => Term(:b, Any[])\n",
       "  Sym(:Y) => Term(:a, Any[])"
      ]
     },
     "execution_count": 23,
     "metadata": {},
     "output_type": "execute_result"
    }
   ],
   "source": [
    "s = Dict()\n",
    "unify( @string2term(f(X,a)) , @string2term(f(b,Y)) , s)\n",
    "s"
   ]
  },
  {
   "cell_type": "code",
   "execution_count": 32,
   "metadata": {},
   "outputs": [
    {
     "name": "stdout",
     "output_type": "stream",
     "text": [
      "p(X, g(a), f(a, f(a)))\n",
      "X\n",
      "g(a)\n",
      "a\n",
      "f(a, f(a))\n",
      "a\n",
      "f(a)\n",
      "a\n",
      "p(f(a), g(Y), f(Y, Z))\n",
      "f(a)\n",
      "a\n",
      "g(Y)\n",
      "Y\n",
      "f(Y, Z)\n",
      "Y\n",
      "Z\n",
      "true"
     ]
    },
    {
     "data": {
      "text/plain": [
       "Dict{Any,Any} with 3 entries:\n",
       "  Sym(:X) => Term(:f, Any[Term(:a, Any[])])\n",
       "  Sym(:Y) => Term(:a, Any[])\n",
       "  Sym(:Z) => Term(:f, Any[Term(:a, Any[])])"
      ]
     },
     "execution_count": 32,
     "metadata": {},
     "output_type": "execute_result"
    }
   ],
   "source": [
    "s = Dict()\n",
    "print(unify( @string2term(p(X,g(a), f(a, f(a)))) , @string2term(p(f(a), g(Y), f(Y, Z))) , s))\n",
    "s"
   ]
  },
  {
   "cell_type": "code",
   "execution_count": 35,
   "metadata": {},
   "outputs": [
    {
     "name": "stdout",
     "output_type": "stream",
     "text": [
      "f(f(g(X), a), g(X))\n",
      "f(g(X), a)\n",
      "g(X)\n",
      "X\n",
      "a\n",
      "g(X)\n",
      "X\n",
      "f(f(g(X), a), g(X))\n",
      "f(g(X), a)\n",
      "g(X)\n",
      "X\n",
      "a\n",
      "g(X)\n",
      "X\n",
      "true"
     ]
    },
    {
     "data": {
      "text/plain": [
       "Dict{Any,Any} with 0 entries"
      ]
     },
     "execution_count": 35,
     "metadata": {},
     "output_type": "execute_result"
    }
   ],
   "source": [
    "s = Dict()\n",
    "print(unify( @string2term(f(f(g(X),a),g(X))) , @string2term(f(f(g(X),a),g(X))) , s))\n",
    "s"
   ]
  },
  {
   "cell_type": "code",
   "execution_count": null,
   "metadata": {},
   "outputs": [],
   "source": [
    "        self.s9 = terms.string2Term(\"f(f(g(X),a),X)\")\n",
    "        self.t9 = terms.string2Term(\"f(Y,g(Y))\")\n",
    "\n",
    "        self.s10 = terms.string2Term(\"f(f(g(X),a),g(X))\")\n",
    "        self.t10 = terms.string2Term(\"f(Y,g(Z))\")\n",
    "\n",
    "        self.s11 = terms.string2Term(\"p(X,g(a), f(a, f(a)))\")\n",
    "        self.t11 = terms.string2Term(\"p(f(a), g(Y), f(Y, Z))\")"
   ]
  },
  {
   "cell_type": "code",
   "execution_count": null,
   "metadata": {},
   "outputs": [],
   "source": []
  },
  {
   "cell_type": "code",
   "execution_count": 52,
   "metadata": {},
   "outputs": [
    {
     "data": {
      "text/plain": [
       ":x"
      ]
     },
     "execution_count": 52,
     "metadata": {},
     "output_type": "execute_result"
    }
   ],
   "source": [
    "Symbol(\"x\")"
   ]
  },
  {
   "cell_type": "code",
   "execution_count": 27,
   "metadata": {},
   "outputs": [
    {
     "data": {
      "text/plain": [
       "false"
      ]
     },
     "execution_count": 27,
     "metadata": {},
     "output_type": "execute_result"
    }
   ],
   "source": [
    "isuppercase(String(:x)[1])"
   ]
  },
  {
   "cell_type": "code",
   "execution_count": 5,
   "metadata": {},
   "outputs": [
    {
     "data": {
      "text/plain": [
       "Dict{Sym,Union{Sym, Term}} with 1 entry:\n",
       "  Sym(:x) => Sym(:y)"
      ]
     },
     "execution_count": 5,
     "metadata": {},
     "output_type": "execute_result"
    }
   ],
   "source": [
    "s = Dict{Sym, Union{Sym , Term}}()\n",
    "s[Sym(:x)] = Sym(:y)\n",
    "s"
   ]
  },
  {
   "cell_type": "code",
   "execution_count": 13,
   "metadata": {},
   "outputs": [
    {
     "ename": "ErrorException",
     "evalue": "AbstractDict collections only contain Pairs;\nEither look for e.g. A=>B instead, or use the `keys` or `values`\nfunction if you are looking for a key or value respectively.",
     "output_type": "error",
     "traceback": [
      "AbstractDict collections only contain Pairs;\nEither look for e.g. A=>B instead, or use the `keys` or `values`\nfunction if you are looking for a key or value respectively.",
      "",
      "Stacktrace:",
      " [1] error(::String) at ./error.jl:33",
      " [2] in(::Term, ::Dict{Sym,Union{Sym, Term}}) at ./abstractdict.jl:28",
      " [3] top-level scope at In[13]:1"
     ]
    }
   ],
   "source": [
    "Term(:f, []) in s"
   ]
  },
  {
   "cell_type": "code",
   "execution_count": 15,
   "metadata": {},
   "outputs": [
    {
     "data": {
      "text/plain": [
       "false"
      ]
     },
     "execution_count": 15,
     "metadata": {},
     "output_type": "execute_result"
    }
   ],
   "source": [
    "haskey(s, Term(:f, []))"
   ]
  },
  {
   "cell_type": "code",
   "execution_count": 17,
   "metadata": {},
   "outputs": [
    {
     "data": {
      "text/plain": [
       "true"
      ]
     },
     "execution_count": 17,
     "metadata": {},
     "output_type": "execute_result"
    }
   ],
   "source": [
    "haskey(s, Sym(:x))"
   ]
  },
  {
   "cell_type": "code",
   "execution_count": 8,
   "metadata": {},
   "outputs": [
    {
     "data": {
      "text/plain": [
       "Expr"
      ]
     },
     "execution_count": 8,
     "metadata": {},
     "output_type": "execute_result"
    }
   ],
   "source": [
    "typeof(:( 1 + 2 ))"
   ]
  },
  {
   "cell_type": "code",
   "execution_count": 9,
   "metadata": {},
   "outputs": [
    {
     "data": {
      "text/plain": [
       "Symbol"
      ]
     },
     "execution_count": 9,
     "metadata": {},
     "output_type": "execute_result"
    }
   ],
   "source": [
    "typeof(:x)"
   ]
  },
  {
   "cell_type": "code",
   "execution_count": 12,
   "metadata": {},
   "outputs": [
    {
     "data": {
      "text/plain": [
       ":call"
      ]
     },
     "execution_count": 12,
     "metadata": {},
     "output_type": "execute_result"
    }
   ],
   "source": [
    ":(1 + 2).head"
   ]
  },
  {
   "cell_type": "code",
   "execution_count": null,
   "metadata": {},
   "outputs": [],
   "source": [
    "struct ProofState\n",
    " processed\n",
    " unprocessed\n",
    "end\n",
    "\n",
    "\n",
    "struct Clause\n",
    "    \n",
    "end"
   ]
  },
  {
   "cell_type": "code",
   "execution_count": null,
   "metadata": {},
   "outputs": [],
   "source": [
    "computeAllFactors\n",
    "\n",
    "function computeAllResolvents(clauses , processed ) \n",
    "end\n",
    "\n",
    "function computeAllFactors"
   ]
  }
 ],
 "metadata": {
  "kernelspec": {
   "display_name": "Julia 1.4.1",
   "language": "julia",
   "name": "julia-1.4"
  },
  "language_info": {
   "file_extension": ".jl",
   "mimetype": "application/julia",
   "name": "julia",
   "version": "1.4.1"
  }
 },
 "nbformat": 4,
 "nbformat_minor": 4
}
