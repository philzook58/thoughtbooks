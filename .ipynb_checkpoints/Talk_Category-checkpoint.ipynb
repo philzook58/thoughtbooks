{
 "cells": [
  {
   "cell_type": "markdown",
   "metadata": {},
   "source": [
    "# Executable Categories, Executing Categories\n",
    "\n",
    "What does is take for something to be considered \"real\"? People are different, and that's nice. Different people have different requirements. \n",
    "\n",
    "A formal logic consisting of manipulation of syntax makes people quasy until they have understanding of the amthemtical semantics .\n",
    "A mathematical theory makes some people quesy until it can be applied in the sciences and engineering.\n",
    "Programming languages make people quesy until they can see how the features are implementable. Others are quesy until they can see a purely mathemtical model of the features\n",
    "\n",
    "Figuring out these bridges can be a nontrivial undertaking.\n",
    "Once these things are seen, going the other direction evokes a sensation of \" why are you making things so complicated, so abstract?\"\n",
    "\n",
    "The criteria I have for whether something makes sense tends to be \"Can I implement something at least evocative of this theory that I can execute as a computer program\"\n",
    "\n",
    "I personally am not particularly satsified by merely reprsenting the syntactical structure on the computer.\n",
    "\n",
    "\n",
    "There is a pump of undertsanding of concretization and abstraction.\n",
    "\n",
    "## Bicategory of Relations/Allegories\n",
    "Effective set representation >= effective relation representation\n",
    "There is finetuning (Set (a,b) vs Map a (Set b))  , but in broad strokes I'm not sure I know of any relation reprsentations that don't have set-like analogs.\n",
    "\n",
    "Abstract Interpretation. Domains and Lattices.\n",
    "Algerba of Programming book\n",
    "Closed form solutions vs open form.\n",
    "\n",
    "\n",
    "People think of blobs (~ Geomeotry) and finite sets when they think of sets casually. But there is great importance and power in noting what is \n",
    "\n",
    "\n",
    "### Linear\n",
    "  \n",
    "\n",
    "#### Polynomial\n",
    "   Circuits and Feedback\n",
    "### Polyhedral\n",
    "\n",
    "### Algebraic\n",
    "\n",
    "## Categorifying symbolic DSLS\n",
    "\n",
    "### Cvxpy & JuMP\n",
    "   petri nets. Convex relations\n",
    "### Graphviz\n",
    "### Z3py\n",
    "### Sympy\n",
    "\n",
    "## Solvers for Abstract Categories\n",
    "\n",
    "### Autmated Theorem Provers\n",
    "### Logic Programming\n",
    "\n",
    "### Knuth Bendix\n",
    "### SAT for finite categories\n",
    "\n",
    "\n",
    "## WIP\n",
    "\n",
    "### Why Julia\n",
    "\n",
    "- Julia is acceptable to the scientfic and engieering community. Haskell is not. I was entranced by Haskell, but I am an irresponsible POS\n",
    "- Catlab has critical mass\n",
    "- Julia has the ability tyo implement novel algorithms at acceptable speed.\n",
    "- Community with really interesting ideas and open to others.\n",
    "\n",
    "### Why Categories\n",
    "- A uniform system that spans \n",
    "- \n",
    "\n",
    "### Gaussians\n",
    "\n",
    "### AD lens\n",
    "Are lenses special.\n",
    "\n",
    "There is one persepctive that lenses lie on the spectrum of coroutines in which the control flow is encoded statically in the type.\n",
    "\n",
    "Triple pass lenses\n",
    "Infinite lenses\n",
    "\n",
    "Imperative staetful programming is extremely powerful\n",
    "Gotos are extremely powerful.\n",
    "Buit these things live in chaos\n",
    "The point is to cut a sublte line\n",
    "\n",
    "continuations are an overly powerful abstraction. They are functional gotos.\n",
    "\n",
    "\n",
    "Wengert Tapes\n",
    "Closures \n",
    "  \n",
    "  \n",
    "  Uniformity\n",
    "  Interval Arithmetic\n",
    "  \n",
    "  \n",
    "  \n",
    "### Algebra of Programming Solver\n",
    "\n",
    "A tasty little sampler, like you're right there in the Applebee's\n",
    "\n"
   ]
  },
  {
   "cell_type": "markdown",
   "metadata": {},
   "source": [
    "I've stripped annotations and features to give a minimal presentation, not necessarily a best one. \n",
    "I am bending Julia best practices and idioms.\n",
    "\n",
    "If you're interested in running this notebook online in Google Colab, run this to gt Julia running"
   ]
  },
  {
   "cell_type": "code",
   "execution_count": null,
   "metadata": {},
   "outputs": [],
   "source": [
    "%%shell\n",
    "set -e\n",
    "\n",
    "#---------------------------------------------------#\n",
    "JULIA_VERSION=\"1.5.2\" # any version ≥ 0.7.0\n",
    "JULIA_PACKAGES=\"IJulia BenchmarkTools Plots\"\n",
    "JULIA_PACKAGES_IF_GPU=\"CuArrays\"\n",
    "JULIA_NUM_THREADS=2\n",
    "#---------------------------------------------------#\n",
    "\n",
    "if [ -n \"$COLAB_GPU\" ] && [ -z `which julia` ]; then\n",
    "  # Install Julia\n",
    "  JULIA_VER=`cut -d '.' -f -2 <<< \"$JULIA_VERSION\"`\n",
    "  echo \"Installing Julia $JULIA_VERSION on the current Colab Runtime...\"\n",
    "  BASE_URL=\"https://julialang-s3.julialang.org/bin/linux/x64\"\n",
    "  URL=\"$BASE_URL/$JULIA_VER/julia-$JULIA_VERSION-linux-x86_64.tar.gz\"\n",
    "  wget -nv $URL -O /tmp/julia.tar.gz # -nv means \"not verbose\"\n",
    "  tar -x -f /tmp/julia.tar.gz -C /usr/local --strip-components 1\n",
    "  rm /tmp/julia.tar.gz\n",
    "\n",
    "  # Install Packages\n",
    "  if [ \"$COLAB_GPU\" = \"1\" ]; then\n",
    "      JULIA_PACKAGES=\"$JULIA_PACKAGES $JULIA_PACKAGES_IF_GPU\"\n",
    "  fi\n",
    "  for PKG in `echo $JULIA_PACKAGES`; do\n",
    "    echo \"Installing Julia package $PKG...\"\n",
    "    julia -e 'using Pkg; pkg\"add '$PKG'; precompile;\"'\n",
    "  done\n",
    "\n",
    "  # Install kernel and rename it to \"julia\"\n",
    "  echo \"Installing IJulia kernel...\"\n",
    "  julia -e 'using IJulia; IJulia.installkernel(\"julia\", env=Dict(\n",
    "      \"JULIA_NUM_THREADS\"=>\"'\"$JULIA_NUM_THREADS\"'\"))'\n",
    "  KERNEL_DIR=`julia -e \"using IJulia; print(IJulia.kerneldir())\"`\n",
    "  KERNEL_NAME=`ls -d \"$KERNEL_DIR\"/julia*`\n",
    "  mv -f $KERNEL_NAME \"$KERNEL_DIR\"/julia  \n",
    "\n",
    "  echo ''\n",
    "  echo \"Success! Please reload this page and jump to the next section.\"\n",
    "fi"
   ]
  },
  {
   "cell_type": "markdown",
   "metadata": {},
   "source": [
    "# Computer Functions as a category\n",
    "\n",
    "- The usual one. Morphisms are functions, objects are types\n",
    "\n",
    "\n",
    "Base strcutural combinators +\n",
    " a piles of domain specific atoms"
   ]
  },
  {
   "cell_type": "code",
   "execution_count": 29,
   "metadata": {},
   "outputs": [
    {
     "ename": "LoadError",
     "evalue": "invalid redefinition of constant id",
     "output_type": "error",
     "traceback": [
      "invalid redefinition of constant id",
      "",
      "Stacktrace:",
      " [1] top-level scope at In[29]:1",
      " [2] include_string(::Function, ::Module, ::String, ::String) at ./loading.jl:1091"
     ]
    }
   ],
   "source": [
    "module Func1\n",
    "\n",
    "id = x -> x\n",
    "compose(f,g) = x -> g(f(x))\n",
    "otimes(f,g) = ((x,y),) -> (f(x),g(y))\n",
    "mcopy = x -> (x,x)\n",
    "fst = ((x,y),) -> x\n",
    "snd = ((x,y),) -> y\n",
    "pair(f,g) = x -> (f(x), g(x))\n",
    "assoc = (((x,y),z),) -> (x, (y,z))\n",
    "braid = ((x,y),) -> (y,x)\n",
    "\n",
    "add = ((x,y),) -> x + y # xy -> +(xy...)\n",
    "mul = ((x,y),) -> x * y # xy -> *(xy...)\n",
    "#spread(f) = (x,) -> f(x...)\n",
    "square = compose(mcopy, mul)\n",
    "\n",
    "[\n",
    "    compose(fst,snd)(((:a, :c), :b)),\n",
    "    compose(fst, id)((:a, :b)),\n",
    "    id(:a),\n",
    "    otimes(id,id)((:a, :b))\n",
    "]\n",
    "end"
   ]
  },
  {
   "cell_type": "code",
   "execution_count": 27,
   "metadata": {},
   "outputs": [
    {
     "data": {
      "text/plain": [
       "4-element Array{Any,1}:\n",
       " :c\n",
       " :a\n",
       " :a\n",
       " (:a, :b)"
      ]
     },
     "execution_count": 27,
     "metadata": {},
     "output_type": "execute_result"
    }
   ],
   "source": [
    "[\n",
    "    compose(fst,snd)(((:a, :c), :b)),\n",
    "    compose(fst, id)((:a, :b)),\n",
    "    id(:a),\n",
    "    otimes(id,id)((:a, :b))\n",
    "]"
   ]
  },
  {
   "cell_type": "markdown",
   "metadata": {},
   "source": [
    "### Flat representation\n",
    "\n",
    "- There are always choices in representation\n",
    "- On the nose associativity via storing in arrays\n",
    "- caonical form is nice, less assoc jiggling\n",
    "- Flatten pointer indirections\n",
    "- We run into problems where the data we need just isn't there\n",
    "\n",
    "Using tuples, we represented the monoidal product, however it can be useful to flatten this structure, making the product associative on the nose rather thanm just an isomorphism. This gives useful canonical forms and flattens an unnecessary pointer indirection.\n",
    "\n",
    "It is not all rosy though."
   ]
  },
  {
   "cell_type": "code",
   "execution_count": null,
   "metadata": {},
   "outputs": [],
   "source": [
    "id = x -> x\n",
    "compose(f,g) = x -> g(f(x))\n",
    "fst = () # ???\n",
    "otimes(f,g) = () #  ???\n"
   ]
  },
  {
   "cell_type": "markdown",
   "metadata": {},
   "source": [
    "Missing information:\n",
    "\n",
    "choice 1. user annotate everything with types.   \n",
    "pair(a,b,c,f,g)\n",
    "\n",
    "choice 2. wrapper types.\n",
    "struct FunMorph\n",
    "   dom\n",
    "   cod\n",
    "   fun\n",
    "end\n",
    "\n",
    "choice 3 type level shenanigans\n",
    "4. others"
   ]
  },
  {
   "cell_type": "code",
   "execution_count": null,
   "metadata": {},
   "outputs": [],
   "source": [
    "struct Func\n",
    "   fun\n",
    "   dom \n",
    "   cod\n",
    "end\n",
    "\n",
    "id(m) = Func(x -> x, m, m)\n",
    "compose(f,g) = Func(x -> g(f(x)), f.dom, g.cod)\n",
    "\n",
    "fst(m,n) = Func(x -> x[1:m], m + n, m)\n",
    "snd(m,n) = Func(x -> x[end-n:end], m + n , n\n",
    "\n",
    "otimes(f,g) = Func(  )"
   ]
  },
  {
   "cell_type": "markdown",
   "metadata": {},
   "source": [
    "### Comment - \n",
    "  multiple dispatch\n",
    "  struct FuncOb\n",
    "    m::Int64\n",
    "  end\n",
    "  \n",
    "  Catlab\n"
   ]
  },
  {
   "cell_type": "code",
   "execution_count": 11,
   "metadata": {},
   "outputs": [
    {
     "data": {
      "text/plain": [
       "#47 (generic function with 1 method)"
      ]
     },
     "execution_count": 11,
     "metadata": {},
     "output_type": "execute_result"
    }
   ],
   "source": [
    "# junk\n",
    "id = (x...) -> x\n",
    "compose(f,g) = (x...) -> begin\n",
    "       y = f(x...)\n",
    "       y isa Tuple ? g(y...) : g(y)\n",
    "end\n",
    "      # g(f(x...)...)\n",
    "otimes(f,g) = (x,y) -> (f(x),g(y))\n",
    "mcopy = x -> (x,x)\n",
    "fst = (x,y) -> x\n",
    "snd = (x,y) -> y\n",
    "pair(f,g) = x -> (f(x), g(x))\n",
    "assoc = ((x,y),z) -> (x, (y,z))\n",
    "\n",
    "compose(fst,snd)(((:a,), (:c,)), (:b,))\n",
    "\n",
    "compose(fst, id)((:a,), (:b,))\n",
    "#id(:a)"
   ]
  },
  {
   "cell_type": "markdown",
   "metadata": {},
   "source": [
    "# Matrices as a category. FinVect\n",
    "\n",
    "- Linear Operators are the morphism represented by matrices\n",
    "- Objects are vector spaces represented by an integer of dimensions.\n",
    "\n",
    "- 2 common choices for a monoidal product\n",
    "  - Direct product\n",
    "  - Direct Sum\n",
    "  \n",
    "  \n",
    "There is a well known category of matrices that uses the Kronecker product as it's monoidal product. \n",
    "I am going to use an alternative monoidal product though, the direct sum.\n",
    "\n"
   ]
  },
  {
   "cell_type": "code",
   "execution_count": null,
   "metadata": {},
   "outputs": [],
   "source": [
    "using LinearAlgebra\n",
    "eye(n) = Matrix{Float64}(I,n,n)"
   ]
  },
  {
   "cell_type": "code",
   "execution_count": 20,
   "metadata": {},
   "outputs": [
    {
     "data": {
      "text/plain": [
       "sum (generic function with 1 method)"
      ]
     },
     "execution_count": 20,
     "metadata": {},
     "output_type": "execute_result"
    }
   ],
   "source": [
    "\n",
    "\n",
    "id(n) = eye(n) \n",
    "compose(f,g) = g * f\n",
    "function otimes(f,g) \n",
    "    (n,m) = size(f)\n",
    "    (p,q) = size(g)\n",
    "    [     f      zeros(n,q) ;\n",
    "      zeros(p,m)     g      ]\n",
    "end\n",
    "mcopy(n) = [ eye(n) ;\n",
    "             eye(n) ] \n",
    "fst(n,m) = [   eye(n)   zeros(n, m)] \n",
    "snd(n,m) = [zeros(m, n)    eye(m)  ] \n",
    "             \n",
    "pair(f,g) = [ f ;\n",
    "              g ]\n",
    "\n",
    "sum(n) = tr(mcopy(n))"
   ]
  },
  {
   "cell_type": "code",
   "execution_count": 17,
   "metadata": {},
   "outputs": [
    {
     "data": {
      "text/plain": [
       "2×5 Array{Float64,2}:\n",
       " 1.0  0.0  0.0  0.0  0.0\n",
       " 0.0  1.0  0.0  0.0  0.0"
      ]
     },
     "execution_count": 17,
     "metadata": {},
     "output_type": "execute_result"
    }
   ],
   "source": [
    "fst(2,3)"
   ]
  },
  {
   "cell_type": "code",
   "execution_count": 13,
   "metadata": {},
   "outputs": [
    {
     "data": {
      "text/plain": [
       "2×2 Array{Float64,2}:\n",
       " 1.0  0.0\n",
       " 0.0  1.0"
      ]
     },
     "metadata": {},
     "output_type": "display_data"
    },
    {
     "data": {
      "text/plain": [
       "2×2 Array{Float64,2}:\n",
       " 1.0  0.0\n",
       " 0.0  1.0"
      ]
     },
     "metadata": {},
     "output_type": "display_data"
    },
    {
     "data": {
      "text/plain": [
       "5×5 Array{Float64,2}:\n",
       " 1.0  0.0  0.0  0.0  0.0\n",
       " 0.0  1.0  0.0  0.0  0.0\n",
       " 0.0  0.0  1.0  0.0  0.0\n",
       " 0.0  0.0  0.0  1.0  0.0\n",
       " 0.0  0.0  0.0  0.0  1.0"
      ]
     },
     "metadata": {},
     "output_type": "display_data"
    },
    {
     "name": "stdout",
     "output_type": "stream",
     "text": [
      "compose(id(2), id(2)) = [1.0 0.0; 0.0 1.0]\n",
      "id(2) = [1.0 0.0; 0.0 1.0]\n",
      "otimes(id(2), id(3)) = [1.0 0.0 0.0 0.0 0.0; 0.0 1.0 0.0 0.0 0.0; 0.0 0.0 1.0 0.0 0.0; 0.0 0.0 0.0 1.0 0.0; 0.0 0.0 0.0 0.0 1.0]\n"
     ]
    }
   ],
   "source": [
    "examples = :([\n",
    "    compose(id(2),id(2)),\n",
    "    #compose(fst, id),\n",
    "    id(2),\n",
    "    otimes(id(2),id(3))\n",
    "        ] )\n",
    "for example in examples.args\n",
    "    println(\"$example = $(eval(example))\")\n",
    "    display(eval(example))\n",
    "end"
   ]
  },
  {
   "cell_type": "markdown",
   "metadata": {},
   "source": [
    "## A functional representation for linear maps as a category\n",
    "Linear functions are a subcategory of the category of functions, i.e. only those who's objects are vector spaces and whose maps are linear.\n",
    "\n",
    "While the most elementary way to implement a linear operator is the have a dense 2 dimensional array that is the matrix of that operation, there are other options. Perhaps our operator is sparse, in which case we may want to store a sparse matrix. Another possibility is that our operation is simple to specify in some algorithmic sense, for example the Discrete Fourier Transform can be described as a matrix, but really it is most efficient to describe it as a Fast Fourier Transform subroutine to be called. So we can describe This functional representation is not weird, it is in scipy, which is as mainstream as it gets in scientific computing \n",
    "\n",
    "https://docs.scipy.org/doc/scipy/reference/generated/scipy.sparse.linalg.LinearOperator.html#scipy.sparse.linalg.LinearOperator\n",
    "https://github.com/JuliaSmoothOptimizers/LinearOperators.jl"
   ]
  },
  {
   "cell_type": "code",
   "execution_count": null,
   "metadata": {},
   "outputs": [],
   "source": []
  },
  {
   "cell_type": "markdown",
   "metadata": {},
   "source": [
    "# Automatic differentiation as a category\n",
    "- Bundle together nonlinear functions with their Jacobian matrices\n",
    "\n",
    "\n",
    "- Association, Matrix product problems and \"Hughes Lists\"\n",
    "\n",
    "\n",
    "\n",
    "\n",
    "## Comments\n",
    "# Dual numbers\n",
    "\n",
    "# Cotangent spaces\n",
    "### How exotic is this\n",
    "It's not. The point of putting the backwards pass function where it is to to close over the input variable. If you closure convert the lens, it takes this form\n",
    "x -> (e,y)\n",
    "(e,dy) -> dx\n",
    "This is the exitensital form of a lens\n",
    "Exsitetnail types have something to do with object oriented programming. backwards : e -> dy -> dx\n",
    "\n",
    "If you defunctionalize instead you get a data structure. This is a Wengert tape data structure.\n",
    "\n",
    "### Lenses and continuations\n",
    "From this perspective, Lenses live on a spectrum of control flow techniques.\n",
    "\n",
    "\n",
    "(x -> (y, dy -> dx))\n",
    "~  (x -> (y, forall s. (dx -> s) -> (dy -> s)) \n",
    "~> forall s. (x , dx -> s) -> (y , dy -> s)\n",
    "\n",
    "What this is evocative of is that reverse mode AD is a map pulling back linear functionals (dx -> R). Analog of dual number formulation (x,dx) of forward mode AD.\n",
    "\n",
    "https://twitter.com/SandMouth/status/1270409619693875201?s=20\n",
    "\n",
    "## References\n",
    "http://conal.net/papers/essence-of-ad/\n",
    "https://www.philipzucker.com/reverse-mode-differentiation-is-kind-of-like-a-lens-ii/\n",
    "https://t.co/4tjLhB4b4P?amp=1"
   ]
  },
  {
   "cell_type": "code",
   "execution_count": null,
   "metadata": {},
   "outputs": [],
   "source": [
    "id = x -> (x, dx -> dx)\n",
    "fst(a,b) = x -> (x[1:A.m] , dx -> [dx ; zeros(B.m)  ])\n",
    "snd(a,b) = x -> (x[end-B.m:end] , dx -> [zeros(B.m) ; dx] )\n",
    "function pair(f::Lens,g::Lens)\n",
    "    @assert f.dom == g.dom\n",
    "    x -> begin\n",
    "    (y, df) = f(x)\n",
    "    (z, dg) = g(x)\n",
    "    (vcat(y,z), dq -> df(dq[1:f.cod]) + dg(dq[end-g.cod:end])   )\n",
    "\n",
    "                        ( x[1:f.dom]  )\n",
    "    end\n",
    "end\n",
    "compose(f::Lens, g::Lens) = \n",
    "    x -> begin\n",
    "         (y, df) = f.it(x)\n",
    "         (z, fg) = g.it(y)\n",
    "         (z, df ∘ dg)\n",
    "         end\n",
    "\n",
    "mcopy(A::LensDomain) = x -> (vcat(x,x), dxx -> dxx[1:A.m] + dxx[A.m+1:end] )\n",
    "otimes(f,g) = xy -> begin\n",
    "                (c, df) = f(xy[1:f.dom.m])\n",
    "                (d, dg) = g(xy[end-g.dom.m:end  ])\n",
    "                dfg = dcd -> begin \n",
    "                             dx = df(dxd[]) \n",
    "                             dy = dg(dcd[])\n",
    "                             vcat(dx,dy)\n",
    "                             end\n",
    "                ([c ; d] , dfg )\n",
    "end\n",
    "\n",
    "# the lens domain isn't really necessary. I guess it might changed the stage? Dimension is now known before x values rather than at the same time. That's nice\n",
    "mul(n) = x -> (x[1:A.m] .* x[A.m+1:end] , dx -> vcat( dx .* x[A.m+1:end], dx .* x[1:A.m]  ) )\n",
    "add(n) = x -> (x[1:A.m] .+ x[A.m+1:end] , dx -> vcat( dx , dx ) ) # sum and dup are dual.\n",
    "\n",
    "\n",
    "#sum(  )\n",
    "#fold\n",
    "\n",
    "\n",
    "\n",
    "sin(A::LensDomain) = x -> (sin.(x) , dx -> cos.(x) .* dx)\n",
    "cos(A::LensDomain) = x -> (cos.(x) , dx -> -sin.(x) .* dx)\n",
    "pow(A::LensDomain, n) = x -> (x ^ n, dx -> n * dx .* x ^ (n-1) )"
   ]
  },
  {
   "cell_type": "markdown",
   "metadata": {},
   "source": [
    "# Finite Relations\n",
    "Objects = finite sets\n",
    "Morphisms = Relationships between these sets\n"
   ]
  },
  {
   "cell_type": "code",
   "execution_count": 23,
   "metadata": {},
   "outputs": [
    {
     "ename": "LoadError",
     "evalue": "syntax: unexpected \"]\"",
     "output_type": "error",
     "traceback": [
      "syntax: unexpected \"]\"",
      "",
      "Stacktrace:",
      " [1] top-level scope at In[23]:3",
      " [2] include_string(::Function, ::Module, ::String, ::String) at ./loading.jl:1091"
     ]
    }
   ],
   "source": [
    "id(m) = [(x,x) for x in m ]\n",
    "compose(f,g) = [(a,c) for (a,b1) in f for (b2,c) in g if b1 == b2 ]\n",
    "fst(a,b) = [   for x in a for y in b ] \n",
    "\n",
    "\n",
    "converse(f) = [(y,x) for (x,y) in f ]\n",
    "x ⊆ y = all( [(a,b) ∈ y for (a,b) in x] )\n",
    "meet\n",
    "join\n"
   ]
  },
  {
   "cell_type": "code",
   "execution_count": 22,
   "metadata": {},
   "outputs": [
    {
     "data": {
      "text/html": [
       "# 4 methods for generic function <b>issubset</b>:<ul><li> issubset(a::<b>BitSet</b>, b::<b>BitSet</b>) in Base at <a href=\"https://github.com/JuliaLang/julia/tree/96786e22ccabfdafd073122abb1fb69cea921e17/base/bitset.jl#L419\" target=\"_blank\">bitset.jl:419</a></li> <li> issubset(r::<b>Base.OneTo</b>, s::<b>Base.OneTo</b>) in Base at <a href=\"https://github.com/JuliaLang/julia/tree/96786e22ccabfdafd073122abb1fb69cea921e17/base/range.jl#L897\" target=\"_blank\">range.jl:897</a></li> <li> issubset(r::<b>AbstractUnitRange{var\"#s91\"} where var\"#s91\"<:Integer</b>, s::<b>AbstractUnitRange{var\"#s90\"} where var\"#s90\"<:Integer</b>) in Base at <a href=\"https://github.com/JuliaLang/julia/tree/96786e22ccabfdafd073122abb1fb69cea921e17/base/range.jl#L899\" target=\"_blank\">range.jl:899</a></li> <li> issubset(l, r) in Base at <a href=\"https://github.com/JuliaLang/julia/tree/96786e22ccabfdafd073122abb1fb69cea921e17/base/abstractset.jl#L265\" target=\"_blank\">abstractset.jl:265</a></li> </ul>"
      ],
      "text/plain": [
       "# 4 methods for generic function \"issubset\":\n",
       "[1] issubset(a::BitSet, b::BitSet) in Base at bitset.jl:419\n",
       "[2] issubset(r::Base.OneTo, s::Base.OneTo) in Base at range.jl:897\n",
       "[3] issubset(r::AbstractUnitRange{var\"#s91\"} where var\"#s91\"<:Integer, s::AbstractUnitRange{var\"#s90\"} where var\"#s90\"<:Integer) in Base at range.jl:899\n",
       "[4] issubset(l, r) in Base at abstractset.jl:265"
      ]
     },
     "execution_count": 22,
     "metadata": {},
     "output_type": "execute_result"
    }
   ],
   "source": [
    "methods(⊆)"
   ]
  },
  {
   "cell_type": "markdown",
   "metadata": {},
   "source": [
    "## Other representations\n",
    "Sets of tuples\n",
    "BDDS\n",
    "iterator functions\n",
    "\n",
    "DataFrames\n",
    "\n",
    "\n",
    "This is a sprase array representation of a boolean valued matrix.\n",
    "You can consider a dense matrix, and it is conceptually convenient to do so. Perhaps computationally convenenit\n",
    "interval pacing and adjunctions\n",
    "\n",
    "\n",
    "https://www.cambridge.org/core/books/relational-mathematics/8CB9CE4F196319222E8991D909AA2F87 - Relational Mathematics - Gunther Schmidt\n",
    "Pixel Arrays - http://math.mit.edu/~dspivak/informatics/PixelArrays--SpivakDobsonKumari.pdf \n",
    "https://www.philipzucker.com/a-short-skinny-on-relations-towards-the-algebra-of-programming/\n",
    "http://www4.di.uminho.pt/~jno/ps/pdbc.pdf\n",
    "https://themattchan.com/docs/algprog.pdf\n",
    "http://www.philipzucker.com/computational-category-theory-in-python-i-dictionaries-for-finset/ - A similar approach for FinSet"
   ]
  },
  {
   "cell_type": "markdown",
   "metadata": {},
   "source": [
    "# Linear Relations\n",
    "\n",
    "subclasses of all representations\n",
    "Linear subspace dually described by generators and relations. Nullspace vs range characterization\n",
    "\n",
    "Lattices\n",
    "- Intervals\n",
    "- Octagons\n",
    "- Polyhedra\n",
    "- Convex Sets\n",
    "- Linear Subspaces\n",
    "\n",
    "\n",
    "Why?\n",
    "Control Systems\n",
    "Open Linear Equations\n",
    "Circuits - Network\n",
    "A pile of linear equations more directly maps into this than the linear operator concept.\n"
   ]
  },
  {
   "cell_type": "code",
   "execution_count": null,
   "metadata": {},
   "outputs": [],
   "source": [
    "id(n) = [eye(n) -eye(n)]\n",
    "\n",
    "struct LinRel\n",
    "    left\n",
    "    right\n",
    "end\n",
    "\n",
    "\n",
    "id(n) = LinRel(eye(n), -eye(n))\n",
    "\n",
    "\n",
    "function compose(x::LinRel,y::LinRel) \n",
    "    # extract sizes of different matrices\n",
    "    (m, n) = size(x.left)\n",
    "    (n1, x) = size(x.output)\n",
    "    @assert n1 == n\n",
    "    ny, yi = size(y.input)\n",
    "    ny1, yo = size(y.output)\n",
    "    @assert ny1 == ny\n",
    "    \n",
    "    # combine constraints\n",
    "    A = [ x.input      x.output zeros(nx,yo) ;\n",
    "          zeros(ny,xi) y.input  y.output     ]\n",
    "    # convert to range representation\n",
    "    B = nullspace(A)\n",
    "    # project in range representation\n",
    "    projB = [B[1:xi       ,:] ;\n",
    "             B[xi+yi+1:end,:] ]\n",
    "    # return to nullspace representation\n",
    "    C = Base.transpose(nullspace(Base.transpose(projB)))\n",
    "    return LinRel( C[:, 1:xi] ,C[:,xi+1:end] )\n",
    "end\n",
    "\n",
    "# basically the direct sum. The monoidal product of linear relations\n",
    "function otimes( x::LinRel{T}, y::LinRel{T}) where {T} \n",
    "    nx, xi = size(x.input)\n",
    "    nx1, xo = size(x.output)\n",
    "    @assert nx1 == nx\n",
    "    ny, yi = size(y.input)\n",
    "    ny1, yo = size(y.output)\n",
    "    @assert ny1 == ny\n",
    "    return LinRel(    [ x.input                zeros(nx,yi);\n",
    "                       zeros(ny,xi)           y.input               ],\n",
    "                      [x.output               zeros(nx,yo);\n",
    "                       zeros(ny,xo)     y.output               ])\n",
    "    \n",
    "end\n"
   ]
  },
  {
   "cell_type": "code",
   "execution_count": null,
   "metadata": {},
   "outputs": [],
   "source": [
    "# generic linear relations\n",
    "\n",
    "# Objects are the dimensionality of the vector space\n",
    "struct LinRelOb{T}\n",
    "    m::Int\n",
    "end\n",
    "\n",
    "# Linear relations represented \n",
    "struct LinRel{T}\n",
    "  input::AbstractArray{T,2}\n",
    "  output::AbstractArray{T,2}\n",
    "end\n",
    "\n",
    "\n",
    "\n",
    "dom(x::LinRel{T}) where T = LinRelOb{T}(size(x.input)[2])\n",
    "codom(x::LinRel{T}) where T = LinRelOb{T}(size(x.output)[2])\n",
    "id(X::LinRelOb{T}) where T = LinRel{T}(Matrix{T}(I, X.m, X.m), -Matrix{T}(I, X.m, X.m))\n",
    "\n",
    "\n",
    "plus(X::LinRelOb{T}) where {T} = LinRel{T}( [Matrix{T}(I, X.m, X.m) Matrix{T}(I, X.m, X.m)] , - Matrix{T}(I, X.m, X.m) )\n",
    "\n",
    "\n",
    "mcopy(X::LinRelOb{T}) where {T} = LinRel{T}( [Matrix{T}(I, X.m, X.m) ; Matrix{T}(I, X.m, X.m)] , -Matrix{T}(I, 2*X.m, 2*X.m) ) # copy input\n",
    "delete(A::LinRelOb) = LinRel( zeros(0,A.m) , zeros(0,0) )   \n",
    "create(A::LinRelOb) = LinRel( zeros(0,0) , zeros(0,A.m) )\n",
    "dagger(x::LinRel) = LinRel(x.output, x.input)\n",
    "\n",
    "dunit(A::LinRelOb) = compose(create(A), mcopy(A))\n",
    "dcounit(A::LinRelOb) = compose(mmerge(A), delete(A))\n",
    "\n",
    "\n",
    "#scale(M) = DynMorph( mat1(M),mat1(-1))\n",
    "#diff =  scale(i*s) #DynMorph(mat1(i*s) , mat1(-1)) # could also lift to m dim like idd # scale(i*s)\n",
    "#integ = dagger(diff)\n",
    "\n",
    "\n",
    "function compose(x::LinRel,y::LinRel) \n",
    "    nx, xi = size(x.input)\n",
    "    nx1, xo = size(x.output)\n",
    "    @assert nx1 == nx\n",
    "    ny, yi = size(y.input)\n",
    "    ny1, yo = size(y.output)\n",
    "    @assert ny1 == ny\n",
    "    A = [ x.input      x.output zeros(nx,yo) ;\n",
    "          zeros(ny,xi) y.input  y.output     ]\n",
    "    B = nullspace(A)\n",
    "    projB = [B[1:xi       ,:] ;\n",
    "             B[xi+yi+1:end,:] ]\n",
    "    C = Base.transpose(nullspace(Base.transpose(projB)))\n",
    "    return LinRel( C[:, 1:xi] ,C[:,xi+1:end] )\n",
    "end\n",
    "\n",
    "# basically the direct sum. The monoidal product of linear relations\n",
    "function otimes( x::LinRel{T}, y::LinRel{T}) where {T} \n",
    "    nx, xi = size(x.input)\n",
    "    nx1, xo = size(x.output)\n",
    "    @assert nx1 == nx\n",
    "    ny, yi = size(y.input)\n",
    "    ny1, yo = size(y.output)\n",
    "    @assert ny1 == ny\n",
    "    return LinRel(    [ x.input                zeros(nx,yi);\n",
    "                       zeros(ny,xi)           y.input               ],\n",
    "                      [x.output               zeros(nx,yo);\n",
    "                       zeros(ny,xo)     y.output               ])\n",
    "    \n",
    "end"
   ]
  },
  {
   "cell_type": "markdown",
   "metadata": {},
   "source": [
    "Lay out all at once vs incremnetal - quantifier elimination"
   ]
  },
  {
   "cell_type": "markdown",
   "metadata": {},
   "source": [
    "## Point Freeing Pointful DSLs\n",
    "\n",
    "# Optimization Problems\n",
    "\n",
    "optimization problems are interesting. This is one formulation that is very natural.\n",
    "Convex operators.\n",
    "Fermat's principle, principle of least action\n",
    "\n",
    "min_y f(x,y) + g(y,z)\n",
    "\n",
    "Steepest descent\n",
    "idea : Relations (feasible set) + additive objective functions\n",
    "\n",
    "http://www.philipzucker.com/a-sketch-of-categorical-relation-algebra-combinators-in-z3py/\n",
    "http://www.philipzucker.com/categorical-combinators-for-convex-optimization-and-model-predictive-control-using-cvxpy/"
   ]
  },
  {
   "cell_type": "markdown",
   "metadata": {},
   "source": [
    "# Graphs\n",
    "Maybe. Basically the graphviz thing\n",
    "\n",
    "http://www.philipzucker.com/categorical-combinators-for-graphviz-in-python/"
   ]
  },
  {
   "cell_type": "markdown",
   "metadata": {},
   "source": [
    "# Bits and Bobbles\n",
    "\n",
    "Polynomial linear relations\n",
    "Theorem proving\n",
    "Polyhedral relations\n",
    "Lens for real numbers\n",
    "iLQR\n",
    "probabilistic programming\n",
    "Quadratic Optimization and gaussian integrals + delta functions\n"
   ]
  }
 ],
 "metadata": {
  "kernelspec": {
   "display_name": "Julia 1.5.0",
   "language": "julia",
   "name": "julia-1.5"
  },
  "language_info": {
   "file_extension": ".jl",
   "mimetype": "application/julia",
   "name": "julia",
   "version": "1.5.0"
  }
 },
 "nbformat": 4,
 "nbformat_minor": 4
}
