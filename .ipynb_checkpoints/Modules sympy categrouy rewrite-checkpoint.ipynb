{
 "cells": [
  {
   "cell_type": "code",
   "execution_count": 1,
   "metadata": {},
   "outputs": [],
   "source": [
    "import sympy as sy"
   ]
  },
  {
   "cell_type": "code",
   "execution_count": 26,
   "metadata": {},
   "outputs": [
    {
     "data": {
      "text/plain": [
       "Matrix([\n",
       "[-2,  1,  0,  0,  0],\n",
       "[ 1, -2,  1,  0,  0],\n",
       "[ 0,  1, -2,  1,  0],\n",
       "[ 0,  0,  1, -2,  1],\n",
       "[ 0,  0,  0,  1, -2]])"
      ]
     },
     "execution_count": 26,
     "metadata": {},
     "output_type": "execute_result"
    }
   ],
   "source": [
    "sy.Matrix([[2,4],[2,4]]).nullspace()\n",
    "sy.eye(3)[8]\n",
    "sy.ones(3,2)\n",
    "sy.ones(3)\n",
    "sy.ones(2,1).nullspace()\n",
    "sy.ones(2,1).columnspace()\n",
    "def k(i,j):\n",
    "    if i == j:\n",
    "        return -2\n",
    "    elif abs(i-j) == 1:\n",
    "        return 1\n",
    "    else:\n",
    "        return 0\n",
    "sy.Matrix(5,5, k)"
   ]
  },
  {
   "cell_type": "code",
   "execution_count": 19,
   "metadata": {},
   "outputs": [
    {
     "data": {
      "text/plain": [
       "s"
      ]
     },
     "execution_count": 19,
     "metadata": {},
     "output_type": "execute_result"
    }
   ],
   "source": [
    "s = sy.var(\"s\")\n",
    "s"
   ]
  },
  {
   "cell_type": "code",
   "execution_count": 36,
   "metadata": {},
   "outputs": [
    {
     "data": {
      "text/plain": [
       "(Matrix([\n",
       " [1, 0],\n",
       " [0, 1]]), Matrix([\n",
       " [-s + 2, 0],\n",
       " [     2, 1]]), Matrix([\n",
       " [-s + 2,      0],\n",
       " [     0, -s + 2]]), Matrix([\n",
       " [-s + 2,    4],\n",
       " [     0, -4*s]]))"
      ]
     },
     "execution_count": 36,
     "metadata": {},
     "output_type": "execute_result"
    }
   ],
   "source": [
    "sy.Matrix([[2-s,4],[2,4]]).columnspace()\n",
    "sy.Matrix([[2-s,4],[2,4]]).echelon_form()\n",
    "#sy.Matrix([[2-s,4],[2,4]]).QRdecomposition()\n",
    "sy.Matrix([[2-s,4],[2,4]]).LUdecomposition()\n",
    "sy.Matrix([[2-s,4],[2,4]]).LUdecompositionFF()"
   ]
  },
  {
   "cell_type": "code",
   "execution_count": null,
   "metadata": {},
   "outputs": [],
   "source": [
    "sy.Matrix([[2-s,4],[2,4]])."
   ]
  },
  {
   "cell_type": "code",
   "execution_count": 29,
   "metadata": {},
   "outputs": [
    {
     "data": {
      "text/plain": [
       "30"
      ]
     },
     "execution_count": 29,
     "metadata": {},
     "output_type": "execute_result"
    }
   ],
   "source": [
    "(s * 10).subs(s, 3)\n",
    "(s * 10).subs({s : 3})"
   ]
  },
  {
   "cell_type": "code",
   "execution_count": 42,
   "metadata": {},
   "outputs": [
    {
     "data": {
      "text/plain": [
       "100"
      ]
     },
     "execution_count": 42,
     "metadata": {},
     "output_type": "execute_result"
    }
   ],
   "source": [
    "(s * 10).replace(s, 10)\n",
    "(s * 10).xreplace({s: 10})"
   ]
  },
  {
   "cell_type": "code",
   "execution_count": 44,
   "metadata": {},
   "outputs": [],
   "source": [
    "class Id(sy.Basic):\n",
    "    pass"
   ]
  },
  {
   "cell_type": "code",
   "execution_count": 49,
   "metadata": {},
   "outputs": [
    {
     "data": {
      "text/plain": [
       "s*Id()"
      ]
     },
     "execution_count": 49,
     "metadata": {},
     "output_type": "execute_result"
    }
   ],
   "source": [
    "s*Id()"
   ]
  },
  {
   "cell_type": "code",
   "execution_count": 51,
   "metadata": {},
   "outputs": [],
   "source": [
    "idd = sy.Symbol(\"Id\")"
   ]
  },
  {
   "cell_type": "code",
   "execution_count": 52,
   "metadata": {},
   "outputs": [
    {
     "data": {
      "text/plain": [
       "Id"
      ]
     },
     "execution_count": 52,
     "metadata": {},
     "output_type": "execute_result"
    }
   ],
   "source": [
    "idd"
   ]
  },
  {
   "cell_type": "code",
   "execution_count": 88,
   "metadata": {},
   "outputs": [],
   "source": [
    "comp = sy.Function(\"Comp\")\n",
    "fst = sy.Symbol(\"Fst\")\n",
    "snd = sy.Symbol(\"Snd\")\n",
    "fan = sy.Function(\"Fan\")\n",
    "par = lambda f,g: fan( comp(f,fst), comp(g,snd))\n",
    "dup = fan(idd,idd)"
   ]
  },
  {
   "cell_type": "code",
   "execution_count": 89,
   "metadata": {},
   "outputs": [
    {
     "data": {
      "text/plain": [
       "Fan(Comp(Fst, Fst), Comp(Snd, Snd))"
      ]
     },
     "execution_count": 89,
     "metadata": {},
     "output_type": "execute_result"
    }
   ],
   "source": [
    "a, b, c = map(sy.Wild, \"abc\")\n",
    "#comp(idd,idd).xreplace( { comp(idd, a ) : a })\n",
    "comp(idd,idd).replace( comp(idd, a ) , a )\n",
    "\n",
    "rules = {\n",
    "    comp(idd, a ) : a,\n",
    "    comp(a , idd) : a,\n",
    "    comp(comp(a,b),c) : comp(a, comp(b,c)),\n",
    "    fan(fst,snd) : idd,\n",
    "    comp(fst , fan(a,b)) : a,\n",
    "    comp(snd , fan(a,b)) : b,\n",
    "    \n",
    "  \n",
    "}\n",
    "x = sy.Symbol(\"x\")\n",
    "e = comp(comp(idd,idd),x)\n",
    "e = par(fst,snd)\n",
    "for j in range(2):\n",
    "    for l,r in rules.items():\n",
    "        e = e.replace(l,r)\n",
    "e"
   ]
  },
  {
   "cell_type": "code",
   "execution_count": 68,
   "metadata": {},
   "outputs": [
    {
     "data": {
      "text/plain": [
       "{a_: Id}"
      ]
     },
     "execution_count": 68,
     "metadata": {},
     "output_type": "execute_result"
    }
   ],
   "source": [
    "comp(idd,idd).match( comp(idd, sy.Wild(\"a\")))"
   ]
  },
  {
   "cell_type": "code",
   "execution_count": 72,
   "metadata": {},
   "outputs": [
    {
     "data": {
      "text/plain": [
       "Comp(Id, Comp(Id, Id))"
      ]
     },
     "execution_count": 72,
     "metadata": {},
     "output_type": "execute_result"
    }
   ],
   "source": [
    "comp(idd,comp(idd,idd))"
   ]
  },
  {
   "cell_type": "code",
   "execution_count": 91,
   "metadata": {},
   "outputs": [
    {
     "ename": "AttributeError",
     "evalue": "module 'sympy' has no attribute 'unify'",
     "output_type": "error",
     "traceback": [
      "\u001b[0;31m---------------------------------------------------------------------------\u001b[0m",
      "\u001b[0;31mAttributeError\u001b[0m                            Traceback (most recent call last)",
      "\u001b[0;32m<ipython-input-91-18d19ee7c3b0>\u001b[0m in \u001b[0;36m<module>\u001b[0;34m\u001b[0m\n\u001b[0;32m----> 1\u001b[0;31m \u001b[0msy\u001b[0m\u001b[0;34m.\u001b[0m\u001b[0munify\u001b[0m\u001b[0;34m(\u001b[0m\u001b[0ma\u001b[0m \u001b[0;34m+\u001b[0m \u001b[0mb\u001b[0m\u001b[0;34m,\u001b[0m \u001b[0mc\u001b[0m\u001b[0;34m)\u001b[0m\u001b[0;34m\u001b[0m\u001b[0;34m\u001b[0m\u001b[0m\n\u001b[0m",
      "\u001b[0;31mAttributeError\u001b[0m: module 'sympy' has no attribute 'unify'"
     ]
    }
   ],
   "source": [
    "sy.unify(a + b, c)"
   ]
  },
  {
   "cell_type": "code",
   "execution_count": null,
   "metadata": {},
   "outputs": [],
   "source": [
    "help(sy)"
   ]
  },
  {
   "cell_type": "code",
   "execution_count": null,
   "metadata": {},
   "outputs": [],
   "source": []
  }
 ],
 "metadata": {
  "kernelspec": {
   "display_name": "Python 3",
   "language": "python",
   "name": "python3"
  },
  "language_info": {
   "codemirror_mode": {
    "name": "ipython",
    "version": 3
   },
   "file_extension": ".py",
   "mimetype": "text/x-python",
   "name": "python",
   "nbconvert_exporter": "python",
   "pygments_lexer": "ipython3",
   "version": "3.7.5"
  }
 },
 "nbformat": 4,
 "nbformat_minor": 2
}
