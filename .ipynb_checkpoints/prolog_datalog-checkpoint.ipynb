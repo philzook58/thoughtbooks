{
 "cells": [
  {
   "cell_type": "code",
   "execution_count": 2,
   "metadata": {},
   "outputs": [
    {
     "name": "stdout",
     "output_type": "stream",
     "text": [
      "search: \u001b[0m\u001b[1mR\u001b[22m\u001b[0m\u001b[1me\u001b[22m\u001b[0m\u001b[1mf\u001b[22m Weak\u001b[0m\u001b[1mR\u001b[22m\u001b[0m\u001b[1me\u001b[22m\u001b[0m\u001b[1mf\u001b[22m p\u001b[0m\u001b[1mr\u001b[22m\u001b[0m\u001b[1me\u001b[22mv\u001b[0m\u001b[1mf\u001b[22mloat Undef\u001b[0m\u001b[1mR\u001b[22m\u001b[0m\u001b[1me\u001b[22m\u001b[0m\u001b[1mf\u001b[22mError Global\u001b[0m\u001b[1mR\u001b[22m\u001b[0m\u001b[1me\u001b[22m\u001b[0m\u001b[1mf\u001b[22m uppe\u001b[0m\u001b[1mr\u001b[22mcas\u001b[0m\u001b[1me\u001b[22m\u001b[0m\u001b[1mf\u001b[22mirst\n",
      "\n"
     ]
    },
    {
     "data": {
      "text/latex": [
       "\\begin{verbatim}\n",
       "Ref{T}\n",
       "\\end{verbatim}\n",
       "An object that safely references data of type \\texttt{T}. This type is guaranteed to point to valid, Julia-allocated memory of the correct type. The underlying data is protected from freeing by the garbage collector as long as the \\texttt{Ref} itself is referenced.\n",
       "\n",
       "In Julia, \\texttt{Ref} objects are dereferenced (loaded or stored) with \\texttt{[]}.\n",
       "\n",
       "Creation of a \\texttt{Ref} to a value \\texttt{x} of type \\texttt{T} is usually written \\texttt{Ref(x)}. Additionally, for creating interior pointers to containers (such as Array or Ptr), it can be written \\texttt{Ref(a, i)} for creating a reference to the \\texttt{i}-th element of \\texttt{a}.\n",
       "\n",
       "When passed as a \\texttt{ccall} argument (either as a \\texttt{Ptr} or \\texttt{Ref} type), a \\texttt{Ref} object will be converted to a native pointer to the data it references.\n",
       "\n",
       "There is no invalid (NULL) \\texttt{Ref} in Julia, but a \\texttt{C\\_NULL} instance of \\texttt{Ptr} can be passed to a \\texttt{ccall} Ref argument.\n",
       "\n",
       "\\section{Use in broadcasting}\n",
       "\\texttt{Ref} is sometimes used in broadcasting in order to treat the referenced values as a scalar:\n",
       "\n",
       "\\begin{verbatim}\n",
       "julia> isa.(Ref([1,2,3]), [Array, Dict, Int])\n",
       "3-element BitArray{1}:\n",
       " 1\n",
       " 0\n",
       " 0\n",
       "\\end{verbatim}\n"
      ],
      "text/markdown": [
       "```\n",
       "Ref{T}\n",
       "```\n",
       "\n",
       "An object that safely references data of type `T`. This type is guaranteed to point to valid, Julia-allocated memory of the correct type. The underlying data is protected from freeing by the garbage collector as long as the `Ref` itself is referenced.\n",
       "\n",
       "In Julia, `Ref` objects are dereferenced (loaded or stored) with `[]`.\n",
       "\n",
       "Creation of a `Ref` to a value `x` of type `T` is usually written `Ref(x)`. Additionally, for creating interior pointers to containers (such as Array or Ptr), it can be written `Ref(a, i)` for creating a reference to the `i`-th element of `a`.\n",
       "\n",
       "When passed as a `ccall` argument (either as a `Ptr` or `Ref` type), a `Ref` object will be converted to a native pointer to the data it references.\n",
       "\n",
       "There is no invalid (NULL) `Ref` in Julia, but a `C_NULL` instance of `Ptr` can be passed to a `ccall` Ref argument.\n",
       "\n",
       "# Use in broadcasting\n",
       "\n",
       "`Ref` is sometimes used in broadcasting in order to treat the referenced values as a scalar:\n",
       "\n",
       "```jldoctest\n",
       "julia> isa.(Ref([1,2,3]), [Array, Dict, Int])\n",
       "3-element BitArray{1}:\n",
       " 1\n",
       " 0\n",
       " 0\n",
       "```\n"
      ],
      "text/plain": [
       "\u001b[36m  Ref{T}\u001b[39m\n",
       "\n",
       "  An object that safely references data of type \u001b[36mT\u001b[39m. This type is guaranteed to\n",
       "  point to valid, Julia-allocated memory of the correct type. The underlying\n",
       "  data is protected from freeing by the garbage collector as long as the \u001b[36mRef\u001b[39m\n",
       "  itself is referenced.\n",
       "\n",
       "  In Julia, \u001b[36mRef\u001b[39m objects are dereferenced (loaded or stored) with \u001b[36m[]\u001b[39m.\n",
       "\n",
       "  Creation of a \u001b[36mRef\u001b[39m to a value \u001b[36mx\u001b[39m of type \u001b[36mT\u001b[39m is usually written \u001b[36mRef(x)\u001b[39m.\n",
       "  Additionally, for creating interior pointers to containers (such as Array or\n",
       "  Ptr), it can be written \u001b[36mRef(a, i)\u001b[39m for creating a reference to the \u001b[36mi\u001b[39m-th\n",
       "  element of \u001b[36ma\u001b[39m.\n",
       "\n",
       "  When passed as a \u001b[36mccall\u001b[39m argument (either as a \u001b[36mPtr\u001b[39m or \u001b[36mRef\u001b[39m type), a \u001b[36mRef\u001b[39m object\n",
       "  will be converted to a native pointer to the data it references.\n",
       "\n",
       "  There is no invalid (NULL) \u001b[36mRef\u001b[39m in Julia, but a \u001b[36mC_NULL\u001b[39m instance of \u001b[36mPtr\u001b[39m can be\n",
       "  passed to a \u001b[36mccall\u001b[39m Ref argument.\n",
       "\n",
       "\u001b[1m  Use in broadcasting\u001b[22m\n",
       "\u001b[1m  ≡≡≡≡≡≡≡≡≡≡≡≡≡≡≡≡≡≡≡≡≡\u001b[22m\n",
       "\n",
       "  \u001b[36mRef\u001b[39m is sometimes used in broadcasting in order to treat the referenced\n",
       "  values as a scalar:\n",
       "\n",
       "\u001b[36m  julia> isa.(Ref([1,2,3]), [Array, Dict, Int])\u001b[39m\n",
       "\u001b[36m  3-element BitArray{1}:\u001b[39m\n",
       "\u001b[36m   1\u001b[39m\n",
       "\u001b[36m   0\u001b[39m\n",
       "\u001b[36m   0\u001b[39m"
      ]
     },
     "execution_count": 2,
     "metadata": {},
     "output_type": "execute_result"
    }
   ],
   "source": [
    "?Ref"
   ]
  },
  {
   "cell_type": "markdown",
   "metadata": {},
   "source": [
    "Using the DijsointSet for unification. We could make a varaint of disjoint set that uses a persistent array underneath.\n",
    "\n",
    "Unification is breaking up the term universe (herbrand universe) into disjoint sets oif terms.\n",
    "This is a huge thing that can only be talked about implcility.\n",
    "\n",
    "Or is it a term universe with variable slots?\n",
    "\n",
    "Still, if we have a set of equations\n",
    "f(~a,b) == f(~c, b)\n",
    "\n",
    "Add to disjointset even compound terms or only when hit atom?\n",
    "set_equal( t1,t2 ) ?\n",
    "\n",
    "The hash cons is just an optimization to avoid traversing terms?\n",
    "\n",
    "Anti-confurence f(x) = f(y) => x = y . Closure over injectivity.\n",
    "\n",
    "There is a certain kind of symmettry between the egraph problem and the unification problem\n",
    "\n",
    "Var(a) == Var(c)\n",
    "b == b\n",
    "f\n",
    "\n",
    "\n",
    "\n",
    "occurs_check(IntDisjointSet) post hoc or pre hoc?\n",
    "\n",
    "\n",
    "\n",
    "\n",
    "unification for Catlab\n",
    "\n",
    "\n",
    "Well, i already did this in my minikanren exploits.\n",
    "We could use JuLog\n",
    "\n",
    "[\n",
    " id => id(~a)\n",
    " sigma => sigma(~A,~B)\n",
    " ...\n",
    " \n",
    "]\n",
    "\n",
    "\n",
    "Prolog + egraphs.\n",
    "\n",
    "If smt is sat + egraphs\n",
    "Then prolog search + egraphs should be no problem in principle.\n",
    "Prolog takes uniifcation as a base construct, Egraphs are similar in many repsects to unification.\n",
    "E-Graphs work over ground terms though.\n",
    "\n",
    "Swap in persistent structures?\n",
    "vs. just copying.\n",
    "Copying might be fast.\n",
    "\n",
    "I wonder how good tabling might be at just axiomatizing equality as a predicate\n",
    "A == A.\n",
    "A == B :- B == A.\n",
    "A == C :- A == B, A == C.\n",
    "\n",
    "\n",
    "I wonder how hard it would be to build an egraph as a library?\n",
    "We already have natural union find.\n",
    "Making fresh Ids is easy\n",
    "\n",
    "enode(N , Terms )\n",
    "\n",
    "\n",
    "eclass(f(a,b) , C ) :- eclass( g(q) , C).\n",
    "eclass( f(A,B), C ) :- eclass( f(A', B), C  ), eclass( A, D  ), eclass(A', D') % congurence\n",
    "\n",
    "\n",
    "f(a) = g(b) expands to\n",
    "\n",
    "You need to assert all facts in the same context.\n",
    "eclass(g(b), C) :- eclass(g(b), D), D = C.\n",
    "\n",
    "\n",
    "eclass(f(a), C), eclass(g(b), C), ... , eclass(Q, C).\n",
    "\n",
    "\n",
    "\n",
    "\n",
    "egraph(Nodes,  , Parents ) :-\n",
    "\n",
    "\n",
    "% equalty is a special \"tabled\" predicate\n",
    "f(x,y) == g(z,w). % assert ground equalities.\n",
    "f(A) == g(A). % pattern match and instantiate\n",
    "\n",
    "\n",
    "\n",
    "A == B :- \n",
    "\n",
    "p( , ) :- A === B, \n",
    "\n",
    "Or should I build prolog into the e matcher?\n",
    "Collect matches\n",
    "\n",
    "typ(F) ~ hom(A,B)  => F == id(F) . F\n",
    "\n",
    "\n",
    "The catlab syntax is SMART because it has the minimal annotation to make it unambiguously typed. This is for user reasons, but it is also good for automation reasons. We don't chunk up\n",
    "\n",
    "A birdirectional type checking thing woud have top level annotations\n",
    "\n",
    "Julog\n",
    "Shouold typ work on unleaborated terms or no?\n",
    "Yes, the point free categroicval style lets us think about elaboration without worrying about binding issues.\n",
    "That's nice. (Not that binding issues are like the end all be all of problems. Cody would be inclined to sayu that's the least of your owrries.)\n",
    "\n",
    "typ(comp(F,G), hom(A,B)) :- typ(F, hom(A,B), typ(G, hom(B,C))\n",
    "typ(comp(A,B,F,G), hom(A,B) ). \n",
    "\n",
    "\n",
    "\n",
    "I could cut every predicate? That's indicative that i don't really need prolog search. \n",
    "typ(comp() , ) :- !, \n",
    "\n",
    "elab(id, id(A)).\n",
    "elab( comp(F,G) , comp(A,B,F',G')) :- elab(F,F'), elab(G,G'), typ(comp(F,G) \n",
    " \n",
    " \n",
    "\n",
    "elab( lam(X, ) , lam(X,A, ) , FVar)\n",
    "\n",
    "check() :-  \n",
    "infer() :- !, infer\n",
    " \n",
    " Prolog typechecker\n",
    " https://news.ycombinator.com/item?id=15583515\n",
    " \n",
    " https://www.cs.kent.ac.uk/pubs/2012/3136/content.pdf smt solver in prolog\n",
    " Its also nice that it expresses about the naivest methods of smt solving possible\n",
    " \n",
    " There is a dumber version of congurence closure. some kind of for loop\n",
    " "
   ]
  },
  {
   "cell_type": "code",
   "execution_count": 21,
   "metadata": {},
   "outputs": [
    {
     "data": {
      "text/plain": [
       "true"
      ]
     },
     "execution_count": 21,
     "metadata": {},
     "output_type": "execute_result"
    }
   ],
   "source": [
    "x = Ref{Any}(:a)\n",
    "x[] = x\n",
    "\n",
    "x[] === x\n",
    "\n",
    "x[] isa Ref\n"
   ]
  },
  {
   "cell_type": "code",
   "execution_count": 28,
   "metadata": {},
   "outputs": [
    {
     "data": {
      "text/plain": [
       "Base.RefValue{Any}(#undef)"
      ]
     },
     "execution_count": 28,
     "metadata": {},
     "output_type": "execute_result"
    }
   ],
   "source": [
    "Ref{Any}()"
   ]
  },
  {
   "cell_type": "code",
   "execution_count": 30,
   "metadata": {},
   "outputs": [
    {
     "data": {
      "text/plain": [
       "newvar (generic function with 1 method)"
      ]
     },
     "execution_count": 30,
     "metadata": {},
     "output_type": "execute_result"
    }
   ],
   "source": [
    "function newvar()\n",
    "    x = Ref{Any}()\n",
    "    x[] = x\n",
    "    x\n",
    "end"
   ]
  },
  {
   "cell_type": "code",
   "execution_count": 23,
   "metadata": {},
   "outputs": [
    {
     "data": {
      "text/plain": [
       "unify (generic function with 1 method)"
      ]
     },
     "execution_count": 23,
     "metadata": {},
     "output_type": "execute_result"
    }
   ],
   "source": [
    "function canon(x)\n",
    "    while x isa Ref && x[] != x # could do some small path compression here\n",
    "        # temp = x\n",
    "        x = x[]\n",
    "        # temp[] = x[] \n",
    "    end\n",
    "    return x\n",
    "end\n",
    "    \n",
    "\n",
    "function unify(x, y)\n",
    "    x = canon(x)\n",
    "    y = canon(y)\n",
    "    if x === y\n",
    "        ()\n",
    "    elseif x[] isa Ref\n",
    "        x[] = y\n",
    "    elseif y[] isa Ref\n",
    "        y[] = x\n",
    "    else\n",
    "        return false\n",
    "    end\n",
    "end"
   ]
  },
  {
   "cell_type": "code",
   "execution_count": 69,
   "metadata": {},
   "outputs": [
    {
     "data": {
      "text/plain": [
       "unify! (generic function with 1 method)"
      ]
     },
     "execution_count": 69,
     "metadata": {},
     "output_type": "execute_result"
    }
   ],
   "source": [
    "DisjointSets{Union{Symbol,Int}}()\n",
    "\n",
    "#= function unify!(s, x, y)\n",
    "    x = find_root!(s,x)\n",
    "    \n",
    "end =#\n",
    "struct Var\n",
    "    id::Int\n",
    "end\n",
    "# let's not even bother renaming it though?\n",
    "unify!(s,x,y) = union!(s, x, y)\n",
    "# This is for datalog queries. However, What about terms?\n",
    "\n",
    "\n",
    "\n",
    "function foo(s,x,y,c)\n",
    "    union!(s, x,:a)\n",
    "    union!(s, y,:c)\n",
    "    greg(s)\n",
    "    larry(s, :a)\n",
    "end\n"
   ]
  },
  {
   "cell_type": "code",
   "execution_count": null,
   "metadata": {},
   "outputs": [],
   "source": [
    "function unify!(s,x::Term,y::Term)\n",
    "    x.head != y.head && fail()\n",
    "    for i,j in zip(x.args, y.args)\n",
    "        unify!(s,i,j)\n",
    "    end\n",
    "end\n",
    "\n",
    "\n"
   ]
  },
  {
   "cell_type": "code",
   "execution_count": 25,
   "metadata": {},
   "outputs": [
    {
     "data": {
      "text/plain": [
       ":a"
      ]
     },
     "execution_count": 25,
     "metadata": {},
     "output_type": "execute_result"
    }
   ],
   "source": [
    "unify(x,:a)"
   ]
  },
  {
   "cell_type": "code",
   "execution_count": 31,
   "metadata": {},
   "outputs": [
    {
     "data": {
      "text/plain": [
       ":a"
      ]
     },
     "execution_count": 31,
     "metadata": {},
     "output_type": "execute_result"
    }
   ],
   "source": [
    "x = newvar()\n",
    "y = newvar()\n",
    "unify(x,y)\n",
    "unify(y,:a)\n",
    "canon(x)"
   ]
  },
  {
   "cell_type": "markdown",
   "metadata": {},
   "source": [
    "Detemrinstic datalog.\n",
    "\n",
    "foo(a,b,X) :- greg, larry(a).\n",
    "\n",
    "function foo(x,y,c)\n",
    "    unify(x,:a)\n",
    "    unify(y,:c)\n",
    "    greg()\n",
    "    larry(:a)\n",
    "end\n",
    "\n",
    "function greg()\n",
    "\n",
    "function foo(\n",
    ")\n",
    "end\n",
    "\n",
    "\n",
    "Determinstic prolog\n",
    "\n",
    "\n",
    "\n",
    "Proplog\n",
    "I love this. it is just the search aspects of prolog/datalog with none of the unification issues.\n",
    "\n",
    "You can do tabling,\n",
    "bottom up,\n",
    "semi naive,\n",
    "other stuff?  magic sets?\n"
   ]
  },
  {
   "cell_type": "code",
   "execution_count": 46,
   "metadata": {},
   "outputs": [
    {
     "name": "stdout",
     "output_type": "stream",
     "text": [
      "[:curly, :moe]\n",
      "Any[:curly]\n",
      "Any[:moe, :larry]\n",
      "Any[:moe]\n",
      "Any[]\n"
     ]
    },
    {
     "data": {
      "text/plain": [
       "true"
      ]
     },
     "execution_count": 46,
     "metadata": {},
     "output_type": "execute_result"
    }
   ],
   "source": [
    "#struct Clause\n",
    "#    head\n",
    "#    body\n",
    "#end\n",
    "\n",
    "#clauses = Dict{:Symbol, Vector{Vector{Symbol}}}()\n",
    "\n",
    "#goalstack = [:larry,:shirmy]\n",
    "\n",
    "function establish(clauses,goalstack)\n",
    "    println(goalstack)\n",
    "    if length(goalstack) == 0\n",
    "        return true\n",
    "    end\n",
    "    goal = pop!(goalstack)\n",
    "    if !haskey(clauses,goal)\n",
    "        return false\n",
    "    end\n",
    "    for clause in clauses[goal]\n",
    "        if establish(clauses, [goalstack ; clause]) \n",
    "            return true\n",
    "        end\n",
    "    end\n",
    "    return false\n",
    "end\n",
    "clauses = Dict(\n",
    "    :moe => [[]],\n",
    "    :larry => [[]],\n",
    "    :curly => [[:moe, :larry]]\n",
    ")\n",
    "\n",
    "\n",
    "establish(clauses , [:curly, :moe])\n"
   ]
  },
  {
   "cell_type": "code",
   "execution_count": 38,
   "metadata": {},
   "outputs": [
    {
     "data": {
      "text/plain": [
       "6-element Array{Int64,1}:\n",
       " 1\n",
       " 2\n",
       " 3\n",
       " 1\n",
       " 2\n",
       " 3"
      ]
     },
     "execution_count": 38,
     "metadata": {},
     "output_type": "execute_result"
    }
   ],
   "source": [
    "x = [1, 2, 3]\n",
    "y = [1, 2, 3]\n",
    "z = [x ; y]\n",
    "pop!(x)\n",
    "z"
   ]
  },
  {
   "cell_type": "code",
   "execution_count": 62,
   "metadata": {},
   "outputs": [
    {
     "data": {
      "text/plain": [
       "Set{Any} with 3 elements:\n",
       "  :moe\n",
       "  :larry\n",
       "  :curly"
      ]
     },
     "execution_count": 62,
     "metadata": {},
     "output_type": "execute_result"
    }
   ],
   "source": [
    "#bottom uip naive\n",
    "\n",
    "derived = Set()\n",
    "\n",
    "clauses = [\n",
    "    :moe => [],\n",
    "    :larry => [],\n",
    "    :curly => [:moe, :larry],\n",
    "    :gary => [:gary],\n",
    "    :farly => [:cranly]\n",
    "]\n",
    "\n",
    "dirty = true\n",
    "new = Set()\n",
    "while true\n",
    "    for (head, body) in clauses\n",
    "        if body ⊆ derived\n",
    "            push!(new, head)\n",
    "        end\n",
    "    end\n",
    "    if derived == new\n",
    "        break\n",
    "    end\n",
    "    derived = derived ∪ new\n",
    "end\n",
    "\n",
    "derived"
   ]
  },
  {
   "cell_type": "code",
   "execution_count": 55,
   "metadata": {},
   "outputs": [
    {
     "data": {
      "text/plain": [
       "3-element Array{Int64,1}:\n",
       " 1\n",
       " 3\n",
       " 2"
      ]
     },
     "execution_count": 55,
     "metadata": {},
     "output_type": "execute_result"
    }
   ],
   "source": [
    "[1,3] ∪ Set([1,2,3])"
   ]
  },
  {
   "cell_type": "code",
   "execution_count": null,
   "metadata": {},
   "outputs": [],
   "source": [
    "#bottom uip\n",
    "\n",
    "derived = Set()\n",
    "\n",
    "clauses = [\n",
    "    :moe => [],\n",
    "    :larry => [],\n",
    "    :curly => [:moe, :larry],\n",
    "    :gary => [:gary],\n",
    "    :farly => [:cranly]\n",
    "]\n",
    "\n",
    "dirty = true\n",
    "new = Set()\n",
    "fresh = Set()\n",
    "while true\n",
    "    for (head, body) in clauses\n",
    "        if length(fresh ∩ body) > 0 && body ⊆ derived\n",
    "            push!(new, head)\n",
    "        end\n",
    "    end\n",
    "    fresh = derived \\ new\n",
    "    derived = derived ∪ new\n",
    "    if length(fresh) == 0\n",
    "        break\n",
    "    end\n",
    "end\n",
    "\n",
    "derived"
   ]
  },
  {
   "cell_type": "code",
   "execution_count": 64,
   "metadata": {},
   "outputs": [],
   "source": [
    "using DataStructures"
   ]
  },
  {
   "cell_type": "code",
   "execution_count": 67,
   "metadata": {},
   "outputs": [
    {
     "data": {
      "text/plain": [
       "DisjointSets{Union{Int64, Symbol}}(Dict{Union{Int64, Symbol},Int64}(), Union{Int64, Symbol}[], IntDisjointSets{Int64}(Int64[], Int64[], 0))"
      ]
     },
     "execution_count": 67,
     "metadata": {},
     "output_type": "execute_result"
    }
   ],
   "source": []
  },
  {
   "cell_type": "code",
   "execution_count": null,
   "metadata": {},
   "outputs": [],
   "source": []
  }
 ],
 "metadata": {
  "kernelspec": {
   "display_name": "Julia 1.5.0",
   "language": "julia",
   "name": "julia-1.5"
  },
  "language_info": {
   "file_extension": ".jl",
   "mimetype": "application/julia",
   "name": "julia",
   "version": "1.5.0"
  }
 },
 "nbformat": 4,
 "nbformat_minor": 4
}
