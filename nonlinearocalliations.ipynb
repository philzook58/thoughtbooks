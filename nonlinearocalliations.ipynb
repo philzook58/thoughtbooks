{
 "cells": [
  {
   "cell_type": "markdown",
   "metadata": {},
   "source": [
    "I rememebr there being some really fun phenomonolofgy with repsct to nonlinear oscillations.\n",
    "\n",
    "That pippard book. Some sections in Landau.\n",
    "\n",
    "\n",
    "Frequency sepctrum shifting, becomes assymmetirc\n",
    "folding over into catastrsophe\n",
    "\n",
    "higher resoancnes appearing\n",
    "\n",
    "synahcronization spontaenous\n",
    "\n",
    "\n",
    "\n"
   ]
  }
 ],
 "metadata": {
  "kernelspec": {
   "display_name": "Julia 1.4.1",
   "language": "julia",
   "name": "julia-1.4"
  },
  "language_info": {
   "file_extension": ".jl",
   "mimetype": "application/julia",
   "name": "julia",
   "version": "1.4.1"
  }
 },
 "nbformat": 4,
 "nbformat_minor": 4
}
