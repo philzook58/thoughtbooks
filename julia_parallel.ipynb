{
 "cells": [
  {
   "cell_type": "code",
   "execution_count": 1,
   "metadata": {
    "collapsed": true,
    "jupyter": {
     "outputs_hidden": true
    }
   },
   "outputs": [
    {
     "name": "stderr",
     "output_type": "stream",
     "text": [
      "\u001b[32m\u001b[1m   Updating\u001b[22m\u001b[39m registry at `~/.julia/registries/General`\n"
     ]
    },
    {
     "name": "stdout",
     "output_type": "stream",
     "text": [
      "\u001b[?25l    "
     ]
    },
    {
     "name": "stderr",
     "output_type": "stream",
     "text": [
      "\u001b[32m\u001b[1m   Updating\u001b[22m\u001b[39m git-repo `https://github.com/JuliaRegistries/General.git`\n"
     ]
    },
    {
     "name": "stdout",
     "output_type": "stream",
     "text": [
      "\u001b[2K\u001b[?25h[1mFetching:\u001b[22m\u001b[39m [========================================>]  99.9 %                                  ]  15.0 % % [================>                        ]  39.3 %]  54.2 %============================>            ]  69.1 %84.0 %>]  98.9 %"
     ]
    },
    {
     "name": "stderr",
     "output_type": "stream",
     "text": [
      "\u001b[32m\u001b[1m  Resolving\u001b[22m\u001b[39m package versions...\n",
      "\u001b[32m\u001b[1m  Installed\u001b[22m\u001b[39m ArgCheck ────────── v2.1.0\n",
      "\u001b[32m\u001b[1m  Installed\u001b[22m\u001b[39m CompositionsBase ── v0.1.0\n",
      "\u001b[32m\u001b[1m  Installed\u001b[22m\u001b[39m MicroCollections ── v0.1.0\n",
      "\u001b[32m\u001b[1m  Installed\u001b[22m\u001b[39m ThreadsX ────────── v0.1.6\n",
      "\u001b[32m\u001b[1m  Installed\u001b[22m\u001b[39m OnlineStats ─────── v1.5.6\n",
      "\u001b[32m\u001b[1m  Installed\u001b[22m\u001b[39m FLoops ──────────── v0.1.4\n",
      "\u001b[32m\u001b[1m  Installed\u001b[22m\u001b[39m BangBang ────────── v0.3.29\n",
      "\u001b[32m\u001b[1m  Installed\u001b[22m\u001b[39m Transducers ─────── v0.4.51\n",
      "\u001b[32m\u001b[1m  Installed\u001b[22m\u001b[39m OnlineStatsBase ─── v1.4.4\n",
      "\u001b[32m\u001b[1m  Installed\u001b[22m\u001b[39m FLoopsBase ──────── v0.1.0\n",
      "\u001b[32m\u001b[1m  Installed\u001b[22m\u001b[39m SweepOperator ───── v0.3.0\n",
      "\u001b[32m\u001b[1m  Installed\u001b[22m\u001b[39m Referenceables ──── v0.1.0\n",
      "\u001b[32m\u001b[1m  Installed\u001b[22m\u001b[39m DefineSingletons ── v0.1.0\n",
      "\u001b[32m\u001b[1m  Installed\u001b[22m\u001b[39m ContextVariablesX ─ v0.1.0\n",
      "\u001b[32m\u001b[1m  Installed\u001b[22m\u001b[39m SplittablesBase ─── v0.1.10\n",
      "\u001b[32m\u001b[1m  Installed\u001b[22m\u001b[39m InitialValues ───── v0.2.10\n",
      "\u001b[32m\u001b[1mUpdating\u001b[22m\u001b[39m `~/.julia/environments/v1.5/Project.toml`\n",
      " \u001b[90m [198e06fe] \u001b[39m\u001b[92m+ BangBang v0.3.29\u001b[39m\n",
      " \u001b[90m [cc61a311] \u001b[39m\u001b[92m+ FLoops v0.1.4\u001b[39m\n",
      " \u001b[90m [128add7d] \u001b[39m\u001b[92m+ MicroCollections v0.1.0\u001b[39m\n",
      " \u001b[90m [a15396b6] \u001b[39m\u001b[92m+ OnlineStats v1.5.6\u001b[39m\n",
      " \u001b[90m [ac1d9e8a] \u001b[39m\u001b[92m+ ThreadsX v0.1.6\u001b[39m\n",
      " \u001b[90m [28d57a85] \u001b[39m\u001b[92m+ Transducers v0.4.51\u001b[39m\n",
      "\u001b[32m\u001b[1mUpdating\u001b[22m\u001b[39m `~/.julia/environments/v1.5/Manifest.toml`\n",
      " \u001b[90m [dce04be8] \u001b[39m\u001b[92m+ ArgCheck v2.1.0\u001b[39m\n",
      " \u001b[90m [198e06fe] \u001b[39m\u001b[92m+ BangBang v0.3.29\u001b[39m\n",
      " \u001b[90m [a33af91c] \u001b[39m\u001b[92m+ CompositionsBase v0.1.0\u001b[39m\n",
      " \u001b[90m [6add18c4] \u001b[39m\u001b[92m+ ContextVariablesX v0.1.0\u001b[39m\n",
      " \u001b[90m [244e2a9f] \u001b[39m\u001b[92m+ DefineSingletons v0.1.0\u001b[39m\n",
      " \u001b[90m [cc61a311] \u001b[39m\u001b[92m+ FLoops v0.1.4\u001b[39m\n",
      " \u001b[90m [b9860ae5] \u001b[39m\u001b[92m+ FLoopsBase v0.1.0\u001b[39m\n",
      " \u001b[90m [22cec73e] \u001b[39m\u001b[92m+ InitialValues v0.2.10\u001b[39m\n",
      " \u001b[90m [128add7d] \u001b[39m\u001b[92m+ MicroCollections v0.1.0\u001b[39m\n",
      " \u001b[90m [a15396b6] \u001b[39m\u001b[92m+ OnlineStats v1.5.6\u001b[39m\n",
      " \u001b[90m [925886fa] \u001b[39m\u001b[92m+ OnlineStatsBase v1.4.4\u001b[39m\n",
      " \u001b[90m [42d2dcc6] \u001b[39m\u001b[92m+ Referenceables v0.1.0\u001b[39m\n",
      " \u001b[90m [171d559e] \u001b[39m\u001b[92m+ SplittablesBase v0.1.10\u001b[39m\n",
      " \u001b[90m [7522ee7d] \u001b[39m\u001b[92m+ SweepOperator v0.3.0\u001b[39m\n",
      " \u001b[90m [ac1d9e8a] \u001b[39m\u001b[92m+ ThreadsX v0.1.6\u001b[39m\n",
      " \u001b[90m [28d57a85] \u001b[39m\u001b[92m+ Transducers v0.4.51\u001b[39m\n"
     ]
    }
   ],
   "source": [
    "using Pkg; Pkg.add([\"Transducers\", \"ThreadsX\", \"OnlineStats\", \"FLoops\", \"MicroCollections\", \"BangBang\", \"Plots\", \"BenchmarkTools\"])"
   ]
  },
  {
   "cell_type": "markdown",
   "metadata": {},
   "source": [
    "https://juliafolds.github.io/data-parallelism/tutorials/quick-introduction/\n",
    "\n",
    "https://news.ycombinator.com/item?id=24700436\n",
    "\n",
    "i, the author here.\n",
    "One of the hidden messages of the introduction is: watch Guy Steele's talks [1][2][3] if you are interested in data parallelism! These talks are not Julia-specific and the idea is applicable and very useful in any languages. My libraries are heavily inspired by these talks.\n",
    "\n",
    "Of course, if you haven't used Julia yet, it'd be great if (data) parallelism gives you an excuse to try it out! It has a fantastic foundation for composable multi-threaded parallelism [4].\n",
    "\n",
    "[1] How to Think about Parallel Programming: Not! https://www.infoq.com/presentations/Thinking-Parallel-Progra...\n",
    "\n",
    "[2] Four Solutions to a Trivial Problem https://www.youtube.com/watch?v=ftcIcn8AmSY\n",
    "\n",
    "[3] Organizing Functional Code for Parallel Execution; or, foldl and foldr Considered Slightly Harmful https://vimeo.com/6624203\n",
    "\n",
    "[4] Announcing composable multi-threaded parallelism in Julia https://julialang.org/blog/2019/07/multithreading/\n"
   ]
  },
  {
   "cell_type": "code",
   "execution_count": 1,
   "metadata": {},
   "outputs": [
    {
     "data": {
      "text/plain": [
       "4"
      ]
     },
     "execution_count": 1,
     "metadata": {},
     "output_type": "execute_result"
    }
   ],
   "source": [
    "Threads.nthreads()"
   ]
  },
  {
   "cell_type": "code",
   "execution_count": 3,
   "metadata": {},
   "outputs": [
    {
     "name": "stderr",
     "output_type": "stream",
     "text": [
      "┌ Info: Installing Julia 4 Threads kernelspec in /home/philip/.local/share/jupyter/kernels/julia-4-threads-1.5\n",
      "└ @ IJulia /home/philip/.julia/packages/IJulia/DrVMH/deps/kspec.jl:78\n"
     ]
    },
    {
     "data": {
      "text/plain": [
       "\"/home/philip/.local/share/jupyter/kernels/julia-4-threads-1.5\""
      ]
     },
     "execution_count": 3,
     "metadata": {},
     "output_type": "execute_result"
    }
   ],
   "source": [
    "# https://github.com/JuliaLang/IJulia.jl/issues/882\n",
    "using IJulia\n",
    "IJulia.installkernel(\"Julia 4 Threads\", env=Dict(\n",
    "    \"JULIA_NUM_THREADS\" => \"4\",\n",
    "))"
   ]
  },
  {
   "cell_type": "code",
   "execution_count": 2,
   "metadata": {},
   "outputs": [
    {
     "data": {
      "text/plain": [
       "8-element Array{Int64,1}:\n",
       " 2\n",
       " 3\n",
       " 4\n",
       " 5\n",
       " 6\n",
       " 7\n",
       " 8\n",
       " 9"
      ]
     },
     "execution_count": 2,
     "metadata": {},
     "output_type": "execute_result"
    }
   ],
   "source": [
    "using Distributed\n",
    "addprocs(8)"
   ]
  },
  {
   "cell_type": "code",
   "execution_count": 8,
   "metadata": {},
   "outputs": [],
   "source": [
    "using BenchmarkTools"
   ]
  },
  {
   "cell_type": "code",
   "execution_count": 9,
   "metadata": {},
   "outputs": [
    {
     "name": "stdout",
     "output_type": "stream",
     "text": [
      "  1.400 μs (46 allocations: 2.41 KiB)\n"
     ]
    },
    {
     "data": {
      "text/plain": [
       "9-element Array{String,1}:\n",
       " \"1a\"\n",
       " \"2b\"\n",
       " \"3c\"\n",
       " \"4d\"\n",
       " \"5e\"\n",
       " \"6f\"\n",
       " \"7g\"\n",
       " \"8h\"\n",
       " \"9i\""
      ]
     },
     "execution_count": 9,
     "metadata": {},
     "output_type": "execute_result"
    }
   ],
   "source": [
    "@btime a1 = map(string, 1:9, 'a':'i')"
   ]
  },
  {
   "cell_type": "code",
   "execution_count": 10,
   "metadata": {},
   "outputs": [
    {
     "name": "stdout",
     "output_type": "stream",
     "text": [
      "  26.540 μs (393 allocations: 22.14 KiB)\n"
     ]
    }
   ],
   "source": [
    "using ThreadsX\n",
    "@btime a2 = ThreadsX.map(string, 1:9, 'a':'i')\n",
    "@assert a1 == a2"
   ]
  },
  {
   "cell_type": "code",
   "execution_count": 4,
   "metadata": {},
   "outputs": [
    {
     "ename": "LoadError",
     "evalue": "UndefVarError: a1 not defined",
     "output_type": "error",
     "traceback": [
      "UndefVarError: a1 not defined",
      "",
      "Stacktrace:",
      " [1] top-level scope at In[4]:3",
      " [2] include_string(::Function, ::Module, ::String, ::String) at ./loading.jl:1091"
     ]
    }
   ],
   "source": [
    "using Distributed\n",
    "a3 = pmap(string, 1:9, 'a':'i')\n",
    "@assert a1 == a3"
   ]
  },
  {
   "cell_type": "code",
   "execution_count": null,
   "metadata": {},
   "outputs": [],
   "source": []
  }
 ],
 "metadata": {
  "kernelspec": {
   "display_name": "Julia 4 Threads 1.5.0",
   "language": "julia",
   "name": "julia-4-threads-1.5"
  },
  "language_info": {
   "file_extension": ".jl",
   "mimetype": "application/julia",
   "name": "julia",
   "version": "1.5.0"
  }
 },
 "nbformat": 4,
 "nbformat_minor": 4
}
