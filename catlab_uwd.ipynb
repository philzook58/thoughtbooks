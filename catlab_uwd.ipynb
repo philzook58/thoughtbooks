{
 "cells": [
  {
   "cell_type": "code",
   "execution_count": 2,
   "metadata": {},
   "outputs": [
    {
     "name": "stderr",
     "output_type": "stream",
     "text": [
      "\u001b[32m\u001b[1m   Updating\u001b[22m\u001b[39m registry at `~/.julia/registries/General`\n"
     ]
    },
    {
     "name": "stdout",
     "output_type": "stream",
     "text": [
      "\u001b[?25l    "
     ]
    },
    {
     "name": "stderr",
     "output_type": "stream",
     "text": [
      "\u001b[32m\u001b[1m   Updating\u001b[22m\u001b[39m git-repo `https://github.com/JuliaRegistries/General.git`\n"
     ]
    },
    {
     "name": "stdout",
     "output_type": "stream",
     "text": [
      "\u001b[2K\u001b[?25h[1mFetching:\u001b[22m\u001b[39m [========================================>]  99.9 %13.6 %===========>                             ]  27.1 %                      ]  44.4 % [========================>                ]  57.9 %71.4 %>      ]  84.9 % [========================================>]  98.5 %"
     ]
    },
    {
     "name": "stderr",
     "output_type": "stream",
     "text": [
      "\u001b[32m\u001b[1m  Installed\u001b[22m\u001b[39m MappedArrays ──────── v0.3.0\n",
      "\u001b[32m\u001b[1m  Installed\u001b[22m\u001b[39m RecursiveArrayTools ─ v2.9.0\n",
      "\u001b[32m\u001b[1m  Installed\u001b[22m\u001b[39m Mustache ──────────── v1.0.10\n",
      "\u001b[32m\u001b[1m  Installed\u001b[22m\u001b[39m OffsetArrays ──────── v1.4.4\n",
      "\u001b[32m\u001b[1m  Installed\u001b[22m\u001b[39m SLEEFPirates ──────── v0.6.3\n",
      "\u001b[32m\u001b[1m  Installed\u001b[22m\u001b[39m NLsolve ───────────── v4.5.1\n",
      "\u001b[32m\u001b[1m  Installed\u001b[22m\u001b[39m JLLWrappers ───────── v1.1.4\n",
      "\u001b[32m\u001b[1m  Installed\u001b[22m\u001b[39m Observables ───────── v0.3.3\n",
      "\u001b[32m\u001b[1m  Installed\u001b[22m\u001b[39m Adapt ─────────────── v2.4.0\n",
      "\u001b[32m\u001b[1m  Installed\u001b[22m\u001b[39m ArrayInterface ────── v2.14.13\n",
      "\u001b[32m\u001b[1m  Installed\u001b[22m\u001b[39m ImageQualityIndexes ─ v0.2.1\n",
      "\u001b[32m\u001b[1m  Installed\u001b[22m\u001b[39m PNGFiles ──────────── v0.3.5\n",
      "\u001b[32m\u001b[1m  Installed\u001b[22m\u001b[39m MutableArithmetics ── v0.2.13\n",
      "\u001b[32m\u001b[1m  Installed\u001b[22m\u001b[39m FFTW ──────────────── v1.3.0\n",
      "\u001b[32m\u001b[1m  Installed\u001b[22m\u001b[39m LoopVectorization ─── v0.9.17\n",
      "\u001b[32m\u001b[1m  Installed\u001b[22m\u001b[39m VectorizationBase ─── v0.14.12\n",
      "\u001b[32m\u001b[1mNo Changes\u001b[22m\u001b[39m to `~/.julia/environments/v1.5/Project.toml`\n",
      "\u001b[32m\u001b[1mUpdating\u001b[22m\u001b[39m `~/.julia/environments/v1.5/Manifest.toml`\n",
      " \u001b[90m [79e6a3ab] \u001b[39m\u001b[93m↑ Adapt v2.3.0 ⇒ v2.4.0\u001b[39m\n",
      " \u001b[90m [4fba245c] \u001b[39m\u001b[93m↑ ArrayInterface v2.14.9 ⇒ v2.14.13\u001b[39m\n",
      " \u001b[90m [7a1cc6ca] \u001b[39m\u001b[93m↑ FFTW v1.2.4 ⇒ v1.3.0\u001b[39m\n",
      " \u001b[90m [2996bd0c] \u001b[39m\u001b[93m↑ ImageQualityIndexes v0.2.0 ⇒ v0.2.1\u001b[39m\n",
      " \u001b[90m [692b3bcd] \u001b[39m\u001b[93m↑ JLLWrappers v1.1.3 ⇒ v1.1.4\u001b[39m\n",
      " \u001b[90m [bdcacae8] \u001b[39m\u001b[93m↑ LoopVectorization v0.9.13 ⇒ v0.9.17\u001b[39m\n",
      " \u001b[90m [dbb5928d] \u001b[39m\u001b[93m↑ MappedArrays v0.2.2 ⇒ v0.3.0\u001b[39m\n",
      " \u001b[90m [ffc61752] \u001b[39m\u001b[93m↑ Mustache v1.0.9 ⇒ v1.0.10\u001b[39m\n",
      " \u001b[90m [d8a4904e] \u001b[39m\u001b[93m↑ MutableArithmetics v0.2.12 ⇒ v0.2.13\u001b[39m\n",
      " \u001b[90m [2774e3e8] \u001b[39m\u001b[93m↑ NLsolve v4.5.0 ⇒ v4.5.1\u001b[39m\n",
      " \u001b[90m [510215fc] \u001b[39m\u001b[93m↑ Observables v0.3.2 ⇒ v0.3.3\u001b[39m\n",
      " \u001b[90m [6fe1bfb0] \u001b[39m\u001b[93m↑ OffsetArrays v1.4.2 ⇒ v1.4.4\u001b[39m\n",
      " \u001b[90m [f57f5aa1] \u001b[39m\u001b[93m↑ PNGFiles v0.3.4 ⇒ v0.3.5\u001b[39m\n",
      " \u001b[90m [731186ca] \u001b[39m\u001b[93m↑ RecursiveArrayTools v2.7.2 ⇒ v2.9.0\u001b[39m\n",
      " \u001b[90m [476501e8] \u001b[39m\u001b[93m↑ SLEEFPirates v0.6.2 ⇒ v0.6.3\u001b[39m\n",
      " \u001b[90m [3d5dd08c] \u001b[39m\u001b[93m↑ VectorizationBase v0.14.9 ⇒ v0.14.12\u001b[39m\n",
      "\u001b[32m\u001b[1m   Building\u001b[22m\u001b[39m FFTW → `~/.julia/packages/FFTW/ayqyZ/deps/build.log`\n"
     ]
    }
   ],
   "source": [
    "using Pkg\n",
    "Pkg.update(\"Catlab\")"
   ]
  },
  {
   "cell_type": "code",
   "execution_count": 5,
   "metadata": {},
   "outputs": [
    {
     "data": {
      "text/plain": [
       "Catlab.CategoricalAlgebra.CSets.AbstractAttributedCSet{Catlab.Theories.CatDesc{(:Box, :Port, :OuterPort, :Junction),(:box, :junction, :outer_junction),(2, 2, 3),(1, 4, 4)},AD,Ts} where Ts<:Tuple where AD<:(Catlab.Theories.AttrDesc{Catlab.Theories.CatDesc{(:Box, :Port, :OuterPort, :Junction),(:box, :junction, :outer_junction),(2, 2, 3),(1, 4, 4)},Data,Attr,ADom,ACodom} where ACodom where ADom where Attr where Data)"
      ]
     },
     "execution_count": 5,
     "metadata": {},
     "output_type": "execute_result"
    }
   ],
   "source": [
    "using Catlab\n",
    "using Catlab.CategoricalAlgebra.FinSets: FinFunction\n",
    "using Catlab.WiringDiagrams.UndirectedWiringDiagrams\n",
    "const UWD = UndirectedWiringDiagram"
   ]
  },
  {
   "cell_type": "code",
   "execution_count": 14,
   "metadata": {},
   "outputs": [
    {
     "name": "stdout",
     "output_type": "stream",
     "text": [
      "Catlab.CategoricalAlgebra.CSets.AttributedCSet{Catlab.Theories.CatDesc{(:Box, :Port, :OuterPort, :Junction),(:box, :junction, :outer_junction),(2, 2, 3),(1, 4, 4)},Catlab.Theories.AttrDesc{Catlab.Theories.CatDesc{(:Box, :Port, :OuterPort, :Junction),(:box, :junction, :outer_junction),(2, 2, 3),(1, 4, 4)},(),(),(),()},Tuple{},(:box, :junction, :outer_junction),(),NamedTuple{(:Box, :Port, :OuterPort, :Junction),Tuple{Array{NamedTuple{(),Tuple{}},1},StructArrays.StructArray{NamedTuple{(:box, :junction),Tuple{Int64,Int64}},1,NamedTuple{(:box, :junction),Tuple{Array{Int64,1},Array{Int64,1}}},Int64},StructArrays.StructArray{NamedTuple{(:outer_junction,),Tuple{Int64}},1,NamedTuple{(:outer_junction,),Tuple{Array{Int64,1}}},Int64},Array{NamedTuple{(),Tuple{}},1}}},NamedTuple{(:box, :junction, :outer_junction),Tuple{Array{Array{Int64,1},1},Array{Array{Int64,1},1},Array{Array{Int64,1},1}}}}\n",
      "  tables: NamedTuple{(:Box, :Port, :OuterPort, :Junction),Tuple{Array{NamedTuple{(),Tuple{}},1},StructArrays.StructArray{NamedTuple{(:box, :junction),Tuple{Int64,Int64}},1,NamedTuple{(:box, :junction),Tuple{Array{Int64,1},Array{Int64,1}}},Int64},StructArrays.StructArray{NamedTuple{(:outer_junction,),Tuple{Int64}},1,NamedTuple{(:outer_junction,),Tuple{Array{Int64,1}}},Int64},Array{NamedTuple{(),Tuple{}},1}}}\n",
      "    Box: Array{NamedTuple{(),Tuple{}}}((3,))\n",
      "      1: NamedTuple{(),Tuple{}} NamedTuple()\n",
      "      2: NamedTuple{(),Tuple{}} NamedTuple()\n",
      "      3: NamedTuple{(),Tuple{}} NamedTuple()\n",
      "    Port: StructArrays.StructArray{NamedTuple{(:box, :junction),Tuple{Int64,Int64}},1,NamedTuple{(:box, :junction),Tuple{Array{Int64,1},Array{Int64,1}}},Int64}\n",
      "      fieldarrays: NamedTuple{(:box, :junction),Tuple{Array{Int64,1},Array{Int64,1}}}\n",
      "        box: Array{Int64}((6,)) [1, 1, 2, 2, 3, 3]\n",
      "        junction: Array{Int64}((6,)) [0, 0, 0, 0, 0, 0]\n",
      "    OuterPort: StructArrays.StructArray{NamedTuple{(:outer_junction,),Tuple{Int64}},1,NamedTuple{(:outer_junction,),Tuple{Array{Int64,1}}},Int64}\n",
      "      fieldarrays: NamedTuple{(:outer_junction,),Tuple{Array{Int64,1}}}\n",
      "        outer_junction: Array{Int64}((3,)) [0, 0, 0]\n",
      "    Junction: Array{NamedTuple{(),Tuple{}}}((0,))\n",
      "  indices: NamedTuple{(:box, :junction, :outer_junction),Tuple{Array{Array{Int64,1},1},Array{Array{Int64,1},1},Array{Array{Int64,1},1}}}\n",
      "    box: Array{Array{Int64,1}}((3,))\n",
      "      1: Array{Int64}((2,)) [1, 2]\n",
      "      2: Array{Int64}((2,)) [3, 4]\n",
      "      3: Array{Int64}((2,)) [5, 6]\n",
      "    junction: Array{Array{Int64,1}}((0,))\n",
      "    outer_junction: Array{Array{Int64,1}}((0,))\n"
     ]
    },
    {
     "data": {
      "text/plain": [
       "(box = [[1, 2], [3, 4], [5, 6]], junction = Array{Int64,1}[], outer_junction = Array{Int64,1}[])"
      ]
     },
     "execution_count": 14,
     "metadata": {},
     "output_type": "execute_result"
    }
   ],
   "source": [
    "d = UndirectedWiringDiagram(3)\n",
    "add_box!(d, 2); add_box!(d, 2); add_box!(d, 2)\n",
    "dump(d)\n",
    "#fieldnames(d)\n",
    "d.tables\n",
    "\n",
    "d.tables.Box\n",
    "d.tables.Port\n",
    "d.tables.OuterPort\n",
    "d.tables.Junction\n",
    "d.indices"
   ]
  },
  {
   "cell_type": "code",
   "execution_count": null,
   "metadata": {},
   "outputs": [],
   "source": [
    "#https://github.com/AlgebraicJulia/Catlab.jl/blob/cb2d9cbfcbd081fb1246313135619bf8852a0f9d/test/wiring_diagrams/Undirected.jl#L9\n",
    "using Catlab.CategoricalAlgebra.FinSets: FinFunction\n",
    "using Catlab.WiringDiagrams.UndirectedWiringDiagrams\n",
    "\n",
    "const UWD = UndirectedWiringDiagram\n",
    "\n",
    "# Imperative interface\n",
    "######################\n",
    "\n",
    "# Untyped wiring diagrams.\n",
    "d = UndirectedWiringDiagram(3)\n",
    "@test nboxes(d) == 0\n",
    "@test njunctions(d) == 0\n",
    "add_box!(d, 2); add_box!(d, 2); add_box!(d, 2)\n",
    "add_junctions!(d, 4)\n",
    "@test box(d, 1) == 1\n",
    "@test box(d, 1:4) == [1,1,2,2]\n",
    "@test nboxes(d) == 3\n",
    "@test njunctions(d) == 4\n",
    "@test collect(boxes(d)) == collect(1:3)\n",
    "@test collect(junctions(d)) == collect(1:4)\n",
    "@test collect(ports(d)) == collect(1:6)\n",
    "@test collect(ports(d, outer=true)) == collect(1:3)\n",
    "@test ports(d, outer_box(d)) == [1,2,3]\n",
    "@test ports.([d], boxes(d)) == [[1,2], [3,4], [5,6]]\n",
    "set_junction!(d, [1,3,5], 1:3)\n",
    "set_junction!(d, [2,4,6], 4)\n",
    "set_junction!(d, 1:3, 1:3, outer=true)\n",
    "@test junction(d, 1) == 1\n",
    "@test junction(d, 1, outer=true) == 1\n",
    "@test junction(d, [2,4,6]) == [4,4,4]\n",
    "@test ports_with_junction(d, 1) == [1]\n",
    "@test ports_with_junction(d, 1, outer=true) == [1]\n",
    "@test ports_with_junction(d, 4) == [2,4,6]\n",
    "\n",
    "# Typed wiring diagrams.\n",
    "d = UndirectedWiringDiagram([:X,:Y,:Z])\n",
    "add_box!(d, [:X,:W]); add_box!(d, [:Y,:W]); add_box!(d, [:Z,:W])\n",
    "add_junctions!(d, [:X,:Y,:Z,:W])\n",
    "@test port_type(d, 1) == :X\n",
    "@test port_type(d, [1,3,5]) == [:X,:Y,:Z]\n",
    "@test port_type(d, 3, outer=true) == :Z\n",
    "@test junction_type(d, 3) == :Z\n",
    "set_junction!(d, [1,3,5], 1:3)\n",
    "set_junction!(d, [2,4,6], 4)\n",
    "set_junction!(d, 1:3, 1:3, outer=true)\n",
    "@test junction(d, 1:6) == [1,4,2,4,3,4]\n",
    "@test junction(d, 1:3, outer=true) == [1,2,3]\n",
    "@test_throws ErrorException set_junction!(d, 1, 2)\n",
    "\n",
    "# Interface for ports that is relative to their boxes.\n",
    "d_previous = d\n",
    "d = UndirectedWiringDiagram([:X,:Y,:Z])\n",
    "add_box!(d, [:X,:W]); add_box!(d, [:Y,:W]); add_box!(d, [:Z,:W])\n",
    "@test port_type(d, (1,1)) == :X\n",
    "@test port_type(d, (2,1)) == :Y\n",
    "add_wires!(d, (i,1) => (outer_box(d),i) for i in 1:3)\n",
    "add_wire!(d, (1,2) => (2,2))\n",
    "add_wire!(d, (2,2) => (3,2))\n",
    "@test d == d_previous\n",
    "\n",
    "# Other constructors\n",
    "#-------------------\n",
    "\n",
    "# Singleton diagrams.\n",
    "d = UndirectedWiringDiagram([:X,:Y,:Z])\n",
    "add_box!(d, [:X,:Y,:Z])\n",
    "add_junctions!(d, [:X,:Y,:Z])\n",
    "set_junction!(d, 1:3); set_junction!(d, 1:3, outer=true)\n",
    "@test singleton_diagram(UWD, [:X,:Y,:Z]) == d\n",
    "\n",
    "# Diagrams from cospans.\n",
    "@test cospan_diagram(UWD, FinFunction(1:3), FinFunction(1:3), [:X,:Y,:Z]) ==\n",
    "  singleton_diagram(UWD, [:X,:Y,:Z])\n",
    "@test cospan_diagram(UWD, FinFunction(1:3), FinFunction(1:3)) ==\n",
    "  singleton_diagram(UWD, 3)\n",
    "\n",
    "d = UndirectedWiringDiagram(1)\n",
    "add_box!(d, 2); add_junctions!(d, 1)\n",
    "set_junction!(d, [1,1]); set_junction!(d, 1, outer=true)\n",
    "@test cospan_diagram(UWD, FinFunction([1,1]), FinFunction([1])) == d\n",
    "\n",
    "# Diagrams from functions: junctions only.\n",
    "d = UndirectedWiringDiagram(4)\n",
    "add_junctions!(d, 3)\n",
    "set_junction!(d, [1,2,2,3], outer=true)\n",
    "@test junction_diagram(UWD, FinFunction([1,2,2,3])) == d\n",
    "\n",
    "# Operadic interface\n",
    "####################\n",
    "\n",
    "f = UndirectedWiringDiagram(3)\n",
    "add_box!(f, 2); add_box!(f, 2); add_box!(f, 2)\n",
    "add_junctions!(f, 4)\n",
    "set_junction!(f, [1,4,2,4,3,4])\n",
    "set_junction!(f, 1:3, outer=true)\n",
    "\n",
    "g1 = UndirectedWiringDiagram(2)\n",
    "add_box!(g1, 1); add_box!(g1, 1)\n",
    "add_junctions!(g1, 2)\n",
    "set_junction!(g1, 1:2)\n",
    "set_junction!(g1, 1:2, outer=true)\n",
    "g2 = copy(g1)\n",
    "set_junction!(g2, 2:-1:1)\n",
    "\n",
    "h = UndirectedWiringDiagram(3)\n",
    "add_box!(h, 2); add_box!(h, 1); add_box!(h, 1); add_box!(h, 2)\n",
    "add_junctions!(h, 4)\n",
    "set_junction!(h, [1,4,4,2,3,4])\n",
    "set_junction!(h, 1:3, outer=true)\n",
    "@test ocompose(f,2,g2) == h\n",
    "@test ocompose(ocompose(f,1,g1),3,g2) == ocompose(ocompose(f,2,g2),1,g1)\n",
    "\n",
    "h = UndirectedWiringDiagram(3)\n",
    "for i in 1:6; add_box!(h, 1) end\n",
    "add_junctions!(h, 4)\n",
    "set_junction!(h, [1,4,4,2,3,4])\n",
    "set_junction!(h, 1:3, outer=true)\n",
    "@test ocompose(f, [g1,g2,g1]) == h"
   ]
  }
 ],
 "metadata": {
  "kernelspec": {
   "display_name": "Julia 1.5.0",
   "language": "julia",
   "name": "julia-1.5"
  },
  "language_info": {
   "file_extension": ".jl",
   "mimetype": "application/julia",
   "name": "julia",
   "version": "1.5.0"
  }
 },
 "nbformat": 4,
 "nbformat_minor": 4
}
