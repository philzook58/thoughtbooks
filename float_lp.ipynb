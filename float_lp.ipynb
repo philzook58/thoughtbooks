{
 "cells": [
  {
   "cell_type": "markdown",
   "metadata": {},
   "source": [
    "Floating point\n",
    "\n",
    "FPTaylor\n",
    "FPTuner \n",
    "\n",
    "https://dl.acm.org/doi/pdf/10.1145/3009837.3009846\n",
    "\n",
    "There is a model of floating point \n",
    "\n",
    "\n",
    "What everyone should know about floating point\n",
    "https://docs.oracle.com/cd/E19957-01/806-3568/ncg_goldberg.html\n",
    "\n",
    "\n",
    "http://lqchen.github.io/POPL19_FPrepair.pdf\n",
    "\n",
    "floating point error propagation kinds of feels pretty similar to a robust control problem.\n",
    " \n",
    "For fixed point it can be arranged such that\n",
    "x = f(x) + e\n",
    "where -1 <= e <= 1 \n",
    "\n",
    "Modelling in z3 vs modelling in coq. Seems like it'll be easier to \n",
    "Most things that'll be easy to get working in coq will be possible in z3\n",
    "\n",
    "\n",
    "\n",
    "\n",
    "\n",
    "\n",
    "Functional idfferentiation in sympy\n",
    "Derive \"all\" applications of derivatives to an expression.\n",
    "Reaplce df with uninterpeted function symbol sned over to z3.\n",
    "\n",
    "As I've sort of said before z3 + sympy + cvxpy gives you a shitload of methods.\n",
    "\n",
    "I guess we could at least confirm invariants this way?\n",
    "It's a weakening\n",
    "\n",
    "y(0) = 1\n",
    "y = y'\n",
    "\n",
    "\n",
    "Maybe + mean value theorem? (taylor theorem)\n",
    "\n",
    "ForAll( [x], Exists( [z], And(0 <= z <= x  , y(x) == y(0) + (x - 0) * f'( z ) )\n",
    "\n",
    "y(x) == y(0) + y'(0) * x + e\n",
    "\n",
    "\n",
    "The integral form + \n",
    "ForAll([x, z] ,   | y(x) - y(0) + x * f'(0) | <= f''(z)  * ( (x - 0)**3   )  ) \n",
    "\n",
    "x = y (1 + e) , |e| <= machine_eps\n",
    "\n",
    "\n",
    "\n",
    "But then what is it gonna do. It's almost certainly going to go into interval mode.\n",
    "\n",
    "\n",
    "d^n/dt (  (t - a)  )\n",
    "\n",
    "z3 is just as good at intervals as thine (probably).\n",
    "\n",
    "\n",
    "suppose f was built out of +++ *** and compose\n",
    "\n",
    "Then we could build the actual derivative expression and it would be kind of interesting.\n",
    "\n",
    "f = g(h())\n",
    "df = dg(h) * dh\n",
    "\n",
    "\n",
    "we haven't really eben constrained f to be continous\n",
    "\n",
    "f is a very syntactic thing.\n",
    "\n",
    "f(x) = df(x)\n",
    "f(x**2) = 2*x*df(x**2)\n",
    "f(x) = 2 * df(2 * x)\n",
    "\n",
    "\n",
    "are there enoguh facts we could throw in to teach z3 the shape of differentiation\n",
    "\n",
    "\n",
    "We could take the very fine precision simulation approach and search for the worst one, or prove that the worst one has an error now worse than x for all initial values.\n",
    "\n",
    "\n",
    "it seems like bounds of any kind would bootstrap us.\n",
    "I suppose the function interval method thing with picard iteration is giving us a self consistent bound.\n",
    "\n",
    "so maybe the goal is to derive some bound, any bound , from the differential equation.\n",
    "\n",
    "f(x) == f(0) + df(x) * x + r(x)\n",
    "\n",
    "\n",
    "\n",
    "Forall( z,  df(z)<= dfmax) , f(x) <= f(0) + dfmax * x\n"
   ]
  },
  {
   "cell_type": "code",
   "execution_count": 1,
   "metadata": {},
   "outputs": [],
   "source": [
    "from z3 import *"
   ]
  },
  {
   "cell_type": "code",
   "execution_count": 10,
   "metadata": {},
   "outputs": [],
   "source": [
    "f = Function(\"f\", RealSort(), RealSort())\n",
    "df = Function(\"df\", RealSort(), RealSort())\n",
    "\n",
    "s = Solver()\n",
    "x = Real(\"x\")\n",
    "z = Real(\"z\")\n",
    "s.add( ForAll([x],f(x) == df(x) ) ) # diff eq\n",
    "s.add(f(0) == 1) # initial condition\n",
    "\n",
    "# general statements about being differentiable\n",
    "# This is the mean value theorem\n",
    "s.add( ForAll([x, z] , Implies(  And([z <= x, 0 <= z, x >= 0]) ,  f(x) <= f(0) + df(z)*x ) ) )\n",
    "s.add( ForAll([x, z] , Implies(  And([z <= x, 0 <= z, x >= 0]) ,  f(x) <= f(0) + df(z)*x ) ) )\n",
    "s.add( ForAll([x, z] , f(x) <= f(0) + df(z)*x ) ) \n"
   ]
  },
  {
   "cell_type": "markdown",
   "metadata": {},
   "source": [
    "Fixed point\n",
    "\n",
    "Basically a fraction data type where numerator and denominator are of different type.\n",
    "They need some interconvertibility. b has to be turnable into n. This is why staging seems reasonable\n",
    "\n",
    "\n",
    "And then everything should be rounding also. This turns it into an interval data type.\n",
    "\n",
    "\n",
    "The errors should maybe be cvxpy variables a la fptaylor\n",
    "\n",
    "\n",
    "Why do we have to round?\n",
    "because the numerator should be nearly full always. it's 1023918249194102l x b\n",
    "No, that's true for floating point. For fixed point we want to keep a lot of buffer.\n",
    "\n",
    "forward and backward error analysis?\n",
    "\n",
    "\n",
    "staging is difference between writing forall and fun?\n",
    "\n",
    "floting point error on an ode\n",
    "A linear error term on linear dynamics can be embedded in an LP to find the worst case\n",
    "\n",
    "\n",
    "\n",
    "Going back to the simplest idea:\n",
    "If you want to know is a simulation is accurate, what do you do? You fiddle with dt a bit see if it matters much.\n",
    "\n",
    "There is no well posed physical process currently studied by science that depends on time details  occurring at dt = planck time.\n",
    "\n",
    "Ok but that does leave the possibility that your engineering system is not well posed.\n",
    "\n",
    "\n",
    "\n",
    "\n"
   ]
  },
  {
   "cell_type": "code",
   "execution_count": null,
   "metadata": {},
   "outputs": [],
   "source": [
    "import sympy as sy\n",
    "import cvxpy as cvx\n",
    "\n",
    "class Fixed():\n",
    "    def __init__(n, b):\n",
    "        self.n = n\n",
    "        self.b = b\n",
    "    def __add__(self,x)\n",
    "        return Fixed( self.n * x.b + x.n * self.b , self.b * x.b  )\n",
    "    def __mul__(self,x):\n",
    "        return Fixed( self.n * x.n , self.b * x.b  )\n",
    "    def __div__(self,x):\n",
    "        \n",
    "        return Fixed(  self.n / ,   )\n",
    "    def apply(self,f):\n",
    "        df = diff(f,x)\n",
    "        lambdify(f,x)()\n",
    "        max(lambdify(df,x))\n",
    "        extrema = solveset(df, x)\n",
    "        fmax, xmax = max( [( eval(f(x))() ) for x in extrema]   )\n",
    "        \n",
    "    "
   ]
  },
  {
   "cell_type": "code",
   "execution_count": null,
   "metadata": {},
   "outputs": [],
   "source": [
    "class Float():\n",
    "    def __init__(f):\n",
    "        self.e = Variable()\n",
    "        self.x = f * (1 + self.e)\n",
    "        eps <= e <= eps\n",
    "    def __add__(self,b)\n",
    "        return Float( self.x + b.x )\n",
    "    def __mul__(self,x):\n",
    "        return Fixed( self.n * x.n , self.b * x.b  )\n",
    "    def __div__(self,x):\n",
    "        \n",
    "        return Fixed(  self.n / ,   )"
   ]
  },
  {
   "cell_type": "code",
   "execution_count": 24,
   "metadata": {},
   "outputs": [
    {
     "data": {
      "text/plain": [
       "3*pi"
      ]
     },
     "execution_count": 24,
     "metadata": {},
     "output_type": "execute_result"
    }
   ],
   "source": [
    "import sympy as sy\n",
    "\n",
    "x = sy.symbols(\"x\")\n",
    "sol = sy.solveset(sy.sin(x  ), x)\n",
    "sol.intersect(sy.Interval(0,10))"
   ]
  },
  {
   "cell_type": "code",
   "execution_count": 21,
   "metadata": {},
   "outputs": [
    {
     "data": {
      "text/plain": [
       "x > 10"
      ]
     },
     "execution_count": 21,
     "metadata": {},
     "output_type": "execute_result"
    }
   ],
   "source": [
    "x > 10"
   ]
  },
  {
   "cell_type": "code",
   "execution_count": null,
   "metadata": {},
   "outputs": [],
   "source": [
    "e = cvx.Variable()\n",
    "z = cvx.Variable(integer=True)\n",
    "min_int <= z <= max_int\n",
    "\n",
    "z == (x * y + e) / bz"
   ]
  },
  {
   "cell_type": "code",
   "execution_count": null,
   "metadata": {},
   "outputs": [],
   "source": [
    "3 / 128   <= x / 256"
   ]
  },
  {
   "cell_type": "code",
   "execution_count": null,
   "metadata": {},
   "outputs": [],
   "source": [
    "3 * 256  <= 128  * x"
   ]
  },
  {
   "cell_type": "code",
   "execution_count": 26,
   "metadata": {},
   "outputs": [
    {
     "data": {
      "text/plain": [
       "6"
      ]
     },
     "execution_count": 26,
     "metadata": {},
     "output_type": "execute_result"
    }
   ],
   "source": [
    "3 * 256  //  127"
   ]
  },
  {
   "cell_type": "code",
   "execution_count": 30,
   "metadata": {},
   "outputs": [
    {
     "data": {
      "text/plain": [
       "False"
      ]
     },
     "execution_count": 30,
     "metadata": {},
     "output_type": "execute_result"
    }
   ],
   "source": [
    "(3 / 127) <= (6 / 256)"
   ]
  },
  {
   "cell_type": "code",
   "execution_count": 28,
   "metadata": {},
   "outputs": [
    {
     "data": {
      "text/plain": [
       "0.023622047244094488"
      ]
     },
     "execution_count": 28,
     "metadata": {},
     "output_type": "execute_result"
    }
   ],
   "source": []
  },
  {
   "cell_type": "code",
   "execution_count": 29,
   "metadata": {},
   "outputs": [
    {
     "data": {
      "text/plain": [
       "0"
      ]
     },
     "execution_count": 29,
     "metadata": {},
     "output_type": "execute_result"
    }
   ],
   "source": [
    "2//3"
   ]
  },
  {
   "cell_type": "code",
   "execution_count": null,
   "metadata": {},
   "outputs": [],
   "source": []
  }
 ],
 "metadata": {
  "kernelspec": {
   "display_name": "Python 3",
   "language": "python",
   "name": "python3"
  },
  "language_info": {
   "codemirror_mode": {
    "name": "ipython",
    "version": 3
   },
   "file_extension": ".py",
   "mimetype": "text/x-python",
   "name": "python",
   "nbconvert_exporter": "python",
   "pygments_lexer": "ipython3",
   "version": "3.6.9"
  }
 },
 "nbformat": 4,
 "nbformat_minor": 4
}
