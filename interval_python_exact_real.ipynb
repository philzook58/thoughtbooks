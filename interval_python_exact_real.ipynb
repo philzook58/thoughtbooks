{
 "cells": [
  {
   "cell_type": "code",
   "execution_count": 1,
   "metadata": {},
   "outputs": [],
   "source": [
    "from pyibex import * "
   ]
  },
  {
   "cell_type": "code",
   "execution_count": 25,
   "metadata": {},
   "outputs": [
    {
     "ename": "TypeError",
     "evalue": "index(): incompatible function arguments. The following argument types are supported:\n    1. (self: tubex_lib.tube.Tube, slice: tubex::Slice) -> int\n\nInvoked with: Tube [0, 10]↦([0.9999999999999998, 22026.46579480673]), 100 slices",
     "output_type": "error",
     "traceback": [
      "\u001b[0;31m---------------------------------------------------------------------------\u001b[0m",
      "\u001b[0;31mTypeError\u001b[0m                                 Traceback (most recent call last)",
      "\u001b[0;32m<ipython-input-25-4201fc1263d9>\u001b[0m in \u001b[0;36m<module>\u001b[0;34m\u001b[0m\n\u001b[1;32m     14\u001b[0m \u001b[0mtraj\u001b[0m \u001b[0;34m=\u001b[0m \u001b[0mTrajectoryVector\u001b[0m\u001b[0;34m(\u001b[0m\u001b[0mtdomain\u001b[0m\u001b[0;34m,\u001b[0m \u001b[0mTFunction\u001b[0m\u001b[0;34m(\u001b[0m\u001b[0;34m\"exp(t)\"\u001b[0m\u001b[0;34m)\u001b[0m\u001b[0;34m)\u001b[0m\u001b[0;34m\u001b[0m\u001b[0;34m\u001b[0m\u001b[0m\n\u001b[1;32m     15\u001b[0m \u001b[0mx8\u001b[0m \u001b[0;34m=\u001b[0m \u001b[0mTube\u001b[0m\u001b[0;34m(\u001b[0m\u001b[0mtraj\u001b[0m\u001b[0;34m[\u001b[0m\u001b[0;36m0\u001b[0m\u001b[0;34m]\u001b[0m\u001b[0;34m,\u001b[0m \u001b[0mdt\u001b[0m\u001b[0;34m)\u001b[0m\u001b[0;34m\u001b[0m\u001b[0;34m\u001b[0m\u001b[0m\n\u001b[0;32m---> 16\u001b[0;31m \u001b[0mx8\u001b[0m\u001b[0;34m.\u001b[0m\u001b[0mindex\u001b[0m\u001b[0;34m(\u001b[0m\u001b[0;34m)\u001b[0m\u001b[0;34m\u001b[0m\u001b[0;34m\u001b[0m\u001b[0m\n\u001b[0m",
      "\u001b[0;31mTypeError\u001b[0m: index(): incompatible function arguments. The following argument types are supported:\n    1. (self: tubex_lib.tube.Tube, slice: tubex::Slice) -> int\n\nInvoked with: Tube [0, 10]↦([0.9999999999999998, 22026.46579480673]), 100 slices"
     ]
    }
   ],
   "source": [
    "from pyibex import *\n",
    "from tubex_lib import *\n",
    "tdomain = Interval(0,10)\n",
    "x1 = Tube(tdomain)\n",
    "dir(x1)\n",
    "# 100-slices tubes:\n",
    "dt = 0.1\n",
    "x3 = Tube(tdomain, dt, Interval(0,2))            # [0,10]→[0,2]\n",
    "\n",
    "traj = TrajectoryVector(tdomain, TFunction(\"(sin(t) ; cos(t) ; cos(t)+t/10)\"))\n",
    "\n",
    "x8 = Tube(traj[0], dt)           # 100 slices tube enclosing sin(t)\n",
    "\n",
    "traj = TrajectoryVector(tdomain, TFunction(\"exp(t)\"))\n",
    "x8 = Tube(traj[0], dt)    \n",
    "x8.index()"
   ]
  },
  {
   "cell_type": "code",
   "execution_count": 41,
   "metadata": {},
   "outputs": [
    {
     "data": {
      "text/plain": [
       "([0, 0.5], [0.5, 1])"
      ]
     },
     "execution_count": 41,
     "metadata": {},
     "output_type": "execute_result"
    }
   ],
   "source": [
    "#dir(x8.slice())\n",
    "dir(Interval(0,1))\n",
    "Interval(0,1).lb()\n",
    "x = Interval(0,1)\n",
    "dir(x)\n",
    "2 in x\n",
    "x.bisect()"
   ]
  },
  {
   "cell_type": "code",
   "execution_count": 73,
   "metadata": {},
   "outputs": [
    {
     "data": {
      "text/plain": [
       "[-inf, 0]"
      ]
     },
     "execution_count": 73,
     "metadata": {},
     "output_type": "execute_result"
    }
   ],
   "source": [
    "Interval(Interval(-oo,oo).lb(),0)"
   ]
  },
  {
   "cell_type": "markdown",
   "metadata": {},
   "source": [
    "So what's my problem:\n",
    "The tube interface isn't pythonic and doiesn't give me enoughb access.\n",
    "\n",
    "And rolling my own is...?\n",
    "Well I don't get the contractors by default.\n",
    "\n",
    "If I'm just getting Intervals, maybe i should work in julia where people might care\n",
    "But the bidirectional yield beavior of python was going to be cute.\n",
    "\n",
    "\n",
    "struct BiChannel{A,B}\n",
    "    \n",
    "end\n",
    "\n",
    "function refiner(c1)\n",
    "    recv = Channel()\n",
    "    send = Channel() do send\n",
    "        put!(send, constraints)\n",
    "        model = take!(recv)\n",
    "    end\n",
    "    (send, recv)\n",
    "end\n",
    "\n",
    "put!(c{A,B}, x::A) = \n",
    "put!(c{A,B})\n",
    "\n",
    "It's not cute anymore\n",
    "\n",
    "\n",
    "\n",
    "f(x0,t) # an implicit function of the initial condition and time\n",
    "\n",
    "if linear we can seperate out initial condition dependence:\n",
    "x0 f_1(t) + f_2(t)\n",
    "\n",
    "\n",
    "\n",
    "A bounded model check of a hybrid system should be paramterized by number of mode shifts,\n",
    "not by \"dt\"?\n",
    "\n",
    "\n",
    "Could I use the error mechabism?\n",
    "Throw a continuation value.\n",
    "\n",
    "throw (c -> \n",
    "\n",
    ")\n",
    "\n",
    "Not super sure this would work\n",
    "\n",
    "\n",
    "Ok we don't have to go for such a sophisticated refinement method.\n",
    "We could just check if in tube. If not, recompute at dt/2\n"
   ]
  },
  {
   "cell_type": "code",
   "execution_count": 86,
   "metadata": {},
   "outputs": [
    {
     "data": {
      "text/plain": [
       "False"
      ]
     },
     "execution_count": 86,
     "metadata": {},
     "output_type": "execute_result"
    }
   ],
   "source": [
    "dir(Interval(-oo,oo))\n",
    "Interval(0,1).is_unbounded()"
   ]
  },
  {
   "cell_type": "code",
   "execution_count": null,
   "metadata": {},
   "outputs": [],
   "source": [
    "\n",
    "def refine_int(i,t):\n",
    "    if i.ub() == Inf and i.lb() == -Inf:\n",
    "        if i.ub() == Inf and i.lb() == -Inf:\n",
    "        \n",
    "    = Interval(i.lb, t), Interval(t, i.ub)\n",
    "    "
   ]
  },
  {
   "cell_type": "code",
   "execution_count": 2,
   "metadata": {},
   "outputs": [],
   "source": [
    "class MyTube():\n",
    "    def __init__(self, f):\n",
    "        self.ts = [Interval(-oo,oo)] #[Interval(-oo,-10), Interval(-10,10) , Interval(10,oo)] #[Interval(-oo,oo)]#\n",
    "        self.f = f\n",
    "        self.ys = [f(t) for t in self.ts]\n",
    "    def refine(self,t):\n",
    "        fresh = []\n",
    "        for i in range(len(self.ts)):\n",
    "            if t in self.ts[i]:\n",
    "\n",
    "                # rather than bisect use refinement exactly at.\n",
    "                # hmm. what about a repeated refinement?\n",
    "                # I guess we should bisect and sample\n",
    "                # or we should only sample when semi infinite refinement\n",
    "                tint = self.ts[i]\n",
    "                #print(t, tint, t in tint)\n",
    "                if tint.is_unbounded():\n",
    "                    lt,ut =  Interval(tint.lb(), t), Interval(t, tint.ub())\n",
    "                else:\n",
    "                    lt,ut = tint.bisect()\n",
    "                \n",
    "                self.ts[i] = lt\n",
    "                y = self.f(lt)\n",
    "                self.ys[i] = y\n",
    "                fresh.append((lt,y))\n",
    "                \n",
    "                self.ts.append(ut)\n",
    "                y = self.f(ut)\n",
    "                self.ys.append(y)\n",
    "                fresh.append((ut,y))\n",
    "        return fresh\n",
    "    def __call__(self,t):\n",
    "        for tt,y in zip(self.ts,self.ys):\n",
    "            if t in tt:\n",
    "                return y \n",
    "    def __repr__(self):\n",
    "        return repr(list(zip(self.ts, self.ys )))\n"
   ]
  },
  {
   "cell_type": "code",
   "execution_count": 170,
   "metadata": {},
   "outputs": [
    {
     "name": "stdout",
     "output_type": "stream",
     "text": [
      "0 [-10, 10] True\n",
      "1 [0, 10] True\n",
      "0.75 [0, 5] True\n"
     ]
    },
    {
     "data": {
      "text/plain": [
       "[([-inf, -10], [0, 4.539992976248487e-05]), ([-10, 0], [4.539992976248484e-05, 1.000000000000001]), ([10, inf], [22026.46579480671, inf]), ([0, 2.5], [0.9999999999999998, 12.18249396070348]), ([5, 10], [148.4131591025765, 22026.46579480673]), ([2.5, 5], [12.18249396070347, 148.4131591025767])]"
      ]
     },
     "execution_count": 170,
     "metadata": {},
     "output_type": "execute_result"
    }
   ],
   "source": [
    "texp = MyTube(exp)\n",
    "texp.refine(0)\n",
    "texp.refine(1)\n",
    "texp.refine(0.75)\n",
    "#texp(1)\n",
    "texp\n",
    "\n",
    "\n",
    "\n"
   ]
  },
  {
   "cell_type": "code",
   "execution_count": 171,
   "metadata": {},
   "outputs": [
    {
     "data": {
      "text/plain": [
       "True"
      ]
     },
     "execution_count": 171,
     "metadata": {},
     "output_type": "execute_result"
    }
   ],
   "source": [
    "Interval(-oo,oo).lb() == -oo\n"
   ]
  },
  {
   "cell_type": "code",
   "execution_count": 3,
   "metadata": {},
   "outputs": [],
   "source": [
    "def z3_in(x, i):\n",
    "    # check for infinities\n",
    "    c = []\n",
    "    if i.ub() != oo:\n",
    "        c += [x <= i.ub()]\n",
    "    if i.lb() != -oo:\n",
    "        c += [ i.lb() <= x]\n",
    "    return And(c)\n",
    "\n",
    "def z3_exp(x):\n",
    "    fexp = Function(\"exp\", RealSort(), RealSort())\n",
    "    def res():\n",
    "        tube = MyTube(exp)\n",
    "        m = yield [ fexp(x) >= 1 + x, fexp(x) >= 0 ]\n",
    "        while True:\n",
    "            #print(fexp(x))\n",
    "            #print(dir(m.eval(fexp(x))))\n",
    "            #if m.eval(fexp(x)) in tube(m.eval(x)):\n",
    "            #    c = []\n",
    "            #else:\n",
    "            x0 = m.eval(x).numerator_as_long() / m.eval(x).denominator_as_long() \n",
    "            #print(x0)\n",
    "            f = tube.refine(x0)\n",
    "            print(tube)\n",
    "            #print(f)\n",
    "            c = [ Implies( z3_in(x,t) ,  z3_in(fexp(x), y)) for t, y in f]\n",
    "            m = yield c\n",
    "    return fexp(x), res\n",
    "\n",
    "def z3_tube(name, x, f):\n",
    "    f_z3 = Function(name, Realsort(), Realsort())\n",
    "    def res():\n",
    "        tube = MyTube(f)\n",
    "        m = yield [ Implies( z3_in(x,t) ,  z3_in(fexp(x), y)) for t, y in tube]\n",
    "        while True:\n",
    "            if m[f_z3(x)] in tube(m[x]):\n",
    "                c = []\n",
    "            else:\n",
    "                f = tube.refine(m[x])\n",
    "                c = [ Implies( z3_in(x,t) ,  z3_in(fexp(x), y)) for t, y in f]\n",
    "            m = yield c\n",
    "            \n",
    "    return f_z3(x), res\n",
    "    "
   ]
  },
  {
   "cell_type": "code",
   "execution_count": 15,
   "metadata": {},
   "outputs": [
    {
     "name": "stdout",
     "output_type": "stream",
     "text": [
      "[([-inf, 1], [0, 2.718281828459046]), ([1, inf], [2.718281828459044, inf])]\n",
      "proved\n",
      "1\n"
     ]
    }
   ],
   "source": [
    "from z3 import *\n",
    "x = Real(\"x\")\n",
    "\n",
    "y, c = z3_exp(x)\n",
    "\n",
    "c = c()\n",
    "s = Solver()\n",
    "s.add(next(c))\n",
    "s.add(Not( Implies( x >= 1, y >= 2.7 )))\n",
    "s.check()\n",
    "m = s.model()\n",
    "for i in range(7):\n",
    "     if s.check() == unsat:\n",
    "            print(\"proved\")\n",
    "            print(i)\n",
    "            break\n",
    "     m = s.model()\n",
    "     newcon = c.send(m) \n",
    "     s.add( newcon )\n",
    "\n"
   ]
  },
  {
   "cell_type": "code",
   "execution_count": 10,
   "metadata": {},
   "outputs": [
    {
     "name": "stdout",
     "output_type": "stream",
     "text": [
      "unsat\n"
     ]
    },
    {
     "ename": "Z3Exception",
     "evalue": "model is not available",
     "output_type": "error",
     "traceback": [
      "\u001b[0;31m---------------------------------------------------------------------------\u001b[0m",
      "\u001b[0;31mZ3Exception\u001b[0m                               Traceback (most recent call last)",
      "\u001b[0;32m~/.local/lib/python3.8/site-packages/z3/z3.py\u001b[0m in \u001b[0;36mmodel\u001b[0;34m(self)\u001b[0m\n\u001b[1;32m   6714\u001b[0m         \u001b[0;32mtry\u001b[0m\u001b[0;34m:\u001b[0m\u001b[0;34m\u001b[0m\u001b[0;34m\u001b[0m\u001b[0m\n\u001b[0;32m-> 6715\u001b[0;31m             \u001b[0;32mreturn\u001b[0m \u001b[0mModelRef\u001b[0m\u001b[0;34m(\u001b[0m\u001b[0mZ3_solver_get_model\u001b[0m\u001b[0;34m(\u001b[0m\u001b[0mself\u001b[0m\u001b[0;34m.\u001b[0m\u001b[0mctx\u001b[0m\u001b[0;34m.\u001b[0m\u001b[0mref\u001b[0m\u001b[0;34m(\u001b[0m\u001b[0;34m)\u001b[0m\u001b[0;34m,\u001b[0m \u001b[0mself\u001b[0m\u001b[0;34m.\u001b[0m\u001b[0msolver\u001b[0m\u001b[0;34m)\u001b[0m\u001b[0;34m,\u001b[0m \u001b[0mself\u001b[0m\u001b[0;34m.\u001b[0m\u001b[0mctx\u001b[0m\u001b[0;34m)\u001b[0m\u001b[0;34m\u001b[0m\u001b[0;34m\u001b[0m\u001b[0m\n\u001b[0m\u001b[1;32m   6716\u001b[0m         \u001b[0;32mexcept\u001b[0m \u001b[0mZ3Exception\u001b[0m\u001b[0;34m:\u001b[0m\u001b[0;34m\u001b[0m\u001b[0;34m\u001b[0m\u001b[0m\n",
      "\u001b[0;32m~/.local/lib/python3.8/site-packages/z3/z3core.py\u001b[0m in \u001b[0;36mZ3_solver_get_model\u001b[0;34m(a0, a1, _elems)\u001b[0m\n\u001b[1;32m   3848\u001b[0m   \u001b[0mr\u001b[0m \u001b[0;34m=\u001b[0m \u001b[0m_elems\u001b[0m\u001b[0;34m.\u001b[0m\u001b[0mf\u001b[0m\u001b[0;34m(\u001b[0m\u001b[0ma0\u001b[0m\u001b[0;34m,\u001b[0m \u001b[0ma1\u001b[0m\u001b[0;34m)\u001b[0m\u001b[0;34m\u001b[0m\u001b[0;34m\u001b[0m\u001b[0m\n\u001b[0;32m-> 3849\u001b[0;31m   \u001b[0m_elems\u001b[0m\u001b[0;34m.\u001b[0m\u001b[0mCheck\u001b[0m\u001b[0;34m(\u001b[0m\u001b[0ma0\u001b[0m\u001b[0;34m)\u001b[0m\u001b[0;34m\u001b[0m\u001b[0;34m\u001b[0m\u001b[0m\n\u001b[0m\u001b[1;32m   3850\u001b[0m   \u001b[0;32mreturn\u001b[0m \u001b[0mr\u001b[0m\u001b[0;34m\u001b[0m\u001b[0;34m\u001b[0m\u001b[0m\n",
      "\u001b[0;32m~/.local/lib/python3.8/site-packages/z3/z3core.py\u001b[0m in \u001b[0;36mCheck\u001b[0;34m(self, ctx)\u001b[0m\n\u001b[1;32m   1419\u001b[0m     \u001b[0;32mif\u001b[0m \u001b[0merr\u001b[0m \u001b[0;34m!=\u001b[0m \u001b[0mself\u001b[0m\u001b[0;34m.\u001b[0m\u001b[0mOK\u001b[0m\u001b[0;34m:\u001b[0m\u001b[0;34m\u001b[0m\u001b[0;34m\u001b[0m\u001b[0m\n\u001b[0;32m-> 1420\u001b[0;31m         \u001b[0;32mraise\u001b[0m \u001b[0mself\u001b[0m\u001b[0;34m.\u001b[0m\u001b[0mException\u001b[0m\u001b[0;34m(\u001b[0m\u001b[0mself\u001b[0m\u001b[0;34m.\u001b[0m\u001b[0mget_error_message\u001b[0m\u001b[0;34m(\u001b[0m\u001b[0mctx\u001b[0m\u001b[0;34m,\u001b[0m \u001b[0merr\u001b[0m\u001b[0;34m)\u001b[0m\u001b[0;34m)\u001b[0m\u001b[0;34m\u001b[0m\u001b[0;34m\u001b[0m\u001b[0m\n\u001b[0m\u001b[1;32m   1421\u001b[0m \u001b[0;34m\u001b[0m\u001b[0m\n",
      "\u001b[0;31mZ3Exception\u001b[0m: b'there is no current model'",
      "\nDuring handling of the above exception, another exception occurred:\n",
      "\u001b[0;31mZ3Exception\u001b[0m                               Traceback (most recent call last)",
      "\u001b[0;32m<ipython-input-10-b451c3ce97e8>\u001b[0m in \u001b[0;36m<module>\u001b[0;34m\u001b[0m\n\u001b[1;32m      9\u001b[0m \u001b[0ms\u001b[0m\u001b[0;34m.\u001b[0m\u001b[0madd\u001b[0m\u001b[0;34m(\u001b[0m \u001b[0mx\u001b[0m \u001b[0;34m>=\u001b[0m \u001b[0my\u001b[0m \u001b[0;34m)\u001b[0m\u001b[0;34m\u001b[0m\u001b[0;34m\u001b[0m\u001b[0m\n\u001b[1;32m     10\u001b[0m \u001b[0mprint\u001b[0m\u001b[0;34m(\u001b[0m\u001b[0ms\u001b[0m\u001b[0;34m.\u001b[0m\u001b[0mcheck\u001b[0m\u001b[0;34m(\u001b[0m\u001b[0;34m)\u001b[0m\u001b[0;34m)\u001b[0m\u001b[0;34m\u001b[0m\u001b[0;34m\u001b[0m\u001b[0m\n\u001b[0;32m---> 11\u001b[0;31m \u001b[0mm\u001b[0m \u001b[0;34m=\u001b[0m \u001b[0ms\u001b[0m\u001b[0;34m.\u001b[0m\u001b[0mmodel\u001b[0m\u001b[0;34m(\u001b[0m\u001b[0;34m)\u001b[0m\u001b[0;34m\u001b[0m\u001b[0;34m\u001b[0m\u001b[0m\n\u001b[0m\u001b[1;32m     12\u001b[0m \u001b[0mprint\u001b[0m\u001b[0;34m(\u001b[0m\u001b[0mm\u001b[0m\u001b[0;34m.\u001b[0m\u001b[0meval\u001b[0m\u001b[0;34m(\u001b[0m\u001b[0mx\u001b[0m\u001b[0;34m)\u001b[0m\u001b[0;34m.\u001b[0m\u001b[0mas_decimal\u001b[0m\u001b[0;34m(\u001b[0m\u001b[0;36m10\u001b[0m\u001b[0;34m)\u001b[0m\u001b[0;34m)\u001b[0m\u001b[0;34m\u001b[0m\u001b[0;34m\u001b[0m\u001b[0m\n\u001b[1;32m     13\u001b[0m \u001b[0;32mfor\u001b[0m \u001b[0mi\u001b[0m \u001b[0;32min\u001b[0m \u001b[0mrange\u001b[0m\u001b[0;34m(\u001b[0m\u001b[0;36m11\u001b[0m\u001b[0;34m)\u001b[0m\u001b[0;34m:\u001b[0m\u001b[0;34m\u001b[0m\u001b[0;34m\u001b[0m\u001b[0m\n",
      "\u001b[0;32m~/.local/lib/python3.8/site-packages/z3/z3.py\u001b[0m in \u001b[0;36mmodel\u001b[0;34m(self)\u001b[0m\n\u001b[1;32m   6715\u001b[0m             \u001b[0;32mreturn\u001b[0m \u001b[0mModelRef\u001b[0m\u001b[0;34m(\u001b[0m\u001b[0mZ3_solver_get_model\u001b[0m\u001b[0;34m(\u001b[0m\u001b[0mself\u001b[0m\u001b[0;34m.\u001b[0m\u001b[0mctx\u001b[0m\u001b[0;34m.\u001b[0m\u001b[0mref\u001b[0m\u001b[0;34m(\u001b[0m\u001b[0;34m)\u001b[0m\u001b[0;34m,\u001b[0m \u001b[0mself\u001b[0m\u001b[0;34m.\u001b[0m\u001b[0msolver\u001b[0m\u001b[0;34m)\u001b[0m\u001b[0;34m,\u001b[0m \u001b[0mself\u001b[0m\u001b[0;34m.\u001b[0m\u001b[0mctx\u001b[0m\u001b[0;34m)\u001b[0m\u001b[0;34m\u001b[0m\u001b[0;34m\u001b[0m\u001b[0m\n\u001b[1;32m   6716\u001b[0m         \u001b[0;32mexcept\u001b[0m \u001b[0mZ3Exception\u001b[0m\u001b[0;34m:\u001b[0m\u001b[0;34m\u001b[0m\u001b[0;34m\u001b[0m\u001b[0m\n\u001b[0;32m-> 6717\u001b[0;31m             \u001b[0;32mraise\u001b[0m \u001b[0mZ3Exception\u001b[0m\u001b[0;34m(\u001b[0m\u001b[0;34m\"model is not available\"\u001b[0m\u001b[0;34m)\u001b[0m\u001b[0;34m\u001b[0m\u001b[0;34m\u001b[0m\u001b[0m\n\u001b[0m\u001b[1;32m   6718\u001b[0m \u001b[0;34m\u001b[0m\u001b[0m\n\u001b[1;32m   6719\u001b[0m     \u001b[0;32mdef\u001b[0m \u001b[0mimport_model_converter\u001b[0m\u001b[0;34m(\u001b[0m\u001b[0mself\u001b[0m\u001b[0;34m,\u001b[0m \u001b[0mother\u001b[0m\u001b[0;34m)\u001b[0m\u001b[0;34m:\u001b[0m\u001b[0;34m\u001b[0m\u001b[0;34m\u001b[0m\u001b[0m\n",
      "\u001b[0;31mZ3Exception\u001b[0m: model is not available"
     ]
    }
   ],
   "source": [
    "from z3 import *\n",
    "x = Real(\"x\")\n",
    "\n",
    "y, c = z3_exp(x)\n",
    "\n",
    "c = c()\n",
    "s = Solver()\n",
    "s.add(next(c))\n",
    "s.add( x >= y )\n",
    "print(s.check())\n",
    "m = s.model()\n",
    "print(m.eval(x).as_decimal(10))\n",
    "for i in range(11):\n",
    "     if s.check() == unsat:\n",
    "            print(\"proved\")\n",
    "            break\n",
    "     m = s.model()\n",
    "     print(m[x].as_decimal(10))\n",
    "     #print(dir(m))\n",
    "     newcon = c.send(m) \n",
    "     print(newcon)\n",
    "     #print(newcon)\n",
    "     s.add( newcon )"
   ]
  },
  {
   "cell_type": "code",
   "execution_count": 112,
   "metadata": {},
   "outputs": [
    {
     "data": {
      "text/plain": [
       "2.7182818284590455"
      ]
     },
     "execution_count": 112,
     "metadata": {},
     "output_type": "execute_result"
    }
   ],
   "source": [
    "import numpy as np\n",
    "np.exp(1)"
   ]
  },
  {
   "cell_type": "code",
   "execution_count": null,
   "metadata": {},
   "outputs": [],
   "source": [
    "class MyTube():\n",
    "    def __init__(self):\n",
    "        self.ts = np.linspace(0,1,10)\n",
    "        self.intts = [ Interval(i,j) for i,j in  zip(self.ts[:-1], self.ts[1:])]\n",
    "        self.ints = [ exp( ) for i in  self.intts[] ]\n",
    "    \n",
    "    def refine(self,t):\n",
    "        for ind in range( len(self.ints) ):\n",
    "            i = self.intts[ind]\n",
    "            fresh = []\n",
    "            if t in i:\n",
    "                x,y = i.bisect()\n",
    "                self.intts[ind] = x\n",
    "                self.ints[ind] = exp(x)\n",
    "                fresh.append( (x,exp(x)))\n",
    "                \n",
    "                self.intts.append(y)\n",
    "                self.ints.append(exp(y))\n",
    "                fresh.append( (y,exp(y))\n",
    "        return fresh\n",
    "        \n",
    "    def \n",
    "        '''\n",
    "                upper = len(self.intts) \n",
    "        lower = 0\n",
    "        while True\n",
    "            ind = (upper + lower) / 2\n",
    "            i = self.intts[ind]\n",
    "            if t in i:\n",
    "                break\n",
    "            elif t < ind:\n",
    "                upper = ind\n",
    "            elif t > ind:\n",
    "                lower = ind\n",
    "        '''\n",
    "        \n",
    "                \n",
    "                \n",
    "            "
   ]
  },
  {
   "cell_type": "markdown",
   "metadata": {},
   "source": [
    "\n",
    "\n",
    "\n",
    "\n",
    "Move my sights from building the bounded differential equation bound to mewrely checking it.\n",
    "\n",
    "Given a tube, what conditions \n",
    "x <= Lx is the condition I think on the tube x.\n",
    "Ix = y injection into the domain of Sets of trajectories\n",
    "Ay = x the hull into x\n",
    "\n",
    "y <= IAy\n",
    "AIx <= x\n",
    "\n",
    "galois connection\n",
    "Ay <= x  <->  y <= Ix\n",
    "\n",
    "\n",
    "x <= Lx\n",
    "\n",
    "L is monotonic, but it is not necessarily contractive.\n",
    "L is derived from K.\n",
    "L = AKI\n",
    "\n",
    "\n",
    "\n",
    "\n",
    "in what sense does it containt\n",
    "\n",
    "\n",
    "\n",
    "\n"
   ]
  },
  {
   "cell_type": "markdown",
   "metadata": {},
   "source": [
    "What is an interval relation?\n",
    "A pair of functions to :: I^m -> I^n, from :: I^n -> I^m\n",
    "With consistnency conditions. to . from <= id   and from . to <= id\n",
    "\n",
    "forall x. to(from(x)) <= x   is what that means\n",
    "contractive in both directions.\n",
    "Well they should both be monotonic functions anyhow.\n",
    "\n",
    "There is an ordering relation on intervals. Set inclusion\n",
    "\n",
    "Intervals are a lattice.\n",
    "\n",
    "In categorical terminology then, to and from are functors.\n",
    "\n",
    "\n",
    "\n",
    "https://arxiv.org/pdf/1404.7171.pdf dreal paper descrbing their thing\n",
    "\n",
    "\n",
    "I don't quite understand where people put their boot strap to the continuum\n",
    "\n",
    "\n",
    "\n",
    "https://www.ensta-bretagne.fr/jaulin/paper_chabert_quimper.pdf constractor programming\n"
   ]
  },
  {
   "cell_type": "code",
   "execution_count": 239,
   "metadata": {},
   "outputs": [
    {
     "data": {
      "text/plain": [
       "(<1, 1> ; <2, 2> ; <3, 3>)"
      ]
     },
     "execution_count": 239,
     "metadata": {},
     "output_type": "execute_result"
    }
   ],
   "source": [
    "Interval.EMPTY_SET\n",
    "Interval.ALL_REALS\n",
    "Interval(-oo,oo)\n",
    "Interval()\n",
    "Interval(-2,3)\n",
    "IntervalVector(2,[1,3])\n",
    "IntervalVector([1,2,3])"
   ]
  },
  {
   "cell_type": "code",
   "execution_count": 241,
   "metadata": {},
   "outputs": [
    {
     "data": {
      "text/plain": [
       "['ALL_REALS',\n",
       " 'EMPTY_SET',\n",
       " 'HALF_PI',\n",
       " 'NEG_REALS',\n",
       " 'ONE',\n",
       " 'PI',\n",
       " 'POS_REALS',\n",
       " 'TWO_PI',\n",
       " 'ZERO',\n",
       " '__abs__',\n",
       " '__add__',\n",
       " '__and__',\n",
       " '__class__',\n",
       " '__contains__',\n",
       " '__delattr__',\n",
       " '__dir__',\n",
       " '__doc__',\n",
       " '__eq__',\n",
       " '__format__',\n",
       " '__ge__',\n",
       " '__getattribute__',\n",
       " '__getitem__',\n",
       " '__getstate__',\n",
       " '__gt__',\n",
       " '__hash__',\n",
       " '__iadd__',\n",
       " '__iand__',\n",
       " '__ifloordiv__',\n",
       " '__imul__',\n",
       " '__init__',\n",
       " '__init_subclass__',\n",
       " '__ior__',\n",
       " '__isub__',\n",
       " '__le__',\n",
       " '__lt__',\n",
       " '__module__',\n",
       " '__mul__',\n",
       " '__ne__',\n",
       " '__neg__',\n",
       " '__new__',\n",
       " '__or__',\n",
       " '__pow__',\n",
       " '__radd__',\n",
       " '__reduce__',\n",
       " '__reduce_ex__',\n",
       " '__repr__',\n",
       " '__rmul__',\n",
       " '__rsub__',\n",
       " '__rtruediv__',\n",
       " '__setattr__',\n",
       " '__setstate__',\n",
       " '__sizeof__',\n",
       " '__str__',\n",
       " '__sub__',\n",
       " '__subclasshook__',\n",
       " '__truediv__',\n",
       " 'assign',\n",
       " 'bisect',\n",
       " 'complementary',\n",
       " 'contains',\n",
       " 'copy',\n",
       " 'diam',\n",
       " 'diff',\n",
       " 'inflate',\n",
       " 'interior_contains',\n",
       " 'intersects',\n",
       " 'is_bisectable',\n",
       " 'is_degenerated',\n",
       " 'is_disjoint',\n",
       " 'is_empty',\n",
       " 'is_interior_subset',\n",
       " 'is_strict_interior_subset',\n",
       " 'is_strict_subset',\n",
       " 'is_strict_superset',\n",
       " 'is_subset',\n",
       " 'is_superset',\n",
       " 'is_unbounded',\n",
       " 'lb',\n",
       " 'mag',\n",
       " 'mid',\n",
       " 'mig',\n",
       " 'overlaps',\n",
       " 'rad',\n",
       " 'rel_distance',\n",
       " 'set_empty',\n",
       " 'ub']"
      ]
     },
     "execution_count": 241,
     "metadata": {},
     "output_type": "execute_result"
    }
   ],
   "source": [
    "dir(exp(Interval(0,1)))"
   ]
  },
  {
   "cell_type": "markdown",
   "metadata": {},
   "source": [
    "The simplest version of something that might be called an exact real \n",
    "is to use already available interval functionality.\n",
    "\n",
    "(Turn I -> I function into (epsx -> xI) -> (epsy -> yI) function\n",
    "\n",
    "\n",
    "\n",
    "It's a goofy little machine that searches for the right input epsilon.\n",
    "Very inefficient\n",
    "\n",
    "Still, I think it basically makes sense.\n",
    "\n",
    "We've lifted something monadic to full m x -> m y form?\n",
    "\n",
    "\n"
   ]
  },
  {
   "cell_type": "code",
   "execution_count": null,
   "metadata": {},
   "outputs": [],
   "source": [
    "def lift1(f):\n",
    "    def res1(x):\n",
    "        def res(epsy):\n",
    "            epsx = 1\n",
    "            yI = Interval(0).widen(epsy+1)\n",
    "            while width(yI) > epsy:\n",
    "                epsx = epsx/2\n",
    "                yI = f(x(epsx))\n",
    "            return yI\n",
    "        return res\n",
    "    return res1\n",
    "\n",
    "def lift2(f):\n",
    "    def res1(x,y):\n",
    "        def res(epsz):\n",
    "            epsx = 1\n",
    "            zI = Interval(0).widen(epsz+1)\n",
    "            while width(zI) > epsz:\n",
    "                epsx = epsx/2\n",
    "                zI = f(x(epsx), y(epsx))\n",
    "            return zI\n",
    "        return res\n",
    "    return res1\n",
    "\n",
    "rsin = lift1(sin)\n",
    "\n"
   ]
  },
  {
   "cell_type": "markdown",
   "metadata": {},
   "source": [
    "This implem,entation is nice because it's pure, but it's better to switch the generators.\n",
    "We don't need to rerun the loops every time because we're only asking for refinements\n",
    "\n",
    "now we represented \n",
    "eps -> interval\n",
    "instead by \n",
    "generator that yileds intervals\n",
    "\n",
    "\n",
    "We make things tighter on demand.\n",
    "\n",
    "\n",
    "\n",
    "Exact reals an differentiation are very similar\n",
    "\n",
    "Any constructibly continuous functin has a function associated with it that gives the modulus of continuity.\n",
    "epsilon(x,epsy)\n",
    "\n",
    "Any uniformly continuous function has a function that just needs to take in epsx(epsy).\n",
    "\n",
    "You can obviously constructively compose these functions to get a valid continuity function for the composition for the uniform case.  It takes no cleverness\n",
    "\n",
    "lambda epsz: epsx(epsy(epsz))\n",
    "\n",
    "This is the analog of combining the derivatives of a composition of linear functions\n",
    "\n",
    "However, if not uniformly continuous, we need dependence on the base point.\n",
    "\n",
    "lambda compose(epsx, epsy):\n",
    "       def res(x):\n",
    "        epsx = epsx(x)\n",
    "        epsy = epsy(f(x))\n",
    "        return lambda epsz: epsx(epsy(epsz))\n",
    "      reutrn res\n",
    "\n",
    "In partilar the sort of backwards feeling definition of continuity has a similar flavor to the backwards running operation of reverse mode. They are both lenses.\n",
    "\n",
    "This was my point in a previous post.\n",
    "\n",
    "Actually, my point there was interesting. If you order epsilon first and go backwards forwards rather than forwards backwards.\n",
    "Hmmm.\n",
    "\n",
    "\n",
    "\n",
    "\n",
    "So the values are no longer particular intervals, but the _ability_ to request intervals computed at arbitrary accuracy.\n",
    "This is a strange, subtle, almost philosophical difference.\n",
    "\n",
    "\n",
    "what about just\n",
    "interval -> interval functions? \n",
    "Yes, because of the spooky global dps parameter, these are valid as real -> real functions\n",
    " \n",
    "Wait, does the dps parameter destory things that already existed? \n",
    "No that's fine in my global version. But i wonder about the \n",
    "\n",
    "\n",
    "A cut takes value in sierpinski space because it's a half line. It includes infinty.\n",
    "The cut is not a point.\n",
    "Ah but in a sense, an interval as the conjunction of two cuts.\n",
    "Or that is a way to think about it.\n",
    "\n",
    "\n",
    "We could make cuts using half infinite iv\n",
    "Or using regular floating point in a rounding mode\n",
    "\n",
    "\n",
    "\n",
    "Try using arb\n",
    "Try to understand\n",
    "\n"
   ]
  },
  {
   "cell_type": "code",
   "execution_count": 56,
   "metadata": {},
   "outputs": [
    {
     "name": "stdout",
     "output_type": "stream",
     "text": [
      "[0.0999999999999999999999999999999999999999999999999999999999999999999999999999999999999999999999999999992856, 0.100000000000000000000000000000000000000000000000000000000000000000000000000000000000000000000000000000179]\n",
      "[0.1, 0.1]\n",
      "[0.09973145, 0.09985352]\n",
      "[0.0999999999999999999999999999999999999999999999999999999999999999999999999999999999999999999999999999992856, 0.100000000000000000000000000000000000000000000000000000000000000000000000000000000000000000000000000000179]\n",
      "[0.0997314453125, 0.099853515625]\n"
     ]
    },
    {
     "data": {
      "text/plain": [
       "mpi('+inf', '+inf')"
      ]
     },
     "execution_count": 56,
     "metadata": {},
     "output_type": "execute_result"
    }
   ],
   "source": [
    "iv.dps = 100\n",
    "x = iv.mpf(\"0.1\")\n",
    "print(x)\n",
    "iv.dps = 2\n",
    "print(x)\n",
    "y = iv.sin(x)\n",
    "print(y)\n",
    "iv.dps = 100\n",
    "print(x)\n",
    "print(y)\n",
    "iv.mpf([\"0\",\"inf\"])\n",
    "iv.mpf([\"-inf\",\"0\"])\n",
    "# delta mid a b\n"
   ]
  },
  {
   "cell_type": "code",
   "execution_count": null,
   "metadata": {},
   "outputs": [],
   "source": []
  },
  {
   "cell_type": "code",
   "execution_count": 58,
   "metadata": {},
   "outputs": [],
   "source": [
    "from dataclasses import dataclass\n",
    "\n",
    "semiinterval = interval\n",
    "\n",
    "@dataclass(eq = False)\n",
    "class Cut:\n",
    "    l : Callable[[],semiinterval]\n",
    "    r : Callable[[],semiinterval]\n",
    "\n",
    "\n",
    "iv.dps = 15\n",
    "iv.mpf(\"0.1\")\n",
    "iv.mpf([\"0.1\", \"0.2\"])\n",
    "x = iv.mpf(\"1\")\n",
    "iv.sin(x)\n",
    "\n",
    "\n",
    "\n"
   ]
  },
  {
   "cell_type": "code",
   "execution_count": null,
   "metadata": {},
   "outputs": [],
   "source": [
    "\n",
    "def upper_cut(x): # UPPER CUT WO PAAAAAHHH!!!\n",
    "    return lambda : iv.mpf(x(), \"inf\")\n",
    "def lower_cut(x):\n",
    "    return lambda : iv.mpf(\"-inf\", x())\n",
    "\n",
    "def dirichlet(u,l):\n",
    "    return lambda : iv.intersect(u(), l())\n",
    "\n",
    "# the marshallo cut construct is a quantifer with two bodies. Odd.\n",
    "\n",
    "def cut(upper,lower):\n",
    "    # some kind of search for best currently available upper and lower bounds\n",
    "    xu =\n",
    "    xl =\n",
    "    upper(xu) \n",
    "\n",
    "def cut(f : Callable[ real ], Tuple[sierp,sierp]): #return a tuple of refinable values. The fan of the above\n",
    "    "
   ]
  },
  {
   "cell_type": "code",
   "execution_count": 76,
   "metadata": {},
   "outputs": [
    {
     "name": "stdout",
     "output_type": "stream",
     "text": [
      "[-2.0, -1.0]\n",
      "[-1.5625, -1.48438]\n",
      "[-1.537109, -1.529297]\n",
      "[-1.5339355, -1.5327148]\n",
      "[-1.53326416, -1.53320313]\n",
      "[-1.533239365, -1.533231735]\n",
      "[-1.5332376957, -1.5332362652]\n",
      "[-1.53323698044, -1.53323693573]\n",
      "[-1.533236963674, -1.533236958086]\n",
      "[-1.5332369611133, -1.5332369599491]\n",
      "Precision 0: None\n",
      "Precision 1: None\n",
      "Precision 2: None\n",
      "Precision 3: None\n",
      "Precision 4: True\n",
      "Precision 5: True\n",
      "Precision 6: True\n",
      "Precision 7: True\n",
      "Precision 8: True\n",
      "Precision 9: True\n"
     ]
    }
   ],
   "source": [
    "from mpmath import iv\n",
    "from typing import List, Set, Dict, Tuple, Optional\n",
    "from typing import Callable, Iterator, Union, Optional, List\n",
    "import operator as op\n",
    "\n",
    "# type definitions\n",
    "interval = mpmath.ctx_iv.ivmpf\n",
    "# so we could just wrap a loop around thunked numbers\n",
    "real = Callable[[], interval]\n",
    "\n",
    "# Thunk[x] = Callable[[],x]\n",
    "# delay[x], defer[x]\n",
    "\n",
    "# lifts a one argument interval function to a one argument thunked interval function\n",
    "def lift(f : Callable[[interval], interval]) -> Callable[[real], real]:\n",
    "    def res(x : real) -> real:\n",
    "        return lambda : f(x())  \n",
    "    return res\n",
    "\n",
    "# lifts a one argument interval function to a one argument thunked interval function\n",
    "def lift2(f : Callable[[interval, interval], interval]) -> Callable[[real, real], real]:\n",
    "    def res(x : real, y: real) -> real:\n",
    "        return lambda : f(x(), y())  \n",
    "    return res\n",
    "\n",
    "def const(x : str) -> real:\n",
    "    return lambda : iv.mpf(x)\n",
    "\n",
    "# some simple lifts of mpmath functions\n",
    "rsin = lift(iv.sin)\n",
    "rcos = lift(iv.cos)\n",
    "rexp = lift(iv.exp)\n",
    "rlog = lift(iv.log)\n",
    "rneg = lift(op.neg)\n",
    "radd = lift2(op.add)\n",
    "rmul = lift2(op.mul)\n",
    "\n",
    "\n",
    "third = const(\"1/3\")\n",
    "# a random example calculation\n",
    "v = rmul( rexp( third) , rlog(third))\n",
    "\n",
    "for i in range(10):\n",
    "    iv.dps = i\n",
    "    print(v())\n",
    "\n",
    "'''\n",
    "class Real():\n",
    "    def __init__(self, f):\n",
    "        self.f = f\n",
    "    def __repr__(self):\n",
    "    sin = lift(iv.sin)\n",
    "    cos = lift(iv.cos)\n",
    "    exp = lift.exp\n",
    "'''\n",
    "\n",
    "\n",
    "\n",
    "belnap = Callable[[], Optional[bool]] \n",
    "\n",
    "# lifts a one argument interval function to a one argument thunked interval function\n",
    "def lift2(f : Callable[[interval, interval], Optional[bool]]) -> Callable[[real, real], belnap]:\n",
    "    def res(x : real, y: real) -> belnap:\n",
    "        return lambda : f(x(), y())  \n",
    "    return res\n",
    "\n",
    "\n",
    "rlt = lift2(op.lt)\n",
    "rgt = lift2(op.gt)\n",
    "rne = lift2(op.ne)\n",
    "\n",
    "# no actually. We actually need truth tables.\n",
    "lift(op.not_)\n",
    "lift(op.and_)\n",
    "lift(op.or_)\n",
    "\n",
    "# total poison. Unacceptable?   \n",
    "req = lift2(op.eq)\n",
    "rge = lift2(op.ge)\n",
    "rle = lift2(op.le)\n",
    "\n",
    "third = const(\"1/3\")\n",
    "thirdish = const(\"0.3333\")\n",
    "v = rgt(third, thirdish)\n",
    "for i in range(10):\n",
    "    iv.dps = i\n",
    "    print(f\"Precision {i}: {v()}\")\n",
    "    #print(third())\n",
    "    #print(thirdish())"
   ]
  },
  {
   "cell_type": "code",
   "execution_count": 90,
   "metadata": {},
   "outputs": [
    {
     "name": "stdout",
     "output_type": "stream",
     "text": [
      "True or True = True\n",
      "True or False = True\n",
      "True or None = True\n",
      "False or True = True\n",
      "False or False = False\n",
      "False or None = None\n",
      "None or True = True\n",
      "None or False = False\n",
      "None or None = None\n",
      "True and True = True\n",
      "True and False = False\n",
      "True and None = None\n",
      "False and True = False\n",
      "False and False = False\n",
      "False and None = False\n",
      "None and True = None\n",
      "None and False = None\n",
      "None and None = None\n",
      "not True = False\n",
      "not False = True\n",
      "not None = True\n"
     ]
    }
   ],
   "source": [
    "# Though an accident of the short circuiting mechanism and falsity of None\n",
    "\n",
    "x = [True, False, None]\n",
    "for i in x:\n",
    "    for j in x:\n",
    "        print( f\"{i} or {j} = {i or j}\" )\n",
    "for i in x:\n",
    "    for j in x:\n",
    "        print( f\"{i} and {j} = {i and j}\" )\n",
    "for i in x:\n",
    "        print( f\"not {i} = {not i}\" )\n",
    "# nope. None and False = False. It was close though."
   ]
  },
  {
   "cell_type": "code",
   "execution_count": 91,
   "metadata": {},
   "outputs": [],
   "source": [
    "belnap = Optional[bool]\n",
    "def belor(x : belnap,y : belnap) -> belnap:\n",
    "    if x == None and y == False:\n",
    "        return None\n",
    "    return x or y\n",
    "\n",
    "def beland(x : belnap,y : belnap) -> belnap:\n",
    "    if x == None and y == False:\n",
    "        return False\n",
    "    return x and y    \n",
    "def belnot(x : belnap) -> belnap:\n",
    "    if x == None:\n",
    "        return None\n",
    "    return not x\n"
   ]
  },
  {
   "cell_type": "code",
   "execution_count": 179,
   "metadata": {},
   "outputs": [
    {
     "name": "stdout",
     "output_type": "stream",
     "text": [
      "Precision 0: [0.0, 0.0]\n",
      "Precision 1: [0.0, 0.0]\n",
      "Precision 2: [0.0, 0.0]\n",
      "Precision 3: [0.0, 0.0]\n",
      "Precision 4: [0.0, 0.0]\n"
     ]
    }
   ],
   "source": [
    "# As generators. The advantage is that we can retain information between refinements. Bad is that everything is just more complicated\n",
    "# and the requirements of the calling pattern is stricter\n",
    "\n",
    "\n",
    "def const(x):\n",
    "    old_dps\n",
    "    old_iv\n",
    "    while True:\n",
    "        if iv.dps < old_dps: # we can cache previous runs if iv increases or what have you.\n",
    "            old_dps = iv.dps\n",
    "            old_id = iv.mpf(x)\n",
    "            yield old_iv:\n",
    "        else:\n",
    "            yield old_iv\n",
    "    \n",
    "def cos\n",
    "        \n",
    "\n",
    "        \n",
    "v = const(\"0\")\n",
    "for i in range(5):\n",
    "    iv.dps = i\n",
    "    print(f\"Precision {i}: {next(v)}\")\n",
    "\n",
    "\n",
    "\n",
    "\n"
   ]
  },
  {
   "cell_type": "markdown",
   "metadata": {},
   "source": [
    "With an interval matrix solver, could we not make a precise formulation of the tube operator?\n",
    "\n",
    "\n"
   ]
  },
  {
   "cell_type": "code",
   "execution_count": null,
   "metadata": {},
   "outputs": [],
   "source": [
    "# Reifying functions into tubes\n",
    "# It's the analog of tabulate = [(x, f(x) for x in range(7)]\n",
    "# tabulating \n",
    "# can be useful for memoization for example. We could use some kind of spatial data structure for fast indexing.\n",
    "# Well, really we know roughly where to look in the tube for anyquery.\n",
    "\n",
    "\n",
    "def tube(f : Callable[[real], real ]) -> Tube[[real],real]:\n",
    "    return lambda : [(i(), f(i)()) for i in partition()]\n",
    "\n",
    "\n",
    "a constraction mapping\n",
    "\n",
    "def fix( f : (R -> R) -> (R -> R)  ) -> (R -> R)"
   ]
  },
  {
   "cell_type": "markdown",
   "metadata": {},
   "source": [
    "Partition is what makes it searchabvle. Related to compactnessness. A finite cover"
   ]
  },
  {
   "cell_type": "code",
   "execution_count": null,
   "metadata": {},
   "outputs": [],
   "source": [
    "\n",
    "# fix: find a fixed point of a function\n",
    "def fix(f : Callable[[real], real]) -> real:\n",
    "def min(f):\n",
    "    min([f(i) for i in partition()])\n",
    "def max(f):\n",
    "def argmin(f): # stronger. Like epsilon operatros\n",
    "    bestf = iv.mpf(\"inf\")\n",
    "    besti = None\n",
    "    for i in partition()\n",
    "        fi = f(i)\n",
    "        if fi <= bestf == True:\n",
    "            besti = i\n",
    "            bestf = fi\n",
    "        elif f(i) <= bestf == None:\n",
    "            besti = i.union(besti)\n",
    "            bestf = min(bestf, fi)\n",
    "def argmax(f):\n",
    "\n",
    "    \n",
    "    \n",
    "    "
   ]
  },
  {
   "cell_type": "code",
   "execution_count": 235,
   "metadata": {},
   "outputs": [
    {
     "name": "stdout",
     "output_type": "stream",
     "text": [
      "[0.0, 0.1000061]\n",
      "[0.05 0.15 0.25 0.35 0.45 0.55 0.65 0.75 0.85 0.95]\n",
      "[[1.0512711  1.16184244 1.28406684 1.41911975 1.56833666 1.73322614\n",
      "  1.91546986 2.11692255 2.33961202 2.58573918]]\n",
      "[mpi('0.934326', '1.05151'), mpi('0.902588', '1.16187'), mpi('0.853394', '1.28418'), mpi('0.782715', '1.41919'), mpi('0.68689', '1.56836'), mpi('0.561279', '1.7334'), mpi('0.400146', '1.91553'), mpi('0.197754', '2.11719'), mpi('-0.0532227', '2.33984'), mpi('-0.36084', '2.58594')]\n",
      "1.1051709180756477\n"
     ]
    }
   ],
   "source": [
    "\n",
    "iv.dps = 3\n",
    "\n",
    "x0 = iv.mpf(\"1\")\n",
    "\n",
    "tube = [x0] + [ iv.mpf([-10,10]) for _ in range(10)]\n",
    "\n",
    "dt = iv.mpf([0,\"1/10\"])\n",
    "\n",
    "def f(t,x): # xdot = x is expoentnial\n",
    "    return x\n",
    "\n",
    "print(dt)\n",
    "from scipy.integrate import solve_ivp\n",
    "\n",
    "sol = solve_ivp(f, [0,1], [1], t_eval=np.linspace(0.05,1.05,10,endpoint=False))\n",
    "print(sol.t)\n",
    "print(sol.y)\n",
    "\n",
    "def f(t,x): # xdot = x is expoentnial\n",
    "    return x - sol.y[0][t]\n",
    "\n",
    "tube = [iv.mpf(\"0\")] + [ iv.mpf([-10,10]) for _ in range(10)]\n",
    "for i in range(10):\n",
    "    for j in range(10):\n",
    "        newtube = tube[i] + dt * f(i,tube[i+1])\n",
    "        #print(newtube in tube[i+1])\n",
    "        #newtube = iv.mpf(  [ min( tube[i], newtube ) ,  max( tube[i], newtube )])  \n",
    "        tube[i+1] = newtube\n",
    "print([ e + y for e,y in zip(tube[1:], sol.y[0])])\n",
    "print(np.exp(0.1))\n",
    "import numpy as np\n",
    "import matplotlib.pyplot as plt\n",
    "\n",
    "#plt.plot([float(mpmath.nstr(p.a)) for p in tube])\n",
    "#print(dir(x0))\n",
    "\n",
    "#iv.mpf([x0.a,x0.b + 1, x0.b])\n",
    "#dir(iv)"
   ]
  },
  {
   "cell_type": "code",
   "execution_count": null,
   "metadata": {},
   "outputs": [],
   "source": [
    "def ode(f, x0, t0):\n",
    "    # step one, send off f to ode int\n",
    "    # Then use interval methods on the error equation\n",
    "    # any particular step size is not necessarily going to be sufficet to have a contraction mapping\n",
    "    # it's only monotone on the subset of the lattice that contains the fixed point.\n",
    "    # also we have to search outward to make sure we enclose the solution.\n",
    "    # consider a finite difference system where we use intervals. It's an interesting analog.\n",
    "    \n",
    "    # 1 find contractive regime\n",
    "    bounds = 10\n",
    "    dps = iv.dps\n",
    "    while True:\n",
    "        tube = tubes(-bounds,bounds, dps)\n",
    "        with iv.dps = dps:\n",
    "            x = x0() # hmmm. How do we do initial conditions. We can't know exactly what position this came from.\n",
    "            dt = iv.mpf(f\"1/{10**iv.dps}\")\n",
    "            for i in partition():\n",
    "                x = x + f( tube(i) ) * dt\n",
    "                \n",
    "                \n",
    "        bounds = bounds * 10\n",
    "        dps += 1"
   ]
  },
  {
   "cell_type": "code",
   "execution_count": 88,
   "metadata": {},
   "outputs": [
    {
     "name": "stdout",
     "output_type": "stream",
     "text": [
      "True or True = True\n",
      "True or False = True\n",
      "True or None = True\n",
      "False or True = True\n",
      "False or False = False\n",
      "False or None = None\n",
      "None or True = True\n",
      "None or False = None\n",
      "None or None = None\n",
      "True and True = True\n",
      "True and False = False\n",
      "True and None = None\n",
      "False and True = False\n",
      "False and False = False\n",
      "False and None = False\n",
      "None and True = None\n",
      "None and False = False\n",
      "None and None = None\n"
     ]
    }
   ],
   "source": [
    "x = [True, False, None]\n",
    "for i in x:\n",
    "    for j in x:\n",
    "        print( f\"{i} or {j} = {belor(i, j)}\" )\n",
    "for i in x:\n",
    "    for j in x:\n",
    "        print( f\"{i} and {j} = {beland(i,j)}\" )"
   ]
  },
  {
   "cell_type": "code",
   "execution_count": 124,
   "metadata": {},
   "outputs": [],
   "source": [
    "def belnot(x):\n",
    "    if x == None:\n",
    "        return None\n",
    "    return not x\n",
    "def beland(x,y):\n",
    "    if y == None:\n",
    "        x,y = y,x\n",
    "    if x == None:\n",
    "        if y == True:\n",
    "            return None\n",
    "        elif y == False:\n",
    "            return False\n",
    "        else:\n",
    "            assert(y == None)\n",
    "            return None\n",
    "    return x and y\n",
    "\n",
    "def belor(x,y):\n",
    "    if x == None and y != True:\n",
    "        return None\n",
    "    if y == None and x != True:\n",
    "        return None\n",
    "    return x and y\n",
    "\n",
    "rbelnap = Callable[[], belnap]\n",
    "\n",
    "# no actually. We actually need truth tables.\n",
    "rnot = lift(belnot)\n",
    "ror = lift2(belor)\n",
    "rand = lift(beland)\n"
   ]
  },
  {
   "cell_type": "code",
   "execution_count": 160,
   "metadata": {},
   "outputs": [
    {
     "name": "stdout",
     "output_type": "stream",
     "text": [
      "Precision 0: [0.625, 0.875]\n",
      "Precision 1: [0.59375, 0.703125]\n",
      "Precision 2: [0.5097656, 0.5205078]\n",
      "Precision 3: [0.50097656, 0.5020752]\n",
      "Precision 4: [0.500099182, 0.500205994]\n"
     ]
    }
   ],
   "source": [
    "predicate = Callable[[real], rbelnap]\n",
    "#def thunk()\n",
    "#predicate = Callable[[interval], belnap] # The previous one is the refinement lifting of this.\n",
    "#predicate = Callable[[],Callable[[interval], belnap]]\n",
    "\n",
    "def partition(): #paving?\n",
    "    d = 10**iv.dps # denominator = number of partitions\n",
    "    for i in range(d):\n",
    "        yield iv.mpf( [f\"{i}/{d}\" , f\"{i+1}/{d}\" ])\n",
    "\n",
    "        \n",
    "def exists(f):\n",
    "    def res():\n",
    "        allfalse = True\n",
    "        for i in partition():\n",
    "            test = f(i)\n",
    "            if test == True:\n",
    "                return True\n",
    "            elif test == None:\n",
    "                allfalse = False\n",
    "        if allfalse:\n",
    "            return False\n",
    "        return None\n",
    "    return res\n",
    "\n",
    "def forall(f : predicate) -> rbelnap:\n",
    "    pass\n",
    "    \n",
    "# find could also grow out the refinement region to infinity\n",
    "def find( f : predicate ) -> real:\n",
    "    def res():\n",
    "        for i in partition():\n",
    "            test = f(lambda : i)()\n",
    "            if test == True:\n",
    "                return i\n",
    "        return iv.mpf([\"0\",\"1\"])\n",
    "    return res\n",
    "\n",
    "def exists(f):\n",
    "    return f(find(f))\n",
    "def forall(f):\n",
    "    return rnot( find( lambda x: rnot(f(x)) ) )\n",
    "# here brute forcing at every refinement is obviously shitty.\n",
    "# We should exclude regions as early as possible. To do so we'd need to maintain state.\n",
    "\n",
    "v = find( lambda x: rgt( rmul(x,x),  const(\"1/4\")) )\n",
    "#v = forall( lambda x: rgt( rmul(x,x),  const(\"1/4\")) )\n",
    "#v = exists( lambda x: rgt( rmul(x,x),  const(\"1/4\")) )\n",
    "for i in range(5):\n",
    "    iv.dps = i\n",
    "    print(f\"Precision {i}: {v()}\")"
   ]
  },
  {
   "cell_type": "code",
   "execution_count": 177,
   "metadata": {},
   "outputs": [
    {
     "name": "stdout",
     "output_type": "stream",
     "text": [
      "Precision 0: [0.1875, 0.625]\n",
      "Precision 1: [0.273438, 0.398438]\n",
      "Precision 2: [0.3222656, 0.3447266]\n"
     ]
    }
   ],
   "source": [
    "def integral(f : Callable[[real], real]):\n",
    "    def res():\n",
    "        return sum([ f(lambda : i)() for i in partition() ]) * const(f\"1/{10**iv.dps}\")()\n",
    "    return res\n",
    "\n",
    "v = integral( lambda x : rmul(x,x) )\n",
    "for i in range(3):\n",
    "    iv.dps = i\n",
    "    print(f\"Precision {i}: {v()}\")"
   ]
  },
  {
   "cell_type": "code",
   "execution_count": 150,
   "metadata": {},
   "outputs": [
    {
     "data": {
      "text/plain": [
       "mpi('1.0', '1.0')"
      ]
     },
     "execution_count": 150,
     "metadata": {},
     "output_type": "execute_result"
    }
   ],
   "source": [
    "dir(iv.mpf([\"0\",\"1\"]))\n",
    "iv.mpf([\"0\", \"1\"]).delta"
   ]
  },
  {
   "cell_type": "code",
   "execution_count": null,
   "metadata": {},
   "outputs": [],
   "source": [
    "path = Callable[[real], real]\n",
    "\n",
    "# R ^2\n"
   ]
  },
  {
   "cell_type": "markdown",
   "metadata": {},
   "source": [
    "So I've heard the stories about equality being a no-no and whatforth, but I'm just not really seeing some of it. Is that because I'm not using primitive enough constructions? Half intervals?\n",
    "\n",
    "\n",
    "\n",
    "\n",
    "Sierpinski space is not showing up.\n",
    "\n",
    "\n",
    "\n",
    "\n"
   ]
  },
  {
   "cell_type": "code",
   "execution_count": 96,
   "metadata": {},
   "outputs": [
    {
     "name": "stdout",
     "output_type": "stream",
     "text": [
      "[0.0, 0.01000977]\n",
      "[0.009994507, 0.02001953]\n",
      "[0.01998901, 0.0300293]\n",
      "[0.02999878, 0.04003906]\n",
      "[0.03997803, 0.05004883]\n",
      "[0.04998779, 0.06005859]\n",
      "[0.05999756, 0.07006836]\n",
      "[0.06994629, 0.08007813]\n",
      "[0.07995605, 0.09008789]\n",
      "[0.08996582, 0.1000977]\n",
      "[0.09997559, 0.1101074]\n",
      "[0.1099854, 0.1201172]\n",
      "[0.1199951, 0.130127]\n",
      "[0.1298828, 0.1401367]\n",
      "[0.1398926, 0.1501465]\n",
      "[0.1499023, 0.1601563]\n",
      "[0.1599121, 0.170166]\n",
      "[0.1699219, 0.1801758]\n",
      "[0.1799316, 0.1901855]\n",
      "[0.1899414, 0.2001953]\n",
      "[0.1999512, 0.2102051]\n",
      "[0.2099609, 0.2202148]\n",
      "[0.2199707, 0.2302246]\n",
      "[0.2299805, 0.2402344]\n",
      "[0.2399902, 0.25]\n",
      "[0.25, 0.2602539]\n",
      "[0.2597656, 0.2700195]\n",
      "[0.2695313, 0.2802734]\n",
      "[0.2797852, 0.2900391]\n",
      "[0.2895508, 0.300293]\n",
      "[0.2998047, 0.3100586]\n",
      "[0.3095703, 0.3203125]\n",
      "[0.3198242, 0.3300781]\n",
      "[0.3295898, 0.340332]\n",
      "[0.3398438, 0.3500977]\n",
      "[0.3496094, 0.3603516]\n",
      "[0.3598633, 0.3701172]\n",
      "[0.3696289, 0.3803711]\n",
      "[0.3798828, 0.3901367]\n",
      "[0.3896484, 0.4003906]\n",
      "[0.3999023, 0.4101563]\n",
      "[0.409668, 0.4204102]\n",
      "[0.4199219, 0.4301758]\n",
      "[0.4296875, 0.4404297]\n",
      "[0.4399414, 0.4501953]\n",
      "[0.449707, 0.4604492]\n",
      "[0.4599609, 0.4702148]\n",
      "[0.4697266, 0.4804688]\n",
      "[0.4799805, 0.4902344]\n",
      "[0.4897461, 0.5]\n",
      "[0.5, 0.5107422]\n",
      "[0.5097656, 0.5205078]\n",
      "[0.5195313, 0.5302734]\n",
      "[0.5292969, 0.5400391]\n",
      "[0.5390625, 0.5507813]\n",
      "[0.5498047, 0.5605469]\n",
      "[0.5595703, 0.5703125]\n",
      "[0.5693359, 0.5800781]\n",
      "[0.5791016, 0.5908203]\n",
      "[0.5898438, 0.6005859]\n",
      "[0.5996094, 0.6103516]\n",
      "[0.609375, 0.6201172]\n",
      "[0.6191406, 0.6308594]\n",
      "[0.6298828, 0.640625]\n",
      "[0.6396484, 0.6503906]\n",
      "[0.6494141, 0.6601563]\n",
      "[0.6591797, 0.6708984]\n",
      "[0.6699219, 0.6806641]\n",
      "[0.6796875, 0.6904297]\n",
      "[0.6894531, 0.7001953]\n",
      "[0.6992188, 0.7109375]\n",
      "[0.7099609, 0.7207031]\n",
      "[0.7197266, 0.7304688]\n",
      "[0.7294922, 0.7402344]\n",
      "[0.7392578, 0.75]\n",
      "[0.75, 0.7607422]\n",
      "[0.7597656, 0.7705078]\n",
      "[0.7695313, 0.7802734]\n",
      "[0.7792969, 0.7900391]\n",
      "[0.7890625, 0.8007813]\n",
      "[0.7998047, 0.8105469]\n",
      "[0.8095703, 0.8203125]\n",
      "[0.8193359, 0.8300781]\n",
      "[0.8291016, 0.8408203]\n",
      "[0.8398438, 0.8505859]\n",
      "[0.8496094, 0.8603516]\n",
      "[0.859375, 0.8701172]\n",
      "[0.8691406, 0.8808594]\n",
      "[0.8798828, 0.890625]\n",
      "[0.8896484, 0.9003906]\n",
      "[0.8994141, 0.9101563]\n",
      "[0.9091797, 0.9208984]\n",
      "[0.9199219, 0.9306641]\n",
      "[0.9296875, 0.9404297]\n",
      "[0.9394531, 0.9501953]\n",
      "[0.9492188, 0.9609375]\n",
      "[0.9599609, 0.9707031]\n",
      "[0.9697266, 0.9804688]\n",
      "[0.9794922, 0.9902344]\n",
      "[0.9892578, 1.0]\n"
     ]
    }
   ],
   "source": [
    "iv.dps = 2\n",
    "def partition():\n",
    "    d = 10**iv.dps # denominator = number of partitions\n",
    "    for i in range(d):\n",
    "        yield iv.mpf( [f\"{i}/{d}\" , f\"{i+1}/{d}\" ])\n",
    "        \n",
    "for i in partition():\n",
    "    print(i)"
   ]
  },
  {
   "cell_type": "code",
   "execution_count": 27,
   "metadata": {},
   "outputs": [
    {
     "data": {
      "text/plain": [
       "typing.Callable[[], mpmath.ctx_iv.ivmpf]"
      ]
     },
     "execution_count": 27,
     "metadata": {},
     "output_type": "execute_result"
    }
   ],
   "source": [
    "import mpmath\n",
    "type(iv.mpf(\"0.2\"))\n",
    "Callable[[],mpmath.ctx_iv.ivmpf]"
   ]
  },
  {
   "cell_type": "code",
   "execution_count": 51,
   "metadata": {},
   "outputs": [
    {
     "name": "stdout",
     "output_type": "stream",
     "text": [
      "Collecting python-flint\n",
      "  Using cached python-flint-0.3.0.tar.gz (109 kB)\n",
      "Building wheels for collected packages: python-flint\n",
      "  Building wheel for python-flint (setup.py) ... \u001b[?25lerror\n",
      "\u001b[31m  ERROR: Command errored out with exit status 1:\n",
      "   command: /usr/bin/python3 -u -c 'import sys, setuptools, tokenize; sys.argv[0] = '\"'\"'/tmp/pip-install-o_phpml9/python-flint/setup.py'\"'\"'; __file__='\"'\"'/tmp/pip-install-o_phpml9/python-flint/setup.py'\"'\"';f=getattr(tokenize, '\"'\"'open'\"'\"', open)(__file__);code=f.read().replace('\"'\"'\\r\\n'\"'\"', '\"'\"'\\n'\"'\"');f.close();exec(compile(code, __file__, '\"'\"'exec'\"'\"'))' bdist_wheel -d /tmp/pip-wheel-evejo1zy\n",
      "       cwd: /tmp/pip-install-o_phpml9/python-flint/\n",
      "  Complete output (23 lines):\n",
      "  running bdist_wheel\n",
      "  running build\n",
      "  running build_ext\n",
      "  cythoning src/pyflint.pyx to src/pyflint.c\n",
      "  /home/philip/.local/lib/python3.8/site-packages/Cython/Compiler/Main.py:369: FutureWarning: Cython directive 'language_level' not set, using 2 for now (Py2). This will change in a later release! File: /tmp/pip-install-o_phpml9/python-flint/src/flint.pxd\n",
      "    tree = Parsing.p_module(s, pxd, full_module_name)\n",
      "  warning: src/flint.pxd:23:4: 'mp_limb_t' redeclared\n",
      "  warning: src/pyflint.pyx:13:4: 'PyObject' redeclared\n",
      "  warning: src/pyflint.pyx:14:4: 'PyTypeObject' redeclared\n",
      "  warning: src/pyflint.pyx:15:4: 'Py_ssize_t' redeclared\n",
      "  building 'flint' extension\n",
      "  C compiler: x86_64-linux-gnu-gcc -pthread -Wno-unused-result -Wsign-compare -DNDEBUG -g -fwrapv -O2 -Wall -g -fstack-protector-strong -Wformat -Werror=format-security -g -fwrapv -O2 -g -fstack-protector-strong -Wformat -Werror=format-security -Wdate-time -D_FORTIFY_SOURCE=2 -fPIC\n",
      "  \n",
      "  creating build\n",
      "  creating build/temp.linux-x86_64-3.8\n",
      "  creating build/temp.linux-x86_64-3.8/src\n",
      "  compile options: '-I/usr/local/include -I/usr/include -I/usr/local/include/flint -I/usr/include/flint -I/usr/include/python3.8 -c'\n",
      "  x86_64-linux-gnu-gcc: src/pyflint.c\n",
      "  src/pyflint.c:609:10: fatal error: flint.h: No such file or directory\n",
      "    609 | #include \"flint.h\"\n",
      "        |          ^~~~~~~~~\n",
      "  compilation terminated.\n",
      "  error: Command \"x86_64-linux-gnu-gcc -pthread -Wno-unused-result -Wsign-compare -DNDEBUG -g -fwrapv -O2 -Wall -g -fstack-protector-strong -Wformat -Werror=format-security -g -fwrapv -O2 -g -fstack-protector-strong -Wformat -Werror=format-security -Wdate-time -D_FORTIFY_SOURCE=2 -fPIC -I/usr/local/include -I/usr/include -I/usr/local/include/flint -I/usr/include/flint -I/usr/include/python3.8 -c src/pyflint.c -o build/temp.linux-x86_64-3.8/src/pyflint.o\" failed with exit status 1\n",
      "  ----------------------------------------\u001b[0m\n",
      "\u001b[31m  ERROR: Failed building wheel for python-flint\u001b[0m\n",
      "\u001b[?25h  Running setup.py clean for python-flint\n",
      "Failed to build python-flint\n",
      "Installing collected packages: python-flint\n",
      "    Running setup.py install for python-flint ... \u001b[?25lerror\n",
      "\u001b[31m    ERROR: Command errored out with exit status 1:\n",
      "     command: /usr/bin/python3 -u -c 'import sys, setuptools, tokenize; sys.argv[0] = '\"'\"'/tmp/pip-install-o_phpml9/python-flint/setup.py'\"'\"'; __file__='\"'\"'/tmp/pip-install-o_phpml9/python-flint/setup.py'\"'\"';f=getattr(tokenize, '\"'\"'open'\"'\"', open)(__file__);code=f.read().replace('\"'\"'\\r\\n'\"'\"', '\"'\"'\\n'\"'\"');f.close();exec(compile(code, __file__, '\"'\"'exec'\"'\"'))' install --record /tmp/pip-record-sykshyk3/install-record.txt --single-version-externally-managed --user --prefix= --compile --install-headers /home/philip/.local/include/python3.8/python-flint\n",
      "         cwd: /tmp/pip-install-o_phpml9/python-flint/\n",
      "    Complete output (17 lines):\n",
      "    running install\n",
      "    running build\n",
      "    running build_ext\n",
      "    skipping 'src/pyflint.c' Cython extension (up-to-date)\n",
      "    building 'flint' extension\n",
      "    C compiler: x86_64-linux-gnu-gcc -pthread -Wno-unused-result -Wsign-compare -DNDEBUG -g -fwrapv -O2 -Wall -g -fstack-protector-strong -Wformat -Werror=format-security -g -fwrapv -O2 -g -fstack-protector-strong -Wformat -Werror=format-security -Wdate-time -D_FORTIFY_SOURCE=2 -fPIC\n",
      "    \n",
      "    creating build\n",
      "    creating build/temp.linux-x86_64-3.8\n",
      "    creating build/temp.linux-x86_64-3.8/src\n",
      "    compile options: '-I/usr/local/include -I/usr/include -I/usr/local/include/flint -I/usr/include/flint -I/usr/include/python3.8 -c'\n",
      "    x86_64-linux-gnu-gcc: src/pyflint.c\n",
      "    src/pyflint.c:609:10: fatal error: flint.h: No such file or directory\n",
      "      609 | #include \"flint.h\"\n",
      "          |          ^~~~~~~~~\n",
      "    compilation terminated.\n",
      "    error: Command \"x86_64-linux-gnu-gcc -pthread -Wno-unused-result -Wsign-compare -DNDEBUG -g -fwrapv -O2 -Wall -g -fstack-protector-strong -Wformat -Werror=format-security -g -fwrapv -O2 -g -fstack-protector-strong -Wformat -Werror=format-security -Wdate-time -D_FORTIFY_SOURCE=2 -fPIC -I/usr/local/include -I/usr/include -I/usr/local/include/flint -I/usr/include/flint -I/usr/include/python3.8 -c src/pyflint.c -o build/temp.linux-x86_64-3.8/src/pyflint.o\" failed with exit status 1\n",
      "    ----------------------------------------\u001b[0m\n",
      "\u001b[31mERROR: Command errored out with exit status 1: /usr/bin/python3 -u -c 'import sys, setuptools, tokenize; sys.argv[0] = '\"'\"'/tmp/pip-install-o_phpml9/python-flint/setup.py'\"'\"'; __file__='\"'\"'/tmp/pip-install-o_phpml9/python-flint/setup.py'\"'\"';f=getattr(tokenize, '\"'\"'open'\"'\"', open)(__file__);code=f.read().replace('\"'\"'\\r\\n'\"'\"', '\"'\"'\\n'\"'\"');f.close();exec(compile(code, __file__, '\"'\"'exec'\"'\"'))' install --record /tmp/pip-record-sykshyk3/install-record.txt --single-version-externally-managed --user --prefix= --compile --install-headers /home/philip/.local/include/python3.8/python-flint Check the logs for full command output.\u001b[0m\n",
      "\u001b[?25h"
     ]
    }
   ],
   "source": [
    "!pip3 install python-flint"
   ]
  },
  {
   "cell_type": "code",
   "execution_count": null,
   "metadata": {},
   "outputs": [],
   "source": [
    "\n",
    "def lift(f):\n",
    "    def res(x):\n",
    "        prec = 1\n",
    "        for approxx in x:\n",
    "            while approxx.width() < prec: #reuse approxx\n",
    "                prec = prec/2\n",
    "                set_precision(prec)\n",
    "                approxy = f(approxx)\n",
    "                yield approxy\n",
    "    return res\n",
    "\n",
    "def const(x):\n",
    "    while True:\n",
    "        yield Interval(x)\n"
   ]
  },
  {
   "cell_type": "code",
   "execution_count": null,
   "metadata": {},
   "outputs": [],
   "source": [
    "# Less than is a predicate that returns a true value\n",
    "# this is a refinable boolean\n",
    "def lt(x,y):\n",
    "    for x,y in zip(x,y):\n",
    "        if x < y:\n",
    "            while True:\n",
    "                yield True\n",
    "        elif y < x: # is this wrong in some sense?\n",
    "            while True:\n",
    "                yield False\n",
    "        yield None"
   ]
  },
  {
   "cell_type": "code",
   "execution_count": 11,
   "metadata": {},
   "outputs": [
    {
     "data": {
      "text/plain": [
       "[-1.513604990615857, 0.2822400161197349]"
      ]
     },
     "execution_count": 11,
     "metadata": {},
     "output_type": "execute_result"
    }
   ],
   "source": [
    "f = Function(\"x\",\"y\",\"x * sin(y)\")\n",
    "f.eval(IntervalVector([[1,2],[3,4]]))"
   ]
  },
  {
   "cell_type": "code",
   "execution_count": 12,
   "metadata": {},
   "outputs": [],
   "source": [
    "ctc = CtcFwdBwd(f, [0,oo])"
   ]
  },
  {
   "cell_type": "code",
   "execution_count": null,
   "metadata": {},
   "outputs": [],
   "source": [
    "\n",
    "\n",
    "#interval constraint programming\n",
    "\n",
    "constraints = []\n",
    "\n",
    "store = {} # index from variable to value of variable\n",
    "index = # index from variables to constraints that use them\n",
    "\n",
    "\n",
    "\n",
    "for c in constraints:\n",
    "    inputs = map( x -> store[x] , c.inputs)\n",
    "    res = c.func(inputs...)\n",
    "    outval = store[c.output]\n",
    "    if out & res != outval:\n",
    "        store[out] = outval & res\n",
    "        # active.append( index[c.output] )\n",
    "    \n",
    "check_list = constraints\n",
    "\n",
    "store = {   }\n",
    "\n",
    "while check_list != []\n",
    "    c = check_list.pop()\n",
    "    update_store(c,store)\n",
    "    \n",
    "\n",
    "    \n",
    "\n",
    "\n"
   ]
  },
  {
   "cell_type": "code",
   "execution_count": 3,
   "metadata": {},
   "outputs": [],
   "source": [
    "from pyibex import *\n",
    "from tubex_lib import *\n",
    "\n",
    "x = Tube(Interval(0,1), 0.01, TFunction(\"cos(t) + abs(t-5)*[-0.1,0.1]\"))\n",
    "\n",
    "beginDrawing()\n",
    "fig = VIBesFigTube(\"My first tube\")\n",
    "fig.add_tube(x, \"x\")\n",
    "fig.show()\n",
    "endDrawing()"
   ]
  },
  {
   "cell_type": "code",
   "execution_count": 9,
   "metadata": {},
   "outputs": [
    {
     "data": {
      "text/plain": [
       "Trajectory [0, 10]↦[-3, 3] (Fnc object)"
      ]
     },
     "execution_count": 9,
     "metadata": {},
     "output_type": "execute_result"
    }
   ],
   "source": [
    "tdomain = Interval(0,10)\n",
    "x = Trajectory(tdomain, TFunction(\"cos(t) + sin(2*t)\"))\n",
    "x(1)\n",
    "x.codomain()\n",
    "x.tdomain()\n",
    "x.diff()"
   ]
  },
  {
   "cell_type": "markdown",
   "metadata": {},
   "source": [
    "Contractor networks. \n",
    "\n",
    "This feels like it fits in the general scheme of propagators.\n",
    "DP sanders had a contractor thing right?\n",
    "https://github.com/JuliaIntervals/IntervalConstraintProgramming.jl\n",
    "\n",
    "Applied Interval Analysis, Luc Jaulin, Michel Kieffer, Olivier Didrit, Eric Walter (2001)\n",
    "Introduction to the Algebra of Separators with Application to Path Planning, Luc Jaulin and Benoît Desrochers, Engineering Applications of Artificial Intelligence 33, 141–147 (2014)\n",
    "\n",
    "https://www.ensta-bretagne.fr/jaulin/iamooc.html\n"
   ]
  },
  {
   "cell_type": "code",
   "execution_count": 4,
   "metadata": {},
   "outputs": [
    {
     "data": {
      "text/plain": [
       "([-10, 10] ; [-10, 10])"
      ]
     },
     "execution_count": 4,
     "metadata": {},
     "output_type": "execute_result"
    }
   ],
   "source": [
    "\n",
    "f = Function(\"x\", \"y\", \"x * cos(x - y) + y\")\n",
    "sep = SepFwdBwd(f, CmpOp.LEQ)\n",
    "X0 = IntervalVector(2, [-10,10])\n",
    "\n",
    "X0\n"
   ]
  },
  {
   "cell_type": "code",
   "execution_count": 1,
   "metadata": {},
   "outputs": [],
   "source": [
    "from pyibex import *\n",
    "from tubex_lib import *\n"
   ]
  },
  {
   "cell_type": "code",
   "execution_count": 5,
   "metadata": {},
   "outputs": [],
   "source": [
    "x = Interval()\n",
    "x = Interval(0,10)\n",
    "\n",
    "x = IntervalVector(2, [-1,2])\n",
    "\n",
    "\n",
    "ctc_add = CtcFunction(Function(\"x\", \"y\", \"a\", \"x+y-a \"))\n"
   ]
  },
  {
   "cell_type": "markdown",
   "metadata": {},
   "source": [
    "\n",
    "# how would I implement this?\n",
    "x + y - a => calculate. #would give some interval.\n",
    "\n",
    "Could store both forward and inverse function.\n",
    "\n",
    "(x + y) - a == 0\n",
    "\n",
    "(x0 - a)\n",
    "\n",
    "\n",
    "\n",
    "\n",
    "\n",
    "interval closure. Sure.\n",
    "\n",
    "\n",
    "galois connection between Lattice sets of R and their interval closures. Lattice of intervals\n",
    "\n",
    "R^n boxes.functions of sets vs functions of points. You can derive a function of sets from a function fo points.\n",
    "\n",
    "Monotonically increasing. Functions that make sense (are derived from point functions) are those that are monotonically increasing and convergent. When the set is a point, it equals the point function and monotnically increasing\n",
    "wdith of input converging implies width of output converging\n",
    "\n",
    "\n",
    "\n",
    "x sub y\n",
    "f(x) sub f(y)\n",
    "\n",
    "\n",
    "injection and closure. Every interval is a set.\n",
    "Every set has a closure.\n",
    "\n",
    "Convex hull is similar. BVetween the lattice of sets of R^n\n",
    "\n",
    "<= \n",
    "\n",
    "What is a set?\n",
    "\n",
    "\n",
    "\n",
    "set inversion. compute preimage\n",
    "\n",
    "\n",
    "sivia - set inversion by interval analysis\n",
    "\n",
    "\n",
    "\n",
    "\n",
    "if s\n",
    "\n",
    "contractors\n",
    "\n",
    "contractor is IR^n -> IR^n\n",
    "C([x])\n",
    "1. C([x]) sub [x] contractance\n",
    "2. C([x] intersect X = [x] interesect x - completeness\n",
    "\n",
    "\n",
    "A sub R^n. \n",
    "C(C(x)) sub C([x])\n",
    "\n",
    "idempotent\n",
    "\n",
    "\n",
    "so a self map of a lattice.\n",
    "It's an endofunctor from category theory\n",
    "\n",
    "\n",
    "Is it a homomorphism? \n",
    "\n",
    "\n",
    "motonoicity\n",
    "[x] sub [y] implies C\n",
    "\n",
    "\n",
    "C x -> x   looks like return or coreturn \n",
    "C C x -> C x   yes.\n",
    "\n",
    "A contractor is a monad (or comonad)\n",
    "\n",
    "\n",
    "\n",
    "\n",
    "True and False as a lattice. The Maybe lattice.\n",
    "Julia's missing\n",
    "\n",
    "\n",
    "contract(x)\n",
    "\n",
    "\n",
    "primitive eqaution: cannot be decomposed\n",
    " y = exp(x) + x^2\n",
    "\n",
    "No compound expressions A-normal form\n",
    "\n",
    "\n",
    "Seperator - a piar of contractors one for S, for for it's completment/\n",
    "\n",
    "\n",
    "\n"
   ]
  },
  {
   "cell_type": "code",
   "execution_count": null,
   "metadata": {},
   "outputs": [],
   "source": [
    "def sivia(f, start, S, eps = 0.1):\n",
    "    queue = [start]\n",
    "    Xminux = []\n",
    "    Xplus = []\n",
    "    while length(queue) > 0:\n",
    "        box = queue.pop()\n",
    "        outer = f(box)\n",
    "        if outer in outset:\n",
    "            Xminus.append(outer)\n",
    "        elif intersect(outer, S) == 0:\n",
    "            pass\n",
    "        elif width(outset) <= eps:\n",
    "            Xplus.append(outset)\n",
    "        else:\n",
    "            queue.append(box.split())\n",
    "    return Xminus, Xplus\n",
    "\n",
    "# Wait so this does have all three\n",
    "\n",
    "def contract(x,y,z): # x + y == z\n",
    "    z = z.intersect( x + y )\n",
    "    y = y.intersect( z - x )\n",
    "    x = x.intersect( z - y )\n",
    "    "
   ]
  }
 ],
 "metadata": {
  "kernelspec": {
   "display_name": "Python 3",
   "language": "python",
   "name": "python3"
  },
  "language_info": {
   "codemirror_mode": {
    "name": "ipython",
    "version": 3
   },
   "file_extension": ".py",
   "mimetype": "text/x-python",
   "name": "python",
   "nbconvert_exporter": "python",
   "pygments_lexer": "ipython3",
   "version": "3.8.5"
  }
 },
 "nbformat": 4,
 "nbformat_minor": 4
}
