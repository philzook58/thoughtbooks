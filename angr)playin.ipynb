{
 "cells": [
  {
   "cell_type": "code",
   "execution_count": 2,
   "metadata": {},
   "outputs": [
    {
     "name": "stderr",
     "output_type": "stream",
     "text": [
      "WARNING | 2020-09-03 13:28:38,417 | \u001b[36mcle.loader\u001b[0m | \u001b[36mThe main binary is a position-independent executable. It is being loaded with a base address of 0x400000.\u001b[0m\n"
     ]
    }
   ],
   "source": [
    "import angr\n",
    "proj = angr.Project(\"/bin/true\")"
   ]
  },
  {
   "cell_type": "code",
   "execution_count": 3,
   "metadata": {},
   "outputs": [
    {
     "ename": "ModuleNotFoundError",
     "evalue": "No module named 'monkeyhex'",
     "output_type": "error",
     "traceback": [
      "\u001b[0;31m---------------------------------------------------------------------------\u001b[0m",
      "\u001b[0;31mModuleNotFoundError\u001b[0m                       Traceback (most recent call last)",
      "\u001b[0;32m<ipython-input-3-43901bf3d756>\u001b[0m in \u001b[0;36m<module>\u001b[0;34m\u001b[0m\n\u001b[0;32m----> 1\u001b[0;31m \u001b[0;32mimport\u001b[0m \u001b[0mmonkeyhex\u001b[0m\u001b[0;34m\u001b[0m\u001b[0;34m\u001b[0m\u001b[0m\n\u001b[0m",
      "\u001b[0;31mModuleNotFoundError\u001b[0m: No module named 'monkeyhex'"
     ]
    }
   ],
   "source": [
    "import monkeyhex"
   ]
  },
  {
   "cell_type": "code",
   "execution_count": 6,
   "metadata": {},
   "outputs": [
    {
     "data": {
      "text/plain": [
       "'/bin/true'"
      ]
     },
     "execution_count": 6,
     "metadata": {},
     "output_type": "execute_result"
    }
   ],
   "source": [
    "proj.arch\n",
    "proj.entry\n",
    "proj.filename"
   ]
  },
  {
   "cell_type": "code",
   "execution_count": 7,
   "metadata": {},
   "outputs": [
    {
     "data": {
      "text/plain": [
       "['__class__',\n",
       " '__delattr__',\n",
       " '__dict__',\n",
       " '__dir__',\n",
       " '__doc__',\n",
       " '__eq__',\n",
       " '__format__',\n",
       " '__ge__',\n",
       " '__getattribute__',\n",
       " '__getstate__',\n",
       " '__gt__',\n",
       " '__hash__',\n",
       " '__init__',\n",
       " '__init_subclass__',\n",
       " '__le__',\n",
       " '__lt__',\n",
       " '__module__',\n",
       " '__ne__',\n",
       " '__new__',\n",
       " '__reduce__',\n",
       " '__reduce_ex__',\n",
       " '__repr__',\n",
       " '__setattr__',\n",
       " '__setstate__',\n",
       " '__sizeof__',\n",
       " '__str__',\n",
       " '__subclasshook__',\n",
       " '__weakref__',\n",
       " '_addr_to_str',\n",
       " '_analyses_preset',\n",
       " '_check_user_blacklists',\n",
       " '_default_analysis_mode',\n",
       " '_exclude_sim_procedures_func',\n",
       " '_exclude_sim_procedures_list',\n",
       " '_executing',\n",
       " '_guess_simprocedure',\n",
       " '_hook_decorator',\n",
       " '_ignore_functions',\n",
       " '_initialize_analyses_hub',\n",
       " '_load',\n",
       " '_register_object',\n",
       " '_sim_procedures',\n",
       " '_simos',\n",
       " '_store',\n",
       " '_support_selfmodifying_code',\n",
       " '_translation_cache',\n",
       " 'analyses',\n",
       " 'arch',\n",
       " 'concrete_target',\n",
       " 'entry',\n",
       " 'execute',\n",
       " 'factory',\n",
       " 'filename',\n",
       " 'hook',\n",
       " 'hook_symbol',\n",
       " 'hooked_by',\n",
       " 'is_hooked',\n",
       " 'is_java_jni_project',\n",
       " 'is_java_project',\n",
       " 'is_symbol_hooked',\n",
       " 'kb',\n",
       " 'load_function',\n",
       " 'loader',\n",
       " 'rehook_symbol',\n",
       " 'simos',\n",
       " 'storage',\n",
       " 'store_function',\n",
       " 'terminate_execution',\n",
       " 'unhook',\n",
       " 'unhook_symbol',\n",
       " 'use_sim_procedures']"
      ]
     },
     "execution_count": 7,
     "metadata": {},
     "output_type": "execute_result"
    }
   ],
   "source": [
    "dir(proj)"
   ]
  },
  {
   "cell_type": "code",
   "execution_count": 9,
   "metadata": {},
   "outputs": [
    {
     "data": {
      "text/plain": [
       "OrderedDict([('true', <ELF Object true, maps [0x400000:0x60721f]>),\n",
       "             ('libc.so.6',\n",
       "              <ELF Object libc-2.27.so, maps [0x700000:0xaf0adf]>),\n",
       "             ('ld-linux-x86-64.so.2',\n",
       "              <ELF Object ld-2.27.so, maps [0xb00000:0xd2916f]>),\n",
       "             ('extern-address space',\n",
       "              <ExternObject Object cle##externs, maps [0xe00000:0xe80000]>),\n",
       "             ('cle##tls',\n",
       "              <ELFTLSObjectV2 Object cle##tls, maps [0xf00000:0xf15010]>)])"
      ]
     },
     "execution_count": 9,
     "metadata": {},
     "output_type": "execute_result"
    }
   ],
   "source": [
    "proj.loader.shared_objects"
   ]
  },
  {
   "cell_type": "code",
   "execution_count": 12,
   "metadata": {},
   "outputs": [
    {
     "name": "stdout",
     "output_type": "stream",
     "text": [
      "0x4017b0:\txor\tebp, ebp\n",
      "0x4017b2:\tmov\tr9, rdx\n",
      "0x4017b5:\tpop\trsi\n",
      "0x4017b6:\tmov\trdx, rsp\n",
      "0x4017b9:\tand\trsp, 0xfffffffffffffff0\n",
      "0x4017bd:\tpush\trax\n",
      "0x4017be:\tpush\trsp\n",
      "0x4017bf:\tlea\tr8, [rip + 0x322a]\n",
      "0x4017c6:\tlea\trcx, [rip + 0x31b3]\n",
      "0x4017cd:\tlea\trdi, [rip - 0xe4]\n",
      "0x4017d4:\tcall\tqword ptr [rip + 0x2057fe]\n"
     ]
    }
   ],
   "source": [
    "block = proj.factory.block(proj.entry)\n",
    "block.pp()"
   ]
  },
  {
   "cell_type": "code",
   "execution_count": 14,
   "metadata": {},
   "outputs": [
    {
     "data": {
      "text/plain": [
       "11"
      ]
     },
     "execution_count": 14,
     "metadata": {},
     "output_type": "execute_result"
    }
   ],
   "source": [
    "block.instructions\n"
   ]
  },
  {
   "cell_type": "code",
   "execution_count": 15,
   "metadata": {},
   "outputs": [],
   "source": [
    "import bap"
   ]
  },
  {
   "cell_type": "code",
   "execution_count": 16,
   "metadata": {},
   "outputs": [
    {
     "ename": "Failed",
     "evalue": "exited with return code 1\n\n        Standard output:\nb''\n\n        Standard error: \nb'Failed to load plugin \"wp\": Failed to load core: error loading shared library: Dynlink.Error (Dynlink.Cannot_open_dll \"(Failure\\\\n  \\\\\"/tmp/core69cae7.cmxs: undefined symbol: core_kernel_time_ns_format_tm\\\\\")\")\\nFailed to load 1 plugins, details follow:\\nThe plugin `/home/philip/.opam/bappy4/lib/bap/wp.plugin\\' has failed with the following error:\\nFailed to load core: error loading shared library: Dynlink.Error (Dynlink.Cannot_open_dll \"(Failure\\\\n  \\\\\"/tmp/core69cae7.cmxs: undefined symbol: core_kernel_time_ns_format_tm\\\\\")\")\\n\\n'\n\n        Invoked as: bap /bin/true -dadt\n        ",
     "output_type": "error",
     "traceback": [
      "\u001b[0;31m---------------------------------------------------------------------------\u001b[0m",
      "\u001b[0;31mFailed\u001b[0m                                    Traceback (most recent call last)",
      "\u001b[0;32m<ipython-input-16-85c7a822d4c8>\u001b[0m in \u001b[0;36m<module>\u001b[0;34m\u001b[0m\n\u001b[0;32m----> 1\u001b[0;31m \u001b[0mbap\u001b[0m\u001b[0;34m.\u001b[0m\u001b[0mrun\u001b[0m\u001b[0;34m(\u001b[0m\u001b[0;34m\"/bin/true\"\u001b[0m\u001b[0;34m)\u001b[0m\u001b[0;34m\u001b[0m\u001b[0;34m\u001b[0m\u001b[0m\n\u001b[0m",
      "\u001b[0;32m~/.local/lib/python3.6/site-packages/bap/bap.py\u001b[0m in \u001b[0;36mrun\u001b[0;34m(path, args, bap, parser)\u001b[0m\n\u001b[1;32m    130\u001b[0m         \u001b[0;32mraise\u001b[0m \u001b[0mKilled\u001b[0m\u001b[0;34m(\u001b[0m\u001b[0;34m-\u001b[0m\u001b[0mbap\u001b[0m\u001b[0;34m.\u001b[0m\u001b[0mreturncode\u001b[0m\u001b[0;34m,\u001b[0m \u001b[0mopts\u001b[0m\u001b[0;34m,\u001b[0m \u001b[0mout\u001b[0m\u001b[0;34m,\u001b[0m \u001b[0merr\u001b[0m\u001b[0;34m)\u001b[0m\u001b[0;34m\u001b[0m\u001b[0;34m\u001b[0m\u001b[0m\n\u001b[1;32m    131\u001b[0m     \u001b[0;32melse\u001b[0m\u001b[0;34m:\u001b[0m\u001b[0;34m\u001b[0m\u001b[0;34m\u001b[0m\u001b[0m\n\u001b[0;32m--> 132\u001b[0;31m         \u001b[0;32mraise\u001b[0m \u001b[0mFailed\u001b[0m\u001b[0;34m(\u001b[0m\u001b[0mbap\u001b[0m\u001b[0;34m.\u001b[0m\u001b[0mreturncode\u001b[0m\u001b[0;34m,\u001b[0m \u001b[0mopts\u001b[0m\u001b[0;34m,\u001b[0m \u001b[0mout\u001b[0m\u001b[0;34m,\u001b[0m \u001b[0merr\u001b[0m\u001b[0;34m)\u001b[0m\u001b[0;34m\u001b[0m\u001b[0;34m\u001b[0m\u001b[0m\n\u001b[0m",
      "\u001b[0;31mFailed\u001b[0m: exited with return code 1\n\n        Standard output:\nb''\n\n        Standard error: \nb'Failed to load plugin \"wp\": Failed to load core: error loading shared library: Dynlink.Error (Dynlink.Cannot_open_dll \"(Failure\\\\n  \\\\\"/tmp/core69cae7.cmxs: undefined symbol: core_kernel_time_ns_format_tm\\\\\")\")\\nFailed to load 1 plugins, details follow:\\nThe plugin `/home/philip/.opam/bappy4/lib/bap/wp.plugin\\' has failed with the following error:\\nFailed to load core: error loading shared library: Dynlink.Error (Dynlink.Cannot_open_dll \"(Failure\\\\n  \\\\\"/tmp/core69cae7.cmxs: undefined symbol: core_kernel_time_ns_format_tm\\\\\")\")\\n\\n'\n\n        Invoked as: bap /bin/true -dadt\n        "
     ]
    }
   ],
   "source": [
    "bap.run(\"/bin/true\")"
   ]
  },
  {
   "cell_type": "code",
   "execution_count": null,
   "metadata": {},
   "outputs": [],
   "source": []
  }
 ],
 "metadata": {
  "kernelspec": {
   "display_name": "Python 3",
   "language": "python",
   "name": "python3"
  },
  "language_info": {
   "codemirror_mode": {
    "name": "ipython",
    "version": 3
   },
   "file_extension": ".py",
   "mimetype": "text/x-python",
   "name": "python",
   "nbconvert_exporter": "python",
   "pygments_lexer": "ipython3",
   "version": "3.6.9"
  }
 },
 "nbformat": 4,
 "nbformat_minor": 4
}
