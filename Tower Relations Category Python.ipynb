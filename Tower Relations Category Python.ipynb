{
 "cells": [
  {
   "cell_type": "markdown",
   "metadata": {},
   "source": [
    "We perform matching order by order in a taylor series or perturbation expansion.\n",
    "\n",
    "It seems like this could be modelled usign a mix of power serious lazy/ generator techniques and linear relations\n",
    "\n",
    "\n",
    "My way of building relations is actually an equalizer?\n",
    "\n",
    "And then also kind of \n",
    "\n",
    "The span thing.\n",
    "\n",
    "Take generators, there is a map fr\n",
    "This is a map from Ngen -> A\n",
    "and NGen -> B\n",
    "\n",
    "To get new NGen\n",
    "\n",
    "A <x- Ngen -y> B\n",
    "\n",
    "and then \n",
    "B <z- Ngen' -w> C\n",
    "\n",
    "Then we need to find best/universal maps (matrices) such that\n",
    "yf = zg  ===   [y  -z][f ; g] = 0( indeed this is an hrep equation. An equalizer? Ngen'' ==>   )\n",
    "\n",
    "Then the new generator matrices are\n",
    "xf and wg\n",
    "\n",
    "\n",
    "Basically the same shit though\n",
    "\n",
    "\n",
    "span is Vrep\n",
    "cospan is Hrep\n",
    "\n",
    "\n",
    "span composition vs cospan composition\n",
    "\n",
    "\n",
    "\n",
    "\n"
   ]
  },
  {
   "cell_type": "markdown",
   "metadata": {},
   "source": [
    "We choose to only cares about linear transofrmations projectively. A and l A are the same transformation for our purposes. \n",
    "We are mapping subspaces to each other, not individual vectors to individual vectors.\n",
    "\n",
    "\n",
    "Affine transformations may be more familiar. y = Ax + b. We can embed affine transformations into linear transformations by the method of homogenous coordinates. Homogenous coordinates\n",
    "\n",
    "We can also \n",
    "\n",
    "\n",
    "\n",
    "Affine transformations and gaussians.\n",
    "Multidimensional Gaussian integrals are basically solvable by linear algebra.\n",
    "e^{ xAx + bx + c }\n",
    "\n",
    "Multiply and integrate -> add and mininimize over interior variable.\n",
    "-> immedaitely leads to Gaussian + linear constraints (which is fine. these are tractable)\n",
    "-> Affine equations with dual variables.\n",
    "\n",
    "\n",
    "We can still do summation of objective with dual variables, but it is more confusing.\n",
    "\n",
    "Why are there so many moving parts?\n",
    "It feels very inelegant.\n",
    "\n",
    "It isn't a catgoery without linear constraints\n",
    "\n",
    "can sympy integrate the gaussian for us?\n",
    "Or Minimize for us?\n",
    "\n",
    "\n",
    "Really we want guassians and delta functions\n",
    "There is a classic point that really delta functions are distributions, not functions\n",
    "They are linear functionals on functions\n",
    "\n",
    "So if we defined ourselves as disribtuions, Then inplcitly we're getitng a nice beefy gaussian coming in.\n",
    "\n",
    "There is a little more going on. It's both a central point and an ellipse around that point\n",
    " (perhaps degenrate in some dimensions)\n",
    " \n",
    " Homegenizing this becuases cones in projective space. But like good cones.\n",
    "\n",
    "\n",
    "You want to come up with a functional relationship\n",
    "such that the function combined with the linear relations is sufficient to determined\n",
    "\n",
    "maybe you want to maintain a span.\n",
    "\n",
    "a minimal representation of the space with functions going to the interface variables.\n",
    "\n",
    "So then it is a regular span,\n",
    "But we have to combine the quadratic forms of the free variables to get the combined quadratic form.\n",
    "\n",
    "\n",
    "The span cospan thing makes sense because we really do need to effect linear substitions during our maniupations.\n",
    "\n",
    "\n",
    "so.\n",
    "\n",
    "vrep and hrep are not symmetrical in this case because we need to add objectives, which are quadratic forms of the vrep, but not the hrep.\n",
    "\n",
    "two forms\n",
    "v1Av1    v2Bv2\n",
    "\n",
    "we form pullback of mapping to interior variables y\n",
    "f1 : v1 -> y\n",
    "f2 : v2 -> y\n",
    "\n",
    "p1 : v -> v1\n",
    "p2 : v -> v2\n",
    "\n",
    "\n",
    "A' = p1Ap1 + p2BP2\n",
    "g' = g1 . p1\n",
    "h' = h2 . p2\n",
    "\n",
    "If minimzatin of the inteiorr variable doesn't matter, by diconnect or imcomplete\n",
    "\n",
    "\n",
    "\n",
    "Gaussians and \n",
    "\n",
    "Computing Gaussians in Numpy with Categorical Spans\n",
    "\n",
    "\n",
    "Why gaussians over other options?\n",
    "\n",
    "\n",
    "https://github.com/epatters/Catlab.jl/issues/87#issuecomment-596166224\n",
    "\n"
   ]
  },
  {
   "cell_type": "code",
   "execution_count": 27,
   "metadata": {},
   "outputs": [],
   "source": [
    "import numpy as np\n",
    "import scipy\n",
    "import scipy.linalg\n",
    "# https://docs.scipy.org/doc/numpy/user/basics.subclassing.html\n",
    "class FinVect(np.ndarray):\n",
    "    def __new__(cls, input_array, info=None):\n",
    "        # Input array is an already formed ndarray instance\n",
    "        # We first cast to be our class type\n",
    "        \n",
    "        obj = np.asarray(input_array).view(cls)\n",
    "        assert(len(obj.shape) == 2) # should be matrix\n",
    "        # add the new attribute to the created instance\n",
    "        # Finally, we must return the newly created object:\n",
    "        return obj\n",
    "    @property\n",
    "    def dom(self):\n",
    "        ''' returns the domain of the morphism. This is the number of columns of the matrix'''\n",
    "        return self.shape[1]\n",
    "    @property\n",
    "    def cod(self):\n",
    "        ''' returns the codomain of the morphism. This is the numer of rows of the matrix'''\n",
    "        return self.shape[0]\n",
    "    def idd(n):\n",
    "        ''' The identity morphism is the identity matrix. Isn't that nice? '''\n",
    "        return FinVect(np.eye(n))\n",
    "    def compose(f,g):\n",
    "        ''' Morphism composition is matrix multiplication. Isn't that nice?'''\n",
    "        return f @ g\n",
    "    def par(f,g):\n",
    "        ''' One choice of monoidal product is the direct sum '''\n",
    "        r, c = f.shape\n",
    "        rg, cg = g.shape\n",
    "        return Vect(np.block( [ [f       ,           np.zeros((r,cg))]  ,\n",
    "                                [np.zeros((rg,c))  , g              ]]  ))\n",
    "    def par2(f,g):\n",
    "        '''  another choice is the kroncker product'''\n",
    "        return np.kron(f,g)\n",
    "    def monic(self):\n",
    "        ''' Is mapping injective. \n",
    "            In other words, maps every incoming vector to distinct outgoing vector.\n",
    "            In other words, are the columns independent. \n",
    "            In other words, does `self @ g == self @ f`  imply  `g == f` forall g,f \n",
    "            https://en.wikipedia.org/wiki/Monomorphism '''\n",
    "        return np.linalg.matrix_rank(self) == self.dom\n",
    "    def epic(self):\n",
    "        ''' is mapping surjective? '''\n",
    "        return np.linalg.matrix_rank(self) == self.cod\n",
    "    def product(a,b):\n",
    "        ''' The product takes in two object (dimensions) a,b and outputs a new dimension d , two projection morphsisms\n",
    "            and a universal morphism.\n",
    "            The \"product\" dimension is the sum of the individual dimensions (funky, huh?)\n",
    "        '''\n",
    "        d = a + b # new object\n",
    "        p1 = FinVect(np.hstack( [np.eye(a)      , np.zeros((a,b))]  ))\n",
    "        p2 = FinVect(np.hstack( [np.zeros((b,a)), np.eye(b)      ]  ))\n",
    "        def univ(f,g):\n",
    "            assert(f.dom == g.dom) # look at diagram. The domains of f and g must match\n",
    "            e = np.vstack(f,g) \n",
    "            # postconditions. True by construction.\n",
    "            assert( np.allclose(p1 @ e , f )) # triangle condition 1\n",
    "            assert( np.allclose(p2 @ e , g ) ) # triangle condition 2\n",
    "            return e\n",
    "        return d, p1, p2, univ\n",
    "    def coproduct(a,b):\n",
    "        ''' The coproduct takes in two object (dimensions) and outputs a new dimension and a universal morphism\n",
    "        '''\n",
    "        d = a + b # new object\n",
    "        p1 = FinVect(np.hstack( [np.eye(a)      , np.zeros((a,b))]  ))\n",
    "        p2 = FinVect(np.hstack( [np.zeros((b,a)), np.eye(b)      ]  ))\n",
    "        def univ(f,g):\n",
    "            assert(f.dom == g.dom) # look at diagram. The domains of f and g must match\n",
    "            return np.vstack(f,g) \n",
    "        return d, p1, p2, univ\n",
    "        \n",
    "        return a + b, lambda f,g : np.hstack(f,g) \n",
    "\n",
    "    def equalizer(f,g):\n",
    "        ''' The equalizer is one way of expression an equality problem in the language of Vect.\n",
    "            It converts an implicit representation of the nullspace into an explicit representation of the \n",
    "        '''\n",
    "        assert( f.dom == g.dom and f.cod == g.cod  ) # Must be parallel morphisms\n",
    "        return Vect( np.linalg.null_space( np.hstack([f,-g]) )  )\n",
    "    \n",
    "    def coequalizer(f,g):\n",
    "        assert( f.dom == g.dom and f.cod == g.cod  ) # Must be parallel morphisms\n",
    "        #assert()\n",
    "        #Vect( scipy.linalg.orth(np.vstack( [f,g] )) )\n",
    "        pass\n",
    "    def pullback(f,g):\n",
    "        assert( f.cod == g.cod  ) # Most have common codomain\n",
    "        # horizontally stack the two operations. \n",
    "        \n",
    "        null = scipy.linalg.null_space( np.hstack([f,-g]) )\n",
    "        d = null.shape[1] # dimension object of corner of pullback\n",
    "        p1 = FinVect(null[:f.dom, :])\n",
    "        p2 = FinVect(null[f.dom:, :])\n",
    "        \n",
    "        def univ(u,v):\n",
    "            # preconditions\n",
    "            assert(u.dom == v.dom )\n",
    "            assert( np.allclose(f @ u , g @ v ) ) # given a new square. This means u,v have to inject into the nullspace\n",
    "            \n",
    "            e = null.T @ np.vstack([u,v])  # calculate universal morphism == p1 @ u + p2 @ v\n",
    "            \n",
    "            # postcondition\n",
    "            assert( np.allclose(p1 @ e, u )) # verify triangle 1\n",
    "            assert( np.allclose(p2 @ e, v ) )  # verify triangle 2\n",
    "            \n",
    "            return e    \n",
    "        \n",
    "        # postcondition\n",
    "        assert( np.allclose(  f @ p1,  g @ p2 )  ) # These projections form a commutative square.\n",
    "        return  d, p1, p2, univ   \n",
    "    def pushout(f,g):\n",
    "        assert( f.dom == g.dom ) # Most have common codomain\n",
    "        pass\n",
    "    def exponential(self):\n",
    "        pass\n",
    "        '''\n",
    "        The expential object is Hom( V , W -> U ) ~ Hom( V \\otimes W , U )\n",
    "        '''\n",
    "    def terminal():\n",
    "        ''' terminal object has unique morphism to it '''\n",
    "        return 0, lambda x : FinVect(np.ones((0, x)))\n",
    "    def initial():\n",
    "        ''' the initial object has a unique morphism from it\n",
    "        The initial and final object are the same in FinVect'''\n",
    "        return 0, lambda x :  FinVect(np.ones((x, 0)))"
   ]
  },
  {
   "cell_type": "code",
   "execution_count": 28,
   "metadata": {},
   "outputs": [
    {
     "name": "stdout",
     "output_type": "stream",
     "text": [
      "True\n",
      "[]\n",
      "[]\n"
     ]
    }
   ],
   "source": [
    "\n",
    "h = FinVect(np.random.randn(4,2))\n",
    "print(h.monic()) # random matrices going from small d to large d will be injections, monic\n",
    "\n",
    "f = FinVect(np.random.randn(2,4))\n",
    "g = FinVect(np.random.randn(2,7))\n",
    "f.epic()\n",
    "d, p1, p2, univ = FinVect.pullback(f,g)\n",
    "d\n",
    "f @ p1 - g @ p2 \n",
    "\n",
    "#u = FinVect(np.random.randn(4,2))\n",
    "#v = FinVect(np.random.randn(7,3))\n",
    "univ( p1, p2 ).round(5) # identity matrix. Makes sense\n",
    "univ( p1[ : , :2 ] , p2[ :, :2] ).round(5)\n",
    "t, u = FinVect.terminal()\n",
    "print(u(3))\n",
    "t, u = FinVect.initial()\n",
    "print(u(4))"
   ]
  },
  {
   "cell_type": "code",
   "execution_count": 20,
   "metadata": {},
   "outputs": [
    {
     "data": {
      "text/plain": [
       "(0, 3)"
      ]
     },
     "execution_count": 20,
     "metadata": {},
     "output_type": "execute_result"
    }
   ],
   "source": [
    "t, u = FinVect.terminal()\n",
    "u(3) "
   ]
  },
  {
   "cell_type": "code",
   "execution_count": 39,
   "metadata": {},
   "outputs": [
    {
     "data": {
      "text/plain": [
       "2"
      ]
     },
     "execution_count": 39,
     "metadata": {},
     "output_type": "execute_result"
    }
   ],
   "source": [
    "x, y, z = {i : 2*i for i in range(3)}.values()\n",
    "y"
   ]
  },
  {
   "cell_type": "markdown",
   "metadata": {},
   "source": [
    "properties\n",
    "\n",
    "pullback(monic()).monic()\n",
    "\n",
    "Why are these constructions true? Uh, I'm just convinced they are.\n",
    "\n",
    "\n",
    "f = FinVect(np.random.randn((2,4)))\n",
    "g = FinVect(np.random.randn((2,7)))\n",
    "d, p1, p2, univ = FinVect.pullback(f,g)\n",
    "\n",
    "\n",
    "\n"
   ]
  },
  {
   "cell_type": "code",
   "execution_count": 14,
   "metadata": {},
   "outputs": [
    {
     "data": {
      "text/plain": [
       "Vect([[1., 0., 0., 0., 0., 0.],\n",
       "      [0., 1., 0., 0., 0., 0.],\n",
       "      [0., 0., 1., 0., 0., 0.],\n",
       "      [0., 0., 0., 1., 0., 0.],\n",
       "      [0., 0., 0., 0., 1., 0.],\n",
       "      [0., 0., 0., 0., 0., 1.]])"
      ]
     },
     "execution_count": 14,
     "metadata": {},
     "output_type": "execute_result"
    }
   ],
   "source": [
    "Vect(np.eye(3)).par(np.eye(3))"
   ]
  },
  {
   "cell_type": "code",
   "execution_count": 17,
   "metadata": {},
   "outputs": [
    {
     "data": {
      "text/plain": [
       "Vect([[1., 0., 0.],\n",
       "      [0., 1., 0.],\n",
       "      [0., 0., 1.]])"
      ]
     },
     "execution_count": 17,
     "metadata": {},
     "output_type": "execute_result"
    }
   ],
   "source": []
  },
  {
   "cell_type": "markdown",
   "metadata": {},
   "source": [
    "Actual functions are very powerful. \n",
    "They have both the gift and a curse of having only 1 interface, the ability to apply them\n",
    "\n",
    "They can syntactically be very small, yet encode in a sense an infinite amount of information\n",
    "\n",
    "\n",
    "To tabulate a function requires that it be finite\n",
    "\n",
    "But once you have a tabulation, it is straightforward\n"
   ]
  },
  {
   "cell_type": "code",
   "execution_count": 29,
   "metadata": {},
   "outputs": [],
   "source": [
    "from collections import Counter"
   ]
  },
  {
   "cell_type": "code",
   "execution_count": 30,
   "metadata": {},
   "outputs": [
    {
     "data": {
      "text/plain": [
       "Counter({1: 1, 2: 1, 3: 1, 4: 4})"
      ]
     },
     "execution_count": 30,
     "metadata": {},
     "output_type": "execute_result"
    }
   ],
   "source": [
    "Counter([1,2,3,4,4,4,4])"
   ]
  },
  {
   "cell_type": "code",
   "execution_count": 40,
   "metadata": {},
   "outputs": [
    {
     "ename": "TypeError",
     "evalue": "unhashable type: 'dict'",
     "output_type": "error",
     "traceback": [
      "\u001b[0;31m---------------------------------------------------------------------------\u001b[0m",
      "\u001b[0;31mTypeError\u001b[0m                                 Traceback (most recent call last)",
      "\u001b[0;32m<ipython-input-40-d0678b2405c6>\u001b[0m in \u001b[0;36m<module>\u001b[0;34m\u001b[0m\n\u001b[1;32m      3\u001b[0m \u001b[0mall\u001b[0m\u001b[0;34m(\u001b[0m \u001b[0;34m[\u001b[0m\u001b[0mcount\u001b[0m \u001b[0;34m==\u001b[0m \u001b[0;36m1\u001b[0m \u001b[0;32mfor\u001b[0m \u001b[0mcount\u001b[0m \u001b[0;32min\u001b[0m \u001b[0mCounter\u001b[0m\u001b[0;34m(\u001b[0m\u001b[0mz\u001b[0m\u001b[0;34m.\u001b[0m\u001b[0mvalues\u001b[0m\u001b[0;34m(\u001b[0m\u001b[0;34m)\u001b[0m\u001b[0;34m)\u001b[0m\u001b[0;34m.\u001b[0m\u001b[0mvalues\u001b[0m\u001b[0;34m(\u001b[0m\u001b[0;34m)\u001b[0m\u001b[0;34m]\u001b[0m\u001b[0;34m)\u001b[0m\u001b[0;34m\u001b[0m\u001b[0;34m\u001b[0m\u001b[0m\n\u001b[1;32m      4\u001b[0m \u001b[0mtype\u001b[0m\u001b[0;34m(\u001b[0m\u001b[0mset\u001b[0m\u001b[0;34m(\u001b[0m\u001b[0mz\u001b[0m\u001b[0;34m.\u001b[0m\u001b[0mkeys\u001b[0m\u001b[0;34m(\u001b[0m\u001b[0;34m)\u001b[0m\u001b[0;34m)\u001b[0m\u001b[0;34m)\u001b[0m\u001b[0;34m\u001b[0m\u001b[0;34m\u001b[0m\u001b[0m\n\u001b[0;32m----> 5\u001b[0;31m \u001b[0;34m{\u001b[0m\u001b[0mz\u001b[0m\u001b[0;34m}\u001b[0m\u001b[0;34m\u001b[0m\u001b[0;34m\u001b[0m\u001b[0m\n\u001b[0m",
      "\u001b[0;31mTypeError\u001b[0m: unhashable type: 'dict'"
     ]
    }
   ],
   "source": [
    "z = {x : x for x in range(10)}\n",
    "z[0] = 3\n",
    "all( [count == 1 for count in Counter(z.values()).values()])\n",
    "type(set(z.keys()))\n",
    "{z} # we can't have a set of dcitionarys"
   ]
  },
  {
   "cell_type": "code",
   "execution_count": 42,
   "metadata": {},
   "outputs": [
    {
     "data": {
      "text/plain": [
       "True"
      ]
     },
     "execution_count": 42,
     "metadata": {},
     "output_type": "execute_result"
    }
   ],
   "source": [
    "z = {x : x for x in range(10)}\n",
    "z2 = {x : x for x in range(10)}\n",
    "z == z2"
   ]
  },
  {
   "cell_type": "markdown",
   "metadata": {},
   "source": [
    "# Computational Category Theory in Python I: Dictionaries for FinSet\n",
    "\n",
    "Category theory is a mathematical theory with reputation for being very abstract.\n",
    "Category theory is an algebraic theory of functions. It has the flavor of connecting up little pipes and ports that is reminiscent of dataflow languages or circuits, but with some hearty mathematical underpinnings.\n",
    "\n",
    "There's a really delightful book by Rydeheard and Burstall called Computational Category Theory. The first time I looked at it, I couldn't make heads or tails of it, going on the double uphill battle of category theory and Standard ML. But looking at it now, it seems extremely straightforward and well presented. It's a cookbook of how to build category theoretic interfaces for software.\n",
    "\n",
    "I think it is easy to have the miscomprehension that a fancy language like Haskell or Agda is necessary to even begin writing software that encapsulates category theory based ideas, but this is simply not the case. I've been under this misapprehension before.\n",
    "\n",
    "So I think it is interesting to perform some translation into python, the lingua franca of computing today.\n",
    "\n",
    "A very simple category is that of finite sets. The objects in the category can be represented by python sets. The morphisms can be represented by python dictionaries. Nothing abstract here. We can rip and tear these things apart any which way we please.\n",
    "\n",
    "The manipulations are made even more pleasant by the python features of set and dictionary comprehension.\n",
    "\n",
    "\n",
    "Here is a python class for FinSet.\n",
    "\n",
    "\n",
    "\n",
    "Next time:\n",
    "\n",
    "- Numpy - How to compute a pullback in FinVect\n",
    "- Pandas - There are couple different options here. The Spivak Categorical Databases crew\n",
    "- Sympy - The category of substition into terms. Also modules\n",
    "- Z3py - Categorical Logic\n",
    "\n",
    "\n",
    "\n",
    "\n",
    "For more:\n",
    "Bartosz Milewski's Category thoery for Programmers\n",
    "\n",
    "\n",
    "Category theory can get quite high falutin'. \n",
    "\n",
    "From a programming perspective what is the point of all this goddamn nonsense?\n",
    "\n",
    "\n",
    "\n",
    "Good libraries present an interface to the users. One of the measures of the goodness or badness of an interface is how often you are inclined to peek under the hood to get it to do the thing that you need.\n",
    "I think to some degree that catgeory theorists want to replace underlying mathematical constructions with a uniform categerical interface. \n",
    "\n",
    "\n",
    "\n",
    "They abhor piercing the abstraction barrier so much so that they want to replace any underlying mechanisms with a synthetic version.\n",
    "The formalization and synethetication of math goes all the way back. It has been said that in Euclid's elements, the diagrams are actually just commentary. The arguments in the text should follow given a completely abstract notion of what a point and line actually are. Another exmaple is the square root of two. Most of us have a conception that the square root of 2 is 1.41yada and we can point to it's location on the number line. However, there is a more formal algebraic perspective that the square root of two is some abstract symbol that can be replaced with 2 whenever it appears squared. There is actually a great deal of utility to this persepctive, for example it is the very very start of even framing what it means for a polynomial equation to be solvable in closed form by radicals.\n",
    "\n",
    "\n",
    "Category theory has been found to be a powerful organizing principle of very disparate fields of mathematics.\n",
    "\n",
    "I've become used to associating category theory with Haskell and Agda and Coq and Scala and other very complicated powerfully typed languages. But that is not at all a necessity.\n",
    "\n",
    "\n",
    "I find it very helpful to think about how to meaningfully represent these high falutin' things in python. Python is the lingua franca of programming languages these days. It's pretty easy to learn and get started in all things consider. The library ecosystem is nuts.\n",
    "\n",
    "We can say that such and such construction exists in this category, but I am very confused unless I can understand how such a thing can be represented and actually calculated. The universal constructions like equalizers and pullbacks require a not impossible, but also not trivial amount of work to actually compute.\n",
    "\n",
    "\n",
    "FinSet is a very nice category to get started in. \n",
    "The first example of a category in a programming context is often the functions of the language itself. This is great because they are very familiar and useful. It's not great because functions are not easily introspectable or analyzable, making some important categorical constructions basically impossible to implement.\n",
    "\n",
    "Functions from finite domains to finite codomians can be tabulated into the friendly and familiar python dictionary though! We can run those bad boy backwards and forwards, no problem. Slice 'em, dice 'em , fry 'em. In addition we have the love dictionary comprehension syntax, which makes the definitions appear very close to mathematical definitions you'll find on wikipedia.\n",
    "\n",
    "\n"
   ]
  },
  {
   "cell_type": "code",
   "execution_count": 67,
   "metadata": {},
   "outputs": [],
   "source": [
    "from collections import Counter\n",
    "class FinSet():\n",
    "    def init(self, dom ,cod , f):\n",
    "        '''  In order to specify a morphism, we need to give a python set that is the domain, a python set \n",
    "        that is the codomain, and a dictionary f that encodes a function between these two sets.\n",
    "        We could by assumption just use f.keys() implicitly as the domain, however the codomain is not inferable from just f.\n",
    "        In other categories that domain might not be either, so we chose to require both symmettrically.\n",
    "        '''\n",
    "        assert( dom == set(f.keys())) # f has value for everything in domain\n",
    "        assert( all( [y in cod for y in f.value()] )) # f has only values in codomain\n",
    "        self.cod = cod\n",
    "        self.dom = dom\n",
    "        self.f = f\n",
    "    def __getitem__(self,i):\n",
    "        # a convenient overloading.\n",
    "        return self.f[i]\n",
    "    def compose(f,g):\n",
    "        ''' Composition is function composition. Dictionary comprehension syntax for the win! '''\n",
    "        return FinSet( g.dom, f.cod,  { x : f[g[x]]  for x in g.dom })\n",
    "    def idd(dom):\n",
    "        '''  The identity morphism on an object dom. A function mapping every x to itself'''\n",
    "        return FinSet(dom, dom, { x : x for x in dom})\n",
    "    def __equal__(f,g):\n",
    "        assert(f.dom == g.dom) # I choose to say the question of equality only makes sense if the arrows are parallel.\n",
    "        assert(f.cod == g.cod) # ie. they have the same object at head and tail\n",
    "        return f.f == f.g\n",
    "    def terminal(dom):\n",
    "        ''' The terminal object is an object such that for any other object, there is a unique morphism \n",
    "        to the terminal object\n",
    "        This function returns the object itself {()}  and the universal morphism from dom to that object'''\n",
    "        return {()} , FinSet(dom, {()} ,  {x : () for x in dom} )\n",
    "    def initial(cod):\n",
    "        ''' The initial object is an object such that for any other object, there is a unique morphsm \n",
    "        from the initial object to that object.\n",
    "        It is the dual of the terminal object.\n",
    "        In FinSet, the initial object is the empty set set({}). The mapping is then an empty dictionary dict({})'''\n",
    "        return set({}) , FinSet(set({}), cod, dict({}))\n",
    "    def monic(self):\n",
    "        ''' Returns bool of whether mapping is injective. \n",
    "            In other words, maps every incoming element to unique outgoing element.\n",
    "            In other words, does `self @ g == self @ f`  imply  `g == f` forall g,f \n",
    "            https://en.wikipedia.org/wiki/Monomorphism\n",
    "            Counter class counters occurences'''\n",
    "        codomain_vals = self.f.values()\n",
    "        counts = Counter(codomain_vals).values() # https://docs.python.org/3/library/collections.html#collections.Counter\n",
    "        return all([count == 1 for count in counts]) # no elements map to same element\n",
    "    def epic(self):\n",
    "        ''' is mapping surjective? In other words does the image of the map f cover the entire codomain '''\n",
    "        codomain_vals = self.f.keys() \n",
    "        return set(codomain_vals) == self.cod # cover the codomain\n",
    "    def product(a,b): # takes a sepcific product\n",
    "        ab = { (x,y) for x in a for y in b } \n",
    "        p1 = FinSet( ab, a, { (x,y) : x for (x,y) in ab } )\n",
    "        p2 = FinSet( ab, b, { (x,y) : y for (x,y) in ab } )\n",
    "        return ab, p1, p2 , lambda f,g: FinSet( f.dom, ab, { x : (f[x],g[x]) for x in f.dom  } ) # assert f.dom == g.dom, f.cod == a, g.cod == b\n",
    "    def coproduct(a,b):\n",
    "        ab = { (0,x) for x in a  }.union({ (1,y) for y in b  })\n",
    "        i1 = FinSet( a, ab, { x : (0,x)  for x in a } )\n",
    "        i2 = FinSet( b, ab, { y : (1,y)  for y in b } )\n",
    "        def fanin(f,g):\n",
    "            return { (tag,x) : (f[x] if tag == 0 else g[x]) for (tag,x) in ab }\n",
    "        return ab, i1, i2, fanin\n",
    "    def equalizer(f,g):\n",
    "        ''' The equalizer is a construction that allows one to talk about the solution to an equation in a categorical manner\n",
    "        An equation is f(x) = g(x). It has two mappings f and g that we want to somehow be the same. The solution to this equation\n",
    "        should be a subset of the shared domain of f and g. Subsets are described from within FinSet by maps that map into the\n",
    "        subset. \n",
    "        '''\n",
    "        assert(f.dom == g.dom)\n",
    "        assert(f.cod == g.cod)\n",
    "        e = { x for x in f.dom if f[x] == g[x] }\n",
    "        return e, FinSet(e, f.dom, {x : x for x in e})\n",
    "    def pullback(f,g): # solutions to f(x) = g(y)\n",
    "        assert(f.cod == g.cod)\n",
    "        e = {(x,y) for x in f.dom for y in g.dom if f[x] == g[y]} # subset of (f.dom, g.dom) that solves equation\n",
    "        p1 = FinSet( e, f.dom, { (x,y) : x for (x,y) in e } ) # projection 1\n",
    "        p2 = FinSet( e, g.dom, { (x,y) : y for (x,y) in e } ) # projection 2\n",
    "        \n",
    "        def univ(q1,q2):\n",
    "            ''' Universal property: Given any other commuting square of f @ q1 == g @ q2, there is a unique morphism\n",
    "            that injects into e such that certain triangles commute. It's best to look at the diagram'''\n",
    "            assert(q1.cod == p1.cod) # q1 points to the head of p1\n",
    "            assert(q2.cod == p2.cod) # q2 points to the head of p2\n",
    "            assert(q1.dom == q2.dom) # tails of q1 and q2 are the same\n",
    "            assert(f @ q1 == g @ q2) # commuting square condition\n",
    "            return FinSet( q1.dom, e ,  { z : ( q1[z] , q2[z] )    for z in q1.dom  }  )\n",
    "        return e, p1, p2, univ    \n",
    "    "
   ]
  },
  {
   "cell_type": "code",
   "execution_count": null,
   "metadata": {},
   "outputs": [],
   "source": [
    "   # what about forall and exsists in this category.\n",
    "   # truth objects \n",
    "    def subobject_classifier():\n",
    "        def univ(mono):\n",
    "            # for any monomorphism there exists a characteristic function that makes a pullback sqaure with truemorph\n",
    "            image = set(mono.f.values())\n",
    "            return FinSet( mono.cod, {True,False}, {  x : (x in image) for x in mono.cod })\n",
    "            \n",
    "        return {True, False}, FinSet( {()} , {True, False}, { () : true }) , univ\n",
    "    \n",
    "    \n",
    "    def fan(f,g): # because FinSet is cartesian, product always exists\n",
    "        assert(f.dom == g.dom)\n",
    "        return FinSet( f.dom, { (x,y) for x in f.cod for y in g.cod } , { x : (f[x],g[x]) for x in f.dom  } ) \n",
    "    def fst(ab):\n",
    "        return FinSet( ab, a, { (x,y) : x for (x,y) in ab } )\n",
    "    def snd(ab):\n",
    "        return FinSet( ab, b, { (x,y) : y for (x,y) in ab } )\n",
    "\n",
    "    def exponential(f):\n",
    "        '''\n",
    "        b^0 = 1\n",
    "        b^a = b * (b ^ (a - l)) \n",
    "        '''\n",
    "        def all_funs(dom,cod):\n",
    "            dom = list(dom)\n",
    "            if len(dom) == 0:\n",
    "                return set({})\n",
    "            if len(dom) == 1:\n",
    "                return {frozenset({(dom[0],cod)}) for y in cod }\n",
    "            else:\n",
    "                return { f.union({(dom[0],y)}) for f in all_funs(dom[1:], cod) for y in cod}\n",
    "        \n",
    "            \n",
    "        # we can tabulate finite functions\n",
    "    def draw():\n",
    "    \n",
    "    def # power?\n",
    "    def # forall\n",
    "    def # exists"
   ]
  },
  {
   "cell_type": "code",
   "execution_count": 3,
   "metadata": {},
   "outputs": [
    {
     "data": {
      "text/plain": [
       "{<Two.F: 3>,\n",
       " <Two.IdA: 0>,\n",
       " <Two.IdB: 1>,\n",
       " <Two.cod_table: {0: 0, 1: 1, 3: 1}>,\n",
       " <Two.comp_table: {0: {0: 0}, 1: {1: 1, 3: 3}, 3: {0: 3}}>,\n",
       " <Two.dom_table: {0: 0, 1: 1, 3: 0}>}"
      ]
     },
     "execution_count": 3,
     "metadata": {},
     "output_type": "execute_result"
    }
   ],
   "source": [
    "from enum import Enum\n",
    "\n",
    "\n",
    "# https://ncatlab.org/nlab/show/empty+category\n",
    "class Zero(Enum):\n",
    "    pass\n",
    "\n",
    "# https://ncatlab.org/nlab/show/terminal+category\n",
    "class One(Enum):\n",
    "    IdA = 0\n",
    "    comp_table = {\n",
    "        IdA : {IdA : IdA}\n",
    "    }\n",
    "    \n",
    "    @property\n",
    "    def dom(self):\n",
    "        return self\n",
    "    @property\n",
    "    def cod(self):\n",
    "        return self\n",
    "    def compose(f,g):\n",
    "        return comp_table[f][g]\n",
    "\n",
    "class Two(Enum):\n",
    "    IdA = 0\n",
    "    IdB = 1\n",
    "    F = 3\n",
    "    dom_table = {\n",
    "        IdA : IdA,\n",
    "        IdB : IdB,\n",
    "        F : IdA\n",
    "    }\n",
    "    cod_table = {\n",
    "        IdA : IdA,\n",
    "        IdB : IdB,\n",
    "        F : IdB\n",
    "    }\n",
    "    comp_table = {\n",
    "        IdA : {IdA : IdA},\n",
    "        IdB : {IdB : IdB,  F : F},\n",
    "        F :   {IdA : F}\n",
    "    }\n",
    "    def dom(self): # represent the objct by it's identity morphism. It's a choice\n",
    "        return dom_table[self]\n",
    "        #if self == Two.F:\n",
    "        #    return Two.IdA\n",
    "        #else:\n",
    "        #    return self\n",
    "    def cod(self):\n",
    "        cod_table[self]\n",
    "        \n",
    "        if self == Two.F:\n",
    "            return Two.IdB\n",
    "        else:\n",
    "            return self\n",
    "    def idd(x):\n",
    "        return x\n",
    "    def compose(f,g):\n",
    "        assert(f.dom() == g.cod())\n",
    "        if f == IdA or f == IdB:\n",
    "            return g\n",
    "        elif g == IdA or g == IdB:\n",
    "            return f\n",
    "    def objects():\n",
    "        return {IdA, IdB}\n",
    "            \n",
    "[morph for morph in Two]\n",
    "\n",
    "\n",
    "[m for m in Zero]\n",
    "[m for m in One]\n",
    "{m for m in Two}"
   ]
  },
  {
   "cell_type": "code",
   "execution_count": 8,
   "metadata": {},
   "outputs": [
    {
     "ename": "NameError",
     "evalue": "name 'dataclass' is not defined",
     "output_type": "error",
     "traceback": [
      "\u001b[0;31m---------------------------------------------------------------------------\u001b[0m",
      "\u001b[0;31mNameError\u001b[0m                                 Traceback (most recent call last)",
      "\u001b[0;32m<ipython-input-8-98c46629cda5>\u001b[0m in \u001b[0;36m<module>\u001b[0;34m()\u001b[0m\n\u001b[0;32m----> 1\u001b[0;31m \u001b[0;34m@\u001b[0m\u001b[0mdataclass\u001b[0m\u001b[0;34m\u001b[0m\u001b[0;34m\u001b[0m\u001b[0m\n\u001b[0m\u001b[1;32m      2\u001b[0m \u001b[0;32mclass\u001b[0m \u001b[0mIdd\u001b[0m\u001b[0;34m(\u001b[0m\u001b[0;34m)\u001b[0m\u001b[0;34m:\u001b[0m\u001b[0;34m\u001b[0m\u001b[0;34m\u001b[0m\u001b[0m\n\u001b[1;32m      3\u001b[0m     \u001b[0mobj\u001b[0m\u001b[0;34m\u001b[0m\u001b[0;34m\u001b[0m\u001b[0m\n\u001b[1;32m      4\u001b[0m \u001b[0;34m\u001b[0m\u001b[0m\n\u001b[1;32m      5\u001b[0m \u001b[0;32mclass\u001b[0m \u001b[0mFoo\u001b[0m\u001b[0;34m(\u001b[0m\u001b[0;34m)\u001b[0m\u001b[0;34m:\u001b[0m\u001b[0;34m\u001b[0m\u001b[0;34m\u001b[0m\u001b[0m\n",
      "\u001b[0;31mNameError\u001b[0m: name 'dataclass' is not defined"
     ]
    }
   ],
   "source": [
    "@dataclass\n",
    "class Idd():\n",
    "    obj\n",
    "\n",
    "class Foo():\n",
    "    objs = Enum(FooObj, \"x y z\" )\n",
    "    A,B,C = range(3)\n",
    "    morphs = {A,B,C} + {Idd(x) for x in objs}\n",
    "    \n",
    "    "
   ]
  },
  {
   "cell_type": "markdown",
   "metadata": {},
   "source": [
    "{\n",
    "    (F,Id) : F\n",
    "    (G,Id) : G\n",
    "    \n",
    "}\n",
    "\n",
    "{\n",
    "    (F,Id,F)\n",
    "    \n",
    "}\n",
    "\n",
    "\n",
    "Set of triples\n",
    "Dict of tuples\n",
    "Dict of Dict of\n",
    "Function\n",
    "\n",
    "\n",
    "There are also dom and cod tables\n",
    "\n",
    "\n",
    "@dataclass \n",
    "class Idd:\n",
    "   obj\n",
    "\n",
    "class OneO(Enum):\n",
    "class OneM(Enum):\n",
    "\n",
    "class One():\n",
    "   A = 1\n",
    "   B = 2\n",
    "   C = 3\n",
    "   A,B,C,D = range(4)\n",
    "   objs = Enum('OneObj', 'A B C')\n",
    "   morphs = Enum('OneArr', 'F')\n",
    "   \n",
    "   morphs = [A,B,C] + [ Idd(x) for x in objs ]\n",
    "   \n",
    "   \n",
    "   cod_table\n",
    "   \n",
    "   assert( set( cod_table.keys()) == set(objs) )\n",
    "   assert( set( dom_table.keys()) == set(objs) )\n",
    "   composable_pairs = { (f,g) for f in morphs for g in morphs if f.dom == g.cod  }\n",
    "   assert( set( comp_table.keys()) == composable_pairs )\n",
    "   assert(  { compose(compose(f,g),h) = compso como for f in morphs for g in morphs if f.dom == g.cod  } for h in  morphs if f.cod == h.dom   )\n",
    "   \n",
    "   \n",
    "   \n",
    "   "
   ]
  },
  {
   "cell_type": "markdown",
   "metadata": {},
   "source": [
    "We need to check that evberything that can be compose is defined\n",
    "we need to check that everything that is defined can be composed\n",
    "we need to verify associativity\n",
    "\n",
    "\n",
    "On way to present a finite catgeory is the give FinSet generators.\n",
    "{\n",
    "\n",
    "FinSet()\n",
    "FinSet()\n",
    "FinSet\n",
    "\n",
    "}"
   ]
  },
  {
   "cell_type": "code",
   "execution_count": null,
   "metadata": {},
   "outputs": [],
   "source": []
  },
  {
   "cell_type": "code",
   "execution_count": null,
   "metadata": {},
   "outputs": [],
   "source": [
    "class Z2(Enum): # Th group of Z2. Z mod 2\n",
    "    Id = 0\n",
    "    A  = 1\n",
    "    comp_table = {\n",
    "        Id : {Id : Id, A : A },\n",
    "        A  : {Id : A , A : Id}\n",
    "    }\n",
    "    def morphisms():\n",
    "        return {Id, A}\n",
    "    def objects():\n",
    "        return {Id}\n",
    "    def dom(self):\n",
    "        return Id\n",
    "    def cod(self):\n",
    "        return Id\n",
    "    def compose(f,g):\n",
    "        if\n"
   ]
  },
  {
   "cell_type": "code",
   "execution_count": 5,
   "metadata": {},
   "outputs": [
    {
     "ename": "NameError",
     "evalue": "name 'dom_table' is not defined",
     "output_type": "error",
     "traceback": [
      "\u001b[0;31m---------------------------------------------------------------------------\u001b[0m",
      "\u001b[0;31mNameError\u001b[0m                                 Traceback (most recent call last)",
      "\u001b[0;32m<ipython-input-5-1d7c4531e474>\u001b[0m in \u001b[0;36m<module>\u001b[0;34m()\u001b[0m\n\u001b[0;32m----> 1\u001b[0;31m \u001b[0mTwo\u001b[0m\u001b[0;34m.\u001b[0m\u001b[0mdom\u001b[0m\u001b[0;34m(\u001b[0m\u001b[0mTwo\u001b[0m\u001b[0;34m.\u001b[0m\u001b[0mIdA\u001b[0m\u001b[0;34m)\u001b[0m\u001b[0;34m\u001b[0m\u001b[0;34m\u001b[0m\u001b[0m\n\u001b[0m",
      "\u001b[0;32m<ipython-input-3-097a165985af>\u001b[0m in \u001b[0;36mdom\u001b[0;34m(self)\u001b[0m\n\u001b[1;32m     42\u001b[0m     }\n\u001b[1;32m     43\u001b[0m     \u001b[0;32mdef\u001b[0m \u001b[0mdom\u001b[0m\u001b[0;34m(\u001b[0m\u001b[0mself\u001b[0m\u001b[0;34m)\u001b[0m\u001b[0;34m:\u001b[0m \u001b[0;31m# represent the objct by it's identity morphism. It's a choice\u001b[0m\u001b[0;34m\u001b[0m\u001b[0;34m\u001b[0m\u001b[0m\n\u001b[0;32m---> 44\u001b[0;31m         \u001b[0;32mreturn\u001b[0m \u001b[0mdom_table\u001b[0m\u001b[0;34m[\u001b[0m\u001b[0mself\u001b[0m\u001b[0;34m]\u001b[0m\u001b[0;34m\u001b[0m\u001b[0;34m\u001b[0m\u001b[0m\n\u001b[0m\u001b[1;32m     45\u001b[0m         \u001b[0;31m#if self == Two.F:\u001b[0m\u001b[0;34m\u001b[0m\u001b[0;34m\u001b[0m\u001b[0;34m\u001b[0m\u001b[0m\n\u001b[1;32m     46\u001b[0m         \u001b[0;31m#    return Two.IdA\u001b[0m\u001b[0;34m\u001b[0m\u001b[0;34m\u001b[0m\u001b[0;34m\u001b[0m\u001b[0m\n",
      "\u001b[0;31mNameError\u001b[0m: name 'dom_table' is not defined"
     ]
    }
   ],
   "source": [
    "Two.dom(Two.IdA)"
   ]
  },
  {
   "cell_type": "code",
   "execution_count": null,
   "metadata": {},
   "outputs": [],
   "source": [
    "# brute force checking of the axioms of a category\n",
    "\n",
    "\n",
    "\n",
    "[      for g in Two for f, gf in Two.comp_table[g].items() for h, in Two.comp_table[gf]  ]"
   ]
  },
  {
   "cell_type": "code",
   "execution_count": null,
   "metadata": {},
   "outputs": [],
   "source": [
    "class GraphSchema(Enum):\n",
    "    IdE = 0\n",
    "    IdV = 1\n",
    "    S = 2\n",
    "    T = 3\n",
    "    dom_table = {\n",
    "        IdE : IdE,\n",
    "        IdV : IdV,\n",
    "        S : IdE,\n",
    "        T : IdE\n",
    "    }\n",
    "# How is this going to relate to networkx?"
   ]
  },
  {
   "cell_type": "code",
   "execution_count": null,
   "metadata": {},
   "outputs": [],
   "source": [
    "def MonoidPlus():\n",
    "    def __init__(self, f):\n",
    "        self.dom = ()\n",
    "        self.cod = ()\n",
    "        self.f = f\n",
    "    def compose(f,g):\n",
    "        return MonoidPlus(f.f + g.f)\n",
    "    def idd(unit):\n",
    "        assert(unit == ())\n",
    "        return MonoidPlus(0)\n",
    "\n",
    "class Nat(PlusMonoid):\n",
    "    pass\n",
    "    "
   ]
  },
  {
   "cell_type": "code",
   "execution_count": 6,
   "metadata": {},
   "outputs": [
    {
     "data": {
      "text/plain": [
       "'asasdasdas'"
      ]
     },
     "execution_count": 6,
     "metadata": {},
     "output_type": "execute_result"
    }
   ],
   "source": [
    "\"asas\" + \"dasdas\""
   ]
  },
  {
   "cell_type": "code",
   "execution_count": null,
   "metadata": {},
   "outputs": [],
   "source": [
    "class StringMonoid(PlusMonoid): # This is plus monoid\n",
    "    def __init__(self,):\n",
    "    \n",
    "    def compose(f,g):\n",
    "        return f + g\n",
    "    def dom(self):\n",
    "        return ()\n",
    "    def cod(self):\n",
    "        return ()"
   ]
  },
  {
   "cell_type": "code",
   "execution_count": null,
   "metadata": {},
   "outputs": [],
   "source": [
    "# paths.\n",
    "'''\n",
    "Each networkx graph defines a seperate category PathCat(g)\n",
    "Morphsism are lists of edges in the graph that meet up.\n",
    "\n",
    "Paths in spaces are invertible, so they are groupoids.\n",
    "\n",
    "Homotopy is kind of quotienting by allowable wiggles. Wiggles are higher dimensional paths.\n",
    "\n",
    "Homotopy is indeed a group given as a set of generators and relations? If we fix the start and end point to be the same.\n",
    "\n",
    "\n",
    "\n",
    "That's fun\n",
    "\n",
    "Homology is kind of letting the path become abelian.\n",
    "\n",
    "'''\n",
    "class PathCat():\n",
    "    def __init__(self, g, dom, cod, f):\n",
    "        self.g = g\n",
    "        self.dom = dom # domain and cod are vertices in the networkx graph g\n",
    "        self.f = [e1,e2,e3,e4,e5,e6 ...] # a path as a sequence on the graph. "
   ]
  },
  {
   "cell_type": "markdown",
   "metadata": {},
   "source": [
    "'''\n",
    "Debate: Is it silly to overload IdA as objects?\n",
    "\n",
    "Could also just have an Id pseudomorphism.\n",
    "Or Id(A)\n",
    "\n",
    "@dataclass\n",
    "class Id():\n",
    "   obj : Any\n",
    "\n",
    "class Id():\n",
    "\n",
    "class FinCat():\n",
    "   obj = {}\n",
    "   morph = {}\n",
    "   cod = {morph : obj}\n",
    "   dom = {morph : obj}\n",
    "   \n",
    "\n",
    "class Presentation()\n",
    "   obj = {}\n",
    "   morphgen = {}\n",
    "   cod\n",
    "   dom\n",
    "   relations = {( [f,g,h] , [a,b,c] ) , ... }\n",
    "\n",
    "\n",
    "    It's a string rewriting problem. If we can get a completion of relation, I'm feelin pretty good.\n",
    "    \n",
    "    Oh that's fun. I can use the built in python string functionality.\n",
    "    \n",
    "    https://stackoverflow.com/questions/47208509/simple-string-rewriting-system-in-python\n",
    "\n",
    "The analog of the grobner basis problem should be\n",
    "\n",
    "we have generators f,g,h, yada (correspond to variable x y z)\n",
    "\n",
    "we form an ideal of morphisms [fgfgf, fjfjg, fgfg] (closure under left and rgiht compostion of variable set)\n",
    "\n",
    "Find an equivalanet set of morphsism that generate the same category (which is infinite).\n",
    "\n",
    "\n",
    "\n",
    "\n",
    "Presentation of a module as both generators and relations\n",
    "x y z 1 / \n",
    "\n",
    "\n",
    "comparisons to computational group theory are interesting\n",
    "\n",
    "monoids and groups are special cases of categories, so results there apply to catgorical ocnsiderations. At the very least\n",
    "impossibility results.\n",
    "\n",
    "Premutation representations are clutch for groups. They are an intrinsic way to talk about a finite gorup\n",
    "presentations via generators and relations seems in general fishier.\n",
    "\n",
    "\n",
    "I would think the analog would be a representation fo the category into FinSet\n",
    "A finite category can always be represented in FinSet via yoneda and pre/post multiplication\n",
    "\n",
    "def yoneda_embed(fincat, m):\n",
    "     \n",
    "    dom = { m2.dom() == m.dom() for m2 in fincat}\n",
    "    cod = { m2.dom() == m.cod() for m2 in fincat}\n",
    "    return FinSet(dom, cod, { f : f.comp(m)  for f in dom })\n",
    "   \n",
    "    FinSet({ Two.IdA, Two.IdB } , {} , {  for f in dom }  )\n",
    "\n",
    "\n",
    "So one thing we could do is, you give me an implicitl representation of a category in terms of \n",
    "a bunch of Finset morphisms. This is intrinsically bounded in the number of morphisms that exists, however there can be \n",
    "a lot\n",
    "One can't generate new objects, but you can compose and fill out the thing\n",
    "\n",
    "\n",
    "\n",
    "Huh the Topos of a graph\n",
    "The truth objects are described in an exercise of burstall\n",
    "\n",
    "A graph can be described as FinSet^GScema.\n",
    "\n",
    "What is networkx internal repreentation? It is a bunch of dictionaries\n",
    "\n",
    "\n",
    "NatTrans\n",
    "    map[obja] = morphb\n",
    "\n",
    "\n",
    "\n",
    "Any poset forms a category\n",
    "\n",
    "In particular a finite poset\n",
    "\n",
    "\n",
    "\n",
    "differentiable functions form a category\n",
    "partial functions\n",
    "\n",
    "\n",
    "objects formulas , morphisms proof.\n",
    "\n",
    "\n",
    "\n",
    "\n",
    "\n",
    "'''"
   ]
  },
  {
   "cell_type": "code",
   "execution_count": null,
   "metadata": {},
   "outputs": [],
   "source": []
  },
  {
   "cell_type": "code",
   "execution_count": null,
   "metadata": {},
   "outputs": [],
   "source": [
    "class Z3Cat():\n",
    "    def __init__(dom , cod, given=[]):\n",
    "        s = Solver()\n",
    "        s.add(dom)\n",
    "        s.add(Not(cod))\n",
    "        s.check()\n",
    "        # or prove(Implies(dom, cod))\n",
    "    def idd(dom):\n",
    "        # prove(dom, dom) this is done in the constructor\n",
    "        return Z3Cat(dom,dom)\n",
    "    def compose(f,g):\n",
    "        prove(f.dom == g.cod) # any equisatisfiable formula are considered equal\n",
    "        Z3Cat(g.dom, f.cod)\n",
    "    def fst(a,b)\n",
    "        #prove( Implies(And(a,b) , a )) # actually this is done in the constructor\n",
    "        return Z3Cat(And(a,b), b)\n",
    "    def snd()\n",
    "    def fan(f,g):\n",
    "        # prove(f.dom == g.dom) not even sure this assert is strictly necessary\n",
    "        return Z3Cat( f.dom , And(f.cod,g.cod) , given = [ f , g ]  )\n",
    "    def initial(a):\n",
    "        return Z3Cat(False, a)\n",
    "    def final(a):\n",
    "        return Z3Cat(a, True)\n",
    "    def left(a,b):\n",
    "        return Z3Cat(a,  Or(a,b) )\n",
    "    def right(a,b):\n",
    "        return Z3Cat(b,  Or(a,b) )\n",
    "    def fanin(f,g):\n",
    "        # assert f.cod == g.cod\n",
    "        return Z3Cat( Or(f.dom, g.dom), f.cod, given = [f,g] )\n",
    "    def curry(f): # other side of adjunction\n",
    "        # extract the terms out\n",
    "        a = f.dom.args[0]\n",
    "        b = f.dom.args[1]\n",
    "        return Z3Cat(  a    ,  Implies(b, f.cod)   ,  given=[f])\n",
    "    def uncurry(f): # sort of like intros tactic  # on side of adjunction\n",
    "        # extract the terms out\n",
    "        # assert f.cod.head == Implies\n",
    "        a = f.cod.args[0]\n",
    "        b = f.cod.args[1]\n",
    "        return Z3Cat(  And(f.dom,a)    ,  b  ,  given=[f])\n",
    "    def apply(f,x): # sort of modus ponens\n",
    "        c = f.args[1]\n",
    "        return Z3Cat( And(f,x), c )\n",
    "    # propoistional logic so far. How to deal with predicate logic?\n",
    "    def exists(t, p):\n",
    "        t2 = FreshConst(t.sort())\n",
    "        return Z3Cat(p(t) , Exists([t2], p(t2)))\n",
    "    def exists(t, p):\n",
    "        t2 = FreshConst(t.sort())\n",
    "        lambda t: substitute(p, )\n",
    "        return phole , Z3Cat(p(t) , Exists([t2], p(t2)))\n",
    "    def foralle(p):\n",
    "        pfresh = \n",
    "        return Z3Cat( p , pfresh  )\n",
    "    def foralli()\n",
    "    \n",
    "    def weakening(): # unused variable\n",
    "    def dup(a): # Triangle.\n",
    "        return Z3Cat(a, And(a,a))\n",
    "        return Z3Cat(Or(a,a), a)\n",
    "    \n",
    "    # pullbacks? These do something interesting to free variables?\n",
    "\n",
    "        "
   ]
  },
  {
   "cell_type": "markdown",
   "metadata": {},
   "source": [
    "Huh. Z3 ALSO has substitution....\n",
    "It might be a better choice on multiple fronts.\n",
    "\n"
   ]
  },
  {
   "cell_type": "markdown",
   "metadata": {},
   "source": [
    "Endo adjunctions are the easiest to encode. Constructive to fro constructions that take morphisms and output morphism\n",
    "\n",
    "It is hoped that the a b are inferable, but they may not be. Inferrable is very similar to saying the funcotrs have to be injective on objects, which isn't always the case.\n",
    "so \n",
    "leftadjoint(f, a):\n",
    "  infer b = f.dom\n",
    "  return morph(R b, a)\n",
    "\n",
    "rightadjoint(g,b):\n",
    "  infer a = g.cod\n",
    "  return morph(b, L a)\n",
    "\n",
    "\n",
    "Ok this is fun\n",
    "\n",
    "\n",
    "f = Function(\"f\") # absratc rpedictae\n",
    "Z3Cat(leftadjoint(rightadjoint(f)) ,  f)\n",
    "Z3Cat(f, rightadjoint(leftadjoint(f)) )\n",
    "\n",
    "Z3 has enough power to possibly in a sense confirm that things are adjoint\n",
    "\n",
    "\n",
    "\n",
    "Terminal and initial are adjoint to initial and zero category functors. That's a nice example.\n",
    "\n",
    "\n"
   ]
  },
  {
   "cell_type": "code",
   "execution_count": null,
   "metadata": {},
   "outputs": [],
   "source": [
    "# (a == b, b == c) ==> (a == c)\n",
    "a, b, c = Int()\n",
    "Z3Cat( And(a == b, b == c), (a == c))  # goes through of course\n",
    "\n",
    "\n",
    "Z3Cat.idd(a == b)\n",
    "Z3Cat.idd(b == c)\n",
    "Z3Cat.idd( And(a == b, b == c)  ) @ \n",
    "#post ocmposition vs pre ocmposiotn - backward forward proof chaining? Yeah. That makes sense.\n",
    "\n"
   ]
  },
  {
   "cell_type": "code",
   "execution_count": null,
   "metadata": {},
   "outputs": [],
   "source": [
    "class PySet():\n",
    "    def __init__(dom,cod, f):\n",
    "        # dom is a input constract. cod is an output contract. They assert false or throw error\n",
    "        # see Mike Stay javascript\n",
    "        # f is a python function\n",
    "        # \n",
    "        # we could also use python typing\n",
    "        # We could also use z3 side conditions. Wouldn't that be fun!\n",
    "        # it would be very hoare triple like?\n",
    "    def compose(f,g):\n",
    "        def res(x): \n",
    "            g.dom(x)\n",
    "            y = g(x)\n",
    "            g.cod(y) # hmm. cod of g just has to be a subset of dom of f. Don't love that \n",
    "            f.dom(y) # we have no way to test for equality of objects really. Literal pointer equality or \n",
    "            z = f(y)\n",
    "            f.cod(z)\n",
    "            return z"
   ]
  },
  {
   "cell_type": "code",
   "execution_count": 83,
   "metadata": {},
   "outputs": [
    {
     "data": {
      "text/plain": [
       "False"
      ]
     },
     "execution_count": 83,
     "metadata": {},
     "output_type": "execute_result"
    }
   ],
   "source": [
    "f = (lambda x: x)\n",
    "f == f # we can do literal equality\n",
    "(lambda x : x).__code__\n",
    "int == float"
   ]
  },
  {
   "cell_type": "code",
   "execution_count": 98,
   "metadata": {},
   "outputs": [
    {
     "data": {
      "text/plain": [
       "True"
      ]
     },
     "execution_count": 98,
     "metadata": {},
     "output_type": "execute_result"
    }
   ],
   "source": [
    "{1 : \"fred\"} == {1 : \"fred\"}"
   ]
  },
  {
   "cell_type": "code",
   "execution_count": 96,
   "metadata": {},
   "outputs": [
    {
     "ename": "TypeError",
     "evalue": "Parameters to generic types must be types. Got 0.",
     "output_type": "error",
     "traceback": [
      "\u001b[0;31m---------------------------------------------------------------------------\u001b[0m",
      "\u001b[0;31mTypeError\u001b[0m                                 Traceback (most recent call last)",
      "\u001b[0;32m<ipython-input-96-f9cb70913e41>\u001b[0m in \u001b[0;36m<module>\u001b[0;34m\u001b[0m\n\u001b[1;32m      5\u001b[0m \u001b[0mdir\u001b[0m\u001b[0;34m(\u001b[0m\u001b[0ma\u001b[0m\u001b[0;34m)\u001b[0m\u001b[0;34m\u001b[0m\u001b[0;34m\u001b[0m\u001b[0m\n\u001b[1;32m      6\u001b[0m \u001b[0mdir\u001b[0m\u001b[0;34m(\u001b[0m\u001b[0mtyping\u001b[0m\u001b[0;34m.\u001b[0m\u001b[0mTuple\u001b[0m\u001b[0;34m[\u001b[0m\u001b[0mint\u001b[0m\u001b[0;34m,\u001b[0m\u001b[0mfloat\u001b[0m\u001b[0;34m]\u001b[0m\u001b[0;34m)\u001b[0m\u001b[0;34m\u001b[0m\u001b[0;34m\u001b[0m\u001b[0m\n\u001b[0;32m----> 7\u001b[0;31m \u001b[0mtyping\u001b[0m\u001b[0;34m.\u001b[0m\u001b[0mTuple\u001b[0m\u001b[0;34m[\u001b[0m\u001b[0mint\u001b[0m\u001b[0;34m,\u001b[0m\u001b[0mfloat\u001b[0m\u001b[0;34m]\u001b[0m\u001b[0;34m[\u001b[0m\u001b[0;36m0\u001b[0m\u001b[0;34m]\u001b[0m\u001b[0;34m\u001b[0m\u001b[0;34m\u001b[0m\u001b[0m\n\u001b[0m",
      "\u001b[0;32m/usr/local/Cellar/python/3.7.5/Frameworks/Python.framework/Versions/3.7/lib/python3.7/typing.py\u001b[0m in \u001b[0;36minner\u001b[0;34m(*args, **kwds)\u001b[0m\n\u001b[1;32m    252\u001b[0m         \u001b[0;32mexcept\u001b[0m \u001b[0mTypeError\u001b[0m\u001b[0;34m:\u001b[0m\u001b[0;34m\u001b[0m\u001b[0;34m\u001b[0m\u001b[0m\n\u001b[1;32m    253\u001b[0m             \u001b[0;32mpass\u001b[0m  \u001b[0;31m# All real errors (not unhashable args) are raised below.\u001b[0m\u001b[0;34m\u001b[0m\u001b[0;34m\u001b[0m\u001b[0m\n\u001b[0;32m--> 254\u001b[0;31m         \u001b[0;32mreturn\u001b[0m \u001b[0mfunc\u001b[0m\u001b[0;34m(\u001b[0m\u001b[0;34m*\u001b[0m\u001b[0margs\u001b[0m\u001b[0;34m,\u001b[0m \u001b[0;34m**\u001b[0m\u001b[0mkwds\u001b[0m\u001b[0;34m)\u001b[0m\u001b[0;34m\u001b[0m\u001b[0;34m\u001b[0m\u001b[0m\n\u001b[0m\u001b[1;32m    255\u001b[0m     \u001b[0;32mreturn\u001b[0m \u001b[0minner\u001b[0m\u001b[0;34m\u001b[0m\u001b[0;34m\u001b[0m\u001b[0m\n\u001b[1;32m    256\u001b[0m \u001b[0;34m\u001b[0m\u001b[0m\n",
      "\u001b[0;32m/usr/local/Cellar/python/3.7.5/Frameworks/Python.framework/Versions/3.7/lib/python3.7/typing.py\u001b[0m in \u001b[0;36m__getitem__\u001b[0;34m(self, params)\u001b[0m\n\u001b[1;32m    627\u001b[0m             \u001b[0mparams\u001b[0m \u001b[0;34m=\u001b[0m \u001b[0;34m(\u001b[0m\u001b[0mparams\u001b[0m\u001b[0;34m,\u001b[0m\u001b[0;34m)\u001b[0m\u001b[0;34m\u001b[0m\u001b[0;34m\u001b[0m\u001b[0m\n\u001b[1;32m    628\u001b[0m         \u001b[0mmsg\u001b[0m \u001b[0;34m=\u001b[0m \u001b[0;34m\"Parameters to generic types must be types.\"\u001b[0m\u001b[0;34m\u001b[0m\u001b[0;34m\u001b[0m\u001b[0m\n\u001b[0;32m--> 629\u001b[0;31m         \u001b[0mparams\u001b[0m \u001b[0;34m=\u001b[0m \u001b[0mtuple\u001b[0m\u001b[0;34m(\u001b[0m\u001b[0m_type_check\u001b[0m\u001b[0;34m(\u001b[0m\u001b[0mp\u001b[0m\u001b[0;34m,\u001b[0m \u001b[0mmsg\u001b[0m\u001b[0;34m)\u001b[0m \u001b[0;32mfor\u001b[0m \u001b[0mp\u001b[0m \u001b[0;32min\u001b[0m \u001b[0mparams\u001b[0m\u001b[0;34m)\u001b[0m\u001b[0;34m\u001b[0m\u001b[0;34m\u001b[0m\u001b[0m\n\u001b[0m\u001b[1;32m    630\u001b[0m         \u001b[0m_check_generic\u001b[0m\u001b[0;34m(\u001b[0m\u001b[0mself\u001b[0m\u001b[0;34m,\u001b[0m \u001b[0mparams\u001b[0m\u001b[0;34m)\u001b[0m\u001b[0;34m\u001b[0m\u001b[0;34m\u001b[0m\u001b[0m\n\u001b[1;32m    631\u001b[0m         \u001b[0;32mreturn\u001b[0m \u001b[0m_subs_tvars\u001b[0m\u001b[0;34m(\u001b[0m\u001b[0mself\u001b[0m\u001b[0;34m,\u001b[0m \u001b[0mself\u001b[0m\u001b[0;34m.\u001b[0m\u001b[0m__parameters__\u001b[0m\u001b[0;34m,\u001b[0m \u001b[0mparams\u001b[0m\u001b[0;34m)\u001b[0m\u001b[0;34m\u001b[0m\u001b[0;34m\u001b[0m\u001b[0m\n",
      "\u001b[0;32m/usr/local/Cellar/python/3.7.5/Frameworks/Python.framework/Versions/3.7/lib/python3.7/typing.py\u001b[0m in \u001b[0;36m<genexpr>\u001b[0;34m(.0)\u001b[0m\n\u001b[1;32m    627\u001b[0m             \u001b[0mparams\u001b[0m \u001b[0;34m=\u001b[0m \u001b[0;34m(\u001b[0m\u001b[0mparams\u001b[0m\u001b[0;34m,\u001b[0m\u001b[0;34m)\u001b[0m\u001b[0;34m\u001b[0m\u001b[0;34m\u001b[0m\u001b[0m\n\u001b[1;32m    628\u001b[0m         \u001b[0mmsg\u001b[0m \u001b[0;34m=\u001b[0m \u001b[0;34m\"Parameters to generic types must be types.\"\u001b[0m\u001b[0;34m\u001b[0m\u001b[0;34m\u001b[0m\u001b[0m\n\u001b[0;32m--> 629\u001b[0;31m         \u001b[0mparams\u001b[0m \u001b[0;34m=\u001b[0m \u001b[0mtuple\u001b[0m\u001b[0;34m(\u001b[0m\u001b[0m_type_check\u001b[0m\u001b[0;34m(\u001b[0m\u001b[0mp\u001b[0m\u001b[0;34m,\u001b[0m \u001b[0mmsg\u001b[0m\u001b[0;34m)\u001b[0m \u001b[0;32mfor\u001b[0m \u001b[0mp\u001b[0m \u001b[0;32min\u001b[0m \u001b[0mparams\u001b[0m\u001b[0;34m)\u001b[0m\u001b[0;34m\u001b[0m\u001b[0;34m\u001b[0m\u001b[0m\n\u001b[0m\u001b[1;32m    630\u001b[0m         \u001b[0m_check_generic\u001b[0m\u001b[0;34m(\u001b[0m\u001b[0mself\u001b[0m\u001b[0;34m,\u001b[0m \u001b[0mparams\u001b[0m\u001b[0;34m)\u001b[0m\u001b[0;34m\u001b[0m\u001b[0;34m\u001b[0m\u001b[0m\n\u001b[1;32m    631\u001b[0m         \u001b[0;32mreturn\u001b[0m \u001b[0m_subs_tvars\u001b[0m\u001b[0;34m(\u001b[0m\u001b[0mself\u001b[0m\u001b[0;34m,\u001b[0m \u001b[0mself\u001b[0m\u001b[0;34m.\u001b[0m\u001b[0m__parameters__\u001b[0m\u001b[0;34m,\u001b[0m \u001b[0mparams\u001b[0m\u001b[0;34m)\u001b[0m\u001b[0;34m\u001b[0m\u001b[0;34m\u001b[0m\u001b[0m\n",
      "\u001b[0;32m/usr/local/Cellar/python/3.7.5/Frameworks/Python.framework/Versions/3.7/lib/python3.7/typing.py\u001b[0m in \u001b[0;36m_type_check\u001b[0;34m(arg, msg, is_argument)\u001b[0m\n\u001b[1;32m    140\u001b[0m         \u001b[0;32mreturn\u001b[0m \u001b[0marg\u001b[0m\u001b[0;34m\u001b[0m\u001b[0;34m\u001b[0m\u001b[0m\n\u001b[1;32m    141\u001b[0m     \u001b[0;32mif\u001b[0m \u001b[0;32mnot\u001b[0m \u001b[0mcallable\u001b[0m\u001b[0;34m(\u001b[0m\u001b[0marg\u001b[0m\u001b[0;34m)\u001b[0m\u001b[0;34m:\u001b[0m\u001b[0;34m\u001b[0m\u001b[0;34m\u001b[0m\u001b[0m\n\u001b[0;32m--> 142\u001b[0;31m         \u001b[0;32mraise\u001b[0m \u001b[0mTypeError\u001b[0m\u001b[0;34m(\u001b[0m\u001b[0;34mf\"{msg} Got {arg!r:.100}.\"\u001b[0m\u001b[0;34m)\u001b[0m\u001b[0;34m\u001b[0m\u001b[0;34m\u001b[0m\u001b[0m\n\u001b[0m\u001b[1;32m    143\u001b[0m     \u001b[0;32mreturn\u001b[0m \u001b[0marg\u001b[0m\u001b[0;34m\u001b[0m\u001b[0;34m\u001b[0m\u001b[0m\n\u001b[1;32m    144\u001b[0m \u001b[0;34m\u001b[0m\u001b[0m\n",
      "\u001b[0;31mTypeError\u001b[0m: Parameters to generic types must be types. Got 0."
     ]
    }
   ],
   "source": [
    "import typing\n",
    "\n",
    "a = typing.TypeVar(\"A\")\n",
    "b = typing.TypeVar(\"B\")\n",
    "dir(a)\n",
    "dir(typing.Tuple[int,float])\n",
    "typing.Tuple[int,float].\n"
   ]
  },
  {
   "cell_type": "code",
   "execution_count": null,
   "metadata": {},
   "outputs": [],
   "source": [
    "class FinFunctor():\n",
    "    # functors whos domain category is finite. These are indexy things.\n",
    "    # we can discuss diagrams from this perspective. Other stuff. Nat Trans\n",
    "    # functors whos domain and codomain category are finite?\n",
    "    def __init__(self, dom, cod, f):\n",
    "        \n",
    "class FinNatTrans(): # NatTrans between finfunctors. Can we talk about Limits? In FinSet we can for any ?\n",
    "    # Propsition: With inital and pullbacks we have all finite limits. This is probably an algorithm\n",
    "    \n",
    "    def __init__(self, F, G):\n",
    "        \n",
    "class FinLim\n",
    "\n",
    "class FinColim\n"
   ]
  },
  {
   "cell_type": "code",
   "execution_count": null,
   "metadata": {},
   "outputs": [],
   "source": [
    "class FinRel():\n",
    "    \n",
    "    "
   ]
  },
  {
   "cell_type": "code",
   "execution_count": null,
   "metadata": {},
   "outputs": [],
   "source": [
    "class FinProfunctor():"
   ]
  },
  {
   "cell_type": "code",
   "execution_count": 65,
   "metadata": {},
   "outputs": [
    {
     "data": {
      "text/plain": [
       "{1, 2, 3, 4, 5}"
      ]
     },
     "execution_count": 65,
     "metadata": {},
     "output_type": "execute_result"
    }
   ],
   "source": [
    "{1,2,3}.union({3,4,5})"
   ]
  },
  {
   "cell_type": "code",
   "execution_count": 20,
   "metadata": {},
   "outputs": [
    {
     "ename": "TypeError",
     "evalue": "dict expected at most 1 arguments, got 3",
     "output_type": "error",
     "traceback": [
      "\u001b[0;31m---------------------------------------------------------------------------\u001b[0m",
      "\u001b[0;31mTypeError\u001b[0m                                 Traceback (most recent call last)",
      "\u001b[0;32m<ipython-input-20-0bc3c6f3526e>\u001b[0m in \u001b[0;36m<module>\u001b[0;34m\u001b[0m\n\u001b[0;32m----> 1\u001b[0;31m \u001b[0mFinSet\u001b[0m\u001b[0;34m(\u001b[0m\u001b[0;34m{\u001b[0m\u001b[0;36m1\u001b[0m\u001b[0;34m,\u001b[0m\u001b[0;36m2\u001b[0m\u001b[0;34m,\u001b[0m\u001b[0;36m3\u001b[0m\u001b[0;34m}\u001b[0m\u001b[0;34m,\u001b[0m \u001b[0;34m{\u001b[0m\u001b[0;36m4\u001b[0m\u001b[0;34m,\u001b[0m\u001b[0;36m5\u001b[0m\u001b[0;34m,\u001b[0m\u001b[0;36m6\u001b[0m\u001b[0;34m}\u001b[0m\u001b[0;34m,\u001b[0m \u001b[0;36m4\u001b[0m\u001b[0;34m)\u001b[0m\u001b[0;34m\u001b[0m\u001b[0;34m\u001b[0m\u001b[0m\n\u001b[0m",
      "\u001b[0;31mTypeError\u001b[0m: dict expected at most 1 arguments, got 3"
     ]
    }
   ],
   "source": [
    "FinSet({1,2,3}, {4,5,6}, 4)"
   ]
  },
  {
   "cell_type": "code",
   "execution_count": 62,
   "metadata": {},
   "outputs": [
    {
     "data": {
      "text/plain": [
       "frozenset({1, 2})"
      ]
     },
     "execution_count": 62,
     "metadata": {},
     "output_type": "execute_result"
    }
   ],
   "source": [
    "frozenset((1,2))"
   ]
  },
  {
   "cell_type": "code",
   "execution_count": 25,
   "metadata": {},
   "outputs": [
    {
     "data": {
      "text/plain": [
       "set"
      ]
     },
     "execution_count": 25,
     "metadata": {},
     "output_type": "execute_result"
    }
   ],
   "source": [
    "type(set({}))"
   ]
  },
  {
   "cell_type": "markdown",
   "metadata": {},
   "source": [
    "The substitution class is very similar to finset in some respects.\n",
    "We also insist upon a finite set of variables\n",
    "\n",
    "Now rather than a dictionary lookup, terms are substituted inside expressions.\n",
    "\n",
    "\n"
   ]
  },
  {
   "cell_type": "code",
   "execution_count": null,
   "metadata": {},
   "outputs": [],
   "source": [
    "class FinSubst():\n",
    "    '''  Similar in many respects to FinSet '''\n",
    "    def __init__(dom,cod,f):\n",
    "        assert( f.keys() == dom )\n",
    "        assert( all([y.free_symbols in cod for y in f.values()]) )\n",
    "        self.dom = dom\n",
    "        self.cod = cod\n",
    "        self.f = f\n",
    "    def idd(dom):\n",
    "        return FinSubst(dom,dom, { x : x for x in dom })\n",
    "    def compose(f,g):\n",
    "        #https://docs.sympy.org/latest/modules/core.html#sympy.core.basic.Basic.xreplace\n",
    "        # not sure xreplace is quite right. Doesn't treat bound variables right. And shared variables between dom and cod could mess things up\n",
    "        assert(f.dom == g.cod)\n",
    "        return FinSubst(g.dom , f.cod , { x : f[x].xreplace( g.f ) for x in f.cod  } )\n",
    "    def equalizer(f,g):\n",
    "        unify\n",
    "        "
   ]
  },
  {
   "cell_type": "code",
   "execution_count": null,
   "metadata": {},
   "outputs": [],
   "source": [
    "class SubSet():\n",
    "    def __init__(dom,cod):\n",
    "        assert( all( x in cod for x in dom ))\n",
    "        self.cod = cod\n",
    "        self.dom = dom\n",
    "    def compose(f,g):\n",
    "        assert(f.dom == g.cod)"
   ]
  },
  {
   "cell_type": "markdown",
   "metadata": {},
   "source": [
    "A inverse image functor.\n"
   ]
  },
  {
   "cell_type": "code",
   "execution_count": null,
   "metadata": {},
   "outputs": [],
   "source": [
    "class Functor():\n",
    "    def __init__(self, dom, cod, objmap,fmap):\n",
    "        self.objmap = objmap #? As Functions?\n",
    "        self.fmap = fmap\n",
    "        self.cod = cod\n",
    "        self.dom = dom\n",
    "    def idd(C):\n",
    "        return Functor(C,C, lambda x: x, lambda f : f)\n",
    "    def compose(f,g):\n",
    "        assert(f.dom == g.cod)\n",
    "        return Functor(g.dom, f.cod, lambda x : f.objmap(g.objmap(x)),  lambda x : f.fmap(g.fmap(x)) )\n",
    "    \n",
    "        \n",
    "class ProductCat():\n",
    "    def __init__(self,f,g):\n",
    "        self.f = f\n",
    "        self.g = g\n",
    "        \n",
    "Functor( (FinSet , FinSet) ,  FinSet,      )        \n",
    "        \n",
    "Functor(FinSet, FinSet,    )    \n",
    "\n",
    "\n",
    "\n"
   ]
  },
  {
   "cell_type": "code",
   "execution_count": null,
   "metadata": {},
   "outputs": [],
   "source": [
    "class NatTrans():\n",
    "    def __init__(self,dom,cod, a):\n",
    "    def idd(F):\n",
    "        return NatTrans(F,F, lambda o : F.idd(o) )\n",
    "    def vcompose(a,b):\n",
    "        assert(a.dom == b.cod)\n",
    "        return NatTrans(a, b , lambda F : a.a(b.a( F )))\n",
    "    def hcompose(a,b):\n",
    "        assert( a.dom.dom ==   )\n",
    "        "
   ]
  },
  {
   "cell_type": "code",
   "execution_count": null,
   "metadata": {},
   "outputs": [],
   "source": [
    "class Adjunction():\n",
    "    to = NatTrans( L @ R , Functor.idd() )\n",
    "    from = NatTrans( Functor.idd()   , R @ L)\n",
    "    # OR  Hom( L a , b ) ~~ Hom(a, R b)\n",
    "    "
   ]
  },
  {
   "cell_type": "code",
   "execution_count": 28,
   "metadata": {},
   "outputs": [
    {
     "ename": "AttributeError",
     "evalue": "'dict' object has no attribute 'proj1'",
     "output_type": "error",
     "traceback": [
      "\u001b[0;31m---------------------------------------------------------------------------\u001b[0m",
      "\u001b[0;31mAttributeError\u001b[0m                            Traceback (most recent call last)",
      "\u001b[0;32m<ipython-input-28-9d1afd7f7143>\u001b[0m in \u001b[0;36m<module>\u001b[0;34m\u001b[0m\n\u001b[1;32m      1\u001b[0m \u001b[0mg\u001b[0m \u001b[0;34m=\u001b[0m \u001b[0;34m{\u001b[0m\u001b[0;34m}\u001b[0m\u001b[0;34m\u001b[0m\u001b[0;34m\u001b[0m\u001b[0m\n\u001b[0;32m----> 2\u001b[0;31m \u001b[0mg\u001b[0m\u001b[0;34m.\u001b[0m\u001b[0mproj1\u001b[0m \u001b[0;34m=\u001b[0m \u001b[0;32mlambda\u001b[0m \u001b[0mx\u001b[0m\u001b[0;34m,\u001b[0m\u001b[0my\u001b[0m \u001b[0;34m:\u001b[0m \u001b[0mx\u001b[0m\u001b[0;34m\u001b[0m\u001b[0;34m\u001b[0m\u001b[0m\n\u001b[0m",
      "\u001b[0;31mAttributeError\u001b[0m: 'dict' object has no attribute 'proj1'"
     ]
    }
   ],
   "source": [
    "class Product\n",
    "     a\n",
    "     b \n",
    "     fan\n",
    "\n",
    "    \n",
    "g = Product()\n",
    "g.proj1 = lambda x,y : x"
   ]
  },
  {
   "cell_type": "code",
   "execution_count": null,
   "metadata": {},
   "outputs": [],
   "source": [
    "import typing\n",
    "class Pyth():\n",
    "    def __init__(dom, cod, f):\n",
    "        self.dom = dom\n",
    "        self.cod = cod\n",
    "        self.f = f\n",
    "    def "
   ]
  },
  {
   "cell_type": "code",
   "execution_count": null,
   "metadata": {},
   "outputs": [],
   "source": [
    "def PreOrd():\n",
    "    def __init__(self,dom,cod):\n",
    "        assert(dom <= cod)\n",
    "        self.dom = dom\n",
    "        self.cod = cod\n",
    "    def compose(f,g):\n",
    "        assert(f.dom == g.cod)\n",
    "        return PreOrd(g.dom,f.cod)\n",
    "    def idd(a):\n",
    "        return PreOrd(a,a)\n",
    "    "
   ]
  },
  {
   "cell_type": "code",
   "execution_count": null,
   "metadata": {},
   "outputs": [],
   "source": [
    "def MonoidPlus():\n",
    "    def __init__(self, f):\n",
    "        self.dom = ()\n",
    "        self.cod = ()\n",
    "        self.f = f\n",
    "    def compose(f,g):\n",
    "        return MonoidPlus(f.f + g.f)\n",
    "    def idd(unit):\n",
    "        assert(unit == ())\n",
    "        return MonoidPlus(0)\n",
    "\n",
    "def MonoidTimes():\n",
    "    def __init__(self, f):\n",
    "        self.dom = ()\n",
    "        self.cod = ()\n",
    "        self.f = f\n",
    "    def compose(f,g):\n",
    "        return MonoidTimes(f.f * g.f)\n",
    "    def idd(unit):\n",
    "        assert(unit == ())\n",
    "        return MonoidTimes(1)\n",
    "    \n",
    "#def Group(M):\n",
    "#    def inv(f):\n",
    "#  maybe 1 / f.f, or - f.f        \n",
    "\n",
    "\n",
    "# ListMonoid\n",
    "\n",
    "# \n"
   ]
  },
  {
   "cell_type": "markdown",
   "metadata": {},
   "source": [
    "Orders are a useful example where every morphism is unique (if it exists)\n",
    "\n"
   ]
  },
  {
   "cell_type": "code",
   "execution_count": null,
   "metadata": {},
   "outputs": [],
   "source": [
    "class Poset():\n",
    "    def __init__(t, dom, cod ):\n",
    "        assert(isinstance(cod,t))\n",
    "        assert(isinstance(dom,t))\n",
    "        assert(cod <= dom)\n",
    "        self.cod = cod\n",
    "        self.com = dom\n",
    "    def idd(dom):\n",
    "        Poset(type(dom), dom , dom)\n",
    "    def compose(f,g)\n",
    "        assert( f.dom == g.cod )\n"
   ]
  },
  {
   "cell_type": "code",
   "execution_count": null,
   "metadata": {},
   "outputs": [],
   "source": []
  },
  {
   "cell_type": "code",
   "execution_count": 2,
   "metadata": {},
   "outputs": [
    {
     "data": {
      "text/plain": [
       "False"
      ]
     },
     "execution_count": 2,
     "metadata": {},
     "output_type": "execute_result"
    }
   ],
   "source": [
    "{1,2,4} <= {1,2,3} # huh. This actually works. So we can do subset as a categroy\n",
    "\n",
    "# we can also do it for vector subspaces.\n",
    "# intervals.\n",
    "# Things that I think about as being the 2-morphisms in relation categroies"
   ]
  },
  {
   "cell_type": "code",
   "execution_count": null,
   "metadata": {},
   "outputs": [],
   "source": [
    "class Pand(): # This is a tough one a little bit. What is a database?\n",
    "    def __init__( dom,cod, f):\n",
    "        assert( dom in f.columns())\n",
    "        assert( cod in f.columns())\n",
    "        # ?  assert(dom + cod in f.columns)\n",
    "        # assert( intersect(dom,cod) == 0)?\n",
    "        self.dom = dom\n",
    "        self.cod = cod\n",
    "        "
   ]
  },
  {
   "cell_type": "code",
   "execution_count": null,
   "metadata": {},
   "outputs": [],
   "source": [
    "class Op():\n",
    "    def __init__(self, C, *args):\n",
    "        self.f = C(*args)\n",
    "        self.C = C\n",
    "    def compose(f,g):\n",
    "        self.C.compose(g,f)\n",
    "    def idd(dom):\n",
    "        self.C.idd(dom)\n",
    "    "
   ]
  },
  {
   "cell_type": "code",
   "execution_count": null,
   "metadata": {},
   "outputs": [],
   "source": [
    "class Graph(): # a category of paths on graph # use networkx. # a category of"
   ]
  },
  {
   "cell_type": "markdown",
   "metadata": {},
   "source": [
    "[(term, term)] as a category of syntatic relations"
   ]
  },
  {
   "cell_type": "code",
   "execution_count": 45,
   "metadata": {},
   "outputs": [
    {
     "data": {
      "text/plain": [
       "-5139300591851840855"
      ]
     },
     "execution_count": 45,
     "metadata": {},
     "output_type": "execute_result"
    }
   ],
   "source": [
    "hash(\"hella\")"
   ]
  },
  {
   "cell_type": "code",
   "execution_count": 9,
   "metadata": {},
   "outputs": [
    {
     "ename": "ModuleNotFoundError",
     "evalue": "No module named 'dataclasses'",
     "output_type": "error",
     "traceback": [
      "\u001b[0;31m---------------------------------------------------------------------------\u001b[0m",
      "\u001b[0;31mModuleNotFoundError\u001b[0m                       Traceback (most recent call last)",
      "\u001b[0;32m<ipython-input-9-4fec7259c24a>\u001b[0m in \u001b[0;36m<module>\u001b[0;34m()\u001b[0m\n\u001b[0;32m----> 1\u001b[0;31m \u001b[0;32mfrom\u001b[0m \u001b[0mdataclasses\u001b[0m \u001b[0;32mimport\u001b[0m \u001b[0mdataclass\u001b[0m\u001b[0;34m\u001b[0m\u001b[0;34m\u001b[0m\u001b[0m\n\u001b[0m",
      "\u001b[0;31mModuleNotFoundError\u001b[0m: No module named 'dataclasses'"
     ]
    }
   ],
   "source": [
    "from dataclasses import dataclass"
   ]
  },
  {
   "cell_type": "code",
   "execution_count": 49,
   "metadata": {},
   "outputs": [],
   "source": [
    "@dataclass\n",
    "class Foo:\n",
    "    bar : int\n",
    "    baz : str\n",
    "\n",
    "    "
   ]
  },
  {
   "cell_type": "code",
   "execution_count": 51,
   "metadata": {},
   "outputs": [
    {
     "data": {
      "text/plain": [
       "Foo(bar=4, baz='seve')"
      ]
     },
     "execution_count": 51,
     "metadata": {},
     "output_type": "execute_result"
    }
   ],
   "source": [
    "Foo(4,\"seve\")"
   ]
  },
  {
   "cell_type": "code",
   "execution_count": 55,
   "metadata": {},
   "outputs": [
    {
     "data": {
      "text/plain": [
       "True"
      ]
     },
     "execution_count": 55,
     "metadata": {},
     "output_type": "execute_result"
    }
   ],
   "source": [
    "type(Foo(4,\"sev\")) == Foo"
   ]
  },
  {
   "cell_type": "markdown",
   "metadata": {},
   "source": [
    "Three valued logic.\n",
    "\n",
    "\n",
    "Julia implements this. missing\n",
    "\n",
    "None, True, False\n",
    "\n",
    "This is a useful construct for missing information\n",
    "\n",
    "\n",
    "PartialFinSet\n",
    " explicitly f[whatever] = None\n",
    "  or implciilty (which is probably better.\n",
    "\n",
    "PartialFinSet seems useful for databases with missing entries\n",
    "\n",
    "\n",
    "unknown has to go to unknown.\n",
    "Tuple structures. Do they require coherence?\n",
    "\n",
    "\n",
    "\n",
    "The truth object in PFinSet is {True, False, None}\n",
    "\n",
    "None is interpreted as unknown.\n",
    "There are alternate versions of 3 level logic.\n",
    "\n",
    "four level logic - constradicatory evidence\n",
    "Perhaps MultiPartialFinsSet? Which are relations. But sort of considering multivalued functions are contradictator\n",
    "\n",
    "\n",
    "\n",
    "\n",
    "\n",
    "\n"
   ]
  },
  {
   "cell_type": "code",
   "execution_count": null,
   "metadata": {},
   "outputs": [],
   "source": [
    "class PFinSet():\n",
    "    def __init__():\n",
    "        # the definition is more symmettircal in many ways\n",
    "        \n",
    "    def compose(f,g):\n",
    "        return PFinSet(g.dom, f.cod, { x : f[g[x]] for x in g.dom if g[x] in f.f })\n",
    "    \n",
    "    \n",
    "# there is a monad resulting from a natural adjunctions between Partial Functions and Functions?\n",
    "# This is a the maybe monad.\n",
    "\n",
    "\n",
    "    "
   ]
  },
  {
   "cell_type": "code",
   "execution_count": null,
   "metadata": {},
   "outputs": [],
   "source": [
    "class FinRel():\n",
    "    def __init__( to , fro): #but better yet, use pandas.\n",
    "    def __\n",
    "    \n",
    "# https://pandas.pydata.org/docs/user_guide/categorical.html\n",
    "# very amusingly they call this categorical data\n",
    "    \n",
    "class FinRel(): # pandas over only enums\n",
    "    def __init__(dom,  cod):\n",
    "        dom = { colname : { possible vals }   }"
   ]
  },
  {
   "cell_type": "markdown",
   "metadata": {},
   "source": [
    "Sympy has a knuth bendix implentation under the hood in the free group module\n",
    "\n",
    "https://github.com/libsemigroups/libsemigroups_cppyy\n",
    "https://github.com/sympy/sympy/blob/master/sympy/combinatorics/tests/test_rewriting.py\n",
    "https://docs.sympy.org/latest/modules/combinatorics/fp_groups.html#constructing-a-presentation-for-a-subgroup\n",
    "See RFC walters book"
   ]
  },
  {
   "cell_type": "code",
   "execution_count": 14,
   "metadata": {},
   "outputs": [],
   "source": [
    "class PlusIntMonoid(int):\n",
    "    def mplus(self,b):\n",
    "        return self + b\n",
    "    def mzero():\n",
    "        return 0\n",
    "\n",
    "class TimesIntMonoid(int):\n",
    "    def mplus(self,b):\n",
    "        return self * b\n",
    "    def mzero():\n",
    "        return 1\n",
    "\n",
    "class ListMonoid(list):\n",
    "    def mplus(self,b):\n",
    "        return self + b\n",
    "    def mzero():\n",
    "        return []\n",
    "\n",
    "class UnionMonoid(set):\n",
    "    def mplus(self,b):\n",
    "        return self.union(b)\n",
    "    def mzero():\n",
    "        return set()"
   ]
  },
  {
   "cell_type": "code",
   "execution_count": 18,
   "metadata": {},
   "outputs": [
    {
     "data": {
      "text/plain": [
       "[1, 2, 1, 2]"
      ]
     },
     "execution_count": 18,
     "metadata": {},
     "output_type": "execute_result"
    }
   ],
   "source": [
    "ListMonoid([1,2]).mplus(ListMonoid([1,2]))"
   ]
  },
  {
   "cell_type": "code",
   "execution_count": 8,
   "metadata": {},
   "outputs": [
    {
     "data": {
      "text/plain": [
       "[]"
      ]
     },
     "execution_count": 8,
     "metadata": {},
     "output_type": "execute_result"
    }
   ],
   "source": [
    "ListMonoid.mzero()"
   ]
  },
  {
   "cell_type": "code",
   "execution_count": 10,
   "metadata": {},
   "outputs": [
    {
     "data": {
      "text/plain": [
       "{1, 2, 4}"
      ]
     },
     "execution_count": 10,
     "metadata": {},
     "output_type": "execute_result"
    }
   ],
   "source": [
    "UnionMonoid({1,2}).mplus(UnionMonoid({1,4}))"
   ]
  },
  {
   "cell_type": "code",
   "execution_count": 15,
   "metadata": {},
   "outputs": [
    {
     "data": {
      "text/plain": [
       "set()"
      ]
     },
     "execution_count": 15,
     "metadata": {},
     "output_type": "execute_result"
    }
   ],
   "source": [
    "UnionMonoid.mzero()"
   ]
  },
  {
   "cell_type": "code",
   "execution_count": 17,
   "metadata": {},
   "outputs": [
    {
     "data": {
      "text/plain": [
       "3"
      ]
     },
     "execution_count": 17,
     "metadata": {},
     "output_type": "execute_result"
    }
   ],
   "source": [
    "TimesNatMonoid(3).mplus(TimesNatMonoid.mzero())"
   ]
  },
  {
   "cell_type": "code",
   "execution_count": 19,
   "metadata": {},
   "outputs": [],
   "source": [
    "class PlusIntCat(int):\n",
    "    def compose(self,b):\n",
    "        return self + b\n",
    "    def idd():\n",
    "        return 0\n",
    "    def dom(self):\n",
    "        return () # always return (), the only object\n",
    "    def cod(self):\n",
    "        return ()\n",
    "\n",
    "class TimesIntCat(int):\n",
    "    def compose(self,b):\n",
    "        return self * b\n",
    "    def idd():\n",
    "        return 1\n",
    "    def dom(self):\n",
    "        return ()\n",
    "    def cod(self):\n",
    "        return ()\n",
    "\n",
    "class ListCat(int):\n",
    "    def compose(self,b):\n",
    "        return self + b\n",
    "    def idd():\n",
    "        return []\n",
    "    def dom(self):\n",
    "        return ()\n",
    "    def cod(self):\n",
    "        return ()\n",
    "\n",
    "class UnionSetCat(set):\n",
    "    def compose(self,b):\n",
    "        return self.union(b)\n",
    "    def idd(self,b):\n",
    "        return set()\n",
    "    def dom(self):\n",
    "        return ()\n",
    "    def cod(self):\n",
    "        return ()\n",
    "    \n",
    "PlusIntCat(3).compose(PlusIntCat.idd()) # 3"
   ]
  },
  {
   "cell_type": "code",
   "execution_count": 20,
   "metadata": {},
   "outputs": [
    {
     "data": {
      "text/plain": [
       "3"
      ]
     },
     "execution_count": 20,
     "metadata": {},
     "output_type": "execute_result"
    }
   ],
   "source": []
  },
  {
   "cell_type": "code",
   "execution_count": null,
   "metadata": {},
   "outputs": [],
   "source": [
    "from sympy.combinatorics.named_groups import SymmetricGroup\n",
    "\n",
    "G = SymmetricGroup(4)\n"
   ]
  },
  {
   "cell_type": "code",
   "execution_count": 21,
   "metadata": {},
   "outputs": [],
   "source": [
    "from sympy.combinatorics.free_groups import free_group, vfree_group, xfree_group\n",
    "from sympy.combinatorics.fp_groups import FpGroup, CosetTable, coset_enumeration_r\n",
    "F, a, b = free_group(\"a, b\")\n",
    "G = FpGroup(F, [a**2, b**3, (a*b)**4])"
   ]
  },
  {
   "cell_type": "code",
   "execution_count": 40,
   "metadata": {},
   "outputs": [
    {
     "ename": "AttributeError",
     "evalue": "'FreeGroup' object has no attribute 'reduce'",
     "output_type": "error",
     "traceback": [
      "\u001b[0;31m---------------------------------------------------------------------------\u001b[0m",
      "\u001b[0;31mAttributeError\u001b[0m                            Traceback (most recent call last)",
      "\u001b[0;32m<ipython-input-40-5c0678f0808c>\u001b[0m in \u001b[0;36m<module>\u001b[0;34m\u001b[0m\n\u001b[0;32m----> 1\u001b[0;31m \u001b[0mF\u001b[0m\u001b[0;34m.\u001b[0m\u001b[0mreduce\u001b[0m\u001b[0;34m(\u001b[0m\u001b[0ma\u001b[0m\u001b[0;34m*\u001b[0m\u001b[0ma\u001b[0m\u001b[0;34m*\u001b[0m\u001b[0ma\u001b[0m\u001b[0;34m*\u001b[0m\u001b[0mb\u001b[0m\u001b[0;34m*\u001b[0m\u001b[0mb\u001b[0m\u001b[0;34m*\u001b[0m\u001b[0mb\u001b[0m\u001b[0;34m)\u001b[0m\u001b[0;34m\u001b[0m\u001b[0;34m\u001b[0m\u001b[0m\n\u001b[0m",
      "\u001b[0;31mAttributeError\u001b[0m: 'FreeGroup' object has no attribute 'reduce'"
     ]
    }
   ],
   "source": [
    "G.reduce(a*a*a*b*b*b)"
   ]
  },
  {
   "cell_type": "code",
   "execution_count": 66,
   "metadata": {},
   "outputs": [
    {
     "data": {
      "text/plain": [
       "{'free_group': <free group on the generators (a, b)>,\n",
       " 'relators': [a**2, b**3, a*b*a*b*a*b*a*b],\n",
       " 'generators': (a, b),\n",
       " 'dtype': sympy.combinatorics.fp_groups.FpGroupElement,\n",
       " '_coset_table': None,\n",
       " '_is_standardized': False,\n",
       " '_order': None,\n",
       " '_center': None,\n",
       " '_rewriting_system': <sympy.combinatorics.rewritingsystem.RewritingSystem at 0x111e91e50>,\n",
       " '_perm_isomorphism': None}"
      ]
     },
     "execution_count": 66,
     "metadata": {},
     "output_type": "execute_result"
    }
   ],
   "source": [
    "G.__dict__"
   ]
  },
  {
   "cell_type": "code",
   "execution_count": 67,
   "metadata": {},
   "outputs": [
    {
     "data": {
      "text/plain": [
       "{'free_group': <free group on the generators (a, b)>,\n",
       " 'relators': [a**2, b**3, a*b*a*b*a*b*a*b],\n",
       " 'generators': (a, b),\n",
       " 'dtype': sympy.combinatorics.fp_groups.FpGroupElement,\n",
       " '_coset_table': None,\n",
       " '_is_standardized': False,\n",
       " '_order': None,\n",
       " '_center': None,\n",
       " '_rewriting_system': <sympy.combinatorics.rewritingsystem.RewritingSystem at 0x111e91e50>,\n",
       " '_perm_isomorphism': None}"
      ]
     },
     "execution_count": 67,
     "metadata": {},
     "output_type": "execute_result"
    }
   ],
   "source": [
    "vars(G)"
   ]
  },
  {
   "cell_type": "code",
   "execution_count": 34,
   "metadata": {},
   "outputs": [
    {
     "ename": "TypeError",
     "evalue": "only FreeGroup elements of same FreeGroup can be multiplied",
     "output_type": "error",
     "traceback": [
      "\u001b[0;31m---------------------------------------------------------------------------\u001b[0m",
      "\u001b[0;31mTypeError\u001b[0m                                 Traceback (most recent call last)",
      "\u001b[0;32m<ipython-input-34-c9c0b72c710c>\u001b[0m in \u001b[0;36m<module>\u001b[0;34m\u001b[0m\n\u001b[0;32m----> 1\u001b[0;31m \u001b[0mG\u001b[0m\u001b[0;34m(\u001b[0m\u001b[0ma\u001b[0m\u001b[0;34m*\u001b[0m\u001b[0ma\u001b[0m\u001b[0;34m*\u001b[0m\u001b[0;36m1\u001b[0m\u001b[0;34m)\u001b[0m\u001b[0;34m\u001b[0m\u001b[0;34m\u001b[0m\u001b[0m\n\u001b[0m",
      "\u001b[0;32m/usr/local/lib/python3.7/site-packages/sympy/combinatorics/free_groups.py\u001b[0m in \u001b[0;36m__mul__\u001b[0;34m(self, other)\u001b[0m\n\u001b[1;32m    525\u001b[0m         \u001b[0mgroup\u001b[0m \u001b[0;34m=\u001b[0m \u001b[0mself\u001b[0m\u001b[0;34m.\u001b[0m\u001b[0mgroup\u001b[0m\u001b[0;34m\u001b[0m\u001b[0;34m\u001b[0m\u001b[0m\n\u001b[1;32m    526\u001b[0m         \u001b[0;32mif\u001b[0m \u001b[0;32mnot\u001b[0m \u001b[0misinstance\u001b[0m\u001b[0;34m(\u001b[0m\u001b[0mother\u001b[0m\u001b[0;34m,\u001b[0m \u001b[0mgroup\u001b[0m\u001b[0;34m.\u001b[0m\u001b[0mdtype\u001b[0m\u001b[0;34m)\u001b[0m\u001b[0;34m:\u001b[0m\u001b[0;34m\u001b[0m\u001b[0;34m\u001b[0m\u001b[0m\n\u001b[0;32m--> 527\u001b[0;31m             raise TypeError(\"only FreeGroup elements of same FreeGroup can \"\n\u001b[0m\u001b[1;32m    528\u001b[0m                     \"be multiplied\")\n\u001b[1;32m    529\u001b[0m         \u001b[0;32mif\u001b[0m \u001b[0mself\u001b[0m\u001b[0;34m.\u001b[0m\u001b[0mis_identity\u001b[0m\u001b[0;34m:\u001b[0m\u001b[0;34m\u001b[0m\u001b[0;34m\u001b[0m\u001b[0m\n",
      "\u001b[0;31mTypeError\u001b[0m: only FreeGroup elements of same FreeGroup can be multiplied"
     ]
    }
   ],
   "source": [
    "G(a*a*1)"
   ]
  },
  {
   "cell_type": "code",
   "execution_count": 35,
   "metadata": {},
   "outputs": [
    {
     "name": "stdout",
     "output_type": "stream",
     "text": [
      "Help on FpGroup in module sympy.combinatorics.fp_groups object:\n",
      "\n",
      "class FpGroup(sympy.printing.defaults.DefaultPrinting)\n",
      " |  FpGroup(fr_grp, relators)\n",
      " |  \n",
      " |  The FpGroup would take a FreeGroup and a list/tuple of relators, the\n",
      " |  relators would be specified in such a way that each of them be equal to the\n",
      " |  identity of the provided free group.\n",
      " |  \n",
      " |  Method resolution order:\n",
      " |      FpGroup\n",
      " |      sympy.printing.defaults.DefaultPrinting\n",
      " |      builtins.object\n",
      " |  \n",
      " |  Methods defined here:\n",
      " |  \n",
      " |  __contains__(self, g)\n",
      " |  \n",
      " |  __init__(self, fr_grp, relators)\n",
      " |      Initialize self.  See help(type(self)) for accurate signature.\n",
      " |  \n",
      " |  __repr__ = __str__(self)\n",
      " |  \n",
      " |  __str__(self)\n",
      " |      Return str(self).\n",
      " |  \n",
      " |  center(self)\n",
      " |      Return the list of generators of the center of `self`.\n",
      " |  \n",
      " |  centralizer(self, other)\n",
      " |      Return the list of generators of the centralizer of `other`\n",
      " |      (a list of elements of `self`) in `self`.\n",
      " |  \n",
      " |  coset_enumeration(self, H, strategy='relator_based', max_cosets=None, draft=None, incomplete=False)\n",
      " |      Return an instance of ``coset table``, when Todd-Coxeter algorithm is\n",
      " |      run over the ``self`` with ``H`` as subgroup, using ``strategy``\n",
      " |      argument as strategy. The returned coset table is compressed but not\n",
      " |      standardized.\n",
      " |      \n",
      " |      An instance of `CosetTable` for `fp_grp` can be passed as the keyword\n",
      " |      argument `draft` in which case the coset enumeration will start with\n",
      " |      that instance and attempt to complete it.\n",
      " |      \n",
      " |      When `incomplete` is `True` and the function is unable to complete for\n",
      " |      some reason, the partially complete table will be returned.\n",
      " |  \n",
      " |  coset_table(self, H, strategy='relator_based', max_cosets=None, draft=None, incomplete=False)\n",
      " |      Return the mathematical coset table of ``self`` in ``H``.\n",
      " |  \n",
      " |  derived_series(self)\n",
      " |      Return the list of lists containing the generators\n",
      " |      of the subgroups in the derived series of `self`.\n",
      " |  \n",
      " |  derived_subgroup(self)\n",
      " |      Return the list of generators of the derived subgroup of `self`.\n",
      " |  \n",
      " |  equals(self, word1, word2)\n",
      " |      Compare `word1` and `word2` for equality in the group\n",
      " |      using the group's rewriting system. If the system is\n",
      " |      confluent, the returned answer is necessarily correct.\n",
      " |      (If it isn't, `False` could be returned in some cases\n",
      " |      where in fact `word1 == word2`)\n",
      " |  \n",
      " |  index(self, H, strategy='relator_based')\n",
      " |      Return the index of subgroup ``H`` in group ``self``.\n",
      " |      \n",
      " |      Examples\n",
      " |      ========\n",
      " |      \n",
      " |      >>> from sympy.combinatorics.free_groups import free_group\n",
      " |      >>> from sympy.combinatorics.fp_groups import FpGroup\n",
      " |      >>> F, x, y = free_group(\"x, y\")\n",
      " |      >>> f = FpGroup(F, [x**5, y**4, y*x*y**3*x**3])\n",
      " |      >>> f.index([x])\n",
      " |      4\n",
      " |  \n",
      " |  lower_central_series(self)\n",
      " |      Return the list of lists containing the generators\n",
      " |      of the subgroups in the lower central series of `self`.\n",
      " |  \n",
      " |  make_confluent(self)\n",
      " |      Try to make the group's rewriting system confluent\n",
      " |  \n",
      " |  most_frequent_generator(self)\n",
      " |  \n",
      " |  normal_closure(self, other)\n",
      " |      Return the list of generators of the normal closure of `other`\n",
      " |      (a list of elements of `self`) in `self`.\n",
      " |  \n",
      " |  order(self, strategy='relator_based')\n",
      " |      Returns the order of the finitely presented group ``self``. It uses\n",
      " |      the coset enumeration with identity group as subgroup, i.e ``H=[]``.\n",
      " |      \n",
      " |      Examples\n",
      " |      ========\n",
      " |      \n",
      " |      >>> from sympy.combinatorics.free_groups import free_group\n",
      " |      >>> from sympy.combinatorics.fp_groups import FpGroup\n",
      " |      >>> F, x, y = free_group(\"x, y\")\n",
      " |      >>> f = FpGroup(F, [x, y**2])\n",
      " |      >>> f.order(strategy=\"coset_table_based\")\n",
      " |      2\n",
      " |  \n",
      " |  random(self)\n",
      " |  \n",
      " |  reduce(self, word)\n",
      " |      Return the reduced form of `word` in `self` according to the group's\n",
      " |      rewriting system. If it's confluent, the reduced form is the unique normal\n",
      " |      form of the word in the group.\n",
      " |  \n",
      " |  standardize_coset_table(self)\n",
      " |      Standardized the coset table ``self`` and makes the internal variable\n",
      " |      ``_is_standardized`` equal to ``True``.\n",
      " |  \n",
      " |  subgroup(self, gens, C=None, homomorphism=False)\n",
      " |      Return the subgroup generated by `gens` using the\n",
      " |      Reidemeister-Schreier algorithm\n",
      " |      homomorphism -- When set to True, return a dictionary containing the images\n",
      " |                   of the presentation generators in the original group.\n",
      " |      \n",
      " |      Examples\n",
      " |      ========\n",
      " |      >>> from sympy.combinatorics.fp_groups import (FpGroup, FpSubgroup)\n",
      " |      >>> from sympy.combinatorics.free_groups import free_group\n",
      " |      >>> F, x, y = free_group(\"x, y\")\n",
      " |      >>> f = FpGroup(F, [x**3, y**5, (x*y)**2])\n",
      " |      >>> H = [x*y, x**-1*y**-1*x*y*x]\n",
      " |      >>> K, T = f.subgroup(H, homomorphism=True)\n",
      " |      >>> T(K.generators)\n",
      " |      [x*y, x**-1*y**2*x**-1]\n",
      " |  \n",
      " |  ----------------------------------------------------------------------\n",
      " |  Data descriptors defined here:\n",
      " |  \n",
      " |  elements\n",
      " |      List the elements of `self`.\n",
      " |  \n",
      " |  identity\n",
      " |  \n",
      " |  is_abelian\n",
      " |      Check if `self` is abelian.\n",
      " |  \n",
      " |  is_nilpotent\n",
      " |      Check if `self` is nilpotent.\n",
      " |  \n",
      " |  is_solvable\n",
      " |      Check if `self` is solvable.\n",
      " |  \n",
      " |  ----------------------------------------------------------------------\n",
      " |  Data and other attributes defined here:\n",
      " |  \n",
      " |  is_FpGroup = True\n",
      " |  \n",
      " |  is_PermutationGroup = False\n",
      " |  \n",
      " |  is_group = True\n",
      " |  \n",
      " |  ----------------------------------------------------------------------\n",
      " |  Data descriptors inherited from sympy.printing.defaults.DefaultPrinting:\n",
      " |  \n",
      " |  __dict__\n",
      " |      dictionary for instance variables (if defined)\n",
      " |  \n",
      " |  __weakref__\n",
      " |      list of weak references to the object (if defined)\n",
      "\n"
     ]
    }
   ],
   "source": [
    "help(G)"
   ]
  },
  {
   "cell_type": "code",
   "execution_count": 39,
   "metadata": {},
   "outputs": [
    {
     "data": {
      "text/plain": [
       "a**3"
      ]
     },
     "execution_count": 39,
     "metadata": {},
     "output_type": "execute_result"
    }
   ],
   "source": [
    "G.identity * a * a * a"
   ]
  },
  {
   "cell_type": "code",
   "execution_count": 74,
   "metadata": {},
   "outputs": [
    {
     "data": {
      "text/plain": [
       "()"
      ]
     },
     "execution_count": 74,
     "metadata": {},
     "output_type": "execute_result"
    }
   ],
   "source": [
    "from sympy.combinatorics.free_groups import free_group, vfree_group, xfree_group\n",
    "from sympy.combinatorics.fp_groups import FpGroup, CosetTable, coset_enumeration_r\n",
    "\n",
    "\n",
    "def fp_group_cat(G, catname):\n",
    "    # A Category generator that turns a finitely presented group into categorical python class\n",
    "    Cat = type(catname, (), vars(G))\n",
    "    def cat_init(self,a):\n",
    "        self.f = a\n",
    "    Cat.__init__ = cat_init\n",
    "    Cat.compose = lambda self,b : G.reduce(self.f * b.f)\n",
    "    Cat.dom = lambda : ()\n",
    "    Cat.cod = lambda : ()\n",
    "    Cat.idd = lambda : Cat(G.identity)\n",
    "    return Cat\n",
    "\n",
    "F, a, b = free_group(\"a, b\")\n",
    "G = FpGroup(F, [a**2, b**3, (a*b)**4])\n",
    "MyCat = fp_group_cat(G, \"MyCat\")\n",
    "MyCat(a*a).compose(MyCat.idd())\n",
    "MyCat.dom()\n"
   ]
  },
  {
   "cell_type": "code",
   "execution_count": 85,
   "metadata": {},
   "outputs": [],
   "source": [
    "class IntOrderCat():\n",
    "    def __init__(self, dom, cod):\n",
    "        assert(dom <= cod)\n",
    "        self.cod = cod\n",
    "        self.dom = dom\n",
    "        self.f = ()\n",
    "    def idd(n):\n",
    "        return IntOrderCat(n,n)\n",
    "    def compose(f,g):\n",
    "        assert( f.dom == g.cod )\n",
    "        return IntOrderCat( g.dom, f.cod )\n",
    "    def __repr__(self):\n",
    "        return f\"[{self.dom} <= {self.cod}]\"\n",
    "    \n",
    "# our convention for the order of composition feels counterintuitive here.\n",
    "IntOrderCat(3,5).compose(IntOrderCat(2,3)) # [2 <= 5]\n",
    "IntOrderCat.idd(3) # [3 <= 3]"
   ]
  },
  {
   "cell_type": "code",
   "execution_count": 94,
   "metadata": {},
   "outputs": [
    {
     "data": {
      "text/plain": [
       "[3 <= 3]"
      ]
     },
     "execution_count": 94,
     "metadata": {},
     "output_type": "execute_result"
    }
   ],
   "source": [
    "IntOrderCat.idd(3)"
   ]
  },
  {
   "cell_type": "code",
   "execution_count": 101,
   "metadata": {},
   "outputs": [],
   "source": [
    "class SubSetCat():\n",
    "    def __init__(self,dom,cod):\n",
    "        assert( dom.issubset(cod))\n",
    "        self.cod = cod\n",
    "        self.dom = dom\n",
    "    def compose(f,g):\n",
    "        assert(f.dom == g.cod)\n",
    "        return SubSetCat(g.dom, f.cod)\n",
    "    def idd(s):\n",
    "        return SubSetCat(s,s)\n",
    "    def __repr__(self):\n",
    "        return f\"[{self.dom} <= {self.cod}]\"\n",
    "\n",
    "SubSetCat(  {1,2,3} , {1,2,3,7} ).compose(SubSetCat( {1,2} , {1,2,3} )) # [{1, 2} <= {1, 2, 3, 7}]"
   ]
  },
  {
   "cell_type": "code",
   "execution_count": 102,
   "metadata": {},
   "outputs": [
    {
     "data": {
      "text/plain": [
       "[{1, 2} <= {1, 2, 3, 7}]"
      ]
     },
     "execution_count": 102,
     "metadata": {},
     "output_type": "execute_result"
    }
   ],
   "source": [
    "SubSetCat(  {1,2,3} , {1,2,3,7} ).compose(SubSetCat( {1,2} , {1,2,3} ))"
   ]
  },
  {
   "cell_type": "code",
   "execution_count": null,
   "metadata": {},
   "outputs": [],
   "source": []
  }
 ],
 "metadata": {
  "kernelspec": {
   "display_name": "Python 3",
   "language": "python",
   "name": "python3"
  },
  "language_info": {
   "codemirror_mode": {
    "name": "ipython",
    "version": 3
   },
   "file_extension": ".py",
   "mimetype": "text/x-python",
   "name": "python",
   "nbconvert_exporter": "python",
   "pygments_lexer": "ipython3",
   "version": "3.6.8"
  }
 },
 "nbformat": 4,
 "nbformat_minor": 2
}
