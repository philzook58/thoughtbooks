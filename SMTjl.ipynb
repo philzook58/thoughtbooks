{
 "cells": [
  {
   "cell_type": "markdown",
   "metadata": {},
   "source": [
    "Analog of SMTpy. Myabe I should just do this in a project from the get go\n",
    "\n",
    "Maybe why even bother using my own DSL? reuse Epxpr\n",
    "\n",
    "Well for programmaticaly invoking z3 it might be nice.\n",
    "\n",
    "Welllll. The z3 smtlib parser is fine.\n",
    "\n",
    "\n",
    "Could I take this approach all the way to a WP pass?\n",
    "substitution might be a pain\n",
    "macrotools might have something useful for that\n",
    "\n",
    "using MacroTools\n",
    "ex = :(x + x^2 + x^3)\n",
    "MacroTools.postwalk(ex -> ex == :x ? :y : ex, ex)\n",
    "MacroTools.postwalk(ex -> ex == :x ? 1.5 : ex, ex)\n",
    "\n",
    "Need to be on the lookout for new forms that introduce bound variables. God what a pain\n",
    "\n",
    "Why can't we overload programs to run them backwards?\n",
    "\n"
   ]
  },
  {
   "cell_type": "code",
   "execution_count": null,
   "metadata": {},
   "outputs": [],
   "source": [
    "struct Add\n",
    "    args\n",
    "end\n",
    "\n",
    "struct Times\n",
    "    args\n",
    "end\n",
    "\n",
    "struct Eq\n",
    "end\n",
    "\n",
    "struct \n",
    "\n",
    "end\n",
    "\n",
    "struct Var\n",
    "    name\n",
    "    typ\n",
    "end\n",
    "\n",
    "struct ForAll\n",
    "\n",
    "end\n",
    "\n",
    "struct Exists\n",
    "\n",
    "end\n"
   ]
  },
  {
   "cell_type": "code",
   "execution_count": 51,
   "metadata": {},
   "outputs": [
    {
     "name": "stdout",
     "output_type": "stream",
     "text": [
      "Expr\n",
      "  head: Symbol let\n",
      "  args: Array{Any}((2,))\n",
      "    1: Expr\n",
      "      head: Symbol block\n",
      "      args: Array{Any}((2,))\n",
      "        1: Expr\n",
      "          head: Symbol =\n",
      "          args: Array{Any}((2,))\n",
      "            1: Symbol x\n",
      "            2: Int64 7\n",
      "        2: Expr\n",
      "          head: Symbol =\n",
      "          args: Array{Any}((2,))\n",
      "            1: Symbol x\n",
      "            2: Int64 8\n",
      "    2: Expr\n",
      "      head: Symbol block\n",
      "      args: Array{Any}((2,))\n",
      "        1: LineNumberNode\n",
      "          line: Int64 91\n",
      "          file: Symbol In[51]\n",
      "        2: Symbol x\n",
      "nothing\n"
     ]
    },
    {
     "data": {
      "text/plain": [
       "\"(declare-const x   Int )\\n(declare-const y   Int )\""
      ]
     },
     "execution_count": 51,
     "metadata": {},
     "output_type": "execute_result"
    }
   ],
   "source": [
    "symbol_replace = Dict(\n",
    "    :! => :not,\n",
    "    :(==) => :(=),\n",
    "    :(!=) => :distinct # or do i need something fancier?\n",
    ")\n",
    "using MacroTools\n",
    "function build_let(b,k)\n",
    "    if length(b) == 0\n",
    "        return expr_to_smtlib(k)\n",
    "    end\n",
    "    l = b[1]\n",
    "    rest = b[2:end]\n",
    "    @capture( l, x_ = e_)\n",
    "    x = expr_to_smtlib(x)\n",
    "    e = expr_to_smtlib(e)\n",
    "    r =  build_let(rest, k)\n",
    "    return \"(let (($x  $e)) $r)\"\n",
    "end\n",
    "\n",
    "\n",
    "function expr_to_smtlib(e)\n",
    "    #nl = \"\\n\"\n",
    "    #get_fun_symbols\n",
    "    e = rmlines(e)\n",
    "    if e isa Symbol\n",
    "        if haskey(symbol_replace,e)\n",
    "            return symbol_replace[e]\n",
    "        end\n",
    "        return e\n",
    "    elseif e isa Number\n",
    "        return e\n",
    "    elseif e.head == :call\n",
    "        #f = e.args[1]\n",
    "        #@assert f isa Symbol\n",
    "        args = join(expr_to_smtlib.(e.args), \" \")\n",
    "        return \"($args)\"\n",
    "    # elseif e.head == :vect # hmmm\n",
    "    elseif e.head == :if\n",
    "        args = expr_to_smtlib.(e.args)\n",
    "        args = join(args, \" \")\n",
    "        return \"(ite $args)\"\n",
    "    elseif e.head == :(&&)\n",
    "        args = join(expr_to_smtlib.(e.args), \" \")\n",
    "        return \"(and $args)\"\n",
    "    elseif e.head == :let # julia lets are actually statements I think. Not great. Also they are sequential.\n",
    "        println(dump(e))\n",
    "        if e.args[1].head == :block\n",
    "            return build_let( e.args[1].args , e.args[2])\n",
    "        elseif e.args[1].head == :(=)\n",
    "            return build_let( [e.args[1]], e.args[2] )\n",
    "        end\n",
    "    elseif e.head == :(||)\n",
    "        args = join(expr_to_smtlib.(e.args), \" \")\n",
    "        return \"(or $args)\"\n",
    "    elseif e.head == :block\n",
    "        @assert length(e.args) == 1\n",
    "        return expr_to_smtlib(e.args[1])\n",
    "    end\n",
    "    #nl += \"\\t\"\n",
    "end\n",
    "    \n",
    "function declare_smtlib(x)\n",
    "    x, typ = x\n",
    "    #args = join(\" \", typ[1:end-1] )\n",
    "    #res = typ[end]\n",
    "    if typ == Int\n",
    "        typ = :Int\n",
    "    end\n",
    "    \"(declare-const $x   $typ )\"\n",
    "end\n",
    "function declare_smtlib(x::Vector)\n",
    "    return join(declare_smtlib.(x), \"\\n\")\n",
    "end\n",
    "\n",
    "function parse_model()\n",
    "end\n",
    "\n",
    "\n",
    "        \n",
    "macro smt(ex)\n",
    "    expr_to_smtlib(ex)\n",
    "end\n",
    "\n",
    "\n",
    "@smt 1 + 2 + 3 * 4\n",
    "#@smt true ? 2 : 3 * 4\n",
    "@smt !true\n",
    "@smt true || false\n",
    "@smt true == false\n",
    "@smt y - x\n",
    "@smt(let x = 7, x = 8\n",
    "        x end)\n",
    "\n",
    "declare_smtlib( [:x => Int, :y => Int] )"
   ]
  },
  {
   "cell_type": "code",
   "execution_count": 38,
   "metadata": {},
   "outputs": [
    {
     "data": {
      "text/plain": [
       "Bool"
      ]
     },
     "execution_count": 38,
     "metadata": {},
     "output_type": "execute_result"
    }
   ],
   "source": [
    "typeof(true)"
   ]
  },
  {
   "cell_type": "code",
   "execution_count": 11,
   "metadata": {},
   "outputs": [
    {
     "name": "stdout",
     "output_type": "stream",
     "text": [
      "Expr\n",
      "  head: Symbol block\n",
      "  args: Array{Any}((2,))\n",
      "    1: LineNumberNode\n",
      "      line: Int64 2\n",
      "      file: Symbol In[11]\n",
      "    2: Expr\n",
      "      head: Symbol let\n",
      "      args: Array{Any}((2,))\n",
      "        1: Expr\n",
      "          head: Symbol =\n",
      "          args: Array{Any}((2,))\n",
      "            1: Symbol a\n",
      "            2: Int64 1\n",
      "        2: Expr\n",
      "          head: Symbol block\n",
      "          args: Array{Any}((2,))\n",
      "            1: LineNumberNode\n",
      "              line: Int64 3\n",
      "              file: Symbol In[11]\n",
      "            2: Expr\n",
      "              head: Symbol call\n",
      "              args: Array{Any}((3,))\n",
      "                1: Symbol +\n",
      "                2: Symbol a\n",
      "                3: Symbol b\n"
     ]
    }
   ],
   "source": [
    "dump(quote\n",
    "    let a = 1\n",
    "        a + b\n",
    "    end\n",
    "    end)"
   ]
  },
  {
   "cell_type": "code",
   "execution_count": 105,
   "metadata": {},
   "outputs": [
    {
     "name": "stdout",
     "output_type": "stream",
     "text": [
      "Expr\n",
      "  head: Symbol =\n",
      "  args: Array{Any}((2,))\n",
      "    1: Expr\n",
      "      head: Symbol call\n",
      "      args: Array{Any}((2,))\n",
      "        1: Symbol fact\n",
      "        2: Symbol x\n",
      "    2: Expr\n",
      "      head: Symbol block\n",
      "      args: Array{Any}((2,))\n",
      "        1: LineNumberNode\n",
      "          line: Int64 8\n",
      "          file: Symbol In[105]\n",
      "        2: Expr\n",
      "          head: Symbol if\n",
      "          args: Array{Any}((3,))\n",
      "            1: Expr\n",
      "              head: Symbol call\n",
      "              args: Array{Any}((3,))\n",
      "                1: Symbol ==\n",
      "                2: Symbol x\n",
      "                3: Int64 0\n",
      "            2: Int64 1\n",
      "            3: Expr\n",
      "              head: Symbol call\n",
      "              args: Array{Any}((3,))\n",
      "                1: Symbol *\n",
      "                2: Symbol x\n",
      "                3: Expr\n",
      "nothing\n"
     ]
    },
    {
     "ename": "LoadError",
     "evalue": "LoadError: type Array has no field head\nin expression starting at In[105]:8",
     "output_type": "error",
     "traceback": [
      "LoadError: type Array has no field head\nin expression starting at In[105]:8",
      "",
      "Stacktrace:",
      " [1] getproperty(x::Vector{Any}, f::Symbol)",
      "   @ Base ./Base.jl:33",
      " [2] expr_to_smtlib(e::Vector{Any})",
      "   @ Main ./In[103]:17",
      " [3] var\"@func_def\"(__source__::LineNumberNode, __module__::Module, ex::Any)",
      "   @ Main ./In[105]:5",
      " [4] eval",
      "   @ ./boot.jl:360 [inlined]",
      " [5] include_string(mapexpr::typeof(REPL.softscope), mod::Module, code::String, filename::String)",
      "   @ Base ./loading.jl:1094"
     ]
    }
   ],
   "source": [
    "macro func_def(ex)\n",
    "\n",
    "    println(dump(ex))\n",
    "    @capture(ex, f_(args__) = d_)\n",
    "    def = expr_to_smtlib(e)\n",
    "    \"(forall ($args...) $def)\"\n",
    "end\n",
    "@func_def fact(x) = x == 0 ? 1 : x * fact(x-1)\n"
   ]
  },
  {
   "cell_type": "code",
   "execution_count": 53,
   "metadata": {},
   "outputs": [
    {
     "name": "stdout",
     "output_type": "stream",
     "text": [
      "Expr\n",
      "  head: Symbol macrocall\n",
      "  args: Array{Any}((3,))\n",
      "    1: Symbol @assume\n",
      "    2: LineNumberNode\n",
      "      line: Int64 1\n",
      "      file: Symbol In[53]\n",
      "    3: Expr\n",
      "      head: Symbol call\n",
      "      args: Array{Any}((3,))\n",
      "        1: Symbol ==\n",
      "        2: Int64 3\n",
      "        3: Int64 4\n",
      "Expr\n",
      "  head: Symbol macrocall\n",
      "  args: Array{Any}((3,))\n",
      "    1: Symbol @assert\n",
      "    2: LineNumberNode\n",
      "      line: Int64 2\n",
      "      file: Symbol In[53]\n",
      "    3: Expr\n",
      "      head: Symbol call\n",
      "      args: Array{Any}((3,))\n",
      "        1: Symbol ==\n",
      "        2: Int64 3\n",
      "        3: Int64 4\n"
     ]
    },
    {
     "data": {
      "text/plain": [
       ":($(Expr(:thunk, CodeInfo(\n",
       "   \u001b[33m @ none within `top-level scope'\u001b[39m\n",
       "\u001b[90m1 ─\u001b[39m     x = 3\n",
       "\u001b[90m└──\u001b[39m     return 3\n",
       "))))"
      ]
     },
     "execution_count": 53,
     "metadata": {},
     "output_type": "execute_result"
    }
   ],
   "source": [
    "dump(:(@assume 3 == 4))\n",
    "dump(:(@assert 3 == 4))\n",
    "@Meta.lower x = 3"
   ]
  },
  {
   "cell_type": "code",
   "execution_count": 20,
   "metadata": {},
   "outputs": [
    {
     "ename": "LoadError",
     "evalue": "syntax: invalid let syntax around In[20]:1",
     "output_type": "error",
     "traceback": [
      "syntax: invalid let syntax around In[20]:1",
      "",
      "Stacktrace:",
      " [1] top-level scope",
      "   @ In[20]:1",
      " [2] eval",
      "   @ ./boot.jl:360 [inlined]",
      " [3] include_string(mapexpr::typeof(REPL.softscope), mod::Module, code::String, filename::String)",
      "   @ Base ./loading.jl:1094"
     ]
    }
   ],
   "source": [
    "let a = 3, a = 4, b = a, println(\"hello world\") # oooook. It's just the syntax tree is allowed. \n",
    "    b + 3\n",
    "end"
   ]
  },
  {
   "cell_type": "code",
   "execution_count": 42,
   "metadata": {},
   "outputs": [
    {
     "name": "stdout",
     "output_type": "stream",
     "text": [
      "Expr\n",
      "  head: Symbol block\n",
      "  args: Array{Any}((1,))\n",
      "    1: LineNumberNode\n",
      "      line: Int64 13\n",
      "      file: Symbol In[42]\n"
     ]
    }
   ],
   "source": [
    "#= dump(:([2,3]  ))\n",
    "dump(:( x ? 2 : 3  ))\n",
    "dump(:( if x \n",
    "          2\n",
    "        else 3\n",
    "        end))\n",
    "dump(:(! true))\n",
    "\n",
    "=#\n",
    "\n",
    "dump(quote\n",
    "        #yoyo Hmm. I guess I can't capture comments\n",
    "    end)\n",
    "# I could capture line nums though.\n"
   ]
  },
  {
   "cell_type": "code",
   "execution_count": null,
   "metadata": {},
   "outputs": [],
   "source": [
    "\n",
    "\n",
    "\n",
    "quote\n",
    "@pre x >= 0\n",
    "function fact(n)\n",
    "    acc = 1\n",
    "    x = n\n",
    "    while x >= 0\n",
    "        @inv acc*fact(x) == fact(n)\n",
    "        acc *= x\n",
    "        x -= 1\n",
    "    end\n",
    "end\n",
    "end"
   ]
  },
  {
   "cell_type": "markdown",
   "metadata": {},
   "source": [
    "https://docs.julialang.org/en/v1/base/base/#Keywords \n",
    "keywords is a nice start for possible syntactic forms\n",
    "\n",
    "\n",
    "interactively talk to command\n",
    "@assert_smt\n",
    "@push\n",
    "@pop\n",
    "@get-model\n",
    "@check-sat\n",
    "@smt get-model\n",
    "@smt check-sat\n",
    "@smt push\n",
    "@smt pop\n",
    "@smt \n"
   ]
  },
  {
   "cell_type": "code",
   "execution_count": 63,
   "metadata": {},
   "outputs": [
    {
     "name": "stdout",
     "output_type": "stream",
     "text": [
      "\" (apply <tactic> (<keyword> <value>)*)\n",
      "    apply the given tactic to the current context, and print the resultant set of goals.\n",
      "    The following options are available:\n",
      "      max_memory (unsigned int) (default: infty) maximum amount of memory in megabytes.\n",
      "      print (bool) (default: true) print resultant goals.\n",
      "      print_benchmark (bool) (default: false) display resultant goals as a SMT2 benchmark.\n",
      "      print_dependencies (bool) (default: false) print dependencies when displaying the resultant set of goals.\n",
      "      print_model_converter (bool) (default: false) print model converter.\n",
      "      print_statistics (bool) (default: false) print statistics.\n",
      "      timeout (unsigned int) (default: infty) timeout in milliseconds. (default: 4294967295)\n"
     ]
    }
   ],
   "source": [
    "open(`z3 -in`, \"r+\") do io\n",
    "    println(io, \"(help)\")\n",
    "    for i in 1:10\n",
    "        println(readline(io))\n",
    "    end\n",
    "end"
   ]
  },
  {
   "cell_type": "code",
   "execution_count": 85,
   "metadata": {},
   "outputs": [
    {
     "data": {
      "text/plain": [
       "Process(`\u001b[4mz3\u001b[24m \u001b[4m-in\u001b[24m`, ProcessRunning)"
      ]
     },
     "execution_count": 85,
     "metadata": {},
     "output_type": "execute_result"
    }
   ],
   "source": [
    "procs = open(`z3 -in`, \"r+\") "
   ]
  },
  {
   "cell_type": "code",
   "execution_count": 88,
   "metadata": {},
   "outputs": [],
   "source": [
    "close(procs)"
   ]
  },
  {
   "cell_type": "code",
   "execution_count": null,
   "metadata": {},
   "outputs": [],
   "source": [
    "function smt_assert(proc, e)\n",
    "    e = smt_of_expr(e)\n",
    "    write(proc.in, \"(assert $e)\")\n",
    "end\n",
    "\n",
    "function get_model(proc)\n",
    "    write(proc.in, \"(get-model)\")\n",
    "    readline(proc.out)\n",
    "end\n",
    "\n",
    "function command(proc, str)\n",
    "    write(proc.in, \"($str)\")\n",
    "    readline(proc.out)\n",
    "end\n",
    "\n"
   ]
  },
  {
   "cell_type": "code",
   "execution_count": 86,
   "metadata": {},
   "outputs": [
    {
     "ename": "LoadError",
     "evalue": "InterruptException:",
     "output_type": "error",
     "traceback": [
      "InterruptException:",
      "",
      "Stacktrace:",
      "  [1] poptask(W::Base.InvasiveLinkedListSynchronized{Task})",
      "    @ Base ./task.jl:755",
      "  [2] wait",
      "    @ ./task.jl:763 [inlined]",
      "  [3] wait(c::Base.GenericCondition{Base.Threads.SpinLock})",
      "    @ Base ./condition.jl:106",
      "  [4] wait_readnb(x::Base.PipeEndpoint, nb::Int64)",
      "    @ Base ./stream.jl:413",
      "  [5] eof",
      "    @ ./stream.jl:106 [inlined]",
      "  [6] read(this::Base.PipeEndpoint, #unused#::Type{UInt8})",
      "    @ Base ./stream.jl:925",
      "  [7] peek(s::Base.PipeEndpoint, #unused#::Type{UInt8})",
      "    @ Base ./stream.jl:1272",
      "  [8] peek(io::Base.Process, #unused#::Type{UInt8})",
      "    @ Base ./io.jl:382",
      "  [9] peek(s::Base.Process)",
      "    @ Base ./io.jl:267",
      " [10] top-level scope",
      "    @ In[86]:1",
      " [11] eval",
      "    @ ./boot.jl:360 [inlined]",
      " [12] include_string(mapexpr::typeof(REPL.softscope), mod::Module, code::String, filename::String)",
      "    @ Base ./loading.jl:1094"
     ]
    }
   ],
   "source": [
    "peek(procs)"
   ]
  },
  {
   "cell_type": "code",
   "execution_count": 75,
   "metadata": {},
   "outputs": [],
   "source": [
    "println(procs.in, \"(help)\")"
   ]
  },
  {
   "cell_type": "code",
   "execution_count": 83,
   "metadata": {},
   "outputs": [
    {
     "data": {
      "text/plain": [
       "\"\""
      ]
     },
     "execution_count": 83,
     "metadata": {},
     "output_type": "execute_result"
    }
   ],
   "source": [
    "readline(procs.out)"
   ]
  },
  {
   "cell_type": "code",
   "execution_count": 81,
   "metadata": {},
   "outputs": [],
   "source": [
    "close(procs)"
   ]
  },
  {
   "cell_type": "code",
   "execution_count": 80,
   "metadata": {},
   "outputs": [
    {
     "data": {
      "text/plain": [
       "Process(`\u001b[4mz3\u001b[24m \u001b[4m-in\u001b[24m`, ProcessExited(0))"
      ]
     },
     "execution_count": 80,
     "metadata": {},
     "output_type": "execute_result"
    }
   ],
   "source": [
    "procs"
   ]
  },
  {
   "cell_type": "code",
   "execution_count": 77,
   "metadata": {},
   "outputs": [
    {
     "data": {
      "text/plain": [
       "\"(ite (> x 0) (>= x 0) (>= (- x) 0))\""
      ]
     },
     "execution_count": 77,
     "metadata": {},
     "output_type": "execute_result"
    }
   ],
   "source": [
    "using MacroTools\n",
    "function wp(e, s)\n",
    "    e = rmlines(e)\n",
    "    #println(dump(e))\n",
    "    if e.head == :block\n",
    "        for c in Iterators.reverse(e.args)\n",
    "            s = wp(c,s)\n",
    "        end\n",
    "        return s\n",
    "    elseif e.head == :(=) \n",
    "        # also need to deal with += etc.\n",
    "        #check if head is ref to deal with a[3]\n",
    "        # simultaenous assignemnt\n",
    "        # Or use let expression?\n",
    "        return MacroTools.postwalk(ex -> ex == e.args[1] ? e.args[2] : ex, s)\n",
    "    elseif e.head == :if || e.head == :elseif\n",
    "        cond, then, els  = e.args\n",
    "        wpt = wp(then, s)\n",
    "        wpe = wp(els, s)\n",
    "        return :( $cond ? $wpt : $wpe )\n",
    "    elseif e.head == :while\n",
    "        cond, body = e.args\n",
    "        @capture(body,  begin @inv inv_  \n",
    "                               e__ \n",
    "                        end )\n",
    "        #inv = body.args[1]\n",
    "        s = :( ! $cond && $inv && $s )\n",
    "    elseif e.head == :call\n",
    "        args, pre, post = lookuppre_post(e.args[1])\n",
    "        wp( :(\n",
    "                \n",
    "                ) )\n",
    "    elseif e.head == :macrocall\n",
    "        # @assert\n",
    "        # @assume\n",
    "        # @ghost\n",
    "        # @havoc\n",
    "    end\n",
    "end\n",
    "\n",
    "wp(quote\n",
    "    begin\n",
    "        x = 3\n",
    "        y = x\n",
    "        x = 4\n",
    "    end\n",
    "        end, :(y == 3))\n",
    "\n",
    "expr_to_smtlib(wp(quote\n",
    "    begin\n",
    "        if x > 0\n",
    "            y = x\n",
    "        else\n",
    "            y = -x\n",
    "        end\n",
    "    end\n",
    "        end, :(y >= 0)))"
   ]
  },
  {
   "cell_type": "code",
   "execution_count": 2,
   "metadata": {},
   "outputs": [
    {
     "name": "stdout",
     "output_type": "stream",
     "text": [
      "Expr\n",
      "  head: Symbol block\n",
      "  args: Array{Any}((2,))\n",
      "    1: LineNumberNode\n",
      "      line: Int64 2\n",
      "      file: Symbol In[2]\n",
      "    2: Expr\n",
      "      head: Symbol block\n",
      "      args: Array{Any}((2,))\n",
      "        1: LineNumberNode\n",
      "          line: Int64 3\n",
      "          file: Symbol In[2]\n",
      "        2: Expr\n",
      "          head: Symbol call\n",
      "          args: Array{Any}((3,))\n",
      "            1: Symbol f\n",
      "            2: Symbol x\n",
      "            3: Symbol y\n"
     ]
    }
   ],
   "source": [
    "ex = quote\n",
    "        begin \n",
    "            f(x,y)\n",
    "        end\n",
    "    \n",
    "    end\n",
    "dump(ex)"
   ]
  },
  {
   "cell_type": "code",
   "execution_count": 100,
   "metadata": {},
   "outputs": [
    {
     "data": {
      "text/plain": [
       "2-element Vector{Any}:\n",
       " :(x += 3)\n",
       " :(x -= 7)"
      ]
     },
     "execution_count": 100,
     "metadata": {},
     "output_type": "execute_result"
    }
   ],
   "source": [
    "ex = quote\n",
    "        begin \n",
    "            @inv x > 4\n",
    "            x += 3\n",
    "            x -= 7\n",
    "        end\n",
    "    \n",
    "    end\n",
    "\n",
    "@capture(ex, begin @inv f_  \n",
    "               e__ \n",
    "    end )\n",
    "e"
   ]
  },
  {
   "cell_type": "code",
   "execution_count": 85,
   "metadata": {},
   "outputs": [
    {
     "name": "stdout",
     "output_type": "stream",
     "text": [
      "Expr\n",
      "  head: Symbol block\n",
      "  args: Array{Any}((2,))\n",
      "    1: LineNumberNode\n",
      "      line: Int64 3\n",
      "      file: Symbol In[85]\n",
      "    2: Expr\n",
      "      head: Symbol while\n",
      "      args: Array{Any}((2,))\n",
      "        1: Expr\n",
      "          head: Symbol call\n",
      "          args: Array{Any}((3,))\n",
      "            1: Symbol >\n",
      "            2: Symbol x\n",
      "            3: Int64 3\n",
      "        2: Expr\n",
      "          head: Symbol block\n",
      "          args: Array{Any}((4,))\n",
      "            1: LineNumberNode\n",
      "              line: Int64 3\n",
      "              file: Symbol In[85]\n",
      "            2: Expr\n",
      "              head: Symbol macrocall\n",
      "              args: Array{Any}((3,))\n",
      "                1: Symbol @inv\n",
      "                2: LineNumberNode\n",
      "                3: Expr\n",
      "            3: LineNumberNode\n",
      "              line: Int64 4\n",
      "              file: Symbol In[85]\n",
      "            4: Expr\n",
      "              head: Symbol +=\n",
      "              args: Array{Any}((2,))\n",
      "                1: Symbol x\n",
      "                2: Int64 3\n"
     ]
    }
   ],
   "source": [
    "dump(\n",
    "quote\n",
    "        while x > 3 \n",
    "            @inv x > 4\n",
    "            x += 3\n",
    "        end\n",
    "    end\n",
    ")"
   ]
  },
  {
   "cell_type": "code",
   "execution_count": 73,
   "metadata": {},
   "outputs": [
    {
     "name": "stdout",
     "output_type": "stream",
     "text": [
      "Expr\n",
      "  head: Symbol =\n",
      "  args: Array{Any}((2,))\n",
      "    1: Expr\n",
      "      head: Symbol ref\n",
      "      args: Array{Any}((2,))\n",
      "        1: Symbol a\n",
      "        2: Int64 3\n",
      "    2: Int64 3\n",
      "Expr\n",
      "  head: Symbol =\n",
      "  args: Array{Any}((2,))\n",
      "    1: Expr\n",
      "      head: Symbol .\n",
      "      args: Array{Any}((2,))\n",
      "        1: Symbol a\n",
      "        2: QuoteNode\n",
      "          value: Symbol foo\n",
      "    2: Int64 3\n"
     ]
    }
   ],
   "source": [
    "dump(:(a[3] = 3))\n",
    "dump(:(a.foo = 3))"
   ]
  },
  {
   "cell_type": "code",
   "execution_count": 81,
   "metadata": {},
   "outputs": [
    {
     "name": "stdout",
     "output_type": "stream",
     "text": [
      "Expr\n",
      "  head: Symbol block\n",
      "  args: Array{Any}((2,))\n",
      "    1: LineNumberNode\n",
      "      line: Int64 3\n",
      "      file: Symbol In[81]\n",
      "    2: Expr\n",
      "      head: Symbol if\n",
      "      args: Array{Any}((3,))\n",
      "        1: Expr\n",
      "          head: Symbol call\n",
      "          args: Array{Any}((3,))\n",
      "            1: Symbol >\n",
      "            2: Symbol x\n",
      "            3: Int64 3\n",
      "        2: Expr\n",
      "          head: Symbol block\n",
      "          args: Array{Any}((2,))\n",
      "            1: LineNumberNode\n",
      "              line: Int64 4\n",
      "              file: Symbol In[81]\n",
      "            2: Int64 5\n",
      "        3: Expr\n",
      "          head: Symbol elseif\n",
      "          args: Array{Any}((3,))\n",
      "            1: Expr\n",
      "              head: Symbol block\n",
      "              args: Array{Any}((2,))\n",
      "                1: LineNumberNode\n",
      "                2: Expr\n",
      "            2: Expr\n",
      "              head: Symbol block\n",
      "              args: Array{Any}((2,))\n",
      "                1: LineNumberNode\n",
      "                2: Int64 6\n",
      "            3: Expr\n",
      "              head: Symbol block\n",
      "              args: Array{Any}((2,))\n",
      "                1: LineNumberNode\n",
      "                2: Int64 7\n"
     ]
    }
   ],
   "source": [
    "dump(\n",
    "quote\n",
    "        if x > 3\n",
    "            5\n",
    "        elseif x < 2\n",
    "            6\n",
    "        else \n",
    "            7\n",
    "        end\n",
    "    end\n",
    ")"
   ]
  },
  {
   "cell_type": "code",
   "execution_count": 69,
   "metadata": {},
   "outputs": [
    {
     "data": {
      "text/plain": [
       "CodeInfo(\n",
       "\u001b[90m1 ─\u001b[39m %1 = Base.add_int(x, y)\u001b[36m::Int64\u001b[39m\n",
       "\u001b[90m└──\u001b[39m      return %1\n",
       ") => Int64"
      ]
     },
     "execution_count": 69,
     "metadata": {},
     "output_type": "execute_result"
    }
   ],
   "source": [
    "@code_typed 2 + 2"
   ]
  },
  {
   "cell_type": "code",
   "execution_count": null,
   "metadata": {},
   "outputs": [],
   "source": []
  }
 ],
 "metadata": {
  "kernelspec": {
   "display_name": "Julia 1.6.0",
   "language": "julia",
   "name": "julia-1.6"
  },
  "language_info": {
   "file_extension": ".jl",
   "mimetype": "application/julia",
   "name": "julia",
   "version": "1.6.0"
  }
 },
 "nbformat": 4,
 "nbformat_minor": 4
}
