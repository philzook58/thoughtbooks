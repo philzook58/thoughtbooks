{
 "cells": [
  {
   "cell_type": "code",
   "execution_count": 1,
   "metadata": {},
   "outputs": [
    {
     "name": "stdout",
     "output_type": "stream",
     "text": [
      "\u001b[32mTracking 4 paths... 100%|███████████████████████████████| Time: 0:00:06\u001b[39m\n",
      "\u001b[34m  # paths tracked:                  4\u001b[39m\n",
      "\u001b[34m  # non-singular solutions (real):  4 (2)\u001b[39m\n",
      "\u001b[34m  # singular endpoints (real):      0 (0)\u001b[39m\n",
      "\u001b[34m  # total solutions (real):         4 (2)\u001b[39m\n"
     ]
    },
    {
     "data": {
      "text/plain": [
       "Result with 4 solutions\n",
       "=======================\n",
       "• 4 paths tracked\n",
       "• 4 non-singular solutions (2 real)\n",
       "• random_seed: 0xaa2e4c8d\n",
       "• start_system: :polyhedral\n"
      ]
     },
     "execution_count": 1,
     "metadata": {},
     "output_type": "execute_result"
    }
   ],
   "source": [
    "using HomotopyContinuation\n",
    "@var x y; # declare the variables x and y\n",
    "F = System([x^2+2y, y^2-2])\n",
    "result = solve(F)"
   ]
  },
  {
   "cell_type": "markdown",
   "metadata": {},
   "source": [
    "Coffee cup caustic\n",
    "\n",
    "\n",
    "\n",
    "determinant of jacobian = 0? ( singularity right)?\n",
    "\n"
   ]
  },
  {
   "cell_type": "markdown",
   "metadata": {},
   "source": [
    "What is hamilton jacobi optics?\n",
    "\n",
    "I think of it as descrbing the propgation of wavefronts.\n",
    "Wavefronts can be described as the level set of a function S(x) = 0. What is a new function that describes the wavefront after a time t?\n",
    "\n",
    "S(x,x1) is the time taken for the wave to propagate from x to x1.\n",
    "\n",
    "Because of Hamilton's principle these functions compose\n",
    "min x1  S(x,x1) + S(x1,x2)\n",
    "\n",
    "\n",
    "Fermat' rpinciple says that the path taken by a light ray is that that minimizes time, given fixed endpoints.\n",
    "S(x,x1) = \\int_x^x1 dr / c\n",
    "\n",
    "\n",
    "\n",
    "\n",
    "Could I use homotopy conituation as the engine begind a Euclidea construction search?\n",
    "maintain known points. search all constructionds\n",
    "\n",
    "\n",
    "\n",
    "\n",
    "\n",
    "\n",
    "\n"
   ]
  },
  {
   "cell_type": "code",
   "execution_count": 3,
   "metadata": {},
   "outputs": [
    {
     "name": "stdout",
     "output_type": "stream",
     "text": [
      "Variable\n",
      "  ex: Expression\n",
      "    ptr: Ptr{Nothing} @0x0000000002123ee0\n"
     ]
    }
   ],
   "source": [
    "dump(x)\n",
    "\n"
   ]
  },
  {
   "cell_type": "code",
   "execution_count": null,
   "metadata": {},
   "outputs": [],
   "source": [
    "# basically we need to encode distance\n",
    "\n",
    "# circle\n",
    "@var x1 y1\n",
    "x1^2 + y1^2 - 1 # the mirrorsurface\n",
    "\n",
    "x0 + 10 # initial surface x0 = -10\n",
    "\n",
    "dist\n",
    "\n",
    "S = dist(q0,q1) + dist(q1,q2)\n",
    "p0 = diff(S,q0) # initial \"momentum\"\n",
    "\n",
    "constrs += p0[2] # inital y momentum = 0\n",
    "\n",
    "constrs += diff(S,q1) #extremal ray hitting mirror (fixed end positions, fermat's principle)\n",
    "\n",
    "constrs += diff()  # caustic constraint. Second deirvaitve is zero?\n",
    "\n",
    "\n",
    "\n",
    "\n",
    "\n"
   ]
  },
  {
   "cell_type": "code",
   "execution_count": null,
   "metadata": {},
   "outputs": [],
   "source": [
    "# taking the ray persepctive\n",
    "\n",
    "\n",
    "d1^2 - (x^2 + y^2)\n",
    "x^2 + y^2 - 1\n",
    "t = t1 + t2\n",
    "\n",
    "# lagrange multiplier fermat's principle\n",
    "diff(t + l1 *( x ))\n",
    "diff(t + l1 * (x^2 + y^2 - 1))\n",
    "diff(t + l1 * , l1) #  unnecessary, we already have thge constraint equation.\n",
    "#we're also asssuming endpoints fixed, but we don't need exp[lcility langrange mutlipliersfor that?]\n",
    "\n",
    "# caustic equation. enveople of family of rays, given it's already a minima\n",
    "diff( x2 + l2 * (all the stationary equations) ,  y0)\n",
    "diff( y2 + l2 ,  y0)\n",
    "\n",
    "\n",
    "# it's multilevel optimization\n",
    "#min sensitivity of point\n",
    "\n",
    "\n",
    "\n"
   ]
  },
  {
   "cell_type": "markdown",
   "metadata": {},
   "source": [
    "Multilevel optimization is doable using polynomial technology. Won't be efficient though.\n",
    "And you won't be able to have inequality constraints."
   ]
  }
 ],
 "metadata": {
  "kernelspec": {
   "display_name": "Julia 1.5.0",
   "language": "julia",
   "name": "julia-1.5"
  },
  "language_info": {
   "file_extension": ".jl",
   "mimetype": "application/julia",
   "name": "julia",
   "version": "1.5.0"
  }
 },
 "nbformat": 4,
 "nbformat_minor": 4
}
