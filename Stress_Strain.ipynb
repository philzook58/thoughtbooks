{
 "cells": [
  {
   "cell_type": "code",
   "execution_count": 1,
   "metadata": {
    "colab": {},
    "colab_type": "code",
    "id": "QrcaQ-4Inzhs"
   },
   "outputs": [],
   "source": [
    "from sympy import *"
   ]
  },
  {
   "cell_type": "markdown",
   "metadata": {
    "colab_type": "text",
    "id": "DSMc0_S2oENf"
   },
   "source": [
    "# The basic situations\n",
    "\n",
    "### Young's Modulus\n",
    "Suppose I have a rod of material and apply a force F pulling on the rod. The rod stretches. This stretching is proportional to the length of the rod. Each individual slice of the rod stretches a fraction of it's length, but more lengths adds up to more total displacement\n",
    "Wider rods are stronger because they dsitribute the force across the cross section. Hence each little bit of the cross section.\n",
    "$ \\delta L \\propto F \\frac {L} {A}$. Rearranged $\\frac{F}{A} = E \\frac{\\delta L}{L}  $. The first quantity is defined to be the stress applied to the rod and the second quantitiy the strain caused. $\\sigma = \\frac{F}{A}$, $\\epsilon = \\frac{\\delta L}{L}$, $\\sigma = E \\epsilon$\n",
    "https://en.wikipedia.org/wiki/Young%27s_modulus\n",
    "\n",
    "During this stretching, the cross sectional area may also change. This is the Poisson's ratio $\\nu = - \\frac{\\delta L_{trans}} {\\delta L_{axial}}$\n",
    "https://en.wikipedia.org/wiki/Poisson%27s_ratio\n",
    "\n",
    "A perfectly imcompressible material has a Poisson's ratio of 1/2. This is becasue we want $V = xyz$ to be conserved, so $dV = 0 = dx yz + x dy z + xy dz$\n",
    "\n",
    "$$ \\frac{dV}{V} = 0 = \\frac{dx}{x} + \\frac{dy}{y} + \\frac{dz}{z} $$\n",
    "$$ \\epsilon_x + \\epsilon_y = -\\epsilon_z $$\n",
    "$$ -\\nu (2 \\epsilon_z) = - \\epsilon_z$$\n",
    "$$ \\nu = 1/2 $$\n",
    "\n",
    "Basically the two comes from there being two transverse directions.\n",
    "\n",
    "\n",
    "\n",
    "\n",
    "\n",
    "\n",
    "\n",
    "\n"
   ]
  },
  {
   "cell_type": "code",
   "execution_count": 2,
   "metadata": {
    "colab": {
     "base_uri": "https://localhost:8080/",
     "height": 67
    },
    "colab_type": "code",
    "id": "3a62fhNWp6bg",
    "outputId": "941559fc-cc4f-49d8-9c98-174f4bda7acf"
   },
   "outputs": [
    {
     "name": "stdout",
     "output_type": "stream",
     "text": [
      "dx/x + dy/y + dz/z\n",
      "ex + ey + ez\n"
     ]
    },
    {
     "data": {
      "text/plain": [
       "[1/2]"
      ]
     },
     "execution_count": 2,
     "metadata": {},
     "output_type": "execute_result"
    }
   ],
   "source": [
    "# finding the imcompressible poission ratio in sympy\n",
    "\n",
    "def differential(f, *xs):\n",
    "  dxs = [symbols('d' + x.name ) for x in xs ]\n",
    "  return sum([diff(f,x)*dx for x,dx in zip(xs,dxs)]) , dxs\n",
    "\n",
    "x,y,z = symbols(\"x y z\")\n",
    "V = x * y * z\n",
    "dV, (dx, dy, dz) = differential(V , x, y, z)\n",
    "print(simplify(dV / V))\n",
    "\n",
    "ex, ey, ez = symbols(\"ex ey ez\")\n",
    "subst_strain = {\n",
    "    dx : ex * x,\n",
    "    dy : ey * y,\n",
    "    dz : ez * z\n",
    "}\n",
    "\n",
    "eq_0 = simplify((dV / V).subs(subst_strain))\n",
    "print(eq_0)\n",
    "nu = symbols('nu')\n",
    "poisson = {\n",
    "    ex : - nu * ez,\n",
    "    ey : - nu * ez\n",
    "}\n",
    "\n",
    "solve(eq_0.subs(poisson), nu)\n"
   ]
  },
  {
   "cell_type": "markdown",
   "metadata": {
    "colab_type": "text",
    "id": "RDJtgCBOp7UO"
   },
   "source": [
    "\n",
    "### Bulk Modulus\n",
    "Siituation 2: suppose I put a sphere of a material in a pressure chamber. The volume of the material changes in proportion to the pressure. THis is another constant of the material\n",
    "https://en.wikipedia.org/wiki/Bulk_modulus\n",
    "\n",
    "Bulk modulus, young's modulus and posson's ration are not independent\n",
    "### Shear Modulus\n",
    "\n",
    "Situation 3: I can fixed a block of material and push on the top face with a force parallel to the face. This causes the block to \"shear\". The amount of this shear\n",
    "https://en.wikipedia.org/wiki/Shear_modulus\n",
    "\n",
    "\n",
    "\n",
    "\n",
    "# Stress and Strain\n",
    "\n",
    "We are going to get progressvely more mathematical. Rather than these individual experiments, we want to consider a material as consisting of many little blocks undergoing similar experiments.\n",
    "\n",
    "\n",
    "\n",
    "## Strain\n",
    "Strain is a geometrical thing. It in some manner measures how much a material has been stretched and sheared geometrically.\n",
    "\n",
    "It is often denoted by the symbol $\\epsilon_{ij}$\n",
    "\n",
    "\n",
    "A piece of material at position $\\vec{x}$ after displacement is at a position $\\vec{x}'$. This is described by 3 functions giving the new coordinates in terms of the old coordinates"
   ]
  },
  {
   "cell_type": "code",
   "execution_count": null,
   "metadata": {
    "colab": {
     "base_uri": "https://localhost:8080/",
     "height": 34
    },
    "colab_type": "code",
    "id": "3wZYdiL7rUHA",
    "outputId": "08ad84d8-045d-4142-9766-a3f4d612ff00"
   },
   "outputs": [
    {
     "data": {
      "text/plain": [
       "([x1, y1], [x2(x1, y1), y2(x1, y1)])"
      ]
     },
     "execution_count": 9,
     "metadata": {
      "tags": []
     },
     "output_type": "execute_result"
    }
   ],
   "source": [
    "x1,y1 = symbols(\"x1 y1\")\n",
    "x2_ = Function(\"x2\")\n",
    "y2_ = Function(\"y2\")\n",
    "r1 = [x1, y1]\n",
    "r2 = [x2_(x1,y1), y2_(x1,y1)]\n",
    "r1,r2"
   ]
  },
  {
   "cell_type": "markdown",
   "metadata": {
    "colab_type": "text",
    "id": "1qs0LAJissnn"
   },
   "source": [
    "What is it we want to know about these functions? What aspects of them characterize strain.\n",
    "\n",
    "Some examples seem in order\n",
    "\n",
    "### no transformation\n",
    "What happens when we do nothing?\n",
    "\n",
    "$x'=x$\n",
    "\n",
    "### Pure translation\n",
    "\n",
    "$ x_2 = x_1 + a$\n",
    "\n",
    "$ y_2 = y_1 + b$\n",
    "\n",
    "### pure rotation\n",
    "\n",
    "$ x_2 = \\cos(\\theta) x_1 - \\sin(\\theta) y_1$\n",
    "\n",
    "$ y_2 = \\sin(\\theta) x_1 + \\cos(\\theta) y_1$\n",
    "\n",
    "\n",
    "### Stretch or shrink\n",
    "\n",
    "This is one we care about. It is clear that stretching and shrinking correspond to an energetic change in the material.\n",
    "\n",
    "$x_2 = a x_1$\n",
    "\n",
    "$y_2 = b y_1$\n",
    "\n",
    "### Shear\n",
    "\n",
    "$$x_2 = x_1 + a y_1$$\n",
    "$$y_2 = y_1$$ \n",
    "\n",
    "### Matrix\n",
    "\n",
    "All of these are special cases of an affine transformation\n",
    "$x' = Ax + b$\n",
    "\n",
    "\n",
    "\n",
    "\n"
   ]
  },
  {
   "cell_type": "code",
   "execution_count": null,
   "metadata": {
    "colab": {},
    "colab_type": "code",
    "id": "V1o01cjjugos"
   },
   "outputs": [],
   "source": [
    "a,b, theta = symbols(\"a b theta\")\n",
    "ident = [x1,y1]\n",
    "translate = [x1 + a, y1 + a]\n",
    "rotate = [x1 * cos(theta) - y1 * sin(theta), x1 * sin(theta) + y1 * cos(theta)]\n",
    "stretch = [a * x1, b * y1]\n",
    "shear = [x1 + a * y1, y1]\n",
    "A = MatrixSymbol(\"A\", 2,2)\n",
    "b2 = MatrixSymbol(\"b\", 2,1)\n",
    "affine = A @ Matrix(r1) + b2\n",
    "\n",
    "# plot these transformations"
   ]
  },
  {
   "cell_type": "markdown",
   "metadata": {
    "colab_type": "text",
    "id": "69_INUggu6Mt"
   },
   "source": [
    "\n",
    "I suggest that we want to look at derivatives of these functions. Why?\n",
    "\n",
    "\n"
   ]
  },
  {
   "cell_type": "code",
   "execution_count": null,
   "metadata": {
    "colab": {
     "base_uri": "https://localhost:8080/",
     "height": 101
    },
    "colab_type": "code",
    "id": "T__-xPPrvC7t",
    "outputId": "22788787-c7ad-4ede-d162-8df91586fd26"
   },
   "outputs": [
    {
     "name": "stdout",
     "output_type": "stream",
     "text": [
      "Matrix([[1, 0], [0, 1]])\n",
      "Matrix([[1, 0], [0, 1]])\n",
      "Matrix([[cos(theta), -sin(theta)], [sin(theta), cos(theta)]])\n",
      "Matrix([[a, 0], [0, b]])\n",
      "Matrix([[1, a], [0, 1]])\n"
     ]
    }
   ],
   "source": [
    "def jac(r2, r1):\n",
    "  return Matrix([[ diff(x2, x1)   for x1 in r1]   for x2 in r2])\n",
    "\n",
    "print(jac( ident , r1 ))\n",
    "print(jac( translate , r1 ))\n",
    "print(jac( rotate , r1 ))\n",
    "print(jac( stretch , r1 ))\n",
    "print(jac(shear, r1))\n",
    "# print(jac( affine , r1 )) # not working?"
   ]
  },
  {
   "cell_type": "markdown",
   "metadata": {
    "colab_type": "text",
    "id": "TkU0Y017wPjn"
   },
   "source": [
    "If we want to see how the dot product of two vectors changes under the trasnformation, we can look at \n",
    "$ dv \\cdot dw \\rightarrow dv' \\cdot dw' = (J dv) \\cdot (J dw)$\n",
    "\n",
    "So a matrix of interest here is $ J^T J$\n",
    "\n",
    "Knowledge of the dot product tells us how norms of vectors changes, but also how angles change.\n"
   ]
  },
  {
   "cell_type": "code",
   "execution_count": null,
   "metadata": {
    "colab": {
     "base_uri": "https://localhost:8080/",
     "height": 101
    },
    "colab_type": "code",
    "id": "o04uXqcfvlhU",
    "outputId": "da249ae2-07e0-4f8b-90db-f302e2d5947e"
   },
   "outputs": [
    {
     "name": "stdout",
     "output_type": "stream",
     "text": [
      "Matrix([[1, 0], [0, 1]])\n",
      "Matrix([[1, 0], [0, 1]])\n",
      "Matrix([[1, 0], [0, 1]])\n",
      "Matrix([[a**2, 0], [0, b**2]])\n",
      "Matrix([[1, a], [a, a**2 + 1]])\n"
     ]
    }
   ],
   "source": [
    "def normy(A):\n",
    "  return simplify(A.T @ A)\n",
    "\n",
    "\n",
    "print(normy(jac( ident , r1 ) ))\n",
    "print(normy(jac( translate , r1 )))\n",
    "print(normy(jac(rotate, r1)))\n",
    "print(normy(jac( stretch , r1 )))\n",
    "print(normy(jac( shear , r1 )))"
   ]
  },
  {
   "cell_type": "markdown",
   "metadata": {
    "colab_type": "text",
    "id": "CgYAGGzGwHgX"
   },
   "source": [
    "We can see that the only matrix that isn't the identity matrix is the one that actually is stretching and shrinking\n",
    "\n",
    "\n",
    "### Shearing isn't different from Stretching\n",
    "\n",
    "A very counter intuitive thing is that shearing and stretching are not geometrically distinct things in a certain sense.\n",
    "\n",
    "That's stupid, you say. Look at this box and this box. One is clearly stretching and the other is shearing.\n",
    "\n",
    "I can find little rotate boxes within yours that are clearly just stretching and rotating.\n",
    "\n",
    "\n",
    "\n",
    "\n",
    "Conjecture:\n",
    "\n",
    "$E(J^T J) $\n",
    "\n",
    "Consider slowly stretching a material into position\n",
    "\n",
    "x'(x, 0) starts at the identity\n",
    "x'(x, 1) is the full trasnformation\n",
    "\n",
    "If this is done slowly and reversiblly, it makes sense that it shouldn't depend on how exactly quickly you make this trasnformation\n",
    "\n",
    "Does the path by which you brought to material to it's state matter? Assuredly. Is it a reasonable approximation to assume it doesn't. Maybe. WHat does this get you? The energy becomes a functional of x' only.\n",
    "\n",
    "The local contribution to the energy cannot depend on the rotational part of tge jacobian.\n",
    "\n",
    "\n",
    "To what degree is the difference between stretching and shearing just a matter of coordinate system?\n",
    "This feels very unintutitive.\n",
    "\n",
    "\n",
    "Under a coordinate system transformation.\n",
    "\n",
    "A coordinate system trasnfromation can either be turning the x' into new coordinates x'' by describing function x''(x'), or by describing the originsl coordinates x in terms of x0 via functions x(x0). \n",
    "\n",
    "You can see that the is a slight polarity difference between these two cases. There is a natural ordering of \"input\" and \"output\" we've been using. The x have been inputs, and the x' have been outputs.\n",
    "\n",
    "Via the (multidimensional) chain rule, the total jacobian is the matrix product of these individual jacobians. $ J_{x'' x_0} = J_{x'' x'} J_{x' x} J_{x x_0}$\n",
    "\n",
    "\n",
    "It is the case that we often wish to consider rotations and trasnlations as special cases, as the physical laws we're interested in appear to be invariant under the trasnformations. What does this mean? It means that if you have a setup that is obeying the physical equations and your buddy in the next room sets up a situation that is related to yours by a mere rotation or translation, his system will be obeying the equations as well.\n",
    "\n",
    "Why does this matter?\n",
    "\n",
    "It matters because for some reason, it is easy using physical intuition to notice symmettries important in physical situations.\n",
    "\n",
    "We can then write down equations for the physical equations. We select some parametrization of what we think the physical equations are. We throw in all the places where we think it is reasonable to have some physical parameter, or coupling constant, or material property. Then by using the symmettry based equations of equations, we can derive subtle and unexpected equations between these a priori unrelaed constants. It's neat.\n",
    "\n",
    "If your physical equations is something like $f(\\epsilon) = 0$, we can transport this equation along a symmettry transfromation to get $ D_\\lambda f = 0$. \n",
    "\n",
    "\n",
    "\n",
    "\n",
    "\n",
    "\n",
    "\n",
    "\n"
   ]
  },
  {
   "cell_type": "markdown",
   "metadata": {
    "colab_type": "text",
    "id": "iMr1upWSicfA"
   },
   "source": [
    "## Infinitesimal Stress\n",
    "\n",
    "\n",
    "\n",
    "\n",
    "Ok, let's stop being an asshole about this. Let us suppose that the transformation for x' to x is small. That means it is approximately an identity function. $J \\approx I + \\delta j$. Clearly we can subtract off the I to get the j by itself, which must hold the interesting information content.\n",
    "\n",
    "A parametrized transformation is a smooth flow $x(\\lambda,x,y,z)$ from x'(0) to x'(1). x'(0) is the reference configuration (unstrained) and x'(1) is the strained configuration. If this stress is very small, it is well approximated by\n",
    "$x'(0) + \\lambda \\partial_\\lambda x'(0) $, so this j can be considered related to the derivative with respect to a material flow.\n",
    "\n",
    "Now we could ask, suppose someone takes a hunk of material behind a curtain and comes back. We don't really see the flow then. \n",
    "Well, I could refuse to answer. I could just say that you didn't give me enough information, and this is correct in some physical cases. Bending a piece of iron and then bending it back does change the internal stresses and material properties of the iron even though each macroscopic material point isn't really in a different spot.\n",
    "However, it can be reasonable to consider that the strain in the material as not path dependent if you promise that you never bent it much.\n",
    "\n",
    "\n",
    "\n",
    "Why do rotations not \"matter\". Surely if I took a hunk of material with a plug in the center and twisted it, I am stretching the material. It does resist this twisting.\n",
    "\n",
    "Yes, that is correct. But while this is a rotation in one macroscopic sense, looking at each individual patch of material, there is more going on.\n",
    "Relative rotations of one part of the material to another actually result in terms in the stress tensor at some positions that are not \"rotation terms\"\n",
    "\n"
   ]
  },
  {
   "cell_type": "markdown",
   "metadata": {
    "colab_type": "text",
    "id": "eV6D4LZlrUsd"
   },
   "source": [
    "## Stress\n",
    "Strain is a measure of the force applied to an object. It is in the units of pressure, hence under the assumption that the force is proportional to the area\n",
    "\n",
    "It is often denoted by $\\sigma_{ij}$ or $T_{ij}$\n",
    "\n",
    "The normal force which corresponds to the diagonal entries is the most natural piece. \n",
    "The force is applied equally and oppositely to the two sides of the surface.\n",
    "\n",
    "\n",
    "Applying a force along a surface feels a little unintuitive to me. These correspond to the off diagonal terms of stress tensor.\n",
    "\n",
    "\n",
    "\n",
    "The stress is also just defined as the derivative of the energy with respect to the strain tensor, just as one may consdier the force to merely be the derivative of the potential. This is a somewhat formal feeling definition for things that feel rather intuitive, but it's nice to have when you need it.\n",
    "\n"
   ]
  },
  {
   "cell_type": "markdown",
   "metadata": {
    "colab_type": "text",
    "id": "Is4pJq6ocZdu"
   },
   "source": [
    "# Equations\n",
    "\n",
    "As in many physical systems, one can derive a partial differential equation relevant for continuum statics by the combination of a constitutive relation and a conservation law.\n",
    "\n",
    "\n",
    "In this case, the constituitive relation is the linear connection between stress and strain, which can be written in terms of the material parameters\n",
    "\n",
    "\n",
    "The conservaiton law are the force (and torque) balance equations\n",
    "\n",
    "\n",
    "All this combines to give something that is a funky tensory variant of the laplace equation\n",
    "\n",
    "\n",
    "Another approach to deriving these equations is to write an expression of the energy of the system as a functional of the x' functions. And you do indeed need the x' generally speaking, not just their derivatives. For example a material in the presence of gravity with have a term $\\int dV \\rho g y'$.\n",
    "\n",
    "However, the term responsible for just the stretching and shearing \n",
    "\n",
    "\n",
    "\n"
   ]
  }
 ],
 "metadata": {
  "colab": {
   "collapsed_sections": [],
   "name": "Stress-Strain.ipynb",
   "provenance": []
  },
  "kernelspec": {
   "display_name": "Python 3",
   "language": "python",
   "name": "python3"
  },
  "language_info": {
   "codemirror_mode": {
    "name": "ipython",
    "version": 3
   },
   "file_extension": ".py",
   "mimetype": "text/x-python",
   "name": "python",
   "nbconvert_exporter": "python",
   "pygments_lexer": "ipython3",
   "version": "3.6.9"
  }
 },
 "nbformat": 4,
 "nbformat_minor": 4
}
