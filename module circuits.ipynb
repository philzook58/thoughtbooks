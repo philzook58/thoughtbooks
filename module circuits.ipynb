{
 "cells": [
  {
   "cell_type": "code",
   "execution_count": 2,
   "metadata": {},
   "outputs": [],
   "source": [
    "import sympy as sy\n"
   ]
  },
  {
   "cell_type": "code",
   "execution_count": 2,
   "metadata": {},
   "outputs": [
    {
     "data": {
      "text/plain": [
       "QQ"
      ]
     },
     "execution_count": 2,
     "metadata": {},
     "output_type": "execute_result"
    }
   ],
   "source": [
    "sy.QQ"
   ]
  },
  {
   "cell_type": "code",
   "execution_count": 3,
   "metadata": {},
   "outputs": [],
   "source": [
    "x,y,z = sy.symbols(\"x y z\")"
   ]
  },
  {
   "cell_type": "code",
   "execution_count": 6,
   "metadata": {},
   "outputs": [
    {
     "data": {
      "text/plain": [
       "QQ[x]**2"
      ]
     },
     "execution_count": 6,
     "metadata": {},
     "output_type": "execute_result"
    }
   ],
   "source": [
    "sy.QQ.old_poly_ring(x).free_module(2)"
   ]
  },
  {
   "cell_type": "code",
   "execution_count": 31,
   "metadata": {},
   "outputs": [
    {
     "ename": "TypeError",
     "evalue": "cannot determine truth value of Relational",
     "output_type": "error",
     "traceback": [
      "\u001b[0;31m---------------------------------------------------------------------------\u001b[0m",
      "\u001b[0;31mTypeError\u001b[0m                                 Traceback (most recent call last)",
      "\u001b[0;32m<ipython-input-31-989f6526e59d>\u001b[0m in \u001b[0;36m<module>\u001b[0;34m\u001b[0m\n\u001b[1;32m      3\u001b[0m \u001b[0me1\u001b[0m \u001b[0;34m=\u001b[0m \u001b[0msy\u001b[0m\u001b[0;34m.\u001b[0m\u001b[0mEq\u001b[0m\u001b[0;34m(\u001b[0m\u001b[0mv1\u001b[0m \u001b[0;34m-\u001b[0m \u001b[0mv2\u001b[0m\u001b[0;34m,\u001b[0m  \u001b[0;36m1j\u001b[0m\u001b[0;34m*\u001b[0m\u001b[0ms\u001b[0m\u001b[0;34m*\u001b[0m\u001b[0mL\u001b[0m \u001b[0;34m*\u001b[0m \u001b[0mi1\u001b[0m \u001b[0;34m)\u001b[0m\u001b[0;34m\u001b[0m\u001b[0;34m\u001b[0m\u001b[0m\n\u001b[1;32m      4\u001b[0m \u001b[0me2\u001b[0m \u001b[0;34m=\u001b[0m \u001b[0msy\u001b[0m\u001b[0;34m.\u001b[0m\u001b[0mEq\u001b[0m\u001b[0;34m(\u001b[0m\u001b[0mv2\u001b[0m \u001b[0;34m-\u001b[0m \u001b[0mv3\u001b[0m\u001b[0;34m,\u001b[0m \u001b[0;36m1j\u001b[0m\u001b[0;34m*\u001b[0m\u001b[0ms\u001b[0m\u001b[0;34m*\u001b[0m\u001b[0mL\u001b[0m \u001b[0;34m*\u001b[0m \u001b[0mi1\u001b[0m \u001b[0;34m)\u001b[0m\u001b[0;34m\u001b[0m\u001b[0;34m\u001b[0m\u001b[0m\n\u001b[0;32m----> 5\u001b[0;31m \u001b[0msy\u001b[0m\u001b[0;34m.\u001b[0m\u001b[0msolve\u001b[0m\u001b[0;34m(\u001b[0m\u001b[0me1\u001b[0m\u001b[0;34m,\u001b[0m\u001b[0me2\u001b[0m\u001b[0;34m)\u001b[0m\u001b[0;34m\u001b[0m\u001b[0;34m\u001b[0m\u001b[0m\n\u001b[0m\u001b[1;32m      6\u001b[0m \u001b[0;34m\u001b[0m\u001b[0m\n\u001b[1;32m      7\u001b[0m \u001b[0;34m\u001b[0m\u001b[0m\n",
      "\u001b[0;32m/usr/local/lib/python3.7/site-packages/sympy/solvers/solvers.py\u001b[0m in \u001b[0;36msolve\u001b[0;34m(f, *symbols, **flags)\u001b[0m\n\u001b[1;32m    910\u001b[0m     \u001b[0mbare_f\u001b[0m \u001b[0;34m=\u001b[0m \u001b[0;32mnot\u001b[0m \u001b[0miterable\u001b[0m\u001b[0;34m(\u001b[0m\u001b[0mf\u001b[0m\u001b[0;34m)\u001b[0m\u001b[0;34m\u001b[0m\u001b[0;34m\u001b[0m\u001b[0m\n\u001b[1;32m    911\u001b[0m     ordered_symbols = (symbols and\n\u001b[0;32m--> 912\u001b[0;31m                        \u001b[0msymbols\u001b[0m\u001b[0;34m[\u001b[0m\u001b[0;36m0\u001b[0m\u001b[0;34m]\u001b[0m \u001b[0;32mand\u001b[0m\u001b[0;34m\u001b[0m\u001b[0;34m\u001b[0m\u001b[0m\n\u001b[0m\u001b[1;32m    913\u001b[0m                        (isinstance(symbols[0], Symbol) or\n\u001b[1;32m    914\u001b[0m                         is_sequence(symbols[0],\n",
      "\u001b[0;32m/usr/local/lib/python3.7/site-packages/sympy/core/relational.py\u001b[0m in \u001b[0;36m__nonzero__\u001b[0;34m(self)\u001b[0m\n\u001b[1;32m    227\u001b[0m \u001b[0;34m\u001b[0m\u001b[0m\n\u001b[1;32m    228\u001b[0m     \u001b[0;32mdef\u001b[0m \u001b[0m__nonzero__\u001b[0m\u001b[0;34m(\u001b[0m\u001b[0mself\u001b[0m\u001b[0;34m)\u001b[0m\u001b[0;34m:\u001b[0m\u001b[0;34m\u001b[0m\u001b[0;34m\u001b[0m\u001b[0m\n\u001b[0;32m--> 229\u001b[0;31m         \u001b[0;32mraise\u001b[0m \u001b[0mTypeError\u001b[0m\u001b[0;34m(\u001b[0m\u001b[0;34m\"cannot determine truth value of Relational\"\u001b[0m\u001b[0;34m)\u001b[0m\u001b[0;34m\u001b[0m\u001b[0;34m\u001b[0m\u001b[0m\n\u001b[0m\u001b[1;32m    230\u001b[0m \u001b[0;34m\u001b[0m\u001b[0m\n\u001b[1;32m    231\u001b[0m     \u001b[0m__bool__\u001b[0m \u001b[0;34m=\u001b[0m \u001b[0m__nonzero__\u001b[0m\u001b[0;34m\u001b[0m\u001b[0;34m\u001b[0m\u001b[0m\n",
      "\u001b[0;31mTypeError\u001b[0m: cannot determine truth value of Relational"
     ]
    }
   ],
   "source": [
    "L = 10\n",
    "s, i1, i2, i3, v1, v2, v3 = sy.symbols('s i1 i2 i3 v1 v2 v3')\n",
    "e1 = sy.Eq(v1 - v2,  1j*s*L * i1 )\n",
    "e2 = sy.Eq(v2 - v3, 1j*s*L * i1 )\n",
    "sy.solve(e1,e2)\n",
    "\n",
    "\n"
   ]
  },
  {
   "cell_type": "code",
   "execution_count": 38,
   "metadata": {},
   "outputs": [
    {
     "data": {
      "text/plain": [
       "GroebnerBasis([1.0*v1 - 2.0*v2 + v3, i1 - i3 + 26.0*I*s*v1 - 26.0*I*s*v2, i2 - 26.0*I*s*v1 + 26.0*I*s*v2, i3*s - 26.0*I*s**2*v1 + 26.0*I*s**2*v2 + 0.1*I*v1 - 0.1*I*v2], v3, i1, i2, i3, v2, v1, s, domain='EX', order='lex')"
      ]
     },
     "execution_count": 38,
     "metadata": {},
     "output_type": "execute_result"
    }
   ],
   "source": [
    "L = 10\n",
    "s, i1, i2, i3, v1, v2, v3 = sy.symbols('s i1 i2 i3 v1 v2 v3')\n",
    "e1 = v1 - v2 -  1j*s*L * i1 \n",
    "e2 = v2 - v3 - 1j*s*L * i1 \n",
    "e3 = 1j * s * 13 * (v1 - v3) - i2\n",
    "e4 = i1 + i2 - i3\n",
    "sy.groebner([e1,e2,e3,e4] , v3, i1,i2, i3, v2, v1, s  )"
   ]
  },
  {
   "cell_type": "markdown",
   "metadata": {},
   "source": [
    "If I just truncated the equations, that would be the analog of just taking the lower rows of a row echelon form. Is that right? Does there always exist some solution that makes it work? If a thing obeys this reduced set of equations, there exists a way to extend it? I don't think so.\n",
    "\n",
    "\n",
    "Ok. Here's what I think? We take the full N^2 set of lt() gi - lt() gj.\n",
    "Then we reduce them with respect to the grobner basis. (which should equal zero)\n",
    "\n"
   ]
  },
  {
   "cell_type": "code",
   "execution_count": null,
   "metadata": {},
   "outputs": [],
   "source": [
    "resistor =  [[0, 1, 0, -1],\n",
    "             [R,1,-R, 0 ]]\n",
    "    \n",
    "inductor = [[0,1,0,-1],\n",
    "            [1,L*s,-1,0]]\n",
    "cap = [[0,1 ,0,-1],\n",
    "       [C*s,1, -C*s , 0]]\n",
    "\n",
    "par(cap,cap)\n",
    "compose(   ) = overlapstack()\n",
    "               eliminate\n",
    "\n",
    "    \n",
    "    \n",
    "    axiom schema\n",
    "    \n",
    "    allterms generator. allterms with holes \n",
    "    def induction(allterms):\n",
    "         generator of all possible instantiations\n",
    "    \n",
    "Isar \n",
    "Proof.assume(      )\n",
    "     .assert(      ).auto()\n",
    "     .assert(      ).induction( lambda a : P(x) )\n",
    "     . "
   ]
  },
  {
   "cell_type": "code",
   "execution_count": 1,
   "metadata": {},
   "outputs": [],
   "source": [
    "import sympy as sy"
   ]
  },
  {
   "cell_type": "code",
   "execution_count": 36,
   "metadata": {},
   "outputs": [],
   "source": [
    "s, i1, i2, v1, v2 = sy.symbols('s i1 i2 v1 v2')"
   ]
  },
  {
   "cell_type": "code",
   "execution_count": 33,
   "metadata": {},
   "outputs": [
    {
     "data": {
      "text/plain": [
       "[Poly(1, s, domain='ZZ'),\n",
       " Poly(10*s, s, domain='ZZ'),\n",
       " Poly(-1, s, domain='ZZ'),\n",
       " Poly(0, s, domain='ZZ'),\n",
       " Poly(0, s, domain='ZZ'),\n",
       " Poly(1, s, domain='ZZ'),\n",
       " Poly(0, s, domain='ZZ'),\n",
       " Poly(-1, s, domain='ZZ')]"
      ]
     },
     "execution_count": 33,
     "metadata": {},
     "output_type": "execute_result"
    }
   ],
   "source": [
    "L = 10\n",
    "f = sy.Matrix(  [[0,1,0,-1],\n",
    "            [1,L*s,-1,0]] ).echelon_form()\n",
    "map(lambda x: sy.poly(x, s), f )"
   ]
  },
  {
   "cell_type": "code",
   "execution_count": 39,
   "metadata": {},
   "outputs": [
    {
     "data": {
      "text/plain": [
       "Matrix([\n",
       "[1],\n",
       "[2],\n",
       "[3]])"
      ]
     },
     "execution_count": 39,
     "metadata": {},
     "output_type": "execute_result"
    }
   ],
   "source": [
    "sy.Matrix([1,2,3])"
   ]
  },
  {
   "cell_type": "markdown",
   "metadata": {},
   "source": [
    "One thing we can do is just use the groebner basis over the linear set of equations. It's an elephant gun for a fly. But we do already have grobner bases.\n",
    "Use an elimination ordering.\n",
    "Bada bing bada boom.\n",
    "Theoretical results rely on the fact we are using modules, such as the fact that \n",
    "\n",
    "\n",
    "I'm not sure how a generator representation even makes sense\n",
    "\n",
    "Syzygy's give me info about the annihilators which seems less useful\n",
    "But I can use an elimination ordering to directly get rid of stuff\n",
    "Order in terms of\n",
    "\n",
    "Syzygies of the  matrix transpose - generators\n",
    "exercise 6 chapter 4 of using algerba\n",
    "\n",
    "We want an orderings such that the variables to be eliminated  appear at the highest level (with the most stuff in them)\n",
    "\n",
    "\n",
    "Willems talks about Smith and Hermite normal form. I haven't found a convenient seeming package to calculate them. They seem more geared at integer problems than polynomial problems. And I have my eye on PDE or band theory problems, for which they are no longer appropriate and grobner basis techniques are the main game in town.\n",
    "\n",
    "Sympy has a grobner basis implementation, and a hell of a tutorial from Matt Pap\n",
    "https://mattpap.github.io/masters-thesis/html/src/groebner.html\n",
    "\n",
    "For example, one can use groebner basis techniques to perform gauss elimination\n",
    "https://mattpap.github.io/masters-thesis/html/src/groebner.html#special-case-1-gauss-algorithm\n",
    "\n",
    "What I basically want is gaussian elimination except such that it doesn't divide. The built in sympy functions for matrix manipulation seem cavalier on this point, which makes sense for most application. Usually they are matrices over fields.\n"
   ]
  },
  {
   "cell_type": "code",
   "execution_count": 52,
   "metadata": {},
   "outputs": [],
   "source": [
    "def matrix_to_eqs(m):\n",
    "   nrows, ncols = m.shape\n",
    "   gens = [sy.Dummy() for i in range(ncols)]\n",
    "   eqs = m @ sy.Matrix(gens)\n",
    "   return eqs, gens\n",
    "def eqs_to_matrix(eqns, gens):\n",
    "    return sy.Matrix( [[ eq.coeff(g) for g in gens] for eq in eqns])\n",
    "        \n",
    "    "
   ]
  },
  {
   "cell_type": "code",
   "execution_count": 54,
   "metadata": {},
   "outputs": [
    {
     "name": "stdout",
     "output_type": "stream",
     "text": [
      "Matrix([[1, 10*s, -1, 0], [0, 1, 0, -1]])\n"
     ]
    },
    {
     "data": {
      "text/plain": [
       "Matrix([\n",
       "[1, 0, -1, 10*s],\n",
       "[0, 1,  0,   -1]])"
      ]
     },
     "execution_count": 54,
     "metadata": {},
     "output_type": "execute_result"
    }
   ],
   "source": [
    "print(f)\n",
    "eqs, gens = matrix_to_eqs(f)\n",
    "eqs_to_matrix(sy.groebner(eqs), gens)"
   ]
  },
  {
   "cell_type": "code",
   "execution_count": 38,
   "metadata": {},
   "outputs": [
    {
     "data": {
      "text/plain": [
       "GroebnerBasis([10*i2*s + v1 - v2, i1 - i2], s, v1, v2, i1, i2, domain='ZZ', order='lex')"
      ]
     },
     "execution_count": 38,
     "metadata": {},
     "output_type": "execute_result"
    }
   ],
   "source": [
    " sy.groebner([i2 - i1, L * s * i1 - (v2 - v1)])"
   ]
  },
  {
   "cell_type": "code",
   "execution_count": 14,
   "metadata": {},
   "outputs": [
    {
     "data": {
      "text/plain": [
       "(2, 4)"
      ]
     },
     "execution_count": 14,
     "metadata": {},
     "output_type": "execute_result"
    }
   ],
   "source": [
    "sy.diag(f,f) # direct sum\n",
    "def vstack(f,g):\n",
    "    return f.row_join(g) # nondecturctive it appears\n",
    "def hstack(f,g):\n",
    "    return f.col_join(g)\n",
    "f.shape"
   ]
  },
  {
   "cell_type": "code",
   "execution_count": 20,
   "metadata": {},
   "outputs": [],
   "source": [
    "d,r = sy.div(1 + s**2, s)"
   ]
  },
  {
   "cell_type": "code",
   "execution_count": 30,
   "metadata": {},
   "outputs": [
    {
     "name": "stdout",
     "output_type": "stream",
     "text": [
      "Matrix([[1, 10*s, -1, 0], [0, 1, 0, -1]])\n",
      "1\n",
      "0\n"
     ]
    },
    {
     "ename": "ComputationFailed",
     "evalue": "div(1, 0) failed without generators",
     "output_type": "error",
     "traceback": [
      "\u001b[0;31m---------------------------------------------------------------------------\u001b[0m",
      "\u001b[0;31mPolificationFailed\u001b[0m                        Traceback (most recent call last)",
      "\u001b[0;32m/usr/local/lib/python3.7/site-packages/sympy/polys/polytools.py\u001b[0m in \u001b[0;36mdiv\u001b[0;34m(f, g, *gens, **args)\u001b[0m\n\u001b[1;32m   4781\u001b[0m     \u001b[0;32mtry\u001b[0m\u001b[0;34m:\u001b[0m\u001b[0;34m\u001b[0m\u001b[0;34m\u001b[0m\u001b[0m\n\u001b[0;32m-> 4782\u001b[0;31m         \u001b[0;34m(\u001b[0m\u001b[0mF\u001b[0m\u001b[0;34m,\u001b[0m \u001b[0mG\u001b[0m\u001b[0;34m)\u001b[0m\u001b[0;34m,\u001b[0m \u001b[0mopt\u001b[0m \u001b[0;34m=\u001b[0m \u001b[0mparallel_poly_from_expr\u001b[0m\u001b[0;34m(\u001b[0m\u001b[0;34m(\u001b[0m\u001b[0mf\u001b[0m\u001b[0;34m,\u001b[0m \u001b[0mg\u001b[0m\u001b[0;34m)\u001b[0m\u001b[0;34m,\u001b[0m \u001b[0;34m*\u001b[0m\u001b[0mgens\u001b[0m\u001b[0;34m,\u001b[0m \u001b[0;34m**\u001b[0m\u001b[0margs\u001b[0m\u001b[0;34m)\u001b[0m\u001b[0;34m\u001b[0m\u001b[0;34m\u001b[0m\u001b[0m\n\u001b[0m\u001b[1;32m   4783\u001b[0m     \u001b[0;32mexcept\u001b[0m \u001b[0mPolificationFailed\u001b[0m \u001b[0;32mas\u001b[0m \u001b[0mexc\u001b[0m\u001b[0;34m:\u001b[0m\u001b[0;34m\u001b[0m\u001b[0;34m\u001b[0m\u001b[0m\n",
      "\u001b[0;32m/usr/local/lib/python3.7/site-packages/sympy/polys/polytools.py\u001b[0m in \u001b[0;36mparallel_poly_from_expr\u001b[0;34m(exprs, *gens, **args)\u001b[0m\n\u001b[1;32m   4312\u001b[0m     \u001b[0mopt\u001b[0m \u001b[0;34m=\u001b[0m \u001b[0moptions\u001b[0m\u001b[0;34m.\u001b[0m\u001b[0mbuild_options\u001b[0m\u001b[0;34m(\u001b[0m\u001b[0mgens\u001b[0m\u001b[0;34m,\u001b[0m \u001b[0margs\u001b[0m\u001b[0;34m)\u001b[0m\u001b[0;34m\u001b[0m\u001b[0;34m\u001b[0m\u001b[0m\n\u001b[0;32m-> 4313\u001b[0;31m     \u001b[0;32mreturn\u001b[0m \u001b[0m_parallel_poly_from_expr\u001b[0m\u001b[0;34m(\u001b[0m\u001b[0mexprs\u001b[0m\u001b[0;34m,\u001b[0m \u001b[0mopt\u001b[0m\u001b[0;34m)\u001b[0m\u001b[0;34m\u001b[0m\u001b[0;34m\u001b[0m\u001b[0m\n\u001b[0m\u001b[1;32m   4314\u001b[0m \u001b[0;34m\u001b[0m\u001b[0m\n",
      "\u001b[0;32m/usr/local/lib/python3.7/site-packages/sympy/polys/polytools.py\u001b[0m in \u001b[0;36m_parallel_poly_from_expr\u001b[0;34m(exprs, opt)\u001b[0m\n\u001b[1;32m   4367\u001b[0m     \u001b[0;32mif\u001b[0m \u001b[0;32mnot\u001b[0m \u001b[0mopt\u001b[0m\u001b[0;34m.\u001b[0m\u001b[0mgens\u001b[0m\u001b[0;34m:\u001b[0m\u001b[0;34m\u001b[0m\u001b[0;34m\u001b[0m\u001b[0m\n\u001b[0;32m-> 4368\u001b[0;31m         \u001b[0;32mraise\u001b[0m \u001b[0mPolificationFailed\u001b[0m\u001b[0;34m(\u001b[0m\u001b[0mopt\u001b[0m\u001b[0;34m,\u001b[0m \u001b[0morigs\u001b[0m\u001b[0;34m,\u001b[0m \u001b[0mexprs\u001b[0m\u001b[0;34m,\u001b[0m \u001b[0;32mTrue\u001b[0m\u001b[0;34m)\u001b[0m\u001b[0;34m\u001b[0m\u001b[0;34m\u001b[0m\u001b[0m\n\u001b[0m\u001b[1;32m   4369\u001b[0m \u001b[0;34m\u001b[0m\u001b[0m\n",
      "\u001b[0;31mPolificationFailed\u001b[0m: can't construct polynomials from 1, 0",
      "\nDuring handling of the above exception, another exception occurred:\n",
      "\u001b[0;31mComputationFailed\u001b[0m                         Traceback (most recent call last)",
      "\u001b[0;32m<ipython-input-30-5f4b7f8fa550>\u001b[0m in \u001b[0;36m<module>\u001b[0;34m\u001b[0m\n\u001b[1;32m      6\u001b[0m         \u001b[0mprint\u001b[0m\u001b[0;34m(\u001b[0m\u001b[0mf\u001b[0m\u001b[0;34m[\u001b[0m\u001b[0mi\u001b[0m\u001b[0;34m,\u001b[0m\u001b[0mi\u001b[0m\u001b[0;34m]\u001b[0m\u001b[0;34m)\u001b[0m\u001b[0;34m\u001b[0m\u001b[0;34m\u001b[0m\u001b[0m\n\u001b[1;32m      7\u001b[0m         \u001b[0mprint\u001b[0m\u001b[0;34m(\u001b[0m\u001b[0mf\u001b[0m\u001b[0;34m[\u001b[0m\u001b[0mj\u001b[0m\u001b[0;34m,\u001b[0m\u001b[0mi\u001b[0m\u001b[0;34m]\u001b[0m\u001b[0;34m)\u001b[0m\u001b[0;34m\u001b[0m\u001b[0;34m\u001b[0m\u001b[0m\n\u001b[0;32m----> 8\u001b[0;31m         \u001b[0mprint\u001b[0m\u001b[0;34m(\u001b[0m\u001b[0msy\u001b[0m\u001b[0;34m.\u001b[0m\u001b[0mdiv\u001b[0m\u001b[0;34m(\u001b[0m\u001b[0mf\u001b[0m\u001b[0;34m[\u001b[0m\u001b[0mi\u001b[0m\u001b[0;34m,\u001b[0m\u001b[0mi\u001b[0m\u001b[0;34m]\u001b[0m\u001b[0;34m,\u001b[0m \u001b[0mf\u001b[0m\u001b[0;34m[\u001b[0m\u001b[0mj\u001b[0m\u001b[0;34m,\u001b[0m\u001b[0mi\u001b[0m\u001b[0;34m]\u001b[0m \u001b[0;34m,\u001b[0m \u001b[0mdomain\u001b[0m\u001b[0;34m=\u001b[0m\u001b[0;34m\"QQ\"\u001b[0m\u001b[0;34m)\u001b[0m\u001b[0;34m)\u001b[0m\u001b[0;34m\u001b[0m\u001b[0;34m\u001b[0m\u001b[0m\n\u001b[0m\u001b[1;32m      9\u001b[0m     \u001b[0;31m#for j in range(f.shape[1]):\u001b[0m\u001b[0;34m\u001b[0m\u001b[0;34m\u001b[0m\u001b[0;34m\u001b[0m\u001b[0m\n\u001b[1;32m     10\u001b[0m \u001b[0;34m\u001b[0m\u001b[0m\n",
      "\u001b[0;32m/usr/local/lib/python3.7/site-packages/sympy/polys/polytools.py\u001b[0m in \u001b[0;36mdiv\u001b[0;34m(f, g, *gens, **args)\u001b[0m\n\u001b[1;32m   4782\u001b[0m         \u001b[0;34m(\u001b[0m\u001b[0mF\u001b[0m\u001b[0;34m,\u001b[0m \u001b[0mG\u001b[0m\u001b[0;34m)\u001b[0m\u001b[0;34m,\u001b[0m \u001b[0mopt\u001b[0m \u001b[0;34m=\u001b[0m \u001b[0mparallel_poly_from_expr\u001b[0m\u001b[0;34m(\u001b[0m\u001b[0;34m(\u001b[0m\u001b[0mf\u001b[0m\u001b[0;34m,\u001b[0m \u001b[0mg\u001b[0m\u001b[0;34m)\u001b[0m\u001b[0;34m,\u001b[0m \u001b[0;34m*\u001b[0m\u001b[0mgens\u001b[0m\u001b[0;34m,\u001b[0m \u001b[0;34m**\u001b[0m\u001b[0margs\u001b[0m\u001b[0;34m)\u001b[0m\u001b[0;34m\u001b[0m\u001b[0;34m\u001b[0m\u001b[0m\n\u001b[1;32m   4783\u001b[0m     \u001b[0;32mexcept\u001b[0m \u001b[0mPolificationFailed\u001b[0m \u001b[0;32mas\u001b[0m \u001b[0mexc\u001b[0m\u001b[0;34m:\u001b[0m\u001b[0;34m\u001b[0m\u001b[0;34m\u001b[0m\u001b[0m\n\u001b[0;32m-> 4784\u001b[0;31m         \u001b[0;32mraise\u001b[0m \u001b[0mComputationFailed\u001b[0m\u001b[0;34m(\u001b[0m\u001b[0;34m'div'\u001b[0m\u001b[0;34m,\u001b[0m \u001b[0;36m2\u001b[0m\u001b[0;34m,\u001b[0m \u001b[0mexc\u001b[0m\u001b[0;34m)\u001b[0m\u001b[0;34m\u001b[0m\u001b[0;34m\u001b[0m\u001b[0m\n\u001b[0m\u001b[1;32m   4785\u001b[0m \u001b[0;34m\u001b[0m\u001b[0m\n\u001b[1;32m   4786\u001b[0m     \u001b[0mq\u001b[0m\u001b[0;34m,\u001b[0m \u001b[0mr\u001b[0m \u001b[0;34m=\u001b[0m \u001b[0mF\u001b[0m\u001b[0;34m.\u001b[0m\u001b[0mdiv\u001b[0m\u001b[0;34m(\u001b[0m\u001b[0mG\u001b[0m\u001b[0;34m,\u001b[0m \u001b[0mauto\u001b[0m\u001b[0;34m=\u001b[0m\u001b[0mopt\u001b[0m\u001b[0;34m.\u001b[0m\u001b[0mauto\u001b[0m\u001b[0;34m)\u001b[0m\u001b[0;34m\u001b[0m\u001b[0;34m\u001b[0m\u001b[0m\n",
      "\u001b[0;31mComputationFailed\u001b[0m: div(1, 0) failed without generators"
     ]
    }
   ],
   "source": [
    "nrow = f.shape[0]\n",
    "ncol = f.shape[1]\n",
    "print(f)\n",
    "for i in range(nrow):\n",
    "    for j in range(i+1, nrow):\n",
    "        print(f[i,i])\n",
    "        print(f[j,i])\n",
    "        print(sy.div(f[i,i], f[j,i] , domain=\"QQ\"))\n",
    "    #for j in range(f.shape[1]):\n",
    "        "
   ]
  },
  {
   "cell_type": "code",
   "execution_count": 117,
   "metadata": {},
   "outputs": [],
   "source": [
    "from graphviz import Graph, Digraph, Source"
   ]
  },
  {
   "cell_type": "code",
   "execution_count": 119,
   "metadata": {},
   "outputs": [
    {
     "data": {
      "image/svg+xml": [
       "<?xml version=\"1.0\" encoding=\"UTF-8\" standalone=\"no\"?>\n",
       "<!DOCTYPE svg PUBLIC \"-//W3C//DTD SVG 1.1//EN\"\n",
       " \"http://www.w3.org/Graphics/SVG/1.1/DTD/svg11.dtd\">\n",
       "<!-- Generated by graphviz version 2.40.1 (20161225.0304)\n",
       " -->\n",
       "<!-- Title: %3 Pages: 1 -->\n",
       "<svg width=\"134pt\" height=\"116pt\"\n",
       " viewBox=\"0.00 0.00 134.00 116.00\" xmlns=\"http://www.w3.org/2000/svg\" xmlns:xlink=\"http://www.w3.org/1999/xlink\">\n",
       "<g id=\"graph0\" class=\"graph\" transform=\"scale(1 1) rotate(0) translate(4 112)\">\n",
       "<title>%3</title>\n",
       "<polygon fill=\"#ffffff\" stroke=\"transparent\" points=\"-4,4 -4,-112 130,-112 130,4 -4,4\"/>\n",
       "<!-- Mul(Integer(2), Symbol(t))_() -->\n",
       "<g id=\"node1\" class=\"node\">\n",
       "<title>Mul(Integer(2), Symbol(t))_()</title>\n",
       "<ellipse fill=\"none\" stroke=\"#000000\" cx=\"63\" cy=\"-90\" rx=\"27\" ry=\"18\"/>\n",
       "<text text-anchor=\"middle\" x=\"63\" y=\"-85.8\" font-family=\"Times,serif\" font-size=\"14.00\" fill=\"#000000\">Mul</text>\n",
       "</g>\n",
       "<!-- Integer(2)_(0,) -->\n",
       "<g id=\"node2\" class=\"node\">\n",
       "<title>Integer(2)_(0,)</title>\n",
       "<ellipse fill=\"none\" stroke=\"#000000\" cx=\"27\" cy=\"-18\" rx=\"27\" ry=\"18\"/>\n",
       "<text text-anchor=\"middle\" x=\"27\" y=\"-13.8\" font-family=\"Times,serif\" font-size=\"14.00\" fill=\"#000000\">2</text>\n",
       "</g>\n",
       "<!-- Mul(Integer(2), Symbol(t))_()&#45;&gt;Integer(2)_(0,) -->\n",
       "<g id=\"edge1\" class=\"edge\">\n",
       "<title>Mul(Integer(2), Symbol(t))_()&#45;&gt;Integer(2)_(0,)</title>\n",
       "<path fill=\"none\" stroke=\"#000000\" d=\"M54.2854,-72.5708C50.0403,-64.0807 44.8464,-53.6929 40.1337,-44.2674\"/>\n",
       "<polygon fill=\"#000000\" stroke=\"#000000\" points=\"43.237,-42.6477 35.6343,-35.2687 36.976,-45.7782 43.237,-42.6477\"/>\n",
       "</g>\n",
       "<!-- Symbol(t)_(1,) -->\n",
       "<g id=\"node3\" class=\"node\">\n",
       "<title>Symbol(t)_(1,)</title>\n",
       "<ellipse fill=\"none\" stroke=\"#000000\" cx=\"99\" cy=\"-18\" rx=\"27\" ry=\"18\"/>\n",
       "<text text-anchor=\"middle\" x=\"99\" y=\"-13.8\" font-family=\"Times,serif\" font-size=\"14.00\" fill=\"#000000\">t</text>\n",
       "</g>\n",
       "<!-- Mul(Integer(2), Symbol(t))_()&#45;&gt;Symbol(t)_(1,) -->\n",
       "<g id=\"edge2\" class=\"edge\">\n",
       "<title>Mul(Integer(2), Symbol(t))_()&#45;&gt;Symbol(t)_(1,)</title>\n",
       "<path fill=\"none\" stroke=\"#000000\" d=\"M71.7146,-72.5708C75.9597,-64.0807 81.1536,-53.6929 85.8663,-44.2674\"/>\n",
       "<polygon fill=\"#000000\" stroke=\"#000000\" points=\"89.024,-45.7782 90.3657,-35.2687 82.763,-42.6477 89.024,-45.7782\"/>\n",
       "</g>\n",
       "</g>\n",
       "</svg>\n"
      ],
      "text/plain": [
       "<graphviz.files.Source at 0x105d599d0>"
      ]
     },
     "execution_count": 119,
     "metadata": {},
     "output_type": "execute_result"
    }
   ],
   "source": [
    "#print(sy.dotprint(2*t))\n",
    "Source(sy.dotprint(2*t))"
   ]
  },
  {
   "cell_type": "code",
   "execution_count": 11,
   "metadata": {},
   "outputs": [
    {
     "data": {
      "text/plain": [
       "0"
      ]
     },
     "execution_count": 11,
     "metadata": {},
     "output_type": "execute_result"
    }
   ],
   "source": [
    "sy.singleton.S.Zero"
   ]
  },
  {
   "cell_type": "code",
   "execution_count": 29,
   "metadata": {},
   "outputs": [
    {
     "name": "stdout",
     "output_type": "stream",
     "text": [
      "q(t)\n",
      "t\n",
      "q(t)\n",
      "t\n",
      "q(t)\n",
      "t\n",
      "<bound method AtomicExpr._eval_derivative of t>\n",
      "q(t)\n",
      "t\n",
      "False\n",
      "q(t)\n",
      "t\n",
      "False\n",
      "q(t)\n",
      "t\n",
      "False\n",
      "dirv\n",
      "q(_u)\n",
      "_xi_0\n",
      "False\n"
     ]
    },
    {
     "data": {
      "text/plain": [
       "Integral(0, t)"
      ]
     },
     "execution_count": 29,
     "metadata": {},
     "output_type": "execute_result"
    }
   ],
   "source": [
    "q = sy.Function(\"q\")\n",
    "t = sy.Symbol(\"t\")\n",
    "t2 = sy.Symbol(\"t2\")\n",
    "i = sy.integrate(q(t),t)\n",
    "sy.diff(i, q(t))\n",
    "print(t._eval_derivative)\n",
    "def funderiv(self,s):\n",
    "    print(self)\n",
    "    print(s)\n",
    "    print(s.func == self.func)\n",
    "    if sEq(s.func ,self.func):\n",
    "        print(sy.DiracDelta(s.args[0] - self.args[0]))\n",
    "        return sy.DiracDelta(s.args[0] - self.args[0])\n",
    "    if self.args[0] == s:\n",
    "        return sy.Derivative(self, s)\n",
    "    else:\n",
    "        return sy.singleton.S.Zero\n",
    "\n",
    "q._eval_derivative = funderiv\n",
    "i = sy.integrate(q(t),t)\n",
    "'''q    def _eval_derivative(self, s):\n",
    "        if self == s:\n",
    "            return S.One\n",
    "        return S.Zero\n",
    "'''\n",
    "i\n",
    "print(\"dirv\")\n",
    "i._eval_derivative(q(t2))\n",
    "#sy.Delta(0)"
   ]
  },
  {
   "cell_type": "code",
   "execution_count": 147,
   "metadata": {},
   "outputs": [
    {
     "name": "stdout",
     "output_type": "stream",
     "text": [
      "Integral((dq(t) + q(t))**2 + Derivative(dq(t) + q(t), t)**2, t) - Integral(q(t)**2 + Derivative(q(t), t)**2, t)\n",
      "None\n"
     ]
    },
    {
     "data": {
      "image/svg+xml": [
       "<?xml version=\"1.0\" encoding=\"UTF-8\" standalone=\"no\"?>\n",
       "<!DOCTYPE svg PUBLIC \"-//W3C//DTD SVG 1.1//EN\"\n",
       " \"http://www.w3.org/Graphics/SVG/1.1/DTD/svg11.dtd\">\n",
       "<!-- Generated by graphviz version 2.40.1 (20161225.0304)\n",
       " -->\n",
       "<!-- Title: %3 Pages: 1 -->\n",
       "<svg width=\"767pt\" height=\"548pt\"\n",
       " viewBox=\"0.00 0.00 767.00 548.00\" xmlns=\"http://www.w3.org/2000/svg\" xmlns:xlink=\"http://www.w3.org/1999/xlink\">\n",
       "<g id=\"graph0\" class=\"graph\" transform=\"scale(1 1) rotate(0) translate(4 544)\">\n",
       "<title>%3</title>\n",
       "<polygon fill=\"#ffffff\" stroke=\"transparent\" points=\"-4,4 -4,-544 763,-544 763,4 -4,4\"/>\n",
       "<!-- Add(Integral(Add(Pow(Add(dq(Symbol(t)), q(Symbol(t))), Integer(2)), Pow(Derivative(Add(dq(Symbol(t)), q(Symbol(t))), Tuple(Symbol(t), One())), Integer(2))), Tuple(Symbol(t))), Mul(NegativeOne(), Integral(Add(Pow(q(Symbol(t)), Integer(2)), Pow(Derivative(q(Symbol(t)), Tuple(Symbol(t), One())), Integer(2))), Tuple(Symbol(t)))))_() -->\n",
       "<g id=\"node1\" class=\"node\">\n",
       "<title>Add(Integral(Add(Pow(Add(dq(Symbol(t)), q(Symbol(t))), Integer(2)), Pow(Derivative(Add(dq(Symbol(t)), q(Symbol(t))), Tuple(Symbol(t), One())), Integer(2))), Tuple(Symbol(t))), Mul(NegativeOne(), Integral(Add(Pow(q(Symbol(t)), Integer(2)), Pow(Derivative(q(Symbol(t)), Tuple(Symbol(t), One())), Integer(2))), Tuple(Symbol(t)))))_()</title>\n",
       "<ellipse fill=\"none\" stroke=\"#000000\" cx=\"415\" cy=\"-522\" rx=\"27\" ry=\"18\"/>\n",
       "<text text-anchor=\"middle\" x=\"415\" y=\"-517.8\" font-family=\"Times,serif\" font-size=\"14.00\" fill=\"#000000\">Add</text>\n",
       "</g>\n",
       "<!-- Mul(NegativeOne(), Integral(Add(Pow(q(Symbol(t)), Integer(2)), Pow(Derivative(q(Symbol(t)), Tuple(Symbol(t), One())), Integer(2))), Tuple(Symbol(t))))_(0,) -->\n",
       "<g id=\"node2\" class=\"node\">\n",
       "<title>Mul(NegativeOne(), Integral(Add(Pow(q(Symbol(t)), Integer(2)), Pow(Derivative(q(Symbol(t)), Tuple(Symbol(t), One())), Integer(2))), Tuple(Symbol(t))))_(0,)</title>\n",
       "<ellipse fill=\"none\" stroke=\"#000000\" cx=\"315\" cy=\"-450\" rx=\"27\" ry=\"18\"/>\n",
       "<text text-anchor=\"middle\" x=\"315\" y=\"-445.8\" font-family=\"Times,serif\" font-size=\"14.00\" fill=\"#000000\">Mul</text>\n",
       "</g>\n",
       "<!-- Add(Integral(Add(Pow(Add(dq(Symbol(t)), q(Symbol(t))), Integer(2)), Pow(Derivative(Add(dq(Symbol(t)), q(Symbol(t))), Tuple(Symbol(t), One())), Integer(2))), Tuple(Symbol(t))), Mul(NegativeOne(), Integral(Add(Pow(q(Symbol(t)), Integer(2)), Pow(Derivative(q(Symbol(t)), Tuple(Symbol(t), One())), Integer(2))), Tuple(Symbol(t)))))_()&#45;&gt;Mul(NegativeOne(), Integral(Add(Pow(q(Symbol(t)), Integer(2)), Pow(Derivative(q(Symbol(t)), Tuple(Symbol(t), One())), Integer(2))), Tuple(Symbol(t))))_(0,) -->\n",
       "<g id=\"edge1\" class=\"edge\">\n",
       "<title>Add(Integral(Add(Pow(Add(dq(Symbol(t)), q(Symbol(t))), Integer(2)), Pow(Derivative(Add(dq(Symbol(t)), q(Symbol(t))), Tuple(Symbol(t), One())), Integer(2))), Tuple(Symbol(t))), Mul(NegativeOne(), Integral(Add(Pow(q(Symbol(t)), Integer(2)), Pow(Derivative(q(Symbol(t)), Tuple(Symbol(t), One())), Integer(2))), Tuple(Symbol(t)))))_()&#45;&gt;Mul(NegativeOne(), Integral(Add(Pow(q(Symbol(t)), Integer(2)), Pow(Derivative(q(Symbol(t)), Tuple(Symbol(t), One())), Integer(2))), Tuple(Symbol(t))))_(0,)</title>\n",
       "<path fill=\"none\" stroke=\"#000000\" d=\"M396.1908,-508.4574C380.8698,-497.4263 359.0434,-481.7113 341.8789,-469.3528\"/>\n",
       "<polygon fill=\"#000000\" stroke=\"#000000\" points=\"343.5475,-466.2414 333.387,-463.2387 339.4573,-471.9221 343.5475,-466.2414\"/>\n",
       "</g>\n",
       "<!-- Integral(Add(Pow(Add(dq(Symbol(t)), q(Symbol(t))), Integer(2)), Pow(Derivative(Add(dq(Symbol(t)), q(Symbol(t))), Tuple(Symbol(t), One())), Integer(2))), Tuple(Symbol(t)))_(1,) -->\n",
       "<g id=\"node20\" class=\"node\">\n",
       "<title>Integral(Add(Pow(Add(dq(Symbol(t)), q(Symbol(t))), Integer(2)), Pow(Derivative(Add(dq(Symbol(t)), q(Symbol(t))), Tuple(Symbol(t), One())), Integer(2))), Tuple(Symbol(t)))_(1,)</title>\n",
       "<ellipse fill=\"none\" stroke=\"#000000\" cx=\"516\" cy=\"-450\" rx=\"37.7092\" ry=\"18\"/>\n",
       "<text text-anchor=\"middle\" x=\"516\" y=\"-445.8\" font-family=\"Times,serif\" font-size=\"14.00\" fill=\"#000000\">Integral</text>\n",
       "</g>\n",
       "<!-- Add(Integral(Add(Pow(Add(dq(Symbol(t)), q(Symbol(t))), Integer(2)), Pow(Derivative(Add(dq(Symbol(t)), q(Symbol(t))), Tuple(Symbol(t), One())), Integer(2))), Tuple(Symbol(t))), Mul(NegativeOne(), Integral(Add(Pow(q(Symbol(t)), Integer(2)), Pow(Derivative(q(Symbol(t)), Tuple(Symbol(t), One())), Integer(2))), Tuple(Symbol(t)))))_()&#45;&gt;Integral(Add(Pow(Add(dq(Symbol(t)), q(Symbol(t))), Integer(2)), Pow(Derivative(Add(dq(Symbol(t)), q(Symbol(t))), Tuple(Symbol(t), One())), Integer(2))), Tuple(Symbol(t)))_(1,) -->\n",
       "<g id=\"edge2\" class=\"edge\">\n",
       "<title>Add(Integral(Add(Pow(Add(dq(Symbol(t)), q(Symbol(t))), Integer(2)), Pow(Derivative(Add(dq(Symbol(t)), q(Symbol(t))), Tuple(Symbol(t), One())), Integer(2))), Tuple(Symbol(t))), Mul(NegativeOne(), Integral(Add(Pow(q(Symbol(t)), Integer(2)), Pow(Derivative(q(Symbol(t)), Tuple(Symbol(t), One())), Integer(2))), Tuple(Symbol(t)))))_()&#45;&gt;Integral(Add(Pow(Add(dq(Symbol(t)), q(Symbol(t))), Integer(2)), Pow(Derivative(Add(dq(Symbol(t)), q(Symbol(t))), Tuple(Symbol(t), One())), Integer(2))), Tuple(Symbol(t)))_(1,)</title>\n",
       "<path fill=\"none\" stroke=\"#000000\" d=\"M433.525,-508.7941C448.2676,-498.2845 469.1865,-483.372 486.2672,-471.1957\"/>\n",
       "<polygon fill=\"#000000\" stroke=\"#000000\" points=\"488.6852,-473.7703 494.7963,-465.1155 484.6218,-468.0703 488.6852,-473.7703\"/>\n",
       "</g>\n",
       "<!-- NegativeOne()_(0, 0) -->\n",
       "<g id=\"node3\" class=\"node\">\n",
       "<title>NegativeOne()_(0, 0)</title>\n",
       "<ellipse fill=\"none\" stroke=\"#000000\" cx=\"232\" cy=\"-378\" rx=\"27\" ry=\"18\"/>\n",
       "<text text-anchor=\"middle\" x=\"232\" y=\"-373.8\" font-family=\"Times,serif\" font-size=\"14.00\" fill=\"#000000\">&#45;1</text>\n",
       "</g>\n",
       "<!-- Mul(NegativeOne(), Integral(Add(Pow(q(Symbol(t)), Integer(2)), Pow(Derivative(q(Symbol(t)), Tuple(Symbol(t), One())), Integer(2))), Tuple(Symbol(t))))_(0,)&#45;&gt;NegativeOne()_(0, 0) -->\n",
       "<g id=\"edge3\" class=\"edge\">\n",
       "<title>Mul(NegativeOne(), Integral(Add(Pow(q(Symbol(t)), Integer(2)), Pow(Derivative(q(Symbol(t)), Tuple(Symbol(t), One())), Integer(2))), Tuple(Symbol(t))))_(0,)&#45;&gt;NegativeOne()_(0, 0)</title>\n",
       "<path fill=\"none\" stroke=\"#000000\" d=\"M298.2037,-435.4297C286.2002,-425.017 269.8613,-410.8435 256.4189,-399.1827\"/>\n",
       "<polygon fill=\"#000000\" stroke=\"#000000\" points=\"258.3354,-396.2118 248.4881,-392.3029 253.7485,-401.4996 258.3354,-396.2118\"/>\n",
       "</g>\n",
       "<!-- Integral(Add(Pow(q(Symbol(t)), Integer(2)), Pow(Derivative(q(Symbol(t)), Tuple(Symbol(t), One())), Integer(2))), Tuple(Symbol(t)))_(0, 1) -->\n",
       "<g id=\"node4\" class=\"node\">\n",
       "<title>Integral(Add(Pow(q(Symbol(t)), Integer(2)), Pow(Derivative(q(Symbol(t)), Tuple(Symbol(t), One())), Integer(2))), Tuple(Symbol(t)))_(0, 1)</title>\n",
       "<ellipse fill=\"none\" stroke=\"#000000\" cx=\"315\" cy=\"-378\" rx=\"37.7092\" ry=\"18\"/>\n",
       "<text text-anchor=\"middle\" x=\"315\" y=\"-373.8\" font-family=\"Times,serif\" font-size=\"14.00\" fill=\"#000000\">Integral</text>\n",
       "</g>\n",
       "<!-- Mul(NegativeOne(), Integral(Add(Pow(q(Symbol(t)), Integer(2)), Pow(Derivative(q(Symbol(t)), Tuple(Symbol(t), One())), Integer(2))), Tuple(Symbol(t))))_(0,)&#45;&gt;Integral(Add(Pow(q(Symbol(t)), Integer(2)), Pow(Derivative(q(Symbol(t)), Tuple(Symbol(t), One())), Integer(2))), Tuple(Symbol(t)))_(0, 1) -->\n",
       "<g id=\"edge4\" class=\"edge\">\n",
       "<title>Mul(NegativeOne(), Integral(Add(Pow(q(Symbol(t)), Integer(2)), Pow(Derivative(q(Symbol(t)), Tuple(Symbol(t), One())), Integer(2))), Tuple(Symbol(t))))_(0,)&#45;&gt;Integral(Add(Pow(q(Symbol(t)), Integer(2)), Pow(Derivative(q(Symbol(t)), Tuple(Symbol(t), One())), Integer(2))), Tuple(Symbol(t)))_(0, 1)</title>\n",
       "<path fill=\"none\" stroke=\"#000000\" d=\"M315,-431.8314C315,-424.131 315,-414.9743 315,-406.4166\"/>\n",
       "<polygon fill=\"#000000\" stroke=\"#000000\" points=\"318.5001,-406.4132 315,-396.4133 311.5001,-406.4133 318.5001,-406.4132\"/>\n",
       "</g>\n",
       "<!-- Add(Pow(q(Symbol(t)), Integer(2)), Pow(Derivative(q(Symbol(t)), Tuple(Symbol(t), One())), Integer(2)))_(0, 1, 0) -->\n",
       "<g id=\"node5\" class=\"node\">\n",
       "<title>Add(Pow(q(Symbol(t)), Integer(2)), Pow(Derivative(q(Symbol(t)), Tuple(Symbol(t), One())), Integer(2)))_(0, 1, 0)</title>\n",
       "<ellipse fill=\"none\" stroke=\"#000000\" cx=\"234\" cy=\"-306\" rx=\"27\" ry=\"18\"/>\n",
       "<text text-anchor=\"middle\" x=\"234\" y=\"-301.8\" font-family=\"Times,serif\" font-size=\"14.00\" fill=\"#000000\">Add</text>\n",
       "</g>\n",
       "<!-- Integral(Add(Pow(q(Symbol(t)), Integer(2)), Pow(Derivative(q(Symbol(t)), Tuple(Symbol(t), One())), Integer(2))), Tuple(Symbol(t)))_(0, 1)&#45;&gt;Add(Pow(q(Symbol(t)), Integer(2)), Pow(Derivative(q(Symbol(t)), Tuple(Symbol(t), One())), Integer(2)))_(0, 1, 0) -->\n",
       "<g id=\"edge5\" class=\"edge\">\n",
       "<title>Integral(Add(Pow(q(Symbol(t)), Integer(2)), Pow(Derivative(q(Symbol(t)), Tuple(Symbol(t), One())), Integer(2))), Tuple(Symbol(t)))_(0, 1)&#45;&gt;Add(Pow(q(Symbol(t)), Integer(2)), Pow(Derivative(q(Symbol(t)), Tuple(Symbol(t), One())), Integer(2)))_(0, 1, 0)</title>\n",
       "<path fill=\"none\" stroke=\"#000000\" d=\"M297.0235,-362.0209C285.5536,-351.8254 270.5496,-338.4886 258.0588,-327.3856\"/>\n",
       "<polygon fill=\"#000000\" stroke=\"#000000\" points=\"260.0753,-324.4952 250.2759,-320.4674 255.4247,-329.7271 260.0753,-324.4952\"/>\n",
       "</g>\n",
       "<!-- Tuple(Symbol(t))_(0, 1, 1) -->\n",
       "<g id=\"node18\" class=\"node\">\n",
       "<title>Tuple(Symbol(t))_(0, 1, 1)</title>\n",
       "<ellipse fill=\"none\" stroke=\"#0000ff\" cx=\"315\" cy=\"-306\" rx=\"30.3558\" ry=\"18\"/>\n",
       "<text text-anchor=\"middle\" x=\"315\" y=\"-301.8\" font-family=\"Times,serif\" font-size=\"14.00\" fill=\"#000000\">Tuple</text>\n",
       "</g>\n",
       "<!-- Integral(Add(Pow(q(Symbol(t)), Integer(2)), Pow(Derivative(q(Symbol(t)), Tuple(Symbol(t), One())), Integer(2))), Tuple(Symbol(t)))_(0, 1)&#45;&gt;Tuple(Symbol(t))_(0, 1, 1) -->\n",
       "<g id=\"edge6\" class=\"edge\">\n",
       "<title>Integral(Add(Pow(q(Symbol(t)), Integer(2)), Pow(Derivative(q(Symbol(t)), Tuple(Symbol(t), One())), Integer(2))), Tuple(Symbol(t)))_(0, 1)&#45;&gt;Tuple(Symbol(t))_(0, 1, 1)</title>\n",
       "<path fill=\"none\" stroke=\"#000000\" d=\"M315,-359.8314C315,-352.131 315,-342.9743 315,-334.4166\"/>\n",
       "<polygon fill=\"#000000\" stroke=\"#000000\" points=\"318.5001,-334.4132 315,-324.4133 311.5001,-334.4133 318.5001,-334.4132\"/>\n",
       "</g>\n",
       "<!-- Pow(Derivative(q(Symbol(t)), Tuple(Symbol(t), One())), Integer(2))_(0, 1, 0, 0) -->\n",
       "<g id=\"node6\" class=\"node\">\n",
       "<title>Pow(Derivative(q(Symbol(t)), Tuple(Symbol(t), One())), Integer(2))_(0, 1, 0, 0)</title>\n",
       "<ellipse fill=\"none\" stroke=\"#000000\" cx=\"156\" cy=\"-234\" rx=\"27\" ry=\"18\"/>\n",
       "<text text-anchor=\"middle\" x=\"156\" y=\"-229.8\" font-family=\"Times,serif\" font-size=\"14.00\" fill=\"#000000\">Pow</text>\n",
       "</g>\n",
       "<!-- Add(Pow(q(Symbol(t)), Integer(2)), Pow(Derivative(q(Symbol(t)), Tuple(Symbol(t), One())), Integer(2)))_(0, 1, 0)&#45;&gt;Pow(Derivative(q(Symbol(t)), Tuple(Symbol(t), One())), Integer(2))_(0, 1, 0, 0) -->\n",
       "<g id=\"edge7\" class=\"edge\">\n",
       "<title>Add(Pow(q(Symbol(t)), Integer(2)), Pow(Derivative(q(Symbol(t)), Tuple(Symbol(t), One())), Integer(2)))_(0, 1, 0)&#45;&gt;Pow(Derivative(q(Symbol(t)), Tuple(Symbol(t), One())), Integer(2))_(0, 1, 0, 0)</title>\n",
       "<path fill=\"none\" stroke=\"#000000\" d=\"M217.8383,-291.0816C206.6786,-280.7802 191.6666,-266.923 179.2285,-255.4417\"/>\n",
       "<polygon fill=\"#000000\" stroke=\"#000000\" points=\"181.5961,-252.864 171.8741,-248.653 176.8481,-258.0076 181.5961,-252.864\"/>\n",
       "</g>\n",
       "<!-- Pow(q(Symbol(t)), Integer(2))_(0, 1, 0, 1) -->\n",
       "<g id=\"node14\" class=\"node\">\n",
       "<title>Pow(q(Symbol(t)), Integer(2))_(0, 1, 0, 1)</title>\n",
       "<ellipse fill=\"none\" stroke=\"#000000\" cx=\"234\" cy=\"-234\" rx=\"27\" ry=\"18\"/>\n",
       "<text text-anchor=\"middle\" x=\"234\" y=\"-229.8\" font-family=\"Times,serif\" font-size=\"14.00\" fill=\"#000000\">Pow</text>\n",
       "</g>\n",
       "<!-- Add(Pow(q(Symbol(t)), Integer(2)), Pow(Derivative(q(Symbol(t)), Tuple(Symbol(t), One())), Integer(2)))_(0, 1, 0)&#45;&gt;Pow(q(Symbol(t)), Integer(2))_(0, 1, 0, 1) -->\n",
       "<g id=\"edge8\" class=\"edge\">\n",
       "<title>Add(Pow(q(Symbol(t)), Integer(2)), Pow(Derivative(q(Symbol(t)), Tuple(Symbol(t), One())), Integer(2)))_(0, 1, 0)&#45;&gt;Pow(q(Symbol(t)), Integer(2))_(0, 1, 0, 1)</title>\n",
       "<path fill=\"none\" stroke=\"#000000\" d=\"M234,-287.8314C234,-280.131 234,-270.9743 234,-262.4166\"/>\n",
       "<polygon fill=\"#000000\" stroke=\"#000000\" points=\"237.5001,-262.4132 234,-252.4133 230.5001,-262.4133 237.5001,-262.4132\"/>\n",
       "</g>\n",
       "<!-- Derivative(q(Symbol(t)), Tuple(Symbol(t), One()))_(0, 1, 0, 0, 0) -->\n",
       "<g id=\"node7\" class=\"node\">\n",
       "<title>Derivative(q(Symbol(t)), Tuple(Symbol(t), One()))_(0, 1, 0, 0, 0)</title>\n",
       "<ellipse fill=\"none\" stroke=\"#000000\" cx=\"64\" cy=\"-162\" rx=\"47.3564\" ry=\"18\"/>\n",
       "<text text-anchor=\"middle\" x=\"64\" y=\"-157.8\" font-family=\"Times,serif\" font-size=\"14.00\" fill=\"#000000\">Derivative</text>\n",
       "</g>\n",
       "<!-- Pow(Derivative(q(Symbol(t)), Tuple(Symbol(t), One())), Integer(2))_(0, 1, 0, 0)&#45;&gt;Derivative(q(Symbol(t)), Tuple(Symbol(t), One()))_(0, 1, 0, 0, 0) -->\n",
       "<g id=\"edge9\" class=\"edge\">\n",
       "<title>Pow(Derivative(q(Symbol(t)), Tuple(Symbol(t), One())), Integer(2))_(0, 1, 0, 0)&#45;&gt;Derivative(q(Symbol(t)), Tuple(Symbol(t), One()))_(0, 1, 0, 0, 0)</title>\n",
       "<path fill=\"none\" stroke=\"#000000\" d=\"M138.2615,-220.1177C125.397,-210.0498 107.7177,-196.2139 92.8363,-184.5675\"/>\n",
       "<polygon fill=\"#000000\" stroke=\"#000000\" points=\"94.9371,-181.7673 84.905,-178.3604 90.623,-187.2798 94.9371,-181.7673\"/>\n",
       "</g>\n",
       "<!-- Integer(2)_(0, 1, 0, 0, 1) -->\n",
       "<g id=\"node13\" class=\"node\">\n",
       "<title>Integer(2)_(0, 1, 0, 0, 1)</title>\n",
       "<ellipse fill=\"none\" stroke=\"#000000\" cx=\"156\" cy=\"-162\" rx=\"27\" ry=\"18\"/>\n",
       "<text text-anchor=\"middle\" x=\"156\" y=\"-157.8\" font-family=\"Times,serif\" font-size=\"14.00\" fill=\"#000000\">2</text>\n",
       "</g>\n",
       "<!-- Pow(Derivative(q(Symbol(t)), Tuple(Symbol(t), One())), Integer(2))_(0, 1, 0, 0)&#45;&gt;Integer(2)_(0, 1, 0, 0, 1) -->\n",
       "<g id=\"edge10\" class=\"edge\">\n",
       "<title>Pow(Derivative(q(Symbol(t)), Tuple(Symbol(t), One())), Integer(2))_(0, 1, 0, 0)&#45;&gt;Integer(2)_(0, 1, 0, 0, 1)</title>\n",
       "<path fill=\"none\" stroke=\"#000000\" d=\"M156,-215.8314C156,-208.131 156,-198.9743 156,-190.4166\"/>\n",
       "<polygon fill=\"#000000\" stroke=\"#000000\" points=\"159.5001,-190.4132 156,-180.4133 152.5001,-190.4133 159.5001,-190.4132\"/>\n",
       "</g>\n",
       "<!-- q(Symbol(t))_(0, 1, 0, 0, 0, 0) -->\n",
       "<g id=\"node8\" class=\"node\">\n",
       "<title>q(Symbol(t))_(0, 1, 0, 0, 0, 0)</title>\n",
       "<ellipse fill=\"none\" stroke=\"#000000\" cx=\"27\" cy=\"-90\" rx=\"27\" ry=\"18\"/>\n",
       "<text text-anchor=\"middle\" x=\"27\" y=\"-85.8\" font-family=\"Times,serif\" font-size=\"14.00\" fill=\"#000000\">q</text>\n",
       "</g>\n",
       "<!-- Derivative(q(Symbol(t)), Tuple(Symbol(t), One()))_(0, 1, 0, 0, 0)&#45;&gt;q(Symbol(t))_(0, 1, 0, 0, 0, 0) -->\n",
       "<g id=\"edge11\" class=\"edge\">\n",
       "<title>Derivative(q(Symbol(t)), Tuple(Symbol(t), One()))_(0, 1, 0, 0, 0)&#45;&gt;q(Symbol(t))_(0, 1, 0, 0, 0, 0)</title>\n",
       "<path fill=\"none\" stroke=\"#000000\" d=\"M54.8539,-144.2022C50.4883,-135.7071 45.1797,-125.3767 40.3726,-116.0223\"/>\n",
       "<polygon fill=\"#000000\" stroke=\"#000000\" points=\"43.4698,-114.3918 35.7861,-107.0972 37.2438,-117.5913 43.4698,-114.3918\"/>\n",
       "</g>\n",
       "<!-- Tuple(Symbol(t), One())_(0, 1, 0, 0, 0, 1) -->\n",
       "<g id=\"node10\" class=\"node\">\n",
       "<title>Tuple(Symbol(t), One())_(0, 1, 0, 0, 0, 1)</title>\n",
       "<ellipse fill=\"none\" stroke=\"#0000ff\" cx=\"102\" cy=\"-90\" rx=\"30.3558\" ry=\"18\"/>\n",
       "<text text-anchor=\"middle\" x=\"102\" y=\"-85.8\" font-family=\"Times,serif\" font-size=\"14.00\" fill=\"#000000\">Tuple</text>\n",
       "</g>\n",
       "<!-- Derivative(q(Symbol(t)), Tuple(Symbol(t), One()))_(0, 1, 0, 0, 0)&#45;&gt;Tuple(Symbol(t), One())_(0, 1, 0, 0, 0, 1) -->\n",
       "<g id=\"edge12\" class=\"edge\">\n",
       "<title>Derivative(q(Symbol(t)), Tuple(Symbol(t), One()))_(0, 1, 0, 0, 0)&#45;&gt;Tuple(Symbol(t), One())_(0, 1, 0, 0, 0, 1)</title>\n",
       "<path fill=\"none\" stroke=\"#000000\" d=\"M73.3933,-144.2022C77.8439,-135.7695 83.2488,-125.5285 88.157,-116.2288\"/>\n",
       "<polygon fill=\"#000000\" stroke=\"#000000\" points=\"91.2736,-117.8221 92.8459,-107.3446 85.0829,-114.5548 91.2736,-117.8221\"/>\n",
       "</g>\n",
       "<!-- Symbol(t)_(0, 1, 0, 0, 0, 0, 0) -->\n",
       "<g id=\"node9\" class=\"node\">\n",
       "<title>Symbol(t)_(0, 1, 0, 0, 0, 0, 0)</title>\n",
       "<ellipse fill=\"none\" stroke=\"#000000\" cx=\"27\" cy=\"-18\" rx=\"27\" ry=\"18\"/>\n",
       "<text text-anchor=\"middle\" x=\"27\" y=\"-13.8\" font-family=\"Times,serif\" font-size=\"14.00\" fill=\"#000000\">t</text>\n",
       "</g>\n",
       "<!-- q(Symbol(t))_(0, 1, 0, 0, 0, 0)&#45;&gt;Symbol(t)_(0, 1, 0, 0, 0, 0, 0) -->\n",
       "<g id=\"edge13\" class=\"edge\">\n",
       "<title>q(Symbol(t))_(0, 1, 0, 0, 0, 0)&#45;&gt;Symbol(t)_(0, 1, 0, 0, 0, 0, 0)</title>\n",
       "<path fill=\"none\" stroke=\"#000000\" d=\"M27,-71.8314C27,-64.131 27,-54.9743 27,-46.4166\"/>\n",
       "<polygon fill=\"#000000\" stroke=\"#000000\" points=\"30.5001,-46.4132 27,-36.4133 23.5001,-46.4133 30.5001,-46.4132\"/>\n",
       "</g>\n",
       "<!-- Symbol(t)_(0, 1, 0, 0, 0, 1, 0) -->\n",
       "<g id=\"node11\" class=\"node\">\n",
       "<title>Symbol(t)_(0, 1, 0, 0, 0, 1, 0)</title>\n",
       "<ellipse fill=\"none\" stroke=\"#000000\" cx=\"101\" cy=\"-18\" rx=\"27\" ry=\"18\"/>\n",
       "<text text-anchor=\"middle\" x=\"101\" y=\"-13.8\" font-family=\"Times,serif\" font-size=\"14.00\" fill=\"#000000\">t</text>\n",
       "</g>\n",
       "<!-- Tuple(Symbol(t), One())_(0, 1, 0, 0, 0, 1)&#45;&gt;Symbol(t)_(0, 1, 0, 0, 0, 1, 0) -->\n",
       "<g id=\"edge14\" class=\"edge\">\n",
       "<title>Tuple(Symbol(t), One())_(0, 1, 0, 0, 0, 1)&#45;&gt;Symbol(t)_(0, 1, 0, 0, 0, 1, 0)</title>\n",
       "<path fill=\"none\" stroke=\"#000000\" d=\"M101.7477,-71.8314C101.6407,-64.131 101.5135,-54.9743 101.3947,-46.4166\"/>\n",
       "<polygon fill=\"#000000\" stroke=\"#000000\" points=\"104.8944,-46.3637 101.2557,-36.4133 97.8951,-46.4609 104.8944,-46.3637\"/>\n",
       "</g>\n",
       "<!-- One()_(0, 1, 0, 0, 0, 1, 1) -->\n",
       "<g id=\"node12\" class=\"node\">\n",
       "<title>One()_(0, 1, 0, 0, 0, 1, 1)</title>\n",
       "<ellipse fill=\"none\" stroke=\"#000000\" cx=\"173\" cy=\"-18\" rx=\"27\" ry=\"18\"/>\n",
       "<text text-anchor=\"middle\" x=\"173\" y=\"-13.8\" font-family=\"Times,serif\" font-size=\"14.00\" fill=\"#000000\">1</text>\n",
       "</g>\n",
       "<!-- Tuple(Symbol(t), One())_(0, 1, 0, 0, 0, 1)&#45;&gt;One()_(0, 1, 0, 0, 0, 1, 1) -->\n",
       "<g id=\"edge15\" class=\"edge\">\n",
       "<title>Tuple(Symbol(t), One())_(0, 1, 0, 0, 0, 1)&#45;&gt;One()_(0, 1, 0, 0, 0, 1, 1)</title>\n",
       "<path fill=\"none\" stroke=\"#000000\" d=\"M117.4059,-74.3771C127.2146,-64.4302 140.0749,-51.3888 150.9558,-40.3547\"/>\n",
       "<polygon fill=\"#000000\" stroke=\"#000000\" points=\"153.5813,-42.6769 158.1107,-33.099 148.5971,-37.7619 153.5813,-42.6769\"/>\n",
       "</g>\n",
       "<!-- q(Symbol(t))_(0, 1, 0, 1, 0) -->\n",
       "<g id=\"node15\" class=\"node\">\n",
       "<title>q(Symbol(t))_(0, 1, 0, 1, 0)</title>\n",
       "<ellipse fill=\"none\" stroke=\"#000000\" cx=\"228\" cy=\"-162\" rx=\"27\" ry=\"18\"/>\n",
       "<text text-anchor=\"middle\" x=\"228\" y=\"-157.8\" font-family=\"Times,serif\" font-size=\"14.00\" fill=\"#000000\">q</text>\n",
       "</g>\n",
       "<!-- Pow(q(Symbol(t)), Integer(2))_(0, 1, 0, 1)&#45;&gt;q(Symbol(t))_(0, 1, 0, 1, 0) -->\n",
       "<g id=\"edge16\" class=\"edge\">\n",
       "<title>Pow(q(Symbol(t)), Integer(2))_(0, 1, 0, 1)&#45;&gt;q(Symbol(t))_(0, 1, 0, 1, 0)</title>\n",
       "<path fill=\"none\" stroke=\"#000000\" d=\"M232.4859,-215.8314C231.8442,-208.131 231.0812,-198.9743 230.3681,-190.4166\"/>\n",
       "<polygon fill=\"#000000\" stroke=\"#000000\" points=\"233.8529,-190.088 229.5344,-180.4133 226.8771,-190.6694 233.8529,-190.088\"/>\n",
       "</g>\n",
       "<!-- Integer(2)_(0, 1, 0, 1, 1) -->\n",
       "<g id=\"node17\" class=\"node\">\n",
       "<title>Integer(2)_(0, 1, 0, 1, 1)</title>\n",
       "<ellipse fill=\"none\" stroke=\"#000000\" cx=\"300\" cy=\"-162\" rx=\"27\" ry=\"18\"/>\n",
       "<text text-anchor=\"middle\" x=\"300\" y=\"-157.8\" font-family=\"Times,serif\" font-size=\"14.00\" fill=\"#000000\">2</text>\n",
       "</g>\n",
       "<!-- Pow(q(Symbol(t)), Integer(2))_(0, 1, 0, 1)&#45;&gt;Integer(2)_(0, 1, 0, 1, 1) -->\n",
       "<g id=\"edge17\" class=\"edge\">\n",
       "<title>Pow(q(Symbol(t)), Integer(2))_(0, 1, 0, 1)&#45;&gt;Integer(2)_(0, 1, 0, 1, 1)</title>\n",
       "<path fill=\"none\" stroke=\"#000000\" d=\"M248.321,-218.3771C257.2292,-208.659 268.8452,-195.987 278.8075,-185.1191\"/>\n",
       "<polygon fill=\"#000000\" stroke=\"#000000\" points=\"281.5297,-187.3291 285.7069,-177.5924 276.3696,-182.599 281.5297,-187.3291\"/>\n",
       "</g>\n",
       "<!-- Symbol(t)_(0, 1, 0, 1, 0, 0) -->\n",
       "<g id=\"node16\" class=\"node\">\n",
       "<title>Symbol(t)_(0, 1, 0, 1, 0, 0)</title>\n",
       "<ellipse fill=\"none\" stroke=\"#000000\" cx=\"228\" cy=\"-90\" rx=\"27\" ry=\"18\"/>\n",
       "<text text-anchor=\"middle\" x=\"228\" y=\"-85.8\" font-family=\"Times,serif\" font-size=\"14.00\" fill=\"#000000\">t</text>\n",
       "</g>\n",
       "<!-- q(Symbol(t))_(0, 1, 0, 1, 0)&#45;&gt;Symbol(t)_(0, 1, 0, 1, 0, 0) -->\n",
       "<g id=\"edge18\" class=\"edge\">\n",
       "<title>q(Symbol(t))_(0, 1, 0, 1, 0)&#45;&gt;Symbol(t)_(0, 1, 0, 1, 0, 0)</title>\n",
       "<path fill=\"none\" stroke=\"#000000\" d=\"M228,-143.8314C228,-136.131 228,-126.9743 228,-118.4166\"/>\n",
       "<polygon fill=\"#000000\" stroke=\"#000000\" points=\"231.5001,-118.4132 228,-108.4133 224.5001,-118.4133 231.5001,-118.4132\"/>\n",
       "</g>\n",
       "<!-- Symbol(t)_(0, 1, 1, 0) -->\n",
       "<g id=\"node19\" class=\"node\">\n",
       "<title>Symbol(t)_(0, 1, 1, 0)</title>\n",
       "<ellipse fill=\"none\" stroke=\"#000000\" cx=\"315\" cy=\"-234\" rx=\"27\" ry=\"18\"/>\n",
       "<text text-anchor=\"middle\" x=\"315\" y=\"-229.8\" font-family=\"Times,serif\" font-size=\"14.00\" fill=\"#000000\">t</text>\n",
       "</g>\n",
       "<!-- Tuple(Symbol(t))_(0, 1, 1)&#45;&gt;Symbol(t)_(0, 1, 1, 0) -->\n",
       "<g id=\"edge19\" class=\"edge\">\n",
       "<title>Tuple(Symbol(t))_(0, 1, 1)&#45;&gt;Symbol(t)_(0, 1, 1, 0)</title>\n",
       "<path fill=\"none\" stroke=\"#000000\" d=\"M315,-287.8314C315,-280.131 315,-270.9743 315,-262.4166\"/>\n",
       "<polygon fill=\"#000000\" stroke=\"#000000\" points=\"318.5001,-262.4132 315,-252.4133 311.5001,-262.4133 318.5001,-262.4132\"/>\n",
       "</g>\n",
       "<!-- Add(Pow(Add(dq(Symbol(t)), q(Symbol(t))), Integer(2)), Pow(Derivative(Add(dq(Symbol(t)), q(Symbol(t))), Tuple(Symbol(t), One())), Integer(2)))_(1, 0) -->\n",
       "<g id=\"node21\" class=\"node\">\n",
       "<title>Add(Pow(Add(dq(Symbol(t)), q(Symbol(t))), Integer(2)), Pow(Derivative(Add(dq(Symbol(t)), q(Symbol(t))), Tuple(Symbol(t), One())), Integer(2)))_(1, 0)</title>\n",
       "<ellipse fill=\"none\" stroke=\"#000000\" cx=\"516\" cy=\"-378\" rx=\"27\" ry=\"18\"/>\n",
       "<text text-anchor=\"middle\" x=\"516\" y=\"-373.8\" font-family=\"Times,serif\" font-size=\"14.00\" fill=\"#000000\">Add</text>\n",
       "</g>\n",
       "<!-- Integral(Add(Pow(Add(dq(Symbol(t)), q(Symbol(t))), Integer(2)), Pow(Derivative(Add(dq(Symbol(t)), q(Symbol(t))), Tuple(Symbol(t), One())), Integer(2))), Tuple(Symbol(t)))_(1,)&#45;&gt;Add(Pow(Add(dq(Symbol(t)), q(Symbol(t))), Integer(2)), Pow(Derivative(Add(dq(Symbol(t)), q(Symbol(t))), Tuple(Symbol(t), One())), Integer(2)))_(1, 0) -->\n",
       "<g id=\"edge20\" class=\"edge\">\n",
       "<title>Integral(Add(Pow(Add(dq(Symbol(t)), q(Symbol(t))), Integer(2)), Pow(Derivative(Add(dq(Symbol(t)), q(Symbol(t))), Tuple(Symbol(t), One())), Integer(2))), Tuple(Symbol(t)))_(1,)&#45;&gt;Add(Pow(Add(dq(Symbol(t)), q(Symbol(t))), Integer(2)), Pow(Derivative(Add(dq(Symbol(t)), q(Symbol(t))), Tuple(Symbol(t), One())), Integer(2)))_(1, 0)</title>\n",
       "<path fill=\"none\" stroke=\"#000000\" d=\"M516,-431.8314C516,-424.131 516,-414.9743 516,-406.4166\"/>\n",
       "<polygon fill=\"#000000\" stroke=\"#000000\" points=\"519.5001,-406.4132 516,-396.4133 512.5001,-406.4133 519.5001,-406.4132\"/>\n",
       "</g>\n",
       "<!-- Tuple(Symbol(t))_(1, 1) -->\n",
       "<g id=\"node40\" class=\"node\">\n",
       "<title>Tuple(Symbol(t))_(1, 1)</title>\n",
       "<ellipse fill=\"none\" stroke=\"#0000ff\" cx=\"614\" cy=\"-378\" rx=\"30.3558\" ry=\"18\"/>\n",
       "<text text-anchor=\"middle\" x=\"614\" y=\"-373.8\" font-family=\"Times,serif\" font-size=\"14.00\" fill=\"#000000\">Tuple</text>\n",
       "</g>\n",
       "<!-- Integral(Add(Pow(Add(dq(Symbol(t)), q(Symbol(t))), Integer(2)), Pow(Derivative(Add(dq(Symbol(t)), q(Symbol(t))), Tuple(Symbol(t), One())), Integer(2))), Tuple(Symbol(t)))_(1,)&#45;&gt;Tuple(Symbol(t))_(1, 1) -->\n",
       "<g id=\"edge21\" class=\"edge\">\n",
       "<title>Integral(Add(Pow(Add(dq(Symbol(t)), q(Symbol(t))), Integer(2)), Pow(Derivative(Add(dq(Symbol(t)), q(Symbol(t))), Tuple(Symbol(t), One())), Integer(2))), Tuple(Symbol(t)))_(1,)&#45;&gt;Tuple(Symbol(t))_(1, 1)</title>\n",
       "<path fill=\"none\" stroke=\"#000000\" d=\"M536.7833,-434.7307C551.2897,-424.0729 570.8012,-409.7379 586.5812,-398.1445\"/>\n",
       "<polygon fill=\"#000000\" stroke=\"#000000\" points=\"588.9218,-400.7679 594.9084,-392.0265 584.7773,-395.1267 588.9218,-400.7679\"/>\n",
       "</g>\n",
       "<!-- Pow(Add(dq(Symbol(t)), q(Symbol(t))), Integer(2))_(1, 0, 0) -->\n",
       "<g id=\"node22\" class=\"node\">\n",
       "<title>Pow(Add(dq(Symbol(t)), q(Symbol(t))), Integer(2))_(1, 0, 0)</title>\n",
       "<ellipse fill=\"none\" stroke=\"#000000\" cx=\"482\" cy=\"-306\" rx=\"27\" ry=\"18\"/>\n",
       "<text text-anchor=\"middle\" x=\"482\" y=\"-301.8\" font-family=\"Times,serif\" font-size=\"14.00\" fill=\"#000000\">Pow</text>\n",
       "</g>\n",
       "<!-- Add(Pow(Add(dq(Symbol(t)), q(Symbol(t))), Integer(2)), Pow(Derivative(Add(dq(Symbol(t)), q(Symbol(t))), Tuple(Symbol(t), One())), Integer(2)))_(1, 0)&#45;&gt;Pow(Add(dq(Symbol(t)), q(Symbol(t))), Integer(2))_(1, 0, 0) -->\n",
       "<g id=\"edge22\" class=\"edge\">\n",
       "<title>Add(Pow(Add(dq(Symbol(t)), q(Symbol(t))), Integer(2)), Pow(Derivative(Add(dq(Symbol(t)), q(Symbol(t))), Tuple(Symbol(t), One())), Integer(2)))_(1, 0)&#45;&gt;Pow(Add(dq(Symbol(t)), q(Symbol(t))), Integer(2))_(1, 0, 0)</title>\n",
       "<path fill=\"none\" stroke=\"#000000\" d=\"M507.7695,-360.5708C503.8021,-352.1691 498.9571,-341.9091 494.5433,-332.5623\"/>\n",
       "<polygon fill=\"#000000\" stroke=\"#000000\" points=\"497.5896,-330.8166 490.1547,-323.2687 491.2599,-333.8057 497.5896,-330.8166\"/>\n",
       "</g>\n",
       "<!-- Pow(Derivative(Add(dq(Symbol(t)), q(Symbol(t))), Tuple(Symbol(t), One())), Integer(2))_(1, 0, 1) -->\n",
       "<g id=\"node29\" class=\"node\">\n",
       "<title>Pow(Derivative(Add(dq(Symbol(t)), q(Symbol(t))), Tuple(Symbol(t), One())), Integer(2))_(1, 0, 1)</title>\n",
       "<ellipse fill=\"none\" stroke=\"#000000\" cx=\"564\" cy=\"-306\" rx=\"27\" ry=\"18\"/>\n",
       "<text text-anchor=\"middle\" x=\"564\" y=\"-301.8\" font-family=\"Times,serif\" font-size=\"14.00\" fill=\"#000000\">Pow</text>\n",
       "</g>\n",
       "<!-- Add(Pow(Add(dq(Symbol(t)), q(Symbol(t))), Integer(2)), Pow(Derivative(Add(dq(Symbol(t)), q(Symbol(t))), Tuple(Symbol(t), One())), Integer(2)))_(1, 0)&#45;&gt;Pow(Derivative(Add(dq(Symbol(t)), q(Symbol(t))), Tuple(Symbol(t), One())), Integer(2))_(1, 0, 1) -->\n",
       "<g id=\"edge23\" class=\"edge\">\n",
       "<title>Add(Pow(Add(dq(Symbol(t)), q(Symbol(t))), Integer(2)), Pow(Derivative(Add(dq(Symbol(t)), q(Symbol(t))), Tuple(Symbol(t), One())), Integer(2)))_(1, 0)&#45;&gt;Pow(Derivative(Add(dq(Symbol(t)), q(Symbol(t))), Tuple(Symbol(t), One())), Integer(2))_(1, 0, 1)</title>\n",
       "<path fill=\"none\" stroke=\"#000000\" d=\"M527.1328,-361.3008C533.1304,-352.3043 540.6502,-341.0247 547.3314,-331.0029\"/>\n",
       "<polygon fill=\"#000000\" stroke=\"#000000\" points=\"550.2927,-332.8706 552.9276,-322.6087 544.4683,-328.9877 550.2927,-332.8706\"/>\n",
       "</g>\n",
       "<!-- Add(dq(Symbol(t)), q(Symbol(t)))_(1, 0, 0, 0) -->\n",
       "<g id=\"node23\" class=\"node\">\n",
       "<title>Add(dq(Symbol(t)), q(Symbol(t)))_(1, 0, 0, 0)</title>\n",
       "<ellipse fill=\"none\" stroke=\"#000000\" cx=\"410\" cy=\"-234\" rx=\"27\" ry=\"18\"/>\n",
       "<text text-anchor=\"middle\" x=\"410\" y=\"-229.8\" font-family=\"Times,serif\" font-size=\"14.00\" fill=\"#000000\">Add</text>\n",
       "</g>\n",
       "<!-- Pow(Add(dq(Symbol(t)), q(Symbol(t))), Integer(2))_(1, 0, 0)&#45;&gt;Add(dq(Symbol(t)), q(Symbol(t)))_(1, 0, 0, 0) -->\n",
       "<g id=\"edge24\" class=\"edge\">\n",
       "<title>Pow(Add(dq(Symbol(t)), q(Symbol(t))), Integer(2))_(1, 0, 0)&#45;&gt;Add(dq(Symbol(t)), q(Symbol(t)))_(1, 0, 0, 0)</title>\n",
       "<path fill=\"none\" stroke=\"#000000\" d=\"M466.7307,-290.7307C456.803,-280.803 443.6847,-267.6847 432.5637,-256.5637\"/>\n",
       "<polygon fill=\"#000000\" stroke=\"#000000\" points=\"434.7933,-253.8436 425.2473,-249.2473 429.8436,-258.7933 434.7933,-253.8436\"/>\n",
       "</g>\n",
       "<!-- Integer(2)_(1, 0, 0, 1) -->\n",
       "<g id=\"node28\" class=\"node\">\n",
       "<title>Integer(2)_(1, 0, 0, 1)</title>\n",
       "<ellipse fill=\"none\" stroke=\"#000000\" cx=\"482\" cy=\"-234\" rx=\"27\" ry=\"18\"/>\n",
       "<text text-anchor=\"middle\" x=\"482\" y=\"-229.8\" font-family=\"Times,serif\" font-size=\"14.00\" fill=\"#000000\">2</text>\n",
       "</g>\n",
       "<!-- Pow(Add(dq(Symbol(t)), q(Symbol(t))), Integer(2))_(1, 0, 0)&#45;&gt;Integer(2)_(1, 0, 0, 1) -->\n",
       "<g id=\"edge25\" class=\"edge\">\n",
       "<title>Pow(Add(dq(Symbol(t)), q(Symbol(t))), Integer(2))_(1, 0, 0)&#45;&gt;Integer(2)_(1, 0, 0, 1)</title>\n",
       "<path fill=\"none\" stroke=\"#000000\" d=\"M482,-287.8314C482,-280.131 482,-270.9743 482,-262.4166\"/>\n",
       "<polygon fill=\"#000000\" stroke=\"#000000\" points=\"485.5001,-262.4132 482,-252.4133 478.5001,-262.4133 485.5001,-262.4132\"/>\n",
       "</g>\n",
       "<!-- dq(Symbol(t))_(1, 0, 0, 0, 0) -->\n",
       "<g id=\"node24\" class=\"node\">\n",
       "<title>dq(Symbol(t))_(1, 0, 0, 0, 0)</title>\n",
       "<ellipse fill=\"none\" stroke=\"#000000\" cx=\"372\" cy=\"-162\" rx=\"27\" ry=\"18\"/>\n",
       "<text text-anchor=\"middle\" x=\"372\" y=\"-157.8\" font-family=\"Times,serif\" font-size=\"14.00\" fill=\"#000000\">dq</text>\n",
       "</g>\n",
       "<!-- Add(dq(Symbol(t)), q(Symbol(t)))_(1, 0, 0, 0)&#45;&gt;dq(Symbol(t))_(1, 0, 0, 0, 0) -->\n",
       "<g id=\"edge26\" class=\"edge\">\n",
       "<title>Add(dq(Symbol(t)), q(Symbol(t)))_(1, 0, 0, 0)&#45;&gt;dq(Symbol(t))_(1, 0, 0, 0, 0)</title>\n",
       "<path fill=\"none\" stroke=\"#000000\" d=\"M400.9945,-216.937C396.5172,-208.4537 391.0048,-198.0092 385.993,-188.513\"/>\n",
       "<polygon fill=\"#000000\" stroke=\"#000000\" points=\"388.9678,-186.6509 381.2048,-179.4407 382.7771,-189.9182 388.9678,-186.6509\"/>\n",
       "</g>\n",
       "<!-- q(Symbol(t))_(1, 0, 0, 0, 1) -->\n",
       "<g id=\"node26\" class=\"node\">\n",
       "<title>q(Symbol(t))_(1, 0, 0, 0, 1)</title>\n",
       "<ellipse fill=\"none\" stroke=\"#000000\" cx=\"444\" cy=\"-162\" rx=\"27\" ry=\"18\"/>\n",
       "<text text-anchor=\"middle\" x=\"444\" y=\"-157.8\" font-family=\"Times,serif\" font-size=\"14.00\" fill=\"#000000\">q</text>\n",
       "</g>\n",
       "<!-- Add(dq(Symbol(t)), q(Symbol(t)))_(1, 0, 0, 0)&#45;&gt;q(Symbol(t))_(1, 0, 0, 0, 1) -->\n",
       "<g id=\"edge27\" class=\"edge\">\n",
       "<title>Add(dq(Symbol(t)), q(Symbol(t)))_(1, 0, 0, 0)&#45;&gt;q(Symbol(t))_(1, 0, 0, 0, 1)</title>\n",
       "<path fill=\"none\" stroke=\"#000000\" d=\"M418.2305,-216.5708C422.1979,-208.1691 427.0429,-197.9091 431.4567,-188.5623\"/>\n",
       "<polygon fill=\"#000000\" stroke=\"#000000\" points=\"434.7401,-189.8057 435.8453,-179.2687 428.4104,-186.8166 434.7401,-189.8057\"/>\n",
       "</g>\n",
       "<!-- Symbol(t)_(1, 0, 0, 0, 0, 0) -->\n",
       "<g id=\"node25\" class=\"node\">\n",
       "<title>Symbol(t)_(1, 0, 0, 0, 0, 0)</title>\n",
       "<ellipse fill=\"none\" stroke=\"#000000\" cx=\"372\" cy=\"-90\" rx=\"27\" ry=\"18\"/>\n",
       "<text text-anchor=\"middle\" x=\"372\" y=\"-85.8\" font-family=\"Times,serif\" font-size=\"14.00\" fill=\"#000000\">t</text>\n",
       "</g>\n",
       "<!-- dq(Symbol(t))_(1, 0, 0, 0, 0)&#45;&gt;Symbol(t)_(1, 0, 0, 0, 0, 0) -->\n",
       "<g id=\"edge28\" class=\"edge\">\n",
       "<title>dq(Symbol(t))_(1, 0, 0, 0, 0)&#45;&gt;Symbol(t)_(1, 0, 0, 0, 0, 0)</title>\n",
       "<path fill=\"none\" stroke=\"#000000\" d=\"M372,-143.8314C372,-136.131 372,-126.9743 372,-118.4166\"/>\n",
       "<polygon fill=\"#000000\" stroke=\"#000000\" points=\"375.5001,-118.4132 372,-108.4133 368.5001,-118.4133 375.5001,-118.4132\"/>\n",
       "</g>\n",
       "<!-- Symbol(t)_(1, 0, 0, 0, 1, 0) -->\n",
       "<g id=\"node27\" class=\"node\">\n",
       "<title>Symbol(t)_(1, 0, 0, 0, 1, 0)</title>\n",
       "<ellipse fill=\"none\" stroke=\"#000000\" cx=\"444\" cy=\"-90\" rx=\"27\" ry=\"18\"/>\n",
       "<text text-anchor=\"middle\" x=\"444\" y=\"-85.8\" font-family=\"Times,serif\" font-size=\"14.00\" fill=\"#000000\">t</text>\n",
       "</g>\n",
       "<!-- q(Symbol(t))_(1, 0, 0, 0, 1)&#45;&gt;Symbol(t)_(1, 0, 0, 0, 1, 0) -->\n",
       "<g id=\"edge29\" class=\"edge\">\n",
       "<title>q(Symbol(t))_(1, 0, 0, 0, 1)&#45;&gt;Symbol(t)_(1, 0, 0, 0, 1, 0)</title>\n",
       "<path fill=\"none\" stroke=\"#000000\" d=\"M444,-143.8314C444,-136.131 444,-126.9743 444,-118.4166\"/>\n",
       "<polygon fill=\"#000000\" stroke=\"#000000\" points=\"447.5001,-118.4132 444,-108.4133 440.5001,-118.4133 447.5001,-118.4132\"/>\n",
       "</g>\n",
       "<!-- Derivative(Add(dq(Symbol(t)), q(Symbol(t))), Tuple(Symbol(t), One()))_(1, 0, 1, 0) -->\n",
       "<g id=\"node30\" class=\"node\">\n",
       "<title>Derivative(Add(dq(Symbol(t)), q(Symbol(t))), Tuple(Symbol(t), One()))_(1, 0, 1, 0)</title>\n",
       "<ellipse fill=\"none\" stroke=\"#000000\" cx=\"574\" cy=\"-234\" rx=\"47.3564\" ry=\"18\"/>\n",
       "<text text-anchor=\"middle\" x=\"574\" y=\"-229.8\" font-family=\"Times,serif\" font-size=\"14.00\" fill=\"#000000\">Derivative</text>\n",
       "</g>\n",
       "<!-- Pow(Derivative(Add(dq(Symbol(t)), q(Symbol(t))), Tuple(Symbol(t), One())), Integer(2))_(1, 0, 1)&#45;&gt;Derivative(Add(dq(Symbol(t)), q(Symbol(t))), Tuple(Symbol(t), One()))_(1, 0, 1, 0) -->\n",
       "<g id=\"edge30\" class=\"edge\">\n",
       "<title>Pow(Derivative(Add(dq(Symbol(t)), q(Symbol(t))), Tuple(Symbol(t), One())), Integer(2))_(1, 0, 1)&#45;&gt;Derivative(Add(dq(Symbol(t)), q(Symbol(t))), Tuple(Symbol(t), One()))_(1, 0, 1, 0)</title>\n",
       "<path fill=\"none\" stroke=\"#000000\" d=\"M566.5234,-287.8314C567.5929,-280.131 568.8647,-270.9743 570.0532,-262.4166\"/>\n",
       "<polygon fill=\"#000000\" stroke=\"#000000\" points=\"573.5336,-262.7997 571.4426,-252.4133 566.6001,-261.8367 573.5336,-262.7997\"/>\n",
       "</g>\n",
       "<!-- Integer(2)_(1, 0, 1, 1) -->\n",
       "<g id=\"node39\" class=\"node\">\n",
       "<title>Integer(2)_(1, 0, 1, 1)</title>\n",
       "<ellipse fill=\"none\" stroke=\"#000000\" cx=\"666\" cy=\"-234\" rx=\"27\" ry=\"18\"/>\n",
       "<text text-anchor=\"middle\" x=\"666\" y=\"-229.8\" font-family=\"Times,serif\" font-size=\"14.00\" fill=\"#000000\">2</text>\n",
       "</g>\n",
       "<!-- Pow(Derivative(Add(dq(Symbol(t)), q(Symbol(t))), Tuple(Symbol(t), One())), Integer(2))_(1, 0, 1)&#45;&gt;Integer(2)_(1, 0, 1, 1) -->\n",
       "<g id=\"edge31\" class=\"edge\">\n",
       "<title>Pow(Derivative(Add(dq(Symbol(t)), q(Symbol(t))), Tuple(Symbol(t), One())), Integer(2))_(1, 0, 1)&#45;&gt;Integer(2)_(1, 0, 1, 1)</title>\n",
       "<path fill=\"none\" stroke=\"#000000\" d=\"M582.7084,-292.7941C598.5244,-281.6298 621.379,-265.4971 639.1486,-252.9539\"/>\n",
       "<polygon fill=\"#000000\" stroke=\"#000000\" points=\"641.2589,-255.7485 647.4102,-247.1222 637.2221,-250.0297 641.2589,-255.7485\"/>\n",
       "</g>\n",
       "<!-- Add(dq(Symbol(t)), q(Symbol(t)))_(1, 0, 1, 0, 0) -->\n",
       "<g id=\"node31\" class=\"node\">\n",
       "<title>Add(dq(Symbol(t)), q(Symbol(t)))_(1, 0, 1, 0, 0)</title>\n",
       "<ellipse fill=\"none\" stroke=\"#000000\" cx=\"574\" cy=\"-162\" rx=\"27\" ry=\"18\"/>\n",
       "<text text-anchor=\"middle\" x=\"574\" y=\"-157.8\" font-family=\"Times,serif\" font-size=\"14.00\" fill=\"#000000\">Add</text>\n",
       "</g>\n",
       "<!-- Derivative(Add(dq(Symbol(t)), q(Symbol(t))), Tuple(Symbol(t), One()))_(1, 0, 1, 0)&#45;&gt;Add(dq(Symbol(t)), q(Symbol(t)))_(1, 0, 1, 0, 0) -->\n",
       "<g id=\"edge32\" class=\"edge\">\n",
       "<title>Derivative(Add(dq(Symbol(t)), q(Symbol(t))), Tuple(Symbol(t), One()))_(1, 0, 1, 0)&#45;&gt;Add(dq(Symbol(t)), q(Symbol(t)))_(1, 0, 1, 0, 0)</title>\n",
       "<path fill=\"none\" stroke=\"#000000\" d=\"M574,-215.8314C574,-208.131 574,-198.9743 574,-190.4166\"/>\n",
       "<polygon fill=\"#000000\" stroke=\"#000000\" points=\"577.5001,-190.4132 574,-180.4133 570.5001,-190.4133 577.5001,-190.4132\"/>\n",
       "</g>\n",
       "<!-- Tuple(Symbol(t), One())_(1, 0, 1, 0, 1) -->\n",
       "<g id=\"node36\" class=\"node\">\n",
       "<title>Tuple(Symbol(t), One())_(1, 0, 1, 0, 1)</title>\n",
       "<ellipse fill=\"none\" stroke=\"#0000ff\" cx=\"660\" cy=\"-162\" rx=\"30.3558\" ry=\"18\"/>\n",
       "<text text-anchor=\"middle\" x=\"660\" y=\"-157.8\" font-family=\"Times,serif\" font-size=\"14.00\" fill=\"#000000\">Tuple</text>\n",
       "</g>\n",
       "<!-- Derivative(Add(dq(Symbol(t)), q(Symbol(t))), Tuple(Symbol(t), One()))_(1, 0, 1, 0)&#45;&gt;Tuple(Symbol(t), One())_(1, 0, 1, 0, 1) -->\n",
       "<g id=\"edge33\" class=\"edge\">\n",
       "<title>Derivative(Add(dq(Symbol(t)), q(Symbol(t))), Tuple(Symbol(t), One()))_(1, 0, 1, 0)&#45;&gt;Tuple(Symbol(t), One())_(1, 0, 1, 0, 1)</title>\n",
       "<path fill=\"none\" stroke=\"#000000\" d=\"M593.9463,-217.3008C606.0271,-207.1866 621.5548,-194.1867 634.5195,-183.3325\"/>\n",
       "<polygon fill=\"#000000\" stroke=\"#000000\" points=\"636.786,-185.9997 642.2068,-176.8966 632.2924,-180.6323 636.786,-185.9997\"/>\n",
       "</g>\n",
       "<!-- dq(Symbol(t))_(1, 0, 1, 0, 0, 0) -->\n",
       "<g id=\"node32\" class=\"node\">\n",
       "<title>dq(Symbol(t))_(1, 0, 1, 0, 0, 0)</title>\n",
       "<ellipse fill=\"none\" stroke=\"#000000\" cx=\"516\" cy=\"-90\" rx=\"27\" ry=\"18\"/>\n",
       "<text text-anchor=\"middle\" x=\"516\" y=\"-85.8\" font-family=\"Times,serif\" font-size=\"14.00\" fill=\"#000000\">dq</text>\n",
       "</g>\n",
       "<!-- Add(dq(Symbol(t)), q(Symbol(t)))_(1, 0, 1, 0, 0)&#45;&gt;dq(Symbol(t))_(1, 0, 1, 0, 0, 0) -->\n",
       "<g id=\"edge34\" class=\"edge\">\n",
       "<title>Add(dq(Symbol(t)), q(Symbol(t)))_(1, 0, 1, 0, 0)&#45;&gt;dq(Symbol(t))_(1, 0, 1, 0, 0, 0)</title>\n",
       "<path fill=\"none\" stroke=\"#000000\" d=\"M561.1279,-146.0209C553.5438,-136.6061 543.8018,-124.5126 535.3116,-113.973\"/>\n",
       "<polygon fill=\"#000000\" stroke=\"#000000\" points=\"537.8351,-111.5264 528.8361,-105.9345 532.3838,-115.9177 537.8351,-111.5264\"/>\n",
       "</g>\n",
       "<!-- q(Symbol(t))_(1, 0, 1, 0, 0, 1) -->\n",
       "<g id=\"node34\" class=\"node\">\n",
       "<title>q(Symbol(t))_(1, 0, 1, 0, 0, 1)</title>\n",
       "<ellipse fill=\"none\" stroke=\"#000000\" cx=\"588\" cy=\"-90\" rx=\"27\" ry=\"18\"/>\n",
       "<text text-anchor=\"middle\" x=\"588\" y=\"-85.8\" font-family=\"Times,serif\" font-size=\"14.00\" fill=\"#000000\">q</text>\n",
       "</g>\n",
       "<!-- Add(dq(Symbol(t)), q(Symbol(t)))_(1, 0, 1, 0, 0)&#45;&gt;q(Symbol(t))_(1, 0, 1, 0, 0, 1) -->\n",
       "<g id=\"edge35\" class=\"edge\">\n",
       "<title>Add(dq(Symbol(t)), q(Symbol(t)))_(1, 0, 1, 0, 0)&#45;&gt;q(Symbol(t))_(1, 0, 1, 0, 0, 1)</title>\n",
       "<path fill=\"none\" stroke=\"#000000\" d=\"M577.5328,-143.8314C579.0698,-135.9266 580.9053,-126.4872 582.6068,-117.7365\"/>\n",
       "<polygon fill=\"#000000\" stroke=\"#000000\" points=\"586.0437,-118.3976 584.5168,-107.9134 579.1724,-117.0615 586.0437,-118.3976\"/>\n",
       "</g>\n",
       "<!-- Symbol(t)_(1, 0, 1, 0, 0, 0, 0) -->\n",
       "<g id=\"node33\" class=\"node\">\n",
       "<title>Symbol(t)_(1, 0, 1, 0, 0, 0, 0)</title>\n",
       "<ellipse fill=\"none\" stroke=\"#000000\" cx=\"516\" cy=\"-18\" rx=\"27\" ry=\"18\"/>\n",
       "<text text-anchor=\"middle\" x=\"516\" y=\"-13.8\" font-family=\"Times,serif\" font-size=\"14.00\" fill=\"#000000\">t</text>\n",
       "</g>\n",
       "<!-- dq(Symbol(t))_(1, 0, 1, 0, 0, 0)&#45;&gt;Symbol(t)_(1, 0, 1, 0, 0, 0, 0) -->\n",
       "<g id=\"edge36\" class=\"edge\">\n",
       "<title>dq(Symbol(t))_(1, 0, 1, 0, 0, 0)&#45;&gt;Symbol(t)_(1, 0, 1, 0, 0, 0, 0)</title>\n",
       "<path fill=\"none\" stroke=\"#000000\" d=\"M516,-71.8314C516,-64.131 516,-54.9743 516,-46.4166\"/>\n",
       "<polygon fill=\"#000000\" stroke=\"#000000\" points=\"519.5001,-46.4132 516,-36.4133 512.5001,-46.4133 519.5001,-46.4132\"/>\n",
       "</g>\n",
       "<!-- Symbol(t)_(1, 0, 1, 0, 0, 1, 0) -->\n",
       "<g id=\"node35\" class=\"node\">\n",
       "<title>Symbol(t)_(1, 0, 1, 0, 0, 1, 0)</title>\n",
       "<ellipse fill=\"none\" stroke=\"#000000\" cx=\"588\" cy=\"-18\" rx=\"27\" ry=\"18\"/>\n",
       "<text text-anchor=\"middle\" x=\"588\" y=\"-13.8\" font-family=\"Times,serif\" font-size=\"14.00\" fill=\"#000000\">t</text>\n",
       "</g>\n",
       "<!-- q(Symbol(t))_(1, 0, 1, 0, 0, 1)&#45;&gt;Symbol(t)_(1, 0, 1, 0, 0, 1, 0) -->\n",
       "<g id=\"edge37\" class=\"edge\">\n",
       "<title>q(Symbol(t))_(1, 0, 1, 0, 0, 1)&#45;&gt;Symbol(t)_(1, 0, 1, 0, 0, 1, 0)</title>\n",
       "<path fill=\"none\" stroke=\"#000000\" d=\"M588,-71.8314C588,-64.131 588,-54.9743 588,-46.4166\"/>\n",
       "<polygon fill=\"#000000\" stroke=\"#000000\" points=\"591.5001,-46.4132 588,-36.4133 584.5001,-46.4133 591.5001,-46.4132\"/>\n",
       "</g>\n",
       "<!-- Symbol(t)_(1, 0, 1, 0, 1, 0) -->\n",
       "<g id=\"node37\" class=\"node\">\n",
       "<title>Symbol(t)_(1, 0, 1, 0, 1, 0)</title>\n",
       "<ellipse fill=\"none\" stroke=\"#000000\" cx=\"660\" cy=\"-90\" rx=\"27\" ry=\"18\"/>\n",
       "<text text-anchor=\"middle\" x=\"660\" y=\"-85.8\" font-family=\"Times,serif\" font-size=\"14.00\" fill=\"#000000\">t</text>\n",
       "</g>\n",
       "<!-- Tuple(Symbol(t), One())_(1, 0, 1, 0, 1)&#45;&gt;Symbol(t)_(1, 0, 1, 0, 1, 0) -->\n",
       "<g id=\"edge38\" class=\"edge\">\n",
       "<title>Tuple(Symbol(t), One())_(1, 0, 1, 0, 1)&#45;&gt;Symbol(t)_(1, 0, 1, 0, 1, 0)</title>\n",
       "<path fill=\"none\" stroke=\"#000000\" d=\"M660,-143.8314C660,-136.131 660,-126.9743 660,-118.4166\"/>\n",
       "<polygon fill=\"#000000\" stroke=\"#000000\" points=\"663.5001,-118.4132 660,-108.4133 656.5001,-118.4133 663.5001,-118.4132\"/>\n",
       "</g>\n",
       "<!-- One()_(1, 0, 1, 0, 1, 1) -->\n",
       "<g id=\"node38\" class=\"node\">\n",
       "<title>One()_(1, 0, 1, 0, 1, 1)</title>\n",
       "<ellipse fill=\"none\" stroke=\"#000000\" cx=\"732\" cy=\"-90\" rx=\"27\" ry=\"18\"/>\n",
       "<text text-anchor=\"middle\" x=\"732\" y=\"-85.8\" font-family=\"Times,serif\" font-size=\"14.00\" fill=\"#000000\">1</text>\n",
       "</g>\n",
       "<!-- Tuple(Symbol(t), One())_(1, 0, 1, 0, 1)&#45;&gt;One()_(1, 0, 1, 0, 1, 1) -->\n",
       "<g id=\"edge39\" class=\"edge\">\n",
       "<title>Tuple(Symbol(t), One())_(1, 0, 1, 0, 1)&#45;&gt;One()_(1, 0, 1, 0, 1, 1)</title>\n",
       "<path fill=\"none\" stroke=\"#000000\" d=\"M675.6229,-146.3771C685.5698,-136.4302 698.6112,-123.3888 709.6453,-112.3547\"/>\n",
       "<polygon fill=\"#000000\" stroke=\"#000000\" points=\"712.3047,-114.645 716.901,-105.099 707.355,-109.6953 712.3047,-114.645\"/>\n",
       "</g>\n",
       "<!-- Symbol(t)_(1, 1, 0) -->\n",
       "<g id=\"node41\" class=\"node\">\n",
       "<title>Symbol(t)_(1, 1, 0)</title>\n",
       "<ellipse fill=\"none\" stroke=\"#000000\" cx=\"636\" cy=\"-306\" rx=\"27\" ry=\"18\"/>\n",
       "<text text-anchor=\"middle\" x=\"636\" y=\"-301.8\" font-family=\"Times,serif\" font-size=\"14.00\" fill=\"#000000\">t</text>\n",
       "</g>\n",
       "<!-- Tuple(Symbol(t))_(1, 1)&#45;&gt;Symbol(t)_(1, 1, 0) -->\n",
       "<g id=\"edge40\" class=\"edge\">\n",
       "<title>Tuple(Symbol(t))_(1, 1)&#45;&gt;Symbol(t)_(1, 1, 0)</title>\n",
       "<path fill=\"none\" stroke=\"#000000\" d=\"M619.4382,-360.2022C621.8974,-352.1541 624.8598,-342.4588 627.5952,-333.5067\"/>\n",
       "<polygon fill=\"#000000\" stroke=\"#000000\" points=\"630.9731,-334.4289 630.5481,-323.8425 624.2786,-332.3833 630.9731,-334.4289\"/>\n",
       "</g>\n",
       "</g>\n",
       "</svg>\n"
      ],
      "text/plain": [
       "<graphviz.files.Source at 0x105712650>"
      ]
     },
     "execution_count": 147,
     "metadata": {},
     "output_type": "execute_result"
    }
   ],
   "source": [
    "\n",
    "q = sy.Function(\"q\")\n",
    "t = sy.Symbol(\"t\")\n",
    "dq = sy.Function(\"dq\")\n",
    "qdot = sy.diff(q(t),t)\n",
    "L = qdot**2 + q(t)**2\n",
    "S = sy.integrate(L,t)\n",
    "sy.diff(S,q(t)) # Nope.\n",
    "dS = S.replace(q(t), q(t) + dq(t)) - S\n",
    "#dS.collect(dq(t))\n",
    "dS\n",
    "#Source(sy.dotprint(dS.doit().expand().simplify().collect( dq(t) ).replace(dq(t)**2 , 0)))\n",
    "#sy.integrate( qdot , t) # ok it knows this much\n",
    "\n",
    "\n",
    "def ibp(e,u = None, dv = None):\n",
    "    if e.func == sy.Integral:\n",
    "        \n",
    "        integrand = e.args[0]\n",
    "        t = e.args[1][0]\n",
    "        if u != None:\n",
    "            dv = integrand / u\n",
    "        if dv != None:\n",
    "            u = integrand / dv\n",
    "        v = sy.integrate(dv)\n",
    "        du = sy.diff(u)\n",
    "        return u * v - sy.Integral( v * du , t )\n",
    "# sy.Integral.ibp = ibp # this could remove the first check.\n",
    "\n",
    "# sy.Basic.__get_index__(self,n) = self.args[n]\n",
    "# sy.Basic.push(n) = child =  self.args[n]; child.pop = lambda : self.args[n] = ; return child  \n",
    "# sy.Basic.\n",
    "# child.set ? child.cb ?   very lensy what we're doing.\n",
    "\n",
    "ibp( sy.integrate( t * sy.diff(q(t), t)  ) , dv = sy.diff(q(t),t) )\n",
    "dS.doit().replace(dq(t)**2, 0).replace(sy.Derivative(dq(t),t)**2, 0).expand().simplify()\n",
    "\n",
    "def flippy(e):\n",
    "    if e.func == sy.Integral:\n",
    "        integrand = e.args[0]\n",
    "        if integrand.func == sy.Add:\n",
    "            return sy.Add( [sy.Integral( a ) for a in integrand.args ] )\n",
    "    if e.func == sy.Add:\n",
    "        if all([ a.func == sy.Integral for a in e.args]):\n",
    "            return sy.Integral( sy.Add( [a.args[0] for a in e.args]))\n",
    "            \n",
    "print(dS)\n",
    "sy.dotprint(dS)\n",
    "print(flippy(dS))\n",
    "Source(sy.dotprint(dS))\n",
    "#def ibp(e, u = , dv =):\n",
    "#    pass\n",
    "#sy.srepr(sy.integrate( t * qdot , t)) "
   ]
  },
  {
   "cell_type": "code",
   "execution_count": 123,
   "metadata": {},
   "outputs": [
    {
     "data": {
      "text/plain": [
       "sympy.core.mul.Mul"
      ]
     },
     "execution_count": 123,
     "metadata": {},
     "output_type": "execute_result"
    }
   ],
   "source": [
    "dS.args[0].func"
   ]
  },
  {
   "cell_type": "code",
   "execution_count": null,
   "metadata": {},
   "outputs": [],
   "source": [
    "q = sy.Symbol(\"q\")\n",
    "qdot = sy.Symbol(\"qdot\")\n",
    "\n"
   ]
  },
  {
   "cell_type": "code",
   "execution_count": 98,
   "metadata": {},
   "outputs": [
    {
     "ename": "TypeError",
     "evalue": "'Integral' object is not subscriptable",
     "output_type": "error",
     "traceback": [
      "\u001b[0;31m---------------------------------------------------------------------------\u001b[0m",
      "\u001b[0;31mTypeError\u001b[0m                                 Traceback (most recent call last)",
      "\u001b[0;32m<ipython-input-98-91f93e9c0021>\u001b[0m in \u001b[0;36m<module>\u001b[0;34m\u001b[0m\n\u001b[1;32m      7\u001b[0m \u001b[0me1\u001b[0m\u001b[0;34m.\u001b[0m\u001b[0margs\u001b[0m\u001b[0;34m[\u001b[0m\u001b[0;36m0\u001b[0m\u001b[0;34m]\u001b[0m\u001b[0;34m.\u001b[0m\u001b[0mdoit\u001b[0m\u001b[0;34m(\u001b[0m\u001b[0;34m)\u001b[0m\u001b[0;34m\u001b[0m\u001b[0;34m\u001b[0m\u001b[0m\n\u001b[1;32m      8\u001b[0m \u001b[0;31m#e.expand().simplify() + e1 - e1.doit()\u001b[0m\u001b[0;34m\u001b[0m\u001b[0;34m\u001b[0m\u001b[0;34m\u001b[0m\u001b[0m\n\u001b[0;32m----> 9\u001b[0;31m \u001b[0me1\u001b[0m\u001b[0;34m[\u001b[0m\u001b[0;36m0\u001b[0m\u001b[0;34m]\u001b[0m\u001b[0;34m\u001b[0m\u001b[0;34m\u001b[0m\u001b[0m\n\u001b[0m\u001b[1;32m     10\u001b[0m \u001b[0;31m#cursor. e\u001b[0m\u001b[0;34m\u001b[0m\u001b[0;34m\u001b[0m\u001b[0;34m\u001b[0m\u001b[0m\n\u001b[1;32m     11\u001b[0m \u001b[0;34m\u001b[0m\u001b[0m\n",
      "\u001b[0;31mTypeError\u001b[0m: 'Integral' object is not subscriptable"
     ]
    }
   ],
   "source": [
    "u = sy.Function(\"u\")\n",
    "v = sy.Function(\"v\")\n",
    "t = sy.Symbol(\"t\")\n",
    "\n",
    "e = sy.integrate(sy.diff(u(t) * v(t) , t) , t)\n",
    "e1 = sy.Integral(sy.Derivative(u(t) * v(t) , t) , t)\n",
    "e1.args[0].doit()\n",
    "#e.expand().simplify() + e1 - e1.doit()\n",
    "\n",
    "#cursor. e[1][2].swap(1,2).ap( lambda x: x + 7).expand.simplify.\n",
    "class Cursor(Basic):\n",
    "    def __init__(self, expr):\n",
    "        self.exprs = [expr]\n",
    "        self\n",
    "    def \n",
    "\n",
    "def linear(e):\n",
    "    if e.func == Add:\n",
    "        # distribute addition under all the stuff, derivative, integral\n",
    "    elif e.func == Integrate:\n",
    "    elif e.func == Derivative:\n",
    "        \n",
    "        \n",
    "#funsort = Sort()\n",
    "#diff = Function(funsort,funsort)\n",
    "\n",
    "# push \n",
    "# pop\n"
   ]
  },
  {
   "cell_type": "code",
   "execution_count": null,
   "metadata": {},
   "outputs": [],
   "source": [
    "'''synthetic calculus in z3py\n",
    "\n",
    "This is the analog of second order arithemtic in a vagye way\n",
    "But also just having the idea of a syntax tree for functions made of composition, powers, trig, etc.\n",
    "I like that we define stuff basically by it's differential equation\n",
    "Unfortunately, with \n",
    "\n",
    "How to deal with integration? Maybe these shuld be function sets?\n",
    "\n",
    "'''\n",
    "fun = Sort()\n",
    "diff = Function(fun, fun)\n",
    "integ = Function(fun,fun)\n",
    "diff(integ(x)) = x\n",
    "integ(diff(x)) = x + C?\n",
    "add = Function(fun,fun,fun) \n",
    "mul = Function(fun,fun,fun)\n",
    "sub = \n",
    "compose = Function(fun,fun,fun)\n",
    "diff(    )\n",
    "\n",
    "apply = Function(fun, real, real) # eval?\n",
    "\n",
    "cos = Const(fun)\n",
    "sin = Const(fun)\n",
    "exp = Const(fun)\n",
    "\n",
    "# definition by diff eq\n",
    "diff(cos) == negate(sin)\n",
    "diff(sin) == cos\n",
    "diff(exp) == exp\n",
    "\n",
    "\n",
    "const = Function(real, fun)\n",
    "power = Function(Int, fun) # power of x\n",
    "\n",
    "ForAll([n], diff(power(n)) == (const n) * power(n-1))\n",
    "\n",
    "distinct( everything )\n",
    "# it's ultimately pretty similar to havign a syntax tree.\n",
    "\n",
    "\n",
    "inverse = Function(fun,fun)\n",
    "\n"
   ]
  },
  {
   "cell_type": "code",
   "execution_count": null,
   "metadata": {},
   "outputs": [],
   "source": [
    "https://abelian.readthedocs.io/en/latest/index.html\n",
    "    https://desr.readthedocs.io/en/latest/_modules/desr/matrix_normal_forms.html#is_hnf_row\n",
    "        https://github.com/tclose/Diophantine\n",
    "            "
   ]
  },
  {
   "cell_type": "code",
   "execution_count": 1,
   "metadata": {},
   "outputs": [
    {
     "ename": "NameError",
     "evalue": "name 'sy' is not defined",
     "output_type": "error",
     "traceback": [
      "\u001b[0;31m---------------------------------------------------------------------------\u001b[0m",
      "\u001b[0;31mNameError\u001b[0m                                 Traceback (most recent call last)",
      "\u001b[0;32m<ipython-input-1-10a5133f0e55>\u001b[0m in \u001b[0;36m<module>\u001b[0;34m\u001b[0m\n\u001b[0;32m----> 1\u001b[0;31m \u001b[0msy\u001b[0m\u001b[0;34m.\u001b[0m\u001b[0mMatrix\u001b[0m\u001b[0;34m(\u001b[0m\u001b[0;34m[\u001b[0m\u001b[0;34m[\u001b[0m\u001b[0;36m2\u001b[0m\u001b[0;34m,\u001b[0m\u001b[0;36m4\u001b[0m\u001b[0;34m]\u001b[0m\u001b[0;34m,\u001b[0m\u001b[0;34m[\u001b[0m\u001b[0;36m2\u001b[0m\u001b[0;34m,\u001b[0m\u001b[0;36m4\u001b[0m\u001b[0;34m]\u001b[0m\u001b[0;34m]\u001b[0m\u001b[0;34m)\u001b[0m\u001b[0;34m.\u001b[0m\u001b[0mnullspace\u001b[0m\u001b[0;34m(\u001b[0m\u001b[0;34m)\u001b[0m\u001b[0;34m\u001b[0m\u001b[0;34m\u001b[0m\u001b[0m\n\u001b[0m\u001b[1;32m      2\u001b[0m \u001b[0msy\u001b[0m\u001b[0;34m.\u001b[0m\u001b[0meye\u001b[0m\u001b[0;34m(\u001b[0m\u001b[0;36m3\u001b[0m\u001b[0;34m)\u001b[0m\u001b[0;34m[\u001b[0m\u001b[0;36m8\u001b[0m\u001b[0;34m]\u001b[0m\u001b[0;34m\u001b[0m\u001b[0;34m\u001b[0m\u001b[0m\n\u001b[1;32m      3\u001b[0m \u001b[0msy\u001b[0m\u001b[0;34m.\u001b[0m\u001b[0mones\u001b[0m\u001b[0;34m(\u001b[0m\u001b[0;36m3\u001b[0m\u001b[0;34m,\u001b[0m\u001b[0;36m2\u001b[0m\u001b[0;34m)\u001b[0m\u001b[0;34m\u001b[0m\u001b[0;34m\u001b[0m\u001b[0m\n\u001b[1;32m      4\u001b[0m \u001b[0msy\u001b[0m\u001b[0;34m.\u001b[0m\u001b[0mones\u001b[0m\u001b[0;34m(\u001b[0m\u001b[0;36m3\u001b[0m\u001b[0;34m)\u001b[0m\u001b[0;34m\u001b[0m\u001b[0;34m\u001b[0m\u001b[0m\n\u001b[1;32m      5\u001b[0m \u001b[0msy\u001b[0m\u001b[0;34m.\u001b[0m\u001b[0mones\u001b[0m\u001b[0;34m(\u001b[0m\u001b[0;36m2\u001b[0m\u001b[0;34m,\u001b[0m\u001b[0;36m1\u001b[0m\u001b[0;34m)\u001b[0m\u001b[0;34m.\u001b[0m\u001b[0mnullspace\u001b[0m\u001b[0;34m(\u001b[0m\u001b[0;34m)\u001b[0m\u001b[0;34m\u001b[0m\u001b[0;34m\u001b[0m\u001b[0m\n",
      "\u001b[0;31mNameError\u001b[0m: name 'sy' is not defined"
     ]
    }
   ],
   "source": [
    "sy.Matrix([[2,4],[2,4]]).nullspace()\n",
    "sy.eye(3)[8]\n",
    "sy.ones(3,2)\n",
    "sy.ones(3)\n",
    "sy.ones(2,1).nullspace()\n",
    "sy.ones(2,1).columnspace()\n",
    "def k(i,j):\n",
    "    if i == j:\n",
    "        return -2\n",
    "    elif abs(i-j) == 1:\n",
    "        return 1\n",
    "    else:\n",
    "        return 0\n",
    "sy.Matrix(5,5, k)"
   ]
  },
  {
   "cell_type": "code",
   "execution_count": null,
   "metadata": {},
   "outputs": [],
   "source": [
    "# different stock sympy matrix solvers\n",
    "s = sy.Symbol(\"s\")\n",
    "\n",
    "\n",
    "#sy.Matrix([[2-s,4],[2,4]]).QRdecomposition()\n",
    "print(sy.Matrix([[2-s**2,4],[2 + 2*2,4 + 3*s**2]]).LUdecomposition())\n",
    "print(sy.Matrix([[2-s,4],[2,4]]).LUdecompositionFF())\n",
    "print(sy.Matrix([[2-s,4],[2,4]]).echelon_form(with_pivots=True))\n",
    "print(sy.Matrix([[2-s,4],[2,4]]).columnspace())\n",
    "print(sy.Matrix([[2-s,4],[2,4]]).rref())"
   ]
  },
  {
   "cell_type": "markdown",
   "metadata": {},
   "source": [
    "Gaussian elimination is related to grobner bases.\n",
    "a matrix is a linear system of equations\n",
    "nx + my + b = 0\n",
    "\n",
    "\n",
    "sure we can add together two rows in such a way as to clear out x, and add this to our set of equations. This is an S polynomial step. Then the reduction step is division of all with respect to the others.\n",
    "\n",
    "Division of polynomials is the analog of inverting a tridiagonal matrix? division with remainder may be the analog of some kind of tridiagonal spliting\n",
    "\n",
    "\n",
    "Pivoting columns corresponds to changing a variable ordering.\n",
    "\n",
    "\n",
    "Is LU decomposition of a polynomial matrix acceptable?"
   ]
  }
 ],
 "metadata": {
  "kernelspec": {
   "display_name": "Python 3",
   "language": "python",
   "name": "python3"
  },
  "language_info": {
   "codemirror_mode": {
    "name": "ipython",
    "version": 3
   },
   "file_extension": ".py",
   "mimetype": "text/x-python",
   "name": "python",
   "nbconvert_exporter": "python",
   "pygments_lexer": "ipython3",
   "version": "3.7.5"
  }
 },
 "nbformat": 4,
 "nbformat_minor": 2
}
