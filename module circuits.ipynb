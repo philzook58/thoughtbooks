{
 "cells": [
  {
   "cell_type": "code",
   "execution_count": 2,
   "metadata": {},
   "outputs": [],
   "source": [
    "import sympy as sy\n"
   ]
  },
  {
   "cell_type": "code",
   "execution_count": 2,
   "metadata": {},
   "outputs": [
    {
     "data": {
      "text/plain": [
       "QQ"
      ]
     },
     "execution_count": 2,
     "metadata": {},
     "output_type": "execute_result"
    }
   ],
   "source": [
    "sy.QQ"
   ]
  },
  {
   "cell_type": "code",
   "execution_count": 3,
   "metadata": {},
   "outputs": [],
   "source": [
    "x,y,z = sy.symbols(\"x y z\")"
   ]
  },
  {
   "cell_type": "code",
   "execution_count": 6,
   "metadata": {},
   "outputs": [
    {
     "data": {
      "text/plain": [
       "QQ[x]**2"
      ]
     },
     "execution_count": 6,
     "metadata": {},
     "output_type": "execute_result"
    }
   ],
   "source": [
    "sy.QQ.old_poly_ring(x).free_module(2)"
   ]
  },
  {
   "cell_type": "code",
   "execution_count": 31,
   "metadata": {},
   "outputs": [
    {
     "ename": "TypeError",
     "evalue": "cannot determine truth value of Relational",
     "output_type": "error",
     "traceback": [
      "\u001b[0;31m---------------------------------------------------------------------------\u001b[0m",
      "\u001b[0;31mTypeError\u001b[0m                                 Traceback (most recent call last)",
      "\u001b[0;32m<ipython-input-31-989f6526e59d>\u001b[0m in \u001b[0;36m<module>\u001b[0;34m\u001b[0m\n\u001b[1;32m      3\u001b[0m \u001b[0me1\u001b[0m \u001b[0;34m=\u001b[0m \u001b[0msy\u001b[0m\u001b[0;34m.\u001b[0m\u001b[0mEq\u001b[0m\u001b[0;34m(\u001b[0m\u001b[0mv1\u001b[0m \u001b[0;34m-\u001b[0m \u001b[0mv2\u001b[0m\u001b[0;34m,\u001b[0m  \u001b[0;36m1j\u001b[0m\u001b[0;34m*\u001b[0m\u001b[0ms\u001b[0m\u001b[0;34m*\u001b[0m\u001b[0mL\u001b[0m \u001b[0;34m*\u001b[0m \u001b[0mi1\u001b[0m \u001b[0;34m)\u001b[0m\u001b[0;34m\u001b[0m\u001b[0;34m\u001b[0m\u001b[0m\n\u001b[1;32m      4\u001b[0m \u001b[0me2\u001b[0m \u001b[0;34m=\u001b[0m \u001b[0msy\u001b[0m\u001b[0;34m.\u001b[0m\u001b[0mEq\u001b[0m\u001b[0;34m(\u001b[0m\u001b[0mv2\u001b[0m \u001b[0;34m-\u001b[0m \u001b[0mv3\u001b[0m\u001b[0;34m,\u001b[0m \u001b[0;36m1j\u001b[0m\u001b[0;34m*\u001b[0m\u001b[0ms\u001b[0m\u001b[0;34m*\u001b[0m\u001b[0mL\u001b[0m \u001b[0;34m*\u001b[0m \u001b[0mi1\u001b[0m \u001b[0;34m)\u001b[0m\u001b[0;34m\u001b[0m\u001b[0;34m\u001b[0m\u001b[0m\n\u001b[0;32m----> 5\u001b[0;31m \u001b[0msy\u001b[0m\u001b[0;34m.\u001b[0m\u001b[0msolve\u001b[0m\u001b[0;34m(\u001b[0m\u001b[0me1\u001b[0m\u001b[0;34m,\u001b[0m\u001b[0me2\u001b[0m\u001b[0;34m)\u001b[0m\u001b[0;34m\u001b[0m\u001b[0;34m\u001b[0m\u001b[0m\n\u001b[0m\u001b[1;32m      6\u001b[0m \u001b[0;34m\u001b[0m\u001b[0m\n\u001b[1;32m      7\u001b[0m \u001b[0;34m\u001b[0m\u001b[0m\n",
      "\u001b[0;32m/usr/local/lib/python3.7/site-packages/sympy/solvers/solvers.py\u001b[0m in \u001b[0;36msolve\u001b[0;34m(f, *symbols, **flags)\u001b[0m\n\u001b[1;32m    910\u001b[0m     \u001b[0mbare_f\u001b[0m \u001b[0;34m=\u001b[0m \u001b[0;32mnot\u001b[0m \u001b[0miterable\u001b[0m\u001b[0;34m(\u001b[0m\u001b[0mf\u001b[0m\u001b[0;34m)\u001b[0m\u001b[0;34m\u001b[0m\u001b[0;34m\u001b[0m\u001b[0m\n\u001b[1;32m    911\u001b[0m     ordered_symbols = (symbols and\n\u001b[0;32m--> 912\u001b[0;31m                        \u001b[0msymbols\u001b[0m\u001b[0;34m[\u001b[0m\u001b[0;36m0\u001b[0m\u001b[0;34m]\u001b[0m \u001b[0;32mand\u001b[0m\u001b[0;34m\u001b[0m\u001b[0;34m\u001b[0m\u001b[0m\n\u001b[0m\u001b[1;32m    913\u001b[0m                        (isinstance(symbols[0], Symbol) or\n\u001b[1;32m    914\u001b[0m                         is_sequence(symbols[0],\n",
      "\u001b[0;32m/usr/local/lib/python3.7/site-packages/sympy/core/relational.py\u001b[0m in \u001b[0;36m__nonzero__\u001b[0;34m(self)\u001b[0m\n\u001b[1;32m    227\u001b[0m \u001b[0;34m\u001b[0m\u001b[0m\n\u001b[1;32m    228\u001b[0m     \u001b[0;32mdef\u001b[0m \u001b[0m__nonzero__\u001b[0m\u001b[0;34m(\u001b[0m\u001b[0mself\u001b[0m\u001b[0;34m)\u001b[0m\u001b[0;34m:\u001b[0m\u001b[0;34m\u001b[0m\u001b[0;34m\u001b[0m\u001b[0m\n\u001b[0;32m--> 229\u001b[0;31m         \u001b[0;32mraise\u001b[0m \u001b[0mTypeError\u001b[0m\u001b[0;34m(\u001b[0m\u001b[0;34m\"cannot determine truth value of Relational\"\u001b[0m\u001b[0;34m)\u001b[0m\u001b[0;34m\u001b[0m\u001b[0;34m\u001b[0m\u001b[0m\n\u001b[0m\u001b[1;32m    230\u001b[0m \u001b[0;34m\u001b[0m\u001b[0m\n\u001b[1;32m    231\u001b[0m     \u001b[0m__bool__\u001b[0m \u001b[0;34m=\u001b[0m \u001b[0m__nonzero__\u001b[0m\u001b[0;34m\u001b[0m\u001b[0;34m\u001b[0m\u001b[0m\n",
      "\u001b[0;31mTypeError\u001b[0m: cannot determine truth value of Relational"
     ]
    }
   ],
   "source": [
    "L = 10\n",
    "s, i1, i2, i3, v1, v2, v3 = sy.symbols('s i1 i2 i3 v1 v2 v3')\n",
    "e1 = sy.Eq(v1 - v2,  1j*s*L * i1 )\n",
    "e2 = sy.Eq(v2 - v3, 1j*s*L * i1 )\n",
    "sy.solve(e1,e2)\n",
    "\n",
    "\n"
   ]
  },
  {
   "cell_type": "code",
   "execution_count": 38,
   "metadata": {},
   "outputs": [
    {
     "data": {
      "text/plain": [
       "GroebnerBasis([1.0*v1 - 2.0*v2 + v3, i1 - i3 + 26.0*I*s*v1 - 26.0*I*s*v2, i2 - 26.0*I*s*v1 + 26.0*I*s*v2, i3*s - 26.0*I*s**2*v1 + 26.0*I*s**2*v2 + 0.1*I*v1 - 0.1*I*v2], v3, i1, i2, i3, v2, v1, s, domain='EX', order='lex')"
      ]
     },
     "execution_count": 38,
     "metadata": {},
     "output_type": "execute_result"
    }
   ],
   "source": [
    "L = 10\n",
    "s, i1, i2, i3, v1, v2, v3 = sy.symbols('s i1 i2 i3 v1 v2 v3')\n",
    "e1 = v1 - v2 -  1j*s*L * i1 \n",
    "e2 = v2 - v3 - 1j*s*L * i1 \n",
    "e3 = 1j * s * 13 * (v1 - v3) - i2\n",
    "e4 = i1 + i2 - i3\n",
    "sy.groebner([e1,e2,e3,e4] , v3, i1,i2, i3, v2, v1, s  )"
   ]
  },
  {
   "cell_type": "markdown",
   "metadata": {},
   "source": [
    "If I just truncated the equations, that would be the analog of just taking the lower rows of a row echelon form. Is that right? Does there always exist some solution that makes it work? If a thing obeys this reduced set of equations, there exists a way to extend it? I don't think so.\n",
    "\n",
    "\n",
    "Ok. Here's what I think? We take the full N^2 set of lt() gi - lt() gj.\n",
    "Then we reduce them with respect to the grobner basis. (which should equal zero)\n",
    "\n"
   ]
  },
  {
   "cell_type": "code",
   "execution_count": null,
   "metadata": {},
   "outputs": [],
   "source": [
    "resistor =  [[0, 1, 0, -1],\n",
    "             [R,1,-R, 0 ]]\n",
    "    \n",
    "inductor = [[0,1,0,-1],\n",
    "            [1,L*s,-1,0]]\n",
    "cap = [[0,1 ,0,-1],\n",
    "       [C*s,1, -C*s , 0]]\n",
    "\n",
    "par(cap,cap)\n",
    "compose(   ) = overlapstack()\n",
    "               eliminate\n",
    "\n",
    "    \n",
    "    \n",
    "    axiom schema\n",
    "    \n",
    "    allterms generator. allterms with holes \n",
    "    def induction(allterms):\n",
    "         generator of all possible instantiations\n",
    "    \n",
    "Isar \n",
    "Proof.assume(      )\n",
    "     .assert(      ).auto()\n",
    "     .assert(      ).induction( lambda a : P(x) )\n",
    "     . "
   ]
  },
  {
   "cell_type": "code",
   "execution_count": 1,
   "metadata": {},
   "outputs": [],
   "source": [
    "import sympy as sy"
   ]
  },
  {
   "cell_type": "code",
   "execution_count": 36,
   "metadata": {},
   "outputs": [],
   "source": [
    "s, i1, i2, v1, v2 = sy.symbols('s i1 i2 v1 v2')"
   ]
  },
  {
   "cell_type": "code",
   "execution_count": 33,
   "metadata": {},
   "outputs": [
    {
     "data": {
      "text/plain": [
       "[Poly(1, s, domain='ZZ'),\n",
       " Poly(10*s, s, domain='ZZ'),\n",
       " Poly(-1, s, domain='ZZ'),\n",
       " Poly(0, s, domain='ZZ'),\n",
       " Poly(0, s, domain='ZZ'),\n",
       " Poly(1, s, domain='ZZ'),\n",
       " Poly(0, s, domain='ZZ'),\n",
       " Poly(-1, s, domain='ZZ')]"
      ]
     },
     "execution_count": 33,
     "metadata": {},
     "output_type": "execute_result"
    }
   ],
   "source": [
    "L = 10\n",
    "f = sy.Matrix(  [[0,1,0,-1],\n",
    "            [1,L*s,-1,0]] ).echelon_form()\n",
    "map(lambda x: sy.poly(x, s), f )"
   ]
  },
  {
   "cell_type": "code",
   "execution_count": 39,
   "metadata": {},
   "outputs": [
    {
     "data": {
      "text/plain": [
       "Matrix([\n",
       "[1],\n",
       "[2],\n",
       "[3]])"
      ]
     },
     "execution_count": 39,
     "metadata": {},
     "output_type": "execute_result"
    }
   ],
   "source": [
    "sy.Matrix([1,2,3])"
   ]
  },
  {
   "cell_type": "markdown",
   "metadata": {},
   "source": [
    "One thing we can do is just use the groebner basis over the linear set of equations. It's an elephant gun for a fly. But we do already have grobner bases.\n",
    "Use an elimination ordering.\n",
    "Bada bing bada boom.\n",
    "Theoretical results rely on the fact we are using modules, such as the fact that \n",
    "\n",
    "\n",
    "I'm not sure how a generator representation even makes sense\n",
    "\n",
    "Syzygy's give me info about the annihilators which seems less useful\n",
    "But I can use an elimination ordering to directly get rid of stuff\n",
    "Order in terms of\n",
    "\n",
    "Syzygies of the  matrix transpose - generators\n",
    "exercise 6 chapter 4 of using algerba\n",
    "\n",
    "We want an orderings such that the variables to be eliminated  appear at the highest level (with the most stuff in them)\n",
    "\n",
    "\n",
    "Willems talks about Smith and Hermite normal form. I haven't found a convenient seeming package to calculate them. They seem more geared at integer problems than polynomial problems. And I have my eye on PDE or band theory problems, for which they are no longer appropriate and grobner basis techniques are the main game in town.\n",
    "\n",
    "Sympy has a grobner basis implementation, and a hell of a tutorial from Matt Pap\n",
    "https://mattpap.github.io/masters-thesis/html/src/groebner.html\n",
    "\n",
    "For example, one can use groebner basis techniques to perform gauss elimination\n",
    "https://mattpap.github.io/masters-thesis/html/src/groebner.html#special-case-1-gauss-algorithm\n",
    "\n",
    "What I basically want is gaussian elimination except such that it doesn't divide. The built in sympy functions for matrix manipulation seem cavalier on this point, which makes sense for most application. Usually they are matrices over fields.\n"
   ]
  },
  {
   "cell_type": "code",
   "execution_count": 52,
   "metadata": {},
   "outputs": [],
   "source": [
    "def matrix_to_eqs(m):\n",
    "   nrows, ncols = m.shape\n",
    "   gens = [sy.Dummy() for i in range(ncols)]\n",
    "   eqs = m @ sy.Matrix(gens)\n",
    "   return eqs, gens\n",
    "def eqs_to_matrix(eqns, gens):\n",
    "    return sy.Matrix( [[ eq.coeff(g) for g in gens] for eq in eqns])\n",
    "        \n",
    "    "
   ]
  },
  {
   "cell_type": "code",
   "execution_count": 54,
   "metadata": {},
   "outputs": [
    {
     "name": "stdout",
     "output_type": "stream",
     "text": [
      "Matrix([[1, 10*s, -1, 0], [0, 1, 0, -1]])\n"
     ]
    },
    {
     "data": {
      "text/plain": [
       "Matrix([\n",
       "[1, 0, -1, 10*s],\n",
       "[0, 1,  0,   -1]])"
      ]
     },
     "execution_count": 54,
     "metadata": {},
     "output_type": "execute_result"
    }
   ],
   "source": [
    "print(f)\n",
    "eqs, gens = matrix_to_eqs(f)\n",
    "eqs_to_matrix(sy.groebner(eqs), gens)"
   ]
  },
  {
   "cell_type": "code",
   "execution_count": 38,
   "metadata": {},
   "outputs": [
    {
     "data": {
      "text/plain": [
       "GroebnerBasis([10*i2*s + v1 - v2, i1 - i2], s, v1, v2, i1, i2, domain='ZZ', order='lex')"
      ]
     },
     "execution_count": 38,
     "metadata": {},
     "output_type": "execute_result"
    }
   ],
   "source": [
    " sy.groebner([i2 - i1, L * s * i1 - (v2 - v1)])"
   ]
  },
  {
   "cell_type": "code",
   "execution_count": 14,
   "metadata": {},
   "outputs": [
    {
     "data": {
      "text/plain": [
       "(2, 4)"
      ]
     },
     "execution_count": 14,
     "metadata": {},
     "output_type": "execute_result"
    }
   ],
   "source": [
    "sy.diag(f,f) # direct sum\n",
    "def vstack(f,g):\n",
    "    return f.row_join(g) # nondecturctive it appears\n",
    "def hstack(f,g):\n",
    "    return f.col_join(g)\n",
    "f.shape"
   ]
  },
  {
   "cell_type": "code",
   "execution_count": 20,
   "metadata": {},
   "outputs": [],
   "source": [
    "d,r = sy.div(1 + s**2, s)"
   ]
  },
  {
   "cell_type": "code",
   "execution_count": 30,
   "metadata": {},
   "outputs": [
    {
     "name": "stdout",
     "output_type": "stream",
     "text": [
      "Matrix([[1, 10*s, -1, 0], [0, 1, 0, -1]])\n",
      "1\n",
      "0\n"
     ]
    },
    {
     "ename": "ComputationFailed",
     "evalue": "div(1, 0) failed without generators",
     "output_type": "error",
     "traceback": [
      "\u001b[0;31m---------------------------------------------------------------------------\u001b[0m",
      "\u001b[0;31mPolificationFailed\u001b[0m                        Traceback (most recent call last)",
      "\u001b[0;32m/usr/local/lib/python3.7/site-packages/sympy/polys/polytools.py\u001b[0m in \u001b[0;36mdiv\u001b[0;34m(f, g, *gens, **args)\u001b[0m\n\u001b[1;32m   4781\u001b[0m     \u001b[0;32mtry\u001b[0m\u001b[0;34m:\u001b[0m\u001b[0;34m\u001b[0m\u001b[0;34m\u001b[0m\u001b[0m\n\u001b[0;32m-> 4782\u001b[0;31m         \u001b[0;34m(\u001b[0m\u001b[0mF\u001b[0m\u001b[0;34m,\u001b[0m \u001b[0mG\u001b[0m\u001b[0;34m)\u001b[0m\u001b[0;34m,\u001b[0m \u001b[0mopt\u001b[0m \u001b[0;34m=\u001b[0m \u001b[0mparallel_poly_from_expr\u001b[0m\u001b[0;34m(\u001b[0m\u001b[0;34m(\u001b[0m\u001b[0mf\u001b[0m\u001b[0;34m,\u001b[0m \u001b[0mg\u001b[0m\u001b[0;34m)\u001b[0m\u001b[0;34m,\u001b[0m \u001b[0;34m*\u001b[0m\u001b[0mgens\u001b[0m\u001b[0;34m,\u001b[0m \u001b[0;34m**\u001b[0m\u001b[0margs\u001b[0m\u001b[0;34m)\u001b[0m\u001b[0;34m\u001b[0m\u001b[0;34m\u001b[0m\u001b[0m\n\u001b[0m\u001b[1;32m   4783\u001b[0m     \u001b[0;32mexcept\u001b[0m \u001b[0mPolificationFailed\u001b[0m \u001b[0;32mas\u001b[0m \u001b[0mexc\u001b[0m\u001b[0;34m:\u001b[0m\u001b[0;34m\u001b[0m\u001b[0;34m\u001b[0m\u001b[0m\n",
      "\u001b[0;32m/usr/local/lib/python3.7/site-packages/sympy/polys/polytools.py\u001b[0m in \u001b[0;36mparallel_poly_from_expr\u001b[0;34m(exprs, *gens, **args)\u001b[0m\n\u001b[1;32m   4312\u001b[0m     \u001b[0mopt\u001b[0m \u001b[0;34m=\u001b[0m \u001b[0moptions\u001b[0m\u001b[0;34m.\u001b[0m\u001b[0mbuild_options\u001b[0m\u001b[0;34m(\u001b[0m\u001b[0mgens\u001b[0m\u001b[0;34m,\u001b[0m \u001b[0margs\u001b[0m\u001b[0;34m)\u001b[0m\u001b[0;34m\u001b[0m\u001b[0;34m\u001b[0m\u001b[0m\n\u001b[0;32m-> 4313\u001b[0;31m     \u001b[0;32mreturn\u001b[0m \u001b[0m_parallel_poly_from_expr\u001b[0m\u001b[0;34m(\u001b[0m\u001b[0mexprs\u001b[0m\u001b[0;34m,\u001b[0m \u001b[0mopt\u001b[0m\u001b[0;34m)\u001b[0m\u001b[0;34m\u001b[0m\u001b[0;34m\u001b[0m\u001b[0m\n\u001b[0m\u001b[1;32m   4314\u001b[0m \u001b[0;34m\u001b[0m\u001b[0m\n",
      "\u001b[0;32m/usr/local/lib/python3.7/site-packages/sympy/polys/polytools.py\u001b[0m in \u001b[0;36m_parallel_poly_from_expr\u001b[0;34m(exprs, opt)\u001b[0m\n\u001b[1;32m   4367\u001b[0m     \u001b[0;32mif\u001b[0m \u001b[0;32mnot\u001b[0m \u001b[0mopt\u001b[0m\u001b[0;34m.\u001b[0m\u001b[0mgens\u001b[0m\u001b[0;34m:\u001b[0m\u001b[0;34m\u001b[0m\u001b[0;34m\u001b[0m\u001b[0m\n\u001b[0;32m-> 4368\u001b[0;31m         \u001b[0;32mraise\u001b[0m \u001b[0mPolificationFailed\u001b[0m\u001b[0;34m(\u001b[0m\u001b[0mopt\u001b[0m\u001b[0;34m,\u001b[0m \u001b[0morigs\u001b[0m\u001b[0;34m,\u001b[0m \u001b[0mexprs\u001b[0m\u001b[0;34m,\u001b[0m \u001b[0;32mTrue\u001b[0m\u001b[0;34m)\u001b[0m\u001b[0;34m\u001b[0m\u001b[0;34m\u001b[0m\u001b[0m\n\u001b[0m\u001b[1;32m   4369\u001b[0m \u001b[0;34m\u001b[0m\u001b[0m\n",
      "\u001b[0;31mPolificationFailed\u001b[0m: can't construct polynomials from 1, 0",
      "\nDuring handling of the above exception, another exception occurred:\n",
      "\u001b[0;31mComputationFailed\u001b[0m                         Traceback (most recent call last)",
      "\u001b[0;32m<ipython-input-30-5f4b7f8fa550>\u001b[0m in \u001b[0;36m<module>\u001b[0;34m\u001b[0m\n\u001b[1;32m      6\u001b[0m         \u001b[0mprint\u001b[0m\u001b[0;34m(\u001b[0m\u001b[0mf\u001b[0m\u001b[0;34m[\u001b[0m\u001b[0mi\u001b[0m\u001b[0;34m,\u001b[0m\u001b[0mi\u001b[0m\u001b[0;34m]\u001b[0m\u001b[0;34m)\u001b[0m\u001b[0;34m\u001b[0m\u001b[0;34m\u001b[0m\u001b[0m\n\u001b[1;32m      7\u001b[0m         \u001b[0mprint\u001b[0m\u001b[0;34m(\u001b[0m\u001b[0mf\u001b[0m\u001b[0;34m[\u001b[0m\u001b[0mj\u001b[0m\u001b[0;34m,\u001b[0m\u001b[0mi\u001b[0m\u001b[0;34m]\u001b[0m\u001b[0;34m)\u001b[0m\u001b[0;34m\u001b[0m\u001b[0;34m\u001b[0m\u001b[0m\n\u001b[0;32m----> 8\u001b[0;31m         \u001b[0mprint\u001b[0m\u001b[0;34m(\u001b[0m\u001b[0msy\u001b[0m\u001b[0;34m.\u001b[0m\u001b[0mdiv\u001b[0m\u001b[0;34m(\u001b[0m\u001b[0mf\u001b[0m\u001b[0;34m[\u001b[0m\u001b[0mi\u001b[0m\u001b[0;34m,\u001b[0m\u001b[0mi\u001b[0m\u001b[0;34m]\u001b[0m\u001b[0;34m,\u001b[0m \u001b[0mf\u001b[0m\u001b[0;34m[\u001b[0m\u001b[0mj\u001b[0m\u001b[0;34m,\u001b[0m\u001b[0mi\u001b[0m\u001b[0;34m]\u001b[0m \u001b[0;34m,\u001b[0m \u001b[0mdomain\u001b[0m\u001b[0;34m=\u001b[0m\u001b[0;34m\"QQ\"\u001b[0m\u001b[0;34m)\u001b[0m\u001b[0;34m)\u001b[0m\u001b[0;34m\u001b[0m\u001b[0;34m\u001b[0m\u001b[0m\n\u001b[0m\u001b[1;32m      9\u001b[0m     \u001b[0;31m#for j in range(f.shape[1]):\u001b[0m\u001b[0;34m\u001b[0m\u001b[0;34m\u001b[0m\u001b[0;34m\u001b[0m\u001b[0m\n\u001b[1;32m     10\u001b[0m \u001b[0;34m\u001b[0m\u001b[0m\n",
      "\u001b[0;32m/usr/local/lib/python3.7/site-packages/sympy/polys/polytools.py\u001b[0m in \u001b[0;36mdiv\u001b[0;34m(f, g, *gens, **args)\u001b[0m\n\u001b[1;32m   4782\u001b[0m         \u001b[0;34m(\u001b[0m\u001b[0mF\u001b[0m\u001b[0;34m,\u001b[0m \u001b[0mG\u001b[0m\u001b[0;34m)\u001b[0m\u001b[0;34m,\u001b[0m \u001b[0mopt\u001b[0m \u001b[0;34m=\u001b[0m \u001b[0mparallel_poly_from_expr\u001b[0m\u001b[0;34m(\u001b[0m\u001b[0;34m(\u001b[0m\u001b[0mf\u001b[0m\u001b[0;34m,\u001b[0m \u001b[0mg\u001b[0m\u001b[0;34m)\u001b[0m\u001b[0;34m,\u001b[0m \u001b[0;34m*\u001b[0m\u001b[0mgens\u001b[0m\u001b[0;34m,\u001b[0m \u001b[0;34m**\u001b[0m\u001b[0margs\u001b[0m\u001b[0;34m)\u001b[0m\u001b[0;34m\u001b[0m\u001b[0;34m\u001b[0m\u001b[0m\n\u001b[1;32m   4783\u001b[0m     \u001b[0;32mexcept\u001b[0m \u001b[0mPolificationFailed\u001b[0m \u001b[0;32mas\u001b[0m \u001b[0mexc\u001b[0m\u001b[0;34m:\u001b[0m\u001b[0;34m\u001b[0m\u001b[0;34m\u001b[0m\u001b[0m\n\u001b[0;32m-> 4784\u001b[0;31m         \u001b[0;32mraise\u001b[0m \u001b[0mComputationFailed\u001b[0m\u001b[0;34m(\u001b[0m\u001b[0;34m'div'\u001b[0m\u001b[0;34m,\u001b[0m \u001b[0;36m2\u001b[0m\u001b[0;34m,\u001b[0m \u001b[0mexc\u001b[0m\u001b[0;34m)\u001b[0m\u001b[0;34m\u001b[0m\u001b[0;34m\u001b[0m\u001b[0m\n\u001b[0m\u001b[1;32m   4785\u001b[0m \u001b[0;34m\u001b[0m\u001b[0m\n\u001b[1;32m   4786\u001b[0m     \u001b[0mq\u001b[0m\u001b[0;34m,\u001b[0m \u001b[0mr\u001b[0m \u001b[0;34m=\u001b[0m \u001b[0mF\u001b[0m\u001b[0;34m.\u001b[0m\u001b[0mdiv\u001b[0m\u001b[0;34m(\u001b[0m\u001b[0mG\u001b[0m\u001b[0;34m,\u001b[0m \u001b[0mauto\u001b[0m\u001b[0;34m=\u001b[0m\u001b[0mopt\u001b[0m\u001b[0;34m.\u001b[0m\u001b[0mauto\u001b[0m\u001b[0;34m)\u001b[0m\u001b[0;34m\u001b[0m\u001b[0;34m\u001b[0m\u001b[0m\n",
      "\u001b[0;31mComputationFailed\u001b[0m: div(1, 0) failed without generators"
     ]
    }
   ],
   "source": [
    "nrow = f.shape[0]\n",
    "ncol = f.shape[1]\n",
    "print(f)\n",
    "for i in range(nrow):\n",
    "    for j in range(i+1, nrow):\n",
    "        print(f[i,i])\n",
    "        print(f[j,i])\n",
    "        print(sy.div(f[i,i], f[j,i] , domain=\"QQ\"))\n",
    "    #for j in range(f.shape[1]):\n",
    "        "
   ]
  },
  {
   "cell_type": "code",
   "execution_count": 117,
   "metadata": {},
   "outputs": [],
   "source": [
    "from graphviz import Graph, Digraph, Source"
   ]
  },
  {
   "cell_type": "code",
   "execution_count": 119,
   "metadata": {},
   "outputs": [
    {
     "data": {
      "image/svg+xml": [
       "<?xml version=\"1.0\" encoding=\"UTF-8\" standalone=\"no\"?>\n",
       "<!DOCTYPE svg PUBLIC \"-//W3C//DTD SVG 1.1//EN\"\n",
       " \"http://www.w3.org/Graphics/SVG/1.1/DTD/svg11.dtd\">\n",
       "<!-- Generated by graphviz version 2.40.1 (20161225.0304)\n",
       " -->\n",
       "<!-- Title: %3 Pages: 1 -->\n",
       "<svg width=\"134pt\" height=\"116pt\"\n",
       " viewBox=\"0.00 0.00 134.00 116.00\" xmlns=\"http://www.w3.org/2000/svg\" xmlns:xlink=\"http://www.w3.org/1999/xlink\">\n",
       "<g id=\"graph0\" class=\"graph\" transform=\"scale(1 1) rotate(0) translate(4 112)\">\n",
       "<title>%3</title>\n",
       "<polygon fill=\"#ffffff\" stroke=\"transparent\" points=\"-4,4 -4,-112 130,-112 130,4 -4,4\"/>\n",
       "<!-- Mul(Integer(2), Symbol(t))_() -->\n",
       "<g id=\"node1\" class=\"node\">\n",
       "<title>Mul(Integer(2), Symbol(t))_()</title>\n",
       "<ellipse fill=\"none\" stroke=\"#000000\" cx=\"63\" cy=\"-90\" rx=\"27\" ry=\"18\"/>\n",
       "<text text-anchor=\"middle\" x=\"63\" y=\"-85.8\" font-family=\"Times,serif\" font-size=\"14.00\" fill=\"#000000\">Mul</text>\n",
       "</g>\n",
       "<!-- Integer(2)_(0,) -->\n",
       "<g id=\"node2\" class=\"node\">\n",
       "<title>Integer(2)_(0,)</title>\n",
       "<ellipse fill=\"none\" stroke=\"#000000\" cx=\"27\" cy=\"-18\" rx=\"27\" ry=\"18\"/>\n",
       "<text text-anchor=\"middle\" x=\"27\" y=\"-13.8\" font-family=\"Times,serif\" font-size=\"14.00\" fill=\"#000000\">2</text>\n",
       "</g>\n",
       "<!-- Mul(Integer(2), Symbol(t))_()&#45;&gt;Integer(2)_(0,) -->\n",
       "<g id=\"edge1\" class=\"edge\">\n",
       "<title>Mul(Integer(2), Symbol(t))_()&#45;&gt;Integer(2)_(0,)</title>\n",
       "<path fill=\"none\" stroke=\"#000000\" d=\"M54.2854,-72.5708C50.0403,-64.0807 44.8464,-53.6929 40.1337,-44.2674\"/>\n",
       "<polygon fill=\"#000000\" stroke=\"#000000\" points=\"43.237,-42.6477 35.6343,-35.2687 36.976,-45.7782 43.237,-42.6477\"/>\n",
       "</g>\n",
       "<!-- Symbol(t)_(1,) -->\n",
       "<g id=\"node3\" class=\"node\">\n",
       "<title>Symbol(t)_(1,)</title>\n",
       "<ellipse fill=\"none\" stroke=\"#000000\" cx=\"99\" cy=\"-18\" rx=\"27\" ry=\"18\"/>\n",
       "<text text-anchor=\"middle\" x=\"99\" y=\"-13.8\" font-family=\"Times,serif\" font-size=\"14.00\" fill=\"#000000\">t</text>\n",
       "</g>\n",
       "<!-- Mul(Integer(2), Symbol(t))_()&#45;&gt;Symbol(t)_(1,) -->\n",
       "<g id=\"edge2\" class=\"edge\">\n",
       "<title>Mul(Integer(2), Symbol(t))_()&#45;&gt;Symbol(t)_(1,)</title>\n",
       "<path fill=\"none\" stroke=\"#000000\" d=\"M71.7146,-72.5708C75.9597,-64.0807 81.1536,-53.6929 85.8663,-44.2674\"/>\n",
       "<polygon fill=\"#000000\" stroke=\"#000000\" points=\"89.024,-45.7782 90.3657,-35.2687 82.763,-42.6477 89.024,-45.7782\"/>\n",
       "</g>\n",
       "</g>\n",
       "</svg>\n"
      ],
      "text/plain": [
       "<graphviz.files.Source at 0x105d599d0>"
      ]
     },
     "execution_count": 119,
     "metadata": {},
     "output_type": "execute_result"
    }
   ],
   "source": [
    "#print(sy.dotprint(2*t))\n",
    "Source(sy.dotprint(2*t))"
   ]
  },
  {
   "cell_type": "code",
   "execution_count": 11,
   "metadata": {},
   "outputs": [
    {
     "data": {
      "text/plain": [
       "0"
      ]
     },
     "execution_count": 11,
     "metadata": {},
     "output_type": "execute_result"
    }
   ],
   "source": [
    "sy.singleton.S.Zero"
   ]
  },
  {
   "cell_type": "code",
   "execution_count": 29,
   "metadata": {},
   "outputs": [
    {
     "name": "stdout",
     "output_type": "stream",
     "text": [
      "q(t)\n",
      "t\n",
      "q(t)\n",
      "t\n",
      "q(t)\n",
      "t\n",
      "<bound method AtomicExpr._eval_derivative of t>\n",
      "q(t)\n",
      "t\n",
      "False\n",
      "q(t)\n",
      "t\n",
      "False\n",
      "q(t)\n",
      "t\n",
      "False\n",
      "dirv\n",
      "q(_u)\n",
      "_xi_0\n",
      "False\n"
     ]
    },
    {
     "data": {
      "text/plain": [
       "Integral(0, t)"
      ]
     },
     "execution_count": 29,
     "metadata": {},
     "output_type": "execute_result"
    }
   ],
   "source": [
    "q = sy.Function(\"q\")\n",
    "t = sy.Symbol(\"t\")\n",
    "t2 = sy.Symbol(\"t2\")\n",
    "i = sy.integrate(q(t),t)\n",
    "sy.diff(i, q(t))\n",
    "print(t._eval_derivative)\n",
    "def funderiv(self,s):\n",
    "    print(self)\n",
    "    print(s)\n",
    "    print(s.func == self.func)\n",
    "    if sEq(s.func ,self.func):\n",
    "        print(sy.DiracDelta(s.args[0] - self.args[0]))\n",
    "        return sy.DiracDelta(s.args[0] - self.args[0])\n",
    "    if self.args[0] == s:\n",
    "        return sy.Derivative(self, s)\n",
    "    else:\n",
    "        return sy.singleton.S.Zero\n",
    "\n",
    "q._eval_derivative = funderiv\n",
    "i = sy.integrate(q(t),t)\n",
    "'''q    def _eval_derivative(self, s):\n",
    "        if self == s:\n",
    "            return S.One\n",
    "        return S.Zero\n",
    "'''\n",
    "i\n",
    "print(\"dirv\")\n",
    "i._eval_derivative(q(t2))\n",
    "#sy.Delta(0)"
   ]
  },
  {
   "cell_type": "code",
   "execution_count": 147,
   "metadata": {},
   "outputs": [
    {
     "name": "stdout",
     "output_type": "stream",
     "text": [
      "Integral((dq(t) + q(t))**2 + Derivative(dq(t) + q(t), t)**2, t) - Integral(q(t)**2 + Derivative(q(t), t)**2, t)\n",
      "None\n"
     ]
    },
    {
     "data": {
      "image/svg+xml": [
       "<?xml version=\"1.0\" encoding=\"UTF-8\" standalone=\"no\"?>\n",
       "<!DOCTYPE svg PUBLIC \"-//W3C//DTD SVG 1.1//EN\"\n",
       " \"http://www.w3.org/Graphics/SVG/1.1/DTD/svg11.dtd\">\n",
       "<!-- Generated by graphviz version 2.40.1 (20161225.0304)\n",
       " -->\n",
       "<!-- Title: %3 Pages: 1 -->\n",
       "<svg width=\"767pt\" height=\"548pt\"\n",
       " viewBox=\"0.00 0.00 767.00 548.00\" xmlns=\"http://www.w3.org/2000/svg\" xmlns:xlink=\"http://www.w3.org/1999/xlink\">\n",
       "<g id=\"graph0\" class=\"graph\" transform=\"scale(1 1) rotate(0) translate(4 544)\">\n",
       "<title>%3</title>\n",
       "<polygon fill=\"#ffffff\" stroke=\"transparent\" points=\"-4,4 -4,-544 763,-544 763,4 -4,4\"/>\n",
       "<!-- Add(Integral(Add(Pow(Add(dq(Symbol(t)), q(Symbol(t))), Integer(2)), Pow(Derivative(Add(dq(Symbol(t)), q(Symbol(t))), Tuple(Symbol(t), One())), Integer(2))), Tuple(Symbol(t))), Mul(NegativeOne(), Integral(Add(Pow(q(Symbol(t)), Integer(2)), Pow(Derivative(q(Symbol(t)), Tuple(Symbol(t), One())), Integer(2))), Tuple(Symbol(t)))))_() -->\n",
       "<g id=\"node1\" class=\"node\">\n",
       "<title>Add(Integral(Add(Pow(Add(dq(Symbol(t)), q(Symbol(t))), Integer(2)), Pow(Derivative(Add(dq(Symbol(t)), q(Symbol(t))), Tuple(Symbol(t), One())), Integer(2))), Tuple(Symbol(t))), Mul(NegativeOne(), Integral(Add(Pow(q(Symbol(t)), Integer(2)), Pow(Derivative(q(Symbol(t)), Tuple(Symbol(t), One())), Integer(2))), Tuple(Symbol(t)))))_()</title>\n",
       "<ellipse fill=\"none\" stroke=\"#000000\" cx=\"415\" cy=\"-522\" rx=\"27\" ry=\"18\"/>\n",
       "<text text-anchor=\"middle\" x=\"415\" y=\"-517.8\" font-family=\"Times,serif\" font-size=\"14.00\" fill=\"#000000\">Add</text>\n",
       "</g>\n",
       "<!-- Mul(NegativeOne(), Integral(Add(Pow(q(Symbol(t)), Integer(2)), Pow(Derivative(q(Symbol(t)), Tuple(Symbol(t), One())), Integer(2))), Tuple(Symbol(t))))_(0,) -->\n",
       "<g id=\"node2\" class=\"node\">\n",
       "<title>Mul(NegativeOne(), Integral(Add(Pow(q(Symbol(t)), Integer(2)), Pow(Derivative(q(Symbol(t)), Tuple(Symbol(t), One())), Integer(2))), Tuple(Symbol(t))))_(0,)</title>\n",
       "<ellipse fill=\"none\" stroke=\"#000000\" cx=\"315\" cy=\"-450\" rx=\"27\" ry=\"18\"/>\n",
       "<text text-anchor=\"middle\" x=\"315\" y=\"-445.8\" font-family=\"Times,serif\" font-size=\"14.00\" fill=\"#000000\">Mul</text>\n",
       "</g>\n",
       "<!-- Add(Integral(Add(Pow(Add(dq(Symbol(t)), q(Symbol(t))), Integer(2)), Pow(Derivative(Add(dq(Symbol(t)), q(Symbol(t))), Tuple(Symbol(t), One())), Integer(2))), Tuple(Symbol(t))), Mul(NegativeOne(), Integral(Add(Pow(q(Symbol(t)), Integer(2)), Pow(Derivative(q(Symbol(t)), Tuple(Symbol(t), One())), Integer(2))), Tuple(Symbol(t)))))_()&#45;&gt;Mul(NegativeOne(), Integral(Add(Pow(q(Symbol(t)), Integer(2)), Pow(Derivative(q(Symbol(t)), Tuple(Symbol(t), One())), Integer(2))), Tuple(Symbol(t))))_(0,) -->\n",
       "<g id=\"edge1\" class=\"edge\">\n",
       "<title>Add(Integral(Add(Pow(Add(dq(Symbol(t)), q(Symbol(t))), Integer(2)), Pow(Derivative(Add(dq(Symbol(t)), q(Symbol(t))), Tuple(Symbol(t), One())), Integer(2))), Tuple(Symbol(t))), Mul(NegativeOne(), Integral(Add(Pow(q(Symbol(t)), Integer(2)), Pow(Derivative(q(Symbol(t)), Tuple(Symbol(t), One())), Integer(2))), Tuple(Symbol(t)))))_()&#45;&gt;Mul(NegativeOne(), Integral(Add(Pow(q(Symbol(t)), Integer(2)), Pow(Derivative(q(Symbol(t)), Tuple(Symbol(t), One())), Integer(2))), Tuple(Symbol(t))))_(0,)</title>\n",
       "<path fill=\"none\" stroke=\"#000000\" d=\"M396.1908,-508.4574C380.8698,-497.4263 359.0434,-481.7113 341.8789,-469.3528\"/>\n",
       "<polygon fill=\"#000000\" stroke=\"#000000\" points=\"343.5475,-466.2414 333.387,-463.2387 339.4573,-471.9221 343.5475,-466.2414\"/>\n",
       "</g>\n",
       "<!-- Integral(Add(Pow(Add(dq(Symbol(t)), q(Symbol(t))), Integer(2)), Pow(Derivative(Add(dq(Symbol(t)), q(Symbol(t))), Tuple(Symbol(t), One())), Integer(2))), Tuple(Symbol(t)))_(1,) -->\n",
       "<g id=\"node20\" class=\"node\">\n",
       "<title>Integral(Add(Pow(Add(dq(Symbol(t)), q(Symbol(t))), Integer(2)), Pow(Derivative(Add(dq(Symbol(t)), q(Symbol(t))), Tuple(Symbol(t), One())), Integer(2))), Tuple(Symbol(t)))_(1,)</title>\n",
       "<ellipse fill=\"none\" stroke=\"#000000\" cx=\"516\" cy=\"-450\" rx=\"37.7092\" ry=\"18\"/>\n",
       "<text text-anchor=\"middle\" x=\"516\" y=\"-445.8\" font-family=\"Times,serif\" font-size=\"14.00\" fill=\"#000000\">Integral</text>\n",
       "</g>\n",
       "<!-- Add(Integral(Add(Pow(Add(dq(Symbol(t)), q(Symbol(t))), Integer(2)), Pow(Derivative(Add(dq(Symbol(t)), q(Symbol(t))), Tuple(Symbol(t), One())), Integer(2))), Tuple(Symbol(t))), Mul(NegativeOne(), Integral(Add(Pow(q(Symbol(t)), Integer(2)), Pow(Derivative(q(Symbol(t)), Tuple(Symbol(t), One())), Integer(2))), Tuple(Symbol(t)))))_()&#45;&gt;Integral(Add(Pow(Add(dq(Symbol(t)), q(Symbol(t))), Integer(2)), Pow(Derivative(Add(dq(Symbol(t)), q(Symbol(t))), Tuple(Symbol(t), One())), Integer(2))), Tuple(Symbol(t)))_(1,) -->\n",
       "<g id=\"edge2\" class=\"edge\">\n",
       "<title>Add(Integral(Add(Pow(Add(dq(Symbol(t)), q(Symbol(t))), Integer(2)), Pow(Derivative(Add(dq(Symbol(t)), q(Symbol(t))), Tuple(Symbol(t), One())), Integer(2))), Tuple(Symbol(t))), Mul(NegativeOne(), Integral(Add(Pow(q(Symbol(t)), Integer(2)), Pow(Derivative(q(Symbol(t)), Tuple(Symbol(t), One())), Integer(2))), Tuple(Symbol(t)))))_()&#45;&gt;Integral(Add(Pow(Add(dq(Symbol(t)), q(Symbol(t))), Integer(2)), Pow(Derivative(Add(dq(Symbol(t)), q(Symbol(t))), Tuple(Symbol(t), One())), Integer(2))), Tuple(Symbol(t)))_(1,)</title>\n",
       "<path fill=\"none\" stroke=\"#000000\" d=\"M433.525,-508.7941C448.2676,-498.2845 469.1865,-483.372 486.2672,-471.1957\"/>\n",
       "<polygon fill=\"#000000\" stroke=\"#000000\" points=\"488.6852,-473.7703 494.7963,-465.1155 484.6218,-468.0703 488.6852,-473.7703\"/>\n",
       "</g>\n",
       "<!-- NegativeOne()_(0, 0) -->\n",
       "<g id=\"node3\" class=\"node\">\n",
       "<title>NegativeOne()_(0, 0)</title>\n",
       "<ellipse fill=\"none\" stroke=\"#000000\" cx=\"232\" cy=\"-378\" rx=\"27\" ry=\"18\"/>\n",
       "<text text-anchor=\"middle\" x=\"232\" y=\"-373.8\" font-family=\"Times,serif\" font-size=\"14.00\" fill=\"#000000\">&#45;1</text>\n",
       "</g>\n",
       "<!-- Mul(NegativeOne(), Integral(Add(Pow(q(Symbol(t)), Integer(2)), Pow(Derivative(q(Symbol(t)), Tuple(Symbol(t), One())), Integer(2))), Tuple(Symbol(t))))_(0,)&#45;&gt;NegativeOne()_(0, 0) -->\n",
       "<g id=\"edge3\" class=\"edge\">\n",
       "<title>Mul(NegativeOne(), Integral(Add(Pow(q(Symbol(t)), Integer(2)), Pow(Derivative(q(Symbol(t)), Tuple(Symbol(t), One())), Integer(2))), Tuple(Symbol(t))))_(0,)&#45;&gt;NegativeOne()_(0, 0)</title>\n",
       "<path fill=\"none\" stroke=\"#000000\" d=\"M298.2037,-435.4297C286.2002,-425.017 269.8613,-410.8435 256.4189,-399.1827\"/>\n",
       "<polygon fill=\"#000000\" stroke=\"#000000\" points=\"258.3354,-396.2118 248.4881,-392.3029 253.7485,-401.4996 258.3354,-396.2118\"/>\n",
       "</g>\n",
       "<!-- Integral(Add(Pow(q(Symbol(t)), Integer(2)), Pow(Derivative(q(Symbol(t)), Tuple(Symbol(t), One())), Integer(2))), Tuple(Symbol(t)))_(0, 1) -->\n",
       "<g id=\"node4\" class=\"node\">\n",
       "<title>Integral(Add(Pow(q(Symbol(t)), Integer(2)), Pow(Derivative(q(Symbol(t)), Tuple(Symbol(t), One())), Integer(2))), Tuple(Symbol(t)))_(0, 1)</title>\n",
       "<ellipse fill=\"none\" stroke=\"#000000\" cx=\"315\" cy=\"-378\" rx=\"37.7092\" ry=\"18\"/>\n",
       "<text text-anchor=\"middle\" x=\"315\" y=\"-373.8\" font-family=\"Times,serif\" font-size=\"14.00\" fill=\"#000000\">Integral</text>\n",
       "</g>\n",
       "<!-- Mul(NegativeOne(), Integral(Add(Pow(q(Symbol(t)), Integer(2)), Pow(Derivative(q(Symbol(t)), Tuple(Symbol(t), One())), Integer(2))), Tuple(Symbol(t))))_(0,)&#45;&gt;Integral(Add(Pow(q(Symbol(t)), Integer(2)), Pow(Derivative(q(Symbol(t)), Tuple(Symbol(t), One())), Integer(2))), Tuple(Symbol(t)))_(0, 1) -->\n",
       "<g id=\"edge4\" class=\"edge\">\n",
       "<title>Mul(NegativeOne(), Integral(Add(Pow(q(Symbol(t)), Integer(2)), Pow(Derivative(q(Symbol(t)), Tuple(Symbol(t), One())), Integer(2))), Tuple(Symbol(t))))_(0,)&#45;&gt;Integral(Add(Pow(q(Symbol(t)), Integer(2)), Pow(Derivative(q(Symbol(t)), Tuple(Symbol(t), One())), Integer(2))), Tuple(Symbol(t)))_(0, 1)</title>\n",
       "<path fill=\"none\" stroke=\"#000000\" d=\"M315,-431.8314C315,-424.131 315,-414.9743 315,-406.4166\"/>\n",
       "<polygon fill=\"#000000\" stroke=\"#000000\" points=\"318.5001,-406.4132 315,-396.4133 311.5001,-406.4133 318.5001,-406.4132\"/>\n",
       "</g>\n",
       "<!-- Add(Pow(q(Symbol(t)), Integer(2)), Pow(Derivative(q(Symbol(t)), Tuple(Symbol(t), One())), Integer(2)))_(0, 1, 0) -->\n",
       "<g id=\"node5\" class=\"node\">\n",
       "<title>Add(Pow(q(Symbol(t)), Integer(2)), Pow(Derivative(q(Symbol(t)), Tuple(Symbol(t), One())), Integer(2)))_(0, 1, 0)</title>\n",
       "<ellipse fill=\"none\" stroke=\"#000000\" cx=\"234\" cy=\"-306\" rx=\"27\" ry=\"18\"/>\n",
       "<text text-anchor=\"middle\" x=\"234\" y=\"-301.8\" font-family=\"Times,serif\" font-size=\"14.00\" fill=\"#000000\">Add</text>\n",
       "</g>\n",
       "<!-- Integral(Add(Pow(q(Symbol(t)), Integer(2)), Pow(Derivative(q(Symbol(t)), Tuple(Symbol(t), One())), Integer(2))), Tuple(Symbol(t)))_(0, 1)&#45;&gt;Add(Pow(q(Symbol(t)), Integer(2)), Pow(Derivative(q(Symbol(t)), Tuple(Symbol(t), One())), Integer(2)))_(0, 1, 0) -->\n",
       "<g id=\"edge5\" class=\"edge\">\n",
       "<title>Integral(Add(Pow(q(Symbol(t)), Integer(2)), Pow(Derivative(q(Symbol(t)), Tuple(Symbol(t), One())), Integer(2))), Tuple(Symbol(t)))_(0, 1)&#45;&gt;Add(Pow(q(Symbol(t)), Integer(2)), Pow(Derivative(q(Symbol(t)), Tuple(Symbol(t), One())), Integer(2)))_(0, 1, 0)</title>\n",
       "<path fill=\"none\" stroke=\"#000000\" d=\"M297.0235,-362.0209C285.5536,-351.8254 270.5496,-338.4886 258.0588,-327.3856\"/>\n",
       "<polygon fill=\"#000000\" stroke=\"#000000\" points=\"260.0753,-324.4952 250.2759,-320.4674 255.4247,-329.7271 260.0753,-324.4952\"/>\n",
       "</g>\n",
       "<!-- Tuple(Symbol(t))_(0, 1, 1) -->\n",
       "<g id=\"node18\" class=\"node\">\n",
       "<title>Tuple(Symbol(t))_(0, 1, 1)</title>\n",
       "<ellipse fill=\"none\" stroke=\"#0000ff\" cx=\"315\" cy=\"-306\" rx=\"30.3558\" ry=\"18\"/>\n",
       "<text text-anchor=\"middle\" x=\"315\" y=\"-301.8\" font-family=\"Times,serif\" font-size=\"14.00\" fill=\"#000000\">Tuple</text>\n",
       "</g>\n",
       "<!-- Integral(Add(Pow(q(Symbol(t)), Integer(2)), Pow(Derivative(q(Symbol(t)), Tuple(Symbol(t), One())), Integer(2))), Tuple(Symbol(t)))_(0, 1)&#45;&gt;Tuple(Symbol(t))_(0, 1, 1) -->\n",
       "<g id=\"edge6\" class=\"edge\">\n",
       "<title>Integral(Add(Pow(q(Symbol(t)), Integer(2)), Pow(Derivative(q(Symbol(t)), Tuple(Symbol(t), One())), Integer(2))), Tuple(Symbol(t)))_(0, 1)&#45;&gt;Tuple(Symbol(t))_(0, 1, 1)</title>\n",
       "<path fill=\"none\" stroke=\"#000000\" d=\"M315,-359.8314C315,-352.131 315,-342.9743 315,-334.4166\"/>\n",
       "<polygon fill=\"#000000\" stroke=\"#000000\" points=\"318.5001,-334.4132 315,-324.4133 311.5001,-334.4133 318.5001,-334.4132\"/>\n",
       "</g>\n",
       "<!-- Pow(Derivative(q(Symbol(t)), Tuple(Symbol(t), One())), Integer(2))_(0, 1, 0, 0) -->\n",
       "<g id=\"node6\" class=\"node\">\n",
       "<title>Pow(Derivative(q(Symbol(t)), Tuple(Symbol(t), One())), Integer(2))_(0, 1, 0, 0)</title>\n",
       "<ellipse fill=\"none\" stroke=\"#000000\" cx=\"156\" cy=\"-234\" rx=\"27\" ry=\"18\"/>\n",
       "<text text-anchor=\"middle\" x=\"156\" y=\"-229.8\" font-family=\"Times,serif\" font-size=\"14.00\" fill=\"#000000\">Pow</text>\n",
       "</g>\n",
       "<!-- Add(Pow(q(Symbol(t)), Integer(2)), Pow(Derivative(q(Symbol(t)), Tuple(Symbol(t), One())), Integer(2)))_(0, 1, 0)&#45;&gt;Pow(Derivative(q(Symbol(t)), Tuple(Symbol(t), One())), Integer(2))_(0, 1, 0, 0) -->\n",
       "<g id=\"edge7\" class=\"edge\">\n",
       "<title>Add(Pow(q(Symbol(t)), Integer(2)), Pow(Derivative(q(Symbol(t)), Tuple(Symbol(t), One())), Integer(2)))_(0, 1, 0)&#45;&gt;Pow(Derivative(q(Symbol(t)), Tuple(Symbol(t), One())), Integer(2))_(0, 1, 0, 0)</title>\n",
       "<path fill=\"none\" stroke=\"#000000\" d=\"M217.8383,-291.0816C206.6786,-280.7802 191.6666,-266.923 179.2285,-255.4417\"/>\n",
       "<polygon fill=\"#000000\" stroke=\"#000000\" points=\"181.5961,-252.864 171.8741,-248.653 176.8481,-258.0076 181.5961,-252.864\"/>\n",
       "</g>\n",
       "<!-- Pow(q(Symbol(t)), Integer(2))_(0, 1, 0, 1) -->\n",
       "<g id=\"node14\" class=\"node\">\n",
       "<title>Pow(q(Symbol(t)), Integer(2))_(0, 1, 0, 1)</title>\n",
       "<ellipse fill=\"none\" stroke=\"#000000\" cx=\"234\" cy=\"-234\" rx=\"27\" ry=\"18\"/>\n",
       "<text text-anchor=\"middle\" x=\"234\" y=\"-229.8\" font-family=\"Times,serif\" font-size=\"14.00\" fill=\"#000000\">Pow</text>\n",
       "</g>\n",
       "<!-- Add(Pow(q(Symbol(t)), Integer(2)), Pow(Derivative(q(Symbol(t)), Tuple(Symbol(t), One())), Integer(2)))_(0, 1, 0)&#45;&gt;Pow(q(Symbol(t)), Integer(2))_(0, 1, 0, 1) -->\n",
       "<g id=\"edge8\" class=\"edge\">\n",
       "<title>Add(Pow(q(Symbol(t)), Integer(2)), Pow(Derivative(q(Symbol(t)), Tuple(Symbol(t), One())), Integer(2)))_(0, 1, 0)&#45;&gt;Pow(q(Symbol(t)), Integer(2))_(0, 1, 0, 1)</title>\n",
       "<path fill=\"none\" stroke=\"#000000\" d=\"M234,-287.8314C234,-280.131 234,-270.9743 234,-262.4166\"/>\n",
       "<polygon fill=\"#000000\" stroke=\"#000000\" points=\"237.5001,-262.4132 234,-252.4133 230.5001,-262.4133 237.5001,-262.4132\"/>\n",
       "</g>\n",
       "<!-- Derivative(q(Symbol(t)), Tuple(Symbol(t), One()))_(0, 1, 0, 0, 0) -->\n",
       "<g id=\"node7\" class=\"node\">\n",
       "<title>Derivative(q(Symbol(t)), Tuple(Symbol(t), One()))_(0, 1, 0, 0, 0)</title>\n",
       "<ellipse fill=\"none\" stroke=\"#000000\" cx=\"64\" cy=\"-162\" rx=\"47.3564\" ry=\"18\"/>\n",
       "<text text-anchor=\"middle\" x=\"64\" y=\"-157.8\" font-family=\"Times,serif\" font-size=\"14.00\" fill=\"#000000\">Derivative</text>\n",
       "</g>\n",
       "<!-- Pow(Derivative(q(Symbol(t)), Tuple(Symbol(t), One())), Integer(2))_(0, 1, 0, 0)&#45;&gt;Derivative(q(Symbol(t)), Tuple(Symbol(t), One()))_(0, 1, 0, 0, 0) -->\n",
       "<g id=\"edge9\" class=\"edge\">\n",
       "<title>Pow(Derivative(q(Symbol(t)), Tuple(Symbol(t), One())), Integer(2))_(0, 1, 0, 0)&#45;&gt;Derivative(q(Symbol(t)), Tuple(Symbol(t), One()))_(0, 1, 0, 0, 0)</title>\n",
       "<path fill=\"none\" stroke=\"#000000\" d=\"M138.2615,-220.1177C125.397,-210.0498 107.7177,-196.2139 92.8363,-184.5675\"/>\n",
       "<polygon fill=\"#000000\" stroke=\"#000000\" points=\"94.9371,-181.7673 84.905,-178.3604 90.623,-187.2798 94.9371,-181.7673\"/>\n",
       "</g>\n",
       "<!-- Integer(2)_(0, 1, 0, 0, 1) -->\n",
       "<g id=\"node13\" class=\"node\">\n",
       "<title>Integer(2)_(0, 1, 0, 0, 1)</title>\n",
       "<ellipse fill=\"none\" stroke=\"#000000\" cx=\"156\" cy=\"-162\" rx=\"27\" ry=\"18\"/>\n",
       "<text text-anchor=\"middle\" x=\"156\" y=\"-157.8\" font-family=\"Times,serif\" font-size=\"14.00\" fill=\"#000000\">2</text>\n",
       "</g>\n",
       "<!-- Pow(Derivative(q(Symbol(t)), Tuple(Symbol(t), One())), Integer(2))_(0, 1, 0, 0)&#45;&gt;Integer(2)_(0, 1, 0, 0, 1) -->\n",
       "<g id=\"edge10\" class=\"edge\">\n",
       "<title>Pow(Derivative(q(Symbol(t)), Tuple(Symbol(t), One())), Integer(2))_(0, 1, 0, 0)&#45;&gt;Integer(2)_(0, 1, 0, 0, 1)</title>\n",
       "<path fill=\"none\" stroke=\"#000000\" d=\"M156,-215.8314C156,-208.131 156,-198.9743 156,-190.4166\"/>\n",
       "<polygon fill=\"#000000\" stroke=\"#000000\" points=\"159.5001,-190.4132 156,-180.4133 152.5001,-190.4133 159.5001,-190.4132\"/>\n",
       "</g>\n",
       "<!-- q(Symbol(t))_(0, 1, 0, 0, 0, 0) -->\n",
       "<g id=\"node8\" class=\"node\">\n",
       "<title>q(Symbol(t))_(0, 1, 0, 0, 0, 0)</title>\n",
       "<ellipse fill=\"none\" stroke=\"#000000\" cx=\"27\" cy=\"-90\" rx=\"27\" ry=\"18\"/>\n",
       "<text text-anchor=\"middle\" x=\"27\" y=\"-85.8\" font-family=\"Times,serif\" font-size=\"14.00\" fill=\"#000000\">q</text>\n",
       "</g>\n",
       "<!-- Derivative(q(Symbol(t)), Tuple(Symbol(t), One()))_(0, 1, 0, 0, 0)&#45;&gt;q(Symbol(t))_(0, 1, 0, 0, 0, 0) -->\n",
       "<g id=\"edge11\" class=\"edge\">\n",
       "<title>Derivative(q(Symbol(t)), Tuple(Symbol(t), One()))_(0, 1, 0, 0, 0)&#45;&gt;q(Symbol(t))_(0, 1, 0, 0, 0, 0)</title>\n",
       "<path fill=\"none\" stroke=\"#000000\" d=\"M54.8539,-144.2022C50.4883,-135.7071 45.1797,-125.3767 40.3726,-116.0223\"/>\n",
       "<polygon fill=\"#000000\" stroke=\"#000000\" points=\"43.4698,-114.3918 35.7861,-107.0972 37.2438,-117.5913 43.4698,-114.3918\"/>\n",
       "</g>\n",
       "<!-- Tuple(Symbol(t), One())_(0, 1, 0, 0, 0, 1) -->\n",
       "<g id=\"node10\" class=\"node\">\n",
       "<title>Tuple(Symbol(t), One())_(0, 1, 0, 0, 0, 1)</title>\n",
       "<ellipse fill=\"none\" stroke=\"#0000ff\" cx=\"102\" cy=\"-90\" rx=\"30.3558\" ry=\"18\"/>\n",
       "<text text-anchor=\"middle\" x=\"102\" y=\"-85.8\" font-family=\"Times,serif\" font-size=\"14.00\" fill=\"#000000\">Tuple</text>\n",
       "</g>\n",
       "<!-- Derivative(q(Symbol(t)), Tuple(Symbol(t), One()))_(0, 1, 0, 0, 0)&#45;&gt;Tuple(Symbol(t), One())_(0, 1, 0, 0, 0, 1) -->\n",
       "<g id=\"edge12\" class=\"edge\">\n",
       "<title>Derivative(q(Symbol(t)), Tuple(Symbol(t), One()))_(0, 1, 0, 0, 0)&#45;&gt;Tuple(Symbol(t), One())_(0, 1, 0, 0, 0, 1)</title>\n",
       "<path fill=\"none\" stroke=\"#000000\" d=\"M73.3933,-144.2022C77.8439,-135.7695 83.2488,-125.5285 88.157,-116.2288\"/>\n",
       "<polygon fill=\"#000000\" stroke=\"#000000\" points=\"91.2736,-117.8221 92.8459,-107.3446 85.0829,-114.5548 91.2736,-117.8221\"/>\n",
       "</g>\n",
       "<!-- Symbol(t)_(0, 1, 0, 0, 0, 0, 0) -->\n",
       "<g id=\"node9\" class=\"node\">\n",
       "<title>Symbol(t)_(0, 1, 0, 0, 0, 0, 0)</title>\n",
       "<ellipse fill=\"none\" stroke=\"#000000\" cx=\"27\" cy=\"-18\" rx=\"27\" ry=\"18\"/>\n",
       "<text text-anchor=\"middle\" x=\"27\" y=\"-13.8\" font-family=\"Times,serif\" font-size=\"14.00\" fill=\"#000000\">t</text>\n",
       "</g>\n",
       "<!-- q(Symbol(t))_(0, 1, 0, 0, 0, 0)&#45;&gt;Symbol(t)_(0, 1, 0, 0, 0, 0, 0) -->\n",
       "<g id=\"edge13\" class=\"edge\">\n",
       "<title>q(Symbol(t))_(0, 1, 0, 0, 0, 0)&#45;&gt;Symbol(t)_(0, 1, 0, 0, 0, 0, 0)</title>\n",
       "<path fill=\"none\" stroke=\"#000000\" d=\"M27,-71.8314C27,-64.131 27,-54.9743 27,-46.4166\"/>\n",
       "<polygon fill=\"#000000\" stroke=\"#000000\" points=\"30.5001,-46.4132 27,-36.4133 23.5001,-46.4133 30.5001,-46.4132\"/>\n",
       "</g>\n",
       "<!-- Symbol(t)_(0, 1, 0, 0, 0, 1, 0) -->\n",
       "<g id=\"node11\" class=\"node\">\n",
       "<title>Symbol(t)_(0, 1, 0, 0, 0, 1, 0)</title>\n",
       "<ellipse fill=\"none\" stroke=\"#000000\" cx=\"101\" cy=\"-18\" rx=\"27\" ry=\"18\"/>\n",
       "<text text-anchor=\"middle\" x=\"101\" y=\"-13.8\" font-family=\"Times,serif\" font-size=\"14.00\" fill=\"#000000\">t</text>\n",
       "</g>\n",
       "<!-- Tuple(Symbol(t), One())_(0, 1, 0, 0, 0, 1)&#45;&gt;Symbol(t)_(0, 1, 0, 0, 0, 1, 0) -->\n",
       "<g id=\"edge14\" class=\"edge\">\n",
       "<title>Tuple(Symbol(t), One())_(0, 1, 0, 0, 0, 1)&#45;&gt;Symbol(t)_(0, 1, 0, 0, 0, 1, 0)</title>\n",
       "<path fill=\"none\" stroke=\"#000000\" d=\"M101.7477,-71.8314C101.6407,-64.131 101.5135,-54.9743 101.3947,-46.4166\"/>\n",
       "<polygon fill=\"#000000\" stroke=\"#000000\" points=\"104.8944,-46.3637 101.2557,-36.4133 97.8951,-46.4609 104.8944,-46.3637\"/>\n",
       "</g>\n",
       "<!-- One()_(0, 1, 0, 0, 0, 1, 1) -->\n",
       "<g id=\"node12\" class=\"node\">\n",
       "<title>One()_(0, 1, 0, 0, 0, 1, 1)</title>\n",
       "<ellipse fill=\"none\" stroke=\"#000000\" cx=\"173\" cy=\"-18\" rx=\"27\" ry=\"18\"/>\n",
       "<text text-anchor=\"middle\" x=\"173\" y=\"-13.8\" font-family=\"Times,serif\" font-size=\"14.00\" fill=\"#000000\">1</text>\n",
       "</g>\n",
       "<!-- Tuple(Symbol(t), One())_(0, 1, 0, 0, 0, 1)&#45;&gt;One()_(0, 1, 0, 0, 0, 1, 1) -->\n",
       "<g id=\"edge15\" class=\"edge\">\n",
       "<title>Tuple(Symbol(t), One())_(0, 1, 0, 0, 0, 1)&#45;&gt;One()_(0, 1, 0, 0, 0, 1, 1)</title>\n",
       "<path fill=\"none\" stroke=\"#000000\" d=\"M117.4059,-74.3771C127.2146,-64.4302 140.0749,-51.3888 150.9558,-40.3547\"/>\n",
       "<polygon fill=\"#000000\" stroke=\"#000000\" points=\"153.5813,-42.6769 158.1107,-33.099 148.5971,-37.7619 153.5813,-42.6769\"/>\n",
       "</g>\n",
       "<!-- q(Symbol(t))_(0, 1, 0, 1, 0) -->\n",
       "<g id=\"node15\" class=\"node\">\n",
       "<title>q(Symbol(t))_(0, 1, 0, 1, 0)</title>\n",
       "<ellipse fill=\"none\" stroke=\"#000000\" cx=\"228\" cy=\"-162\" rx=\"27\" ry=\"18\"/>\n",
       "<text text-anchor=\"middle\" x=\"228\" y=\"-157.8\" font-family=\"Times,serif\" font-size=\"14.00\" fill=\"#000000\">q</text>\n",
       "</g>\n",
       "<!-- Pow(q(Symbol(t)), Integer(2))_(0, 1, 0, 1)&#45;&gt;q(Symbol(t))_(0, 1, 0, 1, 0) -->\n",
       "<g id=\"edge16\" class=\"edge\">\n",
       "<title>Pow(q(Symbol(t)), Integer(2))_(0, 1, 0, 1)&#45;&gt;q(Symbol(t))_(0, 1, 0, 1, 0)</title>\n",
       "<path fill=\"none\" stroke=\"#000000\" d=\"M232.4859,-215.8314C231.8442,-208.131 231.0812,-198.9743 230.3681,-190.4166\"/>\n",
       "<polygon fill=\"#000000\" stroke=\"#000000\" points=\"233.8529,-190.088 229.5344,-180.4133 226.8771,-190.6694 233.8529,-190.088\"/>\n",
       "</g>\n",
       "<!-- Integer(2)_(0, 1, 0, 1, 1) -->\n",
       "<g id=\"node17\" class=\"node\">\n",
       "<title>Integer(2)_(0, 1, 0, 1, 1)</title>\n",
       "<ellipse fill=\"none\" stroke=\"#000000\" cx=\"300\" cy=\"-162\" rx=\"27\" ry=\"18\"/>\n",
       "<text text-anchor=\"middle\" x=\"300\" y=\"-157.8\" font-family=\"Times,serif\" font-size=\"14.00\" fill=\"#000000\">2</text>\n",
       "</g>\n",
       "<!-- Pow(q(Symbol(t)), Integer(2))_(0, 1, 0, 1)&#45;&gt;Integer(2)_(0, 1, 0, 1, 1) -->\n",
       "<g id=\"edge17\" class=\"edge\">\n",
       "<title>Pow(q(Symbol(t)), Integer(2))_(0, 1, 0, 1)&#45;&gt;Integer(2)_(0, 1, 0, 1, 1)</title>\n",
       "<path fill=\"none\" stroke=\"#000000\" d=\"M248.321,-218.3771C257.2292,-208.659 268.8452,-195.987 278.8075,-185.1191\"/>\n",
       "<polygon fill=\"#000000\" stroke=\"#000000\" points=\"281.5297,-187.3291 285.7069,-177.5924 276.3696,-182.599 281.5297,-187.3291\"/>\n",
       "</g>\n",
       "<!-- Symbol(t)_(0, 1, 0, 1, 0, 0) -->\n",
       "<g id=\"node16\" class=\"node\">\n",
       "<title>Symbol(t)_(0, 1, 0, 1, 0, 0)</title>\n",
       "<ellipse fill=\"none\" stroke=\"#000000\" cx=\"228\" cy=\"-90\" rx=\"27\" ry=\"18\"/>\n",
       "<text text-anchor=\"middle\" x=\"228\" y=\"-85.8\" font-family=\"Times,serif\" font-size=\"14.00\" fill=\"#000000\">t</text>\n",
       "</g>\n",
       "<!-- q(Symbol(t))_(0, 1, 0, 1, 0)&#45;&gt;Symbol(t)_(0, 1, 0, 1, 0, 0) -->\n",
       "<g id=\"edge18\" class=\"edge\">\n",
       "<title>q(Symbol(t))_(0, 1, 0, 1, 0)&#45;&gt;Symbol(t)_(0, 1, 0, 1, 0, 0)</title>\n",
       "<path fill=\"none\" stroke=\"#000000\" d=\"M228,-143.8314C228,-136.131 228,-126.9743 228,-118.4166\"/>\n",
       "<polygon fill=\"#000000\" stroke=\"#000000\" points=\"231.5001,-118.4132 228,-108.4133 224.5001,-118.4133 231.5001,-118.4132\"/>\n",
       "</g>\n",
       "<!-- Symbol(t)_(0, 1, 1, 0) -->\n",
       "<g id=\"node19\" class=\"node\">\n",
       "<title>Symbol(t)_(0, 1, 1, 0)</title>\n",
       "<ellipse fill=\"none\" stroke=\"#000000\" cx=\"315\" cy=\"-234\" rx=\"27\" ry=\"18\"/>\n",
       "<text text-anchor=\"middle\" x=\"315\" y=\"-229.8\" font-family=\"Times,serif\" font-size=\"14.00\" fill=\"#000000\">t</text>\n",
       "</g>\n",
       "<!-- Tuple(Symbol(t))_(0, 1, 1)&#45;&gt;Symbol(t)_(0, 1, 1, 0) -->\n",
       "<g id=\"edge19\" class=\"edge\">\n",
       "<title>Tuple(Symbol(t))_(0, 1, 1)&#45;&gt;Symbol(t)_(0, 1, 1, 0)</title>\n",
       "<path fill=\"none\" stroke=\"#000000\" d=\"M315,-287.8314C315,-280.131 315,-270.9743 315,-262.4166\"/>\n",
       "<polygon fill=\"#000000\" stroke=\"#000000\" points=\"318.5001,-262.4132 315,-252.4133 311.5001,-262.4133 318.5001,-262.4132\"/>\n",
       "</g>\n",
       "<!-- Add(Pow(Add(dq(Symbol(t)), q(Symbol(t))), Integer(2)), Pow(Derivative(Add(dq(Symbol(t)), q(Symbol(t))), Tuple(Symbol(t), One())), Integer(2)))_(1, 0) -->\n",
       "<g id=\"node21\" class=\"node\">\n",
       "<title>Add(Pow(Add(dq(Symbol(t)), q(Symbol(t))), Integer(2)), Pow(Derivative(Add(dq(Symbol(t)), q(Symbol(t))), Tuple(Symbol(t), One())), Integer(2)))_(1, 0)</title>\n",
       "<ellipse fill=\"none\" stroke=\"#000000\" cx=\"516\" cy=\"-378\" rx=\"27\" ry=\"18\"/>\n",
       "<text text-anchor=\"middle\" x=\"516\" y=\"-373.8\" font-family=\"Times,serif\" font-size=\"14.00\" fill=\"#000000\">Add</text>\n",
       "</g>\n",
       "<!-- Integral(Add(Pow(Add(dq(Symbol(t)), q(Symbol(t))), Integer(2)), Pow(Derivative(Add(dq(Symbol(t)), q(Symbol(t))), Tuple(Symbol(t), One())), Integer(2))), Tuple(Symbol(t)))_(1,)&#45;&gt;Add(Pow(Add(dq(Symbol(t)), q(Symbol(t))), Integer(2)), Pow(Derivative(Add(dq(Symbol(t)), q(Symbol(t))), Tuple(Symbol(t), One())), Integer(2)))_(1, 0) -->\n",
       "<g id=\"edge20\" class=\"edge\">\n",
       "<title>Integral(Add(Pow(Add(dq(Symbol(t)), q(Symbol(t))), Integer(2)), Pow(Derivative(Add(dq(Symbol(t)), q(Symbol(t))), Tuple(Symbol(t), One())), Integer(2))), Tuple(Symbol(t)))_(1,)&#45;&gt;Add(Pow(Add(dq(Symbol(t)), q(Symbol(t))), Integer(2)), Pow(Derivative(Add(dq(Symbol(t)), q(Symbol(t))), Tuple(Symbol(t), One())), Integer(2)))_(1, 0)</title>\n",
       "<path fill=\"none\" stroke=\"#000000\" d=\"M516,-431.8314C516,-424.131 516,-414.9743 516,-406.4166\"/>\n",
       "<polygon fill=\"#000000\" stroke=\"#000000\" points=\"519.5001,-406.4132 516,-396.4133 512.5001,-406.4133 519.5001,-406.4132\"/>\n",
       "</g>\n",
       "<!-- Tuple(Symbol(t))_(1, 1) -->\n",
       "<g id=\"node40\" class=\"node\">\n",
       "<title>Tuple(Symbol(t))_(1, 1)</title>\n",
       "<ellipse fill=\"none\" stroke=\"#0000ff\" cx=\"614\" cy=\"-378\" rx=\"30.3558\" ry=\"18\"/>\n",
       "<text text-anchor=\"middle\" x=\"614\" y=\"-373.8\" font-family=\"Times,serif\" font-size=\"14.00\" fill=\"#000000\">Tuple</text>\n",
       "</g>\n",
       "<!-- Integral(Add(Pow(Add(dq(Symbol(t)), q(Symbol(t))), Integer(2)), Pow(Derivative(Add(dq(Symbol(t)), q(Symbol(t))), Tuple(Symbol(t), One())), Integer(2))), Tuple(Symbol(t)))_(1,)&#45;&gt;Tuple(Symbol(t))_(1, 1) -->\n",
       "<g id=\"edge21\" class=\"edge\">\n",
       "<title>Integral(Add(Pow(Add(dq(Symbol(t)), q(Symbol(t))), Integer(2)), Pow(Derivative(Add(dq(Symbol(t)), q(Symbol(t))), Tuple(Symbol(t), One())), Integer(2))), Tuple(Symbol(t)))_(1,)&#45;&gt;Tuple(Symbol(t))_(1, 1)</title>\n",
       "<path fill=\"none\" stroke=\"#000000\" d=\"M536.7833,-434.7307C551.2897,-424.0729 570.8012,-409.7379 586.5812,-398.1445\"/>\n",
       "<polygon fill=\"#000000\" stroke=\"#000000\" points=\"588.9218,-400.7679 594.9084,-392.0265 584.7773,-395.1267 588.9218,-400.7679\"/>\n",
       "</g>\n",
       "<!-- Pow(Add(dq(Symbol(t)), q(Symbol(t))), Integer(2))_(1, 0, 0) -->\n",
       "<g id=\"node22\" class=\"node\">\n",
       "<title>Pow(Add(dq(Symbol(t)), q(Symbol(t))), Integer(2))_(1, 0, 0)</title>\n",
       "<ellipse fill=\"none\" stroke=\"#000000\" cx=\"482\" cy=\"-306\" rx=\"27\" ry=\"18\"/>\n",
       "<text text-anchor=\"middle\" x=\"482\" y=\"-301.8\" font-family=\"Times,serif\" font-size=\"14.00\" fill=\"#000000\">Pow</text>\n",
       "</g>\n",
       "<!-- Add(Pow(Add(dq(Symbol(t)), q(Symbol(t))), Integer(2)), Pow(Derivative(Add(dq(Symbol(t)), q(Symbol(t))), Tuple(Symbol(t), One())), Integer(2)))_(1, 0)&#45;&gt;Pow(Add(dq(Symbol(t)), q(Symbol(t))), Integer(2))_(1, 0, 0) -->\n",
       "<g id=\"edge22\" class=\"edge\">\n",
       "<title>Add(Pow(Add(dq(Symbol(t)), q(Symbol(t))), Integer(2)), Pow(Derivative(Add(dq(Symbol(t)), q(Symbol(t))), Tuple(Symbol(t), One())), Integer(2)))_(1, 0)&#45;&gt;Pow(Add(dq(Symbol(t)), q(Symbol(t))), Integer(2))_(1, 0, 0)</title>\n",
       "<path fill=\"none\" stroke=\"#000000\" d=\"M507.7695,-360.5708C503.8021,-352.1691 498.9571,-341.9091 494.5433,-332.5623\"/>\n",
       "<polygon fill=\"#000000\" stroke=\"#000000\" points=\"497.5896,-330.8166 490.1547,-323.2687 491.2599,-333.8057 497.5896,-330.8166\"/>\n",
       "</g>\n",
       "<!-- Pow(Derivative(Add(dq(Symbol(t)), q(Symbol(t))), Tuple(Symbol(t), One())), Integer(2))_(1, 0, 1) -->\n",
       "<g id=\"node29\" class=\"node\">\n",
       "<title>Pow(Derivative(Add(dq(Symbol(t)), q(Symbol(t))), Tuple(Symbol(t), One())), Integer(2))_(1, 0, 1)</title>\n",
       "<ellipse fill=\"none\" stroke=\"#000000\" cx=\"564\" cy=\"-306\" rx=\"27\" ry=\"18\"/>\n",
       "<text text-anchor=\"middle\" x=\"564\" y=\"-301.8\" font-family=\"Times,serif\" font-size=\"14.00\" fill=\"#000000\">Pow</text>\n",
       "</g>\n",
       "<!-- Add(Pow(Add(dq(Symbol(t)), q(Symbol(t))), Integer(2)), Pow(Derivative(Add(dq(Symbol(t)), q(Symbol(t))), Tuple(Symbol(t), One())), Integer(2)))_(1, 0)&#45;&gt;Pow(Derivative(Add(dq(Symbol(t)), q(Symbol(t))), Tuple(Symbol(t), One())), Integer(2))_(1, 0, 1) -->\n",
       "<g id=\"edge23\" class=\"edge\">\n",
       "<title>Add(Pow(Add(dq(Symbol(t)), q(Symbol(t))), Integer(2)), Pow(Derivative(Add(dq(Symbol(t)), q(Symbol(t))), Tuple(Symbol(t), One())), Integer(2)))_(1, 0)&#45;&gt;Pow(Derivative(Add(dq(Symbol(t)), q(Symbol(t))), Tuple(Symbol(t), One())), Integer(2))_(1, 0, 1)</title>\n",
       "<path fill=\"none\" stroke=\"#000000\" d=\"M527.1328,-361.3008C533.1304,-352.3043 540.6502,-341.0247 547.3314,-331.0029\"/>\n",
       "<polygon fill=\"#000000\" stroke=\"#000000\" points=\"550.2927,-332.8706 552.9276,-322.6087 544.4683,-328.9877 550.2927,-332.8706\"/>\n",
       "</g>\n",
       "<!-- Add(dq(Symbol(t)), q(Symbol(t)))_(1, 0, 0, 0) -->\n",
       "<g id=\"node23\" class=\"node\">\n",
       "<title>Add(dq(Symbol(t)), q(Symbol(t)))_(1, 0, 0, 0)</title>\n",
       "<ellipse fill=\"none\" stroke=\"#000000\" cx=\"410\" cy=\"-234\" rx=\"27\" ry=\"18\"/>\n",
       "<text text-anchor=\"middle\" x=\"410\" y=\"-229.8\" font-family=\"Times,serif\" font-size=\"14.00\" fill=\"#000000\">Add</text>\n",
       "</g>\n",
       "<!-- Pow(Add(dq(Symbol(t)), q(Symbol(t))), Integer(2))_(1, 0, 0)&#45;&gt;Add(dq(Symbol(t)), q(Symbol(t)))_(1, 0, 0, 0) -->\n",
       "<g id=\"edge24\" class=\"edge\">\n",
       "<title>Pow(Add(dq(Symbol(t)), q(Symbol(t))), Integer(2))_(1, 0, 0)&#45;&gt;Add(dq(Symbol(t)), q(Symbol(t)))_(1, 0, 0, 0)</title>\n",
       "<path fill=\"none\" stroke=\"#000000\" d=\"M466.7307,-290.7307C456.803,-280.803 443.6847,-267.6847 432.5637,-256.5637\"/>\n",
       "<polygon fill=\"#000000\" stroke=\"#000000\" points=\"434.7933,-253.8436 425.2473,-249.2473 429.8436,-258.7933 434.7933,-253.8436\"/>\n",
       "</g>\n",
       "<!-- Integer(2)_(1, 0, 0, 1) -->\n",
       "<g id=\"node28\" class=\"node\">\n",
       "<title>Integer(2)_(1, 0, 0, 1)</title>\n",
       "<ellipse fill=\"none\" stroke=\"#000000\" cx=\"482\" cy=\"-234\" rx=\"27\" ry=\"18\"/>\n",
       "<text text-anchor=\"middle\" x=\"482\" y=\"-229.8\" font-family=\"Times,serif\" font-size=\"14.00\" fill=\"#000000\">2</text>\n",
       "</g>\n",
       "<!-- Pow(Add(dq(Symbol(t)), q(Symbol(t))), Integer(2))_(1, 0, 0)&#45;&gt;Integer(2)_(1, 0, 0, 1) -->\n",
       "<g id=\"edge25\" class=\"edge\">\n",
       "<title>Pow(Add(dq(Symbol(t)), q(Symbol(t))), Integer(2))_(1, 0, 0)&#45;&gt;Integer(2)_(1, 0, 0, 1)</title>\n",
       "<path fill=\"none\" stroke=\"#000000\" d=\"M482,-287.8314C482,-280.131 482,-270.9743 482,-262.4166\"/>\n",
       "<polygon fill=\"#000000\" stroke=\"#000000\" points=\"485.5001,-262.4132 482,-252.4133 478.5001,-262.4133 485.5001,-262.4132\"/>\n",
       "</g>\n",
       "<!-- dq(Symbol(t))_(1, 0, 0, 0, 0) -->\n",
       "<g id=\"node24\" class=\"node\">\n",
       "<title>dq(Symbol(t))_(1, 0, 0, 0, 0)</title>\n",
       "<ellipse fill=\"none\" stroke=\"#000000\" cx=\"372\" cy=\"-162\" rx=\"27\" ry=\"18\"/>\n",
       "<text text-anchor=\"middle\" x=\"372\" y=\"-157.8\" font-family=\"Times,serif\" font-size=\"14.00\" fill=\"#000000\">dq</text>\n",
       "</g>\n",
       "<!-- Add(dq(Symbol(t)), q(Symbol(t)))_(1, 0, 0, 0)&#45;&gt;dq(Symbol(t))_(1, 0, 0, 0, 0) -->\n",
       "<g id=\"edge26\" class=\"edge\">\n",
       "<title>Add(dq(Symbol(t)), q(Symbol(t)))_(1, 0, 0, 0)&#45;&gt;dq(Symbol(t))_(1, 0, 0, 0, 0)</title>\n",
       "<path fill=\"none\" stroke=\"#000000\" d=\"M400.9945,-216.937C396.5172,-208.4537 391.0048,-198.0092 385.993,-188.513\"/>\n",
       "<polygon fill=\"#000000\" stroke=\"#000000\" points=\"388.9678,-186.6509 381.2048,-179.4407 382.7771,-189.9182 388.9678,-186.6509\"/>\n",
       "</g>\n",
       "<!-- q(Symbol(t))_(1, 0, 0, 0, 1) -->\n",
       "<g id=\"node26\" class=\"node\">\n",
       "<title>q(Symbol(t))_(1, 0, 0, 0, 1)</title>\n",
       "<ellipse fill=\"none\" stroke=\"#000000\" cx=\"444\" cy=\"-162\" rx=\"27\" ry=\"18\"/>\n",
       "<text text-anchor=\"middle\" x=\"444\" y=\"-157.8\" font-family=\"Times,serif\" font-size=\"14.00\" fill=\"#000000\">q</text>\n",
       "</g>\n",
       "<!-- Add(dq(Symbol(t)), q(Symbol(t)))_(1, 0, 0, 0)&#45;&gt;q(Symbol(t))_(1, 0, 0, 0, 1) -->\n",
       "<g id=\"edge27\" class=\"edge\">\n",
       "<title>Add(dq(Symbol(t)), q(Symbol(t)))_(1, 0, 0, 0)&#45;&gt;q(Symbol(t))_(1, 0, 0, 0, 1)</title>\n",
       "<path fill=\"none\" stroke=\"#000000\" d=\"M418.2305,-216.5708C422.1979,-208.1691 427.0429,-197.9091 431.4567,-188.5623\"/>\n",
       "<polygon fill=\"#000000\" stroke=\"#000000\" points=\"434.7401,-189.8057 435.8453,-179.2687 428.4104,-186.8166 434.7401,-189.8057\"/>\n",
       "</g>\n",
       "<!-- Symbol(t)_(1, 0, 0, 0, 0, 0) -->\n",
       "<g id=\"node25\" class=\"node\">\n",
       "<title>Symbol(t)_(1, 0, 0, 0, 0, 0)</title>\n",
       "<ellipse fill=\"none\" stroke=\"#000000\" cx=\"372\" cy=\"-90\" rx=\"27\" ry=\"18\"/>\n",
       "<text text-anchor=\"middle\" x=\"372\" y=\"-85.8\" font-family=\"Times,serif\" font-size=\"14.00\" fill=\"#000000\">t</text>\n",
       "</g>\n",
       "<!-- dq(Symbol(t))_(1, 0, 0, 0, 0)&#45;&gt;Symbol(t)_(1, 0, 0, 0, 0, 0) -->\n",
       "<g id=\"edge28\" class=\"edge\">\n",
       "<title>dq(Symbol(t))_(1, 0, 0, 0, 0)&#45;&gt;Symbol(t)_(1, 0, 0, 0, 0, 0)</title>\n",
       "<path fill=\"none\" stroke=\"#000000\" d=\"M372,-143.8314C372,-136.131 372,-126.9743 372,-118.4166\"/>\n",
       "<polygon fill=\"#000000\" stroke=\"#000000\" points=\"375.5001,-118.4132 372,-108.4133 368.5001,-118.4133 375.5001,-118.4132\"/>\n",
       "</g>\n",
       "<!-- Symbol(t)_(1, 0, 0, 0, 1, 0) -->\n",
       "<g id=\"node27\" class=\"node\">\n",
       "<title>Symbol(t)_(1, 0, 0, 0, 1, 0)</title>\n",
       "<ellipse fill=\"none\" stroke=\"#000000\" cx=\"444\" cy=\"-90\" rx=\"27\" ry=\"18\"/>\n",
       "<text text-anchor=\"middle\" x=\"444\" y=\"-85.8\" font-family=\"Times,serif\" font-size=\"14.00\" fill=\"#000000\">t</text>\n",
       "</g>\n",
       "<!-- q(Symbol(t))_(1, 0, 0, 0, 1)&#45;&gt;Symbol(t)_(1, 0, 0, 0, 1, 0) -->\n",
       "<g id=\"edge29\" class=\"edge\">\n",
       "<title>q(Symbol(t))_(1, 0, 0, 0, 1)&#45;&gt;Symbol(t)_(1, 0, 0, 0, 1, 0)</title>\n",
       "<path fill=\"none\" stroke=\"#000000\" d=\"M444,-143.8314C444,-136.131 444,-126.9743 444,-118.4166\"/>\n",
       "<polygon fill=\"#000000\" stroke=\"#000000\" points=\"447.5001,-118.4132 444,-108.4133 440.5001,-118.4133 447.5001,-118.4132\"/>\n",
       "</g>\n",
       "<!-- Derivative(Add(dq(Symbol(t)), q(Symbol(t))), Tuple(Symbol(t), One()))_(1, 0, 1, 0) -->\n",
       "<g id=\"node30\" class=\"node\">\n",
       "<title>Derivative(Add(dq(Symbol(t)), q(Symbol(t))), Tuple(Symbol(t), One()))_(1, 0, 1, 0)</title>\n",
       "<ellipse fill=\"none\" stroke=\"#000000\" cx=\"574\" cy=\"-234\" rx=\"47.3564\" ry=\"18\"/>\n",
       "<text text-anchor=\"middle\" x=\"574\" y=\"-229.8\" font-family=\"Times,serif\" font-size=\"14.00\" fill=\"#000000\">Derivative</text>\n",
       "</g>\n",
       "<!-- Pow(Derivative(Add(dq(Symbol(t)), q(Symbol(t))), Tuple(Symbol(t), One())), Integer(2))_(1, 0, 1)&#45;&gt;Derivative(Add(dq(Symbol(t)), q(Symbol(t))), Tuple(Symbol(t), One()))_(1, 0, 1, 0) -->\n",
       "<g id=\"edge30\" class=\"edge\">\n",
       "<title>Pow(Derivative(Add(dq(Symbol(t)), q(Symbol(t))), Tuple(Symbol(t), One())), Integer(2))_(1, 0, 1)&#45;&gt;Derivative(Add(dq(Symbol(t)), q(Symbol(t))), Tuple(Symbol(t), One()))_(1, 0, 1, 0)</title>\n",
       "<path fill=\"none\" stroke=\"#000000\" d=\"M566.5234,-287.8314C567.5929,-280.131 568.8647,-270.9743 570.0532,-262.4166\"/>\n",
       "<polygon fill=\"#000000\" stroke=\"#000000\" points=\"573.5336,-262.7997 571.4426,-252.4133 566.6001,-261.8367 573.5336,-262.7997\"/>\n",
       "</g>\n",
       "<!-- Integer(2)_(1, 0, 1, 1) -->\n",
       "<g id=\"node39\" class=\"node\">\n",
       "<title>Integer(2)_(1, 0, 1, 1)</title>\n",
       "<ellipse fill=\"none\" stroke=\"#000000\" cx=\"666\" cy=\"-234\" rx=\"27\" ry=\"18\"/>\n",
       "<text text-anchor=\"middle\" x=\"666\" y=\"-229.8\" font-family=\"Times,serif\" font-size=\"14.00\" fill=\"#000000\">2</text>\n",
       "</g>\n",
       "<!-- Pow(Derivative(Add(dq(Symbol(t)), q(Symbol(t))), Tuple(Symbol(t), One())), Integer(2))_(1, 0, 1)&#45;&gt;Integer(2)_(1, 0, 1, 1) -->\n",
       "<g id=\"edge31\" class=\"edge\">\n",
       "<title>Pow(Derivative(Add(dq(Symbol(t)), q(Symbol(t))), Tuple(Symbol(t), One())), Integer(2))_(1, 0, 1)&#45;&gt;Integer(2)_(1, 0, 1, 1)</title>\n",
       "<path fill=\"none\" stroke=\"#000000\" d=\"M582.7084,-292.7941C598.5244,-281.6298 621.379,-265.4971 639.1486,-252.9539\"/>\n",
       "<polygon fill=\"#000000\" stroke=\"#000000\" points=\"641.2589,-255.7485 647.4102,-247.1222 637.2221,-250.0297 641.2589,-255.7485\"/>\n",
       "</g>\n",
       "<!-- Add(dq(Symbol(t)), q(Symbol(t)))_(1, 0, 1, 0, 0) -->\n",
       "<g id=\"node31\" class=\"node\">\n",
       "<title>Add(dq(Symbol(t)), q(Symbol(t)))_(1, 0, 1, 0, 0)</title>\n",
       "<ellipse fill=\"none\" stroke=\"#000000\" cx=\"574\" cy=\"-162\" rx=\"27\" ry=\"18\"/>\n",
       "<text text-anchor=\"middle\" x=\"574\" y=\"-157.8\" font-family=\"Times,serif\" font-size=\"14.00\" fill=\"#000000\">Add</text>\n",
       "</g>\n",
       "<!-- Derivative(Add(dq(Symbol(t)), q(Symbol(t))), Tuple(Symbol(t), One()))_(1, 0, 1, 0)&#45;&gt;Add(dq(Symbol(t)), q(Symbol(t)))_(1, 0, 1, 0, 0) -->\n",
       "<g id=\"edge32\" class=\"edge\">\n",
       "<title>Derivative(Add(dq(Symbol(t)), q(Symbol(t))), Tuple(Symbol(t), One()))_(1, 0, 1, 0)&#45;&gt;Add(dq(Symbol(t)), q(Symbol(t)))_(1, 0, 1, 0, 0)</title>\n",
       "<path fill=\"none\" stroke=\"#000000\" d=\"M574,-215.8314C574,-208.131 574,-198.9743 574,-190.4166\"/>\n",
       "<polygon fill=\"#000000\" stroke=\"#000000\" points=\"577.5001,-190.4132 574,-180.4133 570.5001,-190.4133 577.5001,-190.4132\"/>\n",
       "</g>\n",
       "<!-- Tuple(Symbol(t), One())_(1, 0, 1, 0, 1) -->\n",
       "<g id=\"node36\" class=\"node\">\n",
       "<title>Tuple(Symbol(t), One())_(1, 0, 1, 0, 1)</title>\n",
       "<ellipse fill=\"none\" stroke=\"#0000ff\" cx=\"660\" cy=\"-162\" rx=\"30.3558\" ry=\"18\"/>\n",
       "<text text-anchor=\"middle\" x=\"660\" y=\"-157.8\" font-family=\"Times,serif\" font-size=\"14.00\" fill=\"#000000\">Tuple</text>\n",
       "</g>\n",
       "<!-- Derivative(Add(dq(Symbol(t)), q(Symbol(t))), Tuple(Symbol(t), One()))_(1, 0, 1, 0)&#45;&gt;Tuple(Symbol(t), One())_(1, 0, 1, 0, 1) -->\n",
       "<g id=\"edge33\" class=\"edge\">\n",
       "<title>Derivative(Add(dq(Symbol(t)), q(Symbol(t))), Tuple(Symbol(t), One()))_(1, 0, 1, 0)&#45;&gt;Tuple(Symbol(t), One())_(1, 0, 1, 0, 1)</title>\n",
       "<path fill=\"none\" stroke=\"#000000\" d=\"M593.9463,-217.3008C606.0271,-207.1866 621.5548,-194.1867 634.5195,-183.3325\"/>\n",
       "<polygon fill=\"#000000\" stroke=\"#000000\" points=\"636.786,-185.9997 642.2068,-176.8966 632.2924,-180.6323 636.786,-185.9997\"/>\n",
       "</g>\n",
       "<!-- dq(Symbol(t))_(1, 0, 1, 0, 0, 0) -->\n",
       "<g id=\"node32\" class=\"node\">\n",
       "<title>dq(Symbol(t))_(1, 0, 1, 0, 0, 0)</title>\n",
       "<ellipse fill=\"none\" stroke=\"#000000\" cx=\"516\" cy=\"-90\" rx=\"27\" ry=\"18\"/>\n",
       "<text text-anchor=\"middle\" x=\"516\" y=\"-85.8\" font-family=\"Times,serif\" font-size=\"14.00\" fill=\"#000000\">dq</text>\n",
       "</g>\n",
       "<!-- Add(dq(Symbol(t)), q(Symbol(t)))_(1, 0, 1, 0, 0)&#45;&gt;dq(Symbol(t))_(1, 0, 1, 0, 0, 0) -->\n",
       "<g id=\"edge34\" class=\"edge\">\n",
       "<title>Add(dq(Symbol(t)), q(Symbol(t)))_(1, 0, 1, 0, 0)&#45;&gt;dq(Symbol(t))_(1, 0, 1, 0, 0, 0)</title>\n",
       "<path fill=\"none\" stroke=\"#000000\" d=\"M561.1279,-146.0209C553.5438,-136.6061 543.8018,-124.5126 535.3116,-113.973\"/>\n",
       "<polygon fill=\"#000000\" stroke=\"#000000\" points=\"537.8351,-111.5264 528.8361,-105.9345 532.3838,-115.9177 537.8351,-111.5264\"/>\n",
       "</g>\n",
       "<!-- q(Symbol(t))_(1, 0, 1, 0, 0, 1) -->\n",
       "<g id=\"node34\" class=\"node\">\n",
       "<title>q(Symbol(t))_(1, 0, 1, 0, 0, 1)</title>\n",
       "<ellipse fill=\"none\" stroke=\"#000000\" cx=\"588\" cy=\"-90\" rx=\"27\" ry=\"18\"/>\n",
       "<text text-anchor=\"middle\" x=\"588\" y=\"-85.8\" font-family=\"Times,serif\" font-size=\"14.00\" fill=\"#000000\">q</text>\n",
       "</g>\n",
       "<!-- Add(dq(Symbol(t)), q(Symbol(t)))_(1, 0, 1, 0, 0)&#45;&gt;q(Symbol(t))_(1, 0, 1, 0, 0, 1) -->\n",
       "<g id=\"edge35\" class=\"edge\">\n",
       "<title>Add(dq(Symbol(t)), q(Symbol(t)))_(1, 0, 1, 0, 0)&#45;&gt;q(Symbol(t))_(1, 0, 1, 0, 0, 1)</title>\n",
       "<path fill=\"none\" stroke=\"#000000\" d=\"M577.5328,-143.8314C579.0698,-135.9266 580.9053,-126.4872 582.6068,-117.7365\"/>\n",
       "<polygon fill=\"#000000\" stroke=\"#000000\" points=\"586.0437,-118.3976 584.5168,-107.9134 579.1724,-117.0615 586.0437,-118.3976\"/>\n",
       "</g>\n",
       "<!-- Symbol(t)_(1, 0, 1, 0, 0, 0, 0) -->\n",
       "<g id=\"node33\" class=\"node\">\n",
       "<title>Symbol(t)_(1, 0, 1, 0, 0, 0, 0)</title>\n",
       "<ellipse fill=\"none\" stroke=\"#000000\" cx=\"516\" cy=\"-18\" rx=\"27\" ry=\"18\"/>\n",
       "<text text-anchor=\"middle\" x=\"516\" y=\"-13.8\" font-family=\"Times,serif\" font-size=\"14.00\" fill=\"#000000\">t</text>\n",
       "</g>\n",
       "<!-- dq(Symbol(t))_(1, 0, 1, 0, 0, 0)&#45;&gt;Symbol(t)_(1, 0, 1, 0, 0, 0, 0) -->\n",
       "<g id=\"edge36\" class=\"edge\">\n",
       "<title>dq(Symbol(t))_(1, 0, 1, 0, 0, 0)&#45;&gt;Symbol(t)_(1, 0, 1, 0, 0, 0, 0)</title>\n",
       "<path fill=\"none\" stroke=\"#000000\" d=\"M516,-71.8314C516,-64.131 516,-54.9743 516,-46.4166\"/>\n",
       "<polygon fill=\"#000000\" stroke=\"#000000\" points=\"519.5001,-46.4132 516,-36.4133 512.5001,-46.4133 519.5001,-46.4132\"/>\n",
       "</g>\n",
       "<!-- Symbol(t)_(1, 0, 1, 0, 0, 1, 0) -->\n",
       "<g id=\"node35\" class=\"node\">\n",
       "<title>Symbol(t)_(1, 0, 1, 0, 0, 1, 0)</title>\n",
       "<ellipse fill=\"none\" stroke=\"#000000\" cx=\"588\" cy=\"-18\" rx=\"27\" ry=\"18\"/>\n",
       "<text text-anchor=\"middle\" x=\"588\" y=\"-13.8\" font-family=\"Times,serif\" font-size=\"14.00\" fill=\"#000000\">t</text>\n",
       "</g>\n",
       "<!-- q(Symbol(t))_(1, 0, 1, 0, 0, 1)&#45;&gt;Symbol(t)_(1, 0, 1, 0, 0, 1, 0) -->\n",
       "<g id=\"edge37\" class=\"edge\">\n",
       "<title>q(Symbol(t))_(1, 0, 1, 0, 0, 1)&#45;&gt;Symbol(t)_(1, 0, 1, 0, 0, 1, 0)</title>\n",
       "<path fill=\"none\" stroke=\"#000000\" d=\"M588,-71.8314C588,-64.131 588,-54.9743 588,-46.4166\"/>\n",
       "<polygon fill=\"#000000\" stroke=\"#000000\" points=\"591.5001,-46.4132 588,-36.4133 584.5001,-46.4133 591.5001,-46.4132\"/>\n",
       "</g>\n",
       "<!-- Symbol(t)_(1, 0, 1, 0, 1, 0) -->\n",
       "<g id=\"node37\" class=\"node\">\n",
       "<title>Symbol(t)_(1, 0, 1, 0, 1, 0)</title>\n",
       "<ellipse fill=\"none\" stroke=\"#000000\" cx=\"660\" cy=\"-90\" rx=\"27\" ry=\"18\"/>\n",
       "<text text-anchor=\"middle\" x=\"660\" y=\"-85.8\" font-family=\"Times,serif\" font-size=\"14.00\" fill=\"#000000\">t</text>\n",
       "</g>\n",
       "<!-- Tuple(Symbol(t), One())_(1, 0, 1, 0, 1)&#45;&gt;Symbol(t)_(1, 0, 1, 0, 1, 0) -->\n",
       "<g id=\"edge38\" class=\"edge\">\n",
       "<title>Tuple(Symbol(t), One())_(1, 0, 1, 0, 1)&#45;&gt;Symbol(t)_(1, 0, 1, 0, 1, 0)</title>\n",
       "<path fill=\"none\" stroke=\"#000000\" d=\"M660,-143.8314C660,-136.131 660,-126.9743 660,-118.4166\"/>\n",
       "<polygon fill=\"#000000\" stroke=\"#000000\" points=\"663.5001,-118.4132 660,-108.4133 656.5001,-118.4133 663.5001,-118.4132\"/>\n",
       "</g>\n",
       "<!-- One()_(1, 0, 1, 0, 1, 1) -->\n",
       "<g id=\"node38\" class=\"node\">\n",
       "<title>One()_(1, 0, 1, 0, 1, 1)</title>\n",
       "<ellipse fill=\"none\" stroke=\"#000000\" cx=\"732\" cy=\"-90\" rx=\"27\" ry=\"18\"/>\n",
       "<text text-anchor=\"middle\" x=\"732\" y=\"-85.8\" font-family=\"Times,serif\" font-size=\"14.00\" fill=\"#000000\">1</text>\n",
       "</g>\n",
       "<!-- Tuple(Symbol(t), One())_(1, 0, 1, 0, 1)&#45;&gt;One()_(1, 0, 1, 0, 1, 1) -->\n",
       "<g id=\"edge39\" class=\"edge\">\n",
       "<title>Tuple(Symbol(t), One())_(1, 0, 1, 0, 1)&#45;&gt;One()_(1, 0, 1, 0, 1, 1)</title>\n",
       "<path fill=\"none\" stroke=\"#000000\" d=\"M675.6229,-146.3771C685.5698,-136.4302 698.6112,-123.3888 709.6453,-112.3547\"/>\n",
       "<polygon fill=\"#000000\" stroke=\"#000000\" points=\"712.3047,-114.645 716.901,-105.099 707.355,-109.6953 712.3047,-114.645\"/>\n",
       "</g>\n",
       "<!-- Symbol(t)_(1, 1, 0) -->\n",
       "<g id=\"node41\" class=\"node\">\n",
       "<title>Symbol(t)_(1, 1, 0)</title>\n",
       "<ellipse fill=\"none\" stroke=\"#000000\" cx=\"636\" cy=\"-306\" rx=\"27\" ry=\"18\"/>\n",
       "<text text-anchor=\"middle\" x=\"636\" y=\"-301.8\" font-family=\"Times,serif\" font-size=\"14.00\" fill=\"#000000\">t</text>\n",
       "</g>\n",
       "<!-- Tuple(Symbol(t))_(1, 1)&#45;&gt;Symbol(t)_(1, 1, 0) -->\n",
       "<g id=\"edge40\" class=\"edge\">\n",
       "<title>Tuple(Symbol(t))_(1, 1)&#45;&gt;Symbol(t)_(1, 1, 0)</title>\n",
       "<path fill=\"none\" stroke=\"#000000\" d=\"M619.4382,-360.2022C621.8974,-352.1541 624.8598,-342.4588 627.5952,-333.5067\"/>\n",
       "<polygon fill=\"#000000\" stroke=\"#000000\" points=\"630.9731,-334.4289 630.5481,-323.8425 624.2786,-332.3833 630.9731,-334.4289\"/>\n",
       "</g>\n",
       "</g>\n",
       "</svg>\n"
      ],
      "text/plain": [
       "<graphviz.files.Source at 0x105712650>"
      ]
     },
     "execution_count": 147,
     "metadata": {},
     "output_type": "execute_result"
    }
   ],
   "source": [
    "\n",
    "q = sy.Function(\"q\")\n",
    "t = sy.Symbol(\"t\")\n",
    "dq = sy.Function(\"dq\")\n",
    "qdot = sy.diff(q(t),t)\n",
    "L = qdot**2 + q(t)**2\n",
    "S = sy.integrate(L,t)\n",
    "sy.diff(S,q(t)) # Nope.\n",
    "dS = S.replace(q(t), q(t) + dq(t)) - S\n",
    "#dS.collect(dq(t))\n",
    "dS\n",
    "#Source(sy.dotprint(dS.doit().expand().simplify().collect( dq(t) ).replace(dq(t)**2 , 0)))\n",
    "#sy.integrate( qdot , t) # ok it knows this much\n",
    "\n",
    "\n",
    "def ibp(e,u = None, dv = None):\n",
    "    if e.func == sy.Integral:\n",
    "        \n",
    "        integrand = e.args[0]\n",
    "        t = e.args[1][0]\n",
    "        if u != None:\n",
    "            dv = integrand / u\n",
    "        if dv != None:\n",
    "            u = integrand / dv\n",
    "        v = sy.integrate(dv)\n",
    "        du = sy.diff(u)\n",
    "        return u * v - sy.Integral( v * du , t )\n",
    "# sy.Integral.ibp = ibp # this could remove the first check.\n",
    "\n",
    "# sy.Basic.__get_index__(self,n) = self.args[n]\n",
    "# sy.Basic.push(n) = child =  self.args[n]; child.pop = lambda : self.args[n] = ; return child  \n",
    "# sy.Basic.\n",
    "# child.set ? child.cb ?   very lensy what we're doing.\n",
    "\n",
    "ibp( sy.integrate( t * sy.diff(q(t), t)  ) , dv = sy.diff(q(t),t) )\n",
    "dS.doit().replace(dq(t)**2, 0).replace(sy.Derivative(dq(t),t)**2, 0).expand().simplify()\n",
    "\n",
    "def flippy(e):\n",
    "    if e.func == sy.Integral:\n",
    "        integrand = e.args[0]\n",
    "        if integrand.func == sy.Add:\n",
    "            return sy.Add( [sy.Integral( a ) for a in integrand.args ] )\n",
    "    if e.func == sy.Add:\n",
    "        if all([ a.func == sy.Integral for a in e.args]):\n",
    "            return sy.Integral( sy.Add( [a.args[0] for a in e.args]))\n",
    "            \n",
    "print(dS)\n",
    "sy.dotprint(dS)\n",
    "print(flippy(dS))\n",
    "Source(sy.dotprint(dS))\n",
    "#def ibp(e, u = , dv =):\n",
    "#    pass\n",
    "#sy.srepr(sy.integrate( t * qdot , t)) "
   ]
  },
  {
   "cell_type": "code",
   "execution_count": 123,
   "metadata": {},
   "outputs": [
    {
     "data": {
      "text/plain": [
       "sympy.core.mul.Mul"
      ]
     },
     "execution_count": 123,
     "metadata": {},
     "output_type": "execute_result"
    }
   ],
   "source": [
    "dS.args[0].func"
   ]
  },
  {
   "cell_type": "code",
   "execution_count": null,
   "metadata": {},
   "outputs": [],
   "source": [
    "q = sy.Symbol(\"q\")\n",
    "qdot = sy.Symbol(\"qdot\")\n",
    "\n"
   ]
  },
  {
   "cell_type": "code",
   "execution_count": 98,
   "metadata": {},
   "outputs": [
    {
     "ename": "TypeError",
     "evalue": "'Integral' object is not subscriptable",
     "output_type": "error",
     "traceback": [
      "\u001b[0;31m---------------------------------------------------------------------------\u001b[0m",
      "\u001b[0;31mTypeError\u001b[0m                                 Traceback (most recent call last)",
      "\u001b[0;32m<ipython-input-98-91f93e9c0021>\u001b[0m in \u001b[0;36m<module>\u001b[0;34m\u001b[0m\n\u001b[1;32m      7\u001b[0m \u001b[0me1\u001b[0m\u001b[0;34m.\u001b[0m\u001b[0margs\u001b[0m\u001b[0;34m[\u001b[0m\u001b[0;36m0\u001b[0m\u001b[0;34m]\u001b[0m\u001b[0;34m.\u001b[0m\u001b[0mdoit\u001b[0m\u001b[0;34m(\u001b[0m\u001b[0;34m)\u001b[0m\u001b[0;34m\u001b[0m\u001b[0;34m\u001b[0m\u001b[0m\n\u001b[1;32m      8\u001b[0m \u001b[0;31m#e.expand().simplify() + e1 - e1.doit()\u001b[0m\u001b[0;34m\u001b[0m\u001b[0;34m\u001b[0m\u001b[0;34m\u001b[0m\u001b[0m\n\u001b[0;32m----> 9\u001b[0;31m \u001b[0me1\u001b[0m\u001b[0;34m[\u001b[0m\u001b[0;36m0\u001b[0m\u001b[0;34m]\u001b[0m\u001b[0;34m\u001b[0m\u001b[0;34m\u001b[0m\u001b[0m\n\u001b[0m\u001b[1;32m     10\u001b[0m \u001b[0;31m#cursor. e\u001b[0m\u001b[0;34m\u001b[0m\u001b[0;34m\u001b[0m\u001b[0;34m\u001b[0m\u001b[0m\n\u001b[1;32m     11\u001b[0m \u001b[0;34m\u001b[0m\u001b[0m\n",
      "\u001b[0;31mTypeError\u001b[0m: 'Integral' object is not subscriptable"
     ]
    }
   ],
   "source": [
    "u = sy.Function(\"u\")\n",
    "v = sy.Function(\"v\")\n",
    "t = sy.Symbol(\"t\")\n",
    "\n",
    "e = sy.integrate(sy.diff(u(t) * v(t) , t) , t)\n",
    "e1 = sy.Integral(sy.Derivative(u(t) * v(t) , t) , t)\n",
    "e1.args[0].doit()\n",
    "#e.expand().simplify() + e1 - e1.doit()\n",
    "\n",
    "#cursor. e[1][2].swap(1,2).ap( lambda x: x + 7).expand.simplify.\n",
    "class Cursor(Basic):\n",
    "    def __init__(self, expr):\n",
    "        self.exprs = [expr]\n",
    "        self\n",
    "    def \n",
    "\n",
    "def linear(e):\n",
    "    if e.func == Add:\n",
    "        # distribute addition under all the stuff, derivative, integral\n",
    "    elif e.func == Integrate:\n",
    "    elif e.func == Derivative:\n",
    "        \n",
    "        \n",
    "#funsort = Sort()\n",
    "#diff = Function(funsort,funsort)\n",
    "\n",
    "# push \n",
    "# pop\n"
   ]
  },
  {
   "cell_type": "code",
   "execution_count": null,
   "metadata": {},
   "outputs": [],
   "source": [
    "'''synthetic calculus in z3py\n",
    "\n",
    "This is the analog of second order arithemtic in a vagye way\n",
    "But also just having the idea of a syntax tree for functions made of composition, powers, trig, etc.\n",
    "I like that we define stuff basically by it's differential equation\n",
    "Unfortunately, with \n",
    "\n",
    "How to deal with integration? Maybe these shuld be function sets?\n",
    "\n",
    "'''\n",
    "fun = Sort()\n",
    "diff = Function(fun, fun)\n",
    "integ = Function(fun,fun)\n",
    "diff(integ(x)) = x\n",
    "integ(diff(x)) = x + C?\n",
    "add = Function(fun,fun,fun) \n",
    "mul = Function(fun,fun,fun)\n",
    "sub = \n",
    "compose = Function(fun,fun,fun)\n",
    "diff(    )\n",
    "\n",
    "apply = Function(fun, real, real) # eval?\n",
    "\n",
    "cos = Const(fun)\n",
    "sin = Const(fun)\n",
    "exp = Const(fun)\n",
    "\n",
    "# definition by diff eq\n",
    "diff(cos) == negate(sin)\n",
    "diff(sin) == cos\n",
    "diff(exp) == exp\n",
    "\n",
    "\n",
    "const = Function(real, fun)\n",
    "power = Function(Int, fun) # power of x\n",
    "\n",
    "ForAll([n], diff(power(n)) == (const n) * power(n-1))\n",
    "\n",
    "distinct( everything )\n",
    "# it's ultimately pretty similar to havign a syntax tree.\n",
    "\n",
    "\n",
    "inverse = Function(fun,fun)\n",
    "\n"
   ]
  },
  {
   "cell_type": "code",
   "execution_count": null,
   "metadata": {},
   "outputs": [],
   "source": [
    "https://abelian.readthedocs.io/en/latest/index.html\n",
    "    https://desr.readthedocs.io/en/latest/_modules/desr/matrix_normal_forms.html#is_hnf_row\n",
    "        https://github.com/tclose/Diophantine\n",
    "            "
   ]
  },
  {
   "cell_type": "code",
   "execution_count": 1,
   "metadata": {},
   "outputs": [
    {
     "ename": "NameError",
     "evalue": "name 'sy' is not defined",
     "output_type": "error",
     "traceback": [
      "\u001b[0;31m---------------------------------------------------------------------------\u001b[0m",
      "\u001b[0;31mNameError\u001b[0m                                 Traceback (most recent call last)",
      "\u001b[0;32m<ipython-input-1-10a5133f0e55>\u001b[0m in \u001b[0;36m<module>\u001b[0;34m\u001b[0m\n\u001b[0;32m----> 1\u001b[0;31m \u001b[0msy\u001b[0m\u001b[0;34m.\u001b[0m\u001b[0mMatrix\u001b[0m\u001b[0;34m(\u001b[0m\u001b[0;34m[\u001b[0m\u001b[0;34m[\u001b[0m\u001b[0;36m2\u001b[0m\u001b[0;34m,\u001b[0m\u001b[0;36m4\u001b[0m\u001b[0;34m]\u001b[0m\u001b[0;34m,\u001b[0m\u001b[0;34m[\u001b[0m\u001b[0;36m2\u001b[0m\u001b[0;34m,\u001b[0m\u001b[0;36m4\u001b[0m\u001b[0;34m]\u001b[0m\u001b[0;34m]\u001b[0m\u001b[0;34m)\u001b[0m\u001b[0;34m.\u001b[0m\u001b[0mnullspace\u001b[0m\u001b[0;34m(\u001b[0m\u001b[0;34m)\u001b[0m\u001b[0;34m\u001b[0m\u001b[0;34m\u001b[0m\u001b[0m\n\u001b[0m\u001b[1;32m      2\u001b[0m \u001b[0msy\u001b[0m\u001b[0;34m.\u001b[0m\u001b[0meye\u001b[0m\u001b[0;34m(\u001b[0m\u001b[0;36m3\u001b[0m\u001b[0;34m)\u001b[0m\u001b[0;34m[\u001b[0m\u001b[0;36m8\u001b[0m\u001b[0;34m]\u001b[0m\u001b[0;34m\u001b[0m\u001b[0;34m\u001b[0m\u001b[0m\n\u001b[1;32m      3\u001b[0m \u001b[0msy\u001b[0m\u001b[0;34m.\u001b[0m\u001b[0mones\u001b[0m\u001b[0;34m(\u001b[0m\u001b[0;36m3\u001b[0m\u001b[0;34m,\u001b[0m\u001b[0;36m2\u001b[0m\u001b[0;34m)\u001b[0m\u001b[0;34m\u001b[0m\u001b[0;34m\u001b[0m\u001b[0m\n\u001b[1;32m      4\u001b[0m \u001b[0msy\u001b[0m\u001b[0;34m.\u001b[0m\u001b[0mones\u001b[0m\u001b[0;34m(\u001b[0m\u001b[0;36m3\u001b[0m\u001b[0;34m)\u001b[0m\u001b[0;34m\u001b[0m\u001b[0;34m\u001b[0m\u001b[0m\n\u001b[1;32m      5\u001b[0m \u001b[0msy\u001b[0m\u001b[0;34m.\u001b[0m\u001b[0mones\u001b[0m\u001b[0;34m(\u001b[0m\u001b[0;36m2\u001b[0m\u001b[0;34m,\u001b[0m\u001b[0;36m1\u001b[0m\u001b[0;34m)\u001b[0m\u001b[0;34m.\u001b[0m\u001b[0mnullspace\u001b[0m\u001b[0;34m(\u001b[0m\u001b[0;34m)\u001b[0m\u001b[0;34m\u001b[0m\u001b[0;34m\u001b[0m\u001b[0m\n",
      "\u001b[0;31mNameError\u001b[0m: name 'sy' is not defined"
     ]
    }
   ],
   "source": [
    "sy.Matrix([[2,4],[2,4]]).nullspace()\n",
    "sy.eye(3)[8]\n",
    "sy.ones(3,2)\n",
    "sy.ones(3)\n",
    "sy.ones(2,1).nullspace()\n",
    "sy.ones(2,1).columnspace()\n",
    "def k(i,j):\n",
    "    if i == j:\n",
    "        return -2\n",
    "    elif abs(i-j) == 1:\n",
    "        return 1\n",
    "    else:\n",
    "        return 0\n",
    "sy.Matrix(5,5, k)"
   ]
  },
  {
   "cell_type": "code",
   "execution_count": null,
   "metadata": {},
   "outputs": [],
   "source": [
    "# different stock sympy matrix solvers\n",
    "s = sy.Symbol(\"s\")\n",
    "\n",
    "\n",
    "#sy.Matrix([[2-s,4],[2,4]]).QRdecomposition()\n",
    "print(sy.Matrix([[2-s**2,4],[2 + 2*2,4 + 3*s**2]]).LUdecomposition())\n",
    "print(sy.Matrix([[2-s,4],[2,4]]).LUdecompositionFF())\n",
    "print(sy.Matrix([[2-s,4],[2,4]]).echelon_form(with_pivots=True))\n",
    "print(sy.Matrix([[2-s,4],[2,4]]).columnspace())\n",
    "print(sy.Matrix([[2-s,4],[2,4]]).rref())"
   ]
  },
  {
   "cell_type": "markdown",
   "metadata": {},
   "source": [
    "Gaussian elimination is related to grobner bases.\n",
    "a matrix is a linear system of equations\n",
    "nx + my + b = 0\n",
    "\n",
    "\n",
    "sure we can add together two rows in such a way as to clear out x, and add this to our set of equations. This is an S polynomial step. Then the reduction step is division of all with respect to the others.\n",
    "\n",
    "Division of polynomials is the analog of inverting a tridiagonal matrix? division with remainder may be the analog of some kind of tridiagonal spliting\n",
    "\n",
    "\n",
    "Pivoting columns corresponds to changing a variable ordering.\n",
    "\n",
    "\n",
    "Is LU decomposition of a polynomial matrix acceptable?\n",
    "\n",
    "row echelon form can be used to find the nullspace\n",
    "\n",
    "\n",
    "finitely presented = hrep (finite syzygy modue)\n",
    "finitely generated = vrep\n",
    "\n",
    "monomial submodules\n",
    "a monomial vector is a monomial in ne ocmposnent and zero everywhere else\n",
    "division is defined compoenentwise\n",
    "likewise lcm gcd\n",
    "\n",
    "monomial ideal is analog of a susbpace that lines up nicely with coordinate axes.\n",
    "If I had a just the first 3 coordinates can be nonzero.\n",
    "Let {m1, . . . , mt} be a set of monomial generators for a monomial sub- module of Rm, and let ε1, . . . , εt denote the standard basis vectors in\n",
    "t\n",
    "R . Let mij = LCM(mi, mj). The syzygy module Syz(m1, . . . , mt)\n",
    "is generated by the syzygies σij = (mij/mi)εi − (mij/mj)εj, for all 1≤i<j≤t(σij =0unlessmi andmj containthesamestandard basis vector in Rm).\n",
    "\n",
    "\n",
    "The least common multiple is defined to be zero if not on the same basis element\n",
    "we can achieve this by\n",
    "lcm( ).replace(gens, 0) . No . we need to check\n",
    "\n",
    "\n",
    "def lcm_module(f,g, gens):\n",
    "   lcm = sy.lcm(f,g,gens, )\n",
    "   if lcm\n",
    "\n",
    "\n",
    "the null space is just generated by the untouched indices\n",
    "if you gave me a kernel rep, the gens are the ones that are zero.\n",
    "\n",
    "the monomial syzygy module should be liftable by buchberger\n",
    "\n",
    "\n",
    "\n",
    "\n",
    "\n",
    "reduced and Groebenr.reduce return division by a basis.\n",
    "\n",
    "eqns = from_matrix()\n",
    "mod_basis = to_matrix\n",
    "def spolymat(basis,gens):\n",
    "    for i,f in enumeratie(basis):\n",
    "       for j,g in enumerate(basis):\n",
    "          ltf = sy.LT(f,gens)\n",
    "          ltg = sy.LT(g,gens)\n",
    "          lcm = sy.lcm(ltf,ltg)\n",
    "          #lcm(lt(f), lt(g))\n",
    "          s = lcm / lt(g) * f - lcm / lt(f) * g\n",
    "          coeff, remain = basis.reduce(s)\n",
    "          assert(remain == 0) #should be grobner basis.\n",
    "          s[i][j] = np.zeros()\n",
    "          s[i][j]\n",
    "\n",
    "\n",
    "\n",
    "    def _kernel(self):\n",
    "        \"\"\"Compute the kernel of ``self``.\"\"\"\n",
    "        raise NotImplementedError\n",
    "\n",
    "    def _image(self):\n",
    "        \"\"\"Compute the image of ``self``.\"\"\"\n",
    "        raise NotImplementedError\n",
    "        \n",
    "        You cheeky fuckers\n",
    "        \n",
    "        \"\"\"\n",
    "        \n",
    "https://www.maplesoft.com/support/help/Maple/view.aspx?path=Groebner%2fBasis_details\n",
    "Interesting. They are using a single parameter and holding different compoenents of the module with the powers of that parameter.\n",
    "multiplication by tht aprameter is nonsensical though?\n",
    " \n",
    "They are tracking the connection of the new generators to the old via an extended matrix formulation very similar to what one does derving the inverse matrix using gaussian elimination\n",
    "\n",
    "\n",
    "Fairbanks span rep \n",
    "[A 0]\n",
    "[0 -B]\n",
    "equalizer rep\n",
    "\n",
    "\n",
    "I was saying that \"unfortunately\" it feels like we really need to syzygies of the other direction, combining columns, which is nonsensical\n",
    "However, if we can track this decomposition, maybe we're ok\n",
    "The syzygies of the columns are the generators of the \"nullspace\" of the module.\n",
    "Maybe we don't even need to track?\n",
    "\n",
    "a column [a,b,c] -> (ax + by + cz)\n",
    "compute grobner basis with tags\n",
    "\n",
    "syzygies of syzygies gives second syzygies\n",
    "but syzgy of syzygy transpose gives back oifinal system.\n",
    "\n",
    "does doing gaussian elimination give \n",
    "\n",
    "\n",
    "Multiplying a matrix times a vector returns a vectorcsupplied sum of columns.\n",
    "\n",
    "we could row reduce first I guess. Maybe getting to row reduced echelon form does take column ops\n",
    "\n",
    "\n",
    "Buchberger's algorithm \n",
    "\n",
    "What is an equivalent system of linear equations? Well, we can copy any equation twice. That adds no new information. We can scalar multiply an entire equation, because we can always undo the scalar multiplication by division. We can produce a new equation as a sum of the others. These are all safe.\n",
    "If we just drop an equation, obviously in general we can't say that maintains the same system. If the equation is identically 0=0, then we can safely drop it.\n",
    "We can always safely add new derived equations to our set of equations.\n",
    "We can drop 0=0 safely\n",
    "We can mutate an equation in place by adding another equation to it, or scalar multiplying it\n",
    "\n",
    "\n",
    "For equations over rings, we can do all except scalar multiplication. We can only\n",
    "\n",
    "\n",
    "In gaussian elimination, we're used to the matrix staying the same or maybe shrinking in some sense if we can clear an entire row.\n",
    "In buchburger's\n",
    "\n",
    "make a grobner basis for the columns\n",
    "\n",
    "on this grobner basis it is easy to find the generators of the syzygies\n",
    "\n",
    "back translate these syzygies to the roginal relevant generator. For this we need to track the matrix that connects the grobner basis to the orignal generators\n",
    "\n",
    "G = FA\n",
    "F = GB\n",
    "\n",
    "B can be computed via reduction with respect to G. G is \"triangular\" so we can invert it with remainder\n",
    "\n",
    "Anything = GB + r\n",
    "\n",
    "\n",
    "G = GBA\n",
    "F = FAB\n",
    "\n",
    "fascinating. AB/BA are not necessarily identity matrices. This has some flavor of an adjunction? I'm just vibin on quasi inverses. maybe not.\n",
    "\n",
    "a syzygy of G is \n",
    "Gs = 0 = FAs = 0\n",
    "Hence As is a syzygy\n",
    "we may remove a lot of stupid stuff during grobner basis calculation\n",
    "\n",
    "I - AB columns are syzygys of F. F (I - AB) = F - FAB = F- F = 0  \n",
    "\n",
    "proposition 3.8\n",
    "\n",
    "\n",
    "G = FA is the analog of L = A U^-1. we build the U matrix by tracking the gaussian elimination operations\n",
    "\n",
    "G = GABAB = GAB\n",
    "\n",
    "\n",
    "My stratagem for understandig things:\n",
    "Anything that works for modules also works for vector spaces. Grobner basis algorithms are analogs of gaussian elimination and LU decomposition.\n",
    "\n",
    "\n",
    "\n",
    "Free  resolution gives completeness ocndition of solution?\n",
    "equivalent to d + c = n in linear algebra.\n",
    "\n",
    "Like, what if I didn't believe I had gotten all of the generators.\n",
    "The exactness condition is easy to check. multiply subsequent matrices and get zero\n",
    "\n",
    "\n",
    "\n",
    "\n",
    "rank of a module?\n",
    "\n",
    "they define presentation as generators and syzygy, This is the same as a HV representation. What is that called? Dual? double description.\n",
    "\n",
    "Overcomplex sets. Especially for polytopes, it is not clear a priori that you have too many V \n",
    "\n",
    "\n",
    "        "
   ]
  },
  {
   "cell_type": "code",
   "execution_count": null,
   "metadata": {},
   "outputs": [],
   "source": [
    "#grobner tracking. Maintaining the relation of the grobner basis to the original\n",
    "def extended_grobner(eqns, gens):\n",
    "    s = sy.Dummy(\"s\")\n",
    "    n = len(eqns)\n",
    "    extended = [  s**n * eq + s**i for i, eq in enumerate(eqns)]\n",
    "    g = sy.groebner(eqns, gens, s)\n",
    "    "
   ]
  },
  {
   "cell_type": "code",
   "execution_count": 23,
   "metadata": {},
   "outputs": [],
   "source": [
    "import sympy as sy\n",
    "x,y,z,s = sy.symbols(\"x y z s\")\n",
    "F = [x+y+z, x*y+y*z+z*x, x*y*z-1]\n",
    "n = len(F)\n",
    "Fext = [  s**(n+1) * eq + s**(i+1) for i, eq in enumerate(F)] # to avoid havi\n",
    "#ng a s**0 term which was slightly annoying to extract"
   ]
  },
  {
   "cell_type": "code",
   "execution_count": 24,
   "metadata": {},
   "outputs": [],
   "source": []
  },
  {
   "cell_type": "code",
   "execution_count": 25,
   "metadata": {},
   "outputs": [
    {
     "data": {
      "text/plain": [
       "[s**4*(x + y + z) + s, s**4*(x*y + x*z + y*z) + s**2, s**4*(x*y*z - 1) + s**3]"
      ]
     },
     "execution_count": 25,
     "metadata": {},
     "output_type": "execute_result"
    }
   ],
   "source": [
    "Fext"
   ]
  },
  {
   "cell_type": "code",
   "execution_count": 26,
   "metadata": {},
   "outputs": [],
   "source": [
    "Gext = sy.groebner(Fext, x, y, z, s)"
   ]
  },
  {
   "cell_type": "code",
   "execution_count": 29,
   "metadata": {},
   "outputs": [
    {
     "data": {
      "text/plain": [
       "GroebnerBasis([-s**2*x - s**2*y - s**2*z + s*x*y + s*x*z + s*y*z, s**3*x + s**3*y + s**3*z - s**2*x*z - s**2*y*z - s**2*z**2 + s*x*z**2 + s*y*z**2 + s, s**4*x + s**4*y + s**4*z + s, s**3*y**2 + s**3*y*z + s**3*z**2 - s**2*y**2*z - s**2*y*z**2 - s**2 + s*y**2*z**2 + s*y + s*z, s**4*y**2 + s**4*y*z + s**4*z**2 - s**2 + s*y + s*z, s**4*z**3 - s**4 + s**3 - s**2*z + s*z**2], x, y, z, s, domain='ZZ', order='lex')"
      ]
     },
     "execution_count": 29,
     "metadata": {},
     "output_type": "execute_result"
    }
   ],
   "source": [
    "Gext"
   ]
  },
  {
   "cell_type": "code",
   "execution_count": 27,
   "metadata": {},
   "outputs": [
    {
     "data": {
      "text/plain": [
       "-s**2*x - s**2*y - s**2*z + s*x*y + s*x*z + s*y*z"
      ]
     },
     "execution_count": 27,
     "metadata": {},
     "output_type": "execute_result"
    }
   ],
   "source": [
    "Gext[0]"
   ]
  },
  {
   "cell_type": "code",
   "execution_count": 34,
   "metadata": {},
   "outputs": [
    {
     "data": {
      "text/plain": [
       "Matrix([\n",
       "[    x*y + x*z + y*z,           -x - y - z,                 0,                 0],\n",
       "[x*z**2 + y*z**2 + 1,    -x*z - y*z - z**2,         x + y + z,                 0],\n",
       "[                  1,                    0,                 0,         x + y + z],\n",
       "[  y**2*z**2 + y + z, -y**2*z - y*z**2 - 1, y**2 + y*z + z**2,                 0],\n",
       "[              y + z,                   -1,                 0, y**2 + y*z + z**2],\n",
       "[               z**2,                   -z,                 1,          z**3 - 1]])"
      ]
     },
     "execution_count": 34,
     "metadata": {},
     "output_type": "execute_result"
    }
   ],
   "source": [
    "m = sy.Matrix([[g.coeff(s**i) for i in range(1,n+2)] for g in Gext])\n",
    "m"
   ]
  },
  {
   "cell_type": "code",
   "execution_count": 47,
   "metadata": {},
   "outputs": [
    {
     "data": {
      "text/plain": [
       "Matrix([\n",
       "[    1,  0, 0,         x + y + z],\n",
       "[y + z, -1, 0, y**2 + y*z + z**2],\n",
       "[ z**2, -z, 1,          z**3 - 1]])"
      ]
     },
     "execution_count": 47,
     "metadata": {},
     "output_type": "execute_result"
    }
   ],
   "source": [
    "m2 = m[2,:].col_join(m[4,:]).col_join(m[5,:])\n",
    "m2"
   ]
  },
  {
   "cell_type": "code",
   "execution_count": 46,
   "metadata": {},
   "outputs": [
    {
     "data": {
      "text/plain": [
       "Matrix([\n",
       "[        x + y + z],\n",
       "[y**2 + y*z + z**2],\n",
       "[         z**3 - 1]])"
      ]
     },
     "execution_count": 46,
     "metadata": {},
     "output_type": "execute_result"
    }
   ],
   "source": [
    "G = m2[:,3]\n",
    "G"
   ]
  },
  {
   "cell_type": "code",
   "execution_count": 49,
   "metadata": {},
   "outputs": [
    {
     "data": {
      "text/plain": [
       "Matrix([\n",
       "[    1,  0, 0],\n",
       "[y + z, -1, 0],\n",
       "[ z**2, -z, 1]])"
      ]
     },
     "execution_count": 49,
     "metadata": {},
     "output_type": "execute_result"
    }
   ],
   "source": [
    "A = m2[:,:3]\n",
    "A"
   ]
  },
  {
   "cell_type": "code",
   "execution_count": 53,
   "metadata": {},
   "outputs": [
    {
     "data": {
      "text/plain": [
       "Matrix([\n",
       "[      x + y + z],\n",
       "[x*y + x*z + y*z],\n",
       "[      x*y*z - 1]])"
      ]
     },
     "execution_count": 53,
     "metadata": {},
     "output_type": "execute_result"
    }
   ],
   "source": [
    "Fm = sy.Matrix(F)\n",
    "Fm"
   ]
  },
  {
   "cell_type": "code",
   "execution_count": 67,
   "metadata": {},
   "outputs": [
    {
     "data": {
      "text/plain": [
       "Matrix([\n",
       "[0],\n",
       "[0],\n",
       "[0]])"
      ]
     },
     "execution_count": 67,
     "metadata": {},
     "output_type": "execute_result"
    }
   ],
   "source": [
    "sy.simplify(A * Fm) - G"
   ]
  },
  {
   "cell_type": "markdown",
   "metadata": {},
   "source": [
    "To write F in terms of G is easy by greobenr property. F = GB\n",
    "G = FA\n",
    "\n"
   ]
  },
  {
   "cell_type": "code",
   "execution_count": 76,
   "metadata": {},
   "outputs": [
    {
     "data": {
      "text/plain": [
       "Matrix([\n",
       "[    1,  0, 0],\n",
       "[y + z, -1, 0],\n",
       "[  y*z, -z, 1]])"
      ]
     },
     "execution_count": 76,
     "metadata": {},
     "output_type": "execute_result"
    }
   ],
   "source": [
    "B = sy.Matrix([sy.reduced(f,list(G), x,y,z)[0] for f in F])\n",
    "B"
   ]
  },
  {
   "cell_type": "code",
   "execution_count": 79,
   "metadata": {},
   "outputs": [
    {
     "data": {
      "text/plain": [
       "Matrix([\n",
       "[0],\n",
       "[0],\n",
       "[0]])"
      ]
     },
     "execution_count": 79,
     "metadata": {},
     "output_type": "execute_result"
    }
   ],
   "source": [
    "sy.simplify(B * G) - Fm"
   ]
  },
  {
   "cell_type": "code",
   "execution_count": 81,
   "metadata": {},
   "outputs": [
    {
     "data": {
      "text/plain": [
       "Matrix([\n",
       "[1, 0, 0],\n",
       "[0, 1, 0],\n",
       "[0, 0, 1]])"
      ]
     },
     "execution_count": 81,
     "metadata": {},
     "output_type": "execute_result"
    }
   ],
   "source": [
    "sy.simplify(A * B)"
   ]
  },
  {
   "cell_type": "code",
   "execution_count": 82,
   "metadata": {},
   "outputs": [
    {
     "data": {
      "text/plain": [
       "Matrix([\n",
       "[1, 0, 0],\n",
       "[0, 1, 0],\n",
       "[0, 0, 1]])"
      ]
     },
     "execution_count": 82,
     "metadata": {},
     "output_type": "execute_result"
    }
   ],
   "source": [
    "sy.simplify(B * A)"
   ]
  },
  {
   "cell_type": "code",
   "execution_count": 84,
   "metadata": {},
   "outputs": [
    {
     "data": {
      "text/plain": [
       "[a + x + y + z, b + x*y + x*z + y*z, c + x*y*z - 1]"
      ]
     },
     "execution_count": 84,
     "metadata": {},
     "output_type": "execute_result"
    }
   ],
   "source": [
    "import sympy as sy\n",
    "x,y,z, a,b,c = sy.symbols(\"x y z a b c\")\n",
    "F = [x+y+z, x*y+y*z+z*x, x*y*z-1]\n",
    "n = len(F)\n",
    "Fext = [F[0] + a, F[1] + b, F[2] + c]\n",
    "#ng a s**0 term which was slightly annoying to extract\n",
    "Fext"
   ]
  },
  {
   "cell_type": "code",
   "execution_count": 88,
   "metadata": {},
   "outputs": [
    {
     "data": {
      "text/plain": [
       "[[1, 0, 0], [y + z, -1, 0], [z**2, -z, 1]]"
      ]
     },
     "execution_count": 88,
     "metadata": {},
     "output_type": "execute_result"
    }
   ],
   "source": [
    "G = sy.groebner(Fext, x,y,z, a,b,c)\n",
    "[[g.coeff(a),g.coeff(b), g.coeff(c)]  for g in G]"
   ]
  },
  {
   "cell_type": "code",
   "execution_count": 89,
   "metadata": {},
   "outputs": [
    {
     "data": {
      "text/plain": [
       "Matrix([\n",
       "[    1,  0, 0],\n",
       "[y + z, -1, 0],\n",
       "[ z**2, -z, 1]])"
      ]
     },
     "execution_count": 89,
     "metadata": {},
     "output_type": "execute_result"
    }
   ],
   "source": [
    "A"
   ]
  },
  {
   "cell_type": "markdown",
   "metadata": {},
   "source": [
    "So this method seems to get us the same thing. When I picked the wrong ordering for a,b,c it doesn't do anything though. That is worrying\n",
    "\n",
    "How can I be more systematic?\n",
    "How do I know i have a complete set of generators?\n"
   ]
  },
  {
   "cell_type": "code",
   "execution_count": 94,
   "metadata": {},
   "outputs": [
    {
     "ename": "TypeError",
     "evalue": "spoly() missing 3 required positional arguments: 'p1', 'p2', and 'ring'",
     "output_type": "error",
     "traceback": [
      "\u001b[0;31m---------------------------------------------------------------------------\u001b[0m",
      "\u001b[0;31mTypeError\u001b[0m                                 Traceback (most recent call last)",
      "\u001b[0;32m<ipython-input-94-1eb23c2fc169>\u001b[0m in \u001b[0;36m<module>\u001b[0;34m\u001b[0m\n\u001b[0;32m----> 1\u001b[0;31m \u001b[0msy\u001b[0m\u001b[0;34m.\u001b[0m\u001b[0mpolys\u001b[0m\u001b[0;34m.\u001b[0m\u001b[0mgroebnertools\u001b[0m\u001b[0;34m.\u001b[0m\u001b[0mspoly\u001b[0m\u001b[0;34m(\u001b[0m\u001b[0;34m)\u001b[0m\u001b[0;34m\u001b[0m\u001b[0;34m\u001b[0m\u001b[0m\n\u001b[0m",
      "\u001b[0;31mTypeError\u001b[0m: spoly() missing 3 required positional arguments: 'p1', 'p2', and 'ring'"
     ]
    }
   ],
   "source": [
    "sy.polys.groebnertools.spoly(f,g,ring)\n",
    "from sympy.polys.rings import PolyRing\n",
    "ring = PolyRing(opt.gens, opt.domain, opt.order)"
   ]
  },
  {
   "cell_type": "code",
   "execution_count": 97,
   "metadata": {},
   "outputs": [
    {
     "data": {
      "text/plain": [
       "['EC',\n",
       " 'EM',\n",
       " 'ET',\n",
       " 'LC',\n",
       " 'LM',\n",
       " 'LT',\n",
       " 'TC',\n",
       " '__abs__',\n",
       " '__add__',\n",
       " '__bool__',\n",
       " '__call__',\n",
       " '__class__',\n",
       " '__complex__',\n",
       " '__delattr__',\n",
       " '__dir__',\n",
       " '__div__',\n",
       " '__divmod__',\n",
       " '__doc__',\n",
       " '__eq__',\n",
       " '__float__',\n",
       " '__floordiv__',\n",
       " '__format__',\n",
       " '__ge__',\n",
       " '__getattribute__',\n",
       " '__getnewargs__',\n",
       " '__getstate__',\n",
       " '__gt__',\n",
       " '__hash__',\n",
       " '__init__',\n",
       " '__init_subclass__',\n",
       " '__int__',\n",
       " '__le__',\n",
       " '__long__',\n",
       " '__lt__',\n",
       " '__mod__',\n",
       " '__module__',\n",
       " '__mul__',\n",
       " '__ne__',\n",
       " '__neg__',\n",
       " '__new__',\n",
       " '__nonzero__',\n",
       " '__pos__',\n",
       " '__pow__',\n",
       " '__radd__',\n",
       " '__rdiv__',\n",
       " '__rdivmod__',\n",
       " '__reduce__',\n",
       " '__reduce_ex__',\n",
       " '__repr__',\n",
       " '__rfloordiv__',\n",
       " '__rmod__',\n",
       " '__rmul__',\n",
       " '__rpow__',\n",
       " '__rsub__',\n",
       " '__rtruediv__',\n",
       " '__setattr__',\n",
       " '__setstate__',\n",
       " '__sizeof__',\n",
       " '__slots__',\n",
       " '__str__',\n",
       " '__sub__',\n",
       " '__subclasshook__',\n",
       " '__truediv__',\n",
       " '__trunc__',\n",
       " '_accept_eval_derivative',\n",
       " '_args',\n",
       " '_assumptions',\n",
       " '_compare_pretty',\n",
       " '_constructor_postprocessor_mapping',\n",
       " '_diff_wrt',\n",
       " '_eval_adjoint',\n",
       " '_eval_as_leading_term',\n",
       " '_eval_conjugate',\n",
       " '_eval_derivative',\n",
       " '_eval_derivative_n_times',\n",
       " '_eval_diff',\n",
       " '_eval_evalf',\n",
       " '_eval_expand_complex',\n",
       " '_eval_interval',\n",
       " '_eval_is_algebraic_expr',\n",
       " '_eval_is_negative',\n",
       " '_eval_is_polynomial',\n",
       " '_eval_is_positive',\n",
       " '_eval_is_rational_function',\n",
       " '_eval_lseries',\n",
       " '_eval_nseries',\n",
       " '_eval_power',\n",
       " '_eval_rewrite',\n",
       " '_eval_subs',\n",
       " '_eval_transpose',\n",
       " '_evalf',\n",
       " '_exec_constructor_postprocessors',\n",
       " '_expand_hint',\n",
       " '_explicit_class_assumptions',\n",
       " '_from_dict',\n",
       " '_from_expr',\n",
       " '_from_list',\n",
       " '_from_mpmath',\n",
       " '_from_poly',\n",
       " '_gen_to_level',\n",
       " '_has',\n",
       " '_has_matcher',\n",
       " '_hashable_content',\n",
       " '_mhash',\n",
       " '_op_priority',\n",
       " '_parse_order',\n",
       " '_pow',\n",
       " '_prop_handler',\n",
       " '_random',\n",
       " '_recursive_call',\n",
       " '_sorted_args',\n",
       " '_strict_eq',\n",
       " '_subs',\n",
       " '_to_mpmath',\n",
       " '_unify',\n",
       " '_visit_eval_derivative_array',\n",
       " '_visit_eval_derivative_scalar',\n",
       " '_xreplace',\n",
       " 'abs',\n",
       " 'add',\n",
       " 'add_ground',\n",
       " 'adjoint',\n",
       " 'all_coeffs',\n",
       " 'all_monoms',\n",
       " 'all_roots',\n",
       " 'all_terms',\n",
       " 'apart',\n",
       " 'args',\n",
       " 'args_cnc',\n",
       " 'as_base_exp',\n",
       " 'as_coeff_Add',\n",
       " 'as_coeff_Mul',\n",
       " 'as_coeff_add',\n",
       " 'as_coeff_exponent',\n",
       " 'as_coeff_mul',\n",
       " 'as_coefficient',\n",
       " 'as_coefficients_dict',\n",
       " 'as_content_primitive',\n",
       " 'as_dict',\n",
       " 'as_expr',\n",
       " 'as_independent',\n",
       " 'as_leading_term',\n",
       " 'as_list',\n",
       " 'as_numer_denom',\n",
       " 'as_ordered_factors',\n",
       " 'as_ordered_terms',\n",
       " 'as_poly',\n",
       " 'as_powers_dict',\n",
       " 'as_real_imag',\n",
       " 'as_terms',\n",
       " 'assumptions0',\n",
       " 'atoms',\n",
       " 'cancel',\n",
       " 'canonical_variables',\n",
       " 'class_key',\n",
       " 'clear_denoms',\n",
       " 'coeff',\n",
       " 'coeff_monomial',\n",
       " 'coeffs',\n",
       " 'cofactors',\n",
       " 'collect',\n",
       " 'combsimp',\n",
       " 'compare',\n",
       " 'compose',\n",
       " 'compute_leading_term',\n",
       " 'conjugate',\n",
       " 'content',\n",
       " 'copy',\n",
       " 'could_extract_minus_sign',\n",
       " 'count',\n",
       " 'count_ops',\n",
       " 'count_roots',\n",
       " 'decompose',\n",
       " 'default_assumptions',\n",
       " 'deflate',\n",
       " 'degree',\n",
       " 'degree_list',\n",
       " 'diff',\n",
       " 'discriminant',\n",
       " 'dispersion',\n",
       " 'dispersionset',\n",
       " 'div',\n",
       " 'doit',\n",
       " 'domain',\n",
       " 'dummy_eq',\n",
       " 'eject',\n",
       " 'eq',\n",
       " 'equals',\n",
       " 'eval',\n",
       " 'evalf',\n",
       " 'exclude',\n",
       " 'expand',\n",
       " 'expr_free_symbols',\n",
       " 'exquo',\n",
       " 'exquo_ground',\n",
       " 'extract_additively',\n",
       " 'extract_branch_factor',\n",
       " 'extract_multiplicatively',\n",
       " 'factor',\n",
       " 'factor_list',\n",
       " 'factor_list_include',\n",
       " 'find',\n",
       " 'fourier_series',\n",
       " 'fps',\n",
       " 'free_symbols',\n",
       " 'free_symbols_in_domain',\n",
       " 'from_dict',\n",
       " 'from_expr',\n",
       " 'from_list',\n",
       " 'from_poly',\n",
       " 'fromiter',\n",
       " 'func',\n",
       " 'gammasimp',\n",
       " 'gcd',\n",
       " 'gcdex',\n",
       " 'gen',\n",
       " 'gens',\n",
       " 'getO',\n",
       " 'get_domain',\n",
       " 'get_modulus',\n",
       " 'getn',\n",
       " 'gff_list',\n",
       " 'ground_roots',\n",
       " 'half_gcdex',\n",
       " 'has',\n",
       " 'has_only_gens',\n",
       " 'homogeneous_order',\n",
       " 'homogenize',\n",
       " 'inject',\n",
       " 'integrate',\n",
       " 'intervals',\n",
       " 'invert',\n",
       " 'is_Add',\n",
       " 'is_AlgebraicNumber',\n",
       " 'is_Atom',\n",
       " 'is_Boolean',\n",
       " 'is_Derivative',\n",
       " 'is_Dummy',\n",
       " 'is_Equality',\n",
       " 'is_Float',\n",
       " 'is_Function',\n",
       " 'is_Indexed',\n",
       " 'is_Integer',\n",
       " 'is_MatAdd',\n",
       " 'is_MatMul',\n",
       " 'is_Matrix',\n",
       " 'is_Mul',\n",
       " 'is_Not',\n",
       " 'is_Number',\n",
       " 'is_NumberSymbol',\n",
       " 'is_Order',\n",
       " 'is_Piecewise',\n",
       " 'is_Point',\n",
       " 'is_Poly',\n",
       " 'is_Pow',\n",
       " 'is_Rational',\n",
       " 'is_Relational',\n",
       " 'is_Symbol',\n",
       " 'is_Vector',\n",
       " 'is_Wild',\n",
       " 'is_algebraic',\n",
       " 'is_algebraic_expr',\n",
       " 'is_antihermitian',\n",
       " 'is_commutative',\n",
       " 'is_comparable',\n",
       " 'is_complex',\n",
       " 'is_composite',\n",
       " 'is_constant',\n",
       " 'is_cyclotomic',\n",
       " 'is_even',\n",
       " 'is_finite',\n",
       " 'is_ground',\n",
       " 'is_hermitian',\n",
       " 'is_homogeneous',\n",
       " 'is_hypergeometric',\n",
       " 'is_imaginary',\n",
       " 'is_infinite',\n",
       " 'is_integer',\n",
       " 'is_irrational',\n",
       " 'is_irreducible',\n",
       " 'is_linear',\n",
       " 'is_monic',\n",
       " 'is_monomial',\n",
       " 'is_multivariate',\n",
       " 'is_negative',\n",
       " 'is_noninteger',\n",
       " 'is_nonnegative',\n",
       " 'is_nonpositive',\n",
       " 'is_nonzero',\n",
       " 'is_number',\n",
       " 'is_odd',\n",
       " 'is_one',\n",
       " 'is_polar',\n",
       " 'is_polynomial',\n",
       " 'is_positive',\n",
       " 'is_prime',\n",
       " 'is_primitive',\n",
       " 'is_quadratic',\n",
       " 'is_rational',\n",
       " 'is_rational_function',\n",
       " 'is_real',\n",
       " 'is_sqf',\n",
       " 'is_symbol',\n",
       " 'is_transcendental',\n",
       " 'is_univariate',\n",
       " 'is_zero',\n",
       " 'l1_norm',\n",
       " 'lcm',\n",
       " 'leadterm',\n",
       " 'length',\n",
       " 'lift',\n",
       " 'limit',\n",
       " 'lseries',\n",
       " 'ltrim',\n",
       " 'match',\n",
       " 'matches',\n",
       " 'max_norm',\n",
       " 'monic',\n",
       " 'monoms',\n",
       " 'mul',\n",
       " 'mul_ground',\n",
       " 'n',\n",
       " 'ne',\n",
       " 'neg',\n",
       " 'new',\n",
       " 'norm',\n",
       " 'normal',\n",
       " 'nroots',\n",
       " 'nseries',\n",
       " 'nsimplify',\n",
       " 'nth',\n",
       " 'nth_power_roots_poly',\n",
       " 'one',\n",
       " 'pdiv',\n",
       " 'per',\n",
       " 'pexquo',\n",
       " 'pow',\n",
       " 'powsimp',\n",
       " 'pquo',\n",
       " 'prem',\n",
       " 'primitive',\n",
       " 'quo',\n",
       " 'quo_ground',\n",
       " 'radsimp',\n",
       " 'rat_clear_denoms',\n",
       " 'ratsimp',\n",
       " 'rcall',\n",
       " 'real_roots',\n",
       " 'refine',\n",
       " 'refine_root',\n",
       " 'rem',\n",
       " 'removeO',\n",
       " 'reorder',\n",
       " 'rep',\n",
       " 'replace',\n",
       " 'resultant',\n",
       " 'retract',\n",
       " 'revert',\n",
       " 'rewrite',\n",
       " 'root',\n",
       " 'round',\n",
       " 'separate',\n",
       " 'series',\n",
       " 'set_domain',\n",
       " 'set_modulus',\n",
       " 'shift',\n",
       " 'simplify',\n",
       " 'slice',\n",
       " 'sort_key',\n",
       " 'sqf_list',\n",
       " 'sqf_list_include',\n",
       " 'sqf_norm',\n",
       " 'sqf_part',\n",
       " 'sqr',\n",
       " 'sturm',\n",
       " 'sub',\n",
       " 'sub_ground',\n",
       " 'subresultants',\n",
       " 'subs',\n",
       " 'taylor_term',\n",
       " 'terms',\n",
       " 'terms_gcd',\n",
       " 'termwise',\n",
       " 'to_exact',\n",
       " 'to_field',\n",
       " 'to_ring',\n",
       " 'together',\n",
       " 'total_degree',\n",
       " 'transform',\n",
       " 'transpose',\n",
       " 'trigsimp',\n",
       " 'trunc',\n",
       " 'unify',\n",
       " 'unit',\n",
       " 'xreplace',\n",
       " 'zero']"
      ]
     },
     "execution_count": 97,
     "metadata": {},
     "output_type": "execute_result"
    }
   ],
   "source": [
    "dir(sy.Poly(s**2))"
   ]
  },
  {
   "cell_type": "code",
   "execution_count": 99,
   "metadata": {},
   "outputs": [
    {
     "data": {
      "text/plain": [
       "a + x + y + z"
      ]
     },
     "execution_count": 99,
     "metadata": {},
     "output_type": "execute_result"
    }
   ],
   "source": [
    "G[0]"
   ]
  },
  {
   "cell_type": "code",
   "execution_count": 111,
   "metadata": {},
   "outputs": [
    {
     "name": "stdout",
     "output_type": "stream",
     "text": [
      "f  a + x + y + z\n",
      "g  a*y + a*z - b + y**2 + y*z + z**2\n",
      "ltf  x\n",
      "ltg  y**2\n",
      "lcm  x*y**2\n"
     ]
    }
   ],
   "source": [
    "f = G[0]\n",
    "g = G[1]\n",
    "print(\"f \", f)\n",
    "print(\"g \", g)\n",
    "gens = (x,y,z)\n",
    "ltf = sy.LT(f,gens)\n",
    "print(\"ltf \", ltf)\n",
    "ltg = sy.LT(g,gens)\n",
    "print(\"ltg \", ltg)\n",
    "lcm = sy.lcm(ltf,ltg)\n",
    "print(\"lcm \", lcm)\n",
    "#lcm(lt(f), lt(g))\n",
    "s = lcm / ltg * f - lcm / ltf * g"
   ]
  },
  {
   "cell_type": "code",
   "execution_count": 112,
   "metadata": {},
   "outputs": [
    {
     "data": {
      "text/plain": [
       "([x, -y**2, 0], 0)"
      ]
     },
     "execution_count": 112,
     "metadata": {},
     "output_type": "execute_result"
    }
   ],
   "source": [
    "sy.reduced(s,G, gens)"
   ]
  },
  {
   "cell_type": "code",
   "execution_count": 185,
   "metadata": {},
   "outputs": [],
   "source": [
    "def spoly(f,g,*gens):\n",
    "    ltf = sy.LT(f,gens)\n",
    "    ltg = sy.LT(g,gens)\n",
    "    lcm = sy.lcm(ltf,ltg)\n",
    "    s = lcm / ltf * f - lcm / ltg * g\n",
    "    return s\n",
    "\n",
    "#grobner tracking. Maintaining the relation of the grobner basis to the original\n",
    "def extended_groebner(F, *gens):\n",
    "    n = len(F)\n",
    "    markers =  [sy.Dummy() for i in range(n)]\n",
    "    Fext = [ f + a for a, f in zip(markers, F)]\n",
    "    gen_ext = list(gens) + markers\n",
    "    Gext = sy.groebner(Fext, gen_ext)\n",
    "    A = [[g.coeff(m) for m in markers ] for g in Gext]\n",
    "    G = [ sy.simplify(g - sum( [ m * aa  for m,aa in zip(markers, a)  ] )) for a,g in zip(A,Gext) ] #remove dummy parts\n",
    "    assert( sy.simplify(sy.Matrix(G) -  sy.Matrix(A) * sy.Matrix(F)).is_zero )\n",
    "    # maybe assert buchberger criterion\n",
    "    return G, A\n",
    "    \n",
    "    \n",
    "def reduce_basis(F,G,*gens):\n",
    "    B,rems = list(zip(*[sy.reduced(f,G, gens) for f in F]))\n",
    "    print(B)\n",
    "    print(rems)\n",
    "    assert( all([r == 0 for r in rems] )) # assuming G is a grobner basis\n",
    "    assert( sy.simplify(sy.Matrix(F) - sy.Matrix(B) * sy.Matrix(G)).is_zero   )\n",
    "    return B\n",
    "\n",
    "# generators for the syzygies of G. Schreyer's Theorem. Cox Little Oshea Theorem 3.2 chapter 5\n",
    "def syzygy(G,*gens): # assuming G is groebner basis\n",
    "    n = len(G)\n",
    "    basis = []\n",
    "    I = sy.eye(n)\n",
    "    for i, gi in enumerate(G):\n",
    "        for j, gj in enumerate(G): \n",
    "            if i < j:\n",
    "                s = spoly(gi,gj,*gens)\n",
    "                print(s)\n",
    "                a,r = sy.reduced( s , G, gens )\n",
    "                assert(r == 0) # should be groebner basis\n",
    "                lti = sy.LT(gi,gens)\n",
    "                ltj = sy.LT(gj,gens)\n",
    "                lcm = sy.lcm(lti,ltj)\n",
    "                ei = I[:,i] \n",
    "                ej = I[:,j]\n",
    "                basis.append(lcm / lti * ei - lcm / ltj * ej - sy.Matrix(a))\n",
    "                assert( sy.simplify(sy.Matrix(G).T * basis[-1]).is_zero)  # should all null out on G\n",
    "    return basis\n",
    "            "
   ]
  },
  {
   "cell_type": "code",
   "execution_count": 186,
   "metadata": {},
   "outputs": [
    {
     "name": "stdout",
     "output_type": "stream",
     "text": [
      "([1, 0, 0], [y + z, -1, 0], [y*z, -z, 1])\n",
      "(0, 0, 0)\n",
      "-x*(y**2 + y*z + z**2) + y**2*(x + y + z)\n",
      "-x*(z**3 - 1) + z**3*(x + y + z)\n",
      "-y**2*(z**3 - 1) + z**3*(y**2 + y*z + z**2)\n"
     ]
    }
   ],
   "source": [
    "x,y,z,s = sy.symbols(\"x y z s\")\n",
    "F = [x+y+z, x*y+y*z+z*x, x*y*z-1]\n",
    "G, A = extended_groebner(F, x,y,z)\n",
    "B = reduce_basis(F,G,x,y,z)\n",
    "Gsyz = syzygy(G)"
   ]
  },
  {
   "cell_type": "code",
   "execution_count": null,
   "metadata": {},
   "outputs": [],
   "source": []
  }
 ],
 "metadata": {
  "kernelspec": {
   "display_name": "Python 3",
   "language": "python",
   "name": "python3"
  },
  "language_info": {
   "codemirror_mode": {
    "name": "ipython",
    "version": 3
   },
   "file_extension": ".py",
   "mimetype": "text/x-python",
   "name": "python",
   "nbconvert_exporter": "python",
   "pygments_lexer": "ipython3",
   "version": "3.8.5"
  }
 },
 "nbformat": 4,
 "nbformat_minor": 4
}
