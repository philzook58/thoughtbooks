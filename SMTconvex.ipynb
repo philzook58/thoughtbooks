{
 "cells": [
  {
   "cell_type": "markdown",
   "metadata": {},
   "source": [
    "Smt modulo convex\n",
    "https://people.eecs.berkeley.edu/~sseshia/pubdir/hscc17-smc.pdf\n",
    "\n",
    "http://www.cyphylab.ee.ucla.edu/software - z3 + cplex\n",
    "\n",
    "What about KiSSat + JuMP\n",
    "\n",
    "There was that example solver from the paper. It was made by gluing together z3 and cplex.\n",
    "\n",
    "it sure seems like we could plug together math opt interface and z3\n",
    "\n",
    "Or maybe eventually picosay/ kissat/ cadical/ boolector\n",
    "\n",
    "So what happens:\n",
    "SAt solver returns opaque\n",
    "\n",
    "We need to query mathopt for feasibility\n",
    "\n",
    "upon failing to be feasible, we need a small inferred predicate to assert.\n",
    "\n",
    "\n",
    "\n",
    "Zonotope = Affine domain\n",
    "First order taylor expansion.\n",
    "So Intervals + automatic differentiation are sufficient?\n",
    "Could use exact interval arithemtic and collect all the rrors in single term\n",
    "Nonlinear computations don't have such a bad increase of error.\n",
    "\n",
    "\n",
    "Join and mee\n",
    "\n",
    "Join is \"easy\"\n",
    "meet is harder\n",
    "\n",
    "Both suggest zonotope is a generator representation\n",
    "\n",
    "http://www.lix.polytechnique.fr/~putot/Publications/cav09_taylor.pdf\n",
    "http://vmcaischool19.tecnico.ulisboa.pt/~vmcaischool19.daemon/wp/wordpress/wp-content/uploads/2019/01/slidesVMCAI2019.pdf\n",
    "Fluctuat analyzer\n",
    "\n",
    "Satisfiability module JuMP"
   ]
  },
  {
   "cell_type": "markdown",
   "metadata": {},
   "source": [
    "With the metatheory egraph, now we really have the core of an smt solver available.\n",
    "Especially if I can build this explain operation.\n",
    "\n",
    "EUF and SAT.\n",
    "\n",
    "While I want human readable proofs from metatheory. Maybe the way to do that is extract the explanation\n",
    "Could one then interpret the explanation in order of application and orientation using the classical rewrite system?\n",
    "\n",
    "\n",
    "\n",
    "metatheory also provides rewrite rules, which are the seeds of the preoprocessing stage\n",
    "\n",
    "\n",
    "If we pulled together all the corners of the julia ecosystem, we have a very feature complete SMT solver.\n",
    "Intervals\n",
    "groebner and algebra.\n",
    "Homotopy conitnuation\n",
    "Multiprecision stuff\n",
    "algerbaic numbers?\n",
    "\n",
    "\n",
    "That one interface. What was it called? ipasir interface\n",
    "https://github.com/biotomas/ipasir\n",
    "decsription of interfaxce\n",
    "https://github.com/arminbiere/cadical/blob/master/src/cadical.hpp\n",
    "\n",
    "What about just equality? Give me a miniamal subset of \n",
    "\n",
    "MicroSMT - just raw union find and SAT\n",
    "\n",
    "linear equations and SAT?\n",
    "\n",
    "So if I wanted to use ipasir, I should try just writing a C program first.\n",
    "Leaping to FFI is insane.\n",
    "https://github.com/JuliaInterop/Clang.jl/issues clang autogenerates api. Seems like it is working on a big update, so main package is dusty\n",
    "\n"
   ]
  },
  {
   "cell_type": "code",
   "execution_count": 2,
   "metadata": {},
   "outputs": [
    {
     "name": "stderr",
     "output_type": "stream",
     "text": [
      "\u001b[32m\u001b[1m   Resolving\u001b[22m\u001b[39m package versions...\n",
      "\u001b[32m\u001b[1m   Installed\u001b[22m\u001b[39m Qt_jll ─ v5.15.2+3\n",
      "\u001b[32m\u001b[1m    Updating\u001b[22m\u001b[39m `~/.julia/environments/v1.6/Project.toml`\n",
      " \u001b[90m [ff2beb65] \u001b[39m\u001b[92m+ PicoSAT v0.3.3\u001b[39m\n",
      "\u001b[32m\u001b[1m    Updating\u001b[22m\u001b[39m `~/.julia/environments/v1.6/Manifest.toml`\n",
      " \u001b[90m [b99e7846] \u001b[39m\u001b[92m+ BinaryProvider v0.5.10\u001b[39m\n",
      " \u001b[90m [ff2beb65] \u001b[39m\u001b[92m+ PicoSAT v0.3.3\u001b[39m\n",
      " \u001b[90m [ede63266] \u001b[39m\u001b[93m↑ Qt_jll v5.15.2+2 ⇒ v5.15.2+3\u001b[39m\n",
      "\u001b[32m\u001b[1mPrecompiling\u001b[22m\u001b[39m project...\n",
      "\u001b[32m  ✓ \u001b[39m\u001b[90mQt_jll\u001b[39m\n",
      "\u001b[32m  ✓ \u001b[39m\u001b[90mGR_jll\u001b[39m\n",
      "\u001b[32m  ✓ \u001b[39m\u001b[90mBinaryProvider\u001b[39m\n",
      "\u001b[32m  ✓ \u001b[39mPicoSAT\n",
      "\u001b[32m  ✓ \u001b[39m\u001b[90mGR\u001b[39m\n",
      "\u001b[32m  ✓ \u001b[39mPlots\n",
      "6 dependencies successfully precompiled in 40 seconds (186 already precompiled)\n"
     ]
    }
   ],
   "source": [
    "using Pkg\n",
    "Pkg.add(\"PicoSAT\")\n"
   ]
  },
  {
   "cell_type": "code",
   "execution_count": 4,
   "metadata": {},
   "outputs": [
    {
     "name": "stdout",
     "output_type": "stream",
     "text": [
      "[1, -2, -3, -4, 5]\n",
      "[1, -2, -3, 4, -5]\n",
      "[1, -2, -3, 4, 5]\n",
      "[1, -2, 3, -4, -5]\n",
      "[1, -2, 3, -4, 5]\n",
      "[1, 2, 3, -4, -5]\n",
      "[1, 2, 3, -4, 5]\n",
      "[1, 2, -3, -4, 5]\n",
      "[1, 2, -3, 4, -5]\n",
      "[1, 2, -3, 4, 5]\n",
      "[-1, 2, -3, 4, -5]\n",
      "[-1, 2, -3, 4, 5]\n",
      "[-1, 2, -3, -4, -5]\n",
      "[-1, 2, 3, -4, -5]\n",
      "[-1, -2, 3, -4, -5]\n",
      "[-1, -2, -3, -4, -5]\n",
      "[-1, -2, -3, 4, 5]\n",
      "[-1, -2, -3, 4, -5]\n"
     ]
    }
   ],
   "source": [
    "using PicoSAT\n",
    "cnf = Any[[1, -5, 4], [-1, 5, 3, 4], [-3, -4]];\n",
    "PicoSAT.itersolve(cnf)\n",
    "for sol in PicoSAT.itersolve(cnf)\n",
    "           println(sol)\n",
    "end"
   ]
  },
  {
   "cell_type": "code",
   "execution_count": 6,
   "metadata": {},
   "outputs": [
    {
     "name": "stderr",
     "output_type": "stream",
     "text": [
      "\u001b[32m\u001b[1m  Resolving\u001b[22m\u001b[39m package versions...\n",
      "\u001b[32m\u001b[1m  Installed\u001b[22m\u001b[39m Dualization ─ v0.3.3\n",
      "\u001b[32m\u001b[1mUpdating\u001b[22m\u001b[39m `~/.julia/environments/v1.5/Project.toml`\n",
      " \u001b[90m [191a621a] \u001b[39m\u001b[92m+ Dualization v0.3.3\u001b[39m\n",
      "\u001b[32m\u001b[1mUpdating\u001b[22m\u001b[39m `~/.julia/environments/v1.5/Manifest.toml`\n",
      " \u001b[90m [191a621a] \u001b[39m\u001b[92m+ Dualization v0.3.3\u001b[39m\n"
     ]
    }
   ],
   "source": [
    "using Pkg\n",
    "Pkg.add(\"Dualization\")"
   ]
  },
  {
   "cell_type": "code",
   "execution_count": 5,
   "metadata": {},
   "outputs": [
    {
     "data": {
      "text/html": [
       "q"
      ],
      "text/plain": [
       "PyObject q"
      ]
     },
     "execution_count": 5,
     "metadata": {},
     "output_type": "execute_result"
    }
   ],
   "source": [
    "using PyCall\n",
    "z3 = pyimport(\"z3\")\n",
    "q = z3.Bool(\"q\")"
   ]
  },
  {
   "cell_type": "markdown",
   "metadata": {},
   "source": [
    "It might be worthwhile just to use z3 to start. I know it, and Picosat isn't going to be that pleasant to wrko with, and I should be using boolector / kissat anyhow.\n",
    "\n",
    "https://github.com/jump-dev/Dualization.jl"
   ]
  },
  {
   "cell_type": "code",
   "execution_count": null,
   "metadata": {},
   "outputs": [],
   "source": [
    "using JuMP\n",
    "using GLPK\n",
    "using Dualization\n",
    "\n",
    "model = Model(GLPK.Optimizer)\n",
    "\n",
    "\n",
    "\n",
    "@objective(model, Min, 5x + 3 * y)\n"
   ]
  },
  {
   "cell_type": "code",
   "execution_count": 3,
   "metadata": {},
   "outputs": [
    {
     "data": {
      "text/latex": [
       "$$ \\begin{alignat*}{1}\\max\\quad & noname + noname\\\\\n",
       "\\text{Subject to} \\quad & noname + noname = 0.0\\\\\n",
       " & noname = 0.0\\\\\n",
       " & 0 = 0.0\\\\\n",
       " & noname \\geq 0.0\\\\\n",
       " & noname \\geq 0.0\\\\\n",
       "\\end{alignat*}\n",
       " $$"
      ],
      "text/plain": [
       "A JuMP Model\n",
       "Maximization problem with:\n",
       "Variables: 2\n",
       "Objective function type: GenericAffExpr{Float64,VariableRef}\n",
       "`GenericAffExpr{Float64,VariableRef}`-in-`MathOptInterface.EqualTo{Float64}`: 3 constraints\n",
       "`VariableRef`-in-`MathOptInterface.GreaterThan{Float64}`: 2 constraints\n",
       "Model mode: AUTOMATIC\n",
       "CachingOptimizer state: NO_OPTIMIZER\n",
       "Solver name: No optimizer attached."
      ]
     },
     "execution_count": 3,
     "metadata": {},
     "output_type": "execute_result"
    }
   ],
   "source": [
    "using JuMP\n",
    "using GLPK\n",
    "using Dualization\n",
    "\n",
    "# Solving a problem the standard way\n",
    "model = Model(dual_optimizer(GLPK.Optimizer))\n",
    "@variable(model, x)\n",
    "@variable(model, y)\n",
    "@variable(model, z)\n",
    "@constraint(model, con1, x + y >= 1)\n",
    "@constraint(model, con2, x >= 1)\n",
    "@objective(model, Min, 0)\n",
    "dualize(model)"
   ]
  },
  {
   "cell_type": "code",
   "execution_count": null,
   "metadata": {},
   "outputs": [],
   "source": [
    "struct Model\n",
    "    linConstraints :: \n",
    "\n",
    "end"
   ]
  }
 ],
 "metadata": {
  "kernelspec": {
   "display_name": "Julia 1.6.0",
   "language": "julia",
   "name": "julia-1.6"
  },
  "language_info": {
   "file_extension": ".jl",
   "mimetype": "application/julia",
   "name": "julia",
   "version": "1.6.0"
  }
 },
 "nbformat": 4,
 "nbformat_minor": 4
}
