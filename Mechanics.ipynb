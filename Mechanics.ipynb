{
 "cells": [
  {
   "cell_type": "code",
   "execution_count": 5,
   "metadata": {},
   "outputs": [],
   "source": [
    "from sympy import *\n",
    "init_printing()"
   ]
  },
  {
   "cell_type": "code",
   "execution_count": 10,
   "metadata": {},
   "outputs": [],
   "source": [
    "from IPython.core.interactiveshell import InteractiveShell\n",
    "InteractiveShell.ast_node_interactivity = \"all\" # \"last_expr\"\n",
    "# https://stackoverflow.com/questions/36786722/how-to-display-full-output-in-jupyter-not-only-last-result\n",
    "# 'all', 'last', 'last_expr', 'none', 'last_expr_or_assign'"
   ]
  },
  {
   "cell_type": "code",
   "execution_count": 2,
   "metadata": {},
   "outputs": [
    {
     "data": {
      "text/plain": [
       "Eq(x(t), C1*sin(sqrt(k)*t/sqrt(m)) + C2*cos(sqrt(k)*t/sqrt(m)))"
      ]
     },
     "execution_count": 2,
     "metadata": {},
     "output_type": "execute_result"
    }
   ],
   "source": [
    "# simple harmonic oscillator lagrangian style\n",
    "m, k = symbols(\"m k\", real = True, positive=True)\n",
    "v, q = symbols(\"v q\")\n",
    "K = Rational(1,2) * m * v ** 2 #kinetic energy\n",
    "V = Rational(1,2) * k * q ** 2 # potential energy\n",
    "L =  K - V  #Lagrangian\n",
    "F = diff(L,q) # force\n",
    "p = diff(L,v) # momentum\n",
    "\n",
    "x_ = Function(\"x\")\n",
    "t = symbols(\"t\")\n",
    "\n",
    "x = x_(t)\n",
    "\n",
    "subst = { v : diff(x,t),\n",
    "         q : x} # replacement to turn q into a function x\n",
    "\n",
    "# euler-lagrange equations of motion\n",
    "eq = F.subs( subst ) - diff( p.subs(subst)  , t )\n",
    "dsolve(eq) # general solution cosine and sines"
   ]
  },
  {
   "cell_type": "code",
   "execution_count": 3,
   "metadata": {},
   "outputs": [
    {
     "data": {
      "text/plain": [
       "(k*m*q**2 + p**2)/(2*m)"
      ]
     },
     "execution_count": 3,
     "metadata": {},
     "output_type": "execute_result"
    }
   ],
   "source": [
    "# legendre transformation to hamiltonian\n",
    "p = symbols( \"p\" )\n",
    "H_ = p * v - L # hamiltonian but we haven't solved out v yet\n",
    "v_of_pq = solve(diff(H_, v), v)[0] # set derivative to 0 to solve for v.\n",
    "H = simplify(H_.subs(v, v_of_pq )) # substitue back in. Here is the actual hamiltonian\n",
    "H"
   ]
  },
  {
   "cell_type": "code",
   "execution_count": null,
   "metadata": {},
   "outputs": [],
   "source": [
    "#elephant problem - special realtivity\n",
    "\n",
    "tau , t1, t2, x1, v, c, T = symbols(\"tau t1 t2 c1 v c T\")\n",
    "\n",
    "eqs = [\n",
    "    tau**2 - (t1**2 - x1**2 / c**2),\n",
    "    x1 - v * t1,\n",
    "    c * t2 - x1,\n",
    "    T - t1 - t2,\n",
    "    tau - 21\n",
    "    \n",
    "]\n",
    "\n",
    "groebner(eqs, tau , t1, t2, x1, v, T)"
   ]
  },
  {
   "cell_type": "code",
   "execution_count": 13,
   "metadata": {},
   "outputs": [
    {
     "data": {
      "image/png": "[encoded data removed]",
      "text/latex": [
       "$$- \\frac{L g}{2} m \\sin{\\left (\\theta \\right )}$$"
      ],
      "text/plain": [
       "-L⋅g⋅m⋅sin(θ) \n",
       "──────────────\n",
       "      2       "
      ]
     },
     "execution_count": 13,
     "metadata": {},
     "output_type": "execute_result"
    },
    {
     "data": {
      "image/png": "[encoded data removed]",
      "text/latex": [
       "$$L^{2} m \\omega$$"
      ],
      "text/plain": [
       " 2    \n",
       "L ⋅m⋅ω"
      ]
     },
     "execution_count": 13,
     "metadata": {},
     "output_type": "execute_result"
    }
   ],
   "source": [
    "#simple harmonic oscillator lagrangian style\n",
    "m, g, L = symbols(\"m g L\", real = True, positive=True)\n",
    "theta, w = symbols(\"theta omega\")\n",
    "K = Rational(1,2) * m * (w * L) ** 2 #kinetic energy\n",
    "V = - Rational(1,2) * m * g * L * cos(theta) # potential energy. angle is defined as 0 = hanging down\n",
    "L =  K - V  #Lagrangian\n",
    "F = diff(L,theta) # force\n",
    "p = diff(L,w) # momentum\n",
    "F\n",
    "p\n",
    "\n",
    "x_ = Function(\"theta\")\n",
    "t = symbols(\"t\")\n",
    "\n",
    "x = x_(t)\n",
    "\n",
    "subst = { w : diff(x,t),\n",
    "         theta : x} # replacement to turn q into a function x\n",
    "\n",
    "# euler-lagrange equations of motion\n",
    "eq = F.subs( subst ) - diff( p.subs(subst)  , t )\n",
    "\n",
    "#dsolve(eq) \n",
    "\n"
   ]
  },
  {
   "cell_type": "code",
   "execution_count": null,
   "metadata": {},
   "outputs": [],
   "source": []
  }
 ],
 "metadata": {
  "kernelspec": {
   "display_name": "Python 3",
   "language": "python",
   "name": "python3"
  },
  "language_info": {
   "codemirror_mode": {
    "name": "ipython",
    "version": 3
   },
   "file_extension": ".py",
   "mimetype": "text/x-python",
   "name": "python",
   "nbconvert_exporter": "python",
   "pygments_lexer": "ipython3",
   "version": "3.8.2"
  }
 },
 "nbformat": 4,
 "nbformat_minor": 4
}
