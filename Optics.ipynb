{
 "cells": [
  {
   "cell_type": "code",
   "execution_count": 1,
   "metadata": {},
   "outputs": [],
   "source": [
    "from sympy import *"
   ]
  },
  {
   "cell_type": "markdown",
   "metadata": {},
   "source": [
    "Can I demonstrate etendue?\n",
    "\n",
    "Take random monte carlo thingos over the source.\n",
    "\n",
    "2d is easier. ignore the r factor. I mean... It's pretty good just to deal with phase\n",
    "\n",
    "\n"
   ]
  },
  {
   "cell_type": "code",
   "execution_count": 6,
   "metadata": {},
   "outputs": [
    {
     "data": {
      "text/plain": [
       "exp(I*sqrt(kL**2 + (ka - ky)**2)) + exp(I*sqrt(kL**2 + (ka + ky)**2))"
      ]
     },
     "execution_count": 6,
     "metadata": {},
     "output_type": "execute_result"
    }
   ],
   "source": [
    "x,y,z,x1,y1,z1 = symbols(\"x y z x1 y1 z1\")\n",
    "k, a, L, lam = symbols(\"k a L lambda\", real = True, positive = True)\n",
    "ky, ka, kL = symbols(\"ky ka kL\", real = True, positive = True ) # non deimnsional\n",
    "\n",
    "subst = {\n",
    "   y : ky / k,\n",
    "   L : kL / k,\n",
    "   a : ka / k\n",
    "}\n",
    "\n",
    "\n",
    "# double slit of size 2 a\n",
    "# screen L away.\n",
    "# position y on screen\n",
    "d1 = series(sqrt((+ a - y)**2 + L**2).subs(subst) , ka/kL)\n",
    "d2 = sqrt((- a - y)**2 + L**2)\n",
    "\n",
    "pattern = exp(I * k * d1) + exp(I * k * d2)\n",
    "\n",
    "simplify(pattern.subs(subst))\n",
    "\n",
    "#draw this somehow?\n"
   ]
  },
  {
   "cell_type": "code",
   "execution_count": null,
   "metadata": {},
   "outputs": [],
   "source": [
    "# many slit"
   ]
  },
  {
   "cell_type": "code",
   "execution_count": null,
   "metadata": {},
   "outputs": [],
   "source": [
    "# single slit\n",
    "# integrate\n",
    "\n"
   ]
  },
  {
   "cell_type": "code",
   "execution_count": null,
   "metadata": {},
   "outputs": [],
   "source": [
    "#fourier optics"
   ]
  },
  {
   "cell_type": "code",
   "execution_count": null,
   "metadata": {},
   "outputs": [],
   "source": [
    "# single slit, extended source.\n",
    "# cittert van zernike theorem\n",
    "# basically integrate up power spectrum for different incoming k.\n",
    "# or do a monte carlo"
   ]
  },
  {
   "cell_type": "code",
   "execution_count": null,
   "metadata": {},
   "outputs": [],
   "source": [
    "# but this is not true either. Really we need to talk about temporal coherency as well\n"
   ]
  },
  {
   "cell_type": "code",
   "execution_count": 8,
   "metadata": {},
   "outputs": [
    {
     "data": {
      "text/plain": [
       "exp(2*I*pi*k*sqrt((x - x1)**2 + (y - y1)**2 + (z - z1)**2))/sqrt((x - x1)**2 + (y - y1)**2 + (z - z1)**2)"
      ]
     },
     "execution_count": 8,
     "metadata": {},
     "output_type": "execute_result"
    }
   ],
   "source": [
    "x,y,z,x1,y1,z1 = symbols(\"x y z x1 y1 z1\")\n",
    "k = symbols('k')\n",
    "r = sqrt((x - x1)**2 + (y - y1)**2 + (z - z1)**2)\n",
    "def G(x,y,z,x1,y1,z1):\n",
    "    return exp(2 * pi * I * k * r) / r\n",
    "\n",
    "G(x,y,z,x1,y1,z1)\n"
   ]
  },
  {
   "cell_type": "code",
   "execution_count": null,
   "metadata": {},
   "outputs": [],
   "source": [
    "integrate(G()*G()"
   ]
  },
  {
   "cell_type": "code",
   "execution_count": 25,
   "metadata": {},
   "outputs": [
    {
     "data": {
      "text/plain": [
       "exp(I*k*sqrt(x1**2)) + y1**4*(-k**2*exp(I*k*sqrt(x1**2))/(8*x1**2) - I*k*sqrt(x1**2)*exp(I*k*sqrt(x1**2))/(8*x1**4)) + I*k*y1**2*sqrt(x1**2)*exp(I*k*sqrt(x1**2))/(2*x1**2) + O(y1**6)"
      ]
     },
     "execution_count": 25,
     "metadata": {},
     "output_type": "execute_result"
    }
   ],
   "source": [
    "\n",
    "x1, x2, y1, y2 = symbols(\"x1 x2 y1 y2\")\n",
    "k = symbols(\"k\", real=True)\n",
    "a = symbols(\"a\", real=True, positive=True)\n",
    "r1 = sqrt(x1**2 + y1**2)\n",
    "r2 = sqrt((x1-x2)**2 + (y1-y2)**2)\n",
    "#integrate(exp(I * k * (r1 + r2)), (y1,-a,a))\n",
    "#series(exp(I * k * (r1 + r2)), y1)\n",
    "series( exp(I * k * r1),  y1 )\n",
    "#series(r2 ,  )"
   ]
  },
  {
   "cell_type": "code",
   "execution_count": 26,
   "metadata": {},
   "outputs": [
    {
     "data": {
      "text/plain": [
       "Piecewise((-I*exp(I*a*k)/k + I*exp(-I*a*k)/k, (k > -oo) & (k < oo) & Ne(k, 0)), (2*a, True))"
      ]
     },
     "execution_count": 26,
     "metadata": {},
     "output_type": "execute_result"
    }
   ],
   "source": [
    "integrate(exp(I * k * y1), (y1,-a,a))"
   ]
  },
  {
   "cell_type": "markdown",
   "metadata": {},
   "source": [
    "\n",
    "GEOMETtrical optiocs.\n",
    "\n",
    "\n",
    "Thin lens, trace the three lines\n",
    "\n",
    "\n",
    "hi do, di, ho, f\n",
    "\n",
    "\n",
    "hi * do = ho * di # simiarlity of centra ray\n",
    "hi   == "
   ]
  },
  {
   "cell_type": "code",
   "execution_count": null,
   "metadata": {},
   "outputs": [],
   "source": [
    "#THIN LENS\n",
    "\n",
    "di, do, f = symbols(\"di do f\")\n",
    "eq1 = 1/di + 1/do - 1/f\n",
    "m = -di / do\n",
    "\n",
    "\n",
    "\n",
    "\n"
   ]
  },
  {
   "cell_type": "code",
   "execution_count": null,
   "metadata": {},
   "outputs": [],
   "source": [
    "# the spherical mirror\n",
    "\n",
    "\n",
    "\n"
   ]
  },
  {
   "cell_type": "code",
   "execution_count": 28,
   "metadata": {},
   "outputs": [
    {
     "ename": "ModuleNotFoundError",
     "evalue": "No module named 'sympy.polys.multivariate_resultants'",
     "output_type": "error",
     "traceback": [
      "\u001b[0;31m---------------------------------------------------------------------------\u001b[0m",
      "\u001b[0;31mModuleNotFoundError\u001b[0m                       Traceback (most recent call last)",
      "\u001b[0;32m<ipython-input-28-d384b2c89d5c>\u001b[0m in \u001b[0;36m<module>\u001b[0;34m\u001b[0m\n\u001b[1;32m     19\u001b[0m \u001b[0mresultant\u001b[0m\u001b[0;34m(\u001b[0m\u001b[0meqs\u001b[0m\u001b[0;34m[\u001b[0m\u001b[0;36m0\u001b[0m\u001b[0;34m]\u001b[0m\u001b[0;34m,\u001b[0m \u001b[0meqs\u001b[0m\u001b[0;34m[\u001b[0m\u001b[0;36m1\u001b[0m\u001b[0;34m]\u001b[0m\u001b[0;34m,\u001b[0m \u001b[0md\u001b[0m\u001b[0;34m)\u001b[0m\u001b[0;34m\u001b[0m\u001b[0;34m\u001b[0m\u001b[0m\n\u001b[1;32m     20\u001b[0m \u001b[0;34m\u001b[0m\u001b[0m\n\u001b[0;32m---> 21\u001b[0;31m \u001b[0;32mfrom\u001b[0m \u001b[0msympy\u001b[0m\u001b[0;34m.\u001b[0m\u001b[0mpolys\u001b[0m\u001b[0;34m.\u001b[0m\u001b[0mmultivariate_resultants\u001b[0m \u001b[0;32mimport\u001b[0m \u001b[0mMacaulayResultant\u001b[0m\u001b[0;34m\u001b[0m\u001b[0;34m\u001b[0m\u001b[0m\n\u001b[0m\u001b[1;32m     22\u001b[0m \u001b[0;34m\u001b[0m\u001b[0m\n\u001b[1;32m     23\u001b[0m \u001b[0mmac\u001b[0m \u001b[0;34m=\u001b[0m \u001b[0mMacaulayResultant\u001b[0m\u001b[0;34m(\u001b[0m\u001b[0mpolynomials\u001b[0m\u001b[0;34m=\u001b[0m\u001b[0meqs\u001b[0m\u001b[0;34m,\u001b[0m \u001b[0mvariables\u001b[0m\u001b[0;34m=\u001b[0m\u001b[0;34m[\u001b[0m\u001b[0mx\u001b[0m\u001b[0;34m,\u001b[0m \u001b[0my\u001b[0m\u001b[0;34m,\u001b[0m \u001b[0mz\u001b[0m\u001b[0;34m]\u001b[0m\u001b[0;34m)\u001b[0m\u001b[0;34m\u001b[0m\u001b[0;34m\u001b[0m\u001b[0m\n",
      "\u001b[0;31mModuleNotFoundError\u001b[0m: No module named 'sympy.polys.multivariate_resultants'"
     ]
    }
   ],
   "source": [
    "# atorus\n",
    " # https://math.stackexchange.com/questions/115589/polynomial-torus\n",
    "x,y,z = symbols(\"x y z\")\n",
    "R,r,d = symbols(\"R r d\")\n",
    "\n",
    "\n",
    "'''\n",
    "eqs = [ x**2 + y **2 - R**2,\n",
    "       R**2 + z**2 + r**2\n",
    "      ]\n",
    "\n",
    "groebner(eqs, x,y,z)\n",
    " '''\n",
    "\n",
    "eqs = [(R - d)**2 + z**2 - r**2,\n",
    "d**2 - x**2 - y**2]\n",
    "factor(groebner(eqs, d, x,y,z)[-1])\n",
    "\n",
    "resultant(eqs[0], eqs[1], d) # same thing, although kind of suspect?\n",
    "\n",
    "#from sympy.polys.multivariate_resultants import MacaulayResultant\n",
    "\n",
    "#mac = MacaulayResultant(polynomials=eqs, variables=[x, y, z])\n",
    "# what the ehll are these even doing\n",
    "\n",
    "\n",
    "\n",
    "# partilce on sphere, particle on torus\n"
   ]
  },
  {
   "cell_type": "code",
   "execution_count": null,
   "metadata": {},
   "outputs": [],
   "source": [
    "# the spherical lens\n",
    "\n"
   ]
  },
  {
   "cell_type": "code",
   "execution_count": null,
   "metadata": {},
   "outputs": [],
   "source": [
    "eq = x**2 + y**2 - R**2\n",
    "# snell's law\n",
    "\n",
    "p0 t + x0\n",
    "\n",
    "differential(eq)\n",
    "\n"
   ]
  },
  {
   "cell_type": "code",
   "execution_count": 27,
   "metadata": {},
   "outputs": [
    {
     "data": {
      "image/png": "[encoded data removed]",
      "text/latex": [
       "$$0$$"
      ],
      "text/plain": [
       "0"
      ]
     },
     "execution_count": 27,
     "metadata": {},
     "output_type": "execute_result"
    }
   ],
   "source": [
    "from sympy import *\n",
    "from sympy.abc import x,y,z,k,w,t,a, b\n",
    "init_printing()\n",
    "psi = Function(\"psi\")\n",
    "phi = psi(x,y,z)*exp(I * k * z + I * w * t )\n",
    "wave = diff(phi,x,2) + diff(phi,y,2) + diff(phi,z,2) - diff(phi,t,2) \n",
    "schrod = sum(factor(wave.subs(w**2, k**2)).args[0].args[:3])\n",
    "simplify(schrod.subs(psi(x,y,z), exp(k/2 * I * (x**2 + y**2) / z )/z).doit())\n",
    "# can convolve with the kernel to get what any shape gives.\n",
    "# long time, seperates out into momentum components = fourier optics at fraunhofer field"
   ]
  },
  {
   "cell_type": "code",
   "execution_count": 33,
   "metadata": {},
   "outputs": [
    {
     "data": {
      "image/png": "[encoded data removed]",
      "text/latex": [
       "$$\\left ( \\left(\\frac{d}{d t} \\operatorname{dq}{\\left (t \\right )}\\right)^{2} + 2 \\frac{d}{d t} \\operatorname{dq}{\\left (t \\right )} \\frac{d}{d t} q{\\left (t \\right )} + \\left(\\frac{d}{d t} q{\\left (t \\right )}\\right)^{2}, \\quad \\left ( t, \\quad 0, \\quad 1\\right )\\right )$$"
      ],
      "text/plain": [
       "⎛           2                                    2           ⎞\n",
       "⎜⎛d        ⎞      d         d          ⎛d       ⎞            ⎟\n",
       "⎜⎜──(dq(t))⎟  + 2⋅──(dq(t))⋅──(q(t)) + ⎜──(q(t))⎟ , (t, 0, 1)⎟\n",
       "⎝⎝dt       ⎠      dt        dt         ⎝dt      ⎠            ⎠"
      ]
     },
     "execution_count": 33,
     "metadata": {},
     "output_type": "execute_result"
    }
   ],
   "source": [
    "q =Function(\"q\")\n",
    "dq = Function(\"dq\")\n",
    "series(integrate(  diff(q(t), t)**2, (t, 0,1)).subs(q(t), q(t) + dq(t)), dq(t))."
   ]
  },
  {
   "cell_type": "code",
   "execution_count": 48,
   "metadata": {},
   "outputs": [],
   "source": [
    "from sympy.integrals.manualintegrate import PartsRule, parts_rule, _parts_rule"
   ]
  },
  {
   "cell_type": "code",
   "execution_count": 36,
   "metadata": {},
   "outputs": [
    {
     "name": "stdout",
     "output_type": "stream",
     "text": [
      "Help on class PartsRule in module sympy.integrals.manualintegrate:\n",
      "\n",
      "class PartsRule(builtins.tuple)\n",
      " |  PartsRule(u, dv, v_step, second_step, context, symbol)\n",
      " |  \n",
      " |  PartsRule(u, dv, v_step, second_step, context, symbol)\n",
      " |  \n",
      " |  Method resolution order:\n",
      " |      PartsRule\n",
      " |      builtins.tuple\n",
      " |      builtins.object\n",
      " |  \n",
      " |  Methods defined here:\n",
      " |  \n",
      " |  __eq__(self, other)\n",
      " |      # GOTCHA: namedtuple class name not considered!\n",
      " |  \n",
      " |  __getnewargs__(self)\n",
      " |      Return self as a plain tuple.  Used by copy and pickle.\n",
      " |  \n",
      " |  __ne__ lambda self, other\n",
      " |  \n",
      " |  __repr__(self)\n",
      " |      Return a nicely formatted representation string\n",
      " |  \n",
      " |  _asdict(self)\n",
      " |      Return a new OrderedDict which maps field names to their values.\n",
      " |  \n",
      " |  _replace(_self, **kwds)\n",
      " |      Return a new PartsRule object replacing specified fields with new values\n",
      " |  \n",
      " |  ----------------------------------------------------------------------\n",
      " |  Class methods defined here:\n",
      " |  \n",
      " |  _make(iterable) from builtins.type\n",
      " |      Make a new PartsRule object from a sequence or iterable\n",
      " |  \n",
      " |  ----------------------------------------------------------------------\n",
      " |  Static methods defined here:\n",
      " |  \n",
      " |  __new__(_cls, u, dv, v_step, second_step, context, symbol)\n",
      " |      Create new instance of PartsRule(u, dv, v_step, second_step, context, symbol)\n",
      " |  \n",
      " |  ----------------------------------------------------------------------\n",
      " |  Data descriptors defined here:\n",
      " |  \n",
      " |  u\n",
      " |      Alias for field number 0\n",
      " |  \n",
      " |  dv\n",
      " |      Alias for field number 1\n",
      " |  \n",
      " |  v_step\n",
      " |      Alias for field number 2\n",
      " |  \n",
      " |  second_step\n",
      " |      Alias for field number 3\n",
      " |  \n",
      " |  context\n",
      " |      Alias for field number 4\n",
      " |  \n",
      " |  symbol\n",
      " |      Alias for field number 5\n",
      " |  \n",
      " |  ----------------------------------------------------------------------\n",
      " |  Data and other attributes defined here:\n",
      " |  \n",
      " |  _field_defaults = {}\n",
      " |  \n",
      " |  _fields = ('u', 'dv', 'v_step', 'second_step', 'context', 'symbol')\n",
      " |  \n",
      " |  _fields_defaults = {}\n",
      " |  \n",
      " |  ----------------------------------------------------------------------\n",
      " |  Methods inherited from builtins.tuple:\n",
      " |  \n",
      " |  __add__(self, value, /)\n",
      " |      Return self+value.\n",
      " |  \n",
      " |  __contains__(self, key, /)\n",
      " |      Return key in self.\n",
      " |  \n",
      " |  __ge__(self, value, /)\n",
      " |      Return self>=value.\n",
      " |  \n",
      " |  __getattribute__(self, name, /)\n",
      " |      Return getattr(self, name).\n",
      " |  \n",
      " |  __getitem__(self, key, /)\n",
      " |      Return self[key].\n",
      " |  \n",
      " |  __gt__(self, value, /)\n",
      " |      Return self>value.\n",
      " |  \n",
      " |  __hash__(self, /)\n",
      " |      Return hash(self).\n",
      " |  \n",
      " |  __iter__(self, /)\n",
      " |      Implement iter(self).\n",
      " |  \n",
      " |  __le__(self, value, /)\n",
      " |      Return self<=value.\n",
      " |  \n",
      " |  __len__(self, /)\n",
      " |      Return len(self).\n",
      " |  \n",
      " |  __lt__(self, value, /)\n",
      " |      Return self<value.\n",
      " |  \n",
      " |  __mul__(self, value, /)\n",
      " |      Return self*value.\n",
      " |  \n",
      " |  __rmul__(self, value, /)\n",
      " |      Return value*self.\n",
      " |  \n",
      " |  count(self, value, /)\n",
      " |      Return number of occurrences of value.\n",
      " |  \n",
      " |  index(self, value, start=0, stop=9223372036854775807, /)\n",
      " |      Return first index of value.\n",
      " |      \n",
      " |      Raises ValueError if the value is not present.\n",
      "\n"
     ]
    }
   ],
   "source": [
    "help(PartsRule)"
   ]
  },
  {
   "cell_type": "code",
   "execution_count": 51,
   "metadata": {},
   "outputs": [
    {
     "data": {
      "text/plain": [
       "(t, cos(t), sin(t), 1, TrigRule(func='cos', arg=t, context=cos(t), symbol=t))"
      ]
     },
     "execution_count": 51,
     "metadata": {},
     "output_type": "execute_result"
    }
   ],
   "source": [
    "_parts_rule( t * cos(t), t  )"
   ]
  },
  {
   "cell_type": "code",
   "execution_count": 50,
   "metadata": {},
   "outputs": [],
   "source": [
    "_parts_rule( diff(q(t),t)**2   ,t )"
   ]
  },
  {
   "cell_type": "markdown",
   "metadata": {},
   "source": [
    "Ok. `_parts_rule` has good stuff.\n",
    "However it calls manual integrate recusrively and doesn't return anything if it only makes progress\n",
    "\n",
    "At it's core i feel like it is very similar to what i was suggesting\n",
    "However it has better auto recognition\n",
    "\n",
    "\n",
    "It really isn't designed for abstract integral manipulation\n",
    "\n"
   ]
  },
  {
   "cell_type": "code",
   "execution_count": 53,
   "metadata": {},
   "outputs": [
    {
     "data": {
      "image/png": "[encoded data removed]",
      "text/latex": [
       "$$\\int_{0}^{1} t \\frac{d^{2}}{d t^{2}} q{\\left (t \\right )}\\, dt$$"
      ],
      "text/plain": [
       "1               \n",
       "⌠               \n",
       "⎮     2         \n",
       "⎮    d          \n",
       "⎮ t⋅───(q(t)) dt\n",
       "⎮     2         \n",
       "⎮   dt          \n",
       "⌡               \n",
       "0               "
      ]
     },
     "execution_count": 53,
     "metadata": {},
     "output_type": "execute_result"
    }
   ],
   "source": [
    "integrate(  diff(q(t), t,2)* t, (t, 0,1)) # "
   ]
  },
  {
   "cell_type": "code",
   "execution_count": null,
   "metadata": {},
   "outputs": [],
   "source": [
    "k, x, y, z = sy.var(\"k x y z\")\n",
    "psi = sy.Function(\"psi\")\n",
    "sy.pprint(sy.diff(psi(x,y,z)*sy.exp(1.j * k * z), z))"
   ]
  }
 ],
 "metadata": {
  "kernelspec": {
   "display_name": "Python 3",
   "language": "python",
   "name": "python3"
  },
  "language_info": {
   "codemirror_mode": {
    "name": "ipython",
    "version": 3
   },
   "file_extension": ".py",
   "mimetype": "text/x-python",
   "name": "python",
   "nbconvert_exporter": "python",
   "pygments_lexer": "ipython3",
   "version": "3.6.8"
  }
 },
 "nbformat": 4,
 "nbformat_minor": 2
}
