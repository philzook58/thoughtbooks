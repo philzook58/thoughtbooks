{
 "cells": [
  {
   "cell_type": "code",
   "execution_count": null,
   "metadata": {},
   "outputs": [],
   "source": [
    "#x1,y1,x2,y2,x3,y3 = Reals(\"x1 y1 x2 y2 x3 y3\")\n",
    "p1 = np.array(Reals(\"x1 y1\"))\n",
    "p2 = np.array(Reals(\"x2 y2\"))\n",
    "p3 = np.array(Reals(\"x3 y3\"))\n",
    "\n",
    "\n",
    "pb = (p1 + p2 + p3) / 3 # barycenter of triangle\n",
    "\n",
    "# midpoints\n",
    "m12 = (p1+p2) /2 \n",
    "m23 = (p2+p3) /2\n",
    "m31 = (p3+p1) /2\n",
    "\n",
    "# The fraction 2/3\n",
    "t12, t23, t31 = Q(2,3), Q(2,3), Q(2,3)\n",
    "\n",
    "# intersection point of two middles\n",
    "a12 = p3 + (m12 - p3) * t12\n",
    "a23 = p1 + (m23 - p1) * t23\n",
    "b31 = p2 + (m31 - p2) * t31\n",
    "\n",
    "import operator as op\n",
    "def vec_eq(x,y):\n",
    "    return And(np.vectorize(op.eq)(x,y).tolist())\n",
    "\n",
    "prove(And(vec_eq(a12,pb), vec_eq(a23,pb), vec_eq( b31,pb)))\n",
    "\n",
    "def norm2(x):\n",
    "    return np.dot(x,x)\n",
    "prove(norm2(m12-p3) / 3**2 == norm2( m12 - a12) ) # distance is 1/3 \n"
   ]
  }
 ],
 "metadata": {
  "kernelspec": {
   "display_name": "Python 3",
   "language": "python",
   "name": "python3"
  },
  "language_info": {
   "codemirror_mode": {
    "name": "ipython",
    "version": 3
   },
   "file_extension": ".py",
   "mimetype": "text/x-python",
   "name": "python",
   "nbconvert_exporter": "python",
   "pygments_lexer": "ipython3",
   "version": "3.7.5"
  }
 },
 "nbformat": 4,
 "nbformat_minor": 2
}
