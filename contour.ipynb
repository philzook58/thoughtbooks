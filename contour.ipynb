{
 "cells": [
  {
   "cell_type": "markdown",
   "metadata": {},
   "source": [
    "Contour integrals are neato\n",
    "\n",
    "An eigenvalue method:\n",
    "Pole grabber - resultant\n",
    "\n",
    "\n",
    "\n",
    "\n",
    "A numerical differentiation method:\n",
    "f^n(x) = int (z - x)^n \n",
    "\n",
    "Kramers-kronig?\n",
    "\n",
    "\n",
    "\n",
    "circle_contour(f, x, R)\n",
    "function line_contour(f, z0, d)\n",
    "    line_param\n",
    "\n",
    "\n",
    "making it parAMETRIZED BY LENGTHis nice since we don't need to consider substitutin factors.\n",
    "Although, we can use automatic diff to do it... Hmmm\n",
    "\n",
    "Basically mimic canvas api.\n",
    "\n",
    "circle(z,R) = s -> z + R * exp(2 * pi * j * t / R)\n",
    "arc\n",
    "rect\n",
    "lineseq\n",
    "\n",
    "\n",
    "We can plot them.\n",
    "\n",
    "path transformers. do not depend on t. only act on x\n",
    "\n",
    "rotate\n",
    "translate\n",
    "scale\n",
    "\n",
    "\n",
    "Root-finding?  p(x)  ->  x / p(x) -> gives sum of roots. Goofy, but sure.\n",
    "\n",
    "\n",
    "\n",
    "\n",
    "\n",
    "( like homotopy compose )\n",
    "compose(path1,path2) = \n",
    "   @assert is_approx_equal( path1(1)  , path2(0) )\n",
    "   1/2 * 1/2\n",
    "\n",
    "This is using a mapping from \n",
    "\n",
    "And we still get differentiation. Hmmm. That's nice.\n",
    "\n",
    "If we give a srurface in 2 homotopy form, we can use the thingy. Stokes integral\n",
    "f(t,u), g(t,u) such that\n",
    "The unit square.\n",
    "\n",
    "hcomp\n",
    "vcomp\n",
    "verifying we've actually patched continuosuly is a little harder in this case.\n",
    "And detecting that we're actually the exterior derivative of something is hard too.\n",
    "\n",
    "\n",
    "\n",
    "\n",
    "method of steepest descent:\n",
    "Use JuMP to minimize, or general purpose global opt of some kind.\n",
    "Use derivative at point to pick contour.\n",
    "expand at position.\n",
    "Numerically do..?\n",
    "\n",
    "\n",
    "\n",
    "The theta phi sphere\n",
    "\n",
    "\n",
    "Hmm. I could make the compose by construction if they all have the convention of starting at (0,0) and stopping at (1,0)\n",
    "\n",
    "Then the only way to shift them is the translation combinators. And it is assumed I shift the second to start at the other's end. And then scale down by a factor of 2? This is an odd plan.\n",
    "\n",
    "\n",
    "\n",
    "\n",
    "assume 0 to 1.\n",
    "integ(f, p) = f \\circ param(t) / param'(t)\n",
    "\n",
    "\n",
    "\n",
    "\n",
    "Solving pdes?\n",
    "Or is that more of a conformal mapping thing\n",
    "\n",
    "\n",
    "\n",
    "Circle packing and complex analysis is interesting\n",
    "\n",
    "\n",
    "https://discourse.julialang.org/t/numerical-integration-over-given-integral-how-to-do-it-in-julia/14267/3\n",
    "https://github.com/JuliaApproximation/FastGaussQuadrature.jl\n",
    "https://github.com/JuliaMath/QuadGK.jl\n",
    "\n",
    "https://juliadiff.org/\n",
    "\n",
    "Julia and typeclasses.\n",
    "Is Julia kind of like splitting typeclass into 1c function guys\n",
    "\n",
    "\n",
    "https://juliadiff.org/ChainRulesCore.jl/stable/FAQ.html#Where-can-I-learn-more-about-AD-?\n",
    "Simon peyton jones talk. What a gem\n",
    "\n",
    "Wirtinger derivative. Never heard o that\n",
    "\n",
    "http://www.johnlapeyre.com/posts/complex-step-differentiation/"
   ]
  },
  {
   "cell_type": "code",
   "execution_count": 7,
   "metadata": {},
   "outputs": [
    {
     "name": "stderr",
     "output_type": "stream",
     "text": [
      "\u001b[32m\u001b[1m   Resolving\u001b[22m\u001b[39m package versions...\n",
      "\u001b[32m\u001b[1m   Installed\u001b[22m\u001b[39m ForwardDiff ─ v0.10.18\n",
      "\u001b[32m\u001b[1m    Updating\u001b[22m\u001b[39m `~/.julia/environments/v1.6/Project.toml`\n",
      " \u001b[90m [f6369f11] \u001b[39m\u001b[92m+ ForwardDiff v0.10.18\u001b[39m\n",
      "\u001b[32m\u001b[1m    Updating\u001b[22m\u001b[39m `~/.julia/environments/v1.6/Manifest.toml`\n",
      " \u001b[90m [f6369f11] \u001b[39m\u001b[93m↑ ForwardDiff v0.10.17 ⇒ v0.10.18\u001b[39m\n",
      "\u001b[32m\u001b[1mPrecompiling\u001b[22m\u001b[39m project...\n",
      "\u001b[32m  ✓ \u001b[39mForwardDiff\n",
      "\u001b[32m  ✓ \u001b[39mJuMP\n",
      "2 dependencies successfully precompiled in 10 seconds (216 already precompiled)\n"
     ]
    }
   ],
   "source": [
    "using Pkg\n",
    "Pkg.add(\"ForwardDiff\")"
   ]
  },
  {
   "cell_type": "code",
   "execution_count": 28,
   "metadata": {},
   "outputs": [
    {
     "data": {
      "text/plain": [
       "(1.2389458202631086e-16 + 6.283185307179586im, 8.888196681138491e-16)"
      ]
     },
     "execution_count": 28,
     "metadata": {},
     "output_type": "execute_result"
    }
   ],
   "source": [
    "using QuadGK\n",
    "quadgk(x-> 1, 0, 1  )\n",
    "quadgk(x-> x, 0, 1  )\n",
    "quadgk(x-> x^2, 0, 1  )\n",
    "quadgk(x -> [x,1] , 0, 1  )\n",
    "quadgk(x -> exp(2 * π * 1im * x) , 0, 1  )\n",
    "quadgk(x -> exp(2 * π * 1im * x) * 2 * π * 1im  / exp(2 * π * 1im * x) , 0, 1  ) # contour integral"
   ]
  },
  {
   "cell_type": "code",
   "execution_count": 32,
   "metadata": {},
   "outputs": [
    {
     "data": {
      "text/plain": [
       "6.123233995736766e-17 - 1.0im"
      ]
     },
     "execution_count": 32,
     "metadata": {},
     "output_type": "execute_result"
    }
   ],
   "source": [
    "using ForwardDiff\n",
    "\n",
    "#ForwardDiff.gradient(x -> x, 1im)\n",
    "# hmm. Use zygote or use lift\n",
    "\n",
    "function cdiff(f,x) \n",
    "    j = ForwardDiff.jacobian( x -> begin \n",
    "          y = f( complex(x[1], x[2]) )\n",
    "          [real(y), imag(y)]\n",
    "    end, [ real(x), imag(x) ])\n",
    "    return complex(j[1,1] , j[1,2])\n",
    "end\n",
    "\n",
    "cdiff(exp, π * 1im / 2)"
   ]
  },
  {
   "cell_type": "code",
   "execution_count": 37,
   "metadata": {},
   "outputs": [
    {
     "data": {
      "text/plain": [
       "(2.326059728707255e-15 - 8.545073777391091e-15im, 8.157598643085564e-17)"
      ]
     },
     "execution_count": 37,
     "metadata": {},
     "output_type": "execute_result"
    }
   ],
   "source": [
    "contour(f, c) = quadgk(x -> f(c(x)) * cdiff(c,x) , 0, 1  ) \n",
    "contour(z -> 1 / z, x -> exp(2im * π * x))"
   ]
  },
  {
   "cell_type": "code",
   "execution_count": 30,
   "metadata": {},
   "outputs": [
    {
     "data": {
      "text/plain": [
       "1 + 2im"
      ]
     },
     "execution_count": 30,
     "metadata": {},
     "output_type": "execute_result"
    }
   ],
   "source": [
    "complex(1,2)"
   ]
  },
  {
   "cell_type": "code",
   "execution_count": null,
   "metadata": {},
   "outputs": [],
   "source": []
  }
 ],
 "metadata": {
  "kernelspec": {
   "display_name": "Julia 1.6.0",
   "language": "julia",
   "name": "julia-1.6"
  },
  "language_info": {
   "file_extension": ".jl",
   "mimetype": "application/julia",
   "name": "julia",
   "version": "1.6.0"
  }
 },
 "nbformat": 4,
 "nbformat_minor": 4
}
