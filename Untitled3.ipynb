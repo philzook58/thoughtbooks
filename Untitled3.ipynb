{
 "cells": [
  {
   "cell_type": "code",
   "execution_count": 3,
   "metadata": {},
   "outputs": [
    {
     "data": {
      "text/plain": [
       "val x : int list = [2; 4; 6]\n"
      ]
     },
     "execution_count": 3,
     "metadata": {},
     "output_type": "execute_result"
    }
   ],
   "source": [
    "let x = List.map (fun x -> 2 * x) [1 ; 2; 3]"
   ]
  },
  {
   "cell_type": "code",
   "execution_count": 5,
   "metadata": {},
   "outputs": [],
   "source": [
    "#require \"core_kernel\";;\n",
    "open Core_kernel"
   ]
  },
  {
   "cell_type": "code",
   "execution_count": 8,
   "metadata": {},
   "outputs": [
    {
     "data": {
      "text/plain": [
       "val x : int list = [2; 4; 6]\n"
      ]
     },
     "execution_count": 8,
     "metadata": {},
     "output_type": "execute_result"
    }
   ],
   "source": [
    "let x = List.map ~f:(fun x -> 2 * x) [1 ; 2; 3]"
   ]
  },
  {
   "cell_type": "code",
   "execution_count": 9,
   "metadata": {
    "collapsed": true,
    "jupyter": {
     "outputs_hidden": true
    }
   },
   "outputs": [
    {
     "name": "stderr",
     "output_type": "stream",
     "text": [
      "/home/philip/.opam/vibes6/lib/ppx_bap: added to search path\n",
      "/home/philip/.opam/vibes6/lib/ppx_bap/./ppx.exe --as-ppx: activated\n",
      "/home/philip/.opam/vibes6/lib/core_kernel/rope: added to search path\n",
      "/home/philip/.opam/vibes6/lib/core_kernel/rope/rope.cma: loaded\n",
      "/home/philip/.opam/vibes6/lib/monads: added to search path\n",
      "/home/philip/.opam/vibes6/lib/monads/monads.cma: loaded\n",
      "/home/philip/.opam/vibes6/lib/zarith: added to search path\n",
      "/home/philip/.opam/vibes6/lib/zarith/zarith.cma: loaded\n",
      "/home/philip/.opam/vibes6/lib/bitvec: added to search path\n",
      "/home/philip/.opam/vibes6/lib/bitvec/bitvec.cma: loaded\n",
      "/home/philip/.opam/vibes6/lib/bitvec-sexp: added to search path\n",
      "/home/philip/.opam/vibes6/lib/bitvec-sexp/bitvec_sexp.cma: loaded\n",
      "/home/philip/.opam/vibes6/lib/bitvec-order: added to search path\n",
      "/home/philip/.opam/vibes6/lib/bitvec-order/bitvec_order.cma: loaded\n",
      "/home/philip/.opam/vibes6/lib/bitvec-binprot: added to search path\n",
      "/home/philip/.opam/vibes6/lib/bitvec-binprot/bitvec_binprot.cma: loaded\n",
      "/home/philip/.opam/vibes6/lib/bytes: added to search path\n",
      "/home/philip/.opam/vibes6/lib/uuidm: added to search path\n",
      "/home/philip/.opam/vibes6/lib/uuidm/uuidm.cma: loaded\n",
      "/home/philip/.opam/vibes6/lib/regular: added to search path\n",
      "/home/philip/.opam/vibes6/lib/regular/regular.cma: loaded\n",
      "/home/philip/.opam/vibes6/lib/stdlib-shims: added to search path\n",
      "/home/philip/.opam/vibes6/lib/stdlib-shims/stdlib_shims.cma: loaded\n",
      "/home/philip/.opam/vibes6/lib/ocamlgraph: added to search path\n",
      "/home/philip/.opam/vibes6/lib/ocamlgraph/graph.cma: loaded\n",
      "/home/philip/.opam/vibes6/lib/core_kernel/tuple_pool: added to search path\n",
      "/home/philip/.opam/vibes6/lib/core_kernel/tuple_pool/tuple_pool.cma: loaded\n",
      "/home/philip/.opam/vibes6/lib/core_kernel/pairing_heap: added to search path\n",
      "/home/philip/.opam/vibes6/lib/core_kernel/pairing_heap/pairing_heap.cma: loaded\n",
      "/home/philip/.opam/vibes6/lib/graphlib: added to search path\n",
      "/home/philip/.opam/vibes6/lib/graphlib/graphlib.cma: loaded\n",
      "/home/philip/.opam/vibes6/lib/ogre: added to search path\n",
      "/home/philip/.opam/vibes6/lib/ogre/ogre.cma: loaded\n",
      "/home/philip/.opam/vibes6/lib/core_kernel/caml_unix: added to search path\n",
      "/home/philip/.opam/vibes6/lib/core_kernel/caml_unix/caml_unix.cma: loaded\n",
      "/home/philip/.opam/vibes6/lib/bap-knowledge: added to search path\n",
      "/home/philip/.opam/vibes6/lib/bap-knowledge/knowledge.cma: loaded\n",
      "/home/philip/.opam/vibes6/lib/bap-core-theory: added to search path\n",
      "/home/philip/.opam/vibes6/lib/bap-core-theory/bap_core_theory.cma: loaded\n",
      "/home/philip/.opam/vibes6/lib/cmdliner: added to search path\n",
      "/home/philip/.opam/vibes6/lib/cmdliner/cmdliner.cma: loaded\n",
      "/home/philip/.opam/vibes6/lib/bap-future: added to search path\n",
      "/home/philip/.opam/vibes6/lib/bap-future/bap_future.cma: loaded\n",
      "/home/philip/.opam/vibes6/lib/bigarray-compat: added to search path\n",
      "/home/philip/.opam/vibes6/lib/bigarray-compat/bigarray_compat.cma: loaded\n",
      "/home/philip/.opam/vibes6/lib/bigstringaf: added to search path\n",
      "/home/philip/.opam/vibes6/lib/bigstringaf/bigstringaf.cma: loaded\n",
      "/home/philip/.opam/vibes6/lib/angstrom: added to search path\n",
      "/home/philip/.opam/vibes6/lib/angstrom/angstrom.cma: loaded\n",
      "/home/philip/.opam/vibes6/lib/stringext: added to search path\n",
      "/home/philip/.opam/vibes6/lib/stringext/stringext.cma: loaded\n",
      "/home/philip/.opam/vibes6/lib/uri: added to search path\n",
      "/home/philip/.opam/vibes6/lib/uri/uri.cma: loaded\n",
      "/home/philip/.opam/vibes6/lib/zip: added to search path\n",
      "/home/philip/.opam/vibes6/lib/zip/zip.cma: loaded\n",
      "/home/philip/.opam/vibes6/lib/camlzip: added to search path\n",
      "/home/philip/.opam/vibes6/lib/bap-bundle: added to search path\n",
      "/home/philip/.opam/vibes6/lib/bap-bundle/bundle.cma: loaded\n",
      "/home/philip/.opam/vibes6/lib/ocaml/dynlink.cma: loaded\n",
      "/home/philip/.opam/vibes6/lib/fileutils: added to search path\n",
      "/home/philip/.opam/vibes6/lib/fileutils/fileutils.cma: loaded\n",
      "/home/philip/.opam/vibes6/lib/findlib: added to search path\n",
      "/home/philip/.opam/vibes6/lib/findlib/findlib.cma: loaded\n",
      "/home/philip/.opam/vibes6/lib/findlib/findlib_top.cma: loaded\n",
      "/home/philip/.opam/vibes6/lib/bap-plugins: added to search path\n",
      "/home/philip/.opam/vibes6/lib/bap-plugins/bap_plugins.cma: loaded\n",
      "/home/philip/.opam/vibes6/lib/bap-recipe: added to search path\n",
      "/home/philip/.opam/vibes6/lib/bap-recipe/recipe.cma: loaded\n",
      "/home/philip/.opam/vibes6/lib/bap-main: added to search path\n",
      "/home/philip/.opam/vibes6/lib/bap-main/bap_main.cma: loaded\n",
      "/home/philip/.opam/vibes6/lib/bap: added to search path\n",
      "/home/philip/.opam/vibes6/lib/bap/types.cma: loaded\n",
      "/home/philip/.opam/vibes6/lib/mmap: added to search path\n",
      "/home/philip/.opam/vibes6/lib/mmap/mmap.cma: loaded\n",
      "/home/philip/.opam/vibes6/lib/bap/bap_image.cma: loaded\n",
      "/home/philip/.opam/vibes6/lib/bap-relation: added to search path\n",
      "/home/philip/.opam/vibes6/lib/bap-relation/bap_relation.cma: loaded\n",
      "/home/philip/.opam/vibes6/lib/bap/disasm.cma: loaded\n",
      "/home/philip/.opam/vibes6/lib/bap/sema.cma: loaded\n",
      "/home/philip/.opam/vibes6/lib/bap/bap.cma: loaded\n"
     ]
    }
   ],
   "source": [
    "#require \"bap\";;"
   ]
  },
  {
   "cell_type": "code",
   "execution_count": 10,
   "metadata": {},
   "outputs": [],
   "source": [
    "open Bap.Std"
   ]
  },
  {
   "cell_type": "code",
   "execution_count": 11,
   "metadata": {},
   "outputs": [
    {
     "data": {
      "text/plain": [
       "- : Bap.Std.typ -> Bap.Std.Var.t = <fun>\n"
      ]
     },
     "execution_count": 11,
     "metadata": {},
     "output_type": "execute_result"
    }
   ],
   "source": [
    "Var.create \"foo\""
   ]
  },
  {
   "cell_type": "code",
   "execution_count": null,
   "metadata": {},
   "outputs": [],
   "source": []
  }
 ],
 "metadata": {
  "kernelspec": {
   "display_name": "OCaml vibes6",
   "language": "OCaml",
   "name": "ocaml-jupyter"
  },
  "language_info": {
   "codemirror_mode": "text/x-ocaml",
   "file_extension": ".ml",
   "mimetype": "text/x-ocaml",
   "name": "OCaml",
   "nbconverter_exporter": null,
   "pygments_lexer": "OCaml",
   "version": "4.09.1"
  }
 },
 "nbformat": 4,
 "nbformat_minor": 4
}
