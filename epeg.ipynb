{
 "cells": [
  {
   "cell_type": "code",
   "execution_count": 1,
   "metadata": {},
   "outputs": [],
   "source": [
    "using MacroTools"
   ]
  },
  {
   "cell_type": "markdown",
   "metadata": {},
   "source": [
    "https://www.cs.cornell.edu/~ross/publications/eqsat/\n",
    "\n",
    "Tate thesis chpoater 7 and 8.\n",
    "\n",
    "We need to tie the knot.\n",
    "It's a little strange, why is this fixedpoint ok? It must be coinductive.\n",
    "\n",
    "a = gensym()\n",
    "t = term!( yadaydayday(a))\n",
    "assert(a == t)\n",
    "I think this might do it.\n",
    "This is a curious analog of landin's knot.\n",
    "\n",
    "\n",
    "\n",
    "let fact0 = ref (fun x -> x) in\n",
    "let fact x = if x = 0 then 1 else x * !fact0 (x - 1) in\n",
    "let () = fact0 := fact\n",
    "\n",
    "\n",
    "if we weant to work at a lower level IR\n",
    "\n",
    "\n",
    "The \"phi\" function is just an if-the-else expression\n",
    "Kind of the goal is to convert an imperative program into a functional one\n",
    "loops becomes operations on streams\n",
    "if statements can be converted to if  expresions\n",
    "\n",
    "So why even write the imperative program in the first place? Because you are incorrigible\n",
    "\n",
    "And then the backwards trasnformation is intertestingf. Converting functional code into imperative.\n",
    "\n",
    "The julia compiler may possibly do all thse trasnfromations anyhow\n",
    "\n",
    "\n",
    "aexpr and bexpr.\n",
    "ite(b,x,x) -> x  is a good one\n",
    "All arithmetic x + y = y + xx etc\n",
    "all logic \n",
    "\n",
    "allessandro already has these. He also made an interpeter? so maybe \n",
    "\n",
    "\n",
    "the capture macro is neat. I suppose it generates it's patterns in kind of an obvious way. It probably just ignores lines nums, comments, and :block\n",
    "\n",
    "dominators in CFG seem important for loop reconstruction and if then else reconstruction..\n"
   ]
  },
  {
   "cell_type": "code",
   "execution_count": 104,
   "metadata": {},
   "outputs": [
    {
     "data": {
      "text/plain": [
       "quote\n",
       "    #= In[104]:1 =#\n",
       "    if c_\n",
       "        #= In[104]:1 =#\n",
       "        s_\n",
       "    end\n",
       "end"
      ]
     },
     "execution_count": 104,
     "metadata": {},
     "output_type": "execute_result"
    }
   ],
   "source": [
    "quote if c_; @invars_#=funbly =# end end"
   ]
  },
  {
   "cell_type": "code",
   "execution_count": 2,
   "metadata": {
    "collapsed": true,
    "jupyter": {
     "outputs_hidden": true
    }
   },
   "outputs": [
    {
     "name": "stdout",
     "output_type": "stream",
     "text": [
      "Expr\n",
      "  head: Symbol block\n",
      "  args: Array{Any}((2,))\n",
      "    1: LineNumberNode\n",
      "      line: Int64 2\n",
      "      file: Symbol In[2]\n",
      "    2: Expr\n",
      "      head: Symbol if\n",
      "      args: Array{Any}((3,))\n",
      "        1: Expr\n",
      "          head: Symbol call\n",
      "          args: Array{Any}((3,))\n",
      "            1: Symbol >\n",
      "            2: Symbol x\n",
      "            3: Int64 0\n",
      "        2: Expr\n",
      "          head: Symbol block\n",
      "          args: Array{Any}((2,))\n",
      "            1: LineNumberNode\n",
      "              line: Int64 3\n",
      "              file: Symbol In[2]\n",
      "            2: Expr\n",
      "              head: Symbol =\n",
      "              args: Array{Any}((2,))\n",
      "                1: Symbol x\n",
      "                2: Int64 3\n",
      "        3: Expr\n",
      "          head: Symbol block\n",
      "          args: Array{Any}((2,))\n",
      "            1: LineNumberNode\n",
      "              line: Int64 5\n",
      "              file: Symbol In[2]\n",
      "            2: Expr\n",
      "              head: Symbol =\n",
      "              args: Array{Any}((2,))\n",
      "                1: Symbol x\n",
      "                2: Int64 4\n"
     ]
    }
   ],
   "source": [
    "dump(quote\n",
    "    if x > 0\n",
    "        x = 3\n",
    "    else\n",
    "            x = 4\n",
    "    end\n",
    "    end)"
   ]
  },
  {
   "cell_type": "code",
   "execution_count": 6,
   "metadata": {
    "collapsed": true,
    "jupyter": {
     "outputs_hidden": true
    }
   },
   "outputs": [
    {
     "name": "stdout",
     "output_type": "stream",
     "text": [
      "Expr\n",
      "  head: Symbol block\n",
      "  args: Array{Any}((2,))\n",
      "    1: LineNumberNode\n",
      "      line: Int64 2\n",
      "      file: Symbol In[5]\n",
      "    2: Expr\n",
      "      head: Symbol if\n",
      "      args: Array{Any}((3,))\n",
      "        1: Expr\n",
      "          head: Symbol call\n",
      "          args: Array{Any}((3,))\n",
      "            1: Symbol >\n",
      "            2: Symbol x\n",
      "            3: Int64 0\n",
      "        2: Expr\n",
      "          head: Symbol block\n",
      "          args: Array{Any}((2,))\n",
      "            1: LineNumberNode\n",
      "              line: Int64 3\n",
      "              file: Symbol In[5]\n",
      "            2: Expr\n",
      "              head: Symbol =\n",
      "              args: Array{Any}((2,))\n",
      "                1: Symbol x\n",
      "                2: Int64 3\n",
      "        3: Expr\n",
      "          head: Symbol block\n",
      "          args: Array{Any}((2,))\n",
      "            1: LineNumberNode\n",
      "              line: Int64 5\n",
      "              file: Symbol In[5]\n",
      "            2: Expr\n",
      "              head: Symbol =\n",
      "              args: Array{Any}((2,))\n",
      "                1: Symbol x\n",
      "                2: Int64 4\n"
     ]
    }
   ],
   "source": [
    "dump(ex)"
   ]
  },
  {
   "cell_type": "code",
   "execution_count": 31,
   "metadata": {},
   "outputs": [
    {
     "data": {
      "text/plain": [
       "true"
      ]
     },
     "execution_count": 31,
     "metadata": {},
     "output_type": "execute_result"
    }
   ],
   "source": [
    "ex = quote\n",
    "    if x > 0\n",
    "        x = 3\n",
    "    else\n",
    "        x = 4\n",
    "    end\n",
    "end\n",
    "\n",
    "ex = quote\n",
    "     xx = 4\n",
    "     x = 3\n",
    "     y = 4\n",
    "end\n",
    "\n",
    "\n",
    "    \n",
    "\n",
    "#s1\n",
    "#s2"
   ]
  },
  {
   "cell_type": "code",
   "execution_count": 87,
   "metadata": {},
   "outputs": [
    {
     "name": "stdout",
     "output_type": "stream",
     "text": [
      "Expr\n",
      "  head: Symbol block\n",
      "  args: Array{Any}((2,))\n",
      "    1: LineNumberNode\n",
      "      line: Int64 2\n",
      "      file: Symbol In[87]\n",
      "    2: Expr\n",
      "      head: Symbol function\n",
      "      args: Array{Any}((2,))\n",
      "        1: Expr\n",
      "          head: Symbol call\n",
      "          args: Array{Any}((4,))\n",
      "            1: Symbol foo\n",
      "            2: Symbol x\n",
      "            3: Symbol y\n",
      "            4: Symbol z\n",
      "        2: Expr\n",
      "          head: Symbol block\n",
      "          args: Array{Any}((3,))\n",
      "            1: LineNumberNode\n",
      "              line: Int64 2\n",
      "              file: Symbol In[87]\n",
      "            2: LineNumberNode\n",
      "              line: Int64 3\n",
      "              file: Symbol In[87]\n",
      "            3: Expr\n",
      "              head: Symbol return\n",
      "              args: Array{Any}((1,))\n",
      "                1: Int64 7\n"
     ]
    }
   ],
   "source": [
    "dump(quote\n",
    "    function foo(x,y,z)\n",
    "        return 7\n",
    "    end\n",
    "    end)"
   ]
  },
  {
   "cell_type": "code",
   "execution_count": 99,
   "metadata": {},
   "outputs": [
    {
     "data": {
      "text/plain": [
       "phi (generic function with 1 method)"
      ]
     },
     "execution_count": 99,
     "metadata": {},
     "output_type": "execute_result"
    }
   ],
   "source": [
    "function translate_prog(p)\n",
    "    @capture(p, function f_(args__) body_ end)\n",
    "    translate_statement(body, Dict(zip(args,args)), 0)[:retvar]\n",
    "end\n",
    "\n",
    "\n",
    "function translate_statement(s, env, loop_level) # translate statement\n",
    "    #println(s)\n",
    "    if @capture(s, begin s1_; s2__ end) && length(s2) > 0\n",
    "        return translate_statement( Expr(:block, s2...), translate_statement(s1, env, loop_level), loop_level)\n",
    "    elseif @capture(s, x_ = e_)\n",
    "        env2 = copy(env)\n",
    "        env2[x] = translate_expr(e, env)\n",
    "        return env2\n",
    "    elseif @capture(s, if e_ s1_ else s2_ end)\n",
    "        return phi( translate_expr(e, env), translate_statement(s1, env, loop_level) , translate_statement(s2, env, loop_level) )\n",
    "    elseif @capture(s, while c_ b_ end)\n",
    "        \n",
    "    end\n",
    "    println(\"no match\", e)\n",
    "end\n",
    "\n",
    "function translate_expr(e, env)\n",
    "    if @capture( e , op_(args__))\n",
    "        args = [translate_expr(arg, env) for arg in args]\n",
    "        :($op( $(args...) ))\n",
    "    elseif e isa Number\n",
    "        e\n",
    "    else\n",
    "        env[e]\n",
    "    end\n",
    "end\n",
    "\n",
    "function combine(m1,m2,conflict)\n",
    "    res = Dict()\n",
    "    for (k,v) in m1\n",
    "        res[k] = v\n",
    "    end\n",
    "    for (k,v) in m2\n",
    "        if haskey(res,k)\n",
    "            res[k] = conflict( m1[k], m2[k] )\n",
    "        else\n",
    "           res[k] = v     \n",
    "        end\n",
    "    end\n",
    "    return res\n",
    "end\n",
    "\n",
    "function phi(n, env1, env2,)\n",
    "    combine(env1,env2, (t,f) -> :(ϕ($n, $t, $f )  ))\n",
    "end\n",
    "#function theta()\n",
    "\n"
   ]
  },
  {
   "cell_type": "code",
   "execution_count": 101,
   "metadata": {},
   "outputs": [
    {
     "data": {
      "text/plain": [
       ":(ϕ(x > 0, 3, 8) + ϕ(x > 0, 8, 3))"
      ]
     },
     "execution_count": 101,
     "metadata": {},
     "output_type": "execute_result"
    }
   ],
   "source": [
    "ex = quote\n",
    "    function foo(x,y)\n",
    "    #z = 4\n",
    "        if x > 0\n",
    "            x = 3\n",
    "            y = 8\n",
    "        else\n",
    "            x = 8\n",
    "            y = 3\n",
    "        end\n",
    "        retvar = x + y\n",
    "    end\n",
    "end\n",
    "# This example it would be nice to discover we can remove the branch and phi nodes.\n",
    "#translate_statement(ex, Dict(), 0)\n",
    "translate_prog(ex)"
   ]
  },
  {
   "cell_type": "code",
   "execution_count": null,
   "metadata": {},
   "outputs": [],
   "source": []
  }
 ],
 "metadata": {
  "kernelspec": {
   "display_name": "Julia 1.6.0",
   "language": "julia",
   "name": "julia-1.6"
  },
  "language_info": {
   "file_extension": ".jl",
   "mimetype": "application/julia",
   "name": "julia",
   "version": "1.6.0"
  }
 },
 "nbformat": 4,
 "nbformat_minor": 4
}
