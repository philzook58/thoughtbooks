{
 "cells": [
  {
   "cell_type": "markdown",
   "metadata": {},
   "source": [
    "Guarded programs\n",
    "integer linear programs\n",
    "Guarded polynhomial and linear programs.\n",
    "\n",
    "\n",
    "Julia seems like it's got nice solvers so\n",
    "\n",
    "\"Dynamical Systems and Computer Programs - Kind of the Same Thing\"\n",
    "https://dl.acm.org/doi/abs/10.1145/3385412.3385969 - PLDI talk on polynomial invaraint generation using QCLP\n",
    "\n",
    "\n",
    "http://www.csl.sri.com/users/tiwari/papers/cav04.pdf\n",
    "\n",
    "\n",
    "\n",
    "Victor Magron has some interesting stuff\n",
    "\n",
    "\n",
    "Nondetermonisic or\n",
    "() || ( )\n",
    "\n",
    "update\n",
    "x := 3x + 4\n",
    "Guard   (x >= ) =>\n",
    "\n",
    "type Var = Int\n",
    "data Linear = Vector Double\n",
    "data Prop = Eq0 Linear | GTE0 Linear | GT0 Linear\n",
    "data Prog = Or Prog Prog | Update Var Linear | Guard Prop Prog | Seq Prog Prog | Star Prog\n",
    "\n",
    "\n",
    "What is the minimal thing\n",
    "data ProgSimple = Update | Seq\n",
    "\n",
    "\n",
    "\n",
    "\n",
    "\n",
    "1. Guards\n",
    "\n",
    " /\\ /\\ /\\ /\\ => /\\ /\\ /\\ \n",
    " polytope containment\n",
    "\n",
    "2.\n",
    "\n",
    "\n",
    "\n",
    "3.\n",
    "\n",
    " "
   ]
  }
 ],
 "metadata": {
  "kernelspec": {
   "display_name": "Julia 1.4.1",
   "language": "julia",
   "name": "julia-1.4"
  },
  "language_info": {
   "file_extension": ".jl",
   "mimetype": "application/julia",
   "name": "julia",
   "version": "1.4.1"
  }
 },
 "nbformat": 4,
 "nbformat_minor": 4
}
