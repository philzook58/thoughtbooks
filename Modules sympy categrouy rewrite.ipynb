{
 "cells": [
  {
   "cell_type": "code",
   "execution_count": 1,
   "metadata": {},
   "outputs": [],
   "source": [
    "import sympy as sy"
   ]
  },
  {
   "cell_type": "code",
   "execution_count": 19,
   "metadata": {},
   "outputs": [
    {
     "data": {
      "text/plain": [
       "s"
      ]
     },
     "execution_count": 19,
     "metadata": {},
     "output_type": "execute_result"
    }
   ],
   "source": [
    "s = sy.var(\"s\")\n",
    "s"
   ]
  },
  {
   "cell_type": "markdown",
   "metadata": {},
   "source": [
    "\n"
   ]
  },
  {
   "cell_type": "code",
   "execution_count": null,
   "metadata": {},
   "outputs": [],
   "source": [
    "sy.Matrix([[2-s,4],[2,4]])."
   ]
  },
  {
   "cell_type": "code",
   "execution_count": 29,
   "metadata": {},
   "outputs": [
    {
     "data": {
      "text/plain": [
       "30"
      ]
     },
     "execution_count": 29,
     "metadata": {},
     "output_type": "execute_result"
    }
   ],
   "source": [
    "(s * 10).subs(s, 3)\n",
    "(s * 10).subs({s : 3})"
   ]
  },
  {
   "cell_type": "code",
   "execution_count": 42,
   "metadata": {},
   "outputs": [
    {
     "data": {
      "text/plain": [
       "100"
      ]
     },
     "execution_count": 42,
     "metadata": {},
     "output_type": "execute_result"
    }
   ],
   "source": [
    "(s * 10).replace(s, 10)\n",
    "(s * 10).xreplace({s: 10})"
   ]
  },
  {
   "cell_type": "markdown",
   "metadata": {},
   "source": [
    "xreplace looks for exact match. It does not do wildcard matching. It doesn't do ANY matching really.\n",
    "\n",
    "replace has a bunch of forms, some functional. It's the one you want mostly.\n",
    "\n",
    "subs is more like xreplace but also does some mathemtical reasoning\n",
    "\n",
    "match returns a possible unification\n",
    "\n",
    "\n",
    "sympy and z3 are kind of similar\n",
    "Wild - Const\n",
    "Symbol - Value\n",
    "Dummy - FreshConst?\n",
    "Function - Function\n",
    " \n",
    "\n",
    "z3 Function(Apply)\n",
    "nf = UninterpretedSort(\"Named Function\")\n",
    "A    = DeclareSort('A')\n",
    "x, y = Consts('x y', A)\n",
    "f    = Function('f', A, A)\n",
    "Distinct(x,y,z)\n",
    "\n",
    "so I guess I can't make uniterpeted values.\n",
    "but I can bscially with some quantifiers.\n",
    "Distinct(c1,c2,c3,c4)\n",
    "Forall([z], Or(z == c1, z == c2, z == c3, z == c4 ))\n",
    "\n",
    "defunctionalization in z3\n",
    "\n",
    "declare a datatype or an uninterpeted sort\n",
    "Define an application function.\n",
    "\n",
    "\n",
    "\n",
    "The choose function. a la Lamport. choose is the same as the functionals in hedges. choose :: (a -> Bool) -> a\n"
   ]
  },
  {
   "cell_type": "code",
   "execution_count": 26,
   "metadata": {},
   "outputs": [
    {
     "name": "stdout",
     "output_type": "stream",
     "text": [
      "[y = A!val!0, x = A!val!0]\n"
     ]
    }
   ],
   "source": [
    "import z3\n",
    "A    = z3.DeclareSort('A')\n",
    "x, y = z3.Consts('x y', A)\n",
    "z3.solve(x == y)"
   ]
  },
  {
   "cell_type": "code",
   "execution_count": 12,
   "metadata": {},
   "outputs": [],
   "source": [
    "from sympy import unify as unify"
   ]
  },
  {
   "cell_type": "code",
   "execution_count": 18,
   "metadata": {},
   "outputs": [
    {
     "data": {
      "text/plain": [
       "<function sympy.unify.rewrite.rewriterule(source, target, variables=(), condition=None, assume=None)>"
      ]
     },
     "execution_count": 18,
     "metadata": {},
     "output_type": "execute_result"
    }
   ],
   "source": [
    "#help(unify)\n",
    "unify.unify\n",
    "unify.rewriterule"
   ]
  },
  {
   "cell_type": "code",
   "execution_count": 44,
   "metadata": {},
   "outputs": [],
   "source": [
    "class Id(sy.Basic):\n",
    "    pass"
   ]
  },
  {
   "cell_type": "code",
   "execution_count": 49,
   "metadata": {},
   "outputs": [
    {
     "data": {
      "text/plain": [
       "s*Id()"
      ]
     },
     "execution_count": 49,
     "metadata": {},
     "output_type": "execute_result"
    }
   ],
   "source": [
    "s*Id()"
   ]
  },
  {
   "cell_type": "code",
   "execution_count": 24,
   "metadata": {},
   "outputs": [
    {
     "data": {
      "text/plain": [
       "Id(o_)"
      ]
     },
     "execution_count": 24,
     "metadata": {},
     "output_type": "execute_result"
    }
   ],
   "source": [
    "idd = sy.Function(\"Id\")\n",
    "o = sy.Wild(\"o\")\n",
    "idd(o) # the object of the id type. Can unify to figure out all the objects."
   ]
  },
  {
   "cell_type": "code",
   "execution_count": 52,
   "metadata": {},
   "outputs": [
    {
     "data": {
      "text/plain": [
       "Id"
      ]
     },
     "execution_count": 52,
     "metadata": {},
     "output_type": "execute_result"
    }
   ],
   "source": [
    "idd"
   ]
  },
  {
   "cell_type": "code",
   "execution_count": 5,
   "metadata": {},
   "outputs": [],
   "source": [
    "idd = sy.Symbol(\"Id\")\n",
    "comp = sy.Function(\"Comp\")\n",
    "fst = sy.Symbol(\"Fst\")\n",
    "snd = sy.Symbol(\"Snd\")\n",
    "fan = sy.Function(\"Fan\")\n",
    "par = lambda f,g: fan( comp(f,fst), comp(g,snd))\n",
    "dup = fan(idd,idd)\n",
    "a, b, c = map(sy.Wild, \"abc\")"
   ]
  },
  {
   "cell_type": "code",
   "execution_count": 9,
   "metadata": {},
   "outputs": [
    {
     "name": "stdout",
     "output_type": "stream",
     "text": [
      "Function('Comp')(Symbol('Id'), Wild('a'))\n",
      "Function('Comp')(Symbol('Id'), Symbol('Id'))\n"
     ]
    }
   ],
   "source": [
    "print(sy.srepr(comp(idd,a)))\n",
    "print(sy.srepr(comp(idd,idd)))"
   ]
  },
  {
   "cell_type": "code",
   "execution_count": 89,
   "metadata": {},
   "outputs": [
    {
     "data": {
      "text/plain": [
       "Fan(Comp(Fst, Fst), Comp(Snd, Snd))"
      ]
     },
     "execution_count": 89,
     "metadata": {},
     "output_type": "execute_result"
    }
   ],
   "source": [
    "\n",
    "#comp(idd,idd).xreplace( { comp(idd, a ) : a })\n",
    "comp(idd,idd).replace( comp(idd, a ) , a )\n",
    "\n",
    "rules = {\n",
    "    comp(idd, a ) : a,\n",
    "    comp(a , idd) : a,\n",
    "    comp(comp(a,b),c) : comp(a, comp(b,c)),\n",
    "    fan(fst,snd) : idd,\n",
    "    comp(fst , fan(a,b)) : a,\n",
    "    comp(snd , fan(a,b)) : b,\n",
    "    \n",
    "  \n",
    "}\n",
    "x = sy.Symbol(\"x\")\n",
    "e = comp(comp(idd,idd),x)\n",
    "e = par(fst,snd)\n",
    "for j in range(2):\n",
    "    for l,r in rules.items():\n",
    "        e = e.replace(l,r)\n",
    "e"
   ]
  },
  {
   "cell_type": "code",
   "execution_count": 20,
   "metadata": {},
   "outputs": [
    {
     "data": {
      "text/plain": [
       "'Tuple(Integer(1), Integer(2))'"
      ]
     },
     "execution_count": 20,
     "metadata": {},
     "output_type": "execute_result"
    }
   ],
   "source": [
    "sy.srepr(sy.Tuple(1,2))"
   ]
  },
  {
   "cell_type": "code",
   "execution_count": 68,
   "metadata": {},
   "outputs": [
    {
     "data": {
      "text/plain": [
       "{a_: Id}"
      ]
     },
     "execution_count": 68,
     "metadata": {},
     "output_type": "execute_result"
    }
   ],
   "source": [
    "comp(idd,idd).match( comp(idd, sy.Wild(\"a\")))"
   ]
  },
  {
   "cell_type": "code",
   "execution_count": 72,
   "metadata": {},
   "outputs": [
    {
     "data": {
      "text/plain": [
       "Comp(Id, Comp(Id, Id))"
      ]
     },
     "execution_count": 72,
     "metadata": {},
     "output_type": "execute_result"
    }
   ],
   "source": [
    "comp(idd,comp(idd,idd))"
   ]
  },
  {
   "cell_type": "code",
   "execution_count": 91,
   "metadata": {},
   "outputs": [
    {
     "ename": "AttributeError",
     "evalue": "module 'sympy' has no attribute 'unify'",
     "output_type": "error",
     "traceback": [
      "\u001b[0;31m---------------------------------------------------------------------------\u001b[0m",
      "\u001b[0;31mAttributeError\u001b[0m                            Traceback (most recent call last)",
      "\u001b[0;32m<ipython-input-91-18d19ee7c3b0>\u001b[0m in \u001b[0;36m<module>\u001b[0;34m\u001b[0m\n\u001b[0;32m----> 1\u001b[0;31m \u001b[0msy\u001b[0m\u001b[0;34m.\u001b[0m\u001b[0munify\u001b[0m\u001b[0;34m(\u001b[0m\u001b[0ma\u001b[0m \u001b[0;34m+\u001b[0m \u001b[0mb\u001b[0m\u001b[0;34m,\u001b[0m \u001b[0mc\u001b[0m\u001b[0;34m)\u001b[0m\u001b[0;34m\u001b[0m\u001b[0;34m\u001b[0m\u001b[0m\n\u001b[0m",
      "\u001b[0;31mAttributeError\u001b[0m: module 'sympy' has no attribute 'unify'"
     ]
    }
   ],
   "source": [
    "sy.unify(a + b, c)"
   ]
  },
  {
   "cell_type": "code",
   "execution_count": null,
   "metadata": {},
   "outputs": [],
   "source": [
    "help(sy)"
   ]
  },
  {
   "cell_type": "code",
   "execution_count": null,
   "metadata": {},
   "outputs": [],
   "source": []
  }
 ],
 "metadata": {
  "@webio": {
   "lastCommId": null,
   "lastKernelId": null
  },
  "kernelspec": {
   "display_name": "Python 3",
   "language": "python",
   "name": "python3"
  },
  "language_info": {
   "codemirror_mode": {
    "name": "ipython",
    "version": 3
   },
   "file_extension": ".py",
   "mimetype": "text/x-python",
   "name": "python",
   "nbconvert_exporter": "python",
   "pygments_lexer": "ipython3",
   "version": "3.7.5"
  }
 },
 "nbformat": 4,
 "nbformat_minor": 2
}
