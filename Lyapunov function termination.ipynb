{
 "cells": [
  {
   "cell_type": "code",
   "execution_count": 1,
   "metadata": {},
   "outputs": [],
   "source": [
    "from z3 import *"
   ]
  },
  {
   "cell_type": "code",
   "execution_count": 1,
   "metadata": {},
   "outputs": [
    {
     "name": "stdout",
     "output_type": "stream",
     "text": [
      "Defaulting to user installation because normal site-packages is not writeable\n",
      "Collecting pyibex\n",
      "  Downloading pyibex-1.8.1-cp36-cp36m-manylinux2010_x86_64.whl (2.7 MB)\n",
      "\u001b[K     |████████████████████████████████| 2.7 MB 2.1 MB/s eta 0:00:01\n",
      "\u001b[?25hCollecting vibes\n",
      "  Downloading vibes-0.2.2.tar.gz (6.4 kB)\n",
      "Building wheels for collected packages: vibes\n",
      "  Building wheel for vibes (setup.py) ... \u001b[?25ldone\n",
      "\u001b[?25h  Created wheel for vibes: filename=vibes-0.2.2-py2.py3-none-any.whl size=8567 sha256=e32583872841e20495f66ad5f57f81eebfa530f5e13340cdb0cfd70481a36902\n",
      "  Stored in directory: /home/philip/.cache/pip/wheels/6d/65/ab/d95b995a943193b9e470404cd367b9d1b2d3255ee58f18e6d2\n",
      "Successfully built vibes\n",
      "Installing collected packages: vibes, pyibex\n",
      "Successfully installed pyibex-1.8.1 vibes-0.2.2\n"
     ]
    }
   ],
   "source": [
    "!pip install pyibex"
   ]
  },
  {
   "cell_type": "code",
   "execution_count": null,
   "metadata": {},
   "outputs": [],
   "source": []
  },
  {
   "cell_type": "markdown",
   "metadata": {},
   "source": [
    "Notes from fptalks\n",
    "\n",
    "- Eva talk really good. Makes so much sense\n",
    " \n",
    " - icing, HOL4 cakeml, \n",
    "\n",
    "- Range reduction\n",
    "- crlibm. Do stuff in higher precision.\n",
    "- deriving good polynomials for rounding purposes.\n",
    "http://metalibm.org/"
   ]
  },
  {
   "cell_type": "code",
   "execution_count": 20,
   "metadata": {},
   "outputs": [
    {
     "data": {
      "text/html": [
       "<b>unknown</b>"
      ],
      "text/plain": [
       "unknown"
      ]
     },
     "execution_count": 20,
     "metadata": {},
     "output_type": "execute_result"
    }
   ],
   "source": [
    "#metitarski\n",
    "\n",
    "exp = Function(\"exp\", RealSort(), RealSort())\n",
    "x, y = Reals(\"x y\")\n",
    "def Abs(x):\n",
    "    return If(x <= 0, -x, x)\n",
    "\n",
    "s = Solver()\n",
    "# exp lower bound\n",
    "s.add( ForAll([x] , 1 + x <= exp(x)  ) )\n",
    "#s.add( ForAll([x] , Implies( 0 <= x, 1 <= exp(x)  ) ))\n",
    "s.add( ForAll([x] , Implies( x <= 0, exp(x) * ( - x **3 + 6 * x ** 2 - 24 * x + 48) ** 2 <= 2304 )))\n",
    "#s.add( ForAll([x] , 0 <= exp(x)  ) )\n",
    "theorem = ForAll([x], Abs( exp(x) - 1 )  <= exp(Abs(x)) - 1 )\n",
    "s.add(Not(theorem))\n",
    "s.check()\n",
    "#s.model()"
   ]
  },
  {
   "cell_type": "code",
   "execution_count": 14,
   "metadata": {},
   "outputs": [
    {
     "data": {
      "text/html": [
       "z = (x + y)&middot;(1 + e)"
      ],
      "text/plain": [
       "z == (x + y)*(1 + e)"
      ]
     },
     "execution_count": 14,
     "metadata": {},
     "output_type": "execute_result"
    }
   ],
   "source": [
    "\n",
    "#x = Real(\"x\")\n",
    "x, y, z, e = Reals(\"x y z e\")\n",
    "\n",
    "\n",
    "z == (x + y)*(1 + e)\n"
   ]
  },
  {
   "cell_type": "code",
   "execution_count": null,
   "metadata": {},
   "outputs": [],
   "source": [
    "# proof is meta language inference.\n",
    "# It correesponds to horizontal line\n",
    "#\n",
    "\n",
    "class Proof():\n",
    "    def __init__(self, hyp, conc, axiom = False):\n",
    "        if not axiom:\n",
    "            s = Solver()\n",
    "            s.add(hyp)\n",
    "            s.add(Not(conc))\n",
    "            res = s.check\n",
    "            assert(res == unsat)\n",
    "        self.hyp = hyp\n",
    "        self.conc = conc\n",
    "    def compose(self, rhs):\n",
    "        s = Solver()\n",
    "        s.add(self.conc)\n",
    "        s.add(Not(rhs.hyp))\n",
    "        res = s.check\n",
    "        assert(res == unsat)\n",
    "        return Proof(self.hyp, rhs.conc, axiom = True)\n",
    "    def __str__(self):\n",
    "        return f\"{self.hyp}\\n-------------\\n{self.conc} \"\n",
    "    "
   ]
  },
  {
   "cell_type": "code",
   "execution_count": 19,
   "metadata": {},
   "outputs": [
    {
     "ename": "AttributeError",
     "evalue": "'Solver' object has no attribute 'getmodel'",
     "output_type": "error",
     "traceback": [
      "\u001b[0;31m---------------------------------------------------------------------------\u001b[0m",
      "\u001b[0;31mAttributeError\u001b[0m                            Traceback (most recent call last)",
      "\u001b[0;32m<ipython-input-19-e7aa633883fd>\u001b[0m in \u001b[0;36m<module>\u001b[0;34m\u001b[0m\n\u001b[1;32m      6\u001b[0m                         1 + 2 * dt  <= (1 + dt)**2 )  ))\n\u001b[1;32m      7\u001b[0m \u001b[0ms\u001b[0m\u001b[0;34m.\u001b[0m\u001b[0mcheck\u001b[0m\u001b[0;34m(\u001b[0m\u001b[0;34m)\u001b[0m\u001b[0;34m\u001b[0m\u001b[0;34m\u001b[0m\u001b[0m\n\u001b[0;32m----> 8\u001b[0;31m \u001b[0ms\u001b[0m\u001b[0;34m.\u001b[0m\u001b[0mgetmodel\u001b[0m\u001b[0;34m(\u001b[0m\u001b[0;34m)\u001b[0m\u001b[0;34m\u001b[0m\u001b[0;34m\u001b[0m\u001b[0m\n\u001b[0m",
      "\u001b[0;31mAttributeError\u001b[0m: 'Solver' object has no attribute 'getmodel'"
     ]
    }
   ],
   "source": [
    "s = Solver()\n",
    "dt = Real(\"dt\")\n",
    "s.add(0 <= dt)\n",
    "s.add(dt <= 1.1)\n",
    "s.add(Not( And((1 + dt)**2  <= 1 + 3*dt , \n",
    "                        1 + 2 * dt  <= (1 + dt)**2 )  ))\n",
    "s.check()\n",
    "# ooh she's hurtin\n"
   ]
  },
  {
   "cell_type": "markdown",
   "metadata": {},
   "source": [
    "prove bounds on (1 + 0.00000001)**10000000 as a finite but difficult to deal with stand in spec for y' = y\n",
    "\n",
    "= (1 + 0.00000001)**5000000 ** 2\n",
    "= \n",
    "\n",
    "\n",
    "\n",
    "\n",
    "1 + 2 * dt <= (1 + dt) * ( 1 + dt) <= 1 + 3*dt\n",
    "(1 + 2dt)**2  <= (1 + dt) * (1 + dt) * () * ()\n",
    "\n",
    "as long as dt >= 0\n",
    "= (1 + 4dt) ** 2500...  <= (1 + 2dt) **2 ** 2500 = (1 + 2dt) ** 5000  <= (1 + dt)(1 + dt)** 50000  == (1 + dt)**1000000\n",
    "\n"
   ]
  },
  {
   "cell_type": "code",
   "execution_count": null,
   "metadata": {},
   "outputs": [],
   "source": [
    "y = 1\n",
    "# I'm not sure where i'm going with this\n",
    "for i in range(10):\n",
    "    t2 = FreshReal(prefix=\"dt\")\n",
    "    y2 = FreshReal(prefix=\"y\")\n",
    "    s.add(t2 == 2 * t)\n",
    "    s.add(y2 == )\n",
    "    \n",
    "    y = y2\n",
    "    dt = dt2"
   ]
  },
  {
   "cell_type": "code",
   "execution_count": 42,
   "metadata": {},
   "outputs": [
    {
     "data": {
      "text/html": [
       "<b>sat</b>"
      ],
      "text/plain": [
       "sat"
      ]
     },
     "execution_count": 42,
     "metadata": {},
     "output_type": "execute_result"
    }
   ],
   "source": [
    "s = Solver()\n",
    "dt = Real(\"dt\")\n",
    "N = 100\n",
    "s.add(0 <= dt)\n",
    "s.add(dt <= 1.0/(N+1))\n",
    "s.add(Not( And((1 + dt)**N  <= 1 + (N + 1)*dt , \n",
    "                        1 + N * dt  <= (1 + dt)**N )  ))\n",
    "s.check()"
   ]
  },
  {
   "cell_type": "code",
   "execution_count": 43,
   "metadata": {},
   "outputs": [
    {
     "data": {
      "text/html": [
       "<b>unsat</b>"
      ],
      "text/plain": [
       "unsat"
      ]
     },
     "execution_count": 43,
     "metadata": {},
     "output_type": "execute_result"
    }
   ],
   "source": [
    "s = Solver()\n",
    "dt = Real(\"dt\")\n",
    "N = 100000000\n",
    "s.add(Not( (1 + dt)**N == ((1 + dt) ** 2)**(N//2) ))\n",
    "s.check()"
   ]
  },
  {
   "cell_type": "code",
   "execution_count": 50,
   "metadata": {},
   "outputs": [
    {
     "data": {
      "text/html": [
       "<b>unsat</b>"
      ],
      "text/plain": [
       "unsat"
      ]
     },
     "execution_count": 50,
     "metadata": {},
     "output_type": "execute_result"
    }
   ],
   "source": [
    "# hmmmm.\n",
    "s = Solver()\n",
    "dt = Real(\"dt\")\n",
    "N = 1000 # even 1000 is slow.\n",
    "s.add(dt >= 0)\n",
    "s.add(dt <= 0.01)\n",
    "s.add( Not((1 + 2*dt) <= (1 + dt)**2) )\n",
    "s.check()"
   ]
  },
  {
   "cell_type": "code",
   "execution_count": 47,
   "metadata": {},
   "outputs": [
    {
     "data": {
      "text/html": [
       "<b>unknown</b>"
      ],
      "text/plain": [
       "unknown"
      ]
     },
     "execution_count": 47,
     "metadata": {},
     "output_type": "execute_result"
    }
   ],
   "source": [
    "# hmmmm.\n",
    "s = Solver()\n",
    "dt = Real(\"dt\")\n",
    "N = 1000 # even 1000 is slow.\n",
    "s.add(dt >= 0)\n",
    "s.add( (1 + 2*dt) <= (1 + dt)**2 )\n",
    "s.add(Not( (1 + 2 * dt)**(N//2) <= ((1 + dt) ** 2)**(N//2) ))\n",
    "s.check()"
   ]
  },
  {
   "cell_type": "code",
   "execution_count": 51,
   "metadata": {},
   "outputs": [
    {
     "data": {
      "text/html": [
       "<b>unknown</b>"
      ],
      "text/plain": [
       "unknown"
      ]
     },
     "execution_count": 51,
     "metadata": {},
     "output_type": "execute_result"
    }
   ],
   "source": [
    "# hmmmm.\n",
    "s = Solver()\n",
    "dt = Real(\"dt\")\n",
    "N = 1000 # even 1000 is slow.\n",
    "s.add(dt >= 0)\n",
    "s.add(dt <= 0.001)\n",
    "s.add( (1 + 2*dt) <= (1 + dt)**2 )\n",
    "s.add(Not( (1 + 2 * dt)**(N//2) <= (1 + dt)**(N//2) * (1 + dt)**(N//2) ))\n",
    "s.check()"
   ]
  },
  {
   "cell_type": "markdown",
   "metadata": {},
   "source": [
    "Maybe replace **n with an uniterpeted function pow"
   ]
  },
  {
   "cell_type": "code",
   "execution_count": 29,
   "metadata": {},
   "outputs": [
    {
     "data": {
      "text/plain": [
       "1.0100496620928754"
      ]
     },
     "execution_count": 29,
     "metadata": {},
     "output_type": "execute_result"
    }
   ],
   "source": [
    "(1 + 0.0001)**100"
   ]
  },
  {
   "cell_type": "code",
   "execution_count": 31,
   "metadata": {},
   "outputs": [
    {
     "data": {
      "text/plain": [
       "1.0101"
      ]
     },
     "execution_count": 31,
     "metadata": {},
     "output_type": "execute_result"
    }
   ],
   "source": [
    "1 + 0.0001*101"
   ]
  },
  {
   "cell_type": "code",
   "execution_count": null,
   "metadata": {},
   "outputs": [],
   "source": []
  },
  {
   "cell_type": "code",
   "execution_count": 32,
   "metadata": {},
   "outputs": [],
   "source": [
    "import numpy as np\n",
    "import matplotlib.pyplot as plt"
   ]
  },
  {
   "cell_type": "code",
   "execution_count": 36,
   "metadata": {},
   "outputs": [
    {
     "data": {
      "text/plain": [
       "<matplotlib.legend.Legend at 0x7f29d7644cf8>"
      ]
     },
     "execution_count": 36,
     "metadata": {},
     "output_type": "execute_result"
    },
    {
     "data": {
      "image/png": "[encoded data removed]",
      "text/plain": [
       "<Figure size 432x288 with 1 Axes>"
      ]
     },
     "metadata": {
      "needs_background": "light"
     },
     "output_type": "display_data"
    }
   ],
   "source": [
    "ts = np.arange(200) # np.linspace(0,1,100)\n",
    "#plt.plot(ts, np.exp(ts))\n",
    "#plt.plot(ts, 1 + ts * )\n",
    "dt = 0.001\n",
    "plt.plot( ts*dt , (1 + dt)**ts , label=\"exp\" )\n",
    "plt.plot( ts * dt , 1 + dt*ts )\n",
    "plt.legend()"
   ]
  },
  {
   "cell_type": "code",
   "execution_count": null,
   "metadata": {},
   "outputs": [],
   "source": [
    "np.linspace()"
   ]
  },
  {
   "cell_type": "code",
   "execution_count": 10,
   "metadata": {},
   "outputs": [
    {
     "data": {
      "text/html": [
       "<b>sat</b>"
      ],
      "text/plain": [
       "sat"
      ]
     },
     "execution_count": 10,
     "metadata": {},
     "output_type": "execute_result"
    }
   ],
   "source": [
    "s = Solver()\n",
    "s.add(True)\n",
    "s.check()"
   ]
  },
  {
   "cell_type": "code",
   "execution_count": null,
   "metadata": {},
   "outputs": [],
   "source": []
  },
  {
   "cell_type": "code",
   "execution_count": 5,
   "metadata": {},
   "outputs": [
    {
     "ename": "SyntaxError",
     "evalue": "unexpected EOF while parsing (<ipython-input-5-338a01fe6478>, line 1)",
     "output_type": "error",
     "traceback": [
      "\u001b[0;36m  File \u001b[0;32m\"<ipython-input-5-338a01fe6478>\"\u001b[0;36m, line \u001b[0;32m1\u001b[0m\n\u001b[0;31m    class Z3FloatModel():\u001b[0m\n\u001b[0m                         ^\u001b[0m\n\u001b[0;31mSyntaxError\u001b[0m\u001b[0;31m:\u001b[0m unexpected EOF while parsing\n"
     ]
    }
   ],
   "source": [
    "\n",
    "\n",
    "class Z3FloatModel():\n",
    "    def __init__(self, solver=Solver()):\n",
    "\n",
    "\n",
    "class Z3FloatVar():\n",
    "    def __init__(self, name=None, val=None):\n",
    "        \n",
    "    def __add__(self,rhs):\n",
    "        eps = FreshReal()\n",
    "        self.model.solver.add(eps <= 0.0000001)\n",
    "        self.model.solver.add(-0.0000001 <= eps)\n",
    "        return Z3FloatVar( (self.val + rhs.val) * (1 + eps), model=self.model)\n",
    "    def __mul__(self,rhs):\n",
    "        "
   ]
  },
  {
   "cell_type": "code",
   "execution_count": 4,
   "metadata": {},
   "outputs": [],
   "source": [
    "import numpy as np\n",
    "import cvxpy as cvx\n",
    "import sympy as sy\n",
    "\n",
    "A = np.array([[0,1],\n",
    "             [-1,0]])\n",
    "\n"
   ]
  },
  {
   "cell_type": "code",
   "execution_count": 3,
   "metadata": {},
   "outputs": [],
   "source": [
    "x,y,z = sy.symbols(\"x y z\")"
   ]
  },
  {
   "cell_type": "code",
   "execution_count": 7,
   "metadata": {},
   "outputs": [
    {
     "ename": "ValueError",
     "evalue": "matmul: Input operand 1 does not have enough dimensions (has 0, gufunc core with signature (n?,k),(k,m?)->(n?,m?) requires 1)",
     "output_type": "error",
     "traceback": [
      "\u001b[0;31m---------------------------------------------------------------------------\u001b[0m",
      "\u001b[0;31mValueError\u001b[0m                                Traceback (most recent call last)",
      "\u001b[0;32m<ipython-input-7-5c2bdcc1788d>\u001b[0m in \u001b[0;36m<module>\u001b[0;34m\u001b[0m\n\u001b[0;32m----> 1\u001b[0;31m \u001b[0mA\u001b[0m\u001b[0;34m@\u001b[0m\u001b[0mx\u001b[0m\u001b[0;34m\u001b[0m\u001b[0;34m\u001b[0m\u001b[0m\n\u001b[0m",
      "\u001b[0;31mValueError\u001b[0m: matmul: Input operand 1 does not have enough dimensions (has 0, gufunc core with signature (n?,k),(k,m?)->(n?,m?) requires 1)"
     ]
    }
   ],
   "source": [
    "A@x"
   ]
  },
  {
   "cell_type": "code",
   "execution_count": 15,
   "metadata": {},
   "outputs": [
    {
     "data": {
      "text/plain": [
       "[]"
      ]
     },
     "execution_count": 15,
     "metadata": {},
     "output_type": "execute_result"
    }
   ],
   "source": [
    "sy.Matrix([[2 + x,4],[2,4]]).nullspace()"
   ]
  },
  {
   "cell_type": "code",
   "execution_count": 11,
   "metadata": {},
   "outputs": [
    {
     "data": {
      "text/plain": [
       "\"Function('x')(Symbol('t'), Symbol('t'))\""
      ]
     },
     "execution_count": 11,
     "metadata": {},
     "output_type": "execute_result"
    }
   ],
   "source": [
    "x = sy.Function(\"x\")\n",
    "t = sy.Symbol(\"t\")\n",
    "sy.diff(x(t),t)\n",
    "sy.srepr(x(t,t))"
   ]
  },
  {
   "cell_type": "code",
   "execution_count": 1,
   "metadata": {},
   "outputs": [],
   "source": [
    "#help(sy.Function)"
   ]
  },
  {
   "cell_type": "code",
   "execution_count": 7,
   "metadata": {},
   "outputs": [
    {
     "ename": "TypeError",
     "evalue": "'Symbol' object is not callable",
     "output_type": "error",
     "traceback": [
      "\u001b[0;31m---------------------------------------------------------------------------\u001b[0m",
      "\u001b[0;31mTypeError\u001b[0m                                 Traceback (most recent call last)",
      "\u001b[0;32m<ipython-input-7-dcc7a98a610d>\u001b[0m in \u001b[0;36m<module>\u001b[0;34m\u001b[0m\n\u001b[1;32m      1\u001b[0m \u001b[0mx\u001b[0m \u001b[0;34m=\u001b[0m \u001b[0msy\u001b[0m\u001b[0;34m.\u001b[0m\u001b[0mSymbol\u001b[0m\u001b[0;34m(\u001b[0m\u001b[0;34m\"x\"\u001b[0m\u001b[0;34m)\u001b[0m\u001b[0;34m\u001b[0m\u001b[0;34m\u001b[0m\u001b[0m\n\u001b[1;32m      2\u001b[0m \u001b[0mt\u001b[0m \u001b[0;34m=\u001b[0m \u001b[0msy\u001b[0m\u001b[0;34m.\u001b[0m\u001b[0mSymbol\u001b[0m\u001b[0;34m(\u001b[0m\u001b[0;34m\"t\"\u001b[0m\u001b[0;34m)\u001b[0m\u001b[0;34m\u001b[0m\u001b[0;34m\u001b[0m\u001b[0m\n\u001b[0;32m----> 3\u001b[0;31m \u001b[0msy\u001b[0m\u001b[0;34m.\u001b[0m\u001b[0mdiff\u001b[0m\u001b[0;34m(\u001b[0m\u001b[0mx\u001b[0m\u001b[0;34m(\u001b[0m\u001b[0mt\u001b[0m\u001b[0;34m)\u001b[0m\u001b[0;34m,\u001b[0m\u001b[0mt\u001b[0m\u001b[0;34m)\u001b[0m\u001b[0;34m\u001b[0m\u001b[0;34m\u001b[0m\u001b[0m\n\u001b[0m",
      "\u001b[0;31mTypeError\u001b[0m: 'Symbol' object is not callable"
     ]
    }
   ],
   "source": [
    "x = sy.Symbol(\"x\")\n",
    "t = sy.Symbol(\"t\")\n",
    "sy.diff(x(t),t)"
   ]
  },
  {
   "cell_type": "code",
   "execution_count": 17,
   "metadata": {},
   "outputs": [
    {
     "data": {
      "text/plain": [
       "\"Comp(Symbol('t'), Function('x'))\""
      ]
     },
     "execution_count": 17,
     "metadata": {},
     "output_type": "execute_result"
    }
   ],
   "source": [
    "class Comp(sy.Function):\n",
    "    nargs = 2\n",
    "#Comp(t,t,t)\n",
    "Comp(t,x).args\n",
    "sy.srepr(Comp(t,x))"
   ]
  },
  {
   "cell_type": "markdown",
   "metadata": {},
   "source": [
    "Guarded programs\n",
    "integer linear programs\n",
    "Guarded polynhomial and linear programs.\n",
    "\n",
    "\n",
    "Julia seems like it's got nice solvers so\n",
    "\n",
    "\"Dynamical Systems and Computer Programs - Kind of the Same Thing\"\n",
    "https://dl.acm.org/doi/abs/10.1145/3385412.3385969 - PLDI talk on polynomial invaraint generation using QCLP\n",
    "\n",
    "\n",
    "http://www.csl.sri.com/users/tiwari/papers/cav04.pdf\n",
    "\n",
    "\n",
    "\n",
    "Victor Magron has some interesting stuff\n",
    "\n",
    "\n",
    "Nondetermonisic or\n",
    "() || ( )\n",
    "\n",
    "update\n",
    "x := 3x + 4\n",
    "Guard   (x >= ) =>\n",
    "\n",
    "type Var = Int\n",
    "data Linear = Vector Double\n",
    "data Prop = Eq0 Linear | GTE0 Linear | GT0 Linear\n",
    "data Prog = Or Prog Prog | Update Var Linear | Guard Prop Prog | Seq Prog Prog | Star Prog\n",
    "\n",
    "\n",
    "What is the minimal thing\n",
    "data ProgSimple = Update | Seq\n",
    "\n",
    "\n",
    "\n",
    "\n",
    "\n",
    "1. Guards\n",
    "\n",
    " /\\ /\\ /\\ /\\ => /\\ /\\ /\\ \n",
    " polytope containment\n",
    "\n",
    "2.\n",
    "\n",
    "\n",
    "\n",
    "3."
   ]
  }
 ],
 "metadata": {
  "@webio": {
   "lastCommId": null,
   "lastKernelId": null
  },
  "kernelspec": {
   "display_name": "Python 3",
   "language": "python",
   "name": "python3"
  },
  "language_info": {
   "codemirror_mode": {
    "name": "ipython",
    "version": 3
   },
   "file_extension": ".py",
   "mimetype": "text/x-python",
   "name": "python",
   "nbconvert_exporter": "python",
   "pygments_lexer": "ipython3",
   "version": "3.6.9"
  }
 },
 "nbformat": 4,
 "nbformat_minor": 4
}
