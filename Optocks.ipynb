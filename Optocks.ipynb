{
 "cells": [
  {
   "cell_type": "code",
   "execution_count": 1,
   "metadata": {},
   "outputs": [],
   "source": [
    "import sympy as sy"
   ]
  },
  {
   "cell_type": "code",
   "execution_count": 12,
   "metadata": {},
   "outputs": [
    {
     "name": "stdout",
     "output_type": "stream",
     "text": [
      "                    1.0⋅ⅈ⋅k⋅z    1.0⋅ⅈ⋅k⋅z ∂             \n",
      "1.0⋅ⅈ⋅k⋅ψ(x, y, z)⋅ℯ          + ℯ         ⋅──(ψ(x, y, z))\n",
      "                                           ∂z            \n"
     ]
    }
   ],
   "source": [
    "k, x, y, z = sy.var(\"k x y z\")\n",
    "psi = sy.Function(\"psi\")\n",
    "sy.pprint(sy.diff(psi(x,y,z)*sy.exp(1.j * k * z), z))"
   ]
  },
  {
   "cell_type": "code",
   "execution_count": null,
   "metadata": {},
   "outputs": [],
   "source": []
  }
 ],
 "metadata": {
  "kernelspec": {
   "display_name": "Python 3",
   "language": "python",
   "name": "python3"
  },
  "language_info": {
   "codemirror_mode": {
    "name": "ipython",
    "version": 3
   },
   "file_extension": ".py",
   "mimetype": "text/x-python",
   "name": "python",
   "nbconvert_exporter": "python",
   "pygments_lexer": "ipython3",
   "version": "3.7.5"
  }
 },
 "nbformat": 4,
 "nbformat_minor": 2
}
