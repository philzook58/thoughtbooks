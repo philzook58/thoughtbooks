{
 "cells": [
  {
   "cell_type": "code",
   "execution_count": 1,
   "metadata": {},
   "outputs": [
    {
     "data": {
      "text/plain": [
       ":(1 + 1)"
      ]
     },
     "execution_count": 1,
     "metadata": {},
     "output_type": "execute_result"
    }
   ],
   "source": [
    ":(1 + 1)"
   ]
  },
  {
   "cell_type": "markdown",
   "metadata": {},
   "source": [
    "What happens if we do metaocaml style metaprogramming in julia. \n",
    "Well, lisp might have a deeper tradition. \n",
    "This is fairly untyped.\n",
    "\n"
   ]
  },
  {
   "cell_type": "code",
   "execution_count": 2,
   "metadata": {},
   "outputs": [
    {
     "data": {
      "text/plain": [
       ":(1 + 5)"
      ]
     },
     "execution_count": 2,
     "metadata": {},
     "output_type": "execute_result"
    }
   ],
   "source": [
    ":(1 + $(2 + 3))"
   ]
  },
  {
   "cell_type": "code",
   "execution_count": 12,
   "metadata": {},
   "outputs": [
    {
     "data": {
      "text/plain": [
       "mypow (generic function with 1 method)"
      ]
     },
     "execution_count": 12,
     "metadata": {},
     "output_type": "execute_result"
    }
   ],
   "source": [
    "mypow(n,x) = if (n == 0) 1 else :($x * $(mypow(n-1,x))) end"
   ]
  },
  {
   "cell_type": "code",
   "execution_count": 13,
   "metadata": {},
   "outputs": [
    {
     "data": {
      "text/plain": [
       ":(4 * (4 * (4 * 1)))"
      ]
     },
     "execution_count": 13,
     "metadata": {},
     "output_type": "execute_result"
    }
   ],
   "source": [
    "mypow(3,4)"
   ]
  },
  {
   "cell_type": "code",
   "execution_count": 21,
   "metadata": {},
   "outputs": [
    {
     "data": {
      "text/plain": [
       "fpow (generic function with 1 method)"
      ]
     },
     "execution_count": 21,
     "metadata": {},
     "output_type": "execute_result"
    }
   ],
   "source": [
    "fpow(n) = :( x -> $(mypow(n, :x)))"
   ]
  },
  {
   "cell_type": "code",
   "execution_count": 24,
   "metadata": {},
   "outputs": [
    {
     "data": {
      "text/plain": [
       ":(x->begin\n",
       "          #= In[21]:1 =#\n",
       "          x * (x * (x * 1))\n",
       "      end)"
      ]
     },
     "execution_count": 24,
     "metadata": {},
     "output_type": "execute_result"
    }
   ],
   "source": [
    "fpow(3)"
   ]
  },
  {
   "cell_type": "code",
   "execution_count": 25,
   "metadata": {},
   "outputs": [
    {
     "data": {
      "text/plain": [
       "#5 (generic function with 1 method)"
      ]
     },
     "execution_count": 25,
     "metadata": {},
     "output_type": "execute_result"
    }
   ],
   "source": [
    "z = eval(fpow(3))"
   ]
  },
  {
   "cell_type": "code",
   "execution_count": 26,
   "metadata": {},
   "outputs": [
    {
     "data": {
      "text/plain": [
       "8"
      ]
     },
     "execution_count": 26,
     "metadata": {},
     "output_type": "execute_result"
    }
   ],
   "source": [
    "z(2)"
   ]
  },
  {
   "cell_type": "markdown",
   "metadata": {},
   "source": [
    "So many use cases of partial evaluation are for specilizing interpeters. It would be cool to specialize some kind of LP solver or something.\n",
    "\n",
    "LMS, nada Amin, Tiark Rompf\n",
    "\n",
    "https://scala-lms.github.io/tutorials/index.html  interesting stuff on here\n",
    "\n",
    "Shonan challenges\n",
    "\n",
    "specilaizing to known matrices\n",
    "HMM, mmult\n",
    "What about Taco? This a a static sparsity pattern and runtime avlues\n",
    "\n",
    "\n",
    "Auatimci differentation?\n",
    "\n",
    "Specializing a regexp\n",
    "\n",
    "specialziing a parser (of course)\n",
    "\n",
    "SQl queries\n",
    "http://homes.sice.indiana.edu/ccshan/metafx/pepm2013.pdf\n",
    "\n",
    "\n",
    "\n",
    "\n",
    "\n",
    "\n",
    "I suppose from an extended persepctive, all data is programs and \n",
    "specialzing \n",
    "\n",
    "\n",
    "\n",
    "Generative programming seems to be a term people use\n",
    "\n",
    "\n",
    "\n",
    "Interesting tutorials on metaprogramming here\n",
    "https://github.com/johnmyleswhite/julia_tutorials\n",
    "\n",
    "\n",
    "\n",
    "\n"
   ]
  },
  {
   "cell_type": "code",
   "execution_count": null,
   "metadata": {},
   "outputs": [],
   "source": [
    "function convolve(a,b)\n",
    "   for x in a\n",
    "        for y in b\n",
    "            \n",
    "    \n",
    "end"
   ]
  },
  {
   "cell_type": "code",
   "execution_count": 28,
   "metadata": {},
   "outputs": [
    {
     "ename": "UndefVarError",
     "evalue": "UndefVarError: x not defined",
     "output_type": "error",
     "traceback": [
      "UndefVarError: x not defined",
      "",
      "Stacktrace:",
      " [1] top-level scope at In[28]:2"
     ]
    }
   ],
   "source": [
    "a = [1,2,3]\n",
    "\n",
    ":(sum( [ $(x) for x in a    ] ))"
   ]
  },
  {
   "cell_type": "markdown",
   "metadata": {},
   "source": [
    "Unrolling a loop partially\n"
   ]
  },
  {
   "cell_type": "code",
   "execution_count": 31,
   "metadata": {},
   "outputs": [
    {
     "data": {
      "text/plain": [
       ":(x + y)"
      ]
     },
     "execution_count": 31,
     "metadata": {},
     "output_type": "execute_result"
    }
   ],
   "source": [
    ":(x + y)"
   ]
  },
  {
   "cell_type": "code",
   "execution_count": 36,
   "metadata": {},
   "outputs": [
    {
     "data": {
      "text/plain": [
       ":((4 * x[1] + 5 * x[2]) + 6 * x[3])"
      ]
     },
     "execution_count": 36,
     "metadata": {},
     "output_type": "execute_result"
    }
   ],
   "source": [
    "coeff = [4,5,6]\n",
    "acc = :($(coeff[1]) * x[1])\n",
    "\n",
    "for i in 2:3\n",
    "    acc = :($acc + $(coeff[i])*x[$i]) \n",
    "end\n",
    "acc"
   ]
  },
  {
   "cell_type": "code",
   "execution_count": 37,
   "metadata": {},
   "outputs": [
    {
     "data": {
      "text/html": [
       "# 13 methods for generic function <b>sum</b>:<ul><li> sum(x::<b>Tuple{Any,Vararg{Any,N} where N}</b>) in Base at <a href=\"https://github.com/JuliaLang/julia/tree/381693d3dfc9b7072707f6d544f82f6637fc5e7c/base/tuple.jl#L396\" target=\"_blank\">tuple.jl:396</a></li> <li> sum(r::<b>StepRangeLen</b>) in Base at <a href=\"https://github.com/JuliaLang/julia/tree/381693d3dfc9b7072707f6d544f82f6637fc5e7c/base/twiceprecision.jl#L536\" target=\"_blank\">twiceprecision.jl:536</a></li> <li> sum(r::<b>AbstractRange{#s69} where #s69<:Real</b>) in Base at <a href=\"https://github.com/JuliaLang/julia/tree/381693d3dfc9b7072707f6d544f82f6637fc5e7c/base/range.jl#L978\" target=\"_blank\">range.jl:978</a></li> <li> sum(x::<b>SparseArrays.AbstractSparseArray{Tv,Ti,1} where Ti where Tv</b>) in SparseArrays at <a href=\"file:///buildworker/worker/package_linux64/build/usr/share/julia/stdlib/v1.4/SparseArrays/src/sparsevector.jl\" target=\"_blank\">/home/philip/Downloads/julia-1.4.1/share/julia/stdlib/v1.4/SparseArrays/src/sparsevector.jl:1315</a></li> <li> sum(a::<b>AbstractArray{Bool,N} where N</b>) in Base at <a href=\"https://github.com/JuliaLang/julia/tree/381693d3dfc9b7072707f6d544f82f6637fc5e7c/base/reduce.jl#L504\" target=\"_blank\">reduce.jl:504</a></li> <li> sum(arr::<b>AbstractArray{BigInt,N} where N</b>) in Base.GMP at <a href=\"https://github.com/JuliaLang/julia/tree/381693d3dfc9b7072707f6d544f82f6637fc5e7c/base/gmp.jl#L628\" target=\"_blank\">gmp.jl:628</a></li> <li> sum(arr::<b>AbstractArray{BigFloat,N} where N</b>) in Base.MPFR at <a href=\"https://github.com/JuliaLang/julia/tree/381693d3dfc9b7072707f6d544f82f6637fc5e7c/base/mpfr.jl#L732\" target=\"_blank\">mpfr.jl:732</a></li> <li> sum(a::<b>AbstractArray</b>; <i>dims</i>) in Base at <a href=\"https://github.com/JuliaLang/julia/tree/381693d3dfc9b7072707f6d544f82f6637fc5e7c/base/reducedim.jl#L652\" target=\"_blank\">reducedim.jl:652</a></li> <li> sum(::<b>typeof(abs)</b>, x::<b>SparseArrays.AbstractSparseArray{Tv,Ti,1} where Ti where Tv</b>) in SparseArrays at <a href=\"file:///buildworker/worker/package_linux64/build/usr/share/julia/stdlib/v1.4/SparseArrays/src/sparsevector.jl\" target=\"_blank\">/home/philip/Downloads/julia-1.4.1/share/julia/stdlib/v1.4/SparseArrays/src/sparsevector.jl:1340</a></li> <li> sum(::<b>typeof(abs2)</b>, x::<b>SparseArrays.AbstractSparseArray{Tv,Ti,1} where Ti where Tv</b>) in SparseArrays at <a href=\"file:///buildworker/worker/package_linux64/build/usr/share/julia/stdlib/v1.4/SparseArrays/src/sparsevector.jl\" target=\"_blank\">/home/philip/Downloads/julia-1.4.1/share/julia/stdlib/v1.4/SparseArrays/src/sparsevector.jl:1340</a></li> <li> sum(a) in Base at <a href=\"https://github.com/JuliaLang/julia/tree/381693d3dfc9b7072707f6d544f82f6637fc5e7c/base/reduce.jl#L503\" target=\"_blank\">reduce.jl:503</a></li> <li> sum(f, a::<b>AbstractArray</b>; <i>dims</i>) in Base at <a href=\"https://github.com/JuliaLang/julia/tree/381693d3dfc9b7072707f6d544f82f6637fc5e7c/base/reducedim.jl#L653\" target=\"_blank\">reducedim.jl:653</a></li> <li> sum(f, a) in Base at <a href=\"https://github.com/JuliaLang/julia/tree/381693d3dfc9b7072707f6d544f82f6637fc5e7c/base/reduce.jl#L486\" target=\"_blank\">reduce.jl:486</a></li> </ul>"
      ],
      "text/plain": [
       "# 13 methods for generic function \"sum\":\n",
       "[1] sum(x::Tuple{Any,Vararg{Any,N} where N}) in Base at tuple.jl:396\n",
       "[2] sum(r::StepRangeLen) in Base at twiceprecision.jl:536\n",
       "[3] sum(r::AbstractRange{#s69} where #s69<:Real) in Base at range.jl:978\n",
       "[4] sum(x::SparseArrays.AbstractSparseArray{Tv,Ti,1} where Ti where Tv) in SparseArrays at /home/philip/Downloads/julia-1.4.1/share/julia/stdlib/v1.4/SparseArrays/src/sparsevector.jl:1315\n",
       "[5] sum(a::AbstractArray{Bool,N} where N) in Base at reduce.jl:504\n",
       "[6] sum(arr::AbstractArray{BigInt,N} where N) in Base.GMP at gmp.jl:628\n",
       "[7] sum(arr::AbstractArray{BigFloat,N} where N) in Base.MPFR at mpfr.jl:732\n",
       "[8] sum(a::AbstractArray; dims) in Base at reducedim.jl:652\n",
       "[9] sum(::typeof(abs), x::SparseArrays.AbstractSparseArray{Tv,Ti,1} where Ti where Tv) in SparseArrays at /home/philip/Downloads/julia-1.4.1/share/julia/stdlib/v1.4/SparseArrays/src/sparsevector.jl:1340\n",
       "[10] sum(::typeof(abs2), x::SparseArrays.AbstractSparseArray{Tv,Ti,1} where Ti where Tv) in SparseArrays at /home/philip/Downloads/julia-1.4.1/share/julia/stdlib/v1.4/SparseArrays/src/sparsevector.jl:1340\n",
       "[11] sum(a) in Base at reduce.jl:503\n",
       "[12] sum(f, a::AbstractArray; dims) in Base at reducedim.jl:653\n",
       "[13] sum(f, a) in Base at reduce.jl:486"
      ]
     },
     "execution_count": 37,
     "metadata": {},
     "output_type": "execute_result"
    }
   ],
   "source": [
    "methods(sum)"
   ]
  },
  {
   "cell_type": "code",
   "execution_count": 42,
   "metadata": {},
   "outputs": [],
   "source": [
    "Base.:+(x::Expr, y ::Expr) = :($x + $y)"
   ]
  },
  {
   "cell_type": "code",
   "execution_count": 43,
   "metadata": {},
   "outputs": [
    {
     "data": {
      "text/plain": [
       ":(((((((((x[1] + x[2]) + x[3]) + x[4]) + x[5]) + x[6]) + x[7]) + x[8]) + x[9]) + x[10])"
      ]
     },
     "execution_count": 43,
     "metadata": {},
     "output_type": "execute_result"
    }
   ],
   "source": [
    "sum( [ :(x[$i]) for i in 1:10  ]  )"
   ]
  },
  {
   "cell_type": "code",
   "execution_count": null,
   "metadata": {},
   "outputs": [],
   "source": [
    "\n",
    "# what about a different association. What about hughes lists?\n",
    "sum( [ :(x[$i]) for i in 1:10  ]  )"
   ]
  },
  {
   "cell_type": "code",
   "execution_count": 46,
   "metadata": {},
   "outputs": [
    {
     "data": {
      "text/latex": [
       "\\begin{verbatim}\n",
       "Symbol\n",
       "\\end{verbatim}\n",
       "The type of object used to represent identifiers in parsed julia code (ASTs). Also often used as a name or label to identify an entity (e.g. as a dictionary key). \\texttt{Symbol}s can be entered using the \\texttt{:} quote operator:\n",
       "\n",
       "\\begin{verbatim}\n",
       "julia> :name\n",
       ":name\n",
       "\n",
       "julia> typeof(:name)\n",
       "Symbol\n",
       "\n",
       "julia> x = 42\n",
       "42\n",
       "\n",
       "julia> eval(:x)\n",
       "42\n",
       "\\end{verbatim}\n",
       "\\texttt{Symbol}s can also be constructed from strings or other values by calling the constructor \\texttt{Symbol(x...)}.\n",
       "\n",
       "\\texttt{Symbol}s are immutable and should be compared using \\texttt{===}. The implementation re-uses the same object for all \\texttt{Symbol}s with the same name, so comparison tends to be efficient (it can just compare pointers).\n",
       "\n",
       "Unlike strings, \\texttt{Symbol}s are \"atomic\" or \"scalar\" entities that do not support iteration over characters.\n",
       "\n",
       "\\rule{\\textwidth}{1pt}\n",
       "\\begin{verbatim}\n",
       "Symbol(x...) -> Symbol\n",
       "\\end{verbatim}\n",
       "Create a \\href{@ref}{\\texttt{Symbol}} by concatenating the string representations of the arguments together.\n",
       "\n",
       "\\section{Examples}\n",
       "\\begin{verbatim}\n",
       "julia> Symbol(\"my\", \"name\")\n",
       ":myname\n",
       "\n",
       "julia> Symbol(\"day\", 4)\n",
       ":day4\n",
       "\\end{verbatim}\n"
      ],
      "text/markdown": [
       "```\n",
       "Symbol\n",
       "```\n",
       "\n",
       "The type of object used to represent identifiers in parsed julia code (ASTs). Also often used as a name or label to identify an entity (e.g. as a dictionary key). `Symbol`s can be entered using the `:` quote operator:\n",
       "\n",
       "```jldoctest\n",
       "julia> :name\n",
       ":name\n",
       "\n",
       "julia> typeof(:name)\n",
       "Symbol\n",
       "\n",
       "julia> x = 42\n",
       "42\n",
       "\n",
       "julia> eval(:x)\n",
       "42\n",
       "```\n",
       "\n",
       "`Symbol`s can also be constructed from strings or other values by calling the constructor `Symbol(x...)`.\n",
       "\n",
       "`Symbol`s are immutable and should be compared using `===`. The implementation re-uses the same object for all `Symbol`s with the same name, so comparison tends to be efficient (it can just compare pointers).\n",
       "\n",
       "Unlike strings, `Symbol`s are \"atomic\" or \"scalar\" entities that do not support iteration over characters.\n",
       "\n",
       "---\n",
       "\n",
       "```\n",
       "Symbol(x...) -> Symbol\n",
       "```\n",
       "\n",
       "Create a [`Symbol`](@ref) by concatenating the string representations of the arguments together.\n",
       "\n",
       "# Examples\n",
       "\n",
       "```jldoctest\n",
       "julia> Symbol(\"my\", \"name\")\n",
       ":myname\n",
       "\n",
       "julia> Symbol(\"day\", 4)\n",
       ":day4\n",
       "```\n"
      ],
      "text/plain": [
       "\u001b[36m  Symbol\u001b[39m\n",
       "\n",
       "  The type of object used to represent identifiers in parsed julia code\n",
       "  (ASTs). Also often used as a name or label to identify an entity (e.g. as a\n",
       "  dictionary key). \u001b[36mSymbol\u001b[39ms can be entered using the \u001b[36m:\u001b[39m quote operator:\n",
       "\n",
       "\u001b[36m  julia> :name\u001b[39m\n",
       "\u001b[36m  :name\u001b[39m\n",
       "\u001b[36m  \u001b[39m\n",
       "\u001b[36m  julia> typeof(:name)\u001b[39m\n",
       "\u001b[36m  Symbol\u001b[39m\n",
       "\u001b[36m  \u001b[39m\n",
       "\u001b[36m  julia> x = 42\u001b[39m\n",
       "\u001b[36m  42\u001b[39m\n",
       "\u001b[36m  \u001b[39m\n",
       "\u001b[36m  julia> eval(:x)\u001b[39m\n",
       "\u001b[36m  42\u001b[39m\n",
       "\n",
       "  \u001b[36mSymbol\u001b[39ms can also be constructed from strings or other values by calling the\n",
       "  constructor \u001b[36mSymbol(x...)\u001b[39m.\n",
       "\n",
       "  \u001b[36mSymbol\u001b[39ms are immutable and should be compared using \u001b[36m===\u001b[39m. The implementation\n",
       "  re-uses the same object for all \u001b[36mSymbol\u001b[39ms with the same name, so comparison\n",
       "  tends to be efficient (it can just compare pointers).\n",
       "\n",
       "  Unlike strings, \u001b[36mSymbol\u001b[39ms are \"atomic\" or \"scalar\" entities that do not\n",
       "  support iteration over characters.\n",
       "\n",
       "  ────────────────────────────────────────────────────────────────────────────\n",
       "\n",
       "\u001b[36m  Symbol(x...) -> Symbol\u001b[39m\n",
       "\n",
       "  Create a \u001b[36mSymbol\u001b[39m by concatenating the string representations of the arguments\n",
       "  together.\n",
       "\n",
       "\u001b[1m  Examples\u001b[22m\n",
       "\u001b[1m  ≡≡≡≡≡≡≡≡≡≡\u001b[22m\n",
       "\n",
       "\u001b[36m  julia> Symbol(\"my\", \"name\")\u001b[39m\n",
       "\u001b[36m  :myname\u001b[39m\n",
       "\u001b[36m  \u001b[39m\n",
       "\u001b[36m  julia> Symbol(\"day\", 4)\u001b[39m\n",
       "\u001b[36m  :day4\u001b[39m"
      ]
     },
     "execution_count": 46,
     "metadata": {},
     "output_type": "execute_result"
    }
   ],
   "source": [
    "?"
   ]
  },
  {
   "cell_type": "code",
   "execution_count": null,
   "metadata": {},
   "outputs": [],
   "source": []
  }
 ],
 "metadata": {
  "kernelspec": {
   "display_name": "Julia 1.4.1",
   "language": "julia",
   "name": "julia-1.4"
  },
  "language_info": {
   "file_extension": ".jl",
   "mimetype": "application/julia",
   "name": "julia",
   "version": "1.4.1"
  }
 },
 "nbformat": 4,
 "nbformat_minor": 4
}
