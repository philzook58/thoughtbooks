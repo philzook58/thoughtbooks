{
 "cells": [
  {
   "cell_type": "code",
   "execution_count": 1,
   "metadata": {},
   "outputs": [
    {
     "name": "stdout",
     "output_type": "stream",
     "text": [
      "\n",
      "Welcome to Nemo version 0.17.5\n",
      "\n",
      "Nemo comes with absolutely no warranty whatsoever\n",
      "\n"
     ]
    }
   ],
   "source": [
    "using Nemo"
   ]
  },
  {
   "cell_type": "code",
   "execution_count": 2,
   "metadata": {},
   "outputs": [
    {
     "data": {
      "text/plain": [
       "Complex Field with 64 bits of precision and error bounds"
      ]
     },
     "execution_count": 2,
     "metadata": {},
     "output_type": "execute_result"
    }
   ],
   "source": [
    "CC = ComplexField(64)"
   ]
  },
  {
   "cell_type": "code",
   "execution_count": 15,
   "metadata": {},
   "outputs": [
    {
     "data": {
      "text/plain": [
       "(Univariate Polynomial Ring in s over Complex Field with 64 bits of precision and error bounds, [ 0 + i*0, 1.0000000000000000000 + i*0 ])"
      ]
     },
     "execution_count": 15,
     "metadata": {},
     "output_type": "execute_result"
    }
   ],
   "source": [
    "P, s = PolynomialRing(CC, \"s\")"
   ]
  },
  {
   "cell_type": "code",
   "execution_count": 17,
   "metadata": {},
   "outputs": [
    {
     "data": {
      "text/plain": [
       "0 + i*1.0000000000000000000"
      ]
     },
     "execution_count": 17,
     "metadata": {},
     "output_type": "execute_result"
    }
   ],
   "source": [
    "i = onei(CC)"
   ]
  },
  {
   "cell_type": "code",
   "execution_count": 16,
   "metadata": {},
   "outputs": [
    {
     "data": {
      "text/plain": [
       "[ 1.0000000000000000000 + i*0, 0 + i*1.0000000000000000000 ]"
      ]
     },
     "execution_count": 16,
     "metadata": {},
     "output_type": "execute_result"
    }
   ],
   "source": [
    "1.0 + i*s"
   ]
  },
  {
   "cell_type": "markdown",
   "metadata": {},
   "source": [
    "So the smith normal form is an intermediate and useful form for modules over pid. pid means everything factors?\n",
    "\n",
    "\n",
    "It's some analog of guaissan elmination\n",
    "\n",
    "I guess hermite is for integers\n"
   ]
  },
  {
   "cell_type": "code",
   "execution_count": 18,
   "metadata": {},
   "outputs": [
    {
     "data": {
      "text/plain": [
       "Matrix Space of 3 rows and 3 columns over Univariate Polynomial Ring in s over Complex Field with 64 bits of precision and error bounds"
      ]
     },
     "execution_count": 18,
     "metadata": {},
     "output_type": "execute_result"
    }
   ],
   "source": [
    "S = MatrixSpace(P, 3, 3)"
   ]
  },
  {
   "cell_type": "code",
   "execution_count": 19,
   "metadata": {},
   "outputs": [
    {
     "ename": "MethodError",
     "evalue": "MethodError: no method matching (::AbstractAlgebra.Generic.MatSpace{acb_poly})(::Array{Any,2})\nClosest candidates are:\n  Any() where T<:Union{RingElem, AbstractFloat, Integer, Rational} at /home/philip/.julia/packages/AbstractAlgebra/16DGt/src/generic/Matrix.jl:5065\n  Any(!Matched::S) where {S<:Union{RingElem, AbstractFloat, Integer, Rational}, T<:Union{RingElem, AbstractFloat, Integer, Rational}} at /home/philip/.julia/packages/AbstractAlgebra/16DGt/src/generic/Matrix.jl:5078\n  Any(!Matched::AbstractAlgebra.Generic.Mat{T}) where T<:Union{RingElem, AbstractFloat, Integer, Rational} at /home/philip/.julia/packages/AbstractAlgebra/16DGt/src/generic/Matrix.jl:5096\n  ...",
     "output_type": "error",
     "traceback": [
      "MethodError: no method matching (::AbstractAlgebra.Generic.MatSpace{acb_poly})(::Array{Any,2})\nClosest candidates are:\n  Any() where T<:Union{RingElem, AbstractFloat, Integer, Rational} at /home/philip/.julia/packages/AbstractAlgebra/16DGt/src/generic/Matrix.jl:5065\n  Any(!Matched::S) where {S<:Union{RingElem, AbstractFloat, Integer, Rational}, T<:Union{RingElem, AbstractFloat, Integer, Rational}} at /home/philip/.julia/packages/AbstractAlgebra/16DGt/src/generic/Matrix.jl:5078\n  Any(!Matched::AbstractAlgebra.Generic.Mat{T}) where T<:Union{RingElem, AbstractFloat, Integer, Rational} at /home/philip/.julia/packages/AbstractAlgebra/16DGt/src/generic/Matrix.jl:5096\n  ...",
      "",
      "Stacktrace:",
      " [1] top-level scope at In[19]:1"
     ]
    }
   ],
   "source": [
    "A = S([2*s 3 5; 1 4*s 7; 19 3 7])"
   ]
  },
  {
   "cell_type": "code",
   "execution_count": null,
   "metadata": {},
   "outputs": [],
   "source": []
  }
 ],
 "metadata": {
  "kernelspec": {
   "display_name": "Julia 1.4.1",
   "language": "julia",
   "name": "julia-1.4"
  },
  "language_info": {
   "file_extension": ".jl",
   "mimetype": "application/julia",
   "name": "julia",
   "version": "1.4.1"
  }
 },
 "nbformat": 4,
 "nbformat_minor": 4
}
