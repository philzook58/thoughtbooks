{
 "cells": [
  {
   "cell_type": "markdown",
   "metadata": {},
   "source": [
    "It is compelling to use RUBI ruleset\n",
    "\n",
    "https://rulebasedintegration.org/\n",
    "https://github.com/JuliaInterop/MathLink.jl/blob/5fb8083a20bc1ed5f8183ebe46747ed3ea12424e/src/types.jl\n",
    "\n",
    "\n",
    "a random smapling\n",
    "(* ::Subsection::Closed:: *)\n",
    "(* 1.1.1.1 (a+b x)^m *)\n",
    "Int[1/x_, x_Symbol] := Log[x]\n",
    "Int[x_^m_., x_Symbol] := x^(m + 1)/(m + 1) /; FreeQ[m, x] && NeQ[m, -1]\n",
    "Int[1/(a_ + b_.*x_), x_Symbol] := Log[RemoveContent[a + b*x, x]]/b /; FreeQ[{a, b}, x]\n",
    "Int[(a_. + b_.*x_)^m_, x_Symbol] := (a + b*x)^(m + 1)/(b*(m + 1)) /; FreeQ[{a, b, m}, x] && NeQ[m, -1]\n",
    "Int[(a_. + b_.*u_)^m_, x_Symbol] := 1/Coefficient[u, x, 1]*Subst[Int[(a + b*x)^m, x], x, u] /; FreeQ[{a, b, m}, x] && LinearQ[u, x] && NeQ[u, x]\n"
   ]
  },
  {
   "cell_type": "code",
   "execution_count": 1,
   "metadata": {},
   "outputs": [
    {
     "ename": "LoadError",
     "evalue": "ArgumentError: Package MathLink not found in current path:\n- Run `import Pkg; Pkg.add(\"MathLink\")` to install the MathLink package.\n",
     "output_type": "error",
     "traceback": [
      "ArgumentError: Package MathLink not found in current path:\n- Run `import Pkg; Pkg.add(\"MathLink\")` to install the MathLink package.\n",
      "",
      "Stacktrace:",
      " [1] require(::Module, ::Symbol) at ./loading.jl:893",
      " [2] include_string(::Function, ::Module, ::String, ::String) at ./loading.jl:1091"
     ]
    }
   ],
   "source": [
    "using MathLink"
   ]
  },
  {
   "cell_type": "code",
   "execution_count": 2,
   "metadata": {},
   "outputs": [
    {
     "name": "stderr",
     "output_type": "stream",
     "text": [
      "\u001b[32m\u001b[1m   Updating\u001b[22m\u001b[39m registry at `~/.julia/registries/General`\n"
     ]
    },
    {
     "name": "stdout",
     "output_type": "stream",
     "text": [
      "\u001b[?25l    "
     ]
    },
    {
     "name": "stderr",
     "output_type": "stream",
     "text": [
      "\u001b[32m\u001b[1m   Updating\u001b[22m\u001b[39m git-repo `https://github.com/JuliaRegistries/General.git`\n"
     ]
    },
    {
     "name": "stdout",
     "output_type": "stream",
     "text": [
      "\u001b[2K\u001b[?25h[1mFetching:\u001b[22m\u001b[39m [========================================>]  100.0 %=======>                                ]  19.2 %38.2 %=======================>                 ]  57.4 %>   ]  90.6 %"
     ]
    },
    {
     "name": "stderr",
     "output_type": "stream",
     "text": [
      "\u001b[32m\u001b[1m  Resolving\u001b[22m\u001b[39m package versions...\n",
      "\u001b[32m\u001b[1m  Installed\u001b[22m\u001b[39m MathLink ─ v0.3.1\n",
      "\u001b[32m\u001b[1mUpdating\u001b[22m\u001b[39m `~/.julia/environments/v1.5/Project.toml`\n",
      " \u001b[90m [18c93696] \u001b[39m\u001b[92m+ MathLink v0.3.1\u001b[39m\n",
      "\u001b[32m\u001b[1mUpdating\u001b[22m\u001b[39m `~/.julia/environments/v1.5/Manifest.toml`\n",
      " \u001b[90m [18c93696] \u001b[39m\u001b[92m+ MathLink v0.3.1\u001b[39m\n",
      "\u001b[32m\u001b[1m   Building\u001b[22m\u001b[39m MathLink → `~/.julia/packages/MathLink/f5mIR/deps/build.log`\n",
      "┌ Error: Error building `MathLink`: \n",
      "│ ERROR: LoadError: MethodError: no method matching isexecutable(::Nothing)\n",
      "│ Closest candidates are:\n",
      "│   isexecutable(!Matched::String) at sysinfo.jl:442\n",
      "│   isexecutable(!Matched::AbstractString) at sysinfo.jl:452\n",
      "│ Stacktrace:\n",
      "│  [1] (::var\"#1#2\")() at /home/philip/.julia/packages/MathLink/f5mIR/deps/build.jl:37\n",
      "│  [2] #481 at ./env.jl:81 [inlined]\n",
      "│  [3] access_env at ./env.jl:43 [inlined]\n",
      "│  [4] get at ./env.jl:81 [inlined]\n",
      "│  [5] find_lib_ker() at /home/philip/.julia/packages/MathLink/f5mIR/deps/build.jl:35\n",
      "│  [6] top-level scope at /home/philip/.julia/packages/MathLink/f5mIR/deps/build.jl:88\n",
      "│  [7] include(::String) at ./client.jl:457\n",
      "│  [8] top-level scope at none:5\n",
      "│ in expression starting at /home/philip/.julia/packages/MathLink/f5mIR/deps/build.jl:88\n",
      "└ @ Pkg.Operations /buildworker/worker/package_linux64/build/usr/share/julia/stdlib/v1.5/Pkg/src/Operations.jl:942\n"
     ]
    }
   ],
   "source": [
    "import Pkg; Pkg.add(\"MathLink\")"
   ]
  }
 ],
 "metadata": {
  "kernelspec": {
   "display_name": "Julia 1.5.0",
   "language": "julia",
   "name": "julia-1.5"
  },
  "language_info": {
   "file_extension": ".jl",
   "mimetype": "application/julia",
   "name": "julia",
   "version": "1.5.0"
  }
 },
 "nbformat": 4,
 "nbformat_minor": 4
}
