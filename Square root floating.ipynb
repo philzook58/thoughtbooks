{
 "cells": [
  {
   "cell_type": "markdown",
   "metadata": {},
   "source": [
    "https://hal.archives-ouvertes.fr/hal-01148409/\n",
    "\n",
    "st, ties to even in radix 2,\n",
    "\n",
    "https://en.wikipedia.org/wiki/Half-precision_floating-point_format\n",
    "\n",
    "We need to restrict the range of the floating point that it isn't too close to zero or too big such that squaring goes to 0 of inf\n",
    "\n",
    "https://stackoverflow.com/questions/54502823/are-floating-point-smt-logics-slower-than-real-ones\n"
   ]
  },
  {
   "cell_type": "code",
   "execution_count": 37,
   "metadata": {},
   "outputs": [
    {
     "name": "stdout",
     "output_type": "stream",
     "text": [
      "unknown\n"
     ]
    }
   ],
   "source": [
    "from z3 import *\n",
    "x = FP(\"x\", Float32())\n",
    "rm = RNE() # Rounding Nearest Ties to Even\n",
    "x2 = fpMul(rm, x, x)\n",
    "absx1 = fpSqrt(rm, x2)\n",
    "absx2 = fpAbs(x)\n",
    "\n",
    "s = Solver()\n",
    "s.add( 0.01 <= x, x <= 100)\n",
    "s.add( absx1 != absx2)\n",
    "res = s.check()\n",
    "print(res)\n",
    "if res == sat:\n",
    "    m = s.model()\n",
    "    print(m.eval(absx1))\n",
    "    print(m.eval(absx2))\n"
   ]
  },
  {
   "cell_type": "markdown",
   "metadata": {},
   "source": [
    "Float16 is instantaneous\n",
    "Float32 takes a while (if it ever returns)\n",
    "I feel like brute force checking float32 wouldn't take all that long?\n",
    "Maybe I'll write a rust program? C? Julia?"
   ]
  },
  {
   "cell_type": "code",
   "execution_count": 15,
   "metadata": {},
   "outputs": [
    {
     "name": "stdout",
     "output_type": "stream",
     "text": [
      "counterexample\n",
      "[x = 1.0087890625*(2**-9)]\n"
     ]
    }
   ],
   "source": [
    "prove(absx1 == absx2)"
   ]
  },
  {
   "cell_type": "code",
   "execution_count": 7,
   "metadata": {},
   "outputs": [
    {
     "data": {
      "text/plain": [
       "1.0019539594650269"
      ]
     },
     "execution_count": 7,
     "metadata": {},
     "output_type": "execute_result"
    }
   ],
   "source": [
    "import math\n",
    "math.sqrt(1.00195395946502685546875 * 1.00195395946502685546875)"
   ]
  },
  {
   "cell_type": "code",
   "execution_count": 8,
   "metadata": {},
   "outputs": [
    {
     "data": {
      "text/plain": [
       "1.0019539594650269"
      ]
     },
     "execution_count": 8,
     "metadata": {},
     "output_type": "execute_result"
    }
   ],
   "source": [
    "1.00195395946502685546875"
   ]
  },
  {
   "cell_type": "code",
   "execution_count": 28,
   "metadata": {},
   "outputs": [
    {
     "data": {
      "text/plain": [
       "10000000.0"
      ]
     },
     "execution_count": 28,
     "metadata": {},
     "output_type": "execute_result"
    }
   ],
   "source": [
    "1e7"
   ]
  },
  {
   "cell_type": "code",
   "execution_count": null,
   "metadata": {},
   "outputs": [],
   "source": []
  }
 ],
 "metadata": {
  "kernelspec": {
   "display_name": "Python 3",
   "language": "python",
   "name": "python3"
  },
  "language_info": {
   "codemirror_mode": {
    "name": "ipython",
    "version": 3
   },
   "file_extension": ".py",
   "mimetype": "text/x-python",
   "name": "python",
   "nbconvert_exporter": "python",
   "pygments_lexer": "ipython3",
   "version": "3.7.5"
  }
 },
 "nbformat": 4,
 "nbformat_minor": 2
}
