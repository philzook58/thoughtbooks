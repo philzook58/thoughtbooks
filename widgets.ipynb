{
 "cells": [
  {
   "cell_type": "code",
   "execution_count": 1,
   "metadata": {},
   "outputs": [],
   "source": [
    "import subprocess\n",
    "import ipywidgets as widgets"
   ]
  },
  {
   "cell_type": "code",
   "execution_count": 2,
   "metadata": {},
   "outputs": [],
   "source": [
    "w = widgets.FileUpload(\n",
    "    accept='',  # Accepted file extension e.g. '.txt', '.pdf', 'image/*', 'image/*,.pdf'\n",
    "    multiple=False  # True to accept multiple files upload else False\n",
    ")\n"
   ]
  },
  {
   "cell_type": "code",
   "execution_count": 3,
   "metadata": {},
   "outputs": [
    {
     "data": {
      "application/vnd.jupyter.widget-view+json": {
       "model_id": "e7281fd7893e46ec8c4f6e8eaee00f90",
       "version_major": 2,
       "version_minor": 0
      },
      "text/plain": [
       "FileUpload(value={}, description='Upload')"
      ]
     },
     "metadata": {},
     "output_type": "display_data"
    }
   ],
   "source": [
    "display(w)"
   ]
  },
  {
   "cell_type": "code",
   "execution_count": 4,
   "metadata": {},
   "outputs": [
    {
     "data": {
      "text/plain": [
       "{'_a70f607ba8a22ccbd0ba2caba5dad344_09_graph_decomposition_starter_files_1.zip': {'metadata': {'name': '_a70f607ba8a22ccbd0ba2caba5dad344_09_graph_decomposition_starter_files_1.zip',\n",
       "   'type': 'application/zip',\n",
       "   'size': 2831,\n",
       "   'lastModified': 1471015309000},\n",
       "  'content': b'PK\\x03\\x04\\n\\x00\\x00\\x00\\x00\\x00\\x19\\r\\xc2H\\x00\\x00\\x00\\x00\\x00\\x00\\x00\\x00\\x00\\x00\\x00\\x00\\x15\\x00\\x00\\x00connected_components/PK\\x03\\x04\\x14\\x00\\x00\\x00\\x08\\x00\\x19\\r\\xc2H\\x88Z\\xaa\\x1e\\xf9\\x00\\x00\\x00\\xd6\\x01\\x00\\x00-\\x00\\x00\\x00connected_components/connected_components.cppm\\x90\\xddN\\xc30\\x0c\\x85\\xef\\xf3\\x14\\x96&\\xa1T\\x1b\\x0cn\\xd7\\x92\\x17A\\xa8\\xeaR\\x8f\\x99\\xd1\\xa4\\xca\\x0f\\xb4\\xa0\\xbd;NS\\x95\\n\\xed\\xc6Q\\xbe\\x1c\\x1f\\x9fxCF\\x7f\\xc4\\x16\\xa1\"\\xeb\\x83\\xc3\\xa6Sb\\xb3\\xb0O\\xd4\\xc1:%D\\xf4d\\xde\\xc0\\x87\\xf6p\\xc8\\xac\\\\\\xa3\\xbe!\\x06\\x82L\\x00\\x13\\xbb#\\xba\\xda\\x9ejm\\xbb\\xde\\x1a4\\xc1\\xcb\\xdc2\\xbbU,S\\xa0\\xe0\\xaei\\xdf\\x0b\\xf8\\x11\\x00\\xa9\\xcf\\xa1\\x87gx,\\xf9\\xba\\xdf\\x7f9\\n\\x08\\xa3\\x8d\\x0e\\xb4\\xe5\\x1cgt\\xc8\\x0f\\x0eCt&IKq\\xcd\\xe3\\xba\\x86\\x8c\\xcc.\\x9e\\xbe\\xb1\\xe6\\x00;\\xe8\\x92\\xcb\\x14L\\x93\\x01\\xa5`*\\x13\\xbd\\x99\\x84\\x83Hn[AY\\x14I}\\xb2\\x0e\\xe4\\xecKS<>*v\\x02\\xdan\\xf3\\xd4\\x9c~\\xd8\\xc1XN\\xb7\\xf5\\xd8!\\x95\\x99\\xf3\\x8c\\x97\\x01\\xee\\xe1\\xe9\\xf5\\xa1\\x8f\\xfe\\\\\\x1f\\x1b}\\x91c\\x02\\xc5\\x9f`\\xfc/\\x18\\x16\\xc1u\\xf9\\x92\\x8d\\x01\\xaa\\xea\\xf6\\xa2\\xd3J\\xd3n~\\x01PK\\x03\\x04\\x14\\x00\\x00\\x00\\x08\\x00\\x19\\r\\xc2HR\\xf9\\r`\\t\\x01\\x00\\x00\\xde\\x01\\x00\\x00,\\x00\\x00\\x00connected_components/connected_components.pyuQKn\\xc3 \\x10\\xdds\\x8a\\x91\\xb2\\x08T\\xae\\x95\\xb8;K>FW\\x96\\x85p\\x18\\'Tf@\\x80U\\xb9\\xa7/6\\x96\\x9a,\\xcan\\xdeo>\\x9c>#F\\xf0kz8\\xfa`\\xccX\\xefB\\x82\\xb8F\\xc6\\x98\\xc6\\th\\xb1#\\x06\\xe9&ys\\x99#\\xa4\\x14\\xb9\\xd2_\\xa2e\\x90_\\xc0\\xb8\\xcc\\t:\\xb8\\xec\\xe5\\xe9;\\x98\\x84\\xb0\\xba%\\xc0\\xcdi\\x84\\x07\\x06<\\x84i\\tt\\xe8s\\x9f\\t\\xa4$eQJ\\xe8:8Ki\\x95!)\\xcf%\\xd6\\x90_\\xb6\\xd4<G\\x1d\\x936T\\x07T\\x9a\\x8b\\x9d\\xd4*\\xa9\\xcc\\xcd&&n\\x95\\xe7\\x86RU\\x1cu\\xf4\\xb3I\\\\\\x88\"\\xa4\\nl\\x16n\\xfa\\xfe\\xd26\\xc3\\xb3{\\x07\\x9b\\xb6`\\xa8\\xef\\xf9\\x08G\\xe4\\x8f\\xf1\\xfc\\xb0\\xf0\\x06\\xde\\xc0\\x8al\\xad\\x8a\\xe1\\xfa\\x04\\x1dM\\xf2-\\xb2\\xb3\\xef\\x07\\x98\\\\\\x00\\x99\\x07\\x81\\xa0\\xe8\\x8e\\x9cD\\t\\xdf`\\xae*\\x18\\xc5\\xc6\\xed\\xad\\xca\\x92\\x87\\xbbW\\xf0\\x0e\\xd7\\xa1V\\xde#i>n\\x95x\\x11\\x8c/\\x02\\xf5\\'\\xf0!\\xef\\xce\\xff\\xfd\"\\xc1~\\x01PK\\x03\\x04\\x14\\x00\\x00\\x00\\x08\\x00\\x19\\r\\xc2HO~g)M\\x01\\x00\\x00T\\x03\\x00\\x00-\\x00\\x00\\x00connected_components/ConnectedComponents.java\\x85R\\xb1n\\xc2@\\x0c\\xdd\\xf3\\x15\\x1e\\x13\\xd1\\x86v\\x0eT\\xaa\\x98*U\\xea\\xc0\\x882\\x1c\\x89\\xa1\\x87\\x12\\x1f\\xf29\\x90\\xa8\\xe2\\xdf{W\\x8e\\x04(\\xa5^.\\xb2\\xdf\\xb3\\xdfs\\xac\\xeb\\xada\\x81\\x8d\\xda\\xa9\\xb4\\x11]\\xa5\\xaf\\xcc\\xaa{\\xd7V\\xb2H_\\xd7\\xe6\\x85\"B\\xce\\xa2h\\xdb,+]@Q)kaf\\\\\\xb6\\x10,g\\xc61\\x08I,|E\\xe0b\\xcbz\\xa7\\x04\\xc1\\x8a\\x12\\x07\\xd7$@M\\xbdD\\xfeX\\r\\xd8\\xb8\\x1f9y#\\xc15\\xf2\\xcb\"\\x07Un\\x92\\xd0\\xc5\\x87\\xa72\\xda\\xa6\\x12\\x98\\xc2S\\xd6\\xe7\\xc7\\xe3=k7\\xa13\\rCaJ\\x84Od\\xec\\xcb\\x8c\\xd20\\x05\\xe6\\x91u\\x88\\x8e\\xd2\\x8e\\x0e\\x82\\xb2\\x9d\\xd1%\\xd4JS<\\x17\\xd6\\xb4\\xf6\\x02xm\\xcf\\x15\\x04\\xf3`\\xc3;\\x05\\xc2\\xfd)\\x1b\\xcf;+X\\xa7\\x9a\\x92\\xecB39\\\\`\\xa4\\x84\\xad8\\x87\\xf1\\x15\\xa4\\xbe\\x0f\\xf9k;\\x8euss\\x89\\x97\\xd5\\x17\\x16\\x94\\x0f\\xadV\\x86!\\xf6#\\xf5\\xcf\\x12\\xdd3\\x01r\\xcfhtn\\xd4\\x87\\xeb\\xbf\\xd0y\\xf0\\xf8{\\xca\\xb9\\xbe\\xc3\\xdd\\xf6\\xf5\\xcd\\xf6\\x1e\\xd4>@\\x97]d\\xdb\\xfb\\x8b\\xf0\\xd1\\xfd\\x0f\\xf1\\xd2[x\\x84\\xe7<Ue\\x19w\\xfe\\xf3\\x06\\xa4\\x1b \\xed\\x15dp\\x14\\xfe\\xaai$u\\xa7LRQ|\\xe3~\\xfd\\xa9&\\xa7\\xe3r\\xe7\\xf5\\rPK\\x03\\x04\\n\\x00\\x00\\x00\\x00\\x00\\x19\\r\\xc2H\\x00\\x00\\x00\\x00\\x00\\x00\\x00\\x00\\x00\\x00\\x00\\x00\\r\\x00\\x00\\x00reachability/PK\\x03\\x04\\x14\\x00\\x00\\x00\\x08\\x00\\x19\\r\\xc2H\\xd5\\x02\\x02\\xf3\\xf3\\x00\\x00\\x00\\xe6\\x01\\x00\\x00\\x1d\\x00\\x00\\x00reachability/reachability.cppm\\x90\\xc1N\\xc30\\x10D\\xef\\xfe\\x8a\\x91*!G-\\x14\\xaeM\\xf0\\x8f T\\x05\\xc7\\xd0\\xa5\\xc4\\xae\\x1c\\x1b\\x12P\\xfe\\x9du\\x1cJ@\\xbd\\xecj\\x9fggV^\\x91\\xd5o\\xb11\\xa8\\xc8u\\xc1\\x9b\\xbaUbuf\\xefF\\x07\\xe7\\x95\\x10\\xb1#\\xfb\\x82.4\\xbb]f\\xe5\\x12\\x9djb \\x04\\xd9\\x00\\xb6\\xd0\\x07\\x99E\\xf3~\\xc5\\\\A\\xe1\\xaan^7H\\xa2>\\xb7\\xa1\\xc0\\x97\\x00\\xb6\\xdb\\x0fO\\xc1`p\\xd1C;\\x0e>\\x18o\\xf8\\xc1\\x9b\\x10\\xbd\\xc5m)\\xc6l\\xde\\xd6de^\\xea\\xe8\\xd3\\xec\\x03\\xec\\x06m\\x99\\xc6t\\x87&\\x0b\\xa50\\x95\\x89^<\\x83\\xaf\\x90\\xbc\\xb6\\x80\\xb2(\\x92\\xfa\\xd9y\\xc8\\xd9\\x97p\\xcf\\xb9\\xdc*v\\x02\\xad\\xd79\\x15?\\xe7\\x0f\\xe54-c\\xfbTf\\xce\\x19\\x0f=\\xaeq\\xf7xs\\x8a\\xdda\\xffT\\xeb\\xa3\\x1c\\x12(~\\x05\\xc3\\x7fA\\x7f\\x16\\x8c\\xe2o\\xd2\\xe5\\x9cL]\\x0c\\xa8\\xaa\\xf9\\xe3\\xa7/\\x9e|xs\\xb6\\x1b\\xc57PK\\x03\\x04\\x14\\x00\\x00\\x00\\x08\\x00\\x19\\r\\xc2H\\xd7\\x14\\x80\\xceM\\x01\\x00\\x00y\\x03\\x00\\x00\\x1e\\x00\\x00\\x00reachability/Reachability.java\\x85R\\xb1n\\xc2@\\x0c\\xdd\\xf3\\x15\\x1e\\x13\\xd1\\x06:\\x87V\\xeaX\\xa9S\\x19Q\\x86#\\xb9\\x82Q\\xe2 \\xc7\\x81\\x9c*\\xfe\\xbdw\\xe4\\x08\\x84\\xa6\\xe0\\xc5\\'\\xfb\\xf9\\xf9\\xd9g,w\\x15\\x0bl\\xd5^\\xc5\\x8d`\\x11\\xbf3+\\xf3\\x89\\xb5$\\x01\\xde\\xe6\\x16\\x99\"\\xd2\\x9c\\x04\\xc1\\xaeY\\x15\\x98AV\\xa8\\xba\\x86/\\xad\\xb2\\x8dZa\\x81b\\xe0\\'\\x00k;\\xc6\\xbd\\x12\\r\\xb5(\\xb18$\\x01v\\xa8\\xb0\\xa7\\x9f\\x7f\\x90\\xe8\\xb5\\xe6\\xb7e\\n*\\xdf>\\x9d0m\\xe7L\\xe4i\\x9cM\\xa7\\x07FKe\\xaa\\x86!\\xabr\\r\\x1b\\xcd\\xbaO\\xb3\\x96\\x86\\tf\\xc9)r\\x0c\\x82\\xae\\x7f\\xa7\\xcf\\xb7\\xdfW\\x98C\\xa9\\x90\\xc2\\x850\\xd2\\xda\\xb5\\xe4u}\\xdd\\xc5\\x8f\\x06\\xb5\\xf7\\xaf@\\xfap\\x8e\\x86\\x0bS\\x8b.c\\xa4(\\xe9+\\x9cP\\xb28_\\x11\\x93n\\xc5\\xce\\x14\\xde@\\xca\\xfb\\x90\\xff\\xf6a\\xabFw\\x159Y}bI\\xe9\\x85\\xea\\xbbb\\x08]K\\xb4\\xc5\\xb3\\xc4\\xba9\\x90u\\x93\\xc9\\xf5\\xa0\\xce,\\xff\\x12S?\\xe3\\xdf.\\xd7\\xfa\\x8ew\\xe9\\xcbQz\\xff\\x93&\\x19D\\xdb\\xfb\\x8bpf\\x1eC\\x9c\\xf4\\x16\\x9e\\xe1%\\x8dU\\x9e\\x87\\xc6=G \\xe6\\x02io \\xc7\\xc1\\xf7\\x8c\\xaar\\x15\\xc3_\\x1cU6\\x84\\xf9\\x1b\\xa9\\x1a\\x89\\xed\\xf5\\x93\\x14\\x14v\\'\\x7f\\xban\\xb7\\x8f(:\\x1f\\xa9=\\xd3_PK\\x03\\x04\\x14\\x00\\x00\\x00\\x08\\x00\\x19\\r\\xc2H[\\xb0\\xb7\\x97\\x0c\\x01\\x00\\x00\\xe7\\x01\\x00\\x00\\x1c\\x00\\x00\\x00reachability/reachability.py]QKn\\xc3 \\x10\\xdds\\x8a\\x91\\xb2\\x08T\\xd4J\\xdc\\x9d%\\x1f#+\\xcbB8\\x8cc\\xaa\\x80\\x11`5\\xee\\xe9\\x0b\\xc6j\\x93\\xb2\\x01\\xdeo\\x86\\xe1p\\t\\x18\\xc0\\xadq\\x9a\\xed\\x07!\\xda\\xb8\\xd9G\\x08k D\\xe1\\x08\\x1e\\xe5u\\xa2R}rxpXYC \\xad\\xc3\\x97\\xd7\\x11a\\x9d\\x17\\x0f\\xd7Y!L\\xe8qc<\\xc6\\xc5[8\\xa5\\xa4\\x11\\x84\\xb0\\xd2\\xa0\\x10\\xd0\\xb6p\\x14\\xc2Hm\\x858\\x96\\x08m\\xdd\\x12\\xa1\\xcd\\x95\\xaa\\x10\\x95\\xb6U*\\xa5(\\xdbH%\\xa3L\\xdc]\\x87H\\x8dtT\\xdb\\xc8\\x8b\\xa3\\n\\xee\\xae#e\\xac\\x08-\\x07\\x93\\x84Y\\xdf\\x9d\\x9a\\xba\\x7fvo`\\xdd\\x14\\x0c\\xd5-=s\\x8f\\xfc\\xd6\\x8e\\xee\\x16Z\\xc3\\x1b\\x18\\x96\\xac\\xbc\\x18\\xceO\\xd0^$?\\xfc7/s{f\\x9aJ\\x82\\xbb\\xae\\x87q\\xf6 R\\x83\\xe0\\xa5\\xbd!\\xb5\\xac\\x7f6>\\xe0\\x1d\\xce\\xf9\\x98\\xb6\\r\\xcfr*9\\x0c,{\\xb6\\xd6\\xcaP\\xf6\\xd4Nfi_I\\xe7\\xd0*:\\xe4\\x1b{\\x11\\x0c/\\x02\\xf9\\'p>\\xcd\\x8a\\xfe\\xff5F~\\x00PK\\x01\\x02\\x1e\\x03\\n\\x00\\x00\\x00\\x00\\x00\\x19\\r\\xc2H\\x00\\x00\\x00\\x00\\x00\\x00\\x00\\x00\\x00\\x00\\x00\\x00\\x15\\x00\\x00\\x00\\x00\\x00\\x00\\x00\\x00\\x00\\x10\\x00\\xedA\\x00\\x00\\x00\\x00connected_components/PK\\x01\\x02\\x1e\\x03\\x14\\x00\\x00\\x00\\x08\\x00\\x19\\r\\xc2H\\x88Z\\xaa\\x1e\\xf9\\x00\\x00\\x00\\xd6\\x01\\x00\\x00-\\x00\\x00\\x00\\x00\\x00\\x00\\x00\\x01\\x00\\x00\\x00\\xa4\\x813\\x00\\x00\\x00connected_components/connected_components.cppPK\\x01\\x02\\x1e\\x03\\x14\\x00\\x00\\x00\\x08\\x00\\x19\\r\\xc2HR\\xf9\\r`\\t\\x01\\x00\\x00\\xde\\x01\\x00\\x00,\\x00\\x00\\x00\\x00\\x00\\x00\\x00\\x01\\x00\\x00\\x00\\xa4\\x81w\\x01\\x00\\x00connected_components/connected_components.pyPK\\x01\\x02\\x1e\\x03\\x14\\x00\\x00\\x00\\x08\\x00\\x19\\r\\xc2HO~g)M\\x01\\x00\\x00T\\x03\\x00\\x00-\\x00\\x00\\x00\\x00\\x00\\x00\\x00\\x01\\x00\\x00\\x00\\xa4\\x81\\xca\\x02\\x00\\x00connected_components/ConnectedComponents.javaPK\\x01\\x02\\x1e\\x03\\n\\x00\\x00\\x00\\x00\\x00\\x19\\r\\xc2H\\x00\\x00\\x00\\x00\\x00\\x00\\x00\\x00\\x00\\x00\\x00\\x00\\r\\x00\\x00\\x00\\x00\\x00\\x00\\x00\\x00\\x00\\x10\\x00\\xedAb\\x04\\x00\\x00reachability/PK\\x01\\x02\\x1e\\x03\\x14\\x00\\x00\\x00\\x08\\x00\\x19\\r\\xc2H\\xd5\\x02\\x02\\xf3\\xf3\\x00\\x00\\x00\\xe6\\x01\\x00\\x00\\x1d\\x00\\x00\\x00\\x00\\x00\\x00\\x00\\x01\\x00\\x00\\x00\\xa4\\x81\\x8d\\x04\\x00\\x00reachability/reachability.cppPK\\x01\\x02\\x1e\\x03\\x14\\x00\\x00\\x00\\x08\\x00\\x19\\r\\xc2H\\xd7\\x14\\x80\\xceM\\x01\\x00\\x00y\\x03\\x00\\x00\\x1e\\x00\\x00\\x00\\x00\\x00\\x00\\x00\\x01\\x00\\x00\\x00\\xa4\\x81\\xbb\\x05\\x00\\x00reachability/Reachability.javaPK\\x01\\x02\\x1e\\x03\\x14\\x00\\x00\\x00\\x08\\x00\\x19\\r\\xc2H[\\xb0\\xb7\\x97\\x0c\\x01\\x00\\x00\\xe7\\x01\\x00\\x00\\x1c\\x00\\x00\\x00\\x00\\x00\\x00\\x00\\x01\\x00\\x00\\x00\\xa4\\x81D\\x07\\x00\\x00reachability/reachability.pyPK\\x05\\x06\\x00\\x00\\x00\\x00\\x08\\x00\\x08\\x00o\\x02\\x00\\x00\\x8a\\x08\\x00\\x00\\x00\\x00'}}"
      ]
     },
     "execution_count": 4,
     "metadata": {},
     "output_type": "execute_result"
    }
   ],
   "source": [
    "w.value"
   ]
  },
  {
   "cell_type": "code",
   "execution_count": 12,
   "metadata": {},
   "outputs": [],
   "source": [
    "for k,v in w.value.items():\n",
    "    with open(k, 'wb') as f:\n",
    "        f.write(v['content'])"
   ]
  },
  {
   "cell_type": "code",
   "execution_count": 9,
   "metadata": {},
   "outputs": [
    {
     "data": {
      "text/plain": [
       "dict_keys(['_a70f607ba8a22ccbd0ba2caba5dad344_09_graph_decomposition_starter_files_1.zip'])"
      ]
     },
     "execution_count": 9,
     "metadata": {},
     "output_type": "execute_result"
    }
   ],
   "source": []
  },
  {
   "cell_type": "code",
   "execution_count": 15,
   "metadata": {},
   "outputs": [
    {
     "data": {
      "text/plain": [
       "b'PK\\x03\\x04\\n\\x00\\x00\\x00\\x00\\x00\\x19\\r\\xc2H\\x00\\x00\\x00\\x00\\x00\\x00\\x00\\x00\\x00\\x00\\x00\\x00\\x15\\x00\\x00\\x00connected_components/PK\\x03\\x04\\x14\\x00\\x00\\x00\\x08\\x00\\x19\\r\\xc2H\\x88Z\\xaa\\x1e\\xf9\\x00\\x00\\x00\\xd6\\x01\\x00\\x00-\\x00\\x00\\x00connected_components/connected_components.cppm\\x90\\xddN\\xc30\\x0c\\x85\\xef\\xf3\\x14\\x96&\\xa1T\\x1b\\x0cn\\xd7\\x92\\x17A\\xa8\\xeaR\\x8f\\x99\\xd1\\xa4\\xca\\x0f\\xb4\\xa0\\xbd;NS\\x95\\n\\xed\\xc6Q\\xbe\\x1c\\x1f\\x9fxCF\\x7f\\xc4\\x16\\xa1\"\\xeb\\x83\\xc3\\xa6Sb\\xb3\\xb0O\\xd4\\xc1:%D\\xf4d\\xde\\xc0\\x87\\xf6p\\xc8\\xac\\\\\\xa3\\xbe!\\x06\\x82L\\x00\\x13\\xbb#\\xba\\xda\\x9ejm\\xbb\\xde\\x1a4\\xc1\\xcb\\xdc2\\xbbU,S\\xa0\\xe0\\xaei\\xdf\\x0b\\xf8\\x11\\x00\\xa9\\xcf\\xa1\\x87gx,\\xf9\\xba\\xdf\\x7f9\\n\\x08\\xa3\\x8d\\x0e\\xb4\\xe5\\x1cgt\\xc8\\x0f\\x0eCt&IKq\\xcd\\xe3\\xba\\x86\\x8c\\xcc.\\x9e\\xbe\\xb1\\xe6\\x00;\\xe8\\x92\\xcb\\x14L\\x93\\x01\\xa5`*\\x13\\xbd\\x99\\x84\\x83Hn[AY\\x14I}\\xb2\\x0e\\xe4\\xecKS<>*v\\x02\\xdan\\xf3\\xd4\\x9c~\\xd8\\xc1XN\\xb7\\xf5\\xd8!\\x95\\x99\\xf3\\x8c\\x97\\x01\\xee\\xe1\\xe9\\xf5\\xa1\\x8f\\xfe\\\\\\x1f\\x1b}\\x91c\\x02\\xc5\\x9f`\\xfc/\\x18\\x16\\xc1u\\xf9\\x92\\x8d\\x01\\xaa\\xea\\xf6\\xa2\\xd3J\\xd3n~\\x01PK\\x03\\x04\\x14\\x00\\x00\\x00\\x08\\x00\\x19\\r\\xc2HR\\xf9\\r`\\t\\x01\\x00\\x00\\xde\\x01\\x00\\x00,\\x00\\x00\\x00connected_components/connected_components.pyuQKn\\xc3 \\x10\\xdds\\x8a\\x91\\xb2\\x08T\\xae\\x95\\xb8;K>FW\\x96\\x85p\\x18\\'Tf@\\x80U\\xb9\\xa7/6\\x96\\x9a,\\xcan\\xdeo>\\x9c>#F\\xf0kz8\\xfa`\\xccX\\xefB\\x82\\xb8F\\xc6\\x98\\xc6\\th\\xb1#\\x06\\xe9&ys\\x99#\\xa4\\x14\\xb9\\xd2_\\xa2e\\x90_\\xc0\\xb8\\xcc\\t:\\xb8\\xec\\xe5\\xe9;\\x98\\x84\\xb0\\xba%\\xc0\\xcdi\\x84\\x07\\x06<\\x84i\\tt\\xe8s\\x9f\\t\\xa4$eQJ\\xe8:8Ki\\x95!)\\xcf%\\xd6\\x90_\\xb6\\xd4<G\\x1d\\x936T\\x07T\\x9a\\x8b\\x9d\\xd4*\\xa9\\xcc\\xcd&&n\\x95\\xe7\\x86RU\\x1cu\\xf4\\xb3I\\\\\\x88\"\\xa4\\nl\\x16n\\xfa\\xfe\\xd26\\xc3\\xb3{\\x07\\x9b\\xb6`\\xa8\\xef\\xf9\\x08G\\xe4\\x8f\\xf1\\xfc\\xb0\\xf0\\x06\\xde\\xc0\\x8al\\xad\\x8a\\xe1\\xfa\\x04\\x1dM\\xf2-\\xb2\\xb3\\xef\\x07\\x98\\\\\\x00\\x99\\x07\\x81\\xa0\\xe8\\x8e\\x9cD\\t\\xdf`\\xae*\\x18\\xc5\\xc6\\xed\\xad\\xca\\x92\\x87\\xbbW\\xf0\\x0e\\xd7\\xa1V\\xde#i>n\\x95x\\x11\\x8c/\\x02\\xf5\\'\\xf0!\\xef\\xce\\xff\\xfd\"\\xc1~\\x01PK\\x03\\x04\\x14\\x00\\x00\\x00\\x08\\x00\\x19\\r\\xc2HO~g)M\\x01\\x00\\x00T\\x03\\x00\\x00-\\x00\\x00\\x00connected_components/ConnectedComponents.java\\x85R\\xb1n\\xc2@\\x0c\\xdd\\xf3\\x15\\x1e\\x13\\xd1\\x86v\\x0eT\\xaa\\x98*U\\xea\\xc0\\x882\\x1c\\x89\\xa1\\x87\\x12\\x1f\\xf29\\x90\\xa8\\xe2\\xdf{W\\x8e\\x04(\\xa5^.\\xb2\\xdf\\xb3\\xdfs\\xac\\xeb\\xada\\x81\\x8d\\xda\\xa9\\xb4\\x11]\\xa5\\xaf\\xcc\\xaa{\\xd7V\\xb2H_\\xd7\\xe6\\x85\"B\\xce\\xa2h\\xdb,+]@Q)kaf\\\\\\xb6\\x10,g\\xc61\\x08I,|E\\xe0b\\xcbz\\xa7\\x04\\xc1\\x8a\\x12\\x07\\xd7$@M\\xbdD\\xfeX\\r\\xd8\\xb8\\x1f9y#\\xc15\\xf2\\xcb\"\\x07Un\\x92\\xd0\\xc5\\x87\\xa72\\xda\\xa6\\x12\\x98\\xc2S\\xd6\\xe7\\xc7\\xe3=k7\\xa13\\rCaJ\\x84Od\\xec\\xcb\\x8c\\xd20\\x05\\xe6\\x91u\\x88\\x8e\\xd2\\x8e\\x0e\\x82\\xb2\\x9d\\xd1%\\xd4JS<\\x17\\xd6\\xb4\\xf6\\x02xm\\xcf\\x15\\x04\\xf3`\\xc3;\\x05\\xc2\\xfd)\\x1b\\xcf;+X\\xa7\\x9a\\x92\\xecB39\\\\`\\xa4\\x84\\xad8\\x87\\xf1\\x15\\xa4\\xbe\\x0f\\xf9k;\\x8euss\\x89\\x97\\xd5\\x17\\x16\\x94\\x0f\\xadV\\x86!\\xf6#\\xf5\\xcf\\x12\\xdd3\\x01r\\xcfhtn\\xd4\\x87\\xeb\\xbf\\xd0y\\xf0\\xf8{\\xca\\xb9\\xbe\\xc3\\xdd\\xf6\\xf5\\xcd\\xf6\\x1e\\xd4>@\\x97]d\\xdb\\xfb\\x8b\\xf0\\xd1\\xfd\\x0f\\xf1\\xd2[x\\x84\\xe7<Ue\\x19w\\xfe\\xf3\\x06\\xa4\\x1b \\xed\\x15dp\\x14\\xfe\\xaai$u\\xa7LRQ|\\xe3~\\xfd\\xa9&\\xa7\\xe3r\\xe7\\xf5\\rPK\\x03\\x04\\n\\x00\\x00\\x00\\x00\\x00\\x19\\r\\xc2H\\x00\\x00\\x00\\x00\\x00\\x00\\x00\\x00\\x00\\x00\\x00\\x00\\r\\x00\\x00\\x00reachability/PK\\x03\\x04\\x14\\x00\\x00\\x00\\x08\\x00\\x19\\r\\xc2H\\xd5\\x02\\x02\\xf3\\xf3\\x00\\x00\\x00\\xe6\\x01\\x00\\x00\\x1d\\x00\\x00\\x00reachability/reachability.cppm\\x90\\xc1N\\xc30\\x10D\\xef\\xfe\\x8a\\x91*!G-\\x14\\xaeM\\xf0\\x8f T\\x05\\xc7\\xd0\\xa5\\xc4\\xae\\x1c\\x1b\\x12P\\xfe\\x9du\\x1cJ@\\xbd\\xecj\\x9fggV^\\x91\\xd5o\\xb11\\xa8\\xc8u\\xc1\\x9b\\xbaUbuf\\xefF\\x07\\xe7\\x95\\x10\\xb1#\\xfb\\x82.4\\xbb]f\\xe5\\x12\\x9djb \\x04\\xd9\\x00\\xb6\\xd0\\x07\\x99E\\xf3~\\xc5\\\\A\\xe1\\xaan^7H\\xa2>\\xb7\\xa1\\xc0\\x97\\x00\\xb6\\xdb\\x0fO\\xc1`p\\xd1C;\\x0e>\\x18o\\xf8\\xc1\\x9b\\x10\\xbd\\xc5m)\\xc6l\\xde\\xd6de^\\xea\\xe8\\xd3\\xec\\x03\\xec\\x06m\\x99\\xc6t\\x87&\\x0b\\xa50\\x95\\x89^<\\x83\\xaf\\x90\\xbc\\xb6\\x80\\xb2(\\x92\\xfa\\xd9y\\xc8\\xd9\\x97p\\xcf\\xb9\\xdc*v\\x02\\xad\\xd79\\x15?\\xe7\\x0f\\xe54-c\\xfbTf\\xce\\x19\\x0f=\\xaeq\\xf7xs\\x8a\\xdda\\xffT\\xeb\\xa3\\x1c\\x12(~\\x05\\xc3\\x7fA\\x7f\\x16\\x8c\\xe2o\\xd2\\xe5\\x9cL]\\x0c\\xa8\\xaa\\xf9\\xe3\\xa7/\\x9e|xs\\xb6\\x1b\\xc57PK\\x03\\x04\\x14\\x00\\x00\\x00\\x08\\x00\\x19\\r\\xc2H\\xd7\\x14\\x80\\xceM\\x01\\x00\\x00y\\x03\\x00\\x00\\x1e\\x00\\x00\\x00reachability/Reachability.java\\x85R\\xb1n\\xc2@\\x0c\\xdd\\xf3\\x15\\x1e\\x13\\xd1\\x06:\\x87V\\xeaX\\xa9S\\x19Q\\x86#\\xb9\\x82Q\\xe2 \\xc7\\x81\\x9c*\\xfe\\xbdw\\xe4\\x08\\x84\\xa6\\xe0\\xc5\\'\\xfb\\xf9\\xf9\\xd9g,w\\x15\\x0bl\\xd5^\\xc5\\x8d`\\x11\\xbf3+\\xf3\\x89\\xb5$\\x01\\xde\\xe6\\x16\\x99\"\\xd2\\x9c\\x04\\xc1\\xaeY\\x15\\x98AV\\xa8\\xba\\x86/\\xad\\xb2\\x8dZa\\x81b\\xe0\\'\\x00k;\\xc6\\xbd\\x12\\r\\xb5(\\xb18$\\x01v\\xa8\\xb0\\xa7\\x9f\\x7f\\x90\\xe8\\xb5\\xe6\\xb7e\\n*\\xdf>\\x9d0m\\xe7L\\xe4i\\x9cM\\xa7\\x07FKe\\xaa\\x86!\\xabr\\r\\x1b\\xcd\\xbaO\\xb3\\x96\\x86\\tf\\xc9)r\\x0c\\x82\\xae\\x7f\\xa7\\xcf\\xb7\\xdfW\\x98C\\xa9\\x90\\xc2\\x850\\xd2\\xda\\xb5\\xe4u}\\xdd\\xc5\\x8f\\x06\\xb5\\xf7\\xaf@\\xfap\\x8e\\x86\\x0bS\\x8b.c\\xa4(\\xe9+\\x9cP\\xb28_\\x11\\x93n\\xc5\\xce\\x14\\xde@\\xca\\xfb\\x90\\xff\\xf6a\\xabFw\\x159Y}bI\\xe9\\x85\\xea\\xbbb\\x08]K\\xb4\\xc5\\xb3\\xc4\\xba9\\x90u\\x93\\xc9\\xf5\\xa0\\xce,\\xff\\x12S?\\xe3\\xdf.\\xd7\\xfa\\x8ew\\xe9\\xcbQz\\xff\\x93&\\x19D\\xdb\\xfb\\x8bpf\\x1eC\\x9c\\xf4\\x16\\x9e\\xe1%\\x8dU\\x9e\\x87\\xc6=G \\xe6\\x02io \\xc7\\xc1\\xf7\\x8c\\xaar\\x15\\xc3_\\x1cU6\\x84\\xf9\\x1b\\xa9\\x1a\\x89\\xed\\xf5\\x93\\x14\\x14v\\'\\x7f\\xban\\xb7\\x8f(:\\x1f\\xa9=\\xd3_PK\\x03\\x04\\x14\\x00\\x00\\x00\\x08\\x00\\x19\\r\\xc2H[\\xb0\\xb7\\x97\\x0c\\x01\\x00\\x00\\xe7\\x01\\x00\\x00\\x1c\\x00\\x00\\x00reachability/reachability.py]QKn\\xc3 \\x10\\xdds\\x8a\\x91\\xb2\\x08T\\xd4J\\xdc\\x9d%\\x1f#+\\xcbB8\\x8cc\\xaa\\x80\\x11`5\\xee\\xe9\\x0b\\xc6j\\x93\\xb2\\x01\\xdeo\\x86\\xe1p\\t\\x18\\xc0\\xadq\\x9a\\xed\\x07!\\xda\\xb8\\xd9G\\x08k D\\xe1\\x08\\x1e\\xe5u\\xa2R}rxpXYC \\xad\\xc3\\x97\\xd7\\x11a\\x9d\\x17\\x0f\\xd7Y!L\\xe8qc<\\xc6\\xc5[8\\xa5\\xa4\\x11\\x84\\xb0\\xd2\\xa0\\x10\\xd0\\xb6p\\x14\\xc2Hm\\x858\\x96\\x08m\\xdd\\x12\\xa1\\xcd\\x95\\xaa\\x10\\x95\\xb6U*\\xa5(\\xdbH%\\xa3L\\xdc]\\x87H\\x8dtT\\xdb\\xc8\\x8b\\xa3\\n\\xee\\xae#e\\xac\\x08-\\x07\\x93\\x84Y\\xdf\\x9d\\x9a\\xba\\x7fvo`\\xdd\\x14\\x0c\\xd5-=s\\x8f\\xfc\\xd6\\x8e\\xee\\x16Z\\xc3\\x1b\\x18\\x96\\xac\\xbc\\x18\\xceO\\xd0^$?\\xfc7/s{f\\x9aJ\\x82\\xbb\\xae\\x87q\\xf6 R\\x83\\xe0\\xa5\\xbd!\\xb5\\xac\\x7f6>\\xe0\\x1d\\xce\\xf9\\x98\\xb6\\r\\xcfr*9\\x0c,{\\xb6\\xd6\\xcaP\\xf6\\xd4Nfi_I\\xe7\\xd0*:\\xe4\\x1b{\\x11\\x0c/\\x02\\xf9\\'p>\\xcd\\x8a\\xfe\\xff5F~\\x00PK\\x01\\x02\\x1e\\x03\\n\\x00\\x00\\x00\\x00\\x00\\x19\\r\\xc2H\\x00\\x00\\x00\\x00\\x00\\x00\\x00\\x00\\x00\\x00\\x00\\x00\\x15\\x00\\x00\\x00\\x00\\x00\\x00\\x00\\x00\\x00\\x10\\x00\\xedA\\x00\\x00\\x00\\x00connected_components/PK\\x01\\x02\\x1e\\x03\\x14\\x00\\x00\\x00\\x08\\x00\\x19\\r\\xc2H\\x88Z\\xaa\\x1e\\xf9\\x00\\x00\\x00\\xd6\\x01\\x00\\x00-\\x00\\x00\\x00\\x00\\x00\\x00\\x00\\x01\\x00\\x00\\x00\\xa4\\x813\\x00\\x00\\x00connected_components/connected_components.cppPK\\x01\\x02\\x1e\\x03\\x14\\x00\\x00\\x00\\x08\\x00\\x19\\r\\xc2HR\\xf9\\r`\\t\\x01\\x00\\x00\\xde\\x01\\x00\\x00,\\x00\\x00\\x00\\x00\\x00\\x00\\x00\\x01\\x00\\x00\\x00\\xa4\\x81w\\x01\\x00\\x00connected_components/connected_components.pyPK\\x01\\x02\\x1e\\x03\\x14\\x00\\x00\\x00\\x08\\x00\\x19\\r\\xc2HO~g)M\\x01\\x00\\x00T\\x03\\x00\\x00-\\x00\\x00\\x00\\x00\\x00\\x00\\x00\\x01\\x00\\x00\\x00\\xa4\\x81\\xca\\x02\\x00\\x00connected_components/ConnectedComponents.javaPK\\x01\\x02\\x1e\\x03\\n\\x00\\x00\\x00\\x00\\x00\\x19\\r\\xc2H\\x00\\x00\\x00\\x00\\x00\\x00\\x00\\x00\\x00\\x00\\x00\\x00\\r\\x00\\x00\\x00\\x00\\x00\\x00\\x00\\x00\\x00\\x10\\x00\\xedAb\\x04\\x00\\x00reachability/PK\\x01\\x02\\x1e\\x03\\x14\\x00\\x00\\x00\\x08\\x00\\x19\\r\\xc2H\\xd5\\x02\\x02\\xf3\\xf3\\x00\\x00\\x00\\xe6\\x01\\x00\\x00\\x1d\\x00\\x00\\x00\\x00\\x00\\x00\\x00\\x01\\x00\\x00\\x00\\xa4\\x81\\x8d\\x04\\x00\\x00reachability/reachability.cppPK\\x01\\x02\\x1e\\x03\\x14\\x00\\x00\\x00\\x08\\x00\\x19\\r\\xc2H\\xd7\\x14\\x80\\xceM\\x01\\x00\\x00y\\x03\\x00\\x00\\x1e\\x00\\x00\\x00\\x00\\x00\\x00\\x00\\x01\\x00\\x00\\x00\\xa4\\x81\\xbb\\x05\\x00\\x00reachability/Reachability.javaPK\\x01\\x02\\x1e\\x03\\x14\\x00\\x00\\x00\\x08\\x00\\x19\\r\\xc2H[\\xb0\\xb7\\x97\\x0c\\x01\\x00\\x00\\xe7\\x01\\x00\\x00\\x1c\\x00\\x00\\x00\\x00\\x00\\x00\\x00\\x01\\x00\\x00\\x00\\xa4\\x81D\\x07\\x00\\x00reachability/reachability.pyPK\\x05\\x06\\x00\\x00\\x00\\x00\\x08\\x00\\x08\\x00o\\x02\\x00\\x00\\x8a\\x08\\x00\\x00\\x00\\x00'"
      ]
     },
     "execution_count": 15,
     "metadata": {},
     "output_type": "execute_result"
    }
   ],
   "source": [
    "subprocess.run([\"cat\", \"_a70f607ba8a22ccbd0ba2caba5dad344_09_graph_decomposition_starter_files_1.zip\"], capture_output=True).stdout"
   ]
  },
  {
   "cell_type": "code",
   "execution_count": null,
   "metadata": {},
   "outputs": [],
   "source": [
    "out1 = subprocess.run([\"bap\", \"--help\", \"wp\"]).stdout\n",
    "re.match(  r'--{opt} ')"
   ]
  },
  {
   "cell_type": "code",
   "execution_count": 23,
   "metadata": {},
   "outputs": [
    {
     "data": {
      "image/png": "[encoded data removed]",
      "text/plain": [
       "<Figure size 432x288 with 1 Axes>"
      ]
     },
     "metadata": {
      "needs_background": "light"
     },
     "output_type": "display_data"
    }
   ],
   "source": [
    "import numpy as np\n",
    "import matplotlib.pyplot as plt\n",
    "xs = np.linspace(0.001,1,100)\n",
    "plt.plot(xs, xs**(xs**xs))\n",
    "plt.show()\n",
    "\n"
   ]
  },
  {
   "cell_type": "code",
   "execution_count": 32,
   "metadata": {},
   "outputs": [
    {
     "data": {
      "text/plain": [
       "1.1497489730594137"
      ]
     },
     "execution_count": 32,
     "metadata": {},
     "output_type": "execute_result"
    }
   ],
   "source": [
    "1.1 ** (1.1 ** 4)"
   ]
  },
  {
   "cell_type": "code",
   "execution_count": null,
   "metadata": {},
   "outputs": [],
   "source": []
  }
 ],
 "metadata": {
  "kernelspec": {
   "display_name": "Python 3",
   "language": "python",
   "name": "python3"
  },
  "language_info": {
   "codemirror_mode": {
    "name": "ipython",
    "version": 3
   },
   "file_extension": ".py",
   "mimetype": "text/x-python",
   "name": "python",
   "nbconvert_exporter": "python",
   "pygments_lexer": "ipython3",
   "version": "3.7.5"
  }
 },
 "nbformat": 4,
 "nbformat_minor": 2
}
