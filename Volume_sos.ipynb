{
 "cells": [
  {
   "cell_type": "markdown",
   "metadata": {},
   "source": [
    "There is an interesting poaper by Laserre, Henrion, and _. \n",
    "\n",
    "I haven't really internalized much of the moment persepctive on things. The necessary conditions for a set of numbers to be a concistent sets of moments of a distirbution is nonintuitive to me.\n",
    "\n",
    "\n",
    "However, there is a perspective in that paper which does make sense to me.\n",
    "\n",
    "\n",
    "\n",
    "If we can approximate the indicator function (the function that is 1 on the region of interest and 0 elsewhere), then we're good.\n",
    "\n",
    "However, there is some chicken and egg problem here. The whole reason we're doing all this is because the region is hard to handle in some way. Many function approximation methods require integration of functions in order to set up the problem.\n",
    "\n",
    "We have an implicit representation of the region. A system of inequalities. If linear, it's a polyhedra. If polynomial its a semi agebraic set.\n",
    "\n",
    "\n",
    "We get by this problem because the indicator function is kind of a sharp logical boy. We can encode it as constraints.\n",
    "\n",
    "An overapproximatyion of the indciator function is 1. always >= 0, 2. >= 1 on the region and 3. of minimal integral\n",
    "\n",
    "The first condition is a positive polynomial condition. The second can be achieved by  i(x) + lam g >= 1 (module getting the signs right). The third condition can by achived by integrating the individual polynomials on a known reference area. Then this is a linear objective in tyhe cofficients of our indicatro approximation $ i(x) =  \\sum a_j x^j$ . $ \\int dx i(x) = \\sum_j a_j \\int x^j dx = \\sum a_j c_j$\n",
    "\n",
    "\n",
    "\n",
    "Positives sums of raised chebyshev functions are positive by construction on the unit box.\n",
    "\n",
    "\n",
    "On a sphere, rasied spherical harmonics * some kind of positive polynomial on the radius (chebyshev?) are also positive by construction and seem like a natural choice.\n",
    "\n",
    "\n",
    "\n",
    "\n",
    "The bounding ellipsoid problem is one that is boyd and vanderbeghe. I believe that finding the bounding ellipse of a convex set is a convex optimization problem. Also the interior ellipse.\n",
    "That's a good start.\n",
    "Finding the best fitting shape of ones that we do know how to integrate.\n",
    "\n",
    "The best bouinding box for a polyhedra can be found as an LP. For a polynomially described region, this is a polynomial optimization problem.\n",
    "The best bounding parallelogram.  This might be an SDP using the PSD condition to keep the parallelogram from becoming degenerate.\n",
    "\n",
    "\n",
    "\n",
    "\n"
   ]
  },
  {
   "cell_type": "code",
   "execution_count": 2,
   "metadata": {},
   "outputs": [
    {
     "name": "stderr",
     "output_type": "stream",
     "text": [
      "┌ Info: Precompiling DynamicPolynomials [7c1d4256-1411-5781-91ec-d7bc3513ac07]\n",
      "└ @ Base loading.jl:1260\n",
      "┌ Info: Precompiling CSDP [0a46da34-8e4b-519e-b418-48813639ff34]\n",
      "└ @ Base loading.jl:1260\n"
     ]
    }
   ],
   "source": [
    "using SumOfSquares\n",
    "using DynamicPolynomials\n",
    "using CSDP"
   ]
  },
  {
   "cell_type": "code",
   "execution_count": 3,
   "metadata": {},
   "outputs": [
    {
     "data": {
      "text/plain": [
       "(x,)"
      ]
     },
     "execution_count": 3,
     "metadata": {},
     "output_type": "execute_result"
    }
   ],
   "source": []
  },
  {
   "cell_type": "code",
   "execution_count": 4,
   "metadata": {},
   "outputs": [
    {
     "name": "stderr",
     "output_type": "stream",
     "text": [
      "┌ Warning: `with_optimizer` is deprecated. Adapt the following example to update your code:\n",
      "│ `with_optimizer(Ipopt.Optimizer)` becomes `Ipopt.Optimizer`.\n",
      "│   caller = top-level scope at In[4]:1\n",
      "└ @ Core In[4]:1\n"
     ]
    },
    {
     "data": {
      "text/latex": [
       "$$ \\begin{alignat*}{1}\\text{feasibility}\\\\\n",
       "\\text{Subject to} \\quad\\end{alignat*}\n",
       " $$"
      ],
      "text/plain": [
       "A JuMP Model\n",
       "Feasibility problem with:\n",
       "Variables: 0\n",
       "Model mode: AUTOMATIC\n",
       "CachingOptimizer state: EMPTY_OPTIMIZER\n",
       "Solver name: CSDP"
      ]
     },
     "execution_count": 4,
     "metadata": {},
     "output_type": "execute_result"
    }
   ],
   "source": [
    "@polyvar x\n",
    "model = SOSModel(with_optimizer(CSDP.Optimizer))"
   ]
  },
  {
   "cell_type": "code",
   "execution_count": 5,
   "metadata": {},
   "outputs": [
    {
     "data": {
      "text/plain": [
       "3-element MonomialVector{true}:\n",
       " x²\n",
       " x\n",
       " 1"
      ]
     },
     "execution_count": 5,
     "metadata": {},
     "output_type": "execute_result"
    }
   ],
   "source": []
  },
  {
   "cell_type": "code",
   "execution_count": 13,
   "metadata": {},
   "outputs": [
    {
     "data": {
      "text/latex": [
       "$$ -x^{2} + x $$"
      ],
      "text/plain": [
       "-x² + x"
      ]
     },
     "execution_count": 13,
     "metadata": {},
     "output_type": "execute_result"
    }
   ],
   "source": [
    "\n",
    "\n",
    "#@variable(model, l1, SOSPoly(X))\n",
    "\n",
    "\n"
   ]
  },
  {
   "cell_type": "code",
   "execution_count": 14,
   "metadata": {},
   "outputs": [
    {
     "data": {
      "text/plain": [
       "0.25"
      ]
     },
     "execution_count": 14,
     "metadata": {},
     "output_type": "execute_result"
    }
   ],
   "source": [
    "f(x => 0.5 )"
   ]
  },
  {
   "cell_type": "code",
   "execution_count": 31,
   "metadata": {},
   "outputs": [
    {
     "data": {
      "text/plain": [
       "Polynomial{true,Int64}"
      ]
     },
     "execution_count": 31,
     "metadata": {},
     "output_type": "execute_result"
    }
   ],
   "source": [
    "typeof(f)"
   ]
  },
  {
   "cell_type": "code",
   "execution_count": 43,
   "metadata": {},
   "outputs": [
    {
     "data": {
      "text/plain": [
       "0.16666666666666669"
      ]
     },
     "execution_count": 43,
     "metadata": {},
     "output_type": "execute_result"
    }
   ],
   "source": [
    "integrate(f,0,1)"
   ]
  },
  {
   "cell_type": "code",
   "execution_count": 59,
   "metadata": {},
   "outputs": [
    {
     "data": {
      "text/plain": [
       "integrate (generic function with 3 methods)"
      ]
     },
     "execution_count": 59,
     "metadata": {},
     "output_type": "execute_result"
    }
   ],
   "source": []
  },
  {
   "cell_type": "code",
   "execution_count": 32,
   "metadata": {},
   "outputs": [
    {
     "ename": "MethodError",
     "evalue": "MethodError: no method matching subtypes(::Polynomial{true,Int64})\nClosest candidates are:\n  subtypes(!Matched::Module, !Matched::Type) at /buildworker/worker/package_linux64/build/usr/share/julia/stdlib/v1.4/InteractiveUtils/src/InteractiveUtils.jl:223\n  subtypes(!Matched::Type) at /buildworker/worker/package_linux64/build/usr/share/julia/stdlib/v1.4/InteractiveUtils/src/InteractiveUtils.jl:240",
     "output_type": "error",
     "traceback": [
      "MethodError: no method matching subtypes(::Polynomial{true,Int64})\nClosest candidates are:\n  subtypes(!Matched::Module, !Matched::Type) at /buildworker/worker/package_linux64/build/usr/share/julia/stdlib/v1.4/InteractiveUtils/src/InteractiveUtils.jl:223\n  subtypes(!Matched::Type) at /buildworker/worker/package_linux64/build/usr/share/julia/stdlib/v1.4/InteractiveUtils/src/InteractiveUtils.jl:240",
      "",
      "Stacktrace:",
      " [1] top-level scope at In[32]:1"
     ]
    }
   ],
   "source": [
    "subtypes(f)"
   ]
  },
  {
   "cell_type": "code",
   "execution_count": 25,
   "metadata": {},
   "outputs": [
    {
     "data": {
      "text/plain": [
       "2-element Array{Int64,1}:\n",
       " -1\n",
       "  1"
      ]
     },
     "execution_count": 25,
     "metadata": {},
     "output_type": "execute_result"
    }
   ],
   "source": [
    "[e.α for e in f] #e.x"
   ]
  },
  {
   "cell_type": "code",
   "execution_count": 29,
   "metadata": {},
   "outputs": [
    {
     "data": {
      "text/plain": [
       "2-element Array{Array{PolyVar{true},1},1}:\n",
       " [x]\n",
       " [x]"
      ]
     },
     "execution_count": 29,
     "metadata": {},
     "output_type": "execute_result"
    }
   ],
   "source": [
    "[e.x.vars for e in f]"
   ]
  },
  {
   "cell_type": "code",
   "execution_count": 30,
   "metadata": {},
   "outputs": [
    {
     "data": {
      "text/plain": [
       "2-element Array{Array{Int64,1},1}:\n",
       " [2]\n",
       " [1]"
      ]
     },
     "execution_count": 30,
     "metadata": {},
     "output_type": "execute_result"
    }
   ],
   "source": [
    "[e.x.z for e in f]"
   ]
  },
  {
   "cell_type": "code",
   "execution_count": 88,
   "metadata": {},
   "outputs": [
    {
     "data": {
      "text/plain": [
       "integrate (generic function with 3 methods)"
      ]
     },
     "execution_count": 88,
     "metadata": {},
     "output_type": "execute_result"
    }
   ],
   "source": [
    "antidiff(f::Polynomial, x) = sum(map(e -> e.x.vars[1] * e / (e.x.z[1] + 1) , f))\n",
    "integrate(f, x, a, b) = let f1 = antidiff(f, x)\n",
    "                     f1(x => b) - f1(x => a) \n",
    "                     end"
   ]
  },
  {
   "cell_type": "code",
   "execution_count": 111,
   "metadata": {},
   "outputs": [
    {
     "name": "stderr",
     "output_type": "stream",
     "text": [
      "┌ Warning: `with_optimizer` is deprecated. Adapt the following example to update your code:\n",
      "│ `with_optimizer(Ipopt.Optimizer)` becomes `Ipopt.Optimizer`.\n",
      "│   caller = top-level scope at In[111]:5\n",
      "└ @ Core In[111]:5\n"
     ]
    },
    {
     "name": "stdout",
     "output_type": "stream",
     "text": [
      "CSDP 6.2.0\n",
      "Iter:  0 Ap: 0.00e+00 Pobj:  0.0000000e+00 Ad: 0.00e+00 Dobj:  0.0000000e+00 \n",
      "Iter:  1 Ap: 1.00e+00 Pobj: -1.6570339e+01 Ad: 8.32e-01 Dobj: -6.8286802e-01 \n",
      "Iter:  2 Ap: 1.00e+00 Pobj: -1.2869361e+01 Ad: 9.31e-01 Dobj: -3.6859356e-01 \n",
      "Iter:  3 Ap: 1.00e+00 Pobj: -2.8208529e+00 Ad: 9.18e-01 Dobj: -3.6869168e-01 \n",
      "Iter:  4 Ap: 9.38e-01 Pobj: -1.0643247e+00 Ad: 8.61e-01 Dobj: -5.0649511e-01 \n",
      "Iter:  5 Ap: 1.00e+00 Pobj: -8.2747052e-01 Ad: 7.73e-01 Dobj: -6.6554338e-01 \n",
      "Iter:  6 Ap: 7.91e-01 Pobj: -7.6500081e-01 Ad: 8.31e-01 Dobj: -6.9027058e-01 \n",
      "Iter:  7 Ap: 1.00e+00 Pobj: -7.2679618e-01 Ad: 8.19e-01 Dobj: -7.1262765e-01 \n",
      "Iter:  8 Ap: 1.00e+00 Pobj: -7.2257937e-01 Ad: 9.54e-01 Dobj: -7.2139567e-01 \n",
      "Iter:  9 Ap: 1.00e+00 Pobj: -7.2228201e-01 Ad: 1.00e+00 Dobj: -7.2219487e-01 \n",
      "Iter: 10 Ap: 1.00e+00 Pobj: -7.2223454e-01 Ad: 1.00e+00 Dobj: -7.2225838e-01 \n",
      "Iter: 11 Ap: 1.00e+00 Pobj: -7.2222477e-01 Ad: 1.00e+00 Dobj: -7.2227747e-01 \n",
      "Iter: 12 Ap: 1.00e+00 Pobj: -7.2222275e-01 Ad: 1.00e+00 Dobj: -7.2225351e-01 \n",
      "Iter: 13 Ap: 1.00e+00 Pobj: -7.2222228e-01 Ad: 1.00e+00 Dobj: -7.2222517e-01 \n",
      "0.7222222244349417\n",
      "Iter: 14 Ap: 9.59e-01 Pobj: -7.2222222e-01 Ad: 9.56e-01 Dobj: -7.2222244e-01 \n",
      "Success: SDP solved\n",
      "Primal objective value: -7.2222222e-01 \n",
      "Dual objective value: -7.2222244e-01 \n",
      "Relative primal infeasibility: 2.44e-11 \n",
      "Relative dual infeasibility: 2.38e-09 \n",
      "Real Relative Gap: -8.92e-08 \n",
      "XZ Relative Gap: 7.88e-09 \n",
      "DIMACS error measures: 2.44e-11 0.00e+00 7.14e-09 0.00e+00 -8.92e-08 7.88e-09\n"
     ]
    }
   ],
   "source": [
    "@polyvar x\n",
    "g = x * (0.5 - x) # relaxation\n",
    "f = x * (1 - x) \n",
    "X = monomials([x], 0:4)\n",
    "model = SOSModel(with_optimizer(CSDP.Optimizer))\n",
    "@variable(model, p, Poly(X))\n",
    "@variable(model, l1, SOSPoly(X))\n",
    "@variable(model, l2, SOSPoly(X))\n",
    "@constraint(model, p >= l1 * f)\n",
    "@constraint(model, p >= l2 * g + 1)\n",
    "@objective(model, Min, integrate(p, x, 0, 1))\n",
    "optimize!(model)\n",
    "\n",
    "# The lower bound found is 3\n",
    "println(objective_value(model))"
   ]
  },
  {
   "cell_type": "code",
   "execution_count": 91,
   "metadata": {},
   "outputs": [
    {
     "data": {
      "text/latex": [
       "$$ -1.9999999924307557x^{2} + 0.999999992430762x + 1.0000000025230777 $$"
      ],
      "text/plain": [
       "-1.9999999924307557x² + 0.999999992430762x + 1.0000000025230777"
      ]
     },
     "execution_count": 91,
     "metadata": {},
     "output_type": "execute_result"
    }
   ],
   "source": [
    "value(p)"
   ]
  },
  {
   "cell_type": "code",
   "execution_count": 92,
   "metadata": {},
   "outputs": [],
   "source": [
    "using Plots"
   ]
  },
  {
   "cell_type": "code",
   "execution_count": 112,
   "metadata": {},
   "outputs": [
    {
     "data": {
      "image/svg+xml": [
       "<?xml version=\"1.0\" encoding=\"utf-8\"?>\n",
       "<svg xmlns=\"http://www.w3.org/2000/svg\" xmlns:xlink=\"http://www.w3.org/1999/xlink\" width=\"600\" height=\"400\" viewBox=\"0 0 2400 1600\">\n",
       "<defs>\n",
       "  <clipPath id=\"clip090\">\n",
       "    <rect x=\"0\" y=\"0\" width=\"2400\" height=\"1600\"/>\n",
       "  </clipPath>\n",
       "</defs>\n",
       "<path clip-path=\"url(#clip090)\" d=\"\n",
       "M0 1600 L2400 1600 L2400 0 L0 0  Z\n",
       "  \" fill=\"#ffffff\" fill-rule=\"evenodd\" fill-opacity=\"1\"/>\n",
       "<defs>\n",
       "  <clipPath id=\"clip091\">\n",
       "    <rect x=\"480\" y=\"0\" width=\"1681\" height=\"1600\"/>\n",
       "  </clipPath>\n",
       "</defs>\n",
       "<path clip-path=\"url(#clip090)\" d=\"\n",
       "M174.862 1486.45 L2352.76 1486.45 L2352.76 47.2441 L174.862 47.2441  Z\n",
       "  \" fill=\"#ffffff\" fill-rule=\"evenodd\" fill-opacity=\"1\"/>\n",
       "<defs>\n",
       "  <clipPath id=\"clip092\">\n",
       "    <rect x=\"174\" y=\"47\" width=\"2179\" height=\"1440\"/>\n",
       "  </clipPath>\n",
       "</defs>\n",
       "<polyline clip-path=\"url(#clip092)\" style=\"stroke:#000000; stroke-width:2; stroke-opacity:0.1; fill:none\" points=\"\n",
       "  236.501,1486.45 236.501,47.2441 \n",
       "  \"/>\n",
       "<polyline clip-path=\"url(#clip092)\" style=\"stroke:#000000; stroke-width:2; stroke-opacity:0.1; fill:none\" points=\"\n",
       "  750.155,1486.45 750.155,47.2441 \n",
       "  \"/>\n",
       "<polyline clip-path=\"url(#clip092)\" style=\"stroke:#000000; stroke-width:2; stroke-opacity:0.1; fill:none\" points=\"\n",
       "  1263.81,1486.45 1263.81,47.2441 \n",
       "  \"/>\n",
       "<polyline clip-path=\"url(#clip092)\" style=\"stroke:#000000; stroke-width:2; stroke-opacity:0.1; fill:none\" points=\"\n",
       "  1777.46,1486.45 1777.46,47.2441 \n",
       "  \"/>\n",
       "<polyline clip-path=\"url(#clip092)\" style=\"stroke:#000000; stroke-width:2; stroke-opacity:0.1; fill:none\" points=\"\n",
       "  2291.12,1486.45 2291.12,47.2441 \n",
       "  \"/>\n",
       "<polyline clip-path=\"url(#clip092)\" style=\"stroke:#000000; stroke-width:2; stroke-opacity:0.1; fill:none\" points=\"\n",
       "  174.862,1445.72 2352.76,1445.72 \n",
       "  \"/>\n",
       "<polyline clip-path=\"url(#clip092)\" style=\"stroke:#000000; stroke-width:2; stroke-opacity:0.1; fill:none\" points=\"\n",
       "  174.862,1151.21 2352.76,1151.21 \n",
       "  \"/>\n",
       "<polyline clip-path=\"url(#clip092)\" style=\"stroke:#000000; stroke-width:2; stroke-opacity:0.1; fill:none\" points=\"\n",
       "  174.862,856.702 2352.76,856.702 \n",
       "  \"/>\n",
       "<polyline clip-path=\"url(#clip092)\" style=\"stroke:#000000; stroke-width:2; stroke-opacity:0.1; fill:none\" points=\"\n",
       "  174.862,562.195 2352.76,562.195 \n",
       "  \"/>\n",
       "<polyline clip-path=\"url(#clip092)\" style=\"stroke:#000000; stroke-width:2; stroke-opacity:0.1; fill:none\" points=\"\n",
       "  174.862,267.688 2352.76,267.688 \n",
       "  \"/>\n",
       "<polyline clip-path=\"url(#clip090)\" style=\"stroke:#000000; stroke-width:4; stroke-opacity:1; fill:none\" points=\"\n",
       "  174.862,1486.45 2352.76,1486.45 \n",
       "  \"/>\n",
       "<polyline clip-path=\"url(#clip090)\" style=\"stroke:#000000; stroke-width:4; stroke-opacity:1; fill:none\" points=\"\n",
       "  174.862,1486.45 174.862,47.2441 \n",
       "  \"/>\n",
       "<polyline clip-path=\"url(#clip090)\" style=\"stroke:#000000; stroke-width:4; stroke-opacity:1; fill:none\" points=\"\n",
       "  236.501,1486.45 236.501,1469.18 \n",
       "  \"/>\n",
       "<polyline clip-path=\"url(#clip090)\" style=\"stroke:#000000; stroke-width:4; stroke-opacity:1; fill:none\" points=\"\n",
       "  750.155,1486.45 750.155,1469.18 \n",
       "  \"/>\n",
       "<polyline clip-path=\"url(#clip090)\" style=\"stroke:#000000; stroke-width:4; stroke-opacity:1; fill:none\" points=\"\n",
       "  1263.81,1486.45 1263.81,1469.18 \n",
       "  \"/>\n",
       "<polyline clip-path=\"url(#clip090)\" style=\"stroke:#000000; stroke-width:4; stroke-opacity:1; fill:none\" points=\"\n",
       "  1777.46,1486.45 1777.46,1469.18 \n",
       "  \"/>\n",
       "<polyline clip-path=\"url(#clip090)\" style=\"stroke:#000000; stroke-width:4; stroke-opacity:1; fill:none\" points=\"\n",
       "  2291.12,1486.45 2291.12,1469.18 \n",
       "  \"/>\n",
       "<polyline clip-path=\"url(#clip090)\" style=\"stroke:#000000; stroke-width:4; stroke-opacity:1; fill:none\" points=\"\n",
       "  174.862,1445.72 200.997,1445.72 \n",
       "  \"/>\n",
       "<polyline clip-path=\"url(#clip090)\" style=\"stroke:#000000; stroke-width:4; stroke-opacity:1; fill:none\" points=\"\n",
       "  174.862,1151.21 200.997,1151.21 \n",
       "  \"/>\n",
       "<polyline clip-path=\"url(#clip090)\" style=\"stroke:#000000; stroke-width:4; stroke-opacity:1; fill:none\" points=\"\n",
       "  174.862,856.702 200.997,856.702 \n",
       "  \"/>\n",
       "<polyline clip-path=\"url(#clip090)\" style=\"stroke:#000000; stroke-width:4; stroke-opacity:1; fill:none\" points=\"\n",
       "  174.862,562.195 200.997,562.195 \n",
       "  \"/>\n",
       "<polyline clip-path=\"url(#clip090)\" style=\"stroke:#000000; stroke-width:4; stroke-opacity:1; fill:none\" points=\"\n",
       "  174.862,267.688 200.997,267.688 \n",
       "  \"/>\n",
       "<path clip-path=\"url(#clip090)\" d=\"M 0 0 M204.51 1508.44 Q200.899 1508.44 199.07 1512 Q197.265 1515.55 197.265 1522.67 Q197.265 1529.78 199.07 1533.35 Q200.899 1536.89 204.51 1536.89 Q208.144 1536.89 209.95 1533.35 Q211.778 1529.78 211.778 1522.67 Q211.778 1515.55 209.95 1512 Q208.144 1508.44 204.51 1508.44 M204.51 1504.73 Q210.32 1504.73 213.376 1509.34 Q216.454 1513.92 216.454 1522.67 Q216.454 1531.4 213.376 1536.01 Q210.32 1540.59 204.51 1540.59 Q198.7 1540.59 195.621 1536.01 Q192.566 1531.4 192.566 1522.67 Q192.566 1513.92 195.621 1509.34 Q198.7 1504.73 204.51 1504.73 Z\" fill=\"#000000\" fill-rule=\"evenodd\" fill-opacity=\"1\" /><path clip-path=\"url(#clip090)\" d=\"M 0 0 M221.524 1534.04 L226.408 1534.04 L226.408 1539.92 L221.524 1539.92 L221.524 1534.04 Z\" fill=\"#000000\" fill-rule=\"evenodd\" fill-opacity=\"1\" /><path clip-path=\"url(#clip090)\" d=\"M 0 0 M241.477 1508.44 Q237.866 1508.44 236.038 1512 Q234.232 1515.55 234.232 1522.67 Q234.232 1529.78 236.038 1533.35 Q237.866 1536.89 241.477 1536.89 Q245.112 1536.89 246.917 1533.35 Q248.746 1529.78 248.746 1522.67 Q248.746 1515.55 246.917 1512 Q245.112 1508.44 241.477 1508.44 M241.477 1504.73 Q247.288 1504.73 250.343 1509.34 Q253.422 1513.92 253.422 1522.67 Q253.422 1531.4 250.343 1536.01 Q247.288 1540.59 241.477 1540.59 Q235.667 1540.59 232.589 1536.01 Q229.533 1531.4 229.533 1522.67 Q229.533 1513.92 232.589 1509.34 Q235.667 1504.73 241.477 1504.73 Z\" fill=\"#000000\" fill-rule=\"evenodd\" fill-opacity=\"1\" /><path clip-path=\"url(#clip090)\" d=\"M 0 0 M268.491 1508.44 Q264.88 1508.44 263.051 1512 Q261.246 1515.55 261.246 1522.67 Q261.246 1529.78 263.051 1533.35 Q264.88 1536.89 268.491 1536.89 Q272.125 1536.89 273.931 1533.35 Q275.76 1529.78 275.76 1522.67 Q275.76 1515.55 273.931 1512 Q272.125 1508.44 268.491 1508.44 M268.491 1504.73 Q274.301 1504.73 277.357 1509.34 Q280.435 1513.92 280.435 1522.67 Q280.435 1531.4 277.357 1536.01 Q274.301 1540.59 268.491 1540.59 Q262.681 1540.59 259.602 1536.01 Q256.547 1531.4 256.547 1522.67 Q256.547 1513.92 259.602 1509.34 Q262.681 1504.73 268.491 1504.73 Z\" fill=\"#000000\" fill-rule=\"evenodd\" fill-opacity=\"1\" /><path clip-path=\"url(#clip090)\" d=\"M 0 0 M719.46 1508.44 Q715.849 1508.44 714.021 1512 Q712.215 1515.55 712.215 1522.67 Q712.215 1529.78 714.021 1533.35 Q715.849 1536.89 719.46 1536.89 Q723.095 1536.89 724.9 1533.35 Q726.729 1529.78 726.729 1522.67 Q726.729 1515.55 724.9 1512 Q723.095 1508.44 719.46 1508.44 M719.46 1504.73 Q725.271 1504.73 728.326 1509.34 Q731.405 1513.92 731.405 1522.67 Q731.405 1531.4 728.326 1536.01 Q725.271 1540.59 719.46 1540.59 Q713.65 1540.59 710.572 1536.01 Q707.516 1531.4 707.516 1522.67 Q707.516 1513.92 710.572 1509.34 Q713.65 1504.73 719.46 1504.73 Z\" fill=\"#000000\" fill-rule=\"evenodd\" fill-opacity=\"1\" /><path clip-path=\"url(#clip090)\" d=\"M 0 0 M736.474 1534.04 L741.358 1534.04 L741.358 1539.92 L736.474 1539.92 L736.474 1534.04 Z\" fill=\"#000000\" fill-rule=\"evenodd\" fill-opacity=\"1\" /><path clip-path=\"url(#clip090)\" d=\"M 0 0 M750.456 1535.98 L766.775 1535.98 L766.775 1539.92 L744.831 1539.92 L744.831 1535.98 Q747.493 1533.23 752.076 1528.6 Q756.682 1523.95 757.863 1522.61 Q760.108 1520.08 760.988 1518.35 Q761.891 1516.59 761.891 1514.9 Q761.891 1512.14 759.946 1510.41 Q758.025 1508.67 754.923 1508.67 Q752.724 1508.67 750.27 1509.43 Q747.84 1510.2 745.062 1511.75 L745.062 1507.03 Q747.886 1505.89 750.34 1505.31 Q752.794 1504.73 754.831 1504.73 Q760.201 1504.73 763.395 1507.42 Q766.59 1510.11 766.59 1514.6 Q766.59 1516.73 765.78 1518.65 Q764.993 1520.54 762.886 1523.14 Q762.307 1523.81 759.206 1527.03 Q756.104 1530.22 750.456 1535.98 Z\" fill=\"#000000\" fill-rule=\"evenodd\" fill-opacity=\"1\" /><path clip-path=\"url(#clip090)\" d=\"M 0 0 M771.891 1505.36 L790.247 1505.36 L790.247 1509.3 L776.173 1509.3 L776.173 1517.77 Q777.192 1517.42 778.21 1517.26 Q779.229 1517.07 780.247 1517.07 Q786.034 1517.07 789.414 1520.24 Q792.793 1523.42 792.793 1528.83 Q792.793 1534.41 789.321 1537.51 Q785.849 1540.59 779.53 1540.59 Q777.354 1540.59 775.085 1540.22 Q772.84 1539.85 770.432 1539.11 L770.432 1534.41 Q772.516 1535.54 774.738 1536.1 Q776.96 1536.66 779.437 1536.66 Q783.442 1536.66 785.78 1534.55 Q788.118 1532.44 788.118 1528.83 Q788.118 1525.22 785.78 1523.11 Q783.442 1521.01 779.437 1521.01 Q777.562 1521.01 775.687 1521.42 Q773.835 1521.84 771.891 1522.72 L771.891 1505.36 Z\" fill=\"#000000\" fill-rule=\"evenodd\" fill-opacity=\"1\" /><path clip-path=\"url(#clip090)\" d=\"M 0 0 M1232.32 1508.44 Q1228.7 1508.44 1226.88 1512 Q1225.07 1515.55 1225.07 1522.67 Q1225.07 1529.78 1226.88 1533.35 Q1228.7 1536.89 1232.32 1536.89 Q1235.95 1536.89 1237.76 1533.35 Q1239.58 1529.78 1239.58 1522.67 Q1239.58 1515.55 1237.76 1512 Q1235.95 1508.44 1232.32 1508.44 M1232.32 1504.73 Q1238.13 1504.73 1241.18 1509.34 Q1244.26 1513.92 1244.26 1522.67 Q1244.26 1531.4 1241.18 1536.01 Q1238.13 1540.59 1232.32 1540.59 Q1226.51 1540.59 1223.43 1536.01 Q1220.37 1531.4 1220.37 1522.67 Q1220.37 1513.92 1223.43 1509.34 Q1226.51 1504.73 1232.32 1504.73 Z\" fill=\"#000000\" fill-rule=\"evenodd\" fill-opacity=\"1\" /><path clip-path=\"url(#clip090)\" d=\"M 0 0 M1249.33 1534.04 L1254.21 1534.04 L1254.21 1539.92 L1249.33 1539.92 L1249.33 1534.04 Z\" fill=\"#000000\" fill-rule=\"evenodd\" fill-opacity=\"1\" /><path clip-path=\"url(#clip090)\" d=\"M 0 0 M1259.33 1505.36 L1277.69 1505.36 L1277.69 1509.3 L1263.61 1509.3 L1263.61 1517.77 Q1264.63 1517.42 1265.65 1517.26 Q1266.67 1517.07 1267.69 1517.07 Q1273.47 1517.07 1276.85 1520.24 Q1280.23 1523.42 1280.23 1528.83 Q1280.23 1534.41 1276.76 1537.51 Q1273.29 1540.59 1266.97 1540.59 Q1264.79 1540.59 1262.52 1540.22 Q1260.28 1539.85 1257.87 1539.11 L1257.87 1534.41 Q1259.95 1535.54 1262.18 1536.1 Q1264.4 1536.66 1266.88 1536.66 Q1270.88 1536.66 1273.22 1534.55 Q1275.56 1532.44 1275.56 1528.83 Q1275.56 1525.22 1273.22 1523.11 Q1270.88 1521.01 1266.88 1521.01 Q1265 1521.01 1263.13 1521.42 Q1261.27 1521.84 1259.33 1522.72 L1259.33 1505.36 Z\" fill=\"#000000\" fill-rule=\"evenodd\" fill-opacity=\"1\" /><path clip-path=\"url(#clip090)\" d=\"M 0 0 M1295.3 1508.44 Q1291.69 1508.44 1289.86 1512 Q1288.06 1515.55 1288.06 1522.67 Q1288.06 1529.78 1289.86 1533.35 Q1291.69 1536.89 1295.3 1536.89 Q1298.94 1536.89 1300.74 1533.35 Q1302.57 1529.78 1302.57 1522.67 Q1302.57 1515.55 1300.74 1512 Q1298.94 1508.44 1295.3 1508.44 M1295.3 1504.73 Q1301.11 1504.73 1304.17 1509.34 Q1307.25 1513.92 1307.25 1522.67 Q1307.25 1531.4 1304.17 1536.01 Q1301.11 1540.59 1295.3 1540.59 Q1289.49 1540.59 1286.41 1536.01 Q1283.36 1531.4 1283.36 1522.67 Q1283.36 1513.92 1286.41 1509.34 Q1289.49 1504.73 1295.3 1504.73 Z\" fill=\"#000000\" fill-rule=\"evenodd\" fill-opacity=\"1\" /><path clip-path=\"url(#clip090)\" d=\"M 0 0 M1746.42 1508.44 Q1742.81 1508.44 1740.98 1512 Q1739.18 1515.55 1739.18 1522.67 Q1739.18 1529.78 1740.98 1533.35 Q1742.81 1536.89 1746.42 1536.89 Q1750.06 1536.89 1751.86 1533.35 Q1753.69 1529.78 1753.69 1522.67 Q1753.69 1515.55 1751.86 1512 Q1750.06 1508.44 1746.42 1508.44 M1746.42 1504.73 Q1752.23 1504.73 1755.29 1509.34 Q1758.37 1513.92 1758.37 1522.67 Q1758.37 1531.4 1755.29 1536.01 Q1752.23 1540.59 1746.42 1540.59 Q1740.61 1540.59 1737.53 1536.01 Q1734.48 1531.4 1734.48 1522.67 Q1734.48 1513.92 1737.53 1509.34 Q1740.61 1504.73 1746.42 1504.73 Z\" fill=\"#000000\" fill-rule=\"evenodd\" fill-opacity=\"1\" /><path clip-path=\"url(#clip090)\" d=\"M 0 0 M1763.44 1534.04 L1768.32 1534.04 L1768.32 1539.92 L1763.44 1539.92 L1763.44 1534.04 Z\" fill=\"#000000\" fill-rule=\"evenodd\" fill-opacity=\"1\" /><path clip-path=\"url(#clip090)\" d=\"M 0 0 M1772.21 1505.36 L1794.43 1505.36 L1794.43 1507.35 L1781.88 1539.92 L1777 1539.92 L1788.81 1509.3 L1772.21 1509.3 L1772.21 1505.36 Z\" fill=\"#000000\" fill-rule=\"evenodd\" fill-opacity=\"1\" /><path clip-path=\"url(#clip090)\" d=\"M 0 0 M1799.55 1505.36 L1817.9 1505.36 L1817.9 1509.3 L1803.83 1509.3 L1803.83 1517.77 Q1804.85 1517.42 1805.87 1517.26 Q1806.88 1517.07 1807.9 1517.07 Q1813.69 1517.07 1817.07 1520.24 Q1820.45 1523.42 1820.45 1528.83 Q1820.45 1534.41 1816.98 1537.51 Q1813.5 1540.59 1807.19 1540.59 Q1805.01 1540.59 1802.74 1540.22 Q1800.5 1539.85 1798.09 1539.11 L1798.09 1534.41 Q1800.17 1535.54 1802.39 1536.1 Q1804.62 1536.66 1807.09 1536.66 Q1811.1 1536.66 1813.44 1534.55 Q1815.77 1532.44 1815.77 1528.83 Q1815.77 1525.22 1813.44 1523.11 Q1811.1 1521.01 1807.09 1521.01 Q1805.22 1521.01 1803.34 1521.42 Q1801.49 1521.84 1799.55 1522.72 L1799.55 1505.36 Z\" fill=\"#000000\" fill-rule=\"evenodd\" fill-opacity=\"1\" /><path clip-path=\"url(#clip090)\" d=\"M 0 0 M2249.51 1535.98 L2257.15 1535.98 L2257.15 1509.62 L2248.84 1511.29 L2248.84 1507.03 L2257.1 1505.36 L2261.78 1505.36 L2261.78 1535.98 L2269.42 1535.98 L2269.42 1539.92 L2249.51 1539.92 L2249.51 1535.98 Z\" fill=\"#000000\" fill-rule=\"evenodd\" fill-opacity=\"1\" /><path clip-path=\"url(#clip090)\" d=\"M 0 0 M2274.49 1534.04 L2279.37 1534.04 L2279.37 1539.92 L2274.49 1539.92 L2274.49 1534.04 Z\" fill=\"#000000\" fill-rule=\"evenodd\" fill-opacity=\"1\" /><path clip-path=\"url(#clip090)\" d=\"M 0 0 M2294.44 1508.44 Q2290.83 1508.44 2289 1512 Q2287.19 1515.55 2287.19 1522.67 Q2287.19 1529.78 2289 1533.35 Q2290.83 1536.89 2294.44 1536.89 Q2298.07 1536.89 2299.88 1533.35 Q2301.71 1529.78 2301.71 1522.67 Q2301.71 1515.55 2299.88 1512 Q2298.07 1508.44 2294.44 1508.44 M2294.44 1504.73 Q2300.25 1504.73 2303.3 1509.34 Q2306.38 1513.92 2306.38 1522.67 Q2306.38 1531.4 2303.3 1536.01 Q2300.25 1540.59 2294.44 1540.59 Q2288.63 1540.59 2285.55 1536.01 Q2282.49 1531.4 2282.49 1522.67 Q2282.49 1513.92 2285.55 1509.34 Q2288.63 1504.73 2294.44 1504.73 Z\" fill=\"#000000\" fill-rule=\"evenodd\" fill-opacity=\"1\" /><path clip-path=\"url(#clip090)\" d=\"M 0 0 M2321.45 1508.44 Q2317.84 1508.44 2316.01 1512 Q2314.21 1515.55 2314.21 1522.67 Q2314.21 1529.78 2316.01 1533.35 Q2317.84 1536.89 2321.45 1536.89 Q2325.09 1536.89 2326.89 1533.35 Q2328.72 1529.78 2328.72 1522.67 Q2328.72 1515.55 2326.89 1512 Q2325.09 1508.44 2321.45 1508.44 M2321.45 1504.73 Q2327.26 1504.73 2330.32 1509.34 Q2333.4 1513.92 2333.4 1522.67 Q2333.4 1531.4 2330.32 1536.01 Q2327.26 1540.59 2321.45 1540.59 Q2315.64 1540.59 2312.56 1536.01 Q2309.51 1531.4 2309.51 1522.67 Q2309.51 1513.92 2312.56 1509.34 Q2315.64 1504.73 2321.45 1504.73 Z\" fill=\"#000000\" fill-rule=\"evenodd\" fill-opacity=\"1\" /><path clip-path=\"url(#clip090)\" d=\"M 0 0 M74.9365 1431.51 Q71.3254 1431.51 69.4967 1435.08 Q67.6912 1438.62 67.6912 1445.75 Q67.6912 1452.86 69.4967 1456.42 Q71.3254 1459.96 74.9365 1459.96 Q78.5707 1459.96 80.3763 1456.42 Q82.205 1452.86 82.205 1445.75 Q82.205 1438.62 80.3763 1435.08 Q78.5707 1431.51 74.9365 1431.51 M74.9365 1427.81 Q80.7467 1427.81 83.8022 1432.42 Q86.8809 1437 86.8809 1445.75 Q86.8809 1454.48 83.8022 1459.08 Q80.7467 1463.67 74.9365 1463.67 Q69.1264 1463.67 66.0477 1459.08 Q62.9921 1454.48 62.9921 1445.75 Q62.9921 1437 66.0477 1432.42 Q69.1264 1427.81 74.9365 1427.81 Z\" fill=\"#000000\" fill-rule=\"evenodd\" fill-opacity=\"1\" /><path clip-path=\"url(#clip090)\" d=\"M 0 0 M91.9503 1457.12 L96.8345 1457.12 L96.8345 1463 L91.9503 1463 L91.9503 1457.12 Z\" fill=\"#000000\" fill-rule=\"evenodd\" fill-opacity=\"1\" /><path clip-path=\"url(#clip090)\" d=\"M 0 0 M111.904 1431.51 Q108.293 1431.51 106.464 1435.08 Q104.659 1438.62 104.659 1445.75 Q104.659 1452.86 106.464 1456.42 Q108.293 1459.96 111.904 1459.96 Q115.538 1459.96 117.344 1456.42 Q119.172 1452.86 119.172 1445.75 Q119.172 1438.62 117.344 1435.08 Q115.538 1431.51 111.904 1431.51 M111.904 1427.81 Q117.714 1427.81 120.77 1432.42 Q123.848 1437 123.848 1445.75 Q123.848 1454.48 120.77 1459.08 Q117.714 1463.67 111.904 1463.67 Q106.094 1463.67 103.015 1459.08 Q99.9595 1454.48 99.9595 1445.75 Q99.9595 1437 103.015 1432.42 Q106.094 1427.81 111.904 1427.81 Z\" fill=\"#000000\" fill-rule=\"evenodd\" fill-opacity=\"1\" /><path clip-path=\"url(#clip090)\" d=\"M 0 0 M138.918 1431.51 Q135.307 1431.51 133.478 1435.08 Q131.672 1438.62 131.672 1445.75 Q131.672 1452.86 133.478 1456.42 Q135.307 1459.96 138.918 1459.96 Q142.552 1459.96 144.357 1456.42 Q146.186 1452.86 146.186 1445.75 Q146.186 1438.62 144.357 1435.08 Q142.552 1431.51 138.918 1431.51 M138.918 1427.81 Q144.728 1427.81 147.783 1432.42 Q150.862 1437 150.862 1445.75 Q150.862 1454.48 147.783 1459.08 Q144.728 1463.67 138.918 1463.67 Q133.107 1463.67 130.029 1459.08 Q126.973 1454.48 126.973 1445.75 Q126.973 1437 130.029 1432.42 Q133.107 1427.81 138.918 1427.81 Z\" fill=\"#000000\" fill-rule=\"evenodd\" fill-opacity=\"1\" /><path clip-path=\"url(#clip090)\" d=\"M 0 0 M77.5291 1137.01 Q73.918 1137.01 72.0893 1140.57 Q70.2838 1144.11 70.2838 1151.24 Q70.2838 1158.35 72.0893 1161.91 Q73.918 1165.46 77.5291 1165.46 Q81.1633 1165.46 82.9689 1161.91 Q84.7976 1158.35 84.7976 1151.24 Q84.7976 1144.11 82.9689 1140.57 Q81.1633 1137.01 77.5291 1137.01 M77.5291 1133.3 Q83.3392 1133.3 86.3948 1137.91 Q89.4735 1142.49 89.4735 1151.24 Q89.4735 1159.97 86.3948 1164.58 Q83.3392 1169.16 77.5291 1169.16 Q71.7189 1169.16 68.6402 1164.58 Q65.5847 1159.97 65.5847 1151.24 Q65.5847 1142.49 68.6402 1137.91 Q71.7189 1133.3 77.5291 1133.3 Z\" fill=\"#000000\" fill-rule=\"evenodd\" fill-opacity=\"1\" /><path clip-path=\"url(#clip090)\" d=\"M 0 0 M94.5429 1162.61 L99.4271 1162.61 L99.4271 1168.49 L94.5429 1168.49 L94.5429 1162.61 Z\" fill=\"#000000\" fill-rule=\"evenodd\" fill-opacity=\"1\" /><path clip-path=\"url(#clip090)\" d=\"M 0 0 M108.524 1164.55 L124.844 1164.55 L124.844 1168.49 L102.899 1168.49 L102.899 1164.55 Q105.561 1161.8 110.145 1157.17 Q114.751 1152.52 115.932 1151.17 Q118.177 1148.65 119.057 1146.91 Q119.959 1145.16 119.959 1143.47 Q119.959 1140.71 118.015 1138.98 Q116.094 1137.24 112.992 1137.24 Q110.793 1137.24 108.339 1138 Q105.909 1138.77 103.131 1140.32 L103.131 1135.6 Q105.955 1134.46 108.409 1133.88 Q110.862 1133.3 112.899 1133.3 Q118.27 1133.3 121.464 1135.99 Q124.658 1138.67 124.658 1143.16 Q124.658 1145.29 123.848 1147.22 Q123.061 1149.11 120.955 1151.71 Q120.376 1152.38 117.274 1155.6 Q114.172 1158.79 108.524 1164.55 Z\" fill=\"#000000\" fill-rule=\"evenodd\" fill-opacity=\"1\" /><path clip-path=\"url(#clip090)\" d=\"M 0 0 M129.959 1133.93 L148.316 1133.93 L148.316 1137.86 L134.242 1137.86 L134.242 1146.34 Q135.26 1145.99 136.279 1145.83 Q137.297 1145.64 138.316 1145.64 Q144.103 1145.64 147.482 1148.81 Q150.862 1151.98 150.862 1157.4 Q150.862 1162.98 147.39 1166.08 Q143.918 1169.16 137.598 1169.16 Q135.422 1169.16 133.154 1168.79 Q130.908 1168.42 128.501 1167.68 L128.501 1162.98 Q130.584 1164.11 132.807 1164.67 Q135.029 1165.22 137.506 1165.22 Q141.51 1165.22 143.848 1163.12 Q146.186 1161.01 146.186 1157.4 Q146.186 1153.79 143.848 1151.68 Q141.51 1149.58 137.506 1149.58 Q135.631 1149.58 133.756 1149.99 Q131.904 1150.41 129.959 1151.29 L129.959 1133.93 Z\" fill=\"#000000\" fill-rule=\"evenodd\" fill-opacity=\"1\" /><path clip-path=\"url(#clip090)\" d=\"M 0 0 M75.9319 842.501 Q72.3208 842.501 70.4921 846.065 Q68.6865 849.607 68.6865 856.737 Q68.6865 863.843 70.4921 867.408 Q72.3208 870.95 75.9319 870.95 Q79.5661 870.95 81.3717 867.408 Q83.2004 863.843 83.2004 856.737 Q83.2004 849.607 81.3717 846.065 Q79.5661 842.501 75.9319 842.501 M75.9319 838.797 Q81.742 838.797 84.7976 843.403 Q87.8763 847.987 87.8763 856.737 Q87.8763 865.464 84.7976 870.07 Q81.742 874.653 75.9319 874.653 Q70.1217 874.653 67.043 870.07 Q63.9875 865.464 63.9875 856.737 Q63.9875 847.987 67.043 843.403 Q70.1217 838.797 75.9319 838.797 Z\" fill=\"#000000\" fill-rule=\"evenodd\" fill-opacity=\"1\" /><path clip-path=\"url(#clip090)\" d=\"M 0 0 M92.9457 868.102 L97.8299 868.102 L97.8299 873.982 L92.9457 873.982 L92.9457 868.102 Z\" fill=\"#000000\" fill-rule=\"evenodd\" fill-opacity=\"1\" /><path clip-path=\"url(#clip090)\" d=\"M 0 0 M102.946 839.422 L121.302 839.422 L121.302 843.357 L107.228 843.357 L107.228 851.829 Q108.247 851.482 109.265 851.32 Q110.284 851.135 111.302 851.135 Q117.089 851.135 120.469 854.306 Q123.848 857.477 123.848 862.894 Q123.848 868.473 120.376 871.575 Q116.904 874.653 110.584 874.653 Q108.409 874.653 106.14 874.283 Q103.895 873.913 101.487 873.172 L101.487 868.473 Q103.571 869.607 105.793 870.163 Q108.015 870.718 110.492 870.718 Q114.496 870.718 116.834 868.612 Q119.172 866.505 119.172 862.894 Q119.172 859.283 116.834 857.177 Q114.496 855.07 110.492 855.07 Q108.617 855.07 106.742 855.487 Q104.89 855.903 102.946 856.783 L102.946 839.422 Z\" fill=\"#000000\" fill-rule=\"evenodd\" fill-opacity=\"1\" /><path clip-path=\"url(#clip090)\" d=\"M 0 0 M138.918 842.501 Q135.307 842.501 133.478 846.065 Q131.672 849.607 131.672 856.737 Q131.672 863.843 133.478 867.408 Q135.307 870.95 138.918 870.95 Q142.552 870.95 144.357 867.408 Q146.186 863.843 146.186 856.737 Q146.186 849.607 144.357 846.065 Q142.552 842.501 138.918 842.501 M138.918 838.797 Q144.728 838.797 147.783 843.403 Q150.862 847.987 150.862 856.737 Q150.862 865.464 147.783 870.07 Q144.728 874.653 138.918 874.653 Q133.107 874.653 130.029 870.07 Q126.973 865.464 126.973 856.737 Q126.973 847.987 130.029 843.403 Q133.107 838.797 138.918 838.797 Z\" fill=\"#000000\" fill-rule=\"evenodd\" fill-opacity=\"1\" /><path clip-path=\"url(#clip090)\" d=\"M 0 0 M76.8346 547.994 Q73.2236 547.994 71.3949 551.559 Q69.5893 555.1 69.5893 562.23 Q69.5893 569.336 71.3949 572.901 Q73.2236 576.443 76.8346 576.443 Q80.4689 576.443 82.2744 572.901 Q84.1031 569.336 84.1031 562.23 Q84.1031 555.1 82.2744 551.559 Q80.4689 547.994 76.8346 547.994 M76.8346 544.29 Q82.6448 544.29 85.7003 548.897 Q88.779 553.48 88.779 562.23 Q88.779 570.957 85.7003 575.563 Q82.6448 580.146 76.8346 580.146 Q71.0245 580.146 67.9458 575.563 Q64.8903 570.957 64.8903 562.23 Q64.8903 553.48 67.9458 548.897 Q71.0245 544.29 76.8346 544.29 Z\" fill=\"#000000\" fill-rule=\"evenodd\" fill-opacity=\"1\" /><path clip-path=\"url(#clip090)\" d=\"M 0 0 M93.8484 573.596 L98.7327 573.596 L98.7327 579.475 L93.8484 579.475 L93.8484 573.596 Z\" fill=\"#000000\" fill-rule=\"evenodd\" fill-opacity=\"1\" /><path clip-path=\"url(#clip090)\" d=\"M 0 0 M102.622 544.915 L124.844 544.915 L124.844 546.906 L112.297 579.475 L107.413 579.475 L119.219 548.85 L102.622 548.85 L102.622 544.915 Z\" fill=\"#000000\" fill-rule=\"evenodd\" fill-opacity=\"1\" /><path clip-path=\"url(#clip090)\" d=\"M 0 0 M129.959 544.915 L148.316 544.915 L148.316 548.85 L134.242 548.85 L134.242 557.323 Q135.26 556.975 136.279 556.813 Q137.297 556.628 138.316 556.628 Q144.103 556.628 147.482 559.799 Q150.862 562.971 150.862 568.387 Q150.862 573.966 147.39 577.068 Q143.918 580.146 137.598 580.146 Q135.422 580.146 133.154 579.776 Q130.908 579.406 128.501 578.665 L128.501 573.966 Q130.584 575.1 132.807 575.656 Q135.029 576.211 137.506 576.211 Q141.51 576.211 143.848 574.105 Q146.186 571.998 146.186 568.387 Q146.186 564.776 143.848 562.67 Q141.51 560.563 137.506 560.563 Q135.631 560.563 133.756 560.98 Q131.904 561.397 129.959 562.276 L129.959 544.915 Z\" fill=\"#000000\" fill-rule=\"evenodd\" fill-opacity=\"1\" /><path clip-path=\"url(#clip090)\" d=\"M 0 0 M66.9736 281.033 L74.6124 281.033 L74.6124 254.668 L66.3023 256.334 L66.3023 252.075 L74.5661 250.408 L79.242 250.408 L79.242 281.033 L86.8809 281.033 L86.8809 284.968 L66.9736 284.968 L66.9736 281.033 Z\" fill=\"#000000\" fill-rule=\"evenodd\" fill-opacity=\"1\" /><path clip-path=\"url(#clip090)\" d=\"M 0 0 M91.9503 279.089 L96.8345 279.089 L96.8345 284.968 L91.9503 284.968 L91.9503 279.089 Z\" fill=\"#000000\" fill-rule=\"evenodd\" fill-opacity=\"1\" /><path clip-path=\"url(#clip090)\" d=\"M 0 0 M111.904 253.487 Q108.293 253.487 106.464 257.052 Q104.659 260.593 104.659 267.723 Q104.659 274.829 106.464 278.394 Q108.293 281.936 111.904 281.936 Q115.538 281.936 117.344 278.394 Q119.172 274.829 119.172 267.723 Q119.172 260.593 117.344 257.052 Q115.538 253.487 111.904 253.487 M111.904 249.783 Q117.714 249.783 120.77 254.39 Q123.848 258.973 123.848 267.723 Q123.848 276.45 120.77 281.056 Q117.714 285.64 111.904 285.64 Q106.094 285.64 103.015 281.056 Q99.9595 276.45 99.9595 267.723 Q99.9595 258.973 103.015 254.39 Q106.094 249.783 111.904 249.783 Z\" fill=\"#000000\" fill-rule=\"evenodd\" fill-opacity=\"1\" /><path clip-path=\"url(#clip090)\" d=\"M 0 0 M138.918 253.487 Q135.307 253.487 133.478 257.052 Q131.672 260.593 131.672 267.723 Q131.672 274.829 133.478 278.394 Q135.307 281.936 138.918 281.936 Q142.552 281.936 144.357 278.394 Q146.186 274.829 146.186 267.723 Q146.186 260.593 144.357 257.052 Q142.552 253.487 138.918 253.487 M138.918 249.783 Q144.728 249.783 147.783 254.39 Q150.862 258.973 150.862 267.723 Q150.862 276.45 147.783 281.056 Q144.728 285.64 138.918 285.64 Q133.107 285.64 130.029 281.056 Q126.973 276.45 126.973 267.723 Q126.973 258.973 130.029 254.39 Q133.107 249.783 138.918 249.783 Z\" fill=\"#000000\" fill-rule=\"evenodd\" fill-opacity=\"1\" /><polyline clip-path=\"url(#clip092)\" style=\"stroke:#009af9; stroke-width:4; stroke-opacity:1; fill:none\" points=\"\n",
       "  236.501,87.9763 339.231,219.941 441.962,266.031 544.693,255.822 647.424,214.962 750.155,165.173 852.886,124.251 955.616,106.063 1058.35,120.551 1161.08,173.73 \n",
       "  1263.81,267.688 1366.54,400.587 1469.27,566.66 1572,756.216 1674.73,955.636 1777.46,1147.37 1880.19,1309.96 1982.92,1417.99 2085.66,1442.14 2188.39,1349.16 \n",
       "  2291.12,1101.86 \n",
       "  \"/>\n",
       "<polyline clip-path=\"url(#clip092)\" style=\"stroke:#e26f46; stroke-width:4; stroke-opacity:1; fill:none\" points=\"\n",
       "  236.501,267.688 339.231,267.688 441.962,267.688 544.693,267.688 647.424,267.688 750.155,267.688 852.886,267.688 955.616,267.688 1058.35,267.688 1161.08,267.688 \n",
       "  1263.81,267.688 1366.54,1445.72 1469.27,1445.72 1572,1445.72 1674.73,1445.72 1777.46,1445.72 1880.19,1445.72 1982.92,1445.72 2085.66,1445.72 2188.39,1445.72 \n",
       "  2291.12,1445.72 \n",
       "  \"/>\n",
       "<path clip-path=\"url(#clip090)\" d=\"\n",
       "M1989.74 312.204 L2280.76 312.204 L2280.76 130.764 L1989.74 130.764  Z\n",
       "  \" fill=\"#ffffff\" fill-rule=\"evenodd\" fill-opacity=\"1\"/>\n",
       "<polyline clip-path=\"url(#clip090)\" style=\"stroke:#000000; stroke-width:4; stroke-opacity:1; fill:none\" points=\"\n",
       "  1989.74,312.204 2280.76,312.204 2280.76,130.764 1989.74,130.764 1989.74,312.204 \n",
       "  \"/>\n",
       "<polyline clip-path=\"url(#clip090)\" style=\"stroke:#009af9; stroke-width:4; stroke-opacity:1; fill:none\" points=\"\n",
       "  2013.74,191.244 2157.74,191.244 \n",
       "  \"/>\n",
       "<path clip-path=\"url(#clip090)\" d=\"M 0 0 M2195.58 210.931 Q2193.77 215.561 2192.06 216.973 Q2190.35 218.385 2187.48 218.385 L2184.08 218.385 L2184.08 214.82 L2186.58 214.82 Q2188.33 214.82 2189.31 213.987 Q2190.28 213.154 2191.46 210.052 L2192.22 208.107 L2181.74 182.598 L2186.25 182.598 L2194.35 202.876 L2202.46 182.598 L2206.97 182.598 L2195.58 210.931 Z\" fill=\"#000000\" fill-rule=\"evenodd\" fill-opacity=\"1\" /><path clip-path=\"url(#clip090)\" d=\"M 0 0 M2212.85 204.589 L2220.49 204.589 L2220.49 178.223 L2212.18 179.89 L2212.18 175.631 L2220.44 173.964 L2225.12 173.964 L2225.12 204.589 L2232.76 204.589 L2232.76 208.524 L2212.85 208.524 L2212.85 204.589 Z\" fill=\"#000000\" fill-rule=\"evenodd\" fill-opacity=\"1\" /><polyline clip-path=\"url(#clip090)\" style=\"stroke:#e26f46; stroke-width:4; stroke-opacity:1; fill:none\" points=\"\n",
       "  2013.74,251.724 2157.74,251.724 \n",
       "  \"/>\n",
       "<path clip-path=\"url(#clip090)\" d=\"M 0 0 M2195.58 271.411 Q2193.77 276.041 2192.06 277.453 Q2190.35 278.865 2187.48 278.865 L2184.08 278.865 L2184.08 275.3 L2186.58 275.3 Q2188.33 275.3 2189.31 274.467 Q2190.28 273.634 2191.46 270.532 L2192.22 268.587 L2181.74 243.078 L2186.25 243.078 L2194.35 263.356 L2202.46 243.078 L2206.97 243.078 L2195.58 271.411 Z\" fill=\"#000000\" fill-rule=\"evenodd\" fill-opacity=\"1\" /><path clip-path=\"url(#clip090)\" d=\"M 0 0 M2216.07 265.069 L2232.39 265.069 L2232.39 269.004 L2210.44 269.004 L2210.44 265.069 Q2213.1 262.314 2217.69 257.685 Q2222.29 253.032 2223.47 251.689 Q2225.72 249.166 2226.6 247.43 Q2227.5 245.671 2227.5 243.981 Q2227.5 241.226 2225.56 239.49 Q2223.64 237.754 2220.53 237.754 Q2218.33 237.754 2215.88 238.518 Q2213.45 239.282 2210.67 240.833 L2210.67 236.111 Q2213.5 234.976 2215.95 234.398 Q2218.4 233.819 2220.44 233.819 Q2225.81 233.819 2229.01 236.504 Q2232.2 239.189 2232.2 243.68 Q2232.2 245.81 2231.39 247.731 Q2230.6 249.629 2228.5 252.222 Q2227.92 252.893 2224.82 256.111 Q2221.71 259.305 2216.07 265.069 Z\" fill=\"#000000\" fill-rule=\"evenodd\" fill-opacity=\"1\" /></svg>\n"
      ]
     },
     "execution_count": 112,
     "metadata": {},
     "output_type": "execute_result"
    }
   ],
   "source": [
    "plot( 0:0.05:1 , [value(p)(x => x1) for x1 in  0:0.05:1] )\n",
    "plot!( 0:0.05:1 , [ if (g(x => x1) >= 0) 1 else 0 end for x1   in 0:0.05:1  ]  )"
   ]
  },
  {
   "cell_type": "code",
   "execution_count": 100,
   "metadata": {},
   "outputs": [
    {
     "name": "stdout",
     "output_type": "stream",
     "text": [
      "0.7222222244349417\n"
     ]
    }
   ],
   "source": [
    "println(objective_value(model)) # true answer is 0.5"
   ]
  },
  {
   "cell_type": "code",
   "execution_count": 113,
   "metadata": {},
   "outputs": [
    {
     "name": "stderr",
     "output_type": "stream",
     "text": [
      "┌ Warning: `with_optimizer` is deprecated. Adapt the following example to update your code:\n",
      "│ `with_optimizer(Ipopt.Optimizer)` becomes `Ipopt.Optimizer`.\n",
      "│   caller = top-level scope at In[113]:5\n",
      "└ @ Core In[113]:5\n"
     ]
    },
    {
     "name": "stdout",
     "output_type": "stream",
     "text": [
      "CSDP 6.2.0\n",
      "Iter:  0 Ap: 0.00e+00 Pobj:  0.0000000e+00 Ad: 0.00e+00 Dobj:  0.0000000e+00 \n",
      "Iter:  1 Ap: 8.23e-01 Pobj: -1.3941343e+01 Ad: 8.06e-01 Dobj:  4.2656375e-01 \n",
      "Iter:  2 Ap: 8.50e-01 Pobj: -1.7643101e+01 Ad: 8.35e-01 Dobj:  5.2126344e-01 \n",
      "Iter:  3 Ap: 5.75e-01 Pobj: -1.1198609e+01 Ad: 7.34e-01 Dobj:  6.1382039e-01 \n",
      "Iter:  4 Ap: 7.82e-01 Pobj: -5.5709828e+00 Ad: 7.79e-01 Dobj:  5.8039734e-01 \n",
      "Iter:  5 Ap: 7.91e-01 Pobj: -1.6594618e+00 Ad: 8.47e-01 Dobj:  5.3420108e-01 \n",
      "Iter:  6 Ap: 6.76e-01 Pobj: -5.6830879e-01 Ad: 7.75e-01 Dobj:  4.4424984e-01 \n",
      "Iter:  7 Ap: 7.38e-01 Pobj: -6.4867062e-02 Ad: 8.54e-01 Dobj:  3.8237897e-01 \n",
      "Iter:  8 Ap: 8.46e-01 Pobj:  1.7934560e-01 Ad: 7.65e-01 Dobj:  3.0886784e-01 \n",
      "Iter:  9 Ap: 7.71e-01 Pobj:  2.2667770e-01 Ad: 7.98e-01 Dobj:  2.7122939e-01 \n",
      "Iter: 10 Ap: 7.61e-01 Pobj:  2.4317412e-01 Ad: 7.78e-01 Dobj:  2.5967420e-01 \n",
      "Iter: 11 Ap: 7.40e-01 Pobj:  2.4872191e-01 Ad: 9.06e-01 Dobj:  2.5455748e-01 \n",
      "Iter: 12 Ap: 7.78e-01 Pobj:  2.5103973e-01 Ad: 1.00e+00 Dobj:  2.5286588e-01 \n",
      "Iter: 13 Ap: 7.68e-01 Pobj:  2.5183149e-01 Ad: 1.00e+00 Dobj:  2.5235635e-01 \n",
      "Iter: 14 Ap: 7.87e-01 Pobj:  2.5210122e-01 Ad: 1.00e+00 Dobj:  2.5224052e-01 \n",
      "Iter: 15 Ap: 7.57e-01 Pobj:  2.5219037e-01 Ad: 1.00e+00 Dobj:  2.5216521e-01 \n",
      "Iter: 16 Ap: 7.65e-01 Pobj:  2.5221973e-01 Ad: 1.00e+00 Dobj:  2.5215037e-01 \n",
      "Iter: 17 Ap: 7.60e-01 Pobj:  2.5223123e-01 Ad: 1.00e+00 Dobj:  2.5214011e-01 \n",
      "Iter: 18 Ap: 7.93e-01 Pobj:  2.5223497e-01 Ad: 1.00e+00 Dobj:  2.5215712e-01 \n",
      "Iter: 19 Ap: 6.45e-01 Pobj:  2.5223619e-01 Ad: 1.00e+00 Dobj:  2.5220326e-01 \n",
      "Iter: 20 Ap: 7.59e-01 Pobj:  2.5223690e-01 Ad: 1.00e+00 Dobj:  2.5223064e-01 \n",
      "Iter: 21 Ap: 7.71e-01 Pobj:  2.5223719e-01 Ad: 1.00e+00 Dobj:  2.5223539e-01 \n",
      "Iter: 22 Ap: 8.20e-01 Pobj:  2.5223729e-01 Ad: 1.00e+00 Dobj:  2.5223709e-01 \n",
      "Iter: 23 Ap: 7.55e-01 Pobj:  2.5223732e-01 Ad: 9.75e-01 Dobj:  2.5223729e-01 \n",
      "0.25223733128248615\n",
      "Iter: 24 Ap: 7.74e-01 Pobj:  2.5223733e-01 Ad: 5.02e-01 Dobj:  2.5223731e-01 \n",
      "Success: SDP solved\n",
      "Primal objective value: 2.5223733e-01 \n",
      "Dual objective value: 2.5223731e-01 \n",
      "Relative primal infeasibility: 6.31e-12 \n",
      "Relative dual infeasibility: 1.84e-10 \n",
      "Real Relative Gap: -1.53e-08 \n",
      "XZ Relative Gap: 5.75e-09 \n",
      "DIMACS error measures: 6.31e-12 0.00e+00 5.53e-10 0.00e+00 -1.53e-08 5.75e-09\n"
     ]
    }
   ],
   "source": [
    "@polyvar x\n",
    "g = x * (0.5 - x) # relaxation\n",
    "f = x * (1 - x) \n",
    "X = monomials([x], 0:4)\n",
    "model = SOSModel(with_optimizer(CSDP.Optimizer))\n",
    "@variable(model, p, Poly(X))\n",
    "@variable(model, l1, SOSPoly(X))\n",
    "@variable(model, l2, SOSPoly(X))\n",
    "@constraint(model, p <= -l1 * f + 1)\n",
    "@constraint(model, p <= l2 * g)\n",
    "@objective(model, Max, integrate(p, x, 0, 1))\n",
    "optimize!(model)\n",
    "\n",
    "# The lower bound found is 3\n",
    "println(objective_value(model))"
   ]
  },
  {
   "cell_type": "code",
   "execution_count": 115,
   "metadata": {},
   "outputs": [
    {
     "data": {
      "text/latex": [
       "$$ -35.418316410795704x^{4} + 80.0041628404604x^{3} - 58.5391741923292x^{2} + 13.695835953008944x - 9.068215289786963e-9 $$"
      ],
      "text/plain": [
       "-35.418316410795704x⁴ + 80.0041628404604x³ - 58.5391741923292x² + 13.695835953008944x - 9.068215289786963e-9"
      ]
     },
     "execution_count": 115,
     "metadata": {},
     "output_type": "execute_result"
    }
   ],
   "source": [
    "value(p)"
   ]
  },
  {
   "cell_type": "code",
   "execution_count": 114,
   "metadata": {},
   "outputs": [
    {
     "data": {
      "image/svg+xml": [
       "<?xml version=\"1.0\" encoding=\"utf-8\"?>\n",
       "<svg xmlns=\"http://www.w3.org/2000/svg\" xmlns:xlink=\"http://www.w3.org/1999/xlink\" width=\"600\" height=\"400\" viewBox=\"0 0 2400 1600\">\n",
       "<defs>\n",
       "  <clipPath id=\"clip130\">\n",
       "    <rect x=\"0\" y=\"0\" width=\"2400\" height=\"1600\"/>\n",
       "  </clipPath>\n",
       "</defs>\n",
       "<path clip-path=\"url(#clip130)\" d=\"\n",
       "M0 1600 L2400 1600 L2400 0 L0 0  Z\n",
       "  \" fill=\"#ffffff\" fill-rule=\"evenodd\" fill-opacity=\"1\"/>\n",
       "<defs>\n",
       "  <clipPath id=\"clip131\">\n",
       "    <rect x=\"480\" y=\"0\" width=\"1681\" height=\"1600\"/>\n",
       "  </clipPath>\n",
       "</defs>\n",
       "<path clip-path=\"url(#clip130)\" d=\"\n",
       "M148.01 1486.45 L2352.76 1486.45 L2352.76 47.2441 L148.01 47.2441  Z\n",
       "  \" fill=\"#ffffff\" fill-rule=\"evenodd\" fill-opacity=\"1\"/>\n",
       "<defs>\n",
       "  <clipPath id=\"clip132\">\n",
       "    <rect x=\"148\" y=\"47\" width=\"2206\" height=\"1440\"/>\n",
       "  </clipPath>\n",
       "</defs>\n",
       "<polyline clip-path=\"url(#clip132)\" style=\"stroke:#000000; stroke-width:2; stroke-opacity:0.1; fill:none\" points=\"\n",
       "  210.409,1486.45 210.409,47.2441 \n",
       "  \"/>\n",
       "<polyline clip-path=\"url(#clip132)\" style=\"stroke:#000000; stroke-width:2; stroke-opacity:0.1; fill:none\" points=\"\n",
       "  730.396,1486.45 730.396,47.2441 \n",
       "  \"/>\n",
       "<polyline clip-path=\"url(#clip132)\" style=\"stroke:#000000; stroke-width:2; stroke-opacity:0.1; fill:none\" points=\"\n",
       "  1250.38,1486.45 1250.38,47.2441 \n",
       "  \"/>\n",
       "<polyline clip-path=\"url(#clip132)\" style=\"stroke:#000000; stroke-width:2; stroke-opacity:0.1; fill:none\" points=\"\n",
       "  1770.37,1486.45 1770.37,47.2441 \n",
       "  \"/>\n",
       "<polyline clip-path=\"url(#clip132)\" style=\"stroke:#000000; stroke-width:2; stroke-opacity:0.1; fill:none\" points=\"\n",
       "  2290.36,1486.45 2290.36,47.2441 \n",
       "  \"/>\n",
       "<polyline clip-path=\"url(#clip132)\" style=\"stroke:#000000; stroke-width:2; stroke-opacity:0.1; fill:none\" points=\"\n",
       "  148.01,1197.78 2352.76,1197.78 \n",
       "  \"/>\n",
       "<polyline clip-path=\"url(#clip132)\" style=\"stroke:#000000; stroke-width:2; stroke-opacity:0.1; fill:none\" points=\"\n",
       "  148.01,908.904 2352.76,908.904 \n",
       "  \"/>\n",
       "<polyline clip-path=\"url(#clip132)\" style=\"stroke:#000000; stroke-width:2; stroke-opacity:0.1; fill:none\" points=\"\n",
       "  148.01,620.033 2352.76,620.033 \n",
       "  \"/>\n",
       "<polyline clip-path=\"url(#clip132)\" style=\"stroke:#000000; stroke-width:2; stroke-opacity:0.1; fill:none\" points=\"\n",
       "  148.01,331.161 2352.76,331.161 \n",
       "  \"/>\n",
       "<polyline clip-path=\"url(#clip130)\" style=\"stroke:#000000; stroke-width:4; stroke-opacity:1; fill:none\" points=\"\n",
       "  148.01,1486.45 2352.76,1486.45 \n",
       "  \"/>\n",
       "<polyline clip-path=\"url(#clip130)\" style=\"stroke:#000000; stroke-width:4; stroke-opacity:1; fill:none\" points=\"\n",
       "  148.01,1486.45 148.01,47.2441 \n",
       "  \"/>\n",
       "<polyline clip-path=\"url(#clip130)\" style=\"stroke:#000000; stroke-width:4; stroke-opacity:1; fill:none\" points=\"\n",
       "  210.409,1486.45 210.409,1469.18 \n",
       "  \"/>\n",
       "<polyline clip-path=\"url(#clip130)\" style=\"stroke:#000000; stroke-width:4; stroke-opacity:1; fill:none\" points=\"\n",
       "  730.396,1486.45 730.396,1469.18 \n",
       "  \"/>\n",
       "<polyline clip-path=\"url(#clip130)\" style=\"stroke:#000000; stroke-width:4; stroke-opacity:1; fill:none\" points=\"\n",
       "  1250.38,1486.45 1250.38,1469.18 \n",
       "  \"/>\n",
       "<polyline clip-path=\"url(#clip130)\" style=\"stroke:#000000; stroke-width:4; stroke-opacity:1; fill:none\" points=\"\n",
       "  1770.37,1486.45 1770.37,1469.18 \n",
       "  \"/>\n",
       "<polyline clip-path=\"url(#clip130)\" style=\"stroke:#000000; stroke-width:4; stroke-opacity:1; fill:none\" points=\"\n",
       "  2290.36,1486.45 2290.36,1469.18 \n",
       "  \"/>\n",
       "<polyline clip-path=\"url(#clip130)\" style=\"stroke:#000000; stroke-width:4; stroke-opacity:1; fill:none\" points=\"\n",
       "  148.01,1197.78 174.467,1197.78 \n",
       "  \"/>\n",
       "<polyline clip-path=\"url(#clip130)\" style=\"stroke:#000000; stroke-width:4; stroke-opacity:1; fill:none\" points=\"\n",
       "  148.01,908.904 174.467,908.904 \n",
       "  \"/>\n",
       "<polyline clip-path=\"url(#clip130)\" style=\"stroke:#000000; stroke-width:4; stroke-opacity:1; fill:none\" points=\"\n",
       "  148.01,620.033 174.467,620.033 \n",
       "  \"/>\n",
       "<polyline clip-path=\"url(#clip130)\" style=\"stroke:#000000; stroke-width:4; stroke-opacity:1; fill:none\" points=\"\n",
       "  148.01,331.161 174.467,331.161 \n",
       "  \"/>\n",
       "<path clip-path=\"url(#clip130)\" d=\"M 0 0 M178.418 1508.44 Q174.807 1508.44 172.978 1512 Q171.173 1515.55 171.173 1522.67 Q171.173 1529.78 172.978 1533.35 Q174.807 1536.89 178.418 1536.89 Q182.052 1536.89 183.858 1533.35 Q185.687 1529.78 185.687 1522.67 Q185.687 1515.55 183.858 1512 Q182.052 1508.44 178.418 1508.44 M178.418 1504.73 Q184.228 1504.73 187.284 1509.34 Q190.363 1513.92 190.363 1522.67 Q190.363 1531.4 187.284 1536.01 Q184.228 1540.59 178.418 1540.59 Q172.608 1540.59 169.529 1536.01 Q166.474 1531.4 166.474 1522.67 Q166.474 1513.92 169.529 1509.34 Q172.608 1504.73 178.418 1504.73 Z\" fill=\"#000000\" fill-rule=\"evenodd\" fill-opacity=\"1\" /><path clip-path=\"url(#clip130)\" d=\"M 0 0 M195.432 1534.04 L200.316 1534.04 L200.316 1539.92 L195.432 1539.92 L195.432 1534.04 Z\" fill=\"#000000\" fill-rule=\"evenodd\" fill-opacity=\"1\" /><path clip-path=\"url(#clip130)\" d=\"M 0 0 M215.386 1508.44 Q211.775 1508.44 209.946 1512 Q208.14 1515.55 208.14 1522.67 Q208.14 1529.78 209.946 1533.35 Q211.775 1536.89 215.386 1536.89 Q219.02 1536.89 220.825 1533.35 Q222.654 1529.78 222.654 1522.67 Q222.654 1515.55 220.825 1512 Q219.02 1508.44 215.386 1508.44 M215.386 1504.73 Q221.196 1504.73 224.251 1509.34 Q227.33 1513.92 227.33 1522.67 Q227.33 1531.4 224.251 1536.01 Q221.196 1540.59 215.386 1540.59 Q209.575 1540.59 206.497 1536.01 Q203.441 1531.4 203.441 1522.67 Q203.441 1513.92 206.497 1509.34 Q209.575 1504.73 215.386 1504.73 Z\" fill=\"#000000\" fill-rule=\"evenodd\" fill-opacity=\"1\" /><path clip-path=\"url(#clip130)\" d=\"M 0 0 M242.399 1508.44 Q238.788 1508.44 236.96 1512 Q235.154 1515.55 235.154 1522.67 Q235.154 1529.78 236.96 1533.35 Q238.788 1536.89 242.399 1536.89 Q246.034 1536.89 247.839 1533.35 Q249.668 1529.78 249.668 1522.67 Q249.668 1515.55 247.839 1512 Q246.034 1508.44 242.399 1508.44 M242.399 1504.73 Q248.21 1504.73 251.265 1509.34 Q254.344 1513.92 254.344 1522.67 Q254.344 1531.4 251.265 1536.01 Q248.21 1540.59 242.399 1540.59 Q236.589 1540.59 233.511 1536.01 Q230.455 1531.4 230.455 1522.67 Q230.455 1513.92 233.511 1509.34 Q236.589 1504.73 242.399 1504.73 Z\" fill=\"#000000\" fill-rule=\"evenodd\" fill-opacity=\"1\" /><path clip-path=\"url(#clip130)\" d=\"M 0 0 M699.702 1508.44 Q696.091 1508.44 694.262 1512 Q692.456 1515.55 692.456 1522.67 Q692.456 1529.78 694.262 1533.35 Q696.091 1536.89 699.702 1536.89 Q703.336 1536.89 705.141 1533.35 Q706.97 1529.78 706.97 1522.67 Q706.97 1515.55 705.141 1512 Q703.336 1508.44 699.702 1508.44 M699.702 1504.73 Q705.512 1504.73 708.567 1509.34 Q711.646 1513.92 711.646 1522.67 Q711.646 1531.4 708.567 1536.01 Q705.512 1540.59 699.702 1540.59 Q693.892 1540.59 690.813 1536.01 Q687.757 1531.4 687.757 1522.67 Q687.757 1513.92 690.813 1509.34 Q693.892 1504.73 699.702 1504.73 Z\" fill=\"#000000\" fill-rule=\"evenodd\" fill-opacity=\"1\" /><path clip-path=\"url(#clip130)\" d=\"M 0 0 M716.715 1534.04 L721.6 1534.04 L721.6 1539.92 L716.715 1539.92 L716.715 1534.04 Z\" fill=\"#000000\" fill-rule=\"evenodd\" fill-opacity=\"1\" /><path clip-path=\"url(#clip130)\" d=\"M 0 0 M730.697 1535.98 L747.016 1535.98 L747.016 1539.92 L725.072 1539.92 L725.072 1535.98 Q727.734 1533.23 732.317 1528.6 Q736.924 1523.95 738.104 1522.61 Q740.35 1520.08 741.229 1518.35 Q742.132 1516.59 742.132 1514.9 Q742.132 1512.14 740.188 1510.41 Q738.266 1508.67 735.164 1508.67 Q732.965 1508.67 730.512 1509.43 Q728.081 1510.2 725.303 1511.75 L725.303 1507.03 Q728.127 1505.89 730.581 1505.31 Q733.035 1504.73 735.072 1504.73 Q740.442 1504.73 743.637 1507.42 Q746.831 1510.11 746.831 1514.6 Q746.831 1516.73 746.021 1518.65 Q745.234 1520.54 743.127 1523.14 Q742.549 1523.81 739.447 1527.03 Q736.345 1530.22 730.697 1535.98 Z\" fill=\"#000000\" fill-rule=\"evenodd\" fill-opacity=\"1\" /><path clip-path=\"url(#clip130)\" d=\"M 0 0 M752.132 1505.36 L770.488 1505.36 L770.488 1509.3 L756.414 1509.3 L756.414 1517.77 Q757.433 1517.42 758.451 1517.26 Q759.47 1517.07 760.488 1517.07 Q766.275 1517.07 769.655 1520.24 Q773.035 1523.42 773.035 1528.83 Q773.035 1534.41 769.562 1537.51 Q766.09 1540.59 759.771 1540.59 Q757.595 1540.59 755.326 1540.22 Q753.081 1539.85 750.674 1539.11 L750.674 1534.41 Q752.757 1535.54 754.979 1536.1 Q757.201 1536.66 759.678 1536.66 Q763.683 1536.66 766.021 1534.55 Q768.359 1532.44 768.359 1528.83 Q768.359 1525.22 766.021 1523.11 Q763.683 1521.01 759.678 1521.01 Q757.803 1521.01 755.928 1521.42 Q754.076 1521.84 752.132 1522.72 L752.132 1505.36 Z\" fill=\"#000000\" fill-rule=\"evenodd\" fill-opacity=\"1\" /><path clip-path=\"url(#clip130)\" d=\"M 0 0 M1218.89 1508.44 Q1215.28 1508.44 1213.45 1512 Q1211.64 1515.55 1211.64 1522.67 Q1211.64 1529.78 1213.45 1533.35 Q1215.28 1536.89 1218.89 1536.89 Q1222.52 1536.89 1224.33 1533.35 Q1226.16 1529.78 1226.16 1522.67 Q1226.16 1515.55 1224.33 1512 Q1222.52 1508.44 1218.89 1508.44 M1218.89 1504.73 Q1224.7 1504.73 1227.76 1509.34 Q1230.83 1513.92 1230.83 1522.67 Q1230.83 1531.4 1227.76 1536.01 Q1224.7 1540.59 1218.89 1540.59 Q1213.08 1540.59 1210 1536.01 Q1206.95 1531.4 1206.95 1522.67 Q1206.95 1513.92 1210 1509.34 Q1213.08 1504.73 1218.89 1504.73 Z\" fill=\"#000000\" fill-rule=\"evenodd\" fill-opacity=\"1\" /><path clip-path=\"url(#clip130)\" d=\"M 0 0 M1235.9 1534.04 L1240.79 1534.04 L1240.79 1539.92 L1235.9 1539.92 L1235.9 1534.04 Z\" fill=\"#000000\" fill-rule=\"evenodd\" fill-opacity=\"1\" /><path clip-path=\"url(#clip130)\" d=\"M 0 0 M1245.9 1505.36 L1264.26 1505.36 L1264.26 1509.3 L1250.19 1509.3 L1250.19 1517.77 Q1251.2 1517.42 1252.22 1517.26 Q1253.24 1517.07 1254.26 1517.07 Q1260.05 1517.07 1263.43 1520.24 Q1266.81 1523.42 1266.81 1528.83 Q1266.81 1534.41 1263.33 1537.51 Q1259.86 1540.59 1253.54 1540.59 Q1251.37 1540.59 1249.1 1540.22 Q1246.85 1539.85 1244.45 1539.11 L1244.45 1534.41 Q1246.53 1535.54 1248.75 1536.1 Q1250.97 1536.66 1253.45 1536.66 Q1257.45 1536.66 1259.79 1534.55 Q1262.13 1532.44 1262.13 1528.83 Q1262.13 1525.22 1259.79 1523.11 Q1257.45 1521.01 1253.45 1521.01 Q1251.58 1521.01 1249.7 1521.42 Q1247.85 1521.84 1245.9 1522.72 L1245.9 1505.36 Z\" fill=\"#000000\" fill-rule=\"evenodd\" fill-opacity=\"1\" /><path clip-path=\"url(#clip130)\" d=\"M 0 0 M1281.88 1508.44 Q1278.26 1508.44 1276.44 1512 Q1274.63 1515.55 1274.63 1522.67 Q1274.63 1529.78 1276.44 1533.35 Q1278.26 1536.89 1281.88 1536.89 Q1285.51 1536.89 1287.32 1533.35 Q1289.14 1529.78 1289.14 1522.67 Q1289.14 1515.55 1287.32 1512 Q1285.51 1508.44 1281.88 1508.44 M1281.88 1504.73 Q1287.69 1504.73 1290.74 1509.34 Q1293.82 1513.92 1293.82 1522.67 Q1293.82 1531.4 1290.74 1536.01 Q1287.69 1540.59 1281.88 1540.59 Q1276.07 1540.59 1272.99 1536.01 Q1269.93 1531.4 1269.93 1522.67 Q1269.93 1513.92 1272.99 1509.34 Q1276.07 1504.73 1281.88 1504.73 Z\" fill=\"#000000\" fill-rule=\"evenodd\" fill-opacity=\"1\" /><path clip-path=\"url(#clip130)\" d=\"M 0 0 M1739.33 1508.44 Q1735.72 1508.44 1733.89 1512 Q1732.08 1515.55 1732.08 1522.67 Q1732.08 1529.78 1733.89 1533.35 Q1735.72 1536.89 1739.33 1536.89 Q1742.96 1536.89 1744.77 1533.35 Q1746.6 1529.78 1746.6 1522.67 Q1746.6 1515.55 1744.77 1512 Q1742.96 1508.44 1739.33 1508.44 M1739.33 1504.73 Q1745.14 1504.73 1748.19 1509.34 Q1751.27 1513.92 1751.27 1522.67 Q1751.27 1531.4 1748.19 1536.01 Q1745.14 1540.59 1739.33 1540.59 Q1733.52 1540.59 1730.44 1536.01 Q1727.38 1531.4 1727.38 1522.67 Q1727.38 1513.92 1730.44 1509.34 Q1733.52 1504.73 1739.33 1504.73 Z\" fill=\"#000000\" fill-rule=\"evenodd\" fill-opacity=\"1\" /><path clip-path=\"url(#clip130)\" d=\"M 0 0 M1756.34 1534.04 L1761.23 1534.04 L1761.23 1539.92 L1756.34 1539.92 L1756.34 1534.04 Z\" fill=\"#000000\" fill-rule=\"evenodd\" fill-opacity=\"1\" /><path clip-path=\"url(#clip130)\" d=\"M 0 0 M1765.12 1505.36 L1787.34 1505.36 L1787.34 1507.35 L1774.79 1539.92 L1769.91 1539.92 L1781.71 1509.3 L1765.12 1509.3 L1765.12 1505.36 Z\" fill=\"#000000\" fill-rule=\"evenodd\" fill-opacity=\"1\" /><path clip-path=\"url(#clip130)\" d=\"M 0 0 M1792.45 1505.36 L1810.81 1505.36 L1810.81 1509.3 L1796.74 1509.3 L1796.74 1517.77 Q1797.75 1517.42 1798.77 1517.26 Q1799.79 1517.07 1800.81 1517.07 Q1806.6 1517.07 1809.98 1520.24 Q1813.36 1523.42 1813.36 1528.83 Q1813.36 1534.41 1809.88 1537.51 Q1806.41 1540.59 1800.09 1540.59 Q1797.92 1540.59 1795.65 1540.22 Q1793.4 1539.85 1791 1539.11 L1791 1534.41 Q1793.08 1535.54 1795.3 1536.1 Q1797.52 1536.66 1800 1536.66 Q1804 1536.66 1806.34 1534.55 Q1808.68 1532.44 1808.68 1528.83 Q1808.68 1525.22 1806.34 1523.11 Q1804 1521.01 1800 1521.01 Q1798.12 1521.01 1796.25 1521.42 Q1794.4 1521.84 1792.45 1522.72 L1792.45 1505.36 Z\" fill=\"#000000\" fill-rule=\"evenodd\" fill-opacity=\"1\" /><path clip-path=\"url(#clip130)\" d=\"M 0 0 M2248.75 1535.98 L2256.39 1535.98 L2256.39 1509.62 L2248.08 1511.29 L2248.08 1507.03 L2256.34 1505.36 L2261.02 1505.36 L2261.02 1535.98 L2268.66 1535.98 L2268.66 1539.92 L2248.75 1539.92 L2248.75 1535.98 Z\" fill=\"#000000\" fill-rule=\"evenodd\" fill-opacity=\"1\" /><path clip-path=\"url(#clip130)\" d=\"M 0 0 M2273.73 1534.04 L2278.61 1534.04 L2278.61 1539.92 L2273.73 1539.92 L2273.73 1534.04 Z\" fill=\"#000000\" fill-rule=\"evenodd\" fill-opacity=\"1\" /><path clip-path=\"url(#clip130)\" d=\"M 0 0 M2293.68 1508.44 Q2290.07 1508.44 2288.24 1512 Q2286.43 1515.55 2286.43 1522.67 Q2286.43 1529.78 2288.24 1533.35 Q2290.07 1536.89 2293.68 1536.89 Q2297.31 1536.89 2299.12 1533.35 Q2300.95 1529.78 2300.95 1522.67 Q2300.95 1515.55 2299.12 1512 Q2297.31 1508.44 2293.68 1508.44 M2293.68 1504.73 Q2299.49 1504.73 2302.54 1509.34 Q2305.62 1513.92 2305.62 1522.67 Q2305.62 1531.4 2302.54 1536.01 Q2299.49 1540.59 2293.68 1540.59 Q2287.87 1540.59 2284.79 1536.01 Q2281.73 1531.4 2281.73 1522.67 Q2281.73 1513.92 2284.79 1509.34 Q2287.87 1504.73 2293.68 1504.73 Z\" fill=\"#000000\" fill-rule=\"evenodd\" fill-opacity=\"1\" /><path clip-path=\"url(#clip130)\" d=\"M 0 0 M2320.69 1508.44 Q2317.08 1508.44 2315.25 1512 Q2313.45 1515.55 2313.45 1522.67 Q2313.45 1529.78 2315.25 1533.35 Q2317.08 1536.89 2320.69 1536.89 Q2324.33 1536.89 2326.13 1533.35 Q2327.96 1529.78 2327.96 1522.67 Q2327.96 1515.55 2326.13 1512 Q2324.33 1508.44 2320.69 1508.44 M2320.69 1504.73 Q2326.5 1504.73 2329.56 1509.34 Q2332.64 1513.92 2332.64 1522.67 Q2332.64 1531.4 2329.56 1536.01 Q2326.5 1540.59 2320.69 1540.59 Q2314.88 1540.59 2311.8 1536.01 Q2308.75 1531.4 2308.75 1522.67 Q2308.75 1513.92 2311.8 1509.34 Q2314.88 1504.73 2320.69 1504.73 Z\" fill=\"#000000\" fill-rule=\"evenodd\" fill-opacity=\"1\" /><path clip-path=\"url(#clip130)\" d=\"M 0 0 M75.0985 1183.57 Q71.4875 1183.57 69.6588 1187.14 Q67.8532 1190.68 67.8532 1197.81 Q67.8532 1204.92 69.6588 1208.48 Q71.4875 1212.02 75.0985 1212.02 Q78.7328 1212.02 80.5383 1208.48 Q82.367 1204.92 82.367 1197.81 Q82.367 1190.68 80.5383 1187.14 Q78.7328 1183.57 75.0985 1183.57 M75.0985 1179.87 Q80.9087 1179.87 83.9642 1184.48 Q87.0429 1189.06 87.0429 1197.81 Q87.0429 1206.54 83.9642 1211.14 Q80.9087 1215.73 75.0985 1215.73 Q69.2884 1215.73 66.2097 1211.14 Q63.1542 1206.54 63.1542 1197.81 Q63.1542 1189.06 66.2097 1184.48 Q69.2884 1179.87 75.0985 1179.87 Z\" fill=\"#000000\" fill-rule=\"evenodd\" fill-opacity=\"1\" /><path clip-path=\"url(#clip130)\" d=\"M 0 0 M92.1123 1209.18 L96.9966 1209.18 L96.9966 1215.06 L92.1123 1215.06 L92.1123 1209.18 Z\" fill=\"#000000\" fill-rule=\"evenodd\" fill-opacity=\"1\" /><path clip-path=\"url(#clip130)\" d=\"M 0 0 M112.066 1183.57 Q108.455 1183.57 106.626 1187.14 Q104.821 1190.68 104.821 1197.81 Q104.821 1204.92 106.626 1208.48 Q108.455 1212.02 112.066 1212.02 Q115.7 1212.02 117.506 1208.48 Q119.334 1204.92 119.334 1197.81 Q119.334 1190.68 117.506 1187.14 Q115.7 1183.57 112.066 1183.57 M112.066 1179.87 Q117.876 1179.87 120.932 1184.48 Q124.01 1189.06 124.01 1197.81 Q124.01 1206.54 120.932 1211.14 Q117.876 1215.73 112.066 1215.73 Q106.256 1215.73 103.177 1211.14 Q100.122 1206.54 100.122 1197.81 Q100.122 1189.06 103.177 1184.48 Q106.256 1179.87 112.066 1179.87 Z\" fill=\"#000000\" fill-rule=\"evenodd\" fill-opacity=\"1\" /><path clip-path=\"url(#clip130)\" d=\"M 0 0 M75.7467 894.703 Q72.1356 894.703 70.3069 898.268 Q68.5014 901.809 68.5014 908.939 Q68.5014 916.045 70.3069 919.61 Q72.1356 923.152 75.7467 923.152 Q79.3809 923.152 81.1865 919.61 Q83.0152 916.045 83.0152 908.939 Q83.0152 901.809 81.1865 898.268 Q79.3809 894.703 75.7467 894.703 M75.7467 890.999 Q81.5568 890.999 84.6124 895.606 Q87.6911 900.189 87.6911 908.939 Q87.6911 917.666 84.6124 922.272 Q81.5568 926.855 75.7467 926.855 Q69.9365 926.855 66.8578 922.272 Q63.8023 917.666 63.8023 908.939 Q63.8023 900.189 66.8578 895.606 Q69.9365 890.999 75.7467 890.999 Z\" fill=\"#000000\" fill-rule=\"evenodd\" fill-opacity=\"1\" /><path clip-path=\"url(#clip130)\" d=\"M 0 0 M92.7605 920.304 L97.6447 920.304 L97.6447 926.184 L92.7605 926.184 L92.7605 920.304 Z\" fill=\"#000000\" fill-rule=\"evenodd\" fill-opacity=\"1\" /><path clip-path=\"url(#clip130)\" d=\"M 0 0 M116.881 907.55 Q120.237 908.268 122.112 910.536 Q124.01 912.805 124.01 916.138 Q124.01 921.254 120.492 924.054 Q116.973 926.855 110.492 926.855 Q108.316 926.855 106.001 926.416 Q103.71 925.999 101.256 925.142 L101.256 920.629 Q103.2 921.763 105.515 922.342 Q107.83 922.92 110.353 922.92 Q114.751 922.92 117.043 921.184 Q119.358 919.448 119.358 916.138 Q119.358 913.082 117.205 911.369 Q115.075 909.633 111.256 909.633 L107.228 909.633 L107.228 905.791 L111.441 905.791 Q114.89 905.791 116.719 904.425 Q118.547 903.036 118.547 900.443 Q118.547 897.781 116.649 896.369 Q114.774 894.934 111.256 894.934 Q109.334 894.934 107.135 895.351 Q104.936 895.768 102.297 896.647 L102.297 892.481 Q104.959 891.74 107.274 891.369 Q109.612 890.999 111.672 890.999 Q116.996 890.999 120.098 893.43 Q123.2 895.837 123.2 899.957 Q123.2 902.828 121.557 904.818 Q119.913 906.786 116.881 907.55 Z\" fill=\"#000000\" fill-rule=\"evenodd\" fill-opacity=\"1\" /><path clip-path=\"url(#clip130)\" d=\"M 0 0 M74.9365 605.831 Q71.3254 605.831 69.4967 609.396 Q67.6912 612.938 67.6912 620.067 Q67.6912 627.174 69.4967 630.739 Q71.3254 634.28 74.9365 634.28 Q78.5707 634.28 80.3763 630.739 Q82.205 627.174 82.205 620.067 Q82.205 612.938 80.3763 609.396 Q78.5707 605.831 74.9365 605.831 M74.9365 602.128 Q80.7467 602.128 83.8022 606.734 Q86.8809 611.317 86.8809 620.067 Q86.8809 628.794 83.8022 633.401 Q80.7467 637.984 74.9365 637.984 Q69.1264 637.984 66.0477 633.401 Q62.9921 628.794 62.9921 620.067 Q62.9921 611.317 66.0477 606.734 Q69.1264 602.128 74.9365 602.128 Z\" fill=\"#000000\" fill-rule=\"evenodd\" fill-opacity=\"1\" /><path clip-path=\"url(#clip130)\" d=\"M 0 0 M91.9503 631.433 L96.8345 631.433 L96.8345 637.313 L91.9503 637.313 L91.9503 631.433 Z\" fill=\"#000000\" fill-rule=\"evenodd\" fill-opacity=\"1\" /><path clip-path=\"url(#clip130)\" d=\"M 0 0 M112.483 618.169 Q109.334 618.169 107.483 620.322 Q105.654 622.475 105.654 626.225 Q105.654 629.952 107.483 632.127 Q109.334 634.28 112.483 634.28 Q115.631 634.28 117.459 632.127 Q119.311 629.952 119.311 626.225 Q119.311 622.475 117.459 620.322 Q115.631 618.169 112.483 618.169 M121.765 603.517 L121.765 607.776 Q120.006 606.942 118.2 606.503 Q116.418 606.063 114.659 606.063 Q110.029 606.063 107.575 609.188 Q105.145 612.313 104.797 618.632 Q106.163 616.618 108.223 615.553 Q110.284 614.466 112.76 614.466 Q117.969 614.466 120.978 617.637 Q124.01 620.785 124.01 626.225 Q124.01 631.549 120.862 634.766 Q117.714 637.984 112.483 637.984 Q106.487 637.984 103.316 633.401 Q100.145 628.794 100.145 620.067 Q100.145 611.873 104.034 607.012 Q107.922 602.128 114.473 602.128 Q116.233 602.128 118.015 602.475 Q119.821 602.822 121.765 603.517 Z\" fill=\"#000000\" fill-rule=\"evenodd\" fill-opacity=\"1\" /><path clip-path=\"url(#clip130)\" d=\"M 0 0 M75.2837 316.96 Q71.6726 316.96 69.8439 320.525 Q68.0384 324.066 68.0384 331.196 Q68.0384 338.302 69.8439 341.867 Q71.6726 345.409 75.2837 345.409 Q78.918 345.409 80.7235 341.867 Q82.5522 338.302 82.5522 331.196 Q82.5522 324.066 80.7235 320.525 Q78.918 316.96 75.2837 316.96 M75.2837 313.256 Q81.0939 313.256 84.1494 317.863 Q87.2281 322.446 87.2281 331.196 Q87.2281 339.923 84.1494 344.529 Q81.0939 349.112 75.2837 349.112 Q69.4736 349.112 66.3949 344.529 Q63.3393 339.923 63.3393 331.196 Q63.3393 322.446 66.3949 317.863 Q69.4736 313.256 75.2837 313.256 Z\" fill=\"#000000\" fill-rule=\"evenodd\" fill-opacity=\"1\" /><path clip-path=\"url(#clip130)\" d=\"M 0 0 M92.2975 342.562 L97.1818 342.562 L97.1818 348.441 L92.2975 348.441 L92.2975 342.562 Z\" fill=\"#000000\" fill-rule=\"evenodd\" fill-opacity=\"1\" /><path clip-path=\"url(#clip130)\" d=\"M 0 0 M102.39 347.724 L102.39 343.464 Q104.149 344.298 105.955 344.737 Q107.76 345.177 109.497 345.177 Q114.126 345.177 116.557 342.075 Q119.01 338.95 119.358 332.608 Q118.015 334.599 115.955 335.663 Q113.895 336.728 111.395 336.728 Q106.209 336.728 103.177 333.603 Q100.168 330.455 100.168 325.015 Q100.168 319.691 103.316 316.474 Q106.464 313.256 111.696 313.256 Q117.691 313.256 120.839 317.863 Q124.01 322.446 124.01 331.196 Q124.01 339.367 120.121 344.251 Q116.256 349.112 109.705 349.112 Q107.946 349.112 106.14 348.765 Q104.334 348.418 102.39 347.724 M111.696 333.071 Q114.844 333.071 116.672 330.918 Q118.524 328.765 118.524 325.015 Q118.524 321.289 116.672 319.136 Q114.844 316.96 111.696 316.96 Q108.547 316.96 106.696 319.136 Q104.867 321.289 104.867 325.015 Q104.867 328.765 106.696 330.918 Q108.547 333.071 111.696 333.071 Z\" fill=\"#000000\" fill-rule=\"evenodd\" fill-opacity=\"1\" /><polyline clip-path=\"url(#clip132)\" style=\"stroke:#009af9; stroke-width:4; stroke-opacity:1; fill:none\" points=\"\n",
       "  210.409,87.9763 314.406,195.843 418.404,233.516 522.401,225.171 626.399,191.773 730.396,151.076 834.393,117.627 938.391,102.76 1042.39,114.603 1146.39,158.07 \n",
       "  1250.38,234.871 1354.38,343.5 1458.38,479.246 1562.38,634.187 1666.37,797.19 1770.37,953.915 1874.37,1086.81 1978.37,1175.11 2082.36,1194.85 2186.36,1118.85 \n",
       "  2290.36,916.713 \n",
       "  \"/>\n",
       "<polyline clip-path=\"url(#clip132)\" style=\"stroke:#e26f46; stroke-width:4; stroke-opacity:1; fill:none\" points=\"\n",
       "  210.409,234.871 314.406,234.871 418.404,234.871 522.401,234.871 626.399,234.871 730.396,234.871 834.393,234.871 938.391,234.871 1042.39,234.871 1146.39,234.871 \n",
       "  1250.38,234.871 1354.38,1197.78 1458.38,1197.78 1562.38,1197.78 1666.37,1197.78 1770.37,1197.78 1874.37,1197.78 1978.37,1197.78 2082.36,1197.78 2186.36,1197.78 \n",
       "  2290.36,1197.78 \n",
       "  \"/>\n",
       "<polyline clip-path=\"url(#clip132)\" style=\"stroke:#3da44d; stroke-width:4; stroke-opacity:1; fill:none\" points=\"\n",
       "  210.409,1197.78 314.406,669.889 418.404,369.047 522.401,245.147 626.399,253.2 730.396,353.334 834.393,510.792 938.391,695.933 1042.39,884.231 1146.39,1056.28 \n",
       "  1250.38,1197.78 1354.38,1299.55 1458.38,1357.54 1562.38,1372.79 1666.37,1351.47 1770.37,1304.88 1874.37,1249.4 1978.37,1206.56 2082.36,1202.98 2186.36,1270.41 \n",
       "  2290.36,1445.72 \n",
       "  \"/>\n",
       "<path clip-path=\"url(#clip130)\" d=\"\n",
       "M1989.16 372.684 L2280.76 372.684 L2280.76 130.764 L1989.16 130.764  Z\n",
       "  \" fill=\"#ffffff\" fill-rule=\"evenodd\" fill-opacity=\"1\"/>\n",
       "<polyline clip-path=\"url(#clip130)\" style=\"stroke:#000000; stroke-width:4; stroke-opacity:1; fill:none\" points=\"\n",
       "  1989.16,372.684 2280.76,372.684 2280.76,130.764 1989.16,130.764 1989.16,372.684 \n",
       "  \"/>\n",
       "<polyline clip-path=\"url(#clip130)\" style=\"stroke:#009af9; stroke-width:4; stroke-opacity:1; fill:none\" points=\"\n",
       "  2013.16,191.244 2157.16,191.244 \n",
       "  \"/>\n",
       "<path clip-path=\"url(#clip130)\" d=\"M 0 0 M2195 210.931 Q2193.2 215.561 2191.48 216.973 Q2189.77 218.385 2186.9 218.385 L2183.5 218.385 L2183.5 214.82 L2186 214.82 Q2187.76 214.82 2188.73 213.987 Q2189.7 213.154 2190.88 210.052 L2191.65 208.107 L2181.16 182.598 L2185.67 182.598 L2193.77 202.876 L2201.88 182.598 L2206.39 182.598 L2195 210.931 Z\" fill=\"#000000\" fill-rule=\"evenodd\" fill-opacity=\"1\" /><path clip-path=\"url(#clip130)\" d=\"M 0 0 M2212.27 204.589 L2219.91 204.589 L2219.91 178.223 L2211.6 179.89 L2211.6 175.631 L2219.86 173.964 L2224.54 173.964 L2224.54 204.589 L2232.18 204.589 L2232.18 208.524 L2212.27 208.524 L2212.27 204.589 Z\" fill=\"#000000\" fill-rule=\"evenodd\" fill-opacity=\"1\" /><polyline clip-path=\"url(#clip130)\" style=\"stroke:#e26f46; stroke-width:4; stroke-opacity:1; fill:none\" points=\"\n",
       "  2013.16,251.724 2157.16,251.724 \n",
       "  \"/>\n",
       "<path clip-path=\"url(#clip130)\" d=\"M 0 0 M2195 271.411 Q2193.2 276.041 2191.48 277.453 Q2189.77 278.865 2186.9 278.865 L2183.5 278.865 L2183.5 275.3 L2186 275.3 Q2187.76 275.3 2188.73 274.467 Q2189.7 273.634 2190.88 270.532 L2191.65 268.587 L2181.16 243.078 L2185.67 243.078 L2193.77 263.356 L2201.88 243.078 L2206.39 243.078 L2195 271.411 Z\" fill=\"#000000\" fill-rule=\"evenodd\" fill-opacity=\"1\" /><path clip-path=\"url(#clip130)\" d=\"M 0 0 M2215.49 265.069 L2231.81 265.069 L2231.81 269.004 L2209.86 269.004 L2209.86 265.069 Q2212.52 262.314 2217.11 257.685 Q2221.71 253.032 2222.89 251.689 Q2225.14 249.166 2226.02 247.43 Q2226.92 245.671 2226.92 243.981 Q2226.92 241.226 2224.98 239.49 Q2223.06 237.754 2219.96 237.754 Q2217.76 237.754 2215.3 238.518 Q2212.87 239.282 2210.09 240.833 L2210.09 236.111 Q2212.92 234.976 2215.37 234.398 Q2217.83 233.819 2219.86 233.819 Q2225.23 233.819 2228.43 236.504 Q2231.62 239.189 2231.62 243.68 Q2231.62 245.81 2230.81 247.731 Q2230.02 249.629 2227.92 252.222 Q2227.34 252.893 2224.24 256.111 Q2221.14 259.305 2215.49 265.069 Z\" fill=\"#000000\" fill-rule=\"evenodd\" fill-opacity=\"1\" /><polyline clip-path=\"url(#clip130)\" style=\"stroke:#3da44d; stroke-width:4; stroke-opacity:1; fill:none\" points=\"\n",
       "  2013.16,312.204 2157.16,312.204 \n",
       "  \"/>\n",
       "<path clip-path=\"url(#clip130)\" d=\"M 0 0 M2195 331.891 Q2193.2 336.521 2191.48 337.933 Q2189.77 339.345 2186.9 339.345 L2183.5 339.345 L2183.5 335.78 L2186 335.78 Q2187.76 335.78 2188.73 334.947 Q2189.7 334.114 2190.88 331.012 L2191.65 329.067 L2181.16 303.558 L2185.67 303.558 L2193.77 323.836 L2201.88 303.558 L2206.39 303.558 L2195 331.891 Z\" fill=\"#000000\" fill-rule=\"evenodd\" fill-opacity=\"1\" /><path clip-path=\"url(#clip130)\" d=\"M 0 0 M2225.63 310.85 Q2228.98 311.568 2230.86 313.836 Q2232.76 316.105 2232.76 319.438 Q2232.76 324.554 2229.24 327.354 Q2225.72 330.155 2219.24 330.155 Q2217.06 330.155 2214.75 329.716 Q2212.46 329.299 2210 328.442 L2210 323.929 Q2211.95 325.063 2214.26 325.642 Q2216.58 326.22 2219.1 326.22 Q2223.5 326.22 2225.79 324.484 Q2228.1 322.748 2228.1 319.438 Q2228.1 316.382 2225.95 314.669 Q2223.82 312.933 2220 312.933 L2215.97 312.933 L2215.97 309.091 L2220.19 309.091 Q2223.64 309.091 2225.46 307.725 Q2227.29 306.336 2227.29 303.743 Q2227.29 301.081 2225.39 299.669 Q2223.52 298.234 2220 298.234 Q2218.08 298.234 2215.88 298.651 Q2213.68 299.068 2211.04 299.947 L2211.04 295.781 Q2213.71 295.04 2216.02 294.669 Q2218.36 294.299 2220.42 294.299 Q2225.74 294.299 2228.84 296.73 Q2231.95 299.137 2231.95 303.257 Q2231.95 306.128 2230.3 308.118 Q2228.66 310.086 2225.63 310.85 Z\" fill=\"#000000\" fill-rule=\"evenodd\" fill-opacity=\"1\" /></svg>\n"
      ]
     },
     "execution_count": 114,
     "metadata": {},
     "output_type": "execute_result"
    }
   ],
   "source": [
    "plot!( 0:0.05:1 , [value(p)(x => x1) for x1 in  0:0.05:1]  )"
   ]
  },
  {
   "cell_type": "markdown",
   "metadata": {},
   "source": [
    "The average of these two functions is a reasonable better guess. The average of the values is somewhat close to 0.5"
   ]
  },
  {
   "cell_type": "code",
   "execution_count": 110,
   "metadata": {},
   "outputs": [
    {
     "data": {
      "text/plain": [
       "0.25223733128248615"
      ]
     },
     "execution_count": 110,
     "metadata": {},
     "output_type": "execute_result"
    }
   ],
   "source": [
    "objective_value(model)"
   ]
  },
  {
   "cell_type": "code",
   "execution_count": null,
   "metadata": {},
   "outputs": [],
   "source": []
  },
  {
   "cell_type": "code",
   "execution_count": 82,
   "metadata": {},
   "outputs": [
    {
     "data": {
      "text/plain": [
       "integrate (generic function with 3 methods)"
      ]
     },
     "execution_count": 82,
     "metadata": {},
     "output_type": "execute_result"
    }
   ],
   "source": []
  },
  {
   "cell_type": "code",
   "execution_count": 176,
   "metadata": {},
   "outputs": [
    {
     "data": {
      "text/plain": [
       "cheb (generic function with 1 method)"
      ]
     },
     "execution_count": 176,
     "metadata": {},
     "output_type": "execute_result"
    }
   ],
   "source": [
    "function cheb(n, x)\n",
    "    if n == 0\n",
    "        return one(typeof(x))\n",
    "    elseif n == 1\n",
    "        return x\n",
    "    else\n",
    "        acc1 = 1\n",
    "        acc2 = x\n",
    "        for m in 2:n\n",
    "            temp = 2 * x * acc2 - acc1\n",
    "            acc1 = acc2\n",
    "            acc2 = temp\n",
    "        end\n",
    "\n",
    "        return acc2\n",
    "    end\n",
    "end"
   ]
  },
  {
   "cell_type": "code",
   "execution_count": 131,
   "metadata": {},
   "outputs": [
    {
     "data": {
      "text/latex": [
       "$$ 8x^{4} - 8x^{2} + 1 $$"
      ],
      "text/plain": [
       "8x⁴ - 8x² + 1"
      ]
     },
     "execution_count": 131,
     "metadata": {},
     "output_type": "execute_result"
    }
   ],
   "source": [
    "cheb(4,x)"
   ]
  },
  {
   "cell_type": "code",
   "execution_count": 374,
   "metadata": {
    "collapsed": true,
    "jupyter": {
     "outputs_hidden": true
    }
   },
   "outputs": [
    {
     "name": "stdout",
     "output_type": "stream",
     "text": [
      "\t.text\n",
      "; ┌ @ In[176]:2 within `cheb'\n",
      "\tpushq\t%rbp\n",
      "\tmovq\t%rsp, %rbp\n",
      "\tpushq\t%r15\n",
      "\tpushq\t%r14\n",
      "\tpushq\t%r13\n",
      "\tpushq\t%r12\n",
      "\tpushq\t%rbx\n",
      "\tandq\t$-32, %rsp\n",
      "\tsubq\t$128, %rsp\n",
      "\tvxorps\t%xmm0, %xmm0, %xmm0\n",
      "\tmovq\t$0, 64(%rsp)\n",
      "\tmovq\t%fs:0, %rax\n",
      "\tleaq\t-15712(%rax), %rbx\n",
      "\tmovq\t%rsi, %r15\n",
      "\tcmpq\t$1, %rdi\n",
      "\tleaq\t32(%rsp), %rdx\n",
      "\tvmovaps\t%ymm0, 32(%rsp)\n",
      "\tmovq\t$12, 32(%rsp)\n",
      "\tmovq\t%rbx, 96(%rsp)\n",
      "\tmovq\t-15712(%rax), %rcx\n",
      "\tmovq\t%rcx, 40(%rsp)\n",
      "\tmovq\t%rdx, -15712(%rax)\n",
      "\tje\tL243\n",
      "\ttestq\t%rdi, %rdi\n",
      "\tjne\tL251\n",
      "\tmovabsq\t$140049940008016, %rdi  # imm = 0x7F5FEAECCC50\n",
      "\tmovabsq\t$jl_alloc_array_1d, %r14\n",
      "; │ @ In[176]:3 within `cheb'\n",
      "; │┌ @ monomial.jl:130 within `one'\n",
      "; ││┌ @ DynamicPolynomials.jl:26 within `constantmonomial'\n",
      "; │││┌ @ mono.jl:23 within `Monomial'\n",
      "; ││││┌ @ array.jl:394 within `getindex'\n",
      "; │││││┌ @ boot.jl:424 within `Array' @ boot.jl:405\n",
      "\txorl\t%esi, %esi\n",
      "\tvzeroupper\n",
      "\tcallq\t*%r14\n",
      "\tmovabsq\t$jl_system_image_data, %rdi\n",
      "\txorl\t%esi, %esi\n",
      "\tmovq\t%rax, %r15\n",
      "\tmovq\t%rax, 48(%rsp)\n",
      "\tcallq\t*%r14\n",
      "; ││││└└\n",
      "; ││││ @ mono.jl:23 within `Monomial' @ mono.jl:13\n",
      "; ││││┌ @ array.jl:221 within `length'\n",
      "\tmovq\t8(%r15), %rcx\n",
      "; ││││└\n",
      "; ││││ @ mono.jl:23 within `Monomial'\n",
      "; ││││┌ @ array.jl:394 within `getindex'\n",
      "; │││││┌ @ boot.jl:424 within `Array' @ boot.jl:405\n",
      "\tmovq\t%rax, %r14\n",
      "; ││││└└\n",
      "; ││││ @ mono.jl:23 within `Monomial' @ mono.jl:13\n",
      "; ││││┌ @ operators.jl:193 within `!='\n",
      "; │││││┌ @ promotion.jl:398 within `=='\n",
      "\tcmpq\t8(%r14), %rcx\n",
      "; ││││└└\n",
      "\tjne\tL461\n",
      "; ││││ @ mono.jl:23 within `Monomial' @ mono.jl:16\n",
      "\tmovabsq\t$jl_gc_pool_alloc, %rax\n",
      "\tmovq\t%rbx, %rdi\n",
      "\tmovl\t$1424, %esi             # imm = 0x590\n",
      "\tmovl\t$32, %edx\n",
      "\tmovq\t%r14, 56(%rsp)\n",
      "\tcallq\t*%rax\n",
      "\tmovabsq\t$140049940008464, %rcx  # imm = 0x7F5FEAECCE10\n",
      "\tmovq\t%rcx, -8(%rax)\n",
      "\tmovq\t%r15, (%rax)\n",
      "\tmovq\t%r14, 8(%rax)\n",
      "\tjmp\tL430\n",
      "; └└└└\n",
      "; ┌ @ mono.jl within `cheb'\n",
      "L243:\n",
      "\tmovq\t%r15, %rax\n",
      "\tjmp\tL430\n",
      "L251:\n",
      "\tmovl\t$1, %r14d\n",
      "; └\n",
      "; ┌ @ In[176]:9 within `cheb'\n",
      "; │┌ @ range.jl:5 within `Colon'\n",
      "; ││┌ @ range.jl:277 within `UnitRange'\n",
      "; │││┌ @ range.jl:282 within `unitrange_last'\n",
      "\tcmovgq\t%rdi, %r14\n",
      "; ││││┌ @ operators.jl:341 within `>='\n",
      "; │││││┌ @ int.jl:410 within `<='\n",
      "\tcmpq\t$2, %rdi\n",
      "; │└└└└└\n",
      "\tjl\tL427\n",
      "\tdecq\t%r14\n",
      "\tmovabsq\t$140050915954784, %r13  # imm = 0x7F6025189060\n",
      "\tmovq\t%r15, %r12\n",
      "\tmovabsq\t$jl_apply_generic, %rbx\n",
      "\tnopl\t(%rax)\n",
      "; │ @ In[176]:10 within `cheb'\n",
      "; │┌ @ operators.jl:529 within `*' @ operators.jl:46\n",
      "L304:\n",
      "\tmovl\t$2, %edi\n",
      "\tmovq\t%r15, %rsi\n",
      "\tmovabsq\t$multconstant, %rax\n",
      "\tmovq\t%r13, 64(%rsp)\n",
      "\tmovq\t%r12, 48(%rsp)\n",
      "\tvzeroupper\n",
      "\tcallq\t*%rax\n",
      "\tleaq\t16(%rsp), %rcx\n",
      "; ││ @ operators.jl:529 within `*'\n",
      "\tmovabsq\t$jl_system_image_data, %rdi\n",
      "\tmovl\t$2, %edx\n",
      "\tmovq\t%rax, 16(%rsp)\n",
      "\tmovq\t%rax, 56(%rsp)\n",
      "\tmovq\t%r12, 24(%rsp)\n",
      "\tmovq\t%rcx, %rsi\n",
      "\tcallq\t*%rbx\n",
      "; │└\n",
      "\tmovabsq\t$jl_system_image_data, %rdi\n",
      "\tleaq\t16(%rsp), %rsi\n",
      "\tmovl\t$2, %edx\n",
      "\tmovq\t%rax, 16(%rsp)\n",
      "\tmovq\t%rax, 56(%rsp)\n",
      "\tmovq\t%r13, 24(%rsp)\n",
      "\tcallq\t*%rbx\n",
      "\tmovq\t%r12, %r13\n",
      "\tmovq\t%rax, %r12\n",
      "; │ @ In[176]:12 within `cheb'\n",
      "; │┌ @ range.jl:597 within `iterate'\n",
      "; ││┌ @ promotion.jl:398 within `=='\n",
      "\tdecq\t%r14\n",
      "; │└└\n",
      "\tjne\tL304\n",
      "\tjmp\tL430\n",
      "L427:\n",
      "\tmovq\t%r15, %rax\n",
      "L430:\n",
      "\tmovq\t40(%rsp), %rcx\n",
      "\tmovq\t96(%rsp), %rdx\n",
      "\tmovq\t%rcx, (%rdx)\n",
      "; │ @ In[176]:3 within `cheb'\n",
      "\tleaq\t-40(%rbp), %rsp\n",
      "\tpopq\t%rbx\n",
      "\tpopq\t%r12\n",
      "\tpopq\t%r13\n",
      "\tpopq\t%r14\n",
      "\tpopq\t%r15\n",
      "\tpopq\t%rbp\n",
      "\tvzeroupper\n",
      "\tretq\n",
      "; │┌ @ monomial.jl:130 within `one'\n",
      "; ││┌ @ DynamicPolynomials.jl:26 within `constantmonomial'\n",
      "; │││┌ @ mono.jl:23 within `Monomial' @ mono.jl:14\n",
      "; ││││┌ @ boot.jl:288 within `ArgumentError'\n",
      "L461:\n",
      "\tmovabsq\t$jl_gc_pool_alloc, %rax\n",
      "\tmovq\t%rbx, %rdi\n",
      "\tmovl\t$1400, %esi             # imm = 0x578\n",
      "\tmovl\t$16, %edx\n",
      "\tcallq\t*%rax\n",
      "\tmovabsq\t$jl_system_image_data, %rcx\n",
      "\tmovabsq\t$140049830946704, %rdx  # imm = 0x7F5FE46CA790\n",
      "; ││││└\n",
      "\tmovq\t%rax, %rdi\n",
      "\tmovq\t%rax, 48(%rsp)\n",
      "; ││││┌ @ boot.jl:288 within `ArgumentError'\n",
      "\tmovq\t%rcx, -8(%rax)\n",
      "; ││││└\n",
      "\tmovabsq\t$jl_throw, %rcx\n",
      "; ││││┌ @ boot.jl:288 within `ArgumentError'\n",
      "\tmovq\t%rdx, (%rax)\n",
      "; ││││└\n",
      "\tcallq\t*%rcx\n",
      "\tnopw\t%cs:(%rax,%rax)\n",
      "; └└└└\n"
     ]
    }
   ],
   "source": [
    "@code_native( cheb(4,x))"
   ]
  },
  {
   "cell_type": "code",
   "execution_count": 136,
   "metadata": {},
   "outputs": [
    {
     "ename": "MethodError",
     "evalue": "MethodError: no method matching FixedPolynomialBasis(::Array{Any,1})\nClosest candidates are:\n  FixedPolynomialBasis(!Matched::PV) where {PT<:AbstractPolynomialLike, PV<:AbstractArray{PT,1}} at /home/philip/.julia/packages/MultivariateBases/KKez4/src/fixed.jl:41",
     "output_type": "error",
     "traceback": [
      "MethodError: no method matching FixedPolynomialBasis(::Array{Any,1})\nClosest candidates are:\n  FixedPolynomialBasis(!Matched::PV) where {PT<:AbstractPolynomialLike, PV<:AbstractArray{PT,1}} at /home/philip/.julia/packages/MultivariateBases/KKez4/src/fixed.jl:41",
      "",
      "Stacktrace:",
      " [1] top-level scope at In[136]:8"
     ]
    }
   ],
   "source": [
    "# minimax optimization around inidcator function\n",
    "# build minimax condition relaxed to only \n",
    "# minimax is almost certainly going to occur at transition point though\n",
    "# ok in pricnple, but actuall because of the s relaxation, the transition is smoother than that\n",
    "@polyvar x\n",
    "g = x * (0.5 - x) # relaxation\n",
    "f = x * (1 - x) \n",
    "X =  FixedPolynomialBasis([cheb(n,x) for n in 0:4])\n",
    "model = SOSModel(with_optimizer(CSDP.Optimizer))\n",
    "@variable(model, γ)\n",
    "@variable(model, p, Poly(X))\n",
    "@variable(model, l1, SOSPoly(X))\n",
    "@variable(model, l2, SOSPoly(X))\n",
    "@constraint(model, p <= -l1 * f + 1)\n",
    "@constraint(model, p <= l2 * g)\n",
    "@objective(model, Max, integrate(p, x, 0, 1))\n",
    "optimize!(model)\n",
    "\n",
    "# The lower bound found is 3\n",
    "println(objective_value(model))"
   ]
  },
  {
   "cell_type": "code",
   "execution_count": 135,
   "metadata": {},
   "outputs": [
    {
     "data": {
      "text/plain": [
       "4-element MonomialVector{true}:\n",
       " x³\n",
       " x²\n",
       " x\n",
       " 1"
      ]
     },
     "execution_count": 135,
     "metadata": {},
     "output_type": "execute_result"
    }
   ],
   "source": [
    "monomials([x], 0:3)"
   ]
  },
  {
   "cell_type": "code",
   "execution_count": 138,
   "metadata": {},
   "outputs": [
    {
     "data": {
      "text/plain": [
       "5-element Array{Any,1}:\n",
       " 1\n",
       "  x\n",
       "  2x² - 1\n",
       "  4x³ - 3x\n",
       "  8x⁴ - 8x² + 1"
      ]
     },
     "execution_count": 138,
     "metadata": {},
     "output_type": "execute_result"
    }
   ],
   "source": [
    "X =  [cheb(n,x) for n in 0:4]"
   ]
  },
  {
   "cell_type": "code",
   "execution_count": 139,
   "metadata": {},
   "outputs": [
    {
     "name": "stderr",
     "output_type": "stream",
     "text": [
      "┌ Info: Precompiling Cbc [9961bab8-2fa3-5c5a-9d89-47fab24efd76]\n",
      "└ @ Base loading.jl:1260\n"
     ]
    }
   ],
   "source": [
    "using JuMP\n",
    "using Cbc"
   ]
  },
  {
   "cell_type": "code",
   "execution_count": 148,
   "metadata": {},
   "outputs": [
    {
     "data": {
      "text/latex": [
       "$$ \\begin{alignat*}{1}\\text{feasibility}\\\\\n",
       "\\text{Subject to} \\quad\\end{alignat*}\n",
       " $$"
      ],
      "text/plain": [
       "A JuMP Model\n",
       "Feasibility problem with:\n",
       "Variables: 0\n",
       "Model mode: AUTOMATIC\n",
       "CachingOptimizer state: EMPTY_OPTIMIZER\n",
       "Solver name: COIN Branch-and-Cut (Cbc)"
      ]
     },
     "execution_count": 148,
     "metadata": {},
     "output_type": "execute_result"
    }
   ],
   "source": [
    "model = Model(Cbc.Optimizer)"
   ]
  },
  {
   "cell_type": "code",
   "execution_count": 177,
   "metadata": {},
   "outputs": [
    {
     "data": {
      "text/plain": [
       "5-element Array{Polynomial{true,Int64},1}:\n",
       " 2\n",
       " x + 1\n",
       " 2x²\n",
       " 4x³ - 3x + 1\n",
       " 8x⁴ - 8x² + 2"
      ]
     },
     "execution_count": 177,
     "metadata": {},
     "output_type": "execute_result"
    }
   ],
   "source": [
    "\n",
    "\n",
    "\n",
    "\n"
   ]
  },
  {
   "cell_type": "code",
   "execution_count": 355,
   "metadata": {},
   "outputs": [
    {
     "data": {
      "image/svg+xml": [
       "<?xml version=\"1.0\" encoding=\"utf-8\"?>\n",
       "<svg xmlns=\"http://www.w3.org/2000/svg\" xmlns:xlink=\"http://www.w3.org/1999/xlink\" width=\"600\" height=\"400\" viewBox=\"0 0 2400 1600\">\n",
       "<defs>\n",
       "  <clipPath id=\"clip050\">\n",
       "    <rect x=\"0\" y=\"0\" width=\"2400\" height=\"1600\"/>\n",
       "  </clipPath>\n",
       "</defs>\n",
       "<path clip-path=\"url(#clip050)\" d=\"\n",
       "M0 1600 L2400 1600 L2400 0 L0 0  Z\n",
       "  \" fill=\"#ffffff\" fill-rule=\"evenodd\" fill-opacity=\"1\"/>\n",
       "<defs>\n",
       "  <clipPath id=\"clip051\">\n",
       "    <rect x=\"480\" y=\"0\" width=\"1681\" height=\"1600\"/>\n",
       "  </clipPath>\n",
       "</defs>\n",
       "<path clip-path=\"url(#clip050)\" d=\"\n",
       "M147.848 1486.45 L2352.76 1486.45 L2352.76 47.2441 L147.848 47.2441  Z\n",
       "  \" fill=\"#ffffff\" fill-rule=\"evenodd\" fill-opacity=\"1\"/>\n",
       "<defs>\n",
       "  <clipPath id=\"clip052\">\n",
       "    <rect x=\"147\" y=\"47\" width=\"2206\" height=\"1440\"/>\n",
       "  </clipPath>\n",
       "</defs>\n",
       "<polyline clip-path=\"url(#clip052)\" style=\"stroke:#000000; stroke-width:2; stroke-opacity:0.1; fill:none\" points=\"\n",
       "  210.251,1486.45 210.251,47.2441 \n",
       "  \"/>\n",
       "<polyline clip-path=\"url(#clip052)\" style=\"stroke:#000000; stroke-width:2; stroke-opacity:0.1; fill:none\" points=\"\n",
       "  730.277,1486.45 730.277,47.2441 \n",
       "  \"/>\n",
       "<polyline clip-path=\"url(#clip052)\" style=\"stroke:#000000; stroke-width:2; stroke-opacity:0.1; fill:none\" points=\"\n",
       "  1250.3,1486.45 1250.3,47.2441 \n",
       "  \"/>\n",
       "<polyline clip-path=\"url(#clip052)\" style=\"stroke:#000000; stroke-width:2; stroke-opacity:0.1; fill:none\" points=\"\n",
       "  1770.33,1486.45 1770.33,47.2441 \n",
       "  \"/>\n",
       "<polyline clip-path=\"url(#clip052)\" style=\"stroke:#000000; stroke-width:2; stroke-opacity:0.1; fill:none\" points=\"\n",
       "  2290.35,1486.45 2290.35,47.2441 \n",
       "  \"/>\n",
       "<polyline clip-path=\"url(#clip052)\" style=\"stroke:#000000; stroke-width:2; stroke-opacity:0.1; fill:none\" points=\"\n",
       "  147.848,1445.72 2352.76,1445.72 \n",
       "  \"/>\n",
       "<polyline clip-path=\"url(#clip052)\" style=\"stroke:#000000; stroke-width:2; stroke-opacity:0.1; fill:none\" points=\"\n",
       "  147.848,1106.28 2352.76,1106.28 \n",
       "  \"/>\n",
       "<polyline clip-path=\"url(#clip052)\" style=\"stroke:#000000; stroke-width:2; stroke-opacity:0.1; fill:none\" points=\"\n",
       "  147.848,766.846 2352.76,766.846 \n",
       "  \"/>\n",
       "<polyline clip-path=\"url(#clip052)\" style=\"stroke:#000000; stroke-width:2; stroke-opacity:0.1; fill:none\" points=\"\n",
       "  147.848,427.411 2352.76,427.411 \n",
       "  \"/>\n",
       "<polyline clip-path=\"url(#clip052)\" style=\"stroke:#000000; stroke-width:2; stroke-opacity:0.1; fill:none\" points=\"\n",
       "  147.848,87.9763 2352.76,87.9763 \n",
       "  \"/>\n",
       "<polyline clip-path=\"url(#clip050)\" style=\"stroke:#000000; stroke-width:4; stroke-opacity:1; fill:none\" points=\"\n",
       "  147.848,1486.45 2352.76,1486.45 \n",
       "  \"/>\n",
       "<polyline clip-path=\"url(#clip050)\" style=\"stroke:#000000; stroke-width:4; stroke-opacity:1; fill:none\" points=\"\n",
       "  147.848,1486.45 147.848,47.2441 \n",
       "  \"/>\n",
       "<polyline clip-path=\"url(#clip050)\" style=\"stroke:#000000; stroke-width:4; stroke-opacity:1; fill:none\" points=\"\n",
       "  210.251,1486.45 210.251,1469.18 \n",
       "  \"/>\n",
       "<polyline clip-path=\"url(#clip050)\" style=\"stroke:#000000; stroke-width:4; stroke-opacity:1; fill:none\" points=\"\n",
       "  730.277,1486.45 730.277,1469.18 \n",
       "  \"/>\n",
       "<polyline clip-path=\"url(#clip050)\" style=\"stroke:#000000; stroke-width:4; stroke-opacity:1; fill:none\" points=\"\n",
       "  1250.3,1486.45 1250.3,1469.18 \n",
       "  \"/>\n",
       "<polyline clip-path=\"url(#clip050)\" style=\"stroke:#000000; stroke-width:4; stroke-opacity:1; fill:none\" points=\"\n",
       "  1770.33,1486.45 1770.33,1469.18 \n",
       "  \"/>\n",
       "<polyline clip-path=\"url(#clip050)\" style=\"stroke:#000000; stroke-width:4; stroke-opacity:1; fill:none\" points=\"\n",
       "  2290.35,1486.45 2290.35,1469.18 \n",
       "  \"/>\n",
       "<polyline clip-path=\"url(#clip050)\" style=\"stroke:#000000; stroke-width:4; stroke-opacity:1; fill:none\" points=\"\n",
       "  147.848,1445.72 174.307,1445.72 \n",
       "  \"/>\n",
       "<polyline clip-path=\"url(#clip050)\" style=\"stroke:#000000; stroke-width:4; stroke-opacity:1; fill:none\" points=\"\n",
       "  147.848,1106.28 174.307,1106.28 \n",
       "  \"/>\n",
       "<polyline clip-path=\"url(#clip050)\" style=\"stroke:#000000; stroke-width:4; stroke-opacity:1; fill:none\" points=\"\n",
       "  147.848,766.846 174.307,766.846 \n",
       "  \"/>\n",
       "<polyline clip-path=\"url(#clip050)\" style=\"stroke:#000000; stroke-width:4; stroke-opacity:1; fill:none\" points=\"\n",
       "  147.848,427.411 174.307,427.411 \n",
       "  \"/>\n",
       "<polyline clip-path=\"url(#clip050)\" style=\"stroke:#000000; stroke-width:4; stroke-opacity:1; fill:none\" points=\"\n",
       "  147.848,87.9763 174.307,87.9763 \n",
       "  \"/>\n",
       "<path clip-path=\"url(#clip050)\" d=\"M 0 0 M172.636 1525.04 L185.113 1525.04 L185.113 1528.83 L172.636 1528.83 L172.636 1525.04 Z\" fill=\"#000000\" fill-rule=\"evenodd\" fill-opacity=\"1\" /><path clip-path=\"url(#clip050)\" d=\"M 0 0 M190.992 1535.98 L198.631 1535.98 L198.631 1509.62 L190.321 1511.29 L190.321 1507.03 L198.585 1505.36 L203.261 1505.36 L203.261 1535.98 L210.899 1535.98 L210.899 1539.92 L190.992 1539.92 L190.992 1535.98 Z\" fill=\"#000000\" fill-rule=\"evenodd\" fill-opacity=\"1\" /><path clip-path=\"url(#clip050)\" d=\"M 0 0 M215.969 1534.04 L220.853 1534.04 L220.853 1539.92 L215.969 1539.92 L215.969 1534.04 Z\" fill=\"#000000\" fill-rule=\"evenodd\" fill-opacity=\"1\" /><path clip-path=\"url(#clip050)\" d=\"M 0 0 M235.922 1508.44 Q232.311 1508.44 230.483 1512 Q228.677 1515.55 228.677 1522.67 Q228.677 1529.78 230.483 1533.35 Q232.311 1536.89 235.922 1536.89 Q239.557 1536.89 241.362 1533.35 Q243.191 1529.78 243.191 1522.67 Q243.191 1515.55 241.362 1512 Q239.557 1508.44 235.922 1508.44 M235.922 1504.73 Q241.733 1504.73 244.788 1509.34 Q247.867 1513.92 247.867 1522.67 Q247.867 1531.4 244.788 1536.01 Q241.733 1540.59 235.922 1540.59 Q230.112 1540.59 227.034 1536.01 Q223.978 1531.4 223.978 1522.67 Q223.978 1513.92 227.034 1509.34 Q230.112 1504.73 235.922 1504.73 Z\" fill=\"#000000\" fill-rule=\"evenodd\" fill-opacity=\"1\" /><path clip-path=\"url(#clip050)\" d=\"M 0 0 M692.545 1525.04 L705.022 1525.04 L705.022 1528.83 L692.545 1528.83 L692.545 1525.04 Z\" fill=\"#000000\" fill-rule=\"evenodd\" fill-opacity=\"1\" /><path clip-path=\"url(#clip050)\" d=\"M 0 0 M720.092 1508.44 Q716.48 1508.44 714.652 1512 Q712.846 1515.55 712.846 1522.67 Q712.846 1529.78 714.652 1533.35 Q716.48 1536.89 720.092 1536.89 Q723.726 1536.89 725.531 1533.35 Q727.36 1529.78 727.36 1522.67 Q727.36 1515.55 725.531 1512 Q723.726 1508.44 720.092 1508.44 M720.092 1504.73 Q725.902 1504.73 728.957 1509.34 Q732.036 1513.92 732.036 1522.67 Q732.036 1531.4 728.957 1536.01 Q725.902 1540.59 720.092 1540.59 Q714.281 1540.59 711.203 1536.01 Q708.147 1531.4 708.147 1522.67 Q708.147 1513.92 711.203 1509.34 Q714.281 1504.73 720.092 1504.73 Z\" fill=\"#000000\" fill-rule=\"evenodd\" fill-opacity=\"1\" /><path clip-path=\"url(#clip050)\" d=\"M 0 0 M737.105 1534.04 L741.99 1534.04 L741.99 1539.92 L737.105 1539.92 L737.105 1534.04 Z\" fill=\"#000000\" fill-rule=\"evenodd\" fill-opacity=\"1\" /><path clip-path=\"url(#clip050)\" d=\"M 0 0 M747.105 1505.36 L765.462 1505.36 L765.462 1509.3 L751.388 1509.3 L751.388 1517.77 Q752.406 1517.42 753.425 1517.26 Q754.443 1517.07 755.462 1517.07 Q761.249 1517.07 764.628 1520.24 Q768.008 1523.42 768.008 1528.83 Q768.008 1534.41 764.536 1537.51 Q761.064 1540.59 754.744 1540.59 Q752.568 1540.59 750.3 1540.22 Q748.054 1539.85 745.647 1539.11 L745.647 1534.41 Q747.73 1535.54 749.953 1536.1 Q752.175 1536.66 754.652 1536.66 Q758.656 1536.66 760.994 1534.55 Q763.332 1532.44 763.332 1528.83 Q763.332 1525.22 760.994 1523.11 Q758.656 1521.01 754.652 1521.01 Q752.777 1521.01 750.902 1521.42 Q749.05 1521.84 747.105 1522.72 L747.105 1505.36 Z\" fill=\"#000000\" fill-rule=\"evenodd\" fill-opacity=\"1\" /><path clip-path=\"url(#clip050)\" d=\"M 0 0 M1231.82 1508.44 Q1228.21 1508.44 1226.38 1512 Q1224.57 1515.55 1224.57 1522.67 Q1224.57 1529.78 1226.38 1533.35 Q1228.21 1536.89 1231.82 1536.89 Q1235.45 1536.89 1237.26 1533.35 Q1239.09 1529.78 1239.09 1522.67 Q1239.09 1515.55 1237.26 1512 Q1235.45 1508.44 1231.82 1508.44 M1231.82 1504.73 Q1237.63 1504.73 1240.68 1509.34 Q1243.76 1513.92 1243.76 1522.67 Q1243.76 1531.4 1240.68 1536.01 Q1237.63 1540.59 1231.82 1540.59 Q1226.01 1540.59 1222.93 1536.01 Q1219.87 1531.4 1219.87 1522.67 Q1219.87 1513.92 1222.93 1509.34 Q1226.01 1504.73 1231.82 1504.73 Z\" fill=\"#000000\" fill-rule=\"evenodd\" fill-opacity=\"1\" /><path clip-path=\"url(#clip050)\" d=\"M 0 0 M1248.83 1534.04 L1253.72 1534.04 L1253.72 1539.92 L1248.83 1539.92 L1248.83 1534.04 Z\" fill=\"#000000\" fill-rule=\"evenodd\" fill-opacity=\"1\" /><path clip-path=\"url(#clip050)\" d=\"M 0 0 M1268.79 1508.44 Q1265.17 1508.44 1263.35 1512 Q1261.54 1515.55 1261.54 1522.67 Q1261.54 1529.78 1263.35 1533.35 Q1265.17 1536.89 1268.79 1536.89 Q1272.42 1536.89 1274.23 1533.35 Q1276.05 1529.78 1276.05 1522.67 Q1276.05 1515.55 1274.23 1512 Q1272.42 1508.44 1268.79 1508.44 M1268.79 1504.73 Q1274.6 1504.73 1277.65 1509.34 Q1280.73 1513.92 1280.73 1522.67 Q1280.73 1531.4 1277.65 1536.01 Q1274.6 1540.59 1268.79 1540.59 Q1262.98 1540.59 1259.9 1536.01 Q1256.84 1531.4 1256.84 1522.67 Q1256.84 1513.92 1259.9 1509.34 Q1262.98 1504.73 1268.79 1504.73 Z\" fill=\"#000000\" fill-rule=\"evenodd\" fill-opacity=\"1\" /><path clip-path=\"url(#clip050)\" d=\"M 0 0 M1752.34 1508.44 Q1748.73 1508.44 1746.9 1512 Q1745.1 1515.55 1745.1 1522.67 Q1745.1 1529.78 1746.9 1533.35 Q1748.73 1536.89 1752.34 1536.89 Q1755.98 1536.89 1757.78 1533.35 Q1759.61 1529.78 1759.61 1522.67 Q1759.61 1515.55 1757.78 1512 Q1755.98 1508.44 1752.34 1508.44 M1752.34 1504.73 Q1758.15 1504.73 1761.21 1509.34 Q1764.29 1513.92 1764.29 1522.67 Q1764.29 1531.4 1761.21 1536.01 Q1758.15 1540.59 1752.34 1540.59 Q1746.53 1540.59 1743.45 1536.01 Q1740.4 1531.4 1740.4 1522.67 Q1740.4 1513.92 1743.45 1509.34 Q1746.53 1504.73 1752.34 1504.73 Z\" fill=\"#000000\" fill-rule=\"evenodd\" fill-opacity=\"1\" /><path clip-path=\"url(#clip050)\" d=\"M 0 0 M1769.36 1534.04 L1774.24 1534.04 L1774.24 1539.92 L1769.36 1539.92 L1769.36 1534.04 Z\" fill=\"#000000\" fill-rule=\"evenodd\" fill-opacity=\"1\" /><path clip-path=\"url(#clip050)\" d=\"M 0 0 M1779.36 1505.36 L1797.71 1505.36 L1797.71 1509.3 L1783.64 1509.3 L1783.64 1517.77 Q1784.66 1517.42 1785.67 1517.26 Q1786.69 1517.07 1787.71 1517.07 Q1793.5 1517.07 1796.88 1520.24 Q1800.26 1523.42 1800.26 1528.83 Q1800.26 1534.41 1796.79 1537.51 Q1793.31 1540.59 1786.99 1540.59 Q1784.82 1540.59 1782.55 1540.22 Q1780.3 1539.85 1777.9 1539.11 L1777.9 1534.41 Q1779.98 1535.54 1782.2 1536.1 Q1784.42 1536.66 1786.9 1536.66 Q1790.91 1536.66 1793.24 1534.55 Q1795.58 1532.44 1795.58 1528.83 Q1795.58 1525.22 1793.24 1523.11 Q1790.91 1521.01 1786.9 1521.01 Q1785.03 1521.01 1783.15 1521.42 Q1781.3 1521.84 1779.36 1522.72 L1779.36 1505.36 Z\" fill=\"#000000\" fill-rule=\"evenodd\" fill-opacity=\"1\" /><path clip-path=\"url(#clip050)\" d=\"M 0 0 M2262.25 1535.98 L2269.89 1535.98 L2269.89 1509.62 L2261.58 1511.29 L2261.58 1507.03 L2269.84 1505.36 L2274.52 1505.36 L2274.52 1535.98 L2282.16 1535.98 L2282.16 1539.92 L2262.25 1539.92 L2262.25 1535.98 Z\" fill=\"#000000\" fill-rule=\"evenodd\" fill-opacity=\"1\" /><path clip-path=\"url(#clip050)\" d=\"M 0 0 M2287.23 1534.04 L2292.11 1534.04 L2292.11 1539.92 L2287.23 1539.92 L2287.23 1534.04 Z\" fill=\"#000000\" fill-rule=\"evenodd\" fill-opacity=\"1\" /><path clip-path=\"url(#clip050)\" d=\"M 0 0 M2307.18 1508.44 Q2303.57 1508.44 2301.74 1512 Q2299.94 1515.55 2299.94 1522.67 Q2299.94 1529.78 2301.74 1533.35 Q2303.57 1536.89 2307.18 1536.89 Q2310.82 1536.89 2312.62 1533.35 Q2314.45 1529.78 2314.45 1522.67 Q2314.45 1515.55 2312.62 1512 Q2310.82 1508.44 2307.18 1508.44 M2307.18 1504.73 Q2312.99 1504.73 2316.05 1509.34 Q2319.13 1513.92 2319.13 1522.67 Q2319.13 1531.4 2316.05 1536.01 Q2312.99 1540.59 2307.18 1540.59 Q2301.37 1540.59 2298.29 1536.01 Q2295.24 1531.4 2295.24 1522.67 Q2295.24 1513.92 2298.29 1509.34 Q2301.37 1504.73 2307.18 1504.73 Z\" fill=\"#000000\" fill-rule=\"evenodd\" fill-opacity=\"1\" /><path clip-path=\"url(#clip050)\" d=\"M 0 0 M74.9365 1431.51 Q71.3254 1431.51 69.4967 1435.08 Q67.6912 1438.62 67.6912 1445.75 Q67.6912 1452.86 69.4967 1456.42 Q71.3254 1459.96 74.9365 1459.96 Q78.5707 1459.96 80.3763 1456.42 Q82.205 1452.86 82.205 1445.75 Q82.205 1438.62 80.3763 1435.08 Q78.5707 1431.51 74.9365 1431.51 M74.9365 1427.81 Q80.7467 1427.81 83.8022 1432.42 Q86.8809 1437 86.8809 1445.75 Q86.8809 1454.48 83.8022 1459.08 Q80.7467 1463.67 74.9365 1463.67 Q69.1264 1463.67 66.0477 1459.08 Q62.9921 1454.48 62.9921 1445.75 Q62.9921 1437 66.0477 1432.42 Q69.1264 1427.81 74.9365 1427.81 Z\" fill=\"#000000\" fill-rule=\"evenodd\" fill-opacity=\"1\" /><path clip-path=\"url(#clip050)\" d=\"M 0 0 M91.9503 1457.12 L96.8345 1457.12 L96.8345 1463 L91.9503 1463 L91.9503 1457.12 Z\" fill=\"#000000\" fill-rule=\"evenodd\" fill-opacity=\"1\" /><path clip-path=\"url(#clip050)\" d=\"M 0 0 M111.904 1431.51 Q108.293 1431.51 106.464 1435.08 Q104.659 1438.62 104.659 1445.75 Q104.659 1452.86 106.464 1456.42 Q108.293 1459.96 111.904 1459.96 Q115.538 1459.96 117.344 1456.42 Q119.172 1452.86 119.172 1445.75 Q119.172 1438.62 117.344 1435.08 Q115.538 1431.51 111.904 1431.51 M111.904 1427.81 Q117.714 1427.81 120.77 1432.42 Q123.848 1437 123.848 1445.75 Q123.848 1454.48 120.77 1459.08 Q117.714 1463.67 111.904 1463.67 Q106.094 1463.67 103.015 1459.08 Q99.9595 1454.48 99.9595 1445.75 Q99.9595 1437 103.015 1432.42 Q106.094 1427.81 111.904 1427.81 Z\" fill=\"#000000\" fill-rule=\"evenodd\" fill-opacity=\"1\" /><path clip-path=\"url(#clip050)\" d=\"M 0 0 M75.9319 1092.08 Q72.3208 1092.08 70.4921 1095.64 Q68.6865 1099.19 68.6865 1106.32 Q68.6865 1113.42 70.4921 1116.99 Q72.3208 1120.53 75.9319 1120.53 Q79.5661 1120.53 81.3717 1116.99 Q83.2004 1113.42 83.2004 1106.32 Q83.2004 1099.19 81.3717 1095.64 Q79.5661 1092.08 75.9319 1092.08 M75.9319 1088.38 Q81.742 1088.38 84.7976 1092.98 Q87.8763 1097.57 87.8763 1106.32 Q87.8763 1115.04 84.7976 1119.65 Q81.742 1124.23 75.9319 1124.23 Q70.1217 1124.23 67.043 1119.65 Q63.9875 1115.04 63.9875 1106.32 Q63.9875 1097.57 67.043 1092.98 Q70.1217 1088.38 75.9319 1088.38 Z\" fill=\"#000000\" fill-rule=\"evenodd\" fill-opacity=\"1\" /><path clip-path=\"url(#clip050)\" d=\"M 0 0 M92.9457 1117.68 L97.8299 1117.68 L97.8299 1123.56 L92.9457 1123.56 L92.9457 1117.68 Z\" fill=\"#000000\" fill-rule=\"evenodd\" fill-opacity=\"1\" /><path clip-path=\"url(#clip050)\" d=\"M 0 0 M102.946 1089 L121.302 1089 L121.302 1092.94 L107.228 1092.94 L107.228 1101.41 Q108.247 1101.06 109.265 1100.9 Q110.284 1100.71 111.302 1100.71 Q117.089 1100.71 120.469 1103.89 Q123.848 1107.06 123.848 1112.47 Q123.848 1118.05 120.376 1121.15 Q116.904 1124.23 110.584 1124.23 Q108.409 1124.23 106.14 1123.86 Q103.895 1123.49 101.487 1122.75 L101.487 1118.05 Q103.571 1119.19 105.793 1119.74 Q108.015 1120.3 110.492 1120.3 Q114.496 1120.3 116.834 1118.19 Q119.172 1116.08 119.172 1112.47 Q119.172 1108.86 116.834 1106.76 Q114.496 1104.65 110.492 1104.65 Q108.617 1104.65 106.742 1105.07 Q104.89 1105.48 102.946 1106.36 L102.946 1089 Z\" fill=\"#000000\" fill-rule=\"evenodd\" fill-opacity=\"1\" /><path clip-path=\"url(#clip050)\" d=\"M 0 0 M66.9736 780.191 L74.6124 780.191 L74.6124 753.825 L66.3023 755.492 L66.3023 751.233 L74.5661 749.566 L79.242 749.566 L79.242 780.191 L86.8809 780.191 L86.8809 784.126 L66.9736 784.126 L66.9736 780.191 Z\" fill=\"#000000\" fill-rule=\"evenodd\" fill-opacity=\"1\" /><path clip-path=\"url(#clip050)\" d=\"M 0 0 M91.9503 778.246 L96.8345 778.246 L96.8345 784.126 L91.9503 784.126 L91.9503 778.246 Z\" fill=\"#000000\" fill-rule=\"evenodd\" fill-opacity=\"1\" /><path clip-path=\"url(#clip050)\" d=\"M 0 0 M111.904 752.645 Q108.293 752.645 106.464 756.209 Q104.659 759.751 104.659 766.881 Q104.659 773.987 106.464 777.552 Q108.293 781.094 111.904 781.094 Q115.538 781.094 117.344 777.552 Q119.172 773.987 119.172 766.881 Q119.172 759.751 117.344 756.209 Q115.538 752.645 111.904 752.645 M111.904 748.941 Q117.714 748.941 120.77 753.547 Q123.848 758.131 123.848 766.881 Q123.848 775.608 120.77 780.214 Q117.714 784.797 111.904 784.797 Q106.094 784.797 103.015 780.214 Q99.9595 775.608 99.9595 766.881 Q99.9595 758.131 103.015 753.547 Q106.094 748.941 111.904 748.941 Z\" fill=\"#000000\" fill-rule=\"evenodd\" fill-opacity=\"1\" /><path clip-path=\"url(#clip050)\" d=\"M 0 0 M67.969 440.756 L75.6078 440.756 L75.6078 414.39 L67.2977 416.057 L67.2977 411.798 L75.5615 410.131 L80.2374 410.131 L80.2374 440.756 L87.8763 440.756 L87.8763 444.691 L67.969 444.691 L67.969 440.756 Z\" fill=\"#000000\" fill-rule=\"evenodd\" fill-opacity=\"1\" /><path clip-path=\"url(#clip050)\" d=\"M 0 0 M92.9457 438.812 L97.8299 438.812 L97.8299 444.691 L92.9457 444.691 L92.9457 438.812 Z\" fill=\"#000000\" fill-rule=\"evenodd\" fill-opacity=\"1\" /><path clip-path=\"url(#clip050)\" d=\"M 0 0 M102.946 410.131 L121.302 410.131 L121.302 414.066 L107.228 414.066 L107.228 422.538 Q108.247 422.191 109.265 422.029 Q110.284 421.844 111.302 421.844 Q117.089 421.844 120.469 425.015 Q123.848 428.187 123.848 433.603 Q123.848 439.182 120.376 442.284 Q116.904 445.362 110.584 445.362 Q108.409 445.362 106.14 444.992 Q103.895 444.622 101.487 443.881 L101.487 439.182 Q103.571 440.316 105.793 440.872 Q108.015 441.427 110.492 441.427 Q114.496 441.427 116.834 439.321 Q119.172 437.214 119.172 433.603 Q119.172 429.992 116.834 427.886 Q114.496 425.779 110.492 425.779 Q108.617 425.779 106.742 426.196 Q104.89 426.613 102.946 427.492 L102.946 410.131 Z\" fill=\"#000000\" fill-rule=\"evenodd\" fill-opacity=\"1\" /><path clip-path=\"url(#clip050)\" d=\"M 0 0 M70.5615 101.321 L86.8809 101.321 L86.8809 105.256 L64.9366 105.256 L64.9366 101.321 Q67.5986 98.5665 72.1819 93.9369 Q76.7883 89.2841 77.9689 87.9416 Q80.2143 85.4184 81.0939 83.6823 Q81.9967 81.9231 81.9967 80.2333 Q81.9967 77.4786 80.0522 75.7425 Q78.1309 74.0064 75.0291 74.0064 Q72.83 74.0064 70.3763 74.7703 Q67.9458 75.5342 65.168 77.0851 L65.168 72.3629 Q67.9921 71.2287 70.4458 70.65 Q72.8995 70.0713 74.9365 70.0713 Q80.3068 70.0713 83.5013 72.7565 Q86.6957 75.4416 86.6957 79.9323 Q86.6957 82.062 85.8855 83.9832 Q85.0985 85.8814 82.992 88.474 Q82.4133 89.1453 79.3115 92.3628 Q76.2096 95.5573 70.5615 101.321 Z\" fill=\"#000000\" fill-rule=\"evenodd\" fill-opacity=\"1\" /><path clip-path=\"url(#clip050)\" d=\"M 0 0 M91.9503 99.3767 L96.8345 99.3767 L96.8345 105.256 L91.9503 105.256 L91.9503 99.3767 Z\" fill=\"#000000\" fill-rule=\"evenodd\" fill-opacity=\"1\" /><path clip-path=\"url(#clip050)\" d=\"M 0 0 M111.904 73.775 Q108.293 73.775 106.464 77.3398 Q104.659 80.8814 104.659 88.011 Q104.659 95.1174 106.464 98.6822 Q108.293 102.224 111.904 102.224 Q115.538 102.224 117.344 98.6822 Q119.172 95.1174 119.172 88.011 Q119.172 80.8814 117.344 77.3398 Q115.538 73.775 111.904 73.775 M111.904 70.0713 Q117.714 70.0713 120.77 74.6777 Q123.848 79.261 123.848 88.011 Q123.848 96.7378 120.77 101.344 Q117.714 105.928 111.904 105.928 Q106.094 105.928 103.015 101.344 Q99.9595 96.7378 99.9595 88.011 Q99.9595 79.261 103.015 74.6777 Q106.094 70.0713 111.904 70.0713 Z\" fill=\"#000000\" fill-rule=\"evenodd\" fill-opacity=\"1\" /><polyline clip-path=\"url(#clip052)\" style=\"stroke:#009af9; stroke-width:4; stroke-opacity:1; fill:none\" points=\"\n",
       "  210.251,87.9763 220.652,87.9763 231.052,87.9763 241.453,87.9763 251.853,87.9763 262.254,87.9763 272.654,87.9763 283.055,87.9763 293.455,87.9763 303.856,87.9763 \n",
       "  314.256,87.9763 324.657,87.9763 335.057,87.9763 345.458,87.9763 355.858,87.9763 366.259,87.9763 376.659,87.9763 387.06,87.9763 397.46,87.9763 407.861,87.9763 \n",
       "  418.261,87.9763 428.662,87.9763 439.062,87.9763 449.463,87.9763 459.864,87.9763 470.264,87.9763 480.665,87.9763 491.065,87.9763 501.466,87.9763 511.866,87.9763 \n",
       "  522.267,87.9763 532.667,87.9763 543.068,87.9763 553.468,87.9763 563.869,87.9763 574.269,87.9763 584.67,87.9763 595.07,87.9763 605.471,87.9763 615.871,87.9763 \n",
       "  626.272,87.9763 636.672,87.9763 647.073,87.9763 657.473,87.9763 667.874,87.9763 678.274,87.9763 688.675,87.9763 699.075,87.9763 709.476,87.9763 719.876,87.9763 \n",
       "  730.277,87.9763 740.677,87.9763 751.078,87.9763 761.478,87.9763 771.879,87.9763 782.279,87.9763 792.68,87.9763 803.08,87.9763 813.481,87.9763 823.881,87.9763 \n",
       "  834.282,87.9763 844.682,87.9763 855.083,87.9763 865.483,87.9763 875.884,87.9763 886.284,87.9763 896.685,87.9763 907.085,87.9763 917.486,87.9763 927.886,87.9763 \n",
       "  938.287,87.9763 948.687,87.9763 959.088,87.9763 969.488,87.9763 979.889,87.9763 990.289,87.9763 1000.69,87.9763 1011.09,87.9763 1021.49,87.9763 1031.89,87.9763 \n",
       "  1042.29,87.9763 1052.69,87.9763 1063.09,87.9763 1073.49,87.9763 1083.89,87.9763 1094.29,87.9763 1104.69,87.9763 1115.1,87.9763 1125.5,87.9763 1135.9,87.9763 \n",
       "  1146.3,87.9763 1156.7,87.9763 1167.1,87.9763 1177.5,87.9763 1187.9,87.9763 1198.3,87.9763 1208.7,87.9763 1219.1,87.9763 1229.5,87.9763 1239.9,87.9763 \n",
       "  1250.3,87.9763 1260.7,87.9763 1271.1,87.9763 1281.5,87.9763 1291.9,87.9763 1302.3,87.9763 1312.71,87.9763 1323.11,87.9763 1333.51,87.9763 1343.91,87.9763 \n",
       "  1354.31,87.9763 1364.71,87.9763 1375.11,87.9763 1385.51,87.9763 1395.91,87.9763 1406.31,87.9763 1416.71,87.9763 1427.11,87.9763 1437.51,87.9763 1447.91,87.9763 \n",
       "  1458.31,87.9763 1468.71,87.9763 1479.11,87.9763 1489.51,87.9763 1499.91,87.9763 1510.31,87.9763 1520.72,87.9763 1531.12,87.9763 1541.52,87.9763 1551.92,87.9763 \n",
       "  1562.32,87.9763 1572.72,87.9763 1583.12,87.9763 1593.52,87.9763 1603.92,87.9763 1614.32,87.9763 1624.72,87.9763 1635.12,87.9763 1645.52,87.9763 1655.92,87.9763 \n",
       "  1666.32,87.9763 1676.72,87.9763 1687.12,87.9763 1697.52,87.9763 1707.92,87.9763 1718.32,87.9763 1728.73,87.9763 1739.13,87.9763 1749.53,87.9763 1759.93,87.9763 \n",
       "  1770.33,87.9763 1780.73,87.9763 1791.13,87.9763 1801.53,87.9763 1811.93,87.9763 1822.33,87.9763 1832.73,87.9763 1843.13,87.9763 1853.53,87.9763 1863.93,87.9763 \n",
       "  1874.33,87.9763 1884.73,87.9763 1895.13,87.9763 1905.53,87.9763 1915.93,87.9763 1926.34,87.9763 1936.74,87.9763 1947.14,87.9763 1957.54,87.9763 1967.94,87.9763 \n",
       "  1978.34,87.9763 1988.74,87.9763 1999.14,87.9763 2009.54,87.9763 2019.94,87.9763 2030.34,87.9763 2040.74,87.9763 2051.14,87.9763 2061.54,87.9763 2071.94,87.9763 \n",
       "  2082.34,87.9763 2092.74,87.9763 2103.14,87.9763 2113.54,87.9763 2123.94,87.9763 2134.35,87.9763 2144.75,87.9763 2155.15,87.9763 2165.55,87.9763 2175.95,87.9763 \n",
       "  2186.35,87.9763 2196.75,87.9763 2207.15,87.9763 2217.55,87.9763 2227.95,87.9763 2238.35,87.9763 2248.75,87.9763 2259.15,87.9763 2269.55,87.9763 2279.95,87.9763 \n",
       "  2290.35,87.9763 \n",
       "  \"/>\n",
       "<polyline clip-path=\"url(#clip052)\" style=\"stroke:#e26f46; stroke-width:4; stroke-opacity:1; fill:none\" points=\"\n",
       "  210.251,1445.72 220.652,1445.72 231.052,1445.72 241.453,1445.72 251.853,1445.72 262.254,1445.72 272.654,1445.72 283.055,1445.72 293.455,1445.72 303.856,1445.72 \n",
       "  314.256,1445.72 324.657,1445.72 335.057,1445.72 345.458,1445.72 355.858,1445.72 366.259,1445.72 376.659,1445.72 387.06,1445.72 397.46,1445.72 407.861,1445.72 \n",
       "  418.261,1445.72 428.662,1445.72 439.062,1445.72 449.463,1445.72 459.864,1445.72 470.264,1445.72 480.665,1445.72 491.065,1445.72 501.466,1445.72 511.866,1445.72 \n",
       "  522.267,1445.72 532.667,1445.72 543.068,1445.72 553.468,1445.72 563.869,1445.72 574.269,1445.72 584.67,1445.72 595.07,1445.72 605.471,1445.72 615.871,1445.72 \n",
       "  626.272,1445.72 636.672,1445.72 647.073,1445.72 657.473,1445.72 667.874,1445.72 678.274,1445.72 688.675,1445.72 699.075,1445.72 709.476,1445.72 719.876,1445.72 \n",
       "  730.277,1445.72 740.677,1445.72 751.078,1445.72 761.478,1445.72 771.879,1445.72 782.279,1445.72 792.68,1445.72 803.08,1445.72 813.481,1445.72 823.881,1445.72 \n",
       "  834.282,1445.72 844.682,1445.72 855.083,1445.72 865.483,1445.72 875.884,1445.72 886.284,1445.72 896.685,1445.72 907.085,1445.72 917.486,1445.72 927.886,1445.72 \n",
       "  938.287,1445.72 948.687,1445.72 959.088,1445.72 969.488,1445.72 979.889,1445.72 990.289,1445.72 1000.69,1445.72 1011.09,1445.72 1021.49,1445.72 1031.89,1445.72 \n",
       "  1042.29,1445.72 1052.69,1445.72 1063.09,1445.72 1073.49,1445.72 1083.89,1445.72 1094.29,1445.72 1104.69,1445.72 1115.1,1445.72 1125.5,1445.72 1135.9,1445.72 \n",
       "  1146.3,1445.72 1156.7,1445.72 1167.1,1445.72 1177.5,1445.72 1187.9,1445.72 1198.3,1445.72 1208.7,1445.72 1219.1,1445.72 1229.5,1445.72 1239.9,1445.72 \n",
       "  1250.3,1445.72 1260.7,1445.72 1271.1,1445.72 1281.5,1445.72 1291.9,1445.72 1302.3,1445.72 1312.71,1445.72 1323.11,1445.72 1333.51,1445.72 1343.91,1445.72 \n",
       "  1354.31,1445.72 1364.71,1445.72 1375.11,1445.72 1385.51,1445.72 1395.91,1445.72 1406.31,1445.72 1416.71,1445.72 1427.11,1445.72 1437.51,1445.72 1447.91,1445.72 \n",
       "  1458.31,1445.72 1468.71,1445.72 1479.11,1445.72 1489.51,1445.72 1499.91,1445.72 1510.31,1445.72 1520.72,1445.72 1531.12,1445.72 1541.52,1445.72 1551.92,1445.72 \n",
       "  1562.32,1445.72 1572.72,1445.72 1583.12,1445.72 1593.52,1445.72 1603.92,1445.72 1614.32,1445.72 1624.72,1445.72 1635.12,1445.72 1645.52,1445.72 1655.92,1445.72 \n",
       "  1666.32,1445.72 1676.72,1445.72 1687.12,1445.72 1697.52,1445.72 1707.92,1445.72 1718.32,1445.72 1728.73,1445.72 1739.13,1445.72 1749.53,1445.72 1759.93,1445.72 \n",
       "  1770.33,1445.72 1780.73,1445.72 1791.13,1445.72 1801.53,1445.72 1811.93,1445.72 1822.33,1445.72 1832.73,1445.72 1843.13,1445.72 1853.53,1445.72 1863.93,1445.72 \n",
       "  1874.33,1445.72 1884.73,1445.72 1895.13,1445.72 1905.53,1445.72 1915.93,1445.72 1926.34,1445.72 1936.74,1445.72 1947.14,1445.72 1957.54,1445.72 1967.94,1445.72 \n",
       "  1978.34,1445.72 1988.74,1445.72 1999.14,1445.72 2009.54,1445.72 2019.94,1445.72 2030.34,1445.72 2040.74,1445.72 2051.14,1445.72 2061.54,1445.72 2071.94,1445.72 \n",
       "  2082.34,1445.72 2092.74,1445.72 2103.14,1445.72 2113.54,1445.72 2123.94,1445.72 2134.35,1445.72 2144.75,1445.72 2155.15,1445.72 2165.55,1445.72 2175.95,1445.72 \n",
       "  2186.35,1445.72 2196.75,1445.72 2207.15,1445.72 2217.55,1445.72 2227.95,1445.72 2238.35,1445.72 2248.75,1445.72 2259.15,1445.72 2269.55,1445.72 2279.95,1445.72 \n",
       "  2290.35,1445.72 \n",
       "  \"/>\n",
       "<polyline clip-path=\"url(#clip052)\" style=\"stroke:#3da44d; stroke-width:4; stroke-opacity:1; fill:none\" points=\"\n",
       "  210.251,1445.72 220.652,1438.93 231.052,1432.14 241.453,1425.35 251.853,1418.56 262.254,1411.77 272.654,1404.98 283.055,1398.19 293.455,1391.41 303.856,1384.62 \n",
       "  314.256,1377.83 324.657,1371.04 335.057,1364.25 345.458,1357.46 355.858,1350.67 366.259,1343.89 376.659,1337.1 387.06,1330.31 397.46,1323.52 407.861,1316.73 \n",
       "  418.261,1309.94 428.662,1303.15 439.062,1296.36 449.463,1289.58 459.864,1282.79 470.264,1276 480.665,1269.21 491.065,1262.42 501.466,1255.63 511.866,1248.84 \n",
       "  522.267,1242.05 532.667,1235.27 543.068,1228.48 553.468,1221.69 563.869,1214.9 574.269,1208.11 584.67,1201.32 595.07,1194.53 605.471,1187.75 615.871,1180.96 \n",
       "  626.272,1174.17 636.672,1167.38 647.073,1160.59 657.473,1153.8 667.874,1147.01 678.274,1140.22 688.675,1133.44 699.075,1126.65 709.476,1119.86 719.876,1113.07 \n",
       "  730.277,1106.28 740.677,1099.49 751.078,1092.7 761.478,1085.91 771.879,1079.13 782.279,1072.34 792.68,1065.55 803.08,1058.76 813.481,1051.97 823.881,1045.18 \n",
       "  834.282,1038.39 844.682,1031.61 855.083,1024.82 865.483,1018.03 875.884,1011.24 886.284,1004.45 896.685,997.662 907.085,990.873 917.486,984.084 927.886,977.296 \n",
       "  938.287,970.507 948.687,963.718 959.088,956.93 969.488,950.141 979.889,943.352 990.289,936.563 1000.69,929.775 1011.09,922.986 1021.49,916.197 1031.89,909.409 \n",
       "  1042.29,902.62 1052.69,895.831 1063.09,889.043 1073.49,882.254 1083.89,875.465 1094.29,868.676 1104.69,861.888 1115.1,855.099 1125.5,848.31 1135.9,841.522 \n",
       "  1146.3,834.733 1156.7,827.944 1167.1,821.156 1177.5,814.367 1187.9,807.578 1198.3,800.789 1208.7,794.001 1219.1,787.212 1229.5,780.423 1239.9,773.635 \n",
       "  1250.3,766.846 1260.7,760.057 1271.1,753.269 1281.5,746.48 1291.9,739.691 1302.3,732.902 1312.71,726.114 1323.11,719.325 1333.51,712.536 1343.91,705.748 \n",
       "  1354.31,698.959 1364.71,692.17 1375.11,685.382 1385.51,678.593 1395.91,671.804 1406.31,665.016 1416.71,658.227 1427.11,651.438 1437.51,644.649 1447.91,637.861 \n",
       "  1458.31,631.072 1468.71,624.283 1479.11,617.495 1489.51,610.706 1499.91,603.917 1510.31,597.129 1520.72,590.34 1531.12,583.551 1541.52,576.762 1551.92,569.974 \n",
       "  1562.32,563.185 1572.72,556.396 1583.12,549.608 1593.52,542.819 1603.92,536.03 1614.32,529.242 1624.72,522.453 1635.12,515.664 1645.52,508.875 1655.92,502.087 \n",
       "  1666.32,495.298 1676.72,488.509 1687.12,481.721 1697.52,474.932 1707.92,468.143 1718.32,461.355 1728.73,454.566 1739.13,447.777 1749.53,440.989 1759.93,434.2 \n",
       "  1770.33,427.411 1780.73,420.622 1791.13,413.834 1801.53,407.045 1811.93,400.256 1822.33,393.468 1832.73,386.679 1843.13,379.89 1853.53,373.102 1863.93,366.313 \n",
       "  1874.33,359.524 1884.73,352.735 1895.13,345.947 1905.53,339.158 1915.93,332.369 1926.34,325.581 1936.74,318.792 1947.14,312.003 1957.54,305.215 1967.94,298.426 \n",
       "  1978.34,291.637 1988.74,284.848 1999.14,278.06 2009.54,271.271 2019.94,264.482 2030.34,257.694 2040.74,250.905 2051.14,244.116 2061.54,237.328 2071.94,230.539 \n",
       "  2082.34,223.75 2092.74,216.962 2103.14,210.173 2113.54,203.384 2123.94,196.595 2134.35,189.807 2144.75,183.018 2155.15,176.229 2165.55,169.441 2175.95,162.652 \n",
       "  2186.35,155.863 2196.75,149.075 2207.15,142.286 2217.55,135.497 2227.95,128.708 2238.35,121.92 2248.75,115.131 2259.15,108.342 2269.55,101.554 2279.95,94.765 \n",
       "  2290.35,87.9763 \n",
       "  \"/>\n",
       "<polyline clip-path=\"url(#clip052)\" style=\"stroke:#c271d2; stroke-width:4; stroke-opacity:1; fill:none\" points=\"\n",
       "  210.251,87.9763 220.652,94.765 231.052,101.554 241.453,108.342 251.853,115.131 262.254,121.92 272.654,128.708 283.055,135.497 293.455,142.286 303.856,149.075 \n",
       "  314.256,155.863 324.657,162.652 335.057,169.441 345.458,176.229 355.858,183.018 366.259,189.807 376.659,196.595 387.06,203.384 397.46,210.173 407.861,216.962 \n",
       "  418.261,223.75 428.662,230.539 439.062,237.328 449.463,244.116 459.864,250.905 470.264,257.694 480.665,264.482 491.065,271.271 501.466,278.06 511.866,284.848 \n",
       "  522.267,291.637 532.667,298.426 543.068,305.215 553.468,312.003 563.869,318.792 574.269,325.581 584.67,332.369 595.07,339.158 605.471,345.947 615.871,352.735 \n",
       "  626.272,359.524 636.672,366.313 647.073,373.102 657.473,379.89 667.874,386.679 678.274,393.468 688.675,400.256 699.075,407.045 709.476,413.834 719.876,420.622 \n",
       "  730.277,427.411 740.677,434.2 751.078,440.989 761.478,447.777 771.879,454.566 782.279,461.355 792.68,468.143 803.08,474.932 813.481,481.721 823.881,488.509 \n",
       "  834.282,495.298 844.682,502.087 855.083,508.875 865.483,515.664 875.884,522.453 886.284,529.242 896.685,536.03 907.085,542.819 917.486,549.608 927.886,556.396 \n",
       "  938.287,563.185 948.687,569.974 959.088,576.762 969.488,583.551 979.889,590.34 990.289,597.129 1000.69,603.917 1011.09,610.706 1021.49,617.495 1031.89,624.283 \n",
       "  1042.29,631.072 1052.69,637.861 1063.09,644.649 1073.49,651.438 1083.89,658.227 1094.29,665.016 1104.69,671.804 1115.1,678.593 1125.5,685.382 1135.9,692.17 \n",
       "  1146.3,698.959 1156.7,705.748 1167.1,712.536 1177.5,719.325 1187.9,726.114 1198.3,732.902 1208.7,739.691 1219.1,746.48 1229.5,753.269 1239.9,760.057 \n",
       "  1250.3,766.846 1260.7,773.635 1271.1,780.423 1281.5,787.212 1291.9,794.001 1302.3,800.789 1312.71,807.578 1323.11,814.367 1333.51,821.156 1343.91,827.944 \n",
       "  1354.31,834.733 1364.71,841.522 1375.11,848.31 1385.51,855.099 1395.91,861.888 1406.31,868.676 1416.71,875.465 1427.11,882.254 1437.51,889.043 1447.91,895.831 \n",
       "  1458.31,902.62 1468.71,909.409 1479.11,916.197 1489.51,922.986 1499.91,929.775 1510.31,936.563 1520.72,943.352 1531.12,950.141 1541.52,956.93 1551.92,963.718 \n",
       "  1562.32,970.507 1572.72,977.296 1583.12,984.084 1593.52,990.873 1603.92,997.662 1614.32,1004.45 1624.72,1011.24 1635.12,1018.03 1645.52,1024.82 1655.92,1031.61 \n",
       "  1666.32,1038.39 1676.72,1045.18 1687.12,1051.97 1697.52,1058.76 1707.92,1065.55 1718.32,1072.34 1728.73,1079.13 1739.13,1085.91 1749.53,1092.7 1759.93,1099.49 \n",
       "  1770.33,1106.28 1780.73,1113.07 1791.13,1119.86 1801.53,1126.65 1811.93,1133.44 1822.33,1140.22 1832.73,1147.01 1843.13,1153.8 1853.53,1160.59 1863.93,1167.38 \n",
       "  1874.33,1174.17 1884.73,1180.96 1895.13,1187.75 1905.53,1194.53 1915.93,1201.32 1926.34,1208.11 1936.74,1214.9 1947.14,1221.69 1957.54,1228.48 1967.94,1235.27 \n",
       "  1978.34,1242.05 1988.74,1248.84 1999.14,1255.63 2009.54,1262.42 2019.94,1269.21 2030.34,1276 2040.74,1282.79 2051.14,1289.58 2061.54,1296.36 2071.94,1303.15 \n",
       "  2082.34,1309.94 2092.74,1316.73 2103.14,1323.52 2113.54,1330.31 2123.94,1337.1 2134.35,1343.89 2144.75,1350.67 2155.15,1357.46 2165.55,1364.25 2175.95,1371.04 \n",
       "  2186.35,1377.83 2196.75,1384.62 2207.15,1391.41 2217.55,1398.19 2227.95,1404.98 2238.35,1411.77 2248.75,1418.56 2259.15,1425.35 2269.55,1432.14 2279.95,1438.93 \n",
       "  2290.35,1445.72 \n",
       "  \"/>\n",
       "<polyline clip-path=\"url(#clip052)\" style=\"stroke:#ac8d18; stroke-width:4; stroke-opacity:1; fill:none\" points=\"\n",
       "  210.251,87.9763 220.652,114.995 231.052,141.743 241.453,168.219 251.853,194.423 262.254,220.356 272.654,246.017 283.055,271.407 293.455,296.525 303.856,321.372 \n",
       "  314.256,345.947 324.657,370.25 335.057,394.282 345.458,418.043 355.858,441.532 366.259,464.749 376.659,487.695 387.06,510.369 397.46,532.772 407.861,554.903 \n",
       "  418.261,576.762 428.662,598.351 439.062,619.667 449.463,640.712 459.864,661.485 470.264,681.987 480.665,702.218 491.065,722.176 501.466,741.864 511.866,761.279 \n",
       "  522.267,780.423 532.667,799.296 543.068,817.897 553.468,836.226 563.869,854.284 574.269,872.071 584.67,889.586 595.07,906.829 605.471,923.801 615.871,940.501 \n",
       "  626.272,956.93 636.672,973.087 647.073,988.972 657.473,1004.59 667.874,1019.93 678.274,1035 688.675,1049.8 699.075,1064.33 709.476,1078.58 719.876,1092.57 \n",
       "  730.277,1106.28 740.677,1119.72 751.078,1132.89 761.478,1145.79 771.879,1158.42 782.279,1170.77 792.68,1182.86 803.08,1194.67 813.481,1206.21 823.881,1217.48 \n",
       "  834.282,1228.48 844.682,1239.2 855.083,1249.66 865.483,1259.84 875.884,1269.75 886.284,1279.39 896.685,1288.76 907.085,1297.86 917.486,1306.68 927.886,1315.24 \n",
       "  938.287,1323.52 948.687,1331.53 959.088,1339.27 969.488,1346.74 979.889,1353.93 990.289,1360.86 1000.69,1367.51 1011.09,1373.89 1021.49,1380 1031.89,1385.84 \n",
       "  1042.29,1391.41 1052.69,1396.7 1063.09,1401.72 1073.49,1406.48 1083.89,1410.96 1094.29,1415.17 1104.69,1419.1 1115.1,1422.77 1125.5,1426.16 1135.9,1429.29 \n",
       "  1146.3,1432.14 1156.7,1434.72 1167.1,1437.03 1177.5,1439.06 1187.9,1440.83 1198.3,1442.32 1208.7,1443.54 1219.1,1444.49 1229.5,1445.17 1239.9,1445.58 \n",
       "  1250.3,1445.72 1260.7,1445.58 1271.1,1445.17 1281.5,1444.49 1291.9,1443.54 1302.3,1442.32 1312.71,1440.83 1323.11,1439.06 1333.51,1437.03 1343.91,1434.72 \n",
       "  1354.31,1432.14 1364.71,1429.29 1375.11,1426.16 1385.51,1422.77 1395.91,1419.1 1406.31,1415.17 1416.71,1410.96 1427.11,1406.48 1437.51,1401.72 1447.91,1396.7 \n",
       "  1458.31,1391.41 1468.71,1385.84 1479.11,1380 1489.51,1373.89 1499.91,1367.51 1510.31,1360.86 1520.72,1353.93 1531.12,1346.74 1541.52,1339.27 1551.92,1331.53 \n",
       "  1562.32,1323.52 1572.72,1315.24 1583.12,1306.68 1593.52,1297.86 1603.92,1288.76 1614.32,1279.39 1624.72,1269.75 1635.12,1259.84 1645.52,1249.66 1655.92,1239.2 \n",
       "  1666.32,1228.48 1676.72,1217.48 1687.12,1206.21 1697.52,1194.67 1707.92,1182.86 1718.32,1170.77 1728.73,1158.42 1739.13,1145.79 1749.53,1132.89 1759.93,1119.72 \n",
       "  1770.33,1106.28 1780.73,1092.57 1791.13,1078.58 1801.53,1064.33 1811.93,1049.8 1822.33,1035 1832.73,1019.93 1843.13,1004.59 1853.53,988.972 1863.93,973.087 \n",
       "  1874.33,956.93 1884.73,940.501 1895.13,923.801 1905.53,906.829 1915.93,889.586 1926.34,872.071 1936.74,854.284 1947.14,836.226 1957.54,817.897 1967.94,799.296 \n",
       "  1978.34,780.423 1988.74,761.279 1999.14,741.864 2009.54,722.176 2019.94,702.218 2030.34,681.987 2040.74,661.485 2051.14,640.712 2061.54,619.667 2071.94,598.351 \n",
       "  2082.34,576.762 2092.74,554.903 2103.14,532.772 2113.54,510.369 2123.94,487.695 2134.35,464.749 2144.75,441.532 2155.15,418.043 2165.55,394.282 2175.95,370.25 \n",
       "  2186.35,345.947 2196.75,321.372 2207.15,296.525 2217.55,271.407 2227.95,246.017 2238.35,220.356 2248.75,194.423 2259.15,168.219 2269.55,141.743 2279.95,114.995 \n",
       "  2290.35,87.9763 \n",
       "  \"/>\n",
       "<polyline clip-path=\"url(#clip052)\" style=\"stroke:#00a9ad; stroke-width:4; stroke-opacity:1; fill:none\" points=\"\n",
       "  210.251,1445.72 220.652,1418.7 231.052,1391.95 241.453,1365.47 251.853,1339.27 262.254,1313.34 272.654,1287.67 283.055,1262.29 293.455,1237.17 303.856,1212.32 \n",
       "  314.256,1187.75 324.657,1163.44 335.057,1139.41 345.458,1115.65 355.858,1092.16 366.259,1068.94 376.659,1046 387.06,1023.32 397.46,1000.92 407.861,978.789 \n",
       "  418.261,956.93 428.662,935.341 439.062,914.025 449.463,892.98 459.864,872.207 470.264,851.705 480.665,831.474 491.065,811.516 501.466,791.828 511.866,772.413 \n",
       "  522.267,753.269 532.667,734.396 543.068,715.795 553.468,697.466 563.869,679.408 574.269,661.621 584.67,644.106 595.07,626.863 605.471,609.891 615.871,593.191 \n",
       "  626.272,576.762 636.672,560.605 647.073,544.72 657.473,529.106 667.874,513.763 678.274,498.692 688.675,483.893 699.075,469.365 709.476,455.109 719.876,441.124 \n",
       "  730.277,427.411 740.677,413.97 751.078,400.799 761.478,387.901 771.879,375.274 782.279,362.919 792.68,350.835 803.08,339.022 813.481,327.482 823.881,316.212 \n",
       "  834.282,305.215 844.682,294.488 855.083,284.034 865.483,273.851 875.884,263.939 886.284,254.299 896.685,244.931 907.085,235.834 917.486,227.009 927.886,218.455 \n",
       "  938.287,210.173 948.687,202.162 959.088,194.423 969.488,186.955 979.889,179.759 990.289,172.835 1000.69,166.182 1011.09,159.801 1021.49,153.691 1031.89,147.853 \n",
       "  1042.29,142.286 1052.69,136.991 1063.09,131.967 1073.49,127.215 1083.89,122.734 1094.29,118.525 1104.69,114.588 1115.1,110.922 1125.5,107.528 1135.9,104.405 \n",
       "  1146.3,101.554 1156.7,98.974 1167.1,96.6658 1177.5,94.6292 1187.9,92.8641 1198.3,91.3706 1208.7,90.1487 1219.1,89.1982 1229.5,88.5194 1239.9,88.1121 \n",
       "  1250.3,87.9763 1260.7,88.1121 1271.1,88.5194 1281.5,89.1982 1291.9,90.1487 1302.3,91.3706 1312.71,92.8641 1323.11,94.6292 1333.51,96.6658 1343.91,98.974 \n",
       "  1354.31,101.554 1364.71,104.405 1375.11,107.528 1385.51,110.922 1395.91,114.588 1406.31,118.525 1416.71,122.734 1427.11,127.215 1437.51,131.967 1447.91,136.991 \n",
       "  1458.31,142.286 1468.71,147.853 1479.11,153.691 1489.51,159.801 1499.91,166.182 1510.31,172.835 1520.72,179.759 1531.12,186.955 1541.52,194.423 1551.92,202.162 \n",
       "  1562.32,210.173 1572.72,218.455 1583.12,227.009 1593.52,235.834 1603.92,244.931 1614.32,254.299 1624.72,263.939 1635.12,273.851 1645.52,284.034 1655.92,294.488 \n",
       "  1666.32,305.215 1676.72,316.212 1687.12,327.482 1697.52,339.022 1707.92,350.835 1718.32,362.919 1728.73,375.274 1739.13,387.901 1749.53,400.799 1759.93,413.97 \n",
       "  1770.33,427.411 1780.73,441.124 1791.13,455.109 1801.53,469.365 1811.93,483.893 1822.33,498.692 1832.73,513.763 1843.13,529.106 1853.53,544.72 1863.93,560.605 \n",
       "  1874.33,576.762 1884.73,593.191 1895.13,609.891 1905.53,626.863 1915.93,644.106 1926.34,661.621 1936.74,679.408 1947.14,697.466 1957.54,715.795 1967.94,734.396 \n",
       "  1978.34,753.269 1988.74,772.413 1999.14,791.828 2009.54,811.516 2019.94,831.474 2030.34,851.705 2040.74,872.207 2051.14,892.98 2061.54,914.025 2071.94,935.341 \n",
       "  2082.34,956.93 2092.74,978.789 2103.14,1000.92 2113.54,1023.32 2123.94,1046 2134.35,1068.94 2144.75,1092.16 2155.15,1115.65 2165.55,1139.41 2175.95,1163.44 \n",
       "  2186.35,1187.75 2196.75,1212.32 2207.15,1237.17 2217.55,1262.29 2227.95,1287.67 2238.35,1313.34 2248.75,1339.27 2259.15,1365.47 2269.55,1391.95 2279.95,1418.7 \n",
       "  2290.35,1445.72 \n",
       "  \"/>\n",
       "<polyline clip-path=\"url(#clip052)\" style=\"stroke:#ed5d92; stroke-width:4; stroke-opacity:1; fill:none\" points=\"\n",
       "  210.251,1445.72 220.652,1385.43 231.052,1326.76 241.453,1269.68 251.853,1214.18 262.254,1160.25 272.654,1107.87 283.055,1057.01 293.455,1007.68 303.856,959.838 \n",
       "  314.256,913.482 324.657,868.592 335.057,825.153 345.458,783.147 355.858,742.559 366.259,703.372 376.659,665.569 387.06,629.136 397.46,594.055 407.861,560.309 \n",
       "  418.261,527.884 428.662,496.762 439.062,466.927 449.463,438.363 459.864,411.053 470.264,384.982 480.665,360.132 491.065,336.489 501.466,314.034 511.866,292.753 \n",
       "  522.267,272.629 532.667,253.645 543.068,235.785 553.468,219.033 563.869,203.373 574.269,188.788 584.67,175.263 595.07,162.78 605.471,151.323 615.871,140.877 \n",
       "  626.272,131.424 636.672,122.949 647.073,115.435 657.473,108.866 667.874,103.226 678.274,98.4988 688.675,94.6672 699.075,91.7155 709.476,89.6273 719.876,88.3863 \n",
       "  730.277,87.9763 740.677,88.3809 751.078,89.5838 761.478,91.5689 771.879,94.3196 782.279,97.8199 792.68,102.053 803.08,107.004 813.481,112.655 823.881,118.99 \n",
       "  834.282,125.993 844.682,133.648 855.083,141.938 865.483,150.848 875.884,160.36 886.284,170.459 896.685,181.128 907.085,192.351 917.486,204.112 927.886,216.394 \n",
       "  938.287,229.181 948.687,242.457 959.088,256.206 969.488,270.41 979.889,285.055 990.289,300.123 1000.69,315.599 1011.09,331.465 1021.49,347.706 1031.89,364.306 \n",
       "  1042.29,381.248 1052.69,398.516 1063.09,416.093 1073.49,433.964 1083.89,452.111 1094.29,470.519 1104.69,489.172 1115.1,508.053 1125.5,527.145 1135.9,546.433 \n",
       "  1146.3,565.901 1156.7,585.531 1167.1,605.308 1177.5,625.215 1187.9,645.236 1198.3,665.355 1208.7,685.555 1219.1,705.821 1229.5,726.136 1239.9,746.483 \n",
       "  1250.3,766.846 1260.7,787.209 1271.1,807.556 1281.5,827.871 1291.9,848.137 1302.3,868.337 1312.71,888.456 1323.11,908.477 1333.51,928.384 1343.91,948.161 \n",
       "  1354.31,967.791 1364.71,987.259 1375.11,1006.55 1385.51,1025.64 1395.91,1044.52 1406.31,1063.17 1416.71,1081.58 1427.11,1099.73 1437.51,1117.6 1447.91,1135.18 \n",
       "  1458.31,1152.44 1468.71,1169.39 1479.11,1185.99 1489.51,1202.23 1499.91,1218.09 1510.31,1233.57 1520.72,1248.64 1531.12,1263.28 1541.52,1277.49 1551.92,1291.23 \n",
       "  1562.32,1304.51 1572.72,1317.3 1583.12,1329.58 1593.52,1341.34 1603.92,1352.56 1614.32,1363.23 1624.72,1373.33 1635.12,1382.84 1645.52,1391.75 1655.92,1400.04 \n",
       "  1666.32,1407.7 1676.72,1414.7 1687.12,1421.04 1697.52,1426.69 1707.92,1431.64 1718.32,1435.87 1728.73,1439.37 1739.13,1442.12 1749.53,1444.11 1759.93,1445.31 \n",
       "  1770.33,1445.72 1780.73,1445.31 1791.13,1444.06 1801.53,1441.98 1811.93,1439.02 1822.33,1435.19 1832.73,1430.47 1843.13,1424.83 1853.53,1418.26 1863.93,1410.74 \n",
       "  1874.33,1402.27 1884.73,1392.82 1895.13,1382.37 1905.53,1370.91 1915.93,1358.43 1926.34,1344.9 1936.74,1330.32 1947.14,1314.66 1957.54,1297.91 1967.94,1280.05 \n",
       "  1978.34,1261.06 1988.74,1240.94 1999.14,1219.66 2009.54,1197.2 2019.94,1173.56 2030.34,1148.71 2040.74,1122.64 2051.14,1095.33 2061.54,1066.77 2071.94,1036.93 \n",
       "  2082.34,1005.81 2092.74,973.383 2103.14,939.637 2113.54,904.556 2123.94,868.122 2134.35,830.32 2144.75,791.133 2155.15,750.545 2165.55,708.539 2175.95,665.1 \n",
       "  2186.35,620.21 2196.75,573.854 2207.15,526.016 2217.55,476.678 2227.95,425.825 2238.35,373.441 2248.75,319.509 2259.15,264.013 2269.55,206.936 2279.95,148.263 \n",
       "  2290.35,87.9763 \n",
       "  \"/>\n",
       "<polyline clip-path=\"url(#clip052)\" style=\"stroke:#c68125; stroke-width:4; stroke-opacity:1; fill:none\" points=\"\n",
       "  210.251,87.9763 220.652,148.263 231.052,206.936 241.453,264.013 251.853,319.509 262.254,373.441 272.654,425.825 283.055,476.678 293.455,526.016 303.856,573.854 \n",
       "  314.256,620.21 324.657,665.1 335.057,708.539 345.458,750.545 355.858,791.133 366.259,830.32 376.659,868.122 387.06,904.556 397.46,939.637 407.861,973.383 \n",
       "  418.261,1005.81 428.662,1036.93 439.062,1066.77 449.463,1095.33 459.864,1122.64 470.264,1148.71 480.665,1173.56 491.065,1197.2 501.466,1219.66 511.866,1240.94 \n",
       "  522.267,1261.06 532.667,1280.05 543.068,1297.91 553.468,1314.66 563.869,1330.32 574.269,1344.9 584.67,1358.43 595.07,1370.91 605.471,1382.37 615.871,1392.82 \n",
       "  626.272,1402.27 636.672,1410.74 647.073,1418.26 657.473,1424.83 667.874,1430.47 678.274,1435.19 688.675,1439.02 699.075,1441.98 709.476,1444.06 719.876,1445.31 \n",
       "  730.277,1445.72 740.677,1445.31 751.078,1444.11 761.478,1442.12 771.879,1439.37 782.279,1435.87 792.68,1431.64 803.08,1426.69 813.481,1421.04 823.881,1414.7 \n",
       "  834.282,1407.7 844.682,1400.04 855.083,1391.75 865.483,1382.84 875.884,1373.33 886.284,1363.23 896.685,1352.56 907.085,1341.34 917.486,1329.58 927.886,1317.3 \n",
       "  938.287,1304.51 948.687,1291.23 959.088,1277.49 969.488,1263.28 979.889,1248.64 990.289,1233.57 1000.69,1218.09 1011.09,1202.23 1021.49,1185.99 1031.89,1169.39 \n",
       "  1042.29,1152.44 1052.69,1135.18 1063.09,1117.6 1073.49,1099.73 1083.89,1081.58 1094.29,1063.17 1104.69,1044.52 1115.1,1025.64 1125.5,1006.55 1135.9,987.259 \n",
       "  1146.3,967.791 1156.7,948.161 1167.1,928.384 1177.5,908.477 1187.9,888.456 1198.3,868.337 1208.7,848.137 1219.1,827.871 1229.5,807.556 1239.9,787.209 \n",
       "  1250.3,766.846 1260.7,746.483 1271.1,726.136 1281.5,705.821 1291.9,685.555 1302.3,665.355 1312.71,645.236 1323.11,625.215 1333.51,605.308 1343.91,585.531 \n",
       "  1354.31,565.901 1364.71,546.433 1375.11,527.145 1385.51,508.053 1395.91,489.172 1406.31,470.519 1416.71,452.111 1427.11,433.964 1437.51,416.093 1447.91,398.516 \n",
       "  1458.31,381.248 1468.71,364.306 1479.11,347.706 1489.51,331.465 1499.91,315.599 1510.31,300.123 1520.72,285.055 1531.12,270.41 1541.52,256.206 1551.92,242.457 \n",
       "  1562.32,229.181 1572.72,216.394 1583.12,204.112 1593.52,192.351 1603.92,181.128 1614.32,170.459 1624.72,160.36 1635.12,150.848 1645.52,141.938 1655.92,133.648 \n",
       "  1666.32,125.993 1676.72,118.99 1687.12,112.655 1697.52,107.004 1707.92,102.053 1718.32,97.8199 1728.73,94.3196 1739.13,91.5689 1749.53,89.5838 1759.93,88.3809 \n",
       "  1770.33,87.9763 1780.73,88.3863 1791.13,89.6273 1801.53,91.7155 1811.93,94.6672 1822.33,98.4988 1832.73,103.226 1843.13,108.866 1853.53,115.435 1863.93,122.949 \n",
       "  1874.33,131.424 1884.73,140.877 1895.13,151.323 1905.53,162.78 1915.93,175.263 1926.34,188.788 1936.74,203.373 1947.14,219.033 1957.54,235.785 1967.94,253.645 \n",
       "  1978.34,272.629 1988.74,292.753 1999.14,314.034 2009.54,336.489 2019.94,360.132 2030.34,384.982 2040.74,411.053 2051.14,438.363 2061.54,466.927 2071.94,496.762 \n",
       "  2082.34,527.884 2092.74,560.309 2103.14,594.055 2113.54,629.136 2123.94,665.569 2134.35,703.372 2144.75,742.559 2155.15,783.147 2165.55,825.153 2175.95,868.592 \n",
       "  2186.35,913.482 2196.75,959.838 2207.15,1007.68 2217.55,1057.01 2227.95,1107.87 2238.35,1160.25 2248.75,1214.18 2259.15,1269.68 2269.55,1326.76 2279.95,1385.43 \n",
       "  2290.35,1445.72 \n",
       "  \"/>\n",
       "<polyline clip-path=\"url(#clip052)\" style=\"stroke:#00a98d; stroke-width:4; stroke-opacity:1; fill:none\" points=\"\n",
       "  210.251,87.9763 220.652,193.902 231.052,294.526 241.453,389.977 251.853,480.382 262.254,565.867 272.654,646.556 283.055,722.573 293.455,794.039 303.856,861.075 \n",
       "  314.256,923.801 324.657,982.333 335.057,1036.79 345.458,1087.29 355.858,1133.93 366.259,1176.85 376.659,1216.14 387.06,1251.92 397.46,1284.3 407.861,1313.38 \n",
       "  418.261,1339.27 428.662,1362.07 439.062,1381.9 449.463,1398.84 459.864,1413.01 470.264,1424.5 480.665,1433.41 491.065,1439.84 501.466,1443.88 511.866,1445.62 \n",
       "  522.267,1445.17 532.667,1442.61 543.068,1438.04 553.468,1431.53 563.869,1423.19 574.269,1413.1 584.67,1401.33 595.07,1387.99 605.471,1373.14 615.871,1356.87 \n",
       "  626.272,1339.27 636.672,1320.4 647.073,1300.36 657.473,1279.2 667.874,1257.02 678.274,1233.87 688.675,1209.85 699.075,1185 709.476,1159.42 719.876,1133.15 \n",
       "  730.277,1106.28 740.677,1078.87 751.078,1050.97 761.478,1022.66 771.879,993.998 782.279,965.042 792.68,935.852 803.08,906.487 813.481,877.002 823.881,847.454 \n",
       "  834.282,817.897 844.682,788.383 855.083,758.964 865.483,729.689 875.884,700.609 886.284,671.77 896.685,643.219 907.085,615.001 917.486,587.159 927.886,559.735 \n",
       "  938.287,532.772 948.687,506.308 959.088,480.382 969.488,455.031 979.889,430.291 990.289,406.196 1000.69,382.781 1011.09,360.076 1021.49,338.112 1031.89,316.919 \n",
       "  1042.29,296.525 1052.69,276.956 1063.09,258.238 1073.49,240.395 1083.89,223.45 1094.29,207.423 1104.69,192.337 1115.1,178.208 1125.5,165.056 1135.9,152.896 \n",
       "  1146.3,141.743 1156.7,131.611 1167.1,122.512 1177.5,114.458 1187.9,107.457 1198.3,101.52 1208.7,96.6519 1219.1,92.8597 1229.5,90.1478 1239.9,88.5193 \n",
       "  1250.3,87.9763 1260.7,88.5193 1271.1,90.1478 1281.5,92.8597 1291.9,96.6519 1302.3,101.52 1312.71,107.457 1323.11,114.458 1333.51,122.512 1343.91,131.611 \n",
       "  1354.31,141.743 1364.71,152.896 1375.11,165.056 1385.51,178.208 1395.91,192.337 1406.31,207.423 1416.71,223.45 1427.11,240.395 1437.51,258.238 1447.91,276.956 \n",
       "  1458.31,296.525 1468.71,316.919 1479.11,338.112 1489.51,360.076 1499.91,382.781 1510.31,406.196 1520.72,430.291 1531.12,455.031 1541.52,480.382 1551.92,506.308 \n",
       "  1562.32,532.772 1572.72,559.735 1583.12,587.159 1593.52,615.001 1603.92,643.219 1614.32,671.77 1624.72,700.609 1635.12,729.689 1645.52,758.964 1655.92,788.383 \n",
       "  1666.32,817.897 1676.72,847.454 1687.12,877.002 1697.52,906.487 1707.92,935.852 1718.32,965.042 1728.73,993.998 1739.13,1022.66 1749.53,1050.97 1759.93,1078.87 \n",
       "  1770.33,1106.28 1780.73,1133.15 1791.13,1159.42 1801.53,1185 1811.93,1209.85 1822.33,1233.87 1832.73,1257.02 1843.13,1279.2 1853.53,1300.36 1863.93,1320.4 \n",
       "  1874.33,1339.27 1884.73,1356.87 1895.13,1373.14 1905.53,1387.99 1915.93,1401.33 1926.34,1413.1 1936.74,1423.19 1947.14,1431.53 1957.54,1438.04 1967.94,1442.61 \n",
       "  1978.34,1445.17 1988.74,1445.62 1999.14,1443.88 2009.54,1439.84 2019.94,1433.41 2030.34,1424.5 2040.74,1413.01 2051.14,1398.84 2061.54,1381.9 2071.94,1362.07 \n",
       "  2082.34,1339.27 2092.74,1313.38 2103.14,1284.3 2113.54,1251.92 2123.94,1216.14 2134.35,1176.85 2144.75,1133.93 2155.15,1087.29 2165.55,1036.79 2175.95,982.333 \n",
       "  2186.35,923.801 2196.75,861.075 2207.15,794.039 2217.55,722.573 2227.95,646.556 2238.35,565.867 2248.75,480.382 2259.15,389.977 2269.55,294.526 2279.95,193.902 \n",
       "  2290.35,87.9763 \n",
       "  \"/>\n",
       "<polyline clip-path=\"url(#clip052)\" style=\"stroke:#8e971d; stroke-width:4; stroke-opacity:1; fill:none\" points=\"\n",
       "  210.251,1445.72 220.652,1339.79 231.052,1239.17 241.453,1143.72 251.853,1053.31 262.254,967.825 272.654,887.136 283.055,811.119 293.455,739.653 303.856,672.617 \n",
       "  314.256,609.891 324.657,551.359 335.057,496.902 345.458,446.407 355.858,399.758 366.259,356.843 376.659,317.55 387.06,281.77 397.46,249.394 407.861,220.314 \n",
       "  418.261,194.423 428.662,171.617 439.062,151.793 449.463,134.848 459.864,120.68 470.264,109.191 480.665,100.282 491.065,93.8548 501.466,89.815 511.866,88.0676 \n",
       "  522.267,88.5194 532.667,91.0785 543.068,95.6543 553.468,102.158 563.869,110.5 574.269,120.596 584.67,132.359 595.07,145.705 605.471,160.552 615.871,176.818 \n",
       "  626.272,194.423 636.672,213.288 647.073,233.336 657.473,254.489 667.874,276.675 678.274,299.818 688.675,323.846 699.075,348.688 709.476,374.276 719.876,400.539 \n",
       "  730.277,427.411 740.677,454.827 751.078,482.721 761.478,511.031 771.879,539.694 782.279,568.65 792.68,597.84 803.08,627.205 813.481,656.69 823.881,686.238 \n",
       "  834.282,715.795 844.682,745.309 855.083,774.728 865.483,804.002 875.884,833.083 886.284,861.922 896.685,890.473 907.085,918.691 917.486,946.533 927.886,973.957 \n",
       "  938.287,1000.92 948.687,1027.38 959.088,1053.31 969.488,1078.66 979.889,1103.4 990.289,1127.5 1000.69,1150.91 1011.09,1173.62 1021.49,1195.58 1031.89,1216.77 \n",
       "  1042.29,1237.17 1052.69,1256.74 1063.09,1275.45 1073.49,1293.3 1083.89,1310.24 1094.29,1326.27 1104.69,1341.36 1115.1,1355.48 1125.5,1368.64 1135.9,1380.8 \n",
       "  1146.3,1391.95 1156.7,1402.08 1167.1,1411.18 1177.5,1419.23 1187.9,1426.23 1198.3,1432.17 1208.7,1437.04 1219.1,1440.83 1229.5,1443.54 1239.9,1445.17 \n",
       "  1250.3,1445.72 1260.7,1445.17 1271.1,1443.54 1281.5,1440.83 1291.9,1437.04 1302.3,1432.17 1312.71,1426.23 1323.11,1419.23 1333.51,1411.18 1343.91,1402.08 \n",
       "  1354.31,1391.95 1364.71,1380.8 1375.11,1368.64 1385.51,1355.48 1395.91,1341.36 1406.31,1326.27 1416.71,1310.24 1427.11,1293.3 1437.51,1275.45 1447.91,1256.74 \n",
       "  1458.31,1237.17 1468.71,1216.77 1479.11,1195.58 1489.51,1173.62 1499.91,1150.91 1510.31,1127.5 1520.72,1103.4 1531.12,1078.66 1541.52,1053.31 1551.92,1027.38 \n",
       "  1562.32,1000.92 1572.72,973.957 1583.12,946.533 1593.52,918.691 1603.92,890.473 1614.32,861.922 1624.72,833.083 1635.12,804.002 1645.52,774.728 1655.92,745.309 \n",
       "  1666.32,715.795 1676.72,686.238 1687.12,656.69 1697.52,627.205 1707.92,597.84 1718.32,568.65 1728.73,539.694 1739.13,511.031 1749.53,482.721 1759.93,454.827 \n",
       "  1770.33,427.411 1780.73,400.539 1791.13,374.276 1801.53,348.688 1811.93,323.846 1822.33,299.818 1832.73,276.675 1843.13,254.489 1853.53,233.336 1863.93,213.288 \n",
       "  1874.33,194.423 1884.73,176.818 1895.13,160.552 1905.53,145.705 1915.93,132.359 1926.34,120.596 1936.74,110.5 1947.14,102.158 1957.54,95.6543 1967.94,91.0785 \n",
       "  1978.34,88.5194 1988.74,88.0676 1999.14,89.815 2009.54,93.8548 2019.94,100.282 2030.34,109.191 2040.74,120.68 2051.14,134.848 2061.54,151.793 2071.94,171.617 \n",
       "  2082.34,194.423 2092.74,220.314 2103.14,249.394 2113.54,281.77 2123.94,317.55 2134.35,356.843 2144.75,399.758 2155.15,446.407 2165.55,496.902 2175.95,551.359 \n",
       "  2186.35,609.891 2196.75,672.617 2207.15,739.653 2217.55,811.119 2227.95,887.136 2238.35,967.825 2248.75,1053.31 2259.15,1143.72 2269.55,1239.17 2279.95,1339.79 \n",
       "  2290.35,1445.72 \n",
       "  \"/>\n",
       "<path clip-path=\"url(#clip050)\" d=\"\n",
       "M1962.72 796.044 L2280.76 796.044 L2280.76 130.764 L1962.72 130.764  Z\n",
       "  \" fill=\"#ffffff\" fill-rule=\"evenodd\" fill-opacity=\"1\"/>\n",
       "<polyline clip-path=\"url(#clip050)\" style=\"stroke:#000000; stroke-width:4; stroke-opacity:1; fill:none\" points=\"\n",
       "  1962.72,796.044 2280.76,796.044 2280.76,130.764 1962.72,130.764 1962.72,796.044 \n",
       "  \"/>\n",
       "<polyline clip-path=\"url(#clip050)\" style=\"stroke:#009af9; stroke-width:4; stroke-opacity:1; fill:none\" points=\"\n",
       "  1986.72,191.244 2130.72,191.244 \n",
       "  \"/>\n",
       "<path clip-path=\"url(#clip050)\" d=\"M 0 0 M2168.57 210.931 Q2166.76 215.561 2165.05 216.973 Q2163.33 218.385 2160.46 218.385 L2157.06 218.385 L2157.06 214.82 L2159.56 214.82 Q2161.32 214.82 2162.29 213.987 Q2163.27 213.154 2164.45 210.052 L2165.21 208.107 L2154.72 182.598 L2159.24 182.598 L2167.34 202.876 L2175.44 182.598 L2179.96 182.598 L2168.57 210.931 Z\" fill=\"#000000\" fill-rule=\"evenodd\" fill-opacity=\"1\" /><path clip-path=\"url(#clip050)\" d=\"M 0 0 M2185.83 204.589 L2193.47 204.589 L2193.47 178.223 L2185.16 179.89 L2185.16 175.631 L2193.43 173.964 L2198.1 173.964 L2198.1 204.589 L2205.74 204.589 L2205.74 208.524 L2185.83 208.524 L2185.83 204.589 Z\" fill=\"#000000\" fill-rule=\"evenodd\" fill-opacity=\"1\" /><polyline clip-path=\"url(#clip050)\" style=\"stroke:#e26f46; stroke-width:4; stroke-opacity:1; fill:none\" points=\"\n",
       "  1986.72,251.724 2130.72,251.724 \n",
       "  \"/>\n",
       "<path clip-path=\"url(#clip050)\" d=\"M 0 0 M2168.57 271.411 Q2166.76 276.041 2165.05 277.453 Q2163.33 278.865 2160.46 278.865 L2157.06 278.865 L2157.06 275.3 L2159.56 275.3 Q2161.32 275.3 2162.29 274.467 Q2163.27 273.634 2164.45 270.532 L2165.21 268.587 L2154.72 243.078 L2159.24 243.078 L2167.34 263.356 L2175.44 243.078 L2179.96 243.078 L2168.57 271.411 Z\" fill=\"#000000\" fill-rule=\"evenodd\" fill-opacity=\"1\" /><path clip-path=\"url(#clip050)\" d=\"M 0 0 M2189.05 265.069 L2205.37 265.069 L2205.37 269.004 L2183.43 269.004 L2183.43 265.069 Q2186.09 262.314 2190.67 257.685 Q2195.28 253.032 2196.46 251.689 Q2198.71 249.166 2199.58 247.43 Q2200.49 245.671 2200.49 243.981 Q2200.49 241.226 2198.54 239.49 Q2196.62 237.754 2193.52 237.754 Q2191.32 237.754 2188.87 238.518 Q2186.44 239.282 2183.66 240.833 L2183.66 236.111 Q2186.48 234.976 2188.94 234.398 Q2191.39 233.819 2193.43 233.819 Q2198.8 233.819 2201.99 236.504 Q2205.19 239.189 2205.19 243.68 Q2205.19 245.81 2204.38 247.731 Q2203.59 249.629 2201.48 252.222 Q2200.9 252.893 2197.8 256.111 Q2194.7 259.305 2189.05 265.069 Z\" fill=\"#000000\" fill-rule=\"evenodd\" fill-opacity=\"1\" /><polyline clip-path=\"url(#clip050)\" style=\"stroke:#3da44d; stroke-width:4; stroke-opacity:1; fill:none\" points=\"\n",
       "  1986.72,312.204 2130.72,312.204 \n",
       "  \"/>\n",
       "<path clip-path=\"url(#clip050)\" d=\"M 0 0 M2168.57 331.891 Q2166.76 336.521 2165.05 337.933 Q2163.33 339.345 2160.46 339.345 L2157.06 339.345 L2157.06 335.78 L2159.56 335.78 Q2161.32 335.78 2162.29 334.947 Q2163.27 334.114 2164.45 331.012 L2165.21 329.067 L2154.72 303.558 L2159.24 303.558 L2167.34 323.836 L2175.44 303.558 L2179.96 303.558 L2168.57 331.891 Z\" fill=\"#000000\" fill-rule=\"evenodd\" fill-opacity=\"1\" /><path clip-path=\"url(#clip050)\" d=\"M 0 0 M2199.19 310.85 Q2202.55 311.568 2204.42 313.836 Q2206.32 316.105 2206.32 319.438 Q2206.32 324.554 2202.8 327.354 Q2199.28 330.155 2192.8 330.155 Q2190.63 330.155 2188.31 329.716 Q2186.02 329.299 2183.57 328.442 L2183.57 323.929 Q2185.51 325.063 2187.83 325.642 Q2190.14 326.22 2192.66 326.22 Q2197.06 326.22 2199.35 324.484 Q2201.67 322.748 2201.67 319.438 Q2201.67 316.382 2199.52 314.669 Q2197.39 312.933 2193.57 312.933 L2189.54 312.933 L2189.54 309.091 L2193.75 309.091 Q2197.2 309.091 2199.03 307.725 Q2200.86 306.336 2200.86 303.743 Q2200.86 301.081 2198.96 299.669 Q2197.08 298.234 2193.57 298.234 Q2191.65 298.234 2189.45 298.651 Q2187.25 299.068 2184.61 299.947 L2184.61 295.781 Q2187.27 295.04 2189.58 294.669 Q2191.92 294.299 2193.98 294.299 Q2199.31 294.299 2202.41 296.73 Q2205.51 299.137 2205.51 303.257 Q2205.51 306.128 2203.87 308.118 Q2202.22 310.086 2199.19 310.85 Z\" fill=\"#000000\" fill-rule=\"evenodd\" fill-opacity=\"1\" /><polyline clip-path=\"url(#clip050)\" style=\"stroke:#c271d2; stroke-width:4; stroke-opacity:1; fill:none\" points=\"\n",
       "  1986.72,372.684 2130.72,372.684 \n",
       "  \"/>\n",
       "<path clip-path=\"url(#clip050)\" d=\"M 0 0 M2168.57 392.371 Q2166.76 397.001 2165.05 398.413 Q2163.33 399.825 2160.46 399.825 L2157.06 399.825 L2157.06 396.26 L2159.56 396.26 Q2161.32 396.26 2162.29 395.427 Q2163.27 394.594 2164.45 391.492 L2165.21 389.547 L2154.72 364.038 L2159.24 364.038 L2167.34 384.316 L2175.44 364.038 L2179.96 364.038 L2168.57 392.371 Z\" fill=\"#000000\" fill-rule=\"evenodd\" fill-opacity=\"1\" /><path clip-path=\"url(#clip050)\" d=\"M 0 0 M2197.87 359.478 L2186.07 377.927 L2197.87 377.927 L2197.87 359.478 M2196.64 355.404 L2202.52 355.404 L2202.52 377.927 L2207.46 377.927 L2207.46 381.816 L2202.52 381.816 L2202.52 389.964 L2197.87 389.964 L2197.87 381.816 L2182.27 381.816 L2182.27 377.302 L2196.64 355.404 Z\" fill=\"#000000\" fill-rule=\"evenodd\" fill-opacity=\"1\" /><polyline clip-path=\"url(#clip050)\" style=\"stroke:#ac8d18; stroke-width:4; stroke-opacity:1; fill:none\" points=\"\n",
       "  1986.72,433.164 2130.72,433.164 \n",
       "  \"/>\n",
       "<path clip-path=\"url(#clip050)\" d=\"M 0 0 M2168.57 452.851 Q2166.76 457.481 2165.05 458.893 Q2163.33 460.305 2160.46 460.305 L2157.06 460.305 L2157.06 456.74 L2159.56 456.74 Q2161.32 456.74 2162.29 455.907 Q2163.27 455.074 2164.45 451.972 L2165.21 450.027 L2154.72 424.518 L2159.24 424.518 L2167.34 444.796 L2175.44 424.518 L2179.96 424.518 L2168.57 452.851 Z\" fill=\"#000000\" fill-rule=\"evenodd\" fill-opacity=\"1\" /><path clip-path=\"url(#clip050)\" d=\"M 0 0 M2185.07 415.884 L2203.43 415.884 L2203.43 419.819 L2189.35 419.819 L2189.35 428.291 Q2190.37 427.944 2191.39 427.782 Q2192.41 427.597 2193.43 427.597 Q2199.21 427.597 2202.59 430.768 Q2205.97 433.94 2205.97 439.356 Q2205.97 444.935 2202.5 448.037 Q2199.03 451.115 2192.71 451.115 Q2190.53 451.115 2188.27 450.745 Q2186.02 450.375 2183.61 449.634 L2183.61 444.935 Q2185.7 446.069 2187.92 446.625 Q2190.14 447.18 2192.62 447.18 Q2196.62 447.18 2198.96 445.074 Q2201.3 442.967 2201.3 439.356 Q2201.3 435.745 2198.96 433.639 Q2196.62 431.532 2192.62 431.532 Q2190.74 431.532 2188.87 431.949 Q2187.02 432.365 2185.07 433.245 L2185.07 415.884 Z\" fill=\"#000000\" fill-rule=\"evenodd\" fill-opacity=\"1\" /><polyline clip-path=\"url(#clip050)\" style=\"stroke:#00a9ad; stroke-width:4; stroke-opacity:1; fill:none\" points=\"\n",
       "  1986.72,493.644 2130.72,493.644 \n",
       "  \"/>\n",
       "<path clip-path=\"url(#clip050)\" d=\"M 0 0 M2168.57 513.331 Q2166.76 517.961 2165.05 519.373 Q2163.33 520.785 2160.46 520.785 L2157.06 520.785 L2157.06 517.22 L2159.56 517.22 Q2161.32 517.22 2162.29 516.387 Q2163.27 515.554 2164.45 512.452 L2165.21 510.507 L2154.72 484.998 L2159.24 484.998 L2167.34 505.276 L2175.44 484.998 L2179.96 484.998 L2168.57 513.331 Z\" fill=\"#000000\" fill-rule=\"evenodd\" fill-opacity=\"1\" /><path clip-path=\"url(#clip050)\" d=\"M 0 0 M2195.6 491.781 Q2192.46 491.781 2190.6 493.933 Q2188.77 496.086 2188.77 499.836 Q2188.77 503.563 2190.6 505.739 Q2192.46 507.892 2195.6 507.892 Q2198.75 507.892 2200.58 505.739 Q2202.43 503.563 2202.43 499.836 Q2202.43 496.086 2200.58 493.933 Q2198.75 491.781 2195.6 491.781 M2204.89 477.128 L2204.89 481.387 Q2203.13 480.554 2201.32 480.114 Q2199.54 479.674 2197.78 479.674 Q2193.15 479.674 2190.7 482.799 Q2188.27 485.924 2187.92 492.244 Q2189.28 490.23 2191.34 489.165 Q2193.4 488.077 2195.88 488.077 Q2201.09 488.077 2204.1 491.248 Q2207.13 494.396 2207.13 499.836 Q2207.13 505.16 2203.98 508.378 Q2200.83 511.595 2195.6 511.595 Q2189.61 511.595 2186.44 507.012 Q2183.27 502.406 2183.27 493.679 Q2183.27 485.484 2187.15 480.623 Q2191.04 475.739 2197.59 475.739 Q2199.35 475.739 2201.14 476.086 Q2202.94 476.434 2204.89 477.128 Z\" fill=\"#000000\" fill-rule=\"evenodd\" fill-opacity=\"1\" /><polyline clip-path=\"url(#clip050)\" style=\"stroke:#ed5d92; stroke-width:4; stroke-opacity:1; fill:none\" points=\"\n",
       "  1986.72,554.124 2130.72,554.124 \n",
       "  \"/>\n",
       "<path clip-path=\"url(#clip050)\" d=\"M 0 0 M2168.57 573.811 Q2166.76 578.441 2165.05 579.853 Q2163.33 581.265 2160.46 581.265 L2157.06 581.265 L2157.06 577.7 L2159.56 577.7 Q2161.32 577.7 2162.29 576.867 Q2163.27 576.034 2164.45 572.932 L2165.21 570.987 L2154.72 545.478 L2159.24 545.478 L2167.34 565.756 L2175.44 545.478 L2179.96 545.478 L2168.57 573.811 Z\" fill=\"#000000\" fill-rule=\"evenodd\" fill-opacity=\"1\" /><path clip-path=\"url(#clip050)\" d=\"M 0 0 M2183.84 536.844 L2206.07 536.844 L2206.07 538.835 L2193.52 571.404 L2188.64 571.404 L2200.44 540.779 L2183.84 540.779 L2183.84 536.844 Z\" fill=\"#000000\" fill-rule=\"evenodd\" fill-opacity=\"1\" /><polyline clip-path=\"url(#clip050)\" style=\"stroke:#c68125; stroke-width:4; stroke-opacity:1; fill:none\" points=\"\n",
       "  1986.72,614.604 2130.72,614.604 \n",
       "  \"/>\n",
       "<path clip-path=\"url(#clip050)\" d=\"M 0 0 M2168.57 634.291 Q2166.76 638.921 2165.05 640.333 Q2163.33 641.745 2160.46 641.745 L2157.06 641.745 L2157.06 638.18 L2159.56 638.18 Q2161.32 638.18 2162.29 637.347 Q2163.27 636.514 2164.45 633.412 L2165.21 631.467 L2154.72 605.958 L2159.24 605.958 L2167.34 626.236 L2175.44 605.958 L2179.96 605.958 L2168.57 634.291 Z\" fill=\"#000000\" fill-rule=\"evenodd\" fill-opacity=\"1\" /><path clip-path=\"url(#clip050)\" d=\"M 0 0 M2195.02 615.472 Q2191.69 615.472 2189.77 617.255 Q2187.87 619.037 2187.87 622.162 Q2187.87 625.287 2189.77 627.069 Q2191.69 628.852 2195.02 628.852 Q2198.36 628.852 2200.28 627.069 Q2202.2 625.264 2202.2 622.162 Q2202.2 619.037 2200.28 617.255 Q2198.38 615.472 2195.02 615.472 M2190.35 613.481 Q2187.34 612.741 2185.65 610.681 Q2183.98 608.62 2183.98 605.657 Q2183.98 601.514 2186.92 599.106 Q2189.89 596.699 2195.02 596.699 Q2200.19 596.699 2203.13 599.106 Q2206.07 601.514 2206.07 605.657 Q2206.07 608.62 2204.38 610.681 Q2202.71 612.741 2199.72 613.481 Q2203.1 614.268 2204.98 616.56 Q2206.88 618.852 2206.88 622.162 Q2206.88 627.185 2203.8 629.87 Q2200.74 632.555 2195.02 632.555 Q2189.31 632.555 2186.23 629.87 Q2183.17 627.185 2183.17 622.162 Q2183.17 618.852 2185.07 616.56 Q2186.97 614.268 2190.35 613.481 M2188.64 606.097 Q2188.64 608.782 2190.3 610.287 Q2191.99 611.792 2195.02 611.792 Q2198.03 611.792 2199.72 610.287 Q2201.44 608.782 2201.44 606.097 Q2201.44 603.412 2199.72 601.907 Q2198.03 600.403 2195.02 600.403 Q2191.99 600.403 2190.3 601.907 Q2188.64 603.412 2188.64 606.097 Z\" fill=\"#000000\" fill-rule=\"evenodd\" fill-opacity=\"1\" /><polyline clip-path=\"url(#clip050)\" style=\"stroke:#00a98d; stroke-width:4; stroke-opacity:1; fill:none\" points=\"\n",
       "  1986.72,675.084 2130.72,675.084 \n",
       "  \"/>\n",
       "<path clip-path=\"url(#clip050)\" d=\"M 0 0 M2168.57 694.771 Q2166.76 699.401 2165.05 700.813 Q2163.33 702.225 2160.46 702.225 L2157.06 702.225 L2157.06 698.66 L2159.56 698.66 Q2161.32 698.66 2162.29 697.827 Q2163.27 696.994 2164.45 693.892 L2165.21 691.947 L2154.72 666.438 L2159.24 666.438 L2167.34 686.716 L2175.44 666.438 L2179.96 666.438 L2168.57 694.771 Z\" fill=\"#000000\" fill-rule=\"evenodd\" fill-opacity=\"1\" /><path clip-path=\"url(#clip050)\" d=\"M 0 0 M2185.16 691.647 L2185.16 687.387 Q2186.92 688.221 2188.73 688.66 Q2190.53 689.1 2192.27 689.1 Q2196.9 689.1 2199.33 685.998 Q2201.78 682.873 2202.13 676.531 Q2200.79 678.522 2198.73 679.586 Q2196.67 680.651 2194.17 680.651 Q2188.98 680.651 2185.95 677.526 Q2182.94 674.378 2182.94 668.938 Q2182.94 663.614 2186.09 660.397 Q2189.24 657.179 2194.47 657.179 Q2200.46 657.179 2203.61 661.786 Q2206.78 666.369 2206.78 675.119 Q2206.78 683.29 2202.89 688.174 Q2199.03 693.035 2192.48 693.035 Q2190.72 693.035 2188.91 692.688 Q2187.11 692.341 2185.16 691.647 M2194.47 676.994 Q2197.62 676.994 2199.45 674.841 Q2201.3 672.688 2201.3 668.938 Q2201.3 665.211 2199.45 663.059 Q2197.62 660.883 2194.47 660.883 Q2191.32 660.883 2189.47 663.059 Q2187.64 665.211 2187.64 668.938 Q2187.64 672.688 2189.47 674.841 Q2191.32 676.994 2194.47 676.994 Z\" fill=\"#000000\" fill-rule=\"evenodd\" fill-opacity=\"1\" /><polyline clip-path=\"url(#clip050)\" style=\"stroke:#8e971d; stroke-width:4; stroke-opacity:1; fill:none\" points=\"\n",
       "  1986.72,735.564 2130.72,735.564 \n",
       "  \"/>\n",
       "<path clip-path=\"url(#clip050)\" d=\"M 0 0 M2168.57 755.251 Q2166.76 759.881 2165.05 761.293 Q2163.33 762.705 2160.46 762.705 L2157.06 762.705 L2157.06 759.14 L2159.56 759.14 Q2161.32 759.14 2162.29 758.307 Q2163.27 757.474 2164.45 754.372 L2165.21 752.427 L2154.72 726.918 L2159.24 726.918 L2167.34 747.196 L2175.44 726.918 L2179.96 726.918 L2168.57 755.251 Z\" fill=\"#000000\" fill-rule=\"evenodd\" fill-opacity=\"1\" /><path clip-path=\"url(#clip050)\" d=\"M 0 0 M2185.83 748.909 L2193.47 748.909 L2193.47 722.543 L2185.16 724.21 L2185.16 719.951 L2193.43 718.284 L2198.1 718.284 L2198.1 748.909 L2205.74 748.909 L2205.74 752.844 L2185.83 752.844 L2185.83 748.909 Z\" fill=\"#000000\" fill-rule=\"evenodd\" fill-opacity=\"1\" /><path clip-path=\"url(#clip050)\" d=\"M 0 0 M2220.81 721.363 Q2217.2 721.363 2215.37 724.928 Q2213.57 728.469 2213.57 735.599 Q2213.57 742.705 2215.37 746.27 Q2217.2 749.812 2220.81 749.812 Q2224.45 749.812 2226.25 746.27 Q2228.08 742.705 2228.08 735.599 Q2228.08 728.469 2226.25 724.928 Q2224.45 721.363 2220.81 721.363 M2220.81 717.659 Q2226.62 717.659 2229.68 722.266 Q2232.76 726.849 2232.76 735.599 Q2232.76 744.326 2229.68 748.932 Q2226.62 753.515 2220.81 753.515 Q2215 753.515 2211.92 748.932 Q2208.87 744.326 2208.87 735.599 Q2208.87 726.849 2211.92 722.266 Q2215 717.659 2220.81 717.659 Z\" fill=\"#000000\" fill-rule=\"evenodd\" fill-opacity=\"1\" /></svg>\n"
      ]
     },
     "execution_count": 355,
     "metadata": {},
     "output_type": "execute_result"
    }
   ],
   "source": [
    "@polyvar x\n",
    "\n",
    "basis = [cheb(n,x) for n in 0:4]\n",
    "plot()\n",
    "for i in 1:5\n",
    "plot!( -1:0.01:1,  [ basis[i](x => x1) + 1 for x1 in -1:0.01:1 ]   )\n",
    "   plot!( -1:0.01:1,  [ (- basis[i](x => x1)) + 1 for x1 in -1:0.01:1 ]   )\n",
    "end\n",
    "plot!()"
   ]
  },
  {
   "cell_type": "code",
   "execution_count": 186,
   "metadata": {},
   "outputs": [
    {
     "data": {
      "text/plain": [
       "quote\n",
       "    #= /home/philip/.julia/packages/JuMP/MnJQc/src/macros.jl:44 =#\n",
       "    JuMP._valid_model(model, :model)\n",
       "    #= /home/philip/.julia/packages/JuMP/MnJQc/src/macros.jl:45 =#\n",
       "    begin\n",
       "        #= /home/philip/.julia/packages/JuMP/MnJQc/src/macros.jl:75 =#\n",
       "        JuMP._error_if_cannot_register(model, :a)\n",
       "        #= /home/philip/.julia/packages/JuMP/MnJQc/src/macros.jl:79 =#\n",
       "        var\"#743###881\" = (JuMP.Containers).container(((var\"##882\",)->begin\n",
       "                        #= /home/philip/.julia/packages/JuMP/MnJQc/src/Containers/macro.jl:183 =#\n",
       "                        JuMP.add_variable(model, JuMP.build_variable(JuMP.var\"#_error#81\"{Tuple{Symbol,Expr}}((:model, :(a[1:5] >= 0))), JuMP.VariableInfo(true, 0, false, NaN, false, NaN, false, NaN, false, false)), JuMP.string(\"a\", \"[\", JuMP.string(var\"##882\"), \"]\"))\n",
       "                    end), (JuMP.Containers).vectorized_product((JuMP.Base).OneTo(1:5)))\n",
       "        #= /home/philip/.julia/packages/JuMP/MnJQc/src/macros.jl:80 =#\n",
       "        (JuMP.object_dictionary(model))[:a] = var\"#743###881\"\n",
       "        #= /home/philip/.julia/packages/JuMP/MnJQc/src/macros.jl:85 =#\n",
       "        a = var\"#743###881\"\n",
       "    end\n",
       "end"
      ]
     },
     "execution_count": 186,
     "metadata": {},
     "output_type": "execute_result"
    }
   ],
   "source": [
    "@macroexpand(@variable(model , a[1:5] >= 0))"
   ]
  },
  {
   "cell_type": "code",
   "execution_count": 184,
   "metadata": {},
   "outputs": [
    {
     "data": {
      "text/latex": [
       "$$ (8 a[5])x^{4} + (4 a[4])x^{3} + (2 a[3] - 8 a[5])x^{2} + (a[2] - 3 a[4])x + (2 a[1] + a[2] + a[4] + 2 a[5]) $$"
      ],
      "text/plain": [
       "(8 a[5])x⁴ + (4 a[4])x³ + (2 a[3] - 8 a[5])x² + (a[2] - 3 a[4])x + (2 a[1] + a[2] + a[4] + 2 a[5])"
      ]
     },
     "execution_count": 184,
     "metadata": {},
     "output_type": "execute_result"
    }
   ],
   "source": [
    "p = sum(a .* basis) # this is a basic positive polynomial variable"
   ]
  },
  {
   "cell_type": "code",
   "execution_count": 369,
   "metadata": {},
   "outputs": [
    {
     "name": "stdout",
     "output_type": "stream",
     "text": [
      "1.5553524853154919\n",
      "Welcome to the CBC MILP Solver \n",
      "Version: 2.10.3 \n",
      "Build Date: Jan  1 1970 \n",
      "\n",
      "command line - Cbc_C_Interface -solve -quit (default strategy 1)\n",
      "Presolve 59 (-6) rows, 400 (-50) columns and 7252 (-434) elements\n",
      "Perturbing problem by 0.001% of 26494.485 - largest nonzero change 0.026439506 ( 1.168212%) - largest zero change 0.026360678\n",
      "0  Obj 0 Primal inf 4.3184859 (1)\n",
      "31  Obj 1.0183978 Primal inf 9.3001125 (47)\n",
      "62  Obj 1.0558233 Primal inf 1.2623362 (38)\n",
      "93  Obj 1.1760499 Primal inf 0.29292219 (36)\n",
      "124  Obj 1.3130697 Primal inf 0.0080179149 (16)\n",
      "156  Obj 1.5515608 Primal inf 0.0024114397 (16)\n",
      "161  Obj 1.5593858\n",
      "Optimal - objective value 1.5588844\n",
      "After Postsolve, objective 1.5588844, infeasibilities - dual 6.0094668e-05 (2), primal 1.9118645e-07 (1)\n",
      "Presolved model was optimal, full model needs cleaning up\n",
      "0  Obj 1.5588844 Dual inf 4585.5661 (9)\n",
      "0  Obj 1.5588844 Dual inf 4585.5661 (9)\n",
      "30  Obj 1.5553525\n",
      "Optimal - objective value 1.5553525\n",
      "Optimal objective 1.555352485 - 191 iterations time 0.012, Presolve 0.00\n",
      "Total time (CPU seconds):       0.01   (Wallclock seconds):       0.01\n",
      "\n"
     ]
    }
   ],
   "source": [
    "\n",
    "\n",
    "model = Model(Cbc.Optimizer)\n",
    "\n",
    "\n",
    "@polyvar x\n",
    "N = 30\n",
    "basis = vcat([cheb(n,x) + 1 for n in 0:N-1] , [-cheb(n,x) + 1 for n in 0:N-1] ,[(x - 1) ^ 2n for n in 0:N-1] ,  [(x) ^ 2n for n in 0:N-1] ,  [(x + 1) ^ 2n for n in 0:N-1]   )\n",
    "#basis2 = [cheb(n,x) + 1 for n in 0:10]\n",
    "g = (x + 0.5) * (0.5 - x) # relaxation\n",
    "#f = x * (1 - x)  we don't need the domain anymore. it's intrinsic to definition of raised cehbyushev\n",
    "#X = monomials([x], 0:4)\n",
    "\n",
    "#@variable(model, p, Poly(X))\n",
    "@variable(model , a[1:5N] >= 0)\n",
    "p = sum(a .* basis)\n",
    "\n",
    "#@variable(model, l1, SOSPoly(X))\n",
    "@variable(model, l2a[1:5N] >= 0)\n",
    "l2 = sum(l2a .* basis)\n",
    "\n",
    "@variable(model, l3a[1:5N] >= 0)\n",
    "l3 = sum(l3a .* basis)\n",
    "#@constraint(model, p <= -l1 * f + 1)\n",
    "\n",
    "@constraint(model, p == l2 * (g  - g^2 + g^3   ) + 1 + l3)\n",
    "\n",
    "#for t in  coefficients((l2 * g + 1 + l3) - p)\n",
    "#  @constraint(model, t == 0)\n",
    "# end\n",
    "@objective(model, Min, integrate(p, x, -1, 1))\n",
    "#println(model)\n",
    "optimize!(model)\n",
    "\n",
    "# The lower bound found is 3\n",
    "println(objective_value(model))\n"
   ]
  },
  {
   "cell_type": "code",
   "execution_count": 343,
   "metadata": {},
   "outputs": [
    {
     "data": {
      "text/latex": [
       "$$ -0.0011672082055643148x^{29} + 0.008462259490341283x^{27} - 0.02758279294157136x^{25} - 6771.206496383098x^{24} + 0.05333624176293489x^{23} + 40627.238978298585x^{22} - 0.06799810434788471x^{21} - 105450.14175419156x^{20} + 0.06009820896354024x^{19} + 154834.35146988745x^{18} - 0.03771092570074511x^{17} - 141351.77762957543x^{16} + 0.01693189406908076x^{15} + 83300.63046026144x^{14} - 0.005416362216811275x^{13} - 32070.539427451004x^{12} + 0.001214910469267724x^{11} + 8064.059083680837x^{10} - 0.00018530937676187857x^{9} - 1290.6708796665098x^{8} + 1.8201326205672873e-5x^{7} + 110.08997006679175x^{6} - 1.041691170728751e-6x^{5} - 2.875939654650651x^{4} + 2.8572548664767622e-8x^{3} + 0.12753174876393544x^{2} - 2.4606184907790806e-10x + 1.0003245014457363 $$"
      ],
      "text/plain": [
       "-0.0011672082055643148x²⁹ + 0.008462259490341283x²⁷ - 0.02758279294157136x²⁵ - 6771.206496383098x²⁴ + 0.05333624176293489x²³ + 40627.238978298585x²² - 0.06799810434788471x²¹ - 105450.14175419156x²⁰ + 0.06009820896354024x¹⁹ + 154834.35146988745x¹⁸ - 0.03771092570074511x¹⁷ - 141351.77762957543x¹⁶ + 0.01693189406908076x¹⁵ + 83300.63046026144x¹⁴ - 0.005416362216811275x¹³ - 32070.539427451004x¹² + 0.001214910469267724x¹¹ + 8064.059083680837x¹⁰ - 0.00018530937676187857x⁹ - 1290.6708796665098x⁸ + 1.8201326205672873e-5x⁷ + 110.08997006679175x⁶ - 1.041691170728751e-6x⁵ - 2.875939654650651x⁴ + 2.8572548664767622e-8x³ + 0.12753174876393544x² - 2.4606184907790806e-10x + 1.0003245014457363"
      ]
     },
     "execution_count": 343,
     "metadata": {},
     "output_type": "execute_result"
    }
   ],
   "source": [
    "value(p)"
   ]
  },
  {
   "cell_type": "code",
   "execution_count": 370,
   "metadata": {},
   "outputs": [
    {
     "data": {
      "image/svg+xml": [
       "<?xml version=\"1.0\" encoding=\"utf-8\"?>\n",
       "<svg xmlns=\"http://www.w3.org/2000/svg\" xmlns:xlink=\"http://www.w3.org/1999/xlink\" width=\"600\" height=\"400\" viewBox=\"0 0 2400 1600\">\n",
       "<defs>\n",
       "  <clipPath id=\"clip370\">\n",
       "    <rect x=\"0\" y=\"0\" width=\"2400\" height=\"1600\"/>\n",
       "  </clipPath>\n",
       "</defs>\n",
       "<path clip-path=\"url(#clip370)\" d=\"\n",
       "M0 1600 L2400 1600 L2400 0 L0 0  Z\n",
       "  \" fill=\"#ffffff\" fill-rule=\"evenodd\" fill-opacity=\"1\"/>\n",
       "<defs>\n",
       "  <clipPath id=\"clip371\">\n",
       "    <rect x=\"480\" y=\"0\" width=\"1681\" height=\"1600\"/>\n",
       "  </clipPath>\n",
       "</defs>\n",
       "<path clip-path=\"url(#clip370)\" d=\"\n",
       "M173.867 1486.45 L2352.76 1486.45 L2352.76 47.2441 L173.867 47.2441  Z\n",
       "  \" fill=\"#ffffff\" fill-rule=\"evenodd\" fill-opacity=\"1\"/>\n",
       "<defs>\n",
       "  <clipPath id=\"clip372\">\n",
       "    <rect x=\"173\" y=\"47\" width=\"2180\" height=\"1440\"/>\n",
       "  </clipPath>\n",
       "</defs>\n",
       "<polyline clip-path=\"url(#clip372)\" style=\"stroke:#000000; stroke-width:2; stroke-opacity:0.1; fill:none\" points=\"\n",
       "  235.533,1486.45 235.533,47.2441 \n",
       "  \"/>\n",
       "<polyline clip-path=\"url(#clip372)\" style=\"stroke:#000000; stroke-width:2; stroke-opacity:0.1; fill:none\" points=\"\n",
       "  749.422,1486.45 749.422,47.2441 \n",
       "  \"/>\n",
       "<polyline clip-path=\"url(#clip372)\" style=\"stroke:#000000; stroke-width:2; stroke-opacity:0.1; fill:none\" points=\"\n",
       "  1263.31,1486.45 1263.31,47.2441 \n",
       "  \"/>\n",
       "<polyline clip-path=\"url(#clip372)\" style=\"stroke:#000000; stroke-width:2; stroke-opacity:0.1; fill:none\" points=\"\n",
       "  1777.2,1486.45 1777.2,47.2441 \n",
       "  \"/>\n",
       "<polyline clip-path=\"url(#clip372)\" style=\"stroke:#000000; stroke-width:2; stroke-opacity:0.1; fill:none\" points=\"\n",
       "  2291.09,1486.45 2291.09,47.2441 \n",
       "  \"/>\n",
       "<polyline clip-path=\"url(#clip372)\" style=\"stroke:#000000; stroke-width:2; stroke-opacity:0.1; fill:none\" points=\"\n",
       "  173.867,1361.97 2352.76,1361.97 \n",
       "  \"/>\n",
       "<polyline clip-path=\"url(#clip372)\" style=\"stroke:#000000; stroke-width:2; stroke-opacity:0.1; fill:none\" points=\"\n",
       "  173.867,1043.47 2352.76,1043.47 \n",
       "  \"/>\n",
       "<polyline clip-path=\"url(#clip372)\" style=\"stroke:#000000; stroke-width:2; stroke-opacity:0.1; fill:none\" points=\"\n",
       "  173.867,724.975 2352.76,724.975 \n",
       "  \"/>\n",
       "<polyline clip-path=\"url(#clip372)\" style=\"stroke:#000000; stroke-width:2; stroke-opacity:0.1; fill:none\" points=\"\n",
       "  173.867,406.476 2352.76,406.476 \n",
       "  \"/>\n",
       "<polyline clip-path=\"url(#clip372)\" style=\"stroke:#000000; stroke-width:2; stroke-opacity:0.1; fill:none\" points=\"\n",
       "  173.867,87.9763 2352.76,87.9763 \n",
       "  \"/>\n",
       "<polyline clip-path=\"url(#clip370)\" style=\"stroke:#000000; stroke-width:4; stroke-opacity:1; fill:none\" points=\"\n",
       "  173.867,1486.45 2352.76,1486.45 \n",
       "  \"/>\n",
       "<polyline clip-path=\"url(#clip370)\" style=\"stroke:#000000; stroke-width:4; stroke-opacity:1; fill:none\" points=\"\n",
       "  173.867,1486.45 173.867,47.2441 \n",
       "  \"/>\n",
       "<polyline clip-path=\"url(#clip370)\" style=\"stroke:#000000; stroke-width:4; stroke-opacity:1; fill:none\" points=\"\n",
       "  235.533,1486.45 235.533,1469.18 \n",
       "  \"/>\n",
       "<polyline clip-path=\"url(#clip370)\" style=\"stroke:#000000; stroke-width:4; stroke-opacity:1; fill:none\" points=\"\n",
       "  749.422,1486.45 749.422,1469.18 \n",
       "  \"/>\n",
       "<polyline clip-path=\"url(#clip370)\" style=\"stroke:#000000; stroke-width:4; stroke-opacity:1; fill:none\" points=\"\n",
       "  1263.31,1486.45 1263.31,1469.18 \n",
       "  \"/>\n",
       "<polyline clip-path=\"url(#clip370)\" style=\"stroke:#000000; stroke-width:4; stroke-opacity:1; fill:none\" points=\"\n",
       "  1777.2,1486.45 1777.2,1469.18 \n",
       "  \"/>\n",
       "<polyline clip-path=\"url(#clip370)\" style=\"stroke:#000000; stroke-width:4; stroke-opacity:1; fill:none\" points=\"\n",
       "  2291.09,1486.45 2291.09,1469.18 \n",
       "  \"/>\n",
       "<polyline clip-path=\"url(#clip370)\" style=\"stroke:#000000; stroke-width:4; stroke-opacity:1; fill:none\" points=\"\n",
       "  173.867,1361.97 200.013,1361.97 \n",
       "  \"/>\n",
       "<polyline clip-path=\"url(#clip370)\" style=\"stroke:#000000; stroke-width:4; stroke-opacity:1; fill:none\" points=\"\n",
       "  173.867,1043.47 200.013,1043.47 \n",
       "  \"/>\n",
       "<polyline clip-path=\"url(#clip370)\" style=\"stroke:#000000; stroke-width:4; stroke-opacity:1; fill:none\" points=\"\n",
       "  173.867,724.975 200.013,724.975 \n",
       "  \"/>\n",
       "<polyline clip-path=\"url(#clip370)\" style=\"stroke:#000000; stroke-width:4; stroke-opacity:1; fill:none\" points=\"\n",
       "  173.867,406.476 200.013,406.476 \n",
       "  \"/>\n",
       "<polyline clip-path=\"url(#clip370)\" style=\"stroke:#000000; stroke-width:4; stroke-opacity:1; fill:none\" points=\"\n",
       "  173.867,87.9763 200.013,87.9763 \n",
       "  \"/>\n",
       "<path clip-path=\"url(#clip370)\" d=\"M 0 0 M197.918 1525.04 L210.395 1525.04 L210.395 1528.83 L197.918 1528.83 L197.918 1525.04 Z\" fill=\"#000000\" fill-rule=\"evenodd\" fill-opacity=\"1\" /><path clip-path=\"url(#clip370)\" d=\"M 0 0 M216.274 1535.98 L223.913 1535.98 L223.913 1509.62 L215.603 1511.29 L215.603 1507.03 L223.867 1505.36 L228.543 1505.36 L228.543 1535.98 L236.181 1535.98 L236.181 1539.92 L216.274 1539.92 L216.274 1535.98 Z\" fill=\"#000000\" fill-rule=\"evenodd\" fill-opacity=\"1\" /><path clip-path=\"url(#clip370)\" d=\"M 0 0 M241.251 1534.04 L246.135 1534.04 L246.135 1539.92 L241.251 1539.92 L241.251 1534.04 Z\" fill=\"#000000\" fill-rule=\"evenodd\" fill-opacity=\"1\" /><path clip-path=\"url(#clip370)\" d=\"M 0 0 M261.204 1508.44 Q257.593 1508.44 255.765 1512 Q253.959 1515.55 253.959 1522.67 Q253.959 1529.78 255.765 1533.35 Q257.593 1536.89 261.204 1536.89 Q264.839 1536.89 266.644 1533.35 Q268.473 1529.78 268.473 1522.67 Q268.473 1515.55 266.644 1512 Q264.839 1508.44 261.204 1508.44 M261.204 1504.73 Q267.015 1504.73 270.07 1509.34 Q273.149 1513.92 273.149 1522.67 Q273.149 1531.4 270.07 1536.01 Q267.015 1540.59 261.204 1540.59 Q255.394 1540.59 252.316 1536.01 Q249.26 1531.4 249.26 1522.67 Q249.26 1513.92 252.316 1509.34 Q255.394 1504.73 261.204 1504.73 Z\" fill=\"#000000\" fill-rule=\"evenodd\" fill-opacity=\"1\" /><path clip-path=\"url(#clip370)\" d=\"M 0 0 M711.691 1525.04 L724.168 1525.04 L724.168 1528.83 L711.691 1528.83 L711.691 1525.04 Z\" fill=\"#000000\" fill-rule=\"evenodd\" fill-opacity=\"1\" /><path clip-path=\"url(#clip370)\" d=\"M 0 0 M739.237 1508.44 Q735.626 1508.44 733.797 1512 Q731.992 1515.55 731.992 1522.67 Q731.992 1529.78 733.797 1533.35 Q735.626 1536.89 739.237 1536.89 Q742.871 1536.89 744.677 1533.35 Q746.506 1529.78 746.506 1522.67 Q746.506 1515.55 744.677 1512 Q742.871 1508.44 739.237 1508.44 M739.237 1504.73 Q745.047 1504.73 748.103 1509.34 Q751.182 1513.92 751.182 1522.67 Q751.182 1531.4 748.103 1536.01 Q745.047 1540.59 739.237 1540.59 Q733.427 1540.59 730.348 1536.01 Q727.293 1531.4 727.293 1522.67 Q727.293 1513.92 730.348 1509.34 Q733.427 1504.73 739.237 1504.73 Z\" fill=\"#000000\" fill-rule=\"evenodd\" fill-opacity=\"1\" /><path clip-path=\"url(#clip370)\" d=\"M 0 0 M756.251 1534.04 L761.135 1534.04 L761.135 1539.92 L756.251 1539.92 L756.251 1534.04 Z\" fill=\"#000000\" fill-rule=\"evenodd\" fill-opacity=\"1\" /><path clip-path=\"url(#clip370)\" d=\"M 0 0 M766.251 1505.36 L784.607 1505.36 L784.607 1509.3 L770.533 1509.3 L770.533 1517.77 Q771.552 1517.42 772.57 1517.26 Q773.589 1517.07 774.607 1517.07 Q780.394 1517.07 783.774 1520.24 Q787.154 1523.42 787.154 1528.83 Q787.154 1534.41 783.681 1537.51 Q780.209 1540.59 773.89 1540.59 Q771.714 1540.59 769.445 1540.22 Q767.2 1539.85 764.793 1539.11 L764.793 1534.41 Q766.876 1535.54 769.098 1536.1 Q771.32 1536.66 773.797 1536.66 Q777.802 1536.66 780.14 1534.55 Q782.478 1532.44 782.478 1528.83 Q782.478 1525.22 780.14 1523.11 Q777.802 1521.01 773.797 1521.01 Q771.922 1521.01 770.047 1521.42 Q768.195 1521.84 766.251 1522.72 L766.251 1505.36 Z\" fill=\"#000000\" fill-rule=\"evenodd\" fill-opacity=\"1\" /><path clip-path=\"url(#clip370)\" d=\"M 0 0 M1244.83 1508.44 Q1241.22 1508.44 1239.39 1512 Q1237.58 1515.55 1237.58 1522.67 Q1237.58 1529.78 1239.39 1533.35 Q1241.22 1536.89 1244.83 1536.89 Q1248.46 1536.89 1250.27 1533.35 Q1252.1 1529.78 1252.1 1522.67 Q1252.1 1515.55 1250.27 1512 Q1248.46 1508.44 1244.83 1508.44 M1244.83 1504.73 Q1250.64 1504.73 1253.69 1509.34 Q1256.77 1513.92 1256.77 1522.67 Q1256.77 1531.4 1253.69 1536.01 Q1250.64 1540.59 1244.83 1540.59 Q1239.02 1540.59 1235.94 1536.01 Q1232.88 1531.4 1232.88 1522.67 Q1232.88 1513.92 1235.94 1509.34 Q1239.02 1504.73 1244.83 1504.73 Z\" fill=\"#000000\" fill-rule=\"evenodd\" fill-opacity=\"1\" /><path clip-path=\"url(#clip370)\" d=\"M 0 0 M1261.84 1534.04 L1266.73 1534.04 L1266.73 1539.92 L1261.84 1539.92 L1261.84 1534.04 Z\" fill=\"#000000\" fill-rule=\"evenodd\" fill-opacity=\"1\" /><path clip-path=\"url(#clip370)\" d=\"M 0 0 M1281.79 1508.44 Q1278.18 1508.44 1276.36 1512 Q1274.55 1515.55 1274.55 1522.67 Q1274.55 1529.78 1276.36 1533.35 Q1278.18 1536.89 1281.79 1536.89 Q1285.43 1536.89 1287.23 1533.35 Q1289.06 1529.78 1289.06 1522.67 Q1289.06 1515.55 1287.23 1512 Q1285.43 1508.44 1281.79 1508.44 M1281.79 1504.73 Q1287.61 1504.73 1290.66 1509.34 Q1293.74 1513.92 1293.74 1522.67 Q1293.74 1531.4 1290.66 1536.01 Q1287.61 1540.59 1281.79 1540.59 Q1275.98 1540.59 1272.91 1536.01 Q1269.85 1531.4 1269.85 1522.67 Q1269.85 1513.92 1272.91 1509.34 Q1275.98 1504.73 1281.79 1504.73 Z\" fill=\"#000000\" fill-rule=\"evenodd\" fill-opacity=\"1\" /><path clip-path=\"url(#clip370)\" d=\"M 0 0 M1759.21 1508.44 Q1755.6 1508.44 1753.77 1512 Q1751.97 1515.55 1751.97 1522.67 Q1751.97 1529.78 1753.77 1533.35 Q1755.6 1536.89 1759.21 1536.89 Q1762.85 1536.89 1764.65 1533.35 Q1766.48 1529.78 1766.48 1522.67 Q1766.48 1515.55 1764.65 1512 Q1762.85 1508.44 1759.21 1508.44 M1759.21 1504.73 Q1765.02 1504.73 1768.08 1509.34 Q1771.16 1513.92 1771.16 1522.67 Q1771.16 1531.4 1768.08 1536.01 Q1765.02 1540.59 1759.21 1540.59 Q1753.4 1540.59 1750.33 1536.01 Q1747.27 1531.4 1747.27 1522.67 Q1747.27 1513.92 1750.33 1509.34 Q1753.4 1504.73 1759.21 1504.73 Z\" fill=\"#000000\" fill-rule=\"evenodd\" fill-opacity=\"1\" /><path clip-path=\"url(#clip370)\" d=\"M 0 0 M1776.23 1534.04 L1781.11 1534.04 L1781.11 1539.92 L1776.23 1539.92 L1776.23 1534.04 Z\" fill=\"#000000\" fill-rule=\"evenodd\" fill-opacity=\"1\" /><path clip-path=\"url(#clip370)\" d=\"M 0 0 M1786.23 1505.36 L1804.58 1505.36 L1804.58 1509.3 L1790.51 1509.3 L1790.51 1517.77 Q1791.53 1517.42 1792.55 1517.26 Q1793.57 1517.07 1794.58 1517.07 Q1800.37 1517.07 1803.75 1520.24 Q1807.13 1523.42 1807.13 1528.83 Q1807.13 1534.41 1803.66 1537.51 Q1800.19 1540.59 1793.87 1540.59 Q1791.69 1540.59 1789.42 1540.22 Q1787.18 1539.85 1784.77 1539.11 L1784.77 1534.41 Q1786.85 1535.54 1789.08 1536.1 Q1791.3 1536.66 1793.77 1536.66 Q1797.78 1536.66 1800.12 1534.55 Q1802.45 1532.44 1802.45 1528.83 Q1802.45 1525.22 1800.12 1523.11 Q1797.78 1521.01 1793.77 1521.01 Q1791.9 1521.01 1790.02 1521.42 Q1788.17 1521.84 1786.23 1522.72 L1786.23 1505.36 Z\" fill=\"#000000\" fill-rule=\"evenodd\" fill-opacity=\"1\" /><path clip-path=\"url(#clip370)\" d=\"M 0 0 M2262.99 1535.98 L2270.63 1535.98 L2270.63 1509.62 L2262.32 1511.29 L2262.32 1507.03 L2270.58 1505.36 L2275.26 1505.36 L2275.26 1535.98 L2282.89 1535.98 L2282.89 1539.92 L2262.99 1539.92 L2262.99 1535.98 Z\" fill=\"#000000\" fill-rule=\"evenodd\" fill-opacity=\"1\" /><path clip-path=\"url(#clip370)\" d=\"M 0 0 M2287.96 1534.04 L2292.85 1534.04 L2292.85 1539.92 L2287.96 1539.92 L2287.96 1534.04 Z\" fill=\"#000000\" fill-rule=\"evenodd\" fill-opacity=\"1\" /><path clip-path=\"url(#clip370)\" d=\"M 0 0 M2307.92 1508.44 Q2304.31 1508.44 2302.48 1512 Q2300.67 1515.55 2300.67 1522.67 Q2300.67 1529.78 2302.48 1533.35 Q2304.31 1536.89 2307.92 1536.89 Q2311.55 1536.89 2313.36 1533.35 Q2315.19 1529.78 2315.19 1522.67 Q2315.19 1515.55 2313.36 1512 Q2311.55 1508.44 2307.92 1508.44 M2307.92 1504.73 Q2313.73 1504.73 2316.78 1509.34 Q2319.86 1513.92 2319.86 1522.67 Q2319.86 1531.4 2316.78 1536.01 Q2313.73 1540.59 2307.92 1540.59 Q2302.11 1540.59 2299.03 1536.01 Q2295.97 1531.4 2295.97 1522.67 Q2295.97 1513.92 2299.03 1509.34 Q2302.11 1504.73 2307.92 1504.73 Z\" fill=\"#000000\" fill-rule=\"evenodd\" fill-opacity=\"1\" /><path clip-path=\"url(#clip370)\" d=\"M 0 0 M76.5337 1347.77 Q72.9226 1347.77 71.0939 1351.34 Q69.2884 1354.88 69.2884 1362.01 Q69.2884 1369.11 71.0939 1372.68 Q72.9226 1376.22 76.5337 1376.22 Q80.168 1376.22 81.9735 1372.68 Q83.8022 1369.11 83.8022 1362.01 Q83.8022 1354.88 81.9735 1351.34 Q80.168 1347.77 76.5337 1347.77 M76.5337 1344.07 Q82.3439 1344.07 85.3994 1348.67 Q88.4781 1353.26 88.4781 1362.01 Q88.4781 1370.73 85.3994 1375.34 Q82.3439 1379.92 76.5337 1379.92 Q70.7236 1379.92 67.6449 1375.34 Q64.5893 1370.73 64.5893 1362.01 Q64.5893 1353.26 67.6449 1348.67 Q70.7236 1344.07 76.5337 1344.07 Z\" fill=\"#000000\" fill-rule=\"evenodd\" fill-opacity=\"1\" /><path clip-path=\"url(#clip370)\" d=\"M 0 0 M93.5475 1373.37 L98.4318 1373.37 L98.4318 1379.25 L93.5475 1379.25 L93.5475 1373.37 Z\" fill=\"#000000\" fill-rule=\"evenodd\" fill-opacity=\"1\" /><path clip-path=\"url(#clip370)\" d=\"M 0 0 M107.529 1375.32 L123.848 1375.32 L123.848 1379.25 L101.904 1379.25 L101.904 1375.32 Q104.566 1372.56 109.149 1367.93 Q113.756 1363.28 114.936 1361.94 Q117.182 1359.42 118.061 1357.68 Q118.964 1355.92 118.964 1354.23 Q118.964 1351.48 117.02 1349.74 Q115.098 1348 111.996 1348 Q109.797 1348 107.344 1348.77 Q104.913 1349.53 102.135 1351.08 L102.135 1346.36 Q104.959 1345.23 107.413 1344.65 Q109.867 1344.07 111.904 1344.07 Q117.274 1344.07 120.469 1346.75 Q123.663 1349.44 123.663 1353.93 Q123.663 1356.06 122.853 1357.98 Q122.066 1359.88 119.959 1362.47 Q119.381 1363.14 116.279 1366.36 Q113.177 1369.55 107.529 1375.32 Z\" fill=\"#000000\" fill-rule=\"evenodd\" fill-opacity=\"1\" /><path clip-path=\"url(#clip370)\" d=\"M 0 0 M128.964 1344.69 L147.32 1344.69 L147.32 1348.63 L133.246 1348.63 L133.246 1357.1 Q134.265 1356.75 135.283 1356.59 Q136.302 1356.41 137.32 1356.41 Q143.107 1356.41 146.487 1359.58 Q149.867 1362.75 149.867 1368.17 Q149.867 1373.74 146.394 1376.85 Q142.922 1379.92 136.603 1379.92 Q134.427 1379.92 132.158 1379.55 Q129.913 1379.18 127.506 1378.44 L127.506 1373.74 Q129.589 1374.88 131.811 1375.43 Q134.033 1375.99 136.51 1375.99 Q140.515 1375.99 142.853 1373.88 Q145.191 1371.78 145.191 1368.17 Q145.191 1364.55 142.853 1362.45 Q140.515 1360.34 136.51 1360.34 Q134.635 1360.34 132.76 1360.76 Q130.908 1361.17 128.964 1362.05 L128.964 1344.69 Z\" fill=\"#000000\" fill-rule=\"evenodd\" fill-opacity=\"1\" /><path clip-path=\"url(#clip370)\" d=\"M 0 0 M74.9365 1029.27 Q71.3254 1029.27 69.4967 1032.84 Q67.6912 1036.38 67.6912 1043.51 Q67.6912 1050.62 69.4967 1054.18 Q71.3254 1057.72 74.9365 1057.72 Q78.5707 1057.72 80.3763 1054.18 Q82.205 1050.62 82.205 1043.51 Q82.205 1036.38 80.3763 1032.84 Q78.5707 1029.27 74.9365 1029.27 M74.9365 1025.57 Q80.7467 1025.57 83.8022 1030.18 Q86.8809 1034.76 86.8809 1043.51 Q86.8809 1052.24 83.8022 1056.84 Q80.7467 1061.43 74.9365 1061.43 Q69.1264 1061.43 66.0477 1056.84 Q62.9921 1052.24 62.9921 1043.51 Q62.9921 1034.76 66.0477 1030.18 Q69.1264 1025.57 74.9365 1025.57 Z\" fill=\"#000000\" fill-rule=\"evenodd\" fill-opacity=\"1\" /><path clip-path=\"url(#clip370)\" d=\"M 0 0 M91.9503 1054.87 L96.8345 1054.87 L96.8345 1060.75 L91.9503 1060.75 L91.9503 1054.87 Z\" fill=\"#000000\" fill-rule=\"evenodd\" fill-opacity=\"1\" /><path clip-path=\"url(#clip370)\" d=\"M 0 0 M101.95 1026.19 L120.307 1026.19 L120.307 1030.13 L106.233 1030.13 L106.233 1038.6 Q107.251 1038.25 108.27 1038.09 Q109.288 1037.91 110.307 1037.91 Q116.094 1037.91 119.473 1041.08 Q122.853 1044.25 122.853 1049.67 Q122.853 1055.24 119.381 1058.35 Q115.909 1061.43 109.589 1061.43 Q107.413 1061.43 105.145 1061.06 Q102.899 1060.68 100.492 1059.94 L100.492 1055.24 Q102.575 1056.38 104.797 1056.93 Q107.02 1057.49 109.497 1057.49 Q113.501 1057.49 115.839 1055.38 Q118.177 1053.28 118.177 1049.67 Q118.177 1046.06 115.839 1043.95 Q113.501 1041.84 109.497 1041.84 Q107.622 1041.84 105.747 1042.26 Q103.895 1042.68 101.95 1043.56 L101.95 1026.19 Z\" fill=\"#000000\" fill-rule=\"evenodd\" fill-opacity=\"1\" /><path clip-path=\"url(#clip370)\" d=\"M 0 0 M137.922 1029.27 Q134.311 1029.27 132.482 1032.84 Q130.677 1036.38 130.677 1043.51 Q130.677 1050.62 132.482 1054.18 Q134.311 1057.72 137.922 1057.72 Q141.557 1057.72 143.362 1054.18 Q145.191 1050.62 145.191 1043.51 Q145.191 1036.38 143.362 1032.84 Q141.557 1029.27 137.922 1029.27 M137.922 1025.57 Q143.732 1025.57 146.788 1030.18 Q149.867 1034.76 149.867 1043.51 Q149.867 1052.24 146.788 1056.84 Q143.732 1061.43 137.922 1061.43 Q132.112 1061.43 129.033 1056.84 Q125.978 1052.24 125.978 1043.51 Q125.978 1034.76 129.033 1030.18 Q132.112 1025.57 137.922 1025.57 Z\" fill=\"#000000\" fill-rule=\"evenodd\" fill-opacity=\"1\" /><path clip-path=\"url(#clip370)\" d=\"M 0 0 M75.8393 710.774 Q72.2282 710.774 70.3995 714.338 Q68.5939 717.88 68.5939 725.01 Q68.5939 732.116 70.3995 735.681 Q72.2282 739.222 75.8393 739.222 Q79.4735 739.222 81.2791 735.681 Q83.1078 732.116 83.1078 725.01 Q83.1078 717.88 81.2791 714.338 Q79.4735 710.774 75.8393 710.774 M75.8393 707.07 Q81.6494 707.07 84.705 711.676 Q87.7837 716.26 87.7837 725.01 Q87.7837 733.736 84.705 738.343 Q81.6494 742.926 75.8393 742.926 Q70.0291 742.926 66.9504 738.343 Q63.8949 733.736 63.8949 725.01 Q63.8949 716.26 66.9504 711.676 Q70.0291 707.07 75.8393 707.07 Z\" fill=\"#000000\" fill-rule=\"evenodd\" fill-opacity=\"1\" /><path clip-path=\"url(#clip370)\" d=\"M 0 0 M92.8531 736.375 L97.7373 736.375 L97.7373 742.255 L92.8531 742.255 L92.8531 736.375 Z\" fill=\"#000000\" fill-rule=\"evenodd\" fill-opacity=\"1\" /><path clip-path=\"url(#clip370)\" d=\"M 0 0 M101.626 707.695 L123.848 707.695 L123.848 709.686 L111.302 742.255 L106.418 742.255 L118.223 711.63 L101.626 711.63 L101.626 707.695 Z\" fill=\"#000000\" fill-rule=\"evenodd\" fill-opacity=\"1\" /><path clip-path=\"url(#clip370)\" d=\"M 0 0 M128.964 707.695 L147.32 707.695 L147.32 711.63 L133.246 711.63 L133.246 720.102 Q134.265 719.755 135.283 719.593 Q136.302 719.408 137.32 719.408 Q143.107 719.408 146.487 722.579 Q149.867 725.75 149.867 731.167 Q149.867 736.746 146.394 739.847 Q142.922 742.926 136.603 742.926 Q134.427 742.926 132.158 742.556 Q129.913 742.185 127.506 741.445 L127.506 736.746 Q129.589 737.88 131.811 738.435 Q134.033 738.991 136.51 738.991 Q140.515 738.991 142.853 736.884 Q145.191 734.778 145.191 731.167 Q145.191 727.556 142.853 725.449 Q140.515 723.343 136.51 723.343 Q134.635 723.343 132.76 723.76 Q130.908 724.176 128.964 725.056 L128.964 707.695 Z\" fill=\"#000000\" fill-rule=\"evenodd\" fill-opacity=\"1\" /><path clip-path=\"url(#clip370)\" d=\"M 0 0 M65.9782 419.82 L73.6171 419.82 L73.6171 393.455 L65.3069 395.121 L65.3069 390.862 L73.5708 389.196 L78.2467 389.196 L78.2467 419.82 L85.8855 419.82 L85.8855 423.756 L65.9782 423.756 L65.9782 419.82 Z\" fill=\"#000000\" fill-rule=\"evenodd\" fill-opacity=\"1\" /><path clip-path=\"url(#clip370)\" d=\"M 0 0 M90.9549 417.876 L95.8392 417.876 L95.8392 423.756 L90.9549 423.756 L90.9549 417.876 Z\" fill=\"#000000\" fill-rule=\"evenodd\" fill-opacity=\"1\" /><path clip-path=\"url(#clip370)\" d=\"M 0 0 M110.909 392.274 Q107.297 392.274 105.469 395.839 Q103.663 399.381 103.663 406.51 Q103.663 413.617 105.469 417.182 Q107.297 420.723 110.909 420.723 Q114.543 420.723 116.348 417.182 Q118.177 413.617 118.177 406.51 Q118.177 399.381 116.348 395.839 Q114.543 392.274 110.909 392.274 M110.909 388.571 Q116.719 388.571 119.774 393.177 Q122.853 397.76 122.853 406.51 Q122.853 415.237 119.774 419.844 Q116.719 424.427 110.909 424.427 Q105.098 424.427 102.02 419.844 Q98.9642 415.237 98.9642 406.51 Q98.9642 397.76 102.02 393.177 Q105.098 388.571 110.909 388.571 Z\" fill=\"#000000\" fill-rule=\"evenodd\" fill-opacity=\"1\" /><path clip-path=\"url(#clip370)\" d=\"M 0 0 M137.922 392.274 Q134.311 392.274 132.482 395.839 Q130.677 399.381 130.677 406.51 Q130.677 413.617 132.482 417.182 Q134.311 420.723 137.922 420.723 Q141.557 420.723 143.362 417.182 Q145.191 413.617 145.191 406.51 Q145.191 399.381 143.362 395.839 Q141.557 392.274 137.922 392.274 M137.922 388.571 Q143.732 388.571 146.788 393.177 Q149.867 397.76 149.867 406.51 Q149.867 415.237 146.788 419.844 Q143.732 424.427 137.922 424.427 Q132.112 424.427 129.033 419.844 Q125.978 415.237 125.978 406.51 Q125.978 397.76 129.033 393.177 Q132.112 388.571 137.922 388.571 Z\" fill=\"#000000\" fill-rule=\"evenodd\" fill-opacity=\"1\" /><path clip-path=\"url(#clip370)\" d=\"M 0 0 M68.5708 101.321 L76.2096 101.321 L76.2096 74.9555 L67.8995 76.6222 L67.8995 72.3629 L76.1634 70.6963 L80.8393 70.6963 L80.8393 101.321 L88.4781 101.321 L88.4781 105.256 L68.5708 105.256 L68.5708 101.321 Z\" fill=\"#000000\" fill-rule=\"evenodd\" fill-opacity=\"1\" /><path clip-path=\"url(#clip370)\" d=\"M 0 0 M93.5475 99.3767 L98.4318 99.3767 L98.4318 105.256 L93.5475 105.256 L93.5475 99.3767 Z\" fill=\"#000000\" fill-rule=\"evenodd\" fill-opacity=\"1\" /><path clip-path=\"url(#clip370)\" d=\"M 0 0 M107.529 101.321 L123.848 101.321 L123.848 105.256 L101.904 105.256 L101.904 101.321 Q104.566 98.5665 109.149 93.9369 Q113.756 89.2841 114.936 87.9416 Q117.182 85.4184 118.061 83.6823 Q118.964 81.9231 118.964 80.2333 Q118.964 77.4786 117.02 75.7425 Q115.098 74.0064 111.996 74.0064 Q109.797 74.0064 107.344 74.7703 Q104.913 75.5342 102.135 77.0851 L102.135 72.3629 Q104.959 71.2287 107.413 70.65 Q109.867 70.0713 111.904 70.0713 Q117.274 70.0713 120.469 72.7565 Q123.663 75.4416 123.663 79.9323 Q123.663 82.062 122.853 83.9832 Q122.066 85.8814 119.959 88.474 Q119.381 89.1453 116.279 92.3628 Q113.177 95.5573 107.529 101.321 Z\" fill=\"#000000\" fill-rule=\"evenodd\" fill-opacity=\"1\" /><path clip-path=\"url(#clip370)\" d=\"M 0 0 M128.964 70.6963 L147.32 70.6963 L147.32 74.6314 L133.246 74.6314 L133.246 83.1036 Q134.265 82.7564 135.283 82.5944 Q136.302 82.4092 137.32 82.4092 Q143.107 82.4092 146.487 85.5805 Q149.867 88.7517 149.867 94.1684 Q149.867 99.747 146.394 102.849 Q142.922 105.928 136.603 105.928 Q134.427 105.928 132.158 105.557 Q129.913 105.187 127.506 104.446 L127.506 99.747 Q129.589 100.881 131.811 101.437 Q134.033 101.992 136.51 101.992 Q140.515 101.992 142.853 99.8859 Q145.191 97.7795 145.191 94.1684 Q145.191 90.5573 142.853 88.4508 Q140.515 86.3443 136.51 86.3443 Q134.635 86.3443 132.76 86.761 Q130.908 87.1777 128.964 88.0573 L128.964 70.6963 Z\" fill=\"#000000\" fill-rule=\"evenodd\" fill-opacity=\"1\" /><polyline clip-path=\"url(#clip372)\" style=\"stroke:#009af9; stroke-width:4; stroke-opacity:1; fill:none\" points=\"\n",
       "  235.533,1314.73 245.811,1365.31 256.089,1400.81 266.367,1425.23 276.644,1439.97 286.922,1445.72 297.2,1443.25 307.478,1433.65 317.756,1418.25 328.033,1398.51 \n",
       "  338.311,1375.82 348.589,1351.44 358.867,1326.38 369.144,1301.41 379.422,1277.05 389.7,1253.59 399.978,1231.14 410.256,1209.67 420.533,1189.02 430.811,1168.97 \n",
       "  441.089,1149.23 451.367,1129.53 461.644,1109.54 471.922,1088.99 482.2,1067.6 492.478,1045.15 502.756,1021.46 513.033,996.402 523.311,969.915 533.589,941.998 \n",
       "  543.867,912.714 554.145,882.187 564.422,850.601 574.7,818.189 584.978,785.224 595.256,752.01 605.533,718.871 615.811,686.135 626.089,654.125 636.367,623.147 \n",
       "  646.645,593.482 656.922,565.373 667.2,539.024 677.478,514.591 687.756,492.187 698.033,471.873 708.311,453.669 718.589,437.553 728.867,423.465 739.145,411.317 \n",
       "  749.422,400.995 759.7,392.369 769.978,385.296 780.256,379.628 790.533,375.218 800.811,371.921 811.089,369.598 821.367,368.121 831.645,367.371 841.922,367.242 \n",
       "  852.2,367.638 862.478,368.474 872.756,369.675 883.033,371.172 893.311,372.907 903.589,374.826 913.867,376.878 924.145,379.02 934.422,381.21 944.7,383.408 \n",
       "  954.978,385.581 965.256,387.695 975.533,389.722 985.811,391.638 996.089,393.423 1006.37,395.061 1016.64,396.542 1026.92,397.861 1037.2,399.019 1047.48,400.018 \n",
       "  1057.76,400.87 1068.03,401.587 1078.31,402.183 1088.59,402.677 1098.87,403.087 1109.14,403.43 1119.42,403.725 1129.7,403.985 1139.98,404.225 1150.26,404.452 \n",
       "  1160.53,404.675 1170.81,404.896 1181.09,405.115 1191.37,405.33 1201.64,405.535 1211.92,405.726 1222.2,405.895 1232.48,406.035 1242.76,406.14 1253.03,406.205 \n",
       "  1263.31,406.227 1273.59,406.205 1283.87,406.14 1294.14,406.035 1304.42,405.895 1314.7,405.726 1324.98,405.535 1335.26,405.33 1345.53,405.115 1355.81,404.896 \n",
       "  1366.09,404.675 1376.37,404.452 1386.64,404.225 1396.92,403.985 1407.2,403.725 1417.48,403.43 1427.76,403.087 1438.03,402.677 1448.31,402.183 1458.59,401.587 \n",
       "  1468.87,400.87 1479.14,400.018 1489.42,399.019 1499.7,397.861 1509.98,396.542 1520.26,395.061 1530.53,393.423 1540.81,391.638 1551.09,389.722 1561.37,387.695 \n",
       "  1571.64,385.581 1581.92,383.408 1592.2,381.21 1602.48,379.02 1612.76,376.878 1623.03,374.826 1633.31,372.907 1643.59,371.172 1653.87,369.675 1664.14,368.474 \n",
       "  1674.42,367.638 1684.7,367.242 1694.98,367.371 1705.26,368.121 1715.53,369.598 1725.81,371.921 1736.09,375.218 1746.37,379.628 1756.64,385.296 1766.92,392.369 \n",
       "  1777.2,400.995 1787.48,411.317 1797.76,423.465 1808.03,437.553 1818.31,453.669 1828.59,471.873 1838.87,492.187 1849.14,514.591 1859.42,539.024 1869.7,565.373 \n",
       "  1879.98,593.482 1890.26,623.147 1900.53,654.125 1910.81,686.135 1921.09,718.871 1931.37,752.01 1941.64,785.224 1951.92,818.189 1962.2,850.601 1972.48,882.187 \n",
       "  1982.76,912.714 1993.03,941.998 2003.31,969.915 2013.59,996.402 2023.87,1021.46 2034.14,1045.15 2044.42,1067.6 2054.7,1088.99 2064.98,1109.54 2075.26,1129.53 \n",
       "  2085.53,1149.23 2095.81,1168.97 2106.09,1189.02 2116.37,1209.67 2126.64,1231.14 2136.92,1253.59 2147.2,1277.05 2157.48,1301.41 2167.76,1326.38 2178.03,1351.44 \n",
       "  2188.31,1375.82 2198.59,1398.51 2208.87,1418.25 2219.14,1433.65 2229.42,1443.25 2239.7,1445.72 2249.98,1439.97 2260.26,1425.23 2270.53,1400.81 2280.81,1365.31 \n",
       "  2291.09,1314.73 \n",
       "  \"/>\n",
       "<polyline clip-path=\"url(#clip372)\" style=\"stroke:#e26f46; stroke-width:4; stroke-opacity:1; fill:none\" points=\"\n",
       "  235.533,1361.97 245.811,1336.62 256.089,1311.52 266.367,1286.68 276.644,1262.09 286.922,1237.76 297.2,1213.68 307.478,1189.86 317.756,1166.29 328.033,1142.97 \n",
       "  338.311,1119.91 348.589,1097.11 358.867,1074.56 369.144,1052.26 379.422,1030.22 389.7,1008.44 399.978,986.909 410.256,965.633 420.533,944.612 430.811,923.846 \n",
       "  441.089,903.334 451.367,883.078 461.644,863.076 471.922,843.329 482.2,823.837 492.478,804.6 502.756,785.617 513.033,766.889 523.311,748.416 533.589,730.198 \n",
       "  543.867,712.235 554.145,694.526 564.422,677.073 574.7,659.874 584.978,642.929 595.256,626.24 605.533,609.805 615.811,593.626 626.089,577.701 636.367,562.031 \n",
       "  646.645,546.615 656.922,531.455 667.2,516.549 677.478,501.898 687.756,487.502 698.033,473.36 708.311,459.474 718.589,445.842 728.867,432.465 739.145,419.343 \n",
       "  749.422,406.476 759.7,393.863 769.978,381.505 780.256,369.402 790.533,357.554 800.811,345.961 811.089,334.622 821.367,323.538 831.645,312.709 841.922,302.135 \n",
       "  852.2,291.816 862.478,281.751 872.756,271.941 883.033,262.386 893.311,253.086 903.589,244.041 913.867,235.25 924.145,226.715 934.422,218.434 944.7,210.407 \n",
       "  954.978,202.636 965.256,195.119 975.533,187.858 985.811,180.851 996.089,174.098 1006.37,167.601 1016.64,161.359 1026.92,155.371 1037.2,149.638 1047.48,144.16 \n",
       "  1057.76,138.936 1068.03,133.968 1078.31,129.254 1088.59,124.795 1098.87,120.591 1109.14,116.641 1119.42,112.947 1129.7,109.507 1139.98,106.322 1150.26,103.392 \n",
       "  1160.53,100.716 1170.81,98.2957 1181.09,96.1299 1191.37,94.2189 1201.64,92.5627 1211.92,91.1613 1222.2,90.0147 1232.48,89.1229 1242.76,88.4859 1253.03,88.1037 \n",
       "  1263.31,87.9763 1273.59,88.1037 1283.87,88.4859 1294.14,89.1229 1304.42,90.0147 1314.7,91.1613 1324.98,92.5627 1335.26,94.2189 1345.53,96.1299 1355.81,98.2957 \n",
       "  1366.09,100.716 1376.37,103.392 1386.64,106.322 1396.92,109.507 1407.2,112.947 1417.48,116.641 1427.76,120.591 1438.03,124.795 1448.31,129.254 1458.59,133.968 \n",
       "  1468.87,138.936 1479.14,144.16 1489.42,149.638 1499.7,155.371 1509.98,161.359 1520.26,167.601 1530.53,174.098 1540.81,180.851 1551.09,187.858 1561.37,195.119 \n",
       "  1571.64,202.636 1581.92,210.407 1592.2,218.434 1602.48,226.715 1612.76,235.25 1623.03,244.041 1633.31,253.086 1643.59,262.386 1653.87,271.941 1664.14,281.751 \n",
       "  1674.42,291.816 1684.7,302.135 1694.98,312.709 1705.26,323.538 1715.53,334.622 1725.81,345.961 1736.09,357.554 1746.37,369.402 1756.64,381.505 1766.92,393.863 \n",
       "  1777.2,406.476 1787.48,419.343 1797.76,432.465 1808.03,445.842 1818.31,459.474 1828.59,473.36 1838.87,487.502 1849.14,501.898 1859.42,516.549 1869.7,531.455 \n",
       "  1879.98,546.615 1890.26,562.031 1900.53,577.701 1910.81,593.626 1921.09,609.805 1931.37,626.24 1941.64,642.929 1951.92,659.874 1962.2,677.073 1972.48,694.526 \n",
       "  1982.76,712.235 1993.03,730.198 2003.31,748.416 2013.59,766.889 2023.87,785.617 2034.14,804.6 2044.42,823.837 2054.7,843.329 2064.98,863.076 2075.26,883.078 \n",
       "  2085.53,903.334 2095.81,923.846 2106.09,944.612 2116.37,965.633 2126.64,986.909 2136.92,1008.44 2147.2,1030.22 2157.48,1052.26 2167.76,1074.56 2178.03,1097.11 \n",
       "  2188.31,1119.91 2198.59,1142.97 2208.87,1166.29 2219.14,1189.86 2229.42,1213.68 2239.7,1237.76 2249.98,1262.09 2260.26,1286.68 2270.53,1311.52 2280.81,1336.62 \n",
       "  2291.09,1361.97 \n",
       "  \"/>\n",
       "<path clip-path=\"url(#clip370)\" d=\"\n",
       "M1989.74 312.204 L2280.76 312.204 L2280.76 130.764 L1989.74 130.764  Z\n",
       "  \" fill=\"#ffffff\" fill-rule=\"evenodd\" fill-opacity=\"1\"/>\n",
       "<polyline clip-path=\"url(#clip370)\" style=\"stroke:#000000; stroke-width:4; stroke-opacity:1; fill:none\" points=\"\n",
       "  1989.74,312.204 2280.76,312.204 2280.76,130.764 1989.74,130.764 1989.74,312.204 \n",
       "  \"/>\n",
       "<polyline clip-path=\"url(#clip370)\" style=\"stroke:#009af9; stroke-width:4; stroke-opacity:1; fill:none\" points=\"\n",
       "  2013.74,191.244 2157.74,191.244 \n",
       "  \"/>\n",
       "<path clip-path=\"url(#clip370)\" d=\"M 0 0 M2195.58 210.931 Q2193.77 215.561 2192.06 216.973 Q2190.35 218.385 2187.48 218.385 L2184.08 218.385 L2184.08 214.82 L2186.58 214.82 Q2188.33 214.82 2189.31 213.987 Q2190.28 213.154 2191.46 210.052 L2192.22 208.107 L2181.74 182.598 L2186.25 182.598 L2194.35 202.876 L2202.46 182.598 L2206.97 182.598 L2195.58 210.931 Z\" fill=\"#000000\" fill-rule=\"evenodd\" fill-opacity=\"1\" /><path clip-path=\"url(#clip370)\" d=\"M 0 0 M2212.85 204.589 L2220.49 204.589 L2220.49 178.223 L2212.18 179.89 L2212.18 175.631 L2220.44 173.964 L2225.12 173.964 L2225.12 204.589 L2232.76 204.589 L2232.76 208.524 L2212.85 208.524 L2212.85 204.589 Z\" fill=\"#000000\" fill-rule=\"evenodd\" fill-opacity=\"1\" /><polyline clip-path=\"url(#clip370)\" style=\"stroke:#e26f46; stroke-width:4; stroke-opacity:1; fill:none\" points=\"\n",
       "  2013.74,251.724 2157.74,251.724 \n",
       "  \"/>\n",
       "<path clip-path=\"url(#clip370)\" d=\"M 0 0 M2195.58 271.411 Q2193.77 276.041 2192.06 277.453 Q2190.35 278.865 2187.48 278.865 L2184.08 278.865 L2184.08 275.3 L2186.58 275.3 Q2188.33 275.3 2189.31 274.467 Q2190.28 273.634 2191.46 270.532 L2192.22 268.587 L2181.74 243.078 L2186.25 243.078 L2194.35 263.356 L2202.46 243.078 L2206.97 243.078 L2195.58 271.411 Z\" fill=\"#000000\" fill-rule=\"evenodd\" fill-opacity=\"1\" /><path clip-path=\"url(#clip370)\" d=\"M 0 0 M2216.07 265.069 L2232.39 265.069 L2232.39 269.004 L2210.44 269.004 L2210.44 265.069 Q2213.1 262.314 2217.69 257.685 Q2222.29 253.032 2223.47 251.689 Q2225.72 249.166 2226.6 247.43 Q2227.5 245.671 2227.5 243.981 Q2227.5 241.226 2225.56 239.49 Q2223.64 237.754 2220.53 237.754 Q2218.33 237.754 2215.88 238.518 Q2213.45 239.282 2210.67 240.833 L2210.67 236.111 Q2213.5 234.976 2215.95 234.398 Q2218.4 233.819 2220.44 233.819 Q2225.81 233.819 2229.01 236.504 Q2232.2 239.189 2232.2 243.68 Q2232.2 245.81 2231.39 247.731 Q2230.6 249.629 2228.5 252.222 Q2227.92 252.893 2224.82 256.111 Q2221.71 259.305 2216.07 265.069 Z\" fill=\"#000000\" fill-rule=\"evenodd\" fill-opacity=\"1\" /></svg>\n"
      ]
     },
     "execution_count": 370,
     "metadata": {},
     "output_type": "execute_result"
    }
   ],
   "source": [
    "plot( -1:0.01:1,  [ value(p)(x => x1) for x1 in -1:0.01:1 ]   )\n",
    "plot!( -1:0.01:1,  [ g(x => x1) + 1 for x1 in -1:0.01:1 ]   )"
   ]
  },
  {
   "cell_type": "code",
   "execution_count": 207,
   "metadata": {},
   "outputs": [
    {
     "data": {
      "text/plain": [
       "10-element Array{GenericAffExpr{Float64,VariableRef},1}:\n",
       " 256 l3a[10]\n",
       " 128 l3a[9]\n",
       " 64 l3a[8] - 576 l3a[10]\n",
       " 8 l2a[5] + 32 l3a[7] - 256 l3a[9]\n",
       " -8 l2a[5] + 4 l2a[4] + 16 l3a[6] - 112 l3a[8] + 432 l3a[10]\n",
       " -6 l2a[5] - 4 l2a[4] + 2 l2a[3] + 8 l3a[5] - 48 l3a[7] + 160 l3a[9] - 8 a[5]\n",
       " -2 l2a[4] - 2 l2a[3] + 8 l2a[5] + l2a[2] + 4 l3a[4] - 20 l3a[6] + 56 l3a[8] - 120 l3a[10] - 4 a[4]\n",
       " 0.5 l2a[3] + 0 l2a[5] + 0 l2a[2] + 4 l2a[4] + 2 l2a[1] + 2 l3a[3] - 8 l3a[5] + 18 l3a[7] - 32 l3a[9] - 2 a[3] + 8 a[5]\n",
       " -0.75 l2a[2] - 1.75 l2a[4] - 2 l2a[1] - 2 l2a[5] + l3a[2] - 3 l3a[4] + 5 l3a[6] - 7 l3a[8] + 9 l3a[10] - a[2] + 3 a[4]\n",
       " 0.5 l2a[1] + 0.25 l2a[2] + 0.25 l2a[4] + 0.5 l2a[5] + 2 l3a[1] + l3a[2] + l3a[4] + 2 l3a[5] + l3a[6] + l3a[8] + 2 l3a[9] + l3a[10] - 2 a[1] - a[2] - a[4] - 2 a[5] + 1"
      ]
     },
     "execution_count": 207,
     "metadata": {},
     "output_type": "execute_result"
    }
   ],
   "source": [
    " coefficients((l2 * g + 1 + l3) - p)"
   ]
  },
  {
   "cell_type": "code",
   "execution_count": 204,
   "metadata": {},
   "outputs": [
    {
     "data": {
      "text/latex": [
       "$$ (8 l3a[5])x^{4} + (4 l3a[4])x^{3} + (2 l3a[3] - 8 l3a[5])x^{2} + (l3a[2] - 3 l3a[4])x + (2 l3a[1] + l3a[2] + l3a[4] + 2 l3a[5]) $$"
      ],
      "text/plain": [
       "(8 l3a[5])x⁴ + (4 l3a[4])x³ + (2 l3a[3] - 8 l3a[5])x² + (l3a[2] - 3 l3a[4])x + (2 l3a[1] + l3a[2] + l3a[4] + 2 l3a[5])"
      ]
     },
     "execution_count": 204,
     "metadata": {},
     "output_type": "execute_result"
    }
   ],
   "source": [
    "l3"
   ]
  },
  {
   "cell_type": "code",
   "execution_count": 185,
   "metadata": {},
   "outputs": [
    {
     "ename": "LoadError",
     "evalue": "In `@variable(model, [1:5] >= 0)`: Cannot use explicit bounds via >=, <= with an anonymous variable",
     "output_type": "error",
     "traceback": [
      "In `@variable(model, [1:5] >= 0)`: Cannot use explicit bounds via >=, <= with an anonymous variable",
      "",
      "Stacktrace:",
      " [1] error(::String, ::String) at ./error.jl:42",
      " [2] _macro_error(::Symbol, ::Tuple{Symbol,Expr}, ::String) at /home/philip/.julia/packages/JuMP/MnJQc/src/macros.jl:856",
      " [3] (::JuMP.var\"#_error#81\"{Tuple{Symbol,Expr}})(::String) at /home/philip/.julia/packages/JuMP/MnJQc/src/macros.jl:1127",
      " [4] @variable(::LineNumberNode, ::Module, ::Vararg{Any,N} where N) at /home/philip/.julia/packages/JuMP/MnJQc/src/macros.jl:1175"
     ]
    }
   ],
   "source": [
    "sum(@variable(model , [1:5] >= 0) .* basis)"
   ]
  },
  {
   "cell_type": "code",
   "execution_count": 189,
   "metadata": {},
   "outputs": [
    {
     "data": {
      "text/plain": [
       "5-element Array{ConstraintRef{Model,MathOptInterface.ConstraintIndex{MathOptInterface.ScalarAffineFunction{Float64},MathOptInterface.GreaterThan{Float64}},ScalarShape},1}:\n",
       " noname ≥ 0.0\n",
       " noname ≥ 0.0\n",
       " noname ≥ 0.0\n",
       " noname ≥ 0.0\n",
       " noname ≥ 0.0"
      ]
     },
     "execution_count": 189,
     "metadata": {},
     "output_type": "execute_result"
    }
   ],
   "source": [
    "a = @variable(model, [1:5])\n",
    "@constraint(model , a .>= 0)\n",
    "integrate(p )"
   ]
  },
  {
   "cell_type": "code",
   "execution_count": null,
   "metadata": {},
   "outputs": [],
   "source": []
  },
  {
   "cell_type": "code",
   "execution_count": 178,
   "metadata": {},
   "outputs": [
    {
     "name": "stdout",
     "output_type": "stream",
     "text": [
      "Polynomial{true,Int64}\n",
      "Polynomial{true,Int64}\n",
      "Polynomial{true,Int64}\n",
      "Polynomial{true,Int64}\n",
      "Polynomial{true,Int64}\n"
     ]
    }
   ],
   "source": [
    "for i in 1:5\n",
    "println(typeof(basis[i]))\n",
    "end"
   ]
  },
  {
   "cell_type": "markdown",
   "metadata": {},
   "source": [
    "## Circle\n"
   ]
  },
  {
   "cell_type": "code",
   "execution_count": 416,
   "metadata": {},
   "outputs": [
    {
     "data": {
      "text/plain": [
       "integrate (generic function with 3 methods)"
      ]
     },
     "execution_count": 416,
     "metadata": {},
     "output_type": "execute_result"
    }
   ],
   "source": [
    "#antidiff(f::Polynomial, x) = sum(map(e -> e.x.vars[1] * e / (e.x.z[1] + 1) , f))\n",
    "antidiff(f, x) = sum([ sum([ e.x.vars[i] * e / (e.x.z[i] + 1) for i in 1:length(e.x.vars) if e.x.vars[i] == x ]) for e in f])\n",
    "integrate(f, x, a, b) = let f1 = antidiff(f, x)\n",
    "                     subs(f,x => b) - subs(f1,x => a) \n",
    "                     end"
   ]
  },
  {
   "cell_type": "code",
   "execution_count": 391,
   "metadata": {},
   "outputs": [
    {
     "data": {
      "text/plain": [
       "1-element Array{Polynomial{true,Float64},1}:\n",
       " 3.0x²y + 0.5xy² + 0.3333333333333333y³ + 3.5y²"
      ]
     },
     "execution_count": 391,
     "metadata": {},
     "output_type": "execute_result"
    }
   ],
   "source": [
    "antidiff( x*y + 3x^2 + 7y + y^2, y)"
   ]
  },
  {
   "cell_type": "code",
   "execution_count": 418,
   "metadata": {},
   "outputs": [
    {
     "name": "stdout",
     "output_type": "stream",
     "text": [
      "PolyVar{true}[x]\n",
      "PolyVar{true}[x]\n",
      "PolyVar{true}[x]\n"
     ]
    },
    {
     "data": {
      "text/plain": [
       "1-element Array{Polynomial{true,Float64},1}:\n",
       " 6.0x² + 0.5x + 4.833333333333334"
      ]
     },
     "execution_count": 418,
     "metadata": {},
     "output_type": "execute_result"
    }
   ],
   "source": [
    "p = integrate(x*y + 3x^2 + 7y + y^2, y, -1,1)\n",
    "[println(e.x.vars)  for e in p[1] ]\n",
    "p"
   ]
  },
  {
   "cell_type": "code",
   "execution_count": 397,
   "metadata": {},
   "outputs": [
    {
     "ename": "ErrorException",
     "evalue": "type MonomialVector has no field z",
     "output_type": "error",
     "traceback": [
      "type MonomialVector has no field z",
      "",
      "Stacktrace:",
      " [1] getproperty(::MonomialVector{true}, ::Symbol) at ./Base.jl:33",
      " [2] (::var\"#1172#1175\"{Polynomial{true,Float64}})(::Int64) at ./none:0",
      " [3] iterate at ./generator.jl:47 [inlined]",
      " [4] grow_to! at ./array.jl:726 [inlined]",
      " [5] collect at ./array.jl:663 [inlined]",
      " [6] #1171 at ./none:0 [inlined]",
      " [7] iterate at ./generator.jl:47 [inlined]",
      " [8] collect(::Base.Generator{Array{Polynomial{true,Float64},1},var\"#1171#1174\"{PolyVar{true}}}) at ./array.jl:665",
      " [9] antidiff at ./In[394]:2 [inlined]",
      " [10] integrate(::Array{Polynomial{true,Float64},1}, ::PolyVar{true}, ::Int64, ::Int64) at ./In[394]:3",
      " [11] top-level scope at In[397]:1"
     ]
    }
   ],
   "source": [
    "integrate( integrate(x*y + 3x^2 + 7y + y^2, y, -1,1) , x, -1,1 )"
   ]
  },
  {
   "cell_type": "code",
   "execution_count": 379,
   "metadata": {},
   "outputs": [
    {
     "data": {
      "text/plain": [
       "Base.Iterators.Zip{Tuple{Array{Int64,1},Array{Int64,1}}}(([1, 2, 3], [3, 4, 5]))"
      ]
     },
     "execution_count": 379,
     "metadata": {},
     "output_type": "execute_result"
    }
   ],
   "source": [
    "zip([1,2,3], [3,4,5])"
   ]
  },
  {
   "cell_type": "code",
   "execution_count": 382,
   "metadata": {},
   "outputs": [
    {
     "data": {
      "text/plain": [
       "3-element Array{Int64,1}:\n",
       " 1\n",
       " 2\n",
       " 3"
      ]
     },
     "execution_count": 382,
     "metadata": {},
     "output_type": "execute_result"
    }
   ],
   "source": [
    "Array(1:length([1,2,3]))"
   ]
  },
  {
   "cell_type": "code",
   "execution_count": 428,
   "metadata": {},
   "outputs": [
    {
     "data": {
      "text/plain": [
       "GenericAffExpr{Float64,VariableRef}"
      ]
     },
     "execution_count": 428,
     "metadata": {},
     "output_type": "execute_result"
    }
   ],
   "source": [
    "typeof(integrate(integrate(p, x, -1, 1)[1] ,y,-1,1)[1][1].α)"
   ]
  },
  {
   "cell_type": "code",
   "execution_count": 447,
   "metadata": {},
   "outputs": [
    {
     "name": "stderr",
     "output_type": "stream",
     "text": [
      "┌ Warning: `with_optimizer` is deprecated. Adapt the following example to update your code:\n",
      "│ `with_optimizer(Ipopt.Optimizer)` becomes `Ipopt.Optimizer`.\n",
      "│   caller = top-level scope at In[447]:5\n",
      "└ @ Core In[447]:5\n"
     ]
    },
    {
     "name": "stdout",
     "output_type": "stream",
     "text": [
      "CSDP 6.2.0\n",
      "Iter:  0 Ap: 0.00e+00 Pobj:  3.5527137e-14 Ad: 0.00e+00 Dobj:  0.0000000e+00 \n",
      "Iter:  1 Ap: 6.83e-01 Pobj: -1.5600762e+02 Ad: 4.07e-01 Dobj: -2.1541168e+00 \n",
      "Iter:  2 Ap: 6.42e-01 Pobj: -2.6657620e+02 Ad: 7.95e-01 Dobj:  8.2995235e-01 \n",
      "Iter:  3 Ap: 6.11e-01 Pobj: -1.3608127e+02 Ad: 7.61e-01 Dobj: -2.7865596e-01 \n",
      "Iter:  4 Ap: 8.17e-01 Pobj: -1.2202174e+02 Ad: 7.03e-01 Dobj: -5.2233550e-01 \n",
      "Iter:  5 Ap: 8.29e-01 Pobj: -6.8986381e+01 Ad: 7.70e-01 Dobj: -3.2738725e-01 \n",
      "Iter:  6 Ap: 8.39e-01 Pobj: -2.5518445e+01 Ad: 8.67e-01 Dobj: -3.2217716e-01 \n",
      "Iter:  7 Ap: 8.79e-01 Pobj: -6.1379880e+00 Ad: 8.68e-01 Dobj: -3.6347166e-01 \n",
      "Iter:  8 Ap: 8.54e-01 Pobj: -1.9370378e+00 Ad: 8.67e-01 Dobj: -4.6563770e-01 \n",
      "Iter:  9 Ap: 7.10e-01 Pobj: -1.3710056e+00 Ad: 6.32e-01 Dobj: -6.9461765e-01 \n",
      "Iter: 10 Ap: 5.60e-01 Pobj: -1.1506879e+00 Ad: 8.50e-01 Dobj: -7.5931115e-01 \n",
      "Iter: 11 Ap: 6.83e-01 Pobj: -9.6847284e-01 Ad: 7.87e-01 Dobj: -7.7867663e-01 \n",
      "Iter: 12 Ap: 7.63e-01 Pobj: -9.0268768e-01 Ad: 6.58e-01 Dobj: -8.1126273e-01 \n",
      "Iter: 13 Ap: 4.13e-01 Pobj: -8.8806806e-01 Ad: 1.00e+00 Dobj: -8.3047274e-01 \n",
      "Iter: 14 Ap: 7.22e-01 Pobj: -8.6761273e-01 Ad: 1.00e+00 Dobj: -8.4210655e-01 \n",
      "Iter: 15 Ap: 8.09e-01 Pobj: -8.5821174e-01 Ad: 1.00e+00 Dobj: -8.4932629e-01 \n",
      "Iter: 16 Ap: 6.60e-01 Pobj: -8.5571276e-01 Ad: 9.73e-01 Dobj: -8.5201392e-01 \n",
      "Iter: 17 Ap: 5.29e-01 Pobj: -8.5484551e-01 Ad: 1.00e+00 Dobj: -8.5267718e-01 \n",
      "Iter: 18 Ap: 5.00e-01 Pobj: -8.5448506e-01 Ad: 9.37e-01 Dobj: -8.5351078e-01 \n",
      "Iter: 19 Ap: 2.50e-01 Pobj: -8.5467393e-01 Ad: 3.91e-01 Dobj: -8.5409600e-01 \n",
      "Iter: 20 Ap: 2.91e-01 Pobj: -8.5501045e-01 Ad: 3.63e-01 Dobj: -8.5468909e-01 \n",
      "Iter: 21 Ap: 3.85e-01 Pobj: -8.5544807e-01 Ad: 6.50e-01 Dobj: -8.5567720e-01 \n",
      "Iter: 22 Ap: 3.36e-01 Pobj: -8.5596344e-01 Ad: 6.63e-01 Dobj: -8.5665811e-01 \n",
      "Iter: 23 Ap: 3.15e-01 Pobj: -8.5657189e-01 Ad: 4.97e-01 Dobj: -8.5759720e-01 \n",
      "Iter: 24 Ap: 2.08e-01 Pobj: -8.5706465e-01 Ad: 5.91e-01 Dobj: -8.5880698e-01 \n",
      "Iter: 25 Ap: 2.69e-01 Pobj: -8.5792145e-01 Ad: 6.55e-01 Dobj: -8.5998425e-01 \n",
      "Iter: 26 Ap: 1.24e-01 Pobj: -8.5841493e-01 Ad: 5.13e-01 Dobj: -8.6038924e-01 \n",
      "Iter: 27 Ap: 2.46e-01 Pobj: -8.5925407e-01 Ad: 3.68e-01 Dobj: -8.6127102e-01 \n",
      "Iter: 28 Ap: 2.66e-01 Pobj: -8.6020553e-01 Ad: 6.89e-01 Dobj: -8.6266111e-01 \n",
      "Iter: 29 Ap: 2.62e-01 Pobj: -8.6129213e-01 Ad: 6.17e-01 Dobj: -8.6345839e-01 \n",
      "Iter: 30 Ap: 4.61e-01 Pobj: -8.6310901e-01 Ad: 4.84e-01 Dobj: -8.6433628e-01 \n",
      "Iter: 31 Ap: 2.62e-01 Pobj: -8.6387833e-01 Ad: 4.08e-01 Dobj: -8.6579331e-01 \n",
      "Iter: 32 Ap: 2.53e-01 Pobj: -8.6491428e-01 Ad: 3.58e-01 Dobj: -8.6681493e-01 \n",
      "Iter: 33 Ap: 1.46e-01 Pobj: -8.6548166e-01 Ad: 5.01e-01 Dobj: -8.6773869e-01 \n",
      "Iter: 34 Ap: 2.12e-01 Pobj: -8.6648254e-01 Ad: 7.50e-01 Dobj: -8.6858714e-01 \n",
      "Iter: 35 Ap: 3.83e-01 Pobj: -8.6818636e-01 Ad: 4.66e-01 Dobj: -8.6970003e-01 \n",
      "Iter: 36 Ap: 4.32e-01 Pobj: -8.6961581e-01 Ad: 6.30e-01 Dobj: -8.7096545e-01 \n",
      "Iter: 37 Ap: 2.66e-01 Pobj: -8.7049148e-01 Ad: 3.39e-01 Dobj: -8.7178967e-01 \n",
      "Iter: 38 Ap: 2.15e-01 Pobj: -8.7119656e-01 Ad: 3.40e-01 Dobj: -8.7248544e-01 \n",
      "Iter: 39 Ap: 2.85e-01 Pobj: -8.7213461e-01 Ad: 4.04e-01 Dobj: -8.7339584e-01 \n",
      "Iter: 40 Ap: 3.40e-01 Pobj: -8.7316771e-01 Ad: 4.78e-01 Dobj: -8.7438999e-01 \n",
      "Iter: 41 Ap: 4.02e-01 Pobj: -8.7431479e-01 Ad: 4.31e-01 Dobj: -8.7523418e-01 \n",
      "Iter: 42 Ap: 3.29e-01 Pobj: -8.7511699e-01 Ad: 4.15e-01 Dobj: -8.7621295e-01 \n",
      "Iter: 43 Ap: 2.10e-01 Pobj: -8.7569479e-01 Ad: 4.62e-01 Dobj: -8.7689406e-01 \n",
      "Iter: 44 Ap: 2.02e-01 Pobj: -8.7626367e-01 Ad: 4.42e-01 Dobj: -8.7718202e-01 \n",
      "Iter: 45 Ap: 4.53e-01 Pobj: -8.7737757e-01 Ad: 4.29e-01 Dobj: -8.7802346e-01 \n",
      "Iter: 46 Ap: 3.26e-01 Pobj: -8.7802196e-01 Ad: 4.02e-01 Dobj: -8.7883459e-01 \n",
      "Iter: 47 Ap: 3.05e-01 Pobj: -8.7866738e-01 Ad: 3.70e-01 Dobj: -8.7942837e-01 \n",
      "Iter: 48 Ap: 2.49e-01 Pobj: -8.7915353e-01 Ad: 4.26e-01 Dobj: -8.7995081e-01 \n",
      "Iter: 49 Ap: 3.16e-01 Pobj: -8.7978881e-01 Ad: 4.28e-01 Dobj: -8.8053537e-01 \n",
      "Iter: 50 Ap: 3.16e-01 Pobj: -8.8035853e-01 Ad: 5.07e-01 Dobj: -8.8110657e-01 \n",
      "Iter: 51 Ap: 3.78e-01 Pobj: -8.8100454e-01 Ad: 4.64e-01 Dobj: -8.8159913e-01 \n",
      "Iter: 52 Ap: 2.75e-01 Pobj: -8.8140889e-01 Ad: 4.94e-01 Dobj: -8.8212119e-01 \n",
      "Iter: 53 Ap: 3.08e-01 Pobj: -8.8190304e-01 Ad: 4.83e-01 Dobj: -8.8249081e-01 \n",
      "Iter: 54 Ap: 2.13e-01 Pobj: -8.8220308e-01 Ad: 5.33e-01 Dobj: -8.8286366e-01 \n",
      "Iter: 55 Ap: 3.92e-01 Pobj: -8.8278220e-01 Ad: 4.50e-01 Dobj: -8.8322261e-01 \n",
      "Iter: 56 Ap: 3.06e-01 Pobj: -8.8313497e-01 Ad: 5.86e-01 Dobj: -8.8368082e-01 \n",
      "Iter: 57 Ap: 2.30e-01 Pobj: -8.8342554e-01 Ad: 9.19e-01 Dobj: -8.8404088e-01 \n",
      "Iter: 58 Ap: 2.48e-01 Pobj: -8.8375790e-01 Ad: 5.57e-01 Dobj: -8.8423696e-01 \n",
      "Iter: 59 Ap: 4.17e-01 Pobj: -8.8422863e-01 Ad: 5.13e-01 Dobj: -8.8450335e-01 \n",
      "Iter: 60 Ap: 3.54e-01 Pobj: -8.8452357e-01 Ad: 6.63e-01 Dobj: -8.8486035e-01 \n",
      "Iter: 61 Ap: 3.67e-01 Pobj: -8.8484161e-01 Ad: 4.43e-01 Dobj: -8.8506551e-01 \n",
      "Iter: 62 Ap: 2.22e-01 Pobj: -8.8500667e-01 Ad: 5.58e-01 Dobj: -8.8534082e-01 \n",
      "Iter: 63 Ap: 2.74e-01 Pobj: -8.8525780e-01 Ad: 4.66e-01 Dobj: -8.8549695e-01 \n",
      "Iter: 64 Ap: 1.69e-01 Pobj: -8.8539296e-01 Ad: 5.63e-01 Dobj: -8.8560746e-01 \n",
      "Iter: 65 Ap: 5.24e-01 Pobj: -8.8577661e-01 Ad: 4.75e-01 Dobj: -8.8588155e-01 \n",
      "Iter: 66 Ap: 3.25e-01 Pobj: -8.8595633e-01 Ad: 3.55e-01 Dobj: -8.8608482e-01 \n",
      "Iter: 67 Ap: 2.78e-01 Pobj: -8.8611183e-01 Ad: 5.00e-01 Dobj: -8.8631018e-01 \n",
      "Iter: 68 Ap: 2.34e-01 Pobj: -8.8627073e-01 Ad: 5.53e-01 Dobj: -8.8645346e-01 \n",
      "Iter: 69 Ap: 2.47e-01 Pobj: -8.8642650e-01 Ad: 5.15e-01 Dobj: -8.8649559e-01 \n",
      "Iter: 70 Ap: 4.66e-01 Pobj: -8.8664707e-01 Ad: 4.73e-01 Dobj: -8.8674622e-01 \n",
      "Iter: 71 Ap: 3.79e-01 Pobj: -8.8680317e-01 Ad: 5.60e-01 Dobj: -8.8692329e-01 \n",
      "Iter: 72 Ap: 3.39e-01 Pobj: -8.8695275e-01 Ad: 5.14e-01 Dobj: -8.8706812e-01 \n",
      "Iter: 73 Ap: 2.16e-01 Pobj: -8.8703894e-01 Ad: 1.86e-01 Dobj: -8.8716596e-01 \n",
      "Iter: 74 Ap: 1.80e-01 Pobj: -8.8711180e-01 Ad: 5.39e-01 Dobj: -8.8720349e-01 \n",
      "Iter: 75 Ap: 3.50e-01 Pobj: -8.8725153e-01 Ad: 4.91e-01 Dobj: -8.8735837e-01 \n",
      "Iter: 76 Ap: 3.61e-01 Pobj: -8.8737333e-01 Ad: 6.70e-01 Dobj: -8.8749544e-01 \n",
      "Iter: 77 Ap: 4.16e-01 Pobj: -8.8750598e-01 Ad: 3.60e-01 Dobj: -8.8756308e-01 \n",
      "Iter: 78 Ap: 3.96e-01 Pobj: -8.8760292e-01 Ad: 4.16e-01 Dobj: -8.8768534e-01 \n",
      "Iter: 79 Ap: 1.00e+00 Pobj: -8.8745089e-01 Ad: 1.00e+00 Dobj: -8.8773041e-01 \n",
      "Iter: 80 Ap: 1.00e+00 Pobj: -8.8737725e-01 Ad: 7.92e-01 Dobj: -8.8774146e-01 \n",
      "Iter: 81 Ap: 1.00e+00 Pobj: -8.8735780e-01 Ad: 6.30e-01 Dobj: -8.8774444e-01 \n",
      "Iter: 82 Ap: 1.00e+00 Pobj: -8.8735387e-01 Ad: 9.49e-01 Dobj: -8.8773464e-01 \n",
      "Iter: 83 Ap: 1.00e+00 Pobj: -8.8735146e-01 Ad: 6.28e-01 Dobj: -8.8773434e-01 \n",
      "0.887351459687441\n",
      "Stuck at edge of primal feasibility, giving up. \n",
      "Partial Success: SDP solved with reduced accuracy\n",
      "Primal objective value: -8.8735146e-01 \n",
      "Dual objective value: -8.8773434e-01 \n",
      "Relative primal infeasibility: 1.22e-07 \n",
      "Relative dual infeasibility: 2.89e-07 \n",
      "Real Relative Gap: -1.38e-04 \n",
      "XZ Relative Gap: 8.03e-08 \n",
      "DIMACS error measures: 1.22e-07 0.00e+00 8.27e-07 0.00e+00 -1.38e-04 8.03e-08\n"
     ]
    }
   ],
   "source": [
    "@polyvar x y\n",
    "g = 0.5 - x^2 - y^2 # relaxation\n",
    "f = (x + 1) * (1 - x) * (y + 1) * (1-y)\n",
    "X = monomials([x,y], 0:5)\n",
    "model = SOSModel(with_optimizer(CSDP.Optimizer))\n",
    "@variable(model, p, Poly(X))\n",
    "@variable(model, l1, SOSPoly(X))\n",
    "@variable(model, l2, SOSPoly(X))\n",
    "@constraint(model, p >= l1 * f)\n",
    "@constraint(model, p >= l2 * g + 1)\n",
    "@objective(model, Min, integrate(integrate(p, x, -1, 1)[1] ,y,-1,1)[1][1].α)\n",
    "optimize!(model)\n",
    "\n",
    "# The lower bound found is 3\n",
    "println(objective_value(model))"
   ]
  },
  {
   "cell_type": "code",
   "execution_count": 444,
   "metadata": {},
   "outputs": [
    {
     "data": {
      "text/plain": [
       "0.7853981633974483"
      ]
     },
     "execution_count": 444,
     "metadata": {},
     "output_type": "execute_result"
    }
   ],
   "source": [
    "π * (0.5 ^2)"
   ]
  },
  {
   "cell_type": "code",
   "execution_count": 448,
   "metadata": {},
   "outputs": [
    {
     "data": {
      "text/latex": [
       "$$ -0.00010982877527603713x^{5} - 0.0061181147912760594x^{4}y + 0.014585904282289078x^{3}y^{2} + 0.014585904281481939x^{2}y^{3} - 0.006118114791651093xy^{4} - 0.00010982877521428097y^{5} + 0.010774933910113242x^{4} + 0.00327982664979546x^{3}y + 1.9708633403567648x^{2}y^{2} + 0.0032798266504321383xy^{3} + 0.0107749339097502y^{4} - 0.022180543330380824x^{3} + 0.0022887239941412132x^{2}y + 0.002288723993812032xy^{2} - 0.022180543329720755y^{3} - 1.991405318132472x^{2} - 0.008302595786551022xy - 1.9914053181322913y^{2} + 0.011081359709561193x + 0.01108135970921726y + 1.9930455433528145 $$"
      ],
      "text/plain": [
       "-0.00010982877527603713x⁵ - 0.0061181147912760594x⁴y + 0.014585904282289078x³y² + 0.014585904281481939x²y³ - 0.006118114791651093xy⁴ - 0.00010982877521428097y⁵ + 0.010774933910113242x⁴ + 0.00327982664979546x³y + 1.9708633403567648x²y² + 0.0032798266504321383xy³ + 0.0107749339097502y⁴ - 0.022180543330380824x³ + 0.0022887239941412132x²y + 0.002288723993812032xy² - 0.022180543329720755y³ - 1.991405318132472x² - 0.008302595786551022xy - 1.9914053181322913y² + 0.011081359709561193x + 0.01108135970921726y + 1.9930455433528145"
      ]
     },
     "execution_count": 448,
     "metadata": {},
     "output_type": "execute_result"
    }
   ],
   "source": [
    "value(p)"
   ]
  },
  {
   "cell_type": "code",
   "execution_count": 449,
   "metadata": {},
   "outputs": [
    {
     "data": {
      "image/svg+xml": [
       "<?xml version=\"1.0\" encoding=\"utf-8\"?>\n",
       "<svg xmlns=\"http://www.w3.org/2000/svg\" xmlns:xlink=\"http://www.w3.org/1999/xlink\" width=\"600\" height=\"400\" viewBox=\"0 0 2400 1600\">\n",
       "<defs>\n",
       "  <clipPath id=\"clip530\">\n",
       "    <rect x=\"0\" y=\"0\" width=\"2400\" height=\"1600\"/>\n",
       "  </clipPath>\n",
       "</defs>\n",
       "<path clip-path=\"url(#clip530)\" d=\"\n",
       "M0 1600 L2400 1600 L2400 0 L0 0  Z\n",
       "  \" fill=\"#ffffff\" fill-rule=\"evenodd\" fill-opacity=\"1\"/>\n",
       "<defs>\n",
       "  <clipPath id=\"clip531\">\n",
       "    <rect x=\"480\" y=\"0\" width=\"1681\" height=\"1600\"/>\n",
       "  </clipPath>\n",
       "</defs>\n",
       "<path clip-path=\"url(#clip530)\" d=\"\n",
       "M147.848 1486.45 L2352.76 1486.45 L2352.76 47.2441 L147.848 47.2441  Z\n",
       "  \" fill=\"#ffffff\" fill-rule=\"evenodd\" fill-opacity=\"1\"/>\n",
       "<defs>\n",
       "  <clipPath id=\"clip532\">\n",
       "    <rect x=\"147\" y=\"47\" width=\"2206\" height=\"1440\"/>\n",
       "  </clipPath>\n",
       "</defs>\n",
       "<polyline clip-path=\"url(#clip532)\" style=\"stroke:#000000; stroke-width:2; stroke-opacity:0.1; fill:none\" points=\"\n",
       "  210.251,1486.45 210.251,47.2441 \n",
       "  \"/>\n",
       "<polyline clip-path=\"url(#clip532)\" style=\"stroke:#000000; stroke-width:2; stroke-opacity:0.1; fill:none\" points=\"\n",
       "  730.277,1486.45 730.277,47.2441 \n",
       "  \"/>\n",
       "<polyline clip-path=\"url(#clip532)\" style=\"stroke:#000000; stroke-width:2; stroke-opacity:0.1; fill:none\" points=\"\n",
       "  1250.3,1486.45 1250.3,47.2441 \n",
       "  \"/>\n",
       "<polyline clip-path=\"url(#clip532)\" style=\"stroke:#000000; stroke-width:2; stroke-opacity:0.1; fill:none\" points=\"\n",
       "  1770.33,1486.45 1770.33,47.2441 \n",
       "  \"/>\n",
       "<polyline clip-path=\"url(#clip532)\" style=\"stroke:#000000; stroke-width:2; stroke-opacity:0.1; fill:none\" points=\"\n",
       "  2290.35,1486.45 2290.35,47.2441 \n",
       "  \"/>\n",
       "<polyline clip-path=\"url(#clip532)\" style=\"stroke:#000000; stroke-width:2; stroke-opacity:0.1; fill:none\" points=\"\n",
       "  147.848,1446.54 2352.76,1446.54 \n",
       "  \"/>\n",
       "<polyline clip-path=\"url(#clip532)\" style=\"stroke:#000000; stroke-width:2; stroke-opacity:0.1; fill:none\" points=\"\n",
       "  147.848,1105.71 2352.76,1105.71 \n",
       "  \"/>\n",
       "<polyline clip-path=\"url(#clip532)\" style=\"stroke:#000000; stroke-width:2; stroke-opacity:0.1; fill:none\" points=\"\n",
       "  147.848,764.887 2352.76,764.887 \n",
       "  \"/>\n",
       "<polyline clip-path=\"url(#clip532)\" style=\"stroke:#000000; stroke-width:2; stroke-opacity:0.1; fill:none\" points=\"\n",
       "  147.848,424.061 2352.76,424.061 \n",
       "  \"/>\n",
       "<polyline clip-path=\"url(#clip532)\" style=\"stroke:#000000; stroke-width:2; stroke-opacity:0.1; fill:none\" points=\"\n",
       "  147.848,83.2358 2352.76,83.2358 \n",
       "  \"/>\n",
       "<polyline clip-path=\"url(#clip530)\" style=\"stroke:#000000; stroke-width:4; stroke-opacity:1; fill:none\" points=\"\n",
       "  147.848,1486.45 2352.76,1486.45 \n",
       "  \"/>\n",
       "<polyline clip-path=\"url(#clip530)\" style=\"stroke:#000000; stroke-width:4; stroke-opacity:1; fill:none\" points=\"\n",
       "  147.848,1486.45 147.848,47.2441 \n",
       "  \"/>\n",
       "<polyline clip-path=\"url(#clip530)\" style=\"stroke:#000000; stroke-width:4; stroke-opacity:1; fill:none\" points=\"\n",
       "  210.251,1486.45 210.251,1469.18 \n",
       "  \"/>\n",
       "<polyline clip-path=\"url(#clip530)\" style=\"stroke:#000000; stroke-width:4; stroke-opacity:1; fill:none\" points=\"\n",
       "  730.277,1486.45 730.277,1469.18 \n",
       "  \"/>\n",
       "<polyline clip-path=\"url(#clip530)\" style=\"stroke:#000000; stroke-width:4; stroke-opacity:1; fill:none\" points=\"\n",
       "  1250.3,1486.45 1250.3,1469.18 \n",
       "  \"/>\n",
       "<polyline clip-path=\"url(#clip530)\" style=\"stroke:#000000; stroke-width:4; stroke-opacity:1; fill:none\" points=\"\n",
       "  1770.33,1486.45 1770.33,1469.18 \n",
       "  \"/>\n",
       "<polyline clip-path=\"url(#clip530)\" style=\"stroke:#000000; stroke-width:4; stroke-opacity:1; fill:none\" points=\"\n",
       "  2290.35,1486.45 2290.35,1469.18 \n",
       "  \"/>\n",
       "<polyline clip-path=\"url(#clip530)\" style=\"stroke:#000000; stroke-width:4; stroke-opacity:1; fill:none\" points=\"\n",
       "  147.848,1446.54 174.307,1446.54 \n",
       "  \"/>\n",
       "<polyline clip-path=\"url(#clip530)\" style=\"stroke:#000000; stroke-width:4; stroke-opacity:1; fill:none\" points=\"\n",
       "  147.848,1105.71 174.307,1105.71 \n",
       "  \"/>\n",
       "<polyline clip-path=\"url(#clip530)\" style=\"stroke:#000000; stroke-width:4; stroke-opacity:1; fill:none\" points=\"\n",
       "  147.848,764.887 174.307,764.887 \n",
       "  \"/>\n",
       "<polyline clip-path=\"url(#clip530)\" style=\"stroke:#000000; stroke-width:4; stroke-opacity:1; fill:none\" points=\"\n",
       "  147.848,424.061 174.307,424.061 \n",
       "  \"/>\n",
       "<polyline clip-path=\"url(#clip530)\" style=\"stroke:#000000; stroke-width:4; stroke-opacity:1; fill:none\" points=\"\n",
       "  147.848,83.2358 174.307,83.2358 \n",
       "  \"/>\n",
       "<path clip-path=\"url(#clip530)\" d=\"M 0 0 M172.636 1525.04 L185.113 1525.04 L185.113 1528.83 L172.636 1528.83 L172.636 1525.04 Z\" fill=\"#000000\" fill-rule=\"evenodd\" fill-opacity=\"1\" /><path clip-path=\"url(#clip530)\" d=\"M 0 0 M190.992 1535.98 L198.631 1535.98 L198.631 1509.62 L190.321 1511.29 L190.321 1507.03 L198.585 1505.36 L203.261 1505.36 L203.261 1535.98 L210.899 1535.98 L210.899 1539.92 L190.992 1539.92 L190.992 1535.98 Z\" fill=\"#000000\" fill-rule=\"evenodd\" fill-opacity=\"1\" /><path clip-path=\"url(#clip530)\" d=\"M 0 0 M215.969 1534.04 L220.853 1534.04 L220.853 1539.92 L215.969 1539.92 L215.969 1534.04 Z\" fill=\"#000000\" fill-rule=\"evenodd\" fill-opacity=\"1\" /><path clip-path=\"url(#clip530)\" d=\"M 0 0 M235.922 1508.44 Q232.311 1508.44 230.483 1512 Q228.677 1515.55 228.677 1522.67 Q228.677 1529.78 230.483 1533.35 Q232.311 1536.89 235.922 1536.89 Q239.557 1536.89 241.362 1533.35 Q243.191 1529.78 243.191 1522.67 Q243.191 1515.55 241.362 1512 Q239.557 1508.44 235.922 1508.44 M235.922 1504.73 Q241.733 1504.73 244.788 1509.34 Q247.867 1513.92 247.867 1522.67 Q247.867 1531.4 244.788 1536.01 Q241.733 1540.59 235.922 1540.59 Q230.112 1540.59 227.034 1536.01 Q223.978 1531.4 223.978 1522.67 Q223.978 1513.92 227.034 1509.34 Q230.112 1504.73 235.922 1504.73 Z\" fill=\"#000000\" fill-rule=\"evenodd\" fill-opacity=\"1\" /><path clip-path=\"url(#clip530)\" d=\"M 0 0 M692.545 1525.04 L705.022 1525.04 L705.022 1528.83 L692.545 1528.83 L692.545 1525.04 Z\" fill=\"#000000\" fill-rule=\"evenodd\" fill-opacity=\"1\" /><path clip-path=\"url(#clip530)\" d=\"M 0 0 M720.092 1508.44 Q716.48 1508.44 714.652 1512 Q712.846 1515.55 712.846 1522.67 Q712.846 1529.78 714.652 1533.35 Q716.48 1536.89 720.092 1536.89 Q723.726 1536.89 725.531 1533.35 Q727.36 1529.78 727.36 1522.67 Q727.36 1515.55 725.531 1512 Q723.726 1508.44 720.092 1508.44 M720.092 1504.73 Q725.902 1504.73 728.957 1509.34 Q732.036 1513.92 732.036 1522.67 Q732.036 1531.4 728.957 1536.01 Q725.902 1540.59 720.092 1540.59 Q714.281 1540.59 711.203 1536.01 Q708.147 1531.4 708.147 1522.67 Q708.147 1513.92 711.203 1509.34 Q714.281 1504.73 720.092 1504.73 Z\" fill=\"#000000\" fill-rule=\"evenodd\" fill-opacity=\"1\" /><path clip-path=\"url(#clip530)\" d=\"M 0 0 M737.105 1534.04 L741.99 1534.04 L741.99 1539.92 L737.105 1539.92 L737.105 1534.04 Z\" fill=\"#000000\" fill-rule=\"evenodd\" fill-opacity=\"1\" /><path clip-path=\"url(#clip530)\" d=\"M 0 0 M747.105 1505.36 L765.462 1505.36 L765.462 1509.3 L751.388 1509.3 L751.388 1517.77 Q752.406 1517.42 753.425 1517.26 Q754.443 1517.07 755.462 1517.07 Q761.249 1517.07 764.628 1520.24 Q768.008 1523.42 768.008 1528.83 Q768.008 1534.41 764.536 1537.51 Q761.064 1540.59 754.744 1540.59 Q752.568 1540.59 750.3 1540.22 Q748.054 1539.85 745.647 1539.11 L745.647 1534.41 Q747.73 1535.54 749.953 1536.1 Q752.175 1536.66 754.652 1536.66 Q758.656 1536.66 760.994 1534.55 Q763.332 1532.44 763.332 1528.83 Q763.332 1525.22 760.994 1523.11 Q758.656 1521.01 754.652 1521.01 Q752.777 1521.01 750.902 1521.42 Q749.05 1521.84 747.105 1522.72 L747.105 1505.36 Z\" fill=\"#000000\" fill-rule=\"evenodd\" fill-opacity=\"1\" /><path clip-path=\"url(#clip530)\" d=\"M 0 0 M1231.82 1508.44 Q1228.21 1508.44 1226.38 1512 Q1224.57 1515.55 1224.57 1522.67 Q1224.57 1529.78 1226.38 1533.35 Q1228.21 1536.89 1231.82 1536.89 Q1235.45 1536.89 1237.26 1533.35 Q1239.09 1529.78 1239.09 1522.67 Q1239.09 1515.55 1237.26 1512 Q1235.45 1508.44 1231.82 1508.44 M1231.82 1504.73 Q1237.63 1504.73 1240.68 1509.34 Q1243.76 1513.92 1243.76 1522.67 Q1243.76 1531.4 1240.68 1536.01 Q1237.63 1540.59 1231.82 1540.59 Q1226.01 1540.59 1222.93 1536.01 Q1219.87 1531.4 1219.87 1522.67 Q1219.87 1513.92 1222.93 1509.34 Q1226.01 1504.73 1231.82 1504.73 Z\" fill=\"#000000\" fill-rule=\"evenodd\" fill-opacity=\"1\" /><path clip-path=\"url(#clip530)\" d=\"M 0 0 M1248.83 1534.04 L1253.72 1534.04 L1253.72 1539.92 L1248.83 1539.92 L1248.83 1534.04 Z\" fill=\"#000000\" fill-rule=\"evenodd\" fill-opacity=\"1\" /><path clip-path=\"url(#clip530)\" d=\"M 0 0 M1268.79 1508.44 Q1265.17 1508.44 1263.35 1512 Q1261.54 1515.55 1261.54 1522.67 Q1261.54 1529.78 1263.35 1533.35 Q1265.17 1536.89 1268.79 1536.89 Q1272.42 1536.89 1274.23 1533.35 Q1276.05 1529.78 1276.05 1522.67 Q1276.05 1515.55 1274.23 1512 Q1272.42 1508.44 1268.79 1508.44 M1268.79 1504.73 Q1274.6 1504.73 1277.65 1509.34 Q1280.73 1513.92 1280.73 1522.67 Q1280.73 1531.4 1277.65 1536.01 Q1274.6 1540.59 1268.79 1540.59 Q1262.98 1540.59 1259.9 1536.01 Q1256.84 1531.4 1256.84 1522.67 Q1256.84 1513.92 1259.9 1509.34 Q1262.98 1504.73 1268.79 1504.73 Z\" fill=\"#000000\" fill-rule=\"evenodd\" fill-opacity=\"1\" /><path clip-path=\"url(#clip530)\" d=\"M 0 0 M1752.34 1508.44 Q1748.73 1508.44 1746.9 1512 Q1745.1 1515.55 1745.1 1522.67 Q1745.1 1529.78 1746.9 1533.35 Q1748.73 1536.89 1752.34 1536.89 Q1755.98 1536.89 1757.78 1533.35 Q1759.61 1529.78 1759.61 1522.67 Q1759.61 1515.55 1757.78 1512 Q1755.98 1508.44 1752.34 1508.44 M1752.34 1504.73 Q1758.15 1504.73 1761.21 1509.34 Q1764.29 1513.92 1764.29 1522.67 Q1764.29 1531.4 1761.21 1536.01 Q1758.15 1540.59 1752.34 1540.59 Q1746.53 1540.59 1743.45 1536.01 Q1740.4 1531.4 1740.4 1522.67 Q1740.4 1513.92 1743.45 1509.34 Q1746.53 1504.73 1752.34 1504.73 Z\" fill=\"#000000\" fill-rule=\"evenodd\" fill-opacity=\"1\" /><path clip-path=\"url(#clip530)\" d=\"M 0 0 M1769.36 1534.04 L1774.24 1534.04 L1774.24 1539.92 L1769.36 1539.92 L1769.36 1534.04 Z\" fill=\"#000000\" fill-rule=\"evenodd\" fill-opacity=\"1\" /><path clip-path=\"url(#clip530)\" d=\"M 0 0 M1779.36 1505.36 L1797.71 1505.36 L1797.71 1509.3 L1783.64 1509.3 L1783.64 1517.77 Q1784.66 1517.42 1785.67 1517.26 Q1786.69 1517.07 1787.71 1517.07 Q1793.5 1517.07 1796.88 1520.24 Q1800.26 1523.42 1800.26 1528.83 Q1800.26 1534.41 1796.79 1537.51 Q1793.31 1540.59 1786.99 1540.59 Q1784.82 1540.59 1782.55 1540.22 Q1780.3 1539.85 1777.9 1539.11 L1777.9 1534.41 Q1779.98 1535.54 1782.2 1536.1 Q1784.42 1536.66 1786.9 1536.66 Q1790.91 1536.66 1793.24 1534.55 Q1795.58 1532.44 1795.58 1528.83 Q1795.58 1525.22 1793.24 1523.11 Q1790.91 1521.01 1786.9 1521.01 Q1785.03 1521.01 1783.15 1521.42 Q1781.3 1521.84 1779.36 1522.72 L1779.36 1505.36 Z\" fill=\"#000000\" fill-rule=\"evenodd\" fill-opacity=\"1\" /><path clip-path=\"url(#clip530)\" d=\"M 0 0 M2262.25 1535.98 L2269.89 1535.98 L2269.89 1509.62 L2261.58 1511.29 L2261.58 1507.03 L2269.84 1505.36 L2274.52 1505.36 L2274.52 1535.98 L2282.16 1535.98 L2282.16 1539.92 L2262.25 1539.92 L2262.25 1535.98 Z\" fill=\"#000000\" fill-rule=\"evenodd\" fill-opacity=\"1\" /><path clip-path=\"url(#clip530)\" d=\"M 0 0 M2287.23 1534.04 L2292.11 1534.04 L2292.11 1539.92 L2287.23 1539.92 L2287.23 1534.04 Z\" fill=\"#000000\" fill-rule=\"evenodd\" fill-opacity=\"1\" /><path clip-path=\"url(#clip530)\" d=\"M 0 0 M2307.18 1508.44 Q2303.57 1508.44 2301.74 1512 Q2299.94 1515.55 2299.94 1522.67 Q2299.94 1529.78 2301.74 1533.35 Q2303.57 1536.89 2307.18 1536.89 Q2310.82 1536.89 2312.62 1533.35 Q2314.45 1529.78 2314.45 1522.67 Q2314.45 1515.55 2312.62 1512 Q2310.82 1508.44 2307.18 1508.44 M2307.18 1504.73 Q2312.99 1504.73 2316.05 1509.34 Q2319.13 1513.92 2319.13 1522.67 Q2319.13 1531.4 2316.05 1536.01 Q2312.99 1540.59 2307.18 1540.59 Q2301.37 1540.59 2298.29 1536.01 Q2295.24 1531.4 2295.24 1522.67 Q2295.24 1513.92 2298.29 1509.34 Q2301.37 1504.73 2307.18 1504.73 Z\" fill=\"#000000\" fill-rule=\"evenodd\" fill-opacity=\"1\" /><path clip-path=\"url(#clip530)\" d=\"M 0 0 M74.9365 1432.34 Q71.3254 1432.34 69.4967 1435.9 Q67.6912 1439.44 67.6912 1446.57 Q67.6912 1453.68 69.4967 1457.24 Q71.3254 1460.79 74.9365 1460.79 Q78.5707 1460.79 80.3763 1457.24 Q82.205 1453.68 82.205 1446.57 Q82.205 1439.44 80.3763 1435.9 Q78.5707 1432.34 74.9365 1432.34 M74.9365 1428.63 Q80.7467 1428.63 83.8022 1433.24 Q86.8809 1437.82 86.8809 1446.57 Q86.8809 1455.3 83.8022 1459.91 Q80.7467 1464.49 74.9365 1464.49 Q69.1264 1464.49 66.0477 1459.91 Q62.9921 1455.3 62.9921 1446.57 Q62.9921 1437.82 66.0477 1433.24 Q69.1264 1428.63 74.9365 1428.63 Z\" fill=\"#000000\" fill-rule=\"evenodd\" fill-opacity=\"1\" /><path clip-path=\"url(#clip530)\" d=\"M 0 0 M91.9503 1457.94 L96.8345 1457.94 L96.8345 1463.82 L91.9503 1463.82 L91.9503 1457.94 Z\" fill=\"#000000\" fill-rule=\"evenodd\" fill-opacity=\"1\" /><path clip-path=\"url(#clip530)\" d=\"M 0 0 M111.904 1432.34 Q108.293 1432.34 106.464 1435.9 Q104.659 1439.44 104.659 1446.57 Q104.659 1453.68 106.464 1457.24 Q108.293 1460.79 111.904 1460.79 Q115.538 1460.79 117.344 1457.24 Q119.172 1453.68 119.172 1446.57 Q119.172 1439.44 117.344 1435.9 Q115.538 1432.34 111.904 1432.34 M111.904 1428.63 Q117.714 1428.63 120.77 1433.24 Q123.848 1437.82 123.848 1446.57 Q123.848 1455.3 120.77 1459.91 Q117.714 1464.49 111.904 1464.49 Q106.094 1464.49 103.015 1459.91 Q99.9595 1455.3 99.9595 1446.57 Q99.9595 1437.82 103.015 1433.24 Q106.094 1428.63 111.904 1428.63 Z\" fill=\"#000000\" fill-rule=\"evenodd\" fill-opacity=\"1\" /><path clip-path=\"url(#clip530)\" d=\"M 0 0 M75.9319 1091.51 Q72.3208 1091.51 70.4921 1095.08 Q68.6865 1098.62 68.6865 1105.75 Q68.6865 1112.85 70.4921 1116.42 Q72.3208 1119.96 75.9319 1119.96 Q79.5661 1119.96 81.3717 1116.42 Q83.2004 1112.85 83.2004 1105.75 Q83.2004 1098.62 81.3717 1095.08 Q79.5661 1091.51 75.9319 1091.51 M75.9319 1087.81 Q81.742 1087.81 84.7976 1092.41 Q87.8763 1097 87.8763 1105.75 Q87.8763 1114.47 84.7976 1119.08 Q81.742 1123.66 75.9319 1123.66 Q70.1217 1123.66 67.043 1119.08 Q63.9875 1114.47 63.9875 1105.75 Q63.9875 1097 67.043 1092.41 Q70.1217 1087.81 75.9319 1087.81 Z\" fill=\"#000000\" fill-rule=\"evenodd\" fill-opacity=\"1\" /><path clip-path=\"url(#clip530)\" d=\"M 0 0 M92.9457 1117.11 L97.8299 1117.11 L97.8299 1122.99 L92.9457 1122.99 L92.9457 1117.11 Z\" fill=\"#000000\" fill-rule=\"evenodd\" fill-opacity=\"1\" /><path clip-path=\"url(#clip530)\" d=\"M 0 0 M102.946 1088.43 L121.302 1088.43 L121.302 1092.37 L107.228 1092.37 L107.228 1100.84 Q108.247 1100.49 109.265 1100.33 Q110.284 1100.15 111.302 1100.15 Q117.089 1100.15 120.469 1103.32 Q123.848 1106.49 123.848 1111.9 Q123.848 1117.48 120.376 1120.58 Q116.904 1123.66 110.584 1123.66 Q108.409 1123.66 106.14 1123.29 Q103.895 1122.92 101.487 1122.18 L101.487 1117.48 Q103.571 1118.62 105.793 1119.17 Q108.015 1119.73 110.492 1119.73 Q114.496 1119.73 116.834 1117.62 Q119.172 1115.52 119.172 1111.9 Q119.172 1108.29 116.834 1106.19 Q114.496 1104.08 110.492 1104.08 Q108.617 1104.08 106.742 1104.5 Q104.89 1104.91 102.946 1105.79 L102.946 1088.43 Z\" fill=\"#000000\" fill-rule=\"evenodd\" fill-opacity=\"1\" /><path clip-path=\"url(#clip530)\" d=\"M 0 0 M66.9736 778.232 L74.6124 778.232 L74.6124 751.866 L66.3023 753.533 L66.3023 749.273 L74.5661 747.607 L79.242 747.607 L79.242 778.232 L86.8809 778.232 L86.8809 782.167 L66.9736 782.167 L66.9736 778.232 Z\" fill=\"#000000\" fill-rule=\"evenodd\" fill-opacity=\"1\" /><path clip-path=\"url(#clip530)\" d=\"M 0 0 M91.9503 776.287 L96.8345 776.287 L96.8345 782.167 L91.9503 782.167 L91.9503 776.287 Z\" fill=\"#000000\" fill-rule=\"evenodd\" fill-opacity=\"1\" /><path clip-path=\"url(#clip530)\" d=\"M 0 0 M111.904 750.686 Q108.293 750.686 106.464 754.25 Q104.659 757.792 104.659 764.922 Q104.659 772.028 106.464 775.593 Q108.293 779.134 111.904 779.134 Q115.538 779.134 117.344 775.593 Q119.172 772.028 119.172 764.922 Q119.172 757.792 117.344 754.25 Q115.538 750.686 111.904 750.686 M111.904 746.982 Q117.714 746.982 120.77 751.588 Q123.848 756.172 123.848 764.922 Q123.848 773.648 120.77 778.255 Q117.714 782.838 111.904 782.838 Q106.094 782.838 103.015 778.255 Q99.9595 773.648 99.9595 764.922 Q99.9595 756.172 103.015 751.588 Q106.094 746.982 111.904 746.982 Z\" fill=\"#000000\" fill-rule=\"evenodd\" fill-opacity=\"1\" /><path clip-path=\"url(#clip530)\" d=\"M 0 0 M67.969 437.406 L75.6078 437.406 L75.6078 411.041 L67.2977 412.707 L67.2977 408.448 L75.5615 406.781 L80.2374 406.781 L80.2374 437.406 L87.8763 437.406 L87.8763 441.341 L67.969 441.341 L67.969 437.406 Z\" fill=\"#000000\" fill-rule=\"evenodd\" fill-opacity=\"1\" /><path clip-path=\"url(#clip530)\" d=\"M 0 0 M92.9457 435.462 L97.8299 435.462 L97.8299 441.341 L92.9457 441.341 L92.9457 435.462 Z\" fill=\"#000000\" fill-rule=\"evenodd\" fill-opacity=\"1\" /><path clip-path=\"url(#clip530)\" d=\"M 0 0 M102.946 406.781 L121.302 406.781 L121.302 410.716 L107.228 410.716 L107.228 419.189 Q108.247 418.841 109.265 418.679 Q110.284 418.494 111.302 418.494 Q117.089 418.494 120.469 421.665 Q123.848 424.837 123.848 430.253 Q123.848 435.832 120.376 438.934 Q116.904 442.013 110.584 442.013 Q108.409 442.013 106.14 441.642 Q103.895 441.272 101.487 440.531 L101.487 435.832 Q103.571 436.966 105.793 437.522 Q108.015 438.077 110.492 438.077 Q114.496 438.077 116.834 435.971 Q119.172 433.864 119.172 430.253 Q119.172 426.642 116.834 424.536 Q114.496 422.429 110.492 422.429 Q108.617 422.429 106.742 422.846 Q104.89 423.263 102.946 424.142 L102.946 406.781 Z\" fill=\"#000000\" fill-rule=\"evenodd\" fill-opacity=\"1\" /><path clip-path=\"url(#clip530)\" d=\"M 0 0 M70.5615 96.5806 L86.8809 96.5806 L86.8809 100.516 L64.9366 100.516 L64.9366 96.5806 Q67.5986 93.826 72.1819 89.1964 Q76.7883 84.5436 77.9689 83.201 Q80.2143 80.6779 81.0939 78.9418 Q81.9967 77.1826 81.9967 75.4928 Q81.9967 72.7381 80.0522 71.002 Q78.1309 69.2659 75.0291 69.2659 Q72.83 69.2659 70.3763 70.0298 Q67.9458 70.7937 65.168 72.3446 L65.168 67.6224 Q67.9921 66.4882 70.4458 65.9095 Q72.8995 65.3308 74.9365 65.3308 Q80.3068 65.3308 83.5013 68.0159 Q86.6957 70.7011 86.6957 75.1918 Q86.6957 77.3214 85.8855 79.2427 Q85.0985 81.1409 82.992 83.7334 Q82.4133 84.4047 79.3115 87.6223 Q76.2096 90.8167 70.5615 96.5806 Z\" fill=\"#000000\" fill-rule=\"evenodd\" fill-opacity=\"1\" /><path clip-path=\"url(#clip530)\" d=\"M 0 0 M91.9503 94.6362 L96.8345 94.6362 L96.8345 100.516 L91.9503 100.516 L91.9503 94.6362 Z\" fill=\"#000000\" fill-rule=\"evenodd\" fill-opacity=\"1\" /><path clip-path=\"url(#clip530)\" d=\"M 0 0 M111.904 69.0345 Q108.293 69.0345 106.464 72.5992 Q104.659 76.1409 104.659 83.2705 Q104.659 90.3769 106.464 93.9417 Q108.293 97.4834 111.904 97.4834 Q115.538 97.4834 117.344 93.9417 Q119.172 90.3769 119.172 83.2705 Q119.172 76.1409 117.344 72.5992 Q115.538 69.0345 111.904 69.0345 M111.904 65.3308 Q117.714 65.3308 120.77 69.9372 Q123.848 74.5205 123.848 83.2705 Q123.848 91.9973 120.77 96.6037 Q117.714 101.187 111.904 101.187 Q106.094 101.187 103.015 96.6037 Q99.9595 91.9973 99.9595 83.2705 Q99.9595 74.5205 103.015 69.9372 Q106.094 65.3308 111.904 65.3308 Z\" fill=\"#000000\" fill-rule=\"evenodd\" fill-opacity=\"1\" /><polyline clip-path=\"url(#clip532)\" style=\"stroke:#009af9; stroke-width:4; stroke-opacity:1; fill:none\" points=\"\n",
       "  210.251,1430.43 220.652,1404.09 231.052,1378 241.453,1352.16 251.853,1326.57 262.254,1301.24 272.654,1276.17 283.055,1251.35 293.455,1226.78 303.856,1202.47 \n",
       "  314.256,1178.42 324.657,1154.62 335.057,1131.08 345.458,1107.8 355.858,1084.77 366.259,1062 376.659,1039.48 387.06,1017.23 397.46,995.23 407.861,973.491 \n",
       "  418.261,952.009 428.662,930.786 439.062,909.822 449.463,889.116 459.864,868.67 470.264,848.483 480.665,828.556 491.065,808.889 501.466,789.482 511.866,770.335 \n",
       "  522.267,751.449 532.667,732.824 543.068,714.459 553.468,696.356 563.869,678.514 574.269,660.934 584.67,643.616 595.07,626.559 605.471,609.765 615.871,593.234 \n",
       "  626.272,576.965 636.672,560.958 647.073,545.215 657.473,529.735 667.874,514.519 678.274,499.566 688.675,484.877 699.075,470.452 709.476,456.291 719.876,442.395 \n",
       "  730.277,428.763 740.677,415.395 751.078,402.293 761.478,389.456 771.879,376.884 782.279,364.577 792.68,352.536 803.08,340.761 813.481,329.252 823.881,318.009 \n",
       "  834.282,307.032 844.682,296.322 855.083,285.878 865.483,275.701 875.884,265.791 886.284,256.148 896.685,246.772 907.085,237.664 917.486,228.823 927.886,220.25 \n",
       "  938.287,211.944 948.687,203.907 959.088,196.138 969.488,188.637 979.889,181.404 990.289,174.44 1000.69,167.744 1011.09,161.318 1021.49,155.16 1031.89,149.271 \n",
       "  1042.29,143.652 1052.69,138.302 1063.09,133.221 1073.49,128.41 1083.89,123.869 1094.29,119.597 1104.69,115.595 1115.1,111.864 1125.5,108.402 1135.9,105.211 \n",
       "  1146.3,102.29 1156.7,99.6399 1167.1,97.2602 1177.5,95.1511 1187.9,93.3129 1198.3,91.7456 1208.7,90.4493 1219.1,89.4242 1229.5,88.6702 1239.9,88.1875 \n",
       "  1250.3,87.9763 1260.7,88.0365 1271.1,88.3683 1281.5,88.9718 1291.9,89.847 1302.3,90.994 1312.71,92.413 1323.11,94.104 1333.51,96.0671 1343.91,98.3023 \n",
       "  1354.31,100.81 1364.71,103.589 1375.11,106.642 1385.51,109.966 1395.91,113.563 1406.31,117.433 1416.71,121.575 1427.11,125.99 1437.51,130.678 1447.91,135.639 \n",
       "  1458.31,140.873 1468.71,146.379 1479.11,152.159 1489.51,158.211 1499.91,164.537 1510.31,171.136 1520.72,178.008 1531.12,185.153 1541.52,192.572 1551.92,200.264 \n",
       "  1562.32,208.229 1572.72,216.468 1583.12,224.98 1593.52,233.766 1603.92,242.825 1614.32,252.158 1624.72,261.764 1635.12,271.644 1645.52,281.798 1655.92,292.225 \n",
       "  1666.32,302.926 1676.72,313.901 1687.12,325.149 1697.52,336.672 1707.92,348.468 1718.32,360.537 1728.73,372.881 1739.13,385.498 1749.53,398.39 1759.93,411.555 \n",
       "  1770.33,424.994 1780.73,438.706 1791.13,452.693 1801.53,466.953 1811.93,481.488 1822.33,496.296 1832.73,511.378 1843.13,526.733 1853.53,542.363 1863.93,558.266 \n",
       "  1874.33,574.444 1884.73,590.894 1895.13,607.619 1905.53,624.618 1915.93,641.89 1926.34,659.436 1936.74,677.256 1947.14,695.349 1957.54,713.716 1967.94,732.357 \n",
       "  1978.34,751.271 1988.74,770.459 1999.14,789.92 2009.54,809.655 2019.94,829.664 2030.34,849.945 2040.74,870.501 2051.14,891.329 2061.54,912.431 2071.94,933.806 \n",
       "  2082.34,955.454 2092.74,977.376 2103.14,999.571 2113.54,1022.04 2123.94,1044.78 2134.35,1067.79 2144.75,1091.08 2155.15,1114.64 2165.55,1138.47 2175.95,1162.58 \n",
       "  2186.35,1186.95 2196.75,1211.61 2207.15,1236.53 2217.55,1261.72 2227.95,1287.19 2238.35,1312.93 2248.75,1338.94 2259.15,1365.23 2269.55,1391.79 2279.95,1418.61 \n",
       "  2290.35,1445.72 \n",
       "  \"/>\n",
       "<path clip-path=\"url(#clip530)\" d=\"\n",
       "M1989.74 251.724 L2280.76 251.724 L2280.76 130.764 L1989.74 130.764  Z\n",
       "  \" fill=\"#ffffff\" fill-rule=\"evenodd\" fill-opacity=\"1\"/>\n",
       "<polyline clip-path=\"url(#clip530)\" style=\"stroke:#000000; stroke-width:4; stroke-opacity:1; fill:none\" points=\"\n",
       "  1989.74,251.724 2280.76,251.724 2280.76,130.764 1989.74,130.764 1989.74,251.724 \n",
       "  \"/>\n",
       "<polyline clip-path=\"url(#clip530)\" style=\"stroke:#009af9; stroke-width:4; stroke-opacity:1; fill:none\" points=\"\n",
       "  2013.74,191.244 2157.74,191.244 \n",
       "  \"/>\n",
       "<path clip-path=\"url(#clip530)\" d=\"M 0 0 M2195.58 210.931 Q2193.77 215.561 2192.06 216.973 Q2190.35 218.385 2187.48 218.385 L2184.08 218.385 L2184.08 214.82 L2186.58 214.82 Q2188.33 214.82 2189.31 213.987 Q2190.28 213.154 2191.46 210.052 L2192.22 208.107 L2181.74 182.598 L2186.25 182.598 L2194.35 202.876 L2202.46 182.598 L2206.97 182.598 L2195.58 210.931 Z\" fill=\"#000000\" fill-rule=\"evenodd\" fill-opacity=\"1\" /><path clip-path=\"url(#clip530)\" d=\"M 0 0 M2212.85 204.589 L2220.49 204.589 L2220.49 178.223 L2212.18 179.89 L2212.18 175.631 L2220.44 173.964 L2225.12 173.964 L2225.12 204.589 L2232.76 204.589 L2232.76 208.524 L2212.85 208.524 L2212.85 204.589 Z\" fill=\"#000000\" fill-rule=\"evenodd\" fill-opacity=\"1\" /></svg>\n"
      ]
     },
     "execution_count": 449,
     "metadata": {},
     "output_type": "execute_result"
    }
   ],
   "source": [
    "plot( -1:0.01:1,  [ value(p)(x => x1, y => 0) for x1 in -1:0.01:1 ]   )"
   ]
  },
  {
   "cell_type": "markdown",
   "metadata": {},
   "source": [
    "You know, i never revisisted the moment formulation"
   ]
  },
  {
   "cell_type": "code",
   "execution_count": 459,
   "metadata": {},
   "outputs": [
    {
     "data": {
      "text/plain": [
       "Tuple{1.3,4.5}"
      ]
     },
     "execution_count": 459,
     "metadata": {},
     "output_type": "execute_result"
    }
   ],
   "source": [
    "Tuple{1.3, 4.5}"
   ]
  },
  {
   "cell_type": "code",
   "execution_count": 140,
   "metadata": {},
   "outputs": [
    {
     "name": "stderr",
     "output_type": "stream",
     "text": [
      "┌ Info: Precompiling Z3 [06b161dc-0161-11ea-0f74-41f836f4024b]\n",
      "└ @ Base loading.jl:1260\n",
      "WARNING: using Z3.Model in module Main conflicts with an existing identifier.\n",
      "WARNING: using Z3.value in module Main conflicts with an existing identifier.\n"
     ]
    }
   ],
   "source": [
    "using Z3"
   ]
  },
  {
   "cell_type": "code",
   "execution_count": 141,
   "metadata": {},
   "outputs": [
    {
     "name": "stdout",
     "output_type": "stream",
     "text": [
      "y = 2.0\n",
      "x = 4.0\n"
     ]
    }
   ],
   "source": [
    "ctx = Context()\n",
    "x = real_const(ctx, \"x\")\n",
    "y = real_const(ctx, \"y\")\n",
    "\n",
    "s = Solver(ctx, \"QF_NRA\")\n",
    "add(s, x == y^2)\n",
    "add(s, x > 1)\n",
    "\n",
    "res = check(s)\n",
    "@assert res == Z3.sat\n",
    "\n",
    "m = get_model(s)\n",
    "\n",
    "for (k, v) in consts(m)\n",
    "    println(\"$k = $v\")\n",
    "end"
   ]
  },
  {
   "cell_type": "code",
   "execution_count": 145,
   "metadata": {},
   "outputs": [
    {
     "name": "stdout",
     "output_type": "stream",
     "text": [
      "search: \u001b[0m\u001b[1mZ\u001b[22m\u001b[0m\u001b[1m3\u001b[22m\n",
      "\n"
     ]
    },
    {
     "data": {
      "text/latex": [
       "No documentation found.\n",
       "\n",
       "No docstring found for module \\texttt{Z3}.\n",
       "\n"
      ],
      "text/markdown": [
       "No documentation found.\n",
       "\n",
       "No docstring found for module `Z3`.\n"
      ],
      "text/plain": [
       "  No documentation found.\n",
       "\n",
       "  No docstring found for module \u001b[36mZ3\u001b[39m."
      ]
     },
     "execution_count": 145,
     "metadata": {},
     "output_type": "execute_result"
    }
   ],
   "source": [
    "? Z3"
   ]
  },
  {
   "cell_type": "code",
   "execution_count": 147,
   "metadata": {},
   "outputs": [
    {
     "name": "stdout",
     "output_type": "stream",
     "text": [
      "ApplyResult\n",
      "ApplyResultDereferenced\n",
      "Ast\n",
      "AstDereferenced\n",
      "AstVector\n",
      "AstVectorTpl\n",
      "AstVectorTplDereferenced\n",
      "CheckResult\n",
      "Config\n",
      "ConfigDereferenced\n",
      "Context\n",
      "ContextDereferenced\n",
      "ExprDereferenced\n",
      "ExprVector\n",
      "Fixedpoint\n",
      "FixedpointDereferenced\n",
      "FuncDecl\n",
      "FuncDeclDereferenced\n",
      "FuncDeclVector\n",
      "FuncEntry\n",
      "FuncEntryDereferenced\n",
      "FuncInterp\n",
      "FuncInterpDereferenced\n",
      "Goal\n",
      "GoalDereferenced\n",
      "Model\n",
      "ModelDereferenced\n",
      "Object\n",
      "ObjectDereferenced\n",
      "Optimize\n",
      "OptimizeDereferenced\n",
      "OptimizeHandle\n",
      "OptimizeHandleDereferenced\n",
      "ParamDescrs\n",
      "ParamDescrsDereferenced\n",
      "Params\n",
      "ParamsDereferenced\n",
      "Probe\n",
      "ProbeDereferenced\n",
      "RoundingMode\n",
      "Solver\n",
      "SolverDereferenced\n",
      "SolverSimple\n",
      "SolverSimpleDereferenced\n",
      "SolverTranslate\n",
      "SolverTranslateDereferenced\n",
      "Sort\n",
      "SortDereferenced\n",
      "SortVector\n",
      "Stats\n",
      "StatsDereferenced\n",
      "SymbolDereferenced\n",
      "Tactic\n",
      "TacticDereferenced\n",
      "Z3\n",
      "add\n",
      "add_const_interp\n",
      "add_cover\n",
      "add_entry\n",
      "add_fact\n",
      "add_func_interp\n",
      "add_rule\n",
      "algebraic_i\n",
      "algebraic_lower\n",
      "algebraic_poly\n",
      "algebraic_upper\n",
      "and\n",
      "apply\n",
      "arg\n",
      "arity\n",
      "array_domain\n",
      "array_range\n",
      "array_sort\n",
      "as_expr\n",
      "assertions\n",
      "at\n",
      "atleast\n",
      "atmost\n",
      "body\n",
      "bool_const\n",
      "bool_sort\n",
      "bool_val\n",
      "bv_const\n",
      "bv_size\n",
      "bv_sort\n",
      "bv_val\n",
      "check\n",
      "check_context\n",
      "concat\n",
      "consequences\n",
      "constant\n",
      "consts\n",
      "contains\n",
      "convert_model\n",
      "ctx\n",
      "cube\n",
      "decl\n",
      "depth\n",
      "dimacs\n",
      "distinct\n",
      "documentation\n",
      "domain\n",
      "double_value\n",
      "else_value\n",
      "entry\n",
      "enumeration_sort\n",
      "extract\n",
      "fma\n",
      "fpa_const\n",
      "fpa_const_128\n",
      "fpa_const_16\n",
      "fpa_const_32\n",
      "fpa_const_64\n",
      "fpa_ebits\n",
      "fpa_rounding_mode\n",
      "fpa_sbits\n",
      "fpa_sort\n",
      "fpa_sort_128\n",
      "fpa_sort_16\n",
      "fpa_sort_32\n",
      "fpa_sort_64\n",
      "fpa_val\n",
      "from_file\n",
      "from_string\n",
      "func\n",
      "funcs\n",
      "get_answer\n",
      "get_const_decl\n",
      "get_const_interp\n",
      "get_cover_delta\n",
      "get_decimal_string\n",
      "get_escaped_string\n",
      "get_func_decl\n",
      "get_func_interp\n",
      "get_model\n",
      "get_num_levels\n",
      "get_numeral_int\n",
      "get_numeral_int64\n",
      "get_numeral_uint\n",
      "get_numeral_uint64\n",
      "get_param_descrs\n",
      "get_sort\n",
      "get_string\n",
      "h\n",
      "has_interp\n",
      "help\n",
      "hi\n",
      "id\n",
      "implies\n",
      "inconsistent\n",
      "int_const\n",
      "int_sort\n",
      "int_symbol\n",
      "int_val\n",
      "interrupt\n",
      "is_algebraic\n",
      "is_and\n",
      "is_app\n",
      "is_arith\n",
      "is_array\n",
      "is_bool\n",
      "is_bv\n",
      "is_const\n",
      "is_datatype\n",
      "is_decided_sat\n",
      "is_decided_unsat\n",
      "is_distinct\n",
      "is_double\n",
      "is_eq\n",
      "is_exists\n",
      "is_false\n",
      "is_finite_domain\n",
      "is_forall\n",
      "is_fpa\n",
      "is_implies\n",
      "is_int\n",
      "is_ite\n",
      "is_lambda\n",
      "is_not\n",
      "is_numeral\n",
      "is_numeral_i\n",
      "is_numeral_i64\n",
      "is_numeral_u\n",
      "is_numeral_u64\n",
      "is_or\n",
      "is_quantifier\n",
      "is_re\n",
      "is_real\n",
      "is_relation\n",
      "is_seq\n",
      "is_string_value\n",
      "is_true\n",
      "is_uint\n",
      "is_var\n",
      "is_well_sorted\n",
      "is_xor\n",
      "ite\n",
      "itos\n",
      "key\n",
      "lo\n",
      "loop\n",
      "lower\n",
      "main_ctx\n",
      "maximize\n",
      "minimize\n",
      "mk_and\n",
      "mk_or\n",
      "mk_solver\n",
      "name\n",
      "nand\n",
      "non_units\n",
      "nor\n",
      "not\n",
      "nth\n",
      "num_args\n",
      "num_consts\n",
      "num_entries\n",
      "num_exprs\n",
      "num_funcs\n",
      "num_val\n",
      "objectives\n",
      "or\n",
      "par_and_then\n",
      "par_or\n",
      "parse_file\n",
      "parse_string\n",
      "pbeq\n",
      "pbge\n",
      "pble\n",
      "pop\n",
      "proof\n",
      "push\n",
      "query\n",
      "range\n",
      "re_sort\n",
      "real_const\n",
      "real_sort\n",
      "real_val\n",
      "reason_unknown\n",
      "recdef\n",
      "recfun\n",
      "register_relation\n",
      "repeat\n",
      "replace\n",
      "reset\n",
      "reset_params\n",
      "rotate_left\n",
      "rotate_right\n",
      "rules\n",
      "seq_sort\n",
      "set\n",
      "set_else\n",
      "set_param\n",
      "set_rounding_mode\n",
      "simplify\n",
      "statistics\n",
      "stoi\n",
      "str_symbol\n",
      "string_sort\n",
      "string_val\n",
      "substitute\n",
      "to_int\n",
      "to_smt2\n",
      "to_string\n",
      "trail\n",
      "transitive_closure\n",
      "try_for\n",
      "tuple_sort\n",
      "uint_value\n",
      "uninterpreted_sort\n",
      "unit\n",
      "units\n",
      "unsat_core\n",
      "update_rule\n",
      "upper\n",
      "value\n",
      "with\n",
      "xnor\n"
     ]
    }
   ],
   "source": [
    "for n in names(Z3)\n",
    "    println(n)\n",
    "end"
   ]
  },
  {
   "cell_type": "code",
   "execution_count": null,
   "metadata": {},
   "outputs": [],
   "source": []
  }
 ],
 "metadata": {
  "kernelspec": {
   "display_name": "Julia 1.4.1",
   "language": "julia",
   "name": "julia-1.4"
  },
  "language_info": {
   "file_extension": ".jl",
   "mimetype": "application/julia",
   "name": "julia",
   "version": "1.4.1"
  }
 },
 "nbformat": 4,
 "nbformat_minor": 4
}
