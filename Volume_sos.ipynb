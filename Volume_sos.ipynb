{
 "cells": [
  {
   "cell_type": "markdown",
   "metadata": {},
   "source": [
    "There is an interesting poaper by Laserre, Henrion, and _. \n",
    "\n",
    "I haven't really internalized much of the moment persepctive on things. The necessary conditions for a set of numbers to be a concistent sets of moments of a distirbution is nonintuitive to me.\n",
    "\n",
    "\n",
    "However, there is a perspective in that paper which does make sense to me.\n",
    "\n",
    "\n",
    "\n",
    "If we can approximate the indicator function (the function that is 1 on the region of interest and 0 elsewhere), then we're good.\n",
    "\n",
    "However, there is some chicken and egg problem here. The whole reason we're doing all this is because the region is hard to handle in some way. Many function approximation methods require integration of functions in order to set up the problem.\n",
    "\n",
    "We have an implicit representation of the region. A system of inequalities. If linear, it's a polyhedra. If polynomial its a semi agebraic set.\n",
    "\n",
    "\n",
    "We get by this problem because the indicator function is kind of a sharp logical boy. We can encode it as constraints.\n",
    "\n",
    "An overapproximatyion of the indciator function is 1. always >= 0, 2. >= 1 on the region and 3. of minimal integral\n",
    "\n",
    "The first condition is a positive polynomial condition. The second can be achieved by  i(x) + lam g >= 1 (module getting the signs right). The third condition can by achived by integrating the individual polynomials on a known reference area. Then this is a linear objective in tyhe cofficients of our indicatro approximation $ i(x) =  \\sum a_j x^j$ . $ \\int dx i(x) = \\sum_j a_j \\int x^j dx = \\sum a_j c_j$\n",
    "\n",
    "\n",
    "\n",
    "Positives sums of raised chebyshev functions are positive by construction on the unit box.\n",
    "\n",
    "\n",
    "On a sphere, rasied spherical harmonics * some kind of positive polynomial on the radius (chebyshev?) are also positive by construction and seem like a natural choice.\n",
    "\n",
    "\n",
    "\n",
    "\n",
    "The bounding ellipsoid problem is one that is boyd and vanderbeghe. I believe that finding the bounding ellipse of a convex set is a convex optimization problem. Also the interior ellipse.\n",
    "That's a good start.\n",
    "Finding the best fitting shape of ones that we do know how to integrate.\n",
    "\n",
    "The best bouinding box for a polyhedra can be found as an LP. For a polynomially described region, this is a polynomial optimization problem.\n",
    "The best bounding parallelogram.  This might be an SDP using the PSD condition to keep the parallelogram from becoming degenerate.\n",
    "\n",
    "\n",
    "\n",
    "\n"
   ]
  }
 ],
 "metadata": {
  "kernelspec": {
   "display_name": "Julia 1.4.1",
   "language": "julia",
   "name": "julia-1.4"
  },
  "language_info": {
   "file_extension": ".jl",
   "mimetype": "application/julia",
   "name": "julia",
   "version": "1.4.1"
  }
 },
 "nbformat": 4,
 "nbformat_minor": 4
}
