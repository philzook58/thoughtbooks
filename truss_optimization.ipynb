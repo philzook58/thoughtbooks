{
 "cells": [
  {
   "cell_type": "markdown",
   "metadata": {},
   "source": [
    "http://www.optimization-online.org/DB_FILE/2010/05/2614.pdf\n",
    "\n",
    "https://www.youtube.com/watch?v=S1fU7gylp_M&list=PLYWmzh0Y6EOaz6goe3TCMJIUWQyCP1FeK&index=2&ab_channel=MixedIntegerProgramming\n",
    "References at the end\n",
    "Gally thesis\n",
    "Mars master thesis\n",
    "Super cool. Setup truss problem. Mixed integer semidefintie programming I gess.\n"
   ]
  }
 ],
 "metadata": {
  "kernelspec": {
   "display_name": "Julia 1.5.0",
   "language": "julia",
   "name": "julia-1.5"
  },
  "language_info": {
   "file_extension": ".jl",
   "mimetype": "application/julia",
   "name": "julia",
   "version": "1.5.0"
  }
 },
 "nbformat": 4,
 "nbformat_minor": 4
}
