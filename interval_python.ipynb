{
 "cells": [
  {
   "cell_type": "code",
   "execution_count": 1,
   "metadata": {},
   "outputs": [],
   "source": [
    "from pyibex import * "
   ]
  },
  {
   "cell_type": "code",
   "execution_count": 1,
   "metadata": {},
   "outputs": [
    {
     "name": "stdout",
     "output_type": "stream",
     "text": [
      "Defaulting to user installation because normal site-packages is not writeable\n",
      "Collecting pyibex>=1.9.2\n",
      "  Downloading pyibex-1.9.2-cp36-cp36m-manylinux2010_x86_64.whl (4.3 MB)\n",
      "\u001b[K     |████████████████████████████████| 4.3 MB 1.6 MB/s eta 0:00:01\n",
      "\u001b[?25hCollecting tubex-lib\n",
      "  Downloading tubex_lib-3.1.0-cp36-cp36m-manylinux2010_x86_64.whl (32.6 MB)\n",
      "\u001b[K     |████████████████████████████████| 32.6 MB 19.2 MB/s eta 0:00:01\n",
      "\u001b[?25hRequirement already satisfied: vibes in /home/philip/.local/lib/python3.6/site-packages (from pyibex>=1.9.2) (0.2.2)\n",
      "Requirement already satisfied: pip>=19.0.0 in /home/philip/.local/lib/python3.6/site-packages (from tubex-lib) (20.2.2)\n",
      "Installing collected packages: pyibex, tubex-lib\n",
      "  Attempting uninstall: pyibex\n",
      "    Found existing installation: pyibex 1.8.1\n",
      "    Uninstalling pyibex-1.8.1:\n",
      "      Successfully uninstalled pyibex-1.8.1\n",
      "Successfully installed pyibex-1.9.2 tubex-lib-3.1.0\n",
      "\u001b[33mWARNING: You are using pip version 20.2.2; however, version 20.3.3 is available.\n",
      "You should consider upgrading via the '/usr/bin/python3 -m pip install --upgrade pip' command.\u001b[0m\n"
     ]
    }
   ],
   "source": [
    "!pip3 install \"pyibex>=1.9.2\" tubex-lib"
   ]
  },
  {
   "cell_type": "markdown",
   "metadata": {},
   "source": [
    "What is an interval relation?\n",
    "A pair of functions to :: I^m -> I^n, from :: I^n -> I^m\n",
    "With consistnency conditions. to . from <= id   and from . to <= id\n",
    "\n",
    "forall x. to(from(x)) <= x   is what that means\n",
    "contractive in both directions.\n",
    "Well they should both be monotonic functions anyhow.\n",
    "\n",
    "There is an ordering relation on intervals. Set inclusion\n",
    "\n",
    "Intervals are a lattice.\n",
    "\n",
    "In categorical terminology then, to and from are functors.\n",
    "\n",
    "\n",
    "\n",
    "https://arxiv.org/pdf/1404.7171.pdf dreal paper descrbing their thing\n",
    "\n",
    "\n",
    "I don't quite understand where people put their boot strap to the continuum\n",
    "\n",
    "\n",
    "\n",
    "https://www.ensta-bretagne.fr/jaulin/paper_chabert_quimper.pdf constractor programming\n"
   ]
  },
  {
   "cell_type": "code",
   "execution_count": 9,
   "metadata": {},
   "outputs": [
    {
     "data": {
      "text/plain": [
       "(<1, 1> ; <2, 2> ; <3, 3>)"
      ]
     },
     "execution_count": 9,
     "metadata": {},
     "output_type": "execute_result"
    }
   ],
   "source": [
    "Interval.EMPTY_SET\n",
    "Interval.ALL_REALS\n",
    "Interval(-oo,oo)\n",
    "Interval()\n",
    "Interval(-2,3)\n",
    "IntervalVector(2,[1,3])\n",
    "IntervalVector([1,2,3])"
   ]
  },
  {
   "cell_type": "code",
   "execution_count": 11,
   "metadata": {},
   "outputs": [
    {
     "data": {
      "text/plain": [
       "[-1.513604990615857, 0.2822400161197349]"
      ]
     },
     "execution_count": 11,
     "metadata": {},
     "output_type": "execute_result"
    }
   ],
   "source": [
    "f = Function(\"x\",\"y\",\"x * sin(y)\")\n",
    "f.eval(IntervalVector([[1,2],[3,4]]))"
   ]
  },
  {
   "cell_type": "code",
   "execution_count": 12,
   "metadata": {},
   "outputs": [],
   "source": [
    "ctc = CtcFwdBwd(f, [0,oo])"
   ]
  },
  {
   "cell_type": "code",
   "execution_count": null,
   "metadata": {},
   "outputs": [],
   "source": [
    "\n",
    "\n",
    "#interval constraint programming\n",
    "\n",
    "constraints = []\n",
    "\n",
    "store = {} # index from variable to value of variable\n",
    "index = # index from variables to constraints that use them\n",
    "\n",
    "\n",
    "\n",
    "for c in constraints:\n",
    "    inputs = map( x -> store[x] , c.inputs)\n",
    "    res = c.func(inputs...)\n",
    "    outval = store[c.output]\n",
    "    if out & res != outval:\n",
    "        store[out] = outval & res\n",
    "        # active.append( index[c.output] )\n",
    "    \n",
    "check_list = constraints\n",
    "\n",
    "store = {   }\n",
    "\n",
    "while check_list != []\n",
    "    c = check_list.pop()\n",
    "    update_store(c,store)\n",
    "    \n",
    "\n",
    "    \n",
    "\n",
    "\n"
   ]
  },
  {
   "cell_type": "code",
   "execution_count": 3,
   "metadata": {},
   "outputs": [],
   "source": [
    "from pyibex import *\n",
    "from tubex_lib import *\n",
    "\n",
    "x = Tube(Interval(0,1), 0.01, TFunction(\"cos(t) + abs(t-5)*[-0.1,0.1]\"))\n",
    "\n",
    "beginDrawing()\n",
    "fig = VIBesFigTube(\"My first tube\")\n",
    "fig.add_tube(x, \"x\")\n",
    "fig.show()\n",
    "endDrawing()"
   ]
  },
  {
   "cell_type": "code",
   "execution_count": 9,
   "metadata": {},
   "outputs": [
    {
     "data": {
      "text/plain": [
       "Trajectory [0, 10]↦[-3, 3] (Fnc object)"
      ]
     },
     "execution_count": 9,
     "metadata": {},
     "output_type": "execute_result"
    }
   ],
   "source": [
    "tdomain = Interval(0,10)\n",
    "x = Trajectory(tdomain, TFunction(\"cos(t) + sin(2*t)\"))\n",
    "x(1)\n",
    "x.codomain()\n",
    "x.tdomain()\n",
    "x.diff()"
   ]
  },
  {
   "cell_type": "markdown",
   "metadata": {},
   "source": [
    "Contractor networks. \n",
    "\n",
    "This feels like it fits in the general scheme of propagators.\n",
    "DP sanders had a contractor thing right?\n",
    "https://github.com/JuliaIntervals/IntervalConstraintProgramming.jl\n",
    "\n",
    "Applied Interval Analysis, Luc Jaulin, Michel Kieffer, Olivier Didrit, Eric Walter (2001)\n",
    "Introduction to the Algebra of Separators with Application to Path Planning, Luc Jaulin and Benoît Desrochers, Engineering Applications of Artificial Intelligence 33, 141–147 (2014)\n",
    "\n",
    "https://www.ensta-bretagne.fr/jaulin/iamooc.html\n"
   ]
  },
  {
   "cell_type": "code",
   "execution_count": 4,
   "metadata": {},
   "outputs": [
    {
     "data": {
      "text/plain": [
       "([-10, 10] ; [-10, 10])"
      ]
     },
     "execution_count": 4,
     "metadata": {},
     "output_type": "execute_result"
    }
   ],
   "source": [
    "\n",
    "f = Function(\"x\", \"y\", \"x * cos(x - y) + y\")\n",
    "sep = SepFwdBwd(f, CmpOp.LEQ)\n",
    "X0 = IntervalVector(2, [-10,10])\n",
    "\n",
    "X0\n"
   ]
  },
  {
   "cell_type": "code",
   "execution_count": 1,
   "metadata": {},
   "outputs": [],
   "source": [
    "from pyibex import *\n",
    "from tubex_lib import *\n"
   ]
  },
  {
   "cell_type": "code",
   "execution_count": 5,
   "metadata": {},
   "outputs": [],
   "source": [
    "x = Interval()\n",
    "x = Interval(0,10)\n",
    "\n",
    "x = IntervalVector(2, [-1,2])\n",
    "\n",
    "\n",
    "ctc_add = CtcFunction(Function(\"x\", \"y\", \"a\", \"x+y-a \"))\n"
   ]
  },
  {
   "cell_type": "markdown",
   "metadata": {},
   "source": [
    "\n",
    "# how would I implement this?\n",
    "x + y - a => calculate. #would give some interval.\n",
    "\n",
    "Could store both forward and inverse function.\n",
    "\n",
    "(x + y) - a == 0\n",
    "\n",
    "(x0 - a)\n",
    "\n",
    "\n",
    "\n",
    "\n",
    "\n",
    "interval closure. Sure.\n",
    "\n",
    "\n",
    "galois connection between Lattice sets of R and their interval closures. Lattice of intervals\n",
    "\n",
    "R^n boxes.functions of sets vs functions of points. You can derive a function of sets from a function fo points.\n",
    "\n",
    "Monotonically increasing. Functions that make sense (are derived from point functions) are those that are monotonically increasing and convergent. When the set is a point, it equals the point function and monotnically increasing\n",
    "wdith of input converging implies width of output converging\n",
    "\n",
    "\n",
    "\n",
    "x sub y\n",
    "f(x) sub f(y)\n",
    "\n",
    "\n",
    "injection and closure. Every interval is a set.\n",
    "Every set has a closure.\n",
    "\n",
    "Convex hull is similar. BVetween the lattice of sets of R^n\n",
    "\n",
    "<= \n",
    "\n",
    "What is a set?\n",
    "\n",
    "\n",
    "\n",
    "set inversion. compute preimage\n",
    "\n",
    "\n",
    "sivia - set inversion by interval analysis\n",
    "\n",
    "\n",
    "\n",
    "\n",
    "if s\n",
    "\n",
    "contractors\n",
    "\n",
    "contractor is IR^n -> IR^n\n",
    "C([x])\n",
    "1. C([x]) sub [x] contractance\n",
    "2. C([x] intersect X = [x] interesect x - completeness\n",
    "\n",
    "\n",
    "A sub R^n. \n",
    "C(C(x)) sub C([x])\n",
    "\n",
    "idempotent\n",
    "\n",
    "\n",
    "so a self map of a lattice.\n",
    "It's an endofunctor from category theory\n",
    "\n",
    "\n",
    "Is it a homomorphism? \n",
    "\n",
    "\n",
    "motonoicity\n",
    "[x] sub [y] implies C\n",
    "\n",
    "\n",
    "C x -> x   looks like return or coreturn \n",
    "C C x -> C x   yes.\n",
    "\n",
    "A contractor is a monad (or comonad)\n",
    "\n",
    "\n",
    "\n",
    "\n",
    "True and False as a lattice. The Maybe lattice.\n",
    "Julia's missing\n",
    "\n",
    "\n",
    "contract(x)\n",
    "\n",
    "\n",
    "primitive eqaution: cannot be decomposed\n",
    " y = exp(x) + x^2\n",
    "\n",
    "No compound expressions A-normal form\n",
    "\n",
    "\n",
    "Seperator - a piar of contractors one for S, for for it's completment/\n",
    "\n",
    "\n",
    "\n"
   ]
  },
  {
   "cell_type": "code",
   "execution_count": null,
   "metadata": {},
   "outputs": [],
   "source": [
    "def sivia(f, start, S, eps = 0.1):\n",
    "    queue = [start]\n",
    "    Xminux = []\n",
    "    Xplus = []\n",
    "    while length(queue) > 0:\n",
    "        box = queue.pop()\n",
    "        outer = f(box)\n",
    "        if outer in outset:\n",
    "            Xminus.append(outer)\n",
    "        elif intersect(outer, S) == 0:\n",
    "            pass\n",
    "        elif width(outset) <= eps:\n",
    "            Xplus.append(outset)\n",
    "        else:\n",
    "            queue.append(box.split())\n",
    "    return Xminus, Xplus\n",
    "\n",
    "# Wait so this does have all three\n",
    "\n",
    "def contract(x,y,z): # x + y == z\n",
    "    z = z.intersect( x + y )\n",
    "    y = y.intersect( z - x )\n",
    "    x = x.intersect( z - y )\n",
    "    "
   ]
  }
 ],
 "metadata": {
  "kernelspec": {
   "display_name": "Python 3",
   "language": "python",
   "name": "python3"
  },
  "language_info": {
   "codemirror_mode": {
    "name": "ipython",
    "version": 3
   },
   "file_extension": ".py",
   "mimetype": "text/x-python",
   "name": "python",
   "nbconvert_exporter": "python",
   "pygments_lexer": "ipython3",
   "version": "3.6.9"
  }
 },
 "nbformat": 4,
 "nbformat_minor": 4
}
