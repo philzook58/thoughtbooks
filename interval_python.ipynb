{
 "cells": [
  {
   "cell_type": "code",
   "execution_count": 2,
   "metadata": {},
   "outputs": [],
   "source": [
    "from pyibex import * "
   ]
  },
  {
   "cell_type": "markdown",
   "metadata": {},
   "source": [
    "What is an interval relation?\n",
    "A pair of functions to :: I^m -> I^n, from :: I^n -> I^m\n",
    "With consistnency conditions. to . from <= id   and from . to <= id\n",
    "\n",
    "forall x. to(from(x)) <= x   is what that means\n",
    "contractive in both directions.\n",
    "Well they should both be monotonic functions anyhow.\n",
    "\n",
    "There is an ordering relation on intervals. Set inclusion\n",
    "\n",
    "Intervals are a lattice.\n",
    "\n",
    "In categorical terminology then, to and from are functors.\n",
    "\n",
    "\n",
    "\n",
    "https://arxiv.org/pdf/1404.7171.pdf dreal paper descrbing their thing\n",
    "\n",
    "\n",
    "I don't quite understand where people put their boot strap to the continuum\n",
    "\n",
    "\n",
    "\n",
    "https://www.ensta-bretagne.fr/jaulin/paper_chabert_quimper.pdf constractor programming\n"
   ]
  },
  {
   "cell_type": "code",
   "execution_count": 9,
   "metadata": {},
   "outputs": [
    {
     "data": {
      "text/plain": [
       "(<1, 1> ; <2, 2> ; <3, 3>)"
      ]
     },
     "execution_count": 9,
     "metadata": {},
     "output_type": "execute_result"
    }
   ],
   "source": [
    "Interval.EMPTY_SET\n",
    "Interval.ALL_REALS\n",
    "Interval(-oo,oo)\n",
    "Interval()\n",
    "Interval(-2,3)\n",
    "IntervalVector(2,[1,3])\n",
    "IntervalVector([1,2,3])"
   ]
  },
  {
   "cell_type": "code",
   "execution_count": 11,
   "metadata": {},
   "outputs": [
    {
     "data": {
      "text/plain": [
       "[-1.513604990615857, 0.2822400161197349]"
      ]
     },
     "execution_count": 11,
     "metadata": {},
     "output_type": "execute_result"
    }
   ],
   "source": [
    "f = Function(\"x\",\"y\",\"x * sin(y)\")\n",
    "f.eval(IntervalVector([[1,2],[3,4]]))"
   ]
  },
  {
   "cell_type": "code",
   "execution_count": 12,
   "metadata": {},
   "outputs": [],
   "source": [
    "ctc = CtcFwdBwd(f, [0,oo])"
   ]
  },
  {
   "cell_type": "code",
   "execution_count": null,
   "metadata": {},
   "outputs": [],
   "source": [
    "\n",
    "\n",
    "#interval constraint programming\n",
    "\n",
    "constraints = []\n",
    "\n",
    "store = {} # index from variable to value of variable\n",
    "index = # index from variables to constraints that use them\n",
    "\n",
    "\n",
    "\n",
    "for c in constraints:\n",
    "    inputs = map( x -> store[x] , c.inputs)\n",
    "    res = c.func(inputs...)\n",
    "    outval = store[c.output]\n",
    "    if out & res != outval:\n",
    "        store[out] = outval & res\n",
    "        # active.append( index[c.output] )\n",
    "    \n",
    "check_list = constraints\n",
    "\n",
    "store = {   }\n",
    "\n",
    "while check_list != []\n",
    "    c = check_list.pop()\n",
    "    update_store(c,store)\n",
    "    \n",
    "\n",
    "    \n",
    "\n",
    "\n"
   ]
  }
 ],
 "metadata": {
  "kernelspec": {
   "display_name": "Python 3",
   "language": "python",
   "name": "python3"
  },
  "language_info": {
   "codemirror_mode": {
    "name": "ipython",
    "version": 3
   },
   "file_extension": ".py",
   "mimetype": "text/x-python",
   "name": "python",
   "nbconvert_exporter": "python",
   "pygments_lexer": "ipython3",
   "version": "3.6.9"
  }
 },
 "nbformat": 4,
 "nbformat_minor": 4
}
