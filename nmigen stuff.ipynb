{
 "cells": [
  {
   "cell_type": "code",
   "execution_count": 1,
   "metadata": {},
   "outputs": [],
   "source": [
    "import nmigen"
   ]
  },
  {
   "cell_type": "code",
   "execution_count": 2,
   "metadata": {},
   "outputs": [
    {
     "data": {
      "text/plain": [
       "['Array',\n",
       " 'C',\n",
       " 'Cat',\n",
       " 'ClockDomain',\n",
       " 'ClockSignal',\n",
       " 'Const',\n",
       " 'DomainRenamer',\n",
       " 'Elaboratable',\n",
       " 'EnableInserter',\n",
       " 'Fragment',\n",
       " 'Instance',\n",
       " 'Memory',\n",
       " 'Module',\n",
       " 'Mux',\n",
       " 'Record',\n",
       " 'Repl',\n",
       " 'ResetInserter',\n",
       " 'ResetSignal',\n",
       " 'Shape',\n",
       " 'Signal',\n",
       " 'Value',\n",
       " '__all__',\n",
       " '__builtins__',\n",
       " '__cached__',\n",
       " '__doc__',\n",
       " '__file__',\n",
       " '__loader__',\n",
       " '__name__',\n",
       " '__package__',\n",
       " '__path__',\n",
       " '__spec__',\n",
       " '__version__',\n",
       " '_unused',\n",
       " '_utils',\n",
       " 'hdl',\n",
       " 'pkg_resources',\n",
       " 'signed',\n",
       " 'tracer',\n",
       " 'unsigned',\n",
       " 'utils']"
      ]
     },
     "execution_count": 2,
     "metadata": {},
     "output_type": "execute_result"
    }
   ],
   "source": [
    "dir(nmigen)"
   ]
  },
  {
   "cell_type": "code",
   "execution_count": 3,
   "metadata": {},
   "outputs": [
    {
     "ename": "ToolNotFound",
     "evalue": "Could not find required tool nextpnr-ice40 in PATH. Place it directly in PATH or specify path explicitly via the NEXTPNR_ICE40 environment variable",
     "output_type": "error",
     "traceback": [
      "\u001b[0;31m---------------------------------------------------------------------------\u001b[0m",
      "\u001b[0;31mToolNotFound\u001b[0m                              Traceback (most recent call last)",
      "\u001b[0;32m<ipython-input-3-1d64f047ac84>\u001b[0m in \u001b[0;36m<module>\u001b[0;34m\u001b[0m\n\u001b[1;32m     19\u001b[0m \u001b[0;32mif\u001b[0m \u001b[0m__name__\u001b[0m \u001b[0;34m==\u001b[0m \u001b[0;34m\"__main__\"\u001b[0m\u001b[0;34m:\u001b[0m\u001b[0;34m\u001b[0m\u001b[0;34m\u001b[0m\u001b[0m\n\u001b[1;32m     20\u001b[0m     \u001b[0mplatform\u001b[0m \u001b[0;34m=\u001b[0m \u001b[0mICE40HX1KBlinkEVNPlatform\u001b[0m\u001b[0;34m(\u001b[0m\u001b[0;34m)\u001b[0m\u001b[0;34m\u001b[0m\u001b[0;34m\u001b[0m\u001b[0m\n\u001b[0;32m---> 21\u001b[0;31m     \u001b[0mplatform\u001b[0m\u001b[0;34m.\u001b[0m\u001b[0mbuild\u001b[0m\u001b[0;34m(\u001b[0m\u001b[0mBlinky\u001b[0m\u001b[0;34m(\u001b[0m\u001b[0;34m)\u001b[0m\u001b[0;34m,\u001b[0m \u001b[0mdo_program\u001b[0m\u001b[0;34m=\u001b[0m\u001b[0;32mTrue\u001b[0m\u001b[0;34m)\u001b[0m\u001b[0;34m\u001b[0m\u001b[0;34m\u001b[0m\u001b[0m\n\u001b[0m",
      "\u001b[0;32m/usr/local/lib/python3.7/site-packages/nmigen/build/plat.py\u001b[0m in \u001b[0;36mbuild\u001b[0;34m(self, elaboratable, name, build_dir, do_build, program_opts, do_program, **kwargs)\u001b[0m\n\u001b[1;32m     74\u001b[0m         \u001b[0;32mif\u001b[0m \u001b[0mself\u001b[0m\u001b[0;34m.\u001b[0m\u001b[0m_toolchain_env_var\u001b[0m \u001b[0;32mnot\u001b[0m \u001b[0;32min\u001b[0m \u001b[0mos\u001b[0m\u001b[0;34m.\u001b[0m\u001b[0menviron\u001b[0m\u001b[0;34m:\u001b[0m\u001b[0;34m\u001b[0m\u001b[0;34m\u001b[0m\u001b[0m\n\u001b[1;32m     75\u001b[0m             \u001b[0;32mfor\u001b[0m \u001b[0mtool\u001b[0m \u001b[0;32min\u001b[0m \u001b[0mself\u001b[0m\u001b[0;34m.\u001b[0m\u001b[0mrequired_tools\u001b[0m\u001b[0;34m:\u001b[0m\u001b[0;34m\u001b[0m\u001b[0;34m\u001b[0m\u001b[0m\n\u001b[0;32m---> 76\u001b[0;31m                 \u001b[0mrequire_tool\u001b[0m\u001b[0;34m(\u001b[0m\u001b[0mtool\u001b[0m\u001b[0;34m)\u001b[0m\u001b[0;34m\u001b[0m\u001b[0;34m\u001b[0m\u001b[0m\n\u001b[0m\u001b[1;32m     77\u001b[0m \u001b[0;34m\u001b[0m\u001b[0m\n\u001b[1;32m     78\u001b[0m         \u001b[0mplan\u001b[0m \u001b[0;34m=\u001b[0m \u001b[0mself\u001b[0m\u001b[0;34m.\u001b[0m\u001b[0mprepare\u001b[0m\u001b[0;34m(\u001b[0m\u001b[0melaboratable\u001b[0m\u001b[0;34m,\u001b[0m \u001b[0mname\u001b[0m\u001b[0;34m,\u001b[0m \u001b[0;34m**\u001b[0m\u001b[0mkwargs\u001b[0m\u001b[0;34m)\u001b[0m\u001b[0;34m\u001b[0m\u001b[0;34m\u001b[0m\u001b[0m\n",
      "\u001b[0;32m/usr/local/lib/python3.7/site-packages/nmigen/_toolchain.py\u001b[0m in \u001b[0;36mrequire_tool\u001b[0;34m(name)\u001b[0m\n\u001b[1;32m     34\u001b[0m                                \u001b[0;34m\"it directly in PATH or specify path explicitly \"\u001b[0m\u001b[0;34m\u001b[0m\u001b[0;34m\u001b[0m\u001b[0m\n\u001b[1;32m     35\u001b[0m                                \u001b[0;34m\"via the {} environment variable\"\u001b[0m\u001b[0;34m.\u001b[0m\u001b[0;34m\u001b[0m\u001b[0;34m\u001b[0m\u001b[0m\n\u001b[0;32m---> 36\u001b[0;31m                                format(name, env_var))\n\u001b[0m\u001b[1;32m     37\u001b[0m     \u001b[0;32mreturn\u001b[0m \u001b[0mpath\u001b[0m\u001b[0;34m\u001b[0m\u001b[0;34m\u001b[0m\u001b[0m\n",
      "\u001b[0;31mToolNotFound\u001b[0m: Could not find required tool nextpnr-ice40 in PATH. Place it directly in PATH or specify path explicitly via the NEXTPNR_ICE40 environment variable"
     ]
    }
   ],
   "source": [
    "# If the design does not create a \"sync\" clock domain, it is created by the nMigen build system\n",
    "# using the platform default clock (and default reset, if any).\n",
    "\n",
    "from nmigen import *\n",
    "from nmigen_boards.ice40_hx1k_blink_evn import *\n",
    "\n",
    "\n",
    "class Blinky(Elaboratable):\n",
    "    def elaborate(self, platform):\n",
    "        led   = platform.request(\"led\", 0)\n",
    "        timer = Signal(20)\n",
    "\n",
    "        m = Module()\n",
    "        m.d.sync += timer.eq(timer + 1)\n",
    "        m.d.comb += led.o.eq(timer[-1])\n",
    "        return m\n",
    "\n",
    "\n",
    "if __name__ == \"__main__\":\n",
    "    platform = ICE40HX1KBlinkEVNPlatform()\n",
    "    platform.build(Blinky(), do_program=True)"
   ]
  },
  {
   "cell_type": "markdown",
   "metadata": {},
   "source": [
    "https://github.com/YosysHQ/nextpnr\n",
    "Installing nextpnr according to instructions\n",
    "Need to upgrade some stuff\n",
    "\n",
    "\n",
    "I need to get blinking, but also I really need to get the serial port working.\n",
    "Communicating back to comp is clutch.\n",
    "Also verilator\n",
    "\n",
    "Compile to migen and z3?\n",
    "\n",
    "\n",
    "Categorical Abstraction\n",
    "\n",
    "How do you link together modules?\n",
    "\n",
    "\n",
    "\n"
   ]
  }
 ],
 "metadata": {
  "kernelspec": {
   "display_name": "Python 3",
   "language": "python",
   "name": "python3"
  },
  "language_info": {
   "codemirror_mode": {
    "name": "ipython",
    "version": 3
   },
   "file_extension": ".py",
   "mimetype": "text/x-python",
   "name": "python",
   "nbconvert_exporter": "python",
   "pygments_lexer": "ipython3",
   "version": "3.8.5"
  }
 },
 "nbformat": 4,
 "nbformat_minor": 4
}
