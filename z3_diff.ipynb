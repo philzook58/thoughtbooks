{
 "cells": [
  {
   "cell_type": "code",
   "execution_count": 1,
   "metadata": {},
   "outputs": [],
   "source": [
    "from z3 import *\n"
   ]
  },
  {
   "cell_type": "markdown",
   "metadata": {},
   "source": [
    "Differential equations + Z3\n",
    "\n",
    "We can differentiate expressiosn\n",
    "We can integrate expressions\n",
    "\n",
    "\n",
    "We can call Z3. get models\n",
    "\n",
    "\n",
    "\n",
    "Differential equations are unfortunately unbounded loops. They're hard to unroll. I guess we could anyway and just say F-it.\n",
    "Espcially if you combined it with an error estimate.\n",
    "Any returned countermodel would be super suspicious.\n",
    "Unsats are roughly as trustable as naive BMC unsats\n",
    "\n",
    "\n",
    "\n",
    "diff(x) ->  (x_{n + 1} - x_n) / dt\n",
    "\n",
    "\n",
    "hand it off to sympy\n",
    "\n",
    "\n",
    "bnouncing ball\n",
    "\n",
    "x,v = Real(\"x v\")\n",
    "dt = 0.1\n",
    "\n",
    "dyn = And(prime(x) == If(x + v * dt <= 0, 0, x + v * dt),\n",
    "prime(v) == If(x == 0, -v, v + g*dt))\n",
    "Spec = x >= 0 & v <= v0\n",
    "Init = And(x <= 1, v == 0)\n",
    "\n",
    "\n",
    "What about fully eager dpll?\n",
    "\n",
    "class MySolver(Solver)\n",
    "    def add():\n",
    "    def check():\n",
    "    def \n",
    "\n",
    "What about differential equations as surfaces.\n",
    "\n",
    "dx* ==    *dy\n",
    "\n",
    "\n",
    "has to be linear, so could replace d with complete basis at compile time.\n",
    "\n",
    "\n",
    "PC is the explici time parameter.\n",
    "t\n",
    "\n",
    "dt*x == dx \n",
    "\n",
    "dx == -x*dt\n",
    "\n",
    "dx2 = -(x + dx)*dt2\n",
    "\n",
    "\n",
    "prime(t) == t + dt\n",
    "prime(x) = x + dx\n",
    "dx == -x * dt\n",
    "\n",
    "\n",
    "\n",
    "\n",
    "\n",
    "\n",
    "integral as special symbol\n",
    "integ(x) \\sub \n",
    "\n",
    "\n",
    " [ Interval() for i in range(n)]\n",
    "integ(tube) = [ dt*  ]\n",
    "\n",
    "\n",
    "How do we \n",
    "\n",
    "what about the \"subgradient\". We could consider the derivative to be kind of a cone.\n",
    "\n"
   ]
  },
  {
   "cell_type": "code",
   "execution_count": null,
   "metadata": {},
   "outputs": [],
   "source": []
  },
  {
   "cell_type": "code",
   "execution_count": null,
   "metadata": {},
   "outputs": [],
   "source": [
    "class Interval():\n",
    "    def __init__(self,l,r):\n",
    "        self.l = l\n",
    "        self.r = r\n",
    "    def __add__(self,rhs):\n",
    "        if type(rhs) == Interval:\n",
    "            return Interval(self.l + rhs.l, self.r + rhs.r)\n",
    "    def __sub__(self, rhs):\n",
    "        return Interval(self.l)\n",
    "    def __mul__(self,rhs):\n",
    "        combos = [self.l * rhs.l, self.l * rhs.r, self.r * rhs.l, self.r*rhs.r]\n",
    "        return Interval( Min(*combos), Max(*combos))\n",
    "    def fresh():\n",
    "        l = FreshReal()\n",
    "        r = FreshReal()\n",
    "        return Interval(l,r)\n",
    "            \n",
    "    def valid(self): # It is problematic that I have to rememeber to use this. A way around it?\n",
    "        return self.l <= self.r\n",
    "    def __le__(self,rhs): # Or( self.r < self.l ) (ie is bottom)\n",
    "        return And(rhs.l <= self.l, self.r <= rhs.r )\n",
    "    def __lt__(self,rhs):\n",
    "        return And(rhs.l < self.l, self.r < rhs.r )\n",
    "    def forall( eq ):\n",
    "        i = Interval.fresh()\n",
    "        return ForAll([i.l,i.r] , Implies(i.valid(), eq(i) ))\n",
    "    def elem(self,item):\n",
    "        return And(self.l <= item, item <= self.r) \n",
    "    def join(self,rhs):\n",
    "        return Interval(Min(self.l, rhs.l), Max(self.r, rhs.r))\n",
    "    def meet(self,rhs):\n",
    "        return Interval(Max(self.l, rhs.l), Min(self.r, rhs.r))\n",
    "    def width(self):\n",
    "        return self.r - self.l\n",
    "    def mid(self):\n",
    "        return (self.r + self.l)/2\n",
    "    def bisect(self):\n",
    "        return Interval(self.l, self.mid()), Interval(self.mid(), self.r)\n",
    "    def point(x):\n",
    "        return Interval(x,x)\n",
    "    def recip(self): #assume 0 is not in \n",
    "        return Interval(1/self.r, 1/self.l)\n",
    "    def __truediv__(self,rhs):\n",
    "        return self * rhs.recip()\n",
    "    def __repr__(self):\n",
    "        return f\"[{self.l} , {self.r}]\"\n",
    "    def pos(self):\n",
    "        return And(self.l > 0, self.r > 0)\n",
    "    def neg(self):\n",
    "        return And(self.l < 0, self.r < 0)\n",
    "    def non_zero(self):\n",
    "        return Or(self.pos(), self.neg())\n",
    "\n",
    "def FreshInterval(prefix=None):\n",
    "    return Interval.fresh(prefix)\n",
    "\n",
    "class Tube:\n",
    "    intervals\n",
    "    ts # one more than intervals. Intervals are edges, ts are vertices\n",
    "    def __add__()\n",
    "    \n",
    "    def __call__(self):\n",
    "        i = find in ts:\n",
    "            return self.intervals[i]\n",
    "    def map_(self,f):\n",
    "    def contains(self):\n",
    "        And(intervals)\n",
    "    def integrate(self):\n",
    "        new_interval = []\n",
    "        acc = 0\n",
    "        for i in intervals:\n",
    "            acc = acc + dt * i\n",
    "            new_interval.push( acc )\n",
    "        \n",
    "        \n",
    "        \n",
    "\n",
    "    \n"
   ]
  },
  {
   "cell_type": "code",
   "execution_count": 218,
   "metadata": {},
   "outputs": [
    {
     "name": "stdout",
     "output_type": "stream",
     "text": [
      "Defaulting to user installation because normal site-packages is not writeable\n",
      "Collecting dreal\n",
      "  Downloading dreal-4.20.12.1-cp36-none-manylinux1_x86_64.whl (1.2 MB)\n",
      "\u001b[K     |████████████████████████████████| 1.2 MB 1.4 MB/s eta 0:00:01\n",
      "\u001b[?25hInstalling collected packages: dreal\n",
      "Successfully installed dreal-4.20.12.1\n",
      "\u001b[33mWARNING: You are using pip version 20.2.2; however, version 20.3.3 is available.\n",
      "You should consider upgrading via the '/usr/bin/python3 -m pip install --upgrade pip' command.\u001b[0m\n"
     ]
    }
   ],
   "source": [
    "!pip3 install dreal\n"
   ]
  },
  {
   "cell_type": "code",
   "execution_count": 219,
   "metadata": {},
   "outputs": [
    {
     "ename": "ImportError",
     "evalue": "libibex.so: cannot open shared object file: No such file or directory",
     "output_type": "error",
     "traceback": [
      "\u001b[0;31m---------------------------------------------------------------------------\u001b[0m",
      "\u001b[0;31mImportError\u001b[0m                               Traceback (most recent call last)",
      "\u001b[0;32m<ipython-input-219-ad9eae912fd9>\u001b[0m in \u001b[0;36m<module>\u001b[0;34m\u001b[0m\n\u001b[0;32m----> 1\u001b[0;31m \u001b[0;32mfrom\u001b[0m \u001b[0mdreal\u001b[0m \u001b[0;32mimport\u001b[0m \u001b[0;34m*\u001b[0m\u001b[0;34m\u001b[0m\u001b[0;34m\u001b[0m\u001b[0m\n\u001b[0m",
      "\u001b[0;32m~/.local/lib/python3.6/site-packages/dreal/__init__.py\u001b[0m in \u001b[0;36m<module>\u001b[0;34m\u001b[0m\n\u001b[1;32m      4\u001b[0m \u001b[0;32mfrom\u001b[0m \u001b[0m__future__\u001b[0m \u001b[0;32mimport\u001b[0m \u001b[0mprint_function\u001b[0m\u001b[0;34m\u001b[0m\u001b[0;34m\u001b[0m\u001b[0m\n\u001b[1;32m      5\u001b[0m \u001b[0;34m\u001b[0m\u001b[0m\n\u001b[0;32m----> 6\u001b[0;31m \u001b[0;32mfrom\u001b[0m \u001b[0mdreal\u001b[0m\u001b[0;34m.\u001b[0m\u001b[0m_dreal_py\u001b[0m \u001b[0;32mimport\u001b[0m \u001b[0;34m*\u001b[0m\u001b[0;34m\u001b[0m\u001b[0;34m\u001b[0m\u001b[0m\n\u001b[0m\u001b[1;32m      7\u001b[0m \u001b[0;32mfrom\u001b[0m \u001b[0mfunctools\u001b[0m \u001b[0;32mimport\u001b[0m \u001b[0mreduce\u001b[0m\u001b[0;34m\u001b[0m\u001b[0;34m\u001b[0m\u001b[0m\n\u001b[1;32m      8\u001b[0m \u001b[0;34m\u001b[0m\u001b[0m\n",
      "\u001b[0;31mImportError\u001b[0m: libibex.so: cannot open shared object file: No such file or directory"
     ]
    }
   ],
   "source": [
    "from dreal import *"
   ]
  },
  {
   "cell_type": "code",
   "execution_count": null,
   "metadata": {},
   "outputs": [],
   "source": [
    "def sin(x):\n",
    "    return x - x**3 / 6 + x**5 / 125\n",
    "\n",
    "def sin(x):\n",
    "    return  z,  z <= x - x**3 / 6 + x**5 / 125 + delta\n",
    "# counterexample refinement\n",
    "\n"
   ]
  },
  {
   "cell_type": "markdown",
   "metadata": {},
   "source": [
    "https://arxiv.org/pdf/2003.05633.pdf - tried to compete with nlsat. didn't come out favorably\n",
    "\n",
    "NLSAT is a seperate solver inside z3 that may be automatically invoked.\n",
    "I guess it's actually pretty good\n",
    "https://theory.stanford.edu/~nikolaj/programmingz3.html#sec-nlsat\n",
    "\n",
    "Yea, I actually did try z3 for kissing number\n",
    "didn't work for unsat in 2d\n"
   ]
  },
  {
   "cell_type": "code",
   "execution_count": 2,
   "metadata": {},
   "outputs": [
    {
     "name": "stdout",
     "output_type": "stream",
     "text": [
      "unsat\n"
     ]
    }
   ],
   "source": [
    "s = SolverFor(\"QF_NRA\")\n",
    "x, y = Reals('x y')\n",
    "s.add(x**3 + x*y + 1 == 0, x*y > 1, x**2 < 1.1)\n",
    "print(s.check())"
   ]
  },
  {
   "cell_type": "code",
   "execution_count": 5,
   "metadata": {},
   "outputs": [
    {
     "name": "stdout",
     "output_type": "stream",
     "text": [
      "unsat\n"
     ]
    }
   ],
   "source": [
    "# 1d micro kissing\n",
    "s = SolverFor(\"QF_NRA\")\n",
    "x, y, z = Reals('x y z')\n",
    "s.add(x**2 == 1, y**2 == 1, z**2 == 1, (z - y)**2 >= 1, (x - z)**2 >= 1, (y - x)**2 >= 1)\n",
    "print(s.check())"
   ]
  },
  {
   "cell_type": "code",
   "execution_count": 7,
   "metadata": {},
   "outputs": [
    {
     "name": "stdout",
     "output_type": "stream",
     "text": [
      "sat\n"
     ]
    },
    {
     "data": {
      "text/html": [
       "[y = 1, x = -1]"
      ],
      "text/plain": [
       "[y = 1, x = -1]"
      ]
     },
     "execution_count": 7,
     "metadata": {},
     "output_type": "execute_result"
    }
   ],
   "source": [
    "# micro kissing\n",
    "s = SolverFor(\"QF_NRA\")\n",
    "x, y = Reals('x y')\n",
    "s.add(x**2 == 1, y**2 == 1, (y - x)**2 >= 1)\n",
    "print(s.check())\n",
    "s.model()"
   ]
  },
  {
   "cell_type": "code",
   "execution_count": null,
   "metadata": {},
   "outputs": [],
   "source": [
    "\n",
    "#http://ai.stanford.edu/~chuongdo/satpage/\n",
    "from z3 import *\n",
    "import numpy as np\n",
    "\n",
    "N = 5 \n",
    "T = N*N-1\n",
    "x = np.array([ [ [ Bool(f\"x_{i}_{j}_{t}\")  for t in range(T)]   for j in range(N) ] for i in range(N)])\n",
    "\n",
    "x[:,:,0] == True # initial conditin\n",
    "x[:,:,-1] == False # final condition\n",
    "\n",
    "a = np.array([ [[ [ Bool(f\"a_{i}_{j}_{t}_{d}\")  for t in range(T-1)] for d in [\"U\",\"D\",\"L\",\"R\"]]  for j in range(N) ] for i in range(N)])\n",
    "UP = 0\n",
    "DOWN = 1\n",
    "LEFT = 2\n",
    "RIGHT = 3\n",
    "a[0,:,:,LEFT] == False\n",
    "a[-1,:,:,RIGHT] == False\n",
    "a[:,0,:,DOWN] == False\n",
    "a[:,-1,:,UP] == False\n",
    "\n",
    "[  exactly_one(a[:,:,t,:])  for  t in range(T-1)]\n",
    "\n",
    "Implies( a[i,j,t,LEFT] ,  x[i,j,t] & x[i-1,j,t] & !x[i-2,j,t] & !x[i,j,t+1] & !x[i-1,j,t+1] & x[i-2,j,t+1] &  everything_else_unchanged   )\n",
    "Implies( a[i,j,t,RIGHT] ,  x[i,j,t] & x[i-1,j,t] & !x[i-2,j,t] & !x[i,j,t+1] & !x[i-1,j,t+1] & x[i-2,j,t+1] &  everything_else_unchanged   )\n",
    "Implies( a[i,j,t,UP] ,  x[i,j,t] & x[i-1,j,t] & !x[i-2,j,t] & !x[i,j,t+1] & !x[i-1,j,t+1] & x[i-2,j,t+1] &  everything_else_unchanged   )\n",
    "\n"
   ]
  },
  {
   "cell_type": "code",
   "execution_count": null,
   "metadata": {},
   "outputs": [
    {
     "name": "stdout",
     "output_type": "stream",
     "text": [
      "[[x_0_0 x_0_1 x_0_2]\n",
      " [x_1_0 x_1_1 x_1_2]\n",
      " [x_2_0 x_2_1 x_2_2]\n",
      " [x_3_0 x_3_1 x_3_2]\n",
      " [x_4_0 x_4_1 x_4_2]\n",
      " [x_5_0 x_5_1 x_5_2]\n",
      " [x_6_0 x_6_1 x_6_2]]\n",
      "x_0_0**2 + x_0_1**2 + x_0_2**2 == 1\n",
      "x_1_0**2 + x_1_1**2 + x_1_2**2 == 1\n",
      "x_2_0**2 + x_2_1**2 + x_2_2**2 == 1\n",
      "x_3_0**2 + x_3_1**2 + x_3_2**2 == 1\n",
      "x_4_0**2 + x_4_1**2 + x_4_2**2 == 1\n",
      "x_5_0**2 + x_5_1**2 + x_5_2**2 == 1\n",
      "x_6_0**2 + x_6_1**2 + x_6_2**2 == 1\n",
      "(x_1_0 - x_0_0)**2 + (x_1_1 - x_0_1)**2 + (x_1_2 - x_0_2)**2 >=\n",
      "1\n",
      "(x_2_0 - x_0_0)**2 + (x_2_1 - x_0_1)**2 + (x_2_2 - x_0_2)**2 >=\n",
      "1\n",
      "(x_2_0 - x_1_0)**2 + (x_2_1 - x_1_1)**2 + (x_2_2 - x_1_2)**2 >=\n",
      "1\n",
      "(x_3_0 - x_0_0)**2 + (x_3_1 - x_0_1)**2 + (x_3_2 - x_0_2)**2 >=\n",
      "1\n",
      "(x_3_0 - x_1_0)**2 + (x_3_1 - x_1_1)**2 + (x_3_2 - x_1_2)**2 >=\n",
      "1\n",
      "(x_3_0 - x_2_0)**2 + (x_3_1 - x_2_1)**2 + (x_3_2 - x_2_2)**2 >=\n",
      "1\n",
      "(x_4_0 - x_0_0)**2 + (x_4_1 - x_0_1)**2 + (x_4_2 - x_0_2)**2 >=\n",
      "1\n",
      "(x_4_0 - x_1_0)**2 + (x_4_1 - x_1_1)**2 + (x_4_2 - x_1_2)**2 >=\n",
      "1\n",
      "(x_4_0 - x_2_0)**2 + (x_4_1 - x_2_1)**2 + (x_4_2 - x_2_2)**2 >=\n",
      "1\n",
      "(x_4_0 - x_3_0)**2 + (x_4_1 - x_3_1)**2 + (x_4_2 - x_3_2)**2 >=\n",
      "1\n",
      "(x_5_0 - x_0_0)**2 + (x_5_1 - x_0_1)**2 + (x_5_2 - x_0_2)**2 >=\n",
      "1\n",
      "(x_5_0 - x_1_0)**2 + (x_5_1 - x_1_1)**2 + (x_5_2 - x_1_2)**2 >=\n",
      "1\n",
      "(x_5_0 - x_2_0)**2 + (x_5_1 - x_2_1)**2 + (x_5_2 - x_2_2)**2 >=\n",
      "1\n",
      "(x_5_0 - x_3_0)**2 + (x_5_1 - x_3_1)**2 + (x_5_2 - x_3_2)**2 >=\n",
      "1\n",
      "(x_5_0 - x_4_0)**2 + (x_5_1 - x_4_1)**2 + (x_5_2 - x_4_2)**2 >=\n",
      "1\n",
      "(x_6_0 - x_0_0)**2 + (x_6_1 - x_0_1)**2 + (x_6_2 - x_0_2)**2 >=\n",
      "1\n",
      "(x_6_0 - x_1_0)**2 + (x_6_1 - x_1_1)**2 + (x_6_2 - x_1_2)**2 >=\n",
      "1\n",
      "(x_6_0 - x_2_0)**2 + (x_6_1 - x_2_1)**2 + (x_6_2 - x_2_2)**2 >=\n",
      "1\n",
      "(x_6_0 - x_3_0)**2 + (x_6_1 - x_3_1)**2 + (x_6_2 - x_3_2)**2 >=\n",
      "1\n",
      "(x_6_0 - x_4_0)**2 + (x_6_1 - x_4_1)**2 + (x_6_2 - x_4_2)**2 >=\n",
      "1\n",
      "(x_6_0 - x_5_0)**2 + (x_6_1 - x_5_1)**2 + (x_6_2 - x_5_2)**2 >=\n",
      "1\n",
      "x_6_0 == 1\n",
      "x_6_1 == 0\n",
      "x_6_2 == 0\n",
      "x_0_0 <= x_1_0\n",
      "x_1_0 <= x_2_0\n",
      "x_2_0 <= x_3_0\n",
      "x_3_0 <= x_4_0\n",
      "x_4_0 <= x_5_0\n",
      "x_5_0 <= x_6_0\n",
      "Implies(x_0_0 == x_1_0, x_0_1 <= x_1_1)\n",
      "Implies(x_1_0 == x_2_0, x_1_1 <= x_2_1)\n",
      "Implies(x_2_0 == x_3_0, x_2_1 <= x_3_1)\n",
      "Implies(x_3_0 == x_4_0, x_3_1 <= x_4_1)\n",
      "Implies(x_4_0 == x_5_0, x_4_1 <= x_5_1)\n",
      "Implies(x_5_0 == x_6_0, x_5_1 <= x_6_1)\n"
     ]
    }
   ],
   "source": [
    "from z3 import *\n",
    "import numpy as np\n",
    "\n",
    "d = 3 # dimensions\n",
    "n = 7 # number oif spheres\n",
    "\n",
    "x = np.array([ [ Real(\"x_%d_%d\" % (i,j))     for j in range(d) ] for i in range(n)])\n",
    "print(x)\n",
    "\n",
    "c = []\n",
    "ds = np.sum(x**2, axis=1)\n",
    "c += [ d2 == 1 for d2 in ds] # centers at distance 2 from origin\n",
    "\n",
    "\n",
    "ds = np.sum( (x.reshape((-1,1,d)) - x.reshape((1,-1,d)))**2, axis = 2)\n",
    "\n",
    "c += [ ds[i,j]  >= 1  for i in range(n) for j in range(i)] # spheres greater than dist 2 apart\n",
    "c += [x[-1,0] == 1] # symmettry breaking\n",
    "c += [x[-1,1] == 0]\n",
    "c += [x[-1,2] == 0]\n",
    "c += [x[i,0] <= x[i+1,0] for i in range(n-1)  ] # symmettry breaking\n",
    "c += [Implies(x[i,0] == x[i+1,0],  x[i,1] <= x[i+1,1] ) for i in range(n-1)  ] # symmettry breaking\n",
    "for x in c:\n",
    "   print(x)\n",
    "    \n",
    "\n",
    "#print(c)\n",
    "#print(solve(c))\n",
    "s = SolverFor(\"QF_NRA\")\n",
    "s.add(c)\n",
    "print(s.check())\n",
    "#print(s.model())"
   ]
  },
  {
   "cell_type": "markdown",
   "metadata": {},
   "source": [
    "https://github.com/egraphs-good/egg/blob/master/tests/math.rs\n",
    "\n",
    "This implies that I could use z3 to perform differentiation?\n",
    "\n",
    "Or any rewrite rule system? Maybe not.\n",
    "   \n",
    "Maybe I'm hurting myself by using realsa\n",
    "   "
   ]
  },
  {
   "cell_type": "code",
   "execution_count": 25,
   "metadata": {},
   "outputs": [
    {
     "name": "stdout",
     "output_type": "stream",
     "text": [
      "[ForAll([y, z], diff(y*z, x) == diff(y, x)*z + y*diff(z, x)),\n",
      " ForAll([y, z],\n",
      "        diff(y + z, x) == diff(y, x)*z + y*diff(z, x)),\n",
      " diff(x*x, x) == 2*x,\n",
      " diff(x, x) == 1,\n",
      " Not(diff(x*x*x, x) == 3*x*x)]\n",
      "unknown\n"
     ]
    },
    {
     "ename": "Z3Exception",
     "evalue": "model is not available",
     "output_type": "error",
     "traceback": [
      "\u001b[0;31m---------------------------------------------------------------------------\u001b[0m",
      "\u001b[0;31mZ3Exception\u001b[0m                               Traceback (most recent call last)",
      "\u001b[0;32m~/.local/lib/python3.6/site-packages/z3/z3.py\u001b[0m in \u001b[0;36mmodel\u001b[0;34m(self)\u001b[0m\n\u001b[1;32m   6695\u001b[0m         \u001b[0;32mtry\u001b[0m\u001b[0;34m:\u001b[0m\u001b[0;34m\u001b[0m\u001b[0;34m\u001b[0m\u001b[0m\n\u001b[0;32m-> 6696\u001b[0;31m             \u001b[0;32mreturn\u001b[0m \u001b[0mModelRef\u001b[0m\u001b[0;34m(\u001b[0m\u001b[0mZ3_solver_get_model\u001b[0m\u001b[0;34m(\u001b[0m\u001b[0mself\u001b[0m\u001b[0;34m.\u001b[0m\u001b[0mctx\u001b[0m\u001b[0;34m.\u001b[0m\u001b[0mref\u001b[0m\u001b[0;34m(\u001b[0m\u001b[0;34m)\u001b[0m\u001b[0;34m,\u001b[0m \u001b[0mself\u001b[0m\u001b[0;34m.\u001b[0m\u001b[0msolver\u001b[0m\u001b[0;34m)\u001b[0m\u001b[0;34m,\u001b[0m \u001b[0mself\u001b[0m\u001b[0;34m.\u001b[0m\u001b[0mctx\u001b[0m\u001b[0;34m)\u001b[0m\u001b[0;34m\u001b[0m\u001b[0;34m\u001b[0m\u001b[0m\n\u001b[0m\u001b[1;32m   6697\u001b[0m         \u001b[0;32mexcept\u001b[0m \u001b[0mZ3Exception\u001b[0m\u001b[0;34m:\u001b[0m\u001b[0;34m\u001b[0m\u001b[0;34m\u001b[0m\u001b[0m\n",
      "\u001b[0;32m~/.local/lib/python3.6/site-packages/z3/z3core.py\u001b[0m in \u001b[0;36mZ3_solver_get_model\u001b[0;34m(a0, a1, _elems)\u001b[0m\n\u001b[1;32m   3758\u001b[0m   \u001b[0mr\u001b[0m \u001b[0;34m=\u001b[0m \u001b[0m_elems\u001b[0m\u001b[0;34m.\u001b[0m\u001b[0mf\u001b[0m\u001b[0;34m(\u001b[0m\u001b[0ma0\u001b[0m\u001b[0;34m,\u001b[0m \u001b[0ma1\u001b[0m\u001b[0;34m)\u001b[0m\u001b[0;34m\u001b[0m\u001b[0;34m\u001b[0m\u001b[0m\n\u001b[0;32m-> 3759\u001b[0;31m   \u001b[0m_elems\u001b[0m\u001b[0;34m.\u001b[0m\u001b[0mCheck\u001b[0m\u001b[0;34m(\u001b[0m\u001b[0ma0\u001b[0m\u001b[0;34m)\u001b[0m\u001b[0;34m\u001b[0m\u001b[0;34m\u001b[0m\u001b[0m\n\u001b[0m\u001b[1;32m   3760\u001b[0m   \u001b[0;32mreturn\u001b[0m \u001b[0mr\u001b[0m\u001b[0;34m\u001b[0m\u001b[0;34m\u001b[0m\u001b[0m\n",
      "\u001b[0;32m~/.local/lib/python3.6/site-packages/z3/z3core.py\u001b[0m in \u001b[0;36mCheck\u001b[0;34m(self, ctx)\u001b[0m\n\u001b[1;32m   1384\u001b[0m     \u001b[0;32mif\u001b[0m \u001b[0merr\u001b[0m \u001b[0;34m!=\u001b[0m \u001b[0mself\u001b[0m\u001b[0;34m.\u001b[0m\u001b[0mOK\u001b[0m\u001b[0;34m:\u001b[0m\u001b[0;34m\u001b[0m\u001b[0;34m\u001b[0m\u001b[0m\n\u001b[0;32m-> 1385\u001b[0;31m         \u001b[0;32mraise\u001b[0m \u001b[0mself\u001b[0m\u001b[0;34m.\u001b[0m\u001b[0mException\u001b[0m\u001b[0;34m(\u001b[0m\u001b[0mself\u001b[0m\u001b[0;34m.\u001b[0m\u001b[0mget_error_message\u001b[0m\u001b[0;34m(\u001b[0m\u001b[0mctx\u001b[0m\u001b[0;34m,\u001b[0m \u001b[0merr\u001b[0m\u001b[0;34m)\u001b[0m\u001b[0;34m)\u001b[0m\u001b[0;34m\u001b[0m\u001b[0;34m\u001b[0m\u001b[0m\n\u001b[0m\u001b[1;32m   1386\u001b[0m \u001b[0;34m\u001b[0m\u001b[0m\n",
      "\u001b[0;31mZ3Exception\u001b[0m: b'there is no current model'",
      "\nDuring handling of the above exception, another exception occurred:\n",
      "\u001b[0;31mZ3Exception\u001b[0m                               Traceback (most recent call last)",
      "\u001b[0;32m<ipython-input-25-4d09ce235b99>\u001b[0m in \u001b[0;36m<module>\u001b[0;34m\u001b[0m\n\u001b[1;32m     25\u001b[0m \u001b[0mprint\u001b[0m\u001b[0;34m(\u001b[0m\u001b[0ms\u001b[0m\u001b[0;34m)\u001b[0m\u001b[0;34m\u001b[0m\u001b[0;34m\u001b[0m\u001b[0m\n\u001b[1;32m     26\u001b[0m \u001b[0mprint\u001b[0m\u001b[0;34m(\u001b[0m\u001b[0ms\u001b[0m\u001b[0;34m.\u001b[0m\u001b[0mcheck\u001b[0m\u001b[0;34m(\u001b[0m\u001b[0;34m)\u001b[0m\u001b[0;34m)\u001b[0m\u001b[0;34m\u001b[0m\u001b[0;34m\u001b[0m\u001b[0m\n\u001b[0;32m---> 27\u001b[0;31m \u001b[0mprint\u001b[0m\u001b[0;34m(\u001b[0m\u001b[0ms\u001b[0m\u001b[0;34m.\u001b[0m\u001b[0mmodel\u001b[0m\u001b[0;34m(\u001b[0m\u001b[0;34m)\u001b[0m\u001b[0;34m)\u001b[0m\u001b[0;34m\u001b[0m\u001b[0;34m\u001b[0m\u001b[0m\n\u001b[0m",
      "\u001b[0;32m~/.local/lib/python3.6/site-packages/z3/z3.py\u001b[0m in \u001b[0;36mmodel\u001b[0;34m(self)\u001b[0m\n\u001b[1;32m   6696\u001b[0m             \u001b[0;32mreturn\u001b[0m \u001b[0mModelRef\u001b[0m\u001b[0;34m(\u001b[0m\u001b[0mZ3_solver_get_model\u001b[0m\u001b[0;34m(\u001b[0m\u001b[0mself\u001b[0m\u001b[0;34m.\u001b[0m\u001b[0mctx\u001b[0m\u001b[0;34m.\u001b[0m\u001b[0mref\u001b[0m\u001b[0;34m(\u001b[0m\u001b[0;34m)\u001b[0m\u001b[0;34m,\u001b[0m \u001b[0mself\u001b[0m\u001b[0;34m.\u001b[0m\u001b[0msolver\u001b[0m\u001b[0;34m)\u001b[0m\u001b[0;34m,\u001b[0m \u001b[0mself\u001b[0m\u001b[0;34m.\u001b[0m\u001b[0mctx\u001b[0m\u001b[0;34m)\u001b[0m\u001b[0;34m\u001b[0m\u001b[0;34m\u001b[0m\u001b[0m\n\u001b[1;32m   6697\u001b[0m         \u001b[0;32mexcept\u001b[0m \u001b[0mZ3Exception\u001b[0m\u001b[0;34m:\u001b[0m\u001b[0;34m\u001b[0m\u001b[0;34m\u001b[0m\u001b[0m\n\u001b[0;32m-> 6698\u001b[0;31m             \u001b[0;32mraise\u001b[0m \u001b[0mZ3Exception\u001b[0m\u001b[0;34m(\u001b[0m\u001b[0;34m\"model is not available\"\u001b[0m\u001b[0;34m)\u001b[0m\u001b[0;34m\u001b[0m\u001b[0;34m\u001b[0m\u001b[0m\n\u001b[0m\u001b[1;32m   6699\u001b[0m \u001b[0;34m\u001b[0m\u001b[0m\n\u001b[1;32m   6700\u001b[0m     \u001b[0;32mdef\u001b[0m \u001b[0mimport_model_converter\u001b[0m\u001b[0;34m(\u001b[0m\u001b[0mself\u001b[0m\u001b[0;34m,\u001b[0m \u001b[0mother\u001b[0m\u001b[0;34m)\u001b[0m\u001b[0;34m:\u001b[0m\u001b[0;34m\u001b[0m\u001b[0;34m\u001b[0m\u001b[0m\n",
      "\u001b[0;31mZ3Exception\u001b[0m: model is not available"
     ]
    }
   ],
   "source": [
    "x = Real(\"x\")\n",
    "y = Real(\"y\")\n",
    "z = Real(\"z\")\n",
    "\n",
    "R = RealSort()\n",
    "\n",
    "sin = Function(\"sin\", R,R)\n",
    "cos = Function(\"cos\", R,R)\n",
    "diff = Function(\"diff\", R,R,R) # Wow this does not sit right.\n",
    "\n",
    "axioms = [\n",
    "    ForAll([y, z], diff( y * z , x) == diff(y,x) * z + y * diff(z,x) , patterns=[ diff( y * z , x)]),\n",
    "    ForAll([y, z], diff( y + z , x) == diff(y,x) * z + y * diff(z,x),  patterns=[ diff( y + z , x)]),\n",
    "    diff( x * x , x) == 2 * x,\n",
    "    diff( x , x  ) == 1,\n",
    "    \n",
    "]\n",
    "\n",
    "\n",
    "theorem = Not( diff(x*x*x, x) == 3 * x * x )\n",
    "\n",
    "s = Solver()\n",
    "s.add(axioms)\n",
    "s.add(theorem)\n",
    "print(s)\n",
    "print(s.check())\n",
    "print(s.model())"
   ]
  },
  {
   "cell_type": "code",
   "execution_count": null,
   "metadata": {},
   "outputs": [],
   "source": [
    "S = DeclareSort(\"Foo\")\n",
    "\n",
    "x,y,z,w = Consts(\"x y z w\", S)"
   ]
  },
  {
   "cell_type": "markdown",
   "metadata": {},
   "source": [
    "I suppose when z3 returns a model, the model is a serialization of the egraph? "
   ]
  },
  {
   "cell_type": "code",
   "execution_count": 17,
   "metadata": {},
   "outputs": [
    {
     "name": "stdout",
     "output_type": "stream",
     "text": [
      "[ForAll([x, y, z],\n",
      "        assoc(x, assoc(y, z)) == assoc(assoc(x, y), z)),\n",
      " assoc(w, assoc(x, assoc(y, z))) ==\n",
      " assoc(assoc(assoc(w, x), y), z)]\n",
      "unknown\n",
      "(declare-sort Foo 0)\n",
      "(declare-fun assoc (Foo Foo) Foo)\n",
      "(declare-fun z () Foo)\n",
      "(declare-fun y () Foo)\n",
      "(declare-fun x () Foo)\n",
      "(declare-fun w () Foo)\n",
      "(assert (forall ((x Foo) (y Foo) (z Foo))\n",
      "  (! (= (assoc x (assoc y z)) (assoc (assoc x y) z))\n",
      "     :pattern ((assoc x (assoc y z))))))\n",
      "(assert (= (assoc w (assoc x (assoc y z))) (assoc (assoc (assoc w x) y) z)))\n",
      "\n"
     ]
    }
   ],
   "source": [
    "S = DeclareSort(\"Foo\")\n",
    "\n",
    "x,y,z,w = Consts(\"x y z w\", S)\n",
    "\n",
    "assoc = Function(\"assoc\", S,S,S) # Wow this does not sit right.\n",
    "\n",
    "\n",
    "axioms = [\n",
    "   # ForAll([x, y, z] ,  assoc(x,assoc(y,z)) == assoc(assoc(x,y),z), patterns=[assoc(x,assoc(y,z))] )\n",
    "     ForAll([x, y, z] ,  assoc(x,assoc(y,z)) == assoc(assoc(x,y),z), patterns=[assoc(x,assoc(y,z))] )\n",
    "    \n",
    "]\n",
    "\n",
    "\n",
    "theorem = Not(assoc(w,assoc(x,assoc(y,z))) == assoc(assoc(assoc(w,x),y),z) )\n",
    "\n",
    "s = Solver()\n",
    "s.add(axioms)\n",
    "s.add(theorem)\n",
    "print(s)\n",
    "print(s.check())\n",
    "print(s.sexpr())\n"
   ]
  },
  {
   "cell_type": "code",
   "execution_count": 29,
   "metadata": {},
   "outputs": [
    {
     "name": "stdout",
     "output_type": "stream",
     "text": [
      "[ForAll([x, y, z],\n",
      "        assoc(x, assoc(y, z)) == assoc(assoc(x, y), z)),\n",
      " fred(assoc(w, assoc(x, assoc(y, z))))]\n",
      "unknown\n",
      "(declare-sort Foo 0)\n",
      "(declare-fun assoc (Foo Foo) Foo)\n",
      "(declare-fun fred (Foo) Bool)\n",
      "(declare-fun z () Foo)\n",
      "(declare-fun y () Foo)\n",
      "(declare-fun x () Foo)\n",
      "(declare-fun w () Foo)\n",
      "(assert (forall ((x Foo) (y Foo) (z Foo))\n",
      "  (! (= (assoc x (assoc y z)) (assoc (assoc x y) z))\n",
      "     :pattern ((assoc x (assoc y z))))))\n",
      "(assert (fred (assoc w (assoc x (assoc y z)))))\n",
      "\n"
     ]
    },
    {
     "ename": "Z3Exception",
     "evalue": "model is not available",
     "output_type": "error",
     "traceback": [
      "\u001b[0;31m---------------------------------------------------------------------------\u001b[0m",
      "\u001b[0;31mZ3Exception\u001b[0m                               Traceback (most recent call last)",
      "\u001b[0;32m~/.local/lib/python3.6/site-packages/z3/z3.py\u001b[0m in \u001b[0;36mmodel\u001b[0;34m(self)\u001b[0m\n\u001b[1;32m   6695\u001b[0m         \u001b[0;32mtry\u001b[0m\u001b[0;34m:\u001b[0m\u001b[0;34m\u001b[0m\u001b[0;34m\u001b[0m\u001b[0m\n\u001b[0;32m-> 6696\u001b[0;31m             \u001b[0;32mreturn\u001b[0m \u001b[0mModelRef\u001b[0m\u001b[0;34m(\u001b[0m\u001b[0mZ3_solver_get_model\u001b[0m\u001b[0;34m(\u001b[0m\u001b[0mself\u001b[0m\u001b[0;34m.\u001b[0m\u001b[0mctx\u001b[0m\u001b[0;34m.\u001b[0m\u001b[0mref\u001b[0m\u001b[0;34m(\u001b[0m\u001b[0;34m)\u001b[0m\u001b[0;34m,\u001b[0m \u001b[0mself\u001b[0m\u001b[0;34m.\u001b[0m\u001b[0msolver\u001b[0m\u001b[0;34m)\u001b[0m\u001b[0;34m,\u001b[0m \u001b[0mself\u001b[0m\u001b[0;34m.\u001b[0m\u001b[0mctx\u001b[0m\u001b[0;34m)\u001b[0m\u001b[0;34m\u001b[0m\u001b[0;34m\u001b[0m\u001b[0m\n\u001b[0m\u001b[1;32m   6697\u001b[0m         \u001b[0;32mexcept\u001b[0m \u001b[0mZ3Exception\u001b[0m\u001b[0;34m:\u001b[0m\u001b[0;34m\u001b[0m\u001b[0;34m\u001b[0m\u001b[0m\n",
      "\u001b[0;32m~/.local/lib/python3.6/site-packages/z3/z3core.py\u001b[0m in \u001b[0;36mZ3_solver_get_model\u001b[0;34m(a0, a1, _elems)\u001b[0m\n\u001b[1;32m   3758\u001b[0m   \u001b[0mr\u001b[0m \u001b[0;34m=\u001b[0m \u001b[0m_elems\u001b[0m\u001b[0;34m.\u001b[0m\u001b[0mf\u001b[0m\u001b[0;34m(\u001b[0m\u001b[0ma0\u001b[0m\u001b[0;34m,\u001b[0m \u001b[0ma1\u001b[0m\u001b[0;34m)\u001b[0m\u001b[0;34m\u001b[0m\u001b[0;34m\u001b[0m\u001b[0m\n\u001b[0;32m-> 3759\u001b[0;31m   \u001b[0m_elems\u001b[0m\u001b[0;34m.\u001b[0m\u001b[0mCheck\u001b[0m\u001b[0;34m(\u001b[0m\u001b[0ma0\u001b[0m\u001b[0;34m)\u001b[0m\u001b[0;34m\u001b[0m\u001b[0;34m\u001b[0m\u001b[0m\n\u001b[0m\u001b[1;32m   3760\u001b[0m   \u001b[0;32mreturn\u001b[0m \u001b[0mr\u001b[0m\u001b[0;34m\u001b[0m\u001b[0;34m\u001b[0m\u001b[0m\n",
      "\u001b[0;32m~/.local/lib/python3.6/site-packages/z3/z3core.py\u001b[0m in \u001b[0;36mCheck\u001b[0;34m(self, ctx)\u001b[0m\n\u001b[1;32m   1384\u001b[0m     \u001b[0;32mif\u001b[0m \u001b[0merr\u001b[0m \u001b[0;34m!=\u001b[0m \u001b[0mself\u001b[0m\u001b[0;34m.\u001b[0m\u001b[0mOK\u001b[0m\u001b[0;34m:\u001b[0m\u001b[0;34m\u001b[0m\u001b[0;34m\u001b[0m\u001b[0m\n\u001b[0;32m-> 1385\u001b[0;31m         \u001b[0;32mraise\u001b[0m \u001b[0mself\u001b[0m\u001b[0;34m.\u001b[0m\u001b[0mException\u001b[0m\u001b[0;34m(\u001b[0m\u001b[0mself\u001b[0m\u001b[0;34m.\u001b[0m\u001b[0mget_error_message\u001b[0m\u001b[0;34m(\u001b[0m\u001b[0mctx\u001b[0m\u001b[0;34m,\u001b[0m \u001b[0merr\u001b[0m\u001b[0;34m)\u001b[0m\u001b[0;34m)\u001b[0m\u001b[0;34m\u001b[0m\u001b[0;34m\u001b[0m\u001b[0m\n\u001b[0m\u001b[1;32m   1386\u001b[0m \u001b[0;34m\u001b[0m\u001b[0m\n",
      "\u001b[0;31mZ3Exception\u001b[0m: b'there is no current model'",
      "\nDuring handling of the above exception, another exception occurred:\n",
      "\u001b[0;31mZ3Exception\u001b[0m                               Traceback (most recent call last)",
      "\u001b[0;32m<ipython-input-29-1a561e7dd32d>\u001b[0m in \u001b[0;36m<module>\u001b[0;34m\u001b[0m\n\u001b[1;32m     22\u001b[0m \u001b[0mprint\u001b[0m\u001b[0;34m(\u001b[0m\u001b[0ms\u001b[0m\u001b[0;34m.\u001b[0m\u001b[0mcheck\u001b[0m\u001b[0;34m(\u001b[0m\u001b[0;34m)\u001b[0m\u001b[0;34m)\u001b[0m\u001b[0;34m\u001b[0m\u001b[0;34m\u001b[0m\u001b[0m\n\u001b[1;32m     23\u001b[0m \u001b[0mprint\u001b[0m\u001b[0;34m(\u001b[0m\u001b[0ms\u001b[0m\u001b[0;34m.\u001b[0m\u001b[0msexpr\u001b[0m\u001b[0;34m(\u001b[0m\u001b[0;34m)\u001b[0m\u001b[0;34m)\u001b[0m\u001b[0;34m\u001b[0m\u001b[0;34m\u001b[0m\u001b[0m\n\u001b[0;32m---> 24\u001b[0;31m \u001b[0mprint\u001b[0m\u001b[0;34m(\u001b[0m\u001b[0ms\u001b[0m\u001b[0;34m.\u001b[0m\u001b[0mmodel\u001b[0m\u001b[0;34m(\u001b[0m\u001b[0;34m)\u001b[0m\u001b[0;34m)\u001b[0m\u001b[0;34m\u001b[0m\u001b[0;34m\u001b[0m\u001b[0m\n\u001b[0m",
      "\u001b[0;32m~/.local/lib/python3.6/site-packages/z3/z3.py\u001b[0m in \u001b[0;36mmodel\u001b[0;34m(self)\u001b[0m\n\u001b[1;32m   6696\u001b[0m             \u001b[0;32mreturn\u001b[0m \u001b[0mModelRef\u001b[0m\u001b[0;34m(\u001b[0m\u001b[0mZ3_solver_get_model\u001b[0m\u001b[0;34m(\u001b[0m\u001b[0mself\u001b[0m\u001b[0;34m.\u001b[0m\u001b[0mctx\u001b[0m\u001b[0;34m.\u001b[0m\u001b[0mref\u001b[0m\u001b[0;34m(\u001b[0m\u001b[0;34m)\u001b[0m\u001b[0;34m,\u001b[0m \u001b[0mself\u001b[0m\u001b[0;34m.\u001b[0m\u001b[0msolver\u001b[0m\u001b[0;34m)\u001b[0m\u001b[0;34m,\u001b[0m \u001b[0mself\u001b[0m\u001b[0;34m.\u001b[0m\u001b[0mctx\u001b[0m\u001b[0;34m)\u001b[0m\u001b[0;34m\u001b[0m\u001b[0;34m\u001b[0m\u001b[0m\n\u001b[1;32m   6697\u001b[0m         \u001b[0;32mexcept\u001b[0m \u001b[0mZ3Exception\u001b[0m\u001b[0;34m:\u001b[0m\u001b[0;34m\u001b[0m\u001b[0;34m\u001b[0m\u001b[0m\n\u001b[0;32m-> 6698\u001b[0;31m             \u001b[0;32mraise\u001b[0m \u001b[0mZ3Exception\u001b[0m\u001b[0;34m(\u001b[0m\u001b[0;34m\"model is not available\"\u001b[0m\u001b[0;34m)\u001b[0m\u001b[0;34m\u001b[0m\u001b[0;34m\u001b[0m\u001b[0m\n\u001b[0m\u001b[1;32m   6699\u001b[0m \u001b[0;34m\u001b[0m\u001b[0m\n\u001b[1;32m   6700\u001b[0m     \u001b[0;32mdef\u001b[0m \u001b[0mimport_model_converter\u001b[0m\u001b[0;34m(\u001b[0m\u001b[0mself\u001b[0m\u001b[0;34m,\u001b[0m \u001b[0mother\u001b[0m\u001b[0;34m)\u001b[0m\u001b[0;34m:\u001b[0m\u001b[0;34m\u001b[0m\u001b[0;34m\u001b[0m\u001b[0m\n",
      "\u001b[0;31mZ3Exception\u001b[0m: model is not available"
     ]
    }
   ],
   "source": [
    "S = DeclareSort(\"Foo\")\n",
    "\n",
    "x,y,z,w = Consts(\"x y z w\", S)\n",
    "\n",
    "assoc = Function(\"assoc\", S,S,S) # Wow this does not sit right.\n",
    "\n",
    "fred = Function(\"fred\", S,BoolSort()) # Wow this does not sit right.\n",
    "\n",
    "axioms = [\n",
    "   # ForAll([x, y, z] ,  assoc(x,assoc(y,z)) == assoc(assoc(x,y),z), patterns=[assoc(x,assoc(y,z))] )\n",
    "     ForAll([x, y, z] ,  assoc(x,assoc(y,z)) == assoc(assoc(x,y),z), patterns=[assoc(x,assoc(y,z))] )\n",
    "    \n",
    "]\n",
    "\n",
    "\n",
    "theorem = fred(assoc(w,assoc(x,assoc(y,z))))\n",
    "\n",
    "s = Solver()\n",
    "s.add(axioms)\n",
    "s.add(theorem)\n",
    "print(s)\n",
    "print(s.check())\n",
    "print(s.sexpr())\n",
    "print(s.model())"
   ]
  },
  {
   "cell_type": "code",
   "execution_count": 19,
   "metadata": {},
   "outputs": [
    {
     "name": "stdout",
     "output_type": "stream",
     "text": [
      "sat\n",
      "[x = A!val!0,\n",
      " y = A!val!1,\n",
      " f = [A!val!1 -> A!val!0, else -> A!val!1]]\n",
      "interpretation assigned to A:\n",
      "[A!val!1, A!val!0]\n"
     ]
    }
   ],
   "source": [
    "A    = DeclareSort('A')\n",
    "x, y = Consts('x y', A)\n",
    "f    = Function('f', A, A)\n",
    "\n",
    "s    = Solver()\n",
    "s.add(f(f(x)) == x, f(x) == y, x != y)\n",
    "\n",
    "print(s.check())\n",
    "m = s.model()\n",
    "print(m)\n",
    "print(\"interpretation assigned to A:\")\n",
    "print(m[A])"
   ]
  },
  {
   "cell_type": "code",
   "execution_count": 7,
   "metadata": {},
   "outputs": [
    {
     "name": "stdout",
     "output_type": "stream",
     "text": [
      "unsat\n"
     ]
    },
    {
     "data": {
      "text/plain": [
       "['__bool__',\n",
       " '__class__',\n",
       " '__copy__',\n",
       " '__deepcopy__',\n",
       " '__del__',\n",
       " '__delattr__',\n",
       " '__dict__',\n",
       " '__dir__',\n",
       " '__doc__',\n",
       " '__eq__',\n",
       " '__format__',\n",
       " '__ge__',\n",
       " '__getattribute__',\n",
       " '__gt__',\n",
       " '__hash__',\n",
       " '__init__',\n",
       " '__init_subclass__',\n",
       " '__le__',\n",
       " '__lt__',\n",
       " '__module__',\n",
       " '__ne__',\n",
       " '__new__',\n",
       " '__nonzero__',\n",
       " '__reduce__',\n",
       " '__reduce_ex__',\n",
       " '__repr__',\n",
       " '__setattr__',\n",
       " '__sizeof__',\n",
       " '__str__',\n",
       " '__subclasshook__',\n",
       " '__weakref__',\n",
       " '_repr_html_',\n",
       " 'arg',\n",
       " 'as_ast',\n",
       " 'ast',\n",
       " 'children',\n",
       " 'ctx',\n",
       " 'ctx_ref',\n",
       " 'decl',\n",
       " 'eq',\n",
       " 'get_id',\n",
       " 'hash',\n",
       " 'num_args',\n",
       " 'params',\n",
       " 'sexpr',\n",
       " 'sort',\n",
       " 'sort_kind',\n",
       " 'translate',\n",
       " 'use_pp']"
      ]
     },
     "execution_count": 7,
     "metadata": {},
     "output_type": "execute_result"
    }
   ],
   "source": [
    "from z3 import *\n",
    "set_param(proof=True)\n",
    "A    = DeclareSort('A')\n",
    "x, y,z, q, r, w= Consts('x y z q r w', A)\n",
    "f    = Function('plus', A, A,  A)\n",
    "\n",
    "\n",
    "s    = Solver()\n",
    "s.set(unsat_core=True)\n",
    "#s.set(proof=True)\n",
    "#s.assert_and_track(ForAll([x,y,z], f(x,f(y,z)) == f(x,f(y,z))), \"foo\")\n",
    "s.add(ForAll([x,y,z], f(x,f(y,z)) == f(x,f(y,z))))\n",
    "s.add(ForAll([x,y], f(x,y) == f(y,z)))\n",
    "s.add( Not(f(q,f(r,w)) == f(w,(f(r,q)))  ))\n",
    "#s.assert_and_track( Not(f(x,f(y,z)) == f(z,(f(y,x)))  ), \"biz\")\n",
    "print(s.check())\n",
    "#s.unsat_core()\n",
    "dir(s.proof())"
   ]
  },
  {
   "cell_type": "code",
   "execution_count": 32,
   "metadata": {},
   "outputs": [
    {
     "data": {
      "text/plain": [
       "[mp~(asserted(ForAll([x, y], plus(x, y) == plus(y, z))),\n",
       "     nnf-pos(proof-bind(Lambda([x, y],\n",
       "                               refl(~(plus(x, y) ==\n",
       "                                      plus(y, z),\n",
       "                                      plus(x, y) ==\n",
       "                                      plus(y, z))))),\n",
       "             ~(ForAll([x, y], plus(x, y) == plus(y, z)),\n",
       "               ForAll([x, y], plus(x, y) == plus(y, z)))),\n",
       "     ForAll([x, y], plus(x, y) == plus(y, z))),\n",
       " quant-intro(proof-bind(Lambda([x, y],\n",
       "                               refl((plus(x, y) == plus(y, z)) ==\n",
       "                                    (plus(x, y) == plus(y, z))))),\n",
       "             (ForAll([x, y], plus(x, y) == plus(y, z))) ==\n",
       "             (ForAll([x, y], plus(x, y) == plus(y, z)))),\n",
       " ForAll([x, y], plus(x, y) == plus(y, z))]"
      ]
     },
     "execution_count": 32,
     "metadata": {},
     "output_type": "execute_result"
    }
   ],
   "source": [
    "s.proof().children()[1].children()[5].children()[0].children()[1].children()"
   ]
  },
  {
   "cell_type": "markdown",
   "metadata": {},
   "source": [
    "\n",
    "   \n",
    "   "
   ]
  },
  {
   "cell_type": "code",
   "execution_count": 20,
   "metadata": {},
   "outputs": [
    {
     "name": "stdout",
     "output_type": "stream",
     "text": [
      "sat\n",
      "[x = A!val!0, f = [else -> A!val!0]]\n",
      "interpretation assigned to A:\n",
      "[A!val!0]\n"
     ]
    }
   ],
   "source": [
    "A    = DeclareSort('A')\n",
    "x, y = Consts('x y', A)\n",
    "f    = Function('f', A, A)\n",
    "\n",
    "s    = Solver()\n",
    "s.add(f(f(f(x))) == x, f(f(f(f(f(x))))) == x)\n",
    "\n",
    "print(s.check())\n",
    "m = s.model()\n",
    "print(m)\n",
    "print(\"interpretation assigned to A:\")\n",
    "print(m[A])"
   ]
  },
  {
   "cell_type": "markdown",
   "metadata": {},
   "source": [
    "Encoding homotopy equiavlanece into z3. no go? I feel like I attempted this somewhere"
   ]
  },
  {
   "cell_type": "code",
   "execution_count": 39,
   "metadata": {},
   "outputs": [
    {
     "name": "stdout",
     "output_type": "stream",
     "text": [
      "sat\n",
      "[x = A!val!0,\n",
      " f = [A!val!1 -> A!val!2,\n",
      "      A!val!2 -> A!val!3,\n",
      "      A!val!3 -> A!val!4,\n",
      "      A!val!4 -> A!val!0,\n",
      "      else -> A!val!1]]\n",
      "interpretation assigned to A:\n",
      "[A!val!4, A!val!1, A!val!3, A!val!0, A!val!2]\n"
     ]
    }
   ],
   "source": [
    "# This is take the gcd of sorts\n",
    "# the gcd is the number of values in the model.\n",
    "\n",
    "def apply(f,n,x):\n",
    "    if n == 0:\n",
    "        return x\n",
    "    else:\n",
    "        return apply(f,n-1, f(x))\n",
    "\n",
    "A    = DeclareSort('A')\n",
    "x, y = Consts('x y', A)\n",
    "f    = Function('f', A, A)\n",
    "\n",
    "s    = Solver()\n",
    "s.add(apply(f,15,x) == x, apply(f,10,x) == x, apply(f,5,x) == x)\n",
    "\n",
    "print(s.check())\n",
    "m = s.model()\n",
    "print(m)\n",
    "print(\"interpretation assigned to A:\")\n",
    "print(m[A])"
   ]
  },
  {
   "cell_type": "code",
   "execution_count": 76,
   "metadata": {},
   "outputs": [
    {
     "data": {
      "text/plain": [
       "{A!val!4: {(f, (A!val!3,))},\n",
       " A!val!1: set(),\n",
       " A!val!3: {(f, (A!val!2,))},\n",
       " A!val!0: {(f, (A!val!4,)), x},\n",
       " A!val!2: {(f, (A!val!1,))}}"
      ]
     },
     "execution_count": 76,
     "metadata": {},
     "output_type": "execute_result"
    }
   ],
   "source": [
    "class_equiv = {}\n",
    "for v in m[A]:\n",
    "    class_equiv[v] = set()\n",
    "for d in m.decls():\n",
    "    e = m[d]\n",
    "    if isinstance(e,ExprRef): # simple value\n",
    "        class_equiv[e].add(d)\n",
    "    elif isinstance(e, FuncInterp): # function\n",
    "        l = e.as_list()\n",
    "        for z in l[:-1]:\n",
    "            class_equiv[z[-1]].add( (d, tuple(z[:-1])))\n",
    "        #for v in m[A]:\n",
    "        #    class_equiv[ m[e[v]] ].add(e[v])\n",
    "        \n",
    "\n",
    "class_equiv    \n",
    "    "
   ]
  },
  {
   "cell_type": "code",
   "execution_count": 108,
   "metadata": {},
   "outputs": [],
   "source": [
    "def merge_bindings(d1,d2):\n",
    "    freshd = copy(d1)\n",
    "    for (k,v) in d2.items():\n",
    "        if k in freshd:\n",
    "            if freshd[k] != v:\n",
    "                return None\n",
    "        else:\n",
    "            freshd[k] = v\n",
    "    return freshd\n",
    "def merge_product(d1s, d2s):\n",
    "    for d1 in d1s:\n",
    "        for d2 in d2s:\n",
    "            md = merge(d1,d2)\n",
    "            if md != None:\n",
    "                yield md\n",
    "from functools import reduce\n",
    "\n",
    "def match(m, class_id, patvars, pat): # matching against pattern against class_id in model m\n",
    "    if pat.num_args() > 0: #function\n",
    "        head = pat.decl()\n",
    "        children = pat.children()\n",
    "        \n",
    "        patinterp = m[head].as_list()\n",
    "        for l in patinterp[:-1]:\n",
    "            result_id = l[-1]\n",
    "            arg_ids = l[:-1]\n",
    "            if result_id == class_id: # result of function matches \n",
    "                yield from reduce( merge_product, [ match(m,class_id, patvars, pat) for class_id, pat in zip(l[:-1] ,  pat.children())])\n",
    "        if patinterp[-1] == class_id: # else case matches\n",
    "            pass                   \n",
    "    elif pat in patvars: # a pattern variable\n",
    "                patdict = {}\n",
    "                patdict[pat] = class_id\n",
    "                yield patdict # success\n",
    "    else: # a literal. Not a pattern variable\n",
    "        if m[pat] == class_id:\n",
    "            yield patdict # success\n",
    "        else:\n",
    "            return # failure\n",
    "                            \n",
    "def match_top(m,patvars, pat):\n",
    "    for class_id in m[pat.sort()]:\n",
    "        yield from match(m, class_id, patvars, pat)\n",
    "\n",
    "\n",
    "# i should write a stack overlofw asking if oner can ge thgis stuff\n",
    "# I should definitely define pattern macthing functionally, with recursion\n",
    "                            \n",
    "def complete_func_def(m, f):\n",
    "    # remove the shitty else case.\n",
    "def get_ground(m, eclass):\n",
    "    # get a ground term that is a member of eclass.\n",
    "    # We'll want this to assert to z3"
   ]
  },
  {
   "cell_type": "code",
   "execution_count": 213,
   "metadata": {},
   "outputs": [
    {
     "name": "stdout",
     "output_type": "stream",
     "text": [
      "proved\n"
     ]
    },
    {
     "data": {
      "text/html": [
       "&exist;d :\n",
       " (d = 8 &or; d = 1 &or; d = 3 &or; d = 5) &and;\n",
       " rdy(chan) = ack(chan) &and;\n",
       " prime(chan) = constr(d, &not;rdy(chan), ack(chan))"
      ],
      "text/plain": [
       "Exists(d,\n",
       "       And(Or(d == 8, d == 1, d == 3, d == 5),\n",
       "           And(rdy(chan) == ack(chan),\n",
       "               prime(chan) ==\n",
       "               constr(d, Not(rdy(chan)), ack(chan)))))"
      ]
     },
     "execution_count": 213,
     "metadata": {},
     "output_type": "execute_result"
    }
   ],
   "source": [
    "from z3 import *\n",
    "\n",
    "# https://www.philipzucker.com/programming-and-interactive-proving-with-z3py/\n",
    "# useful non default operator definitions for z3 bools\n",
    "BoolRef.__and__ = lambda self, rhs: And(self,rhs)\n",
    "BoolRef.__or__ = lambda self, rhs: Or(self,rhs)\n",
    "BoolRef.__xor__ = lambda self, rhs: Xor(self,rhs)\n",
    "BoolRef.__invert__ = lambda self: Not(self)\n",
    "BoolRef.__rshift__ = lambda self, rhs: Implies(self,rhs)\n",
    "\n",
    "# https://stackoverflow.com/questions/14080398/z3py-how-to-get-the-list-of-variables-from-a-formula\n",
    "def get_vars(f):\n",
    "    r = set()\n",
    "    def collect(f):\n",
    "      if is_const(f): \n",
    "          if f.decl().kind() == Z3_OP_UNINTERPRETED:\n",
    "              r.add(f)\n",
    "      else:\n",
    "          for c in f.children():\n",
    "              collect(c)\n",
    "    collect(f)\n",
    "    return r\n",
    "\n",
    "\n",
    "#next = Function(\"next\", IntSort(),IntSort())\n",
    "x,y,z = Ints(\"x y z\")\n",
    "def nxt(x):\n",
    "    s = x.sort()\n",
    "    return Function(\"prime\", s, s)(x)\n",
    "\n",
    "def unchanged(*args):\n",
    "    return And([prime(x) == x for x in args])\n",
    " \n",
    "#https://theory.stanford.edu/~nikolaj/programmingz3.html#sec-bounded-model-checking\n",
    "def always(p,n=20):\n",
    "    orig_vs = get_vars(p)\n",
    "    nextvs = orig_vs\n",
    "    t = True\n",
    "    for i in range(1,n):\n",
    "        vs = nextvs\n",
    "        nextvs =  [ Const( f\"{str(v)}_{i}\", v.sort()) for v in orig_vs  ] # [  FreshConst(  v.sort(), prefix=str(v)_1 ) for v in orig_vs  ]\n",
    "        p1 = substitute(p, [ (prime(v), nextv) for v, nextv in zip(orig_vs,nextvs)  ]) \n",
    "        p2 = substitute(p1, [ (orig_v, v) for orig_v, v in zip(orig_vs,vs)  ])\n",
    "        t = And(t,p2)\n",
    "    return t\n",
    "\n",
    "# x_fun = Function(str(x), IntSort(), x.sort())\n",
    "# diff(x) \n",
    "\n",
    "def stutter(p, vars=None):\n",
    "    if vars == None:\n",
    "        vars = get_vars(p)\n",
    "    return Or(p, unchanged(*vars))\n",
    "\n",
    "e = prime(x) == 2*x\n",
    "always(e,3)\n",
    "\n",
    "hr = Int(\"hr\")\n",
    "HCini = And(0 <= hr, hr <= 12)\n",
    "HCnxt = prime(hr) == If(hr != 13, hr + 1, 1)\n",
    "HC = And(HCini, always(HCnxt, 20)) \n",
    "#prove(Implies(HC,  always(HCini,20) ) )\n",
    "\n",
    "# solve gives you an arbitrary trace\n",
    "#solve(HC)\n",
    "\n",
    "HCnxt2 = prime(hr) == hr % 12 + 1\n",
    "HC2 = HCini & always(HCnxt2,20)\n",
    "\n",
    "# completeness: check if allpossible next states have been visited\n",
    "\n",
    "data = set([8,5,8,3,1])\n",
    "val = Int(\"val\")\n",
    "rdy, ack = Bools(\"rdy ack\")\n",
    "def elem(x,S):\n",
    "    return Or([x == s for s in S])\n",
    "elem(val,data)\n",
    "\n",
    "TypeInvariant = And(\n",
    "    elem(val,data),\n",
    "    elem(rdy, [True, False]),\n",
    "    elem(ack, [True, False])\n",
    "    )\n",
    "\n",
    "Init = And(\n",
    "    elem(val,data),\n",
    "    elem(rdy, [True,False ]),\n",
    "    ack == rdy\n",
    "    )\n",
    "\n",
    "Send = And(\n",
    "        rdy == ack,\n",
    "        elem(prime(val), data),\n",
    "        prime(rdy) == Not(rdy),\n",
    "        unchanged(ack)\n",
    ")\n",
    "\n",
    "Rcv = And(\n",
    "   rdy != ack\n",
    "  , prime(ack) == Not(ack)\n",
    "  , unchanged(val, rdy)\n",
    ")\n",
    "\n",
    "Next = Or(Send,Rcv)\n",
    "Spec = Init & always( stutter(Next)  )\n",
    "\n",
    "prove(Implies(Spec, always(TypeInvariant)))\n",
    "\n",
    "\n",
    "# record\n",
    "val = Int(\"val\")\n",
    "rdy, ack = Bools(\"rdy ack\")\n",
    "chan = {val : val, rdy : rdy, ack : ack}\n",
    "\n",
    "Chan = Datatype(\"Chan\")\n",
    "ChanCon = Chan.declare(\"constr\", (\"val\", IntSort()) , (\"rdy\", BoolSort()),  (\"ack\", BoolSort()) )\n",
    "Chan = Chan.create()\n",
    "record = Chan.constr(val,rdy,ack)\n",
    "chan = Const(\"chan\", Chan)\n",
    "\n",
    "\n",
    "\n",
    "simplify(Chan.ack(record))\n",
    "\n",
    "\n",
    "\n",
    "def Send(d):\n",
    "    return And( Chan.rdy(chan) == Chan.ack(chan),  prime(chan) == Chan.constr( d ,  Not(Chan.rdy(chan))   ,  Chan.ack(chan) ) )\n",
    "\n",
    "d = Int(\"d\")\n",
    "Exists([d],  And(elem(d,data), Send(d) ))\n",
    "\n",
    "\n"
   ]
  },
  {
   "cell_type": "code",
   "execution_count": null,
   "metadata": {},
   "outputs": [],
   "source": [
    "def square(x):\n",
    "    return x*x\n",
    "\n",
    "square = Function(\"square\", IntSort(),IntSort())\n",
    "x = Int(\"x\")\n",
    "square_axiom = ForAll([x], square(x) == x * x)\n"
   ]
  },
  {
   "cell_type": "code",
   "execution_count": 217,
   "metadata": {},
   "outputs": [
    {
     "name": "stdout",
     "output_type": "stream",
     "text": [
      "proved\n"
     ]
    }
   ],
   "source": [
    "hr = Int(\"hr\")\n",
    "HCini = And(0 <= hr, hr <= 12)\n",
    "HCnxt = nxt(hr) == If(hr != 12, hr + 1, 1)\n",
    "HC = And(HCini, always(HCnxt)) \n",
    "prove(Implies(HC,  always(HCini)))\n",
    "\n",
    "# solve gives you an arbitrary trace\n",
    "#solve(HC)\n",
    "\n",
    "#HCnxt2 = prime(hr) == hr % 12 + 1\n",
    "#HC2 = HCini & always(HCnxt2,20)"
   ]
  },
  {
   "cell_type": "code",
   "execution_count": 209,
   "metadata": {},
   "outputs": [
    {
     "data": {
      "text/html": [
       "x'"
      ],
      "text/plain": [
       "x'"
      ]
     },
     "execution_count": 209,
     "metadata": {},
     "output_type": "execute_result"
    }
   ],
   "source": [
    "x, xnxt = Ints(\"x x'\")\n",
    "xnxt"
   ]
  },
  {
   "cell_type": "code",
   "execution_count": 190,
   "metadata": {},
   "outputs": [
    {
     "name": "stdout",
     "output_type": "stream",
     "text": [
      "counterexample\n",
      "[small_2 = 3,\n",
      " small_3 = 0,\n",
      " big_6 = 4,\n",
      " small_1 = 0,\n",
      " big_5 = 5,\n",
      " big_3 = 2,\n",
      " big_2 = 2,\n",
      " small_5 = 2,\n",
      " small_7 = 3,\n",
      " big_1 = 5,\n",
      " big_7 = 5,\n",
      " small_6 = 3,\n",
      " big_4 = 0,\n",
      " small_4 = 2,\n",
      " small = 0,\n",
      " big = 0]\n"
     ]
    },
    {
     "data": {
      "text/plain": [
       "['big = 0',\n",
       " 'big_1 = 5',\n",
       " 'big_2 = 2',\n",
       " 'big_3 = 2',\n",
       " 'big_4 = 0',\n",
       " 'big_5 = 5',\n",
       " 'big_6 = 4',\n",
       " 'big_7 = 4',\n",
       " 'small = 0',\n",
       " 'small_1 = 0',\n",
       " 'small_2 = 3',\n",
       " 'small_3 = 0',\n",
       " 'small_4 = 2',\n",
       " 'small_5 = 2',\n",
       " 'small_6 = 3',\n",
       " 'small_7 = 0']"
      ]
     },
     "execution_count": 190,
     "metadata": {},
     "output_type": "execute_result"
    }
   ],
   "source": [
    "small, big = Ints(\"small big\")\n",
    "\n",
    "TypeOk = And(\n",
    "   elem(small, range(4)),\n",
    "   elem(big, range(6))\n",
    ")\n",
    "Init = And(\n",
    "   big == 0,\n",
    "   small == 0\n",
    ")\n",
    "\n",
    "FillSmall = And(prime(small) == 3, unchanged(big))\n",
    "FillBig = And(prime(big) == 5, unchanged(small))\n",
    "Goal = big != 4\n",
    "SmallToBig = If(big + small <= 5,   \n",
    "                 And( nxt(big) == big + small, nxt(small) == 0 ) , \n",
    "                 And(nxt(small) == small - (5 - big), nxt(big) == 5)\n",
    "               )\n",
    "\n",
    "BigToSmall = If( big + small <= 3,\n",
    "                 And( nxt(small) == big + small, nxt(big) == 0),\n",
    "                 And( nxt(small) == 3, nxt(big) == big - (3 - small) )\n",
    "                )\n",
    "\n",
    "EmptyBig = And(nxt(big) == 0,  unchanged(small)) \n",
    "EmptySmall = And(nxt(small) == 0,  unchanged(big)) \n",
    "Next = Or(FillSmall, FillBig, EmptySmall, EmptyBig, SmallToBig, BigToSmall)\n",
    "\n",
    "Spec = Init & always(Next, n=8)\n",
    "prove( Implies(Spec  , always(Goal, n = 8)))\n",
    "s = Solver()\n",
    "s.add(Not(Implies(Spec  , always(Goal, n = 8))))\n",
    "s.check()\n",
    "m = s.model()\n",
    "[f\"{d.name()} = {m[d]}\" for d in sorted(m.decls(), key=lambda d: d.name())]\n",
    "\n"
   ]
  },
  {
   "cell_type": "code",
   "execution_count": 206,
   "metadata": {},
   "outputs": [
    {
     "data": {
      "text/html": [
       "prime(rm_anne) = prepared &and;\n",
       "rm_anne = working &and;\n",
       "prime(rm_hank) = rm_hank &or;\n",
       "True &or;\n",
       "prime(rm_hank) = prepared &and;\n",
       "rm_hank = working &and;\n",
       "prime(rm_anne) = rm_anne &or;\n",
       "True"
      ],
      "text/plain": [
       "Or(Or(And(prime(rm_anne) == prepared,\n",
       "          rm_anne == working,\n",
       "          And(prime(rm_hank) == rm_hank)),\n",
       "      True),\n",
       "   Or(And(prime(rm_hank) == prepared,\n",
       "          rm_hank == working,\n",
       "          And(prime(rm_anne) == rm_anne)),\n",
       "      True))"
      ]
     },
     "execution_count": 206,
     "metadata": {},
     "output_type": "execute_result"
    }
   ],
   "source": [
    "from enum import Enum, auto\n",
    "class RMState(Enum):\n",
    "     WORKING = auto()\n",
    "     PREPARED = auto()\n",
    "     COMMITTED = auto()\n",
    "     ABORTED = auto()\n",
    "RMState = Datatype(\"RMState\")\n",
    "RMState.declare(\"working\")\n",
    "RMState.declare(\"prepared\")\n",
    "RMState.declare(\"comitted\")\n",
    "RMState.declare(\"aborted\")\n",
    "\n",
    "RMState = RMState.create()\n",
    "# resource manager\n",
    "RM = [\"anne\", \"hank\"]\n",
    "\n",
    "rmState = { rm : Const(f\"rm_{rm}\", RMState) for rm in RM }\n",
    "#TCTypeOK = And( [ elem(state, RMState)  for state in rmState.values() ]  )\n",
    "TCInit =  And([state == RMState.working  for state in rmState.values()] )\n",
    "\n",
    "def Decide(rm):\n",
    "    return True\n",
    "\n",
    "def Prepare(rm):\n",
    "    return And( prime(rmState[rm]) == RMState.prepared , \n",
    "                rmState[rm] == RMState.working,   \n",
    "                *[unchanged(rmState[rm2]) for rm2 in RM if rm2 != rm]) \n",
    "TCNext = Or([Or(Prepare(rm), Decide(rm)) for rm in RM])\n",
    "\n",
    "TCNext"
   ]
  },
  {
   "cell_type": "code",
   "execution_count": 195,
   "metadata": {},
   "outputs": [
    {
     "ename": "KeyError",
     "evalue": "0",
     "output_type": "error",
     "traceback": [
      "\u001b[0;31m---------------------------------------------------------------------------\u001b[0m",
      "\u001b[0;31mKeyError\u001b[0m                                  Traceback (most recent call last)",
      "\u001b[0;32m<ipython-input-195-f695dc01ed73>\u001b[0m in \u001b[0;36m<module>\u001b[0;34m\u001b[0m\n\u001b[0;32m----> 1\u001b[0;31m \u001b[0misinstance\u001b[0m\u001b[0;34m(\u001b[0m\u001b[0mRMState\u001b[0m\u001b[0;34m[\u001b[0m\u001b[0;36m0\u001b[0m\u001b[0;34m]\u001b[0m\u001b[0;34m,\u001b[0m\u001b[0mEnum\u001b[0m\u001b[0;34m)\u001b[0m\u001b[0;34m\u001b[0m\u001b[0;34m\u001b[0m\u001b[0m\n\u001b[0m",
      "\u001b[0;32m/usr/lib/python3.6/enum.py\u001b[0m in \u001b[0;36m__getitem__\u001b[0;34m(cls, name)\u001b[0m\n\u001b[1;32m    327\u001b[0m \u001b[0;34m\u001b[0m\u001b[0m\n\u001b[1;32m    328\u001b[0m     \u001b[0;32mdef\u001b[0m \u001b[0m__getitem__\u001b[0m\u001b[0;34m(\u001b[0m\u001b[0mcls\u001b[0m\u001b[0;34m,\u001b[0m \u001b[0mname\u001b[0m\u001b[0;34m)\u001b[0m\u001b[0;34m:\u001b[0m\u001b[0;34m\u001b[0m\u001b[0;34m\u001b[0m\u001b[0m\n\u001b[0;32m--> 329\u001b[0;31m         \u001b[0;32mreturn\u001b[0m \u001b[0mcls\u001b[0m\u001b[0;34m.\u001b[0m\u001b[0m_member_map_\u001b[0m\u001b[0;34m[\u001b[0m\u001b[0mname\u001b[0m\u001b[0;34m]\u001b[0m\u001b[0;34m\u001b[0m\u001b[0;34m\u001b[0m\u001b[0m\n\u001b[0m\u001b[1;32m    330\u001b[0m \u001b[0;34m\u001b[0m\u001b[0m\n\u001b[1;32m    331\u001b[0m     \u001b[0;32mdef\u001b[0m \u001b[0m__iter__\u001b[0m\u001b[0;34m(\u001b[0m\u001b[0mcls\u001b[0m\u001b[0;34m)\u001b[0m\u001b[0;34m:\u001b[0m\u001b[0;34m\u001b[0m\u001b[0;34m\u001b[0m\u001b[0m\n",
      "\u001b[0;31mKeyError\u001b[0m: 0"
     ]
    }
   ],
   "source": [
    "isinstance(RMState,Enum)"
   ]
  },
  {
   "cell_type": "code",
   "execution_count": 75,
   "metadata": {},
   "outputs": [
    {
     "data": {
      "text/html": [
       "If(x &lt; 2, x + 7, If(x = 6, x, c!2))"
      ],
      "text/plain": [
       "If(x < 2, x + 7, If(x == 6, x, c!2))"
      ]
     },
     "execution_count": 75,
     "metadata": {},
     "output_type": "execute_result"
    }
   ],
   "source": [
    "def case(cases):\n",
    "    \n",
    "    if \"other\" in cases:\n",
    "        acc = cases[\"other\"]\n",
    "        del cases[\"other\"]\n",
    "    else:\n",
    "        acc = FreshConst(list(cases.values())[0].sort())\n",
    "    for cond, result in cases.items():\n",
    "        acc = If(cond, result, acc)\n",
    "    return acc\n",
    "\n",
    "\n",
    "case( { x == 6 : x, x < 2 : x + 7 })\n",
    "\n",
    "#def move(p):\n",
    "def move(p, vars=None):\n",
    "    return Not(stutter,vars=vars)\n",
    "    #if vars == None:\n",
    "    #    vars = get_vars(p)\n",
    "    #return And(p, Not(unchanged(*vars)))\n",
    "\n",
    "# choose([x], ?) == ?\n",
    "# enabled, compose\n",
    "\n",
    "# weak fairness, strong fairness, leadsto, guarantees, temporal quantification"
   ]
  },
  {
   "cell_type": "code",
   "execution_count": null,
   "metadata": {},
   "outputs": [],
   "source": [
    "def enabled(A):\n",
    "    vs = get_vars(A)\n",
    "    nxtvs =  [ FreshConst(  v.sort(), prefix=str(v) ) for v in vs  ] # [ Const( f\"{str(v)}_{i}\", v.sort()) for v in orig_vs  ] #\n",
    "    p1 = substitute(A, [ (nxt(v), nextv) for v, nextv in zip(vs,nxtvs)  ]) \n",
    "    return Exists(nxtvs, p1)\n"
   ]
  },
  {
   "cell_type": "markdown",
   "metadata": {},
   "source": [
    "Hmmmm. Could I do one of them relational specs? hyperspec?"
   ]
  },
  {
   "cell_type": "code",
   "execution_count": 97,
   "metadata": {},
   "outputs": [
    {
     "data": {
      "text/plain": [
       "[<_ast.Assign at 0x7f4d52712390>, <_ast.Return at 0x7f4d52712550>]"
      ]
     },
     "execution_count": 97,
     "metadata": {},
     "output_type": "execute_result"
    }
   ],
   "source": [
    "# Plus cal: overload variables\n",
    "# Just use python syntax\n",
    "\n",
    "import inspect\n",
    "import ast\n",
    "\n",
    "def reflect(fun):\n",
    "    return ast.parse(inspect.getsource(fun))\n",
    "    \n",
    "\n",
    "def foo(x):\n",
    "    x = 4\n",
    "    return x\n",
    "\n",
    "pluscal(foo).body[0].body"
   ]
  },
  {
   "cell_type": "code",
   "execution_count": 126,
   "metadata": {},
   "outputs": [
    {
     "data": {
      "image/svg+xml": [
       "<svg height=\"332pt\" viewBox=\"0.00 0.00 566.00 332.00\" width=\"566pt\" xmlns=\"http://www.w3.org/2000/svg\" xmlns:xlink=\"http://www.w3.org/1999/xlink\">\n",
       "<g class=\"graph\" id=\"graph0\" transform=\"scale(1 1) rotate(0) translate(4 328)\">\n",
       "<title>%3</title>\n",
       "<polygon fill=\"#ffffff\" points=\"-4,4 -4,-328 562,-328 562,4 -4,4\" stroke=\"transparent\"/>\n",
       "<!-- 0 -->\n",
       "<g class=\"node\" id=\"node1\">\n",
       "<title>0</title>\n",
       "<text fill=\"#004080\" font-family=\"Courier,monospace\" font-size=\"14.00\" font-weight=\"bold\" text-anchor=\"start\" x=\"161.5\" y=\"-303.3\">FunctionDef</text>\n",
       "</g>\n",
       "<!-- 1 -->\n",
       "<g class=\"node\" id=\"node2\">\n",
       "<title>1</title>\n",
       "<text fill=\"#008040\" font-family=\"Courier,monospace\" font-size=\"14.00\" text-anchor=\"middle\" x=\"69\" y=\"-230.3\">&quot;foo&quot;</text>\n",
       "</g>\n",
       "<!-- 0&#45;&#45;1 -->\n",
       "<g class=\"edge\" id=\"edge1\">\n",
       "<title>0--1</title>\n",
       "<path d=\"M208,-288C208,-288 151.0333,-270.223 107,-252 104.167,-250.8276 101.2408,-249.5554 98.3282,-248.2477\" fill=\"none\" stroke=\"#000000\"/>\n",
       "</g>\n",
       "<!-- 2 -->\n",
       "<g class=\"node\" id=\"node3\">\n",
       "<title>2</title>\n",
       "<text fill=\"#004080\" font-family=\"Courier,monospace\" font-size=\"14.00\" font-weight=\"bold\" text-anchor=\"start\" x=\"124.5\" y=\"-231.3\">arguments</text>\n",
       "</g>\n",
       "<!-- 0&#45;&#45;2 -->\n",
       "<g class=\"edge\" id=\"edge2\">\n",
       "<title>0--2</title>\n",
       "<path d=\"M208,-288C208,-288 190.9185,-267.9478 177.5735,-252.2819\" fill=\"none\" stroke=\"#000000\"/>\n",
       "</g>\n",
       "<!-- 5 -->\n",
       "<g class=\"node\" id=\"node6\">\n",
       "<title>5</title>\n",
       "<text fill=\"#004080\" font-family=\"Courier,monospace\" font-size=\"14.00\" font-weight=\"bold\" text-anchor=\"start\" x=\"244.5\" y=\"-231.3\">If</text>\n",
       "</g>\n",
       "<!-- 0&#45;&#45;5 -->\n",
       "<g class=\"edge\" id=\"edge5\">\n",
       "<title>0--5</title>\n",
       "<path d=\"M208,-288C208,-288 224.7102,-267.9478 237.7651,-252.2819\" fill=\"none\" stroke=\"#000000\"/>\n",
       "</g>\n",
       "<!-- 19 -->\n",
       "<g class=\"node\" id=\"node20\">\n",
       "<title>19</title>\n",
       "<text fill=\"#004080\" font-family=\"Courier,monospace\" font-size=\"14.00\" font-weight=\"bold\" text-anchor=\"start\" x=\"408\" y=\"-231.3\">Return</text>\n",
       "</g>\n",
       "<!-- 0&#45;&#45;19 -->\n",
       "<g class=\"edge\" id=\"edge19\">\n",
       "<title>0--19</title>\n",
       "<path d=\"M208,-288C208,-288 337.213,-256.9889 399.8005,-241.9679\" fill=\"none\" stroke=\"#000000\"/>\n",
       "</g>\n",
       "<!-- 3 -->\n",
       "<g class=\"node\" id=\"node4\">\n",
       "<title>3</title>\n",
       "<text fill=\"#004080\" font-family=\"Courier,monospace\" font-size=\"14.00\" font-weight=\"bold\" text-anchor=\"start\" x=\"98.5\" y=\"-159.3\">arg</text>\n",
       "</g>\n",
       "<!-- 2&#45;&#45;3 -->\n",
       "<g class=\"edge\" id=\"edge3\">\n",
       "<title>2--3</title>\n",
       "<path d=\"M149.1305,-215.8314C141.4583,-205 131.7454,-191.2876 124.0427,-180.4133\" fill=\"none\" stroke=\"#000000\"/>\n",
       "</g>\n",
       "<!-- 4 -->\n",
       "<g class=\"node\" id=\"node5\">\n",
       "<title>4</title>\n",
       "<text fill=\"#008040\" font-family=\"Courier,monospace\" font-size=\"14.00\" text-anchor=\"middle\" x=\"27\" y=\"-86.3\">&quot;x&quot;</text>\n",
       "</g>\n",
       "<!-- 3&#45;&#45;4 -->\n",
       "<g class=\"edge\" id=\"edge4\">\n",
       "<title>3--4</title>\n",
       "<path d=\"M89.8033,-143.8314C77.0695,-132.9167 60.9225,-119.0764 48.19,-108.1628\" fill=\"none\" stroke=\"#000000\"/>\n",
       "</g>\n",
       "<!-- 6 -->\n",
       "<g class=\"node\" id=\"node7\">\n",
       "<title>6</title>\n",
       "<text fill=\"#004080\" font-family=\"Courier,monospace\" font-size=\"14.00\" font-weight=\"bold\" text-anchor=\"start\" x=\"168\" y=\"-159.3\">Compare</text>\n",
       "</g>\n",
       "<!-- 5&#45;&#45;6 -->\n",
       "<g class=\"edge\" id=\"edge6\">\n",
       "<title>5--6</title>\n",
       "<path d=\"M253,-216C253,-216 232.2051,-195.9478 215.959,-180.2819\" fill=\"none\" stroke=\"#000000\"/>\n",
       "</g>\n",
       "<!-- 13 -->\n",
       "<g class=\"node\" id=\"node14\">\n",
       "<title>13</title>\n",
       "<text fill=\"#004080\" font-family=\"Courier,monospace\" font-size=\"14.00\" font-weight=\"bold\" text-anchor=\"start\" x=\"290\" y=\"-159.3\">Assign</text>\n",
       "</g>\n",
       "<!-- 5&#45;&#45;13 -->\n",
       "<g class=\"edge\" id=\"edge13\">\n",
       "<title>5--13</title>\n",
       "<path d=\"M253,-216C253,-216 276.0229,-195.9478 294.0096,-180.2819\" fill=\"none\" stroke=\"#000000\"/>\n",
       "</g>\n",
       "<!-- 7 -->\n",
       "<g class=\"node\" id=\"node8\">\n",
       "<title>7</title>\n",
       "<text fill=\"#004080\" font-family=\"Courier,monospace\" font-size=\"14.00\" font-weight=\"bold\" text-anchor=\"start\" x=\"82\" y=\"-87.3\">Name</text>\n",
       "</g>\n",
       "<!-- 6&#45;&#45;7 -->\n",
       "<g class=\"edge\" id=\"edge7\">\n",
       "<title>6--7</title>\n",
       "<path d=\"M192,-144C192,-144 153.8328,-121.8384 126.4001,-105.9097\" fill=\"none\" stroke=\"#000000\"/>\n",
       "</g>\n",
       "<!-- 10 -->\n",
       "<g class=\"node\" id=\"node11\">\n",
       "<title>10</title>\n",
       "<text fill=\"#008040\" font-family=\"Courier,monospace\" font-size=\"14.00\" text-anchor=\"middle\" x=\"171\" y=\"-86.3\">Gt</text>\n",
       "</g>\n",
       "<!-- 6&#45;&#45;10 -->\n",
       "<g class=\"edge\" id=\"edge10\">\n",
       "<title>6--10</title>\n",
       "<path d=\"M192,-144C192,-144 184.2019,-123.9478 178.1096,-108.2819\" fill=\"none\" stroke=\"#000000\"/>\n",
       "</g>\n",
       "<!-- 11 -->\n",
       "<g class=\"node\" id=\"node12\">\n",
       "<title>11</title>\n",
       "<text fill=\"#004080\" font-family=\"Courier,monospace\" font-size=\"14.00\" font-weight=\"bold\" text-anchor=\"start\" x=\"230.5\" y=\"-87.3\">Num</text>\n",
       "</g>\n",
       "<!-- 6&#45;&#45;11 -->\n",
       "<g class=\"edge\" id=\"edge11\">\n",
       "<title>6--11</title>\n",
       "<path d=\"M192,-144C192,-144 210.9382,-123.9478 225.7337,-108.2819\" fill=\"none\" stroke=\"#000000\"/>\n",
       "</g>\n",
       "<!-- 8 -->\n",
       "<g class=\"node\" id=\"node9\">\n",
       "<title>8</title>\n",
       "<text fill=\"#008040\" font-family=\"Courier,monospace\" font-size=\"14.00\" text-anchor=\"middle\" x=\"45\" y=\"-14.3\">&quot;x&quot;</text>\n",
       "</g>\n",
       "<!-- 7&#45;&#45;8 -->\n",
       "<g class=\"edge\" id=\"edge8\">\n",
       "<title>7--8</title>\n",
       "<path d=\"M95,-72C95,-72 76.4331,-51.9478 61.9277,-36.2819\" fill=\"none\" stroke=\"#000000\"/>\n",
       "</g>\n",
       "<!-- 9 -->\n",
       "<g class=\"node\" id=\"node10\">\n",
       "<title>9</title>\n",
       "<text fill=\"#008040\" font-family=\"Courier,monospace\" font-size=\"14.00\" text-anchor=\"middle\" x=\"117\" y=\"-14.3\">Load</text>\n",
       "</g>\n",
       "<!-- 7&#45;&#45;9 -->\n",
       "<g class=\"edge\" id=\"edge9\">\n",
       "<title>7--9</title>\n",
       "<path d=\"M95,-72C95,-72 103.1694,-51.9478 109.5518,-36.2819\" fill=\"none\" stroke=\"#000000\"/>\n",
       "</g>\n",
       "<!-- 12 -->\n",
       "<g class=\"node\" id=\"node13\">\n",
       "<title>12</title>\n",
       "<text fill=\"#008040\" font-family=\"Courier,monospace\" font-size=\"14.00\" text-anchor=\"middle\" x=\"225\" y=\"-14.3\">3</text>\n",
       "</g>\n",
       "<!-- 11&#45;&#45;12 -->\n",
       "<g class=\"edge\" id=\"edge12\">\n",
       "<title>11--12</title>\n",
       "<path d=\"M238.4578,-71.8314C235.75,-61 232.3219,-47.2876 229.6033,-36.4133\" fill=\"none\" stroke=\"#000000\"/>\n",
       "</g>\n",
       "<!-- 14 -->\n",
       "<g class=\"node\" id=\"node15\">\n",
       "<title>14</title>\n",
       "<text fill=\"#004080\" font-family=\"Courier,monospace\" font-size=\"14.00\" font-weight=\"bold\" text-anchor=\"start\" x=\"298\" y=\"-87.3\">Name</text>\n",
       "</g>\n",
       "<!-- 13&#45;&#45;14 -->\n",
       "<g class=\"edge\" id=\"edge14\">\n",
       "<title>13--14</title>\n",
       "<path d=\"M323,-144C323,-144 320.0293,-123.9478 317.7084,-108.2819\" fill=\"none\" stroke=\"#000000\"/>\n",
       "</g>\n",
       "<!-- 17 -->\n",
       "<g class=\"node\" id=\"node18\">\n",
       "<title>17</title>\n",
       "<text fill=\"#004080\" font-family=\"Courier,monospace\" font-size=\"14.00\" font-weight=\"bold\" text-anchor=\"start\" x=\"374.5\" y=\"-87.3\">Num</text>\n",
       "</g>\n",
       "<!-- 13&#45;&#45;17 -->\n",
       "<g class=\"edge\" id=\"edge17\">\n",
       "<title>13--17</title>\n",
       "<path d=\"M323,-144C323,-144 346.7656,-123.9478 365.3325,-108.2819\" fill=\"none\" stroke=\"#000000\"/>\n",
       "</g>\n",
       "<!-- 15 -->\n",
       "<g class=\"node\" id=\"node16\">\n",
       "<title>15</title>\n",
       "<text fill=\"#008040\" font-family=\"Courier,monospace\" font-size=\"14.00\" text-anchor=\"middle\" x=\"297\" y=\"-14.3\">&quot;y&quot;</text>\n",
       "</g>\n",
       "<!-- 14&#45;&#45;15 -->\n",
       "<g class=\"edge\" id=\"edge15\">\n",
       "<title>14--15</title>\n",
       "<path d=\"M319,-72C319,-72 310.8306,-51.9478 304.4482,-36.2819\" fill=\"none\" stroke=\"#000000\"/>\n",
       "</g>\n",
       "<!-- 16 -->\n",
       "<g class=\"node\" id=\"node17\">\n",
       "<title>16</title>\n",
       "<text fill=\"#008040\" font-family=\"Courier,monospace\" font-size=\"14.00\" text-anchor=\"middle\" x=\"371\" y=\"-14.3\">Store</text>\n",
       "</g>\n",
       "<!-- 14&#45;&#45;16 -->\n",
       "<g class=\"edge\" id=\"edge16\">\n",
       "<title>14--16</title>\n",
       "<path d=\"M319,-72C319,-72 338.3096,-51.9478 353.3952,-36.2819\" fill=\"none\" stroke=\"#000000\"/>\n",
       "</g>\n",
       "<!-- 18 -->\n",
       "<g class=\"node\" id=\"node19\">\n",
       "<title>18</title>\n",
       "<text fill=\"#008040\" font-family=\"Courier,monospace\" font-size=\"14.00\" text-anchor=\"middle\" x=\"445\" y=\"-14.3\">4</text>\n",
       "</g>\n",
       "<!-- 17&#45;&#45;18 -->\n",
       "<g class=\"edge\" id=\"edge18\">\n",
       "<title>17--18</title>\n",
       "<path d=\"M401.6358,-71.8314C410.3611,-61 421.4072,-47.2876 430.1671,-36.4133\" fill=\"none\" stroke=\"#000000\"/>\n",
       "</g>\n",
       "<!-- 20 -->\n",
       "<g class=\"node\" id=\"node21\">\n",
       "<title>20</title>\n",
       "<text fill=\"#004080\" font-family=\"Courier,monospace\" font-size=\"14.00\" font-weight=\"bold\" text-anchor=\"start\" x=\"442\" y=\"-159.3\">Name</text>\n",
       "</g>\n",
       "<!-- 19&#45;&#45;20 -->\n",
       "<g class=\"edge\" id=\"edge20\">\n",
       "<title>19--20</title>\n",
       "<path d=\"M439.5609,-215.8314C443.4722,-205 448.4239,-191.2876 452.3508,-180.4133\" fill=\"none\" stroke=\"#000000\"/>\n",
       "</g>\n",
       "<!-- 21 -->\n",
       "<g class=\"node\" id=\"node22\">\n",
       "<title>21</title>\n",
       "<text fill=\"#008040\" font-family=\"Courier,monospace\" font-size=\"14.00\" text-anchor=\"middle\" x=\"459\" y=\"-86.3\">&quot;x&quot;</text>\n",
       "</g>\n",
       "<!-- 20&#45;&#45;21 -->\n",
       "<g class=\"edge\" id=\"edge21\">\n",
       "<title>20--21</title>\n",
       "<path d=\"M467,-144C467,-144 464.0293,-123.9478 461.7084,-108.2819\" fill=\"none\" stroke=\"#000000\"/>\n",
       "</g>\n",
       "<!-- 22 -->\n",
       "<g class=\"node\" id=\"node23\">\n",
       "<title>22</title>\n",
       "<text fill=\"#008040\" font-family=\"Courier,monospace\" font-size=\"14.00\" text-anchor=\"middle\" x=\"531\" y=\"-86.3\">Load</text>\n",
       "</g>\n",
       "<!-- 20&#45;&#45;22 -->\n",
       "<g class=\"edge\" id=\"edge22\">\n",
       "<title>20--22</title>\n",
       "<path d=\"M467,-144C467,-144 490.7656,-123.9478 509.3325,-108.2819\" fill=\"none\" stroke=\"#000000\"/>\n",
       "</g>\n",
       "</g>\n",
       "</svg>"
      ],
      "text/plain": [
       "<IPython.core.display.SVG object>"
      ]
     },
     "metadata": {},
     "output_type": "display_data"
    }
   ],
   "source": [
    "%%showast\n",
    "def foo(x):\n",
    "    if x > 3:\n",
    "        y = 4\n",
    "    return x"
   ]
  },
  {
   "cell_type": "code",
   "execution_count": 122,
   "metadata": {},
   "outputs": [],
   "source": [
    "def foo(x):\n",
    "    x = 4\n",
    "    y = 7\n",
    "    (x,y) = 7,3\n",
    "    return x"
   ]
  },
  {
   "cell_type": "code",
   "execution_count": 162,
   "metadata": {},
   "outputs": [],
   "source": [
    "class InterpExpr(ast.NodeVisitor):\n",
    "    def visit_Compare(self,node):\n",
    "        if isinstance(node.ops[0], Gt):\n",
    "            pass\n",
    "        return\n",
    "    def visit_Name(self,node):\n",
    "        return Int(node.id)\n",
    "    \n",
    "def interp_expr(e):\n",
    "    print(e)\n",
    "    if isinstance(e,ast.Compare):\n",
    "        if isinstance(e.ops[0], Gt):\n",
    "            return interp_expr(e.left) > interp_exp(e.comparators[0])\n",
    "    if isinstance(e, ast.Name):\n",
    "        return Int(e.id)\n",
    "    if isinstance(e, ast.Constant):\n",
    "        return e.value\n",
    "    if isinstance(e, ast.Num):\n",
    "        return IntVal(e.n)"
   ]
  },
  {
   "cell_type": "code",
   "execution_count": 163,
   "metadata": {},
   "outputs": [
    {
     "data": {
      "image/svg+xml": [
       "<svg height=\"260pt\" viewBox=\"0.00 0.00 350.00 260.00\" width=\"350pt\" xmlns=\"http://www.w3.org/2000/svg\" xmlns:xlink=\"http://www.w3.org/1999/xlink\">\n",
       "<g class=\"graph\" id=\"graph0\" transform=\"scale(1 1) rotate(0) translate(4 256)\">\n",
       "<title>%3</title>\n",
       "<polygon fill=\"#ffffff\" points=\"-4,4 -4,-256 346,-256 346,4 -4,4\" stroke=\"transparent\"/>\n",
       "<!-- 0 -->\n",
       "<g class=\"node\" id=\"node1\">\n",
       "<title>0</title>\n",
       "<text fill=\"#004080\" font-family=\"Courier,monospace\" font-size=\"14.00\" font-weight=\"bold\" text-anchor=\"start\" x=\"76.5\" y=\"-231.3\">FunctionDef</text>\n",
       "</g>\n",
       "<!-- 1 -->\n",
       "<g class=\"node\" id=\"node2\">\n",
       "<title>1</title>\n",
       "<text fill=\"#008040\" font-family=\"Courier,monospace\" font-size=\"14.00\" text-anchor=\"middle\" x=\"29\" y=\"-158.3\">&quot;bar&quot;</text>\n",
       "</g>\n",
       "<!-- 0&#45;&#45;1 -->\n",
       "<g class=\"edge\" id=\"edge1\">\n",
       "<title>0--1</title>\n",
       "<path d=\"M122,-216C122,-216 85.4445,-194.7742 58.1706,-178.9378\" fill=\"none\" stroke=\"#000000\"/>\n",
       "</g>\n",
       "<!-- 2 -->\n",
       "<g class=\"node\" id=\"node3\">\n",
       "<title>2</title>\n",
       "<text fill=\"#004080\" font-family=\"Courier,monospace\" font-size=\"14.00\" font-weight=\"bold\" text-anchor=\"start\" x=\"84.5\" y=\"-159.3\">arguments</text>\n",
       "</g>\n",
       "<!-- 0&#45;&#45;2 -->\n",
       "<g class=\"edge\" id=\"edge2\">\n",
       "<title>0--2</title>\n",
       "<path d=\"M122,-216C122,-216 122,-195.9478 122,-180.2819\" fill=\"none\" stroke=\"#000000\"/>\n",
       "</g>\n",
       "<!-- 5 -->\n",
       "<g class=\"node\" id=\"node6\">\n",
       "<title>5</title>\n",
       "<text fill=\"#004080\" font-family=\"Courier,monospace\" font-size=\"14.00\" font-weight=\"bold\" text-anchor=\"start\" x=\"201\" y=\"-159.3\">Assign</text>\n",
       "</g>\n",
       "<!-- 0&#45;&#45;5 -->\n",
       "<g class=\"edge\" id=\"edge5\">\n",
       "<title>0--5</title>\n",
       "<path d=\"M122,-216C122,-216 162.3715,-195.0379 192.8078,-179.2344\" fill=\"none\" stroke=\"#000000\"/>\n",
       "</g>\n",
       "<!-- 3 -->\n",
       "<g class=\"node\" id=\"node4\">\n",
       "<title>3</title>\n",
       "<text fill=\"#004080\" font-family=\"Courier,monospace\" font-size=\"14.00\" font-weight=\"bold\" text-anchor=\"start\" x=\"106.5\" y=\"-87.3\">arg</text>\n",
       "</g>\n",
       "<!-- 2&#45;&#45;3 -->\n",
       "<g class=\"edge\" id=\"edge3\">\n",
       "<title>2--3</title>\n",
       "<path d=\"M121.243,-143.8314C120.7917,-133 120.2203,-119.2876 119.7672,-108.4133\" fill=\"none\" stroke=\"#000000\"/>\n",
       "</g>\n",
       "<!-- 4 -->\n",
       "<g class=\"node\" id=\"node5\">\n",
       "<title>4</title>\n",
       "<text fill=\"#008040\" font-family=\"Courier,monospace\" font-size=\"14.00\" text-anchor=\"middle\" x=\"95\" y=\"-14.3\">&quot;x&quot;</text>\n",
       "</g>\n",
       "<!-- 3&#45;&#45;4 -->\n",
       "<g class=\"edge\" id=\"edge4\">\n",
       "<title>3--4</title>\n",
       "<path d=\"M112.9438,-71.8314C109.3333,-61 104.7625,-47.2876 101.1378,-36.4133\" fill=\"none\" stroke=\"#000000\"/>\n",
       "</g>\n",
       "<!-- 6 -->\n",
       "<g class=\"node\" id=\"node7\">\n",
       "<title>6</title>\n",
       "<text fill=\"#004080\" font-family=\"Courier,monospace\" font-size=\"14.00\" font-weight=\"bold\" text-anchor=\"start\" x=\"209\" y=\"-87.3\">Name</text>\n",
       "</g>\n",
       "<!-- 5&#45;&#45;6 -->\n",
       "<g class=\"edge\" id=\"edge6\">\n",
       "<title>5--6</title>\n",
       "<path d=\"M234,-144C234,-144 231.0293,-123.9478 228.7084,-108.2819\" fill=\"none\" stroke=\"#000000\"/>\n",
       "</g>\n",
       "<!-- 9 -->\n",
       "<g class=\"node\" id=\"node10\">\n",
       "<title>9</title>\n",
       "<text fill=\"#004080\" font-family=\"Courier,monospace\" font-size=\"14.00\" font-weight=\"bold\" text-anchor=\"start\" x=\"298.5\" y=\"-87.3\">Num</text>\n",
       "</g>\n",
       "<!-- 5&#45;&#45;9 -->\n",
       "<g class=\"edge\" id=\"edge9\">\n",
       "<title>5--9</title>\n",
       "<path d=\"M234,-144C234,-144 262.593,-123.9478 284.9313,-108.2819\" fill=\"none\" stroke=\"#000000\"/>\n",
       "</g>\n",
       "<!-- 7 -->\n",
       "<g class=\"node\" id=\"node8\">\n",
       "<title>7</title>\n",
       "<text fill=\"#008040\" font-family=\"Courier,monospace\" font-size=\"14.00\" text-anchor=\"middle\" x=\"167\" y=\"-14.3\">&quot;x&quot;</text>\n",
       "</g>\n",
       "<!-- 6&#45;&#45;7 -->\n",
       "<g class=\"edge\" id=\"edge7\">\n",
       "<title>6--7</title>\n",
       "<path d=\"M222,-72C222,-72 201.5764,-51.9478 185.6205,-36.2819\" fill=\"none\" stroke=\"#000000\"/>\n",
       "</g>\n",
       "<!-- 8 -->\n",
       "<g class=\"node\" id=\"node9\">\n",
       "<title>8</title>\n",
       "<text fill=\"#008040\" font-family=\"Courier,monospace\" font-size=\"14.00\" text-anchor=\"middle\" x=\"241\" y=\"-14.3\">Store</text>\n",
       "</g>\n",
       "<!-- 6&#45;&#45;8 -->\n",
       "<g class=\"edge\" id=\"edge8\">\n",
       "<title>6--8</title>\n",
       "<path d=\"M222,-72C222,-72 229.0554,-51.9478 234.5675,-36.2819\" fill=\"none\" stroke=\"#000000\"/>\n",
       "</g>\n",
       "<!-- 10 -->\n",
       "<g class=\"node\" id=\"node11\">\n",
       "<title>10</title>\n",
       "<text fill=\"#008040\" font-family=\"Courier,monospace\" font-size=\"14.00\" text-anchor=\"middle\" x=\"315\" y=\"-14.3\">4</text>\n",
       "</g>\n",
       "<!-- 9&#45;&#45;10 -->\n",
       "<g class=\"edge\" id=\"edge10\">\n",
       "<title>9--10</title>\n",
       "<path d=\"M312.0094,-71.8314C312.6111,-61 313.3729,-47.2876 313.977,-36.4133\" fill=\"none\" stroke=\"#000000\"/>\n",
       "</g>\n",
       "</g>\n",
       "</svg>"
      ],
      "text/plain": [
       "<IPython.core.display.SVG object>"
      ]
     },
     "metadata": {},
     "output_type": "display_data"
    }
   ],
   "source": [
    "%%showast\n",
    "def bar(x):\n",
    "    x = 4"
   ]
  },
  {
   "cell_type": "code",
   "execution_count": 165,
   "metadata": {},
   "outputs": [
    {
     "name": "stdout",
     "output_type": "stream",
     "text": [
      "fuzby\n",
      "<_ast.Num object at 0x7f4d51dd5588>\n",
      "4\n",
      "<_ast.Num object at 0x7f4d51dd5588>\n"
     ]
    },
    {
     "data": {
      "text/html": [
       "4 &ge; 4"
      ],
      "text/plain": [
       "4 >= 4"
      ]
     },
     "execution_count": 165,
     "metadata": {},
     "output_type": "execute_result"
    }
   ],
   "source": [
    "\n",
    "x = Int(\"x\")\n",
    "class Visty3(ast.NodeVisitor):\n",
    "    def __init__(self, post):\n",
    "        self.wp = post\n",
    "    def generic_visit(self,node):\n",
    "        #print(node)\n",
    "        ast.NodeVisitor.generic_visit(self,node)\n",
    "        return self.wp #st.NodeVisitor.generic_visit(self,node))\n",
    "    def visit_FunctionDef(self,node):\n",
    "        for stmt in reversed(node.body):\n",
    "            #print(stmt)\n",
    "            ast.NodeVisitor.visit(self,stmt)\n",
    "    def visit_Assign(self,node):\n",
    "        print(\"fuzby\")\n",
    "        lhs = node.targets[0]\n",
    "        print(interp_expr(node.value))\n",
    "        self.wp = substitute(self.wp, (Int(lhs.id), interp_expr(node.value)))\n",
    "\n",
    "def bar(x):\n",
    "    x = 4\n",
    "\n",
    "\n",
    "        \n",
    "Visty3(x >= 4).visit(reflect(bar))\n",
    "# alternatively, we could trasnform all assignments and if then elses into something overloadable."
   ]
  },
  {
   "cell_type": "code",
   "execution_count": 124,
   "metadata": {},
   "outputs": [
    {
     "name": "stdout",
     "output_type": "stream",
     "text": [
      "foo\n",
      "<class '_ast.Module'>\n",
      "<class '_ast.FunctionDef'>\n",
      "<class '_ast.arguments'>\n",
      "<class '_ast.arg'>\n",
      "<class '_ast.Assign'>\n",
      "<class '_ast.Name'>\n",
      "<class '_ast.Store'>\n",
      "<class '_ast.Num'>\n",
      "<class '_ast.Assign'>\n",
      "<class '_ast.Name'>\n",
      "<class '_ast.Store'>\n",
      "<class '_ast.Num'>\n",
      "<class '_ast.Assign'>\n",
      "<class '_ast.Tuple'>\n",
      "<class '_ast.Name'>\n",
      "<class '_ast.Store'>\n",
      "<class '_ast.Name'>\n",
      "<class '_ast.Store'>\n",
      "<class '_ast.Store'>\n",
      "<class '_ast.Tuple'>\n",
      "<class '_ast.Num'>\n",
      "<class '_ast.Num'>\n",
      "<class '_ast.Load'>\n",
      "<class '_ast.Return'>\n",
      "<class '_ast.Name'>\n",
      "<class '_ast.Load'>\n",
      "<_ast.Module object at 0x7f4d5270a9b0>\n",
      "<_ast.FunctionDef object at 0x7f4d5270ada0>\n",
      "<_ast.arguments object at 0x7f4d5270aac8>\n",
      "<_ast.arg object at 0x7f4d5270a0f0>\n",
      "<_ast.Assign object at 0x7f4d5270ac18>\n",
      "<_ast.Name object at 0x7f4d5270af60>\n",
      "<_ast.Num object at 0x7f4d5270add8>\n",
      "<_ast.Assign object at 0x7f4d5270acf8>\n",
      "<_ast.Name object at 0x7f4d5270a828>\n",
      "<_ast.Num object at 0x7f4d5270acc0>\n",
      "<_ast.Assign object at 0x7f4d5270a208>\n",
      "<_ast.Tuple object at 0x7f4d5270a668>\n",
      "<_ast.Name object at 0x7f4d5270a470>\n",
      "<_ast.Name object at 0x7f4d5270a940>\n",
      "<_ast.Store object at 0x7f4d732492e8>\n",
      "<_ast.Tuple object at 0x7f4d5270a978>\n",
      "<_ast.Num object at 0x7f4d5270a2b0>\n",
      "<_ast.Num object at 0x7f4d5270af98>\n",
      "<_ast.Load object at 0x7f4d732491d0>\n",
      "<_ast.Return object at 0x7f4d5270ac88>\n",
      "<_ast.Name object at 0x7f4d5270a908>\n"
     ]
    },
    {
     "data": {
      "text/plain": [
       "5"
      ]
     },
     "execution_count": 124,
     "metadata": {},
     "output_type": "execute_result"
    }
   ],
   "source": [
    "class Visty(ast.NodeVisitor):\n",
    "    def visit_FunctionDef(self,node):\n",
    "        print(node.name)\n",
    "\n",
    "Visty().visit(reflect(foo))\n",
    "        \n",
    "class Visty2(ast.NodeVisitor):\n",
    "    def generic_visit(self,node):\n",
    "        print(type(node))\n",
    "        ast.NodeVisitor.generic_visit(self,node)\n",
    "Visty2().visit(reflect(foo))   \n",
    "\n",
    "class Visty3(ast.NodeVisitor):\n",
    "    def __init__(self):\n",
    "        self.acc = 0\n",
    "    def generic_visit(self,node):\n",
    "        print(node)\n",
    "        ast.NodeVisitor.generic_visit(self,node)\n",
    "        return self.acc #st.NodeVisitor.generic_visit(self,node))\n",
    "    def visit_Name(self,node):\n",
    "        print(node)\n",
    "        self.acc += 1\n",
    "        #ast.NodeVisitor.generic_visit(self,node)\n",
    "'''        return 1\n",
    "    def visit_Num(self,node):\n",
    "        return 0\n",
    "    def visit_Store(self,node):\n",
    "        return 0\n",
    "    def visit_arg(self,node):\n",
    "        return 0\n",
    "    def visit_arguments(self,node):\n",
    "        return 0\n",
    "    def visit_Return(self,node):\n",
    "        return 0\n",
    "        '''\n",
    "    \n",
    "Visty3().visit(reflect(foo))\n",
    "\n",
    "class Visty4(ast.NodeVisitor):\n",
    "    def generic_visit(self,node):\n",
    "        print(node)\n",
    "        ast.NodeVisitor.generic_visit(self,node)\n",
    "        return self.acc #st.NodeVisitor.generic_visit(self,node))\n",
    "    def visit_Name(self,node):\n",
    "        return 1\n",
    "        #ast.NodeVisitor.generic_visit(self,node)"
   ]
  },
  {
   "cell_type": "code",
   "execution_count": 108,
   "metadata": {},
   "outputs": [
    {
     "ename": "TypeError",
     "evalue": "'int' object is not iterable",
     "output_type": "error",
     "traceback": [
      "\u001b[0;31m---------------------------------------------------------------------------\u001b[0m",
      "\u001b[0;31mTypeError\u001b[0m                                 Traceback (most recent call last)",
      "\u001b[0;32m<ipython-input-108-de3cee8c674a>\u001b[0m in \u001b[0;36m<module>\u001b[0;34m\u001b[0m\n\u001b[0;32m----> 1\u001b[0;31m \u001b[0msum\u001b[0m\u001b[0;34m(\u001b[0m\u001b[0;36m0\u001b[0m\u001b[0;34m)\u001b[0m\u001b[0;34m\u001b[0m\u001b[0;34m\u001b[0m\u001b[0m\n\u001b[0m",
      "\u001b[0;31mTypeError\u001b[0m: 'int' object is not iterable"
     ]
    }
   ],
   "source": [
    "sum(0)"
   ]
  },
  {
   "cell_type": "code",
   "execution_count": null,
   "metadata": {},
   "outputs": [],
   "source": []
  },
  {
   "cell_type": "markdown",
   "metadata": {},
   "source": [
    "Joesette - Rosette bnut for julai\n",
    "\n",
    "So what is the specturm?\n",
    "Strongest Postcondition\n",
    "Weakest precondition\n",
    "Hoare style axiom schema\n",
    "Model Checking - TLA+ - every program counter replicates variables\n",
    "SSA style model checking\n",
    "\n",
    "https://homes.cs.washington.edu/~emina/media/cav19-tutorial/part2.pdf\n",
    "symbolic execution vs bounded model checking\n",
    "You could actually explore all paths in the program and hand them off as a conjunction to z3.\n",
    "It's a choice of where the search happens\n",
    "\n",
    "\"\n",
    "Control flow atumatoa\n",
    "vertices are entriues and exits of basic blocks. Joins and branches\n",
    "\n",
    "\n",
    "The is the CFG, which is small. Printable on your screen\n",
    "But there is also CFG x Statespace ~ Statespace if your consider the program counter to be part of the state\n",
    "This is very very large. Rdiciulously so\n",
    "Edges if execution path between  (x = 0, y = 2) - (x := x + 1) ----->  (x = 1, y = 2)\n",
    "\n",
    "Start with CFG/CFA. is error node even connected? Yes, probably. Ok. Let's refine the CFG to include some state\n",
    "Take a path that goes to error node.\n",
    "Take wp of this path. If SAT, done. Model is execution trace that reaches error node.\n",
    "If UNSAT, CFG is failing to capture something\n",
    "Take WP of each branch point starting from the top.\n",
    "Get the first UNSAT branch point\n",
    "Propagate this branching condition up using WP to each intermediate node.\n",
    "Split along path on this property. Each node along path splits into 2, true prop and false prop. Determine refined edges to/from these nodes using local smt query.\n",
    "\n",
    "rinse repeat.\n",
    "\"\n",
    "\n",
    "\n",
    "\n",
    "\n"
   ]
  },
  {
   "cell_type": "code",
   "execution_count": 79,
   "metadata": {},
   "outputs": [],
   "source": [
    "import showast"
   ]
  },
  {
   "cell_type": "code",
   "execution_count": 80,
   "metadata": {},
   "outputs": [
    {
     "data": {
      "image/svg+xml": [
       "<svg height=\"260pt\" viewBox=\"0.00 0.00 226.00 260.00\" width=\"226pt\" xmlns=\"http://www.w3.org/2000/svg\" xmlns:xlink=\"http://www.w3.org/1999/xlink\">\n",
       "<g class=\"graph\" id=\"graph0\" transform=\"scale(1 1) rotate(0) translate(4 256)\">\n",
       "<title>%3</title>\n",
       "<polygon fill=\"#ffffff\" points=\"-4,4 -4,-256 222,-256 222,4 -4,4\" stroke=\"transparent\"/>\n",
       "<!-- 0 -->\n",
       "<g class=\"node\" id=\"node1\">\n",
       "<title>0</title>\n",
       "<text fill=\"#004080\" font-family=\"Courier,monospace\" font-size=\"14.00\" font-weight=\"bold\" text-anchor=\"start\" x=\"138\" y=\"-231.3\">Expr</text>\n",
       "</g>\n",
       "<!-- 1 -->\n",
       "<g class=\"node\" id=\"node2\">\n",
       "<title>1</title>\n",
       "<text fill=\"#004080\" font-family=\"Courier,monospace\" font-size=\"14.00\" font-weight=\"bold\" text-anchor=\"start\" x=\"138\" y=\"-159.3\">Call</text>\n",
       "</g>\n",
       "<!-- 0&#45;&#45;1 -->\n",
       "<g class=\"edge\" id=\"edge1\">\n",
       "<title>0--1</title>\n",
       "<path d=\"M155,-215.8314C155,-205 155,-191.2876 155,-180.4133\" fill=\"none\" stroke=\"#000000\"/>\n",
       "</g>\n",
       "<!-- 2 -->\n",
       "<g class=\"node\" id=\"node3\">\n",
       "<title>2</title>\n",
       "<text fill=\"#004080\" font-family=\"Courier,monospace\" font-size=\"14.00\" font-weight=\"bold\" text-anchor=\"start\" x=\"102\" y=\"-87.3\">Name</text>\n",
       "</g>\n",
       "<!-- 1&#45;&#45;2 -->\n",
       "<g class=\"edge\" id=\"edge2\">\n",
       "<title>1--2</title>\n",
       "<path d=\"M155,-144C155,-144 141.6318,-123.9478 131.188,-108.2819\" fill=\"none\" stroke=\"#000000\"/>\n",
       "</g>\n",
       "<!-- 5 -->\n",
       "<g class=\"node\" id=\"node6\">\n",
       "<title>5</title>\n",
       "<text fill=\"#004080\" font-family=\"Courier,monospace\" font-size=\"14.00\" font-weight=\"bold\" text-anchor=\"start\" x=\"178.5\" y=\"-87.3\">Str</text>\n",
       "</g>\n",
       "<!-- 1&#45;&#45;5 -->\n",
       "<g class=\"edge\" id=\"edge5\">\n",
       "<title>1--5</title>\n",
       "<path d=\"M155,-144C155,-144 168.3682,-123.9478 178.812,-108.2819\" fill=\"none\" stroke=\"#000000\"/>\n",
       "</g>\n",
       "<!-- 3 -->\n",
       "<g class=\"node\" id=\"node4\">\n",
       "<title>3</title>\n",
       "<text fill=\"#008040\" font-family=\"Courier,monospace\" font-size=\"14.00\" text-anchor=\"middle\" x=\"37\" y=\"-14.3\">&quot;print&quot;</text>\n",
       "</g>\n",
       "<!-- 2&#45;&#45;3 -->\n",
       "<g class=\"edge\" id=\"edge3\">\n",
       "<title>2--3</title>\n",
       "<path d=\"M111,-72C111,-72 83.521,-51.9478 62.053,-36.2819\" fill=\"none\" stroke=\"#000000\"/>\n",
       "</g>\n",
       "<!-- 4 -->\n",
       "<g class=\"node\" id=\"node5\">\n",
       "<title>4</title>\n",
       "<text fill=\"#008040\" font-family=\"Courier,monospace\" font-size=\"14.00\" text-anchor=\"middle\" x=\"119\" y=\"-14.3\">Load</text>\n",
       "</g>\n",
       "<!-- 2&#45;&#45;4 -->\n",
       "<g class=\"edge\" id=\"edge4\">\n",
       "<title>2--4</title>\n",
       "<path d=\"M111,-72C111,-72 113.9707,-51.9478 116.2916,-36.2819\" fill=\"none\" stroke=\"#000000\"/>\n",
       "</g>\n",
       "<!-- 6 -->\n",
       "<g class=\"node\" id=\"node7\">\n",
       "<title>6</title>\n",
       "<text fill=\"#008040\" font-family=\"Courier,monospace\" font-size=\"14.00\" text-anchor=\"middle\" x=\"191\" y=\"-14.3\">&quot;hi&quot;</text>\n",
       "</g>\n",
       "<!-- 5&#45;&#45;6 -->\n",
       "<g class=\"edge\" id=\"edge6\">\n",
       "<title>5--6</title>\n",
       "<path d=\"M191,-71.8314C191,-61 191,-47.2876 191,-36.4133\" fill=\"none\" stroke=\"#000000\"/>\n",
       "</g>\n",
       "</g>\n",
       "</svg>"
      ],
      "text/plain": [
       "<IPython.core.display.SVG object>"
      ]
     },
     "metadata": {},
     "output_type": "display_data"
    }
   ],
   "source": [
    "%%showast\n",
    "print(\"hi\")"
   ]
  },
  {
   "cell_type": "code",
   "execution_count": 6,
   "metadata": {},
   "outputs": [
    {
     "name": "stdout",
     "output_type": "stream",
     "text": [
      "[a = Concat(Unit(4), Unit(5))]\n"
     ]
    }
   ],
   "source": [
    "IntSeq = SeqSort(IntSort())\n",
    "# https://theory.stanford.edu/~nikolaj/programmingz3.html#sec-sequences-and-strings\n",
    "\n",
    "# Unit, Select, Length, Empty, Concat, Nth, indexof,  #https://rise4fun.com/z3/tutorial/sequences\n",
    "#Unit(IntSeq)\n",
    "dir(Empty(IntSeq))\n",
    "a = Const(\"a\", IntSeq)\n",
    "a + a\n",
    "Concat(a,a)\n",
    "dir(a)\n",
    "solve(Length(a) == 2, a[0] == 4)\n",
    "#Unit(IntSeq) # crashing?\n",
    "\n",
    "# Or one can make a list\n",
    "#List(IntSort())\n",
    "\n",
    "List = Datatype(\"MyList\")\n",
    "List.declare(\"Nil\")\n",
    "List.declare(\"Cons\", (\"hd\", IntSort()), (\"tail\", List))\n",
    "List = List.create()"
   ]
  },
  {
   "cell_type": "code",
   "execution_count": 21,
   "metadata": {},
   "outputs": [
    {
     "name": "stdout",
     "output_type": "stream",
     "text": [
      "counterexample\n",
      "[x_2 = 1, x_4 = 2, x_1 = 0, x_3 = 1, x = 0]\n"
     ]
    }
   ],
   "source": [
    "# would it be better to turn x into a function of time step\n",
    "#x_fun = Function(str(x), IntSort(), x.sort())\n",
    "#always = Function(\"[]\", BoolSort(), BoolSort() )\n",
    "# I can't subsitute always though can i\n",
    "\n",
    "#diff(x)\n",
    "def eventually(p, n=20):\n",
    "    return Not(always(Not(p),n=n))\n",
    "\n",
    "init = x == 0\n",
    "nxt = Or(prime(x) == x + 1, prime(x) == x)\n",
    "spec = init & always(nxt, n = 5)\n",
    "\n",
    "prove(Implies(spec,  eventually(x > 2, n = 5) ))\n",
    "#Implies(spec,  eventually(x > 2, n = 4) )\n"
   ]
  },
  {
   "cell_type": "code",
   "execution_count": 55,
   "metadata": {},
   "outputs": [
    {
     "data": {
      "text/html": [
       "3&middot;y&middot;(y&middot;diff(x) + x&middot;diff(y)) + 3&middot;x&middot;y&middot;diff(y) + 8&middot;diff(x)"
      ],
      "text/plain": [
       "3*y*(y*diff(x) + x*diff(y)) + 3*x*y*diff(y) + 8*diff(x)"
      ]
     },
     "execution_count": 55,
     "metadata": {},
     "output_type": "execute_result"
    }
   ],
   "source": [
    "def diff(x):\n",
    "    #diff = Function(\"diff\", RealSort(), RealSort())\n",
    "    if x.decl().name() == \"+\":\n",
    "        (a,b) = x.children()\n",
    "        return diff(a) + diff(b)\n",
    "    elif x.decl().name() == \"*\": \n",
    "        (a,b) = x.children()\n",
    "        return diff(a) * b + a * diff(b)\n",
    "    elif x.decl().name() == \"/\": \n",
    "        (a,b) = x.children()\n",
    "        return diff(a) * b + a * diff(b)\n",
    "    elif is_const(x): \n",
    "          if x.decl().kind() == Z3_OP_UNINTERPRETED:\n",
    "                return Function(\"diff\", RealSort(), RealSort())(x)\n",
    "          else:\n",
    "                return 0\n",
    "    elif is_real(x):\n",
    "        return 0\n",
    "simplify(diff(x*y*y*3 + 8 * x))"
   ]
  },
  {
   "cell_type": "code",
   "execution_count": 59,
   "metadata": {},
   "outputs": [
    {
     "data": {
      "text/plain": [
       "['__add__',\n",
       " '__bool__',\n",
       " '__class__',\n",
       " '__copy__',\n",
       " '__deepcopy__',\n",
       " '__del__',\n",
       " '__delattr__',\n",
       " '__dict__',\n",
       " '__dir__',\n",
       " '__div__',\n",
       " '__doc__',\n",
       " '__eq__',\n",
       " '__format__',\n",
       " '__ge__',\n",
       " '__getattribute__',\n",
       " '__gt__',\n",
       " '__hash__',\n",
       " '__init__',\n",
       " '__init_subclass__',\n",
       " '__le__',\n",
       " '__lt__',\n",
       " '__mod__',\n",
       " '__module__',\n",
       " '__mul__',\n",
       " '__ne__',\n",
       " '__neg__',\n",
       " '__new__',\n",
       " '__nonzero__',\n",
       " '__pos__',\n",
       " '__pow__',\n",
       " '__radd__',\n",
       " '__rdiv__',\n",
       " '__reduce__',\n",
       " '__reduce_ex__',\n",
       " '__repr__',\n",
       " '__rmod__',\n",
       " '__rmul__',\n",
       " '__rpow__',\n",
       " '__rsub__',\n",
       " '__rtruediv__',\n",
       " '__setattr__',\n",
       " '__sizeof__',\n",
       " '__str__',\n",
       " '__sub__',\n",
       " '__subclasshook__',\n",
       " '__truediv__',\n",
       " '__weakref__',\n",
       " '_repr_html_',\n",
       " 'arg',\n",
       " 'as_ast',\n",
       " 'ast',\n",
       " 'children',\n",
       " 'ctx',\n",
       " 'ctx_ref',\n",
       " 'decl',\n",
       " 'eq',\n",
       " 'get_id',\n",
       " 'hash',\n",
       " 'is_int',\n",
       " 'is_real',\n",
       " 'num_args',\n",
       " 'params',\n",
       " 'sexpr',\n",
       " 'sort',\n",
       " 'sort_kind',\n",
       " 'translate',\n",
       " 'use_pp']"
      ]
     },
     "execution_count": 59,
     "metadata": {},
     "output_type": "execute_result"
    }
   ],
   "source": [
    "is_const(f(x))\n",
    "is_real(f(x))\n",
    "dir(f(x))"
   ]
  },
  {
   "cell_type": "code",
   "execution_count": 40,
   "metadata": {},
   "outputs": [
    {
     "data": {
      "text/plain": [
       "True"
      ]
     },
     "execution_count": 40,
     "metadata": {},
     "output_type": "execute_result"
    }
   ],
   "source": [
    "x, y = Reals(\"x y\")\n",
    "dir(x + y)\n",
    "(x / y).decl().name() == \"/\" "
   ]
  },
  {
   "cell_type": "code",
   "execution_count": 39,
   "metadata": {},
   "outputs": [
    {
     "data": {
      "text/plain": [
       "False"
      ]
     },
     "execution_count": 39,
     "metadata": {},
     "output_type": "execute_result"
    }
   ],
   "source": [
    "(x * y * y).children()\n",
    "f = Function(\"f\", RealSort(), RealSort())\n",
    "is_const(f(x))"
   ]
  },
  {
   "cell_type": "code",
   "execution_count": 48,
   "metadata": {},
   "outputs": [
    {
     "data": {
      "text/plain": [
       "True"
      ]
     },
     "execution_count": 48,
     "metadata": {},
     "output_type": "execute_result"
    }
   ],
   "source": [
    "is_real((3*x).children()[0])"
   ]
  },
  {
   "cell_type": "code",
   "execution_count": 35,
   "metadata": {},
   "outputs": [
    {
     "data": {
      "text/plain": [
       "['__add__',\n",
       " '__bool__',\n",
       " '__class__',\n",
       " '__copy__',\n",
       " '__deepcopy__',\n",
       " '__del__',\n",
       " '__delattr__',\n",
       " '__dict__',\n",
       " '__dir__',\n",
       " '__div__',\n",
       " '__doc__',\n",
       " '__eq__',\n",
       " '__format__',\n",
       " '__ge__',\n",
       " '__getattribute__',\n",
       " '__gt__',\n",
       " '__hash__',\n",
       " '__init__',\n",
       " '__init_subclass__',\n",
       " '__le__',\n",
       " '__lt__',\n",
       " '__mod__',\n",
       " '__module__',\n",
       " '__mul__',\n",
       " '__ne__',\n",
       " '__neg__',\n",
       " '__new__',\n",
       " '__nonzero__',\n",
       " '__pos__',\n",
       " '__pow__',\n",
       " '__radd__',\n",
       " '__rdiv__',\n",
       " '__reduce__',\n",
       " '__reduce_ex__',\n",
       " '__repr__',\n",
       " '__rmod__',\n",
       " '__rmul__',\n",
       " '__rpow__',\n",
       " '__rsub__',\n",
       " '__rtruediv__',\n",
       " '__setattr__',\n",
       " '__sizeof__',\n",
       " '__str__',\n",
       " '__sub__',\n",
       " '__subclasshook__',\n",
       " '__truediv__',\n",
       " '__weakref__',\n",
       " '_repr_html_',\n",
       " 'arg',\n",
       " 'as_ast',\n",
       " 'ast',\n",
       " 'children',\n",
       " 'ctx',\n",
       " 'ctx_ref',\n",
       " 'decl',\n",
       " 'eq',\n",
       " 'get_id',\n",
       " 'hash',\n",
       " 'is_int',\n",
       " 'is_real',\n",
       " 'num_args',\n",
       " 'params',\n",
       " 'sexpr',\n",
       " 'sort',\n",
       " 'sort_kind',\n",
       " 'translate',\n",
       " 'use_pp']"
      ]
     },
     "execution_count": 35,
     "metadata": {},
     "output_type": "execute_result"
    }
   ],
   "source": [
    "dir(x)"
   ]
  },
  {
   "cell_type": "code",
   "execution_count": null,
   "metadata": {},
   "outputs": [],
   "source": [
    "#FIFO\n",
    "\n"
   ]
  },
  {
   "cell_type": "markdown",
   "metadata": {},
   "source": [
    "Can i do platzers differnetial thingo?\n",
    "with uh gordon's thing?\n"
   ]
  },
  {
   "cell_type": "code",
   "execution_count": null,
   "metadata": {},
   "outputs": [],
   "source": [
    "def match(x,t,S):\n",
    "    "
   ]
  },
  {
   "cell_type": "code",
   "execution_count": 123,
   "metadata": {},
   "outputs": [
    {
     "data": {
      "image/png": "[encoded data removed]",
      "text/plain": [
       "<Figure size 432x288 with 1 Axes>"
      ]
     },
     "metadata": {},
     "output_type": "display_data"
    }
   ],
   "source": [
    "import networkx as nx\n",
    "import matplotlib.pyplot as plt\n",
    "G = nx.DiGraph()\n",
    "for d in m.decls():\n",
    "    if d.arity() > 0:\n",
    "        fmodel = m[d].as_list()\n",
    "        for entry in fmodel[:-1]:\n",
    "            G.add_edge(entry[-1], f)\n",
    "            for invar in entry[:-1]:\n",
    "                G.add_edge(f,invar)\n",
    "        for \n",
    "    else:\n",
    "        G.add_edge(m[d], d)\n",
    "nx.draw(G, with_labels=True)"
   ]
  },
  {
   "cell_type": "code",
   "execution_count": null,
   "metadata": {},
   "outputs": [],
   "source": []
  },
  {
   "cell_type": "code",
   "execution_count": 148,
   "metadata": {},
   "outputs": [
    {
     "data": {
      "text/html": [
       "[A!val!1 &rarr; A!val!2,\n",
       " A!val!2 &rarr; A!val!3,\n",
       " A!val!3 &rarr; A!val!4,\n",
       " A!val!4 &rarr; A!val!0,\n",
       " else &rarr; A!val!1]"
      ],
      "text/plain": [
       "[A!val!1 -> A!val!2,\n",
       " A!val!2 -> A!val!3,\n",
       " A!val!3 -> A!val!4,\n",
       " A!val!4 -> A!val!0,\n",
       " else -> A!val!1]"
      ]
     },
     "execution_count": 148,
     "metadata": {},
     "output_type": "execute_result"
    }
   ],
   "source": [
    "m[f]"
   ]
  },
  {
   "cell_type": "code",
   "execution_count": 147,
   "metadata": {},
   "outputs": [
    {
     "data": {
      "text/plain": [
       "[(A!val!4,), (A!val!1,), (A!val!3,), (A!val!0,), (A!val!2,)]"
      ]
     },
     "execution_count": 147,
     "metadata": {},
     "output_type": "execute_result"
    }
   ],
   "source": [
    "from itertools import product\n",
    "list(product(*[ m[f.domain(narg)] for narg in range(f.arity())  ]))"
   ]
  },
  {
   "cell_type": "code",
   "execution_count": 111,
   "metadata": {},
   "outputs": [
    {
     "data": {
      "text/plain": [
       "[{x: A!val!1}, {x: A!val!2}]"
      ]
     },
     "execution_count": 111,
     "metadata": {},
     "output_type": "execute_result"
    }
   ],
   "source": [
    "list(match_top(m, [x], f(f(f(x)))))"
   ]
  },
  {
   "cell_type": "code",
   "execution_count": 100,
   "metadata": {},
   "outputs": [
    {
     "name": "stdout",
     "output_type": "stream",
     "text": [
      "1\n"
     ]
    }
   ],
   "source": [
    "def myeg():\n",
    "    yield 1\n",
    "\n",
    "for i in myeg():\n",
    "    print(i)"
   ]
  },
  {
   "cell_type": "code",
   "execution_count": 97,
   "metadata": {},
   "outputs": [
    {
     "data": {
      "text/plain": [
       "[x]"
      ]
     },
     "execution_count": 97,
     "metadata": {},
     "output_type": "execute_result"
    }
   ],
   "source": [
    "A    = DeclareSort('A')\n",
    "x, y = Consts('x y', A)\n",
    "f    = Function('f', A, A)\n",
    "dir(f(x))\n",
    "f(x).children()"
   ]
  },
  {
   "cell_type": "markdown",
   "metadata": {},
   "source": [
    "unfortunately, if we have to do the matching ourselves, it feels like we aren't getting much out of z3.\n",
    "Well, we're getting an egraph.\n",
    "\n"
   ]
  },
  {
   "cell_type": "code",
   "execution_count": 98,
   "metadata": {},
   "outputs": [
    {
     "name": "stdout",
     "output_type": "stream",
     "text": [
      "<class 'z3.z3.FuncInterp'>\n",
      "A!val!0\n",
      "['__class__', '__copy__', '__deepcopy__', '__del__', '__delattr__', '__dict__', '__dir__', '__doc__', '__eq__', '__format__', '__ge__', '__getattribute__', '__gt__', '__hash__', '__init__', '__init_subclass__', '__le__', '__lt__', '__module__', '__ne__', '__new__', '__reduce__', '__reduce_ex__', '__repr__', '__setattr__', '__sizeof__', '__str__', '__subclasshook__', '__weakref__', '_repr_html_', 'arity', 'as_list', 'ctx', 'else_value', 'entry', 'f', 'num_entries', 'translate', 'use_pp']\n",
      "[[A!val!1, A!val!2], [A!val!2, A!val!3], [A!val!3, A!val!4], [A!val!4, A!val!0], A!val!1]\n"
     ]
    }
   ],
   "source": [
    "dir(m)\n",
    "m.decls()\n",
    "print(type(m[f]))\n",
    "print(m[x])\n",
    "type(m[x])\n",
    "print(dir(m[f]))\n",
    "print(m[f].as_list())\n"
   ]
  },
  {
   "cell_type": "markdown",
   "metadata": {},
   "source": [
    "I could reconstruct the graph, find patterns, instantiate them. That's a little ridiculous though\n",
    "\n",
    "The values in the model ~ equivalence classes of terms.\n",
    "We can build a reversal map\n",
    "\n",
    "\n",
    "\n",
    "unsat cores. Could i use this to find instantiations?\n",
    "\n",
    "refiy9ing into networkx\n",
    "\n",
    "\n",
    "\n"
   ]
  }
 ],
 "metadata": {
  "kernelspec": {
   "display_name": "Python 3",
   "language": "python",
   "name": "python3"
  },
  "language_info": {
   "codemirror_mode": {
    "name": "ipython",
    "version": 3
   },
   "file_extension": ".py",
   "mimetype": "text/x-python",
   "name": "python",
   "nbconvert_exporter": "python",
   "pygments_lexer": "ipython3",
   "version": "3.6.9"
  }
 },
 "nbformat": 4,
 "nbformat_minor": 4
}
