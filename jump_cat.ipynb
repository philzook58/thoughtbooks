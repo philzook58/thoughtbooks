{
 "cells": [
  {
   "cell_type": "markdown",
   "metadata": {},
   "source": [
    "\n",
    "Relations and categories, while not being synonymous, are linked together in my mind. Many of the interesting concrete examples of categories are relations and the canonical examples of categroical axiom sets.\n",
    "\n",
    "Examples of categories:\n",
    "- Groups\n",
    "- Monoids\n",
    "- Sets\n",
    "- Preorders\n",
    "- Lattices\n",
    "- Relations\n",
    "\n",
    "\n",
    "A relation is a set where some pieces of each element are dstinguished as \"input\" and \"output\".\n",
    "Functions are an important example of a relation where for every possible input there is exactly one output. Functions really do have an input/output character as the two ends of a function are not interchangable.\n",
    "Relations enrich the possibilites given by functions and give an algebraic closure to many of the questions one might ask.\n",
    "Not all functions are invertible back into functions. Like the square root, sometimes there might be mutiple values that map to the same spot.\n",
    "However, a relation always has a converse. In the case the particular relation is also an inverttible function, the converse is the inverse.\n",
    "Unlike functions, Relations can be partially defined on their domain.\n",
    "\n",
    "\n",
    "Very informally, in some areas, partially defined functions and multi valued functions might still be called functions, but here we're going to call these things relations.\n",
    "\n",
    "\n",
    "\n",
    "\n",
    "\n",
    "A finding a point in a composition of many relations can be thought of as a feasibility problem.\n",
    "\n",
    "\n",
    "\n",
    "The standard optimization framework has a little more to it though. It gives you the ability to add an objective function to minimize or maximize.\n",
    "These two capabilities are close to interchangable. If you set the objective function to 0, then an optimization problem becomes a feasibility problem. And you can use a sequence of feasiblity problem to find the extermal solution via binary search.\n",
    "\n",
    "\n",
    "Convex analysis has a notion of an operator.\n",
    "\n",
    "The is actually a very natural definition to me because it corresponds to the steepest dewscent approxiation of the more usual definition of a linear operator.\n",
    "Steepest descent is a method by which to approximate highly peaked and/or highly oscialltory integrals. The intergal is domoniated by it's value and beahvior in the area where it is most peaked or least oscillatory, so one yuou find these areas, you can exapnd a solvable approximation located at them. This approximation is usually a guassian integral. \n",
    "This procedure is the mathematical abstraction behind the connection between stastical mechanics and themodynamics, wave optics and geoemetrical optics, and classical mechanics and quantum mechanics. Quite a powerful little guy!\n",
    "One characterization of the central problem of statistical mechanics is to evaluate the integral that defines the partition function $latex Z = \\int dpdx e^{-\\beta H} = e^{\\beta F}$. These integrals are very hard in general.\n",
    "It is perhaps a little off the beaten path to consider the boundaries of a partition function as an operator, but you will find this soprt of thing in the transfer matrix method for example for solving an Ising model.\n",
    "\n",
    "\n",
    "One characterization of the central problem of quantum mechanics is to evaluate the path integral $latex \\int [Dx] e^{ \\frac{i}{\\hbar} S[x] }$. This can approximated by instead taking the extremal path of the exponents, which then becomes the classical principle of least action.\n",
    "\n",
    "\n",
    "\n",
    "\n",
    "\n",
    "\n",
    "\n",
    "A Cookbook for Categorfying DSLs\n",
    "\n",
    "\n",
    "\n",
    "\n",
    "\n",
    "\n",
    "\n",
    "\n",
    "\n",
    "\n"
   ]
  },
  {
   "cell_type": "code",
   "execution_count": 3,
   "metadata": {},
   "outputs": [
    {
     "name": "stderr",
     "output_type": "stream",
     "text": [
      "┌ Info: Precompiling JuMP [4076af6c-e467-56ae-b986-b466b2749572]\n",
      "└ @ Base loading.jl:1278\n"
     ]
    }
   ],
   "source": [
    "using JuMP"
   ]
  },
  {
   "cell_type": "code",
   "execution_count": 6,
   "metadata": {},
   "outputs": [
    {
     "name": "stderr",
     "output_type": "stream",
     "text": [
      "┌ Info: Precompiling GLPK [60bf3e95-4087-53dc-ae20-288a0d20c6a6]\n",
      "└ @ Base loading.jl:1278\n"
     ]
    }
   ],
   "source": [
    "using GLPK"
   ]
  },
  {
   "cell_type": "code",
   "execution_count": 7,
   "metadata": {},
   "outputs": [
    {
     "data": {
      "text/latex": [
       "$$ \\begin{alignat*}{1}\\text{feasibility}\\\\\n",
       "\\text{Subject to} \\quad\\end{alignat*}\n",
       " $$"
      ],
      "text/plain": [
       "A JuMP Model\n",
       "Feasibility problem with:\n",
       "Variables: 0\n",
       "Model mode: AUTOMATIC\n",
       "CachingOptimizer state: EMPTY_OPTIMIZER\n",
       "Solver name: GLPK"
      ]
     },
     "execution_count": 7,
     "metadata": {},
     "output_type": "execute_result"
    }
   ],
   "source": [
    "model = Model(GLPK.Optimizer)"
   ]
  },
  {
   "cell_type": "code",
   "execution_count": null,
   "metadata": {},
   "outputs": [],
   "source": [
    "optimize!(model)"
   ]
  },
  {
   "cell_type": "code",
   "execution_count": null,
   "metadata": {},
   "outputs": [],
   "source": [
    "@constraint(model, con, 1x + 5y <= 3)\n"
   ]
  },
  {
   "cell_type": "code",
   "execution_count": 11,
   "metadata": {},
   "outputs": [],
   "source": [
    "struct JuMPDomain\n",
    "    it\n",
    "end\n",
    "\n",
    "struct JuMPRelation\n",
    "    f\n",
    "    dom::JuMPDomain\n",
    "    codom::JuMPDomain\n",
    "end\n",
    "\n"
   ]
  },
  {
   "cell_type": "code",
   "execution_count": 13,
   "metadata": {},
   "outputs": [],
   "source": [
    "using Catlab\n",
    "using Catlab.Theories"
   ]
  },
  {
   "cell_type": "code",
   "execution_count": 32,
   "metadata": {},
   "outputs": [],
   "source": [
    "@instance Category{JuMPDomain, JuMPRelation} begin\n",
    "  dom(M::JuMPRelation) = M.dom\n",
    "  codom(M::JuMPRelation) = M.codom\n",
    "\n",
    "  id(m::JuMPDomain) = JuMPRelation(model -> begin\n",
    "         x = @variable(model,[1:m.it])\n",
    "         (x, x)\n",
    "         end, m, m)\n",
    "  compose(M::JuMPRelation, N::JuMPRelation) =\n",
    "     JuMPRelation( model -> begin \n",
    "                            (x,y) = M.f(model)\n",
    "                            (y1, z) = N.f(model)\n",
    "                            @constraint(model,  y1 .== y)\n",
    "                            (x,z)\n",
    "        end\n",
    "                        ,  M.dom, N.codom)\n",
    "end"
   ]
  },
  {
   "cell_type": "code",
   "execution_count": 36,
   "metadata": {},
   "outputs": [
    {
     "data": {
      "text/plain": [
       "(VariableRef[noname], VariableRef[noname])"
      ]
     },
     "execution_count": 36,
     "metadata": {},
     "output_type": "execute_result"
    }
   ],
   "source": [
    "f = compose(id(JuMPDomain(1)) , id(JuMPDomain(1)))\n",
    "f.f(model)"
   ]
  },
  {
   "cell_type": "code",
   "execution_count": 37,
   "metadata": {},
   "outputs": [
    {
     "ename": "LoadError",
     "evalue": "Method dom(::JuMPRelation) not implemented in mod instance",
     "output_type": "error",
     "traceback": [
      "Method dom(::JuMPRelation) not implemented in mod instance",
      "",
      "Stacktrace:",
      " [1] error(::String) at ./error.jl:33",
      " [2] instance_code(::Type{T} where T, ::Array{Symbol,1}, ::Array{Catlab.Meta.JuliaFunction,1}, ::Array{Symbol,1}) at /home/philip/.julia/dev/Catlab/src/core/GAT.jl:568",
      " [3] top-level scope at In[37]:1",
      " [4] include_string(::Function, ::Module, ::String, ::String) at ./loading.jl:1091"
     ]
    }
   ],
   "source": [
    "@instance MonoidalCategory{JuMPDomain, JuMPRelation} begin\n",
    "  otimes(A::JuMPDomain, B::JuMPDomain) = JumpDomain(A.it + B.it)\n",
    "  otimes(f::JuMPRelation, g::JuMPRelation) = JumpRelation(\n",
    "     model -> begin\n",
    "            (x,y) = f.f(model)\n",
    "            (a,b) = g.f(model)\n",
    "            ( vcat([x,a]), vcat([y,b])  )\n",
    "        end\n",
    "    , otimes(f.dom , g.dom  ) , otimes(f.codom, g.codom)\n",
    "       )\n",
    "   #munit() ??? model -> \n",
    "   braid(A::JuMPDomain, B::JuMPDomain) = JumpRelation(\n",
    "     model -> begin  \n",
    "        x = @variable(model,[1:A.it])\n",
    "        y = @variable(model,[1:B.it])\n",
    "        (vcat(x,y), vcat(y,x))\n",
    "        end\n",
    "       otimes(A,B), otimes(B,A) )\n",
    "    \n",
    "   \n",
    "\n",
    "\n",
    "end"
   ]
  },
  {
   "cell_type": "code",
   "execution_count": 9,
   "metadata": {},
   "outputs": [
    {
     "data": {
      "text/plain": [
       "#1 (generic function with 1 method)"
      ]
     },
     "execution_count": 9,
     "metadata": {},
     "output_type": "execute_result"
    }
   ],
   "source": [
    "model -> begin \n",
    "     @variable(model, x)\n",
    "     (x, x)\n",
    "     end\n",
    "\n",
    "model -> begin\n",
    "         @variable(model,x)\n",
    "         (x, (x, x))\n",
    "         end\n",
    "    \n",
    "# hmm. It's mutational. That's fine.\n",
    "    \n",
    "model = Model(GLPK.Optimizer)\n",
    "\n",
    "\n",
    "    \n",
    "    "
   ]
  },
  {
   "cell_type": "code",
   "execution_count": null,
   "metadata": {},
   "outputs": [],
   "source": []
  }
 ],
 "metadata": {
  "kernelspec": {
   "display_name": "Julia 1.5.0",
   "language": "julia",
   "name": "julia-1.5"
  },
  "language_info": {
   "file_extension": ".jl",
   "mimetype": "application/julia",
   "name": "julia",
   "version": "1.5.0"
  }
 },
 "nbformat": 4,
 "nbformat_minor": 4
}
