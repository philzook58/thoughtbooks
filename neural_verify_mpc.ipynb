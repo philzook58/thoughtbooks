{
 "cells": [
  {
   "cell_type": "markdown",
   "metadata": {},
   "source": [
    "A mixed integer model predictive controller is very powerful\n",
    "It is also slow though.\n",
    "\n",
    "However, we can use it as a spec for an optimal controller.\n",
    "\n",
    "mixed integer programming\n",
    "\n",
    "neural netowkrs can also be encoded as mixed integer linear programs\n",
    "Essentially Relu neural netowkrs with fixed paratmers dfine a piecewise linear function when all is said and done\n",
    "\n",
    "The neural netowkr leaves no choices\n",
    "The maximization of the \n",
    "\n",
    "max r_mpc - r_nn\n",
    "\n",
    "\n",
    "This returns the worst difference.\n",
    "\n",
    "\n",
    "max_x0, min_params r_mps - r_nn\n",
    "\n",
    "\n",
    "question: ok but what about the gap between the mixed integer formulation of the problem and a general nonlinear fromulation\n",
    "Then there is also the gap between the \n",
    "\n",
    "\n",
    "It may be better to directly model the dynamics as a mixed integer program rather than the two step process.\n",
    "\n",
    "\n"
   ]
  },
  {
   "cell_type": "code",
   "execution_count": 1,
   "metadata": {},
   "outputs": [
    {
     "ename": "LoadError",
     "evalue": "ArgumentError: Package PiecewiseLinearOpt not found in current path:\n- Run `import Pkg; Pkg.add(\"PiecewiseLinearOpt\")` to install the PiecewiseLinearOpt package.\n",
     "output_type": "error",
     "traceback": [
      "ArgumentError: Package PiecewiseLinearOpt not found in current path:\n- Run `import Pkg; Pkg.add(\"PiecewiseLinearOpt\")` to install the PiecewiseLinearOpt package.\n",
      "",
      "Stacktrace:",
      " [1] require(::Module, ::Symbol) at ./loading.jl:893",
      " [2] include_string(::Function, ::Module, ::String, ::String) at ./loading.jl:1091"
     ]
    }
   ],
   "source": [
    "using PiecewiseLinearOpt"
   ]
  },
  {
   "cell_type": "code",
   "execution_count": 2,
   "metadata": {},
   "outputs": [
    {
     "name": "stderr",
     "output_type": "stream",
     "text": [
      "\u001b[32m\u001b[1m   Updating\u001b[22m\u001b[39m registry at `~/.julia/registries/General`\n"
     ]
    },
    {
     "name": "stdout",
     "output_type": "stream",
     "text": [
      "\u001b[?25l    "
     ]
    },
    {
     "name": "stderr",
     "output_type": "stream",
     "text": [
      "\u001b[32m\u001b[1m   Updating\u001b[22m\u001b[39m git-repo `https://github.com/JuliaRegistries/General.git`\n"
     ]
    },
    {
     "name": "stdout",
     "output_type": "stream",
     "text": [
      "\u001b[2K\u001b[?25h[1mFetching:\u001b[22m\u001b[39m [========================================>]  100.0 %2.4 %>                              ]  24.7 %>                    ]  49.4 % [=========================>               ]  61.8 %74.0 %>     ]  86.4 %>]  99.9 %"
     ]
    },
    {
     "name": "stderr",
     "output_type": "stream",
     "text": [
      "\u001b[32m\u001b[1m  Resolving\u001b[22m\u001b[39m package versions...\n",
      "\u001b[32m\u001b[1m  Installed\u001b[22m\u001b[39m PiecewiseLinearOpt ─ v0.3.0\n",
      "\u001b[32m\u001b[1mUpdating\u001b[22m\u001b[39m `~/.julia/environments/v1.5/Project.toml`\n",
      " \u001b[90m [0f51c51e] \u001b[39m\u001b[92m+ PiecewiseLinearOpt v0.3.0\u001b[39m\n",
      "\u001b[32m\u001b[1mUpdating\u001b[22m\u001b[39m `~/.julia/environments/v1.5/Manifest.toml`\n",
      " \u001b[90m [0f51c51e] \u001b[39m\u001b[92m+ PiecewiseLinearOpt v0.3.0\u001b[39m\n"
     ]
    }
   ],
   "source": [
    "import Pkg; Pkg.add(\"PiecewiseLinearOpt\")"
   ]
  },
  {
   "cell_type": "code",
   "execution_count": null,
   "metadata": {},
   "outputs": [],
   "source": []
  }
 ],
 "metadata": {
  "kernelspec": {
   "display_name": "Julia 1.5.0",
   "language": "julia",
   "name": "julia-1.5"
  },
  "language_info": {
   "file_extension": ".jl",
   "mimetype": "application/julia",
   "name": "julia",
   "version": "1.5.0"
  }
 },
 "nbformat": 4,
 "nbformat_minor": 4
}
