{
 "cells": [
  {
   "cell_type": "markdown",
   "metadata": {},
   "source": [
    "\n",
    "The finite yoneda  lemma\n",
    "\n",
    "\n",
    "A functor is a mappiong between categories\n",
    "It is the bdunling of a map of objects to objects and morphisms to morphisms such that composition and identity play nice.\n",
    "\n",
    "\n",
    "The Yoneda lemma states that Hom set of Natural transformations Nat(a -> -, F) is isomorphic to the set (F a)\n",
    "\n",
    "\n",
    "\n",
    "A natural relative of Set (objects are sets, morphisms are functions between sets) that comes up is the category of computer functions where objects are types and morphsisms are functions between those types.\n",
    "\n",
    "Unfortunately this category is not pure clean data.\n",
    "\n",
    "\n",
    "Other alternatives include formula of sets expressed in some kind of logic, or computer functions where you can see the syntax. In this case the morphisms may well be data. \n",
    "\n",
    "\n",
    ":(x -> x)\n",
    ":(x -> 4 * 3; x) \n",
    "\n",
    "\n",
    "However, FinSet is representable as data.\n",
    "\n",
    "\n",
    "Functors between even categories that are data are difficult to describe as data. The data in the categories may be \n",
    "\n",
    "\n",
    "So we have to deal with subcategories of Nat or Cat.\n",
    "\n",
    "\n",
    "A functor between a finite category and FinSet is representable in FinSet\n",
    "\n",
    "\n",
    "\n",
    "2Vect is one example\n",
    "\n",
    "\n",
    "\n"
   ]
  }
 ],
 "metadata": {
  "kernelspec": {
   "display_name": "Julia 1.5.0",
   "language": "julia",
   "name": "julia-1.5"
  },
  "language_info": {
   "file_extension": ".jl",
   "mimetype": "application/julia",
   "name": "julia",
   "version": "1.5.0"
  }
 },
 "nbformat": 4,
 "nbformat_minor": 4
}
