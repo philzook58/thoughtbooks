{
 "cells": [
  {
   "cell_type": "code",
   "execution_count": 1,
   "metadata": {},
   "outputs": [
    {
     "name": "stdout",
     "output_type": "stream",
     "text": [
      "\n",
      "Welcome to Nemo version 0.17.0\n",
      "\n",
      "Nemo comes with absolutely no warranty whatsoever\n",
      "\n"
     ]
    }
   ],
   "source": [
    "using Singular\n",
    "using Revise"
   ]
  },
  {
   "cell_type": "code",
   "execution_count": 6,
   "metadata": {},
   "outputs": [
    {
     "name": "stderr",
     "output_type": "stream",
     "text": [
      "WARNING: replacing module Experiment.\n"
     ]
    },
    {
     "data": {
      "text/plain": [
       "Main.Experiment"
      ]
     },
     "execution_count": 6,
     "metadata": {},
     "output_type": "execute_result"
    }
   ],
   "source": [
    "module Experiment\n",
    "    struct Foo\n",
    "            bar :: Int\n",
    "    end\n",
    "end"
   ]
  },
  {
   "cell_type": "code",
   "execution_count": 8,
   "metadata": {},
   "outputs": [
    {
     "data": {
      "text/plain": [
       "Main.Experiment.Foo(3)"
      ]
     },
     "execution_count": 8,
     "metadata": {},
     "output_type": "execute_result"
    }
   ],
   "source": [
    "Experiment.Foo(3)"
   ]
  },
  {
   "cell_type": "code",
   "execution_count": 7,
   "metadata": {},
   "outputs": [
    {
     "data": {
      "text/plain": [
       "(Singular Polynomial Ring (QQ),(x,y),(dp(2),C), spoly{n_Q}[x, y])"
      ]
     },
     "execution_count": 7,
     "metadata": {},
     "output_type": "execute_result"
    }
   ],
   "source": [
    "R, (x, y) = PolynomialRing(QQ, [\"x\", \"y\"])"
   ]
  },
  {
   "cell_type": "code",
   "execution_count": 11,
   "metadata": {},
   "outputs": [
    {
     "data": {
      "text/plain": [
       "x^2+1"
      ]
     },
     "execution_count": 11,
     "metadata": {},
     "output_type": "execute_result"
    }
   ],
   "source": [
    "x^2 + 1"
   ]
  },
  {
   "cell_type": "code",
   "execution_count": 14,
   "metadata": {},
   "outputs": [
    {
     "data": {
      "text/plain": [
       "Singular Ideal over Singular Polynomial Ring (QQ),(x,y),(dp(2),C) with generators (x^2+1, x*y+1)"
      ]
     },
     "execution_count": 14,
     "metadata": {},
     "output_type": "execute_result"
    }
   ],
   "source": [
    "I = Ideal(R, x^2 +1, x*y + 1)"
   ]
  },
  {
   "cell_type": "code",
   "execution_count": 22,
   "metadata": {},
   "outputs": [
    {
     "data": {
      "text/plain": [
       "Singular Module over Singular Polynomial Ring (QQ),(x,y),(dp(2),C), with Generators:\n",
       "-y^2*gen(1)+x*gen(2)-y*gen(2)-gen(1)"
      ]
     },
     "execution_count": 22,
     "metadata": {},
     "output_type": "execute_result"
    }
   ],
   "source": [
    "G = std(I)\n",
    "Z = syz(G)\n",
    "F = fres(G,0)\n",
    "F[1]\n",
    "F[2]\n"
   ]
  },
  {
   "cell_type": "code",
   "execution_count": 23,
   "metadata": {},
   "outputs": [
    {
     "data": {
      "text/plain": [
       "Singular Polynomial Ring (ZZ),(x1,x2,x3,x4,x5),(Dp(5),C)"
      ]
     },
     "execution_count": 23,
     "metadata": {},
     "output_type": "execute_result"
    }
   ],
   "source": [
    "S = @PolynomialRing(ZZ, \"x\", 5, :deglex) # make a 5 variable polynomial"
   ]
  },
  {
   "cell_type": "code",
   "execution_count": 37,
   "metadata": {},
   "outputs": [
    {
     "name": "stdout",
     "output_type": "stream",
     "text": [
      "Singular Module over Singular Polynomial Ring (QQ),(x,y),(dp(2),C), with Generators:\n",
      "x^2*y*gen(2)-y^2*gen(1)+2*y*gen(2)+gen(2)-gen(1)\n",
      "[0]\n",
      "[-y^2-1\n",
      "x^2*y+2*y+1]\n"
     ]
    }
   ],
   "source": [
    "R, (x, y) = PolynomialRing(QQ, [\"x\", \"y\"])\n",
    "\n",
    "I = Ideal(R, x^2*y + 2y + 1, y^2 + 1)\n",
    "\n",
    "F = syz(I)\n",
    "\n",
    "M = Singular.Matrix(I)\n",
    "N = Singular.Matrix(F)\n",
    "println(F)\n",
    "println(M * N)\n",
    "println(N)"
   ]
  },
  {
   "cell_type": "code",
   "execution_count": 4,
   "metadata": {},
   "outputs": [
    {
     "data": {
      "text/plain": [
       "(Singular Polynomial Ring (QQ),(s),(dp(1),C), spoly{n_Q}[s])"
      ]
     },
     "execution_count": 4,
     "metadata": {},
     "output_type": "execute_result"
    }
   ],
   "source": [
    "R, (s,) = PolynomialRing(QQ, [\"s\"])"
   ]
  },
  {
   "cell_type": "code",
   "execution_count": 6,
   "metadata": {},
   "outputs": [
    {
     "ename": "MethodError",
     "evalue": "MethodError: no method matching +(::Array{spoly{n_Q},1}, ::Int64)\nClosest candidates are:\n  +(::Any, ::Any, !Matched::Any, !Matched::Any...) at operators.jl:529\n  +(!Matched::Complex{Bool}, ::Real) at complex.jl:297\n  +(!Matched::Missing, ::Number) at missing.jl:115\n  ...",
     "output_type": "error",
     "traceback": [
      "MethodError: no method matching +(::Array{spoly{n_Q},1}, ::Int64)\nClosest candidates are:\n  +(::Any, ::Any, !Matched::Any, !Matched::Any...) at operators.jl:529\n  +(!Matched::Complex{Bool}, ::Real) at complex.jl:297\n  +(!Matched::Missing, ::Number) at missing.jl:115\n  ...",
      "",
      "Stacktrace:",
      " [1] top-level scope at In[6]:1"
     ]
    }
   ],
   "source": [
    "x + 1"
   ]
  },
  {
   "cell_type": "code",
   "execution_count": 9,
   "metadata": {},
   "outputs": [
    {
     "data": {
      "text/plain": [
       "3"
      ]
     },
     "execution_count": 9,
     "metadata": {},
     "output_type": "execute_result"
    }
   ],
   "source": [
    "R, (x, y) = PolynomialRing(QQ, [\"x\", \"y\"])\n",
    "\n",
    "v1 = vector(R, x + 1, x*y + 1, y)\n",
    "v2 = vector(R, x^2 + 1, 2x + 3y, x)\n",
    "\n",
    "M = Singular.Module(R, v1, v2)\n",
    "rank(M)"
   ]
  },
  {
   "cell_type": "code",
   "execution_count": 10,
   "metadata": {},
   "outputs": [
    {
     "data": {
      "text/plain": [
       "Singular Module over Singular Polynomial Ring (QQ),(x,y),(dp(2),C), with Generators:\n",
       "x*y*gen(2)+x*gen(1)+y*gen(3)+gen(2)+gen(1)\n",
       "x^2*gen(1)+x*gen(3)+2*x*gen(2)+3*y*gen(2)+gen(1)"
      ]
     },
     "execution_count": 10,
     "metadata": {},
     "output_type": "execute_result"
    }
   ],
   "source": [
    "M"
   ]
  },
  {
   "cell_type": "code",
   "execution_count": 12,
   "metadata": {},
   "outputs": [
    {
     "ename": "MethodError",
     "evalue": "MethodError: no method matching fieldnames(::smodule{spoly{n_Q}})\nClosest candidates are:\n  fieldnames(!Matched::Core.TypeofBottom) at reflection.jl:175\n  fieldnames(!Matched::Type{#s8} where #s8<:Tuple) at reflection.jl:177\n  fieldnames(!Matched::DataType) at reflection.jl:172\n  ...",
     "output_type": "error",
     "traceback": [
      "MethodError: no method matching fieldnames(::smodule{spoly{n_Q}})\nClosest candidates are:\n  fieldnames(!Matched::Core.TypeofBottom) at reflection.jl:175\n  fieldnames(!Matched::Type{#s8} where #s8<:Tuple) at reflection.jl:177\n  fieldnames(!Matched::DataType) at reflection.jl:172\n  ...",
      "",
      "Stacktrace:",
      " [1] top-level scope at In[12]:1"
     ]
    }
   ],
   "source": [
    "fieldnames(M)"
   ]
  },
  {
   "cell_type": "code",
   "execution_count": null,
   "metadata": {},
   "outputs": [],
   "source": []
  }
 ],
 "metadata": {
  "kernelspec": {
   "display_name": "Julia 1.4.1",
   "language": "julia",
   "name": "julia-1.4"
  },
  "language_info": {
   "file_extension": ".jl",
   "mimetype": "application/julia",
   "name": "julia",
   "version": "1.4.1"
  }
 },
 "nbformat": 4,
 "nbformat_minor": 4
}
