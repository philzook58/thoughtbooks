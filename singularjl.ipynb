{
 "cells": [
  {
   "cell_type": "code",
   "execution_count": 7,
   "metadata": {},
   "outputs": [],
   "source": [
    "using Singular\n",
    "#using Revise\n",
    "import Nemo"
   ]
  },
  {
   "cell_type": "code",
   "execution_count": 8,
   "metadata": {},
   "outputs": [
    {
     "data": {
      "text/plain": [
       "Complex Field with 64 bits of precision and error bounds"
      ]
     },
     "execution_count": 8,
     "metadata": {},
     "output_type": "execute_result"
    }
   ],
   "source": [
    "CC = Nemo.ComplexField(64)"
   ]
  },
  {
   "cell_type": "code",
   "execution_count": 15,
   "metadata": {},
   "outputs": [
    {
     "data": {
      "text/plain": [
       "0 + i*1.0000000000000000000"
      ]
     },
     "execution_count": 15,
     "metadata": {},
     "output_type": "execute_result"
    }
   ],
   "source": [
    "i = onei(CC)\n",
    "s*i"
   ]
  },
  {
   "cell_type": "code",
   "execution_count": 33,
   "metadata": {},
   "outputs": [
    {
     "data": {
      "text/plain": [
       "Singular Module over Singular Polynomial Ring (Coeffs(19)),(s),(dp(1),C), with Generators:\n",
       "0"
      ]
     },
     "execution_count": 33,
     "metadata": {},
     "output_type": "execute_result"
    }
   ],
   "source": [
    " P, (s,) = PolynomialRing(CC, [\"s\"])\n",
    "\n",
    "v1 = vector(P, s + 1, s*s + 1, s)\n",
    "v2 = vector(P, s^2 + 1, 2s + 3s, s)\n",
    "\n",
    "M = Singular.Module(P, v1, v2)\n",
    "G = std(M; complete_reduction=true)\n",
    "\n",
    "mysyz = syz(M)"
   ]
  },
  {
   "cell_type": "code",
   "execution_count": 37,
   "metadata": {},
   "outputs": [
    {
     "ename": "MethodError",
     "evalue": "MethodError: no method matching Singular.MatrixSpace(::Singular.PolyRing{Singular.n_unknown{acb}}, ::Int64, ::Int64)",
     "output_type": "error",
     "traceback": [
      "MethodError: no method matching Singular.MatrixSpace(::Singular.PolyRing{Singular.n_unknown{acb}}, ::Int64, ::Int64)",
      "",
      "Stacktrace:",
      " [1] top-level scope at In[37]:1"
     ]
    }
   ],
   "source": [
    "Singular.MatrixSpace(P,3,3)"
   ]
  },
  {
   "cell_type": "code",
   "execution_count": 29,
   "metadata": {},
   "outputs": [
    {
     "data": {
      "text/plain": [
       "s*gen(3)+s*gen(2)+s*gen(1)+gen(3)"
      ]
     },
     "execution_count": 29,
     "metadata": {},
     "output_type": "execute_result"
    }
   ],
   "source": [
    "vector(P, [s, s, 1 + s]...)"
   ]
  },
  {
   "cell_type": "code",
   "execution_count": 38,
   "metadata": {},
   "outputs": [
    {
     "ename": "MethodError",
     "evalue": "MethodError: no method matching vector(::Singular.PolyRing{Singular.n_unknown{acb}}, ::Int64, ::Int64, ::Int64, ::Int64)\nClosest candidates are:\n  vector(::Singular.PolyRing{T}, !Matched::spoly{T}...) where T<:RingElem at /home/philip/.julia/packages/Singular/GGfzi/src/module/vector.jl:229",
     "output_type": "error",
     "traceback": [
      "MethodError: no method matching vector(::Singular.PolyRing{Singular.n_unknown{acb}}, ::Int64, ::Int64, ::Int64, ::Int64)\nClosest candidates are:\n  vector(::Singular.PolyRing{T}, !Matched::spoly{T}...) where T<:RingElem at /home/philip/.julia/packages/Singular/GGfzi/src/module/vector.jl:229",
      "",
      "Stacktrace:",
      " [1] top-level scope at In[38]:1"
     ]
    }
   ],
   "source": [
    "v1 = vector(P, 1, 0, 0, 0)\n",
    "i1 = vector(P, 0, 1, 0 ,0)\n",
    "v2 = vector(P, 0, 0, 1, 0)\n",
    "i2 = vector(P, 0, 0, 0 ,1)\n",
    "\n",
    "\n"
   ]
  },
  {
   "cell_type": "code",
   "execution_count": 47,
   "metadata": {},
   "outputs": [
    {
     "data": {
      "text/plain": [
       "(0 + i*10.000000000000000000)*s*gen(3)+(-1.0000000000000000000 + i*0)*gen(4)+gen(2)"
      ]
     },
     "execution_count": 47,
     "metadata": {},
     "output_type": "execute_result"
    }
   ],
   "source": [
    "M = Singular.FreeModule(P, 4)\n",
    "v1 = M([P(1), P(0), P(0),P(0)])\n",
    "i1 = M([P(0), P(1), P(0),P(0)])\n",
    "v2 = M([P(0), P(0), P(1),P(0)])\n",
    "i2 = M([P(0), P(0), P(0),P(1)])\n",
    "\n",
    "e1 = (v1 - v2) + 10 * i1 # current through resistor\n",
    "e2 = 10i * s * v2 +  (i1 - i2)  # current conservation + capacitor.\n"
   ]
  },
  {
   "cell_type": "code",
   "execution_count": 53,
   "metadata": {},
   "outputs": [
    {
     "data": {
      "text/plain": [
       "(0 + i*10.000000000000000000)*s*gen(3)+(-1.0000000000000000000 + i*0)*gen(4)+gen(2)"
      ]
     },
     "execution_count": 53,
     "metadata": {},
     "output_type": "execute_result"
    }
   ],
   "source": [
    "v1,i1,v2,i2 = gens(M)\n",
    "e1 = (v1 - v2) + 10 * i1 # current through resistor\n",
    "e2 = 10i * s * v2 +  (i1 - i2)  # current conservation + capacitor.\n",
    "G = Singular.Module(P,e1,e2)\n",
    "syz(G) # no I need teh syzygies of the transpose of this matrix."
   ]
  },
  {
   "cell_type": "code",
   "execution_count": 88,
   "metadata": {},
   "outputs": [
    {
     "data": {
      "text/plain": [
       "2×4 LinearAlgebra.Transpose{spoly{Singular.n_unknown{acb}},Array{spoly{Singular.n_unknown{acb}},2}}:\n",
       " (1.0000000000000000000 + i*0)  …  0\n",
       " 0                                 (-1.0000000000000000000 + i*0)"
      ]
     },
     "execution_count": 88,
     "metadata": {},
     "output_type": "execute_result"
    }
   ],
   "source": [
    "transpose(hcat([Array(G[i]) for i in 1:Singular.ngens(G)]...))"
   ]
  },
  {
   "cell_type": "code",
   "execution_count": 107,
   "metadata": {},
   "outputs": [
    {
     "data": {
      "text/plain": [
       "[(-10.000000000000000000 + i*0), (-10.000000000000000000 + i*0)*s+(0 + i*[0.100000000000000000 +/- 1.22e-20])\n",
       "(1.0000000000000000000 + i*0), s\n",
       "0, (0 + i*[0.100000000000000000 +/- 1.22e-20])\n",
       "(1.0000000000000000000 + i*0), 0]"
      ]
     },
     "execution_count": 107,
     "metadata": {},
     "output_type": "execute_result"
    }
   ],
   "source": [
    "G2 = Singular.Matrix(G)\n",
    "M2 = Singular.Module(P, [  vector(P, [ G2[i,j] for j in 1:Singular.ncols(G2) ]...)  for i in 1:Singular.nrows(G2) ]...)\n",
    "Singular.Matrix(syz(M2)) # I think these are the V-Rep of the currents and voltages"
   ]
  },
  {
   "cell_type": "code",
   "execution_count": 96,
   "metadata": {},
   "outputs": [
    {
     "data": {
      "text/plain": [
       "4"
      ]
     },
     "execution_count": 96,
     "metadata": {},
     "output_type": "execute_result"
    }
   ],
   "source": [
    "Singular.ncols())"
   ]
  },
  {
   "cell_type": "code",
   "execution_count": 87,
   "metadata": {},
   "outputs": [
    {
     "name": "stdout",
     "output_type": "stream",
     "text": [
      "search: \u001b[0m\u001b[1mt\u001b[22m\u001b[0m\u001b[1mr\u001b[22m\u001b[0m\u001b[1ma\u001b[22m\u001b[0m\u001b[1mn\u001b[22m\u001b[0m\u001b[1ms\u001b[22m\u001b[0m\u001b[1mp\u001b[22m\u001b[0m\u001b[1mo\u001b[22m\u001b[0m\u001b[1ms\u001b[22m\u001b[0m\u001b[1me\u001b[22m \u001b[0m\u001b[1mt\u001b[22m\u001b[0m\u001b[1mr\u001b[22m\u001b[0m\u001b[1ma\u001b[22m\u001b[0m\u001b[1mn\u001b[22m\u001b[0m\u001b[1ms\u001b[22m\u001b[0m\u001b[1mp\u001b[22m\u001b[0m\u001b[1mo\u001b[22m\u001b[0m\u001b[1ms\u001b[22m\u001b[0m\u001b[1me\u001b[22m! n_\u001b[0m\u001b[1mt\u001b[22m\u001b[0m\u001b[1mr\u001b[22m\u001b[0m\u001b[1ma\u001b[22m\u001b[0m\u001b[1mn\u001b[22m\u001b[0m\u001b[1ms\u001b[22mExt_to_s\u001b[0m\u001b[1mp\u001b[22m\u001b[0m\u001b[1mo\u001b[22mly\n",
      "\n"
     ]
    },
    {
     "data": {
      "text/latex": [
       "\\begin{verbatim}\n",
       "transpose(A)\n",
       "\\end{verbatim}\n",
       "Lazy transpose. Mutating the returned object should appropriately mutate \\texttt{A}. Often, but not always, yields \\texttt{Transpose(A)}, where \\texttt{Transpose} is a lazy transpose wrapper. Note that this operation is recursive.\n",
       "\n",
       "This operation is intended for linear algebra usage - for general data manipulation see \\href{@ref Base.permutedims}{\\texttt{permutedims}}, which is non-recursive.\n",
       "\n",
       "\\section{Examples}\n",
       "\\begin{verbatim}\n",
       "julia> A = [3+2im 9+2im; 8+7im  4+6im]\n",
       "2×2 Array{Complex{Int64},2}:\n",
       " 3+2im  9+2im\n",
       " 8+7im  4+6im\n",
       "\n",
       "julia> transpose(A)\n",
       "2×2 Transpose{Complex{Int64},Array{Complex{Int64},2}}:\n",
       " 3+2im  8+7im\n",
       " 9+2im  4+6im\n",
       "\\end{verbatim}\n",
       "\\rule{\\textwidth}{1pt}\n",
       "\\begin{verbatim}\n",
       "transpose(x::Mat)\n",
       "\\end{verbatim}\n",
       "\\begin{quote}\n",
       "Return the transpose of the given matrix.\n",
       "\n",
       "\\end{quote}\n",
       "\\rule{\\textwidth}{1pt}\n",
       "\\begin{verbatim}\n",
       "transpose(x::MatAlgElem{T}) where T <: RingElement\n",
       "\\end{verbatim}\n",
       "\\begin{quote}\n",
       "Return the transpose of the given matrix.\n",
       "\n",
       "\\end{quote}\n",
       "\\rule{\\textwidth}{1pt}\n",
       "transpose(M::smatrix\\{T\\}) where T <: AbstractAlgebra.RingElem\n",
       "\n",
       "\\begin{quote}\n",
       "Given a matrix $M=(m_{ij})_{i, j}$, return the matrix $M^T=(m_{ji})_{j, i}$.\n",
       "\n",
       "\\end{quote}\n"
      ],
      "text/markdown": [
       "```\n",
       "transpose(A)\n",
       "```\n",
       "\n",
       "Lazy transpose. Mutating the returned object should appropriately mutate `A`. Often, but not always, yields `Transpose(A)`, where `Transpose` is a lazy transpose wrapper. Note that this operation is recursive.\n",
       "\n",
       "This operation is intended for linear algebra usage - for general data manipulation see [`permutedims`](@ref Base.permutedims), which is non-recursive.\n",
       "\n",
       "# Examples\n",
       "\n",
       "```jldoctest\n",
       "julia> A = [3+2im 9+2im; 8+7im  4+6im]\n",
       "2×2 Array{Complex{Int64},2}:\n",
       " 3+2im  9+2im\n",
       " 8+7im  4+6im\n",
       "\n",
       "julia> transpose(A)\n",
       "2×2 Transpose{Complex{Int64},Array{Complex{Int64},2}}:\n",
       " 3+2im  8+7im\n",
       " 9+2im  4+6im\n",
       "```\n",
       "\n",
       "---\n",
       "\n",
       "```\n",
       "transpose(x::Mat)\n",
       "```\n",
       "\n",
       "> Return the transpose of the given matrix.\n",
       "\n",
       "\n",
       "---\n",
       "\n",
       "```\n",
       "transpose(x::MatAlgElem{T}) where T <: RingElement\n",
       "```\n",
       "\n",
       "> Return the transpose of the given matrix.\n",
       "\n",
       "\n",
       "---\n",
       "\n",
       "transpose(M::smatrix{T}) where T <: AbstractAlgebra.RingElem\n",
       "\n",
       "> Given a matrix $M=(m_{ij})_{i, j}$, return the matrix $M^T=(m_{ji})_{j, i}$.\n",
       "\n"
      ],
      "text/plain": [
       "\u001b[36m  transpose(A)\u001b[39m\n",
       "\n",
       "  Lazy transpose. Mutating the returned object should appropriately mutate \u001b[36mA\u001b[39m.\n",
       "  Often, but not always, yields \u001b[36mTranspose(A)\u001b[39m, where \u001b[36mTranspose\u001b[39m is a lazy\n",
       "  transpose wrapper. Note that this operation is recursive.\n",
       "\n",
       "  This operation is intended for linear algebra usage - for general data\n",
       "  manipulation see \u001b[36mpermutedims\u001b[39m, which is non-recursive.\n",
       "\n",
       "\u001b[1m  Examples\u001b[22m\n",
       "\u001b[1m  ≡≡≡≡≡≡≡≡≡≡\u001b[22m\n",
       "\n",
       "\u001b[36m  julia> A = [3+2im 9+2im; 8+7im  4+6im]\u001b[39m\n",
       "\u001b[36m  2×2 Array{Complex{Int64},2}:\u001b[39m\n",
       "\u001b[36m   3+2im  9+2im\u001b[39m\n",
       "\u001b[36m   8+7im  4+6im\u001b[39m\n",
       "\u001b[36m  \u001b[39m\n",
       "\u001b[36m  julia> transpose(A)\u001b[39m\n",
       "\u001b[36m  2×2 Transpose{Complex{Int64},Array{Complex{Int64},2}}:\u001b[39m\n",
       "\u001b[36m   3+2im  8+7im\u001b[39m\n",
       "\u001b[36m   9+2im  4+6im\u001b[39m\n",
       "\n",
       "  ────────────────────────────────────────────────────────────────────────────\n",
       "\n",
       "\u001b[36m  transpose(x::Mat)\u001b[39m\n",
       "\n",
       "  │  Return the transpose of the given matrix.\n",
       "\n",
       "  ────────────────────────────────────────────────────────────────────────────\n",
       "\n",
       "\u001b[36m  transpose(x::MatAlgElem{T}) where T <: RingElement\u001b[39m\n",
       "\n",
       "  │  Return the transpose of the given matrix.\n",
       "\n",
       "  ────────────────────────────────────────────────────────────────────────────\n",
       "\n",
       "  transpose(M::smatrix{T}) where T <: AbstractAlgebra.RingElem\n",
       "\n",
       "  │  Given a matrix \u001b[35mM=(m_{ij})_{i, j}\u001b[39m, return the matrix\n",
       "  │  \u001b[35mM^T=(m_{ji})_{j, i}\u001b[39m."
      ]
     },
     "execution_count": 87,
     "metadata": {},
     "output_type": "execute_result"
    }
   ],
   "source": [
    "?transpose"
   ]
  },
  {
   "cell_type": "code",
   "execution_count": 79,
   "metadata": {},
   "outputs": [
    {
     "data": {
      "text/plain": [
       "4"
      ]
     },
     "execution_count": 79,
     "metadata": {},
     "output_type": "execute_result"
    }
   ],
   "source": [
    "rank(G)"
   ]
  },
  {
   "cell_type": "code",
   "execution_count": 46,
   "metadata": {},
   "outputs": [
    {
     "data": {
      "text/plain": [
       "s"
      ]
     },
     "execution_count": 46,
     "metadata": {},
     "output_type": "execute_result"
    }
   ],
   "source": [
    "P(s) # so i should just map P over everything to be safe"
   ]
  },
  {
   "cell_type": "code",
   "execution_count": 66,
   "metadata": {},
   "outputs": [
    {
     "name": "stdout",
     "output_type": "stream",
     "text": [
      "search: \u001b[0m\u001b[1mM\u001b[22m\u001b[0m\u001b[1ma\u001b[22m\u001b[0m\u001b[1mt\u001b[22m\u001b[0m\u001b[1mr\u001b[22m\u001b[0m\u001b[1mi\u001b[22m\u001b[0m\u001b[1mx\u001b[22m \u001b[0m\u001b[1mm\u001b[22m\u001b[0m\u001b[1ma\u001b[22m\u001b[0m\u001b[1mt\u001b[22m\u001b[0m\u001b[1mr\u001b[22m\u001b[0m\u001b[1mi\u001b[22m\u001b[0m\u001b[1mx\u001b[22m \u001b[0m\u001b[1mM\u001b[22m\u001b[0m\u001b[1ma\u001b[22m\u001b[0m\u001b[1mt\u001b[22m\u001b[0m\u001b[1mr\u001b[22m\u001b[0m\u001b[1mi\u001b[22m\u001b[0m\u001b[1mx\u001b[22mElem \u001b[0m\u001b[1mM\u001b[22m\u001b[0m\u001b[1ma\u001b[22m\u001b[0m\u001b[1mt\u001b[22m\u001b[0m\u001b[1mr\u001b[22m\u001b[0m\u001b[1mi\u001b[22m\u001b[0m\u001b[1mx\u001b[22mSpace \u001b[0m\u001b[1mm\u001b[22m\u001b[0m\u001b[1ma\u001b[22m\u001b[0m\u001b[1mt\u001b[22m\u001b[0m\u001b[1mr\u001b[22m\u001b[0m\u001b[1mi\u001b[22m\u001b[0m\u001b[1mx\u001b[22m_repr \u001b[0m\u001b[1mM\u001b[22m\u001b[0m\u001b[1ma\u001b[22m\u001b[0m\u001b[1mt\u001b[22m\u001b[0m\u001b[1mr\u001b[22m\u001b[0m\u001b[1mi\u001b[22m\u001b[0m\u001b[1mx\u001b[22mAlgebra s\u001b[0m\u001b[1mm\u001b[22m\u001b[0m\u001b[1ma\u001b[22m\u001b[0m\u001b[1mt\u001b[22m\u001b[0m\u001b[1mr\u001b[22m\u001b[0m\u001b[1mi\u001b[22m\u001b[0m\u001b[1mx\u001b[22m\n",
      "\n"
     ]
    },
    {
     "data": {
      "text/latex": [
       "\\begin{verbatim}\n",
       "Matrix{T} <: AbstractMatrix{T}\n",
       "\\end{verbatim}\n",
       "Two-dimensional dense array with elements of type \\texttt{T}, often used to represent a mathematical matrix. Alias for \\href{@ref}{\\texttt{Array\\{T,2\\}}}.\n",
       "\n",
       "\\rule{\\textwidth}{1pt}\n",
       "\\begin{verbatim}\n",
       "Matrix{T}(undef, m, n)\n",
       "\\end{verbatim}\n",
       "Construct an uninitialized \\href{@ref}{\\texttt{Matrix\\{T\\}}} of size \\texttt{m}×\\texttt{n}. See \\href{@ref}{\\texttt{undef}}.\n",
       "\n",
       "\\section{Examples}\n",
       "\\begin{verbatim}\n",
       "julia> Matrix{Float64}(undef, 2, 3)\n",
       "2×3 Array{Float64,2}:\n",
       " 6.93517e-310  6.93517e-310  6.93517e-310\n",
       " 6.93517e-310  6.93517e-310  1.29396e-320\n",
       "\\end{verbatim}\n",
       "\\rule{\\textwidth}{1pt}\n",
       "\\begin{verbatim}\n",
       "Matrix{T}(nothing, m, n)\n",
       "\\end{verbatim}\n",
       "Construct a \\href{@ref}{\\texttt{Matrix\\{T\\}}} of size \\texttt{m}×\\texttt{n}, initialized with \\href{@ref}{\\texttt{nothing}} entries. Element type \\texttt{T} must be able to hold these values, i.e. \\texttt{Nothing <: T}.\n",
       "\n",
       "\\section{Examples}\n",
       "\\begin{verbatim}\n",
       "julia> Matrix{Union{Nothing, String}}(nothing, 2, 3)\n",
       "2×3 Array{Union{Nothing, String},2}:\n",
       " nothing  nothing  nothing\n",
       " nothing  nothing  nothing\n",
       "\\end{verbatim}\n",
       "\\rule{\\textwidth}{1pt}\n",
       "\\begin{verbatim}\n",
       "Matrix{T}(missing, m, n)\n",
       "\\end{verbatim}\n",
       "Construct a \\href{@ref}{\\texttt{Matrix\\{T\\}}} of size \\texttt{m}×\\texttt{n}, initialized with \\href{@ref}{\\texttt{missing}} entries. Element type \\texttt{T} must be able to hold these values, i.e. \\texttt{Missing <: T}.\n",
       "\n",
       "\\section{Examples}\n",
       "\\begin{verbatim}\n",
       "julia> Matrix{Union{Missing, String}}(missing, 2, 3)\n",
       "2×3 Array{Union{Missing, String},2}:\n",
       " missing  missing  missing\n",
       " missing  missing  missing\n",
       "\\end{verbatim}\n",
       "\\rule{\\textwidth}{1pt}\n",
       "\\begin{verbatim}\n",
       "Matrix(A::MatrixElem)\n",
       "\\end{verbatim}\n",
       "\\begin{quote}\n",
       "Convert \\texttt{A} to a Julia \\texttt{Matrix} of the same dimensions with the same elements.\n",
       "\n",
       "\\end{quote}\n",
       "\\section{Examples}\n",
       "\\begin{verbatim}\n",
       "julia> A = ZZ[1 2 3; 4 5 6]\n",
       "[1  2  3]\n",
       "[4  5  6]\n",
       "\n",
       "julia> Matrix(A)\n",
       "2×3 Array{BigInt,2}:\n",
       " 1  2  3\n",
       " 4  5  6\n",
       "\\end{verbatim}\n"
      ],
      "text/markdown": [
       "```\n",
       "Matrix{T} <: AbstractMatrix{T}\n",
       "```\n",
       "\n",
       "Two-dimensional dense array with elements of type `T`, often used to represent a mathematical matrix. Alias for [`Array{T,2}`](@ref).\n",
       "\n",
       "---\n",
       "\n",
       "```\n",
       "Matrix{T}(undef, m, n)\n",
       "```\n",
       "\n",
       "Construct an uninitialized [`Matrix{T}`](@ref) of size `m`×`n`. See [`undef`](@ref).\n",
       "\n",
       "# Examples\n",
       "\n",
       "```julia-repl\n",
       "julia> Matrix{Float64}(undef, 2, 3)\n",
       "2×3 Array{Float64,2}:\n",
       " 6.93517e-310  6.93517e-310  6.93517e-310\n",
       " 6.93517e-310  6.93517e-310  1.29396e-320\n",
       "```\n",
       "\n",
       "---\n",
       "\n",
       "```\n",
       "Matrix{T}(nothing, m, n)\n",
       "```\n",
       "\n",
       "Construct a [`Matrix{T}`](@ref) of size `m`×`n`, initialized with [`nothing`](@ref) entries. Element type `T` must be able to hold these values, i.e. `Nothing <: T`.\n",
       "\n",
       "# Examples\n",
       "\n",
       "```jldoctest\n",
       "julia> Matrix{Union{Nothing, String}}(nothing, 2, 3)\n",
       "2×3 Array{Union{Nothing, String},2}:\n",
       " nothing  nothing  nothing\n",
       " nothing  nothing  nothing\n",
       "```\n",
       "\n",
       "---\n",
       "\n",
       "```\n",
       "Matrix{T}(missing, m, n)\n",
       "```\n",
       "\n",
       "Construct a [`Matrix{T}`](@ref) of size `m`×`n`, initialized with [`missing`](@ref) entries. Element type `T` must be able to hold these values, i.e. `Missing <: T`.\n",
       "\n",
       "# Examples\n",
       "\n",
       "```jldoctest\n",
       "julia> Matrix{Union{Missing, String}}(missing, 2, 3)\n",
       "2×3 Array{Union{Missing, String},2}:\n",
       " missing  missing  missing\n",
       " missing  missing  missing\n",
       "```\n",
       "\n",
       "---\n",
       "\n",
       "```\n",
       "Matrix(A::MatrixElem)\n",
       "```\n",
       "\n",
       "> Convert `A` to a Julia `Matrix` of the same dimensions with the same elements.\n",
       "\n",
       "\n",
       "# Examples\n",
       "\n",
       "```jldoctest; setup = :(using AbstractAlgebra)\n",
       "julia> A = ZZ[1 2 3; 4 5 6]\n",
       "[1  2  3]\n",
       "[4  5  6]\n",
       "\n",
       "julia> Matrix(A)\n",
       "2×3 Array{BigInt,2}:\n",
       " 1  2  3\n",
       " 4  5  6\n",
       "```\n"
      ],
      "text/plain": [
       "\u001b[36m  Matrix{T} <: AbstractMatrix{T}\u001b[39m\n",
       "\n",
       "  Two-dimensional dense array with elements of type \u001b[36mT\u001b[39m, often used to represent\n",
       "  a mathematical matrix. Alias for \u001b[36mArray{T,2}\u001b[39m.\n",
       "\n",
       "  ────────────────────────────────────────────────────────────────────────────\n",
       "\n",
       "\u001b[36m  Matrix{T}(undef, m, n)\u001b[39m\n",
       "\n",
       "  Construct an uninitialized \u001b[36mMatrix{T}\u001b[39m of size \u001b[36mm\u001b[39m×\u001b[36mn\u001b[39m. See \u001b[36mundef\u001b[39m.\n",
       "\n",
       "\u001b[1m  Examples\u001b[22m\n",
       "\u001b[1m  ≡≡≡≡≡≡≡≡≡≡\u001b[22m\n",
       "\n",
       "\u001b[36m  julia> Matrix{Float64}(undef, 2, 3)\u001b[39m\n",
       "\u001b[36m  2×3 Array{Float64,2}:\u001b[39m\n",
       "\u001b[36m   6.93517e-310  6.93517e-310  6.93517e-310\u001b[39m\n",
       "\u001b[36m   6.93517e-310  6.93517e-310  1.29396e-320\u001b[39m\n",
       "\n",
       "  ────────────────────────────────────────────────────────────────────────────\n",
       "\n",
       "\u001b[36m  Matrix{T}(nothing, m, n)\u001b[39m\n",
       "\n",
       "  Construct a \u001b[36mMatrix{T}\u001b[39m of size \u001b[36mm\u001b[39m×\u001b[36mn\u001b[39m, initialized with \u001b[36mnothing\u001b[39m entries. Element\n",
       "  type \u001b[36mT\u001b[39m must be able to hold these values, i.e. \u001b[36mNothing <: T\u001b[39m.\n",
       "\n",
       "\u001b[1m  Examples\u001b[22m\n",
       "\u001b[1m  ≡≡≡≡≡≡≡≡≡≡\u001b[22m\n",
       "\n",
       "\u001b[36m  julia> Matrix{Union{Nothing, String}}(nothing, 2, 3)\u001b[39m\n",
       "\u001b[36m  2×3 Array{Union{Nothing, String},2}:\u001b[39m\n",
       "\u001b[36m   nothing  nothing  nothing\u001b[39m\n",
       "\u001b[36m   nothing  nothing  nothing\u001b[39m\n",
       "\n",
       "  ────────────────────────────────────────────────────────────────────────────\n",
       "\n",
       "\u001b[36m  Matrix{T}(missing, m, n)\u001b[39m\n",
       "\n",
       "  Construct a \u001b[36mMatrix{T}\u001b[39m of size \u001b[36mm\u001b[39m×\u001b[36mn\u001b[39m, initialized with \u001b[36mmissing\u001b[39m entries. Element\n",
       "  type \u001b[36mT\u001b[39m must be able to hold these values, i.e. \u001b[36mMissing <: T\u001b[39m.\n",
       "\n",
       "\u001b[1m  Examples\u001b[22m\n",
       "\u001b[1m  ≡≡≡≡≡≡≡≡≡≡\u001b[22m\n",
       "\n",
       "\u001b[36m  julia> Matrix{Union{Missing, String}}(missing, 2, 3)\u001b[39m\n",
       "\u001b[36m  2×3 Array{Union{Missing, String},2}:\u001b[39m\n",
       "\u001b[36m   missing  missing  missing\u001b[39m\n",
       "\u001b[36m   missing  missing  missing\u001b[39m\n",
       "\n",
       "  ────────────────────────────────────────────────────────────────────────────\n",
       "\n",
       "\u001b[36m  Matrix(A::MatrixElem)\u001b[39m\n",
       "\n",
       "  │  Convert \u001b[36mA\u001b[39m to a Julia \u001b[36mMatrix\u001b[39m of the same dimensions with the same\n",
       "  │  elements.\n",
       "\n",
       "\u001b[1m  Examples\u001b[22m\n",
       "\u001b[1m  ≡≡≡≡≡≡≡≡≡≡\u001b[22m\n",
       "\n",
       "\u001b[36m  julia> A = ZZ[1 2 3; 4 5 6]\u001b[39m\n",
       "\u001b[36m  [1  2  3]\u001b[39m\n",
       "\u001b[36m  [4  5  6]\u001b[39m\n",
       "\u001b[36m  \u001b[39m\n",
       "\u001b[36m  julia> Matrix(A)\u001b[39m\n",
       "\u001b[36m  2×3 Array{BigInt,2}:\u001b[39m\n",
       "\u001b[36m   1  2  3\u001b[39m\n",
       "\u001b[36m   4  5  6\u001b[39m"
      ]
     },
     "execution_count": 66,
     "metadata": {},
     "output_type": "execute_result"
    }
   ],
   "source": [
    "?Matrix"
   ]
  },
  {
   "cell_type": "code",
   "execution_count": 31,
   "metadata": {},
   "outputs": [
    {
     "data": {
      "text/plain": [
       "Singular Module over Singular Polynomial Ring (Coeffs(19)),(s),(dp(1),C), with Generators:\n",
       "s^2*gen(2)+s*gen(3)+s*gen(1)+gen(2)+gen(1)\n",
       "s^2*gen(1)+s*gen(3)+(5.0000000000000000000 + i*0)*s*gen(2)+gen(1)"
      ]
     },
     "execution_count": 31,
     "metadata": {},
     "output_type": "execute_result"
    }
   ],
   "source": [
    "M\n",
    "M = FreeModule(R, 3)\n",
    "v2 = M([x + 1, x*y + 1, y])\n",
    "V = Array(v1)"
   ]
  },
  {
   "cell_type": "code",
   "execution_count": 23,
   "metadata": {},
   "outputs": [
    {
     "data": {
      "text/plain": [
       "s^2*gen(1)+s*gen(3)+(5.0000000000000000000 + i*0)*s*gen(2)+gen(1)"
      ]
     },
     "execution_count": 23,
     "metadata": {},
     "output_type": "execute_result"
    }
   ],
   "source": [
    "M[2] # ok I have access to the inidivudal boys"
   ]
  },
  {
   "cell_type": "code",
   "execution_count": 19,
   "metadata": {},
   "outputs": [
    {
     "data": {
      "text/plain": [
       "Singular Module over Singular Polynomial Ring (QQ),(s),(dp(1),C), with Generators:\n",
       "0"
      ]
     },
     "execution_count": 19,
     "metadata": {},
     "output_type": "execute_result"
    }
   ],
   "source": [
    "R, (s,) = PolynomialRing(QQ, [\"s\"])\n",
    "\n",
    "v1 = vector(R, s + 1, s*s + 1, s)\n",
    "v2 = vector(R, s^2 + 1, 2s + 3s, s)\n",
    "\n",
    "M = Singular.Module(R, v1, v2)\n",
    "\n",
    "G = std(M; complete_reduction=true)\n",
    "\n",
    "mysyz = syz(M)"
   ]
  },
  {
   "cell_type": "code",
   "execution_count": null,
   "metadata": {},
   "outputs": [],
   "source": []
  },
  {
   "cell_type": "code",
   "execution_count": 5,
   "metadata": {},
   "outputs": [],
   "source": [
    "struct BIzboy\n",
    "   ins\n",
    "   outs\n",
    "end\n",
    "\n",
    "\n",
    "\n",
    "\n"
   ]
  },
  {
   "cell_type": "markdown",
   "metadata": {},
   "source": [
    "\n",
    "i0 * R = v2 - v1\n",
    "\n",
    "jC  \n",
    "\n",
    "ok here's an immediate glitch. I don't see ocmplex numbers in singular\n",
    "\n",
    "maybe I can access it via nemo, but nemo already has smith normnal form?\n",
    "\n",
    "v1    v2     v3"
   ]
  },
  {
   "cell_type": "code",
   "execution_count": 6,
   "metadata": {},
   "outputs": [
    {
     "name": "stderr",
     "output_type": "stream",
     "text": [
      "WARNING: replacing module Experiment.\n"
     ]
    },
    {
     "data": {
      "text/plain": [
       "Main.Experiment"
      ]
     },
     "execution_count": 6,
     "metadata": {},
     "output_type": "execute_result"
    }
   ],
   "source": [
    "module Experiment\n",
    "    struct Foo\n",
    "            bar :: Int\n",
    "    end\n",
    "end"
   ]
  },
  {
   "cell_type": "code",
   "execution_count": 8,
   "metadata": {},
   "outputs": [
    {
     "data": {
      "text/plain": [
       "Main.Experiment.Foo(3)"
      ]
     },
     "execution_count": 8,
     "metadata": {},
     "output_type": "execute_result"
    }
   ],
   "source": [
    "Experiment.Foo(3)"
   ]
  },
  {
   "cell_type": "code",
   "execution_count": 7,
   "metadata": {},
   "outputs": [
    {
     "data": {
      "text/plain": [
       "(Singular Polynomial Ring (QQ),(x,y),(dp(2),C), spoly{n_Q}[x, y])"
      ]
     },
     "execution_count": 7,
     "metadata": {},
     "output_type": "execute_result"
    }
   ],
   "source": [
    "R, (x, y) = PolynomialRing(QQ, [\"x\", \"y\"])"
   ]
  },
  {
   "cell_type": "code",
   "execution_count": 11,
   "metadata": {},
   "outputs": [
    {
     "data": {
      "text/plain": [
       "x^2+1"
      ]
     },
     "execution_count": 11,
     "metadata": {},
     "output_type": "execute_result"
    }
   ],
   "source": [
    "x^2 + 1"
   ]
  },
  {
   "cell_type": "code",
   "execution_count": 14,
   "metadata": {},
   "outputs": [
    {
     "data": {
      "text/plain": [
       "Singular Ideal over Singular Polynomial Ring (QQ),(x,y),(dp(2),C) with generators (x^2+1, x*y+1)"
      ]
     },
     "execution_count": 14,
     "metadata": {},
     "output_type": "execute_result"
    }
   ],
   "source": [
    "I = Ideal(R, x^2 +1, x*y + 1)"
   ]
  },
  {
   "cell_type": "code",
   "execution_count": 22,
   "metadata": {},
   "outputs": [
    {
     "data": {
      "text/plain": [
       "Singular Module over Singular Polynomial Ring (QQ),(x,y),(dp(2),C), with Generators:\n",
       "-y^2*gen(1)+x*gen(2)-y*gen(2)-gen(1)"
      ]
     },
     "execution_count": 22,
     "metadata": {},
     "output_type": "execute_result"
    }
   ],
   "source": [
    "G = std(I)\n",
    "Z = syz(G)\n",
    "F = fres(G,0)\n",
    "F[1]\n",
    "F[2]\n"
   ]
  },
  {
   "cell_type": "code",
   "execution_count": 23,
   "metadata": {},
   "outputs": [
    {
     "data": {
      "text/plain": [
       "Singular Polynomial Ring (ZZ),(x1,x2,x3,x4,x5),(Dp(5),C)"
      ]
     },
     "execution_count": 23,
     "metadata": {},
     "output_type": "execute_result"
    }
   ],
   "source": [
    "S = @PolynomialRing(ZZ, \"x\", 5, :deglex) # make a 5 variable polynomial"
   ]
  },
  {
   "cell_type": "code",
   "execution_count": 37,
   "metadata": {},
   "outputs": [
    {
     "name": "stdout",
     "output_type": "stream",
     "text": [
      "Singular Module over Singular Polynomial Ring (QQ),(x,y),(dp(2),C), with Generators:\n",
      "x^2*y*gen(2)-y^2*gen(1)+2*y*gen(2)+gen(2)-gen(1)\n",
      "[0]\n",
      "[-y^2-1\n",
      "x^2*y+2*y+1]\n"
     ]
    }
   ],
   "source": [
    "R, (x, y) = PolynomialRing(QQ, [\"x\", \"y\"])\n",
    "\n",
    "I = Ideal(R, x^2*y + 2y + 1, y^2 + 1)\n",
    "\n",
    "F = syz(I)\n",
    "\n",
    "M = Singular.Matrix(I)\n",
    "N = Singular.Matrix(F)\n",
    "println(F)\n",
    "println(M * N)\n",
    "println(N)"
   ]
  },
  {
   "cell_type": "code",
   "execution_count": 4,
   "metadata": {},
   "outputs": [
    {
     "data": {
      "text/plain": [
       "(Singular Polynomial Ring (QQ),(s),(dp(1),C), spoly{n_Q}[s])"
      ]
     },
     "execution_count": 4,
     "metadata": {},
     "output_type": "execute_result"
    }
   ],
   "source": [
    "R, (s,) = PolynomialRing(QQ, [\"s\"])"
   ]
  },
  {
   "cell_type": "code",
   "execution_count": 6,
   "metadata": {},
   "outputs": [
    {
     "ename": "MethodError",
     "evalue": "MethodError: no method matching +(::Array{spoly{n_Q},1}, ::Int64)\nClosest candidates are:\n  +(::Any, ::Any, !Matched::Any, !Matched::Any...) at operators.jl:529\n  +(!Matched::Complex{Bool}, ::Real) at complex.jl:297\n  +(!Matched::Missing, ::Number) at missing.jl:115\n  ...",
     "output_type": "error",
     "traceback": [
      "MethodError: no method matching +(::Array{spoly{n_Q},1}, ::Int64)\nClosest candidates are:\n  +(::Any, ::Any, !Matched::Any, !Matched::Any...) at operators.jl:529\n  +(!Matched::Complex{Bool}, ::Real) at complex.jl:297\n  +(!Matched::Missing, ::Number) at missing.jl:115\n  ...",
      "",
      "Stacktrace:",
      " [1] top-level scope at In[6]:1"
     ]
    }
   ],
   "source": [
    "x + 1"
   ]
  },
  {
   "cell_type": "code",
   "execution_count": 9,
   "metadata": {},
   "outputs": [
    {
     "data": {
      "text/plain": [
       "3"
      ]
     },
     "execution_count": 9,
     "metadata": {},
     "output_type": "execute_result"
    }
   ],
   "source": [
    "R, (x, y) = PolynomialRing(QQ, [\"x\", \"y\"])\n",
    "\n",
    "v1 = vector(R, x + 1, x*y + 1, y)\n",
    "v2 = vector(R, x^2 + 1, 2x + 3y, x)\n",
    "\n",
    "M = Singular.Module(R, v1, v2)\n",
    "rank(M)"
   ]
  },
  {
   "cell_type": "code",
   "execution_count": 10,
   "metadata": {},
   "outputs": [
    {
     "data": {
      "text/plain": [
       "Singular Module over Singular Polynomial Ring (QQ),(x,y),(dp(2),C), with Generators:\n",
       "x*y*gen(2)+x*gen(1)+y*gen(3)+gen(2)+gen(1)\n",
       "x^2*gen(1)+x*gen(3)+2*x*gen(2)+3*y*gen(2)+gen(1)"
      ]
     },
     "execution_count": 10,
     "metadata": {},
     "output_type": "execute_result"
    }
   ],
   "source": [
    "M"
   ]
  },
  {
   "cell_type": "code",
   "execution_count": 12,
   "metadata": {},
   "outputs": [
    {
     "ename": "MethodError",
     "evalue": "MethodError: no method matching fieldnames(::smodule{spoly{n_Q}})\nClosest candidates are:\n  fieldnames(!Matched::Core.TypeofBottom) at reflection.jl:175\n  fieldnames(!Matched::Type{#s8} where #s8<:Tuple) at reflection.jl:177\n  fieldnames(!Matched::DataType) at reflection.jl:172\n  ...",
     "output_type": "error",
     "traceback": [
      "MethodError: no method matching fieldnames(::smodule{spoly{n_Q}})\nClosest candidates are:\n  fieldnames(!Matched::Core.TypeofBottom) at reflection.jl:175\n  fieldnames(!Matched::Type{#s8} where #s8<:Tuple) at reflection.jl:177\n  fieldnames(!Matched::DataType) at reflection.jl:172\n  ...",
      "",
      "Stacktrace:",
      " [1] top-level scope at In[12]:1"
     ]
    }
   ],
   "source": [
    "fieldnames(M)"
   ]
  },
  {
   "cell_type": "code",
   "execution_count": null,
   "metadata": {},
   "outputs": [],
   "source": []
  }
 ],
 "metadata": {
  "kernelspec": {
   "display_name": "Julia 1.4.1",
   "language": "julia",
   "name": "julia-1.4"
  },
  "language_info": {
   "file_extension": ".jl",
   "mimetype": "application/julia",
   "name": "julia",
   "version": "1.4.1"
  }
 },
 "nbformat": 4,
 "nbformat_minor": 4
}
