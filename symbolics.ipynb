{
 "cells": [
  {
   "cell_type": "code",
   "execution_count": 1,
   "metadata": {},
   "outputs": [
    {
     "name": "stderr",
     "output_type": "stream",
     "text": [
      "\u001b[32m\u001b[1m Activating\u001b[22m\u001b[39m environment at `~/Documents/python/thoughtbooks/symbolic/Project.toml`\n",
      "\u001b[32m\u001b[1m   Updating\u001b[22m\u001b[39m registry at `~/.julia/registries/General`\n"
     ]
    },
    {
     "name": "stdout",
     "output_type": "stream",
     "text": [
      "\u001b[?25l    "
     ]
    },
    {
     "name": "stderr",
     "output_type": "stream",
     "text": [
      "\u001b[32m\u001b[1m   Updating\u001b[22m\u001b[39m git-repo `https://github.com/JuliaRegistries/General.git`\n"
     ]
    },
    {
     "name": "stdout",
     "output_type": "stream",
     "text": [
      "\u001b[2K\u001b[?25h[1mFetching:\u001b[22m\u001b[39m [========================================>]  100.0 %"
     ]
    },
    {
     "name": "stderr",
     "output_type": "stream",
     "text": [
      "\u001b[32m\u001b[1m  Resolving\u001b[22m\u001b[39m package versions...\n",
      "\u001b[32m\u001b[1mNo Changes\u001b[22m\u001b[39m to `~/Documents/python/thoughtbooks/symbolic/Project.toml`\n",
      "\u001b[32m\u001b[1mNo Changes\u001b[22m\u001b[39m to `~/Documents/python/thoughtbooks/symbolic/Manifest.toml`\n"
     ]
    }
   ],
   "source": [
    "using Pkg\n",
    "Pkg.activate(\"symbolic\")\n",
    "Pkg.add(\"Symbolics\")"
   ]
  },
  {
   "cell_type": "code",
   "execution_count": 2,
   "metadata": {},
   "outputs": [],
   "source": [
    "using Symbolics"
   ]
  },
  {
   "cell_type": "code",
   "execution_count": 9,
   "metadata": {},
   "outputs": [
    {
     "data": {
      "text/plain": [
       "LinearAlgebra.LU{Num,Array{Num,2}}\n",
       "L factor:\n",
       "2×2 Array{Num,2}:\n",
       "              1  0\n",
       " m₂ˏ₁*(m₁ˏ₁^-1)  1\n",
       "U factor:\n",
       "2×2 Array{Num,2}:\n",
       " m₁ˏ₁                          m₁ˏ₂\n",
       "    0  m₂ˏ₂ - (m₁ˏ₂*m₂ˏ₁*(m₁ˏ₁^-1))"
      ]
     },
     "execution_count": 9,
     "metadata": {},
     "output_type": "execute_result"
    }
   ],
   "source": [
    "@variables m[1:2, 1:2]\n",
    "\n",
    "Symbolics.sym_lu(m)\n",
    "#expr = β₁* x + y^α + σ(3) * (z - t) - β₂ * w(t - 1)"
   ]
  },
  {
   "cell_type": "code",
   "execution_count": 3,
   "metadata": {},
   "outputs": [
    {
     "data": {
      "text/plain": [
       "Main.SUFib"
      ]
     },
     "execution_count": 3,
     "metadata": {},
     "output_type": "execute_result"
    }
   ],
   "source": [
    "module SUFib\n",
    "using SymbolicUtils\n",
    "using SymbolicUtils.Rewriters\n",
    "\n",
    "@syms fib(x::Int)::Int\n",
    "\n",
    "const rset = [\n",
    "    @rule fib(0) => 0\n",
    "    @rule fib(1) => 1\n",
    "    @rule fib(~n) => fib(~n - 1) + fib(~n - 2)\n",
    "] |> Chain |> Postwalk |> Fixpoint\n",
    "\n",
    "compute_fib(n) = rset(fib(n))\n",
    "\n",
    "end"
   ]
  },
  {
   "cell_type": "code",
   "execution_count": 13,
   "metadata": {},
   "outputs": [
    {
     "ename": "LoadError",
     "evalue": "UndefVarError: fib not defined",
     "output_type": "error",
     "traceback": [
      "UndefVarError: fib not defined",
      "",
      "Stacktrace:",
      " [1] top-level scope at In[13]:1",
      " [2] include_string(::Function, ::Module, ::String, ::String) at ./loading.jl:1091"
     ]
    }
   ],
   "source": [
    "fib(100)"
   ]
  },
  {
   "cell_type": "code",
   "execution_count": 12,
   "metadata": {},
   "outputs": [
    {
     "name": "stdout",
     "output_type": "stream",
     "text": [
      " 58.691047 seconds (385.41 M allocations: 15.641 GiB, 21.52% gc time)\n"
     ]
    },
    {
     "data": {
      "text/plain": [
       "39088169"
      ]
     },
     "execution_count": 12,
     "metadata": {},
     "output_type": "execute_result"
    }
   ],
   "source": [
    "@time SUFib.compute_fib(38)"
   ]
  },
  {
   "cell_type": "code",
   "execution_count": 10,
   "metadata": {},
   "outputs": [
    {
     "data": {
      "text/plain": [
       "(x, y, z)"
      ]
     },
     "execution_count": 10,
     "metadata": {},
     "output_type": "execute_result"
    }
   ],
   "source": []
  },
  {
   "cell_type": "code",
   "execution_count": 12,
   "metadata": {},
   "outputs": [
    {
     "data": {
      "text/latex": [
       "$(x + y - (2z)) == 0$"
      ],
      "text/plain": [
       "(x + y - (2z)) == 0"
      ]
     },
     "execution_count": 12,
     "metadata": {},
     "output_type": "execute_result"
    }
   ],
   "source": []
  },
  {
   "cell_type": "code",
   "execution_count": 16,
   "metadata": {},
   "outputs": [
    {
     "ename": "LoadError",
     "evalue": "UndefVarError: rhss not defined",
     "output_type": "error",
     "traceback": [
      "UndefVarError: rhss not defined",
      "",
      "Stacktrace:",
      " [1] A_b(::Array{Num,1}, ::Array{Num,1}, ::Bool) at /home/philip/.julia/packages/Symbolics/Df5sB/src/linear_algebra.jl:59",
      " [2] solve_for(::Array{Num,1}, ::Array{Num,1}; simplify::Bool, check::Bool) at /home/philip/.julia/packages/Symbolics/Df5sB/src/linear_algebra.jl:88",
      " [3] solve_for(::Array{Num,1}, ::Array{Num,1}) at /home/philip/.julia/packages/Symbolics/Df5sB/src/linear_algebra.jl:88",
      " [4] top-level scope at In[16]:3",
      " [5] include_string(::Function, ::Module, ::String, ::String) at ./loading.jl:1091"
     ]
    }
   ],
   "source": [
    "@variables x y z\n",
    "e = x + y - 2*z == 0\n",
    "Symbolics.solve_for([e], [x])"
   ]
  },
  {
   "cell_type": "code",
   "execution_count": 14,
   "metadata": {},
   "outputs": [
    {
     "ename": "LoadError",
     "evalue": "LoadError: UndefVarError: @theory not defined\nin expression starting at In[14]:1",
     "output_type": "error",
     "traceback": [
      "LoadError: UndefVarError: @theory not defined\nin expression starting at In[14]:1",
      "",
      "Stacktrace:",
      " [1] top-level scope",
      " [2] include_string(::Function, ::Module, ::String, ::String) at ./loading.jl:1091"
     ]
    }
   ],
   "source": [
    "\n"
   ]
  },
  {
   "cell_type": "code",
   "execution_count": null,
   "metadata": {},
   "outputs": [],
   "source": []
  }
 ],
 "metadata": {
  "kernelspec": {
   "display_name": "Julia 1.5.0",
   "language": "julia",
   "name": "julia-1.5"
  },
  "language_info": {
   "file_extension": ".jl",
   "mimetype": "application/julia",
   "name": "julia",
   "version": "1.5.0"
  }
 },
 "nbformat": 4,
 "nbformat_minor": 4
}
