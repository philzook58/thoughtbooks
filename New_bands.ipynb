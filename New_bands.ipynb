{
 "cells": [
  {
   "cell_type": "markdown",
   "metadata": {},
   "source": [
    "I'm blog post hungry. In fact, it's insane that I did these things and didn't post them\n",
    "\n",
    "Bands: I may have already written\n",
    "\n",
    "\n",
    "A block periodic hamiltonian takes the form\n",
    "H = \\sum T^n \\otimes H_n\n",
    "Where T is the 1-step translation operator with all ones just off the diagonal.\n",
    "\n",
    "T has powers as eigenvectors. [1 z z^2 ...]. Multiplying by T is the same as multiplying by z. The periodic boundary conditions require that z^N = 1, which means that z is a complex root of unity.\n",
    "\n",
    "Or, if you don't believe me, you can just ask numpy\n",
    "\n",
    "\n",
    "Or you can use sympy\n",
    "\n",
    "\n",
    "A 2 dimensional hamiltonian similarly has the form \\sum T^n \\otimes T^m \\otimes H_nm\n",
    "\n",
    "A tight binding model usually has only a few terms be non-zero for n,m=0,1,2 maybe.\n",
    "\n",
    "It is a fact of algebra that eigenvalues of a kronecker product are the eigenvalues of the individual factors and the egivenvectors are eigenvectors of the original factors.\n",
    "\n",
    "[1 z z^2 ... ] \\otimes \\psi\n",
    "\n",
    "We then get a hamiltonian \n",
    "\n",
    "\n"
   ]
  }
 ],
 "metadata": {
  "kernelspec": {
   "display_name": "Python 3",
   "language": "python",
   "name": "python3"
  },
  "language_info": {
   "codemirror_mode": {
    "name": "ipython",
    "version": 3
   },
   "file_extension": ".py",
   "mimetype": "text/x-python",
   "name": "python",
   "nbconvert_exporter": "python",
   "pygments_lexer": "ipython3",
   "version": "3.7.5"
  }
 },
 "nbformat": 4,
 "nbformat_minor": 2
}
