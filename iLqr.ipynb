{
 "cells": [
  {
   "cell_type": "code",
   "execution_count": null,
   "metadata": {},
   "outputs": [],
   "source": [
    "\n",
    "\n",
    "# takes differentiable functions f and c. \n",
    "# x_t+1 = f(x_t) \n",
    "lift(f, c) = () -> begin\n",
    "             K = # initial feedpack matrix. Random?\n",
    "             u = \n",
    "             xt -> begin\n",
    "                A = diff(f,xt) \n",
    "                xt1 = f(xt)\n",
    "                (xt1, V -> begin\n",
    "                q = diff(c, xt)\n",
    "                Q = diff(c,xt,2)\n",
    "                K = #yadayada\n",
    "                u = #yadayada\n",
    "                v =\n",
    "                V = \n",
    "                (V, v)\n",
    "            \n",
    "            \n",
    "            end\n",
    "                 )\n",
    "             \n",
    "\n"
   ]
  },
  {
   "cell_type": "code",
   "execution_count": 10,
   "metadata": {},
   "outputs": [
    {
     "data": {
      "text/plain": [
       "3-element Array{Int64,1}:\n",
       " 4\n",
       " 2\n",
       " 3"
      ]
     },
     "execution_count": 10,
     "metadata": {},
     "output_type": "execute_result"
    }
   ],
   "source": [
    "K = [1,2,3]\n",
    "\n",
    "f = () -> begin K[1] = K[1] + 1 end\n",
    "f()\n",
    "K\n",
    "f()\n",
    "K\n",
    "f()\n",
    "K"
   ]
  },
  {
   "cell_type": "code",
   "execution_count": null,
   "metadata": {},
   "outputs": [],
   "source": []
  }
 ],
 "metadata": {
  "kernelspec": {
   "display_name": "Julia 1.5.0",
   "language": "julia",
   "name": "julia-1.5"
  },
  "language_info": {
   "file_extension": ".jl",
   "mimetype": "application/julia",
   "name": "julia",
   "version": "1.5.0"
  }
 },
 "nbformat": 4,
 "nbformat_minor": 4
}
