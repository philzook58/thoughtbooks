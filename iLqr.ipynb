{
 "cells": [
  {
   "cell_type": "code",
   "execution_count": null,
   "metadata": {},
   "outputs": [],
   "source": [
    "\n",
    "\n",
    "# takes differentiable functions f and c. \n",
    "# x_t+1 = f(x_t) \n",
    "\n",
    "# We can make a lift combniator if we go on the back of already existing AD\n",
    "# However we can also work from scracth\n",
    "\n",
    "lift(f, c) = () -> begin\n",
    "             K = # initial feedpack matrix. Random?\n",
    "             u = \n",
    "             xt -> begin\n",
    "                A = diff(f,xt) \n",
    "                xt1 = f(xt)\n",
    "                (xt1, V -> begin\n",
    "                q = diff(c, xt)\n",
    "                Q = diff(c,xt,2)\n",
    "                K = #yadayada\n",
    "                u = #yadayada\n",
    "                v =\n",
    "                V = \n",
    "                (V, v)\n",
    "            \n",
    "            \n",
    "            end\n",
    "                 )\n",
    "             \n",
    "\n",
    "        \n"
   ]
  },
  {
   "cell_type": "code",
   "execution_count": null,
   "metadata": {},
   "outputs": [],
   "source": [
    "struct Quad\n",
    "    Q\n",
    "    q\n",
    "end\n",
    "\n",
    "\n",
    "\n"
   ]
  },
  {
   "cell_type": "code",
   "execution_count": 179,
   "metadata": {},
   "outputs": [
    {
     "ename": "LoadError",
     "evalue": "PyError ($(Expr(:escape, :(ccall(#= /home/philip/.julia/packages/PyCall/BcTLp/src/pyfncall.jl:43 =# @pysym(:PyObject_Call), PyPtr, (PyPtr, PyPtr, PyPtr), o, pyargsptr, kw))))) <class 'AttributeError'>\nAttributeError(\"'str' object has no attribute 'is_Piecewise'\",)\n  File \"/home/philip/.local/lib/python3.6/site-packages/sympy/solvers/solvers.py\", line 1155, in solve\n    if _has_piecewise(fi):\n  File \"/home/philip/.local/lib/python3.6/site-packages/sympy/solvers/solvers.py\", line 1153, in _has_piecewise\n    return any([_has_piecewise(a) for a in e.args])\n  File \"/home/philip/.local/lib/python3.6/site-packages/sympy/solvers/solvers.py\", line 1153, in <listcomp>\n    return any([_has_piecewise(a) for a in e.args])\n  File \"/home/philip/.local/lib/python3.6/site-packages/sympy/solvers/solvers.py\", line 1153, in _has_piecewise\n    return any([_has_piecewise(a) for a in e.args])\n  File \"/home/philip/.local/lib/python3.6/site-packages/sympy/solvers/solvers.py\", line 1153, in <listcomp>\n    return any([_has_piecewise(a) for a in e.args])\n  File \"/home/philip/.local/lib/python3.6/site-packages/sympy/solvers/solvers.py\", line 1153, in _has_piecewise\n    return any([_has_piecewise(a) for a in e.args])\n  File \"/home/philip/.local/lib/python3.6/site-packages/sympy/solvers/solvers.py\", line 1153, in <listcomp>\n    return any([_has_piecewise(a) for a in e.args])\n  File \"/home/philip/.local/lib/python3.6/site-packages/sympy/solvers/solvers.py\", line 1153, in _has_piecewise\n    return any([_has_piecewise(a) for a in e.args])\n  File \"/home/philip/.local/lib/python3.6/site-packages/sympy/solvers/solvers.py\", line 1153, in <listcomp>\n    return any([_has_piecewise(a) for a in e.args])\n  File \"/home/philip/.local/lib/python3.6/site-packages/sympy/solvers/solvers.py\", line 1151, in _has_piecewise\n    if e.is_Piecewise:\n",
     "output_type": "error",
     "traceback": [
      "PyError ($(Expr(:escape, :(ccall(#= /home/philip/.julia/packages/PyCall/BcTLp/src/pyfncall.jl:43 =# @pysym(:PyObject_Call), PyPtr, (PyPtr, PyPtr, PyPtr), o, pyargsptr, kw))))) <class 'AttributeError'>\nAttributeError(\"'str' object has no attribute 'is_Piecewise'\",)\n  File \"/home/philip/.local/lib/python3.6/site-packages/sympy/solvers/solvers.py\", line 1155, in solve\n    if _has_piecewise(fi):\n  File \"/home/philip/.local/lib/python3.6/site-packages/sympy/solvers/solvers.py\", line 1153, in _has_piecewise\n    return any([_has_piecewise(a) for a in e.args])\n  File \"/home/philip/.local/lib/python3.6/site-packages/sympy/solvers/solvers.py\", line 1153, in <listcomp>\n    return any([_has_piecewise(a) for a in e.args])\n  File \"/home/philip/.local/lib/python3.6/site-packages/sympy/solvers/solvers.py\", line 1153, in _has_piecewise\n    return any([_has_piecewise(a) for a in e.args])\n  File \"/home/philip/.local/lib/python3.6/site-packages/sympy/solvers/solvers.py\", line 1153, in <listcomp>\n    return any([_has_piecewise(a) for a in e.args])\n  File \"/home/philip/.local/lib/python3.6/site-packages/sympy/solvers/solvers.py\", line 1153, in _has_piecewise\n    return any([_has_piecewise(a) for a in e.args])\n  File \"/home/philip/.local/lib/python3.6/site-packages/sympy/solvers/solvers.py\", line 1153, in <listcomp>\n    return any([_has_piecewise(a) for a in e.args])\n  File \"/home/philip/.local/lib/python3.6/site-packages/sympy/solvers/solvers.py\", line 1153, in _has_piecewise\n    return any([_has_piecewise(a) for a in e.args])\n  File \"/home/philip/.local/lib/python3.6/site-packages/sympy/solvers/solvers.py\", line 1153, in <listcomp>\n    return any([_has_piecewise(a) for a in e.args])\n  File \"/home/philip/.local/lib/python3.6/site-packages/sympy/solvers/solvers.py\", line 1151, in _has_piecewise\n    if e.is_Piecewise:\n",
      "",
      "Stacktrace:",
      " [1] pyerr_check at /home/philip/.julia/packages/PyCall/BcTLp/src/exception.jl:62 [inlined]",
      " [2] pyerr_check at /home/philip/.julia/packages/PyCall/BcTLp/src/exception.jl:66 [inlined]",
      " [3] _handle_error(::String) at /home/philip/.julia/packages/PyCall/BcTLp/src/exception.jl:83",
      " [4] macro expansion at /home/philip/.julia/packages/PyCall/BcTLp/src/exception.jl:97 [inlined]",
      " [5] #110 at /home/philip/.julia/packages/PyCall/BcTLp/src/pyfncall.jl:43 [inlined]",
      " [6] disable_sigint at ./c.jl:446 [inlined]",
      " [7] __pycall! at /home/philip/.julia/packages/PyCall/BcTLp/src/pyfncall.jl:42 [inlined]",
      " [8] _pycall!(::PyCall.PyObject, ::PyCall.PyObject, ::Tuple{Sym,Sym}, ::Int64, ::Ptr{Nothing}) at /home/philip/.julia/packages/PyCall/BcTLp/src/pyfncall.jl:29",
      " [9] _pycall!(::PyCall.PyObject, ::PyCall.PyObject, ::Tuple{Sym,Sym}, ::Base.Iterators.Pairs{Union{},Union{},Tuple{},NamedTuple{(),Tuple{}}}) at /home/philip/.julia/packages/PyCall/BcTLp/src/pyfncall.jl:11",
      " [10] (::PyCall.PyObject)(::Sym, ::Vararg{Sym,N} where N; kwargs::Base.Iterators.Pairs{Union{},Union{},Tuple{},NamedTuple{(),Tuple{}}}) at /home/philip/.julia/packages/PyCall/BcTLp/src/pyfncall.jl:86",
      " [11] (::PyCall.PyObject)(::Sym, ::Vararg{Sym,N} where N) at /home/philip/.julia/packages/PyCall/BcTLp/src/pyfncall.jl:86",
      " [12] solve(::Sym, ::Sym; kwargs::Base.Iterators.Pairs{Union{},Union{},Tuple{},NamedTuple{(),Tuple{}}}) at /home/philip/.julia/packages/SymPy/fI5pg/src/importexport.jl:90",
      " [13] solve(::Sym, ::Sym) at /home/philip/.julia/packages/SymPy/fI5pg/src/importexport.jl:90",
      " [14] top-level scope at In[179]:11",
      " [15] include_string(::Function, ::Module, ::String, ::String) at ./loading.jl:1091"
     ]
    }
   ],
   "source": [
    "using SymPy\n",
    "\n",
    "\n",
    "Q = sympy.MatrixSymbol(\"Q\",2,2)\n",
    "x = sympy.MatrixSymbol(\"x\",2,1)\n",
    "b = sympy.MatrixSymbol(\"b\",1,2)\n",
    "#diff(b * x, x)\n",
    "#diff(transpose(x) * Q * x + b.T * x, x)\n",
    "#diff(transpose(x) * Q * x  , x) + diff(b * x, x)\n",
    "#diff(x.T * Q * x + b * x , x)\n",
    "#solve(Q * x + b.T, )\n",
    "\n",
    "\n"
   ]
  },
  {
   "cell_type": "code",
   "execution_count": 109,
   "metadata": {},
   "outputs": [
    {
     "data": {
      "text/latex": [
       "\\begin{equation*}A l + 2 Q x + b\\end{equation*}"
      ],
      "text/plain": [
       "A⋅l + 2⋅Q⋅x + b"
      ]
     },
     "metadata": {},
     "output_type": "display_data"
    },
    {
     "data": {
      "text/latex": [
       "\\begin{equation*}x Q x - \\left(\\operatorname{transpose}{\\left (b \\right )} A^{-1} + 2 \\operatorname{transpose}{\\left (x \\right )} Q A^{-1}\\right) A x + \\operatorname{transpose}{\\left (b \\right )} x\\end{equation*}"
      ],
      "text/plain": [
       "        ⎛              -1                     -1⎞                     \n",
       "x⋅Q⋅x - ⎝transpose(b)⋅A   + 2⋅transpose(x)⋅Q⋅A  ⎠⋅A⋅x + transpose(b)⋅x"
      ]
     },
     "execution_count": 109,
     "metadata": {},
     "output_type": "execute_result"
    }
   ],
   "source": [
    "@syms x xt Q Qt q qt b A B R l commutative=False\n",
    "dyn = xt - ( A * x + B u + b)\n",
    "cost = tranpose(x) * Q * x + transpose(u) * R * u + transpose(qt)*x) + tranpose(xt) * Qt * xt + transpose(qt)*x) + tranpose(l) * dyn\n",
    "subs = Dict(\n",
    "    transpose(Q)  =>  Q\n",
    "    transpose(Qt) =>  Qt\n",
    "    transpose(R) => R\n",
    ")\n",
    "\n",
    "grad(cost,xt)[1]\n",
    "\n",
    "\n",
    "e = grad(transpose(x)*Q*x + transpose(b) * x + transpose(l) * A * x, x) #+ diff(xt*Q*x + b * x + l * A * x, xt)\n",
    "e= e.subs(transpose(A), A)\n",
    "display(e)\n",
    "lopt = solve(e, l)[1]\n",
    "\n",
    "#lopt\n",
    "Qred = subs(x*Q*x + transpose(b) * x + transpose(l) * A * x, l, lopt)\n",
    "Qred= Qred.subs(transpose(A), A)\n",
    "Qred = Qred.subs(transpose(Q), Q)\n",
    "#grad(Qred,x)\n",
    "#solve(diff(Qred, l, lopt), x), x\n",
    "\n",
    "\n"
   ]
  },
  {
   "cell_type": "code",
   "execution_count": 174,
   "metadata": {},
   "outputs": [
    {
     "ename": "LoadError",
     "evalue": "PyError ($(Expr(:escape, :(ccall(#= /home/philip/.julia/packages/PyCall/BcTLp/src/pyfncall.jl:43 =# @pysym(:PyObject_Call), PyPtr, (PyPtr, PyPtr, PyPtr), o, pyargsptr, kw))))) <class 'TypeError'>\nTypeError(\"cannot add <class 'sympy.matrices.immutable.ImmutableDenseMatrix'> and <class 'sympy.core.numbers.Zero'>\",)\n  File \"/home/philip/.local/lib/python3.6/site-packages/sympy/core/function.py\", line 1979, in diff\n    return Derivative(f, *symbols, **kwargs)\n  File \"/home/philip/.local/lib/python3.6/site-packages/sympy/core/function.py\", line 1261, in __new__\n    obj = expr._eval_derivative_n_times(v, count)\n  File \"/home/philip/.local/lib/python3.6/site-packages/sympy/core/basic.py\", line 1620, in _eval_derivative_n_times\n    obj2 = obj._accept_eval_derivative(s)\n  File \"/home/philip/.local/lib/python3.6/site-packages/sympy/core/basic.py\", line 1596, in _accept_eval_derivative\n    return s._visit_eval_derivative_scalar(self)\n  File \"/home/philip/.local/lib/python3.6/site-packages/sympy/core/basic.py\", line 1601, in _visit_eval_derivative_scalar\n    return base._eval_derivative(self)\n  File \"/home/philip/.local/lib/python3.6/site-packages/sympy/core/cache.py\", line 95, in wrapper\n    retval = func(*args, **kwargs)\n  File \"/home/philip/.local/lib/python3.6/site-packages/sympy/core/add.py\", line 383, in _eval_derivative\n    return self.func(*[a.diff(s) for a in self.args])\n  File \"/home/philip/.local/lib/python3.6/site-packages/sympy/core/add.py\", line 383, in <listcomp>\n    return self.func(*[a.diff(s) for a in self.args])\n  File \"/home/philip/.local/lib/python3.6/site-packages/sympy/core/expr.py\", line 3028, in diff\n    return Derivative(self, *new_symbols, **assumptions)\n  File \"/home/philip/.local/lib/python3.6/site-packages/sympy/core/function.py\", line 1261, in __new__\n    obj = expr._eval_derivative_n_times(v, count)\n  File \"/home/philip/.local/lib/python3.6/site-packages/sympy/core/cache.py\", line 95, in wrapper\n    retval = func(*args, **kwargs)\n  File \"/home/philip/.local/lib/python3.6/site-packages/sympy/core/mul.py\", line 919, in _eval_derivative_n_times\n    return super(Mul, self)._eval_derivative_n_times(s, n)\n  File \"/home/philip/.local/lib/python3.6/site-packages/sympy/core/basic.py\", line 1620, in _eval_derivative_n_times\n    obj2 = obj._accept_eval_derivative(s)\n  File \"/home/philip/.local/lib/python3.6/site-packages/sympy/core/basic.py\", line 1596, in _accept_eval_derivative\n    return s._visit_eval_derivative_scalar(self)\n  File \"/home/philip/.local/lib/python3.6/site-packages/sympy/core/basic.py\", line 1601, in _visit_eval_derivative_scalar\n    return base._eval_derivative(self)\n  File \"/home/philip/.local/lib/python3.6/site-packages/sympy/core/cache.py\", line 95, in wrapper\n    retval = func(*args, **kwargs)\n  File \"/home/philip/.local/lib/python3.6/site-packages/sympy/core/mul.py\", line 906, in _eval_derivative\n    return reduce(lambda x, y: x+y, terms, S.Zero)\n  File \"/home/philip/.local/lib/python3.6/site-packages/sympy/core/mul.py\", line 906, in <lambda>\n    return reduce(lambda x, y: x+y, terms, S.Zero)\n  File \"/home/philip/.local/lib/python3.6/site-packages/sympy/core/numbers.py\", line 2088, in __add__\n    return Rational.__add__(self, other)\n  File \"/home/philip/.local/lib/python3.6/site-packages/sympy/core/decorators.py\", line 91, in __sympifyit_wrapper\n    return func(a, b)\n  File \"/home/philip/.local/lib/python3.6/site-packages/sympy/core/numbers.py\", line 1594, in __add__\n    return Number.__add__(self, other)\n  File \"/home/philip/.local/lib/python3.6/site-packages/sympy/core/decorators.py\", line 91, in __sympifyit_wrapper\n    return func(a, b)\n  File \"/home/philip/.local/lib/python3.6/site-packages/sympy/core/numbers.py\", line 654, in __add__\n    return AtomicExpr.__add__(self, other)\n  File \"/home/philip/.local/lib/python3.6/site-packages/sympy/core/decorators.py\", line 91, in __sympifyit_wrapper\n    return func(a, b)\n  File \"/home/philip/.local/lib/python3.6/site-packages/sympy/core/decorators.py\", line 131, in binary_op_wrapper\n    return f(self)\n  File \"/home/philip/.local/lib/python3.6/site-packages/sympy/core/decorators.py\", line 132, in binary_op_wrapper\n    return func(self, other)\n  File \"/home/philip/.local/lib/python3.6/site-packages/sympy/matrices/common.py\", line 2079, in __radd__\n    return self + other\n  File \"/home/philip/.local/lib/python3.6/site-packages/sympy/core/decorators.py\", line 132, in binary_op_wrapper\n    return func(self, other)\n  File \"/home/philip/.local/lib/python3.6/site-packages/sympy/matrices/common.py\", line 1976, in __add__\n    raise TypeError('cannot add %s and %s' % (type(self), type(other)))\n",
     "output_type": "error",
     "traceback": [
      "PyError ($(Expr(:escape, :(ccall(#= /home/philip/.julia/packages/PyCall/BcTLp/src/pyfncall.jl:43 =# @pysym(:PyObject_Call), PyPtr, (PyPtr, PyPtr, PyPtr), o, pyargsptr, kw))))) <class 'TypeError'>\nTypeError(\"cannot add <class 'sympy.matrices.immutable.ImmutableDenseMatrix'> and <class 'sympy.core.numbers.Zero'>\",)\n  File \"/home/philip/.local/lib/python3.6/site-packages/sympy/core/function.py\", line 1979, in diff\n    return Derivative(f, *symbols, **kwargs)\n  File \"/home/philip/.local/lib/python3.6/site-packages/sympy/core/function.py\", line 1261, in __new__\n    obj = expr._eval_derivative_n_times(v, count)\n  File \"/home/philip/.local/lib/python3.6/site-packages/sympy/core/basic.py\", line 1620, in _eval_derivative_n_times\n    obj2 = obj._accept_eval_derivative(s)\n  File \"/home/philip/.local/lib/python3.6/site-packages/sympy/core/basic.py\", line 1596, in _accept_eval_derivative\n    return s._visit_eval_derivative_scalar(self)\n  File \"/home/philip/.local/lib/python3.6/site-packages/sympy/core/basic.py\", line 1601, in _visit_eval_derivative_scalar\n    return base._eval_derivative(self)\n  File \"/home/philip/.local/lib/python3.6/site-packages/sympy/core/cache.py\", line 95, in wrapper\n    retval = func(*args, **kwargs)\n  File \"/home/philip/.local/lib/python3.6/site-packages/sympy/core/add.py\", line 383, in _eval_derivative\n    return self.func(*[a.diff(s) for a in self.args])\n  File \"/home/philip/.local/lib/python3.6/site-packages/sympy/core/add.py\", line 383, in <listcomp>\n    return self.func(*[a.diff(s) for a in self.args])\n  File \"/home/philip/.local/lib/python3.6/site-packages/sympy/core/expr.py\", line 3028, in diff\n    return Derivative(self, *new_symbols, **assumptions)\n  File \"/home/philip/.local/lib/python3.6/site-packages/sympy/core/function.py\", line 1261, in __new__\n    obj = expr._eval_derivative_n_times(v, count)\n  File \"/home/philip/.local/lib/python3.6/site-packages/sympy/core/cache.py\", line 95, in wrapper\n    retval = func(*args, **kwargs)\n  File \"/home/philip/.local/lib/python3.6/site-packages/sympy/core/mul.py\", line 919, in _eval_derivative_n_times\n    return super(Mul, self)._eval_derivative_n_times(s, n)\n  File \"/home/philip/.local/lib/python3.6/site-packages/sympy/core/basic.py\", line 1620, in _eval_derivative_n_times\n    obj2 = obj._accept_eval_derivative(s)\n  File \"/home/philip/.local/lib/python3.6/site-packages/sympy/core/basic.py\", line 1596, in _accept_eval_derivative\n    return s._visit_eval_derivative_scalar(self)\n  File \"/home/philip/.local/lib/python3.6/site-packages/sympy/core/basic.py\", line 1601, in _visit_eval_derivative_scalar\n    return base._eval_derivative(self)\n  File \"/home/philip/.local/lib/python3.6/site-packages/sympy/core/cache.py\", line 95, in wrapper\n    retval = func(*args, **kwargs)\n  File \"/home/philip/.local/lib/python3.6/site-packages/sympy/core/mul.py\", line 906, in _eval_derivative\n    return reduce(lambda x, y: x+y, terms, S.Zero)\n  File \"/home/philip/.local/lib/python3.6/site-packages/sympy/core/mul.py\", line 906, in <lambda>\n    return reduce(lambda x, y: x+y, terms, S.Zero)\n  File \"/home/philip/.local/lib/python3.6/site-packages/sympy/core/numbers.py\", line 2088, in __add__\n    return Rational.__add__(self, other)\n  File \"/home/philip/.local/lib/python3.6/site-packages/sympy/core/decorators.py\", line 91, in __sympifyit_wrapper\n    return func(a, b)\n  File \"/home/philip/.local/lib/python3.6/site-packages/sympy/core/numbers.py\", line 1594, in __add__\n    return Number.__add__(self, other)\n  File \"/home/philip/.local/lib/python3.6/site-packages/sympy/core/decorators.py\", line 91, in __sympifyit_wrapper\n    return func(a, b)\n  File \"/home/philip/.local/lib/python3.6/site-packages/sympy/core/numbers.py\", line 654, in __add__\n    return AtomicExpr.__add__(self, other)\n  File \"/home/philip/.local/lib/python3.6/site-packages/sympy/core/decorators.py\", line 91, in __sympifyit_wrapper\n    return func(a, b)\n  File \"/home/philip/.local/lib/python3.6/site-packages/sympy/core/decorators.py\", line 131, in binary_op_wrapper\n    return f(self)\n  File \"/home/philip/.local/lib/python3.6/site-packages/sympy/core/decorators.py\", line 132, in binary_op_wrapper\n    return func(self, other)\n  File \"/home/philip/.local/lib/python3.6/site-packages/sympy/matrices/common.py\", line 2079, in __radd__\n    return self + other\n  File \"/home/philip/.local/lib/python3.6/site-packages/sympy/core/decorators.py\", line 132, in binary_op_wrapper\n    return func(self, other)\n  File \"/home/philip/.local/lib/python3.6/site-packages/sympy/matrices/common.py\", line 1976, in __add__\n    raise TypeError('cannot add %s and %s' % (type(self), type(other)))\n",
      "",
      "Stacktrace:",
      " [1] pyerr_check at /home/philip/.julia/packages/PyCall/BcTLp/src/exception.jl:62 [inlined]",
      " [2] pyerr_check at /home/philip/.julia/packages/PyCall/BcTLp/src/exception.jl:66 [inlined]",
      " [3] _handle_error(::String) at /home/philip/.julia/packages/PyCall/BcTLp/src/exception.jl:83",
      " [4] macro expansion at /home/philip/.julia/packages/PyCall/BcTLp/src/exception.jl:97 [inlined]",
      " [5] #110 at /home/philip/.julia/packages/PyCall/BcTLp/src/pyfncall.jl:43 [inlined]",
      " [6] disable_sigint at ./c.jl:446 [inlined]",
      " [7] __pycall! at /home/philip/.julia/packages/PyCall/BcTLp/src/pyfncall.jl:42 [inlined]",
      " [8] _pycall!(::PyCall.PyObject, ::PyCall.PyObject, ::Tuple{Sym,Sym}, ::Int64, ::Ptr{Nothing}) at /home/philip/.julia/packages/PyCall/BcTLp/src/pyfncall.jl:29",
      " [9] _pycall!(::PyCall.PyObject, ::PyCall.PyObject, ::Tuple{Sym,Sym}, ::Base.Iterators.Pairs{Union{},Union{},Tuple{},NamedTuple{(),Tuple{}}}) at /home/philip/.julia/packages/PyCall/BcTLp/src/pyfncall.jl:11",
      " [10] (::PyCall.PyObject)(::Sym, ::Vararg{Sym,N} where N; kwargs::Base.Iterators.Pairs{Union{},Union{},Tuple{},NamedTuple{(),Tuple{}}}) at /home/philip/.julia/packages/PyCall/BcTLp/src/pyfncall.jl:86",
      " [11] (::PyCall.PyObject)(::Sym, ::Vararg{Sym,N} where N) at /home/philip/.julia/packages/PyCall/BcTLp/src/pyfncall.jl:86",
      " [12] diff(::Sym, ::Sym; kwargs::Base.Iterators.Pairs{Union{},Union{},Tuple{},NamedTuple{(),Tuple{}}}) at /home/philip/.julia/packages/SymPy/fI5pg/src/importexport.jl:70",
      " [13] diff at /home/philip/.julia/packages/SymPy/fI5pg/src/importexport.jl:70 [inlined]",
      " [14] grad(::Sym, ::Sym) at ./In[91]:3",
      " [15] top-level scope at In[174]:16",
      " [16] include_string(::Function, ::Module, ::String, ::String) at ./loading.jl:1091"
     ]
    }
   ],
   "source": [
    "@syms x xt u Q Qt q qt r b A B R l commutative=False\n",
    "dyn = xt - ( A * x + B * u + b)\n",
    "cost = transpose(x) * Q * x  + transpose(q) * x + transpose(u) * R * u + transpose(r)*u + transpose(xt) * Qt * xt + transpose(qt)*xt + transpose(l) * dyn\n",
    "simpsubs = Dict(\n",
    "    transpose(Q)  =>  Q,\n",
    "    transpose(inv(Qt))  =>  inv(Qt),\n",
    "    transpose(Qt) =>  Qt,\n",
    "    transpose(R) => R\n",
    ")\n",
    "\n",
    "e = grad(cost,xt).subs(simpsubs)\n",
    "xtopt = solve(e, xt)[1]\n",
    "cost = cost.subs(xt,xtopt).subs(simpsubs)\n",
    "grad(cost,l).subs(simpsubs)\n",
    "lopt = solve(grad(cost,l).subs(simpsubs),l)\n",
    "grad(cost.subs(l,lopt).subs(simpsubs), u)\n",
    "# should I be solving for xt, l, and u all at the same time? That sounds maximally stable\n",
    "#inv(Q)\n",
    "\n",
    "#inv(transpose(Qt))"
   ]
  },
  {
   "cell_type": "code",
   "execution_count": null,
   "metadata": {},
   "outputs": [],
   "source": []
  },
  {
   "cell_type": "raw",
   "metadata": {},
   "source": [
    "a = Wild(\"a\")\n",
    "\n",
    "\n",
    "e = diff(transpose(x) * Q * x, x) + diff(transpose(transpose(x) * Q * x), x)\n",
    "e = transpose(e.replace(  diff(transpose(a),a), 0 ))\n",
    "e.subs(transpose(Q), Q)"
   ]
  },
  {
   "cell_type": "code",
   "execution_count": 91,
   "metadata": {},
   "outputs": [
    {
     "data": {
      "text/plain": [
       "grad (generic function with 1 method)"
      ]
     },
     "execution_count": 91,
     "metadata": {},
     "output_type": "execute_result"
    }
   ],
   "source": [
    "function grad(e,x)\n",
    "    a = Wild(\"a\")\n",
    "    e = diff(e, x) + diff(transpose(e), x)\n",
    "    transpose(e.replace(  diff(transpose(a),a), 0 ))\n",
    "end"
   ]
  },
  {
   "cell_type": "code",
   "execution_count": 3,
   "metadata": {},
   "outputs": [
    {
     "ename": "LoadError",
     "evalue": "Argument to diff(::Number, ::Number)::Number at position 1 must be of symbolic type Number",
     "output_type": "error",
     "traceback": [
      "Argument to diff(::Number, ::Number)::Number at position 1 must be of symbolic type Number",
      "",
      "Stacktrace:",
      " [1] error(::String) at ./error.jl:33",
      " [2] promote_symtype(::SymbolicUtils.Sym{SymbolicUtils.FnType{Tuple{Number,Number},Number}}, ::Type{T} where T, ::Type{T} where T) at /home/philip/.julia/packages/SymbolicUtils/ctxgN/src/types.jl:172",
      " [3] (::SymbolicUtils.Sym{SymbolicUtils.FnType{Tuple{Number,Number},Number}})(::SymbolicUtils.Term{Any}, ::Vararg{Any,N} where N) at /home/philip/.julia/packages/SymbolicUtils/ctxgN/src/types.jl:147",
      " [4] top-level scope at In[3]:14",
      " [5] include_string(::Function, ::Module, ::String, ::String) at ./loading.jl:1091"
     ]
    }
   ],
   "source": [
    "using SymbolicUtils\n",
    "\n",
    "@syms A::Matrix x::Vector y::Vector z::Vector diff(x,x)\n",
    "A * x + x\n",
    "\n",
    "DIFF_RULES = [\n",
    "    @rule diff(~x,~x) => 1\n",
    "    @rule diff(~x * ~y, ~z) => diff(~x, ~z) * ~y + ~x * diff(~y, ~z) \n",
    "    @rule diff(~x + ~y, ~z) => diff(~x, ~z) + diff(~y, ~z)\n",
    "]\n",
    "\n",
    "differ = SymbolicUtils.Prewalk(SymbolicUtils.Chain(DIFF_RULES))\n",
    "\n",
    "differ( diff( x*x , x) )"
   ]
  },
  {
   "cell_type": "markdown",
   "metadata": {},
   "source": [
    "Iterrative lqr in verilog\n",
    "\n",
    "Could do a parallel very very fast calculation\n",
    "\n",
    "\n",
    "If i want to use a little machine to hold state,\n",
    "why not go object oriented?\n",
    "And call .backwards() ?\n",
    "\n",
    "\n"
   ]
  },
  {
   "cell_type": "code",
   "execution_count": 10,
   "metadata": {},
   "outputs": [
    {
     "data": {
      "text/plain": [
       "3-element Array{Int64,1}:\n",
       " 4\n",
       " 2\n",
       " 3"
      ]
     },
     "execution_count": 10,
     "metadata": {},
     "output_type": "execute_result"
    }
   ],
   "source": [
    "K = [1,2,3]\n",
    "\n",
    "f = () -> begin K[1] = K[1] + 1 end\n",
    "f()\n",
    "K\n",
    "f()\n",
    "K\n",
    "f()\n",
    "K"
   ]
  },
  {
   "cell_type": "code",
   "execution_count": 4,
   "metadata": {},
   "outputs": [
    {
     "ename": "LoadError",
     "evalue": "syntax: invalid iteration specification",
     "output_type": "error",
     "traceback": [
      "syntax: invalid iteration specification",
      "",
      "Stacktrace:",
      " [1] top-level scope at In[4]:25",
      " [2] include_string(::Function, ::Module, ::String, ::String) at ./loading.jl:1091"
     ]
    }
   ],
   "source": [
    "using LinearAlgebra\n",
    "x = Dict(:x => I)\n",
    "u = Dict(:u => I)\n",
    "\n",
    "\n",
    "\n",
    "\n",
    "#DefaultDict\n",
    "# or\n",
    "struct LinExpr\n",
    "    terms::Dict{Symbol, Matrix}\n",
    "    lit::Array\n",
    "end\n",
    "\n",
    "struct QuadExpr\n",
    "    \n",
    "end\n",
    "\n",
    "\n",
    "\n",
    "Dict( (:x,:x) => I, (() , :x) => [1 2 3], ((),()) => 7 )\n",
    "\n",
    "# maybe store the coefficients sorted.\n",
    "function diff(q, x)\n",
    "    m = Dict()\n",
    "    for (y,z), c in \n",
    "        if y == x && z == x\n",
    "            m[x] = 2*c\n",
    "        elseif y == x \n",
    "            m[y] = c\n",
    "        elseif z == x \n",
    "            m[z] = c\n",
    "        end\n",
    "end\n",
    "\n",
    "(f::QuadExpr)(x::) = \n",
    "\n",
    "function +(p::QuadExpr, q::QuadExpr) = \n",
    "    m = Dict()\n",
    "    for x,c in p\n",
    "        m[x] = c\n",
    "    end\n",
    "    for y,c in q\n",
    "        if haskey(m,y)\n",
    "            m[y] += c\n",
    "        else\n",
    "            m[y] = c\n",
    "        end\n",
    "    end\n",
    "end\n",
    "        \n",
    "max( q::QuadExpr, vars... ) :: QuadExpr =\n",
    "    \n",
    "    \n",
    "function max_arg(q::QuadExpr, vars) :: LinExpr = \n",
    "\n",
    "dot(x::LinExpr, y::LinExpr)::QuadExpr = \n",
    "\n",
    "function solve(q::LinExpr, x)\n",
    "    A = q[x]\n",
    "    Alu  = lu(A)\n",
    "    LinExpr(Dict( [ y => - lusolve(A, cy) for y,cy in collect(q) if y !== x] ))\n",
    "end\n",
    "   \n",
    "\n",
    "\n",
    "\n",
    "\n"
   ]
  },
  {
   "cell_type": "code",
   "execution_count": 7,
   "metadata": {},
   "outputs": [
    {
     "data": {
      "text/latex": [
       "true"
      ],
      "text/plain": [
       "true"
      ]
     },
     "execution_count": 7,
     "metadata": {},
     "output_type": "execute_result"
    }
   ],
   "source": [
    ":x <= :y"
   ]
  },
  {
   "cell_type": "code",
   "execution_count": null,
   "metadata": {},
   "outputs": [],
   "source": []
  }
 ],
 "metadata": {
  "kernelspec": {
   "display_name": "Julia 1.5.0",
   "language": "julia",
   "name": "julia-1.5"
  },
  "language_info": {
   "file_extension": ".jl",
   "mimetype": "application/julia",
   "name": "julia",
   "version": "1.5.0"
  }
 },
 "nbformat": 4,
 "nbformat_minor": 4
}
