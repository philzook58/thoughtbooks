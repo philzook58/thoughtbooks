{
 "cells": [
  {
   "cell_type": "code",
   "execution_count": 3,
   "metadata": {},
   "outputs": [
    {
     "name": "stderr",
     "output_type": "stream",
     "text": [
      "┌ Info: Precompiling DataFrames [a93c6f00-e57d-5684-b7b6-d8193f3e46c0]\n",
      "└ @ Base loading.jl:1278\n"
     ]
    }
   ],
   "source": [
    "using DataFrames\n",
    "\n",
    "\n"
   ]
  },
  {
   "cell_type": "markdown",
   "metadata": {},
   "source": [
    "# DataFrame Style Linear Relations\n",
    "\n",
    "DataFrames is a julia lbirary that is the analog of Pandas for python or related tools in R. They store tabular data, meaing they have columns and rows.\n",
    "It has proven to be a popular and intuitive interface to store, retrievce and manipulate tabular data.\n",
    "\n",
    "\n",
    "Databases store finite relations.\n",
    "A mathematical model of databases is that of a relation.\n",
    "Conceptually for me every column has a set of possible values that column can take. Maybe it's integers or strings or an finite enum lik :red :green :blue.\n",
    "The DataFrame is storing a relation. A relation with column sets A,B,C,D is a subset of A\\timesB\\timesC\\timesD. In other words { (a,b,c,d) | a \\in A, b\\in B, c \\in C,   } Each row stores a tuple (a,b,c,d,...).\n",
    "\n",
    "\n",
    "\n",
    "Similarly a linear relation is describing a subset of \n",
    "Each column has is a vector space which may be 0,1,2,3... dimensional.\n",
    "What makes it a linear relation is that rather than describing an arbitrary subset of this space, it only describes subsets closed under vector addition, i.e linear subspaces.\n",
    "\n",
    "If we only had to store finite number of discrte points in this space, we could use data frames as is.\n",
    "\n",
    "DataFrame( A = [1,0] , B = [ 0  1; 0  1] ) describes the two points (1,0,1) (0,0,1) as elements of R^1 \\times R^2.\n",
    "\n",
    "When we print out this dataframe, we can see a matrix.\n",
    "\n",
    "This is important, because it's impossible to enumeratively store every element of an arbitrary continuous blob, but we can store generators or equations that somehwhat implicitly describe a linear subsapce more more succintly.\n",
    "\n",
    "\n",
    " DataFrameG( A = [1,0] , B = [0 1 ; 0 1] ) describes now any linear combinator of the points  v = \\lambda_1 (1,0,1) + \\lambda_2 (0,0,1), which is equivalent to the xz plane. So we could equaivlaent have written this data frame as DataFrameG( A = [1, 0], B = [0 0 ; 0 1]) no harm done.\n",
    " \n",
    " \n",
    " It is ubiquitous in mathemtatics that we can describe things in a way that builds them up or cuts them away.\n",
    " Parametrzied vs implciit surfaces (sin(\\theta), cos(\\theta) , 0   ) is a paremtrzied circle in the xy plane. Alternaitvely it can be described by the two equations z = 0, x^2 + y^2 + z^2 == 1 as the intersection of the xy plane and a sphere.\n",
    " \n",
    " Or a sphere can be parametrzied by ( ),  alternaitvely\n",
    " \n",
    " A 2 dimensional surface needs 2 parameters to build up from 0, or 1 constraint to cut down from 3. A 1 dimensional surface needs 1 parameter to build up or 2 constraints to cut down from 1.\n",
    " \n",
    " \n",
    " \n",
    " \n",
    " LinFrame\n",
    "span( {    |   } )\n",
    "\n",
    "\n",
    "\n",
    "Most database queries are trivially polynomial time in the size of the database. The game is to keep the power of the polynomial low and worry about consdtant factors.\n",
    "\n",
    "\n",
    "For exmaple, a boolean formula could be considered as described a set of bools for which the formula evluates to true. We could think of this formula being merely a representation of the finite set of all it's satisfying values. \n",
    "As considered as a function of the number of columnns (variables) this database is however exponential time to search in the worst case.\n",
    "For boolean formulas that are not very sparsely satisfiable, to directly store the values would take space expotnential in the number columns. Which then also takes exponential time at least to process in any way.\n",
    "\n",
    "There are sets that are even worse. Questions about sets can become undecidable, where it is not possible to even guarantee a brute force method to answer to queries.\n",
    "\n",
    "\n",
    "Let's say we have a database that has a single column of strings. Let's say we want this database to hold all strings that do not have the character 'a' in them. Completely impossible.\n",
    "\n",
    "So Databases are not capable of holding arbitrary sets, even for finite data types. They as a practical matter can only hold extremely sparse sets.\n",
    "\n",
    "\n",
    "\n",
    "Very often you want not linear relations, but affine relations. Affine subspaces are linear subspaces but with an offset from the origin. Offsets occurr in circuit from current or voltage sources. \n",
    "\n",
    "\n",
    "\n",
    "Categorical Arrays = finite data types\n",
    "\n",
    "\n",
    "Relation of this to catgeorical style, if you're willing to name your entities.\n",
    "Span technology\n",
    "Gaussians\n",
    "\n",
    "\n",
    "## Joins\n",
    "\n",
    "## Groupings\n",
    "\n",
    "## Applying Linear Maps\n",
    "\n"
   ]
  },
  {
   "cell_type": "code",
   "execution_count": 2,
   "metadata": {},
   "outputs": [
    {
     "name": "stderr",
     "output_type": "stream",
     "text": [
      "\u001b[32m\u001b[1m   Updating\u001b[22m\u001b[39m registry at `~/.julia/registries/General`\n"
     ]
    },
    {
     "name": "stdout",
     "output_type": "stream",
     "text": [
      "\u001b[?25l    "
     ]
    },
    {
     "name": "stderr",
     "output_type": "stream",
     "text": [
      "\u001b[32m\u001b[1m   Updating\u001b[22m\u001b[39m git-repo `https://github.com/JuliaRegistries/General.git`\n"
     ]
    },
    {
     "name": "stdout",
     "output_type": "stream",
     "text": [
      "\u001b[2K\u001b[?25h[1mFetching:\u001b[22m\u001b[39m [========================================>]  99.9 %13.3 %>                             ]  27.5 %                  ]  54.0 % [===========================>             ]  67.3 %]  80.5 %======================================>  ]  93.8 %"
     ]
    },
    {
     "name": "stderr",
     "output_type": "stream",
     "text": [
      "\u001b[32m\u001b[1m  Resolving\u001b[22m\u001b[39m package versions...\n",
      "\u001b[32m\u001b[1m  Installed\u001b[22m\u001b[39m PooledArrays ────── v0.5.3\n",
      "\u001b[32m\u001b[1m  Installed\u001b[22m\u001b[39m MbedTLS_jll ─────── v2.16.8+1\n",
      "\u001b[32m\u001b[1m  Installed\u001b[22m\u001b[39m StructTypes ─────── v1.1.0\n",
      "\u001b[32m\u001b[1m  Installed\u001b[22m\u001b[39m CategoricalArrays ─ v0.8.3\n",
      "\u001b[32m\u001b[1m  Installed\u001b[22m\u001b[39m DataFrames ──────── v0.21.8\n",
      "\u001b[32m\u001b[1mUpdating\u001b[22m\u001b[39m `~/.julia/environments/v1.5/Project.toml`\n",
      " \u001b[90m [a93c6f00] \u001b[39m\u001b[92m+ DataFrames v0.21.8\u001b[39m\n",
      "\u001b[32m\u001b[1mUpdating\u001b[22m\u001b[39m `~/.julia/environments/v1.5/Manifest.toml`\n",
      " \u001b[90m [324d7699] \u001b[39m\u001b[92m+ CategoricalArrays v0.8.3\u001b[39m\n",
      " \u001b[90m [a93c6f00] \u001b[39m\u001b[92m+ DataFrames v0.21.8\u001b[39m\n",
      " \u001b[90m [41ab1584] \u001b[39m\u001b[92m+ InvertedIndices v1.0.0\u001b[39m\n",
      " \u001b[90m [c8ffd9c3] \u001b[39m\u001b[93m↑ MbedTLS_jll v2.16.8+0 ⇒ v2.16.8+1\u001b[39m\n",
      " \u001b[90m [2dfb63ee] \u001b[39m\u001b[92m+ PooledArrays v0.5.3\u001b[39m\n",
      " \u001b[90m [856f2bd8] \u001b[39m\u001b[92m+ StructTypes v1.1.0\u001b[39m\n"
     ]
    }
   ],
   "source": [
    "import Pkg; Pkg.add(\"DataFrames\")"
   ]
  },
  {
   "cell_type": "code",
   "execution_count": null,
   "metadata": {},
   "outputs": [],
   "source": [
    "# if we gave every variable a name. We could store the \n",
    "# adding to the \n",
    "\n",
    "\n",
    "# conceptually, the generator framework is closer to standard Dataframes\n",
    "# If you wanted to represent a nearly full database, you would store the elements not in the relation.\n",
    "\n",
    "\n",
    "# Equations cut down vector spaces\n",
    "# Generators build it up\n",
    "\n",
    "# Dataframes also typically live in an implied inifinite univcerse, which makes things trickier\n",
    "# They do not store the realsm of possibility. Although they could\n",
    "\n",
    "df = DataFrame( A = [1 0], B = [1],    )"
   ]
  },
  {
   "cell_type": "code",
   "execution_count": 5,
   "metadata": {},
   "outputs": [
    {
     "data": {
      "text/html": [
       "<table class=\"data-frame\"><thead><tr><th></th><th>A</th><th>B</th></tr><tr><th></th><th>Float64</th><th>Array…</th></tr></thead><tbody><p>2 rows × 2 columns</p><tr><th>1</th><td>1.0</td><td>[0.0 3.14]</td></tr><tr><th>2</th><td>0.0</td><td>[0.0 2.0]</td></tr></tbody></table>"
      ],
      "text/latex": [
       "\\begin{tabular}{r|cc}\n",
       "\t& A & B\\\\\n",
       "\t\\hline\n",
       "\t& Float64 & Array…\\\\\n",
       "\t\\hline\n",
       "\t1 & 1.0 & [0.0 3.14] \\\\\n",
       "\t2 & 0.0 & [0.0 2.0] \\\\\n",
       "\\end{tabular}\n"
      ],
      "text/plain": [
       "2×2 DataFrame\n",
       "│ Row │ A       │ B          │\n",
       "│     │ \u001b[90mFloat64\u001b[39m │ \u001b[90mArray…\u001b[39m     │\n",
       "├─────┼─────────┼────────────┤\n",
       "│ 1   │ 1.0     │ [0.0 3.14] │\n",
       "│ 2   │ 0.0     │ [0.0 2.0]  │"
      ]
     },
     "execution_count": 5,
     "metadata": {},
     "output_type": "execute_result"
    }
   ],
   "source": [
    "DataFrame( A = [1.0, 0.0] , B = [[ 0  3.14], [0  2.0]] )"
   ]
  },
  {
   "cell_type": "code",
   "execution_count": 6,
   "metadata": {},
   "outputs": [
    {
     "data": {
      "text/plain": [
       "DataFrameG"
      ]
     },
     "execution_count": 6,
     "metadata": {},
     "output_type": "execute_result"
    }
   ],
   "source": [
    "struct DataFrameG\n",
    "    it\n",
    "end\n",
    "\n",
    "DataFrameG(; kwargs...) = DataFrameG(DataFrame(;kwargs...))\n",
    "\n",
    "\n"
   ]
  },
  {
   "cell_type": "code",
   "execution_count": 7,
   "metadata": {},
   "outputs": [
    {
     "data": {
      "text/plain": [
       "DataFrameG(2×2 DataFrame\n",
       "│ Row │ A       │ B          │\n",
       "│     │ \u001b[90mFloat64\u001b[39m │ \u001b[90mArray…\u001b[39m     │\n",
       "├─────┼─────────┼────────────┤\n",
       "│ 1   │ 1.0     │ [0.0 3.14] │\n",
       "│ 2   │ 0.0     │ [0.0 2.0]  │)"
      ]
     },
     "execution_count": 7,
     "metadata": {},
     "output_type": "execute_result"
    }
   ],
   "source": [
    "DataFrameG( A = [1.0, 0.0] , B = [[ 0  3.14], [0  2.0]] )"
   ]
  },
  {
   "cell_type": "code",
   "execution_count": 10,
   "metadata": {},
   "outputs": [
    {
     "data": {
      "text/plain": [
       "2-element Array{String,1}:\n",
       " \"A\"\n",
       " \"B\""
      ]
     },
     "execution_count": 10,
     "metadata": {},
     "output_type": "execute_result"
    }
   ],
   "source": [
    "df = DataFrame(A = 1:4, B = [\"M\", \"F\", \"F\", \"M\"])\n",
    "df.A\n",
    "names(df)"
   ]
  },
  {
   "cell_type": "markdown",
   "metadata": {},
   "source": [
    "Maybe I could use the raw DataFrame object, but require a new column :Gen, :Rel\n",
    "\n",
    "A mixed representation might be fine, but only if consistent.\n"
   ]
  },
  {
   "cell_type": "code",
   "execution_count": 18,
   "metadata": {},
   "outputs": [
    {
     "data": {
      "text/plain": [
       "2×2 LinearAlgebra.Adjoint{Float64,Array{Float64,2}}:\n",
       " 0.0  3.14\n",
       " 0.0  2.0"
      ]
     },
     "execution_count": 18,
     "metadata": {},
     "output_type": "execute_result"
    }
   ],
   "source": [
    "hcat([[ 0;  3.14], [0;  2.0]]... )'"
   ]
  },
  {
   "cell_type": "code",
   "execution_count": null,
   "metadata": {},
   "outputs": [],
   "source": [
    "\n",
    "\n",
    "function linearjoin(df, dg; on = cols)\n",
    "    fcol = names(df)\n",
    "    gcol = names(dg)\n",
    "    ins = filter( c -> c ∈ cols , fcol)\n",
    "    outs = filter( c -> c ∈ cols , gcol)\n",
    "\n",
    "    A = Matrix(df[:, ins])\n",
    "    B = Matrix(df[:, cols])\n",
    "    C = Matrix(dg[:, cols])\n",
    "    D = Matrix(dg[:, outs])\n",
    "    \n",
    "    # extract sizes of different matrices\n",
    "    (m, n) = size(A)\n",
    "    (n1, x) = size(B)\n",
    "    ny, yi = size(C)\n",
    "    ny1, yo = size(D)\n",
    "\n",
    "    \n",
    "    # combine constraints\n",
    "    constraints = [ A             B   zeros(nx,yo) ;\n",
    "                    zeros(ny,xi)  C         D     ]\n",
    "    # convert to range representation\n",
    "    B = nullspace(A)\n",
    "    # project in range representation\n",
    "    projB = [B[1:xi       ,:] ;\n",
    "             B[xi+yi+1:end,:] ]\n",
    "    # return to nullspace representation\n",
    "    C = Base.transpose(nullspace(Base.transpose(projB)))\n",
    "    \n",
    "    #rebuild Dataframe\n",
    "    \n",
    "    return LinRel( C[:, 1:xi] ,C[:,xi+1:end] )\n",
    "\n",
    "    \n",
    "    \n",
    "    \n",
    "    A = df[:,Cols(cols)]\n",
    "    B = df[:,Not(Cols(cols))]\n",
    "    C = dg[:,Cols(cols)]\n",
    "    D = dg[:,Not(Cols(cols))]\n",
    "    \n",
    "    \n",
    "    \n",
    "    \n",
    "    \n",
    "\n",
    "end\n"
   ]
  },
  {
   "cell_type": "code",
   "execution_count": null,
   "metadata": {},
   "outputs": [],
   "source": [
    "# actually we want to overload indexing too.\n",
    "# hmm.\n",
    "\n",
    "function getindex(df::DataFrameG, cols)\n",
    "    \n",
    "\n",
    "end\n",
    "\n"
   ]
  },
  {
   "cell_type": "code",
   "execution_count": 109,
   "metadata": {},
   "outputs": [
    {
     "name": "stdout",
     "output_type": "stream",
     "text": [
      "1×4 DataFrame\n",
      "│ Row │ i1       │ v1        │ v3         │ consrep │\n",
      "│     │ \u001b[90mFloat64\u001b[39m  │ \u001b[90mFloat64\u001b[39m   │ \u001b[90mFloat64\u001b[39m    │ \u001b[90mInt64\u001b[39m   │\n",
      "├─────┼──────────┼───────────┼────────────┼─────────┤\n",
      "│ 1   │ 0.997509 │ 0.0498755 │ -0.0498755 │ 0       │"
     ]
    },
    {
     "data": {
      "text/plain": [
       "compose (generic function with 1 method)"
      ]
     },
     "execution_count": 109,
     "metadata": {},
     "output_type": "execute_result"
    }
   ],
   "source": [
    "using LinearAlgebra\n",
    "\n",
    "# nullconvert turns span rep to constraint rep or vice cersa\n",
    "function nullconvert(df)\n",
    "    cols = names(df)\n",
    "    A = nullspace(Matrix(df))\n",
    "    DataFrame(mapslices(x->[x], A, dims=2)[:] , cols ) #https://discourse.julialang.org/t/converting-a-matrix-into-an-array-of-arrays/17038/2\n",
    "end\n",
    "\n",
    "\n",
    "spanrep(x) = isspanrep(x) ? x : nullconvert(x)\n",
    "consrep(x) = isconsrep(x) ? x : nullconvert(x)\n",
    "\n",
    "# We tag somewhat inelegantly whether we're inb the span rep or constrain rep via a column tag\n",
    "isspanrep(x) = \"spanrep\" ∈ names(x)\n",
    "isconsrep(x) = \"consrep\" ∈ names(x)\n",
    "\n",
    "\n",
    "function spanrep(x) \n",
    "    if isspanrep(x)\n",
    "        return x\n",
    "    else\n",
    "        df = select(x, Not(:consrep))\n",
    "        df = nullconvert(df)\n",
    "        df[:spanrep] = 0 #missing\n",
    "        return df\n",
    "    end\n",
    "end\n",
    "\n",
    "function consrep(x) \n",
    "    if isconsrep(x)\n",
    "        return x\n",
    "    else\n",
    "        df = select(x, Not(:spanrep)) #remove tag\n",
    "        df = nullconvert(df)\n",
    "        df[:consrep] = 0 #add tag \n",
    "        return df\n",
    "     end\n",
    "end\n",
    "        #=\n",
    "#vrep(x) = isvrep(x) ? x : nullconvert(x)\n",
    "#hrep(x) = ishrep(x) ? x : nullconvert(x)\n",
    "\n",
    "function DataFrameGen( x...; kwargs...)\n",
    "    df = DataFrame(x...; kwargs...)\n",
    "    df[:gen] = missing\n",
    "    df\n",
    "end\n",
    "\n",
    "        df = DataFrame( A = [1.0, 0 ,0] , B = [0,0,0], C = [1,0,0])\n",
    "\n",
    "x = hrep(df)\n",
    "Matrix(hrep(hrep(x))) ≈ Matrix(x)  # no\n",
    "x\n",
    "#hrep(hrep(x))\n",
    "dg =  DataFrame( A = [1.0, 0 ,0] , B = [0,0,0], D = [1,0,0])\n",
    "        \n",
    "        =#\n",
    "        \n",
    "function DataFrameSpan( x...; kwargs...)\n",
    "    df = DataFrame(x...; kwargs...)\n",
    "    df[:spanrep] = 0 # missing\n",
    "    df\n",
    "end\n",
    "\n",
    "# representing linear relations via constraints\n",
    "function DataFrameCons( x...; kwargs...)\n",
    "    df = DataFrame(x...; kwargs...)\n",
    "    df[:consrep] = 0 # missing\n",
    "    df\n",
    "end\n",
    "\n",
    "\n",
    "\n",
    "\n",
    "\n",
    "\n",
    "function linearjoin(df,dg)  # ; on=[], makefresh=false )\n",
    "        df = coalesce.(consrep(df), 0)\n",
    "        dg = coalesce.(consrep(dg), 0)\n",
    "         coalesce.(vcat(df,dg, cols=:union), 0)\n",
    "end\n",
    "\n",
    "\n",
    "function linearproject(df, cols)\n",
    "        df = spanrep(df)\n",
    "        df = df[ [cols ; :spanrep]]\n",
    "end\n",
    "\n",
    "df = DataFrameCons( A = [1.0, 0 ,0] , B = [0,0,0], C = [1,0,0])\n",
    "dg = DataFrameCons( A = [1.0, 0 ,0] , E = [0,0,0], C = [1,0,0])\n",
    "isconsrep(df)\n",
    "#\"consrep\" ∈ names(df)\n",
    "spanrep(linearjoin(df,dg))\n",
    "\n",
    "# linearproject( df, cols )\n",
    "\n",
    "#innerjoin( df,dg)\n",
    "\n",
    "resistor(R, i , v1, v2) = DataFrameCons( [i => [R], v1 => [1], v2 => [-1] ] )\n",
    "vsource(V, v1, v2) =  DataFrameCons( [:one => [V], v1 => [1], v2 => [-1] ] )\n",
    "isource(I, i) =  DataFrameCons( [:one => [I], i => [-1] ] )\n",
    "\n",
    "r1 = resistor(10, :i1, :v1, :v2)\n",
    "r2 = resistor(10, :i1, :v2, :v3)\n",
    "\n",
    "\n",
    "sys = consrep(linearproject(linearjoin(r1,r2), [:i1, :v1, :v3]) )  #[:, [:i1,:v1,:v3]]\n",
    "print(sys)\n",
    "#print(sys[:, [:v1,:v3] ] ./ sys.i1\n",
    "\n",
    "# a cross join might give something weird. Some kind of kron product?\n",
    "\n",
    "function compose(df,dg) \n",
    "    inner_names = names(df) ∩ names(dg)\n",
    "    dh = linearjoin(df,dg)\n",
    "    linearproject(dg, inner_names)\n",
    "end"
   ]
  },
  {
   "cell_type": "code",
   "execution_count": 63,
   "metadata": {},
   "outputs": [
    {
     "data": {
      "text/plain": [
       "missing"
      ]
     },
     "execution_count": 63,
     "metadata": {},
     "output_type": "execute_result"
    }
   ],
   "source": [
    "df.gen = missing"
   ]
  },
  {
   "cell_type": "code",
   "execution_count": 64,
   "metadata": {},
   "outputs": [
    {
     "data": {
      "text/html": [
       "<table class=\"data-frame\"><thead><tr><th></th><th>A</th><th>B</th><th>C</th><th>gen</th></tr><tr><th></th><th>Float64</th><th>Int64</th><th>Int64</th><th>Missing</th></tr></thead><tbody><p>3 rows × 4 columns</p><tr><th>1</th><td>1.0</td><td>0</td><td>1</td><td><em>missing</em></td></tr><tr><th>2</th><td>0.0</td><td>0</td><td>0</td><td><em>missing</em></td></tr><tr><th>3</th><td>0.0</td><td>0</td><td>0</td><td><em>missing</em></td></tr></tbody></table>"
      ],
      "text/latex": [
       "\\begin{tabular}{r|cccc}\n",
       "\t& A & B & C & gen\\\\\n",
       "\t\\hline\n",
       "\t& Float64 & Int64 & Int64 & Missing\\\\\n",
       "\t\\hline\n",
       "\t1 & 1.0 & 0 & 1 & \\emph{missing} \\\\\n",
       "\t2 & 0.0 & 0 & 0 & \\emph{missing} \\\\\n",
       "\t3 & 0.0 & 0 & 0 & \\emph{missing} \\\\\n",
       "\\end{tabular}\n"
      ],
      "text/plain": [
       "3×4 DataFrame\n",
       "│ Row │ A       │ B     │ C     │ gen     │\n",
       "│     │ \u001b[90mFloat64\u001b[39m │ \u001b[90mInt64\u001b[39m │ \u001b[90mInt64\u001b[39m │ \u001b[90mMissing\u001b[39m │\n",
       "├─────┼─────────┼───────┼───────┼─────────┤\n",
       "│ 1   │ 1.0     │ 0     │ 1     │ \u001b[90mmissing\u001b[39m │\n",
       "│ 2   │ 0.0     │ 0     │ 0     │ \u001b[90mmissing\u001b[39m │\n",
       "│ 3   │ 0.0     │ 0     │ 0     │ \u001b[90mmissing\u001b[39m │"
      ]
     },
     "execution_count": 64,
     "metadata": {},
     "output_type": "execute_result"
    }
   ],
   "source": []
  },
  {
   "cell_type": "code",
   "execution_count": 31,
   "metadata": {},
   "outputs": [
    {
     "data": {
      "text/plain": [
       "2×2 Array{Array{Float64,N} where N,2}:\n",
       " [1.0]  [0.0 3.14]\n",
       " [0.0]  [0.0 2.0]"
      ]
     },
     "execution_count": 31,
     "metadata": {},
     "output_type": "execute_result"
    }
   ],
   "source": [
    "df = DataFrame( A = [1.0, 0.0] , B = [[ 0  3.14], [0  2.0]] )\n",
    "\n",
    "hcat(Array(df)...)\n",
    "Array(df)"
   ]
  },
  {
   "cell_type": "code",
   "execution_count": 33,
   "metadata": {},
   "outputs": [
    {
     "data": {
      "text/plain": [
       "2×2 Array{Float64,2}:\n",
       " 1.0  3.14\n",
       " 0.0  2.0"
      ]
     },
     "execution_count": 33,
     "metadata": {},
     "output_type": "execute_result"
    }
   ],
   "source": [
    "df = DataFrame( A = [1.0, 0.0] , B = [3.14, 2.0] )\n",
    "Matrix(df)\n",
    "\n",
    "\n"
   ]
  },
  {
   "cell_type": "code",
   "execution_count": null,
   "metadata": {},
   "outputs": [],
   "source": []
  }
 ],
 "metadata": {
  "kernelspec": {
   "display_name": "Julia 1.5.0",
   "language": "julia",
   "name": "julia-1.5"
  },
  "language_info": {
   "file_extension": ".jl",
   "mimetype": "application/julia",
   "name": "julia",
   "version": "1.5.0"
  }
 },
 "nbformat": 4,
 "nbformat_minor": 4
}
