{
 "cells": [
  {
   "cell_type": "code",
   "execution_count": 5,
   "metadata": {},
   "outputs": [
    {
     "name": "stdout",
     "output_type": "stream",
     "text": [
      "Array{Clause}((9,))\n",
      "  1: Clause\n",
      "    head: Compound\n",
      "      name: Symbol ancestor\n",
      "      args: Array{Term}((2,))\n",
      "        1: Const\n",
      "          name: Symbol sakyamuni\n",
      "        2: Const\n",
      "          name: Symbol bodhidharma\n",
      "    body: Array{Term}((0,))\n",
      "  2: Clause\n",
      "    head: Compound\n",
      "      name: Symbol teacher\n",
      "      args: Array{Term}((2,))\n",
      "        1: Const\n",
      "          name: Symbol bodhidharma\n",
      "        2: Const\n",
      "          name: Symbol huike\n",
      "    body: Array{Term}((0,))\n",
      "  3: Clause\n",
      "    head: Compound\n",
      "      name: Symbol teacher\n",
      "      args: Array{Term}((2,))\n",
      "        1: Const\n",
      "          name: Symbol huike\n",
      "        2: Const\n",
      "          name: Symbol sengcan\n",
      "    body: Array{Term}((0,))\n",
      "  4: Clause\n",
      "    head: Compound\n",
      "      name: Symbol teacher\n",
      "      args: Array{Term}((2,))\n",
      "        1: Const\n",
      "          name: Symbol sengcan\n",
      "        2: Const\n",
      "          name: Symbol daoxin\n",
      "    body: Array{Term}((0,))\n",
      "  5: Clause\n",
      "    head: Compound\n",
      "      name: Symbol teacher\n",
      "      args: Array{Term}((2,))\n",
      "        1: Const\n",
      "          name: Symbol daoxin\n",
      "        2: Const\n",
      "          name: Symbol hongren\n",
      "    body: Array{Term}((0,))\n",
      "  6: Clause\n",
      "    head: Compound\n",
      "      name: Symbol teacher\n",
      "      args: Array{Term}((2,))\n",
      "        1: Const\n",
      "          name: Symbol hongren\n",
      "        2: Const\n",
      "          name: Symbol huineng\n",
      "    body: Array{Term}((0,))\n",
      "  7: Clause\n",
      "    head: Compound\n",
      "      name: Symbol ancestor\n",
      "      args: Array{Term}((2,))\n",
      "        1: Var\n",
      "          name: Symbol A\n",
      "        2: Var\n",
      "          name: Symbol B\n",
      "    body: Array{Term}((1,))\n",
      "      1: Compound\n",
      "        name: Symbol teacher\n",
      "        args: Array{Term}((2,))\n",
      "          1: Var\n",
      "            name: Symbol A\n",
      "          2: Var\n",
      "            name: Symbol B\n",
      "  8: Clause\n",
      "    head: Compound\n",
      "      name: Symbol ancestor\n",
      "      args: Array{Term}((2,))\n",
      "        1: Var\n",
      "          name: Symbol A\n",
      "        2: Var\n",
      "          name: Symbol C\n",
      "    body: Array{Term}((2,))\n",
      "      1: Compound\n",
      "        name: Symbol teacher\n",
      "        args: Array{Term}((2,))\n",
      "          1: Var\n",
      "            name: Symbol B\n",
      "          2: Var\n",
      "            name: Symbol C\n",
      "      2: Compound\n",
      "        name: Symbol ancestor\n",
      "        args: Array{Term}((2,))\n",
      "          1: Var\n",
      "            name: Symbol A\n",
      "          2: Var\n",
      "            name: Symbol B\n",
      "  9: Clause\n",
      "    head: Compound\n",
      "      name: Symbol grandteacher\n",
      "      args: Array{Term}((2,))\n",
      "        1: Var\n",
      "          name: Symbol A\n",
      "        2: Var\n",
      "          name: Symbol C\n",
      "    body: Array{Term}((2,))\n",
      "      1: Compound\n",
      "        name: Symbol teacher\n",
      "        args: Array{Term}((2,))\n",
      "          1: Var\n",
      "            name: Symbol A\n",
      "          2: Var\n",
      "            name: Symbol B\n",
      "      2: Compound\n",
      "        name: Symbol teacher\n",
      "        args: Array{Term}((2,))\n",
      "          1: Var\n",
      "            name: Symbol B\n",
      "          2: Var\n",
      "            name: Symbol C\n"
     ]
    }
   ],
   "source": [
    "using Julog\n",
    "\n",
    "clauses = @julog [\n",
    "  ancestor(sakyamuni, bodhidharma) <<= true,\n",
    "  teacher(bodhidharma, huike) <<= true,\n",
    "  teacher(huike, sengcan) <<= true,\n",
    "  teacher(sengcan, daoxin) <<= true,\n",
    "  teacher(daoxin, hongren) <<= true,\n",
    "  teacher(hongren, huineng) <<= true,\n",
    "  ancestor(A, B) <<= teacher(A, B),\n",
    "  ancestor(A, C) <<= teacher(B, C) & ancestor(A, B),\n",
    "  grandteacher(A, C) <<= teacher(A, B) & teacher(B, C)\n",
    "]\n",
    "goals = @julog [ancestor(sakyamuni, huineng)]; # List of terms to query or prove\n",
    "sat, subst = resolve(goals, clauses);\n",
    "subst\n",
    "dump(clauses)"
   ]
  },
  {
   "cell_type": "code",
   "execution_count": 2,
   "metadata": {},
   "outputs": [
    {
     "name": "stderr",
     "output_type": "stream",
     "text": [
      "\u001b[32m\u001b[1m    Updating\u001b[22m\u001b[39m registry at `~/.julia/registries/General`\n",
      "\u001b[32m\u001b[1m    Updating\u001b[22m\u001b[39m git-repo `https://github.com/JuliaRegistries/General.git`\n",
      "\u001b[32m\u001b[1m   Resolving\u001b[22m\u001b[39m package versions...\n",
      "\u001b[32m\u001b[1m   Installed\u001b[22m\u001b[39m Julog ─ v0.1.10\n",
      "\u001b[32m\u001b[1m    Updating\u001b[22m\u001b[39m `~/.julia/environments/v1.6/Project.toml`\n",
      " \u001b[90m [5d8bcb5e] \u001b[39m\u001b[92m+ Julog v0.1.10\u001b[39m\n",
      "\u001b[32m\u001b[1m    Updating\u001b[22m\u001b[39m `~/.julia/environments/v1.6/Manifest.toml`\n",
      " \u001b[90m [5d8bcb5e] \u001b[39m\u001b[92m+ Julog v0.1.10\u001b[39m\n",
      "\u001b[32m\u001b[1mPrecompiling\u001b[22m\u001b[39m project...\n",
      "\u001b[32m  ✓ \u001b[39mJulog\n",
      "1 dependency successfully precompiled in 4 seconds (223 already precompiled)\n"
     ]
    }
   ],
   "source": [
    "import Pkg; Pkg.add(\"Julog\")"
   ]
  },
  {
   "cell_type": "code",
   "execution_count": null,
   "metadata": {},
   "outputs": [],
   "source": [
    "#\n",
    "struct Rel\n",
    "    stable\n",
    "    inc\n",
    "    fresh\n",
    "end\n",
    "\n",
    "struct Bind\n",
    "    rel\n",
    "    ins::Vector{Int64 => Symbol}\n",
    "    outs\n",
    "end\n",
    "struct CheckEq\n",
    "    a::Symbol\n",
    "    b::Symbol\n",
    "end\n",
    "struct Yield\n",
    "    args\n",
    "end\n",
    "# should semi naive translation happen before instructions? Before intepretation?\n",
    "# I suppose it should.\n",
    "\n",
    "# topological sort also\n",
    "\n",
    "\n",
    "\n",
    "\n",
    "function interp(insns, buf)\n",
    "    insn = insns[1]\n",
    "    insns = insns[2:end]\n",
    "    if insn isa Bind\n",
    "        quote\n",
    "            for ( $ins... ) in $rel.stable\n",
    "                \n",
    "            end\n",
    "        end\n",
    "    elseif insn isa CheckEq\n",
    "        quote\n",
    "            if $(insn.a) == $(insn.b)\n",
    "                $(  interp(insns) )\n",
    "            end\n",
    "        end\n",
    "    elseif insn isa Yield\n",
    "        :( push!($buf, $(insn.args) ) )\n",
    "    end\n",
    "end\n",
    "\n",
    "\n",
    "# stratified negation\n",
    "\n",
    "\n",
    "\n",
    "\n"
   ]
  },
  {
   "cell_type": "code",
   "execution_count": 7,
   "metadata": {},
   "outputs": [
    {
     "data": {
      "text/plain": [
       "4-element Vector{Any}:\n",
       " (:a, :c)\n",
       " (:b, :b)\n",
       " (:b, :d)\n",
       " (:c, :c)"
      ]
     },
     "execution_count": 7,
     "metadata": {},
     "output_type": "execute_result"
    }
   ],
   "source": [
    "#import Pkg; Pkg.add(\"DataFrames\")\n",
    "#using DataFrames\n",
    "#ttps://github.com/frankmcsherry/blog/blob/master/posts/2018-05-19.md\n",
    "\n",
    "edge = [(:a, :b), (:b, :c), (:c, :b), (:c, :d) ]\n",
    "\n",
    "reachable = []\n",
    "\n",
    "dedge = edge\n",
    "dreach = copy(edge)\n",
    "\n",
    "# reachable := edge, reachable\n",
    "\n",
    "\n",
    "dreach1 = [  (x,z)  for (x,y) in edge for (y1,z) in dreach if y == y1 ]\n",
    "dedge1 = []\n",
    "dedge = dedge1\n",
    "dreach = dreach1\n",
    "\n",
    "reachable = dreach ∪ reachable\n"
   ]
  },
  {
   "cell_type": "markdown",
   "metadata": {},
   "source": [
    "Datalog.\n",
    "\n",
    "a = []\n",
    "function rule1(a,da,b,db,c,dc)\n",
    "    for (x,y,z) in a\n",
    "      for (a,b,c) in b # possibly index into b instead.\n",
    "      \n",
    "      end\n",
    "      end\n",
    "end\n",
    "\n",
    "\n",
    "struct Rel\n",
    "    name:Symbol\n",
    "    vars::Vector{symbol}\n",
    "end\n",
    "\n",
    "struct Rule\n",
    "    head::Rel\n",
    "    thing:Vector{Rel}\n",
    "end\n",
    "\n",
    "The da are with respect to when though? Since the ladst time we updated this one?\n",
    "I guess if we wrote this thing as \n",
    "\n",
    "dconj(a,b)\n",
    "    for \n",
    "    (c, dc)\n",
    "end\n",
    "\n",
    "compose(a,b)\n",
    "    \n",
    "    return (c, \n",
    "    (da,db) -> \n",
    "    da * b \\cup\n",
    "    b * da \\cup\n",
    "    da * db \n",
    "     )\n",
    "end\n",
    "\n",
    "Is the matrix view helpful?\n",
    "\n",
    "\"Auatomatic finite differencing\"\n",
    "\n",
    "Using conitnuations like this is ultamitely silly. You want to just mutate.\n",
    "\n",
    "do\n",
    "    drel = Op(rels, drel)\n",
    "    rel = rul \\cup drel\n",
    "while drel not empty\n",
    "\n",
    "\n",
    "function rule(a,da)\n",
    "   \n",
    "\n",
    "Naive evaluation\n",
    "for (x,y,z) in a\n",
    "    \n",
    "end\n",
    "\n",
    "@datalog a(x,y,z), b(z,p,q), \n",
    "\n",
    "bind(a, (x,y,z) ->  bind(b, (x1,y1,z1) -> if x1 == x && ...  )\n",
    "q(X,Z) :- a(X,Y), b(X,Z)\n",
    "\n",
    "Ok no shared variables. That's a nicety\n",
    "q(X,Z) :- a(X,Y), b(X1,Z), X = X1.\n",
    "\n",
    "q = [  (x,z) for (x,y) in a for (x1,y) in b if x == x1 ]\n",
    "\n",
    "\"Modes\" are indexing choices?\n",
    "\n",
    "Ok so niave literal reading\n",
    "q(x,y).\n",
    "q(X,Y) :- p().\n",
    "\n",
    "Sequential. or in parallel.\n",
    "\n",
    "dq1 = \n",
    "dq2 = \n",
    "dq3 = \n",
    "dq4 = \n",
    "\n",
    "return union(dq1,2,dq3,dq4\n",
    "\n",
    "becomes\n",
    "\n",
    "q = []\n",
    "q = [   ]  \\cup q \n",
    "\n",
    "Should I record an index for each line of where dq starts? Or maybe I just know it is dq + dq + dq.\n",
    "Or maybe I put it in a worklist. Everyone who depends on q. But they depend on multiple things.\n",
    "\n",
    "https://www.stephendiehl.com/posts/exotic04.html stephen diehl on souffle\n",
    "\n"
   ]
  },
  {
   "cell_type": "markdown",
   "metadata": {},
   "source": [
    "Alessandro showed an interesintg analogy.\n",
    "If we use the egraph as our database of facts, we can apply datalog style bottom up reasoning to it by using multipatterns.\n",
    "Is this how uZ3 works? No, I think\n",
    "\n",
    "\n",
    "It would be neat to use DataFrames?\n",
    "\n",
    "Datalog for DataFrames\n",
    "\n"
   ]
  },
  {
   "cell_type": "code",
   "execution_count": 24,
   "metadata": {},
   "outputs": [
    {
     "data": {
      "text/plain": [
       "1-element Array{Compound,1}:\n",
       " grandteacher(X, Y)"
      ]
     },
     "execution_count": 24,
     "metadata": {},
     "output_type": "execute_result"
    }
   ],
   "source": [
    "goals = @julog [grandteacher(X, Y)];\n",
    "sat, subst = resolve(goals, clauses);\n",
    "subst\n",
    "goals"
   ]
  },
  {
   "cell_type": "code",
   "execution_count": 6,
   "metadata": {},
   "outputs": [
    {
     "name": "stderr",
     "output_type": "stream",
     "text": [
      "┌ Info: Precompiling Metatheory [e9d8d322-4543-424a-9be4-0cc815abe26c]\n",
      "└ @ Base loading.jl:1278\n"
     ]
    }
   ],
   "source": [
    "using Metatheory\n",
    "\n"
   ]
  },
  {
   "cell_type": "code",
   "execution_count": 13,
   "metadata": {},
   "outputs": [
    {
     "data": {
      "text/plain": [
       "2"
      ]
     },
     "execution_count": 13,
     "metadata": {},
     "output_type": "execute_result"
    }
   ],
   "source": [
    "G = EGraph(:a)\n",
    "t2 = addexpr!(G, :b)\n",
    "merge!(G, t2.id, 1)\n",
    "in_same"
   ]
  },
  {
   "cell_type": "code",
   "execution_count": 45,
   "metadata": {},
   "outputs": [
    {
     "name": "stdout",
     "output_type": "stream",
     "text": [
      "Array{Rule}((3,))\n",
      "  1: Rule\n",
      "    left: Expr\n",
      "      head: Symbol call\n",
      "      args: Array{Any}((3,))\n",
      "        1: Symbol *\n",
      "        2: Symbol a\n",
      "        3: Symbol b\n",
      "    right: Expr\n",
      "      head: Symbol call\n",
      "      args: Array{Any}((3,))\n",
      "        1: Symbol *\n",
      "        2: Symbol b\n",
      "        3: Symbol a\n",
      "    expr: Expr\n",
      "      head: Symbol call\n",
      "      args: Array{Any}((3,))\n",
      "        1: Symbol =>\n",
      "        2: Expr\n",
      "          head: Symbol call\n",
      "          args: Array{Any}((3,))\n",
      "            1: Symbol *\n",
      "            2: Symbol a\n",
      "            3: Symbol b\n",
      "        3: Expr\n",
      "          head: Symbol call\n",
      "          args: Array{Any}((3,))\n",
      "            1: Symbol *\n",
      "            2: Symbol b\n",
      "            3: Symbol a\n",
      "    mode: Symbol rewrite\n",
      "  2: Rule\n",
      "    left: Expr\n",
      "      head: Symbol call\n",
      "      args: Array{Any}((3,))\n",
      "        1: Symbol *\n",
      "        2: Symbol a\n",
      "        3: Int64 1\n",
      "    right: Symbol a\n",
      "    expr: Expr\n",
      "      head: Symbol call\n",
      "      args: Array{Any}((3,))\n",
      "        1: Symbol =>\n",
      "        2: Expr\n",
      "          head: Symbol call\n",
      "          args: Array{Any}((3,))\n",
      "            1: Symbol *\n",
      "            2: Symbol a\n",
      "            3: Int64 1\n",
      "        3: Symbol a\n",
      "    mode: Symbol rewrite\n",
      "  3: Rule\n",
      "    left: Expr\n",
      "      head: Symbol call\n",
      "      args: Array{Any}((3,))\n",
      "        1: Symbol *\n",
      "        2: Symbol a\n",
      "        3: Expr\n",
      "          head: Symbol call\n",
      "          args: Array{Any}((3,))\n",
      "            1: Symbol *\n",
      "            2: Symbol b\n",
      "            3: Symbol c\n",
      "    right: Expr\n",
      "      head: Symbol call\n",
      "      args: Array{Any}((3,))\n",
      "        1: Symbol *\n",
      "        2: Expr\n",
      "          head: Symbol call\n",
      "          args: Array{Any}((3,))\n",
      "            1: Symbol *\n",
      "            2: Symbol a\n",
      "            3: Symbol b\n",
      "        3: Symbol c\n",
      "    expr: Expr\n",
      "      head: Symbol call\n",
      "      args: Array{Any}((3,))\n",
      "        1: Symbol =>\n",
      "        2: Expr\n",
      "          head: Symbol call\n",
      "          args: Array{Any}((3,))\n",
      "            1: Symbol *\n",
      "            2: Symbol a\n",
      "            3: Expr\n",
      "              head: Symbol call\n",
      "              args: Array{Any}((3,))\n",
      "                1: Symbol *\n",
      "                2: Symbol b\n",
      "                3: Symbol c\n",
      "        3: Expr\n",
      "          head: Symbol call\n",
      "          args: Array{Any}((3,))\n",
      "            1: Symbol *\n",
      "            2: Expr\n",
      "              head: Symbol call\n",
      "              args: Array{Any}((3,))\n",
      "                1: Symbol *\n",
      "                2: Symbol a\n",
      "                3: Symbol b\n",
      "            3: Symbol c\n",
      "    mode: Symbol rewrite\n"
     ]
    }
   ],
   "source": [
    "comm_monoid = @theory begin\n",
    "    a * b => b * a\n",
    "    a * 1 => a\n",
    "    a * (b * c) => (a * b) * c\n",
    "end\n",
    "\n",
    "dump(comm_monoid)"
   ]
  },
  {
   "cell_type": "code",
   "execution_count": null,
   "metadata": {},
   "outputs": [],
   "source": [
    "#https://github.com/AlgebraicJulia/Catlab.jl/blob/master/src/theories/Monoidal.jl\n",
    "\n",
    "@theory MonoidalCategory{Ob,Hom} <: Category{Ob,Hom} begin\n",
    "  otimes(A::Ob, B::Ob)::Ob\n",
    "  otimes(f::(A → B), g::(C → D))::((A ⊗ C) → (B ⊗ D)) ⊣\n",
    "    (A::Ob, B::Ob, C::Ob, D::Ob)\n",
    "  @op (⊗) := otimes\n",
    "  munit()::Ob\n",
    "\n",
    "  # Monoid axioms.\n",
    "  (A ⊗ B) ⊗ C == A ⊗ (B ⊗ C) ⊣ (A::Ob, B::Ob, C::Ob)\n",
    "  A ⊗ munit() == A ⊣ (A::Ob)\n",
    "  munit() ⊗ A == A ⊣ (A::Ob)\n",
    "  (f ⊗ g) ⊗ h == f ⊗ (g ⊗ h) ⊣ (A::Ob, B::Ob, C::Ob, X::Ob, Y::Ob, Z::Ob,\n",
    "                                f::(A → X), g::(B → Y), h::(C → Z))\n",
    "\n",
    "  # Functorality axioms.\n",
    "  ((f ⊗ g) ⋅ (h ⊗ k) == (f ⋅ h) ⊗ (g ⋅ k)\n",
    "    ⊣ (A::Ob, B::Ob, C::Ob, X::Ob, Y::Ob, Z::Ob,\n",
    "       f::(A → B), h::(B → C), g::(X → Y), k::(Y → Z)))\n",
    "  id(A ⊗ B) == id(A) ⊗ id(B) ⊣ (A::Ob, B::Ob)\n",
    "end\n"
   ]
  },
  {
   "cell_type": "code",
   "execution_count": 43,
   "metadata": {},
   "outputs": [
    {
     "name": "stdout",
     "output_type": "stream",
     "text": [
      "Expr\n",
      "  head: Symbol ::\n",
      "  args: Array{Any}((2,))\n",
      "    1: Symbol f\n",
      "    2: Symbol Int64\n"
     ]
    }
   ],
   "source": [
    "dump(:(f::Int64))"
   ]
  },
  {
   "cell_type": "code",
   "execution_count": 60,
   "metadata": {},
   "outputs": [
    {
     "data": {
      "text/plain": [
       "1-element Array{Any,1}:\n",
       " {T => hom(a, a), T2 => hom(A, A), D => A, B => A, T3 => hom(otimes(A, A), otimes(A, A)), C => A}"
      ]
     },
     "execution_count": 60,
     "metadata": {},
     "output_type": "execute_result"
    }
   ],
   "source": [
    "clauses = @julog [\n",
    "  typ(ob, typ) <<= true,\n",
    "  typ(hom(A,B), typ) <<= typ(A, ob) & typ(B, ob), \n",
    "  typ(id(A), hom(A,A)) <<= true,\n",
    "  typ(comp(F,G), hom(A,C)) <<= typ(F, hom(A,B)) & typ(G, hom(B,C)),\n",
    "  typ(otimes(A,B), ob) <<= typ(A,ob) & typ(B, ob),\n",
    "  typ(otimes(F,G), hom(otimes(A,B), otimes(C,D))) <<= typ(F, hom(A,C)) & typ(G,hom(B,D)) \n",
    "]\n",
    "# hmm, I'm supressing all the typ(a,ob).\n",
    "goals = @julog [typ(id(a), T) , typ(comp(id(A), id(B)), T2), typ(otimes(id(C),id(D)), T3 )];\n",
    "sat, subst = resolve(goals, clauses);\n",
    "subst\n",
    "\n",
    "# So As long as I'm inferring types, I don't think\n"
   ]
  },
  {
   "cell_type": "code",
   "execution_count": null,
   "metadata": {},
   "outputs": [],
   "source": [
    "@theory\n",
    "    a * a ~~> (sub -> sub[:a] * sub[:a] * dict[:a])  \n",
    "\n",
    "end"
   ]
  },
  {
   "cell_type": "code",
   "execution_count": 62,
   "metadata": {},
   "outputs": [
    {
     "name": "stdout",
     "output_type": "stream",
     "text": [
      "Array{Clause}((6,))\n",
      "  1: Clause\n",
      "    head: Compound\n",
      "      name: Symbol typ\n",
      "      args: Array{Term}((2,))\n",
      "        1: Const\n",
      "          name: Symbol ob\n",
      "        2: Const\n",
      "          name: Symbol typ\n",
      "    body: Array{Term}((0,))\n",
      "  2: Clause\n",
      "    head: Compound\n",
      "      name: Symbol typ\n",
      "      args: Array{Term}((2,))\n",
      "        1: Compound\n",
      "          name: Symbol hom\n",
      "          args: Array{Term}((2,))\n",
      "            1: Var\n",
      "              name: Symbol A\n",
      "            2: Var\n",
      "              name: Symbol B\n",
      "        2: Const\n",
      "          name: Symbol typ\n",
      "    body: Array{Term}((2,))\n",
      "      1: Compound\n",
      "        name: Symbol typ\n",
      "        args: Array{Term}((2,))\n",
      "          1: Var\n",
      "            name: Symbol A\n",
      "          2: Const\n",
      "            name: Symbol ob\n",
      "      2: Compound\n",
      "        name: Symbol typ\n",
      "        args: Array{Term}((2,))\n",
      "          1: Var\n",
      "            name: Symbol B\n",
      "          2: Const\n",
      "            name: Symbol ob\n",
      "  3: Clause\n",
      "    head: Compound\n",
      "      name: Symbol typ\n",
      "      args: Array{Term}((2,))\n",
      "        1: Compound\n",
      "          name: Symbol id\n",
      "          args: Array{Term}((1,))\n",
      "            1: Var\n",
      "              name: Symbol A\n",
      "        2: Compound\n",
      "          name: Symbol hom\n",
      "          args: Array{Term}((2,))\n",
      "            1: Var\n",
      "              name: Symbol A\n",
      "            2: Var\n",
      "              name: Symbol A\n",
      "    body: Array{Term}((0,))\n",
      "  4: Clause\n",
      "    head: Compound\n",
      "      name: Symbol typ\n",
      "      args: Array{Term}((2,))\n",
      "        1: Compound\n",
      "          name: Symbol comp\n",
      "          args: Array{Term}((2,))\n",
      "            1: Var\n",
      "              name: Symbol F\n",
      "            2: Var\n",
      "              name: Symbol G\n",
      "        2: Compound\n",
      "          name: Symbol hom\n",
      "          args: Array{Term}((2,))\n",
      "            1: Var\n",
      "              name: Symbol A\n",
      "            2: Var\n",
      "              name: Symbol C\n",
      "    body: Array{Term}((2,))\n",
      "      1: Compound\n",
      "        name: Symbol typ\n",
      "        args: Array{Term}((2,))\n",
      "          1: Var\n",
      "            name: Symbol F\n",
      "          2: Compound\n",
      "            name: Symbol hom\n",
      "            args: Array{Term}((2,))\n",
      "              1: Var\n",
      "                name: Symbol A\n",
      "              2: Var\n",
      "                name: Symbol B\n",
      "      2: Compound\n",
      "        name: Symbol typ\n",
      "        args: Array{Term}((2,))\n",
      "          1: Var\n",
      "            name: Symbol G\n",
      "          2: Compound\n",
      "            name: Symbol hom\n",
      "            args: Array{Term}((2,))\n",
      "              1: Var\n",
      "                name: Symbol B\n",
      "              2: Var\n",
      "                name: Symbol C\n",
      "  5: Clause\n",
      "    head: Compound\n",
      "      name: Symbol typ\n",
      "      args: Array{Term}((2,))\n",
      "        1: Compound\n",
      "          name: Symbol otimes\n",
      "          args: Array{Term}((2,))\n",
      "            1: Var\n",
      "              name: Symbol A\n",
      "            2: Var\n",
      "              name: Symbol B\n",
      "        2: Const\n",
      "          name: Symbol ob\n",
      "    body: Array{Term}((2,))\n",
      "      1: Compound\n",
      "        name: Symbol typ\n",
      "        args: Array{Term}((2,))\n",
      "          1: Var\n",
      "            name: Symbol A\n",
      "          2: Const\n",
      "            name: Symbol ob\n",
      "      2: Compound\n",
      "        name: Symbol typ\n",
      "        args: Array{Term}((2,))\n",
      "          1: Var\n",
      "            name: Symbol B\n",
      "          2: Const\n",
      "            name: Symbol ob\n",
      "  6: Clause\n",
      "    head: Compound\n",
      "      name: Symbol typ\n",
      "      args: Array{Term}((2,))\n",
      "        1: Compound\n",
      "          name: Symbol otimes\n",
      "          args: Array{Term}((2,))\n",
      "            1: Var\n",
      "              name: Symbol F\n",
      "            2: Var\n",
      "              name: Symbol G\n",
      "        2: Compound\n",
      "          name: Symbol hom\n",
      "          args: Array{Term}((2,))\n",
      "            1: Compound\n",
      "              name: Symbol otimes\n",
      "              args: Array{Term}((2,))\n",
      "                1: Var\n",
      "                2: Var\n",
      "            2: Compound\n",
      "              name: Symbol otimes\n",
      "              args: Array{Term}((2,))\n",
      "                1: Var\n",
      "                2: Var\n",
      "    body: Array{Term}((2,))\n",
      "      1: Compound\n",
      "        name: Symbol typ\n",
      "        args: Array{Term}((2,))\n",
      "          1: Var\n",
      "            name: Symbol F\n",
      "          2: Compound\n",
      "            name: Symbol hom\n",
      "            args: Array{Term}((2,))\n",
      "              1: Var\n",
      "                name: Symbol A\n",
      "              2: Var\n",
      "                name: Symbol C\n",
      "      2: Compound\n",
      "        name: Symbol typ\n",
      "        args: Array{Term}((2,))\n",
      "          1: Var\n",
      "            name: Symbol G\n",
      "          2: Compound\n",
      "            name: Symbol hom\n",
      "            args: Array{Term}((2,))\n",
      "              1: Var\n",
      "                name: Symbol B\n",
      "              2: Var\n",
      "                name: Symbol D\n"
     ]
    }
   ],
   "source": [
    "clauses = @julog [\n",
    "  typ(ob, typ) <<= true,\n",
    "  typ(hom(A,B), typ) <<= typ(A, ob) & typ(B, ob), \n",
    "  typ(id(A), hom(A,A)) <<= true,\n",
    "  typ(comp(F,G), hom(A,C)) <<= typ(F, hom(A,B)) & typ(G, hom(B,C)),\n",
    "  typ(otimes(A,B), ob) <<= typ(A,ob) & typ(B, ob),\n",
    "  typ(otimes(F,G), hom(otimes(A,B), otimes(C,D))) <<= typ(F, hom(A,C)) & typ(G,hom(B,D)) \n",
    "]\n",
    "dump(clauses)"
   ]
  },
  {
   "cell_type": "code",
   "execution_count": 59,
   "metadata": {},
   "outputs": [
    {
     "name": "stdout",
     "output_type": "stream",
     "text": [
      "Var\n",
      "  name: Symbol T\n",
      "Compound\n",
      "  name: Symbol hom\n",
      "  args: Array{Term}((2,))\n",
      "    1: Const\n",
      "      name: Symbol a\n",
      "    2: Const\n",
      "      name: Symbol a\n",
      "Var\n",
      "  name: Symbol T2\n",
      "Compound\n",
      "  name: Symbol hom\n",
      "  args: Array{Term}((2,))\n",
      "    1: Var\n",
      "      name: Symbol A\n",
      "    2: Var\n",
      "      name: Symbol A\n",
      "Var\n",
      "  name: Symbol D\n",
      "Var\n",
      "  name: Symbol A\n",
      "Var\n",
      "  name: Symbol B\n",
      "Var\n",
      "  name: Symbol A\n",
      "Var\n",
      "  name: Symbol T3\n",
      "Compound\n",
      "  name: Symbol hom\n",
      "  args: Array{Term}((2,))\n",
      "    1: Compound\n",
      "      name: Symbol otimes\n",
      "      args: Array{Term}((2,))\n",
      "        1: Var\n",
      "          name: Symbol A\n",
      "        2: Var\n",
      "          name: Symbol A\n",
      "    2: Compound\n",
      "      name: Symbol otimes\n",
      "      args: Array{Term}((2,))\n",
      "        1: Var\n",
      "          name: Symbol A\n",
      "        2: Var\n",
      "          name: Symbol A\n",
      "Var\n",
      "  name: Symbol C\n",
      "Var\n",
      "  name: Symbol A\n"
     ]
    }
   ],
   "source": [
    "for (k,v) in collect(subst[1])\n",
    "    dump(k)\n",
    "    dump(v)\n",
    "end"
   ]
  },
  {
   "cell_type": "markdown",
   "metadata": {},
   "source": [
    "Why does he need the root? There is not root?\n",
    "\n"
   ]
  },
  {
   "cell_type": "markdown",
   "metadata": {},
   "source": [
    "It got me all the solutions eagerly... What.\n"
   ]
  },
  {
   "cell_type": "markdown",
   "metadata": {},
   "source": [
    "Using the DijsointSet for unification. We could make a varaint of disjoint set that uses a persistent array underneath.\n",
    "\n",
    "Unification is breaking up the term universe (herbrand universe) into disjoint sets oif terms.\n",
    "This is a huge thing that can only be talked about implcility.\n",
    "\n",
    "Or is it a term universe with variable slots?\n",
    "\n",
    "Still, if we have a set of equations\n",
    "f(~a,b) == f(~c, b)\n",
    "\n",
    "Add to disjointset even compound terms or only when hit atom?\n",
    "set_equal( t1,t2 ) ?\n",
    "\n",
    "The hash cons is just an optimization to avoid traversing terms?\n",
    "\n",
    "Anti-confurence f(x) = f(y) => x = y . Closure over injectivity.\n",
    "\n",
    "There is a certain kind of symmettry between the egraph problem and the unification problem\n",
    "\n",
    "Var(a) == Var(c)\n",
    "b == b\n",
    "f\n",
    "\n",
    "\n",
    "\n",
    "occurs_check(IntDisjointSet) post hoc or pre hoc?\n",
    "\n",
    "\n",
    "\n",
    "\n",
    "unification for Catlab\n",
    "\n",
    "\n",
    "Well, i already did this in my minikanren exploits.\n",
    "We could use JuLog\n",
    "\n",
    "[\n",
    " id => id(~a)\n",
    " sigma => sigma(~A,~B)\n",
    " ...\n",
    " \n",
    "]\n",
    "\n",
    "\n",
    "Prolog + egraphs.\n",
    "\n",
    "If smt is sat + egraphs\n",
    "Then prolog search + egraphs should be no problem in principle.\n",
    "Prolog takes uniifcation as a base construct, Egraphs are similar in many repsects to unification.\n",
    "E-Graphs work over ground terms though.\n",
    "\n",
    "Swap in persistent structures?\n",
    "vs. just copying.\n",
    "Copying might be fast.\n",
    "\n",
    "I wonder how good tabling might be at just axiomatizing equality as a predicate\n",
    "A == A.\n",
    "A == B :- B == A.\n",
    "A == C :- A == B, A == C.\n",
    "\n",
    "\n",
    "I wonder how hard it would be to build an egraph as a library?\n",
    "We already have natural union find.\n",
    "Making fresh Ids is easy\n",
    "\n",
    "enode(N , Terms )\n",
    "\n",
    "\n",
    "eclass(f(a,b) , C ) :- eclass( g(q) , C).\n",
    "eclass( f(A,B), C ) :- eclass( f(A', B), C  ), eclass( A, D  ), eclass(A', D') % congurence\n",
    "\n",
    "\n",
    "f(a) = g(b) expands to\n",
    "\n",
    "You need to assert all facts in the same context.\n",
    "eclass(g(b), C) :- eclass(g(b), D), D = C.\n",
    "\n",
    "\n",
    "eclass(f(a), C), eclass(g(b), C), ... , eclass(Q, C).\n",
    "\n",
    "\n",
    "\n",
    "\n",
    "egraph(Nodes,  , Parents ) :-\n",
    "\n",
    "\n",
    "% equalty is a special \"tabled\" predicate\n",
    "f(x,y) == g(z,w). % assert ground equalities.\n",
    "f(A) == g(A). % pattern match and instantiate\n",
    "\n",
    "What if you could smush together scryer and egg.\n",
    "\n",
    "\n",
    "A == B :- \n",
    "\n",
    "p( , ) :- A === B, \n",
    "\n",
    "Or should I build prolog into the e matcher?\n",
    "Collect matches\n",
    "\n",
    "typ(F) ~ hom(A,B)  => F == id(F) . F\n",
    "\n",
    "\n",
    "The catlab syntax is SMART because it has the minimal annotation to make it unambiguously typed. This is for user reasons, but it is also good for automation reasons. We don't chunk up\n",
    "\n",
    "A birdirectional type checking thing woud have top level annotations\n",
    "\n",
    "Julog\n",
    "Shouold typ work on unleaborated terms or no?\n",
    "Yes, the point free categroicval style lets us think about elaboration without worrying about binding issues.\n",
    "That's nice. (Not that binding issues are like the end all be all of problems. Cody would be inclined to sayu that's the least of your owrries.)\n",
    "\n",
    "typ(comp(F,G), hom(A,B)) :- typ(F, hom(A,B), typ(G, hom(B,C))\n",
    "typ(comp(A,B,F,G), hom(A,B) ). \n",
    "\n",
    "\n",
    "\n",
    "I could cut every predicate? That's indicative that i don't really need prolog search. \n",
    "typ(comp() , ) :- !, \n",
    "\n",
    "elab(id, id(A)).\n",
    "elab( comp(F,G) , comp(A,B,F',G')) :- elab(F,F'), elab(G,G'), typ(comp(F,G) \n",
    " \n",
    " \n",
    "\n",
    "elab( lam(X, ) , lam(X,A, ) , FVar)\n",
    "\n",
    "check() :-  \n",
    "infer() :- !, infer\n",
    " \n",
    " Prolog typechecker\n",
    " https://news.ycombinator.com/item?id=15583515\n",
    " \n",
    " https://www.cs.kent.ac.uk/pubs/2012/3136/content.pdf smt solver in prolog\n",
    " Its also nice that it expresses about the naivest methods of smt solving possible\n",
    " \n",
    " There is a dumber version of congurence closure. some kind of for loop\n",
    " "
   ]
  },
  {
   "cell_type": "code",
   "execution_count": 21,
   "metadata": {},
   "outputs": [
    {
     "data": {
      "text/plain": [
       "true"
      ]
     },
     "execution_count": 21,
     "metadata": {},
     "output_type": "execute_result"
    }
   ],
   "source": [
    "x = Ref{Any}(:a)\n",
    "x[] = x\n",
    "\n",
    "x[] === x\n",
    "\n",
    "x[] isa Ref\n"
   ]
  },
  {
   "cell_type": "code",
   "execution_count": 28,
   "metadata": {},
   "outputs": [
    {
     "data": {
      "text/plain": [
       "Base.RefValue{Any}(#undef)"
      ]
     },
     "execution_count": 28,
     "metadata": {},
     "output_type": "execute_result"
    }
   ],
   "source": [
    "Ref{Any}()"
   ]
  },
  {
   "cell_type": "code",
   "execution_count": 30,
   "metadata": {},
   "outputs": [
    {
     "data": {
      "text/plain": [
       "newvar (generic function with 1 method)"
      ]
     },
     "execution_count": 30,
     "metadata": {},
     "output_type": "execute_result"
    }
   ],
   "source": [
    "function newvar()\n",
    "    x = Ref{Any}()\n",
    "    x[] = x\n",
    "    x\n",
    "end"
   ]
  },
  {
   "cell_type": "code",
   "execution_count": 23,
   "metadata": {},
   "outputs": [
    {
     "data": {
      "text/plain": [
       "unify (generic function with 1 method)"
      ]
     },
     "execution_count": 23,
     "metadata": {},
     "output_type": "execute_result"
    }
   ],
   "source": [
    "function canon(x)\n",
    "    while x isa Ref && x[] != x # could do some small path compression here\n",
    "        # temp = x\n",
    "        x = x[]\n",
    "        # temp[] = x[] \n",
    "    end\n",
    "    return x\n",
    "end\n",
    "    \n",
    "\n",
    "function unify(x, y)\n",
    "    x = canon(x)\n",
    "    y = canon(y)\n",
    "    if x === y\n",
    "        ()\n",
    "    elseif x[] isa Ref\n",
    "        x[] = y\n",
    "    elseif y[] isa Ref\n",
    "        y[] = x\n",
    "    else\n",
    "        return false\n",
    "    end\n",
    "end"
   ]
  },
  {
   "cell_type": "code",
   "execution_count": 69,
   "metadata": {},
   "outputs": [
    {
     "data": {
      "text/plain": [
       "unify! (generic function with 1 method)"
      ]
     },
     "execution_count": 69,
     "metadata": {},
     "output_type": "execute_result"
    }
   ],
   "source": [
    "DisjointSets{Union{Symbol,Int}}()\n",
    "\n",
    "#= function unify!(s, x, y)\n",
    "    x = find_root!(s,x)\n",
    "    \n",
    "end =#\n",
    "struct Var\n",
    "    id::Int\n",
    "end\n",
    "# let's not even bother renaming it though?\n",
    "unify!(s,x,y) = union!(s, x, y)\n",
    "# This is for datalog queries. However, What about terms?\n",
    "\n",
    "\n",
    "\n",
    "function foo(s,x,y,c)\n",
    "    union!(s, x,:a)\n",
    "    union!(s, y,:c)\n",
    "    greg(s)\n",
    "    larry(s, :a)\n",
    "end\n"
   ]
  },
  {
   "cell_type": "code",
   "execution_count": null,
   "metadata": {},
   "outputs": [],
   "source": [
    "function unify!(d, t1::Var,t2)\n",
    "    set_equal(d, t1, t2)\n",
    "    return true\n",
    "end\n",
    "\n",
    "function \n",
    "\n",
    "function unify!(d, t1, t2)\n",
    "    t1.head != t2.head && length(t1.args) != length(t2.args) && return nothing\n",
    "    for t1,t2 in zip(t1.args, t2.args)\n",
    "        !unify!(d, t1, t2) && return false\n",
    "    end\n",
    "    return true\n",
    "end\n",
    "    \n",
    "unify(t1,t2) = unify!(DisjointSet{Union{Var,Term}}(), t1, t2)\n",
    "\n",
    "    \n",
    "    \n",
    "# They should even share \n",
    "# named variables. \n",
    "\n",
    "\n",
    "\n"
   ]
  },
  {
   "cell_type": "code",
   "execution_count": null,
   "metadata": {},
   "outputs": [],
   "source": [
    "function unify!(s,x::Term,y::Term)\n",
    "    x.head != y.head && fail()\n",
    "    for i,j in zip(x.args, y.args)\n",
    "        unify!(s,i,j)\n",
    "    end\n",
    "end\n",
    "\n",
    "\n"
   ]
  },
  {
   "cell_type": "code",
   "execution_count": 25,
   "metadata": {},
   "outputs": [
    {
     "data": {
      "text/plain": [
       ":a"
      ]
     },
     "execution_count": 25,
     "metadata": {},
     "output_type": "execute_result"
    }
   ],
   "source": [
    "unify(x,:a)"
   ]
  },
  {
   "cell_type": "code",
   "execution_count": 31,
   "metadata": {},
   "outputs": [
    {
     "data": {
      "text/plain": [
       ":a"
      ]
     },
     "execution_count": 31,
     "metadata": {},
     "output_type": "execute_result"
    }
   ],
   "source": [
    "x = newvar()\n",
    "y = newvar()\n",
    "unify(x,y)\n",
    "unify(y,:a)\n",
    "canon(x)"
   ]
  },
  {
   "cell_type": "markdown",
   "metadata": {},
   "source": [
    "Detemrinstic datalog.\n",
    "\n",
    "foo(a,b,X) :- greg, larry(a).\n",
    "\n",
    "function foo(x,y,c)\n",
    "    unify(x,:a)\n",
    "    unify(y,:c)\n",
    "    greg()\n",
    "    larry(:a)\n",
    "end\n",
    "\n",
    "function greg()\n",
    "\n",
    "function foo(\n",
    ")\n",
    "end\n",
    "\n",
    "\n",
    "Determinstic prolog\n",
    "\n",
    "\n",
    "\n",
    "Proplog\n",
    "I love this. it is just the search aspects of prolog/datalog with none of the unification issues.\n",
    "\n",
    "You can do tabling,\n",
    "bottom up,\n",
    "semi naive,\n",
    "other stuff?  magic sets?\n"
   ]
  },
  {
   "cell_type": "code",
   "execution_count": 46,
   "metadata": {},
   "outputs": [
    {
     "name": "stdout",
     "output_type": "stream",
     "text": [
      "[:curly, :moe]\n",
      "Any[:curly]\n",
      "Any[:moe, :larry]\n",
      "Any[:moe]\n",
      "Any[]\n"
     ]
    },
    {
     "data": {
      "text/plain": [
       "true"
      ]
     },
     "execution_count": 46,
     "metadata": {},
     "output_type": "execute_result"
    }
   ],
   "source": [
    "#struct Clause\n",
    "#    head\n",
    "#    body\n",
    "#end\n",
    "\n",
    "#clauses = Dict{:Symbol, Vector{Vector{Symbol}}}()\n",
    "\n",
    "#goalstack = [:larry,:shirmy]\n",
    "\n",
    "function establish(clauses,goalstack)\n",
    "    println(goalstack)\n",
    "    if length(goalstack) == 0\n",
    "        return true\n",
    "    end\n",
    "    goal = pop!(goalstack)\n",
    "    if !haskey(clauses,goal)\n",
    "        return false\n",
    "    end\n",
    "    for clause in clauses[goal]\n",
    "        if establish(clauses, [goalstack ; clause]) \n",
    "            return true\n",
    "        end\n",
    "    end\n",
    "    return false\n",
    "end\n",
    "clauses = Dict(\n",
    "    :moe => [[]],\n",
    "    :larry => [[]],\n",
    "    :curly => [[:moe, :larry]]\n",
    ")\n",
    "\n",
    "\n",
    "establish(clauses , [:curly, :moe])\n"
   ]
  },
  {
   "cell_type": "code",
   "execution_count": 38,
   "metadata": {},
   "outputs": [
    {
     "data": {
      "text/plain": [
       "6-element Array{Int64,1}:\n",
       " 1\n",
       " 2\n",
       " 3\n",
       " 1\n",
       " 2\n",
       " 3"
      ]
     },
     "execution_count": 38,
     "metadata": {},
     "output_type": "execute_result"
    }
   ],
   "source": [
    "x = [1, 2, 3]\n",
    "y = [1, 2, 3]\n",
    "z = [x ; y]\n",
    "pop!(x)\n",
    "z"
   ]
  },
  {
   "cell_type": "code",
   "execution_count": 62,
   "metadata": {},
   "outputs": [
    {
     "data": {
      "text/plain": [
       "Set{Any} with 3 elements:\n",
       "  :moe\n",
       "  :larry\n",
       "  :curly"
      ]
     },
     "execution_count": 62,
     "metadata": {},
     "output_type": "execute_result"
    }
   ],
   "source": [
    "#bottom uip naive\n",
    "\n",
    "derived = Set()\n",
    "\n",
    "clauses = [\n",
    "    :moe => [],\n",
    "    :larry => [],\n",
    "    :curly => [:moe, :larry],\n",
    "    :gary => [:gary],\n",
    "    :farly => [:cranly]\n",
    "]\n",
    "\n",
    "dirty = true\n",
    "new = Set()\n",
    "while true\n",
    "    for (head, body) in clauses\n",
    "        if body ⊆ derived\n",
    "            push!(new, head)\n",
    "        end\n",
    "    end\n",
    "    if derived == new\n",
    "        break\n",
    "    end\n",
    "    derived = derived ∪ new\n",
    "end\n",
    "\n",
    "derived"
   ]
  },
  {
   "cell_type": "code",
   "execution_count": 55,
   "metadata": {},
   "outputs": [
    {
     "data": {
      "text/plain": [
       "3-element Array{Int64,1}:\n",
       " 1\n",
       " 3\n",
       " 2"
      ]
     },
     "execution_count": 55,
     "metadata": {},
     "output_type": "execute_result"
    }
   ],
   "source": [
    "[1,3] ∪ Set([1,2,3])"
   ]
  },
  {
   "cell_type": "code",
   "execution_count": null,
   "metadata": {},
   "outputs": [],
   "source": [
    "#bottom uip\n",
    "\n",
    "derived = Set()\n",
    "\n",
    "clauses = [\n",
    "    :moe => [],\n",
    "    :larry => [],\n",
    "    :curly => [:moe, :larry],\n",
    "    :gary => [:gary],\n",
    "    :farly => [:cranly]\n",
    "]\n",
    "\n",
    "dirty = true\n",
    "new = Set()\n",
    "fresh = Set()\n",
    "while true\n",
    "    for (head, body) in clauses\n",
    "        if length(fresh ∩ body) > 0 && body ⊆ derived\n",
    "            push!(new, head)\n",
    "        end\n",
    "    end\n",
    "    fresh = derived \\ new\n",
    "    derived = derived ∪ new\n",
    "    if length(fresh) == 0\n",
    "        break\n",
    "    end\n",
    "end\n",
    "\n",
    "derived"
   ]
  },
  {
   "cell_type": "code",
   "execution_count": 64,
   "metadata": {},
   "outputs": [],
   "source": [
    "using DataStructures"
   ]
  },
  {
   "cell_type": "code",
   "execution_count": 67,
   "metadata": {},
   "outputs": [
    {
     "data": {
      "text/plain": [
       "DisjointSets{Union{Int64, Symbol}}(Dict{Union{Int64, Symbol},Int64}(), Union{Int64, Symbol}[], IntDisjointSets{Int64}(Int64[], Int64[], 0))"
      ]
     },
     "execution_count": 67,
     "metadata": {},
     "output_type": "execute_result"
    }
   ],
   "source": []
  },
  {
   "cell_type": "code",
   "execution_count": null,
   "metadata": {},
   "outputs": [],
   "source": []
  }
 ],
 "metadata": {
  "kernelspec": {
   "display_name": "Julia 1.6.0",
   "language": "julia",
   "name": "julia-1.6"
  },
  "language_info": {
   "file_extension": ".jl",
   "mimetype": "application/julia",
   "name": "julia",
   "version": "1.6.0"
  }
 },
 "nbformat": 4,
 "nbformat_minor": 4
}
