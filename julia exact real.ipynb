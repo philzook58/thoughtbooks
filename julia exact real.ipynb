{
 "cells": [
  {
   "cell_type": "code",
   "execution_count": 1,
   "metadata": {},
   "outputs": [
    {
     "data": {
      "text/plain": [
       "#3 (generic function with 1 method)"
      ]
     },
     "execution_count": 1,
     "metadata": {},
     "output_type": "execute_result"
    }
   ],
   "source": [
    "x -> x"
   ]
  },
  {
   "cell_type": "code",
   "execution_count": 6,
   "metadata": {},
   "outputs": [
    {
     "data": {
      "text/plain": [
       "3"
      ]
     },
     "execution_count": 6,
     "metadata": {},
     "output_type": "execute_result"
    }
   ],
   "source": [
    "((x,y)->x+y)(1,2)"
   ]
  },
  {
   "cell_type": "code",
   "execution_count": 4,
   "metadata": {},
   "outputs": [
    {
     "data": {
      "text/plain": [
       "1"
      ]
     },
     "execution_count": 4,
     "metadata": {},
     "output_type": "execute_result"
    }
   ],
   "source": [
    "(x -> y -> x)(1)(2)"
   ]
  },
  {
   "cell_type": "code",
   "execution_count": 9,
   "metadata": {},
   "outputs": [
    {
     "data": {
      "text/plain": [
       "6"
      ]
     },
     "execution_count": 9,
     "metadata": {},
     "output_type": "execute_result"
    }
   ],
   "source": [
    "factorial(3)"
   ]
  },
  {
   "cell_type": "code",
   "execution_count": 12,
   "metadata": {},
   "outputs": [
    {
     "data": {
      "text/plain": [
       "sillysin (generic function with 1 method)"
      ]
     },
     "execution_count": 12,
     "metadata": {},
     "output_type": "execute_result"
    }
   ],
   "source": [
    "function sillysin(err,x)\n",
    "    t = 1\n",
    "    y = 0\n",
    "    n = 1\n",
    "    x = x % (2 * pi)\n",
    "    while t >= err\n",
    "      t = (-x)^n / factorial(n) \n",
    "      y -= t \n",
    "      n += 2\n",
    "    end\n",
    "    return y\n",
    "end"
   ]
  },
  {
   "cell_type": "code",
   "execution_count": null,
   "metadata": {},
   "outputs": [],
   "source": [
    "sillysin(0.3, )"
   ]
  },
  {
   "cell_type": "code",
   "execution_count": 17,
   "metadata": {},
   "outputs": [
    {
     "data": {
      "text/plain": [
       "lenscompose (generic function with 1 method)"
      ]
     },
     "execution_count": 17,
     "metadata": {},
     "output_type": "execute_result"
    }
   ],
   "source": [
    "\n",
    "\n",
    "function square(eps)\n",
    "    return sqrt(eps) , x -> x * x \n",
    "end\n",
    "\n",
    "function add(eps1,eps2)\n",
    "    return min(eps1,eps2) / 2, (x,y) -> x + y\n",
    "end    \n",
    "\n",
    "function sin(eps)\n",
    "    return eps/2, x -> sintoaccuracy(eps/2,x)\n",
    "end\n",
    "        \n",
    "function lenscompose(f,g)\n",
    "    function res(epsz)\n",
    "        epsy, f2 = f(epsz)\n",
    "        epsz, g2 = g(epsy)\n",
    "        return epsz, x -> f2(g2(x))\n",
    "    end\n",
    "    return res\n",
    "end\n"
   ]
  },
  {
   "cell_type": "markdown",
   "metadata": {},
   "source": [
    "The exact reals seem like an interesting place for \n",
    "\n",
    "If we make the precision required static and the actual computation \n",
    "https://docs.julialang.org/en/v1/manual/integers-and-floating-point-numbers/#Arbitrary-Precision-Arithmetic-1\n",
    "\n",
    "Julia contains gnu multiprecision by default. That's rpetty cool\n",
    "\n",
    "\n",
    "Wait, since having a derivative is a stronger condition than continuity, I ought to be able to directly take reverse mode and get verfied bounds\n",
    "\n",
    "No, I need a symbolic derivative + interval analysis of the derivative.\n",
    "\n",
    "Maybe I want a automatic differentiation applied to intervals. \n",
    "\n",
    "\n",
    "Why do I want to do it in stages?\n",
    "Well, then we spend more precision on parts that matter and less on parts that don't\n",
    "\n",
    "\n",
    "\n",
    "Is there any sense in which this is better than interval airthemtic itself?\n",
    "Interval arithemtic does not arbitrarily converge by construction? But it probably does...\n",
    "\n",
    "Sometimes you care about a particular output precision.\n",
    "\n",
    "Pre analysis let's you use \"cheaper?\" computations. not sure mpfi is that much cheaper.\n",
    "\n",
    "\n",
    "So there's a forward mode interval analysis\n",
    "backward mode precision analysis\n",
    "and then a forward mode multiprecision analysis.\n",
    "\n",
    "\n",
    "lazy boolean\n",
    "\n",
    "T, F, bot.\n",
    "what is dx\n",
    "x > 7\n",
    "`>` takes two numbers. 7 is known exactly.to guarantee T/F/bot is known, we have to \n",
    "\n",
    "filters? the forward interval analysis will tell us if T, F is possible.\n",
    "\n",
    "https://members.loria.fr/PZimmermann/irram18.pdf\n",
    "Hmm this is explcilty mentioned DAGs. \n",
    "\"Bottomn up and top down\"\n",
    "Yeah. The computation graph he's describing is very similar to differentiation\n",
    "I think I'm describing something similar to \"top down\"\n"
   ]
  },
  {
   "cell_type": "code",
   "execution_count": null,
   "metadata": {},
   "outputs": [],
   "source": [
    "BigFloat(1)"
   ]
  },
  {
   "cell_type": "code",
   "execution_count": null,
   "metadata": {},
   "outputs": [],
   "source": [
    "lens( dy ) = (dy , x::Expr -> x)  \n",
    "\n",
    "compose(l1,l2) = dz -> let (dy,  f1 ) = l1 dz in \n",
    "                       let (dx , f2 ) = l2 dy in   \n",
    "                       (dx, x -> :(begin\n",
    "                                    \n",
    "                                   q = $(f1 x)\n",
    "                                   setprecision( $(dy) )\n",
    "                                   let z = $(f2 :(q)) in\n",
    "                                   z\n",
    "                                   \n",
    "                    \n",
    "                                     end))       \n",
    "                       end \n",
    "                       end\n",
    "    \n",
    "    \n",
    "    "
   ]
  },
  {
   "cell_type": "code",
   "execution_count": 33,
   "metadata": {},
   "outputs": [
    {
     "data": {
      "text/plain": [
       "#89 (generic function with 1 method)"
      ]
     },
     "execution_count": 33,
     "metadata": {},
     "output_type": "execute_result"
    }
   ],
   "source": [
    "\n",
    "prec = 10\n",
    "f1 = q -> q * q\n",
    "f2 = q -> sqrt(q)\n",
    "# we may want to cps this so we can put the lets in good places.\n",
    "ex = x -> :(begin\n",
    "         let y = $(f1)($(x))\n",
    "         setprecision($(prec))\n",
    "         let z = $(f2)(y) # or just avoid the let here\n",
    "            z\n",
    "            end\n",
    "         end\n",
    "        end)\n",
    "\n",
    "sealex = eval(:(x -> $( ex(:(x)) ) ))"
   ]
  },
  {
   "cell_type": "code",
   "execution_count": 40,
   "metadata": {},
   "outputs": [
    {
     "data": {
      "text/plain": [
       "CodeInfo(\n",
       "\u001b[90m1 ─\u001b[39m %1 = invoke Main.:*(_2::BigFloat, _2::BigFloat)\u001b[36m::BigFloat\u001b[39m\n",
       "\u001b[90m│  \u001b[39m %2 = Base.MPFR.DEFAULT_PRECISION\u001b[36m::Base.RefValue{Int64}\u001b[39m\n",
       "\u001b[90m│  \u001b[39m      Base.setfield!(%2, :x, 10)\u001b[90m::Int64\u001b[39m\n",
       "\u001b[90m│  \u001b[39m %4 = invoke Main.sqrt(%1::BigFloat)\u001b[36m::BigFloat\u001b[39m\n",
       "\u001b[90m└──\u001b[39m      return %4\n",
       ") => BigFloat"
      ]
     },
     "execution_count": 40,
     "metadata": {},
     "output_type": "execute_result"
    }
   ],
   "source": [
    "@code_typed sealex(BigFloat(7))\n",
    "# code_lowered code_llvm code_native"
   ]
  },
  {
   "cell_type": "code",
   "execution_count": 41,
   "metadata": {},
   "outputs": [
    {
     "data": {
      "text/plain": [
       "CodeInfo(\n",
       "\u001b[90m1 ─\u001b[39m     y = (var\"#83#84\"())(x)\n",
       "\u001b[90m│  \u001b[39m     Main.setprecision(10)\n",
       "\u001b[90m│  \u001b[39m     z = (var\"#85#86\"())(y)\n",
       "\u001b[90m└──\u001b[39m     return z\n",
       ")"
      ]
     },
     "execution_count": 41,
     "metadata": {},
     "output_type": "execute_result"
    }
   ],
   "source": [
    "@code_lowered sealex(BigFloat(7))"
   ]
  },
  {
   "cell_type": "code",
   "execution_count": 23,
   "metadata": {},
   "outputs": [
    {
     "ename": "MethodError",
     "evalue": "MethodError: no method matching (::var\"#37#38\")(::BigFloat)\nClosest candidates are:\n  #37(!Matched::Expr) at In[21]:6",
     "output_type": "error",
     "traceback": [
      "MethodError: no method matching (::var\"#37#38\")(::BigFloat)\nClosest candidates are:\n  #37(!Matched::Expr) at In[21]:6",
      "",
      "Stacktrace:",
      " [1] (::var\"#39#40\")(::BigFloat) at ./In[21]:15",
      " [2] top-level scope at In[23]:1"
     ]
    }
   ],
   "source": [
    "sealex(BigFloat(7))"
   ]
  },
  {
   "cell_type": "code",
   "execution_count": 43,
   "metadata": {},
   "outputs": [
    {
     "data": {
      "text/plain": [
       "#100 (generic function with 1 method)"
      ]
     },
     "execution_count": 43,
     "metadata": {},
     "output_type": "execute_result"
    }
   ],
   "source": [
    "\n",
    "prec = 10\n",
    "f1 = q -> q * q\n",
    "f2 = q -> sqrt(q)\n",
    "# we may want to cps this so we can put the lets in good places.\n",
    "ex = x -> begin\n",
    "          let y = f1(x)\n",
    "          setprecision(prec)\n",
    "          let z = f2(y) # or just avoid the let here\n",
    "          z\n",
    "            end\n",
    "         end\n",
    "        end\n"
   ]
  },
  {
   "cell_type": "code",
   "execution_count": 44,
   "metadata": {},
   "outputs": [
    {
     "data": {
      "text/plain": [
       "CodeInfo(\n",
       "\u001b[90m1 ─\u001b[39m     y = Main.f1(x)\n",
       "\u001b[90m│  \u001b[39m     Main.setprecision(Main.prec)\n",
       "\u001b[90m│  \u001b[39m     z = Main.f2(y)\n",
       "\u001b[90m└──\u001b[39m     return z\n",
       ")"
      ]
     },
     "execution_count": 44,
     "metadata": {},
     "output_type": "execute_result"
    }
   ],
   "source": [
    "@code_lowered ex(BigFloat(7))"
   ]
  },
  {
   "cell_type": "code",
   "execution_count": 45,
   "metadata": {},
   "outputs": [],
   "source": [
    "using ForwardDiff"
   ]
  },
  {
   "cell_type": "code",
   "execution_count": 53,
   "metadata": {},
   "outputs": [
    {
     "name": "stderr",
     "output_type": "stream",
     "text": [
      "┌ Info: Precompiling IntervalArithmetic [d1acc4aa-44c8-5952-acd4-ba5d80a2a253]\n",
      "└ @ Base loading.jl:1260\n"
     ]
    }
   ],
   "source": [
    "using IntervalArithmetic"
   ]
  },
  {
   "cell_type": "code",
   "execution_count": 52,
   "metadata": {},
   "outputs": [
    {
     "data": {
      "text/plain": [
       "-1.0"
      ]
     },
     "execution_count": 52,
     "metadata": {},
     "output_type": "execute_result"
    }
   ],
   "source": [
    "ForwardDiff.derivative(sin, Float64(π) )"
   ]
  },
  {
   "cell_type": "code",
   "execution_count": 57,
   "metadata": {},
   "outputs": [
    {
     "data": {
      "text/plain": [
       "[0.540302, 0.540303]₂₅₆"
      ]
     },
     "execution_count": 57,
     "metadata": {},
     "output_type": "execute_result"
    }
   ],
   "source": [
    "ForwardDiff.derivative(sin, @biginterval(1.0))"
   ]
  },
  {
   "cell_type": "code",
   "execution_count": 58,
   "metadata": {},
   "outputs": [
    {
     "data": {
      "text/plain": [
       "[0.540302, 0.540303]"
      ]
     },
     "execution_count": 58,
     "metadata": {},
     "output_type": "execute_result"
    }
   ],
   "source": [
    "ForwardDiff.derivative(sin, @interval(1.0))"
   ]
  },
  {
   "cell_type": "code",
   "execution_count": 64,
   "metadata": {},
   "outputs": [
    {
     "data": {
      "text/plain": [
       "[-0.185082, 0.185082]"
      ]
     },
     "execution_count": 64,
     "metadata": {},
     "output_type": "execute_result"
    }
   ],
   "source": [
    "# evaluating x in the interval [0,1], in order to get +- 0.1 accuracy on output, we need to evaluate with +- 0.185 accuracy\n",
    "# I haven't thoguht through this right.\n",
    "@interval(-0.1,0.1) / ForwardDiff.derivative(sin, @interval(0,1))"
   ]
  },
  {
   "cell_type": "code",
   "execution_count": null,
   "metadata": {},
   "outputs": [],
   "source": [
    "struct Reverseo\n",
    "    domaino\n",
    "    k\n",
    "end\n",
    "\n",
    "\n",
    "Base.:+(x::Reverseo , y::Reverseo) =\n",
    "      let df = max( abs(ForwardDiff.gradient( x -> x[1] + x[2] , [  x.domaino , y.domaino ]  )))\n",
    "      let epsz -> (epsz / df[1] / 2 , epsz / df[2] / 2   )\n",
    "        \n",
    "\n",
    "end\n",
    "\n",
    "    Base.sum(x::Reverseo ) = x.domaino yada\n",
    "                             Reverso( sum(x.domaino)  , epsz ->  x.k ( epsz  /  df   ,  x2 -> setprecision(epsz) ; sum(x2) ) \n",
    "    \n",
    "\n",
    "::Reverseo * ::Reverseo\n",
    "\n"
   ]
  },
  {
   "cell_type": "code",
   "execution_count": 1,
   "metadata": {},
   "outputs": [
    {
     "data": {
      "text/plain": [
       "+ (generic function with 1 method)"
      ]
     },
     "execution_count": 1,
     "metadata": {},
     "output_type": "execute_result"
    }
   ],
   "source": [
    "struct Foo end\n",
    "\n",
    "x::Foo + y::Foo = Foo()"
   ]
  },
  {
   "cell_type": "code",
   "execution_count": 2,
   "metadata": {},
   "outputs": [
    {
     "data": {
      "text/plain": [
       "Foo()"
      ]
     },
     "execution_count": 2,
     "metadata": {},
     "output_type": "execute_result"
    }
   ],
   "source": [
    "Foo() + Foo()"
   ]
  },
  {
   "cell_type": "code",
   "execution_count": 6,
   "metadata": {},
   "outputs": [],
   "source": [
    "Base.sin(x::Foo) = Foo()"
   ]
  },
  {
   "cell_type": "code",
   "execution_count": 7,
   "metadata": {},
   "outputs": [
    {
     "data": {
      "text/plain": [
       "Foo()"
      ]
     },
     "execution_count": 7,
     "metadata": {},
     "output_type": "execute_result"
    }
   ],
   "source": [
    "sin(Foo())"
   ]
  },
  {
   "cell_type": "code",
   "execution_count": 8,
   "metadata": {},
   "outputs": [
    {
     "data": {
      "text/html": [
       "# 1 method for generic function <b>sin</b>:<ul><li> sin(x::<b>Foo</b>) in Main at In[3]:1</li> </ul>"
      ],
      "text/plain": [
       "# 1 method for generic function \"sin\":\n",
       "[1] sin(x::Foo) in Main at In[3]:1"
      ]
     },
     "execution_count": 8,
     "metadata": {},
     "output_type": "execute_result"
    }
   ],
   "source": [
    "methods(sin)"
   ]
  },
  {
   "cell_type": "markdown",
   "metadata": {},
   "source": [
    "(x -> (y, dy -> dx) ~ (x -> (y, forall s. (dx -> s) -> (dy -> s)) ~> forall s. (x , dx -> s) -> (y , dy -> s)\n",
    "\n",
    "What this is expressing is that reverse mode AD is a map on linear functionals\n",
    "\n",
    "\n",
    "DualIx -> (DualIy, (epsy -> (epsx, (x -> y)))\n",
    "\n",
    "(DualIx, epsx -> s)\n",
    "\n",
    "epsx , (y -> s) -> (x -> s)\n",
    "  (epsy, y -> s) -> (epsx, x -> s)\n",
    "    (DualIx , ((epsx, x -> s) -> t))  -> (DualIy, ((epsy, y -> s) -> t))\n",
    "    DualIx -> ((epsx, x -> s) -> t))  -> (DualIy, ((epsy, y -> s) -> t)) \n",
    "    \n",
    "    \n",
    "run(f, initdom, epsy) = let Iy, k = f(InitDom, id)   # t is now (epsx, x->s) so maybe I want snd? or curry it?\n",
    "                        let f2  = k (epsy, id)\n",
    "                        in  x::BigFloat -> f2(x)\n",
    "   \n",
    "   \n",
    "struct ExactNum \n",
    "q :: DualIx, (epsx, x -> s) -> t\n",
    "end\n",
    "\n",
    "\n",
    "cos(sin(ExactNum))\n",
    "\n",
    "\n"
   ]
  }
 ],
 "metadata": {
  "kernelspec": {
   "display_name": "Julia 1.4.1",
   "language": "julia",
   "name": "julia-1.4"
  },
  "language_info": {
   "file_extension": ".jl",
   "mimetype": "application/julia",
   "name": "julia",
   "version": "1.4.1"
  }
 },
 "nbformat": 4,
 "nbformat_minor": 4
}
