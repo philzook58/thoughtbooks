{
 "cells": [
  {
   "cell_type": "code",
   "execution_count": 1,
   "metadata": {},
   "outputs": [],
   "source": [
    "from z3 import *"
   ]
  },
  {
   "cell_type": "code",
   "execution_count": 8,
   "metadata": {},
   "outputs": [],
   "source": [
    "def rid1(x,y): # a receptive relations. It receives variables\n",
    "    return x == y\n",
    "\n",
    "def compose1(f, sort, g): # annoying but we need to supply the sort of the inner variable\n",
    "    def res(x,z):\n",
    "        y = FreshConst(sort)\n",
    "        return Exists([y], And(f(x,y), g(y,z)))\n",
    "    return res\n",
    "\n",
    "def rid2(x): # a functional relation. It receives a variable then produces one.\n",
    "    y = FreshConst(x.sort())\n",
    "    return y, x == y\n",
    "\n",
    "def compose2(f,g):\n",
    "    def res(x):\n",
    "       y, cf = f(x)\n",
    "       z, cg = g(y)\n",
    "       return z, Exists([y], And(cf,cg) )\n",
    "    return res\n",
    "\n",
    "def rid3(sort):  # a type indexed generator of relations. Annoying we have to supply the type of the variable\n",
    "    def res(): # a productive relation\n",
    "       x = FreshConst(sort)\n",
    "       y = FreshConst(sort)\n",
    "       return x, y, x == y\n",
    "    return res\n",
    "\n",
    "def compose3(f,g):\n",
    "   def res():\n",
    "      x, yf, cf = f()\n",
    "      yg, z, cg = g()\n",
    "      return x, z, Exists([yf,yg], And(cf, cg, yf == yg))\n",
    "   return res"
   ]
  },
  {
   "cell_type": "markdown",
   "metadata": {},
   "source": [
    "The different styles are interconvertible with each other. We need to supply the appropriate sort information unfortunately."
   ]
  },
  {
   "cell_type": "code",
   "execution_count": 9,
   "metadata": {},
   "outputs": [],
   "source": [
    "def lift12(sorty, f):\n",
    "    def res(x):\n",
    "        y = FreshConst(sorty)\n",
    "        c = f(x,y)\n",
    "        return y, c\n",
    "    return res\n",
    "\n",
    "def lift23(sortx, f):\n",
    "    def res():\n",
    "        x = FreshConst(sortx)\n",
    "        y, c = f(x)\n",
    "        return x, y, c\n",
    "    return res\n",
    "  \n",
    "def lift31(f):\n",
    "    def r(x,y):\n",
    "      x1, y1, c = f()\n",
    "      return x1, y1, And(c, x1 == x, y1 == y)\n",
    "    return res"
   ]
  },
  {
   "cell_type": "markdown",
   "metadata": {},
   "source": [
    "Relations are sets of tuples. Predicates, which are z3 expressions of sort `a -> Bool` are also reasonable representations of sets. This functional representation wasn't so great in Haskell, because we needed to introspect into the lambda functions in order to do many search-like operations. Z3 has no qualms doing this.\n",
    "\n",
    "We can create the general cadre of relation algebra operators.\n",
    "\n"
   ]
  },
  {
   "cell_type": "code",
   "execution_count": null,
   "metadata": {},
   "outputs": [],
   "source": [
    "\n"
   ]
  },
  {
   "cell_type": "code",
   "execution_count": null,
   "metadata": {},
   "outputs": [],
   "source": [
    "trivial = BoolVal(True)\n",
    "\n",
    "def top1(x,y): # top is the full relation,\n",
    "    return trivial\n",
    "def bottom1(x,y):\n",
    "    return BoolVal(False)\n",
    "\n",
    "def top2(sorty):\n",
    "    def res(x):\n",
    "        y = FreshConst(sorty)\n",
    "        return y, trivial\n",
    "    return res\n",
    "\n",
    "def top3(sortx, sorty):\n",
    "    def res():\n",
    "        x = FreshConst(sortx)\n",
    "        y = FreshConst(sorty)\n",
    "        return x, y, trivial\n",
    "    return res\n",
    "\n",
    "def converse1(r):\n",
    "    return lambda x,y: r(y,x)\n",
    "def meet1(p,q):\n",
    "    return lambda x,y : p(x,y) & q(x,y)\n",
    "def join1(p,q):\n",
    "    return lambda x,y : p(x,y) | q(x,y)\n",
    "\n",
    "# product and sum types\n",
    "def fst1(x,y): # proj(0)\n",
    "    return y == x.sort().accessor(0,0)(x)\n",
    "def snd1(x,y): # proj(1)\n",
    "    return y == x.sort().accessor(0,1)(x)\n",
    "def left1(x,y):\n",
    "    return y == y.sort().constructor(0)(x)\n",
    "def right1(x,y):\n",
    "    return y == y.sort().constructor(1)(x)\n",
    "def inj1(n):\n",
    "    return lambda x, y: return y == y.sort().constructor(n)(x)\n",
    "def proj1(n):\n",
    "    return lambda x, y: return y == x.sort().accessor(0,n)(x)\n",
    "def fan(p,q):\n",
    "    def res(x,y): \n",
    "       a = y.sort().accessor(0,0)(y)\n",
    "       b = y.sort().accessor(0,1)(y)\n",
    "       return And(p(x,a), q(x,b))\n",
    "    return res\n",
    "def dup1(x,(y1,y2)): # alternatively we may not want to internalize the tuple into z3.\n",
    "    return And(x == y1 , x == y2)\n",
    "def convert_tuple((x,y), xy):  # convert between internal z3 tuple and python tuple.\n",
    "    return xy == xy.constructor(0)(x,y)\n",
    "#def split():\n",
    "#def rdiv"
   ]
  },
  {
   "cell_type": "code",
   "execution_count": null,
   "metadata": {},
   "outputs": [],
   "source": [
    "def lte1(x,y):\n",
    "    return x <= y\n",
    "def sum1(x,y): # I'm being hazy about what x is here exactly\n",
    "    return x[0] + x[1] == y\n",
    "def npsum(x,y):\n",
    "    return np.sum(x) == y # you can make numpy arrays of z3 variables. Some vectorized functions work.\n",
    "def mul1(x,y):\n",
    "    return x[0] * x[1] == y\n",
    "def and1((x,y), z):\n",
    "    return z == And(x,y)\n",
    "def If1((b,t,e),y):\n",
    "    return If(b, t,e) == y"
   ]
  },
  {
   "cell_type": "markdown",
   "metadata": {},
   "source": [
    "Relational properties can be expressed as a ForAll statement"
   ]
  },
  {
   "cell_type": "code",
   "execution_count": null,
   "metadata": {},
   "outputs": [],
   "source": [
    "# relational properties\n",
    "\n",
    "def rsub(p,q):\n",
    "    return ForAll([x,y].Implies(p(x,y) , q(x,y) ))\n",
    "def req(p,q):\n",
    "    return And(rsub(p,q), rsub(q,p) \n",
    "def symmetric1(sortx, sorty, r):\n",
    "    x = FreshConst(sortx)\n",
    "    y = FreshConst(sorty)\n",
    "    return ForAll([x,y], r(x,y) == r(y,x))\n",
    "def reflexive1(sortx, r):\n",
    "    x = FreshConst(sortx)\n",
    "    return ForAll([x],r(x,x))\n",
    "def transitive1(sortx,sorty,sortz, r):\n",
    "    x = FreshConst(sx)\n",
    "    y = FreshConst(sy)\n",
    "    ForAll([x,y], Implies(r(x,y) & r(y,z) , r(x,z))\n",
    "def strict1(r):\n",
    "    return Not(r(x,x))\n",
    "def itern(n, sortx, p): # unroll \n",
    "    if n == 0:\n",
    "        return rid1(sortx)\n",
    "    else:\n",
    "        return compose(starn(n-1, sortx, p), p)\n",
    "def starn(n, sortx, p): # unroll and join\n",
    "    if n == 0:\n",
    "        return rid1(sortx)\n",
    "    else:\n",
    "        return join(rid, compose(starn(n-1, sortx, p))) # 1 + x * p \n",
    "           \n"
   ]
  },
  {
   "cell_type": "code",
   "execution_count": null,
   "metadata": {},
   "outputs": [],
   "source": [
    "# Abstract Relational Reasoning.\n",
    "# Uninterpeted Sorts."
   ]
  },
  {
   "cell_type": "markdown",
   "metadata": {},
   "source": [
    "Z3 has solvers for\n",
    "\n",
    "- Combinatorial Relations\n",
    "- Linear Relations\n",
    "- Polyhedral Relations\n",
    "- Polynomial Relations\n",
    "- Interval Relations - A point I was confused on. I thought interval relations were not interesting. But I was interpetting the term incorrectly. I was thinking of relations on AxB that are constrained to take the form of a product of intervals. In this case, the choice of A has no effect on the possible B whatsoever, so it feels non relational. However, there is also I_A x I_B , relations over the intervals of A and B. This is much closer to what is actually being discussed in interval arithmetic.  \n",
    "\n",
    "What can we use this for:\n",
    "\n",
    "- Graph Problems. The Edges can be thought of as a relation between vertices. Relation composition Using the `starn` operator is a way to ask for paths through the graph.\n",
    "- Linear Relations - To some degree this might supplant my efforts on linear relations. Z3 is fully capable of understanding linear relations.\n",
    "- Safety and liveness of control systems. Again,a transition relation is natural here. It is conceivable that the state space\n",
    "- Program verification\n",
    "\n",
    "\n",
    "\n",
    "\n",
    "Power Set and elem Relation\n",
    "\n",
    "Higher order relations?\n",
    "\n",
    "Galois connections and QR iteration\n",
    "QS = SQ*... Na. I don't think this makes much sense. \n",
    "\n",
    "I think most proof assistants have implementations of relation algebra available. I find you can do a surprising amount in z3. \n",
    "Where z3 is weaker is in the presence of many alternating quantifiers. These are hard problems and they require more human guidance.\n",
    "\n"
   ]
  },
  {
   "cell_type": "markdown",
   "metadata": {},
   "source": [
    "Thoughts\n",
    "- Maybe we are just building a shitty alloy.\n",
    "- Z3 has special support for some relations. How does that play in?  https://theory.stanford.edu/~nikolaj/programmingz3.html#sec-special-relations https://z3prover.github.io/api/html/ml/Z3.Relation.html \n",
    "- What we've done here is basically analogous/identical to what John Wiegley did compiling to the category of z3. Sligthly different in that he only allowed for existential composition rather than relational division.\n",
    "- We can reduced the burden on z3 if we know the constructive proof objects that witness our various operations. Z3 is gonna do better if we can tell it exactly which y witness the composition of operators, or clues to which branch of an Or it should use.\n",
    "- It's a bummer, but when you use quantifiers, you don't see countermodels? Maybe there is some hook where you can, or in the dump of the proof object.\n",
    "- What about recursion schemes? The exact nature of z3 to handle unbounded problems is fuzzy to me. It does have the support to define recursive functions. Also explicit induction predicates can go through sometimes. \n",
    "def fmap(p):    \n",
    "def cata(p):\n",
    "    # find self recursive calls using sort.\n",
    "    ForAll([self], )\n",
    "    ForAll([], cata(p) == compose(p , cata(p)) "
   ]
  }
 ],
 "metadata": {
  "kernelspec": {
   "display_name": "Python 3",
   "language": "python",
   "name": "python3"
  },
  "language_info": {
   "codemirror_mode": {
    "name": "ipython",
    "version": 3
   },
   "file_extension": ".py",
   "mimetype": "text/x-python",
   "name": "python",
   "nbconvert_exporter": "python",
   "pygments_lexer": "ipython3",
   "version": "3.7.5"
  }
 },
 "nbformat": 4,
 "nbformat_minor": 2
}
