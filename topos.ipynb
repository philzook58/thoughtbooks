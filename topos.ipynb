{
 "cells": [
  {
   "cell_type": "markdown",
   "metadata": {},
   "source": [
    "partial functions as a topos\n",
    "\n",
    "truth objects (subobject classifiers)\n",
    "subsets are described as the codomain of functions\n",
    "\n",
    "typically we conceive of a subset as a function (A -> Bool)\n",
    "\n",
    "true itself is a subset of bool.\n",
    "\n",
    "\n",
    "\n",
    "pullbacks as a form of solving equations\n",
    "\n",
    "\n",
    "\n",
    "internal logic?\n",
    "\n",
    "\n",
    "https://arxiv.org/pdf/1012.5647.pdf topos leinster\n"
   ]
  }
 ],
 "metadata": {
  "kernelspec": {
   "display_name": "Python 3",
   "language": "python",
   "name": "python3"
  },
  "language_info": {
   "codemirror_mode": {
    "name": "ipython",
    "version": 3
   },
   "file_extension": ".py",
   "mimetype": "text/x-python",
   "name": "python",
   "nbconvert_exporter": "python",
   "pygments_lexer": "ipython3",
   "version": "3.6.9"
  }
 },
 "nbformat": 4,
 "nbformat_minor": 4
}
