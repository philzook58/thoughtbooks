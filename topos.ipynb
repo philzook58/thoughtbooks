{
 "cells": [
  {
   "cell_type": "markdown",
   "metadata": {},
   "source": [
    "partial functions as a topos\n",
    "\n",
    "truth objects (subobject classifiers)\n",
    "subsets are described as the codomain of functions\n",
    "\n",
    "typically we conceive of a subset as a function (A -> Bool)\n",
    "\n",
    "true itself is a subset of bool.\n",
    "\n",
    "\n",
    "\n",
    "pullbacks as a form of solving equations\n",
    "\n",
    "\n",
    "\n",
    "internal logic?\n",
    "\n",
    "\n",
    "https://arxiv.org/pdf/1012.5647.pdf topos leinster\n",
    "\n",
    "\n",
    "internal logic\n",
    "\n",
    "itnernal monoid - monoids as notions of computation was starting to talk about this\n",
    "internal group\n",
    "\n",
    "every sort = object\n",
    "ever operation = morphism on that sort\n",
    "every proposition = subobjects on that sort.\n",
    "\n",
    "\n",
    "Why don't we do this in agda or whatever. We tend to use refinement types\n",
    "{x : Int | x >= 0}\n",
    "\n",
    "whereas the subobject idea is we should use\n",
    "\n",
    "abs : Int -> Int\n",
    "or\n",
    "inj : Nat -> Int\n",
    "\n",
    "these really are pretty cool. Very intrinsically represent the idea x >= 0 in some way\n",
    "\n",
    "x >= 0 -> exists n. inj n = x\n",
    "forall n, inj n >= 0\n",
    "\n",
    "\n",
    "\n",
    "\n"
   ]
  }
 ],
 "metadata": {
  "kernelspec": {
   "display_name": "Python 3",
   "language": "python",
   "name": "python3"
  },
  "language_info": {
   "codemirror_mode": {
    "name": "ipython",
    "version": 3
   },
   "file_extension": ".py",
   "mimetype": "text/x-python",
   "name": "python",
   "nbconvert_exporter": "python",
   "pygments_lexer": "ipython3",
   "version": "3.6.9"
  }
 },
 "nbformat": 4,
 "nbformat_minor": 4
}
