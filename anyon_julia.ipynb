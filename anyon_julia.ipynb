{
 "cells": [
  {
   "cell_type": "markdown",
   "metadata": {},
   "source": [
    "Alright Anyons in Julia.\n",
    "\n",
    "\n",
    "It makes sense.\n",
    "\n",
    "\n",
    "We have high performance stuff\n",
    "we have a community\n",
    "we have easy linear algerba\n",
    "we have catlab for drawing\n",
    "\n",
    "\n",
    "\n",
    "I should revisit my notes.\n",
    "\n",
    "\n",
    "dense vs sparse matrices.\n",
    "\n",
    "symbolic anyon trees\n"
   ]
  }
 ],
 "metadata": {
  "kernelspec": {
   "display_name": "Julia 1.4.1",
   "language": "julia",
   "name": "julia-1.4"
  },
  "language_info": {
   "file_extension": ".jl",
   "mimetype": "application/julia",
   "name": "julia",
   "version": "1.4.1"
  }
 },
 "nbformat": 4,
 "nbformat_minor": 4
}
