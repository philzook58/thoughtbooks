{
 "cells": [
  {
   "cell_type": "markdown",
   "metadata": {},
   "source": [
    "Alright Anyons in Julia.\n",
    "\n",
    "\n",
    "It makes sense.\n",
    "\n",
    "\n",
    "We have high performance stuff\n",
    "we have a community\n",
    "we have easy linear algerba\n",
    "we have catlab for drawing\n",
    "\n",
    "\n",
    "\n",
    "I should revisit my notes.\n",
    "\n",
    "\n",
    "dense vs sparse matrices.\n",
    "\n",
    "symbolic anyon trees\n",
    "\n",
    "\n",
    "Quantum physics list\n",
    "https://docs.google.com/document/d/13i5TCm2-E_352ulXRMcREUKBHxLVGfWvmC4xpwwvF_E/edit\n",
    "\n",
    "\n",
    "\n",
    "https://github.com/Jutho/TensorOperations.jl\n",
    "\n",
    "https://github.com/Jutho/TensorKit.jl - interesting\n",
    "\n",
    "\n",
    "\n"
   ]
  },
  {
   "cell_type": "code",
   "execution_count": 6,
   "metadata": {},
   "outputs": [
    {
     "data": {
      "text/plain": [
       ":($(Expr(:toplevel, :(#= Enums.jl:184 =#), :(begin\n",
       "      $(Expr(:meta, :doc))\n",
       "      primitive type Fib <: Base.Enums.Enum{Int32} 32 end\n",
       "  end), :(#= Enums.jl:185 =#), :(function Fib(var\"#15#x\"::Base.Enums.Integer)\n",
       "      #= Enums.jl:186 =#\n",
       "      (0 Base.Enums.:<= var\"#15#x\" Base.Enums.:<= 1) || Base.Enums.enum_argument_error(:Fib, var\"#15#x\")\n",
       "      #= Enums.jl:187 =#\n",
       "      return Base.Enums.bitcast(Fib, Base.Enums.convert(Int32, var\"#15#x\"))\n",
       "  end), :(#= Enums.jl:189 =#), :((Base.Enums.Enums).namemap(::Base.Enums.Type{Fib}) = begin\n",
       "          #= Enums.jl:189 =#\n",
       "          Dict{Int32,Symbol}(0 => :Id,1 => :Tau)\n",
       "      end), :(#= Enums.jl:190 =#), :((Base.Enums.Base).typemin(var\"#17#x\"::Base.Enums.Type{Fib}) = begin\n",
       "          #= Enums.jl:190 =#\n",
       "          Fib(0)\n",
       "      end), :(#= Enums.jl:191 =#), :((Base.Enums.Base).typemax(var\"#18#x\"::Base.Enums.Type{Fib}) = begin\n",
       "          #= Enums.jl:191 =#\n",
       "          Fib(1)\n",
       "      end), :(#= Enums.jl:192 =#), :(let var\"#13#insts\" = (Base.Enums.Any[Fib(var\"#14#v\") for var\"#14#v\" = Int32[0, 1]]...,)\n",
       "      #= Enums.jl:193 =#\n",
       "      (Base.Enums.Base).instances(::Base.Enums.Type{Fib}) = begin\n",
       "              #= Enums.jl:193 =#\n",
       "              var\"#13#insts\"\n",
       "          end\n",
       "  end), :(const Id = Fib(0)), :(const Tau = Fib(1)), :(Base.Enums.nothing))))"
      ]
     },
     "execution_count": 6,
     "metadata": {},
     "output_type": "execute_result"
    }
   ],
   "source": [
    "@macroexpand @enum Fib I τ"
   ]
  },
  {
   "cell_type": "code",
   "execution_count": 1,
   "metadata": {},
   "outputs": [],
   "source": [
    " @enum Fib I τ"
   ]
  },
  {
   "cell_type": "code",
   "execution_count": null,
   "metadata": {},
   "outputs": [],
   "source": [
    "# naw screw this. Leafs should just be Fib\n",
    "#struct Leaf\n",
    "#    particle::Fib\n",
    "#end\n",
    "\n",
    "struct Split\n",
    "    particle::Fib\n",
    "    left::Union{Split,Fib}\n",
    "    right::Union{Split,Fib}\n",
    "end\n",
    "\n",
    "#=\n",
    "Split{T} to generalize\n",
    "\n",
    "=#\n",
    "\n",
    "\n",
    "# Put the counts into the shape?\n",
    "struct TreeShapeNode\n",
    "    left::Union{TreeShapeNode,Fib}\n",
    "    right::Union{TreeShapeNode,Fib}\n",
    "end\n",
    "\n",
    "struct TreeShapeRoot\n",
    "    root::Fib\n",
    "    left::TreeShapeNode\n",
    "    right::TreeShapeNode\n",
    "end\n",
    "\n",
    "    "
   ]
  },
  {
   "cell_type": "code",
   "execution_count": 3,
   "metadata": {},
   "outputs": [
    {
     "data": {
      "text/plain": [
       "shape (generic function with 2 methods)"
      ]
     },
     "execution_count": 3,
     "metadata": {},
     "output_type": "execute_result"
    }
   ],
   "source": [
    "shape_helper(x::Split) = TreeShapeNode(shape_helper(x.left), shape_helper(x.right))\n",
    "shape_helper(p::Fib) = x\n",
    "\n",
    "shape(x::Split) = TreeShapeRoot(x.particle,  shape(x.left), shape(x.right))\n",
    "shape(p::Fib) = x\n",
    "\n"
   ]
  },
  {
   "cell_type": "code",
   "execution_count": 5,
   "metadata": {},
   "outputs": [
    {
     "data": {
      "text/plain": [
       "Dict{Split,Complex{Int64}} with 1 entry:\n",
       "  Split(τ, τ, τ) => 0+1im"
      ]
     },
     "execution_count": 5,
     "metadata": {},
     "output_type": "execute_result"
    }
   ],
   "source": [
    "Dict( Split(τ,τ,τ) => 1im )"
   ]
  },
  {
   "cell_type": "code",
   "execution_count": null,
   "metadata": {},
   "outputs": [],
   "source": [
    "struct FibVect10\n",
    "    shape::SplittingPatternRoot\n",
    "    data::Dict{Union{Split,Fib}, Complex{Float64}}\n",
    "end"
   ]
  },
  {
   "cell_type": "code",
   "execution_count": null,
   "metadata": {},
   "outputs": [],
   "source": [
    "function funzo(x,y) = "
   ]
  },
  {
   "cell_type": "code",
   "execution_count": 9,
   "metadata": {
    "collapsed": true,
    "jupyter": {
     "outputs_hidden": true
    }
   },
   "outputs": [
    {
     "name": "stdout",
     "output_type": "stream",
     "text": [
      "search: \u001b[0m\u001b[1mm\u001b[22m\u001b[0m\u001b[1me\u001b[22m\u001b[0m\u001b[1mr\u001b[22m\u001b[0m\u001b[1mg\u001b[22m\u001b[0m\u001b[1me\u001b[22m \u001b[0m\u001b[1mm\u001b[22m\u001b[0m\u001b[1me\u001b[22m\u001b[0m\u001b[1mr\u001b[22m\u001b[0m\u001b[1mg\u001b[22m\u001b[0m\u001b[1me\u001b[22m! \u001b[0m\u001b[1mM\u001b[22m\u001b[0m\u001b[1me\u001b[22m\u001b[0m\u001b[1mr\u001b[22m\u001b[0m\u001b[1mg\u001b[22m\u001b[0m\u001b[1me\u001b[22mSort\n",
      "\n"
     ]
    },
    {
     "data": {
      "text/latex": [
       "\\begin{verbatim}\n",
       "merge(d::AbstractDict, others::AbstractDict...)\n",
       "\\end{verbatim}\n",
       "Construct a merged collection from the given collections. If necessary, the types of the resulting collection will be promoted to accommodate the types of the merged collections. If the same key is present in another collection, the value for that key will be the value it has in the last collection listed.\n",
       "\n",
       "\\section{Examples}\n",
       "\\begin{verbatim}\n",
       "julia> a = Dict(\"foo\" => 0.0, \"bar\" => 42.0)\n",
       "Dict{String,Float64} with 2 entries:\n",
       "  \"bar\" => 42.0\n",
       "  \"foo\" => 0.0\n",
       "\n",
       "julia> b = Dict(\"baz\" => 17, \"bar\" => 4711)\n",
       "Dict{String,Int64} with 2 entries:\n",
       "  \"bar\" => 4711\n",
       "  \"baz\" => 17\n",
       "\n",
       "julia> merge(a, b)\n",
       "Dict{String,Float64} with 3 entries:\n",
       "  \"bar\" => 4711.0\n",
       "  \"baz\" => 17.0\n",
       "  \"foo\" => 0.0\n",
       "\n",
       "julia> merge(b, a)\n",
       "Dict{String,Float64} with 3 entries:\n",
       "  \"bar\" => 42.0\n",
       "  \"baz\" => 17.0\n",
       "  \"foo\" => 0.0\n",
       "\\end{verbatim}\n",
       "\\rule{\\textwidth}{1pt}\n",
       "\\begin{verbatim}\n",
       "merge(combine, d::AbstractDict, others::AbstractDict...)\n",
       "\\end{verbatim}\n",
       "Construct a merged collection from the given collections. If necessary, the types of the resulting collection will be promoted to accommodate the types of the merged collections. Values with the same key will be combined using the combiner function.\n",
       "\n",
       "\\section{Examples}\n",
       "\\begin{verbatim}\n",
       "julia> a = Dict(\"foo\" => 0.0, \"bar\" => 42.0)\n",
       "Dict{String,Float64} with 2 entries:\n",
       "  \"bar\" => 42.0\n",
       "  \"foo\" => 0.0\n",
       "\n",
       "julia> b = Dict(\"baz\" => 17, \"bar\" => 4711)\n",
       "Dict{String,Int64} with 2 entries:\n",
       "  \"bar\" => 4711\n",
       "  \"baz\" => 17\n",
       "\n",
       "julia> merge(+, a, b)\n",
       "Dict{String,Float64} with 3 entries:\n",
       "  \"bar\" => 4753.0\n",
       "  \"baz\" => 17.0\n",
       "  \"foo\" => 0.0\n",
       "\\end{verbatim}\n",
       "\\rule{\\textwidth}{1pt}\n",
       "\\begin{verbatim}\n",
       "merge(a::NamedTuple, bs::NamedTuple...)\n",
       "\\end{verbatim}\n",
       "Construct a new named tuple by merging two or more existing ones, in a left-associative manner. Merging proceeds left-to-right, between pairs of named tuples, and so the order of fields present in both the leftmost and rightmost named tuples take the same position as they are found in the leftmost named tuple. However, values are taken from matching fields in the rightmost named tuple that contains that field. Fields present in only the rightmost named tuple of a pair are appended at the end. A fallback is implemented for when only a single named tuple is supplied, with signature \\texttt{merge(a::NamedTuple)}.\n",
       "\n",
       "\\begin{quote}\n",
       "\\textbf{compat}\n",
       "\n",
       "Julia 1.1\n",
       "\n",
       "Merging 3 or more \\texttt{NamedTuple} requires at least Julia 1.1.\n",
       "\n",
       "\\end{quote}\n",
       "\\section{Examples}\n",
       "\\begin{verbatim}\n",
       "julia> merge((a=1, b=2, c=3), (b=4, d=5))\n",
       "(a = 1, b = 4, c = 3, d = 5)\n",
       "\\end{verbatim}\n",
       "\\begin{verbatim}\n",
       "julia> merge((a=1, b=2), (b=3, c=(d=1,)), (c=(d=2,),))\n",
       "(a = 1, b = 3, c = (d = 2,))\n",
       "\\end{verbatim}\n",
       "\\rule{\\textwidth}{1pt}\n",
       "\\begin{verbatim}\n",
       "merge(a::NamedTuple, iterable)\n",
       "\\end{verbatim}\n",
       "Interpret an iterable of key-value pairs as a named tuple, and perform a merge.\n",
       "\n",
       "\\begin{verbatim}\n",
       "julia> merge((a=1, b=2, c=3), [:b=>4, :d=>5])\n",
       "(a = 1, b = 4, c = 3, d = 5)\n",
       "\\end{verbatim}\n",
       "\\rule{\\textwidth}{1pt}\n",
       "\\begin{verbatim}\n",
       " merge(counters...)\n",
       "\\end{verbatim}\n",
       "Creates a new counter with total counts equal to the sum of the counts in the counters given as arguments.\n",
       "\n",
       "See also merge!\n",
       "\n",
       "\\rule{\\textwidth}{1pt}\n",
       "\\begin{verbatim}\n",
       "merge(sc1, sc2...)\n",
       "\\end{verbatim}\n",
       "This returns a SortedDict or SortedMultiDict that results from merging SortedDicts or SortedMultiDicts \\texttt{sc1}, \\texttt{sc2}, etc., which all must have the same key-value-ordering types. In the case of keys duplicated among the arguments, the rightmost argument that owns the key gets its value stored for SortedDict. In the case of SortedMultiDict all the key-value pairs are stored, and for keys shared between \\texttt{sc1} and \\texttt{sc2} the ordering is left-to-right. This function is not available for SortedSet, but the \\texttt{union} function (see below) provides equivalent functionality. Time: O(\\emph{cN} log \\emph{N}), where \\emph{N} is the total size of all the arguments.\n",
       "\n",
       "\\rule{\\textwidth}{1pt}\n",
       "\\begin{verbatim}\n",
       "merge(sc1, sc2...)\n",
       "\\end{verbatim}\n",
       "This returns a SortedDict or SortedMultiDict that results from merging SortedDicts or SortedMultiDicts \\texttt{sc1}, \\texttt{sc2}, etc., which all must have the same key-value-ordering types. In the case of keys duplicated among the arguments, the rightmost argument that owns the key gets its value stored for SortedDict. In the case of SortedMultiDict all the key-value pairs are stored, and for keys shared between \\texttt{sc1} and \\texttt{sc2} the ordering is left-to-right. This function is not available for SortedSet, but the \\texttt{union} function (see below) provides equivalent functionality. Time: O(\\emph{cN} log \\emph{N}), where \\emph{N} is the total size of all the arguments.\n",
       "\n"
      ],
      "text/markdown": [
       "```\n",
       "merge(d::AbstractDict, others::AbstractDict...)\n",
       "```\n",
       "\n",
       "Construct a merged collection from the given collections. If necessary, the types of the resulting collection will be promoted to accommodate the types of the merged collections. If the same key is present in another collection, the value for that key will be the value it has in the last collection listed.\n",
       "\n",
       "# Examples\n",
       "\n",
       "```jldoctest\n",
       "julia> a = Dict(\"foo\" => 0.0, \"bar\" => 42.0)\n",
       "Dict{String,Float64} with 2 entries:\n",
       "  \"bar\" => 42.0\n",
       "  \"foo\" => 0.0\n",
       "\n",
       "julia> b = Dict(\"baz\" => 17, \"bar\" => 4711)\n",
       "Dict{String,Int64} with 2 entries:\n",
       "  \"bar\" => 4711\n",
       "  \"baz\" => 17\n",
       "\n",
       "julia> merge(a, b)\n",
       "Dict{String,Float64} with 3 entries:\n",
       "  \"bar\" => 4711.0\n",
       "  \"baz\" => 17.0\n",
       "  \"foo\" => 0.0\n",
       "\n",
       "julia> merge(b, a)\n",
       "Dict{String,Float64} with 3 entries:\n",
       "  \"bar\" => 42.0\n",
       "  \"baz\" => 17.0\n",
       "  \"foo\" => 0.0\n",
       "```\n",
       "\n",
       "---\n",
       "\n",
       "```\n",
       "merge(combine, d::AbstractDict, others::AbstractDict...)\n",
       "```\n",
       "\n",
       "Construct a merged collection from the given collections. If necessary, the types of the resulting collection will be promoted to accommodate the types of the merged collections. Values with the same key will be combined using the combiner function.\n",
       "\n",
       "# Examples\n",
       "\n",
       "```jldoctest\n",
       "julia> a = Dict(\"foo\" => 0.0, \"bar\" => 42.0)\n",
       "Dict{String,Float64} with 2 entries:\n",
       "  \"bar\" => 42.0\n",
       "  \"foo\" => 0.0\n",
       "\n",
       "julia> b = Dict(\"baz\" => 17, \"bar\" => 4711)\n",
       "Dict{String,Int64} with 2 entries:\n",
       "  \"bar\" => 4711\n",
       "  \"baz\" => 17\n",
       "\n",
       "julia> merge(+, a, b)\n",
       "Dict{String,Float64} with 3 entries:\n",
       "  \"bar\" => 4753.0\n",
       "  \"baz\" => 17.0\n",
       "  \"foo\" => 0.0\n",
       "```\n",
       "\n",
       "---\n",
       "\n",
       "```\n",
       "merge(a::NamedTuple, bs::NamedTuple...)\n",
       "```\n",
       "\n",
       "Construct a new named tuple by merging two or more existing ones, in a left-associative manner. Merging proceeds left-to-right, between pairs of named tuples, and so the order of fields present in both the leftmost and rightmost named tuples take the same position as they are found in the leftmost named tuple. However, values are taken from matching fields in the rightmost named tuple that contains that field. Fields present in only the rightmost named tuple of a pair are appended at the end. A fallback is implemented for when only a single named tuple is supplied, with signature `merge(a::NamedTuple)`.\n",
       "\n",
       "!!! compat \"Julia 1.1\"\n",
       "    Merging 3 or more `NamedTuple` requires at least Julia 1.1.\n",
       "\n",
       "\n",
       "# Examples\n",
       "\n",
       "```jldoctest\n",
       "julia> merge((a=1, b=2, c=3), (b=4, d=5))\n",
       "(a = 1, b = 4, c = 3, d = 5)\n",
       "```\n",
       "\n",
       "```jldoctest\n",
       "julia> merge((a=1, b=2), (b=3, c=(d=1,)), (c=(d=2,),))\n",
       "(a = 1, b = 3, c = (d = 2,))\n",
       "```\n",
       "\n",
       "---\n",
       "\n",
       "```\n",
       "merge(a::NamedTuple, iterable)\n",
       "```\n",
       "\n",
       "Interpret an iterable of key-value pairs as a named tuple, and perform a merge.\n",
       "\n",
       "```jldoctest\n",
       "julia> merge((a=1, b=2, c=3), [:b=>4, :d=>5])\n",
       "(a = 1, b = 4, c = 3, d = 5)\n",
       "```\n",
       "\n",
       "---\n",
       "\n",
       "```\n",
       " merge(counters...)\n",
       "```\n",
       "\n",
       "Creates a new counter with total counts equal to the sum of the counts in the counters given as arguments.\n",
       "\n",
       "See also merge!\n",
       "\n",
       "---\n",
       "\n",
       "```\n",
       "merge(sc1, sc2...)\n",
       "```\n",
       "\n",
       "This returns a SortedDict or SortedMultiDict that results from merging SortedDicts or SortedMultiDicts `sc1`, `sc2`, etc., which all must have the same key-value-ordering types. In the case of keys duplicated among the arguments, the rightmost argument that owns the key gets its value stored for SortedDict. In the case of SortedMultiDict all the key-value pairs are stored, and for keys shared between `sc1` and `sc2` the ordering is left-to-right. This function is not available for SortedSet, but the `union` function (see below) provides equivalent functionality. Time: O(*cN* log *N*), where *N* is the total size of all the arguments.\n",
       "\n",
       "---\n",
       "\n",
       "```\n",
       "merge(sc1, sc2...)\n",
       "```\n",
       "\n",
       "This returns a SortedDict or SortedMultiDict that results from merging SortedDicts or SortedMultiDicts `sc1`, `sc2`, etc., which all must have the same key-value-ordering types. In the case of keys duplicated among the arguments, the rightmost argument that owns the key gets its value stored for SortedDict. In the case of SortedMultiDict all the key-value pairs are stored, and for keys shared between `sc1` and `sc2` the ordering is left-to-right. This function is not available for SortedSet, but the `union` function (see below) provides equivalent functionality. Time: O(*cN* log *N*), where *N* is the total size of all the arguments.\n"
      ],
      "text/plain": [
       "\u001b[36m  merge(d::AbstractDict, others::AbstractDict...)\u001b[39m\n",
       "\n",
       "  Construct a merged collection from the given collections. If necessary, the\n",
       "  types of the resulting collection will be promoted to accommodate the types\n",
       "  of the merged collections. If the same key is present in another collection,\n",
       "  the value for that key will be the value it has in the last collection\n",
       "  listed.\n",
       "\n",
       "\u001b[1m  Examples\u001b[22m\n",
       "\u001b[1m  ≡≡≡≡≡≡≡≡≡≡\u001b[22m\n",
       "\n",
       "\u001b[36m  julia> a = Dict(\"foo\" => 0.0, \"bar\" => 42.0)\u001b[39m\n",
       "\u001b[36m  Dict{String,Float64} with 2 entries:\u001b[39m\n",
       "\u001b[36m    \"bar\" => 42.0\u001b[39m\n",
       "\u001b[36m    \"foo\" => 0.0\u001b[39m\n",
       "\u001b[36m  \u001b[39m\n",
       "\u001b[36m  julia> b = Dict(\"baz\" => 17, \"bar\" => 4711)\u001b[39m\n",
       "\u001b[36m  Dict{String,Int64} with 2 entries:\u001b[39m\n",
       "\u001b[36m    \"bar\" => 4711\u001b[39m\n",
       "\u001b[36m    \"baz\" => 17\u001b[39m\n",
       "\u001b[36m  \u001b[39m\n",
       "\u001b[36m  julia> merge(a, b)\u001b[39m\n",
       "\u001b[36m  Dict{String,Float64} with 3 entries:\u001b[39m\n",
       "\u001b[36m    \"bar\" => 4711.0\u001b[39m\n",
       "\u001b[36m    \"baz\" => 17.0\u001b[39m\n",
       "\u001b[36m    \"foo\" => 0.0\u001b[39m\n",
       "\u001b[36m  \u001b[39m\n",
       "\u001b[36m  julia> merge(b, a)\u001b[39m\n",
       "\u001b[36m  Dict{String,Float64} with 3 entries:\u001b[39m\n",
       "\u001b[36m    \"bar\" => 42.0\u001b[39m\n",
       "\u001b[36m    \"baz\" => 17.0\u001b[39m\n",
       "\u001b[36m    \"foo\" => 0.0\u001b[39m\n",
       "\n",
       "  ────────────────────────────────────────────────────────────────────────────\n",
       "\n",
       "\u001b[36m  merge(combine, d::AbstractDict, others::AbstractDict...)\u001b[39m\n",
       "\n",
       "  Construct a merged collection from the given collections. If necessary, the\n",
       "  types of the resulting collection will be promoted to accommodate the types\n",
       "  of the merged collections. Values with the same key will be combined using\n",
       "  the combiner function.\n",
       "\n",
       "\u001b[1m  Examples\u001b[22m\n",
       "\u001b[1m  ≡≡≡≡≡≡≡≡≡≡\u001b[22m\n",
       "\n",
       "\u001b[36m  julia> a = Dict(\"foo\" => 0.0, \"bar\" => 42.0)\u001b[39m\n",
       "\u001b[36m  Dict{String,Float64} with 2 entries:\u001b[39m\n",
       "\u001b[36m    \"bar\" => 42.0\u001b[39m\n",
       "\u001b[36m    \"foo\" => 0.0\u001b[39m\n",
       "\u001b[36m  \u001b[39m\n",
       "\u001b[36m  julia> b = Dict(\"baz\" => 17, \"bar\" => 4711)\u001b[39m\n",
       "\u001b[36m  Dict{String,Int64} with 2 entries:\u001b[39m\n",
       "\u001b[36m    \"bar\" => 4711\u001b[39m\n",
       "\u001b[36m    \"baz\" => 17\u001b[39m\n",
       "\u001b[36m  \u001b[39m\n",
       "\u001b[36m  julia> merge(+, a, b)\u001b[39m\n",
       "\u001b[36m  Dict{String,Float64} with 3 entries:\u001b[39m\n",
       "\u001b[36m    \"bar\" => 4753.0\u001b[39m\n",
       "\u001b[36m    \"baz\" => 17.0\u001b[39m\n",
       "\u001b[36m    \"foo\" => 0.0\u001b[39m\n",
       "\n",
       "  ────────────────────────────────────────────────────────────────────────────\n",
       "\n",
       "\u001b[36m  merge(a::NamedTuple, bs::NamedTuple...)\u001b[39m\n",
       "\n",
       "  Construct a new named tuple by merging two or more existing ones, in a\n",
       "  left-associative manner. Merging proceeds left-to-right, between pairs of\n",
       "  named tuples, and so the order of fields present in both the leftmost and\n",
       "  rightmost named tuples take the same position as they are found in the\n",
       "  leftmost named tuple. However, values are taken from matching fields in the\n",
       "  rightmost named tuple that contains that field. Fields present in only the\n",
       "  rightmost named tuple of a pair are appended at the end. A fallback is\n",
       "  implemented for when only a single named tuple is supplied, with signature\n",
       "  \u001b[36mmerge(a::NamedTuple)\u001b[39m.\n",
       "\n",
       "\u001b[39m\u001b[1m  │ \u001b[22m\u001b[39m\u001b[1mJulia 1.1\u001b[22m\n",
       "\u001b[39m\u001b[1m  │\u001b[22m\n",
       "\u001b[39m\u001b[1m  │\u001b[22m  Merging 3 or more \u001b[36mNamedTuple\u001b[39m requires at least Julia 1.1.\n",
       "\n",
       "\u001b[1m  Examples\u001b[22m\n",
       "\u001b[1m  ≡≡≡≡≡≡≡≡≡≡\u001b[22m\n",
       "\n",
       "\u001b[36m  julia> merge((a=1, b=2, c=3), (b=4, d=5))\u001b[39m\n",
       "\u001b[36m  (a = 1, b = 4, c = 3, d = 5)\u001b[39m\n",
       "\n",
       "\u001b[36m  julia> merge((a=1, b=2), (b=3, c=(d=1,)), (c=(d=2,),))\u001b[39m\n",
       "\u001b[36m  (a = 1, b = 3, c = (d = 2,))\u001b[39m\n",
       "\n",
       "  ────────────────────────────────────────────────────────────────────────────\n",
       "\n",
       "\u001b[36m  merge(a::NamedTuple, iterable)\u001b[39m\n",
       "\n",
       "  Interpret an iterable of key-value pairs as a named tuple, and perform a\n",
       "  merge.\n",
       "\n",
       "\u001b[36m  julia> merge((a=1, b=2, c=3), [:b=>4, :d=>5])\u001b[39m\n",
       "\u001b[36m  (a = 1, b = 4, c = 3, d = 5)\u001b[39m\n",
       "\n",
       "  ────────────────────────────────────────────────────────────────────────────\n",
       "\n",
       "\u001b[36m   merge(counters...)\u001b[39m\n",
       "\n",
       "  Creates a new counter with total counts equal to the sum of the counts in\n",
       "  the counters given as arguments.\n",
       "\n",
       "  See also merge!\n",
       "\n",
       "  ────────────────────────────────────────────────────────────────────────────\n",
       "\n",
       "\u001b[36m  merge(sc1, sc2...)\u001b[39m\n",
       "\n",
       "  This returns a SortedDict or SortedMultiDict that results from merging\n",
       "  SortedDicts or SortedMultiDicts \u001b[36msc1\u001b[39m, \u001b[36msc2\u001b[39m, etc., which all must have the same\n",
       "  key-value-ordering types. In the case of keys duplicated among the\n",
       "  arguments, the rightmost argument that owns the key gets its value stored\n",
       "  for SortedDict. In the case of SortedMultiDict all the key-value pairs are\n",
       "  stored, and for keys shared between \u001b[36msc1\u001b[39m and \u001b[36msc2\u001b[39m the ordering is\n",
       "  left-to-right. This function is not available for SortedSet, but the \u001b[36munion\u001b[39m\n",
       "  function (see below) provides equivalent functionality. Time: O(\u001b[4mcN\u001b[24m log \u001b[4mN\u001b[24m),\n",
       "  where \u001b[4mN\u001b[24m is the total size of all the arguments.\n",
       "\n",
       "  ────────────────────────────────────────────────────────────────────────────\n",
       "\n",
       "\u001b[36m  merge(sc1, sc2...)\u001b[39m\n",
       "\n",
       "  This returns a SortedDict or SortedMultiDict that results from merging\n",
       "  SortedDicts or SortedMultiDicts \u001b[36msc1\u001b[39m, \u001b[36msc2\u001b[39m, etc., which all must have the same\n",
       "  key-value-ordering types. In the case of keys duplicated among the\n",
       "  arguments, the rightmost argument that owns the key gets its value stored\n",
       "  for SortedDict. In the case of SortedMultiDict all the key-value pairs are\n",
       "  stored, and for keys shared between \u001b[36msc1\u001b[39m and \u001b[36msc2\u001b[39m the ordering is\n",
       "  left-to-right. This function is not available for SortedSet, but the \u001b[36munion\u001b[39m\n",
       "  function (see below) provides equivalent functionality. Time: O(\u001b[4mcN\u001b[24m log \u001b[4mN\u001b[24m),\n",
       "  where \u001b[4mN\u001b[24m is the total size of all the arguments."
      ]
     },
     "execution_count": 9,
     "metadata": {},
     "output_type": "execute_result"
    }
   ],
   "source": [
    "?merge"
   ]
  },
  {
   "cell_type": "code",
   "execution_count": null,
   "metadata": {},
   "outputs": [],
   "source": [
    "Base.:+(x::FibVect10,y::FibVect10) = FibVect10( x.shape, merge(+,x.data,y.data))\n",
    "Base.:*(s::Number , x::FibVect10) = FibVect10(x.shape, Dict(x => s * a for (x, a) in x.data))"
   ]
  },
  {
   "cell_type": "code",
   "execution_count": null,
   "metadata": {},
   "outputs": [],
   "source": []
  },
  {
   "cell_type": "code",
   "execution_count": 15,
   "metadata": {},
   "outputs": [
    {
     "data": {
      "text/plain": [
       "Dict{Symbol,Int64} with 2 entries:\n",
       "  :a => 32\n",
       "  :x => 56"
      ]
     },
     "execution_count": 15,
     "metadata": {},
     "output_type": "execute_result"
    }
   ],
   "source": [
    "#map(x -> 8 * x, Dict(:a => 4))\n",
    "Dict(x => 8 * a for (x, a) in Dict(:a => 4, :x => 7))"
   ]
  },
  {
   "cell_type": "code",
   "execution_count": 9,
   "metadata": {},
   "outputs": [
    {
     "data": {
      "text/plain": [
       "Split(Id, Leaf(Id), Leaf(Id))"
      ]
     },
     "execution_count": 9,
     "metadata": {},
     "output_type": "execute_result"
    }
   ],
   "source": [
    "Split(Id, Leaf(Id), Leaf(Id))\n",
    "\n"
   ]
  },
  {
   "cell_type": "code",
   "execution_count": null,
   "metadata": {},
   "outputs": [],
   "source": [
    "function count(p, t::Split ) \n",
    "    if p == Id \n",
    "                        return count(Tau, t.left  ) * count(Tau,t.right) + count(Id,t.left) * count(Id, t.right) \n",
    "                     else\n",
    "        return  count(Tau, t.left  ) * count(Tau,t.right) + count(Tau,t.left) * count(Id, t.right) + count(Id,t.left) * count(Tau, t.right) \n",
    "                    end\n",
    "end\n",
    "count(p, t::Leaf ) = if (p == t.particle) 1 else 0 end"
   ]
  },
  {
   "cell_type": "code",
   "execution_count": 13,
   "metadata": {},
   "outputs": [
    {
     "ename": "LoadError",
     "evalue": "syntax: invalid identifier name \".\"",
     "output_type": "error",
     "traceback": [
      "syntax: invalid identifier name \".\"",
      ""
     ]
    }
   ],
   "source": [
    "3 Dict(:a => 1.0, :b => 2.0)"
   ]
  },
  {
   "cell_type": "code",
   "execution_count": 23,
   "metadata": {},
   "outputs": [
    {
     "data": {
      "text/plain": [
       "1×3 Array{Int64,2}:\n",
       " 5  9  13"
      ]
     },
     "execution_count": 23,
     "metadata": {},
     "output_type": "execute_result"
    }
   ],
   "source": [
    "3 * [1 2 3] + [2 3 4]"
   ]
  },
  {
   "cell_type": "code",
   "execution_count": 21,
   "metadata": {},
   "outputs": [
    {
     "data": {
      "text/plain": [
       "1×3 Array{Int64,2}:\n",
       " 3  6  9"
      ]
     },
     "execution_count": 21,
     "metadata": {},
     "output_type": "execute_result"
    }
   ],
   "source": [
    "v = [1 2 3]\n",
    "3v"
   ]
  },
  {
   "cell_type": "code",
   "execution_count": 29,
   "metadata": {},
   "outputs": [
    {
     "ename": "MethodError",
     "evalue": "MethodError: Cannot `convert` an object of type \n  Fib to an object of type \n  Union{Leaf, Split}\nClosest candidates are:\n  convert(::Type{T}, !Matched::T) where T at essentials.jl:171",
     "output_type": "error",
     "traceback": [
      "MethodError: Cannot `convert` an object of type \n  Fib to an object of type \n  Union{Leaf, Split}\nClosest candidates are:\n  convert(::Type{T}, !Matched::T) where T at essentials.jl:171",
      "",
      "Stacktrace:",
      " [1] Split(::Fib, ::Fib, ::Fib) at ./In[8]:6",
      " [2] top-level scope at In[29]:1"
     ]
    }
   ],
   "source": [
    "Dict(Leaf(Tau) => 3, Split(Tau,Tau,Tau) => 4)"
   ]
  },
  {
   "cell_type": "markdown",
   "metadata": {},
   "source": [
    "https://github.com/JuliaCollections/AbstractTrees.jl  has a pretty printer. That seems nice\n",
    "https://github.com/JuliaCollections/DataStructures.jl dicitonaries with defaults.\n",
    "\n"
   ]
  },
  {
   "cell_type": "code",
   "execution_count": 25,
   "metadata": {},
   "outputs": [
    {
     "ename": "ArgumentError",
     "evalue": "ArgumentError: Package DataStructures not found in current path:\n- Run `import Pkg; Pkg.add(\"DataStructures\")` to install the DataStructures package.\n",
     "output_type": "error",
     "traceback": [
      "ArgumentError: Package DataStructures not found in current path:\n- Run `import Pkg; Pkg.add(\"DataStructures\")` to install the DataStructures package.\n",
      "",
      "Stacktrace:",
      " [1] require(::Module, ::Symbol) at ./loading.jl:892",
      " [2] top-level scope at In[25]:1"
     ]
    }
   ],
   "source": [
    "using DataStructures"
   ]
  },
  {
   "cell_type": "code",
   "execution_count": 26,
   "metadata": {
    "collapsed": true,
    "jupyter": {
     "outputs_hidden": true
    }
   },
   "outputs": [
    {
     "name": "stderr",
     "output_type": "stream",
     "text": [
      "\u001b[32m\u001b[1m   Updating\u001b[22m\u001b[39m registry at `~/.julia/registries/General`\n"
     ]
    },
    {
     "name": "stdout",
     "output_type": "stream",
     "text": [
      "\u001b[?25l    "
     ]
    },
    {
     "name": "stderr",
     "output_type": "stream",
     "text": [
      "\u001b[32m\u001b[1m   Updating\u001b[22m\u001b[39m git-repo `https://github.com/JuliaRegistries/General.git`\n"
     ]
    },
    {
     "name": "stdout",
     "output_type": "stream",
     "text": [
      "\u001b[2K\u001b[?25h[1mFetching:\u001b[22m\u001b[39m [========================================>]  100.0 %[36m\u001b[1mFetching:\u001b[22m\u001b[39m [=====>                                   ]  11.2 %\u001b[36m\u001b[1mFetching:\u001b[22m\u001b[39m [=======>                                 ]  15.8 %>                            ]  28.8 %\u001b[36m\u001b[1mFetching:\u001b[22m\u001b[39m [===============>                         ]  35.4 %>                    ]  48.4 % [=========================>               ]  61.4 %\u001b[36m\u001b[1mFetching:\u001b[22m\u001b[39m [=============================>           ]  72.3 %\u001b[36m\u001b[1mFetching:\u001b[22m\u001b[39m [================================>        ]  78.6 %   ]  91.6 %\u001b[36m\u001b[1mFetching:\u001b[22m\u001b[39m [=======================================> ]  96.5 %\u001b[36m\u001b[1mFetching:\u001b[22m\u001b[39m [=======================================> ]  97.2 %\u001b[36m\u001b[1mFetching:\u001b[22m\u001b[39m [========================================>]  97.5 %"
     ]
    },
    {
     "name": "stderr",
     "output_type": "stream",
     "text": [
      "\u001b[32m\u001b[1m  Resolving\u001b[22m\u001b[39m package versions...\n",
      "\u001b[32m\u001b[1m  Installed\u001b[22m\u001b[39m XML2_jll ─────── v2.9.9+5\n",
      "\u001b[32m\u001b[1m  Installed\u001b[22m\u001b[39m OpenSSL_jll ──── v1.1.1+4\n",
      "\u001b[32m\u001b[1m  Installed\u001b[22m\u001b[39m OpenBLAS_jll ─── v0.3.9+5\n",
      "\u001b[32m\u001b[1m  Installed\u001b[22m\u001b[39m Zlib_jll ─────── v1.2.11+14\n",
      "\u001b[32m\u001b[1m  Installed\u001b[22m\u001b[39m Rmath_jll ────── v0.2.2+1\n",
      "\u001b[32m\u001b[1m  Installed\u001b[22m\u001b[39m ZeroMQ_jll ───── v4.3.2+4\n",
      "\u001b[32m\u001b[1m  Installed\u001b[22m\u001b[39m JpegTurbo_jll ── v2.0.1+1\n",
      "\u001b[32m\u001b[1m  Installed\u001b[22m\u001b[39m DataStructures ─ v0.17.19\n",
      "\u001b[32m\u001b[1m  Installed\u001b[22m\u001b[39m Libiconv_jll ─── v1.16.0+5\n",
      "######################################################################### 100.0%##O#- #                                                                        \n",
      "######################################################################### 100.0%      29.1%\n",
      "######################################################################### 100.0%##O=#  #                                                                       \n",
      "######################################################################### 100.0%##O#- #                                                                        \n",
      "######################################################################### 100.0%##O=#  #                                                                       \n",
      "######################################################################### 100.0%##O=#  #                                                                       \n",
      "\u001b[32m\u001b[1m   Updating\u001b[22m\u001b[39m `~/.julia/environments/v1.4/Project.toml`\n",
      " \u001b[90m [864edb3b]\u001b[39m\u001b[92m + DataStructures v0.17.19\u001b[39m\n",
      "\u001b[32m\u001b[1m   Updating\u001b[22m\u001b[39m `~/.julia/environments/v1.4/Manifest.toml`\n",
      " \u001b[90m [864edb3b]\u001b[39m\u001b[93m ↑ DataStructures v0.17.15 ⇒ v0.17.19\u001b[39m\n",
      " \u001b[90m [aacddb02]\u001b[39m\u001b[93m ↑ JpegTurbo_jll v2.0.1+0 ⇒ v2.0.1+1\u001b[39m\n",
      " \u001b[90m [94ce4f54]\u001b[39m\u001b[93m ↑ Libiconv_jll v1.16.0+2 ⇒ v1.16.0+5\u001b[39m\n",
      " \u001b[90m [4536629a]\u001b[39m\u001b[93m ↑ OpenBLAS_jll v0.3.9+4 ⇒ v0.3.9+5\u001b[39m\n",
      " \u001b[90m [458c3c95]\u001b[39m\u001b[93m ↑ OpenSSL_jll v1.1.1+2 ⇒ v1.1.1+4\u001b[39m\n",
      " \u001b[90m [f50d1b31]\u001b[39m\u001b[93m ↑ Rmath_jll v0.2.2+0 ⇒ v0.2.2+1\u001b[39m\n",
      " \u001b[90m [02c8fc9c]\u001b[39m\u001b[93m ↑ XML2_jll v2.9.9+4 ⇒ v2.9.9+5\u001b[39m\n",
      " \u001b[90m [8f1865be]\u001b[39m\u001b[93m ↑ ZeroMQ_jll v4.3.2+3 ⇒ v4.3.2+4\u001b[39m\n",
      " \u001b[90m [83775a58]\u001b[39m\u001b[93m ↑ Zlib_jll v1.2.11+10 ⇒ v1.2.11+14\u001b[39m\n"
     ]
    }
   ],
   "source": [
    "import Pkg; Pkg.add(\"DataStructures\")"
   ]
  },
  {
   "cell_type": "code",
   "execution_count": 7,
   "metadata": {},
   "outputs": [],
   "source": [
    "using DataStructures"
   ]
  },
  {
   "cell_type": "code",
   "execution_count": null,
   "metadata": {},
   "outputs": [],
   "source": []
  }
 ],
 "metadata": {
  "kernelspec": {
   "display_name": "Julia 1.4.1",
   "language": "julia",
   "name": "julia-1.4"
  },
  "language_info": {
   "file_extension": ".jl",
   "mimetype": "application/julia",
   "name": "julia",
   "version": "1.4.1"
  }
 },
 "nbformat": 4,
 "nbformat_minor": 4
}
