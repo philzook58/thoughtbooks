{
 "cells": [
  {
   "cell_type": "markdown",
   "metadata": {},
   "source": [
    "Ah, propagators we meet again\n",
    "\n",
    "\n",
    "BitSet\n",
    "\n",
    "\n",
    "Who owns what.\n",
    "\n",
    "Variables have \n",
    "\n",
    "\n",
    "Perhaps realted to this\n",
    "\n",
    "use lightgraphs and perform fixpoint computation a la bap\n",
    "\n",
    "We could even construct them categorically.\n",
    "See if i give a shit.\n",
    "\n",
    "\n",
    "contractive relation function\n",
    "(c1,c2) -> (c1',c2') such that c1' subset c1, c2 subset c1 \n",
    "\n",
    "Externally we can check if we want to reschedule c1 then\n",
    "\n",
    "\n",
    "\n",
    "\n",
    "Lattices are the algerbaic theory of approximation\n",
    "\n",
    "Classical Approximation theory is interested in finding good approximate expressions for functions and characterziing a quantitative error. Polynomial approximators, fourier series approximators.\n",
    "\n",
    "Kmett describes propagators as monotonic functions on lattices.\n",
    "\n",
    "\n"
   ]
  },
  {
   "cell_type": "code",
   "execution_count": null,
   "metadata": {},
   "outputs": [],
   "source": [
    "# how do I do datalog semi naive evaluation shallow embedded?\n",
    "mutable struct Rel\n",
    "    elem\n",
    "end\n",
    "\n",
    "\n",
    "R(a,b) <- Q(), Q()\n",
    "\n"
   ]
  },
  {
   "cell_type": "code",
   "execution_count": 44,
   "metadata": {},
   "outputs": [
    {
     "ename": "LoadError",
     "evalue": "syntax: missing comma or ) in argument list",
     "output_type": "error",
     "traceback": [
      "syntax: missing comma or ) in argument list",
      "",
      "Stacktrace:",
      " [1] top-level scope at In[44]:60",
      " [2] include_string(::Function, ::Module, ::String, ::String) at ./loading.jl:1091"
     ]
    }
   ],
   "source": [
    "mutable struct Cell\n",
    "    it\n",
    "    listeners\n",
    "end\n",
    "\n",
    "struct Propagator\n",
    "    run # run is function that reads cells and outputs array of updated cell domains\n",
    "end\n",
    "\n",
    "diffprop(c1,c2) = () -> begin \n",
    "     if length(c1) == 1\n",
    "        setdiff!(c2.it, c1.it)\n",
    "        return (c2,)\n",
    "    elseif length(c2) == 1\n",
    "        setdiff!(c1.it, c2.it)\n",
    "        return (c1,)\n",
    "    else\n",
    "        return ()\n",
    "    end\n",
    "end\n",
    "\n",
    "eqprop(c1,c2) = () -> begin\n",
    "    c12 = c1 ∩ c2\n",
    "    ret = []\n",
    "    if c1 != c12\n",
    "        c1.it = c12\n",
    "        ret.push!(c1)\n",
    "    end\n",
    "    if c2 != c12\n",
    "        c2.it = c12\n",
    "        ret.push!(c2)\n",
    "    end\n",
    "    return ret\n",
    "    \n",
    "    #return [ for c in (c1,c2) if c != c12]\n",
    "end\n",
    "\n",
    "\n",
    "#liftprop(f, cells...) = () -> begin\n",
    "#    f(cells[1:end-1]...)\n",
    "#end\n",
    "\n",
    "# it pains me that we are intersecting and not getting information about whether the intersection culled anything\n",
    "\n",
    "function provide!(x,z)  \n",
    "    if x.it == z \n",
    "       return nothing\n",
    "    else\n",
    "       intersect!(x.it,z)\n",
    "       x\n",
    "    end\n",
    "end\n",
    "\n",
    "liftprop(f,input, output) = () -> begin\n",
    "    provide(z, [f(x) for x in input.it]\n",
    "end\n",
    "        \n",
    "function :*(cx::Cell, cy::Cell)\n",
    "        cz = Cell(BitSet( [ x * y for x in cs.it for y in cx.y ] , [])\n",
    "        cz.props.push!(() ->  begin\n",
    "                              provide!(y, [ z / y for z in cz.it for y in cy.it if z % y == 0 ] )\n",
    "                              provide!(x, [ z / x for z in cz.it for x in cx.it if z % x == 0 ] ) end\n",
    "                )\n",
    "        cx.props.push!(() -> begin\n",
    "                provide!(y, [ z / y for z in cz.it for y in cy.it if z % y == 0 ] )\n",
    "                provide!(z, [ x * y for x in cs.it for y in cx.y ])\n",
    "                            end)\n",
    "        cy.props.push!(() -> begin\n",
    "                        provide!(x, [ z / x for z in cz.it for x in cx.it if z % x == 0 ] )\n",
    "                        provide!(z, [ x * y for x in cs.it for y in cx.y ])\n",
    "                        end)\n",
    "    end\n",
    "\n",
    "function :*(x::Number, cy::Cell)\n",
    "        cz = Cell(BitSet( [ x * y for y in cx.y ] , [])\n",
    "        cz.props.push!(() ->  provide!(y, [ z / y for z in cz.it if z % x == 0 ] )\n",
    "                )\n",
    "        cy.props.push!(() ->  provide!(z, [ x * y for y in cx.y ])\n",
    "                        end)\n",
    "    end\n",
    "        \n",
    "function :+(cx::Cell, cy::Cell)\n",
    "        cz = Cell(BitSet( [ x + y for x in cs.it for y in cx.y ] , [])\n",
    "        cz.props.push!(() ->  begin\n",
    "                              provide!(y, [ z - y for z in cz.it for y in cy.it ] )\n",
    "                              provide!(x, [ z - x for z in cz.it for x in cx.it  ] ) end\n",
    "                )\n",
    "        cx.props.push!(() -> begin\n",
    "                provide!(y, [ z - x for z in cz.it for x in cx.it ] )\n",
    "                provide!(z, [ x + y for x in cs.it for y in cx.y ])\n",
    "                            end)\n",
    "        cy.props.push!(() -> begin\n",
    "                        provide!(x, [ z - x for z in cz.it for x in cx.it ] )\n",
    "                        provide!(z, [ x + y for x in cs.it for y in cx.y ])\n",
    "                        end)\n",
    "    end\n",
    "        \n",
    "        "
   ]
  },
  {
   "cell_type": "markdown",
   "metadata": {},
   "source": [
    "This stuff plus a stream implementation, you got a stew goin\n",
    "\n",
    "Can you generalize intervals to convex cones?\n",
    "What about Semipositve matrix cone? X - A >= 0\n",
    "\n",
    "\n",
    "\n",
    "Propagators + search\n",
    "List monad with provides happening in it.\n",
    "Whatever the propagator moand is that allows propagation to automatically happen. allows provide.\n",
    "\n",
    "s -> [s, s, s, ...]\n",
    "takes in propagator state outputs freshened propagators.\n",
    "That's a little tough given my usage of references.\n",
    "\n",
    "\n",
    "Maybe the channel based stream thing\n",
    "\n",
    "\n",
    "\n",
    "Arrays of variables - arrays are mappings of FinSet.\n",
    "We can make a schema.This implies composition constraints and consistency constraints.\n",
    "\n",
    "\n",
    "\n"
   ]
  },
  {
   "cell_type": "code",
   "execution_count": 48,
   "metadata": {},
   "outputs": [
    {
     "data": {
      "text/plain": [
       "Bar(3)"
      ]
     },
     "execution_count": 48,
     "metadata": {},
     "output_type": "execute_result"
    }
   ],
   "source": [
    "mutable struct Foo\n",
    "    it\n",
    "end\n",
    "\n",
    "x = Foo(3)\n",
    "x.it = 4\n",
    "x\n",
    "\n",
    "struct Bar\n",
    "    it\n",
    "end\n",
    "\n",
    "x = Bar(3)\n",
    "#x.it = 3 # error\n",
    "x"
   ]
  },
  {
   "cell_type": "code",
   "execution_count": 33,
   "metadata": {},
   "outputs": [],
   "source": [
    "using DataStructures"
   ]
  },
  {
   "cell_type": "code",
   "execution_count": 34,
   "metadata": {},
   "outputs": [
    {
     "ename": "LoadError",
     "evalue": "ArgumentError: PriorityQueue keys must be unique",
     "output_type": "error",
     "traceback": [
      "ArgumentError: PriorityQueue keys must be unique",
      "",
      "Stacktrace:",
      " [1] enqueue!(::PriorityQueue{Any,Any,Base.Order.ForwardOrdering}, ::Pair{Any,Any}) at /home/philip/.julia/packages/DataStructures/DLSxi/src/priorityqueue.jl:231",
      " [2] enqueue! at /home/philip/.julia/packages/DataStructures/DLSxi/src/priorityqueue.jl:247 [inlined]",
      " [3] enqueue!(::PriorityQueue{Any,Any,Base.Order.ForwardOrdering}, ::Int64, ::Int64) at /home/philip/.julia/packages/DataStructures/DLSxi/src/priorityqueue.jl:246",
      " [4] top-level scope at In[34]:3",
      " [5] include_string(::Function, ::Module, ::String, ::String) at ./loading.jl:1091"
     ]
    }
   ],
   "source": [
    "pq = PriorityQueue()\n",
    "enqueue!(pq,7,21)\n",
    "enqueue!(pq,7,13)\n"
   ]
  },
  {
   "cell_type": "code",
   "execution_count": 42,
   "metadata": {},
   "outputs": [
    {
     "ename": "LoadError",
     "evalue": "MethodError: no method matching dequeue!(::OrderedSet{Any})\nClosest candidates are:\n  dequeue!(!Matched::Queue) at /home/philip/.julia/packages/DataStructures/DLSxi/src/queue.jl:37\n  dequeue!(!Matched::PriorityQueue) at /home/philip/.julia/packages/DataStructures/DLSxi/src/priorityqueue.jl:270\n  dequeue!(!Matched::PriorityQueue, !Matched::Any) at /home/philip/.julia/packages/DataStructures/DLSxi/src/priorityqueue.jl:282",
     "output_type": "error",
     "traceback": [
      "MethodError: no method matching dequeue!(::OrderedSet{Any})\nClosest candidates are:\n  dequeue!(!Matched::Queue) at /home/philip/.julia/packages/DataStructures/DLSxi/src/queue.jl:37\n  dequeue!(!Matched::PriorityQueue) at /home/philip/.julia/packages/DataStructures/DLSxi/src/priorityqueue.jl:270\n  dequeue!(!Matched::PriorityQueue, !Matched::Any) at /home/philip/.julia/packages/DataStructures/DLSxi/src/priorityqueue.jl:282",
      "",
      "Stacktrace:",
      " [1] top-level scope at In[42]:5",
      " [2] include_string(::Function, ::Module, ::String, ::String) at ./loading.jl:1091"
     ]
    }
   ],
   "source": [
    "x = OrderedSet(  )\n",
    "push!(x,7)\n",
    "push!(x,9)\n",
    "pop!(x)\n",
    "dequeue!(x)\n",
    "x"
   ]
  },
  {
   "cell_type": "code",
   "execution_count": null,
   "metadata": {},
   "outputs": [],
   "source": [
    "function run(cells)\n",
    "    cells = Queue(cells)\n",
    "    while !isempty(cells)\n",
    "        cell = dequeue!(cells)\n",
    "        for prop in cell.neighbors\n",
    "            for cell2 in prop()\n",
    "                cells.enqueue!(cell2)\n",
    "        #for cell in props.pop!()()\n",
    "         #   props.push!(cell.neighbors)\n",
    "        #end\n",
    "    end\n",
    "end \n"
   ]
  },
  {
   "cell_type": "code",
   "execution_count": 24,
   "metadata": {},
   "outputs": [
    {
     "data": {
      "text/plain": [
       "4"
      ]
     },
     "execution_count": 24,
     "metadata": {},
     "output_type": "execute_result"
    }
   ],
   "source": [
    "length(BitSet([1,2,3,8]))"
   ]
  },
  {
   "cell_type": "code",
   "execution_count": 30,
   "metadata": {},
   "outputs": [
    {
     "data": {
      "text/plain": [
       "BitSet with 6 elements:\n",
       "  4\n",
       "  5\n",
       "  6\n",
       "  7\n",
       "  8\n",
       "  9"
      ]
     },
     "execution_count": 30,
     "metadata": {},
     "output_type": "execute_result"
    }
   ],
   "source": [
    "x = BitSet(1:9)\n",
    "setdiff!(x, BitSet(1:3))\n",
    "x"
   ]
  },
  {
   "cell_type": "code",
   "execution_count": 20,
   "metadata": {},
   "outputs": [
    {
     "data": {
      "text/plain": [
       "2"
      ]
     },
     "execution_count": 20,
     "metadata": {},
     "output_type": "execute_result"
    }
   ],
   "source": [
    "[1 2 3][end-1]"
   ]
  },
  {
   "cell_type": "code",
   "execution_count": 18,
   "metadata": {},
   "outputs": [
    {
     "data": {
      "text/plain": [
       "9×9×9 Array{Cell,3}:\n",
       "[:, :, 1] =\n",
       " Cell(BitSet([1, 2, 3, 4, 5, 6, 7, 8, 9]), Any[])  …  Cell(BitSet([1, 2, 3, 4, 5, 6, 7, 8, 9]), Any[])\n",
       " Cell(BitSet([1, 2, 3, 4, 5, 6, 7, 8, 9]), Any[])     Cell(BitSet([1, 2, 3, 4, 5, 6, 7, 8, 9]), Any[])\n",
       " Cell(BitSet([1, 2, 3, 4, 5, 6, 7, 8, 9]), Any[])     Cell(BitSet([1, 2, 3, 4, 5, 6, 7, 8, 9]), Any[])\n",
       " Cell(BitSet([1, 2, 3, 4, 5, 6, 7, 8, 9]), Any[])     Cell(BitSet([1, 2, 3, 4, 5, 6, 7, 8, 9]), Any[])\n",
       " Cell(BitSet([1, 2, 3, 4, 5, 6, 7, 8, 9]), Any[])     Cell(BitSet([1, 2, 3, 4, 5, 6, 7, 8, 9]), Any[])\n",
       " Cell(BitSet([1, 2, 3, 4, 5, 6, 7, 8, 9]), Any[])  …  Cell(BitSet([1, 2, 3, 4, 5, 6, 7, 8, 9]), Any[])\n",
       " Cell(BitSet([1, 2, 3, 4, 5, 6, 7, 8, 9]), Any[])     Cell(BitSet([1, 2, 3, 4, 5, 6, 7, 8, 9]), Any[])\n",
       " Cell(BitSet([1, 2, 3, 4, 5, 6, 7, 8, 9]), Any[])     Cell(BitSet([1, 2, 3, 4, 5, 6, 7, 8, 9]), Any[])\n",
       " Cell(BitSet([1, 2, 3, 4, 5, 6, 7, 8, 9]), Any[])     Cell(BitSet([1, 2, 3, 4, 5, 6, 7, 8, 9]), Any[])\n",
       "\n",
       "[:, :, 2] =\n",
       " Cell(BitSet([1, 2, 3, 4, 5, 6, 7, 8, 9]), Any[])  …  Cell(BitSet([1, 2, 3, 4, 5, 6, 7, 8, 9]), Any[])\n",
       " Cell(BitSet([1, 2, 3, 4, 5, 6, 7, 8, 9]), Any[])     Cell(BitSet([1, 2, 3, 4, 5, 6, 7, 8, 9]), Any[])\n",
       " Cell(BitSet([1, 2, 3, 4, 5, 6, 7, 8, 9]), Any[])     Cell(BitSet([1, 2, 3, 4, 5, 6, 7, 8, 9]), Any[])\n",
       " Cell(BitSet([1, 2, 3, 4, 5, 6, 7, 8, 9]), Any[])     Cell(BitSet([1, 2, 3, 4, 5, 6, 7, 8, 9]), Any[])\n",
       " Cell(BitSet([1, 2, 3, 4, 5, 6, 7, 8, 9]), Any[])     Cell(BitSet([1, 2, 3, 4, 5, 6, 7, 8, 9]), Any[])\n",
       " Cell(BitSet([1, 2, 3, 4, 5, 6, 7, 8, 9]), Any[])  …  Cell(BitSet([1, 2, 3, 4, 5, 6, 7, 8, 9]), Any[])\n",
       " Cell(BitSet([1, 2, 3, 4, 5, 6, 7, 8, 9]), Any[])     Cell(BitSet([1, 2, 3, 4, 5, 6, 7, 8, 9]), Any[])\n",
       " Cell(BitSet([1, 2, 3, 4, 5, 6, 7, 8, 9]), Any[])     Cell(BitSet([1, 2, 3, 4, 5, 6, 7, 8, 9]), Any[])\n",
       " Cell(BitSet([1, 2, 3, 4, 5, 6, 7, 8, 9]), Any[])     Cell(BitSet([1, 2, 3, 4, 5, 6, 7, 8, 9]), Any[])\n",
       "\n",
       "[:, :, 3] =\n",
       " Cell(BitSet([1, 2, 3, 4, 5, 6, 7, 8, 9]), Any[])  …  Cell(BitSet([1, 2, 3, 4, 5, 6, 7, 8, 9]), Any[])\n",
       " Cell(BitSet([1, 2, 3, 4, 5, 6, 7, 8, 9]), Any[])     Cell(BitSet([1, 2, 3, 4, 5, 6, 7, 8, 9]), Any[])\n",
       " Cell(BitSet([1, 2, 3, 4, 5, 6, 7, 8, 9]), Any[])     Cell(BitSet([1, 2, 3, 4, 5, 6, 7, 8, 9]), Any[])\n",
       " Cell(BitSet([1, 2, 3, 4, 5, 6, 7, 8, 9]), Any[])     Cell(BitSet([1, 2, 3, 4, 5, 6, 7, 8, 9]), Any[])\n",
       " Cell(BitSet([1, 2, 3, 4, 5, 6, 7, 8, 9]), Any[])     Cell(BitSet([1, 2, 3, 4, 5, 6, 7, 8, 9]), Any[])\n",
       " Cell(BitSet([1, 2, 3, 4, 5, 6, 7, 8, 9]), Any[])  …  Cell(BitSet([1, 2, 3, 4, 5, 6, 7, 8, 9]), Any[])\n",
       " Cell(BitSet([1, 2, 3, 4, 5, 6, 7, 8, 9]), Any[])     Cell(BitSet([1, 2, 3, 4, 5, 6, 7, 8, 9]), Any[])\n",
       " Cell(BitSet([1, 2, 3, 4, 5, 6, 7, 8, 9]), Any[])     Cell(BitSet([1, 2, 3, 4, 5, 6, 7, 8, 9]), Any[])\n",
       " Cell(BitSet([1, 2, 3, 4, 5, 6, 7, 8, 9]), Any[])     Cell(BitSet([1, 2, 3, 4, 5, 6, 7, 8, 9]), Any[])\n",
       "\n",
       "[:, :, 4] =\n",
       " Cell(BitSet([1, 2, 3, 4, 5, 6, 7, 8, 9]), Any[])  …  Cell(BitSet([1, 2, 3, 4, 5, 6, 7, 8, 9]), Any[])\n",
       " Cell(BitSet([1, 2, 3, 4, 5, 6, 7, 8, 9]), Any[])     Cell(BitSet([1, 2, 3, 4, 5, 6, 7, 8, 9]), Any[])\n",
       " Cell(BitSet([1, 2, 3, 4, 5, 6, 7, 8, 9]), Any[])     Cell(BitSet([1, 2, 3, 4, 5, 6, 7, 8, 9]), Any[])\n",
       " Cell(BitSet([1, 2, 3, 4, 5, 6, 7, 8, 9]), Any[])     Cell(BitSet([1, 2, 3, 4, 5, 6, 7, 8, 9]), Any[])\n",
       " Cell(BitSet([1, 2, 3, 4, 5, 6, 7, 8, 9]), Any[])     Cell(BitSet([1, 2, 3, 4, 5, 6, 7, 8, 9]), Any[])\n",
       " Cell(BitSet([1, 2, 3, 4, 5, 6, 7, 8, 9]), Any[])  …  Cell(BitSet([1, 2, 3, 4, 5, 6, 7, 8, 9]), Any[])\n",
       " Cell(BitSet([1, 2, 3, 4, 5, 6, 7, 8, 9]), Any[])     Cell(BitSet([1, 2, 3, 4, 5, 6, 7, 8, 9]), Any[])\n",
       " Cell(BitSet([1, 2, 3, 4, 5, 6, 7, 8, 9]), Any[])     Cell(BitSet([1, 2, 3, 4, 5, 6, 7, 8, 9]), Any[])\n",
       " Cell(BitSet([1, 2, 3, 4, 5, 6, 7, 8, 9]), Any[])     Cell(BitSet([1, 2, 3, 4, 5, 6, 7, 8, 9]), Any[])\n",
       "\n",
       "[:, :, 5] =\n",
       " Cell(BitSet([1, 2, 3, 4, 5, 6, 7, 8, 9]), Any[])  …  Cell(BitSet([1, 2, 3, 4, 5, 6, 7, 8, 9]), Any[])\n",
       " Cell(BitSet([1, 2, 3, 4, 5, 6, 7, 8, 9]), Any[])     Cell(BitSet([1, 2, 3, 4, 5, 6, 7, 8, 9]), Any[])\n",
       " Cell(BitSet([1, 2, 3, 4, 5, 6, 7, 8, 9]), Any[])     Cell(BitSet([1, 2, 3, 4, 5, 6, 7, 8, 9]), Any[])\n",
       " Cell(BitSet([1, 2, 3, 4, 5, 6, 7, 8, 9]), Any[])     Cell(BitSet([1, 2, 3, 4, 5, 6, 7, 8, 9]), Any[])\n",
       " Cell(BitSet([1, 2, 3, 4, 5, 6, 7, 8, 9]), Any[])     Cell(BitSet([1, 2, 3, 4, 5, 6, 7, 8, 9]), Any[])\n",
       " Cell(BitSet([1, 2, 3, 4, 5, 6, 7, 8, 9]), Any[])  …  Cell(BitSet([1, 2, 3, 4, 5, 6, 7, 8, 9]), Any[])\n",
       " Cell(BitSet([1, 2, 3, 4, 5, 6, 7, 8, 9]), Any[])     Cell(BitSet([1, 2, 3, 4, 5, 6, 7, 8, 9]), Any[])\n",
       " Cell(BitSet([1, 2, 3, 4, 5, 6, 7, 8, 9]), Any[])     Cell(BitSet([1, 2, 3, 4, 5, 6, 7, 8, 9]), Any[])\n",
       " Cell(BitSet([1, 2, 3, 4, 5, 6, 7, 8, 9]), Any[])     Cell(BitSet([1, 2, 3, 4, 5, 6, 7, 8, 9]), Any[])\n",
       "\n",
       "[:, :, 6] =\n",
       " Cell(BitSet([1, 2, 3, 4, 5, 6, 7, 8, 9]), Any[])  …  Cell(BitSet([1, 2, 3, 4, 5, 6, 7, 8, 9]), Any[])\n",
       " Cell(BitSet([1, 2, 3, 4, 5, 6, 7, 8, 9]), Any[])     Cell(BitSet([1, 2, 3, 4, 5, 6, 7, 8, 9]), Any[])\n",
       " Cell(BitSet([1, 2, 3, 4, 5, 6, 7, 8, 9]), Any[])     Cell(BitSet([1, 2, 3, 4, 5, 6, 7, 8, 9]), Any[])\n",
       " Cell(BitSet([1, 2, 3, 4, 5, 6, 7, 8, 9]), Any[])     Cell(BitSet([1, 2, 3, 4, 5, 6, 7, 8, 9]), Any[])\n",
       " Cell(BitSet([1, 2, 3, 4, 5, 6, 7, 8, 9]), Any[])     Cell(BitSet([1, 2, 3, 4, 5, 6, 7, 8, 9]), Any[])\n",
       " Cell(BitSet([1, 2, 3, 4, 5, 6, 7, 8, 9]), Any[])  …  Cell(BitSet([1, 2, 3, 4, 5, 6, 7, 8, 9]), Any[])\n",
       " Cell(BitSet([1, 2, 3, 4, 5, 6, 7, 8, 9]), Any[])     Cell(BitSet([1, 2, 3, 4, 5, 6, 7, 8, 9]), Any[])\n",
       " Cell(BitSet([1, 2, 3, 4, 5, 6, 7, 8, 9]), Any[])     Cell(BitSet([1, 2, 3, 4, 5, 6, 7, 8, 9]), Any[])\n",
       " Cell(BitSet([1, 2, 3, 4, 5, 6, 7, 8, 9]), Any[])     Cell(BitSet([1, 2, 3, 4, 5, 6, 7, 8, 9]), Any[])\n",
       "\n",
       "[:, :, 7] =\n",
       " Cell(BitSet([1, 2, 3, 4, 5, 6, 7, 8, 9]), Any[])  …  Cell(BitSet([1, 2, 3, 4, 5, 6, 7, 8, 9]), Any[])\n",
       " Cell(BitSet([1, 2, 3, 4, 5, 6, 7, 8, 9]), Any[])     Cell(BitSet([1, 2, 3, 4, 5, 6, 7, 8, 9]), Any[])\n",
       " Cell(BitSet([1, 2, 3, 4, 5, 6, 7, 8, 9]), Any[])     Cell(BitSet([1, 2, 3, 4, 5, 6, 7, 8, 9]), Any[])\n",
       " Cell(BitSet([1, 2, 3, 4, 5, 6, 7, 8, 9]), Any[])     Cell(BitSet([1, 2, 3, 4, 5, 6, 7, 8, 9]), Any[])\n",
       " Cell(BitSet([1, 2, 3, 4, 5, 6, 7, 8, 9]), Any[])     Cell(BitSet([1, 2, 3, 4, 5, 6, 7, 8, 9]), Any[])\n",
       " Cell(BitSet([1, 2, 3, 4, 5, 6, 7, 8, 9]), Any[])  …  Cell(BitSet([1, 2, 3, 4, 5, 6, 7, 8, 9]), Any[])\n",
       " Cell(BitSet([1, 2, 3, 4, 5, 6, 7, 8, 9]), Any[])     Cell(BitSet([1, 2, 3, 4, 5, 6, 7, 8, 9]), Any[])\n",
       " Cell(BitSet([1, 2, 3, 4, 5, 6, 7, 8, 9]), Any[])     Cell(BitSet([1, 2, 3, 4, 5, 6, 7, 8, 9]), Any[])\n",
       " Cell(BitSet([1, 2, 3, 4, 5, 6, 7, 8, 9]), Any[])     Cell(BitSet([1, 2, 3, 4, 5, 6, 7, 8, 9]), Any[])\n",
       "\n",
       "[:, :, 8] =\n",
       " Cell(BitSet([1, 2, 3, 4, 5, 6, 7, 8, 9]), Any[])  …  Cell(BitSet([1, 2, 3, 4, 5, 6, 7, 8, 9]), Any[])\n",
       " Cell(BitSet([1, 2, 3, 4, 5, 6, 7, 8, 9]), Any[])     Cell(BitSet([1, 2, 3, 4, 5, 6, 7, 8, 9]), Any[])\n",
       " Cell(BitSet([1, 2, 3, 4, 5, 6, 7, 8, 9]), Any[])     Cell(BitSet([1, 2, 3, 4, 5, 6, 7, 8, 9]), Any[])\n",
       " Cell(BitSet([1, 2, 3, 4, 5, 6, 7, 8, 9]), Any[])     Cell(BitSet([1, 2, 3, 4, 5, 6, 7, 8, 9]), Any[])\n",
       " Cell(BitSet([1, 2, 3, 4, 5, 6, 7, 8, 9]), Any[])     Cell(BitSet([1, 2, 3, 4, 5, 6, 7, 8, 9]), Any[])\n",
       " Cell(BitSet([1, 2, 3, 4, 5, 6, 7, 8, 9]), Any[])  …  Cell(BitSet([1, 2, 3, 4, 5, 6, 7, 8, 9]), Any[])\n",
       " Cell(BitSet([1, 2, 3, 4, 5, 6, 7, 8, 9]), Any[])     Cell(BitSet([1, 2, 3, 4, 5, 6, 7, 8, 9]), Any[])\n",
       " Cell(BitSet([1, 2, 3, 4, 5, 6, 7, 8, 9]), Any[])     Cell(BitSet([1, 2, 3, 4, 5, 6, 7, 8, 9]), Any[])\n",
       " Cell(BitSet([1, 2, 3, 4, 5, 6, 7, 8, 9]), Any[])     Cell(BitSet([1, 2, 3, 4, 5, 6, 7, 8, 9]), Any[])\n",
       "\n",
       "[:, :, 9] =\n",
       " Cell(BitSet([1, 2, 3, 4, 5, 6, 7, 8, 9]), Any[])  …  Cell(BitSet([1, 2, 3, 4, 5, 6, 7, 8, 9]), Any[])\n",
       " Cell(BitSet([1, 2, 3, 4, 5, 6, 7, 8, 9]), Any[])     Cell(BitSet([1, 2, 3, 4, 5, 6, 7, 8, 9]), Any[])\n",
       " Cell(BitSet([1, 2, 3, 4, 5, 6, 7, 8, 9]), Any[])     Cell(BitSet([1, 2, 3, 4, 5, 6, 7, 8, 9]), Any[])\n",
       " Cell(BitSet([1, 2, 3, 4, 5, 6, 7, 8, 9]), Any[])     Cell(BitSet([1, 2, 3, 4, 5, 6, 7, 8, 9]), Any[])\n",
       " Cell(BitSet([1, 2, 3, 4, 5, 6, 7, 8, 9]), Any[])     Cell(BitSet([1, 2, 3, 4, 5, 6, 7, 8, 9]), Any[])\n",
       " Cell(BitSet([1, 2, 3, 4, 5, 6, 7, 8, 9]), Any[])  …  Cell(BitSet([1, 2, 3, 4, 5, 6, 7, 8, 9]), Any[])\n",
       " Cell(BitSet([1, 2, 3, 4, 5, 6, 7, 8, 9]), Any[])     Cell(BitSet([1, 2, 3, 4, 5, 6, 7, 8, 9]), Any[])\n",
       " Cell(BitSet([1, 2, 3, 4, 5, 6, 7, 8, 9]), Any[])     Cell(BitSet([1, 2, 3, 4, 5, 6, 7, 8, 9]), Any[])\n",
       " Cell(BitSet([1, 2, 3, 4, 5, 6, 7, 8, 9]), Any[])     Cell(BitSet([1, 2, 3, 4, 5, 6, 7, 8, 9]), Any[])"
      ]
     },
     "execution_count": 18,
     "metadata": {},
     "output_type": "execute_result"
    }
   ],
   "source": [
    "#sudoku\n",
    "vars = [Cell(BitSet(1:9), []) for i=1:9,j=1:9,k=1:9 ]\n",
    "\n",
    "for i in 1:9\n",
    "    vars[i,:,:].listener.push!(  )\n",
    "end\n"
   ]
  },
  {
   "cell_type": "code",
   "execution_count": 3,
   "metadata": {},
   "outputs": [
    {
     "name": "stdout",
     "output_type": "stream",
     "text": [
      "BitSet\n",
      "  bits: Array{UInt64}((1,)) UInt64[0x000000000000000e]\n",
      "  offset: Int64 0\n"
     ]
    }
   ],
   "source": [
    "dump(BitSet( [1,2,3] )) # not bad"
   ]
  },
  {
   "cell_type": "code",
   "execution_count": 6,
   "metadata": {},
   "outputs": [
    {
     "data": {
      "text/plain": [
       "true"
      ]
     },
     "execution_count": 6,
     "metadata": {},
     "output_type": "execute_result"
    }
   ],
   "source": [
    "BitSet([1,2,3]) ∪ BitSet([1,2,4])\n",
    "BitSet([1,2,3]) ∩ BitSet([1,2,4])\n",
    "BitSet([1,2]) ⊆ BitSet([1,2,3])\n",
    "\n"
   ]
  },
  {
   "cell_type": "code",
   "execution_count": 10,
   "metadata": {},
   "outputs": [],
   "source": [
    "using LightGraphs, MetaGraphs"
   ]
  },
  {
   "cell_type": "code",
   "execution_count": 9,
   "metadata": {},
   "outputs": [
    {
     "name": "stderr",
     "output_type": "stream",
     "text": [
      "\u001b[32m\u001b[1m  Resolving\u001b[22m\u001b[39m package versions...\n",
      "\u001b[32m\u001b[1mUpdating\u001b[22m\u001b[39m `~/.julia/environments/v1.5/Project.toml`\n",
      " \u001b[90m [626554b9] \u001b[39m\u001b[92m+ MetaGraphs v0.6.6\u001b[39m\n",
      "\u001b[32m\u001b[1mNo Changes\u001b[22m\u001b[39m to `~/.julia/environments/v1.5/Manifest.toml`\n"
     ]
    }
   ],
   "source": [
    "import Pkg; Pkg.add(\"MetaGraphs\")"
   ]
  },
  {
   "cell_type": "markdown",
   "metadata": {},
   "source": [
    "metagraph: vertices for constraints and variables.\n",
    "\n",
    "https://binaryanalysisplatform.github.io/bap/api/master/graphlib/Graphlib/Std/Graphlib/index.html#val-fixpoint\n",
    "\n",
    "\n"
   ]
  },
  {
   "cell_type": "code",
   "execution_count": 14,
   "metadata": {},
   "outputs": [
    {
     "data": {
      "text/plain": [
       "{5, 4} undirected Int64 metagraph with Float64 weights defined by :weight (default weight 1.0)"
      ]
     },
     "execution_count": 14,
     "metadata": {},
     "output_type": "execute_result"
    }
   ],
   "source": [
    "g = MetaGraph(path_graph(5))"
   ]
  },
  {
   "cell_type": "code",
   "execution_count": 22,
   "metadata": {},
   "outputs": [
    {
     "data": {
      "text/plain": [
       "true"
      ]
     },
     "execution_count": 22,
     "metadata": {},
     "output_type": "execute_result"
    }
   ],
   "source": [
    "set_prop!(g,1, :dom, BitSet(1:9) )\n",
    "set_prop!(g,2, :prop, () -> g   )\n"
   ]
  },
  {
   "cell_type": "code",
   "execution_count": null,
   "metadata": {},
   "outputs": [],
   "source": [
    "struct Model\n",
    "    cells\n",
    "    propagators\n",
    "    graph\n",
    "end"
   ]
  },
  {
   "cell_type": "code",
   "execution_count": null,
   "metadata": {},
   "outputs": [],
   "source": [
    "[]"
   ]
  }
 ],
 "metadata": {
  "kernelspec": {
   "display_name": "Julia 1.5.0",
   "language": "julia",
   "name": "julia-1.5"
  },
  "language_info": {
   "file_extension": ".jl",
   "mimetype": "application/julia",
   "name": "julia",
   "version": "1.5.0"
  }
 },
 "nbformat": 4,
 "nbformat_minor": 4
}
