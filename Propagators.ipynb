{
 "cells": [
  {
   "cell_type": "markdown",
   "metadata": {},
   "source": [
    "\n",
    "https://cpb-us-w2.wpmucdn.com/sites.gatech.edu/dist/3/865/files/2018/09/paper.pdf\n",
    "MiniCP - nice little implementation, shame IF SOMETHIN WERE TO HAPPEN TO IT\n",
    "\n",
    "\n",
    "\n",
    "Ah, propagators we meet again\n",
    "\n",
    "\n",
    "BitSet\n",
    "\n",
    "\n",
    "Who owns what.\n",
    "\n",
    "Variables have \n",
    "\n",
    "\n",
    "Perhaps realted to this\n",
    "\n",
    "use lightgraphs and perform fixpoint computation a la bap\n",
    "\n",
    "We could even construct them categorically.\n",
    "See if i give a shit.\n",
    "\n",
    "\n",
    "contractive relation function\n",
    "(c1,c2) -> (c1',c2') such that c1' subset c1, c2 subset c1 \n",
    "\n",
    "Externally we can check if we want to reschedule c1 then\n",
    "\n",
    "\n",
    "\n",
    "\n",
    "Lattices are the algerbaic theory of approximation\n",
    "\n",
    "Classical Approximation theory is interested in finding good approximate expressions for functions and characterziing a quantitative error. Polynomial approximators, fourier series approximators.\n",
    "\n",
    "Kmett describes propagators as monotonic functions on lattices.\n",
    "\n",
    "\n",
    "\n",
    "propagators on an fpga?\n",
    "\n"
   ]
  },
  {
   "cell_type": "code",
   "execution_count": null,
   "metadata": {},
   "outputs": [],
   "source": [
    "# how do I do datalog semi naive evaluation shallow embedded?\n",
    "mutable struct Rel\n",
    "    elem\n",
    "end\n",
    "\n",
    "\n",
    "R(a,b) <- Q(), Q()\n",
    "\n",
    "\n",
    "#  it sound cool and possibly easy to implement Schulte's compact table thing\n",
    "\n",
    "\n",
    "\n",
    "struct UWD \n",
    "    box::Array # describes the graph\n",
    "    junc::Array\n",
    "    junc'::Array\n",
    "    B::Int64 #propagators = boxes / relations\n",
    "    P::Int64 # ports are all the slots on propagators\n",
    "    J::Int64 # junctions are variables\n",
    "    Q::Int64 # outer ports\n",
    "end\n",
    "\n",
    "# If the propagators could fire during composition, that'd be kind of fun\n",
    "\n",
    "struct Network\n",
    "    prop::Array{Any}\n",
    "    V::Array{BitSet}\n",
    "    ::V -> [Prop]\n",
    "    ::Prop -> [V]\n",
    "end\n",
    "\n",
    "#=\n",
    "\n",
    "\n",
    "\n",
    "=#\n",
    "\n"
   ]
  },
  {
   "cell_type": "code",
   "execution_count": 1,
   "metadata": {},
   "outputs": [
    {
     "name": "stderr",
     "output_type": "stream",
     "text": [
      "\u001b[32m\u001b[1m   Updating\u001b[22m\u001b[39m registry at `~/.julia/registries/General`\n"
     ]
    },
    {
     "name": "stdout",
     "output_type": "stream",
     "text": [
      "\u001b[?25l    "
     ]
    },
    {
     "name": "stderr",
     "output_type": "stream",
     "text": [
      "\u001b[32m\u001b[1m   Updating\u001b[22m\u001b[39m git-repo `https://github.com/JuliaRegistries/General.git`\n"
     ]
    },
    {
     "name": "stdout",
     "output_type": "stream",
     "text": [
      "\u001b[2K\u001b[?25h[1mFetching:\u001b[22m\u001b[39m [========================================>]  100.0 %3.4 %>                             ]  26.8 %>                  ]  53.5 %===========================>             ]  66.9 %    ]  88.5 %"
     ]
    },
    {
     "name": "stderr",
     "output_type": "stream",
     "text": [
      "\u001b[32m\u001b[1m  Installed\u001b[22m\u001b[39m EllipsisNotation ────────────── v1.0.0\n",
      "\u001b[32m\u001b[1m  Installed\u001b[22m\u001b[39m Mustache ────────────────────── v1.0.9\n",
      "\u001b[32m\u001b[1m  Installed\u001b[22m\u001b[39m OffsetArrays ────────────────── v1.4.2\n",
      "\u001b[32m\u001b[1m  Installed\u001b[22m\u001b[39m LineSearches ────────────────── v7.1.1\n",
      "\u001b[32m\u001b[1m  Installed\u001b[22m\u001b[39m ChainRulesCore ──────────────── v0.9.24\n",
      "\u001b[32m\u001b[1m  Installed\u001b[22m\u001b[39m Hwloc ───────────────────────── v1.1.0\n",
      "\u001b[32m\u001b[1m  Installed\u001b[22m\u001b[39m Distances ───────────────────── v0.10.0\n",
      "\u001b[32m\u001b[1m  Installed\u001b[22m\u001b[39m ImageTransformations ────────── v0.8.8\n",
      "\u001b[32m\u001b[1m  Installed\u001b[22m\u001b[39m Hwloc_jll ───────────────────── v2.2.0+0\n",
      "\u001b[32m\u001b[1m  Installed\u001b[22m\u001b[39m Requires ────────────────────── v1.1.2\n",
      "\u001b[32m\u001b[1m  Installed\u001b[22m\u001b[39m ResettableStacks ────────────── v1.1.0\n",
      "\u001b[32m\u001b[1m  Installed\u001b[22m\u001b[39m NLsolve ─────────────────────── v4.5.0\n",
      "\u001b[32m\u001b[1m  Installed\u001b[22m\u001b[39m ImageAxes ───────────────────── v0.6.8\n",
      "\u001b[32m\u001b[1m  Installed\u001b[22m\u001b[39m SLEEFPirates ────────────────── v0.6.2\n",
      "\u001b[32m\u001b[1m  Installed\u001b[22m\u001b[39m FLINT_jll ───────────────────── v200.700.0+0\n",
      "\u001b[32m\u001b[1m  Installed\u001b[22m\u001b[39m ProgressMeter ───────────────── v1.4.1\n",
      "\u001b[32m\u001b[1m  Installed\u001b[22m\u001b[39m LoweredCodeUtils ────────────── v1.2.7\n",
      "\u001b[32m\u001b[1m  Installed\u001b[22m\u001b[39m ZygoteRules ─────────────────── v0.2.1\n",
      "\u001b[32m\u001b[1m  Installed\u001b[22m\u001b[39m DSP ─────────────────────────── v0.6.10\n",
      "\u001b[32m\u001b[1m  Installed\u001b[22m\u001b[39m WebSockets ──────────────────── v1.5.7\n",
      "\u001b[32m\u001b[1m  Installed\u001b[22m\u001b[39m FFTW_jll ────────────────────── v3.3.9+7\n",
      "\u001b[32m\u001b[1m  Installed\u001b[22m\u001b[39m ArrayInterface ──────────────── v2.14.9\n",
      "\u001b[32m\u001b[1m  Installed\u001b[22m\u001b[39m Petri ───────────────────────── v1.2.4\n",
      "\u001b[32m\u001b[1m  Installed\u001b[22m\u001b[39m LoopVectorization ───────────── v0.9.13\n",
      "\u001b[32m\u001b[1m  Installed\u001b[22m\u001b[39m RecursiveFactorization ──────── v0.1.6\n",
      "\u001b[32m\u001b[1m  Installed\u001b[22m\u001b[39m ModelingToolkit ─────────────── v2.0.0\n",
      "\u001b[32m\u001b[1m  Installed\u001b[22m\u001b[39m IntervalConstraintProgramming ─ v0.12.0\n",
      "\u001b[32m\u001b[1m  Installed\u001b[22m\u001b[39m JuliaInterpreter ────────────── v0.8.8\n",
      "\u001b[32m\u001b[1m  Installed\u001b[22m\u001b[39m StructTypes ─────────────────── v1.2.1\n",
      "\u001b[32m\u001b[1m  Installed\u001b[22m\u001b[39m Parsers ─────────────────────── v1.0.15\n",
      "\u001b[32m\u001b[1m  Installed\u001b[22m\u001b[39m VectorizationBase ───────────── v0.14.9\n",
      "\u001b[32m\u001b[1m  Installed\u001b[22m\u001b[39m IntervalSets ────────────────── v0.5.2\n",
      "\u001b[32m\u001b[1m  Installed\u001b[22m\u001b[39m AbstractAlgebra ─────────────── v0.11.2\n",
      "\u001b[32m\u001b[1m  Installed\u001b[22m\u001b[39m IterativeSolvers ────────────── v0.8.5\n",
      "\u001b[32m\u001b[1m  Installed\u001b[22m\u001b[39m ImageCore ───────────────────── v0.8.20\n",
      "curl: (22) The requested URL returned error: 504      #    #    #              \n",
      "\n",
      "######################################################################### 100.0%##O=#  #                                                                       \n",
      "######################################################################### 100.0%\n",
      "######################################################################### 100.0%\n",
      "\u001b[32m\u001b[1mNo Changes\u001b[22m\u001b[39m to `~/.julia/environments/v1.5/Project.toml`\n",
      "\u001b[32m\u001b[1mUpdating\u001b[22m\u001b[39m `~/.julia/environments/v1.5/Manifest.toml`\n",
      " \u001b[90m [c3fe647b] \u001b[39m\u001b[93m↑ AbstractAlgebra v0.11.1 ⇒ v0.11.2\u001b[39m\n",
      " \u001b[90m [4fba245c] \u001b[39m\u001b[93m↑ ArrayInterface v2.14.4 ⇒ v2.14.9\u001b[39m\n",
      " \u001b[90m [d360d2e6] \u001b[39m\u001b[93m↑ ChainRulesCore v0.9.23 ⇒ v0.9.24\u001b[39m\n",
      " \u001b[90m [adafc99b] \u001b[39m\u001b[91m- CpuId v0.2.2\u001b[39m\n",
      " \u001b[90m [717857b8] \u001b[39m\u001b[93m↑ DSP v0.6.9 ⇒ v0.6.10\u001b[39m\n",
      " \u001b[90m [c894b116] \u001b[39m\u001b[93m↑ DiffEqJump v6.9.3 ⇒ v6.10.0\u001b[39m\n",
      " \u001b[90m [b4f34e82] \u001b[39m\u001b[93m↑ Distances v0.9.2 ⇒ v0.10.0\u001b[39m\n",
      " \u001b[90m [da5c29d0] \u001b[39m\u001b[93m↑ EllipsisNotation v0.4.0 ⇒ v1.0.0\u001b[39m\n",
      " \u001b[90m [f5851436] \u001b[39m\u001b[93m↑ FFTW_jll v3.3.9+6 ⇒ v3.3.9+7\u001b[39m\n",
      " \u001b[90m [e134572f] \u001b[39m\u001b[93m↑ FLINT_jll v200.690.0+0 ⇒ v200.700.0+0\u001b[39m\n",
      " \u001b[90m [0e44f5e4] \u001b[39m\u001b[92m+ Hwloc v1.1.0\u001b[39m\n",
      " \u001b[90m [e33a78d0] \u001b[39m\u001b[92m+ Hwloc_jll v2.2.0+0\u001b[39m\n",
      " \u001b[90m [615f187c] \u001b[39m\u001b[92m+ IfElse v0.1.0\u001b[39m\n",
      " \u001b[90m [2803e5a7] \u001b[39m\u001b[93m↑ ImageAxes v0.6.7 ⇒ v0.6.8\u001b[39m\n",
      " \u001b[90m [a09fc81d] \u001b[39m\u001b[93m↑ ImageCore v0.8.19 ⇒ v0.8.20\u001b[39m\n",
      " \u001b[90m [02fcd773] \u001b[39m\u001b[93m↑ ImageTransformations v0.8.6 ⇒ v0.8.8\u001b[39m\n",
      " \u001b[90m [138f1668] \u001b[39m\u001b[95m↓ IntervalConstraintProgramming v0.12.1 ⇒ v0.12.0\u001b[39m\n",
      " \u001b[90m [8197267c] \u001b[39m\u001b[93m↑ IntervalSets v0.5.1 ⇒ v0.5.2\u001b[39m\n",
      " \u001b[90m [42fd0dbc] \u001b[39m\u001b[93m↑ IterativeSolvers v0.8.4 ⇒ v0.8.5\u001b[39m\n",
      " \u001b[90m [aa1ae85d] \u001b[39m\u001b[93m↑ JuliaInterpreter v0.8.5 ⇒ v0.8.8\u001b[39m\n",
      " \u001b[90m [d3d80556] \u001b[39m\u001b[93m↑ LineSearches v7.1.0 ⇒ v7.1.1\u001b[39m\n",
      " \u001b[90m [bdcacae8] \u001b[39m\u001b[93m↑ LoopVectorization v0.8.26 ⇒ v0.9.13\u001b[39m\n",
      " \u001b[90m [6f1432cf] \u001b[39m\u001b[93m↑ LoweredCodeUtils v1.2.6 ⇒ v1.2.7\u001b[39m\n",
      " \u001b[90m [961ee093] \u001b[39m\u001b[95m↓ ModelingToolkit v3.1.1 ⇒ v2.0.0\u001b[39m\n",
      " \u001b[90m [ffc61752] \u001b[39m\u001b[93m↑ Mustache v1.0.8 ⇒ v1.0.9\u001b[39m\n",
      " \u001b[90m [2774e3e8] \u001b[39m\u001b[93m↑ NLsolve v4.4.1 ⇒ v4.5.0\u001b[39m\n",
      " \u001b[90m [6fe1bfb0] \u001b[39m\u001b[93m↑ OffsetArrays v1.4.1 ⇒ v1.4.2\u001b[39m\n",
      " \u001b[90m [69de0a69] \u001b[39m\u001b[93m↑ Parsers v1.0.14 ⇒ v1.0.15\u001b[39m\n",
      " \u001b[90m [4259d249] \u001b[39m\u001b[93m↑ Petri v1.2.3 ⇒ v1.2.4\u001b[39m\n",
      " \u001b[90m [92933f4c] \u001b[39m\u001b[93m↑ ProgressMeter v1.4.0 ⇒ v1.4.1\u001b[39m\n",
      " \u001b[90m [f2c3362d] \u001b[39m\u001b[93m↑ RecursiveFactorization v0.1.5 ⇒ v0.1.6\u001b[39m\n",
      " \u001b[90m [ae029012] \u001b[39m\u001b[93m↑ Requires v1.1.1 ⇒ v1.1.2\u001b[39m\n",
      " \u001b[90m [ae5879a3] \u001b[39m\u001b[93m↑ ResettableStacks v1.0.0 ⇒ v1.1.0\u001b[39m\n",
      " \u001b[90m [21efa798] \u001b[39m\u001b[91m- SIMDPirates v0.8.26\u001b[39m\n",
      " \u001b[90m [476501e8] \u001b[39m\u001b[93m↑ SLEEFPirates v0.5.5 ⇒ v0.6.2\u001b[39m\n",
      " \u001b[90m [856f2bd8] \u001b[39m\u001b[93m↑ StructTypes v1.1.0 ⇒ v1.2.1\u001b[39m\n",
      " \u001b[90m [3a884ed6] \u001b[39m\u001b[93m↑ UnPack v0.1.0 ⇒ v1.0.2\u001b[39m\n",
      " \u001b[90m [3d5dd08c] \u001b[39m\u001b[93m↑ VectorizationBase v0.12.33 ⇒ v0.14.9\u001b[39m\n",
      " \u001b[90m [104b5d7c] \u001b[39m\u001b[93m↑ WebSockets v1.5.2 ⇒ v1.5.7\u001b[39m\n",
      " \u001b[90m [700de1a5] \u001b[39m\u001b[93m↑ ZygoteRules v0.2.0 ⇒ v0.2.1\u001b[39m\n"
     ]
    }
   ],
   "source": [
    "using Pkg\n",
    "Pkg.update(\"Catlab\")"
   ]
  },
  {
   "cell_type": "code",
   "execution_count": 44,
   "metadata": {},
   "outputs": [
    {
     "ename": "LoadError",
     "evalue": "syntax: missing comma or ) in argument list",
     "output_type": "error",
     "traceback": [
      "syntax: missing comma or ) in argument list",
      "",
      "Stacktrace:",
      " [1] top-level scope at In[44]:60",
      " [2] include_string(::Function, ::Module, ::String, ::String) at ./loading.jl:1091"
     ]
    }
   ],
   "source": [
    "mutable struct Cell\n",
    "    it\n",
    "    listeners\n",
    "end\n",
    "\n",
    "struct Propagator\n",
    "    run # run is function that reads cells and outputs array of updated cell domains\n",
    "end\n",
    "\n",
    "diffprop(c1,c2) = () -> begin \n",
    "     if length(c1) == 1\n",
    "        setdiff!(c2.it, c1.it)\n",
    "        return (c2,)\n",
    "    elseif length(c2) == 1\n",
    "        setdiff!(c1.it, c2.it)\n",
    "        return (c1,)\n",
    "    else\n",
    "        return ()\n",
    "    end\n",
    "end\n",
    "\n",
    "eqprop(c1,c2) = () -> begin\n",
    "    c12 = c1 ∩ c2\n",
    "    ret = []\n",
    "    if c1 != c12\n",
    "        c1.it = c12\n",
    "        ret.push!(c1)\n",
    "    end\n",
    "    if c2 != c12\n",
    "        c2.it = c12\n",
    "        ret.push!(c2)\n",
    "    end\n",
    "    return ret\n",
    "    \n",
    "    #return [ for c in (c1,c2) if c != c12]\n",
    "end\n",
    "\n",
    "\n",
    "#liftprop(f, cells...) = () -> begin\n",
    "#    f(cells[1:end-1]...)\n",
    "#end\n",
    "\n",
    "# it pains me that we are intersecting and not getting information about whether the intersection culled anything\n",
    "\n",
    "function provide!(x,z)  \n",
    "    if x.it == z \n",
    "       return nothing\n",
    "    else\n",
    "       intersect!(x.it,z)\n",
    "       x\n",
    "    end\n",
    "end\n",
    "\n",
    "liftprop(f,input, output) = () -> begin\n",
    "    provide(z, [f(x) for x in input.it]\n",
    "end\n",
    "        \n",
    "function :*(cx::Cell, cy::Cell)\n",
    "        cz = Cell(BitSet( [ x * y for x in cs.it for y in cx.y ] , [])\n",
    "        cz.props.push!(() ->  begin\n",
    "                              provide!(y, [ z / y for z in cz.it for y in cy.it if z % y == 0 ] )\n",
    "                              provide!(x, [ z / x for z in cz.it for x in cx.it if z % x == 0 ] ) end\n",
    "                )\n",
    "        cx.props.push!(() -> begin\n",
    "                provide!(y, [ z / y for z in cz.it for y in cy.it if z % y == 0 ] )\n",
    "                provide!(z, [ x * y for x in cs.it for y in cx.y ])\n",
    "                            end)\n",
    "        cy.props.push!(() -> begin\n",
    "                        provide!(x, [ z / x for z in cz.it for x in cx.it if z % x == 0 ] )\n",
    "                        provide!(z, [ x * y for x in cs.it for y in cx.y ])\n",
    "                        end)\n",
    "    end\n",
    "\n",
    "function :*(x::Number, cy::Cell)\n",
    "        cz = Cell(BitSet( [ x * y for y in cx.y ] , [])\n",
    "        cz.props.push!(() ->  provide!(y, [ z / y for z in cz.it if z % x == 0 ] )\n",
    "                )\n",
    "        cy.props.push!(() ->  provide!(z, [ x * y for y in cx.y ])\n",
    "                        end)\n",
    "    end\n",
    "        \n",
    "function :+(cx::Cell, cy::Cell)\n",
    "        cz = Cell(BitSet( [ x + y for x in cs.it for y in cx.y ] , [])\n",
    "        cz.props.push!(() ->  begin\n",
    "                              provide!(y, [ z - y for z in cz.it for y in cy.it ] )\n",
    "                              provide!(x, [ z - x for z in cz.it for x in cx.it  ] ) end\n",
    "                )\n",
    "        cx.props.push!(() -> begin\n",
    "                provide!(y, [ z - x for z in cz.it for x in cx.it ] )\n",
    "                provide!(z, [ x + y for x in cs.it for y in cx.y ])\n",
    "                            end)\n",
    "        cy.props.push!(() -> begin\n",
    "                        provide!(x, [ z - x for z in cz.it for x in cx.it ] )\n",
    "                        provide!(z, [ x + y for x in cs.it for y in cx.y ])\n",
    "                        end)\n",
    "    end\n",
    "        \n",
    "        "
   ]
  },
  {
   "cell_type": "markdown",
   "metadata": {},
   "source": [
    "This stuff plus a stream implementation, you got a stew goin\n",
    "\n",
    "Can you generalize intervals to convex cones?\n",
    "What about Semipositve matrix cone? X - A >= 0\n",
    "\n",
    "\n",
    "\n",
    "Propagators + search\n",
    "List monad with provides happening in it.\n",
    "Whatever the propagator moand is that allows propagation to automatically happen. allows provide.\n",
    "\n",
    "s -> [s, s, s, ...]\n",
    "takes in propagator state outputs freshened propagators.\n",
    "That's a little tough given my usage of references.\n",
    "\n",
    "\n",
    "Maybe the channel based stream thing\n",
    "\n",
    "\n",
    "\n",
    "Arrays of variables - arrays are mappings of FinSet.\n",
    "We can make a schema.This implies composition constraints and consistency constraints.\n",
    "\n",
    "\n",
    "\n"
   ]
  },
  {
   "cell_type": "code",
   "execution_count": 48,
   "metadata": {},
   "outputs": [
    {
     "data": {
      "text/plain": [
       "Bar(3)"
      ]
     },
     "execution_count": 48,
     "metadata": {},
     "output_type": "execute_result"
    }
   ],
   "source": [
    "mutable struct Foo\n",
    "    it\n",
    "end\n",
    "\n",
    "x = Foo(3)\n",
    "x.it = 4\n",
    "x\n",
    "\n",
    "struct Bar\n",
    "    it\n",
    "end\n",
    "\n",
    "x = Bar(3)\n",
    "#x.it = 3 # error\n",
    "x"
   ]
  },
  {
   "cell_type": "code",
   "execution_count": 33,
   "metadata": {},
   "outputs": [],
   "source": [
    "using DataStructures"
   ]
  },
  {
   "cell_type": "code",
   "execution_count": 34,
   "metadata": {},
   "outputs": [
    {
     "ename": "LoadError",
     "evalue": "ArgumentError: PriorityQueue keys must be unique",
     "output_type": "error",
     "traceback": [
      "ArgumentError: PriorityQueue keys must be unique",
      "",
      "Stacktrace:",
      " [1] enqueue!(::PriorityQueue{Any,Any,Base.Order.ForwardOrdering}, ::Pair{Any,Any}) at /home/philip/.julia/packages/DataStructures/DLSxi/src/priorityqueue.jl:231",
      " [2] enqueue! at /home/philip/.julia/packages/DataStructures/DLSxi/src/priorityqueue.jl:247 [inlined]",
      " [3] enqueue!(::PriorityQueue{Any,Any,Base.Order.ForwardOrdering}, ::Int64, ::Int64) at /home/philip/.julia/packages/DataStructures/DLSxi/src/priorityqueue.jl:246",
      " [4] top-level scope at In[34]:3",
      " [5] include_string(::Function, ::Module, ::String, ::String) at ./loading.jl:1091"
     ]
    }
   ],
   "source": [
    "pq = PriorityQueue()\n",
    "enqueue!(pq,7,21)\n",
    "enqueue!(pq,7,13)\n"
   ]
  },
  {
   "cell_type": "code",
   "execution_count": 42,
   "metadata": {},
   "outputs": [
    {
     "ename": "LoadError",
     "evalue": "MethodError: no method matching dequeue!(::OrderedSet{Any})\nClosest candidates are:\n  dequeue!(!Matched::Queue) at /home/philip/.julia/packages/DataStructures/DLSxi/src/queue.jl:37\n  dequeue!(!Matched::PriorityQueue) at /home/philip/.julia/packages/DataStructures/DLSxi/src/priorityqueue.jl:270\n  dequeue!(!Matched::PriorityQueue, !Matched::Any) at /home/philip/.julia/packages/DataStructures/DLSxi/src/priorityqueue.jl:282",
     "output_type": "error",
     "traceback": [
      "MethodError: no method matching dequeue!(::OrderedSet{Any})\nClosest candidates are:\n  dequeue!(!Matched::Queue) at /home/philip/.julia/packages/DataStructures/DLSxi/src/queue.jl:37\n  dequeue!(!Matched::PriorityQueue) at /home/philip/.julia/packages/DataStructures/DLSxi/src/priorityqueue.jl:270\n  dequeue!(!Matched::PriorityQueue, !Matched::Any) at /home/philip/.julia/packages/DataStructures/DLSxi/src/priorityqueue.jl:282",
      "",
      "Stacktrace:",
      " [1] top-level scope at In[42]:5",
      " [2] include_string(::Function, ::Module, ::String, ::String) at ./loading.jl:1091"
     ]
    }
   ],
   "source": [
    "x = OrderedSet(  )\n",
    "push!(x,7)\n",
    "push!(x,9)\n",
    "pop!(x)\n",
    "dequeue!(x)\n",
    "x"
   ]
  },
  {
   "cell_type": "code",
   "execution_count": null,
   "metadata": {},
   "outputs": [],
   "source": [
    "function run(cells)\n",
    "    cells = Queue(cells)\n",
    "    while !isempty(cells)\n",
    "        cell = dequeue!(cells)\n",
    "        for prop in cell.neighbors\n",
    "            for cell2 in prop()\n",
    "                cells.enqueue!(cell2)\n",
    "        #for cell in props.pop!()()\n",
    "         #   props.push!(cell.neighbors)\n",
    "        #end\n",
    "    end\n",
    "end \n"
   ]
  },
  {
   "cell_type": "code",
   "execution_count": 24,
   "metadata": {},
   "outputs": [
    {
     "data": {
      "text/plain": [
       "4"
      ]
     },
     "execution_count": 24,
     "metadata": {},
     "output_type": "execute_result"
    }
   ],
   "source": [
    "length(BitSet([1,2,3,8]))"
   ]
  },
  {
   "cell_type": "code",
   "execution_count": 30,
   "metadata": {},
   "outputs": [
    {
     "data": {
      "text/plain": [
       "BitSet with 6 elements:\n",
       "  4\n",
       "  5\n",
       "  6\n",
       "  7\n",
       "  8\n",
       "  9"
      ]
     },
     "execution_count": 30,
     "metadata": {},
     "output_type": "execute_result"
    }
   ],
   "source": [
    "x = BitSet(1:9)\n",
    "setdiff!(x, BitSet(1:3))\n",
    "x"
   ]
  },
  {
   "cell_type": "code",
   "execution_count": 20,
   "metadata": {},
   "outputs": [
    {
     "data": {
      "text/plain": [
       "2"
      ]
     },
     "execution_count": 20,
     "metadata": {},
     "output_type": "execute_result"
    }
   ],
   "source": [
    "[1 2 3][end-1]"
   ]
  },
  {
   "cell_type": "code",
   "execution_count": 18,
   "metadata": {},
   "outputs": [
    {
     "data": {
      "text/plain": [
       "9×9×9 Array{Cell,3}:\n",
       "[:, :, 1] =\n",
       " Cell(BitSet([1, 2, 3, 4, 5, 6, 7, 8, 9]), Any[])  …  Cell(BitSet([1, 2, 3, 4, 5, 6, 7, 8, 9]), Any[])\n",
       " Cell(BitSet([1, 2, 3, 4, 5, 6, 7, 8, 9]), Any[])     Cell(BitSet([1, 2, 3, 4, 5, 6, 7, 8, 9]), Any[])\n",
       " Cell(BitSet([1, 2, 3, 4, 5, 6, 7, 8, 9]), Any[])     Cell(BitSet([1, 2, 3, 4, 5, 6, 7, 8, 9]), Any[])\n",
       " Cell(BitSet([1, 2, 3, 4, 5, 6, 7, 8, 9]), Any[])     Cell(BitSet([1, 2, 3, 4, 5, 6, 7, 8, 9]), Any[])\n",
       " Cell(BitSet([1, 2, 3, 4, 5, 6, 7, 8, 9]), Any[])     Cell(BitSet([1, 2, 3, 4, 5, 6, 7, 8, 9]), Any[])\n",
       " Cell(BitSet([1, 2, 3, 4, 5, 6, 7, 8, 9]), Any[])  …  Cell(BitSet([1, 2, 3, 4, 5, 6, 7, 8, 9]), Any[])\n",
       " Cell(BitSet([1, 2, 3, 4, 5, 6, 7, 8, 9]), Any[])     Cell(BitSet([1, 2, 3, 4, 5, 6, 7, 8, 9]), Any[])\n",
       " Cell(BitSet([1, 2, 3, 4, 5, 6, 7, 8, 9]), Any[])     Cell(BitSet([1, 2, 3, 4, 5, 6, 7, 8, 9]), Any[])\n",
       " Cell(BitSet([1, 2, 3, 4, 5, 6, 7, 8, 9]), Any[])     Cell(BitSet([1, 2, 3, 4, 5, 6, 7, 8, 9]), Any[])\n",
       "\n",
       "[:, :, 2] =\n",
       " Cell(BitSet([1, 2, 3, 4, 5, 6, 7, 8, 9]), Any[])  …  Cell(BitSet([1, 2, 3, 4, 5, 6, 7, 8, 9]), Any[])\n",
       " Cell(BitSet([1, 2, 3, 4, 5, 6, 7, 8, 9]), Any[])     Cell(BitSet([1, 2, 3, 4, 5, 6, 7, 8, 9]), Any[])\n",
       " Cell(BitSet([1, 2, 3, 4, 5, 6, 7, 8, 9]), Any[])     Cell(BitSet([1, 2, 3, 4, 5, 6, 7, 8, 9]), Any[])\n",
       " Cell(BitSet([1, 2, 3, 4, 5, 6, 7, 8, 9]), Any[])     Cell(BitSet([1, 2, 3, 4, 5, 6, 7, 8, 9]), Any[])\n",
       " Cell(BitSet([1, 2, 3, 4, 5, 6, 7, 8, 9]), Any[])     Cell(BitSet([1, 2, 3, 4, 5, 6, 7, 8, 9]), Any[])\n",
       " Cell(BitSet([1, 2, 3, 4, 5, 6, 7, 8, 9]), Any[])  …  Cell(BitSet([1, 2, 3, 4, 5, 6, 7, 8, 9]), Any[])\n",
       " Cell(BitSet([1, 2, 3, 4, 5, 6, 7, 8, 9]), Any[])     Cell(BitSet([1, 2, 3, 4, 5, 6, 7, 8, 9]), Any[])\n",
       " Cell(BitSet([1, 2, 3, 4, 5, 6, 7, 8, 9]), Any[])     Cell(BitSet([1, 2, 3, 4, 5, 6, 7, 8, 9]), Any[])\n",
       " Cell(BitSet([1, 2, 3, 4, 5, 6, 7, 8, 9]), Any[])     Cell(BitSet([1, 2, 3, 4, 5, 6, 7, 8, 9]), Any[])\n",
       "\n",
       "[:, :, 3] =\n",
       " Cell(BitSet([1, 2, 3, 4, 5, 6, 7, 8, 9]), Any[])  …  Cell(BitSet([1, 2, 3, 4, 5, 6, 7, 8, 9]), Any[])\n",
       " Cell(BitSet([1, 2, 3, 4, 5, 6, 7, 8, 9]), Any[])     Cell(BitSet([1, 2, 3, 4, 5, 6, 7, 8, 9]), Any[])\n",
       " Cell(BitSet([1, 2, 3, 4, 5, 6, 7, 8, 9]), Any[])     Cell(BitSet([1, 2, 3, 4, 5, 6, 7, 8, 9]), Any[])\n",
       " Cell(BitSet([1, 2, 3, 4, 5, 6, 7, 8, 9]), Any[])     Cell(BitSet([1, 2, 3, 4, 5, 6, 7, 8, 9]), Any[])\n",
       " Cell(BitSet([1, 2, 3, 4, 5, 6, 7, 8, 9]), Any[])     Cell(BitSet([1, 2, 3, 4, 5, 6, 7, 8, 9]), Any[])\n",
       " Cell(BitSet([1, 2, 3, 4, 5, 6, 7, 8, 9]), Any[])  …  Cell(BitSet([1, 2, 3, 4, 5, 6, 7, 8, 9]), Any[])\n",
       " Cell(BitSet([1, 2, 3, 4, 5, 6, 7, 8, 9]), Any[])     Cell(BitSet([1, 2, 3, 4, 5, 6, 7, 8, 9]), Any[])\n",
       " Cell(BitSet([1, 2, 3, 4, 5, 6, 7, 8, 9]), Any[])     Cell(BitSet([1, 2, 3, 4, 5, 6, 7, 8, 9]), Any[])\n",
       " Cell(BitSet([1, 2, 3, 4, 5, 6, 7, 8, 9]), Any[])     Cell(BitSet([1, 2, 3, 4, 5, 6, 7, 8, 9]), Any[])\n",
       "\n",
       "[:, :, 4] =\n",
       " Cell(BitSet([1, 2, 3, 4, 5, 6, 7, 8, 9]), Any[])  …  Cell(BitSet([1, 2, 3, 4, 5, 6, 7, 8, 9]), Any[])\n",
       " Cell(BitSet([1, 2, 3, 4, 5, 6, 7, 8, 9]), Any[])     Cell(BitSet([1, 2, 3, 4, 5, 6, 7, 8, 9]), Any[])\n",
       " Cell(BitSet([1, 2, 3, 4, 5, 6, 7, 8, 9]), Any[])     Cell(BitSet([1, 2, 3, 4, 5, 6, 7, 8, 9]), Any[])\n",
       " Cell(BitSet([1, 2, 3, 4, 5, 6, 7, 8, 9]), Any[])     Cell(BitSet([1, 2, 3, 4, 5, 6, 7, 8, 9]), Any[])\n",
       " Cell(BitSet([1, 2, 3, 4, 5, 6, 7, 8, 9]), Any[])     Cell(BitSet([1, 2, 3, 4, 5, 6, 7, 8, 9]), Any[])\n",
       " Cell(BitSet([1, 2, 3, 4, 5, 6, 7, 8, 9]), Any[])  …  Cell(BitSet([1, 2, 3, 4, 5, 6, 7, 8, 9]), Any[])\n",
       " Cell(BitSet([1, 2, 3, 4, 5, 6, 7, 8, 9]), Any[])     Cell(BitSet([1, 2, 3, 4, 5, 6, 7, 8, 9]), Any[])\n",
       " Cell(BitSet([1, 2, 3, 4, 5, 6, 7, 8, 9]), Any[])     Cell(BitSet([1, 2, 3, 4, 5, 6, 7, 8, 9]), Any[])\n",
       " Cell(BitSet([1, 2, 3, 4, 5, 6, 7, 8, 9]), Any[])     Cell(BitSet([1, 2, 3, 4, 5, 6, 7, 8, 9]), Any[])\n",
       "\n",
       "[:, :, 5] =\n",
       " Cell(BitSet([1, 2, 3, 4, 5, 6, 7, 8, 9]), Any[])  …  Cell(BitSet([1, 2, 3, 4, 5, 6, 7, 8, 9]), Any[])\n",
       " Cell(BitSet([1, 2, 3, 4, 5, 6, 7, 8, 9]), Any[])     Cell(BitSet([1, 2, 3, 4, 5, 6, 7, 8, 9]), Any[])\n",
       " Cell(BitSet([1, 2, 3, 4, 5, 6, 7, 8, 9]), Any[])     Cell(BitSet([1, 2, 3, 4, 5, 6, 7, 8, 9]), Any[])\n",
       " Cell(BitSet([1, 2, 3, 4, 5, 6, 7, 8, 9]), Any[])     Cell(BitSet([1, 2, 3, 4, 5, 6, 7, 8, 9]), Any[])\n",
       " Cell(BitSet([1, 2, 3, 4, 5, 6, 7, 8, 9]), Any[])     Cell(BitSet([1, 2, 3, 4, 5, 6, 7, 8, 9]), Any[])\n",
       " Cell(BitSet([1, 2, 3, 4, 5, 6, 7, 8, 9]), Any[])  …  Cell(BitSet([1, 2, 3, 4, 5, 6, 7, 8, 9]), Any[])\n",
       " Cell(BitSet([1, 2, 3, 4, 5, 6, 7, 8, 9]), Any[])     Cell(BitSet([1, 2, 3, 4, 5, 6, 7, 8, 9]), Any[])\n",
       " Cell(BitSet([1, 2, 3, 4, 5, 6, 7, 8, 9]), Any[])     Cell(BitSet([1, 2, 3, 4, 5, 6, 7, 8, 9]), Any[])\n",
       " Cell(BitSet([1, 2, 3, 4, 5, 6, 7, 8, 9]), Any[])     Cell(BitSet([1, 2, 3, 4, 5, 6, 7, 8, 9]), Any[])\n",
       "\n",
       "[:, :, 6] =\n",
       " Cell(BitSet([1, 2, 3, 4, 5, 6, 7, 8, 9]), Any[])  …  Cell(BitSet([1, 2, 3, 4, 5, 6, 7, 8, 9]), Any[])\n",
       " Cell(BitSet([1, 2, 3, 4, 5, 6, 7, 8, 9]), Any[])     Cell(BitSet([1, 2, 3, 4, 5, 6, 7, 8, 9]), Any[])\n",
       " Cell(BitSet([1, 2, 3, 4, 5, 6, 7, 8, 9]), Any[])     Cell(BitSet([1, 2, 3, 4, 5, 6, 7, 8, 9]), Any[])\n",
       " Cell(BitSet([1, 2, 3, 4, 5, 6, 7, 8, 9]), Any[])     Cell(BitSet([1, 2, 3, 4, 5, 6, 7, 8, 9]), Any[])\n",
       " Cell(BitSet([1, 2, 3, 4, 5, 6, 7, 8, 9]), Any[])     Cell(BitSet([1, 2, 3, 4, 5, 6, 7, 8, 9]), Any[])\n",
       " Cell(BitSet([1, 2, 3, 4, 5, 6, 7, 8, 9]), Any[])  …  Cell(BitSet([1, 2, 3, 4, 5, 6, 7, 8, 9]), Any[])\n",
       " Cell(BitSet([1, 2, 3, 4, 5, 6, 7, 8, 9]), Any[])     Cell(BitSet([1, 2, 3, 4, 5, 6, 7, 8, 9]), Any[])\n",
       " Cell(BitSet([1, 2, 3, 4, 5, 6, 7, 8, 9]), Any[])     Cell(BitSet([1, 2, 3, 4, 5, 6, 7, 8, 9]), Any[])\n",
       " Cell(BitSet([1, 2, 3, 4, 5, 6, 7, 8, 9]), Any[])     Cell(BitSet([1, 2, 3, 4, 5, 6, 7, 8, 9]), Any[])\n",
       "\n",
       "[:, :, 7] =\n",
       " Cell(BitSet([1, 2, 3, 4, 5, 6, 7, 8, 9]), Any[])  …  Cell(BitSet([1, 2, 3, 4, 5, 6, 7, 8, 9]), Any[])\n",
       " Cell(BitSet([1, 2, 3, 4, 5, 6, 7, 8, 9]), Any[])     Cell(BitSet([1, 2, 3, 4, 5, 6, 7, 8, 9]), Any[])\n",
       " Cell(BitSet([1, 2, 3, 4, 5, 6, 7, 8, 9]), Any[])     Cell(BitSet([1, 2, 3, 4, 5, 6, 7, 8, 9]), Any[])\n",
       " Cell(BitSet([1, 2, 3, 4, 5, 6, 7, 8, 9]), Any[])     Cell(BitSet([1, 2, 3, 4, 5, 6, 7, 8, 9]), Any[])\n",
       " Cell(BitSet([1, 2, 3, 4, 5, 6, 7, 8, 9]), Any[])     Cell(BitSet([1, 2, 3, 4, 5, 6, 7, 8, 9]), Any[])\n",
       " Cell(BitSet([1, 2, 3, 4, 5, 6, 7, 8, 9]), Any[])  …  Cell(BitSet([1, 2, 3, 4, 5, 6, 7, 8, 9]), Any[])\n",
       " Cell(BitSet([1, 2, 3, 4, 5, 6, 7, 8, 9]), Any[])     Cell(BitSet([1, 2, 3, 4, 5, 6, 7, 8, 9]), Any[])\n",
       " Cell(BitSet([1, 2, 3, 4, 5, 6, 7, 8, 9]), Any[])     Cell(BitSet([1, 2, 3, 4, 5, 6, 7, 8, 9]), Any[])\n",
       " Cell(BitSet([1, 2, 3, 4, 5, 6, 7, 8, 9]), Any[])     Cell(BitSet([1, 2, 3, 4, 5, 6, 7, 8, 9]), Any[])\n",
       "\n",
       "[:, :, 8] =\n",
       " Cell(BitSet([1, 2, 3, 4, 5, 6, 7, 8, 9]), Any[])  …  Cell(BitSet([1, 2, 3, 4, 5, 6, 7, 8, 9]), Any[])\n",
       " Cell(BitSet([1, 2, 3, 4, 5, 6, 7, 8, 9]), Any[])     Cell(BitSet([1, 2, 3, 4, 5, 6, 7, 8, 9]), Any[])\n",
       " Cell(BitSet([1, 2, 3, 4, 5, 6, 7, 8, 9]), Any[])     Cell(BitSet([1, 2, 3, 4, 5, 6, 7, 8, 9]), Any[])\n",
       " Cell(BitSet([1, 2, 3, 4, 5, 6, 7, 8, 9]), Any[])     Cell(BitSet([1, 2, 3, 4, 5, 6, 7, 8, 9]), Any[])\n",
       " Cell(BitSet([1, 2, 3, 4, 5, 6, 7, 8, 9]), Any[])     Cell(BitSet([1, 2, 3, 4, 5, 6, 7, 8, 9]), Any[])\n",
       " Cell(BitSet([1, 2, 3, 4, 5, 6, 7, 8, 9]), Any[])  …  Cell(BitSet([1, 2, 3, 4, 5, 6, 7, 8, 9]), Any[])\n",
       " Cell(BitSet([1, 2, 3, 4, 5, 6, 7, 8, 9]), Any[])     Cell(BitSet([1, 2, 3, 4, 5, 6, 7, 8, 9]), Any[])\n",
       " Cell(BitSet([1, 2, 3, 4, 5, 6, 7, 8, 9]), Any[])     Cell(BitSet([1, 2, 3, 4, 5, 6, 7, 8, 9]), Any[])\n",
       " Cell(BitSet([1, 2, 3, 4, 5, 6, 7, 8, 9]), Any[])     Cell(BitSet([1, 2, 3, 4, 5, 6, 7, 8, 9]), Any[])\n",
       "\n",
       "[:, :, 9] =\n",
       " Cell(BitSet([1, 2, 3, 4, 5, 6, 7, 8, 9]), Any[])  …  Cell(BitSet([1, 2, 3, 4, 5, 6, 7, 8, 9]), Any[])\n",
       " Cell(BitSet([1, 2, 3, 4, 5, 6, 7, 8, 9]), Any[])     Cell(BitSet([1, 2, 3, 4, 5, 6, 7, 8, 9]), Any[])\n",
       " Cell(BitSet([1, 2, 3, 4, 5, 6, 7, 8, 9]), Any[])     Cell(BitSet([1, 2, 3, 4, 5, 6, 7, 8, 9]), Any[])\n",
       " Cell(BitSet([1, 2, 3, 4, 5, 6, 7, 8, 9]), Any[])     Cell(BitSet([1, 2, 3, 4, 5, 6, 7, 8, 9]), Any[])\n",
       " Cell(BitSet([1, 2, 3, 4, 5, 6, 7, 8, 9]), Any[])     Cell(BitSet([1, 2, 3, 4, 5, 6, 7, 8, 9]), Any[])\n",
       " Cell(BitSet([1, 2, 3, 4, 5, 6, 7, 8, 9]), Any[])  …  Cell(BitSet([1, 2, 3, 4, 5, 6, 7, 8, 9]), Any[])\n",
       " Cell(BitSet([1, 2, 3, 4, 5, 6, 7, 8, 9]), Any[])     Cell(BitSet([1, 2, 3, 4, 5, 6, 7, 8, 9]), Any[])\n",
       " Cell(BitSet([1, 2, 3, 4, 5, 6, 7, 8, 9]), Any[])     Cell(BitSet([1, 2, 3, 4, 5, 6, 7, 8, 9]), Any[])\n",
       " Cell(BitSet([1, 2, 3, 4, 5, 6, 7, 8, 9]), Any[])     Cell(BitSet([1, 2, 3, 4, 5, 6, 7, 8, 9]), Any[])"
      ]
     },
     "execution_count": 18,
     "metadata": {},
     "output_type": "execute_result"
    }
   ],
   "source": [
    "#sudoku\n",
    "vars = [Cell(BitSet(1:9), []) for i=1:9,j=1:9,k=1:9 ]\n",
    "\n",
    "for i in 1:9\n",
    "    vars[i,:,:].listener.push!(  )\n",
    "end\n"
   ]
  },
  {
   "cell_type": "code",
   "execution_count": 3,
   "metadata": {},
   "outputs": [
    {
     "name": "stdout",
     "output_type": "stream",
     "text": [
      "BitSet\n",
      "  bits: Array{UInt64}((1,)) UInt64[0x000000000000000e]\n",
      "  offset: Int64 0\n"
     ]
    }
   ],
   "source": [
    "dump(BitSet( [1,2,3] )) # not bad"
   ]
  },
  {
   "cell_type": "code",
   "execution_count": 6,
   "metadata": {},
   "outputs": [
    {
     "data": {
      "text/plain": [
       "true"
      ]
     },
     "execution_count": 6,
     "metadata": {},
     "output_type": "execute_result"
    }
   ],
   "source": [
    "BitSet([1,2,3]) ∪ BitSet([1,2,4])\n",
    "BitSet([1,2,3]) ∩ BitSet([1,2,4])\n",
    "BitSet([1,2]) ⊆ BitSet([1,2,3])\n",
    "\n"
   ]
  },
  {
   "cell_type": "code",
   "execution_count": 10,
   "metadata": {},
   "outputs": [],
   "source": [
    "using LightGraphs, MetaGraphs"
   ]
  },
  {
   "cell_type": "code",
   "execution_count": 9,
   "metadata": {},
   "outputs": [
    {
     "name": "stderr",
     "output_type": "stream",
     "text": [
      "\u001b[32m\u001b[1m  Resolving\u001b[22m\u001b[39m package versions...\n",
      "\u001b[32m\u001b[1mUpdating\u001b[22m\u001b[39m `~/.julia/environments/v1.5/Project.toml`\n",
      " \u001b[90m [626554b9] \u001b[39m\u001b[92m+ MetaGraphs v0.6.6\u001b[39m\n",
      "\u001b[32m\u001b[1mNo Changes\u001b[22m\u001b[39m to `~/.julia/environments/v1.5/Manifest.toml`\n"
     ]
    }
   ],
   "source": [
    "import Pkg; Pkg.add(\"MetaGraphs\")"
   ]
  },
  {
   "cell_type": "markdown",
   "metadata": {},
   "source": [
    "metagraph: vertices for constraints and variables.\n",
    "\n",
    "https://binaryanalysisplatform.github.io/bap/api/master/graphlib/Graphlib/Std/Graphlib/index.html#val-fixpoint\n",
    "\n",
    "\n"
   ]
  },
  {
   "cell_type": "code",
   "execution_count": 14,
   "metadata": {},
   "outputs": [
    {
     "data": {
      "text/plain": [
       "{5, 4} undirected Int64 metagraph with Float64 weights defined by :weight (default weight 1.0)"
      ]
     },
     "execution_count": 14,
     "metadata": {},
     "output_type": "execute_result"
    }
   ],
   "source": [
    "g = MetaGraph(path_graph(5))"
   ]
  },
  {
   "cell_type": "code",
   "execution_count": 22,
   "metadata": {},
   "outputs": [
    {
     "data": {
      "text/plain": [
       "true"
      ]
     },
     "execution_count": 22,
     "metadata": {},
     "output_type": "execute_result"
    }
   ],
   "source": [
    "set_prop!(g,1, :dom, BitSet(1:9) )\n",
    "set_prop!(g,2, :prop, () -> g   )\n"
   ]
  },
  {
   "cell_type": "code",
   "execution_count": null,
   "metadata": {},
   "outputs": [],
   "source": [
    "struct Model\n",
    "    cells\n",
    "    propagators\n",
    "    graph\n",
    "end"
   ]
  },
  {
   "cell_type": "code",
   "execution_count": null,
   "metadata": {},
   "outputs": [],
   "source": [
    "[]"
   ]
  }
 ],
 "metadata": {
  "kernelspec": {
   "display_name": "Julia 1.5.0",
   "language": "julia",
   "name": "julia-1.5"
  },
  "language_info": {
   "file_extension": ".jl",
   "mimetype": "application/julia",
   "name": "julia",
   "version": "1.5.0"
  }
 },
 "nbformat": 4,
 "nbformat_minor": 4
}
