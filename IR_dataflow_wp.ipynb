{
 "cells": [
  {
   "cell_type": "code",
   "execution_count": 2,
   "metadata": {},
   "outputs": [],
   "source": [
    "using IRTools"
   ]
  },
  {
   "cell_type": "code",
   "execution_count": 9,
   "metadata": {},
   "outputs": [
    {
     "name": "stdout",
     "output_type": "stream",
     "text": [
      "1: (%1, %2)\n",
      "  br 2 (%2, 1)\n",
      "2: (%3, %4)\n",
      "  %5 = %3 > 1\n",
      "  br 4 unless %5\n",
      "  br 3\n",
      "3:\n",
      "  %6 = %4 * %3\n",
      "  %7 = %3 - 1\n",
      "  br 2 (%7, %6)\n",
      "4:\n",
      "  return 0\n",
      "IRTools.Inner.Branch[br 2 (%2, 1)]\n",
      "IRTools.Inner.Block[2: (%3, %4)\n",
      "  %5 = %3 > 1\n",
      "  br 4 unless %5\n",
      "  br 3]\n",
      "IRTools.Inner.Branch[br 4 unless %5, br 3]\n",
      "IRTools.Inner.Block[4:\n",
      "  return 0, 3:\n",
      "  %6 = %4 * %3\n",
      "  %7 = %3 - 1\n",
      "  br 2 (%7, %6)]\n",
      "%5 => IRTools.Inner.Statement(:(%3 > 1), Any, 3)\n",
      "IRTools.Inner.Branch[br 2 (%7, %6)]\n",
      "IRTools.Inner.Block[2: (%3, %4)\n",
      "  %5 = %3 > 1\n",
      "  br 4 unless %5\n",
      "  br 3]\n",
      "%6 => IRTools.Inner.Statement(:(%4 * %3), Any, 4)\n",
      "%7 => IRTools.Inner.Statement(:(%3 - 1), Any, 5)\n",
      "IRTools.Inner.Branch[return 0]\n",
      "IRTools.Inner.Block[]\n"
     ]
    }
   ],
   "source": [
    "function nielson1(x) # a factorial function\n",
    "    y = x\n",
    "    z = 1\n",
    "    while y > 1\n",
    "        z = z * y\n",
    "        y = y - 1\n",
    "    end\n",
    "    y = 0\n",
    "end\n",
    "\n",
    "ir = @code_ir(nielson1(1))\n",
    "println(ir)\n",
    "for block in IRTools.blocks(ir)\n",
    "    println(IRTools.branches(block))\n",
    "    println(IRTools.successors(block))\n",
    "    for stmt in block\n",
    "            println(stmt)\n",
    "        \n",
    "    end\n",
    "end\n",
    "\n",
    "succ = [ (b1,b2) for b1 in IRTools.blocks(ir) for b2 in IRTools.successors(b1) ]\n",
    "def =  [ (b,s[1]) for b in IRTools.blocks(ir) for s in b1 ]\n",
    "def =  [ (b,s[1]) for b in IRTools.blocks(ir) for s in b1 ]\n",
    "# statements are defined by \n",
    "\n",
    "#=\n",
    "\n",
    "succ(b1, b2)\n",
    "def(b1, v1) # uniquely defined in branch\n",
    "input(b1, b1) # input to branch\n",
    "\n",
    "uses(v1, v2) # if v2 in rhs of v1 def\n",
    "congruent( v1, v2  ) # if v1 is output of block and v2 is input.\n",
    "\n",
    "\n",
    "\n",
    "I could also work with surface syntax julia,, which is similar to IMP.\n",
    "=#\n"
   ]
  },
  {
   "cell_type": "markdown",
   "metadata": {},
   "source": [
    "https://blog.rogerluo.me/2019/07/27/yassad/\n",
    "\n",
    "what if I used the evlator for individual z3 statements. Uhh dispatch might be stripped off at this point\n"
   ]
  },
  {
   "cell_type": "code",
   "execution_count": 4,
   "metadata": {},
   "outputs": [
    {
     "data": {
      "text/plain": [
       "foo (generic function with 1 method)"
      ]
     },
     "execution_count": 4,
     "metadata": {},
     "output_type": "execute_result"
    }
   ],
   "source": [
    "foo(x) = 2 * x\n",
    "\n"
   ]
  },
  {
   "cell_type": "code",
   "execution_count": 24,
   "metadata": {},
   "outputs": [
    {
     "ename": "LoadError",
     "evalue": "MethodError: no method matching ##254(::Int64)\nClosest candidates are:\n  ##254(::Any, !Matched::Any) at /home/philip/.julia/packages/IRTools/aSVI5/src/eval.jl:18",
     "output_type": "error",
     "traceback": [
      "MethodError: no method matching ##254(::Int64)\nClosest candidates are:\n  ##254(::Any, !Matched::Any) at /home/philip/.julia/packages/IRTools/aSVI5/src/eval.jl:18",
      "",
      "Stacktrace:",
      " [1] #invokelatest#1 at ./essentials.jl:710 [inlined]",
      " [2] invokelatest at ./essentials.jl:709 [inlined]",
      " [3] evalir(::Module, ::IRTools.Inner.IR, ::Any) at /home/philip/.julia/packages/IRTools/aSVI5/src/eval.jl:25",
      " [4] evalir(::IRTools.Inner.IR, ::Any) at /home/philip/.julia/packages/IRTools/aSVI5/src/eval.jl:26",
      " [5] top-level scope at In[24]:5",
      " [6] include_string(::Function, ::Module, ::String, ::String) at ./loading.jl:1091"
     ]
    }
   ],
   "source": [
    "ir = @code_ir(foo(1))\n",
    "\n",
    "s1 = collect(ir)[1]\n",
    "\n",
    "IRTools.evalir(ir, 2)"
   ]
  },
  {
   "cell_type": "code",
   "execution_count": 7,
   "metadata": {},
   "outputs": [
    {
     "data": {
      "text/plain": [
       "%3"
      ]
     },
     "execution_count": 7,
     "metadata": {},
     "output_type": "execute_result"
    }
   ],
   "source": [
    "IRTools.var(3)\n",
    "IRTools.Statement( , Any)"
   ]
  },
  {
   "cell_type": "code",
   "execution_count": 21,
   "metadata": {},
   "outputs": [
    {
     "data": {
      "text/plain": [
       "2-element Array{IRTools.Inner.Block,1}:\n",
       " 1: (%1, %2)\n",
       "  %3 = %2 > 3\n",
       "  br 2 unless %3\n",
       "  return 4\n",
       " 2:\n",
       "  return 5"
      ]
     },
     "execution_count": 21,
     "metadata": {},
     "output_type": "execute_result"
    }
   ],
   "source": [
    "foo(x) = x > 3 ? 4 : 5 \n",
    "ir = @code_ir(foo(1))\n",
    "IRTools.blocks(ir)"
   ]
  },
  {
   "cell_type": "code",
   "execution_count": 46,
   "metadata": {},
   "outputs": [
    {
     "name": "stdout",
     "output_type": "stream",
     "text": [
      "current set of rules\n",
      "PyObject (declare-rel b ())\n",
      "(declare-rel a ())\n",
      "(declare-rel c ())\n",
      "(rule (=> (and b) a))\n",
      "(rule (=> (and c) b))\n",
      "\n",
      "PyObject unsat\n",
      "updated set of rules\n",
      "PyObject (declare-rel b ())\n",
      "(declare-rel a ())\n",
      "(declare-rel c ())\n",
      "(rule (=> b a))\n",
      "(rule (=> c b))\n",
      "(rule c)\n",
      "\n",
      "PyObject sat\n",
      "PyObject True\n"
     ]
    }
   ],
   "source": [
    "using PyCall\n",
    "z3 = pyimport(\"z3\")\n",
    "# z3 datalog\n",
    "# reaching definitions.\n",
    "# https://ericpony.github.io/z3py-tutorial/fixpoint-examples.htm\n",
    "fp = z3.Fixedpoint()\n",
    "a, b, c = z3.Bools(\"a b c\")\n",
    "\n",
    "fp.register_relation(a.decl(), b.decl(), c.decl())\n",
    "fp.rule(a,b)\n",
    "fp.rule(b,c)\n",
    "fp.set( engine=\"datalog\") # , generate_explanations=true hmm\n",
    "\n",
    "println(\"current set of rules\\n\", fp)\n",
    "println(fp.query(a))\n",
    "\n",
    "fp.fact(c)\n",
    "println(\"updated set of rules\\n\", fp)\n",
    "println(fp.query(a))\n",
    "println(fp.get_answer())\n",
    "\n",
    "# generate_explanations. That's interesting"
   ]
  },
  {
   "cell_type": "code",
   "execution_count": 55,
   "metadata": {},
   "outputs": [
    {
     "name": "stdout",
     "output_type": "stream",
     "text": [
      "current set of rules\n",
      "PyObject (declare-rel f (Foo))\n",
      "(rule (f 9))\n",
      "\n",
      "updated set of rules\n",
      "PyObject (declare-rel f (Foo))\n",
      "(rule (f 9))\n",
      "\n",
      "PyObject sat\n",
      "PyObject True\n"
     ]
    }
   ],
   "source": [
    "using PyCall\n",
    "z3 = pyimport(\"z3\")\n",
    "# z3 datalog\n",
    "# reaching definitions.\n",
    "# https://ericpony.github.io/z3py-tutorial/fixpoint-examples.htm\n",
    "fp = z3.Fixedpoint()\n",
    "s  = z3.FiniteDomainSort(\"Foo\", 10)\n",
    "#a, b, c = z3.Bools(\"a b c\")\n",
    "a = z3.Const(\"a\", s)\n",
    "f = z3.Function(\"f\", s, z3.BoolSort())\n",
    "fp.register_relation(f)\n",
    "#fp.rule(a,b)\n",
    "#fp.rule(b,c)\n",
    "fp.fact(f(z3.FiniteDomainVal(9, s)))\n",
    "fp.set( engine=\"datalog\") # , generate_explanations=true hmm\n",
    "\n",
    "println(\"current set of rules\\n\", fp)\n",
    "#println(fp.query(f(a)))\n",
    "\n",
    "\n",
    "println(\"updated set of rules\\n\", fp)\n",
    "println(fp.query(f(z3.FiniteDomainVal(9, s))))\n",
    "println(fp.get_answer())"
   ]
  },
  {
   "cell_type": "code",
   "execution_count": 71,
   "metadata": {},
   "outputs": [
    {
     "name": "stdout",
     "output_type": "stream",
     "text": [
      "current set of rules\n",
      "PyObject (declare-datatypes ((Color 0)) (((red) (green) (blue))))\n",
      "(declare-rel f (Color))\n",
      "(declare-var A Color)\n",
      "(rule (f red))\n",
      "\n",
      "updated set of rules\n",
      "PyObject (declare-datatypes ((Color 0)) (((red) (green) (blue))))\n",
      "(declare-rel f (Color))\n",
      "(declare-var A Color)\n",
      "(rule (f red))\n",
      "\n",
      "PyObject sat\n",
      "PyObject True\n",
      "PyObject True\n",
      "(:o,)\n"
     ]
    }
   ],
   "source": [
    "\n",
    "using PyCall\n",
    "z3 = pyimport(\"z3\")\n",
    "# z3 datalog\n",
    "# reaching definitions.\n",
    "# https://ericpony.github.io/z3py-tutorial/fixpoint-examples.htm\n",
    "fp = z3.Fixedpoint()\n",
    "Color, (red, green, blue) = z3.EnumSort(\"Color\", [\"red\",\"green\",\"blue\"])\n",
    "#s  = z3.FiniteDomainSort(\"Foo\", 10)\n",
    "#a, b, c = z3.Bools(\"a b c\")\n",
    "a = z3.Const(\"a\", Color)\n",
    "fp.declare_var(a)\n",
    "f = z3.Function(\"f\", Color, z3.BoolSort())\n",
    "fp.register_relation(f)\n",
    "#fp.rule(a,b)\n",
    "#fp.rule(b,c)\n",
    "fp.fact(f(red))\n",
    "fp.set( engine=\"datalog\") # , generate_explanations=true hmm\n",
    "\n",
    "println(\"current set of rules\\n\", fp)\n",
    "#println(fp.query(f(a)))\n",
    "\n",
    "\n",
    "println(\"updated set of rules\\n\", fp)\n",
    "println(fp.query(f(red)))\n",
    "println(fp.get_answer())\n",
    "\n",
    "#println(fp.query(f)\n",
    "println(fp.get_answer())\n",
    "println(fieldnames(typeof(fp)))"
   ]
  },
  {
   "cell_type": "markdown",
   "metadata": {},
   "source": [
    "So the tutorial talks about a PDR solver. Is this superseded by spacer?\n",
    "\n",
    "engine (symbol) Select: auto-config, datalog, bmc, spacer (default: auto-config)\n",
    "How do i store just boring constants?\n",
    "New Sort?\n",
    "ADT?\n",
    "\n",
    "https://specs.openstack.org/openstack/congress-specs/specs/rocky/alternative-engine-z3.html\n",
    "Hmm. The docs here suggest I asscoaited atoms to bitvectors manually.\n",
    "Ok I can use FiniteDomainVal.\n",
    "I guess I could make a named const + a constraint picking which one\n",
    "And then Z3 does track variable names. That's not so bad.\n",
    "\n",
    "vars = []\n",
    "get_var(x, vars) = FiniteDomainVal()\n",
    "\n",
    "Hmm. I'm not sure the z3 solver gets me dumb datalog.\n",
    "\n",
    "1. Write raw dog set update equations\n",
    "2. use souffle\n",
    "3. maybe z3 does\n",
    "4. use dataframes? naive or seminaive?\n",
    "\n",
    "\n",
    "http://webdam.inria.fr/Alice/ foundations of dbs\n",
    "\n",
    "Souffle does seem cool https://souffle-lang.github.io/examples\n",
    "But also the bap graph traversal was cool\n",
    "\n"
   ]
  },
  {
   "cell_type": "code",
   "execution_count": 47,
   "metadata": {},
   "outputs": [
    {
     "name": "stdout",
     "output_type": "stream",
     "text": [
      "bmc.linear_unrolling_depth (unsigned int) Maximal level to explore (default: 4294967295)\n",
      "ctrl_c (bool) enable interrupts from ctrl-c (default: true)\n",
      "datalog.all_or_nothing_deltas (bool) compile rules so that it is enough for the delta relation in union and widening operations to determine only whether the updated relation was modified or not (default: false)\n",
      "datalog.check_relation (symbol) name of default relation to check. operations on the default relation will be verified using SMT solving (default: null)\n",
      "datalog.compile_with_widening (bool) widening will be used to compile recursive rules (default: false)\n",
      "datalog.dbg_fpr_nonempty_relation_signature (bool) if true, finite_product_relation will attempt to avoid creating inner relation with empty signature by putting in half of the table columns, if it would have been empty otherwise (default: false)\n",
      "datalog.default_relation (symbol) default relation implementation: external_relation, pentagon (default: pentagon)\n",
      "datalog.default_table (symbol) default table implementation: sparse, hashtable, bitvector, interval (default: sparse)\n",
      "datalog.default_table_checked (bool) if true, the default table will be default_table inside a wrapper that checks that its results are the same as of default_table_checker table (default: false)\n",
      "datalog.default_table_checker (symbol) see default_table_checked (default: null)\n",
      "datalog.explanations_on_relation_level (bool) if true, explanations are generated as history of each relation, rather than per fact (generate_explanations must be set to true for this option to have any effect) (default: false)\n",
      "datalog.generate_explanations (bool) produce explanations for produced facts when using the datalog engine (default: false)\n",
      "datalog.initial_restart_timeout (unsigned int) length of saturation run before the first restart (in ms), zero means no restarts (default: 0)\n",
      "datalog.magic_sets_for_queries (bool) magic set transformation will be used for queries (default: false)\n",
      "datalog.output_profile (bool) determines whether profile information should be output when outputting Datalog rules or instructions (default: false)\n",
      "datalog.print.tuples (bool) determines whether tuples for output predicates should be output (default: true)\n",
      "datalog.profile_timeout_milliseconds (unsigned int) instructions and rules that took less than the threshold will not be printed when printed the instruction/rule list (default: 0)\n",
      "datalog.similarity_compressor (bool) rules that differ only in values of constants will be merged into a single rule (default: true)\n",
      "datalog.similarity_compressor_threshold (unsigned int) if similarity_compressor is on, this value determines how many similar rules there must be in order for them to be merged (default: 11)\n",
      "datalog.subsumption (bool) if true, removes/filters predicates with total transitions (default: true)\n",
      "datalog.timeout (unsigned int) Time limit used for saturation (default: 0)\n",
      "datalog.unbound_compressor (bool) auxiliary relations will be introduced to avoid unbound variables in rule heads (default: true)\n",
      "datalog.use_map_names (bool) use names from map files when displaying tuples (default: true)\n",
      "engine (symbol) Select: auto-config, datalog, bmc, spacer (default: auto-config)\n",
      "generate_proof_trace (bool) trace for 'sat' answer as proof object (default: false)\n",
      "print_aig (symbol) Dump clauses in AIG text format (AAG) to the given file name (default: )\n",
      "print_answer (bool) print answer instance(s) to query (default: false)\n",
      "print_boogie_certificate (bool) print certificate for reachability or non-reachability using a format understood by Boogie (default: false)\n",
      "print_certificate (bool) print certificate for reachability or non-reachability (default: false)\n",
      "print_fixedpoint_extensions (bool) use SMT-LIB2 fixedpoint extensions, instead of pure SMT2, when printing rules (default: true)\n",
      "print_low_level_smt2 (bool) use (faster) low-level SMT2 printer (the printer is scalable but the result may not be as readable) (default: false)\n",
      "print_statistics (bool) print statistics (default: false)\n",
      "print_with_variable_declarations (bool) use variable declarations when displaying rules (instead of attempting to use original names) (default: true)\n",
      "spacer.arith.solver (unsigned int) arithmetic solver: 0 - no solver, 1 - bellman-ford based solver (diff. logic only), 2 - simplex based solver, 3 - floyd-warshall based solver (diff. logic only) and no theory combination 4 - utvpi, 5 - infinitary lra, 6 - lra solver (default: 2)\n",
      "spacer.blast_term_ite_inflation (unsigned int) Maximum inflation for non-Boolean ite-terms expansion: 0 (none), k (multiplicative) (default: 3)\n",
      "spacer.ctp (bool) Enable counterexample-to-pushing (default: true)\n",
      "spacer.dump_benchmarks (bool) Dump SMT queries as benchmarks (default: false)\n",
      "spacer.dump_threshold (double) Threshold in seconds on dumping benchmarks (default: 5.0)\n",
      "spacer.elim_aux (bool) Eliminate auxiliary variables in reachability facts (default: true)\n",
      "spacer.eq_prop (bool) Enable equality and bound propagation in arithmetic (default: true)\n",
      "spacer.gpdr (bool) Use GPDR solving strategy for non-linear CHC (default: false)\n",
      "spacer.gpdr.bfs (bool) Use BFS exploration strategy for expanding model search (default: true)\n",
      "spacer.ground_pobs (bool) Ground pobs by using values from a model (default: true)\n",
      "spacer.iuc (unsigned int) 0 = use old implementation of unsat-core-generation, 1 = use new implementation of IUC generation, 2 = use new implementation of IUC + min-cut optimization (default: 1)\n",
      "spacer.iuc.arith (unsigned int) 0 = use simple Farkas plugin, 1 = use simple Farkas plugin with constant from other partition (like old unsat-core-generation),2 = use Gaussian elimination optimization (broken), 3 = use additive IUC plugin (default: 1)\n",
      "spacer.iuc.debug_proof (bool) prints proof used by unsat-core-learner for debugging purposes (debugging) (default: false)\n",
      "spacer.iuc.old_hyp_reducer (bool) use old hyp reducer instead of new implementation, for debugging only (default: false)\n",
      "spacer.iuc.print_farkas_stats (bool) prints for each proof how many Farkas lemmas it contains and how many of these participate in the cut (for debugging) (default: false)\n",
      "spacer.iuc.split_farkas_literals (bool) Split Farkas literals (default: false)\n",
      "spacer.keep_proxy (bool) keep proxy variables (internal parameter) (default: true)\n",
      "spacer.logic (symbol) SMT-LIB logic to configure internal SMT solvers (default: )\n",
      "spacer.max_level (unsigned int) Maximum level to explore (default: 4294967295)\n",
      "spacer.max_num_contexts (unsigned int) maximal number of contexts to create (default: 500)\n",
      "spacer.mbqi (bool) Enable mbqi (default: true)\n",
      "spacer.min_level (unsigned int) Minimal level to explore (default: 0)\n",
      "spacer.native_mbp (bool) Use native mbp of Z3 (default: true)\n",
      "spacer.order_children (unsigned int) SPACER: order of enqueuing children in non-linear rules : 0 (original), 1 (reverse), 2 (random) (default: 0)\n",
      "spacer.p3.share_invariants (bool) Share invariants lemmas (default: false)\n",
      "spacer.p3.share_lemmas (bool) Share frame lemmas (default: false)\n",
      "spacer.print_json (symbol) Print pobs tree in JSON format to a given file (default: )\n",
      "spacer.propagate (bool) Enable propagate/pushing phase (default: true)\n",
      "spacer.push_pob (bool) push blocked pobs to higher level (default: false)\n",
      "spacer.push_pob_max_depth (unsigned int) Maximum depth at which push_pob is enabled (default: 4294967295)\n",
      "spacer.q3 (bool) Allow quantified lemmas in frames (default: true)\n",
      "spacer.q3.instantiate (bool) Instantiate quantified lemmas (default: true)\n",
      "spacer.q3.qgen.normalize (bool) normalize cube before quantified generalization (default: true)\n",
      "spacer.q3.use_qgen (bool) use quantified lemma generalizer (default: false)\n",
      "spacer.random_seed (unsigned int) Random seed to be used by SMT solver (default: 0)\n",
      "spacer.reach_dnf (bool) Restrict reachability facts to DNF (default: true)\n",
      "spacer.reset_pob_queue (bool) SPACER: reset pob obligation queue when entering a new level (default: true)\n",
      "spacer.restart_initial_threshold (unsigned int) Initial threshold for restarts (default: 10)\n",
      "spacer.restarts (bool) Enable resetting obligation queue (default: false)\n",
      "spacer.simplify_lemmas_post (bool) simplify derived lemmas after inductive propagation (default: false)\n",
      "spacer.simplify_lemmas_pre (bool) simplify derived lemmas before inductive propagation (default: false)\n",
      "spacer.simplify_pob (bool) simplify pobs by removing redundant constraints (default: false)\n",
      "spacer.trace_file (symbol) Log file for progress events (default: )\n",
      "spacer.use_array_eq_generalizer (bool) SPACER: attempt to generalize lemmas with array equalities (default: true)\n",
      "spacer.use_bg_invs (bool) Enable external background invariants (default: false)\n",
      "spacer.use_derivations (bool) SPACER: using derivation mechanism to cache intermediate results for non-linear rules (default: true)\n",
      "spacer.use_euf_gen (bool) Generalize lemmas and pobs using implied equalities (default: false)\n",
      "spacer.use_inc_clause (bool) Use incremental clause to represent trans (default: true)\n",
      "spacer.use_inductive_generalizer (bool) generalize lemmas using induction strengthening (default: true)\n",
      "spacer.use_lemma_as_cti (bool) SPACER: use a lemma instead of a CTI in flexible_trace (default: false)\n",
      "spacer.use_lim_num_gen (bool) Enable limit numbers generalizer to get smaller numbers (default: false)\n",
      "spacer.validate_lemmas (bool) Validate each lemma after generalization (default: false)\n",
      "spacer.weak_abs (bool) Weak abstraction (default: true)\n",
      "tab.selection (symbol) selection method for tabular strategy: weight (default), first, var-use (default: weight)\n",
      "timeout (unsigned int) (default: infty) timeout in milliseconds. (default: 4294967295)\n",
      "validate (bool) validate result (by proof checking or model checking) (default: false)\n",
      "xform.array_blast (bool) try to eliminate local array terms using Ackermannization -- some array terms may remain (default: false)\n",
      "xform.array_blast_full (bool) eliminate all local array variables by QE (default: false)\n",
      "xform.bit_blast (bool) bit-blast bit-vectors (default: false)\n",
      "xform.coalesce_rules (bool) coalesce rules (default: false)\n",
      "xform.coi (bool) use cone of influence simplification (default: true)\n",
      "xform.compress_unbound (bool) compress tails with unbound variables (default: true)\n",
      "xform.elim_term_ite (bool) Eliminate term-ite expressions (default: false)\n",
      "xform.elim_term_ite.inflation (unsigned int) Maximum inflation for non-Boolean ite-terms blasting: 0 (none), k (multiplicative) (default: 3)\n",
      "xform.fix_unbound_vars (bool) fix unbound variables in tail (default: false)\n",
      "xform.inline_eager (bool) try eager inlining of rules (default: true)\n",
      "xform.inline_linear (bool) try linear inlining method (default: true)\n",
      "xform.inline_linear_branch (bool) try linear inlining method with potential expansion (default: false)\n",
      "xform.instantiate_arrays (bool) Transforms P(a) into P(i, a[i] a) (default: false)\n",
      "xform.instantiate_arrays.enforce (bool) Transforms P(a) into P(i, a[i]), discards a from predicate (default: false)\n",
      "xform.instantiate_arrays.nb_quantifier (unsigned int) Gives the number of quantifiers per array (default: 1)\n",
      "xform.instantiate_arrays.slice_technique (symbol) <no-slicing>=> GetId(i) = i, <smash> => GetId(i) = true (default: no-slicing)\n",
      "xform.instantiate_quantifiers (bool) instantiate quantified Horn clauses using E-matching heuristic (default: false)\n",
      "xform.magic (bool) perform symbolic magic set transformation (default: false)\n",
      "xform.quantify_arrays (bool) create quantified Horn clauses from clauses with arrays (default: false)\n",
      "xform.scale (bool) add scaling variable to linear real arithmetic clauses (default: false)\n",
      "xform.slice (bool) simplify clause set using slicing (default: true)\n",
      "xform.subsumption_checker (bool) Enable subsumption checker (no support for model conversion) (default: true)\n",
      "xform.tail_simplifier_pve (bool) propagate_variable_equivalences (default: true)\n",
      "xform.transform_arrays (bool) Rewrites arrays equalities and applies select over store (default: false)\n",
      "xform.unfold_rules (unsigned int) unfold rules statically using iterative squaring (default: 0)\n"
     ]
    }
   ],
   "source": [
    "fp.help()"
   ]
  },
  {
   "cell_type": "code",
   "execution_count": 36,
   "metadata": {},
   "outputs": [
    {
     "data": {
      "text/plain": [
       "1: (%1, %2)\n",
       "  br 2 (%2, 1)\n",
       "2: (%3, %4)\n",
       "  %5 = %3 > 1\n",
       "  br 4 unless %5\n",
       "  br 3\n",
       "3:\n",
       "  %6 = %4 * %3\n",
       "  %7 = %3 - 1\n",
       "  br 2 (%7, %6)\n",
       "4:\n",
       "  return 0"
      ]
     },
     "execution_count": 36,
     "metadata": {},
     "output_type": "execute_result"
    }
   ],
   "source": [
    "function nielson1(x) # a factorial function\n",
    "    y = x\n",
    "    z = 1\n",
    "    while y > 1\n",
    "        z = z * y\n",
    "        y = y - 1\n",
    "    end\n",
    "    y = 0\n",
    "end\n",
    "ir = @code_ir(nielson1(1))"
   ]
  },
  {
   "cell_type": "markdown",
   "metadata": {},
   "source": [
    "# Good simple example functions\n",
    "factorial\n",
    "array sum\n",
    "sumn\n",
    "\n",
    "reaching definition  https://en.wikipedia.org/wiki/Reaching_definition\n",
    "a relation between variables and operations/lines of code\n",
    "I guess anything with a lhs.\n",
    "\n",
    "\n",
    "\n"
   ]
  },
  {
   "cell_type": "markdown",
   "metadata": {},
   "source": [
    "Doing some datalog over the IRTools graph sounds kind of cool.\n",
    "I could try to use z3py maybe\n",
    "\n",
    "Reify x == y\n",
    "\n",
    "https://stackoverflow.com/questions/38601141/what-is-the-difference-between-and-comparison-operators-in-julia\n",
    "\n",
    "One might be able to run something like the boehm garbage collector to get something like the state of the heap.\n",
    "\n",
    "Valgrind also maybe?\n"
   ]
  },
  {
   "cell_type": "code",
   "execution_count": null,
   "metadata": {},
   "outputs": [],
   "source": []
  },
  {
   "cell_type": "code",
   "execution_count": 30,
   "metadata": {},
   "outputs": [
    {
     "name": "stdout",
     "output_type": "stream",
     "text": [
      "false\n",
      "false\n",
      "true\n",
      "false\n",
      "(:head, :tail)\n",
      "(:head, :tail)\n"
     ]
    },
    {
     "name": "stderr",
     "output_type": "stream",
     "text": [
      "WARNING: replacing module Play.\n"
     ]
    },
    {
     "name": "stdout",
     "output_type": "stream",
     "text": [
      "Dict{Any,Any}(Main.Play.LL(1, nothing) => 3,Main.Play.LL(1, nothing) => 2)\n"
     ]
    },
    {
     "data": {
      "text/plain": [
       "Main.Play"
      ]
     },
     "execution_count": 30,
     "metadata": {},
     "output_type": "execute_result"
    }
   ],
   "source": [
    "module Play\n",
    "\n",
    "mutable struct LL\n",
    "    head::Int64\n",
    "    tail\n",
    "end\n",
    "\n",
    "cons(x,y) = LL(x,y)\n",
    "\n",
    "x = cons(1, nothing)\n",
    "y = cons(2,x)\n",
    "z = cons(3,x)\n",
    "x2 = cons(1, nothing)\n",
    "w = cons(2,x2)\n",
    "\n",
    "println(y === w)\n",
    "println(x === x2)\n",
    "println(y.tail === z.tail)\n",
    "println(y.tail === w.tail)\n",
    "\n",
    "println(fieldnames(typeof(y)))\n",
    "println(fieldnames(typeof(y)))\n",
    "#=\n",
    "t = typeof(x)\n",
    "for fname in fieldnames(t)\n",
    "    \n",
    "end\n",
    "=#\n",
    "\n",
    "d = Dict()\n",
    "d[y.tail] = 1\n",
    "d[z.tail] = 2\n",
    "d[w.tail] = 3\n",
    "println(d)\n",
    "\n",
    "\n",
    "#=\n",
    "\n",
    "RBtreenode\n",
    "others?\n",
    "\n",
    "refcell union find\n",
    "=#\n",
    "\n",
    "end"
   ]
  },
  {
   "cell_type": "code",
   "execution_count": null,
   "metadata": {},
   "outputs": [],
   "source": []
  }
 ],
 "metadata": {
  "kernelspec": {
   "display_name": "Julia 1.5.0",
   "language": "julia",
   "name": "julia-1.5"
  },
  "language_info": {
   "file_extension": ".jl",
   "mimetype": "application/julia",
   "name": "julia",
   "version": "1.5.0"
  }
 },
 "nbformat": 4,
 "nbformat_minor": 4
}
