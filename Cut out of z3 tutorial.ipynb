{
 "cells": [
  {
   "cell_type": "markdown",
   "metadata": {},
   "source": [
    "Z3 was open sourced in the beginning of 2015.[7] The source code is licensed under MIT License and hosted on GitHub.[8] \n",
    "When you write a program, you are specifying fairly exactly what you want. There are often imprecise and undocumented reasons and notions for why the code is the way it is.\n",
    "Industrial usage - driver verificaitn for Microsoft\n",
    "more in the introduction. what is smt?\n",
    "unique z3 problem, not capable in other solvers\n",
    "\n",
    "Z3 is a high performance theorem prover developed at Microsoft Research.\n",
    "Z3 is used in many applications such as: software/hardware verification and testing, constraint solving, analysis of hybrid systems, security, biology (in silico analysis), and geometrical problems.\n",
    "\n",
    "There may be a very simple statement of what you desire a program to do. \"sort a list\" \"balance a tree\" \"never explode\" and then through a sequence of reasoning and expansion steps you write a program that achieves these goals. Along the way there are many assumptions like \"this counter never goes below 0\" \"this pointer is never null\" \"The 64 bit data at this memory location should be intepreted as a float\"\n",
    "Many languages do not support intrinsically a way to check or even state these properties.\n",
    "\n",
    "Comments of course help some. But comments rot and the computer system will not tell you. Comments are not automatically enforced to correspond to the code they refer to.\n",
    "\n",
    "Types are a fairly ubiquitous form of formal methods. There is a spectrum of sophistication of type systems. You'll see something at the far end of the spectrum this afternoon with Cody.\n",
    "Types do enforce the intent that bits should be interpeted as floats or integers or pointers. Programs will fail to compile if you accidentlally do something that makes absolutely no sense.\n",
    "\n",
    "However, there is a wide variety of analysis beyond type systems, all of which fall under formal methods.\n",
    "\n",
    "The field of Formal methods are very broadly methods for \n",
    "\n",
    "What are formal methods for? What are they?\n",
    "\n",
    "## Path Finding Example\n",
    "\n",
    "Unroll path in time. Peg Game?"
   ]
  },
  {
   "cell_type": "code",
   "execution_count": null,
   "metadata": {},
   "outputs": [],
   "source": [
    "x = Real(\"x\")\n",
    "y = Real(\"y\")\n",
    "s = Solver()\n",
    "s.add(4*x + 4*y == 8)\n",
    "s.add(2*x - 2*y == 2)\n",
    "s.check()\n",
    "s.model()"
   ]
  },
  {
   "cell_type": "code",
   "execution_count": null,
   "metadata": {},
   "outputs": [],
   "source": [
    "#But what about this? I'm not going to be able to get this through.\n",
    "\n",
    "y = Real(\"y\")\n",
    "fx = FP(\"x\", Float16())\n",
    "prove(Implies(And(y**2 == fpToReal(fx), y >= 0, 0 <= fx, fx <= 10), fpToReal(babylonian(x)) - y <= 0.001))"
   ]
  },
  {
   "cell_type": "code",
   "execution_count": null,
   "metadata": {},
   "outputs": [],
   "source": [
    "def Abs(x):\n",
    "    return If(x <= 0, -x, x)\n",
    "c\n",
    "\n",
    "Google-ORTools\n",
    "GAMS\n",
    "AMPL\n",
    "Cvxpy\n",
    "Pyomo\n",
    "Prolog\n",
    "Picat\n",
    "Quantifiers\n",
    "substitition continuity of certain functions? convexity? \n",
    "\n",
    "A finite time rollout of a trajectory can be proved to never go into an unsafe region."
   ]
  },
  {
   "cell_type": "code",
   "execution_count": null,
   "metadata": {},
   "outputs": [],
   "source": [
    "T = 10\n",
    "dt = 0.1\n",
    "alpha = 3\n",
    "xs = [Real(f\"x_{t}\") for t in range(T)]\n",
    "vs = [Real(f\"v_{t}\") for t in range(T)]\n",
    "dyn = BoolVal(True)\n",
    "for t in range(T-1):\n",
    "    dyn = And(dyn, xs[t+1] == (1-alpha*dt)*xs[t])\n",
    "init = And(xs[0] <= 1, -1 <= xs[0])\n",
    "final = And(xs[-1] <= 0.1, -0.1 <= xs[-1])\n",
    "prove(Implies(And(dyn, init), final))"
   ]
  },
  {
   "cell_type": "code",
   "execution_count": null,
   "metadata": {},
   "outputs": [],
   "source": [
    "## Bounded Model Checking\n",
    "Z3 is a declarative and not imperative language in the sense that the input language to z3 does not really have an intrinsic notion of mutation or control flow. If you make two sequential feeling assignments\n",
    "\n",
    "```\n",
    "x = Int(\"x\")\n",
    "s = Solver()\n",
    "s.add(x == 3)\n",
    "s.add(x == 4)\n",
    "s.check()\n",
    "```\n",
    "\n",
    "We do not get `x = 4` as we might in python. We get a contradiction instead, because cannot be both 3 and 4. However, z3 has a very rich language and emulate imperative systems with a numer of techniques.\n",
    "One of these techniques is bounded model checking. We can make our variables labelled by discrete time and specify the dyanmics of our system by a transition relation connecting the variables of one time step to another. We can roll out a finite number of these steps and ask z3 to find us execution paths of interest."
   ]
  },
  {
   "cell_type": "markdown",
   "metadata": {},
   "source": [
    "\n",
    "Strengths of Z3:\n",
    "- Flexible and expressive input language\n",
    "- Best in class automated performance.\n",
    "- Does surprisingly well at many problems\n",
    "\n",
    "Weaknesses:\n",
    "\n",
    "\n",
    "- SMT solvers can find things and exhaustively not find things. But that is about it. You sometimes need to massage a problem in that form. See the super optimizer example\n",
    "- Synthesis problems usually require more techniques\n",
    "- Not great at complicated usages of quantifiers. The harder the problem, the more it seems like human guidance is necssary\n",
    "- Not great at induction\n",
    "- Not very easy to put in your understanding of the problem\n",
    "- Chain of trust. As we've been using it, we often are analyzing and verifying models of implementations, not implementations themselves. Interactive theorem provers have available stronger chains of trust. Tools that are more directly verifying \n",
    "\n",
    "Not good at infinite things like recursion, loops, and induction.\n",
    "\n",
    "\n",
    "## Other topics\n",
    "- Quantifiers\n",
    "- Optimization\n",
    "- Algebraic Datatypes\n",
    "\n",
    "\n",
    "## Other Solvers\n",
    "(I am overwhelmed by the options and I'm into this stuff)\n",
    "\n",
    "- Linear Algebra: numpy\n",
    "- Convex Optimization Tools\n",
    "- Linear Programming\n",
    "- Mixed Integer Programming\n",
    "\n",
    "- Minizinc\n",
    "- Google-ORTools\n",
    "- GAMS\n",
    "- AMPL\n",
    "- Cvxpy\n",
    "- Pyomo\n",
    "- Prolog\n",
    "- Picat\n",
    "\n",
    "\n"
   ]
  }
 ],
 "metadata": {
  "kernelspec": {
   "display_name": "Python 3",
   "language": "python",
   "name": "python3"
  },
  "language_info": {
   "codemirror_mode": {
    "name": "ipython",
    "version": 3
   },
   "file_extension": ".py",
   "mimetype": "text/x-python",
   "name": "python",
   "nbconvert_exporter": "python",
   "pygments_lexer": "ipython3",
   "version": "3.7.5"
  }
 },
 "nbformat": 4,
 "nbformat_minor": 2
}
