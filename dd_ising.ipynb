{
 "cells": [
  {
   "cell_type": "code",
   "execution_count": 2,
   "metadata": {},
   "outputs": [
    {
     "name": "stdout",
     "output_type": "stream",
     "text": [
      "{'x', 'y'}\n",
      "{}\n"
     ]
    }
   ],
   "source": [
    "from dd.autoref import BDD\n",
    "\n",
    "bdd = BDD()\n",
    "bdd.declare('x', 'y', 'z', 'w')\n",
    "\n",
    "# conjunction (in TLA+ syntax)\n",
    "u = bdd.add_expr('x /\\ y')  # operators `&, |` are supported too\n",
    "print(u.support)\n",
    "# substitute variables for variables (rename)\n",
    "rename = dict(x='z', y='w')\n",
    "v = bdd.let(rename, u)\n",
    "# substitute constants for variables (cofactor)\n",
    "values = dict(x=True, y=False)\n",
    "v = bdd.let(values, u)\n",
    "# substitute BDDs for variables (compose)\n",
    "d = dict(x=bdd.add_expr('z \\/ w'))\n",
    "v = bdd.let(d, u)\n",
    "# infix operators\n",
    "v = bdd.var('z') & bdd.var('w')\n",
    "v = ~ v\n",
    "# quantify\n",
    "u = bdd.add_expr('\\E x, y:  x \\/ y')\n",
    "# less readable but faster alternative\n",
    "u = bdd.var('x') | bdd.var('y')\n",
    "u = bdd.exist(['x', 'y'], u)\n",
    "assert u == bdd.true, u\n",
    "# inline BDD references\n",
    "#u = bdd.add_expr('x /\\ @{v}'.format(v=v))\n",
    "# satisfying assignments (models)\n",
    "d = bdd.pick(u, care_vars=['x', 'y'])\n",
    "for d in bdd.pick_iter(u):\n",
    "    print(d)\n",
    "n = bdd.count(u)"
   ]
  },
  {
   "cell_type": "code",
   "execution_count": 14,
   "metadata": {},
   "outputs": [],
   "source": [
    "x = bdd.var('x')\n",
    "y = bdd.var('y')"
   ]
  },
  {
   "cell_type": "code",
   "execution_count": 18,
   "metadata": {},
   "outputs": [
    {
     "ename": "TypeError",
     "evalue": "bad operand type for unary -: 'Function'",
     "output_type": "error",
     "traceback": [
      "\u001b[0;31m---------------------------------------------------------------------------\u001b[0m",
      "\u001b[0;31mTypeError\u001b[0m                                 Traceback (most recent call last)",
      "\u001b[0;32m<ipython-input-18-211af994c374>\u001b[0m in \u001b[0;36m<module>\u001b[0;34m\u001b[0m\n\u001b[0;32m----> 1\u001b[0;31m \u001b[0mbdd\u001b[0m\u001b[0;34m.\u001b[0m\u001b[0mcount\u001b[0m\u001b[0;34m(\u001b[0m\u001b[0mx\u001b[0m \u001b[0;34m|\u001b[0m  \u001b[0;34m(\u001b[0m\u001b[0;34m-\u001b[0m\u001b[0mx\u001b[0m\u001b[0;34m)\u001b[0m \u001b[0;34m)\u001b[0m\u001b[0;34m\u001b[0m\u001b[0;34m\u001b[0m\u001b[0m\n\u001b[0m",
      "\u001b[0;31mTypeError\u001b[0m: bad operand type for unary -: 'Function'"
     ]
    }
   ],
   "source": [
    "bdd.count(x |  (-x) ) "
   ]
  },
  {
   "cell_type": "code",
   "execution_count": 19,
   "metadata": {},
   "outputs": [
    {
     "data": {
      "text/plain": [
       "['__and__',\n",
       " '__class__',\n",
       " '__del__',\n",
       " '__delattr__',\n",
       " '__dict__',\n",
       " '__dir__',\n",
       " '__doc__',\n",
       " '__eq__',\n",
       " '__format__',\n",
       " '__ge__',\n",
       " '__getattribute__',\n",
       " '__gt__',\n",
       " '__hash__',\n",
       " '__init__',\n",
       " '__init_subclass__',\n",
       " '__int__',\n",
       " '__invert__',\n",
       " '__le__',\n",
       " '__len__',\n",
       " '__lt__',\n",
       " '__module__',\n",
       " '__ne__',\n",
       " '__new__',\n",
       " '__or__',\n",
       " '__reduce__',\n",
       " '__reduce_ex__',\n",
       " '__repr__',\n",
       " '__setattr__',\n",
       " '__sizeof__',\n",
       " '__str__',\n",
       " '__subclasshook__',\n",
       " '__weakref__',\n",
       " '_apply',\n",
       " 'bdd',\n",
       " 'count',\n",
       " 'dag_size',\n",
       " 'equiv',\n",
       " 'exist',\n",
       " 'forall',\n",
       " 'high',\n",
       " 'implies',\n",
       " 'let',\n",
       " 'level',\n",
       " 'low',\n",
       " 'manager',\n",
       " 'negated',\n",
       " 'node',\n",
       " 'pick',\n",
       " 'ref',\n",
       " 'support',\n",
       " 'to_expr',\n",
       " 'var']"
      ]
     },
     "execution_count": 19,
     "metadata": {},
     "output_type": "execute_result"
    }
   ],
   "source": []
  },
  {
   "cell_type": "code",
   "execution_count": null,
   "metadata": {},
   "outputs": [],
   "source": []
  }
 ],
 "metadata": {
  "kernelspec": {
   "display_name": "Python 3",
   "language": "python",
   "name": "python3"
  },
  "language_info": {
   "codemirror_mode": {
    "name": "ipython",
    "version": 3
   },
   "file_extension": ".py",
   "mimetype": "text/x-python",
   "name": "python",
   "nbconvert_exporter": "python",
   "pygments_lexer": "ipython3",
   "version": "3.7.5"
  }
 },
 "nbformat": 4,
 "nbformat_minor": 2
}
