{
 "cells": [
  {
   "cell_type": "markdown",
   "metadata": {},
   "source": [
    "Modelling separation logic in Z3. I had something down below on that?\n",
    "(heap-valid A Bool)\n",
    "(heap A B)\n",
    "Or\n",
    "(heap A (Option B))\n",
    "\n",
    "(is_heap_join h1 h2 h3) == ( forall x, h3 x = if (valid h1 x) then h1 x else h2 x,  forall x, valid h3 x => (valid h1) \\/ (valid h2) , (valid h1) => valid h3, valid h2 => valid h3\n",
    "\n",
    "\n",
    "The axiomatization is off in one respect. You need a default value. The array can't exist if there are no default values.\n",
    "Every statement you want to make about stuff requires first that \n",
    "\n",
    "There is an analogy to be had that the `valid` array technique is natural. It feels a bit like the TLB or tagged architectures.\n",
    "\n",
    "The memory of the computer is Array(BitVec(64), BitVec(8)) \n",
    "?\n",
    "\n",
    "But we can pretend it's smaller for our purposes.\n",
    "tlb_valid(  ) - hard to know as a user level C guy. C setsup some memory for you\n",
    "\n",
    "malloc_valid()\n",
    "\n",
    "\n",
    "papers that talk about memory models\n",
    "alive2 paper\n",
    "That instruction selection paper\n",
    "\n",
    "Frama-C does something\n",
    "dafny does something\n",
    "viper does something\n",
    "\n",
    "{valid(addr) /\\  P[mem[addr]/a]}\n",
    "a := memread(addr)\n",
    "{P}\n",
    "\n",
    "{P[store(assr,val,mem) /\\  valid(addr)}\n",
    "memwrite(addr,val)\n",
    "P\n",
    "\n",
    "{ exists q, [q -> 0, q + 1 -> 0, ... q + n -> 0] -* P[q/a] } Wand?\n",
    "a = malloc(n)\n",
    "{P }\n",
    "\n",
    "\n",
    "\n",
    "Can I encode LTL formula to Z3?\n",
    "Every variables becomes:\n",
    "Array(IntSort(), BoolSort()) / Function(, IntSort(), BoolSort())\n",
    "def next(p):\n",
    "    lambda n: p(n + 1)\n",
    "def eventually(p):\n",
    "    return lambda n: Exists([m], Implies(m >= n , p(n) )\n",
    "def always(p):\n",
    "    return lambda n: ForAll([n], Implies(m >= n, p(n) )\n",
    "\n",
    "\n",
    "\n",
    "class FixedPoint():\n",
    "    intpart = FreshInt() / FreshConst(BitVec(64))\n",
    "    realpart = FreshReal()\n",
    "    \n",
    "some kind of cegis? Given a choice of real factor, find worst counterexample in the int. Specing the int computation is tough though. I have no faith that Z3 is going to handle casting int to real well.\n",
    "\n",
    "\n",
    "My valid, heap seperation is nice because boolector will support it."
   ]
  },
  {
   "cell_type": "code",
   "execution_count": 152,
   "metadata": {},
   "outputs": [],
   "source": [
    "# seperation logic\n",
    "\n",
    "from z3 import *\n",
    "import functools\n",
    "# K = IntSort()  # seems to work fine.\n",
    "def disjointunion(a,b,c):\n",
    "    k = FreshConst(a.domain())\n",
    "    return ForAll([k], And( Or(a[k], b[k]) == c[k],\n",
    "                            Not(And(a[k],b[k]))\n",
    "                          ))\n",
    "\n",
    "# set diff is automatically the disjoint union. And doesn't use a quantifier. Nope nvm\n",
    "def setdiff(c,a):\n",
    "    return lambda k: And(c[k], Not(a[k])), ForAll([k], Implies(a[k], c[k])) \n",
    "\n",
    "# a seperating logic thing is in the context of a vlid memory region in the heap\n",
    "\n",
    "def pto(k,v):\n",
    "    def res(heap,valid):\n",
    "        k1 = FreshConst(heap.domain())\n",
    "        return And(\n",
    "                   ForAll([k1], valid[k1] == (k1 == k)),\n",
    "                   heap[k] == v\n",
    "        )\n",
    "    return res\n",
    "\n",
    "def emp(heap,valid):\n",
    "        k1 = FreshConst(heap.domain())\n",
    "        return ForAll([k1], valid[k1] == False)\n",
    "    \n",
    "def sep(f,g):\n",
    "    def res(heap,valid):\n",
    "        a = FreshConst(valid.sort())\n",
    "        b = FreshConst(valid.sort())\n",
    "        # Should we existentially quantify a and b? We're assuming they'll reach a top level existential\n",
    "        return Exists([a,b], And(disjointunion(a,b,valid), f(heap,a), g(heap,b)))\n",
    "    return res\n",
    "\n",
    "def lift(x):\n",
    "    def res(heap,valid):\n",
    "        return x\n",
    "    return res\n",
    "\n",
    "def cell(k, vals):\n",
    "    return functools.reduce(sep, [ pto(k+n, v) for n,v in enumerate(vals)])\n",
    "# http://www.cs.cmu.edu/afs/cs.cmu.edu/project/fox-19/member/jcr/www15818As2011/cs818A3-11.html\n",
    "# If the heap is extended with a disjoint part in which p1 holds, then p2\n",
    "# holds for the extended heap.\n",
    "def wand(p1,p2):\n",
    "    def res(heap,valid):\n",
    "        v2 = FreshConst(valid.sort())\n",
    "        v3 = FreshConst(valid.sort())\n",
    "        # should we skolemize the sitantial into setdiff?\n",
    "        # Or should we define h2 in terms of h3 and h1\n",
    "        # Exists([h3], Implies(p1(setdiff(h3,h)), p2(h3)))\n",
    "        # ForAll([v2], Implies(p1(v2),  p2(disjointunionfun())   ))\n",
    "        return ForAll([v2], Exists([v3], Implies( And( p1(heap,v2) , disjointunion(valid,v2,v3)) ,  p2(heap, v3)   )))\n",
    "    return res\n"
   ]
  },
  {
   "cell_type": "code",
   "execution_count": 143,
   "metadata": {},
   "outputs": [],
   "source": [
    "import networkx as nx\n",
    "def vis_check(pred, N = 3):\n",
    "    s = Solver()\n",
    "    K = BitVecSort(N)\n",
    "    valid = Array(\"valid\", K, BoolSort())\n",
    "    heap = Array(\"heap\", K, K)\n",
    "    s.add(pred(heap,valid))\n",
    "    #s.add(pto(1,0)(heap,valid))\n",
    "    if s.check() == sat:\n",
    "        m = s.model()\n",
    "        #print(m)\n",
    "        vals = range(2**N)\n",
    "        #print(m.eval(BV2Int(heap[0])))\n",
    "        #print(dir(m.eval(BV2Int(heap[0]))))\n",
    "        try:\n",
    "            edges = [ ( i , m.eval(heap[i]).as_long() )  for i in vals] #if bool(m.eval(valid[i])) ]\n",
    "            colors = [\"green\" if bool(m.eval(valid[i])) else \"white\" for i in vals  ]\n",
    "            #print(colors)\n",
    "            G = nx.DiGraph()\n",
    "            G.add_nodes_from(vals)\n",
    "            G.add_edges_from(edges)\n",
    "            nx.draw(G, with_labels=True, node_color = colors, font_weight='bold')\n",
    "        except:\n",
    "            pass\n",
    "        return m\n",
    "    else:\n",
    "        print(\"unsat\")"
   ]
  },
  {
   "cell_type": "code",
   "execution_count": 144,
   "metadata": {},
   "outputs": [
    {
     "data": {
      "text/html": [
       "[valid = K(BitVec(3), False)]"
      ],
      "text/plain": [
       "[valid = K(BitVec(3), False)]"
      ]
     },
     "execution_count": 144,
     "metadata": {},
     "output_type": "execute_result"
    }
   ],
   "source": [
    "vis_check(sep(emp, emp))"
   ]
  },
  {
   "cell_type": "code",
   "execution_count": null,
   "metadata": {},
   "outputs": [],
   "source": [
    "def lst(p, l, N=3): #unroll list predicate\n",
    "    for i in range(2**N):\n",
    "        p2 = FreshConst(K)\n",
    "        IfS( lift(isnil(l)) , pto(p, nil), ExistsS( [p2], cell(p, [head(l), p2]  ) ) )\n",
    "        p = p2\n",
    "# http://www.cs.cmu.edu/afs/cs.cmu.edu/project/fox-19/member/jcr/www15818As2011/cs818A3-11.html\n",
    "# If the heap is extended with a disjoint part in which p1 holds, then p2\n",
    "# holds for the extended heap.\n",
    "\n"
   ]
  },
  {
   "cell_type": "code",
   "execution_count": null,
   "metadata": {},
   "outputs": [],
   "source": [
    "# PROVE LAWS\n",
    "\n",
    "\n",
    "p1 = Function(\"p1\", Array(), Array(), BoolSort())\n",
    "p2 = Function(\"p1\", Array(), Array(), BoolSort())\n",
    "heap =\n",
    "valid = \n",
    "\n",
    "prove(sep(p1,p2)(heap, valid) == sep(p2,p1)(heap,valid))\n",
    "\n",
    "def prove_sep( pa, pb ):\n",
    "    heap\n",
    "    valid\n",
    "    prove(Forall([heap,valid], pa(heap,valid) == pb(heap,valid)))"
   ]
  },
  {
   "cell_type": "code",
   "execution_count": 148,
   "metadata": {},
   "outputs": [
    {
     "data": {
      "text/plain": [
       "{1: 4}"
      ]
     },
     "execution_count": 148,
     "metadata": {},
     "output_type": "execute_result"
    }
   ],
   "source": [
    "{**{1:2},  **{1:4}}"
   ]
  },
  {
   "cell_type": "code",
   "execution_count": 151,
   "metadata": {},
   "outputs": [
    {
     "ename": "AssertionError",
     "evalue": "",
     "output_type": "error",
     "traceback": [
      "\u001b[0;31m---------------------------------------------------------------------------\u001b[0m",
      "\u001b[0;31mAssertionError\u001b[0m                            Traceback (most recent call last)",
      "\u001b[0;32m<ipython-input-151-e5a5f53d341d>\u001b[0m in \u001b[0;36m<module>\u001b[0;34m\u001b[0m\n\u001b[1;32m      3\u001b[0m     \u001b[0;32mreturn\u001b[0m \u001b[0;34m{\u001b[0m\u001b[0;34m**\u001b[0m\u001b[0ma\u001b[0m\u001b[0;34m,\u001b[0m \u001b[0;34m**\u001b[0m\u001b[0mb\u001b[0m\u001b[0;34m}\u001b[0m\u001b[0;34m\u001b[0m\u001b[0;34m\u001b[0m\u001b[0m\n\u001b[1;32m      4\u001b[0m \u001b[0;34m\u001b[0m\u001b[0m\n\u001b[0;32m----> 5\u001b[0;31m \u001b[0mdisjoint_merge\u001b[0m\u001b[0;34m(\u001b[0m\u001b[0;34m{\u001b[0m\u001b[0;36m1\u001b[0m\u001b[0;34m:\u001b[0m\u001b[0;36m4\u001b[0m\u001b[0;34m}\u001b[0m\u001b[0;34m,\u001b[0m \u001b[0;34m{\u001b[0m\u001b[0;36m1\u001b[0m\u001b[0;34m:\u001b[0m\u001b[0;36m2\u001b[0m\u001b[0;34m}\u001b[0m\u001b[0;34m)\u001b[0m\u001b[0;34m\u001b[0m\u001b[0;34m\u001b[0m\u001b[0m\n\u001b[0m",
      "\u001b[0;32m<ipython-input-151-e5a5f53d341d>\u001b[0m in \u001b[0;36mdisjoint_merge\u001b[0;34m(a, b)\u001b[0m\n\u001b[1;32m      1\u001b[0m \u001b[0;32mdef\u001b[0m \u001b[0mdisjoint_merge\u001b[0m\u001b[0;34m(\u001b[0m\u001b[0ma\u001b[0m\u001b[0;34m,\u001b[0m \u001b[0mb\u001b[0m\u001b[0;34m)\u001b[0m\u001b[0;34m:\u001b[0m\u001b[0;34m\u001b[0m\u001b[0;34m\u001b[0m\u001b[0m\n\u001b[0;32m----> 2\u001b[0;31m     \u001b[0;32massert\u001b[0m \u001b[0;32mnot\u001b[0m \u001b[0many\u001b[0m\u001b[0;34m(\u001b[0m\u001b[0mk\u001b[0m \u001b[0;32min\u001b[0m \u001b[0mb\u001b[0m \u001b[0;32mfor\u001b[0m \u001b[0mk\u001b[0m \u001b[0;32min\u001b[0m \u001b[0ma\u001b[0m\u001b[0;34m)\u001b[0m\u001b[0;34m\u001b[0m\u001b[0;34m\u001b[0m\u001b[0m\n\u001b[0m\u001b[1;32m      3\u001b[0m     \u001b[0;32mreturn\u001b[0m \u001b[0;34m{\u001b[0m\u001b[0;34m**\u001b[0m\u001b[0ma\u001b[0m\u001b[0;34m,\u001b[0m \u001b[0;34m**\u001b[0m\u001b[0mb\u001b[0m\u001b[0;34m}\u001b[0m\u001b[0;34m\u001b[0m\u001b[0;34m\u001b[0m\u001b[0m\n\u001b[1;32m      4\u001b[0m \u001b[0;34m\u001b[0m\u001b[0m\n\u001b[1;32m      5\u001b[0m \u001b[0mdisjoint_merge\u001b[0m\u001b[0;34m(\u001b[0m\u001b[0;34m{\u001b[0m\u001b[0;36m1\u001b[0m\u001b[0;34m:\u001b[0m\u001b[0;36m4\u001b[0m\u001b[0;34m}\u001b[0m\u001b[0;34m,\u001b[0m \u001b[0;34m{\u001b[0m\u001b[0;36m1\u001b[0m\u001b[0;34m:\u001b[0m\u001b[0;36m2\u001b[0m\u001b[0;34m}\u001b[0m\u001b[0;34m)\u001b[0m\u001b[0;34m\u001b[0m\u001b[0;34m\u001b[0m\u001b[0m\n",
      "\u001b[0;31mAssertionError\u001b[0m: "
     ]
    }
   ],
   "source": [
    "def disjoint_merge(a, b):\n",
    "    assert not any(k in b for k in a)\n",
    "    return {**a, **b}\n",
    "\n",
    "disjoint_merge({1:4}, {1:2})"
   ]
  },
  {
   "cell_type": "code",
   "execution_count": 92,
   "metadata": {},
   "outputs": [
    {
     "data": {
      "text/plain": [
       "False"
      ]
     },
     "execution_count": 92,
     "metadata": {},
     "output_type": "execute_result"
    }
   ],
   "source": [
    "def all_splits(l):\n",
    "    n = len(l)\n",
    "    for i in range(2**n):\n",
    "        left = []\n",
    "        right = []\n",
    "        for b in range(n):\n",
    "            if (i >> b) & 1 == 0:\n",
    "                left.append(l[b])\n",
    "            else:\n",
    "                right.append(l[b])\n",
    "        yield left, right\n",
    "\n",
    "list(all_splits( range(3) ))\n",
    "\n",
    "def emp(heap):\n",
    "    return len(heap) == 0\n",
    "\n",
    "def pto(k,v):\n",
    "    def res(heap):\n",
    "        return len(heap) == 1 and k in heap and heap[k] == v\n",
    "    return res\n",
    "\n",
    "def sep(p1,p2):\n",
    "    def res(heap):\n",
    "        for (l,r) in all_splits(list(heap.keys())):\n",
    "            if p1( { k : heap[k] for k in l  } ) and p2( { k : heap[k] for k in r  } ):\n",
    "                return True\n",
    "        return False\n",
    "    return res\n",
    "        \n",
    "def lift0(b): # lift a boolean\n",
    "    return lambda heap: b\n",
    "def lift1(boolop): # lift a unary boolean operation\n",
    "    return lambda p: lambda heap: boolop(p(x))\n",
    "def lift2(boolop): # lift a binary boolean operation\n",
    "    return lambda p1,p2: lambda heap: boolop(p1(heap), p2(heap))\n",
    "\n",
    "#ands = lift2( lambda x,y: x and y )\n",
    "\n",
    "# short circuiting evaluation is rather nice\n",
    "def ands(p1,p2):\n",
    "    return lambda heap: p1(heap) and p2(heap)\n",
    "def ors(p1,p2):\n",
    "    return lambda heap: p1(heap) or p2(heap)\n",
    "def impls(p1,p2):\n",
    "    return lambda heap: not p1(heap) or p2(heap)\n",
    "nots = lift1(lambda b : not b)\n",
    "trues = lift0(True)\n",
    "falses = lift0(False)\n",
    "\n",
    "\n",
    "sep(pto(1,2), pto(2,3))({ 1:2,  2:3  }) # True\n",
    "sep(pto(1,2), pto(2,3))({ 1:2,  2:3 , 4:5 }) # False\n",
    "emp( {} ) # True\n",
    "emp( {1 : 2} ) # False\n",
    "pto(1,3)({1 : 3}) # True\n",
    "pto(1,3)( {1 : 3, 4 : 5}    ) # False. Perhaps a little surprising. 1 Points to 3 means ONLY 1 -> 3 and nothing extra\n",
    "ands( pto(1,2), pto(1,2) )({ 1 : 2}) # True\n",
    "sep( pto(1,2), pto(1,2) )({ 1 : 2}) # False\n",
    "\n",
    "\n"
   ]
  },
  {
   "cell_type": "code",
   "execution_count": null,
   "metadata": {},
   "outputs": [],
   "source": [
    "# a different represdentation. def pred(heap) -> option heap. Doing the set difference\n",
    "# I guess it is still a search, but we can orient the search a different way. Kind of odd these two perspective are rellated.\n",
    "\n",
    "def pto(k,v):\n",
    "    def res(heap):\n",
    "        if k in heap and heap[k] == v:\n",
    "            del k in heap # should be doing it pure though\n",
    "            return heap\n",
    "        return None\n",
    "    return res\n",
    "        \n",
    "def emp(heap): # hmnm. This is kind of intruguing. it's the identity function. Am I doing a yoneda? sep and emp form a monoid.\n",
    "    return heap\n",
    "\n",
    "def sep(p1,p2): # sep is kliesli compose for option\n",
    "    def res(heap):\n",
    "        heap1 = p1(heap)\n",
    "        if heap != None:\n",
    "            return p2(heap)\n",
    "        return None\n",
    "    return res\n",
    "\n",
    "def ands(p1,p2):\n",
    "    def res(heap):\n",
    "        heap1 = p1(heap)\n",
    "        if heap1 != None:\n",
    "            heap2 = p2(heap)\n",
    "            if heap2 != None:\n",
    "                return heap1 == heap2 # is this right? Kind of in parallel.\n",
    "        return None\n",
    "    return res\n",
    "\n",
    "def ors(p1, p2): # hmm. Looks like we want it to return [heaps]\n",
    "    def res(heap):\n",
    "        heaps1 = p1(heap)\n",
    "        heaps2 = p2(heap)\n",
    "        return heaps1 + heaps2\n",
    "        # yield from heaps1\n",
    "    return res\n",
    "\n",
    "\n",
    "#so should we be looking for an empty heap output?\n",
    "# emp returns same heap. \n",
    "# pto - yes\n",
    "# True = returns all possible subheaps?\n",
    "# False = []\n",
    "# \n",
    "# i can probably read this rules off of a paper somewhere.\n",
    "#Should I be doing this in prolog? \n",
    "# model(sep(P,Q), Heap) :- disjointmerge(H1,H2,Heap), model(P, H1), model(Q, H2).\n",
    "# model(emp, []).\n",
    "# model(pto(K,V), [K - V]).\n",
    "# model(and(P1,P2), Heap ) :- model(P1, Heap), model(P2, Heap). % very metainterpeter feeling\n",
    "# model(or(P1,P2), Heap) :- model(P1, Heap) ; modell(P2, Heap).\n",
    "\n",
    "# Hmm. If I can do this in prolog, should I use Z3 FixedPoint? Maybe if i wanted to infer predicates that describe heaps? But if I'm doing - + mode or - - mode then \n",
    "\n"
   ]
  },
  {
   "cell_type": "code",
   "execution_count": null,
   "metadata": {},
   "outputs": [],
   "source": [
    "# The garbage collector\n",
    "import gc"
   ]
  },
  {
   "cell_type": "code",
   "execution_count": 106,
   "metadata": {},
   "outputs": [
    {
     "ename": "AssertionError",
     "evalue": "",
     "output_type": "error",
     "traceback": [
      "\u001b[0;31m---------------------------------------------------------------------------\u001b[0m",
      "\u001b[0;31mAssertionError\u001b[0m                            Traceback (most recent call last)",
      "\u001b[0;32m<ipython-input-106-2fe6291dff25>\u001b[0m in \u001b[0;36m<module>\u001b[0;34m\u001b[0m\n\u001b[1;32m     32\u001b[0m \u001b[0minc2\u001b[0m\u001b[0;34m(\u001b[0m\u001b[0;34m[\u001b[0m\u001b[0;36m2\u001b[0m\u001b[0;34m]\u001b[0m\u001b[0;34m,\u001b[0m\u001b[0;34m[\u001b[0m\u001b[0;36m2\u001b[0m\u001b[0;34m]\u001b[0m\u001b[0;34m)\u001b[0m\u001b[0;34m\u001b[0m\u001b[0;34m\u001b[0m\u001b[0m\n\u001b[1;32m     33\u001b[0m \u001b[0;34m\u001b[0m\u001b[0m\n\u001b[0;32m---> 34\u001b[0;31m \u001b[0minc2\u001b[0m\u001b[0;34m(\u001b[0m\u001b[0mx\u001b[0m\u001b[0;34m,\u001b[0m\u001b[0mx\u001b[0m\u001b[0;34m)\u001b[0m\u001b[0;34m\u001b[0m\u001b[0;34m\u001b[0m\u001b[0m\n\u001b[0m",
      "\u001b[0;32m<ipython-input-106-2fe6291dff25>\u001b[0m in \u001b[0;36minc2\u001b[0;34m(x, y)\u001b[0m\n\u001b[1;32m     22\u001b[0m \u001b[0;34m\u001b[0m\u001b[0m\n\u001b[1;32m     23\u001b[0m \u001b[0;32mdef\u001b[0m \u001b[0minc2\u001b[0m\u001b[0;34m(\u001b[0m\u001b[0mx\u001b[0m\u001b[0;34m,\u001b[0m\u001b[0my\u001b[0m\u001b[0;34m)\u001b[0m\u001b[0;34m:\u001b[0m\u001b[0;34m\u001b[0m\u001b[0;34m\u001b[0m\u001b[0m\n\u001b[0;32m---> 24\u001b[0;31m     \u001b[0;32massert\u001b[0m \u001b[0mnoalias\u001b[0m\u001b[0;34m(\u001b[0m\u001b[0mx\u001b[0m\u001b[0;34m,\u001b[0m\u001b[0my\u001b[0m\u001b[0;34m)\u001b[0m\u001b[0;34m\u001b[0m\u001b[0;34m\u001b[0m\u001b[0m\n\u001b[0m\u001b[1;32m     25\u001b[0m     \u001b[0moldx\u001b[0m \u001b[0;34m=\u001b[0m \u001b[0mx\u001b[0m\u001b[0;34m[\u001b[0m\u001b[0;36m0\u001b[0m\u001b[0;34m]\u001b[0m\u001b[0;34m\u001b[0m\u001b[0;34m\u001b[0m\u001b[0m\n\u001b[1;32m     26\u001b[0m     \u001b[0moldy\u001b[0m \u001b[0;34m=\u001b[0m \u001b[0my\u001b[0m\u001b[0;34m[\u001b[0m\u001b[0;36m0\u001b[0m\u001b[0;34m]\u001b[0m\u001b[0;34m\u001b[0m\u001b[0;34m\u001b[0m\u001b[0m\n",
      "\u001b[0;31mAssertionError\u001b[0m: "
     ]
    }
   ],
   "source": [
    "# physical equality\n",
    "\n",
    "x = [1,2,3]\n",
    "y = x\n",
    "y is x # True\n",
    "\n",
    "x = [1,2,3]\n",
    "y = [1,2,3]\n",
    "y is x # False\n",
    "\n",
    "import copy\n",
    "x = [1,2,3]\n",
    "y = copy.copy(x)\n",
    "y is x # False\n",
    "\n",
    "\n",
    "def alias(x,y):\n",
    "    return x is y\n",
    "\n",
    "def noalias(x,y):\n",
    "    return not x is y\n",
    "\n",
    "def inc2(x,y):\n",
    "    assert noalias(x,y)\n",
    "    oldx = x[0]\n",
    "    oldy = y[0]\n",
    "    x[0] = x[0] + 1\n",
    "    y[0] = y[0] + 1\n",
    "    assert x[0] == oldx + 1 and y[0] == oldy + 1\n",
    "    return x, y\n",
    "\n",
    "inc2([2],[2]) # returns [3], [3]\n",
    "\n",
    "inc2(x,x) # noalias assert fails"
   ]
  },
  {
   "cell_type": "code",
   "execution_count": 110,
   "metadata": {},
   "outputs": [],
   "source": [
    "import networkx as nx\n",
    "def vis_check(pred, N = 3):\n",
    "    s = Solver()\n",
    "    K = BitVecSort(N)\n",
    "    valid = Array(\"valid\", K, BoolSort())\n",
    "    heap = Array(\"heap\", K, K)\n",
    "    s.add(pred(heap,valid))\n",
    "    #s.add(pto(1,0)(heap,valid))\n",
    "    if s.check() == sat:\n",
    "        m = s.model()\n",
    "        #print(m)\n",
    "        vals = range(2**N)\n",
    "        edges = [ ( i , m.eval(heap[i]).as_long() )  for i in vals] #if bool(m.eval(valid[i])) ]\n",
    "        colors = [\"green\" if bool(m.eval(valid[i])) else \"white\" for i in vals  ]\n",
    "        #print(colors)\n",
    "        G = nx.DiGraph()\n",
    "        G.add_nodes_from(vals)\n",
    "        G.add_edges_from(edges)\n",
    "        nx.draw(G, with_labels=True, node_color = colors, font_weight='bold')\n",
    "        return m\n",
    "    else:\n",
    "        print(\"unsat\")\n",
    "    \n",
    "    "
   ]
  },
  {
   "cell_type": "code",
   "execution_count": 112,
   "metadata": {},
   "outputs": [
    {
     "ename": "TypeError",
     "evalue": "res() takes 1 positional argument but 2 were given",
     "output_type": "error",
     "traceback": [
      "\u001b[0;31m---------------------------------------------------------------------------\u001b[0m",
      "\u001b[0;31mTypeError\u001b[0m                                 Traceback (most recent call last)",
      "\u001b[0;32m<ipython-input-112-db9712014e25>\u001b[0m in \u001b[0;36m<module>\u001b[0;34m\u001b[0m\n\u001b[0;32m----> 1\u001b[0;31m \u001b[0mvis_check\u001b[0m\u001b[0;34m(\u001b[0m\u001b[0mwand\u001b[0m\u001b[0;34m(\u001b[0m\u001b[0memp\u001b[0m\u001b[0;34m,\u001b[0m \u001b[0memp\u001b[0m\u001b[0;34m)\u001b[0m\u001b[0;34m)\u001b[0m\u001b[0;34m\u001b[0m\u001b[0;34m\u001b[0m\u001b[0m\n\u001b[0m",
      "\u001b[0;32m<ipython-input-110-ca5d459f85a1>\u001b[0m in \u001b[0;36mvis_check\u001b[0;34m(pred, N)\u001b[0m\n\u001b[1;32m      5\u001b[0m     \u001b[0mvalid\u001b[0m \u001b[0;34m=\u001b[0m \u001b[0mArray\u001b[0m\u001b[0;34m(\u001b[0m\u001b[0;34m\"valid\"\u001b[0m\u001b[0;34m,\u001b[0m \u001b[0mK\u001b[0m\u001b[0;34m,\u001b[0m \u001b[0mBoolSort\u001b[0m\u001b[0;34m(\u001b[0m\u001b[0;34m)\u001b[0m\u001b[0;34m)\u001b[0m\u001b[0;34m\u001b[0m\u001b[0;34m\u001b[0m\u001b[0m\n\u001b[1;32m      6\u001b[0m     \u001b[0mheap\u001b[0m \u001b[0;34m=\u001b[0m \u001b[0mArray\u001b[0m\u001b[0;34m(\u001b[0m\u001b[0;34m\"heap\"\u001b[0m\u001b[0;34m,\u001b[0m \u001b[0mK\u001b[0m\u001b[0;34m,\u001b[0m \u001b[0mK\u001b[0m\u001b[0;34m)\u001b[0m\u001b[0;34m\u001b[0m\u001b[0;34m\u001b[0m\u001b[0m\n\u001b[0;32m----> 7\u001b[0;31m     \u001b[0ms\u001b[0m\u001b[0;34m.\u001b[0m\u001b[0madd\u001b[0m\u001b[0;34m(\u001b[0m\u001b[0mpred\u001b[0m\u001b[0;34m(\u001b[0m\u001b[0mheap\u001b[0m\u001b[0;34m,\u001b[0m\u001b[0mvalid\u001b[0m\u001b[0;34m)\u001b[0m\u001b[0;34m)\u001b[0m\u001b[0;34m\u001b[0m\u001b[0;34m\u001b[0m\u001b[0m\n\u001b[0m\u001b[1;32m      8\u001b[0m     \u001b[0;31m#s.add(pto(1,0)(heap,valid))\u001b[0m\u001b[0;34m\u001b[0m\u001b[0;34m\u001b[0m\u001b[0;34m\u001b[0m\u001b[0m\n\u001b[1;32m      9\u001b[0m     \u001b[0;32mif\u001b[0m \u001b[0ms\u001b[0m\u001b[0;34m.\u001b[0m\u001b[0mcheck\u001b[0m\u001b[0;34m(\u001b[0m\u001b[0;34m)\u001b[0m \u001b[0;34m==\u001b[0m \u001b[0msat\u001b[0m\u001b[0;34m:\u001b[0m\u001b[0;34m\u001b[0m\u001b[0;34m\u001b[0m\u001b[0m\n",
      "\u001b[0;31mTypeError\u001b[0m: res() takes 1 positional argument but 2 were given"
     ]
    }
   ],
   "source": [
    "vis_check(wand(emp, emp))"
   ]
  },
  {
   "cell_type": "code",
   "execution_count": 153,
   "metadata": {},
   "outputs": [
    {
     "data": {
      "text/html": [
       "[heap = Store(K(BitVec(3), 1), 2, 0),\n",
       " valid = &exist;k!0 : k!0 = 0 &or; k!0 = 2 &and; &not;(k!0 = 0),\n",
       " Ext = [(as-array, as-array) &rarr; 2, else &rarr; 0],\n",
       " &#950;<sub>1820</sub> = [else &rarr; &#957;<sub>0</sub> = 0 &or; &#957;<sub>0</sub> = 2 &and; &not;(&#957;<sub>0</sub> = 0)],\n",
       " &#950;<sub>1819</sub> = [else &rarr; &#957;<sub>0</sub> = 0]]"
      ],
      "text/plain": [
       "[heap = Store(K(BitVec(3), 1), 2, 0),\n",
       " valid = Lambda(k!0,\n",
       "                Or(k!0 == 0, And(k!0 == 2, Not(k!0 == 0)))),\n",
       " Ext = [(as-array, as-array) -> 2, else -> 0],\n",
       " k!1820 = [else ->\n",
       "           Or(Var(0) == 0,\n",
       "              And(Var(0) == 2, Not(Var(0) == 0)))],\n",
       " k!1819 = [else -> Var(0) == 0]]"
      ]
     },
     "execution_count": 153,
     "metadata": {},
     "output_type": "execute_result"
    },
    {
     "data": {
      "image/png": "[encoded data removed]",
      "text/plain": [
       "<Figure size 432x288 with 1 Axes>"
      ]
     },
     "metadata": {},
     "output_type": "display_data"
    }
   ],
   "source": [
    "vis_check(sep(pto(0,1), pto(2,0)))"
   ]
  },
  {
   "cell_type": "code",
   "execution_count": 154,
   "metadata": {},
   "outputs": [
    {
     "name": "stdout",
     "output_type": "stream",
     "text": [
      "unsat\n"
     ]
    }
   ],
   "source": [
    "vis_check(sep(pto(0,1), pto(0,1)))"
   ]
  },
  {
   "cell_type": "code",
   "execution_count": 59,
   "metadata": {},
   "outputs": [
    {
     "data": {
      "text/html": [
       "[c!938 = &exist;k!0 : k!0 = 1 &and; &not;(k!0 = 0),\n",
       " c!937 = &exist;k!0 : k!0 = 0,\n",
       " heap = Store(K(BitVec(3), 1), 1, 0),\n",
       " valid = &exist;k!0 : k!0 = 0 &or; k!0 = 1 &and; &not;(k!0 = 0),\n",
       " &#950;<sub>962</sub> = [else &rarr; &#957;<sub>0</sub> = 0],\n",
       " Ext = [(as-array, as-array) &rarr; 1,\n",
       "        (as-array, as-array) &rarr; 1,\n",
       "        else &rarr; 0],\n",
       " &#950;<sub>964</sub> = [else &rarr; &#957;<sub>0</sub> = 0 &or; &#957;<sub>0</sub> = 1 &and; &not;(&#957;<sub>0</sub> = 0)],\n",
       " &#950;<sub>963</sub> = [else &rarr; &#957;<sub>0</sub> = 1 &and; &not;(&#957;<sub>0</sub> = 0)]]"
      ],
      "text/plain": [
       "[c!938 = Lambda(k!0, And(k!0 == 1, Not(k!0 == 0))),\n",
       " c!937 = Lambda(k!0, k!0 == 0),\n",
       " heap = Store(K(BitVec(3), 1), 1, 0),\n",
       " valid = Lambda(k!0,\n",
       "                Or(k!0 == 0, And(k!0 == 1, Not(k!0 == 0)))),\n",
       " k!962 = [else -> Var(0) == 0],\n",
       " Ext = [(as-array, as-array) -> 1,\n",
       "        (as-array, as-array) -> 1,\n",
       "        else -> 0],\n",
       " k!964 = [else ->\n",
       "          Or(Var(0) == 0,\n",
       "             And(Var(0) == 1, Not(Var(0) == 0)))],\n",
       " k!963 = [else -> And(Var(0) == 1, Not(Var(0) == 0))]]"
      ]
     },
     "execution_count": 59,
     "metadata": {},
     "output_type": "execute_result"
    },
    {
     "data": {
      "image/png": "[encoded data removed]",
      "text/plain": [
       "<Figure size 432x288 with 1 Axes>"
      ]
     },
     "metadata": {},
     "output_type": "display_data"
    }
   ],
   "source": [
    "vis_check(sep(pto(0,1), pto(1,0)))"
   ]
  },
  {
   "cell_type": "code",
   "execution_count": 158,
   "metadata": {},
   "outputs": [
    {
     "name": "stdout",
     "output_type": "stream",
     "text": [
      "2\n",
      "4\n"
     ]
    },
    {
     "data": {
      "image/png": "[encoded data removed]",
      "text/plain": [
       "<Figure size 432x288 with 1 Axes>"
      ]
     },
     "metadata": {},
     "output_type": "display_data"
    }
   ],
   "source": [
    "K = BitVecSort(3)\n",
    "x, y = Consts(\"x y\" ,K)\n",
    "nil = 0\n",
    "m = vis_check( sep(pto(nil,nil), sep(cell(x, [3, y] ) , cell(y, [2, nil] ))))\n",
    "print(m[x])\n",
    "print(m[y])"
   ]
  },
  {
   "cell_type": "code",
   "execution_count": 156,
   "metadata": {},
   "outputs": [
    {
     "name": "stdout",
     "output_type": "stream",
     "text": [
      "0\n",
      "None\n"
     ]
    },
    {
     "data": {
      "image/png": "[encoded data removed]",
      "text/plain": [
       "<Figure size 432x288 with 1 Axes>"
      ]
     },
     "metadata": {},
     "output_type": "display_data"
    }
   ],
   "source": [
    "K = BitVecSort(3)\n",
    "x, y = Consts(\"x y\" ,K)\n",
    "nil = 0\n",
    "m = vis_check( cell(x, [3, 7] ) )\n",
    "print(m[x])\n",
    "print(m[y])"
   ]
  },
  {
   "cell_type": "code",
   "execution_count": 157,
   "metadata": {},
   "outputs": [
    {
     "name": "stdout",
     "output_type": "stream",
     "text": [
      "0\n",
      "None\n"
     ]
    },
    {
     "data": {
      "text/html": [
       "[x = 0,\n",
       " valid = &exist;k!0 : k!0 = 0 &or; k!0 = 1 &and; &not;(k!0 = 0),\n",
       " heap = Store(K(BitVec(3), 3), 1, 7),\n",
       " Ext = [(as-array, as-array) &rarr; 1, else &rarr; 0],\n",
       " &#950;<sub>2011</sub> = [else &rarr; &#957;<sub>0</sub> = 0],\n",
       " &#950;<sub>2013</sub> = [else &rarr; &#957;<sub>0</sub> = 0 &or; &#957;<sub>0</sub> = 1 &and; &not;(&#957;<sub>0</sub> = 0)]]"
      ],
      "text/plain": [
       "[x = 0,\n",
       " valid = Lambda(k!0,\n",
       "                Or(k!0 == 0, And(k!0 == 1, Not(k!0 == 0)))),\n",
       " heap = Store(K(BitVec(3), 3), 1, 7),\n",
       " Ext = [(as-array, as-array) -> 1, else -> 0],\n",
       " k!2011 = [else -> Var(0) == 0],\n",
       " k!2013 = [else ->\n",
       "           Or(Var(0) == 0,\n",
       "              And(Var(0) == 1, Not(Var(0) == 0)))]]"
      ]
     },
     "execution_count": 157,
     "metadata": {},
     "output_type": "execute_result"
    },
    {
     "data": {
      "image/png": "[encoded data removed]",
      "text/plain": [
       "<Figure size 432x288 with 1 Axes>"
      ]
     },
     "metadata": {},
     "output_type": "display_data"
    }
   ],
   "source": [
    "K = BitVecSort(3)\n",
    "x, y = Consts(\"x y\" ,K)\n",
    "nil = 0\n",
    "m = vis_check( sep(pto(x, 3), pto(x+1,7) ) )\n",
    "print(m[x])\n",
    "print(m[y])\n",
    "m"
   ]
  },
  {
   "cell_type": "code",
   "execution_count": 38,
   "metadata": {},
   "outputs": [
    {
     "data": {
      "image/png": "[encoded data removed]",
      "text/plain": [
       "<Figure size 432x288 with 1 Axes>"
      ]
     },
     "metadata": {},
     "output_type": "display_data"
    }
   ],
   "source": [
    "s = Solver()\n",
    "N = 3\n",
    "K = BitVecSort(N)\n",
    "valid = Array(\"valid\", K, BoolSort())\n",
    "heap = Array(\"heap\", K, K)\n",
    "s.add(sep(pto(0,1), pto(2,0))(heap,valid))\n",
    "#s.add(pto(1,0)(heap,valid))\n",
    "if s.check() == sat:\n",
    "    m = s.model()\n",
    "    vals = range(2**N)\n",
    "    edges = [ ( i , m.eval(heap[i]).as_long() )  for i in vals] #if bool(m.eval(valid[i])) ]\n",
    "    colors = [\"green\" if bool(m.eval(valid[i])) else \"white\" for i in vals  ]\n",
    "\n",
    "    import networkx as nx\n",
    "    G = nx.DiGraph()\n",
    "    G.add_edges_from(edges)\n",
    "\n",
    "    nx.draw(G, with_labels=True, node_color = colors, font_weight='bold')\n",
    "else:\n",
    "    print(\"unsat\")\n"
   ]
  },
  {
   "cell_type": "code",
   "execution_count": 17,
   "metadata": {},
   "outputs": [
    {
     "data": {
      "text/plain": [
       "True"
      ]
     },
     "execution_count": 17,
     "metadata": {},
     "output_type": "execute_result"
    }
   ],
   "source": [
    "bool(BoolVal(True))"
   ]
  },
  {
   "cell_type": "code",
   "execution_count": null,
   "metadata": {},
   "outputs": [],
   "source": [
    "a = Array(\"a\", K, BoolSort())\n",
    "b = Array(\"b\", K, BoolSort())\n",
    "c = Array(\"c\", K, BoolSort())\n",
    "s = Solver()\n",
    "s.add(disjointunion(a,b,c))\n",
    "s.add(c[1])\n",
    "s.add(b[1])\n",
    "s.add(a[2])\n",
    "#s.add(b[2])\n",
    "s.check()\n",
    "m = s.model()\n",
    "print( [ m.eval(c[n]) for n in range(2**4)] )\n",
    "print( [ m.eval(a[n]) for n in range(2**4)] )"
   ]
  }
 ],
 "metadata": {
  "kernelspec": {
   "display_name": "Python 3",
   "language": "python",
   "name": "python3"
  },
  "language_info": {
   "codemirror_mode": {
    "name": "ipython",
    "version": 3
   },
   "file_extension": ".py",
   "mimetype": "text/x-python",
   "name": "python",
   "nbconvert_exporter": "python",
   "pygments_lexer": "ipython3",
   "version": "3.8.5"
  }
 },
 "nbformat": 4,
 "nbformat_minor": 4
}
