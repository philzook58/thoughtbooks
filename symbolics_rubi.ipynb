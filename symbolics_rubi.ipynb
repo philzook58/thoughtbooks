{
 "cells": [
  {
   "cell_type": "code",
   "execution_count": 48,
   "metadata": {},
   "outputs": [
    {
     "name": "stderr",
     "output_type": "stream",
     "text": [
      "┌ Info: Precompiling SymPy [24249f21-da20-56a4-8eb1-6a02cf4ae2e6]\n",
      "└ @ Base loading.jl:1278\n",
      "WARNING: using SymPy.@syms in module Main conflicts with an existing identifier.\n"
     ]
    }
   ],
   "source": [
    "using SymPy"
   ]
  },
  {
   "cell_type": "code",
   "execution_count": 56,
   "metadata": {},
   "outputs": [
    {
     "data": {
      "text/latex": [
       "\\[ \\left[ \\begin{array}{r}\\operatorname{x_{1}}{\\left (t \\right )} = C_{1} e^{- t}\\\\\\operatorname{x_{2}}{\\left (t \\right )} = C_{1} e^{- t}\\\\\\operatorname{x_{3}}{\\left (t \\right )} = C_{1} e^{- t}\\end{array} \\right] \\]"
      ],
      "text/plain": [
       "3-element Array{Sym,1}:\n",
       " Eq(x1(t), C1*exp(-t))\n",
       " Eq(x2(t), C1*exp(-t))\n",
       " Eq(x3(t), C1*exp(-t))"
      ]
     },
     "execution_count": 56,
     "metadata": {},
     "output_type": "execute_result"
    }
   ],
   "source": [
    "@vars t\n",
    "x = [sympy.Function(\"x$i\")(t) for i in 1:3]\n",
    "dsolve.(Eq.(diff.(x),-x))"
   ]
  },
  {
   "cell_type": "code",
   "execution_count": 5,
   "metadata": {},
   "outputs": [
    {
     "data": {
      "text/latex": [
       "\\begin{equation*}\\frac{d}{d t} x{\\left (t \\right )}\\end{equation*}"
      ],
      "text/plain": [
       "d       \n",
       "──(x(t))\n",
       "dt      "
      ]
     },
     "execution_count": 5,
     "metadata": {},
     "output_type": "execute_result"
    }
   ],
   "source": [
    "diff(x(t))"
   ]
  },
  {
   "cell_type": "markdown",
   "metadata": {},
   "source": [
    "Vectors and computers\n",
    "\n",
    "I've spilled some bleeps and bloops over this one\n",
    "\n",
    "Vectors are geometrical objects.\n",
    "We could take vectors as linear polynomials maybe\n",
    "Matrices.\n",
    "\n",
    "\n",
    "\n",
    "\n",
    "\n"
   ]
  },
  {
   "cell_type": "code",
   "execution_count": null,
   "metadata": {},
   "outputs": [],
   "source": [
    "using Pkg \n",
    "Pkg.update()\n"
   ]
  },
  {
   "cell_type": "code",
   "execution_count": 3,
   "metadata": {},
   "outputs": [
    {
     "ename": "LoadError",
     "evalue": "LoadError: Unsupported packet type PKT_ILLEGAL\nin expression starting at In[3]:2",
     "output_type": "error",
     "traceback": [
      "LoadError: Unsupported packet type PKT_ILLEGAL\nin expression starting at In[3]:2",
      "",
      "Stacktrace:",
      " [1] error(::String) at ./error.jl:33",
      " [2] handle_packets(::MathLink.Link, ::Type{T} where T) at /home/philip/.julia/packages/MathLink/f5mIR/src/eval.jl:18",
      " [3] #weval#15 at /home/philip/.julia/packages/MathLink/f5mIR/src/eval.jl:29 [inlined]",
      " [4] weval at /home/philip/.julia/packages/MathLink/f5mIR/src/eval.jl:24 [inlined]",
      " [5] weval(::Type{T} where T, ::MathLink.WExpr; vars::Base.Iterators.Pairs{Union{},Union{},Tuple{},NamedTuple{(),Tuple{}}}) at /home/philip/.julia/packages/MathLink/f5mIR/src/eval.jl:52",
      " [6] weval at /home/philip/.julia/packages/MathLink/f5mIR/src/eval.jl:52 [inlined]",
      " [7] #weval#19 at /home/philip/.julia/packages/MathLink/f5mIR/src/eval.jl:53 [inlined]",
      " [8] weval at /home/philip/.julia/packages/MathLink/f5mIR/src/eval.jl:53 [inlined]",
      " [9] parseexpr(::String) at /home/philip/.julia/packages/MathLink/f5mIR/src/eval.jl:63",
      " [10] @W_cmd(::LineNumberNode, ::Module, ::Any) at /home/philip/.julia/packages/MathLink/f5mIR/src/eval.jl:68",
      " [11] include_string(::Function, ::Module, ::String, ::String) at ./loading.jl:1091"
     ]
    }
   ],
   "source": [
    "using MathLink\n",
    "dump(W`\n",
    "(* ::Subsection::Closed:: *)\n",
    "(* 1.1.1.1 (a+b x)^m *)\n",
    "Int[1/x_, x_Symbol] := Log[x]\n",
    "Int[x_^m_., x_Symbol] := x^(m + 1)/(m + 1) /; FreeQ[m, x] && NeQ[m, -1]\n",
    "Int[1/(a_ + b_.*x_), x_Symbol] := Log[RemoveContent[a + b*x, x]]/b /; FreeQ[{a, b}, x]\n",
    "Int[(a_. + b_.*x_)^m_, x_Symbol] := (a + b*x)^(m + 1)/(b*(m + 1)) /; FreeQ[{a, b, m}, x] && NeQ[m, -1]\n",
    "Int[(a_. + b_.*u_)^m_, x_Symbol] := 1/Coefficient[u, x, 1]*Subst[Int[(a + b*x)^m, x], x, u] /; FreeQ[{a, b, m}, x] && LinearQ[u, x] && NeQ[u, x]\n",
    "`)\n",
    "\n"
   ]
  },
  {
   "cell_type": "code",
   "execution_count": 1,
   "metadata": {},
   "outputs": [
    {
     "data": {
      "text/plain": [
       ":(setdelayed(int(1 * (~x) ^ -1, ~x), log(x)))"
      ]
     },
     "execution_count": 1,
     "metadata": {},
     "output_type": "execute_result"
    }
   ],
   "source": []
  },
  {
   "cell_type": "code",
   "execution_count": 9,
   "metadata": {},
   "outputs": [
    {
     "data": {
      "text/plain": [
       "\"fred\""
      ]
     },
     "execution_count": 9,
     "metadata": {},
     "output_type": "execute_result"
    }
   ],
   "source": [
    "lowercase(\"Fred\")\n",
    "freeq\n",
    "linearq\n",
    "\n",
    "yada yada.\n"
   ]
  },
  {
   "cell_type": "code",
   "execution_count": 7,
   "metadata": {},
   "outputs": [
    {
     "name": "stdout",
     "output_type": "stream",
     "text": [
      "Set([:x])"
     ]
    },
    {
     "data": {
      "text/plain": [
       "int(1 * (~x) ^ -1, ~x) => log(~x)"
      ]
     },
     "execution_count": 7,
     "metadata": {},
     "output_type": "execute_result"
    }
   ],
   "source": [
    "using MathLink\n",
    "using SymbolicUtils\n",
    "e = W`\n",
    "(* ::Subsection::Closed:: *)\n",
    "(* 1.1.1.1 (a+b x)^m *)\n",
    "Int[1/x_, x_Symbol] := Log[x]`\n",
    "\n",
    "keymap = Dict(\n",
    "  W\"Power\" => :^,\n",
    "  W\"Times\" => :*)\n",
    "\n",
    "\n",
    "exprify(e::MathLink.WSymbol) = Symbol(e.name)\n",
    "function exprify(e::MathLink.WExpr) \n",
    "    if e.head == W\"Pattern\"\n",
    "        varname = Symbol(e.args[1])\n",
    "        return :(~$varname)\n",
    "    elseif haskey(keymap, e.head)\n",
    "            Expr(:call, keymap[e.head], exprify.(e.args)...)\n",
    "    else\n",
    "    # maybe lookup a table here.\n",
    "    Expr(:call, Symbol(lowercase(e.head.name)), exprify.(e.args)...)\n",
    "        end\n",
    "end\n",
    "exprify(e::Int64) = e \n",
    "exprify(e)\n",
    "\n",
    "@syms int\n",
    "\n",
    "getpats(x::Int64) = ()\n",
    "getpats(x::MathLink.WSymbol) = ()\n",
    "function getpats(x::MathLink.WExpr) \n",
    "    if x.head == W\"Pattern\"\n",
    "        [x.args[1]] \n",
    "    else \n",
    "        Iterators.flatten([getpats(i) for i in x.args ])\n",
    "    end\n",
    "end\n",
    "\n",
    "\n",
    "\n",
    "pattify( x::Symbol, pats) = x ∈ pats  ? :(~ $x) : x\n",
    "pattify( x::Expr, pats) = Expr(x.head, x.args[1], [pattify(e,pats) for e in x.args[2:end]]...)\n",
    "\n",
    "function unpack(e)\n",
    "   @assert e.head == W\"SetDelayed\"\n",
    "   lhs = e.args[1]\n",
    "   if e.args[2].head == W\"Condition\"\n",
    "       rhscond = e.args[2]\n",
    "       cond = rhscond.args[2]\n",
    "       rhs = exprify(rhcond.args[1])\n",
    "    else\n",
    "       rhs = exprify(e.args[1])\n",
    "       cond = []\n",
    "   lhs.head == W\"Int\"\n",
    "   pats = Set(exprify.(getpats(lhs)))\n",
    "   grand = exprify(lhs.args[1])\n",
    "   var = exprify(lhs.args[2])\n",
    "   rhs = pattify(rhs,pats)\n",
    "   :(@rule int($grand, $var) => $rhs)\n",
    "end\n",
    "\n",
    "eval(unpack(e))"
   ]
  },
  {
   "cell_type": "code",
   "execution_count": 4,
   "metadata": {},
   "outputs": [
    {
     "data": {
      "text/plain": [
       "Set{Int64} with 1 element:\n",
       "  1"
      ]
     },
     "execution_count": 4,
     "metadata": {},
     "output_type": "execute_result"
    }
   ],
   "source": [
    "\n",
    "Set([1,1])"
   ]
  },
  {
   "cell_type": "code",
   "execution_count": 8,
   "metadata": {},
   "outputs": [
    {
     "name": "stdout",
     "output_type": "stream",
     "text": [
      "MathLink.WExpr\n",
      "  head: MathLink.WSymbol\n",
      "    name: String \"SetDelayed\"\n",
      "  args: Array{MathLink.WExpr}((2,))\n",
      "    1: MathLink.WExpr\n",
      "      head: MathLink.WSymbol\n",
      "        name: String \"Int\"\n",
      "      args: Array{MathLink.WExpr}((2,))\n",
      "        1: MathLink.WExpr\n",
      "          head: MathLink.WSymbol\n",
      "            name: String \"Power\"\n",
      "          args: Array{MathLink.WExpr}((2,))\n",
      "            1: MathLink.WExpr\n",
      "              head: MathLink.WSymbol\n",
      "                name: String \"Pattern\"\n",
      "              args: Array{Any}((2,))\n",
      "                1: MathLink.WSymbol\n",
      "                2: MathLink.WExpr\n",
      "            2: MathLink.WExpr\n",
      "              head: MathLink.WSymbol\n",
      "                name: String \"Optional\"\n",
      "              args: Array{MathLink.WExpr}((1,))\n",
      "                1: MathLink.WExpr\n",
      "        2: MathLink.WExpr\n",
      "          head: MathLink.WSymbol\n",
      "            name: String \"Pattern\"\n",
      "          args: Array{Any}((2,))\n",
      "            1: MathLink.WSymbol\n",
      "              name: String \"x\"\n",
      "            2: MathLink.WExpr\n",
      "              head: MathLink.WSymbol\n",
      "                name: String \"Blank\"\n",
      "              args: Array{MathLink.WSymbol}((1,))\n",
      "                1: MathLink.WSymbol\n",
      "    2: MathLink.WExpr\n",
      "      head: MathLink.WSymbol\n",
      "        name: String \"Condition\"\n",
      "      args: Array{MathLink.WExpr}((2,))\n",
      "        1: MathLink.WExpr\n",
      "          head: MathLink.WSymbol\n",
      "            name: String \"Times\"\n",
      "          args: Array{MathLink.WExpr}((2,))\n",
      "            1: MathLink.WExpr\n",
      "              head: MathLink.WSymbol\n",
      "                name: String \"Power\"\n",
      "              args: Array{Any}((2,))\n",
      "                1: MathLink.WSymbol\n",
      "                2: MathLink.WExpr\n",
      "            2: MathLink.WExpr\n",
      "              head: MathLink.WSymbol\n",
      "                name: String \"Power\"\n",
      "              args: Array{Any}((2,))\n",
      "                1: MathLink.WExpr\n",
      "                2: Int64 -1\n",
      "        2: MathLink.WExpr\n",
      "          head: MathLink.WSymbol\n",
      "            name: String \"And\"\n",
      "          args: Array{MathLink.WExpr}((2,))\n",
      "            1: MathLink.WExpr\n",
      "              head: MathLink.WSymbol\n",
      "                name: String \"FreeQ\"\n",
      "              args: Array{MathLink.WSymbol}((2,))\n",
      "                1: MathLink.WSymbol\n",
      "                2: MathLink.WSymbol\n",
      "            2: MathLink.WExpr\n",
      "              head: MathLink.WSymbol\n",
      "                name: String \"NeQ\"\n",
      "              args: Array{Any}((2,))\n",
      "                1: MathLink.WSymbol\n",
      "                2: Int64 -1\n"
     ]
    }
   ],
   "source": [
    "dump(W`Int[x_^m_., x_Symbol] := x^(m + 1)/(m + 1) /; FreeQ[m, x] && NeQ[m, -1]`)"
   ]
  },
  {
   "cell_type": "code",
   "execution_count": 16,
   "metadata": {},
   "outputs": [
    {
     "name": "stdout",
     "output_type": "stream",
     "text": [
      "MathLink.WExpr\n",
      "  head: MathLink.WSymbol\n",
      "    name: String \"SetDelayed\"\n",
      "  args: Array{MathLink.WExpr}((2,))\n",
      "    1: MathLink.WExpr\n",
      "      head: MathLink.WSymbol\n",
      "        name: String \"Int\"\n",
      "      args: Array{MathLink.WExpr}((2,))\n",
      "        1: MathLink.WExpr\n",
      "          head: MathLink.WSymbol\n",
      "            name: String \"Times\"\n",
      "          args: Array{Any}((2,))\n",
      "            1: Int64 1\n",
      "            2: MathLink.WExpr\n",
      "              head: MathLink.WSymbol\n",
      "                name: String \"Power\"\n",
      "              args: Array{Any}((2,))\n",
      "                1: MathLink.WExpr\n",
      "                2: Int64 -1\n",
      "        2: MathLink.WExpr\n",
      "          head: MathLink.WSymbol\n",
      "            name: String \"Pattern\"\n",
      "          args: Array{Any}((2,))\n",
      "            1: MathLink.WSymbol\n",
      "              name: String \"x\"\n",
      "            2: MathLink.WExpr\n",
      "              head: MathLink.WSymbol\n",
      "                name: String \"Blank\"\n",
      "              args: Array{MathLink.WSymbol}((1,))\n",
      "                1: MathLink.WSymbol\n",
      "    2: MathLink.WExpr\n",
      "      head: MathLink.WSymbol\n",
      "        name: String \"Log\"\n",
      "      args: Array{MathLink.WSymbol}((1,))\n",
      "        1: MathLink.WSymbol\n",
      "          name: String \"x\"\n"
     ]
    }
   ],
   "source": [
    "dump(e)"
   ]
  },
  {
   "cell_type": "code",
   "execution_count": 64,
   "metadata": {},
   "outputs": [
    {
     "name": "stdout",
     "output_type": "stream",
     "text": [
      "nothing"
     ]
    }
   ],
   "source": [
    "using SymbolicUtils\n",
    "@syms x y z\n",
    "r = @rule ~x + ~y => x * y\n",
    "#dump(r.matcher.matchers[1])\n",
    "#r.matcher(:(1 + 2))\n",
    "#r.matcher.matchers[1](:(1 + 2))\n",
    "r.matcher( (x,n) -> x, (y * z,) ,  SymbolicUtils.EMPTY_DICT) \n"
   ]
  },
  {
   "cell_type": "code",
   "execution_count": 76,
   "metadata": {},
   "outputs": [
    {
     "name": "stderr",
     "output_type": "stream",
     "text": [
      "\u001b[32m\u001b[1m   Updating\u001b[22m\u001b[39m registry at `~/.julia/registries/General`\n"
     ]
    },
    {
     "name": "stdout",
     "output_type": "stream",
     "text": [
      "\u001b[?25l    "
     ]
    },
    {
     "name": "stderr",
     "output_type": "stream",
     "text": [
      "\u001b[32m\u001b[1m   Updating\u001b[22m\u001b[39m git-repo `https://github.com/JuliaRegistries/General.git`\n"
     ]
    },
    {
     "name": "stdout",
     "output_type": "stream",
     "text": [
      "\u001b[2K\u001b[?25h[1mFetching:\u001b[22m\u001b[39m [========================================>]  99.9 % [========>                                ]  19.0 %37.9 %=======================>                 ]  57.0 %75.8 %"
     ]
    },
    {
     "name": "stderr",
     "output_type": "stream",
     "text": [
      "\u001b[32m\u001b[1m  Resolving\u001b[22m\u001b[39m package versions...\n",
      "\u001b[32m\u001b[1m  Installed\u001b[22m\u001b[39m libpng_jll ─ v1.6.37+6\n",
      "\u001b[32m\u001b[1mUpdating\u001b[22m\u001b[39m `~/.julia/environments/v1.5/Project.toml`\n",
      " \u001b[90m [1914dd2f] \u001b[39m\u001b[92m+ MacroTools v0.5.6\u001b[39m\n",
      "\u001b[32m\u001b[1mUpdating\u001b[22m\u001b[39m `~/.julia/environments/v1.5/Manifest.toml`\n",
      " \u001b[90m [b53b4c65] \u001b[39m\u001b[93m↑ libpng_jll v1.6.37+5 ⇒ v1.6.37+6\u001b[39m\n"
     ]
    }
   ],
   "source": [
    "import Pkg; Pkg.add(\"MacroTools\")\n",
    "using MacroTools\n"
   ]
  },
  {
   "cell_type": "code",
   "execution_count": 62,
   "metadata": {},
   "outputs": [
    {
     "name": "stdout",
     "output_type": "stream",
     "text": [
      "SymbolicUtils.Rule{SymbolicUtils.Term{Any},SymbolicUtils.var\"#term_matcher#42\"{Tuple{SymbolicUtils.var\"#literal_matcher#38\"{typeof(+)},SymbolicUtils.var\"#slot_matcher#39\"{SymbolicUtils.Slot{typeof(SymbolicUtils.alwaystrue)}},SymbolicUtils.var\"#slot_matcher#39\"{SymbolicUtils.Slot{typeof(SymbolicUtils.alwaystrue)}}}},var\"#99#100\"}\n",
      "  expr: Expr\n",
      "    head: Symbol call\n",
      "    args: Array{Any}((3,))\n",
      "      1: Symbol =>\n",
      "      2: Expr\n",
      "        head: Symbol call\n",
      "        args: Array{Any}((3,))\n",
      "          1: Symbol +\n",
      "          2: Expr\n",
      "            head: Symbol call\n",
      "            args: Array{Any}((2,))\n",
      "              1: Symbol ~\n",
      "              2: Symbol x\n",
      "          3: Expr\n",
      "            head: Symbol call\n",
      "            args: Array{Any}((2,))\n",
      "              1: Symbol ~\n",
      "              2: Symbol y\n",
      "      3: Expr\n",
      "        head: Symbol call\n",
      "        args: Array{Any}((3,))\n",
      "          1: Symbol *\n",
      "          2: Symbol x\n",
      "          3: Symbol y\n",
      "  lhs: SymbolicUtils.Term{Any}\n",
      "    f: + (function of type typeof(+))\n",
      "    arguments: Array{SymbolicUtils.Slot{typeof(SymbolicUtils.alwaystrue)}}((2,))\n",
      "      1: SymbolicUtils.Slot{typeof(SymbolicUtils.alwaystrue)}\n",
      "        name: Symbol x\n",
      "        predicate: alwaystrue (function of type typeof(SymbolicUtils.alwaystrue))\n",
      "      2: SymbolicUtils.Slot{typeof(SymbolicUtils.alwaystrue)}\n",
      "        name: Symbol y\n",
      "        predicate: alwaystrue (function of type typeof(SymbolicUtils.alwaystrue))\n",
      "  matcher: term_matcher (function of type SymbolicUtils.var\"#term_matcher#42\"{Tuple{SymbolicUtils.var\"#literal_matcher#38\"{typeof(+)},SymbolicUtils.var\"#slot_matcher#39\"{SymbolicUtils.Slot{typeof(SymbolicUtils.alwaystrue)}},SymbolicUtils.var\"#slot_matcher#39\"{SymbolicUtils.Slot{typeof(SymbolicUtils.alwaystrue)}}}})\n",
      "    matchers: Tuple{SymbolicUtils.var\"#literal_matcher#38\"{typeof(+)},SymbolicUtils.var\"#slot_matcher#39\"{SymbolicUtils.Slot{typeof(SymbolicUtils.alwaystrue)}},SymbolicUtils.var\"#slot_matcher#39\"{SymbolicUtils.Slot{typeof(SymbolicUtils.alwaystrue)}}}\n",
      "      1: literal_matcher (function of type SymbolicUtils.var\"#literal_matcher#38\"{typeof(+)})\n",
      "        val: + (function of type typeof(+))\n",
      "      2: slot_matcher (function of type SymbolicUtils.var\"#slot_matcher#39\"{SymbolicUtils.Slot{typeof(SymbolicUtils.alwaystrue)}})\n",
      "        slot: SymbolicUtils.Slot{typeof(SymbolicUtils.alwaystrue)}\n",
      "          name: Symbol x\n",
      "          predicate: alwaystrue (function of type typeof(SymbolicUtils.alwaystrue))\n",
      "      3: slot_matcher (function of type SymbolicUtils.var\"#slot_matcher#39\"{SymbolicUtils.Slot{typeof(SymbolicUtils.alwaystrue)}})\n",
      "        slot: SymbolicUtils.Slot{typeof(SymbolicUtils.alwaystrue)}\n",
      "          name: Symbol y\n",
      "          predicate: alwaystrue (function of type typeof(SymbolicUtils.alwaystrue))\n",
      "  rhs: #99 (function of type var\"#99#100\")\n",
      "  depth: Int64 1\n"
     ]
    }
   ],
   "source": [
    "dump(r)"
   ]
  },
  {
   "cell_type": "code",
   "execution_count": 35,
   "metadata": {},
   "outputs": [
    {
     "ename": "MethodError",
     "evalue": "MethodError: no method matching nameof(::Symbol)\nClosest candidates are:\n  nameof(!Matched::Core.IntrinsicFunction) at reflection.jl:1191\n  nameof(!Matched::Module) at reflection.jl:16\n  nameof(!Matched::DataType) at reflection.jl:210\n  ...",
     "output_type": "error",
     "traceback": [
      "MethodError: no method matching nameof(::Symbol)\nClosest candidates are:\n  nameof(!Matched::Core.IntrinsicFunction) at reflection.jl:1191\n  nameof(!Matched::Module) at reflection.jl:16\n  nameof(!Matched::DataType) at reflection.jl:210\n  ...",
      "",
      "Stacktrace:",
      " [1] show(::IOContext{Base.GenericIOBuffer{Array{UInt8,1}}}, ::SymbolicUtils.Term{Any}) at /home/philip/.julia/packages/SymbolicUtils/ctxgN/src/types.jl:327",
      " [2] show at ./multimedia.jl:47 [inlined]",
      " [3] limitstringmime(::MIME{Symbol(\"text/plain\")}, ::SymbolicUtils.Term{Any}) at /home/philip/.julia/packages/IJulia/DrVMH/src/inline.jl:43",
      " [4] display_mimestring(::MIME{Symbol(\"text/plain\")}, ::SymbolicUtils.Term{Any}) at /home/philip/.julia/packages/IJulia/DrVMH/src/display.jl:67",
      " [5] display_dict(::SymbolicUtils.Term{Any}) at /home/philip/.julia/packages/IJulia/DrVMH/src/display.jl:96",
      " [6] #invokelatest#1 at ./essentials.jl:710 [inlined]",
      " [7] invokelatest at ./essentials.jl:709 [inlined]",
      " [8] execute_request(::ZMQ.Socket, ::IJulia.Msg) at /home/philip/.julia/packages/IJulia/DrVMH/src/execute_request.jl:112",
      " [9] #invokelatest#1 at ./essentials.jl:710 [inlined]",
      " [10] invokelatest at ./essentials.jl:709 [inlined]",
      " [11] eventloop(::ZMQ.Socket) at /home/philip/.julia/packages/IJulia/DrVMH/src/eventloop.jl:8",
      " [12] (::IJulia.var\"#15#18\")() at ./task.jl:356"
     ]
    }
   ],
   "source": [
    "SymbolicUtils.Term(:f,[SymbolicUtils.Slot(:x, SymbolicUtils.alwaystrue)])"
   ]
  },
  {
   "cell_type": "code",
   "execution_count": null,
   "metadata": {},
   "outputs": [],
   "source": [
    "function freeq(ls,sym)\n",
    "    function transform(rule)\n",
    "        \n",
    "        Rule(lhs,rhs,(t,dict,next) -> \n",
    "            rule.matcher(t,dict, dict -> \n",
    "               any(contains( , ) , ) ? next(dict) : nothing\n",
    "            )\n",
    "            ,  )\n",
    "    end\n",
    "end"
   ]
  },
  {
   "cell_type": "code",
   "execution_count": null,
   "metadata": {},
   "outputs": [],
   "source": [
    "match(term::Expr, pat::Expr) =\n",
    "   pat.head == term.head ?  : nothing\n"
   ]
  },
  {
   "cell_type": "markdown",
   "metadata": {},
   "source": [
    "Matcher combinators.\n",
    "A macther combinator is the untyped analog of a recursor.\n",
    "It's a higher order function that checks to see if data matches a pattern and then calls a function with these bindings.\n",
    "\n",
    "https://github.com/axch/rules\n",
    "\n",
    "Sussman's sdf\n",
    "\\\n",
    "https://arxiv.org/pdf/1710.00077.pdf efficient pattern matching in python\n",
    "\n",
    "https://link.springer.com/article/10.1007/BF00881866 flatterms dscirmination nets and fast term rewriting\n",
    "\n",
    "\n",
    "suffix trie is probably good data sdtrcture, recrusivelyt encode all subtree of expression\n",
    "Uh, but we want to process only once?\n",
    "\n",
    "rules\n",
    "\n",
    "FIFO frontier = \n",
    "seen_lhs = Dict()\n",
    "seen_rhs = Dict()\n",
    "\n",
    "\n",
    "frontier beam search\n",
    "\n",
    "while ! isempty(frontier)\n",
    "   t = frontier.pop\n",
    "   apply_all_rules_recsurively(t)\n",
    "   if is_key(prcoessed_rhs):\n",
    "       break #success!\n",
    "   !is_key(processed_lhs)\n",
    "      add(frotnier)\n",
    "      add(seen_lhs)\n",
    "   \n",
    "   \n",
    "rule_trie = preorder traversal of term, \n",
    ":f/2, :g/3 etc.\n",
    ":*\n",
    "\n",
    "\n",
    "\n",
    "a trie of patterns vs a trie of derivations\n",
    "\n",
    "\n",
    "path indexing - build trie of all paths to leaves. store set of patterns. Lookup all or some and take set intersection.\n",
    "\n",
    "You know, it doesn't have to be perfect, we just want to filter some.\n",
    "\n",
    "\n",
    "term bank\n",
    "\n",
    "matcher(  :: GatExpr) = \n",
    "matcher(  :: GatExpr) = \n",
    "\n",
    "\n",
    "\n",
    "match combinators\n",
    "We can embed guards in them.\n",
    "Yeah, these really are failable recursores.\n",
    "\n",
    "\n",
    "f(~x,~y)\n",
    "\n",
    "Why even have next? why not just return the dict.\n",
    "\n",
    "matcher(s::Slot)\n",
    "   function slot_matcher(term,dict, next)\n",
    "       if haskey(dict, s.name)\n",
    "           dict[s] == term ? next(dict) : throw PatternFail\n",
    "       next(putkey(dict, s.name, term))\n",
    "       \n",
    "function head_match(head , matchers...) #arity implcity in matchers \n",
    "        function(term,dict,next)\n",
    "        if term isa Expr\n",
    "           term.head == head ? matcher[1]( , , d ->  matcher[2]( ,d, d1 -> ...) )   : throw\n",
    "            d' = merge((matcher,t) -> matcher(t),  zip(matchers, term.args)) # independent ordering. Is this even correct?\n",
    "            next(d')\n",
    "            \n",
    "\n",
    "\n",
    "channel passing style\n",
    "continuation passing style\n",
    "\n",
    "\n",
    "to take a dictionary is almost certainly inefficient. I suppose it's all so nearby the compiler could fuse away the dctionary? Probably not.\n",
    "I would be inclined to use arrays or multivariate functions and anonymize.\n",
    "\n"
   ]
  },
  {
   "cell_type": "code",
   "execution_count": 20,
   "metadata": {},
   "outputs": [
    {
     "name": "stdout",
     "output_type": "stream",
     "text": [
      "\n",
      ";  @ In[20]:1 within `foo'\n",
      "define nonnull %jl_value_t* @japi1_foo_2610(%jl_value_t*, %jl_value_t**, i32) #0 {\n",
      "top:\n",
      "  %3 = alloca %jl_value_t**, align 8\n",
      "  store volatile %jl_value_t** %1, %jl_value_t*** %3, align 8\n",
      "  %4 = load %jl_value_t*, %jl_value_t** %1, align 8\n",
      "  ret %jl_value_t* %4\n",
      "}\n"
     ]
    }
   ],
   "source": [
    "foo(x) = x\n",
    "@code_llvm foo(:foo)"
   ]
  },
  {
   "cell_type": "code",
   "execution_count": 23,
   "metadata": {},
   "outputs": [
    {
     "data": {
      "text/latex": [
       "true"
      ],
      "text/plain": [
       "true"
      ]
     },
     "execution_count": 23,
     "metadata": {},
     "output_type": "execute_result"
    }
   ],
   "source": [
    "\"foo\" === \"foo\""
   ]
  },
  {
   "cell_type": "code",
   "execution_count": 25,
   "metadata": {},
   "outputs": [
    {
     "data": {
      "text/latex": [
       "false"
      ],
      "text/plain": [
       "false"
      ]
     },
     "execution_count": 25,
     "metadata": {},
     "output_type": "execute_result"
    }
   ],
   "source": [
    "isbits(:foo)"
   ]
  },
  {
   "cell_type": "code",
   "execution_count": 21,
   "metadata": {},
   "outputs": [
    {
     "name": "stdout",
     "output_type": "stream",
     "text": [
      "Symbol foo\n"
     ]
    }
   ],
   "source": [
    "dump(:foo)"
   ]
  },
  {
   "cell_type": "code",
   "execution_count": 6,
   "metadata": {},
   "outputs": [
    {
     "ename": "LoadError",
     "evalue": "ArgumentError: Package Julog not found in current path:\n- Run `import Pkg; Pkg.add(\"Julog\")` to install the Julog package.\n",
     "output_type": "error",
     "traceback": [
      "ArgumentError: Package Julog not found in current path:\n- Run `import Pkg; Pkg.add(\"Julog\")` to install the Julog package.\n",
      "",
      "Stacktrace:",
      " [1] require(::Module, ::Symbol) at ./loading.jl:893",
      " [2] include_string(::Function, ::Module, ::String, ::String) at ./loading.jl:1091"
     ]
    }
   ],
   "source": [
    "using Julog"
   ]
  },
  {
   "cell_type": "code",
   "execution_count": 7,
   "metadata": {},
   "outputs": [
    {
     "name": "stderr",
     "output_type": "stream",
     "text": [
      "\u001b[32m\u001b[1m   Updating\u001b[22m\u001b[39m registry at `~/.julia/registries/General`\n"
     ]
    },
    {
     "name": "stdout",
     "output_type": "stream",
     "text": [
      "\u001b[?25l    "
     ]
    },
    {
     "name": "stderr",
     "output_type": "stream",
     "text": [
      "\u001b[32m\u001b[1m   Updating\u001b[22m\u001b[39m git-repo `https://github.com/JuliaRegistries/General.git`\n"
     ]
    },
    {
     "name": "stdout",
     "output_type": "stream",
     "text": [
      "\u001b[2K\u001b[?25h[1mFetching:\u001b[22m\u001b[39m [========================================>]  100.0 %"
     ]
    },
    {
     "name": "stderr",
     "output_type": "stream",
     "text": [
      "\u001b[32m\u001b[1m  Resolving\u001b[22m\u001b[39m package versions...\n",
      "\u001b[32m\u001b[1m  Installed\u001b[22m\u001b[39m Julog ─ v0.1.6\n",
      "\u001b[32m\u001b[1mUpdating\u001b[22m\u001b[39m `~/.julia/environments/v1.5/Project.toml`\n",
      " \u001b[90m [5d8bcb5e] \u001b[39m\u001b[92m+ Julog v0.1.6\u001b[39m\n",
      "\u001b[32m\u001b[1mUpdating\u001b[22m\u001b[39m `~/.julia/environments/v1.5/Manifest.toml`\n",
      " \u001b[90m [5d8bcb5e] \u001b[39m\u001b[92m+ Julog v0.1.6\u001b[39m\n"
     ]
    }
   ],
   "source": [
    "import Pkg; Pkg.add(\"Julog\")"
   ]
  },
  {
   "cell_type": "code",
   "execution_count": 11,
   "metadata": {},
   "outputs": [
    {
     "name": "stderr",
     "output_type": "stream",
     "text": [
      "┌ Info: Precompiling SymbolicUtils [d1185830-fcd6-423d-90d6-eec64667417b]\n",
      "└ @ Base loading.jl:1278\n"
     ]
    }
   ],
   "source": [
    "using SymbolicUtils"
   ]
  },
  {
   "cell_type": "code",
   "execution_count": 10,
   "metadata": {},
   "outputs": [
    {
     "name": "stderr",
     "output_type": "stream",
     "text": [
      "\u001b[32m\u001b[1m  Resolving\u001b[22m\u001b[39m package versions...\n",
      "\u001b[32m\u001b[1mUpdating\u001b[22m\u001b[39m `~/.julia/environments/v1.5/Project.toml`\n",
      " \u001b[90m [d1185830] \u001b[39m\u001b[92m+ SymbolicUtils v0.5.2\u001b[39m\n",
      "\u001b[32m\u001b[1mNo Changes\u001b[22m\u001b[39m to `~/.julia/environments/v1.5/Manifest.toml`\n"
     ]
    }
   ],
   "source": [
    "import Pkg; Pkg.add(\"SymbolicUtils\")"
   ]
  },
  {
   "cell_type": "markdown",
   "metadata": {},
   "source": [
    "Brute force solve. We can have a frontier and seen Dictionaries.\n",
    "Convert equations into "
   ]
  },
  {
   "cell_type": "code",
   "execution_count": null,
   "metadata": {},
   "outputs": [],
   "source": [
    "Dict(   )"
   ]
  },
  {
   "cell_type": "code",
   "execution_count": null,
   "metadata": {},
   "outputs": [],
   "source": [
    "lit(x) = (next,term,dict) -> term == x : next(dict) ? nothing\n",
    "pat(x) = (next,term,dict) -> begin\n",
    "    if haskey(dict,x)\n",
    "        dict[x] == term ? next(dict) : nothing\n",
    "    else\n",
    "        dict[x] = term\n",
    "        next(dict)\n",
    "    end\n",
    "end\n",
    "\n",
    "func(x, args...) = (next,term,dict) -> begin\n",
    "        if term.head != :call || x != term.args[1]\n",
    "            nothing\n",
    "        else\n",
    "          \n",
    "        for pat in args\n",
    "            pat()\n",
    "    \n",
    "    end\n",
    "        dict[x] = term\n",
    "        next(dict)\n",
    "    end\n",
    "end\n",
    "\n"
   ]
  },
  {
   "cell_type": "code",
   "execution_count": 69,
   "metadata": {},
   "outputs": [
    {
     "data": {
      "text/plain": [
       "func (generic function with 1 method)"
      ]
     },
     "execution_count": 69,
     "metadata": {},
     "output_type": "execute_result"
    }
   ],
   "source": [
    "# I don't really see a reason why we would use the next continuation?\n",
    "# an rgument could be made for throwing an exception if failed\n",
    "lit(x) = (term,dict) -> term == x ? dict : nothing\n",
    "pat(x) = (term,dict) -> begin\n",
    "    if haskey(dict,x)\n",
    "        dict[x] == term ? dict : nothing\n",
    "    else\n",
    "        dict[x] = term\n",
    "        dict\n",
    "    end\n",
    "end\n",
    "# x doesn't have to be a literal here. It could be a variable.\n",
    "func(x, args...) = (term,dict) -> \n",
    "    begin\n",
    "        if term.head != :call || x != term.args[1] || length(term.args) != length(args) + 1\n",
    "            nothing\n",
    "        else          \n",
    "        for (pat,term) in zip(args, term.args[2:end]) # this is some kind of bind operation / apply <*>\n",
    "                    dict = pat(term,dict)\n",
    "                    if dict == nothing\n",
    "                        return nothing\n",
    "                    end\n",
    "            end\n",
    "            return dict\n",
    "        end\n",
    "    end\n",
    "\n",
    "pred(f) = (term,dict) -> f(term) ? dict : nothing\n",
    "# lit(x) = pred(y -> y == x)\n",
    "\n",
    "bindpred(f) = (term,dict) -> f(dict) ? dict : nothing\n",
    "freeq(a,x) = bindpred( a, )\n",
    "compose(m1,m2) = (term,dict) -> begin   # a reader of term, state of dict, and maybe monad.\n",
    "   dict = m1(term,dict)\n",
    "    if dict == nothing\n",
    "        nothing\n",
    "    else\n",
    "        m2(term,dict)\n",
    "    end\n",
    "end\n",
    "\n",
    "function pattify(e::Expr)\n",
    "    @assert e.head == :call\n",
    "    if e.args[1] == :~\n",
    "        pat(e.args[2])\n",
    "    else\n",
    "        func(e.args[1], [pattify(sube) for sube in e.args[2:end]])\n",
    "    end\n",
    "end\n",
    "pattify(s::Symbol) = lit(s)\n",
    "\n",
    "# There is an error monad in here soemhwere\n",
    "\n",
    "# What about non-determinsm. \n",
    "# How does this compare to minikanren\n",
    "\n",
    "\n",
    "\n",
    "#=\n",
    "Associative and Commutative pattersn\n",
    "\n",
    "\n",
    "\n",
    "\n",
    "The functional representation of match is very powerful, as it often is.\n",
    "But we lose something when we seal our data behind the functional interface, as we often do.\n",
    "Like matrix multiply, functional form is flexible.\n",
    "For example we could make a trie to do many patterns at once \n",
    "\n",
    "This is somehwat like a final encoding of the pattern data type\n",
    "We could image builging a syntax tree of a pattern. Then we'd have a function \n",
    "match(pattern,term) -> bindings\n",
    "If we partially apply match to pattern, we have a term -> bindings functions.\n",
    "\n",
    "using a dict is a little silly. This is making an intepreter rather than a compiled form.\n",
    "probably faster would be to translate names to indices and use an array. push the variables on in dfs order.\n",
    "\n",
    "going down the tree over and over again feels inefficient.\n",
    "So is massive copying.\n",
    "Eh. Maybe it's not so bad in the trie form?\n",
    "Rather than storing the frontier as a list of terms, store it as pointers into the trie structure?\n",
    "A multiterm instead of a trie? No that doesn't make sense.\n",
    "frontier = [(context, term)]\n",
    "zipper.\n",
    "\n",
    "\n",
    "lasnguages always take the shortest sweetest syntax for their own almsot universally non overloadoable purposes.\n",
    "That's why I like quotation.\n",
    "I also like quasi quotation\n",
    "\n",
    "I don't like macros that much.\n",
    "\n",
    "=#\n",
    "\n",
    "rule(lhs,rhs) = term -> begin\n",
    "   dict = lhs(term,Dict())\n",
    "    if dict !== nothing\n",
    "        rhs(dict)\n",
    "    end\n",
    "end\n",
    "# :=>(lhs,rhs) = rule(lhs,rhs)\n",
    "\n",
    "# a rule is a pattern and a result? pattern and blueprint, pattern and cubbies, \n",
    "# consequent procedure / handler is what GJS uses\n",
    "\n",
    "# cubbie combinators\n",
    "clit(x) = dict -> x\n",
    "cpat(x) = dict -> dict[x]\n",
    "cfunc(f,args...) = dict -> Expr(:call, f, [arg(dict) for arg in args]...)\n",
    "\n",
    "# can i interleave pattern matching and cubbies? Give scope to parameters.\n"
   ]
  },
  {
   "cell_type": "code",
   "execution_count": 74,
   "metadata": {},
   "outputs": [
    {
     "data": {
      "text/plain": [
       "Dict{Any,Any} with 1 entry:\n",
       "  :a => :x"
      ]
     },
     "execution_count": 74,
     "metadata": {},
     "output_type": "execute_result"
    }
   ],
   "source": [
    "lit(:x)(:a , Dict())\n",
    "\n",
    "func(:f, pat(:a), lit(:x))(:(f(x,x)), Dict())\n"
   ]
  },
  {
   "cell_type": "code",
   "execution_count": 66,
   "metadata": {},
   "outputs": [
    {
     "data": {
      "text/plain": [
       "3-element Array{Tuple{Int64,Int64},1}:\n",
       " (1, 6)\n",
       " (2, 7)\n",
       " (3, 8)"
      ]
     },
     "execution_count": 66,
     "metadata": {},
     "output_type": "execute_result"
    }
   ],
   "source": [
    "collect(zip(1:3,6:10))"
   ]
  },
  {
   "cell_type": "code",
   "execution_count": null,
   "metadata": {},
   "outputs": [],
   "source": []
  }
 ],
 "metadata": {
  "kernelspec": {
   "display_name": "Julia 1.5.0",
   "language": "julia",
   "name": "julia-1.5"
  },
  "language_info": {
   "file_extension": ".jl",
   "mimetype": "application/julia",
   "name": "julia",
   "version": "1.5.0"
  }
 },
 "nbformat": 4,
 "nbformat_minor": 4
}
