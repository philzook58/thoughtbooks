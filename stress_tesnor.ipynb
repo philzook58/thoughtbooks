{
 "cells": [
  {
   "cell_type": "markdown",
   "metadata": {},
   "source": [
    "# Stress Tensor\n",
    "\n",
    "\n",
    "WHat is the stress tensor?\n",
    "\n"
   ]
  },
  {
   "cell_type": "code",
   "execution_count": 1,
   "metadata": {},
   "outputs": [],
   "source": [
    "using SymPy"
   ]
  },
  {
   "cell_type": "code",
   "execution_count": 3,
   "metadata": {},
   "outputs": [
    {
     "data": {
      "text/latex": [
       "\\begin{align*}\\operatorname{z_{2}}\\end{align*}"
      ],
      "text/plain": [
       "z2"
      ]
     },
     "execution_count": 3,
     "metadata": {},
     "output_type": "execute_result"
    }
   ],
   "source": [
    "@vars x y z\n",
    "\n",
    "x2_ = SymFunction(\"x2\")\n",
    "y2_ = SymFunction(\"y2\")\n",
    "z2_ = SymFunction(\"z2\")\n",
    "\n",
    "\n",
    "\n"
   ]
  },
  {
   "cell_type": "markdown",
   "metadata": {},
   "source": [
    "If stuff moves then\n",
    "stuff originally at x,y,z is now at a position x2 y2 z2. The new positions are functions of the old positions"
   ]
  },
  {
   "cell_type": "code",
   "execution_count": 6,
   "metadata": {},
   "outputs": [
    {
     "data": {
      "text/latex": [
       "\\[ \\left[ \\begin{array}{r}\\operatorname{x_{2}}{\\left(x,y,z \\right)}\\\\\\operatorname{y_{2}}{\\left(x,y,z \\right)}\\\\\\operatorname{z_{2}}{\\left(x,y,z \\right)}\\end{array} \\right] \\]"
      ],
      "text/plain": [
       "3-element Array{Sym,1}:\n",
       " x2(x, y, z)\n",
       " y2(x, y, z)\n",
       " z2(x, y, z)"
      ]
     },
     "execution_count": 6,
     "metadata": {},
     "output_type": "execute_result"
    }
   ],
   "source": [
    "x2 =  x2_(x,y,z)\n",
    "y2 =  y2_(x,y,z)\n",
    "z2 =  z2_(x,y,z)\n",
    "r = [x2,y2,z2]"
   ]
  },
  {
   "cell_type": "code",
   "execution_count": 36,
   "metadata": {},
   "outputs": [
    {
     "data": {
      "text/latex": [
       "\\[ \\left[ \\begin{array}{r}x + 2\\\\y + 3\\\\z + 7\\end{array} \\right] \\]"
      ],
      "text/plain": [
       "3-element Array{Sym,1}:\n",
       " x + 2\n",
       " y + 3\n",
       " z + 7"
      ]
     },
     "execution_count": 36,
     "metadata": {},
     "output_type": "execute_result"
    }
   ],
   "source": [
    "q = sympy.Lambda( sympy.Tuple(x, y , z ) , x + 2 )\n",
    "#sympy.Lambda( x, y , z  , x + 2 )\n",
    "#x2.subs(x2_ , q)\n",
    "s = Dict(x2_ => sympy.Lambda( sympy.Tuple(x, y , z ) , x + 2 ),\n",
    "y2_ => sympy.Lambda( sympy.Tuple(x, y , z ) , y + 3 ),\n",
    "z2_ => sympy.Lambda( sympy.Tuple(x, y , z ) , z + 7 ))\n",
    "\n",
    "#[  e.subs(x2_, sympy.Lambda( sympy.Tuple(x, y , z ) , x + 2 ))   for e in r]\n",
    "simple_trans = [  e.subs(s)   for e in r]\n",
    "\n",
    "\n",
    "\n"
   ]
  },
  {
   "cell_type": "code",
   "execution_count": 53,
   "metadata": {},
   "outputs": [
    {
     "data": {
      "text/latex": [
       "\\[ \\left[ \\begin{array}{r}x \\cos{\\left(\\theta \\right)} - y \\sin{\\left(\\theta \\right)}\\\\x \\sin{\\left(\\theta \\right)} + y \\cos{\\left(\\theta \\right)}\\\\z\\end{array} \\right] \\]"
      ],
      "text/plain": [
       "3-element Array{Sym,1}:\n",
       " x*cos(theta) - y*sin(theta)\n",
       " x*sin(theta) + y*cos(theta)\n",
       "                           z"
      ]
     },
     "execution_count": 53,
     "metadata": {},
     "output_type": "execute_result"
    }
   ],
   "source": [
    "@vars θ\n",
    "θ = symbols(\"theta\", real=True)\n",
    "s = Dict(x2_ => sympy.Lambda( sympy.Tuple(x, y , z ) , cos(θ) * x - sin(θ) * y ),\n",
    "y2_ => sympy.Lambda( sympy.Tuple(x, y , z ) , cos(θ)*y + sin(θ) * x),\n",
    "z2_ => sympy.Lambda( sympy.Tuple(x, y , z ) , z ))\n",
    "\n",
    "xyrot = [e.subs(s) for e in r]"
   ]
  },
  {
   "cell_type": "markdown",
   "metadata": {},
   "source": [
    "We can consider the jacobian of this trasfornamtion\n",
    "\n",
    "\n"
   ]
  },
  {
   "cell_type": "code",
   "execution_count": 30,
   "metadata": {},
   "outputs": [
    {
     "data": {
      "text/plain": [
       "jac (generic function with 1 method)"
      ]
     },
     "execution_count": 30,
     "metadata": {},
     "output_type": "execute_result"
    }
   ],
   "source": [
    "#jac(r) = [[diff(e,v)  for e in r ] for v in [x,y,z]]\n",
    "jac(r) = [diff(e,v)  for e=r, v=[x,y,z]]"
   ]
  },
  {
   "cell_type": "code",
   "execution_count": 31,
   "metadata": {},
   "outputs": [
    {
     "data": {
      "text/latex": [
       "\\[\\left[ \\begin{array}{rrr}\\frac{\\partial}{\\partial x} \\operatorname{x_{2}}{\\left(x,y,z \\right)}&\\frac{\\partial}{\\partial y} \\operatorname{x_{2}}{\\left(x,y,z \\right)}&\\frac{\\partial}{\\partial z} \\operatorname{x_{2}}{\\left(x,y,z \\right)}\\\\\\frac{\\partial}{\\partial x} \\operatorname{y_{2}}{\\left(x,y,z \\right)}&\\frac{\\partial}{\\partial y} \\operatorname{y_{2}}{\\left(x,y,z \\right)}&\\frac{\\partial}{\\partial z} \\operatorname{y_{2}}{\\left(x,y,z \\right)}\\\\\\frac{\\partial}{\\partial x} \\operatorname{z_{2}}{\\left(x,y,z \\right)}&\\frac{\\partial}{\\partial y} \\operatorname{z_{2}}{\\left(x,y,z \\right)}&\\frac{\\partial}{\\partial z} \\operatorname{z_{2}}{\\left(x,y,z \\right)}\\end{array}\\right]\\]"
      ],
      "text/plain": [
       "3×3 Array{Sym,2}:\n",
       " Derivative(x2(x, y, z), x)  …  Derivative(x2(x, y, z), z)\n",
       " Derivative(y2(x, y, z), x)     Derivative(y2(x, y, z), z)\n",
       " Derivative(z2(x, y, z), x)     Derivative(z2(x, y, z), z)"
      ]
     },
     "execution_count": 31,
     "metadata": {},
     "output_type": "execute_result"
    }
   ],
   "source": [
    "jac(r)"
   ]
  },
  {
   "cell_type": "code",
   "execution_count": 71,
   "metadata": {},
   "outputs": [
    {
     "data": {
      "text/latex": [
       "\\[ \\left[ \\begin{array}{r}dx\\\\dy\\\\dz\\end{array} \\right] \\]"
      ],
      "text/plain": [
       "3-element Array{Sym,1}:\n",
       " dx\n",
       " dy\n",
       " dz"
      ]
     },
     "execution_count": 71,
     "metadata": {},
     "output_type": "execute_result"
    }
   ],
   "source": [
    "dx, dy, dz = symbols(\"dx dy dz\", real=true)\n",
    "dr = [dx, dy, dz]"
   ]
  },
  {
   "cell_type": "markdown",
   "metadata": {},
   "source": [
    "Applying the jacobian to a small initial vector tells you how long and wherre that length points after the transformation"
   ]
  },
  {
   "cell_type": "code",
   "execution_count": 35,
   "metadata": {},
   "outputs": [
    {
     "data": {
      "text/latex": [
       "\\[ \\left[ \\begin{array}{r}dx \\frac{\\partial}{\\partial x} \\operatorname{x_{2}}{\\left(x,y,z \\right)} + dy \\frac{\\partial}{\\partial y} \\operatorname{x_{2}}{\\left(x,y,z \\right)} + dz \\frac{\\partial}{\\partial z} \\operatorname{x_{2}}{\\left(x,y,z \\right)}\\\\dx \\frac{\\partial}{\\partial x} \\operatorname{y_{2}}{\\left(x,y,z \\right)} + dy \\frac{\\partial}{\\partial y} \\operatorname{y_{2}}{\\left(x,y,z \\right)} + dz \\frac{\\partial}{\\partial z} \\operatorname{y_{2}}{\\left(x,y,z \\right)}\\\\dx \\frac{\\partial}{\\partial x} \\operatorname{z_{2}}{\\left(x,y,z \\right)} + dy \\frac{\\partial}{\\partial y} \\operatorname{z_{2}}{\\left(x,y,z \\right)} + dz \\frac{\\partial}{\\partial z} \\operatorname{z_{2}}{\\left(x,y,z \\right)}\\end{array} \\right] \\]"
      ],
      "text/plain": [
       "3-element Array{Sym,1}:\n",
       " dx*Derivative(x2(x, y, z), x) + dy*Derivative(x2(x, y, z), y) + dz*Derivative(x2(x, y, z), z)\n",
       " dx*Derivative(y2(x, y, z), x) + dy*Derivative(y2(x, y, z), y) + dz*Derivative(y2(x, y, z), z)\n",
       " dx*Derivative(z2(x, y, z), x) + dy*Derivative(z2(x, y, z), y) + dz*Derivative(z2(x, y, z), z)"
      ]
     },
     "execution_count": 35,
     "metadata": {},
     "output_type": "execute_result"
    }
   ],
   "source": [
    "jac(r) * dr"
   ]
  },
  {
   "cell_type": "code",
   "execution_count": 38,
   "metadata": {},
   "outputs": [
    {
     "data": {
      "text/latex": [
       "\\[\\left[ \\begin{array}{rrr}1&0&0\\\\0&1&0\\\\0&0&1\\end{array}\\right]\\]"
      ],
      "text/plain": [
       "3×3 Array{Sym,2}:\n",
       " 1  0  0\n",
       " 0  1  0\n",
       " 0  0  1"
      ]
     },
     "execution_count": 38,
     "metadata": {},
     "output_type": "execute_result"
    }
   ],
   "source": [
    "jac(simple_trans)"
   ]
  },
  {
   "cell_type": "code",
   "execution_count": 40,
   "metadata": {},
   "outputs": [
    {
     "data": {
      "text/latex": [
       "\\[\\left[ \\begin{array}{rrr}\\cos{\\left(θ \\right)}&- \\sin{\\left(θ \\right)}&0\\\\\\sin{\\left(θ \\right)}&\\cos{\\left(θ \\right)}&0\\\\0&0&1\\end{array}\\right]\\]"
      ],
      "text/plain": [
       "3×3 Array{Sym,2}:\n",
       " cos(θ)  -sin(θ)  0\n",
       " sin(θ)   cos(θ)  0\n",
       "      0        0  1"
      ]
     },
     "execution_count": 40,
     "metadata": {},
     "output_type": "execute_result"
    }
   ],
   "source": [
    "jac(xyrot)"
   ]
  },
  {
   "cell_type": "markdown",
   "metadata": {},
   "source": [
    "The indentty movement or a simple translation or asimple rotation all can have non trivial seeming jacobians. However, these jacobians are orthogonal. They maintain the norm of the distance of a vector\n",
    "\n",
    "\n"
   ]
  },
  {
   "cell_type": "code",
   "execution_count": 75,
   "metadata": {},
   "outputs": [
    {
     "data": {
      "text/latex": [
       "\\begin{equation*}\\sqrt{dx^{2} + dy^{2} + dz^{2}}\\end{equation*}"
      ],
      "text/plain": [
       "   _________________\n",
       "  ╱   2     2     2 \n",
       "╲╱  dx  + dy  + dz  "
      ]
     },
     "execution_count": 75,
     "metadata": {},
     "output_type": "execute_result"
    }
   ],
   "source": [
    "using LinearAlgebra\n",
    "norm(dr)"
   ]
  },
  {
   "cell_type": "code",
   "execution_count": 74,
   "metadata": {},
   "outputs": [
    {
     "data": {
      "text/latex": [
       "\\begin{equation*}\\sqrt{dx^{2} + dy^{2} + dz^{2}}\\end{equation*}"
      ],
      "text/plain": [
       "   _________________\n",
       "  ╱   2     2     2 \n",
       "╲╱  dx  + dy  + dz  "
      ]
     },
     "execution_count": 74,
     "metadata": {},
     "output_type": "execute_result"
    }
   ],
   "source": [
    "simplify(norm(jac(xyrot) * dr))"
   ]
  },
  {
   "cell_type": "code",
   "execution_count": 72,
   "metadata": {},
   "outputs": [
    {
     "data": {
      "text/latex": [
       "\\begin{equation*}dx^{2} + dy^{2} + dz^{2}\\end{equation*}"
      ],
      "text/plain": [
       "  2     2     2\n",
       "dx  + dy  + dz "
      ]
     },
     "execution_count": 72,
     "metadata": {},
     "output_type": "execute_result"
    }
   ],
   "source": [
    "#simplify(((jac(xyrot)*dr).T * jac(xyrot)*dr)[1])"
   ]
  },
  {
   "cell_type": "markdown",
   "metadata": {},
   "source": [
    "So what is the mathemtical evidence of actual material stretching and distortion?\n",
    "\n",
    "\n",
    "Well the short unstafisyng answer is we sort of project off rotationas and translations\n",
    "\n"
   ]
  },
  {
   "cell_type": "code",
   "execution_count": 76,
   "metadata": {},
   "outputs": [
    {
     "data": {
      "text/plain": [
       "strain (generic function with 1 method)"
      ]
     },
     "execution_count": 76,
     "metadata": {},
     "output_type": "execute_result"
    }
   ],
   "source": [
    "strain(r) = (jac(r) + jac(r).T) / 2 - I"
   ]
  },
  {
   "cell_type": "code",
   "execution_count": 78,
   "metadata": {},
   "outputs": [
    {
     "data": {
      "text/plain": [
       "3×3 Array{Any,2}:\n",
       " cos(theta) - 1               0  0\n",
       "              0  cos(theta) - 1  0\n",
       "              0               0  0"
      ]
     },
     "execution_count": 78,
     "metadata": {},
     "output_type": "execute_result"
    }
   ],
   "source": [
    "strain(xyrot)"
   ]
  },
  {
   "cell_type": "code",
   "execution_count": 80,
   "metadata": {},
   "outputs": [
    {
     "data": {
      "text/latex": [
       "\\[\\left[ \\begin{array}{rrr}\\cos{\\left(\\theta \\right)}&- \\sin{\\left(\\theta \\right)}&0\\\\\\sin{\\left(\\theta \\right)}&\\cos{\\left(\\theta \\right)}&0\\\\0&0&1\\end{array}\\right]\\]"
      ],
      "text/plain": [
       "3×3 Array{Sym,2}:\n",
       " cos(theta)  -sin(theta)  0\n",
       " sin(theta)   cos(theta)  0\n",
       "          0            0  1"
      ]
     },
     "execution_count": 80,
     "metadata": {},
     "output_type": "execute_result"
    }
   ],
   "source": [
    "jac(xyrot)"
   ]
  },
  {
   "cell_type": "code",
   "execution_count": null,
   "metadata": {},
   "outputs": [],
   "source": []
  }
 ],
 "metadata": {
  "kernelspec": {
   "display_name": "Julia 1.4.1",
   "language": "julia",
   "name": "julia-1.4"
  },
  "language_info": {
   "file_extension": ".jl",
   "mimetype": "application/julia",
   "name": "julia",
   "version": "1.4.1"
  }
 },
 "nbformat": 4,
 "nbformat_minor": 4
}
