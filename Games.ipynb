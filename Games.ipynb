{
 "cells": [
  {
   "cell_type": "markdown",
   "metadata": {},
   "source": [
    "The minmax algorithm is a classic approach to solving sequential games. \n",
    "\n"
   ]
  },
  {
   "cell_type": "code",
   "execution_count": 8,
   "metadata": {},
   "outputs": [
    {
     "ename": "IndentationError",
     "evalue": "expected an indented block (<ipython-input-8-42054cc4b897>, line 5)",
     "output_type": "error",
     "traceback": [
      "\u001b[0;36m  File \u001b[0;32m\"<ipython-input-8-42054cc4b897>\"\u001b[0;36m, line \u001b[0;32m5\u001b[0m\n\u001b[0;31m    def playerO(board):\u001b[0m\n\u001b[0m      ^\u001b[0m\n\u001b[0;31mIndentationError\u001b[0m\u001b[0;31m:\u001b[0m expected an indented block\n"
     ]
    }
   ],
   "source": [
    "init_board = [[None,None,None]]*3\n",
    "\n",
    "def open_locs(board):\n",
    "    ''' returns a list of indices of spots for which the board is still None'''\n",
    "    return [(i,j) for (i,row) in enumerate(board) for (j,spot) in enumerate(row) if spot == None]\n",
    "\n",
    "def row_win(row):\n",
    "    ''' check for three in a row. return None if no winner in this row '''\n",
    "    y = row[0]\n",
    "    if y == None:\n",
    "        return None\n",
    "    if all(x == y for x in row):\n",
    "        return y\n",
    "    return None\n",
    "\n",
    "def board_win(board):\n",
    "    ''' returns who has won the board '''\n",
    "    diag =  [board[i][i] for i in range(3)]\n",
    "    diag2 = [board[2-i][i] for i in range(3)]\n",
    "\n",
    "    checks = []\n",
    "    checks += board # check rows\n",
    "    checks += diag\n",
    "    checks += diag2\n",
    "    checks += zip(*board) # check cols. Funny transpose trick\n",
    "    \n",
    "    for check in checks:\n",
    "        winner = row_win(check)\n",
    "        if winner != None:\n",
    "            return winner\n",
    "    return None\n",
    "\n",
    "def playerX(board):\n",
    "    ''' takes a board and performs a search to see the best this player can do. Returns reward 1 if win '''\n",
    "    winner = board_win(board)\n",
    "    if winner == \"X\":\n",
    "        return 1\n",
    "    elif winner == \"O\":\n",
    "        return -1\n",
    "    elif winner == None:\n",
    "        best_rew = -100 # accumulator for best reward\n",
    "        for (i,j) in open_locs(board): #what about draw?\n",
    "            board[i][j] = \"X\"\n",
    "            rewO = playerO(board)\n",
    "            board[i][j] = None #reset board state\n",
    "            \n",
    "            rewX = -rewO\n",
    "            if rewX >= best_rew:\n",
    "                best_rew = rewX\n",
    "        return best_rew\n",
    "\n",
    "        \n",
    "def playerO(board):"
   ]
  },
  {
   "cell_type": "code",
   "execution_count": 10,
   "metadata": {},
   "outputs": [
    {
     "data": {
      "text/plain": [
       "[[None, None, None], [None, None, None], [None, None, None]]"
      ]
     },
     "execution_count": 10,
     "metadata": {},
     "output_type": "execute_result"
    }
   ],
   "source": [
    "init_board = [[None]*3]*3 # oh python, you cheeky fellow\n",
    "init_board"
   ]
  },
  {
   "cell_type": "code",
   "execution_count": 12,
   "metadata": {},
   "outputs": [],
   "source": []
  },
  {
   "cell_type": "code",
   "execution_count": 13,
   "metadata": {},
   "outputs": [
    {
     "data": {
      "text/plain": [
       "[(0, 0), (0, 1), (0, 2), (1, 0), (1, 1), (1, 2), (2, 0), (2, 1), (2, 2)]"
      ]
     },
     "execution_count": 13,
     "metadata": {},
     "output_type": "execute_result"
    }
   ],
   "source": [
    "open_locs(init_board)"
   ]
  },
  {
   "cell_type": "code",
   "execution_count": 14,
   "metadata": {},
   "outputs": [
    {
     "ename": "NameError",
     "evalue": "name 'reduce' is not defined",
     "output_type": "error",
     "traceback": [
      "\u001b[0;31m---------------------------------------------------------------------------\u001b[0m",
      "\u001b[0;31mNameError\u001b[0m                                 Traceback (most recent call last)",
      "\u001b[0;32m<ipython-input-14-fc515c343c9f>\u001b[0m in \u001b[0;36m<module>\u001b[0;34m\u001b[0m\n\u001b[0;32m----> 1\u001b[0;31m \u001b[0mreduce\u001b[0m\u001b[0;34m(\u001b[0m\u001b[0;32mlambda\u001b[0m \u001b[0mx\u001b[0m\u001b[0;34m,\u001b[0m\u001b[0my\u001b[0m\u001b[0;34m:\u001b[0m \u001b[0mx\u001b[0m \u001b[0;34m==\u001b[0m \u001b[0my\u001b[0m\u001b[0;34m,\u001b[0m \u001b[0mrow\u001b[0m\u001b[0;34m)\u001b[0m\u001b[0;34m\u001b[0m\u001b[0;34m\u001b[0m\u001b[0m\n\u001b[0m",
      "\u001b[0;31mNameError\u001b[0m: name 'reduce' is not defined"
     ]
    }
   ],
   "source": []
  },
  {
   "cell_type": "markdown",
   "metadata": {},
   "source": [
    "A very easy way to abstract and generalize a function is just look at the piece you want to abstract over and make it an argument to the function. We want to make an open game, so we need to be able to plug in the next player.\n",
    "\n",
    "\n",
    "This doesn't work consistently though. The call to nextPlayer should need a nextnextPlayer parameter now.\n"
   ]
  },
  {
   "cell_type": "code",
   "execution_count": null,
   "metadata": {},
   "outputs": [],
   "source": [
    "def playerX(board, nextPlayer):\n",
    "    winner = board_win(board)\n",
    "    if winner == None:\n",
    "        for (i,j) in open_locs(board):\n",
    "            board[i][j] = \"X\"\n",
    "            rew = nextPlayer(board)\n",
    "            board[i][j] = None #reset board state\n",
    "    elif winner == \"X\":\n",
    "        return 1\n",
    "    elif winner == \"O\":\n",
    "        return -1"
   ]
  },
  {
   "cell_type": "markdown",
   "metadata": {},
   "source": [
    "type Player = state, nextPlayer \n",
    "\n",
    "It seems a little conceptually strange that the players check "
   ]
  },
  {
   "cell_type": "markdown",
   "metadata": {},
   "source": [
    "(continutation, []\n",
    " \n",
    " \n",
    " It really looks like Traversal is the right notion\n",
    " \n",
    " a -> exists n (b^n, c^n -> d). This is difficult to express without funny types, but traversable does it easily\n",
    " \n",
    " \n",
    " a -> (  , max [] -> d)\n",
    " \n",
    " -- this one really feels like an iteratee / coroutine\n",
    "data Matcher a b d =  More a (b -> Matcher a b) | Done d\n",
    " \n",
    "nextboards = []\n",
    "winner :: \n",
    " \n",
    " \n",
    "type Traversish s t a b = s -> Matcher a b t  \n",
    " \n",
    "\n",
    "\n",
    "s -> D (e, a)\n",
    " e b -> D t\n",
    " \n",
    " jules' open-games-hs\n",
    " \n",
    " \n",
    " \n",
    " \n",
    "The existential type as a label\n",
    "\n",
    "def forward(board):\n",
    "    return (world, newboard)\n",
    " \n",
    " \n",
    "@dataclass\n",
    "class Yield(  )\n",
    " \n",
    "def compose(f,g):\n",
    "    def res(x):\n",
    "        y = f(x)\n",
    "        if type(x) == Yield:\n",
    "           z = g(y)\n",
    "           x.cb\n",
    "           if type(z) == Yield:\n",
    "              \n",
    "               def cb(dz):\n",
    "                  y2 = z.cb(dz)\n",
    "                  if type(y2) == Yield:\n",
    "                  if type(y2) == Done:\n",
    "                      y.cb(y2.data)\n",
    "              \n",
    "               return Yield( y,     )\n",
    "           \n",
    "        if x == None:\n",
    "\n",
    "\n",
    "data Fella a b t = Yield a (b -> Fella a b t) | Done t\n",
    "L s t a b = s -> Fella a b t\n",
    "\n",
    "compose :: L s t a b -> L a b x y -> L s t x y\n",
    "compose f g = \\s ->  z = f s\n",
    "                     t  = go z g\n",
    "                     where \n",
    "                     go :: Fella a b t -> L a b x y -> Fella x y b\n",
    " \n",
    "  \n",
    " \n",
    " wait, can't i make compose work?\n",
    " \n",
    " compose(f,g):\n",
    "     def res(cb):\n",
    "        return f(x, lambda y: g(y,cb))\n",
    "     return res\n",
    " \n",
    " \n",
    " and then we can cap it off with something that doesn't use cb.\n",
    " cb is an oracle value function\n",
    " \n",
    " \n",
    " \n",
    " \n",
    " \n",
    " \n",
    " "
   ]
  }
 ],
 "metadata": {
  "kernelspec": {
   "display_name": "Python 3",
   "language": "python",
   "name": "python3"
  },
  "language_info": {
   "codemirror_mode": {
    "name": "ipython",
    "version": 3
   },
   "file_extension": ".py",
   "mimetype": "text/x-python",
   "name": "python",
   "nbconvert_exporter": "python",
   "pygments_lexer": "ipython3",
   "version": "3.7.5"
  }
 },
 "nbformat": 4,
 "nbformat_minor": 2
}
