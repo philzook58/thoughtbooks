{
 "cells": [
  {
   "cell_type": "code",
   "execution_count": 1,
   "metadata": {},
   "outputs": [],
   "source": [
    "using LinearAlgebra"
   ]
  },
  {
   "cell_type": "code",
   "execution_count": null,
   "metadata": {},
   "outputs": [],
   "source": [
    "struct Quad \n",
    "    A\n",
    "    b\n",
    "    c\n",
    "end\n",
    "\n",
    "\n"
   ]
  },
  {
   "cell_type": "code",
   "execution_count": 34,
   "metadata": {},
   "outputs": [
    {
     "name": "stderr",
     "output_type": "stream",
     "text": [
      "┌ Info: Precompiling BlockArrays [8e7c35d0-a365-5155-bbbb-fb81a777f24e]\n",
      "└ @ Base loading.jl:1260\n"
     ]
    }
   ],
   "source": [
    "using BlockArrays"
   ]
  },
  {
   "cell_type": "code",
   "execution_count": 62,
   "metadata": {},
   "outputs": [
    {
     "ename": "ArgumentError",
     "evalue": "ArgumentError: invalid index: (Block{1,Int64}[Block(1), Block(2)], Block{1,Int64}[Block(1), Block(2)]) of type Tuple{BlockRange{1,Tuple{UnitRange{Int64}}},BlockRange{1,Tuple{UnitRange{Int64}}}}",
     "output_type": "error",
     "traceback": [
      "ArgumentError: invalid index: (Block{1,Int64}[Block(1), Block(2)], Block{1,Int64}[Block(1), Block(2)]) of type Tuple{BlockRange{1,Tuple{UnitRange{Int64}}},BlockRange{1,Tuple{UnitRange{Int64}}}}",
      "",
      "Stacktrace:",
      " [1] to_index(::Tuple{BlockRange{1,Tuple{UnitRange{Int64}}},BlockRange{1,Tuple{UnitRange{Int64}}}}) at ./indices.jl:297",
      " [2] to_index(::BlockArray{Float64,2,Array{Array{Float64,2},2},Tuple{BlockedUnitRange{Array{Int64,1}},BlockedUnitRange{Array{Int64,1}}}}, ::Tuple{BlockRange{1,Tuple{UnitRange{Int64}}},BlockRange{1,Tuple{UnitRange{Int64}}}}) at ./indices.jl:274",
      " [3] to_indices at ./indices.jl:325 [inlined]",
      " [4] to_indices at ./indices.jl:322 [inlined]",
      " [5] getindex(::BlockArray{Float64,2,Array{Array{Float64,2},2},Tuple{BlockedUnitRange{Array{Int64,1}},BlockedUnitRange{Array{Int64,1}}}}, ::Tuple{BlockRange{1,Tuple{UnitRange{Int64}}},BlockRange{1,Tuple{UnitRange{Int64}}}}) at ./abstractarray.jl:980",
      " [6] top-level scope at In[62]:8"
     ]
    }
   ],
   "source": [
    "\n",
    "A = BlockArray(rand(4, 5), [1,3], [2,3])\n",
    "#A[Block(1,2)]\n",
    "#blockaxes(A)\n",
    "#BlockArrays.blocklengths(A)\n",
    "blocksize(A)\n",
    "A[Block(1,1)]\n",
    "blockaxes(A)\n"
   ]
  },
  {
   "cell_type": "code",
   "execution_count": null,
   "metadata": {},
   "outputs": [],
   "source": [
    "function compose( f :: Quad, g :: Quad)\n",
    "    A = f[Block(2,2)] + g[Block(1,1)]\n",
    "    Q = BlockArray(  [f[Block(1,1 )]    0          ; \n",
    "                       0              g[Block(2,2)]    ) \n",
    "    return  Q -  [ f[] ;  g[]   ]  * inv(A)\n",
    "    \n",
    "    \n",
    "end"
   ]
  },
  {
   "cell_type": "code",
   "execution_count": 2,
   "metadata": {},
   "outputs": [],
   "source": [
    "using SymPy"
   ]
  },
  {
   "cell_type": "code",
   "execution_count": 31,
   "metadata": {},
   "outputs": [
    {
     "data": {
      "text/latex": [
       "\\begin{equation*}s\\end{equation*}"
      ],
      "text/plain": [
       "s"
      ]
     },
     "execution_count": 31,
     "metadata": {},
     "output_type": "execute_result"
    }
   ],
   "source": [
    "@vars n m\n",
    "A = sympy.MatrixSymbol(\"A\", n,n)\n",
    "B = sympy.MatrixSymbol(\"B\", n,m)\n",
    "C = sympy.MatrixSymbol(\"C\", m,n)\n",
    "D = sympy.MatrixSymbol(\"D\", m,m)\n",
    "x = sympy.MatrixSymbol(\"x\", n,1)\n",
    "y = sympy.MatrixSymbol(\"y\", m,1)\n",
    "\n",
    "t = sympy.MatrixSymbol(\"t\", n,1)\n",
    "s = sympy.MatrixSymbol(\"s\", m,1)\n"
   ]
  },
  {
   "cell_type": "code",
   "execution_count": 32,
   "metadata": {},
   "outputs": [
    {
     "data": {
      "text/latex": [
       "\\begin{equation*}\\left[\\begin{matrix}x\\\\y\\end{matrix}\\right]\\end{equation*}"
      ],
      "text/plain": [
       "⎡x⎤\n",
       "⎢ ⎥\n",
       "⎣y⎦"
      ]
     },
     "execution_count": 32,
     "metadata": {},
     "output_type": "execute_result"
    }
   ],
   "source": [
    "Q = sympy.BlockMatrix( [A B ; C D] ) \n",
    "v = sympy.BlockMatrix(  [x ; y] )"
   ]
  },
  {
   "cell_type": "code",
   "execution_count": 33,
   "metadata": {},
   "outputs": [
    {
     "data": {
      "text/latex": [
       "\\begin{equation*}s^T y + t^T x + \\left[\\begin{matrix}x^T & y^T\\end{matrix}\\right] \\left[\\begin{matrix}A & B\\\\C & D\\end{matrix}\\right] \\left[\\begin{matrix}x\\\\y\\end{matrix}\\right]\\end{equation*}"
      ],
      "text/plain": [
       " T      T     ⎡ T   T⎤ ⎡A  B⎤ ⎡x⎤\n",
       "s ⋅y + t ⋅x + ⎣x   y ⎦⋅⎢    ⎥⋅⎢ ⎥\n",
       "                       ⎣C  D⎦ ⎣y⎦"
      ]
     },
     "execution_count": 33,
     "metadata": {},
     "output_type": "execute_result"
    }
   ],
   "source": [
    "(v.T * Q  * v) + t.T * x + s.T * y"
   ]
  },
  {
   "cell_type": "code",
   "execution_count": 8,
   "metadata": {},
   "outputs": [
    {
     "ename": "PyCall.PyError",
     "evalue": "PyError ($(Expr(:escape, :(ccall(#= /home/philip/.julia/packages/PyCall/zqDXB/src/pyfncall.jl:43 =# @pysym(:PyObject_Call), PyPtr, (PyPtr, PyPtr, PyPtr), o, pyargsptr, kw))))) <class 'AttributeError'>\nAttributeError(\"'str' object has no attribute 'is_Piecewise'\",)\n  File \"/home/philip/.local/lib/python3.6/site-packages/sympy/solvers/solvers.py\", line 1058, in solve\n    if _has_piecewise(fi):\n  File \"/home/philip/.local/lib/python3.6/site-packages/sympy/solvers/solvers.py\", line 1056, in _has_piecewise\n    return any([_has_piecewise(a) for a in e.args])\n  File \"/home/philip/.local/lib/python3.6/site-packages/sympy/solvers/solvers.py\", line 1056, in <listcomp>\n    return any([_has_piecewise(a) for a in e.args])\n  File \"/home/philip/.local/lib/python3.6/site-packages/sympy/solvers/solvers.py\", line 1056, in _has_piecewise\n    return any([_has_piecewise(a) for a in e.args])\n  File \"/home/philip/.local/lib/python3.6/site-packages/sympy/solvers/solvers.py\", line 1056, in <listcomp>\n    return any([_has_piecewise(a) for a in e.args])\n  File \"/home/philip/.local/lib/python3.6/site-packages/sympy/solvers/solvers.py\", line 1056, in _has_piecewise\n    return any([_has_piecewise(a) for a in e.args])\n  File \"/home/philip/.local/lib/python3.6/site-packages/sympy/solvers/solvers.py\", line 1056, in <listcomp>\n    return any([_has_piecewise(a) for a in e.args])\n  File \"/home/philip/.local/lib/python3.6/site-packages/sympy/solvers/solvers.py\", line 1056, in _has_piecewise\n    return any([_has_piecewise(a) for a in e.args])\n  File \"/home/philip/.local/lib/python3.6/site-packages/sympy/solvers/solvers.py\", line 1056, in <listcomp>\n    return any([_has_piecewise(a) for a in e.args])\n  File \"/home/philip/.local/lib/python3.6/site-packages/sympy/solvers/solvers.py\", line 1054, in _has_piecewise\n    if e.is_Piecewise:\n",
     "output_type": "error",
     "traceback": [
      "PyError ($(Expr(:escape, :(ccall(#= /home/philip/.julia/packages/PyCall/zqDXB/src/pyfncall.jl:43 =# @pysym(:PyObject_Call), PyPtr, (PyPtr, PyPtr, PyPtr), o, pyargsptr, kw))))) <class 'AttributeError'>\nAttributeError(\"'str' object has no attribute 'is_Piecewise'\",)\n  File \"/home/philip/.local/lib/python3.6/site-packages/sympy/solvers/solvers.py\", line 1058, in solve\n    if _has_piecewise(fi):\n  File \"/home/philip/.local/lib/python3.6/site-packages/sympy/solvers/solvers.py\", line 1056, in _has_piecewise\n    return any([_has_piecewise(a) for a in e.args])\n  File \"/home/philip/.local/lib/python3.6/site-packages/sympy/solvers/solvers.py\", line 1056, in <listcomp>\n    return any([_has_piecewise(a) for a in e.args])\n  File \"/home/philip/.local/lib/python3.6/site-packages/sympy/solvers/solvers.py\", line 1056, in _has_piecewise\n    return any([_has_piecewise(a) for a in e.args])\n  File \"/home/philip/.local/lib/python3.6/site-packages/sympy/solvers/solvers.py\", line 1056, in <listcomp>\n    return any([_has_piecewise(a) for a in e.args])\n  File \"/home/philip/.local/lib/python3.6/site-packages/sympy/solvers/solvers.py\", line 1056, in _has_piecewise\n    return any([_has_piecewise(a) for a in e.args])\n  File \"/home/philip/.local/lib/python3.6/site-packages/sympy/solvers/solvers.py\", line 1056, in <listcomp>\n    return any([_has_piecewise(a) for a in e.args])\n  File \"/home/philip/.local/lib/python3.6/site-packages/sympy/solvers/solvers.py\", line 1056, in _has_piecewise\n    return any([_has_piecewise(a) for a in e.args])\n  File \"/home/philip/.local/lib/python3.6/site-packages/sympy/solvers/solvers.py\", line 1056, in <listcomp>\n    return any([_has_piecewise(a) for a in e.args])\n  File \"/home/philip/.local/lib/python3.6/site-packages/sympy/solvers/solvers.py\", line 1054, in _has_piecewise\n    if e.is_Piecewise:\n",
      "",
      "Stacktrace:",
      " [1] pyerr_check at /home/philip/.julia/packages/PyCall/zqDXB/src/exception.jl:60 [inlined]",
      " [2] pyerr_check at /home/philip/.julia/packages/PyCall/zqDXB/src/exception.jl:64 [inlined]",
      " [3] _handle_error(::String) at /home/philip/.julia/packages/PyCall/zqDXB/src/exception.jl:81",
      " [4] macro expansion at /home/philip/.julia/packages/PyCall/zqDXB/src/exception.jl:95 [inlined]",
      " [5] #110 at /home/philip/.julia/packages/PyCall/zqDXB/src/pyfncall.jl:43 [inlined]",
      " [6] disable_sigint at ./c.jl:446 [inlined]",
      " [7] __pycall! at /home/philip/.julia/packages/PyCall/zqDXB/src/pyfncall.jl:42 [inlined]",
      " [8] _pycall!(::PyCall.PyObject, ::PyCall.PyObject, ::Tuple{Sym,Sym}, ::Int64, ::Ptr{Nothing}) at /home/philip/.julia/packages/PyCall/zqDXB/src/pyfncall.jl:29",
      " [9] _pycall!(::PyCall.PyObject, ::PyCall.PyObject, ::Tuple{Sym,Sym}, ::Base.Iterators.Pairs{Union{},Union{},Tuple{},NamedTuple{(),Tuple{}}}) at /home/philip/.julia/packages/PyCall/zqDXB/src/pyfncall.jl:11",
      " [10] (::PyCall.PyObject)(::Sym, ::Vararg{Sym,N} where N; kwargs::Base.Iterators.Pairs{Union{},Union{},Tuple{},NamedTuple{(),Tuple{}}}) at /home/philip/.julia/packages/PyCall/zqDXB/src/pyfncall.jl:86",
      " [11] (::PyCall.PyObject)(::Sym, ::Vararg{Sym,N} where N) at /home/philip/.julia/packages/PyCall/zqDXB/src/pyfncall.jl:86",
      " [12] solve(::Sym, ::Sym; kwargs::Base.Iterators.Pairs{Union{},Union{},Tuple{},NamedTuple{(),Tuple{}}}) at /home/philip/.julia/packages/SymPy/22zD6/src/importexport.jl:90",
      " [13] solve(::Sym, ::Sym) at /home/philip/.julia/packages/SymPy/22zD6/src/importexport.jl:90",
      " [14] top-level scope at In[8]:1"
     ]
    }
   ],
   "source": [
    "solve(a * x - b, x)"
   ]
  },
  {
   "cell_type": "code",
   "execution_count": null,
   "metadata": {},
   "outputs": [],
   "source": []
  }
 ],
 "metadata": {
  "kernelspec": {
   "display_name": "Julia 1.4.1",
   "language": "julia",
   "name": "julia-1.4"
  },
  "language_info": {
   "file_extension": ".jl",
   "mimetype": "application/julia",
   "name": "julia",
   "version": "1.4.1"
  }
 },
 "nbformat": 4,
 "nbformat_minor": 4
}
