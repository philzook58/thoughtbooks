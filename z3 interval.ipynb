{
 "cells": [
  {
   "cell_type": "code",
   "execution_count": 2,
   "metadata": {},
   "outputs": [
    {
     "name": "stdout",
     "output_type": "stream",
     "text": [
      "proved\n",
      "proved\n",
      "proved\n",
      "proved\n",
      "proved\n",
      "proved\n",
      "proved\n",
      "proved\n",
      "proved\n"
     ]
    }
   ],
   "source": [
    "from z3 import *\n",
    "p = Bool(\"p\")\n",
    "q = Bool(\"q\")\n",
    "prove(Implies(And(p,q), p)) # simple destruction of the And\n",
    "prove( And(p,q) == Not(Or(Not(p),Not(q)))) #De Morgan's Law\n",
    "\n",
    "x = Real(\"x\")\n",
    "y = Real(\"y\")\n",
    "z = Real(\"z\")\n",
    "prove(x + y == y + x) #Commutativity\n",
    "prove(((x + y) + z) == ((x + (y + z)))) #associativity\n",
    "prove(x + 0 == x) # 0 additive identity\n",
    "prove(1 * x == x)\n",
    "prove(Or(x > 0, x < 0, x == 0)) #trichotomy\n",
    "prove(x**2 >= 0) #positivity of a square\n",
    "prove(x * (y + z) == x * y + x * z) #distributive law\n"
   ]
  },
  {
   "cell_type": "markdown",
   "metadata": {},
   "source": [
    "Ok, here's our first sort of interesting example. Some properties of even and odd numbers. Even and Odd are natural predicates. What are possible choices to represent predictaes in z3?\n",
    "We can either choose python functions `IntSort -> BoolSort()` as predicates or we can make internal z3 functions `Function(IntSort(), BoolSort())`\n"
   ]
  },
  {
   "cell_type": "code",
   "execution_count": 29,
   "metadata": {},
   "outputs": [
    {
     "name": "stdout",
     "output_type": "stream",
     "text": [
      "proved\n",
      "proved\n",
      "failed to prove\n"
     ]
    },
    {
     "ename": "Z3Exception",
     "evalue": "model is not available",
     "output_type": "error",
     "traceback": [
      "\u001b[0;31m---------------------------------------------------------------------------\u001b[0m",
      "\u001b[0;31mZ3Exception\u001b[0m                               Traceback (most recent call last)",
      "\u001b[0;32m/usr/local/lib/python3.7/site-packages/z3/z3.py\u001b[0m in \u001b[0;36mmodel\u001b[0;34m(self)\u001b[0m\n\u001b[1;32m   6672\u001b[0m         \u001b[0;32mtry\u001b[0m\u001b[0;34m:\u001b[0m\u001b[0;34m\u001b[0m\u001b[0;34m\u001b[0m\u001b[0m\n\u001b[0;32m-> 6673\u001b[0;31m             \u001b[0;32mreturn\u001b[0m \u001b[0mModelRef\u001b[0m\u001b[0;34m(\u001b[0m\u001b[0mZ3_solver_get_model\u001b[0m\u001b[0;34m(\u001b[0m\u001b[0mself\u001b[0m\u001b[0;34m.\u001b[0m\u001b[0mctx\u001b[0m\u001b[0;34m.\u001b[0m\u001b[0mref\u001b[0m\u001b[0;34m(\u001b[0m\u001b[0;34m)\u001b[0m\u001b[0;34m,\u001b[0m \u001b[0mself\u001b[0m\u001b[0;34m.\u001b[0m\u001b[0msolver\u001b[0m\u001b[0;34m)\u001b[0m\u001b[0;34m,\u001b[0m \u001b[0mself\u001b[0m\u001b[0;34m.\u001b[0m\u001b[0mctx\u001b[0m\u001b[0;34m)\u001b[0m\u001b[0;34m\u001b[0m\u001b[0;34m\u001b[0m\u001b[0m\n\u001b[0m\u001b[1;32m   6674\u001b[0m         \u001b[0;32mexcept\u001b[0m \u001b[0mZ3Exception\u001b[0m\u001b[0;34m:\u001b[0m\u001b[0;34m\u001b[0m\u001b[0;34m\u001b[0m\u001b[0m\n",
      "\u001b[0;32m/usr/local/lib/python3.7/site-packages/z3/z3core.py\u001b[0m in \u001b[0;36mZ3_solver_get_model\u001b[0;34m(a0, a1, _elems)\u001b[0m\n\u001b[1;32m   3759\u001b[0m   \u001b[0mr\u001b[0m \u001b[0;34m=\u001b[0m \u001b[0m_elems\u001b[0m\u001b[0;34m.\u001b[0m\u001b[0mf\u001b[0m\u001b[0;34m(\u001b[0m\u001b[0ma0\u001b[0m\u001b[0;34m,\u001b[0m \u001b[0ma1\u001b[0m\u001b[0;34m)\u001b[0m\u001b[0;34m\u001b[0m\u001b[0;34m\u001b[0m\u001b[0m\n\u001b[0;32m-> 3760\u001b[0;31m   \u001b[0m_elems\u001b[0m\u001b[0;34m.\u001b[0m\u001b[0mCheck\u001b[0m\u001b[0;34m(\u001b[0m\u001b[0ma0\u001b[0m\u001b[0;34m)\u001b[0m\u001b[0;34m\u001b[0m\u001b[0;34m\u001b[0m\u001b[0m\n\u001b[0m\u001b[1;32m   3761\u001b[0m   \u001b[0;32mreturn\u001b[0m \u001b[0mr\u001b[0m\u001b[0;34m\u001b[0m\u001b[0;34m\u001b[0m\u001b[0m\n",
      "\u001b[0;32m/usr/local/lib/python3.7/site-packages/z3/z3core.py\u001b[0m in \u001b[0;36mCheck\u001b[0;34m(self, ctx)\u001b[0m\n\u001b[1;32m   1380\u001b[0m     \u001b[0;32mif\u001b[0m \u001b[0merr\u001b[0m \u001b[0;34m!=\u001b[0m \u001b[0mself\u001b[0m\u001b[0;34m.\u001b[0m\u001b[0mOK\u001b[0m\u001b[0;34m:\u001b[0m\u001b[0;34m\u001b[0m\u001b[0;34m\u001b[0m\u001b[0m\n\u001b[0;32m-> 1381\u001b[0;31m         \u001b[0;32mraise\u001b[0m \u001b[0mself\u001b[0m\u001b[0;34m.\u001b[0m\u001b[0mException\u001b[0m\u001b[0;34m(\u001b[0m\u001b[0mself\u001b[0m\u001b[0;34m.\u001b[0m\u001b[0mget_error_message\u001b[0m\u001b[0;34m(\u001b[0m\u001b[0mctx\u001b[0m\u001b[0;34m,\u001b[0m \u001b[0merr\u001b[0m\u001b[0;34m)\u001b[0m\u001b[0;34m)\u001b[0m\u001b[0;34m\u001b[0m\u001b[0;34m\u001b[0m\u001b[0m\n\u001b[0m\u001b[1;32m   1382\u001b[0m \u001b[0;34m\u001b[0m\u001b[0m\n",
      "\u001b[0;31mZ3Exception\u001b[0m: b'there is no current model'",
      "\nDuring handling of the above exception, another exception occurred:\n",
      "\u001b[0;31mZ3Exception\u001b[0m                               Traceback (most recent call last)",
      "\u001b[0;32m<ipython-input-29-86bb18e8160a>\u001b[0m in \u001b[0;36m<module>\u001b[0;34m\u001b[0m\n\u001b[1;32m      8\u001b[0m \u001b[0mprove\u001b[0m\u001b[0;34m(\u001b[0m\u001b[0mImplies\u001b[0m\u001b[0;34m(\u001b[0m \u001b[0mAnd\u001b[0m\u001b[0;34m(\u001b[0m\u001b[0mEven\u001b[0m\u001b[0;34m(\u001b[0m\u001b[0mx\u001b[0m\u001b[0;34m)\u001b[0m\u001b[0;34m,\u001b[0m \u001b[0mOdd\u001b[0m\u001b[0;34m(\u001b[0m\u001b[0my\u001b[0m\u001b[0;34m)\u001b[0m\u001b[0;34m)\u001b[0m \u001b[0;34m,\u001b[0m \u001b[0mOdd\u001b[0m\u001b[0;34m(\u001b[0m\u001b[0mx\u001b[0m \u001b[0;34m+\u001b[0m \u001b[0my\u001b[0m\u001b[0;34m)\u001b[0m\u001b[0;34m)\u001b[0m\u001b[0;34m)\u001b[0m\u001b[0;34m\u001b[0m\u001b[0;34m\u001b[0m\u001b[0m\n\u001b[1;32m      9\u001b[0m \u001b[0mprove\u001b[0m\u001b[0;34m(\u001b[0m\u001b[0mImplies\u001b[0m\u001b[0;34m(\u001b[0m \u001b[0mAnd\u001b[0m\u001b[0;34m(\u001b[0m\u001b[0mEven\u001b[0m\u001b[0;34m(\u001b[0m\u001b[0mx\u001b[0m\u001b[0;34m)\u001b[0m\u001b[0;34m,\u001b[0m \u001b[0mEven\u001b[0m\u001b[0;34m(\u001b[0m\u001b[0my\u001b[0m\u001b[0;34m)\u001b[0m\u001b[0;34m)\u001b[0m \u001b[0;34m,\u001b[0m \u001b[0mEven\u001b[0m\u001b[0;34m(\u001b[0m\u001b[0mx\u001b[0m \u001b[0;34m+\u001b[0m \u001b[0my\u001b[0m\u001b[0;34m)\u001b[0m\u001b[0;34m)\u001b[0m\u001b[0;34m)\u001b[0m\u001b[0;34m\u001b[0m\u001b[0;34m\u001b[0m\u001b[0m\n\u001b[0;32m---> 10\u001b[0;31m \u001b[0mprove\u001b[0m\u001b[0;34m(\u001b[0m\u001b[0mImplies\u001b[0m\u001b[0;34m(\u001b[0m \u001b[0mAnd\u001b[0m\u001b[0;34m(\u001b[0m\u001b[0mEven\u001b[0m\u001b[0;34m(\u001b[0m\u001b[0mx\u001b[0m\u001b[0;34m)\u001b[0m\u001b[0;34m,\u001b[0m \u001b[0mEven\u001b[0m\u001b[0;34m(\u001b[0m\u001b[0my\u001b[0m\u001b[0;34m)\u001b[0m\u001b[0;34m)\u001b[0m \u001b[0;34m,\u001b[0m \u001b[0mEven\u001b[0m\u001b[0;34m(\u001b[0m\u001b[0mx\u001b[0m \u001b[0;34m*\u001b[0m \u001b[0my\u001b[0m\u001b[0;34m)\u001b[0m\u001b[0;34m)\u001b[0m\u001b[0;34m)\u001b[0m\u001b[0;34m\u001b[0m\u001b[0;34m\u001b[0m\u001b[0m\n\u001b[0m",
      "\u001b[0;32m/usr/local/lib/python3.7/site-packages/z3/z3.py\u001b[0m in \u001b[0;36mprove\u001b[0;34m(claim, **keywords)\u001b[0m\n\u001b[1;32m   8478\u001b[0m     \u001b[0;32melif\u001b[0m \u001b[0mr\u001b[0m \u001b[0;34m==\u001b[0m \u001b[0munknown\u001b[0m\u001b[0;34m:\u001b[0m\u001b[0;34m\u001b[0m\u001b[0;34m\u001b[0m\u001b[0m\n\u001b[1;32m   8479\u001b[0m         \u001b[0mprint\u001b[0m\u001b[0;34m(\u001b[0m\u001b[0;34m\"failed to prove\"\u001b[0m\u001b[0;34m)\u001b[0m\u001b[0;34m\u001b[0m\u001b[0;34m\u001b[0m\u001b[0m\n\u001b[0;32m-> 8480\u001b[0;31m         \u001b[0mprint\u001b[0m\u001b[0;34m(\u001b[0m\u001b[0ms\u001b[0m\u001b[0;34m.\u001b[0m\u001b[0mmodel\u001b[0m\u001b[0;34m(\u001b[0m\u001b[0;34m)\u001b[0m\u001b[0;34m)\u001b[0m\u001b[0;34m\u001b[0m\u001b[0;34m\u001b[0m\u001b[0m\n\u001b[0m\u001b[1;32m   8481\u001b[0m     \u001b[0;32melse\u001b[0m\u001b[0;34m:\u001b[0m\u001b[0;34m\u001b[0m\u001b[0;34m\u001b[0m\u001b[0m\n\u001b[1;32m   8482\u001b[0m         \u001b[0mprint\u001b[0m\u001b[0;34m(\u001b[0m\u001b[0;34m\"counterexample\"\u001b[0m\u001b[0;34m)\u001b[0m\u001b[0;34m\u001b[0m\u001b[0;34m\u001b[0m\u001b[0m\n",
      "\u001b[0;32m/usr/local/lib/python3.7/site-packages/z3/z3.py\u001b[0m in \u001b[0;36mmodel\u001b[0;34m(self)\u001b[0m\n\u001b[1;32m   6673\u001b[0m             \u001b[0;32mreturn\u001b[0m \u001b[0mModelRef\u001b[0m\u001b[0;34m(\u001b[0m\u001b[0mZ3_solver_get_model\u001b[0m\u001b[0;34m(\u001b[0m\u001b[0mself\u001b[0m\u001b[0;34m.\u001b[0m\u001b[0mctx\u001b[0m\u001b[0;34m.\u001b[0m\u001b[0mref\u001b[0m\u001b[0;34m(\u001b[0m\u001b[0;34m)\u001b[0m\u001b[0;34m,\u001b[0m \u001b[0mself\u001b[0m\u001b[0;34m.\u001b[0m\u001b[0msolver\u001b[0m\u001b[0;34m)\u001b[0m\u001b[0;34m,\u001b[0m \u001b[0mself\u001b[0m\u001b[0;34m.\u001b[0m\u001b[0mctx\u001b[0m\u001b[0;34m)\u001b[0m\u001b[0;34m\u001b[0m\u001b[0;34m\u001b[0m\u001b[0m\n\u001b[1;32m   6674\u001b[0m         \u001b[0;32mexcept\u001b[0m \u001b[0mZ3Exception\u001b[0m\u001b[0;34m:\u001b[0m\u001b[0;34m\u001b[0m\u001b[0;34m\u001b[0m\u001b[0m\n\u001b[0;32m-> 6675\u001b[0;31m             \u001b[0;32mraise\u001b[0m \u001b[0mZ3Exception\u001b[0m\u001b[0;34m(\u001b[0m\u001b[0;34m\"model is not available\"\u001b[0m\u001b[0;34m)\u001b[0m\u001b[0;34m\u001b[0m\u001b[0;34m\u001b[0m\u001b[0m\n\u001b[0m\u001b[1;32m   6676\u001b[0m \u001b[0;34m\u001b[0m\u001b[0m\n\u001b[1;32m   6677\u001b[0m     \u001b[0;32mdef\u001b[0m \u001b[0mimport_model_converter\u001b[0m\u001b[0;34m(\u001b[0m\u001b[0mself\u001b[0m\u001b[0;34m,\u001b[0m \u001b[0mother\u001b[0m\u001b[0;34m)\u001b[0m\u001b[0;34m:\u001b[0m\u001b[0;34m\u001b[0m\u001b[0;34m\u001b[0m\u001b[0m\n",
      "\u001b[0;31mZ3Exception\u001b[0m: model is not available"
     ]
    }
   ],
   "source": [
    "x = Int(\"x\")\n",
    "y = Int(\"y\")\n",
    "def Even(x):\n",
    "    q = FreshInt()\n",
    "    return Exists([q], x == 2*q)\n",
    "def Odd(x):\n",
    "    return Not(Even(x))\n",
    "prove(Implies( And(Even(x), Odd(y)) , Odd(x + y)))\n",
    "prove(Implies( And(Even(x), Even(y)) , Even(x + y)))\n",
    "prove(Implies( And(Even(x), Even(y)) , Even(x * y)))"
   ]
  },
  {
   "cell_type": "markdown",
   "metadata": {},
   "source": [
    "Here's a simple inductive proof. Z3 can do induction, but you sort of have to do it manually, or with a combinator. Given a predicate f, inductionNat returns\n"
   ]
  },
  {
   "cell_type": "code",
   "execution_count": 6,
   "metadata": {},
   "outputs": [
    {
     "data": {
      "text/html": [
       "<b>unknown</b>"
      ],
      "text/plain": [
       "unknown"
      ]
     },
     "execution_count": 6,
     "metadata": {},
     "output_type": "execute_result"
    }
   ],
   "source": [
    "\n",
    "def inductionNat(f): # proves a predicate f forall nats by building s simple inductive version of f.\n",
    "    n = FreshInt()\n",
    "    return And(f(IntVal(0)), ForAll([n], Implies(And(n > 0, f(n)),  f(n+1))))\n",
    "'''\n",
    "# doesn't solve\n",
    "sumn = Function('sumn', IntSort(), IntSort())\n",
    "n = FreshInt()\n",
    "s = Solver()\n",
    "s.add(ForAll([n], sumn(n) == If(n == 0, 0, n + sumn(n-1))))\n",
    "claim = ForAll([n], Implies( n >= 0, sumn(n) == n * (n+1) / 2))\n",
    "s.add(Not(claim))\n",
    "s.check()\n",
    "'''\n",
    "# solves immediately\n",
    "sumn = Function('sumn', IntSort(), IntSort())\n",
    "n = FreshInt()\n",
    "s = Solver()\n",
    "s.add(ForAll([n], sumn(n) == If(n == 0, 0, n + sumn(n-1))))\n",
    "claim = inductionNat(lambda n : sumn(n) == n * (n+1) / 2)\n",
    "s.add(Not(claim))\n",
    "s.check() #comes back unsat = proven"
   ]
  },
  {
   "cell_type": "markdown",
   "metadata": {},
   "source": [
    "Here's another cute and stupid trick.. Z3 doesn't have a built in sine or cosine. Perhaps you would want to look into dreal if you think you might be heavily looking into such things. However, sine and cosine are actually defined implicitly via a couple of their formula. So we can instantiate \n",
    "A slightly counterintuitive thing is that we can't use thi to directly compute sine and cosine values. That would require returning a model, which would include a model of sine and cosine, which z3 cannot express.\n",
    "However, we can try to assert false facts about sine and cosine and z3 can prove they are in fact unsatisfiable. In this way we can narrow down "
   ]
  },
  {
   "cell_type": "code",
   "execution_count": 21,
   "metadata": {},
   "outputs": [
    {
     "data": {
      "text/html": [
       "<b>unsat</b>"
      ],
      "text/plain": [
       "unsat"
      ]
     },
     "execution_count": 21,
     "metadata": {},
     "output_type": "execute_result"
    }
   ],
   "source": [
    "sin = Function(\"sin\", RealSort(), RealSort())\n",
    "cos = Function(\"cos\", RealSort(), RealSort())\n",
    "x = Real('x')\n",
    "trig =  [sin(0) == 0,\n",
    "         cos(0) == 1,\n",
    "         sin(180) == 0,\n",
    "         cos(180) == -1, # Using degrees is easier than radians. We have no pi.\n",
    "         ForAll([x], sin(2*x) == 2*sin(x)*cos(x)),\n",
    "         ForAll([x], sin(x)*sin(x) + cos(x) * cos(x) == 1),\n",
    "         ForAll([x], cos(2*x) == cos(x)*cos(x) - sin(x) * sin(x))]\n",
    "s = Solver()\n",
    "s.set(auto_config=False, mbqi=False)\n",
    "s.add(trig)\n",
    "s.add( RealVal(1 / np.sqrt(2) + 0.0000000000000001) <= cos(45))\n",
    "s.check()"
   ]
  },
  {
   "cell_type": "markdown",
   "metadata": {},
   "source": [
    "A trick that I like to use sometimes is embedding objects in numpy arrays. Numpy slicing is the best thing since sliced bread. A lot, but not all, of numpy operations come for free. Only some are implemented in terms of overloadable operations. here we can prove the cauchy schwartz inequality for a particular vector and axioms of vector spaces."
   ]
  },
  {
   "cell_type": "code",
   "execution_count": 19,
   "metadata": {},
   "outputs": [
    {
     "name": "stdout",
     "output_type": "stream",
     "text": [
      "proved\n",
      "proved\n",
      "proved\n",
      "proved\n",
      "proved\n"
     ]
    }
   ],
   "source": [
    "import numpy as np\n",
    "import operator as op\n",
    "def NPArray(n, prefix=None, dtype=RealSort()):\n",
    "    return np.array( [FreshConst(dtype, prefix=prefix) for i in range(n)] )\n",
    "v = NPArray(3)\n",
    "w = NPArray(3)\n",
    "l = Real(\"l\")\n",
    "\n",
    "prove( np.dot(v,w * l) == l * np.dot(v,w) ) # linearity of dot product\n",
    "prove(np.dot(v, w)**2 <= np.dot(v,v) * np.dot(w,w)) # cauchy schwartz\n",
    "\n",
    "def vec_eq(x,y): # a vectorized z3 equality\n",
    "    return And(np.vectorize(op.eq)(x,y).tolist())\n",
    "\n",
    "prove( vec_eq((v + w) * l, v * l + w * l)) # distributivity of scalar multiplication\n",
    "\n",
    "z = NPArray(9).reshape(3,3) # some matrix\n",
    "prove( vec_eq( z @ (v + w) , z @ v + z @ w )) # linearity of matrix multiply\n",
    "prove( vec_eq( z @ (v * l) , (z @ v) * l))    # linearity of matrix multiply"
   ]
  },
  {
   "cell_type": "markdown",
   "metadata": {},
   "source": [
    "Defining and proving simple properties of Min and Max functions"
   ]
  },
  {
   "cell_type": "code",
   "execution_count": 24,
   "metadata": {},
   "outputs": [
    {
     "name": "stdout",
     "output_type": "stream",
     "text": [
      "proved\n",
      "proved\n",
      "proved\n",
      "proved\n"
     ]
    }
   ],
   "source": [
    "from functools import reduce\n",
    "def Max1(x,y):\n",
    "    return If(x <= y, y, x)\n",
    "def Min1(x,y):\n",
    "    return If(x <= y, x, y)\n",
    "def Abs(x):\n",
    "    return If(x <= 0, -x, x)\n",
    "\n",
    "def Min(*args):\n",
    "    return reduce(Min1, args)\n",
    "def Max(*args):\n",
    "    return reduce(Max1, args)\n",
    "    \n",
    "z = Real('z')\n",
    "prove(z <= Max(x,y,z))\n",
    "prove(x <= Max(x,y))\n",
    "prove(Min(x,y) <= x)\n",
    "prove(Min(x,y) <= y)"
   ]
  },
  {
   "cell_type": "markdown",
   "metadata": {},
   "source": [
    "Proving the babylonian method is getting close to the right answer. The trci khere is that z3 can understand square roots. Also note because of python overloading, babylonian with work on regular numbers and symbolic z3 numbers."
   ]
  },
  {
   "cell_type": "code",
   "execution_count": 28,
   "metadata": {},
   "outputs": [
    {
     "name": "stdout",
     "output_type": "stream",
     "text": [
      "proved\n"
     ]
    }
   ],
   "source": [
    "def babylonian(x):\n",
    "    res = 1\n",
    "    for i in range(7):\n",
    "        res = (x / res + res) / 2\n",
    "    return res    \n",
    "\n",
    "x, y = Reals(\"x y\")\n",
    "prove(Implies(And(y**2 == x, y >= 0, 0 <= x, x <= 10), babylonian(x) - y <= 0.01))"
   ]
  },
  {
   "cell_type": "markdown",
   "metadata": {},
   "source": [
    "A funny thing we can do is define interval arithmetic using z3 variables. This might be a nice way of proving facts related to real analysis. Not sure.\n",
    "This is funny because z3 internally uses interval arithmetic. So what we're doing is either very idiotically circular  or pleasantly self-similar.\n",
    "We could use a similar arrangement to get complex numbers, which z3 does not natively support"
   ]
  },
  {
   "cell_type": "code",
   "execution_count": 27,
   "metadata": {},
   "outputs": [
    {
     "name": "stdout",
     "output_type": "stream",
     "text": [
      "proved\n",
      "proved\n",
      "proved\n",
      "proved\n",
      "proved\n",
      "proved\n"
     ]
    }
   ],
   "source": [
    "class Interval():\n",
    "    def __init__(self,l,r):\n",
    "        self.l = l\n",
    "        self.r = r\n",
    "    def __add__(self,rhs):\n",
    "        if type(rhs) == Interval:\n",
    "            return Interval(self.l + rhs.l, self.r + rhs.r)\n",
    "    def __sub__(self, rhs):\n",
    "        return Interval(self.l)\n",
    "    def __mul__(self,rhs):\n",
    "        combos = [self.l * rhs.l, self.l * rhs.r, self.r * rhs.l, self.r*rhs.r]\n",
    "        return Interval( Min(*combos), Max(*combos))\n",
    "    def fresh():\n",
    "        l = FreshReal()\n",
    "        r = FreshReal()\n",
    "        return Interval(l,r)\n",
    "            \n",
    "    def valid(self): # It is problematic that I have to rememeber to use this. A way around it?\n",
    "        return self.l <= self.r\n",
    "    def __le__(self,rhs): # Or( self.r < self.l ) (ie is bottom)\n",
    "        return And(rhs.l <= self.l, self.r <= rhs.r )\n",
    "    def __lt__(self,rhs):\n",
    "        return And(rhs.l < self.l, self.r < rhs.r )\n",
    "    def forall( eq ):\n",
    "        i = Interval.fresh()\n",
    "        return ForAll([i.l,i.r] , Implies(i.valid(), eq(i) ))\n",
    "    def elem(self,item):\n",
    "        return And(self.l <= item, item <= self.r) \n",
    "    def join(self,rhs):\n",
    "        return Interval(Min(self.l, rhs.l), Max(self.r, rhs.r))\n",
    "    def meet(self,rhs):\n",
    "        return Interval(Max(self.l, rhs.l), Min(self.r, rhs.r))\n",
    "    def width(self):\n",
    "        return self.r - self.l\n",
    "    def mid(self):\n",
    "        return (self.r + self.l)/2\n",
    "    def bisect(self):\n",
    "        return Interval(self.l, self.mid()), Interval(self.mid(), self.r)\n",
    "    def point(x):\n",
    "        return Interval(x,x)\n",
    "    def recip(self): #assume 0 is not in \n",
    "        return Interval(1/self.r, 1/self.l)\n",
    "    def __truediv__(self,rhs):\n",
    "        return self * rhs.recip()\n",
    "    def __repr__(self):\n",
    "        return f\"[{self.l} , {self.r}]\"\n",
    "    def pos(self):\n",
    "        return And(self.l > 0, self.r > 0)\n",
    "    def neg(self):\n",
    "        return And(self.l < 0, self.r < 0)\n",
    "    def non_zero(self):\n",
    "        return Or(self.pos(), self.neg())\n",
    "        \n",
    "x, y = Reals(\"x y\")\n",
    "i1 = Interval.fresh()\n",
    "i2 = Interval.fresh()\n",
    "i3 = Interval.fresh()\n",
    "i4 = Interval.fresh()\n",
    "\n",
    "prove(Implies(And(i1.elem(x), i2.elem(y)), (i1 + i2).elem(x + y)))\n",
    "prove(Implies(And(i1.elem(x), i2.elem(y)), (i1 * i2).elem(x * y)))\n",
    "\n",
    "prove(Implies( And(i1 <= i2, i2 <= i3), i1 <= i3  )) # transitivity of inclusion\n",
    "\n",
    "prove( Implies( And(i1.valid(), i2.valid(), i3.valid()),  i1 * (i2 + i3) <= i1 * i2 + i1 * i3)) #subdistributivty\n",
    "\n",
    "# isotonic\n",
    "prove(Implies( And( i1 <= i2, i3 <= i4  ),  (i1 + i3) <= i2 + i4 ))\n",
    "prove(Implies( And(i1.valid(), i2.valid(), i3.valid(), i4.valid(), i1 <= i2, i3 <= i4  ),  (i1 * i3) <= i2 * i4 ))"
   ]
  },
  {
   "cell_type": "code",
   "execution_count": null,
   "metadata": {},
   "outputs": [],
   "source": [
    "#parsing with z3\n",
    "'''\n",
    "make parse tree.\n",
    "make token list.\n",
    "Make relationship between them\n",
    "\n",
    "parse = Function\n",
    "Forall [a,b,l,r], Implies(  parse(a, l) parse(b,r) => parse( Node(a,b), l ++ r ))\n",
    "Implies(  parse(b, l)  , parse( b , \"(\" ++ l ++ \")\"  )  )\n",
    "parse( Nil , \"\") == True\n",
    "\n",
    "\n",
    "'''\n"
   ]
  },
  {
   "cell_type": "code",
   "execution_count": null,
   "metadata": {},
   "outputs": [],
   "source": [
    "'''\n",
    "Optimization with z3\n",
    "\n",
    "KKT conditions = \n",
    " \n",
    "min cx\n",
    "Ax >= 0\n",
    "\n",
    "=>\n",
    "min cx + lAx\n",
    "\n",
    "\n",
    "c + lA == 0\n",
    "l >= 0\n",
    "A x >= 0\n",
    "Or(l == 0 , x == 0)\n",
    "\n",
    "sooooooo\n",
    "\n",
    "\n",
    "For that matter, nash equilibrium is easy enough to state? Mayyyybe\n",
    "\n",
    "\n",
    "\n",
    "'''\n",
    "\n",
    "\n"
   ]
  },
  {
   "cell_type": "code",
   "execution_count": 34,
   "metadata": {},
   "outputs": [
    {
     "data": {
      "text/html": [
       "[x = 0]"
      ],
      "text/plain": [
       "[x = 0]"
      ]
     },
     "execution_count": 34,
     "metadata": {},
     "output_type": "execute_result"
    }
   ],
   "source": [
    "# Minimization\n",
    "x, y  = Reals(\"x y\")\n",
    "s = Solver()\n",
    "s.add(ForAll([y], x*x <= y*y))\n",
    "s.check()\n",
    "s.model()"
   ]
  },
  {
   "cell_type": "code",
   "execution_count": null,
   "metadata": {},
   "outputs": [],
   "source": [
    "# Minimization\n",
    "x, y  = Ints(\"x y\")\n",
    "s = Solver()\n",
    "s.add(ForAll([y], 2 <= y*y))\n",
    "s.check()\n",
    "s.model()"
   ]
  },
  {
   "cell_type": "code",
   "execution_count": 45,
   "metadata": {},
   "outputs": [
    {
     "data": {
      "text/html": [
       "[x = 10]"
      ],
      "text/plain": [
       "[x = 10]"
      ]
     },
     "execution_count": 45,
     "metadata": {},
     "output_type": "execute_result"
    }
   ],
   "source": [
    "o = Optimize()\n",
    "o.add(x >= 0)\n",
    "o.add(x <= 10)\n",
    "o.add(Or(x >= 3, x <= 0.5))\n",
    "o.maximize(x)\n",
    "o.check()\n",
    "o.model()"
   ]
  },
  {
   "cell_type": "code",
   "execution_count": null,
   "metadata": {},
   "outputs": [],
   "source": []
  }
 ],
 "metadata": {
  "kernelspec": {
   "display_name": "Python 3",
   "language": "python",
   "name": "python3"
  },
  "language_info": {
   "codemirror_mode": {
    "name": "ipython",
    "version": 3
   },
   "file_extension": ".py",
   "mimetype": "text/x-python",
   "name": "python",
   "nbconvert_exporter": "python",
   "pygments_lexer": "ipython3",
   "version": "3.7.5"
  }
 },
 "nbformat": 4,
 "nbformat_minor": 2
}
