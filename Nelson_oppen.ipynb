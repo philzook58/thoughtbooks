{
 "cells": [
  {
   "cell_type": "markdown",
   "metadata": {},
   "source": [
    "Nelson opppen decision procedure\n",
    "\n",
    "combination method.\n",
    "\n",
    "\n",
    "It is actually orthogonal to sat search\n",
    "\n",
    "Manual theory combination of z3\n",
    "\n",
    "Can I combine linear programming solves?\n",
    "How does one extract a learned equality? From duals?\n",
    "Fasibility problems. put in feasibility form.\n",
    "https://theory.stanford.edu/~nikolaj/programmingz3.html#sec-theories-theories\n",
    "\n",
    "https://www.cs.utexas.edu/~isil/cs389L/lecture16-6up.pdf\n",
    "\n",
    "quantifier free fragments\n",
    "without disjunctions, not a huge problem\n",
    "signatures only share equality\n",
    "stably inifinite - inifite cardinatiy\n",
    "\n",
    "\n",
    "eqaulity propagation. \"Explain\"\n",
    "\n",
    "convex vs non convex theories\n",
    "For every conjunctive forula F, F => dis(xi = y)\n",
    "Then F implies only one equaslity. So i guess regardless of position one o the equalities is truer\n",
    "\n",
    "\n",
    "\n",
    "purification - generate fresh avriables andf add as equalities.\n",
    "\n",
    "\n",
    "\n",
    "Compared to splitting methods:\n",
    "Feasiblitily problem = satisfiability\n",
    "\n",
    "We don't necessarily have a numerical notion of distance or slackness.\n",
    "Just considering projection steps xi = xj is odd.\n",
    "We have a stronger notion of shared language than  just eqaulity in mathemtical oprimtixation\n",
    "\n",
    "\n",
    "For splitting methods, \n",
    "\n",
    "Nelson oppen also gives a way to parallelize theory solves.\n",
    "\n",
    "\n",
    "\n"
   ]
  }
 ],
 "metadata": {
  "kernelspec": {
   "display_name": "Julia 1.5.0",
   "language": "julia",
   "name": "julia-1.5"
  },
  "language_info": {
   "file_extension": ".jl",
   "mimetype": "application/julia",
   "name": "julia",
   "version": "1.5.0"
  }
 },
 "nbformat": 4,
 "nbformat_minor": 4
}
