{
 "cells": [
  {
   "cell_type": "code",
   "execution_count": 7,
   "metadata": {},
   "outputs": [
    {
     "name": "stderr",
     "output_type": "stream",
     "text": [
      "┌ Info: Precompiling SymPy [24249f21-da20-56a4-8eb1-6a02cf4ae2e6]\n",
      "└ @ Base loading.jl:1260\n"
     ]
    }
   ],
   "source": [
    "using LinearAlgebra\n",
    "using SymPy"
   ]
  },
  {
   "cell_type": "markdown",
   "metadata": {},
   "source": [
    "Let's do some fun stuff. Let's try to code up some PDES. monte carlo style?\n",
    "\n",
    "This seems like a good example. It would be somewhat difficult to code this up efficiently in python\n",
    "\n",
    "Maybe I should be doing ray tracing and stuff in julia.\n",
    "\n",
    "I can go onto GPU, which it seems like julia should be strong for.\n",
    "\n",
    "\n",
    "SIGGRAPH papers\n",
    "\n",
    "http://www.cs.cmu.edu/~kmcrane/Projects/MonteCarloGeometryProcessing/index.html\n",
    "\n",
    "\n",
    "https://en.wikipedia.org/wiki/Walk-on-spheres_method\n",
    "http://graphics.ucsd.edu/~henrik/papers/book/\n",
    "Rendering equation of kajiya https://youtu.be/bFn-wjQtxZ0?t=2410\n",
    "\n",
    "\n",
    "It's interesting. One might say that the primary physical intutition for neumann series and theb orn approximation and stuff comes from the bouncing of light rays. This might be the primary location\n",
    "The pinball diagrams of Mattuck. He is talking about probablitlty, but you could be talking about the rendering equation just as well. \n",
    "Utah pproximation = first born approximation\n",
    "You could do feynman diagrams if you had some non trivial light light interaction\n",
    "\n",
    "\n",
    "\n",
    "\n",
    "\n",
    "1-d monte carlo solver for\n",
    "$\\partial^2 \\phi = f(x)$\n",
    "\n",
    "\n",
    "The solution of teh 1-d Laplace equation is absolutely trivial. If the second derivative is 0, then $\\phi = a + b x $. This line is found by fitting it to the two endpoint values.\n",
    "\n",
    "\n",
    "In the presence of discrete forcing terms f, it is striagthforward as well. It is a piecewise linear thing with derivative jumps occuring at every f position. It looks like a taught rubbr band with weights hanging from those points.\n"
   ]
  },
  {
   "cell_type": "code",
   "execution_count": 25,
   "metadata": {},
   "outputs": [
    {
     "data": {
      "text/plain": [
       "var\"#3#4\""
      ]
     },
     "execution_count": 25,
     "metadata": {},
     "output_type": "execute_result"
    }
   ],
   "source": [
    "typeof(x -> x + 3)"
   ]
  },
  {
   "cell_type": "code",
   "execution_count": 5,
   "metadata": {},
   "outputs": [
    {
     "data": {
      "text/plain": [
       "3-element Array{Float64,1}:\n",
       " 0.7659881356450857\n",
       " 0.7554491521825928\n",
       " 0.10722161039470435"
      ]
     },
     "execution_count": 5,
     "metadata": {},
     "output_type": "execute_result"
    }
   ],
   "source": [
    "rand(Float64, 3)"
   ]
  },
  {
   "cell_type": "code",
   "execution_count": 16,
   "metadata": {},
   "outputs": [
    {
     "data": {
      "text/latex": [
       "\\begin{align*}\\phi\\end{align*}"
      ],
      "text/plain": [
       "phi"
      ]
     },
     "execution_count": 16,
     "metadata": {},
     "output_type": "execute_result"
    }
   ],
   "source": [
    "@vars x y \n",
    "@vars k positive=true real=true\n",
    "ϕ = SymFunction(\"phi\")"
   ]
  },
  {
   "cell_type": "code",
   "execution_count": 19,
   "metadata": {},
   "outputs": [
    {
     "data": {
      "text/latex": [
       "\\begin{equation*}\\frac{d^{2}}{d x^{2}} \\phi{\\left(x \\right)} = 0\\end{equation*}"
      ],
      "text/plain": [
       "  2          \n",
       " d           \n",
       "───(φ(x)) = 0\n",
       "  2          \n",
       "dx           "
      ]
     },
     "execution_count": 19,
     "metadata": {},
     "output_type": "execute_result"
    }
   ],
   "source": [
    "Eq(diff(ϕ(x),x,x),0)"
   ]
  },
  {
   "cell_type": "code",
   "execution_count": 201,
   "metadata": {},
   "outputs": [
    {
     "data": {
      "text/latex": [
       "\\begin{equation*}0\\end{equation*}"
      ],
      "text/plain": [
       "0"
      ]
     },
     "execution_count": 201,
     "metadata": {},
     "output_type": "execute_result"
    }
   ],
   "source": [
    "@vars a x ϕ\n",
    "\n",
    "avg = ( ϕ(x+a) + ϕ(x-a) ) / 2\n",
    "\n",
    "# when a is zero, the average = phi(x) of course\n",
    "@assert(   iszero(  avg.subs(a,0) - ϕ(x)   )  )\n",
    "\n",
    "# this is the derivative of the average \n",
    "# does this equal zero?\n",
    "change_of_avg = diff(avg,a) \n",
    "\n",
    "@assert(   iszero(  ϕ(x) + integrate(change_of_avg, (a,0,a))  - avg  )  )\n",
    "\n",
    "# these two expressions are the same\n",
    "@assert(  iszero(diff(avg,a) - integrate(diff(ϕ(y), y,y), (y, x-a, x+a))))\n",
    "\n",
    "# when we use the laplace equation we do indeed see this expression is zero\n",
    "SymPy.integrate(diff(ϕ(y), y,y), (y, x-a, x+a)).subs(diff(ϕ(y), y,y), 0)\n"
   ]
  },
  {
   "cell_type": "markdown",
   "metadata": {},
   "source": [
    "The higher dimensional analog is that an integral over a a ball changes by $ \\int dA \\nabla \\phi \\cdot \\hat{n} $ which by gauss's theorem correspond to the integral of the laplacian $ \\int dV \\nabla^2 \\phi $ throughout the region, which is zero by assumption.\n",
    "\n",
    "\n"
   ]
  },
  {
   "cell_type": "markdown",
   "metadata": {},
   "source": [
    "The expectation of the two endpoints is of course $E_x[\\phi(x)] = p_a\\phi(a) + p_{-a}\\phi(-a)$ which if we give equal probability is the same as the avergae of the two endpoints\n",
    "\n",
    "\n",
    "if x > 0 then  50%  x -> a , 50% x -> x - (a-x) = 2 * x - a\n",
    "if x < 0 then 50% x -> -a  ,   50% x -> x + (x +a) = 2 * x + a\n",
    "\n",
    "\n",
    "starting at x\n",
    "E(x) = x >0 then  0.5 * phi(a) + 0.5 * E(2*x - a)\n",
    "     = x < 0 then ...\n",
    "     \n",
    "Lordy, that's a weird functionsl equation. It will be solved by E[x] = cx + d which gives ? \n",
    "\n",
    "cx + d = 0.5 phi(a) + 0.5 * (c(2x - a)  d) \n",
    "cx + d = 0.5 phi(-a) + 0.5 * (c(2x + a) + d)\n",
    "\n",
    "the x term is fine\n",
    "\n",
    "d = 0.5 phia + 0.5 * (d - c a)\n",
    "d = 0.5 phi-a + 0.5 (c a + d)\n",
    "\n",
    "d = phia + phi-a  / 2\n",
    "and c = phi - phi / a \n",
    "Very good.\n",
    "\n",
    "\n",
    "\n",
    "Ok. So we connect this back to the laplace equation via the ball property.\n",
    "\n",
    "\n",
    "\n",
    "\n",
    " \n",
    "\n",
    "     "
   ]
  },
  {
   "cell_type": "code",
   "execution_count": 204,
   "metadata": {},
   "outputs": [
    {
     "data": {
      "text/plain": [
       "100×21 Array{Int64,2}:\n",
       " 0   0   0   0   0   0  10  10   0  10  …  10   0   0  10  10  10   0  10  10\n",
       " 0   0   0   0  10   0  10   0  10  10     10   0  10  10  10  10  10  10  10\n",
       " 0   0   0   0   0   0  10  10   0  10      0  10  10  10   0  10  10  10  10\n",
       " 0   0   0   0  10   0   0   0   0   0      0  10   0  10  10  10  10  10  10\n",
       " 0   0   0   0   0  10  10   0   0  10     10   0  10  10  10   0  10  10  10\n",
       " 0   0   0   0   0   0   0   0   0   0  …   0  10   0  10  10  10  10  10  10\n",
       " 0   0  10   0   0  10   0  10   0   0     10   0  10  10  10  10  10  10  10\n",
       " 0   0   0   0   0   0  10  10   0   0     10  10  10   0  10  10  10  10  10\n",
       " 0   0   0   0   0   0   0   0  10  10      0  10   0   0  10  10  10  10  10\n",
       " 0   0   0   0   0   0   0   0  10   0     10  10  10  10   0  10  10  10  10\n",
       " 0   0   0   0   0   0   0   0   0  10  …  10   0  10  10  10  10  10  10  10\n",
       " 0   0   0   0   0   0   0  10   0  10     10   0  10   0  10  10  10  10  10\n",
       " 0  10   0  10  10   0   0   0   0  10      0   0   0  10  10  10  10  10  10\n",
       " ⋮                   ⋮                  ⋱               ⋮                   ⋮\n",
       " 0  10   0  10  10   0   0   0   0  10     10  10  10   0  10   0  10  10  10\n",
       " 0   0   0   0   0  10  10   0  10   0     10  10  10   0  10  10  10  10  10\n",
       " 0   0   0   0   0   0  10   0   0   0  …  10   0  10  10  10  10   0  10  10\n",
       " 0   0   0   0   0   0   0  10  10   0      0   0  10   0  10   0  10  10  10\n",
       " 0   0   0   0   0   0   0   0   0  10     10  10  10  10   0  10   0  10  10\n",
       " 0   0   0   0   0   0   0   0   0   0     10  10  10  10  10  10  10  10  10\n",
       " 0  10   0  10   0   0   0   0   0   0     10  10  10   0  10   0  10  10  10\n",
       " 0   0   0   0  10   0   0  10   0   0  …  10  10  10   0  10  10   0  10  10\n",
       " 0   0   0   0   0   0  10   0   0   0      0  10  10  10  10  10  10  10  10\n",
       " 0   0   0   0   0  10   0   0  10   0     10  10  10  10   0   0  10  10  10\n",
       " 0   0   0   0   0  10   0   0  10   0      0   0  10  10  10  10  10  10  10\n",
       " 0   0   0   0   0   0  10   0  10   0     10   0  10  10  10  10  10  10  10"
      ]
     },
     "execution_count": 204,
     "metadata": {},
     "output_type": "execute_result"
    }
   ],
   "source": [
    "avg = 0\n",
    "phi0 = 0\n",
    "phi1 = 10\n",
    "x_0 = 0.75\n",
    "function monte_run(x)\n",
    "    while true\n",
    "            l = rand(Bool) # go left?\n",
    "            if (l && x <= 0.5) # finish at left edge 0\n",
    "                return phi0\n",
    "            elseif (!l && x >= 0.5) # finish at right edge 1\n",
    "                return phi1\n",
    "            else\n",
    "                if x <= 0.5 # move away from 0\n",
    "                    x += x\n",
    "                else\n",
    "                    x -= 1 - x # move away from 1\n",
    "                end\n",
    "            end\n",
    "    end\n",
    "end\n",
    "\n",
    "monte_runs = [monte_run(x) for run_num =1:100, x=0:0.05:1 ]\n",
    "\n"
   ]
  },
  {
   "cell_type": "code",
   "execution_count": 180,
   "metadata": {},
   "outputs": [
    {
     "data": {
      "text/plain": [
       "21-element Array{Float64,1}:\n",
       " 0.0\n",
       " 0.23868325657594203\n",
       " 0.31446603773522014\n",
       " 0.3588702812826367\n",
       " 0.41633319989322654\n",
       " 0.46056618647183833\n",
       " 0.41633319989322654\n",
       " 0.47609522856952335\n",
       " 0.4512608598542129\n",
       " 0.5021167315686783\n",
       " 0.49236596391733095\n",
       " 0.5\n",
       " 0.4688261722621506\n",
       " 0.48783173121456336\n",
       " 0.4351941398892446\n",
       " 0.44619604333847374\n",
       " 0.42295258468165065\n",
       " 0.37752516806863695\n",
       " 0.2564323999762428\n",
       " 0.1969463855669324\n",
       " 0.0"
      ]
     },
     "execution_count": 180,
     "metadata": {},
     "output_type": "execute_result"
    }
   ],
   "source": [
    "import Statistics\n",
    "avgs = vec(Statistics.mean( monte_runs , dims=1))\n",
    "stddevs = vec(Statistics.std(monte_runs, dims=1)) ./ sqrt(size(monte_runs)[1]) # something like this right?"
   ]
  },
  {
   "cell_type": "code",
   "execution_count": 104,
   "metadata": {},
   "outputs": [
    {
     "name": "stderr",
     "output_type": "stream",
     "text": [
      "┌ Info: Precompiling Plots [91a5bcdd-55d7-5caf-9e0b-520d859cae80]\n",
      "└ @ Base loading.jl:1260\n"
     ]
    }
   ],
   "source": [
    "using Plots"
   ]
  },
  {
   "cell_type": "code",
   "execution_count": 114,
   "metadata": {},
   "outputs": [
    {
     "data": {
      "text/plain": [
       "11-element Array{Float64,1}:\n",
       " 0.0\n",
       " 0.1\n",
       " 0.2\n",
       " 0.3\n",
       " 0.4\n",
       " 0.5\n",
       " 0.6\n",
       " 0.7\n",
       " 0.8\n",
       " 0.9\n",
       " 1.0"
      ]
     },
     "execution_count": 114,
     "metadata": {},
     "output_type": "execute_result"
    }
   ],
   "source": [
    "using LinearAlgebra\n",
    "[x for x in 0:0.1:1]"
   ]
  },
  {
   "cell_type": "code",
   "execution_count": 185,
   "metadata": {},
   "outputs": [
    {
     "data": {
      "image/svg+xml": [
       "<?xml version=\"1.0\" encoding=\"utf-8\"?>\n",
       "<svg xmlns=\"http://www.w3.org/2000/svg\" xmlns:xlink=\"http://www.w3.org/1999/xlink\" width=\"600\" height=\"400\" viewBox=\"0 0 2400 1600\">\n",
       "<defs>\n",
       "  <clipPath id=\"clip960\">\n",
       "    <rect x=\"0\" y=\"0\" width=\"2400\" height=\"1600\"/>\n",
       "  </clipPath>\n",
       "</defs>\n",
       "<path clip-path=\"url(#clip960)\" d=\"\n",
       "M0 1600 L2400 1600 L2400 0 L0 0  Z\n",
       "  \" fill=\"#ffffff\" fill-rule=\"evenodd\" fill-opacity=\"1\"/>\n",
       "<defs>\n",
       "  <clipPath id=\"clip961\">\n",
       "    <rect x=\"480\" y=\"0\" width=\"1681\" height=\"1600\"/>\n",
       "  </clipPath>\n",
       "</defs>\n",
       "<path clip-path=\"url(#clip960)\" d=\"\n",
       "M171.552 1486.45 L2352.76 1486.45 L2352.76 47.2441 L171.552 47.2441  Z\n",
       "  \" fill=\"#ffffff\" fill-rule=\"evenodd\" fill-opacity=\"1\"/>\n",
       "<defs>\n",
       "  <clipPath id=\"clip962\">\n",
       "    <rect x=\"171\" y=\"47\" width=\"2182\" height=\"1440\"/>\n",
       "  </clipPath>\n",
       "</defs>\n",
       "<polyline clip-path=\"url(#clip962)\" style=\"stroke:#000000; stroke-width:2; stroke-opacity:0.1; fill:none\" points=\"\n",
       "  233.284,1486.45 233.284,47.2441 \n",
       "  \"/>\n",
       "<polyline clip-path=\"url(#clip962)\" style=\"stroke:#000000; stroke-width:2; stroke-opacity:0.1; fill:none\" points=\"\n",
       "  747.719,1486.45 747.719,47.2441 \n",
       "  \"/>\n",
       "<polyline clip-path=\"url(#clip962)\" style=\"stroke:#000000; stroke-width:2; stroke-opacity:0.1; fill:none\" points=\"\n",
       "  1262.15,1486.45 1262.15,47.2441 \n",
       "  \"/>\n",
       "<polyline clip-path=\"url(#clip962)\" style=\"stroke:#000000; stroke-width:2; stroke-opacity:0.1; fill:none\" points=\"\n",
       "  1776.59,1486.45 1776.59,47.2441 \n",
       "  \"/>\n",
       "<polyline clip-path=\"url(#clip962)\" style=\"stroke:#000000; stroke-width:2; stroke-opacity:0.1; fill:none\" points=\"\n",
       "  2291.02,1486.45 2291.02,47.2441 \n",
       "  \"/>\n",
       "<polyline clip-path=\"url(#clip962)\" style=\"stroke:#000000; stroke-width:2; stroke-opacity:0.1; fill:none\" points=\"\n",
       "  171.552,1445.72 2352.76,1445.72 \n",
       "  \"/>\n",
       "<polyline clip-path=\"url(#clip962)\" style=\"stroke:#000000; stroke-width:2; stroke-opacity:0.1; fill:none\" points=\"\n",
       "  171.552,1106.28 2352.76,1106.28 \n",
       "  \"/>\n",
       "<polyline clip-path=\"url(#clip962)\" style=\"stroke:#000000; stroke-width:2; stroke-opacity:0.1; fill:none\" points=\"\n",
       "  171.552,766.846 2352.76,766.846 \n",
       "  \"/>\n",
       "<polyline clip-path=\"url(#clip962)\" style=\"stroke:#000000; stroke-width:2; stroke-opacity:0.1; fill:none\" points=\"\n",
       "  171.552,427.411 2352.76,427.411 \n",
       "  \"/>\n",
       "<polyline clip-path=\"url(#clip962)\" style=\"stroke:#000000; stroke-width:2; stroke-opacity:0.1; fill:none\" points=\"\n",
       "  171.552,87.9763 2352.76,87.9763 \n",
       "  \"/>\n",
       "<polyline clip-path=\"url(#clip960)\" style=\"stroke:#000000; stroke-width:4; stroke-opacity:1; fill:none\" points=\"\n",
       "  171.552,1486.45 2352.76,1486.45 \n",
       "  \"/>\n",
       "<polyline clip-path=\"url(#clip960)\" style=\"stroke:#000000; stroke-width:4; stroke-opacity:1; fill:none\" points=\"\n",
       "  171.552,1486.45 171.552,47.2441 \n",
       "  \"/>\n",
       "<polyline clip-path=\"url(#clip960)\" style=\"stroke:#000000; stroke-width:4; stroke-opacity:1; fill:none\" points=\"\n",
       "  233.284,1486.45 233.284,1469.18 \n",
       "  \"/>\n",
       "<polyline clip-path=\"url(#clip960)\" style=\"stroke:#000000; stroke-width:4; stroke-opacity:1; fill:none\" points=\"\n",
       "  747.719,1486.45 747.719,1469.18 \n",
       "  \"/>\n",
       "<polyline clip-path=\"url(#clip960)\" style=\"stroke:#000000; stroke-width:4; stroke-opacity:1; fill:none\" points=\"\n",
       "  1262.15,1486.45 1262.15,1469.18 \n",
       "  \"/>\n",
       "<polyline clip-path=\"url(#clip960)\" style=\"stroke:#000000; stroke-width:4; stroke-opacity:1; fill:none\" points=\"\n",
       "  1776.59,1486.45 1776.59,1469.18 \n",
       "  \"/>\n",
       "<polyline clip-path=\"url(#clip960)\" style=\"stroke:#000000; stroke-width:4; stroke-opacity:1; fill:none\" points=\"\n",
       "  2291.02,1486.45 2291.02,1469.18 \n",
       "  \"/>\n",
       "<polyline clip-path=\"url(#clip960)\" style=\"stroke:#000000; stroke-width:4; stroke-opacity:1; fill:none\" points=\"\n",
       "  171.552,1445.72 197.726,1445.72 \n",
       "  \"/>\n",
       "<polyline clip-path=\"url(#clip960)\" style=\"stroke:#000000; stroke-width:4; stroke-opacity:1; fill:none\" points=\"\n",
       "  171.552,1106.28 197.726,1106.28 \n",
       "  \"/>\n",
       "<polyline clip-path=\"url(#clip960)\" style=\"stroke:#000000; stroke-width:4; stroke-opacity:1; fill:none\" points=\"\n",
       "  171.552,766.846 197.726,766.846 \n",
       "  \"/>\n",
       "<polyline clip-path=\"url(#clip960)\" style=\"stroke:#000000; stroke-width:4; stroke-opacity:1; fill:none\" points=\"\n",
       "  171.552,427.411 197.726,427.411 \n",
       "  \"/>\n",
       "<polyline clip-path=\"url(#clip960)\" style=\"stroke:#000000; stroke-width:4; stroke-opacity:1; fill:none\" points=\"\n",
       "  171.552,87.9763 197.726,87.9763 \n",
       "  \"/>\n",
       "<path clip-path=\"url(#clip960)\" d=\"M 0 0 M201.293 1508.44 Q197.682 1508.44 195.854 1512 Q194.048 1515.55 194.048 1522.67 Q194.048 1529.78 195.854 1533.35 Q197.682 1536.89 201.293 1536.89 Q204.928 1536.89 206.733 1533.35 Q208.562 1529.78 208.562 1522.67 Q208.562 1515.55 206.733 1512 Q204.928 1508.44 201.293 1508.44 M201.293 1504.73 Q207.104 1504.73 210.159 1509.34 Q213.238 1513.92 213.238 1522.67 Q213.238 1531.4 210.159 1536.01 Q207.104 1540.59 201.293 1540.59 Q195.483 1540.59 192.405 1536.01 Q189.349 1531.4 189.349 1522.67 Q189.349 1513.92 192.405 1509.34 Q195.483 1504.73 201.293 1504.73 Z\" fill=\"#000000\" fill-rule=\"evenodd\" fill-opacity=\"1\" /><path clip-path=\"url(#clip960)\" d=\"M 0 0 M218.307 1534.04 L223.192 1534.04 L223.192 1539.92 L218.307 1539.92 L218.307 1534.04 Z\" fill=\"#000000\" fill-rule=\"evenodd\" fill-opacity=\"1\" /><path clip-path=\"url(#clip960)\" d=\"M 0 0 M238.261 1508.44 Q234.65 1508.44 232.821 1512 Q231.016 1515.55 231.016 1522.67 Q231.016 1529.78 232.821 1533.35 Q234.65 1536.89 238.261 1536.89 Q241.895 1536.89 243.701 1533.35 Q245.529 1529.78 245.529 1522.67 Q245.529 1515.55 243.701 1512 Q241.895 1508.44 238.261 1508.44 M238.261 1504.73 Q244.071 1504.73 247.127 1509.34 Q250.205 1513.92 250.205 1522.67 Q250.205 1531.4 247.127 1536.01 Q244.071 1540.59 238.261 1540.59 Q232.451 1540.59 229.372 1536.01 Q226.316 1531.4 226.316 1522.67 Q226.316 1513.92 229.372 1509.34 Q232.451 1504.73 238.261 1504.73 Z\" fill=\"#000000\" fill-rule=\"evenodd\" fill-opacity=\"1\" /><path clip-path=\"url(#clip960)\" d=\"M 0 0 M265.275 1508.44 Q261.664 1508.44 259.835 1512 Q258.029 1515.55 258.029 1522.67 Q258.029 1529.78 259.835 1533.35 Q261.664 1536.89 265.275 1536.89 Q268.909 1536.89 270.714 1533.35 Q272.543 1529.78 272.543 1522.67 Q272.543 1515.55 270.714 1512 Q268.909 1508.44 265.275 1508.44 M265.275 1504.73 Q271.085 1504.73 274.14 1509.34 Q277.219 1513.92 277.219 1522.67 Q277.219 1531.4 274.14 1536.01 Q271.085 1540.59 265.275 1540.59 Q259.464 1540.59 256.386 1536.01 Q253.33 1531.4 253.33 1522.67 Q253.33 1513.92 256.386 1509.34 Q259.464 1504.73 265.275 1504.73 Z\" fill=\"#000000\" fill-rule=\"evenodd\" fill-opacity=\"1\" /><path clip-path=\"url(#clip960)\" d=\"M 0 0 M717.025 1508.44 Q713.414 1508.44 711.585 1512 Q709.779 1515.55 709.779 1522.67 Q709.779 1529.78 711.585 1533.35 Q713.414 1536.89 717.025 1536.89 Q720.659 1536.89 722.464 1533.35 Q724.293 1529.78 724.293 1522.67 Q724.293 1515.55 722.464 1512 Q720.659 1508.44 717.025 1508.44 M717.025 1504.73 Q722.835 1504.73 725.89 1509.34 Q728.969 1513.92 728.969 1522.67 Q728.969 1531.4 725.89 1536.01 Q722.835 1540.59 717.025 1540.59 Q711.215 1540.59 708.136 1536.01 Q705.08 1531.4 705.08 1522.67 Q705.08 1513.92 708.136 1509.34 Q711.215 1504.73 717.025 1504.73 Z\" fill=\"#000000\" fill-rule=\"evenodd\" fill-opacity=\"1\" /><path clip-path=\"url(#clip960)\" d=\"M 0 0 M734.038 1534.04 L738.923 1534.04 L738.923 1539.92 L734.038 1539.92 L734.038 1534.04 Z\" fill=\"#000000\" fill-rule=\"evenodd\" fill-opacity=\"1\" /><path clip-path=\"url(#clip960)\" d=\"M 0 0 M748.02 1535.98 L764.339 1535.98 L764.339 1539.92 L742.395 1539.92 L742.395 1535.98 Q745.057 1533.23 749.64 1528.6 Q754.247 1523.95 755.427 1522.61 Q757.673 1520.08 758.552 1518.35 Q759.455 1516.59 759.455 1514.9 Q759.455 1512.14 757.511 1510.41 Q755.589 1508.67 752.487 1508.67 Q750.288 1508.67 747.835 1509.43 Q745.404 1510.2 742.626 1511.75 L742.626 1507.03 Q745.45 1505.89 747.904 1505.31 Q750.358 1504.73 752.395 1504.73 Q757.765 1504.73 760.96 1507.42 Q764.154 1510.11 764.154 1514.6 Q764.154 1516.73 763.344 1518.65 Q762.557 1520.54 760.45 1523.14 Q759.872 1523.81 756.77 1527.03 Q753.668 1530.22 748.02 1535.98 Z\" fill=\"#000000\" fill-rule=\"evenodd\" fill-opacity=\"1\" /><path clip-path=\"url(#clip960)\" d=\"M 0 0 M769.455 1505.36 L787.811 1505.36 L787.811 1509.3 L773.737 1509.3 L773.737 1517.77 Q774.756 1517.42 775.774 1517.26 Q776.793 1517.07 777.811 1517.07 Q783.598 1517.07 786.978 1520.24 Q790.358 1523.42 790.358 1528.83 Q790.358 1534.41 786.885 1537.51 Q783.413 1540.59 777.094 1540.59 Q774.918 1540.59 772.649 1540.22 Q770.404 1539.85 767.997 1539.11 L767.997 1534.41 Q770.08 1535.54 772.302 1536.1 Q774.524 1536.66 777.001 1536.66 Q781.006 1536.66 783.344 1534.55 Q785.682 1532.44 785.682 1528.83 Q785.682 1525.22 783.344 1523.11 Q781.006 1521.01 777.001 1521.01 Q775.126 1521.01 773.251 1521.42 Q771.399 1521.84 769.455 1522.72 L769.455 1505.36 Z\" fill=\"#000000\" fill-rule=\"evenodd\" fill-opacity=\"1\" /><path clip-path=\"url(#clip960)\" d=\"M 0 0 M1230.66 1508.44 Q1227.05 1508.44 1225.22 1512 Q1223.42 1515.55 1223.42 1522.67 Q1223.42 1529.78 1225.22 1533.35 Q1227.05 1536.89 1230.66 1536.89 Q1234.3 1536.89 1236.1 1533.35 Q1237.93 1529.78 1237.93 1522.67 Q1237.93 1515.55 1236.1 1512 Q1234.3 1508.44 1230.66 1508.44 M1230.66 1504.73 Q1236.47 1504.73 1239.53 1509.34 Q1242.61 1513.92 1242.61 1522.67 Q1242.61 1531.4 1239.53 1536.01 Q1236.47 1540.59 1230.66 1540.59 Q1224.85 1540.59 1221.77 1536.01 Q1218.72 1531.4 1218.72 1522.67 Q1218.72 1513.92 1221.77 1509.34 Q1224.85 1504.73 1230.66 1504.73 Z\" fill=\"#000000\" fill-rule=\"evenodd\" fill-opacity=\"1\" /><path clip-path=\"url(#clip960)\" d=\"M 0 0 M1247.67 1534.04 L1252.56 1534.04 L1252.56 1539.92 L1247.67 1539.92 L1247.67 1534.04 Z\" fill=\"#000000\" fill-rule=\"evenodd\" fill-opacity=\"1\" /><path clip-path=\"url(#clip960)\" d=\"M 0 0 M1257.67 1505.36 L1276.03 1505.36 L1276.03 1509.3 L1261.96 1509.3 L1261.96 1517.77 Q1262.98 1517.42 1263.99 1517.26 Q1265.01 1517.07 1266.03 1517.07 Q1271.82 1517.07 1275.2 1520.24 Q1278.58 1523.42 1278.58 1528.83 Q1278.58 1534.41 1275.11 1537.51 Q1271.63 1540.59 1265.31 1540.59 Q1263.14 1540.59 1260.87 1540.22 Q1258.62 1539.85 1256.22 1539.11 L1256.22 1534.41 Q1258.3 1535.54 1260.52 1536.1 Q1262.74 1536.66 1265.22 1536.66 Q1269.23 1536.66 1271.56 1534.55 Q1273.9 1532.44 1273.9 1528.83 Q1273.9 1525.22 1271.56 1523.11 Q1269.23 1521.01 1265.22 1521.01 Q1263.35 1521.01 1261.47 1521.42 Q1259.62 1521.84 1257.67 1522.72 L1257.67 1505.36 Z\" fill=\"#000000\" fill-rule=\"evenodd\" fill-opacity=\"1\" /><path clip-path=\"url(#clip960)\" d=\"M 0 0 M1293.65 1508.44 Q1290.04 1508.44 1288.21 1512 Q1286.4 1515.55 1286.4 1522.67 Q1286.4 1529.78 1288.21 1533.35 Q1290.04 1536.89 1293.65 1536.89 Q1297.28 1536.89 1299.09 1533.35 Q1300.92 1529.78 1300.92 1522.67 Q1300.92 1515.55 1299.09 1512 Q1297.28 1508.44 1293.65 1508.44 M1293.65 1504.73 Q1299.46 1504.73 1302.51 1509.34 Q1305.59 1513.92 1305.59 1522.67 Q1305.59 1531.4 1302.51 1536.01 Q1299.46 1540.59 1293.65 1540.59 Q1287.84 1540.59 1284.76 1536.01 Q1281.7 1531.4 1281.7 1522.67 Q1281.7 1513.92 1284.76 1509.34 Q1287.84 1504.73 1293.65 1504.73 Z\" fill=\"#000000\" fill-rule=\"evenodd\" fill-opacity=\"1\" /><path clip-path=\"url(#clip960)\" d=\"M 0 0 M1745.55 1508.44 Q1741.94 1508.44 1740.11 1512 Q1738.3 1515.55 1738.3 1522.67 Q1738.3 1529.78 1740.11 1533.35 Q1741.94 1536.89 1745.55 1536.89 Q1749.18 1536.89 1750.99 1533.35 Q1752.82 1529.78 1752.82 1522.67 Q1752.82 1515.55 1750.99 1512 Q1749.18 1508.44 1745.55 1508.44 M1745.55 1504.73 Q1751.36 1504.73 1754.41 1509.34 Q1757.49 1513.92 1757.49 1522.67 Q1757.49 1531.4 1754.41 1536.01 Q1751.36 1540.59 1745.55 1540.59 Q1739.74 1540.59 1736.66 1536.01 Q1733.6 1531.4 1733.6 1522.67 Q1733.6 1513.92 1736.66 1509.34 Q1739.74 1504.73 1745.55 1504.73 Z\" fill=\"#000000\" fill-rule=\"evenodd\" fill-opacity=\"1\" /><path clip-path=\"url(#clip960)\" d=\"M 0 0 M1762.56 1534.04 L1767.45 1534.04 L1767.45 1539.92 L1762.56 1539.92 L1762.56 1534.04 Z\" fill=\"#000000\" fill-rule=\"evenodd\" fill-opacity=\"1\" /><path clip-path=\"url(#clip960)\" d=\"M 0 0 M1771.33 1505.36 L1793.56 1505.36 L1793.56 1507.35 L1781.01 1539.92 L1776.13 1539.92 L1787.93 1509.3 L1771.33 1509.3 L1771.33 1505.36 Z\" fill=\"#000000\" fill-rule=\"evenodd\" fill-opacity=\"1\" /><path clip-path=\"url(#clip960)\" d=\"M 0 0 M1798.67 1505.36 L1817.03 1505.36 L1817.03 1509.3 L1802.95 1509.3 L1802.95 1517.77 Q1803.97 1517.42 1804.99 1517.26 Q1806.01 1517.07 1807.03 1517.07 Q1812.82 1517.07 1816.2 1520.24 Q1819.57 1523.42 1819.57 1528.83 Q1819.57 1534.41 1816.1 1537.51 Q1812.63 1540.59 1806.31 1540.59 Q1804.13 1540.59 1801.87 1540.22 Q1799.62 1539.85 1797.21 1539.11 L1797.21 1534.41 Q1799.3 1535.54 1801.52 1536.1 Q1803.74 1536.66 1806.22 1536.66 Q1810.22 1536.66 1812.56 1534.55 Q1814.9 1532.44 1814.9 1528.83 Q1814.9 1525.22 1812.56 1523.11 Q1810.22 1521.01 1806.22 1521.01 Q1804.34 1521.01 1802.47 1521.42 Q1800.62 1521.84 1798.67 1522.72 L1798.67 1505.36 Z\" fill=\"#000000\" fill-rule=\"evenodd\" fill-opacity=\"1\" /><path clip-path=\"url(#clip960)\" d=\"M 0 0 M2249.42 1535.98 L2257.05 1535.98 L2257.05 1509.62 L2248.74 1511.29 L2248.74 1507.03 L2257.01 1505.36 L2261.68 1505.36 L2261.68 1535.98 L2269.32 1535.98 L2269.32 1539.92 L2249.42 1539.92 L2249.42 1535.98 Z\" fill=\"#000000\" fill-rule=\"evenodd\" fill-opacity=\"1\" /><path clip-path=\"url(#clip960)\" d=\"M 0 0 M2274.39 1534.04 L2279.28 1534.04 L2279.28 1539.92 L2274.39 1539.92 L2274.39 1534.04 Z\" fill=\"#000000\" fill-rule=\"evenodd\" fill-opacity=\"1\" /><path clip-path=\"url(#clip960)\" d=\"M 0 0 M2294.35 1508.44 Q2290.73 1508.44 2288.91 1512 Q2287.1 1515.55 2287.1 1522.67 Q2287.1 1529.78 2288.91 1533.35 Q2290.73 1536.89 2294.35 1536.89 Q2297.98 1536.89 2299.79 1533.35 Q2301.61 1529.78 2301.61 1522.67 Q2301.61 1515.55 2299.79 1512 Q2297.98 1508.44 2294.35 1508.44 M2294.35 1504.73 Q2300.16 1504.73 2303.21 1509.34 Q2306.29 1513.92 2306.29 1522.67 Q2306.29 1531.4 2303.21 1536.01 Q2300.16 1540.59 2294.35 1540.59 Q2288.54 1540.59 2285.46 1536.01 Q2282.4 1531.4 2282.4 1522.67 Q2282.4 1513.92 2285.46 1509.34 Q2288.54 1504.73 2294.35 1504.73 Z\" fill=\"#000000\" fill-rule=\"evenodd\" fill-opacity=\"1\" /><path clip-path=\"url(#clip960)\" d=\"M 0 0 M2321.36 1508.44 Q2317.75 1508.44 2315.92 1512 Q2314.11 1515.55 2314.11 1522.67 Q2314.11 1529.78 2315.92 1533.35 Q2317.75 1536.89 2321.36 1536.89 Q2324.99 1536.89 2326.8 1533.35 Q2328.63 1529.78 2328.63 1522.67 Q2328.63 1515.55 2326.8 1512 Q2324.99 1508.44 2321.36 1508.44 M2321.36 1504.73 Q2327.17 1504.73 2330.22 1509.34 Q2333.3 1513.92 2333.3 1522.67 Q2333.3 1531.4 2330.22 1536.01 Q2327.17 1540.59 2321.36 1540.59 Q2315.55 1540.59 2312.47 1536.01 Q2309.41 1531.4 2309.41 1522.67 Q2309.41 1513.92 2312.47 1509.34 Q2315.55 1504.73 2321.36 1504.73 Z\" fill=\"#000000\" fill-rule=\"evenodd\" fill-opacity=\"1\" /><path clip-path=\"url(#clip960)\" d=\"M 0 0 M98.6401 1431.51 Q95.029 1431.51 93.2003 1435.08 Q91.3948 1438.62 91.3948 1445.75 Q91.3948 1452.86 93.2003 1456.42 Q95.029 1459.96 98.6401 1459.96 Q102.274 1459.96 104.08 1456.42 Q105.909 1452.86 105.909 1445.75 Q105.909 1438.62 104.08 1435.08 Q102.274 1431.51 98.6401 1431.51 M98.6401 1427.81 Q104.45 1427.81 107.506 1432.42 Q110.584 1437 110.584 1445.75 Q110.584 1454.48 107.506 1459.08 Q104.45 1463.67 98.6401 1463.67 Q92.8299 1463.67 89.7512 1459.08 Q86.6957 1454.48 86.6957 1445.75 Q86.6957 1437 89.7512 1432.42 Q92.8299 1427.81 98.6401 1427.81 Z\" fill=\"#000000\" fill-rule=\"evenodd\" fill-opacity=\"1\" /><path clip-path=\"url(#clip960)\" d=\"M 0 0 M115.654 1457.12 L120.538 1457.12 L120.538 1463 L115.654 1463 L115.654 1457.12 Z\" fill=\"#000000\" fill-rule=\"evenodd\" fill-opacity=\"1\" /><path clip-path=\"url(#clip960)\" d=\"M 0 0 M135.607 1431.51 Q131.996 1431.51 130.168 1435.08 Q128.362 1438.62 128.362 1445.75 Q128.362 1452.86 130.168 1456.42 Q131.996 1459.96 135.607 1459.96 Q139.242 1459.96 141.047 1456.42 Q142.876 1452.86 142.876 1445.75 Q142.876 1438.62 141.047 1435.08 Q139.242 1431.51 135.607 1431.51 M135.607 1427.81 Q141.418 1427.81 144.473 1432.42 Q147.552 1437 147.552 1445.75 Q147.552 1454.48 144.473 1459.08 Q141.418 1463.67 135.607 1463.67 Q129.797 1463.67 126.719 1459.08 Q123.663 1454.48 123.663 1445.75 Q123.663 1437 126.719 1432.42 Q129.797 1427.81 135.607 1427.81 Z\" fill=\"#000000\" fill-rule=\"evenodd\" fill-opacity=\"1\" /><path clip-path=\"url(#clip960)\" d=\"M 0 0 M95.2605 1119.63 L111.58 1119.63 L111.58 1123.56 L89.6355 1123.56 L89.6355 1119.63 Q92.2975 1116.87 96.8808 1112.24 Q101.487 1107.59 102.668 1106.25 Q104.913 1103.72 105.793 1101.99 Q106.696 1100.23 106.696 1098.54 Q106.696 1095.78 104.751 1094.05 Q102.83 1092.31 99.728 1092.31 Q97.529 1092.31 95.0753 1093.07 Q92.6447 1093.84 89.867 1095.39 L89.867 1090.67 Q92.691 1089.53 95.1447 1088.95 Q97.5984 1088.38 99.6354 1088.38 Q105.006 1088.38 108.2 1091.06 Q111.395 1093.75 111.395 1098.24 Q111.395 1100.37 110.584 1102.29 Q109.797 1104.19 107.691 1106.78 Q107.112 1107.45 104.01 1110.67 Q100.909 1113.86 95.2605 1119.63 Z\" fill=\"#000000\" fill-rule=\"evenodd\" fill-opacity=\"1\" /><path clip-path=\"url(#clip960)\" d=\"M 0 0 M116.649 1117.68 L121.533 1117.68 L121.533 1123.56 L116.649 1123.56 L116.649 1117.68 Z\" fill=\"#000000\" fill-rule=\"evenodd\" fill-opacity=\"1\" /><path clip-path=\"url(#clip960)\" d=\"M 0 0 M126.649 1089 L145.006 1089 L145.006 1092.94 L130.932 1092.94 L130.932 1101.41 Q131.95 1101.06 132.969 1100.9 Q133.987 1100.71 135.006 1100.71 Q140.793 1100.71 144.172 1103.89 Q147.552 1107.06 147.552 1112.47 Q147.552 1118.05 144.08 1121.15 Q140.607 1124.23 134.288 1124.23 Q132.112 1124.23 129.844 1123.86 Q127.598 1123.49 125.191 1122.75 L125.191 1118.05 Q127.274 1119.19 129.496 1119.74 Q131.719 1120.3 134.195 1120.3 Q138.2 1120.3 140.538 1118.19 Q142.876 1116.08 142.876 1112.47 Q142.876 1108.86 140.538 1106.76 Q138.2 1104.65 134.195 1104.65 Q132.32 1104.65 130.445 1105.07 Q128.594 1105.48 126.649 1106.36 L126.649 1089 Z\" fill=\"#000000\" fill-rule=\"evenodd\" fill-opacity=\"1\" /><path clip-path=\"url(#clip960)\" d=\"M 0 0 M89.6818 749.566 L108.038 749.566 L108.038 753.501 L93.9642 753.501 L93.9642 761.973 Q94.9827 761.626 96.0012 761.464 Q97.0197 761.279 98.0382 761.279 Q103.825 761.279 107.205 764.45 Q110.584 767.621 110.584 773.038 Q110.584 778.617 107.112 781.719 Q103.64 784.797 97.3206 784.797 Q95.1447 784.797 92.8762 784.427 Q90.6309 784.057 88.2235 783.316 L88.2235 778.617 Q90.3068 779.751 92.529 780.307 Q94.7512 780.862 97.2281 780.862 Q101.233 780.862 103.571 778.756 Q105.909 776.649 105.909 773.038 Q105.909 769.427 103.571 767.321 Q101.233 765.214 97.2281 765.214 Q95.3531 765.214 93.4781 765.631 Q91.6262 766.047 89.6818 766.927 L89.6818 749.566 Z\" fill=\"#000000\" fill-rule=\"evenodd\" fill-opacity=\"1\" /><path clip-path=\"url(#clip960)\" d=\"M 0 0 M115.654 778.246 L120.538 778.246 L120.538 784.126 L115.654 784.126 L115.654 778.246 Z\" fill=\"#000000\" fill-rule=\"evenodd\" fill-opacity=\"1\" /><path clip-path=\"url(#clip960)\" d=\"M 0 0 M135.607 752.645 Q131.996 752.645 130.168 756.209 Q128.362 759.751 128.362 766.881 Q128.362 773.987 130.168 777.552 Q131.996 781.094 135.607 781.094 Q139.242 781.094 141.047 777.552 Q142.876 773.987 142.876 766.881 Q142.876 759.751 141.047 756.209 Q139.242 752.645 135.607 752.645 M135.607 748.941 Q141.418 748.941 144.473 753.547 Q147.552 758.131 147.552 766.881 Q147.552 775.608 144.473 780.214 Q141.418 784.797 135.607 784.797 Q129.797 784.797 126.719 780.214 Q123.663 775.608 123.663 766.881 Q123.663 758.131 126.719 753.547 Q129.797 748.941 135.607 748.941 Z\" fill=\"#000000\" fill-rule=\"evenodd\" fill-opacity=\"1\" /><path clip-path=\"url(#clip960)\" d=\"M 0 0 M89.3577 410.131 L111.58 410.131 L111.58 412.122 L99.0336 444.691 L94.1494 444.691 L105.955 414.066 L89.3577 414.066 L89.3577 410.131 Z\" fill=\"#000000\" fill-rule=\"evenodd\" fill-opacity=\"1\" /><path clip-path=\"url(#clip960)\" d=\"M 0 0 M116.649 438.812 L121.533 438.812 L121.533 444.691 L116.649 444.691 L116.649 438.812 Z\" fill=\"#000000\" fill-rule=\"evenodd\" fill-opacity=\"1\" /><path clip-path=\"url(#clip960)\" d=\"M 0 0 M126.649 410.131 L145.006 410.131 L145.006 414.066 L130.932 414.066 L130.932 422.538 Q131.95 422.191 132.969 422.029 Q133.987 421.844 135.006 421.844 Q140.793 421.844 144.172 425.015 Q147.552 428.187 147.552 433.603 Q147.552 439.182 144.08 442.284 Q140.607 445.362 134.288 445.362 Q132.112 445.362 129.844 444.992 Q127.598 444.622 125.191 443.881 L125.191 439.182 Q127.274 440.316 129.496 440.872 Q131.719 441.427 134.195 441.427 Q138.2 441.427 140.538 439.321 Q142.876 437.214 142.876 433.603 Q142.876 429.992 140.538 427.886 Q138.2 425.779 134.195 425.779 Q132.32 425.779 130.445 426.196 Q128.594 426.613 126.649 427.492 L126.649 410.131 Z\" fill=\"#000000\" fill-rule=\"evenodd\" fill-opacity=\"1\" /><path clip-path=\"url(#clip960)\" d=\"M 0 0 M63.6634 101.321 L71.3023 101.321 L71.3023 74.9555 L62.9921 76.6222 L62.9921 72.3629 L71.256 70.6963 L75.9319 70.6963 L75.9319 101.321 L83.5707 101.321 L83.5707 105.256 L63.6634 105.256 L63.6634 101.321 Z\" fill=\"#000000\" fill-rule=\"evenodd\" fill-opacity=\"1\" /><path clip-path=\"url(#clip960)\" d=\"M 0 0 M98.6401 73.775 Q95.029 73.775 93.2003 77.3398 Q91.3948 80.8814 91.3948 88.011 Q91.3948 95.1174 93.2003 98.6822 Q95.029 102.224 98.6401 102.224 Q102.274 102.224 104.08 98.6822 Q105.909 95.1174 105.909 88.011 Q105.909 80.8814 104.08 77.3398 Q102.274 73.775 98.6401 73.775 M98.6401 70.0713 Q104.45 70.0713 107.506 74.6777 Q110.584 79.261 110.584 88.011 Q110.584 96.7378 107.506 101.344 Q104.45 105.928 98.6401 105.928 Q92.8299 105.928 89.7512 101.344 Q86.6957 96.7378 86.6957 88.011 Q86.6957 79.261 89.7512 74.6777 Q92.8299 70.0713 98.6401 70.0713 Z\" fill=\"#000000\" fill-rule=\"evenodd\" fill-opacity=\"1\" /><path clip-path=\"url(#clip960)\" d=\"M 0 0 M115.654 99.3767 L120.538 99.3767 L120.538 105.256 L115.654 105.256 L115.654 99.3767 Z\" fill=\"#000000\" fill-rule=\"evenodd\" fill-opacity=\"1\" /><path clip-path=\"url(#clip960)\" d=\"M 0 0 M135.607 73.775 Q131.996 73.775 130.168 77.3398 Q128.362 80.8814 128.362 88.011 Q128.362 95.1174 130.168 98.6822 Q131.996 102.224 135.607 102.224 Q139.242 102.224 141.047 98.6822 Q142.876 95.1174 142.876 88.011 Q142.876 80.8814 141.047 77.3398 Q139.242 73.775 135.607 73.775 M135.607 70.0713 Q141.418 70.0713 144.473 74.6777 Q147.552 79.261 147.552 88.011 Q147.552 96.7378 144.473 101.344 Q141.418 105.928 135.607 105.928 Q129.797 105.928 126.719 101.344 Q123.663 96.7378 123.663 88.011 Q123.663 79.261 126.719 74.6777 Q129.797 70.0713 135.607 70.0713 Z\" fill=\"#000000\" fill-rule=\"evenodd\" fill-opacity=\"1\" /><polyline clip-path=\"url(#clip962)\" style=\"stroke:#009af9; stroke-width:4; stroke-opacity:1; fill:none\" points=\"\n",
       "  233.284,1445.72 336.171,1364.25 439.058,1296.36 541.945,1242.05 644.832,1147.01 747.719,1038.39 850.606,1147.01 953.493,984.084 1056.38,1065.55 1159.27,794.001 \n",
       "  1262.15,902.62 1365.04,698.959 1467.93,522.453 1570.81,603.917 1673.7,427.411 1776.59,454.566 1879.48,400.256 1982.36,318.792 2085.25,183.018 2188.14,142.286 \n",
       "  2291.02,87.9763 \n",
       "  \"/>\n",
       "<polyline clip-path=\"url(#clip962)\" style=\"stroke:#009af9; stroke-width:4; stroke-opacity:1; fill:none\" points=\"\n",
       "  233.284,1445.72 233.284,1445.72 \n",
       "  \"/>\n",
       "<polyline clip-path=\"url(#clip962)\" style=\"stroke:#009af9; stroke-width:4; stroke-opacity:1; fill:none\" points=\"\n",
       "  336.171,1396.66 336.171,1331.84 \n",
       "  \"/>\n",
       "<polyline clip-path=\"url(#clip962)\" style=\"stroke:#009af9; stroke-width:4; stroke-opacity:1; fill:none\" points=\"\n",
       "  439.058,1339.06 439.058,1253.67 \n",
       "  \"/>\n",
       "<polyline clip-path=\"url(#clip962)\" style=\"stroke:#009af9; stroke-width:4; stroke-opacity:1; fill:none\" points=\"\n",
       "  541.945,1290.78 541.945,1193.33 \n",
       "  \"/>\n",
       "<polyline clip-path=\"url(#clip962)\" style=\"stroke:#009af9; stroke-width:4; stroke-opacity:1; fill:none\" points=\"\n",
       "  644.832,1203.54 644.832,1090.49 \n",
       "  \"/>\n",
       "<polyline clip-path=\"url(#clip962)\" style=\"stroke:#009af9; stroke-width:4; stroke-opacity:1; fill:none\" points=\"\n",
       "  747.719,1100.93 747.719,975.861 \n",
       "  \"/>\n",
       "<polyline clip-path=\"url(#clip962)\" style=\"stroke:#009af9; stroke-width:4; stroke-opacity:1; fill:none\" points=\"\n",
       "  850.606,1203.54 850.606,1090.49 \n",
       "  \"/>\n",
       "<polyline clip-path=\"url(#clip962)\" style=\"stroke:#009af9; stroke-width:4; stroke-opacity:1; fill:none\" points=\"\n",
       "  953.493,1048.73 953.493,919.443 \n",
       "  \"/>\n",
       "<polyline clip-path=\"url(#clip962)\" style=\"stroke:#009af9; stroke-width:4; stroke-opacity:1; fill:none\" points=\"\n",
       "  1056.38,1126.82 1056.38,1004.28 \n",
       "  \"/>\n",
       "<polyline clip-path=\"url(#clip962)\" style=\"stroke:#009af9; stroke-width:4; stroke-opacity:1; fill:none\" points=\"\n",
       "  1159.27,862.175 1159.27,725.826 \n",
       "  \"/>\n",
       "<polyline clip-path=\"url(#clip962)\" style=\"stroke:#009af9; stroke-width:4; stroke-opacity:1; fill:none\" points=\"\n",
       "  1262.15,969.47 1262.15,835.769 \n",
       "  \"/>\n",
       "<polyline clip-path=\"url(#clip962)\" style=\"stroke:#009af9; stroke-width:4; stroke-opacity:1; fill:none\" points=\"\n",
       "  1365.04,766.846 1365.04,631.072 \n",
       "  \"/>\n",
       "<polyline clip-path=\"url(#clip962)\" style=\"stroke:#009af9; stroke-width:4; stroke-opacity:1; fill:none\" points=\"\n",
       "  1467.93,586.107 1467.93,458.799 \n",
       "  \"/>\n",
       "<polyline clip-path=\"url(#clip962)\" style=\"stroke:#009af9; stroke-width:4; stroke-opacity:1; fill:none\" points=\"\n",
       "  1570.81,670.152 1570.81,537.682 \n",
       "  \"/>\n",
       "<polyline clip-path=\"url(#clip962)\" style=\"stroke:#009af9; stroke-width:4; stroke-opacity:1; fill:none\" points=\"\n",
       "  1673.7,486.499 1673.7,368.323 \n",
       "  \"/>\n",
       "<polyline clip-path=\"url(#clip962)\" style=\"stroke:#009af9; stroke-width:4; stroke-opacity:1; fill:none\" points=\"\n",
       "  1776.59,515.148 1776.59,393.984 \n",
       "  \"/>\n",
       "<polyline clip-path=\"url(#clip962)\" style=\"stroke:#009af9; stroke-width:4; stroke-opacity:1; fill:none\" points=\"\n",
       "  1879.48,457.682 1879.48,342.83 \n",
       "  \"/>\n",
       "<polyline clip-path=\"url(#clip962)\" style=\"stroke:#009af9; stroke-width:4; stroke-opacity:1; fill:none\" points=\"\n",
       "  1982.36,370.05 1982.36,267.534 \n",
       "  \"/>\n",
       "<polyline clip-path=\"url(#clip962)\" style=\"stroke:#009af9; stroke-width:4; stroke-opacity:1; fill:none\" points=\"\n",
       "  2085.25,217.835 2085.25,148.201 \n",
       "  \"/>\n",
       "<polyline clip-path=\"url(#clip962)\" style=\"stroke:#009af9; stroke-width:4; stroke-opacity:1; fill:none\" points=\"\n",
       "  2188.14,169.026 2188.14,115.546 \n",
       "  \"/>\n",
       "<polyline clip-path=\"url(#clip962)\" style=\"stroke:#009af9; stroke-width:4; stroke-opacity:1; fill:none\" points=\"\n",
       "  2291.02,87.9763 2291.02,87.9763 \n",
       "  \"/>\n",
       "<line clip-path=\"url(#clip962)\" x1=\"249.284\" y1=\"1445.72\" x2=\"217.284\" y2=\"1445.72\" style=\"stroke:#009af9; stroke-width:3.2; stroke-opacity:1\"/>\n",
       "<line clip-path=\"url(#clip962)\" x1=\"249.284\" y1=\"1445.72\" x2=\"217.284\" y2=\"1445.72\" style=\"stroke:#009af9; stroke-width:3.2; stroke-opacity:1\"/>\n",
       "<line clip-path=\"url(#clip962)\" x1=\"352.171\" y1=\"1396.66\" x2=\"320.171\" y2=\"1396.66\" style=\"stroke:#009af9; stroke-width:3.2; stroke-opacity:1\"/>\n",
       "<line clip-path=\"url(#clip962)\" x1=\"352.171\" y1=\"1331.84\" x2=\"320.171\" y2=\"1331.84\" style=\"stroke:#009af9; stroke-width:3.2; stroke-opacity:1\"/>\n",
       "<line clip-path=\"url(#clip962)\" x1=\"455.058\" y1=\"1339.06\" x2=\"423.058\" y2=\"1339.06\" style=\"stroke:#009af9; stroke-width:3.2; stroke-opacity:1\"/>\n",
       "<line clip-path=\"url(#clip962)\" x1=\"455.058\" y1=\"1253.67\" x2=\"423.058\" y2=\"1253.67\" style=\"stroke:#009af9; stroke-width:3.2; stroke-opacity:1\"/>\n",
       "<line clip-path=\"url(#clip962)\" x1=\"557.945\" y1=\"1290.78\" x2=\"525.945\" y2=\"1290.78\" style=\"stroke:#009af9; stroke-width:3.2; stroke-opacity:1\"/>\n",
       "<line clip-path=\"url(#clip962)\" x1=\"557.945\" y1=\"1193.33\" x2=\"525.945\" y2=\"1193.33\" style=\"stroke:#009af9; stroke-width:3.2; stroke-opacity:1\"/>\n",
       "<line clip-path=\"url(#clip962)\" x1=\"660.832\" y1=\"1203.54\" x2=\"628.832\" y2=\"1203.54\" style=\"stroke:#009af9; stroke-width:3.2; stroke-opacity:1\"/>\n",
       "<line clip-path=\"url(#clip962)\" x1=\"660.832\" y1=\"1090.49\" x2=\"628.832\" y2=\"1090.49\" style=\"stroke:#009af9; stroke-width:3.2; stroke-opacity:1\"/>\n",
       "<line clip-path=\"url(#clip962)\" x1=\"763.719\" y1=\"1100.93\" x2=\"731.719\" y2=\"1100.93\" style=\"stroke:#009af9; stroke-width:3.2; stroke-opacity:1\"/>\n",
       "<line clip-path=\"url(#clip962)\" x1=\"763.719\" y1=\"975.861\" x2=\"731.719\" y2=\"975.861\" style=\"stroke:#009af9; stroke-width:3.2; stroke-opacity:1\"/>\n",
       "<line clip-path=\"url(#clip962)\" x1=\"866.606\" y1=\"1203.54\" x2=\"834.606\" y2=\"1203.54\" style=\"stroke:#009af9; stroke-width:3.2; stroke-opacity:1\"/>\n",
       "<line clip-path=\"url(#clip962)\" x1=\"866.606\" y1=\"1090.49\" x2=\"834.606\" y2=\"1090.49\" style=\"stroke:#009af9; stroke-width:3.2; stroke-opacity:1\"/>\n",
       "<line clip-path=\"url(#clip962)\" x1=\"969.493\" y1=\"1048.73\" x2=\"937.493\" y2=\"1048.73\" style=\"stroke:#009af9; stroke-width:3.2; stroke-opacity:1\"/>\n",
       "<line clip-path=\"url(#clip962)\" x1=\"969.493\" y1=\"919.443\" x2=\"937.493\" y2=\"919.443\" style=\"stroke:#009af9; stroke-width:3.2; stroke-opacity:1\"/>\n",
       "<line clip-path=\"url(#clip962)\" x1=\"1072.38\" y1=\"1126.82\" x2=\"1040.38\" y2=\"1126.82\" style=\"stroke:#009af9; stroke-width:3.2; stroke-opacity:1\"/>\n",
       "<line clip-path=\"url(#clip962)\" x1=\"1072.38\" y1=\"1004.28\" x2=\"1040.38\" y2=\"1004.28\" style=\"stroke:#009af9; stroke-width:3.2; stroke-opacity:1\"/>\n",
       "<line clip-path=\"url(#clip962)\" x1=\"1175.27\" y1=\"862.175\" x2=\"1143.27\" y2=\"862.175\" style=\"stroke:#009af9; stroke-width:3.2; stroke-opacity:1\"/>\n",
       "<line clip-path=\"url(#clip962)\" x1=\"1175.27\" y1=\"725.826\" x2=\"1143.27\" y2=\"725.826\" style=\"stroke:#009af9; stroke-width:3.2; stroke-opacity:1\"/>\n",
       "<line clip-path=\"url(#clip962)\" x1=\"1278.15\" y1=\"969.47\" x2=\"1246.15\" y2=\"969.47\" style=\"stroke:#009af9; stroke-width:3.2; stroke-opacity:1\"/>\n",
       "<line clip-path=\"url(#clip962)\" x1=\"1278.15\" y1=\"835.769\" x2=\"1246.15\" y2=\"835.769\" style=\"stroke:#009af9; stroke-width:3.2; stroke-opacity:1\"/>\n",
       "<line clip-path=\"url(#clip962)\" x1=\"1381.04\" y1=\"766.846\" x2=\"1349.04\" y2=\"766.846\" style=\"stroke:#009af9; stroke-width:3.2; stroke-opacity:1\"/>\n",
       "<line clip-path=\"url(#clip962)\" x1=\"1381.04\" y1=\"631.072\" x2=\"1349.04\" y2=\"631.072\" style=\"stroke:#009af9; stroke-width:3.2; stroke-opacity:1\"/>\n",
       "<line clip-path=\"url(#clip962)\" x1=\"1483.93\" y1=\"586.107\" x2=\"1451.93\" y2=\"586.107\" style=\"stroke:#009af9; stroke-width:3.2; stroke-opacity:1\"/>\n",
       "<line clip-path=\"url(#clip962)\" x1=\"1483.93\" y1=\"458.799\" x2=\"1451.93\" y2=\"458.799\" style=\"stroke:#009af9; stroke-width:3.2; stroke-opacity:1\"/>\n",
       "<line clip-path=\"url(#clip962)\" x1=\"1586.81\" y1=\"670.152\" x2=\"1554.81\" y2=\"670.152\" style=\"stroke:#009af9; stroke-width:3.2; stroke-opacity:1\"/>\n",
       "<line clip-path=\"url(#clip962)\" x1=\"1586.81\" y1=\"537.682\" x2=\"1554.81\" y2=\"537.682\" style=\"stroke:#009af9; stroke-width:3.2; stroke-opacity:1\"/>\n",
       "<line clip-path=\"url(#clip962)\" x1=\"1689.7\" y1=\"486.499\" x2=\"1657.7\" y2=\"486.499\" style=\"stroke:#009af9; stroke-width:3.2; stroke-opacity:1\"/>\n",
       "<line clip-path=\"url(#clip962)\" x1=\"1689.7\" y1=\"368.323\" x2=\"1657.7\" y2=\"368.323\" style=\"stroke:#009af9; stroke-width:3.2; stroke-opacity:1\"/>\n",
       "<line clip-path=\"url(#clip962)\" x1=\"1792.59\" y1=\"515.148\" x2=\"1760.59\" y2=\"515.148\" style=\"stroke:#009af9; stroke-width:3.2; stroke-opacity:1\"/>\n",
       "<line clip-path=\"url(#clip962)\" x1=\"1792.59\" y1=\"393.984\" x2=\"1760.59\" y2=\"393.984\" style=\"stroke:#009af9; stroke-width:3.2; stroke-opacity:1\"/>\n",
       "<line clip-path=\"url(#clip962)\" x1=\"1895.48\" y1=\"457.682\" x2=\"1863.48\" y2=\"457.682\" style=\"stroke:#009af9; stroke-width:3.2; stroke-opacity:1\"/>\n",
       "<line clip-path=\"url(#clip962)\" x1=\"1895.48\" y1=\"342.83\" x2=\"1863.48\" y2=\"342.83\" style=\"stroke:#009af9; stroke-width:3.2; stroke-opacity:1\"/>\n",
       "<line clip-path=\"url(#clip962)\" x1=\"1998.36\" y1=\"370.05\" x2=\"1966.36\" y2=\"370.05\" style=\"stroke:#009af9; stroke-width:3.2; stroke-opacity:1\"/>\n",
       "<line clip-path=\"url(#clip962)\" x1=\"1998.36\" y1=\"267.534\" x2=\"1966.36\" y2=\"267.534\" style=\"stroke:#009af9; stroke-width:3.2; stroke-opacity:1\"/>\n",
       "<line clip-path=\"url(#clip962)\" x1=\"2101.25\" y1=\"217.835\" x2=\"2069.25\" y2=\"217.835\" style=\"stroke:#009af9; stroke-width:3.2; stroke-opacity:1\"/>\n",
       "<line clip-path=\"url(#clip962)\" x1=\"2101.25\" y1=\"148.201\" x2=\"2069.25\" y2=\"148.201\" style=\"stroke:#009af9; stroke-width:3.2; stroke-opacity:1\"/>\n",
       "<line clip-path=\"url(#clip962)\" x1=\"2204.14\" y1=\"169.026\" x2=\"2172.14\" y2=\"169.026\" style=\"stroke:#009af9; stroke-width:3.2; stroke-opacity:1\"/>\n",
       "<line clip-path=\"url(#clip962)\" x1=\"2204.14\" y1=\"115.546\" x2=\"2172.14\" y2=\"115.546\" style=\"stroke:#009af9; stroke-width:3.2; stroke-opacity:1\"/>\n",
       "<line clip-path=\"url(#clip962)\" x1=\"2307.02\" y1=\"87.9763\" x2=\"2275.02\" y2=\"87.9763\" style=\"stroke:#009af9; stroke-width:3.2; stroke-opacity:1\"/>\n",
       "<line clip-path=\"url(#clip962)\" x1=\"2307.02\" y1=\"87.9763\" x2=\"2275.02\" y2=\"87.9763\" style=\"stroke:#009af9; stroke-width:3.2; stroke-opacity:1\"/>\n",
       "<polyline clip-path=\"url(#clip962)\" style=\"stroke:#e26f46; stroke-width:4; stroke-opacity:1; fill:none\" points=\"\n",
       "  233.284,1445.72 336.171,1377.83 439.058,1309.94 541.945,1242.05 644.832,1174.17 747.719,1106.28 850.606,1038.39 953.493,970.507 1056.38,902.62 1159.27,834.733 \n",
       "  1262.15,766.846 1365.04,698.959 1467.93,631.072 1570.81,563.185 1673.7,495.298 1776.59,427.411 1879.48,359.524 1982.36,291.637 2085.25,223.75 2188.14,155.863 \n",
       "  2291.02,87.9763 \n",
       "  \"/>\n",
       "<path clip-path=\"url(#clip960)\" d=\"\n",
       "M1989.74 312.204 L2280.76 312.204 L2280.76 130.764 L1989.74 130.764  Z\n",
       "  \" fill=\"#ffffff\" fill-rule=\"evenodd\" fill-opacity=\"1\"/>\n",
       "<polyline clip-path=\"url(#clip960)\" style=\"stroke:#000000; stroke-width:4; stroke-opacity:1; fill:none\" points=\"\n",
       "  1989.74,312.204 2280.76,312.204 2280.76,130.764 1989.74,130.764 1989.74,312.204 \n",
       "  \"/>\n",
       "<polyline clip-path=\"url(#clip960)\" style=\"stroke:#009af9; stroke-width:4; stroke-opacity:1; fill:none\" points=\"\n",
       "  2013.74,191.244 2157.74,191.244 \n",
       "  \"/>\n",
       "<path clip-path=\"url(#clip960)\" d=\"M 0 0 M2195.58 210.931 Q2193.77 215.561 2192.06 216.973 Q2190.35 218.385 2187.48 218.385 L2184.08 218.385 L2184.08 214.82 L2186.58 214.82 Q2188.33 214.82 2189.31 213.987 Q2190.28 213.154 2191.46 210.052 L2192.22 208.107 L2181.74 182.598 L2186.25 182.598 L2194.35 202.876 L2202.46 182.598 L2206.97 182.598 L2195.58 210.931 Z\" fill=\"#000000\" fill-rule=\"evenodd\" fill-opacity=\"1\" /><path clip-path=\"url(#clip960)\" d=\"M 0 0 M2212.85 204.589 L2220.49 204.589 L2220.49 178.223 L2212.18 179.89 L2212.18 175.631 L2220.44 173.964 L2225.12 173.964 L2225.12 204.589 L2232.76 204.589 L2232.76 208.524 L2212.85 208.524 L2212.85 204.589 Z\" fill=\"#000000\" fill-rule=\"evenodd\" fill-opacity=\"1\" /><polyline clip-path=\"url(#clip960)\" style=\"stroke:#e26f46; stroke-width:4; stroke-opacity:1; fill:none\" points=\"\n",
       "  2013.74,251.724 2157.74,251.724 \n",
       "  \"/>\n",
       "<path clip-path=\"url(#clip960)\" d=\"M 0 0 M2195.58 271.411 Q2193.77 276.041 2192.06 277.453 Q2190.35 278.865 2187.48 278.865 L2184.08 278.865 L2184.08 275.3 L2186.58 275.3 Q2188.33 275.3 2189.31 274.467 Q2190.28 273.634 2191.46 270.532 L2192.22 268.587 L2181.74 243.078 L2186.25 243.078 L2194.35 263.356 L2202.46 243.078 L2206.97 243.078 L2195.58 271.411 Z\" fill=\"#000000\" fill-rule=\"evenodd\" fill-opacity=\"1\" /><path clip-path=\"url(#clip960)\" d=\"M 0 0 M2216.07 265.069 L2232.39 265.069 L2232.39 269.004 L2210.44 269.004 L2210.44 265.069 Q2213.1 262.314 2217.69 257.685 Q2222.29 253.032 2223.47 251.689 Q2225.72 249.166 2226.6 247.43 Q2227.5 245.671 2227.5 243.981 Q2227.5 241.226 2225.56 239.49 Q2223.64 237.754 2220.53 237.754 Q2218.33 237.754 2215.88 238.518 Q2213.45 239.282 2210.67 240.833 L2210.67 236.111 Q2213.5 234.976 2215.95 234.398 Q2218.4 233.819 2220.44 233.819 Q2225.81 233.819 2229.01 236.504 Q2232.2 239.189 2232.2 243.68 Q2232.2 245.81 2231.39 247.731 Q2230.6 249.629 2228.5 252.222 Q2227.92 252.893 2224.82 256.111 Q2221.71 259.305 2216.07 265.069 Z\" fill=\"#000000\" fill-rule=\"evenodd\" fill-opacity=\"1\" /></svg>\n"
      ]
     },
     "execution_count": 185,
     "metadata": {},
     "output_type": "execute_result"
    }
   ],
   "source": [
    "plot(0:0.05:1, avgs, yerror=stddevs)\n",
    "plot!(0:0.05:1,  (0:0.05:1) * 10 )"
   ]
  },
  {
   "cell_type": "code",
   "execution_count": 106,
   "metadata": {},
   "outputs": [
    {
     "data": {
      "image/svg+xml": [
       "<?xml version=\"1.0\" encoding=\"utf-8\"?>\n",
       "<svg xmlns=\"http://www.w3.org/2000/svg\" xmlns:xlink=\"http://www.w3.org/1999/xlink\" width=\"600\" height=\"400\" viewBox=\"0 0 2400 1600\">\n",
       "<defs>\n",
       "  <clipPath id=\"clip360\">\n",
       "    <rect x=\"0\" y=\"0\" width=\"2400\" height=\"1600\"/>\n",
       "  </clipPath>\n",
       "</defs>\n",
       "<path clip-path=\"url(#clip360)\" d=\"\n",
       "M0 1600 L2400 1600 L2400 0 L0 0  Z\n",
       "  \" fill=\"#ffffff\" fill-rule=\"evenodd\" fill-opacity=\"1\"/>\n",
       "<defs>\n",
       "  <clipPath id=\"clip361\">\n",
       "    <rect x=\"480\" y=\"0\" width=\"1681\" height=\"1600\"/>\n",
       "  </clipPath>\n",
       "</defs>\n",
       "<path clip-path=\"url(#clip360)\" d=\"\n",
       "M139.191 1486.45 L2352.76 1486.45 L2352.76 47.2441 L139.191 47.2441  Z\n",
       "  \" fill=\"#ffffff\" fill-rule=\"evenodd\" fill-opacity=\"1\"/>\n",
       "<defs>\n",
       "  <clipPath id=\"clip362\">\n",
       "    <rect x=\"139\" y=\"47\" width=\"2215\" height=\"1440\"/>\n",
       "  </clipPath>\n",
       "</defs>\n",
       "<polyline clip-path=\"url(#clip362)\" style=\"stroke:#000000; stroke-width:2; stroke-opacity:0.1; fill:none\" points=\"\n",
       "  260.941,1486.45 260.941,47.2441 \n",
       "  \"/>\n",
       "<polyline clip-path=\"url(#clip362)\" style=\"stroke:#000000; stroke-width:2; stroke-opacity:0.1; fill:none\" points=\"\n",
       "  654.954,1486.45 654.954,47.2441 \n",
       "  \"/>\n",
       "<polyline clip-path=\"url(#clip362)\" style=\"stroke:#000000; stroke-width:2; stroke-opacity:0.1; fill:none\" points=\"\n",
       "  1048.97,1486.45 1048.97,47.2441 \n",
       "  \"/>\n",
       "<polyline clip-path=\"url(#clip362)\" style=\"stroke:#000000; stroke-width:2; stroke-opacity:0.1; fill:none\" points=\"\n",
       "  1442.98,1486.45 1442.98,47.2441 \n",
       "  \"/>\n",
       "<polyline clip-path=\"url(#clip362)\" style=\"stroke:#000000; stroke-width:2; stroke-opacity:0.1; fill:none\" points=\"\n",
       "  1836.99,1486.45 1836.99,47.2441 \n",
       "  \"/>\n",
       "<polyline clip-path=\"url(#clip362)\" style=\"stroke:#000000; stroke-width:2; stroke-opacity:0.1; fill:none\" points=\"\n",
       "  2231.01,1486.45 2231.01,47.2441 \n",
       "  \"/>\n",
       "<polyline clip-path=\"url(#clip362)\" style=\"stroke:#000000; stroke-width:2; stroke-opacity:0.1; fill:none\" points=\"\n",
       "  139.191,1445.72 2352.76,1445.72 \n",
       "  \"/>\n",
       "<polyline clip-path=\"url(#clip362)\" style=\"stroke:#000000; stroke-width:2; stroke-opacity:0.1; fill:none\" points=\"\n",
       "  139.191,1129.96 2352.76,1129.96 \n",
       "  \"/>\n",
       "<polyline clip-path=\"url(#clip362)\" style=\"stroke:#000000; stroke-width:2; stroke-opacity:0.1; fill:none\" points=\"\n",
       "  139.191,814.209 2352.76,814.209 \n",
       "  \"/>\n",
       "<polyline clip-path=\"url(#clip362)\" style=\"stroke:#000000; stroke-width:2; stroke-opacity:0.1; fill:none\" points=\"\n",
       "  139.191,498.456 2352.76,498.456 \n",
       "  \"/>\n",
       "<polyline clip-path=\"url(#clip362)\" style=\"stroke:#000000; stroke-width:2; stroke-opacity:0.1; fill:none\" points=\"\n",
       "  139.191,182.702 2352.76,182.702 \n",
       "  \"/>\n",
       "<polyline clip-path=\"url(#clip360)\" style=\"stroke:#000000; stroke-width:4; stroke-opacity:1; fill:none\" points=\"\n",
       "  139.191,1486.45 2352.76,1486.45 \n",
       "  \"/>\n",
       "<polyline clip-path=\"url(#clip360)\" style=\"stroke:#000000; stroke-width:4; stroke-opacity:1; fill:none\" points=\"\n",
       "  139.191,1486.45 139.191,47.2441 \n",
       "  \"/>\n",
       "<polyline clip-path=\"url(#clip360)\" style=\"stroke:#000000; stroke-width:4; stroke-opacity:1; fill:none\" points=\"\n",
       "  260.941,1486.45 260.941,1469.18 \n",
       "  \"/>\n",
       "<polyline clip-path=\"url(#clip360)\" style=\"stroke:#000000; stroke-width:4; stroke-opacity:1; fill:none\" points=\"\n",
       "  654.954,1486.45 654.954,1469.18 \n",
       "  \"/>\n",
       "<polyline clip-path=\"url(#clip360)\" style=\"stroke:#000000; stroke-width:4; stroke-opacity:1; fill:none\" points=\"\n",
       "  1048.97,1486.45 1048.97,1469.18 \n",
       "  \"/>\n",
       "<polyline clip-path=\"url(#clip360)\" style=\"stroke:#000000; stroke-width:4; stroke-opacity:1; fill:none\" points=\"\n",
       "  1442.98,1486.45 1442.98,1469.18 \n",
       "  \"/>\n",
       "<polyline clip-path=\"url(#clip360)\" style=\"stroke:#000000; stroke-width:4; stroke-opacity:1; fill:none\" points=\"\n",
       "  1836.99,1486.45 1836.99,1469.18 \n",
       "  \"/>\n",
       "<polyline clip-path=\"url(#clip360)\" style=\"stroke:#000000; stroke-width:4; stroke-opacity:1; fill:none\" points=\"\n",
       "  2231.01,1486.45 2231.01,1469.18 \n",
       "  \"/>\n",
       "<polyline clip-path=\"url(#clip360)\" style=\"stroke:#000000; stroke-width:4; stroke-opacity:1; fill:none\" points=\"\n",
       "  139.191,1445.72 165.754,1445.72 \n",
       "  \"/>\n",
       "<polyline clip-path=\"url(#clip360)\" style=\"stroke:#000000; stroke-width:4; stroke-opacity:1; fill:none\" points=\"\n",
       "  139.191,1129.96 165.754,1129.96 \n",
       "  \"/>\n",
       "<polyline clip-path=\"url(#clip360)\" style=\"stroke:#000000; stroke-width:4; stroke-opacity:1; fill:none\" points=\"\n",
       "  139.191,814.209 165.754,814.209 \n",
       "  \"/>\n",
       "<polyline clip-path=\"url(#clip360)\" style=\"stroke:#000000; stroke-width:4; stroke-opacity:1; fill:none\" points=\"\n",
       "  139.191,498.456 165.754,498.456 \n",
       "  \"/>\n",
       "<polyline clip-path=\"url(#clip360)\" style=\"stroke:#000000; stroke-width:4; stroke-opacity:1; fill:none\" points=\"\n",
       "  139.191,182.702 165.754,182.702 \n",
       "  \"/>\n",
       "<path clip-path=\"url(#clip360)\" d=\"M 0 0 M228.869 1508.44 Q225.258 1508.44 223.43 1512 Q221.624 1515.55 221.624 1522.67 Q221.624 1529.78 223.43 1533.35 Q225.258 1536.89 228.869 1536.89 Q232.504 1536.89 234.309 1533.35 Q236.138 1529.78 236.138 1522.67 Q236.138 1515.55 234.309 1512 Q232.504 1508.44 228.869 1508.44 M228.869 1504.73 Q234.68 1504.73 237.735 1509.34 Q240.814 1513.92 240.814 1522.67 Q240.814 1531.4 237.735 1536.01 Q234.68 1540.59 228.869 1540.59 Q223.059 1540.59 219.981 1536.01 Q216.925 1531.4 216.925 1522.67 Q216.925 1513.92 219.981 1509.34 Q223.059 1504.73 228.869 1504.73 Z\" fill=\"#000000\" fill-rule=\"evenodd\" fill-opacity=\"1\" /><path clip-path=\"url(#clip360)\" d=\"M 0 0 M245.883 1534.04 L250.767 1534.04 L250.767 1539.92 L245.883 1539.92 L245.883 1534.04 Z\" fill=\"#000000\" fill-rule=\"evenodd\" fill-opacity=\"1\" /><path clip-path=\"url(#clip360)\" d=\"M 0 0 M266.415 1520.78 Q263.267 1520.78 261.415 1522.93 Q259.587 1525.08 259.587 1528.83 Q259.587 1532.56 261.415 1534.73 Q263.267 1536.89 266.415 1536.89 Q269.564 1536.89 271.392 1534.73 Q273.244 1532.56 273.244 1528.83 Q273.244 1525.08 271.392 1522.93 Q269.564 1520.78 266.415 1520.78 M275.698 1506.12 L275.698 1510.38 Q273.939 1509.55 272.133 1509.11 Q270.351 1508.67 268.591 1508.67 Q263.962 1508.67 261.508 1511.8 Q259.078 1514.92 258.73 1521.24 Q260.096 1519.23 262.156 1518.16 Q264.216 1517.07 266.693 1517.07 Q271.902 1517.07 274.911 1520.24 Q277.943 1523.39 277.943 1528.83 Q277.943 1534.16 274.795 1537.37 Q271.647 1540.59 266.415 1540.59 Q260.42 1540.59 257.249 1536.01 Q254.078 1531.4 254.078 1522.67 Q254.078 1514.48 257.966 1509.62 Q261.855 1504.73 268.406 1504.73 Q270.165 1504.73 271.948 1505.08 Q273.753 1505.43 275.698 1506.12 Z\" fill=\"#000000\" fill-rule=\"evenodd\" fill-opacity=\"1\" /><path clip-path=\"url(#clip360)\" d=\"M 0 0 M293.013 1508.44 Q289.401 1508.44 287.573 1512 Q285.767 1515.55 285.767 1522.67 Q285.767 1529.78 287.573 1533.35 Q289.401 1536.89 293.013 1536.89 Q296.647 1536.89 298.452 1533.35 Q300.281 1529.78 300.281 1522.67 Q300.281 1515.55 298.452 1512 Q296.647 1508.44 293.013 1508.44 M293.013 1504.73 Q298.823 1504.73 301.878 1509.34 Q304.957 1513.92 304.957 1522.67 Q304.957 1531.4 301.878 1536.01 Q298.823 1540.59 293.013 1540.59 Q287.202 1540.59 284.124 1536.01 Q281.068 1531.4 281.068 1522.67 Q281.068 1513.92 284.124 1509.34 Q287.202 1504.73 293.013 1504.73 Z\" fill=\"#000000\" fill-rule=\"evenodd\" fill-opacity=\"1\" /><path clip-path=\"url(#clip360)\" d=\"M 0 0 M623.38 1508.44 Q619.769 1508.44 617.94 1512 Q616.135 1515.55 616.135 1522.67 Q616.135 1529.78 617.94 1533.35 Q619.769 1536.89 623.38 1536.89 Q627.014 1536.89 628.82 1533.35 Q630.649 1529.78 630.649 1522.67 Q630.649 1515.55 628.82 1512 Q627.014 1508.44 623.38 1508.44 M623.38 1504.73 Q629.19 1504.73 632.246 1509.34 Q635.324 1513.92 635.324 1522.67 Q635.324 1531.4 632.246 1536.01 Q629.19 1540.59 623.38 1540.59 Q617.57 1540.59 614.491 1536.01 Q611.436 1531.4 611.436 1522.67 Q611.436 1513.92 614.491 1509.34 Q617.57 1504.73 623.38 1504.73 Z\" fill=\"#000000\" fill-rule=\"evenodd\" fill-opacity=\"1\" /><path clip-path=\"url(#clip360)\" d=\"M 0 0 M640.394 1534.04 L645.278 1534.04 L645.278 1539.92 L640.394 1539.92 L640.394 1534.04 Z\" fill=\"#000000\" fill-rule=\"evenodd\" fill-opacity=\"1\" /><path clip-path=\"url(#clip360)\" d=\"M 0 0 M660.926 1520.78 Q657.778 1520.78 655.926 1522.93 Q654.097 1525.08 654.097 1528.83 Q654.097 1532.56 655.926 1534.73 Q657.778 1536.89 660.926 1536.89 Q664.074 1536.89 665.903 1534.73 Q667.755 1532.56 667.755 1528.83 Q667.755 1525.08 665.903 1522.93 Q664.074 1520.78 660.926 1520.78 M670.208 1506.12 L670.208 1510.38 Q668.449 1509.55 666.644 1509.11 Q664.861 1508.67 663.102 1508.67 Q658.472 1508.67 656.019 1511.8 Q653.588 1514.92 653.241 1521.24 Q654.607 1519.23 656.667 1518.16 Q658.727 1517.07 661.204 1517.07 Q666.412 1517.07 669.421 1520.24 Q672.454 1523.39 672.454 1528.83 Q672.454 1534.16 669.306 1537.37 Q666.158 1540.59 660.926 1540.59 Q654.931 1540.59 651.759 1536.01 Q648.588 1531.4 648.588 1522.67 Q648.588 1514.48 652.477 1509.62 Q656.366 1504.73 662.917 1504.73 Q664.676 1504.73 666.458 1505.08 Q668.264 1505.43 670.208 1506.12 Z\" fill=\"#000000\" fill-rule=\"evenodd\" fill-opacity=\"1\" /><path clip-path=\"url(#clip360)\" d=\"M 0 0 M677.57 1505.36 L695.926 1505.36 L695.926 1509.3 L681.852 1509.3 L681.852 1517.77 Q682.87 1517.42 683.889 1517.26 Q684.907 1517.07 685.926 1517.07 Q691.713 1517.07 695.093 1520.24 Q698.472 1523.42 698.472 1528.83 Q698.472 1534.41 695 1537.51 Q691.528 1540.59 685.208 1540.59 Q683.032 1540.59 680.764 1540.22 Q678.519 1539.85 676.111 1539.11 L676.111 1534.41 Q678.195 1535.54 680.417 1536.1 Q682.639 1536.66 685.116 1536.66 Q689.12 1536.66 691.458 1534.55 Q693.796 1532.44 693.796 1528.83 Q693.796 1525.22 691.458 1523.11 Q689.12 1521.01 685.116 1521.01 Q683.241 1521.01 681.366 1521.42 Q679.514 1521.84 677.57 1522.72 L677.57 1505.36 Z\" fill=\"#000000\" fill-rule=\"evenodd\" fill-opacity=\"1\" /><path clip-path=\"url(#clip360)\" d=\"M 0 0 M1017.43 1508.44 Q1013.82 1508.44 1011.99 1512 Q1010.18 1515.55 1010.18 1522.67 Q1010.18 1529.78 1011.99 1533.35 Q1013.82 1536.89 1017.43 1536.89 Q1021.06 1536.89 1022.87 1533.35 Q1024.7 1529.78 1024.7 1522.67 Q1024.7 1515.55 1022.87 1512 Q1021.06 1508.44 1017.43 1508.44 M1017.43 1504.73 Q1023.24 1504.73 1026.29 1509.34 Q1029.37 1513.92 1029.37 1522.67 Q1029.37 1531.4 1026.29 1536.01 Q1023.24 1540.59 1017.43 1540.59 Q1011.62 1540.59 1008.54 1536.01 Q1005.48 1531.4 1005.48 1522.67 Q1005.48 1513.92 1008.54 1509.34 Q1011.62 1504.73 1017.43 1504.73 Z\" fill=\"#000000\" fill-rule=\"evenodd\" fill-opacity=\"1\" /><path clip-path=\"url(#clip360)\" d=\"M 0 0 M1034.44 1534.04 L1039.33 1534.04 L1039.33 1539.92 L1034.44 1539.92 L1034.44 1534.04 Z\" fill=\"#000000\" fill-rule=\"evenodd\" fill-opacity=\"1\" /><path clip-path=\"url(#clip360)\" d=\"M 0 0 M1043.21 1505.36 L1065.44 1505.36 L1065.44 1507.35 L1052.89 1539.92 L1048.01 1539.92 L1059.81 1509.3 L1043.21 1509.3 L1043.21 1505.36 Z\" fill=\"#000000\" fill-rule=\"evenodd\" fill-opacity=\"1\" /><path clip-path=\"url(#clip360)\" d=\"M 0 0 M1080.51 1508.44 Q1076.9 1508.44 1075.07 1512 Q1073.26 1515.55 1073.26 1522.67 Q1073.26 1529.78 1075.07 1533.35 Q1076.9 1536.89 1080.51 1536.89 Q1084.14 1536.89 1085.95 1533.35 Q1087.77 1529.78 1087.77 1522.67 Q1087.77 1515.55 1085.95 1512 Q1084.14 1508.44 1080.51 1508.44 M1080.51 1504.73 Q1086.32 1504.73 1089.37 1509.34 Q1092.45 1513.92 1092.45 1522.67 Q1092.45 1531.4 1089.37 1536.01 Q1086.32 1540.59 1080.51 1540.59 Q1074.7 1540.59 1071.62 1536.01 Q1068.56 1531.4 1068.56 1522.67 Q1068.56 1513.92 1071.62 1509.34 Q1074.7 1504.73 1080.51 1504.73 Z\" fill=\"#000000\" fill-rule=\"evenodd\" fill-opacity=\"1\" /><path clip-path=\"url(#clip360)\" d=\"M 0 0 M1411.94 1508.44 Q1408.33 1508.44 1406.5 1512 Q1404.69 1515.55 1404.69 1522.67 Q1404.69 1529.78 1406.5 1533.35 Q1408.33 1536.89 1411.94 1536.89 Q1415.57 1536.89 1417.38 1533.35 Q1419.21 1529.78 1419.21 1522.67 Q1419.21 1515.55 1417.38 1512 Q1415.57 1508.44 1411.94 1508.44 M1411.94 1504.73 Q1417.75 1504.73 1420.8 1509.34 Q1423.88 1513.92 1423.88 1522.67 Q1423.88 1531.4 1420.8 1536.01 Q1417.75 1540.59 1411.94 1540.59 Q1406.13 1540.59 1403.05 1536.01 Q1399.99 1531.4 1399.99 1522.67 Q1399.99 1513.92 1403.05 1509.34 Q1406.13 1504.73 1411.94 1504.73 Z\" fill=\"#000000\" fill-rule=\"evenodd\" fill-opacity=\"1\" /><path clip-path=\"url(#clip360)\" d=\"M 0 0 M1428.95 1534.04 L1433.84 1534.04 L1433.84 1539.92 L1428.95 1539.92 L1428.95 1534.04 Z\" fill=\"#000000\" fill-rule=\"evenodd\" fill-opacity=\"1\" /><path clip-path=\"url(#clip360)\" d=\"M 0 0 M1437.73 1505.36 L1459.95 1505.36 L1459.95 1507.35 L1447.4 1539.92 L1442.52 1539.92 L1454.32 1509.3 L1437.73 1509.3 L1437.73 1505.36 Z\" fill=\"#000000\" fill-rule=\"evenodd\" fill-opacity=\"1\" /><path clip-path=\"url(#clip360)\" d=\"M 0 0 M1465.06 1505.36 L1483.42 1505.36 L1483.42 1509.3 L1469.35 1509.3 L1469.35 1517.77 Q1470.36 1517.42 1471.38 1517.26 Q1472.4 1517.07 1473.42 1517.07 Q1479.21 1517.07 1482.59 1520.24 Q1485.97 1523.42 1485.97 1528.83 Q1485.97 1534.41 1482.49 1537.51 Q1479.02 1540.59 1472.7 1540.59 Q1470.53 1540.59 1468.26 1540.22 Q1466.01 1539.85 1463.6 1539.11 L1463.6 1534.41 Q1465.69 1535.54 1467.91 1536.1 Q1470.13 1536.66 1472.61 1536.66 Q1476.61 1536.66 1478.95 1534.55 Q1481.29 1532.44 1481.29 1528.83 Q1481.29 1525.22 1478.95 1523.11 Q1476.61 1521.01 1472.61 1521.01 Q1470.73 1521.01 1468.86 1521.42 Q1467.01 1521.84 1465.06 1522.72 L1465.06 1505.36 Z\" fill=\"#000000\" fill-rule=\"evenodd\" fill-opacity=\"1\" /><path clip-path=\"url(#clip360)\" d=\"M 0 0 M1805.05 1508.44 Q1801.44 1508.44 1799.61 1512 Q1797.8 1515.55 1797.8 1522.67 Q1797.8 1529.78 1799.61 1533.35 Q1801.44 1536.89 1805.05 1536.89 Q1808.68 1536.89 1810.49 1533.35 Q1812.32 1529.78 1812.32 1522.67 Q1812.32 1515.55 1810.49 1512 Q1808.68 1508.44 1805.05 1508.44 M1805.05 1504.73 Q1810.86 1504.73 1813.91 1509.34 Q1816.99 1513.92 1816.99 1522.67 Q1816.99 1531.4 1813.91 1536.01 Q1810.86 1540.59 1805.05 1540.59 Q1799.24 1540.59 1796.16 1536.01 Q1793.1 1531.4 1793.1 1522.67 Q1793.1 1513.92 1796.16 1509.34 Q1799.24 1504.73 1805.05 1504.73 Z\" fill=\"#000000\" fill-rule=\"evenodd\" fill-opacity=\"1\" /><path clip-path=\"url(#clip360)\" d=\"M 0 0 M1822.06 1534.04 L1826.95 1534.04 L1826.95 1539.92 L1822.06 1539.92 L1822.06 1534.04 Z\" fill=\"#000000\" fill-rule=\"evenodd\" fill-opacity=\"1\" /><path clip-path=\"url(#clip360)\" d=\"M 0 0 M1842.02 1523.51 Q1838.68 1523.51 1836.76 1525.29 Q1834.86 1527.07 1834.86 1530.2 Q1834.86 1533.32 1836.76 1535.11 Q1838.68 1536.89 1842.02 1536.89 Q1845.35 1536.89 1847.27 1535.11 Q1849.19 1533.3 1849.19 1530.2 Q1849.19 1527.07 1847.27 1525.29 Q1845.37 1523.51 1842.02 1523.51 M1837.34 1521.52 Q1834.33 1520.78 1832.64 1518.72 Q1830.97 1516.66 1830.97 1513.69 Q1830.97 1509.55 1833.91 1507.14 Q1836.88 1504.73 1842.02 1504.73 Q1847.18 1504.73 1850.12 1507.14 Q1853.06 1509.55 1853.06 1513.69 Q1853.06 1516.66 1851.37 1518.72 Q1849.7 1520.78 1846.72 1521.52 Q1850.09 1522.3 1851.97 1524.6 Q1853.87 1526.89 1853.87 1530.2 Q1853.87 1535.22 1850.79 1537.91 Q1847.73 1540.59 1842.02 1540.59 Q1836.3 1540.59 1833.22 1537.91 Q1830.16 1535.22 1830.16 1530.2 Q1830.16 1526.89 1832.06 1524.6 Q1833.96 1522.3 1837.34 1521.52 M1835.63 1514.13 Q1835.63 1516.82 1837.29 1518.32 Q1838.98 1519.83 1842.02 1519.83 Q1845.03 1519.83 1846.72 1518.32 Q1848.43 1516.82 1848.43 1514.13 Q1848.43 1511.45 1846.72 1509.94 Q1845.03 1508.44 1842.02 1508.44 Q1838.98 1508.44 1837.29 1509.94 Q1835.63 1511.45 1835.63 1514.13 Z\" fill=\"#000000\" fill-rule=\"evenodd\" fill-opacity=\"1\" /><path clip-path=\"url(#clip360)\" d=\"M 0 0 M1868.94 1508.44 Q1865.33 1508.44 1863.5 1512 Q1861.69 1515.55 1861.69 1522.67 Q1861.69 1529.78 1863.5 1533.35 Q1865.33 1536.89 1868.94 1536.89 Q1872.57 1536.89 1874.38 1533.35 Q1876.21 1529.78 1876.21 1522.67 Q1876.21 1515.55 1874.38 1512 Q1872.57 1508.44 1868.94 1508.44 M1868.94 1504.73 Q1874.75 1504.73 1877.8 1509.34 Q1880.88 1513.92 1880.88 1522.67 Q1880.88 1531.4 1877.8 1536.01 Q1874.75 1540.59 1868.94 1540.59 Q1863.13 1540.59 1860.05 1536.01 Q1856.99 1531.4 1856.99 1522.67 Q1856.99 1513.92 1860.05 1509.34 Q1863.13 1504.73 1868.94 1504.73 Z\" fill=\"#000000\" fill-rule=\"evenodd\" fill-opacity=\"1\" /><path clip-path=\"url(#clip360)\" d=\"M 0 0 M2199.56 1508.44 Q2195.95 1508.44 2194.12 1512 Q2192.31 1515.55 2192.31 1522.67 Q2192.31 1529.78 2194.12 1533.35 Q2195.95 1536.89 2199.56 1536.89 Q2203.19 1536.89 2205 1533.35 Q2206.83 1529.78 2206.83 1522.67 Q2206.83 1515.55 2205 1512 Q2203.19 1508.44 2199.56 1508.44 M2199.56 1504.73 Q2205.37 1504.73 2208.42 1509.34 Q2211.5 1513.92 2211.5 1522.67 Q2211.5 1531.4 2208.42 1536.01 Q2205.37 1540.59 2199.56 1540.59 Q2193.75 1540.59 2190.67 1536.01 Q2187.61 1531.4 2187.61 1522.67 Q2187.61 1513.92 2190.67 1509.34 Q2193.75 1504.73 2199.56 1504.73 Z\" fill=\"#000000\" fill-rule=\"evenodd\" fill-opacity=\"1\" /><path clip-path=\"url(#clip360)\" d=\"M 0 0 M2216.57 1534.04 L2221.46 1534.04 L2221.46 1539.92 L2216.57 1539.92 L2216.57 1534.04 Z\" fill=\"#000000\" fill-rule=\"evenodd\" fill-opacity=\"1\" /><path clip-path=\"url(#clip360)\" d=\"M 0 0 M2236.53 1523.51 Q2233.19 1523.51 2231.27 1525.29 Q2229.37 1527.07 2229.37 1530.2 Q2229.37 1533.32 2231.27 1535.11 Q2233.19 1536.89 2236.53 1536.89 Q2239.86 1536.89 2241.78 1535.11 Q2243.7 1533.3 2243.7 1530.2 Q2243.7 1527.07 2241.78 1525.29 Q2239.88 1523.51 2236.53 1523.51 M2231.85 1521.52 Q2228.84 1520.78 2227.15 1518.72 Q2225.49 1516.66 2225.49 1513.69 Q2225.49 1509.55 2228.42 1507.14 Q2231.39 1504.73 2236.53 1504.73 Q2241.69 1504.73 2244.63 1507.14 Q2247.57 1509.55 2247.57 1513.69 Q2247.57 1516.66 2245.88 1518.72 Q2244.21 1520.78 2241.23 1521.52 Q2244.61 1522.3 2246.48 1524.6 Q2248.38 1526.89 2248.38 1530.2 Q2248.38 1535.22 2245.3 1537.91 Q2242.24 1540.59 2236.53 1540.59 Q2230.81 1540.59 2227.73 1537.91 Q2224.67 1535.22 2224.67 1530.2 Q2224.67 1526.89 2226.57 1524.6 Q2228.47 1522.3 2231.85 1521.52 M2230.14 1514.13 Q2230.14 1516.82 2231.8 1518.32 Q2233.49 1519.83 2236.53 1519.83 Q2239.54 1519.83 2241.23 1518.32 Q2242.94 1516.82 2242.94 1514.13 Q2242.94 1511.45 2241.23 1509.94 Q2239.54 1508.44 2236.53 1508.44 Q2233.49 1508.44 2231.8 1509.94 Q2230.14 1511.45 2230.14 1514.13 Z\" fill=\"#000000\" fill-rule=\"evenodd\" fill-opacity=\"1\" /><path clip-path=\"url(#clip360)\" d=\"M 0 0 M2253.49 1505.36 L2271.85 1505.36 L2271.85 1509.3 L2257.78 1509.3 L2257.78 1517.77 Q2258.8 1517.42 2259.81 1517.26 Q2260.83 1517.07 2261.85 1517.07 Q2267.64 1517.07 2271.02 1520.24 Q2274.4 1523.42 2274.4 1528.83 Q2274.4 1534.41 2270.92 1537.51 Q2267.45 1540.59 2261.13 1540.59 Q2258.96 1540.59 2256.69 1540.22 Q2254.44 1539.85 2252.04 1539.11 L2252.04 1534.41 Q2254.12 1535.54 2256.34 1536.1 Q2258.56 1536.66 2261.04 1536.66 Q2265.05 1536.66 2267.38 1534.55 Q2269.72 1532.44 2269.72 1528.83 Q2269.72 1525.22 2267.38 1523.11 Q2265.05 1521.01 2261.04 1521.01 Q2259.17 1521.01 2257.29 1521.42 Q2255.44 1521.84 2253.49 1522.72 L2253.49 1505.36 Z\" fill=\"#000000\" fill-rule=\"evenodd\" fill-opacity=\"1\" /><path clip-path=\"url(#clip360)\" d=\"M 0 0 M103.247 1431.51 Q99.6354 1431.51 97.8068 1435.08 Q96.0012 1438.62 96.0012 1445.75 Q96.0012 1452.86 97.8068 1456.42 Q99.6354 1459.96 103.247 1459.96 Q106.881 1459.96 108.686 1456.42 Q110.515 1452.86 110.515 1445.75 Q110.515 1438.62 108.686 1435.08 Q106.881 1431.51 103.247 1431.51 M103.247 1427.81 Q109.057 1427.81 112.112 1432.42 Q115.191 1437 115.191 1445.75 Q115.191 1454.48 112.112 1459.08 Q109.057 1463.67 103.247 1463.67 Q97.4364 1463.67 94.3577 1459.08 Q91.3022 1454.48 91.3022 1445.75 Q91.3022 1437 94.3577 1432.42 Q97.4364 1427.81 103.247 1427.81 Z\" fill=\"#000000\" fill-rule=\"evenodd\" fill-opacity=\"1\" /><path clip-path=\"url(#clip360)\" d=\"M 0 0 M68.2699 1143.31 L75.9087 1143.31 L75.9087 1116.94 L67.5986 1118.61 L67.5986 1114.35 L75.8624 1112.68 L80.5383 1112.68 L80.5383 1143.31 L88.1772 1143.31 L88.1772 1147.24 L68.2699 1147.24 L68.2699 1143.31 Z\" fill=\"#000000\" fill-rule=\"evenodd\" fill-opacity=\"1\" /><path clip-path=\"url(#clip360)\" d=\"M 0 0 M103.247 1115.76 Q99.6354 1115.76 97.8068 1119.33 Q96.0012 1122.87 96.0012 1130 Q96.0012 1137.1 97.8068 1140.67 Q99.6354 1144.21 103.247 1144.21 Q106.881 1144.21 108.686 1140.67 Q110.515 1137.1 110.515 1130 Q110.515 1122.87 108.686 1119.33 Q106.881 1115.76 103.247 1115.76 M103.247 1112.06 Q109.057 1112.06 112.112 1116.66 Q115.191 1121.25 115.191 1130 Q115.191 1138.72 112.112 1143.33 Q109.057 1147.91 103.247 1147.91 Q97.4364 1147.91 94.3577 1143.33 Q91.3022 1138.72 91.3022 1130 Q91.3022 1121.25 94.3577 1116.66 Q97.4364 1112.06 103.247 1112.06 Z\" fill=\"#000000\" fill-rule=\"evenodd\" fill-opacity=\"1\" /><path clip-path=\"url(#clip360)\" d=\"M 0 0 M71.8578 827.554 L88.1772 827.554 L88.1772 831.489 L66.2328 831.489 L66.2328 827.554 Q68.8949 824.799 73.4782 820.17 Q78.0846 815.517 79.2652 814.174 Q81.5105 811.651 82.3902 809.915 Q83.2929 808.156 83.2929 806.466 Q83.2929 803.711 81.3485 801.975 Q79.4272 800.239 76.3254 800.239 Q74.1263 800.239 71.6726 801.003 Q69.2421 801.767 66.4643 803.318 L66.4643 798.596 Q69.2884 797.461 71.7421 796.883 Q74.1958 796.304 76.2328 796.304 Q81.6031 796.304 84.7976 798.989 Q87.992 801.674 87.992 806.165 Q87.992 808.295 87.1818 810.216 Q86.3948 812.114 84.2883 814.707 Q83.7096 815.378 80.6078 818.596 Q77.5059 821.79 71.8578 827.554 Z\" fill=\"#000000\" fill-rule=\"evenodd\" fill-opacity=\"1\" /><path clip-path=\"url(#clip360)\" d=\"M 0 0 M103.247 800.008 Q99.6354 800.008 97.8068 803.572 Q96.0012 807.114 96.0012 814.244 Q96.0012 821.35 97.8068 824.915 Q99.6354 828.457 103.247 828.457 Q106.881 828.457 108.686 824.915 Q110.515 821.35 110.515 814.244 Q110.515 807.114 108.686 803.572 Q106.881 800.008 103.247 800.008 M103.247 796.304 Q109.057 796.304 112.112 800.91 Q115.191 805.494 115.191 814.244 Q115.191 822.971 112.112 827.577 Q109.057 832.16 103.247 832.16 Q97.4364 832.16 94.3577 827.577 Q91.3022 822.971 91.3022 814.244 Q91.3022 805.494 94.3577 800.91 Q97.4364 796.304 103.247 796.304 Z\" fill=\"#000000\" fill-rule=\"evenodd\" fill-opacity=\"1\" /><path clip-path=\"url(#clip360)\" d=\"M 0 0 M81.0476 497.101 Q84.404 497.819 86.279 500.088 Q88.1772 502.356 88.1772 505.689 Q88.1772 510.805 84.6587 513.606 Q81.1402 516.407 74.6587 516.407 Q72.4828 516.407 70.168 515.967 Q67.8764 515.55 65.4227 514.694 L65.4227 510.18 Q67.3671 511.314 69.6819 511.893 Q71.9967 512.472 74.5198 512.472 Q78.918 512.472 81.2096 510.736 Q83.5244 509 83.5244 505.689 Q83.5244 502.634 81.3717 500.921 Q79.242 499.185 75.4226 499.185 L71.3949 499.185 L71.3949 495.342 L75.6078 495.342 Q79.0569 495.342 80.8855 493.976 Q82.7142 492.588 82.7142 489.995 Q82.7142 487.333 80.8161 485.921 Q78.9411 484.486 75.4226 484.486 Q73.5013 484.486 71.3023 484.902 Q69.1032 485.319 66.4643 486.199 L66.4643 482.032 Q69.1264 481.291 71.4412 480.921 Q73.7791 480.551 75.8393 480.551 Q81.1633 480.551 84.2652 482.981 Q87.367 485.389 87.367 489.509 Q87.367 492.379 85.7235 494.37 Q84.08 496.338 81.0476 497.101 Z\" fill=\"#000000\" fill-rule=\"evenodd\" fill-opacity=\"1\" /><path clip-path=\"url(#clip360)\" d=\"M 0 0 M103.247 484.254 Q99.6354 484.254 97.8068 487.819 Q96.0012 491.361 96.0012 498.49 Q96.0012 505.597 97.8068 509.162 Q99.6354 512.703 103.247 512.703 Q106.881 512.703 108.686 509.162 Q110.515 505.597 110.515 498.49 Q110.515 491.361 108.686 487.819 Q106.881 484.254 103.247 484.254 M103.247 480.551 Q109.057 480.551 112.112 485.157 Q115.191 489.74 115.191 498.49 Q115.191 507.217 112.112 511.824 Q109.057 516.407 103.247 516.407 Q97.4364 516.407 94.3577 511.824 Q91.3022 507.217 91.3022 498.49 Q91.3022 489.74 94.3577 485.157 Q97.4364 480.551 103.247 480.551 Z\" fill=\"#000000\" fill-rule=\"evenodd\" fill-opacity=\"1\" /><path clip-path=\"url(#clip360)\" d=\"M 0 0 M78.5939 169.496 L66.7884 187.945 L78.5939 187.945 L78.5939 169.496 M77.367 165.422 L83.2466 165.422 L83.2466 187.945 L88.1772 187.945 L88.1772 191.834 L83.2466 191.834 L83.2466 199.982 L78.5939 199.982 L78.5939 191.834 L62.9921 191.834 L62.9921 187.32 L77.367 165.422 Z\" fill=\"#000000\" fill-rule=\"evenodd\" fill-opacity=\"1\" /><path clip-path=\"url(#clip360)\" d=\"M 0 0 M103.247 168.501 Q99.6354 168.501 97.8068 172.066 Q96.0012 175.607 96.0012 182.737 Q96.0012 189.843 97.8068 193.408 Q99.6354 196.95 103.247 196.95 Q106.881 196.95 108.686 193.408 Q110.515 189.843 110.515 182.737 Q110.515 175.607 108.686 172.066 Q106.881 168.501 103.247 168.501 M103.247 164.797 Q109.057 164.797 112.112 169.404 Q115.191 173.987 115.191 182.737 Q115.191 191.464 112.112 196.07 Q109.057 200.654 103.247 200.654 Q97.4364 200.654 94.3577 196.07 Q91.3022 191.464 91.3022 182.737 Q91.3022 173.987 94.3577 169.404 Q97.4364 164.797 103.247 164.797 Z\" fill=\"#000000\" fill-rule=\"evenodd\" fill-opacity=\"1\" /><path clip-path=\"url(#clip362)\" d=\"\n",
       "M260.941 1382.57 L260.941 1445.72 L654.954 1445.72 L654.954 1382.57 L260.941 1382.57 L260.941 1382.57  Z\n",
       "  \" fill=\"#009af9\" fill-rule=\"evenodd\" fill-opacity=\"1\"/>\n",
       "<polyline clip-path=\"url(#clip362)\" style=\"stroke:#000000; stroke-width:4; stroke-opacity:1; fill:none\" points=\"\n",
       "  260.941,1382.57 260.941,1445.72 654.954,1445.72 654.954,1382.57 260.941,1382.57 \n",
       "  \"/>\n",
       "<path clip-path=\"url(#clip362)\" d=\"\n",
       "M654.954 1161.54 L654.954 1445.72 L1048.97 1445.72 L1048.97 1161.54 L654.954 1161.54 L654.954 1161.54  Z\n",
       "  \" fill=\"#009af9\" fill-rule=\"evenodd\" fill-opacity=\"1\"/>\n",
       "<polyline clip-path=\"url(#clip362)\" style=\"stroke:#000000; stroke-width:4; stroke-opacity:1; fill:none\" points=\"\n",
       "  654.954,1161.54 654.954,1445.72 1048.97,1445.72 1048.97,1161.54 654.954,1161.54 \n",
       "  \"/>\n",
       "<path clip-path=\"url(#clip362)\" d=\"\n",
       "M1048.97 530.031 L1048.97 1445.72 L1442.98 1445.72 L1442.98 530.031 L1048.97 530.031 L1048.97 530.031  Z\n",
       "  \" fill=\"#009af9\" fill-rule=\"evenodd\" fill-opacity=\"1\"/>\n",
       "<polyline clip-path=\"url(#clip362)\" style=\"stroke:#000000; stroke-width:4; stroke-opacity:1; fill:none\" points=\"\n",
       "  1048.97,530.031 1048.97,1445.72 1442.98,1445.72 1442.98,530.031 1048.97,530.031 \n",
       "  \"/>\n",
       "<path clip-path=\"url(#clip362)\" d=\"\n",
       "M1442.98 87.9763 L1442.98 1445.72 L1836.99 1445.72 L1836.99 87.9763 L1442.98 87.9763 L1442.98 87.9763  Z\n",
       "  \" fill=\"#009af9\" fill-rule=\"evenodd\" fill-opacity=\"1\"/>\n",
       "<polyline clip-path=\"url(#clip362)\" style=\"stroke:#000000; stroke-width:4; stroke-opacity:1; fill:none\" points=\"\n",
       "  1442.98,87.9763 1442.98,1445.72 1836.99,1445.72 1836.99,87.9763 1442.98,87.9763 \n",
       "  \"/>\n",
       "<path clip-path=\"url(#clip362)\" d=\"\n",
       "M1836.99 908.935 L1836.99 1445.72 L2231.01 1445.72 L2231.01 908.935 L1836.99 908.935 L1836.99 908.935  Z\n",
       "  \" fill=\"#009af9\" fill-rule=\"evenodd\" fill-opacity=\"1\"/>\n",
       "<polyline clip-path=\"url(#clip362)\" style=\"stroke:#000000; stroke-width:4; stroke-opacity:1; fill:none\" points=\"\n",
       "  1836.99,908.935 1836.99,1445.72 2231.01,1445.72 2231.01,908.935 1836.99,908.935 \n",
       "  \"/>\n",
       "<path clip-path=\"url(#clip360)\" d=\"\n",
       "M1989.74 251.724 L2280.76 251.724 L2280.76 130.764 L1989.74 130.764  Z\n",
       "  \" fill=\"#ffffff\" fill-rule=\"evenodd\" fill-opacity=\"1\"/>\n",
       "<polyline clip-path=\"url(#clip360)\" style=\"stroke:#000000; stroke-width:4; stroke-opacity:1; fill:none\" points=\"\n",
       "  1989.74,251.724 2280.76,251.724 2280.76,130.764 1989.74,130.764 1989.74,251.724 \n",
       "  \"/>\n",
       "<path clip-path=\"url(#clip360)\" d=\"\n",
       "M2013.74 215.436 L2157.74 215.436 L2157.74 167.052 L2013.74 167.052 L2013.74 215.436  Z\n",
       "  \" fill=\"#009af9\" fill-rule=\"evenodd\" fill-opacity=\"1\"/>\n",
       "<polyline clip-path=\"url(#clip360)\" style=\"stroke:#000000; stroke-width:4; stroke-opacity:1; fill:none\" points=\"\n",
       "  2013.74,215.436 2157.74,215.436 2157.74,167.052 2013.74,167.052 2013.74,215.436 \n",
       "  \"/>\n",
       "<path clip-path=\"url(#clip360)\" d=\"M 0 0 M2195.58 210.931 Q2193.77 215.561 2192.06 216.973 Q2190.35 218.385 2187.48 218.385 L2184.08 218.385 L2184.08 214.82 L2186.58 214.82 Q2188.33 214.82 2189.31 213.987 Q2190.28 213.154 2191.46 210.052 L2192.22 208.107 L2181.74 182.598 L2186.25 182.598 L2194.35 202.876 L2202.46 182.598 L2206.97 182.598 L2195.58 210.931 Z\" fill=\"#000000\" fill-rule=\"evenodd\" fill-opacity=\"1\" /><path clip-path=\"url(#clip360)\" d=\"M 0 0 M2212.85 204.589 L2220.49 204.589 L2220.49 178.223 L2212.18 179.89 L2212.18 175.631 L2220.44 173.964 L2225.12 173.964 L2225.12 204.589 L2232.76 204.589 L2232.76 208.524 L2212.85 208.524 L2212.85 204.589 Z\" fill=\"#000000\" fill-rule=\"evenodd\" fill-opacity=\"1\" /></svg>\n"
      ]
     },
     "execution_count": 106,
     "metadata": {},
     "output_type": "execute_result"
    }
   ],
   "source": [
    "histogram(monte_runs)"
   ]
  },
  {
   "cell_type": "markdown",
   "metadata": {},
   "source": [
    "I found the the discretized finite step form of the laplacian added clarity to the monte carlo algorithm. We can describe both probablistic dynamics and the second derivative as matrices. Probablistic dynamics can also be estimated by running them. By scaling and interpeting the derivative matrix as probabilities, we can run a monte carlo process that estimates a pde. Pretty neat.\n",
    "\n",
    "\n",
    "\n"
   ]
  },
  {
   "cell_type": "markdown",
   "metadata": {},
   "source": [
    "A mostly unrelated idea.\n",
    "\n",
    "What about PDEs defined on distance function or polynomial domains\n",
    "This monte carlo thing gives one method\n",
    "\n",
    "\n",
    "But on a polynomial ddomain, we can form functions that ibey the homegenous boundary conditions by working in the ideal of that polynomial\n",
    "There is also the quotient spapce, which might be what we do for boundary value problems?\n",
    "\n",
    "Integrating the volume / orthogonalizing these fucntions with respects to L2 seems difficukt. We could L2 with respect to a larger box. We could monte carlo the L2, but why go all algerbaic anyway then\n",
    "\n",
    "\n",
    "\n",
    "However we could use SOS to minimize the L\\inf norm\n",
    "Or we could use weakened SOS , DSOS, SDSOS or sum of positives\n",
    "\n",
    "Isn't that fun?\n",
    "\n",
    "\n",
    "\n",
    "\n",
    "Can we find the volume is a semi-algebraic region? I feel skeptical. x^2 + y^2 <= 1  has area pi. How the hell are you goin to get pi\n",
    "\n",
    "To what degree is taking a derivative an algebraic opration?\n",
    "\n",
    "f(x+dx) mod dx^2 is an algebraic characterization of differentation.\n",
    "\n",
    "\n",
    "Meshes are nice because they are conceptually simple at the high level. However, at the lower level there are a lot of details. How to make good meshes. Getting the toplogy right. Dealing with the mesh data structures.\n",
    "\n",
    "\n",
    "Some questions have simple algerbaic characterizations. The circle or sphere is sligthly annnoying to mesh, but very easy to characterize by and algebraic equation.\n",
    "\n",
    "\n",
    "\n",
    "\n",
    "Oooh \n",
    "Lasere\n",
    "Didier  \n",
    "\n",
    "https://arxiv.org/abs/0807.2505 - integration approximation fo semialgebraic\n",
    "\n",
    "https://tel.archives-ouvertes.fr/tel-00657843 - rigourous polynomial approxiamtion thesis\n",
    "\n",
    "http://sollya.gforge.inria.fr/ - sollya. what is this? something for rigous floating point calculation?\n",
    "\n",
    "\n"
   ]
  },
  {
   "cell_type": "code",
   "execution_count": null,
   "metadata": {},
   "outputs": [],
   "source": []
  }
 ],
 "metadata": {
  "kernelspec": {
   "display_name": "Julia 1.4.1",
   "language": "julia",
   "name": "julia-1.4"
  },
  "language_info": {
   "file_extension": ".jl",
   "mimetype": "application/julia",
   "name": "julia",
   "version": "1.4.1"
  }
 },
 "nbformat": 4,
 "nbformat_minor": 4
}
