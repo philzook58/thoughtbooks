{
 "cells": [
  {
   "cell_type": "code",
   "execution_count": 8,
   "metadata": {},
   "outputs": [],
   "source": [
    "import cvxpy as cvx\n",
    "import matplotlib.pyplot as plt\n",
    "# See Rockefeller cahpter what have you\n",
    "# in haskell these would be effectful lens a -> m (b, b -> m a)\n",
    "class ConvexCat():\n",
    "    def __init__(self,res):\n",
    "        self.res = res\n",
    "    def idd(n):\n",
    "        def res():\n",
    "            x = cvx.Variable(n)\n",
    "            return x, x, 0, []\n",
    "        return ConvexCat(res)\n",
    "    def par(f,g):\n",
    "        def res():\n",
    "            x,y,o1, c1 = f()\n",
    "            z,w,o2, c2 = g()\n",
    "            a = cvx.hstack((x,z)) \n",
    "            b = cvx.hstack((y,w))\n",
    "            return a , b , o1 + o2, c1 + c2 + [a == a, b == b] # sigh. Don't ask. Alright. FINE. cvxpyp needs hstacks registered to populate them with values\n",
    "        return ConvexCat(res)\n",
    "    def compose(g,f):\n",
    "        def res():\n",
    "            x,y,o1, c1 = f()\n",
    "            y1,z,o2, c2 = g()\n",
    "            return x , z, o1 + o2, c1 + c2 + [y == y1]\n",
    "        return ConvexCat(res)\n",
    "    def dup(n):\n",
    "        def res():\n",
    "           x = cvx.Variable(n)\n",
    "           return x, cvx.vstack(x,x) , 0, []\n",
    "        return ConvexCat(res)\n",
    "    def __call__(self):\n",
    "        return self.res()\n",
    "    def run(self):\n",
    "        x, y, o, c = self.res()\n",
    "        prob = cvx.Problem(cvx.Minimize(o),c)\n",
    "        sol = prob.solve()\n",
    "        return sol, x, y, o\n",
    "    def __matmul__(self,g):\n",
    "        return self.compose(g)\n",
    "    def __mul__(self,g):\n",
    "        return self.par(g)\n",
    "    def const(v):\n",
    "        def res():\n",
    "            x = cvx.Variable(1) # hmm. cvxpy doesn't like 0d variables. That's too bad\n",
    "            return x, x, 0, [x == v]\n",
    "        return ConvexCat(res)\n",
    "    def converse(f):\n",
    "        def res():\n",
    "            a,b,o,c = f()\n",
    "            return b, a, o, c\n",
    "        return ConvexCat(res)\n",
    "    def add(n):\n",
    "        def res():\n",
    "            x = cvx.Variable(n)\n",
    "            return x, cvx.sum(x), 0, []\n",
    "        return ConvexCat(res)\n",
    "    def smul(s,n):\n",
    "        def res():\n",
    "            x = cvx.Variable(n)\n",
    "            return x, s * x, 0, []\n",
    "        return ConvexCat(res)\n",
    "    def pos(n):\n",
    "        def res():\n",
    "            x = cvx.Variable(n, positive=True)\n",
    "            return x, x, 0 , []\n",
    "        return ConvexCat(res)\n",
    "        \n",
    "\n",
    "         \n",
    "    \n",
    "    "
   ]
  },
  {
   "cell_type": "code",
   "execution_count": 10,
   "metadata": {},
   "outputs": [],
   "source": [
    "def controller(Cat,pend_step, pos, vel):\n",
    "   acc = Cat.idd(3)\n",
    "   for i in range(10):\n",
    "      acc = acc @ pend_step\n",
    "   init = Cat.const(pos) * Cat.const(vel) * Cat.idd(1) \n",
    "   return acc @ init"
   ]
  },
  {
   "cell_type": "code",
   "execution_count": 21,
   "metadata": {},
   "outputs": [
    {
     "name": "stdout",
     "output_type": "stream",
     "text": [
      "-1.0000000000000002\n",
      "-1.0000000000000002\n",
      "-1.0000000000000002\n",
      "-1.0000000000000002\n",
      "-1.0\n",
      "-1.0\n",
      "-1.0\n",
      "-1.0\n",
      "-1.0\n",
      "0.06294979496382455\n",
      "0.6775189061641425\n",
      "0.55890912857367\n",
      "0.4548078653862694\n",
      "0.37002045409361767\n",
      "0.30103857698835573\n",
      "0.2449167866102856\n",
      "0.19925762645178774\n",
      "0.1621105774262547\n",
      "0.13188875016449217\n",
      "0.10730109469793651\n",
      "0.08729724793824986\n",
      "0.07102266308694817\n",
      "0.0577821041452555\n",
      "0.04700994604167024\n",
      "0.03824601162472913\n",
      "0.03111591329848172\n",
      "0.02531505951257438\n",
      "0.020595642878219904\n",
      "0.016756054053772743\n",
      "0.01363226917038198\n"
     ]
    },
    {
     "data": {
      "image/png": "[encoded data removed]",
      "text/plain": [
       "<Figure size 432x288 with 1 Axes>"
      ]
     },
     "metadata": {
      "needs_background": "light"
     },
     "output_type": "display_data"
    }
   ],
   "source": [
    "CC = ConvexCat\n",
    "idd = CC.idd\n",
    "f = CC.const(1) @ (idd(5) * idd(6))\n",
    "sol, x, y, o = f.run()\n",
    "\n",
    "\n",
    "def pend_step_res():\n",
    "    dt = 0.1\n",
    "    x = cvx.Variable(2)\n",
    "    xnext = cvx.Variable(2)\n",
    "    f = cvx.Variable(1)\n",
    "    \n",
    "    pos = x[0]\n",
    "    vel = x[1]\n",
    "    posnext = xnext[0]\n",
    "    velnext = xnext[1]\n",
    "    c = []\n",
    "    c += [posnext == pos + vel*dt] # position update\n",
    "    c += [velnext == vel + (pos + f )* dt] # velocity update\n",
    "    c += [-1 <= f, f <= 1] # force constraint\n",
    "    c += [-1 <= posnext,   posnext <= 1] # safety constraint\n",
    "    c += [-1 <= pos, pos <= 1]\n",
    "    obj = pos**2 + posnext**2 # + 0.1 * f**2\n",
    "    z = cvx.Variable(1)\n",
    "    c += [z == 0]\n",
    "    return cvx.hstack((x , f)) , cvx.hstack((xnext,z)), obj,  c\n",
    "\n",
    "pend_step = ConvexCat(pend_step_res)\n",
    "\n",
    "pos = 0.5\n",
    "vel = 0\n",
    "poss = []\n",
    "vels = []\n",
    "fs = []\n",
    "dt = 0.1\n",
    "'''\n",
    "p_pos = cvx.Param(1)\n",
    "p_vel = cvx.Param(1)\n",
    "p_pos.value = pos\n",
    "p_pos.value = pos\n",
    "'''\n",
    "for j in range(30):\n",
    "\n",
    "   prob = controller(ConvexCat, pend_step, pos, vel)\n",
    "   _, x ,y ,_ = prob.run()\n",
    "   print(x.value[2])\n",
    "   #print(dir(x))\n",
    "   f = x.value[2]\n",
    "   #print(f)\n",
    "   \n",
    "   # actually update the state \n",
    "   pos = pos + vel * dt\n",
    "   vel = vel + (pos + f )* dt\n",
    "   poss.append(pos)\n",
    "   vels.append(vel)\n",
    "   fs.append(f)\n",
    "plt.plot(poss,label=\"pos\")\n",
    "plt.plot(vels, label=\"vel\")\n",
    "plt.plot(fs, label=\"force\")\n",
    "plt.legend()\n",
    "plt.savefig(\"controllerplot\")\n",
    "   \n",
    "   "
   ]
  },
  {
   "cell_type": "code",
   "execution_count": 2,
   "metadata": {},
   "outputs": [],
   "source": [
    "from graphcat import *"
   ]
  },
  {
   "cell_type": "code",
   "execution_count": 20,
   "metadata": {},
   "outputs": [
    {
     "data": {
      "text/plain": [
       "'controller.png'"
      ]
     },
     "execution_count": 20,
     "metadata": {},
     "output_type": "execute_result"
    }
   ],
   "source": [
    "GC = GraphCat\n",
    "pend_step = GC.block(\"pend_step\", [\"x(t)\", \"v(t)\", \"f(t)\"],[\"x(t+1)\", \"v(t+1)\", \"f(t+1)\"])\n",
    "pos = 0.5\n",
    "vel = 0\n",
    "'''\n",
    "acc = GC.idd(3)\n",
    "for i in range(10):\n",
    "  acc = acc @ pend_step\n",
    "init = GC.const(pos) * GC.const(vel) * GC.idd(1) \n",
    "prob = acc @ init\n",
    "'''\n",
    "prob = controller(GraphCat, pend_step, pos, vel)\n",
    "x = prob.run()\n",
    "x.format = \"png\"\n",
    "x.render(\"controller\")"
   ]
  },
  {
   "cell_type": "code",
   "execution_count": 3,
   "metadata": {},
   "outputs": [
    {
     "ename": "IndentationError",
     "evalue": "unindent does not match any outer indentation level (<tokenize>, line 23)",
     "output_type": "error",
     "traceback": [
      "\u001b[0;36m  File \u001b[0;32m\"<tokenize>\"\u001b[0;36m, line \u001b[0;32m23\u001b[0m\n\u001b[0;31m    def update_costate():\u001b[0m\n\u001b[0m    ^\u001b[0m\n\u001b[0;31mIndentationError\u001b[0m\u001b[0;31m:\u001b[0m unindent does not match any outer indentation level\n"
     ]
    }
   ],
   "source": [
    " "
   ]
  },
  {
   "cell_type": "code",
   "execution_count": null,
   "metadata": {},
   "outputs": [],
   "source": []
  }
 ],
 "metadata": {
  "@webio": {
   "lastCommId": null,
   "lastKernelId": null
  },
  "kernelspec": {
   "display_name": "Python 3",
   "language": "python",
   "name": "python3"
  },
  "language_info": {
   "codemirror_mode": {
    "name": "ipython",
    "version": 3
   },
   "file_extension": ".py",
   "mimetype": "text/x-python",
   "name": "python",
   "nbconvert_exporter": "python",
   "pygments_lexer": "ipython3",
   "version": "3.7.5"
  }
 },
 "nbformat": 4,
 "nbformat_minor": 2
}
