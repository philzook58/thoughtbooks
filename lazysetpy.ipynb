{
 "cells": [
  {
   "cell_type": "code",
   "execution_count": null,
   "metadata": {},
   "outputs": [],
   "source": [
    "import cvxpy as cvx"
   ]
  },
  {
   "cell_type": "markdown",
   "metadata": {},
   "source": [
    "LazySets.jl is pretty cool.\n",
    "I see kind of a core feature of it is you can represent a set as a convex optimization problem, which you can lazily probe for polyhedral approximations.\n",
    "I think the actual library does more precise things when possible"
   ]
  },
  {
   "cell_type": "code",
   "execution_count": null,
   "metadata": {},
   "outputs": [],
   "source": [
    "class LazySet():\n",
    "    self.constraints = []\n",
    "    self.vars = []\n",
    "    self.vs = []\n",
    "    self.hs = []\n",
    "    def probe(direction):\n",
    "        obj = cvx.Maximize(direction * self.vars)\n",
    "        prob = cvx.Prob(obj, self.constraints)\n",
    "        prob.solve()\n",
    "        self.vs += [self.vars.value]\n",
    "        self.hs += [ (obj.value, direction) ]\n",
    "    def intersect(self,s):\n",
    "        return LazySet( self.vars, self.constraints + s.constraints + [self.vars == s.vars]  )\n",
    "    def join(self,s):\n",
    "        pass #?\n",
    "    def elem(v):\n",
    "        obj = cvx.Maximize(1)\n",
    "        prob = cvx.Prob(obj, self.constraints + [v == self.vars])\n",
    "        res = prob.solve()\n",
    "        if res == feasible:\n",
    "            return True\n",
    "    def subset(self,s):\n",
    "        while True:\n",
    "            if inclusion(hrep(self.hs), vrep(self.vs)):\n",
    "                return True\n",
    "            elif any( s.elem( v ) for v in self.vs)\n",
    "                return False\n",
    "            refine( ) #? Pick good heursitic probe directions\n",
    "    \n",
    "    "
   ]
  },
  {
   "cell_type": "markdown",
   "metadata": {},
   "source": [
    "1 direction of extension that might be kind of cool is to lazily produce polynomial bounds using SOS (or chebysehv) rather than polyhedral bounds.\n",
    "If we had an interval hull\n",
    "\n",
    "\n",
    "I wonder if LazySet should be an open set, never a closed one. That might be enough that refinement will eventually succeed.\n",
    "\n",
    "\n",
    "The largets\n"
   ]
  }
 ],
 "metadata": {
  "kernelspec": {
   "display_name": "Python 3",
   "language": "python",
   "name": "python3"
  },
  "language_info": {
   "codemirror_mode": {
    "name": "ipython",
    "version": 3
   },
   "file_extension": ".py",
   "mimetype": "text/x-python",
   "name": "python",
   "nbconvert_exporter": "python",
   "pygments_lexer": "ipython3",
   "version": "3.7.5"
  }
 },
 "nbformat": 4,
 "nbformat_minor": 2
}
