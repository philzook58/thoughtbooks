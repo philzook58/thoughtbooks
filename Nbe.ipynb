{
 "cells": [
  {
   "cell_type": "markdown",
   "metadata": {},
   "source": [
    "The original nbe is in scheme.\n",
    "\n",
    "berger and something\n",
    "\n",
    "abel habiliation - doin it in dependent types http://www2.tcs.ifi.lmu.de/~abel/habil.pdf\n",
    "\n",
    "cody's thing. something something categroy theory\n",
    "\n",
    "\n"
   ]
  }
 ],
 "metadata": {
  "kernelspec": {
   "display_name": "Julia 1.5.0",
   "language": "julia",
   "name": "julia-1.5"
  },
  "language_info": {
   "file_extension": ".jl",
   "mimetype": "application/julia",
   "name": "julia",
   "version": "1.5.0"
  }
 },
 "nbformat": 4,
 "nbformat_minor": 4
}
