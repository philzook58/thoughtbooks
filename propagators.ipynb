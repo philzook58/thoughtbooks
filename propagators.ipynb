{
 "cells": [
  {
   "cell_type": "code",
   "execution_count": null,
   "metadata": {},
   "outputs": [],
   "source": [
    "class Cell():\n",
    "    value = {1,2,3,4}\n",
    "    listen = []\n",
    "    def join(self, v):\n",
    "        if subset(values, v):\n",
    "            return None\n",
    "        else:\n",
    "            self.value = union(self.value, v)\n",
    "            for p in listen:\n",
    "                p.fire()\n",
    "\n",
    "class Propagator():\n",
    "    incells = []\n",
    "    outcells = []\n",
    "    watch1 = \n",
    "    watch2 = \n",
    "    def fire():\n",
    "        pass\n",
    "    \n",
    "cells = []\n",
    "props = []\n",
    "\n"
   ]
  },
  {
   "cell_type": "markdown",
   "metadata": {},
   "source": [
    "Interval constraints propagation would be cool.\n",
    "Look at GeCode manual?\n",
    "Explicit lattice shit\n",
    "Multiprocessing?\n",
    "Could we compile it onto fpga?\n",
    "\n"
   ]
  }
 ],
 "metadata": {
  "kernelspec": {
   "display_name": "Python 3",
   "language": "python",
   "name": "python3"
  },
  "language_info": {
   "codemirror_mode": {
    "name": "ipython",
    "version": 3
   },
   "file_extension": ".py",
   "mimetype": "text/x-python",
   "name": "python",
   "nbconvert_exporter": "python",
   "pygments_lexer": "ipython3",
   "version": "3.7.5"
  }
 },
 "nbformat": 4,
 "nbformat_minor": 2
}
