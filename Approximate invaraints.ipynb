{
 "cells": [
  {
   "cell_type": "markdown",
   "metadata": {},
   "source": [
    "\n",
    "Revisitting some of the stuff from sigpe\n",
    "Olver\n",
    "sympy documentation\n",
    "polynomial certificate paper\n",
    "\n",
    "\n",
    "Lyapunov's method - termination metrics\n",
    "\n",
    "Loop invaraints - a differential equation is a very loopy loop\n",
    "lamport - the basic method is invariants\n",
    "\n",
    "energy and momentum\n",
    "symmettry and noether's theorem\n",
    "\n",
    "approximate invaraints, actiona angle coordinates and adiabatic theorem\n",
    "\n",
    "\n",
    "Lie derivative - how a function changes with time according to along flow\n",
    "Basically the material derivative.\n",
    "\n",
    "\n",
    "SHO\n",
    "\n",
    "\n",
    "Can we derive invaraint functions?\n",
    "\n",
    "\n",
    "\n",
    "Olver method of like extending the number of variable.\n",
    "prolongation\n",
    "\n",
    "\n",
    "This is finding a coordinate transfromation\n",
    "\n",
    "Can we use taylor models to find an approximate invaraint?\n",
    "\n",
    "\n",
    "\n",
    "\n",
    "Lie groups for solving differential equations like group groups solved polynomial equations\n",
    "http://www.physics.drexel.edu/~bob/LieGroups/LG_16.pdf\n",
    "\n",
    "\n",
    "https://www-users.math.umn.edu/~olver/t_/symcl.pdf\n",
    "\n",
    "\n",
    "\n",
    "Right... the other thing is we want to have a generator of new solutions\n",
    "So we can create an infinitseimal generator that carries things around\n",
    "\n",
    "\n",
    "\n",
    "It does seem pretty funky that we are using a function description of a surface when everything feels so algerbaic\n",
    "\n",
    "that python module that had smith form in it\n",
    "\n",
    "Solving Differential Equations by Symmetry Groups\n",
    "\n",
    "https://www.researchgate.net/publication/233653257_Solving_Differential_Equations_by_Symmetry_Groups/link/02e7e528697b277bc9000000/download\n",
    "\n",
    "Brings up a good point.\n",
    "\n",
    "Consider a family of curves x^2 + y ^2 = c^2, one could imagine fucking this all up by removing the constant by differentiation\n",
    "2x + y y' = 0\n",
    "This is now a differential equation.\n",
    "\n",
    "\n"
   ]
  },
  {
   "cell_type": "code",
   "execution_count": 1,
   "metadata": {},
   "outputs": [
    {
     "ename": "LoadError",
     "evalue": "syntax: extra token \"sympy\" after end of expression",
     "output_type": "error",
     "traceback": [
      "syntax: extra token \"sympy\" after end of expression",
      ""
     ]
    }
   ],
   "source": [
    "from sympy import *"
   ]
  },
  {
   "cell_type": "code",
   "execution_count": null,
   "metadata": {},
   "outputs": [],
   "source": [
    "diff( f(x + t * vx, y + t * vy), t).subs(t,0) # this is the vector  "
   ]
  },
  {
   "cell_type": "code",
   "execution_count": null,
   "metadata": {},
   "outputs": [],
   "source": [
    "def lie(e,v): # directional derivative\n",
    "    return sum( v * diff(e,x)   for v, x in zip(v , variables)]) \n",
    "\n",
    "def prolongation(e):\n",
    "    # replace all derivatives with fresh variables\n",
    "    # But also note that this induces a constraint on the form of the lie derivative\n",
    "    # \n",
    "\n",
    "    \n",
    "    \n",
    "xreplace()   \n",
    "\n",
    "f = Function(\"f\")\n",
    "u = f(t)\n",
    "p = diff(f(t),t)\n",
    "taking along with the flow\n",
    "Arbitrary vector field:\n",
    "psi du + eta dt + phi dp\n",
    "#However, only flows that preserve the differential equation? No. We do that after we have the formula\n",
    "#  F(x,u,p) = 0\n",
    "\n",
    "psi = Function(\"psi\")\n",
    "eta = Function(\"eta\")\n",
    "\n",
    "diff(    ,  t  )\n",
    "\n",
    "\n",
    "\n"
   ]
  },
  {
   "cell_type": "code",
   "execution_count": 4,
   "metadata": {},
   "outputs": [
    {
     "ename": "LoadError",
     "evalue": "syntax: extra token \"sympy\" after end of expression",
     "output_type": "error",
     "traceback": [
      "syntax: extra token \"sympy\" after end of expression",
      ""
     ]
    }
   ],
   "source": [
    "from sympy import *"
   ]
  },
  {
   "cell_type": "code",
   "execution_count": 3,
   "metadata": {},
   "outputs": [
    {
     "ename": "MethodError",
     "evalue": "MethodError: no constructors have been defined for Function",
     "output_type": "error",
     "traceback": [
      "MethodError: no constructors have been defined for Function",
      "",
      "Stacktrace:",
      " [1] top-level scope at In[3]:1"
     ]
    }
   ],
   "source": [
    "eta = Function(\"eta\")\n",
    "\n",
    "diff(  eta(t)  ,  t  )"
   ]
  },
  {
   "cell_type": "code",
   "execution_count": null,
   "metadata": {},
   "outputs": [],
   "source": []
  }
 ],
 "metadata": {
  "kernelspec": {
   "display_name": "Julia 1.3.1",
   "language": "julia",
   "name": "julia-1.3"
  },
  "language_info": {
   "file_extension": ".jl",
   "mimetype": "application/julia",
   "name": "julia",
   "version": "1.3.1"
  }
 },
 "nbformat": 4,
 "nbformat_minor": 2
}
