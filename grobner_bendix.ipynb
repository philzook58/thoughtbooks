{
 "cells": [
  {
   "cell_type": "markdown",
   "metadata": {},
   "source": [
    "maybe I should do a shitty grobner basis algo, Just cause it might be useful to have access to guts.\n",
    "\n",
    "\n",
    "Operads grobner https://www.maths.tcd.ie/~vdots/AlgebraicOperadsAnAlgorithmicCompanion.pdf What the heck. From Evan's site\n",
    "\n",
    "Archived:\n",
    "https://github.com/tkluck/FGb.jl\n",
    "\n",
    "\n",
    "\n",
    "Also, could finally try to understand knuth bendix\n",
    "\n",
    "What is the general procedure:\n",
    "\n",
    "determine a monomial ordering\n",
    "\n",
    "\n",
    "we want an ordered thing by leading term.\n",
    "\n",
    "\n",
    "https://www.researchgate.net/publication/220460160_An_Introduction_to_Knuth-Bendix_Completion\n",
    "\n",
    "\n",
    "\n",
    "It seems like sorted containers might be useful.\n",
    "\n",
    "I feel like i don't have very satisfying data structures, but I should ignore that probably\n",
    "http://www.cs.tau.ac.il/~nachumd/course.html\n",
    "\n",
    "\n",
    "http://haskellformaths.blogspot.com/2010/05/string-rewriting-and-knuth-bendix.html nice post. a relatively straightforward presentation?\n",
    "\n",
    "\n",
    "https://www.sciencedirect.com/science/article/pii/S0747717199902626 - categorical completion algorithm \n",
    "\n",
    "It's kind of constructively build a term that could go two ways. Then add the two ways to your set of rules. rinse ancd repeat\n",
    "\n",
    "https://cstheory.stackexchange.com/questions/12326/unification-and-gaussian-elimination\n",
    "completion algorithms\n",
    "\n",
    "\n",
    "I guess grobner wise, we build a polynomial that could've gone two ways The the least common multiple monomial?). and then the S polynomial is the result of long devision by either choice.  \n",
    "\n",
    "Term rewriting\n",
    "String rewriting\n",
    "Word problems\n",
    "\n",
    "\n",
    "the group axioms\n",
    "\n",
    "\n",
    "For catgeoyr theor rewriting\n",
    "Hash cons / sharing\n",
    "oldest/shortest mix (or someother metric besides shortest)\n",
    "\n",
    "Polynomials with a monomial ordering can be thgouth of as the equation / rewrite rule\n",
    "\n",
    "lt(p) -> p - lt(p)\n",
    "\n",
    "\n",
    "linear equations + a basis ordering\n",
    "Gaussian elmination can be thought of as reorgniazation\n",
    "lt(v) -> v - lt(v)\n",
    "this is the triangular solve.\n",
    "\n",
    "\n",
    "\n",
    "There is a procedure (\"unification\") which finds ways of matching patterns to each other.\n",
    "This produces a set of all the possible subpieces where one could apply rule A vs rule B and where it might matter.\n",
    "Apply A and B to this matched object. Then reduce it with all the known rules so far.\n",
    "\n",
    "For grobner basis, this common object is the monomial that is the least common multiple of the leading monomials of the individuals.\n",
    "Then reduction of this lcm monomial with respect to poly 1 vs poly2 builds the S-polynomial once oirented. Again the \"rewrite\" can be though of as two sides of an equation, or putting everything on one side as subtraction.\n",
    "\n",
    "For linear equations, the \n",
    "\n",
    "for strings the least common multiple is an overlapping configuration\n",
    "Semi-thue systems\n",
    "\n",
    "\n",
    "\n",
    "Resolution / Superposition? \n",
    "Superpsoition of one term over the other.\n",
    "\n",
    "What is the pattern and rewrite of a cnf clause? Maybe clause -> True?\n",
    "Or negatiion -> positive. Rewrite in terms of implications?\n",
    "There isn't an obvious term ordering really?\n",
    "The entire clause is the monomial here? Just a term member of the clause?\n",
    "\n",
    "Graver basis?\n",
    "\n",
    "There is a possible matching stage\n",
    "\n",
    "\n",
    "x^m \n",
    "\n",
    "\n",
    "https://github.com/HarrisonGrodin/Completion.jl\n",
    "\n",
    "\n",
    "https://www.meetup.com/papers-we-love/events/242063907/ bazerman talk on term rewriting via homology\n",
    "http://math.ucr.edu/home/baez/week70.html\n",
    "https://www.youtube.com/watch?v=WdawrT-6Qzk\n",
    "\n",
    "evan also had topological looking rewriting links on his page?\n",
    "\n",
    "\n",
    "\n"
   ]
  },
  {
   "cell_type": "code",
   "execution_count": 10,
   "metadata": {},
   "outputs": [
    {
     "data": {
      "text/plain": [
       "6"
      ]
     },
     "execution_count": 10,
     "metadata": {},
     "output_type": "execute_result"
    }
   ],
   "source": [
    "length(\"113241\")"
   ]
  },
  {
   "cell_type": "code",
   "execution_count": 11,
   "metadata": {},
   "outputs": [
    {
     "name": "stdout",
     "output_type": "stream",
     "text": [
      "21312"
     ]
    }
   ],
   "source": [
    "for c in \"21312\"\n",
    "    print(c)\n",
    "end"
   ]
  },
  {
   "cell_type": "code",
   "execution_count": 14,
   "metadata": {},
   "outputs": [
    {
     "data": {
      "text/plain": [
       "\"s213\""
      ]
     },
     "execution_count": 14,
     "metadata": {},
     "output_type": "execute_result"
    }
   ],
   "source": [
    "\"s213123\"[1:4] == "
   ]
  },
  {
   "cell_type": "code",
   "execution_count": 21,
   "metadata": {},
   "outputs": [
    {
     "data": {
      "text/plain": [
       "\"2\""
      ]
     },
     "execution_count": 21,
     "metadata": {},
     "output_type": "execute_result"
    }
   ],
   "source": [
    "\"21312\"[5:end]"
   ]
  },
  {
   "cell_type": "markdown",
   "metadata": {},
   "source": [
    "I probably shouldn't mash these toghether.\n",
    "\n",
    "There's no reason, since I need to splice them different too.\n",
    "Is there no way to do this elegantly? I guess boundaries are always shit\n",
    "\n",
    "\n",
    "Do i want a sorted dict for reduction.\n",
    "Do I do repeat the largest reductions first? Can I guarantee smaller reductions won't unlock the large one? Or is that part of the point?\n"
   ]
  },
  {
   "cell_type": "code",
   "execution_count": null,
   "metadata": {},
   "outputs": [],
   "source": [
    "using \n",
    "\n"
   ]
  },
  {
   "cell_type": "code",
   "execution_count": 63,
   "metadata": {},
   "outputs": [
    {
     "name": "stdout",
     "output_type": "stream",
     "text": [
      "a"
     ]
    }
   ],
   "source": [
    "for (k,v) in Dict(:a => 2)\n",
    "    print(k)\n",
    "end"
   ]
  },
  {
   "cell_type": "code",
   "execution_count": 64,
   "metadata": {},
   "outputs": [
    {
     "data": {
      "text/plain": [
       "reduce_match (generic function with 1 method)"
      ]
     },
     "execution_count": 64,
     "metadata": {},
     "output_type": "execute_result"
    }
   ],
   "source": [
    "function reduce_match( p , m)\n",
    "    old = nothing\n",
    "    new = p\n",
    "    while old != new\n",
    "        old = new\n",
    "        for (l,r) in m\n",
    "            new = replace(new, l => r)\n",
    "        end\n",
    "    end\n",
    "    return new\n",
    "end\n",
    "            \n"
   ]
  },
  {
   "cell_type": "code",
   "execution_count": null,
   "metadata": {},
   "outputs": [],
   "source": [
    "\n",
    "# SKI calculus.\n",
    "# needs regexp groups. But would regexp be able to handle nested parentehsis properly?\n",
    "Dict( \"\" => ,  )"
   ]
  },
  {
   "cell_type": "code",
   "execution_count": 71,
   "metadata": {},
   "outputs": [
    {
     "data": {
      "text/plain": [
       "false"
      ]
     },
     "execution_count": 71,
     "metadata": {},
     "output_type": "execute_result"
    }
   ],
   "source": [
    "!true"
   ]
  },
  {
   "cell_type": "code",
   "execution_count": null,
   "metadata": {},
   "outputs": [],
   "source": [
    "processed = Dict()\n",
    "unprocessed = orig\n",
    "\n",
    "\n",
    "while !empty(unprocessed)\n",
    "    for s2 in processed\n",
    "        for l,r in critialpair()\n",
    "            if l < r\n",
    "                unprocessed.add(r => l)\n",
    "            elseif r < l\n",
    "                unprocessed.add(l => r)\n",
    "            end\n",
    "        end\n",
    "    end\n",
    "end\n",
    "\n",
    "\n",
    "\n",
    "compress?\n",
    "\n",
    "\n",
    "\n"
   ]
  },
  {
   "cell_type": "code",
   "execution_count": 69,
   "metadata": {},
   "outputs": [
    {
     "data": {
      "text/plain": [
       "\"aabaabaa\""
      ]
     },
     "execution_count": 69,
     "metadata": {},
     "output_type": "execute_result"
    }
   ],
   "source": [
    "reduce_match(\"ababababababababa\", Dict(\"ababa\" => \"abc\", \"bc\" => \"a\"))"
   ]
  },
  {
   "cell_type": "code",
   "execution_count": 56,
   "metadata": {},
   "outputs": [
    {
     "data": {
      "text/plain": [
       "overlaps (generic function with 2 methods)"
      ]
     },
     "execution_count": 56,
     "metadata": {},
     "output_type": "execute_result"
    }
   ],
   "source": [
    "function overlaps(s1::String,s2::String) # it actually isn't necessary they're strings. Any iterable of somethign with equality.\n",
    "    if length(s1) < length(s2) # make s1 the bigger string or equal\n",
    "        tmp = s1\n",
    "        s1 = s2\n",
    "        s2 = s1\n",
    "    end\n",
    "    n1 = length(s1)\n",
    "    n2 = length(s2)\n",
    "    return Iterators.flatten((\n",
    "                   [i-n2+1 for i in 1:n2 if s1[1:i] == s2[n2-i+1:end]  ],\n",
    "                   [ i for i in 2:(n1-n2) if s1[i:i+n2-1] == s2 ], #not very ends\n",
    "            [n1 - i + 1 for i in 1:n2 if s1[n1-i+1:end] == s2[1:i]  ]))\n",
    "end"
   ]
  },
  {
   "cell_type": "code",
   "execution_count": null,
   "metadata": {},
   "outputs": [],
   "source": []
  },
  {
   "cell_type": "code",
   "execution_count": 57,
   "metadata": {},
   "outputs": [
    {
     "data": {
      "text/plain": [
       "1-element Array{Int64,1}:\n",
       " 3"
      ]
     },
     "execution_count": 57,
     "metadata": {},
     "output_type": "execute_result"
    }
   ],
   "source": [
    "s1 = \"abab\"\n",
    "s2 = \"ab\"\n",
    "n1 = length(s1)\n",
    "n2 = length(s2)\n",
    "[n1 - i + 1 for i in 1:n2 if s1[n1-i+1:end] == s2[1:i]  ]\n",
    "#[i-n2+1 for i in 1:n2 if s1[1:i] == s2[n2-i+1:end]  ]\n",
    "#[ i for i in 2:(n1-n2) if s1[i:i+n2-1] == s2 ]"
   ]
  },
  {
   "cell_type": "code",
   "execution_count": 58,
   "metadata": {},
   "outputs": [
    {
     "data": {
      "text/plain": [
       "\"aba\""
      ]
     },
     "execution_count": 58,
     "metadata": {},
     "output_type": "execute_result"
    }
   ],
   "source": [
    "s1[1:1+2]"
   ]
  },
  {
   "cell_type": "code",
   "execution_count": 60,
   "metadata": {},
   "outputs": [
    {
     "data": {
      "text/plain": [
       "4-element Array{Int64,1}:\n",
       " 1\n",
       " 3\n",
       " 5\n",
       " 7"
      ]
     },
     "execution_count": 60,
     "metadata": {},
     "output_type": "execute_result"
    }
   ],
   "source": [
    "collect(overlaps(\"abababab\", \"ab\"))"
   ]
  },
  {
   "cell_type": "code",
   "execution_count": 62,
   "metadata": {},
   "outputs": [
    {
     "data": {
      "text/plain": [
       "2-element Array{Int64,1}:\n",
       " -1\n",
       "  8"
      ]
     },
     "execution_count": 62,
     "metadata": {},
     "output_type": "execute_result"
    }
   ],
   "source": [
    "collect(overlaps(\"cabababab\", \"abc\"))"
   ]
  },
  {
   "cell_type": "code",
   "execution_count": 1,
   "metadata": {},
   "outputs": [
    {
     "data": {
      "text/plain": [
       "\"cc\""
      ]
     },
     "execution_count": 1,
     "metadata": {},
     "output_type": "execute_result"
    }
   ],
   "source": [
    "replace(\"abab\", \"ab\" => \"c\")"
   ]
  },
  {
   "cell_type": "code",
   "execution_count": 4,
   "metadata": {},
   "outputs": [
    {
     "data": {
      "text/plain": [
       "3-element Array{SubString{String},1}:\n",
       " \"\"\n",
       " \"c\"\n",
       " \"\""
      ]
     },
     "execution_count": 4,
     "metadata": {},
     "output_type": "execute_result"
    }
   ],
   "source": [
    "split(\"abcab\", \"ab\") # what about partial overlaps? Could double the rule?\n"
   ]
  },
  {
   "cell_type": "code",
   "execution_count": 6,
   "metadata": {},
   "outputs": [],
   "source": [
    "match(r\"abcab\", \"ab\")"
   ]
  },
  {
   "cell_type": "code",
   "execution_count": 7,
   "metadata": {},
   "outputs": [
    {
     "data": {
      "text/plain": [
       "RegexMatch(\"ab\")"
      ]
     },
     "execution_count": 7,
     "metadata": {},
     "output_type": "execute_result"
    }
   ],
   "source": [
    "match(r\"ab\", \"abcab\")"
   ]
  },
  {
   "cell_type": "code",
   "execution_count": 8,
   "metadata": {},
   "outputs": [
    {
     "data": {
      "text/plain": [
       "Base.RegexMatchIterator(r\"ab\", \"abcab\", false)"
      ]
     },
     "execution_count": 8,
     "metadata": {},
     "output_type": "execute_result"
    }
   ],
   "source": [
    "eachmatch(r\"ab\", \"abcab\")"
   ]
  },
  {
   "cell_type": "code",
   "execution_count": null,
   "metadata": {},
   "outputs": [],
   "source": [
    "function critical(l1 => r1, l2 => r2 )\n",
    "    = split(l1,l2)\n",
    "\n",
    "end"
   ]
  },
  {
   "cell_type": "code",
   "execution_count": 2,
   "metadata": {},
   "outputs": [],
   "source": [
    "using DataStructures\n",
    "# https://juliacollections.github.io/DataStructures.jl/v0.9/sorted_containers.html"
   ]
  },
  {
   "cell_type": "code",
   "execution_count": 3,
   "metadata": {},
   "outputs": [
    {
     "data": {
      "text/plain": [
       "SortedDict{String,String,Base.Order.ForwardOrdering} with 2 entries:\n",
       "  \"a\"  => \"b\"\n",
       "  \"ab\" => \"c\""
      ]
     },
     "execution_count": 3,
     "metadata": {},
     "output_type": "execute_result"
    }
   ],
   "source": [
    "SortedDict(\"ab\" => \"c\", \"a\" => \"b\")"
   ]
  },
  {
   "cell_type": "code",
   "execution_count": null,
   "metadata": {},
   "outputs": [],
   "source": [
    "Set{Array{T}} # represent a linear subspace as a set of vectors\n",
    "# term ordering\n",
    "\n",
    "\n",
    "l\n",
    "lt\n",
    "lc\n",
    "reduce( a , Set )\n",
    "reduce( a , b )\n"
   ]
  },
  {
   "cell_type": "code",
   "execution_count": null,
   "metadata": {},
   "outputs": [],
   "source": [
    "\n",
    "\n",
    "\n",
    "Set{( Array{Symbol}  ,  Array{Symbol} )}\n",
    "\n",
    "\n"
   ]
  },
  {
   "cell_type": "code",
   "execution_count": null,
   "metadata": {},
   "outputs": [],
   "source": [
    "function replace(x,lhs,rhs)\n",
    "    for i in 1:(len(x) - n)\n",
    "        if s[i:i+n] == lhs\n",
    "            return concatenate( x[1:i] , rhs , x[i+n:end] ) \n",
    "        end\n",
    "    end\n",
    "end\n",
    "\n",
    "\n",
    "function reduce(x, s)\n",
    "    done = false\n",
    "    while done == false\n",
    "        done = true\n",
    "        for (lhs,rhs) in s\n",
    "            res = replace(x,lhs,rhs)\n",
    "            if res != nothing\n",
    "                x = res\n",
    "                done = false\n",
    "            end\n",
    "        end\n",
    "    end\n",
    "end\n",
    "\n"
   ]
  },
  {
   "cell_type": "code",
   "execution_count": null,
   "metadata": {},
   "outputs": [],
   "source": [
    "Set([1 0 2], [2 4 0])\n",
    "\n",
    "for v,w in s\n",
    "    i = lm(v) # index of first non zero\n",
    "    j = lm(w) # index of first non zero\n",
    "    if j < i\n",
    "        \n",
    "\n",
    "# long division by a vector is triangular solving"
   ]
  }
 ],
 "metadata": {
  "kernelspec": {
   "display_name": "Julia 1.4.1",
   "language": "julia",
   "name": "julia-1.4"
  },
  "language_info": {
   "file_extension": ".jl",
   "mimetype": "application/julia",
   "name": "julia",
   "version": "1.4.1"
  }
 },
 "nbformat": 4,
 "nbformat_minor": 4
}
