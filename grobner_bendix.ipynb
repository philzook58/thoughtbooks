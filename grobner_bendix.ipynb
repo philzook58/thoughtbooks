{
 "cells": [
  {
   "cell_type": "markdown",
   "metadata": {},
   "source": [
    "maybe I should do a shitty grobner basis algo, Just cause it might be useful to have access to guts.\n",
    "\n",
    "\n",
    "Operads grobner https://www.maths.tcd.ie/~vdots/AlgebraicOperadsAnAlgorithmicCompanion.pdf What the heck. From Evan's site\n",
    "\n",
    "Archived:\n",
    "https://github.com/tkluck/FGb.jl\n",
    "\n",
    "\n",
    "\n",
    "Also, could finally try to understand knuth bendix\n",
    "\n",
    "What is the general procedure:\n",
    "\n",
    "determine a monomial ordering\n",
    "\n",
    "\n",
    "we want an ordered thing by leading term.\n",
    "\n",
    "\n",
    "https://www.researchgate.net/publication/220460160_An_Introduction_to_Knuth-Bendix_Completion\n",
    "\n",
    "\n",
    "\n",
    "It seems like sorted containers might be useful.\n",
    "\n",
    "I feel like i don't have very satisfying data structures, but I should ignore that probably\n",
    "http://www.cs.tau.ac.il/~nachumd/course.html\n",
    "\n",
    "\n",
    "http://haskellformaths.blogspot.com/2010/05/string-rewriting-and-knuth-bendix.html nice post. a relatively straightforward presentation?\n",
    "\n",
    "\n",
    "https://www.sciencedirect.com/science/article/pii/S0747717199902626 - categorical completion algorithm \n",
    "\n",
    "It's kind of constructively build a term that could go two ways. Then add the two ways to your set of rules. rinse ancd repeat\n",
    "\n",
    "https://cstheory.stackexchange.com/questions/12326/unification-and-gaussian-elimination\n",
    "completion algorithms\n",
    "\n",
    "\n",
    "I guess grobner wise, we build a polynomial that could've gone two ways The the least common multiple monomial?). and then the S polynomial is the result of long devision by either choice.  \n",
    "\n",
    "Term rewriting\n",
    "String rewriting\n",
    "Word problems\n",
    "\n",
    "\n",
    "the group axioms\n",
    "\n",
    "\n",
    "For catgeoyr theor rewriting\n",
    "Hash cons / sharing\n",
    "oldest/shortest mix (or someother metric besides shortest)\n",
    "\n",
    "Polynomials with a monomial ordering can be thgouth of as the equation / rewrite rule\n",
    "\n",
    "lt(p) -> p - lt(p)\n",
    "\n",
    "\n",
    "linear equations + a basis ordering\n",
    "Gaussian elmination can be thought of as reorgniazation\n",
    "lt(v) -> v - lt(v)\n",
    "this is the triangular solve.\n",
    "\n",
    "\n",
    "\n",
    "There is a procedure (\"unification\") which finds ways of matching patterns to each other.\n",
    "This produces a set of all the possible subpieces where one could apply rule A vs rule B and where it might matter.\n",
    "Apply A and B to this matched object. Then reduce it with all the known rules so far.\n",
    "\n",
    "For grobner basis, this common object is the monomial that is the least common multiple of the leading monomials of the individuals.\n",
    "Then reduction of this lcm monomial with respect to poly 1 vs poly2 builds the S-polynomial once oirented. Again the \"rewrite\" can be though of as two sides of an equation, or putting everything on one side as subtraction.\n",
    "\n",
    "For linear equations, the \n",
    "\n",
    "for strings the least common multiple is an overlapping configuration\n",
    "Semi-thue systems\n",
    "\n",
    "\n",
    "\n",
    "Resolution / Superposition? \n",
    "Superpsoition of one term over the other.\n",
    "\n",
    "What is the pattern and rewrite of a cnf clause? Maybe clause -> True?\n",
    "Or negatiion -> positive. Rewrite in terms of implications?\n",
    "There isn't an obvious term ordering really?\n",
    "The entire clause is the monomial here? Just a term member of the clause?\n",
    "\n",
    "Graver basis?\n",
    "\n",
    "There is a possible matching stage\n",
    "\n",
    "\n",
    "x^m \n",
    "\n",
    "\n",
    "https://github.com/HarrisonGrodin/Completion.jl\n",
    "\n",
    "\n",
    "https://www.meetup.com/papers-we-love/events/242063907/ bazerman talk on term rewriting via homology\n",
    "http://math.ucr.edu/home/baez/week70.html\n",
    "https://www.youtube.com/watch?v=WdawrT-6Qzk\n",
    "\n",
    "evan also had topological looking rewriting links on his page?\n",
    "\n",
    "\n",
    "https://homepage.divms.uiowa.edu/~fleck/181content/taste-fixed.pdf\n",
    "\n",
    "\n",
    "http://www.scholarpedia.org/article/Buchberger%27s_algorithm\n",
    "\n",
    "https://doc.sagemath.org/html/en/reference/polynomial_rings/sage/rings/polynomial/toy_buchberger.html\n",
    "\n",
    "\n",
    "\n",
    "\n",
    "the f4 algorithm\n",
    "abuses sparse linear algebra to do s polynomial reduction in parallel\n",
    "\n",
    "You can pack nonlinear problems into linear problems by sort of brute force expadning the multiplications.\n",
    "You'll find thias of this character in resolvents, the sylvester matrix\n",
    "\n",
    "For example suppose I made a vector where every row correpsonds to a monomial. Addidng these vectors corresponds to adding polynomials.\n",
    "I can make a matrix that acts on this vector that correspond to multiplying by another polynomial p. All I need to do is fill each column of the matrix with waht polynomial would result from \n",
    "\n",
    "https://github.com/gcalderone/ReusePatterns.jl @forward macro that may be useful for orderings of polynomials\n",
    "\n",
    "https://ir.lib.uwo.ca/cgi/viewcontent.cgi?article=7762&context=etd high performance sparse polynimials thesis\n",
    "\n",
    "\n"
   ]
  },
  {
   "cell_type": "code",
   "execution_count": 10,
   "metadata": {},
   "outputs": [
    {
     "data": {
      "text/plain": [
       "6"
      ]
     },
     "execution_count": 10,
     "metadata": {},
     "output_type": "execute_result"
    }
   ],
   "source": [
    "length(\"113241\")"
   ]
  },
  {
   "cell_type": "code",
   "execution_count": 11,
   "metadata": {},
   "outputs": [
    {
     "name": "stdout",
     "output_type": "stream",
     "text": [
      "21312"
     ]
    }
   ],
   "source": [
    "for c in \"21312\"\n",
    "    print(c)\n",
    "end"
   ]
  },
  {
   "cell_type": "code",
   "execution_count": 14,
   "metadata": {},
   "outputs": [
    {
     "data": {
      "text/plain": [
       "\"s213\""
      ]
     },
     "execution_count": 14,
     "metadata": {},
     "output_type": "execute_result"
    }
   ],
   "source": [
    "\"s213123\"[1:4] == "
   ]
  },
  {
   "cell_type": "code",
   "execution_count": 21,
   "metadata": {},
   "outputs": [
    {
     "data": {
      "text/plain": [
       "\"2\""
      ]
     },
     "execution_count": 21,
     "metadata": {},
     "output_type": "execute_result"
    }
   ],
   "source": [
    "\"21312\"[5:end]"
   ]
  },
  {
   "cell_type": "markdown",
   "metadata": {},
   "source": [
    "I probably shouldn't mash these toghether.\n",
    "\n",
    "There's no reason, since I need to splice them different too.\n",
    "Is there no way to do this elegantly? I guess boundaries are always shit\n",
    "\n",
    "\n",
    "Do i want a sorted dict for reduction.\n",
    "Do I do repeat the largest reductions first? Can I guarantee smaller reductions won't unlock the large one? Or is that part of the point?\n"
   ]
  },
  {
   "cell_type": "markdown",
   "metadata": {},
   "source": [
    "Reduction\n",
    "\n",
    "So I guess that lhs that are directly reducible from each other?\n",
    "\n",
    "\n",
    "Everything is secrelty equations.\n",
    "\n",
    "If you reduce a rhs, that's fine\n",
    "but reducing a lhs you may have to consider reorienting the rule, or that it has become a pure equality\n",
    "\n",
    "\n"
   ]
  },
  {
   "cell_type": "code",
   "execution_count": null,
   "metadata": {},
   "outputs": [],
   "source": [
    "using \n",
    "\n"
   ]
  },
  {
   "cell_type": "code",
   "execution_count": 63,
   "metadata": {},
   "outputs": [
    {
     "name": "stdout",
     "output_type": "stream",
     "text": [
      "a"
     ]
    }
   ],
   "source": [
    "for (k,v) in Dict(:a => 2)\n",
    "    print(k)\n",
    "end"
   ]
  },
  {
   "cell_type": "code",
   "execution_count": 64,
   "metadata": {},
   "outputs": [
    {
     "data": {
      "text/plain": [
       "reduce_match (generic function with 1 method)"
      ]
     },
     "execution_count": 64,
     "metadata": {},
     "output_type": "execute_result"
    }
   ],
   "source": [
    "function reduce_match( p , m)\n",
    "    old = nothing\n",
    "    new = p\n",
    "    while old != new\n",
    "        old = new\n",
    "        for (l,r) in m\n",
    "            new = replace(new, l => r)\n",
    "        end\n",
    "    end\n",
    "    return new\n",
    "end\n",
    "            \n"
   ]
  },
  {
   "cell_type": "code",
   "execution_count": null,
   "metadata": {},
   "outputs": [],
   "source": [
    "\n",
    "# SKI calculus.\n",
    "# needs regexp groups. But would regexp be able to handle nested parentehsis properly?\n",
    "Dict( \"\" => ,  )"
   ]
  },
  {
   "cell_type": "code",
   "execution_count": 71,
   "metadata": {},
   "outputs": [
    {
     "data": {
      "text/plain": [
       "false"
      ]
     },
     "execution_count": 71,
     "metadata": {},
     "output_type": "execute_result"
    }
   ],
   "source": [
    "!true"
   ]
  },
  {
   "cell_type": "code",
   "execution_count": null,
   "metadata": {},
   "outputs": [],
   "source": [
    "processed = Dict()\n",
    "unprocessed = orig\n",
    "\n",
    "\n",
    "while !empty(unprocessed)\n",
    "    for s2 in processed\n",
    "        for l,r in critialpair()\n",
    "            if l < r\n",
    "                unprocessed.add(r => l)\n",
    "            elseif r < l\n",
    "                unprocessed.add(l => r)\n",
    "            end\n",
    "        end\n",
    "    end\n",
    "end\n",
    "\n",
    "\n",
    "\n",
    "compress?\n",
    "\n",
    "\n",
    "\n"
   ]
  },
  {
   "cell_type": "code",
   "execution_count": 69,
   "metadata": {},
   "outputs": [
    {
     "data": {
      "text/plain": [
       "\"aabaabaa\""
      ]
     },
     "execution_count": 69,
     "metadata": {},
     "output_type": "execute_result"
    }
   ],
   "source": [
    "reduce_match(\"ababababababababa\", Dict(\"ababa\" => \"abc\", \"bc\" => \"a\"))"
   ]
  },
  {
   "cell_type": "code",
   "execution_count": 56,
   "metadata": {},
   "outputs": [
    {
     "data": {
      "text/plain": [
       "overlaps (generic function with 2 methods)"
      ]
     },
     "execution_count": 56,
     "metadata": {},
     "output_type": "execute_result"
    }
   ],
   "source": [
    "function overlaps(s1::String,s2::String) # it actually isn't necessary they're strings. Any iterable of somethign with equality.\n",
    "    if length(s1) < length(s2) # make s1 the bigger string or equal\n",
    "        tmp = s1\n",
    "        s1 = s2\n",
    "        s2 = s1\n",
    "    end\n",
    "    n1 = length(s1)\n",
    "    n2 = length(s2)\n",
    "    return Iterators.flatten((\n",
    "                   [i-n2+1 for i in 1:n2 if s1[1:i] == s2[n2-i+1:end]  ],\n",
    "                   [ i for i in 2:(n1-n2) if s1[i:i+n2-1] == s2 ], #not very ends\n",
    "            [n1 - i + 1 for i in 1:n2 if s1[n1-i+1:end] == s2[1:i]  ]))\n",
    "end"
   ]
  },
  {
   "cell_type": "code",
   "execution_count": null,
   "metadata": {},
   "outputs": [],
   "source": []
  },
  {
   "cell_type": "code",
   "execution_count": 57,
   "metadata": {},
   "outputs": [
    {
     "data": {
      "text/plain": [
       "1-element Array{Int64,1}:\n",
       " 3"
      ]
     },
     "execution_count": 57,
     "metadata": {},
     "output_type": "execute_result"
    }
   ],
   "source": [
    "s1 = \"abab\"\n",
    "s2 = \"ab\"\n",
    "n1 = length(s1)\n",
    "n2 = length(s2)\n",
    "[n1 - i + 1 for i in 1:n2 if s1[n1-i+1:end] == s2[1:i]  ]\n",
    "#[i-n2+1 for i in 1:n2 if s1[1:i] == s2[n2-i+1:end]  ]\n",
    "#[ i for i in 2:(n1-n2) if s1[i:i+n2-1] == s2 ]"
   ]
  },
  {
   "cell_type": "code",
   "execution_count": 58,
   "metadata": {},
   "outputs": [
    {
     "data": {
      "text/plain": [
       "\"aba\""
      ]
     },
     "execution_count": 58,
     "metadata": {},
     "output_type": "execute_result"
    }
   ],
   "source": [
    "s1[1:1+2]"
   ]
  },
  {
   "cell_type": "code",
   "execution_count": 60,
   "metadata": {},
   "outputs": [
    {
     "data": {
      "text/plain": [
       "4-element Array{Int64,1}:\n",
       " 1\n",
       " 3\n",
       " 5\n",
       " 7"
      ]
     },
     "execution_count": 60,
     "metadata": {},
     "output_type": "execute_result"
    }
   ],
   "source": [
    "collect(overlaps(\"abababab\", \"ab\"))"
   ]
  },
  {
   "cell_type": "code",
   "execution_count": 62,
   "metadata": {},
   "outputs": [
    {
     "data": {
      "text/plain": [
       "2-element Array{Int64,1}:\n",
       " -1\n",
       "  8"
      ]
     },
     "execution_count": 62,
     "metadata": {},
     "output_type": "execute_result"
    }
   ],
   "source": [
    "collect(overlaps(\"cabababab\", \"abc\"))"
   ]
  },
  {
   "cell_type": "code",
   "execution_count": 1,
   "metadata": {},
   "outputs": [
    {
     "data": {
      "text/plain": [
       "\"cc\""
      ]
     },
     "execution_count": 1,
     "metadata": {},
     "output_type": "execute_result"
    }
   ],
   "source": [
    "replace(\"abab\", \"ab\" => \"c\")"
   ]
  },
  {
   "cell_type": "code",
   "execution_count": 4,
   "metadata": {},
   "outputs": [
    {
     "data": {
      "text/plain": [
       "3-element Array{SubString{String},1}:\n",
       " \"\"\n",
       " \"c\"\n",
       " \"\""
      ]
     },
     "execution_count": 4,
     "metadata": {},
     "output_type": "execute_result"
    }
   ],
   "source": [
    "split(\"abcab\", \"ab\") # what about partial overlaps? Could double the rule?\n"
   ]
  },
  {
   "cell_type": "code",
   "execution_count": 6,
   "metadata": {},
   "outputs": [],
   "source": [
    "match(r\"abcab\", \"ab\")"
   ]
  },
  {
   "cell_type": "code",
   "execution_count": 7,
   "metadata": {},
   "outputs": [
    {
     "data": {
      "text/plain": [
       "RegexMatch(\"ab\")"
      ]
     },
     "execution_count": 7,
     "metadata": {},
     "output_type": "execute_result"
    }
   ],
   "source": [
    "match(r\"ab\", \"abcab\")"
   ]
  },
  {
   "cell_type": "code",
   "execution_count": 8,
   "metadata": {},
   "outputs": [
    {
     "data": {
      "text/plain": [
       "Base.RegexMatchIterator(r\"ab\", \"abcab\", false)"
      ]
     },
     "execution_count": 8,
     "metadata": {},
     "output_type": "execute_result"
    }
   ],
   "source": [
    "eachmatch(r\"ab\", \"abcab\")"
   ]
  },
  {
   "cell_type": "code",
   "execution_count": null,
   "metadata": {},
   "outputs": [],
   "source": [
    "function critical(l1 => r1, l2 => r2 )\n",
    "    = split(l1,l2)\n",
    "\n",
    "end"
   ]
  },
  {
   "cell_type": "code",
   "execution_count": 2,
   "metadata": {},
   "outputs": [],
   "source": [
    "using DataStructures\n",
    "# https://juliacollections.github.io/DataStructures.jl/v0.9/sorted_containers.html"
   ]
  },
  {
   "cell_type": "code",
   "execution_count": 3,
   "metadata": {},
   "outputs": [
    {
     "data": {
      "text/plain": [
       "SortedDict{String,String,Base.Order.ForwardOrdering} with 2 entries:\n",
       "  \"a\"  => \"b\"\n",
       "  \"ab\" => \"c\""
      ]
     },
     "execution_count": 3,
     "metadata": {},
     "output_type": "execute_result"
    }
   ],
   "source": [
    "SortedDict(\"ab\" => \"c\", \"a\" => \"b\")"
   ]
  },
  {
   "cell_type": "code",
   "execution_count": null,
   "metadata": {},
   "outputs": [],
   "source": [
    "Set{Array{T}} # represent a linear subspace as a set of vectors\n",
    "# term ordering\n",
    "\n",
    "\n",
    "l\n",
    "lt\n",
    "lc\n",
    "reduce( a , Set )\n",
    "reduce( a , b )\n"
   ]
  },
  {
   "cell_type": "code",
   "execution_count": null,
   "metadata": {},
   "outputs": [],
   "source": [
    "\n",
    "\n",
    "\n",
    "Set{( Array{Symbol}  ,  Array{Symbol} )}\n",
    "\n",
    "\n"
   ]
  },
  {
   "cell_type": "code",
   "execution_count": null,
   "metadata": {},
   "outputs": [],
   "source": [
    "function replace(x,lhs,rhs)\n",
    "    for i in 1:(len(x) - n)\n",
    "        if s[i:i+n] == lhs\n",
    "            return concatenate( x[1:i] , rhs , x[i+n:end] ) \n",
    "        end\n",
    "    end\n",
    "end\n",
    "\n",
    "\n",
    "function reduce(x, s)\n",
    "    done = false\n",
    "    while done == false\n",
    "        done = true\n",
    "        for (lhs,rhs) in s\n",
    "            res = replace(x,lhs,rhs)\n",
    "            if res != nothing\n",
    "                x = res\n",
    "                done = false\n",
    "            end\n",
    "        end\n",
    "    end\n",
    "end\n",
    "\n"
   ]
  },
  {
   "cell_type": "code",
   "execution_count": null,
   "metadata": {},
   "outputs": [],
   "source": [
    "Set([1 0 2], [2 4 0])\n",
    "\n",
    "for v,w in s\n",
    "    i = lm(v) # index of first non zero\n",
    "    j = lm(w) # index of first non zero\n",
    "    if j < i\n",
    "        \n",
    "\n",
    "# long division by a vector is triangular solving"
   ]
  },
  {
   "cell_type": "code",
   "execution_count": 4,
   "metadata": {},
   "outputs": [
    {
     "name": "stderr",
     "output_type": "stream",
     "text": [
      "┌ Info: Precompiling DynamicPolynomials [7c1d4256-1411-5781-91ec-d7bc3513ac07]\n",
      "└ @ Base loading.jl:1260\n"
     ]
    }
   ],
   "source": [
    "using DynamicPolynomials"
   ]
  },
  {
   "cell_type": "code",
   "execution_count": 9,
   "metadata": {},
   "outputs": [
    {
     "data": {
      "text/plain": [
       "(x, y)"
      ]
     },
     "execution_count": 9,
     "metadata": {},
     "output_type": "execute_result"
    }
   ],
   "source": [
    "@polyvar x y"
   ]
  },
  {
   "cell_type": "code",
   "execution_count": 6,
   "metadata": {},
   "outputs": [
    {
     "name": "stdout",
     "output_type": "stream",
     "text": [
      "PolyVar{true}\n",
      "  id: Int64 253\n",
      "  name: String \"x\"\n"
     ]
    }
   ],
   "source": [
    "dump(x)"
   ]
  },
  {
   "cell_type": "code",
   "execution_count": 21,
   "metadata": {},
   "outputs": [
    {
     "name": "stdout",
     "output_type": "stream",
     "text": [
      "Monomial{true}\n",
      "  vars: Array{PolyVar{true}}((1,))\n",
      "    1: PolyVar{true}\n",
      "      id: Int64 254\n",
      "      name: String \"x\"\n",
      "  z: Array{Int64}((1,)) [2]\n"
     ]
    }
   ],
   "source": [
    "dump(x*x)"
   ]
  },
  {
   "cell_type": "code",
   "execution_count": 22,
   "metadata": {},
   "outputs": [
    {
     "name": "stdout",
     "output_type": "stream",
     "text": [
      "Term{true,Int64}\n",
      "  α: Int64 3\n",
      "  x: Monomial{true}\n",
      "    vars: Array{PolyVar{true}}((1,))\n",
      "      1: PolyVar{true}\n",
      "        id: Int64 254\n",
      "        name: String \"x\"\n",
      "    z: Array{Int64}((1,)) [2]\n"
     ]
    }
   ],
   "source": [
    "dump(3*x*x)"
   ]
  },
  {
   "cell_type": "code",
   "execution_count": 10,
   "metadata": {},
   "outputs": [
    {
     "name": "stdout",
     "output_type": "stream",
     "text": [
      "Polynomial{true,Float64}\n",
      "  a: Array{Float64}((2,)) [1.0, 1.4]\n",
      "  x: MonomialVector{true}\n",
      "    vars: Array{PolyVar{true}}((2,))\n",
      "      1: PolyVar{true}\n",
      "        id: Int64 254\n",
      "        name: String \"x\"\n",
      "      2: PolyVar{true}\n",
      "        id: Int64 255\n",
      "        name: String \"y\"\n",
      "    Z: Array{Array{Int64,1}}((2,))\n",
      "      1: Array{Int64}((2,)) [1, 1]\n",
      "      2: Array{Int64}((2,)) [0, 0]\n"
     ]
    }
   ],
   "source": [
    "dump(x * y + 1.4)"
   ]
  },
  {
   "cell_type": "code",
   "execution_count": null,
   "metadata": {},
   "outputs": [],
   "source": [
    "function sortpoly!(p) # actually we hsould dispatch sort\n",
    "    o = sortperm(p.Z)\n",
    "    p.a = p.a[o]\n",
    "    p.x.Z = p.x.Z[o]    \n",
    "end"
   ]
  },
  {
   "cell_type": "code",
   "execution_count": 40,
   "metadata": {},
   "outputs": [
    {
     "data": {
      "text/plain": [
       "Polynomial{true,Int64}"
      ]
     },
     "execution_count": 40,
     "metadata": {},
     "output_type": "execute_result"
    }
   ],
   "source": [
    "typeof(x*x*y + 1)"
   ]
  },
  {
   "cell_type": "code",
   "execution_count": 32,
   "metadata": {},
   "outputs": [
    {
     "data": {
      "text/plain": [
       "lm (generic function with 1 method)"
      ]
     },
     "execution_count": 32,
     "metadata": {},
     "output_type": "execute_result"
    }
   ],
   "source": [
    "function lm(p) # leading monomial\n",
    "        return Monomial(p.x.vars , p.x.Z[1]) # should return a term\n",
    "end \n",
    "    "
   ]
  },
  {
   "cell_type": "code",
   "execution_count": 33,
   "metadata": {},
   "outputs": [
    {
     "data": {
      "text/plain": [
       "lt (generic function with 1 method)"
      ]
     },
     "execution_count": 33,
     "metadata": {},
     "output_type": "execute_result"
    }
   ],
   "source": [
    "function lt(p)\n",
    "    return Term(p.a[1], lm(p))\n",
    "end"
   ]
  },
  {
   "cell_type": "code",
   "execution_count": 47,
   "metadata": {},
   "outputs": [
    {
     "data": {
      "text/plain": [
       "true"
      ]
     },
     "execution_count": 47,
     "metadata": {},
     "output_type": "execute_result"
    }
   ],
   "source": [
    "4x*x*x >= 3x*x*x"
   ]
  },
  {
   "cell_type": "code",
   "execution_count": 52,
   "metadata": {},
   "outputs": [
    {
     "data": {
      "text/plain": [
       "(x², 0.0)"
      ]
     },
     "execution_count": 52,
     "metadata": {},
     "output_type": "execute_result"
    }
   ],
   "source": [
    "divrem(x*x*x , x)"
   ]
  },
  {
   "cell_type": "code",
   "execution_count": 57,
   "metadata": {},
   "outputs": [
    {
     "data": {
      "text/plain": [
       "(7.0x, 1.0)"
      ]
     },
     "execution_count": 57,
     "metadata": {},
     "output_type": "execute_result"
    }
   ],
   "source": [
    "divrem(7x*x*y+1, x*y)"
   ]
  },
  {
   "cell_type": "code",
   "execution_count": 55,
   "metadata": {},
   "outputs": [
    {
     "data": {
      "text/html": [
       "# 11 methods for generic function <b>divrem</b>:<ul><li> divrem(x::<b>BigInt</b>, y::<b>BigInt</b>) in Base.GMP at <a href=\"https://github.com/JuliaLang/julia/tree/381693d3dfc9b7072707f6d544f82f6637fc5e7c/base/gmp.jl#L560\" target=\"_blank\">gmp.jl:560</a></li> <li> divrem(x::<b>Union{Int128, Int16, Int32, Int64, Int8}</b>, y::<b>Unsigned</b>) in Base at <a href=\"https://github.com/JuliaLang/julia/tree/381693d3dfc9b7072707f6d544f82f6637fc5e7c/base/int.jl#L177\" target=\"_blank\">int.jl:177</a></li> <li> divrem(x::<b>Unsigned</b>, y::<b>Union{Int128, Int16, Int32, Int64, Int8}</b>) in Base at <a href=\"https://github.com/JuliaLang/julia/tree/381693d3dfc9b7072707f6d544f82f6637fc5e7c/base/int.jl#L182\" target=\"_blank\">int.jl:182</a></li> <li> divrem(x::<b>Integer</b>, y::<b>Integer</b>, rnd::<b>RoundingMode{:Nearest}</b>) in Base at <a href=\"https://github.com/JuliaLang/julia/tree/381693d3dfc9b7072707f6d544f82f6637fc5e7c/base/div.jl#L131\" target=\"_blank\">div.jl:131</a></li> <li> divrem(x::<b>Integer</b>, y::<b>Integer</b>, rnd::<b>RoundingMode{:NearestTiesAway}</b>) in Base at <a href=\"https://github.com/JuliaLang/julia/tree/381693d3dfc9b7072707f6d544f82f6637fc5e7c/base/div.jl#L147\" target=\"_blank\">div.jl:147</a></li> <li> divrem(x::<b>Integer</b>, y::<b>Integer</b>, rnd::<b>RoundingMode{:NearestTiesUp}</b>) in Base at <a href=\"https://github.com/JuliaLang/julia/tree/381693d3dfc9b7072707f6d544f82f6637fc5e7c/base/div.jl#L163\" target=\"_blank\">div.jl:163</a></li> <li> divrem(a::<b>T</b>, b::<b>Base.MultiplicativeInverses.MultiplicativeInverse{T}</b>)<i> where T</i> in Base.MultiplicativeInverses at <a href=\"https://github.com/JuliaLang/julia/tree/381693d3dfc9b7072707f6d544f82f6637fc5e7c/base/multinverses.jl#L152\" target=\"_blank\">multinverses.jl:152</a></li> <li> divrem(f::<b>AbstractPolynomialLike{T}</b>, g::<b>AbstractPolynomialLike{S}</b>; <i>kwargs...</i>)<i> where {T, S}</i> in MultivariatePolynomials at <a href=\"file:///home/philip/.julia/packages/MultivariatePolynomials/fixWm/src/division.jl\" target=\"_blank\">/home/philip/.julia/packages/MultivariatePolynomials/fixWm/src/division.jl:35</a></li> <li> divrem(f::<b>AbstractPolynomialLike{T}</b>, g::<b>AbstractArray{#s15,1} where #s15<:AbstractPolynomialLike{S}</b>; <i>kwargs...</i>)<i> where {T, S}</i> in MultivariatePolynomials at <a href=\"file:///home/philip/.julia/packages/MultivariatePolynomials/fixWm/src/division.jl\" target=\"_blank\">/home/philip/.julia/packages/MultivariatePolynomials/fixWm/src/division.jl:61</a></li> <li> divrem(x, y) in Base at <a href=\"https://github.com/JuliaLang/julia/tree/381693d3dfc9b7072707f6d544f82f6637fc5e7c/base/div.jl#L118\" target=\"_blank\">div.jl:118</a></li> <li> divrem(a, b, r::<b>RoundingMode</b>) in Base at <a href=\"https://github.com/JuliaLang/julia/tree/381693d3dfc9b7072707f6d544f82f6637fc5e7c/base/div.jl#L120\" target=\"_blank\">div.jl:120</a></li> </ul>"
      ],
      "text/plain": [
       "# 11 methods for generic function \"divrem\":\n",
       "[1] divrem(x::BigInt, y::BigInt) in Base.GMP at gmp.jl:560\n",
       "[2] divrem(x::Union{Int128, Int16, Int32, Int64, Int8}, y::Unsigned) in Base at int.jl:177\n",
       "[3] divrem(x::Unsigned, y::Union{Int128, Int16, Int32, Int64, Int8}) in Base at int.jl:182\n",
       "[4] divrem(x::Integer, y::Integer, rnd::RoundingMode{:Nearest}) in Base at div.jl:131\n",
       "[5] divrem(x::Integer, y::Integer, rnd::RoundingMode{:NearestTiesAway}) in Base at div.jl:147\n",
       "[6] divrem(x::Integer, y::Integer, rnd::RoundingMode{:NearestTiesUp}) in Base at div.jl:163\n",
       "[7] divrem(a::T, b::Base.MultiplicativeInverses.MultiplicativeInverse{T}) where T in Base.MultiplicativeInverses at multinverses.jl:152\n",
       "[8] divrem(f::AbstractPolynomialLike{T}, g::AbstractPolynomialLike{S}; kwargs...) where {T, S} in MultivariatePolynomials at /home/philip/.julia/packages/MultivariatePolynomials/fixWm/src/division.jl:35\n",
       "[9] divrem(f::AbstractPolynomialLike{T}, g::AbstractArray{#s15,1} where #s15<:AbstractPolynomialLike{S}; kwargs...) where {T, S} in MultivariatePolynomials at /home/philip/.julia/packages/MultivariatePolynomials/fixWm/src/division.jl:61\n",
       "[10] divrem(x, y) in Base at div.jl:118\n",
       "[11] divrem(a, b, r::RoundingMode) in Base at div.jl:120"
      ]
     },
     "execution_count": 55,
     "metadata": {},
     "output_type": "execute_result"
    }
   ],
   "source": [
    "methods(divrem)"
   ]
  },
  {
   "cell_type": "code",
   "execution_count": 38,
   "metadata": {},
   "outputs": [
    {
     "ename": "UndefVarError",
     "evalue": "UndefVarError: X not defined",
     "output_type": "error",
     "traceback": [
      "UndefVarError: X not defined",
      "",
      "Stacktrace:",
      " [1] top-level scope at In[38]:1"
     ]
    }
   ],
   "source": [
    "lt(x*x + 3y * y * y + 1) / lt( X * X + 1)"
   ]
  },
  {
   "cell_type": "code",
   "execution_count": null,
   "metadata": {},
   "outputs": [],
   "source": [
    "function Base.divrem(x::Polynomial{true,T}, d::Polynomial{true,Int64})\n",
    "    r = x\n",
    "    ltr = lt(r)\n",
    "    ltd = lt(d)\n",
    "    while ltr >= ltd\n",
    "        \n",
    "end"
   ]
  },
  {
   "cell_type": "code",
   "execution_count": null,
   "metadata": {},
   "outputs": [],
   "source": [
    "#from poly.jl\n",
    "# Invariant:\n",
    "# a and x might be empty: meaning it is the zero polynomial\n",
    "# a does not contain any zeros\n",
    "# x is increasing in the monomial order (i.e. grlex)"
   ]
  },
  {
   "cell_type": "code",
   "execution_count": null,
   "metadata": {},
   "outputs": [],
   "source": [
    "function divy(x, d) # order\n",
    "    #sortpoly!(x)\n",
    "    #sortpoly!(d)\n",
    "    r = x\n",
    "    ltr = lt(r)\n",
    "    ltd = lt(d)\n",
    "    while ltr >= ltd\n",
    "        m = ltr / ltd\n",
    "        y += m*d\n",
    "        r -= m * d\n",
    "    end\n",
    "    return y,r \n",
    "\n",
    "    \n",
    "end\n",
    "\n",
    "function divmod(p::Var,q::Var)\n",
    "function divmod(p::Monomial,q::Monomial)\n",
    "function divmod(p::Term,q::Term)\n",
    "function divmod(p::Polynomial,q::Polynomial)\n",
    "    \n",
    "\n",
    "\n",
    "function spoly(p,q)\n",
    "    \n",
    "end\n",
    "\n",
    "\n",
    "function reduce(p, rs) # rs should be sorted.\n",
    "    for r in rs\n",
    "        _, p = divy(p,r)\n",
    "    end\n",
    "end\n",
    "\n",
    "function selfreduce(rs)\n",
    "    for i in 1:length(rs)\n",
    "        r = rs[i]\n",
    "        reduce()\n",
    "    end\n",
    "    \n",
    "    while nonempty(rs)\n",
    "        r = rs.pop()\n",
    "        r = reduce(r,rs)\n",
    "        if !iszero(r)\n",
    "            r2.push(r)\n",
    "        end\n",
    "    end\n",
    "end\n",
    "\n",
    "function grobner(ps)\n",
    "    rs = []\n",
    "    r2s = ps\n",
    "    while nonempty(r2s)\n",
    "        rs += r2s\n",
    "        for i,p in enumerate(rs)\n",
    "            for q in rs[i:end]\n",
    "                s = spoly(p,r)\n",
    "                s = reduce(s, rs)\n",
    "                if !nonzero(s)\n",
    "                    r2s.push(s)\n",
    "                end\n",
    "            end\n",
    "        end\n",
    "        # selfreduce?\n",
    "    end\n",
    "    return rs\n",
    "end\n",
    "\n",
    "\n",
    "\n",
    "\n",
    "\n"
   ]
  },
  {
   "cell_type": "code",
   "execution_count": 62,
   "metadata": {},
   "outputs": [
    {
     "ename": "MethodError",
     "evalue": "MethodError: no method matching isless(::Polynomial{true,Int64}, ::Polynomial{true,Int64})\nClosest candidates are:\n  isless(!Matched::Missing, ::Any) at missing.jl:87\n  isless(::Any, !Matched::Missing) at missing.jl:88",
     "output_type": "error",
     "traceback": [
      "MethodError: no method matching isless(::Polynomial{true,Int64}, ::Polynomial{true,Int64})\nClosest candidates are:\n  isless(!Matched::Missing, ::Any) at missing.jl:87\n  isless(::Any, !Matched::Missing) at missing.jl:88",
      "",
      "Stacktrace:",
      " [1] <(::Polynomial{true,Int64}, ::Polynomial{true,Int64}) at ./operators.jl:268",
      " [2] <=(::Polynomial{true,Int64}, ::Polynomial{true,Int64}) at ./operators.jl:317",
      " [3] top-level scope at In[62]:1"
     ]
    }
   ],
   "source": [
    "x*x + 1 <= 7 + x"
   ]
  },
  {
   "cell_type": "code",
   "execution_count": 67,
   "metadata": {},
   "outputs": [
    {
     "data": {
      "text/plain": [
       "1"
      ]
     },
     "execution_count": 67,
     "metadata": {},
     "output_type": "execute_result"
    }
   ],
   "source": [
    "((x, y) -> x )(1,2)"
   ]
  },
  {
   "cell_type": "code",
   "execution_count": 70,
   "metadata": {},
   "outputs": [
    {
     "name": "stdout",
     "output_type": "stream",
     "text": [
      "search: \u001b[0m\u001b[1me\u001b[22m\u001b[0m\u001b[1mn\u001b[22m\u001b[0m\u001b[1mu\u001b[22m\u001b[0m\u001b[1mm\u001b[22m\u001b[0m\u001b[1me\u001b[22m\u001b[0m\u001b[1mr\u001b[22m\u001b[0m\u001b[1ma\u001b[22m\u001b[0m\u001b[1mt\u001b[22m\u001b[0m\u001b[1me\u001b[22m\n",
      "\n"
     ]
    },
    {
     "data": {
      "text/latex": [
       "\\begin{verbatim}\n",
       "enumerate(iter)\n",
       "\\end{verbatim}\n",
       "An iterator that yields \\texttt{(i, x)} where \\texttt{i} is a counter starting at 1, and \\texttt{x} is the \\texttt{i}th value from the given iterator. It's useful when you need not only the values \\texttt{x} over which you are iterating, but also the number of iterations so far. Note that \\texttt{i} may not be valid for indexing \\texttt{iter}; it's also possible that \\texttt{x != iter[i]}, if \\texttt{iter} has indices that do not start at 1. See the \\texttt{pairs(IndexLinear(), iter)} method if you want to ensure that \\texttt{i} is an index.\n",
       "\n",
       "\\section{Examples}\n",
       "\\begin{verbatim}\n",
       "julia> a = [\"a\", \"b\", \"c\"];\n",
       "\n",
       "julia> for (index, value) in enumerate(a)\n",
       "           println(\"$index $value\")\n",
       "       end\n",
       "1 a\n",
       "2 b\n",
       "3 c\n",
       "\\end{verbatim}\n"
      ],
      "text/markdown": [
       "```\n",
       "enumerate(iter)\n",
       "```\n",
       "\n",
       "An iterator that yields `(i, x)` where `i` is a counter starting at 1, and `x` is the `i`th value from the given iterator. It's useful when you need not only the values `x` over which you are iterating, but also the number of iterations so far. Note that `i` may not be valid for indexing `iter`; it's also possible that `x != iter[i]`, if `iter` has indices that do not start at 1. See the `pairs(IndexLinear(), iter)` method if you want to ensure that `i` is an index.\n",
       "\n",
       "# Examples\n",
       "\n",
       "```jldoctest\n",
       "julia> a = [\"a\", \"b\", \"c\"];\n",
       "\n",
       "julia> for (index, value) in enumerate(a)\n",
       "           println(\"$index $value\")\n",
       "       end\n",
       "1 a\n",
       "2 b\n",
       "3 c\n",
       "```\n"
      ],
      "text/plain": [
       "\u001b[36m  enumerate(iter)\u001b[39m\n",
       "\n",
       "  An iterator that yields \u001b[36m(i, x)\u001b[39m where \u001b[36mi\u001b[39m is a counter starting at 1, and \u001b[36mx\u001b[39m is\n",
       "  the \u001b[36mi\u001b[39mth value from the given iterator. It's useful when you need not only\n",
       "  the values \u001b[36mx\u001b[39m over which you are iterating, but also the number of iterations\n",
       "  so far. Note that \u001b[36mi\u001b[39m may not be valid for indexing \u001b[36miter\u001b[39m; it's also possible\n",
       "  that \u001b[36mx != iter[i]\u001b[39m, if \u001b[36miter\u001b[39m has indices that do not start at 1. See the\n",
       "  \u001b[36mpairs(IndexLinear(), iter)\u001b[39m method if you want to ensure that \u001b[36mi\u001b[39m is an index.\n",
       "\n",
       "\u001b[1m  Examples\u001b[22m\n",
       "\u001b[1m  ≡≡≡≡≡≡≡≡≡≡\u001b[22m\n",
       "\n",
       "\u001b[36m  julia> a = [\"a\", \"b\", \"c\"];\u001b[39m\n",
       "\u001b[36m  \u001b[39m\n",
       "\u001b[36m  julia> for (index, value) in enumerate(a)\u001b[39m\n",
       "\u001b[36m             println(\"$index $value\")\u001b[39m\n",
       "\u001b[36m         end\u001b[39m\n",
       "\u001b[36m  1 a\u001b[39m\n",
       "\u001b[36m  2 b\u001b[39m\n",
       "\u001b[36m  3 c\u001b[39m"
      ]
     },
     "execution_count": 70,
     "metadata": {},
     "output_type": "execute_result"
    }
   ],
   "source": [
    "?enumerate"
   ]
  },
  {
   "cell_type": "code",
   "execution_count": 72,
   "metadata": {},
   "outputs": [
    {
     "name": "stdout",
     "output_type": "stream",
     "text": [
      "123456"
     ]
    }
   ],
   "source": [
    "for (i,j) in enumerate(5:10)\n",
    "    print(i)\n",
    "end"
   ]
  },
  {
   "cell_type": "code",
   "execution_count": 115,
   "metadata": {},
   "outputs": [
    {
     "name": "stdout",
     "output_type": "stream",
     "text": [
      "search: \u001b[0m\u001b[1ms\u001b[22m\u001b[0m\u001b[1mo\u001b[22m\u001b[0m\u001b[1mr\u001b[22m\u001b[0m\u001b[1mt\u001b[22m \u001b[0m\u001b[1ms\u001b[22m\u001b[0m\u001b[1mo\u001b[22m\u001b[0m\u001b[1mr\u001b[22m\u001b[0m\u001b[1mt\u001b[22m! \u001b[0m\u001b[1ms\u001b[22m\u001b[0m\u001b[1mo\u001b[22m\u001b[0m\u001b[1mr\u001b[22m\u001b[0m\u001b[1mt\u001b[22mperm \u001b[0m\u001b[1ms\u001b[22m\u001b[0m\u001b[1mo\u001b[22m\u001b[0m\u001b[1mr\u001b[22m\u001b[0m\u001b[1mt\u001b[22mperm! \u001b[0m\u001b[1ms\u001b[22m\u001b[0m\u001b[1mo\u001b[22m\u001b[0m\u001b[1mr\u001b[22m\u001b[0m\u001b[1mt\u001b[22mslices \u001b[0m\u001b[1ms\u001b[22m\u001b[0m\u001b[1mo\u001b[22m\u001b[0m\u001b[1mr\u001b[22m\u001b[0m\u001b[1mt\u001b[22mmonovec C\u001b[0m\u001b[1ms\u001b[22mh\u001b[0m\u001b[1mo\u001b[22m\u001b[0m\u001b[1mr\u001b[22m\u001b[0m\u001b[1mt\u001b[22m i\u001b[0m\u001b[1ms\u001b[22ms\u001b[0m\u001b[1mo\u001b[22m\u001b[0m\u001b[1mr\u001b[22m\u001b[0m\u001b[1mt\u001b[22med\n",
      "\n"
     ]
    },
    {
     "data": {
      "text/latex": [
       "\\begin{verbatim}\n",
       "sort(v; alg::Algorithm=defalg(v), lt=isless, by=identity, rev::Bool=false, order::Ordering=Forward)\n",
       "\\end{verbatim}\n",
       "Variant of \\href{@ref}{\\texttt{sort!}} that returns a sorted copy of \\texttt{v} leaving \\texttt{v} itself unmodified.\n",
       "\n",
       "\\section{Examples}\n",
       "\\begin{verbatim}\n",
       "julia> v = [3, 1, 2];\n",
       "\n",
       "julia> sort(v)\n",
       "3-element Array{Int64,1}:\n",
       " 1\n",
       " 2\n",
       " 3\n",
       "\n",
       "julia> v\n",
       "3-element Array{Int64,1}:\n",
       " 3\n",
       " 1\n",
       " 2\n",
       "\\end{verbatim}\n",
       "\\rule{\\textwidth}{1pt}\n",
       "\\begin{verbatim}\n",
       "sort(A; dims::Integer, alg::Algorithm=DEFAULT_UNSTABLE, lt=isless, by=identity, rev::Bool=false, order::Ordering=Forward)\n",
       "\\end{verbatim}\n",
       "Sort a multidimensional array \\texttt{A} along the given dimension. See \\href{@ref}{\\texttt{sort!}} for a description of possible keyword arguments.\n",
       "\n",
       "To sort slices of an array, refer to \\href{@ref}{\\texttt{sortslices}}.\n",
       "\n",
       "\\section{Examples}\n",
       "\\begin{verbatim}\n",
       "julia> A = [4 3; 1 2]\n",
       "2×2 Array{Int64,2}:\n",
       " 4  3\n",
       " 1  2\n",
       "\n",
       "julia> sort(A, dims = 1)\n",
       "2×2 Array{Int64,2}:\n",
       " 1  2\n",
       " 4  3\n",
       "\n",
       "julia> sort(A, dims = 2)\n",
       "2×2 Array{Int64,2}:\n",
       " 3  4\n",
       " 1  2\n",
       "\\end{verbatim}\n"
      ],
      "text/markdown": [
       "```\n",
       "sort(v; alg::Algorithm=defalg(v), lt=isless, by=identity, rev::Bool=false, order::Ordering=Forward)\n",
       "```\n",
       "\n",
       "Variant of [`sort!`](@ref) that returns a sorted copy of `v` leaving `v` itself unmodified.\n",
       "\n",
       "# Examples\n",
       "\n",
       "```jldoctest\n",
       "julia> v = [3, 1, 2];\n",
       "\n",
       "julia> sort(v)\n",
       "3-element Array{Int64,1}:\n",
       " 1\n",
       " 2\n",
       " 3\n",
       "\n",
       "julia> v\n",
       "3-element Array{Int64,1}:\n",
       " 3\n",
       " 1\n",
       " 2\n",
       "```\n",
       "\n",
       "---\n",
       "\n",
       "```\n",
       "sort(A; dims::Integer, alg::Algorithm=DEFAULT_UNSTABLE, lt=isless, by=identity, rev::Bool=false, order::Ordering=Forward)\n",
       "```\n",
       "\n",
       "Sort a multidimensional array `A` along the given dimension. See [`sort!`](@ref) for a description of possible keyword arguments.\n",
       "\n",
       "To sort slices of an array, refer to [`sortslices`](@ref).\n",
       "\n",
       "# Examples\n",
       "\n",
       "```jldoctest\n",
       "julia> A = [4 3; 1 2]\n",
       "2×2 Array{Int64,2}:\n",
       " 4  3\n",
       " 1  2\n",
       "\n",
       "julia> sort(A, dims = 1)\n",
       "2×2 Array{Int64,2}:\n",
       " 1  2\n",
       " 4  3\n",
       "\n",
       "julia> sort(A, dims = 2)\n",
       "2×2 Array{Int64,2}:\n",
       " 3  4\n",
       " 1  2\n",
       "```\n"
      ],
      "text/plain": [
       "\u001b[36m  sort(v; alg::Algorithm=defalg(v), lt=isless, by=identity, rev::Bool=false, order::Ordering=Forward)\u001b[39m\n",
       "\n",
       "  Variant of \u001b[36msort!\u001b[39m that returns a sorted copy of \u001b[36mv\u001b[39m leaving \u001b[36mv\u001b[39m itself\n",
       "  unmodified.\n",
       "\n",
       "\u001b[1m  Examples\u001b[22m\n",
       "\u001b[1m  ≡≡≡≡≡≡≡≡≡≡\u001b[22m\n",
       "\n",
       "\u001b[36m  julia> v = [3, 1, 2];\u001b[39m\n",
       "\u001b[36m  \u001b[39m\n",
       "\u001b[36m  julia> sort(v)\u001b[39m\n",
       "\u001b[36m  3-element Array{Int64,1}:\u001b[39m\n",
       "\u001b[36m   1\u001b[39m\n",
       "\u001b[36m   2\u001b[39m\n",
       "\u001b[36m   3\u001b[39m\n",
       "\u001b[36m  \u001b[39m\n",
       "\u001b[36m  julia> v\u001b[39m\n",
       "\u001b[36m  3-element Array{Int64,1}:\u001b[39m\n",
       "\u001b[36m   3\u001b[39m\n",
       "\u001b[36m   1\u001b[39m\n",
       "\u001b[36m   2\u001b[39m\n",
       "\n",
       "  ────────────────────────────────────────────────────────────────────────────\n",
       "\n",
       "\u001b[36m  sort(A; dims::Integer, alg::Algorithm=DEFAULT_UNSTABLE, lt=isless, by=identity, rev::Bool=false, order::Ordering=Forward)\u001b[39m\n",
       "\n",
       "  Sort a multidimensional array \u001b[36mA\u001b[39m along the given dimension. See \u001b[36msort!\u001b[39m for a\n",
       "  description of possible keyword arguments.\n",
       "\n",
       "  To sort slices of an array, refer to \u001b[36msortslices\u001b[39m.\n",
       "\n",
       "\u001b[1m  Examples\u001b[22m\n",
       "\u001b[1m  ≡≡≡≡≡≡≡≡≡≡\u001b[22m\n",
       "\n",
       "\u001b[36m  julia> A = [4 3; 1 2]\u001b[39m\n",
       "\u001b[36m  2×2 Array{Int64,2}:\u001b[39m\n",
       "\u001b[36m   4  3\u001b[39m\n",
       "\u001b[36m   1  2\u001b[39m\n",
       "\u001b[36m  \u001b[39m\n",
       "\u001b[36m  julia> sort(A, dims = 1)\u001b[39m\n",
       "\u001b[36m  2×2 Array{Int64,2}:\u001b[39m\n",
       "\u001b[36m   1  2\u001b[39m\n",
       "\u001b[36m   4  3\u001b[39m\n",
       "\u001b[36m  \u001b[39m\n",
       "\u001b[36m  julia> sort(A, dims = 2)\u001b[39m\n",
       "\u001b[36m  2×2 Array{Int64,2}:\u001b[39m\n",
       "\u001b[36m   3  4\u001b[39m\n",
       "\u001b[36m   1  2\u001b[39m"
      ]
     },
     "execution_count": 115,
     "metadata": {},
     "output_type": "execute_result"
    }
   ],
   "source": [
    "?sort"
   ]
  },
  {
   "cell_type": "code",
   "execution_count": 77,
   "metadata": {},
   "outputs": [
    {
     "data": {
      "text/plain": [
       "true"
      ]
     },
     "execution_count": 77,
     "metadata": {},
     "output_type": "execute_result"
    }
   ],
   "source": [
    "iszero(x - x)"
   ]
  },
  {
   "cell_type": "code",
   "execution_count": 95,
   "metadata": {},
   "outputs": [
    {
     "data": {
      "text/latex": [
       "$$ x^{3}y $$"
      ],
      "text/plain": [
       "x³y"
      ]
     },
     "execution_count": 95,
     "metadata": {},
     "output_type": "execute_result"
    }
   ],
   "source": [
    "lcm(x*x*x, y*x*x)"
   ]
  },
  {
   "cell_type": "code",
   "execution_count": 98,
   "metadata": {},
   "outputs": [
    {
     "data": {
      "text/latex": [
       "$$ x^{2} $$"
      ],
      "text/plain": [
       "x²"
      ]
     },
     "execution_count": 98,
     "metadata": {},
     "output_type": "execute_result"
    }
   ],
   "source": [
    "div(x*x*x, x)"
   ]
  },
  {
   "cell_type": "code",
   "execution_count": 125,
   "metadata": {},
   "outputs": [
    {
     "name": "stdout",
     "output_type": "stream",
     "text": [
      "Polynomial{true,Int64}\n",
      "  a: Array{Int64}((0,)) Int64[]\n",
      "  x: MonomialVector{true}\n",
      "    vars: Array{PolyVar{true}}((1,))\n",
      "      1: PolyVar{true}\n",
      "        id: Int64 254\n",
      "        name: String \"x\"\n",
      "    Z: Array{Array{Int64,1}}((0,))\n"
     ]
    }
   ],
   "source": [
    "dump(3x - 3x)"
   ]
  },
  {
   "cell_type": "code",
   "execution_count": 129,
   "metadata": {},
   "outputs": [
    {
     "name": "stdout",
     "output_type": "stream",
     "text": [
      "search: \u001b[0m\u001b[1ml\u001b[22m\u001b[0m\u001b[1me\u001b[22m\u001b[0m\u001b[1ma\u001b[22m\u001b[0m\u001b[1md\u001b[22m\u001b[0m\u001b[1mi\u001b[22m\u001b[0m\u001b[1mn\u001b[22m\u001b[0m\u001b[1mg\u001b[22m\u001b[0m\u001b[1mm\u001b[22m\u001b[0m\u001b[1mo\u001b[22m\u001b[0m\u001b[1mn\u001b[22m\u001b[0m\u001b[1mo\u001b[22m\u001b[0m\u001b[1mm\u001b[22m\u001b[0m\u001b[1mi\u001b[22m\u001b[0m\u001b[1ma\u001b[22m\u001b[0m\u001b[1ml\u001b[22m\n",
      "\n"
     ]
    },
    {
     "data": {
      "text/latex": [
       "\\begin{verbatim}\n",
       "leadingmonomial(p::AbstractPolynomialLike)\n",
       "\\end{verbatim}\n",
       "Returns the monomial of the leading term of \\texttt{p}, i.e. \\texttt{monomial(leadingterm(p))} or \\texttt{first(monomials(p))}.\n",
       "\n",
       "\\subsubsection{Examples}\n",
       "Calling \\texttt{leadingmonomial} on $4x^2y + xy + 2x$ should return $x^2y$.\n",
       "\n"
      ],
      "text/markdown": [
       "```\n",
       "leadingmonomial(p::AbstractPolynomialLike)\n",
       "```\n",
       "\n",
       "Returns the monomial of the leading term of `p`, i.e. `monomial(leadingterm(p))` or `first(monomials(p))`.\n",
       "\n",
       "### Examples\n",
       "\n",
       "Calling `leadingmonomial` on $4x^2y + xy + 2x$ should return $x^2y$.\n"
      ],
      "text/plain": [
       "\u001b[36m  leadingmonomial(p::AbstractPolynomialLike)\u001b[39m\n",
       "\n",
       "  Returns the monomial of the leading term of \u001b[36mp\u001b[39m, i.e. \u001b[36mmonomial(leadingterm(p))\u001b[39m\n",
       "  or \u001b[36mfirst(monomials(p))\u001b[39m.\n",
       "\n",
       "\u001b[1m  Examples\u001b[22m\n",
       "\u001b[1m  ––––––––––\u001b[22m\n",
       "\n",
       "  Calling \u001b[36mleadingmonomial\u001b[39m on \u001b[35m4x^2y + xy + 2x\u001b[39m should return \u001b[35mx^2y\u001b[39m."
      ]
     },
     "execution_count": 129,
     "metadata": {},
     "output_type": "execute_result"
    }
   ],
   "source": [
    "?leadingmonomial"
   ]
  },
  {
   "cell_type": "code",
   "execution_count": 148,
   "metadata": {},
   "outputs": [
    {
     "ename": "ArgumentError",
     "evalue": "ArgumentError: Package MultivariatePolynomials not found in current path:\n- Run `import Pkg; Pkg.add(\"MultivariatePolynomials\")` to install the MultivariatePolynomials package.\n",
     "output_type": "error",
     "traceback": [
      "ArgumentError: Package MultivariatePolynomials not found in current path:\n- Run `import Pkg; Pkg.add(\"MultivariatePolynomials\")` to install the MultivariatePolynomials package.\n",
      "",
      "Stacktrace:",
      " [1] require(::Module, ::Symbol) at ./loading.jl:892",
      " [2] top-level scope at In[148]:1"
     ]
    }
   ],
   "source": [
    "using MultivariatePolynomials"
   ]
  },
  {
   "cell_type": "code",
   "execution_count": 150,
   "metadata": {},
   "outputs": [
    {
     "data": {
      "text/plain": [
       "MultivariatePolynomials"
      ]
     },
     "execution_count": 150,
     "metadata": {},
     "output_type": "execute_result"
    }
   ],
   "source": [
    "DynamicPolynomials.MP"
   ]
  },
  {
   "cell_type": "code",
   "execution_count": null,
   "metadata": {},
   "outputs": [],
   "source": [
    "prcoessed = []\n",
    "unprocessed = []\n",
    "\n",
    "# when something moves from unprocesed to processed, it puts all the spoly with the prcoessed into unprocessed.\n"
   ]
  },
  {
   "cell_type": "code",
   "execution_count": 41,
   "metadata": {},
   "outputs": [
    {
     "data": {
      "text/plain": [
       "buchberger (generic function with 2 methods)"
      ]
     },
     "execution_count": 41,
     "metadata": {},
     "output_type": "execute_result"
    }
   ],
   "source": [
    "using DynamicPolynomials\n",
    "using DataStructures\n",
    "@polyvar x y\n",
    "\n",
    "#function lm(p::Polynomial{true,T}) where {T} # leading monomial\n",
    "#    return iszero(p) ? constantmonomial(p) : Monomial(p.x.vars , p.x.Z[1])\n",
    "#end \n",
    "\n",
    "\n",
    "#function lm(p::Term{true,T}) # leading monomial\n",
    "#    return p.x\n",
    "#end \n",
    "\n",
    "#function polyreduce(p, rs) # rs should be sorted.\n",
    "#    rs = sort(rs, rev=true, lt = (x, y) -> leadingmonomial(x) <= leadingmonomial(y))\n",
    "#    for r in rs\n",
    "#        if iszero(p)\n",
    "#            return p\n",
    "#        end\n",
    "#        if !iszero(r)\n",
    "#           _, p = divrem(p,r)\n",
    "#        end\n",
    "#    end\n",
    "#    return p\n",
    "#end\n",
    "\n",
    "function spoly(p,q)\n",
    "    pq = lcm(leadingmonomial(p),leadingmonomial(q))\n",
    "    return div(  pq , leadingterm(p) ) * p - div(pq , leadingterm(q)) * q\n",
    "end\n",
    "\n",
    "\n",
    "#function buchberger(F::Array{Polynomial{true,T}}) where {T <: Number}\n",
    "function buchberger(F::AsbstractPolynomialLike) where {T <: Number}\n",
    "pairs = Queue{Tuple{Polynomial{true,T}, Polynomial{true,T}}}()\n",
    "    for (i, f1) in enumerate(F)\n",
    "        for f2 in F[i+1:end]\n",
    "            enqueue!(pairs, (f1,f2))\n",
    "        end\n",
    "    end\n",
    "    \n",
    "    while !isempty(pairs)\n",
    "        println(pairs)\n",
    "        println(F)\n",
    "        (f1,f2) = dequeue!(pairs)\n",
    "        s = spoly(f1,f2)\n",
    "        _,s = divrem(s,F) #polyreduce(s, F)\n",
    "        println(s)\n",
    "        if !iszero(s) #isapproxzero?\n",
    "            for f in F\n",
    "                enqueue!(pairs, (s,f))\n",
    "            end\n",
    "            push!(F,s)\n",
    "        end\n",
    "    end\n",
    "    println(\"reduce\")\n",
    "    G = Array{Polynomial{true,T}}(undef, 0) #[]\n",
    "    while !isempty(F)\n",
    "        f = pop!(F)\n",
    "        _,r = divrem(f, vcat(F,G))\n",
    "        if !iszero(r)\n",
    "            push!(G,r)\n",
    "        end\n",
    "    end\n",
    "    #for (i, f) in enumerate(F)\n",
    "    #   print(F)\n",
    "    #    if i == 1\n",
    "    #       _,F[i] = divrem(f, F[2:end])\n",
    "    #    elseif i > 1 & i < length(F)\n",
    "    #        _,F[i] = divrem(f, vcat(F[1:i-1], F[i+1:end]))\n",
    "    #    elseif i == length(F)\n",
    "    #        _,F[i] = divrem(f, F[1:end-1])\n",
    "    #    end\n",
    "    #end\n",
    "    \n",
    "    return G #filter(x -> !iszero(x) , F)\n",
    "end"
   ]
  },
  {
   "cell_type": "code",
   "execution_count": 5,
   "metadata": {},
   "outputs": [
    {
     "data": {
      "text/plain": [
       "buchberger (generic function with 1 method)"
      ]
     },
     "execution_count": 5,
     "metadata": {},
     "output_type": "execute_result"
    }
   ],
   "source": [
    "using DynamicPolynomials\n",
    "using MultivariatePolynomials\n",
    "using DataStructures\n",
    "@polyvar x y\n",
    "\n",
    "function spoly(p,q)\n",
    "    pq = lcm(leadingmonomial(p),leadingmonomial(q))\n",
    "    return div(  pq , leadingterm(p) ) * p - div(pq , leadingterm(q)) * q\n",
    "end\n",
    "\n",
    "function isgrobner(F::Array{T}) where {T <: AbstractPolynomialLike} # check buchberger criterion\n",
    "    for (i, f1) in enumerate(F)\n",
    "        for f2 in F[i+1:end]\n",
    "            s = spoly(f1,f2)\n",
    "            _,s = divrem(s,F)\n",
    "            if !iszero(s)\n",
    "                return false\n",
    "            end\n",
    "        end\n",
    "    end\n",
    "    return true\n",
    "end\n",
    "\n",
    "function buchberger(F::Array{T}) where {T <: AbstractPolynomialLike}\n",
    "    pairs = Queue{Tuple{T,T}}()\n",
    "    # intialize with all pairs from F\n",
    "    for (i, f1) in enumerate(F)\n",
    "        for f2 in F[i+1:end]\n",
    "            enqueue!(pairs, (f1,f2))\n",
    "        end\n",
    "    end\n",
    "    \n",
    "    # consider all possible s-polynomials\n",
    "    while !isempty(pairs)\n",
    "        (f1,f2) = dequeue!(pairs)\n",
    "        s = spoly(f1,f2)\n",
    "        _,s = divrem(s,F)\n",
    "        if !iszero(s) #isapproxzero?\n",
    "            for f in F\n",
    "                enqueue!(pairs, (s,f))\n",
    "            end\n",
    "            push!(F,s)\n",
    "        end\n",
    "    end\n",
    "\n",
    "    # reduce redundant entries in grobner basis.\n",
    "    G = Array{T}(undef, 0)\n",
    "    while !isempty(F)\n",
    "        f = pop!(F)\n",
    "        _,r = divrem(f, vcat(F,G))\n",
    "        if !iszero(r)\n",
    "            push!(G,r)\n",
    "        end\n",
    "    end\n",
    "    \n",
    "    return G\n",
    "end"
   ]
  },
  {
   "cell_type": "code",
   "execution_count": 14,
   "metadata": {},
   "outputs": [
    {
     "ename": "MethodError",
     "evalue": "MethodError: no method matching isless(::Polynomial{true,Int64}, ::Polynomial{true,Int64})\nClosest candidates are:\n  isless(!Matched::Missing, ::Any) at missing.jl:87\n  isless(::Any, !Matched::Missing) at missing.jl:88",
     "output_type": "error",
     "traceback": [
      "MethodError: no method matching isless(::Polynomial{true,Int64}, ::Polynomial{true,Int64})\nClosest candidates are:\n  isless(!Matched::Missing, ::Any) at missing.jl:87\n  isless(::Any, !Matched::Missing) at missing.jl:88",
      "",
      "Stacktrace:",
      " [1] <(::Polynomial{true,Int64}, ::Polynomial{true,Int64}) at ./operators.jl:268",
      " [2] <=(::Polynomial{true,Int64}, ::Polynomial{true,Int64}) at ./operators.jl:317",
      " [3] top-level scope at In[14]:1"
     ]
    }
   ],
   "source": []
  },
  {
   "cell_type": "code",
   "execution_count": null,
   "metadata": {},
   "outputs": [],
   "source": []
  },
  {
   "cell_type": "code",
   "execution_count": null,
   "metadata": {},
   "outputs": [],
   "source": []
  },
  {
   "cell_type": "code",
   "execution_count": 29,
   "metadata": {},
   "outputs": [
    {
     "data": {
      "text/html": [
       "# 6 methods for generic function <b>buchberger</b>:<ul><li> buchberger(F::<b>AbstractPolynomialLike{T}</b>)<i> where T<:Number</i> in Main at In[1]:34</li> <li> buchberger(F::<b>Array{AbstractPolynomial{T},N} where N</b>)<i> where T<:Number</i> in Main at In[5]:34</li> <li> buchberger(F::<b>Array{AbstractPolynomial,N} where N</b>) in Main at In[18]:35</li> <li> buchberger(F::<b>Array{AbstractPolynomialLike{T},N} where N</b>)<i> where T<:Number</i> in Main at In[3]:34</li> <li> buchberger(F::<b>Array{AbstractPolynomialLike,N} where N</b>) in Main at In[21]:35</li> <li> buchberger(F::<b>Array{T,N} where N</b>)<i> where T<:AbstractPolynomialLike</i> in Main at In[28]:35</li> </ul>"
      ],
      "text/plain": [
       "# 6 methods for generic function \"buchberger\":\n",
       "[1] buchberger(F::AbstractPolynomialLike{T}) where T<:Number in Main at In[1]:34\n",
       "[2] buchberger(F::Array{AbstractPolynomial{T},N} where N) where T<:Number in Main at In[5]:34\n",
       "[3] buchberger(F::Array{AbstractPolynomial,N} where N) in Main at In[18]:35\n",
       "[4] buchberger(F::Array{AbstractPolynomialLike{T},N} where N) where T<:Number in Main at In[3]:34\n",
       "[5] buchberger(F::Array{AbstractPolynomialLike,N} where N) in Main at In[21]:35\n",
       "[6] buchberger(F::Array{T,N} where N) where T<:AbstractPolynomialLike in Main at In[28]:35"
      ]
     },
     "execution_count": 29,
     "metadata": {},
     "output_type": "execute_result"
    }
   ],
   "source": [
    "methods(buchberger)"
   ]
  },
  {
   "cell_type": "code",
   "execution_count": 8,
   "metadata": {},
   "outputs": [
    {
     "data": {
      "text/plain": [
       "true"
      ]
     },
     "execution_count": 8,
     "metadata": {},
     "output_type": "execute_result"
    }
   ],
   "source": [
    "isgrobner(buchberger( [ x + 1.0 + y   , 2.0x + 3y + 7  ] ))"
   ]
  },
  {
   "cell_type": "code",
   "execution_count": 15,
   "metadata": {},
   "outputs": [
    {
     "data": {
      "text/plain": [
       "2-element Array{Polynomial{true,Float64},1}:\n",
       " -0.5y - 2.5\n",
       " x - 4.0"
      ]
     },
     "execution_count": 15,
     "metadata": {},
     "output_type": "execute_result"
    }
   ],
   "source": [
    "buchberger( [ x + 1.0 + y   , 2.0x + 3y + 7  ] )"
   ]
  },
  {
   "cell_type": "code",
   "execution_count": 2,
   "metadata": {},
   "outputs": [
    {
     "name": "stdout",
     "output_type": "stream",
     "text": [
      "Queue{Tuple{PolyVar{true},PolyVar{true}}}(Deque [Tuple{PolyVar{true},PolyVar{true}}[(x, y)]])\n",
      "PolyVar{true}[x, y]\n",
      "0.0\n",
      "reduce\n"
     ]
    },
    {
     "data": {
      "text/plain": [
       "2-element Array{PolyVar{true},1}:\n",
       " y\n",
       " x"
      ]
     },
     "execution_count": 2,
     "metadata": {},
     "output_type": "execute_result"
    }
   ],
   "source": [
    "buchberger([x , y])"
   ]
  },
  {
   "cell_type": "code",
   "execution_count": 18,
   "metadata": {},
   "outputs": [
    {
     "data": {
      "text/plain": [
       "true"
      ]
     },
     "execution_count": 18,
     "metadata": {},
     "output_type": "execute_result"
    }
   ],
   "source": [
    "res = buchberger( [ x^3 - y , x^2 - x*y ])\n",
    "isgrobner(res)"
   ]
  },
  {
   "cell_type": "code",
   "execution_count": 36,
   "metadata": {},
   "outputs": [
    {
     "data": {
      "text/plain": [
       "true"
      ]
     },
     "execution_count": 36,
     "metadata": {},
     "output_type": "execute_result"
    }
   ],
   "source": [
    "isempty([])"
   ]
  },
  {
   "cell_type": "code",
   "execution_count": 32,
   "metadata": {},
   "outputs": [
    {
     "ename": "MethodError",
     "evalue": "MethodError: no method matching div(::Polynomial{true,Int64}, ::Array{Any,1}, ::RoundingMode{:ToZero})\nClosest candidates are:\n  div(::Any, ::Any) at div.jl:37\n  div(!Matched::Bool, !Matched::Bool, ::RoundingMode{:ToZero}) at div.jl:219\n  div(!Matched::Bool, !Matched::Bool, ::RoundingMode) at div.jl:216\n  ...",
     "output_type": "error",
     "traceback": [
      "MethodError: no method matching div(::Polynomial{true,Int64}, ::Array{Any,1}, ::RoundingMode{:ToZero})\nClosest candidates are:\n  div(::Any, ::Any) at div.jl:37\n  div(!Matched::Bool, !Matched::Bool, ::RoundingMode{:ToZero}) at div.jl:219\n  div(!Matched::Bool, !Matched::Bool, ::RoundingMode) at div.jl:216\n  ...",
      "",
      "Stacktrace:",
      " [1] div(::Polynomial{true,Int64}, ::Array{Any,1}) at ./div.jl:37",
      " [2] divrem(::Polynomial{true,Int64}, ::Array{Any,1}, ::RoundingMode{:ToZero}) at ./div.jl:122",
      " [3] divrem(::Polynomial{true,Int64}, ::Array{Any,1}) at ./div.jl:118",
      " [4] top-level scope at In[32]:1"
     ]
    }
   ],
   "source": [
    "divrem(x+1, )"
   ]
  },
  {
   "cell_type": "code",
   "execution_count": 43,
   "metadata": {},
   "outputs": [
    {
     "data": {
      "text/plain": [
       "Array{Polynomial{true,Float64},1}"
      ]
     },
     "execution_count": 43,
     "metadata": {},
     "output_type": "execute_result"
    }
   ],
   "source": [
    "divrem(x^1+1, x^1 - x^1)\n",
    "typeof([ x + 1.0 + y   , 2.0x + 3y + 7  ])"
   ]
  },
  {
   "cell_type": "code",
   "execution_count": 12,
   "metadata": {},
   "outputs": [
    {
     "data": {
      "text/latex": [
       "$$ -0.5y - 2.5 $$"
      ],
      "text/plain": [
       "-0.5y - 2.5"
      ]
     },
     "execution_count": 12,
     "metadata": {},
     "output_type": "execute_result"
    }
   ],
   "source": [
    "spoly( x + 1.0 + y   , 2.0x + 3y + 7  )"
   ]
  },
  {
   "cell_type": "code",
   "execution_count": 10,
   "metadata": {},
   "outputs": [
    {
     "data": {
      "text/latex": [
       "$$ -0.5y - 2.5 $$"
      ],
      "text/plain": [
       "-0.5y - 2.5"
      ]
     },
     "execution_count": 10,
     "metadata": {},
     "output_type": "execute_result"
    }
   ],
   "source": [
    "p =   x + 1.0 + y \n",
    "q = 2.0x + 3y + 7\n",
    "pm = leadingmonomial(p)\n",
    "    qm = leadingmonomial(q)\n",
    "    pq = lcm(pm,qm)\n",
    "    div(  pq , leadingterm(p) ) * p - div(pq , leadingterm(q)) * q\n",
    "#print(div(pq,qm))"
   ]
  },
  {
   "cell_type": "code",
   "execution_count": 54,
   "metadata": {},
   "outputs": [
    {
     "data": {
      "text/plain": [
       "2-element Array{Float64,1}:\n",
       "  4.0\n",
       " -5.0"
      ]
     },
     "execution_count": 54,
     "metadata": {},
     "output_type": "execute_result"
    }
   ],
   "source": [
    "[ 1 1 ; 2  3 ] \\ [-1 ; -7]"
   ]
  },
  {
   "cell_type": "code",
   "execution_count": 16,
   "metadata": {},
   "outputs": [
    {
     "data": {
      "text/plain": [
       "Array{Polynomial{true,Int64},1}"
      ]
     },
     "execution_count": 16,
     "metadata": {},
     "output_type": "execute_result"
    }
   ],
   "source": [
    "typeof([ x^3 - y , x^2 - x ])"
   ]
  },
  {
   "cell_type": "code",
   "execution_count": 19,
   "metadata": {},
   "outputs": [
    {
     "data": {
      "text/latex": [
       "$$ x^{2} - y $$"
      ],
      "text/plain": [
       "x² - y"
      ]
     },
     "execution_count": 19,
     "metadata": {},
     "output_type": "execute_result"
    }
   ],
   "source": [
    "p =    x^3 - y \n",
    "q = x^2 - x\n",
    "pm = leadingmonomial(p)\n",
    "    qm = leadingmonomial(q)\n",
    "    pq = lcm(pm,qm)\n",
    "    div(  pq , leadingterm(p) ) * p - div(pq , leadingterm(q)) * q\n",
    "#print(pq)"
   ]
  },
  {
   "cell_type": "code",
   "execution_count": 20,
   "metadata": {},
   "outputs": [
    {
     "data": {
      "text/latex": [
       "$$ x - y $$"
      ],
      "text/plain": [
       "x - y"
      ]
     },
     "execution_count": 20,
     "metadata": {},
     "output_type": "execute_result"
    }
   ],
   "source": [
    "polyreduce(x^2 - y, [ x^3 - y , x^2 - x ])"
   ]
  },
  {
   "cell_type": "code",
   "execution_count": 28,
   "metadata": {},
   "outputs": [
    {
     "data": {
      "text/latex": [
       "$$ -y^{2} + y $$"
      ],
      "text/plain": [
       "-y² + y"
      ]
     },
     "execution_count": 28,
     "metadata": {},
     "output_type": "execute_result"
    }
   ],
   "source": [
    "polyreduce(polyreduce(spoly(x-y, x^3 - y ), [   x^3 - y , x^2 - x  , x - y]), [   x^3 - y , x^2 - x  , x - y])"
   ]
  },
  {
   "cell_type": "code",
   "execution_count": 29,
   "metadata": {},
   "outputs": [
    {
     "data": {
      "text/latex": [
       "$$ -y^{2} + y $$"
      ],
      "text/plain": [
       "-y² + y"
      ]
     },
     "execution_count": 29,
     "metadata": {},
     "output_type": "execute_result"
    }
   ],
   "source": [
    "polyreduce(polyreduce(spoly(x-y,  x^2 - x ), [   x^3 - y , x^2 - x  , x - y]), [   x^3 - y , x^2 - x  , x - y])"
   ]
  },
  {
   "cell_type": "code",
   "execution_count": 11,
   "metadata": {},
   "outputs": [
    {
     "data": {
      "text/latex": [
       "$$ -y^{3} + xy $$"
      ],
      "text/plain": [
       "-y³ + xy"
      ]
     },
     "execution_count": 11,
     "metadata": {},
     "output_type": "execute_result"
    }
   ],
   "source": [
    "spoly(x-y,  -y^2 + y )"
   ]
  },
  {
   "cell_type": "code",
   "execution_count": 19,
   "metadata": {},
   "outputs": [
    {
     "data": {
      "text/plain": [
       "4-element Array{Polynomial{true,Int64},1}:\n",
       " x³ - y\n",
       " x² - x\n",
       " -y² - y\n",
       " x - y"
      ]
     },
     "execution_count": 19,
     "metadata": {},
     "output_type": "execute_result"
    }
   ],
   "source": [
    "rs =[   x^3 - y , x^2 - x  , x - y, -y^2-y]\n",
    "rs = sort(rs, rev=true, lt = (x, y) -> leadingmonomial(x) <= leadingmonomial(y))"
   ]
  },
  {
   "cell_type": "code",
   "execution_count": 22,
   "metadata": {},
   "outputs": [
    {
     "data": {
      "text/plain": [
       "(y, y² - y)"
      ]
     },
     "execution_count": 22,
     "metadata": {},
     "output_type": "execute_result"
    }
   ],
   "source": [
    "divrem(spoly(x-y,  -y^2 + y ), -y^2 - y)\n",
    "divrem(x*y - y, x - y)"
   ]
  },
  {
   "cell_type": "code",
   "execution_count": 14,
   "metadata": {},
   "outputs": [
    {
     "data": {
      "text/latex": [
       "$$ -2.0y $$"
      ],
      "text/plain": [
       "-2.0y"
      ]
     },
     "execution_count": 14,
     "metadata": {},
     "output_type": "execute_result"
    }
   ],
   "source": [
    "polyreduce(polyreduce(polyreduce(spoly(x-y,  -y^2 + y ), [   x^3 - y , x^2 - x  , x - y, -y^2-y]),[   x^3 - y , x^2 - x  , x - y, -y^2-y]), [   x^3 - y , x^2 - x  , x - y, -y^2-y])"
   ]
  },
  {
   "cell_type": "code",
   "execution_count": 7,
   "metadata": {},
   "outputs": [
    {
     "data": {
      "text/plain": [
       "false"
      ]
     },
     "execution_count": 7,
     "metadata": {},
     "output_type": "execute_result"
    }
   ],
   "source": [
    "p = -y^2 + y\n",
    "q = -y^2 + y\n",
    "    pq = lcm(leadingmonomial(p),leadingmonomial(q))\n",
    "   !iszero( div(  pq , leadingterm(p) ) * p - div(pq , leadingterm(q)) * q)\n"
   ]
  },
  {
   "cell_type": "code",
   "execution_count": 46,
   "metadata": {},
   "outputs": [
    {
     "name": "stdout",
     "output_type": "stream",
     "text": [
      "Polynomial{true,Int64}[y² - y, x - y]y^2 - y\n",
      "x^3 - y\n",
      "x^3 - y\n",
      "Polynomial{true,Float64}\n",
      "  a: Array{Float64}((2,)) [1.0, -1.0]\n",
      "  x: MonomialVector{true}\n",
      "    vars: Array{PolyVar{true}}((2,))\n",
      "      1: PolyVar{true}\n",
      "        id: Int64 271\n",
      "        name: String \"x\"\n",
      "      2: PolyVar{true}\n",
      "        id: Int64 272\n",
      "        name: String \"y\"\n",
      "    Z: Array{Array{Int64,1}}((2,))\n",
      "      1: Array{Int64}((2,)) [3, 0]\n",
      "      2: Array{Int64}((2,)) [0, 1]\n",
      "x - y\n",
      "x^3 - y\n",
      "y^3 - y\n",
      "Polynomial{true,Float64}\n",
      "  a: Array{Float64}((2,)) [1.0, -1.0]\n",
      "  x: MonomialVector{true}\n",
      "    vars: Array{PolyVar{true}}((2,))\n",
      "      1: PolyVar{true}\n",
      "        id: Int64 271\n",
      "        name: String \"x\"\n",
      "      2: PolyVar{true}\n",
      "        id: Int64 272\n",
      "        name: String \"y\"\n",
      "    Z: Array{Array{Int64,1}}((2,))\n",
      "      1: Array{Int64}((2,)) [0, 3]\n",
      "      2: Array{Int64}((2,)) [0, 1]\n"
     ]
    },
    {
     "data": {
      "text/latex": [
       "$$ y^{3} - y $$"
      ],
      "text/plain": [
       "y³ - y"
      ]
     },
     "execution_count": 46,
     "metadata": {},
     "output_type": "execute_result"
    }
   ],
   "source": [
    "polyreduce(x^3 - y, res)"
   ]
  },
  {
   "cell_type": "code",
   "execution_count": 49,
   "metadata": {},
   "outputs": [
    {
     "data": {
      "text/plain": [
       "true"
      ]
     },
     "execution_count": 49,
     "metadata": {},
     "output_type": "execute_result"
    }
   ],
   "source": [
    "x <= y^2"
   ]
  },
  {
   "cell_type": "code",
   "execution_count": 32,
   "metadata": {},
   "outputs": [
    {
     "data": {
      "text/plain": [
       "(y + 1.0, 0.0)"
      ]
     },
     "execution_count": 32,
     "metadata": {},
     "output_type": "execute_result"
    }
   ],
   "source": [
    "divrem(x^3 - y, res[1])\n",
    "divrem(y^3 - y, res[2])"
   ]
  },
  {
   "cell_type": "code",
   "execution_count": 89,
   "metadata": {},
   "outputs": [
    {
     "data": {
      "text/plain": [
       "2-element Array{Polynomial{true,Int64},1}:\n",
       " 2x + 7\n",
       " 2x + 7"
      ]
     },
     "execution_count": 89,
     "metadata": {},
     "output_type": "execute_result"
    }
   ],
   "source": [
    "push!([2x + 7],2x + 7)"
   ]
  },
  {
   "cell_type": "code",
   "execution_count": 82,
   "metadata": {},
   "outputs": [
    {
     "ename": "BoundsError",
     "evalue": "BoundsError: attempt to access 1×3 Array{Int64,2} at index [4]",
     "output_type": "error",
     "traceback": [
      "BoundsError: attempt to access 1×3 Array{Int64,2} at index [4]",
      "",
      "Stacktrace:",
      " [1] getindex(::Array{Int64,2}, ::Int64) at ./array.jl:788",
      " [2] top-level scope at In[82]:1"
     ]
    }
   ],
   "source": [
    "[1 2 3 ][4]"
   ]
  },
  {
   "cell_type": "markdown",
   "metadata": {},
   "source": [
    "def buchberger(F, reduced=True):\n",
    "    \"\"\"Toy implementation of Buchberger algorithm. \"\"\"\n",
    "    G, pairs = list(F), set([])\n",
    "\n",
    "    for i, f1 in enumerate(F):\n",
    "        for f2 in F[i+1:]:\n",
    "            pairs.add((f1, f2))\n",
    "\n",
    "    while pairs:\n",
    "        f1, f2 = pairs.popitem()\n",
    "\n",
    "        s = s_polynomial(f1, f2)\n",
    "        _, h = reduced(s, G)\n",
    "\n",
    "        if h != 0:\n",
    "            for g in G:\n",
    "                pairs.add((g, h))\n",
    "\n",
    "            G.append(g)\n",
    "\n",
    "    if reduced:\n",
    "        for i, g in enumerate(G):\n",
    "            _, G[i] = reduced(g, G[:i] + G[i+1:])\n",
    "\n",
    "        G = map(monic, G)\n",
    "\n",
    "    return G\n",
    "    \n",
    " https://mattpap.github.io/masters-thesis/html/src/groebner.html\n",
    " \n",
    " https://scicomp.stackexchange.com/questions/21699/benchmarks-for-gr%c3%b6bner-bases-and-polynomial-system-solution\n",
    " \n",
    " https://mathoverflow.net/questions/322518/computing-groebner-basis-for-a-complicated-systems-of-polynomials"
   ]
  },
  {
   "cell_type": "code",
   "execution_count": null,
   "metadata": {},
   "outputs": [],
   "source": []
  },
  {
   "cell_type": "code",
   "execution_count": 16,
   "metadata": {},
   "outputs": [
    {
     "data": {
      "text/plain": [
       "3-element Array{Int64,1}:\n",
       " 2\n",
       " 1\n",
       " 3"
      ]
     },
     "execution_count": 16,
     "metadata": {},
     "output_type": "execute_result"
    }
   ],
   "source": [
    "sortperm( [ [3,4] ,[1,1] , [4,5,6]   ])"
   ]
  },
  {
   "cell_type": "code",
   "execution_count": 17,
   "metadata": {},
   "outputs": [
    {
     "data": {
      "text/html": [
       "# 8 methods for generic function <b>sort</b>:<ul><li> sort(r::<b>AbstractUnitRange</b>) in Base at <a href=\"https://github.com/JuliaLang/julia/tree/381693d3dfc9b7072707f6d544f82f6637fc5e7c/base/range.jl#L969\" target=\"_blank\">range.jl:969</a></li> <li> sort(r::<b>AbstractRange</b>) in Base at <a href=\"https://github.com/JuliaLang/julia/tree/381693d3dfc9b7072707f6d544f82f6637fc5e7c/base/range.jl#L972\" target=\"_blank\">range.jl:972</a></li> <li> sort(x::<b>SparseArrays.SparseVector{Tv,Ti}</b>; <i>kws...</i>)<i> where {Tv, Ti}</i> in SparseArrays at <a href=\"file:///buildworker/worker/package_linux64/build/usr/share/julia/stdlib/v1.4/SparseArrays/src/sparsevector.jl\" target=\"_blank\">/home/philip/Downloads/julia-1.4.1/share/julia/stdlib/v1.4/SparseArrays/src/sparsevector.jl:1914</a></li> <li> sort(v::<b>AbstractArray{T,1} where T</b>; <i>kws...</i>) in Base.Sort at <a href=\"https://github.com/JuliaLang/julia/tree/381693d3dfc9b7072707f6d544f82f6637fc5e7c/base/sort.jl#L763\" target=\"_blank\">sort.jl:763</a></li> <li> sort(A::<b>AbstractArray</b>; <i>dims, alg, lt, by, rev, order</i>) in Base.Sort at <a href=\"https://github.com/JuliaLang/julia/tree/381693d3dfc9b7072707f6d544f82f6637fc5e7c/base/sort.jl#L1028\" target=\"_blank\">sort.jl:1028</a></li> <li> sort(d::<b>OrderedCollections.OrderedDict</b>; <i>args...</i>) in OrderedCollections at <a href=\"file:///home/philip/.julia/packages/OrderedCollections/b4td4/src/dict_sorting.jl\" target=\"_blank\">/home/philip/.julia/packages/OrderedCollections/b4td4/src/dict_sorting.jl:20</a></li> <li> sort(d::<b>Dict</b>; <i>args...</i>) in OrderedCollections at <a href=\"file:///home/philip/Downloads/julia-1.4.1/bin/../share/julia/base/deprecated.jl\" target=\"_blank\">deprecated.jl:65</a></li> <li> sort(d::<b>OrderedCollections.LittleDict</b>; <i>byvalue, args...</i>) in OrderedCollections at <a href=\"file:///home/philip/.julia/packages/OrderedCollections/b4td4/src/dict_sorting.jl\" target=\"_blank\">/home/philip/.julia/packages/OrderedCollections/b4td4/src/dict_sorting.jl:24</a></li> </ul>"
      ],
      "text/plain": [
       "# 8 methods for generic function \"sort\":\n",
       "[1] sort(r::AbstractUnitRange) in Base at range.jl:969\n",
       "[2] sort(r::AbstractRange) in Base at range.jl:972\n",
       "[3] sort(x::SparseArrays.SparseVector{Tv,Ti}; kws...) where {Tv, Ti} in SparseArrays at /home/philip/Downloads/julia-1.4.1/share/julia/stdlib/v1.4/SparseArrays/src/sparsevector.jl:1914\n",
       "[4] sort(v::AbstractArray{T,1} where T; kws...) in Base.Sort at sort.jl:763\n",
       "[5] sort(A::AbstractArray; dims, alg, lt, by, rev, order) in Base.Sort at sort.jl:1028\n",
       "[6] sort(d::OrderedCollections.OrderedDict; args...) in OrderedCollections at /home/philip/.julia/packages/OrderedCollections/b4td4/src/dict_sorting.jl:20\n",
       "[7] sort(d::Dict; args...) in OrderedCollections at deprecated.jl:65\n",
       "[8] sort(d::OrderedCollections.LittleDict; byvalue, args...) in OrderedCollections at /home/philip/.julia/packages/OrderedCollections/b4td4/src/dict_sorting.jl:24"
      ]
     },
     "execution_count": 17,
     "metadata": {},
     "output_type": "execute_result"
    }
   ],
   "source": [
    "methods(sort)"
   ]
  },
  {
   "cell_type": "code",
   "execution_count": 15,
   "metadata": {},
   "outputs": [
    {
     "name": "stdout",
     "output_type": "stream",
     "text": [
      "search: \u001b[0m\u001b[1ms\u001b[22m\u001b[0m\u001b[1mo\u001b[22m\u001b[0m\u001b[1mr\u001b[22m\u001b[0m\u001b[1mt\u001b[22m\u001b[0m\u001b[1mp\u001b[22m\u001b[0m\u001b[1me\u001b[22m\u001b[0m\u001b[1mr\u001b[22m\u001b[0m\u001b[1mm\u001b[22m \u001b[0m\u001b[1ms\u001b[22m\u001b[0m\u001b[1mo\u001b[22m\u001b[0m\u001b[1mr\u001b[22m\u001b[0m\u001b[1mt\u001b[22m\u001b[0m\u001b[1mp\u001b[22m\u001b[0m\u001b[1me\u001b[22m\u001b[0m\u001b[1mr\u001b[22m\u001b[0m\u001b[1mm\u001b[22m! partial\u001b[0m\u001b[1ms\u001b[22m\u001b[0m\u001b[1mo\u001b[22m\u001b[0m\u001b[1mr\u001b[22m\u001b[0m\u001b[1mt\u001b[22m\u001b[0m\u001b[1mp\u001b[22m\u001b[0m\u001b[1me\u001b[22m\u001b[0m\u001b[1mr\u001b[22m\u001b[0m\u001b[1mm\u001b[22m partial\u001b[0m\u001b[1ms\u001b[22m\u001b[0m\u001b[1mo\u001b[22m\u001b[0m\u001b[1mr\u001b[22m\u001b[0m\u001b[1mt\u001b[22m\u001b[0m\u001b[1mp\u001b[22m\u001b[0m\u001b[1me\u001b[22m\u001b[0m\u001b[1mr\u001b[22m\u001b[0m\u001b[1mm\u001b[22m! i\u001b[0m\u001b[1ms\u001b[22mc\u001b[0m\u001b[1mo\u001b[22mnc\u001b[0m\u001b[1mr\u001b[22me\u001b[0m\u001b[1mt\u001b[22mety\u001b[0m\u001b[1mp\u001b[22m\u001b[0m\u001b[1me\u001b[22m\n",
      "\n"
     ]
    },
    {
     "data": {
      "text/latex": [
       "\\begin{verbatim}\n",
       "sortperm(v; alg::Algorithm=DEFAULT_UNSTABLE, lt=isless, by=identity, rev::Bool=false, order::Ordering=Forward)\n",
       "\\end{verbatim}\n",
       "Return a permutation vector \\texttt{I} that puts \\texttt{v[I]} in sorted order. The order is specified using the same keywords as \\href{@ref}{\\texttt{sort!}}. The permutation is guaranteed to be stable even if the sorting algorithm is unstable, meaning that indices of equal elements appear in ascending order.\n",
       "\n",
       "See also \\href{@ref}{\\texttt{sortperm!}}.\n",
       "\n",
       "\\section{Examples}\n",
       "\\begin{verbatim}\n",
       "julia> v = [3, 1, 2];\n",
       "\n",
       "julia> p = sortperm(v)\n",
       "3-element Array{Int64,1}:\n",
       " 2\n",
       " 3\n",
       " 1\n",
       "\n",
       "julia> v[p]\n",
       "3-element Array{Int64,1}:\n",
       " 1\n",
       " 2\n",
       " 3\n",
       "\\end{verbatim}\n"
      ],
      "text/markdown": [
       "```\n",
       "sortperm(v; alg::Algorithm=DEFAULT_UNSTABLE, lt=isless, by=identity, rev::Bool=false, order::Ordering=Forward)\n",
       "```\n",
       "\n",
       "Return a permutation vector `I` that puts `v[I]` in sorted order. The order is specified using the same keywords as [`sort!`](@ref). The permutation is guaranteed to be stable even if the sorting algorithm is unstable, meaning that indices of equal elements appear in ascending order.\n",
       "\n",
       "See also [`sortperm!`](@ref).\n",
       "\n",
       "# Examples\n",
       "\n",
       "```jldoctest\n",
       "julia> v = [3, 1, 2];\n",
       "\n",
       "julia> p = sortperm(v)\n",
       "3-element Array{Int64,1}:\n",
       " 2\n",
       " 3\n",
       " 1\n",
       "\n",
       "julia> v[p]\n",
       "3-element Array{Int64,1}:\n",
       " 1\n",
       " 2\n",
       " 3\n",
       "```\n"
      ],
      "text/plain": [
       "\u001b[36m  sortperm(v; alg::Algorithm=DEFAULT_UNSTABLE, lt=isless, by=identity, rev::Bool=false, order::Ordering=Forward)\u001b[39m\n",
       "\n",
       "  Return a permutation vector \u001b[36mI\u001b[39m that puts \u001b[36mv[I]\u001b[39m in sorted order. The order is\n",
       "  specified using the same keywords as \u001b[36msort!\u001b[39m. The permutation is guaranteed to\n",
       "  be stable even if the sorting algorithm is unstable, meaning that indices of\n",
       "  equal elements appear in ascending order.\n",
       "\n",
       "  See also \u001b[36msortperm!\u001b[39m.\n",
       "\n",
       "\u001b[1m  Examples\u001b[22m\n",
       "\u001b[1m  ≡≡≡≡≡≡≡≡≡≡\u001b[22m\n",
       "\n",
       "\u001b[36m  julia> v = [3, 1, 2];\u001b[39m\n",
       "\u001b[36m  \u001b[39m\n",
       "\u001b[36m  julia> p = sortperm(v)\u001b[39m\n",
       "\u001b[36m  3-element Array{Int64,1}:\u001b[39m\n",
       "\u001b[36m   2\u001b[39m\n",
       "\u001b[36m   3\u001b[39m\n",
       "\u001b[36m   1\u001b[39m\n",
       "\u001b[36m  \u001b[39m\n",
       "\u001b[36m  julia> v[p]\u001b[39m\n",
       "\u001b[36m  3-element Array{Int64,1}:\u001b[39m\n",
       "\u001b[36m   1\u001b[39m\n",
       "\u001b[36m   2\u001b[39m\n",
       "\u001b[36m   3\u001b[39m"
      ]
     },
     "execution_count": 15,
     "metadata": {},
     "output_type": "execute_result"
    }
   ],
   "source": [
    "?sortperm"
   ]
  },
  {
   "cell_type": "code",
   "execution_count": null,
   "metadata": {},
   "outputs": [],
   "source": []
  }
 ],
 "metadata": {
  "kernelspec": {
   "display_name": "Julia 1.4.1",
   "language": "julia",
   "name": "julia-1.4"
  },
  "language_info": {
   "file_extension": ".jl",
   "mimetype": "application/julia",
   "name": "julia",
   "version": "1.4.1"
  }
 },
 "nbformat": 4,
 "nbformat_minor": 4
}
