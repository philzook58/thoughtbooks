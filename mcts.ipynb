{
 "cells": [
  {
   "cell_type": "markdown",
   "metadata": {},
   "source": [
    "Monte carlo tree search.\n",
    "How do we do it in general\n",
    "Can i make a minikanren like thing or prolog like thing?\n",
    "\n",
    "start without nueral networks at all. Fuck 'em.\n",
    "\n",
    "\n",
    "What can the netowrk ingest?\n",
    "symbol counts\n",
    "symbol diffs of moves.\n",
    "\n",
    "nueral kanren\n",
    "\n",
    "\n",
    "Folding trees.\n",
    "\n",
    "Baby idea:\n",
    "One hot encode 0 - 10. leanr their values\n",
    "Make a folding network\n",
    "\n",
    "learn function\n",
    "f a -> a\n",
    "\n",
    "[ 0 1 2 3 4 5 6 7   ]\n",
    "data Aexpr = Plus | Mul | Lit\n",
    "\n",
    "run it.\n",
    "infer meaning of plus and mul\n",
    "\n",
    "ABexpr = ifthen \n",
    "\n",
    "\n",
    "(y - cata f)**2\n",
    "\n",
    "\n",
    "turn a fold into an unfold?\n",
    "a -> f a\n",
    "\n",
    "\n",
    "\n",
    "fold over proof term - can I infer a checker?\n",
    "\n",
    "\n"
   ]
  }
 ],
 "metadata": {
  "kernelspec": {
   "display_name": "Python 3",
   "language": "python",
   "name": "python3"
  },
  "language_info": {
   "codemirror_mode": {
    "name": "ipython",
    "version": 3
   },
   "file_extension": ".py",
   "mimetype": "text/x-python",
   "name": "python",
   "nbconvert_exporter": "python",
   "pygments_lexer": "ipython3",
   "version": "3.8.5"
  }
 },
 "nbformat": 4,
 "nbformat_minor": 4
}
